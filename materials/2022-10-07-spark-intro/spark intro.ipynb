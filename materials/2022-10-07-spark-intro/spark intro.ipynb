{
 "cells": [
  {
   "cell_type": "markdown",
   "metadata": {},
   "source": [
    "## Сергей Гришаев\n",
    "## Architect @ SberMarket"
   ]
  },
  {
   "cell_type": "code",
   "execution_count": null,
   "metadata": {},
   "outputs": [],
   "source": [
    "from IPython.display import IFrame, Image"
   ]
  },
  {
   "cell_type": "markdown",
   "metadata": {},
   "source": [
    "## Мотивация создания Apache Spark"
   ]
  },
  {
   "cell_type": "markdown",
   "metadata": {},
   "source": [
    "### Рассмотрим два примера приложений:\n",
    "- Обучить модель на больших данных (итеративный алгоритм над фиксированным датасетом)\n",
    "- Провести ad-hoc анализ данных из двух таблиц (выполнить несколько интерактивных запросов с джойнами и группировками)"
   ]
  },
  {
   "cell_type": "markdown",
   "metadata": {},
   "source": [
    "## Основные недостатки классического MapReduce\n",
    "\n",
    "- Постоянное чтение/запись во внешнее хранилище\n",
    "- Сложный API\n",
    "- Ограниченное число источников/приемников данных\n",
    "- MapReduce - это только вычислительный фреймворк\n",
    "\n",
    "https://arxiv.org/pdf/1209.2191.pdf MapReduce is Good Enough? If All You Have is a Hammer, Throw Away Everything That’s Not a Nail! "
   ]
  },
  {
   "cell_type": "markdown",
   "metadata": {},
   "source": [
    "<img src=\"pics/mapper_2.png\" width=700/>"
   ]
  },
  {
   "cell_type": "markdown",
   "metadata": {},
   "source": [
    "<img src=\"pics/reducer.png\" width=700/>"
   ]
  },
  {
   "cell_type": "markdown",
   "metadata": {},
   "source": [
    "## Apache Spark - это *быстрая* распределенная вычислительная платформа *общего назначения*\n",
    "\n",
    "1. **Быстрая** \n",
    "\n",
    "    - Кеширование рабочих данных в памяти\n",
    "    - Ленивые вычисления\n",
    "\n",
    "\n",
    "2. **Общего назначения** \n",
    "\n",
    "    - Можно реализовать любые вычисления (батчевые, итеративные, интерактивные, в режиме реального времени)\n",
    "    - Более общая модель программирования (узлы в графе вычислений могут быть не только map и reduce)\n",
    "    - Высокоуровневый API (Scala, Java, Python, R)\n",
    "    - Локальная установка\n",
    "\n"
   ]
  },
  {
   "cell_type": "markdown",
   "metadata": {},
   "source": [
    "<img src=\"pics/spark_stack.png\" width=1000/>"
   ]
  },
  {
   "cell_type": "markdown",
   "metadata": {},
   "source": [
    "## Множество источников данных"
   ]
  },
  {
   "cell_type": "markdown",
   "metadata": {},
   "source": [
    "<img src=\"pics/spark_data_sources.jpg\" width=1000/>"
   ]
  },
  {
   "cell_type": "markdown",
   "metadata": {},
   "source": [
    "## Архитектура Apache Spark"
   ]
  },
  {
   "cell_type": "markdown",
   "metadata": {},
   "source": [
    "<img src=\"pics/SparkYARN.png\" width=800/>"
   ]
  },
  {
   "cell_type": "markdown",
   "metadata": {},
   "source": [
    "## Запуск в локальном режиме"
   ]
  },
  {
   "cell_type": "markdown",
   "metadata": {},
   "source": [
    "<img src=\"pics/schema_local_2.png\" width=600/>"
   ]
  },
  {
   "cell_type": "markdown",
   "metadata": {},
   "source": [
    "## Запуск PySpark"
   ]
  },
  {
   "cell_type": "code",
   "execution_count": 1,
   "metadata": {},
   "outputs": [],
   "source": [
    "import os\n",
    "import sys\n",
    "os.environ[\"PYSPARK_PYTHON\"]='/opt/anaconda/envs/bd9/bin/python'\n",
    "os.environ[\"SPARK_HOME\"]='/usr/hdp/current/spark2-client'\n",
    "os.environ[\"PYSPARK_SUBMIT_ARGS\"]='--num-executors 3 pyspark-shell'\n",
    "\n",
    "spark_home = os.environ.get('SPARK_HOME', None)\n",
    "\n",
    "sys.path.insert(0, os.path.join(spark_home, 'python'))\n",
    "sys.path.insert(0, os.path.join(spark_home, 'python/lib/py4j-0.10.7-src.zip'))\n"
   ]
  },
  {
   "cell_type": "markdown",
   "metadata": {},
   "source": [
    "## SparkContext (sc) - это основной управляющий объект."
   ]
  },
  {
   "cell_type": "code",
   "execution_count": 2,
   "metadata": {},
   "outputs": [],
   "source": [
    "from pyspark import SparkContext, SparkConf\n",
    "\n",
    "config = SparkConf()\n",
    "config.set(\"spark.app.name\", \"Sergey Grishaev Spark RDD app\")\n",
    "\n",
    "sc = SparkContext(conf=config)"
   ]
  },
  {
   "cell_type": "markdown",
   "metadata": {},
   "source": [
    "## Для получения всех установленных опций конфигурации можно использовать `sc.getConf()`"
   ]
  },
  {
   "cell_type": "code",
   "execution_count": 3,
   "metadata": {},
   "outputs": [
    {
     "data": {
      "text/html": [
       "\n",
       "        <div>\n",
       "            <p><b>SparkContext</b></p>\n",
       "\n",
       "            <p><a href=\"http://spark-master-6.newprolab.com:4045\">Spark UI</a></p>\n",
       "\n",
       "            <dl>\n",
       "              <dt>Version</dt>\n",
       "                <dd><code>v2.4.7</code></dd>\n",
       "              <dt>Master</dt>\n",
       "                <dd><code>yarn</code></dd>\n",
       "              <dt>AppName</dt>\n",
       "                <dd><code>Sergey Grishaev Spark RDD app</code></dd>\n",
       "            </dl>\n",
       "        </div>\n",
       "        "
      ],
      "text/plain": [
       "<SparkContext master=yarn appName=Sergey Grishaev Spark RDD app>"
      ]
     },
     "execution_count": 3,
     "metadata": {},
     "output_type": "execute_result"
    }
   ],
   "source": [
    "sc"
   ]
  },
  {
   "cell_type": "code",
   "execution_count": 4,
   "metadata": {
    "scrolled": true
   },
   "outputs": [
    {
     "data": {
      "text/plain": [
       "[('spark.history.kerberos.keytab', 'none'),\n",
       " ('spark.eventLog.enabled', 'true'),\n",
       " ('spark.history.fs.cleaner.maxAge', '7d'),\n",
       " ('spark.history.ui.port', '18081'),\n",
       " ('spark.driver.extraLibraryPath',\n",
       "  '/usr/hdp/current/hadoop-client/lib/native:/usr/hdp/current/hadoop-client/lib/native/Linux-amd64-64'),\n",
       " ('spark.shuffle.io.serverThreads', '128'),\n",
       " ('spark.sql.streaming.streamingQueryListeners', ''),\n",
       " ('spark.executor.extraLibraryPath',\n",
       "  '/usr/hdp/current/hadoop-client/lib/native:/usr/hdp/current/hadoop-client/lib/native/Linux-amd64-64'),\n",
       " ('spark.driver.host', 'spark-master-6.newprolab.com'),\n",
       " ('spark.jars.repositories', 'https://repos.spark-packages.org/'),\n",
       " ('spark.shuffle.file.buffer', '1m'),\n",
       " ('spark.sql.hive.convertMetastoreOrc', 'true'),\n",
       " ('spark.yarn.dist.files', ''),\n",
       " ('spark.sql.autoBroadcastJoinThreshold', '26214400'),\n",
       " ('spark.history.fs.cleaner.interval', '1d'),\n",
       " ('spark.ui.filters',\n",
       "  'org.apache.hadoop.yarn.server.webproxy.amfilter.AmIpFilter'),\n",
       " ('spark.eventLog.dir', 'hdfs:///spark2-history/'),\n",
       " ('spark.yarn.historyServer.address', 'spark-master-1.newprolab.com:18081'),\n",
       " ('spark.executor.id', 'driver'),\n",
       " ('spark.sql.orc.impl', 'native'),\n",
       " ('spark.history.fs.logDirectory', 'hdfs:///spark2-history/'),\n",
       " ('spark.driver.appUIAddress', 'http://spark-master-6.newprolab.com:4045'),\n",
       " ('spark.org.apache.hadoop.yarn.server.webproxy.amfilter.AmIpFilter.param.PROXY_URI_BASES',\n",
       "  'http://spark-master-1.newprolab.com:8088/proxy/application_1665123529459_0088'),\n",
       " ('spark.org.apache.hadoop.yarn.server.webproxy.amfilter.AmIpFilter.param.PROXY_HOSTS',\n",
       "  'spark-master-1.newprolab.com'),\n",
       " ('spark.submit.pyFiles',\n",
       "  '/data/home/teacher2/.ivy2/jars/org.apache.spark_spark-sql-kafka-0-10_2.11-2.4.7.jar,/data/home/teacher2/.ivy2/jars/graphframes_graphframes-0.8.1-spark2.4-s_2.11.jar,/data/home/teacher2/.ivy2/jars/databricks_spark-sklearn-0.2.3.jar,/data/home/teacher2/.ivy2/jars/org.apache.kafka_kafka-clients-2.0.0.jar,/data/home/teacher2/.ivy2/jars/org.spark-project.spark_unused-1.0.0.jar,/data/home/teacher2/.ivy2/jars/org.lz4_lz4-java-1.4.0.jar,/data/home/teacher2/.ivy2/jars/org.xerial.snappy_snappy-java-1.1.7.5.jar,/data/home/teacher2/.ivy2/jars/org.slf4j_slf4j-api-1.7.16.jar'),\n",
       " ('spark.extraListeners', ''),\n",
       " ('spark.executorEnv.PYTHONPATH',\n",
       "  '{{PWD}}/pyspark.zip<CPS>{{PWD}}/py4j-0.10.7-src.zip<CPS>{{PWD}}/org.apache.spark_spark-sql-kafka-0-10_2.11-2.4.7.jar<CPS>{{PWD}}/graphframes_graphframes-0.8.1-spark2.4-s_2.11.jar<CPS>{{PWD}}/databricks_spark-sklearn-0.2.3.jar<CPS>{{PWD}}/org.apache.kafka_kafka-clients-2.0.0.jar<CPS>{{PWD}}/org.spark-project.spark_unused-1.0.0.jar<CPS>{{PWD}}/org.lz4_lz4-java-1.4.0.jar<CPS>{{PWD}}/org.xerial.snappy_snappy-java-1.1.7.5.jar<CPS>{{PWD}}/org.slf4j_slf4j-api-1.7.16.jar'),\n",
       " ('spark.sql.warehouse.dir', '/apps/spark/warehouse'),\n",
       " ('spark.history.store.path', '/var/lib/spark2/shs_db'),\n",
       " ('spark.port.maxRetries', '100'),\n",
       " ('spark.executor.instances', '3'),\n",
       " ('spark.ui.proxyBase', '/proxy/application_1665123529459_0088'),\n",
       " ('spark.yarn.secondary.jars',\n",
       "  'org.apache.spark_spark-sql-kafka-0-10_2.11-2.4.7.jar,graphframes_graphframes-0.8.1-spark2.4-s_2.11.jar,databricks_spark-sklearn-0.2.3.jar,org.apache.kafka_kafka-clients-2.0.0.jar,org.spark-project.spark_unused-1.0.0.jar,org.lz4_lz4-java-1.4.0.jar,org.xerial.snappy_snappy-java-1.1.7.5.jar,org.slf4j_slf4j-api-1.7.16.jar'),\n",
       " ('spark.sql.statistics.fallBackToHdfs', 'true'),\n",
       " ('spark.app.name', 'Sergey Grishaev Spark RDD app'),\n",
       " ('spark.driver.port', '43991'),\n",
       " ('spark.history.provider',\n",
       "  'org.apache.spark.deploy.history.FsHistoryProvider'),\n",
       " ('spark.serializer.objectStreamReset', '100'),\n",
       " ('spark.submit.deployMode', 'client'),\n",
       " ('spark.driver.extraClassPath', ''),\n",
       " ('spark.sql.hive.metastore.jars',\n",
       "  '/usr/hdp/current/spark2-client/standalone-metastore/*'),\n",
       " ('spark.yarn.queue', 'default'),\n",
       " ('spark.history.fs.cleaner.enabled', 'true'),\n",
       " ('spark.sql.queryExecutionListeners', ''),\n",
       " ('spark.repl.local.jars',\n",
       "  'file:///data/home/teacher2/.ivy2/jars/org.apache.spark_spark-sql-kafka-0-10_2.11-2.4.7.jar,file:///data/home/teacher2/.ivy2/jars/graphframes_graphframes-0.8.1-spark2.4-s_2.11.jar,file:///data/home/teacher2/.ivy2/jars/databricks_spark-sklearn-0.2.3.jar,file:///data/home/teacher2/.ivy2/jars/org.apache.kafka_kafka-clients-2.0.0.jar,file:///data/home/teacher2/.ivy2/jars/org.spark-project.spark_unused-1.0.0.jar,file:///data/home/teacher2/.ivy2/jars/org.lz4_lz4-java-1.4.0.jar,file:///data/home/teacher2/.ivy2/jars/org.xerial.snappy_snappy-java-1.1.7.5.jar,file:///data/home/teacher2/.ivy2/jars/org.slf4j_slf4j-api-1.7.16.jar'),\n",
       " ('spark.app.id', 'application_1665123529459_0088'),\n",
       " ('spark.master', 'yarn'),\n",
       " ('spark.io.compression.lz4.blockSize', '128kb'),\n",
       " ('spark.history.kerberos.principal', 'none'),\n",
       " ('spark.jars.packages',\n",
       "  'org.apache.spark:spark-sql-kafka-0-10_2.11:2.4.7,graphframes:graphframes:0.8.1-spark2.4-s_2.11,databricks:spark-sklearn:0.2.3'),\n",
       " ('spark.rdd.compress', 'True'),\n",
       " ('spark.sql.orc.filterPushdown', 'true'),\n",
       " ('spark.shuffle.io.backLog', '8192'),\n",
       " ('spark.unsafe.sorter.spill.reader.buffer.size', '1m'),\n",
       " ('spark.yarn.isPython', 'true'),\n",
       " ('spark.shuffle.unsafe.file.output.buffer', '5m'),\n",
       " ('spark.executor.extraJavaOptions', '-XX:+UseNUMA'),\n",
       " ('spark.yarn.dist.pyFiles',\n",
       "  'file:///data/home/teacher2/.ivy2/jars/org.apache.spark_spark-sql-kafka-0-10_2.11-2.4.7.jar,file:///data/home/teacher2/.ivy2/jars/graphframes_graphframes-0.8.1-spark2.4-s_2.11.jar,file:///data/home/teacher2/.ivy2/jars/databricks_spark-sklearn-0.2.3.jar,file:///data/home/teacher2/.ivy2/jars/org.apache.kafka_kafka-clients-2.0.0.jar,file:///data/home/teacher2/.ivy2/jars/org.spark-project.spark_unused-1.0.0.jar,file:///data/home/teacher2/.ivy2/jars/org.lz4_lz4-java-1.4.0.jar,file:///data/home/teacher2/.ivy2/jars/org.xerial.snappy_snappy-java-1.1.7.5.jar,file:///data/home/teacher2/.ivy2/jars/org.slf4j_slf4j-api-1.7.16.jar'),\n",
       " ('spark.ui.showConsoleProgress', 'true'),\n",
       " ('spark.yarn.dist.jars',\n",
       "  'file:///data/home/teacher2/.ivy2/jars/org.apache.spark_spark-sql-kafka-0-10_2.11-2.4.7.jar,file:///data/home/teacher2/.ivy2/jars/graphframes_graphframes-0.8.1-spark2.4-s_2.11.jar,file:///data/home/teacher2/.ivy2/jars/databricks_spark-sklearn-0.2.3.jar,file:///data/home/teacher2/.ivy2/jars/org.apache.kafka_kafka-clients-2.0.0.jar,file:///data/home/teacher2/.ivy2/jars/org.spark-project.spark_unused-1.0.0.jar,file:///data/home/teacher2/.ivy2/jars/org.lz4_lz4-java-1.4.0.jar,file:///data/home/teacher2/.ivy2/jars/org.xerial.snappy_snappy-java-1.1.7.5.jar,file:///data/home/teacher2/.ivy2/jars/org.slf4j_slf4j-api-1.7.16.jar'),\n",
       " ('spark.sql.hive.metastore.version', '3.0')]"
      ]
     },
     "execution_count": 4,
     "metadata": {},
     "output_type": "execute_result"
    }
   ],
   "source": [
    "sc.getConf().getAll()"
   ]
  },
  {
   "cell_type": "markdown",
   "metadata": {},
   "source": [
    "## Основные абстракции Spark\n",
    "- RDD - Resilient Distributed Dataset - представляет собой распределенную коллекцию данных. RDD обладает свойствами \n",
    "    - неизменяемости (операции над RDD приводят к созданию нового RDD) \n",
    "    - отказоустойчивости (в случае утери данных на каком либо шаге выполнения данные восстанавливаются из источника) \n",
    "    - поддерживает ленивые вычисления (вычисления не производятся если их результат не сохраняется во вне или не используется в других вычислениях)\n",
    "- DAG - Directed Acyclic Graph - Представляет собой набор вершин и ребер, где вершины представляют собой RDD, а ребра операции над RDD"
   ]
  },
  {
   "cell_type": "markdown",
   "metadata": {},
   "source": [
    "## Существует два способа создать RDD\n",
    "- распределить коллекцию объектов с драйвера\n",
    "- загрузить внешний датасет"
   ]
  },
  {
   "cell_type": "markdown",
   "metadata": {},
   "source": [
    "## 1. Распределить коллекцию с драйвера"
   ]
  },
  {
   "cell_type": "code",
   "execution_count": 10,
   "metadata": {},
   "outputs": [],
   "source": [
    "import numpy as np\n",
    "vocabulary = (\"Apache\", \"Spark\", \"Hadoop\")\n",
    "numbers = np.random.randint(10, size=10000)\n",
    "words = np.random.choice(vocabulary, size=10000)\n",
    "collection = zip(numbers, words)"
   ]
  },
  {
   "cell_type": "code",
   "execution_count": 11,
   "metadata": {},
   "outputs": [],
   "source": [
    "rdd = sc.parallelize(collection)"
   ]
  },
  {
   "cell_type": "code",
   "execution_count": 12,
   "metadata": {},
   "outputs": [
    {
     "data": {
      "text/plain": [
       "3"
      ]
     },
     "execution_count": 12,
     "metadata": {},
     "output_type": "execute_result"
    }
   ],
   "source": [
    "rdd.getNumPartitions()"
   ]
  },
  {
   "cell_type": "code",
   "execution_count": 13,
   "metadata": {},
   "outputs": [
    {
     "data": {
      "text/plain": [
       "10000"
      ]
     },
     "execution_count": 13,
     "metadata": {},
     "output_type": "execute_result"
    }
   ],
   "source": [
    "rdd.count()"
   ]
  },
  {
   "cell_type": "code",
   "execution_count": 14,
   "metadata": {},
   "outputs": [
    {
     "data": {
      "text/plain": [
       "[(2, 'Apache'),\n",
       " (4, 'Spark'),\n",
       " (7, 'Spark'),\n",
       " (5, 'Spark'),\n",
       " (4, 'Apache'),\n",
       " (6, 'Apache'),\n",
       " (8, 'Spark'),\n",
       " (6, 'Hadoop'),\n",
       " (9, 'Hadoop'),\n",
       " (5, 'Apache')]"
      ]
     },
     "execution_count": 14,
     "metadata": {},
     "output_type": "execute_result"
    }
   ],
   "source": [
    "rdd.take(10)"
   ]
  },
  {
   "cell_type": "code",
   "execution_count": 15,
   "metadata": {},
   "outputs": [
    {
     "data": {
      "text/plain": [
       "3"
      ]
     },
     "execution_count": 15,
     "metadata": {},
     "output_type": "execute_result"
    }
   ],
   "source": [
    "rdd.getNumPartitions()"
   ]
  },
  {
   "cell_type": "markdown",
   "metadata": {},
   "source": [
    "## 2. Загрузить внешний датасет (датасет загружается из HDFS)"
   ]
  },
  {
   "cell_type": "code",
   "execution_count": 17,
   "metadata": {},
   "outputs": [
    {
     "name": "stdout",
     "output_type": "stream",
     "text": [
      "192.168.0.1\tCHINA\r\n",
      "192.168.0.2\tCHINA\r\n",
      "192.168.0.3\tCHINA\r\n",
      "192.168.0.4\tCHINA\r\n",
      "192.168.0.5\tCHINA\r\n",
      "192.168.0.6\tCHINA\r\n",
      "192.168.0.7\tCHINA\r\n",
      "192.168.0.8\tCHINA\r\n",
      "192.168.0.9\tCHINA\r\n",
      "192.168.0.10\tCHINA\r\n",
      "192.168.0.11\tCHINA\r\n",
      "192.168.0.12\tCHINA\r\n",
      "192.168.0.13\tCHINA\r\n",
      "192.168.0.14\tCHINA\r\n",
      "192.168.0.15\tCHINA\r\n",
      "192.168.0.16\tCHINA\r\n",
      "192.168.0.17\tCHINA\r\n",
      "192.168.0.18\tCHINA\r\n",
      "192.168.0.19\tCHINA\r\n",
      "192.168.0.20\tCHINA\r\n",
      "192.168.0.21\tCHINA\r\n",
      "192.168.0.22\tCHINA\r\n",
      "192.168.0.23\tCHINA\r\n",
      "192.168.0.24\tCHINA\r\n",
      "192.168.0.25\tCHINA\r\n",
      "192.168.0.26\tCHINA\r\n",
      "192.168.0.27\tCHINA\r\n",
      "192.168.0.28\tCHINA\r\n",
      "192.168.0.29\tCHINA\r\n",
      "192.168.0.30\tCHINA\r\n",
      "192.168.0.31\tCHINA\r\n",
      "192.168.0.32\tCHINA\r\n",
      "192.168.0.33\tCHINA\r\n",
      "192.168.0.34\tCHINA\r\n",
      "192.168.0.35\tCHINA\r\n",
      "192.168.0.36\tCHINA\r\n",
      "192.168.0.37\tCHINA\r\n",
      "192.168.0.38\tCHINA\r\n",
      "192.168.0.39\tCHINA\r\n",
      "192.168.0.40\tCHINA\r\n",
      "192.168.0.41\tCHINA\r\n",
      "192.168.0.42\tCHINA\r\n",
      "192.168.0.43\tCHINA\r\n",
      "192.168.0.44\tCHINA\r\n",
      "192.168.0.45\tCHINA\r\n",
      "192.168.0.46\tCHINA\r\n",
      "192.168.0.47\tCHINA\r\n",
      "192.168.0.48\tCHINA\r\n",
      "192.168.0.49\tCHINA\r\n",
      "192.168.0.50\tCHINA\r\n",
      "192.168.0.51\tCHINA\r\n",
      "192.168.0.52\tCHINA\r\n",
      "192.168.0.53\tCHINA\r\n",
      "192.168.0.54\tCHINA\r\n",
      "192.168.0.55\tCHINA\r\n",
      "192.168.0.56\tCHINA\r\n",
      "192.168.0.57\tCHINA\r\n",
      "192.168.0.58\tCHINA\r\n",
      "192.168.0.59\tCHINA\r\n",
      "192.168.0.60\tCHINA\r\n",
      "192.168.0.61\tCHINA\r\n",
      "192.168.0.62\tCHINA\r\n",
      "192.168.0.63\tCHINA\r\n",
      "192.168.0.64\tCHINA\r\n",
      "192.168.0.65\tCHINA\r\n",
      "192.168.0.66\tCHINA\r\n",
      "192.168.0.67\tCHINA\r\n",
      "192.168.0.68\tCHINA\r\n",
      "192.168.0.69\tCHINA\r\n",
      "192.168.0.70\tCHINA\r\n",
      "192.168.0.71\tCHINA\r\n",
      "192.168.0.72\tCHINA\r\n",
      "192.168.0.73\tCHINA\r\n",
      "192.168.0.74\tCHINA\r\n",
      "192.168.0.75\tCHINA\r\n",
      "192.168.0.76\tCHINA\r\n",
      "192.168.0.77\tCHINA\r\n",
      "192.168.0.78\tCHINA\r\n",
      "192.168.0.79\tCHINA\r\n",
      "192.168.0.80\tCHINA\r\n",
      "192.168.0.81\tCHINA\r\n",
      "192.168.0.82\tCHINA\r\n",
      "192.168.0.83\tCHINA\r\n",
      "192.168.0.84\tCHINA\r\n",
      "192.168.0.85\tCHINA\r\n",
      "192.168.0.86\tCHINA\r\n",
      "192.168.0.87\tCHINA\r\n",
      "192.168.0.88\tCHINA\r\n",
      "192.168.0.89\tCHINA\r\n",
      "192.168.0.90\tCHINA\r\n",
      "192.168.0.91\tCHINA\r\n",
      "192.168.0.92\tCHINA\r\n",
      "192.168.0.93\tCHINA\r\n",
      "192.168.0.94\tCHINA\r\n",
      "192.168.0.95\tCHINA\r\n",
      "192.168.0.96\tCHINA\r\n",
      "192.168.0.97\tCHINA\r\n",
      "192.168.0.98\tCHINA\r\n",
      "192.168.0.99\tCHINA\r\n",
      "192.168.0.100\tCHINA\r\n",
      "192.168.0.101\tCHINA\r\n",
      "192.168.0.102\tCHINA\r\n",
      "192.168.0.103\tCHINA\r\n",
      "192.168.0.104\tCHINA\r\n",
      "192.168.0.105\tCHINA\r\n",
      "192.168.0.106\tCHINA\r\n",
      "192.168.0.107\tCHINA\r\n",
      "192.168.0.108\tCHINA\r\n",
      "192.168.0.109\tCHINA\r\n",
      "192.168.0.110\tCHINA\r\n",
      "192.168.0.111\tCHINA\r\n",
      "192.168.0.112\tCHINA\r\n",
      "192.168.0.113\tCHINA\r\n",
      "192.168.0.114\tCHINA\r\n",
      "192.168.0.115\tCHINA\r\n",
      "192.168.0.116\tCHINA\r\n",
      "192.168.0.117\tCHINA\r\n",
      "192.168.0.118\tCHINA\r\n",
      "192.168.0.119\tCHINA\r\n",
      "192.168.0.120\tCHINA\r\n",
      "192.168.0.121\tCHINA\r\n",
      "192.168.0.122\tCHINA\r\n",
      "192.168.0.123\tCHINA\r\n",
      "192.168.0.124\tCHINA\r\n",
      "192.168.0.125\tCHINA\r\n",
      "192.168.0.126\tCHINA\r\n",
      "192.168.0.127\tCHINA\r\n",
      "192.168.0.128\tCHINA\r\n",
      "192.168.0.129\tCHINA\r\n",
      "192.168.0.130\tCHINA\r\n",
      "192.168.0.131\tCHINA\r\n",
      "192.168.0.132\tCHINA\r\n",
      "192.168.0.133\tCHINA\r\n",
      "192.168.0.134\tCHINA\r\n",
      "192.168.0.135\tCHINA\r\n",
      "192.168.0.136\tCHINA\r\n",
      "192.168.0.137\tCHINA\r\n",
      "192.168.0.138\tCHINA\r\n",
      "192.168.0.139\tCHINA\r\n",
      "192.168.0.140\tCHINA\r\n",
      "192.168.0.141\tCHINA\r\n",
      "192.168.0.142\tCHINA\r\n",
      "192.168.0.143\tCHINA\r\n",
      "192.168.0.144\tCHINA\r\n",
      "192.168.0.145\tCHINA\r\n",
      "192.168.0.146\tCHINA\r\n",
      "192.168.0.147\tCHINA\r\n",
      "192.168.0.148\tCHINA\r\n",
      "192.168.0.149\tCHINA\r\n",
      "192.168.0.150\tCHINA\r\n",
      "192.168.0.151\tCHINA\r\n",
      "192.168.0.152\tCHINA\r\n",
      "192.168.0.153\tCHINA\r\n",
      "192.168.0.154\tCHINA\r\n",
      "192.168.0.155\tCHINA\r\n",
      "192.168.0.156\tCHINA\r\n",
      "192.168.0.157\tCHINA\r\n",
      "192.168.0.158\tCHINA\r\n",
      "192.168.0.159\tCHINA\r\n",
      "192.168.0.160\tCHINA\r\n",
      "192.168.0.161\tCHINA\r\n",
      "192.168.0.162\tCHINA\r\n",
      "192.168.0.163\tCHINA\r\n",
      "192.168.0.164\tCHINA\r\n",
      "192.168.0.165\tCHINA\r\n",
      "192.168.0.166\tCHINA\r\n",
      "192.168.0.167\tCHINA\r\n",
      "192.168.0.168\tCHINA\r\n",
      "192.168.0.169\tCHINA\r\n",
      "192.168.0.170\tCHINA\r\n",
      "192.168.0.171\tCHINA\r\n",
      "192.168.0.172\tCHINA\r\n",
      "192.168.0.173\tCHINA\r\n",
      "192.168.0.174\tCHINA\r\n",
      "192.168.0.175\tCHINA\r\n",
      "192.168.0.176\tCHINA\r\n",
      "192.168.0.177\tCHINA\r\n",
      "192.168.0.178\tCHINA\r\n",
      "192.168.0.179\tCHINA\r\n",
      "192.168.0.180\tCHINA\r\n",
      "192.168.0.181\tCHINA\r\n",
      "192.168.0.182\tCHINA\r\n",
      "192.168.0.183\tCHINA\r\n",
      "192.168.0.184\tCHINA\r\n",
      "192.168.0.185\tCHINA\r\n",
      "192.168.0.186\tCHINA\r\n",
      "192.168.0.187\tCHINA\r\n",
      "192.168.0.188\tCHINA\r\n",
      "192.168.0.189\tCHINA\r\n",
      "192.168.0.190\tCHINA\r\n",
      "192.168.0.191\tCHINA\r\n",
      "192.168.0.192\tCHINA\r\n",
      "192.168.0.193\tCHINA\r\n",
      "192.168.0.194\tCHINA\r\n",
      "192.168.0.195\tCHINA\r\n",
      "192.168.0.196\tCHINA\r\n",
      "192.168.0.197\tCHINA\r\n",
      "192.168.0.198\tCHINA\r\n",
      "192.168.0.199\tCHINA\r\n",
      "192.168.0.200\tCHINA\r\n",
      "192.168.0.201\tRUSSIA\r\n",
      "192.168.0.202\tRUSSIA\r\n",
      "192.168.0.203\tRUSSIA\r\n",
      "192.168.0.204\tRUSSIA\r\n",
      "192.168.0.205\tRUSSIA\r\n",
      "192.168.0.206\tRUSSIA\r\n",
      "192.168.0.207\tRUSSIA\r\n",
      "192.168.0.208\tRUSSIA\r\n",
      "192.168.0.209\tRUSSIA\r\n",
      "192.168.0.210\tRUSSIA\r\n",
      "192.168.0.211\tRUSSIA\r\n",
      "192.168.0.212\tRUSSIA\r\n",
      "192.168.0.213\tRUSSIA\r\n",
      "192.168.0.214\tRUSSIA\r\n",
      "192.168.0.215\tRUSSIA\r\n",
      "192.168.0.216\tRUSSIA\r\n",
      "192.168.0.217\tRUSSIA\r\n",
      "192.168.0.218\tRUSSIA\r\n",
      "192.168.0.219\tRUSSIA\r\n",
      "192.168.0.220\tRUSSIA\r\n",
      "192.168.0.221\tRUSSIA\r\n",
      "192.168.0.222\tRUSSIA\r\n",
      "192.168.0.223\tRUSSIA\r\n",
      "192.168.0.224\tRUSSIA\r\n",
      "192.168.0.225\tRUSSIA\r\n",
      "192.168.0.226\tRUSSIA\r\n",
      "192.168.0.227\tRUSSIA\r\n",
      "192.168.0.228\tRUSSIA\r\n",
      "192.168.0.229\tRUSSIA\r\n",
      "192.168.0.230\tRUSSIA\r\n",
      "192.168.0.231\tRUSSIA\r\n",
      "192.168.0.232\tRUSSIA\r\n",
      "192.168.0.233\tRUSSIA\r\n",
      "192.168.0.234\tRUSSIA\r\n",
      "192.168.0.235\tRUSSIA\r\n",
      "192.168.0.236\tRUSSIA\r\n",
      "192.168.0.237\tRUSSIA\r\n",
      "192.168.0.238\tRUSSIA\r\n",
      "192.168.0.239\tRUSSIA\r\n",
      "192.168.0.240\tRUSSIA\r\n",
      "192.168.0.241\tRUSSIA\r\n",
      "192.168.0.242\tRUSSIA\r\n",
      "192.168.0.243\tRUSSIA\r\n",
      "192.168.0.244\tRUSSIA\r\n",
      "192.168.0.245\tRUSSIA\r\n",
      "192.168.0.246\tRUSSIA\r\n",
      "192.168.0.247\tRUSSIA\r\n",
      "192.168.0.248\tRUSSIA\r\n",
      "192.168.0.249\tRUSSIA\r\n",
      "192.168.0.250\tRUSSIA\r\n",
      "192.168.0.251\tRUSSIA\r\n",
      "192.168.0.252\tRUSSIA\r\n",
      "192.168.0.253\tRUSSIA\r\n",
      "192.168.0.254\tRUSSIA\r\n",
      "192.168.0.255\tRUSSIA\r\n",
      "192.168.1.0\tRUSSIA\r\n",
      "192.168.1.1\tRUSSIA\r\n",
      "192.168.1.2\tRUSSIA\r\n",
      "192.168.1.3\tRUSSIA\r\n",
      "192.168.1.4\tRUSSIA\r\n",
      "192.168.1.5\tRUSSIA\r\n",
      "192.168.1.6\tRUSSIA\r\n",
      "192.168.1.7\tRUSSIA\r\n",
      "192.168.1.8\tRUSSIA\r\n",
      "192.168.1.9\tRUSSIA\r\n",
      "192.168.1.10\tRUSSIA\r\n",
      "192.168.1.11\tRUSSIA\r\n",
      "192.168.1.12\tRUSSIA\r\n",
      "192.168.1.13\tRUSSIA\r\n",
      "192.168.1.14\tRUSSIA\r\n",
      "192.168.1.15\tRUSSIA\r\n",
      "192.168.1.16\tRUSSIA\r\n",
      "192.168.1.17\tRUSSIA\r\n",
      "192.168.1.18\tRUSSIA\r\n",
      "192.168.1.19\tRUSSIA\r\n",
      "192.168.1.20\tRUSSIA\r\n",
      "192.168.1.21\tRUSSIA\r\n",
      "192.168.1.22\tRUSSIA\r\n",
      "192.168.1.23\tRUSSIA\r\n",
      "192.168.1.24\tRUSSIA\r\n",
      "192.168.1.25\tRUSSIA\r\n",
      "192.168.1.26\tRUSSIA\r\n",
      "192.168.1.27\tRUSSIA\r\n",
      "192.168.1.28\tRUSSIA\r\n",
      "192.168.1.29\tRUSSIA\r\n",
      "192.168.1.30\tRUSSIA\r\n",
      "192.168.1.31\tRUSSIA\r\n",
      "192.168.1.32\tRUSSIA\r\n",
      "192.168.1.33\tRUSSIA\r\n",
      "192.168.1.34\tRUSSIA\r\n",
      "192.168.1.35\tRUSSIA\r\n",
      "192.168.1.36\tRUSSIA\r\n",
      "192.168.1.37\tRUSSIA\r\n",
      "192.168.1.38\tRUSSIA\r\n",
      "192.168.1.39\tRUSSIA\r\n",
      "192.168.1.40\tRUSSIA\r\n",
      "192.168.1.41\tRUSSIA\r\n",
      "192.168.1.42\tRUSSIA\r\n",
      "192.168.1.43\tRUSSIA\r\n",
      "192.168.1.44\tRUSSIA\r\n",
      "192.168.1.45\tRUSSIA\r\n",
      "192.168.1.46\tRUSSIA\r\n",
      "192.168.1.47\tRUSSIA\r\n",
      "192.168.1.48\tRUSSIA\r\n",
      "192.168.1.49\tRUSSIA\r\n",
      "192.168.1.50\tRUSSIA\r\n",
      "192.168.1.51\tRUSSIA\r\n",
      "192.168.1.52\tRUSSIA\r\n",
      "192.168.1.53\tRUSSIA\r\n",
      "192.168.1.54\tRUSSIA\r\n",
      "192.168.1.55\tRUSSIA\r\n",
      "192.168.1.56\tRUSSIA\r\n",
      "192.168.1.57\tRUSSIA\r\n",
      "192.168.1.58\tRUSSIA\r\n",
      "192.168.1.59\tRUSSIA\r\n",
      "192.168.1.60\tRUSSIA\r\n",
      "192.168.1.61\tRUSSIA\r\n",
      "192.168.1.62\tRUSSIA\r\n",
      "192.168.1.63\tRUSSIA\r\n",
      "192.168.1.64\tRUSSIA\r\n",
      "192.168.1.65\tRUSSIA\r\n",
      "192.168.1.66\tRUSSIA\r\n",
      "192.168.1.67\tRUSSIA\r\n",
      "192.168.1.68\tRUSSIA\r\n",
      "192.168.1.69\tRUSSIA\r\n",
      "192.168.1.70\tRUSSIA\r\n",
      "192.168.1.71\tRUSSIA\r\n",
      "192.168.1.72\tRUSSIA\r\n",
      "192.168.1.73\tRUSSIA\r\n",
      "192.168.1.74\tRUSSIA\r\n",
      "192.168.1.75\tRUSSIA\r\n",
      "192.168.1.76\tRUSSIA\r\n",
      "192.168.1.77\tRUSSIA\r\n",
      "192.168.1.78\tRUSSIA\r\n",
      "192.168.1.79\tRUSSIA\r\n",
      "192.168.1.80\tRUSSIA\r\n",
      "192.168.1.81\tRUSSIA\r\n",
      "192.168.1.82\tRUSSIA\r\n",
      "192.168.1.83\tRUSSIA\r\n",
      "192.168.1.84\tRUSSIA\r\n",
      "192.168.1.85\tRUSSIA\r\n",
      "192.168.1.86\tRUSSIA\r\n",
      "192.168.1.87\tRUSSIA\r\n",
      "192.168.1.88\tRUSSIA\r\n",
      "192.168.1.89\tRUSSIA\r\n",
      "192.168.1.90\tRUSSIA\r\n",
      "192.168.1.91\tRUSSIA\r\n",
      "192.168.1.92\tRUSSIA\r\n",
      "192.168.1.93\tRUSSIA\r\n",
      "192.168.1.94\tRUSSIA\r\n",
      "192.168.1.95\tRUSSIA\r\n",
      "192.168.1.96\tRUSSIA\r\n",
      "192.168.1.97\tRUSSIA\r\n",
      "192.168.1.98\tRUSSIA\r\n",
      "192.168.1.99\tRUSSIA\r\n",
      "192.168.1.100\tRUSSIA\r\n",
      "192.168.1.101\tRUSSIA\r\n",
      "192.168.1.102\tRUSSIA\r\n",
      "192.168.1.103\tRUSSIA\r\n",
      "192.168.1.104\tRUSSIA\r\n",
      "192.168.1.105\tRUSSIA\r\n",
      "192.168.1.106\tRUSSIA\r\n",
      "192.168.1.107\tRUSSIA\r\n",
      "192.168.1.108\tRUSSIA\r\n",
      "192.168.1.109\tRUSSIA\r\n",
      "192.168.1.110\tRUSSIA\r\n",
      "192.168.1.111\tRUSSIA\r\n",
      "192.168.1.112\tRUSSIA\r\n",
      "192.168.1.113\tRUSSIA\r\n",
      "192.168.1.114\tRUSSIA\r\n",
      "192.168.1.115\tRUSSIA\r\n",
      "192.168.1.116\tRUSSIA\r\n",
      "192.168.1.117\tRUSSIA\r\n",
      "192.168.1.118\tRUSSIA\r\n",
      "192.168.1.119\tRUSSIA\r\n",
      "192.168.1.120\tRUSSIA\r\n",
      "192.168.1.121\tRUSSIA\r\n",
      "192.168.1.122\tRUSSIA\r\n",
      "192.168.1.123\tRUSSIA\r\n",
      "192.168.1.124\tRUSSIA\r\n",
      "192.168.1.125\tRUSSIA\r\n",
      "192.168.1.126\tRUSSIA\r\n",
      "192.168.1.127\tRUSSIA\r\n",
      "192.168.1.128\tRUSSIA\r\n",
      "192.168.1.129\tRUSSIA\r\n",
      "192.168.1.130\tRUSSIA\r\n",
      "192.168.1.131\tRUSSIA\r\n",
      "192.168.1.132\tRUSSIA\r\n",
      "192.168.1.133\tRUSSIA\r\n",
      "192.168.1.134\tRUSSIA\r\n",
      "192.168.1.135\tRUSSIA\r\n",
      "192.168.1.136\tRUSSIA\r\n",
      "192.168.1.137\tRUSSIA\r\n",
      "192.168.1.138\tRUSSIA\r\n",
      "192.168.1.139\tRUSSIA\r\n",
      "192.168.1.140\tRUSSIA\r\n",
      "192.168.1.141\tRUSSIA\r\n",
      "192.168.1.142\tRUSSIA\r\n",
      "192.168.1.143\tRUSSIA\r\n",
      "192.168.1.144\tRUSSIA\r\n",
      "192.168.1.145\tRUSSIA\r\n",
      "192.168.1.146\tRUSSIA\r\n",
      "192.168.1.147\tRUSSIA\r\n",
      "192.168.1.148\tRUSSIA\r\n",
      "192.168.1.149\tRUSSIA\r\n",
      "192.168.1.150\tRUSSIA\r\n",
      "192.168.1.151\tRUSSIA\r\n",
      "192.168.1.152\tRUSSIA\r\n",
      "192.168.1.153\tRUSSIA\r\n",
      "192.168.1.154\tRUSSIA\r\n",
      "192.168.1.155\tRUSSIA\r\n",
      "192.168.1.156\tRUSSIA\r\n",
      "192.168.1.157\tRUSSIA\r\n",
      "192.168.1.158\tRUSSIA\r\n",
      "192.168.1.159\tRUSSIA\r\n",
      "192.168.1.160\tRUSSIA\r\n",
      "192.168.1.161\tRUSSIA\r\n",
      "192.168.1.162\tRUSSIA\r\n",
      "192.168.1.163\tRUSSIA\r\n",
      "192.168.1.164\tRUSSIA\r\n",
      "192.168.1.165\tRUSSIA\r\n",
      "192.168.1.166\tRUSSIA\r\n",
      "192.168.1.167\tRUSSIA\r\n",
      "192.168.1.168\tRUSSIA\r\n",
      "192.168.1.169\tRUSSIA\r\n",
      "192.168.1.170\tRUSSIA\r\n",
      "192.168.1.171\tRUSSIA\r\n",
      "192.168.1.172\tRUSSIA\r\n",
      "192.168.1.173\tRUSSIA\r\n",
      "192.168.1.174\tRUSSIA\r\n",
      "192.168.1.175\tRUSSIA\r\n",
      "192.168.1.176\tRUSSIA\r\n",
      "192.168.1.177\tRUSSIA\r\n",
      "192.168.1.178\tRUSSIA\r\n",
      "192.168.1.179\tRUSSIA\r\n",
      "192.168.1.180\tRUSSIA\r\n",
      "192.168.1.181\tRUSSIA\r\n",
      "192.168.1.182\tRUSSIA\r\n",
      "192.168.1.183\tRUSSIA\r\n",
      "192.168.1.184\tRUSSIA\r\n",
      "192.168.1.185\tRUSSIA\r\n",
      "192.168.1.186\tRUSSIA\r\n",
      "192.168.1.187\tRUSSIA\r\n",
      "192.168.1.188\tRUSSIA\r\n",
      "192.168.1.189\tRUSSIA\r\n",
      "192.168.1.190\tRUSSIA\r\n",
      "192.168.1.191\tRUSSIA\r\n",
      "192.168.1.192\tRUSSIA\r\n",
      "192.168.1.193\tRUSSIA\r\n",
      "192.168.1.194\tRUSSIA\r\n",
      "192.168.1.195\tRUSSIA\r\n",
      "192.168.1.196\tRUSSIA\r\n",
      "192.168.1.197\tRUSSIA\r\n",
      "192.168.1.198\tRUSSIA\r\n",
      "192.168.1.199\tRUSSIA\r\n",
      "192.168.1.200\tRUSSIA\r\n",
      "192.168.1.201\tRUSSIA\r\n",
      "192.168.1.202\tRUSSIA\r\n",
      "192.168.1.203\tRUSSIA\r\n",
      "192.168.1.204\tRUSSIA\r\n",
      "192.168.1.205\tRUSSIA\r\n",
      "192.168.1.206\tRUSSIA\r\n",
      "192.168.1.207\tRUSSIA\r\n",
      "192.168.1.208\tRUSSIA\r\n",
      "192.168.1.209\tRUSSIA\r\n",
      "192.168.1.210\tRUSSIA\r\n",
      "192.168.1.211\tRUSSIA\r\n",
      "192.168.1.212\tRUSSIA\r\n",
      "192.168.1.213\tRUSSIA\r\n",
      "192.168.1.214\tRUSSIA\r\n",
      "192.168.1.215\tRUSSIA\r\n",
      "192.168.1.216\tRUSSIA\r\n",
      "192.168.1.217\tRUSSIA\r\n",
      "192.168.1.218\tRUSSIA\r\n",
      "192.168.1.219\tRUSSIA\r\n",
      "192.168.1.220\tRUSSIA\r\n",
      "192.168.1.221\tRUSSIA\r\n",
      "192.168.1.222\tRUSSIA\r\n",
      "192.168.1.223\tRUSSIA\r\n",
      "192.168.1.224\tRUSSIA\r\n",
      "192.168.1.225\tRUSSIA\r\n",
      "192.168.1.226\tRUSSIA\r\n",
      "192.168.1.227\tRUSSIA\r\n",
      "192.168.1.228\tRUSSIA\r\n",
      "192.168.1.229\tRUSSIA\r\n",
      "192.168.1.230\tRUSSIA\r\n",
      "192.168.1.231\tRUSSIA\r\n",
      "192.168.1.232\tRUSSIA\r\n",
      "192.168.1.233\tRUSSIA\r\n",
      "192.168.1.234\tRUSSIA\r\n",
      "192.168.1.235\tRUSSIA\r\n",
      "192.168.1.236\tRUSSIA\r\n",
      "192.168.1.237\tRUSSIA\r\n",
      "192.168.1.238\tRUSSIA\r\n",
      "192.168.1.239\tRUSSIA\r\n",
      "192.168.1.240\tRUSSIA\r\n",
      "192.168.1.241\tRUSSIA\r\n",
      "192.168.1.242\tRUSSIA\r\n",
      "192.168.1.243\tRUSSIA\r\n",
      "192.168.1.244\tRUSSIA\r\n",
      "192.168.1.245\tRUSSIA\r\n",
      "192.168.1.246\tRUSSIA\r\n",
      "192.168.1.247\tRUSSIA\r\n",
      "192.168.1.248\tRUSSIA\r\n",
      "192.168.1.249\tRUSSIA\r\n",
      "192.168.1.250\tRUSSIA\r\n",
      "192.168.1.251\tRUSSIA\r\n",
      "192.168.1.252\tRUSSIA\r\n",
      "192.168.1.253\tRUSSIA\r\n",
      "192.168.1.254\tRUSSIA\r\n",
      "192.168.1.255\tRUSSIA\r\n",
      "192.168.2.0\tRUSSIA\r\n",
      "192.168.2.1\tRUSSIA\r\n",
      "192.168.2.2\tRUSSIA\r\n",
      "192.168.2.3\tRUSSIA\r\n",
      "192.168.2.4\tRUSSIA\r\n",
      "192.168.2.5\tRUSSIA\r\n",
      "192.168.2.6\tRUSSIA\r\n",
      "192.168.2.7\tRUSSIA\r\n",
      "192.168.2.8\tRUSSIA\r\n",
      "192.168.2.9\tRUSSIA\r\n",
      "192.168.2.10\tRUSSIA\r\n",
      "192.168.2.11\tRUSSIA\r\n",
      "192.168.2.12\tRUSSIA\r\n",
      "192.168.2.13\tRUSSIA\r\n",
      "192.168.2.14\tRUSSIA\r\n",
      "192.168.2.15\tRUSSIA\r\n",
      "192.168.2.16\tRUSSIA\r\n",
      "192.168.2.17\tRUSSIA\r\n",
      "192.168.2.18\tRUSSIA\r\n",
      "192.168.2.19\tRUSSIA\r\n",
      "192.168.2.20\tRUSSIA\r\n",
      "192.168.2.21\tRUSSIA\r\n",
      "192.168.2.22\tRUSSIA\r\n",
      "192.168.2.23\tRUSSIA\r\n",
      "192.168.2.24\tRUSSIA\r\n",
      "192.168.2.25\tRUSSIA\r\n",
      "192.168.2.26\tRUSSIA\r\n",
      "192.168.2.27\tRUSSIA\r\n",
      "192.168.2.28\tRUSSIA\r\n",
      "192.168.2.29\tRUSSIA\r\n",
      "192.168.2.30\tRUSSIA\r\n",
      "192.168.2.31\tRUSSIA\r\n",
      "192.168.2.32\tRUSSIA\r\n",
      "192.168.2.33\tRUSSIA\r\n",
      "192.168.2.34\tRUSSIA\r\n",
      "192.168.2.35\tRUSSIA\r\n",
      "192.168.2.36\tRUSSIA\r\n",
      "192.168.2.37\tRUSSIA\r\n",
      "192.168.2.38\tRUSSIA\r\n",
      "192.168.2.39\tRUSSIA\r\n",
      "192.168.2.40\tRUSSIA\r\n",
      "192.168.2.41\tRUSSIA\r\n",
      "192.168.2.42\tRUSSIA\r\n",
      "192.168.2.43\tRUSSIA\r\n",
      "192.168.2.44\tRUSSIA\r\n",
      "192.168.2.45\tRUSSIA\r\n",
      "192.168.2.46\tRUSSIA\r\n",
      "192.168.2.47\tRUSSIA\r\n",
      "192.168.2.48\tRUSSIA\r\n",
      "192.168.2.49\tRUSSIA\r\n",
      "192.168.2.50\tRUSSIA\r\n",
      "192.168.2.51\tRUSSIA\r\n",
      "192.168.2.52\tRUSSIA\r\n",
      "192.168.2.53\tRUSSIA\r\n",
      "192.168.2.54\tRUSSIA\r\n",
      "192.168.2.55\tRUSSIA\r\n",
      "192.168.2.56\tRUSSIA\r\n",
      "192.168.2.57\tRUSSIA\r\n",
      "192.168.2.58\tRUSSIA\r\n",
      "192.168.2.59\tRUSSIA\r\n",
      "192.168.2.60\tRUSSIA\r\n",
      "192.168.2.61\tRUSSIA\r\n",
      "192.168.2.62\tRUSSIA\r\n",
      "192.168.2.63\tRUSSIA\r\n",
      "192.168.2.64\tRUSSIA\r\n",
      "192.168.2.65\tRUSSIA\r\n",
      "192.168.2.66\tRUSSIA\r\n",
      "192.168.2.67\tRUSSIA\r\n",
      "192.168.2.68\tRUSSIA\r\n",
      "192.168.2.69\tRUSSIA\r\n",
      "192.168.2.70\tRUSSIA\r\n",
      "192.168.2.71\tRUSSIA\r\n",
      "192.168.2.72\tRUSSIA\r\n",
      "192.168.2.73\tRUSSIA\r\n",
      "192.168.2.74\tRUSSIA\r\n",
      "192.168.2.75\tRUSSIA\r\n",
      "192.168.2.76\tRUSSIA\r\n",
      "192.168.2.77\tRUSSIA\r\n",
      "192.168.2.78\tRUSSIA\r\n",
      "192.168.2.79\tRUSSIA\r\n",
      "192.168.2.80\tRUSSIA\r\n",
      "192.168.2.81\tRUSSIA\r\n",
      "192.168.2.82\tRUSSIA\r\n",
      "192.168.2.83\tRUSSIA\r\n",
      "192.168.2.84\tRUSSIA\r\n",
      "192.168.2.85\tRUSSIA\r\n",
      "192.168.2.86\tRUSSIA\r\n",
      "192.168.2.87\tRUSSIA\r\n",
      "192.168.2.88\tRUSSIA\r\n",
      "192.168.2.89\tRUSSIA\r\n",
      "192.168.2.90\tRUSSIA\r\n",
      "192.168.2.91\tRUSSIA\r\n",
      "192.168.2.92\tRUSSIA\r\n",
      "192.168.2.93\tRUSSIA\r\n",
      "192.168.2.94\tRUSSIA\r\n",
      "192.168.2.95\tRUSSIA\r\n",
      "192.168.2.96\tRUSSIA\r\n",
      "192.168.2.97\tRUSSIA\r\n",
      "192.168.2.98\tRUSSIA\r\n",
      "192.168.2.99\tRUSSIA\r\n",
      "192.168.2.100\tRUSSIA\r\n",
      "192.168.2.101\tRUSSIA\r\n",
      "192.168.2.102\tRUSSIA\r\n",
      "192.168.2.103\tRUSSIA\r\n",
      "192.168.2.104\tRUSSIA\r\n",
      "192.168.2.105\tRUSSIA\r\n",
      "192.168.2.106\tRUSSIA\r\n",
      "192.168.2.107\tRUSSIA\r\n",
      "192.168.2.108\tRUSSIA\r\n",
      "192.168.2.109\tRUSSIA\r\n",
      "192.168.2.110\tRUSSIA\r\n",
      "192.168.2.111\tRUSSIA\r\n",
      "192.168.2.112\tRUSSIA\r\n",
      "192.168.2.113\tRUSSIA\r\n",
      "192.168.2.114\tRUSSIA\r\n",
      "192.168.2.115\tRUSSIA\r\n",
      "192.168.2.116\tRUSSIA\r\n",
      "192.168.2.117\tRUSSIA\r\n",
      "192.168.2.118\tRUSSIA\r\n",
      "192.168.2.119\tRUSSIA\r\n",
      "192.168.2.120\tRUSSIA\r\n",
      "192.168.2.121\tRUSSIA\r\n",
      "192.168.2.122\tRUSSIA\r\n",
      "192.168.2.123\tRUSSIA\r\n",
      "192.168.2.124\tRUSSIA\r\n",
      "192.168.2.125\tRUSSIA\r\n",
      "192.168.2.126\tRUSSIA\r\n",
      "192.168.2.127\tRUSSIA\r\n",
      "192.168.2.128\tRUSSIA\r\n",
      "192.168.2.129\tRUSSIA\r\n",
      "192.168.2.130\tRUSSIA\r\n",
      "192.168.2.131\tRUSSIA\r\n",
      "192.168.2.132\tRUSSIA\r\n",
      "192.168.2.133\tRUSSIA\r\n",
      "192.168.2.134\tRUSSIA\r\n",
      "192.168.2.135\tRUSSIA\r\n",
      "192.168.2.136\tRUSSIA\r\n",
      "192.168.2.137\tRUSSIA\r\n",
      "192.168.2.138\tRUSSIA\r\n",
      "192.168.2.139\tRUSSIA\r\n",
      "192.168.2.140\tRUSSIA\r\n",
      "192.168.2.141\tRUSSIA\r\n",
      "192.168.2.142\tRUSSIA\r\n",
      "192.168.2.143\tRUSSIA\r\n",
      "192.168.2.144\tRUSSIA\r\n",
      "192.168.2.145\tRUSSIA\r\n",
      "192.168.2.146\tRUSSIA\r\n",
      "192.168.2.147\tRUSSIA\r\n",
      "192.168.2.148\tRUSSIA\r\n",
      "192.168.2.149\tRUSSIA\r\n",
      "192.168.2.150\tRUSSIA\r\n",
      "192.168.2.151\tRUSSIA\r\n",
      "192.168.2.152\tRUSSIA\r\n",
      "192.168.2.153\tRUSSIA\r\n",
      "192.168.2.154\tRUSSIA\r\n",
      "192.168.2.155\tRUSSIA\r\n",
      "192.168.2.156\tRUSSIA\r\n",
      "192.168.2.157\tRUSSIA\r\n",
      "192.168.2.158\tRUSSIA\r\n",
      "192.168.2.159\tRUSSIA\r\n",
      "192.168.2.160\tRUSSIA\r\n",
      "192.168.2.161\tRUSSIA\r\n",
      "192.168.2.162\tRUSSIA\r\n",
      "192.168.2.163\tRUSSIA\r\n",
      "192.168.2.164\tRUSSIA\r\n",
      "192.168.2.165\tRUSSIA\r\n",
      "192.168.2.166\tRUSSIA\r\n",
      "192.168.2.167\tRUSSIA\r\n",
      "192.168.2.168\tRUSSIA\r\n",
      "192.168.2.169\tRUSSIA\r\n",
      "192.168.2.170\tRUSSIA\r\n",
      "192.168.2.171\tRUSSIA\r\n",
      "192.168.2.172\tRUSSIA\r\n",
      "192.168.2.173\tRUSSIA\r\n",
      "192.168.2.174\tRUSSIA\r\n",
      "192.168.2.175\tRUSSIA\r\n",
      "192.168.2.176\tRUSSIA\r\n",
      "192.168.2.177\tRUSSIA\r\n",
      "192.168.2.178\tRUSSIA\r\n",
      "192.168.2.179\tRUSSIA\r\n",
      "192.168.2.180\tRUSSIA\r\n",
      "192.168.2.181\tRUSSIA\r\n",
      "192.168.2.182\tRUSSIA\r\n",
      "192.168.2.183\tRUSSIA\r\n",
      "192.168.2.184\tRUSSIA\r\n",
      "192.168.2.185\tRUSSIA\r\n",
      "192.168.2.186\tRUSSIA\r\n",
      "192.168.2.187\tRUSSIA\r\n",
      "192.168.2.188\tRUSSIA\r\n",
      "192.168.2.189\tUSA\r\n",
      "192.168.2.190\tUSA\r\n",
      "192.168.2.191\tUSA\r\n",
      "192.168.2.192\tUSA\r\n",
      "192.168.2.193\tUSA\r\n",
      "192.168.2.194\tUSA\r\n",
      "192.168.2.195\tUSA\r\n",
      "192.168.2.196\tUSA\r\n",
      "192.168.2.197\tUSA\r\n",
      "192.168.2.198\tUSA\r\n",
      "192.168.2.199\tUSA\r\n",
      "192.168.2.200\tUSA\r\n",
      "192.168.2.201\tUSA\r\n",
      "192.168.2.202\tUSA\r\n",
      "192.168.2.203\tUSA\r\n",
      "192.168.2.204\tUSA\r\n",
      "192.168.2.205\tUSA\r\n",
      "192.168.2.206\tUSA\r\n",
      "192.168.2.207\tUSA\r\n",
      "192.168.2.208\tUSA\r\n",
      "192.168.2.209\tUSA\r\n",
      "192.168.2.210\tUSA\r\n",
      "192.168.2.211\tUSA\r\n",
      "192.168.2.212\tUSA\r\n",
      "192.168.2.213\tUSA\r\n",
      "192.168.2.214\tUSA\r\n",
      "192.168.2.215\tUSA\r\n",
      "192.168.2.216\tUSA\r\n",
      "192.168.2.217\tUSA\r\n",
      "192.168.2.218\tUSA\r\n",
      "192.168.2.219\tUSA\r\n",
      "192.168.2.220\tUSA\r\n",
      "192.168.2.221\tUSA\r\n",
      "192.168.2.222\tUSA\r\n",
      "192.168.2.223\tUSA\r\n",
      "192.168.2.224\tUSA\r\n",
      "192.168.2.225\tUSA\r\n",
      "192.168.2.226\tUSA\r\n",
      "192.168.2.227\tUSA\r\n",
      "192.168.2.228\tUSA\r\n",
      "192.168.2.229\tUSA\r\n",
      "192.168.2.230\tUSA\r\n",
      "192.168.2.231\tUSA\r\n",
      "192.168.2.232\tUSA\r\n",
      "192.168.2.233\tUSA\r\n",
      "192.168.2.234\tUSA\r\n",
      "192.168.2.235\tUSA\r\n",
      "192.168.2.236\tUSA\r\n",
      "192.168.2.237\tUSA\r\n",
      "192.168.2.238\tUSA\r\n",
      "192.168.2.239\tUSA\r\n",
      "192.168.2.240\tUSA\r\n",
      "192.168.2.241\tUSA\r\n",
      "192.168.2.242\tUSA\r\n",
      "192.168.2.243\tUSA\r\n",
      "192.168.2.244\tUSA\r\n",
      "192.168.2.245\tUSA\r\n",
      "192.168.2.246\tUSA\r\n",
      "192.168.2.247\tUSA\r\n",
      "192.168.2.248\tUSA\r\n",
      "192.168.2.249\tUSA\r\n",
      "192.168.2.250\tUSA\r\n",
      "192.168.2.251\tUSA\r\n",
      "192.168.2.252\tUSA\r\n",
      "192.168.2.253\tUSA\r\n",
      "192.168.2.254\tUSA\r\n",
      "192.168.2.255\tUSA\r\n",
      "192.168.3.0\tUSA\r\n",
      "192.168.3.1\tUSA\r\n",
      "192.168.3.2\tUSA\r\n",
      "192.168.3.3\tUSA\r\n",
      "192.168.3.4\tUSA\r\n",
      "192.168.3.5\tUSA\r\n",
      "192.168.3.6\tUSA\r\n",
      "192.168.3.7\tUSA\r\n",
      "192.168.3.8\tUSA\r\n",
      "192.168.3.9\tUSA\r\n",
      "192.168.3.10\tUSA\r\n",
      "192.168.3.11\tUSA\r\n",
      "192.168.3.12\tUSA\r\n",
      "192.168.3.13\tUSA\r\n",
      "192.168.3.14\tUSA\r\n",
      "192.168.3.15\tUSA\r\n",
      "192.168.3.16\tUSA\r\n",
      "192.168.3.17\tUSA\r\n",
      "192.168.3.18\tUSA\r\n",
      "192.168.3.19\tUSA\r\n",
      "192.168.3.20\tUSA\r\n",
      "192.168.3.21\tUSA\r\n",
      "192.168.3.22\tUSA\r\n",
      "192.168.3.23\tUSA\r\n",
      "192.168.3.24\tUSA\r\n",
      "192.168.3.25\tUSA\r\n",
      "192.168.3.26\tUSA\r\n",
      "192.168.3.27\tUSA\r\n",
      "192.168.3.28\tUSA\r\n",
      "192.168.3.29\tUSA\r\n",
      "192.168.3.30\tUSA\r\n",
      "192.168.3.31\tUSA\r\n",
      "192.168.3.32\tUSA\r\n",
      "192.168.3.33\tUSA\r\n",
      "192.168.3.34\tUSA\r\n",
      "192.168.3.35\tUSA\r\n",
      "192.168.3.36\tUSA\r\n",
      "192.168.3.37\tUSA\r\n",
      "192.168.3.38\tUSA\r\n",
      "192.168.3.39\tUSA\r\n",
      "192.168.3.40\tUSA\r\n",
      "192.168.3.41\tUSA\r\n",
      "192.168.3.42\tUSA\r\n",
      "192.168.3.43\tUSA\r\n",
      "192.168.3.44\tUSA\r\n",
      "192.168.3.45\tUSA\r\n",
      "192.168.3.46\tUSA\r\n",
      "192.168.3.47\tUSA\r\n",
      "192.168.3.48\tUSA\r\n",
      "192.168.3.49\tUSA\r\n",
      "192.168.3.50\tUSA\r\n",
      "192.168.3.51\tUSA\r\n",
      "192.168.3.52\tUSA\r\n",
      "192.168.3.53\tUSA\r\n",
      "192.168.3.54\tUSA\r\n",
      "192.168.3.55\tUSA\r\n",
      "192.168.3.56\tUSA\r\n",
      "192.168.3.57\tUSA\r\n",
      "192.168.3.58\tUSA\r\n",
      "192.168.3.59\tUSA\r\n",
      "192.168.3.60\tUSA\r\n",
      "192.168.3.61\tUSA\r\n",
      "192.168.3.62\tUSA\r\n",
      "192.168.3.63\tUSA\r\n",
      "192.168.3.64\tUSA\r\n",
      "192.168.3.65\tUSA\r\n",
      "192.168.3.66\tUSA\r\n",
      "192.168.3.67\tUSA\r\n",
      "192.168.3.68\tUSA\r\n",
      "192.168.3.69\tUSA\r\n",
      "192.168.3.70\tUSA\r\n",
      "192.168.3.71\tUSA\r\n",
      "192.168.3.72\tUSA\r\n",
      "192.168.3.73\tUSA\r\n",
      "192.168.3.74\tUSA\r\n",
      "192.168.3.75\tUSA\r\n",
      "192.168.3.76\tUSA\r\n",
      "192.168.3.77\tUSA\r\n",
      "192.168.3.78\tUSA\r\n",
      "192.168.3.79\tUSA\r\n",
      "192.168.3.80\tUSA\r\n",
      "192.168.3.81\tUSA\r\n",
      "192.168.3.82\tUSA\r\n",
      "192.168.3.83\tUSA\r\n",
      "192.168.3.84\tUSA\r\n",
      "192.168.3.85\tUSA\r\n",
      "192.168.3.86\tUSA\r\n",
      "192.168.3.87\tUSA\r\n",
      "192.168.3.88\tUSA\r\n",
      "192.168.3.89\tUSA\r\n",
      "192.168.3.90\tUSA\r\n",
      "192.168.3.91\tUSA\r\n",
      "192.168.3.92\tUSA\r\n",
      "192.168.3.93\tUSA\r\n",
      "192.168.3.94\tUSA\r\n",
      "192.168.3.95\tUSA\r\n",
      "192.168.3.96\tUSA\r\n",
      "192.168.3.97\tUSA\r\n",
      "192.168.3.98\tUSA\r\n",
      "192.168.3.99\tUSA\r\n",
      "192.168.3.100\tUSA\r\n",
      "192.168.3.101\tUSA\r\n",
      "192.168.3.102\tUSA\r\n",
      "192.168.3.103\tUSA\r\n",
      "192.168.3.104\tUSA\r\n",
      "192.168.3.105\tUSA\r\n",
      "192.168.3.106\tUSA\r\n",
      "192.168.3.107\tUSA\r\n",
      "192.168.3.108\tUSA\r\n",
      "192.168.3.109\tUSA\r\n",
      "192.168.3.110\tUSA\r\n",
      "192.168.3.111\tUSA\r\n",
      "192.168.3.112\tUSA\r\n",
      "192.168.3.113\tUSA\r\n",
      "192.168.3.114\tUSA\r\n",
      "192.168.3.115\tUSA\r\n",
      "192.168.3.116\tUSA\r\n",
      "192.168.3.117\tUSA\r\n",
      "192.168.3.118\tUSA\r\n",
      "192.168.3.119\tUSA\r\n",
      "192.168.3.120\tUSA\r\n",
      "192.168.3.121\tUSA\r\n",
      "192.168.3.122\tUSA\r\n",
      "192.168.3.123\tUSA\r\n",
      "192.168.3.124\tUSA\r\n",
      "192.168.3.125\tUSA\r\n",
      "192.168.3.126\tUSA\r\n",
      "192.168.3.127\tUSA\r\n",
      "192.168.3.128\tUSA\r\n",
      "192.168.3.129\tUSA\r\n",
      "192.168.3.130\tUSA\r\n",
      "192.168.3.131\tUSA\r\n",
      "192.168.3.132\tUSA\r\n",
      "192.168.3.133\tUSA\r\n",
      "192.168.3.134\tUSA\r\n",
      "192.168.3.135\tUSA\r\n",
      "192.168.3.136\tUSA\r\n",
      "192.168.3.137\tUSA\r\n",
      "192.168.3.138\tUSA\r\n",
      "192.168.3.139\tUSA\r\n",
      "192.168.3.140\tUSA\r\n",
      "192.168.3.141\tUSA\r\n",
      "192.168.3.142\tUSA\r\n",
      "192.168.3.143\tUSA\r\n",
      "192.168.3.144\tUSA\r\n",
      "192.168.3.145\tUSA\r\n",
      "192.168.3.146\tUSA\r\n",
      "192.168.3.147\tUSA\r\n",
      "192.168.3.148\tUSA\r\n",
      "192.168.3.149\tUSA\r\n",
      "192.168.3.150\tUSA\r\n",
      "192.168.3.151\tUSA\r\n",
      "192.168.3.152\tUSA\r\n",
      "192.168.3.153\tUSA\r\n",
      "192.168.3.154\tUSA\r\n",
      "192.168.3.155\tUSA\r\n",
      "192.168.3.156\tUSA\r\n",
      "192.168.3.157\tUSA\r\n",
      "192.168.3.158\tUSA\r\n",
      "192.168.3.159\tUSA\r\n",
      "192.168.3.160\tUSA\r\n",
      "192.168.3.161\tUSA\r\n",
      "192.168.3.162\tUSA\r\n",
      "192.168.3.163\tUSA\r\n",
      "192.168.3.164\tUSA\r\n",
      "192.168.3.165\tUSA\r\n",
      "192.168.3.166\tUSA\r\n",
      "192.168.3.167\tUSA\r\n",
      "192.168.3.168\tUSA\r\n",
      "192.168.3.169\tUSA\r\n",
      "192.168.3.170\tUSA\r\n",
      "192.168.3.171\tUSA\r\n",
      "192.168.3.172\tUSA\r\n",
      "192.168.3.173\tUSA\r\n",
      "192.168.3.174\tUSA\r\n",
      "192.168.3.175\tUSA\r\n",
      "192.168.3.176\tUSA\r\n",
      "192.168.3.177\tUSA\r\n",
      "192.168.3.178\tUSA\r\n",
      "192.168.3.179\tUSA\r\n",
      "192.168.3.180\tUSA\r\n",
      "192.168.3.181\tUSA\r\n",
      "192.168.3.182\tUSA\r\n",
      "192.168.3.183\tUSA\r\n",
      "192.168.3.184\tUSA\r\n",
      "192.168.3.185\tUSA\r\n",
      "192.168.3.186\tUSA\r\n",
      "192.168.3.187\tUSA\r\n",
      "192.168.3.188\tUSA\r\n",
      "192.168.3.189\tUSA\r\n",
      "192.168.3.190\tUSA\r\n",
      "192.168.3.191\tUSA\r\n",
      "192.168.3.192\tUSA\r\n",
      "192.168.3.193\tUSA\r\n",
      "192.168.3.194\tUSA\r\n",
      "192.168.3.195\tUSA\r\n",
      "192.168.3.196\tUSA\r\n",
      "192.168.3.197\tUSA\r\n",
      "192.168.3.198\tUSA\r\n",
      "192.168.3.199\tUSA\r\n",
      "192.168.3.200\tUSA\r\n",
      "192.168.3.201\tUSA\r\n",
      "192.168.3.202\tUSA\r\n",
      "192.168.3.203\tUSA\r\n",
      "192.168.3.204\tUSA\r\n",
      "192.168.3.205\tUSA\r\n",
      "192.168.3.206\tUSA\r\n",
      "192.168.3.207\tUSA\r\n",
      "192.168.3.208\tUSA\r\n",
      "192.168.3.209\tUSA\r\n",
      "192.168.3.210\tUSA\r\n",
      "192.168.3.211\tUSA\r\n",
      "192.168.3.212\tUSA\r\n",
      "192.168.3.213\tUSA\r\n",
      "192.168.3.214\tUSA\r\n",
      "192.168.3.215\tUSA\r\n",
      "192.168.3.216\tUSA\r\n",
      "192.168.3.217\tUSA\r\n",
      "192.168.3.218\tUSA\r\n",
      "192.168.3.219\tUSA\r\n",
      "192.168.3.220\tUSA\r\n",
      "192.168.3.221\tUSA\r\n",
      "192.168.3.222\tUSA\r\n",
      "192.168.3.223\tUSA\r\n",
      "192.168.3.224\tUSA\r\n",
      "192.168.3.225\tUSA\r\n",
      "192.168.3.226\tUSA\r\n",
      "192.168.3.227\tUSA\r\n",
      "192.168.3.228\tUSA\r\n",
      "192.168.3.229\tUSA\r\n",
      "192.168.3.230\tUSA\r\n",
      "192.168.3.231\tUSA\r\n",
      "192.168.3.232\tUSA\r\n"
     ]
    }
   ],
   "source": [
    "!hdfs dfs -cat /lectures/lecture01/data/ips.txt"
   ]
  },
  {
   "cell_type": "code",
   "execution_count": 18,
   "metadata": {},
   "outputs": [],
   "source": [
    "rdd2 = sc.textFile(\"/lectures/lecture01/data/ips.txt\")"
   ]
  },
  {
   "cell_type": "code",
   "execution_count": 19,
   "metadata": {},
   "outputs": [
    {
     "data": {
      "text/plain": [
       "['192.168.0.1\\tCHINA',\n",
       " '192.168.0.2\\tCHINA',\n",
       " '192.168.0.3\\tCHINA',\n",
       " '192.168.0.4\\tCHINA',\n",
       " '192.168.0.5\\tCHINA',\n",
       " '192.168.0.6\\tCHINA',\n",
       " '192.168.0.7\\tCHINA',\n",
       " '192.168.0.8\\tCHINA',\n",
       " '192.168.0.9\\tCHINA',\n",
       " '192.168.0.10\\tCHINA']"
      ]
     },
     "execution_count": 19,
     "metadata": {},
     "output_type": "execute_result"
    }
   ],
   "source": [
    "rdd2.take(10)"
   ]
  },
  {
   "cell_type": "code",
   "execution_count": 20,
   "metadata": {},
   "outputs": [
    {
     "data": {
      "text/plain": [
       "1000"
      ]
     },
     "execution_count": 20,
     "metadata": {},
     "output_type": "execute_result"
    }
   ],
   "source": [
    "rdd2.count()"
   ]
  },
  {
   "cell_type": "code",
   "execution_count": 21,
   "metadata": {},
   "outputs": [
    {
     "data": {
      "text/plain": [
       "2"
      ]
     },
     "execution_count": 21,
     "metadata": {},
     "output_type": "execute_result"
    }
   ],
   "source": [
    "rdd2.getNumPartitions()"
   ]
  },
  {
   "cell_type": "code",
   "execution_count": 22,
   "metadata": {},
   "outputs": [],
   "source": [
    "rdd2.repartition(6).saveAsTextFile(\"ips_repart_1.txt\")"
   ]
  },
  {
   "cell_type": "code",
   "execution_count": 23,
   "metadata": {},
   "outputs": [],
   "source": [
    "rdd3 = sc.textFile(\"ips_repart_1.txt\")"
   ]
  },
  {
   "cell_type": "code",
   "execution_count": 24,
   "metadata": {},
   "outputs": [
    {
     "data": {
      "text/plain": [
       "6"
      ]
     },
     "execution_count": 24,
     "metadata": {},
     "output_type": "execute_result"
    }
   ],
   "source": [
    "rdd3.getNumPartitions()"
   ]
  },
  {
   "cell_type": "code",
   "execution_count": 25,
   "metadata": {},
   "outputs": [
    {
     "name": "stdout",
     "output_type": "stream",
     "text": [
      "Found 7 items\r\n",
      "-rw-r--r--   3 teacher2 teacher2          0 2022-10-07 21:16 ips_repart_1.txt/_SUCCESS\r\n",
      "-rw-r--r--   3 teacher2 teacher2       3335 2022-10-07 21:16 ips_repart_1.txt/part-00000\r\n",
      "-rw-r--r--   3 teacher2 teacher2       3396 2022-10-07 21:16 ips_repart_1.txt/part-00001\r\n",
      "-rw-r--r--   3 teacher2 teacher2       3219 2022-10-07 21:16 ips_repart_1.txt/part-00002\r\n",
      "-rw-r--r--   3 teacher2 teacher2       3091 2022-10-07 21:16 ips_repart_1.txt/part-00003\r\n",
      "-rw-r--r--   3 teacher2 teacher2       3098 2022-10-07 21:16 ips_repart_1.txt/part-00004\r\n",
      "-rw-r--r--   3 teacher2 teacher2       3323 2022-10-07 21:16 ips_repart_1.txt/part-00005\r\n"
     ]
    }
   ],
   "source": [
    "!hadoop fs -ls ips_repart_1.txt/"
   ]
  },
  {
   "cell_type": "markdown",
   "metadata": {},
   "source": [
    "## RDD API состоит из операции двух типов:\n",
    "- action\n",
    "- transformation"
   ]
  },
  {
   "cell_type": "markdown",
   "metadata": {},
   "source": [
    "<img src=\"pics/rdd_action_transformation.png\" width=800/>"
   ]
  },
  {
   "cell_type": "markdown",
   "metadata": {},
   "source": [
    "### Трансформация преобразовывает RDD в другой RDD и не приводит к вычислению графа"
   ]
  },
  {
   "cell_type": "code",
   "execution_count": 26,
   "metadata": {},
   "outputs": [],
   "source": [
    "rdd = sc.parallelize(range(1000000))\n",
    "rdd2 = rdd.filter(lambda x: x % 2)"
   ]
  },
  {
   "cell_type": "code",
   "execution_count": 27,
   "metadata": {},
   "outputs": [
    {
     "data": {
      "text/plain": [
       "3"
      ]
     },
     "execution_count": 27,
     "metadata": {},
     "output_type": "execute_result"
    }
   ],
   "source": [
    "rdd2.getNumPartitions()"
   ]
  },
  {
   "cell_type": "markdown",
   "metadata": {},
   "source": [
    "### Action заставляет Spark вычислить граф и вернуть результат либо на драйвер, либо во внешнее хранилище"
   ]
  },
  {
   "cell_type": "code",
   "execution_count": 28,
   "metadata": {},
   "outputs": [
    {
     "data": {
      "text/plain": [
       "500000"
      ]
     },
     "execution_count": 28,
     "metadata": {},
     "output_type": "execute_result"
    }
   ],
   "source": [
    "rdd2.count()"
   ]
  },
  {
   "cell_type": "code",
   "execution_count": 29,
   "metadata": {},
   "outputs": [
    {
     "data": {
      "text/plain": [
       "[1, 3, 5, 7, 9, 11, 13, 15, 17, 19]"
      ]
     },
     "execution_count": 29,
     "metadata": {},
     "output_type": "execute_result"
    }
   ],
   "source": [
    "rdd2.take(10)"
   ]
  },
  {
   "cell_type": "markdown",
   "metadata": {},
   "source": [
    "### Трансформации можно применять одну за другой, никаких вычислений не будет сделано, пока не будет вызван action"
   ]
  },
  {
   "cell_type": "code",
   "execution_count": 30,
   "metadata": {},
   "outputs": [],
   "source": [
    "rdd = sc.parallelize(range(1000000))"
   ]
  },
  {
   "cell_type": "code",
   "execution_count": 31,
   "metadata": {},
   "outputs": [
    {
     "data": {
      "text/plain": [
       "PythonRDD[24] at RDD at PythonRDD.scala:53"
      ]
     },
     "execution_count": 31,
     "metadata": {},
     "output_type": "execute_result"
    }
   ],
   "source": [
    "rdd2 = rdd.filter(lambda x: x % 1000).filter(lambda x: x % 7)\n",
    "rdd2"
   ]
  },
  {
   "cell_type": "code",
   "execution_count": 32,
   "metadata": {},
   "outputs": [
    {
     "data": {
      "text/plain": [
       "PythonRDD[25] at RDD at PythonRDD.scala:53"
      ]
     },
     "execution_count": 32,
     "metadata": {},
     "output_type": "execute_result"
    }
   ],
   "source": [
    "rdd3 = rdd2.map(lambda x: x * 2)\n",
    "rdd3"
   ]
  },
  {
   "cell_type": "code",
   "execution_count": 33,
   "metadata": {},
   "outputs": [
    {
     "data": {
      "text/plain": [
       "[2,\n",
       " 4,\n",
       " 6,\n",
       " 8,\n",
       " 10,\n",
       " 12,\n",
       " 16,\n",
       " 18,\n",
       " 20,\n",
       " 22,\n",
       " 24,\n",
       " 26,\n",
       " 30,\n",
       " 32,\n",
       " 34,\n",
       " 36,\n",
       " 38,\n",
       " 40,\n",
       " 44,\n",
       " 46,\n",
       " 48,\n",
       " 50,\n",
       " 52,\n",
       " 54,\n",
       " 58,\n",
       " 60,\n",
       " 62,\n",
       " 64,\n",
       " 66,\n",
       " 68,\n",
       " 72,\n",
       " 74,\n",
       " 76,\n",
       " 78,\n",
       " 80,\n",
       " 82,\n",
       " 86,\n",
       " 88,\n",
       " 90,\n",
       " 92,\n",
       " 94,\n",
       " 96,\n",
       " 100,\n",
       " 102,\n",
       " 104,\n",
       " 106,\n",
       " 108,\n",
       " 110,\n",
       " 114,\n",
       " 116,\n",
       " 118,\n",
       " 120,\n",
       " 122,\n",
       " 124,\n",
       " 128,\n",
       " 130,\n",
       " 132,\n",
       " 134,\n",
       " 136,\n",
       " 138,\n",
       " 142,\n",
       " 144,\n",
       " 146,\n",
       " 148,\n",
       " 150,\n",
       " 152,\n",
       " 156,\n",
       " 158,\n",
       " 160,\n",
       " 162,\n",
       " 164,\n",
       " 166,\n",
       " 170,\n",
       " 172,\n",
       " 174,\n",
       " 176,\n",
       " 178,\n",
       " 180,\n",
       " 184,\n",
       " 186,\n",
       " 188,\n",
       " 190,\n",
       " 192,\n",
       " 194,\n",
       " 198,\n",
       " 200,\n",
       " 202,\n",
       " 204,\n",
       " 206,\n",
       " 208,\n",
       " 212,\n",
       " 214,\n",
       " 216,\n",
       " 218,\n",
       " 220,\n",
       " 222,\n",
       " 226,\n",
       " 228,\n",
       " 230,\n",
       " 232,\n",
       " 234,\n",
       " 236,\n",
       " 240,\n",
       " 242,\n",
       " 244,\n",
       " 246,\n",
       " 248,\n",
       " 250,\n",
       " 254,\n",
       " 256,\n",
       " 258,\n",
       " 260,\n",
       " 262,\n",
       " 264,\n",
       " 268,\n",
       " 270,\n",
       " 272,\n",
       " 274,\n",
       " 276,\n",
       " 278,\n",
       " 282,\n",
       " 284,\n",
       " 286,\n",
       " 288,\n",
       " 290,\n",
       " 292,\n",
       " 296,\n",
       " 298,\n",
       " 300,\n",
       " 302,\n",
       " 304,\n",
       " 306,\n",
       " 310,\n",
       " 312,\n",
       " 314,\n",
       " 316,\n",
       " 318,\n",
       " 320,\n",
       " 324,\n",
       " 326,\n",
       " 328,\n",
       " 330,\n",
       " 332,\n",
       " 334,\n",
       " 338,\n",
       " 340,\n",
       " 342,\n",
       " 344,\n",
       " 346,\n",
       " 348,\n",
       " 352,\n",
       " 354,\n",
       " 356,\n",
       " 358,\n",
       " 360,\n",
       " 362,\n",
       " 366,\n",
       " 368,\n",
       " 370,\n",
       " 372,\n",
       " 374,\n",
       " 376,\n",
       " 380,\n",
       " 382,\n",
       " 384,\n",
       " 386,\n",
       " 388,\n",
       " 390,\n",
       " 394,\n",
       " 396,\n",
       " 398,\n",
       " 400,\n",
       " 402,\n",
       " 404,\n",
       " 408,\n",
       " 410,\n",
       " 412,\n",
       " 414,\n",
       " 416,\n",
       " 418,\n",
       " 422,\n",
       " 424,\n",
       " 426,\n",
       " 428,\n",
       " 430,\n",
       " 432,\n",
       " 436,\n",
       " 438,\n",
       " 440,\n",
       " 442,\n",
       " 444,\n",
       " 446,\n",
       " 450,\n",
       " 452,\n",
       " 454,\n",
       " 456,\n",
       " 458,\n",
       " 460,\n",
       " 464,\n",
       " 466,\n",
       " 468,\n",
       " 470,\n",
       " 472,\n",
       " 474,\n",
       " 478,\n",
       " 480,\n",
       " 482,\n",
       " 484,\n",
       " 486,\n",
       " 488,\n",
       " 492,\n",
       " 494,\n",
       " 496,\n",
       " 498,\n",
       " 500,\n",
       " 502,\n",
       " 506,\n",
       " 508,\n",
       " 510,\n",
       " 512,\n",
       " 514,\n",
       " 516,\n",
       " 520,\n",
       " 522,\n",
       " 524,\n",
       " 526,\n",
       " 528,\n",
       " 530,\n",
       " 534,\n",
       " 536,\n",
       " 538,\n",
       " 540,\n",
       " 542,\n",
       " 544,\n",
       " 548,\n",
       " 550,\n",
       " 552,\n",
       " 554,\n",
       " 556,\n",
       " 558,\n",
       " 562,\n",
       " 564,\n",
       " 566,\n",
       " 568,\n",
       " 570,\n",
       " 572,\n",
       " 576,\n",
       " 578,\n",
       " 580,\n",
       " 582,\n",
       " 584,\n",
       " 586,\n",
       " 590,\n",
       " 592,\n",
       " 594,\n",
       " 596,\n",
       " 598,\n",
       " 600,\n",
       " 604,\n",
       " 606,\n",
       " 608,\n",
       " 610,\n",
       " 612,\n",
       " 614,\n",
       " 618,\n",
       " 620,\n",
       " 622,\n",
       " 624,\n",
       " 626,\n",
       " 628,\n",
       " 632,\n",
       " 634,\n",
       " 636,\n",
       " 638,\n",
       " 640,\n",
       " 642,\n",
       " 646,\n",
       " 648,\n",
       " 650,\n",
       " 652,\n",
       " 654,\n",
       " 656,\n",
       " 660,\n",
       " 662,\n",
       " 664,\n",
       " 666,\n",
       " 668,\n",
       " 670,\n",
       " 674,\n",
       " 676,\n",
       " 678,\n",
       " 680,\n",
       " 682,\n",
       " 684,\n",
       " 688,\n",
       " 690,\n",
       " 692,\n",
       " 694,\n",
       " 696,\n",
       " 698,\n",
       " 702,\n",
       " 704,\n",
       " 706,\n",
       " 708,\n",
       " 710,\n",
       " 712,\n",
       " 716,\n",
       " 718,\n",
       " 720,\n",
       " 722,\n",
       " 724,\n",
       " 726,\n",
       " 730,\n",
       " 732,\n",
       " 734,\n",
       " 736,\n",
       " 738,\n",
       " 740,\n",
       " 744,\n",
       " 746,\n",
       " 748,\n",
       " 750,\n",
       " 752,\n",
       " 754,\n",
       " 758,\n",
       " 760,\n",
       " 762,\n",
       " 764,\n",
       " 766,\n",
       " 768,\n",
       " 772,\n",
       " 774,\n",
       " 776,\n",
       " 778,\n",
       " 780,\n",
       " 782,\n",
       " 786,\n",
       " 788,\n",
       " 790,\n",
       " 792,\n",
       " 794,\n",
       " 796,\n",
       " 800,\n",
       " 802,\n",
       " 804,\n",
       " 806,\n",
       " 808,\n",
       " 810,\n",
       " 814,\n",
       " 816,\n",
       " 818,\n",
       " 820,\n",
       " 822,\n",
       " 824,\n",
       " 828,\n",
       " 830,\n",
       " 832,\n",
       " 834,\n",
       " 836,\n",
       " 838,\n",
       " 842,\n",
       " 844,\n",
       " 846,\n",
       " 848,\n",
       " 850,\n",
       " 852,\n",
       " 856,\n",
       " 858,\n",
       " 860,\n",
       " 862,\n",
       " 864,\n",
       " 866,\n",
       " 870,\n",
       " 872,\n",
       " 874,\n",
       " 876,\n",
       " 878,\n",
       " 880,\n",
       " 884,\n",
       " 886,\n",
       " 888,\n",
       " 890,\n",
       " 892,\n",
       " 894,\n",
       " 898,\n",
       " 900,\n",
       " 902,\n",
       " 904,\n",
       " 906,\n",
       " 908,\n",
       " 912,\n",
       " 914,\n",
       " 916,\n",
       " 918,\n",
       " 920,\n",
       " 922,\n",
       " 926,\n",
       " 928,\n",
       " 930,\n",
       " 932,\n",
       " 934,\n",
       " 936,\n",
       " 940,\n",
       " 942,\n",
       " 944,\n",
       " 946,\n",
       " 948,\n",
       " 950,\n",
       " 954,\n",
       " 956,\n",
       " 958,\n",
       " 960,\n",
       " 962,\n",
       " 964,\n",
       " 968,\n",
       " 970,\n",
       " 972,\n",
       " 974,\n",
       " 976,\n",
       " 978,\n",
       " 982,\n",
       " 984,\n",
       " 986,\n",
       " 988,\n",
       " 990,\n",
       " 992,\n",
       " 996,\n",
       " 998,\n",
       " 1000,\n",
       " 1002,\n",
       " 1004,\n",
       " 1006,\n",
       " 1010,\n",
       " 1012,\n",
       " 1014,\n",
       " 1016,\n",
       " 1018,\n",
       " 1020,\n",
       " 1024,\n",
       " 1026,\n",
       " 1028,\n",
       " 1030,\n",
       " 1032,\n",
       " 1034,\n",
       " 1038,\n",
       " 1040,\n",
       " 1042,\n",
       " 1044,\n",
       " 1046,\n",
       " 1048,\n",
       " 1052,\n",
       " 1054,\n",
       " 1056,\n",
       " 1058,\n",
       " 1060,\n",
       " 1062,\n",
       " 1066,\n",
       " 1068,\n",
       " 1070,\n",
       " 1072,\n",
       " 1074,\n",
       " 1076,\n",
       " 1080,\n",
       " 1082,\n",
       " 1084,\n",
       " 1086,\n",
       " 1088,\n",
       " 1090,\n",
       " 1094,\n",
       " 1096,\n",
       " 1098,\n",
       " 1100,\n",
       " 1102,\n",
       " 1104,\n",
       " 1108,\n",
       " 1110,\n",
       " 1112,\n",
       " 1114,\n",
       " 1116,\n",
       " 1118,\n",
       " 1122,\n",
       " 1124,\n",
       " 1126,\n",
       " 1128,\n",
       " 1130,\n",
       " 1132,\n",
       " 1136,\n",
       " 1138,\n",
       " 1140,\n",
       " 1142,\n",
       " 1144,\n",
       " 1146,\n",
       " 1150,\n",
       " 1152,\n",
       " 1154,\n",
       " 1156,\n",
       " 1158,\n",
       " 1160,\n",
       " 1164,\n",
       " 1166,\n",
       " 1168,\n",
       " 1170,\n",
       " 1172,\n",
       " 1174,\n",
       " 1178,\n",
       " 1180,\n",
       " 1182,\n",
       " 1184,\n",
       " 1186,\n",
       " 1188,\n",
       " 1192,\n",
       " 1194,\n",
       " 1196,\n",
       " 1198,\n",
       " 1200,\n",
       " 1202,\n",
       " 1206,\n",
       " 1208,\n",
       " 1210,\n",
       " 1212,\n",
       " 1214,\n",
       " 1216,\n",
       " 1220,\n",
       " 1222,\n",
       " 1224,\n",
       " 1226,\n",
       " 1228,\n",
       " 1230,\n",
       " 1234,\n",
       " 1236,\n",
       " 1238,\n",
       " 1240,\n",
       " 1242,\n",
       " 1244,\n",
       " 1248,\n",
       " 1250,\n",
       " 1252,\n",
       " 1254,\n",
       " 1256,\n",
       " 1258,\n",
       " 1262,\n",
       " 1264,\n",
       " 1266,\n",
       " 1268,\n",
       " 1270,\n",
       " 1272,\n",
       " 1276,\n",
       " 1278,\n",
       " 1280,\n",
       " 1282,\n",
       " 1284,\n",
       " 1286,\n",
       " 1290,\n",
       " 1292,\n",
       " 1294,\n",
       " 1296,\n",
       " 1298,\n",
       " 1300,\n",
       " 1304,\n",
       " 1306,\n",
       " 1308,\n",
       " 1310,\n",
       " 1312,\n",
       " 1314,\n",
       " 1318,\n",
       " 1320,\n",
       " 1322,\n",
       " 1324,\n",
       " 1326,\n",
       " 1328,\n",
       " 1332,\n",
       " 1334,\n",
       " 1336,\n",
       " 1338,\n",
       " 1340,\n",
       " 1342,\n",
       " 1346,\n",
       " 1348,\n",
       " 1350,\n",
       " 1352,\n",
       " 1354,\n",
       " 1356,\n",
       " 1360,\n",
       " 1362,\n",
       " 1364,\n",
       " 1366,\n",
       " 1368,\n",
       " 1370,\n",
       " 1374,\n",
       " 1376,\n",
       " 1378,\n",
       " 1380,\n",
       " 1382,\n",
       " 1384,\n",
       " 1388,\n",
       " 1390,\n",
       " 1392,\n",
       " 1394,\n",
       " 1396,\n",
       " 1398,\n",
       " 1402,\n",
       " 1404,\n",
       " 1406,\n",
       " 1408,\n",
       " 1410,\n",
       " 1412,\n",
       " 1416,\n",
       " 1418,\n",
       " 1420,\n",
       " 1422,\n",
       " 1424,\n",
       " 1426,\n",
       " 1430,\n",
       " 1432,\n",
       " 1434,\n",
       " 1436,\n",
       " 1438,\n",
       " 1440,\n",
       " 1444,\n",
       " 1446,\n",
       " 1448,\n",
       " 1450,\n",
       " 1452,\n",
       " 1454,\n",
       " 1458,\n",
       " 1460,\n",
       " 1462,\n",
       " 1464,\n",
       " 1466,\n",
       " 1468,\n",
       " 1472,\n",
       " 1474,\n",
       " 1476,\n",
       " 1478,\n",
       " 1480,\n",
       " 1482,\n",
       " 1486,\n",
       " 1488,\n",
       " 1490,\n",
       " 1492,\n",
       " 1494,\n",
       " 1496,\n",
       " 1500,\n",
       " 1502,\n",
       " 1504,\n",
       " 1506,\n",
       " 1508,\n",
       " 1510,\n",
       " 1514,\n",
       " 1516,\n",
       " 1518,\n",
       " 1520,\n",
       " 1522,\n",
       " 1524,\n",
       " 1528,\n",
       " 1530,\n",
       " 1532,\n",
       " 1534,\n",
       " 1536,\n",
       " 1538,\n",
       " 1542,\n",
       " 1544,\n",
       " 1546,\n",
       " 1548,\n",
       " 1550,\n",
       " 1552,\n",
       " 1556,\n",
       " 1558,\n",
       " 1560,\n",
       " 1562,\n",
       " 1564,\n",
       " 1566,\n",
       " 1570,\n",
       " 1572,\n",
       " 1574,\n",
       " 1576,\n",
       " 1578,\n",
       " 1580,\n",
       " 1584,\n",
       " 1586,\n",
       " 1588,\n",
       " 1590,\n",
       " 1592,\n",
       " 1594,\n",
       " 1598,\n",
       " 1600,\n",
       " 1602,\n",
       " 1604,\n",
       " 1606,\n",
       " 1608,\n",
       " 1612,\n",
       " 1614,\n",
       " 1616,\n",
       " 1618,\n",
       " 1620,\n",
       " 1622,\n",
       " 1626,\n",
       " 1628,\n",
       " 1630,\n",
       " 1632,\n",
       " 1634,\n",
       " 1636,\n",
       " 1640,\n",
       " 1642,\n",
       " 1644,\n",
       " 1646,\n",
       " 1648,\n",
       " 1650,\n",
       " 1654,\n",
       " 1656,\n",
       " 1658,\n",
       " 1660,\n",
       " 1662,\n",
       " 1664,\n",
       " 1668,\n",
       " 1670,\n",
       " 1672,\n",
       " 1674,\n",
       " 1676,\n",
       " 1678,\n",
       " 1682,\n",
       " 1684,\n",
       " 1686,\n",
       " 1688,\n",
       " 1690,\n",
       " 1692,\n",
       " 1696,\n",
       " 1698,\n",
       " 1700,\n",
       " 1702,\n",
       " 1704,\n",
       " 1706,\n",
       " 1710,\n",
       " 1712,\n",
       " 1714,\n",
       " 1716,\n",
       " 1718,\n",
       " 1720,\n",
       " 1724,\n",
       " 1726,\n",
       " 1728,\n",
       " 1730,\n",
       " 1732,\n",
       " 1734,\n",
       " 1738,\n",
       " 1740,\n",
       " 1742,\n",
       " 1744,\n",
       " 1746,\n",
       " 1748,\n",
       " 1752,\n",
       " 1754,\n",
       " 1756,\n",
       " 1758,\n",
       " 1760,\n",
       " 1762,\n",
       " 1766,\n",
       " 1768,\n",
       " 1770,\n",
       " 1772,\n",
       " 1774,\n",
       " 1776,\n",
       " 1780,\n",
       " 1782,\n",
       " 1784,\n",
       " 1786,\n",
       " 1788,\n",
       " 1790,\n",
       " 1794,\n",
       " 1796,\n",
       " 1798,\n",
       " 1800,\n",
       " 1802,\n",
       " 1804,\n",
       " 1808,\n",
       " 1810,\n",
       " 1812,\n",
       " 1814,\n",
       " 1816,\n",
       " 1818,\n",
       " 1822,\n",
       " 1824,\n",
       " 1826,\n",
       " 1828,\n",
       " 1830,\n",
       " 1832,\n",
       " 1836,\n",
       " 1838,\n",
       " 1840,\n",
       " 1842,\n",
       " 1844,\n",
       " 1846,\n",
       " 1850,\n",
       " 1852,\n",
       " 1854,\n",
       " 1856,\n",
       " 1858,\n",
       " 1860,\n",
       " 1864,\n",
       " 1866,\n",
       " 1868,\n",
       " 1870,\n",
       " 1872,\n",
       " 1874,\n",
       " 1878,\n",
       " 1880,\n",
       " 1882,\n",
       " 1884,\n",
       " 1886,\n",
       " 1888,\n",
       " 1892,\n",
       " 1894,\n",
       " 1896,\n",
       " 1898,\n",
       " 1900,\n",
       " 1902,\n",
       " 1906,\n",
       " 1908,\n",
       " 1910,\n",
       " 1912,\n",
       " 1914,\n",
       " 1916,\n",
       " 1920,\n",
       " 1922,\n",
       " 1924,\n",
       " 1926,\n",
       " 1928,\n",
       " 1930,\n",
       " 1934,\n",
       " 1936,\n",
       " 1938,\n",
       " 1940,\n",
       " 1942,\n",
       " 1944,\n",
       " 1948,\n",
       " 1950,\n",
       " 1952,\n",
       " 1954,\n",
       " 1956,\n",
       " 1958,\n",
       " 1962,\n",
       " 1964,\n",
       " 1966,\n",
       " 1968,\n",
       " 1970,\n",
       " 1972,\n",
       " 1976,\n",
       " 1978,\n",
       " 1980,\n",
       " 1982,\n",
       " 1984,\n",
       " 1986,\n",
       " 1990,\n",
       " 1992,\n",
       " 1994,\n",
       " 1996,\n",
       " 1998,\n",
       " 2004,\n",
       " 2006,\n",
       " 2008,\n",
       " 2010,\n",
       " 2012,\n",
       " 2014,\n",
       " 2018,\n",
       " 2020,\n",
       " 2022,\n",
       " 2024,\n",
       " 2026,\n",
       " 2028,\n",
       " 2032,\n",
       " 2034,\n",
       " 2036,\n",
       " 2038,\n",
       " 2040,\n",
       " 2042,\n",
       " 2046,\n",
       " 2048,\n",
       " 2050,\n",
       " 2052,\n",
       " 2054,\n",
       " 2056,\n",
       " 2060,\n",
       " 2062,\n",
       " 2064,\n",
       " 2066,\n",
       " 2068,\n",
       " 2070,\n",
       " 2074,\n",
       " 2076,\n",
       " 2078,\n",
       " 2080,\n",
       " 2082,\n",
       " 2084,\n",
       " 2088,\n",
       " 2090,\n",
       " 2092,\n",
       " 2094,\n",
       " 2096,\n",
       " 2098,\n",
       " 2102,\n",
       " 2104,\n",
       " 2106,\n",
       " 2108,\n",
       " 2110,\n",
       " 2112,\n",
       " 2116,\n",
       " 2118,\n",
       " 2120,\n",
       " 2122,\n",
       " 2124,\n",
       " 2126,\n",
       " 2130,\n",
       " 2132,\n",
       " 2134,\n",
       " 2136,\n",
       " 2138,\n",
       " 2140,\n",
       " 2144,\n",
       " 2146,\n",
       " 2148,\n",
       " 2150,\n",
       " 2152,\n",
       " 2154,\n",
       " 2158,\n",
       " 2160,\n",
       " 2162,\n",
       " 2164,\n",
       " 2166,\n",
       " 2168,\n",
       " 2172,\n",
       " 2174,\n",
       " 2176,\n",
       " 2178,\n",
       " 2180,\n",
       " 2182,\n",
       " 2186,\n",
       " 2188,\n",
       " 2190,\n",
       " 2192,\n",
       " 2194,\n",
       " 2196,\n",
       " 2200,\n",
       " 2202,\n",
       " 2204,\n",
       " 2206,\n",
       " 2208,\n",
       " 2210,\n",
       " 2214,\n",
       " 2216,\n",
       " 2218,\n",
       " 2220,\n",
       " 2222,\n",
       " 2224,\n",
       " 2228,\n",
       " 2230,\n",
       " 2232,\n",
       " 2234,\n",
       " 2236,\n",
       " 2238,\n",
       " 2242,\n",
       " 2244,\n",
       " 2246,\n",
       " 2248,\n",
       " 2250,\n",
       " 2252,\n",
       " 2256,\n",
       " 2258,\n",
       " 2260,\n",
       " 2262,\n",
       " 2264,\n",
       " 2266,\n",
       " 2270,\n",
       " 2272,\n",
       " 2274,\n",
       " 2276,\n",
       " 2278,\n",
       " 2280,\n",
       " 2284,\n",
       " 2286,\n",
       " 2288,\n",
       " 2290,\n",
       " 2292,\n",
       " 2294,\n",
       " 2298,\n",
       " 2300,\n",
       " 2302,\n",
       " 2304,\n",
       " 2306,\n",
       " 2308,\n",
       " 2312,\n",
       " 2314,\n",
       " 2316,\n",
       " 2318,\n",
       " 2320,\n",
       " 2322,\n",
       " 2326,\n",
       " 2328,\n",
       " 2330,\n",
       " 2332,\n",
       " 2334,\n",
       " ...]"
      ]
     },
     "execution_count": 33,
     "metadata": {},
     "output_type": "execute_result"
    }
   ],
   "source": [
    "rdd3.collect()"
   ]
  },
  {
   "cell_type": "markdown",
   "metadata": {},
   "source": [
    "### `take()` пытается минимизировать число обращений к партициям, поэтому может возвращать смещенные результаты"
   ]
  },
  {
   "cell_type": "code",
   "execution_count": 34,
   "metadata": {},
   "outputs": [
    {
     "data": {
      "text/plain": [
       "[0, 1, 2, 3, 4, 5, 6, 7, 8, 9]"
      ]
     },
     "execution_count": 34,
     "metadata": {},
     "output_type": "execute_result"
    }
   ],
   "source": [
    "rdd.take(10)"
   ]
  },
  {
   "cell_type": "markdown",
   "metadata": {},
   "source": [
    "### Будьте аккуратны с `collect()`, потому что он загружает все данные из RDD на драйвер. Это может легко привести к Out of Memory exception"
   ]
  },
  {
   "cell_type": "code",
   "execution_count": 35,
   "metadata": {},
   "outputs": [
    {
     "data": {
      "text/plain": [
       "[0, 1, 2, 3, 4, 5, 6, 7, 8, 9, 10, 11, 12, 13, 14, 15, 16, 17, 18, 19]"
      ]
     },
     "execution_count": 35,
     "metadata": {},
     "output_type": "execute_result"
    }
   ],
   "source": [
    "rdd.collect()[:20]"
   ]
  },
  {
   "cell_type": "markdown",
   "metadata": {},
   "source": [
    "### Если нужно получить небольшое число записей на драйвер и, при этом, сохранить распределение, то лучше сделать выборку"
   ]
  },
  {
   "cell_type": "code",
   "execution_count": 36,
   "metadata": {},
   "outputs": [
    {
     "data": {
      "text/plain": [
       "[347399,\n",
       " 536788,\n",
       " 94124,\n",
       " 169558,\n",
       " 729189,\n",
       " 836541,\n",
       " 973939,\n",
       " 512558,\n",
       " 171385,\n",
       " 123303,\n",
       " 364321,\n",
       " 587839,\n",
       " 139749,\n",
       " 532891,\n",
       " 757568,\n",
       " 969298,\n",
       " 544812,\n",
       " 690521,\n",
       " 175014,\n",
       " 895109]"
      ]
     },
     "execution_count": 36,
     "metadata": {},
     "output_type": "execute_result"
    }
   ],
   "source": [
    "rdd.takeSample(withReplacement=False, num=20, seed=5757)"
   ]
  },
  {
   "cell_type": "markdown",
   "metadata": {},
   "source": [
    "## Познакомимся с данными. Будем работать с двумя таблицами"
   ]
  },
  {
   "cell_type": "markdown",
   "metadata": {},
   "source": [
    "![](pics/data_table1.png)"
   ]
  },
  {
   "cell_type": "markdown",
   "metadata": {},
   "source": [
    "![](pics/data_table2.png)"
   ]
  },
  {
   "cell_type": "markdown",
   "metadata": {},
   "source": [
    "### Примеры трансформаций"
   ]
  },
  {
   "cell_type": "code",
   "execution_count": 37,
   "metadata": {},
   "outputs": [],
   "source": [
    "rdd = sc.textFile(\"/lectures/lecture01/data/ips.txt\")"
   ]
  },
  {
   "cell_type": "code",
   "execution_count": 38,
   "metadata": {},
   "outputs": [
    {
     "data": {
      "text/plain": [
       "2"
      ]
     },
     "execution_count": 38,
     "metadata": {},
     "output_type": "execute_result"
    }
   ],
   "source": [
    "rdd.getNumPartitions()"
   ]
  },
  {
   "cell_type": "code",
   "execution_count": 39,
   "metadata": {},
   "outputs": [
    {
     "data": {
      "text/plain": [
       "['192.168.0.1\\tCHINA',\n",
       " '192.168.0.2\\tCHINA',\n",
       " '192.168.0.3\\tCHINA',\n",
       " '192.168.0.4\\tCHINA',\n",
       " '192.168.0.5\\tCHINA']"
      ]
     },
     "execution_count": 39,
     "metadata": {},
     "output_type": "execute_result"
    }
   ],
   "source": [
    "rdd.take(5)"
   ]
  },
  {
   "cell_type": "code",
   "execution_count": 40,
   "metadata": {},
   "outputs": [],
   "source": [
    "ips = rdd.map(lambda x: x.split(\"\\t\"))"
   ]
  },
  {
   "cell_type": "code",
   "execution_count": 41,
   "metadata": {},
   "outputs": [
    {
     "data": {
      "text/plain": [
       "[['192.168.0.1', 'CHINA'],\n",
       " ['192.168.0.2', 'CHINA'],\n",
       " ['192.168.0.3', 'CHINA'],\n",
       " ['192.168.0.4', 'CHINA'],\n",
       " ['192.168.0.5', 'CHINA']]"
      ]
     },
     "execution_count": 41,
     "metadata": {},
     "output_type": "execute_result"
    }
   ],
   "source": [
    "ips.take(5)"
   ]
  },
  {
   "cell_type": "code",
   "execution_count": 42,
   "metadata": {},
   "outputs": [],
   "source": [
    "ips_filtered = ips.filter(lambda x: x[1] != \"CHINA\")"
   ]
  },
  {
   "cell_type": "code",
   "execution_count": 43,
   "metadata": {},
   "outputs": [
    {
     "data": {
      "text/plain": [
       "[['192.168.0.201', 'RUSSIA'],\n",
       " ['192.168.0.202', 'RUSSIA'],\n",
       " ['192.168.0.203', 'RUSSIA'],\n",
       " ['192.168.0.204', 'RUSSIA'],\n",
       " ['192.168.0.205', 'RUSSIA']]"
      ]
     },
     "execution_count": 43,
     "metadata": {},
     "output_type": "execute_result"
    }
   ],
   "source": [
    "ips_filtered.take(5)"
   ]
  },
  {
   "cell_type": "code",
   "execution_count": 44,
   "metadata": {},
   "outputs": [
    {
     "name": "stdout",
     "output_type": "stream",
     "text": [
      "Found 5 items\r\n",
      "-rw-r--r--   3 hdfs hdfs          0 2022-01-06 18:47 /lectures/lecture01/data/log.txt/_SUCCESS\r\n",
      "-rw-r--r--   3 hdfs hdfs   12650786 2022-01-06 18:47 /lectures/lecture01/data/log.txt/part-00000\r\n",
      "-rw-r--r--   3 hdfs hdfs   12644978 2022-01-06 18:47 /lectures/lecture01/data/log.txt/part-00001\r\n",
      "-rw-r--r--   3 hdfs hdfs   12646744 2022-01-06 18:47 /lectures/lecture01/data/log.txt/part-00002\r\n",
      "-rw-r--r--   3 hdfs hdfs   12676672 2022-01-06 18:47 /lectures/lecture01/data/log.txt/part-00003\r\n"
     ]
    }
   ],
   "source": [
    "!hdfs dfs -ls /lectures/lecture01/data/log.txt"
   ]
  },
  {
   "cell_type": "code",
   "execution_count": 45,
   "metadata": {},
   "outputs": [],
   "source": [
    "raw_logs = sc.textFile(\"/lectures/lecture01/data/log.txt\")"
   ]
  },
  {
   "cell_type": "code",
   "execution_count": 46,
   "metadata": {},
   "outputs": [
    {
     "data": {
      "text/plain": [
       "4"
      ]
     },
     "execution_count": 46,
     "metadata": {},
     "output_type": "execute_result"
    }
   ],
   "source": [
    "raw_logs.getNumPartitions()"
   ]
  },
  {
   "cell_type": "code",
   "execution_count": 47,
   "metadata": {},
   "outputs": [
    {
     "data": {
      "text/plain": [
       "['192.168.0.10\\tERROR\\tWhen production fails in dipsair, whom you gonna call?',\n",
       " '192.168.0.39\\tINFO\\tJust an info message passing by',\n",
       " '192.168.0.35\\tINFO\\tJust an info message passing by',\n",
       " '192.168.0.19\\tINFO\\tJust an info message passing by',\n",
       " '192.168.0.23\\tERROR\\tWhen production fails in dipsair, whom you gonna call?']"
      ]
     },
     "execution_count": 47,
     "metadata": {},
     "output_type": "execute_result"
    }
   ],
   "source": [
    "raw_logs.take(5)"
   ]
  },
  {
   "cell_type": "code",
   "execution_count": 48,
   "metadata": {},
   "outputs": [],
   "source": [
    "logs = raw_logs.map(lambda x: x.split(\"\\t\"))"
   ]
  },
  {
   "cell_type": "code",
   "execution_count": 49,
   "metadata": {},
   "outputs": [
    {
     "data": {
      "text/plain": [
       "[['192.168.0.10',\n",
       "  'ERROR',\n",
       "  'When production fails in dipsair, whom you gonna call?'],\n",
       " ['192.168.0.39', 'INFO', 'Just an info message passing by'],\n",
       " ['192.168.0.35', 'INFO', 'Just an info message passing by'],\n",
       " ['192.168.0.19', 'INFO', 'Just an info message passing by'],\n",
       " ['192.168.0.23',\n",
       "  'ERROR',\n",
       "  'When production fails in dipsair, whom you gonna call?']]"
      ]
     },
     "execution_count": 49,
     "metadata": {},
     "output_type": "execute_result"
    }
   ],
   "source": [
    "logs.take(5)"
   ]
  },
  {
   "cell_type": "code",
   "execution_count": 50,
   "metadata": {},
   "outputs": [
    {
     "data": {
      "text/plain": [
       "['When',\n",
       " 'production',\n",
       " 'fails',\n",
       " 'in',\n",
       " 'dipsair,',\n",
       " 'whom',\n",
       " 'you',\n",
       " 'gonna',\n",
       " 'call?',\n",
       " 'Just',\n",
       " 'an',\n",
       " 'info',\n",
       " 'message',\n",
       " 'passing',\n",
       " 'by',\n",
       " 'Just',\n",
       " 'an',\n",
       " 'info',\n",
       " 'message',\n",
       " 'passing']"
      ]
     },
     "execution_count": 50,
     "metadata": {},
     "output_type": "execute_result"
    }
   ],
   "source": [
    "logs.flatMap(lambda x: x[2].split()).take(20)"
   ]
  },
  {
   "cell_type": "code",
   "execution_count": 51,
   "metadata": {},
   "outputs": [],
   "source": [
    "words = logs.flatMap(lambda x: x[2].split())"
   ]
  },
  {
   "cell_type": "code",
   "execution_count": 52,
   "metadata": {},
   "outputs": [
    {
     "data": {
      "text/plain": [
       "['When',\n",
       " 'production',\n",
       " 'fails',\n",
       " 'in',\n",
       " 'dipsair,',\n",
       " 'whom',\n",
       " 'you',\n",
       " 'gonna',\n",
       " 'call?',\n",
       " 'Just']"
      ]
     },
     "execution_count": 52,
     "metadata": {},
     "output_type": "execute_result"
    }
   ],
   "source": [
    "words.take(10)"
   ]
  },
  {
   "cell_type": "code",
   "execution_count": 55,
   "metadata": {},
   "outputs": [
    {
     "data": {
      "text/plain": [
       "4"
      ]
     },
     "execution_count": 55,
     "metadata": {},
     "output_type": "execute_result"
    }
   ],
   "source": [
    "words.groupBy(lambda x: x).getNumPartitions()"
   ]
  },
  {
   "cell_type": "code",
   "execution_count": 53,
   "metadata": {},
   "outputs": [
    {
     "data": {
      "text/plain": [
       "19"
      ]
     },
     "execution_count": 53,
     "metadata": {},
     "output_type": "execute_result"
    }
   ],
   "source": [
    "words.groupBy(lambda x: x).count()"
   ]
  },
  {
   "cell_type": "markdown",
   "metadata": {},
   "source": [
    "## Зачем нужны отдельные трансформации и отдельные action?"
   ]
  },
  {
   "cell_type": "markdown",
   "metadata": {},
   "source": [
    "![](pics/dag1.png)"
   ]
  },
  {
   "cell_type": "markdown",
   "metadata": {},
   "source": [
    "![](pics/dag2.png)"
   ]
  },
  {
   "cell_type": "markdown",
   "metadata": {},
   "source": [
    "### Последовательность трансформаций определяет граф вычислений (DAG - direct acyclic graph). В нем есть партиции и зависимости между партициями. Таким образом Spark имеет всю необходимую информацию для вычилсения графа в любой точке и возможных оптимизаций"
   ]
  },
  {
   "cell_type": "markdown",
   "metadata": {},
   "source": [
    "![](pics/dag3.png)"
   ]
  },
  {
   "cell_type": "markdown",
   "metadata": {},
   "source": [
    "### Трансформации бывают *узкими*"
   ]
  },
  {
   "cell_type": "markdown",
   "metadata": {},
   "source": [
    "![](pics/narrow_transformation.png)"
   ]
  },
  {
   "cell_type": "markdown",
   "metadata": {},
   "source": [
    "### И *широкими*"
   ]
  },
  {
   "cell_type": "markdown",
   "metadata": {},
   "source": [
    "![](pics/wide_transformation.png)"
   ]
  },
  {
   "cell_type": "markdown",
   "metadata": {},
   "source": [
    "### Широкие трансформации разделяют джоб на стейджи. Между стейджами происходит shuffle данных, которого надо избегать. Кстати почему?"
   ]
  },
  {
   "cell_type": "markdown",
   "metadata": {},
   "source": [
    "## Summary:\n",
    "    \n",
    "    - Каждое действие (action) инициирует новое задание (job)\n",
    "    - Spark анализирует граф RDD и строит план выполнения\n",
    "    - План выполнения может включать несколько этапов (stages)\n",
    "    - Каждый этап состоит из набора задач (tasks) - полняется один и тот же код на разных кусочках данных"
   ]
  },
  {
   "cell_type": "code",
   "execution_count": 56,
   "metadata": {},
   "outputs": [
    {
     "data": {
      "text/plain": [
       "[['192.168.0.201', 'RUSSIA'],\n",
       " ['192.168.0.202', 'RUSSIA'],\n",
       " ['192.168.0.203', 'RUSSIA'],\n",
       " ['192.168.0.204', 'RUSSIA'],\n",
       " ['192.168.0.205', 'RUSSIA']]"
      ]
     },
     "execution_count": 56,
     "metadata": {},
     "output_type": "execute_result"
    }
   ],
   "source": [
    "rdd = sc.textFile(\"/lectures/lecture01/data/ips.txt\")\n",
    "ips = rdd.map(lambda x: x.split(\"\\t\"))\n",
    "ips_filtered = ips.filter(lambda x: x[1] != \"CHINA\")\n",
    "ips_filtered.take(5)"
   ]
  },
  {
   "cell_type": "code",
   "execution_count": 57,
   "metadata": {},
   "outputs": [
    {
     "data": {
      "text/plain": [
       "19"
      ]
     },
     "execution_count": 57,
     "metadata": {},
     "output_type": "execute_result"
    }
   ],
   "source": [
    "raw_logs = sc.textFile(\"/lectures/lecture01/data/log.txt\")\n",
    "logs = raw_logs.map(lambda x: x.split(\"\\t\"))\n",
    "words = logs.flatMap(lambda x: x[2].split())\n",
    "words.groupBy(lambda x: x).count()\n",
    "words.groupBy(lambda x: x).count()"
   ]
  },
  {
   "cell_type": "markdown",
   "metadata": {},
   "source": [
    "## Персистентность и кэширование"
   ]
  },
  {
   "cell_type": "markdown",
   "metadata": {},
   "source": [
    "### RDD вычисляются лениво, когда вызывается action. Часто мы хотим вызвать несколько actions для одного и тоге же RDD. Если мы просто сделаем это, то граф будет полностью перевычисляться каждый раз."
   ]
  },
  {
   "cell_type": "code",
   "execution_count": 58,
   "metadata": {},
   "outputs": [
    {
     "data": {
      "text/plain": [
       "1000"
      ]
     },
     "execution_count": 58,
     "metadata": {},
     "output_type": "execute_result"
    }
   ],
   "source": [
    "ips.count()"
   ]
  },
  {
   "cell_type": "code",
   "execution_count": 59,
   "metadata": {},
   "outputs": [
    {
     "data": {
      "text/plain": [
       "[['192.168.3.99', 'USA'],\n",
       " ['192.168.3.98', 'USA'],\n",
       " ['192.168.3.97', 'USA'],\n",
       " ['192.168.3.96', 'USA'],\n",
       " ['192.168.3.95', 'USA'],\n",
       " ['192.168.3.94', 'USA'],\n",
       " ['192.168.3.93', 'USA'],\n",
       " ['192.168.3.92', 'USA'],\n",
       " ['192.168.3.91', 'USA'],\n",
       " ['192.168.3.90', 'USA']]"
      ]
     },
     "execution_count": 59,
     "metadata": {},
     "output_type": "execute_result"
    }
   ],
   "source": [
    "ips.top(10)"
   ]
  },
  {
   "cell_type": "markdown",
   "metadata": {},
   "source": [
    "### Чтобы этого избежать, мы можем закэшировать RDD в памяти. Кэширование произойдет при вызове первого action."
   ]
  },
  {
   "cell_type": "code",
   "execution_count": 60,
   "metadata": {},
   "outputs": [],
   "source": [
    "ips_cached = ips.cache()"
   ]
  },
  {
   "cell_type": "code",
   "execution_count": 61,
   "metadata": {},
   "outputs": [
    {
     "data": {
      "text/plain": [
       "1000"
      ]
     },
     "execution_count": 61,
     "metadata": {},
     "output_type": "execute_result"
    }
   ],
   "source": [
    "ips_cached.count()"
   ]
  },
  {
   "cell_type": "code",
   "execution_count": 63,
   "metadata": {},
   "outputs": [
    {
     "data": {
      "text/plain": [
       "[['192.168.3.99', 'USA'],\n",
       " ['192.168.3.98', 'USA'],\n",
       " ['192.168.3.97', 'USA'],\n",
       " ['192.168.3.96', 'USA'],\n",
       " ['192.168.3.95', 'USA'],\n",
       " ['192.168.3.94', 'USA'],\n",
       " ['192.168.3.93', 'USA'],\n",
       " ['192.168.3.92', 'USA'],\n",
       " ['192.168.3.91', 'USA'],\n",
       " ['192.168.3.90', 'USA'],\n",
       " ['192.168.3.9', 'USA'],\n",
       " ['192.168.3.89', 'USA'],\n",
       " ['192.168.3.88', 'USA'],\n",
       " ['192.168.3.87', 'USA'],\n",
       " ['192.168.3.86', 'USA'],\n",
       " ['192.168.3.85', 'USA'],\n",
       " ['192.168.3.84', 'USA'],\n",
       " ['192.168.3.83', 'USA'],\n",
       " ['192.168.3.82', 'USA'],\n",
       " ['192.168.3.81', 'USA']]"
      ]
     },
     "execution_count": 63,
     "metadata": {},
     "output_type": "execute_result"
    }
   ],
   "source": [
    "ips_cached.top(20)"
   ]
  },
  {
   "cell_type": "markdown",
   "metadata": {},
   "source": [
    "### `cache()` сохраняет RDD в памяти. Для большего контроля можно использовать `persist(storage_level)`:\n",
    "+ MEMORY_ONLY\n",
    "+ MEMORY_AND_DISK\n",
    "+ DISK_ONLY\n",
    "+ MEMORY_ONLY_2\n",
    "+ MEMORY_AND_DISK_2"
   ]
  },
  {
   "cell_type": "markdown",
   "metadata": {},
   "source": [
    "## Удаление данных из кэша\n",
    " - Автоматическое (LRU cache)"
   ]
  },
  {
   "cell_type": "code",
   "execution_count": 64,
   "metadata": {},
   "outputs": [
    {
     "data": {
      "text/plain": [
       "PythonRDD[72] at RDD at PythonRDD.scala:53"
      ]
     },
     "execution_count": 64,
     "metadata": {},
     "output_type": "execute_result"
    }
   ],
   "source": [
    "ips_cached.unpersist()"
   ]
  },
  {
   "cell_type": "markdown",
   "metadata": {},
   "source": [
    "### Обработка отказов\n",
    "\n",
    "- Промежуточные результаты не сохраняются в HDFS\n",
    "- RDD по-умолчанию не реплицируются\n",
    "- Для восстановления потерянных данных используется информация о происхождении\n",
    "- Spark восстанавливает потерянные фрагменты RDD, заново вычисляя их путем применения трансформаций"
   ]
  },
  {
   "cell_type": "markdown",
   "metadata": {},
   "source": [
    "## PairRDD (ключ-значение)"
   ]
  },
  {
   "cell_type": "markdown",
   "metadata": {},
   "source": [
    "### PairRDD - это RDD для работы с парами ключ-значение. Spark предполагает, что PairRDD содержит в себе объекты, состящие ровно из двух элементов! PairRDD предоставляют методы группировки, аггрегации и объединения (join) двух RDD"
   ]
  },
  {
   "cell_type": "markdown",
   "metadata": {},
   "source": [
    "### Пусть есть задача подсчитать распределение кодов ERROR и WARNING в лог-файле"
   ]
  },
  {
   "cell_type": "code",
   "execution_count": 65,
   "metadata": {},
   "outputs": [
    {
     "data": {
      "text/plain": [
       "['192.168.0.10\\tERROR\\tWhen production fails in dipsair, whom you gonna call?',\n",
       " '192.168.0.39\\tINFO\\tJust an info message passing by',\n",
       " '192.168.0.35\\tINFO\\tJust an info message passing by',\n",
       " '192.168.0.19\\tINFO\\tJust an info message passing by',\n",
       " '192.168.0.23\\tERROR\\tWhen production fails in dipsair, whom you gonna call?']"
      ]
     },
     "execution_count": 65,
     "metadata": {},
     "output_type": "execute_result"
    }
   ],
   "source": [
    "raw_logs.take(5)"
   ]
  },
  {
   "cell_type": "code",
   "execution_count": 66,
   "metadata": {},
   "outputs": [
    {
     "data": {
      "text/plain": [
       "[('WARNING', <pyspark.resultiterable.ResultIterable at 0x7f50a52a5208>),\n",
       " ('ERROR', <pyspark.resultiterable.ResultIterable at 0x7f50a52a5748>)]"
      ]
     },
     "execution_count": 66,
     "metadata": {},
     "output_type": "execute_result"
    }
   ],
   "source": [
    "(raw_logs.filter(lambda x: \"INFO\" not in x)\n",
    "         .map(lambda x: (x.split(\"\\t\")[1], 1))\\\n",
    "         .groupByKey()\n",
    "         .collect())"
   ]
  },
  {
   "cell_type": "code",
   "execution_count": 67,
   "metadata": {},
   "outputs": [
    {
     "data": {
      "text/plain": [
       "[('WARNING', 250004), ('ERROR', 49948)]"
      ]
     },
     "execution_count": 67,
     "metadata": {},
     "output_type": "execute_result"
    }
   ],
   "source": [
    "(raw_logs.filter(lambda x: \"INFO\" not in x)\n",
    "         .map(lambda x: (x.split(\"\\t\")[1], 1))\\\n",
    "         .groupByKey()\n",
    "         .map(lambda x: (x[0], len(x[1])))\n",
    "         .collect())"
   ]
  },
  {
   "cell_type": "markdown",
   "metadata": {},
   "source": [
    "### Или немного проще"
   ]
  },
  {
   "cell_type": "code",
   "execution_count": 68,
   "metadata": {},
   "outputs": [
    {
     "data": {
      "text/plain": [
       "dict_items([('ERROR', 49948), ('WARNING', 250004)])"
      ]
     },
     "execution_count": 68,
     "metadata": {},
     "output_type": "execute_result"
    }
   ],
   "source": [
    "(raw_logs.filter(lambda x: \"INFO\" not in x)\n",
    "         .map(lambda x: (x.split(\"\\t\")[1], 1))\n",
    "         .countByKey()\n",
    "         .items())"
   ]
  },
  {
   "cell_type": "markdown",
   "metadata": {},
   "source": [
    "### Стоит заметить, что `groupByKey()` предполагает перемещение всех записей с одним ключом на один экзекьютор. В случае очень скошенных распределений это может привести к падению экзекьютора с OOM. Поэтому всегда при группировках стоит подумать об использовании `reduceByKey()`."
   ]
  },
  {
   "cell_type": "code",
   "execution_count": 69,
   "metadata": {},
   "outputs": [],
   "source": [
    "def plus(x, y):\n",
    "    return x + y"
   ]
  },
  {
   "cell_type": "code",
   "execution_count": 70,
   "metadata": {},
   "outputs": [
    {
     "data": {
      "text/plain": [
       "[('WARNING', 250004), ('ERROR', 49948)]"
      ]
     },
     "execution_count": 70,
     "metadata": {},
     "output_type": "execute_result"
    }
   ],
   "source": [
    "(raw_logs.filter(lambda x: \"INFO\" not in x)\n",
    "         .map(lambda x: (x.split(\"\\t\")[1], 1))\\\n",
    "         .reduceByKey(plus)\n",
    "         .collect())"
   ]
  },
  {
   "cell_type": "code",
   "execution_count": 71,
   "metadata": {},
   "outputs": [
    {
     "data": {
      "text/plain": [
       "[('ERROR', 49948), ('WARNING', 250004)]"
      ]
     },
     "execution_count": 71,
     "metadata": {},
     "output_type": "execute_result"
    }
   ],
   "source": [
    "(raw_logs.filter(lambda x: \"INFO\" not in x)\n",
    "         .map(lambda x: (x.split(\"\\t\")[1], 1))\\\n",
    "         .reduceByKey(lambda x, y: x + y)\n",
    "         .collect())"
   ]
  },
  {
   "cell_type": "markdown",
   "metadata": {},
   "source": [
    "## Join"
   ]
  },
  {
   "cell_type": "markdown",
   "metadata": {},
   "source": [
    "### Два PairRDD можно объединить по ключу\n",
    "### Поддерживаются inner join, left outer join, right outer join и full outer join"
   ]
  },
  {
   "cell_type": "code",
   "execution_count": 72,
   "metadata": {},
   "outputs": [
    {
     "data": {
      "text/plain": [
       "[['192.168.0.10',\n",
       "  'ERROR',\n",
       "  'When production fails in dipsair, whom you gonna call?'],\n",
       " ['192.168.0.39', 'INFO', 'Just an info message passing by'],\n",
       " ['192.168.0.35', 'INFO', 'Just an info message passing by'],\n",
       " ['192.168.0.19', 'INFO', 'Just an info message passing by'],\n",
       " ['192.168.0.23',\n",
       "  'ERROR',\n",
       "  'When production fails in dipsair, whom you gonna call?']]"
      ]
     },
     "execution_count": 72,
     "metadata": {},
     "output_type": "execute_result"
    }
   ],
   "source": [
    "logs.take(5)"
   ]
  },
  {
   "cell_type": "code",
   "execution_count": 73,
   "metadata": {},
   "outputs": [
    {
     "data": {
      "text/plain": [
       "[['192.168.0.1', 'CHINA'],\n",
       " ['192.168.0.2', 'CHINA'],\n",
       " ['192.168.0.3', 'CHINA'],\n",
       " ['192.168.0.4', 'CHINA'],\n",
       " ['192.168.0.5', 'CHINA']]"
      ]
     },
     "execution_count": 73,
     "metadata": {},
     "output_type": "execute_result"
    }
   ],
   "source": [
    "ips.take(5)"
   ]
  },
  {
   "cell_type": "code",
   "execution_count": 74,
   "metadata": {},
   "outputs": [
    {
     "data": {
      "text/plain": [
       "[('192.168.0.64', ('WARNING', 'CHINA')),\n",
       " ('192.168.0.64', ('INFO', 'CHINA')),\n",
       " ('192.168.0.64', ('INFO', 'CHINA')),\n",
       " ('192.168.0.64', ('INFO', 'CHINA')),\n",
       " ('192.168.0.64', ('INFO', 'CHINA'))]"
      ]
     },
     "execution_count": 74,
     "metadata": {},
     "output_type": "execute_result"
    }
   ],
   "source": [
    "logs.join(ips).take(5)"
   ]
  },
  {
   "cell_type": "markdown",
   "metadata": {},
   "source": [
    "![](pics/Jackie-Chan-WTF.jpg)"
   ]
  },
  {
   "cell_type": "markdown",
   "metadata": {},
   "source": [
    "### Не стоит забывать, что Spark предполагает, что PairRDD состоит ровно! из двух элементов, поэтому все остальные элементы просто отбрасываются!"
   ]
  },
  {
   "cell_type": "code",
   "execution_count": 75,
   "metadata": {},
   "outputs": [],
   "source": [
    "def split_logs(line):\n",
    "    split = line.split(\"\\t\")\n",
    "    return split[0], split[1:]"
   ]
  },
  {
   "cell_type": "code",
   "execution_count": 76,
   "metadata": {},
   "outputs": [],
   "source": [
    "logs_cached = raw_logs.map(split_logs).cache()"
   ]
  },
  {
   "cell_type": "code",
   "execution_count": 77,
   "metadata": {},
   "outputs": [
    {
     "data": {
      "text/plain": [
       "[('192.168.0.10',\n",
       "  ['ERROR', 'When production fails in dipsair, whom you gonna call?']),\n",
       " ('192.168.0.39', ['INFO', 'Just an info message passing by']),\n",
       " ('192.168.0.35', ['INFO', 'Just an info message passing by']),\n",
       " ('192.168.0.19', ['INFO', 'Just an info message passing by']),\n",
       " ('192.168.0.23',\n",
       "  ['ERROR', 'When production fails in dipsair, whom you gonna call?'])]"
      ]
     },
     "execution_count": 77,
     "metadata": {},
     "output_type": "execute_result"
    }
   ],
   "source": [
    "logs_cached.take(5)"
   ]
  },
  {
   "cell_type": "code",
   "execution_count": 78,
   "metadata": {},
   "outputs": [
    {
     "data": {
      "text/plain": [
       "[('192.168.0.64', (['WARNING', 'Something bad could happen'], 'CHINA')),\n",
       " ('192.168.0.64', (['INFO', 'Just an info message passing by'], 'CHINA')),\n",
       " ('192.168.0.64', (['INFO', 'Just an info message passing by'], 'CHINA')),\n",
       " ('192.168.0.64', (['INFO', 'Just an info message passing by'], 'CHINA')),\n",
       " ('192.168.0.64', (['INFO', 'Just an info message passing by'], 'CHINA'))]"
      ]
     },
     "execution_count": 78,
     "metadata": {},
     "output_type": "execute_result"
    }
   ],
   "source": [
    "logs_cached.join(ips).take(5)"
   ]
  },
  {
   "cell_type": "markdown",
   "metadata": {},
   "source": [
    "## Управление параллелизмом."
   ]
  },
  {
   "cell_type": "markdown",
   "metadata": {},
   "source": [
    "### Вспомним, что атомарным уровнем параллелизма в Spark является партиция. Об этом всегда стоит помнить, когда есть проблемы с производительностью приложения"
   ]
  },
  {
   "cell_type": "code",
   "execution_count": 79,
   "metadata": {},
   "outputs": [
    {
     "data": {
      "text/plain": [
       "4"
      ]
     },
     "execution_count": 79,
     "metadata": {},
     "output_type": "execute_result"
    }
   ],
   "source": [
    "logs.getNumPartitions()"
   ]
  },
  {
   "cell_type": "markdown",
   "metadata": {},
   "source": [
    "### Метод `repartition()` может быть использован для изменения числа партиций."
   ]
  },
  {
   "cell_type": "code",
   "execution_count": 80,
   "metadata": {},
   "outputs": [],
   "source": [
    "logs = logs.repartition(100)"
   ]
  },
  {
   "cell_type": "code",
   "execution_count": 81,
   "metadata": {},
   "outputs": [
    {
     "data": {
      "text/plain": [
       "100"
      ]
     },
     "execution_count": 81,
     "metadata": {},
     "output_type": "execute_result"
    }
   ],
   "source": [
    "logs.getNumPartitions()"
   ]
  },
  {
   "cell_type": "markdown",
   "metadata": {},
   "source": [
    "### `repartition()` всегда приводит к равномерному перераспределению данных, что ведет к shuffle. Если Вы уменьшаете число партиций, то стоит использовать `coalesce()`, который может избежать shuffle"
   ]
  },
  {
   "cell_type": "code",
   "execution_count": 93,
   "metadata": {},
   "outputs": [],
   "source": [
    "logs = logs.coalesce(12)"
   ]
  },
  {
   "cell_type": "code",
   "execution_count": 94,
   "metadata": {},
   "outputs": [
    {
     "data": {
      "text/plain": [
       "6"
      ]
     },
     "execution_count": 94,
     "metadata": {},
     "output_type": "execute_result"
    }
   ],
   "source": [
    "logs.getNumPartitions()"
   ]
  },
  {
   "cell_type": "code",
   "execution_count": 86,
   "metadata": {},
   "outputs": [],
   "source": [
    "logs_1 = logs.coalesce(3)"
   ]
  },
  {
   "cell_type": "code",
   "execution_count": 88,
   "metadata": {},
   "outputs": [],
   "source": [
    "logs = logs.coalesce(6)"
   ]
  },
  {
   "cell_type": "code",
   "execution_count": 89,
   "metadata": {},
   "outputs": [
    {
     "data": {
      "text/plain": [
       "6"
      ]
     },
     "execution_count": 89,
     "metadata": {},
     "output_type": "execute_result"
    }
   ],
   "source": [
    "logs.getNumPartitions()"
   ]
  },
  {
   "cell_type": "markdown",
   "metadata": {},
   "source": [
    "### Узнать дефолтный уровень параллелизма можно из конфига. По-умолчанию, при работе с YARN, использукется общее число ядер, выделенных этому SparkContext на всех экзекьюторах, либо 2. Что больше."
   ]
  },
  {
   "cell_type": "code",
   "execution_count": 90,
   "metadata": {},
   "outputs": [
    {
     "name": "stdout",
     "output_type": "stream",
     "text": [
      "None\n"
     ]
    }
   ],
   "source": [
    "print(sc.getConf().get(\"spark.default.parallelism\"))"
   ]
  },
  {
   "cell_type": "code",
   "execution_count": 95,
   "metadata": {},
   "outputs": [
    {
     "data": {
      "text/plain": [
       "3"
      ]
     },
     "execution_count": 95,
     "metadata": {},
     "output_type": "execute_result"
    }
   ],
   "source": [
    "sc.parallelize(range(100000)).getNumPartitions()"
   ]
  },
  {
   "cell_type": "markdown",
   "metadata": {},
   "source": [
    "## Broadcast"
   ]
  },
  {
   "cell_type": "markdown",
   "metadata": {},
   "source": [
    "### Broadcast-объект - это неизменяемая переменная, которая разделяется между всеми экзекьюторами\n",
    "### Дистрибуция broadcast-объекта производится быстро и эффективно p2p-протоколом"
   ]
  },
  {
   "cell_type": "markdown",
   "metadata": {},
   "source": [
    "### Реализуем map-side join с помощью broadcast-объекта"
   ]
  },
  {
   "cell_type": "code",
   "execution_count": 96,
   "metadata": {},
   "outputs": [],
   "source": [
    "ips_local = dict(ips.collect())"
   ]
  },
  {
   "cell_type": "code",
   "execution_count": 97,
   "metadata": {},
   "outputs": [
    {
     "data": {
      "text/plain": [
       "'CHINA'"
      ]
     },
     "execution_count": 97,
     "metadata": {},
     "output_type": "execute_result"
    }
   ],
   "source": [
    "ips_local['192.168.0.10']"
   ]
  },
  {
   "cell_type": "code",
   "execution_count": 98,
   "metadata": {},
   "outputs": [],
   "source": [
    "ips_broadcasted = sc.broadcast(ips_local)"
   ]
  },
  {
   "cell_type": "code",
   "execution_count": 99,
   "metadata": {},
   "outputs": [
    {
     "data": {
      "text/plain": [
       "'CHINA'"
      ]
     },
     "execution_count": 99,
     "metadata": {},
     "output_type": "execute_result"
    }
   ],
   "source": [
    "ips_broadcasted.value['192.168.0.10']"
   ]
  },
  {
   "cell_type": "code",
   "execution_count": 100,
   "metadata": {},
   "outputs": [
    {
     "data": {
      "text/plain": [
       "[('192.168.0.10',\n",
       "  ['ERROR', 'When production fails in dipsair, whom you gonna call?']),\n",
       " ('192.168.0.39', ['INFO', 'Just an info message passing by']),\n",
       " ('192.168.0.35', ['INFO', 'Just an info message passing by']),\n",
       " ('192.168.0.19', ['INFO', 'Just an info message passing by']),\n",
       " ('192.168.0.23',\n",
       "  ['ERROR', 'When production fails in dipsair, whom you gonna call?'])]"
      ]
     },
     "execution_count": 100,
     "metadata": {},
     "output_type": "execute_result"
    }
   ],
   "source": [
    "logs_cached.take(5)"
   ]
  },
  {
   "cell_type": "code",
   "execution_count": 101,
   "metadata": {},
   "outputs": [],
   "source": [
    "def resolve_ip(row):\n",
    "    return ips_broadcasted.value[row[0]], row[1:] ## row[0] is the IP address"
   ]
  },
  {
   "cell_type": "code",
   "execution_count": 102,
   "metadata": {},
   "outputs": [
    {
     "data": {
      "text/plain": [
       "[('CHINA',\n",
       "  (['ERROR', 'When production fails in dipsair, whom you gonna call?'],)),\n",
       " ('CHINA', (['INFO', 'Just an info message passing by'],)),\n",
       " ('CHINA', (['INFO', 'Just an info message passing by'],)),\n",
       " ('CHINA', (['INFO', 'Just an info message passing by'],)),\n",
       " ('CHINA',\n",
       "  (['ERROR', 'When production fails in dipsair, whom you gonna call?'],)),\n",
       " ('CHINA',\n",
       "  (['ERROR', 'When production fails in dipsair, whom you gonna call?'],)),\n",
       " ('CHINA', (['INFO', 'Just an info message passing by'],)),\n",
       " ('CHINA', (['WARNING', 'Something bad could happen'],)),\n",
       " ('CHINA', (['INFO', 'Just an info message passing by'],)),\n",
       " ('CHINA', (['INFO', 'Just an info message passing by'],))]"
      ]
     },
     "execution_count": 102,
     "metadata": {},
     "output_type": "execute_result"
    }
   ],
   "source": [
    "logs_cached.map(resolve_ip).take(10)"
   ]
  },
  {
   "cell_type": "markdown",
   "metadata": {},
   "source": [
    "## Не забудьте погасить SparkContext!"
   ]
  },
  {
   "cell_type": "code",
   "execution_count": 103,
   "metadata": {},
   "outputs": [],
   "source": [
    "sc.stop()"
   ]
  },
  {
   "cell_type": "markdown",
   "metadata": {},
   "source": [
    "#### Полезные ссылки\n",
    "####  https://spark.apache.org/docs/2.4.7/rdd-programming-guide.html\n",
    "\n",
    "    "
   ]
  },
  {
   "cell_type": "code",
   "execution_count": null,
   "metadata": {},
   "outputs": [],
   "source": []
  }
 ],
 "metadata": {
  "kernelspec": {
   "display_name": "Python 3",
   "language": "python",
   "name": "python3"
  },
  "language_info": {
   "codemirror_mode": {
    "name": "ipython",
    "version": 3
   },
   "file_extension": ".py",
   "mimetype": "text/x-python",
   "name": "python",
   "nbconvert_exporter": "python",
   "pygments_lexer": "ipython3",
   "version": "3.6.5"
  }
 },
 "nbformat": 4,
 "nbformat_minor": 2
}
