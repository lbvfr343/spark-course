{
 "cells": [
  {
   "cell_type": "code",
   "execution_count": 1,
   "metadata": {},
   "outputs": [],
   "source": [
    "import os\n",
    "import sys\n",
    "os.environ[\"PYSPARK_SUBMIT_ARGS\"]='pyspark-shell'\n",
    "os.environ[\"PYSPARK_PYTHON\"]='/opt/anaconda/envs/bd9/bin/python'\n",
    "os.environ[\"SPARK_HOME\"]='/usr/hdp/current/spark2-client'\n",
    "\n",
    "spark_home = os.environ.get('SPARK_HOME', None)\n",
    "if not spark_home:\n",
    "    raise ValueError('SPARK_HOME environment variable is not set')\n",
    "sys.path.insert(0, os.path.join(spark_home, 'python'))\n",
    "sys.path.insert(0, os.path.join(spark_home, 'python/lib/py4j-0.10.7-src.zip'))"
   ]
  },
  {
   "cell_type": "code",
   "execution_count": 2,
   "metadata": {},
   "outputs": [],
   "source": [
    "from pyspark import SparkConf\n",
    "from pyspark.sql import SparkSession\n",
    "\n",
    "conf = SparkConf()\n",
    "conf.set(\"spark.app.name\", \"Sergey Grishaev Custom Estimator\")\n",
    "\n",
    "spark = SparkSession.builder.config(conf=conf).getOrCreate()"
   ]
  },
  {
   "cell_type": "code",
   "execution_count": 3,
   "metadata": {},
   "outputs": [
    {
     "data": {
      "text/html": [
       "\n",
       "            <div>\n",
       "                <p><b>SparkSession - in-memory</b></p>\n",
       "                \n",
       "        <div>\n",
       "            <p><b>SparkContext</b></p>\n",
       "\n",
       "            <p><a href=\"http://spark-master-4.newprolab.com:4048\">Spark UI</a></p>\n",
       "\n",
       "            <dl>\n",
       "              <dt>Version</dt>\n",
       "                <dd><code>v2.4.7</code></dd>\n",
       "              <dt>Master</dt>\n",
       "                <dd><code>yarn</code></dd>\n",
       "              <dt>AppName</dt>\n",
       "                <dd><code>Sergey Grishaev Custom Estimator</code></dd>\n",
       "            </dl>\n",
       "        </div>\n",
       "        \n",
       "            </div>\n",
       "        "
      ],
      "text/plain": [
       "<pyspark.sql.session.SparkSession at 0x7f75fc0ca9e8>"
      ]
     },
     "execution_count": 3,
     "metadata": {},
     "output_type": "execute_result"
    }
   ],
   "source": [
    "spark"
   ]
  },
  {
   "cell_type": "code",
   "execution_count": 4,
   "metadata": {},
   "outputs": [],
   "source": [
    "from pyspark.ml import Estimator"
   ]
  },
  {
   "cell_type": "code",
   "execution_count": 5,
   "metadata": {},
   "outputs": [],
   "source": [
    "from sklearn.linear_model import LogisticRegression"
   ]
  },
  {
   "cell_type": "code",
   "execution_count": 6,
   "metadata": {},
   "outputs": [],
   "source": [
    "from sklearn.datasets import make_classification"
   ]
  },
  {
   "cell_type": "code",
   "execution_count": 7,
   "metadata": {},
   "outputs": [],
   "source": [
    "from sklearn.model_selection import train_test_split"
   ]
  },
  {
   "cell_type": "code",
   "execution_count": 8,
   "metadata": {},
   "outputs": [],
   "source": [
    "X, y = make_classification(random_state=5757)"
   ]
  },
  {
   "cell_type": "code",
   "execution_count": 9,
   "metadata": {},
   "outputs": [
    {
     "data": {
      "text/plain": [
       "(100,)"
      ]
     },
     "execution_count": 9,
     "metadata": {},
     "output_type": "execute_result"
    }
   ],
   "source": [
    "y.shape"
   ]
  },
  {
   "cell_type": "code",
   "execution_count": 10,
   "metadata": {},
   "outputs": [],
   "source": [
    "X_train, X_test, y_train, y_test = train_test_split(X, y, test_size=0.2, random_state=5757)"
   ]
  },
  {
   "cell_type": "code",
   "execution_count": 11,
   "metadata": {},
   "outputs": [
    {
     "data": {
      "text/plain": [
       "(80, 20)"
      ]
     },
     "execution_count": 11,
     "metadata": {},
     "output_type": "execute_result"
    }
   ],
   "source": [
    "X_train.shape"
   ]
  },
  {
   "cell_type": "code",
   "execution_count": 12,
   "metadata": {},
   "outputs": [],
   "source": [
    "est = LogisticRegression(random_state=5757)"
   ]
  },
  {
   "cell_type": "code",
   "execution_count": 13,
   "metadata": {},
   "outputs": [
    {
     "data": {
      "text/plain": [
       "LogisticRegression(C=1.0, class_weight=None, dual=False, fit_intercept=True,\n",
       "          intercept_scaling=1, max_iter=100, multi_class='ovr', n_jobs=1,\n",
       "          penalty='l2', random_state=5757, solver='liblinear', tol=0.0001,\n",
       "          verbose=0, warm_start=False)"
      ]
     },
     "execution_count": 13,
     "metadata": {},
     "output_type": "execute_result"
    }
   ],
   "source": [
    "est.fit(X_train, y_train)"
   ]
  },
  {
   "cell_type": "code",
   "execution_count": 14,
   "metadata": {},
   "outputs": [],
   "source": [
    "from pyspark.ml.linalg import DenseVector"
   ]
  },
  {
   "cell_type": "code",
   "execution_count": 15,
   "metadata": {},
   "outputs": [],
   "source": [
    "from pyspark.sql.types import StructType, IntegerType, StructField, FloatType, ArrayType\n",
    "from pyspark.ml.linalg import VectorUDT"
   ]
  },
  {
   "cell_type": "code",
   "execution_count": 16,
   "metadata": {},
   "outputs": [
    {
     "data": {
      "text/plain": [
       "numpy.ndarray"
      ]
     },
     "execution_count": 16,
     "metadata": {},
     "output_type": "execute_result"
    }
   ],
   "source": [
    "type(X_test)"
   ]
  },
  {
   "cell_type": "code",
   "execution_count": 17,
   "metadata": {},
   "outputs": [
    {
     "data": {
      "text/plain": [
       "DenseVector([0.1671, 2.2893, 2.2519, -0.3188, -1.2869, -0.5163, 0.8432, -1.6526, 1.4384, -0.1379, -0.2343, 0.4912, -0.2036, -1.2666, 1.1291, -0.0674, 2.6995, 0.87, 0.3678, 0.1223])"
      ]
     },
     "execution_count": 17,
     "metadata": {},
     "output_type": "execute_result"
    }
   ],
   "source": [
    "DenseVector(X_test[0])"
   ]
  },
  {
   "cell_type": "markdown",
   "metadata": {},
   "source": [
    "## Способ №1, правильный, но не работает :("
   ]
  },
  {
   "cell_type": "code",
   "execution_count": 18,
   "metadata": {},
   "outputs": [],
   "source": [
    "schema = StructType(fields=[\n",
    "    StructField(\"features\", VectorUDT()),\n",
    "    StructField(\"label\", IntegerType())\n",
    "])"
   ]
  },
  {
   "cell_type": "code",
   "execution_count": 19,
   "metadata": {},
   "outputs": [],
   "source": [
    "df_test = spark.createDataFrame(zip(map(DenseVector, X_test), map(int, y_test)), schema=schema)"
   ]
  },
  {
   "cell_type": "code",
   "execution_count": 20,
   "metadata": {},
   "outputs": [
    {
     "name": "stdout",
     "output_type": "stream",
     "text": [
      "-RECORD 0------------------------------------------------------------------------------------------------------------------------------------------------------------------------------------------------------------------------------------------------------------------------------------------------------------------------------------------------------------------------------------------------------------------\n",
      " features | [0.16713128673558264,2.2893112354535443,2.2518975969569754,-0.31878614013255613,-1.2868621397193618,-0.5162775714359613,0.843158526491598,-1.6525535122202781,1.4383932357125822,-0.13787371422841443,-0.23428542641958883,0.4912248040453727,-0.20360458867688258,-1.266643128569604,1.12907621829968,-0.0674120219158951,2.6995101321549364,0.8699656880360123,0.36778099992705154,0.12234412406086248]      \n",
      " label    | 0                                                                                                                                                                                                                                                                                                                                                                                                              \n",
      "-RECORD 1------------------------------------------------------------------------------------------------------------------------------------------------------------------------------------------------------------------------------------------------------------------------------------------------------------------------------------------------------------------------------------------------------------------\n",
      " features | [2.501586338105629,1.3947383126479846,0.07338444656749446,0.6761150427916015,0.6805070412013924,-0.8856155383836729,0.17326970939053607,-1.1883111198798364,-1.1199903749780902,0.5505925954853123,-0.4551310653298509,0.6238472937387666,-0.9654357452109833,-1.0772569184097036,0.18237999034657432,-0.16378343461897893,0.860935819532145,-0.7319686383487192,-1.076546749509996,0.9002132219395576]        \n",
      " label    | 0                                                                                                                                                                                                                                                                                                                                                                                                              \n",
      "-RECORD 2------------------------------------------------------------------------------------------------------------------------------------------------------------------------------------------------------------------------------------------------------------------------------------------------------------------------------------------------------------------------------------------------------------------\n",
      " features | [-0.7699917522248021,0.11151469707343231,1.1872708693174603,-0.31994294852493943,1.6422507652854124,-1.3811737908530963,-0.689386413432388,-0.5114940256713588,-0.010274805290184225,1.9875589081659157,-0.46123238547272205,0.7946277506230198,0.6811462515038286,-0.5478040409446142,0.26135118579009875,0.6813948811706578,0.6752595024922239,0.2204391372815261,-1.22046932918163,0.35543557304818746]     \n",
      " label    | 0                                                                                                                                                                                                                                                                                                                                                                                                              \n",
      "-RECORD 3------------------------------------------------------------------------------------------------------------------------------------------------------------------------------------------------------------------------------------------------------------------------------------------------------------------------------------------------------------------------------------------------------------------\n",
      " features | [-0.9514898817744037,1.688606657418216,-0.40759378860066103,0.04237357260438367,-1.9611721649592098,-0.6364049538330397,-0.05917002260335075,-1.3001693847525482,0.4159187732025121,-0.5599030945669392,-0.2827700781546006,0.5075983148196826,0.6637795816185339,0.44030347295827865,-0.6257474915767467,-0.21423211253437902,-2.468790097733373,0.47502176229553694,0.15866852409491763,-0.3270305065018161] \n",
      " label    | 0                                                                                                                                                                                                                                                                                                                                                                                                              \n",
      "-RECORD 4------------------------------------------------------------------------------------------------------------------------------------------------------------------------------------------------------------------------------------------------------------------------------------------------------------------------------------------------------------------------------------------------------------------\n",
      " features | [1.3259892651744887,1.2876223503804527,0.4313087248668599,-1.3697447290921412,1.7660122894120112,-0.8388158483131075,0.31879982486564046,-1.103791906373477,-0.07601475169294516,-1.3434151174766715,0.8789047403933287,0.5879937348040642,0.04923528079249894,-0.05040027381549409,-1.6636870509021617,0.5074654842278018,0.3724222881671767,-2.1730240053587155,0.39143812292999725,-1.347669562035988]      \n",
      " label    | 0                                                                                                                                                                                                                                                                                                                                                                                                              \n",
      "-RECORD 5------------------------------------------------------------------------------------------------------------------------------------------------------------------------------------------------------------------------------------------------------------------------------------------------------------------------------------------------------------------------------------------------------------------\n",
      " features | [-0.5091954518113276,2.0363403236200863,-1.408181631984955,-0.92900220608104,1.7205813503452574,-0.6684521087802957,-0.5482397620091293,-1.5364441303326701,-0.23497534049319022,1.1720127910026394,0.01300472084619908,0.5558567101184217,-0.3119502106541385,-0.5514280750838022,2.0068862735574418,-0.3338298031576674,1.0336851630449966,1.140474064597797,0.13183642992354083,1.0817562874125215]         \n",
      " label    | 0                                                                                                                                                                                                                                                                                                                                                                                                              \n",
      "-RECORD 6------------------------------------------------------------------------------------------------------------------------------------------------------------------------------------------------------------------------------------------------------------------------------------------------------------------------------------------------------------------------------------------------------------------\n",
      " features | [-0.9442948966018921,1.2662826463401635,-0.645943138489809,-1.1062878003502468,-1.3923655190136413,0.8661078694755244,0.5845614958555241,-0.548027676679703,1.216292018410619,-0.7671405310069199,-1.1054780538839566,-0.3828467657117077,0.27156196400033783,0.9657019515706852,0.3311887222271856,0.5354432667118474,-0.2639568754011956,0.594650037929424,-1.4145727580319272,-2.441676052556661]           \n",
      " label    | 1                                                                                                                                                                                                                                                                                                                                                                                                              \n",
      "-RECORD 7------------------------------------------------------------------------------------------------------------------------------------------------------------------------------------------------------------------------------------------------------------------------------------------------------------------------------------------------------------------------------------------------------------------\n",
      " features | [0.5353778438000644,0.08304800459793893,0.1303118159714148,-1.5814688600273046,-0.7705751318193941,3.3905991780088707,-0.6667706286093912,1.023665374977907,1.77268927800537,0.9283101113779113,-0.2318786622873277,-1.9198783158595094,-1.0521888165347346,-0.8704702742294448,0.13368344195337603,0.21383808843957966,-0.29207899422913436,-0.6536457665695972,-1.105155457187204,-1.1339545324187585]       \n",
      " label    | 1                                                                                                                                                                                                                                                                                                                                                                                                              \n",
      "-RECORD 8------------------------------------------------------------------------------------------------------------------------------------------------------------------------------------------------------------------------------------------------------------------------------------------------------------------------------------------------------------------------------------------------------------------\n",
      " features | [-1.931629519508574,-1.3165946944141487,1.0335123416834473,0.5079402846069773,-0.22526287571532955,-1.00737520730379,-0.2622072553655791,0.5358393529235759,-2.3787779652277434,0.12181710336503912,-2.274904553448602,0.4587893527737977,0.5626852620213887,1.4466290961423027,-0.8521816404992322,1.6247665297749991,-0.3380110408805234,0.14427499399382582,-0.3171837644907799,1.1722517623422601]         \n",
      " label    | 0                                                                                                                                                                                                                                                                                                                                                                                                              \n",
      "-RECORD 9------------------------------------------------------------------------------------------------------------------------------------------------------------------------------------------------------------------------------------------------------------------------------------------------------------------------------------------------------------------------------------------------------------------\n",
      " features | [-0.8788162423442446,-0.9050585939098312,0.10296470169643201,-0.2619440012411551,0.5839629519670569,0.8243913333377803,-1.5812775554654563,0.8504725315916863,-0.6270284327358157,-0.24695985040474847,-0.12978782456281188,-0.5467418673867349,-1.0741564752096655,-1.2553131580065733,0.25382064475366767,0.33727282376560797,0.5522591536631718,1.0746166274464701,-0.19368550323330846,1.2776485884048603] \n",
      " label    | 1                                                                                                                                                                                                                                                                                                                                                                                                              \n",
      "only showing top 10 rows\n",
      "\n"
     ]
    }
   ],
   "source": [
    "df_test.show(10, False, True)"
   ]
  },
  {
   "cell_type": "code",
   "execution_count": 21,
   "metadata": {},
   "outputs": [],
   "source": [
    "est_broadcast = spark.sparkContext.broadcast(est)"
   ]
  },
  {
   "cell_type": "code",
   "execution_count": 22,
   "metadata": {},
   "outputs": [],
   "source": [
    "import pyspark.sql.functions as f"
   ]
  },
  {
   "cell_type": "code",
   "execution_count": 23,
   "metadata": {},
   "outputs": [],
   "source": [
    "@f.pandas_udf(FloatType())\n",
    "def predict(series):\n",
    "    predictions = est_broadcast.value.predict(series)\n",
    "    return pd.Series(predictions)"
   ]
  },
  {
   "cell_type": "code",
   "execution_count": 24,
   "metadata": {},
   "outputs": [
    {
     "ename": "Py4JJavaError",
     "evalue": "An error occurred while calling o102.showString.\n: org.apache.spark.SparkException: Job aborted due to stage failure: Task 0 in stage 2.0 failed 4 times, most recent failure: Lost task 0.3 in stage 2.0 (TID 5, spark-master-2.newprolab.com, executor 1): java.lang.UnsupportedOperationException: Unsupported data type: struct<type:tinyint,size:int,indices:array<int>,values:array<double>>\n\tat org.apache.spark.sql.execution.arrow.ArrowUtils$.toArrowType(ArrowUtils.scala:56)\n\tat org.apache.spark.sql.execution.arrow.ArrowUtils$.toArrowField(ArrowUtils.scala:92)\n\tat org.apache.spark.sql.execution.arrow.ArrowUtils$$anonfun$toArrowSchema$1.apply(ArrowUtils.scala:116)\n\tat org.apache.spark.sql.execution.arrow.ArrowUtils$$anonfun$toArrowSchema$1.apply(ArrowUtils.scala:115)\n\tat scala.collection.TraversableLike$$anonfun$map$1.apply(TraversableLike.scala:234)\n\tat scala.collection.TraversableLike$$anonfun$map$1.apply(TraversableLike.scala:234)\n\tat scala.collection.Iterator$class.foreach(Iterator.scala:891)\n\tat scala.collection.AbstractIterator.foreach(Iterator.scala:1334)\n\tat scala.collection.IterableLike$class.foreach(IterableLike.scala:72)\n\tat org.apache.spark.sql.types.StructType.foreach(StructType.scala:99)\n\tat scala.collection.TraversableLike$class.map(TraversableLike.scala:234)\n\tat org.apache.spark.sql.types.StructType.map(StructType.scala:99)\n\tat org.apache.spark.sql.execution.arrow.ArrowUtils$.toArrowSchema(ArrowUtils.scala:115)\n\tat org.apache.spark.sql.execution.python.ArrowPythonRunner$$anon$2.writeIteratorToStream(ArrowPythonRunner.scala:71)\n\tat org.apache.spark.api.python.BasePythonRunner$WriterThread$$anonfun$run$1.apply(PythonRunner.scala:346)\n\tat org.apache.spark.util.Utils$.logUncaughtExceptions(Utils.scala:1945)\n\tat org.apache.spark.api.python.BasePythonRunner$WriterThread.run(PythonRunner.scala:195)\n\nDriver stacktrace:\n\tat org.apache.spark.scheduler.DAGScheduler.org$apache$spark$scheduler$DAGScheduler$$failJobAndIndependentStages(DAGScheduler.scala:1925)\n\tat org.apache.spark.scheduler.DAGScheduler$$anonfun$abortStage$1.apply(DAGScheduler.scala:1913)\n\tat org.apache.spark.scheduler.DAGScheduler$$anonfun$abortStage$1.apply(DAGScheduler.scala:1912)\n\tat scala.collection.mutable.ResizableArray$class.foreach(ResizableArray.scala:59)\n\tat scala.collection.mutable.ArrayBuffer.foreach(ArrayBuffer.scala:48)\n\tat org.apache.spark.scheduler.DAGScheduler.abortStage(DAGScheduler.scala:1912)\n\tat org.apache.spark.scheduler.DAGScheduler$$anonfun$handleTaskSetFailed$1.apply(DAGScheduler.scala:948)\n\tat org.apache.spark.scheduler.DAGScheduler$$anonfun$handleTaskSetFailed$1.apply(DAGScheduler.scala:948)\n\tat scala.Option.foreach(Option.scala:257)\n\tat org.apache.spark.scheduler.DAGScheduler.handleTaskSetFailed(DAGScheduler.scala:948)\n\tat org.apache.spark.scheduler.DAGSchedulerEventProcessLoop.doOnReceive(DAGScheduler.scala:2146)\n\tat org.apache.spark.scheduler.DAGSchedulerEventProcessLoop.onReceive(DAGScheduler.scala:2095)\n\tat org.apache.spark.scheduler.DAGSchedulerEventProcessLoop.onReceive(DAGScheduler.scala:2084)\n\tat org.apache.spark.util.EventLoop$$anon$1.run(EventLoop.scala:49)\n\tat org.apache.spark.scheduler.DAGScheduler.runJob(DAGScheduler.scala:759)\n\tat org.apache.spark.SparkContext.runJob(SparkContext.scala:2061)\n\tat org.apache.spark.SparkContext.runJob(SparkContext.scala:2082)\n\tat org.apache.spark.SparkContext.runJob(SparkContext.scala:2101)\n\tat org.apache.spark.sql.execution.SparkPlan.executeTake(SparkPlan.scala:365)\n\tat org.apache.spark.sql.execution.CollectLimitExec.executeCollect(limit.scala:38)\n\tat org.apache.spark.sql.Dataset.org$apache$spark$sql$Dataset$$collectFromPlan(Dataset.scala:3389)\n\tat org.apache.spark.sql.Dataset$$anonfun$head$1.apply(Dataset.scala:2550)\n\tat org.apache.spark.sql.Dataset$$anonfun$head$1.apply(Dataset.scala:2550)\n\tat org.apache.spark.sql.Dataset$$anonfun$52.apply(Dataset.scala:3370)\n\tat org.apache.spark.sql.execution.SQLExecution$$anonfun$withNewExecutionId$1.apply(SQLExecution.scala:80)\n\tat org.apache.spark.sql.execution.SQLExecution$.withSQLConfPropagated(SQLExecution.scala:127)\n\tat org.apache.spark.sql.execution.SQLExecution$.withNewExecutionId(SQLExecution.scala:75)\n\tat org.apache.spark.sql.Dataset.org$apache$spark$sql$Dataset$$withAction(Dataset.scala:3369)\n\tat org.apache.spark.sql.Dataset.head(Dataset.scala:2550)\n\tat org.apache.spark.sql.Dataset.take(Dataset.scala:2764)\n\tat org.apache.spark.sql.Dataset.getRows(Dataset.scala:254)\n\tat org.apache.spark.sql.Dataset.showString(Dataset.scala:291)\n\tat sun.reflect.NativeMethodAccessorImpl.invoke0(Native Method)\n\tat sun.reflect.NativeMethodAccessorImpl.invoke(NativeMethodAccessorImpl.java:62)\n\tat sun.reflect.DelegatingMethodAccessorImpl.invoke(DelegatingMethodAccessorImpl.java:43)\n\tat java.lang.reflect.Method.invoke(Method.java:498)\n\tat py4j.reflection.MethodInvoker.invoke(MethodInvoker.java:244)\n\tat py4j.reflection.ReflectionEngine.invoke(ReflectionEngine.java:357)\n\tat py4j.Gateway.invoke(Gateway.java:282)\n\tat py4j.commands.AbstractCommand.invokeMethod(AbstractCommand.java:132)\n\tat py4j.commands.CallCommand.execute(CallCommand.java:79)\n\tat py4j.GatewayConnection.run(GatewayConnection.java:238)\n\tat java.lang.Thread.run(Thread.java:745)\nCaused by: java.lang.UnsupportedOperationException: Unsupported data type: struct<type:tinyint,size:int,indices:array<int>,values:array<double>>\n\tat org.apache.spark.sql.execution.arrow.ArrowUtils$.toArrowType(ArrowUtils.scala:56)\n\tat org.apache.spark.sql.execution.arrow.ArrowUtils$.toArrowField(ArrowUtils.scala:92)\n\tat org.apache.spark.sql.execution.arrow.ArrowUtils$$anonfun$toArrowSchema$1.apply(ArrowUtils.scala:116)\n\tat org.apache.spark.sql.execution.arrow.ArrowUtils$$anonfun$toArrowSchema$1.apply(ArrowUtils.scala:115)\n\tat scala.collection.TraversableLike$$anonfun$map$1.apply(TraversableLike.scala:234)\n\tat scala.collection.TraversableLike$$anonfun$map$1.apply(TraversableLike.scala:234)\n\tat scala.collection.Iterator$class.foreach(Iterator.scala:891)\n\tat scala.collection.AbstractIterator.foreach(Iterator.scala:1334)\n\tat scala.collection.IterableLike$class.foreach(IterableLike.scala:72)\n\tat org.apache.spark.sql.types.StructType.foreach(StructType.scala:99)\n\tat scala.collection.TraversableLike$class.map(TraversableLike.scala:234)\n\tat org.apache.spark.sql.types.StructType.map(StructType.scala:99)\n\tat org.apache.spark.sql.execution.arrow.ArrowUtils$.toArrowSchema(ArrowUtils.scala:115)\n\tat org.apache.spark.sql.execution.python.ArrowPythonRunner$$anon$2.writeIteratorToStream(ArrowPythonRunner.scala:71)\n\tat org.apache.spark.api.python.BasePythonRunner$WriterThread$$anonfun$run$1.apply(PythonRunner.scala:346)\n\tat org.apache.spark.util.Utils$.logUncaughtExceptions(Utils.scala:1945)\n\tat org.apache.spark.api.python.BasePythonRunner$WriterThread.run(PythonRunner.scala:195)\n",
     "output_type": "error",
     "traceback": [
      "\u001b[0;31m---------------------------------------------------------------------------\u001b[0m",
      "\u001b[0;31mPy4JJavaError\u001b[0m                             Traceback (most recent call last)",
      "\u001b[0;32m<ipython-input-24-e6d8667491c7>\u001b[0m in \u001b[0;36m<module>\u001b[0;34m()\u001b[0m\n\u001b[0;32m----> 1\u001b[0;31m \u001b[0mdf_test\u001b[0m\u001b[0;34m.\u001b[0m\u001b[0mwithColumn\u001b[0m\u001b[0;34m(\u001b[0m\u001b[0;34m\"prediction\"\u001b[0m\u001b[0;34m,\u001b[0m \u001b[0mpredict\u001b[0m\u001b[0;34m(\u001b[0m\u001b[0;34m\"features\"\u001b[0m\u001b[0;34m)\u001b[0m\u001b[0;34m)\u001b[0m\u001b[0;34m.\u001b[0m\u001b[0mshow\u001b[0m\u001b[0;34m(\u001b[0m\u001b[0;34m)\u001b[0m\u001b[0;34m\u001b[0m\u001b[0m\n\u001b[0m",
      "\u001b[0;32m/usr/hdp/current/spark2-client/python/pyspark/sql/dataframe.py\u001b[0m in \u001b[0;36mshow\u001b[0;34m(self, n, truncate, vertical)\u001b[0m\n\u001b[1;32m    379\u001b[0m         \"\"\"\n\u001b[1;32m    380\u001b[0m         \u001b[0;32mif\u001b[0m \u001b[0misinstance\u001b[0m\u001b[0;34m(\u001b[0m\u001b[0mtruncate\u001b[0m\u001b[0;34m,\u001b[0m \u001b[0mbool\u001b[0m\u001b[0;34m)\u001b[0m \u001b[0;32mand\u001b[0m \u001b[0mtruncate\u001b[0m\u001b[0;34m:\u001b[0m\u001b[0;34m\u001b[0m\u001b[0m\n\u001b[0;32m--> 381\u001b[0;31m             \u001b[0mprint\u001b[0m\u001b[0;34m(\u001b[0m\u001b[0mself\u001b[0m\u001b[0;34m.\u001b[0m\u001b[0m_jdf\u001b[0m\u001b[0;34m.\u001b[0m\u001b[0mshowString\u001b[0m\u001b[0;34m(\u001b[0m\u001b[0mn\u001b[0m\u001b[0;34m,\u001b[0m \u001b[0;36m20\u001b[0m\u001b[0;34m,\u001b[0m \u001b[0mvertical\u001b[0m\u001b[0;34m)\u001b[0m\u001b[0;34m)\u001b[0m\u001b[0;34m\u001b[0m\u001b[0m\n\u001b[0m\u001b[1;32m    382\u001b[0m         \u001b[0;32melse\u001b[0m\u001b[0;34m:\u001b[0m\u001b[0;34m\u001b[0m\u001b[0m\n\u001b[1;32m    383\u001b[0m             \u001b[0mprint\u001b[0m\u001b[0;34m(\u001b[0m\u001b[0mself\u001b[0m\u001b[0;34m.\u001b[0m\u001b[0m_jdf\u001b[0m\u001b[0;34m.\u001b[0m\u001b[0mshowString\u001b[0m\u001b[0;34m(\u001b[0m\u001b[0mn\u001b[0m\u001b[0;34m,\u001b[0m \u001b[0mint\u001b[0m\u001b[0;34m(\u001b[0m\u001b[0mtruncate\u001b[0m\u001b[0;34m)\u001b[0m\u001b[0;34m,\u001b[0m \u001b[0mvertical\u001b[0m\u001b[0;34m)\u001b[0m\u001b[0;34m)\u001b[0m\u001b[0;34m\u001b[0m\u001b[0m\n",
      "\u001b[0;32m/usr/hdp/current/spark2-client/python/lib/py4j-0.10.7-src.zip/py4j/java_gateway.py\u001b[0m in \u001b[0;36m__call__\u001b[0;34m(self, *args)\u001b[0m\n\u001b[1;32m   1255\u001b[0m         \u001b[0manswer\u001b[0m \u001b[0;34m=\u001b[0m \u001b[0mself\u001b[0m\u001b[0;34m.\u001b[0m\u001b[0mgateway_client\u001b[0m\u001b[0;34m.\u001b[0m\u001b[0msend_command\u001b[0m\u001b[0;34m(\u001b[0m\u001b[0mcommand\u001b[0m\u001b[0;34m)\u001b[0m\u001b[0;34m\u001b[0m\u001b[0m\n\u001b[1;32m   1256\u001b[0m         return_value = get_return_value(\n\u001b[0;32m-> 1257\u001b[0;31m             answer, self.gateway_client, self.target_id, self.name)\n\u001b[0m\u001b[1;32m   1258\u001b[0m \u001b[0;34m\u001b[0m\u001b[0m\n\u001b[1;32m   1259\u001b[0m         \u001b[0;32mfor\u001b[0m \u001b[0mtemp_arg\u001b[0m \u001b[0;32min\u001b[0m \u001b[0mtemp_args\u001b[0m\u001b[0;34m:\u001b[0m\u001b[0;34m\u001b[0m\u001b[0m\n",
      "\u001b[0;32m/usr/hdp/current/spark2-client/python/pyspark/sql/utils.py\u001b[0m in \u001b[0;36mdeco\u001b[0;34m(*a, **kw)\u001b[0m\n\u001b[1;32m     61\u001b[0m     \u001b[0;32mdef\u001b[0m \u001b[0mdeco\u001b[0m\u001b[0;34m(\u001b[0m\u001b[0;34m*\u001b[0m\u001b[0ma\u001b[0m\u001b[0;34m,\u001b[0m \u001b[0;34m**\u001b[0m\u001b[0mkw\u001b[0m\u001b[0;34m)\u001b[0m\u001b[0;34m:\u001b[0m\u001b[0;34m\u001b[0m\u001b[0m\n\u001b[1;32m     62\u001b[0m         \u001b[0;32mtry\u001b[0m\u001b[0;34m:\u001b[0m\u001b[0;34m\u001b[0m\u001b[0m\n\u001b[0;32m---> 63\u001b[0;31m             \u001b[0;32mreturn\u001b[0m \u001b[0mf\u001b[0m\u001b[0;34m(\u001b[0m\u001b[0;34m*\u001b[0m\u001b[0ma\u001b[0m\u001b[0;34m,\u001b[0m \u001b[0;34m**\u001b[0m\u001b[0mkw\u001b[0m\u001b[0;34m)\u001b[0m\u001b[0;34m\u001b[0m\u001b[0m\n\u001b[0m\u001b[1;32m     64\u001b[0m         \u001b[0;32mexcept\u001b[0m \u001b[0mpy4j\u001b[0m\u001b[0;34m.\u001b[0m\u001b[0mprotocol\u001b[0m\u001b[0;34m.\u001b[0m\u001b[0mPy4JJavaError\u001b[0m \u001b[0;32mas\u001b[0m \u001b[0me\u001b[0m\u001b[0;34m:\u001b[0m\u001b[0;34m\u001b[0m\u001b[0m\n\u001b[1;32m     65\u001b[0m             \u001b[0ms\u001b[0m \u001b[0;34m=\u001b[0m \u001b[0me\u001b[0m\u001b[0;34m.\u001b[0m\u001b[0mjava_exception\u001b[0m\u001b[0;34m.\u001b[0m\u001b[0mtoString\u001b[0m\u001b[0;34m(\u001b[0m\u001b[0;34m)\u001b[0m\u001b[0;34m\u001b[0m\u001b[0m\n",
      "\u001b[0;32m/usr/hdp/current/spark2-client/python/lib/py4j-0.10.7-src.zip/py4j/protocol.py\u001b[0m in \u001b[0;36mget_return_value\u001b[0;34m(answer, gateway_client, target_id, name)\u001b[0m\n\u001b[1;32m    326\u001b[0m                 raise Py4JJavaError(\n\u001b[1;32m    327\u001b[0m                     \u001b[0;34m\"An error occurred while calling {0}{1}{2}.\\n\"\u001b[0m\u001b[0;34m.\u001b[0m\u001b[0;34m\u001b[0m\u001b[0m\n\u001b[0;32m--> 328\u001b[0;31m                     format(target_id, \".\", name), value)\n\u001b[0m\u001b[1;32m    329\u001b[0m             \u001b[0;32melse\u001b[0m\u001b[0;34m:\u001b[0m\u001b[0;34m\u001b[0m\u001b[0m\n\u001b[1;32m    330\u001b[0m                 raise Py4JError(\n",
      "\u001b[0;31mPy4JJavaError\u001b[0m: An error occurred while calling o102.showString.\n: org.apache.spark.SparkException: Job aborted due to stage failure: Task 0 in stage 2.0 failed 4 times, most recent failure: Lost task 0.3 in stage 2.0 (TID 5, spark-master-2.newprolab.com, executor 1): java.lang.UnsupportedOperationException: Unsupported data type: struct<type:tinyint,size:int,indices:array<int>,values:array<double>>\n\tat org.apache.spark.sql.execution.arrow.ArrowUtils$.toArrowType(ArrowUtils.scala:56)\n\tat org.apache.spark.sql.execution.arrow.ArrowUtils$.toArrowField(ArrowUtils.scala:92)\n\tat org.apache.spark.sql.execution.arrow.ArrowUtils$$anonfun$toArrowSchema$1.apply(ArrowUtils.scala:116)\n\tat org.apache.spark.sql.execution.arrow.ArrowUtils$$anonfun$toArrowSchema$1.apply(ArrowUtils.scala:115)\n\tat scala.collection.TraversableLike$$anonfun$map$1.apply(TraversableLike.scala:234)\n\tat scala.collection.TraversableLike$$anonfun$map$1.apply(TraversableLike.scala:234)\n\tat scala.collection.Iterator$class.foreach(Iterator.scala:891)\n\tat scala.collection.AbstractIterator.foreach(Iterator.scala:1334)\n\tat scala.collection.IterableLike$class.foreach(IterableLike.scala:72)\n\tat org.apache.spark.sql.types.StructType.foreach(StructType.scala:99)\n\tat scala.collection.TraversableLike$class.map(TraversableLike.scala:234)\n\tat org.apache.spark.sql.types.StructType.map(StructType.scala:99)\n\tat org.apache.spark.sql.execution.arrow.ArrowUtils$.toArrowSchema(ArrowUtils.scala:115)\n\tat org.apache.spark.sql.execution.python.ArrowPythonRunner$$anon$2.writeIteratorToStream(ArrowPythonRunner.scala:71)\n\tat org.apache.spark.api.python.BasePythonRunner$WriterThread$$anonfun$run$1.apply(PythonRunner.scala:346)\n\tat org.apache.spark.util.Utils$.logUncaughtExceptions(Utils.scala:1945)\n\tat org.apache.spark.api.python.BasePythonRunner$WriterThread.run(PythonRunner.scala:195)\n\nDriver stacktrace:\n\tat org.apache.spark.scheduler.DAGScheduler.org$apache$spark$scheduler$DAGScheduler$$failJobAndIndependentStages(DAGScheduler.scala:1925)\n\tat org.apache.spark.scheduler.DAGScheduler$$anonfun$abortStage$1.apply(DAGScheduler.scala:1913)\n\tat org.apache.spark.scheduler.DAGScheduler$$anonfun$abortStage$1.apply(DAGScheduler.scala:1912)\n\tat scala.collection.mutable.ResizableArray$class.foreach(ResizableArray.scala:59)\n\tat scala.collection.mutable.ArrayBuffer.foreach(ArrayBuffer.scala:48)\n\tat org.apache.spark.scheduler.DAGScheduler.abortStage(DAGScheduler.scala:1912)\n\tat org.apache.spark.scheduler.DAGScheduler$$anonfun$handleTaskSetFailed$1.apply(DAGScheduler.scala:948)\n\tat org.apache.spark.scheduler.DAGScheduler$$anonfun$handleTaskSetFailed$1.apply(DAGScheduler.scala:948)\n\tat scala.Option.foreach(Option.scala:257)\n\tat org.apache.spark.scheduler.DAGScheduler.handleTaskSetFailed(DAGScheduler.scala:948)\n\tat org.apache.spark.scheduler.DAGSchedulerEventProcessLoop.doOnReceive(DAGScheduler.scala:2146)\n\tat org.apache.spark.scheduler.DAGSchedulerEventProcessLoop.onReceive(DAGScheduler.scala:2095)\n\tat org.apache.spark.scheduler.DAGSchedulerEventProcessLoop.onReceive(DAGScheduler.scala:2084)\n\tat org.apache.spark.util.EventLoop$$anon$1.run(EventLoop.scala:49)\n\tat org.apache.spark.scheduler.DAGScheduler.runJob(DAGScheduler.scala:759)\n\tat org.apache.spark.SparkContext.runJob(SparkContext.scala:2061)\n\tat org.apache.spark.SparkContext.runJob(SparkContext.scala:2082)\n\tat org.apache.spark.SparkContext.runJob(SparkContext.scala:2101)\n\tat org.apache.spark.sql.execution.SparkPlan.executeTake(SparkPlan.scala:365)\n\tat org.apache.spark.sql.execution.CollectLimitExec.executeCollect(limit.scala:38)\n\tat org.apache.spark.sql.Dataset.org$apache$spark$sql$Dataset$$collectFromPlan(Dataset.scala:3389)\n\tat org.apache.spark.sql.Dataset$$anonfun$head$1.apply(Dataset.scala:2550)\n\tat org.apache.spark.sql.Dataset$$anonfun$head$1.apply(Dataset.scala:2550)\n\tat org.apache.spark.sql.Dataset$$anonfun$52.apply(Dataset.scala:3370)\n\tat org.apache.spark.sql.execution.SQLExecution$$anonfun$withNewExecutionId$1.apply(SQLExecution.scala:80)\n\tat org.apache.spark.sql.execution.SQLExecution$.withSQLConfPropagated(SQLExecution.scala:127)\n\tat org.apache.spark.sql.execution.SQLExecution$.withNewExecutionId(SQLExecution.scala:75)\n\tat org.apache.spark.sql.Dataset.org$apache$spark$sql$Dataset$$withAction(Dataset.scala:3369)\n\tat org.apache.spark.sql.Dataset.head(Dataset.scala:2550)\n\tat org.apache.spark.sql.Dataset.take(Dataset.scala:2764)\n\tat org.apache.spark.sql.Dataset.getRows(Dataset.scala:254)\n\tat org.apache.spark.sql.Dataset.showString(Dataset.scala:291)\n\tat sun.reflect.NativeMethodAccessorImpl.invoke0(Native Method)\n\tat sun.reflect.NativeMethodAccessorImpl.invoke(NativeMethodAccessorImpl.java:62)\n\tat sun.reflect.DelegatingMethodAccessorImpl.invoke(DelegatingMethodAccessorImpl.java:43)\n\tat java.lang.reflect.Method.invoke(Method.java:498)\n\tat py4j.reflection.MethodInvoker.invoke(MethodInvoker.java:244)\n\tat py4j.reflection.ReflectionEngine.invoke(ReflectionEngine.java:357)\n\tat py4j.Gateway.invoke(Gateway.java:282)\n\tat py4j.commands.AbstractCommand.invokeMethod(AbstractCommand.java:132)\n\tat py4j.commands.CallCommand.execute(CallCommand.java:79)\n\tat py4j.GatewayConnection.run(GatewayConnection.java:238)\n\tat java.lang.Thread.run(Thread.java:745)\nCaused by: java.lang.UnsupportedOperationException: Unsupported data type: struct<type:tinyint,size:int,indices:array<int>,values:array<double>>\n\tat org.apache.spark.sql.execution.arrow.ArrowUtils$.toArrowType(ArrowUtils.scala:56)\n\tat org.apache.spark.sql.execution.arrow.ArrowUtils$.toArrowField(ArrowUtils.scala:92)\n\tat org.apache.spark.sql.execution.arrow.ArrowUtils$$anonfun$toArrowSchema$1.apply(ArrowUtils.scala:116)\n\tat org.apache.spark.sql.execution.arrow.ArrowUtils$$anonfun$toArrowSchema$1.apply(ArrowUtils.scala:115)\n\tat scala.collection.TraversableLike$$anonfun$map$1.apply(TraversableLike.scala:234)\n\tat scala.collection.TraversableLike$$anonfun$map$1.apply(TraversableLike.scala:234)\n\tat scala.collection.Iterator$class.foreach(Iterator.scala:891)\n\tat scala.collection.AbstractIterator.foreach(Iterator.scala:1334)\n\tat scala.collection.IterableLike$class.foreach(IterableLike.scala:72)\n\tat org.apache.spark.sql.types.StructType.foreach(StructType.scala:99)\n\tat scala.collection.TraversableLike$class.map(TraversableLike.scala:234)\n\tat org.apache.spark.sql.types.StructType.map(StructType.scala:99)\n\tat org.apache.spark.sql.execution.arrow.ArrowUtils$.toArrowSchema(ArrowUtils.scala:115)\n\tat org.apache.spark.sql.execution.python.ArrowPythonRunner$$anon$2.writeIteratorToStream(ArrowPythonRunner.scala:71)\n\tat org.apache.spark.api.python.BasePythonRunner$WriterThread$$anonfun$run$1.apply(PythonRunner.scala:346)\n\tat org.apache.spark.util.Utils$.logUncaughtExceptions(Utils.scala:1945)\n\tat org.apache.spark.api.python.BasePythonRunner$WriterThread.run(PythonRunner.scala:195)\n"
     ]
    }
   ],
   "source": [
    "df_test.withColumn(\"prediction\", predict(\"features\")).show()"
   ]
  },
  {
   "cell_type": "markdown",
   "metadata": {},
   "source": [
    "Все это происходит из-за этого https://issues.apache.org/jira/browse/SPARK-19653"
   ]
  },
  {
   "cell_type": "markdown",
   "metadata": {},
   "source": [
    "## Способ №2, неправильный, но работает :/"
   ]
  },
  {
   "cell_type": "code",
   "execution_count": 25,
   "metadata": {},
   "outputs": [],
   "source": [
    "import pandas as pd"
   ]
  },
  {
   "cell_type": "code",
   "execution_count": 26,
   "metadata": {},
   "outputs": [],
   "source": [
    "@f.udf(ArrayType(FloatType()))\n",
    "def vectorToArray(row):\n",
    "    return DenseVector(row).tolist()\n",
    "\n",
    "df_test = df_test.withColumn(\"features_array\", vectorToArray(\"features\"))"
   ]
  },
  {
   "cell_type": "code",
   "execution_count": 27,
   "metadata": {},
   "outputs": [
    {
     "name": "stdout",
     "output_type": "stream",
     "text": [
      "-RECORD 0------------------------------------------------------------------------------------------------------------------------------------------------------------------------------------------------------------------------------------------------------------------------------------------------------------------------------------------------------------------------------------------------------------------------\n",
      " features       | [0.16713128673558264,2.2893112354535443,2.2518975969569754,-0.31878614013255613,-1.2868621397193618,-0.5162775714359613,0.843158526491598,-1.6525535122202781,1.4383932357125822,-0.13787371422841443,-0.23428542641958883,0.4912248040453727,-0.20360458867688258,-1.266643128569604,1.12907621829968,-0.0674120219158951,2.6995101321549364,0.8699656880360123,0.36778099992705154,0.12234412406086248]      \n",
      " label          | 0                                                                                                                                                                                                                                                                                                                                                                                                              \n",
      " features_array | [0.16713129, 2.2893112, 2.2518976, -0.31878614, -1.2868621, -0.51627755, 0.84315854, -1.6525536, 1.4383932, -0.13787371, -0.23428543, 0.4912248, -0.2036046, -1.2666432, 1.1290762, -0.06741202, 2.69951, 0.8699657, 0.367781, 0.12234412]                                                                                                                                                                     \n",
      "-RECORD 1------------------------------------------------------------------------------------------------------------------------------------------------------------------------------------------------------------------------------------------------------------------------------------------------------------------------------------------------------------------------------------------------------------------------\n",
      " features       | [2.501586338105629,1.3947383126479846,0.07338444656749446,0.6761150427916015,0.6805070412013924,-0.8856155383836729,0.17326970939053607,-1.1883111198798364,-1.1199903749780902,0.5505925954853123,-0.4551310653298509,0.6238472937387666,-0.9654357452109833,-1.0772569184097036,0.18237999034657432,-0.16378343461897893,0.860935819532145,-0.7319686383487192,-1.076546749509996,0.9002132219395576]        \n",
      " label          | 0                                                                                                                                                                                                                                                                                                                                                                                                              \n",
      " features_array | [2.5015864, 1.3947383, 0.07338445, 0.67611504, 0.68050706, -0.8856155, 0.1732697, -1.1883111, -1.1199903, 0.5505926, -0.45513105, 0.6238473, -0.96543574, -1.0772569, 0.18237999, -0.16378343, 0.8609358, -0.73196864, -1.0765468, 0.90021324]                                                                                                                                                                 \n",
      "-RECORD 2------------------------------------------------------------------------------------------------------------------------------------------------------------------------------------------------------------------------------------------------------------------------------------------------------------------------------------------------------------------------------------------------------------------------\n",
      " features       | [-0.7699917522248021,0.11151469707343231,1.1872708693174603,-0.31994294852493943,1.6422507652854124,-1.3811737908530963,-0.689386413432388,-0.5114940256713588,-0.010274805290184225,1.9875589081659157,-0.46123238547272205,0.7946277506230198,0.6811462515038286,-0.5478040409446142,0.26135118579009875,0.6813948811706578,0.6752595024922239,0.2204391372815261,-1.22046932918163,0.35543557304818746]     \n",
      " label          | 0                                                                                                                                                                                                                                                                                                                                                                                                              \n",
      " features_array | [-0.76999176, 0.111514695, 1.1872709, -0.31994295, 1.6422508, -1.3811738, -0.6893864, -0.51149404, -0.010274805, 1.987559, -0.4612324, 0.7946277, 0.68114626, -0.54780406, 0.2613512, 0.6813949, 0.67525953, 0.22043914, -1.2204694, 0.35543558]                                                                                                                                                               \n",
      "-RECORD 3------------------------------------------------------------------------------------------------------------------------------------------------------------------------------------------------------------------------------------------------------------------------------------------------------------------------------------------------------------------------------------------------------------------------\n",
      " features       | [-0.9514898817744037,1.688606657418216,-0.40759378860066103,0.04237357260438367,-1.9611721649592098,-0.6364049538330397,-0.05917002260335075,-1.3001693847525482,0.4159187732025121,-0.5599030945669392,-0.2827700781546006,0.5075983148196826,0.6637795816185339,0.44030347295827865,-0.6257474915767467,-0.21423211253437902,-2.468790097733373,0.47502176229553694,0.15866852409491763,-0.3270305065018161] \n",
      " label          | 0                                                                                                                                                                                                                                                                                                                                                                                                              \n",
      " features_array | [-0.95148987, 1.6886066, -0.4075938, 0.04237357, -1.9611722, -0.63640493, -0.059170023, -1.3001693, 0.41591877, -0.5599031, -0.28277007, 0.50759834, 0.66377956, 0.44030347, -0.6257475, -0.21423212, -2.46879, 0.47502175, 0.15866852, -0.3270305]                                                                                                                                                            \n",
      "-RECORD 4------------------------------------------------------------------------------------------------------------------------------------------------------------------------------------------------------------------------------------------------------------------------------------------------------------------------------------------------------------------------------------------------------------------------\n",
      " features       | [1.3259892651744887,1.2876223503804527,0.4313087248668599,-1.3697447290921412,1.7660122894120112,-0.8388158483131075,0.31879982486564046,-1.103791906373477,-0.07601475169294516,-1.3434151174766715,0.8789047403933287,0.5879937348040642,0.04923528079249894,-0.05040027381549409,-1.6636870509021617,0.5074654842278018,0.3724222881671767,-2.1730240053587155,0.39143812292999725,-1.347669562035988]      \n",
      " label          | 0                                                                                                                                                                                                                                                                                                                                                                                                              \n",
      " features_array | [1.3259892, 1.2876223, 0.43130872, -1.3697448, 1.7660123, -0.83881587, 0.31879982, -1.103792, -0.07601475, -1.3434151, 0.87890476, 0.58799374, 0.04923528, -0.050400272, -1.6636871, 0.5074655, 0.37242228, -2.173024, 0.39143813, -1.3476696]                                                                                                                                                                 \n",
      "-RECORD 5------------------------------------------------------------------------------------------------------------------------------------------------------------------------------------------------------------------------------------------------------------------------------------------------------------------------------------------------------------------------------------------------------------------------\n",
      " features       | [-0.5091954518113276,2.0363403236200863,-1.408181631984955,-0.92900220608104,1.7205813503452574,-0.6684521087802957,-0.5482397620091293,-1.5364441303326701,-0.23497534049319022,1.1720127910026394,0.01300472084619908,0.5558567101184217,-0.3119502106541385,-0.5514280750838022,2.0068862735574418,-0.3338298031576674,1.0336851630449966,1.140474064597797,0.13183642992354083,1.0817562874125215]         \n",
      " label          | 0                                                                                                                                                                                                                                                                                                                                                                                                              \n",
      " features_array | [-0.50919545, 2.0363402, -1.4081817, -0.9290022, 1.7205813, -0.6684521, -0.54823977, -1.5364442, -0.23497534, 1.1720128, 0.013004721, 0.5558567, -0.3119502, -0.5514281, 2.0068862, -0.3338298, 1.0336852, 1.1404741, 0.13183643, 1.0817562]                                                                                                                                                                   \n",
      "-RECORD 6------------------------------------------------------------------------------------------------------------------------------------------------------------------------------------------------------------------------------------------------------------------------------------------------------------------------------------------------------------------------------------------------------------------------\n",
      " features       | [-0.9442948966018921,1.2662826463401635,-0.645943138489809,-1.1062878003502468,-1.3923655190136413,0.8661078694755244,0.5845614958555241,-0.548027676679703,1.216292018410619,-0.7671405310069199,-1.1054780538839566,-0.3828467657117077,0.27156196400033783,0.9657019515706852,0.3311887222271856,0.5354432667118474,-0.2639568754011956,0.594650037929424,-1.4145727580319272,-2.441676052556661]           \n",
      " label          | 1                                                                                                                                                                                                                                                                                                                                                                                                              \n",
      " features_array | [-0.94429487, 1.2662827, -0.64594316, -1.1062878, -1.3923656, 0.8661079, 0.58456147, -0.5480277, 1.216292, -0.7671405, -1.105478, -0.38284677, 0.27156195, 0.96570194, 0.3311887, 0.53544325, -0.26395687, 0.59465003, -1.4145727, -2.4416761]                                                                                                                                                                 \n",
      "-RECORD 7------------------------------------------------------------------------------------------------------------------------------------------------------------------------------------------------------------------------------------------------------------------------------------------------------------------------------------------------------------------------------------------------------------------------\n",
      " features       | [0.5353778438000644,0.08304800459793893,0.1303118159714148,-1.5814688600273046,-0.7705751318193941,3.3905991780088707,-0.6667706286093912,1.023665374977907,1.77268927800537,0.9283101113779113,-0.2318786622873277,-1.9198783158595094,-1.0521888165347346,-0.8704702742294448,0.13368344195337603,0.21383808843957966,-0.29207899422913436,-0.6536457665695972,-1.105155457187204,-1.1339545324187585]       \n",
      " label          | 1                                                                                                                                                                                                                                                                                                                                                                                                              \n",
      " features_array | [0.53537786, 0.083048, 0.13031182, -1.5814688, -0.7705751, 3.3905993, -0.66677064, 1.0236654, 1.7726892, 0.9283101, -0.23187867, -1.9198784, -1.0521889, -0.8704703, 0.13368344, 0.21383809, -0.292079, -0.65364575, -1.1051555, -1.1339545]                                                                                                                                                                   \n",
      "-RECORD 8------------------------------------------------------------------------------------------------------------------------------------------------------------------------------------------------------------------------------------------------------------------------------------------------------------------------------------------------------------------------------------------------------------------------\n",
      " features       | [-1.931629519508574,-1.3165946944141487,1.0335123416834473,0.5079402846069773,-0.22526287571532955,-1.00737520730379,-0.2622072553655791,0.5358393529235759,-2.3787779652277434,0.12181710336503912,-2.274904553448602,0.4587893527737977,0.5626852620213887,1.4466290961423027,-0.8521816404992322,1.6247665297749991,-0.3380110408805234,0.14427499399382582,-0.3171837644907799,1.1722517623422601]         \n",
      " label          | 0                                                                                                                                                                                                                                                                                                                                                                                                              \n",
      " features_array | [-1.9316295, -1.3165947, 1.0335124, 0.5079403, -0.22526288, -1.0073752, -0.26220727, 0.5358394, -2.378778, 0.121817105, -2.2749045, 0.45878935, 0.56268525, 1.446629, -0.8521816, 1.6247666, -0.33801103, 0.144275, -0.31718376, 1.1722518]                                                                                                                                                                    \n",
      "-RECORD 9------------------------------------------------------------------------------------------------------------------------------------------------------------------------------------------------------------------------------------------------------------------------------------------------------------------------------------------------------------------------------------------------------------------------\n",
      " features       | [-0.8788162423442446,-0.9050585939098312,0.10296470169643201,-0.2619440012411551,0.5839629519670569,0.8243913333377803,-1.5812775554654563,0.8504725315916863,-0.6270284327358157,-0.24695985040474847,-0.12978782456281188,-0.5467418673867349,-1.0741564752096655,-1.2553131580065733,0.25382064475366767,0.33727282376560797,0.5522591536631718,1.0746166274464701,-0.19368550323330846,1.2776485884048603] \n",
      " label          | 1                                                                                                                                                                                                                                                                                                                                                                                                              \n",
      " features_array | [-0.87881625, -0.9050586, 0.1029647, -0.261944, 0.583963, 0.8243913, -1.5812776, 0.8504725, -0.6270284, -0.24695985, -0.12978782, -0.54674184, -1.0741565, -1.2553132, 0.25382066, 0.33727282, 0.55225915, 1.0746167, -0.1936855, 1.2776486]                                                                                                                                                                   \n",
      "only showing top 10 rows\n",
      "\n"
     ]
    }
   ],
   "source": [
    "df_test.show(10, False, True)"
   ]
  },
  {
   "cell_type": "code",
   "execution_count": 28,
   "metadata": {},
   "outputs": [
    {
     "data": {
      "text/plain": [
       "pyspark.ml.linalg.DenseVector"
      ]
     },
     "execution_count": 28,
     "metadata": {},
     "output_type": "execute_result"
    }
   ],
   "source": [
    "type(df_test.take(1)[0][0])"
   ]
  },
  {
   "cell_type": "code",
   "execution_count": 29,
   "metadata": {},
   "outputs": [
    {
     "data": {
      "text/plain": [
       "list"
      ]
     },
     "execution_count": 29,
     "metadata": {},
     "output_type": "execute_result"
    }
   ],
   "source": [
    "type(df_test.take(1)[0][2])"
   ]
  },
  {
   "cell_type": "code",
   "execution_count": 30,
   "metadata": {},
   "outputs": [],
   "source": [
    "@f.pandas_udf(FloatType())\n",
    "def predict(series):\n",
    "    # Необходимо сделать преобразование, потому что на вход приходит pd.Series((list1, list2, ...))\n",
    "    predictions = est_broadcast.value.predict(series.tolist())\n",
    "    return pd.Series(predictions)"
   ]
  },
  {
   "cell_type": "code",
   "execution_count": 31,
   "metadata": {},
   "outputs": [
    {
     "name": "stdout",
     "output_type": "stream",
     "text": [
      "+--------------------+-----+--------------------+----------+\n",
      "|            features|label|      features_array|prediction|\n",
      "+--------------------+-----+--------------------+----------+\n",
      "|[0.16713128673558...|    0|[0.16713129, 2.28...|       0.0|\n",
      "|[2.50158633810562...|    0|[2.5015864, 1.394...|       0.0|\n",
      "|[-0.7699917522248...|    0|[-0.76999176, 0.1...|       0.0|\n",
      "|[-0.9514898817744...|    0|[-0.95148987, 1.6...|       0.0|\n",
      "|[1.32598926517448...|    0|[1.3259892, 1.287...|       0.0|\n",
      "|[-0.5091954518113...|    0|[-0.50919545, 2.0...|       0.0|\n",
      "|[-0.9442948966018...|    1|[-0.94429487, 1.2...|       1.0|\n",
      "|[0.53537784380006...|    1|[0.53537786, 0.08...|       1.0|\n",
      "|[-1.9316295195085...|    0|[-1.9316295, -1.3...|       0.0|\n",
      "|[-0.8788162423442...|    1|[-0.87881625, -0....|       1.0|\n",
      "|[0.47792785291472...|    1|[0.47792786, 1.28...|       1.0|\n",
      "|[-0.7537969085613...|    1|[-0.75379694, 1.9...|       1.0|\n",
      "|[-0.1103342853056...|    0|[-0.110334285, 3....|       1.0|\n",
      "|[0.21903394455633...|    1|[0.21903394, -1.2...|       1.0|\n",
      "|[-0.7010314631582...|    1|[-0.70103145, 0.6...|       1.0|\n",
      "|[-0.4024860125426...|    1|[-0.40248603, -1....|       0.0|\n",
      "|[1.91508615582208...|    1|[1.9150862, -1.07...|       1.0|\n",
      "|[1.03957987692160...|    1|[1.0395799, -0.80...|       1.0|\n",
      "|[-1.9962336859493...|    1|[-1.9962337, 0.55...|       1.0|\n",
      "|[0.03293939843484...|    1|[0.032939397, 1.2...|       1.0|\n",
      "+--------------------+-----+--------------------+----------+\n",
      "\n"
     ]
    }
   ],
   "source": [
    "df_test.withColumn(\"prediction\", predict(\"features_array\")).show()"
   ]
  },
  {
   "cell_type": "code",
   "execution_count": 32,
   "metadata": {},
   "outputs": [],
   "source": [
    "import pickle"
   ]
  },
  {
   "cell_type": "code",
   "execution_count": 33,
   "metadata": {},
   "outputs": [],
   "source": [
    "with open(\"logistic_model.pk\", \"wb\") as f:\n",
    "    pickle.dump(est, f)"
   ]
  },
  {
   "cell_type": "code",
   "execution_count": 34,
   "metadata": {},
   "outputs": [],
   "source": [
    "from pyspark import keyword_only\n",
    "from pyspark.ml import Model, Estimator\n",
    "from pyspark.ml.param import Param, Params, TypeConverters\n",
    "from pyspark.ml.param.shared import HasFeaturesCol, HasLabelCol, HasPredictionCol"
   ]
  },
  {
   "cell_type": "markdown",
   "metadata": {},
   "source": [
    "[Model base class](https://github.com/apache/spark/blob/v2.4.0/python/pyspark/ml/base.py#L243)\n"
   ]
  },
  {
   "cell_type": "code",
   "execution_count": 39,
   "metadata": {},
   "outputs": [],
   "source": [
    "class SKLogisticRegreesionModel(Model, HasFeaturesCol, HasLabelCol, HasPredictionCol):\n",
    "    model_file = Param(Params._dummy(), \"model_file\",\n",
    "                      \"path to pickled scikit-learn logistic regression model\",\n",
    "                      typeConverter=TypeConverters.toString)\n",
    "    @keyword_only\n",
    "    def __init__(self, model_file=None, featuresCol=\"features\", labelCol=\"label\", predictionCol=\"prediction\"):\n",
    "        super(SKLogisticRegreesionModel, self).__init__()\n",
    "        \n",
    "        if model_file is None:\n",
    "            raise ValueError(\"model_file must be specified!\")\n",
    "            \n",
    "        with open(model_file, \"rb\") as f:\n",
    "            self.estimator = pickle.load(f)\n",
    "            \n",
    "        kwargs = self._input_kwargs\n",
    "        self._set(**kwargs)\n",
    "        \n",
    "\n",
    "    def _transform(self, dataset):\n",
    "        return dataset.withColumn(self.getPredictionCol(), predict(self.getFeaturesCol()))"
   ]
  },
  {
   "cell_type": "code",
   "execution_count": 40,
   "metadata": {},
   "outputs": [],
   "source": [
    "spark_est = SKLogisticRegreesionModel(model_file=\"logistic_model.pk\", featuresCol=\"features_array\")"
   ]
  },
  {
   "cell_type": "code",
   "execution_count": 41,
   "metadata": {},
   "outputs": [
    {
     "name": "stdout",
     "output_type": "stream",
     "text": [
      "+--------------------+-----+--------------------+----------+\n",
      "|            features|label|      features_array|prediction|\n",
      "+--------------------+-----+--------------------+----------+\n",
      "|[0.16713128673558...|    0|[0.16713129, 2.28...|       0.0|\n",
      "|[2.50158633810562...|    0|[2.5015864, 1.394...|       0.0|\n",
      "|[-0.7699917522248...|    0|[-0.76999176, 0.1...|       0.0|\n",
      "|[-0.9514898817744...|    0|[-0.95148987, 1.6...|       0.0|\n",
      "|[1.32598926517448...|    0|[1.3259892, 1.287...|       0.0|\n",
      "|[-0.5091954518113...|    0|[-0.50919545, 2.0...|       0.0|\n",
      "|[-0.9442948966018...|    1|[-0.94429487, 1.2...|       1.0|\n",
      "|[0.53537784380006...|    1|[0.53537786, 0.08...|       1.0|\n",
      "|[-1.9316295195085...|    0|[-1.9316295, -1.3...|       0.0|\n",
      "|[-0.8788162423442...|    1|[-0.87881625, -0....|       1.0|\n",
      "|[0.47792785291472...|    1|[0.47792786, 1.28...|       1.0|\n",
      "|[-0.7537969085613...|    1|[-0.75379694, 1.9...|       1.0|\n",
      "|[-0.1103342853056...|    0|[-0.110334285, 3....|       1.0|\n",
      "|[0.21903394455633...|    1|[0.21903394, -1.2...|       1.0|\n",
      "|[-0.7010314631582...|    1|[-0.70103145, 0.6...|       1.0|\n",
      "|[-0.4024860125426...|    1|[-0.40248603, -1....|       0.0|\n",
      "|[1.91508615582208...|    1|[1.9150862, -1.07...|       1.0|\n",
      "|[1.03957987692160...|    1|[1.0395799, -0.80...|       1.0|\n",
      "|[-1.9962336859493...|    1|[-1.9962337, 0.55...|       1.0|\n",
      "|[0.03293939843484...|    1|[0.032939397, 1.2...|       1.0|\n",
      "+--------------------+-----+--------------------+----------+\n",
      "\n"
     ]
    }
   ],
   "source": [
    "spark_est.transform(df_test).show()"
   ]
  },
  {
   "cell_type": "code",
   "execution_count": 42,
   "metadata": {},
   "outputs": [],
   "source": [
    "from pyspark.ml import Pipeline"
   ]
  },
  {
   "cell_type": "code",
   "execution_count": 43,
   "metadata": {},
   "outputs": [],
   "source": [
    "pipeline = Pipeline(stages=[\n",
    "    spark_est\n",
    "])"
   ]
  },
  {
   "cell_type": "code",
   "execution_count": 44,
   "metadata": {},
   "outputs": [],
   "source": [
    "pipeline_model = pipeline.fit(df_test)"
   ]
  },
  {
   "cell_type": "code",
   "execution_count": 45,
   "metadata": {},
   "outputs": [
    {
     "name": "stdout",
     "output_type": "stream",
     "text": [
      "+--------------------+-----+--------------------+----------+\n",
      "|            features|label|      features_array|prediction|\n",
      "+--------------------+-----+--------------------+----------+\n",
      "|[0.16713128673558...|    0|[0.16713129, 2.28...|       0.0|\n",
      "|[2.50158633810562...|    0|[2.5015864, 1.394...|       0.0|\n",
      "|[-0.7699917522248...|    0|[-0.76999176, 0.1...|       0.0|\n",
      "|[-0.9514898817744...|    0|[-0.95148987, 1.6...|       0.0|\n",
      "|[1.32598926517448...|    0|[1.3259892, 1.287...|       0.0|\n",
      "|[-0.5091954518113...|    0|[-0.50919545, 2.0...|       0.0|\n",
      "|[-0.9442948966018...|    1|[-0.94429487, 1.2...|       1.0|\n",
      "|[0.53537784380006...|    1|[0.53537786, 0.08...|       1.0|\n",
      "|[-1.9316295195085...|    0|[-1.9316295, -1.3...|       0.0|\n",
      "|[-0.8788162423442...|    1|[-0.87881625, -0....|       1.0|\n",
      "|[0.47792785291472...|    1|[0.47792786, 1.28...|       1.0|\n",
      "|[-0.7537969085613...|    1|[-0.75379694, 1.9...|       1.0|\n",
      "|[-0.1103342853056...|    0|[-0.110334285, 3....|       1.0|\n",
      "|[0.21903394455633...|    1|[0.21903394, -1.2...|       1.0|\n",
      "|[-0.7010314631582...|    1|[-0.70103145, 0.6...|       1.0|\n",
      "|[-0.4024860125426...|    1|[-0.40248603, -1....|       0.0|\n",
      "|[1.91508615582208...|    1|[1.9150862, -1.07...|       1.0|\n",
      "|[1.03957987692160...|    1|[1.0395799, -0.80...|       1.0|\n",
      "|[-1.9962336859493...|    1|[-1.9962337, 0.55...|       1.0|\n",
      "|[0.03293939843484...|    1|[0.032939397, 1.2...|       1.0|\n",
      "+--------------------+-----+--------------------+----------+\n",
      "\n"
     ]
    }
   ],
   "source": [
    "pipeline_model.transform(df_test).show()"
   ]
  },
  {
   "cell_type": "markdown",
   "metadata": {},
   "source": [
    "[Estimator base class](https://github.com/apache/spark/blob/v2.4.0/python/pyspark/ml/base.py#L243)\n"
   ]
  },
  {
   "cell_type": "code",
   "execution_count": 46,
   "metadata": {},
   "outputs": [],
   "source": [
    "class SKLogisticRegression(Estimator, HasFeaturesCol, HasPredictionCol, HasLabelCol):\n",
    "    @keyword_only\n",
    "    def __init__(self, featuresCol=\"features\", predictionCol=\"prediction\", labelCol=\"label\"):\n",
    "        super(SKLogisticRegression, self).__init__()\n",
    "        kwargs = self._input_kwargs\n",
    "        self._set(**kwargs)\n",
    "        \n",
    "    def _fit(self, dataset):\n",
    "        local_dataset = dataset.select(self.getFeaturesCol(), self.getLabelCol()).toPandas()\n",
    "        self.est = LogisticRegression()\n",
    "        self.est.fit(local_dataset[self.getFeaturesCol()].tolist(), local_dataset[self.getLabelCol()])\n",
    "        self.model_file = \"logistic_regression.pk\"\n",
    "        with open(self.model_file, \"wb\") as f:\n",
    "            pickle.dump(self.est, f)\n",
    "        return SKLogisticRegreesionModel(model_file=self.model_file, predictionCol=self.getPredictionCol(),\n",
    "                                         featuresCol=self.getFeaturesCol(), labelCol=self.getLabelCol())"
   ]
  },
  {
   "cell_type": "code",
   "execution_count": 59,
   "metadata": {},
   "outputs": [],
   "source": [
    "spark_est = SKLogisticRegression(featuresCol=\"test_col\")"
   ]
  },
  {
   "cell_type": "code",
   "execution_count": 60,
   "metadata": {},
   "outputs": [
    {
     "ename": "AnalysisException",
     "evalue": "\"cannot resolve '`test_col`' given input columns: [features, label, features_array];;\\n'Project ['test_col, label#1]\\n+- Project [features#0, label#1, vectorToArray(features#0) AS features_array#28]\\n   +- LogicalRDD [features#0, label#1], false\\n\"",
     "output_type": "error",
     "traceback": [
      "\u001b[0;31m---------------------------------------------------------------------------\u001b[0m",
      "\u001b[0;31mPy4JJavaError\u001b[0m                             Traceback (most recent call last)",
      "\u001b[0;32m/usr/hdp/current/spark2-client/python/pyspark/sql/utils.py\u001b[0m in \u001b[0;36mdeco\u001b[0;34m(*a, **kw)\u001b[0m\n\u001b[1;32m     62\u001b[0m         \u001b[0;32mtry\u001b[0m\u001b[0;34m:\u001b[0m\u001b[0;34m\u001b[0m\u001b[0m\n\u001b[0;32m---> 63\u001b[0;31m             \u001b[0;32mreturn\u001b[0m \u001b[0mf\u001b[0m\u001b[0;34m(\u001b[0m\u001b[0;34m*\u001b[0m\u001b[0ma\u001b[0m\u001b[0;34m,\u001b[0m \u001b[0;34m**\u001b[0m\u001b[0mkw\u001b[0m\u001b[0;34m)\u001b[0m\u001b[0;34m\u001b[0m\u001b[0m\n\u001b[0m\u001b[1;32m     64\u001b[0m         \u001b[0;32mexcept\u001b[0m \u001b[0mpy4j\u001b[0m\u001b[0;34m.\u001b[0m\u001b[0mprotocol\u001b[0m\u001b[0;34m.\u001b[0m\u001b[0mPy4JJavaError\u001b[0m \u001b[0;32mas\u001b[0m \u001b[0me\u001b[0m\u001b[0;34m:\u001b[0m\u001b[0;34m\u001b[0m\u001b[0m\n",
      "\u001b[0;32m/usr/hdp/current/spark2-client/python/lib/py4j-0.10.7-src.zip/py4j/protocol.py\u001b[0m in \u001b[0;36mget_return_value\u001b[0;34m(answer, gateway_client, target_id, name)\u001b[0m\n\u001b[1;32m    327\u001b[0m                     \u001b[0;34m\"An error occurred while calling {0}{1}{2}.\\n\"\u001b[0m\u001b[0;34m.\u001b[0m\u001b[0;34m\u001b[0m\u001b[0m\n\u001b[0;32m--> 328\u001b[0;31m                     format(target_id, \".\", name), value)\n\u001b[0m\u001b[1;32m    329\u001b[0m             \u001b[0;32melse\u001b[0m\u001b[0;34m:\u001b[0m\u001b[0;34m\u001b[0m\u001b[0m\n",
      "\u001b[0;31mPy4JJavaError\u001b[0m: An error occurred while calling o161.select.\n: org.apache.spark.sql.AnalysisException: cannot resolve '`test_col`' given input columns: [features, label, features_array];;\n'Project ['test_col, label#1]\n+- Project [features#0, label#1, vectorToArray(features#0) AS features_array#28]\n   +- LogicalRDD [features#0, label#1], false\n\n\tat org.apache.spark.sql.catalyst.analysis.package$AnalysisErrorAt.failAnalysis(package.scala:42)\n\tat org.apache.spark.sql.catalyst.analysis.CheckAnalysis$$anonfun$checkAnalysis$1$$anonfun$apply$3.applyOrElse(CheckAnalysis.scala:111)\n\tat org.apache.spark.sql.catalyst.analysis.CheckAnalysis$$anonfun$checkAnalysis$1$$anonfun$apply$3.applyOrElse(CheckAnalysis.scala:108)\n\tat org.apache.spark.sql.catalyst.trees.TreeNode$$anonfun$transformUp$1.apply(TreeNode.scala:280)\n\tat org.apache.spark.sql.catalyst.trees.TreeNode$$anonfun$transformUp$1.apply(TreeNode.scala:280)\n\tat org.apache.spark.sql.catalyst.trees.CurrentOrigin$.withOrigin(TreeNode.scala:69)\n\tat org.apache.spark.sql.catalyst.trees.TreeNode.transformUp(TreeNode.scala:279)\n\tat org.apache.spark.sql.catalyst.plans.QueryPlan$$anonfun$transformExpressionsUp$1.apply(QueryPlan.scala:93)\n\tat org.apache.spark.sql.catalyst.plans.QueryPlan$$anonfun$transformExpressionsUp$1.apply(QueryPlan.scala:93)\n\tat org.apache.spark.sql.catalyst.plans.QueryPlan$$anonfun$1.apply(QueryPlan.scala:105)\n\tat org.apache.spark.sql.catalyst.plans.QueryPlan$$anonfun$1.apply(QueryPlan.scala:105)\n\tat org.apache.spark.sql.catalyst.trees.CurrentOrigin$.withOrigin(TreeNode.scala:69)\n\tat org.apache.spark.sql.catalyst.plans.QueryPlan.transformExpression$1(QueryPlan.scala:104)\n\tat org.apache.spark.sql.catalyst.plans.QueryPlan.org$apache$spark$sql$catalyst$plans$QueryPlan$$recursiveTransform$1(QueryPlan.scala:116)\n\tat org.apache.spark.sql.catalyst.plans.QueryPlan$$anonfun$org$apache$spark$sql$catalyst$plans$QueryPlan$$recursiveTransform$1$2.apply(QueryPlan.scala:121)\n\tat scala.collection.TraversableLike$$anonfun$map$1.apply(TraversableLike.scala:234)\n\tat scala.collection.TraversableLike$$anonfun$map$1.apply(TraversableLike.scala:234)\n\tat scala.collection.mutable.ResizableArray$class.foreach(ResizableArray.scala:59)\n\tat scala.collection.mutable.ArrayBuffer.foreach(ArrayBuffer.scala:48)\n\tat scala.collection.TraversableLike$class.map(TraversableLike.scala:234)\n\tat scala.collection.AbstractTraversable.map(Traversable.scala:104)\n\tat org.apache.spark.sql.catalyst.plans.QueryPlan.org$apache$spark$sql$catalyst$plans$QueryPlan$$recursiveTransform$1(QueryPlan.scala:121)\n\tat org.apache.spark.sql.catalyst.plans.QueryPlan$$anonfun$2.apply(QueryPlan.scala:126)\n\tat org.apache.spark.sql.catalyst.trees.TreeNode.mapProductIterator(TreeNode.scala:186)\n\tat org.apache.spark.sql.catalyst.plans.QueryPlan.mapExpressions(QueryPlan.scala:126)\n\tat org.apache.spark.sql.catalyst.plans.QueryPlan.transformExpressionsUp(QueryPlan.scala:93)\n\tat org.apache.spark.sql.catalyst.analysis.CheckAnalysis$$anonfun$checkAnalysis$1.apply(CheckAnalysis.scala:108)\n\tat org.apache.spark.sql.catalyst.analysis.CheckAnalysis$$anonfun$checkAnalysis$1.apply(CheckAnalysis.scala:86)\n\tat org.apache.spark.sql.catalyst.trees.TreeNode.foreachUp(TreeNode.scala:126)\n\tat org.apache.spark.sql.catalyst.analysis.CheckAnalysis$class.checkAnalysis(CheckAnalysis.scala:86)\n\tat org.apache.spark.sql.catalyst.analysis.Analyzer.checkAnalysis(Analyzer.scala:95)\n\tat org.apache.spark.sql.catalyst.analysis.Analyzer$$anonfun$executeAndCheck$1.apply(Analyzer.scala:108)\n\tat org.apache.spark.sql.catalyst.analysis.Analyzer$$anonfun$executeAndCheck$1.apply(Analyzer.scala:105)\n\tat org.apache.spark.sql.catalyst.plans.logical.AnalysisHelper$.markInAnalyzer(AnalysisHelper.scala:201)\n\tat org.apache.spark.sql.catalyst.analysis.Analyzer.executeAndCheck(Analyzer.scala:105)\n\tat org.apache.spark.sql.execution.QueryExecution.analyzed$lzycompute(QueryExecution.scala:58)\n\tat org.apache.spark.sql.execution.QueryExecution.analyzed(QueryExecution.scala:56)\n\tat org.apache.spark.sql.execution.QueryExecution.assertAnalyzed(QueryExecution.scala:48)\n\tat org.apache.spark.sql.Dataset$.ofRows(Dataset.scala:78)\n\tat org.apache.spark.sql.Dataset.org$apache$spark$sql$Dataset$$withPlan(Dataset.scala:3412)\n\tat org.apache.spark.sql.Dataset.select(Dataset.scala:1340)\n\tat sun.reflect.NativeMethodAccessorImpl.invoke0(Native Method)\n\tat sun.reflect.NativeMethodAccessorImpl.invoke(NativeMethodAccessorImpl.java:62)\n\tat sun.reflect.DelegatingMethodAccessorImpl.invoke(DelegatingMethodAccessorImpl.java:43)\n\tat java.lang.reflect.Method.invoke(Method.java:498)\n\tat py4j.reflection.MethodInvoker.invoke(MethodInvoker.java:244)\n\tat py4j.reflection.ReflectionEngine.invoke(ReflectionEngine.java:357)\n\tat py4j.Gateway.invoke(Gateway.java:282)\n\tat py4j.commands.AbstractCommand.invokeMethod(AbstractCommand.java:132)\n\tat py4j.commands.CallCommand.execute(CallCommand.java:79)\n\tat py4j.GatewayConnection.run(GatewayConnection.java:238)\n\tat java.lang.Thread.run(Thread.java:745)\n",
      "\nDuring handling of the above exception, another exception occurred:\n",
      "\u001b[0;31mAnalysisException\u001b[0m                         Traceback (most recent call last)",
      "\u001b[0;32m<ipython-input-60-5f54de5c2b33>\u001b[0m in \u001b[0;36m<module>\u001b[0;34m()\u001b[0m\n\u001b[0;32m----> 1\u001b[0;31m \u001b[0mspark_est_model\u001b[0m \u001b[0;34m=\u001b[0m \u001b[0mspark_est\u001b[0m\u001b[0;34m.\u001b[0m\u001b[0mfit\u001b[0m\u001b[0;34m(\u001b[0m\u001b[0mdf_test\u001b[0m\u001b[0;34m)\u001b[0m\u001b[0;34m\u001b[0m\u001b[0m\n\u001b[0m",
      "\u001b[0;32m/usr/hdp/current/spark2-client/python/pyspark/ml/base.py\u001b[0m in \u001b[0;36mfit\u001b[0;34m(self, dataset, params)\u001b[0m\n\u001b[1;32m    130\u001b[0m                 \u001b[0;32mreturn\u001b[0m \u001b[0mself\u001b[0m\u001b[0;34m.\u001b[0m\u001b[0mcopy\u001b[0m\u001b[0;34m(\u001b[0m\u001b[0mparams\u001b[0m\u001b[0;34m)\u001b[0m\u001b[0;34m.\u001b[0m\u001b[0m_fit\u001b[0m\u001b[0;34m(\u001b[0m\u001b[0mdataset\u001b[0m\u001b[0;34m)\u001b[0m\u001b[0;34m\u001b[0m\u001b[0m\n\u001b[1;32m    131\u001b[0m             \u001b[0;32melse\u001b[0m\u001b[0;34m:\u001b[0m\u001b[0;34m\u001b[0m\u001b[0m\n\u001b[0;32m--> 132\u001b[0;31m                 \u001b[0;32mreturn\u001b[0m \u001b[0mself\u001b[0m\u001b[0;34m.\u001b[0m\u001b[0m_fit\u001b[0m\u001b[0;34m(\u001b[0m\u001b[0mdataset\u001b[0m\u001b[0;34m)\u001b[0m\u001b[0;34m\u001b[0m\u001b[0m\n\u001b[0m\u001b[1;32m    133\u001b[0m         \u001b[0;32melse\u001b[0m\u001b[0;34m:\u001b[0m\u001b[0;34m\u001b[0m\u001b[0m\n\u001b[1;32m    134\u001b[0m             raise ValueError(\"Params must be either a param map or a list/tuple of param maps, \"\n",
      "\u001b[0;32m<ipython-input-46-6a4044700a12>\u001b[0m in \u001b[0;36m_fit\u001b[0;34m(self, dataset)\u001b[0m\n\u001b[1;32m      7\u001b[0m \u001b[0;34m\u001b[0m\u001b[0m\n\u001b[1;32m      8\u001b[0m     \u001b[0;32mdef\u001b[0m \u001b[0m_fit\u001b[0m\u001b[0;34m(\u001b[0m\u001b[0mself\u001b[0m\u001b[0;34m,\u001b[0m \u001b[0mdataset\u001b[0m\u001b[0;34m)\u001b[0m\u001b[0;34m:\u001b[0m\u001b[0;34m\u001b[0m\u001b[0m\n\u001b[0;32m----> 9\u001b[0;31m         \u001b[0mlocal_dataset\u001b[0m \u001b[0;34m=\u001b[0m \u001b[0mdataset\u001b[0m\u001b[0;34m.\u001b[0m\u001b[0mselect\u001b[0m\u001b[0;34m(\u001b[0m\u001b[0mself\u001b[0m\u001b[0;34m.\u001b[0m\u001b[0mgetFeaturesCol\u001b[0m\u001b[0;34m(\u001b[0m\u001b[0;34m)\u001b[0m\u001b[0;34m,\u001b[0m \u001b[0mself\u001b[0m\u001b[0;34m.\u001b[0m\u001b[0mgetLabelCol\u001b[0m\u001b[0;34m(\u001b[0m\u001b[0;34m)\u001b[0m\u001b[0;34m)\u001b[0m\u001b[0;34m.\u001b[0m\u001b[0mtoPandas\u001b[0m\u001b[0;34m(\u001b[0m\u001b[0;34m)\u001b[0m\u001b[0;34m\u001b[0m\u001b[0m\n\u001b[0m\u001b[1;32m     10\u001b[0m         \u001b[0mself\u001b[0m\u001b[0;34m.\u001b[0m\u001b[0mest\u001b[0m \u001b[0;34m=\u001b[0m \u001b[0mLogisticRegression\u001b[0m\u001b[0;34m(\u001b[0m\u001b[0;34m)\u001b[0m\u001b[0;34m\u001b[0m\u001b[0m\n\u001b[1;32m     11\u001b[0m         \u001b[0mself\u001b[0m\u001b[0;34m.\u001b[0m\u001b[0mest\u001b[0m\u001b[0;34m.\u001b[0m\u001b[0mfit\u001b[0m\u001b[0;34m(\u001b[0m\u001b[0mlocal_dataset\u001b[0m\u001b[0;34m[\u001b[0m\u001b[0mself\u001b[0m\u001b[0;34m.\u001b[0m\u001b[0mgetFeaturesCol\u001b[0m\u001b[0;34m(\u001b[0m\u001b[0;34m)\u001b[0m\u001b[0;34m]\u001b[0m\u001b[0;34m.\u001b[0m\u001b[0mtolist\u001b[0m\u001b[0;34m(\u001b[0m\u001b[0;34m)\u001b[0m\u001b[0;34m,\u001b[0m \u001b[0mlocal_dataset\u001b[0m\u001b[0;34m[\u001b[0m\u001b[0mself\u001b[0m\u001b[0;34m.\u001b[0m\u001b[0mgetLabelCol\u001b[0m\u001b[0;34m(\u001b[0m\u001b[0;34m)\u001b[0m\u001b[0;34m]\u001b[0m\u001b[0;34m)\u001b[0m\u001b[0;34m\u001b[0m\u001b[0m\n",
      "\u001b[0;32m/usr/hdp/current/spark2-client/python/pyspark/sql/dataframe.py\u001b[0m in \u001b[0;36mselect\u001b[0;34m(self, *cols)\u001b[0m\n\u001b[1;32m   1323\u001b[0m         \u001b[0;34m[\u001b[0m\u001b[0mRow\u001b[0m\u001b[0;34m(\u001b[0m\u001b[0mname\u001b[0m\u001b[0;34m=\u001b[0m\u001b[0;34mu'Alice'\u001b[0m\u001b[0;34m,\u001b[0m \u001b[0mage\u001b[0m\u001b[0;34m=\u001b[0m\u001b[0;36m12\u001b[0m\u001b[0;34m)\u001b[0m\u001b[0;34m,\u001b[0m \u001b[0mRow\u001b[0m\u001b[0;34m(\u001b[0m\u001b[0mname\u001b[0m\u001b[0;34m=\u001b[0m\u001b[0;34mu'Bob'\u001b[0m\u001b[0;34m,\u001b[0m \u001b[0mage\u001b[0m\u001b[0;34m=\u001b[0m\u001b[0;36m15\u001b[0m\u001b[0;34m)\u001b[0m\u001b[0;34m]\u001b[0m\u001b[0;34m\u001b[0m\u001b[0m\n\u001b[1;32m   1324\u001b[0m         \"\"\"\n\u001b[0;32m-> 1325\u001b[0;31m         \u001b[0mjdf\u001b[0m \u001b[0;34m=\u001b[0m \u001b[0mself\u001b[0m\u001b[0;34m.\u001b[0m\u001b[0m_jdf\u001b[0m\u001b[0;34m.\u001b[0m\u001b[0mselect\u001b[0m\u001b[0;34m(\u001b[0m\u001b[0mself\u001b[0m\u001b[0;34m.\u001b[0m\u001b[0m_jcols\u001b[0m\u001b[0;34m(\u001b[0m\u001b[0;34m*\u001b[0m\u001b[0mcols\u001b[0m\u001b[0;34m)\u001b[0m\u001b[0;34m)\u001b[0m\u001b[0;34m\u001b[0m\u001b[0m\n\u001b[0m\u001b[1;32m   1326\u001b[0m         \u001b[0;32mreturn\u001b[0m \u001b[0mDataFrame\u001b[0m\u001b[0;34m(\u001b[0m\u001b[0mjdf\u001b[0m\u001b[0;34m,\u001b[0m \u001b[0mself\u001b[0m\u001b[0;34m.\u001b[0m\u001b[0msql_ctx\u001b[0m\u001b[0;34m)\u001b[0m\u001b[0;34m\u001b[0m\u001b[0m\n\u001b[1;32m   1327\u001b[0m \u001b[0;34m\u001b[0m\u001b[0m\n",
      "\u001b[0;32m/usr/hdp/current/spark2-client/python/lib/py4j-0.10.7-src.zip/py4j/java_gateway.py\u001b[0m in \u001b[0;36m__call__\u001b[0;34m(self, *args)\u001b[0m\n\u001b[1;32m   1255\u001b[0m         \u001b[0manswer\u001b[0m \u001b[0;34m=\u001b[0m \u001b[0mself\u001b[0m\u001b[0;34m.\u001b[0m\u001b[0mgateway_client\u001b[0m\u001b[0;34m.\u001b[0m\u001b[0msend_command\u001b[0m\u001b[0;34m(\u001b[0m\u001b[0mcommand\u001b[0m\u001b[0;34m)\u001b[0m\u001b[0;34m\u001b[0m\u001b[0m\n\u001b[1;32m   1256\u001b[0m         return_value = get_return_value(\n\u001b[0;32m-> 1257\u001b[0;31m             answer, self.gateway_client, self.target_id, self.name)\n\u001b[0m\u001b[1;32m   1258\u001b[0m \u001b[0;34m\u001b[0m\u001b[0m\n\u001b[1;32m   1259\u001b[0m         \u001b[0;32mfor\u001b[0m \u001b[0mtemp_arg\u001b[0m \u001b[0;32min\u001b[0m \u001b[0mtemp_args\u001b[0m\u001b[0;34m:\u001b[0m\u001b[0;34m\u001b[0m\u001b[0m\n",
      "\u001b[0;32m/usr/hdp/current/spark2-client/python/pyspark/sql/utils.py\u001b[0m in \u001b[0;36mdeco\u001b[0;34m(*a, **kw)\u001b[0m\n\u001b[1;32m     67\u001b[0m                                              e.java_exception.getStackTrace()))\n\u001b[1;32m     68\u001b[0m             \u001b[0;32mif\u001b[0m \u001b[0ms\u001b[0m\u001b[0;34m.\u001b[0m\u001b[0mstartswith\u001b[0m\u001b[0;34m(\u001b[0m\u001b[0;34m'org.apache.spark.sql.AnalysisException: '\u001b[0m\u001b[0;34m)\u001b[0m\u001b[0;34m:\u001b[0m\u001b[0;34m\u001b[0m\u001b[0m\n\u001b[0;32m---> 69\u001b[0;31m                 \u001b[0;32mraise\u001b[0m \u001b[0mAnalysisException\u001b[0m\u001b[0;34m(\u001b[0m\u001b[0ms\u001b[0m\u001b[0;34m.\u001b[0m\u001b[0msplit\u001b[0m\u001b[0;34m(\u001b[0m\u001b[0;34m': '\u001b[0m\u001b[0;34m,\u001b[0m \u001b[0;36m1\u001b[0m\u001b[0;34m)\u001b[0m\u001b[0;34m[\u001b[0m\u001b[0;36m1\u001b[0m\u001b[0;34m]\u001b[0m\u001b[0;34m,\u001b[0m \u001b[0mstackTrace\u001b[0m\u001b[0;34m)\u001b[0m\u001b[0;34m\u001b[0m\u001b[0m\n\u001b[0m\u001b[1;32m     70\u001b[0m             \u001b[0;32mif\u001b[0m \u001b[0ms\u001b[0m\u001b[0;34m.\u001b[0m\u001b[0mstartswith\u001b[0m\u001b[0;34m(\u001b[0m\u001b[0;34m'org.apache.spark.sql.catalyst.analysis'\u001b[0m\u001b[0;34m)\u001b[0m\u001b[0;34m:\u001b[0m\u001b[0;34m\u001b[0m\u001b[0m\n\u001b[1;32m     71\u001b[0m                 \u001b[0;32mraise\u001b[0m \u001b[0mAnalysisException\u001b[0m\u001b[0;34m(\u001b[0m\u001b[0ms\u001b[0m\u001b[0;34m.\u001b[0m\u001b[0msplit\u001b[0m\u001b[0;34m(\u001b[0m\u001b[0;34m': '\u001b[0m\u001b[0;34m,\u001b[0m \u001b[0;36m1\u001b[0m\u001b[0;34m)\u001b[0m\u001b[0;34m[\u001b[0m\u001b[0;36m1\u001b[0m\u001b[0;34m]\u001b[0m\u001b[0;34m,\u001b[0m \u001b[0mstackTrace\u001b[0m\u001b[0;34m)\u001b[0m\u001b[0;34m\u001b[0m\u001b[0m\n",
      "\u001b[0;31mAnalysisException\u001b[0m: \"cannot resolve '`test_col`' given input columns: [features, label, features_array];;\\n'Project ['test_col, label#1]\\n+- Project [features#0, label#1, vectorToArray(features#0) AS features_array#28]\\n   +- LogicalRDD [features#0, label#1], false\\n\""
     ]
    }
   ],
   "source": [
    "spark_est_model = spark_est.fit(df_test)"
   ]
  },
  {
   "cell_type": "code",
   "execution_count": 49,
   "metadata": {},
   "outputs": [
    {
     "data": {
      "text/plain": [
       "SKLogisticRegreesionModel_c1a4e8aa2261"
      ]
     },
     "execution_count": 49,
     "metadata": {},
     "output_type": "execute_result"
    }
   ],
   "source": [
    "spark_est_model"
   ]
  },
  {
   "cell_type": "code",
   "execution_count": 50,
   "metadata": {},
   "outputs": [
    {
     "name": "stdout",
     "output_type": "stream",
     "text": [
      "+--------------------+-----+--------------------+----------+\n",
      "|            features|label|      features_array|prediction|\n",
      "+--------------------+-----+--------------------+----------+\n",
      "|[0.16713128673558...|    0|[0.16713129, 2.28...|       0.0|\n",
      "|[2.50158633810562...|    0|[2.5015864, 1.394...|       0.0|\n",
      "|[-0.7699917522248...|    0|[-0.76999176, 0.1...|       0.0|\n",
      "|[-0.9514898817744...|    0|[-0.95148987, 1.6...|       0.0|\n",
      "|[1.32598926517448...|    0|[1.3259892, 1.287...|       0.0|\n",
      "|[-0.5091954518113...|    0|[-0.50919545, 2.0...|       0.0|\n",
      "|[-0.9442948966018...|    1|[-0.94429487, 1.2...|       1.0|\n",
      "|[0.53537784380006...|    1|[0.53537786, 0.08...|       1.0|\n",
      "|[-1.9316295195085...|    0|[-1.9316295, -1.3...|       0.0|\n",
      "|[-0.8788162423442...|    1|[-0.87881625, -0....|       1.0|\n",
      "|[0.47792785291472...|    1|[0.47792786, 1.28...|       1.0|\n",
      "|[-0.7537969085613...|    1|[-0.75379694, 1.9...|       1.0|\n",
      "|[-0.1103342853056...|    0|[-0.110334285, 3....|       1.0|\n",
      "|[0.21903394455633...|    1|[0.21903394, -1.2...|       1.0|\n",
      "|[-0.7010314631582...|    1|[-0.70103145, 0.6...|       1.0|\n",
      "|[-0.4024860125426...|    1|[-0.40248603, -1....|       0.0|\n",
      "|[1.91508615582208...|    1|[1.9150862, -1.07...|       1.0|\n",
      "|[1.03957987692160...|    1|[1.0395799, -0.80...|       1.0|\n",
      "|[-1.9962336859493...|    1|[-1.9962337, 0.55...|       1.0|\n",
      "|[0.03293939843484...|    1|[0.032939397, 1.2...|       1.0|\n",
      "+--------------------+-----+--------------------+----------+\n",
      "\n"
     ]
    }
   ],
   "source": [
    "spark_est_model.transform(df_test).show()"
   ]
  },
  {
   "cell_type": "code",
   "execution_count": 51,
   "metadata": {},
   "outputs": [],
   "source": [
    "pipeline = Pipeline(stages=[\n",
    "    spark_est\n",
    "])"
   ]
  },
  {
   "cell_type": "code",
   "execution_count": 52,
   "metadata": {},
   "outputs": [],
   "source": [
    "pipeline_model = pipeline.fit(df_test)"
   ]
  },
  {
   "cell_type": "code",
   "execution_count": 53,
   "metadata": {},
   "outputs": [
    {
     "name": "stdout",
     "output_type": "stream",
     "text": [
      "+--------------------+-----+--------------------+----------+\n",
      "|            features|label|      features_array|prediction|\n",
      "+--------------------+-----+--------------------+----------+\n",
      "|[0.16713128673558...|    0|[0.16713129, 2.28...|       0.0|\n",
      "|[2.50158633810562...|    0|[2.5015864, 1.394...|       0.0|\n",
      "|[-0.7699917522248...|    0|[-0.76999176, 0.1...|       0.0|\n",
      "|[-0.9514898817744...|    0|[-0.95148987, 1.6...|       0.0|\n",
      "|[1.32598926517448...|    0|[1.3259892, 1.287...|       0.0|\n",
      "|[-0.5091954518113...|    0|[-0.50919545, 2.0...|       0.0|\n",
      "|[-0.9442948966018...|    1|[-0.94429487, 1.2...|       1.0|\n",
      "|[0.53537784380006...|    1|[0.53537786, 0.08...|       1.0|\n",
      "|[-1.9316295195085...|    0|[-1.9316295, -1.3...|       0.0|\n",
      "|[-0.8788162423442...|    1|[-0.87881625, -0....|       1.0|\n",
      "|[0.47792785291472...|    1|[0.47792786, 1.28...|       1.0|\n",
      "|[-0.7537969085613...|    1|[-0.75379694, 1.9...|       1.0|\n",
      "|[-0.1103342853056...|    0|[-0.110334285, 3....|       1.0|\n",
      "|[0.21903394455633...|    1|[0.21903394, -1.2...|       1.0|\n",
      "|[-0.7010314631582...|    1|[-0.70103145, 0.6...|       1.0|\n",
      "|[-0.4024860125426...|    1|[-0.40248603, -1....|       0.0|\n",
      "|[1.91508615582208...|    1|[1.9150862, -1.07...|       1.0|\n",
      "|[1.03957987692160...|    1|[1.0395799, -0.80...|       1.0|\n",
      "|[-1.9962336859493...|    1|[-1.9962337, 0.55...|       1.0|\n",
      "|[0.03293939843484...|    1|[0.032939397, 1.2...|       1.0|\n",
      "+--------------------+-----+--------------------+----------+\n",
      "\n"
     ]
    }
   ],
   "source": [
    "pipeline_model.transform(df_test).show()"
   ]
  },
  {
   "cell_type": "code",
   "execution_count": 54,
   "metadata": {},
   "outputs": [],
   "source": [
    "from pyspark.ml.evaluation import Evaluator\n",
    "import pyspark.sql.functions as f"
   ]
  },
  {
   "cell_type": "code",
   "execution_count": 55,
   "metadata": {},
   "outputs": [],
   "source": [
    "class MyEvaluator(Evaluator, HasPredictionCol, HasLabelCol):\n",
    "\n",
    "    def __init__(self, predictionCol=\"prediction\", labelCol=\"label\"):\n",
    "        self.predictionCol = predictionCol\n",
    "        self.labelCol = labelCol\n",
    "\n",
    "    def _evaluate(self, dataset):\n",
    "        res = dataset.agg(f.sum(\"prediction\"), f.sum(\"label\")).collect()[0]\n",
    "        return res[1] / res[0]\n",
    "\n",
    "    def isLargerBetter(self):\n",
    "        return True"
   ]
  },
  {
   "cell_type": "code",
   "execution_count": 56,
   "metadata": {},
   "outputs": [],
   "source": [
    "evaluator = MyEvaluator()"
   ]
  },
  {
   "cell_type": "code",
   "execution_count": 57,
   "metadata": {},
   "outputs": [
    {
     "data": {
      "text/plain": [
       "1.0"
      ]
     },
     "execution_count": 57,
     "metadata": {},
     "output_type": "execute_result"
    }
   ],
   "source": [
    "evaluator.evaluate(spark_est_model.transform(df_test))"
   ]
  },
  {
   "cell_type": "code",
   "execution_count": 61,
   "metadata": {},
   "outputs": [],
   "source": [
    "spark.stop()"
   ]
  },
  {
   "cell_type": "code",
   "execution_count": null,
   "metadata": {},
   "outputs": [],
   "source": []
  }
 ],
 "metadata": {
  "kernelspec": {
   "display_name": "Python 3",
   "language": "python",
   "name": "python3"
  },
  "language_info": {
   "codemirror_mode": {
    "name": "ipython",
    "version": 3
   },
   "file_extension": ".py",
   "mimetype": "text/x-python",
   "name": "python",
   "nbconvert_exporter": "python",
   "pygments_lexer": "ipython3",
   "version": "3.6.5"
  }
 },
 "nbformat": 4,
 "nbformat_minor": 2
}
