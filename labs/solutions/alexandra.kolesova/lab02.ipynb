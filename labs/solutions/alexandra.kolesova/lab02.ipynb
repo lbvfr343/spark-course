{
 "cells": [
  {
   "cell_type": "code",
   "execution_count": 1,
   "metadata": {},
   "outputs": [
    {
     "name": "stdout",
     "output_type": "stream",
     "text": [
      "Welcome to\n",
      "      ____              __\n",
      "     / __/__  ___ _____/ /__\n",
      "    _\\ \\/ _ \\/ _ `/ __/  '_/\n",
      "   /__ / .__/\\_,_/_/ /_/\\_\\   version 2.4.7\n",
      "      /_/\n",
      "\n",
      "Using Python version 3.6.5 (default, Apr 29 2018 16:14:56)\n",
      "SparkSession available as 'spark'.\n"
     ]
    }
   ],
   "source": [
    "import os\n",
    "import sys\n",
    "os.environ[\"PYSPARK_PYTHON\"]='/opt/anaconda/envs/bd9/bin/python'\n",
    "os.environ[\"SPARK_HOME\"]='/usr/hdp/current/spark2-client'\n",
    "os.environ[\"PYSPARK_SUBMIT_ARGS\"]='--num-executors 2 pyspark-shell'\n",
    "\n",
    "spark_home = os.environ.get('SPARK_HOME', None)\n",
    "if not spark_home:\n",
    "    raise ValueError('SPARK_HOME environment variable is not set')\n",
    "\n",
    "sys.path.insert(0, os.path.join(spark_home, 'python'))\n",
    "sys.path.insert(0, os.path.join(spark_home, 'python/lib/py4j-0.10.7-src.zip'))\n",
    "exec(open(os.path.join(spark_home, 'python/pyspark/shell.py')).read())"
   ]
  },
  {
   "cell_type": "code",
   "execution_count": 5,
   "metadata": {},
   "outputs": [],
   "source": [
    "from pyspark.sql.functions import pandas_udf, PandasUDFType\n",
    "from pyspark.sql.types import ArrayType, StringType\n",
    "from pyspark.ml.feature import StopWordsRemover, HashingTF, IDF, Normalizer"
   ]
  },
  {
   "cell_type": "code",
   "execution_count": 2,
   "metadata": {},
   "outputs": [],
   "source": [
    "from pyspark import SparkConf\n",
    "from pyspark.sql import SparkSession\n",
    "from pyspark.sql import functions as F\n",
    "from pyspark.sql.types import *\n",
    "from pyspark import Row\n",
    "import json\n",
    "import re\n",
    "\n",
    "conf = SparkConf()\n",
    "\n",
    "spark = (SparkSession\n",
    "         .builder\n",
    "         .config(conf=conf)\n",
    "         .appName(\"test\")\n",
    "         .getOrCreate())"
   ]
  },
  {
   "cell_type": "code",
   "execution_count": 3,
   "metadata": {},
   "outputs": [
    {
     "data": {
      "text/html": [
       "\n",
       "            <div>\n",
       "                <p><b>SparkSession - hive</b></p>\n",
       "                \n",
       "        <div>\n",
       "            <p><b>SparkContext</b></p>\n",
       "\n",
       "            <p><a href=\"http://spark-master-4.newprolab.com:4042\">Spark UI</a></p>\n",
       "\n",
       "            <dl>\n",
       "              <dt>Version</dt>\n",
       "                <dd><code>v2.4.7</code></dd>\n",
       "              <dt>Master</dt>\n",
       "                <dd><code>yarn</code></dd>\n",
       "              <dt>AppName</dt>\n",
       "                <dd><code>pyspark-shell</code></dd>\n",
       "            </dl>\n",
       "        </div>\n",
       "        \n",
       "            </div>\n",
       "        "
      ],
      "text/plain": [
       "<pyspark.sql.session.SparkSession at 0x7f6dc8b86668>"
      ]
     },
     "execution_count": 3,
     "metadata": {},
     "output_type": "execute_result"
    }
   ],
   "source": [
    "spark"
   ]
  },
  {
   "cell_type": "code",
   "execution_count": 6,
   "metadata": {},
   "outputs": [],
   "source": [
    "data = spark.read.json('/labs/slaba02/DO_record_per_line.json')\n",
    "\n",
    "###'cat', 'desc', 'id', 'lang', 'name', 'provider'"
   ]
  },
  {
   "cell_type": "code",
   "execution_count": 7,
   "metadata": {},
   "outputs": [
    {
     "data": {
      "text/plain": [
       "[[23126, 'en', 'Compass - powerful SASS library that makes your life easier'],\n",
       " [21617, 'en', 'Preparing for the AP* Computer Science A Exam — Part 2'],\n",
       " [16627, 'es', 'Aprende Excel: Nivel Intermedio by Alfonso Rinsche'],\n",
       " [11556,\n",
       "  'es',\n",
       "  'Aprendizaje Colaborativo by UNID Universidad Interamericana para el Desarrollo'],\n",
       " [16704, 'ru', 'Программирование на Lazarus'],\n",
       " [13702, 'ru', 'Математическая экономика']]"
      ]
     },
     "execution_count": 7,
     "metadata": {},
     "output_type": "execute_result"
    }
   ],
   "source": [
    "given_courses = [\n",
    "    [23126, u'en', u'Compass - powerful SASS library that makes your life easier'], \n",
    "    [21617, u'en', u'Preparing for the AP* Computer Science A Exam \\u2014 Part 2'], \n",
    "    [16627, u'es', u'Aprende Excel: Nivel Intermedio by Alfonso Rinsche'], \n",
    "    [11556, u'es', u'Aprendizaje Colaborativo by UNID Universidad Interamericana para el Desarrollo'], \n",
    "    [16704, u'ru', u'\\u041f\\u0440\\u043e\\u0433\\u0440\\u0430\\u043c\\u043c\\u0438\\u0440\\u043e\\u0432\\u0430\\u043d\\u0438\\u0435 \\u043d\\u0430 Lazarus'], \n",
    "    [13702, u'ru', u'\\u041c\\u0430\\u0442\\u0435\\u043c\\u0430\\u0442\\u0438\\u0447\\u0435\\u0441\\u043a\\u0430\\u044f \\u044d\\u043a\\u043e\\u043d\\u043e\\u043c\\u0438\\u043a\\u0430']\n",
    "]\n",
    "\n",
    "given_courses"
   ]
  },
  {
   "cell_type": "code",
   "execution_count": 8,
   "metadata": {},
   "outputs": [
    {
     "data": {
      "text/plain": [
       "[23126, 21617, 16627, 11556, 16704, 13702]"
      ]
     },
     "execution_count": 8,
     "metadata": {},
     "output_type": "execute_result"
    }
   ],
   "source": [
    "ids_courses = [course[0] for course in given_courses]\n",
    "\n",
    "ids_courses"
   ]
  },
  {
   "cell_type": "code",
   "execution_count": 9,
   "metadata": {},
   "outputs": [],
   "source": [
    "#@pandas_udf('array<string>', PandasUDFType.SCALAR) \n",
    "def text_compile(s):\n",
    "    regex = re.compile(u'[\\w\\d]{2,}', re.U)\n",
    "    #words = regex.findall(s.lower())\n",
    "    words = s.str.findall(regex)\n",
    "    \n",
    "    return words\n",
    "\n",
    "text_compile_udf = pandas_udf(text_compile, ArrayType(StringType()))\n",
    "\n",
    "dot_udf = F.udf(lambda x,y: float(x.dot(y)), DoubleType())"
   ]
  },
  {
   "cell_type": "code",
   "execution_count": 10,
   "metadata": {},
   "outputs": [],
   "source": [
    "data = data.withColumn(\"desc_words\", text_compile_udf(F.col(\"desc\")))\n",
    "\n",
    "word_remover = StopWordsRemover(inputCol=\"desc_words\", outputCol=\"desc_fin\")\n",
    "data = word_remover.transform(data)\n",
    "\n",
    "hashingTF = HashingTF(inputCol=\"desc_fin\", outputCol=\"features\").setNumFeatures(10000)\n",
    "tf = hashingTF.transform(data)\n",
    "idf = IDF(inputCol=\"features\", outputCol=\"features_idf\").fit(tf)\n",
    "tfidf = idf.transform(tf)\n",
    "\n",
    "normalizer = Normalizer(inputCol=\"features_idf\", outputCol=\"features_norm\")\n",
    "data = normalizer.transform(tfidf)"
   ]
  },
  {
   "cell_type": "code",
   "execution_count": 11,
   "metadata": {},
   "outputs": [],
   "source": [
    "cols_to_sel =['id','lang', 'name','features_norm']\n",
    "data_courses = data.select(cols_to_sel).filter(F.col('id').isin(ids_courses))"
   ]
  },
  {
   "cell_type": "code",
   "execution_count": 12,
   "metadata": {},
   "outputs": [],
   "source": [
    "result = (data.alias(\"i\")\n",
    "               .join(data_courses.alias(\"j\"), (F.col(\"i.id\") != F.col(\"j.id\"))& (F.col(\"i.lang\") == F.col(\"j.lang\")))\n",
    "               .select(\n",
    "                   F.col(\"i.id\").alias(\"i\"), \n",
    "                   F.col(\"j.id\").alias(\"j\"),\n",
    "                   F.col(\"i.lang\").alias(\"i_lang\"), \n",
    "                   F.col(\"j.lang\").alias(\"j_lang\"),\n",
    "                   F.col(\"i.name\").alias(\"i_name\"), \n",
    "                   F.col(\"j.name\").alias(\"j_name\"), \n",
    "                   dot_udf(\"i.features_norm\", \"j.features_norm\").alias(\"similar_cos\")\n",
    "               )\n",
    "         )"
   ]
  },
  {
   "cell_type": "code",
   "execution_count": 13,
   "metadata": {},
   "outputs": [
    {
     "name": "stdout",
     "output_type": "stream",
     "text": [
      "+-----+-----+------+------+--------------------+--------------------+--------------------+\n",
      "|    i|    j|i_lang|j_lang|              i_name|              j_name|         similar_cos|\n",
      "+-----+-----+------+------+--------------------+--------------------+--------------------+\n",
      "|16308|21617|    en|    en|Up and Running wi...|Preparing for the...|0.019807275787085153|\n",
      "|16308|23126|    en|    en|Up and Running wi...|Compass - powerfu...| 0.01612470740345601|\n",
      "|16309|21617|    en|    en|Up and Running wi...|Preparing for the...|0.002341370521805...|\n",
      "|16309|23126|    en|    en|Up and Running wi...|Compass - powerfu...|4.825378280640825E-4|\n",
      "|16310|21617|    en|    en|Up and Running wi...|Preparing for the...|0.001736986952796...|\n",
      "|16310|23126|    en|    en|Up and Running wi...|Compass - powerfu...|0.014177664315169359|\n",
      "|16311|21617|    en|    en|Up and Running wi...|Preparing for the...|  0.0365482066672459|\n",
      "|16311|23126|    en|    en|Up and Running wi...|Compass - powerfu...| 0.01297229572439117|\n",
      "|16312|21617|    en|    en|Up and Running wi...|Preparing for the...| 0.11129350388072584|\n",
      "|16312|23126|    en|    en|Up and Running wi...|Compass - powerfu...|                 0.0|\n",
      "|16313|21617|    en|    en|Up and Running wi...|Preparing for the...| 0.06839230541278545|\n",
      "|16313|23126|    en|    en|Up and Running wi...|Compass - powerfu...| 0.00543058223907815|\n",
      "|16314|21617|    en|    en|Up and Running wi...|Preparing for the...|0.002093142310790...|\n",
      "|16314|23126|    en|    en|Up and Running wi...|Compass - powerfu...|0.006606045062001165|\n",
      "|16315|21617|    en|    en|Up and Running wi...|Preparing for the...|0.005961381263783366|\n",
      "|16315|23126|    en|    en|Up and Running wi...|Compass - powerfu...|0.006253814352764938|\n",
      "|16316|21617|    en|    en|Up and Running wi...|Preparing for the...|  0.0188348534980852|\n",
      "|16316|23126|    en|    en|Up and Running wi...|Compass - powerfu...|0.005321050216818961|\n",
      "|16317|21617|    en|    en|Up and Running wi...|Preparing for the...|0.002723896053684...|\n",
      "|16317|23126|    en|    en|Up and Running wi...|Compass - powerfu...|0.031153228614135837|\n",
      "+-----+-----+------+------+--------------------+--------------------+--------------------+\n",
      "only showing top 20 rows\n",
      "\n"
     ]
    }
   ],
   "source": [
    "result.show()"
   ]
  },
  {
   "cell_type": "code",
   "execution_count": 14,
   "metadata": {},
   "outputs": [
    {
     "data": {
      "text/plain": [
       "[23126, 21617, 16627, 11556, 16704, 13702]"
      ]
     },
     "execution_count": 14,
     "metadata": {},
     "output_type": "execute_result"
    }
   ],
   "source": [
    "ids_courses"
   ]
  },
  {
   "cell_type": "code",
   "execution_count": 41,
   "metadata": {},
   "outputs": [],
   "source": [
    "course= 23126\n",
    "ans = {}\n",
    "temp = (result\n",
    "        .filter((F.col('j')==course)&(F.col('i')!=course))\n",
    "        .sort(F.col('similar_cos').desc())\n",
    "        .select('i')\n",
    "        .limit(10)\n",
    "        .collect()\n",
    "       )\n",
    "result_list = [temp[i][0] for i in range(10)]\n",
    "\n",
    "ans[str(course)] = result_list\n",
    "\n"
   ]
  },
  {
   "cell_type": "code",
   "execution_count": 42,
   "metadata": {},
   "outputs": [
    {
     "data": {
      "text/plain": [
       "{'23126': [14760, 13665, 13782, 11978, 25782, 3819, 26864, 14380, 3919, 6206]}"
      ]
     },
     "execution_count": 42,
     "metadata": {},
     "output_type": "execute_result"
    }
   ],
   "source": [
    "ans"
   ]
  },
  {
   "cell_type": "code",
   "execution_count": 40,
   "metadata": {},
   "outputs": [
    {
     "data": {
      "text/plain": [
       "13665"
      ]
     },
     "execution_count": 40,
     "metadata": {},
     "output_type": "execute_result"
    }
   ],
   "source": [
    "result_list[1][0]"
   ]
  },
  {
   "cell_type": "code",
   "execution_count": 43,
   "metadata": {},
   "outputs": [
    {
     "name": "stdout",
     "output_type": "stream",
     "text": [
      "23126\n",
      "21617\n",
      "16627\n",
      "11556\n",
      "16704\n",
      "13702\n"
     ]
    }
   ],
   "source": [
    "ans = {}\n",
    "\n",
    "for course in ids_courses:\n",
    "    \n",
    "    temp = (result\n",
    "            .filter((F.col('j')==course)&(F.col('i')!=course))\n",
    "            .sort(F.col('similar_cos').desc())\n",
    "            .select('i')\n",
    "            .limit(10)\n",
    "            .collect()\n",
    "           )\n",
    "    \n",
    "    result_list = [temp[i][0] for i in range(10)]\n",
    "    ans[str(course)] = result_list\n",
    "    \n",
    "    print(course)"
   ]
  },
  {
   "cell_type": "code",
   "execution_count": 44,
   "metadata": {},
   "outputs": [
    {
     "data": {
      "text/plain": [
       "{'23126': [14760, 13665, 13782, 11978, 25782, 3819, 26864, 14380, 3919, 6206],\n",
       " '21617': [21609,\n",
       "  21616,\n",
       "  22298,\n",
       "  21608,\n",
       "  21081,\n",
       "  19417,\n",
       "  21673,\n",
       "  21630,\n",
       "  21628,\n",
       "  21623],\n",
       " '16627': [11431, 17964, 11575, 12247, 10738, 13021, 17961, 5558, 12660, 5687],\n",
       " '11556': [16488, 5750, 16929, 11554, 18005, 7833, 7121, 23357, 3660, 8098],\n",
       " '16704': [1247, 1236, 1365, 1164, 1273, 20288, 1233, 18331, 8186, 8203],\n",
       " '13702': [864, 21079, 8313, 28074, 1111, 13057, 1033, 21025, 8123, 1217]}"
      ]
     },
     "execution_count": 44,
     "metadata": {},
     "output_type": "execute_result"
    }
   ],
   "source": [
    "ans"
   ]
  },
  {
   "cell_type": "code",
   "execution_count": 43,
   "metadata": {},
   "outputs": [
    {
     "data": {
      "text/plain": [
       "{'23126': [14760, 13665, 13782, 11978, 25782, 3819, 26864, 14380, 3919, 6206],\n",
       " '21617': [21609,\n",
       "  21616,\n",
       "  22298,\n",
       "  21608,\n",
       "  21081,\n",
       "  19417,\n",
       "  21673,\n",
       "  21630,\n",
       "  21628,\n",
       "  21623],\n",
       " '16627': [11431, 17964, 11575, 12247, 10738, 13021, 17961, 5558, 12660, 5687],\n",
       " '11556': [16488, 5750, 16929, 11554, 18005, 7833, 7121, 23357, 8098, 3660],\n",
       " '16704': [1247, 1236, 1365, 1164, 20288, 1273, 1233, 18331, 8186, 8203],\n",
       " '13702': [864, 21079, 8313, 28074, 1111, 13057, 1033, 21025, 8123, 1217]}"
      ]
     },
     "execution_count": 43,
     "metadata": {},
     "output_type": "execute_result"
    }
   ],
   "source": [
    "ans"
   ]
  },
  {
   "cell_type": "code",
   "execution_count": 44,
   "metadata": {},
   "outputs": [],
   "source": [
    "import json\n",
    "\n",
    "with open(\"lab02.json\", \"w\") as file:\n",
    "    json.dump(ans , file) "
   ]
  },
  {
   "cell_type": "code",
   "execution_count": 45,
   "metadata": {},
   "outputs": [],
   "source": [
    "spark.stop()"
   ]
  },
  {
   "cell_type": "code",
   "execution_count": null,
   "metadata": {},
   "outputs": [],
   "source": []
  }
 ],
 "metadata": {
  "kernelspec": {
   "display_name": "Python 3",
   "language": "python",
   "name": "python3"
  },
  "language_info": {
   "codemirror_mode": {
    "name": "ipython",
    "version": 3
   },
   "file_extension": ".py",
   "mimetype": "text/x-python",
   "name": "python",
   "nbconvert_exporter": "python",
   "pygments_lexer": "ipython3",
   "version": "3.6.5"
  }
 },
 "nbformat": 4,
 "nbformat_minor": 2
}
