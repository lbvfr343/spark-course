{
 "cells": [
  {
   "cell_type": "code",
   "execution_count": 1,
   "metadata": {},
   "outputs": [
    {
     "name": "stdout",
     "output_type": "stream",
     "text": [
      "Welcome to\n",
      "      ____              __\n",
      "     / __/__  ___ _____/ /__\n",
      "    _\\ \\/ _ \\/ _ `/ __/  '_/\n",
      "   /__ / .__/\\_,_/_/ /_/\\_\\   version 2.4.7\n",
      "      /_/\n",
      "\n",
      "Using Python version 3.6.5 (default, Apr 29 2018 16:14:56)\n",
      "SparkSession available as 'spark'.\n"
     ]
    }
   ],
   "source": [
    "import os\n",
    "import sys\n",
    "os.environ[\"PYSPARK_PYTHON\"]='/opt/anaconda/envs/bd9/bin/python'\n",
    "os.environ[\"SPARK_HOME\"]='/usr/hdp/current/spark2-client'\n",
    "os.environ[\"PYSPARK_SUBMIT_ARGS\"]='--num-executors 2 pyspark-shell'\n",
    "\n",
    "spark_home = os.environ.get('SPARK_HOME', None)\n",
    "if not spark_home:\n",
    "    raise ValueError('SPARK_HOME environment variable is not set')\n",
    "\n",
    "sys.path.insert(0, os.path.join(spark_home, 'python'))\n",
    "sys.path.insert(0, os.path.join(spark_home, 'python/lib/py4j-0.10.7-src.zip'))\n",
    "exec(open(os.path.join(spark_home, 'python/pyspark/shell.py')).read())"
   ]
  },
  {
   "cell_type": "code",
   "execution_count": 2,
   "metadata": {},
   "outputs": [],
   "source": [
    "from pyspark import SparkConf\n",
    "from pyspark.sql import SparkSession\n",
    "from pyspark.sql import functions as F\n",
    "from pyspark.sql.types import *\n",
    "from pyspark import Row\n",
    "import json\n",
    "import re\n",
    "\n",
    "conf = SparkConf()\n",
    "\n",
    "spark = (SparkSession\n",
    "         .builder\n",
    "         .config(conf=conf)\n",
    "         .appName(\"test\")\n",
    "         .getOrCreate())"
   ]
  },
  {
   "cell_type": "code",
   "execution_count": 3,
   "metadata": {},
   "outputs": [
    {
     "data": {
      "text/html": [
       "\n",
       "            <div>\n",
       "                <p><b>SparkSession - hive</b></p>\n",
       "                \n",
       "        <div>\n",
       "            <p><b>SparkContext</b></p>\n",
       "\n",
       "            <p><a href=\"http://spark-master-4.newprolab.com:4052\">Spark UI</a></p>\n",
       "\n",
       "            <dl>\n",
       "              <dt>Version</dt>\n",
       "                <dd><code>v2.4.7</code></dd>\n",
       "              <dt>Master</dt>\n",
       "                <dd><code>yarn</code></dd>\n",
       "              <dt>AppName</dt>\n",
       "                <dd><code>pyspark-shell</code></dd>\n",
       "            </dl>\n",
       "        </div>\n",
       "        \n",
       "            </div>\n",
       "        "
      ],
      "text/plain": [
       "<pyspark.sql.session.SparkSession at 0x7fa07d2dc5c0>"
      ]
     },
     "execution_count": 3,
     "metadata": {},
     "output_type": "execute_result"
    }
   ],
   "source": [
    "spark"
   ]
  },
  {
   "cell_type": "code",
   "execution_count": 4,
   "metadata": {},
   "outputs": [],
   "source": [
    "data = spark.read.json('/labs/slaba02/DO_record_per_line.json')\n",
    "\n",
    "###'cat', 'desc', 'id', 'lang', 'name', 'provider'"
   ]
  },
  {
   "cell_type": "code",
   "execution_count": 5,
   "metadata": {},
   "outputs": [
    {
     "name": "stdout",
     "output_type": "stream",
     "text": [
      "-RECORD 0-----------------------------------------------------------------------------------------------------------------------------------------------------------------------------------------------------------------------------------------------------------------------------------------------------------------------------------------------------------------------------------------------------------------------------------------------------------------------------------------------------------------------------------------------------------------------------------------------------------------------------------------------------------------------------------------------------------------------------------------------------------------------------------------------------------------------------------------------------------------------------------------------------------------------------------------------------------------------------------------------------------------------------------------------------------------------------------------------------------------------------------------------------------------------------------------\n",
      " cat      | 3/business_management|6/economics_finance                                                                                                                                                                                                                                                                                                                                                                                                                                                                                                                                                                                                                                                                                                                                                                                                                                                                                                                                                                                                                                                                                                                                             \n",
      " desc     | This course introduces the basic financial statements used by most businesses, as well as the essential tools used to prepare them. This course will serve as a resource to help business students succeed in their upcoming university-level accounting classes, and as a refresher for upper division accounting students who are struggling to recall elementary concepts essential to more advanced accounting topics. Business owners will also benefit from this class by gaining essential skills necessary to organize and manage information pertinent to operating their business. At the conclusion of the class, students will understand the balance sheet, income statement, and cash flow statement. They will be able to differentiate between cash basis and accrual basis techniques, and know when each is appropriate. They’ll also understand the accounting equation, how to journalize and post transactions, how to adjust and close accounts, and how to prepare key financial reports. All material for this class is written and delivered by the professor, and can be previewed here. Students must have access to a spreadsheet program to participate. \n",
      " id       | 4                                                                                                                                                                                                                                                                                                                                                                                                                                                                                                                                                                                                                                                                                                                                                                                                                                                                                                                                                                                                                                                                                                                                                                                     \n",
      " lang     | en                                                                                                                                                                                                                                                                                                                                                                                                                                                                                                                                                                                                                                                                                                                                                                                                                                                                                                                                                                                                                                                                                                                                                                                    \n",
      " name     | Accounting Cycle: The Foundation of Business Measurement and Reporting                                                                                                                                                                                                                                                                                                                                                                                                                                                                                                                                                                                                                                                                                                                                                                                                                                                                                                                                                                                                                                                                                                                \n",
      " provider | Canvas Network                                                                                                                                                                                                                                                                                                                                                                                                                                                                                                                                                                                                                                                                                                                                                                                                                                                                                                                                                                                                                                                                                                                                                                        \n",
      "only showing top 1 row\n",
      "\n"
     ]
    }
   ],
   "source": [
    "data.show(1, vertical = True, truncate = False)"
   ]
  },
  {
   "cell_type": "code",
   "execution_count": 6,
   "metadata": {},
   "outputs": [
    {
     "data": {
      "text/plain": [
       "[[23126, 'en', 'Compass - powerful SASS library that makes your life easier'],\n",
       " [21617, 'en', 'Preparing for the AP* Computer Science A Exam — Part 2'],\n",
       " [16627, 'es', 'Aprende Excel: Nivel Intermedio by Alfonso Rinsche'],\n",
       " [11556,\n",
       "  'es',\n",
       "  'Aprendizaje Colaborativo by UNID Universidad Interamericana para el Desarrollo'],\n",
       " [16704, 'ru', 'Программирование на Lazarus'],\n",
       " [13702, 'ru', 'Математическая экономика']]"
      ]
     },
     "execution_count": 6,
     "metadata": {},
     "output_type": "execute_result"
    }
   ],
   "source": [
    "given_courses = [\n",
    "    [23126, u'en', u'Compass - powerful SASS library that makes your life easier'], \n",
    "    [21617, u'en', u'Preparing for the AP* Computer Science A Exam \\u2014 Part 2'], \n",
    "    [16627, u'es', u'Aprende Excel: Nivel Intermedio by Alfonso Rinsche'], \n",
    "    [11556, u'es', u'Aprendizaje Colaborativo by UNID Universidad Interamericana para el Desarrollo'], \n",
    "    [16704, u'ru', u'\\u041f\\u0440\\u043e\\u0433\\u0440\\u0430\\u043c\\u043c\\u0438\\u0440\\u043e\\u0432\\u0430\\u043d\\u0438\\u0435 \\u043d\\u0430 Lazarus'], \n",
    "    [13702, u'ru', u'\\u041c\\u0430\\u0442\\u0435\\u043c\\u0430\\u0442\\u0438\\u0447\\u0435\\u0441\\u043a\\u0430\\u044f \\u044d\\u043a\\u043e\\u043d\\u043e\\u043c\\u0438\\u043a\\u0430']\n",
    "]\n",
    "\n",
    "given_courses"
   ]
  },
  {
   "cell_type": "code",
   "execution_count": 20,
   "metadata": {},
   "outputs": [
    {
     "data": {
      "text/plain": [
       "[23126, 21617, 16627, 11556, 16704, 13702]"
      ]
     },
     "execution_count": 20,
     "metadata": {},
     "output_type": "execute_result"
    }
   ],
   "source": [
    "ids_courses = [course[0] for course in given_courses]\n",
    "\n",
    "ids_courses"
   ]
  },
  {
   "cell_type": "code",
   "execution_count": 8,
   "metadata": {},
   "outputs": [],
   "source": [
    "from pyspark.sql.functions import pandas_udf, PandasUDFType\n",
    "from pyspark.sql.types import ArrayType, StringType\n",
    "\n",
    "#@pandas_udf('array<string>', PandasUDFType.SCALAR) \n",
    "def text_compile(s):\n",
    "    regex = re.compile(u'[\\w\\d]{2,}', re.U)\n",
    "    #words = regex.findall(s.lower())\n",
    "    words = s.str.findall(regex)\n",
    "    \n",
    "    return words\n",
    "\n",
    "text_compile_udf = pandas_udf(text_compile, ArrayType(StringType()))"
   ]
  },
  {
   "cell_type": "code",
   "execution_count": 9,
   "metadata": {},
   "outputs": [],
   "source": [
    "data = data.withColumn(\"desc_words\", text_compile_udf(F.col(\"desc\")))"
   ]
  },
  {
   "cell_type": "code",
   "execution_count": 10,
   "metadata": {},
   "outputs": [],
   "source": [
    "from pyspark.ml.feature import StopWordsRemover\n",
    "\n",
    "word_remover = StopWordsRemover(inputCol=\"desc_words\", outputCol=\"desc_fin\")\n",
    "data = word_remover.transform(data)"
   ]
  },
  {
   "cell_type": "code",
   "execution_count": 11,
   "metadata": {},
   "outputs": [
    {
     "name": "stdout",
     "output_type": "stream",
     "text": [
      "-RECORD 0------------------------------------------------------------------------------------------------------------------------------------------------------------------------------------------------------------------------------------------------------------------------------------------------------------------------------------------------------------------------------------------------------------------------------------------------------------------------------------------------------------------------------------------------------------------------------------------------------------------------------------------------------------------------------------------------------------------------------------------------------------------------------------------------------------------------------------------------------------------------------------------------------------------------------------------------------------------------------------------------------------------------------------------------------------------------------------------------------------------------------------------------------------------------------------------------------------------------------------------------------------------------------------------------------------------------------------------------\n",
      " cat        | 3/business_management|6/economics_finance                                                                                                                                                                                                                                                                                                                                                                                                                                                                                                                                                                                                                                                                                                                                                                                                                                                                                                                                                                                                                                                                                                                                                                                                                                                                                                  \n",
      " desc       | This course introduces the basic financial statements used by most businesses, as well as the essential tools used to prepare them. This course will serve as a resource to help business students succeed in their upcoming university-level accounting classes, and as a refresher for upper division accounting students who are struggling to recall elementary concepts essential to more advanced accounting topics. Business owners will also benefit from this class by gaining essential skills necessary to organize and manage information pertinent to operating their business. At the conclusion of the class, students will understand the balance sheet, income statement, and cash flow statement. They will be able to differentiate between cash basis and accrual basis techniques, and know when each is appropriate. They’ll also understand the accounting equation, how to journalize and post transactions, how to adjust and close accounts, and how to prepare key financial reports. All material for this class is written and delivered by the professor, and can be previewed here. Students must have access to a spreadsheet program to participate.                                                                                                                                                      \n",
      " id         | 4                                                                                                                                                                                                                                                                                                                                                                                                                                                                                                                                                                                                                                                                                                                                                                                                                                                                                                                                                                                                                                                                                                                                                                                                                                                                                                                                          \n",
      " lang       | en                                                                                                                                                                                                                                                                                                                                                                                                                                                                                                                                                                                                                                                                                                                                                                                                                                                                                                                                                                                                                                                                                                                                                                                                                                                                                                                                         \n",
      " name       | Accounting Cycle: The Foundation of Business Measurement and Reporting                                                                                                                                                                                                                                                                                                                                                                                                                                                                                                                                                                                                                                                                                                                                                                                                                                                                                                                                                                                                                                                                                                                                                                                                                                                                     \n",
      " provider   | Canvas Network                                                                                                                                                                                                                                                                                                                                                                                                                                                                                                                                                                                                                                                                                                                                                                                                                                                                                                                                                                                                                                                                                                                                                                                                                                                                                                                             \n",
      " desc_words | [This, course, introduces, the, basic, financial, statements, used, by, most, businesses, as, well, as, the, essential, tools, used, to, prepare, them, This, course, will, serve, as, resource, to, help, business, students, succeed, in, their, upcoming, university, level, accounting, classes, and, as, refresher, for, upper, division, accounting, students, who, are, struggling, to, recall, elementary, concepts, essential, to, more, advanced, accounting, topics, Business, owners, will, also, benefit, from, this, class, by, gaining, essential, skills, necessary, to, organize, and, manage, information, pertinent, to, operating, their, business, At, the, conclusion, of, the, class, students, will, understand, the, balance, sheet, income, statement, and, cash, flow, statement, They, will, be, able, to, differentiate, between, cash, basis, and, accrual, basis, techniques, and, know, when, each, is, appropriate, They, ll, also, understand, the, accounting, equation, how, to, journalize, and, post, transactions, how, to, adjust, and, close, accounts, and, how, to, prepare, key, financial, reports, All, material, for, this, class, is, written, and, delivered, by, the, professor, and, can, be, previewed, here, Students, must, have, access, to, spreadsheet, program, to, participate] \n",
      " desc_fin   | [course, introduces, basic, financial, statements, used, businesses, well, essential, tools, used, prepare, course, serve, resource, help, business, students, succeed, upcoming, university, level, accounting, classes, refresher, upper, division, accounting, students, struggling, recall, elementary, concepts, essential, advanced, accounting, topics, Business, owners, also, benefit, class, gaining, essential, skills, necessary, organize, manage, information, pertinent, operating, business, conclusion, class, students, understand, balance, sheet, income, statement, cash, flow, statement, able, differentiate, cash, basis, accrual, basis, techniques, know, appropriate, ll, also, understand, accounting, equation, journalize, post, transactions, adjust, close, accounts, prepare, key, financial, reports, material, class, written, delivered, professor, previewed, Students, must, access, spreadsheet, program, participate]                                                                                                                                                                                                                                                                                                                                                                              \n",
      "only showing top 1 row\n",
      "\n"
     ]
    }
   ],
   "source": [
    "data.show(1, vertical = True, truncate = False)"
   ]
  },
  {
   "cell_type": "code",
   "execution_count": 13,
   "metadata": {},
   "outputs": [],
   "source": [
    "from pyspark.ml.feature import HashingTF, IDF, Tokenizer, Normalizer"
   ]
  },
  {
   "cell_type": "code",
   "execution_count": 14,
   "metadata": {},
   "outputs": [],
   "source": [
    "hashingTF = HashingTF(inputCol=\"desc_fin\", outputCol=\"features\").setNumFeatures(10000)"
   ]
  },
  {
   "cell_type": "code",
   "execution_count": 16,
   "metadata": {},
   "outputs": [],
   "source": [
    "# hashingTF = HashingTF(inputCol=\"desc_words\", outputCol=\"features\").setNumFeatures(10000)\n",
    "tf = hashingTF.transform(data)\n",
    "\n",
    "tf.cache()\n",
    "idf = IDF(inputCol=\"features\", outputCol=\"features_idf\").fit(tf)\n",
    "tfidf = idf.transform(tf)\n",
    "\n",
    "# spark.mllib's IDF implementation provides an option for ignoring terms\n",
    "# which occur in less than a minimum number of documents.\n",
    "# In such cases, the IDF for these terms is set to 0.\n",
    "# This feature can be used by passing the minDocFreq value to the IDF constructor.\n",
    "#dfIgnore = IDF(inputCol=\"features\", outputCol=\"features_idf\", minDocFreq=2).fit(tf)\n",
    "#tfidfIgnore = idfIgnore.transform(tf)"
   ]
  },
  {
   "cell_type": "code",
   "execution_count": 17,
   "metadata": {},
   "outputs": [],
   "source": [
    "from pyspark.ml.feature import Normalizer\n",
    "\n",
    "normalizer = Normalizer(inputCol=\"features_idf\", outputCol=\"features_norm\")\n",
    "data = normalizer.transform(tfidf)"
   ]
  },
  {
   "cell_type": "code",
   "execution_count": 18,
   "metadata": {},
   "outputs": [
    {
     "name": "stdout",
     "output_type": "stream",
     "text": [
      "-RECORD 0------------------------------------------------------------------------------------------------------------------------------------------------------------------------------------------------------------------------------------------------------------------------------------------------------------------------------------------------------------------------------------------------------------------------------------------------------------------------------------------------------------------------------------------------------------------------------------------------------------------------------------------------------------------------------------------------------------------------------------------------------------------------------------------------------------------------------------------------------------------------------------------------------------------------------------------------------------------------------------------------------------------------------------------------------------------------------------------------------------------------------------------------------------------------------------------------------------------------------------------------------------------------------------------------------------------------------------------------------------------------------------------------------------------------------------------------------------------------------------------------------------------------------------------------------------------------------------------------------------------------------------------------------------------------------------------------------------------------------------------------------------------------------------------------------------------------------------------------------------------------------------------------------------------------------------------------------------------------------------------------------------------------------------------------------\n",
      " cat           | 3/business_management|6/economics_finance                                                                                                                                                                                                                                                                                                                                                                                                                                                                                                                                                                                                                                                                                                                                                                                                                                                                                                                                                                                                                                                                                                                                                                                                                                                                                                                                                                                                                                                                                                                                                                                                                                                                                                                                                                                                                                                                                                                                                                                                     \n",
      " desc          | This course introduces the basic financial statements used by most businesses, as well as the essential tools used to prepare them. This course will serve as a resource to help business students succeed in their upcoming university-level accounting classes, and as a refresher for upper division accounting students who are struggling to recall elementary concepts essential to more advanced accounting topics. Business owners will also benefit from this class by gaining essential skills necessary to organize and manage information pertinent to operating their business. At the conclusion of the class, students will understand the balance sheet, income statement, and cash flow statement. They will be able to differentiate between cash basis and accrual basis techniques, and know when each is appropriate. They’ll also understand the accounting equation, how to journalize and post transactions, how to adjust and close accounts, and how to prepare key financial reports. All material for this class is written and delivered by the professor, and can be previewed here. Students must have access to a spreadsheet program to participate.                                                                                                                                                                                                                                                                                                                                                                                                                                                                                                                                                                                                                                                                                                                                                                                                                                                         \n",
      " id            | 4                                                                                                                                                                                                                                                                                                                                                                                                                                                                                                                                                                                                                                                                                                                                                                                                                                                                                                                                                                                                                                                                                                                                                                                                                                                                                                                                                                                                                                                                                                                                                                                                                                                                                                                                                                                                                                                                                                                                                                                                                                             \n",
      " lang          | en                                                                                                                                                                                                                                                                                                                                                                                                                                                                                                                                                                                                                                                                                                                                                                                                                                                                                                                                                                                                                                                                                                                                                                                                                                                                                                                                                                                                                                                                                                                                                                                                                                                                                                                                                                                                                                                                                                                                                                                                                                            \n",
      " name          | Accounting Cycle: The Foundation of Business Measurement and Reporting                                                                                                                                                                                                                                                                                                                                                                                                                                                                                                                                                                                                                                                                                                                                                                                                                                                                                                                                                                                                                                                                                                                                                                                                                                                                                                                                                                                                                                                                                                                                                                                                                                                                                                                                                                                                                                                                                                                                                                        \n",
      " provider      | Canvas Network                                                                                                                                                                                                                                                                                                                                                                                                                                                                                                                                                                                                                                                                                                                                                                                                                                                                                                                                                                                                                                                                                                                                                                                                                                                                                                                                                                                                                                                                                                                                                                                                                                                                                                                                                                                                                                                                                                                                                                                                                                \n",
      " desc_words    | [This, course, introduces, the, basic, financial, statements, used, by, most, businesses, as, well, as, the, essential, tools, used, to, prepare, them, This, course, will, serve, as, resource, to, help, business, students, succeed, in, their, upcoming, university, level, accounting, classes, and, as, refresher, for, upper, division, accounting, students, who, are, struggling, to, recall, elementary, concepts, essential, to, more, advanced, accounting, topics, Business, owners, will, also, benefit, from, this, class, by, gaining, essential, skills, necessary, to, organize, and, manage, information, pertinent, to, operating, their, business, At, the, conclusion, of, the, class, students, will, understand, the, balance, sheet, income, statement, and, cash, flow, statement, They, will, be, able, to, differentiate, between, cash, basis, and, accrual, basis, techniques, and, know, when, each, is, appropriate, They, ll, also, understand, the, accounting, equation, how, to, journalize, and, post, transactions, how, to, adjust, and, close, accounts, and, how, to, prepare, key, financial, reports, All, material, for, this, class, is, written, and, delivered, by, the, professor, and, can, be, previewed, here, Students, must, have, access, to, spreadsheet, program, to, participate]                                                                                                                                                                                                                                                                                                                                                                                                                                                                                                                                                                                                                                                                                                    \n",
      " desc_fin      | [course, introduces, basic, financial, statements, used, businesses, well, essential, tools, used, prepare, course, serve, resource, help, business, students, succeed, upcoming, university, level, accounting, classes, refresher, upper, division, accounting, students, struggling, recall, elementary, concepts, essential, advanced, accounting, topics, Business, owners, also, benefit, class, gaining, essential, skills, necessary, organize, manage, information, pertinent, operating, business, conclusion, class, students, understand, balance, sheet, income, statement, cash, flow, statement, able, differentiate, cash, basis, accrual, basis, techniques, know, appropriate, ll, also, understand, accounting, equation, journalize, post, transactions, adjust, close, accounts, prepare, key, financial, reports, material, class, written, delivered, professor, previewed, Students, must, access, spreadsheet, program, participate]                                                                                                                                                                                                                                                                                                                                                                                                                                                                                                                                                                                                                                                                                                                                                                                                                                                                                                                                                                                                                                                                                 \n",
      " features      | (10000,[36,63,138,157,177,252,362,534,603,646,1023,1072,1355,1390,1446,1501,1523,1670,1697,2015,2092,2460,2523,2577,2757,3231,3251,3496,3792,3834,3849,3903,4224,4364,4436,4742,4978,5189,5374,5412,6158,6236,6395,6470,6511,6541,6642,6697,6863,7008,7270,7282,7290,7298,7735,7772,7779,7895,7936,7956,7973,8041,8140,8164,8234,8370,8534,8540,8579,8624,8644,9328,9347,9540,9605,9695,9809,9953,9970],[1.0,1.0,1.0,1.0,1.0,1.0,1.0,1.0,1.0,1.0,1.0,1.0,1.0,1.0,1.0,1.0,3.0,1.0,1.0,3.0,4.0,2.0,1.0,1.0,1.0,1.0,1.0,1.0,2.0,1.0,2.0,1.0,1.0,1.0,1.0,1.0,1.0,1.0,2.0,1.0,1.0,1.0,1.0,1.0,1.0,1.0,1.0,1.0,2.0,2.0,1.0,2.0,1.0,1.0,1.0,1.0,1.0,1.0,1.0,2.0,1.0,1.0,1.0,2.0,2.0,1.0,3.0,1.0,1.0,1.0,1.0,1.0,1.0,1.0,2.0,1.0,1.0,1.0,1.0])                                                                                                                                                                                                                                                                                                                                                                                                                                                                                                                                                                                                                                                                                                                                                                                                                                                                                                                                                                                                                                                                                                                                                                                                                                                                                                        \n",
      " features_idf  | (10000,[36,63,138,157,177,252,362,534,603,646,1023,1072,1355,1390,1446,1501,1523,1670,1697,2015,2092,2460,2523,2577,2757,3231,3251,3496,3792,3834,3849,3903,4224,4364,4436,4742,4978,5189,5374,5412,6158,6236,6395,6470,6511,6541,6642,6697,6863,7008,7270,7282,7290,7298,7735,7772,7779,7895,7936,7956,7973,8041,8140,8164,8234,8370,8534,8540,8579,8624,8644,9328,9347,9540,9605,9695,9809,9953,9970],[4.032838623636392,3.439722165970925,3.9015642852615797,1.6327595465124527,3.3837333789071806,2.1057124396702402,3.581035699037503,1.852002335407848,4.661948410606212,3.791819720495219,3.0192357092872393,1.701804357956825,2.5303211157558056,5.318191034230706,4.112046676391262,2.620825733228512,5.12534670202648,3.690087827577246,1.7793343182009893,9.16430605516711,17.654248968417576,0.8382164520803952,4.635972924202951,3.4210710493448246,5.195588712138374,2.502608763957162,4.515344936414336,1.8353914035295769,2.9435011460069345,2.044058764149302,4.77747585258414,3.281309106969666,2.509137622839625,4.499241528847757,3.9428257436430054,4.040886956819221,2.1767285266731284,1.5099195336546856,3.8310908527843717,4.188660706159286,3.483871950583855,2.1998564385843826,2.955834197936743,3.931896673110815,1.8129383361388671,3.2297322989006814,5.097950242574457,2.9026655300560646,6.958506009455121,6.719870098706187,4.359340687937755,6.4115687390516705,4.7816129143623005,3.6253715128575545,4.020886290112551,3.9282800326406266,1.6247928196034434,3.899808358559315,3.5422566061470477,6.556955161547855,3.547176665272498,4.018908050100445,4.842767337515631,3.808069015852091,7.952696871363298,5.195588712138374,6.663711700827999,2.334487336542322,2.471850252027717,3.41241298660171,2.515269924141689,3.7562397880625937,1.554466302200005,3.7426546734722868,4.135296072220266,3.9896946776345437,3.622708395438071,4.879468704366059,1.950145859885451])                                                                                                                             \n",
      " features_norm | (10000,[36,63,138,157,177,252,362,534,603,646,1023,1072,1355,1390,1446,1501,1523,1670,1697,2015,2092,2460,2523,2577,2757,3231,3251,3496,3792,3834,3849,3903,4224,4364,4436,4742,4978,5189,5374,5412,6158,6236,6395,6470,6511,6541,6642,6697,6863,7008,7270,7282,7290,7298,7735,7772,7779,7895,7936,7956,7973,8041,8140,8164,8234,8370,8534,8540,8579,8624,8644,9328,9347,9540,9605,9695,9809,9953,9970],[0.10153551191059698,0.08660251092248383,0.09823039400444263,0.041108284226996965,0.08519287104191635,0.0530159052845123,0.09016038746029387,0.046628199820130306,0.1173747235005588,0.09546733512634882,0.07601584688375425,0.04284663800928981,0.06370635519127153,0.13389706345652375,0.10352974746883896,0.06598500641512783,0.1290417866114122,0.09290601274550274,0.04479862392701574,0.2307314012425685,0.44448423894261563,0.021103928150024796,0.1167207339524465,0.08613292836511689,0.1308102824824197,0.06300863626703036,0.11368366115239027,0.04620998336542587,0.07410906400210811,0.051463639476379455,0.12028337893055807,0.0826141165084983,0.06317301453521537,0.113278222729639,0.09926924125074235,0.10173814625975144,0.05480389023026843,0.038015518869237326,0.09645607157043011,0.10545867283828894,0.08771407808392268,0.05538618587720283,0.07441957549487493,0.09899407805311548,0.04564467840179131,0.08131555782595998,0.128352020966267,0.07308093826817595,0.17519557208711498,0.16918739233597568,0.10975591379933235,0.16142523290024105,0.12038753848779632,0.09127663831293342,0.10123458583441912,0.09890302123785268,0.0409077044938489,0.09818618471832168,0.08918403918169338,0.1650856533163919,0.08930791240563174,0.10118477932564043,0.12192723452821752,0.09587644659254452,0.20022649633710696,0.1308102824824197,0.16777348213306775,0.05877581249479774,0.06223422361484535,0.08591494274386642,0.06332740860103435,0.0945715326927683,0.03913708096738383,0.09422949779055166,0.10411510173847778,0.10044926893090868,0.09120958852103735,0.12285127152021019,0.049099177195753185]) \n",
      "only showing top 1 row\n",
      "\n"
     ]
    }
   ],
   "source": [
    "data.show(1, vertical = True, truncate = False)"
   ]
  },
  {
   "cell_type": "code",
   "execution_count": 21,
   "metadata": {},
   "outputs": [],
   "source": [
    "dot_udf = F.udf(lambda x,y: float(x.dot(y)), DoubleType())"
   ]
  },
  {
   "cell_type": "code",
   "execution_count": 22,
   "metadata": {},
   "outputs": [
    {
     "data": {
      "text/plain": [
       "['cat',\n",
       " 'desc',\n",
       " 'id',\n",
       " 'lang',\n",
       " 'name',\n",
       " 'provider',\n",
       " 'desc_words',\n",
       " 'desc_fin',\n",
       " 'features',\n",
       " 'features_idf',\n",
       " 'features_norm']"
      ]
     },
     "execution_count": 22,
     "metadata": {},
     "output_type": "execute_result"
    }
   ],
   "source": [
    "data.columns"
   ]
  },
  {
   "cell_type": "code",
   "execution_count": 27,
   "metadata": {},
   "outputs": [],
   "source": [
    "cols_to_sel =['id','lang', 'name','features_norm']\n",
    "data_courses = data.select(cols_to_sel).filter(F.col('id').isin(ids_courses))"
   ]
  },
  {
   "cell_type": "code",
   "execution_count": 28,
   "metadata": {},
   "outputs": [
    {
     "name": "stdout",
     "output_type": "stream",
     "text": [
      "+-----+----+--------------------+--------------------+\n",
      "|   id|lang|                name|       features_norm|\n",
      "+-----+----+--------------------+--------------------+\n",
      "|11556|  es|Aprendizaje Colab...|(10000,[26,50,373...|\n",
      "|13702|  ru|Математическая эк...|(10000,[310,942,2...|\n",
      "|16627|  es|Aprende Excel: Ni...|(10000,[26,55,76,...|\n",
      "|16704|  ru|Программирование ...|(10000,[381,1144,...|\n",
      "|21617|  en|Preparing for the...|(10000,[17,26,252...|\n",
      "|23126|  en|Compass - powerfu...|(10000,[26,87,154...|\n",
      "+-----+----+--------------------+--------------------+\n",
      "\n"
     ]
    }
   ],
   "source": [
    "data_courses.show()"
   ]
  },
  {
   "cell_type": "code",
   "execution_count": 40,
   "metadata": {},
   "outputs": [],
   "source": [
    "result = (data.alias(\"i\")\n",
    "               .join(data_courses.alias(\"j\"), (F.col(\"i.id\") != F.col(\"j.id\"))& (F.col(\"i.lang\") == F.col(\"j.lang\")))\n",
    "               .select(\n",
    "                   F.col(\"i.id\").alias(\"i\"), \n",
    "                   F.col(\"j.id\").alias(\"j\"),\n",
    "                   F.col(\"i.lang\").alias(\"i_lang\"), \n",
    "                   F.col(\"j.lang\").alias(\"j_lang\"),\n",
    "                   F.col(\"i.name\").alias(\"i_name\"), \n",
    "                   F.col(\"j.name\").alias(\"j_name\"), \n",
    "                   dot_udf(\"i.features_norm\", \"j.features_norm\").alias(\"similar_cos\")\n",
    "               )\n",
    "         )"
   ]
  },
  {
   "cell_type": "code",
   "execution_count": 41,
   "metadata": {},
   "outputs": [
    {
     "name": "stdout",
     "output_type": "stream",
     "text": [
      "+---+-----+------+------+--------------------+--------------------+--------------------+\n",
      "|  i|    j|i_lang|j_lang|              i_name|              j_name|         similar_cos|\n",
      "+---+-----+------+------+--------------------+--------------------+--------------------+\n",
      "|  4|21617|    en|    en|Accounting Cycle:...|Preparing for the...|0.047081639174639686|\n",
      "|  4|23126|    en|    en|Accounting Cycle:...|Compass - powerfu...|0.011433001452314673|\n",
      "|  5|21617|    en|    en|American Counter ...|Preparing for the...|0.024248589506925412|\n",
      "|  5|23126|    en|    en|American Counter ...|Compass - powerfu...|0.006758205222059656|\n",
      "|  7|21617|    en|    en|Becoming a Dynami...|Preparing for the...|0.015767482428724364|\n",
      "|  7|23126|    en|    en|Becoming a Dynami...|Compass - powerfu...| 0.03145557030310089|\n",
      "|  8|21617|    en|    en|           Bioethics|Preparing for the...| 0.03532853950279749|\n",
      "|  8|23126|    en|    en|           Bioethics|Compass - powerfu...| 0.01552848156454122|\n",
      "|  9|21617|    en|    en|College Foundatio...|Preparing for the...|  0.0788349226318365|\n",
      "|  9|23126|    en|    en|College Foundatio...|Compass - powerfu...|0.008343249998675641|\n",
      "| 10|21617|    en|    en|Digital Literacies I|Preparing for the...|0.015737023081762388|\n",
      "| 10|23126|    en|    en|Digital Literacies I|Compass - powerfu...|0.030214188800827227|\n",
      "| 11|21617|    en|    en|Digital Literacie...|Preparing for the...|0.011717111536642781|\n",
      "| 11|23126|    en|    en|Digital Literacie...|Compass - powerfu...|0.006886575383386458|\n",
      "| 12|21617|    en|    en|Digital Tools for...|Preparing for the...| 0.01854120631640822|\n",
      "| 12|23126|    en|    en|Digital Tools for...|Compass - powerfu...| 0.01764704353608761|\n",
      "| 13|21617|    en|    en|Discover Your Val...|Preparing for the...| 0.04446566732658225|\n",
      "| 13|23126|    en|    en|Discover Your Val...|Compass - powerfu...|0.013161775022492779|\n",
      "| 14|21617|    en|    en|Enhancing Patient...|Preparing for the...|  0.0430697191303767|\n",
      "| 14|23126|    en|    en|Enhancing Patient...|Compass - powerfu...|0.012408342268467987|\n",
      "+---+-----+------+------+--------------------+--------------------+--------------------+\n",
      "only showing top 20 rows\n",
      "\n"
     ]
    }
   ],
   "source": [
    "result.show()"
   ]
  },
  {
   "cell_type": "code",
   "execution_count": 42,
   "metadata": {},
   "outputs": [
    {
     "name": "stdout",
     "output_type": "stream",
     "text": [
      "23126\n",
      "21617\n",
      "16627\n",
      "11556\n",
      "16704\n",
      "13702\n"
     ]
    }
   ],
   "source": [
    "ans = {}\n",
    "\n",
    "for course in ids_courses:\n",
    "    \n",
    "    print(course)\n",
    "\n",
    "\n",
    "    temp = result.filter((F.col('i')==course)|(F.col('j')==course)).sort(F.col('similar_cos').desc()).limit(10)\n",
    "\n",
    "    i = [int(row.i) for row in temp.collect()]\n",
    "    j = [int(row.j) for row in temp.collect()]\n",
    "\n",
    "    result_list = []\n",
    "    for count in range(10):\n",
    "        if i[count]!=course:\n",
    "            result_list.append(i[count])\n",
    "        else:\n",
    "            result_list.append(j[count])\n",
    "            \n",
    "    ans[str(course)] = result_list"
   ]
  },
  {
   "cell_type": "code",
   "execution_count": 43,
   "metadata": {},
   "outputs": [
    {
     "data": {
      "text/plain": [
       "{'23126': [14760, 13665, 13782, 11978, 25782, 3819, 26864, 14380, 3919, 6206],\n",
       " '21617': [21609,\n",
       "  21616,\n",
       "  22298,\n",
       "  21608,\n",
       "  21081,\n",
       "  19417,\n",
       "  21673,\n",
       "  21630,\n",
       "  21628,\n",
       "  21623],\n",
       " '16627': [11431, 17964, 11575, 12247, 10738, 13021, 17961, 5558, 12660, 5687],\n",
       " '11556': [16488, 5750, 16929, 11554, 18005, 7833, 7121, 23357, 8098, 3660],\n",
       " '16704': [1247, 1236, 1365, 1164, 20288, 1273, 1233, 18331, 8186, 8203],\n",
       " '13702': [864, 21079, 8313, 28074, 1111, 13057, 1033, 21025, 8123, 1217]}"
      ]
     },
     "execution_count": 43,
     "metadata": {},
     "output_type": "execute_result"
    }
   ],
   "source": [
    "ans"
   ]
  },
  {
   "cell_type": "code",
   "execution_count": 44,
   "metadata": {},
   "outputs": [],
   "source": [
    "import json\n",
    "\n",
    "with open(\"lab02.json\", \"w\") as file:\n",
    "    json.dump(ans , file) "
   ]
  },
  {
   "cell_type": "code",
   "execution_count": 45,
   "metadata": {},
   "outputs": [],
   "source": [
    "spark.stop()"
   ]
  },
  {
   "cell_type": "code",
   "execution_count": null,
   "metadata": {},
   "outputs": [],
   "source": []
  }
 ],
 "metadata": {
  "kernelspec": {
   "display_name": "Python 3",
   "language": "python",
   "name": "python3"
  },
  "language_info": {
   "codemirror_mode": {
    "name": "ipython",
    "version": 3
   },
   "file_extension": ".py",
   "mimetype": "text/x-python",
   "name": "python",
   "nbconvert_exporter": "python",
   "pygments_lexer": "ipython3",
   "version": "3.6.5"
  }
 },
 "nbformat": 4,
 "nbformat_minor": 2
}
