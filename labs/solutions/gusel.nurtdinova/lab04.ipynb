{
 "cells": [
  {
   "cell_type": "code",
   "execution_count": 1,
   "metadata": {
    "ExecuteTime": {
     "end_time": "2022-11-06T11:43:46.431130Z",
     "start_time": "2022-11-06T11:43:46.428107Z"
    }
   },
   "outputs": [],
   "source": [
    "import os\n",
    "import sys"
   ]
  },
  {
   "cell_type": "code",
   "execution_count": 2,
   "metadata": {
    "ExecuteTime": {
     "end_time": "2022-11-06T11:44:06.231511Z",
     "start_time": "2022-11-06T11:43:46.432428Z"
    }
   },
   "outputs": [
    {
     "name": "stdout",
     "output_type": "stream",
     "text": [
      "Welcome to\n",
      "      ____              __\n",
      "     / __/__  ___ _____/ /__\n",
      "    _\\ \\/ _ \\/ _ `/ __/  '_/\n",
      "   /__ / .__/\\_,_/_/ /_/\\_\\   version 2.4.7\n",
      "      /_/\n",
      "\n",
      "Using Python version 3.6.5 (default, Apr 29 2018 16:14:56)\n",
      "SparkSession available as 'spark'.\n"
     ]
    }
   ],
   "source": [
    "os.environ[\"PYSPARK_PYTHON\"]='/opt/anaconda/envs/bd9/bin/python'\n",
    "os.environ[\"SPARK_HOME\"]='/usr/hdp/current/spark2-client'\n",
    "os.environ[\"PYSPARK_SUBMIT_ARGS\"]='--num-executors 4 --driver-memory 8g pyspark-shell'\n",
    "\n",
    "spark_home = os.environ.get('SPARK_HOME', None)\n",
    "if not spark_home:\n",
    "    raise ValueError('SPARK_HOME environment variable is not set')\n",
    "\n",
    "sys.path.insert(0, os.path.join(spark_home, 'python'))\n",
    "sys.path.insert(0, os.path.join(spark_home, 'python/lib/py4j-0.10.7-src.zip'))\n",
    "exec(open(os.path.join(spark_home, 'python/pyspark/shell.py')).read())"
   ]
  },
  {
   "cell_type": "code",
   "execution_count": 3,
   "metadata": {
    "ExecuteTime": {
     "end_time": "2022-11-06T11:44:06.248602Z",
     "start_time": "2022-11-06T11:44:06.233211Z"
    }
   },
   "outputs": [],
   "source": [
    "from pyspark import SparkConf\n",
    "from pyspark.sql import SparkSession\n",
    "import pyspark.sql.functions as F\n",
    "import pyspark.sql.types as T\n",
    "from pyspark import Row\n",
    "import json"
   ]
  },
  {
   "cell_type": "code",
   "execution_count": 4,
   "metadata": {
    "ExecuteTime": {
     "end_time": "2022-11-06T11:44:06.335668Z",
     "start_time": "2022-11-06T11:44:06.249875Z"
    }
   },
   "outputs": [],
   "source": [
    "from pyspark.ml.feature import Imputer, OneHotEncoderEstimator, VectorAssembler, StringIndexer\n",
    "from pyspark.mllib.evaluation import BinaryClassificationMetrics\n",
    "from pyspark.ml.classification import LogisticRegression ,DecisionTreeClassifier, RandomForestClassifier\n",
    "from pyspark.sql.types import StructField, StructType, StringType, ArrayType, IntegerType, TimestampType, LongType\n",
    "from pyspark.ml.feature import HashingTF, IDF, Tokenizer, StopWordsRemover, StringIndexer, IndexToString\n",
    "from pyspark.ml import Pipeline\n",
    "from pyspark.ml.feature import Imputer, OneHotEncoderEstimator, VectorAssembler, StringIndexer\n",
    "from pyspark.ml.evaluation import MulticlassClassificationEvaluator\n",
    "from pyspark.ml.linalg import VectorUDT\n",
    "from pyspark.ml.feature import FeatureHasher\n",
    "from pyspark.sql.functions import pandas_udf, split, json_tuple, from_json, get_json_object, col, explode, expr, collect_set, collect_list, regexp_replace, get_json_object, to_json, struct, unix_timestamp, to_timestamp, date_format, when"
   ]
  },
  {
   "cell_type": "code",
   "execution_count": 5,
   "metadata": {
    "ExecuteTime": {
     "end_time": "2022-11-06T11:44:06.379854Z",
     "start_time": "2022-11-06T11:44:06.337214Z"
    }
   },
   "outputs": [],
   "source": [
    "conf = SparkConf()\n",
    "\n",
    "spark = (SparkSession\n",
    "         .builder\n",
    "         .config(conf=conf)\n",
    "         .appName(\"lab04\")\n",
    "         .getOrCreate())"
   ]
  },
  {
   "cell_type": "code",
   "execution_count": 6,
   "metadata": {
    "ExecuteTime": {
     "end_time": "2022-11-06T11:44:06.389943Z",
     "start_time": "2022-11-06T11:44:06.381313Z"
    }
   },
   "outputs": [
    {
     "data": {
      "text/html": [
       "\n",
       "            <div>\n",
       "                <p><b>SparkSession - hive</b></p>\n",
       "                \n",
       "        <div>\n",
       "            <p><b>SparkContext</b></p>\n",
       "\n",
       "            <p><a href=\"http://spark-master-5.newprolab.com:4055\">Spark UI</a></p>\n",
       "\n",
       "            <dl>\n",
       "              <dt>Version</dt>\n",
       "                <dd><code>v2.4.7</code></dd>\n",
       "              <dt>Master</dt>\n",
       "                <dd><code>yarn</code></dd>\n",
       "              <dt>AppName</dt>\n",
       "                <dd><code>pyspark-shell</code></dd>\n",
       "            </dl>\n",
       "        </div>\n",
       "        \n",
       "            </div>\n",
       "        "
      ],
      "text/plain": [
       "<pyspark.sql.session.SparkSession at 0x7f477d3ac438>"
      ]
     },
     "execution_count": 6,
     "metadata": {},
     "output_type": "execute_result"
    }
   ],
   "source": [
    "spark"
   ]
  },
  {
   "cell_type": "code",
   "execution_count": 7,
   "metadata": {
    "ExecuteTime": {
     "end_time": "2022-11-06T09:07:48.758670Z",
     "start_time": "2022-11-06T09:07:47.054761Z"
    }
   },
   "outputs": [
    {
     "name": "stdout",
     "output_type": "stream",
     "text": [
      "-rw-r--r--   3 hdfs hdfs  655090069 2022-01-06 18:46 /labs/slaba04/gender_age_dataset.txt\r\n"
     ]
    }
   ],
   "source": [
    "!hdfs dfs -ls /labs/slaba04/gender_age_dataset.txt"
   ]
  },
  {
   "cell_type": "code",
   "execution_count": 7,
   "metadata": {
    "ExecuteTime": {
     "end_time": "2022-11-06T11:44:17.317069Z",
     "start_time": "2022-11-06T11:44:06.391419Z"
    }
   },
   "outputs": [],
   "source": [
    "sdf = spark.read.csv(\"/labs/slaba04/gender_age_dataset.txt\", header=True, inferSchema=True, sep='\\t')"
   ]
  },
  {
   "cell_type": "code",
   "execution_count": 9,
   "metadata": {
    "ExecuteTime": {
     "end_time": "2022-11-06T09:08:00.388805Z",
     "start_time": "2022-11-06T09:08:00.372996Z"
    }
   },
   "outputs": [
    {
     "name": "stdout",
     "output_type": "stream",
     "text": [
      "root\n",
      " |-- gender: string (nullable = true)\n",
      " |-- age: string (nullable = true)\n",
      " |-- uid: string (nullable = true)\n",
      " |-- user_json: string (nullable = true)\n",
      "\n"
     ]
    }
   ],
   "source": [
    "sdf.printSchema()"
   ]
  },
  {
   "cell_type": "code",
   "execution_count": 10,
   "metadata": {
    "ExecuteTime": {
     "end_time": "2022-11-06T09:08:00.626000Z",
     "start_time": "2022-11-06T09:08:00.390017Z"
    }
   },
   "outputs": [
    {
     "name": "stdout",
     "output_type": "stream",
     "text": [
      "-RECORD 0-------------------------------------------------------------------------------------------------------------------------------------------------------------------------------------------------------------------------------------------------------------------------------------------------------------------------------------------------------------------------------------------------------------------------------------------------------------------------------------------------------------------------\n",
      " gender    | F                                                                                                                                                                                                                                                                                                                                                                                                                                                                                                                    \n",
      " age       | 18-24                                                                                                                                                                                                                                                                                                                                                                                                                                                                                                                \n",
      " uid       | d50192e5-c44e-4ae8-ae7a-7cfe67c8b777                                                                                                                                                                                                                                                                                                                                                                                                                                                                                 \n",
      " user_json | {\"visits\": [{\"url\": \"http://zebra-zoya.ru/200028-chehol-organayzer-dlja-macbook-11-grid-it.html?utm_campaign=397720794&utm_content=397729344&utm_medium=cpc&utm_source=begun\", \"timestamp\": 1419688144068}, {\"url\": \"http://news.yandex.ru/yandsearch?cl4url=chezasite.com/htc/htc-one-m9-delay-86327.html&lr=213&rpt=story\", \"timestamp\": 1426666298001}, {\"url\": \"http://www.sotovik.ru/news/240283-htc-one-m9-zaderzhivaetsja.html\", \"timestamp\": 1426666298000}, {\"url\": \"http://news.yandex.ru/yandsearch?cl... \n",
      "only showing top 1 row\n",
      "\n"
     ]
    }
   ],
   "source": [
    "sdf.show(1, vertical=True, truncate=500)"
   ]
  },
  {
   "cell_type": "code",
   "execution_count": 8,
   "metadata": {
    "ExecuteTime": {
     "end_time": "2022-11-06T11:44:17.324311Z",
     "start_time": "2022-11-06T11:44:17.318784Z"
    }
   },
   "outputs": [],
   "source": [
    "JsonType = StructType([\n",
    "    StructField(\"visits\", ArrayType(StructType([\n",
    "        StructField(\"url\", StringType(), True),\n",
    "        StructField(\"timestamp\", LongType(), True) \n",
    "        ])\n",
    "    ))\n",
    "])"
   ]
  },
  {
   "cell_type": "code",
   "execution_count": 9,
   "metadata": {
    "ExecuteTime": {
     "end_time": "2022-11-06T11:44:17.386501Z",
     "start_time": "2022-11-06T11:44:17.325664Z"
    }
   },
   "outputs": [],
   "source": [
    "sdf = sdf.withColumn('visits', from_json(sdf.user_json, JsonType)) \\\n",
    "            .drop(\"user_json\")"
   ]
  },
  {
   "cell_type": "code",
   "execution_count": 10,
   "metadata": {
    "ExecuteTime": {
     "end_time": "2022-11-06T11:44:17.407395Z",
     "start_time": "2022-11-06T11:44:17.388361Z"
    }
   },
   "outputs": [],
   "source": [
    "sdf = sdf \\\n",
    "    .withColumn('visit', explode(\"visits.visits\")) \\\n",
    "    .drop(\"visits\")"
   ]
  },
  {
   "cell_type": "code",
   "execution_count": 14,
   "metadata": {
    "ExecuteTime": {
     "end_time": "2022-11-06T09:08:08.488847Z",
     "start_time": "2022-11-06T09:08:08.048992Z"
    }
   },
   "outputs": [
    {
     "name": "stdout",
     "output_type": "stream",
     "text": [
      "-RECORD 0--------------------------------------------------------------------------------------------------------------------------------------------------------------------------\n",
      " gender | F                                                                                                                                                                        \n",
      " age    | 18-24                                                                                                                                                                    \n",
      " uid    | d50192e5-c44e-4ae8-ae7a-7cfe67c8b777                                                                                                                                     \n",
      " visit  | [http://zebra-zoya.ru/200028-chehol-organayzer-dlja-macbook-11-grid-it.html?utm_campaign=397720794&utm_content=397729344&utm_medium=cpc&utm_source=begun, 1419688144068] \n",
      "only showing top 1 row\n",
      "\n"
     ]
    }
   ],
   "source": [
    "sdf.show(1, vertical=True, truncate=500)"
   ]
  },
  {
   "cell_type": "code",
   "execution_count": 15,
   "metadata": {
    "ExecuteTime": {
     "end_time": "2022-11-06T09:08:08.765060Z",
     "start_time": "2022-11-06T09:08:08.761679Z"
    }
   },
   "outputs": [
    {
     "name": "stdout",
     "output_type": "stream",
     "text": [
      "root\n",
      " |-- gender: string (nullable = true)\n",
      " |-- age: string (nullable = true)\n",
      " |-- uid: string (nullable = true)\n",
      " |-- visit: struct (nullable = true)\n",
      " |    |-- url: string (nullable = true)\n",
      " |    |-- timestamp: long (nullable = true)\n",
      "\n"
     ]
    }
   ],
   "source": [
    "sdf.printSchema()"
   ]
  },
  {
   "cell_type": "code",
   "execution_count": 11,
   "metadata": {
    "ExecuteTime": {
     "end_time": "2022-11-06T11:44:17.429084Z",
     "start_time": "2022-11-06T11:44:17.410133Z"
    }
   },
   "outputs": [],
   "source": [
    "sdf = sdf \\\n",
    "    .withColumn('url', sdf.visit.url) \\\n",
    "    .withColumn('unix', sdf.visit.timestamp) \\\n",
    "    .drop('visit') "
   ]
  },
  {
   "cell_type": "code",
   "execution_count": 17,
   "metadata": {
    "ExecuteTime": {
     "end_time": "2022-11-06T09:08:11.290996Z",
     "start_time": "2022-11-06T09:08:11.051110Z"
    },
    "scrolled": true
   },
   "outputs": [
    {
     "name": "stdout",
     "output_type": "stream",
     "text": [
      "-RECORD 0-------------------------------------------------------------------------------------------------------------------------------------------------------------------------------------------------------------------------------------------------------------\n",
      " gender | F                                                                                                                                                                                                                                                           \n",
      " age    | 18-24                                                                                                                                                                                                                                                       \n",
      " uid    | d50192e5-c44e-4ae8-ae7a-7cfe67c8b777                                                                                                                                                                                                                        \n",
      " url    | http://zebra-zoya.ru/200028-chehol-organayzer-dlja-macbook-11-grid-it.html?utm_campaign=397720794&utm_content=397729344&utm_medium=cpc&utm_source=begun                                                                                                     \n",
      " unix   | 1419688144068                                                                                                                                                                                                                                               \n",
      "-RECORD 1-------------------------------------------------------------------------------------------------------------------------------------------------------------------------------------------------------------------------------------------------------------\n",
      " gender | F                                                                                                                                                                                                                                                           \n",
      " age    | 18-24                                                                                                                                                                                                                                                       \n",
      " uid    | d50192e5-c44e-4ae8-ae7a-7cfe67c8b777                                                                                                                                                                                                                        \n",
      " url    | http://news.yandex.ru/yandsearch?cl4url=chezasite.com/htc/htc-one-m9-delay-86327.html&lr=213&rpt=story                                                                                                                                                      \n",
      " unix   | 1426666298001                                                                                                                                                                                                                                               \n",
      "-RECORD 2-------------------------------------------------------------------------------------------------------------------------------------------------------------------------------------------------------------------------------------------------------------\n",
      " gender | F                                                                                                                                                                                                                                                           \n",
      " age    | 18-24                                                                                                                                                                                                                                                       \n",
      " uid    | d50192e5-c44e-4ae8-ae7a-7cfe67c8b777                                                                                                                                                                                                                        \n",
      " url    | http://www.sotovik.ru/news/240283-htc-one-m9-zaderzhivaetsja.html                                                                                                                                                                                           \n",
      " unix   | 1426666298000                                                                                                                                                                                                                                               \n",
      "-RECORD 3-------------------------------------------------------------------------------------------------------------------------------------------------------------------------------------------------------------------------------------------------------------\n",
      " gender | F                                                                                                                                                                                                                                                           \n",
      " age    | 18-24                                                                                                                                                                                                                                                       \n",
      " uid    | d50192e5-c44e-4ae8-ae7a-7cfe67c8b777                                                                                                                                                                                                                        \n",
      " url    | http://news.yandex.ru/yandsearch?cl4url=chezasite.com/htc/htc-one-m9-delay-86327.html&lr=213&rpt=story                                                                                                                                                      \n",
      " unix   | 1426661722001                                                                                                                                                                                                                                               \n",
      "-RECORD 4-------------------------------------------------------------------------------------------------------------------------------------------------------------------------------------------------------------------------------------------------------------\n",
      " gender | F                                                                                                                                                                                                                                                           \n",
      " age    | 18-24                                                                                                                                                                                                                                                       \n",
      " uid    | d50192e5-c44e-4ae8-ae7a-7cfe67c8b777                                                                                                                                                                                                                        \n",
      " url    | http://www.sotovik.ru/news/240283-htc-one-m9-zaderzhivaetsja.html                                                                                                                                                                                           \n",
      " unix   | 1426661722000                                                                                                                                                                                                                                               \n",
      "-RECORD 5-------------------------------------------------------------------------------------------------------------------------------------------------------------------------------------------------------------------------------------------------------------\n",
      " gender | M                                                                                                                                                                                                                                                           \n",
      " age    | 25-34                                                                                                                                                                                                                                                       \n",
      " uid    | d502331d-621e-4721-ada2-5d30b2c3801f                                                                                                                                                                                                                        \n",
      " url    | http://sweetrading.ru/?p=900                                                                                                                                                                                                                                \n",
      " unix   | 1419717886224                                                                                                                                                                                                                                               \n",
      "-RECORD 6-------------------------------------------------------------------------------------------------------------------------------------------------------------------------------------------------------------------------------------------------------------\n",
      " gender | M                                                                                                                                                                                                                                                           \n",
      " age    | 25-34                                                                                                                                                                                                                                                       \n",
      " uid    | d502331d-621e-4721-ada2-5d30b2c3801f                                                                                                                                                                                                                        \n",
      " url    | http://sweetrading.ru/?p=884                                                                                                                                                                                                                                \n",
      " unix   | 1419717884437                                                                                                                                                                                                                                               \n",
      "-RECORD 7-------------------------------------------------------------------------------------------------------------------------------------------------------------------------------------------------------------------------------------------------------------\n",
      " gender | M                                                                                                                                                                                                                                                           \n",
      " age    | 25-34                                                                                                                                                                                                                                                       \n",
      " uid    | d502331d-621e-4721-ada2-5d30b2c3801f                                                                                                                                                                                                                        \n",
      " url    | http://sweetrading.ru/?p=1002                                                                                                                                                                                                                               \n",
      " unix   | 1419717816375                                                                                                                                                                                                                                               \n",
      "-RECORD 8-------------------------------------------------------------------------------------------------------------------------------------------------------------------------------------------------------------------------------------------------------------\n",
      " gender | M                                                                                                                                                                                                                                                           \n",
      " age    | 25-34                                                                                                                                                                                                                                                       \n",
      " uid    | d502331d-621e-4721-ada2-5d30b2c3801f                                                                                                                                                                                                                        \n",
      " url    | http://101.ru/?an=port_channel_mp3                                                                                                                                                                                                                          \n",
      " unix   | 1419717804934                                                                                                                                                                                                                                               \n",
      "-RECORD 9-------------------------------------------------------------------------------------------------------------------------------------------------------------------------------------------------------------------------------------------------------------\n",
      " gender | M                                                                                                                                                                                                                                                           \n",
      " age    | 25-34                                                                                                                                                                                                                                                       \n",
      " uid    | d502331d-621e-4721-ada2-5d30b2c3801f                                                                                                                                                                                                                        \n",
      " url    | http://sweetrading.ru/?cat=62                                                                                                                                                                                                                               \n",
      " unix   | 1419714194423                                                                                                                                                                                                                                               \n",
      "-RECORD 10------------------------------------------------------------------------------------------------------------------------------------------------------------------------------------------------------------------------------------------------------------\n",
      " gender | M                                                                                                                                                                                                                                                           \n",
      " age    | 25-34                                                                                                                                                                                                                                                       \n",
      " uid    | d502331d-621e-4721-ada2-5d30b2c3801f                                                                                                                                                                                                                        \n",
      " url    | http://sweetrading.ru/?p=1046                                                                                                                                                                                                                               \n",
      " unix   | 1419713998481                                                                                                                                                                                                                                               \n",
      "-RECORD 11------------------------------------------------------------------------------------------------------------------------------------------------------------------------------------------------------------------------------------------------------------\n",
      " gender | M                                                                                                                                                                                                                                                           \n",
      " age    | 25-34                                                                                                                                                                                                                                                       \n",
      " uid    | d502331d-621e-4721-ada2-5d30b2c3801f                                                                                                                                                                                                                        \n",
      " url    | http://sweetrading.ru/?p=978                                                                                                                                                                                                                                \n",
      " unix   | 1419713927085                                                                                                                                                                                                                                               \n",
      "-RECORD 12------------------------------------------------------------------------------------------------------------------------------------------------------------------------------------------------------------------------------------------------------------\n",
      " gender | M                                                                                                                                                                                                                                                           \n",
      " age    | 25-34                                                                                                                                                                                                                                                       \n",
      " uid    | d502331d-621e-4721-ada2-5d30b2c3801f                                                                                                                                                                                                                        \n",
      " url    | http://sweetrading.ru/?cat=171                                                                                                                                                                                                                              \n",
      " unix   | 1419713908863                                                                                                                                                                                                                                               \n",
      "-RECORD 13------------------------------------------------------------------------------------------------------------------------------------------------------------------------------------------------------------------------------------------------------------\n",
      " gender | M                                                                                                                                                                                                                                                           \n",
      " age    | 25-34                                                                                                                                                                                                                                                       \n",
      " uid    | d502331d-621e-4721-ada2-5d30b2c3801f                                                                                                                                                                                                                        \n",
      " url    | http://sweetrading.ru/?cat=62                                                                                                                                                                                                                               \n",
      " unix   | 1419713908679                                                                                                                                                                                                                                               \n",
      "-RECORD 14------------------------------------------------------------------------------------------------------------------------------------------------------------------------------------------------------------------------------------------------------------\n",
      " gender | M                                                                                                                                                                                                                                                           \n",
      " age    | 25-34                                                                                                                                                                                                                                                       \n",
      " uid    | d502331d-621e-4721-ada2-5d30b2c3801f                                                                                                                                                                                                                        \n",
      " url    | http://sweetrading.ru/?p=3648                                                                                                                                                                                                                               \n",
      " unix   | 1419713798879                                                                                                                                                                                                                                               \n",
      "-RECORD 15------------------------------------------------------------------------------------------------------------------------------------------------------------------------------------------------------------------------------------------------------------\n",
      " gender | M                                                                                                                                                                                                                                                           \n",
      " age    | 25-34                                                                                                                                                                                                                                                       \n",
      " uid    | d502331d-621e-4721-ada2-5d30b2c3801f                                                                                                                                                                                                                        \n",
      " url    | http://oesex.ru/955457                                                                                                                                                                                                                                      \n",
      " unix   | 1419595564407                                                                                                                                                                                                                                               \n",
      "-RECORD 16------------------------------------------------------------------------------------------------------------------------------------------------------------------------------------------------------------------------------------------------------------\n",
      " gender | M                                                                                                                                                                                                                                                           \n",
      " age    | 25-34                                                                                                                                                                                                                                                       \n",
      " uid    | d502331d-621e-4721-ada2-5d30b2c3801f                                                                                                                                                                                                                        \n",
      " url    | http://www.interfax.ru/russia/408800                                                                                                                                                                                                                        \n",
      " unix   | 1419542965224                                                                                                                                                                                                                                               \n",
      "-RECORD 17------------------------------------------------------------------------------------------------------------------------------------------------------------------------------------------------------------------------------------------------------------\n",
      " gender | M                                                                                                                                                                                                                                                           \n",
      " age    | 25-34                                                                                                                                                                                                                                                       \n",
      " uid    | d502331d-621e-4721-ada2-5d30b2c3801f                                                                                                                                                                                                                        \n",
      " url    | http://101.ru/?an=port_channel_mp3&channel=30                                                                                                                                                                                                               \n",
      " unix   | 1418818241900                                                                                                                                                                                                                                               \n",
      "-RECORD 18------------------------------------------------------------------------------------------------------------------------------------------------------------------------------------------------------------------------------------------------------------\n",
      " gender | M                                                                                                                                                                                                                                                           \n",
      " age    | 25-34                                                                                                                                                                                                                                                       \n",
      " uid    | d502331d-621e-4721-ada2-5d30b2c3801f                                                                                                                                                                                                                        \n",
      " url    | http://www.interfax.ru/russia/413508                                                                                                                                                                                                                        \n",
      " unix   | 1418802080857                                                                                                                                                                                                                                               \n",
      "-RECORD 19------------------------------------------------------------------------------------------------------------------------------------------------------------------------------------------------------------------------------------------------------------\n",
      " gender | M                                                                                                                                                                                                                                                           \n",
      " age    | 25-34                                                                                                                                                                                                                                                       \n",
      " uid    | d502331d-621e-4721-ada2-5d30b2c3801f                                                                                                                                                                                                                        \n",
      " url    | http://www.euroavtoprokat.ru/sitemap/car-rental/france.htm                                                                                                                                                                                                  \n",
      " unix   | 1418722961181                                                                                                                                                                                                                                               \n",
      "-RECORD 20------------------------------------------------------------------------------------------------------------------------------------------------------------------------------------------------------------------------------------------------------------\n",
      " gender | M                                                                                                                                                                                                                                                           \n",
      " age    | 25-34                                                                                                                                                                                                                                                       \n",
      " uid    | d502331d-621e-4721-ada2-5d30b2c3801f                                                                                                                                                                                                                        \n",
      " url    | http://www.euroavtoprokat.ru/sitemap/car-rental.htm                                                                                                                                                                                                         \n",
      " unix   | 1418722945825                                                                                                                                                                                                                                               \n",
      "-RECORD 21------------------------------------------------------------------------------------------------------------------------------------------------------------------------------------------------------------------------------------------------------------\n",
      " gender | M                                                                                                                                                                                                                                                           \n",
      " age    | 25-34                                                                                                                                                                                                                                                       \n",
      " uid    | d502331d-621e-4721-ada2-5d30b2c3801f                                                                                                                                                                                                                        \n",
      " url    | http://www.euroavtoprokat.ru/car-rental/germany.htm                                                                                                                                                                                                         \n",
      " unix   | 1418722937847                                                                                                                                                                                                                                               \n",
      "-RECORD 22------------------------------------------------------------------------------------------------------------------------------------------------------------------------------------------------------------------------------------------------------------\n",
      " gender | M                                                                                                                                                                                                                                                           \n",
      " age    | 25-34                                                                                                                                                                                                                                                       \n",
      " uid    | d502331d-621e-4721-ada2-5d30b2c3801f                                                                                                                                                                                                                        \n",
      " url    | http://www.euroavtoprokat.ru/car-rental/germany.htm                                                                                                                                                                                                         \n",
      " unix   | 1418722923196                                                                                                                                                                                                                                               \n",
      "-RECORD 23------------------------------------------------------------------------------------------------------------------------------------------------------------------------------------------------------------------------------------------------------------\n",
      " gender | M                                                                                                                                                                                                                                                           \n",
      " age    | 25-34                                                                                                                                                                                                                                                       \n",
      " uid    | d502331d-621e-4721-ada2-5d30b2c3801f                                                                                                                                                                                                                        \n",
      " url    | http://www.euroavtoprokat.ru/sitemap/car-rental.htm                                                                                                                                                                                                         \n",
      " unix   | 1418722909804                                                                                                                                                                                                                                               \n",
      "-RECORD 24------------------------------------------------------------------------------------------------------------------------------------------------------------------------------------------------------------------------------------------------------------\n",
      " gender | M                                                                                                                                                                                                                                                           \n",
      " age    | 25-34                                                                                                                                                                                                                                                       \n",
      " uid    | d502331d-621e-4721-ada2-5d30b2c3801f                                                                                                                                                                                                                        \n",
      " url    | http://www.eavtoprokat.ru/prokat-avto/france                                                                                                                                                                                                                \n",
      " unix   | 1418646101953                                                                                                                                                                                                                                               \n",
      "-RECORD 25------------------------------------------------------------------------------------------------------------------------------------------------------------------------------------------------------------------------------------------------------------\n",
      " gender | M                                                                                                                                                                                                                                                           \n",
      " age    | 25-34                                                                                                                                                                                                                                                       \n",
      " uid    | d502331d-621e-4721-ada2-5d30b2c3801f                                                                                                                                                                                                                        \n",
      " url    | http://www.wordparts.ru/numeral/                                                                                                                                                                                                                            \n",
      " unix   | 1418592793587                                                                                                                                                                                                                                               \n",
      "-RECORD 26------------------------------------------------------------------------------------------------------------------------------------------------------------------------------------------------------------------------------------------------------------\n",
      " gender | M                                                                                                                                                                                                                                                           \n",
      " age    | 25-34                                                                                                                                                                                                                                                       \n",
      " uid    | d502331d-621e-4721-ada2-5d30b2c3801f                                                                                                                                                                                                                        \n",
      " url    | http://rsdn.ru/forum/alg/3305190.flat                                                                                                                                                                                                                       \n",
      " unix   | 1418591162814                                                                                                                                                                                                                                               \n",
      "-RECORD 27------------------------------------------------------------------------------------------------------------------------------------------------------------------------------------------------------------------------------------------------------------\n",
      " gender | M                                                                                                                                                                                                                                                           \n",
      " age    | 25-34                                                                                                                                                                                                                                                       \n",
      " uid    | d502331d-621e-4721-ada2-5d30b2c3801f                                                                                                                                                                                                                        \n",
      " url    | http://www.euroavtoprokat.ru/car-rental/turkey/istanbul.htm                                                                                                                                                                                                 \n",
      " unix   | 1418571531780                                                                                                                                                                                                                                               \n",
      "-RECORD 28------------------------------------------------------------------------------------------------------------------------------------------------------------------------------------------------------------------------------------------------------------\n",
      " gender | M                                                                                                                                                                                                                                                           \n",
      " age    | 25-34                                                                                                                                                                                                                                                       \n",
      " uid    | d502331d-621e-4721-ada2-5d30b2c3801f                                                                                                                                                                                                                        \n",
      " url    | http://citieslist.ru/                                                                                                                                                                                                                                       \n",
      " unix   | 1418488992092                                                                                                                                                                                                                                               \n",
      "-RECORD 29------------------------------------------------------------------------------------------------------------------------------------------------------------------------------------------------------------------------------------------------------------\n",
      " gender | M                                                                                                                                                                                                                                                           \n",
      " age    | 25-34                                                                                                                                                                                                                                                       \n",
      " uid    | d502331d-621e-4721-ada2-5d30b2c3801f                                                                                                                                                                                                                        \n",
      " url    | http://www.euroavtoprokat.ru/car-rental/turkey/istanbul.htm                                                                                                                                                                                                 \n",
      " unix   | 1418480798674                                                                                                                                                                                                                                               \n",
      "-RECORD 30------------------------------------------------------------------------------------------------------------------------------------------------------------------------------------------------------------------------------------------------------------\n",
      " gender | M                                                                                                                                                                                                                                                           \n",
      " age    | 25-34                                                                                                                                                                                                                                                       \n",
      " uid    | d502331d-621e-4721-ada2-5d30b2c3801f                                                                                                                                                                                                                        \n",
      " url    | http://rutv.ru/brand/show/episode/453757                                                                                                                                                                                                                    \n",
      " unix   | 1418253037406                                                                                                                                                                                                                                               \n",
      "-RECORD 31------------------------------------------------------------------------------------------------------------------------------------------------------------------------------------------------------------------------------------------------------------\n",
      " gender | M                                                                                                                                                                                                                                                           \n",
      " age    | 25-34                                                                                                                                                                                                                                                       \n",
      " uid    | d502331d-621e-4721-ada2-5d30b2c3801f                                                                                                                                                                                                                        \n",
      " url    | http://www.fodors.com/community/europe/best-car-rental-company-in-italy.cfm                                                                                                                                                                                 \n",
      " unix   | 1418247198586                                                                                                                                                                                                                                               \n",
      "-RECORD 32------------------------------------------------------------------------------------------------------------------------------------------------------------------------------------------------------------------------------------------------------------\n",
      " gender | M                                                                                                                                                                                                                                                           \n",
      " age    | 25-34                                                                                                                                                                                                                                                       \n",
      " uid    | d502331d-621e-4721-ada2-5d30b2c3801f                                                                                                                                                                                                                        \n",
      " url    | http://wheelsabroad.com/car-rental/united-kingdom/england/london?gclid=cjwkeaia-5-kbrdylpg5096r8masjabqedm4cmiichc-_-ewkbtsqyci5bu9ucwvjmxp4o0tficaarocljdw_wcb                                                                                             \n",
      " unix   | 1418245144696                                                                                                                                                                                                                                               \n",
      "-RECORD 33------------------------------------------------------------------------------------------------------------------------------------------------------------------------------------------------------------------------------------------------------------\n",
      " gender | M                                                                                                                                                                                                                                                           \n",
      " age    | 25-34                                                                                                                                                                                                                                                       \n",
      " uid    | d502331d-621e-4721-ada2-5d30b2c3801f                                                                                                                                                                                                                        \n",
      " url    | http://lestinet.com/site/stopagent.ru                                                                                                                                                                                                                       \n",
      " unix   | 1418243376170                                                                                                                                                                                                                                               \n",
      "-RECORD 34------------------------------------------------------------------------------------------------------------------------------------------------------------------------------------------------------------------------------------------------------------\n",
      " gender | M                                                                                                                                                                                                                                                           \n",
      " age    | 25-34                                                                                                                                                                                                                                                       \n",
      " uid    | d502331d-621e-4721-ada2-5d30b2c3801f                                                                                                                                                                                                                        \n",
      " url    | http://android-help.ru/q2a/16774/как-получить-root-права-на-philips-w832-android-4-0-4                                                                                                                                                                      \n",
      " unix   | 1418169606439                                                                                                                                                                                                                                               \n",
      "-RECORD 35------------------------------------------------------------------------------------------------------------------------------------------------------------------------------------------------------------------------------------------------------------\n",
      " gender | M                                                                                                                                                                                                                                                           \n",
      " age    | 25-34                                                                                                                                                                                                                                                       \n",
      " uid    | d502331d-621e-4721-ada2-5d30b2c3801f                                                                                                                                                                                                                        \n",
      " url    | http://club.dns-shop.ru/rabinovich/blog/я-все-еще-держусь-обзор-смартфона-philips-xenium-w832/                                                                                                                                                              \n",
      " unix   | 1418169602505                                                                                                                                                                                                                                               \n",
      "-RECORD 36------------------------------------------------------------------------------------------------------------------------------------------------------------------------------------------------------------------------------------------------------------\n",
      " gender | M                                                                                                                                                                                                                                                           \n",
      " age    | 25-34                                                                                                                                                                                                                                                       \n",
      " uid    | d502331d-621e-4721-ada2-5d30b2c3801f                                                                                                                                                                                                                        \n",
      " url    | http://www.supportforum.philips.com/ru/showthread.php?1529-philips-xenium-w832/page6                                                                                                                                                                        \n",
      " unix   | 1418167859617                                                                                                                                                                                                                                               \n",
      "-RECORD 37------------------------------------------------------------------------------------------------------------------------------------------------------------------------------------------------------------------------------------------------------------\n",
      " gender | M                                                                                                                                                                                                                                                           \n",
      " age    | 25-34                                                                                                                                                                                                                                                       \n",
      " uid    | d502331d-621e-4721-ada2-5d30b2c3801f                                                                                                                                                                                                                        \n",
      " url    | http://www.supportforum.philips.com/ru/showthread.php?842-не-работает-gps-в-смартфоне-philips-xenium-w832                                                                                                                                                   \n",
      " unix   | 1418166430112                                                                                                                                                                                                                                               \n",
      "-RECORD 38------------------------------------------------------------------------------------------------------------------------------------------------------------------------------------------------------------------------------------------------------------\n",
      " gender | M                                                                                                                                                                                                                                                           \n",
      " age    | 25-34                                                                                                                                                                                                                                                       \n",
      " uid    | d502331d-621e-4721-ada2-5d30b2c3801f                                                                                                                                                                                                                        \n",
      " url    | http://rabota.ua/info/jobsearcher/post/umora.aspx                                                                                                                                                                                                           \n",
      " unix   | 1418114698621                                                                                                                                                                                                                                               \n",
      "-RECORD 39------------------------------------------------------------------------------------------------------------------------------------------------------------------------------------------------------------------------------------------------------------\n",
      " gender | M                                                                                                                                                                                                                                                           \n",
      " age    | 25-34                                                                                                                                                                                                                                                       \n",
      " uid    | d502331d-621e-4721-ada2-5d30b2c3801f                                                                                                                                                                                                                        \n",
      " url    | http://www.enter.ru/product/appliances/myasorubka-philips-hr2728-2020103007131                                                                                                                                                                              \n",
      " unix   | 1418053557067                                                                                                                                                                                                                                               \n",
      "-RECORD 40------------------------------------------------------------------------------------------------------------------------------------------------------------------------------------------------------------------------------------------------------------\n",
      " gender | M                                                                                                                                                                                                                                                           \n",
      " age    | 25-34                                                                                                                                                                                                                                                       \n",
      " uid    | d502331d-621e-4721-ada2-5d30b2c3801f                                                                                                                                                                                                                        \n",
      " url    | http://www.ferra.ru/ru/byt/news/2013/12/02/polaris-pmg-1805/                                                                                                                                                                                                \n",
      " unix   | 1417866883735                                                                                                                                                                                                                                               \n",
      "-RECORD 41------------------------------------------------------------------------------------------------------------------------------------------------------------------------------------------------------------------------------------------------------------\n",
      " gender | M                                                                                                                                                                                                                                                           \n",
      " age    | 25-34                                                                                                                                                                                                                                                       \n",
      " uid    | d502331d-621e-4721-ada2-5d30b2c3801f                                                                                                                                                                                                                        \n",
      " url    | http://www.ferra.ru/ru/byt/news/2013/10/12/bosch-mfw6-propower/                                                                                                                                                                                             \n",
      " unix   | 1417862586856                                                                                                                                                                                                                                               \n",
      "-RECORD 42------------------------------------------------------------------------------------------------------------------------------------------------------------------------------------------------------------------------------------------------------------\n",
      " gender | M                                                                                                                                                                                                                                                           \n",
      " age    | 25-34                                                                                                                                                                                                                                                       \n",
      " uid    | d502331d-621e-4721-ada2-5d30b2c3801f                                                                                                                                                                                                                        \n",
      " url    | http://www.linotype.com/1266/neuehelvetica-family.html                                                                                                                                                                                                      \n",
      " unix   | 1417856979616                                                                                                                                                                                                                                               \n",
      "-RECORD 43------------------------------------------------------------------------------------------------------------------------------------------------------------------------------------------------------------------------------------------------------------\n",
      " gender | M                                                                                                                                                                                                                                                           \n",
      " age    | 25-34                                                                                                                                                                                                                                                       \n",
      " uid    | d502331d-621e-4721-ada2-5d30b2c3801f                                                                                                                                                                                                                        \n",
      " url    | http://www.linotype.com/1546/tradegothic-family.html?site=webfonts                                                                                                                                                                                          \n",
      " unix   | 1417812010753                                                                                                                                                                                                                                               \n",
      "-RECORD 44------------------------------------------------------------------------------------------------------------------------------------------------------------------------------------------------------------------------------------------------------------\n",
      " gender | M                                                                                                                                                                                                                                                           \n",
      " age    | 25-34                                                                                                                                                                                                                                                       \n",
      " uid    | d502331d-621e-4721-ada2-5d30b2c3801f                                                                                                                                                                                                                        \n",
      " url    | http://www.vandelaydesign.com/best-ecommerce-website-designs/                                                                                                                                                                                               \n",
      " unix   | 1417807232287                                                                                                                                                                                                                                               \n",
      "-RECORD 45------------------------------------------------------------------------------------------------------------------------------------------------------------------------------------------------------------------------------------------------------------\n",
      " gender | M                                                                                                                                                                                                                                                           \n",
      " age    | 25-34                                                                                                                                                                                                                                                       \n",
      " uid    | d502331d-621e-4721-ada2-5d30b2c3801f                                                                                                                                                                                                                        \n",
      " url    | http://www.awwwards.com/20-of-the-very-best-e-commerce-web-sites.html                                                                                                                                                                                       \n",
      " unix   | 1417805189928                                                                                                                                                                                                                                               \n",
      "-RECORD 46------------------------------------------------------------------------------------------------------------------------------------------------------------------------------------------------------------------------------------------------------------\n",
      " gender | M                                                                                                                                                                                                                                                           \n",
      " age    | 25-34                                                                                                                                                                                                                                                       \n",
      " uid    | d502331d-621e-4721-ada2-5d30b2c3801f                                                                                                                                                                                                                        \n",
      " url    | http://101.ru/?an=port_channel_mp3&channel=82                                                                                                                                                                                                               \n",
      " unix   | 1417711286305                                                                                                                                                                                                                                               \n",
      "-RECORD 47------------------------------------------------------------------------------------------------------------------------------------------------------------------------------------------------------------------------------------------------------------\n",
      " gender | M                                                                                                                                                                                                                                                           \n",
      " age    | 25-34                                                                                                                                                                                                                                                       \n",
      " uid    | d502331d-621e-4721-ada2-5d30b2c3801f                                                                                                                                                                                                                        \n",
      " url    | http://www.just.ru/myasorubki/56658_elektromyasorybky_kenwood_mg_450/?from=yandex_msk&utm_source=yandex&utm_medium=cpc&utm_campaign=10817239_model_bytovaya-tehnika-melkaya_msk_p_api&utm_content=612422293_2792852770_мясорубку mg 450&position_type=premi \n",
      " unix   | 1417701042306                                                                                                                                                                                                                                               \n",
      "-RECORD 48------------------------------------------------------------------------------------------------------------------------------------------------------------------------------------------------------------------------------------------------------------\n",
      " gender | M                                                                                                                                                                                                                                                           \n",
      " age    | 25-34                                                                                                                                                                                                                                                       \n",
      " uid    | d502331d-621e-4721-ada2-5d30b2c3801f                                                                                                                                                                                                                        \n",
      " url    | http://101.ru/?an=port_channel_mp3&channel=5                                                                                                                                                                                                                \n",
      " unix   | 1417695760398                                                                                                                                                                                                                                               \n",
      "-RECORD 49------------------------------------------------------------------------------------------------------------------------------------------------------------------------------------------------------------------------------------------------------------\n",
      " gender | M                                                                                                                                                                                                                                                           \n",
      " age    | 25-34                                                                                                                                                                                                                                                       \n",
      " uid    | d502331d-621e-4721-ada2-5d30b2c3801f                                                                                                                                                                                                                        \n",
      " url    | http://101.ru/?an=port_channel_mp3&channel=5                                                                                                                                                                                                                \n",
      " unix   | 1417689964129                                                                                                                                                                                                                                               \n",
      "only showing top 50 rows\n",
      "\n"
     ]
    }
   ],
   "source": [
    "sdf.show(50, vertical=True, truncate=500)"
   ]
  },
  {
   "cell_type": "code",
   "execution_count": 18,
   "metadata": {
    "ExecuteTime": {
     "end_time": "2022-11-06T09:08:21.996939Z",
     "start_time": "2022-11-06T09:08:12.606995Z"
    }
   },
   "outputs": [
    {
     "data": {
      "text/plain": [
       "41138"
      ]
     },
     "execution_count": 18,
     "metadata": {},
     "output_type": "execute_result"
    }
   ],
   "source": [
    "sdf.select('uid').distinct().count()"
   ]
  },
  {
   "cell_type": "code",
   "execution_count": 86,
   "metadata": {
    "ExecuteTime": {
     "end_time": "2022-11-06T01:41:58.146820Z",
     "start_time": "2022-11-06T01:41:46.726666Z"
    }
   },
   "outputs": [
    {
     "data": {
      "text/plain": [
       "5829507"
      ]
     },
     "execution_count": 86,
     "metadata": {},
     "output_type": "execute_result"
    }
   ],
   "source": [
    "sdf.select('uid').count()"
   ]
  },
  {
   "cell_type": "code",
   "execution_count": 12,
   "metadata": {
    "ExecuteTime": {
     "end_time": "2022-11-06T11:44:17.468467Z",
     "start_time": "2022-11-06T11:44:17.430536Z"
    }
   },
   "outputs": [],
   "source": [
    "sdf = sdf \\\n",
    "    .withColumn('site', split(regexp_replace(sdf.url,'http://|https://|www.|.ru|.com|.html',''),'/').getItem(0)) \\\n",
    "    .withColumn('section', split(regexp_replace(sdf.url,'http://|https://|www.|.ru|.com|.html',''),'/').getItem(1)) "
   ]
  },
  {
   "cell_type": "code",
   "execution_count": 272,
   "metadata": {
    "ExecuteTime": {
     "end_time": "2022-11-06T04:24:11.284657Z",
     "start_time": "2022-11-06T04:24:11.128435Z"
    }
   },
   "outputs": [
    {
     "name": "stdout",
     "output_type": "stream",
     "text": [
      "-RECORD 0----------------------------------------------------------------------------------------------------------------------------------------------------------------------------------------------------------------------------------------------------------------\n",
      " gender    | F                                                                                                                                                                                                                                                           \n",
      " age       | 18-24                                                                                                                                                                                                                                                       \n",
      " uid       | d50192e5-c44e-4ae8-ae7a-7cfe67c8b777                                                                                                                                                                                                                        \n",
      " url       | http://zebra-zoya.ru/200028-chehol-organayzer-dlja-macbook-11-grid-it.html?utm_campaign=397720794&utm_content=397729344&utm_medium=cpc&utm_source=begun                                                                                                     \n",
      " unix      | 1419688144068                                                                                                                                                                                                                                               \n",
      " site      | zebra-zoya                                                                                                                                                                                                                                                  \n",
      " section   | 200028-chehol-organayzer-dlja-macbook-11-grid-it?utm_campaign=397720794&utm_content=397729344&utm_medium=cpc&utm_source=begun                                                                                                                               \n",
      " datetime  | 2014-12-27 16:49:04.068                                                                                                                                                                                                                                     \n",
      " dayofweek | Sat                                                                                                                                                                                                                                                         \n",
      " hourofday | 16                                                                                                                                                                                                                                                          \n",
      " partofday | day                                                                                                                                                                                                                                                         \n",
      "-RECORD 1----------------------------------------------------------------------------------------------------------------------------------------------------------------------------------------------------------------------------------------------------------------\n",
      " gender    | F                                                                                                                                                                                                                                                           \n",
      " age       | 18-24                                                                                                                                                                                                                                                       \n",
      " uid       | d50192e5-c44e-4ae8-ae7a-7cfe67c8b777                                                                                                                                                                                                                        \n",
      " url       | http://news.yandex.ru/yandsearch?cl4url=chezasite.com/htc/htc-one-m9-delay-86327.html&lr=213&rpt=story                                                                                                                                                      \n",
      " unix      | 1426666298001                                                                                                                                                                                                                                               \n",
      " site      | news.yandex                                                                                                                                                                                                                                                 \n",
      " section   | yandsearch?cl4url=chezasite                                                                                                                                                                                                                                 \n",
      " datetime  | 2015-03-18 11:11:38.001                                                                                                                                                                                                                                     \n",
      " dayofweek | Wed                                                                                                                                                                                                                                                         \n",
      " hourofday | 11                                                                                                                                                                                                                                                          \n",
      " partofday | morning                                                                                                                                                                                                                                                     \n",
      "-RECORD 2----------------------------------------------------------------------------------------------------------------------------------------------------------------------------------------------------------------------------------------------------------------\n",
      " gender    | F                                                                                                                                                                                                                                                           \n",
      " age       | 18-24                                                                                                                                                                                                                                                       \n",
      " uid       | d50192e5-c44e-4ae8-ae7a-7cfe67c8b777                                                                                                                                                                                                                        \n",
      " url       | http://www.sotovik.ru/news/240283-htc-one-m9-zaderzhivaetsja.html                                                                                                                                                                                           \n",
      " unix      | 1426666298000                                                                                                                                                                                                                                               \n",
      " site      | sotovik                                                                                                                                                                                                                                                     \n",
      " section   | news                                                                                                                                                                                                                                                        \n",
      " datetime  | 2015-03-18 11:11:38                                                                                                                                                                                                                                         \n",
      " dayofweek | Wed                                                                                                                                                                                                                                                         \n",
      " hourofday | 11                                                                                                                                                                                                                                                          \n",
      " partofday | morning                                                                                                                                                                                                                                                     \n",
      "-RECORD 3----------------------------------------------------------------------------------------------------------------------------------------------------------------------------------------------------------------------------------------------------------------\n",
      " gender    | F                                                                                                                                                                                                                                                           \n",
      " age       | 18-24                                                                                                                                                                                                                                                       \n",
      " uid       | d50192e5-c44e-4ae8-ae7a-7cfe67c8b777                                                                                                                                                                                                                        \n",
      " url       | http://news.yandex.ru/yandsearch?cl4url=chezasite.com/htc/htc-one-m9-delay-86327.html&lr=213&rpt=story                                                                                                                                                      \n",
      " unix      | 1426661722001                                                                                                                                                                                                                                               \n",
      " site      | news.yandex                                                                                                                                                                                                                                                 \n",
      " section   | yandsearch?cl4url=chezasite                                                                                                                                                                                                                                 \n",
      " datetime  | 2015-03-18 09:55:22.001                                                                                                                                                                                                                                     \n",
      " dayofweek | Wed                                                                                                                                                                                                                                                         \n",
      " hourofday | 9                                                                                                                                                                                                                                                           \n",
      " partofday | morning                                                                                                                                                                                                                                                     \n",
      "-RECORD 4----------------------------------------------------------------------------------------------------------------------------------------------------------------------------------------------------------------------------------------------------------------\n",
      " gender    | F                                                                                                                                                                                                                                                           \n",
      " age       | 18-24                                                                                                                                                                                                                                                       \n",
      " uid       | d50192e5-c44e-4ae8-ae7a-7cfe67c8b777                                                                                                                                                                                                                        \n",
      " url       | http://www.sotovik.ru/news/240283-htc-one-m9-zaderzhivaetsja.html                                                                                                                                                                                           \n",
      " unix      | 1426661722000                                                                                                                                                                                                                                               \n",
      " site      | sotovik                                                                                                                                                                                                                                                     \n",
      " section   | news                                                                                                                                                                                                                                                        \n",
      " datetime  | 2015-03-18 09:55:22                                                                                                                                                                                                                                         \n",
      " dayofweek | Wed                                                                                                                                                                                                                                                         \n",
      " hourofday | 9                                                                                                                                                                                                                                                           \n",
      " partofday | morning                                                                                                                                                                                                                                                     \n",
      "-RECORD 5----------------------------------------------------------------------------------------------------------------------------------------------------------------------------------------------------------------------------------------------------------------\n",
      " gender    | M                                                                                                                                                                                                                                                           \n",
      " age       | 25-34                                                                                                                                                                                                                                                       \n",
      " uid       | d502331d-621e-4721-ada2-5d30b2c3801f                                                                                                                                                                                                                        \n",
      " url       | http://sweetrading.ru/?p=900                                                                                                                                                                                                                                \n",
      " unix      | 1419717886224                                                                                                                                                                                                                                               \n",
      " site      | sweetrading                                                                                                                                                                                                                                                 \n",
      " section   | ?p=900                                                                                                                                                                                                                                                      \n",
      " datetime  | 2014-12-28 01:04:46.224                                                                                                                                                                                                                                     \n",
      " dayofweek | Sun                                                                                                                                                                                                                                                         \n",
      " hourofday | 1                                                                                                                                                                                                                                                           \n",
      " partofday | night                                                                                                                                                                                                                                                       \n",
      "-RECORD 6----------------------------------------------------------------------------------------------------------------------------------------------------------------------------------------------------------------------------------------------------------------\n",
      " gender    | M                                                                                                                                                                                                                                                           \n",
      " age       | 25-34                                                                                                                                                                                                                                                       \n",
      " uid       | d502331d-621e-4721-ada2-5d30b2c3801f                                                                                                                                                                                                                        \n",
      " url       | http://sweetrading.ru/?p=884                                                                                                                                                                                                                                \n",
      " unix      | 1419717884437                                                                                                                                                                                                                                               \n",
      " site      | sweetrading                                                                                                                                                                                                                                                 \n",
      " section   | ?p=884                                                                                                                                                                                                                                                      \n",
      " datetime  | 2014-12-28 01:04:44.437                                                                                                                                                                                                                                     \n",
      " dayofweek | Sun                                                                                                                                                                                                                                                         \n",
      " hourofday | 1                                                                                                                                                                                                                                                           \n",
      " partofday | night                                                                                                                                                                                                                                                       \n",
      "-RECORD 7----------------------------------------------------------------------------------------------------------------------------------------------------------------------------------------------------------------------------------------------------------------\n",
      " gender    | M                                                                                                                                                                                                                                                           \n",
      " age       | 25-34                                                                                                                                                                                                                                                       \n",
      " uid       | d502331d-621e-4721-ada2-5d30b2c3801f                                                                                                                                                                                                                        \n",
      " url       | http://sweetrading.ru/?p=1002                                                                                                                                                                                                                               \n",
      " unix      | 1419717816375                                                                                                                                                                                                                                               \n",
      " site      | sweetrading                                                                                                                                                                                                                                                 \n",
      " section   | ?p=1002                                                                                                                                                                                                                                                     \n",
      " datetime  | 2014-12-28 01:03:36.375                                                                                                                                                                                                                                     \n",
      " dayofweek | Sun                                                                                                                                                                                                                                                         \n",
      " hourofday | 1                                                                                                                                                                                                                                                           \n",
      " partofday | night                                                                                                                                                                                                                                                       \n",
      "-RECORD 8----------------------------------------------------------------------------------------------------------------------------------------------------------------------------------------------------------------------------------------------------------------\n",
      " gender    | M                                                                                                                                                                                                                                                           \n",
      " age       | 25-34                                                                                                                                                                                                                                                       \n",
      " uid       | d502331d-621e-4721-ada2-5d30b2c3801f                                                                                                                                                                                                                        \n",
      " url       | http://101.ru/?an=port_channel_mp3                                                                                                                                                                                                                          \n",
      " unix      | 1419717804934                                                                                                                                                                                                                                               \n",
      " site      | 101                                                                                                                                                                                                                                                         \n",
      " section   | ?an=port_channel_mp3                                                                                                                                                                                                                                        \n",
      " datetime  | 2014-12-28 01:03:24.934                                                                                                                                                                                                                                     \n",
      " dayofweek | Sun                                                                                                                                                                                                                                                         \n",
      " hourofday | 1                                                                                                                                                                                                                                                           \n",
      " partofday | night                                                                                                                                                                                                                                                       \n",
      "-RECORD 9----------------------------------------------------------------------------------------------------------------------------------------------------------------------------------------------------------------------------------------------------------------\n",
      " gender    | M                                                                                                                                                                                                                                                           \n",
      " age       | 25-34                                                                                                                                                                                                                                                       \n",
      " uid       | d502331d-621e-4721-ada2-5d30b2c3801f                                                                                                                                                                                                                        \n",
      " url       | http://sweetrading.ru/?cat=62                                                                                                                                                                                                                               \n",
      " unix      | 1419714194423                                                                                                                                                                                                                                               \n",
      " site      | sweetrading                                                                                                                                                                                                                                                 \n",
      " section   | ?cat=62                                                                                                                                                                                                                                                     \n",
      " datetime  | 2014-12-28 00:03:14.423                                                                                                                                                                                                                                     \n",
      " dayofweek | Sun                                                                                                                                                                                                                                                         \n",
      " hourofday | 0                                                                                                                                                                                                                                                           \n",
      " partofday | night                                                                                                                                                                                                                                                       \n",
      "-RECORD 10---------------------------------------------------------------------------------------------------------------------------------------------------------------------------------------------------------------------------------------------------------------\n",
      " gender    | M                                                                                                                                                                                                                                                           \n",
      " age       | 25-34                                                                                                                                                                                                                                                       \n",
      " uid       | d502331d-621e-4721-ada2-5d30b2c3801f                                                                                                                                                                                                                        \n",
      " url       | http://sweetrading.ru/?p=1046                                                                                                                                                                                                                               \n",
      " unix      | 1419713998481                                                                                                                                                                                                                                               \n",
      " site      | sweetrading                                                                                                                                                                                                                                                 \n",
      " section   | ?p=1046                                                                                                                                                                                                                                                     \n",
      " datetime  | 2014-12-27 23:59:58.481                                                                                                                                                                                                                                     \n",
      " dayofweek | Sat                                                                                                                                                                                                                                                         \n",
      " hourofday | 23                                                                                                                                                                                                                                                          \n",
      " partofday | evening                                                                                                                                                                                                                                                     \n",
      "-RECORD 11---------------------------------------------------------------------------------------------------------------------------------------------------------------------------------------------------------------------------------------------------------------\n",
      " gender    | M                                                                                                                                                                                                                                                           \n",
      " age       | 25-34                                                                                                                                                                                                                                                       \n",
      " uid       | d502331d-621e-4721-ada2-5d30b2c3801f                                                                                                                                                                                                                        \n",
      " url       | http://sweetrading.ru/?p=978                                                                                                                                                                                                                                \n",
      " unix      | 1419713927085                                                                                                                                                                                                                                               \n",
      " site      | sweetrading                                                                                                                                                                                                                                                 \n",
      " section   | ?p=978                                                                                                                                                                                                                                                      \n",
      " datetime  | 2014-12-27 23:58:47.085                                                                                                                                                                                                                                     \n",
      " dayofweek | Sat                                                                                                                                                                                                                                                         \n",
      " hourofday | 23                                                                                                                                                                                                                                                          \n",
      " partofday | evening                                                                                                                                                                                                                                                     \n",
      "-RECORD 12---------------------------------------------------------------------------------------------------------------------------------------------------------------------------------------------------------------------------------------------------------------\n",
      " gender    | M                                                                                                                                                                                                                                                           \n",
      " age       | 25-34                                                                                                                                                                                                                                                       \n",
      " uid       | d502331d-621e-4721-ada2-5d30b2c3801f                                                                                                                                                                                                                        \n",
      " url       | http://sweetrading.ru/?cat=171                                                                                                                                                                                                                              \n",
      " unix      | 1419713908863                                                                                                                                                                                                                                               \n",
      " site      | sweetrading                                                                                                                                                                                                                                                 \n",
      " section   | ?cat=171                                                                                                                                                                                                                                                    \n",
      " datetime  | 2014-12-27 23:58:28.863                                                                                                                                                                                                                                     \n",
      " dayofweek | Sat                                                                                                                                                                                                                                                         \n",
      " hourofday | 23                                                                                                                                                                                                                                                          \n",
      " partofday | evening                                                                                                                                                                                                                                                     \n",
      "-RECORD 13---------------------------------------------------------------------------------------------------------------------------------------------------------------------------------------------------------------------------------------------------------------\n",
      " gender    | M                                                                                                                                                                                                                                                           \n",
      " age       | 25-34                                                                                                                                                                                                                                                       \n",
      " uid       | d502331d-621e-4721-ada2-5d30b2c3801f                                                                                                                                                                                                                        \n",
      " url       | http://sweetrading.ru/?cat=62                                                                                                                                                                                                                               \n",
      " unix      | 1419713908679                                                                                                                                                                                                                                               \n",
      " site      | sweetrading                                                                                                                                                                                                                                                 \n",
      " section   | ?cat=62                                                                                                                                                                                                                                                     \n",
      " datetime  | 2014-12-27 23:58:28.679                                                                                                                                                                                                                                     \n",
      " dayofweek | Sat                                                                                                                                                                                                                                                         \n",
      " hourofday | 23                                                                                                                                                                                                                                                          \n",
      " partofday | evening                                                                                                                                                                                                                                                     \n",
      "-RECORD 14---------------------------------------------------------------------------------------------------------------------------------------------------------------------------------------------------------------------------------------------------------------\n",
      " gender    | M                                                                                                                                                                                                                                                           \n",
      " age       | 25-34                                                                                                                                                                                                                                                       \n",
      " uid       | d502331d-621e-4721-ada2-5d30b2c3801f                                                                                                                                                                                                                        \n",
      " url       | http://sweetrading.ru/?p=3648                                                                                                                                                                                                                               \n",
      " unix      | 1419713798879                                                                                                                                                                                                                                               \n",
      " site      | sweetrading                                                                                                                                                                                                                                                 \n",
      " section   | ?p=3648                                                                                                                                                                                                                                                     \n",
      " datetime  | 2014-12-27 23:56:38.879                                                                                                                                                                                                                                     \n",
      " dayofweek | Sat                                                                                                                                                                                                                                                         \n",
      " hourofday | 23                                                                                                                                                                                                                                                          \n",
      " partofday | evening                                                                                                                                                                                                                                                     \n",
      "-RECORD 15---------------------------------------------------------------------------------------------------------------------------------------------------------------------------------------------------------------------------------------------------------------\n",
      " gender    | M                                                                                                                                                                                                                                                           \n",
      " age       | 25-34                                                                                                                                                                                                                                                       \n",
      " uid       | d502331d-621e-4721-ada2-5d30b2c3801f                                                                                                                                                                                                                        \n",
      " url       | http://oesex.ru/955457                                                                                                                                                                                                                                      \n",
      " unix      | 1419595564407                                                                                                                                                                                                                                               \n",
      " site      | oesex                                                                                                                                                                                                                                                       \n",
      " section   | 955457                                                                                                                                                                                                                                                      \n",
      " datetime  | 2014-12-26 15:06:04.407                                                                                                                                                                                                                                     \n",
      " dayofweek | Fri                                                                                                                                                                                                                                                         \n",
      " hourofday | 15                                                                                                                                                                                                                                                          \n",
      " partofday | day                                                                                                                                                                                                                                                         \n",
      "-RECORD 16---------------------------------------------------------------------------------------------------------------------------------------------------------------------------------------------------------------------------------------------------------------\n",
      " gender    | M                                                                                                                                                                                                                                                           \n",
      " age       | 25-34                                                                                                                                                                                                                                                       \n",
      " uid       | d502331d-621e-4721-ada2-5d30b2c3801f                                                                                                                                                                                                                        \n",
      " url       | http://www.interfax.ru/russia/408800                                                                                                                                                                                                                        \n",
      " unix      | 1419542965224                                                                                                                                                                                                                                               \n",
      " site      | interfaxssia                                                                                                                                                                                                                                                \n",
      " section   | 408800                                                                                                                                                                                                                                                      \n",
      " datetime  | 2014-12-26 00:29:25.224                                                                                                                                                                                                                                     \n",
      " dayofweek | Fri                                                                                                                                                                                                                                                         \n",
      " hourofday | 0                                                                                                                                                                                                                                                           \n",
      " partofday | night                                                                                                                                                                                                                                                       \n",
      "-RECORD 17---------------------------------------------------------------------------------------------------------------------------------------------------------------------------------------------------------------------------------------------------------------\n",
      " gender    | M                                                                                                                                                                                                                                                           \n",
      " age       | 25-34                                                                                                                                                                                                                                                       \n",
      " uid       | d502331d-621e-4721-ada2-5d30b2c3801f                                                                                                                                                                                                                        \n",
      " url       | http://101.ru/?an=port_channel_mp3&channel=30                                                                                                                                                                                                               \n",
      " unix      | 1418818241900                                                                                                                                                                                                                                               \n",
      " site      | 101                                                                                                                                                                                                                                                         \n",
      " section   | ?an=port_channel_mp3&channel=30                                                                                                                                                                                                                             \n",
      " datetime  | 2014-12-17 15:10:41.9                                                                                                                                                                                                                                       \n",
      " dayofweek | Wed                                                                                                                                                                                                                                                         \n",
      " hourofday | 15                                                                                                                                                                                                                                                          \n",
      " partofday | day                                                                                                                                                                                                                                                         \n",
      "-RECORD 18---------------------------------------------------------------------------------------------------------------------------------------------------------------------------------------------------------------------------------------------------------------\n",
      " gender    | M                                                                                                                                                                                                                                                           \n",
      " age       | 25-34                                                                                                                                                                                                                                                       \n",
      " uid       | d502331d-621e-4721-ada2-5d30b2c3801f                                                                                                                                                                                                                        \n",
      " url       | http://www.interfax.ru/russia/413508                                                                                                                                                                                                                        \n",
      " unix      | 1418802080857                                                                                                                                                                                                                                               \n",
      " site      | interfaxssia                                                                                                                                                                                                                                                \n",
      " section   | 413508                                                                                                                                                                                                                                                      \n",
      " datetime  | 2014-12-17 10:41:20.857                                                                                                                                                                                                                                     \n",
      " dayofweek | Wed                                                                                                                                                                                                                                                         \n",
      " hourofday | 10                                                                                                                                                                                                                                                          \n",
      " partofday | morning                                                                                                                                                                                                                                                     \n",
      "-RECORD 19---------------------------------------------------------------------------------------------------------------------------------------------------------------------------------------------------------------------------------------------------------------\n",
      " gender    | M                                                                                                                                                                                                                                                           \n",
      " age       | 25-34                                                                                                                                                                                                                                                       \n",
      " uid       | d502331d-621e-4721-ada2-5d30b2c3801f                                                                                                                                                                                                                        \n",
      " url       | http://www.euroavtoprokat.ru/sitemap/car-rental/france.htm                                                                                                                                                                                                  \n",
      " unix      | 1418722961181                                                                                                                                                                                                                                               \n",
      " site      | euroavtoprokat                                                                                                                                                                                                                                              \n",
      " section   | sitemap                                                                                                                                                                                                                                                     \n",
      " datetime  | 2014-12-16 12:42:41.181                                                                                                                                                                                                                                     \n",
      " dayofweek | Tue                                                                                                                                                                                                                                                         \n",
      " hourofday | 12                                                                                                                                                                                                                                                          \n",
      " partofday | day                                                                                                                                                                                                                                                         \n",
      "-RECORD 20---------------------------------------------------------------------------------------------------------------------------------------------------------------------------------------------------------------------------------------------------------------\n",
      " gender    | M                                                                                                                                                                                                                                                           \n",
      " age       | 25-34                                                                                                                                                                                                                                                       \n",
      " uid       | d502331d-621e-4721-ada2-5d30b2c3801f                                                                                                                                                                                                                        \n",
      " url       | http://www.euroavtoprokat.ru/sitemap/car-rental.htm                                                                                                                                                                                                         \n",
      " unix      | 1418722945825                                                                                                                                                                                                                                               \n",
      " site      | euroavtoprokat                                                                                                                                                                                                                                              \n",
      " section   | sitemap                                                                                                                                                                                                                                                     \n",
      " datetime  | 2014-12-16 12:42:25.825                                                                                                                                                                                                                                     \n",
      " dayofweek | Tue                                                                                                                                                                                                                                                         \n",
      " hourofday | 12                                                                                                                                                                                                                                                          \n",
      " partofday | day                                                                                                                                                                                                                                                         \n",
      "-RECORD 21---------------------------------------------------------------------------------------------------------------------------------------------------------------------------------------------------------------------------------------------------------------\n",
      " gender    | M                                                                                                                                                                                                                                                           \n",
      " age       | 25-34                                                                                                                                                                                                                                                       \n",
      " uid       | d502331d-621e-4721-ada2-5d30b2c3801f                                                                                                                                                                                                                        \n",
      " url       | http://www.euroavtoprokat.ru/car-rental/germany.htm                                                                                                                                                                                                         \n",
      " unix      | 1418722937847                                                                                                                                                                                                                                               \n",
      " site      | euroavtoprokat                                                                                                                                                                                                                                              \n",
      " section   | car-rental                                                                                                                                                                                                                                                  \n",
      " datetime  | 2014-12-16 12:42:17.847                                                                                                                                                                                                                                     \n",
      " dayofweek | Tue                                                                                                                                                                                                                                                         \n",
      " hourofday | 12                                                                                                                                                                                                                                                          \n",
      " partofday | day                                                                                                                                                                                                                                                         \n",
      "-RECORD 22---------------------------------------------------------------------------------------------------------------------------------------------------------------------------------------------------------------------------------------------------------------\n",
      " gender    | M                                                                                                                                                                                                                                                           \n",
      " age       | 25-34                                                                                                                                                                                                                                                       \n",
      " uid       | d502331d-621e-4721-ada2-5d30b2c3801f                                                                                                                                                                                                                        \n",
      " url       | http://www.euroavtoprokat.ru/car-rental/germany.htm                                                                                                                                                                                                         \n",
      " unix      | 1418722923196                                                                                                                                                                                                                                               \n",
      " site      | euroavtoprokat                                                                                                                                                                                                                                              \n",
      " section   | car-rental                                                                                                                                                                                                                                                  \n",
      " datetime  | 2014-12-16 12:42:03.196                                                                                                                                                                                                                                     \n",
      " dayofweek | Tue                                                                                                                                                                                                                                                         \n",
      " hourofday | 12                                                                                                                                                                                                                                                          \n",
      " partofday | day                                                                                                                                                                                                                                                         \n",
      "-RECORD 23---------------------------------------------------------------------------------------------------------------------------------------------------------------------------------------------------------------------------------------------------------------\n",
      " gender    | M                                                                                                                                                                                                                                                           \n",
      " age       | 25-34                                                                                                                                                                                                                                                       \n",
      " uid       | d502331d-621e-4721-ada2-5d30b2c3801f                                                                                                                                                                                                                        \n",
      " url       | http://www.euroavtoprokat.ru/sitemap/car-rental.htm                                                                                                                                                                                                         \n",
      " unix      | 1418722909804                                                                                                                                                                                                                                               \n",
      " site      | euroavtoprokat                                                                                                                                                                                                                                              \n",
      " section   | sitemap                                                                                                                                                                                                                                                     \n",
      " datetime  | 2014-12-16 12:41:49.804                                                                                                                                                                                                                                     \n",
      " dayofweek | Tue                                                                                                                                                                                                                                                         \n",
      " hourofday | 12                                                                                                                                                                                                                                                          \n",
      " partofday | day                                                                                                                                                                                                                                                         \n",
      "-RECORD 24---------------------------------------------------------------------------------------------------------------------------------------------------------------------------------------------------------------------------------------------------------------\n",
      " gender    | M                                                                                                                                                                                                                                                           \n",
      " age       | 25-34                                                                                                                                                                                                                                                       \n",
      " uid       | d502331d-621e-4721-ada2-5d30b2c3801f                                                                                                                                                                                                                        \n",
      " url       | http://www.eavtoprokat.ru/prokat-avto/france                                                                                                                                                                                                                \n",
      " unix      | 1418646101953                                                                                                                                                                                                                                               \n",
      " site      | eavtoprokat                                                                                                                                                                                                                                                 \n",
      " section   | prokat-avto                                                                                                                                                                                                                                                 \n",
      " datetime  | 2014-12-15 15:21:41.953                                                                                                                                                                                                                                     \n",
      " dayofweek | Mon                                                                                                                                                                                                                                                         \n",
      " hourofday | 15                                                                                                                                                                                                                                                          \n",
      " partofday | day                                                                                                                                                                                                                                                         \n",
      "-RECORD 25---------------------------------------------------------------------------------------------------------------------------------------------------------------------------------------------------------------------------------------------------------------\n",
      " gender    | M                                                                                                                                                                                                                                                           \n",
      " age       | 25-34                                                                                                                                                                                                                                                       \n",
      " uid       | d502331d-621e-4721-ada2-5d30b2c3801f                                                                                                                                                                                                                        \n",
      " url       | http://www.wordparts.ru/numeral/                                                                                                                                                                                                                            \n",
      " unix      | 1418592793587                                                                                                                                                                                                                                               \n",
      " site      | wordparts                                                                                                                                                                                                                                                   \n",
      " section   | numeral                                                                                                                                                                                                                                                     \n",
      " datetime  | 2014-12-15 00:33:13.587                                                                                                                                                                                                                                     \n",
      " dayofweek | Mon                                                                                                                                                                                                                                                         \n",
      " hourofday | 0                                                                                                                                                                                                                                                           \n",
      " partofday | night                                                                                                                                                                                                                                                       \n",
      "-RECORD 26---------------------------------------------------------------------------------------------------------------------------------------------------------------------------------------------------------------------------------------------------------------\n",
      " gender    | M                                                                                                                                                                                                                                                           \n",
      " age       | 25-34                                                                                                                                                                                                                                                       \n",
      " uid       | d502331d-621e-4721-ada2-5d30b2c3801f                                                                                                                                                                                                                        \n",
      " url       | http://rsdn.ru/forum/alg/3305190.flat                                                                                                                                                                                                                       \n",
      " unix      | 1418591162814                                                                                                                                                                                                                                               \n",
      " site      | rsdn                                                                                                                                                                                                                                                        \n",
      " section   | fm                                                                                                                                                                                                                                                          \n",
      " datetime  | 2014-12-15 00:06:02.814                                                                                                                                                                                                                                     \n",
      " dayofweek | Mon                                                                                                                                                                                                                                                         \n",
      " hourofday | 0                                                                                                                                                                                                                                                           \n",
      " partofday | night                                                                                                                                                                                                                                                       \n",
      "-RECORD 27---------------------------------------------------------------------------------------------------------------------------------------------------------------------------------------------------------------------------------------------------------------\n",
      " gender    | M                                                                                                                                                                                                                                                           \n",
      " age       | 25-34                                                                                                                                                                                                                                                       \n",
      " uid       | d502331d-621e-4721-ada2-5d30b2c3801f                                                                                                                                                                                                                        \n",
      " url       | http://www.euroavtoprokat.ru/car-rental/turkey/istanbul.htm                                                                                                                                                                                                 \n",
      " unix      | 1418571531780                                                                                                                                                                                                                                               \n",
      " site      | euroavtoprokat                                                                                                                                                                                                                                              \n",
      " section   | car-rental                                                                                                                                                                                                                                                  \n",
      " datetime  | 2014-12-14 18:38:51.78                                                                                                                                                                                                                                      \n",
      " dayofweek | Sun                                                                                                                                                                                                                                                         \n",
      " hourofday | 18                                                                                                                                                                                                                                                          \n",
      " partofday | evening                                                                                                                                                                                                                                                     \n",
      "-RECORD 28---------------------------------------------------------------------------------------------------------------------------------------------------------------------------------------------------------------------------------------------------------------\n",
      " gender    | M                                                                                                                                                                                                                                                           \n",
      " age       | 25-34                                                                                                                                                                                                                                                       \n",
      " uid       | d502331d-621e-4721-ada2-5d30b2c3801f                                                                                                                                                                                                                        \n",
      " url       | http://citieslist.ru/                                                                                                                                                                                                                                       \n",
      " unix      | 1418488992092                                                                                                                                                                                                                                               \n",
      " site      | citieslist                                                                                                                                                                                                                                                  \n",
      " section   |                                                                                                                                                                                                                                                             \n",
      " datetime  | 2014-12-13 19:43:12.092                                                                                                                                                                                                                                     \n",
      " dayofweek | Sat                                                                                                                                                                                                                                                         \n",
      " hourofday | 19                                                                                                                                                                                                                                                          \n",
      " partofday | evening                                                                                                                                                                                                                                                     \n",
      "-RECORD 29---------------------------------------------------------------------------------------------------------------------------------------------------------------------------------------------------------------------------------------------------------------\n",
      " gender    | M                                                                                                                                                                                                                                                           \n",
      " age       | 25-34                                                                                                                                                                                                                                                       \n",
      " uid       | d502331d-621e-4721-ada2-5d30b2c3801f                                                                                                                                                                                                                        \n",
      " url       | http://www.euroavtoprokat.ru/car-rental/turkey/istanbul.htm                                                                                                                                                                                                 \n",
      " unix      | 1418480798674                                                                                                                                                                                                                                               \n",
      " site      | euroavtoprokat                                                                                                                                                                                                                                              \n",
      " section   | car-rental                                                                                                                                                                                                                                                  \n",
      " datetime  | 2014-12-13 17:26:38.674                                                                                                                                                                                                                                     \n",
      " dayofweek | Sat                                                                                                                                                                                                                                                         \n",
      " hourofday | 17                                                                                                                                                                                                                                                          \n",
      " partofday | day                                                                                                                                                                                                                                                         \n",
      "-RECORD 30---------------------------------------------------------------------------------------------------------------------------------------------------------------------------------------------------------------------------------------------------------------\n",
      " gender    | M                                                                                                                                                                                                                                                           \n",
      " age       | 25-34                                                                                                                                                                                                                                                       \n",
      " uid       | d502331d-621e-4721-ada2-5d30b2c3801f                                                                                                                                                                                                                        \n",
      " url       | http://rutv.ru/brand/show/episode/453757                                                                                                                                                                                                                    \n",
      " unix      | 1418253037406                                                                                                                                                                                                                                               \n",
      " site      | rutv                                                                                                                                                                                                                                                        \n",
      " section   | brand                                                                                                                                                                                                                                                       \n",
      " datetime  | 2014-12-11 02:10:37.406                                                                                                                                                                                                                                     \n",
      " dayofweek | Thu                                                                                                                                                                                                                                                         \n",
      " hourofday | 2                                                                                                                                                                                                                                                           \n",
      " partofday | night                                                                                                                                                                                                                                                       \n",
      "-RECORD 31---------------------------------------------------------------------------------------------------------------------------------------------------------------------------------------------------------------------------------------------------------------\n",
      " gender    | M                                                                                                                                                                                                                                                           \n",
      " age       | 25-34                                                                                                                                                                                                                                                       \n",
      " uid       | d502331d-621e-4721-ada2-5d30b2c3801f                                                                                                                                                                                                                        \n",
      " url       | http://www.fodors.com/community/europe/best-car-rental-company-in-italy.cfm                                                                                                                                                                                 \n",
      " unix      | 1418247198586                                                                                                                                                                                                                                               \n",
      " site      | fodorsmunity                                                                                                                                                                                                                                                \n",
      " section   | europe                                                                                                                                                                                                                                                      \n",
      " datetime  | 2014-12-11 00:33:18.586                                                                                                                                                                                                                                     \n",
      " dayofweek | Thu                                                                                                                                                                                                                                                         \n",
      " hourofday | 0                                                                                                                                                                                                                                                           \n",
      " partofday | night                                                                                                                                                                                                                                                       \n",
      "-RECORD 32---------------------------------------------------------------------------------------------------------------------------------------------------------------------------------------------------------------------------------------------------------------\n",
      " gender    | M                                                                                                                                                                                                                                                           \n",
      " age       | 25-34                                                                                                                                                                                                                                                       \n",
      " uid       | d502331d-621e-4721-ada2-5d30b2c3801f                                                                                                                                                                                                                        \n",
      " url       | http://wheelsabroad.com/car-rental/united-kingdom/england/london?gclid=cjwkeaia-5-kbrdylpg5096r8masjabqedm4cmiichc-_-ewkbtsqyci5bu9ucwvjmxp4o0tficaarocljdw_wcb                                                                                             \n",
      " unix      | 1418245144696                                                                                                                                                                                                                                               \n",
      " site      | wheelsabroad                                                                                                                                                                                                                                                \n",
      " section   | car-rental                                                                                                                                                                                                                                                  \n",
      " datetime  | 2014-12-10 23:59:04.696                                                                                                                                                                                                                                     \n",
      " dayofweek | Wed                                                                                                                                                                                                                                                         \n",
      " hourofday | 23                                                                                                                                                                                                                                                          \n",
      " partofday | evening                                                                                                                                                                                                                                                     \n",
      "-RECORD 33---------------------------------------------------------------------------------------------------------------------------------------------------------------------------------------------------------------------------------------------------------------\n",
      " gender    | M                                                                                                                                                                                                                                                           \n",
      " age       | 25-34                                                                                                                                                                                                                                                       \n",
      " uid       | d502331d-621e-4721-ada2-5d30b2c3801f                                                                                                                                                                                                                        \n",
      " url       | http://lestinet.com/site/stopagent.ru                                                                                                                                                                                                                       \n",
      " unix      | 1418243376170                                                                                                                                                                                                                                               \n",
      " site      | lestinet                                                                                                                                                                                                                                                    \n",
      " section   | site                                                                                                                                                                                                                                                        \n",
      " datetime  | 2014-12-10 23:29:36.17                                                                                                                                                                                                                                      \n",
      " dayofweek | Wed                                                                                                                                                                                                                                                         \n",
      " hourofday | 23                                                                                                                                                                                                                                                          \n",
      " partofday | evening                                                                                                                                                                                                                                                     \n",
      "-RECORD 34---------------------------------------------------------------------------------------------------------------------------------------------------------------------------------------------------------------------------------------------------------------\n",
      " gender    | M                                                                                                                                                                                                                                                           \n",
      " age       | 25-34                                                                                                                                                                                                                                                       \n",
      " uid       | d502331d-621e-4721-ada2-5d30b2c3801f                                                                                                                                                                                                                        \n",
      " url       | http://android-help.ru/q2a/16774/как-получить-root-права-на-philips-w832-android-4-0-4                                                                                                                                                                      \n",
      " unix      | 1418169606439                                                                                                                                                                                                                                               \n",
      " site      | android-help                                                                                                                                                                                                                                                \n",
      " section   | q2a                                                                                                                                                                                                                                                         \n",
      " datetime  | 2014-12-10 03:00:06.439                                                                                                                                                                                                                                     \n",
      " dayofweek | Wed                                                                                                                                                                                                                                                         \n",
      " hourofday | 3                                                                                                                                                                                                                                                           \n",
      " partofday | night                                                                                                                                                                                                                                                       \n",
      "-RECORD 35---------------------------------------------------------------------------------------------------------------------------------------------------------------------------------------------------------------------------------------------------------------\n",
      " gender    | M                                                                                                                                                                                                                                                           \n",
      " age       | 25-34                                                                                                                                                                                                                                                       \n",
      " uid       | d502331d-621e-4721-ada2-5d30b2c3801f                                                                                                                                                                                                                        \n",
      " url       | http://club.dns-shop.ru/rabinovich/blog/я-все-еще-держусь-обзор-смартфона-philips-xenium-w832/                                                                                                                                                              \n",
      " unix      | 1418169602505                                                                                                                                                                                                                                               \n",
      " site      | club.dns-shop                                                                                                                                                                                                                                               \n",
      " section   | rabinovich                                                                                                                                                                                                                                                  \n",
      " datetime  | 2014-12-10 03:00:02.505                                                                                                                                                                                                                                     \n",
      " dayofweek | Wed                                                                                                                                                                                                                                                         \n",
      " hourofday | 3                                                                                                                                                                                                                                                           \n",
      " partofday | night                                                                                                                                                                                                                                                       \n",
      "-RECORD 36---------------------------------------------------------------------------------------------------------------------------------------------------------------------------------------------------------------------------------------------------------------\n",
      " gender    | M                                                                                                                                                                                                                                                           \n",
      " age       | 25-34                                                                                                                                                                                                                                                       \n",
      " uid       | d502331d-621e-4721-ada2-5d30b2c3801f                                                                                                                                                                                                                        \n",
      " url       | http://www.supportforum.philips.com/ru/showthread.php?1529-philips-xenium-w832/page6                                                                                                                                                                        \n",
      " unix      | 1418167859617                                                                                                                                                                                                                                               \n",
      " site      | supportfm.philips                                                                                                                                                                                                                                           \n",
      " section   | showthread.php?1529-philips-xenium-w832                                                                                                                                                                                                                     \n",
      " datetime  | 2014-12-10 02:30:59.617                                                                                                                                                                                                                                     \n",
      " dayofweek | Wed                                                                                                                                                                                                                                                         \n",
      " hourofday | 2                                                                                                                                                                                                                                                           \n",
      " partofday | night                                                                                                                                                                                                                                                       \n",
      "-RECORD 37---------------------------------------------------------------------------------------------------------------------------------------------------------------------------------------------------------------------------------------------------------------\n",
      " gender    | M                                                                                                                                                                                                                                                           \n",
      " age       | 25-34                                                                                                                                                                                                                                                       \n",
      " uid       | d502331d-621e-4721-ada2-5d30b2c3801f                                                                                                                                                                                                                        \n",
      " url       | http://www.supportforum.philips.com/ru/showthread.php?842-не-работает-gps-в-смартфоне-philips-xenium-w832                                                                                                                                                   \n",
      " unix      | 1418166430112                                                                                                                                                                                                                                               \n",
      " site      | supportfm.philips                                                                                                                                                                                                                                           \n",
      " section   | showthread.php?842-не-работает-gps-в-смартфоне-philips-xenium-w832                                                                                                                                                                                          \n",
      " datetime  | 2014-12-10 02:07:10.112                                                                                                                                                                                                                                     \n",
      " dayofweek | Wed                                                                                                                                                                                                                                                         \n",
      " hourofday | 2                                                                                                                                                                                                                                                           \n",
      " partofday | night                                                                                                                                                                                                                                                       \n",
      "-RECORD 38---------------------------------------------------------------------------------------------------------------------------------------------------------------------------------------------------------------------------------------------------------------\n",
      " gender    | M                                                                                                                                                                                                                                                           \n",
      " age       | 25-34                                                                                                                                                                                                                                                       \n",
      " uid       | d502331d-621e-4721-ada2-5d30b2c3801f                                                                                                                                                                                                                        \n",
      " url       | http://rabota.ua/info/jobsearcher/post/umora.aspx                                                                                                                                                                                                           \n",
      " unix      | 1418114698621                                                                                                                                                                                                                                               \n",
      " site      | rabota.ua                                                                                                                                                                                                                                                   \n",
      " section   | info                                                                                                                                                                                                                                                        \n",
      " datetime  | 2014-12-09 11:44:58.621                                                                                                                                                                                                                                     \n",
      " dayofweek | Tue                                                                                                                                                                                                                                                         \n",
      " hourofday | 11                                                                                                                                                                                                                                                          \n",
      " partofday | morning                                                                                                                                                                                                                                                     \n",
      "-RECORD 39---------------------------------------------------------------------------------------------------------------------------------------------------------------------------------------------------------------------------------------------------------------\n",
      " gender    | M                                                                                                                                                                                                                                                           \n",
      " age       | 25-34                                                                                                                                                                                                                                                       \n",
      " uid       | d502331d-621e-4721-ada2-5d30b2c3801f                                                                                                                                                                                                                        \n",
      " url       | http://www.enter.ru/product/appliances/myasorubka-philips-hr2728-2020103007131                                                                                                                                                                              \n",
      " unix      | 1418053557067                                                                                                                                                                                                                                               \n",
      " site      | enter                                                                                                                                                                                                                                                       \n",
      " section   | product                                                                                                                                                                                                                                                     \n",
      " datetime  | 2014-12-08 18:45:57.067                                                                                                                                                                                                                                     \n",
      " dayofweek | Mon                                                                                                                                                                                                                                                         \n",
      " hourofday | 18                                                                                                                                                                                                                                                          \n",
      " partofday | evening                                                                                                                                                                                                                                                     \n",
      "-RECORD 40---------------------------------------------------------------------------------------------------------------------------------------------------------------------------------------------------------------------------------------------------------------\n",
      " gender    | M                                                                                                                                                                                                                                                           \n",
      " age       | 25-34                                                                                                                                                                                                                                                       \n",
      " uid       | d502331d-621e-4721-ada2-5d30b2c3801f                                                                                                                                                                                                                        \n",
      " url       | http://www.ferra.ru/ru/byt/news/2013/12/02/polaris-pmg-1805/                                                                                                                                                                                                \n",
      " unix      | 1417866883735                                                                                                                                                                                                                                               \n",
      " site      | ferra                                                                                                                                                                                                                                                       \n",
      " section   | byt                                                                                                                                                                                                                                                         \n",
      " datetime  | 2014-12-06 14:54:43.735                                                                                                                                                                                                                                     \n",
      " dayofweek | Sat                                                                                                                                                                                                                                                         \n",
      " hourofday | 14                                                                                                                                                                                                                                                          \n",
      " partofday | day                                                                                                                                                                                                                                                         \n",
      "-RECORD 41---------------------------------------------------------------------------------------------------------------------------------------------------------------------------------------------------------------------------------------------------------------\n",
      " gender    | M                                                                                                                                                                                                                                                           \n",
      " age       | 25-34                                                                                                                                                                                                                                                       \n",
      " uid       | d502331d-621e-4721-ada2-5d30b2c3801f                                                                                                                                                                                                                        \n",
      " url       | http://www.ferra.ru/ru/byt/news/2013/10/12/bosch-mfw6-propower/                                                                                                                                                                                             \n",
      " unix      | 1417862586856                                                                                                                                                                                                                                               \n",
      " site      | ferra                                                                                                                                                                                                                                                       \n",
      " section   | byt                                                                                                                                                                                                                                                         \n",
      " datetime  | 2014-12-06 13:43:06.856                                                                                                                                                                                                                                     \n",
      " dayofweek | Sat                                                                                                                                                                                                                                                         \n",
      " hourofday | 13                                                                                                                                                                                                                                                          \n",
      " partofday | day                                                                                                                                                                                                                                                         \n",
      "-RECORD 42---------------------------------------------------------------------------------------------------------------------------------------------------------------------------------------------------------------------------------------------------------------\n",
      " gender    | M                                                                                                                                                                                                                                                           \n",
      " age       | 25-34                                                                                                                                                                                                                                                       \n",
      " uid       | d502331d-621e-4721-ada2-5d30b2c3801f                                                                                                                                                                                                                        \n",
      " url       | http://www.linotype.com/1266/neuehelvetica-family.html                                                                                                                                                                                                      \n",
      " unix      | 1417856979616                                                                                                                                                                                                                                               \n",
      " site      | linotype                                                                                                                                                                                                                                                    \n",
      " section   | 1266                                                                                                                                                                                                                                                        \n",
      " datetime  | 2014-12-06 12:09:39.616                                                                                                                                                                                                                                     \n",
      " dayofweek | Sat                                                                                                                                                                                                                                                         \n",
      " hourofday | 12                                                                                                                                                                                                                                                          \n",
      " partofday | day                                                                                                                                                                                                                                                         \n",
      "-RECORD 43---------------------------------------------------------------------------------------------------------------------------------------------------------------------------------------------------------------------------------------------------------------\n",
      " gender    | M                                                                                                                                                                                                                                                           \n",
      " age       | 25-34                                                                                                                                                                                                                                                       \n",
      " uid       | d502331d-621e-4721-ada2-5d30b2c3801f                                                                                                                                                                                                                        \n",
      " url       | http://www.linotype.com/1546/tradegothic-family.html?site=webfonts                                                                                                                                                                                          \n",
      " unix      | 1417812010753                                                                                                                                                                                                                                               \n",
      " site      | linotype                                                                                                                                                                                                                                                    \n",
      " section   | 1546                                                                                                                                                                                                                                                        \n",
      " datetime  | 2014-12-05 23:40:10.753                                                                                                                                                                                                                                     \n",
      " dayofweek | Fri                                                                                                                                                                                                                                                         \n",
      " hourofday | 23                                                                                                                                                                                                                                                          \n",
      " partofday | evening                                                                                                                                                                                                                                                     \n",
      "-RECORD 44---------------------------------------------------------------------------------------------------------------------------------------------------------------------------------------------------------------------------------------------------------------\n",
      " gender    | M                                                                                                                                                                                                                                                           \n",
      " age       | 25-34                                                                                                                                                                                                                                                       \n",
      " uid       | d502331d-621e-4721-ada2-5d30b2c3801f                                                                                                                                                                                                                        \n",
      " url       | http://www.vandelaydesign.com/best-ecommerce-website-designs/                                                                                                                                                                                               \n",
      " unix      | 1417807232287                                                                                                                                                                                                                                               \n",
      " site      | vandelaydesign                                                                                                                                                                                                                                              \n",
      " section   | best-merce-website-designs                                                                                                                                                                                                                                  \n",
      " datetime  | 2014-12-05 22:20:32.287                                                                                                                                                                                                                                     \n",
      " dayofweek | Fri                                                                                                                                                                                                                                                         \n",
      " hourofday | 22                                                                                                                                                                                                                                                          \n",
      " partofday | evening                                                                                                                                                                                                                                                     \n",
      "-RECORD 45---------------------------------------------------------------------------------------------------------------------------------------------------------------------------------------------------------------------------------------------------------------\n",
      " gender    | M                                                                                                                                                                                                                                                           \n",
      " age       | 25-34                                                                                                                                                                                                                                                       \n",
      " uid       | d502331d-621e-4721-ada2-5d30b2c3801f                                                                                                                                                                                                                        \n",
      " url       | http://www.awwwards.com/20-of-the-very-best-e-commerce-web-sites.html                                                                                                                                                                                       \n",
      " unix      | 1417805189928                                                                                                                                                                                                                                               \n",
      " site      | ards                                                                                                                                                                                                                                                        \n",
      " section   | 20-of-the-very-best-emerce-web-sites                                                                                                                                                                                                                        \n",
      " datetime  | 2014-12-05 21:46:29.928                                                                                                                                                                                                                                     \n",
      " dayofweek | Fri                                                                                                                                                                                                                                                         \n",
      " hourofday | 21                                                                                                                                                                                                                                                          \n",
      " partofday | evening                                                                                                                                                                                                                                                     \n",
      "-RECORD 46---------------------------------------------------------------------------------------------------------------------------------------------------------------------------------------------------------------------------------------------------------------\n",
      " gender    | M                                                                                                                                                                                                                                                           \n",
      " age       | 25-34                                                                                                                                                                                                                                                       \n",
      " uid       | d502331d-621e-4721-ada2-5d30b2c3801f                                                                                                                                                                                                                        \n",
      " url       | http://101.ru/?an=port_channel_mp3&channel=82                                                                                                                                                                                                               \n",
      " unix      | 1417711286305                                                                                                                                                                                                                                               \n",
      " site      | 101                                                                                                                                                                                                                                                         \n",
      " section   | ?an=port_channel_mp3&channel=82                                                                                                                                                                                                                             \n",
      " datetime  | 2014-12-04 19:41:26.305                                                                                                                                                                                                                                     \n",
      " dayofweek | Thu                                                                                                                                                                                                                                                         \n",
      " hourofday | 19                                                                                                                                                                                                                                                          \n",
      " partofday | evening                                                                                                                                                                                                                                                     \n",
      "-RECORD 47---------------------------------------------------------------------------------------------------------------------------------------------------------------------------------------------------------------------------------------------------------------\n",
      " gender    | M                                                                                                                                                                                                                                                           \n",
      " age       | 25-34                                                                                                                                                                                                                                                       \n",
      " uid       | d502331d-621e-4721-ada2-5d30b2c3801f                                                                                                                                                                                                                        \n",
      " url       | http://www.just.ru/myasorubki/56658_elektromyasorybky_kenwood_mg_450/?from=yandex_msk&utm_source=yandex&utm_medium=cpc&utm_campaign=10817239_model_bytovaya-tehnika-melkaya_msk_p_api&utm_content=612422293_2792852770_мясорубку mg 450&position_type=premi \n",
      " unix      | 1417701042306                                                                                                                                                                                                                                               \n",
      " site      | just                                                                                                                                                                                                                                                        \n",
      " section   | myasbki                                                                                                                                                                                                                                                     \n",
      " datetime  | 2014-12-04 16:50:42.306                                                                                                                                                                                                                                     \n",
      " dayofweek | Thu                                                                                                                                                                                                                                                         \n",
      " hourofday | 16                                                                                                                                                                                                                                                          \n",
      " partofday | day                                                                                                                                                                                                                                                         \n",
      "-RECORD 48---------------------------------------------------------------------------------------------------------------------------------------------------------------------------------------------------------------------------------------------------------------\n",
      " gender    | M                                                                                                                                                                                                                                                           \n",
      " age       | 25-34                                                                                                                                                                                                                                                       \n",
      " uid       | d502331d-621e-4721-ada2-5d30b2c3801f                                                                                                                                                                                                                        \n",
      " url       | http://101.ru/?an=port_channel_mp3&channel=5                                                                                                                                                                                                                \n",
      " unix      | 1417695760398                                                                                                                                                                                                                                               \n",
      " site      | 101                                                                                                                                                                                                                                                         \n",
      " section   | ?an=port_channel_mp3&channel=5                                                                                                                                                                                                                              \n",
      " datetime  | 2014-12-04 15:22:40.398                                                                                                                                                                                                                                     \n",
      " dayofweek | Thu                                                                                                                                                                                                                                                         \n",
      " hourofday | 15                                                                                                                                                                                                                                                          \n",
      " partofday | day                                                                                                                                                                                                                                                         \n",
      "-RECORD 49---------------------------------------------------------------------------------------------------------------------------------------------------------------------------------------------------------------------------------------------------------------\n",
      " gender    | M                                                                                                                                                                                                                                                           \n",
      " age       | 25-34                                                                                                                                                                                                                                                       \n",
      " uid       | d502331d-621e-4721-ada2-5d30b2c3801f                                                                                                                                                                                                                        \n",
      " url       | http://101.ru/?an=port_channel_mp3&channel=5                                                                                                                                                                                                                \n",
      " unix      | 1417689964129                                                                                                                                                                                                                                               \n",
      " site      | 101                                                                                                                                                                                                                                                         \n",
      " section   | ?an=port_channel_mp3&channel=5                                                                                                                                                                                                                              \n",
      " datetime  | 2014-12-04 13:46:04.129                                                                                                                                                                                                                                     \n",
      " dayofweek | Thu                                                                                                                                                                                                                                                         \n",
      " hourofday | 13                                                                                                                                                                                                                                                          \n",
      " partofday | day                                                                                                                                                                                                                                                         \n",
      "only showing top 50 rows\n",
      "\n"
     ]
    }
   ],
   "source": [
    "sdf \\\n",
    "    .withColumn('site', split(regexp_replace(sdf.url,'http://|https://|www.|.ru|.com|.html',''),'/').getItem(0)) \\\n",
    "    .show(50, vertical=True, truncate=500)"
   ]
  },
  {
   "cell_type": "code",
   "execution_count": 20,
   "metadata": {
    "ExecuteTime": {
     "end_time": "2022-11-06T09:08:27.063567Z",
     "start_time": "2022-11-06T09:08:27.060687Z"
    }
   },
   "outputs": [
    {
     "name": "stdout",
     "output_type": "stream",
     "text": [
      "root\n",
      " |-- gender: string (nullable = true)\n",
      " |-- age: string (nullable = true)\n",
      " |-- uid: string (nullable = true)\n",
      " |-- url: string (nullable = true)\n",
      " |-- unix: long (nullable = true)\n",
      " |-- site: string (nullable = true)\n",
      " |-- section: string (nullable = true)\n",
      "\n"
     ]
    }
   ],
   "source": [
    "sdf.printSchema()"
   ]
  },
  {
   "cell_type": "code",
   "execution_count": 13,
   "metadata": {
    "ExecuteTime": {
     "end_time": "2022-11-06T11:44:17.684289Z",
     "start_time": "2022-11-06T11:44:17.470237Z"
    }
   },
   "outputs": [],
   "source": [
    "sdf = sdf \\\n",
    "    .withColumn(\"datetime\",expr('concat_ws(\".\",from_unixtime(substring(unix,1,length(unix)-3),\"yyyy-MM-dd HH:mm:ss\"),substring(unix,length(unix)-2,length(unix)))').cast(\"timestamp\")) \\\n",
    "    .withColumn(\"dayofweek\", date_format('datetime', 'E')) \\\n",
    "    .withColumn(\"hourofday\", F.hour(col(\"datetime\")))"
   ]
  },
  {
   "cell_type": "code",
   "execution_count": 14,
   "metadata": {
    "ExecuteTime": {
     "end_time": "2022-11-06T11:44:17.719800Z",
     "start_time": "2022-11-06T11:44:17.686445Z"
    }
   },
   "outputs": [],
   "source": [
    "sdf = sdf \\\n",
    "    .withColumn(\"partofday\",\n",
    "                 when(sdf.hourofday < 6, 'night')\n",
    "                .when(sdf.hourofday < 12, 'morning')\n",
    "                .when(sdf.hourofday < 18, 'day')\n",
    "                .otherwise('evening'))"
   ]
  },
  {
   "cell_type": "code",
   "execution_count": 276,
   "metadata": {
    "ExecuteTime": {
     "end_time": "2022-11-06T04:24:40.779246Z",
     "start_time": "2022-11-06T04:24:35.658334Z"
    }
   },
   "outputs": [
    {
     "name": "stdout",
     "output_type": "stream",
     "text": [
      "-RECORD 0-------------------------------------------------------------------------------------------------------------------------------------------------------------------------------------------------------------------------\n",
      " gender    | F                                                                                                                                                                                                                    \n",
      " age       | 18-24                                                                                                                                                                                                                \n",
      " uid       | 075272d2-851b-44a3-a4b0-88090e707390                                                                                                                                                                                 \n",
      " url       | http://https://www.avito.ru/balahna/remont_i_stroitelstvo/pilomaterialy_234824468                                                                                                                                    \n",
      " unix      | 1417594641000                                                                                                                                                                                                        \n",
      " site      | avito                                                                                                                                                                                                                \n",
      " section   | balahna                                                                                                                                                                                                              \n",
      " datetime  | 2014-12-03 11:17:21                                                                                                                                                                                                  \n",
      " dayofweek | Wed                                                                                                                                                                                                                  \n",
      " hourofday | 11                                                                                                                                                                                                                   \n",
      " partofday | morning                                                                                                                                                                                                              \n",
      "-RECORD 1-------------------------------------------------------------------------------------------------------------------------------------------------------------------------------------------------------------------------\n",
      " gender    | F                                                                                                                                                                                                                    \n",
      " age       | 18-24                                                                                                                                                                                                                \n",
      " uid       | 075272d2-851b-44a3-a4b0-88090e707390                                                                                                                                                                                 \n",
      " url       | http://https://www.avito.ru/balahna                                                                                                                                                                                  \n",
      " unix      | 1417594632000                                                                                                                                                                                                        \n",
      " site      | avito                                                                                                                                                                                                                \n",
      " section   | balahna                                                                                                                                                                                                              \n",
      " datetime  | 2014-12-03 11:17:12                                                                                                                                                                                                  \n",
      " dayofweek | Wed                                                                                                                                                                                                                  \n",
      " hourofday | 11                                                                                                                                                                                                                   \n",
      " partofday | morning                                                                                                                                                                                                              \n",
      "-RECORD 2-------------------------------------------------------------------------------------------------------------------------------------------------------------------------------------------------------------------------\n",
      " gender    | F                                                                                                                                                                                                                    \n",
      " age       | 18-24                                                                                                                                                                                                                \n",
      " uid       | 075272d2-851b-44a3-a4b0-88090e707390                                                                                                                                                                                 \n",
      " url       | http://https://www.avito.ru/balahna                                                                                                                                                                                  \n",
      " unix      | 1417594629000                                                                                                                                                                                                        \n",
      " site      | avito                                                                                                                                                                                                                \n",
      " section   | balahna                                                                                                                                                                                                              \n",
      " datetime  | 2014-12-03 11:17:09                                                                                                                                                                                                  \n",
      " dayofweek | Wed                                                                                                                                                                                                                  \n",
      " hourofday | 11                                                                                                                                                                                                                   \n",
      " partofday | morning                                                                                                                                                                                                              \n",
      "-RECORD 3-------------------------------------------------------------------------------------------------------------------------------------------------------------------------------------------------------------------------\n",
      " gender    | F                                                                                                                                                                                                                    \n",
      " age       | 18-24                                                                                                                                                                                                                \n",
      " uid       | 075272d2-851b-44a3-a4b0-88090e707390                                                                                                                                                                                 \n",
      " url       | http://https://www.avito.ru/balahna                                                                                                                                                                                  \n",
      " unix      | 1417594624000                                                                                                                                                                                                        \n",
      " site      | avito                                                                                                                                                                                                                \n",
      " section   | balahna                                                                                                                                                                                                              \n",
      " datetime  | 2014-12-03 11:17:04                                                                                                                                                                                                  \n",
      " dayofweek | Wed                                                                                                                                                                                                                  \n",
      " hourofday | 11                                                                                                                                                                                                                   \n",
      " partofday | morning                                                                                                                                                                                                              \n",
      "-RECORD 4-------------------------------------------------------------------------------------------------------------------------------------------------------------------------------------------------------------------------\n",
      " gender    | F                                                                                                                                                                                                                    \n",
      " age       | 18-24                                                                                                                                                                                                                \n",
      " uid       | 075272d2-851b-44a3-a4b0-88090e707390                                                                                                                                                                                 \n",
      " url       | http://https://www.avito.ru/balahna                                                                                                                                                                                  \n",
      " unix      | 1417594622000                                                                                                                                                                                                        \n",
      " site      | avito                                                                                                                                                                                                                \n",
      " section   | balahna                                                                                                                                                                                                              \n",
      " datetime  | 2014-12-03 11:17:02                                                                                                                                                                                                  \n",
      " dayofweek | Wed                                                                                                                                                                                                                  \n",
      " hourofday | 11                                                                                                                                                                                                                   \n",
      " partofday | morning                                                                                                                                                                                                              \n",
      "-RECORD 5-------------------------------------------------------------------------------------------------------------------------------------------------------------------------------------------------------------------------\n",
      " gender    | F                                                                                                                                                                                                                    \n",
      " age       | 18-24                                                                                                                                                                                                                \n",
      " uid       | 075272d2-851b-44a3-a4b0-88090e707390                                                                                                                                                                                 \n",
      " url       | http://https://www.avito.ru/balahna/predlozheniya_uslug/89524594062_470343321                                                                                                                                        \n",
      " unix      | 1417594620000                                                                                                                                                                                                        \n",
      " site      | avito                                                                                                                                                                                                                \n",
      " section   | balahna                                                                                                                                                                                                              \n",
      " datetime  | 2014-12-03 11:17:00                                                                                                                                                                                                  \n",
      " dayofweek | Wed                                                                                                                                                                                                                  \n",
      " hourofday | 11                                                                                                                                                                                                                   \n",
      " partofday | morning                                                                                                                                                                                                              \n",
      "-RECORD 6-------------------------------------------------------------------------------------------------------------------------------------------------------------------------------------------------------------------------\n",
      " gender    | F                                                                                                                                                                                                                    \n",
      " age       | 18-24                                                                                                                                                                                                                \n",
      " uid       | 075272d2-851b-44a3-a4b0-88090e707390                                                                                                                                                                                 \n",
      " url       | http://https://www.avito.ru/balahna/predlozheniya_uslug                                                                                                                                                              \n",
      " unix      | 1417594601000                                                                                                                                                                                                        \n",
      " site      | avito                                                                                                                                                                                                                \n",
      " section   | balahna                                                                                                                                                                                                              \n",
      " datetime  | 2014-12-03 11:16:41                                                                                                                                                                                                  \n",
      " dayofweek | Wed                                                                                                                                                                                                                  \n",
      " hourofday | 11                                                                                                                                                                                                                   \n",
      " partofday | morning                                                                                                                                                                                                              \n",
      "-RECORD 7-------------------------------------------------------------------------------------------------------------------------------------------------------------------------------------------------------------------------\n",
      " gender    | F                                                                                                                                                                                                                    \n",
      " age       | 18-24                                                                                                                                                                                                                \n",
      " uid       | 075272d2-851b-44a3-a4b0-88090e707390                                                                                                                                                                                 \n",
      " url       | http://https://www.avito.ru/balahna/predlozheniya_uslug/89524594062_470343321                                                                                                                                        \n",
      " unix      | 1417594588000                                                                                                                                                                                                        \n",
      " site      | avito                                                                                                                                                                                                                \n",
      " section   | balahna                                                                                                                                                                                                              \n",
      " datetime  | 2014-12-03 11:16:28                                                                                                                                                                                                  \n",
      " dayofweek | Wed                                                                                                                                                                                                                  \n",
      " hourofday | 11                                                                                                                                                                                                                   \n",
      " partofday | morning                                                                                                                                                                                                              \n",
      "-RECORD 8-------------------------------------------------------------------------------------------------------------------------------------------------------------------------------------------------------------------------\n",
      " gender    | F                                                                                                                                                                                                                    \n",
      " age       | 18-24                                                                                                                                                                                                                \n",
      " uid       | 075272d2-851b-44a3-a4b0-88090e707390                                                                                                                                                                                 \n",
      " url       | http://https://www.avito.ru/balahna                                                                                                                                                                                  \n",
      " unix      | 1417594583000                                                                                                                                                                                                        \n",
      " site      | avito                                                                                                                                                                                                                \n",
      " section   | balahna                                                                                                                                                                                                              \n",
      " datetime  | 2014-12-03 11:16:23                                                                                                                                                                                                  \n",
      " dayofweek | Wed                                                                                                                                                                                                                  \n",
      " hourofday | 11                                                                                                                                                                                                                   \n",
      " partofday | morning                                                                                                                                                                                                              \n",
      "-RECORD 9-------------------------------------------------------------------------------------------------------------------------------------------------------------------------------------------------------------------------\n",
      " gender    | F                                                                                                                                                                                                                    \n",
      " age       | 18-24                                                                                                                                                                                                                \n",
      " uid       | 075272d2-851b-44a3-a4b0-88090e707390                                                                                                                                                                                 \n",
      " url       | http://https://www.avito.ru/balahna                                                                                                                                                                                  \n",
      " unix      | 1417594581000                                                                                                                                                                                                        \n",
      " site      | avito                                                                                                                                                                                                                \n",
      " section   | balahna                                                                                                                                                                                                              \n",
      " datetime  | 2014-12-03 11:16:21                                                                                                                                                                                                  \n",
      " dayofweek | Wed                                                                                                                                                                                                                  \n",
      " hourofday | 11                                                                                                                                                                                                                   \n",
      " partofday | morning                                                                                                                                                                                                              \n",
      "-RECORD 10------------------------------------------------------------------------------------------------------------------------------------------------------------------------------------------------------------------------\n",
      " gender    | F                                                                                                                                                                                                                    \n",
      " age       | 18-24                                                                                                                                                                                                                \n",
      " uid       | 075272d2-851b-44a3-a4b0-88090e707390                                                                                                                                                                                 \n",
      " url       | http://https://www.avito.ru/balahna                                                                                                                                                                                  \n",
      " unix      | 1417594573000                                                                                                                                                                                                        \n",
      " site      | avito                                                                                                                                                                                                                \n",
      " section   | balahna                                                                                                                                                                                                              \n",
      " datetime  | 2014-12-03 11:16:13                                                                                                                                                                                                  \n",
      " dayofweek | Wed                                                                                                                                                                                                                  \n",
      " hourofday | 11                                                                                                                                                                                                                   \n",
      " partofday | morning                                                                                                                                                                                                              \n",
      "-RECORD 11------------------------------------------------------------------------------------------------------------------------------------------------------------------------------------------------------------------------\n",
      " gender    | F                                                                                                                                                                                                                    \n",
      " age       | 18-24                                                                                                                                                                                                                \n",
      " uid       | 075272d2-851b-44a3-a4b0-88090e707390                                                                                                                                                                                 \n",
      " url       | http://https://www.avito.ru/balahna                                                                                                                                                                                  \n",
      " unix      | 1417594571000                                                                                                                                                                                                        \n",
      " site      | avito                                                                                                                                                                                                                \n",
      " section   | balahna                                                                                                                                                                                                              \n",
      " datetime  | 2014-12-03 11:16:11                                                                                                                                                                                                  \n",
      " dayofweek | Wed                                                                                                                                                                                                                  \n",
      " hourofday | 11                                                                                                                                                                                                                   \n",
      " partofday | morning                                                                                                                                                                                                              \n",
      "-RECORD 12------------------------------------------------------------------------------------------------------------------------------------------------------------------------------------------------------------------------\n",
      " gender    | F                                                                                                                                                                                                                    \n",
      " age       | 18-24                                                                                                                                                                                                                \n",
      " uid       | 075272d2-851b-44a3-a4b0-88090e707390                                                                                                                                                                                 \n",
      " url       | http://https://www.avito.ru/balahna                                                                                                                                                                                  \n",
      " unix      | 1417594564000                                                                                                                                                                                                        \n",
      " site      | avito                                                                                                                                                                                                                \n",
      " section   | balahna                                                                                                                                                                                                              \n",
      " datetime  | 2014-12-03 11:16:04                                                                                                                                                                                                  \n",
      " dayofweek | Wed                                                                                                                                                                                                                  \n",
      " hourofday | 11                                                                                                                                                                                                                   \n",
      " partofday | morning                                                                                                                                                                                                              \n",
      "-RECORD 13------------------------------------------------------------------------------------------------------------------------------------------------------------------------------------------------------------------------\n",
      " gender    | F                                                                                                                                                                                                                    \n",
      " age       | 18-24                                                                                                                                                                                                                \n",
      " uid       | 075272d2-851b-44a3-a4b0-88090e707390                                                                                                                                                                                 \n",
      " url       | http://https://www.avito.ru/balahna                                                                                                                                                                                  \n",
      " unix      | 1417594560000                                                                                                                                                                                                        \n",
      " site      | avito                                                                                                                                                                                                                \n",
      " section   | balahna                                                                                                                                                                                                              \n",
      " datetime  | 2014-12-03 11:16:00                                                                                                                                                                                                  \n",
      " dayofweek | Wed                                                                                                                                                                                                                  \n",
      " hourofday | 11                                                                                                                                                                                                                   \n",
      " partofday | morning                                                                                                                                                                                                              \n",
      "-RECORD 14------------------------------------------------------------------------------------------------------------------------------------------------------------------------------------------------------------------------\n",
      " gender    | F                                                                                                                                                                                                                    \n",
      " age       | 18-24                                                                                                                                                                                                                \n",
      " uid       | 075272d2-851b-44a3-a4b0-88090e707390                                                                                                                                                                                 \n",
      " url       | http://https://www.avito.ru/nizhniy_novgorod/predlozheniya_uslug/manipulyator_v_arendu._otlichnaya_tsena_470551911                                                                                                   \n",
      " unix      | 1417438938000                                                                                                                                                                                                        \n",
      " site      | avito                                                                                                                                                                                                                \n",
      " section   | nizhniy_novgorod                                                                                                                                                                                                     \n",
      " datetime  | 2014-12-01 16:02:18                                                                                                                                                                                                  \n",
      " dayofweek | Mon                                                                                                                                                                                                                  \n",
      " hourofday | 16                                                                                                                                                                                                                   \n",
      " partofday | day                                                                                                                                                                                                                  \n",
      "-RECORD 15------------------------------------------------------------------------------------------------------------------------------------------------------------------------------------------------------------------------\n",
      " gender    | F                                                                                                                                                                                                                    \n",
      " age       | 18-24                                                                                                                                                                                                                \n",
      " uid       | 075272d2-851b-44a3-a4b0-88090e707390                                                                                                                                                                                 \n",
      " url       | http://https://www.avito.ru/nizhniy_novgorod                                                                                                                                                                         \n",
      " unix      | 1417438936000                                                                                                                                                                                                        \n",
      " site      | avito                                                                                                                                                                                                                \n",
      " section   | nizhniy_novgorod                                                                                                                                                                                                     \n",
      " datetime  | 2014-12-01 16:02:16                                                                                                                                                                                                  \n",
      " dayofweek | Mon                                                                                                                                                                                                                  \n",
      " hourofday | 16                                                                                                                                                                                                                   \n",
      " partofday | day                                                                                                                                                                                                                  \n",
      "-RECORD 16------------------------------------------------------------------------------------------------------------------------------------------------------------------------------------------------------------------------\n",
      " gender    | F                                                                                                                                                                                                                    \n",
      " age       | 18-24                                                                                                                                                                                                                \n",
      " uid       | 075272d2-851b-44a3-a4b0-88090e707390                                                                                                                                                                                 \n",
      " url       | http://https://www.avito.ru/nizhniy_novgorod/predlozheniya_uslug/manipulyator_v_arendu._polnyy_kompleks_uslug_470558607                                                                                              \n",
      " unix      | 1417438927000                                                                                                                                                                                                        \n",
      " site      | avito                                                                                                                                                                                                                \n",
      " section   | nizhniy_novgorod                                                                                                                                                                                                     \n",
      " datetime  | 2014-12-01 16:02:07                                                                                                                                                                                                  \n",
      " dayofweek | Mon                                                                                                                                                                                                                  \n",
      " hourofday | 16                                                                                                                                                                                                                   \n",
      " partofday | day                                                                                                                                                                                                                  \n",
      "-RECORD 17------------------------------------------------------------------------------------------------------------------------------------------------------------------------------------------------------------------------\n",
      " gender    | F                                                                                                                                                                                                                    \n",
      " age       | 18-24                                                                                                                                                                                                                \n",
      " uid       | 075272d2-851b-44a3-a4b0-88090e707390                                                                                                                                                                                 \n",
      " url       | http://https://www.avito.ru/nizhniy_novgorod                                                                                                                                                                         \n",
      " unix      | 1417438918000                                                                                                                                                                                                        \n",
      " site      | avito                                                                                                                                                                                                                \n",
      " section   | nizhniy_novgorod                                                                                                                                                                                                     \n",
      " datetime  | 2014-12-01 16:01:58                                                                                                                                                                                                  \n",
      " dayofweek | Mon                                                                                                                                                                                                                  \n",
      " hourofday | 16                                                                                                                                                                                                                   \n",
      " partofday | day                                                                                                                                                                                                                  \n",
      "-RECORD 18------------------------------------------------------------------------------------------------------------------------------------------------------------------------------------------------------------------------\n",
      " gender    | F                                                                                                                                                                                                                    \n",
      " age       | 18-24                                                                                                                                                                                                                \n",
      " uid       | 075272d2-851b-44a3-a4b0-88090e707390                                                                                                                                                                                 \n",
      " url       | http://https://www.avito.ru/nizhniy_novgorod                                                                                                                                                                         \n",
      " unix      | 1417438909000                                                                                                                                                                                                        \n",
      " site      | avito                                                                                                                                                                                                                \n",
      " section   | nizhniy_novgorod                                                                                                                                                                                                     \n",
      " datetime  | 2014-12-01 16:01:49                                                                                                                                                                                                  \n",
      " dayofweek | Mon                                                                                                                                                                                                                  \n",
      " hourofday | 16                                                                                                                                                                                                                   \n",
      " partofday | day                                                                                                                                                                                                                  \n",
      "-RECORD 19------------------------------------------------------------------------------------------------------------------------------------------------------------------------------------------------------------------------\n",
      " gender    | F                                                                                                                                                                                                                    \n",
      " age       | 18-24                                                                                                                                                                                                                \n",
      " uid       | 075272d2-851b-44a3-a4b0-88090e707390                                                                                                                                                                                 \n",
      " url       | http://https://www.avito.ru/nizhniy_novgorod                                                                                                                                                                         \n",
      " unix      | 1417438908000                                                                                                                                                                                                        \n",
      " site      | avito                                                                                                                                                                                                                \n",
      " section   | nizhniy_novgorod                                                                                                                                                                                                     \n",
      " datetime  | 2014-12-01 16:01:48                                                                                                                                                                                                  \n",
      " dayofweek | Mon                                                                                                                                                                                                                  \n",
      " hourofday | 16                                                                                                                                                                                                                   \n",
      " partofday | day                                                                                                                                                                                                                  \n",
      "-RECORD 20------------------------------------------------------------------------------------------------------------------------------------------------------------------------------------------------------------------------\n",
      " gender    | F                                                                                                                                                                                                                    \n",
      " age       | 18-24                                                                                                                                                                                                                \n",
      " uid       | 075272d2-851b-44a3-a4b0-88090e707390                                                                                                                                                                                 \n",
      " url       | http://https://www.avito.ru/nizhniy_novgorod/predlozheniya_uslug/manipulyator_ot_1_do_10_tonn_423067269                                                                                                              \n",
      " unix      | 1417434727000                                                                                                                                                                                                        \n",
      " site      | avito                                                                                                                                                                                                                \n",
      " section   | nizhniy_novgorod                                                                                                                                                                                                     \n",
      " datetime  | 2014-12-01 14:52:07                                                                                                                                                                                                  \n",
      " dayofweek | Mon                                                                                                                                                                                                                  \n",
      " hourofday | 14                                                                                                                                                                                                                   \n",
      " partofday | day                                                                                                                                                                                                                  \n",
      "-RECORD 21------------------------------------------------------------------------------------------------------------------------------------------------------------------------------------------------------------------------\n",
      " gender    | F                                                                                                                                                                                                                    \n",
      " age       | 18-24                                                                                                                                                                                                                \n",
      " uid       | 075272d2-851b-44a3-a4b0-88090e707390                                                                                                                                                                                 \n",
      " url       | http://https://www.avito.ru/nizhniy_novgorod/predlozheniya_uslug/manipulyator_v_arendu._dlya_nas_vazhen_kazhdyy_klient_470418783                                                                                     \n",
      " unix      | 1417434394000                                                                                                                                                                                                        \n",
      " site      | avito                                                                                                                                                                                                                \n",
      " section   | nizhniy_novgorod                                                                                                                                                                                                     \n",
      " datetime  | 2014-12-01 14:46:34                                                                                                                                                                                                  \n",
      " dayofweek | Mon                                                                                                                                                                                                                  \n",
      " hourofday | 14                                                                                                                                                                                                                   \n",
      " partofday | day                                                                                                                                                                                                                  \n",
      "-RECORD 22------------------------------------------------------------------------------------------------------------------------------------------------------------------------------------------------------------------------\n",
      " gender    | F                                                                                                                                                                                                                    \n",
      " age       | 18-24                                                                                                                                                                                                                \n",
      " uid       | 075272d2-851b-44a3-a4b0-88090e707390                                                                                                                                                                                 \n",
      " url       | http://https://www.avito.ru/nizhniy_novgorod/predlozheniya_uslug/manipulyator_v_arendu._dlya_nas_vazhen_kazhdyy_klient_470418783                                                                                     \n",
      " unix      | 1417434393000                                                                                                                                                                                                        \n",
      " site      | avito                                                                                                                                                                                                                \n",
      " section   | nizhniy_novgorod                                                                                                                                                                                                     \n",
      " datetime  | 2014-12-01 14:46:33                                                                                                                                                                                                  \n",
      " dayofweek | Mon                                                                                                                                                                                                                  \n",
      " hourofday | 14                                                                                                                                                                                                                   \n",
      " partofday | day                                                                                                                                                                                                                  \n",
      "-RECORD 23------------------------------------------------------------------------------------------------------------------------------------------------------------------------------------------------------------------------\n",
      " gender    | F                                                                                                                                                                                                                    \n",
      " age       | 18-24                                                                                                                                                                                                                \n",
      " uid       | 075272d2-851b-44a3-a4b0-88090e707390                                                                                                                                                                                 \n",
      " url       | http://https://www.avito.ru/nizhniy_novgorod                                                                                                                                                                         \n",
      " unix      | 1417434370000                                                                                                                                                                                                        \n",
      " site      | avito                                                                                                                                                                                                                \n",
      " section   | nizhniy_novgorod                                                                                                                                                                                                     \n",
      " datetime  | 2014-12-01 14:46:10                                                                                                                                                                                                  \n",
      " dayofweek | Mon                                                                                                                                                                                                                  \n",
      " hourofday | 14                                                                                                                                                                                                                   \n",
      " partofday | day                                                                                                                                                                                                                  \n",
      "-RECORD 24------------------------------------------------------------------------------------------------------------------------------------------------------------------------------------------------------------------------\n",
      " gender    | F                                                                                                                                                                                                                    \n",
      " age       | 18-24                                                                                                                                                                                                                \n",
      " uid       | 075272d2-851b-44a3-a4b0-88090e707390                                                                                                                                                                                 \n",
      " url       | http://https://www.avito.ru/nizhniy_novgorod                                                                                                                                                                         \n",
      " unix      | 1417434368000                                                                                                                                                                                                        \n",
      " site      | avito                                                                                                                                                                                                                \n",
      " section   | nizhniy_novgorod                                                                                                                                                                                                     \n",
      " datetime  | 2014-12-01 14:46:08                                                                                                                                                                                                  \n",
      " dayofweek | Mon                                                                                                                                                                                                                  \n",
      " hourofday | 14                                                                                                                                                                                                                   \n",
      " partofday | day                                                                                                                                                                                                                  \n",
      "-RECORD 25------------------------------------------------------------------------------------------------------------------------------------------------------------------------------------------------------------------------\n",
      " gender    | F                                                                                                                                                                                                                    \n",
      " age       | 18-24                                                                                                                                                                                                                \n",
      " uid       | 075272d2-851b-44a3-a4b0-88090e707390                                                                                                                                                                                 \n",
      " url       | http://https://www.avito.ru/nizhniy_novgorod                                                                                                                                                                         \n",
      " unix      | 1417434355000                                                                                                                                                                                                        \n",
      " site      | avito                                                                                                                                                                                                                \n",
      " section   | nizhniy_novgorod                                                                                                                                                                                                     \n",
      " datetime  | 2014-12-01 14:45:55                                                                                                                                                                                                  \n",
      " dayofweek | Mon                                                                                                                                                                                                                  \n",
      " hourofday | 14                                                                                                                                                                                                                   \n",
      " partofday | day                                                                                                                                                                                                                  \n",
      "-RECORD 26------------------------------------------------------------------------------------------------------------------------------------------------------------------------------------------------------------------------\n",
      " gender    | F                                                                                                                                                                                                                    \n",
      " age       | 18-24                                                                                                                                                                                                                \n",
      " uid       | 075272d2-851b-44a3-a4b0-88090e707390                                                                                                                                                                                 \n",
      " url       | http://https://www.avito.ru/nizhniy_novgorod/predlozheniya_uslug/arenda_frontalnogo_pogruzchika_lg936_467635085                                                                                                      \n",
      " unix      | 1417434173000                                                                                                                                                                                                        \n",
      " site      | avito                                                                                                                                                                                                                \n",
      " section   | nizhniy_novgorod                                                                                                                                                                                                     \n",
      " datetime  | 2014-12-01 14:42:53                                                                                                                                                                                                  \n",
      " dayofweek | Mon                                                                                                                                                                                                                  \n",
      " hourofday | 14                                                                                                                                                                                                                   \n",
      " partofday | day                                                                                                                                                                                                                  \n",
      "-RECORD 27------------------------------------------------------------------------------------------------------------------------------------------------------------------------------------------------------------------------\n",
      " gender    | F                                                                                                                                                                                                                    \n",
      " age       | 18-24                                                                                                                                                                                                                \n",
      " uid       | 075272d2-851b-44a3-a4b0-88090e707390                                                                                                                                                                                 \n",
      " url       | http://https://www.avito.ru/nizhniy_novgorod/predlozheniya_uslug/arenda_frontalnogo_pogruzchika_lg936_467635085                                                                                                      \n",
      " unix      | 1417434172000                                                                                                                                                                                                        \n",
      " site      | avito                                                                                                                                                                                                                \n",
      " section   | nizhniy_novgorod                                                                                                                                                                                                     \n",
      " datetime  | 2014-12-01 14:42:52                                                                                                                                                                                                  \n",
      " dayofweek | Mon                                                                                                                                                                                                                  \n",
      " hourofday | 14                                                                                                                                                                                                                   \n",
      " partofday | day                                                                                                                                                                                                                  \n",
      "-RECORD 28------------------------------------------------------------------------------------------------------------------------------------------------------------------------------------------------------------------------\n",
      " gender    | F                                                                                                                                                                                                                    \n",
      " age       | 18-24                                                                                                                                                                                                                \n",
      " uid       | 075272d2-851b-44a3-a4b0-88090e707390                                                                                                                                                                                 \n",
      " url       | http://https://www.avito.ru/nizhniy_novgorod                                                                                                                                                                         \n",
      " unix      | 1417434166000                                                                                                                                                                                                        \n",
      " site      | avito                                                                                                                                                                                                                \n",
      " section   | nizhniy_novgorod                                                                                                                                                                                                     \n",
      " datetime  | 2014-12-01 14:42:46                                                                                                                                                                                                  \n",
      " dayofweek | Mon                                                                                                                                                                                                                  \n",
      " hourofday | 14                                                                                                                                                                                                                   \n",
      " partofday | day                                                                                                                                                                                                                  \n",
      "-RECORD 29------------------------------------------------------------------------------------------------------------------------------------------------------------------------------------------------------------------------\n",
      " gender    | F                                                                                                                                                                                                                    \n",
      " age       | 18-24                                                                                                                                                                                                                \n",
      " uid       | 075272d2-851b-44a3-a4b0-88090e707390                                                                                                                                                                                 \n",
      " url       | http://https://www.avito.ru/nizhniy_novgorod?q=%d1%84%d1%80%d0%be%d0%bd%d1%82%d0%b0%d0%bb%d1%8c%d0%bd%d1%8b%d0%b9 %d0%bf%d0%be%d0%b3%d1%80%d1%83%d0%b7%d1%87%d0%b8%d0%ba %d0%b2 %d0%b0%d1%80%d0%b5%d0%bd%d0%b4%d1%83 \n",
      " unix      | 1417433961000                                                                                                                                                                                                        \n",
      " site      | avito                                                                                                                                                                                                                \n",
      " section   | nizhniy_novgorod?q=%d1%84%d1%80%d0%be%d0%bd%d1%82%d0%b0%d0%bb%d1%8c%d0%bd%d1%8b%d0%b9 %d0%bf%d0%be%d0%b3%d1%80%d1%83%d0%b7%d1%87%d0%b8%d0%ba %d0%b2 %d0%b0%d1%80%d0%b5%d0%bd%d0%b4%d1%83                             \n",
      " datetime  | 2014-12-01 14:39:21                                                                                                                                                                                                  \n",
      " dayofweek | Mon                                                                                                                                                                                                                  \n",
      " hourofday | 14                                                                                                                                                                                                                   \n",
      " partofday | day                                                                                                                                                                                                                  \n",
      "-RECORD 30------------------------------------------------------------------------------------------------------------------------------------------------------------------------------------------------------------------------\n",
      " gender    | F                                                                                                                                                                                                                    \n",
      " age       | 18-24                                                                                                                                                                                                                \n",
      " uid       | 075272d2-851b-44a3-a4b0-88090e707390                                                                                                                                                                                 \n",
      " url       | http://https://www.avito.ru/nizhniy_novgorod/predlozheniya_uslug/uslugi_frontalnogo_pogruzchika_caterpillar_955_467562519                                                                                            \n",
      " unix      | 1417433837000                                                                                                                                                                                                        \n",
      " site      | avito                                                                                                                                                                                                                \n",
      " section   | nizhniy_novgorod                                                                                                                                                                                                     \n",
      " datetime  | 2014-12-01 14:37:17                                                                                                                                                                                                  \n",
      " dayofweek | Mon                                                                                                                                                                                                                  \n",
      " hourofday | 14                                                                                                                                                                                                                   \n",
      " partofday | day                                                                                                                                                                                                                  \n",
      "-RECORD 31------------------------------------------------------------------------------------------------------------------------------------------------------------------------------------------------------------------------\n",
      " gender    | F                                                                                                                                                                                                                    \n",
      " age       | 18-24                                                                                                                                                                                                                \n",
      " uid       | 075272d2-851b-44a3-a4b0-88090e707390                                                                                                                                                                                 \n",
      " url       | http://https://www.avito.ru/nizhniy_novgorod                                                                                                                                                                         \n",
      " unix      | 1417433824000                                                                                                                                                                                                        \n",
      " site      | avito                                                                                                                                                                                                                \n",
      " section   | nizhniy_novgorod                                                                                                                                                                                                     \n",
      " datetime  | 2014-12-01 14:37:04                                                                                                                                                                                                  \n",
      " dayofweek | Mon                                                                                                                                                                                                                  \n",
      " hourofday | 14                                                                                                                                                                                                                   \n",
      " partofday | day                                                                                                                                                                                                                  \n",
      "-RECORD 32------------------------------------------------------------------------------------------------------------------------------------------------------------------------------------------------------------------------\n",
      " gender    | F                                                                                                                                                                                                                    \n",
      " age       | 18-24                                                                                                                                                                                                                \n",
      " uid       | 075272d2-851b-44a3-a4b0-88090e707390                                                                                                                                                                                 \n",
      " url       | http://https://www.avito.ru/nizhniy_novgorod/predlozheniya_uslug/sdaem_v_arendu_ekskavatory_pogruzchiki_468852948                                                                                                    \n",
      " unix      | 1417433793000                                                                                                                                                                                                        \n",
      " site      | avito                                                                                                                                                                                                                \n",
      " section   | nizhniy_novgorod                                                                                                                                                                                                     \n",
      " datetime  | 2014-12-01 14:36:33                                                                                                                                                                                                  \n",
      " dayofweek | Mon                                                                                                                                                                                                                  \n",
      " hourofday | 14                                                                                                                                                                                                                   \n",
      " partofday | day                                                                                                                                                                                                                  \n",
      "-RECORD 33------------------------------------------------------------------------------------------------------------------------------------------------------------------------------------------------------------------------\n",
      " gender    | F                                                                                                                                                                                                                    \n",
      " age       | 18-24                                                                                                                                                                                                                \n",
      " uid       | 075272d2-851b-44a3-a4b0-88090e707390                                                                                                                                                                                 \n",
      " url       | http://https://www.avito.ru/nizhniy_novgorod                                                                                                                                                                         \n",
      " unix      | 1417433783000                                                                                                                                                                                                        \n",
      " site      | avito                                                                                                                                                                                                                \n",
      " section   | nizhniy_novgorod                                                                                                                                                                                                     \n",
      " datetime  | 2014-12-01 14:36:23                                                                                                                                                                                                  \n",
      " dayofweek | Mon                                                                                                                                                                                                                  \n",
      " hourofday | 14                                                                                                                                                                                                                   \n",
      " partofday | day                                                                                                                                                                                                                  \n",
      "-RECORD 34------------------------------------------------------------------------------------------------------------------------------------------------------------------------------------------------------------------------\n",
      " gender    | F                                                                                                                                                                                                                    \n",
      " age       | 18-24                                                                                                                                                                                                                \n",
      " uid       | 075272d2-851b-44a3-a4b0-88090e707390                                                                                                                                                                                 \n",
      " url       | http://https://www.avito.ru/nizhniy_novgorod/predlozheniya_uslug/pogruzka_i_planirovka_468940527                                                                                                                     \n",
      " unix      | 1417433777000                                                                                                                                                                                                        \n",
      " site      | avito                                                                                                                                                                                                                \n",
      " section   | nizhniy_novgorod                                                                                                                                                                                                     \n",
      " datetime  | 2014-12-01 14:36:17                                                                                                                                                                                                  \n",
      " dayofweek | Mon                                                                                                                                                                                                                  \n",
      " hourofday | 14                                                                                                                                                                                                                   \n",
      " partofday | day                                                                                                                                                                                                                  \n",
      "-RECORD 35------------------------------------------------------------------------------------------------------------------------------------------------------------------------------------------------------------------------\n",
      " gender    | F                                                                                                                                                                                                                    \n",
      " age       | 18-24                                                                                                                                                                                                                \n",
      " uid       | 075272d2-851b-44a3-a4b0-88090e707390                                                                                                                                                                                 \n",
      " url       | http://https://www.avito.ru/nizhniy_novgorod/predlozheniya_uslug/pogruzka_i_planirovka_468940527                                                                                                                     \n",
      " unix      | 1417433776000                                                                                                                                                                                                        \n",
      " site      | avito                                                                                                                                                                                                                \n",
      " section   | nizhniy_novgorod                                                                                                                                                                                                     \n",
      " datetime  | 2014-12-01 14:36:16                                                                                                                                                                                                  \n",
      " dayofweek | Mon                                                                                                                                                                                                                  \n",
      " hourofday | 14                                                                                                                                                                                                                   \n",
      " partofday | day                                                                                                                                                                                                                  \n",
      "-RECORD 36------------------------------------------------------------------------------------------------------------------------------------------------------------------------------------------------------------------------\n",
      " gender    | F                                                                                                                                                                                                                    \n",
      " age       | 18-24                                                                                                                                                                                                                \n",
      " uid       | 075272d2-851b-44a3-a4b0-88090e707390                                                                                                                                                                                 \n",
      " url       | http://https://www.avito.ru/nizhniy_novgorod                                                                                                                                                                         \n",
      " unix      | 1417433681000                                                                                                                                                                                                        \n",
      " site      | avito                                                                                                                                                                                                                \n",
      " section   | nizhniy_novgorod                                                                                                                                                                                                     \n",
      " datetime  | 2014-12-01 14:34:41                                                                                                                                                                                                  \n",
      " dayofweek | Mon                                                                                                                                                                                                                  \n",
      " hourofday | 14                                                                                                                                                                                                                   \n",
      " partofday | day                                                                                                                                                                                                                  \n",
      "-RECORD 37------------------------------------------------------------------------------------------------------------------------------------------------------------------------------------------------------------------------\n",
      " gender    | F                                                                                                                                                                                                                    \n",
      " age       | 18-24                                                                                                                                                                                                                \n",
      " uid       | 075272d2-851b-44a3-a4b0-88090e707390                                                                                                                                                                                 \n",
      " url       | http://https://www.avito.ru/nizhniy_novgorod/predlozheniya_uslug/frontalnyy_pogruzchik_v_arendu_291168067                                                                                                            \n",
      " unix      | 1417433677000                                                                                                                                                                                                        \n",
      " site      | avito                                                                                                                                                                                                                \n",
      " section   | nizhniy_novgorod                                                                                                                                                                                                     \n",
      " datetime  | 2014-12-01 14:34:37                                                                                                                                                                                                  \n",
      " dayofweek | Mon                                                                                                                                                                                                                  \n",
      " hourofday | 14                                                                                                                                                                                                                   \n",
      " partofday | day                                                                                                                                                                                                                  \n",
      "-RECORD 38------------------------------------------------------------------------------------------------------------------------------------------------------------------------------------------------------------------------\n",
      " gender    | F                                                                                                                                                                                                                    \n",
      " age       | 18-24                                                                                                                                                                                                                \n",
      " uid       | 075272d2-851b-44a3-a4b0-88090e707390                                                                                                                                                                                 \n",
      " url       | http://https://www.avito.ru/nizhniy_novgorod                                                                                                                                                                         \n",
      " unix      | 1417433449000                                                                                                                                                                                                        \n",
      " site      | avito                                                                                                                                                                                                                \n",
      " section   | nizhniy_novgorod                                                                                                                                                                                                     \n",
      " datetime  | 2014-12-01 14:30:49                                                                                                                                                                                                  \n",
      " dayofweek | Mon                                                                                                                                                                                                                  \n",
      " hourofday | 14                                                                                                                                                                                                                   \n",
      " partofday | day                                                                                                                                                                                                                  \n",
      "-RECORD 39------------------------------------------------------------------------------------------------------------------------------------------------------------------------------------------------------------------------\n",
      " gender    | F                                                                                                                                                                                                                    \n",
      " age       | 18-24                                                                                                                                                                                                                \n",
      " uid       | 075272d2-851b-44a3-a4b0-88090e707390                                                                                                                                                                                 \n",
      " url       | http://https://www.avito.ru/nizhniy_novgorod                                                                                                                                                                         \n",
      " unix      | 1417433447000                                                                                                                                                                                                        \n",
      " site      | avito                                                                                                                                                                                                                \n",
      " section   | nizhniy_novgorod                                                                                                                                                                                                     \n",
      " datetime  | 2014-12-01 14:30:47                                                                                                                                                                                                  \n",
      " dayofweek | Mon                                                                                                                                                                                                                  \n",
      " hourofday | 14                                                                                                                                                                                                                   \n",
      " partofday | day                                                                                                                                                                                                                  \n",
      "-RECORD 40------------------------------------------------------------------------------------------------------------------------------------------------------------------------------------------------------------------------\n",
      " gender    | F                                                                                                                                                                                                                    \n",
      " age       | 18-24                                                                                                                                                                                                                \n",
      " uid       | 075272d2-851b-44a3-a4b0-88090e707390                                                                                                                                                                                 \n",
      " url       | http://https://www.avito.ru/nizhniy_novgorod                                                                                                                                                                         \n",
      " unix      | 1417433426000                                                                                                                                                                                                        \n",
      " site      | avito                                                                                                                                                                                                                \n",
      " section   | nizhniy_novgorod                                                                                                                                                                                                     \n",
      " datetime  | 2014-12-01 14:30:26                                                                                                                                                                                                  \n",
      " dayofweek | Mon                                                                                                                                                                                                                  \n",
      " hourofday | 14                                                                                                                                                                                                                   \n",
      " partofday | day                                                                                                                                                                                                                  \n",
      "-RECORD 41------------------------------------------------------------------------------------------------------------------------------------------------------------------------------------------------------------------------\n",
      " gender    | F                                                                                                                                                                                                                    \n",
      " age       | 18-24                                                                                                                                                                                                                \n",
      " uid       | 075272d2-851b-44a3-a4b0-88090e707390                                                                                                                                                                                 \n",
      " url       | http://https://www.avito.ru/nizhniy_novgorod                                                                                                                                                                         \n",
      " unix      | 1417433425000                                                                                                                                                                                                        \n",
      " site      | avito                                                                                                                                                                                                                \n",
      " section   | nizhniy_novgorod                                                                                                                                                                                                     \n",
      " datetime  | 2014-12-01 14:30:25                                                                                                                                                                                                  \n",
      " dayofweek | Mon                                                                                                                                                                                                                  \n",
      " hourofday | 14                                                                                                                                                                                                                   \n",
      " partofday | day                                                                                                                                                                                                                  \n",
      "-RECORD 42------------------------------------------------------------------------------------------------------------------------------------------------------------------------------------------------------------------------\n",
      " gender    | F                                                                                                                                                                                                                    \n",
      " age       | 18-24                                                                                                                                                                                                                \n",
      " uid       | 075272d2-851b-44a3-a4b0-88090e707390                                                                                                                                                                                 \n",
      " url       | http://https://www.avito.ru/nizhniy_novgorod                                                                                                                                                                         \n",
      " unix      | 1417433221000                                                                                                                                                                                                        \n",
      " site      | avito                                                                                                                                                                                                                \n",
      " section   | nizhniy_novgorod                                                                                                                                                                                                     \n",
      " datetime  | 2014-12-01 14:27:01                                                                                                                                                                                                  \n",
      " dayofweek | Mon                                                                                                                                                                                                                  \n",
      " hourofday | 14                                                                                                                                                                                                                   \n",
      " partofday | day                                                                                                                                                                                                                  \n",
      "-RECORD 43------------------------------------------------------------------------------------------------------------------------------------------------------------------------------------------------------------------------\n",
      " gender    | F                                                                                                                                                                                                                    \n",
      " age       | 18-24                                                                                                                                                                                                                \n",
      " uid       | 075272d2-851b-44a3-a4b0-88090e707390                                                                                                                                                                                 \n",
      " url       | http://https://www.avito.ru/nizhniy_novgorod                                                                                                                                                                         \n",
      " unix      | 1417433205000                                                                                                                                                                                                        \n",
      " site      | avito                                                                                                                                                                                                                \n",
      " section   | nizhniy_novgorod                                                                                                                                                                                                     \n",
      " datetime  | 2014-12-01 14:26:45                                                                                                                                                                                                  \n",
      " dayofweek | Mon                                                                                                                                                                                                                  \n",
      " hourofday | 14                                                                                                                                                                                                                   \n",
      " partofday | day                                                                                                                                                                                                                  \n",
      "-RECORD 44------------------------------------------------------------------------------------------------------------------------------------------------------------------------------------------------------------------------\n",
      " gender    | F                                                                                                                                                                                                                    \n",
      " age       | 18-24                                                                                                                                                                                                                \n",
      " uid       | 075272d2-851b-44a3-a4b0-88090e707390                                                                                                                                                                                 \n",
      " url       | http://https://www.avito.ru/nizhniy_novgorod/predlozheniya_uslug/uslugi_samosvala_grunt_pesok_opgs_zemlya_341986427                                                                                                  \n",
      " unix      | 1417433112000                                                                                                                                                                                                        \n",
      " site      | avito                                                                                                                                                                                                                \n",
      " section   | nizhniy_novgorod                                                                                                                                                                                                     \n",
      " datetime  | 2014-12-01 14:25:12                                                                                                                                                                                                  \n",
      " dayofweek | Mon                                                                                                                                                                                                                  \n",
      " hourofday | 14                                                                                                                                                                                                                   \n",
      " partofday | day                                                                                                                                                                                                                  \n",
      "-RECORD 45------------------------------------------------------------------------------------------------------------------------------------------------------------------------------------------------------------------------\n",
      " gender    | F                                                                                                                                                                                                                    \n",
      " age       | 18-24                                                                                                                                                                                                                \n",
      " uid       | 075272d2-851b-44a3-a4b0-88090e707390                                                                                                                                                                                 \n",
      " url       | http://https://www.avito.ru/nizhniy_novgorod/predlozheniya_uslug/samosval_15t_282609346                                                                                                                              \n",
      " unix      | 1417433090000                                                                                                                                                                                                        \n",
      " site      | avito                                                                                                                                                                                                                \n",
      " section   | nizhniy_novgorod                                                                                                                                                                                                     \n",
      " datetime  | 2014-12-01 14:24:50                                                                                                                                                                                                  \n",
      " dayofweek | Mon                                                                                                                                                                                                                  \n",
      " hourofday | 14                                                                                                                                                                                                                   \n",
      " partofday | day                                                                                                                                                                                                                  \n",
      "-RECORD 46------------------------------------------------------------------------------------------------------------------------------------------------------------------------------------------------------------------------\n",
      " gender    | F                                                                                                                                                                                                                    \n",
      " age       | 18-24                                                                                                                                                                                                                \n",
      " uid       | 075272d2-851b-44a3-a4b0-88090e707390                                                                                                                                                                                 \n",
      " url       | http://https://www.avito.ru/nizhniy_novgorod/predlozheniya_uslug/samosval_15t_282609346                                                                                                                              \n",
      " unix      | 1417433089000                                                                                                                                                                                                        \n",
      " site      | avito                                                                                                                                                                                                                \n",
      " section   | nizhniy_novgorod                                                                                                                                                                                                     \n",
      " datetime  | 2014-12-01 14:24:49                                                                                                                                                                                                  \n",
      " dayofweek | Mon                                                                                                                                                                                                                  \n",
      " hourofday | 14                                                                                                                                                                                                                   \n",
      " partofday | day                                                                                                                                                                                                                  \n",
      "-RECORD 47------------------------------------------------------------------------------------------------------------------------------------------------------------------------------------------------------------------------\n",
      " gender    | F                                                                                                                                                                                                                    \n",
      " age       | 18-24                                                                                                                                                                                                                \n",
      " uid       | 075272d2-851b-44a3-a4b0-88090e707390                                                                                                                                                                                 \n",
      " url       | http://https://www.avito.ru/nizhniy_novgorod                                                                                                                                                                         \n",
      " unix      | 1417433087000                                                                                                                                                                                                        \n",
      " site      | avito                                                                                                                                                                                                                \n",
      " section   | nizhniy_novgorod                                                                                                                                                                                                     \n",
      " datetime  | 2014-12-01 14:24:47                                                                                                                                                                                                  \n",
      " dayofweek | Mon                                                                                                                                                                                                                  \n",
      " hourofday | 14                                                                                                                                                                                                                   \n",
      " partofday | day                                                                                                                                                                                                                  \n",
      "-RECORD 48------------------------------------------------------------------------------------------------------------------------------------------------------------------------------------------------------------------------\n",
      " gender    | F                                                                                                                                                                                                                    \n",
      " age       | 18-24                                                                                                                                                                                                                \n",
      " uid       | 075272d2-851b-44a3-a4b0-88090e707390                                                                                                                                                                                 \n",
      " url       | http://https://www.avito.ru/nizhniy_novgorod                                                                                                                                                                         \n",
      " unix      | 1417433085000                                                                                                                                                                                                        \n",
      " site      | avito                                                                                                                                                                                                                \n",
      " section   | nizhniy_novgorod                                                                                                                                                                                                     \n",
      " datetime  | 2014-12-01 14:24:45                                                                                                                                                                                                  \n",
      " dayofweek | Mon                                                                                                                                                                                                                  \n",
      " hourofday | 14                                                                                                                                                                                                                   \n",
      " partofday | day                                                                                                                                                                                                                  \n",
      "-RECORD 49------------------------------------------------------------------------------------------------------------------------------------------------------------------------------------------------------------------------\n",
      " gender    | F                                                                                                                                                                                                                    \n",
      " age       | 18-24                                                                                                                                                                                                                \n",
      " uid       | 075272d2-851b-44a3-a4b0-88090e707390                                                                                                                                                                                 \n",
      " url       | http://https://www.avito.ru/nizhniy_novgorod/predlozheniya_uslug/vyvoz_snega_musora._dostavka_peskosmesi_kamaz_do15_438844295                                                                                        \n",
      " unix      | 1417433079000                                                                                                                                                                                                        \n",
      " site      | avito                                                                                                                                                                                                                \n",
      " section   | nizhniy_novgorod                                                                                                                                                                                                     \n",
      " datetime  | 2014-12-01 14:24:39                                                                                                                                                                                                  \n",
      " dayofweek | Mon                                                                                                                                                                                                                  \n",
      " hourofday | 14                                                                                                                                                                                                                   \n",
      " partofday | day                                                                                                                                                                                                                  \n",
      "only showing top 50 rows\n",
      "\n"
     ]
    }
   ],
   "source": [
    "sdf \\\n",
    "    .filter(sdf.uid == '075272d2-851b-44a3-a4b0-88090e707390') \\\n",
    "    .show(50, vertical=True, truncate=500)"
   ]
  },
  {
   "cell_type": "code",
   "execution_count": 15,
   "metadata": {
    "ExecuteTime": {
     "end_time": "2022-11-06T11:44:17.734079Z",
     "start_time": "2022-11-06T11:44:17.721335Z"
    }
   },
   "outputs": [],
   "source": [
    "sdf = sdf.filter((sdf.gender != '-')&(sdf.age != '-'))"
   ]
  },
  {
   "cell_type": "code",
   "execution_count": 16,
   "metadata": {
    "ExecuteTime": {
     "end_time": "2022-11-06T11:44:17.768317Z",
     "start_time": "2022-11-06T11:44:17.735479Z"
    }
   },
   "outputs": [],
   "source": [
    "sdf = sdf \\\n",
    "    .groupBy(\"gender\", \"age\", \n",
    "             \"uid\"\n",
    "#              \"partofday\", \n",
    "#              \"dayofweek\"\n",
    "            ) \\\n",
    "    .agg(collect_list(\"site\").alias(\"sites\")\n",
    "#          collect_list(\"section\").alias(\"sections\")\n",
    "        ) "
   ]
  },
  {
   "cell_type": "code",
   "execution_count": 17,
   "metadata": {
    "ExecuteTime": {
     "end_time": "2022-11-06T11:44:17.886930Z",
     "start_time": "2022-11-06T11:44:17.769952Z"
    }
   },
   "outputs": [],
   "source": [
    "sdf = sdf.cache()"
   ]
  },
  {
   "cell_type": "code",
   "execution_count": 280,
   "metadata": {
    "ExecuteTime": {
     "end_time": "2022-11-06T04:25:51.360138Z",
     "start_time": "2022-11-06T04:25:03.126067Z"
    }
   },
   "outputs": [
    {
     "data": {
      "text/plain": [
       "[Row(gender='F'), Row(gender='M')]"
      ]
     },
     "execution_count": 280,
     "metadata": {},
     "output_type": "execute_result"
    }
   ],
   "source": [
    "sdf.select('gender').distinct().collect()"
   ]
  },
  {
   "cell_type": "code",
   "execution_count": 19,
   "metadata": {
    "ExecuteTime": {
     "end_time": "2022-11-06T11:45:52.649801Z",
     "start_time": "2022-11-06T11:45:51.036727Z"
    }
   },
   "outputs": [],
   "source": [
    "# hasher = FeatureHasher(inputCols=['sites', 'sections', 'partofday', 'dayofweek'], outputCol=\"features\")\n",
    "hashing_TF1 = HashingTF(inputCol=\"sites\", outputCol=\"rawFeatures1\", numFeatures=5000, binary=False)\n",
    "index_age = StringIndexer(inputCol=\"age\", outputCol=\"ageIndex\").fit(sdf)\n",
    "index_gender = StringIndexer(inputCol=\"gender\", outputCol=\"genderIndex\").fit(sdf)"
   ]
  },
  {
   "cell_type": "code",
   "execution_count": 20,
   "metadata": {
    "ExecuteTime": {
     "end_time": "2022-11-06T11:45:52.952630Z",
     "start_time": "2022-11-06T11:45:52.928874Z"
    }
   },
   "outputs": [],
   "source": [
    "rf_age = RandomForestClassifier(featuresCol = 'rawFeatures1', labelCol = 'ageIndex', numTrees=10,\n",
    "            predictionCol=\"ageIndexPred\", \n",
    "            rawPredictionCol=\"ageIndexRawPrediction\",\n",
    "            probabilityCol = \"ageProbab\")"
   ]
  },
  {
   "cell_type": "code",
   "execution_count": 21,
   "metadata": {
    "ExecuteTime": {
     "end_time": "2022-11-06T11:45:54.672977Z",
     "start_time": "2022-11-06T11:45:54.667217Z"
    }
   },
   "outputs": [],
   "source": [
    "rf_gender = RandomForestClassifier(featuresCol = 'rawFeatures1', labelCol = 'genderIndex', numTrees=10,\n",
    "            predictionCol=\"genderIndexPred\", \n",
    "            rawPredictionCol=\"genderIndexRawPrediction\",\n",
    "            probabilityCol = \"genderProb\")"
   ]
  },
  {
   "cell_type": "code",
   "execution_count": 24,
   "metadata": {
    "ExecuteTime": {
     "end_time": "2022-11-06T11:46:13.164973Z",
     "start_time": "2022-11-06T11:46:13.156101Z"
    }
   },
   "outputs": [],
   "source": [
    "convertAge = IndexToString(inputCol=\"ageIndexPred\", outputCol=\"predAge\", labels=index_age.labels)"
   ]
  },
  {
   "cell_type": "code",
   "execution_count": 25,
   "metadata": {
    "ExecuteTime": {
     "end_time": "2022-11-06T11:46:13.899128Z",
     "start_time": "2022-11-06T11:46:13.889363Z"
    }
   },
   "outputs": [],
   "source": [
    "convertGender = IndexToString(inputCol=\"genderIndexPred\", outputCol=\"predGender\", labels=index_gender.labels)"
   ]
  },
  {
   "cell_type": "code",
   "execution_count": 26,
   "metadata": {
    "ExecuteTime": {
     "end_time": "2022-11-06T11:46:27.237805Z",
     "start_time": "2022-11-06T11:46:27.235090Z"
    }
   },
   "outputs": [],
   "source": [
    "pipeline = Pipeline(stages=[hashing_TF1, index_age, index_gender, rf_age, rf_gender, \n",
    "                            convertAge, convertGender])"
   ]
  },
  {
   "cell_type": "code",
   "execution_count": 27,
   "metadata": {
    "ExecuteTime": {
     "end_time": "2022-11-06T11:46:29.915833Z",
     "start_time": "2022-11-06T11:46:29.894132Z"
    }
   },
   "outputs": [],
   "source": [
    "X_train, X_test = sdf \\\n",
    "                .randomSplit([0.8, 0.2], seed=88)"
   ]
  },
  {
   "cell_type": "code",
   "execution_count": 28,
   "metadata": {
    "ExecuteTime": {
     "end_time": "2022-11-06T11:47:41.871229Z",
     "start_time": "2022-11-06T11:46:30.884690Z"
    }
   },
   "outputs": [],
   "source": [
    "model = pipeline.fit(X_train)"
   ]
  },
  {
   "cell_type": "code",
   "execution_count": 29,
   "metadata": {
    "ExecuteTime": {
     "end_time": "2022-11-06T11:47:41.981964Z",
     "start_time": "2022-11-06T11:47:41.872735Z"
    }
   },
   "outputs": [],
   "source": [
    "predictions = model.transform(X_test)"
   ]
  },
  {
   "cell_type": "code",
   "execution_count": 30,
   "metadata": {
    "ExecuteTime": {
     "end_time": "2022-11-06T11:47:46.100253Z",
     "start_time": "2022-11-06T11:47:41.983476Z"
    }
   },
   "outputs": [
    {
     "name": "stdout",
     "output_type": "stream",
     "text": [
      "Age accuracy = 0.4273468823448085\n",
      "Gender accuracy = 0.5516383243467441\n"
     ]
    }
   ],
   "source": [
    "evaluator_age = MulticlassClassificationEvaluator(\n",
    "    labelCol=\"ageIndex\", predictionCol=\"ageIndexPred\", metricName=\"accuracy\")\n",
    "accuracy_age = evaluator_age.evaluate(predictions)\n",
    "evaluator_gender = MulticlassClassificationEvaluator(\n",
    "    labelCol=\"genderIndex\", predictionCol=\"genderIndexPred\", metricName=\"accuracy\")\n",
    "accuracy_gender = evaluator_gender.evaluate(predictions)\n",
    "\n",
    "print(\"Age accuracy = \" + str(accuracy_age))\n",
    "print(\"Gender accuracy = \" + str(accuracy_gender))"
   ]
  },
  {
   "cell_type": "code",
   "execution_count": 31,
   "metadata": {
    "ExecuteTime": {
     "end_time": "2022-11-06T11:47:49.592976Z",
     "start_time": "2022-11-06T11:47:46.101659Z"
    }
   },
   "outputs": [],
   "source": [
    "model.write().overwrite().save(\"/user/gusel.nurtdinova/lab04_mdl\")"
   ]
  },
  {
   "cell_type": "code",
   "execution_count": null,
   "metadata": {},
   "outputs": [],
   "source": []
  },
  {
   "cell_type": "code",
   "execution_count": null,
   "metadata": {},
   "outputs": [],
   "source": []
  },
  {
   "cell_type": "code",
   "execution_count": 33,
   "metadata": {
    "ExecuteTime": {
     "end_time": "2022-11-06T11:49:01.900065Z",
     "start_time": "2022-11-06T11:49:01.892725Z"
    }
   },
   "outputs": [],
   "source": [
    "read_kafka_params = {\n",
    "    \"kafka.bootstrap.servers\": 'spark-master-1.newprolab.com:6667',\n",
    "    \"subscribe\": \"input_gusel.nurtdinova\",\n",
    "    \"startingOffsets\": \"earliest\",\n",
    "    \"failOnDataLoss\": \"False\"\n",
    "}\n",
    "kafka_sdf = spark.read.format(\"kafka\").options(**read_kafka_params).load()"
   ]
  },
  {
   "cell_type": "code",
   "execution_count": 34,
   "metadata": {
    "ExecuteTime": {
     "end_time": "2022-11-06T11:49:03.450849Z",
     "start_time": "2022-11-06T11:49:03.429326Z"
    }
   },
   "outputs": [],
   "source": [
    "uid_schema = T.StructType([\n",
    "    T.StructField('uid', T.StringType(), True),\n",
    "    T.StructField('visits', T.StringType(), True)])\n",
    "\n",
    "\n",
    "url_schema = T.ArrayType(\n",
    "    T.StructType([\n",
    "        T.StructField('url', T.StringType(), True),\n",
    "        T.StructField('timestamp', T.LongType(), True)]))\n",
    "\n",
    "\n",
    "kfk_df = (\n",
    "    kafka_sdf\n",
    "    .select(F.col('value').cast('string').alias('value'))\n",
    "    .select(F.from_json(F.col('value'), uid_schema).alias('event'))\n",
    "    .select(\n",
    "        'event.uid', \n",
    "        F.from_json(F.col('event.visits'), url_schema).alias('visits')\n",
    "    )\n",
    ")"
   ]
  },
  {
   "cell_type": "code",
   "execution_count": 35,
   "metadata": {
    "ExecuteTime": {
     "end_time": "2022-11-06T11:49:05.229403Z",
     "start_time": "2022-11-06T11:49:05.227287Z"
    }
   },
   "outputs": [],
   "source": [
    "from pyspark.ml import Pipeline, PipelineModel"
   ]
  },
  {
   "cell_type": "code",
   "execution_count": 36,
   "metadata": {
    "ExecuteTime": {
     "end_time": "2022-11-06T11:49:31.670056Z",
     "start_time": "2022-11-06T11:49:05.983175Z"
    }
   },
   "outputs": [],
   "source": [
    "modelpl = PipelineModel.load(\"/user/gusel.nurtdinova/lab04_mdl\")"
   ]
  },
  {
   "cell_type": "code",
   "execution_count": 37,
   "metadata": {
    "ExecuteTime": {
     "end_time": "2022-11-06T11:49:31.770985Z",
     "start_time": "2022-11-06T11:49:31.671956Z"
    }
   },
   "outputs": [],
   "source": [
    "prep_df = kfk_df \\\n",
    "    .withColumn(\"visit\", explode(\"visits\")) \\\n",
    "    .withColumn('site', split(regexp_replace(F.col('visit.url'),'http://|https://|www.|.ru|.com|.html',''),'/').getItem(0)) \\\n",
    "    .drop(\"visits\", \"visit\") \\\n",
    "    .groupBy(\"uid\") \\\n",
    "    .agg(collect_list(\"site\").alias(\"sites\"))\n",
    "\n",
    "predictions_df = modelpl.transform(prep_df) \\\n",
    "    .select(\"uid\", \"predGender\", \"predAge\") \\\n",
    "    .withColumnRenamed(\"predAge\",\"age\") \\\n",
    "    .withColumnRenamed(\"predGender\",\"gender\")"
   ]
  },
  {
   "cell_type": "code",
   "execution_count": 38,
   "metadata": {
    "ExecuteTime": {
     "end_time": "2022-11-06T11:49:31.788963Z",
     "start_time": "2022-11-06T11:49:31.772645Z"
    }
   },
   "outputs": [],
   "source": [
    "kfk_out_df = (\n",
    "    predictions_df.select(F.to_json(F.struct(*predictions_df.columns)).alias('value'))\n",
    ")"
   ]
  },
  {
   "cell_type": "code",
   "execution_count": 39,
   "metadata": {
    "ExecuteTime": {
     "end_time": "2022-11-06T11:50:10.438238Z",
     "start_time": "2022-11-06T11:49:48.109518Z"
    }
   },
   "outputs": [],
   "source": [
    "(\n",
    "    kfk_out_df\n",
    "    .write\n",
    "    .format('kafka')\n",
    "    .option('kafka.bootstrap.servers', 'spark-master-1.newprolab.com:6667')\n",
    "    .option('topic', 'gusel.nurtdinova')\n",
    "    .save()\n",
    ")"
   ]
  },
  {
   "cell_type": "code",
   "execution_count": 40,
   "metadata": {
    "ExecuteTime": {
     "end_time": "2022-11-06T11:50:10.457965Z",
     "start_time": "2022-11-06T11:50:10.439734Z"
    }
   },
   "outputs": [],
   "source": [
    "kafka_stream = (\n",
    "    spark\n",
    "    .readStream\n",
    "    .format(\"kafka\").options(**read_kafka_params).load())"
   ]
  },
  {
   "cell_type": "code",
   "execution_count": 41,
   "metadata": {
    "ExecuteTime": {
     "end_time": "2022-11-06T11:50:10.471912Z",
     "start_time": "2022-11-06T11:50:10.459495Z"
    }
   },
   "outputs": [],
   "source": [
    "kafka_write_stream = (\n",
    "    predictions_df\n",
    "    .select(F.to_json(F.struct(*predictions_df.columns)).alias('value'))\n",
    "    .write\n",
    "    .format(\"kafka\")\n",
    "    .option(\"checkpointLocation\", \"streaming/chk/chk_kafka\")\n",
    "    .option(\"kafka.bootstrap.servers\", 'spark-master-1.newprolab.com:6667')\n",
    "    .option(\"topic\", 'gusel.nurtdinova')\n",
    ")"
   ]
  },
  {
   "cell_type": "code",
   "execution_count": 65,
   "metadata": {
    "ExecuteTime": {
     "end_time": "2022-11-06T09:42:26.448572Z",
     "start_time": "2022-11-06T09:42:13.483455Z"
    }
   },
   "outputs": [
    {
     "name": "stdout",
     "output_type": "stream",
     "text": [
      "+-------------------------------------------------------------------------+\n",
      "|                                                                    value|\n",
      "+-------------------------------------------------------------------------+\n",
      "|{\"uid\":\"0108d217-e476-493d-8c81-a9744f12451a\",\"gender\":\"M\",\"age\":\"25-34\"}|\n",
      "|{\"uid\":\"0192cc54-559c-4c8e-89b4-5f4bf31e4245\",\"gender\":\"M\",\"age\":\"25-34\"}|\n",
      "|{\"uid\":\"019acd5e-be9a-4cde-8280-0d2376dc016d\",\"gender\":\"M\",\"age\":\"25-34\"}|\n",
      "|{\"uid\":\"02e7f830-da57-4d57-a916-10ff45f5de7b\",\"gender\":\"M\",\"age\":\"25-34\"}|\n",
      "|{\"uid\":\"1d160259-73d8-4514-911e-757042b22812\",\"gender\":\"M\",\"age\":\"25-34\"}|\n",
      "|{\"uid\":\"1e14a504-276e-4489-b5c5-481d3ea9097f\",\"gender\":\"M\",\"age\":\"25-34\"}|\n",
      "|{\"uid\":\"1eb313db-34ff-4bfb-a026-142e5d7ecd7a\",\"gender\":\"M\",\"age\":\"25-34\"}|\n",
      "|{\"uid\":\"1eff6e4f-3b8a-447d-a803-225b67d5b53e\",\"gender\":\"M\",\"age\":\"25-34\"}|\n",
      "|{\"uid\":\"3e75c432-cb78-4888-99ab-5ec1af3900be\",\"gender\":\"M\",\"age\":\"25-34\"}|\n",
      "|{\"uid\":\"47565df3-13e3-4609-948c-b0853f66d773\",\"gender\":\"M\",\"age\":\"25-34\"}|\n",
      "+-------------------------------------------------------------------------+\n",
      "only showing top 10 rows\n",
      "\n"
     ]
    }
   ],
   "source": [
    "kfk_out_df.show(10, truncate=500)"
   ]
  },
  {
   "cell_type": "code",
   "execution_count": null,
   "metadata": {},
   "outputs": [],
   "source": []
  }
 ],
 "metadata": {
  "kernelspec": {
   "display_name": "Python 3",
   "language": "python",
   "name": "python3"
  },
  "language_info": {
   "codemirror_mode": {
    "name": "ipython",
    "version": 3
   },
   "file_extension": ".py",
   "mimetype": "text/x-python",
   "name": "python",
   "nbconvert_exporter": "python",
   "pygments_lexer": "ipython3",
   "version": "3.6.5"
  }
 },
 "nbformat": 4,
 "nbformat_minor": 2
}
