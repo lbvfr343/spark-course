{
 "cells": [
  {
   "cell_type": "code",
   "execution_count": null,
   "metadata": {},
   "outputs": [],
   "source": [
    "import os\n",
    "import sys\n",
    "os.environ[\"PYSPARK_PYTHON\"]='/opt/anaconda/envs/bd9/bin/python'\n",
    "os.environ[\"SPARK_HOME\"]='/usr/hdp/current/spark2-client'\n",
    "os.environ[\"PYSPARK_SUBMIT_ARGS\"]='--num-executors 2 pyspark-shell'\n",
    "\n",
    "spark_home = os.environ.get('SPARK_HOME', None)\n",
    "if not spark_home:\n",
    "    raise ValueError('SPARK_HOME environment variable is not set')\n",
    "\n",
    "sys.path.insert(0, os.path.join(spark_home, 'python'))\n",
    "sys.path.insert(0, os.path.join(spark_home, 'python/lib/py4j-0.10.7-src.zip'))\n",
    "exec(open(os.path.join(spark_home, 'python/pyspark/shell.py')).read())"
   ]
  },
  {
   "cell_type": "code",
   "execution_count": null,
   "metadata": {},
   "outputs": [],
   "source": [
    "from pyspark import SparkConf\n",
    "from pyspark.sql import SparkSession\n",
    "from pyspark.sql import functions as F\n",
    "from pyspark.sql.types import *\n",
    "from pyspark import Row\n",
    "import json\n",
    "\n",
    "conf = SparkConf()\n",
    "\n",
    "spark = (SparkSession\n",
    "         .builder\n",
    "         .config(conf=conf)\n",
    "         .appName('RIK_Lab1')\n",
    "         .getOrCreate())\n",
    "\n",
    "sc = spark.sparkContext"
   ]
  },
  {
   "cell_type": "markdown",
   "metadata": {},
   "source": [
    "### Задаём вариант"
   ]
  },
  {
   "cell_type": "code",
   "execution_count": null,
   "metadata": {},
   "outputs": [],
   "source": [
    "# Вариант 37\n",
    "id_film = '302'"
   ]
  },
  {
   "cell_type": "markdown",
   "metadata": {},
   "source": [
    "### Готовим RDD для расчетов"
   ]
  },
  {
   "cell_type": "code",
   "execution_count": null,
   "metadata": {},
   "outputs": [],
   "source": [
    "# structure: \"user id\" \\t \"item id\" \\t \"rating\" \\t \"timestamp\"\n",
    "rdd = (sc\n",
    "       .textFile(\"/labs/laba01/ml-100k/u.data\")\n",
    "       .map(lambda x: x.split(\"\\t\"))\n",
    "       .cache())"
   ]
  },
  {
   "cell_type": "code",
   "execution_count": null,
   "metadata": {
    "scrolled": true
   },
   "outputs": [],
   "source": [
    "rdd.take(10)"
   ]
  },
  {
   "cell_type": "markdown",
   "metadata": {},
   "source": [
    "### Расчет общего рейтинга всех фильмов"
   ]
  },
  {
   "cell_type": "code",
   "execution_count": null,
   "metadata": {},
   "outputs": [],
   "source": [
    "rating_all_film = (rdd\n",
    "                   .map(lambda x: (x[2], 1))\n",
    "                   .reduceByKey(lambda acc, val: acc + val)\n",
    "                   .collect())\n",
    "\n",
    "rating_all_film.sort()\n",
    "rating_all_film"
   ]
  },
  {
   "cell_type": "markdown",
   "metadata": {},
   "source": [
    "### Расчет рейтина фильма по варианту"
   ]
  },
  {
   "cell_type": "code",
   "execution_count": null,
   "metadata": {},
   "outputs": [],
   "source": [
    "rating_one_film = (rdd\n",
    "                   .filter(lambda x: x[1] == id_film)\n",
    "                   .map(lambda x: (x[2], 1))\n",
    "                   .reduceByKey(lambda acc, val: acc + val)\n",
    "                   .collect())\n",
    "\n",
    "rating_one_film.sort()\n",
    "rating_one_film"
   ]
  },
  {
   "cell_type": "markdown",
   "metadata": {},
   "source": [
    "### Собираем результат"
   ]
  },
  {
   "cell_type": "code",
   "execution_count": null,
   "metadata": {},
   "outputs": [],
   "source": [
    "result = {\n",
    "   \"hist_film\": [x[1] for x in rating_one_film],\n",
    "   \"hist_all\": [x[1] for x in rating_all_film]\n",
    "}\n",
    "result"
   ]
  },
  {
   "cell_type": "markdown",
   "metadata": {},
   "source": [
    "### Сохраняем lab01.json"
   ]
  },
  {
   "cell_type": "code",
   "execution_count": null,
   "metadata": {},
   "outputs": [],
   "source": [
    "import json\n",
    "\n",
    "with open('lab01.json', 'w', encoding='utf-8') as f:\n",
    "    f.write(json.dumps(result))"
   ]
  },
  {
   "cell_type": "markdown",
   "metadata": {},
   "source": [
    "# Вариант с расчетом рейтингов для всех фильмов"
   ]
  },
  {
   "cell_type": "code",
   "execution_count": null,
   "metadata": {},
   "outputs": [],
   "source": [
    "# dict нулевого рейтига: {'1':0, ... '5': 0}\n",
    "zero_rating = {str(k): 0 for k in range(1, 6)}\n",
    "\n",
    "def sum_two_rating(rating1, rating2):\n",
    "    return {k: rating1[k] + rating2[k] for k in [str(k_int) for k_int in range(1, 6)]}\n",
    "\n",
    "def sum_list_rating(ratings):\n",
    "    result = zero_rating\n",
    "    for rating in ratings:\n",
    "        result = sum_two_rating(result, rating)\n",
    "    return result"
   ]
  },
  {
   "cell_type": "code",
   "execution_count": null,
   "metadata": {},
   "outputs": [],
   "source": [
    "rdd_full_raging = (sc\n",
    "       .textFile(\"/labs/laba01/ml-100k/u.data\")\n",
    "       .map(lambda x: x.split(\"\\t\"))\n",
    "       .map(lambda x: (x[1], {**zero_rating, **{x[2]: 1}}))\n",
    "       .groupByKey()\n",
    "       .map(lambda x: (x[0], sum_list_rating(x[1]))))"
   ]
  },
  {
   "cell_type": "code",
   "execution_count": null,
   "metadata": {},
   "outputs": [],
   "source": [
    "# Рейтинги для всех фильмов\n",
    "rdd_full_raging.take(10)"
   ]
  },
  {
   "cell_type": "code",
   "execution_count": null,
   "metadata": {},
   "outputs": [],
   "source": [
    "# Рейтинг фильма по заданию\n",
    "rdd_full_raging.filter(lambda x: x[0] == id_film).collect()"
   ]
  },
  {
   "cell_type": "code",
   "execution_count": null,
   "metadata": {},
   "outputs": [],
   "source": [
    "# Общий рейтинг всех фильмов\n",
    "rdd_full_raging.map(lambda x: x[1]).reduce(sum_two_rating)"
   ]
  },
  {
   "cell_type": "code",
   "execution_count": null,
   "metadata": {},
   "outputs": [],
   "source": [
    "spark.stop()"
   ]
  }
 ],
 "metadata": {
  "kernelspec": {
   "display_name": "Python 3",
   "language": "python",
   "name": "python3"
  },
  "language_info": {
   "codemirror_mode": {
    "name": "ipython",
    "version": 3
   },
   "file_extension": ".py",
   "mimetype": "text/x-python",
   "name": "python",
   "nbconvert_exporter": "python",
   "pygments_lexer": "ipython3",
   "version": "3.6.5"
  }
 },
 "nbformat": 4,
 "nbformat_minor": 2
}
