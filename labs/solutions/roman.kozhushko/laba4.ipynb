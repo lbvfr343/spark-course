{
 "cells": [
  {
   "cell_type": "code",
   "execution_count": null,
   "metadata": {},
   "outputs": [],
   "source": [
    "import os\n",
    "import sys\n",
    "os.environ[\"PYSPARK_PYTHON\"]='/opt/anaconda/envs/bd9/bin/python'\n",
    "os.environ[\"SPARK_HOME\"]='/usr/hdp/current/spark2-client'\n",
    "os.environ[\"PYSPARK_SUBMIT_ARGS\"]='--num-executors 8 --executor-memory 4g --executor-cores 2 --driver-memory 2g pyspark-shell'\n",
    "\n",
    "spark_home = os.environ.get('SPARK_HOME', None)\n",
    "\n",
    "sys.path.insert(0, os.path.join(spark_home, 'python'))\n",
    "sys.path.insert(0, os.path.join(spark_home, 'python/lib/py4j-0.10.7-src.zip'))"
   ]
  },
  {
   "cell_type": "code",
   "execution_count": null,
   "metadata": {},
   "outputs": [],
   "source": [
    "from pyspark import keyword_only\n",
    "\n",
    "from pyspark.ml import Transformer, Pipeline\n",
    "from pyspark.ml.util import DefaultParamsReadable, DefaultParamsWritable\n",
    "from pyspark.ml.feature import HashingTF, IDF, Tokenizer, Normalizer, StopWordsRemover, CountVectorizer, VectorAssembler\n",
    "from pyspark.ml.param.shared import HasInputCol, HasOutputCol, Param, Params, TypeConverters\n",
    "from pyspark.ml.classification import LogisticRegression, RandomForestClassifier\n",
    "\n",
    "\n",
    "from pyspark.sql import DataFrame\n",
    "from pyspark.sql.types import StructType, StructField, DoubleType, FloatType, ArrayType, StringType, IntegerType, LongType\n",
    "\n",
    "from pyspark.sql.window import Window\n",
    "from pyspark.sql.functions import udf, col, when, isnan, isnull, broadcast, desc, lower, pandas_udf, row_number, explode, split\n",
    "from pyspark.sql.functions import array, collect_set, lit, from_json, to_json, struct, regexp_replace\n",
    "\n",
    "from pyspark.mllib.linalg import SparseVector, DenseVector\n",
    "\n",
    "\n",
    "from urllib.parse import urlparse\n",
    "import json\n",
    "import re"
   ]
  },
  {
   "cell_type": "code",
   "execution_count": null,
   "metadata": {
    "scrolled": true
   },
   "outputs": [],
   "source": [
    "from pyspark.sql import SparkSession\n",
    "\n",
    "spark = SparkSession.builder \\\n",
    "                    .master(\"local[2]\") \\\n",
    "                    .appName(\"RIK_laba4\") \\\n",
    "                    .config(\"spark.driver.memory\", \"512m\") \\\n",
    "                    .config(\"spark.jars.packages\", \"org.apache.spark:spark-sql-kafka-0-10_2.11:2.4.5\") \\\n",
    "                    .getOrCreate()\n",
    "\n",
    "# spark"
   ]
  },
  {
   "cell_type": "markdown",
   "metadata": {},
   "source": [
    "# Обучение"
   ]
  },
  {
   "cell_type": "code",
   "execution_count": null,
   "metadata": {},
   "outputs": [],
   "source": [
    "schema = (\n",
    "    StructType()\n",
    "    .add(\"gender\", StringType(), True)\n",
    "    .add(\"age\", StringType(), True)\n",
    "    .add(\"uid\", StringType(), True)\n",
    "    .add(\"user_json\", StringType(), True)\n",
    ")\n",
    "   \n",
    "event_schema = StructType([\n",
    "        StructField('uid', StringType(), True)\n",
    "        , StructField('visits', StringType(),True)\n",
    "        ])\n",
    "\n",
    "visit_schema = ArrayType(\n",
    "        StructType([\n",
    "            StructField('url', StringType(), True)\n",
    "            , StructField('timestamp', LongType(), True)\n",
    "        ])\n",
    ")\n",
    "    \n",
    "df_train = (spark.read.format(\"csv\")\n",
    "            .option(\"header\", True)\n",
    "            .option(\"sep\", \"\\t\")\n",
    "            .schema(schema)\n",
    "            .load(\"/labs/slaba04/gender_age_dataset.txt\")\n",
    ")\n",
    "\n",
    "df_train = (\n",
    "    df_train\n",
    "    .filter(df_train.gender != '-')\n",
    "    .select(\"gender\", \"age\", \"uid\", from_json(\"user_json\", event_schema).alias(\"event\"))\n",
    "    .select(\"gender\", \"age\", \"uid\", from_json(col(\"event.visits\"), visit_schema).alias(\"visits\"))\n",
    "    .select(\"gender\", \"age\", \"uid\", explode(col(\"visits\")))\n",
    "    .selectExpr(\"gender\", \"age\", \"uid\", \"parse_url(col.url, 'HOST') as host\")\n",
    "    .filter(col(\"host\").isNotNull())\n",
    "    .withColumn('domain', regexp_replace('host', 'www.', ''))\n",
    "    .select('gender', 'age', 'uid', 'domain')\n",
    ")"
   ]
  },
  {
   "cell_type": "code",
   "execution_count": null,
   "metadata": {},
   "outputs": [],
   "source": [
    "df_train.createOrReplaceTempView(\"train\")\n",
    "spark.sql(\"\"\"SELECT DISTINCT domain \n",
    "        FROM train\n",
    "        GROUP BY domain\n",
    "        HAVING count(1) <= 2\"\"\").createOrReplaceTempView(\"train_not\")\n",
    "df_train = spark.sql(\"\"\"SELECT /*broadcast(tn)*/\n",
    "            t.* \n",
    "        FROM train t\n",
    "        JOIN train_not tn\n",
    "            on t.domain = tn.domain\n",
    "        \"\"\").cache()\n",
    "\n",
    "df_train = df_train.groupBy(\"gender\", \"age\", \"uid\").agg(collect_set('domain').alias('domain'))"
   ]
  },
  {
   "cell_type": "code",
   "execution_count": null,
   "metadata": {},
   "outputs": [],
   "source": [
    "df_train.show(5)"
   ]
  },
  {
   "cell_type": "code",
   "execution_count": null,
   "metadata": {},
   "outputs": [],
   "source": [
    "hasher_freq = HashingTF(numFeatures=1000, binary=False, inputCol=\"domain\", outputCol=\"domain_vector\")\n",
    "normalizer = Normalizer(inputCol='domain_vector', outputCol=\"domain_norm\")\n",
    "\n",
    "\n",
    "df_train_norm = normalizer.transform(hasher_freq.transform(df_train))\n",
    "\n",
    "\n",
    "df_train_norm = (\n",
    "    df_train_norm\n",
    "    .replace(['F', 'M'], ['0','1'], \"gender\")\n",
    "    .replace(['18-24', '25-34', '35-44', '45-54', '>=55'], ['1','2','3','4','5'], \"age\")\n",
    ")\n",
    "\n",
    "df_train_norm.createOrReplaceTempView(\"train_norm\")\n",
    "df_train_norm = spark.sql(\"\"\"\n",
    "    SELECT CAST(gender AS INT) as gender, CAST(age AS INT) age, domain_norm\n",
    "    FROM train_norm\"\"\")\n",
    "\n",
    "rf_age = RandomForestClassifier(labelCol=\"age\", featuresCol=\"domain_norm\")\n",
    "rf_age_model = rf_age.fit(df_train_norm)\n",
    "\n",
    "rf_gender = RandomForestClassifier(labelCol=\"gender\", featuresCol=\"domain_norm\")\n",
    "rf_gender_model = rf_gender.fit(df_train_norm)"
   ]
  },
  {
   "cell_type": "markdown",
   "metadata": {},
   "source": [
    "# Проверка"
   ]
  },
  {
   "cell_type": "code",
   "execution_count": null,
   "metadata": {},
   "outputs": [],
   "source": [
    "kafka_read_df = (\n",
    "    spark\n",
    "#     .read\n",
    "    .readStream\n",
    "    .format('kafka')\n",
    "    .option(\"kafka.bootstrap.servers\", 'spark-master-1.newprolab.com:6667')\n",
    "    .option(\"subscribe\", \"input_roman.kozhushko\")\n",
    "    .option(\"startingOffsets\", \"latest\")\n",
    "    .option(\"failOnDataloss\", \"False\")\n",
    "    .load()\n",
    "#     .cache()\n",
    ")"
   ]
  },
  {
   "cell_type": "code",
   "execution_count": null,
   "metadata": {},
   "outputs": [],
   "source": [
    "# kafka_read_df.count()\n",
    "kafka_read_df.printSchema()"
   ]
  },
  {
   "cell_type": "code",
   "execution_count": null,
   "metadata": {},
   "outputs": [],
   "source": [
    "@udf(returnType=ArrayType(StringType()))\n",
    "def visits_to_domain(visit):\n",
    "    return list(set([urlparse(x.url).hostname.replace('www.', '') for x in visit]))\n",
    "\n",
    "df_domain = (\n",
    "    kafka_read_df\n",
    "    .selectExpr('CAST(value AS STRING)')\n",
    "    .select(from_json(\"value\", event_schema).alias(\"event\"))\n",
    "    .select(\"event.uid\", from_json(col(\"event.visits\"), visit_schema).alias(\"visits\"))\n",
    "    .withColumn('domain', visits_to_domain(col(\"visits\"))) \n",
    ")"
   ]
  },
  {
   "cell_type": "code",
   "execution_count": null,
   "metadata": {},
   "outputs": [],
   "source": [
    "df_domain_norm = normalizer.transform(hasher_freq.transform(df_domain))\n",
    "\n",
    "gender_pred = rf_gender_model.transform(df_domain_norm).select(\n",
    "    col(\"uid\").alias(\"uid_gender\"), \n",
    "    col(\"prediction\").alias(\"gender\"))\n",
    "\n",
    "age_pred = rf_age_model.transform(df_domain_norm).select(\n",
    "    col(\"uid\").alias(\"uid_age\"), \n",
    "    col(\"prediction\").alias(\"age\"))\n",
    "\n",
    "prediction = (\n",
    "    gender_pred\n",
    "    .join(age_pred, gender_pred.uid_gender == age_pred.uid_age, 'inner')\n",
    "    .selectExpr([\n",
    "        \"uid_age as uid\", \n",
    "        \"CAST(CAST(gender AS INT) AS String) AS gender\", \n",
    "        \"CAST(CAST(age AS INT) AS String) AS age\"\n",
    "    ])\n",
    "    .replace(['0','1'], ['F', 'M'], \"gender\")\n",
    "    .replace(['1','2','3','4','5'], ['18-24', '25-34', '35-44', '45-54', '>=55'], \"age\")\n",
    ")\n",
    "\n",
    "prediction = (\n",
    "    prediction\n",
    "    .select(lit(\"\").alias('key'), to_json(struct(*prediction.columns)).alias('value'))\n",
    "    .selectExpr(\"CAST(key AS STRING)\", \"CAST(value AS STRING)\")\n",
    ")"
   ]
  },
  {
   "cell_type": "code",
   "execution_count": null,
   "metadata": {},
   "outputs": [],
   "source": [
    "prediction.isStreaming"
   ]
  },
  {
   "cell_type": "code",
   "execution_count": null,
   "metadata": {},
   "outputs": [],
   "source": [
    "writer = (\n",
    "    prediction\n",
    "#     .write\n",
    "    .writeStream\n",
    "    .format(\"kafka\")\n",
    "    .outputMode(\"append\")\n",
    "    .option(\"kafka.bootstrap.servers\", \"spark-master-1.newprolab.com:6667\")\n",
    "    .option(\"topic\", \"roman.kozhushko\")\n",
    "    .option('checkpointLocation', './checkpoint_lab04')\n",
    "    .trigger(processingTime=\"5 seconds\")\n",
    "#     .save()\n",
    ")\n",
    "\n",
    "writer_stream = writer.start()"
   ]
  },
  {
   "cell_type": "code",
   "execution_count": null,
   "metadata": {},
   "outputs": [],
   "source": [
    "writer_stream.isActive"
   ]
  },
  {
   "cell_type": "code",
   "execution_count": null,
   "metadata": {},
   "outputs": [],
   "source": [
    "writer_stream.stop()"
   ]
  },
  {
   "cell_type": "code",
   "execution_count": null,
   "metadata": {},
   "outputs": [],
   "source": [
    "spark.stop()"
   ]
  }
 ],
 "metadata": {
  "kernelspec": {
   "display_name": "Python 3",
   "language": "python",
   "name": "python3"
  },
  "language_info": {
   "codemirror_mode": {
    "name": "ipython",
    "version": 3
   },
   "file_extension": ".py",
   "mimetype": "text/x-python",
   "name": "python",
   "nbconvert_exporter": "python",
   "pygments_lexer": "ipython3",
   "version": "3.6.5"
  }
 },
 "nbformat": 4,
 "nbformat_minor": 2
}
