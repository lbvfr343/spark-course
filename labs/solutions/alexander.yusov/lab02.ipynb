{
 "cells": [
  {
   "cell_type": "code",
   "execution_count": 1,
   "metadata": {},
   "outputs": [
    {
     "name": "stdout",
     "output_type": "stream",
     "text": [
      "Welcome to\n",
      "      ____              __\n",
      "     / __/__  ___ _____/ /__\n",
      "    _\\ \\/ _ \\/ _ `/ __/  '_/\n",
      "   /__ / .__/\\_,_/_/ /_/\\_\\   version 2.4.7\n",
      "      /_/\n",
      "\n",
      "Using Python version 3.6.5 (default, Apr 29 2018 16:14:56)\n",
      "SparkSession available as 'spark'.\n"
     ]
    }
   ],
   "source": [
    "import os\n",
    "import sys\n",
    "\n",
    "os.environ[\"PYSPARK_PYTHON\"] = '/opt/anaconda/envs/bd9/bin/python'\n",
    "os.environ[\"SPARK_HOME\"] = '/usr/hdp/current/spark2-client'\n",
    "os.environ[\"PYSPARK_SUBMIT_ARGS\"] = '--num-executors 4 pyspark-shell'\n",
    "\n",
    "spark_home = os.environ.get('SPARK_HOME', None)\n",
    "if not spark_home:\n",
    "    raise ValueError('SPARK_HOME environment variable is not set')\n",
    "\n",
    "sys.path.insert(0, os.path.join(spark_home, 'python'))\n",
    "sys.path.insert(0, os.path.join(spark_home, 'python/lib/py4j-0.10.7-src.zip'))\n",
    "exec(open(os.path.join(spark_home, 'python/pyspark/shell.py')).read())"
   ]
  },
  {
   "cell_type": "markdown",
   "metadata": {},
   "source": [
    "#  Создание спарк сессии"
   ]
  },
  {
   "cell_type": "code",
   "execution_count": 75,
   "metadata": {},
   "outputs": [],
   "source": [
    "from pyspark import SparkConf\n",
    "from pyspark.sql import SparkSession\n",
    "from pyspark.sql import functions as f\n",
    "from pyspark.sql.types import *\n",
    "from pyspark import Row\n",
    "import json\n",
    "\n",
    "conf = SparkConf()\n",
    "\n",
    "sc = (\n",
    "    SparkSession\n",
    "    .builder\n",
    "    .config(conf=conf)\n",
    "    .appName(\"lab02-alexander.yusov\")\n",
    "    .getOrCreate()\n",
    ")"
   ]
  },
  {
   "cell_type": "markdown",
   "metadata": {},
   "source": [
    "# Данные"
   ]
  },
  {
   "cell_type": "code",
   "execution_count": 76,
   "metadata": {},
   "outputs": [
    {
     "name": "stdout",
     "output_type": "stream",
     "text": [
      "root\n",
      " |-- cat: string (nullable = true)\n",
      " |-- desc: string (nullable = true)\n",
      " |-- id: long (nullable = true)\n",
      " |-- lang: string (nullable = true)\n",
      " |-- name: string (nullable = true)\n",
      " |-- provider: string (nullable = true)\n",
      "\n"
     ]
    }
   ],
   "source": [
    "data = sc.read.json(\"/labs/slaba02/DO_record_per_line.json\")\n",
    "data.printSchema()"
   ]
  },
  {
   "cell_type": "code",
   "execution_count": 77,
   "metadata": {},
   "outputs": [
    {
     "name": "stdout",
     "output_type": "stream",
     "text": [
      "+--------------------+--------------------+---+----+--------------------+--------------+\n",
      "|                 cat|                desc| id|lang|                name|      provider|\n",
      "+--------------------+--------------------+---+----+--------------------+--------------+\n",
      "|3/business_manage...|This course intro...|  4|  en|Accounting Cycle:...|Canvas Network|\n",
      "|              11/law|This online cours...|  5|  en|American Counter ...|Canvas Network|\n",
      "|5/computer_scienc...|This course is ta...|  6|  fr|Arithmétique: en ...|Canvas Network|\n",
      "+--------------------+--------------------+---+----+--------------------+--------------+\n",
      "only showing top 3 rows\n",
      "\n"
     ]
    }
   ],
   "source": [
    "data.show(3)"
   ]
  },
  {
   "cell_type": "markdown",
   "metadata": {},
   "source": [
    "# Features"
   ]
  },
  {
   "cell_type": "code",
   "execution_count": 78,
   "metadata": {},
   "outputs": [],
   "source": [
    "import re\n",
    "\n",
    "from pyspark.ml.feature import Tokenizer, RegexTokenizer, HashingTF, IDF, VectorAssembler, Normalizer\n",
    "from pyspark.ml.pipeline import Pipeline\n",
    "from pyspark.ml.util import DefaultParamsReadable, DefaultParamsWritable\n",
    "from pyspark.ml.param.shared import HasInputCol, HasOutputCol, Param, Params, TypeConverters\n",
    "from pyspark.ml import Transformer\n",
    "from pyspark import keyword_only\n",
    "from pyspark.sql import DataFrame\n",
    "from pyspark.sql.types import StringType, ArrayType"
   ]
  },
  {
   "cell_type": "markdown",
   "metadata": {},
   "source": [
    "## Desc"
   ]
  },
  {
   "cell_type": "markdown",
   "metadata": {},
   "source": [
    "### Tokenizer"
   ]
  },
  {
   "cell_type": "code",
   "execution_count": 79,
   "metadata": {
    "scrolled": false
   },
   "outputs": [],
   "source": [
    "class RegexTransformer(Transformer, HasInputCol, HasOutputCol, DefaultParamsReadable, DefaultParamsWritable):\n",
    "    input_col = Param(\n",
    "        parent=Params._dummy(), \n",
    "        name=\"input_col\", \n",
    "        doc=\"Input column\", \n",
    "        typeConverter=TypeConverters.toString\n",
    "    )\n",
    "    output_col = Param(\n",
    "        parent=Params._dummy(), \n",
    "        name=\"output_col\", \n",
    "        doc=\"Output column\", \n",
    "        typeConverter=TypeConverters.toString\n",
    "    )\n",
    "    pattern = Param(\n",
    "        parent=Params._dummy(), \n",
    "        name=\"pattern\", \n",
    "        doc=\"Regex pattern\",\n",
    "        typeConverter=TypeConverters.toString\n",
    "    )\n",
    "\n",
    "    def __init__(\n",
    "        self, \n",
    "        input_col: str = \"input\", \n",
    "        output_col: str = \"output\",\n",
    "        pattern: str = \"\"\n",
    "    ):\n",
    "        super().__init__()\n",
    "        self._setDefault(input_col=None, output_col=None, pattern=None)\n",
    "        \n",
    "        self.regex = re.compile(pattern, re.U)\n",
    "        self.udf = f.udf(\n",
    "            f=lambda x: self.regex.findall(x.lower()),\n",
    "            returnType=ArrayType(StringType())\n",
    "        )\n",
    "        \n",
    "        self.set_params(\n",
    "            input_col=input_col,\n",
    "            output_col=output_col,\n",
    "            pattern=pattern,\n",
    "        )\n",
    "        \n",
    "    @keyword_only\n",
    "    def set_params(\n",
    "        self, \n",
    "        input_col: str = \"input\", \n",
    "        output_col: str = \"output\",\n",
    "        pattern: str = \"\"\n",
    "    ):\n",
    "        kwargs = self._input_kwargs\n",
    "        self._set(**kwargs)\n",
    "\n",
    "    def get_input_col(self):\n",
    "        return self.getOrDefault(self.input_col)\n",
    "\n",
    "    def get_output_col(self):\n",
    "        return self.getOrDefault(self.output_col)\n",
    "    \n",
    "    def get_pattern(self):\n",
    "        return self.getOrDefault(self.pattern)\n",
    "    \n",
    "    def set_pattern(self, pattern: str):\n",
    "        return self._set(pattern=pattern)\n",
    "    \n",
    "    def _transform(self, df: DataFrame) -> DataFrame:\n",
    "        input_col = self.get_input_col()\n",
    "        output_col = self.get_output_col()\n",
    "        pattern = self.get_pattern()\n",
    "        \n",
    "        return df.withColumn(\n",
    "            output_col, \n",
    "            self.udf(input_col)\n",
    "        )"
   ]
  },
  {
   "cell_type": "markdown",
   "metadata": {},
   "source": [
    "# Извлечение признаков"
   ]
  },
  {
   "cell_type": "code",
   "execution_count": 80,
   "metadata": {},
   "outputs": [],
   "source": [
    "from pyspark.ml.feature import StopWordsRemover\n",
    "\n",
    "russian_stopwords = StopWordsRemover.loadDefaultStopWords(\"russian\")\n",
    "english_stopwords = StopWordsRemover.loadDefaultStopWords(\"english\")\n",
    "spanish_stopwords = StopWordsRemover.loadDefaultStopWords(\"spanish\")\n",
    "\n",
    "all_stopwords = russian_stopwords + english_stopwords + spanish_stopwords"
   ]
  },
  {
   "cell_type": "code",
   "execution_count": 81,
   "metadata": {},
   "outputs": [],
   "source": [
    "def create_fe_pipeline(\n",
    "    numFeatures: int = 100\n",
    "):\n",
    "    desc_tokenizer = RegexTransformer(input_col=\"desc\", output_col=\"desc_tokens\", pattern=u\"[\\w\\d]{2,}\")\n",
    "#     desc_tokenizer = Tokenizer(inputCol=\"desc\", outputCol=\"desc_tokens\")\n",
    "    stopwords = StopWordsRemover(inputCol=\"desc_tokens\", outputCol=\"desc_tokens_filtered\", stopWords=all_stopwords)\n",
    "    desc_tf = HashingTF(numFeatures=numFeatures, inputCol=\"desc_tokens_filtered\", outputCol=\"desc_tf\")\n",
    "    desc_idf = IDF(inputCol=\"desc_tf\", outputCol=\"desc_tfidf\")\n",
    "\n",
    "    return Pipeline(stages=[\n",
    "        desc_tokenizer,\n",
    "        stopwords,\n",
    "        desc_tf,\n",
    "        desc_idf\n",
    "    ])"
   ]
  },
  {
   "cell_type": "markdown",
   "metadata": {},
   "source": [
    "## По модели на язык"
   ]
  },
  {
   "cell_type": "raw",
   "metadata": {},
   "source": [
    "data_train_en = (\n",
    "    data\n",
    "#     .withColumn(\"desc\", f.col(\"name\"))\n",
    "    .withColumn(\"desc\", f.concat_ws(\" \", f.col(\"name\"), f.col(\"desc\")))\n",
    "    .filter(\"lang == 'en'\")\n",
    ")\n",
    "\n",
    "data_train_ru = (\n",
    "    data\n",
    "#     .withColumn(\"desc\", f.col(\"name\"))\n",
    "    .withColumn(\"desc\", f.concat_ws(\" \", f.col(\"name\"), f.col(\"desc\")))\n",
    "    .filter(\"lang == 'ru'\")\n",
    ")\n",
    "\n",
    "data_train_es = (\n",
    "    data\n",
    "#     .withColumn(\"desc\", f.col(\"name\"))\n",
    "    .withColumn(\"desc\", f.concat_ws(\" \", f.col(\"name\"), f.col(\"desc\")))\n",
    "    .filter(\"lang == 'es'\")\n",
    ")\n",
    "\n",
    "en_fe_pipeline = create_fe_pipeline(1000).fit(data_train_en)\n",
    "ru_fe_pipeline = create_fe_pipeline(1000).fit(data_train_ru)\n",
    "es_fe_pipeline = create_fe_pipeline(1000).fit(data_train_es)\n",
    "\n",
    "features_data = (\n",
    "    en_fe_pipeline.transform(data_train_en)\n",
    "    .union(ru_fe_pipeline.transform(data_train_ru))\n",
    "    .union(es_fe_pipeline.transform(data_train_es))\n",
    ")"
   ]
  },
  {
   "cell_type": "markdown",
   "metadata": {},
   "source": [
    "## Одна модель на все языки"
   ]
  },
  {
   "cell_type": "code",
   "execution_count": 82,
   "metadata": {},
   "outputs": [],
   "source": [
    "data_train = (\n",
    "    data\n",
    "#     .withColumn(\"desc\", f.col(\"name\"))\n",
    "#     .withColumn(\"desc\", f.concat_ws(\" \", f.col(\"name\"), f.col(\"desc\")))\n",
    ")\n",
    "\n",
    "fe_pipeline = create_fe_pipeline(10000).fit(data_train)\n",
    "features_data = fe_pipeline.transform(data_train)"
   ]
  },
  {
   "cell_type": "markdown",
   "metadata": {},
   "source": [
    "# Load test data"
   ]
  },
  {
   "cell_type": "code",
   "execution_count": 83,
   "metadata": {},
   "outputs": [
    {
     "name": "stdout",
     "output_type": "stream",
     "text": [
      "+-----+----+------------------------------------------------------------------------------+\n",
      "|id   |lang|desc                                                                          |\n",
      "+-----+----+------------------------------------------------------------------------------+\n",
      "|23126|en  |Compass - powerful SASS library that makes your life easier                   |\n",
      "|21617|en  |Preparing for the AP* Computer Science A Exam — Part 2                        |\n",
      "|16627|es  |Aprende Excel: Nivel Intermedio by Alfonso Rinsche                            |\n",
      "|11556|es  |Aprendizaje Colaborativo by UNID Universidad Interamericana para el Desarrollo|\n",
      "|16704|ru  |Программирование на Lazarus                                                   |\n",
      "|13702|ru  |Математическая экономика                                                      |\n",
      "+-----+----+------------------------------------------------------------------------------+\n",
      "\n"
     ]
    }
   ],
   "source": [
    "test_data = [\n",
    "    [23126, u'en', u'Compass - powerful SASS library that makes your life easier'], \n",
    "    [21617, u'en', u'Preparing for the AP* Computer Science A Exam \\u2014 Part 2'], \n",
    "    [16627, u'es', u'Aprende Excel: Nivel Intermedio by Alfonso Rinsche'], \n",
    "    [11556, u'es', u'Aprendizaje Colaborativo by UNID Universidad Interamericana para el Desarrollo'], \n",
    "    [16704, u'ru', u'\\u041f\\u0440\\u043e\\u0433\\u0440\\u0430\\u043c\\u043c\\u0438\\u0440\\u043e\\u0432\\u0430\\u043d\\u0438\\u0435 \\u043d\\u0430 Lazarus'], \n",
    "    [13702, u'ru', u'\\u041c\\u0430\\u0442\\u0435\\u043c\\u0430\\u0442\\u0438\\u0447\\u0435\\u0441\\u043a\\u0430\\u044f \\u044d\\u043a\\u043e\\u043d\\u043e\\u043c\\u0438\\u043a\\u0430']\n",
    "]\n",
    "\n",
    "test_data = sc.createDataFrame(data=test_data, schema=StructType([\n",
    "    StructField(\"id\", IntegerType(), False), \n",
    "    StructField(\"lang\", StringType(), False), \n",
    "    StructField(\"desc\", StringType(), False)\n",
    "]))\n",
    "test_data.show(truncate=False)"
   ]
  },
  {
   "cell_type": "markdown",
   "metadata": {},
   "source": [
    "## Join"
   ]
  },
  {
   "cell_type": "code",
   "execution_count": 84,
   "metadata": {
    "scrolled": false
   },
   "outputs": [
    {
     "name": "stdout",
     "output_type": "stream",
     "text": [
      "root\n",
      " |-- lang: string (nullable = true)\n",
      " |-- cat: string (nullable = true)\n",
      " |-- desc: string (nullable = true)\n",
      " |-- id: long (nullable = true)\n",
      " |-- name: string (nullable = true)\n",
      " |-- provider: string (nullable = true)\n",
      " |-- desc_tokens: array (nullable = true)\n",
      " |    |-- element: string (containsNull = true)\n",
      " |-- desc_tokens_filtered: array (nullable = true)\n",
      " |    |-- element: string (containsNull = true)\n",
      " |-- desc_tf: vector (nullable = true)\n",
      " |-- desc_tfidf: vector (nullable = true)\n",
      " |-- cat_test: string (nullable = true)\n",
      " |-- desc_test: string (nullable = true)\n",
      " |-- id_test: integer (nullable = false)\n",
      " |-- name_test: string (nullable = true)\n",
      " |-- provider_test: string (nullable = true)\n",
      " |-- desc_tokens_test: array (nullable = true)\n",
      " |    |-- element: string (containsNull = true)\n",
      " |-- desc_tokens_filtered_test: array (nullable = true)\n",
      " |    |-- element: string (containsNull = true)\n",
      " |-- desc_tf_test: vector (nullable = true)\n",
      " |-- desc_tfidf_test: vector (nullable = true)\n",
      "\n"
     ]
    }
   ],
   "source": [
    "features_data_columns = features_data.columns\n",
    "\n",
    "(\n",
    "    features_data\n",
    "    .join(\n",
    "        other=(\n",
    "            features_data\n",
    "            .join(other=test_data.select(\"id\"), on=\"id\", how=\"right\")\n",
    "            .select(*[\n",
    "                f.col(name).alias(name+\"_test\") if name != \"lang\" else \"lang\"\n",
    "                for name in features_data_columns\n",
    "            ])\n",
    "        ),\n",
    "        on=\"lang\",\n",
    "        how=\"right\"\n",
    "    )\n",
    "    .printSchema()\n",
    "#     .show(1, False, True)\n",
    ")"
   ]
  },
  {
   "cell_type": "code",
   "execution_count": 85,
   "metadata": {
    "scrolled": false
   },
   "outputs": [
    {
     "name": "stdout",
     "output_type": "stream",
     "text": [
      "-RECORD 0--------------------------------------------------------------------------------------------------------------------------------------------------------------------------------------------------------------------------------------------------------------------------------------------------------------------\n",
      " lang                      | ru                                                                                                                                                                                                                                                                                              \n",
      " cat                       | 6/economics_finance|15/mathematics_statistics_and_data_analysis                                                                                                                                                                                                                                 \n",
      " desc                      | Математическая экономика – это набор моделей в той или иной степени правильно описывающих процессы в экономике.                                                                                                                                                                                 \n",
      " id                        | 864                                                                                                                                                                                                                                                                                             \n",
      " name                      | Математическая экономика                                                                                                                                                                                                                                                                        \n",
      " provider                  | Intuit                                                                                                                                                                                                                                                                                          \n",
      " desc_tokens               | [математическая, экономика, это, набор, моделей, той, или, иной, степени, правильно, описывающих, процессы, экономике]                                                                                                                                                                          \n",
      " desc_tokens_filtered      | [математическая, экономика, это, набор, моделей, той, иной, степени, правильно, описывающих, процессы, экономике]                                                                                                                                                                               \n",
      " desc_tf                   | (10000,[310,942,2172,2788,2855,4800,5647,6943,7822,8203,9329,9678],[1.0,1.0,1.0,1.0,1.0,1.0,1.0,1.0,1.0,1.0,1.0,1.0])                                                                                                                                                                           \n",
      " desc_tfidf                | (10000,[310,942,2172,2788,2855,4800,5647,6943,7822,8203,9329,9678],[5.074960724349759,5.332789833651859,5.791097423134403,4.387511564904451,5.7236561423388705,4.927324725543694,5.563313492263691,5.610715731158275,3.9409959169659294,4.483393336607734,6.374243708480019,5.202019602468664]) \n",
      " cat_test                  | 6/economics_finance|15/mathematics_statistics_and_data_analysis                                                                                                                                                                                                                                 \n",
      " desc_test                 | Математическая экономика – это набор моделей в той или иной степени правильно описывающих процессы в экономике.                                                                                                                                                                                 \n",
      " id_test                   | 13702                                                                                                                                                                                                                                                                                           \n",
      " name_test                 | Математическая экономика                                                                                                                                                                                                                                                                        \n",
      " provider_test             | Intuit                                                                                                                                                                                                                                                                                          \n",
      " desc_tokens_test          | [математическая, экономика, это, набор, моделей, той, или, иной, степени, правильно, описывающих, процессы, экономике]                                                                                                                                                                          \n",
      " desc_tokens_filtered_test | [математическая, экономика, это, набор, моделей, той, иной, степени, правильно, описывающих, процессы, экономике]                                                                                                                                                                               \n",
      " desc_tf_test              | (10000,[310,942,2172,2788,2855,4800,5647,6943,7822,8203,9329,9678],[1.0,1.0,1.0,1.0,1.0,1.0,1.0,1.0,1.0,1.0,1.0,1.0])                                                                                                                                                                           \n",
      " desc_tfidf_test           | (10000,[310,942,2172,2788,2855,4800,5647,6943,7822,8203,9329,9678],[5.074960724349759,5.332789833651859,5.791097423134403,4.387511564904451,5.7236561423388705,4.927324725543694,5.563313492263691,5.610715731158275,3.9409959169659294,4.483393336607734,6.374243708480019,5.202019602468664]) \n",
      " similarity                | 1.0                                                                                                                                                                                                                                                                                             \n",
      " row                       | 1                                                                                                                                                                                                                                                                                               \n",
      "only showing top 1 row\n",
      "\n"
     ]
    }
   ],
   "source": [
    "from pyspark.sql.window import Window\n",
    "\n",
    "\n",
    "@f.udf(FloatType())\n",
    "def cos_sim(x, y):\n",
    "    try:\n",
    "        return float(x.dot(y)) / float((x.norm(2) * y.norm(2)))\n",
    "    except:\n",
    "        return 0\n",
    "\n",
    "\n",
    "window = Window.partitionBy(\"id_test\").orderBy([\n",
    "    f.col(\"similarity\").desc(),\n",
    "    f.col(\"name\"),\n",
    "    f.col(\"id\")\n",
    "])\n",
    "\n",
    "\n",
    "result_df = (\n",
    "    features_data\n",
    "    .join(\n",
    "        other=(\n",
    "            features_data\n",
    "            .join(other=test_data.select(\"id\"), on=\"id\", how=\"right\")\n",
    "#             .withColumn(\"desc\", f.concat_ws(\" \", f.col(\"name\"), f.col(\"desc\")))\n",
    "            .select(*[\n",
    "                f.col(name).alias(name+\"_test\") if name != \"lang\" else \"lang\"\n",
    "                for name in features_data_columns\n",
    "            ])\n",
    "        ),\n",
    "        on=\"lang\",\n",
    "        how=\"right\"\n",
    "    )\n",
    "    .filter(\"id_test != id\")\n",
    "    .withColumn(\"similarity\", cos_sim(\"desc_tfidf\", \"desc_tfidf_test\"))\n",
    "    .withColumn(\"row\", f.row_number().over(window))\n",
    "    .filter(f.col(\"row\") <= 10)\n",
    "    .persist()\n",
    ")\n",
    "\n",
    "\n",
    "result_df.show(1, truncate=False, vertical=True)"
   ]
  },
  {
   "cell_type": "markdown",
   "metadata": {},
   "source": [
    "23126\n",
    "21617\n",
    "16627\n",
    "11556\n",
    "16704\n",
    "13702"
   ]
  },
  {
   "cell_type": "code",
   "execution_count": 86,
   "metadata": {
    "scrolled": false
   },
   "outputs": [
    {
     "name": "stdout",
     "output_type": "stream",
     "text": [
      "-RECORD 0------------------------------------------------------------------------------\n",
      " id         | 1236                                                                     \n",
      " id_test    | 16704                                                                    \n",
      " name       | Программирование на языке C++                                            \n",
      " desc_test  | В курсе рассматривается среда программирования Lazarus и компилятор FPC. \n",
      " similarity | 0.2936135                                                                \n",
      "-RECORD 1------------------------------------------------------------------------------\n",
      " id         | 1247                                                                     \n",
      " id_test    | 16704                                                                    \n",
      " name       | Введение в программирование                                              \n",
      " desc_test  | В курсе рассматривается среда программирования Lazarus и компилятор FPC. \n",
      " similarity | 0.27732363                                                               \n",
      "-RECORD 2------------------------------------------------------------------------------\n",
      " id         | 1365                                                                     \n",
      " id_test    | 16704                                                                    \n",
      " name       | Программирование в стандарте POSIX                                       \n",
      " desc_test  | В курсе рассматривается среда программирования Lazarus и компилятор FPC. \n",
      " similarity | 0.25418863                                                               \n",
      "-RECORD 3------------------------------------------------------------------------------\n",
      " id         | 1164                                                                     \n",
      " id_test    | 16704                                                                    \n",
      " name       | Основные принципы и концепции программирования на языке VBA в Excel      \n",
      " desc_test  | В курсе рассматривается среда программирования Lazarus и компилятор FPC. \n",
      " similarity | 0.23820557                                                               \n",
      "-RECORD 4------------------------------------------------------------------------------\n",
      " id         | 1273                                                                     \n",
      " id_test    | 16704                                                                    \n",
      " name       | Разработка компиляторов                                                  \n",
      " desc_test  | В курсе рассматривается среда программирования Lazarus и компилятор FPC. \n",
      " similarity | 0.23812962                                                               \n",
      "-RECORD 5------------------------------------------------------------------------------\n",
      " id         | 20288                                                                    \n",
      " id_test    | 16704                                                                    \n",
      " name       | Разработка компиляторов                                                  \n",
      " desc_test  | В курсе рассматривается среда программирования Lazarus и компилятор FPC. \n",
      " similarity | 0.23812962                                                               \n",
      "-RECORD 6------------------------------------------------------------------------------\n",
      " id         | 8186                                                                     \n",
      " id_test    | 16704                                                                    \n",
      " name       | Открытые образовательные ресурсы                                         \n",
      " desc_test  | В курсе рассматривается среда программирования Lazarus и компилятор FPC. \n",
      " similarity | 0.23756573                                                               \n",
      "-RECORD 7------------------------------------------------------------------------------\n",
      " id         | 1233                                                                     \n",
      " id_test    | 16704                                                                    \n",
      " name       | Основы функционального программирования                                  \n",
      " desc_test  | В курсе рассматривается среда программирования Lazarus и компилятор FPC. \n",
      " similarity | 0.22926001                                                               \n",
      "-RECORD 8------------------------------------------------------------------------------\n",
      " id         | 8203                                                                     \n",
      " id_test    | 16704                                                                    \n",
      " name       | Объектное программирование в классах на C# 3.0                           \n",
      " desc_test  | В курсе рассматривается среда программирования Lazarus и компилятор FPC. \n",
      " similarity | 0.21186338                                                               \n",
      "-RECORD 9------------------------------------------------------------------------------\n",
      " id         | 18331                                                                    \n",
      " id_test    | 16704                                                                    \n",
      " name       | Введение в программирование LEGO-роботов на языке NXT-G                  \n",
      " desc_test  | В курсе рассматривается среда программирования Lazarus и компилятор FPC. \n",
      " similarity | 0.19945544                                                               \n",
      "\n"
     ]
    }
   ],
   "source": [
    "(\n",
    "    result_df\n",
    "    .filter(f.col(\"id_test\") == 16704)\n",
    "    .select([\"id\", \"id_test\", \"name\", \"desc_test\", \"similarity\"])\n",
    "    .show(truncate=False, vertical=True)\n",
    ")"
   ]
  },
  {
   "cell_type": "markdown",
   "metadata": {},
   "source": [
    "# Save result"
   ]
  },
  {
   "cell_type": "code",
   "execution_count": 87,
   "metadata": {},
   "outputs": [
    {
     "data": {
      "text/plain": [
       "{13702: [864, 28074, 1041, 21079, 8300, 13057, 8313, 21025, 1033, 1111],\n",
       " 16627: [11431, 5687, 17964, 12660, 12247, 17961, 16694, 5558, 11575, 13551],\n",
       " 16704: [1236, 1247, 1365, 1164, 1273, 20288, 8186, 1233, 8203, 18331],\n",
       " 23126: [13665, 14760, 13782, 20638, 24419, 15909, 2724, 25782, 17499, 13348],\n",
       " 21617: [21609, 21616, 22298, 21608, 21630, 21628, 21081, 21623, 19417, 21508],\n",
       " 11556: [16488, 468, 19330, 10447, 23357, 21707, 22710, 13461, 10384, 13776]}"
      ]
     },
     "execution_count": 87,
     "metadata": {},
     "output_type": "execute_result"
    }
   ],
   "source": [
    "result_agg = (\n",
    "    result_df\n",
    "    .select([\n",
    "        \"id_test\",\n",
    "        \"id\"\n",
    "    ])\n",
    "    .groupBy(\"id_test\")\n",
    "    .agg(f.collect_list(\"id\").alias(\"id\"))\n",
    "    .collect()\n",
    ")\n",
    "\n",
    "result_dict = dict()\n",
    "for row in result_agg:\n",
    "    result_dict[row[\"id_test\"]] = row[\"id\"]\n",
    "    \n",
    "result_dict"
   ]
  },
  {
   "cell_type": "code",
   "execution_count": 88,
   "metadata": {},
   "outputs": [],
   "source": [
    "import json\n",
    "\n",
    "with open(\"/data/home/alexander.yusov/lab02.json\", \"w\") as ff:\n",
    "    json.dump(result_dict, ff)"
   ]
  },
  {
   "cell_type": "markdown",
   "metadata": {},
   "source": [
    "# Закрытие спарк сессии"
   ]
  },
  {
   "cell_type": "code",
   "execution_count": null,
   "metadata": {},
   "outputs": [],
   "source": [
    "sc.stop()"
   ]
  }
 ],
 "metadata": {
  "kernelspec": {
   "display_name": "Python 3",
   "language": "python",
   "name": "python3"
  },
  "language_info": {
   "codemirror_mode": {
    "name": "ipython",
    "version": 3
   },
   "file_extension": ".py",
   "mimetype": "text/x-python",
   "name": "python",
   "nbconvert_exporter": "python",
   "pygments_lexer": "ipython3",
   "version": "3.6.5"
  }
 },
 "nbformat": 4,
 "nbformat_minor": 2
}
