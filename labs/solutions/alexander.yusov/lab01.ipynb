{
 "cells": [
  {
   "cell_type": "code",
   "execution_count": 1,
   "metadata": {},
   "outputs": [
    {
     "name": "stdout",
     "output_type": "stream",
     "text": [
      "Welcome to\n",
      "      ____              __\n",
      "     / __/__  ___ _____/ /__\n",
      "    _\\ \\/ _ \\/ _ `/ __/  '_/\n",
      "   /__ / .__/\\_,_/_/ /_/\\_\\   version 2.4.7\n",
      "      /_/\n",
      "\n",
      "Using Python version 3.6.5 (default, Apr 29 2018 16:14:56)\n",
      "SparkSession available as 'spark'.\n"
     ]
    }
   ],
   "source": [
    "import os\n",
    "import sys\n",
    "\n",
    "os.environ[\"PYSPARK_PYTHON\"] = '/opt/anaconda/envs/bd9/bin/python'\n",
    "os.environ[\"SPARK_HOME\"] = '/usr/hdp/current/spark2-client'\n",
    "os.environ[\"PYSPARK_SUBMIT_ARGS\"] = '--num-executors 2 pyspark-shell'\n",
    "\n",
    "spark_home = os.environ.get('SPARK_HOME', None)\n",
    "if not spark_home:\n",
    "    raise ValueError('SPARK_HOME environment variable is not set')\n",
    "\n",
    "sys.path.insert(0, os.path.join(spark_home, 'python'))\n",
    "sys.path.insert(0, os.path.join(spark_home, 'python/lib/py4j-0.10.7-src.zip'))\n",
    "exec(open(os.path.join(spark_home, 'python/pyspark/shell.py')).read())"
   ]
  },
  {
   "cell_type": "markdown",
   "metadata": {},
   "source": [
    "# Создание сессии"
   ]
  },
  {
   "cell_type": "code",
   "execution_count": 6,
   "metadata": {},
   "outputs": [],
   "source": [
    "from pyspark import SparkConf\n",
    "from pyspark.sql import SparkSession\n",
    "from pyspark.sql import functions as F\n",
    "from pyspark.sql.types import *\n",
    "from pyspark import Row\n",
    "import json\n",
    "\n",
    "conf = SparkConf()\n",
    "\n",
    "sc = (\n",
    "    SparkSession\n",
    "    .builder\n",
    "    .config(conf=conf)\n",
    "    .appName(\"lab01-alexander.yusov\")\n",
    "    .getOrCreate()\n",
    ")"
   ]
  },
  {
   "cell_type": "markdown",
   "metadata": {},
   "source": [
    "# Данные"
   ]
  },
  {
   "cell_type": "code",
   "execution_count": 9,
   "metadata": {},
   "outputs": [],
   "source": [
    "film_id = 328\n",
    "\n",
    "u_data = sc.sparkContext.textFile(\"/labs/laba01/ml-100k/u.data\")"
   ]
  },
  {
   "cell_type": "markdown",
   "metadata": {},
   "source": [
    "## Парсинг tsv"
   ]
  },
  {
   "cell_type": "code",
   "execution_count": 14,
   "metadata": {},
   "outputs": [
    {
     "data": {
      "text/plain": [
       "[['99', '98', '5', '885679596'],\n",
       " ['99', '978', '3', '885679382'],\n",
       " ['99', '975', '3', '885679472']]"
      ]
     },
     "execution_count": 14,
     "metadata": {},
     "output_type": "execute_result"
    }
   ],
   "source": [
    "# format | user_id | item_id | rating | timestamp\n",
    "\n",
    "(\n",
    "    u_data\n",
    "    .map(lambda x: x.split(\"\\t\"))\n",
    "    .top(3)\n",
    ")"
   ]
  },
  {
   "cell_type": "markdown",
   "metadata": {},
   "source": [
    "# Задание\n",
    "\n",
    "По имеющимся данным о рейтингах фильмов (MovieLens: 100 000 рейтингов) посчитать агрегированную статистику по ним.\n",
    "\n",
    "Выходной формат файла — json. Пример решения:\n",
    "\n",
    "```\n",
    "{\n",
    "   \"hist_film\": [  \n",
    "      134,\n",
    "      123,\n",
    "      782,\n",
    "      356,\n",
    "      148\n",
    "   ],\n",
    "   \"hist_all\": [  \n",
    "      134,\n",
    "      123,\n",
    "      782,\n",
    "      356,\n",
    "      148\n",
    "   ]\n",
    "}\n",
    "```\n",
    "\n",
    "В поле “hist_film” нужно указать для заданного id фильма количество поставленных оценок в следующем порядке: \"1\", \"2\", \"3\", \"4\", \"5\". То есть, сколько было единичек, двоек, троек и т.д.\n",
    "\n",
    "В поле “hist_all” нужно указать то же самое, только для всех фильмов общее количество поставленных оценок в том же порядке: \"1\", \"2\", \"3\", \"4\", \"5\"."
   ]
  },
  {
   "cell_type": "code",
   "execution_count": 31,
   "metadata": {
    "scrolled": false
   },
   "outputs": [
    {
     "data": {
      "text/plain": [
       "[(1, 12), (2, 40), (3, 94), (4, 109), (5, 40)]"
      ]
     },
     "execution_count": 31,
     "metadata": {},
     "output_type": "execute_result"
    }
   ],
   "source": [
    "from operator import add\n",
    "\n",
    "hist_film = (\n",
    "    u_data\n",
    "    .map(lambda x: x.split(\"\\t\"))  # парсинг строки\n",
    "    .map(lambda x: (int(x[1]), int(x[2])))  # (item_id, rating)\n",
    "    .filter(lambda x: x[0] == film_id)  # поиск нужного фильма\n",
    "    .map(lambda x: (x[1], 1))  # (оценка, 1)\n",
    "    .reduceByKey(add)  # типа word count\n",
    "    .sortByKey()\n",
    "    .take(6)  # на всякий случай, чтобы в случае ошибки в данных не было OOM\n",
    ")\n",
    "hist_film"
   ]
  },
  {
   "cell_type": "code",
   "execution_count": 32,
   "metadata": {},
   "outputs": [
    {
     "data": {
      "text/plain": [
       "[(1, 6110), (2, 11370), (3, 27145), (4, 34174), (5, 21201)]"
      ]
     },
     "execution_count": 32,
     "metadata": {},
     "output_type": "execute_result"
    }
   ],
   "source": [
    "hist_all = (\n",
    "    u_data\n",
    "    .map(lambda x: x.split(\"\\t\"))  # парсинг строки\n",
    "    .map(lambda x: (int(x[1]), int(x[2])))  # (item_id, rating)\n",
    "    .map(lambda x: (x[1], 1))  # (оценка, 1)\n",
    "    .reduceByKey(add)  # типа word count\n",
    "    .sortByKey()\n",
    "    .take(6)  # на всякий случай, чтобы в случае ошибки в данных не было OOM\n",
    ")\n",
    "hist_all"
   ]
  },
  {
   "cell_type": "markdown",
   "metadata": {},
   "source": [
    "## Сохранение результата"
   ]
  },
  {
   "cell_type": "code",
   "execution_count": 36,
   "metadata": {},
   "outputs": [],
   "source": [
    "import json\n",
    "\n",
    "with open(\"/data/home/alexander.yusov/lab01.json\", \"w\") as f:\n",
    "    json.dump({\n",
    "        \"hist_film\": [x[1] for x in hist_film],\n",
    "        \"hist_all\": [x[1] for x in hist_all],\n",
    "    }, f)"
   ]
  },
  {
   "cell_type": "markdown",
   "metadata": {},
   "source": [
    "# Закрытие сессии"
   ]
  },
  {
   "cell_type": "code",
   "execution_count": 37,
   "metadata": {},
   "outputs": [],
   "source": [
    "sc.stop()"
   ]
  }
 ],
 "metadata": {
  "kernelspec": {
   "display_name": "Python 3",
   "language": "python",
   "name": "python3"
  },
  "language_info": {
   "codemirror_mode": {
    "name": "ipython",
    "version": 3
   },
   "file_extension": ".py",
   "mimetype": "text/x-python",
   "name": "python",
   "nbconvert_exporter": "python",
   "pygments_lexer": "ipython3",
   "version": "3.6.5"
  }
 },
 "nbformat": 4,
 "nbformat_minor": 2
}
