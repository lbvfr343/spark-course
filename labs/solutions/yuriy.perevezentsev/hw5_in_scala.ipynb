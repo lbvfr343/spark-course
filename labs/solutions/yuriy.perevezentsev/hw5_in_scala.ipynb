{
 "cells": [
  {
   "cell_type": "markdown",
   "metadata": {},
   "source": [
    "## Лаба 5: Прогнозирование оттока клиентов"
   ]
  },
  {
   "cell_type": "code",
   "execution_count": 1,
   "metadata": {},
   "outputs": [],
   "source": [
    "import org.apache.spark.sql.functions.{col, when, count, lit, udf}\n",
    "import org.apache.spark.sql.Column\n",
    "import org.apache.spark.sql.DataFrame\n",
    "import org.apache.spark.sql.types.{FloatType, StringType, IntegerType}\n",
    "import org.apache.spark.ml.feature.{StringIndexer, OneHotEncoderEstimator, VectorAssembler}\n",
    "import org.apache.spark.ml.evaluation.BinaryClassificationEvaluator\n",
    "import org.apache.spark.ml.classification.{LogisticRegression, GBTClassifier}\n",
    "import org.apache.spark.ml.linalg.{SparseVector, DenseVector, Vector}\n",
    "import sys.process._"
   ]
  },
  {
   "cell_type": "code",
   "execution_count": 2,
   "metadata": {},
   "outputs": [
    {
     "data": {
      "text/plain": [
       "Waiting for a Spark session to start..."
      ]
     },
     "metadata": {},
     "output_type": "display_data"
    },
    {
     "name": "stdout",
     "output_type": "stream",
     "text": [
      "+------+------+--------------+------------------+------------------------+--------------------+-----------------+----------------+----------------------+-----------------------+-----------------------+------------------+---------------------+-----------------------+-------------------+--------------+-----------------+--------------------+-----------------------+--------------+------------------+--------------------+---------------+----------------+-----------------------+---------------------------+----------------------+------------------+-----------------+-------------------+-------------------+-------------+-----------------------+-----------------------+-----------------+---------------+-------------------+---------------+---------------+----------------+-------+---------------+-----------------------+-----------------+-----------+-------------------+------------------+-------------+---+-----------------------+--------------+-----------------------+--------------------+------------------+------------+-----------------------+---------------+--------------+----------------+---------------+-------------+---------------+-----------------------+-------------------+-------------+---------------+---------------+-------------+------------------------+-------------------+-----------------------+-----------------------+--------------------+-----------------------+------------------+-----------------------+-----------------------+----------------------+-----------------------+------------------------+-----------------------+---------------+-----------------------+---------------+-----------------------+--------------------+-----------------------+-----------------------+-----------------------+----+---------------+------------+----------------+-----------------------+------------------------+-----------------------+------------------------+-----------------+-----------------------+----------------+--------------------+----------------------+------------------+----------------------+----------------------+------------------------+--------------------------+------------------+----------------+----------------------+-----------------------+-----------------------+----------------------+---------------------+----------------------+-----------------------+------+\n",
      "|   _c0|    ID|CR_PROD_CNT_IL|AMOUNT_RUB_CLO_PRC|PRC_ACCEPTS_A_EMAIL_LINK|APP_REGISTR_RGN_CODE|PRC_ACCEPTS_A_POS|PRC_ACCEPTS_A_TK|TURNOVER_DYNAMIC_IL_1M|CNT_TRAN_AUT_TENDENCY1M|SUM_TRAN_AUT_TENDENCY1M|AMOUNT_RUB_SUP_PRC|PRC_ACCEPTS_A_AMOBILE|SUM_TRAN_AUT_TENDENCY3M|CLNT_TRUST_RELATION|PRC_ACCEPTS_TK|PRC_ACCEPTS_A_MTP|REST_DYNAMIC_FDEP_1M|CNT_TRAN_AUT_TENDENCY3M|CNT_ACCEPTS_TK|APP_MARITAL_STATUS|REST_DYNAMIC_SAVE_3M|CR_PROD_CNT_VCU|    REST_AVG_CUR|CNT_TRAN_MED_TENDENCY1M|APP_KIND_OF_PROP_HABITATION|CLNT_JOB_POSITION_TYPE|AMOUNT_RUB_NAS_PRC|CLNT_JOB_POSITION|APP_DRIVING_LICENSE|TRANS_COUNT_SUP_PRC|APP_EDUCATION|CNT_TRAN_CLO_TENDENCY1M|SUM_TRAN_MED_TENDENCY1M|PRC_ACCEPTS_A_ATM|PRC_ACCEPTS_MTP|TRANS_COUNT_NAS_PRC|APP_TRAVEL_PASS|CNT_ACCEPTS_MTP|CR_PROD_CNT_TOVR|APP_CAR|CR_PROD_CNT_PIL|SUM_TRAN_CLO_TENDENCY1M|APP_POSITION_TYPE|TURNOVER_CC|TRANS_COUNT_ATM_PRC|AMOUNT_RUB_ATM_PRC|TURNOVER_PAYM|AGE|CNT_TRAN_MED_TENDENCY3M|CR_PROD_CNT_CC|SUM_TRAN_MED_TENDENCY3M|REST_DYNAMIC_FDEP_3M|REST_DYNAMIC_IL_1M|APP_EMP_TYPE|SUM_TRAN_CLO_TENDENCY3M|LDEAL_TENOR_MAX|LDEAL_YQZ_CHRG|CR_PROD_CNT_CCFP|DEAL_YQZ_IR_MAX|LDEAL_YQZ_COM|DEAL_YQZ_IR_MIN|CNT_TRAN_CLO_TENDENCY3M|REST_DYNAMIC_CUR_1M|REST_AVG_PAYM|LDEAL_TENOR_MIN|LDEAL_AMT_MONTH|APP_COMP_TYPE|LDEAL_GRACE_DAYS_PCT_MED|REST_DYNAMIC_CUR_3M|CNT_TRAN_SUP_TENDENCY3M|TURNOVER_DYNAMIC_CUR_1M|REST_DYNAMIC_PAYM_3M|SUM_TRAN_SUP_TENDENCY3M|REST_DYNAMIC_IL_3M|CNT_TRAN_ATM_TENDENCY3M|CNT_TRAN_ATM_TENDENCY1M|TURNOVER_DYNAMIC_IL_3M|SUM_TRAN_ATM_TENDENCY3M|DEAL_GRACE_DAYS_ACC_S1X1|AVG_PCT_MONTH_TO_PCLOSE|DEAL_YWZ_IR_MIN|SUM_TRAN_SUP_TENDENCY1M|DEAL_YWZ_IR_MAX|SUM_TRAN_ATM_TENDENCY1M|REST_DYNAMIC_PAYM_1M|CNT_TRAN_SUP_TENDENCY1M|DEAL_GRACE_DAYS_ACC_AVG|TURNOVER_DYNAMIC_CUR_3M|PACK|MAX_PCLOSE_DATE|LDEAL_YQZ_PC|CLNT_SETUP_TENOR|DEAL_GRACE_DAYS_ACC_MAX|TURNOVER_DYNAMIC_PAYM_3M|LDEAL_DELINQ_PER_MAXYQZ|TURNOVER_DYNAMIC_PAYM_1M|CLNT_SALARY_VALUE|TRANS_AMOUNT_TENDENCY3M|MED_DEBT_PRC_YQZ|TRANS_CNT_TENDENCY3M|LDEAL_USED_AMT_AVG_YQZ|REST_DYNAMIC_CC_1M|LDEAL_USED_AMT_AVG_YWZ|TURNOVER_DYNAMIC_CC_1M|AVG_PCT_DEBT_TO_DEAL_AMT|LDEAL_ACT_DAYS_ACC_PCT_AVG|REST_DYNAMIC_CC_3M|MED_DEBT_PRC_YWZ|LDEAL_ACT_DAYS_PCT_TR3|LDEAL_ACT_DAYS_PCT_AAVG|LDEAL_DELINQ_PER_MAXYWZ|TURNOVER_DYNAMIC_CC_3M|LDEAL_ACT_DAYS_PCT_TR|LDEAL_ACT_DAYS_PCT_TR4|LDEAL_ACT_DAYS_PCT_CURR|TARGET|\n",
      "+------+------+--------------+------------------+------------------------+--------------------+-----------------+----------------+----------------------+-----------------------+-----------------------+------------------+---------------------+-----------------------+-------------------+--------------+-----------------+--------------------+-----------------------+--------------+------------------+--------------------+---------------+----------------+-----------------------+---------------------------+----------------------+------------------+-----------------+-------------------+-------------------+-------------+-----------------------+-----------------------+-----------------+---------------+-------------------+---------------+---------------+----------------+-------+---------------+-----------------------+-----------------+-----------+-------------------+------------------+-------------+---+-----------------------+--------------+-----------------------+--------------------+------------------+------------+-----------------------+---------------+--------------+----------------+---------------+-------------+---------------+-----------------------+-------------------+-------------+---------------+---------------+-------------+------------------------+-------------------+-----------------------+-----------------------+--------------------+-----------------------+------------------+-----------------------+-----------------------+----------------------+-----------------------+------------------------+-----------------------+---------------+-----------------------+---------------+-----------------------+--------------------+-----------------------+-----------------------+-----------------------+----+---------------+------------+----------------+-----------------------+------------------------+-----------------------+------------------------+-----------------+-----------------------+----------------+--------------------+----------------------+------------------+----------------------+----------------------+------------------------+--------------------------+------------------+----------------+----------------------+-----------------------+-----------------------+----------------------+---------------------+----------------------+-----------------------+------+\n",
      "|333149|479990|             0|               0.0|                     0.0|                null|              0.0|             0.0|                   0.0|                   null|                   null|               0.0|                  0.0|                   null|               null|           0.0|              0.0|                 0.0|                   null|           0.0|              null|                 0.0|              0|19069.6917166667|                   null|                       null|                  null|               0.0|             null|               null|                0.0|         null|                   null|                   null|              0.0|            0.0|                0.0|           null|            0.0|               1|   null|              0|                   null|             null|        0.0|  0.981818181818182|0.9264718189135429|          0.0|324|                   null|             0|                   null|                 0.0|               0.0|        null|                   null|           null|          null|               0|           null|         null|           null|                   null|  0.139327197286461|          0.0|           null|           null|         null|                     0.0|0.24404241658152398|                   null|    0.14429972251526998|                 0.0|                   null|               0.0|      0.351851851851852|      0.166666666666667|                   0.0|      0.329320637235633|                     0.0|                   null|           45.0|                   null|           45.0|    0.16790105289165602|                 0.0|                   null|                    0.0|    0.30374965665416803| 102|           null|        null|5.48000105784548|                    0.0|                     0.0|                   null|                     0.0|             null|      0.305106289785464|            null| 0.34545454545454496|                  null|               0.0|                   1.0|                   0.0|                    null|      0.003523608174770...|               0.0|             0.0|                   0.0|                    0.0|                    0.0|                   0.0|                  0.0|                   0.0|                    0.0|     0|\n",
      "|303639|450480|             0|               0.0|                     0.0|                null|              0.0|             0.0|                   0.0|                   null|                   null|0.0271675019481959|                  0.0|                   null|               null|           0.0|              0.0|                 0.0|                   null|           0.0|              null|                 0.0|              0|5951.20868333333|                   null|                       null|                  null|0.0487455178496337|    офис-менеджер|               null| 0.0303030303030303|         null|                   null|                   null|              0.0|            0.0| 0.0303030303030303|           null|            0.0|               1|   null|              0|                   null|             null|        0.0| 0.0909090909090909| 0.292473107097802|          0.0|360|                   null|             0|                   null|                 0.0|               0.0|        null|                   null|           null|          null|               0|           null|         null|           null|                   null|  0.163875925921502|          0.0|           null|           null|         null|                     0.0| 0.4652443081723449|                    1.0|      0.203483595055288|                 0.0|                    1.0|               0.0|    0.33333333333333304|    0.33333333333333304|                   0.0|    0.33333333333333304|                     0.0|                   null|           45.0|                   null|           45.0|    0.33333333333333304|                 0.0|                   null|                    0.0|      0.504160053455052| 102|           null|        null|6.78645267074871|                    0.0|                     0.0|                   null|                     0.0|             null|    0.36879916391687795|            null| 0.45454545454545503|                  null|               0.0|                   1.0|                   0.0|                    null|      0.000617665225447807|               0.0|             0.0|                   0.0|                    0.0|                    0.0|                   0.0|                  0.0|                   0.0|                    0.0|     0|\n",
      "+------+------+--------------+------------------+------------------------+--------------------+-----------------+----------------+----------------------+-----------------------+-----------------------+------------------+---------------------+-----------------------+-------------------+--------------+-----------------+--------------------+-----------------------+--------------+------------------+--------------------+---------------+----------------+-----------------------+---------------------------+----------------------+------------------+-----------------+-------------------+-------------------+-------------+-----------------------+-----------------------+-----------------+---------------+-------------------+---------------+---------------+----------------+-------+---------------+-----------------------+-----------------+-----------+-------------------+------------------+-------------+---+-----------------------+--------------+-----------------------+--------------------+------------------+------------+-----------------------+---------------+--------------+----------------+---------------+-------------+---------------+-----------------------+-------------------+-------------+---------------+---------------+-------------+------------------------+-------------------+-----------------------+-----------------------+--------------------+-----------------------+------------------+-----------------------+-----------------------+----------------------+-----------------------+------------------------+-----------------------+---------------+-----------------------+---------------+-----------------------+--------------------+-----------------------+-----------------------+-----------------------+----+---------------+------------+----------------+-----------------------+------------------------+-----------------------+------------------------+-----------------+-----------------------+----------------+--------------------+----------------------+------------------+----------------------+----------------------+------------------------+--------------------------+------------------+----------------+----------------------+-----------------------+-----------------------+----------------------+---------------------+----------------------+-----------------------+------+\n",
      "only showing top 2 rows\n",
      "\n"
     ]
    },
    {
     "data": {
      "text/plain": [
       "df_train = [_c0: string, ID: string ... 115 more fields]\n"
      ]
     },
     "metadata": {},
     "output_type": "display_data"
    },
    {
     "data": {
      "text/plain": [
       "[_c0: string, ID: string ... 115 more fields]"
      ]
     },
     "execution_count": 2,
     "metadata": {},
     "output_type": "execute_result"
    }
   ],
   "source": [
    "val df_train = spark.read.option(\"header\", true).format(\"csv\").load(\"/labs/slaba05/lab05_train.csv\")\n",
    "df_train.show(2)"
   ]
  },
  {
   "cell_type": "code",
   "execution_count": 3,
   "metadata": {},
   "outputs": [
    {
     "name": "stdout",
     "output_type": "stream",
     "text": [
      "+------+------+--------------+------------------+------------------------+--------------------+-----------------+----------------+----------------------+-----------------------+-----------------------+------------------+---------------------+-----------------------+-------------------+--------------+-----------------+--------------------+-----------------------+--------------+------------------+--------------------+---------------+----------------+-----------------------+---------------------------+----------------------+------------------+-----------------+-------------------+-------------------+-------------+-----------------------+-----------------------+-----------------+---------------+-------------------+---------------+---------------+----------------+-------+---------------+-----------------------+-----------------+-----------+-------------------+------------------+-------------+---+-----------------------+--------------+-----------------------+--------------------+------------------+------------+-----------------------+---------------+--------------+----------------+---------------+-------------+---------------+-----------------------+-------------------+-------------+---------------+---------------+-------------+------------------------+-------------------+-----------------------+-----------------------+--------------------+-----------------------+------------------+-----------------------+-----------------------+----------------------+-----------------------+------------------------+-----------------------+---------------+-----------------------+---------------+-----------------------+--------------------+-----------------------+-----------------------+-----------------------+----+---------------+------------+------------------+-----------------------+------------------------+-----------------------+------------------------+-----------------+-----------------------+----------------+--------------------+----------------------+------------------+----------------------+----------------------+------------------------+--------------------------+------------------+----------------+----------------------+-----------------------+-----------------------+----------------------+---------------------+----------------------+-----------------------+\n",
      "|   _c0|    ID|CR_PROD_CNT_IL|AMOUNT_RUB_CLO_PRC|PRC_ACCEPTS_A_EMAIL_LINK|APP_REGISTR_RGN_CODE|PRC_ACCEPTS_A_POS|PRC_ACCEPTS_A_TK|TURNOVER_DYNAMIC_IL_1M|CNT_TRAN_AUT_TENDENCY1M|SUM_TRAN_AUT_TENDENCY1M|AMOUNT_RUB_SUP_PRC|PRC_ACCEPTS_A_AMOBILE|SUM_TRAN_AUT_TENDENCY3M|CLNT_TRUST_RELATION|PRC_ACCEPTS_TK|PRC_ACCEPTS_A_MTP|REST_DYNAMIC_FDEP_1M|CNT_TRAN_AUT_TENDENCY3M|CNT_ACCEPTS_TK|APP_MARITAL_STATUS|REST_DYNAMIC_SAVE_3M|CR_PROD_CNT_VCU|    REST_AVG_CUR|CNT_TRAN_MED_TENDENCY1M|APP_KIND_OF_PROP_HABITATION|CLNT_JOB_POSITION_TYPE|AMOUNT_RUB_NAS_PRC|CLNT_JOB_POSITION|APP_DRIVING_LICENSE|TRANS_COUNT_SUP_PRC|APP_EDUCATION|CNT_TRAN_CLO_TENDENCY1M|SUM_TRAN_MED_TENDENCY1M|PRC_ACCEPTS_A_ATM|PRC_ACCEPTS_MTP|TRANS_COUNT_NAS_PRC|APP_TRAVEL_PASS|CNT_ACCEPTS_MTP|CR_PROD_CNT_TOVR|APP_CAR|CR_PROD_CNT_PIL|SUM_TRAN_CLO_TENDENCY1M|APP_POSITION_TYPE|TURNOVER_CC|TRANS_COUNT_ATM_PRC|AMOUNT_RUB_ATM_PRC|TURNOVER_PAYM|AGE|CNT_TRAN_MED_TENDENCY3M|CR_PROD_CNT_CC|SUM_TRAN_MED_TENDENCY3M|REST_DYNAMIC_FDEP_3M|REST_DYNAMIC_IL_1M|APP_EMP_TYPE|SUM_TRAN_CLO_TENDENCY3M|LDEAL_TENOR_MAX|LDEAL_YQZ_CHRG|CR_PROD_CNT_CCFP|DEAL_YQZ_IR_MAX|LDEAL_YQZ_COM|DEAL_YQZ_IR_MIN|CNT_TRAN_CLO_TENDENCY3M|REST_DYNAMIC_CUR_1M|REST_AVG_PAYM|LDEAL_TENOR_MIN|LDEAL_AMT_MONTH|APP_COMP_TYPE|LDEAL_GRACE_DAYS_PCT_MED|REST_DYNAMIC_CUR_3M|CNT_TRAN_SUP_TENDENCY3M|TURNOVER_DYNAMIC_CUR_1M|REST_DYNAMIC_PAYM_3M|SUM_TRAN_SUP_TENDENCY3M|REST_DYNAMIC_IL_3M|CNT_TRAN_ATM_TENDENCY3M|CNT_TRAN_ATM_TENDENCY1M|TURNOVER_DYNAMIC_IL_3M|SUM_TRAN_ATM_TENDENCY3M|DEAL_GRACE_DAYS_ACC_S1X1|AVG_PCT_MONTH_TO_PCLOSE|DEAL_YWZ_IR_MIN|SUM_TRAN_SUP_TENDENCY1M|DEAL_YWZ_IR_MAX|SUM_TRAN_ATM_TENDENCY1M|REST_DYNAMIC_PAYM_1M|CNT_TRAN_SUP_TENDENCY1M|DEAL_GRACE_DAYS_ACC_AVG|TURNOVER_DYNAMIC_CUR_3M|PACK|MAX_PCLOSE_DATE|LDEAL_YQZ_PC|  CLNT_SETUP_TENOR|DEAL_GRACE_DAYS_ACC_MAX|TURNOVER_DYNAMIC_PAYM_3M|LDEAL_DELINQ_PER_MAXYQZ|TURNOVER_DYNAMIC_PAYM_1M|CLNT_SALARY_VALUE|TRANS_AMOUNT_TENDENCY3M|MED_DEBT_PRC_YQZ|TRANS_CNT_TENDENCY3M|LDEAL_USED_AMT_AVG_YQZ|REST_DYNAMIC_CC_1M|LDEAL_USED_AMT_AVG_YWZ|TURNOVER_DYNAMIC_CC_1M|AVG_PCT_DEBT_TO_DEAL_AMT|LDEAL_ACT_DAYS_ACC_PCT_AVG|REST_DYNAMIC_CC_3M|MED_DEBT_PRC_YWZ|LDEAL_ACT_DAYS_PCT_TR3|LDEAL_ACT_DAYS_PCT_AAVG|LDEAL_DELINQ_PER_MAXYWZ|TURNOVER_DYNAMIC_CC_3M|LDEAL_ACT_DAYS_PCT_TR|LDEAL_ACT_DAYS_PCT_TR4|LDEAL_ACT_DAYS_PCT_CURR|\n",
      "+------+------+--------------+------------------+------------------------+--------------------+-----------------+----------------+----------------------+-----------------------+-----------------------+------------------+---------------------+-----------------------+-------------------+--------------+-----------------+--------------------+-----------------------+--------------+------------------+--------------------+---------------+----------------+-----------------------+---------------------------+----------------------+------------------+-----------------+-------------------+-------------------+-------------+-----------------------+-----------------------+-----------------+---------------+-------------------+---------------+---------------+----------------+-------+---------------+-----------------------+-----------------+-----------+-------------------+------------------+-------------+---+-----------------------+--------------+-----------------------+--------------------+------------------+------------+-----------------------+---------------+--------------+----------------+---------------+-------------+---------------+-----------------------+-------------------+-------------+---------------+---------------+-------------+------------------------+-------------------+-----------------------+-----------------------+--------------------+-----------------------+------------------+-----------------------+-----------------------+----------------------+-----------------------+------------------------+-----------------------+---------------+-----------------------+---------------+-----------------------+--------------------+-----------------------+-----------------------+-----------------------+----+---------------+------------+------------------+-----------------------+------------------------+-----------------------+------------------------+-----------------+-----------------------+----------------+--------------------+----------------------+------------------+----------------------+----------------------+------------------------+--------------------------+------------------+----------------+----------------------+-----------------------+-----------------------+----------------------+---------------------+----------------------+-----------------------+\n",
      "|372289|519130|             0|               0.0|                    null|                null|             null|            null|                   0.0|                   null|                   null|               0.0|                 null|                   null|               null|          null|             null|                 0.0|                   null|          null|              null|                 1.0|              0|      13916.8191|                   null|                       null|                  null|               0.0|             null|               null|                0.0|         null|                   null|                   null|             null|           null|                0.0|           null|           null|               0|   null|              0|                   null|             null|        0.0|                1.0|               1.0|          0.0|240|                   null|             0|                   null|                 0.0|               0.0|        null|                   null|           null|          null|               0|           null|         null|           null|                   null|  0.479789155507046|          0.0|           null|           null|         null|                     0.0|                1.0|                   null|     0.6401123866394111|                 0.0|                   null|               0.0|                    1.0|                   null|                   0.0|                    1.0|                    null|                   null|           null|                   null|           null|                   null|                 0.0|                   null|                   null|                    1.0| K01|           null|        null|0.5713989073078449|                   null|                     0.0|                   null|                     0.0|             null|                    1.0|            null|                 1.0|                  null|               0.0|                  null|                   0.0|                    null|                      null|               0.0|            null|                  null|                   null|                   null|                   0.0|                 null|                  null|                   null|\n",
      "| 87204|234045|             0| 0.013321948059629|                     0.0|                null|              0.0|             0.0|                   0.0|                   null|                   null|0.0478574733930613|                  0.0|                   null|               null|           0.0|              0.0|                 0.0|                   null|           0.0|              null|                 0.0|              0|86440.6242333333|                   null|                       null|                  null|0.0120611635420596|      ИНЖЕРЕН АСУ|               null|0.10958904109588999|         null|                    1.0|                   null|              0.0|            0.0|0.19178082191780801|           null|            0.0|               0|   null|              0|                    1.0|             null|        0.0|  0.136986301369863|0.6076402824928411|          0.0|348|                   null|             0|                   null|                 0.0|               0.0|        null|                    1.0|           null|          null|               0|           null|         null|           null|                    1.0| 0.0755606007930854|          0.0|           null|           null|         null|                     0.0|  0.330424066847332|                  0.625|      0.147249149470836|                 0.0|      0.175095002335992|               0.0|                    0.5|                    0.2|                   0.0|      0.616595489809007|                    null|                   null|           null|     0.0325201930944116|           null|     0.0514841714515509|                 0.0|                   0.25|                   null|      0.556152068739451| 102|           null|        null|3.2811949298088394|                   null|                     0.0|                   null|                     0.0|             null|      0.522862522493378|            null|   0.547945205479452|                  null|               0.0|                  null|                   0.0|                    null|                      null|               0.0|            null|                  null|                   null|                   null|                   0.0|                 null|                  null|                   null|\n",
      "+------+------+--------------+------------------+------------------------+--------------------+-----------------+----------------+----------------------+-----------------------+-----------------------+------------------+---------------------+-----------------------+-------------------+--------------+-----------------+--------------------+-----------------------+--------------+------------------+--------------------+---------------+----------------+-----------------------+---------------------------+----------------------+------------------+-----------------+-------------------+-------------------+-------------+-----------------------+-----------------------+-----------------+---------------+-------------------+---------------+---------------+----------------+-------+---------------+-----------------------+-----------------+-----------+-------------------+------------------+-------------+---+-----------------------+--------------+-----------------------+--------------------+------------------+------------+-----------------------+---------------+--------------+----------------+---------------+-------------+---------------+-----------------------+-------------------+-------------+---------------+---------------+-------------+------------------------+-------------------+-----------------------+-----------------------+--------------------+-----------------------+------------------+-----------------------+-----------------------+----------------------+-----------------------+------------------------+-----------------------+---------------+-----------------------+---------------+-----------------------+--------------------+-----------------------+-----------------------+-----------------------+----+---------------+------------+------------------+-----------------------+------------------------+-----------------------+------------------------+-----------------+-----------------------+----------------+--------------------+----------------------+------------------+----------------------+----------------------+------------------------+--------------------------+------------------+----------------+----------------------+-----------------------+-----------------------+----------------------+---------------------+----------------------+-----------------------+\n",
      "only showing top 2 rows\n",
      "\n"
     ]
    },
    {
     "data": {
      "text/plain": [
       "df_test = [_c0: string, ID: string ... 114 more fields]\n"
      ]
     },
     "metadata": {},
     "output_type": "display_data"
    },
    {
     "data": {
      "text/plain": [
       "[_c0: string, ID: string ... 114 more fields]"
      ]
     },
     "execution_count": 3,
     "metadata": {},
     "output_type": "execute_result"
    }
   ],
   "source": [
    "val df_test = spark.read.option(\"header\", true).format(\"csv\").load(\"/labs/slaba05/lab05_test.csv\")\n",
    "df_test.show(2)"
   ]
  },
  {
   "cell_type": "markdown",
   "metadata": {},
   "source": [
    "### 1. Выбираем фичи"
   ]
  },
  {
   "cell_type": "code",
   "execution_count": 4,
   "metadata": {},
   "outputs": [
    {
     "name": "stdout",
     "output_type": "stream",
     "text": [
      "root\n",
      " |-- ID: integer (nullable = true)\n",
      " |-- CR_PROD_CNT_IL: integer (nullable = true)\n",
      " |-- TURNOVER_DYNAMIC_IL_1M: float (nullable = true)\n",
      " |-- REST_DYNAMIC_FDEP_1M: float (nullable = true)\n",
      " |-- REST_DYNAMIC_SAVE_3M: float (nullable = true)\n",
      " |-- CR_PROD_CNT_VCU: float (nullable = true)\n",
      " |-- REST_AVG_CUR: float (nullable = true)\n",
      " |-- CR_PROD_CNT_TOVR: float (nullable = true)\n",
      " |-- CR_PROD_CNT_PIL: float (nullable = true)\n",
      " |-- TURNOVER_CC: float (nullable = true)\n",
      " |-- TURNOVER_PAYM: float (nullable = true)\n",
      " |-- AGE: float (nullable = true)\n",
      " |-- CR_PROD_CNT_CC: float (nullable = true)\n",
      " |-- REST_DYNAMIC_FDEP_3M: float (nullable = true)\n",
      " |-- REST_DYNAMIC_IL_1M: float (nullable = true)\n",
      " |-- CR_PROD_CNT_CCFP: float (nullable = true)\n",
      " |-- REST_DYNAMIC_CUR_1M: float (nullable = true)\n",
      " |-- REST_AVG_PAYM: float (nullable = true)\n",
      " |-- LDEAL_GRACE_DAYS_PCT_MED: float (nullable = true)\n",
      " |-- REST_DYNAMIC_CUR_3M: float (nullable = true)\n",
      " |-- TURNOVER_DYNAMIC_CUR_1M: float (nullable = true)\n",
      " |-- REST_DYNAMIC_PAYM_3M: float (nullable = true)\n",
      " |-- REST_DYNAMIC_IL_3M: float (nullable = true)\n",
      " |-- TURNOVER_DYNAMIC_IL_3M: float (nullable = true)\n",
      " |-- REST_DYNAMIC_PAYM_1M: float (nullable = true)\n",
      " |-- TURNOVER_DYNAMIC_CUR_3M: float (nullable = true)\n",
      " |-- PACK: string (nullable = true)\n",
      " |-- CLNT_SETUP_TENOR: float (nullable = true)\n",
      " |-- TURNOVER_DYNAMIC_PAYM_3M: float (nullable = true)\n",
      " |-- TURNOVER_DYNAMIC_PAYM_1M: float (nullable = true)\n",
      " |-- REST_DYNAMIC_CC_1M: float (nullable = true)\n",
      " |-- TURNOVER_DYNAMIC_CC_1M: float (nullable = true)\n",
      " |-- REST_DYNAMIC_CC_3M: float (nullable = true)\n",
      " |-- TURNOVER_DYNAMIC_CC_3M: float (nullable = true)\n",
      " |-- TARGET: integer (nullable = true)\n",
      "\n"
     ]
    },
    {
     "data": {
      "text/plain": [
       "df_train_short = [ID: int, CR_PROD_CNT_IL: int ... 33 more fields]\n"
      ]
     },
     "metadata": {},
     "output_type": "display_data"
    },
    {
     "data": {
      "text/plain": [
       "[ID: int, CR_PROD_CNT_IL: int ... 33 more fields]"
      ]
     },
     "execution_count": 4,
     "metadata": {},
     "output_type": "execute_result"
    }
   ],
   "source": [
    "var df_train_short = df_train.select(\n",
    "    col(\"ID\").cast(IntegerType),\n",
    "    col(\"CR_PROD_CNT_IL\").cast(IntegerType),\n",
    "    col(\"TURNOVER_DYNAMIC_IL_1M\").cast(FloatType),\n",
    "    col(\"REST_DYNAMIC_FDEP_1M\").cast(FloatType),\n",
    "    col(\"REST_DYNAMIC_SAVE_3M\").cast(FloatType),\n",
    "    col(\"CR_PROD_CNT_VCU\").cast(FloatType), \n",
    "    col(\"REST_AVG_CUR\").cast(FloatType), \n",
    "    col(\"CR_PROD_CNT_TOVR\").cast(FloatType), \n",
    "    col(\"CR_PROD_CNT_PIL\").cast(FloatType), \n",
    "    col(\"TURNOVER_CC\").cast(FloatType), \n",
    "    col(\"TURNOVER_PAYM\").cast(FloatType), \n",
    "    col(\"AGE\").cast(FloatType), \n",
    "    col(\"CR_PROD_CNT_CC\").cast(FloatType), \n",
    "    col(\"REST_DYNAMIC_FDEP_3M\").cast(FloatType), \n",
    "    col(\"REST_DYNAMIC_IL_1M\").cast(FloatType), \n",
    "    col(\"CR_PROD_CNT_CCFP\").cast(FloatType), \n",
    "    col(\"REST_DYNAMIC_CUR_1M\").cast(FloatType), \n",
    "    col(\"REST_AVG_PAYM\").cast(FloatType), \n",
    "    col(\"LDEAL_GRACE_DAYS_PCT_MED\").cast(FloatType),\n",
    "    col(\"REST_DYNAMIC_CUR_3M\").cast(FloatType),\n",
    "    col(\"TURNOVER_DYNAMIC_CUR_1M\").cast(FloatType),\n",
    "    col(\"REST_DYNAMIC_PAYM_3M\").cast(FloatType),\n",
    "    col(\"REST_DYNAMIC_IL_3M\").cast(FloatType),\n",
    "    col(\"TURNOVER_DYNAMIC_IL_3M\").cast(FloatType),\n",
    "    col(\"REST_DYNAMIC_PAYM_1M\").cast(FloatType),\n",
    "    col(\"TURNOVER_DYNAMIC_CUR_3M\").cast(FloatType),\n",
    "    col(\"PACK\").cast(StringType),\n",
    "    col(\"CLNT_SETUP_TENOR\").cast(FloatType),\n",
    "    col(\"TURNOVER_DYNAMIC_PAYM_3M\").cast(FloatType),\n",
    "    col(\"TURNOVER_DYNAMIC_PAYM_1M\").cast(FloatType),\n",
    "    col(\"REST_DYNAMIC_CC_1M\").cast(FloatType),\n",
    "    col(\"TURNOVER_DYNAMIC_CC_1M\").cast(FloatType),\n",
    "    col(\"REST_DYNAMIC_CC_3M\").cast(FloatType),\n",
    "    col(\"TURNOVER_DYNAMIC_CC_3M\").cast(FloatType),\n",
    "    col(\"TARGET\").cast(IntegerType))\n",
    "\n",
    "\n",
    "df_train_short.printSchema"
   ]
  },
  {
   "cell_type": "code",
   "execution_count": 5,
   "metadata": {},
   "outputs": [
    {
     "name": "stdout",
     "output_type": "stream",
     "text": [
      "root\n",
      " |-- ID: integer (nullable = true)\n",
      " |-- CR_PROD_CNT_IL: integer (nullable = true)\n",
      " |-- TURNOVER_DYNAMIC_IL_1M: float (nullable = true)\n",
      " |-- REST_DYNAMIC_FDEP_1M: float (nullable = true)\n",
      " |-- REST_DYNAMIC_SAVE_3M: float (nullable = true)\n",
      " |-- CR_PROD_CNT_VCU: float (nullable = true)\n",
      " |-- REST_AVG_CUR: float (nullable = true)\n",
      " |-- CR_PROD_CNT_TOVR: float (nullable = true)\n",
      " |-- CR_PROD_CNT_PIL: float (nullable = true)\n",
      " |-- TURNOVER_CC: float (nullable = true)\n",
      " |-- TURNOVER_PAYM: float (nullable = true)\n",
      " |-- AGE: float (nullable = true)\n",
      " |-- CR_PROD_CNT_CC: float (nullable = true)\n",
      " |-- REST_DYNAMIC_FDEP_3M: float (nullable = true)\n",
      " |-- REST_DYNAMIC_IL_1M: float (nullable = true)\n",
      " |-- CR_PROD_CNT_CCFP: float (nullable = true)\n",
      " |-- REST_DYNAMIC_CUR_1M: float (nullable = true)\n",
      " |-- REST_AVG_PAYM: float (nullable = true)\n",
      " |-- LDEAL_GRACE_DAYS_PCT_MED: float (nullable = true)\n",
      " |-- REST_DYNAMIC_CUR_3M: float (nullable = true)\n",
      " |-- TURNOVER_DYNAMIC_CUR_1M: float (nullable = true)\n",
      " |-- REST_DYNAMIC_PAYM_3M: float (nullable = true)\n",
      " |-- REST_DYNAMIC_IL_3M: float (nullable = true)\n",
      " |-- TURNOVER_DYNAMIC_IL_3M: float (nullable = true)\n",
      " |-- REST_DYNAMIC_PAYM_1M: float (nullable = true)\n",
      " |-- TURNOVER_DYNAMIC_CUR_3M: float (nullable = true)\n",
      " |-- PACK: string (nullable = true)\n",
      " |-- CLNT_SETUP_TENOR: float (nullable = true)\n",
      " |-- TURNOVER_DYNAMIC_PAYM_3M: float (nullable = true)\n",
      " |-- TURNOVER_DYNAMIC_PAYM_1M: float (nullable = true)\n",
      " |-- REST_DYNAMIC_CC_1M: float (nullable = true)\n",
      " |-- TURNOVER_DYNAMIC_CC_1M: float (nullable = true)\n",
      " |-- REST_DYNAMIC_CC_3M: float (nullable = true)\n",
      " |-- TURNOVER_DYNAMIC_CC_3M: float (nullable = true)\n",
      "\n"
     ]
    },
    {
     "data": {
      "text/plain": [
       "df_test_short = [ID: int, CR_PROD_CNT_IL: int ... 32 more fields]\n"
      ]
     },
     "metadata": {},
     "output_type": "display_data"
    },
    {
     "data": {
      "text/plain": [
       "[ID: int, CR_PROD_CNT_IL: int ... 32 more fields]"
      ]
     },
     "execution_count": 5,
     "metadata": {},
     "output_type": "execute_result"
    }
   ],
   "source": [
    "var df_test_short = df_test.select(\n",
    "    col(\"ID\").cast(IntegerType),\n",
    "    col(\"CR_PROD_CNT_IL\").cast(IntegerType),\n",
    "    col(\"TURNOVER_DYNAMIC_IL_1M\").cast(FloatType),\n",
    "    col(\"REST_DYNAMIC_FDEP_1M\").cast(FloatType),\n",
    "    col(\"REST_DYNAMIC_SAVE_3M\").cast(FloatType),\n",
    "    col(\"CR_PROD_CNT_VCU\").cast(FloatType), \n",
    "    col(\"REST_AVG_CUR\").cast(FloatType), \n",
    "    col(\"CR_PROD_CNT_TOVR\").cast(FloatType), \n",
    "    col(\"CR_PROD_CNT_PIL\").cast(FloatType), \n",
    "    col(\"TURNOVER_CC\").cast(FloatType), \n",
    "    col(\"TURNOVER_PAYM\").cast(FloatType), \n",
    "    col(\"AGE\").cast(FloatType), \n",
    "    col(\"CR_PROD_CNT_CC\").cast(FloatType), \n",
    "    col(\"REST_DYNAMIC_FDEP_3M\").cast(FloatType), \n",
    "    col(\"REST_DYNAMIC_IL_1M\").cast(FloatType), \n",
    "    col(\"CR_PROD_CNT_CCFP\").cast(FloatType), \n",
    "    col(\"REST_DYNAMIC_CUR_1M\").cast(FloatType), \n",
    "    col(\"REST_AVG_PAYM\").cast(FloatType), \n",
    "    col(\"LDEAL_GRACE_DAYS_PCT_MED\").cast(FloatType),\n",
    "    col(\"REST_DYNAMIC_CUR_3M\").cast(FloatType),\n",
    "    col(\"TURNOVER_DYNAMIC_CUR_1M\").cast(FloatType),\n",
    "    col(\"REST_DYNAMIC_PAYM_3M\").cast(FloatType),\n",
    "    col(\"REST_DYNAMIC_IL_3M\").cast(FloatType),\n",
    "    col(\"TURNOVER_DYNAMIC_IL_3M\").cast(FloatType),\n",
    "    col(\"REST_DYNAMIC_PAYM_1M\").cast(FloatType),\n",
    "    col(\"TURNOVER_DYNAMIC_CUR_3M\").cast(FloatType),\n",
    "    col(\"PACK\").cast(StringType),\n",
    "    col(\"CLNT_SETUP_TENOR\").cast(FloatType),\n",
    "    col(\"TURNOVER_DYNAMIC_PAYM_3M\").cast(FloatType),\n",
    "    col(\"TURNOVER_DYNAMIC_PAYM_1M\").cast(FloatType),\n",
    "    col(\"REST_DYNAMIC_CC_1M\").cast(FloatType),\n",
    "    col(\"TURNOVER_DYNAMIC_CC_1M\").cast(FloatType),\n",
    "    col(\"REST_DYNAMIC_CC_3M\").cast(FloatType),\n",
    "    col(\"TURNOVER_DYNAMIC_CC_3M\").cast(FloatType))\n",
    "df_test_short.printSchema"
   ]
  },
  {
   "cell_type": "markdown",
   "metadata": {},
   "source": [
    "## 2. Удаляем сотавшиеся null"
   ]
  },
  {
   "cell_type": "code",
   "execution_count": 6,
   "metadata": {},
   "outputs": [
    {
     "name": "stdout",
     "output_type": "stream",
     "text": [
      "+------+--------------+----------------------+--------------------+--------------------+---------------+------------+----------------+---------------+-----------+-------------+-----+--------------+--------------------+------------------+----------------+-------------------+-------------+------------------------+-------------------+-----------------------+--------------------+------------------+----------------------+--------------------+-----------------------+----+----------------+------------------------+------------------------+------------------+----------------------+------------------+----------------------+------+\n",
      "|    ID|CR_PROD_CNT_IL|TURNOVER_DYNAMIC_IL_1M|REST_DYNAMIC_FDEP_1M|REST_DYNAMIC_SAVE_3M|CR_PROD_CNT_VCU|REST_AVG_CUR|CR_PROD_CNT_TOVR|CR_PROD_CNT_PIL|TURNOVER_CC|TURNOVER_PAYM|  AGE|CR_PROD_CNT_CC|REST_DYNAMIC_FDEP_3M|REST_DYNAMIC_IL_1M|CR_PROD_CNT_CCFP|REST_DYNAMIC_CUR_1M|REST_AVG_PAYM|LDEAL_GRACE_DAYS_PCT_MED|REST_DYNAMIC_CUR_3M|TURNOVER_DYNAMIC_CUR_1M|REST_DYNAMIC_PAYM_3M|REST_DYNAMIC_IL_3M|TURNOVER_DYNAMIC_IL_3M|REST_DYNAMIC_PAYM_1M|TURNOVER_DYNAMIC_CUR_3M|PACK|CLNT_SETUP_TENOR|TURNOVER_DYNAMIC_PAYM_3M|TURNOVER_DYNAMIC_PAYM_1M|REST_DYNAMIC_CC_1M|TURNOVER_DYNAMIC_CC_1M|REST_DYNAMIC_CC_3M|TURNOVER_DYNAMIC_CC_3M|TARGET|\n",
      "+------+--------------+----------------------+--------------------+--------------------+---------------+------------+----------------+---------------+-----------+-------------+-----+--------------+--------------------+------------------+----------------+-------------------+-------------+------------------------+-------------------+-----------------------+--------------------+------------------+----------------------+--------------------+-----------------------+----+----------------+------------------------+------------------------+------------------+----------------------+------------------+----------------------+------+\n",
      "|479990|             0|                   0.0|                 0.0|                 0.0|            0.0|   19069.691|             1.0|            0.0|        0.0|          0.0|324.0|           0.0|                 0.0|               0.0|             0.0|          0.1393272|          0.0|                     0.0|         0.24404241|             0.14429972|                 0.0|               0.0|                   0.0|                 0.0|             0.30374965| 102|        5.480001|                     0.0|                     0.0|               0.0|                   0.0|               0.0|                   0.0|     0|\n",
      "|450480|             0|                   0.0|                 0.0|                 0.0|            0.0|   5951.2085|             1.0|            0.0|        0.0|          0.0|360.0|           0.0|                 0.0|               0.0|             0.0|         0.16387592|          0.0|                     0.0|         0.46524432|              0.2034836|                 0.0|               0.0|                   0.0|                 0.0|             0.50416005| 102|        6.786453|                     0.0|                     0.0|               0.0|                   0.0|               0.0|                   0.0|     0|\n",
      "+------+--------------+----------------------+--------------------+--------------------+---------------+------------+----------------+---------------+-----------+-------------+-----+--------------+--------------------+------------------+----------------+-------------------+-------------+------------------------+-------------------+-----------------------+--------------------+------------------+----------------------+--------------------+-----------------------+----+----------------+------------------------+------------------------+------------------+----------------------+------------------+----------------------+------+\n",
      "only showing top 2 rows\n",
      "\n"
     ]
    },
    {
     "data": {
      "text/plain": [
       "train_short = [ID: int, CR_PROD_CNT_IL: int ... 33 more fields]\n"
      ]
     },
     "metadata": {},
     "output_type": "display_data"
    },
    {
     "data": {
      "text/plain": [
       "[ID: int, CR_PROD_CNT_IL: int ... 33 more fields]"
      ]
     },
     "execution_count": 6,
     "metadata": {},
     "output_type": "execute_result"
    }
   ],
   "source": [
    "val train_short = df_train_short.na.fill(-1)\n",
    "train_short.show(2)"
   ]
  },
  {
   "cell_type": "code",
   "execution_count": 7,
   "metadata": {
    "scrolled": true
   },
   "outputs": [
    {
     "name": "stdout",
     "output_type": "stream",
     "text": [
      "+------+--------------+----------------------+--------------------+--------------------+---------------+------------+----------------+---------------+-----------+-------------+-----+--------------+--------------------+------------------+----------------+-------------------+-------------+------------------------+-------------------+-----------------------+--------------------+------------------+----------------------+--------------------+-----------------------+----+----------------+------------------------+------------------------+------------------+----------------------+------------------+----------------------+\n",
      "|    ID|CR_PROD_CNT_IL|TURNOVER_DYNAMIC_IL_1M|REST_DYNAMIC_FDEP_1M|REST_DYNAMIC_SAVE_3M|CR_PROD_CNT_VCU|REST_AVG_CUR|CR_PROD_CNT_TOVR|CR_PROD_CNT_PIL|TURNOVER_CC|TURNOVER_PAYM|  AGE|CR_PROD_CNT_CC|REST_DYNAMIC_FDEP_3M|REST_DYNAMIC_IL_1M|CR_PROD_CNT_CCFP|REST_DYNAMIC_CUR_1M|REST_AVG_PAYM|LDEAL_GRACE_DAYS_PCT_MED|REST_DYNAMIC_CUR_3M|TURNOVER_DYNAMIC_CUR_1M|REST_DYNAMIC_PAYM_3M|REST_DYNAMIC_IL_3M|TURNOVER_DYNAMIC_IL_3M|REST_DYNAMIC_PAYM_1M|TURNOVER_DYNAMIC_CUR_3M|PACK|CLNT_SETUP_TENOR|TURNOVER_DYNAMIC_PAYM_3M|TURNOVER_DYNAMIC_PAYM_1M|REST_DYNAMIC_CC_1M|TURNOVER_DYNAMIC_CC_1M|REST_DYNAMIC_CC_3M|TURNOVER_DYNAMIC_CC_3M|\n",
      "+------+--------------+----------------------+--------------------+--------------------+---------------+------------+----------------+---------------+-----------+-------------+-----+--------------+--------------------+------------------+----------------+-------------------+-------------+------------------------+-------------------+-----------------------+--------------------+------------------+----------------------+--------------------+-----------------------+----+----------------+------------------------+------------------------+------------------+----------------------+------------------+----------------------+\n",
      "|519130|             0|                   0.0|                 0.0|                 1.0|            0.0|   13916.819|             0.0|            0.0|        0.0|          0.0|240.0|           0.0|                 0.0|               0.0|             0.0|         0.47978917|          0.0|                     0.0|                1.0|              0.6401124|                 0.0|               0.0|                   0.0|                 0.0|                    1.0| K01|       0.5713989|                     0.0|                     0.0|               0.0|                   0.0|               0.0|                   0.0|\n",
      "|234045|             0|                   0.0|                 0.0|                 0.0|            0.0|   86440.625|             0.0|            0.0|        0.0|          0.0|348.0|           0.0|                 0.0|               0.0|             0.0|          0.0755606|          0.0|                     0.0|         0.33042407|             0.14724915|                 0.0|               0.0|                   0.0|                 0.0|             0.55615205| 102|        3.281195|                     0.0|                     0.0|               0.0|                   0.0|               0.0|                   0.0|\n",
      "+------+--------------+----------------------+--------------------+--------------------+---------------+------------+----------------+---------------+-----------+-------------+-----+--------------+--------------------+------------------+----------------+-------------------+-------------+------------------------+-------------------+-----------------------+--------------------+------------------+----------------------+--------------------+-----------------------+----+----------------+------------------------+------------------------+------------------+----------------------+------------------+----------------------+\n",
      "only showing top 2 rows\n",
      "\n"
     ]
    },
    {
     "data": {
      "text/plain": [
       "test_short = [ID: int, CR_PROD_CNT_IL: int ... 32 more fields]\n"
      ]
     },
     "metadata": {},
     "output_type": "display_data"
    },
    {
     "data": {
      "text/plain": [
       "[ID: int, CR_PROD_CNT_IL: int ... 32 more fields]"
      ]
     },
     "execution_count": 7,
     "metadata": {},
     "output_type": "execute_result"
    }
   ],
   "source": [
    "val test_short = df_test_short.na.fill(-1)\n",
    "test_short.show(2)"
   ]
  },
  {
   "cell_type": "markdown",
   "metadata": {},
   "source": [
    "## 3. Работаем со стринговой переменной PACK (StringIndexer)"
   ]
  },
  {
   "cell_type": "code",
   "execution_count": 14,
   "metadata": {},
   "outputs": [
    {
     "name": "stdout",
     "output_type": "stream",
     "text": [
      "root\n",
      " |-- ID: integer (nullable = false)\n",
      " |-- CR_PROD_CNT_IL: integer (nullable = false)\n",
      " |-- TURNOVER_DYNAMIC_IL_1M: float (nullable = false)\n",
      " |-- REST_DYNAMIC_FDEP_1M: float (nullable = false)\n",
      " |-- REST_DYNAMIC_SAVE_3M: float (nullable = false)\n",
      " |-- CR_PROD_CNT_VCU: float (nullable = false)\n",
      " |-- REST_AVG_CUR: float (nullable = false)\n",
      " |-- CR_PROD_CNT_TOVR: float (nullable = false)\n",
      " |-- CR_PROD_CNT_PIL: float (nullable = false)\n",
      " |-- TURNOVER_CC: float (nullable = false)\n",
      " |-- TURNOVER_PAYM: float (nullable = false)\n",
      " |-- AGE: float (nullable = false)\n",
      " |-- CR_PROD_CNT_CC: float (nullable = false)\n",
      " |-- REST_DYNAMIC_FDEP_3M: float (nullable = false)\n",
      " |-- REST_DYNAMIC_IL_1M: float (nullable = false)\n",
      " |-- CR_PROD_CNT_CCFP: float (nullable = false)\n",
      " |-- REST_DYNAMIC_CUR_1M: float (nullable = false)\n",
      " |-- REST_AVG_PAYM: float (nullable = false)\n",
      " |-- LDEAL_GRACE_DAYS_PCT_MED: float (nullable = false)\n",
      " |-- REST_DYNAMIC_CUR_3M: float (nullable = false)\n",
      " |-- TURNOVER_DYNAMIC_CUR_1M: float (nullable = false)\n",
      " |-- REST_DYNAMIC_PAYM_3M: float (nullable = false)\n",
      " |-- REST_DYNAMIC_IL_3M: float (nullable = false)\n",
      " |-- TURNOVER_DYNAMIC_IL_3M: float (nullable = false)\n",
      " |-- REST_DYNAMIC_PAYM_1M: float (nullable = false)\n",
      " |-- TURNOVER_DYNAMIC_CUR_3M: float (nullable = false)\n",
      " |-- PACK: string (nullable = true)\n",
      " |-- CLNT_SETUP_TENOR: float (nullable = false)\n",
      " |-- TURNOVER_DYNAMIC_PAYM_3M: float (nullable = false)\n",
      " |-- TURNOVER_DYNAMIC_PAYM_1M: float (nullable = false)\n",
      " |-- REST_DYNAMIC_CC_1M: float (nullable = false)\n",
      " |-- TURNOVER_DYNAMIC_CC_1M: float (nullable = false)\n",
      " |-- REST_DYNAMIC_CC_3M: float (nullable = false)\n",
      " |-- TURNOVER_DYNAMIC_CC_3M: float (nullable = false)\n",
      " |-- TARGET: integer (nullable = false)\n",
      "\n"
     ]
    }
   ],
   "source": [
    "train_short.printSchema"
   ]
  },
  {
   "cell_type": "code",
   "execution_count": 15,
   "metadata": {},
   "outputs": [
    {
     "name": "stdout",
     "output_type": "stream",
     "text": [
      "root\n",
      " |-- ID: integer (nullable = false)\n",
      " |-- CR_PROD_CNT_IL: integer (nullable = false)\n",
      " |-- TURNOVER_DYNAMIC_IL_1M: float (nullable = false)\n",
      " |-- REST_DYNAMIC_FDEP_1M: float (nullable = false)\n",
      " |-- REST_DYNAMIC_SAVE_3M: float (nullable = false)\n",
      " |-- CR_PROD_CNT_VCU: float (nullable = false)\n",
      " |-- REST_AVG_CUR: float (nullable = false)\n",
      " |-- CR_PROD_CNT_TOVR: float (nullable = false)\n",
      " |-- CR_PROD_CNT_PIL: float (nullable = false)\n",
      " |-- TURNOVER_CC: float (nullable = false)\n",
      " |-- TURNOVER_PAYM: float (nullable = false)\n",
      " |-- AGE: float (nullable = false)\n",
      " |-- CR_PROD_CNT_CC: float (nullable = false)\n",
      " |-- REST_DYNAMIC_FDEP_3M: float (nullable = false)\n",
      " |-- REST_DYNAMIC_IL_1M: float (nullable = false)\n",
      " |-- CR_PROD_CNT_CCFP: float (nullable = false)\n",
      " |-- REST_DYNAMIC_CUR_1M: float (nullable = false)\n",
      " |-- REST_AVG_PAYM: float (nullable = false)\n",
      " |-- LDEAL_GRACE_DAYS_PCT_MED: float (nullable = false)\n",
      " |-- REST_DYNAMIC_CUR_3M: float (nullable = false)\n",
      " |-- TURNOVER_DYNAMIC_CUR_1M: float (nullable = false)\n",
      " |-- REST_DYNAMIC_PAYM_3M: float (nullable = false)\n",
      " |-- REST_DYNAMIC_IL_3M: float (nullable = false)\n",
      " |-- TURNOVER_DYNAMIC_IL_3M: float (nullable = false)\n",
      " |-- REST_DYNAMIC_PAYM_1M: float (nullable = false)\n",
      " |-- TURNOVER_DYNAMIC_CUR_3M: float (nullable = false)\n",
      " |-- PACK: string (nullable = true)\n",
      " |-- CLNT_SETUP_TENOR: float (nullable = false)\n",
      " |-- TURNOVER_DYNAMIC_PAYM_3M: float (nullable = false)\n",
      " |-- TURNOVER_DYNAMIC_PAYM_1M: float (nullable = false)\n",
      " |-- REST_DYNAMIC_CC_1M: float (nullable = false)\n",
      " |-- TURNOVER_DYNAMIC_CC_1M: float (nullable = false)\n",
      " |-- REST_DYNAMIC_CC_3M: float (nullable = false)\n",
      " |-- TURNOVER_DYNAMIC_CC_3M: float (nullable = false)\n",
      " |-- TARGET: integer (nullable = false)\n",
      "\n"
     ]
    },
    {
     "data": {
      "text/plain": [
       "train_short1 = [ID: int, CR_PROD_CNT_IL: int ... 33 more fields]\n"
      ]
     },
     "metadata": {},
     "output_type": "display_data"
    },
    {
     "data": {
      "text/plain": [
       "[ID: int, CR_PROD_CNT_IL: int ... 33 more fields]"
      ]
     },
     "execution_count": 15,
     "metadata": {},
     "output_type": "execute_result"
    }
   ],
   "source": [
    "val train_short1 = train_short.filter(col(\"PACK\").isNotNull)\n",
    "train_short1.printSchema"
   ]
  },
  {
   "cell_type": "code",
   "execution_count": 16,
   "metadata": {},
   "outputs": [
    {
     "data": {
      "text/plain": [
       "Array([101], [107], [K01], [M01], [104], [102], [103], [108], [105], [O01], [109], [301])"
      ]
     },
     "execution_count": 16,
     "metadata": {},
     "output_type": "execute_result"
    }
   ],
   "source": [
    "train_short1.select(train_short(\"PACK\")).distinct().collect()"
   ]
  },
  {
   "cell_type": "code",
   "execution_count": 17,
   "metadata": {},
   "outputs": [
    {
     "data": {
      "text/plain": [
       "Array([101], [107], [K01], [M01], [104], [102], [103], [105], [O01], [109], [301])"
      ]
     },
     "execution_count": 17,
     "metadata": {},
     "output_type": "execute_result"
    }
   ],
   "source": [
    "test_short.select(test_short(\"PACK\")).distinct().collect()"
   ]
  },
  {
   "cell_type": "code",
   "execution_count": 18,
   "metadata": {},
   "outputs": [
    {
     "data": {
      "text/plain": [
       "qualification_indexer = strIdx_2be8f5e7f083\n",
       "train_indexed = [ID: int, CR_PROD_CNT_IL: int ... 34 more fields]\n",
       "test_indexed = [ID: int, CR_PROD_CNT_IL: int ... 33 more fields]\n"
      ]
     },
     "metadata": {},
     "output_type": "display_data"
    },
    {
     "data": {
      "text/plain": [
       "[ID: int, CR_PROD_CNT_IL: int ... 33 more fields]"
      ]
     },
     "execution_count": 18,
     "metadata": {},
     "output_type": "execute_result"
    }
   ],
   "source": [
    "import org.apache.spark.ml.feature.StringIndexer\n",
    "\n",
    "val qualification_indexer = new StringIndexer().setInputCol(\"PACK\").setOutputCol(\"pack_encoded\")\n",
    "val train_indexed = qualification_indexer.fit(train_short1).transform(train_short1)\n",
    "val test_indexed = qualification_indexer.fit(test_short).transform(test_short)"
   ]
  },
  {
   "cell_type": "code",
   "execution_count": 19,
   "metadata": {},
   "outputs": [
    {
     "name": "stdout",
     "output_type": "stream",
     "text": [
      "root\n",
      " |-- ID: integer (nullable = false)\n",
      " |-- CR_PROD_CNT_IL: integer (nullable = false)\n",
      " |-- TURNOVER_DYNAMIC_IL_1M: float (nullable = false)\n",
      " |-- REST_DYNAMIC_FDEP_1M: float (nullable = false)\n",
      " |-- REST_DYNAMIC_SAVE_3M: float (nullable = false)\n",
      " |-- CR_PROD_CNT_VCU: float (nullable = false)\n",
      " |-- REST_AVG_CUR: float (nullable = false)\n",
      " |-- CR_PROD_CNT_TOVR: float (nullable = false)\n",
      " |-- CR_PROD_CNT_PIL: float (nullable = false)\n",
      " |-- TURNOVER_CC: float (nullable = false)\n",
      " |-- TURNOVER_PAYM: float (nullable = false)\n",
      " |-- AGE: float (nullable = false)\n",
      " |-- CR_PROD_CNT_CC: float (nullable = false)\n",
      " |-- REST_DYNAMIC_FDEP_3M: float (nullable = false)\n",
      " |-- REST_DYNAMIC_IL_1M: float (nullable = false)\n",
      " |-- CR_PROD_CNT_CCFP: float (nullable = false)\n",
      " |-- REST_DYNAMIC_CUR_1M: float (nullable = false)\n",
      " |-- REST_AVG_PAYM: float (nullable = false)\n",
      " |-- LDEAL_GRACE_DAYS_PCT_MED: float (nullable = false)\n",
      " |-- REST_DYNAMIC_CUR_3M: float (nullable = false)\n",
      " |-- TURNOVER_DYNAMIC_CUR_1M: float (nullable = false)\n",
      " |-- REST_DYNAMIC_PAYM_3M: float (nullable = false)\n",
      " |-- REST_DYNAMIC_IL_3M: float (nullable = false)\n",
      " |-- TURNOVER_DYNAMIC_IL_3M: float (nullable = false)\n",
      " |-- REST_DYNAMIC_PAYM_1M: float (nullable = false)\n",
      " |-- TURNOVER_DYNAMIC_CUR_3M: float (nullable = false)\n",
      " |-- PACK: string (nullable = true)\n",
      " |-- CLNT_SETUP_TENOR: float (nullable = false)\n",
      " |-- TURNOVER_DYNAMIC_PAYM_3M: float (nullable = false)\n",
      " |-- TURNOVER_DYNAMIC_PAYM_1M: float (nullable = false)\n",
      " |-- REST_DYNAMIC_CC_1M: float (nullable = false)\n",
      " |-- TURNOVER_DYNAMIC_CC_1M: float (nullable = false)\n",
      " |-- REST_DYNAMIC_CC_3M: float (nullable = false)\n",
      " |-- TURNOVER_DYNAMIC_CC_3M: float (nullable = false)\n",
      " |-- TARGET: integer (nullable = false)\n",
      " |-- pack_encoded: double (nullable = false)\n",
      "\n"
     ]
    }
   ],
   "source": [
    "train_indexed.printSchema()"
   ]
  },
  {
   "cell_type": "code",
   "execution_count": 20,
   "metadata": {},
   "outputs": [
    {
     "name": "stdout",
     "output_type": "stream",
     "text": [
      "root\n",
      " |-- ID: integer (nullable = false)\n",
      " |-- CR_PROD_CNT_IL: integer (nullable = false)\n",
      " |-- TURNOVER_DYNAMIC_IL_1M: float (nullable = false)\n",
      " |-- REST_DYNAMIC_FDEP_1M: float (nullable = false)\n",
      " |-- REST_DYNAMIC_SAVE_3M: float (nullable = false)\n",
      " |-- CR_PROD_CNT_VCU: float (nullable = false)\n",
      " |-- REST_AVG_CUR: float (nullable = false)\n",
      " |-- CR_PROD_CNT_TOVR: float (nullable = false)\n",
      " |-- CR_PROD_CNT_PIL: float (nullable = false)\n",
      " |-- TURNOVER_CC: float (nullable = false)\n",
      " |-- TURNOVER_PAYM: float (nullable = false)\n",
      " |-- AGE: float (nullable = false)\n",
      " |-- CR_PROD_CNT_CC: float (nullable = false)\n",
      " |-- REST_DYNAMIC_FDEP_3M: float (nullable = false)\n",
      " |-- REST_DYNAMIC_IL_1M: float (nullable = false)\n",
      " |-- CR_PROD_CNT_CCFP: float (nullable = false)\n",
      " |-- REST_DYNAMIC_CUR_1M: float (nullable = false)\n",
      " |-- REST_AVG_PAYM: float (nullable = false)\n",
      " |-- LDEAL_GRACE_DAYS_PCT_MED: float (nullable = false)\n",
      " |-- REST_DYNAMIC_CUR_3M: float (nullable = false)\n",
      " |-- TURNOVER_DYNAMIC_CUR_1M: float (nullable = false)\n",
      " |-- REST_DYNAMIC_PAYM_3M: float (nullable = false)\n",
      " |-- REST_DYNAMIC_IL_3M: float (nullable = false)\n",
      " |-- TURNOVER_DYNAMIC_IL_3M: float (nullable = false)\n",
      " |-- REST_DYNAMIC_PAYM_1M: float (nullable = false)\n",
      " |-- TURNOVER_DYNAMIC_CUR_3M: float (nullable = false)\n",
      " |-- PACK: string (nullable = true)\n",
      " |-- CLNT_SETUP_TENOR: float (nullable = false)\n",
      " |-- TURNOVER_DYNAMIC_PAYM_3M: float (nullable = false)\n",
      " |-- TURNOVER_DYNAMIC_PAYM_1M: float (nullable = false)\n",
      " |-- REST_DYNAMIC_CC_1M: float (nullable = false)\n",
      " |-- TURNOVER_DYNAMIC_CC_1M: float (nullable = false)\n",
      " |-- REST_DYNAMIC_CC_3M: float (nullable = false)\n",
      " |-- TURNOVER_DYNAMIC_CC_3M: float (nullable = false)\n",
      " |-- pack_encoded: double (nullable = false)\n",
      "\n"
     ]
    }
   ],
   "source": [
    "test_indexed.printSchema()"
   ]
  },
  {
   "cell_type": "code",
   "execution_count": 21,
   "metadata": {},
   "outputs": [
    {
     "data": {
      "text/plain": [
       "Array([8.0], [0.0], [7.0], [1.0], [4.0], [11.0], [3.0], [2.0], [10.0], [6.0], [5.0], [9.0])"
      ]
     },
     "execution_count": 21,
     "metadata": {},
     "output_type": "execute_result"
    }
   ],
   "source": [
    "train_indexed.select(train_indexed(\"pack_encoded\")).distinct().collect()"
   ]
  },
  {
   "cell_type": "code",
   "execution_count": 22,
   "metadata": {},
   "outputs": [
    {
     "data": {
      "text/plain": [
       "Array([8.0], [0.0], [7.0], [1.0], [4.0], [3.0], [2.0], [10.0], [6.0], [5.0], [9.0])"
      ]
     },
     "execution_count": 22,
     "metadata": {},
     "output_type": "execute_result"
    }
   ],
   "source": [
    "test_indexed.select(test_indexed(\"pack_encoded\")).distinct().collect()"
   ]
  },
  {
   "cell_type": "markdown",
   "metadata": {},
   "source": [
    "## 3. Разбиваем на train и validation, VectorAssembler, оцениваем модель"
   ]
  },
  {
   "cell_type": "code",
   "execution_count": 23,
   "metadata": {},
   "outputs": [
    {
     "data": {
      "text/plain": [
       "cols = Array(CR_PROD_CNT_IL, TURNOVER_DYNAMIC_IL_1M, REST_DYNAMIC_FDEP_1M, REST_DYNAMIC_SAVE_3M, CR_PROD_CNT_VCU, REST_AVG_CUR, CR_PROD_CNT_TOVR, CR_PROD_CNT_PIL, TURNOVER_CC, TURNOVER_PAYM, AGE, CR_PROD_CNT_CC, REST_DYNAMIC_FDEP_3M, REST_DYNAMIC_IL_1M, CR_PROD_CNT_CCFP, REST_DYNAMIC_CUR_1M, REST_AVG_PAYM, LDEAL_GRACE_DAYS_PCT_MED, REST_DYNAMIC_CUR_3M, TURNOVER_DYNAMIC_CUR_1M, REST_DYNAMIC_PAYM_3M, REST_DYNAMIC_IL_3M, TURNOVER_DYNAMIC_IL_3M, REST_DYNAMIC_PAYM_1M, TURNOVER_DYNAMIC_CUR_3M, CLNT_SETUP_TENOR, TURNOVER_DYNAMIC_PAYM_3M, TURNOVER_DYNAMIC_PAYM_1M, REST_DYNAMIC_CC_1M, TURNOVER_DYNAMIC_CC_1M, REST_DYNAMIC_CC_3M, TURNOVER_DYNAMIC_CC_3M, pack_encoded)\n"
      ]
     },
     "metadata": {},
     "output_type": "display_data"
    },
    {
     "data": {
      "text/plain": [
       "Array(CR_PROD_CNT_IL, TURNOVER_DYNAMIC_IL_1M, REST_DYNAMIC_FDEP_1M, REST_DYNAMIC_SAVE_3M, CR_P..."
      ]
     },
     "execution_count": 23,
     "metadata": {},
     "output_type": "execute_result"
    }
   ],
   "source": [
    "val cols: Array[String] = Array[String](\"CR_PROD_CNT_IL\",\n",
    " \"TURNOVER_DYNAMIC_IL_1M\",\n",
    " \"REST_DYNAMIC_FDEP_1M\",\n",
    " \"REST_DYNAMIC_SAVE_3M\",\n",
    " \"CR_PROD_CNT_VCU\",\n",
    " \"REST_AVG_CUR\",\n",
    " \"CR_PROD_CNT_TOVR\",\n",
    " \"CR_PROD_CNT_PIL\",\n",
    " \"TURNOVER_CC\",\n",
    " \"TURNOVER_PAYM\",\n",
    " \"AGE\",\n",
    " \"CR_PROD_CNT_CC\",\n",
    " \"REST_DYNAMIC_FDEP_3M\",\n",
    " \"REST_DYNAMIC_IL_1M\",\n",
    " \"CR_PROD_CNT_CCFP\",\n",
    " \"REST_DYNAMIC_CUR_1M\",\n",
    " \"REST_AVG_PAYM\",\n",
    " \"LDEAL_GRACE_DAYS_PCT_MED\",\n",
    " \"REST_DYNAMIC_CUR_3M\",\n",
    " \"TURNOVER_DYNAMIC_CUR_1M\",\n",
    " \"REST_DYNAMIC_PAYM_3M\",\n",
    " \"REST_DYNAMIC_IL_3M\",\n",
    " \"TURNOVER_DYNAMIC_IL_3M\",\n",
    " \"REST_DYNAMIC_PAYM_1M\",\n",
    " \"TURNOVER_DYNAMIC_CUR_3M\",\n",
    " \"CLNT_SETUP_TENOR\",\n",
    " \"TURNOVER_DYNAMIC_PAYM_3M\",\n",
    " \"TURNOVER_DYNAMIC_PAYM_1M\",\n",
    " \"REST_DYNAMIC_CC_1M\",\n",
    " \"TURNOVER_DYNAMIC_CC_1M\",\n",
    " \"REST_DYNAMIC_CC_3M\",\n",
    " \"TURNOVER_DYNAMIC_CC_3M\",\n",
    " \"pack_encoded\"\n",
    "                                       )\n",
    "cols"
   ]
  },
  {
   "cell_type": "code",
   "execution_count": 24,
   "metadata": {},
   "outputs": [
    {
     "data": {
      "text/plain": [
       "assembler = vecAssembler_097dab818fc2\n",
       "train_indexed1 = [ID: int, CR_PROD_CNT_IL: int ... 35 more fields]\n",
       "test_indexed1 = [ID: int, CR_PROD_CNT_IL: int ... 34 more fields]\n"
      ]
     },
     "metadata": {},
     "output_type": "display_data"
    },
    {
     "data": {
      "text/plain": [
       "[ID: int, CR_PROD_CNT_IL: int ... 34 more fields]"
      ]
     },
     "execution_count": 24,
     "metadata": {},
     "output_type": "execute_result"
    }
   ],
   "source": [
    "val assembler = new VectorAssembler().setInputCols(cols).setOutputCol(\"features\")\n",
    "val train_indexed1 = assembler.transform(train_indexed)\n",
    "val test_indexed1 = assembler.transform(test_indexed)"
   ]
  },
  {
   "cell_type": "code",
   "execution_count": 25,
   "metadata": {},
   "outputs": [
    {
     "name": "stdout",
     "output_type": "stream",
     "text": [
      "root\n",
      " |-- ID: integer (nullable = false)\n",
      " |-- CR_PROD_CNT_IL: integer (nullable = false)\n",
      " |-- TURNOVER_DYNAMIC_IL_1M: float (nullable = false)\n",
      " |-- REST_DYNAMIC_FDEP_1M: float (nullable = false)\n",
      " |-- REST_DYNAMIC_SAVE_3M: float (nullable = false)\n",
      " |-- CR_PROD_CNT_VCU: float (nullable = false)\n",
      " |-- REST_AVG_CUR: float (nullable = false)\n",
      " |-- CR_PROD_CNT_TOVR: float (nullable = false)\n",
      " |-- CR_PROD_CNT_PIL: float (nullable = false)\n",
      " |-- TURNOVER_CC: float (nullable = false)\n",
      " |-- TURNOVER_PAYM: float (nullable = false)\n",
      " |-- AGE: float (nullable = false)\n",
      " |-- CR_PROD_CNT_CC: float (nullable = false)\n",
      " |-- REST_DYNAMIC_FDEP_3M: float (nullable = false)\n",
      " |-- REST_DYNAMIC_IL_1M: float (nullable = false)\n",
      " |-- CR_PROD_CNT_CCFP: float (nullable = false)\n",
      " |-- REST_DYNAMIC_CUR_1M: float (nullable = false)\n",
      " |-- REST_AVG_PAYM: float (nullable = false)\n",
      " |-- LDEAL_GRACE_DAYS_PCT_MED: float (nullable = false)\n",
      " |-- REST_DYNAMIC_CUR_3M: float (nullable = false)\n",
      " |-- TURNOVER_DYNAMIC_CUR_1M: float (nullable = false)\n",
      " |-- REST_DYNAMIC_PAYM_3M: float (nullable = false)\n",
      " |-- REST_DYNAMIC_IL_3M: float (nullable = false)\n",
      " |-- TURNOVER_DYNAMIC_IL_3M: float (nullable = false)\n",
      " |-- REST_DYNAMIC_PAYM_1M: float (nullable = false)\n",
      " |-- TURNOVER_DYNAMIC_CUR_3M: float (nullable = false)\n",
      " |-- PACK: string (nullable = true)\n",
      " |-- CLNT_SETUP_TENOR: float (nullable = false)\n",
      " |-- TURNOVER_DYNAMIC_PAYM_3M: float (nullable = false)\n",
      " |-- TURNOVER_DYNAMIC_PAYM_1M: float (nullable = false)\n",
      " |-- REST_DYNAMIC_CC_1M: float (nullable = false)\n",
      " |-- TURNOVER_DYNAMIC_CC_1M: float (nullable = false)\n",
      " |-- REST_DYNAMIC_CC_3M: float (nullable = false)\n",
      " |-- TURNOVER_DYNAMIC_CC_3M: float (nullable = false)\n",
      " |-- TARGET: integer (nullable = false)\n",
      " |-- pack_encoded: double (nullable = false)\n",
      " |-- features: vector (nullable = true)\n",
      "\n"
     ]
    }
   ],
   "source": [
    "train_indexed1.printSchema"
   ]
  },
  {
   "cell_type": "code",
   "execution_count": 26,
   "metadata": {},
   "outputs": [
    {
     "name": "stdout",
     "output_type": "stream",
     "text": [
      "root\n",
      " |-- ID: integer (nullable = false)\n",
      " |-- CR_PROD_CNT_IL: integer (nullable = false)\n",
      " |-- TURNOVER_DYNAMIC_IL_1M: float (nullable = false)\n",
      " |-- REST_DYNAMIC_FDEP_1M: float (nullable = false)\n",
      " |-- REST_DYNAMIC_SAVE_3M: float (nullable = false)\n",
      " |-- CR_PROD_CNT_VCU: float (nullable = false)\n",
      " |-- REST_AVG_CUR: float (nullable = false)\n",
      " |-- CR_PROD_CNT_TOVR: float (nullable = false)\n",
      " |-- CR_PROD_CNT_PIL: float (nullable = false)\n",
      " |-- TURNOVER_CC: float (nullable = false)\n",
      " |-- TURNOVER_PAYM: float (nullable = false)\n",
      " |-- AGE: float (nullable = false)\n",
      " |-- CR_PROD_CNT_CC: float (nullable = false)\n",
      " |-- REST_DYNAMIC_FDEP_3M: float (nullable = false)\n",
      " |-- REST_DYNAMIC_IL_1M: float (nullable = false)\n",
      " |-- CR_PROD_CNT_CCFP: float (nullable = false)\n",
      " |-- REST_DYNAMIC_CUR_1M: float (nullable = false)\n",
      " |-- REST_AVG_PAYM: float (nullable = false)\n",
      " |-- LDEAL_GRACE_DAYS_PCT_MED: float (nullable = false)\n",
      " |-- REST_DYNAMIC_CUR_3M: float (nullable = false)\n",
      " |-- TURNOVER_DYNAMIC_CUR_1M: float (nullable = false)\n",
      " |-- REST_DYNAMIC_PAYM_3M: float (nullable = false)\n",
      " |-- REST_DYNAMIC_IL_3M: float (nullable = false)\n",
      " |-- TURNOVER_DYNAMIC_IL_3M: float (nullable = false)\n",
      " |-- REST_DYNAMIC_PAYM_1M: float (nullable = false)\n",
      " |-- TURNOVER_DYNAMIC_CUR_3M: float (nullable = false)\n",
      " |-- PACK: string (nullable = true)\n",
      " |-- CLNT_SETUP_TENOR: float (nullable = false)\n",
      " |-- TURNOVER_DYNAMIC_PAYM_3M: float (nullable = false)\n",
      " |-- TURNOVER_DYNAMIC_PAYM_1M: float (nullable = false)\n",
      " |-- REST_DYNAMIC_CC_1M: float (nullable = false)\n",
      " |-- TURNOVER_DYNAMIC_CC_1M: float (nullable = false)\n",
      " |-- REST_DYNAMIC_CC_3M: float (nullable = false)\n",
      " |-- TURNOVER_DYNAMIC_CC_3M: float (nullable = false)\n",
      " |-- pack_encoded: double (nullable = false)\n",
      " |-- features: vector (nullable = true)\n",
      "\n"
     ]
    }
   ],
   "source": [
    "test_indexed1.printSchema"
   ]
  },
  {
   "cell_type": "code",
   "execution_count": 27,
   "metadata": {},
   "outputs": [
    {
     "data": {
      "text/plain": [
       "train_splitting = Array([ID: int, CR_PROD_CNT_IL: int ... 35 more fields], [ID: int, CR_PROD_CNT_IL: int ... 35 more fields])\n",
       "train = [ID: int, CR_PROD_CNT_IL: int ... 35 more fields]\n",
       "valid = [ID: int, CR_PROD_CNT_IL: int ... 35 more fields]\n"
      ]
     },
     "metadata": {},
     "output_type": "display_data"
    },
    {
     "data": {
      "text/plain": [
       "[ID: int, CR_PROD_CNT_IL: int ... 35 more fields]"
      ]
     },
     "execution_count": 27,
     "metadata": {},
     "output_type": "execute_result"
    }
   ],
   "source": [
    "val train_splitting = train_indexed1.filter(col(\"TARGET\").isNotNull).randomSplit(Array(0.8, 0.2), seed = 5757)\n",
    "val train = train_splitting(0)\n",
    "val valid = train_splitting(1)"
   ]
  },
  {
   "cell_type": "code",
   "execution_count": 31,
   "metadata": {},
   "outputs": [
    {
     "data": {
      "text/plain": [
       "gbt = gbtc_642527d33a40\n"
      ]
     },
     "metadata": {},
     "output_type": "display_data"
    },
    {
     "data": {
      "text/plain": [
       "gbtc_642527d33a40"
      ]
     },
     "execution_count": 31,
     "metadata": {},
     "output_type": "execute_result"
    }
   ],
   "source": [
    "val gbt = new GBTClassifier()\n",
    "    .setLabelCol(\"TARGET\")\n",
    "    .setFeaturesCol(\"features\")\n",
    "    .setMaxIter(10)"
   ]
  },
  {
   "cell_type": "code",
   "execution_count": 32,
   "metadata": {},
   "outputs": [
    {
     "data": {
      "text/plain": [
       "gbt_model = GBTClassificationModel (uid=gbtc_642527d33a40) with 10 trees\n"
      ]
     },
     "metadata": {},
     "output_type": "display_data"
    },
    {
     "data": {
      "text/plain": [
       "GBTClassificationModel (uid=gbtc_642527d33a40) with 10 trees"
      ]
     },
     "execution_count": 32,
     "metadata": {},
     "output_type": "execute_result"
    }
   ],
   "source": [
    "val gbt_model = gbt.fit(train)"
   ]
  },
  {
   "cell_type": "code",
   "execution_count": 33,
   "metadata": {},
   "outputs": [
    {
     "name": "stdout",
     "output_type": "stream",
     "text": [
      "areaUnderROC: 0.8043041688054996\n"
     ]
    },
    {
     "data": {
      "text/plain": [
       "predictions_valid = [ID: int, CR_PROD_CNT_IL: int ... 38 more fields]\n",
       "evaluator = binEval_c0c789c5bfd4\n",
       "score = 0.8043041688054996\n"
      ]
     },
     "metadata": {},
     "output_type": "display_data"
    },
    {
     "data": {
      "text/plain": [
       "0.8043041688054996"
      ]
     },
     "execution_count": 33,
     "metadata": {},
     "output_type": "execute_result"
    }
   ],
   "source": [
    "val predictions_valid = gbt_model.transform(valid)\n",
    "\n",
    "val evaluator = new BinaryClassificationEvaluator()\n",
    "    .setLabelCol(\"TARGET\")\n",
    "    .setMetricName(\"areaUnderROC\")\n",
    "\n",
    "val score = evaluator.evaluate(predictions_valid)\n",
    "\n",
    "println(\"areaUnderROC: \" + score)"
   ]
  },
  {
   "cell_type": "code",
   "execution_count": 42,
   "metadata": {},
   "outputs": [
    {
     "data": {
      "text/plain": [
       "test_predictions = [ID: int, CR_PROD_CNT_IL: int ... 37 more fields]\n"
      ]
     },
     "metadata": {},
     "output_type": "display_data"
    },
    {
     "data": {
      "text/plain": [
       "[ID: int, CR_PROD_CNT_IL: int ... 37 more fields]"
      ]
     },
     "execution_count": 42,
     "metadata": {},
     "output_type": "execute_result"
    }
   ],
   "source": [
    "val test_predictions = gbt_model.transform(test_indexed1)"
   ]
  },
  {
   "cell_type": "code",
   "execution_count": 43,
   "metadata": {},
   "outputs": [
    {
     "data": {
      "text/plain": [
       "probValue = UserDefinedFunction(<function1>,DoubleType,Some(List(org.apache.spark.ml.linalg.VectorUDT@3bfc3ba7)))\n"
      ]
     },
     "metadata": {},
     "output_type": "display_data"
    },
    {
     "data": {
      "text/plain": [
       "UserDefinedFunction(<function1>,DoubleType,Some(List(org.apache.spark.ml.linalg.VectorUDT@3bfc3ba7)))"
      ]
     },
     "execution_count": 43,
     "metadata": {},
     "output_type": "execute_result"
    }
   ],
   "source": [
    "val probValue = udf((vec: Vector) => vec(1))\n",
    "test_predictions.withColumn(\"target\", probValue(col(\"probability\")))\n",
    "    .withColumnRenamed(\"ID\", \"id\")\n",
    "    .select(\"id\", \"target\")\n",
    "    .write\n",
    "    .option(\"header\", true)\n",
    "    .option(\"delimiter\", \"\\t\")\n",
    "    .mode(\"overwrite\")\n",
    "    .csv(\"lab05_scala.csv\")"
   ]
  },
  {
   "cell_type": "code",
   "execution_count": 49,
   "metadata": {},
   "outputs": [
    {
     "data": {
      "text/plain": [
       "warning: there was one feature warning; re-run with -feature for details\n"
      ]
     },
     "metadata": {},
     "output_type": "display_data"
    },
    {
     "data": {
      "text/plain": [
       "0"
      ]
     },
     "execution_count": 49,
     "metadata": {},
     "output_type": "execute_result"
    }
   ],
   "source": [
    "\"hdfs dfs -getmerge lab05_scala.csv /data/home/yuriy.perevezentsev/lab05_scala.csv\" !"
   ]
  },
  {
   "cell_type": "code",
   "execution_count": null,
   "metadata": {},
   "outputs": [],
   "source": []
  }
 ],
 "metadata": {
  "kernelspec": {
   "display_name": "Apache Toree - Scala",
   "language": "scala",
   "name": "apache_toree_scala"
  },
  "language_info": {
   "codemirror_mode": "text/x-scala",
   "file_extension": ".scala",
   "mimetype": "text/x-scala",
   "name": "scala",
   "pygments_lexer": "scala",
   "version": "2.11.12"
  }
 },
 "nbformat": 4,
 "nbformat_minor": 2
}
