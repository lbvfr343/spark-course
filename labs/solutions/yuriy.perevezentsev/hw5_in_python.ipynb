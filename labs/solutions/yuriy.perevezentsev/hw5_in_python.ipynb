{
 "cells": [
  {
   "cell_type": "markdown",
   "metadata": {},
   "source": [
    "## Лаба 5: Прогнозирование оттока клиентов"
   ]
  },
  {
   "cell_type": "code",
   "execution_count": 1,
   "metadata": {},
   "outputs": [
    {
     "name": "stdout",
     "output_type": "stream",
     "text": [
      "Welcome to\n",
      "      ____              __\n",
      "     / __/__  ___ _____/ /__\n",
      "    _\\ \\/ _ \\/ _ `/ __/  '_/\n",
      "   /__ / .__/\\_,_/_/ /_/\\_\\   version 2.4.7\n",
      "      /_/\n",
      "\n",
      "Using Python version 3.6.5 (default, Apr 29 2018 16:14:56)\n",
      "SparkSession available as 'spark'.\n"
     ]
    }
   ],
   "source": [
    "import os\n",
    "import sys\n",
    "os.environ[\"PYSPARK_PYTHON\"]='/opt/anaconda/envs/bd9/bin/python'\n",
    "os.environ[\"SPARK_HOME\"]='/usr/hdp/current/spark2-client'\n",
    "os.environ[\"PYSPARK_SUBMIT_ARGS\"]='--num-executors 3 --executor-memory 3g pyspark-shell'\n",
    "\n",
    "spark_home = os.environ.get('SPARK_HOME', None)\n",
    "if not spark_home:\n",
    "    raise ValueError('SPARK_HOME environment variable is not set')\n",
    "sys.path.insert(0, os.path.join(spark_home, 'python'))\n",
    "sys.path.insert(0, os.path.join(spark_home, 'python/lib/py4j-0.10.7-src.zip'))\n",
    "exec(open(os.path.join(spark_home, 'python/pyspark/shell.py')).read())"
   ]
  },
  {
   "cell_type": "code",
   "execution_count": 2,
   "metadata": {},
   "outputs": [],
   "source": [
    "from pyspark.sql.functions import json_tuple, from_json, get_json_object, col, explode, expr, \\\n",
    "collect_set, collect_list,regexp_replace, get_json_object, to_json, struct\n",
    "import pyspark.sql.types as t\n",
    "import pyspark.sql.functions as f\n",
    "\n",
    "from pyspark.sql.types import StructField, StructType, StringType, ArrayType, IntegerType, TimestampType, LongType\n",
    "from pyspark.ml.feature import HashingTF, IDF, Tokenizer, StopWordsRemover, StringIndexer, IndexToString\n",
    "from pyspark.ml import Pipeline, PipelineModel\n",
    "from pyspark.ml.linalg import Vector, DenseVector\n",
    "from pyspark.ml.classification import LogisticRegression ,DecisionTreeClassifier, RandomForestClassifier\n",
    "from pyspark.ml.evaluation import MulticlassClassificationEvaluator\n",
    "import json, pprint"
   ]
  },
  {
   "cell_type": "code",
   "execution_count": 3,
   "metadata": {},
   "outputs": [
    {
     "name": "stdout",
     "output_type": "stream",
     "text": [
      "Found 2 items\r\n",
      "-rw-r--r--   3 hdfs hdfs   24271415 2022-01-06 18:46 /labs/slaba05/lab05_test.csv\r\n",
      "-rw-r--r--   3 hdfs hdfs  176160768 2022-01-06 18:46 /labs/slaba05/lab05_train.csv\r\n"
     ]
    }
   ],
   "source": [
    "!hdfs dfs -ls /labs/slaba05/"
   ]
  },
  {
   "cell_type": "code",
   "execution_count": 4,
   "metadata": {},
   "outputs": [
    {
     "name": "stdout",
     "output_type": "stream",
     "text": [
      ",ID,CR_PROD_CNT_IL,AMOUNT_RUB_CLO_PRC,PRC_ACCEPTS_A_EMAIL_LINK,APP_REGISTR_RGN_CODE,PRC_ACCEPTS_A_POS,PRC_ACCEPTS_A_TK,TURNOVER_DYNAMIC_IL_1M,CNT_TRAN_AUT_TENDENCY1M,SUM_TRAN_AUT_TENDENCY1M,AMOUNT_RUB_SUP_PRC,PRC_ACCEPTS_A_AMOBILE,SUM_TRAN_AUT_TENDENCY3M,CLNT_TRUST_RELATION,PRC_ACCEPTS_TK,PRC_ACCEPTS_A_MTP,REST_DYNAMIC_FDEP_1M,CNT_TRAN_AUT_TENDENCY3M,CNT_ACCEPTS_TK,APP_MARITAL_STATUS,REST_DYNAMIC_SAVE_3M,CR_PROD_CNT_VCU,REST_AVG_CUR,CNT_TRAN_MED_TENDENCY1M,APP_KIND_OF_PROP_HABITATION,CLNT_JOB_POSITION_TYPE,AMOUNT_RUB_NAS_PRC,CLNT_JOB_POSITION,APP_DRIVING_LICENSE,TRANS_COUNT_SUP_PRC,APP_EDUCATION,CNT_TRAN_CLO_TENDENCY1M,SUM_TRAN_MED_TENDENCY1M,PRC_ACCEPTS_A_ATM,PRC_ACCEPTS_MTP,TRANS_COUNT_NAS_PRC,APP_TRAVEL_PASS,CNT_ACCEPTS_MTP,CR_PROD_CNT_TOVR,APP_CAR,CR_PROD_CNT_PIL,SUM_TRAN_CLO_TENDENCY1M,APP_POSITION_TYPE,TURNOVER_CC,TRANS_COUNT_ATM_PRC,AMOUNT_RUB_ATM_PRC,TURNOVER_PAYM,AGE,CNT_TRAN_MED_TENDENCY3M,CR_PROD_CNT_CC,SUM_TRAN_MED_TENDENCY3M,REST_DYNAMIC_FDEP_3M,REST_DYNAMIC_IL_1M,APP_EMP_TYPE,SUM_TRAN_CLO_TENDENCY3M,LDEAL_TENOR_MAX,LDEAL_YQZ_CHRG,CR_PROD_CNT_CCFP,DEAL_YQZ_IR_MAX,LDEAL_YQZ_COM,DEAL_YQZ_IR_MIN,CNT_TRAN_CLO_TENDENCY3M,REST_DYNAMIC_CUR_1M,REST_AVG_PAYM,LDEAL_TENOR_MIN,LDEAL_AMT_MONTH,APP_COMP_TYPE,LDEAL_GRACE_DAYS_PCT_MED,REST_DYNAMIC_CUR_3M,CNT_TRAN_SUP_TENDENCY3M,TURNOVER_DYNAMIC_CUR_1M,REST_DYNAMIC_PAYM_3M,SUM_TRAN_SUP_TENDENCY3M,REST_DYNAMIC_IL_3M,CNT_TRAN_ATM_TENDENCY3M,CNT_TRAN_ATM_TENDENCY1M,TURNOVER_DYNAMIC_IL_3M,SUM_TRAN_ATM_TENDENCY3M,DEAL_GRACE_DAYS_ACC_S1X1,AVG_PCT_MONTH_TO_PCLOSE,DEAL_YWZ_IR_MIN,SUM_TRAN_SUP_TENDENCY1M,DEAL_YWZ_IR_MAX,SUM_TRAN_ATM_TENDENCY1M,REST_DYNAMIC_PAYM_1M,CNT_TRAN_SUP_TENDENCY1M,DEAL_GRACE_DAYS_ACC_AVG,TURNOVER_DYNAMIC_CUR_3M,PACK,MAX_PCLOSE_DATE,LDEAL_YQZ_PC,CLNT_SETUP_TENOR,DEAL_GRACE_DAYS_ACC_MAX,TURNOVER_DYNAMIC_PAYM_3M,LDEAL_DELINQ_PER_MAXYQZ,TURNOVER_DYNAMIC_PAYM_1M,CLNT_SALARY_VALUE,TRANS_AMOUNT_TENDENCY3M,MED_DEBT_PRC_YQZ,TRANS_CNT_TENDENCY3M,LDEAL_USED_AMT_AVG_YQZ,REST_DYNAMIC_CC_1M,LDEAL_USED_AMT_AVG_YWZ,TURNOVER_DYNAMIC_CC_1M,AVG_PCT_DEBT_TO_DEAL_AMT,LDEAL_ACT_DAYS_ACC_PCT_AVG,REST_DYNAMIC_CC_3M,MED_DEBT_PRC_YWZ,LDEAL_ACT_DAYS_PCT_TR3,LDEAL_ACT_DAYS_PCT_AAVG,LDEAL_DELINQ_PER_MAXYWZ,TURNOVER_DYNAMIC_CC_3M,LDEAL_ACT_DAYS_PCT_TR,LDEAL_ACT_DAYS_PCT_TR4,LDEAL_ACT_DAYS_PCT_CURR,TARGET\r\n",
      "333149,479990,0,0.0,0.0,,0.0,0.0,0.0,,,0.0,0.0,,,0.0,0.0,0.0,,0.0,,0.0,0,19069.6917166667,,,,0.0,,,0.0,,,,0.0,0.0,0.0,,0.0,1,,0,,,0.0,0.981818181818182,0.9264718189135429,0.0,324,,0,,0.0,0.0,,,,,0,,,,,0.139327197286461,0.0,,,,0.0,0.24404241658152398,,0.14429972251526998,0.0,,0.0,0.351851851851852,0.166666666666667,0.0,0.329320637235633,0.0,,45.0,,45.0,0.16790105289165602,0.0,,0.0,0.30374965665416803,102,,,5.48000105784548,0.0,0.0,,0.0,,0.305106289785464,,0.34545454545454496,,0.0,1.0,0.0,,0.0035236081747709704,0.0,0.0,0.0,0.0,0.0,0.0,0.0,0.0,0.0,0\r\n",
      "cat: Unable to write to output stream.\r\n"
     ]
    }
   ],
   "source": [
    "!hdfs dfs -cat /labs/slaba05/lab05_train.csv | head -n 2"
   ]
  },
  {
   "cell_type": "code",
   "execution_count": 5,
   "metadata": {},
   "outputs": [
    {
     "name": "stdout",
     "output_type": "stream",
     "text": [
      ",ID,CR_PROD_CNT_IL,AMOUNT_RUB_CLO_PRC,PRC_ACCEPTS_A_EMAIL_LINK,APP_REGISTR_RGN_CODE,PRC_ACCEPTS_A_POS,PRC_ACCEPTS_A_TK,TURNOVER_DYNAMIC_IL_1M,CNT_TRAN_AUT_TENDENCY1M,SUM_TRAN_AUT_TENDENCY1M,AMOUNT_RUB_SUP_PRC,PRC_ACCEPTS_A_AMOBILE,SUM_TRAN_AUT_TENDENCY3M,CLNT_TRUST_RELATION,PRC_ACCEPTS_TK,PRC_ACCEPTS_A_MTP,REST_DYNAMIC_FDEP_1M,CNT_TRAN_AUT_TENDENCY3M,CNT_ACCEPTS_TK,APP_MARITAL_STATUS,REST_DYNAMIC_SAVE_3M,CR_PROD_CNT_VCU,REST_AVG_CUR,CNT_TRAN_MED_TENDENCY1M,APP_KIND_OF_PROP_HABITATION,CLNT_JOB_POSITION_TYPE,AMOUNT_RUB_NAS_PRC,CLNT_JOB_POSITION,APP_DRIVING_LICENSE,TRANS_COUNT_SUP_PRC,APP_EDUCATION,CNT_TRAN_CLO_TENDENCY1M,SUM_TRAN_MED_TENDENCY1M,PRC_ACCEPTS_A_ATM,PRC_ACCEPTS_MTP,TRANS_COUNT_NAS_PRC,APP_TRAVEL_PASS,CNT_ACCEPTS_MTP,CR_PROD_CNT_TOVR,APP_CAR,CR_PROD_CNT_PIL,SUM_TRAN_CLO_TENDENCY1M,APP_POSITION_TYPE,TURNOVER_CC,TRANS_COUNT_ATM_PRC,AMOUNT_RUB_ATM_PRC,TURNOVER_PAYM,AGE,CNT_TRAN_MED_TENDENCY3M,CR_PROD_CNT_CC,SUM_TRAN_MED_TENDENCY3M,REST_DYNAMIC_FDEP_3M,REST_DYNAMIC_IL_1M,APP_EMP_TYPE,SUM_TRAN_CLO_TENDENCY3M,LDEAL_TENOR_MAX,LDEAL_YQZ_CHRG,CR_PROD_CNT_CCFP,DEAL_YQZ_IR_MAX,LDEAL_YQZ_COM,DEAL_YQZ_IR_MIN,CNT_TRAN_CLO_TENDENCY3M,REST_DYNAMIC_CUR_1M,REST_AVG_PAYM,LDEAL_TENOR_MIN,LDEAL_AMT_MONTH,APP_COMP_TYPE,LDEAL_GRACE_DAYS_PCT_MED,REST_DYNAMIC_CUR_3M,CNT_TRAN_SUP_TENDENCY3M,TURNOVER_DYNAMIC_CUR_1M,REST_DYNAMIC_PAYM_3M,SUM_TRAN_SUP_TENDENCY3M,REST_DYNAMIC_IL_3M,CNT_TRAN_ATM_TENDENCY3M,CNT_TRAN_ATM_TENDENCY1M,TURNOVER_DYNAMIC_IL_3M,SUM_TRAN_ATM_TENDENCY3M,DEAL_GRACE_DAYS_ACC_S1X1,AVG_PCT_MONTH_TO_PCLOSE,DEAL_YWZ_IR_MIN,SUM_TRAN_SUP_TENDENCY1M,DEAL_YWZ_IR_MAX,SUM_TRAN_ATM_TENDENCY1M,REST_DYNAMIC_PAYM_1M,CNT_TRAN_SUP_TENDENCY1M,DEAL_GRACE_DAYS_ACC_AVG,TURNOVER_DYNAMIC_CUR_3M,PACK,MAX_PCLOSE_DATE,LDEAL_YQZ_PC,CLNT_SETUP_TENOR,DEAL_GRACE_DAYS_ACC_MAX,TURNOVER_DYNAMIC_PAYM_3M,LDEAL_DELINQ_PER_MAXYQZ,TURNOVER_DYNAMIC_PAYM_1M,CLNT_SALARY_VALUE,TRANS_AMOUNT_TENDENCY3M,MED_DEBT_PRC_YQZ,TRANS_CNT_TENDENCY3M,LDEAL_USED_AMT_AVG_YQZ,REST_DYNAMIC_CC_1M,LDEAL_USED_AMT_AVG_YWZ,TURNOVER_DYNAMIC_CC_1M,AVG_PCT_DEBT_TO_DEAL_AMT,LDEAL_ACT_DAYS_ACC_PCT_AVG,REST_DYNAMIC_CC_3M,MED_DEBT_PRC_YWZ,LDEAL_ACT_DAYS_PCT_TR3,LDEAL_ACT_DAYS_PCT_AAVG,LDEAL_DELINQ_PER_MAXYWZ,TURNOVER_DYNAMIC_CC_3M,LDEAL_ACT_DAYS_PCT_TR,LDEAL_ACT_DAYS_PCT_TR4,LDEAL_ACT_DAYS_PCT_CURR\r\n",
      "372289,519130,0,0.0,,,,,0.0,,,0.0,,,,,,0.0,,,,1.0,0,13916.8191,,,,0.0,,,0.0,,,,,,0.0,,,0,,0,,,0.0,1.0,1.0,0.0,240,,0,,0.0,0.0,,,,,0,,,,,0.479789155507046,0.0,,,,0.0,1.0,,0.6401123866394111,0.0,,0.0,1.0,,0.0,1.0,,,,,,,0.0,,,1.0,K01,,,0.5713989073078449,,0.0,,0.0,,1.0,,1.0,,0.0,,0.0,,,0.0,,,,,0.0,,,\r\n",
      "cat: Unable to write to output stream.\r\n"
     ]
    }
   ],
   "source": [
    "!hdfs dfs -cat /labs/slaba05/lab05_test.csv | head -n 2"
   ]
  },
  {
   "cell_type": "code",
   "execution_count": 28,
   "metadata": {},
   "outputs": [
    {
     "data": {
      "text/plain": [
       "320764"
      ]
     },
     "execution_count": 28,
     "metadata": {},
     "output_type": "execute_result"
    }
   ],
   "source": [
    "df_train = spark.read.csv(\"/labs/slaba05/lab05_train.csv\", header=True, inferSchema=True, sep=',')\n",
    "# df_train.show(2, vertical = True, truncate = False)\n",
    "# df_train.count() # 320764"
   ]
  },
  {
   "cell_type": "code",
   "execution_count": 29,
   "metadata": {},
   "outputs": [
    {
     "data": {
      "text/plain": [
       "44399"
      ]
     },
     "execution_count": 29,
     "metadata": {},
     "output_type": "execute_result"
    }
   ],
   "source": [
    "df_test = spark.read.csv(\"/labs/slaba05/lab05_test.csv\", header=True, inferSchema=True, sep=',')\n",
    "# df_test.show(2, vertical = True, truncate = False)\n",
    "# df_test.count() # 44399"
   ]
  },
  {
   "cell_type": "markdown",
   "metadata": {},
   "source": [
    "## 1. Выбираем фичи"
   ]
  },
  {
   "cell_type": "code",
   "execution_count": 14,
   "metadata": {},
   "outputs": [
    {
     "name": "stdout",
     "output_type": "stream",
     "text": [
      "['TARGET']\n"
     ]
    }
   ],
   "source": [
    "difference = list(set(df_train.columns).symmetric_difference(set(df_test.columns)))\n",
    "print(difference)"
   ]
  },
  {
   "cell_type": "code",
   "execution_count": 31,
   "metadata": {},
   "outputs": [],
   "source": [
    "# import pyspark.sql.functions as func\n",
    "\n",
    "# lst = [];\n",
    "# for col in df_train.columns:\n",
    "#     if (df_train.filter(func.col(col).isNull()).count() == df_train.select(func.col(col)).count()):\n",
    "# #         df_train = df_train.drop(col)\n",
    "#         lst.append(col)"
   ]
  },
  {
   "cell_type": "code",
   "execution_count": 42,
   "metadata": {},
   "outputs": [
    {
     "data": {
      "text/plain": [
       "[0,\n",
       " 0,\n",
       " 0,\n",
       " 34550,\n",
       " 180814,\n",
       " 265914,\n",
       " 180814,\n",
       " 180814,\n",
       " 1,\n",
       " 251229,\n",
       " 251229,\n",
       " 34551,\n",
       " 180814,\n",
       " 220560,\n",
       " 257829,\n",
       " 180814,\n",
       " 180814,\n",
       " 1,\n",
       " 220560,\n",
       " 180814,\n",
       " 258989,\n",
       " 1,\n",
       " 1,\n",
       " 1,\n",
       " 258307,\n",
       " 267042,\n",
       " 280242,\n",
       " 34551,\n",
       " 130371,\n",
       " 268868,\n",
       " 34551,\n",
       " 259099,\n",
       " 260941,\n",
       " 258307,\n",
       " 180814,\n",
       " 180814,\n",
       " 34551,\n",
       " 268868,\n",
       " 180814,\n",
       " 1,\n",
       " 268869,\n",
       " 1,\n",
       " 260941,\n",
       " 265984,\n",
       " 1,\n",
       " 34551,\n",
       " 34551,\n",
       " 1,\n",
       " 1,\n",
       " 216119,\n",
       " 1,\n",
       " 216119,\n",
       " 1,\n",
       " 1,\n",
       " 259778,\n",
       " 216989,\n",
       " 313405,\n",
       " 319629,\n",
       " 1,\n",
       " 313405,\n",
       " 319635,\n",
       " 313405,\n",
       " 216989,\n",
       " 1,\n",
       " 1,\n",
       " 313405,\n",
       " 319060,\n",
       " 259778,\n",
       " 1,\n",
       " 1,\n",
       " 141235,\n",
       " 1,\n",
       " 1,\n",
       " 141235,\n",
       " 1,\n",
       " 89923,\n",
       " 134853,\n",
       " 1,\n",
       " 89923,\n",
       " 257149,\n",
       " 319296,\n",
       " 234276,\n",
       " 179914,\n",
       " 234276,\n",
       " 134853,\n",
       " 1,\n",
       " 179914,\n",
       " 258071,\n",
       " 1,\n",
       " 1,\n",
       " 319065,\n",
       " 318213,\n",
       " 1,\n",
       " 258071,\n",
       " 1,\n",
       " 313405,\n",
       " 1,\n",
       " 320112,\n",
       " 46860,\n",
       " 313405,\n",
       " 46860,\n",
       " 313405,\n",
       " 1,\n",
       " 234276,\n",
       " 1,\n",
       " 319060,\n",
       " 236350,\n",
       " 1,\n",
       " 234276,\n",
       " 236350,\n",
       " 232072,\n",
       " 234276,\n",
       " 1,\n",
       " 236350,\n",
       " 236350,\n",
       " 236350,\n",
       " 1]"
      ]
     },
     "execution_count": 42,
     "metadata": {},
     "output_type": "execute_result"
    }
   ],
   "source": [
    "import pyspark.sql.functions as func\n",
    "\n",
    "lst = [];\n",
    "for col in df_train.columns:\n",
    "    lst.append(    df_train.filter(func.col(col).isNull()).count()    )\n",
    "lst"
   ]
  },
  {
   "cell_type": "code",
   "execution_count": 43,
   "metadata": {},
   "outputs": [
    {
     "data": {
      "text/plain": [
       "117"
      ]
     },
     "execution_count": 43,
     "metadata": {},
     "output_type": "execute_result"
    }
   ],
   "source": [
    "len(lst)"
   ]
  },
  {
   "cell_type": "code",
   "execution_count": 44,
   "metadata": {},
   "outputs": [
    {
     "data": {
      "text/plain": [
       "117"
      ]
     },
     "execution_count": 44,
     "metadata": {},
     "output_type": "execute_result"
    }
   ],
   "source": [
    "len(df_train.columns)"
   ]
  },
  {
   "cell_type": "code",
   "execution_count": 32,
   "metadata": {},
   "outputs": [],
   "source": [
    "# df_train =  df_train.na.fill(-1)\n",
    "# df_train.show(1, vertical = True, truncate = False)"
   ]
  },
  {
   "cell_type": "code",
   "execution_count": 33,
   "metadata": {},
   "outputs": [],
   "source": [
    "# df_test = df_test.na.fill(-1)\n",
    "# df_test.show(2, vertical = True, truncate = False)"
   ]
  },
  {
   "cell_type": "code",
   "execution_count": 54,
   "metadata": {},
   "outputs": [
    {
     "data": {
      "text/plain": [
       "['_c0',\n",
       " 'ID',\n",
       " 'CR_PROD_CNT_IL',\n",
       " 'TURNOVER_DYNAMIC_IL_1M',\n",
       " 'REST_DYNAMIC_FDEP_1M',\n",
       " 'REST_DYNAMIC_SAVE_3M',\n",
       " 'CR_PROD_CNT_VCU',\n",
       " 'REST_AVG_CUR',\n",
       " 'CR_PROD_CNT_TOVR',\n",
       " 'CR_PROD_CNT_PIL',\n",
       " 'TURNOVER_CC',\n",
       " 'TURNOVER_PAYM',\n",
       " 'AGE',\n",
       " 'CR_PROD_CNT_CC',\n",
       " 'REST_DYNAMIC_FDEP_3M',\n",
       " 'REST_DYNAMIC_IL_1M',\n",
       " 'CR_PROD_CNT_CCFP',\n",
       " 'REST_DYNAMIC_CUR_1M',\n",
       " 'REST_AVG_PAYM',\n",
       " 'LDEAL_GRACE_DAYS_PCT_MED',\n",
       " 'REST_DYNAMIC_CUR_3M',\n",
       " 'TURNOVER_DYNAMIC_CUR_1M',\n",
       " 'REST_DYNAMIC_PAYM_3M',\n",
       " 'REST_DYNAMIC_IL_3M',\n",
       " 'TURNOVER_DYNAMIC_IL_3M',\n",
       " 'REST_DYNAMIC_PAYM_1M',\n",
       " 'TURNOVER_DYNAMIC_CUR_3M',\n",
       " 'PACK',\n",
       " 'CLNT_SETUP_TENOR',\n",
       " 'TURNOVER_DYNAMIC_PAYM_3M',\n",
       " 'TURNOVER_DYNAMIC_PAYM_1M',\n",
       " 'REST_DYNAMIC_CC_1M',\n",
       " 'TURNOVER_DYNAMIC_CC_1M',\n",
       " 'REST_DYNAMIC_CC_3M',\n",
       " 'TURNOVER_DYNAMIC_CC_3M',\n",
       " 'TARGET']"
      ]
     },
     "execution_count": 54,
     "metadata": {},
     "output_type": "execute_result"
    }
   ],
   "source": [
    "name = [];\n",
    "for col in df_train.columns:\n",
    "    if df_train.filter(func.col(col).isNull()).count() < 2:\n",
    "        name.append(col)\n",
    "name"
   ]
  },
  {
   "cell_type": "code",
   "execution_count": 63,
   "metadata": {},
   "outputs": [
    {
     "data": {
      "text/plain": [
       "35"
      ]
     },
     "execution_count": 63,
     "metadata": {},
     "output_type": "execute_result"
    }
   ],
   "source": [
    "len(name)"
   ]
  },
  {
   "cell_type": "code",
   "execution_count": 55,
   "metadata": {},
   "outputs": [
    {
     "name": "stdout",
     "output_type": "stream",
     "text": [
      "-RECORD 0---------------------------------------\n",
      " _c0                      | 333149              \n",
      " ID                       | 479990              \n",
      " CR_PROD_CNT_IL           | 0                   \n",
      " TURNOVER_DYNAMIC_IL_1M   | 0.0                 \n",
      " REST_DYNAMIC_FDEP_1M     | 0.0                 \n",
      " REST_DYNAMIC_SAVE_3M     | 0.0                 \n",
      " CR_PROD_CNT_VCU          | 0                   \n",
      " REST_AVG_CUR             | 19069.6917166667    \n",
      " CR_PROD_CNT_TOVR         | 1                   \n",
      " CR_PROD_CNT_PIL          | 0                   \n",
      " TURNOVER_CC              | 0.0                 \n",
      " TURNOVER_PAYM            | 0.0                 \n",
      " AGE                      | 324                 \n",
      " CR_PROD_CNT_CC           | 0                   \n",
      " REST_DYNAMIC_FDEP_3M     | 0.0                 \n",
      " REST_DYNAMIC_IL_1M       | 0.0                 \n",
      " CR_PROD_CNT_CCFP         | 0                   \n",
      " REST_DYNAMIC_CUR_1M      | 0.139327197286461   \n",
      " REST_AVG_PAYM            | 0.0                 \n",
      " LDEAL_GRACE_DAYS_PCT_MED | 0.0                 \n",
      " REST_DYNAMIC_CUR_3M      | 0.24404241658152398 \n",
      " TURNOVER_DYNAMIC_CUR_1M  | 0.14429972251526998 \n",
      " REST_DYNAMIC_PAYM_3M     | 0.0                 \n",
      " REST_DYNAMIC_IL_3M       | 0.0                 \n",
      " TURNOVER_DYNAMIC_IL_3M   | 0.0                 \n",
      " REST_DYNAMIC_PAYM_1M     | 0.0                 \n",
      " TURNOVER_DYNAMIC_CUR_3M  | 0.30374965665416803 \n",
      " PACK                     | 102                 \n",
      " CLNT_SETUP_TENOR         | 5.48000105784548    \n",
      " TURNOVER_DYNAMIC_PAYM_3M | 0.0                 \n",
      " TURNOVER_DYNAMIC_PAYM_1M | 0.0                 \n",
      " REST_DYNAMIC_CC_1M       | 0.0                 \n",
      " TURNOVER_DYNAMIC_CC_1M   | 0.0                 \n",
      " REST_DYNAMIC_CC_3M       | 0.0                 \n",
      " TURNOVER_DYNAMIC_CC_3M   | 0.0                 \n",
      " TARGET                   | 0                   \n",
      "-RECORD 1---------------------------------------\n",
      " _c0                      | 303639              \n",
      " ID                       | 450480              \n",
      " CR_PROD_CNT_IL           | 0                   \n",
      " TURNOVER_DYNAMIC_IL_1M   | 0.0                 \n",
      " REST_DYNAMIC_FDEP_1M     | 0.0                 \n",
      " REST_DYNAMIC_SAVE_3M     | 0.0                 \n",
      " CR_PROD_CNT_VCU          | 0                   \n",
      " REST_AVG_CUR             | 5951.20868333333    \n",
      " CR_PROD_CNT_TOVR         | 1                   \n",
      " CR_PROD_CNT_PIL          | 0                   \n",
      " TURNOVER_CC              | 0.0                 \n",
      " TURNOVER_PAYM            | 0.0                 \n",
      " AGE                      | 360                 \n",
      " CR_PROD_CNT_CC           | 0                   \n",
      " REST_DYNAMIC_FDEP_3M     | 0.0                 \n",
      " REST_DYNAMIC_IL_1M       | 0.0                 \n",
      " CR_PROD_CNT_CCFP         | 0                   \n",
      " REST_DYNAMIC_CUR_1M      | 0.163875925921502   \n",
      " REST_AVG_PAYM            | 0.0                 \n",
      " LDEAL_GRACE_DAYS_PCT_MED | 0.0                 \n",
      " REST_DYNAMIC_CUR_3M      | 0.4652443081723449  \n",
      " TURNOVER_DYNAMIC_CUR_1M  | 0.203483595055288   \n",
      " REST_DYNAMIC_PAYM_3M     | 0.0                 \n",
      " REST_DYNAMIC_IL_3M       | 0.0                 \n",
      " TURNOVER_DYNAMIC_IL_3M   | 0.0                 \n",
      " REST_DYNAMIC_PAYM_1M     | 0.0                 \n",
      " TURNOVER_DYNAMIC_CUR_3M  | 0.504160053455052   \n",
      " PACK                     | 102                 \n",
      " CLNT_SETUP_TENOR         | 6.78645267074871    \n",
      " TURNOVER_DYNAMIC_PAYM_3M | 0.0                 \n",
      " TURNOVER_DYNAMIC_PAYM_1M | 0.0                 \n",
      " REST_DYNAMIC_CC_1M       | 0.0                 \n",
      " TURNOVER_DYNAMIC_CC_1M   | 0.0                 \n",
      " REST_DYNAMIC_CC_3M       | 0.0                 \n",
      " TURNOVER_DYNAMIC_CC_3M   | 0.0                 \n",
      " TARGET                   | 0                   \n",
      "only showing top 2 rows\n",
      "\n"
     ]
    }
   ],
   "source": [
    "df_train_short = df_train.select(name)\n",
    "df_train_short.show(2, vertical = True, truncate = False)"
   ]
  },
  {
   "cell_type": "code",
   "execution_count": 65,
   "metadata": {},
   "outputs": [
    {
     "data": {
      "text/plain": [
       "['_c0',\n",
       " 'ID',\n",
       " 'CR_PROD_CNT_IL',\n",
       " 'TURNOVER_DYNAMIC_IL_1M',\n",
       " 'REST_DYNAMIC_FDEP_1M',\n",
       " 'REST_DYNAMIC_SAVE_3M',\n",
       " 'CR_PROD_CNT_VCU',\n",
       " 'REST_AVG_CUR',\n",
       " 'CR_PROD_CNT_TOVR',\n",
       " 'CR_PROD_CNT_PIL',\n",
       " 'TURNOVER_CC',\n",
       " 'TURNOVER_PAYM',\n",
       " 'AGE',\n",
       " 'CR_PROD_CNT_CC',\n",
       " 'REST_DYNAMIC_FDEP_3M',\n",
       " 'REST_DYNAMIC_IL_1M',\n",
       " 'CR_PROD_CNT_CCFP',\n",
       " 'REST_DYNAMIC_CUR_1M',\n",
       " 'REST_AVG_PAYM',\n",
       " 'LDEAL_GRACE_DAYS_PCT_MED',\n",
       " 'REST_DYNAMIC_CUR_3M',\n",
       " 'TURNOVER_DYNAMIC_CUR_1M',\n",
       " 'REST_DYNAMIC_PAYM_3M',\n",
       " 'REST_DYNAMIC_IL_3M',\n",
       " 'TURNOVER_DYNAMIC_IL_3M',\n",
       " 'REST_DYNAMIC_PAYM_1M',\n",
       " 'TURNOVER_DYNAMIC_CUR_3M',\n",
       " 'PACK',\n",
       " 'CLNT_SETUP_TENOR',\n",
       " 'TURNOVER_DYNAMIC_PAYM_3M',\n",
       " 'TURNOVER_DYNAMIC_PAYM_1M',\n",
       " 'REST_DYNAMIC_CC_1M',\n",
       " 'TURNOVER_DYNAMIC_CC_1M',\n",
       " 'REST_DYNAMIC_CC_3M',\n",
       " 'TURNOVER_DYNAMIC_CC_3M',\n",
       " 'TARGET']"
      ]
     },
     "execution_count": 65,
     "metadata": {},
     "output_type": "execute_result"
    }
   ],
   "source": [
    "name"
   ]
  },
  {
   "cell_type": "code",
   "execution_count": 66,
   "metadata": {},
   "outputs": [],
   "source": [
    "name_test = name.copy()\n",
    "name_test.remove(\"TARGET\")"
   ]
  },
  {
   "cell_type": "code",
   "execution_count": 67,
   "metadata": {},
   "outputs": [
    {
     "data": {
      "text/plain": [
       "['_c0',\n",
       " 'ID',\n",
       " 'CR_PROD_CNT_IL',\n",
       " 'TURNOVER_DYNAMIC_IL_1M',\n",
       " 'REST_DYNAMIC_FDEP_1M',\n",
       " 'REST_DYNAMIC_SAVE_3M',\n",
       " 'CR_PROD_CNT_VCU',\n",
       " 'REST_AVG_CUR',\n",
       " 'CR_PROD_CNT_TOVR',\n",
       " 'CR_PROD_CNT_PIL',\n",
       " 'TURNOVER_CC',\n",
       " 'TURNOVER_PAYM',\n",
       " 'AGE',\n",
       " 'CR_PROD_CNT_CC',\n",
       " 'REST_DYNAMIC_FDEP_3M',\n",
       " 'REST_DYNAMIC_IL_1M',\n",
       " 'CR_PROD_CNT_CCFP',\n",
       " 'REST_DYNAMIC_CUR_1M',\n",
       " 'REST_AVG_PAYM',\n",
       " 'LDEAL_GRACE_DAYS_PCT_MED',\n",
       " 'REST_DYNAMIC_CUR_3M',\n",
       " 'TURNOVER_DYNAMIC_CUR_1M',\n",
       " 'REST_DYNAMIC_PAYM_3M',\n",
       " 'REST_DYNAMIC_IL_3M',\n",
       " 'TURNOVER_DYNAMIC_IL_3M',\n",
       " 'REST_DYNAMIC_PAYM_1M',\n",
       " 'TURNOVER_DYNAMIC_CUR_3M',\n",
       " 'PACK',\n",
       " 'CLNT_SETUP_TENOR',\n",
       " 'TURNOVER_DYNAMIC_PAYM_3M',\n",
       " 'TURNOVER_DYNAMIC_PAYM_1M',\n",
       " 'REST_DYNAMIC_CC_1M',\n",
       " 'TURNOVER_DYNAMIC_CC_1M',\n",
       " 'REST_DYNAMIC_CC_3M',\n",
       " 'TURNOVER_DYNAMIC_CC_3M']"
      ]
     },
     "execution_count": 67,
     "metadata": {},
     "output_type": "execute_result"
    }
   ],
   "source": [
    "name_test"
   ]
  },
  {
   "cell_type": "code",
   "execution_count": 68,
   "metadata": {},
   "outputs": [
    {
     "name": "stdout",
     "output_type": "stream",
     "text": [
      "-RECORD 0--------------------------------------\n",
      " _c0                      | 372289             \n",
      " ID                       | 519130             \n",
      " CR_PROD_CNT_IL           | 0                  \n",
      " TURNOVER_DYNAMIC_IL_1M   | 0.0                \n",
      " REST_DYNAMIC_FDEP_1M     | 0.0                \n",
      " REST_DYNAMIC_SAVE_3M     | 1.0                \n",
      " CR_PROD_CNT_VCU          | 0                  \n",
      " REST_AVG_CUR             | 13916.8191         \n",
      " CR_PROD_CNT_TOVR         | 0                  \n",
      " CR_PROD_CNT_PIL          | 0                  \n",
      " TURNOVER_CC              | 0.0                \n",
      " TURNOVER_PAYM            | 0.0                \n",
      " AGE                      | 240                \n",
      " CR_PROD_CNT_CC           | 0                  \n",
      " REST_DYNAMIC_FDEP_3M     | 0.0                \n",
      " REST_DYNAMIC_IL_1M       | 0.0                \n",
      " CR_PROD_CNT_CCFP         | 0                  \n",
      " REST_DYNAMIC_CUR_1M      | 0.479789155507046  \n",
      " REST_AVG_PAYM            | 0.0                \n",
      " LDEAL_GRACE_DAYS_PCT_MED | 0.0                \n",
      " REST_DYNAMIC_CUR_3M      | 1.0                \n",
      " TURNOVER_DYNAMIC_CUR_1M  | 0.6401123866394111 \n",
      " REST_DYNAMIC_PAYM_3M     | 0.0                \n",
      " REST_DYNAMIC_IL_3M       | 0.0                \n",
      " TURNOVER_DYNAMIC_IL_3M   | 0.0                \n",
      " REST_DYNAMIC_PAYM_1M     | 0.0                \n",
      " TURNOVER_DYNAMIC_CUR_3M  | 1.0                \n",
      " PACK                     | K01                \n",
      " CLNT_SETUP_TENOR         | 0.5713989073078449 \n",
      " TURNOVER_DYNAMIC_PAYM_3M | 0.0                \n",
      " TURNOVER_DYNAMIC_PAYM_1M | 0.0                \n",
      " REST_DYNAMIC_CC_1M       | 0.0                \n",
      " TURNOVER_DYNAMIC_CC_1M   | 0.0                \n",
      " REST_DYNAMIC_CC_3M       | 0.0                \n",
      " TURNOVER_DYNAMIC_CC_3M   | 0.0                \n",
      "-RECORD 1--------------------------------------\n",
      " _c0                      | 87204              \n",
      " ID                       | 234045             \n",
      " CR_PROD_CNT_IL           | 0                  \n",
      " TURNOVER_DYNAMIC_IL_1M   | 0.0                \n",
      " REST_DYNAMIC_FDEP_1M     | 0.0                \n",
      " REST_DYNAMIC_SAVE_3M     | 0.0                \n",
      " CR_PROD_CNT_VCU          | 0                  \n",
      " REST_AVG_CUR             | 86440.6242333333   \n",
      " CR_PROD_CNT_TOVR         | 0                  \n",
      " CR_PROD_CNT_PIL          | 0                  \n",
      " TURNOVER_CC              | 0.0                \n",
      " TURNOVER_PAYM            | 0.0                \n",
      " AGE                      | 348                \n",
      " CR_PROD_CNT_CC           | 0                  \n",
      " REST_DYNAMIC_FDEP_3M     | 0.0                \n",
      " REST_DYNAMIC_IL_1M       | 0.0                \n",
      " CR_PROD_CNT_CCFP         | 0                  \n",
      " REST_DYNAMIC_CUR_1M      | 0.0755606007930854 \n",
      " REST_AVG_PAYM            | 0.0                \n",
      " LDEAL_GRACE_DAYS_PCT_MED | 0.0                \n",
      " REST_DYNAMIC_CUR_3M      | 0.330424066847332  \n",
      " TURNOVER_DYNAMIC_CUR_1M  | 0.147249149470836  \n",
      " REST_DYNAMIC_PAYM_3M     | 0.0                \n",
      " REST_DYNAMIC_IL_3M       | 0.0                \n",
      " TURNOVER_DYNAMIC_IL_3M   | 0.0                \n",
      " REST_DYNAMIC_PAYM_1M     | 0.0                \n",
      " TURNOVER_DYNAMIC_CUR_3M  | 0.556152068739451  \n",
      " PACK                     | 102                \n",
      " CLNT_SETUP_TENOR         | 3.2811949298088394 \n",
      " TURNOVER_DYNAMIC_PAYM_3M | 0.0                \n",
      " TURNOVER_DYNAMIC_PAYM_1M | 0.0                \n",
      " REST_DYNAMIC_CC_1M       | 0.0                \n",
      " TURNOVER_DYNAMIC_CC_1M   | 0.0                \n",
      " REST_DYNAMIC_CC_3M       | 0.0                \n",
      " TURNOVER_DYNAMIC_CC_3M   | 0.0                \n",
      "only showing top 2 rows\n",
      "\n"
     ]
    }
   ],
   "source": [
    "df_test_short = df_test.select(name_test)\n",
    "df_test_short.show(2, vertical = True, truncate = False)"
   ]
  },
  {
   "cell_type": "markdown",
   "metadata": {},
   "source": [
    "## 2. Удаляем сотавшиеся null"
   ]
  },
  {
   "cell_type": "code",
   "execution_count": 13,
   "metadata": {},
   "outputs": [
    {
     "ename": "NameError",
     "evalue": "name 'df_train_short' is not defined",
     "output_type": "error",
     "traceback": [
      "\u001b[0;31m---------------------------------------------------------------------------\u001b[0m",
      "\u001b[0;31mNameError\u001b[0m                                 Traceback (most recent call last)",
      "\u001b[0;32m<ipython-input-13-e3e1e8cb8228>\u001b[0m in \u001b[0;36m<module>\u001b[0;34m()\u001b[0m\n\u001b[0;32m----> 1\u001b[0;31m \u001b[0mdf_train_short\u001b[0m\u001b[0;34m.\u001b[0m\u001b[0mwrite\u001b[0m\u001b[0;34m.\u001b[0m\u001b[0moptions\u001b[0m\u001b[0;34m(\u001b[0m\u001b[0mheader\u001b[0m\u001b[0;34m=\u001b[0m\u001b[0;34m'True'\u001b[0m\u001b[0;34m,\u001b[0m \u001b[0mdelimiter\u001b[0m\u001b[0;34m=\u001b[0m\u001b[0;34m','\u001b[0m\u001b[0;34m)\u001b[0m\u001b[0;34m.\u001b[0m\u001b[0mcsv\u001b[0m\u001b[0;34m(\u001b[0m\u001b[0;34m\"/user/yuriy.perevezentsev/train_short\"\u001b[0m\u001b[0;34m)\u001b[0m\u001b[0;34m\u001b[0m\u001b[0m\n\u001b[0m\u001b[1;32m      2\u001b[0m \u001b[0mdf_test_short\u001b[0m\u001b[0;34m.\u001b[0m\u001b[0mwrite\u001b[0m\u001b[0;34m.\u001b[0m\u001b[0moptions\u001b[0m\u001b[0;34m(\u001b[0m\u001b[0mheader\u001b[0m\u001b[0;34m=\u001b[0m\u001b[0;34m'True'\u001b[0m\u001b[0;34m,\u001b[0m \u001b[0mdelimiter\u001b[0m\u001b[0;34m=\u001b[0m\u001b[0;34m','\u001b[0m\u001b[0;34m)\u001b[0m\u001b[0;34m.\u001b[0m\u001b[0mcsv\u001b[0m\u001b[0;34m(\u001b[0m\u001b[0;34m\"/user/yuriy.perevezentsev/test_short\"\u001b[0m\u001b[0;34m)\u001b[0m\u001b[0;34m\u001b[0m\u001b[0m\n",
      "\u001b[0;31mNameError\u001b[0m: name 'df_train_short' is not defined"
     ]
    }
   ],
   "source": [
    "df_train_short.write.options(header='True', delimiter=',').csv(\"/user/yuriy.perevezentsev/train_short\")\n",
    "df_test_short.write.options(header='True', delimiter=',').csv(\"/user/yuriy.perevezentsev/test_short\")"
   ]
  },
  {
   "cell_type": "code",
   "execution_count": 11,
   "metadata": {},
   "outputs": [],
   "source": [
    "train_short = spark.read.csv(\"/user/yuriy.perevezentsev/train_short\", header=True, inferSchema=True, sep=',')\n",
    "# train_short.show(1, vertical = True, truncate = False)"
   ]
  },
  {
   "cell_type": "code",
   "execution_count": 12,
   "metadata": {},
   "outputs": [],
   "source": [
    "test_short = spark.read.csv(\"/user/yuriy.perevezentsev/test_short\", header=True, inferSchema=True, sep=',')\n",
    "# test_short.show(1, vertical = True, truncate = False)"
   ]
  },
  {
   "cell_type": "code",
   "execution_count": 13,
   "metadata": {},
   "outputs": [],
   "source": [
    "train_short = train_short.na.fill(value=-1)"
   ]
  },
  {
   "cell_type": "code",
   "execution_count": 14,
   "metadata": {},
   "outputs": [
    {
     "name": "stdout",
     "output_type": "stream",
     "text": [
      "-RECORD 0---------------------------------------\n",
      " _c0                      | 149375              \n",
      " ID                       | 296216              \n",
      " CR_PROD_CNT_IL           | 1                   \n",
      " TURNOVER_DYNAMIC_IL_1M   | 0.0725595123448051  \n",
      " REST_DYNAMIC_FDEP_1M     | 0.0                 \n",
      " REST_DYNAMIC_SAVE_3M     | 0.0                 \n",
      " CR_PROD_CNT_VCU          | 0                   \n",
      " REST_AVG_CUR             | 50625.248           \n",
      " CR_PROD_CNT_TOVR         | 0                   \n",
      " CR_PROD_CNT_PIL          | 0                   \n",
      " TURNOVER_CC              | 0.0                 \n",
      " TURNOVER_PAYM            | 0.0                 \n",
      " AGE                      | 708                 \n",
      " CR_PROD_CNT_CC           | 0                   \n",
      " REST_DYNAMIC_FDEP_3M     | 0.0                 \n",
      " REST_DYNAMIC_IL_1M       | 0.264638472029086   \n",
      " CR_PROD_CNT_CCFP         | 0                   \n",
      " REST_DYNAMIC_CUR_1M      | 0.21195876314522002 \n",
      " REST_AVG_PAYM            | 0.0                 \n",
      " LDEAL_GRACE_DAYS_PCT_MED | 0.0                 \n",
      " REST_DYNAMIC_CUR_3M      | 0.6070835636531929  \n",
      " TURNOVER_DYNAMIC_CUR_1M  | 0.0138886905766696  \n",
      " REST_DYNAMIC_PAYM_3M     | 0.0                 \n",
      " REST_DYNAMIC_IL_3M       | 0.612840376086727   \n",
      " TURNOVER_DYNAMIC_IL_3M   | 0.40158331728272706 \n",
      " REST_DYNAMIC_PAYM_1M     | 0.0                 \n",
      " TURNOVER_DYNAMIC_CUR_3M  | 0.345464034555254   \n",
      " PACK                     | 107                 \n",
      " CLNT_SETUP_TENOR         | 3.2543054622162497  \n",
      " TURNOVER_DYNAMIC_PAYM_3M | 0.0                 \n",
      " TURNOVER_DYNAMIC_PAYM_1M | 0.0                 \n",
      " REST_DYNAMIC_CC_1M       | 0.0                 \n",
      " TURNOVER_DYNAMIC_CC_1M   | 0.0                 \n",
      " REST_DYNAMIC_CC_3M       | 0.0                 \n",
      " TURNOVER_DYNAMIC_CC_3M   | 0.0                 \n",
      " TARGET                   | 0                   \n",
      "only showing top 1 row\n",
      "\n"
     ]
    }
   ],
   "source": [
    "import pyspark.sql.functions as func\n",
    "\n",
    "for col in train_short.columns:\n",
    "    train_short = train_short.filter(func.col(col).isNotNull())\n",
    "train_short.show(1, vertical = True, truncate = False)"
   ]
  },
  {
   "cell_type": "code",
   "execution_count": 15,
   "metadata": {},
   "outputs": [
    {
     "name": "stdout",
     "output_type": "stream",
     "text": [
      "0\n"
     ]
    }
   ],
   "source": [
    "import pyspark.sql.functions as func\n",
    "\n",
    "# Проверяем, остлись ли null в train\n",
    "lst2 = [];\n",
    "for col in train_short.columns:\n",
    "    lst2.append(    train_short.filter(func.col(col).isNull()).count()    )\n",
    "print(sum(lst2))"
   ]
  },
  {
   "cell_type": "code",
   "execution_count": 16,
   "metadata": {},
   "outputs": [
    {
     "name": "stdout",
     "output_type": "stream",
     "text": [
      "0\n"
     ]
    }
   ],
   "source": [
    "lst2 = [];\n",
    "\n",
    "# Проверяем, остлись ли null в test\n",
    "\n",
    "for col in test_short.columns:\n",
    "    lst2.append(    test_short.filter(func.col(col).isNull()).count()    )\n",
    "print(sum(lst2))"
   ]
  },
  {
   "cell_type": "markdown",
   "metadata": {},
   "source": [
    "## 3. Работаем со стринговой переменной PACK (StringIndexer)"
   ]
  },
  {
   "cell_type": "code",
   "execution_count": 32,
   "metadata": {},
   "outputs": [
    {
     "name": "stdout",
     "output_type": "stream",
     "text": [
      "root\n",
      " |-- _c0: integer (nullable = true)\n",
      " |-- ID: integer (nullable = true)\n",
      " |-- CR_PROD_CNT_IL: integer (nullable = true)\n",
      " |-- TURNOVER_DYNAMIC_IL_1M: double (nullable = true)\n",
      " |-- REST_DYNAMIC_FDEP_1M: double (nullable = true)\n",
      " |-- REST_DYNAMIC_SAVE_3M: double (nullable = true)\n",
      " |-- CR_PROD_CNT_VCU: integer (nullable = true)\n",
      " |-- REST_AVG_CUR: double (nullable = true)\n",
      " |-- CR_PROD_CNT_TOVR: integer (nullable = true)\n",
      " |-- CR_PROD_CNT_PIL: integer (nullable = true)\n",
      " |-- TURNOVER_CC: double (nullable = true)\n",
      " |-- TURNOVER_PAYM: double (nullable = true)\n",
      " |-- AGE: integer (nullable = true)\n",
      " |-- CR_PROD_CNT_CC: integer (nullable = true)\n",
      " |-- REST_DYNAMIC_FDEP_3M: double (nullable = true)\n",
      " |-- REST_DYNAMIC_IL_1M: double (nullable = true)\n",
      " |-- CR_PROD_CNT_CCFP: integer (nullable = true)\n",
      " |-- REST_DYNAMIC_CUR_1M: double (nullable = true)\n",
      " |-- REST_AVG_PAYM: double (nullable = true)\n",
      " |-- LDEAL_GRACE_DAYS_PCT_MED: double (nullable = true)\n",
      " |-- REST_DYNAMIC_CUR_3M: double (nullable = true)\n",
      " |-- TURNOVER_DYNAMIC_CUR_1M: double (nullable = true)\n",
      " |-- REST_DYNAMIC_PAYM_3M: double (nullable = true)\n",
      " |-- REST_DYNAMIC_IL_3M: double (nullable = true)\n",
      " |-- TURNOVER_DYNAMIC_IL_3M: double (nullable = true)\n",
      " |-- REST_DYNAMIC_PAYM_1M: double (nullable = true)\n",
      " |-- TURNOVER_DYNAMIC_CUR_3M: double (nullable = true)\n",
      " |-- PACK: string (nullable = true)\n",
      " |-- CLNT_SETUP_TENOR: double (nullable = true)\n",
      " |-- TURNOVER_DYNAMIC_PAYM_3M: double (nullable = true)\n",
      " |-- TURNOVER_DYNAMIC_PAYM_1M: double (nullable = true)\n",
      " |-- REST_DYNAMIC_CC_1M: double (nullable = true)\n",
      " |-- TURNOVER_DYNAMIC_CC_1M: double (nullable = true)\n",
      " |-- REST_DYNAMIC_CC_3M: double (nullable = true)\n",
      " |-- TURNOVER_DYNAMIC_CC_3M: double (nullable = true)\n",
      " |-- TARGET: integer (nullable = true)\n",
      "\n"
     ]
    }
   ],
   "source": [
    "train_short.printSchema()"
   ]
  },
  {
   "cell_type": "code",
   "execution_count": 35,
   "metadata": {},
   "outputs": [
    {
     "data": {
      "text/plain": [
       "[Row(PACK='101'),\n",
       " Row(PACK='107'),\n",
       " Row(PACK='K01'),\n",
       " Row(PACK='M01'),\n",
       " Row(PACK='104'),\n",
       " Row(PACK='102'),\n",
       " Row(PACK='103'),\n",
       " Row(PACK='108'),\n",
       " Row(PACK='105'),\n",
       " Row(PACK='O01'),\n",
       " Row(PACK='109'),\n",
       " Row(PACK='301')]"
      ]
     },
     "execution_count": 35,
     "metadata": {},
     "output_type": "execute_result"
    }
   ],
   "source": [
    "train_short.select(\"PACK\").distinct().collect()"
   ]
  },
  {
   "cell_type": "code",
   "execution_count": 37,
   "metadata": {},
   "outputs": [
    {
     "data": {
      "text/plain": [
       "[Row(PACK='101'),\n",
       " Row(PACK='107'),\n",
       " Row(PACK='K01'),\n",
       " Row(PACK='M01'),\n",
       " Row(PACK='104'),\n",
       " Row(PACK='102'),\n",
       " Row(PACK='103'),\n",
       " Row(PACK='105'),\n",
       " Row(PACK='O01'),\n",
       " Row(PACK='109'),\n",
       " Row(PACK='301')]"
      ]
     },
     "execution_count": 37,
     "metadata": {},
     "output_type": "execute_result"
    }
   ],
   "source": [
    "test_short.select(\"PACK\").distinct().collect()"
   ]
  },
  {
   "cell_type": "code",
   "execution_count": 41,
   "metadata": {},
   "outputs": [],
   "source": [
    "from pyspark.ml.feature import StringIndexer\n",
    "\n",
    "qualification_indexer = StringIndexer(inputCol=\"PACK\", outputCol=\"pack_encoded\")\n",
    "\n",
    "model_indexer = qualification_indexer.fit(train_short)\n",
    "train_indexed = model_indexer.transform(train_short)\n",
    "test_indexed = model_indexer.transform(test_short)"
   ]
  },
  {
   "cell_type": "code",
   "execution_count": 42,
   "metadata": {},
   "outputs": [
    {
     "data": {
      "text/plain": [
       "[Row(pack_encoded=8.0),\n",
       " Row(pack_encoded=0.0),\n",
       " Row(pack_encoded=7.0),\n",
       " Row(pack_encoded=1.0),\n",
       " Row(pack_encoded=4.0),\n",
       " Row(pack_encoded=11.0),\n",
       " Row(pack_encoded=3.0),\n",
       " Row(pack_encoded=2.0),\n",
       " Row(pack_encoded=10.0),\n",
       " Row(pack_encoded=6.0),\n",
       " Row(pack_encoded=5.0),\n",
       " Row(pack_encoded=9.0)]"
      ]
     },
     "execution_count": 42,
     "metadata": {},
     "output_type": "execute_result"
    }
   ],
   "source": [
    "train_indexed.select(\"pack_encoded\").distinct().collect()"
   ]
  },
  {
   "cell_type": "code",
   "execution_count": 43,
   "metadata": {},
   "outputs": [
    {
     "data": {
      "text/plain": [
       "[Row(pack_encoded=8.0),\n",
       " Row(pack_encoded=0.0),\n",
       " Row(pack_encoded=7.0),\n",
       " Row(pack_encoded=1.0),\n",
       " Row(pack_encoded=4.0),\n",
       " Row(pack_encoded=3.0),\n",
       " Row(pack_encoded=2.0),\n",
       " Row(pack_encoded=10.0),\n",
       " Row(pack_encoded=6.0),\n",
       " Row(pack_encoded=5.0),\n",
       " Row(pack_encoded=9.0)]"
      ]
     },
     "execution_count": 43,
     "metadata": {},
     "output_type": "execute_result"
    }
   ],
   "source": [
    "test_indexed.select(\"pack_encoded\").distinct().collect()"
   ]
  },
  {
   "cell_type": "markdown",
   "metadata": {},
   "source": [
    "## 3. Разбиваем на train и validation, VectorAssembler, оцениваем модель"
   ]
  },
  {
   "cell_type": "code",
   "execution_count": 44,
   "metadata": {},
   "outputs": [
    {
     "data": {
      "text/plain": [
       "['CR_PROD_CNT_IL',\n",
       " 'TURNOVER_DYNAMIC_IL_1M',\n",
       " 'REST_DYNAMIC_FDEP_1M',\n",
       " 'REST_DYNAMIC_SAVE_3M',\n",
       " 'CR_PROD_CNT_VCU',\n",
       " 'REST_AVG_CUR',\n",
       " 'CR_PROD_CNT_TOVR',\n",
       " 'CR_PROD_CNT_PIL',\n",
       " 'TURNOVER_CC',\n",
       " 'TURNOVER_PAYM',\n",
       " 'AGE',\n",
       " 'CR_PROD_CNT_CC',\n",
       " 'REST_DYNAMIC_FDEP_3M',\n",
       " 'REST_DYNAMIC_IL_1M',\n",
       " 'CR_PROD_CNT_CCFP',\n",
       " 'REST_DYNAMIC_CUR_1M',\n",
       " 'REST_AVG_PAYM',\n",
       " 'LDEAL_GRACE_DAYS_PCT_MED',\n",
       " 'REST_DYNAMIC_CUR_3M',\n",
       " 'TURNOVER_DYNAMIC_CUR_1M',\n",
       " 'REST_DYNAMIC_PAYM_3M',\n",
       " 'REST_DYNAMIC_IL_3M',\n",
       " 'TURNOVER_DYNAMIC_IL_3M',\n",
       " 'REST_DYNAMIC_PAYM_1M',\n",
       " 'TURNOVER_DYNAMIC_CUR_3M',\n",
       " 'CLNT_SETUP_TENOR',\n",
       " 'TURNOVER_DYNAMIC_PAYM_3M',\n",
       " 'TURNOVER_DYNAMIC_PAYM_1M',\n",
       " 'REST_DYNAMIC_CC_1M',\n",
       " 'TURNOVER_DYNAMIC_CC_1M',\n",
       " 'REST_DYNAMIC_CC_3M',\n",
       " 'TURNOVER_DYNAMIC_CC_3M',\n",
       " 'pack_encoded']"
      ]
     },
     "execution_count": 44,
     "metadata": {},
     "output_type": "execute_result"
    }
   ],
   "source": [
    "cols = test_indexed.columns\n",
    "cols.remove(\"ID\")\n",
    "cols.remove(\"_c0\")\n",
    "cols.remove(\"PACK\")\n",
    "cols"
   ]
  },
  {
   "cell_type": "code",
   "execution_count": 45,
   "metadata": {},
   "outputs": [],
   "source": [
    "from pyspark.ml.feature import VectorAssembler\n",
    "\n",
    "assembler = VectorAssembler(inputCols = cols, outputCol = \"features\")\n",
    "\n",
    "train_indexed1 = assembler.transform(train_indexed)\n",
    "test_indexed1 = assembler.transform(test_indexed)"
   ]
  },
  {
   "cell_type": "code",
   "execution_count": 52,
   "metadata": {},
   "outputs": [],
   "source": [
    "# train_indexed1.show(1)"
   ]
  },
  {
   "cell_type": "code",
   "execution_count": 49,
   "metadata": {},
   "outputs": [],
   "source": [
    "# test_indexed1.show(1)"
   ]
  },
  {
   "cell_type": "code",
   "execution_count": 50,
   "metadata": {},
   "outputs": [],
   "source": [
    "train = train_indexed1.sampleBy(\"TARGET\", fractions={0: 0.8, 1: 0.8}, seed = 5757)\n",
    "valid = train_indexed1.join(train, on = \"ID\", how = \"leftanti\")"
   ]
  },
  {
   "cell_type": "code",
   "execution_count": 53,
   "metadata": {},
   "outputs": [],
   "source": [
    "from pyspark.ml.classification import GBTClassifier\n",
    "\n",
    "gbt = GBTClassifier(labelCol= \"TARGET\", maxDepth=4, minInstancesPerNode=3, maxBins=50)\n",
    "\n",
    "gbt_model = gbt.fit(train)\n",
    "predictions_valid = gbt_model.transform(valid)"
   ]
  },
  {
   "cell_type": "code",
   "execution_count": 54,
   "metadata": {},
   "outputs": [
    {
     "data": {
      "text/plain": [
       "0.8057425264140707"
      ]
     },
     "execution_count": 54,
     "metadata": {},
     "output_type": "execute_result"
    }
   ],
   "source": [
    "from pyspark.ml.evaluation import BinaryClassificationEvaluator\n",
    "\n",
    "evaluator = BinaryClassificationEvaluator(labelCol=\"TARGET\", metricName='areaUnderROC')\n",
    "score = evaluator.evaluate(predictions_valid)\n",
    "score"
   ]
  },
  {
   "cell_type": "code",
   "execution_count": 94,
   "metadata": {},
   "outputs": [],
   "source": [
    "test_predictions = gbt_model.transform(test_indexed1)"
   ]
  },
  {
   "cell_type": "code",
   "execution_count": 95,
   "metadata": {},
   "outputs": [
    {
     "name": "stdout",
     "output_type": "stream",
     "text": [
      "-RECORD 0---------------------------------------------------------------------------------------------------------------------------------------------------------------------------\n",
      " _c0                      | 372289                                                                                                                                                  \n",
      " ID                       | 519130                                                                                                                                                  \n",
      " CR_PROD_CNT_IL           | 0                                                                                                                                                       \n",
      " TURNOVER_DYNAMIC_IL_1M   | 0.0                                                                                                                                                     \n",
      " REST_DYNAMIC_FDEP_1M     | 0.0                                                                                                                                                     \n",
      " REST_DYNAMIC_SAVE_3M     | 1.0                                                                                                                                                     \n",
      " CR_PROD_CNT_VCU          | 0                                                                                                                                                       \n",
      " REST_AVG_CUR             | 13916.8191                                                                                                                                              \n",
      " CR_PROD_CNT_TOVR         | 0                                                                                                                                                       \n",
      " CR_PROD_CNT_PIL          | 0                                                                                                                                                       \n",
      " TURNOVER_CC              | 0.0                                                                                                                                                     \n",
      " TURNOVER_PAYM            | 0.0                                                                                                                                                     \n",
      " AGE                      | 240                                                                                                                                                     \n",
      " CR_PROD_CNT_CC           | 0                                                                                                                                                       \n",
      " REST_DYNAMIC_FDEP_3M     | 0.0                                                                                                                                                     \n",
      " REST_DYNAMIC_IL_1M       | 0.0                                                                                                                                                     \n",
      " CR_PROD_CNT_CCFP         | 0                                                                                                                                                       \n",
      " REST_DYNAMIC_CUR_1M      | 0.479789155507046                                                                                                                                       \n",
      " REST_AVG_PAYM            | 0.0                                                                                                                                                     \n",
      " LDEAL_GRACE_DAYS_PCT_MED | 0.0                                                                                                                                                     \n",
      " REST_DYNAMIC_CUR_3M      | 1.0                                                                                                                                                     \n",
      " TURNOVER_DYNAMIC_CUR_1M  | 0.6401123866394111                                                                                                                                      \n",
      " REST_DYNAMIC_PAYM_3M     | 0.0                                                                                                                                                     \n",
      " REST_DYNAMIC_IL_3M       | 0.0                                                                                                                                                     \n",
      " TURNOVER_DYNAMIC_IL_3M   | 0.0                                                                                                                                                     \n",
      " REST_DYNAMIC_PAYM_1M     | 0.0                                                                                                                                                     \n",
      " TURNOVER_DYNAMIC_CUR_3M  | 1.0                                                                                                                                                     \n",
      " PACK                     | K01                                                                                                                                                     \n",
      " CLNT_SETUP_TENOR         | 0.5713989073078449                                                                                                                                      \n",
      " TURNOVER_DYNAMIC_PAYM_3M | 0.0                                                                                                                                                     \n",
      " TURNOVER_DYNAMIC_PAYM_1M | 0.0                                                                                                                                                     \n",
      " REST_DYNAMIC_CC_1M       | 0.0                                                                                                                                                     \n",
      " TURNOVER_DYNAMIC_CC_1M   | 0.0                                                                                                                                                     \n",
      " REST_DYNAMIC_CC_3M       | 0.0                                                                                                                                                     \n",
      " TURNOVER_DYNAMIC_CC_3M   | 0.0                                                                                                                                                     \n",
      " pack_encoded             | 1.0                                                                                                                                                     \n",
      " features                 | (33,[3,5,10,15,18,19,24,25,32],[1.0,13916.8191,240.0,0.479789155507046,1.0,0.6401123866394111,1.0,0.5713989073078449,1.0])                              \n",
      " rawPrediction            | [0.9870534393412569,-0.9870534393412569]                                                                                                                \n",
      " probability              | [0.8780515487408743,0.12194845125912568]                                                                                                                \n",
      " prediction               | 0.0                                                                                                                                                     \n",
      "-RECORD 1---------------------------------------------------------------------------------------------------------------------------------------------------------------------------\n",
      " _c0                      | 87204                                                                                                                                                   \n",
      " ID                       | 234045                                                                                                                                                  \n",
      " CR_PROD_CNT_IL           | 0                                                                                                                                                       \n",
      " TURNOVER_DYNAMIC_IL_1M   | 0.0                                                                                                                                                     \n",
      " REST_DYNAMIC_FDEP_1M     | 0.0                                                                                                                                                     \n",
      " REST_DYNAMIC_SAVE_3M     | 0.0                                                                                                                                                     \n",
      " CR_PROD_CNT_VCU          | 0                                                                                                                                                       \n",
      " REST_AVG_CUR             | 86440.6242333333                                                                                                                                        \n",
      " CR_PROD_CNT_TOVR         | 0                                                                                                                                                       \n",
      " CR_PROD_CNT_PIL          | 0                                                                                                                                                       \n",
      " TURNOVER_CC              | 0.0                                                                                                                                                     \n",
      " TURNOVER_PAYM            | 0.0                                                                                                                                                     \n",
      " AGE                      | 348                                                                                                                                                     \n",
      " CR_PROD_CNT_CC           | 0                                                                                                                                                       \n",
      " REST_DYNAMIC_FDEP_3M     | 0.0                                                                                                                                                     \n",
      " REST_DYNAMIC_IL_1M       | 0.0                                                                                                                                                     \n",
      " CR_PROD_CNT_CCFP         | 0                                                                                                                                                       \n",
      " REST_DYNAMIC_CUR_1M      | 0.0755606007930854                                                                                                                                      \n",
      " REST_AVG_PAYM            | 0.0                                                                                                                                                     \n",
      " LDEAL_GRACE_DAYS_PCT_MED | 0.0                                                                                                                                                     \n",
      " REST_DYNAMIC_CUR_3M      | 0.330424066847332                                                                                                                                       \n",
      " TURNOVER_DYNAMIC_CUR_1M  | 0.147249149470836                                                                                                                                       \n",
      " REST_DYNAMIC_PAYM_3M     | 0.0                                                                                                                                                     \n",
      " REST_DYNAMIC_IL_3M       | 0.0                                                                                                                                                     \n",
      " TURNOVER_DYNAMIC_IL_3M   | 0.0                                                                                                                                                     \n",
      " REST_DYNAMIC_PAYM_1M     | 0.0                                                                                                                                                     \n",
      " TURNOVER_DYNAMIC_CUR_3M  | 0.556152068739451                                                                                                                                       \n",
      " PACK                     | 102                                                                                                                                                     \n",
      " CLNT_SETUP_TENOR         | 3.2811949298088394                                                                                                                                      \n",
      " TURNOVER_DYNAMIC_PAYM_3M | 0.0                                                                                                                                                     \n",
      " TURNOVER_DYNAMIC_PAYM_1M | 0.0                                                                                                                                                     \n",
      " REST_DYNAMIC_CC_1M       | 0.0                                                                                                                                                     \n",
      " TURNOVER_DYNAMIC_CC_1M   | 0.0                                                                                                                                                     \n",
      " REST_DYNAMIC_CC_3M       | 0.0                                                                                                                                                     \n",
      " TURNOVER_DYNAMIC_CC_3M   | 0.0                                                                                                                                                     \n",
      " pack_encoded             | 0.0                                                                                                                                                     \n",
      " features                 | (33,[5,10,15,18,19,24,25],[86440.6242333333,348.0,0.0755606007930854,0.330424066847332,0.147249149470836,0.556152068739451,3.2811949298088394])         \n",
      " rawPrediction            | [1.4472779609965976,-1.4472779609965976]                                                                                                                \n",
      " probability              | [0.9475766596354888,0.05242334036451124]                                                                                                                \n",
      " prediction               | 0.0                                                                                                                                                     \n",
      "-RECORD 2---------------------------------------------------------------------------------------------------------------------------------------------------------------------------\n",
      " _c0                      | 254415                                                                                                                                                  \n",
      " ID                       | 401256                                                                                                                                                  \n",
      " CR_PROD_CNT_IL           | 0                                                                                                                                                       \n",
      " TURNOVER_DYNAMIC_IL_1M   | 0.0                                                                                                                                                     \n",
      " REST_DYNAMIC_FDEP_1M     | 0.0                                                                                                                                                     \n",
      " REST_DYNAMIC_SAVE_3M     | 0.0                                                                                                                                                     \n",
      " CR_PROD_CNT_VCU          | 0                                                                                                                                                       \n",
      " REST_AVG_CUR             | 84684.8290333333                                                                                                                                        \n",
      " CR_PROD_CNT_TOVR         | 0                                                                                                                                                       \n",
      " CR_PROD_CNT_PIL          | 0                                                                                                                                                       \n",
      " TURNOVER_CC              | 0.0                                                                                                                                                     \n",
      " TURNOVER_PAYM            | 0.0                                                                                                                                                     \n",
      " AGE                      | 516                                                                                                                                                     \n",
      " CR_PROD_CNT_CC           | 0                                                                                                                                                       \n",
      " REST_DYNAMIC_FDEP_3M     | 0.0                                                                                                                                                     \n",
      " REST_DYNAMIC_IL_1M       | 0.0                                                                                                                                                     \n",
      " CR_PROD_CNT_CCFP         | 0                                                                                                                                                       \n",
      " REST_DYNAMIC_CUR_1M      | 0.4765644843830039                                                                                                                                      \n",
      " REST_AVG_PAYM            | 0.0                                                                                                                                                     \n",
      " LDEAL_GRACE_DAYS_PCT_MED | 0.0                                                                                                                                                     \n",
      " REST_DYNAMIC_CUR_3M      | 0.758665634290228                                                                                                                                       \n",
      " TURNOVER_DYNAMIC_CUR_1M  | 0.10152649175721999                                                                                                                                     \n",
      " REST_DYNAMIC_PAYM_3M     | 0.0                                                                                                                                                     \n",
      " REST_DYNAMIC_IL_3M       | 0.0                                                                                                                                                     \n",
      " TURNOVER_DYNAMIC_IL_3M   | 0.0                                                                                                                                                     \n",
      " REST_DYNAMIC_PAYM_1M     | 0.0                                                                                                                                                     \n",
      " TURNOVER_DYNAMIC_CUR_3M  | 0.7416685813151559                                                                                                                                      \n",
      " PACK                     | 103                                                                                                                                                     \n",
      " CLNT_SETUP_TENOR         | 3.43441298909797                                                                                                                                        \n",
      " TURNOVER_DYNAMIC_PAYM_3M | 0.0                                                                                                                                                     \n",
      " TURNOVER_DYNAMIC_PAYM_1M | 0.0                                                                                                                                                     \n",
      " REST_DYNAMIC_CC_1M       | 0.0                                                                                                                                                     \n",
      " TURNOVER_DYNAMIC_CC_1M   | 0.0                                                                                                                                                     \n",
      " REST_DYNAMIC_CC_3M       | 0.0                                                                                                                                                     \n",
      " TURNOVER_DYNAMIC_CC_3M   | 0.0                                                                                                                                                     \n",
      " pack_encoded             | 5.0                                                                                                                                                     \n",
      " features                 | (33,[5,10,15,18,19,24,25,32],[84684.8290333333,516.0,0.4765644843830039,0.758665634290228,0.10152649175721999,0.7416685813151559,3.43441298909797,5.0]) \n",
      " rawPrediction            | [1.4564501843528601,-1.4564501843528601]                                                                                                                \n",
      " probability              | [0.9484804763051935,0.0515195236948065]                                                                                                                 \n",
      " prediction               | 0.0                                                                                                                                                     \n",
      "only showing top 3 rows\n",
      "\n"
     ]
    }
   ],
   "source": [
    "test_predictions.show(3, vertical = True, truncate = False)"
   ]
  },
  {
   "cell_type": "code",
   "execution_count": 96,
   "metadata": {},
   "outputs": [
    {
     "data": {
      "text/html": [
       "<div>\n",
       "<style scoped>\n",
       "    .dataframe tbody tr th:only-of-type {\n",
       "        vertical-align: middle;\n",
       "    }\n",
       "\n",
       "    .dataframe tbody tr th {\n",
       "        vertical-align: top;\n",
       "    }\n",
       "\n",
       "    .dataframe thead th {\n",
       "        text-align: right;\n",
       "    }\n",
       "</style>\n",
       "<table border=\"1\" class=\"dataframe\">\n",
       "  <thead>\n",
       "    <tr style=\"text-align: right;\">\n",
       "      <th></th>\n",
       "      <th>id</th>\n",
       "      <th>target</th>\n",
       "    </tr>\n",
       "  </thead>\n",
       "  <tbody>\n",
       "    <tr>\n",
       "      <th>0</th>\n",
       "      <td>519130</td>\n",
       "      <td>[0.8780515487408743, 0.12194845125912568]</td>\n",
       "    </tr>\n",
       "    <tr>\n",
       "      <th>1</th>\n",
       "      <td>234045</td>\n",
       "      <td>[0.9475766596354888, 0.05242334036451124]</td>\n",
       "    </tr>\n",
       "    <tr>\n",
       "      <th>2</th>\n",
       "      <td>401256</td>\n",
       "      <td>[0.9484804763051935, 0.0515195236948065]</td>\n",
       "    </tr>\n",
       "    <tr>\n",
       "      <th>3</th>\n",
       "      <td>551070</td>\n",
       "      <td>[0.9341360298381903, 0.06586397016180967]</td>\n",
       "    </tr>\n",
       "    <tr>\n",
       "      <th>4</th>\n",
       "      <td>367285</td>\n",
       "      <td>[0.9411650902609693, 0.058834909739030716]</td>\n",
       "    </tr>\n",
       "  </tbody>\n",
       "</table>\n",
       "</div>"
      ],
      "text/plain": [
       "       id                                      target\n",
       "0  519130   [0.8780515487408743, 0.12194845125912568]\n",
       "1  234045   [0.9475766596354888, 0.05242334036451124]\n",
       "2  401256    [0.9484804763051935, 0.0515195236948065]\n",
       "3  551070   [0.9341360298381903, 0.06586397016180967]\n",
       "4  367285  [0.9411650902609693, 0.058834909739030716]"
      ]
     },
     "execution_count": 96,
     "metadata": {},
     "output_type": "execute_result"
    }
   ],
   "source": [
    "predictions_pd = test_predictions.select(func.col(\"ID\").alias(\"id\"), \n",
    "                                         func.col(\"probability\").alias(\"target\")).toPandas()\n",
    "predictions_pd.head(5)\n"
   ]
  },
  {
   "cell_type": "code",
   "execution_count": 97,
   "metadata": {},
   "outputs": [
    {
     "data": {
      "text/html": [
       "<div>\n",
       "<style scoped>\n",
       "    .dataframe tbody tr th:only-of-type {\n",
       "        vertical-align: middle;\n",
       "    }\n",
       "\n",
       "    .dataframe tbody tr th {\n",
       "        vertical-align: top;\n",
       "    }\n",
       "\n",
       "    .dataframe thead th {\n",
       "        text-align: right;\n",
       "    }\n",
       "</style>\n",
       "<table border=\"1\" class=\"dataframe\">\n",
       "  <thead>\n",
       "    <tr style=\"text-align: right;\">\n",
       "      <th></th>\n",
       "      <th>id</th>\n",
       "      <th>target</th>\n",
       "    </tr>\n",
       "  </thead>\n",
       "  <tbody>\n",
       "    <tr>\n",
       "      <th>0</th>\n",
       "      <td>519130</td>\n",
       "      <td>0.121948</td>\n",
       "    </tr>\n",
       "    <tr>\n",
       "      <th>1</th>\n",
       "      <td>234045</td>\n",
       "      <td>0.052423</td>\n",
       "    </tr>\n",
       "    <tr>\n",
       "      <th>2</th>\n",
       "      <td>401256</td>\n",
       "      <td>0.051520</td>\n",
       "    </tr>\n",
       "    <tr>\n",
       "      <th>3</th>\n",
       "      <td>551070</td>\n",
       "      <td>0.065864</td>\n",
       "    </tr>\n",
       "    <tr>\n",
       "      <th>4</th>\n",
       "      <td>367285</td>\n",
       "      <td>0.058835</td>\n",
       "    </tr>\n",
       "  </tbody>\n",
       "</table>\n",
       "</div>"
      ],
      "text/plain": [
       "       id    target\n",
       "0  519130  0.121948\n",
       "1  234045  0.052423\n",
       "2  401256  0.051520\n",
       "3  551070  0.065864\n",
       "4  367285  0.058835"
      ]
     },
     "execution_count": 97,
     "metadata": {},
     "output_type": "execute_result"
    }
   ],
   "source": [
    "# predictions_pd = predictions_pd.sort_values(by=['id'])\n",
    "predictions_pd['target'] = predictions_pd['target'].apply(lambda x: x[1])\n",
    "predictions_pd.head(5)"
   ]
  },
  {
   "cell_type": "code",
   "execution_count": 98,
   "metadata": {},
   "outputs": [],
   "source": [
    "predictions_pd.to_csv('lab05.csv', index = False, sep ='\\t')\n"
   ]
  },
  {
   "cell_type": "code",
   "execution_count": 93,
   "metadata": {},
   "outputs": [],
   "source": [
    "# predictions_pd = test_predictions.select(\"user_id\", \"item_id\", func.col(\"probability\").alias(\"purchase\")).toPandas()\n",
    "# predictions_pd = predictions_pd.sort_values(by=['user_id', 'item_id'])\n",
    "# predictions_pd['purchase'] = predictions_pd['purchase'].apply(lambda x: x[1])\n",
    "# predictions_pd.to_csv('lab03.csv', index=False)"
   ]
  },
  {
   "cell_type": "code",
   "execution_count": 75,
   "metadata": {},
   "outputs": [
    {
     "data": {
      "text/plain": [
       "44399"
      ]
     },
     "execution_count": 75,
     "metadata": {},
     "output_type": "execute_result"
    }
   ],
   "source": [
    "len(predictions_pd.index) # 44399"
   ]
  },
  {
   "cell_type": "code",
   "execution_count": 81,
   "metadata": {},
   "outputs": [],
   "source": [
    "import pandas as pd\n",
    "a = pd.read_csv('lab05.csv', index_col=0)"
   ]
  },
  {
   "cell_type": "code",
   "execution_count": 80,
   "metadata": {},
   "outputs": [
    {
     "data": {
      "text/html": [
       "<div>\n",
       "<style scoped>\n",
       "    .dataframe tbody tr th:only-of-type {\n",
       "        vertical-align: middle;\n",
       "    }\n",
       "\n",
       "    .dataframe tbody tr th {\n",
       "        vertical-align: top;\n",
       "    }\n",
       "\n",
       "    .dataframe thead th {\n",
       "        text-align: right;\n",
       "    }\n",
       "</style>\n",
       "<table border=\"1\" class=\"dataframe\">\n",
       "  <thead>\n",
       "    <tr style=\"text-align: right;\">\n",
       "      <th></th>\n",
       "      <th>Unnamed: 0</th>\n",
       "      <th>target</th>\n",
       "    </tr>\n",
       "    <tr>\n",
       "      <th>id</th>\n",
       "      <th></th>\n",
       "      <th></th>\n",
       "    </tr>\n",
       "  </thead>\n",
       "  <tbody>\n",
       "    <tr>\n",
       "      <th>146871</th>\n",
       "      <td>1116</td>\n",
       "      <td>0.262532</td>\n",
       "    </tr>\n",
       "    <tr>\n",
       "      <th>146872</th>\n",
       "      <td>6151</td>\n",
       "      <td>0.291358</td>\n",
       "    </tr>\n",
       "    <tr>\n",
       "      <th>146894</th>\n",
       "      <td>29800</td>\n",
       "      <td>0.054042</td>\n",
       "    </tr>\n",
       "    <tr>\n",
       "      <th>146922</th>\n",
       "      <td>13839</td>\n",
       "      <td>0.317959</td>\n",
       "    </tr>\n",
       "    <tr>\n",
       "      <th>146926</th>\n",
       "      <td>7791</td>\n",
       "      <td>0.083821</td>\n",
       "    </tr>\n",
       "  </tbody>\n",
       "</table>\n",
       "</div>"
      ],
      "text/plain": [
       "        Unnamed: 0    target\n",
       "id                          \n",
       "146871        1116  0.262532\n",
       "146872        6151  0.291358\n",
       "146894       29800  0.054042\n",
       "146922       13839  0.317959\n",
       "146926        7791  0.083821"
      ]
     },
     "execution_count": 80,
     "metadata": {},
     "output_type": "execute_result"
    }
   ],
   "source": [
    "a.head()"
   ]
  },
  {
   "cell_type": "code",
   "execution_count": null,
   "metadata": {},
   "outputs": [],
   "source": []
  },
  {
   "cell_type": "code",
   "execution_count": null,
   "metadata": {},
   "outputs": [],
   "source": []
  },
  {
   "cell_type": "code",
   "execution_count": null,
   "metadata": {},
   "outputs": [],
   "source": []
  },
  {
   "cell_type": "code",
   "execution_count": null,
   "metadata": {},
   "outputs": [],
   "source": []
  },
  {
   "cell_type": "code",
   "execution_count": null,
   "metadata": {},
   "outputs": [],
   "source": []
  },
  {
   "cell_type": "code",
   "execution_count": null,
   "metadata": {},
   "outputs": [],
   "source": []
  },
  {
   "cell_type": "code",
   "execution_count": null,
   "metadata": {},
   "outputs": [],
   "source": []
  }
 ],
 "metadata": {
  "kernelspec": {
   "display_name": "Python 3",
   "language": "python",
   "name": "python3"
  },
  "language_info": {
   "codemirror_mode": {
    "name": "ipython",
    "version": 3
   },
   "file_extension": ".py",
   "mimetype": "text/x-python",
   "name": "python",
   "nbconvert_exporter": "python",
   "pygments_lexer": "ipython3",
   "version": "3.6.5"
  }
 },
 "nbformat": 4,
 "nbformat_minor": 2
}
