{
 "cells": [
  {
   "cell_type": "markdown",
   "metadata": {},
   "source": [
    "## Вариант 10"
   ]
  },
  {
   "cell_type": "code",
   "execution_count": 1,
   "metadata": {},
   "outputs": [],
   "source": [
    "import os\n",
    "import sys\n",
    "os.environ[\"PYSPARK_SUBMIT_ARGS\"]='--num-executors 5 --executor-memory 4g --driver-memory 3g pyspark-shell'\n",
    "os.environ[\"PYSPARK_PYTHON\"]='/opt/anaconda/envs/bd9/bin/python'\n",
    "os.environ[\"SPARK_HOME\"]='/usr/hdp/current/spark2-client'\n",
    "\n",
    "spark_home = os.environ.get('SPARK_HOME', None)\n",
    "if not spark_home:\n",
    "    raise ValueError('SPARK_HOME environment variable is not set')\n",
    "sys.path.insert(0, os.path.join(spark_home, 'python'))\n",
    "sys.path.insert(0, os.path.join(spark_home, 'python/lib/py4j-0.10.7-src.zip'))\n"
   ]
  },
  {
   "cell_type": "code",
   "execution_count": 2,
   "metadata": {},
   "outputs": [],
   "source": [
    "from pyspark import SparkConf\n",
    "from pyspark.sql import SparkSession\n",
    "\n",
    "conf = SparkConf()\n",
    "conf.set(\"spark.app.name\", \"Yury Perevezentsev app\") \n",
    "\n",
    "spark = SparkSession.builder.config(conf=conf).getOrCreate()"
   ]
  },
  {
   "cell_type": "code",
   "execution_count": 3,
   "metadata": {},
   "outputs": [
    {
     "data": {
      "text/html": [
       "\n",
       "            <div>\n",
       "                <p><b>SparkSession - in-memory</b></p>\n",
       "                \n",
       "        <div>\n",
       "            <p><b>SparkContext</b></p>\n",
       "\n",
       "            <p><a href=\"http://spark-master-5.newprolab.com:4041\">Spark UI</a></p>\n",
       "\n",
       "            <dl>\n",
       "              <dt>Version</dt>\n",
       "                <dd><code>v2.4.7</code></dd>\n",
       "              <dt>Master</dt>\n",
       "                <dd><code>yarn</code></dd>\n",
       "              <dt>AppName</dt>\n",
       "                <dd><code>Yury Perevezentsev app</code></dd>\n",
       "            </dl>\n",
       "        </div>\n",
       "        \n",
       "            </div>\n",
       "        "
      ],
      "text/plain": [
       "<pyspark.sql.session.SparkSession at 0x7f2da8c60438>"
      ]
     },
     "execution_count": 3,
     "metadata": {},
     "output_type": "execute_result"
    }
   ],
   "source": [
    "spark"
   ]
  },
  {
   "cell_type": "markdown",
   "metadata": {},
   "source": [
    "#### Грузим исходные данные"
   ]
  },
  {
   "cell_type": "code",
   "execution_count": 4,
   "metadata": {},
   "outputs": [
    {
     "name": "stdout",
     "output_type": "stream",
     "text": [
      "-rw-r--r--   3 hdfs hdfs   69519728 2022-01-06 18:46 /labs/slaba02/DO_record_per_line.json\r\n"
     ]
    }
   ],
   "source": [
    "!hdfs dfs -ls /labs/slaba02/DO_record_per_line.json"
   ]
  },
  {
   "cell_type": "code",
   "execution_count": 5,
   "metadata": {},
   "outputs": [],
   "source": [
    " #!hdfs dfs -cat /labs/slaba02/DO_record_per_line.json"
   ]
  },
  {
   "cell_type": "code",
   "execution_count": 6,
   "metadata": {},
   "outputs": [
    {
     "data": {
      "text/plain": [
       "[[23126, 'en', 'Compass - powerful SASS library that makes your life easier'],\n",
       " [21617, 'en', 'Preparing for the AP* Computer Science A Exam — Part 2'],\n",
       " [16627, 'es', 'Aprende Excel: Nivel Intermedio by Alfonso Rinsche'],\n",
       " [11556,\n",
       "  'es',\n",
       "  'Aprendizaje Colaborativo by UNID Universidad Interamericana para el Desarrollo'],\n",
       " [16704, 'ru', 'Программирование на Lazarus'],\n",
       " [13702, 'ru', 'Математическая экономика']]"
      ]
     },
     "execution_count": 6,
     "metadata": {},
     "output_type": "execute_result"
    }
   ],
   "source": [
    "# Это список списков курсов, к которым мы должны найти рекомендации\n",
    "given_courses = [[23126, u'en', u'Compass - powerful SASS library that makes your life easier'], \n",
    "                 [21617, u'en', u'Preparing for the AP* Computer Science A Exam \\u2014 Part 2'], \n",
    "                 [16627, u'es', u'Aprende Excel: Nivel Intermedio by Alfonso Rinsche'], \n",
    "                 [11556, u'es', u'Aprendizaje Colaborativo by UNID Universidad Interamericana para el Desarrollo'], \n",
    "                 [16704, u'ru', u'\\u041f\\u0440\\u043e\\u0433\\u0440\\u0430\\u043c\\u043c\\u0438\\u0440\\u043e\\u0432\\u0430\\u043d\\u0438\\u0435 \\u043d\\u0430 Lazarus'], \n",
    "                 [13702, u'ru', u'\\u041c\\u0430\\u0442\\u0435\\u043c\\u0430\\u0442\\u0438\\u0447\\u0435\\u0441\\u043a\\u0430\\u044f \\u044d\\u043a\\u043e\\u043d\\u043e\\u043c\\u0438\\u043a\\u0430']]\n",
    "\n",
    "given_courses\n"
   ]
  },
  {
   "cell_type": "code",
   "execution_count": 7,
   "metadata": {},
   "outputs": [
    {
     "name": "stdout",
     "output_type": "stream",
     "text": [
      "+--------------------+--------------------+---+----+--------------------+--------------+\n",
      "|                 cat|                desc| id|lang|                name|      provider|\n",
      "+--------------------+--------------------+---+----+--------------------+--------------+\n",
      "|3/business_manage...|This course intro...|  4|  en|Accounting Cycle:...|Canvas Network|\n",
      "|              11/law|This online cours...|  5|  en|American Counter ...|Canvas Network|\n",
      "|5/computer_scienc...|This course is ta...|  6|  fr|Arithmétique: en ...|Canvas Network|\n",
      "|  14/social_sciences|We live in a digi...|  7|  en|Becoming a Dynami...|Canvas Network|\n",
      "|2/biology_life_sc...|This self-paced c...|  8|  en|           Bioethics|Canvas Network|\n",
      "+--------------------+--------------------+---+----+--------------------+--------------+\n",
      "only showing top 5 rows\n",
      "\n"
     ]
    }
   ],
   "source": [
    "# Create DataFrame\n",
    "\n",
    "dataset = spark.read.json(\"/labs/slaba02/DO_record_per_line.json\")\n",
    "\n",
    "dataset.show(5)\n",
    "\n",
    "# desc - поле, которое мы будеи преобразовывать и на его основании делать рекомендацию"
   ]
  },
  {
   "cell_type": "code",
   "execution_count": 8,
   "metadata": {},
   "outputs": [
    {
     "data": {
      "text/plain": [
       "5"
      ]
     },
     "execution_count": 8,
     "metadata": {},
     "output_type": "execute_result"
    }
   ],
   "source": [
    "dataset.rdd.getNumPartitions()"
   ]
  },
  {
   "cell_type": "code",
   "execution_count": 9,
   "metadata": {},
   "outputs": [
    {
     "name": "stdout",
     "output_type": "stream",
     "text": [
      "-RECORD 0-----------------------------------------------------------------------------------------------------------------------------------------------------------------------------------------------------------------------------------------------------------------------------------------------------------------------------------------------------------------------------------------------------------------------------------------------------------------------------------------------------------------------------------------------------------------------------------------------------------------------------------------------------------------------------------------------------------------------------------------------------------------------------------------------------------------------------------------------------------------------------------------------------------------------------------------------------------------------------------------------------------------------------------------------------------------------------------------------------------------------------------------------------------------------------------------\n",
      " cat      | 3/business_management|6/economics_finance                                                                                                                                                                                                                                                                                                                                                                                                                                                                                                                                                                                                                                                                                                                                                                                                                                                                                                                                                                                                                                                                                                                                             \n",
      " desc     | This course introduces the basic financial statements used by most businesses, as well as the essential tools used to prepare them. This course will serve as a resource to help business students succeed in their upcoming university-level accounting classes, and as a refresher for upper division accounting students who are struggling to recall elementary concepts essential to more advanced accounting topics. Business owners will also benefit from this class by gaining essential skills necessary to organize and manage information pertinent to operating their business. At the conclusion of the class, students will understand the balance sheet, income statement, and cash flow statement. They will be able to differentiate between cash basis and accrual basis techniques, and know when each is appropriate. They’ll also understand the accounting equation, how to journalize and post transactions, how to adjust and close accounts, and how to prepare key financial reports. All material for this class is written and delivered by the professor, and can be previewed here. Students must have access to a spreadsheet program to participate. \n",
      " id       | 4                                                                                                                                                                                                                                                                                                                                                                                                                                                                                                                                                                                                                                                                                                                                                                                                                                                                                                                                                                                                                                                                                                                                                                                     \n",
      " lang     | en                                                                                                                                                                                                                                                                                                                                                                                                                                                                                                                                                                                                                                                                                                                                                                                                                                                                                                                                                                                                                                                                                                                                                                                    \n",
      " name     | Accounting Cycle: The Foundation of Business Measurement and Reporting                                                                                                                                                                                                                                                                                                                                                                                                                                                                                                                                                                                                                                                                                                                                                                                                                                                                                                                                                                                                                                                                                                                \n",
      " provider | Canvas Network                                                                                                                                                                                                                                                                                                                                                                                                                                                                                                                                                                                                                                                                                                                                                                                                                                                                                                                                                                                                                                                                                                                                                                        \n",
      "only showing top 1 row\n",
      "\n"
     ]
    }
   ],
   "source": [
    "dataset.show(1, False, True)"
   ]
  },
  {
   "cell_type": "markdown",
   "metadata": {},
   "source": [
    "#### План решения Лабы\n",
    "\n",
    "Пайплайн базового алгоритма:\n",
    "1. Препроцессинг столбца desc (привести слова к нижнему регистру, удалить ненужные символы, удалить стоп-слова и т.д.) + токенизация текста (разбиваем обработанные предложения из desc в отдельные слова)\n",
    "2. Получаем TF на основе HashingTF (TF - превращаем массивы слов в вектор фичей)\n",
    "3. Получаем IDF. TF-IDF считается для описания курсов desc (знаки препинания и прочие символы не должны учитываться)\n",
    "4. Сформировать датасет, где будут кандидаты в рекомендуемые курсы, и курсы, для которых нужно осуществить рекомндацию (используем join и broadcast, так как иодна из табличек маленькая)\n",
    "5. На соновании двух векторов (векторов для курсов, которые являются кандидатами в рекомендации, и курсов, для которых составляем рекомендацию) посчитать косинус близости при помощи udf-функции cos_sim (косинус близости между tf-idf векторами для разных курсов)\n",
    "6. На сонове результатов udf-функции сформировать рекомендации для каждого курса\n",
    "7. Для каждого курса формирует тот-10 наиболее похожих на него курсов. \n",
    "    - Рекомендуемые курсы должны быть того же языка, что и курс, для которого строится рекомендация\n",
    "    - Курсы сортируются: 1) по убыванию метрики, 2) по названию (лексикографически по возрастанию), 3) по возрастанию id\n",
    "    \n",
    "    "
   ]
  },
  {
   "cell_type": "code",
   "execution_count": 10,
   "metadata": {},
   "outputs": [],
   "source": [
    "# Грузим библиотеки\n",
    "from pyspark.ml.feature import HashingTF, IDF, Tokenizer, Normalizer, StopWordsRemover\n",
    "from pyspark.ml import Pipeline\n",
    "from pyspark.sql.functions import udf, col, isnan, isnull, broadcast, desc, lower\n",
    "from pyspark.sql.types import FloatType, ArrayType, StringType, DoubleType\n",
    "import json \n",
    "import re\n"
   ]
  },
  {
   "cell_type": "markdown",
   "metadata": {},
   "source": [
    "#### 1. Препроцессинг столбца desc"
   ]
  },
  {
   "cell_type": "code",
   "execution_count": 11,
   "metadata": {},
   "outputs": [
    {
     "name": "stdout",
     "output_type": "stream",
     "text": [
      "+---+----+--------------------+--------------------+\n",
      "| id|lang|                name|                desc|\n",
      "+---+----+--------------------+--------------------+\n",
      "|  4|  en|Accounting Cycle:...|this course intro...|\n",
      "|  5|  en|American Counter ...|this online cours...|\n",
      "+---+----+--------------------+--------------------+\n",
      "only showing top 2 rows\n",
      "\n"
     ]
    }
   ],
   "source": [
    "dataset = dataset[[\"id\", \"lang\", \"name\", \"desc\"]]\n",
    "dataset = dataset.withColumn('desc', lower(col('desc'))) # переврдим в нижный регистр\n",
    "dataset.show(2)"
   ]
  },
  {
   "cell_type": "code",
   "execution_count": 12,
   "metadata": {},
   "outputs": [
    {
     "name": "stdout",
     "output_type": "stream",
     "text": [
      "-RECORD 0--------------------------------------------------------------------------------------------------------------------------------------------------------------------------------------------------------------------------------------------------------------------------------------------------------------------------------------------------------------------------------------------------------------------------------------------------------------------------------------------------------------------------------------------------------------------------------------------------------------------------------------------------------------------------------------------------------------------------------------------------------------------------------------------------------------------------------------------------------------------------------------------------------------------------------------------------------------------------------------------------------------------------------------------------------------------------------------------------------------------------------------------------------------------------------------------------------------------------------------------------------------------------------------------------------------------------------------------------\n",
      " id           | 4                                                                                                                                                                                                                                                                                                                                                                                                                                                                                                                                                                                                                                                                                                                                                                                                                                                                                                                                                                                                                                                                                                                                                                                                                                                                                                                                          \n",
      " lang         | en                                                                                                                                                                                                                                                                                                                                                                                                                                                                                                                                                                                                                                                                                                                                                                                                                                                                                                                                                                                                                                                                                                                                                                                                                                                                                                                                         \n",
      " name         | Accounting Cycle: The Foundation of Business Measurement and Reporting                                                                                                                                                                                                                                                                                                                                                                                                                                                                                                                                                                                                                                                                                                                                                                                                                                                                                                                                                                                                                                                                                                                                                                                                                                                                     \n",
      " desc         | this course introduces the basic financial statements used by most businesses, as well as the essential tools used to prepare them. this course will serve as a resource to help business students succeed in their upcoming university-level accounting classes, and as a refresher for upper division accounting students who are struggling to recall elementary concepts essential to more advanced accounting topics. business owners will also benefit from this class by gaining essential skills necessary to organize and manage information pertinent to operating their business. at the conclusion of the class, students will understand the balance sheet, income statement, and cash flow statement. they will be able to differentiate between cash basis and accrual basis techniques, and know when each is appropriate. they’ll also understand the accounting equation, how to journalize and post transactions, how to adjust and close accounts, and how to prepare key financial reports. all material for this class is written and delivered by the professor, and can be previewed here. students must have access to a spreadsheet program to participate.                                                                                                                                                      \n",
      " desc_cleared | [this, course, introduces, the, basic, financial, statements, used, by, most, businesses, as, well, as, the, essential, tools, used, to, prepare, them, this, course, will, serve, as, resource, to, help, business, students, succeed, in, their, upcoming, university, level, accounting, classes, and, as, refresher, for, upper, division, accounting, students, who, are, struggling, to, recall, elementary, concepts, essential, to, more, advanced, accounting, topics, business, owners, will, also, benefit, from, this, class, by, gaining, essential, skills, necessary, to, organize, and, manage, information, pertinent, to, operating, their, business, at, the, conclusion, of, the, class, students, will, understand, the, balance, sheet, income, statement, and, cash, flow, statement, they, will, be, able, to, differentiate, between, cash, basis, and, accrual, basis, techniques, and, know, when, each, is, appropriate, they, ll, also, understand, the, accounting, equation, how, to, journalize, and, post, transactions, how, to, adjust, and, close, accounts, and, how, to, prepare, key, financial, reports, all, material, for, this, class, is, written, and, delivered, by, the, professor, and, can, be, previewed, here, students, must, have, access, to, spreadsheet, program, to, participate] \n",
      "only showing top 1 row\n",
      "\n"
     ]
    }
   ],
   "source": [
    "# Udf-функция для очистки и препроцессинга текста\n",
    "# Убираем ненужные символы и знаки пунктуации из поля desc, которое будем использовать для потсроения рекомендаций\n",
    "import pyspark.sql.functions as f\n",
    "from pyspark.sql.functions import pandas_udf\n",
    "import re\n",
    " \n",
    "def clear_string(series):\n",
    "    regex = re.compile(u'[\\w\\d]{2,}', re.U) # убираем ненужные символы и пунктуацию\n",
    "    words = series.str.findall(regex) \n",
    "    return words\n",
    "\n",
    "tokenizer_udf = pandas_udf(clear_string, ArrayType(StringType()))\n",
    "\n",
    "dataset = dataset.withColumn(\"desc_cleared\", tokenizer_udf(\"desc\")).cache()\n",
    "\n",
    "dataset.show(1, vertical = True, truncate = False)"
   ]
  },
  {
   "cell_type": "code",
   "execution_count": 13,
   "metadata": {},
   "outputs": [
    {
     "name": "stdout",
     "output_type": "stream",
     "text": [
      "-RECORD 0----------------------------------------------------------------------------------------------------------------------------------------------------------------------------------------------------------------------------------------------------------------------------------------------------------------------------------------------------------------------------------------------------------------------------------------------------------------------------------------------------------------------------------------------------------------------------------------------------------------------------------------------------------------------------------------------------------------------------------------------------------------------------------------------------------------------------------------------------------------------------------------------------------------------------------------------------------------------\n",
      " id            | 4                                                                                                                                                                                                                                                                                                                                                                                                                                                                                                                                                                                                                                                                                                                                                                                                                                                                                                                                                             \n",
      " lang          | en                                                                                                                                                                                                                                                                                                                                                                                                                                                                                                                                                                                                                                                                                                                                                                                                                                                                                                                                                            \n",
      " name          | Accounting Cycle: The Foundation of Business Measurement and Reporting                                                                                                                                                                                                                                                                                                                                                                                                                                                                                                                                                                                                                                                                                                                                                                                                                                                                                        \n",
      " desc_cleared2 | [course, introduces, basic, financial, statements, used, businesses, well, essential, tools, used, prepare, course, serve, resource, help, business, students, succeed, upcoming, university, level, accounting, classes, refresher, upper, division, accounting, students, struggling, recall, elementary, concepts, essential, advanced, accounting, topics, business, owners, also, benefit, class, gaining, essential, skills, necessary, organize, manage, information, pertinent, operating, business, conclusion, class, students, understand, balance, sheet, income, statement, cash, flow, statement, able, differentiate, cash, basis, accrual, basis, techniques, know, appropriate, ll, also, understand, accounting, equation, journalize, post, transactions, adjust, close, accounts, prepare, key, financial, reports, material, class, written, delivered, professor, previewed, students, must, access, spreadsheet, program, participate] \n",
      "only showing top 1 row\n",
      "\n"
     ]
    }
   ],
   "source": [
    "# stopWordsRemover\n",
    "stopWordsRemover = StopWordsRemover(inputCol=\"desc_cleared\", outputCol=\"desc_cleared2\")\n",
    "dataset_SW = stopWordsRemover.transform(dataset)\n",
    "dataset_SW = dataset_SW.drop(\"desc\", \"desc_cleared\")\n",
    "dataset_SW.show(1, vertical = True, truncate = False)"
   ]
  },
  {
   "cell_type": "markdown",
   "metadata": {},
   "source": [
    "#### 2. Hashing TF"
   ]
  },
  {
   "cell_type": "code",
   "execution_count": 14,
   "metadata": {},
   "outputs": [
    {
     "name": "stdout",
     "output_type": "stream",
     "text": [
      "-RECORD 0-------------------------------------------------------------------------------------------------------------------------------------------------------------------------------------------------------------------------------------------------------------------------------------------------------------------------------------------------------------------------------------------------------------------------------------------------------------------------------------------------------------------------------------------------------------------------------------------------------------------------------------------------------------------------------------------------------------------------\n",
      " id       | 4                                                                                                                                                                                                                                                                                                                                                                                                                                                                                                                                                                                                                                                                                                                     \n",
      " lang     | en                                                                                                                                                                                                                                                                                                                                                                                                                                                                                                                                                                                                                                                                                                                    \n",
      " name     | Accounting Cycle: The Foundation of Business Measurement and Reporting                                                                                                                                                                                                                                                                                                                                                                                                                                                                                                                                                                                                                                                \n",
      " features | (10000,[36,63,138,157,177,362,534,603,646,1023,1072,1355,1390,1446,1501,1523,1670,1697,2015,2092,2460,2523,2577,2757,3231,3251,3496,3792,3834,3849,3903,4224,4364,4436,4742,4978,5189,5374,5412,6158,6236,6395,6470,6511,6541,6642,6697,6863,7008,7270,7282,7290,7298,7735,7772,7779,7895,7936,7956,7973,8041,8140,8164,8234,8370,8534,8579,8624,8644,9328,9347,9540,9605,9695,9809,9953,9970],[1.0,1.0,1.0,1.0,1.0,1.0,1.0,1.0,1.0,1.0,1.0,1.0,1.0,1.0,1.0,4.0,1.0,1.0,3.0,4.0,2.0,1.0,1.0,1.0,1.0,1.0,1.0,2.0,1.0,2.0,1.0,1.0,1.0,1.0,1.0,1.0,1.0,3.0,1.0,1.0,1.0,1.0,1.0,1.0,1.0,1.0,1.0,2.0,2.0,1.0,2.0,1.0,1.0,1.0,1.0,1.0,1.0,1.0,2.0,1.0,1.0,1.0,2.0,2.0,1.0,3.0,1.0,1.0,1.0,1.0,1.0,1.0,2.0,1.0,1.0,1.0,1.0]) \n",
      "only showing top 1 row\n",
      "\n"
     ]
    }
   ],
   "source": [
    "ht = HashingTF(inputCol = \"desc_cleared2\", outputCol = \"features\", numFeatures = 10000)\n",
    "tf = ht.transform(dataset_SW)\n",
    "tf = tf.drop(\"desc_cleared\", \"desc_cleared2\", \"desc\")\n",
    "tf.show(1, vertical = True, truncate = False)"
   ]
  },
  {
   "cell_type": "markdown",
   "metadata": {},
   "source": [
    "#### 3. TF-IDF + Normalizer"
   ]
  },
  {
   "cell_type": "code",
   "execution_count": 15,
   "metadata": {},
   "outputs": [
    {
     "name": "stdout",
     "output_type": "stream",
     "text": [
      "-RECORD 0------------------------------------------------------------------------------------------------------------------------------------------------------------------------------------------------------------------------------------------------------------------------------------------------------------------------------------------------------------------------------------------------------------------------------------------------------------------------------------------------------------------------------------------------------------------------------------------------------------------------------------------------------------------------------------------------------------------------------------------------------------------------------------------------------------------------------------------------------------------------------------------------------------------------------------------------------------------------------------------------------------------------------------------------------------------------------------------------------------------------------------------------------------------------------------------------------------------------------------------------------------------------------------------------------------------------------------------------------------------------------------------------------------------------------------------------------------------------------------------------------------------------------------------------------------------------------------------------------------------------------------------------------------------------------------------------------------------------------------------------------------------------------------------------------------------------------------------------------------------------------\n",
      " id             | 4                                                                                                                                                                                                                                                                                                                                                                                                                                                                                                                                                                                                                                                                                                                                                                                                                                                                                                                                                                                                                                                                                                                                                                                                                                                                                                                                                                                                                                                                                                                                                                                                                                                                                                                                                                                                                                                                    \n",
      " lang           | en                                                                                                                                                                                                                                                                                                                                                                                                                                                                                                                                                                                                                                                                                                                                                                                                                                                                                                                                                                                                                                                                                                                                                                                                                                                                                                                                                                                                                                                                                                                                                                                                                                                                                                                                                                                                                                                                   \n",
      " name           | Accounting Cycle: The Foundation of Business Measurement and Reporting                                                                                                                                                                                                                                                                                                                                                                                                                                                                                                                                                                                                                                                                                                                                                                                                                                                                                                                                                                                                                                                                                                                                                                                                                                                                                                                                                                                                                                                                                                                                                                                                                                                                                                                                                                                               \n",
      " features_tfidf | (10000,[36,63,138,157,177,362,534,603,646,1023,1072,1355,1390,1446,1501,1523,1670,1697,2015,2092,2460,2523,2577,2757,3231,3251,3496,3792,3834,3849,3903,4224,4364,4436,4742,4978,5189,5374,5412,6158,6236,6395,6470,6511,6541,6642,6697,6863,7008,7270,7282,7290,7298,7735,7772,7779,7895,7936,7956,7973,8041,8140,8164,8234,8370,8534,8579,8624,8644,9328,9347,9540,9605,9695,9809,9953,9970],[3.846849784852703,3.428708838792942,3.9613105583171087,1.5551389102630284,3.3457216121030378,3.4475043064129802,1.769490275988271,5.888735892698319,3.5734117739268436,2.843603140644081,1.5526189593285151,2.334120700424558,4.226851504891676,2.360868208791586,2.3650183750955107,5.642101336686062,3.3257608695405,1.548767325997879,8.86136553064035,15.354258933274386,0.8192946316434655,4.541662244731709,3.462119518783951,4.874806691260248,2.3377931246768218,3.671764552427265,1.833389846094978,2.84771968391389,1.9066607479457123,4.219023894766041,3.083822716448723,2.1845889664535942,4.548351232882506,3.7426546734722868,3.840216261357069,2.033147581158142,1.3876449922120053,5.089096017328055,3.0005031730509035,3.3995648441238613,2.091807233002628,2.7832297796197216,3.741156545851265,1.8219030840531285,3.166260324778243,4.879468704366059,2.8701889413781565,6.351141181858677,6.250000693990845,4.059236095487417,6.0811044183664755,4.847282017870158,3.7336993897431827,3.741156545851265,3.9015642852615797,1.4846780951459553,3.7471625699114766,3.4232473287674203,6.888323369832581,3.236035786679274,3.683000625694191,4.829344317183491,3.2830470489236983,6.392379756264148,5.370247396186759,6.414981745912562,2.165826689998071,3.1823965559997385,2.343327173111463,3.67877228958467,1.5055880918943407,3.6134429419922807,4.069553376449869,3.8352698374217438,3.39531855324241,5.058058913547155,1.8001772675432621]) \n",
      "only showing top 1 row\n",
      "\n"
     ]
    }
   ],
   "source": [
    "# IDF\n",
    "idf = IDF(inputCol= \"features\", outputCol= \"features_tfidf\")\n",
    "idf_model = idf.fit(tf)\n",
    "tfidf = idf_model.transform(tf)\n",
    "\n",
    "tfidf = tfidf.drop(\"features\")\n",
    "tfidf.show(1, vertical = True, truncate = False)"
   ]
  },
  {
   "cell_type": "code",
   "execution_count": 16,
   "metadata": {},
   "outputs": [
    {
     "name": "stdout",
     "output_type": "stream",
     "text": [
      "-RECORD 0---------------------------------------------------------------------------------------------------------------------------------------------------------------------------------------------------------------------------------------------------------------------------------------------------------------------------------------------------------------------------------------------------------------------------------------------------------------------------------------------------------------------------------------------------------------------------------------------------------------------------------------------------------------------------------------------------------------------------------------------------------------------------------------------------------------------------------------------------------------------------------------------------------------------------------------------------------------------------------------------------------------------------------------------------------------------------------------------------------------------------------------------------------------------------------------------------------------------------------------------------------------------------------------------------------------------------------------------------------------------------------------------------------------------------------------------------------------------------------------------------------------------------------------------------------------------------------------------------------------------------------------------------------------------------------------------------------------------------------------------------------------------------------------------------------------------------------------------------------------------------------------------------------------------------------------------------------------------------------------------\n",
      " id    | 4                                                                                                                                                                                                                                                                                                                                                                                                                                                                                                                                                                                                                                                                                                                                                                                                                                                                                                                                                                                                                                                                                                                                                                                                                                                                                                                                                                                                                                                                                                                                                                                                                                                                                                                                                                                                                                                                                                                                                                                            \n",
      " lang  | en                                                                                                                                                                                                                                                                                                                                                                                                                                                                                                                                                                                                                                                                                                                                                                                                                                                                                                                                                                                                                                                                                                                                                                                                                                                                                                                                                                                                                                                                                                                                                                                                                                                                                                                                                                                                                                                                                                                                                                                           \n",
      " name  | Accounting Cycle: The Foundation of Business Measurement and Reporting                                                                                                                                                                                                                                                                                                                                                                                                                                                                                                                                                                                                                                                                                                                                                                                                                                                                                                                                                                                                                                                                                                                                                                                                                                                                                                                                                                                                                                                                                                                                                                                                                                                                                                                                                                                                                                                                                                                       \n",
      " tfidf | (10000,[36,63,138,157,177,362,534,603,646,1023,1072,1355,1390,1446,1501,1523,1670,1697,2015,2092,2460,2523,2577,2757,3231,3251,3496,3792,3834,3849,3903,4224,4364,4436,4742,4978,5189,5374,5412,6158,6236,6395,6470,6511,6541,6642,6697,6863,7008,7270,7282,7290,7298,7735,7772,7779,7895,7936,7956,7973,8041,8140,8164,8234,8370,8534,8579,8624,8644,9328,9347,9540,9605,9695,9809,9953,9970],[0.10339536861540427,0.09215660451775748,0.10647183755135199,0.04179891856134975,0.08992607944559085,0.09266178782658459,0.04756024008725004,0.15827704546763793,0.0960459202318291,0.0764301730939759,0.04173118749038548,0.06273633848754083,0.11360902917283665,0.06345525621030769,0.06356680409982995,0.15164801853432858,0.08938957595558784,0.04162766354994969,0.23817518403866633,0.41269073424010944,0.02202094575591586,0.1220704909689319,0.09305461451725475,0.13102472489473413,0.06283504565847589,0.0986894395674274,0.04927772841537872,0.07654081726585886,0.05124709876497501,0.11339863919673086,0.08288677862267554,0.0587172346445712,0.12225027714052586,0.10059481945137869,0.10321707321906447,0.05464680332232234,0.03729702834824205,0.13678437892291342,0.08064732156448563,0.09137327419807607,0.056223453481419765,0.0748074619753239,0.10055455287839775,0.048968988001289494,0.08510253108968523,0.13115003016801596,0.07714474444990958,0.17070554358854348,0.16798709638891188,0.10910387352334491,0.16344751370369423,0.13028491858298444,0.10035411994034704,0.10055455287839775,0.10486598126075874,0.03990507753312499,0.10071598238730756,0.09200981042028347,0.18514389014366325,0.08697795124047321,0.09899144198556134,0.1298027902758398,0.08824151677089172,0.17181395120524245,0.144341146688655,0.172421445955971,0.05821294344562146,0.08553623962225633,0.06298378943840935,0.09887779305328558,0.04046709501300145,0.09712187526249573,0.10938118070399486,0.10308412357072237,0.09125914267865344,0.13595016574442728,0.04838504297298258]) \n",
      "only showing top 1 row\n",
      "\n"
     ]
    }
   ],
   "source": [
    "# Normalizer\n",
    "normalizer = Normalizer(inputCol= \"features_tfidf\", outputCol= \"tfidf\")\n",
    "tfidf_n = normalizer.transform(tfidf)\n",
    "tfidf_n = tfidf_n.drop(\"features_tfidf\")\n",
    "tfidf_n.show(1, vertical = True, truncate = False)"
   ]
  },
  {
   "cell_type": "markdown",
   "metadata": {},
   "source": [
    "#### 4. JOIN двух датасетов"
   ]
  },
  {
   "cell_type": "code",
   "execution_count": 17,
   "metadata": {},
   "outputs": [
    {
     "data": {
      "text/plain": [
       "[11556, 13702, 16627, 16704, 21617, 23126]"
      ]
     },
     "execution_count": 17,
     "metadata": {},
     "output_type": "execute_result"
    }
   ],
   "source": [
    "list_yury = [item[0] for item in given_courses]\n",
    "list_yury = sorted(list_yury)\n",
    "list_yury"
   ]
  },
  {
   "cell_type": "code",
   "execution_count": 18,
   "metadata": {},
   "outputs": [
    {
     "name": "stdout",
     "output_type": "stream",
     "text": [
      "-RECORD 0---------------------\n",
      " id    | 11556                \n",
      " lang  | es                   \n",
      " name  | Aprendizaje Colab... \n",
      " tfidf | (10000,[249,522,5... \n",
      "-RECORD 1---------------------\n",
      " id    | 13702                \n",
      " lang  | ru                   \n",
      " name  | Математическая эк... \n",
      " tfidf | (10000,[310,942,2... \n",
      "-RECORD 2---------------------\n",
      " id    | 16627                \n",
      " lang  | es                   \n",
      " name  | Aprende Excel: Ni... \n",
      " tfidf | (10000,[55,76,192... \n",
      "-RECORD 3---------------------\n",
      " id    | 16704                \n",
      " lang  | ru                   \n",
      " name  | Программирование ... \n",
      " tfidf | (10000,[381,1144,... \n",
      "-RECORD 4---------------------\n",
      " id    | 21617                \n",
      " lang  | en                   \n",
      " name  | Preparing for the... \n",
      " tfidf | (10000,[17,161,36... \n",
      "-RECORD 5---------------------\n",
      " id    | 23126                \n",
      " lang  | en                   \n",
      " name  | Compass - powerfu... \n",
      " tfidf | (10000,[87,246,25... \n",
      "\n"
     ]
    }
   ],
   "source": [
    "tfidf_yury = tfidf_n.filter(tfidf_n.id.isin(list_yury))\n",
    "tfidf_yury.show(7, vertical = True, truncate = True)"
   ]
  },
  {
   "cell_type": "code",
   "execution_count": 19,
   "metadata": {},
   "outputs": [
    {
     "name": "stdout",
     "output_type": "stream",
     "text": [
      "+---+----+--------------------+--------------------+-----+------+--------------------+--------------------+\n",
      "| id|lang|                name|               tfidf| id_t|lang_t|              name_t|             tfidf_t|\n",
      "+---+----+--------------------+--------------------+-----+------+--------------------+--------------------+\n",
      "|  4|  en|Accounting Cycle:...|(10000,[36,63,138...|11556|    es|Aprendizaje Colab...|(10000,[249,522,5...|\n",
      "|  4|  en|Accounting Cycle:...|(10000,[36,63,138...|13702|    ru|Математическая эк...|(10000,[310,942,2...|\n",
      "|  4|  en|Accounting Cycle:...|(10000,[36,63,138...|16627|    es|Aprende Excel: Ni...|(10000,[55,76,192...|\n",
      "|  4|  en|Accounting Cycle:...|(10000,[36,63,138...|16704|    ru|Программирование ...|(10000,[381,1144,...|\n",
      "|  4|  en|Accounting Cycle:...|(10000,[36,63,138...|21617|    en|Preparing for the...|(10000,[17,161,36...|\n",
      "|  4|  en|Accounting Cycle:...|(10000,[36,63,138...|23126|    en|Compass - powerfu...|(10000,[87,246,25...|\n",
      "|  5|  en|American Counter ...|(10000,[32,222,36...|11556|    es|Aprendizaje Colab...|(10000,[249,522,5...|\n",
      "|  5|  en|American Counter ...|(10000,[32,222,36...|13702|    ru|Математическая эк...|(10000,[310,942,2...|\n",
      "|  5|  en|American Counter ...|(10000,[32,222,36...|16627|    es|Aprende Excel: Ni...|(10000,[55,76,192...|\n",
      "|  5|  en|American Counter ...|(10000,[32,222,36...|16704|    ru|Программирование ...|(10000,[381,1144,...|\n",
      "+---+----+--------------------+--------------------+-----+------+--------------------+--------------------+\n",
      "only showing top 10 rows\n",
      "\n"
     ]
    }
   ],
   "source": [
    "tfidf_joined = tfidf_n.crossJoin(tfidf_yury\n",
    "                        .withColumnRenamed(\"id\", \"id_t\")\n",
    "                        .withColumnRenamed(\"lang\", \"lang_t\")\n",
    "                        .withColumnRenamed(\"name\", \"name_t\")\n",
    "                        .withColumnRenamed(\"tfidf\", \"tfidf_t\"))\\\n",
    "                        .orderBy(col(\"id\"),col(\"id_t\"))\n",
    "tfidf_joined.show(10)"
   ]
  },
  {
   "cell_type": "markdown",
   "metadata": {},
   "source": [
    "####  5. Косинус близости"
   ]
  },
  {
   "cell_type": "code",
   "execution_count": 20,
   "metadata": {},
   "outputs": [],
   "source": [
    "def cos_sim(v1, v2):\n",
    "    return float((v1.dot(v2))/(v1.norm(2)*v2.norm(2)))\n",
    "cos_wrapper = f.udf(lambda x,y: cos_sim(x,y), FloatType() )"
   ]
  },
  {
   "cell_type": "code",
   "execution_count": 21,
   "metadata": {},
   "outputs": [
    {
     "data": {
      "text/plain": [
       "200"
      ]
     },
     "execution_count": 21,
     "metadata": {},
     "output_type": "execute_result"
    }
   ],
   "source": [
    "tfidf_joined.rdd.getNumPartitions()"
   ]
  },
  {
   "cell_type": "code",
   "execution_count": 22,
   "metadata": {},
   "outputs": [
    {
     "name": "stdout",
     "output_type": "stream",
     "text": [
      "+---+----+--------------------+--------------------+-----+------+--------------------+--------------------+\n",
      "| id|lang|                name|               tfidf| id_t|lang_t|              name_t|             tfidf_t|\n",
      "+---+----+--------------------+--------------------+-----+------+--------------------+--------------------+\n",
      "|  4|  en|Accounting Cycle:...|(10000,[36,63,138...|11556|    es|Aprendizaje Colab...|(10000,[249,522,5...|\n",
      "|  4|  en|Accounting Cycle:...|(10000,[36,63,138...|13702|    ru|Математическая эк...|(10000,[310,942,2...|\n",
      "|  4|  en|Accounting Cycle:...|(10000,[36,63,138...|16627|    es|Aprende Excel: Ni...|(10000,[55,76,192...|\n",
      "|  4|  en|Accounting Cycle:...|(10000,[36,63,138...|16704|    ru|Программирование ...|(10000,[381,1144,...|\n",
      "|  4|  en|Accounting Cycle:...|(10000,[36,63,138...|21617|    en|Preparing for the...|(10000,[17,161,36...|\n",
      "|  4|  en|Accounting Cycle:...|(10000,[36,63,138...|23126|    en|Compass - powerfu...|(10000,[87,246,25...|\n",
      "|  5|  en|American Counter ...|(10000,[32,222,36...|11556|    es|Aprendizaje Colab...|(10000,[249,522,5...|\n",
      "|  5|  en|American Counter ...|(10000,[32,222,36...|13702|    ru|Математическая эк...|(10000,[310,942,2...|\n",
      "|  5|  en|American Counter ...|(10000,[32,222,36...|16627|    es|Aprende Excel: Ni...|(10000,[55,76,192...|\n",
      "|  5|  en|American Counter ...|(10000,[32,222,36...|16704|    ru|Программирование ...|(10000,[381,1144,...|\n",
      "|  5|  en|American Counter ...|(10000,[32,222,36...|21617|    en|Preparing for the...|(10000,[17,161,36...|\n",
      "|  5|  en|American Counter ...|(10000,[32,222,36...|23126|    en|Compass - powerfu...|(10000,[87,246,25...|\n",
      "|  6|  fr|Arithmétique: en ...|(10000,[30,118,12...|11556|    es|Aprendizaje Colab...|(10000,[249,522,5...|\n",
      "|  6|  fr|Arithmétique: en ...|(10000,[30,118,12...|13702|    ru|Математическая эк...|(10000,[310,942,2...|\n",
      "|  6|  fr|Arithmétique: en ...|(10000,[30,118,12...|16627|    es|Aprende Excel: Ni...|(10000,[55,76,192...|\n",
      "|  6|  fr|Arithmétique: en ...|(10000,[30,118,12...|16704|    ru|Программирование ...|(10000,[381,1144,...|\n",
      "|  6|  fr|Arithmétique: en ...|(10000,[30,118,12...|21617|    en|Preparing for the...|(10000,[17,161,36...|\n",
      "|  6|  fr|Arithmétique: en ...|(10000,[30,118,12...|23126|    en|Compass - powerfu...|(10000,[87,246,25...|\n",
      "|  7|  en|Becoming a Dynami...|(10000,[493,721,8...|11556|    es|Aprendizaje Colab...|(10000,[249,522,5...|\n",
      "|  7|  en|Becoming a Dynami...|(10000,[493,721,8...|13702|    ru|Математическая эк...|(10000,[310,942,2...|\n",
      "+---+----+--------------------+--------------------+-----+------+--------------------+--------------------+\n",
      "only showing top 20 rows\n",
      "\n"
     ]
    }
   ],
   "source": [
    "tfidf_joined.show()"
   ]
  },
  {
   "cell_type": "code",
   "execution_count": 23,
   "metadata": {},
   "outputs": [],
   "source": [
    "tfidf_joined = tfidf_joined.coalesce(10).cache()"
   ]
  },
  {
   "cell_type": "code",
   "execution_count": 25,
   "metadata": {},
   "outputs": [
    {
     "name": "stdout",
     "output_type": "stream",
     "text": [
      "+---+----+--------------------+--------------------+-----+------+--------------------+--------------------+-----------+\n",
      "| id|lang|                name|               tfidf| id_t|lang_t|              name_t|             tfidf_t|    cos_sim|\n",
      "+---+----+--------------------+--------------------+-----+------+--------------------+--------------------+-----------+\n",
      "|  4|  en|Accounting Cycle:...|(10000,[36,63,138...|11556|    es|Aprendizaje Colab...|(10000,[249,522,5...|6.960418E-4|\n",
      "|  4|  en|Accounting Cycle:...|(10000,[36,63,138...|13702|    ru|Математическая эк...|(10000,[310,942,2...|        0.0|\n",
      "|  4|  en|Accounting Cycle:...|(10000,[36,63,138...|16627|    es|Aprende Excel: Ni...|(10000,[55,76,192...|8.212152E-5|\n",
      "|  4|  en|Accounting Cycle:...|(10000,[36,63,138...|16704|    ru|Программирование ...|(10000,[381,1144,...|        0.0|\n",
      "|  4|  en|Accounting Cycle:...|(10000,[36,63,138...|21617|    en|Preparing for the...|(10000,[17,161,36...|0.052303135|\n",
      "+---+----+--------------------+--------------------+-----+------+--------------------+--------------------+-----------+\n",
      "only showing top 5 rows\n",
      "\n"
     ]
    }
   ],
   "source": [
    "spark.conf.set(\"spark.sql.execution.arrow.pyspark.enabled\", \"true\")\n",
    "tfidf_joined = tfidf_joined.select(\"*\", cos_wrapper(f.col(\"tfidf\"), f.col(\"tfidf_t\")).alias(\"cos_sim\"))\n",
    "tfidf_joined.show(5)"
   ]
  },
  {
   "cell_type": "code",
   "execution_count": 26,
   "metadata": {},
   "outputs": [
    {
     "data": {
      "text/plain": [
       "168918"
      ]
     },
     "execution_count": 26,
     "metadata": {},
     "output_type": "execute_result"
    }
   ],
   "source": [
    "tfidf_joined.count()"
   ]
  },
  {
   "cell_type": "code",
   "execution_count": 27,
   "metadata": {},
   "outputs": [
    {
     "data": {
      "text/html": [
       "<div>\n",
       "<style scoped>\n",
       "    .dataframe tbody tr th:only-of-type {\n",
       "        vertical-align: middle;\n",
       "    }\n",
       "\n",
       "    .dataframe tbody tr th {\n",
       "        vertical-align: top;\n",
       "    }\n",
       "\n",
       "    .dataframe thead th {\n",
       "        text-align: right;\n",
       "    }\n",
       "</style>\n",
       "<table border=\"1\" class=\"dataframe\">\n",
       "  <thead>\n",
       "    <tr style=\"text-align: right;\">\n",
       "      <th></th>\n",
       "      <th>id</th>\n",
       "      <th>lang</th>\n",
       "      <th>name</th>\n",
       "      <th>tfidf</th>\n",
       "      <th>id_t</th>\n",
       "      <th>lang_t</th>\n",
       "      <th>name_t</th>\n",
       "      <th>tfidf_t</th>\n",
       "      <th>cos_sim</th>\n",
       "    </tr>\n",
       "  </thead>\n",
       "  <tbody>\n",
       "    <tr>\n",
       "      <th>0</th>\n",
       "      <td>4</td>\n",
       "      <td>en</td>\n",
       "      <td>Accounting Cycle: The Foundation of Business M...</td>\n",
       "      <td>(0.0, 0.0, 0.0, 0.0, 0.0, 0.0, 0.0, 0.0, 0.0, ...</td>\n",
       "      <td>11556</td>\n",
       "      <td>es</td>\n",
       "      <td>Aprendizaje Colaborativo by UNID Universidad I...</td>\n",
       "      <td>(0.0, 0.0, 0.0, 0.0, 0.0, 0.0, 0.0, 0.0, 0.0, ...</td>\n",
       "      <td>0.000696</td>\n",
       "    </tr>\n",
       "    <tr>\n",
       "      <th>1</th>\n",
       "      <td>4</td>\n",
       "      <td>en</td>\n",
       "      <td>Accounting Cycle: The Foundation of Business M...</td>\n",
       "      <td>(0.0, 0.0, 0.0, 0.0, 0.0, 0.0, 0.0, 0.0, 0.0, ...</td>\n",
       "      <td>13702</td>\n",
       "      <td>ru</td>\n",
       "      <td>Математическая экономика</td>\n",
       "      <td>(0.0, 0.0, 0.0, 0.0, 0.0, 0.0, 0.0, 0.0, 0.0, ...</td>\n",
       "      <td>0.000000</td>\n",
       "    </tr>\n",
       "    <tr>\n",
       "      <th>2</th>\n",
       "      <td>4</td>\n",
       "      <td>en</td>\n",
       "      <td>Accounting Cycle: The Foundation of Business M...</td>\n",
       "      <td>(0.0, 0.0, 0.0, 0.0, 0.0, 0.0, 0.0, 0.0, 0.0, ...</td>\n",
       "      <td>16627</td>\n",
       "      <td>es</td>\n",
       "      <td>Aprende Excel: Nivel Intermedio by Alfonso Rin...</td>\n",
       "      <td>(0.0, 0.0, 0.0, 0.0, 0.0, 0.0, 0.0, 0.0, 0.0, ...</td>\n",
       "      <td>0.000082</td>\n",
       "    </tr>\n",
       "    <tr>\n",
       "      <th>3</th>\n",
       "      <td>4</td>\n",
       "      <td>en</td>\n",
       "      <td>Accounting Cycle: The Foundation of Business M...</td>\n",
       "      <td>(0.0, 0.0, 0.0, 0.0, 0.0, 0.0, 0.0, 0.0, 0.0, ...</td>\n",
       "      <td>16704</td>\n",
       "      <td>ru</td>\n",
       "      <td>Программирование на Lazarus</td>\n",
       "      <td>(0.0, 0.0, 0.0, 0.0, 0.0, 0.0, 0.0, 0.0, 0.0, ...</td>\n",
       "      <td>0.000000</td>\n",
       "    </tr>\n",
       "    <tr>\n",
       "      <th>4</th>\n",
       "      <td>4</td>\n",
       "      <td>en</td>\n",
       "      <td>Accounting Cycle: The Foundation of Business M...</td>\n",
       "      <td>(0.0, 0.0, 0.0, 0.0, 0.0, 0.0, 0.0, 0.0, 0.0, ...</td>\n",
       "      <td>21617</td>\n",
       "      <td>en</td>\n",
       "      <td>Preparing for the AP* Computer Science A Exam ...</td>\n",
       "      <td>(0.0, 0.0, 0.0, 0.0, 0.0, 0.0, 0.0, 0.0, 0.0, ...</td>\n",
       "      <td>0.052303</td>\n",
       "    </tr>\n",
       "    <tr>\n",
       "      <th>5</th>\n",
       "      <td>4</td>\n",
       "      <td>en</td>\n",
       "      <td>Accounting Cycle: The Foundation of Business M...</td>\n",
       "      <td>(0.0, 0.0, 0.0, 0.0, 0.0, 0.0, 0.0, 0.0, 0.0, ...</td>\n",
       "      <td>23126</td>\n",
       "      <td>en</td>\n",
       "      <td>Compass - powerful SASS library that makes you...</td>\n",
       "      <td>(0.0, 0.0, 0.0, 0.0, 0.0, 0.0, 0.0, 0.0, 0.0, ...</td>\n",
       "      <td>0.008291</td>\n",
       "    </tr>\n",
       "    <tr>\n",
       "      <th>6</th>\n",
       "      <td>5</td>\n",
       "      <td>en</td>\n",
       "      <td>American Counter Terrorism Law</td>\n",
       "      <td>(0.0, 0.0, 0.0, 0.0, 0.0, 0.0, 0.0, 0.0, 0.0, ...</td>\n",
       "      <td>11556</td>\n",
       "      <td>es</td>\n",
       "      <td>Aprendizaje Colaborativo by UNID Universidad I...</td>\n",
       "      <td>(0.0, 0.0, 0.0, 0.0, 0.0, 0.0, 0.0, 0.0, 0.0, ...</td>\n",
       "      <td>0.000100</td>\n",
       "    </tr>\n",
       "    <tr>\n",
       "      <th>7</th>\n",
       "      <td>5</td>\n",
       "      <td>en</td>\n",
       "      <td>American Counter Terrorism Law</td>\n",
       "      <td>(0.0, 0.0, 0.0, 0.0, 0.0, 0.0, 0.0, 0.0, 0.0, ...</td>\n",
       "      <td>13702</td>\n",
       "      <td>ru</td>\n",
       "      <td>Математическая экономика</td>\n",
       "      <td>(0.0, 0.0, 0.0, 0.0, 0.0, 0.0, 0.0, 0.0, 0.0, ...</td>\n",
       "      <td>0.000000</td>\n",
       "    </tr>\n",
       "    <tr>\n",
       "      <th>8</th>\n",
       "      <td>5</td>\n",
       "      <td>en</td>\n",
       "      <td>American Counter Terrorism Law</td>\n",
       "      <td>(0.0, 0.0, 0.0, 0.0, 0.0, 0.0, 0.0, 0.0, 0.0, ...</td>\n",
       "      <td>16627</td>\n",
       "      <td>es</td>\n",
       "      <td>Aprende Excel: Nivel Intermedio by Alfonso Rin...</td>\n",
       "      <td>(0.0, 0.0, 0.0, 0.0, 0.0, 0.0, 0.0, 0.0, 0.0, ...</td>\n",
       "      <td>0.003755</td>\n",
       "    </tr>\n",
       "    <tr>\n",
       "      <th>9</th>\n",
       "      <td>5</td>\n",
       "      <td>en</td>\n",
       "      <td>American Counter Terrorism Law</td>\n",
       "      <td>(0.0, 0.0, 0.0, 0.0, 0.0, 0.0, 0.0, 0.0, 0.0, ...</td>\n",
       "      <td>16704</td>\n",
       "      <td>ru</td>\n",
       "      <td>Программирование на Lazarus</td>\n",
       "      <td>(0.0, 0.0, 0.0, 0.0, 0.0, 0.0, 0.0, 0.0, 0.0, ...</td>\n",
       "      <td>0.000000</td>\n",
       "    </tr>\n",
       "  </tbody>\n",
       "</table>\n",
       "</div>"
      ],
      "text/plain": [
       "   id lang                                               name  \\\n",
       "0   4   en  Accounting Cycle: The Foundation of Business M...   \n",
       "1   4   en  Accounting Cycle: The Foundation of Business M...   \n",
       "2   4   en  Accounting Cycle: The Foundation of Business M...   \n",
       "3   4   en  Accounting Cycle: The Foundation of Business M...   \n",
       "4   4   en  Accounting Cycle: The Foundation of Business M...   \n",
       "5   4   en  Accounting Cycle: The Foundation of Business M...   \n",
       "6   5   en                     American Counter Terrorism Law   \n",
       "7   5   en                     American Counter Terrorism Law   \n",
       "8   5   en                     American Counter Terrorism Law   \n",
       "9   5   en                     American Counter Terrorism Law   \n",
       "\n",
       "                                               tfidf   id_t lang_t  \\\n",
       "0  (0.0, 0.0, 0.0, 0.0, 0.0, 0.0, 0.0, 0.0, 0.0, ...  11556     es   \n",
       "1  (0.0, 0.0, 0.0, 0.0, 0.0, 0.0, 0.0, 0.0, 0.0, ...  13702     ru   \n",
       "2  (0.0, 0.0, 0.0, 0.0, 0.0, 0.0, 0.0, 0.0, 0.0, ...  16627     es   \n",
       "3  (0.0, 0.0, 0.0, 0.0, 0.0, 0.0, 0.0, 0.0, 0.0, ...  16704     ru   \n",
       "4  (0.0, 0.0, 0.0, 0.0, 0.0, 0.0, 0.0, 0.0, 0.0, ...  21617     en   \n",
       "5  (0.0, 0.0, 0.0, 0.0, 0.0, 0.0, 0.0, 0.0, 0.0, ...  23126     en   \n",
       "6  (0.0, 0.0, 0.0, 0.0, 0.0, 0.0, 0.0, 0.0, 0.0, ...  11556     es   \n",
       "7  (0.0, 0.0, 0.0, 0.0, 0.0, 0.0, 0.0, 0.0, 0.0, ...  13702     ru   \n",
       "8  (0.0, 0.0, 0.0, 0.0, 0.0, 0.0, 0.0, 0.0, 0.0, ...  16627     es   \n",
       "9  (0.0, 0.0, 0.0, 0.0, 0.0, 0.0, 0.0, 0.0, 0.0, ...  16704     ru   \n",
       "\n",
       "                                              name_t  \\\n",
       "0  Aprendizaje Colaborativo by UNID Universidad I...   \n",
       "1                           Математическая экономика   \n",
       "2  Aprende Excel: Nivel Intermedio by Alfonso Rin...   \n",
       "3                        Программирование на Lazarus   \n",
       "4  Preparing for the AP* Computer Science A Exam ...   \n",
       "5  Compass - powerful SASS library that makes you...   \n",
       "6  Aprendizaje Colaborativo by UNID Universidad I...   \n",
       "7                           Математическая экономика   \n",
       "8  Aprende Excel: Nivel Intermedio by Alfonso Rin...   \n",
       "9                        Программирование на Lazarus   \n",
       "\n",
       "                                             tfidf_t   cos_sim  \n",
       "0  (0.0, 0.0, 0.0, 0.0, 0.0, 0.0, 0.0, 0.0, 0.0, ...  0.000696  \n",
       "1  (0.0, 0.0, 0.0, 0.0, 0.0, 0.0, 0.0, 0.0, 0.0, ...  0.000000  \n",
       "2  (0.0, 0.0, 0.0, 0.0, 0.0, 0.0, 0.0, 0.0, 0.0, ...  0.000082  \n",
       "3  (0.0, 0.0, 0.0, 0.0, 0.0, 0.0, 0.0, 0.0, 0.0, ...  0.000000  \n",
       "4  (0.0, 0.0, 0.0, 0.0, 0.0, 0.0, 0.0, 0.0, 0.0, ...  0.052303  \n",
       "5  (0.0, 0.0, 0.0, 0.0, 0.0, 0.0, 0.0, 0.0, 0.0, ...  0.008291  \n",
       "6  (0.0, 0.0, 0.0, 0.0, 0.0, 0.0, 0.0, 0.0, 0.0, ...  0.000100  \n",
       "7  (0.0, 0.0, 0.0, 0.0, 0.0, 0.0, 0.0, 0.0, 0.0, ...  0.000000  \n",
       "8  (0.0, 0.0, 0.0, 0.0, 0.0, 0.0, 0.0, 0.0, 0.0, ...  0.003755  \n",
       "9  (0.0, 0.0, 0.0, 0.0, 0.0, 0.0, 0.0, 0.0, 0.0, ...  0.000000  "
      ]
     },
     "execution_count": 27,
     "metadata": {},
     "output_type": "execute_result"
    }
   ],
   "source": [
    "pandasDF = tfidf_joined.toPandas()\n",
    "pandasDF.head(10)"
   ]
  },
  {
   "cell_type": "code",
   "execution_count": 70,
   "metadata": {},
   "outputs": [
    {
     "data": {
      "text/plain": [
       "['11556', '13702', '16627', '16704', '21617', '23126']"
      ]
     },
     "execution_count": 70,
     "metadata": {},
     "output_type": "execute_result"
    }
   ],
   "source": [
    "strings = [str(x) for x in list_yury]\n",
    "strings"
   ]
  },
  {
   "cell_type": "code",
   "execution_count": 71,
   "metadata": {},
   "outputs": [
    {
     "data": {
      "text/plain": [
       "{'11556': None,\n",
       " '13702': None,\n",
       " '16627': None,\n",
       " '16704': None,\n",
       " '21617': None,\n",
       " '23126': None}"
      ]
     },
     "execution_count": 71,
     "metadata": {},
     "output_type": "execute_result"
    }
   ],
   "source": [
    "dct = dict.fromkeys(strings)\n",
    "dct"
   ]
  },
  {
   "cell_type": "code",
   "execution_count": 75,
   "metadata": {},
   "outputs": [
    {
     "name": "stdout",
     "output_type": "stream",
     "text": [
      "{'11556': [11556, 16488, 468, 13461, 23357, 19330, 7833, 9289, 10447, 10384], '13702': [864, 13702, 21079, 8313, 1041, 28074, 8300, 13057, 1033, 21025], '16627': [16627, 11431, 12247, 17964, 5687, 11575, 17961, 12660, 25010, 5558], '16704': [16704, 1236, 1247, 1365, 1273, 20288, 1164, 8186, 1233, 8203], '21617': [21609, 21617, 21616, 22298, 21608, 21630, 21628, 21081, 21623, 19417], '23126': [23126, 13665, 14760, 13782, 20638, 24419, 15909, 2724, 25782, 17499]}\n"
     ]
    }
   ],
   "source": [
    "for i in list_yury:\n",
    "    list = pandasDF[(pandasDF[\"id_t\"] == i) & (pandasDF[\"lang_t\"] == pandasDF[\"lang\"])]\\\n",
    "            .sort_values([\"cos_sim\", \"name\", \"id\"], ascending=[False, True, True])['id'].iloc[0:10].tolist()\n",
    "    dct.update({str(i): list})\n",
    "print(dct)"
   ]
  },
  {
   "cell_type": "code",
   "execution_count": 78,
   "metadata": {},
   "outputs": [],
   "source": [
    "import json\n",
    "with open('lab02.json', 'w') as f:\n",
    "    json.dump(dct, f)"
   ]
  }
 ],
 "metadata": {
  "kernelspec": {
   "display_name": "Python 3",
   "language": "python",
   "name": "python3"
  },
  "language_info": {
   "codemirror_mode": {
    "name": "ipython",
    "version": 3
   },
   "file_extension": ".py",
   "mimetype": "text/x-python",
   "name": "python",
   "nbconvert_exporter": "python",
   "pygments_lexer": "ipython3",
   "version": "3.6.5"
  }
 },
 "nbformat": 4,
 "nbformat_minor": 2
}
