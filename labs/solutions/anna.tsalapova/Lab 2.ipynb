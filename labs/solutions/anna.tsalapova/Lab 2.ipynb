{
 "cells": [
  {
   "cell_type": "code",
   "execution_count": 1,
   "metadata": {},
   "outputs": [],
   "source": [
    "import os\n",
    "import sys\n",
    "\n",
    "\n",
    "os.environ[\"PYSPARK_PYTHON\"]='/opt/anaconda/envs/bd9/bin/python'\n",
    "os.environ[\"SPARK_HOME\"]='/usr/hdp/current/spark2-client'\n",
    "os.environ[\"PYSPARK_SUBMIT_ARGS\"]='--num-executors 2 pyspark-shell'\n",
    "\n",
    "spark_home = os.environ.get('SPARK_HOME', None)\n",
    "if not spark_home:\n",
    "    raise ValueError('SPARK_HOME environment variable is not set')\n",
    "\n",
    "sys.path.insert(0, os.path.join(spark_home, 'python'))\n",
    "sys.path.insert(0, os.path.join(spark_home, 'python/lib/py4j-0.10.7-src.zip'))"
   ]
  },
  {
   "cell_type": "code",
   "execution_count": 2,
   "metadata": {},
   "outputs": [],
   "source": [
    "from pyspark import SparkConf\n",
    "from pyspark.sql import SparkSession\n",
    "from pyspark.sql import functions as F\n",
    "from pyspark.sql.types import *\n",
    "from pyspark import Row\n",
    "import json\n",
    "\n",
    "conf = SparkConf()\n",
    "\n",
    "spark = (SparkSession\n",
    "         .builder\n",
    "         .config(conf=conf)\n",
    "         .appName(\"lab 2\")\n",
    "         .getOrCreate())"
   ]
  },
  {
   "cell_type": "code",
   "execution_count": 3,
   "metadata": {},
   "outputs": [],
   "source": [
    "sc = spark.sparkContext"
   ]
  },
  {
   "cell_type": "code",
   "execution_count": 94,
   "metadata": {},
   "outputs": [],
   "source": [
    "df = spark.read.json(\"/labs/slaba02/DO_record_per_line.json\")"
   ]
  },
  {
   "cell_type": "code",
   "execution_count": 95,
   "metadata": {},
   "outputs": [
    {
     "name": "stdout",
     "output_type": "stream",
     "text": [
      "root\n",
      " |-- cat: string (nullable = true)\n",
      " |-- desc: string (nullable = true)\n",
      " |-- id: long (nullable = true)\n",
      " |-- lang: string (nullable = true)\n",
      " |-- name: string (nullable = true)\n",
      " |-- provider: string (nullable = true)\n",
      "\n"
     ]
    }
   ],
   "source": [
    "df.printSchema()"
   ]
  },
  {
   "cell_type": "code",
   "execution_count": 96,
   "metadata": {},
   "outputs": [
    {
     "name": "stdout",
     "output_type": "stream",
     "text": [
      "+--------------------+--------------------+---+----+--------------------+--------------+\n",
      "|                 cat|                desc| id|lang|                name|      provider|\n",
      "+--------------------+--------------------+---+----+--------------------+--------------+\n",
      "|3/business_manage...|This course intro...|  4|  en|Accounting Cycle:...|Canvas Network|\n",
      "|              11/law|This online cours...|  5|  en|American Counter ...|Canvas Network|\n",
      "|5/computer_scienc...|This course is ta...|  6|  fr|Arithmétique: en ...|Canvas Network|\n",
      "|  14/social_sciences|We live in a digi...|  7|  en|Becoming a Dynami...|Canvas Network|\n",
      "|2/biology_life_sc...|This self-paced c...|  8|  en|           Bioethics|Canvas Network|\n",
      "|9/humanities|15/m...|This game-based c...|  9|  en|College Foundatio...|Canvas Network|\n",
      "|  14/social_sciences|What’s in your di...| 10|  en|Digital Literacies I|Canvas Network|\n",
      "|  14/social_sciences|The goal of the D...| 11|  en|Digital Literacie...|Canvas Network|\n",
      "|  14/social_sciences|Ready to explore ...| 12|  en|Digital Tools for...|Canvas Network|\n",
      "|  14/social_sciences|This self-paced c...| 13|  en|Discover Your Val...|Canvas Network|\n",
      "|  12/medicine_health|What is “interpro...| 14|  en|Enhancing Patient...|Canvas Network|\n",
      "|        16/languages|This course prese...| 15|  en|Ethics and Values...|Canvas Network|\n",
      "|         4/chemistry|Chemistry is an i...| 16|  en| Exploring Chemistry|Canvas Network|\n",
      "|8/engineering_tec...|Are you consideri...| 17|  en|Exploring Enginee...|Canvas Network|\n",
      "|   1/arts_music_film|Princess stories ...| 18|  en|Fairy Tales: Orig...|Canvas Network|\n",
      "|        9/humanities|This first instal...| 19|  en|First Peoples to ...|Canvas Network|\n",
      "|  14/social_sciences|This course exami...| 20|  en| Forums for a Future|Canvas Network|\n",
      "|        9/humanities|This course will ...| 21|  en|From the Gilded A...|Canvas Network|\n",
      "|8/engineering_tec...|The field of tech...| 22|  en|Fundamentals of S...|Canvas Network|\n",
      "|  14/social_sciences|Are you a Higher ...| 23|  en|Hybrid Courses: B...|Canvas Network|\n",
      "+--------------------+--------------------+---+----+--------------------+--------------+\n",
      "only showing top 20 rows\n",
      "\n"
     ]
    }
   ],
   "source": [
    "df.show()"
   ]
  },
  {
   "cell_type": "code",
   "execution_count": 97,
   "metadata": {},
   "outputs": [],
   "source": [
    "cources_for_res = [[23126, u'en', u'Compass - powerful SASS library that makes your life easier'], \n",
    "                   [21617, u'en', u'Preparing for the AP* Computer Science A Exam \\u2014 Part 2'], \n",
    "                   [16627, u'es', u'Aprende Excel: Nivel Intermedio by Alfonso Rinsche'], \n",
    "                   [11556, u'es', u'Aprendizaje Colaborativo by UNID Universidad Interamericana para el Desarrollo'], \n",
    "                   [16704, u'ru', u'\\u041f\\u0440\\u043e\\u0433\\u0440\\u0430\\u043c\\u043c\\u0438\\u0440\\u043e\\u0432\\u0430\\u043d\\u0438\\u0435 \\u043d\\u0430 Lazarus'], \n",
    "                   [13702, u'ru', u'\\u041c\\u0430\\u0442\\u0435\\u043c\\u0430\\u0442\\u0438\\u0447\\u0435\\u0441\\u043a\\u0430\\u044f \\u044d\\u043a\\u043e\\u043d\\u043e\\u043c\\u0438\\u043a\\u0430']\n",
    "                  ]"
   ]
  },
  {
   "cell_type": "code",
   "execution_count": 98,
   "metadata": {},
   "outputs": [],
   "source": [
    "from pyspark.ml.feature import HashingTF, IDF\n",
    "from pyspark.ml.feature import StopWordsRemover\n",
    "from pyspark.sql.functions import udf"
   ]
  },
  {
   "cell_type": "code",
   "execution_count": 99,
   "metadata": {},
   "outputs": [
    {
     "data": {
      "text/plain": [
       "['матfghfghf', 'ydsrfgy', '4r5', 'gh']"
      ]
     },
     "execution_count": 99,
     "metadata": {},
     "output_type": "execute_result"
    }
   ],
   "source": [
    "import re\n",
    "\n",
    "regex = re.compile(u'[\\w\\d]{2,}', re.U)\n",
    "list(regex.findall(u'\\u041c\\u0430\\u0442fghfghf ydsrfgy 4r5 5, gh -- r'.lower()))"
   ]
  },
  {
   "cell_type": "code",
   "execution_count": 100,
   "metadata": {},
   "outputs": [],
   "source": [
    "get_words = udf(lambda x: list(regex.findall(x.lower())), ArrayType(StringType()))"
   ]
  },
  {
   "cell_type": "code",
   "execution_count": 101,
   "metadata": {},
   "outputs": [],
   "source": [
    "df = df.withColumn('words', get_words(F.col('desc')))"
   ]
  },
  {
   "cell_type": "code",
   "execution_count": 102,
   "metadata": {},
   "outputs": [],
   "source": [
    "remover = StopWordsRemover(inputCol=\"words\", outputCol=\"words_filtered\")\n",
    "df = remover.transform(df)"
   ]
  },
  {
   "cell_type": "code",
   "execution_count": 103,
   "metadata": {},
   "outputs": [
    {
     "name": "stdout",
     "output_type": "stream",
     "text": [
      "root\n",
      " |-- cat: string (nullable = true)\n",
      " |-- desc: string (nullable = true)\n",
      " |-- id: long (nullable = true)\n",
      " |-- lang: string (nullable = true)\n",
      " |-- name: string (nullable = true)\n",
      " |-- provider: string (nullable = true)\n",
      " |-- words: array (nullable = true)\n",
      " |    |-- element: string (containsNull = true)\n",
      " |-- words_filtered: array (nullable = true)\n",
      " |    |-- element: string (containsNull = true)\n",
      "\n"
     ]
    }
   ],
   "source": [
    "df.printSchema()"
   ]
  },
  {
   "cell_type": "code",
   "execution_count": 104,
   "metadata": {},
   "outputs": [
    {
     "name": "stdout",
     "output_type": "stream",
     "text": [
      "+--------------------+--------------------+---+----+--------------------+--------------+--------------------+--------------------+\n",
      "|                 cat|                desc| id|lang|                name|      provider|               words|      words_filtered|\n",
      "+--------------------+--------------------+---+----+--------------------+--------------+--------------------+--------------------+\n",
      "|3/business_manage...|This course intro...|  4|  en|Accounting Cycle:...|Canvas Network|[this, course, in...|[course, introduc...|\n",
      "|              11/law|This online cours...|  5|  en|American Counter ...|Canvas Network|[this, online, co...|[online, course, ...|\n",
      "|5/computer_scienc...|This course is ta...|  6|  fr|Arithmétique: en ...|Canvas Network|[this, course, is...|[course, taught, ...|\n",
      "|  14/social_sciences|We live in a digi...|  7|  en|Becoming a Dynami...|Canvas Network|[we, live, in, di...|[live, digitally,...|\n",
      "|2/biology_life_sc...|This self-paced c...|  8|  en|           Bioethics|Canvas Network|[this, self, pace...|[self, paced, cou...|\n",
      "|9/humanities|15/m...|This game-based c...|  9|  en|College Foundatio...|Canvas Network|[this, game, base...|[game, based, cou...|\n",
      "|  14/social_sciences|What’s in your di...| 10|  en|Digital Literacies I|Canvas Network|[what, in, your, ...|[digital, teachin...|\n",
      "|  14/social_sciences|The goal of the D...| 11|  en|Digital Literacie...|Canvas Network|[the, goal, of, t...|[goal, digital, l...|\n",
      "|  14/social_sciences|Ready to explore ...| 12|  en|Digital Tools for...|Canvas Network|[ready, to, explo...|[ready, explore, ...|\n",
      "|  14/social_sciences|This self-paced c...| 13|  en|Discover Your Val...|Canvas Network|[this, self, pace...|[self, paced, cou...|\n",
      "|  12/medicine_health|What is “interpro...| 14|  en|Enhancing Patient...|Canvas Network|[what, is, interp...|[interprofessiona...|\n",
      "|        16/languages|This course prese...| 15|  en|Ethics and Values...|Canvas Network|[this, course, pr...|[course, presents...|\n",
      "|         4/chemistry|Chemistry is an i...| 16|  en| Exploring Chemistry|Canvas Network|[chemistry, is, a...|[chemistry, integ...|\n",
      "|8/engineering_tec...|Are you consideri...| 17|  en|Exploring Enginee...|Canvas Network|[are, you, consid...|[considering, car...|\n",
      "|   1/arts_music_film|Princess stories ...| 18|  en|Fairy Tales: Orig...|Canvas Network|[princess, storie...|[princess, storie...|\n",
      "|        9/humanities|This first instal...| 19|  en|First Peoples to ...|Canvas Network|[this, first, ins...|[first, installme...|\n",
      "|  14/social_sciences|This course exami...| 20|  en| Forums for a Future|Canvas Network|[this, course, ex...|[course, examines...|\n",
      "|        9/humanities|This course will ...| 21|  en|From the Gilded A...|Canvas Network|[this, course, wi...|[course, explore,...|\n",
      "|8/engineering_tec...|The field of tech...| 22|  en|Fundamentals of S...|Canvas Network|[the, field, of, ...|[field, technical...|\n",
      "|  14/social_sciences|Are you a Higher ...| 23|  en|Hybrid Courses: B...|Canvas Network|[are, you, higher...|[higher, ed, inst...|\n",
      "+--------------------+--------------------+---+----+--------------------+--------------+--------------------+--------------------+\n",
      "only showing top 20 rows\n",
      "\n"
     ]
    }
   ],
   "source": [
    "df.show()"
   ]
  },
  {
   "cell_type": "code",
   "execution_count": 105,
   "metadata": {},
   "outputs": [],
   "source": [
    "hashingTF = HashingTF(inputCol=\"words_filtered\", outputCol=\"tf\")\n",
    "tf = hashingTF.transform(df)\n",
    "\n",
    "tf.cache()\n",
    "idf = IDF(inputCol=\"tf\", outputCol=\"idf\").fit(tf)\n",
    "tfidf = idf.transform(tf)"
   ]
  },
  {
   "cell_type": "code",
   "execution_count": 106,
   "metadata": {},
   "outputs": [
    {
     "data": {
      "text/plain": [
       "DataFrame[cat: string, desc: string, id: bigint, lang: string, name: string, provider: string, words: array<string>, words_filtered: array<string>, tf: vector, idf: vector]"
      ]
     },
     "execution_count": 106,
     "metadata": {},
     "output_type": "execute_result"
    }
   ],
   "source": [
    "tfidf.cache()"
   ]
  },
  {
   "cell_type": "code",
   "execution_count": 107,
   "metadata": {},
   "outputs": [],
   "source": [
    "res_ids = []\n",
    " \n",
    "for x in cources_for_res:\n",
    "    id = x[0]\n",
    "    idf_v = tfidf.filter(f'id = {id}').select('idf').collect()[0][0]\n",
    "    res_ids.append((id, idf_v))"
   ]
  },
  {
   "cell_type": "code",
   "execution_count": 108,
   "metadata": {},
   "outputs": [],
   "source": [
    "for id, idf_v in res_ids:\n",
    "    if idf_v.norm(2) == 0:\n",
    "        print(id)\n",
    "    cos = udf(lambda x: float(idf_v.dot(x) / (idf_v.norm(2) * x.norm(2))), FloatType())\n",
    "    tfidf = tfidf.withColumn(f'cos_{id}', cos(F.col('idf')))"
   ]
  },
  {
   "cell_type": "code",
   "execution_count": 109,
   "metadata": {},
   "outputs": [
    {
     "name": "stdout",
     "output_type": "stream",
     "text": [
      "-RECORD 0------------------------------\n",
      " cat            | 3/business_manage... \n",
      " desc           | This course intro... \n",
      " id             | 4                    \n",
      " lang           | en                   \n",
      " name           | Accounting Cycle:... \n",
      " provider       | Canvas Network       \n",
      " words          | [this, course, in... \n",
      " words_filtered | [course, introduc... \n",
      " tf             | (262144,[4211,753... \n",
      " idf            | (262144,[4211,753... \n",
      " cos_23126      | 0.004825294          \n",
      " cos_21617      | 0.03899095           \n",
      " cos_16627      | 6.1973136E-5         \n",
      " cos_11556      | 6.356649E-5          \n",
      " cos_16704      | 0.0                  \n",
      " cos_13702      | 0.0                  \n",
      "-RECORD 1------------------------------\n",
      " cat            | 11/law               \n",
      " desc           | This online cours... \n",
      " id             | 5                    \n",
      " lang           | en                   \n",
      " name           | American Counter ... \n",
      " provider       | Canvas Network       \n",
      " words          | [this, online, co... \n",
      " words_filtered | [online, course, ... \n",
      " tf             | (262144,[1598,172... \n",
      " idf            | (262144,[1598,172... \n",
      " cos_23126      | 0.0025782003         \n",
      " cos_21617      | 0.020621773          \n",
      " cos_16627      | 6.5966175E-5         \n",
      " cos_11556      | 6.76622E-5           \n",
      " cos_16704      | 0.0                  \n",
      " cos_13702      | 0.0                  \n",
      "-RECORD 2------------------------------\n",
      " cat            | 5/computer_scienc... \n",
      " desc           | This course is ta... \n",
      " id             | 6                    \n",
      " lang           | fr                   \n",
      " name           | Arithmétique: en ... \n",
      " provider       | Canvas Network       \n",
      " words          | [this, course, is... \n",
      " words_filtered | [course, taught, ... \n",
      " tf             | (262144,[7601,106... \n",
      " idf            | (262144,[7601,106... \n",
      " cos_23126      | 9.8785305E-5         \n",
      " cos_21617      | 0.009587264          \n",
      " cos_16627      | 0.110014066          \n",
      " cos_11556      | 0.094395906          \n",
      " cos_16704      | 0.0                  \n",
      " cos_13702      | 0.0                  \n",
      "-RECORD 3------------------------------\n",
      " cat            | 14/social_sciences   \n",
      " desc           | We live in a digi... \n",
      " id             | 7                    \n",
      " lang           | en                   \n",
      " name           | Becoming a Dynami... \n",
      " provider       | Canvas Network       \n",
      " words          | [we, live, in, di... \n",
      " words_filtered | [live, digitally,... \n",
      " tf             | (262144,[836,4525... \n",
      " idf            | (262144,[836,4525... \n",
      " cos_23126      | 0.016005976          \n",
      " cos_21617      | 0.011047693          \n",
      " cos_16627      | 4.1369145E-4         \n",
      " cos_11556      | 0.0017227253         \n",
      " cos_16704      | 0.0                  \n",
      " cos_13702      | 0.0                  \n",
      "-RECORD 4------------------------------\n",
      " cat            | 2/biology_life_sc... \n",
      " desc           | This self-paced c... \n",
      " id             | 8                    \n",
      " lang           | en                   \n",
      " name           | Bioethics            \n",
      " provider       | Canvas Network       \n",
      " words          | [this, self, pace... \n",
      " words_filtered | [self, paced, cou... \n",
      " tf             | (262144,[619,2042... \n",
      " idf            | (262144,[619,2042... \n",
      " cos_23126      | 0.0049746023         \n",
      " cos_21617      | 0.028956166          \n",
      " cos_16627      | 0.0015896754         \n",
      " cos_11556      | 1.21567056E-4        \n",
      " cos_16704      | 0.0                  \n",
      " cos_13702      | 0.0                  \n",
      "only showing top 5 rows\n",
      "\n"
     ]
    }
   ],
   "source": [
    "tfidf.show(5, vertical=True)"
   ]
  },
  {
   "cell_type": "code",
   "execution_count": 110,
   "metadata": {},
   "outputs": [],
   "source": [
    "norm2 = udf(lambda x: float(x.norm(2)), FloatType())\n",
    "\n",
    "tfidf = tfidf.withColumn('norm2', norm2(F.col('idf')))"
   ]
  },
  {
   "cell_type": "code",
   "execution_count": 111,
   "metadata": {},
   "outputs": [],
   "source": [
    "tfidf = tfidf.filter(F.col('norm2') != 0)"
   ]
  },
  {
   "cell_type": "code",
   "execution_count": 112,
   "metadata": {
    "scrolled": true
   },
   "outputs": [
    {
     "name": "stdout",
     "output_type": "stream",
     "text": [
      "+-----+----------+\n",
      "|   id| cos_23126|\n",
      "+-----+----------+\n",
      "|23126|       1.0|\n",
      "|14760| 0.6735877|\n",
      "|13665| 0.6418198|\n",
      "|13782|0.63236856|\n",
      "|15909|0.45687088|\n",
      "|25782|0.31653267|\n",
      "|17499| 0.2987613|\n",
      "|19270|   0.28898|\n",
      "|13348|0.28562516|\n",
      "|25071| 0.2473614|\n",
      "| 7153|0.23640837|\n",
      "+-----+----------+\n",
      "\n",
      "[14760, 13665, 13782, 15909, 25782, 17499, 19270, 13348, 25071, 7153]\n",
      "+-----+----------+\n",
      "|   id| cos_21617|\n",
      "+-----+----------+\n",
      "|21609|       1.0|\n",
      "|21617|       1.0|\n",
      "|21616|0.49029008|\n",
      "|22298| 0.4733144|\n",
      "|21608|0.47302905|\n",
      "|21628|0.45244095|\n",
      "|21630|0.45244095|\n",
      "|21623| 0.4457215|\n",
      "|21081|0.44166374|\n",
      "|19417|0.43981743|\n",
      "|21624|0.43226188|\n",
      "+-----+----------+\n",
      "\n",
      "[21609, 21616, 22298, 21608, 21628, 21630, 21623, 21081, 19417, 21624]\n",
      "+-----+----------+\n",
      "|   id| cos_16627|\n",
      "+-----+----------+\n",
      "|16627|       1.0|\n",
      "|11431|  0.655696|\n",
      "|12247| 0.5208319|\n",
      "|17964| 0.5011261|\n",
      "|11575|0.49228275|\n",
      "|12660|0.48544678|\n",
      "| 5687| 0.4791413|\n",
      "|25010|0.47385496|\n",
      "| 5558| 0.4738044|\n",
      "|10738| 0.4723437|\n",
      "|17961| 0.4721328|\n",
      "+-----+----------+\n",
      "\n",
      "[11431, 12247, 17964, 11575, 12660, 5687, 25010, 5558, 10738, 17961]\n",
      "+-----+----------+\n",
      "|   id| cos_11556|\n",
      "+-----+----------+\n",
      "|11556|       1.0|\n",
      "|16488|0.48849323|\n",
      "|13461| 0.4322609|\n",
      "|  468|0.43003628|\n",
      "|23357|0.42081407|\n",
      "|19330|0.38868964|\n",
      "| 7833| 0.3867411|\n",
      "| 9289|0.38331467|\n",
      "|16929|0.37522885|\n",
      "|22710|0.37061185|\n",
      "|10447| 0.3696478|\n",
      "+-----+----------+\n",
      "\n",
      "[16488, 13461, 468, 23357, 19330, 7833, 9289, 16929, 22710, 10447]\n",
      "+-----+----------+\n",
      "|   id| cos_16704|\n",
      "+-----+----------+\n",
      "|16704|       1.0|\n",
      "| 4592|  0.194402|\n",
      "| 1247|0.18616317|\n",
      "| 1236|0.18573165|\n",
      "| 1228|0.16142292|\n",
      "| 1365|0.15735969|\n",
      "| 1164|0.15335916|\n",
      "| 1273|0.14504014|\n",
      "|20288|0.14504014|\n",
      "| 1233|0.14204966|\n",
      "| 8203|0.13480455|\n",
      "+-----+----------+\n",
      "\n",
      "[4592, 1247, 1236, 1228, 1365, 1164, 1273, 20288, 1233, 8203]\n",
      "+-----+-----------+\n",
      "|   id|  cos_13702|\n",
      "+-----+-----------+\n",
      "|  864|        1.0|\n",
      "|13702|        1.0|\n",
      "|21079| 0.13550484|\n",
      "|15946| 0.10796626|\n",
      "| 8313|0.105693325|\n",
      "| 8123| 0.09601235|\n",
      "| 1041| 0.08766277|\n",
      "|28074| 0.08516081|\n",
      "|13057| 0.08026643|\n",
      "| 8617|0.080121666|\n",
      "|21987|0.077369004|\n",
      "+-----+-----------+\n",
      "\n",
      "[864, 21079, 15946, 8313, 8123, 1041, 28074, 13057, 8617, 21987]\n"
     ]
    }
   ],
   "source": [
    "res = dict()\n",
    "for id, _ in res_ids:\n",
    "    top11 = tfidf.orderBy(f'cos_{id}', ascending=False).limit(11).select('id', f'cos_{id}').cache()\n",
    "    top11.show()\n",
    "    top11_data = top11.collect()\n",
    "    top11.unpersist()\n",
    "    top10 = [x.id for x in top11_data if x.id != id]\n",
    "    print(top10)\n",
    "    res[str(id)] = top10"
   ]
  },
  {
   "cell_type": "code",
   "execution_count": 113,
   "metadata": {},
   "outputs": [],
   "source": [
    "import json\n",
    "\n",
    "\n",
    "with open('lab02.json', 'w') as f:\n",
    "    json.dump(res, f)"
   ]
  },
  {
   "cell_type": "code",
   "execution_count": null,
   "metadata": {},
   "outputs": [],
   "source": [
    "# time: 2022-26-10 22:16\n",
    "# file lab02.json exists in your dir: True\n",
    "# file has required number of the fields: True\n",
    "# top10 courses are correct: [[11556, 0.9], [13702, 0.6], [16627, 0.8], [16704, 0.7], [21617, 1.0], [23126, 0.3]]\n",
    "# lab is correct: True"
   ]
  },
  {
   "cell_type": "code",
   "execution_count": 38,
   "metadata": {},
   "outputs": [
    {
     "data": {
      "text/plain": [
       "DataFrame[cat: string, desc: string, id: bigint, lang: string, name: string, provider: string, words: array<string>, words_filtered: array<string>, tf: vector, idf: vector, cos_23126: float, cos_21617: float, cos_16627: float, cos_11556: float, cos_16704: float, cos_13702: float, norm2: float]"
      ]
     },
     "execution_count": 38,
     "metadata": {},
     "output_type": "execute_result"
    }
   ],
   "source": [
    "tf.unpersist()\n",
    "tfidf.unpersist()"
   ]
  },
  {
   "cell_type": "code",
   "execution_count": null,
   "metadata": {},
   "outputs": [],
   "source": []
  },
  {
   "cell_type": "code",
   "execution_count": 42,
   "metadata": {},
   "outputs": [],
   "source": [
    "langs = ['en', 'es', 'ru']"
   ]
  },
  {
   "cell_type": "code",
   "execution_count": 50,
   "metadata": {},
   "outputs": [],
   "source": [
    "df = spark.read.json(\"/labs/slaba02/DO_record_per_line.json\")"
   ]
  },
  {
   "cell_type": "code",
   "execution_count": 51,
   "metadata": {},
   "outputs": [],
   "source": [
    "df = df.withColumn('words', get_words(F.col('desc')))\n",
    "remover = StopWordsRemover(inputCol=\"words\", outputCol=\"words_filtered\")\n",
    "df = remover.transform(df)"
   ]
  },
  {
   "cell_type": "code",
   "execution_count": 52,
   "metadata": {},
   "outputs": [],
   "source": [
    "df_en = df.filter(F.col('lang') == 'en')\n",
    "df_ru = df.filter(F.col('lang') == 'ru')\n",
    "df_es = df.filter(F.col('lang') == 'es')"
   ]
  },
  {
   "cell_type": "code",
   "execution_count": 53,
   "metadata": {},
   "outputs": [
    {
     "name": "stdout",
     "output_type": "stream",
     "text": [
      "+--------------------+--------------------+---+----+--------------------+--------------+--------------------+--------------------+\n",
      "|                 cat|                desc| id|lang|                name|      provider|               words|      words_filtered|\n",
      "+--------------------+--------------------+---+----+--------------------+--------------+--------------------+--------------------+\n",
      "|3/business_manage...|This course intro...|  4|  en|Accounting Cycle:...|Canvas Network|[this, course, in...|[course, introduc...|\n",
      "|              11/law|This online cours...|  5|  en|American Counter ...|Canvas Network|[this, online, co...|[online, course, ...|\n",
      "|  14/social_sciences|We live in a digi...|  7|  en|Becoming a Dynami...|Canvas Network|[we, live, in, di...|[live, digitally,...|\n",
      "|2/biology_life_sc...|This self-paced c...|  8|  en|           Bioethics|Canvas Network|[this, self, pace...|[self, paced, cou...|\n",
      "|9/humanities|15/m...|This game-based c...|  9|  en|College Foundatio...|Canvas Network|[this, game, base...|[game, based, cou...|\n",
      "|  14/social_sciences|What’s in your di...| 10|  en|Digital Literacies I|Canvas Network|[what, in, your, ...|[digital, teachin...|\n",
      "|  14/social_sciences|The goal of the D...| 11|  en|Digital Literacie...|Canvas Network|[the, goal, of, t...|[goal, digital, l...|\n",
      "|  14/social_sciences|Ready to explore ...| 12|  en|Digital Tools for...|Canvas Network|[ready, to, explo...|[ready, explore, ...|\n",
      "|  14/social_sciences|This self-paced c...| 13|  en|Discover Your Val...|Canvas Network|[this, self, pace...|[self, paced, cou...|\n",
      "|  12/medicine_health|What is “interpro...| 14|  en|Enhancing Patient...|Canvas Network|[what, is, interp...|[interprofessiona...|\n",
      "|        16/languages|This course prese...| 15|  en|Ethics and Values...|Canvas Network|[this, course, pr...|[course, presents...|\n",
      "|         4/chemistry|Chemistry is an i...| 16|  en| Exploring Chemistry|Canvas Network|[chemistry, is, a...|[chemistry, integ...|\n",
      "|8/engineering_tec...|Are you consideri...| 17|  en|Exploring Enginee...|Canvas Network|[are, you, consid...|[considering, car...|\n",
      "|   1/arts_music_film|Princess stories ...| 18|  en|Fairy Tales: Orig...|Canvas Network|[princess, storie...|[princess, storie...|\n",
      "|        9/humanities|This first instal...| 19|  en|First Peoples to ...|Canvas Network|[this, first, ins...|[first, installme...|\n",
      "|  14/social_sciences|This course exami...| 20|  en| Forums for a Future|Canvas Network|[this, course, ex...|[course, examines...|\n",
      "|        9/humanities|This course will ...| 21|  en|From the Gilded A...|Canvas Network|[this, course, wi...|[course, explore,...|\n",
      "|8/engineering_tec...|The field of tech...| 22|  en|Fundamentals of S...|Canvas Network|[the, field, of, ...|[field, technical...|\n",
      "|  14/social_sciences|Are you a Higher ...| 23|  en|Hybrid Courses: B...|Canvas Network|[are, you, higher...|[higher, ed, inst...|\n",
      "|  12/medicine_health|This course will ...| 24|  en|International Hea...|Canvas Network|[this, course, wi...|[course, explore,...|\n",
      "+--------------------+--------------------+---+----+--------------------+--------------+--------------------+--------------------+\n",
      "only showing top 20 rows\n",
      "\n"
     ]
    }
   ],
   "source": [
    "df_en.show()"
   ]
  },
  {
   "cell_type": "code",
   "execution_count": 54,
   "metadata": {},
   "outputs": [
    {
     "data": {
      "text/plain": [
       "DataFrame[cat: string, desc: string, id: bigint, lang: string, name: string, provider: string, words: array<string>, words_filtered: array<string>, tf: vector, idf: vector]"
      ]
     },
     "execution_count": 54,
     "metadata": {},
     "output_type": "execute_result"
    }
   ],
   "source": [
    "hashingTF = HashingTF(inputCol=\"words_filtered\", outputCol=\"tf\")\n",
    "tf_en = hashingTF.transform(df_en)\n",
    "\n",
    "tf_en.cache()\n",
    "idf_en = IDF(inputCol=\"tf\", outputCol=\"idf\").fit(tf_en)\n",
    "tfidf_en = idf.transform(tf_en)\n",
    "tfidf_en.cache()"
   ]
  },
  {
   "cell_type": "code",
   "execution_count": 59,
   "metadata": {},
   "outputs": [
    {
     "data": {
      "text/plain": [
       "DataFrame[cat: string, desc: string, id: bigint, lang: string, name: string, provider: string, words: array<string>, words_filtered: array<string>, tf: vector, idf: vector]"
      ]
     },
     "execution_count": 59,
     "metadata": {},
     "output_type": "execute_result"
    }
   ],
   "source": [
    "hashingTF = HashingTF(inputCol=\"words_filtered\", outputCol=\"tf\")\n",
    "tf_es = hashingTF.transform(df_es)\n",
    "\n",
    "tf_es.cache()\n",
    "idf_es = IDF(inputCol=\"tf\", outputCol=\"idf\").fit(tf_es)\n",
    "tfidf_es = idf.transform(tf_es)\n",
    "tfidf_es.cache()"
   ]
  },
  {
   "cell_type": "code",
   "execution_count": 60,
   "metadata": {},
   "outputs": [
    {
     "data": {
      "text/plain": [
       "DataFrame[cat: string, desc: string, id: bigint, lang: string, name: string, provider: string, words: array<string>, words_filtered: array<string>, tf: vector, idf: vector]"
      ]
     },
     "execution_count": 60,
     "metadata": {},
     "output_type": "execute_result"
    }
   ],
   "source": [
    "hashingTF = HashingTF(inputCol=\"words_filtered\", outputCol=\"tf\")\n",
    "tf_ru = hashingTF.transform(df_ru)\n",
    "\n",
    "tf_ru.cache()\n",
    "idf_ru = IDF(inputCol=\"tf\", outputCol=\"idf\").fit(tf_ru)\n",
    "tfidf_ru = idf.transform(tf_ru)\n",
    "tfidf_ru.cache()"
   ]
  },
  {
   "cell_type": "code",
   "execution_count": 61,
   "metadata": {},
   "outputs": [],
   "source": [
    "res_ids_en = []\n",
    "res_ids_es = []\n",
    "res_ids_ru = []\n",
    " \n",
    "for x in cources_for_res:\n",
    "    id = x[0]\n",
    "    if x[1] == 'en':\n",
    "        idf_v = tfidf_en.filter(f'id = {id}').select('idf').collect()[0][0]\n",
    "        res_ids_en.append((id, idf_v))\n",
    "    elif x[1] == 'es':\n",
    "        idf_v = tfidf_es.filter(f'id = {id}').select('idf').collect()[0][0]\n",
    "        res_ids_es.append((id, idf_v))\n",
    "    else:\n",
    "        idf_v = tfidf_ru.filter(f'id = {id}').select('idf').collect()[0][0]\n",
    "        res_ids_ru.append((id, idf_v))"
   ]
  },
  {
   "cell_type": "code",
   "execution_count": 62,
   "metadata": {},
   "outputs": [],
   "source": [
    "for id, idf_v in res_ids_en:\n",
    "    if idf_v.norm(2) == 0:\n",
    "        print(id)\n",
    "    cos = udf(lambda x: float(idf_v.dot(x) / (idf_v.norm(2) * x.norm(2))), FloatType())\n",
    "    tfidf_en = tfidf_en.withColumn(f'cos_{id}', cos(F.col('idf')))"
   ]
  },
  {
   "cell_type": "code",
   "execution_count": 64,
   "metadata": {},
   "outputs": [],
   "source": [
    "for id, idf_v in res_ids_es:\n",
    "    if idf_v.norm(2) == 0:\n",
    "        print(id)\n",
    "    cos = udf(lambda x: float(idf_v.dot(x) / (idf_v.norm(2) * x.norm(2))), FloatType())\n",
    "    tfidf_es = tfidf_es.withColumn(f'cos_{id}', cos(F.col('idf')))"
   ]
  },
  {
   "cell_type": "code",
   "execution_count": 66,
   "metadata": {},
   "outputs": [],
   "source": [
    "for id, idf_v in res_ids_ru:\n",
    "    if idf_v.norm(2) == 0:\n",
    "        print(id)\n",
    "    cos = udf(lambda x: float(idf_v.dot(x) / (idf_v.norm(2) * x.norm(2))), FloatType())\n",
    "    tfidf_ru = tfidf_ru.withColumn(f'cos_{id}', cos(F.col('idf')))"
   ]
  },
  {
   "cell_type": "code",
   "execution_count": 67,
   "metadata": {},
   "outputs": [],
   "source": [
    "tfidf_en = tfidf_en.withColumn('norm2', norm2(F.col('idf')))\n",
    "tfidf_en = tfidf_en.filter(F.col('norm2') != 0)\n",
    "\n",
    "tfidf_es = tfidf_es.withColumn('norm2', norm2(F.col('idf')))\n",
    "tfidf_es = tfidf_es.filter(F.col('norm2') != 0)\n",
    "\n",
    "tfidf_ru = tfidf_ru.withColumn('norm2', norm2(F.col('idf')))\n",
    "tfidf_ru = tfidf_ru.filter(F.col('norm2') != 0)"
   ]
  },
  {
   "cell_type": "code",
   "execution_count": 70,
   "metadata": {},
   "outputs": [],
   "source": [
    "res = dict()"
   ]
  },
  {
   "cell_type": "code",
   "execution_count": 71,
   "metadata": {},
   "outputs": [
    {
     "name": "stdout",
     "output_type": "stream",
     "text": [
      "+-----+----------+\n",
      "|   id| cos_23126|\n",
      "+-----+----------+\n",
      "|23126|       1.0|\n",
      "|14760| 0.6735877|\n",
      "|13665| 0.6418198|\n",
      "|13782|0.63236856|\n",
      "|15909|0.45687088|\n",
      "|25782|0.31653267|\n",
      "|17499| 0.2987613|\n",
      "|19270|   0.28898|\n",
      "|13348|0.28562516|\n",
      "|25071| 0.2473614|\n",
      "| 7153|0.23640837|\n",
      "+-----+----------+\n",
      "\n",
      "[14760, 13665, 13782, 15909, 25782, 17499, 19270, 13348, 25071, 7153]\n",
      "+-----+----------+\n",
      "|   id| cos_21617|\n",
      "+-----+----------+\n",
      "|21609|       1.0|\n",
      "|21617|       1.0|\n",
      "|21616|0.49029008|\n",
      "|22298| 0.4733144|\n",
      "|21608|0.47302905|\n",
      "|21628|0.45244095|\n",
      "|21630|0.45244095|\n",
      "|21623| 0.4457215|\n",
      "|21081|0.44166374|\n",
      "|19417|0.43981743|\n",
      "|21624|0.43226188|\n",
      "+-----+----------+\n",
      "\n",
      "[21609, 21616, 22298, 21608, 21628, 21630, 21623, 21081, 19417, 21624]\n"
     ]
    }
   ],
   "source": [
    "\n",
    "for id, _ in res_ids_en:\n",
    "    top11 = tfidf_en.orderBy(f'cos_{id}', ascending=False).limit(11).select('id', f'cos_{id}').cache()\n",
    "    top11.show()\n",
    "    top11_data = top11.collect()\n",
    "    top11.unpersist()\n",
    "    top10 = [x.id for x in top11_data if x.id != id]\n",
    "    print(top10)\n",
    "    res[str(id)] = top10"
   ]
  },
  {
   "cell_type": "code",
   "execution_count": 72,
   "metadata": {},
   "outputs": [
    {
     "name": "stdout",
     "output_type": "stream",
     "text": [
      "+-----+----------+\n",
      "|   id| cos_16627|\n",
      "+-----+----------+\n",
      "|16627|       1.0|\n",
      "|11431|  0.655696|\n",
      "|12247| 0.5208319|\n",
      "|17964| 0.5011261|\n",
      "|11575|0.49228275|\n",
      "|12660|0.48544678|\n",
      "| 5687| 0.4791413|\n",
      "|25010|0.47385496|\n",
      "| 5558| 0.4738044|\n",
      "|10738| 0.4723437|\n",
      "|17961| 0.4721328|\n",
      "+-----+----------+\n",
      "\n",
      "[11431, 12247, 17964, 11575, 12660, 5687, 25010, 5558, 10738, 17961]\n",
      "+-----+----------+\n",
      "|   id| cos_11556|\n",
      "+-----+----------+\n",
      "|11556|       1.0|\n",
      "|16488|0.48849323|\n",
      "|13461| 0.4322609|\n",
      "|  468|0.43003628|\n",
      "|23357|0.42081407|\n",
      "|19330|0.38868964|\n",
      "| 7833| 0.3867411|\n",
      "| 9289|0.38331467|\n",
      "|16929|0.37522885|\n",
      "|22710|0.37061185|\n",
      "|10447| 0.3696478|\n",
      "+-----+----------+\n",
      "\n",
      "[16488, 13461, 468, 23357, 19330, 7833, 9289, 16929, 22710, 10447]\n"
     ]
    }
   ],
   "source": [
    "\n",
    "for id, _ in res_ids_es:\n",
    "    top11 = tfidf_es.orderBy(f'cos_{id}', ascending=False).limit(11).select('id', f'cos_{id}').cache()\n",
    "    top11.show()\n",
    "    top11_data = top11.collect()\n",
    "    top11.unpersist()\n",
    "    top10 = [x.id for x in top11_data if x.id != id]\n",
    "    print(top10)\n",
    "    res[str(id)] = top10"
   ]
  },
  {
   "cell_type": "code",
   "execution_count": 73,
   "metadata": {},
   "outputs": [
    {
     "name": "stdout",
     "output_type": "stream",
     "text": [
      "+-----+----------+\n",
      "|   id| cos_16704|\n",
      "+-----+----------+\n",
      "|16704|       1.0|\n",
      "| 1247|0.18616317|\n",
      "| 1236|0.18573165|\n",
      "| 1228|0.16142292|\n",
      "| 1365|0.15735969|\n",
      "| 1164|0.15335916|\n",
      "| 1273|0.14504014|\n",
      "|20288|0.14504014|\n",
      "| 1233|0.14204966|\n",
      "| 8203|0.13480455|\n",
      "| 8186|0.13441549|\n",
      "+-----+----------+\n",
      "\n",
      "[1247, 1236, 1228, 1365, 1164, 1273, 20288, 1233, 8203, 8186]\n",
      "+-----+-----------+\n",
      "|   id|  cos_13702|\n",
      "+-----+-----------+\n",
      "|  864|        1.0|\n",
      "|13702|        1.0|\n",
      "|21079| 0.13550484|\n",
      "| 8313|0.105693325|\n",
      "| 8123| 0.09601235|\n",
      "| 1041| 0.08766277|\n",
      "|28074| 0.08516081|\n",
      "|13057| 0.08026643|\n",
      "|21987|0.077369004|\n",
      "| 1033|0.068252556|\n",
      "|17076| 0.06614203|\n",
      "+-----+-----------+\n",
      "\n",
      "[864, 21079, 8313, 8123, 1041, 28074, 13057, 21987, 1033, 17076]\n"
     ]
    }
   ],
   "source": [
    "\n",
    "for id, _ in res_ids_ru:\n",
    "    top11 = tfidf_ru.orderBy(f'cos_{id}', ascending=False).limit(11).select('id', f'cos_{id}').cache()\n",
    "    top11.show()\n",
    "    top11_data = top11.collect()\n",
    "    top11.unpersist()\n",
    "    top10 = [x.id for x in top11_data if x.id != id]\n",
    "    print(top10)\n",
    "    res[str(id)] = top10"
   ]
  },
  {
   "cell_type": "code",
   "execution_count": 74,
   "metadata": {},
   "outputs": [],
   "source": [
    "import json\n",
    "\n",
    "\n",
    "with open('lab02.json', 'w') as f:\n",
    "    json.dump(res, f)"
   ]
  },
  {
   "cell_type": "code",
   "execution_count": null,
   "metadata": {},
   "outputs": [],
   "source": []
  },
  {
   "cell_type": "code",
   "execution_count": null,
   "metadata": {},
   "outputs": [],
   "source": []
  },
  {
   "cell_type": "code",
   "execution_count": 62,
   "metadata": {},
   "outputs": [],
   "source": [
    "\n",
    "spark.stop()"
   ]
  },
  {
   "cell_type": "code",
   "execution_count": null,
   "metadata": {},
   "outputs": [],
   "source": []
  }
 ],
 "metadata": {
  "kernelspec": {
   "display_name": "Python 3",
   "language": "python",
   "name": "python3"
  },
  "language_info": {
   "codemirror_mode": {
    "name": "ipython",
    "version": 3
   },
   "file_extension": ".py",
   "mimetype": "text/x-python",
   "name": "python",
   "nbconvert_exporter": "python",
   "pygments_lexer": "ipython3",
   "version": "3.6.5"
  }
 },
 "nbformat": 4,
 "nbformat_minor": 2
}
