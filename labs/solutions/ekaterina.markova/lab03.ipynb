{
 "cells": [
  {
   "cell_type": "code",
   "execution_count": 1,
   "metadata": {},
   "outputs": [],
   "source": [
    "import os\n",
    "import sys\n",
    "import json"
   ]
  },
  {
   "cell_type": "code",
   "execution_count": 2,
   "metadata": {},
   "outputs": [],
   "source": [
    "import os\n",
    "import sys\n",
    "os.environ[\"PYSPARK_PYTHON\"]='/opt/anaconda/envs/bd9/bin/python'\n",
    "os.environ[\"SPARK_HOME\"]='/usr/hdp/current/spark2-client'\n",
    "os.environ[\"PYSPARK_SUBMIT_ARGS\"]='--num-executors 5 --executor-memory 4g --executor-cores 1 --driver-memory 2g pyspark-shell'\n",
    "\n",
    "spark_home = os.environ.get('SPARK_HOME', None)\n",
    "\n",
    "sys.path.insert(0, os.path.join(spark_home, 'python'))\n",
    "sys.path.insert(0, os.path.join(spark_home, 'python/lib/py4j-0.10.7-src.zip'))"
   ]
  },
  {
   "cell_type": "code",
   "execution_count": 3,
   "metadata": {},
   "outputs": [],
   "source": [
    "from pyspark import SparkConf\n",
    "from pyspark.sql import SparkSession\n",
    "\n",
    "conf = SparkConf()\n",
    "conf.set(\"spark.app.name\", \"Markova-E\") \n",
    "\n",
    "spark = SparkSession.builder.config(conf=conf).getOrCreate()"
   ]
  },
  {
   "cell_type": "code",
   "execution_count": 4,
   "metadata": {},
   "outputs": [],
   "source": [
    "from pyspark.sql import SparkSession\n",
    "from pyspark.sql.types import StructType, StructField, StringType, IntegerType\n",
    "from pyspark.sql.types import ArrayType, DoubleType, BooleanType, FloatType\n",
    "from pyspark.sql.functions import col, array_contains"
   ]
  },
  {
   "cell_type": "code",
   "execution_count": 5,
   "metadata": {},
   "outputs": [],
   "source": [
    "schema = StructType() \\\n",
    "    .add(\"user_id\", IntegerType(), True) \\\n",
    "    .add(\"item_id\", IntegerType(), True) \\\n",
    "    .add(\"purchase\", IntegerType(), True) \\\n",
    "\n",
    "df_user = spark.read.format(\"csv\") \\\n",
    "    .option(\"header\", True) \\\n",
    "    .schema(schema) \\\n",
    "    .load(\"/labs/slaba03/laba03_train.csv\")\n"
   ]
  },
  {
   "cell_type": "code",
   "execution_count": 6,
   "metadata": {},
   "outputs": [
    {
     "name": "stdout",
     "output_type": "stream",
     "text": [
      "+-------+-------+--------+\n",
      "|user_id|item_id|purchase|\n",
      "+-------+-------+--------+\n",
      "|   1654|   9897|       1|\n",
      "|   1654|   7394|       1|\n",
      "|   1654|   9064|       1|\n",
      "|   1654|  73216|       1|\n",
      "|   1654|  88816|       1|\n",
      "+-------+-------+--------+\n",
      "only showing top 5 rows\n",
      "\n"
     ]
    }
   ],
   "source": [
    "df_user.filter(\"purchase == 1\").show(5)"
   ]
  },
  {
   "cell_type": "code",
   "execution_count": 7,
   "metadata": {},
   "outputs": [],
   "source": [
    "schema_test = StructType() \\\n",
    "    .add(\"user_id\", IntegerType(), True) \\\n",
    "    .add(\"item_id\", IntegerType(), True) \\\n",
    "\n",
    "\n",
    "df_user_test = spark.read.format(\"csv\") \\\n",
    "    .option(\"header\", True) \\\n",
    "    .schema(schema_test) \\\n",
    "    .load(\"/labs/slaba03/laba03_test.csv\")\n"
   ]
  },
  {
   "cell_type": "code",
   "execution_count": 8,
   "metadata": {},
   "outputs": [
    {
     "name": "stdout",
     "output_type": "stream",
     "text": [
      "+-------+-------+\n",
      "|user_id|item_id|\n",
      "+-------+-------+\n",
      "|   1654|  94814|\n",
      "|   1654|  93629|\n",
      "|   1654|   9980|\n",
      "|   1654|  95099|\n",
      "|   1654|  11265|\n",
      "+-------+-------+\n",
      "only showing top 5 rows\n",
      "\n"
     ]
    }
   ],
   "source": [
    "df_user_test.show(5)"
   ]
  },
  {
   "cell_type": "code",
   "execution_count": 9,
   "metadata": {},
   "outputs": [],
   "source": [
    "items_schema = StructType(fields = [StructField('item_id', IntegerType()),\n",
    "StructField('channel_id', IntegerType()),\n",
    "StructField('datetime_availability_start', StringType()),                                    \n",
    "StructField('datetime_availability_stop', StringType()), \n",
    "StructField('datetime_show_start', StringType()),\n",
    "StructField('datetime_show_stop', StringType()), \n",
    "StructField('content_type', IntegerType()),                                   \n",
    "StructField('title', StringType(), nullable=True),  \n",
    "StructField('year', FloatType(), nullable=True), \n",
    "StructField('genres', StringType()), \n",
    "StructField('region_id', IntegerType()),                    \n",
    "]) \n",
    "\n",
    "\n",
    "\n",
    "df_items = spark.read.format(\"csv\") \\\n",
    "    .option(\"header\", True) \\\n",
    "    .option(\"sep\", \"\\t\") \\\n",
    "    .schema(items_schema) \\\n",
    "    .load(\"/labs/slaba03/laba03_items.csv\")\n"
   ]
  },
  {
   "cell_type": "code",
   "execution_count": 10,
   "metadata": {},
   "outputs": [
    {
     "name": "stdout",
     "output_type": "stream",
     "text": [
      "+-------+----------+---------------------------+--------------------------+-------------------+------------------+------------+--------------------------------------------------------+------+-------+---------+\n",
      "|item_id|channel_id|datetime_availability_start|datetime_availability_stop|datetime_show_start|datetime_show_stop|content_type|title                                                   |year  |genres |region_id|\n",
      "+-------+----------+---------------------------+--------------------------+-------------------+------------------+------------+--------------------------------------------------------+------+-------+---------+\n",
      "|65667  |null      |1970-01-01T00:00:00Z       |2018-01-01T00:00:00Z      |null               |null              |1           |на пробах только девушки (all girl auditions)           |2013.0|Эротика|null     |\n",
      "|65669  |null      |1970-01-01T00:00:00Z       |2018-01-01T00:00:00Z      |null               |null              |1           |скуби ду: эротическая пародия (scooby doo: a xxx parody)|2011.0|Эротика|null     |\n",
      "+-------+----------+---------------------------+--------------------------+-------------------+------------------+------------+--------------------------------------------------------+------+-------+---------+\n",
      "only showing top 2 rows\n",
      "\n"
     ]
    }
   ],
   "source": [
    "df_items.show(2,False,False)"
   ]
  },
  {
   "cell_type": "code",
   "execution_count": 11,
   "metadata": {},
   "outputs": [],
   "source": [
    "views_schema = StructType(fields = [StructField('user_id', IntegerType()),\n",
    "StructField('item_id', IntegerType()),\n",
    "StructField('ts_start', IntegerType()),\n",
    "StructField('ts_end', IntegerType()),\n",
    "StructField('item_type', StringType()),\n",
    "]) \n",
    "\n",
    "\n",
    "\n",
    "df_views_programmes = spark.read.format(\"csv\") \\\n",
    "    .option(\"header\", True) \\\n",
    "    .schema(views_schema) \\\n",
    "    .load(\"/labs/slaba03/laba03_views_programmes.csv\")\n"
   ]
  },
  {
   "cell_type": "code",
   "execution_count": 12,
   "metadata": {},
   "outputs": [
    {
     "data": {
      "text/plain": [
       "20845607"
      ]
     },
     "execution_count": 12,
     "metadata": {},
     "output_type": "execute_result"
    }
   ],
   "source": [
    "df_views_programmes.count()"
   ]
  },
  {
   "cell_type": "code",
   "execution_count": 14,
   "metadata": {},
   "outputs": [],
   "source": [
    "df_user_u = df_user.groupBy(\"user_id\").mean(\"purchase\").coalesce(10).cache()"
   ]
  },
  {
   "cell_type": "code",
   "execution_count": 15,
   "metadata": {},
   "outputs": [],
   "source": [
    "df_user_i = df_user.groupBy(\"item_id\").mean(\"purchase\").coalesce(10)"
   ]
  },
  {
   "cell_type": "code",
   "execution_count": 16,
   "metadata": {},
   "outputs": [],
   "source": [
    "test = df_user_test.join(df_user_u, on = \"user_id\", how = \"outer\").coalesce(10).withColumnRenamed(\"avg(purchase)\", \"avg_u\").cache()"
   ]
  },
  {
   "cell_type": "code",
   "execution_count": 17,
   "metadata": {},
   "outputs": [],
   "source": [
    "test = test.join(df_user_i, on = \"item_id\", how = \"outer\").coalesce(10).withColumnRenamed(\"avg(purchase)\", \"avg_i\").cache()"
   ]
  },
  {
   "cell_type": "code",
   "execution_count": 18,
   "metadata": {},
   "outputs": [
    {
     "name": "stdout",
     "output_type": "stream",
     "text": [
      "+-------+-------+--------------------+--------------------+\n",
      "|item_id|user_id|               avg_u|               avg_i|\n",
      "+-------+-------+--------------------+--------------------+\n",
      "|   8389| 642397|3.822629969418960...|0.005979073243647235|\n",
      "|   8389| 852680|3.858024691358024...|0.005979073243647235|\n",
      "|   8389| 929653|                 0.0|0.005979073243647235|\n",
      "|   8389| 932999|3.898635477582846E-4|0.005979073243647235|\n",
      "|   8389| 871154|                 0.0|0.005979073243647235|\n",
      "+-------+-------+--------------------+--------------------+\n",
      "only showing top 5 rows\n",
      "\n"
     ]
    }
   ],
   "source": [
    "test.show(5)"
   ]
  },
  {
   "cell_type": "code",
   "execution_count": 19,
   "metadata": {},
   "outputs": [],
   "source": [
    "from pyspark.sql.window import Window\n",
    "from pyspark.sql import functions as f"
   ]
  },
  {
   "cell_type": "code",
   "execution_count": 20,
   "metadata": {},
   "outputs": [],
   "source": [
    "w = Window.partitionBy('user_id')\n",
    "ww = Window.partitionBy('item_id')"
   ]
  },
  {
   "cell_type": "code",
   "execution_count": 21,
   "metadata": {},
   "outputs": [],
   "source": [
    "df_user_mean = df_user.withColumn(\"avg_u\", f.avg(\"purchase\").over(w)).withColumn(\"avg_i\", f.avg(\"purchase\").over(ww)).coalesce(10).cache()"
   ]
  },
  {
   "cell_type": "code",
   "execution_count": 22,
   "metadata": {},
   "outputs": [
    {
     "data": {
      "text/plain": [
       "DataFrame[user_id: int, item_id: int]"
      ]
     },
     "execution_count": 22,
     "metadata": {},
     "output_type": "execute_result"
    }
   ],
   "source": [
    "df_user_test"
   ]
  },
  {
   "cell_type": "code",
   "execution_count": 23,
   "metadata": {},
   "outputs": [
    {
     "name": "stdout",
     "output_type": "stream",
     "text": [
      "+-------+-------+--------+--------------------+--------------------+\n",
      "|user_id|item_id|purchase|               avg_u|               avg_i|\n",
      "+-------+-------+--------+--------------------+--------------------+\n",
      "| 797350|   8389|       0|                 0.0|0.005979073243647235|\n",
      "| 848246|   8389|       0|0.005838847800700...|0.005979073243647235|\n",
      "| 902359|   8389|       0|0.002337358784573432|0.005979073243647235|\n",
      "| 868695|   8389|       0|3.894080996884735E-4|0.005979073243647235|\n",
      "| 905722|   8389|       0|3.859513701273639...|0.005979073243647235|\n",
      "| 915444|   8389|       0|3.849114703618167...|0.005979073243647235|\n",
      "| 921046|   8389|       0|0.002736512900703675|0.005979073243647235|\n",
      "| 926143|   8389|       0|3.843197540353574E-4|0.005979073243647235|\n",
      "| 776138|   8389|       0|                0.01|0.005979073243647235|\n",
      "| 833838|   8389|       0|0.005740528128587...|0.005979073243647235|\n",
      "| 865948|   8389|       0|3.821169277799006...|0.005979073243647235|\n",
      "| 868207|   8389|       0|3.927729772191673...|0.005979073243647235|\n",
      "| 896115|   8389|       0|0.004224270353302612|0.005979073243647235|\n",
      "| 899680|   8389|       0|3.802281368821292...|0.005979073243647235|\n",
      "| 902417|   8389|       0|3.846153846153846E-4|0.005979073243647235|\n",
      "| 936094|   8389|       0|0.004265219077161691|0.005979073243647235|\n",
      "| 746917|   8389|       0|3.822629969418960...|0.005979073243647235|\n",
      "| 781373|   8389|       0|3.815337657382678...|0.005979073243647235|\n",
      "| 797639|   8389|       0|                 0.0|0.005979073243647235|\n",
      "| 890635|   8389|       0|0.001148545176110...|0.005979073243647235|\n",
      "+-------+-------+--------+--------------------+--------------------+\n",
      "only showing top 20 rows\n",
      "\n"
     ]
    }
   ],
   "source": [
    "df_user_mean.show()"
   ]
  },
  {
   "cell_type": "code",
   "execution_count": 26,
   "metadata": {},
   "outputs": [],
   "source": [
    "from pyspark.ml.classification import GBTClassifier\n",
    "gbt = GBTClassifier(featuresCol=\"features\", labelCol=\"purchase\")"
   ]
  },
  {
   "cell_type": "code",
   "execution_count": 27,
   "metadata": {},
   "outputs": [],
   "source": [
    "from pyspark.ml import Pipeline"
   ]
  },
  {
   "cell_type": "code",
   "execution_count": 28,
   "metadata": {},
   "outputs": [],
   "source": [
    "from pyspark.ml.feature import VectorAssembler"
   ]
  },
  {
   "cell_type": "code",
   "execution_count": 29,
   "metadata": {},
   "outputs": [],
   "source": [
    "assembler = VectorAssembler(inputCols=[\"avg_u\", \"avg_i\"], outputCol=\"features\")"
   ]
  },
  {
   "cell_type": "code",
   "execution_count": 30,
   "metadata": {},
   "outputs": [],
   "source": [
    "pipeline = Pipeline(stages=[\n",
    "    assembler,\n",
    "    gbt\n",
    "])"
   ]
  },
  {
   "cell_type": "code",
   "execution_count": 31,
   "metadata": {},
   "outputs": [],
   "source": [
    "pipeline_model = pipeline.fit(df_user_mean)"
   ]
  },
  {
   "cell_type": "code",
   "execution_count": 32,
   "metadata": {},
   "outputs": [],
   "source": [
    "predictions = pipeline_model.transform(test)"
   ]
  },
  {
   "cell_type": "code",
   "execution_count": 33,
   "metadata": {},
   "outputs": [
    {
     "name": "stdout",
     "output_type": "stream",
     "text": [
      "+-------+-------+--------------------+--------------------+--------------------+--------------------+--------------------+----------+\n",
      "|item_id|user_id|               avg_u|               avg_i|            features|       rawPrediction|         probability|prediction|\n",
      "+-------+-------+--------------------+--------------------+--------------------+--------------------+--------------------+----------+\n",
      "|   8389| 642397|3.822629969418960...|0.005979073243647235|[3.82262996941896...|[1.53665480755936...|[0.95577826836632...|       0.0|\n",
      "|   8389| 852680|3.858024691358024...|0.005979073243647235|[3.85802469135802...|[1.53665480755936...|[0.95577826836632...|       0.0|\n",
      "|   8389| 929653|                 0.0|0.005979073243647235|[0.0,0.0059790732...|[1.53665480755936...|[0.95577826836632...|       0.0|\n",
      "|   8389| 932999|3.898635477582846E-4|0.005979073243647235|[3.89863547758284...|[1.53665480755936...|[0.95577826836632...|       0.0|\n",
      "|   8389| 871154|                 0.0|0.005979073243647235|[0.0,0.0059790732...|[1.53665480755936...|[0.95577826836632...|       0.0|\n",
      "|   8389| 871348|0.001156069364161...|0.005979073243647235|[0.00115606936416...|[1.51938235968457...|[0.95429498135448...|       0.0|\n",
      "|   8389| 898782|3.889537145079735...|0.005979073243647235|[3.88953714507973...|[1.53665480755936...|[0.95577826836632...|       0.0|\n",
      "|   8389| 788843|0.002320185614849188|0.005979073243647235|[0.00232018561484...|[1.50525345907846...|[0.95304654352610...|       0.0|\n",
      "|   8389| 802251|3.910833007430582...|0.005979073243647235|[3.91083300743058...|[1.53665480755936...|[0.95577826836632...|       0.0|\n",
      "|   8389| 822464|3.881987577639751...|0.005979073243647235|[3.88198757763975...|[1.53665480755936...|[0.95577826836632...|       0.0|\n",
      "|   8389| 845816|                 0.0|0.005979073243647235|[0.0,0.0059790732...|[1.53665480755936...|[0.95577826836632...|       0.0|\n",
      "|   8389| 921039|0.013444049031237644|0.005979073243647235|[0.01344404903123...|[1.21590505801772...|[0.91922104266364...|       0.0|\n",
      "|   8389| 765731|0.001936483346243...|0.005979073243647235|[0.00193648334624...|[1.50784036302531...|[0.95327752344629...|       0.0|\n",
      "|   8389| 816738|0.009954058192955589|0.005979073243647235|[0.00995405819295...|[1.39086153673847...|[0.94168014537385...|       0.0|\n",
      "|   8389| 852240|0.001543209876543...|0.005979073243647235|[0.00154320987654...|[1.51684232412190...|[0.95407289655613...|       0.0|\n",
      "|   8389| 892101|0.001532567049808...|0.005979073243647235|[0.00153256704980...|[1.51684232412190...|[0.95407289655613...|       0.0|\n",
      "|   8389| 927415|0.007268553940321...|0.005979073243647235|[0.00726855394032...|[1.42944123615822...|[0.94577601705887...|       0.0|\n",
      "|   8389| 877001|                 0.0|0.005979073243647235|[0.0,0.0059790732...|[1.53665480755936...|[0.95577826836632...|       0.0|\n",
      "|   8389| 882882| 7.77302759424796E-4|0.005979073243647235|[7.77302759424796...|[1.52848164621163...|[0.95508220150415...|       0.0|\n",
      "|   8389| 887345|7.710100231303007E-4|0.005979073243647235|[7.71010023130300...|[1.52848164621163...|[0.95508220150415...|       0.0|\n",
      "+-------+-------+--------------------+--------------------+--------------------+--------------------+--------------------+----------+\n",
      "only showing top 20 rows\n",
      "\n"
     ]
    }
   ],
   "source": [
    "predictions.show()"
   ]
  },
  {
   "cell_type": "code",
   "execution_count": 34,
   "metadata": {},
   "outputs": [],
   "source": [
    "from pyspark.sql.types import DoubleType\n",
    "from pyspark.sql.functions import lit, udf\n",
    "\n",
    "def ith_(v, i):\n",
    "    try:\n",
    "        return float(v[i])\n",
    "    except ValueError:\n",
    "        return None\n",
    "\n",
    "ith = udf(ith_, DoubleType())"
   ]
  },
  {
   "cell_type": "code",
   "execution_count": 35,
   "metadata": {},
   "outputs": [],
   "source": [
    "firstelement=udf(lambda v:float(v[1]),FloatType())"
   ]
  },
  {
   "cell_type": "code",
   "execution_count": 36,
   "metadata": {},
   "outputs": [
    {
     "name": "stdout",
     "output_type": "stream",
     "text": [
      "+-------+-------+--------------------+\n",
      "|item_id|user_id|         probability|\n",
      "+-------+-------+--------------------+\n",
      "|   8389| 642397|[0.95577826836632...|\n",
      "|   8389| 852680|[0.95577826836632...|\n",
      "|   8389| 929653|[0.95577826836632...|\n",
      "|   8389| 932999|[0.95577826836632...|\n",
      "|   8389| 871154|[0.95577826836632...|\n",
      "+-------+-------+--------------------+\n",
      "only showing top 5 rows\n",
      "\n"
     ]
    }
   ],
   "source": [
    " predictions.select(\"item_id\", \"user_id\", \"probability\").show(5)"
   ]
  },
  {
   "cell_type": "code",
   "execution_count": 37,
   "metadata": {},
   "outputs": [],
   "source": [
    "res = predictions.select(\"user_id\", \"item_id\", firstelement(\"probability\").alias(\"purchase\")).coalesce(1).cache()"
   ]
  },
  {
   "cell_type": "code",
   "execution_count": 38,
   "metadata": {},
   "outputs": [
    {
     "name": "stdout",
     "output_type": "stream",
     "text": [
      "+-------+-------+-----------+\n",
      "|user_id|item_id|   purchase|\n",
      "+-------+-------+-----------+\n",
      "| 642397|   8389|0.044221733|\n",
      "| 852680|   8389|0.044221733|\n",
      "| 929653|   8389|0.044221733|\n",
      "| 932999|   8389|0.044221733|\n",
      "| 871154|   8389|0.044221733|\n",
      "+-------+-------+-----------+\n",
      "only showing top 5 rows\n",
      "\n"
     ]
    }
   ],
   "source": [
    "res.show(5)"
   ]
  },
  {
   "cell_type": "code",
   "execution_count": 39,
   "metadata": {},
   "outputs": [
    {
     "name": "stdout",
     "output_type": "stream",
     "text": [
      "+-------+-------+-----------+\n",
      "|user_id|item_id|   purchase|\n",
      "+-------+-------+-----------+\n",
      "|   1654|    336|0.043943133|\n",
      "|   1654|    678|0.043943133|\n",
      "|   1654|    691|0.043943133|\n",
      "|   1654|    696| 0.04407389|\n",
      "+-------+-------+-----------+\n",
      "only showing top 4 rows\n",
      "\n"
     ]
    }
   ],
   "source": [
    "res1 = res.orderBy(\"user_id\", \"item_id\")\n",
    "res1.show(4)"
   ]
  },
  {
   "cell_type": "code",
   "execution_count": 47,
   "metadata": {},
   "outputs": [],
   "source": [
    "t=res1.toPandas()"
   ]
  },
  {
   "cell_type": "code",
   "execution_count": 9,
   "metadata": {},
   "outputs": [],
   "source": [
    "!hdfs dfs -get lab05.csv"
   ]
  },
  {
   "cell_type": "code",
   "execution_count": null,
   "metadata": {},
   "outputs": [],
   "source": []
  }
 ],
 "metadata": {
  "kernelspec": {
   "display_name": "Python 3",
   "language": "python",
   "name": "python3"
  },
  "language_info": {
   "codemirror_mode": {
    "name": "ipython",
    "version": 3
   },
   "file_extension": ".py",
   "mimetype": "text/x-python",
   "name": "python",
   "nbconvert_exporter": "python",
   "pygments_lexer": "ipython3",
   "version": "3.6.5"
  }
 },
 "nbformat": 4,
 "nbformat_minor": 2
}
