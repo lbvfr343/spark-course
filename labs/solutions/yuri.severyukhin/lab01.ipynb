{
 "cells": [
  {
   "cell_type": "code",
   "execution_count": null,
   "metadata": {},
   "outputs": [],
   "source": [
    "import os\n",
    "import sys\n",
    "os.environ[\"PYSPARK_PYTHON\"]='/opt/anaconda/envs/bd9/bin/python'\n",
    "os.environ[\"SPARK_HOME\"]='/usr/hdp/current/spark2-client'\n",
    "os.environ[\"PYSPARK_SUBMIT_ARGS\"]='--num-executors 2 pyspark-shell'\n",
    "\n",
    "spark_home = os.environ.get('SPARK_HOME', None)\n",
    "if not spark_home:\n",
    "    raise ValueError('SPARK_HOME environment variable is not set')\n",
    "\n",
    "sys.path.insert(0, os.path.join(spark_home, 'python'))\n",
    "sys.path.insert(0, os.path.join(spark_home, 'python/lib/py4j-0.10.7-src.zip'))\n",
    "exec(open(os.path.join(spark_home, 'python/pyspark/shell.py')).read())"
   ]
  },
  {
   "cell_type": "code",
   "execution_count": null,
   "metadata": {},
   "outputs": [],
   "source": [
    "from pyspark import SparkConf\n",
    "from pyspark.sql import SparkSession\n",
    "from pyspark.sql import functions as F\n",
    "from pyspark.sql.types import *\n",
    "from pyspark import Row\n",
    "import json\n",
    "\n",
    "conf = SparkConf()\n",
    "\n",
    "spark = (SparkSession\n",
    "         .builder\n",
    "         .config(conf=conf)\n",
    "         .appName(\"test\")\n",
    "         .getOrCreate())"
   ]
  },
  {
   "cell_type": "code",
   "execution_count": null,
   "metadata": {},
   "outputs": [],
   "source": [
    "\n",
    "#Create RDD from external Data source\n",
    "rdd2 = spark.sparkContext.textFile(\"/labs/laba01/ml-100k/u.data\").map(lambda x: x.split(\"\\t\"))\n",
    "\n",
    "rdd3 = rdd2.map(lambda x: x[1:3])\n",
    "\n",
    "rdd4 = rdd3.filter(lambda x: x[0] == '96')\n",
    "\n",
    "da= rdd3.map(lambda x: x[1]).countByKey()\n",
    "df= rdd4.map(lambda x: x[1]).countByKey()\n",
    "\n",
    "\n",
    "json = '{'+f'''\n",
    "   \"hist_film\": [  \n",
    "      {df['1']},\n",
    "      {df['2']},\n",
    "      {df['3']},\n",
    "      {df['4']},\n",
    "      {df['5']}\n",
    "   ],\n",
    "   \"hist_all\": [  \n",
    "      {da['1']},\n",
    "      {da['2']},\n",
    "      {da['3']},\n",
    "      {da['4']},\n",
    "      {da['5']}\n",
    "   ]'''+'}'\n",
    "\n",
    "f = open(\"lab01.json\", \"w\")\n",
    "f.write(json)\n",
    "f.close()"
   ]
  }
 ],
 "metadata": {
  "kernelspec": {
   "display_name": "Python 3",
   "language": "python",
   "name": "python3"
  },
  "language_info": {
   "codemirror_mode": {
    "name": "ipython",
    "version": 3
   },
   "file_extension": ".py",
   "mimetype": "text/x-python",
   "name": "python",
   "nbconvert_exporter": "python",
   "pygments_lexer": "ipython3",
   "version": "3.6.5"
  }
 },
 "nbformat": 4,
 "nbformat_minor": 2
}
