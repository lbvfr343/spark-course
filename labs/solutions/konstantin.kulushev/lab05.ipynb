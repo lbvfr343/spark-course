{
 "cells": [
  {
   "cell_type": "code",
   "execution_count": 111,
   "metadata": {},
   "outputs": [],
   "source": [
    "import org.apache.spark.sql.functions._\n",
    "import org.apache.spark.sql._\n",
    "import org.apache.spark.ml.feature.VectorAssembler\n",
    "import org.apache.spark.ml.linalg.Vectors\n",
    "import org.apache.spark.ml.linalg.DenseVector\n",
    "import org.apache.spark.ml.Pipeline\n",
    "import org.apache.spark.ml.classification.{GBTClassificationModel, GBTClassifier}"
   ]
  },
  {
   "cell_type": "code",
   "execution_count": 67,
   "metadata": {},
   "outputs": [
    {
     "data": {
      "text/plain": [
       "train = [_c0: int, ID: int ... 115 more fields]\n"
      ]
     },
     "metadata": {},
     "output_type": "display_data"
    },
    {
     "data": {
      "text/plain": [
       "[_c0: int, ID: int ... 115 more fields]"
      ]
     },
     "execution_count": 67,
     "metadata": {},
     "output_type": "execute_result"
    }
   ],
   "source": [
    "val train = spark.read\n",
    "        .options(Map(\"inferSchema\"->\"true\",\"delimiter\"->\",\",\"header\"->\"true\"))\n",
    "        .csv(\"/labs/slaba05/lab05_train.csv\")"
   ]
  },
  {
   "cell_type": "code",
   "execution_count": 66,
   "metadata": {},
   "outputs": [
    {
     "data": {
      "text/plain": [
       "test = [_c0: int, ID: int ... 114 more fields]\n"
      ]
     },
     "metadata": {},
     "output_type": "display_data"
    },
    {
     "data": {
      "text/plain": [
       "[_c0: int, ID: int ... 114 more fields]"
      ]
     },
     "execution_count": 66,
     "metadata": {},
     "output_type": "execute_result"
    }
   ],
   "source": [
    "val test = spark.read\n",
    "        .options(Map(\"inferSchema\"->\"true\",\"delimiter\"->\",\",\"header\"->\"true\"))\n",
    "        .csv(\"/labs/slaba05/lab05_test.csv\")"
   ]
  },
  {
   "cell_type": "markdown",
   "metadata": {},
   "source": [
    "TRAIN"
   ]
  },
  {
   "cell_type": "code",
   "execution_count": 8,
   "metadata": {},
   "outputs": [
    {
     "name": "stdout",
     "output_type": "stream",
     "text": [
      "root\n",
      " |-- _c0: integer (nullable = true)\n",
      " |-- ID: integer (nullable = true)\n",
      " |-- CR_PROD_CNT_IL: integer (nullable = true)\n",
      " |-- AMOUNT_RUB_CLO_PRC: double (nullable = true)\n",
      " |-- PRC_ACCEPTS_A_EMAIL_LINK: double (nullable = true)\n",
      " |-- APP_REGISTR_RGN_CODE: double (nullable = true)\n",
      " |-- PRC_ACCEPTS_A_POS: double (nullable = true)\n",
      " |-- PRC_ACCEPTS_A_TK: double (nullable = true)\n",
      " |-- TURNOVER_DYNAMIC_IL_1M: double (nullable = true)\n",
      " |-- CNT_TRAN_AUT_TENDENCY1M: double (nullable = true)\n",
      " |-- SUM_TRAN_AUT_TENDENCY1M: double (nullable = true)\n",
      " |-- AMOUNT_RUB_SUP_PRC: double (nullable = true)\n",
      " |-- PRC_ACCEPTS_A_AMOBILE: double (nullable = true)\n",
      " |-- SUM_TRAN_AUT_TENDENCY3M: double (nullable = true)\n",
      " |-- CLNT_TRUST_RELATION: string (nullable = true)\n",
      " |-- PRC_ACCEPTS_TK: double (nullable = true)\n",
      " |-- PRC_ACCEPTS_A_MTP: double (nullable = true)\n",
      " |-- REST_DYNAMIC_FDEP_1M: double (nullable = true)\n",
      " |-- CNT_TRAN_AUT_TENDENCY3M: double (nullable = true)\n",
      " |-- CNT_ACCEPTS_TK: double (nullable = true)\n",
      " |-- APP_MARITAL_STATUS: string (nullable = true)\n",
      " |-- REST_DYNAMIC_SAVE_3M: double (nullable = true)\n",
      " |-- CR_PROD_CNT_VCU: integer (nullable = true)\n",
      " |-- REST_AVG_CUR: double (nullable = true)\n",
      " |-- CNT_TRAN_MED_TENDENCY1M: double (nullable = true)\n",
      " |-- APP_KIND_OF_PROP_HABITATION: string (nullable = true)\n",
      " |-- CLNT_JOB_POSITION_TYPE: string (nullable = true)\n",
      " |-- AMOUNT_RUB_NAS_PRC: double (nullable = true)\n",
      " |-- CLNT_JOB_POSITION: string (nullable = true)\n",
      " |-- APP_DRIVING_LICENSE: string (nullable = true)\n",
      " |-- TRANS_COUNT_SUP_PRC: double (nullable = true)\n",
      " |-- APP_EDUCATION: string (nullable = true)\n",
      " |-- CNT_TRAN_CLO_TENDENCY1M: double (nullable = true)\n",
      " |-- SUM_TRAN_MED_TENDENCY1M: double (nullable = true)\n",
      " |-- PRC_ACCEPTS_A_ATM: double (nullable = true)\n",
      " |-- PRC_ACCEPTS_MTP: double (nullable = true)\n",
      " |-- TRANS_COUNT_NAS_PRC: double (nullable = true)\n",
      " |-- APP_TRAVEL_PASS: string (nullable = true)\n",
      " |-- CNT_ACCEPTS_MTP: double (nullable = true)\n",
      " |-- CR_PROD_CNT_TOVR: integer (nullable = true)\n",
      " |-- APP_CAR: string (nullable = true)\n",
      " |-- CR_PROD_CNT_PIL: integer (nullable = true)\n",
      " |-- SUM_TRAN_CLO_TENDENCY1M: double (nullable = true)\n",
      " |-- APP_POSITION_TYPE: string (nullable = true)\n",
      " |-- TURNOVER_CC: double (nullable = true)\n",
      " |-- TRANS_COUNT_ATM_PRC: double (nullable = true)\n",
      " |-- AMOUNT_RUB_ATM_PRC: double (nullable = true)\n",
      " |-- TURNOVER_PAYM: double (nullable = true)\n",
      " |-- AGE: integer (nullable = true)\n",
      " |-- CNT_TRAN_MED_TENDENCY3M: double (nullable = true)\n",
      " |-- CR_PROD_CNT_CC: integer (nullable = true)\n",
      " |-- SUM_TRAN_MED_TENDENCY3M: double (nullable = true)\n",
      " |-- REST_DYNAMIC_FDEP_3M: double (nullable = true)\n",
      " |-- REST_DYNAMIC_IL_1M: double (nullable = true)\n",
      " |-- APP_EMP_TYPE: string (nullable = true)\n",
      " |-- SUM_TRAN_CLO_TENDENCY3M: double (nullable = true)\n",
      " |-- LDEAL_TENOR_MAX: double (nullable = true)\n",
      " |-- LDEAL_YQZ_CHRG: double (nullable = true)\n",
      " |-- CR_PROD_CNT_CCFP: integer (nullable = true)\n",
      " |-- DEAL_YQZ_IR_MAX: double (nullable = true)\n",
      " |-- LDEAL_YQZ_COM: double (nullable = true)\n",
      " |-- DEAL_YQZ_IR_MIN: double (nullable = true)\n",
      " |-- CNT_TRAN_CLO_TENDENCY3M: double (nullable = true)\n",
      " |-- REST_DYNAMIC_CUR_1M: double (nullable = true)\n",
      " |-- REST_AVG_PAYM: double (nullable = true)\n",
      " |-- LDEAL_TENOR_MIN: double (nullable = true)\n",
      " |-- LDEAL_AMT_MONTH: double (nullable = true)\n",
      " |-- APP_COMP_TYPE: string (nullable = true)\n",
      " |-- LDEAL_GRACE_DAYS_PCT_MED: double (nullable = true)\n",
      " |-- REST_DYNAMIC_CUR_3M: double (nullable = true)\n",
      " |-- CNT_TRAN_SUP_TENDENCY3M: double (nullable = true)\n",
      " |-- TURNOVER_DYNAMIC_CUR_1M: double (nullable = true)\n",
      " |-- REST_DYNAMIC_PAYM_3M: double (nullable = true)\n",
      " |-- SUM_TRAN_SUP_TENDENCY3M: double (nullable = true)\n",
      " |-- REST_DYNAMIC_IL_3M: double (nullable = true)\n",
      " |-- CNT_TRAN_ATM_TENDENCY3M: double (nullable = true)\n",
      " |-- CNT_TRAN_ATM_TENDENCY1M: double (nullable = true)\n",
      " |-- TURNOVER_DYNAMIC_IL_3M: double (nullable = true)\n",
      " |-- SUM_TRAN_ATM_TENDENCY3M: double (nullable = true)\n",
      " |-- DEAL_GRACE_DAYS_ACC_S1X1: double (nullable = true)\n",
      " |-- AVG_PCT_MONTH_TO_PCLOSE: double (nullable = true)\n",
      " |-- DEAL_YWZ_IR_MIN: double (nullable = true)\n",
      " |-- SUM_TRAN_SUP_TENDENCY1M: double (nullable = true)\n",
      " |-- DEAL_YWZ_IR_MAX: double (nullable = true)\n",
      " |-- SUM_TRAN_ATM_TENDENCY1M: double (nullable = true)\n",
      " |-- REST_DYNAMIC_PAYM_1M: double (nullable = true)\n",
      " |-- CNT_TRAN_SUP_TENDENCY1M: double (nullable = true)\n",
      " |-- DEAL_GRACE_DAYS_ACC_AVG: double (nullable = true)\n",
      " |-- TURNOVER_DYNAMIC_CUR_3M: double (nullable = true)\n",
      " |-- PACK: string (nullable = true)\n",
      " |-- MAX_PCLOSE_DATE: double (nullable = true)\n",
      " |-- LDEAL_YQZ_PC: double (nullable = true)\n",
      " |-- CLNT_SETUP_TENOR: double (nullable = true)\n",
      " |-- DEAL_GRACE_DAYS_ACC_MAX: double (nullable = true)\n",
      " |-- TURNOVER_DYNAMIC_PAYM_3M: double (nullable = true)\n",
      " |-- LDEAL_DELINQ_PER_MAXYQZ: double (nullable = true)\n",
      " |-- TURNOVER_DYNAMIC_PAYM_1M: double (nullable = true)\n",
      " |-- CLNT_SALARY_VALUE: double (nullable = true)\n",
      " |-- TRANS_AMOUNT_TENDENCY3M: double (nullable = true)\n",
      " |-- MED_DEBT_PRC_YQZ: double (nullable = true)\n",
      " |-- TRANS_CNT_TENDENCY3M: double (nullable = true)\n",
      " |-- LDEAL_USED_AMT_AVG_YQZ: double (nullable = true)\n",
      " |-- REST_DYNAMIC_CC_1M: double (nullable = true)\n",
      " |-- LDEAL_USED_AMT_AVG_YWZ: double (nullable = true)\n",
      " |-- TURNOVER_DYNAMIC_CC_1M: double (nullable = true)\n",
      " |-- AVG_PCT_DEBT_TO_DEAL_AMT: double (nullable = true)\n",
      " |-- LDEAL_ACT_DAYS_ACC_PCT_AVG: double (nullable = true)\n",
      " |-- REST_DYNAMIC_CC_3M: double (nullable = true)\n",
      " |-- MED_DEBT_PRC_YWZ: double (nullable = true)\n",
      " |-- LDEAL_ACT_DAYS_PCT_TR3: double (nullable = true)\n",
      " |-- LDEAL_ACT_DAYS_PCT_AAVG: double (nullable = true)\n",
      " |-- LDEAL_DELINQ_PER_MAXYWZ: double (nullable = true)\n",
      " |-- TURNOVER_DYNAMIC_CC_3M: double (nullable = true)\n",
      " |-- LDEAL_ACT_DAYS_PCT_TR: double (nullable = true)\n",
      " |-- LDEAL_ACT_DAYS_PCT_TR4: double (nullable = true)\n",
      " |-- LDEAL_ACT_DAYS_PCT_CURR: double (nullable = true)\n",
      " |-- TARGET: integer (nullable = true)\n",
      "\n"
     ]
    }
   ],
   "source": [
    "train.printSchema"
   ]
  },
  {
   "cell_type": "code",
   "execution_count": null,
   "metadata": {},
   "outputs": [],
   "source": [
    "train.show(numRows = 3, truncate = 100, vertical=true)"
   ]
  },
  {
   "cell_type": "code",
   "execution_count": 24,
   "metadata": {},
   "outputs": [
    {
     "data": {
      "text/plain": [
       "countCols: (columns: Array[String])Array[org.apache.spark.sql.Column]\n"
      ]
     },
     "metadata": {},
     "output_type": "display_data"
    },
    {
     "name": "stdout",
     "output_type": "stream",
     "text": [
      "-RECORD 0-----------------------------\n",
      " _c0                         | 0      \n",
      " ID                          | 0      \n",
      " CR_PROD_CNT_IL              | 0      \n",
      " AMOUNT_RUB_CLO_PRC          | 34550  \n",
      " PRC_ACCEPTS_A_EMAIL_LINK    | 180814 \n",
      " APP_REGISTR_RGN_CODE        | 265914 \n",
      " PRC_ACCEPTS_A_POS           | 180814 \n",
      " PRC_ACCEPTS_A_TK            | 180814 \n",
      " TURNOVER_DYNAMIC_IL_1M      | 1      \n",
      " CNT_TRAN_AUT_TENDENCY1M     | 251229 \n",
      " SUM_TRAN_AUT_TENDENCY1M     | 251229 \n",
      " AMOUNT_RUB_SUP_PRC          | 34551  \n",
      " PRC_ACCEPTS_A_AMOBILE       | 180814 \n",
      " SUM_TRAN_AUT_TENDENCY3M     | 220560 \n",
      " CLNT_TRUST_RELATION         | 257829 \n",
      " PRC_ACCEPTS_TK              | 180814 \n",
      " PRC_ACCEPTS_A_MTP           | 180814 \n",
      " REST_DYNAMIC_FDEP_1M        | 1      \n",
      " CNT_TRAN_AUT_TENDENCY3M     | 220560 \n",
      " CNT_ACCEPTS_TK              | 180814 \n",
      " APP_MARITAL_STATUS          | 258989 \n",
      " REST_DYNAMIC_SAVE_3M        | 1      \n",
      " CR_PROD_CNT_VCU             | 1      \n",
      " REST_AVG_CUR                | 1      \n",
      " CNT_TRAN_MED_TENDENCY1M     | 258307 \n",
      " APP_KIND_OF_PROP_HABITATION | 267042 \n",
      " CLNT_JOB_POSITION_TYPE      | 280242 \n",
      " AMOUNT_RUB_NAS_PRC          | 34551  \n",
      " CLNT_JOB_POSITION           | 130371 \n",
      " APP_DRIVING_LICENSE         | 268868 \n",
      " TRANS_COUNT_SUP_PRC         | 34551  \n",
      " APP_EDUCATION               | 259099 \n",
      " CNT_TRAN_CLO_TENDENCY1M     | 260941 \n",
      " SUM_TRAN_MED_TENDENCY1M     | 258307 \n",
      " PRC_ACCEPTS_A_ATM           | 180814 \n",
      " PRC_ACCEPTS_MTP             | 180814 \n",
      " TRANS_COUNT_NAS_PRC         | 34551  \n",
      " APP_TRAVEL_PASS             | 268868 \n",
      " CNT_ACCEPTS_MTP             | 180814 \n",
      " CR_PROD_CNT_TOVR            | 1      \n",
      " APP_CAR                     | 268869 \n",
      " CR_PROD_CNT_PIL             | 1      \n",
      " SUM_TRAN_CLO_TENDENCY1M     | 260941 \n",
      " APP_POSITION_TYPE           | 265984 \n",
      " TURNOVER_CC                 | 1      \n",
      " TRANS_COUNT_ATM_PRC         | 34551  \n",
      " AMOUNT_RUB_ATM_PRC          | 34551  \n",
      " TURNOVER_PAYM               | 1      \n",
      " AGE                         | 1      \n",
      " CNT_TRAN_MED_TENDENCY3M     | 216119 \n",
      " CR_PROD_CNT_CC              | 1      \n",
      " SUM_TRAN_MED_TENDENCY3M     | 216119 \n",
      " REST_DYNAMIC_FDEP_3M        | 1      \n",
      " REST_DYNAMIC_IL_1M          | 1      \n",
      " APP_EMP_TYPE                | 259778 \n",
      " SUM_TRAN_CLO_TENDENCY3M     | 216989 \n",
      " LDEAL_TENOR_MAX             | 313405 \n",
      " LDEAL_YQZ_CHRG              | 319629 \n",
      " CR_PROD_CNT_CCFP            | 1      \n",
      " DEAL_YQZ_IR_MAX             | 313405 \n",
      " LDEAL_YQZ_COM               | 319635 \n",
      " DEAL_YQZ_IR_MIN             | 313405 \n",
      " CNT_TRAN_CLO_TENDENCY3M     | 216989 \n",
      " REST_DYNAMIC_CUR_1M         | 1      \n",
      " REST_AVG_PAYM               | 1      \n",
      " LDEAL_TENOR_MIN             | 313405 \n",
      " LDEAL_AMT_MONTH             | 319060 \n",
      " APP_COMP_TYPE               | 259778 \n",
      " LDEAL_GRACE_DAYS_PCT_MED    | 1      \n",
      " REST_DYNAMIC_CUR_3M         | 1      \n",
      " CNT_TRAN_SUP_TENDENCY3M     | 141235 \n",
      " TURNOVER_DYNAMIC_CUR_1M     | 1      \n",
      " REST_DYNAMIC_PAYM_3M        | 1      \n",
      " SUM_TRAN_SUP_TENDENCY3M     | 141235 \n",
      " REST_DYNAMIC_IL_3M          | 1      \n",
      " CNT_TRAN_ATM_TENDENCY3M     | 89923  \n",
      " CNT_TRAN_ATM_TENDENCY1M     | 134853 \n",
      " TURNOVER_DYNAMIC_IL_3M      | 1      \n",
      " SUM_TRAN_ATM_TENDENCY3M     | 89923  \n",
      " DEAL_GRACE_DAYS_ACC_S1X1    | 257149 \n",
      " AVG_PCT_MONTH_TO_PCLOSE     | 319296 \n",
      " DEAL_YWZ_IR_MIN             | 234276 \n",
      " SUM_TRAN_SUP_TENDENCY1M     | 179914 \n",
      " DEAL_YWZ_IR_MAX             | 234276 \n",
      " SUM_TRAN_ATM_TENDENCY1M     | 134853 \n",
      " REST_DYNAMIC_PAYM_1M        | 1      \n",
      " CNT_TRAN_SUP_TENDENCY1M     | 179914 \n",
      " DEAL_GRACE_DAYS_ACC_AVG     | 258071 \n",
      " TURNOVER_DYNAMIC_CUR_3M     | 1      \n",
      " PACK                        | 1      \n",
      " MAX_PCLOSE_DATE             | 319065 \n",
      " LDEAL_YQZ_PC                | 318213 \n",
      " CLNT_SETUP_TENOR            | 1      \n",
      " DEAL_GRACE_DAYS_ACC_MAX     | 258071 \n",
      " TURNOVER_DYNAMIC_PAYM_3M    | 1      \n",
      " LDEAL_DELINQ_PER_MAXYQZ     | 313405 \n",
      " TURNOVER_DYNAMIC_PAYM_1M    | 1      \n",
      " CLNT_SALARY_VALUE           | 320112 \n",
      " TRANS_AMOUNT_TENDENCY3M     | 46860  \n",
      " MED_DEBT_PRC_YQZ            | 313405 \n",
      " TRANS_CNT_TENDENCY3M        | 46860  \n",
      " LDEAL_USED_AMT_AVG_YQZ      | 313405 \n",
      " REST_DYNAMIC_CC_1M          | 1      \n",
      " LDEAL_USED_AMT_AVG_YWZ      | 234276 \n",
      " TURNOVER_DYNAMIC_CC_1M      | 1      \n",
      " AVG_PCT_DEBT_TO_DEAL_AMT    | 319060 \n",
      " LDEAL_ACT_DAYS_ACC_PCT_AVG  | 236350 \n",
      " REST_DYNAMIC_CC_3M          | 1      \n",
      " MED_DEBT_PRC_YWZ            | 234276 \n",
      " LDEAL_ACT_DAYS_PCT_TR3      | 236350 \n",
      " LDEAL_ACT_DAYS_PCT_AAVG     | 232072 \n",
      " LDEAL_DELINQ_PER_MAXYWZ     | 234276 \n",
      " TURNOVER_DYNAMIC_CC_3M      | 1      \n",
      " LDEAL_ACT_DAYS_PCT_TR       | 236350 \n",
      " LDEAL_ACT_DAYS_PCT_TR4      | 236350 \n",
      " LDEAL_ACT_DAYS_PCT_CURR     | 236350 \n",
      " TARGET                      | 1      \n",
      "\n"
     ]
    }
   ],
   "source": [
    "def countCols(columns:Array[String]):Array[Column]={\n",
    "    columns.map(c=>{\n",
    "      count(when(col(c).isNull || \n",
    "                 col(c)===\"\" || \n",
    "                 col(c).contains(\"NULL\") || \n",
    "                 col(c).contains(\"null\"),c)\n",
    "           ).alias(c)\n",
    "    })\n",
    "}\n",
    "train.select(countCols(train.columns):_*).show(50, 100, true)"
   ]
  },
  {
   "cell_type": "code",
   "execution_count": 68,
   "metadata": {},
   "outputs": [
    {
     "data": {
      "text/plain": [
       "cols_to_drop = List(PRC_ACCEPTS_A_EMAIL_LINK, APP_REGISTR_RGN_CODE, PRC_ACCEPTS_A_POS, PRC_ACCEPTS_A_TK, CNT_TRAN_AUT_TENDENCY1M, SUM_TRAN_AUT_TENDENCY1M, PRC_ACCEPTS_A_AMOBILE, SUM_TRAN_AUT_TENDENCY3M, CLNT_TRUST_RELATION, PRC_ACCEPTS_TK, PRC_ACCEPTS_A_MTP, CNT_TRAN_AUT_TENDENCY3M, CNT_ACCEPTS_TK, APP_MARITAL_STATUS, CNT_TRAN_MED_TENDENCY1M, APP_KIND_OF_PROP_HABITATION, CLNT_JOB_POSITION_TYPE, APP_DRIVING_LICENSE, APP_EDUCATION, CNT_TRAN_CLO_TENDENCY1M, SUM_TRAN_MED_TENDENCY1M, PRC_ACCEPTS_A_ATM, PRC_ACCEPTS_MTP, APP_TRAVEL_PASS, CNT_ACCEPTS_MTP, APP_CAR, SUM_TRAN_CLO_TENDENCY1M, APP_POSITION_TYPE, CNT_TRAN_MED_TENDENCY3M, SUM_TRAN_MED_TENDENCY3M, APP_EMP_TYPE, SUM_TRAN_CLO_TENDENCY3M, LDEAL_TENOR_MAX, LDEAL_YQZ_CHRG, DEAL_YQZ_IR_MAX, LDEAL_YQZ_COM, DEAL_YQZ_IR_MIN, CNT_TR...\n"
      ]
     },
     "metadata": {},
     "output_type": "display_data"
    },
    {
     "data": {
      "text/plain": [
       "List(PRC_ACCEPTS_A_EMAIL_LINK, APP_REGISTR_RGN_CODE, PRC_ACCEPTS_A_POS, PRC_ACCEPTS_A_TK, CNT_TRAN_AUT_TENDENCY1M, SUM_TRAN_AUT_TENDENCY1M, PRC_ACCEPTS_A_AMOBILE, SUM_TRAN_AUT_TENDENCY3M, CLNT_TRUST_RELATION, PRC_ACCEPTS_TK, PRC_ACCEPTS_A_MTP, CNT_TRAN_AUT_TENDENCY3M, CNT_ACCEPTS_TK, APP_MARITAL_STATUS, CNT_TRAN_MED_TENDENCY1M, APP_KIND_OF_PROP_HABITATION, CLNT_JOB_POSITION_TYPE, APP_DRIVING_LICENSE, APP_EDUCATION, CNT_TRAN_CLO_TENDENCY1M, SUM_TRAN_MED_TENDENCY1M, PRC_ACCEPTS_A_ATM, PRC_ACCEPTS_MTP, APP_TRAVEL_PASS, CNT_ACCEPTS_MTP, APP_CAR, SUM_TRAN_CLO_TENDENCY1M, APP_POSITION_TYPE, CNT_TRAN_MED_TENDENCY3M, SUM_TRAN_MED_TENDENCY3M, APP_EMP_TYPE, SUM_TRAN_CLO_TENDENCY3M, LDEAL_TENOR_MAX, LDEAL_YQZ_CHRG, DEAL_YQZ_IR_MAX, LDEAL_YQZ_COM, DEAL_YQZ_IR_MIN, CNT_TR..."
      ]
     },
     "execution_count": 68,
     "metadata": {},
     "output_type": "execute_result"
    }
   ],
   "source": [
    "// удалим колонки с большим количеством пустых значений\n",
    "\n",
    "val cols_to_drop = Seq(\n",
    "    \"PRC_ACCEPTS_A_EMAIL_LINK\",\n",
    "    \"APP_REGISTR_RGN_CODE\",\n",
    "    \"PRC_ACCEPTS_A_POS\",\n",
    "    \"PRC_ACCEPTS_A_TK\",\n",
    "    \"CNT_TRAN_AUT_TENDENCY1M\",\n",
    "    \"SUM_TRAN_AUT_TENDENCY1M\",\n",
    "    \"PRC_ACCEPTS_A_AMOBILE\",\n",
    "    \"SUM_TRAN_AUT_TENDENCY3M\",\n",
    "    \"CLNT_TRUST_RELATION\",\n",
    "    \"PRC_ACCEPTS_TK\",\n",
    "    \"PRC_ACCEPTS_A_MTP\",\n",
    "    \"CNT_TRAN_AUT_TENDENCY3M\",\n",
    "    \"CNT_ACCEPTS_TK\",\n",
    "    \"APP_MARITAL_STATUS\",\n",
    "    \"CNT_TRAN_MED_TENDENCY1M\",\n",
    "    \"APP_KIND_OF_PROP_HABITATION\",\n",
    "    \"CLNT_JOB_POSITION_TYPE\",\n",
    "    \"APP_DRIVING_LICENSE\",\n",
    "    \"APP_EDUCATION\",\n",
    "    \"CNT_TRAN_CLO_TENDENCY1M\",\n",
    "    \"SUM_TRAN_MED_TENDENCY1M\",\n",
    "    \"PRC_ACCEPTS_A_ATM\",\n",
    "    \"PRC_ACCEPTS_MTP\",\n",
    "    \"APP_TRAVEL_PASS\",\n",
    "    \"CNT_ACCEPTS_MTP\",\n",
    "    \"APP_CAR\",\n",
    "    \"SUM_TRAN_CLO_TENDENCY1M\",\n",
    "    \"APP_POSITION_TYPE\",\n",
    "    \"CNT_TRAN_MED_TENDENCY3M\",\n",
    "    \"SUM_TRAN_MED_TENDENCY3M\",\n",
    "    \"APP_EMP_TYPE\",\n",
    "    \"SUM_TRAN_CLO_TENDENCY3M\",\n",
    "    \"LDEAL_TENOR_MAX\",\n",
    "    \"LDEAL_YQZ_CHRG\",\n",
    "    \"DEAL_YQZ_IR_MAX\",\n",
    "    \"LDEAL_YQZ_COM\",\n",
    "    \"DEAL_YQZ_IR_MIN\",\n",
    "    \"CNT_TRAN_CLO_TENDENCY3M\",\n",
    "    \"LDEAL_TENOR_MIN\",\n",
    "    \"LDEAL_AMT_MONTH\",\n",
    "    \"APP_COMP_TYPE\",\n",
    "    \"CNT_TRAN_SUP_TENDENCY3M\",\n",
    "    \"SUM_TRAN_SUP_TENDENCY3M\",\n",
    "    \"CNT_TRAN_ATM_TENDENCY1M\",\n",
    "    \"SUM_TRAN_ATM_TENDENCY3M\",\n",
    "    \"DEAL_GRACE_DAYS_ACC_S1X1\",\n",
    "    \"AVG_PCT_MONTH_TO_PCLOSE\",\n",
    "    \"DEAL_YWZ_IR_MIN\",\n",
    "    \"SUM_TRAN_SUP_TENDENCY1M\",\n",
    "    \"DEAL_YWZ_IR_MAX\",\n",
    "    \"SUM_TRAN_ATM_TENDENCY1M\",\n",
    "    \"CNT_TRAN_SUP_TENDENCY1M\",\n",
    "    \"DEAL_GRACE_DAYS_ACC_AVG\",\n",
    "    \"MAX_PCLOSE_DATE\",\n",
    "    \"LDEAL_YQZ_PC\",\n",
    "    \"DEAL_GRACE_DAYS_ACC_MAX\",\n",
    "    \"LDEAL_DELINQ_PER_MAXYQZ\",\n",
    "    \"CLNT_SALARY_VALUE\",\n",
    "    \"TRANS_AMOUNT_TENDENCY3M\",\n",
    "    \"MED_DEBT_PRC_YQZ\",\n",
    "    \"LDEAL_USED_AMT_AVG_YQZ\",\n",
    "    \"LDEAL_USED_AMT_AVG_YWZ\",\n",
    "    \"AVG_PCT_DEBT_TO_DEAL_AMT\",\n",
    "    \"LDEAL_ACT_DAYS_ACC_PCT_AVG\",\n",
    "    \"MED_DEBT_PRC_YWZ\",\n",
    "    \"LDEAL_ACT_DAYS_PCT_TR3\",\n",
    "    \"LDEAL_ACT_DAYS_PCT_AAVG\",\n",
    "    \"LDEAL_DELINQ_PER_MAXYWZ\",\n",
    "    \"LDEAL_ACT_DAYS_PCT_TR\",\n",
    "    \"LDEAL_ACT_DAYS_PCT_TR4\",\n",
    "    \"LDEAL_ACT_DAYS_PCT_CURR\",\n",
    "    \"CLNT_JOB_POSITION\",\n",
    "    \"PACK\"\n",
    ")"
   ]
  },
  {
   "cell_type": "code",
   "execution_count": 69,
   "metadata": {
    "scrolled": true
   },
   "outputs": [
    {
     "name": "stdout",
     "output_type": "stream",
     "text": [
      "-RECORD 0-------------------------\n",
      " _c0                      | 0     \n",
      " ID                       | 0     \n",
      " CR_PROD_CNT_IL           | 0     \n",
      " AMOUNT_RUB_CLO_PRC       | 34550 \n",
      " TURNOVER_DYNAMIC_IL_1M   | 1     \n",
      " AMOUNT_RUB_SUP_PRC       | 34551 \n",
      " REST_DYNAMIC_FDEP_1M     | 1     \n",
      " REST_DYNAMIC_SAVE_3M     | 1     \n",
      " CR_PROD_CNT_VCU          | 1     \n",
      " REST_AVG_CUR             | 1     \n",
      " AMOUNT_RUB_NAS_PRC       | 34551 \n",
      " TRANS_COUNT_SUP_PRC      | 34551 \n",
      " TRANS_COUNT_NAS_PRC      | 34551 \n",
      " CR_PROD_CNT_TOVR         | 1     \n",
      " CR_PROD_CNT_PIL          | 1     \n",
      " TURNOVER_CC              | 1     \n",
      " TRANS_COUNT_ATM_PRC      | 34551 \n",
      " AMOUNT_RUB_ATM_PRC       | 34551 \n",
      " TURNOVER_PAYM            | 1     \n",
      " AGE                      | 1     \n",
      " CR_PROD_CNT_CC           | 1     \n",
      " REST_DYNAMIC_FDEP_3M     | 1     \n",
      " REST_DYNAMIC_IL_1M       | 1     \n",
      " CR_PROD_CNT_CCFP         | 1     \n",
      " REST_DYNAMIC_CUR_1M      | 1     \n",
      " REST_AVG_PAYM            | 1     \n",
      " LDEAL_GRACE_DAYS_PCT_MED | 1     \n",
      " REST_DYNAMIC_CUR_3M      | 1     \n",
      " TURNOVER_DYNAMIC_CUR_1M  | 1     \n",
      " REST_DYNAMIC_PAYM_3M     | 1     \n",
      " REST_DYNAMIC_IL_3M       | 1     \n",
      " CNT_TRAN_ATM_TENDENCY3M  | 89923 \n",
      " TURNOVER_DYNAMIC_IL_3M   | 1     \n",
      " REST_DYNAMIC_PAYM_1M     | 1     \n",
      " TURNOVER_DYNAMIC_CUR_3M  | 1     \n",
      " CLNT_SETUP_TENOR         | 1     \n",
      " TURNOVER_DYNAMIC_PAYM_3M | 1     \n",
      " TURNOVER_DYNAMIC_PAYM_1M | 1     \n",
      " TRANS_CNT_TENDENCY3M     | 46860 \n",
      " REST_DYNAMIC_CC_1M       | 1     \n",
      " TURNOVER_DYNAMIC_CC_1M   | 1     \n",
      " REST_DYNAMIC_CC_3M       | 1     \n",
      " TURNOVER_DYNAMIC_CC_3M   | 1     \n",
      " TARGET                   | 1     \n",
      "\n"
     ]
    },
    {
     "data": {
      "text/plain": [
       "new_train = [_c0: int, ID: int ... 42 more fields]\n"
      ]
     },
     "metadata": {},
     "output_type": "display_data"
    },
    {
     "data": {
      "text/plain": [
       "[_c0: int, ID: int ... 42 more fields]"
      ]
     },
     "execution_count": 69,
     "metadata": {},
     "output_type": "execute_result"
    }
   ],
   "source": [
    "val new_train = train.drop(cols_to_drop:_*)\n",
    "new_train.select(countCols(new_train.columns):_*).show(50, 100, true)"
   ]
  },
  {
   "cell_type": "code",
   "execution_count": 70,
   "metadata": {},
   "outputs": [
    {
     "data": {
      "text/plain": [
       "fillData = Map(AMOUNT_RUB_SUP_PRC -> 0, AMOUNT_RUB_CLO_PRC -> 0, AMOUNT_RUB_NAS_PRC -> 0, TRANS_COUNT_SUP_PRC -> 0, TRANS_CNT_TENDENCY3M -> 0, TRANS_COUNT_NAS_PRC -> 0, CNT_TRAN_ATM_TENDENCY3M -> 0, AMOUNT_RUB_ATM_PRC -> 0, TRANS_COUNT_ATM_PRC -> 0)\n",
       "clean_train = [_c0: int, ID: int ... 42 more fields]\n"
      ]
     },
     "metadata": {},
     "output_type": "display_data"
    },
    {
     "data": {
      "text/plain": [
       "[_c0: int, ID: int ... 42 more fields]"
      ]
     },
     "execution_count": 70,
     "metadata": {},
     "output_type": "execute_result"
    }
   ],
   "source": [
    "val fillData: Map[String, Any] = Map(\n",
    "    \"AMOUNT_RUB_CLO_PRC\" -> 0,\n",
    "    \"AMOUNT_RUB_SUP_PRC\" -> 0,\n",
    "    \"AMOUNT_RUB_NAS_PRC\" -> 0,\n",
    "    \"TRANS_COUNT_SUP_PRC\" -> 0,\n",
    "    \"TRANS_COUNT_NAS_PRC\" -> 0,\n",
    "    \"TRANS_COUNT_ATM_PRC\" -> 0,\n",
    "    \"AMOUNT_RUB_ATM_PRC\" -> 0,\n",
    "    \"CNT_TRAN_ATM_TENDENCY3M\" -> 0,\n",
    "    \"TRANS_CNT_TENDENCY3M\" -> 0\n",
    ")\n",
    "\n",
    "val clean_train = new_train.na.fill(fillData).na.drop(\"any\")"
   ]
  },
  {
   "cell_type": "code",
   "execution_count": 71,
   "metadata": {
    "scrolled": true
   },
   "outputs": [
    {
     "name": "stdout",
     "output_type": "stream",
     "text": [
      "-RECORD 0-----------------------\n",
      " _c0                      | 0   \n",
      " ID                       | 0   \n",
      " CR_PROD_CNT_IL           | 0   \n",
      " AMOUNT_RUB_CLO_PRC       | 0   \n",
      " TURNOVER_DYNAMIC_IL_1M   | 0   \n",
      " AMOUNT_RUB_SUP_PRC       | 0   \n",
      " REST_DYNAMIC_FDEP_1M     | 0   \n",
      " REST_DYNAMIC_SAVE_3M     | 0   \n",
      " CR_PROD_CNT_VCU          | 0   \n",
      " REST_AVG_CUR             | 0   \n",
      " AMOUNT_RUB_NAS_PRC       | 0   \n",
      " TRANS_COUNT_SUP_PRC      | 0   \n",
      " TRANS_COUNT_NAS_PRC      | 0   \n",
      " CR_PROD_CNT_TOVR         | 0   \n",
      " CR_PROD_CNT_PIL          | 0   \n",
      " TURNOVER_CC              | 0   \n",
      " TRANS_COUNT_ATM_PRC      | 0   \n",
      " AMOUNT_RUB_ATM_PRC       | 0   \n",
      " TURNOVER_PAYM            | 0   \n",
      " AGE                      | 0   \n",
      " CR_PROD_CNT_CC           | 0   \n",
      " REST_DYNAMIC_FDEP_3M     | 0   \n",
      " REST_DYNAMIC_IL_1M       | 0   \n",
      " CR_PROD_CNT_CCFP         | 0   \n",
      " REST_DYNAMIC_CUR_1M      | 0   \n",
      " REST_AVG_PAYM            | 0   \n",
      " LDEAL_GRACE_DAYS_PCT_MED | 0   \n",
      " REST_DYNAMIC_CUR_3M      | 0   \n",
      " TURNOVER_DYNAMIC_CUR_1M  | 0   \n",
      " REST_DYNAMIC_PAYM_3M     | 0   \n",
      " REST_DYNAMIC_IL_3M       | 0   \n",
      " CNT_TRAN_ATM_TENDENCY3M  | 0   \n",
      " TURNOVER_DYNAMIC_IL_3M   | 0   \n",
      " REST_DYNAMIC_PAYM_1M     | 0   \n",
      " TURNOVER_DYNAMIC_CUR_3M  | 0   \n",
      " CLNT_SETUP_TENOR         | 0   \n",
      " TURNOVER_DYNAMIC_PAYM_3M | 0   \n",
      " TURNOVER_DYNAMIC_PAYM_1M | 0   \n",
      " TRANS_CNT_TENDENCY3M     | 0   \n",
      " REST_DYNAMIC_CC_1M       | 0   \n",
      " TURNOVER_DYNAMIC_CC_1M   | 0   \n",
      " REST_DYNAMIC_CC_3M       | 0   \n",
      " TURNOVER_DYNAMIC_CC_3M   | 0   \n",
      " TARGET                   | 0   \n",
      "\n"
     ]
    }
   ],
   "source": [
    "clean_train.select(countCols(clean_train.columns):_*).show(50, 100, true)"
   ]
  },
  {
   "cell_type": "code",
   "execution_count": 72,
   "metadata": {},
   "outputs": [
    {
     "data": {
      "text/plain": [
       "-1"
      ]
     },
     "execution_count": 72,
     "metadata": {},
     "output_type": "execute_result"
    }
   ],
   "source": [
    "clean_train.count - new_train.count"
   ]
  },
  {
   "cell_type": "markdown",
   "metadata": {},
   "source": [
    "TEST"
   ]
  },
  {
   "cell_type": "code",
   "execution_count": null,
   "metadata": {},
   "outputs": [],
   "source": [
    "test.show(numRows = 3, truncate = 100, vertical=true)"
   ]
  },
  {
   "cell_type": "code",
   "execution_count": 74,
   "metadata": {},
   "outputs": [
    {
     "name": "stdout",
     "output_type": "stream",
     "text": [
      "-RECORD 0----------------------------\n",
      " _c0                         | 0     \n",
      " ID                          | 0     \n",
      " CR_PROD_CNT_IL              | 0     \n",
      " AMOUNT_RUB_CLO_PRC          | 4794  \n",
      " PRC_ACCEPTS_A_EMAIL_LINK    | 25021 \n",
      " APP_REGISTR_RGN_CODE        | 36874 \n",
      " PRC_ACCEPTS_A_POS           | 25021 \n",
      " PRC_ACCEPTS_A_TK            | 25021 \n",
      " TURNOVER_DYNAMIC_IL_1M      | 0     \n",
      " CNT_TRAN_AUT_TENDENCY1M     | 34732 \n",
      " SUM_TRAN_AUT_TENDENCY1M     | 34732 \n",
      " AMOUNT_RUB_SUP_PRC          | 4794  \n",
      " PRC_ACCEPTS_A_AMOBILE       | 25021 \n",
      " SUM_TRAN_AUT_TENDENCY3M     | 30628 \n",
      " CLNT_TRUST_RELATION         | 35857 \n",
      " PRC_ACCEPTS_TK              | 25021 \n",
      " PRC_ACCEPTS_A_MTP           | 25021 \n",
      " REST_DYNAMIC_FDEP_1M        | 0     \n",
      " CNT_TRAN_AUT_TENDENCY3M     | 30628 \n",
      " CNT_ACCEPTS_TK              | 25021 \n",
      " APP_MARITAL_STATUS          | 35930 \n",
      " REST_DYNAMIC_SAVE_3M        | 0     \n",
      " CR_PROD_CNT_VCU             | 0     \n",
      " REST_AVG_CUR                | 0     \n",
      " CNT_TRAN_MED_TENDENCY1M     | 35880 \n",
      " APP_KIND_OF_PROP_HABITATION | 37021 \n",
      " CLNT_JOB_POSITION_TYPE      | 38851 \n",
      " AMOUNT_RUB_NAS_PRC          | 4794  \n",
      " CLNT_JOB_POSITION           | 18039 \n",
      " APP_DRIVING_LICENSE         | 37271 \n",
      " TRANS_COUNT_SUP_PRC         | 4794  \n",
      " APP_EDUCATION               | 35946 \n",
      " CNT_TRAN_CLO_TENDENCY1M     | 36198 \n",
      " SUM_TRAN_MED_TENDENCY1M     | 35880 \n",
      " PRC_ACCEPTS_A_ATM           | 25021 \n",
      " PRC_ACCEPTS_MTP             | 25021 \n",
      " TRANS_COUNT_NAS_PRC         | 4794  \n",
      " APP_TRAVEL_PASS             | 37271 \n",
      " CNT_ACCEPTS_MTP             | 25021 \n",
      " CR_PROD_CNT_TOVR            | 0     \n",
      " APP_CAR                     | 37271 \n",
      " CR_PROD_CNT_PIL             | 0     \n",
      " SUM_TRAN_CLO_TENDENCY1M     | 36198 \n",
      " APP_POSITION_TYPE           | 36871 \n",
      " TURNOVER_CC                 | 0     \n",
      " TRANS_COUNT_ATM_PRC         | 4794  \n",
      " AMOUNT_RUB_ATM_PRC          | 4794  \n",
      " TURNOVER_PAYM               | 0     \n",
      " AGE                         | 0     \n",
      " CNT_TRAN_MED_TENDENCY3M     | 29916 \n",
      " CR_PROD_CNT_CC              | 0     \n",
      " SUM_TRAN_MED_TENDENCY3M     | 29916 \n",
      " REST_DYNAMIC_FDEP_3M        | 0     \n",
      " REST_DYNAMIC_IL_1M          | 0     \n",
      " APP_EMP_TYPE                | 36034 \n",
      " SUM_TRAN_CLO_TENDENCY3M     | 30169 \n",
      " LDEAL_TENOR_MAX             | 43419 \n",
      " LDEAL_YQZ_CHRG              | 44238 \n",
      " CR_PROD_CNT_CCFP            | 0     \n",
      " DEAL_YQZ_IR_MAX             | 43419 \n",
      " LDEAL_YQZ_COM               | 44255 \n",
      " DEAL_YQZ_IR_MIN             | 43419 \n",
      " CNT_TRAN_CLO_TENDENCY3M     | 30169 \n",
      " REST_DYNAMIC_CUR_1M         | 0     \n",
      " REST_AVG_PAYM               | 0     \n",
      " LDEAL_TENOR_MIN             | 43419 \n",
      " LDEAL_AMT_MONTH             | 44166 \n",
      " APP_COMP_TYPE               | 36034 \n",
      " LDEAL_GRACE_DAYS_PCT_MED    | 0     \n",
      " REST_DYNAMIC_CUR_3M         | 0     \n",
      " CNT_TRAN_SUP_TENDENCY3M     | 19570 \n",
      " TURNOVER_DYNAMIC_CUR_1M     | 0     \n",
      " REST_DYNAMIC_PAYM_3M        | 0     \n",
      " SUM_TRAN_SUP_TENDENCY3M     | 19570 \n",
      " REST_DYNAMIC_IL_3M          | 0     \n",
      " CNT_TRAN_ATM_TENDENCY3M     | 12622 \n",
      " CNT_TRAN_ATM_TENDENCY1M     | 18784 \n",
      " TURNOVER_DYNAMIC_IL_3M      | 0     \n",
      " SUM_TRAN_ATM_TENDENCY3M     | 12622 \n",
      " DEAL_GRACE_DAYS_ACC_S1X1    | 35527 \n",
      " AVG_PCT_MONTH_TO_PCLOSE     | 44198 \n",
      " DEAL_YWZ_IR_MIN             | 32348 \n",
      " SUM_TRAN_SUP_TENDENCY1M     | 24890 \n",
      " DEAL_YWZ_IR_MAX             | 32348 \n",
      " SUM_TRAN_ATM_TENDENCY1M     | 18784 \n",
      " REST_DYNAMIC_PAYM_1M        | 0     \n",
      " CNT_TRAN_SUP_TENDENCY1M     | 24890 \n",
      " DEAL_GRACE_DAYS_ACC_AVG     | 35648 \n",
      " TURNOVER_DYNAMIC_CUR_3M     | 0     \n",
      " PACK                        | 0     \n",
      " MAX_PCLOSE_DATE             | 44167 \n",
      " LDEAL_YQZ_PC                | 44065 \n",
      " CLNT_SETUP_TENOR            | 0     \n",
      " DEAL_GRACE_DAYS_ACC_MAX     | 35648 \n",
      " TURNOVER_DYNAMIC_PAYM_3M    | 0     \n",
      " LDEAL_DELINQ_PER_MAXYQZ     | 43419 \n",
      " TURNOVER_DYNAMIC_PAYM_1M    | 0     \n",
      " CLNT_SALARY_VALUE           | 44322 \n",
      " TRANS_AMOUNT_TENDENCY3M     | 6511  \n",
      " MED_DEBT_PRC_YQZ            | 43419 \n",
      " TRANS_CNT_TENDENCY3M        | 6511  \n",
      " LDEAL_USED_AMT_AVG_YQZ      | 43419 \n",
      " REST_DYNAMIC_CC_1M          | 0     \n",
      " LDEAL_USED_AMT_AVG_YWZ      | 32348 \n",
      " TURNOVER_DYNAMIC_CC_1M      | 0     \n",
      " AVG_PCT_DEBT_TO_DEAL_AMT    | 44166 \n",
      " LDEAL_ACT_DAYS_ACC_PCT_AVG  | 32604 \n",
      " REST_DYNAMIC_CC_3M          | 0     \n",
      " MED_DEBT_PRC_YWZ            | 32348 \n",
      " LDEAL_ACT_DAYS_PCT_TR3      | 32604 \n",
      " LDEAL_ACT_DAYS_PCT_AAVG     | 32031 \n",
      " LDEAL_DELINQ_PER_MAXYWZ     | 32348 \n",
      " TURNOVER_DYNAMIC_CC_3M      | 0     \n",
      " LDEAL_ACT_DAYS_PCT_TR       | 32604 \n",
      " LDEAL_ACT_DAYS_PCT_TR4      | 32604 \n",
      " LDEAL_ACT_DAYS_PCT_CURR     | 32604 \n",
      "\n"
     ]
    }
   ],
   "source": [
    "test.select(countCols(test.columns):_*).show(50, 100, true)"
   ]
  },
  {
   "cell_type": "code",
   "execution_count": 75,
   "metadata": {
    "scrolled": true
   },
   "outputs": [
    {
     "name": "stdout",
     "output_type": "stream",
     "text": [
      "-RECORD 0-------------------------\n",
      " _c0                      | 0     \n",
      " ID                       | 0     \n",
      " CR_PROD_CNT_IL           | 0     \n",
      " AMOUNT_RUB_CLO_PRC       | 4794  \n",
      " TURNOVER_DYNAMIC_IL_1M   | 0     \n",
      " AMOUNT_RUB_SUP_PRC       | 4794  \n",
      " REST_DYNAMIC_FDEP_1M     | 0     \n",
      " REST_DYNAMIC_SAVE_3M     | 0     \n",
      " CR_PROD_CNT_VCU          | 0     \n",
      " REST_AVG_CUR             | 0     \n",
      " AMOUNT_RUB_NAS_PRC       | 4794  \n",
      " TRANS_COUNT_SUP_PRC      | 4794  \n",
      " TRANS_COUNT_NAS_PRC      | 4794  \n",
      " CR_PROD_CNT_TOVR         | 0     \n",
      " CR_PROD_CNT_PIL          | 0     \n",
      " TURNOVER_CC              | 0     \n",
      " TRANS_COUNT_ATM_PRC      | 4794  \n",
      " AMOUNT_RUB_ATM_PRC       | 4794  \n",
      " TURNOVER_PAYM            | 0     \n",
      " AGE                      | 0     \n",
      " CR_PROD_CNT_CC           | 0     \n",
      " REST_DYNAMIC_FDEP_3M     | 0     \n",
      " REST_DYNAMIC_IL_1M       | 0     \n",
      " CR_PROD_CNT_CCFP         | 0     \n",
      " REST_DYNAMIC_CUR_1M      | 0     \n",
      " REST_AVG_PAYM            | 0     \n",
      " LDEAL_GRACE_DAYS_PCT_MED | 0     \n",
      " REST_DYNAMIC_CUR_3M      | 0     \n",
      " TURNOVER_DYNAMIC_CUR_1M  | 0     \n",
      " REST_DYNAMIC_PAYM_3M     | 0     \n",
      " REST_DYNAMIC_IL_3M       | 0     \n",
      " CNT_TRAN_ATM_TENDENCY3M  | 12622 \n",
      " TURNOVER_DYNAMIC_IL_3M   | 0     \n",
      " REST_DYNAMIC_PAYM_1M     | 0     \n",
      " TURNOVER_DYNAMIC_CUR_3M  | 0     \n",
      " CLNT_SETUP_TENOR         | 0     \n",
      " TURNOVER_DYNAMIC_PAYM_3M | 0     \n",
      " TURNOVER_DYNAMIC_PAYM_1M | 0     \n",
      " TRANS_CNT_TENDENCY3M     | 6511  \n",
      " REST_DYNAMIC_CC_1M       | 0     \n",
      " TURNOVER_DYNAMIC_CC_1M   | 0     \n",
      " REST_DYNAMIC_CC_3M       | 0     \n",
      " TURNOVER_DYNAMIC_CC_3M   | 0     \n",
      "\n"
     ]
    },
    {
     "data": {
      "text/plain": [
       "new_test = [_c0: int, ID: int ... 41 more fields]\n"
      ]
     },
     "metadata": {},
     "output_type": "display_data"
    },
    {
     "data": {
      "text/plain": [
       "[_c0: int, ID: int ... 41 more fields]"
      ]
     },
     "execution_count": 75,
     "metadata": {},
     "output_type": "execute_result"
    }
   ],
   "source": [
    "val new_test = test.drop(cols_to_drop:_*)\n",
    "new_test.select(countCols(new_test.columns):_*).show(50, 100, true)"
   ]
  },
  {
   "cell_type": "code",
   "execution_count": 76,
   "metadata": {},
   "outputs": [
    {
     "data": {
      "text/plain": [
       "clean_test = [_c0: int, ID: int ... 41 more fields]\n"
      ]
     },
     "metadata": {},
     "output_type": "display_data"
    },
    {
     "data": {
      "text/plain": [
       "[_c0: int, ID: int ... 41 more fields]"
      ]
     },
     "execution_count": 76,
     "metadata": {},
     "output_type": "execute_result"
    }
   ],
   "source": [
    "val clean_test = new_test.na.fill(fillData).na.drop(\"any\")"
   ]
  },
  {
   "cell_type": "code",
   "execution_count": 77,
   "metadata": {
    "scrolled": true
   },
   "outputs": [
    {
     "name": "stdout",
     "output_type": "stream",
     "text": [
      "-RECORD 0-----------------------\n",
      " _c0                      | 0   \n",
      " ID                       | 0   \n",
      " CR_PROD_CNT_IL           | 0   \n",
      " AMOUNT_RUB_CLO_PRC       | 0   \n",
      " TURNOVER_DYNAMIC_IL_1M   | 0   \n",
      " AMOUNT_RUB_SUP_PRC       | 0   \n",
      " REST_DYNAMIC_FDEP_1M     | 0   \n",
      " REST_DYNAMIC_SAVE_3M     | 0   \n",
      " CR_PROD_CNT_VCU          | 0   \n",
      " REST_AVG_CUR             | 0   \n",
      " AMOUNT_RUB_NAS_PRC       | 0   \n",
      " TRANS_COUNT_SUP_PRC      | 0   \n",
      " TRANS_COUNT_NAS_PRC      | 0   \n",
      " CR_PROD_CNT_TOVR         | 0   \n",
      " CR_PROD_CNT_PIL          | 0   \n",
      " TURNOVER_CC              | 0   \n",
      " TRANS_COUNT_ATM_PRC      | 0   \n",
      " AMOUNT_RUB_ATM_PRC       | 0   \n",
      " TURNOVER_PAYM            | 0   \n",
      " AGE                      | 0   \n",
      " CR_PROD_CNT_CC           | 0   \n",
      " REST_DYNAMIC_FDEP_3M     | 0   \n",
      " REST_DYNAMIC_IL_1M       | 0   \n",
      " CR_PROD_CNT_CCFP         | 0   \n",
      " REST_DYNAMIC_CUR_1M      | 0   \n",
      " REST_AVG_PAYM            | 0   \n",
      " LDEAL_GRACE_DAYS_PCT_MED | 0   \n",
      " REST_DYNAMIC_CUR_3M      | 0   \n",
      " TURNOVER_DYNAMIC_CUR_1M  | 0   \n",
      " REST_DYNAMIC_PAYM_3M     | 0   \n",
      " REST_DYNAMIC_IL_3M       | 0   \n",
      " CNT_TRAN_ATM_TENDENCY3M  | 0   \n",
      " TURNOVER_DYNAMIC_IL_3M   | 0   \n",
      " REST_DYNAMIC_PAYM_1M     | 0   \n",
      " TURNOVER_DYNAMIC_CUR_3M  | 0   \n",
      " CLNT_SETUP_TENOR         | 0   \n",
      " TURNOVER_DYNAMIC_PAYM_3M | 0   \n",
      " TURNOVER_DYNAMIC_PAYM_1M | 0   \n",
      " TRANS_CNT_TENDENCY3M     | 0   \n",
      " REST_DYNAMIC_CC_1M       | 0   \n",
      " TURNOVER_DYNAMIC_CC_1M   | 0   \n",
      " REST_DYNAMIC_CC_3M       | 0   \n",
      " TURNOVER_DYNAMIC_CC_3M   | 0   \n",
      "\n"
     ]
    }
   ],
   "source": [
    "clean_test.select(countCols(clean_test.columns):_*).show(50, 100, true)"
   ]
  },
  {
   "cell_type": "code",
   "execution_count": null,
   "metadata": {},
   "outputs": [],
   "source": [
    "val train_columns_to_select = clean_train.columns.drop(1)\n",
    "val train_columns_to_features = clean_train.columns.drop(2).dropRight(1)"
   ]
  },
  {
   "cell_type": "code",
   "execution_count": 96,
   "metadata": {},
   "outputs": [
    {
     "data": {
      "text/plain": [
       "assembler = vecAssembler_492996605198\n",
       "gbt = gbtc_30af29039887\n"
      ]
     },
     "metadata": {},
     "output_type": "display_data"
    },
    {
     "data": {
      "text/plain": [
       "gbtc_30af29039887"
      ]
     },
     "execution_count": 96,
     "metadata": {},
     "output_type": "execute_result"
    }
   ],
   "source": [
    "val assembler = new VectorAssembler().setInputCols(train_columns_to_features).setOutputCol(\"features\")\n",
    "val gbt = new GBTClassifier().setLabelCol(\"TARGET\").setFeaturesCol(\"features\").setMaxDepth(7).setFeatureSubsetStrategy(\"auto\")"
   ]
  },
  {
   "cell_type": "code",
   "execution_count": 98,
   "metadata": {},
   "outputs": [
    {
     "data": {
      "text/plain": [
       "pipeline = pipeline_f30433a816be\n"
      ]
     },
     "metadata": {},
     "output_type": "display_data"
    },
    {
     "data": {
      "text/plain": [
       "pipeline_f30433a816be"
      ]
     },
     "execution_count": 98,
     "metadata": {},
     "output_type": "execute_result"
    }
   ],
   "source": [
    "val pipeline = new Pipeline().setStages(Array(assembler, gbt))"
   ]
  },
  {
   "cell_type": "code",
   "execution_count": 100,
   "metadata": {},
   "outputs": [
    {
     "data": {
      "text/plain": [
       "model = pipeline_f30433a816be\n"
      ]
     },
     "metadata": {},
     "output_type": "display_data"
    },
    {
     "data": {
      "text/plain": [
       "pipeline_f30433a816be"
      ]
     },
     "execution_count": 100,
     "metadata": {},
     "output_type": "execute_result"
    }
   ],
   "source": [
    "val model = pipeline.fit(clean_train)"
   ]
  },
  {
   "cell_type": "code",
   "execution_count": 101,
   "metadata": {},
   "outputs": [
    {
     "data": {
      "text/plain": [
       "predictions = [_c0: int, ID: int ... 45 more fields]\n"
      ]
     },
     "metadata": {},
     "output_type": "display_data"
    },
    {
     "data": {
      "text/plain": [
       "[_c0: int, ID: int ... 45 more fields]"
      ]
     },
     "execution_count": 101,
     "metadata": {},
     "output_type": "execute_result"
    }
   ],
   "source": [
    "val predictions = model.transform(clean_test)"
   ]
  },
  {
   "cell_type": "code",
   "execution_count": 103,
   "metadata": {},
   "outputs": [
    {
     "name": "stdout",
     "output_type": "stream",
     "text": [
      "+----------+-----+\n",
      "|prediction|count|\n",
      "+----------+-----+\n",
      "|       0.0|44269|\n",
      "|       1.0|  130|\n",
      "+----------+-----+\n",
      "\n"
     ]
    }
   ],
   "source": [
    "predictions.groupBy('prediction).count.show"
   ]
  },
  {
   "cell_type": "code",
   "execution_count": 112,
   "metadata": {},
   "outputs": [
    {
     "data": {
      "text/plain": [
       "toArr = > Array[Double] = <function1>\n",
       "toArrUdf = UserDefinedFunction(<function1>,ArrayType(DoubleType,false),None)\n",
       "dataWithFeaturesArr = [_c0: int, ID: int ... 46 more fields]\n"
      ]
     },
     "metadata": {},
     "output_type": "display_data"
    },
    {
     "data": {
      "text/plain": [
       "[_c0: int, ID: int ... 46 more fields]"
      ]
     },
     "execution_count": 112,
     "metadata": {},
     "output_type": "execute_result"
    }
   ],
   "source": [
    "val toArr: Any => Array[Double] = _.asInstanceOf[DenseVector].toArray\n",
    "val toArrUdf = udf(toArr)"
   ]
  },
  {
   "cell_type": "code",
   "execution_count": 130,
   "metadata": {},
   "outputs": [
    {
     "data": {
      "text/plain": [
       "result = [id: int, target: double]\n"
      ]
     },
     "metadata": {},
     "output_type": "display_data"
    },
    {
     "data": {
      "text/plain": [
       "[id: int, target: double]"
      ]
     },
     "execution_count": 130,
     "metadata": {},
     "output_type": "execute_result"
    }
   ],
   "source": [
    "val result = predictions.select('ID, 'probability)\n",
    "    .withColumn(\"probability_arr\", toArrUdf('probability))\n",
    "    .select('ID.alias(\"id\"), element_at('probability_arr, 2).alias(\"target\"))"
   ]
  },
  {
   "cell_type": "code",
   "execution_count": 134,
   "metadata": {
    "scrolled": true
   },
   "outputs": [
    {
     "name": "stdout",
     "output_type": "stream",
     "text": [
      "-RECORD 0----------------------\n",
      " id     | 519130               \n",
      " target | 0.2556870669138509   \n",
      "-RECORD 1----------------------\n",
      " id     | 234045               \n",
      " target | 0.04926471007562305  \n",
      "-RECORD 2----------------------\n",
      " id     | 401256               \n",
      " target | 0.04814686291447734  \n",
      "-RECORD 3----------------------\n",
      " id     | 551070               \n",
      " target | 0.047398589333296104 \n",
      "-RECORD 4----------------------\n",
      " id     | 367285               \n",
      " target | 0.045669040159410645 \n",
      "-RECORD 5----------------------\n",
      " id     | 497998               \n",
      " target | 0.05124033383249449  \n",
      "-RECORD 6----------------------\n",
      " id     | 413082               \n",
      " target | 0.08172089909659153  \n",
      "-RECORD 7----------------------\n",
      " id     | 349893               \n",
      " target | 0.045669040159410645 \n",
      "-RECORD 8----------------------\n",
      " id     | 346337               \n",
      " target | 0.1455097315993732   \n",
      "-RECORD 9----------------------\n",
      " id     | 289979               \n",
      " target | 0.04576391013280712  \n",
      "only showing top 10 rows\n",
      "\n"
     ]
    }
   ],
   "source": [
    "result.show(10, 100, true)"
   ]
  },
  {
   "cell_type": "code",
   "execution_count": 133,
   "metadata": {},
   "outputs": [],
   "source": [
    "result.repartition(1).write.option(\"header\", true).option(\"delimiter\", \"\\t\").csv(\"lab05_3.csv\")"
   ]
  }
 ],
 "metadata": {
  "kernelspec": {
   "display_name": "Apache Toree - Scala",
   "language": "scala",
   "name": "apache_toree_scala"
  },
  "language_info": {
   "codemirror_mode": "text/x-scala",
   "file_extension": ".scala",
   "mimetype": "text/x-scala",
   "name": "scala",
   "pygments_lexer": "scala",
   "version": "2.11.12"
  }
 },
 "nbformat": 4,
 "nbformat_minor": 2
}
