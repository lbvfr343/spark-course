{
 "cells": [
  {
   "cell_type": "code",
   "execution_count": 1,
   "metadata": {},
   "outputs": [],
   "source": [
    "import scala.util.Try\n",
    "import scala.math.max\n",
    "import org.apache.spark._\n",
    "import org.apache.log4j._\n",
    "import org.apache.spark.rdd.RDD\n",
    "import org.apache.spark.sql.{DataFrame, Dataset, SparkSession}\n",
    "import org.apache.spark.sql.functions.{concat, lit}\n",
    "import org.apache.spark.sql.functions.{col, udf}\n",
    "import org.apache.spark.sql.functions.expr\n",
    "import org.apache.spark.sql.functions._\n",
    "import org.apache.spark.SparkContext\n",
    "import org.apache.spark.SparkContext._\n",
    "import org.apache.spark.sql.types._\n",
    "import java.net.URLDecoder"
   ]
  },
  {
   "cell_type": "code",
   "execution_count": 2,
   "metadata": {},
   "outputs": [],
   "source": [
    "import org.apache.spark.ml.feature.VectorAssembler\n",
    "import org.apache.spark.ml.linalg.{DenseVector, SparseVector, Vector, Vectors}\n",
    "import org.apache.spark.ml.evaluation.BinaryClassificationEvaluator\n",
    "import org.apache.spark.ml.classification.{RandomForestClassificationModel, RandomForestClassifier}\n",
    "import org.apache.spark.ml.classification.{GBTClassificationModel, GBTClassifier}"
   ]
  },
  {
   "cell_type": "code",
   "execution_count": 3,
   "metadata": {},
   "outputs": [
    {
     "data": {
      "text/plain": [
       "spark = org.apache.spark.sql.SparkSession@2106b0d6\n"
      ]
     },
     "metadata": {},
     "output_type": "display_data"
    },
    {
     "data": {
      "text/plain": [
       "org.apache.spark.sql.SparkSession@2106b0d6"
      ]
     },
     "execution_count": 3,
     "metadata": {},
     "output_type": "execute_result"
    }
   ],
   "source": [
    "val spark = SparkSession.builder().appName(\"Morozov_N_A\").config(\"spark.master\", \"yarn\").getOrCreate()"
   ]
  },
  {
   "cell_type": "markdown",
   "metadata": {},
   "source": [
    "# 1. Импортируем данные"
   ]
  },
  {
   "cell_type": "code",
   "execution_count": 4,
   "metadata": {},
   "outputs": [
    {
     "data": {
      "text/plain": [
       "train = [_c0: string, ID: string ... 115 more fields]\n",
       "test = [_c0: string, ID: string ... 114 more fields]\n"
      ]
     },
     "metadata": {},
     "output_type": "display_data"
    },
    {
     "data": {
      "text/plain": [
       "[_c0: string, ID: string ... 114 more fields]"
      ]
     },
     "execution_count": 4,
     "metadata": {},
     "output_type": "execute_result"
    }
   ],
   "source": [
    "val train = spark.read\n",
    "                    .option(\"delimiter\", \",\")\n",
    "                    .option(\"header\", \"True\")\n",
    "                    .option(\"encoding\",\"utf-8\")\n",
    "                    .csv(\"/labs/slaba05/lab05_train.csv\")\n",
    "val test = spark.read\n",
    "                    .option(\"delimiter\", \",\")\n",
    "                    .option(\"header\", \"True\")\n",
    "                    .option(\"encoding\",\"utf-8\")\n",
    "                    .csv(\"/labs/slaba05/lab05_test.csv\")"
   ]
  },
  {
   "cell_type": "code",
   "execution_count": 5,
   "metadata": {},
   "outputs": [
    {
     "name": "stdout",
     "output_type": "stream",
     "text": [
      "root\n",
      " |-- _c0: string (nullable = true)\n",
      " |-- ID: string (nullable = true)\n",
      " |-- CR_PROD_CNT_IL: string (nullable = true)\n",
      " |-- AMOUNT_RUB_CLO_PRC: string (nullable = true)\n",
      " |-- PRC_ACCEPTS_A_EMAIL_LINK: string (nullable = true)\n",
      " |-- APP_REGISTR_RGN_CODE: string (nullable = true)\n",
      " |-- PRC_ACCEPTS_A_POS: string (nullable = true)\n",
      " |-- PRC_ACCEPTS_A_TK: string (nullable = true)\n",
      " |-- TURNOVER_DYNAMIC_IL_1M: string (nullable = true)\n",
      " |-- CNT_TRAN_AUT_TENDENCY1M: string (nullable = true)\n",
      " |-- SUM_TRAN_AUT_TENDENCY1M: string (nullable = true)\n",
      " |-- AMOUNT_RUB_SUP_PRC: string (nullable = true)\n",
      " |-- PRC_ACCEPTS_A_AMOBILE: string (nullable = true)\n",
      " |-- SUM_TRAN_AUT_TENDENCY3M: string (nullable = true)\n",
      " |-- CLNT_TRUST_RELATION: string (nullable = true)\n",
      " |-- PRC_ACCEPTS_TK: string (nullable = true)\n",
      " |-- PRC_ACCEPTS_A_MTP: string (nullable = true)\n",
      " |-- REST_DYNAMIC_FDEP_1M: string (nullable = true)\n",
      " |-- CNT_TRAN_AUT_TENDENCY3M: string (nullable = true)\n",
      " |-- CNT_ACCEPTS_TK: string (nullable = true)\n",
      " |-- APP_MARITAL_STATUS: string (nullable = true)\n",
      " |-- REST_DYNAMIC_SAVE_3M: string (nullable = true)\n",
      " |-- CR_PROD_CNT_VCU: string (nullable = true)\n",
      " |-- REST_AVG_CUR: string (nullable = true)\n",
      " |-- CNT_TRAN_MED_TENDENCY1M: string (nullable = true)\n",
      " |-- APP_KIND_OF_PROP_HABITATION: string (nullable = true)\n",
      " |-- CLNT_JOB_POSITION_TYPE: string (nullable = true)\n",
      " |-- AMOUNT_RUB_NAS_PRC: string (nullable = true)\n",
      " |-- CLNT_JOB_POSITION: string (nullable = true)\n",
      " |-- APP_DRIVING_LICENSE: string (nullable = true)\n",
      " |-- TRANS_COUNT_SUP_PRC: string (nullable = true)\n",
      " |-- APP_EDUCATION: string (nullable = true)\n",
      " |-- CNT_TRAN_CLO_TENDENCY1M: string (nullable = true)\n",
      " |-- SUM_TRAN_MED_TENDENCY1M: string (nullable = true)\n",
      " |-- PRC_ACCEPTS_A_ATM: string (nullable = true)\n",
      " |-- PRC_ACCEPTS_MTP: string (nullable = true)\n",
      " |-- TRANS_COUNT_NAS_PRC: string (nullable = true)\n",
      " |-- APP_TRAVEL_PASS: string (nullable = true)\n",
      " |-- CNT_ACCEPTS_MTP: string (nullable = true)\n",
      " |-- CR_PROD_CNT_TOVR: string (nullable = true)\n",
      " |-- APP_CAR: string (nullable = true)\n",
      " |-- CR_PROD_CNT_PIL: string (nullable = true)\n",
      " |-- SUM_TRAN_CLO_TENDENCY1M: string (nullable = true)\n",
      " |-- APP_POSITION_TYPE: string (nullable = true)\n",
      " |-- TURNOVER_CC: string (nullable = true)\n",
      " |-- TRANS_COUNT_ATM_PRC: string (nullable = true)\n",
      " |-- AMOUNT_RUB_ATM_PRC: string (nullable = true)\n",
      " |-- TURNOVER_PAYM: string (nullable = true)\n",
      " |-- AGE: string (nullable = true)\n",
      " |-- CNT_TRAN_MED_TENDENCY3M: string (nullable = true)\n",
      " |-- CR_PROD_CNT_CC: string (nullable = true)\n",
      " |-- SUM_TRAN_MED_TENDENCY3M: string (nullable = true)\n",
      " |-- REST_DYNAMIC_FDEP_3M: string (nullable = true)\n",
      " |-- REST_DYNAMIC_IL_1M: string (nullable = true)\n",
      " |-- APP_EMP_TYPE: string (nullable = true)\n",
      " |-- SUM_TRAN_CLO_TENDENCY3M: string (nullable = true)\n",
      " |-- LDEAL_TENOR_MAX: string (nullable = true)\n",
      " |-- LDEAL_YQZ_CHRG: string (nullable = true)\n",
      " |-- CR_PROD_CNT_CCFP: string (nullable = true)\n",
      " |-- DEAL_YQZ_IR_MAX: string (nullable = true)\n",
      " |-- LDEAL_YQZ_COM: string (nullable = true)\n",
      " |-- DEAL_YQZ_IR_MIN: string (nullable = true)\n",
      " |-- CNT_TRAN_CLO_TENDENCY3M: string (nullable = true)\n",
      " |-- REST_DYNAMIC_CUR_1M: string (nullable = true)\n",
      " |-- REST_AVG_PAYM: string (nullable = true)\n",
      " |-- LDEAL_TENOR_MIN: string (nullable = true)\n",
      " |-- LDEAL_AMT_MONTH: string (nullable = true)\n",
      " |-- APP_COMP_TYPE: string (nullable = true)\n",
      " |-- LDEAL_GRACE_DAYS_PCT_MED: string (nullable = true)\n",
      " |-- REST_DYNAMIC_CUR_3M: string (nullable = true)\n",
      " |-- CNT_TRAN_SUP_TENDENCY3M: string (nullable = true)\n",
      " |-- TURNOVER_DYNAMIC_CUR_1M: string (nullable = true)\n",
      " |-- REST_DYNAMIC_PAYM_3M: string (nullable = true)\n",
      " |-- SUM_TRAN_SUP_TENDENCY3M: string (nullable = true)\n",
      " |-- REST_DYNAMIC_IL_3M: string (nullable = true)\n",
      " |-- CNT_TRAN_ATM_TENDENCY3M: string (nullable = true)\n",
      " |-- CNT_TRAN_ATM_TENDENCY1M: string (nullable = true)\n",
      " |-- TURNOVER_DYNAMIC_IL_3M: string (nullable = true)\n",
      " |-- SUM_TRAN_ATM_TENDENCY3M: string (nullable = true)\n",
      " |-- DEAL_GRACE_DAYS_ACC_S1X1: string (nullable = true)\n",
      " |-- AVG_PCT_MONTH_TO_PCLOSE: string (nullable = true)\n",
      " |-- DEAL_YWZ_IR_MIN: string (nullable = true)\n",
      " |-- SUM_TRAN_SUP_TENDENCY1M: string (nullable = true)\n",
      " |-- DEAL_YWZ_IR_MAX: string (nullable = true)\n",
      " |-- SUM_TRAN_ATM_TENDENCY1M: string (nullable = true)\n",
      " |-- REST_DYNAMIC_PAYM_1M: string (nullable = true)\n",
      " |-- CNT_TRAN_SUP_TENDENCY1M: string (nullable = true)\n",
      " |-- DEAL_GRACE_DAYS_ACC_AVG: string (nullable = true)\n",
      " |-- TURNOVER_DYNAMIC_CUR_3M: string (nullable = true)\n",
      " |-- PACK: string (nullable = true)\n",
      " |-- MAX_PCLOSE_DATE: string (nullable = true)\n",
      " |-- LDEAL_YQZ_PC: string (nullable = true)\n",
      " |-- CLNT_SETUP_TENOR: string (nullable = true)\n",
      " |-- DEAL_GRACE_DAYS_ACC_MAX: string (nullable = true)\n",
      " |-- TURNOVER_DYNAMIC_PAYM_3M: string (nullable = true)\n",
      " |-- LDEAL_DELINQ_PER_MAXYQZ: string (nullable = true)\n",
      " |-- TURNOVER_DYNAMIC_PAYM_1M: string (nullable = true)\n",
      " |-- CLNT_SALARY_VALUE: string (nullable = true)\n",
      " |-- TRANS_AMOUNT_TENDENCY3M: string (nullable = true)\n",
      " |-- MED_DEBT_PRC_YQZ: string (nullable = true)\n",
      " |-- TRANS_CNT_TENDENCY3M: string (nullable = true)\n",
      " |-- LDEAL_USED_AMT_AVG_YQZ: string (nullable = true)\n",
      " |-- REST_DYNAMIC_CC_1M: string (nullable = true)\n",
      " |-- LDEAL_USED_AMT_AVG_YWZ: string (nullable = true)\n",
      " |-- TURNOVER_DYNAMIC_CC_1M: string (nullable = true)\n",
      " |-- AVG_PCT_DEBT_TO_DEAL_AMT: string (nullable = true)\n",
      " |-- LDEAL_ACT_DAYS_ACC_PCT_AVG: string (nullable = true)\n",
      " |-- REST_DYNAMIC_CC_3M: string (nullable = true)\n",
      " |-- MED_DEBT_PRC_YWZ: string (nullable = true)\n",
      " |-- LDEAL_ACT_DAYS_PCT_TR3: string (nullable = true)\n",
      " |-- LDEAL_ACT_DAYS_PCT_AAVG: string (nullable = true)\n",
      " |-- LDEAL_DELINQ_PER_MAXYWZ: string (nullable = true)\n",
      " |-- TURNOVER_DYNAMIC_CC_3M: string (nullable = true)\n",
      " |-- LDEAL_ACT_DAYS_PCT_TR: string (nullable = true)\n",
      " |-- LDEAL_ACT_DAYS_PCT_TR4: string (nullable = true)\n",
      " |-- LDEAL_ACT_DAYS_PCT_CURR: string (nullable = true)\n",
      " |-- TARGET: string (nullable = true)\n",
      "\n"
     ]
    }
   ],
   "source": [
    "train.printSchema()"
   ]
  },
  {
   "cell_type": "markdown",
   "metadata": {},
   "source": [
    "# 2. Избавляемся от ненужных столбцов"
   ]
  },
  {
   "cell_type": "code",
   "execution_count": 6,
   "metadata": {},
   "outputs": [
    {
     "data": {
      "text/plain": [
       "df_train = [ID: string, CR_PROD_CNT_IL: string ... 101 more fields]\n",
       "df_test = [ID: string, CR_PROD_CNT_IL: string ... 100 more fields]\n"
      ]
     },
     "metadata": {},
     "output_type": "display_data"
    },
    {
     "data": {
      "text/plain": [
       "[ID: string, CR_PROD_CNT_IL: string ... 100 more fields]"
      ]
     },
     "execution_count": 6,
     "metadata": {},
     "output_type": "execute_result"
    }
   ],
   "source": [
    "var df_train = train.drop(\"APP_CAR\", \"APP_COMP_TYPE\", \"APP_COMP_TYPE\", \"APP_DRIVING_LICENSE\", \"APP_EMP_TYPE\", \n",
    "                      \"APP_KIND_OF_PROP_HABITATION\", \"APP_MARITAL_STATUS\", \"APP_POSITION_TYPE\", \"APP_TRAVEL_PASS\",\n",
    "                      \"APP_REGISTR_RGN_CODE\", \"APP_TRAVEL_PASS\", \n",
    "                      \"CLNT_JOB_POSITION_TYPE\", \"PACK\", \"_c0\",\n",
    "                     \"CLNT_TRUST_RELATION\", \"CLNT_JOB_POSITION\")\n",
    "var df_test = test.drop(\"APP_CAR\", \"APP_COMP_TYPE\", \"APP_COMP_TYPE\", \"APP_DRIVING_LICENSE\", \"APP_EMP_TYPE\", \n",
    "                      \"APP_KIND_OF_PROP_HABITATION\", \"APP_MARITAL_STATUS\", \"APP_POSITION_TYPE\", \"APP_TRAVEL_PASS\",\n",
    "                      \"APP_REGISTR_RGN_CODE\", \"APP_TRAVEL_PASS\", \n",
    "                      \"CLNT_JOB_POSITION_TYPE\", \"PACK\", \"_c0\",\n",
    "                     \"CLNT_TRUST_RELATION\", \"CLNT_JOB_POSITION\")"
   ]
  },
  {
   "cell_type": "markdown",
   "metadata": {},
   "source": [
    "# 3. Записываем все признаки в отдельный список"
   ]
  },
  {
   "cell_type": "code",
   "execution_count": 7,
   "metadata": {},
   "outputs": [
    {
     "data": {
      "text/plain": [
       "feature_list = Array(TARGET, LDEAL_ACT_DAYS_PCT_CURR, LDEAL_ACT_DAYS_PCT_TR4, LDEAL_ACT_DAYS_PCT_TR, TURNOVER_DYNAMIC_CC_3M, LDEAL_DELINQ_PER_MAXYWZ, LDEAL_ACT_DAYS_PCT_AAVG, LDEAL_ACT_DAYS_PCT_TR3, MED_DEBT_PRC_YWZ, REST_DYNAMIC_CC_3M, LDEAL_ACT_DAYS_ACC_PCT_AVG, AVG_PCT_DEBT_TO_DEAL_AMT, TURNOVER_DYNAMIC_CC_1M, LDEAL_USED_AMT_AVG_YWZ, REST_DYNAMIC_CC_1M, LDEAL_USED_AMT_AVG_YQZ, TRANS_CNT_TENDENCY3M, MED_DEBT_PRC_YQZ, TRANS_AMOUNT_TENDENCY3M, CLNT_SALARY_VALUE, TURNOVER_DYNAMIC_PAYM_1M, LDEAL_DELINQ_PER_MAXYQZ, TURNOVER_DYNAMIC_PAYM_3M, DEAL_GRACE_DAYS_ACC_MAX, CLNT_SETUP_TENOR, LDEAL_YQZ_PC, MAX_PCLOSE_DATE, TURNOVER_DYNAMIC_CUR_3M, DEAL_GRACE_DAYS_ACC_AVG, CNT_TRAN_SUP_TENDENCY1M, REST_DYNAMIC_PAYM_1M, SUM_TRAN_ATM_TENDENCY1M, DEAL_YWZ_IR_MAX, SUM_TRAN_SUP_TENDENCY1M, ...\n"
      ]
     },
     "metadata": {},
     "output_type": "display_data"
    },
    {
     "data": {
      "text/plain": [
       "Array(TARGET, LDEAL_ACT_DAYS_PCT_CURR, LDEAL_ACT_DAYS_PCT_TR4, LDEAL_ACT_DAYS_PCT_TR, TURNOVER_DYNAMIC_CC_3M, LDEAL_DELINQ_PER_MAXYWZ, LDEAL_ACT_DAYS_PCT_AAVG, LDEAL_ACT_DAYS_PCT_TR3, MED_DEBT_PRC_YWZ, REST_DYNAMIC_CC_3M, LDEAL_ACT_DAYS_ACC_PCT_AVG, AVG_PCT_DEBT_TO_DEAL_AMT, TURNOVER_DYNAMIC_CC_1M, LDEAL_USED_AMT_AVG_YWZ, REST_DYNAMIC_CC_1M, LDEAL_USED_AMT_AVG_YQZ, TRANS_CNT_TENDENCY3M, MED_DEBT_PRC_YQZ, TRANS_AMOUNT_TENDENCY3M, CLNT_SALARY_VALUE, TURNOVER_DYNAMIC_PAYM_1M, LDEAL_DELINQ_PER_MAXYQZ, TURNOVER_DYNAMIC_PAYM_3M, DEAL_GRACE_DAYS_ACC_MAX, CLNT_SETUP_TENOR, LDEAL_YQZ_PC, MAX_PCLOSE_DATE, TURNOVER_DYNAMIC_CUR_3M, DEAL_GRACE_DAYS_ACC_AVG, CNT_TRAN_SUP_TENDENCY1M, REST_DYNAMIC_PAYM_1M, SUM_TRAN_ATM_TENDENCY1M, DEAL_YWZ_IR_MAX, SUM_TRAN_SUP_TENDENCY1M, ..."
      ]
     },
     "execution_count": 7,
     "metadata": {},
     "output_type": "execute_result"
    }
   ],
   "source": [
    "var feature_list = Array[String]()\n",
    "for (t <- df_train.columns if (t!=\"ID\"))\n",
    "{ df_train = df_train.withColumn(t, col(t).cast(FloatType))\n",
    "        feature_list +:= t}\n",
    "val b = feature_list.filter(! _.contains(\"TARGET\"))"
   ]
  },
  {
   "cell_type": "code",
   "execution_count": 8,
   "metadata": {},
   "outputs": [],
   "source": [
    "for (t <- df_test.columns if (t!=\"ID\"))\n",
    "{ df_test = df_test.withColumn(t, col(t).cast(FloatType))}"
   ]
  },
  {
   "cell_type": "markdown",
   "metadata": {},
   "source": [
    "# 4. Избавляемся от NULL и записываем все признаки в VectorAssembler"
   ]
  },
  {
   "cell_type": "code",
   "execution_count": 9,
   "metadata": {},
   "outputs": [
    {
     "data": {
      "text/plain": [
       "df_test = [ID: string, CR_PROD_CNT_IL: float ... 100 more fields]\n",
       "df_train = [ID: string, CR_PROD_CNT_IL: float ... 101 more fields]\n"
      ]
     },
     "metadata": {},
     "output_type": "display_data"
    },
    {
     "data": {
      "text/plain": [
       "[ID: string, CR_PROD_CNT_IL: float ... 101 more fields]"
      ]
     },
     "execution_count": 9,
     "metadata": {},
     "output_type": "execute_result"
    }
   ],
   "source": [
    "df_test = df_test.na.fill(value=0.0)\n",
    "df_train = df_train.na.fill(value=0.0)"
   ]
  },
  {
   "cell_type": "code",
   "execution_count": 10,
   "metadata": {},
   "outputs": [
    {
     "data": {
      "text/plain": [
       "assembler = vecAssembler_7f360674e938\n"
      ]
     },
     "metadata": {},
     "output_type": "display_data"
    },
    {
     "data": {
      "text/plain": [
       "vecAssembler_7f360674e938"
      ]
     },
     "execution_count": 10,
     "metadata": {},
     "output_type": "execute_result"
    }
   ],
   "source": [
    "val assembler = new VectorAssembler()\n",
    "                    .setInputCols(b)\n",
    "                    .setOutputCol(\"features\")"
   ]
  },
  {
   "cell_type": "markdown",
   "metadata": {},
   "source": [
    "# 5. Приводим колонку \"TARGET\" к типу INT и репартицируем датафреймы"
   ]
  },
  {
   "cell_type": "code",
   "execution_count": 11,
   "metadata": {},
   "outputs": [
    {
     "data": {
      "text/plain": [
       "df_train = [ID: string, CR_PROD_CNT_IL: float ... 101 more fields]\n"
      ]
     },
     "metadata": {},
     "output_type": "display_data"
    },
    {
     "data": {
      "text/plain": [
       "[ID: string, CR_PROD_CNT_IL: float ... 101 more fields]"
      ]
     },
     "execution_count": 11,
     "metadata": {},
     "output_type": "execute_result"
    }
   ],
   "source": [
    "df_train = df_train.withColumn(\"TARGET\", col(\"TARGET\").cast(IntegerType))"
   ]
  },
  {
   "cell_type": "code",
   "execution_count": 12,
   "metadata": {},
   "outputs": [
    {
     "data": {
      "text/plain": [
       "train_data = [ID: string, CR_PROD_CNT_IL: float ... 102 more fields]\n",
       "test_data = [ID: string, CR_PROD_CNT_IL: float ... 101 more fields]\n"
      ]
     },
     "metadata": {},
     "output_type": "display_data"
    },
    {
     "data": {
      "text/plain": [
       "[ID: string, CR_PROD_CNT_IL: float ... 101 more fields]"
      ]
     },
     "execution_count": 12,
     "metadata": {},
     "output_type": "execute_result"
    }
   ],
   "source": [
    "val train_data=assembler.transform(df_train).repartition(30)\n",
    "val test_data=assembler.transform(df_test).repartition(30)"
   ]
  },
  {
   "cell_type": "markdown",
   "metadata": {},
   "source": [
    "# 6. Создаем evaluator и модель GBT"
   ]
  },
  {
   "cell_type": "code",
   "execution_count": 13,
   "metadata": {},
   "outputs": [
    {
     "data": {
      "text/plain": [
       "evaluator = binEval_aa625e4115ef\n"
      ]
     },
     "metadata": {},
     "output_type": "display_data"
    },
    {
     "data": {
      "text/plain": [
       "binEval_aa625e4115ef"
      ]
     },
     "execution_count": 13,
     "metadata": {},
     "output_type": "execute_result"
    }
   ],
   "source": [
    "val evaluator = new BinaryClassificationEvaluator()\n",
    "                        .setLabelCol(\"TARGET\")\n",
    "                        .setRawPredictionCol(\"probability\")\n",
    "                        .setMetricName(\"areaUnderROC\")"
   ]
  },
  {
   "cell_type": "code",
   "execution_count": 35,
   "metadata": {},
   "outputs": [
    {
     "data": {
      "text/plain": [
       "gbt = gbtc_3d7f77b992e6\n"
      ]
     },
     "metadata": {},
     "output_type": "display_data"
    },
    {
     "data": {
      "text/plain": [
       "gbtc_3d7f77b992e6"
      ]
     },
     "execution_count": 35,
     "metadata": {},
     "output_type": "execute_result"
    }
   ],
   "source": [
    "val gbt = new GBTClassifier()\n",
    "      .setFeaturesCol(\"features\")\n",
    "      .setLabelCol(\"TARGET\")\n",
    "      .setMaxDepth(4)\n",
    "      .setMaxIter(50)"
   ]
  },
  {
   "cell_type": "markdown",
   "metadata": {},
   "source": [
    "# 7. Обучаем модель и смотрим ROC_AUC на train"
   ]
  },
  {
   "cell_type": "code",
   "execution_count": 43,
   "metadata": {},
   "outputs": [
    {
     "data": {
      "text/plain": [
       "model_gbt = GBTClassificationModel (uid=gbtc_3d7f77b992e6) with 50 trees\n"
      ]
     },
     "metadata": {},
     "output_type": "display_data"
    },
    {
     "data": {
      "text/plain": [
       "GBTClassificationModel (uid=gbtc_3d7f77b992e6) with 50 trees"
      ]
     },
     "execution_count": 43,
     "metadata": {},
     "output_type": "execute_result"
    }
   ],
   "source": [
    "val model_gbt = gbt.fit(train_data)"
   ]
  },
  {
   "cell_type": "code",
   "execution_count": 44,
   "metadata": {},
   "outputs": [
    {
     "data": {
      "text/plain": [
       "predictions_train = [ID: string, CR_PROD_CNT_IL: float ... 105 more fields]\n"
      ]
     },
     "metadata": {},
     "output_type": "display_data"
    },
    {
     "data": {
      "text/plain": [
       "[ID: string, CR_PROD_CNT_IL: float ... 105 more fields]"
      ]
     },
     "execution_count": 44,
     "metadata": {},
     "output_type": "execute_result"
    }
   ],
   "source": [
    "val predictions_train = model_gbt.transform(train_data)"
   ]
  },
  {
   "cell_type": "code",
   "execution_count": 45,
   "metadata": {},
   "outputs": [
    {
     "data": {
      "text/plain": [
       "ROC_AUC = 0.8293773942380271\n"
      ]
     },
     "metadata": {},
     "output_type": "display_data"
    },
    {
     "data": {
      "text/plain": [
       "0.8293773942380271"
      ]
     },
     "execution_count": 45,
     "metadata": {},
     "output_type": "execute_result"
    }
   ],
   "source": [
    "val ROC_AUC = evaluator.evaluate(predictions_train)"
   ]
  },
  {
   "cell_type": "markdown",
   "metadata": {},
   "source": [
    "# 8. Predict и сохранение результатов в файл"
   ]
  },
  {
   "cell_type": "code",
   "execution_count": 46,
   "metadata": {},
   "outputs": [
    {
     "data": {
      "text/plain": [
       "predictions_test = [ID: string, CR_PROD_CNT_IL: float ... 104 more fields]\n"
      ]
     },
     "metadata": {},
     "output_type": "display_data"
    },
    {
     "data": {
      "text/plain": [
       "[ID: string, CR_PROD_CNT_IL: float ... 104 more fields]"
      ]
     },
     "execution_count": 46,
     "metadata": {},
     "output_type": "execute_result"
    }
   ],
   "source": [
    "val predictions_test = model_gbt.transform(test_data)"
   ]
  },
  {
   "cell_type": "code",
   "execution_count": 47,
   "metadata": {},
   "outputs": [
    {
     "data": {
      "text/plain": [
       "sparse_to_dense = UserDefinedFunction(<function1>,ArrayType(DoubleType,false),Some(List(org.apache.spark.ml.linalg.VectorUDT@3bfc3ba7)))\n"
      ]
     },
     "metadata": {},
     "output_type": "display_data"
    },
    {
     "data": {
      "text/plain": [
       "UserDefinedFunction(<function1>,ArrayType(DoubleType,false),Some(List(org.apache.spark.ml.linalg.VectorUDT@3bfc3ba7)))"
      ]
     },
     "execution_count": 47,
     "metadata": {},
     "output_type": "execute_result"
    }
   ],
   "source": [
    "val sparse_to_dense = udf((v: Vector) =>  v.toArray)"
   ]
  },
  {
   "cell_type": "code",
   "execution_count": 48,
   "metadata": {},
   "outputs": [
    {
     "data": {
      "text/plain": [
       "to_file = [id: string, target: double]\n"
      ]
     },
     "metadata": {},
     "output_type": "display_data"
    },
    {
     "data": {
      "text/plain": [
       "[id: string, target: double]"
      ]
     },
     "execution_count": 48,
     "metadata": {},
     "output_type": "execute_result"
    }
   ],
   "source": [
    "val to_file = predictions_test.select(col(\"ID\").alias(\"id\"), sparse_to_dense(col(\"probability\")).getItem(1).alias(\"target\")).coalesce(1)"
   ]
  },
  {
   "cell_type": "code",
   "execution_count": 49,
   "metadata": {},
   "outputs": [
    {
     "name": "stdout",
     "output_type": "stream",
     "text": [
      "+------+--------------------+\n",
      "|    id|              target|\n",
      "+------+--------------------+\n",
      "|338743|0.024805269146610742|\n",
      "|396274| 0.03777292752840988|\n",
      "|317805|  0.0243917861879841|\n",
      "|398424| 0.02616533484298622|\n",
      "|373496|  0.3102215569416581|\n",
      "|209206| 0.22928062403202587|\n",
      "|319688| 0.05867972838534208|\n",
      "|345326|0.026067998458554897|\n",
      "|373023|0.026626262516316723|\n",
      "|225004| 0.19461009369011084|\n",
      "|192599| 0.10909016693733575|\n",
      "|470522| 0.11907765220883038|\n",
      "|537732| 0.05159157364650491|\n",
      "|444496|0.042600878716183455|\n",
      "|244935|0.025751292987445606|\n",
      "|485741|  0.2689466486824523|\n",
      "|551227| 0.08039657962764646|\n",
      "|395048| 0.11919519892364616|\n",
      "|255069|0.045969182304736234|\n",
      "|274320| 0.12488076426101458|\n",
      "+------+--------------------+\n",
      "only showing top 20 rows\n",
      "\n"
     ]
    }
   ],
   "source": [
    "to_file.show()"
   ]
  },
  {
   "cell_type": "code",
   "execution_count": 50,
   "metadata": {},
   "outputs": [],
   "source": [
    "to_file.coalesce(1)\n",
    "      .write\n",
    "      .option(\"header\",\"true\")\n",
    "      .option(\"sep\",\"\\t\")\n",
    "      .mode(\"overwrite\")\n",
    "      .csv(\"lab05.csv\")"
   ]
  },
  {
   "cell_type": "code",
   "execution_count": 51,
   "metadata": {},
   "outputs": [
    {
     "data": {
      "text/plain": [
       "res95: String = \"\"\n"
      ]
     },
     "metadata": {},
     "output_type": "display_data"
    }
   ],
   "source": [
    "import sys.process._\n",
    "\"\"\"hdfs dfs -get lab05\"\"\".!!"
   ]
  }
 ],
 "metadata": {
  "kernelspec": {
   "display_name": "Apache Toree - Scala",
   "language": "scala",
   "name": "apache_toree_scala"
  },
  "language_info": {
   "codemirror_mode": "text/x-scala",
   "file_extension": ".scala",
   "mimetype": "text/x-scala",
   "name": "scala",
   "pygments_lexer": "scala",
   "version": "2.11.12"
  }
 },
 "nbformat": 4,
 "nbformat_minor": 2
}
