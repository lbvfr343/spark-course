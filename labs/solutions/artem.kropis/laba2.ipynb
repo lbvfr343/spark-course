{
 "cells": [
  {
   "cell_type": "code",
   "execution_count": null,
   "metadata": {},
   "outputs": [],
   "source": [
    "import os\n",
    "import sys\n",
    "os.environ[\"PYSPARK_PYTHON\"]='/opt/anaconda/envs/bd9/bin/python'\n",
    "os.environ[\"SPARK_HOME\"]='/usr/hdp/current/spark2-client'\n",
    "os.environ[\"PYSPARK_SUBMIT_ARGS\"]='--num-executors 3 pyspark-shell'\n",
    "\n",
    "spark_home = os.environ.get('SPARK_HOME', None)\n",
    "if not spark_home:\n",
    "    raise ValueError('SPARK_HOME environment variable is not set')\n",
    "\n",
    "sys.path.insert(0, os.path.join(spark_home, 'python'))\n",
    "sys.path.insert(0, os.path.join(spark_home, 'python/lib/py4j-0.10.7-src.zip'))\n",
    "exec(open(os.path.join(spark_home, 'python/pyspark/shell.py')).read())"
   ]
  },
  {
   "cell_type": "code",
   "execution_count": 2,
   "metadata": {},
   "outputs": [],
   "source": [
    "from pyspark import SparkConf\n",
    "from pyspark.sql import SparkSession\n",
    "from pyspark.sql import functions as F\n",
    "from pyspark.sql.types import *\n",
    "from pyspark import Row\n",
    "import json\n",
    "\n",
    "conf = SparkConf()\n",
    "\n",
    "spark = (SparkSession\n",
    "         .builder\n",
    "         .config(conf=conf)\n",
    "         .appName(\"KAM_Lab2\")\n",
    "         .getOrCreate())\n",
    "\n",
    "sc = spark.sparkContext"
   ]
  },
  {
   "cell_type": "code",
   "execution_count": 3,
   "metadata": {},
   "outputs": [
    {
     "data": {
      "text/html": [
       "\n",
       "            <div>\n",
       "                <p><b>SparkSession - hive</b></p>\n",
       "                \n",
       "        <div>\n",
       "            <p><b>SparkContext</b></p>\n",
       "\n",
       "            <p><a href=\"http://spark-master-4.newprolab.com:4047\">Spark UI</a></p>\n",
       "\n",
       "            <dl>\n",
       "              <dt>Version</dt>\n",
       "                <dd><code>v2.4.7</code></dd>\n",
       "              <dt>Master</dt>\n",
       "                <dd><code>yarn</code></dd>\n",
       "              <dt>AppName</dt>\n",
       "                <dd><code>pyspark-shell</code></dd>\n",
       "            </dl>\n",
       "        </div>\n",
       "        \n",
       "            </div>\n",
       "        "
      ],
      "text/plain": [
       "<pyspark.sql.session.SparkSession at 0x7f008cf60630>"
      ]
     },
     "execution_count": 3,
     "metadata": {},
     "output_type": "execute_result"
    }
   ],
   "source": [
    "spark"
   ]
  },
  {
   "cell_type": "code",
   "execution_count": 4,
   "metadata": {},
   "outputs": [],
   "source": [
    "given_courses = [[23126, u'en', u'Compass - powerful SASS library that makes your life easier']\n",
    "                 , [21617, u'en', u'Preparing for the AP* Computer Science A Exam \\u2014 Part 2']\n",
    "                 , [16627, u'es', u'Aprende Excel: Nivel Intermedio by Alfonso Rinsche']\n",
    "                 , [11556, u'es', u'Aprendizaje Colaborativo by UNID Universidad Interamericana para el Desarrollo']\n",
    "                 , [16704, u'ru', u'\\u041f\\u0440\\u043e\\u0433\\u0440\\u0430\\u043c\\u043c\\u0438\\u0440\\u043e\\u0432\\u0430\\u043d\\u0438\\u0435 \\u043d\\u0430 Lazarus']\n",
    "                 , [13702, u'ru', u'\\u041c\\u0430\\u0442\\u0435\\u043c\\u0430\\u0442\\u0438\\u0447\\u0435\\u0441\\u043a\\u0430\\u044f \\u044d\\u043a\\u043e\\u043d\\u043e\\u043c\\u0438\\u043a\\u0430']]\n"
   ]
  },
  {
   "cell_type": "code",
   "execution_count": 5,
   "metadata": {},
   "outputs": [
    {
     "name": "stdout",
     "output_type": "stream",
     "text": [
      "[23126, 21617, 16627, 11556, 16704, 13702]\n",
      "['en', 'es', 'ru']\n"
     ]
    }
   ],
   "source": [
    "list_given_courses = [x[0] for x in given_courses]\n",
    "print(list_given_courses)\n",
    "list_lang = list(set([x[1] for x in given_courses]))\n",
    "print(list_lang)"
   ]
  },
  {
   "cell_type": "code",
   "execution_count": 6,
   "metadata": {},
   "outputs": [],
   "source": [
    "df = spark.read.json('/labs/slaba02/DO_record_per_line.json')"
   ]
  },
  {
   "cell_type": "code",
   "execution_count": 7,
   "metadata": {},
   "outputs": [
    {
     "data": {
      "text/plain": [
       "28153"
      ]
     },
     "execution_count": 7,
     "metadata": {},
     "output_type": "execute_result"
    }
   ],
   "source": [
    "df.count()"
   ]
  },
  {
   "cell_type": "code",
   "execution_count": 8,
   "metadata": {},
   "outputs": [],
   "source": [
    "df = df.where(df.lang.isin(list_lang))"
   ]
  },
  {
   "cell_type": "code",
   "execution_count": 9,
   "metadata": {},
   "outputs": [
    {
     "data": {
      "text/plain": [
       "27158"
      ]
     },
     "execution_count": 9,
     "metadata": {},
     "output_type": "execute_result"
    }
   ],
   "source": [
    "df.count()"
   ]
  },
  {
   "cell_type": "code",
   "execution_count": 10,
   "metadata": {},
   "outputs": [
    {
     "data": {
      "text/plain": [
       "3"
      ]
     },
     "execution_count": 10,
     "metadata": {},
     "output_type": "execute_result"
    }
   ],
   "source": [
    "df.rdd.getNumPartitions()"
   ]
  },
  {
   "cell_type": "code",
   "execution_count": 11,
   "metadata": {},
   "outputs": [
    {
     "data": {
      "text/html": [
       "<div>\n",
       "<style scoped>\n",
       "    .dataframe tbody tr th:only-of-type {\n",
       "        vertical-align: middle;\n",
       "    }\n",
       "\n",
       "    .dataframe tbody tr th {\n",
       "        vertical-align: top;\n",
       "    }\n",
       "\n",
       "    .dataframe thead th {\n",
       "        text-align: right;\n",
       "    }\n",
       "</style>\n",
       "<table border=\"1\" class=\"dataframe\">\n",
       "  <thead>\n",
       "    <tr style=\"text-align: right;\">\n",
       "      <th></th>\n",
       "      <th>cat</th>\n",
       "      <th>desc</th>\n",
       "      <th>id</th>\n",
       "      <th>lang</th>\n",
       "      <th>name</th>\n",
       "      <th>provider</th>\n",
       "    </tr>\n",
       "  </thead>\n",
       "  <tbody>\n",
       "    <tr>\n",
       "      <th>0</th>\n",
       "      <td></td>\n",
       "      <td>La transformación del aula con el Aprendizaje...</td>\n",
       "      <td>11556</td>\n",
       "      <td>es</td>\n",
       "      <td>Aprendizaje Colaborativo by UNID Universidad I...</td>\n",
       "      <td>Udemy</td>\n",
       "    </tr>\n",
       "    <tr>\n",
       "      <th>1</th>\n",
       "      <td>6/economics_finance|15/mathematics_statistics_...</td>\n",
       "      <td>Математическая экономика – это набор моделей в...</td>\n",
       "      <td>13702</td>\n",
       "      <td>ru</td>\n",
       "      <td>Математическая экономика</td>\n",
       "      <td>Intuit</td>\n",
       "    </tr>\n",
       "    <tr>\n",
       "      <th>2</th>\n",
       "      <td></td>\n",
       "      <td>Hazte más empleable, obtén una nueva competen...</td>\n",
       "      <td>16627</td>\n",
       "      <td>es</td>\n",
       "      <td>Aprende Excel: Nivel Intermedio by Alfonso Rin...</td>\n",
       "      <td>Udemy</td>\n",
       "    </tr>\n",
       "    <tr>\n",
       "      <th>3</th>\n",
       "      <td>5/computer_science|14/social_sciences</td>\n",
       "      <td>В курсе рассматривается среда программирования...</td>\n",
       "      <td>16704</td>\n",
       "      <td>ru</td>\n",
       "      <td>Программирование на Lazarus</td>\n",
       "      <td>Intuit</td>\n",
       "    </tr>\n",
       "    <tr>\n",
       "      <th>4</th>\n",
       "      <td>5/computer_science</td>\n",
       "      <td>An introduction to how computing can be used t...</td>\n",
       "      <td>21617</td>\n",
       "      <td>en</td>\n",
       "      <td>Preparing for the AP* Computer Science A Exam ...</td>\n",
       "      <td>edX</td>\n",
       "    </tr>\n",
       "    <tr>\n",
       "      <th>5</th>\n",
       "      <td></td>\n",
       "      <td>Improve your SASS skill by learning benefits ...</td>\n",
       "      <td>23126</td>\n",
       "      <td>en</td>\n",
       "      <td>Compass - powerful SASS library that makes you...</td>\n",
       "      <td>Udemy</td>\n",
       "    </tr>\n",
       "  </tbody>\n",
       "</table>\n",
       "</div>"
      ],
      "text/plain": [
       "                                                 cat  \\\n",
       "0                                                      \n",
       "1  6/economics_finance|15/mathematics_statistics_...   \n",
       "2                                                      \n",
       "3              5/computer_science|14/social_sciences   \n",
       "4                                 5/computer_science   \n",
       "5                                                      \n",
       "\n",
       "                                                desc     id lang  \\\n",
       "0   La transformación del aula con el Aprendizaje...  11556   es   \n",
       "1  Математическая экономика – это набор моделей в...  13702   ru   \n",
       "2   Hazte más empleable, obtén una nueva competen...  16627   es   \n",
       "3  В курсе рассматривается среда программирования...  16704   ru   \n",
       "4  An introduction to how computing can be used t...  21617   en   \n",
       "5   Improve your SASS skill by learning benefits ...  23126   en   \n",
       "\n",
       "                                                name provider  \n",
       "0  Aprendizaje Colaborativo by UNID Universidad I...    Udemy  \n",
       "1                           Математическая экономика   Intuit  \n",
       "2  Aprende Excel: Nivel Intermedio by Alfonso Rin...    Udemy  \n",
       "3                        Программирование на Lazarus   Intuit  \n",
       "4  Preparing for the AP* Computer Science A Exam ...      edX  \n",
       "5  Compass - powerful SASS library that makes you...    Udemy  "
      ]
     },
     "execution_count": 11,
     "metadata": {},
     "output_type": "execute_result"
    }
   ],
   "source": [
    "df.where(df.id.isin(list_given_courses)).toPandas()"
   ]
  },
  {
   "cell_type": "code",
   "execution_count": 12,
   "metadata": {},
   "outputs": [],
   "source": [
    "from pyspark.sql.functions import *\n",
    "df = df.withColumn(\"desc\", regexp_replace(df.desc, \"[^\\d\\w а-яА-Я]\", \" \"))"
   ]
  },
  {
   "cell_type": "code",
   "execution_count": 13,
   "metadata": {},
   "outputs": [
    {
     "data": {
      "text/html": [
       "<div>\n",
       "<style scoped>\n",
       "    .dataframe tbody tr th:only-of-type {\n",
       "        vertical-align: middle;\n",
       "    }\n",
       "\n",
       "    .dataframe tbody tr th {\n",
       "        vertical-align: top;\n",
       "    }\n",
       "\n",
       "    .dataframe thead th {\n",
       "        text-align: right;\n",
       "    }\n",
       "</style>\n",
       "<table border=\"1\" class=\"dataframe\">\n",
       "  <thead>\n",
       "    <tr style=\"text-align: right;\">\n",
       "      <th></th>\n",
       "      <th>cat</th>\n",
       "      <th>desc</th>\n",
       "      <th>id</th>\n",
       "      <th>lang</th>\n",
       "      <th>name</th>\n",
       "      <th>provider</th>\n",
       "    </tr>\n",
       "  </thead>\n",
       "  <tbody>\n",
       "    <tr>\n",
       "      <th>0</th>\n",
       "      <td>5/computer_science</td>\n",
       "      <td>Часть 1  Продвинутые структуры данных  Приорит...</td>\n",
       "      <td>46</td>\n",
       "      <td>ru</td>\n",
       "      <td>Дополнительные главы алгоритмов</td>\n",
       "      <td>Computer Science Center</td>\n",
       "    </tr>\n",
       "    <tr>\n",
       "      <th>1</th>\n",
       "      <td>5/computer_science</td>\n",
       "      <td>Splay дерево и декартово дерево  Хеширование  ...</td>\n",
       "      <td>47</td>\n",
       "      <td>ru</td>\n",
       "      <td>Алгоритмы и структуры данных 2</td>\n",
       "      <td>Computer Science Center</td>\n",
       "    </tr>\n",
       "    <tr>\n",
       "      <th>2</th>\n",
       "      <td>5/computer_science</td>\n",
       "      <td>Курс посвящ н теоретическим и практическим асп...</td>\n",
       "      <td>48</td>\n",
       "      <td>ru</td>\n",
       "      <td>Технологии хранения и обработки больших объёмо...</td>\n",
       "      <td>Computer Science Center</td>\n",
       "    </tr>\n",
       "    <tr>\n",
       "      <th>3</th>\n",
       "      <td>2/biology_life_sciences|5/computer_science</td>\n",
       "      <td>Биоинформатика   это быстро растущий раздел co...</td>\n",
       "      <td>49</td>\n",
       "      <td>ru</td>\n",
       "      <td>Алгоритмы в биоинформатике</td>\n",
       "      <td>Computer Science Center</td>\n",
       "    </tr>\n",
       "    <tr>\n",
       "      <th>4</th>\n",
       "      <td>5/computer_science|15/mathematics_statistics_a...</td>\n",
       "      <td>Курс знакомит со сложностью вероятностных вычи...</td>\n",
       "      <td>50</td>\n",
       "      <td>ru</td>\n",
       "      <td>Сложность вычислений и основы криптографии</td>\n",
       "      <td>Computer Science Center</td>\n",
       "    </tr>\n",
       "  </tbody>\n",
       "</table>\n",
       "</div>"
      ],
      "text/plain": [
       "                                                 cat  \\\n",
       "0                                 5/computer_science   \n",
       "1                                 5/computer_science   \n",
       "2                                 5/computer_science   \n",
       "3         2/biology_life_sciences|5/computer_science   \n",
       "4  5/computer_science|15/mathematics_statistics_a...   \n",
       "\n",
       "                                                desc  id lang  \\\n",
       "0  Часть 1  Продвинутые структуры данных  Приорит...  46   ru   \n",
       "1  Splay дерево и декартово дерево  Хеширование  ...  47   ru   \n",
       "2  Курс посвящ н теоретическим и практическим асп...  48   ru   \n",
       "3  Биоинформатика   это быстро растущий раздел co...  49   ru   \n",
       "4  Курс знакомит со сложностью вероятностных вычи...  50   ru   \n",
       "\n",
       "                                                name                 provider  \n",
       "0                    Дополнительные главы алгоритмов  Computer Science Center  \n",
       "1                     Алгоритмы и структуры данных 2  Computer Science Center  \n",
       "2  Технологии хранения и обработки больших объёмо...  Computer Science Center  \n",
       "3                         Алгоритмы в биоинформатике  Computer Science Center  \n",
       "4         Сложность вычислений и основы криптографии  Computer Science Center  "
      ]
     },
     "execution_count": 13,
     "metadata": {},
     "output_type": "execute_result"
    }
   ],
   "source": [
    "df.where(df.lang == \"ru\").limit(5).toPandas()"
   ]
  },
  {
   "cell_type": "code",
   "execution_count": 14,
   "metadata": {},
   "outputs": [],
   "source": [
    "from pyspark.ml.feature import Tokenizer, HashingTF\n",
    "tokenizer = Tokenizer(inputCol=\"desc\", outputCol=\"words\")"
   ]
  },
  {
   "cell_type": "code",
   "execution_count": 15,
   "metadata": {},
   "outputs": [],
   "source": [
    "df = tokenizer.transform(df)"
   ]
  },
  {
   "cell_type": "code",
   "execution_count": 16,
   "metadata": {},
   "outputs": [],
   "source": [
    "from pyspark.ml.feature import Tokenizer, StopWordsRemover, CountVectorizer"
   ]
  },
  {
   "cell_type": "code",
   "execution_count": 17,
   "metadata": {},
   "outputs": [],
   "source": [
    "stop_words = (StopWordsRemover.loadDefaultStopWords(\"russian\") +\n",
    "            StopWordsRemover.loadDefaultStopWords(\"spanish\") +\n",
    "            StopWordsRemover.loadDefaultStopWords(\"english\") + [' ', ''])"
   ]
  },
  {
   "cell_type": "code",
   "execution_count": 18,
   "metadata": {},
   "outputs": [],
   "source": [
    "swr = StopWordsRemover(inputCol=tokenizer.getOutputCol(), outputCol=\"words_filtered\", stopWords=stop_words)"
   ]
  },
  {
   "cell_type": "code",
   "execution_count": 19,
   "metadata": {},
   "outputs": [],
   "source": [
    "df = swr.transform(df)"
   ]
  },
  {
   "cell_type": "code",
   "execution_count": 20,
   "metadata": {},
   "outputs": [
    {
     "data": {
      "text/html": [
       "<div>\n",
       "<style scoped>\n",
       "    .dataframe tbody tr th:only-of-type {\n",
       "        vertical-align: middle;\n",
       "    }\n",
       "\n",
       "    .dataframe tbody tr th {\n",
       "        vertical-align: top;\n",
       "    }\n",
       "\n",
       "    .dataframe thead th {\n",
       "        text-align: right;\n",
       "    }\n",
       "</style>\n",
       "<table border=\"1\" class=\"dataframe\">\n",
       "  <thead>\n",
       "    <tr style=\"text-align: right;\">\n",
       "      <th></th>\n",
       "      <th>cat</th>\n",
       "      <th>desc</th>\n",
       "      <th>id</th>\n",
       "      <th>lang</th>\n",
       "      <th>name</th>\n",
       "      <th>provider</th>\n",
       "      <th>words</th>\n",
       "      <th>words_filtered</th>\n",
       "    </tr>\n",
       "  </thead>\n",
       "  <tbody>\n",
       "    <tr>\n",
       "      <th>0</th>\n",
       "      <td>3/business_management|6/economics_finance</td>\n",
       "      <td>This course introduces the basic financial sta...</td>\n",
       "      <td>4</td>\n",
       "      <td>en</td>\n",
       "      <td>Accounting Cycle: The Foundation of Business M...</td>\n",
       "      <td>Canvas Network</td>\n",
       "      <td>[this, course, introduces, the, basic, financi...</td>\n",
       "      <td>[course, introduces, basic, financial, stateme...</td>\n",
       "    </tr>\n",
       "    <tr>\n",
       "      <th>1</th>\n",
       "      <td>11/law</td>\n",
       "      <td>This online course will introduce you to Ameri...</td>\n",
       "      <td>5</td>\n",
       "      <td>en</td>\n",
       "      <td>American Counter Terrorism Law</td>\n",
       "      <td>Canvas Network</td>\n",
       "      <td>[this, online, course, will, introduce, you, t...</td>\n",
       "      <td>[online, course, introduce, american, laws, re...</td>\n",
       "    </tr>\n",
       "    <tr>\n",
       "      <th>2</th>\n",
       "      <td>14/social_sciences</td>\n",
       "      <td>We live in a digitally connected world  The wa...</td>\n",
       "      <td>7</td>\n",
       "      <td>en</td>\n",
       "      <td>Becoming a Dynamic Educator</td>\n",
       "      <td>Canvas Network</td>\n",
       "      <td>[we, live, in, a, digitally, connected, world,...</td>\n",
       "      <td>[live, digitally, connected, world, way, infor...</td>\n",
       "    </tr>\n",
       "    <tr>\n",
       "      <th>3</th>\n",
       "      <td>2/biology_life_sciences</td>\n",
       "      <td>This self paced course is designed to show tha...</td>\n",
       "      <td>8</td>\n",
       "      <td>en</td>\n",
       "      <td>Bioethics</td>\n",
       "      <td>Canvas Network</td>\n",
       "      <td>[this, self, paced, course, is, designed, to, ...</td>\n",
       "      <td>[self, paced, course, designed, show, ethical,...</td>\n",
       "    </tr>\n",
       "    <tr>\n",
       "      <th>4</th>\n",
       "      <td>9/humanities|15/mathematics_statistics_and_dat...</td>\n",
       "      <td>This game based course provides prospective st...</td>\n",
       "      <td>9</td>\n",
       "      <td>en</td>\n",
       "      <td>College Foundations: Reading, Writing, and Math</td>\n",
       "      <td>Canvas Network</td>\n",
       "      <td>[this, game, based, course, provides, prospect...</td>\n",
       "      <td>[game, based, course, provides, prospective, s...</td>\n",
       "    </tr>\n",
       "  </tbody>\n",
       "</table>\n",
       "</div>"
      ],
      "text/plain": [
       "                                                 cat  \\\n",
       "0          3/business_management|6/economics_finance   \n",
       "1                                             11/law   \n",
       "2                                 14/social_sciences   \n",
       "3                            2/biology_life_sciences   \n",
       "4  9/humanities|15/mathematics_statistics_and_dat...   \n",
       "\n",
       "                                                desc  id lang  \\\n",
       "0  This course introduces the basic financial sta...   4   en   \n",
       "1  This online course will introduce you to Ameri...   5   en   \n",
       "2  We live in a digitally connected world  The wa...   7   en   \n",
       "3  This self paced course is designed to show tha...   8   en   \n",
       "4  This game based course provides prospective st...   9   en   \n",
       "\n",
       "                                                name        provider  \\\n",
       "0  Accounting Cycle: The Foundation of Business M...  Canvas Network   \n",
       "1                     American Counter Terrorism Law  Canvas Network   \n",
       "2                        Becoming a Dynamic Educator  Canvas Network   \n",
       "3                                          Bioethics  Canvas Network   \n",
       "4    College Foundations: Reading, Writing, and Math  Canvas Network   \n",
       "\n",
       "                                               words  \\\n",
       "0  [this, course, introduces, the, basic, financi...   \n",
       "1  [this, online, course, will, introduce, you, t...   \n",
       "2  [we, live, in, a, digitally, connected, world,...   \n",
       "3  [this, self, paced, course, is, designed, to, ...   \n",
       "4  [this, game, based, course, provides, prospect...   \n",
       "\n",
       "                                      words_filtered  \n",
       "0  [course, introduces, basic, financial, stateme...  \n",
       "1  [online, course, introduce, american, laws, re...  \n",
       "2  [live, digitally, connected, world, way, infor...  \n",
       "3  [self, paced, course, designed, show, ethical,...  \n",
       "4  [game, based, course, provides, prospective, s...  "
      ]
     },
     "execution_count": 20,
     "metadata": {},
     "output_type": "execute_result"
    }
   ],
   "source": [
    "df.limit(5).toPandas()"
   ]
  },
  {
   "cell_type": "code",
   "execution_count": 21,
   "metadata": {},
   "outputs": [],
   "source": [
    "tdf = df.select(df.lang, F.explode(df.words_filtered))"
   ]
  },
  {
   "cell_type": "code",
   "execution_count": 22,
   "metadata": {},
   "outputs": [
    {
     "name": "stdout",
     "output_type": "stream",
     "text": [
      "+----+----------+\n",
      "|lang|       col|\n",
      "+----+----------+\n",
      "|  en|    course|\n",
      "|  en|introduces|\n",
      "|  en|     basic|\n",
      "|  en| financial|\n",
      "|  en|statements|\n",
      "|  en|      used|\n",
      "|  en|businesses|\n",
      "|  en|      well|\n",
      "|  en| essential|\n",
      "|  en|     tools|\n",
      "|  en|      used|\n",
      "|  en|   prepare|\n",
      "|  en|    course|\n",
      "|  en|     serve|\n",
      "|  en|  resource|\n",
      "|  en|      help|\n",
      "|  en|  business|\n",
      "|  en|  students|\n",
      "|  en|   succeed|\n",
      "|  en|  upcoming|\n",
      "+----+----------+\n",
      "only showing top 20 rows\n",
      "\n"
     ]
    }
   ],
   "source": [
    "tdf.show()"
   ]
  },
  {
   "cell_type": "code",
   "execution_count": 23,
   "metadata": {},
   "outputs": [],
   "source": [
    "group_user = tdf.groupBy('lang').agg(collect_set('col').alias('words'))"
   ]
  },
  {
   "cell_type": "code",
   "execution_count": 24,
   "metadata": {},
   "outputs": [
    {
     "name": "stdout",
     "output_type": "stream",
     "text": [
      "+----+--------------------+\n",
      "|lang|               words|\n",
      "+----+--------------------+\n",
      "|  en|[samplesample, fl...|\n",
      "|  es|[exprimiendolinke...|\n",
      "|  ru|[downhole, рынкиr...|\n",
      "+----+--------------------+\n",
      "\n"
     ]
    }
   ],
   "source": [
    "group_user.show()"
   ]
  },
  {
   "cell_type": "code",
   "execution_count": null,
   "metadata": {},
   "outputs": [],
   "source": [
    "df1 = df.select(F.explode(df.words_filtered))"
   ]
  },
  {
   "cell_type": "code",
   "execution_count": null,
   "metadata": {},
   "outputs": [],
   "source": [
    "df1 = df1.groupby(df1.col).count()\\\n",
    "    .select(df1.col.alias(\"word\"), col(\"count\").alias(\"count_w\"))\n",
    "df1.limit(5).show()"
   ]
  },
  {
   "cell_type": "code",
   "execution_count": null,
   "metadata": {},
   "outputs": [],
   "source": [
    "df1.sort(df1.count_w.desc()).limit(5).show()"
   ]
  },
  {
   "cell_type": "code",
   "execution_count": null,
   "metadata": {},
   "outputs": [],
   "source": [
    "df1 = df1.where((df1.count_w >= 20000) | (df1.count_w == 1) | (F.length(df1.word) < 3)).select(df1.word)"
   ]
  },
  {
   "cell_type": "code",
   "execution_count": null,
   "metadata": {},
   "outputs": [],
   "source": [
    "stop_words = df1.rdd.map(lambda x: str(x[0])).take(df1.count())"
   ]
  },
  {
   "cell_type": "code",
   "execution_count": null,
   "metadata": {},
   "outputs": [],
   "source": [
    "swr = StopWordsRemover(inputCol=swr.getOutputCol(), outputCol=\"words_filtered_final\", stopWords=stop_words)"
   ]
  },
  {
   "cell_type": "code",
   "execution_count": null,
   "metadata": {},
   "outputs": [],
   "source": [
    "df = swr.transform(df)"
   ]
  },
  {
   "cell_type": "code",
   "execution_count": null,
   "metadata": {},
   "outputs": [],
   "source": [
    "df.where(df.id.isin(list_given_courses)).toPandas()"
   ]
  },
  {
   "cell_type": "code",
   "execution_count": null,
   "metadata": {},
   "outputs": [],
   "source": [
    "hasher_freq = HashingTF(numFeatures=10000, binary=False, inputCol=swr.getOutputCol(), outputCol=\"word_vector_freq\")\n",
    "dataset2_freq = hasher_freq.transform(df)"
   ]
  },
  {
   "cell_type": "code",
   "execution_count": null,
   "metadata": {},
   "outputs": [],
   "source": [
    "dataset2_freq.limit(5).toPandas()"
   ]
  },
  {
   "cell_type": "code",
   "execution_count": null,
   "metadata": {},
   "outputs": [],
   "source": [
    "from pyspark.ml.feature import Normalizer\n",
    "normalizer = Normalizer(inputCol=hasher_freq.getOutputCol(), outputCol=\"norm\")"
   ]
  },
  {
   "cell_type": "code",
   "execution_count": null,
   "metadata": {},
   "outputs": [],
   "source": [
    "dataset2_freq = normalizer.transform(dataset2_freq)"
   ]
  },
  {
   "cell_type": "code",
   "execution_count": null,
   "metadata": {},
   "outputs": [],
   "source": [
    "df_variant = dataset2_freq.where(dataset2_freq.id.isin(list_given_courses))\\\n",
    "        .select(\"id\", \"name\", \"lang\", \"norm\")"
   ]
  },
  {
   "cell_type": "code",
   "execution_count": null,
   "metadata": {},
   "outputs": [],
   "source": [
    "df_check = dataset2_freq.where(~dataset2_freq.id.isin(list_given_courses))\\\n",
    "        .select(\"id\", \"name\", \"lang\", \"norm\")"
   ]
  },
  {
   "cell_type": "code",
   "execution_count": null,
   "metadata": {},
   "outputs": [],
   "source": [
    "df_variant.count()"
   ]
  },
  {
   "cell_type": "code",
   "execution_count": null,
   "metadata": {},
   "outputs": [],
   "source": [
    "df_check.count()"
   ]
  },
  {
   "cell_type": "code",
   "execution_count": null,
   "metadata": {},
   "outputs": [],
   "source": [
    "from pyspark.sql.functions import udf"
   ]
  },
  {
   "cell_type": "code",
   "execution_count": null,
   "metadata": {},
   "outputs": [],
   "source": [
    "# cosine similarity\n",
    "dot_udf = udf(lambda x,y: float(x.dot(y)), DoubleType())\n",
    "\n",
    "result = df_variant.alias(\"i\")\\\n",
    "    .join(df_check.alias(\"j\"), col(\"i.lang\") == col(\"j.lang\"))\\\n",
    "    .select(\n",
    "        col(\"i.id\").alias(\"id\"), \n",
    "        col(\"j.id\").alias(\"recomended_id\"),\n",
    "        col(\"j.name\").alias(\"name\"),\n",
    "        dot_udf(\"i.norm\", \"j.norm\").alias(\"dot\")\n",
    "    )\\\n",
    "    .sort(col(\"id\"), col(\"dot\").desc(), col(\"name\"), col(\"recomended_id\"))\n",
    "\n",
    "result.show(10)"
   ]
  },
  {
   "cell_type": "code",
   "execution_count": null,
   "metadata": {},
   "outputs": [],
   "source": [
    "from pyspark.sql.window import Window\n",
    "windowSpec = Window.partitionBy(\"id\").orderBy(col(\"id\"), col(\"dot\").desc(), col(\"name\"), col(\"recomended_id\"))\n",
    "result = result.withColumn(\"row_number\", row_number().over(windowSpec)).filter(col(\"row_number\") <= 10)"
   ]
  },
  {
   "cell_type": "code",
   "execution_count": null,
   "metadata": {},
   "outputs": [],
   "source": [
    "result_driver = result.select(col(\"id\"), col(\"recomended_id\")).collect()"
   ]
  },
  {
   "cell_type": "code",
   "execution_count": null,
   "metadata": {},
   "outputs": [],
   "source": [
    "result_driver_json = {}\n",
    "for x in result_driver:\n",
    "    if x.id not in result_driver_json:\n",
    "        result_driver_json[x.id] = []\n",
    "    result_driver_json[x.id].append(x.recomended_id)\n",
    "result_driver_json"
   ]
  },
  {
   "cell_type": "code",
   "execution_count": null,
   "metadata": {},
   "outputs": [],
   "source": [
    "import json\n",
    "with open('lab02.json', 'w', encoding='utf-8') as f:\n",
    "    f.write(json.dumps(result_driver_json))"
   ]
  },
  {
   "cell_type": "code",
   "execution_count": null,
   "metadata": {},
   "outputs": [],
   "source": [
    "[[11556, 0.7], [13702, 0.3], [16627, 0.5], [16704, 0.3], [21617, 0.1], [23126, 0.1]]\n",
    "[[11556, 0.7], [13702, 0.7], [16627, 0.6], [16704, 0.6], [21617, 0.6], [23126, 0.3]]"
   ]
  },
  {
   "cell_type": "code",
   "execution_count": null,
   "metadata": {},
   "outputs": [],
   "source": [
    "spark.stop()"
   ]
  }
 ],
 "metadata": {
  "kernelspec": {
   "display_name": "Python 3",
   "language": "python",
   "name": "python3"
  },
  "language_info": {
   "codemirror_mode": {
    "name": "ipython",
    "version": 3
   },
   "file_extension": ".py",
   "mimetype": "text/x-python",
   "name": "python",
   "nbconvert_exporter": "python",
   "pygments_lexer": "ipython3",
   "version": "3.6.5"
  }
 },
 "nbformat": 4,
 "nbformat_minor": 2
}
