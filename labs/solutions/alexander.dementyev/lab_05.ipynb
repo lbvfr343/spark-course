{
 "cells": [
  {
   "cell_type": "code",
   "execution_count": null,
   "metadata": {
    "ExecuteTime": {
     "end_time": "2022-11-07T09:16:45.615325Z",
     "start_time": "2022-11-07T09:16:01.796Z"
    }
   },
   "outputs": [],
   "source": [
    "spark"
   ]
  },
  {
   "cell_type": "code",
   "execution_count": null,
   "metadata": {
    "ExecuteTime": {
     "end_time": "2022-11-07T09:16:47.056003Z",
     "start_time": "2022-11-07T09:16:02.252Z"
    }
   },
   "outputs": [],
   "source": [
    "spark.version"
   ]
  },
  {
   "cell_type": "code",
   "execution_count": null,
   "metadata": {
    "ExecuteTime": {
     "end_time": "2022-11-07T09:16:47.179844Z",
     "start_time": "2022-11-07T09:16:02.699Z"
    }
   },
   "outputs": [],
   "source": [
    "import org.apache.spark.sql.functions._\n",
    "import org.apache.spark.sql.{DataFrame, Dataset}\n",
    "import org.apache.spark.sql.types._\n",
    "\n",
    "import org.apache.spark.ml.feature.VectorAssembler\n",
    "import org.apache.spark.ml.linalg.{DenseVector, SparseVector, Vector, Vectors}\n",
    "import org.apache.spark.ml.evaluation.BinaryClassificationEvaluator\n",
    "import org.apache.spark.ml.classification.{GBTClassificationModel, GBTClassifier}"
   ]
  },
  {
   "cell_type": "code",
   "execution_count": null,
   "metadata": {
    "ExecuteTime": {
     "end_time": "2022-11-07T09:17:26.613909Z",
     "start_time": "2022-11-07T09:17:24.118Z"
    }
   },
   "outputs": [],
   "source": [
    "val train_df = spark.read\n",
    "                    .option(\"delimiter\", \",\")\n",
    "                    .option(\"header\", \"True\")\n",
    "                    .option(\"encoding\",\"utf-8\")\n",
    "                    .csv(\"/labs/slaba05/lab05_train.csv\")\n",
    "                    .filter(\"TARGET is not null\")\n",
    "val test_df = spark.read\n",
    "                    .option(\"delimiter\", \",\")\n",
    "                    .option(\"header\", \"True\")\n",
    "                    .option(\"encoding\",\"utf-8\")\n",
    "                    .csv(\"/labs/slaba05/lab05_test.csv\")"
   ]
  },
  {
   "cell_type": "code",
   "execution_count": null,
   "metadata": {
    "ExecuteTime": {
     "end_time": "2022-11-07T09:18:18.617193Z",
     "start_time": "2022-11-07T09:18:17.048Z"
    }
   },
   "outputs": [],
   "source": [
    "var df_train = train_df.drop(\"_c0\", \"CLNT_TRUST_RELATION\", \"APP_MARITAL_STATUS\", \"APP_KIND_OF_PROP_HABITATION\", \n",
    "             \"CLNT_JOB_POSITION_TYPE\", \"CLNT_JOB_POSITION\", \"APP_DRIVING_LICENSE\", \"APP_EDUCATION\", \n",
    "             \"APP_TRAVEL_PASS\", \"APP_CAR\", \"APP_POSITION_TYPE\", \"APP_EMP_TYPE\", \"APP_COMP_TYPE\", \"PACK\")\n",
    "var df_test = test_df.drop(\"_c0\", \"CLNT_TRUST_RELATION\", \"APP_MARITAL_STATUS\", \"APP_KIND_OF_PROP_HABITATION\", \n",
    "             \"CLNT_JOB_POSITION_TYPE\", \"CLNT_JOB_POSITION\", \"APP_DRIVING_LICENSE\", \"APP_EDUCATION\", \n",
    "             \"APP_TRAVEL_PASS\", \"APP_CAR\", \"APP_POSITION_TYPE\", \"APP_EMP_TYPE\", \"APP_COMP_TYPE\", \"PACK\")"
   ]
  },
  {
   "cell_type": "code",
   "execution_count": null,
   "metadata": {
    "ExecuteTime": {
     "end_time": "2022-11-07T09:18:24.155388Z",
     "start_time": "2022-11-07T09:18:21.576Z"
    }
   },
   "outputs": [],
   "source": [
    "var feature_list = Array[String]()\n",
    "for (t <- df_train.columns if (t!=\"ID\"))\n",
    "{ df_train = df_train.withColumn(t, col(t).cast(FloatType))\n",
    "        feature_list +:= t}\n",
    "val b = feature_list.filter(! _.contains(\"TARGET\"))"
   ]
  },
  {
   "cell_type": "code",
   "execution_count": null,
   "metadata": {
    "ExecuteTime": {
     "end_time": "2022-11-07T09:18:25.642292Z",
     "start_time": "2022-11-07T09:18:22.711Z"
    }
   },
   "outputs": [],
   "source": [
    "for (t <- df_test.columns if (t!=\"ID\"))\n",
    "{ df_test = df_test.withColumn(t, col(t).cast(FloatType))}"
   ]
  },
  {
   "cell_type": "code",
   "execution_count": null,
   "metadata": {
    "ExecuteTime": {
     "end_time": "2022-11-07T09:18:27.127110Z",
     "start_time": "2022-11-07T09:18:24.320Z"
    }
   },
   "outputs": [],
   "source": [
    "df_test = df_test.na.fill(value=0.0)\n",
    "df_train = df_train.na.fill(value=0.0)"
   ]
  },
  {
   "cell_type": "code",
   "execution_count": null,
   "metadata": {
    "ExecuteTime": {
     "end_time": "2022-11-07T09:20:26.262234Z",
     "start_time": "2022-11-07T09:20:25.768Z"
    }
   },
   "outputs": [],
   "source": [
    "val assembler = new VectorAssembler()\n",
    "                    .setInputCols(b)\n",
    "                    .setOutputCol(\"features\")"
   ]
  },
  {
   "cell_type": "code",
   "execution_count": null,
   "metadata": {
    "ExecuteTime": {
     "end_time": "2022-11-07T09:20:37.020740Z",
     "start_time": "2022-11-07T09:20:36.462Z"
    }
   },
   "outputs": [],
   "source": [
    "df_train = df_train.withColumn(\"TARGET\", col(\"TARGET\").cast(IntegerType))"
   ]
  },
  {
   "cell_type": "code",
   "execution_count": null,
   "metadata": {
    "ExecuteTime": {
     "end_time": "2022-11-07T09:20:57.208813Z",
     "start_time": "2022-11-07T09:20:56.637Z"
    }
   },
   "outputs": [],
   "source": [
    "val train_data=assembler.transform(df_train)"
   ]
  },
  {
   "cell_type": "code",
   "execution_count": null,
   "metadata": {
    "ExecuteTime": {
     "end_time": "2022-11-07T09:32:50.227590Z",
     "start_time": "2022-11-07T09:32:49.829Z"
    }
   },
   "outputs": [],
   "source": [
    "val evaluator = new BinaryClassificationEvaluator()\n",
    "                        .setLabelCol(\"TARGET\")\n",
    "                        .setRawPredictionCol(\"probability_\")\n",
    "                        .setMetricName(\"areaUnderROC\")"
   ]
  },
  {
   "cell_type": "code",
   "execution_count": null,
   "metadata": {
    "ExecuteTime": {
     "end_time": "2022-11-07T09:22:46.018356Z",
     "start_time": "2022-11-07T09:22:45.529Z"
    }
   },
   "outputs": [],
   "source": [
    "val gbt = new GBTClassifier()\n",
    "      .setFeaturesCol(\"features\")\n",
    "      .setLabelCol(\"TARGET\")\n",
    "      .setPredictionCol(\"prediction_\")\n",
    "      .setProbabilityCol(\"probability_\")\n",
    "      .setRawPredictionCol(\"raw_prediction_\")"
   ]
  },
  {
   "cell_type": "code",
   "execution_count": null,
   "metadata": {
    "ExecuteTime": {
     "end_time": "2022-11-07T09:22:57.738474Z",
     "start_time": "2022-11-07T09:22:57.296Z"
    }
   },
   "outputs": [],
   "source": [
    "val test_data=assembler.transform(df_test)"
   ]
  },
  {
   "cell_type": "code",
   "execution_count": null,
   "metadata": {
    "ExecuteTime": {
     "end_time": "2022-11-07T09:26:06.937998Z",
     "start_time": "2022-11-07T09:23:13.281Z"
    }
   },
   "outputs": [],
   "source": [
    "val model_gbt = gbt.fit(train_data)"
   ]
  },
  {
   "cell_type": "code",
   "execution_count": null,
   "metadata": {
    "ExecuteTime": {
     "end_time": "2022-11-07T09:26:07.352692Z",
     "start_time": "2022-11-07T09:23:28.554Z"
    }
   },
   "outputs": [],
   "source": [
    "val predictions_train = model_gbt.transform(train_data)"
   ]
  },
  {
   "cell_type": "code",
   "execution_count": null,
   "metadata": {
    "ExecuteTime": {
     "end_time": "2022-11-07T09:33:17.120569Z",
     "start_time": "2022-11-07T09:32:54.901Z"
    },
    "scrolled": true
   },
   "outputs": [],
   "source": [
    "val roc_auc = evaluator.evaluate(predictions_train)"
   ]
  },
  {
   "cell_type": "code",
   "execution_count": null,
   "metadata": {
    "ExecuteTime": {
     "end_time": "2022-11-07T10:12:26.193197Z",
     "start_time": "2022-11-07T10:12:25.735Z"
    }
   },
   "outputs": [],
   "source": [
    "val predictions_test = model_gbt.transform(test_data)"
   ]
  },
  {
   "cell_type": "code",
   "execution_count": null,
   "metadata": {
    "ExecuteTime": {
     "end_time": "2022-11-07T10:13:45.074331Z",
     "start_time": "2022-11-07T10:13:44.576Z"
    }
   },
   "outputs": [],
   "source": [
    "val sparse_to_dense = udf((v: Vector) =>  v.toArray)"
   ]
  },
  {
   "cell_type": "code",
   "execution_count": null,
   "metadata": {
    "ExecuteTime": {
     "end_time": "2022-11-07T10:12:58.966563Z",
     "start_time": "2022-11-07T10:12:57.586Z"
    }
   },
   "outputs": [],
   "source": [
    "predictions_test.select(col(\"ID\").alias(\"id\"), sparse_to_dense(col(\"probability_\")).getItem(1).alias(\"target\")).show"
   ]
  },
  {
   "cell_type": "code",
   "execution_count": null,
   "metadata": {
    "ExecuteTime": {
     "end_time": "2022-11-07T10:13:47.196357Z",
     "start_time": "2022-11-07T10:13:46.696Z"
    }
   },
   "outputs": [],
   "source": [
    "val to_file = predictions_test.select(col(\"ID\").alias(\"id\"), sparse_to_dense(col(\"probability_\")).getItem(1).alias(\"target\")).coalesce(1)"
   ]
  },
  {
   "cell_type": "code",
   "execution_count": null,
   "metadata": {
    "ExecuteTime": {
     "end_time": "2022-11-07T10:13:55.797149Z",
     "start_time": "2022-11-07T10:13:51.392Z"
    }
   },
   "outputs": [],
   "source": [
    "to_file.write.mode(\"overwrite\").format(\"csv\").option(\"delimiter\", \"\\t\").option(\"header\", \"True\").option(\"encoding\", \"UTF-8\").save(\"lab05\")"
   ]
  }
 ],
 "metadata": {
  "kernelspec": {
   "display_name": "Apache Toree - Scala",
   "language": "scala",
   "name": "apache_toree_scala"
  },
  "language_info": {
   "codemirror_mode": "text/x-scala",
   "file_extension": ".scala",
   "mimetype": "text/x-scala",
   "name": "scala",
   "pygments_lexer": "scala",
   "version": "2.11.12"
  },
  "toc": {
   "base_numbering": 1,
   "nav_menu": {},
   "number_sections": true,
   "sideBar": true,
   "skip_h1_title": false,
   "title_cell": "Table of Contents",
   "title_sidebar": "Contents",
   "toc_cell": false,
   "toc_position": {},
   "toc_section_display": true,
   "toc_window_display": false
  }
 },
 "nbformat": 4,
 "nbformat_minor": 4
}
