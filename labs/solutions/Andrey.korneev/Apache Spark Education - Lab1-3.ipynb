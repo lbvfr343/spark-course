{
 "cells": [
  {
   "cell_type": "code",
   "execution_count": 2,
   "metadata": {},
   "outputs": [
    {
     "name": "stdout",
     "output_type": "stream",
     "text": [
      "Welcome to\n",
      "      ____              __\n",
      "     / __/__  ___ _____/ /__\n",
      "    _\\ \\/ _ \\/ _ `/ __/  '_/\n",
      "   /__ / .__/\\_,_/_/ /_/\\_\\   version 2.4.7\n",
      "      /_/\n",
      "\n",
      "Using Python version 3.6.5 (default, Apr 29 2018 16:14:56)\n",
      "SparkSession available as 'spark'.\n"
     ]
    }
   ],
   "source": [
    "import os\n",
    "import sys\n",
    "os.environ[\"PYSPARK_PYTHON\"]='/opt/anaconda/envs/bd9/bin/python'\n",
    "os.environ[\"SPARK_HOME\"]='/usr/hdp/current/spark2-client'\n",
    "os.environ[\"PYSPARK_SUBMIT_ARGS\"]='--num-executors 2 pyspark-shell'\n",
    "\n",
    "spark_home = os.environ.get('SPARK_HOME', None)\n",
    "if not spark_home:\n",
    "    raise ValueError('SPARK_HOME environment variable is not set')\n",
    "\n",
    "sys.path.insert(0, os.path.join(spark_home, 'python'))\n",
    "sys.path.insert(0, os.path.join(spark_home, 'python/lib/py4j-0.10.7-src.zip'))\n",
    "exec(open(os.path.join(spark_home, 'python/pyspark/shell.py')).read())\n",
    "\n",
    "from pyspark import SparkConf\n",
    "from pyspark.sql import SparkSession\n",
    "from pyspark.sql import functions as F\n",
    "from pyspark.sql.types import *\n",
    "from pyspark import Row\n",
    "import json\n",
    "\n",
    "conf = SparkConf()\n",
    "\n",
    "spark = (SparkSession\n",
    "         .builder\n",
    "         .config(conf=conf)\n",
    "         .appName(\"test\")\n",
    "         .getOrCreate())"
   ]
  },
  {
   "cell_type": "code",
   "execution_count": 1,
   "metadata": {
    "execution": {
     "iopub.execute_input": "2022-10-17T12:52:13.349701Z",
     "iopub.status.busy": "2022-10-17T12:52:13.349180Z",
     "iopub.status.idle": "2022-10-17T12:52:33.933947Z",
     "shell.execute_reply": "2022-10-17T12:52:33.933144Z",
     "shell.execute_reply.started": "2022-10-17T12:52:13.349621Z"
    },
    "tags": []
   },
   "outputs": [],
   "source": [
    "###\n",
    "### я считал все на кластере рабочем, \n",
    "### так как учебный кластер был недоступен. \n",
    "### "
   ]
  },
  {
   "cell_type": "code",
   "execution_count": 93,
   "metadata": {
    "execution": {
     "iopub.execute_input": "2022-10-17T13:36:36.412513Z",
     "iopub.status.busy": "2022-10-17T13:36:36.412162Z",
     "iopub.status.idle": "2022-10-17T13:36:36.416116Z",
     "shell.execute_reply": "2022-10-17T13:36:36.415437Z",
     "shell.execute_reply.started": "2022-10-17T13:36:36.412471Z"
    },
    "tags": []
   },
   "outputs": [],
   "source": [
    "# film for calculation: 302 \n",
    "# L.A. Confidential (1997) "
   ]
  },
  {
   "cell_type": "code",
   "execution_count": 50,
   "metadata": {
    "execution": {
     "iopub.execute_input": "2022-10-17T13:08:25.472312Z",
     "iopub.status.busy": "2022-10-17T13:08:25.471928Z",
     "iopub.status.idle": "2022-10-17T13:08:25.537170Z",
     "shell.execute_reply": "2022-10-17T13:08:25.536583Z",
     "shell.execute_reply.started": "2022-10-17T13:08:25.472250Z"
    },
    "tags": []
   },
   "outputs": [
    {
     "data": {
      "text/html": [
       "<div>\n",
       "<style>\n",
       "    .dataframe thead tr:only-child th {\n",
       "        text-align: right;\n",
       "    }\n",
       "\n",
       "    .dataframe thead th {\n",
       "        text-align: left;\n",
       "    }\n",
       "\n",
       "    .dataframe tbody tr th {\n",
       "        vertical-align: top;\n",
       "    }\n",
       "</style>\n",
       "<table border=\"1\" class=\"dataframe\">\n",
       "  <thead>\n",
       "    <tr style=\"text-align: right;\">\n",
       "      <th></th>\n",
       "      <th>userid</th>\n",
       "      <th>itemid</th>\n",
       "      <th>rate</th>\n",
       "      <th>timestampcolumn</th>\n",
       "    </tr>\n",
       "  </thead>\n",
       "  <tbody>\n",
       "    <tr>\n",
       "      <th>95497</th>\n",
       "      <td>894</td>\n",
       "      <td>628</td>\n",
       "      <td>3</td>\n",
       "      <td>880416102</td>\n",
       "    </tr>\n",
       "  </tbody>\n",
       "</table>\n",
       "</div>"
      ],
      "text/plain": [
       "       userid  itemid  rate  timestampcolumn\n",
       "95497     894     628     3        880416102"
      ]
     },
     "execution_count": 50,
     "metadata": {},
     "output_type": "execute_result"
    }
   ],
   "source": [
    "src = pd.read_csv('u.data', sep='\\t', header=None).rename(columns={0:'userid', 1:'itemid', 2:'rate', 3:'timestampcolumn'})\n",
    "src.sample()"
   ]
  },
  {
   "cell_type": "code",
   "execution_count": 60,
   "metadata": {
    "execution": {
     "iopub.execute_input": "2022-10-17T13:11:39.399239Z",
     "iopub.status.busy": "2022-10-17T13:11:39.398796Z",
     "iopub.status.idle": "2022-10-17T13:11:44.203531Z",
     "shell.execute_reply": "2022-10-17T13:11:44.202926Z",
     "shell.execute_reply.started": "2022-10-17T13:11:39.399183Z"
    },
    "tags": []
   },
   "outputs": [
    {
     "data": {
      "text/plain": [
       "DataFrame[itemid: bigint, rate: bigint]"
      ]
     },
     "execution_count": 60,
     "metadata": {},
     "output_type": "execute_result"
    }
   ],
   "source": [
    "df = spark.createDataFrame(src)[['itemid', 'rate']]\n",
    "df"
   ]
  },
  {
   "cell_type": "code",
   "execution_count": 61,
   "metadata": {
    "execution": {
     "iopub.execute_input": "2022-10-17T13:11:50.405698Z",
     "iopub.status.busy": "2022-10-17T13:11:50.405345Z",
     "iopub.status.idle": "2022-10-17T13:11:50.869954Z",
     "shell.execute_reply": "2022-10-17T13:11:50.869298Z",
     "shell.execute_reply.started": "2022-10-17T13:11:50.405656Z"
    },
    "tags": []
   },
   "outputs": [
    {
     "data": {
      "text/plain": [
       "10"
      ]
     },
     "execution_count": 61,
     "metadata": {},
     "output_type": "execute_result"
    }
   ],
   "source": [
    "df = df.repartition(10)\n",
    "df.rdd.getNumPartitions() "
   ]
  },
  {
   "cell_type": "code",
   "execution_count": 81,
   "metadata": {
    "execution": {
     "iopub.execute_input": "2022-10-17T13:26:38.410928Z",
     "iopub.status.busy": "2022-10-17T13:26:38.410467Z",
     "iopub.status.idle": "2022-10-17T13:26:39.591022Z",
     "shell.execute_reply": "2022-10-17T13:26:39.590347Z",
     "shell.execute_reply.started": "2022-10-17T13:26:38.410871Z"
    },
    "tags": []
   },
   "outputs": [],
   "source": [
    "hist_all = df[['rate']].groupBy('rate').count().toPandas().sort_values( by=['rate'])['count'].tolist()\n",
    "hist_film = df[df['itemid']=='302'][['rate']].groupBy('rate').count().toPandas().sort_values( by=['rate'])['count'].tolist()"
   ]
  },
  {
   "cell_type": "code",
   "execution_count": 82,
   "metadata": {
    "execution": {
     "iopub.execute_input": "2022-10-17T13:26:44.398490Z",
     "iopub.status.busy": "2022-10-17T13:26:44.397913Z",
     "iopub.status.idle": "2022-10-17T13:26:44.403241Z",
     "shell.execute_reply": "2022-10-17T13:26:44.402591Z",
     "shell.execute_reply.started": "2022-10-17T13:26:44.398427Z"
    },
    "tags": []
   },
   "outputs": [
    {
     "data": {
      "text/plain": [
       "[6110, 11370, 27145, 34174, 21201]"
      ]
     },
     "execution_count": 82,
     "metadata": {},
     "output_type": "execute_result"
    }
   ],
   "source": [
    "hist_all"
   ]
  },
  {
   "cell_type": "code",
   "execution_count": 83,
   "metadata": {
    "execution": {
     "iopub.execute_input": "2022-10-17T13:26:47.399078Z",
     "iopub.status.busy": "2022-10-17T13:26:47.398740Z",
     "iopub.status.idle": "2022-10-17T13:26:47.404609Z",
     "shell.execute_reply": "2022-10-17T13:26:47.404019Z",
     "shell.execute_reply.started": "2022-10-17T13:26:47.399037Z"
    },
    "tags": []
   },
   "outputs": [
    {
     "data": {
      "text/plain": [
       "[2, 10, 46, 119, 120]"
      ]
     },
     "execution_count": 83,
     "metadata": {},
     "output_type": "execute_result"
    }
   ],
   "source": [
    "hist_film"
   ]
  },
  {
   "cell_type": "code",
   "execution_count": 87,
   "metadata": {
    "execution": {
     "iopub.execute_input": "2022-10-17T13:32:52.401084Z",
     "iopub.status.busy": "2022-10-17T13:32:52.400563Z",
     "iopub.status.idle": "2022-10-17T13:32:52.406870Z",
     "shell.execute_reply": "2022-10-17T13:32:52.405843Z",
     "shell.execute_reply.started": "2022-10-17T13:32:52.401008Z"
    },
    "tags": []
   },
   "outputs": [],
   "source": [
    "result = {'hist_all': hist_all, 'hist_film':hist_film}"
   ]
  },
  {
   "cell_type": "code",
   "execution_count": 92,
   "metadata": {
    "execution": {
     "iopub.execute_input": "2022-10-17T13:35:01.402999Z",
     "iopub.status.busy": "2022-10-17T13:35:01.402621Z",
     "iopub.status.idle": "2022-10-17T13:35:01.409113Z",
     "shell.execute_reply": "2022-10-17T13:35:01.408387Z",
     "shell.execute_reply.started": "2022-10-17T13:35:01.402942Z"
    },
    "tags": []
   },
   "outputs": [],
   "source": [
    "import json \n",
    "result = {'hist_all': hist_all, 'hist_film':hist_film}\n",
    "with open('result.json', 'w') as f: \n",
    "    json.dump(result, f) "
   ]
  },
  {
   "cell_type": "code",
   "execution_count": 66,
   "metadata": {
    "execution": {
     "iopub.execute_input": "2022-10-17T13:18:38.401408Z",
     "iopub.status.busy": "2022-10-17T13:18:38.401038Z",
     "iopub.status.idle": "2022-10-17T13:18:49.183520Z",
     "shell.execute_reply": "2022-10-17T13:18:49.182892Z",
     "shell.execute_reply.started": "2022-10-17T13:18:38.401362Z"
    },
    "tags": []
   },
   "outputs": [
    {
     "data": {
      "text/plain": [
       "[Row(rate=5, count=120),\n",
       " Row(rate=1, count=2),\n",
       " Row(rate=3, count=46),\n",
       " Row(rate=2, count=10),\n",
       " Row(rate=4, count=119)]"
      ]
     },
     "execution_count": 66,
     "metadata": {},
     "output_type": "execute_result"
    }
   ],
   "source": [
    "df[df['itemid']=='302'][['rate']].groupBy('rate').count()"
   ]
  }
 ],
 "metadata": {
  "kernelspec": {
   "display_name": "Python 3",
   "language": "python",
   "name": "python3"
  },
  "language_info": {
   "codemirror_mode": {
    "name": "ipython",
    "version": 3
   },
   "file_extension": ".py",
   "mimetype": "text/x-python",
   "name": "python",
   "nbconvert_exporter": "python",
   "pygments_lexer": "ipython3",
   "version": "3.6.5"
  }
 },
 "nbformat": 4,
 "nbformat_minor": 4
}
