{
 "cells": [
  {
   "cell_type": "code",
   "execution_count": 1,
   "metadata": {},
   "outputs": [
    {
     "data": {
      "text/plain": [
       "Waiting for a Spark session to start..."
      ]
     },
     "metadata": {},
     "output_type": "display_data"
    },
    {
     "data": {
      "text/plain": [
       "org.apache.spark.sql.SparkSession@3695dfc0"
      ]
     },
     "execution_count": 1,
     "metadata": {},
     "output_type": "execute_result"
    }
   ],
   "source": [
    "spark"
   ]
  },
  {
   "cell_type": "code",
   "execution_count": 2,
   "metadata": {},
   "outputs": [],
   "source": [
    "import org.apache.spark.sql.SparkSession\n",
    "import org.apache.spark.sql.functions._\n",
    "import org.apache.spark.sql.functions.{col}"
   ]
  },
  {
   "cell_type": "code",
   "execution_count": 4,
   "metadata": {},
   "outputs": [
    {
     "data": {
      "text/plain": [
       "spark = org.apache.spark.sql.SparkSession@3695dfc0\n"
      ]
     },
     "metadata": {},
     "output_type": "display_data"
    },
    {
     "data": {
      "text/plain": [
       "org.apache.spark.sql.SparkSession@3695dfc0"
      ]
     },
     "execution_count": 4,
     "metadata": {},
     "output_type": "execute_result"
    }
   ],
   "source": [
    "val spark = SparkSession.builder.appName(\"korneev\").getOrCreate()"
   ]
  },
  {
   "cell_type": "code",
   "execution_count": 5,
   "metadata": {},
   "outputs": [
    {
     "name": "stdout",
     "output_type": "stream",
     "text": [
      "-RECORD 0--------------------------------------------\n",
      " _c0                         | 333149                \n",
      " ID                          | 479990                \n",
      " CR_PROD_CNT_IL              | 0                     \n",
      " AMOUNT_RUB_CLO_PRC          | 0.0                   \n",
      " PRC_ACCEPTS_A_EMAIL_LINK    | 0.0                   \n",
      " APP_REGISTR_RGN_CODE        | null                  \n",
      " PRC_ACCEPTS_A_POS           | 0.0                   \n",
      " PRC_ACCEPTS_A_TK            | 0.0                   \n",
      " TURNOVER_DYNAMIC_IL_1M      | 0.0                   \n",
      " CNT_TRAN_AUT_TENDENCY1M     | null                  \n",
      " SUM_TRAN_AUT_TENDENCY1M     | null                  \n",
      " AMOUNT_RUB_SUP_PRC          | 0.0                   \n",
      " PRC_ACCEPTS_A_AMOBILE       | 0.0                   \n",
      " SUM_TRAN_AUT_TENDENCY3M     | null                  \n",
      " CLNT_TRUST_RELATION         | null                  \n",
      " PRC_ACCEPTS_TK              | 0.0                   \n",
      " PRC_ACCEPTS_A_MTP           | 0.0                   \n",
      " REST_DYNAMIC_FDEP_1M        | 0.0                   \n",
      " CNT_TRAN_AUT_TENDENCY3M     | null                  \n",
      " CNT_ACCEPTS_TK              | 0.0                   \n",
      " APP_MARITAL_STATUS          | null                  \n",
      " REST_DYNAMIC_SAVE_3M        | 0.0                   \n",
      " CR_PROD_CNT_VCU             | 0                     \n",
      " REST_AVG_CUR                | 19069.6917166667      \n",
      " CNT_TRAN_MED_TENDENCY1M     | null                  \n",
      " APP_KIND_OF_PROP_HABITATION | null                  \n",
      " CLNT_JOB_POSITION_TYPE      | null                  \n",
      " AMOUNT_RUB_NAS_PRC          | 0.0                   \n",
      " CLNT_JOB_POSITION           | null                  \n",
      " APP_DRIVING_LICENSE         | null                  \n",
      " TRANS_COUNT_SUP_PRC         | 0.0                   \n",
      " APP_EDUCATION               | null                  \n",
      " CNT_TRAN_CLO_TENDENCY1M     | null                  \n",
      " SUM_TRAN_MED_TENDENCY1M     | null                  \n",
      " PRC_ACCEPTS_A_ATM           | 0.0                   \n",
      " PRC_ACCEPTS_MTP             | 0.0                   \n",
      " TRANS_COUNT_NAS_PRC         | 0.0                   \n",
      " APP_TRAVEL_PASS             | null                  \n",
      " CNT_ACCEPTS_MTP             | 0.0                   \n",
      " CR_PROD_CNT_TOVR            | 1                     \n",
      " APP_CAR                     | null                  \n",
      " CR_PROD_CNT_PIL             | 0                     \n",
      " SUM_TRAN_CLO_TENDENCY1M     | null                  \n",
      " APP_POSITION_TYPE           | null                  \n",
      " TURNOVER_CC                 | 0.0                   \n",
      " TRANS_COUNT_ATM_PRC         | 0.981818181818182     \n",
      " AMOUNT_RUB_ATM_PRC          | 0.9264718189135429    \n",
      " TURNOVER_PAYM               | 0.0                   \n",
      " AGE                         | 324                   \n",
      " CNT_TRAN_MED_TENDENCY3M     | null                  \n",
      " CR_PROD_CNT_CC              | 0                     \n",
      " SUM_TRAN_MED_TENDENCY3M     | null                  \n",
      " REST_DYNAMIC_FDEP_3M        | 0.0                   \n",
      " REST_DYNAMIC_IL_1M          | 0.0                   \n",
      " APP_EMP_TYPE                | null                  \n",
      " SUM_TRAN_CLO_TENDENCY3M     | null                  \n",
      " LDEAL_TENOR_MAX             | null                  \n",
      " LDEAL_YQZ_CHRG              | null                  \n",
      " CR_PROD_CNT_CCFP            | 0                     \n",
      " DEAL_YQZ_IR_MAX             | null                  \n",
      " LDEAL_YQZ_COM               | null                  \n",
      " DEAL_YQZ_IR_MIN             | null                  \n",
      " CNT_TRAN_CLO_TENDENCY3M     | null                  \n",
      " REST_DYNAMIC_CUR_1M         | 0.139327197286461     \n",
      " REST_AVG_PAYM               | 0.0                   \n",
      " LDEAL_TENOR_MIN             | null                  \n",
      " LDEAL_AMT_MONTH             | null                  \n",
      " APP_COMP_TYPE               | null                  \n",
      " LDEAL_GRACE_DAYS_PCT_MED    | 0.0                   \n",
      " REST_DYNAMIC_CUR_3M         | 0.24404241658152398   \n",
      " CNT_TRAN_SUP_TENDENCY3M     | null                  \n",
      " TURNOVER_DYNAMIC_CUR_1M     | 0.14429972251526998   \n",
      " REST_DYNAMIC_PAYM_3M        | 0.0                   \n",
      " SUM_TRAN_SUP_TENDENCY3M     | null                  \n",
      " REST_DYNAMIC_IL_3M          | 0.0                   \n",
      " CNT_TRAN_ATM_TENDENCY3M     | 0.351851851851852     \n",
      " CNT_TRAN_ATM_TENDENCY1M     | 0.166666666666667     \n",
      " TURNOVER_DYNAMIC_IL_3M      | 0.0                   \n",
      " SUM_TRAN_ATM_TENDENCY3M     | 0.329320637235633     \n",
      " DEAL_GRACE_DAYS_ACC_S1X1    | 0.0                   \n",
      " AVG_PCT_MONTH_TO_PCLOSE     | null                  \n",
      " DEAL_YWZ_IR_MIN             | 45.0                  \n",
      " SUM_TRAN_SUP_TENDENCY1M     | null                  \n",
      " DEAL_YWZ_IR_MAX             | 45.0                  \n",
      " SUM_TRAN_ATM_TENDENCY1M     | 0.16790105289165602   \n",
      " REST_DYNAMIC_PAYM_1M        | 0.0                   \n",
      " CNT_TRAN_SUP_TENDENCY1M     | null                  \n",
      " DEAL_GRACE_DAYS_ACC_AVG     | 0.0                   \n",
      " TURNOVER_DYNAMIC_CUR_3M     | 0.30374965665416803   \n",
      " PACK                        | 102                   \n",
      " MAX_PCLOSE_DATE             | null                  \n",
      " LDEAL_YQZ_PC                | null                  \n",
      " CLNT_SETUP_TENOR            | 5.48000105784548      \n",
      " DEAL_GRACE_DAYS_ACC_MAX     | 0.0                   \n",
      " TURNOVER_DYNAMIC_PAYM_3M    | 0.0                   \n",
      " LDEAL_DELINQ_PER_MAXYQZ     | null                  \n",
      " TURNOVER_DYNAMIC_PAYM_1M    | 0.0                   \n",
      " CLNT_SALARY_VALUE           | null                  \n",
      " TRANS_AMOUNT_TENDENCY3M     | 0.305106289785464     \n",
      " MED_DEBT_PRC_YQZ            | null                  \n",
      " TRANS_CNT_TENDENCY3M        | 0.34545454545454496   \n",
      " LDEAL_USED_AMT_AVG_YQZ      | null                  \n",
      " REST_DYNAMIC_CC_1M          | 0.0                   \n",
      " LDEAL_USED_AMT_AVG_YWZ      | 1.0                   \n",
      " TURNOVER_DYNAMIC_CC_1M      | 0.0                   \n",
      " AVG_PCT_DEBT_TO_DEAL_AMT    | null                  \n",
      " LDEAL_ACT_DAYS_ACC_PCT_AVG  | 0.0035236081747709704 \n",
      " REST_DYNAMIC_CC_3M          | 0.0                   \n",
      " MED_DEBT_PRC_YWZ            | 0.0                   \n",
      " LDEAL_ACT_DAYS_PCT_TR3      | 0.0                   \n",
      " LDEAL_ACT_DAYS_PCT_AAVG     | 0.0                   \n",
      " LDEAL_DELINQ_PER_MAXYWZ     | 0.0                   \n",
      " TURNOVER_DYNAMIC_CC_3M      | 0.0                   \n",
      " LDEAL_ACT_DAYS_PCT_TR       | 0.0                   \n",
      " LDEAL_ACT_DAYS_PCT_TR4      | 0.0                   \n",
      " LDEAL_ACT_DAYS_PCT_CURR     | 0.0                   \n",
      " TARGET                      | 0                     \n",
      "only showing top 1 row\n",
      "\n"
     ]
    },
    {
     "data": {
      "text/plain": [
       "train = [_c0: int, ID: int ... 115 more fields]\n"
      ]
     },
     "metadata": {},
     "output_type": "display_data"
    },
    {
     "data": {
      "text/plain": [
       "[_c0: int, ID: int ... 115 more fields]"
      ]
     },
     "execution_count": 5,
     "metadata": {},
     "output_type": "execute_result"
    }
   ],
   "source": [
    "var train = spark\n",
    "            .read\n",
    "            .option(\"header\", true)\n",
    "            .option(\"inferSchema\", true)\n",
    "            .csv(\"/labs/slaba05/lab05_trbain.csv\")\n",
    "\n",
    "train.show(1, 0, true)"
   ]
  },
  {
   "cell_type": "code",
   "execution_count": 6,
   "metadata": {},
   "outputs": [
    {
     "name": "stdout",
     "output_type": "stream",
     "text": [
      "+----+---------+\n",
      "|PACK|count(ID)|\n",
      "+----+---------+\n",
      "| 101|     1645|\n",
      "| 107|    25108|\n",
      "|null|        1|\n",
      "| K01|    69478|\n",
      "| M01|        5|\n",
      "+----+---------+\n",
      "only showing top 5 rows\n",
      "\n"
     ]
    }
   ],
   "source": [
    "//Пакет услуг\n",
    "train.groupBy(\"PACK\").agg(count(\"ID\")).show(5)"
   ]
  },
  {
   "cell_type": "code",
   "execution_count": 7,
   "metadata": {},
   "outputs": [
    {
     "name": "stdout",
     "output_type": "stream",
     "text": [
      "+-------------+---------+\n",
      "|APP_COMP_TYPE|count(ID)|\n",
      "+-------------+---------+\n",
      "|        INTER|     1206|\n",
      "|         null|   259778|\n",
      "|        STATE|     5451|\n",
      "|           IP|      800|\n",
      "|      PRIVATE|    53529|\n",
      "+-------------+---------+\n",
      "\n"
     ]
    }
   ],
   "source": [
    "//Тип компании (основной работы клиента)\n",
    "train.groupBy(\"APP_COMP_TYPE\").agg(count(\"ID\")).show(5)"
   ]
  },
  {
   "cell_type": "code",
   "execution_count": 8,
   "metadata": {},
   "outputs": [
    {
     "name": "stdout",
     "output_type": "stream",
     "text": [
      "+------------+---------+\n",
      "|APP_EMP_TYPE|count(ID)|\n",
      "+------------+---------+\n",
      "|       INTER|     1206|\n",
      "|        null|   259778|\n",
      "|       STATE|     5451|\n",
      "|          IP|      800|\n",
      "|     PRIVATE|    53529|\n",
      "+------------+---------+\n",
      "\n"
     ]
    }
   ],
   "source": [
    "//Тип работы (занятость)\n",
    "train.groupBy(\"APP_EMP_TYPE\").agg(count(\"ID\")).show(5)"
   ]
  },
  {
   "cell_type": "code",
   "execution_count": 9,
   "metadata": {},
   "outputs": [
    {
     "name": "stdout",
     "output_type": "stream",
     "text": [
      "+-------------------+---------+\n",
      "|CLNT_TRUST_RELATION|count(ID)|\n",
      "+-------------------+---------+\n",
      "|               Мать|       80|\n",
      "|             FRIEND|    22613|\n",
      "|             SISTER|     5017|\n",
      "|               мать|        1|\n",
      "|                Сын|        7|\n",
      "|               null|   257829|\n",
      "|           DAUGHTER|     1837|\n",
      "|             MOTHER|    10046|\n",
      "|            BROTHER|     5080|\n",
      "|               Жена|        3|\n",
      "|             FATHER|     2744|\n",
      "|         Близкий ро|       39|\n",
      "|         Дальний ро|        7|\n",
      "|                Муж|        3|\n",
      "|             Сестра|       15|\n",
      "|               Отец|       26|\n",
      "|              OTHER|     6048|\n",
      "|               Брат|       26|\n",
      "|               Дочь|        8|\n",
      "|                SON|     1715|\n",
      "|               Друг|      188|\n",
      "|           RELATIVE|     7431|\n",
      "|               мама|        1|\n",
      "+-------------------+---------+\n",
      "\n"
     ]
    }
   ],
   "source": [
    "train.groupBy(\"CLNT_TRUST_RELATION\").agg(count(\"ID\")).show(30)"
   ]
  },
  {
   "cell_type": "code",
   "execution_count": 10,
   "metadata": {},
   "outputs": [
    {
     "name": "stdout",
     "output_type": "stream",
     "text": [
      "+------------------+---------+\n",
      "|APP_MARITAL_STATUS|count(ID)|\n",
      "+------------------+---------+\n",
      "|                 m|     1298|\n",
      "|              null|   258989|\n",
      "|                 T|     2932|\n",
      "|                 M|    27848|\n",
      "|                 V|    20116|\n",
      "+------------------+---------+\n",
      "only showing top 5 rows\n",
      "\n",
      "+---------------------------+---------+\n",
      "|APP_KIND_OF_PROP_HABITATION|count(ID)|\n",
      "+---------------------------+---------+\n",
      "|                    NPRIVAT|     2328|\n",
      "|                       null|   267042|\n",
      "|                         SO|    25461|\n",
      "|                       RENT|     2931|\n",
      "|                         JO|    12750|\n",
      "+---------------------------+---------+\n",
      "only showing top 5 rows\n",
      "\n",
      "+----------------------+---------+\n",
      "|CLNT_JOB_POSITION_TYPE|count(ID)|\n",
      "+----------------------+---------+\n",
      "|                  null|   280242|\n",
      "|            SPECIALIST|    22741|\n",
      "|           TOP_MANAGER|     6605|\n",
      "|               MANAGER|     8464|\n",
      "|             SELF_EMPL|     2712|\n",
      "+----------------------+---------+\n",
      "\n",
      "+--------------------+---------+\n",
      "|   CLNT_JOB_POSITION|count(ID)|\n",
      "+--------------------+---------+\n",
      "|        Арт-менеджер|        4|\n",
      "|МЕНЕДЖЕР ПОЕКТОВ ...|        2|\n",
      "|ЗАВЕДУЮЩИЙ ЛАБАРА...|        3|\n",
      "|    ВЕДУЩИЙ БУХГАЛЕР|        2|\n",
      "|Ученик обслуживан...|        2|\n",
      "+--------------------+---------+\n",
      "only showing top 5 rows\n",
      "\n",
      "+-------------------+---------+\n",
      "|APP_DRIVING_LICENSE|count(ID)|\n",
      "+-------------------+---------+\n",
      "|               null|   268868|\n",
      "|                  Y|    18958|\n",
      "|                  N|    32938|\n",
      "+-------------------+---------+\n",
      "\n",
      "+-------------+---------+\n",
      "|APP_EDUCATION|count(ID)|\n",
      "+-------------+---------+\n",
      "|           HH|     1772|\n",
      "|           AV|        5|\n",
      "|         null|   259099|\n",
      "|            E|        8|\n",
      "|            e|       15|\n",
      "+-------------+---------+\n",
      "only showing top 5 rows\n",
      "\n",
      "+---------------+---------+\n",
      "|APP_TRAVEL_PASS|count(ID)|\n",
      "+---------------+---------+\n",
      "|           null|   268868|\n",
      "|              Y|     4067|\n",
      "|              N|    47829|\n",
      "+---------------+---------+\n",
      "\n",
      "+-------+---------+\n",
      "|APP_CAR|count(ID)|\n",
      "+-------+---------+\n",
      "|   null|   268869|\n",
      "|      Y|    22135|\n",
      "|      N|    29760|\n",
      "+-------+---------+\n",
      "\n",
      "+-----------------+---------+\n",
      "|APP_POSITION_TYPE|count(ID)|\n",
      "+-----------------+---------+\n",
      "|             null|   265984|\n",
      "|       SPECIALIST|    33154|\n",
      "|      TOP_MANAGER|     7638|\n",
      "|          MANAGER|    10546|\n",
      "|        SELF_EMPL|     3442|\n",
      "+-----------------+---------+\n",
      "\n",
      "+------------+---------+\n",
      "|APP_EMP_TYPE|count(ID)|\n",
      "+------------+---------+\n",
      "|       INTER|     1206|\n",
      "|        null|   259778|\n",
      "|       STATE|     5451|\n",
      "|          IP|      800|\n",
      "|     PRIVATE|    53529|\n",
      "+------------+---------+\n",
      "\n",
      "+-------------+---------+\n",
      "|APP_COMP_TYPE|count(ID)|\n",
      "+-------------+---------+\n",
      "|        INTER|     1206|\n",
      "|         null|   259778|\n",
      "|        STATE|     5451|\n",
      "|           IP|      800|\n",
      "|      PRIVATE|    53529|\n",
      "+-------------+---------+\n",
      "\n",
      "+----+---------+\n",
      "|PACK|count(ID)|\n",
      "+----+---------+\n",
      "| 101|     1645|\n",
      "| 107|    25108|\n",
      "|null|        1|\n",
      "| K01|    69478|\n",
      "| M01|        5|\n",
      "+----+---------+\n",
      "only showing top 5 rows\n",
      "\n"
     ]
    }
   ],
   "source": [
    "train.groupBy(\"APP_MARITAL_STATUS\").agg(count(\"ID\")).show(5)\n",
    "train.groupBy(\"APP_KIND_OF_PROP_HABITATION\").agg(count(\"ID\")).show(5)\n",
    "train.groupBy(\"CLNT_JOB_POSITION_TYPE\").agg(count(\"ID\")).show(5)\n",
    "train.groupBy(\"CLNT_JOB_POSITION\").agg(count(\"ID\")).show(5)\n",
    "train.groupBy(\"APP_DRIVING_LICENSE\").agg(count(\"ID\")).show(5)\n",
    "train.groupBy(\"APP_EDUCATION\").agg(count(\"ID\")).show(5)\n",
    "train.groupBy(\"APP_TRAVEL_PASS\").agg(count(\"ID\")).show(5)\n",
    "train.groupBy(\"APP_CAR\").agg(count(\"ID\")).show(5)\n",
    "train.groupBy(\"APP_POSITION_TYPE\").agg(count(\"ID\")).show(5)\n",
    "train.groupBy(\"APP_EMP_TYPE\").agg(count(\"ID\")).show(5)\n",
    "train.groupBy(\"APP_COMP_TYPE\").agg(count(\"ID\")).show(5)\n",
    "train.groupBy(\"PACK\").agg(count(\"ID\")).show(5)"
   ]
  },
  {
   "cell_type": "code",
   "execution_count": null,
   "metadata": {},
   "outputs": [],
   "source": []
  },
  {
   "cell_type": "code",
   "execution_count": 11,
   "metadata": {},
   "outputs": [],
   "source": [
    "// model \n",
    "import org.apache.spark.ml.feature.OneHotEncoder\n",
    "import org.apache.spark.ml.feature.{VectorAssembler}\n"
   ]
  },
  {
   "cell_type": "code",
   "execution_count": 12,
   "metadata": {},
   "outputs": [
    {
     "data": {
      "text/plain": [
       "dropColumns = List(CLNT_TRUST_RELATION, APP_MARITAL_STATUS, APP_KIND_OF_PROP_HABITATION, CLNT_JOB_POSITION_TYPE, CLNT_JOB_POSITION, APP_DRIVING_LICENSE, APP_EDUCATION, APP_TRAVEL_PASS, APP_CAR, APP_POSITION_TYPE, APP_EMP_TYPE, APP_COMP_TYPE, PACK)\n",
       "train = [_c0: int, ID: int ... 102 more fields]\n"
      ]
     },
     "metadata": {},
     "output_type": "display_data"
    },
    {
     "data": {
      "text/plain": [
       "[_c0: int, ID: int ... 102 more fields]"
      ]
     },
     "execution_count": 12,
     "metadata": {},
     "output_type": "execute_result"
    }
   ],
   "source": [
    "val dropColumns = List(\n",
    "    \"CLNT_TRUST_RELATION\", \n",
    "    \"APP_MARITAL_STATUS\",\n",
    "    \"APP_KIND_OF_PROP_HABITATION\", \n",
    "    \"CLNT_JOB_POSITION_TYPE\",\n",
    "    \"CLNT_JOB_POSITION\", \n",
    "    \"APP_DRIVING_LICENSE\", \n",
    "    \"APP_EDUCATION\",\n",
    "    \"APP_TRAVEL_PASS\", \n",
    "    \"APP_CAR\", \n",
    "    \"APP_POSITION_TYPE\", \n",
    "    \"APP_EMP_TYPE\",\n",
    "    \"APP_COMP_TYPE\", \n",
    "    \"PACK\"\n",
    ")\n",
    "train = train.drop(dropColumns:_*).na.fill(0)"
   ]
  },
  {
   "cell_type": "code",
   "execution_count": 13,
   "metadata": {},
   "outputs": [
    {
     "data": {
      "text/plain": [
       "vectorAssembler = vecAssembler_2ea8c289d853\n"
      ]
     },
     "metadata": {},
     "output_type": "display_data"
    },
    {
     "data": {
      "text/plain": [
       "vecAssembler_2ea8c289d853"
      ]
     },
     "execution_count": 13,
     "metadata": {},
     "output_type": "execute_result"
    }
   ],
   "source": [
    "val vectorAssembler = new VectorAssembler()\n",
    "    .setInputCols(train.drop(\"TARGET\").columns)\n",
    "    .setOutputCol(\"features\")"
   ]
  },
  {
   "cell_type": "code",
   "execution_count": 14,
   "metadata": {},
   "outputs": [
    {
     "data": {
      "text/plain": [
       "trainData = [_c0: int, ID: int ... 103 more fields]\n"
      ]
     },
     "metadata": {},
     "output_type": "display_data"
    },
    {
     "data": {
      "text/plain": [
       "[_c0: int, ID: int ... 103 more fields]"
      ]
     },
     "execution_count": 14,
     "metadata": {},
     "output_type": "execute_result"
    }
   ],
   "source": [
    "val trainData = vectorAssembler.transform(train).cache"
   ]
  },
  {
   "cell_type": "code",
   "execution_count": 15,
   "metadata": {},
   "outputs": [
    {
     "data": {
      "text/plain": [
       "trainingData = [_c0: int, ID: int ... 103 more fields]\n",
       "validData = [_c0: int, ID: int ... 103 more fields]\n"
      ]
     },
     "metadata": {},
     "output_type": "display_data"
    },
    {
     "data": {
      "text/plain": [
       "[_c0: int, ID: int ... 103 more fields]"
      ]
     },
     "execution_count": 15,
     "metadata": {},
     "output_type": "execute_result"
    }
   ],
   "source": [
    "// Split the data into training and test sets (30% held out for testing).\n",
    "val Array(trainingData, validData) = trainData.randomSplit(Array(0.8, 0.2))"
   ]
  },
  {
   "cell_type": "code",
   "execution_count": 16,
   "metadata": {},
   "outputs": [],
   "source": [
    "import org.apache.spark.ml.classification.{RandomForestClassifier, GBTClassifier}"
   ]
  },
  {
   "cell_type": "code",
   "execution_count": 18,
   "metadata": {},
   "outputs": [
    {
     "data": {
      "text/plain": [
       "clf = GBTClassificationModel (uid=gbtc_fdd4aa3d74d4) with 10 trees\n"
      ]
     },
     "metadata": {},
     "output_type": "display_data"
    },
    {
     "data": {
      "text/plain": [
       "GBTClassificationModel (uid=gbtc_fdd4aa3d74d4) with 10 trees"
      ]
     },
     "execution_count": 18,
     "metadata": {},
     "output_type": "execute_result"
    }
   ],
   "source": [
    "// Train GBT\n",
    "val clf = new GBTClassifier()\n",
    "    .setLabelCol(\"TARGET\")\n",
    "    .setFeaturesCol(\"features\")\n",
    "    .setMaxIter(10)\n",
    "    .setFeatureSubsetStrategy(\"auto\")\n",
    "    .fit(trainingData)"
   ]
  },
  {
   "cell_type": "code",
   "execution_count": 19,
   "metadata": {},
   "outputs": [
    {
     "data": {
      "text/plain": [
       "predictions = [_c0: int, ID: int ... 106 more fields]\n"
      ]
     },
     "metadata": {},
     "output_type": "display_data"
    },
    {
     "data": {
      "text/plain": [
       "[_c0: int, ID: int ... 106 more fields]"
      ]
     },
     "execution_count": 19,
     "metadata": {},
     "output_type": "execute_result"
    }
   ],
   "source": [
    "val predictions = clf.transform(validData).cache"
   ]
  },
  {
   "cell_type": "code",
   "execution_count": 20,
   "metadata": {},
   "outputs": [
    {
     "name": "stdout",
     "output_type": "stream",
     "text": [
      "+------+--------------------+--------------------+--------------------+----------+\n",
      "|TARGET|            features|       rawPrediction|         probability|prediction|\n",
      "+------+--------------------+--------------------+--------------------+----------+\n",
      "|     0|(103,[1,19,21,35,...|[1.08377333464616...|[0.89729710009515...|       0.0|\n",
      "|     0|(103,[0,1,3,9,10,...|[1.04269642120368...|[0.88947531272972...|       0.0|\n",
      "|     0|(103,[0,1,3,9,10,...|[1.03025024197624...|[0.88700434196973...|       0.0|\n",
      "|     0|(103,[0,1,23,29,3...|[1.11800605892970...|[0.90343712075233...|       0.0|\n",
      "|     0|(103,[0,1,5,11,23...|[1.01033999769305...|[0.88295130379303...|       0.0|\n",
      "+------+--------------------+--------------------+--------------------+----------+\n",
      "only showing top 5 rows\n",
      "\n"
     ]
    }
   ],
   "source": [
    "predictions.select(\n",
    "        \"TARGET\",\n",
    "        \"features\",\n",
    "        \"rawPrediction\",\n",
    "        \"probability\",\n",
    "        \"prediction\"\n",
    ").show(5)"
   ]
  },
  {
   "cell_type": "code",
   "execution_count": 21,
   "metadata": {},
   "outputs": [
    {
     "name": "stdout",
     "output_type": "stream",
     "text": [
      "-RECORD 0----------------------------------------------\n",
      " probability | [0.8972971000951554,0.1027028999048446] \n",
      "only showing top 1 row\n",
      "\n"
     ]
    }
   ],
   "source": [
    "predictions.select(\"probability\").show(1, 0, true)"
   ]
  },
  {
   "cell_type": "code",
   "execution_count": 22,
   "metadata": {},
   "outputs": [
    {
     "data": {
      "text/plain": [
       "vectorToArrayUdf = UserDefinedFunction(<function1>,ArrayType(DoubleType,false),None)\n"
      ]
     },
     "metadata": {},
     "output_type": "display_data"
    },
    {
     "data": {
      "text/plain": [
       "import org.apache.spark.mllib.linalg.{Vector=>OldVector}\n"
      ]
     },
     "metadata": {},
     "output_type": "display_data"
    },
    {
     "data": {
      "text/plain": [
       "UserDefinedFunction(<function1>,ArrayType(DoubleType,false),None)"
      ]
     },
     "execution_count": 22,
     "metadata": {},
     "output_type": "execute_result"
    }
   ],
   "source": [
    "// import org.apache.spark.ml.linalg.Vector\n",
    "// val vectorSecondElementUdf = udf((v: Vector) => v.toArray(1))\n",
    "// требуется DoublyType \n",
    "// лень возиться\n",
    "// нагуглил UDF vectorToArrayUdf\n",
    "//\n",
    "//\n",
    "// https://stackoverflow.com/questions/46053318/convert-a-spark-vector-of-features-into-an-array\n",
    "\n",
    "import org.apache.spark.ml.linalg.{SparseVector, Vector}\n",
    "import org.apache.spark.mllib.linalg.{Vector => OldVector}\n",
    "\n",
    "val vectorToArrayUdf = udf { vec: Any =>\n",
    "    vec match {\n",
    "      case v: Vector => v.toArray\n",
    "      case v: OldVector => v.toArray\n",
    "      case v => throw new IllegalArgumentException(\n",
    "        \"function vector_to_array requires a non-null input argument and input type must be \" +\n",
    "        \"`org.apache.spark.ml.linalg.Vector` or `org.apache.spark.mllib.linalg.Vector`, \" +\n",
    "        s\"but got ${ if (v == null) \"null\" else v.getClass.getName }.\")\n",
    "    }\n",
    "  }.asNonNullable()"
   ]
  },
  {
   "cell_type": "code",
   "execution_count": 23,
   "metadata": {},
   "outputs": [],
   "source": [
    "import org.apache.spark.ml.evaluation.BinaryClassificationEvaluator"
   ]
  },
  {
   "cell_type": "code",
   "execution_count": 24,
   "metadata": {},
   "outputs": [
    {
     "data": {
      "text/plain": [
       "evaluator = binEval_fc2f6a5b9bfe\n",
       "accuracy = 0.8176650061622104\n"
      ]
     },
     "metadata": {},
     "output_type": "display_data"
    },
    {
     "data": {
      "text/plain": [
       "0.8176650061622104"
      ]
     },
     "execution_count": 24,
     "metadata": {},
     "output_type": "execute_result"
    }
   ],
   "source": [
    "val evaluator = new BinaryClassificationEvaluator()\n",
    "    .setLabelCol(\"TARGET\")\n",
    "    .setRawPredictionCol(\"prediction\")\n",
    "    .setMetricName(\"areaUnderROC\")\n",
    "\n",
    "val accuracy = evaluator\n",
    "    .evaluate(\n",
    "        predictions.withColumn(\"prediction\", vectorToArrayUdf(col(\"probability\")).getItem(1))\n",
    "    )"
   ]
  },
  {
   "cell_type": "code",
   "execution_count": 25,
   "metadata": {},
   "outputs": [
    {
     "data": {
      "text/plain": [
       "test = [_c0: int, ID: int ... 114 more fields]\n"
      ]
     },
     "metadata": {},
     "output_type": "display_data"
    },
    {
     "data": {
      "text/plain": [
       "[_c0: int, ID: int ... 114 more fields]"
      ]
     },
     "execution_count": 25,
     "metadata": {},
     "output_type": "execute_result"
    }
   ],
   "source": [
    "var test = spark\n",
    "            .read\n",
    "            .option(\"header\", true)\n",
    "            .option(\"inferSchema\", true)\n",
    "            .csv(\"/labs/slaba05/lab05_test.csv\")\n",
    "            .na.fill(0)\n",
    "// test.show(1)"
   ]
  },
  {
   "cell_type": "code",
   "execution_count": 26,
   "metadata": {},
   "outputs": [
    {
     "data": {
      "text/plain": [
       "pred_test = [_c0: int, ID: int ... 118 more fields]\n"
      ]
     },
     "metadata": {},
     "output_type": "display_data"
    },
    {
     "data": {
      "text/plain": [
       "[_c0: int, ID: int ... 118 more fields]"
      ]
     },
     "execution_count": 26,
     "metadata": {},
     "output_type": "execute_result"
    }
   ],
   "source": [
    "val pred_test = clf.transform(vectorAssembler.transform(test)).cache"
   ]
  },
  {
   "cell_type": "code",
   "execution_count": 27,
   "metadata": {},
   "outputs": [
    {
     "name": "stdout",
     "output_type": "stream",
     "text": [
      "+------+--------------------+-------------------+\n",
      "|    ID|         probability|         prediction|\n",
      "+------+--------------------+-------------------+\n",
      "|519130|[0.83060102665691...| 0.1693989733430803|\n",
      "|234045|[0.92713343258804...|0.07286656741195363|\n",
      "|401256|[0.92952619429671...|0.07047380570328976|\n",
      "|551070|[0.90401660513344...|0.09598339486655216|\n",
      "|367285|[0.92005838308264...|0.07994161691735746|\n",
      "+------+--------------------+-------------------+\n",
      "only showing top 5 rows\n",
      "\n"
     ]
    }
   ],
   "source": [
    "pred_test.select(\"ID\", \"probability\")\n",
    "    .withColumn(\"prediction\", vectorToArrayUdf(col(\"probability\")).getItem(1))\n",
    "    .show(5)"
   ]
  },
  {
   "cell_type": "code",
   "execution_count": 30,
   "metadata": {},
   "outputs": [],
   "source": [
    "pred_test.withColumn(\"prediction\", vectorToArrayUdf(col(\"probability\")).getItem(1))\n",
    "    .select(col(\"ID\").alias(\"id\"), col(\"prediction\").alias(\"target\"))\n",
    "    .coalesce(1)\n",
    "    .write\n",
    "    .format(\"csv\")\n",
    "    .mode(\"overwrite\")\n",
    "    .option(\"header\", \"true\")\n",
    "    .option(\"sep\", \"\\t\")\n",
    "    .save(\"lab05.csv\")"
   ]
  },
  {
   "cell_type": "code",
   "execution_count": 41,
   "metadata": {},
   "outputs": [
    {
     "data": {
      "text/plain": [
       "lastException: Throwable = null\n"
      ]
     },
     "metadata": {},
     "output_type": "display_data"
    }
   ],
   "source": [
    "pred_test.withColumn(\"prediction\", vectorToArrayUdf(col(\"probability\")).getItem(1))\n",
    "    .select(col(\"ID\").alias(\"id\"), col(\"prediction\").alias(\"target\"))\n",
    "    .coalesce(1)\n",
    "    .write\n",
    "    .format(\"csv\")\n",
    "    .mode(\"overwrite\")\n",
    "    .option(\"header\", \"true\")\n",
    "    .option(\"sep\", \"\\t\")\n",
    "    .save(\"lab05.csv\") "
   ]
  },
  {
   "cell_type": "code",
   "execution_count": 39,
   "metadata": {},
   "outputs": [
    {
     "data": {
      "text/plain": [
       "Name: Compile Error\n",
       "Message: <console>:37: error: not found: value hdfs\n",
       "       ! hdfs dfs -get /user/andrey.korneev/lab05.csv\n",
       "         ^\n",
       "<console>:37: error: not found: value get\n",
       "       ! hdfs dfs -get /user/andrey.korneev/lab05.csv\n",
       "                   ^\n",
       "<console>:37: error: not found: value user\n",
       "       ! hdfs dfs -get /user/andrey.korneev/lab05.csv\n",
       "                        ^\n",
       "<console>:37: error: not found: value andrey\n",
       "       ! hdfs dfs -get /user/andrey.korneev/lab05.csv\n",
       "                             ^\n",
       "<console>:37: error: not found: value lab05\n",
       "       ! hdfs dfs -get /user/andrey.korneev/lab05.csv\n",
       "                                            ^\n",
       "\n",
       "StackTrace: "
      ]
     },
     "execution_count": 39,
     "metadata": {},
     "output_type": "execute_result"
    }
   ],
   "source": []
  },
  {
   "cell_type": "code",
   "execution_count": null,
   "metadata": {},
   "outputs": [],
   "source": []
  },
  {
   "cell_type": "code",
   "execution_count": null,
   "metadata": {},
   "outputs": [],
   "source": []
  }
 ],
 "metadata": {
  "kernelspec": {
   "display_name": "Apache Toree - Scala",
   "language": "scala",
   "name": "apache_toree_scala"
  },
  "language_info": {
   "codemirror_mode": "text/x-scala",
   "file_extension": ".scala",
   "mimetype": "text/x-scala",
   "name": "scala",
   "pygments_lexer": "scala",
   "version": "2.11.12"
  }
 },
 "nbformat": 4,
 "nbformat_minor": 2
}
