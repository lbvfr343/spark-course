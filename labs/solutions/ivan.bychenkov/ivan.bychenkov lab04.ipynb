{
 "cells": [
  {
   "cell_type": "code",
   "execution_count": 3,
   "metadata": {},
   "outputs": [
    {
     "name": "stdout",
     "output_type": "stream",
     "text": [
      "Welcome to\n",
      "      ____              __\n",
      "     / __/__  ___ _____/ /__\n",
      "    _\\ \\/ _ \\/ _ `/ __/  '_/\n",
      "   /__ / .__/\\_,_/_/ /_/\\_\\   version 2.4.7\n",
      "      /_/\n",
      "\n",
      "Using Python version 3.6.5 (default, Apr 29 2018 16:14:56)\n",
      "SparkSession available as 'spark'.\n"
     ]
    }
   ],
   "source": [
    "import os\n",
    "import sys\n",
    "os.environ[\"PYSPARK_PYTHON\"]='/opt/anaconda/envs/bd9/bin/python'\n",
    "os.environ[\"SPARK_HOME\"]='/usr/hdp/current/spark2-client'\n",
    "os.environ[\"PYSPARK_SUBMIT_ARGS\"]='--num-executors 3 --executor-memory 3g pyspark-shell'\n",
    "\n",
    "spark_home = os.environ.get('SPARK_HOME', None)\n",
    "if not spark_home:\n",
    "    raise ValueError('SPARK_HOME environment variable is not set')\n",
    "sys.path.insert(0, os.path.join(spark_home, 'python'))\n",
    "sys.path.insert(0, os.path.join(spark_home, 'python/lib/py4j-0.10.7-src.zip'))\n",
    "exec(open(os.path.join(spark_home, 'python/pyspark/shell.py')).read())"
   ]
  },
  {
   "cell_type": "code",
   "execution_count": 4,
   "metadata": {},
   "outputs": [],
   "source": [
    "from pyspark.sql.functions import json_tuple, from_json, get_json_object, col, explode, expr, \\\n",
    "collect_set, collect_list,regexp_replace, get_json_object, to_json, struct\n",
    "import pyspark.sql.types as t\n",
    "import pyspark.sql.functions as f\n",
    "\n",
    "from pyspark.sql.types import StructField, StructType, StringType, ArrayType, IntegerType, TimestampType, LongType\n",
    "from pyspark.ml.feature import HashingTF, IDF, Tokenizer, StopWordsRemover, StringIndexer, IndexToString\n",
    "from pyspark.ml import Pipeline, PipelineModel\n",
    "from pyspark.ml.linalg import Vector, DenseVector\n",
    "from pyspark.ml.classification import LogisticRegression ,DecisionTreeClassifier, RandomForestClassifier\n",
    "from pyspark.ml.evaluation import MulticlassClassificationEvaluator\n",
    "import json, pprint"
   ]
  },
  {
   "cell_type": "code",
   "execution_count": 3,
   "metadata": {},
   "outputs": [
    {
     "name": "stdout",
     "output_type": "stream",
     "text": [
      "Found 1 items\r\n",
      "-rw-r--r--   3 hdfs hdfs  655090069 2022-01-06 18:46 /labs/slaba04/gender_age_dataset.txt\r\n"
     ]
    }
   ],
   "source": [
    "!hdfs dfs -ls /labs/slaba04/"
   ]
  },
  {
   "cell_type": "code",
   "execution_count": 4,
   "metadata": {},
   "outputs": [
    {
     "name": "stdout",
     "output_type": "stream",
     "text": [
      "gender\tage\tuid\tuser_json\r\n",
      "F\t18-24\td50192e5-c44e-4ae8-ae7a-7cfe67c8b777\t{\"visits\": [{\"url\": \"http://zebra-zoya.ru/200028-chehol-organayzer-dlja-macbook-11-grid-it.html?utm_campaign=397720794&utm_content=397729344&utm_medium=cpc&utm_source=begun\", \"timestamp\": 1419688144068}, {\"url\": \"http://news.yandex.ru/yandsearch?cl4url=chezasite.com/htc/htc-one-m9-delay-86327.html&lr=213&rpt=story\", \"timestamp\": 1426666298001}, {\"url\": \"http://www.sotovik.ru/news/240283-htc-one-m9-zaderzhivaetsja.html\", \"timestamp\": 1426666298000}, {\"url\": \"http://news.yandex.ru/yandsearch?cl4url=chezasite.com/htc/htc-one-m9-delay-86327.html&lr=213&rpt=story\", \"timestamp\": 1426661722001}, {\"url\": \"http://www.sotovik.ru/news/240283-htc-one-m9-zaderzhivaetsja.html\", \"timestamp\": 1426661722000}]}\r\n",
      "cat: Unable to write to output stream.\r\n"
     ]
    }
   ],
   "source": [
    "!hdfs dfs -cat /labs/slaba04/gender_age_dataset.txt | head -n2"
   ]
  },
  {
   "cell_type": "code",
   "execution_count": 5,
   "metadata": {},
   "outputs": [],
   "source": [
    "schema = t.StructType(fields = [\n",
    "    t.StructField(\"gender\", t.StringType()),\n",
    "    t.StructField(\"age\", t.StringType()),\n",
    "    t.StructField(\"uid\", t.StringType()),\n",
    "    t.StructField(\"user_json\", t.StringType())\n",
    "])"
   ]
  },
  {
   "cell_type": "code",
   "execution_count": 6,
   "metadata": {},
   "outputs": [],
   "source": [
    "spark_df = spark.read.csv(\"/labs/slaba04/gender_age_dataset.txt\", header=True, schema=schema, sep='\\t')"
   ]
  },
  {
   "cell_type": "code",
   "execution_count": 7,
   "metadata": {},
   "outputs": [
    {
     "name": "stdout",
     "output_type": "stream",
     "text": [
      "+------+-----+--------------------+--------------------+\n",
      "|gender|  age|                 uid|           user_json|\n",
      "+------+-----+--------------------+--------------------+\n",
      "|     F|18-24|d50192e5-c44e-4ae...|{\"visits\": [{\"url...|\n",
      "|     M|25-34|d502331d-621e-472...|{\"visits\": [{\"url...|\n",
      "|     F|25-34|d50237ea-747e-48a...|{\"visits\": [{\"url...|\n",
      "|     F|25-34|d502f29f-d57a-46b...|{\"visits\": [{\"url...|\n",
      "|     M| >=55|d503c3b2-a0c2-4f4...|{\"visits\": [{\"url...|\n",
      "|     F|25-34|d5090ddf-5648-487...|{\"visits\": [{\"url...|\n",
      "|     F|25-34|d50bcef8-16ff-4e8...|{\"visits\": [{\"url...|\n",
      "+------+-----+--------------------+--------------------+\n",
      "only showing top 7 rows\n",
      "\n"
     ]
    }
   ],
   "source": [
    "spark_df.show(7)"
   ]
  },
  {
   "cell_type": "code",
   "execution_count": 8,
   "metadata": {},
   "outputs": [],
   "source": [
    "VisitsType = StructType([\n",
    "    StructField(\"visits\", ArrayType(\n",
    "        StructType([\n",
    "            StructField(\"url\", StringType(), True),\n",
    "            StructField(\"timestamp\", LongType(), True) \n",
    "            ])\n",
    "        ))\n",
    "    ])"
   ]
  },
  {
   "cell_type": "code",
   "execution_count": 9,
   "metadata": {},
   "outputs": [],
   "source": [
    "spark_df_flattened = spark_df \\\n",
    "    .withColumn(\"visits\", from_json(col(\"user_json\"), VisitsType)) \\\n",
    "    .withColumn(\"visit\", explode(\"visits.visits\").alias(\"visit\")) \\\n",
    "    .withColumn(\"host\", expr(\"parse_url(visit.url, 'HOST')\").alias(\"host\")) \\\n",
    "    .drop(\"visits\", \"visit\",\"user_json\")"
   ]
  },
  {
   "cell_type": "code",
   "execution_count": 10,
   "metadata": {},
   "outputs": [
    {
     "name": "stdout",
     "output_type": "stream",
     "text": [
      "-RECORD 0--------------------------------------\n",
      " gender | F                                    \n",
      " age    | 18-24                                \n",
      " uid    | d50192e5-c44e-4ae8-ae7a-7cfe67c8b777 \n",
      " host   | zebra-zoya.ru                        \n",
      "-RECORD 1--------------------------------------\n",
      " gender | F                                    \n",
      " age    | 18-24                                \n",
      " uid    | d50192e5-c44e-4ae8-ae7a-7cfe67c8b777 \n",
      " host   | news.yandex.ru                       \n",
      "-RECORD 2--------------------------------------\n",
      " gender | F                                    \n",
      " age    | 18-24                                \n",
      " uid    | d50192e5-c44e-4ae8-ae7a-7cfe67c8b777 \n",
      " host   | www.sotovik.ru                       \n",
      "only showing top 3 rows\n",
      "\n"
     ]
    }
   ],
   "source": [
    "spark_df_flattened.show(3, vertical = True, truncate = False)"
   ]
  },
  {
   "cell_type": "code",
   "execution_count": 11,
   "metadata": {},
   "outputs": [],
   "source": [
    "df_final = spark_df_flattened \\\n",
    "    .groupBy(\"gender\", \"age\", \"uid\") \\\n",
    "    .agg(collect_list(\"host\") \\\n",
    "    .alias(\"hosts\"))"
   ]
  },
  {
   "cell_type": "code",
   "execution_count": 12,
   "metadata": {},
   "outputs": [
    {
     "name": "stdout",
     "output_type": "stream",
     "text": [
      "-RECORD 0----------------------------------------------------------------------------------------------------------------------------------------------------------------------------------------------------------------------------------------------------------------------------------------------------------------------------------------------------------------------------------------------------------------\n",
      " gender | -                                                                                                                                                                                                                                                                                                                                                                                                              \n",
      " age    | -                                                                                                                                                                                                                                                                                                                                                                                                              \n",
      " uid    | 13292e10-60bf-435b-999f-135456c86d08                                                                                                                                                                                                                                                                                                                                                                           \n",
      " hosts  | [dateandtime.info, www.herold.at]                                                                                                                                                                                                                                                                                                                                                                              \n",
      "-RECORD 1----------------------------------------------------------------------------------------------------------------------------------------------------------------------------------------------------------------------------------------------------------------------------------------------------------------------------------------------------------------------------------------------------------------\n",
      " gender | -                                                                                                                                                                                                                                                                                                                                                                                                              \n",
      " age    | -                                                                                                                                                                                                                                                                                                                                                                                                              \n",
      " uid    | 13f91463-8386-44cb-8740-a61652488b2e                                                                                                                                                                                                                                                                                                                                                                           \n",
      " hosts  | [go.mail.ru, pass.rzd.ru, pass.rzd.ru, rzd.ru, pass.rzd.ru, rzd.ru, rzd.ru, love.mail.ru, love.mail.ru, go.youlamedia.com, glamofon.ru, go.youlamedia.com, www.avito.ru, www.avito.ru, www.avito.ru, go.youlamedia.com, love.mail.ru, love.mail.ru, go.youlamedia.com, go.youlamedia.com, love.mail.ru, pass.rzd.ru, rzd.ru, pass.rzd.ru, rzd.ru, rzd.ru, privetpeople.ru, privetpeople.ru, go.youlamedia.com] \n",
      "-RECORD 2----------------------------------------------------------------------------------------------------------------------------------------------------------------------------------------------------------------------------------------------------------------------------------------------------------------------------------------------------------------------------------------------------------------\n",
      " gender | -                                                                                                                                                                                                                                                                                                                                                                                                              \n",
      " age    | -                                                                                                                                                                                                                                                                                                                                                                                                              \n",
      " uid    | 1dec593b-4dc5-41bf-8def-6d9cbff6b1ec                                                                                                                                                                                                                                                                                                                                                                           \n",
      " hosts  | [www.sport-express.ru]                                                                                                                                                                                                                                                                                                                                                                                         \n",
      "only showing top 3 rows\n",
      "\n"
     ]
    }
   ],
   "source": [
    "df_final.show(3, vertical = True, truncate = False)"
   ]
  },
  {
   "cell_type": "code",
   "execution_count": 13,
   "metadata": {},
   "outputs": [
    {
     "name": "stdout",
     "output_type": "stream",
     "text": [
      "+------+-----+--------------------+--------------------+\n",
      "|gender|  age|                 uid|               hosts|\n",
      "+------+-----+--------------------+--------------------+\n",
      "|     F|18-24|09b1ecd3-b2d2-4c1...|[tankionline.com,...|\n",
      "|     F|18-24|15faf063-5e44-4b6...|[allods.mail.ru, ...|\n",
      "|     F|18-24|560142d9-6c9c-439...|[http, http, http...|\n",
      "|     F|18-24|6709f443-7ddd-423...|[muzofon.com, muz...|\n",
      "|     F|18-24|67e9bd68-ef03-49c...|[tempfile.ru, tem...|\n",
      "|     F|18-24|757ff5c2-ecdb-489...|[www.yves-rocher....|\n",
      "|     F|18-24|c430a9d4-5f48-47c...|[www.eporner.com,...|\n",
      "+------+-----+--------------------+--------------------+\n",
      "only showing top 7 rows\n",
      "\n"
     ]
    }
   ],
   "source": [
    "df_final.filter(df_final.gender == \"F\").show(7)"
   ]
  },
  {
   "cell_type": "code",
   "execution_count": 14,
   "metadata": {},
   "outputs": [
    {
     "data": {
      "text/plain": [
       "[Row(gender='F'), Row(gender='M'), Row(gender='-')]"
      ]
     },
     "execution_count": 14,
     "metadata": {},
     "output_type": "execute_result"
    }
   ],
   "source": [
    "df_final.select(\"gender\").distinct().collect()"
   ]
  },
  {
   "cell_type": "code",
   "execution_count": 15,
   "metadata": {},
   "outputs": [
    {
     "data": {
      "text/plain": [
       "[Row(age='>=55'),\n",
       " Row(age='45-54'),\n",
       " Row(age='-'),\n",
       " Row(age='35-44'),\n",
       " Row(age='25-34'),\n",
       " Row(age='18-24')]"
      ]
     },
     "execution_count": 15,
     "metadata": {},
     "output_type": "execute_result"
    }
   ],
   "source": [
    "df_final.select(\"age\").distinct().collect()"
   ]
  },
  {
   "cell_type": "code",
   "execution_count": 16,
   "metadata": {},
   "outputs": [],
   "source": [
    "df_final = df_final.filter( (df_final.gender != '-') & (df_final.age != '-') )"
   ]
  },
  {
   "cell_type": "code",
   "execution_count": 17,
   "metadata": {},
   "outputs": [
    {
     "name": "stdout",
     "output_type": "stream",
     "text": [
      "+------+-----+--------------------+--------------------+\n",
      "|gender|  age|                 uid|               hosts|\n",
      "+------+-----+--------------------+--------------------+\n",
      "|     F|18-24|09b1ecd3-b2d2-4c1...|[tankionline.com,...|\n",
      "|     F|18-24|15faf063-5e44-4b6...|[allods.mail.ru, ...|\n",
      "|     F|18-24|560142d9-6c9c-439...|[http, http, http...|\n",
      "|     F|18-24|6709f443-7ddd-423...|[muzofon.com, muz...|\n",
      "|     F|18-24|67e9bd68-ef03-49c...|[tempfile.ru, tem...|\n",
      "|     F|18-24|757ff5c2-ecdb-489...|[www.yves-rocher....|\n",
      "|     F|18-24|c430a9d4-5f48-47c...|[www.eporner.com,...|\n",
      "+------+-----+--------------------+--------------------+\n",
      "only showing top 7 rows\n",
      "\n"
     ]
    }
   ],
   "source": [
    "df_final.show(7)"
   ]
  },
  {
   "cell_type": "code",
   "execution_count": 18,
   "metadata": {},
   "outputs": [
    {
     "data": {
      "text/plain": [
       "[Row(gender='F'), Row(gender='M')]"
      ]
     },
     "execution_count": 18,
     "metadata": {},
     "output_type": "execute_result"
    }
   ],
   "source": [
    "df_final.select(\"gender\").distinct().collect()"
   ]
  },
  {
   "cell_type": "code",
   "execution_count": 19,
   "metadata": {},
   "outputs": [
    {
     "data": {
      "text/plain": [
       "[Row(age='>=55'),\n",
       " Row(age='45-54'),\n",
       " Row(age='35-44'),\n",
       " Row(age='25-34'),\n",
       " Row(age='18-24')]"
      ]
     },
     "execution_count": 19,
     "metadata": {},
     "output_type": "execute_result"
    }
   ],
   "source": [
    "df_final.select(\"age\").distinct().collect()"
   ]
  },
  {
   "cell_type": "code",
   "execution_count": 20,
   "metadata": {},
   "outputs": [
    {
     "data": {
      "text/plain": [
       "34178"
      ]
     },
     "execution_count": 20,
     "metadata": {},
     "output_type": "execute_result"
    }
   ],
   "source": [
    "hosts_len = len(df_final.select(\"hosts\").distinct().collect())\n",
    "hosts_len"
   ]
  },
  {
   "cell_type": "code",
   "execution_count": 21,
   "metadata": {},
   "outputs": [],
   "source": [
    "X_train, X_test = df_final.randomSplit([0.8, 0.2], seed=7575)"
   ]
  },
  {
   "cell_type": "code",
   "execution_count": 22,
   "metadata": {},
   "outputs": [],
   "source": [
    "hashing_TF = HashingTF(inputCol=\"hosts\", outputCol=\"rawFeatures\", numFeatures=10000, binary=False)\n",
    "indexer_age = StringIndexer(inputCol=\"age\", outputCol=\"ageIndex\").fit(df_final)\n",
    "indexer_gender = StringIndexer(inputCol=\"gender\", outputCol=\"genderIndex\").fit(df_final)"
   ]
  },
  {
   "cell_type": "code",
   "execution_count": 23,
   "metadata": {},
   "outputs": [],
   "source": [
    "rf_age = RandomForestClassifier(featuresCol = 'rawFeatures', labelCol = 'ageIndex', \n",
    "                           predictionCol=\"age_index_prediction\", rawPredictionCol=\"age_index_raw_prediction\",\n",
    "                           probabilityCol = \"age_probability\")"
   ]
  },
  {
   "cell_type": "code",
   "execution_count": 24,
   "metadata": {},
   "outputs": [],
   "source": [
    "rf_gender = RandomForestClassifier(featuresCol = 'rawFeatures', labelCol = 'genderIndex',\n",
    "                              predictionCol=\"gender_index_prediction\", rawPredictionCol=\"gender_index_raw_prediction\",\n",
    "                              probabilityCol = \"gender_probability\")"
   ]
  },
  {
   "cell_type": "code",
   "execution_count": 25,
   "metadata": {},
   "outputs": [],
   "source": [
    "converter_age = IndexToString(inputCol=\"age_index_prediction\", outputCol=\"PredictedAge\", labels=indexer_age.labels)"
   ]
  },
  {
   "cell_type": "code",
   "execution_count": 26,
   "metadata": {},
   "outputs": [],
   "source": [
    "converter_gender = IndexToString(inputCol=\"gender_index_prediction\", \n",
    "                                 outputCol=\"PredictedGender\", labels=indexer_gender.labels)"
   ]
  },
  {
   "cell_type": "code",
   "execution_count": 27,
   "metadata": {},
   "outputs": [],
   "source": [
    "pipeline = Pipeline(stages=[hashing_TF, indexer_age, indexer_gender, rf_age, rf_gender, \n",
    "                            converter_age, converter_gender])"
   ]
  },
  {
   "cell_type": "code",
   "execution_count": 28,
   "metadata": {},
   "outputs": [],
   "source": [
    "model = pipeline.fit(X_train)"
   ]
  },
  {
   "cell_type": "code",
   "execution_count": 29,
   "metadata": {},
   "outputs": [],
   "source": [
    "predictions = model.transform(X_test)"
   ]
  },
  {
   "cell_type": "code",
   "execution_count": 30,
   "metadata": {},
   "outputs": [
    {
     "name": "stdout",
     "output_type": "stream",
     "text": [
      "Accuracy for age: 0.4328420467185762\n",
      "Accuracy for gender: 0.5483870967741935\n"
     ]
    }
   ],
   "source": [
    "evaluator_age = MulticlassClassificationEvaluator(\n",
    "    labelCol=\"ageIndex\", predictionCol=\"age_index_prediction\", metricName=\"accuracy\")\n",
    "accuracy_age = evaluator_age.evaluate(predictions)\n",
    "evaluator_gender = MulticlassClassificationEvaluator(\n",
    "    labelCol=\"genderIndex\", predictionCol=\"gender_index_prediction\", metricName=\"accuracy\")\n",
    "accuracy_gender = evaluator_gender.evaluate(predictions)\n",
    "\n",
    "print(\"Accuracy for age: \" + str(accuracy_age))\n",
    "print(\"Accuracy for gender: \" + str(accuracy_gender))"
   ]
  },
  {
   "cell_type": "code",
   "execution_count": 31,
   "metadata": {},
   "outputs": [],
   "source": [
    "model.write().overwrite().save(\"/user/ivan.bychenkov/lab04_model\")"
   ]
  },
  {
   "cell_type": "code",
   "execution_count": 32,
   "metadata": {},
   "outputs": [
    {
     "name": "stdout",
     "output_type": "stream",
     "text": [
      "395    1185    /user/ivan.bychenkov/lab04_model/metadata\r\n",
      "85066  255198  /user/ivan.bychenkov/lab04_model/stages\r\n"
     ]
    }
   ],
   "source": [
    "!hdfs dfs -du /user/ivan.bychenkov/lab04_model"
   ]
  },
  {
   "cell_type": "code",
   "execution_count": 5,
   "metadata": {},
   "outputs": [],
   "source": [
    "KAFKA_BOOTSTRAP_SERVER = 'spark-node-1.newprolab.com:6667'\n",
    "KAFKA_INPUT_TOPIC = 'input_ivan.bychenkov' # тест данные\n",
    "KAFKA_OUTPUT_TOPIC = 'ivan.bychenkov' # записываем в аутпут"
   ]
  },
  {
   "cell_type": "code",
   "execution_count": 6,
   "metadata": {},
   "outputs": [],
   "source": [
    "kafka_read_df = (\n",
    "    spark.read\n",
    "    .format('kafka')\n",
    "    .option('kafka.bootstrap.servers', KAFKA_BOOTSTRAP_SERVER)\n",
    "    .option('subscribe', KAFKA_INPUT_TOPIC)\n",
    "    .option('startingOffsets', 'earliest')\n",
    "    .option('failOnDataLoss', 'False')\n",
    "    .load()\n",
    "    .cache()\n",
    ")"
   ]
  },
  {
   "cell_type": "code",
   "execution_count": 7,
   "metadata": {},
   "outputs": [
    {
     "name": "stdout",
     "output_type": "stream",
     "text": [
      "root\n",
      " |-- key: binary (nullable = true)\n",
      " |-- value: binary (nullable = true)\n",
      " |-- topic: string (nullable = true)\n",
      " |-- partition: integer (nullable = true)\n",
      " |-- offset: long (nullable = true)\n",
      " |-- timestamp: timestamp (nullable = true)\n",
      " |-- timestampType: integer (nullable = true)\n",
      "\n"
     ]
    }
   ],
   "source": [
    "kafka_read_df.printSchema()"
   ]
  },
  {
   "cell_type": "code",
   "execution_count": 8,
   "metadata": {},
   "outputs": [],
   "source": [
    "event_schema = t.StructType([\n",
    "    t.StructField('uid', t.StringType(), True),\n",
    "    t.StructField('visits', t.StringType(), True),\n",
    "])\n",
    "\n",
    "\n",
    "visit_schema = t.ArrayType(\n",
    "    t.StructType([\n",
    "        t.StructField('url', t.StringType(), True),\n",
    "        t.StructField('timestamp', t.LongType(), True)\n",
    "    ])\n",
    ")"
   ]
  },
  {
   "cell_type": "code",
   "execution_count": 9,
   "metadata": {},
   "outputs": [
    {
     "name": "stdout",
     "output_type": "stream",
     "text": [
      "+--------------------+--------------------+\n",
      "|                 uid|              visits|\n",
      "+--------------------+--------------------+\n",
      "|bd7a30e1-a25d-4cb...|[[http://www.inte...|\n",
      "|bd7a6f52-45db-49b...|[[https://www.pac...|\n",
      "|bd7a7fd9-ab06-42f...|[[http://www.mk.r...|\n",
      "|bd7c5d7a-0def-41d...|[[http://www.24op...|\n",
      "|bd7e54a2-0215-45c...|[[http://www.dns-...|\n",
      "|bd7e9797-4cdb-46e...|[[http://news.met...|\n",
      "|bd7e9ec7-fb67-45e...|[[http://dynamobr...|\n",
      "+--------------------+--------------------+\n",
      "only showing top 7 rows\n",
      "\n"
     ]
    }
   ],
   "source": [
    "clean_df = (\n",
    "    kafka_read_df\n",
    "    .select(f.col('value').cast('string').alias('value'))\n",
    "    .select(f.from_json(f.col('value'), event_schema).alias('event'))\n",
    "    .select(\n",
    "        'event.uid', \n",
    "        f.from_json(f.col('event.visits'), visit_schema).alias('visits')\n",
    "    )\n",
    ")\n",
    "\n",
    "\n",
    "clean_df.show(7)"
   ]
  },
  {
   "cell_type": "code",
   "execution_count": 10,
   "metadata": {},
   "outputs": [],
   "source": [
    "inf_model = PipelineModel.load(\"/user/ivan.bychenkov/lab04_model\")"
   ]
  },
  {
   "cell_type": "code",
   "execution_count": 39,
   "metadata": {},
   "outputs": [
    {
     "name": "stdout",
     "output_type": "stream",
     "text": [
      "395    1185    /user/ivan.bychenkov/lab04_model/metadata\r\n",
      "85066  255198  /user/ivan.bychenkov/lab04_model/stages\r\n"
     ]
    }
   ],
   "source": [
    "!hdfs dfs -du /user/ivan.bychenkov/lab04_model"
   ]
  },
  {
   "cell_type": "code",
   "execution_count": 40,
   "metadata": {},
   "outputs": [
    {
     "name": "stdout",
     "output_type": "stream",
     "text": [
      "root\n",
      " |-- key: binary (nullable = true)\n",
      " |-- value: binary (nullable = true)\n",
      " |-- topic: string (nullable = true)\n",
      " |-- partition: integer (nullable = true)\n",
      " |-- offset: long (nullable = true)\n",
      " |-- timestamp: timestamp (nullable = true)\n",
      " |-- timestampType: integer (nullable = true)\n",
      "\n"
     ]
    }
   ],
   "source": [
    "kafka_read_df.printSchema()"
   ]
  },
  {
   "cell_type": "code",
   "execution_count": 41,
   "metadata": {},
   "outputs": [],
   "source": [
    "event_schema = t.StructType([\n",
    "    t.StructField('uid', t.StringType(), True),\n",
    "    t.StructField('visits', t.StringType(), True),\n",
    "])\n",
    "\n",
    "\n",
    "visit_schema = t.ArrayType(\n",
    "    t.StructType([\n",
    "        t.StructField('url', t.StringType(), True),\n",
    "        t.StructField('timestamp', t.LongType(), True)\n",
    "    ])\n",
    ")"
   ]
  },
  {
   "cell_type": "code",
   "execution_count": 42,
   "metadata": {},
   "outputs": [
    {
     "name": "stdout",
     "output_type": "stream",
     "text": [
      "+---+------+\n",
      "|uid|visits|\n",
      "+---+------+\n",
      "+---+------+\n",
      "\n"
     ]
    }
   ],
   "source": [
    "clean_df = (\n",
    "    kafka_read_df\n",
    "    .select(f.col('value').cast('string').alias('value'))\n",
    "    .select(f.from_json(f.col('value'), event_schema).alias('event'))\n",
    "    .select(\n",
    "        'event.uid', \n",
    "        f.from_json(f.col('event.visits'), visit_schema).alias('visits')\n",
    "    )\n",
    ")\n",
    "\n",
    "\n",
    "clean_df.show(3)"
   ]
  },
  {
   "cell_type": "code",
   "execution_count": 43,
   "metadata": {},
   "outputs": [
    {
     "name": "stdout",
     "output_type": "stream",
     "text": [
      "Found 2 items\r\n",
      "drwxr-xr-x   - ivan.bychenkov ivan.bychenkov          0 2022-11-07 11:52 .sparkStaging\r\n",
      "drwxr-xr-x   - ivan.bychenkov ivan.bychenkov          0 2022-11-07 11:35 lab04_model\r\n"
     ]
    }
   ],
   "source": [
    "! hdfs dfs -ls"
   ]
  },
  {
   "cell_type": "code",
   "execution_count": 11,
   "metadata": {},
   "outputs": [],
   "source": [
    "read_kafka_params = {\n",
    "    \"kafka.bootstrap.servers\": 'spark-master-1.newprolab.com:6667',\n",
    "    \"subscribe\": \"input_ivan.bychenkov\",\n",
    "    \"startingOffsets\": \"latest\"\n",
    "}\n",
    "\n",
    "kafka_sdf = spark.readStream.format(\"kafka\").options(**read_kafka_params).load()"
   ]
  },
  {
   "cell_type": "code",
   "execution_count": 13,
   "metadata": {},
   "outputs": [],
   "source": [
    "clean_df = kafka_sdf \\\n",
    "    .select(col(\"value\").cast(\"string\").alias(\"value\")) \\\n",
    "    .select(from_json(col(\"value\"), event_schema).alias(\"data\")) \\\n",
    "    .select(\"data.*\") \\\n",
    "    .select(\"uid\", from_json(col(\"visits\"), visit_schema).alias(\"visits\"))"
   ]
  },
  {
   "cell_type": "code",
   "execution_count": 14,
   "metadata": {},
   "outputs": [],
   "source": [
    "inf_model = PipelineModel.load(\"/user/ivan.bychenkov/lab04_model\")"
   ]
  },
  {
   "cell_type": "code",
   "execution_count": 16,
   "metadata": {},
   "outputs": [],
   "source": [
    "prep_df = clean_df \\\n",
    "    .withColumn(\"visit\", explode(\"visits\").alias(\"visit\")) \\\n",
    "    .withColumn(\"host\", expr(\"parse_url(visit.url, 'HOST')\").alias(\"host\")) \\\n",
    "    .drop(\"visits\", \"visit\") \\\n",
    "    .groupBy(\"uid\") \\\n",
    "    .agg(collect_list(\"host\").alias(\"hosts\"))"
   ]
  },
  {
   "cell_type": "code",
   "execution_count": 17,
   "metadata": {},
   "outputs": [],
   "source": [
    "predictions_df = inf_model.transform(prep_df) \\\n",
    "    .select(\"uid\", \"PredictedGender\", \"PredictedAge\") \\\n",
    "    .withColumnRenamed(\"PredictedAge\",\"age\") \\\n",
    "    .withColumnRenamed(\"PredictedGender\",\"gender\")\\"
   ]
  },
  {
   "cell_type": "code",
   "execution_count": 18,
   "metadata": {},
   "outputs": [],
   "source": [
    "kafka_out_df = predictions_df \\\n",
    "    .select(to_json(struct(*predictions_df.columns)).alias(\"value\"))"
   ]
  },
  {
   "cell_type": "code",
   "execution_count": 19,
   "metadata": {},
   "outputs": [
    {
     "data": {
      "text/plain": [
       "<pyspark.sql.streaming.StreamingQuery at 0x7f37da29ff60>"
      ]
     },
     "execution_count": 19,
     "metadata": {},
     "output_type": "execute_result"
    }
   ],
   "source": [
    "write_kafka_params = {\n",
    "   \"kafka.bootstrap.servers\": 'spark-master-1.newprolab.com:6667',\n",
    "   \"topic\": \"ivan.bychenkov\"\n",
    "}\n",
    "kafka_out_df.writeStream.format(\"kafka\").options(**write_kafka_params)\\\n",
    "    .option(\"checkpointLocation\", \"streaming/chk/chk_kafka\")\\\n",
    "    .outputMode(\"complete\").start()"
   ]
  },
  {
   "cell_type": "code",
   "execution_count": 20,
   "metadata": {},
   "outputs": [],
   "source": [
    "spark.stop()"
   ]
  },
  {
   "cell_type": "code",
   "execution_count": null,
   "metadata": {},
   "outputs": [],
   "source": []
  }
 ],
 "metadata": {
  "kernelspec": {
   "display_name": "Python 3",
   "language": "python",
   "name": "python3"
  },
  "language_info": {
   "codemirror_mode": {
    "name": "ipython",
    "version": 3
   },
   "file_extension": ".py",
   "mimetype": "text/x-python",
   "name": "python",
   "nbconvert_exporter": "python",
   "pygments_lexer": "ipython3",
   "version": "3.6.5"
  }
 },
 "nbformat": 4,
 "nbformat_minor": 2
}
