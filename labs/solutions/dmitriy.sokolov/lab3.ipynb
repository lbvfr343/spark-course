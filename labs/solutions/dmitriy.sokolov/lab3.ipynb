{
 "cells": [
  {
   "cell_type": "code",
   "execution_count": 1,
   "metadata": {},
   "outputs": [],
   "source": [
    "import os\n",
    "import sys\n",
    "os.environ[\"PYSPARK_PYTHON\"]='/opt/anaconda/envs/bd9/bin/python'\n",
    "os.environ[\"SPARK_HOME\"]='/usr/hdp/current/spark2-client'\n",
    "os.environ[\"PYSPARK_SUBMIT_ARGS\"]='--num-executors 3 pyspark-shell'\n",
    "\n",
    "spark_home = os.environ.get('SPARK_HOME', None)\n",
    "\n",
    "sys.path.insert(0, os.path.join(spark_home, 'python'))\n",
    "sys.path.insert(0, os.path.join(spark_home, 'python/lib/py4j-0.10.7-src.zip'))\n",
    "\n",
    "from pyspark import SparkConf\n",
    "from pyspark.sql import SparkSession\n",
    "\n",
    "conf = SparkConf()\n",
    "\n",
    "spark = SparkSession.builder.config(conf=conf).appName(\"dmitriy.sokolov lab03\").getOrCreate()"
   ]
  },
  {
   "cell_type": "code",
   "execution_count": 2,
   "metadata": {},
   "outputs": [],
   "source": [
    "import numpy as np # linear algebra\n",
    "import pandas as pd # data processing, CSV file I/O (e.g. pd.read_csv)\n",
    "\n",
    "from pyspark.ml.regression import GBTRegressor, RandomForestRegressor\n",
    "from pyspark.ml.classification import GBTClassifier\n",
    "from pyspark.ml.evaluation import BinaryClassificationEvaluator\n",
    "from pyspark.ml.feature import VectorAssembler\n",
    "from pyspark.ml.tuning import CrossValidator, ParamGridBuilder\n",
    "from pyspark.sql.types import *\n",
    "\n",
    "spark.sparkContext.setCheckpointDir('checkpoint/')"
   ]
  },
  {
   "cell_type": "code",
   "execution_count": 3,
   "metadata": {},
   "outputs": [],
   "source": [
    "from pyspark.sql.functions import col, expr, when, lower\n",
    "from urllib.parse import urlparse\n",
    "# import pyspark.sql.functions as f\n",
    "\n",
    "from pyspark.sql.functions import lit\n"
   ]
  },
  {
   "cell_type": "code",
   "execution_count": 4,
   "metadata": {},
   "outputs": [],
   "source": [
    "from pyspark.sql.types import *"
   ]
  },
  {
   "cell_type": "code",
   "execution_count": 5,
   "metadata": {},
   "outputs": [],
   "source": [
    "sc = spark.sparkContext"
   ]
  },
  {
   "cell_type": "code",
   "execution_count": 6,
   "metadata": {},
   "outputs": [
    {
     "data": {
      "text/html": [
       "\n",
       "        <div>\n",
       "            <p><b>SparkContext</b></p>\n",
       "\n",
       "            <p><a href=\"http://spark-master-4.newprolab.com:4041\">Spark UI</a></p>\n",
       "\n",
       "            <dl>\n",
       "              <dt>Version</dt>\n",
       "                <dd><code>v2.4.7</code></dd>\n",
       "              <dt>Master</dt>\n",
       "                <dd><code>yarn</code></dd>\n",
       "              <dt>AppName</dt>\n",
       "                <dd><code>dmitriy.sokolov lab03</code></dd>\n",
       "            </dl>\n",
       "        </div>\n",
       "        "
      ],
      "text/plain": [
       "<SparkContext master=yarn appName=dmitriy.sokolov lab03>"
      ]
     },
     "execution_count": 6,
     "metadata": {},
     "output_type": "execute_result"
    }
   ],
   "source": [
    "sc"
   ]
  },
  {
   "cell_type": "code",
   "execution_count": 7,
   "metadata": {},
   "outputs": [
    {
     "name": "stdout",
     "output_type": "stream",
     "text": [
      "Populating the interactive namespace from numpy and matplotlib\n"
     ]
    }
   ],
   "source": [
    "%pylab inline"
   ]
  },
  {
   "cell_type": "code",
   "execution_count": 8,
   "metadata": {},
   "outputs": [
    {
     "name": "stdout",
     "output_type": "stream",
     "text": [
      "Found 4 items\r\n",
      "-rw-r--r--   3 hdfs hdfs   91066524 2022-01-06 18:46 /labs/slaba03/laba03_items.csv\r\n",
      "-rw-r--r--   3 hdfs hdfs   29965581 2022-01-06 18:46 /labs/slaba03/laba03_test.csv\r\n",
      "-rw-r--r--   3 hdfs hdfs   74949368 2022-01-06 18:46 /labs/slaba03/laba03_train.csv\r\n",
      "-rw-r--r--   3 hdfs hdfs  871302535 2022-01-06 18:46 /labs/slaba03/laba03_views_programmes.csv\r\n"
     ]
    }
   ],
   "source": [
    "! hdfs dfs -ls /labs/slaba03/"
   ]
  },
  {
   "cell_type": "markdown",
   "metadata": {},
   "source": [
    "## **Items**"
   ]
  },
  {
   "cell_type": "code",
   "execution_count": 9,
   "metadata": {},
   "outputs": [
    {
     "name": "stdout",
     "output_type": "stream",
     "text": [
      "-RECORD 0-------------------------------------------------------------------------------\n",
      " item_id                     | 65667                                                    \n",
      " channel_id                  | null                                                     \n",
      " datetime_availability_start | 1970-01-01T00:00:00Z                                     \n",
      " datetime_availability_stop  | 2018-01-01T00:00:00Z                                     \n",
      " datetime_show_start         | null                                                     \n",
      " datetime_show_stop          | null                                                     \n",
      " content_type                | 1                                                        \n",
      " title                       | на пробах только девушки (all girl auditions)            \n",
      " year                        | 2013.0                                                   \n",
      " genres                      | Эротика                                                  \n",
      " region_id                   | null                                                     \n",
      "-RECORD 1-------------------------------------------------------------------------------\n",
      " item_id                     | 65669                                                    \n",
      " channel_id                  | null                                                     \n",
      " datetime_availability_start | 1970-01-01T00:00:00Z                                     \n",
      " datetime_availability_stop  | 2018-01-01T00:00:00Z                                     \n",
      " datetime_show_start         | null                                                     \n",
      " datetime_show_stop          | null                                                     \n",
      " content_type                | 1                                                        \n",
      " title                       | скуби ду: эротическая пародия (scooby doo: a xxx parody) \n",
      " year                        | 2011.0                                                   \n",
      " genres                      | Эротика                                                  \n",
      " region_id                   | null                                                     \n",
      "only showing top 2 rows\n",
      "\n"
     ]
    }
   ],
   "source": [
    "spark.read \\\n",
    "     .format(\"csv\") \\\n",
    "     .option(\"sep\", \"\\t\") \\\n",
    "     .option(\"header\", True) \\\n",
    "     .load(\"/labs/slaba03/laba03_items.csv\").show(2, vertical=True, truncate=False)"
   ]
  },
  {
   "cell_type": "code",
   "execution_count": 10,
   "metadata": {},
   "outputs": [
    {
     "name": "stdout",
     "output_type": "stream",
     "text": [
      "root\n",
      " |-- item_id: integer (nullable = true)\n",
      " |-- channel_id: double (nullable = true)\n",
      " |-- datetime_availability_start: timestamp (nullable = true)\n",
      " |-- datetime_availability_stop: timestamp (nullable = true)\n",
      " |-- datetime_show_start: timestamp (nullable = true)\n",
      " |-- datetime_show_stop: timestamp (nullable = true)\n",
      " |-- content_type: integer (nullable = true)\n",
      " |-- title: string (nullable = true)\n",
      " |-- year: double (nullable = true)\n",
      " |-- genres: string (nullable = true)\n",
      " |-- region_id: double (nullable = true)\n",
      "\n"
     ]
    }
   ],
   "source": [
    "items = spark.read.csv(\"/labs/slaba03/laba03_items.csv\", sep=\"\\t\",header=True,  inferSchema=\"true\").cache()\n",
    "items.printSchema()"
   ]
  },
  {
   "cell_type": "markdown",
   "metadata": {},
   "source": [
    "## **Test**"
   ]
  },
  {
   "cell_type": "code",
   "execution_count": 11,
   "metadata": {},
   "outputs": [
    {
     "name": "stdout",
     "output_type": "stream",
     "text": [
      "+-------+-------+--------+\n",
      "|    _c0|    _c1|     _c2|\n",
      "+-------+-------+--------+\n",
      "|user_id|item_id|purchase|\n",
      "|   1654|  94814|    null|\n",
      "+-------+-------+--------+\n",
      "only showing top 2 rows\n",
      "\n"
     ]
    }
   ],
   "source": [
    "spark.read.csv(\"/labs/slaba03/laba03_test.csv\").show(2)"
   ]
  },
  {
   "cell_type": "code",
   "execution_count": 12,
   "metadata": {},
   "outputs": [
    {
     "name": "stdout",
     "output_type": "stream",
     "text": [
      "root\n",
      " |-- user_id: integer (nullable = true)\n",
      " |-- item_id: integer (nullable = true)\n",
      " |-- purchase: string (nullable = true)\n",
      "\n"
     ]
    }
   ],
   "source": [
    "test = spark.read.csv(\"/labs/slaba03/laba03_test.csv\", sep=\",\",header=True, inferSchema=\"true\").cache()\n",
    "test.printSchema()"
   ]
  },
  {
   "cell_type": "markdown",
   "metadata": {},
   "source": [
    "## **Train**"
   ]
  },
  {
   "cell_type": "code",
   "execution_count": 13,
   "metadata": {},
   "outputs": [
    {
     "name": "stdout",
     "output_type": "stream",
     "text": [
      "root\n",
      " |-- user_id: integer (nullable = true)\n",
      " |-- item_id: integer (nullable = true)\n",
      " |-- purchase: integer (nullable = true)\n",
      "\n"
     ]
    }
   ],
   "source": [
    "train = spark.read.csv(\"/labs/slaba03/laba03_train.csv\", sep=\",\",header=True, inferSchema=\"true\").cache()\n",
    "train = train.na.fill(-1)\n",
    "train.printSchema()\n",
    "# train.show(2 )"
   ]
  },
  {
   "cell_type": "markdown",
   "metadata": {},
   "source": [
    "## **Views_programmes**"
   ]
  },
  {
   "cell_type": "code",
   "execution_count": 15,
   "metadata": {},
   "outputs": [],
   "source": [
    "views = spark.read.csv(\"/labs/slaba03/laba03_views_programmes.csv\", sep=\",\",inferSchema=\"true\",header=True).cache()\n",
    "views = views.na.fill(-1)\n",
    "views = views.withColumn(\"time_spend\", col(\"ts_end\") - col(\"ts_start\"))"
   ]
  },
  {
   "cell_type": "code",
   "execution_count": 16,
   "metadata": {},
   "outputs": [
    {
     "name": "stdout",
     "output_type": "stream",
     "text": [
      "+-------+---------------+-----+\n",
      "|user_id|sum(time_spend)|count|\n",
      "+-------+---------------+-----+\n",
      "| 561425|          37699|    5|\n",
      "| 612390|           4406|    1|\n",
      "+-------+---------------+-----+\n",
      "only showing top 2 rows\n",
      "\n"
     ]
    }
   ],
   "source": [
    "v_time_spend = views.groupBy('user_id').sum('time_spend')\n",
    "v_count = views.groupBy('user_id').count()\n",
    "views = v_time_spend.join(v_count, on=\"user_id\", how=\"inner\" )\n",
    "views.show(2 )"
   ]
  },
  {
   "cell_type": "markdown",
   "metadata": {},
   "source": [
    "## **Modify train & test**"
   ]
  },
  {
   "cell_type": "code",
   "execution_count": 17,
   "metadata": {},
   "outputs": [],
   "source": [
    "train_avg_purchase = train.groupBy('user_id').sum('purchase')\n",
    "train_avg_item = train.groupBy('item_id').sum('purchase')\n",
    "\n",
    "mod_train = train.join(train_avg_purchase, on=\"user_id\", how=\"left\")\n",
    "mod_train = mod_train.withColumnRenamed(\"sum(purchase)\", \"sum_user\")\n",
    "mod_train = mod_train.join(train_avg_item, on=\"item_id\", how=\"left\")\n",
    "mod_train = mod_train.withColumnRenamed(\"sum(purchase)\", \"sum_item\")\n",
    "\n",
    "mod_train = mod_train.join(views, on=\"user_id\", how=\"left\")\n",
    "mod_train = mod_train.withColumnRenamed(\"sum(time_spend)\", \"time_spend\")\n",
    "\n",
    "mod_train = mod_train.na.fill(0.5)"
   ]
  },
  {
   "cell_type": "code",
   "execution_count": 18,
   "metadata": {},
   "outputs": [
    {
     "name": "stdout",
     "output_type": "stream",
     "text": [
      "+-------+-------+--------+--------+--------+----------+-----+\n",
      "|user_id|item_id|purchase|sum_user|sum_item|time_spend|count|\n",
      "+-------+-------+--------+--------+--------+----------+-----+\n",
      "| 754230|   8389|       0|      72|       8|   2256455| 1164|\n",
      "| 754230|   8638|       1|      72|       2|   2256455| 1164|\n",
      "| 754230|  10817|       0|      72|       1|   2256455| 1164|\n",
      "| 754230|  72820|       0|      72|       1|   2256455| 1164|\n",
      "| 754230|  74757|       0|      72|       1|   2256455| 1164|\n",
      "| 754230|  74820|       0|      72|       1|   2256455| 1164|\n",
      "| 754230|  78113|       0|      72|       2|   2256455| 1164|\n",
      "| 754230|  90019|       0|      72|       3|   2256455| 1164|\n",
      "| 754230|  94851|       0|      72|       1|   2256455| 1164|\n",
      "| 754230|  95080|       0|      72|       0|   2256455| 1164|\n",
      "| 754230|  95940|       0|      72|       1|   2256455| 1164|\n",
      "| 754230|  99817|       0|      72|       0|   2256455| 1164|\n",
      "| 754230|   2027|       0|      72|       2|   2256455| 1164|\n",
      "| 754230|   7584|       0|      72|       2|   2256455| 1164|\n",
      "| 754230|   9914|       0|      72|       4|   2256455| 1164|\n",
      "| 754230|  10786|       0|      72|       0|   2256455| 1164|\n",
      "| 754230|  72190|       0|      72|       2|   2256455| 1164|\n",
      "| 754230|  79402|       0|      72|       1|   2256455| 1164|\n",
      "| 754230|  81872|       0|      72|       1|   2256455| 1164|\n",
      "| 754230|  82922|       0|      72|       0|   2256455| 1164|\n",
      "+-------+-------+--------+--------+--------+----------+-----+\n",
      "only showing top 20 rows\n",
      "\n"
     ]
    }
   ],
   "source": [
    "mod_train.show()"
   ]
  },
  {
   "cell_type": "code",
   "execution_count": 19,
   "metadata": {},
   "outputs": [],
   "source": [
    "mod_test = test.join(train_avg_purchase, on=\"user_id\", how=\"left\")\n",
    "mod_test = mod_test.withColumnRenamed(\"sum(purchase)\", \"sum_user\")\n",
    "\n",
    "mod_test = mod_test.join(train_avg_item, on=\"item_id\", how=\"left\")\n",
    "mod_test = mod_test.withColumnRenamed(\"sum(purchase)\", \"sum_item\")\n",
    "\n",
    "mod_test = mod_test.join(views, on=\"user_id\", how=\"left\")\n",
    "mod_test = mod_test.withColumnRenamed(\"sum(time_spend)\", \"time_spend\")\n",
    "\n",
    "mod_test = mod_test.na.fill(0.5)"
   ]
  },
  {
   "cell_type": "code",
   "execution_count": 20,
   "metadata": {},
   "outputs": [],
   "source": [
    "ignore = ['purchase', 'item_id','user_id']\n",
    "assembler = VectorAssembler(\n",
    "    inputCols=[x for x in mod_train.columns if x not in ignore],\n",
    "    outputCol='features')\n",
    "\n",
    "train_ = (assembler.transform(mod_train).select(\"purchase\", \"features\"))\n",
    "test_ = (assembler.transform(mod_test).select('features','item_id','user_id'))"
   ]
  },
  {
   "cell_type": "code",
   "execution_count": 21,
   "metadata": {},
   "outputs": [
    {
     "name": "stdout",
     "output_type": "stream",
     "text": [
      "+--------+--------------------+\n",
      "|purchase|            features|\n",
      "+--------+--------------------+\n",
      "|       0|[72.0,1.0,2256455...|\n",
      "+--------+--------------------+\n",
      "only showing top 1 row\n",
      "\n"
     ]
    }
   ],
   "source": [
    "train_.show(1)"
   ]
  },
  {
   "cell_type": "code",
   "execution_count": 22,
   "metadata": {},
   "outputs": [
    {
     "name": "stdout",
     "output_type": "stream",
     "text": [
      "+--------------------+-------+-------+\n",
      "|            features|item_id|user_id|\n",
      "+--------------------+-------+-------+\n",
      "|[72.0,3.0,2256455...|  93486| 754230|\n",
      "+--------------------+-------+-------+\n",
      "only showing top 1 row\n",
      "\n"
     ]
    }
   ],
   "source": [
    "test_.show(1)"
   ]
  },
  {
   "cell_type": "code",
   "execution_count": 23,
   "metadata": {},
   "outputs": [],
   "source": [
    "rf_regressor = RandomForestRegressor(labelCol='purchase', numTrees=50, maxDepth=5).fit(train_)"
   ]
  },
  {
   "cell_type": "code",
   "execution_count": 24,
   "metadata": {},
   "outputs": [
    {
     "data": {
      "text/plain": [
       "SparseVector(4, {0: 0.4286, 1: 0.484, 2: 0.041, 3: 0.0464})"
      ]
     },
     "execution_count": 24,
     "metadata": {},
     "output_type": "execute_result"
    }
   ],
   "source": [
    "rf_regressor.featureImportances"
   ]
  },
  {
   "cell_type": "code",
   "execution_count": 25,
   "metadata": {},
   "outputs": [],
   "source": [
    "rf_predictions=rf_regressor.transform(test_)\n"
   ]
  },
  {
   "cell_type": "code",
   "execution_count": 26,
   "metadata": {},
   "outputs": [
    {
     "name": "stdout",
     "output_type": "stream",
     "text": [
      "+--------------------+-------+-------+--------------------+\n",
      "|            features|item_id|user_id|          prediction|\n",
      "+--------------------+-------+-------+--------------------+\n",
      "|[72.0,3.0,2256455...|  93486| 754230|0.019882314562094945|\n",
      "|[72.0,1.0,2256455...|  94819| 754230|0.009072317312185368|\n",
      "|[72.0,1.0,2256455...|  73041| 754230|0.009072317312185368|\n",
      "|[72.0,5.0,2256455...|  74440| 754230| 0.03676912006650483|\n",
      "|[72.0,2.0,2256455...|  74452| 754230|0.013913501786130782|\n",
      "|[72.0,1.0,2256455...|  93131| 754230|0.009072317312185368|\n",
      "|[72.0,3.0,2256455...|  93633| 754230|0.019882314562094945|\n",
      "|[72.0,2.0,2256455...|  95151| 754230|0.013913501786130782|\n",
      "|[72.0,0.0,2256455...|  11025| 754230|0.007568492813458312|\n",
      "|[72.0,0.0,2256455...|  72912| 754230|0.007568492813458312|\n",
      "|[72.0,0.0,2256455...|  86406| 754230|0.007568492813458312|\n",
      "|[72.0,6.0,2256455...|  88999| 754230| 0.03986912939661451|\n",
      "|[72.0,4.0,2256455...|  93487| 754230| 0.02758758256486628|\n",
      "|[72.0,0.0,2256455...|   9071| 754230|0.007568492813458312|\n",
      "|[72.0,0.0,2256455...|  72387| 754230|0.007568492813458312|\n",
      "|[72.0,0.0,2256455...|  78269| 754230|0.007568492813458312|\n",
      "|[72.0,1.0,2256455...|  93477| 754230|0.009072317312185368|\n",
      "|[72.0,2.0,2256455...|  94726| 754230|0.013913501786130782|\n",
      "|[72.0,6.0,2256455...|  10788| 754230| 0.03986912939661451|\n",
      "|[72.0,2.0,2256455...|  11520| 754230|0.013913501786130782|\n",
      "+--------------------+-------+-------+--------------------+\n",
      "only showing top 20 rows\n",
      "\n"
     ]
    }
   ],
   "source": [
    "rf_predictions.show()"
   ]
  },
  {
   "cell_type": "code",
   "execution_count": 27,
   "metadata": {},
   "outputs": [],
   "source": [
    "rf_predictions = rf_predictions.withColumnRenamed(\"prediction\", \"purchase\")"
   ]
  },
  {
   "cell_type": "code",
   "execution_count": 28,
   "metadata": {},
   "outputs": [],
   "source": [
    "rf_predictions = rf_predictions.na.fill(0.5)"
   ]
  },
  {
   "cell_type": "code",
   "execution_count": 29,
   "metadata": {},
   "outputs": [
    {
     "name": "stdout",
     "output_type": "stream",
     "text": [
      "+-------+-------+--------------------+\n",
      "|user_id|item_id|            purchase|\n",
      "+-------+-------+--------------------+\n",
      "| 754230|  93486|0.019882314562094945|\n",
      "| 754230|  94819|0.009072317312185368|\n",
      "| 754230|  73041|0.009072317312185368|\n",
      "| 754230|  74440| 0.03676912006650483|\n",
      "| 754230|  74452|0.013913501786130782|\n",
      "| 754230|  93131|0.009072317312185368|\n",
      "| 754230|  93633|0.019882314562094945|\n",
      "| 754230|  95151|0.013913501786130782|\n",
      "| 754230|  11025|0.007568492813458312|\n",
      "| 754230|  72912|0.007568492813458312|\n",
      "| 754230|  86406|0.007568492813458312|\n",
      "| 754230|  88999| 0.03986912939661451|\n",
      "| 754230|  93487| 0.02758758256486628|\n",
      "| 754230|   9071|0.007568492813458312|\n",
      "| 754230|  72387|0.007568492813458312|\n",
      "| 754230|  78269|0.007568492813458312|\n",
      "| 754230|  93477|0.009072317312185368|\n",
      "| 754230|  94726|0.013913501786130782|\n",
      "| 754230|  10788| 0.03986912939661451|\n",
      "| 754230|  11520|0.013913501786130782|\n",
      "+-------+-------+--------------------+\n",
      "only showing top 20 rows\n",
      "\n"
     ]
    }
   ],
   "source": [
    "rf_predictions.select(\"user_id\",\"item_id\",\"purchase\").show()"
   ]
  },
  {
   "cell_type": "code",
   "execution_count": 30,
   "metadata": {},
   "outputs": [],
   "source": [
    "cols = ['user_id','item_id']\n",
    "rf_predictions = rf_predictions.orderBy(cols,ascending=True)"
   ]
  },
  {
   "cell_type": "code",
   "execution_count": 31,
   "metadata": {},
   "outputs": [
    {
     "name": "stdout",
     "output_type": "stream",
     "text": [
      "+-------+-------+--------------------+\n",
      "|user_id|item_id|            purchase|\n",
      "+-------+-------+--------------------+\n",
      "|   1654|    336|6.819719739069844E-4|\n",
      "|   1654|    678|6.819719739069844E-4|\n",
      "|   1654|    691|6.819719739069844E-4|\n",
      "|   1654|    696|8.241313955401766E-4|\n",
      "|   1654|    763|6.819719739069844E-4|\n",
      "|   1654|    795|0.003367037819940212|\n",
      "|   1654|    861|6.819719739069844E-4|\n",
      "|   1654|   1137|0.001044149494750...|\n",
      "|   1654|   1159|8.241313955401766E-4|\n",
      "|   1654|   1428|6.819719739069844E-4|\n",
      "|   1654|   1685|8.241313955401766E-4|\n",
      "|   1654|   1686|6.819719739069844E-4|\n",
      "|   1654|   1704|8.957259043218441E-4|\n",
      "|   1654|   2093|6.819719739069844E-4|\n",
      "|   1654|   2343|6.819719739069844E-4|\n",
      "|   1654|   2451|6.819719739069844E-4|\n",
      "|   1654|   2469|0.004592723172531993|\n",
      "|   1654|   2603|6.819719739069844E-4|\n",
      "|   1654|   2609|6.819719739069844E-4|\n",
      "|   1654|   2621|8.241313955401766E-4|\n",
      "+-------+-------+--------------------+\n",
      "only showing top 20 rows\n",
      "\n"
     ]
    }
   ],
   "source": [
    "rf_predictions.select(\"user_id\",\"item_id\",\"purchase\").show()"
   ]
  },
  {
   "cell_type": "code",
   "execution_count": 32,
   "metadata": {},
   "outputs": [],
   "source": [
    "rf_predictions.select(\"user_id\",\"item_id\",\"purchase\").toPandas().to_csv(\"lab03.csv\",header = True)"
   ]
  },
  {
   "cell_type": "code",
   "execution_count": 33,
   "metadata": {},
   "outputs": [],
   "source": [
    "sc.stop()"
   ]
  },
  {
   "cell_type": "code",
   "execution_count": null,
   "metadata": {},
   "outputs": [],
   "source": []
  }
 ],
 "metadata": {
  "kernelspec": {
   "display_name": "Python 3",
   "language": "python",
   "name": "python3"
  },
  "language_info": {
   "codemirror_mode": {
    "name": "ipython",
    "version": 3
   },
   "file_extension": ".py",
   "mimetype": "text/x-python",
   "name": "python",
   "nbconvert_exporter": "python",
   "pygments_lexer": "ipython3",
   "version": "3.6.5"
  }
 },
 "nbformat": 4,
 "nbformat_minor": 2
}
