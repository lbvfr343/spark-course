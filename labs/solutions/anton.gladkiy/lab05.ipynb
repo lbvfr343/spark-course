{
 "cells": [
  {
   "cell_type": "code",
   "execution_count": 1,
   "metadata": {},
   "outputs": [
    {
     "data": {
      "text/plain": [
       "spark = org.apache.spark.sql.SparkSession@692d34f1\n",
       "sc = org.apache.spark.SparkContext@7b0fefae\n"
      ]
     },
     "metadata": {},
     "output_type": "display_data"
    },
    {
     "data": {
      "text/plain": [
       "application_1667306389915_1620"
      ]
     },
     "execution_count": 1,
     "metadata": {},
     "output_type": "execute_result"
    }
   ],
   "source": [
    "val spark = SparkSession.builder().appName(\"lab05\").getOrCreate()\n",
    "import spark.implicits._\n",
    "val sc = spark.sparkContext\n",
    "sc.applicationId"
   ]
  },
  {
   "cell_type": "code",
   "execution_count": 2,
   "metadata": {},
   "outputs": [
    {
     "data": {
      "text/plain": [
       "toArray = > Array[Double]\n"
      ]
     },
     "metadata": {},
     "output_type": "display_data"
    },
    {
     "data": {
      "text/plain": [
       "toArrayUdf: org.apache.spark.sql.expressions.UserDefinedFunction\n"
      ]
     },
     "metadata": {},
     "output_type": "display_data"
    },
    {
     "data": {
      "text/plain": [
       "> Array[Double]"
      ]
     },
     "execution_count": 2,
     "metadata": {},
     "output_type": "execute_result"
    }
   ],
   "source": [
    "import scala.sys.process._\n",
    "import org.apache.spark.sql.functions.{udf, lit, col}\n",
    "import org.apache.spark.sql.types.{IntegerType, DoubleType, FloatType, ArrayType}\n",
    "import org.apache.spark.ml.Pipeline\n",
    "import org.apache.spark.ml.linalg.DenseVector\n",
    "import org.apache.spark.ml.stat.Correlation\n",
    "import org.apache.spark.ml.feature.VectorAssembler\n",
    "import org.apache.spark.ml.classification.GBTClassifier\n",
    "import org.apache.spark.ml.evaluation.BinaryClassificationEvaluator\n",
    "\n",
    "def toArray: DenseVector => Array[Double] = _.toArray\n",
    "def toArrayUdf = udf(toArray).asNonNullable()"
   ]
  },
  {
   "cell_type": "code",
   "execution_count": 3,
   "metadata": {},
   "outputs": [
    {
     "data": {
      "text/plain": [
       "options = Map(header -> true, inferSchema -> true)\n",
       "df_train = [ID: int, CR_PROD_CNT_IL: int ... 114 more fields]\n"
      ]
     },
     "metadata": {},
     "output_type": "display_data"
    },
    {
     "data": {
      "text/plain": [
       "320764"
      ]
     },
     "execution_count": 3,
     "metadata": {},
     "output_type": "execute_result"
    }
   ],
   "source": [
    "val options: Map[String, String] = Map(\"header\" -> \"true\", \"inferSchema\" -> \"true\")\n",
    "val df_train = spark.read.options(options).csv(\"/labs/slaba05/lab05_train.csv\").drop(\"_c0\")\n",
    "df_train.count"
   ]
  },
  {
   "cell_type": "code",
   "execution_count": 4,
   "metadata": {},
   "outputs": [
    {
     "data": {
      "text/plain": [
       "num_col_names = Array(ID, CR_PROD_CNT_IL, AMOUNT_RUB_CLO_PRC, PRC_ACCEPTS_A_EMAIL_LINK, APP_REGISTR_RGN_CODE, PRC_ACCEPTS_A_POS, PRC_ACCEPTS_A_TK, TURNOVER_DYNAMIC_IL_1M, CNT_TRAN_AUT_TENDENCY1M, SUM_TRAN_AUT_TENDENCY1M, AMOUNT_RUB_SUP_PRC, PRC_ACCEPTS_A_AMOBILE, SUM_TRAN_AUT_TENDENCY3M, PRC_ACCEPTS_TK, PRC_ACCEPTS_A_MTP, REST_DYNAMIC_FDEP_1M, CNT_TRAN_AUT_TENDENCY3M, CNT_ACCEPTS_TK, REST_DYNAMIC_SAVE_3M, CR_PROD_CNT_VCU, REST_AVG_CUR, CNT_TRAN_MED_TENDENCY1M, AMOUNT_RUB_NAS_PRC, TRANS_COUNT_SUP_PRC, CNT_TRAN_CLO_TENDENCY1M, SUM_TRAN_MED_TENDENCY1M, PRC_ACCEPTS_A_ATM, PRC_ACCEPTS_MTP, TRANS_COUNT_NAS_PRC, CNT_ACCEPTS_MTP, CR_PROD_CNT_TOVR, CR_PROD_CNT_PIL, SUM_TRAN_CLO_TENDENCY1M, TURNOVER_CC, TRANS_COUNT_ATM_PRC, AMOUNT_RUB_ATM_PRC, TURNOVER_PAYM, AGE, CNT_TRAN_MED_TENDE...\n"
      ]
     },
     "metadata": {},
     "output_type": "display_data"
    },
    {
     "data": {
      "text/plain": [
       "Array(ID, CR_PROD_CNT_IL, AMOUNT_RUB_CLO_PRC, PRC_ACCEPTS_A_EMAIL_LINK, APP_REGISTR_RGN_CODE, PRC_ACCEPTS_A_POS, PRC_ACCEPTS_A_TK, TURNOVER_DYNAMIC_IL_1M, CNT_TRAN_AUT_TENDENCY1M, SUM_TRAN_AUT_TENDENCY1M, AMOUNT_RUB_SUP_PRC, PRC_ACCEPTS_A_AMOBILE, SUM_TRAN_AUT_TENDENCY3M, PRC_ACCEPTS_TK, PRC_ACCEPTS_A_MTP, REST_DYNAMIC_FDEP_1M, CNT_TRAN_AUT_TENDENCY3M, CNT_ACCEPTS_TK, REST_DYNAMIC_SAVE_3M, CR_PROD_CNT_VCU, REST_AVG_CUR, CNT_TRAN_MED_TENDENCY1M, AMOUNT_RUB_NAS_PRC, TRANS_COUNT_SUP_PRC, CNT_TRAN_CLO_TENDENCY1M, SUM_TRAN_MED_TENDENCY1M, PRC_ACCEPTS_A_ATM, PRC_ACCEPTS_MTP, TRANS_COUNT_NAS_PRC, CNT_ACCEPTS_MTP, CR_PROD_CNT_TOVR, CR_PROD_CNT_PIL, SUM_TRAN_CLO_TENDENCY1M, TURNOVER_CC, TRANS_COUNT_ATM_PRC, AMOUNT_RUB_ATM_PRC, TURNOVER_PAYM, AGE, CNT_TRAN_MED_TENDE..."
      ]
     },
     "execution_count": 4,
     "metadata": {},
     "output_type": "execute_result"
    }
   ],
   "source": [
    "val num_col_names = df_train.dtypes.filter(x => Seq(\"IntegerType\", \"DoubleType\").contains(x._2.toString)).map(_._1)\n",
    "val df_train_numeric = df_train.select(num_col_names.map(col): _*).na.fill(0)"
   ]
  },
  {
   "cell_type": "markdown",
   "metadata": {},
   "source": [
    "### Анализ корреляции"
   ]
  },
  {
   "cell_type": "code",
   "execution_count": 5,
   "metadata": {},
   "outputs": [
    {
     "data": {
      "text/plain": [
       "assembler = vecAssembler_2547e51e6df4\n",
       "df_train_vector = [features: vector]\n",
       "matrix = \n"
      ]
     },
     "metadata": {},
     "output_type": "display_data"
    },
    {
     "data": {
      "text/plain": [
       "Array([1.0                     3.375606502089509E-4    ... (103 total)\n",
       "3.375606502089509E-4    1.0                     ...\n",
       "0.004106393073545081    -0.020620213921799656   ...\n",
       "NaN                     NaN                     ...\n",
       "-4.238074492499304E-4   0.3802756819726169      ...\n",
       "NaN                     NaN                     ...\n",
       "NaN                     NaN                     ...\n",
       "9.339625116887346E-4    0.13312023493983147     ...\n",
       "0.01828957955423523     0.01407161057115469     ...\n",
       "0.016404585162782783    0.01386474268384372     ...\n",
       "0.012625233873670955    -0.004545546581042047   ...\n",
       "NaN         ...\n"
      ]
     },
     "metadata": {},
     "output_type": "display_data"
    }
   ],
   "source": [
    "val assembler = new VectorAssembler().setInputCols(num_col_names).setOutputCol(\"features\")\n",
    "val df_train_vector = assembler.transform(df_train_numeric).select(\"features\")\n",
    "val matrix = Correlation.corr(df_train_vector, \"features\").collect()\n",
    "val dm = matrix.head.getAs[org.apache.spark.ml.linalg.DenseMatrix](0)\n",
    "var target_corr_values_tmp: org.apache.spark.ml.linalg.Vector = null\n",
    "for (i <- dm.colIter) target_corr_values_tmp = i // Получение последнего столбца матрицы\n",
    "val target_corr_values = target_corr_values_tmp.toArray"
   ]
  },
  {
   "cell_type": "code",
   "execution_count": 6,
   "metadata": {},
   "outputs": [
    {
     "data": {
      "text/plain": [
       "target_corr = Array((ID,0.003387446612468513), (CR_PROD_CNT_IL,0.012684655349955555), (AMOUNT_RUB_CLO_PRC,-0.03782165304131623), (PRC_ACCEPTS_A_EMAIL_LINK,NaN), (APP_REGISTR_RGN_CODE,0.020482417428626935), (PRC_ACCEPTS_A_POS,NaN), (PRC_ACCEPTS_A_TK,NaN), (TURNOVER_DYNAMIC_IL_1M,0.02159975577580789), (CNT_TRAN_AUT_TENDENCY1M,-0.019067662697206042), (SUM_TRAN_AUT_TENDENCY1M,-0.018532081956130295), (AMOUNT_RUB_SUP_PRC,-0.017040956746899347), (PRC_ACCEPTS_A_AMOBILE,NaN), (SUM_TRAN_AUT_TENDENCY3M,-0.03525372214621112), (PRC_ACCEPTS_TK,NaN), (PRC_ACCEPTS_A_MTP,NaN), (REST_DYNAMIC_FDEP_1M,0.021244579613353975), (CNT_TRAN_AUT_TENDENCY3M,-0.035829341366110316), (CNT_ACCEPTS_TK,NaN), (REST_DYNAMIC_SAVE_3M,0.015354591850949744), (CR_PROD_CNT_VCU,0.004849403104617076), (RES...\n"
      ]
     },
     "metadata": {},
     "output_type": "display_data"
    },
    {
     "data": {
      "text/plain": [
       "Array((ID,0.003387446612468513), (CR_PROD_CNT_IL,0.012684655349955555), (AMOUNT_RUB_CLO_PRC,-0.03782165304131623), (PRC_ACCEPTS_A_EMAIL_LINK,NaN), (APP_REGISTR_RGN_CODE,0.020482417428626935), (PRC_ACCEPTS_A_POS,NaN), (PRC_ACCEPTS_A_TK,NaN), (TURNOVER_DYNAMIC_IL_1M,0.02159975577580789), (CNT_TRAN_AUT_TENDENCY1M,-0.019067662697206042), (SUM_TRAN_AUT_TENDENCY1M,-0.018532081956130295), (AMOUNT_RUB_SUP_PRC,-0.017040956746899347), (PRC_ACCEPTS_A_AMOBILE,NaN), (SUM_TRAN_AUT_TENDENCY3M,-0.03525372214621112), (PRC_ACCEPTS_TK,NaN), (PRC_ACCEPTS_A_MTP,NaN), (REST_DYNAMIC_FDEP_1M,0.021244579613353975), (CNT_TRAN_AUT_TENDENCY3M,-0.035829341366110316), (CNT_ACCEPTS_TK,NaN), (REST_DYNAMIC_SAVE_3M,0.015354591850949744), (CR_PROD_CNT_VCU,0.004849403104617076), (RES..."
      ]
     },
     "execution_count": 6,
     "metadata": {},
     "output_type": "execute_result"
    }
   ],
   "source": [
    "val target_corr = num_col_names.zip(target_corr_values)\n",
    "val target_corr_not_nan = target_corr.filter(x => !x._2.isNaN)\n",
    "val cols = target_corr_not_nan.map(_._1).filter(x => !Seq(\"ID\", \"TARGET\").contains(x)).toArray"
   ]
  },
  {
   "cell_type": "markdown",
   "metadata": {},
   "source": [
    "### Обучение модели"
   ]
  },
  {
   "cell_type": "code",
   "execution_count": 7,
   "metadata": {},
   "outputs": [
    {
     "data": {
      "text/plain": [
       "assembler = vecAssembler_3ddb6770fa1b\n",
       "gbtc = gbtc_7e17cce285c4\n",
       "pipeline = pipeline_1c1f888e0443\n",
       "pipeline_model = pipeline_1c1f888e0443\n"
      ]
     },
     "metadata": {},
     "output_type": "display_data"
    },
    {
     "data": {
      "text/plain": [
       "pipeline_1c1f888e0443"
      ]
     },
     "execution_count": 7,
     "metadata": {},
     "output_type": "execute_result"
    }
   ],
   "source": [
    "val assembler = new VectorAssembler().setInputCols(cols).setOutputCol(\"features\")\n",
    "val gbtc = new GBTClassifier().setLabelCol(\"TARGET\").setMaxIter(10)\n",
    "val pipeline = new Pipeline().setStages(Array(assembler, gbtc))\n",
    "val pipeline_model = pipeline.fit(df_train_numeric)"
   ]
  },
  {
   "cell_type": "markdown",
   "metadata": {},
   "source": [
    "### Валидация модели"
   ]
  },
  {
   "cell_type": "code",
   "execution_count": 8,
   "metadata": {},
   "outputs": [
    {
     "name": "stdout",
     "output_type": "stream",
     "text": [
      "+------+------------------------------+------------------------------+------------------------------+----------+\n",
      "|    id|                      features|                 rawPrediction|                   probability|prediction|\n",
      "+------+------------------------------+------------------------------+------------------------------+----------+\n",
      "|479990|(91,[12,19,23,24,26,40,45,4...|[1.250236441855763,-1.25023...|[0.9241749642360747,0.07582...|       0.0|\n",
      "|450480|(91,[6,12,14,15,18,19,23,24...|[1.1168899880930325,-1.1168...|[0.90324221664835,0.0967577...|       0.0|\n",
      "|473954|(91,[6,12,13,14,15,17,18,19...|[0.7768622574925201,-0.7768...|[0.825451016694544,0.174548...|       0.0|\n",
      "|531038|(91,[12,23,24,26,40,45,67],...|[1.2957717911171909,-1.2957...|[0.9303153520420651,0.06968...|       0.0|\n",
      "|349303|(91,[6,7,9,12,15,23,24,26,4...|[1.2432709397212303,-1.2432...|[0.9231929537591829,0.07680...|       0.0|\n",
      "|200239|(91,[12,26,40,45,47,64,67],...|[1.2957717911171909,-1.2957...|[0.9303153520420651,0.06968...|       0.0|\n",
      "|398213|(91,[1,4,5,6,7,9,12,15,16,1...|[1.2445172672065732,-1.2445...|[0.9233695159073508,0.07663...|       0.0|\n",
      "|218413|(91,[0,1,2,4,5,6,7,9,12,14,...|[1.285331359574859,-1.28533...|[0.9289494493864827,0.07105...|       0.0|\n",
      "|316806|(91,[0,10,11,12,19,23,24,26...|[0.24554307391286234,-0.245...|[0.6203622676145084,0.37963...|       0.0|\n",
      "|404126|(91,[1,4,5,6,7,9,12,14,15,1...|[1.2875994206824293,-1.2875...|[0.9292482622700465,0.07075...|       0.0|\n",
      "+------+------------------------------+------------------------------+------------------------------+----------+\n",
      "only showing top 10 rows\n",
      "\n"
     ]
    },
    {
     "data": {
      "text/plain": [
       "train_predict = [ID: int, CR_PROD_CNT_IL: int ... 105 more fields]\n"
      ]
     },
     "metadata": {},
     "output_type": "display_data"
    },
    {
     "data": {
      "text/plain": [
       "[ID: int, CR_PROD_CNT_IL: int ... 105 more fields]"
      ]
     },
     "execution_count": 8,
     "metadata": {},
     "output_type": "execute_result"
    }
   ],
   "source": [
    "val train_predict = pipeline_model.transform(df_train_numeric)\n",
    "train_predict.select(\"id\", \"features\", \"rawPrediction\", \"probability\", \"prediction\").show(10, 30)"
   ]
  },
  {
   "cell_type": "code",
   "execution_count": 9,
   "metadata": {},
   "outputs": [
    {
     "data": {
      "text/plain": [
       "evaluator = binEval_caf9657e96c3\n"
      ]
     },
     "metadata": {},
     "output_type": "display_data"
    },
    {
     "data": {
      "text/plain": [
       "1.0"
      ]
     },
     "execution_count": 9,
     "metadata": {},
     "output_type": "execute_result"
    }
   ],
   "source": [
    "val evaluator = new BinaryClassificationEvaluator()\n",
    ".setRawPredictionCol(\"rawPrediction\")\n",
    ".setLabelCol(\"prediction\")\n",
    ".setMetricName(\"areaUnderROC\")\n",
    "evaluator.evaluate(train_predict)"
   ]
  },
  {
   "cell_type": "markdown",
   "metadata": {},
   "source": [
    "### Предсказание на тестовых данных"
   ]
  },
  {
   "cell_type": "code",
   "execution_count": 10,
   "metadata": {},
   "outputs": [
    {
     "name": "stdout",
     "output_type": "stream",
     "text": [
      "+------+------------------------------+------------------------------+------------------------------+----------+\n",
      "|    id|                      features|                 rawPrediction|                   probability|prediction|\n",
      "+------+------------------------------+------------------------------+------------------------------+----------+\n",
      "|519130|(91,[10,12,23,24,26,40,45,4...|[0.7957731030558924,-0.7957...|[0.8308335322374557,0.16916...|       0.0|\n",
      "|234045|(91,[1,6,12,14,15,16,18,21,...|[1.2702109722902675,-1.2702...|[0.9269274112925896,0.07307...|       0.0|\n",
      "|401256|(91,[1,4,5,6,7,9,12,14,15,1...|[1.2852327943616637,-1.2852...|[0.928936437210913,0.071063...|       0.0|\n",
      "|551070|(91,[23,24,25,26,41,48,51,5...|[1.1465928520397248,-1.1465...|[0.9083111073336182,0.09168...|       0.0|\n",
      "|367285|(91,[12,26,40,45,67],[14842...|[1.2848890638425159,-1.2848...|[0.9288910420948985,0.07110...|       0.0|\n",
      "|497998|(91,[6,12,14,15,18,19,23,24...|[1.2797236618674144,-1.2797...|[0.9282056361419719,0.07179...|       0.0|\n",
      "|413082|(91,[6,12,14,15,18,23,24,26...|[1.0088200148310658,-1.0088...|[0.8826367625729665,0.11736...|       0.0|\n",
      "|349893|(91,[12,19,26,40,45,57,59,6...|[1.2848890638425159,-1.2848...|[0.9288910420948985,0.07110...|       0.0|\n",
      "|346337|(91,[1,2,4,5,6,7,9,10,12,14...|[0.8617351337316673,-0.8617...|[0.8485752888940321,0.15142...|       0.0|\n",
      "|289979|(91,[12,26,40,45,64,67],[14...|[1.2957717911171909,-1.2957...|[0.9303153520420651,0.06968...|       0.0|\n",
      "+------+------------------------------+------------------------------+------------------------------+----------+\n",
      "only showing top 10 rows\n",
      "\n"
     ]
    },
    {
     "data": {
      "text/plain": [
       "options = Map(header -> true, inferSchema -> true)\n",
       "df_test = [_c0: int, ID: int ... 115 more fields]\n",
       "df_test_numeric = [ID: int, CR_PROD_CNT_IL: int ... 101 more fields]\n",
       "test_predict = [ID: int, CR_PROD_CNT_IL: int ... 105 more fields]\n"
      ]
     },
     "metadata": {},
     "output_type": "display_data"
    },
    {
     "data": {
      "text/plain": [
       "[ID: int, CR_PROD_CNT_IL: int ... 105 more fields]"
      ]
     },
     "execution_count": 10,
     "metadata": {},
     "output_type": "execute_result"
    }
   ],
   "source": [
    "val options: Map[String, String] = Map(\"header\" -> \"true\", \"inferSchema\" -> \"true\")\n",
    "val df_test = spark.read.options(options).csv(\"/labs/slaba05/lab05_test.csv\").withColumn(\"target\", lit(0))\n",
    "val df_test_numeric = df_test.select(num_col_names.map(col): _*).na.fill(0)\n",
    "val test_predict = pipeline_model.transform(df_test_numeric)\n",
    "test_predict.select(\"id\", \"features\", \"rawPrediction\", \"probability\", \"prediction\").show(10, 30)"
   ]
  },
  {
   "cell_type": "code",
   "execution_count": 11,
   "metadata": {},
   "outputs": [
    {
     "data": {
      "text/plain": [
       "options = Map(header -> True, delimiter -> \"\t\")\n",
       "test_target = [id: int, target: float]\n"
      ]
     },
     "metadata": {},
     "output_type": "display_data"
    },
    {
     "data": {
      "text/plain": [
       "[id: int, target: float]"
      ]
     },
     "execution_count": 11,
     "metadata": {},
     "output_type": "execute_result"
    }
   ],
   "source": [
    "val options: Map[String, String] = Map(\"header\" -> \"True\", \"delimiter\" -> \"\\t\")\n",
    "val test_target = test_predict.withColumn(\"target\", toArrayUdf(col(\"probability\")).getItem(1).cast(FloatType)).select(\"id\", \"target\")\n",
    "test_target.coalesce(1).write.mode(\"overwrite\").options(options).csv(\"tmp/lab05\")"
   ]
  },
  {
   "cell_type": "code",
   "execution_count": 12,
   "metadata": {},
   "outputs": [
    {
     "data": {
      "text/plain": [
       "res56: String = \"\"\n"
      ]
     },
     "metadata": {},
     "output_type": "display_data"
    }
   ],
   "source": [
    "\"rm -f lab05.csv\".!!\n",
    "\"hdfs dfs -get tmp/lab05/part-* lab05.csv\".!!"
   ]
  },
  {
   "cell_type": "code",
   "execution_count": 13,
   "metadata": {},
   "outputs": [],
   "source": [
    "sc.stop"
   ]
  }
 ],
 "metadata": {
  "kernelspec": {
   "display_name": "Apache Toree - Scala",
   "language": "scala",
   "name": "apache_toree_scala"
  },
  "language_info": {
   "codemirror_mode": "text/x-scala",
   "file_extension": ".scala",
   "mimetype": "text/x-scala",
   "name": "scala",
   "pygments_lexer": "scala",
   "version": "2.11.12"
  }
 },
 "nbformat": 4,
 "nbformat_minor": 2
}
