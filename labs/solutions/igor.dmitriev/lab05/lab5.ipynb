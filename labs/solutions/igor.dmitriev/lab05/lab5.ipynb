{
 "cells": [
  {
   "cell_type": "code",
   "execution_count": 1,
   "metadata": {},
   "outputs": [],
   "source": [
    "import org.apache.spark.sql.DataFrame\n",
    "import org.apache.spark.sql.functions._\n",
    "import org.apache.spark.ml.feature._"
   ]
  },
  {
   "cell_type": "code",
   "execution_count": 113,
   "metadata": {},
   "outputs": [
    {
     "data": {
      "text/plain": [
       "getDF: (input: String)org.apache.spark.sql.DataFrame\n"
      ]
     },
     "metadata": {},
     "output_type": "display_data"
    }
   ],
   "source": [
    "def getDF(input: String): DataFrame = {\n",
    "    val raw = spark.read.option(\"header\", \"true\").csv(input)\n",
    "    return raw.\n",
    "    withColumn(\"ID\", col(\"ID\").cast(\"long\")).\n",
    "    withColumn(\"AGE\", (floor(col(\"AGE\").cast(\"double\") / 12)).cast(\"float\")).\n",
    "    withColumn(\"AMOUNT_RUB_ATM_PRC\", col(\"AMOUNT_RUB_ATM_PRC\").cast(\"float\")).\n",
    "    withColumn(\"AMOUNT_RUB_CLO_PRC\", col(\"AMOUNT_RUB_CLO_PRC\").cast(\"float\")).\n",
    "    withColumn(\"AMOUNT_RUB_NAS_PRC\", col(\"AMOUNT_RUB_CLO_PRC\").cast(\"float\")).\n",
    "    withColumn(\"AMOUNT_RUB_SUP_PRC\", col(\"AMOUNT_RUB_CLO_PRC\").cast(\"float\")).\n",
    "    withColumn(\"CAR\", (col(\"APP_CAR\") === \"Y\").cast(\"float\")).\n",
    "    withColumn(\"HABITATION\", (col(\"APP_KIND_OF_PROP_HABITATION\") === \"NPRIVAT\").cast(\"float\")).\n",
    "    withColumn(\"TRAVEL_PASS\", (col(\"APP_TRAVEL_PASS\") === \"Y\").cast(\"float\")).\n",
    "    withColumn(\"DEBT\", col(\"AVG_PCT_DEBT_TO_DEAL_AMT\").cast(\"float\")).\n",
    "    withColumn(\"SALARY\", col(\"CLNT_SALARY_VALUE\").cast(\"float\")).\n",
    "    withColumn(\"SETUP\", col(\"CLNT_SETUP_TENOR\").cast(\"float\")).\n",
    "    withColumn(\"MTP\", col(\"CNT_ACCEPTS_MTP\").cast(\"float\")).\n",
    "    withColumn(\"CNT_TRAN_ATM_TENDENCY\", (col(\"CNT_TRAN_ATM_TENDENCY3M\").cast(\"float\") -  \n",
    "                          col(\"CNT_TRAN_AUT_TENDENCY1M\").cast(\"float\"))).\n",
    "    withColumn(\"CNT_TRAN_AUT_TENDENCY\", (col(\"CNT_TRAN_AUT_TENDENCY3M\").cast(\"float\") -  \n",
    "                          col(\"CNT_TRAN_AUT_TENDENCY1M\").cast(\"float\"))).\n",
    "    withColumn(\"CNT_TRAN_CLO_TENDENCY\", (col(\"CNT_TRAN_CLO_TENDENCY3M\").cast(\"float\") - \n",
    "                          col(\"CNT_TRAN_CLO_TENDENCY1M\").cast(\"float\"))).\n",
    "    withColumn(\"CNT_TRAN_SUP_TENDENCY\", (col(\"CNT_TRAN_SUP_TENDENCY3M\").cast(\"float\") - \n",
    "                          col(\"CNT_TRAN_SUP_TENDENCY1M\").cast(\"float\"))).\n",
    "    withColumn(\"CR_PROD_CNT_CC\", col(\"CR_PROD_CNT_CC\").cast(\"float\")).\n",
    "    withColumn(\"CR_PROD_CNT_CCFP\", col(\"CR_PROD_CNT_CCFP\").cast(\"float\")).\n",
    "    withColumn(\"CR_PROD_CNT_IL\", col(\"CR_PROD_CNT_IL\").cast(\"float\")).\n",
    "    withColumn(\"CR_PROD_CNT_PIL\", col(\"CR_PROD_CNT_PIL\").cast(\"float\")).\n",
    "    withColumn(\"CR_PROD_CNT_TOVR\", col(\"CR_PROD_CNT_TOVR\").cast(\"float\")).\n",
    "    withColumn(\"CR_PROD_CNT_VCU\", col(\"CR_PROD_CNT_VCU\").cast(\"float\")).\n",
    "    withColumn(\"DEAL_GRACE\", col(\"DEAL_GRACE_DAYS_ACC_AVG\").cast(\"float\")).\n",
    "    withColumn(\"DEAL_IR_MAX\", (\n",
    "                          col(\"DEAL_YQZ_IR_MAX\").cast(\"float\") + \n",
    "                          col(\"DEAL_YWZ_IR_MAX\").cast(\"float\")) / 2).\n",
    "    withColumn(\"LDEAL_ACT_DAYS_PCT\", (col(\"LDEAL_ACT_DAYS_ACC_PCT_AVG\").cast(\"float\") + \n",
    "                          col(\"LDEAL_ACT_DAYS_PCT_AAVG\").cast(\"float\") +\n",
    "                          col(\"LDEAL_ACT_DAYS_PCT_CURR\").cast(\"float\") +\n",
    "                          col(\"LDEAL_ACT_DAYS_PCT_TR\").cast(\"float\") +\n",
    "                          col(\"LDEAL_ACT_DAYS_PCT_TR3\").cast(\"float\") +\n",
    "                          col(\"LDEAL_ACT_DAYS_PCT_TR4\").cast(\"float\")) / 6).\n",
    "    withColumn(\"MAX_PCLOSE_DATE\", col(\"MAX_PCLOSE_DATE\").cast(\"float\")).\n",
    "    withColumn(\"MED_DEBT_PRC\", (\n",
    "                          col(\"MED_DEBT_PRC_YQZ\").cast(\"float\") + \n",
    "                          col(\"MED_DEBT_PRC_YWZ\").cast(\"float\")) / 2).\n",
    "    withColumn(\"PRC_ACCEPTS\", (col(\"PRC_ACCEPTS_A_AMOBILE\").cast(\"float\") + \n",
    "                          col(\"PRC_ACCEPTS_A_ATM\").cast(\"float\") +\n",
    "                          col(\"PRC_ACCEPTS_A_EMAIL_LINK\").cast(\"float\") +\n",
    "                          col(\"PRC_ACCEPTS_A_MTP\").cast(\"float\") +\n",
    "                          col(\"PRC_ACCEPTS_A_POS\").cast(\"float\") +\n",
    "                          col(\"PRC_ACCEPTS_A_TK\").cast(\"float\") +\n",
    "                          col(\"PRC_ACCEPTS_MTP\").cast(\"float\") +\n",
    "                          col(\"PRC_ACCEPTS_TK\").cast(\"float\")) / 8).\n",
    "    withColumn(\"REST_AVG\", (\n",
    "                          col(\"REST_AVG_CUR\").cast(\"float\") + \n",
    "                          col(\"REST_AVG_PAYM\").cast(\"float\")) / 2).\n",
    "    withColumn(\"REST_DYNAMIC_CC\", (col(\"REST_DYNAMIC_CC_3M\").cast(\"float\") -  \n",
    "                      col(\"REST_DYNAMIC_CC_1M\").cast(\"float\"))).\n",
    "    withColumn(\"REST_DYNAMIC_CUR\", (col(\"REST_DYNAMIC_CUR_3M\").cast(\"float\") -  \n",
    "                      col(\"REST_DYNAMIC_CUR_1M\").cast(\"float\"))).\n",
    "    withColumn(\"REST_DYNAMIC_FDEP\", (col(\"REST_DYNAMIC_FDEP_3M\").cast(\"float\") -  \n",
    "                      col(\"REST_DYNAMIC_FDEP_1M\").cast(\"float\"))).\n",
    "    withColumn(\"REST_DYNAMIC_IL\", (col(\"REST_DYNAMIC_IL_3M\").cast(\"float\") -  \n",
    "                      col(\"REST_DYNAMIC_IL_1M\").cast(\"float\"))).\n",
    "    withColumn(\"REST_DYNAMIC_PAYM\", (col(\"REST_DYNAMIC_PAYM_3M\").cast(\"float\") -  \n",
    "                      col(\"REST_DYNAMIC_PAYM_1M\").cast(\"float\"))).\n",
    "    withColumn(\"SUM_TRAN_ATM_TENDENCY\", (col(\"SUM_TRAN_ATM_TENDENCY3M\").cast(\"float\") -  \n",
    "                  col(\"SUM_TRAN_ATM_TENDENCY1M\").cast(\"float\"))).\n",
    "    withColumn(\"SUM_TRAN_AUT_TENDENCY\", (col(\"SUM_TRAN_AUT_TENDENCY3M\").cast(\"float\") -  \n",
    "                  col(\"SUM_TRAN_AUT_TENDENCY1M\").cast(\"float\"))).\n",
    "    withColumn(\"SUM_TRAN_CLO_TENDENCY\", (col(\"SUM_TRAN_CLO_TENDENCY3M\").cast(\"float\") -  \n",
    "                  col(\"SUM_TRAN_CLO_TENDENCY1M\").cast(\"float\"))).\n",
    "    withColumn(\"SUM_TRAN_MED_TENDENCY\", (col(\"SUM_TRAN_MED_TENDENCY3M\").cast(\"float\") -  \n",
    "                  col(\"SUM_TRAN_MED_TENDENCY1M\").cast(\"float\"))).\n",
    "    withColumn(\"SUM_TRAN_SUP_TENDENCY\", (col(\"SUM_TRAN_SUP_TENDENCY3M\").cast(\"float\") -  \n",
    "                  col(\"SUM_TRAN_SUP_TENDENCY1M\").cast(\"float\"))).\n",
    "    withColumn(\"TRANS_AMOUNT_TENDENCY3M\", col(\"TRANS_AMOUNT_TENDENCY3M\").cast(\"float\")).\n",
    "    withColumn(\"TRANS_CNT_TENDENCY3M\", col(\"TRANS_CNT_TENDENCY3M\").cast(\"float\")).\n",
    "    withColumn(\"TRANS_COUNT_PRC\", (col(\"TRANS_COUNT_ATM_PRC\").cast(\"float\") + \n",
    "                          col(\"TRANS_COUNT_NAS_PRC\").cast(\"float\") +\n",
    "                          col(\"TRANS_COUNT_SUP_PRC\").cast(\"float\")) / 3).\n",
    "    withColumn(\"TURNOVER_CC\", col(\"TURNOVER_CC\").cast(\"float\")).\n",
    "    withColumn(\"TURNOVER_PAYM\", col(\"TURNOVER_PAYM\").cast(\"float\")).\n",
    "    withColumn(\"TURNOVER_DYNAMIC_CC\", (col(\"TURNOVER_DYNAMIC_CC_3M\").cast(\"float\") -  \n",
    "              col(\"TURNOVER_DYNAMIC_CC_1M\").cast(\"float\"))).\n",
    "    withColumn(\"TURNOVER_DYNAMIC_CUR\", (col(\"TURNOVER_DYNAMIC_CUR_3M\").cast(\"float\") -  \n",
    "              col(\"TURNOVER_DYNAMIC_CUR_1M\").cast(\"float\"))).\n",
    "    withColumn(\"TURNOVER_DYNAMIC_IL\", (col(\"TURNOVER_DYNAMIC_IL_3M\").cast(\"float\") -  \n",
    "              col(\"TURNOVER_DYNAMIC_IL_1M\").cast(\"float\"))).\n",
    "    withColumn(\"TURNOVER_DYNAMIC_PAYM\", (col(\"TURNOVER_DYNAMIC_PAYM_3M\").cast(\"float\") -  \n",
    "              col(\"TURNOVER_DYNAMIC_PAYM_1M\").cast(\"float\")))\n",
    "}"
   ]
  },
  {
   "cell_type": "code",
   "execution_count": 114,
   "metadata": {},
   "outputs": [
    {
     "data": {
      "text/plain": [
       "features_col = Array(AGE, CAR, HABITATION, TRAVEL_PASS, DEBT, SALARY, SETUP, MTP, CNT_TRAN_ATM_TENDENCY, CNT_TRAN_AUT_TENDENCY, CNT_TRAN_CLO_TENDENCY, CNT_TRAN_SUP_TENDENCY, AMOUNT_RUB_ATM_PRC, AMOUNT_RUB_CLO_PRC, AMOUNT_RUB_NAS_PRC, AMOUNT_RUB_SUP_PRC, CR_PROD_CNT_CC, CR_PROD_CNT_CCFP, CR_PROD_CNT_IL, CR_PROD_CNT_PIL, CR_PROD_CNT_TOVR, CR_PROD_CNT_VCU, DEAL_GRACE, DEAL_IR_MAX, LDEAL_ACT_DAYS_PCT, MAX_PCLOSE_DATE, MED_DEBT_PRC, PRC_ACCEPTS, REST_AVG, SUM_TRAN_ATM_TENDENCY, SUM_TRAN_AUT_TENDENCY, SUM_TRAN_CLO_TENDENCY, SUM_TRAN_MED_TENDENCY, SUM_TRAN_SUP_TENDENCY, REST_DYNAMIC_CC, REST_DYNAMIC_CUR, REST_DYNAMIC_FDEP, REST_DYNAMIC_IL, REST_DYNAMIC_PAYM, TRANS_AMOUNT_TENDENCY3M, TRANS_CNT_TENDENCY3M, TRANS_COUNT_PRC, TURNOVER_CC, TURNOVER_PAYM, TURNOVER_DYNAMIC_CC, TURNOVER_...\n"
      ]
     },
     "metadata": {},
     "output_type": "display_data"
    },
    {
     "data": {
      "text/plain": [
       "Array(AGE, CAR, HABITATION, TRAVEL_PASS, DEBT, SALARY, SETUP, MTP, CNT_TRAN_ATM_TENDENCY, CNT_TRAN_AUT_TENDENCY, CNT_TRAN_CLO_TENDENCY, CNT_TRAN_SUP_TENDENCY, AMOUNT_RUB_ATM_PRC, AMOUNT_RUB_CLO_PRC, AMOUNT_RUB_NAS_PRC, AMOUNT_RUB_SUP_PRC, CR_PROD_CNT_CC, CR_PROD_CNT_CCFP, CR_PROD_CNT_IL, CR_PROD_CNT_PIL, CR_PROD_CNT_TOVR, CR_PROD_CNT_VCU, DEAL_GRACE, DEAL_IR_MAX, LDEAL_ACT_DAYS_PCT, MAX_PCLOSE_DATE, MED_DEBT_PRC, PRC_ACCEPTS, REST_AVG, SUM_TRAN_ATM_TENDENCY, SUM_TRAN_AUT_TENDENCY, SUM_TRAN_CLO_TENDENCY, SUM_TRAN_MED_TENDENCY, SUM_TRAN_SUP_TENDENCY, REST_DYNAMIC_CC, REST_DYNAMIC_CUR, REST_DYNAMIC_FDEP, REST_DYNAMIC_IL, REST_DYNAMIC_PAYM, TRANS_AMOUNT_TENDENCY3M, TRANS_CNT_TENDENCY3M, TRANS_COUNT_PRC, TURNOVER_CC, TURNOVER_PAYM, TURNOVER_DYNAMIC_CC, TURNOVER_..."
      ]
     },
     "execution_count": 114,
     "metadata": {},
     "output_type": "execute_result"
    }
   ],
   "source": [
    "val features_col = Array(\"AGE\", \"CAR\", \"HABITATION\", \"TRAVEL_PASS\",\n",
    "    \"DEBT\", \"SALARY\", \"SETUP\", \"MTP\", \"CNT_TRAN_ATM_TENDENCY\", \"CNT_TRAN_AUT_TENDENCY\",\n",
    "    \"CNT_TRAN_CLO_TENDENCY\", \"CNT_TRAN_SUP_TENDENCY\",\n",
    "    \"AMOUNT_RUB_ATM_PRC\", \"AMOUNT_RUB_CLO_PRC\", \"AMOUNT_RUB_NAS_PRC\", \"AMOUNT_RUB_SUP_PRC\",\n",
    "    \"CR_PROD_CNT_CC\",\"CR_PROD_CNT_CCFP\",\"CR_PROD_CNT_IL\",\"CR_PROD_CNT_PIL\",\"CR_PROD_CNT_TOVR\",\"CR_PROD_CNT_VCU\",\n",
    "    \"DEAL_GRACE\", \"DEAL_IR_MAX\", \"LDEAL_ACT_DAYS_PCT\", \"MAX_PCLOSE_DATE\",\n",
    "    \"MED_DEBT_PRC\", \"PRC_ACCEPTS\", \"REST_AVG\",\n",
    "    \"SUM_TRAN_ATM_TENDENCY\",\"SUM_TRAN_AUT_TENDENCY\",\"SUM_TRAN_CLO_TENDENCY\",\"SUM_TRAN_MED_TENDENCY\",\n",
    "    \"SUM_TRAN_SUP_TENDENCY\",\"REST_DYNAMIC_CC\",\"REST_DYNAMIC_CUR\",\"REST_DYNAMIC_FDEP\",\"REST_DYNAMIC_IL\",\n",
    "    \"REST_DYNAMIC_PAYM\",\"TRANS_AMOUNT_TENDENCY3M\", \"TRANS_CNT_TENDENCY3M\", \"TRANS_COUNT_PRC\", \"TURNOVER_CC\",\n",
    "    \"TURNOVER_PAYM\", \"TURNOVER_DYNAMIC_CC\",\"TURNOVER_DYNAMIC_CUR\",\"TURNOVER_DYNAMIC_IL\",\"TURNOVER_DYNAMIC_PAYM\")\n",
    "val features_col_ = features_col.map(c => s\"${c}_\")"
   ]
  },
  {
   "cell_type": "code",
   "execution_count": 115,
   "metadata": {},
   "outputs": [
    {
     "data": {
      "text/plain": [
       "imputer = imputer_0504d03b9f72\n"
      ]
     },
     "metadata": {},
     "output_type": "display_data"
    },
    {
     "data": {
      "text/plain": [
       "imputer_0504d03b9f72"
      ]
     },
     "execution_count": 115,
     "metadata": {},
     "output_type": "execute_result"
    }
   ],
   "source": [
    "import org.apache.spark.ml.feature.Imputer\n",
    "\n",
    "\n",
    "val imputer = new Imputer()\n",
    "  .setInputCols(features_col)\n",
    "  .setOutputCols(features_col_)\n",
    "  .setStrategy(\"mean\")"
   ]
  },
  {
   "cell_type": "code",
   "execution_count": 116,
   "metadata": {},
   "outputs": [
    {
     "data": {
      "text/plain": [
       "assembler = vecAssembler_b65b04031cdc\n"
      ]
     },
     "metadata": {},
     "output_type": "display_data"
    },
    {
     "data": {
      "text/plain": [
       "vecAssembler_b65b04031cdc"
      ]
     },
     "execution_count": 116,
     "metadata": {},
     "output_type": "execute_result"
    }
   ],
   "source": [
    "val assembler = new VectorAssembler().\n",
    "    setInputCols(features_col_).\n",
    "    setOutputCol(\"FEATURES_\").\n",
    "    setHandleInvalid(\"keep\")"
   ]
  },
  {
   "cell_type": "code",
   "execution_count": 117,
   "metadata": {},
   "outputs": [
    {
     "data": {
      "text/plain": [
       "scaler = normalizer_7ed30bdfb4d3\n"
      ]
     },
     "metadata": {},
     "output_type": "display_data"
    },
    {
     "data": {
      "text/plain": [
       "normalizer_7ed30bdfb4d3"
      ]
     },
     "execution_count": 117,
     "metadata": {},
     "output_type": "execute_result"
    }
   ],
   "source": [
    "val scaler = new Normalizer()\n",
    "    .setInputCol(\"FEATURES_\")\n",
    "    .setOutputCol(\"FEATURES\")"
   ]
  },
  {
   "cell_type": "code",
   "execution_count": 129,
   "metadata": {},
   "outputs": [
    {
     "data": {
      "text/plain": [
       "lr = gbtc_87546b48fbe8\n"
      ]
     },
     "metadata": {},
     "output_type": "display_data"
    },
    {
     "data": {
      "text/plain": [
       "gbtc_87546b48fbe8"
      ]
     },
     "execution_count": 129,
     "metadata": {},
     "output_type": "execute_result"
    }
   ],
   "source": [
    "import org.apache.spark.ml.classification.GBTClassifier\n",
    "\n",
    "val lr = new GBTClassifier()\n",
    "    .setLabelCol(\"TARGET\")\n",
    "    .setFeaturesCol(\"FEATURES\")\n",
    "    .setPredictionCol(\"target\")"
   ]
  },
  {
   "cell_type": "code",
   "execution_count": 130,
   "metadata": {},
   "outputs": [
    {
     "data": {
      "text/plain": [
       "pipeline = pipeline_5aa0a836aee7\n"
      ]
     },
     "metadata": {},
     "output_type": "display_data"
    },
    {
     "data": {
      "text/plain": [
       "pipeline_5aa0a836aee7"
      ]
     },
     "execution_count": 130,
     "metadata": {},
     "output_type": "execute_result"
    }
   ],
   "source": [
    "import org.apache.spark.ml.{Pipeline, PipelineModel}\n",
    "val pipeline = new Pipeline()\n",
    "  .setStages(Array(imputer, assembler, scaler, lr))\n"
   ]
  },
  {
   "cell_type": "code",
   "execution_count": 121,
   "metadata": {},
   "outputs": [
    {
     "data": {
      "text/plain": [
       "train = [ID: bigint, AGE: float ... 48 more fields]\n"
      ]
     },
     "metadata": {},
     "output_type": "display_data"
    },
    {
     "data": {
      "text/plain": [
       "[ID: bigint, AGE: float ... 48 more fields]"
      ]
     },
     "execution_count": 121,
     "metadata": {},
     "output_type": "execute_result"
    }
   ],
   "source": [
    "val train = getDF(\"/labs/slaba05/lab05_train.csv\")\n",
    "        .withColumn(\"TARGET\", col(\"TARGET\").cast(\"float\"))\n",
    "        .select(\"ID\",\"AGE\", \"CAR\", \"HABITATION\", \"TRAVEL_PASS\",\n",
    "    \"DEBT\", \"SALARY\", \"SETUP\", \"MTP\", \"CNT_TRAN_ATM_TENDENCY\", \"CNT_TRAN_AUT_TENDENCY\",\n",
    "    \"CNT_TRAN_CLO_TENDENCY\", \"CNT_TRAN_SUP_TENDENCY\",\n",
    "    \"AMOUNT_RUB_ATM_PRC\", \"AMOUNT_RUB_CLO_PRC\", \"AMOUNT_RUB_NAS_PRC\", \"AMOUNT_RUB_SUP_PRC\",\n",
    "    \"CR_PROD_CNT_CC\",\"CR_PROD_CNT_CCFP\",\"CR_PROD_CNT_IL\",\"CR_PROD_CNT_PIL\",\"CR_PROD_CNT_TOVR\",\"CR_PROD_CNT_VCU\",\n",
    "    \"DEAL_GRACE\", \"DEAL_IR_MAX\", \"LDEAL_ACT_DAYS_PCT\", \"MAX_PCLOSE_DATE\",\n",
    "    \"MED_DEBT_PRC\", \"PRC_ACCEPTS\", \"REST_AVG\",\n",
    "    \"SUM_TRAN_ATM_TENDENCY\",\"SUM_TRAN_AUT_TENDENCY\",\"SUM_TRAN_CLO_TENDENCY\",\"SUM_TRAN_MED_TENDENCY\",\n",
    "    \"SUM_TRAN_SUP_TENDENCY\",\"REST_DYNAMIC_CC\",\"REST_DYNAMIC_CUR\",\"REST_DYNAMIC_FDEP\",\"REST_DYNAMIC_IL\",\n",
    "    \"REST_DYNAMIC_PAYM\",\"TRANS_AMOUNT_TENDENCY3M\", \"TRANS_CNT_TENDENCY3M\", \"TRANS_COUNT_PRC\", \"TURNOVER_CC\",\n",
    "    \"TURNOVER_PAYM\", \"TURNOVER_DYNAMIC_CC\",\"TURNOVER_DYNAMIC_CUR\",\"TURNOVER_DYNAMIC_IL\",\"TURNOVER_DYNAMIC_PAYM\", \"TARGET\")\n",
    "        .filter(\"TARGET is not null\")\n",
    "        .stat.sampleBy(\"TARGET\", Map(1.0 -> 1.0, 0.0 -> 0.25), 777L)\n",
    "        .cache()"
   ]
  },
  {
   "cell_type": "code",
   "execution_count": 123,
   "metadata": {},
   "outputs": [
    {
     "data": {
      "text/plain": [
       "test = [ID: bigint, AGE: float ... 47 more fields]\n"
      ]
     },
     "metadata": {},
     "output_type": "display_data"
    },
    {
     "data": {
      "text/plain": [
       "lastException: Throwable = null\n"
      ]
     },
     "metadata": {},
     "output_type": "display_data"
    },
    {
     "data": {
      "text/plain": [
       "[ID: bigint, AGE: float ... 47 more fields]"
      ]
     },
     "execution_count": 123,
     "metadata": {},
     "output_type": "execute_result"
    }
   ],
   "source": [
    "val test = getDF(\"/labs/slaba05/lab05_test.csv\")\n",
    "        .select(\"ID\",\"AGE\", \"CAR\", \"HABITATION\", \"TRAVEL_PASS\",\n",
    "    \"DEBT\", \"SALARY\", \"SETUP\", \"MTP\", \"CNT_TRAN_ATM_TENDENCY\", \"CNT_TRAN_AUT_TENDENCY\",\n",
    "    \"CNT_TRAN_CLO_TENDENCY\", \"CNT_TRAN_SUP_TENDENCY\",\n",
    "    \"AMOUNT_RUB_ATM_PRC\", \"AMOUNT_RUB_CLO_PRC\", \"AMOUNT_RUB_NAS_PRC\", \"AMOUNT_RUB_SUP_PRC\",\n",
    "    \"CR_PROD_CNT_CC\",\"CR_PROD_CNT_CCFP\",\"CR_PROD_CNT_IL\",\"CR_PROD_CNT_PIL\",\"CR_PROD_CNT_TOVR\",\"CR_PROD_CNT_VCU\",\n",
    "    \"DEAL_GRACE\", \"DEAL_IR_MAX\", \"LDEAL_ACT_DAYS_PCT\", \"MAX_PCLOSE_DATE\",\n",
    "    \"MED_DEBT_PRC\", \"PRC_ACCEPTS\", \"REST_AVG\",\n",
    "    \"SUM_TRAN_ATM_TENDENCY\",\"SUM_TRAN_AUT_TENDENCY\",\"SUM_TRAN_CLO_TENDENCY\",\"SUM_TRAN_MED_TENDENCY\",\n",
    "    \"SUM_TRAN_SUP_TENDENCY\",\"REST_DYNAMIC_CC\",\"REST_DYNAMIC_CUR\",\"REST_DYNAMIC_FDEP\",\"REST_DYNAMIC_IL\",\n",
    "    \"REST_DYNAMIC_PAYM\",\"TRANS_AMOUNT_TENDENCY3M\", \"TRANS_CNT_TENDENCY3M\", \"TRANS_COUNT_PRC\", \"TURNOVER_CC\",\n",
    "    \"TURNOVER_PAYM\", \"TURNOVER_DYNAMIC_CC\",\"TURNOVER_DYNAMIC_CUR\",\"TURNOVER_DYNAMIC_IL\",\"TURNOVER_DYNAMIC_PAYM\").cache()\n",
    "\n",
    "    "
   ]
  },
  {
   "cell_type": "code",
   "execution_count": 132,
   "metadata": {
    "scrolled": false
   },
   "outputs": [
    {
     "data": {
      "text/plain": [
       "model = pipeline_5aa0a836aee7\n"
      ]
     },
     "metadata": {},
     "output_type": "display_data"
    },
    {
     "data": {
      "text/plain": [
       "lastException: Throwable = null\n"
      ]
     },
     "metadata": {},
     "output_type": "display_data"
    },
    {
     "data": {
      "text/plain": [
       "pipeline_5aa0a836aee7"
      ]
     },
     "execution_count": 132,
     "metadata": {},
     "output_type": "execute_result"
    }
   ],
   "source": [
    "val model = pipeline.fit(train)"
   ]
  },
  {
   "cell_type": "code",
   "execution_count": 135,
   "metadata": {},
   "outputs": [
    {
     "data": {
      "text/plain": [
       "predictions = [ID: bigint, probability: vector]\n"
      ]
     },
     "metadata": {},
     "output_type": "display_data"
    },
    {
     "data": {
      "text/plain": [
       "[ID: bigint, probability: vector]"
      ]
     },
     "execution_count": 135,
     "metadata": {},
     "output_type": "execute_result"
    }
   ],
   "source": [
    "val predictions = model.transform(test).select(\"ID\", \"probability\")"
   ]
  },
  {
   "cell_type": "code",
   "execution_count": 136,
   "metadata": {},
   "outputs": [
    {
     "data": {
      "text/plain": [
       "at1 = > Double = <function1>\n",
       "at1_udf = UserDefinedFunction(<function1>,DoubleType,None)\n",
       "res_df = [ID: bigint, target: double]\n"
      ]
     },
     "metadata": {},
     "output_type": "display_data"
    },
    {
     "data": {
      "text/plain": [
       "[ID: bigint, target: double]"
      ]
     },
     "execution_count": 136,
     "metadata": {},
     "output_type": "execute_result"
    }
   ],
   "source": [
    "import org.apache.spark.ml.linalg.DenseVector\n",
    "import org.apache.spark.sql.functions.udf\n",
    "val at1: Any => Double = _.asInstanceOf[DenseVector].toArray(1)\n",
    "val at1_udf = udf(at1)\n",
    "\n",
    "val res_df = predictions\n",
    "    .withColumn(\"target\", at1_udf(predictions(\"probability\")))\n",
    "    .select(\"ID\", \"target\")"
   ]
  },
  {
   "cell_type": "code",
   "execution_count": 137,
   "metadata": {},
   "outputs": [
    {
     "data": {
      "text/plain": [
       "bpw = java.io.PrintWriter@2b91850a\n"
      ]
     },
     "metadata": {},
     "output_type": "display_data"
    },
    {
     "data": {
      "text/plain": [
       "java.io.PrintWriter@2b91850a"
      ]
     },
     "execution_count": 137,
     "metadata": {},
     "output_type": "execute_result"
    }
   ],
   "source": [
    "import java.io._\n",
    "\n",
    "val bpw = new PrintWriter(new File(\"lab05.csv\"))\n",
    "\n",
    "try {\n",
    "    bpw.println(\"id\\ttarget\")\n",
    "    bpw.print(res_df.sort(\"ID\")\n",
    "                .collect()\n",
    "                .map(r => \"%d\\t%f\" format (r.get(0), r.get(1)))\n",
    "                .mkString(\"\\n\"))\n",
    "    bpw.flush()\n",
    "    bpw.close()\n",
    "} catch {\n",
    "    case e: FileNotFoundException => println(\"Couldn't find that file.\")\n",
    "    case e: IOException => println(\"Had an IOException trying to read that file\")\n",
    "}\n"
   ]
  },
  {
   "cell_type": "code",
   "execution_count": 138,
   "metadata": {},
   "outputs": [],
   "source": [
    "spark.stop()"
   ]
  },
  {
   "cell_type": "code",
   "execution_count": null,
   "metadata": {},
   "outputs": [],
   "source": []
  }
 ],
 "metadata": {
  "kernelspec": {
   "display_name": "Apache Toree - Scala",
   "language": "scala",
   "name": "apache_toree_scala"
  },
  "language_info": {
   "codemirror_mode": "text/x-scala",
   "file_extension": ".scala",
   "mimetype": "text/x-scala",
   "name": "scala",
   "pygments_lexer": "scala",
   "version": "2.11.12"
  }
 },
 "nbformat": 4,
 "nbformat_minor": 2
}
