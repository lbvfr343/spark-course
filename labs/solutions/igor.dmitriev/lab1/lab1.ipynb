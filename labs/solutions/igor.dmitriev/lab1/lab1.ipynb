{
 "cells": [
  {
   "cell_type": "code",
   "execution_count": null,
   "metadata": {},
   "outputs": [],
   "source": [
    "import os\n",
    "import sys\n",
    "os.environ[\"PYSPARK_PYTHON\"]='/opt/anaconda/envs/bd9/bin/python'\n",
    "os.environ[\"SPARK_HOME\"]='/usr/hdp/current/spark2-client'\n",
    "os.environ[\"PYSPARK_SUBMIT_ARGS\"]='--num-executors 2 pyspark-shell'\n",
    "\n",
    "spark_home = os.environ.get('SPARK_HOME', None)\n",
    "if not spark_home:\n",
    "    raise ValueError('SPARK_HOME environment variable is not set')\n",
    "\n",
    "sys.path.insert(0, os.path.join(spark_home, 'python'))\n",
    "sys.path.insert(0, os.path.join(spark_home, 'python/lib/py4j-0.10.7-src.zip'))\n",
    "exec(open(os.path.join(spark_home, 'python/pyspark/shell.py')).read())\n"
   ]
  },
  {
   "cell_type": "code",
   "execution_count": null,
   "metadata": {
    "scrolled": true
   },
   "outputs": [],
   "source": [
    "!hdfs dfs -ls /labs/laba01/ml-100k"
   ]
  },
  {
   "cell_type": "code",
   "execution_count": null,
   "metadata": {
    "scrolled": true
   },
   "outputs": [],
   "source": [
    "! hdfs dfs -head \"/labs/laba01/ml-100k/u.data\""
   ]
  },
  {
   "cell_type": "code",
   "execution_count": null,
   "metadata": {},
   "outputs": [],
   "source": [
    "#Решение через rdd\n",
    "sc = spark.sparkContext\n",
    "raw_data = sc.textFile(\"/labs/laba01/ml-100k/u.data\").map(lambda x: x.split(\"\\t\")).cache()\n",
    "hist_all_raw = sorted(raw_data.\\\n",
    "                      map(lambda x: (x[2], 1)).\\\n",
    "                      reduceByKey(lambda a, b: a + b).\\\n",
    "                      collect())\n",
    "hist_film_raw = sorted(raw_data.\\\n",
    "                       filter(lambda x: x[1] == \"318\").\\\n",
    "                       map(lambda x: (x[2], 1)).\\\n",
    "                       reduceByKey(lambda a, b: a + b).\\\n",
    "                       collect())\n",
    "hist_all = [rating[1] for rating in hist_all_raw]\n",
    "hist_film = [rating[1] for rating in hist_film_raw]"
   ]
  },
  {
   "cell_type": "code",
   "execution_count": null,
   "metadata": {},
   "outputs": [],
   "source": [
    "#Решение через DF\n",
    "\n",
    "from pyspark.sql.types import StructType, StructField, IntegerType, TimestampType, LongType\n",
    "\n",
    "#Создадим схему - user id | item id | rating | timestamp.\n",
    "schema = StructType(fields=[\n",
    "    StructField(\"user_id\", IntegerType()),\n",
    "    StructField(\"item_id\", IntegerType()),\n",
    "    StructField(\"rating\", IntegerType()),\n",
    "    StructField(\"ts\", LongType())\n",
    "])\n",
    "\n",
    "df = spark.read.csv(\"/labs/laba01/ml-100k/u.data\", sep=\"\\t\", schema=schema)\n",
    "\n",
    "hist_all_raw = sorted(df.groupBy('rating').agg({'item_id': 'count'}).collect())\n",
    "hist_film_raw = sorted(df.where(df.item_id == 318).groupBy('rating').agg({'item_id': 'count'}).collect())\n",
    "\n",
    "hist_all = [rating.asDict().get('count(item_id)') for rating in hist_all_raw]\n",
    "hist_film = [rating.asDict().get('count(item_id)') for rating in hist_film_raw] "
   ]
  },
  {
   "cell_type": "code",
   "execution_count": null,
   "metadata": {},
   "outputs": [],
   "source": [
    "import json\n",
    "\n",
    "result = {'hist_all': hist_all, 'hist_film':hist_film}\n",
    "\n",
    "with open(\"lab01.json\", 'w') as f:\n",
    "    json.dump(result, f)"
   ]
  },
  {
   "cell_type": "code",
   "execution_count": null,
   "metadata": {},
   "outputs": [],
   "source": [
    "with open(\"lab01.json\", 'r') as f:\n",
    "    print(f.read())"
   ]
  },
  {
   "cell_type": "code",
   "execution_count": null,
   "metadata": {},
   "outputs": [],
   "source": [
    "spark.stop()"
   ]
  }
 ],
 "metadata": {
  "kernelspec": {
   "display_name": "Python 3",
   "language": "python",
   "name": "python3"
  },
  "language_info": {
   "codemirror_mode": {
    "name": "ipython",
    "version": 3
   },
   "file_extension": ".py",
   "mimetype": "text/x-python",
   "name": "python",
   "nbconvert_exporter": "python",
   "pygments_lexer": "ipython3",
   "version": "3.6.5"
  }
 },
 "nbformat": 4,
 "nbformat_minor": 2
}
