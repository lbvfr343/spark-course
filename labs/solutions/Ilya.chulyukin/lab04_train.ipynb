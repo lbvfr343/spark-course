{
 "cells": [
  {
   "cell_type": "code",
   "execution_count": 1,
   "metadata": {},
   "outputs": [],
   "source": [
    "import os\n",
    "import sys\n",
    "os.environ[\"PYSPARK_PYTHON\"]='/opt/anaconda/envs/bd9/bin/python'\n",
    "os.environ[\"SPARK_HOME\"]='/usr/hdp/current/spark2-client'\n",
    "os.environ[\"PYSPARK_SUBMIT_ARGS\"]='--num-executors 5 --executor-memory 4g --executor-cores 1 --driver-memory 3g pyspark-shell'\n",
    "\n",
    "spark_home = os.environ.get('SPARK_HOME', None)\n",
    "\n",
    "sys.path.insert(0, os.path.join(spark_home, 'python'))\n",
    "sys.path.insert(0, os.path.join(spark_home, 'python/lib/py4j-0.10.7-src.zip'))\n",
    "from pyspark import SparkConf\n",
    "from pyspark.sql import SparkSession\n",
    "\n",
    "conf = SparkConf()\n",
    "conf.set(\"spark.app.name\", \"lab04\") \n",
    "\n",
    "spark = SparkSession.builder.config(conf=conf).getOrCreate()\n"
   ]
  },
  {
   "cell_type": "code",
   "execution_count": 2,
   "metadata": {},
   "outputs": [
    {
     "name": "stdout",
     "output_type": "stream",
     "text": [
      "Welcome to\n",
      "      ____              __\n",
      "     / __/__  ___ _____/ /__\n",
      "    _\\ \\/ _ \\/ _ `/ __/  '_/\n",
      "   /__ / .__/\\_,_/_/ /_/\\_\\   version 2.4.7\n",
      "      /_/\n",
      "\n",
      "Using Python version 3.6.5 (default, Apr 29 2018 16:14:56)\n",
      "SparkSession available as 'spark'.\n"
     ]
    }
   ],
   "source": [
    "exec(open(os.path.join(spark_home, 'python/pyspark/shell.py')).read())"
   ]
  },
  {
   "cell_type": "code",
   "execution_count": 3,
   "metadata": {},
   "outputs": [],
   "source": [
    "from pyspark.mllib.linalg import SparseVector, DenseVector\n",
    "from pyspark.ml.feature import HashingTF, IDF, Tokenizer, StopWordsRemover, CountVectorizer,StringIndexer,OneHotEncoder\n",
    "import pyspark.sql.functions as f_\n",
    "from pyspark.sql.types import FloatType, StructType, StructField, IntegerType, StringType, ArrayType,TimestampType\n",
    "from pyspark.sql.window import Window\n",
    "from pyspark.ml import Pipeline\n",
    "import json\n",
    "from pyspark.ml.feature import VectorAssembler\n",
    "from pyspark.ml.classification import LogisticRegression\n",
    "from pyspark.ml.classification import GBTClassifier\n",
    "from pyspark.ml.classification import RandomForestClassifier\n",
    "from pyspark.ml.classification import DecisionTreeClassifier\n",
    "from pyspark.ml.evaluation import BinaryClassificationEvaluator, MulticlassClassificationEvaluator\n",
    "from pyspark.ml.classification import RandomForestClassificationModel\n",
    "from pyspark.ml.tuning import CrossValidator, ParamGridBuilder\n",
    "from pyspark.ml.feature import IndexToString, StringIndexer, VectorIndexer\n",
    "from pyspark.ml.evaluation import MulticlassClassificationEvaluator"
   ]
  },
  {
   "cell_type": "markdown",
   "metadata": {},
   "source": [
    "## Обучающая выборка"
   ]
  },
  {
   "cell_type": "code",
   "execution_count": 4,
   "metadata": {},
   "outputs": [
    {
     "name": "stdout",
     "output_type": "stream",
     "text": [
      "Found 1 items\r\n",
      "-rw-r--r--   3 hdfs hdfs  655090069 2022-01-06 18:46 /labs/slaba04/gender_age_dataset.txt\r\n"
     ]
    }
   ],
   "source": [
    "!hadoop fs -ls /labs/slaba04/"
   ]
  },
  {
   "cell_type": "markdown",
   "metadata": {},
   "source": [
    "### Поле user_json имеет внутри json со следующей схемой: \n",
    "- {\"visits\": [{\"url\": \"url1\", \"timestamp\": \"timestamp1\"}, {\"url\": \"url2\", \"timestamp\": \"timestamp2\"}]}"
   ]
  },
  {
   "cell_type": "code",
   "execution_count": 5,
   "metadata": {},
   "outputs": [],
   "source": [
    "json_schema = \"map<string, array<struct<url:string,timestamp:string>>>\""
   ]
  },
  {
   "cell_type": "code",
   "execution_count": 6,
   "metadata": {},
   "outputs": [
    {
     "name": "stdout",
     "output_type": "stream",
     "text": [
      "+------+-----+--------------------+--------------------+--------------------+------+--------------------+--------------------+\n",
      "|gender|  age|                 uid|           user_json|          user_json_|   key|               value|                 col|\n",
      "+------+-----+--------------------+--------------------+--------------------+------+--------------------+--------------------+\n",
      "|     F|18-24|d50192e5-c44e-4ae...|{\"visits\": [{\"url...|[visits -> [[http...|visits|[[http://zebra-zo...|[http://zebra-zoy...|\n",
      "|     F|18-24|d50192e5-c44e-4ae...|{\"visits\": [{\"url...|[visits -> [[http...|visits|[[http://zebra-zo...|[http://news.yand...|\n",
      "|     F|18-24|d50192e5-c44e-4ae...|{\"visits\": [{\"url...|[visits -> [[http...|visits|[[http://zebra-zo...|[http://www.sotov...|\n",
      "|     F|18-24|d50192e5-c44e-4ae...|{\"visits\": [{\"url...|[visits -> [[http...|visits|[[http://zebra-zo...|[http://news.yand...|\n",
      "|     F|18-24|d50192e5-c44e-4ae...|{\"visits\": [{\"url...|[visits -> [[http...|visits|[[http://zebra-zo...|[http://www.sotov...|\n",
      "+------+-----+--------------------+--------------------+--------------------+------+--------------------+--------------------+\n",
      "only showing top 5 rows\n",
      "\n"
     ]
    }
   ],
   "source": [
    "spark.read.csv('/labs/slaba04/gender_age_dataset.txt',sep='\\t',header=True)\\\n",
    "     .select(\"*\"\n",
    "             ,f_.from_json(f_.col('user_json'), json_schema).alias(\"user_json_\"))\\\n",
    "     .select(\"*\", f_.explode('user_json_'))\\\n",
    "     .select(\"*\", f_.explode('value'))\\\n",
    ".show(5)"
   ]
  },
  {
   "cell_type": "code",
   "execution_count": 7,
   "metadata": {},
   "outputs": [],
   "source": [
    "from urllib.parse import unquote\n",
    "@f_.udf(StringType())\n",
    "def url_cyr(url): return str(unquote(url))"
   ]
  },
  {
   "cell_type": "code",
   "execution_count": 8,
   "metadata": {},
   "outputs": [],
   "source": [
    "gender_age_dataset = spark.read.csv('/labs/slaba04/gender_age_dataset.txt',sep='\\t',header=True)\\\n",
    "        .select('gender', 'age', 'uid'\n",
    "                    ,f_.from_json(f_.col('user_json'), json_schema).alias(\"user_json\")\n",
    "                    ,f_.concat(f_.col('gender'),f_.lit('_'),f_.col('age')).alias('label')\n",
    "                    )\\\n",
    "        .select('age', 'uid', \"label\", f_.explode('user_json'))\\\n",
    "        .select('uid', \"label\", f_.explode('value'))\\\n",
    "        .select('uid', \"label\", f_.col('col').timestamp.alias('timestamp'), url_cyr(f_.col('col').url).alias('url'))"
   ]
  },
  {
   "cell_type": "code",
   "execution_count": 9,
   "metadata": {},
   "outputs": [
    {
     "name": "stdout",
     "output_type": "stream",
     "text": [
      "-RECORD 0------------------------------------------------------------------------------------------------------------------------------------------------------------\n",
      " uid       | d50192e5-c44e-4ae8-ae7a-7cfe67c8b777                                                                                                                    \n",
      " label     | F_18-24                                                                                                                                                 \n",
      " timestamp | 1419688144068                                                                                                                                           \n",
      " url       | http://zebra-zoya.ru/200028-chehol-organayzer-dlja-macbook-11-grid-it.html?utm_campaign=397720794&utm_content=397729344&utm_medium=cpc&utm_source=begun \n",
      "only showing top 1 row\n",
      "\n"
     ]
    }
   ],
   "source": [
    "gender_age_dataset.show(1, vertical = True, truncate = False)"
   ]
  },
  {
   "cell_type": "markdown",
   "metadata": {},
   "source": [
    "### Результрующий DataFrame:\n",
    "- uid - ID пользователя\n",
    "- timestamp - временная метка посещения\n",
    "- domain - домен (сайт)\n",
    "- url_split - адрес  url, разделенный пробелом на отдельные части\n",
    "- timediff - перодичность посещения (разница между временем текущего посещения и предыдушего)\n",
    "- change_site_flg - флаг-индикатор смены пользователем домена\n",
    "- label - пол_возраст - целевая метка"
   ]
  },
  {
   "cell_type": "code",
   "execution_count": 10,
   "metadata": {},
   "outputs": [],
   "source": [
    "clear_src_data = gender_age_dataset\\\n",
    ".select('uid', \"label\", \"timestamp\", \"url\"\n",
    "       ,f_.regexp_replace(f_.lower(f_.split(f_.col('url'),'/').getItem(2)),'www.','').alias('domain')\n",
    "       ,f_.split(f_.col('url'),'\\\\?').alias(\"url_\")\n",
    "                   )\\\n",
    ".select('uid', \"label\", \"timestamp\", \"domain\", \"url\", \"url_\"\n",
    "       ,f_.when((f_.length(f_.col(\"url_\").getItem(0)) > f_.coalesce(f_.length(f_.col(\"url_\").getItem(1)),f_.lit(0)))\n",
    "                ,f_.col('url_').getItem(0))\n",
    "          .otherwise(f_.col('url')).alias('url_clear'))\\\n",
    ".select('*'\n",
    "       ,f_.trim(\n",
    "            f_.lower(f_.regexp_replace(f_.regexp_replace('url_clear',r'[^\\pL\\p{Space}]',' '),'[ ]+',' '))\n",
    "               ).alias('url_split')\n",
    "       ,f_.lag('timestamp').over(Window.partitionBy(\"uid\").orderBy(f_.col('timestamp'))).alias(\"prev_time\")\n",
    "       ,f_.lag('domain').over(Window.partitionBy(\"uid\").orderBy(f_.col('timestamp'))).alias(\"prev_domain\")\n",
    "           )\\\n",
    ".select('*'\n",
    "       ,(f_.col('timestamp').cast('long') - f_.col('prev_time').cast('long')).alias('timediff')\n",
    "       ,f_.when(((f_.col('prev_domain').isNotNull()) & (f_.col('prev_domain') != f_.col('domain'))),f_.lit(1))\\\n",
    "          .otherwise(f_.lit(0)).alias('change_site_flg')\n",
    "           )\\\n",
    ".select(\"uid\", \"timestamp\", \"domain\", \"url_split\", \"timediff\", \"change_site_flg\", \"label\")"
   ]
  },
  {
   "cell_type": "code",
   "execution_count": 11,
   "metadata": {
    "scrolled": true
   },
   "outputs": [
    {
     "name": "stdout",
     "output_type": "stream",
     "text": [
      "+--------------------+-------------+------------+--------------------+--------+---------------+-----+\n",
      "|                 uid|    timestamp|      domain|           url_split|timediff|change_site_flg|label|\n",
      "+--------------------+-------------+------------+--------------------+--------+---------------+-----+\n",
      "|0108d217-e476-493...|1419843601415|kvartblog.ru|http kvartblog ru...|    null|              0|  -_-|\n",
      "|0108d217-e476-493...|1419843669325|kvartblog.ru|http kvartblog ru...|   67910|              0|  -_-|\n",
      "|0108d217-e476-493...|1419843739446|kvartblog.ru|http kvartblog ru...|   70121|              0|  -_-|\n",
      "|0192cc54-559c-4c8...|1426772398000| primorye.ru|    http primorye ru|    null|              0|  -_-|\n",
      "|0192cc54-559c-4c8...|1426772398001|vestiprim.ru|http vestiprim ru...|       1|              1|  -_-|\n",
      "+--------------------+-------------+------------+--------------------+--------+---------------+-----+\n",
      "only showing top 5 rows\n",
      "\n"
     ]
    }
   ],
   "source": [
    "clear_src_data.show(5)"
   ]
  },
  {
   "cell_type": "markdown",
   "metadata": {},
   "source": [
    "### Фичи"
   ]
  },
  {
   "cell_type": "markdown",
   "metadata": {},
   "source": [
    "#### агрегаты"
   ]
  },
  {
   "cell_type": "code",
   "execution_count": 12,
   "metadata": {},
   "outputs": [],
   "source": [
    "agg_ = clear_src_data.groupBy('label', 'uid').agg(\n",
    "     f_.concat_ws(' ',f_.collect_list(f_.col('url_split'))).alias('urls_words')\n",
    "    ,f_.concat_ws(' ',f_.collect_list(f_.col('domain'))).alias('domains')\n",
    "    ,f_.max('timestamp').cast('long').alias('time_max')\n",
    "    ,f_.min('timestamp').cast('long').alias('time_min')\n",
    "    ,f_.avg('timestamp').cast('long').alias('time_avg')\n",
    "    ,f_.max('timediff').alias('times_diff_max')\n",
    "    ,f_.min('timediff').alias('times_diff_min')\n",
    "    ,f_.avg('timediff').alias('times_diff_avg')\n",
    "    ,f_.countDistinct('domain').alias('domain_cnt')\n",
    "    ,f_.sum('change_site_flg').alias('change_site_cnt')\n",
    "    ,f_.count('*').alias('visit_cnt')\n",
    "                                                )"
   ]
  },
  {
   "cell_type": "code",
   "execution_count": 13,
   "metadata": {},
   "outputs": [
    {
     "name": "stdout",
     "output_type": "stream",
     "text": [
      "+-----+--------------------+--------------------+--------------------+-------------+-------------+-------------+--------------+--------------+--------------------+----------+---------------+---------+\n",
      "|label|                 uid|          urls_words|             domains|     time_max|     time_min|     time_avg|times_diff_max|times_diff_min|      times_diff_avg|domain_cnt|change_site_cnt|visit_cnt|\n",
      "+-----+--------------------+--------------------+--------------------+-------------+-------------+-------------+--------------+--------------+--------------------+----------+---------------+---------+\n",
      "|  -_-|0108d217-e476-493...|http kvartblog ru...|kvartblog.ru kvar...|1419843739446|1419843601415|1419843670062|         70121|         67910|             69015.5|         1|              0|        3|\n",
      "|  -_-|0192cc54-559c-4c8...|http deita ru new...|deita.ru deita.ru...|1427206710000|1426772398000|1426883967767|     303620000|             1|1.0340761904761905E7|         7|             12|       43|\n",
      "|  -_-|019acd5e-be9a-4cd...|http ad adriver r...|ad.adriver.ru ad....|1427197709001|1426925520000|1427103572231|     181534999|             1|       1.088756004E7|        12|             14|       26|\n",
      "|  -_-|02e7f830-da57-4d5...|http www conspiro...|conspirology.org ...|1427216730001|1426768869000|1427174426167|     423062000|             1| 4.071463645454545E7|         7|              9|       12|\n",
      "|  -_-|1d160259-73d8-451...|https ua sinoptik...|      ua.sinoptik.ua|1426609854000|1426609854000|1426609854000|          null|          null|                null|         1|              0|        1|\n",
      "+-----+--------------------+--------------------+--------------------+-------------+-------------+-------------+--------------+--------------+--------------------+----------+---------------+---------+\n",
      "only showing top 5 rows\n",
      "\n"
     ]
    }
   ],
   "source": [
    "agg_.show(5)"
   ]
  },
  {
   "cell_type": "code",
   "execution_count": 14,
   "metadata": {},
   "outputs": [
    {
     "data": {
      "text/plain": [
       "41138"
      ]
     },
     "execution_count": 14,
     "metadata": {},
     "output_type": "execute_result"
    }
   ],
   "source": [
    "agg_.count()"
   ]
  },
  {
   "cell_type": "markdown",
   "metadata": {},
   "source": [
    "### PIPELINE\n",
    "Фичи:\n",
    "- time_min - раннее время посещения сайтов\n",
    "- time_max - позднее время посещения сайтов\n",
    "- time_avg - среднее время посещения сайтов\n",
    "- times_diff_max - макисмальная разница между посещениями сайта\n",
    "- times_diff_min - минимальная разница между посещениями сайта\n",
    "- times_diff_avg - средняя разница между посещениями сайта\n",
    "- visit_cnt - количество посещения сайтов пользователем\n",
    "- url_idf - частота посещений сайтов пользователем\n",
    "- domain_idf - частота посещений сайтов пользователем\n",
    "- domain_cnt - частота посещений доменов пользователем\n",
    "- change_site_cnt - количество переходов на сайты пользователем"
   ]
  },
  {
   "cell_type": "code",
   "execution_count": 15,
   "metadata": {},
   "outputs": [
    {
     "name": "stdout",
     "output_type": "stream",
     "text": [
      "CPU times: user 94.4 ms, sys: 13.6 ms, total: 108 ms\n",
      "Wall time: 59.4 s\n"
     ]
    }
   ],
   "source": [
    "%%time\n",
    "# Фичи\n",
    "stopwords = ['www','http','html','htm','utm','php']\n",
    "\n",
    "tkn_url = Tokenizer(inputCol = \"urls_words\", outputCol = \"u_words\")\n",
    "tkn_dom = Tokenizer(inputCol = \"domains\", outputCol = \"d_words\")\n",
    "stopwords = StopWordsRemover(inputCol = \"u_words\", outputCol = \"u_words_clear\", stopWords = stopwords)\n",
    "tf_url = HashingTF(numFeatures = 75, inputCol = \"u_words_clear\", outputCol = \"url_tf\")\n",
    "tf_dom = HashingTF(numFeatures = 100, inputCol = \"d_words\", outputCol = \"domain_tf\")\n",
    "\n",
    "tfidf_url = IDF(inputCol = \"url_tf\",    outputCol = \"url_idf\")\n",
    "tfidf_dom = IDF(inputCol = \"domain_tf\", outputCol = \"domain_idf\")\n",
    "\n",
    "\n",
    "pipeline = Pipeline(\n",
    "    stages =[\n",
    "                tkn_url,\n",
    "                tkn_dom,\n",
    "                stopwords,\n",
    "                tf_url,\n",
    "                tf_dom,\n",
    "                tfidf_url,\n",
    "                tfidf_dom\n",
    "                ])\n",
    "\n",
    "tfidf_pipeline = pipeline.fit(agg_).transform(agg_)\n",
    "#label\n",
    "feature_data = StringIndexer(inputCol = \"label\", outputCol = \"indexLabel\").fit(tfidf_pipeline)\\\n",
    "                                                                          .transform(tfidf_pipeline)"
   ]
  },
  {
   "cell_type": "code",
   "execution_count": 16,
   "metadata": {},
   "outputs": [
    {
     "name": "stdout",
     "output_type": "stream",
     "text": [
      "-RECORD 0-----------------------------------------------------------------------------------------------------------------------------------------------------------------------------------------------------------------------------------------------------------------------------------------------------------------------------------------------------------\n",
      " label           | -_-                                                                                                                                                                                                                                                                                                                                              \n",
      " uid             | 0108d217-e476-493d-8c81-a9744f12451a                                                                                                                                                                                                                                                                                                             \n",
      " urls_words      | http kvartblog ru blog cherno belyj novyj god http kvartblog ru blog elka iz fotografij master klass http kvartblog ru blog prazdnichnaja kvartira s kaminom v tsentre madrida                                                                                                                                                                   \n",
      " domains         | kvartblog.ru kvartblog.ru kvartblog.ru                                                                                                                                                                                                                                                                                                           \n",
      " time_max        | 1419843739446                                                                                                                                                                                                                                                                                                                                    \n",
      " time_min        | 1419843601415                                                                                                                                                                                                                                                                                                                                    \n",
      " time_avg        | 1419843670062                                                                                                                                                                                                                                                                                                                                    \n",
      " times_diff_max  | 70121                                                                                                                                                                                                                                                                                                                                            \n",
      " times_diff_min  | 67910                                                                                                                                                                                                                                                                                                                                            \n",
      " times_diff_avg  | 69015.5                                                                                                                                                                                                                                                                                                                                          \n",
      " domain_cnt      | 1                                                                                                                                                                                                                                                                                                                                                \n",
      " change_site_cnt | 0                                                                                                                                                                                                                                                                                                                                                \n",
      " visit_cnt       | 3                                                                                                                                                                                                                                                                                                                                                \n",
      " u_words         | [http, kvartblog, ru, blog, cherno, belyj, novyj, god, http, kvartblog, ru, blog, elka, iz, fotografij, master, klass, http, kvartblog, ru, blog, prazdnichnaja, kvartira, s, kaminom, v, tsentre, madrida]                                                                                                                                      \n",
      " d_words         | [kvartblog.ru, kvartblog.ru, kvartblog.ru]                                                                                                                                                                                                                                                                                                       \n",
      " u_words_clear   | [kvartblog, ru, blog, cherno, belyj, novyj, god, kvartblog, ru, blog, elka, iz, fotografij, master, klass, kvartblog, ru, blog, prazdnichnaja, kvartira, s, kaminom, v, tsentre, madrida]                                                                                                                                                        \n",
      " url_tf          | (75,[2,10,24,34,36,38,40,42,45,48,51,52,61,70,72],[1.0,2.0,1.0,1.0,1.0,1.0,2.0,1.0,7.0,1.0,1.0,1.0,1.0,3.0,1.0])                                                                                                                                                                                                                                 \n",
      " domain_tf       | (100,[57],[3.0])                                                                                                                                                                                                                                                                                                                                 \n",
      " url_idf         | (75,[2,10,24,34,36,38,40,42,45,48,51,52,61,70,72],[0.4881304209644578,1.1995183317013194,0.4608620413350178,0.622510830195803,0.7032861580008227,0.598652750743655,1.3454397881444415,0.5681170246012941,0.46881721741285987,0.6117871084334605,0.6939983168782443,0.6594709068563536,0.6450506089089934,1.1595107986482873,0.5613187856222133]) \n",
      " domain_idf      | (100,[57],[5.972942544011325])                                                                                                                                                                                                                                                                                                                   \n",
      " indexLabel      | 3.0                                                                                                                                                                                                                                                                                                                                              \n",
      "only showing top 1 row\n",
      "\n"
     ]
    }
   ],
   "source": [
    "feature_data.show(1,truncate = False, vertical = True)"
   ]
  },
  {
   "cell_type": "code",
   "execution_count": 17,
   "metadata": {},
   "outputs": [
    {
     "name": "stdout",
     "output_type": "stream",
     "text": [
      "['label', 'uid', 'urls_words', 'domains', 'time_max', 'time_min', 'time_avg', 'times_diff_max', 'times_diff_min', 'times_diff_avg', 'domain_cnt', 'change_site_cnt', 'visit_cnt', 'u_words', 'd_words', 'u_words_clear', 'url_tf', 'domain_tf', 'url_idf', 'domain_idf', 'indexLabel']\n"
     ]
    }
   ],
   "source": [
    "print(feature_data.columns)"
   ]
  },
  {
   "cell_type": "code",
   "execution_count": 18,
   "metadata": {},
   "outputs": [],
   "source": [
    "feature_list=['time_min', 'time_max', 'time_avg'\n",
    "             ,'times_diff_max', 'times_diff_min', 'times_diff_avg', 'visit_cnt'\n",
    "             ,'url_idf', 'domain_idf','domain_cnt','change_site_cnt']\n",
    "assembler = VectorAssembler(inputCols=feature_list, outputCol=\"features\")"
   ]
  },
  {
   "cell_type": "code",
   "execution_count": 19,
   "metadata": {},
   "outputs": [],
   "source": [
    "train = assembler.transform(feature_data.fillna({'times_diff_min': 0, 'times_diff_max': 0,'times_diff_avg': 0}))\\\n",
    "                 .select('uid','indexLabel','features')"
   ]
  },
  {
   "cell_type": "code",
   "execution_count": 20,
   "metadata": {},
   "outputs": [
    {
     "name": "stdout",
     "output_type": "stream",
     "text": [
      "Deleted train_lab04\r\n"
     ]
    }
   ],
   "source": [
    "!hdfs dfs -rm -r -skipTrash train_lab04"
   ]
  },
  {
   "cell_type": "code",
   "execution_count": 21,
   "metadata": {},
   "outputs": [],
   "source": [
    "train.write.parquet('train_lab04',mode='overwrite')\n",
    "train = spark.read.parquet('train_lab04')"
   ]
  },
  {
   "cell_type": "markdown",
   "metadata": {},
   "source": [
    "### Обучение DecisionTreeClassifier и RandomForestClassifier"
   ]
  },
  {
   "cell_type": "code",
   "execution_count": 22,
   "metadata": {},
   "outputs": [],
   "source": [
    "(trainData, testData) = train.randomSplit([0.7, 0.3])\n",
    "\n",
    "trainData = train.sampleBy(\"indexLabel\", \n",
    "    fractions={0: 0.7, 1: 0.7, 2: 0.7, 3: 0.7, 4: 0.7, 5: 0.7\n",
    "              ,6: 0.7, 7: 0.7, 8: 0.7, 9: 0.7,10: 0.7}, seed = 115)\n",
    "testData = train.join(trainData, on=['uid'], how=\"leftanti\")"
   ]
  },
  {
   "cell_type": "code",
   "execution_count": 23,
   "metadata": {},
   "outputs": [
    {
     "name": "stdout",
     "output_type": "stream",
     "text": [
      "+--------------------+----------+--------------------+\n",
      "|                 uid|indexLabel|            features|\n",
      "+--------------------+----------+--------------------+\n",
      "|003b4b27-61f1-44e...|       3.0|(184,[0,1,2,3,4,5...|\n",
      "+--------------------+----------+--------------------+\n",
      "only showing top 1 row\n",
      "\n"
     ]
    }
   ],
   "source": [
    "trainData.show(1)"
   ]
  },
  {
   "cell_type": "markdown",
   "metadata": {},
   "source": [
    "### DecisionTree"
   ]
  },
  {
   "cell_type": "code",
   "execution_count": 24,
   "metadata": {},
   "outputs": [
    {
     "name": "stdout",
     "output_type": "stream",
     "text": [
      "CPU times: user 13.3 ms, sys: 7.58 ms, total: 20.9 ms\n",
      "Wall time: 13.1 s\n"
     ]
    }
   ],
   "source": [
    "%%time\n",
    "decisiontreecls = DecisionTreeClassifier(labelCol = \"indexLabel\", featuresCol = \"features\")\n",
    "model = decisiontreecls.fit(trainData)\n",
    "prediction_train = model.transform(trainData)\n",
    "prediction_test = model.transform(testData)"
   ]
  },
  {
   "cell_type": "code",
   "execution_count": 25,
   "metadata": {},
   "outputs": [
    {
     "name": "stdout",
     "output_type": "stream",
     "text": [
      "CPU times: user 0 ns, sys: 6.64 ms, total: 6.64 ms\n",
      "Wall time: 13.4 s\n"
     ]
    }
   ],
   "source": [
    "%%time\n",
    "evaluator = MulticlassClassificationEvaluator(\n",
    "                         labelCol = \"indexLabel\"\n",
    "                        ,predictionCol = \"prediction\"\n",
    "                        ,metricName = \"accuracy\")\n",
    "accuracy_train = evaluator.evaluate(prediction_train)\n",
    "accuracy_test = evaluator.evaluate(prediction_test)"
   ]
  },
  {
   "cell_type": "code",
   "execution_count": 26,
   "metadata": {},
   "outputs": [
    {
     "name": "stdout",
     "output_type": "stream",
     "text": [
      "0.22518235498436956 0.2193877551020408\n"
     ]
    }
   ],
   "source": [
    "print(accuracy_train, accuracy_test)"
   ]
  },
  {
   "cell_type": "markdown",
   "metadata": {},
   "source": [
    "### RandomForest"
   ]
  },
  {
   "cell_type": "code",
   "execution_count": 27,
   "metadata": {},
   "outputs": [
    {
     "name": "stdout",
     "output_type": "stream",
     "text": [
      "CPU times: user 29.4 ms, sys: 5.22 ms, total: 34.6 ms\n",
      "Wall time: 2min 21s\n"
     ]
    }
   ],
   "source": [
    "%%time\n",
    "randomforestcls = RandomForestClassifier(labelCol = \"indexLabel\", featuresCol = \"features\"\n",
    "                                        ,numTrees = 100,maxDepth = 10)\n",
    "model_randomforest = randomforestcls.fit(trainData)\n",
    "prediction_rf_train = model_randomforest.transform(trainData)\n",
    "predictions_rf_test = model_randomforest.transform(testData)"
   ]
  },
  {
   "cell_type": "code",
   "execution_count": 28,
   "metadata": {},
   "outputs": [
    {
     "name": "stdout",
     "output_type": "stream",
     "text": [
      "CPU times: user 0 ns, sys: 7.12 ms, total: 7.12 ms\n",
      "Wall time: 26.8 s\n"
     ]
    }
   ],
   "source": [
    "%%time\n",
    "accuracy_rf_test = evaluator.evaluate(predictions_rf_test)\n",
    "accuracy_rf_train = evaluator.evaluate(prediction_rf_train)"
   ]
  },
  {
   "cell_type": "code",
   "execution_count": 29,
   "metadata": {},
   "outputs": [
    {
     "name": "stdout",
     "output_type": "stream",
     "text": [
      "0.34588398749565824 0.22376093294460642\n"
     ]
    }
   ],
   "source": [
    "print(accuracy_rf_train, accuracy_rf_test)"
   ]
  },
  {
   "cell_type": "code",
   "execution_count": 30,
   "metadata": {},
   "outputs": [
    {
     "name": "stdout",
     "output_type": "stream",
     "text": [
      "rm: `lab04_model.sav': No such file or directory\r\n"
     ]
    }
   ],
   "source": [
    "!hadoop fs -rm -r -skipTrash lab04_model.sav"
   ]
  },
  {
   "cell_type": "code",
   "execution_count": 31,
   "metadata": {},
   "outputs": [],
   "source": [
    "model_randomforest.save('lab04_model.sav')"
   ]
  },
  {
   "cell_type": "code",
   "execution_count": 32,
   "metadata": {},
   "outputs": [],
   "source": [
    "spark.stop()"
   ]
  },
  {
   "cell_type": "code",
   "execution_count": null,
   "metadata": {},
   "outputs": [],
   "source": []
  }
 ],
 "metadata": {
  "kernelspec": {
   "display_name": "Python 3",
   "language": "python",
   "name": "python3"
  },
  "language_info": {
   "codemirror_mode": {
    "name": "ipython",
    "version": 3
   },
   "file_extension": ".py",
   "mimetype": "text/x-python",
   "name": "python",
   "nbconvert_exporter": "python",
   "pygments_lexer": "ipython3",
   "version": "3.6.5"
  }
 },
 "nbformat": 4,
 "nbformat_minor": 2
}
