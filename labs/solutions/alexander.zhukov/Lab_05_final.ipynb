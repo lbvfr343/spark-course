{
 "cells": [
  {
   "cell_type": "code",
   "execution_count": 1,
   "metadata": {},
   "outputs": [],
   "source": [
    "import org.apache.spark.ml.feature.{StringIndexer, VectorAssembler}\n",
    "\n",
    "import org.apache.spark.ml.classification.GBTClassifier\n",
    "import org.apache.spark.ml.Pipeline\n",
    "import org.apache.spark.sql.functions.{udf, col}\n",
    "import org.apache.spark.ml.linalg.DenseVector"
   ]
  },
  {
   "cell_type": "code",
   "execution_count": 2,
   "metadata": {},
   "outputs": [
    {
     "data": {
      "text/plain": [
       "spark = org.apache.spark.sql.SparkSession@320ec4bf\n"
      ]
     },
     "metadata": {},
     "output_type": "display_data"
    },
    {
     "data": {
      "text/plain": [
       "org.apache.spark.sql.SparkSession@320ec4bf"
      ]
     },
     "execution_count": 2,
     "metadata": {},
     "output_type": "execute_result"
    }
   ],
   "source": [
    "val spark = SparkSession.builder().appName(\"lab5\").getOrCreate()"
   ]
  },
  {
   "cell_type": "code",
   "execution_count": 3,
   "metadata": {},
   "outputs": [
    {
     "data": {
      "text/plain": [
       "df = [_c0: int, ID: int ... 115 more fields]\n"
      ]
     },
     "metadata": {},
     "output_type": "display_data"
    },
    {
     "data": {
      "text/plain": [
       "[_c0: int, ID: int ... 115 more fields]"
      ]
     },
     "execution_count": 3,
     "metadata": {},
     "output_type": "execute_result"
    }
   ],
   "source": [
    "val df = spark.read\n",
    "    .option(\"delimiter\", \",\")\n",
    "    .option(\"header\", true)\n",
    "    .option(\"inferSchema\", \"true\")\n",
    "    .csv(\"/labs/slaba05/lab05_train.csv\")"
   ]
  },
  {
   "cell_type": "code",
   "execution_count": 4,
   "metadata": {},
   "outputs": [
    {
     "data": {
      "text/plain": [
       "test = [_c0: int, ID: int ... 115 more fields]\n"
      ]
     },
     "metadata": {},
     "output_type": "display_data"
    },
    {
     "data": {
      "text/plain": [
       "[_c0: int, ID: int ... 115 more fields]"
      ]
     },
     "execution_count": 4,
     "metadata": {},
     "output_type": "execute_result"
    }
   ],
   "source": [
    "val test = spark.read\n",
    "    .option(\"delimiter\", \",\")\n",
    "    .option(\"header\", true)\n",
    "    .option(\"inferSchema\", \"true\")\n",
    "    .csv(\"/labs/slaba05/lab05_train.csv\")"
   ]
  },
  {
   "cell_type": "code",
   "execution_count": 5,
   "metadata": {},
   "outputs": [
    {
     "data": {
      "text/plain": [
       "categorical_subset = List(CLNT_TRUST_RELATION, APP_MARITAL_STATUS, APP_KIND_OF_PROP_HABITATION, CLNT_JOB_POSITION_TYPE, APP_DRIVING_LICENSE, APP_EDUCATION, APP_TRAVEL_PASS, APP_CAR, APP_POSITION_TYPE, APP_EMP_TYPE, APP_COMP_TYPE, PACK)\n"
      ]
     },
     "metadata": {},
     "output_type": "display_data"
    },
    {
     "data": {
      "text/plain": [
       "List(CLNT_TRUST_RELATION, APP_MARITAL_STATUS, APP_KIND_OF_PROP_HABITATION, CLNT_JOB_POSITION_TYPE, APP_DRIVING_LICENSE, APP_EDUCATION, APP_TRAVEL_PASS, APP_CAR, APP_POSITION_TYPE, APP_EMP_TYPE, APP_COMP_TYPE, PACK)"
      ]
     },
     "execution_count": 5,
     "metadata": {},
     "output_type": "execute_result"
    }
   ],
   "source": [
    "val categorical_subset = List(\n",
    "    \"CLNT_TRUST_RELATION\", \n",
    "    \"APP_MARITAL_STATUS\", \n",
    "    \"APP_KIND_OF_PROP_HABITATION\", \n",
    "    \"CLNT_JOB_POSITION_TYPE\",\n",
    "    \"APP_DRIVING_LICENSE\", \n",
    "    \"APP_EDUCATION\", \n",
    "    \"APP_TRAVEL_PASS\", \n",
    "    \"APP_CAR\", \n",
    "    \"APP_POSITION_TYPE\",\n",
    "    \"APP_EMP_TYPE\", \n",
    "    \"APP_COMP_TYPE\", \n",
    "    \"PACK\"\n",
    ")"
   ]
  },
  {
   "cell_type": "code",
   "execution_count": 6,
   "metadata": {},
   "outputs": [
    {
     "data": {
      "text/plain": [
       "df_cat = [CLNT_TRUST_RELATION: string, APP_MARITAL_STATUS: string ... 10 more fields]\n"
      ]
     },
     "metadata": {},
     "output_type": "display_data"
    },
    {
     "data": {
      "text/plain": [
       "[CLNT_TRUST_RELATION: string, APP_MARITAL_STATUS: string ... 10 more fields]"
      ]
     },
     "execution_count": 6,
     "metadata": {},
     "output_type": "execute_result"
    }
   ],
   "source": [
    "val df_cat = df.select(categorical_subset.map(m=>col(m)):_*)"
   ]
  },
  {
   "cell_type": "code",
   "execution_count": 7,
   "metadata": {},
   "outputs": [
    {
     "data": {
      "text/plain": [
       "encoded_features = Array(strIdx_abf0500ceb28, strIdx_a6cf82958584, strIdx_63dbaee2b03c, strIdx_5c03167afcb8, strIdx_ee7a9d4292c6, strIdx_cea3aee2056a, strIdx_3faa48d0e3c1, strIdx_ca5dfca33d15, strIdx_be5ee4f8590b, strIdx_c9da0f5a8815, strIdx_57b5cbebc535, strIdx_a1e5c98c228f)\n"
      ]
     },
     "metadata": {},
     "output_type": "display_data"
    },
    {
     "data": {
      "text/plain": [
       "Array(strIdx_abf0500ceb28, strIdx_a6cf82958584, strIdx_63dbaee2b03c, strIdx_5c03167afcb8, strIdx_ee7a9d4292c6, strIdx_cea3aee2056a, strIdx_3faa48d0e3c1, strIdx_ca5dfca33d15, strIdx_be5ee4f8590b, strIdx_c9da0f5a8815, strIdx_57b5cbebc535, strIdx_a1e5c98c228f)"
      ]
     },
     "execution_count": 7,
     "metadata": {},
     "output_type": "execute_result"
    }
   ],
   "source": [
    "val encoded_features = df_cat.columns.flatMap{ name => \n",
    "    val indexer = new StringIndexer()\n",
    "        .setInputCol(name)\n",
    "        .setOutputCol(name + \"_ind\")    \n",
    "    Array(indexer)\n",
    "}.toArray"
   ]
  },
  {
   "cell_type": "code",
   "execution_count": 8,
   "metadata": {},
   "outputs": [
    {
     "data": {
      "text/plain": [
       "filled_df = [_c0: int, ID: int ... 115 more fields]\n"
      ]
     },
     "metadata": {},
     "output_type": "display_data"
    },
    {
     "data": {
      "text/plain": [
       "[_c0: int, ID: int ... 115 more fields]"
      ]
     },
     "execution_count": 8,
     "metadata": {},
     "output_type": "execute_result"
    }
   ],
   "source": [
    "val filled_df = df.na.fill(\"Unknown\", categorical_subset.toArray).na.fill(0)"
   ]
  },
  {
   "cell_type": "code",
   "execution_count": 9,
   "metadata": {},
   "outputs": [
    {
     "data": {
      "text/plain": [
       "pipeline = pipeline_bda299a5495b\n",
       "indexer_model = pipeline_bda299a5495b\n"
      ]
     },
     "metadata": {},
     "output_type": "display_data"
    },
    {
     "data": {
      "text/plain": [
       "pipeline_bda299a5495b"
      ]
     },
     "execution_count": 9,
     "metadata": {},
     "output_type": "execute_result"
    }
   ],
   "source": [
    "val pipeline = new Pipeline().setStages(encoded_features)\n",
    "val indexer_model = pipeline.fit(filled_df)"
   ]
  },
  {
   "cell_type": "code",
   "execution_count": 10,
   "metadata": {},
   "outputs": [
    {
     "data": {
      "text/plain": [
       "df_transformed = [_c0: int, ID: int ... 127 more fields]\n"
      ]
     },
     "metadata": {},
     "output_type": "display_data"
    },
    {
     "data": {
      "text/plain": [
       "[_c0: int, ID: int ... 127 more fields]"
      ]
     },
     "execution_count": 10,
     "metadata": {},
     "output_type": "execute_result"
    }
   ],
   "source": [
    "val df_transformed = indexer_model.transform(filled_df)"
   ]
  },
  {
   "cell_type": "code",
   "execution_count": 11,
   "metadata": {},
   "outputs": [
    {
     "data": {
      "text/plain": [
       "igrnore_cols = Array(CLNT_TRUST_RELATION, APP_MARITAL_STATUS, APP_KIND_OF_PROP_HABITATION, CLNT_JOB_POSITION_TYPE, APP_DRIVING_LICENSE, APP_EDUCATION, APP_TRAVEL_PASS, APP_CAR, APP_POSITION_TYPE, APP_EMP_TYPE, APP_COMP_TYPE, PACK, _c0, ID, TARGET, CLNT_JOB_POSITION)\n",
       "assembler_cols = Array(SUM_TRAN_CLO_TENDENCY1M, LDEAL_USED_AMT_AVG_YWZ, CNT_TRAN_AUT_TENDENCY3M, AMOUNT_RUB_SUP_PRC, REST_DYNAMIC_PAYM_3M, LDEAL_ACT_DAYS_PCT_TR3, PRC_ACCEPTS_A_MTP, AMOUNT_RUB_CLO_PRC, APP_KIND_OF_PROP_HABITATION_ind, TURNOVER_DYNAMIC_PAYM_3M, APP_DRIVING_LICENSE_ind, AMOUNT_RUB_NAS_PRC, CR_PROD_CNT_CCFP, LDEAL_TENOR_MAX, CNT_TRAN_SUP_TENDENCY3M, SUM_TRAN_AUT_TENDENCY3M, CNT_TRAN_MED_TENDENCY3M, REST_AVG_PAYM, REST_DYNAMIC_CC_3M, DEAL_YWZ_IR_MAX, PRC_ACCEPTS_A_ATM, MAX_PCLOSE_DA...\n"
      ]
     },
     "metadata": {},
     "output_type": "display_data"
    },
    {
     "data": {
      "text/plain": [
       "Array(SUM_TRAN_CLO_TENDENCY1M, LDEAL_USED_AMT_AVG_YWZ, CNT_TRAN_AUT_TENDENCY3M, AMOUNT_RUB_SUP_PRC, REST_DYNAMIC_PAYM_3M, LDEAL_ACT_DAYS_PCT_TR3, PRC_ACCEPTS_A_MTP, AMOUNT_RUB_CLO_PRC, APP_KIND_OF_PROP_HABITATION_ind, TURNOVER_DYNAMIC_PAYM_3M, APP_DRIVING_LICENSE_ind, AMOUNT_RUB_NAS_PRC, CR_PROD_CNT_CCFP, LDEAL_TENOR_MAX, CNT_TRAN_SUP_TENDENCY3M, SUM_TRAN_AUT_TENDENCY3M, CNT_TRAN_MED_TENDENCY3M, REST_AVG_PAYM, REST_DYNAMIC_CC_3M, DEAL_YWZ_IR_MAX, PRC_ACCEPTS_A_ATM, MAX_PCLOSE_DA..."
      ]
     },
     "execution_count": 11,
     "metadata": {},
     "output_type": "execute_result"
    }
   ],
   "source": [
    "val igrnore_cols = df_cat.columns ++ Array(\"_c0\", \"ID\", \"TARGET\", \"CLNT_JOB_POSITION\")\n",
    "val assembler_cols = (df_transformed.columns.toSet -- igrnore_cols.toSet).toArray"
   ]
  },
  {
   "cell_type": "code",
   "execution_count": 12,
   "metadata": {},
   "outputs": [
    {
     "data": {
      "text/plain": [
       "assembler = vecAssembler_feda7e7b10a2\n"
      ]
     },
     "metadata": {},
     "output_type": "display_data"
    },
    {
     "data": {
      "text/plain": [
       "vecAssembler_feda7e7b10a2"
      ]
     },
     "execution_count": 12,
     "metadata": {},
     "output_type": "execute_result"
    }
   ],
   "source": [
    "val assembler = new VectorAssembler()\n",
    "                    .setInputCols(assembler_cols.map(_.toString))\n",
    "                    .setOutputCol(\"features\")"
   ]
  },
  {
   "cell_type": "code",
   "execution_count": 13,
   "metadata": {},
   "outputs": [
    {
     "data": {
      "text/plain": [
       "assembler = vecAssembler_6b428790bdba\n",
       "gbt = gbtc_cc4da1ce86a4\n",
       "pipelineGBT = pipeline_e5d945af7216\n"
      ]
     },
     "metadata": {},
     "output_type": "display_data"
    },
    {
     "data": {
      "text/plain": [
       "pipeline_e5d945af7216"
      ]
     },
     "execution_count": 13,
     "metadata": {},
     "output_type": "execute_result"
    }
   ],
   "source": [
    "val assembler = new VectorAssembler()\n",
    "                    .setInputCols(assembler_cols.map(_.toString))\n",
    "                    .setOutputCol(\"features\")\n",
    "\n",
    "val gbt = new GBTClassifier().setFeaturesCol(\"features\").setLabelCol(\"TARGET\")\n",
    "\n",
    "val pipelineGBT = new Pipeline().setStages(Array(assembler, gbt))"
   ]
  },
  {
   "cell_type": "code",
   "execution_count": 14,
   "metadata": {},
   "outputs": [
    {
     "data": {
      "text/plain": [
       "model = pipeline_e5d945af7216\n"
      ]
     },
     "metadata": {},
     "output_type": "display_data"
    },
    {
     "data": {
      "text/plain": [
       "pipeline_e5d945af7216"
      ]
     },
     "execution_count": 14,
     "metadata": {},
     "output_type": "execute_result"
    }
   ],
   "source": [
    "val model = pipelineGBT.fit(df_transformed)"
   ]
  },
  {
   "cell_type": "code",
   "execution_count": null,
   "metadata": {},
   "outputs": [],
   "source": []
  },
  {
   "cell_type": "code",
   "execution_count": 15,
   "metadata": {},
   "outputs": [
    {
     "data": {
      "text/plain": [
       "filled_test = [_c0: int, ID: int ... 115 more fields]\n"
      ]
     },
     "metadata": {},
     "output_type": "display_data"
    },
    {
     "data": {
      "text/plain": [
       "[_c0: int, ID: int ... 115 more fields]"
      ]
     },
     "execution_count": 15,
     "metadata": {},
     "output_type": "execute_result"
    }
   ],
   "source": [
    "val filled_test = test.na.fill(\"Unknown\", categorical_subset.toArray).na.fill(0)"
   ]
  },
  {
   "cell_type": "code",
   "execution_count": 16,
   "metadata": {},
   "outputs": [
    {
     "data": {
      "text/plain": [
       "df_test = [_c0: int, ID: int ... 127 more fields]\n"
      ]
     },
     "metadata": {},
     "output_type": "display_data"
    },
    {
     "data": {
      "text/plain": [
       "[_c0: int, ID: int ... 127 more fields]"
      ]
     },
     "execution_count": 16,
     "metadata": {},
     "output_type": "execute_result"
    }
   ],
   "source": [
    "val df_test = indexer_model.transform(filled_test)"
   ]
  },
  {
   "cell_type": "code",
   "execution_count": 17,
   "metadata": {},
   "outputs": [
    {
     "data": {
      "text/plain": [
       "prediction = [_c0: int, ID: int ... 131 more fields]\n"
      ]
     },
     "metadata": {},
     "output_type": "display_data"
    },
    {
     "data": {
      "text/plain": [
       "[_c0: int, ID: int ... 131 more fields]"
      ]
     },
     "execution_count": 17,
     "metadata": {},
     "output_type": "execute_result"
    }
   ],
   "source": [
    "val prediction = model.transform(df_test)"
   ]
  },
  {
   "cell_type": "code",
   "execution_count": null,
   "metadata": {},
   "outputs": [],
   "source": []
  },
  {
   "cell_type": "code",
   "execution_count": 18,
   "metadata": {},
   "outputs": [
    {
     "data": {
      "text/plain": [
       "toArr = > Array[Double] = <function1>\n",
       "toArrUdf = UserDefinedFunction(<function1>,ArrayType(DoubleType,false),None)\n"
      ]
     },
     "metadata": {},
     "output_type": "display_data"
    },
    {
     "data": {
      "text/plain": [
       "UserDefinedFunction(<function1>,ArrayType(DoubleType,false),None)"
      ]
     },
     "execution_count": 18,
     "metadata": {},
     "output_type": "execute_result"
    }
   ],
   "source": [
    "val toArr: Any => Array[Double] = _.asInstanceOf[DenseVector].toArray\n",
    "val toArrUdf = udf(toArr)"
   ]
  },
  {
   "cell_type": "code",
   "execution_count": 19,
   "metadata": {},
   "outputs": [
    {
     "data": {
      "text/plain": [
       "result = [id: int, target: double]\n"
      ]
     },
     "metadata": {},
     "output_type": "display_data"
    },
    {
     "data": {
      "text/plain": [
       "[id: int, target: double]"
      ]
     },
     "execution_count": 19,
     "metadata": {},
     "output_type": "execute_result"
    }
   ],
   "source": [
    "val result = prediction.select(col(\"ID\").alias(\"id\"), toArrUdf(col(\"probability\")).getItem(1).alias(\"target\"))"
   ]
  },
  {
   "cell_type": "code",
   "execution_count": 20,
   "metadata": {},
   "outputs": [],
   "source": [
    "result.coalesce(1).write\n",
    "    .option(\"header\", \"true\")\n",
    "    .option(\"delimiter\",\"\\t\")\n",
    "    .mode(\"overwrite\")\n",
    "    .csv(\"lab05.csv\")"
   ]
  },
  {
   "cell_type": "code",
   "execution_count": null,
   "metadata": {},
   "outputs": [],
   "source": []
  }
 ],
 "metadata": {
  "kernelspec": {
   "display_name": "Apache Toree - Scala",
   "language": "scala",
   "name": "apache_toree_scala"
  },
  "language_info": {
   "codemirror_mode": "text/x-scala",
   "file_extension": ".scala",
   "mimetype": "text/x-scala",
   "name": "scala",
   "pygments_lexer": "scala",
   "version": "2.11.12"
  }
 },
 "nbformat": 4,
 "nbformat_minor": 2
}
