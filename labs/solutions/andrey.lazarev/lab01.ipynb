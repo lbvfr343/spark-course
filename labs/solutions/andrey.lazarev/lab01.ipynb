{
 "cells": [
  {
   "cell_type": "code",
   "execution_count": 5,
   "metadata": {},
   "outputs": [
    {
     "name": "stdout",
     "output_type": "stream",
     "text": [
      "Welcome to\n",
      "      ____              __\n",
      "     / __/__  ___ _____/ /__\n",
      "    _\\ \\/ _ \\/ _ `/ __/  '_/\n",
      "   /__ / .__/\\_,_/_/ /_/\\_\\   version 2.4.7\n",
      "      /_/\n",
      "\n",
      "Using Python version 3.6.5 (default, Apr 29 2018 16:14:56)\n",
      "SparkSession available as 'spark'.\n"
     ]
    }
   ],
   "source": [
    "import os\n",
    "import sys\n",
    "os.environ[\"PYSPARK_PYTHON\"]='/opt/anaconda/envs/bd9/bin/python'\n",
    "os.environ[\"SPARK_HOME\"]='/usr/hdp/current/spark2-client'\n",
    "os.environ[\"PYSPARK_SUBMIT_ARGS\"]='--num-executors 2 pyspark-shell'\n",
    "\n",
    "spark_home = os.environ.get('SPARK_HOME', None)\n",
    "if not spark_home:\n",
    "    raise ValueError('SPARK_HOME environment variable is not set')\n",
    "\n",
    "sys.path.insert(0, os.path.join(spark_home, 'python'))\n",
    "sys.path.insert(0, os.path.join(spark_home, 'python/lib/py4j-0.10.7-src.zip'))\n",
    "exec(open(os.path.join(spark_home, 'python/pyspark/shell.py')).read())"
   ]
  },
  {
   "cell_type": "code",
   "execution_count": 6,
   "metadata": {},
   "outputs": [
    {
     "name": "stdout",
     "output_type": "stream",
     "text": [
      "Found 23 items\r\n",
      "-rw-r--r--   3 hdfs hdfs       6750 2022-01-06 18:46 /labs/laba01/ml-100k/README\r\n",
      "-rw-r--r--   3 hdfs hdfs        716 2022-01-06 18:46 /labs/laba01/ml-100k/allbut.pl\r\n",
      "-rw-r--r--   3 hdfs hdfs        643 2022-01-06 18:46 /labs/laba01/ml-100k/mku.sh\r\n",
      "-rw-r--r--   3 hdfs hdfs    1979173 2022-01-06 18:46 /labs/laba01/ml-100k/u.data\r\n",
      "-rw-r--r--   3 hdfs hdfs        202 2022-01-06 18:46 /labs/laba01/ml-100k/u.genre\r\n",
      "-rw-r--r--   3 hdfs hdfs         36 2022-01-06 18:46 /labs/laba01/ml-100k/u.info\r\n",
      "-rw-r--r--   3 hdfs hdfs     236344 2022-01-06 18:46 /labs/laba01/ml-100k/u.item\r\n",
      "-rw-r--r--   3 hdfs hdfs        193 2022-01-06 18:46 /labs/laba01/ml-100k/u.occupation\r\n",
      "-rw-r--r--   3 hdfs hdfs      22628 2022-01-06 18:46 /labs/laba01/ml-100k/u.user\r\n",
      "-rw-r--r--   3 hdfs hdfs    1586544 2022-01-06 18:46 /labs/laba01/ml-100k/u1.base\r\n",
      "-rw-r--r--   3 hdfs hdfs     392629 2022-01-06 18:46 /labs/laba01/ml-100k/u1.test\r\n",
      "-rw-r--r--   3 hdfs hdfs    1583948 2022-01-06 18:46 /labs/laba01/ml-100k/u2.base\r\n",
      "-rw-r--r--   3 hdfs hdfs     395225 2022-01-06 18:46 /labs/laba01/ml-100k/u2.test\r\n",
      "-rw-r--r--   3 hdfs hdfs    1582546 2022-01-06 18:46 /labs/laba01/ml-100k/u3.base\r\n",
      "-rw-r--r--   3 hdfs hdfs     396627 2022-01-06 18:46 /labs/laba01/ml-100k/u3.test\r\n",
      "-rw-r--r--   3 hdfs hdfs    1581878 2022-01-06 18:46 /labs/laba01/ml-100k/u4.base\r\n",
      "-rw-r--r--   3 hdfs hdfs     397295 2022-01-06 18:46 /labs/laba01/ml-100k/u4.test\r\n",
      "-rw-r--r--   3 hdfs hdfs    1581776 2022-01-06 18:46 /labs/laba01/ml-100k/u5.base\r\n",
      "-rw-r--r--   3 hdfs hdfs     397397 2022-01-06 18:46 /labs/laba01/ml-100k/u5.test\r\n",
      "-rw-r--r--   3 hdfs hdfs    1792501 2022-01-06 18:46 /labs/laba01/ml-100k/ua.base\r\n",
      "-rw-r--r--   3 hdfs hdfs     186672 2022-01-06 18:46 /labs/laba01/ml-100k/ua.test\r\n",
      "-rw-r--r--   3 hdfs hdfs    1792476 2022-01-06 18:46 /labs/laba01/ml-100k/ub.base\r\n",
      "-rw-r--r--   3 hdfs hdfs     186697 2022-01-06 18:46 /labs/laba01/ml-100k/ub.test\r\n"
     ]
    }
   ],
   "source": [
    "!hdfs dfs -ls /labs/laba01/ml-100k"
   ]
  },
  {
   "cell_type": "code",
   "execution_count": 86,
   "metadata": {},
   "outputs": [],
   "source": [
    "# rdd2 = sc.textFile(\"/labs/laba01/ml-100k/u.item\").map(lambda x: x.split(\"|\"))\n",
    "# rdd2filter = rdd2.filter(lambda x: x[0] == '1')"
   ]
  },
  {
   "cell_type": "code",
   "execution_count": 87,
   "metadata": {},
   "outputs": [
    {
     "data": {
      "text/plain": [
       "[['1',\n",
       "  'Toy Story (1995)',\n",
       "  '01-Jan-1995',\n",
       "  '',\n",
       "  'http://us.imdb.com/M/title-exact?Toy%20Story%20(1995)',\n",
       "  '0',\n",
       "  '0',\n",
       "  '0',\n",
       "  '1',\n",
       "  '1',\n",
       "  '1',\n",
       "  '0',\n",
       "  '0',\n",
       "  '0',\n",
       "  '0',\n",
       "  '0',\n",
       "  '0',\n",
       "  '0',\n",
       "  '0',\n",
       "  '0',\n",
       "  '0',\n",
       "  '0',\n",
       "  '0',\n",
       "  '0']]"
      ]
     },
     "execution_count": 87,
     "metadata": {},
     "output_type": "execute_result"
    }
   ],
   "source": [
    "# rdd2filter.take(5)"
   ]
  },
  {
   "cell_type": "code",
   "execution_count": 13,
   "metadata": {},
   "outputs": [],
   "source": [
    "# !hdfs dfs -ls /labs/laba01/ml-100k/u.data"
   ]
  },
  {
   "cell_type": "code",
   "execution_count": 14,
   "metadata": {},
   "outputs": [],
   "source": [
    "rdd = sc.textFile(\"/labs/laba01/ml-100k/u.data\").map(lambda x: x.split(\"\\t\"))\n",
    "#######################Беру данные и разделяю по табуляции\n"
   ]
  },
  {
   "cell_type": "code",
   "execution_count": 15,
   "metadata": {},
   "outputs": [],
   "source": [
    "rdd_filtered = rdd.filter(lambda x: x[1] == \"96\"  )##########Выбираю id фильм  "
   ]
  },
  {
   "cell_type": "code",
   "execution_count": 218,
   "metadata": {},
   "outputs": [
    {
     "data": {
      "text/plain": [
       "[['42', '96', '5', '881107178'],\n",
       " ['193', '96', '1', '889124507'],\n",
       " ['200', '96', '5', '884129409'],\n",
       " ['197', '96', '5', '891409839'],\n",
       " ['263', '96', '4', '891298336'],\n",
       " ['239', '96', '5', '889178798'],\n",
       " ['188', '96', '5', '875073128'],\n",
       " ['279', '96', '4', '875310606'],\n",
       " ['313', '96', '5', '891015144'],\n",
       " ['262', '96', '4', '879793022'],\n",
       " ['175', '96', '3', '877108051'],\n",
       " ['183', '96', '3', '891463617'],\n",
       " ['210', '96', '4', '887736616'],\n",
       " ['22', '96', '5', '878887680'],\n",
       " ['95', '96', '4', '879196298'],\n",
       " ['280', '96', '4', '891700664'],\n",
       " ['62', '96', '4', '879374835'],\n",
       " ['12', '96', '4', '879959583'],\n",
       " ['296', '96', '5', '884197287'],\n",
       " ['1', '96', '5', '875072716'],\n",
       " ['222', '96', '5', '878181739'],\n",
       " ['286', '96', '4', '877532385'],\n",
       " ['16', '96', '5', '877717833'],\n",
       " ['303', '96', '5', '879466830'],\n",
       " ['189', '96', '5', '893265971'],\n",
       " ['90', '96', '4', '891384754'],\n",
       " ['234', '96', '2', '892334141'],\n",
       " ['109', '96', '5', '880572614'],\n",
       " ['312', '96', '5', '891699040'],\n",
       " ['56', '96', '5', '892676429'],\n",
       " ['232', '96', '5', '888549563'],\n",
       " ['87', '96', '5', '879875734'],\n",
       " ['352', '96', '4', '884290328'],\n",
       " ['144', '96', '5', '888105691'],\n",
       " ['124', '96', '4', '890399864'],\n",
       " ['92', '96', '4', '875656025'],\n",
       " ['94', '96', '3', '885872942'],\n",
       " ['368', '96', '3', '889783678'],\n",
       " ['301', '96', '5', '882076239'],\n",
       " ['72', '96', '5', '880037203'],\n",
       " ['178', '96', '4', '882826782'],\n",
       " ['405', '96', '3', '885544881'],\n",
       " ['230', '96', '2', '880484683'],\n",
       " ['248', '96', '4', '884534968'],\n",
       " ['44', '96', '4', '878347633'],\n",
       " ['347', '96', '4', '881653775'],\n",
       " ['64', '96', '4', '889737748'],\n",
       " ['103', '96', '4', '880422009'],\n",
       " ['70', '96', '4', '884066910'],\n",
       " ['102', '96', '3', '888801316'],\n",
       " ['327', '96', '2', '887822530'],\n",
       " ['363', '96', '5', '891494835'],\n",
       " ['114', '96', '3', '881259955'],\n",
       " ['96', '96', '4', '884403531'],\n",
       " ['250', '96', '2', '878090254'],\n",
       " ['110', '96', '4', '886988449'],\n",
       " ['305', '96', '3', '886324172'],\n",
       " ['13', '96', '4', '882140104'],\n",
       " ['402', '96', '5', '876267234'],\n",
       " ['119', '96', '5', '874781257'],\n",
       " ['387', '96', '4', '886480447'],\n",
       " ['158', '96', '4', '880134332'],\n",
       " ['484', '96', '5', '891195323'],\n",
       " ['436', '96', '4', '887769535'],\n",
       " ['452', '96', '2', '875275699'],\n",
       " ['493', '96', '4', '884130793'],\n",
       " ['514', '96', '5', '875311192'],\n",
       " ['167', '96', '5', '892738307'],\n",
       " ['269', '96', '1', '891450755'],\n",
       " ['14', '96', '4', '890881433'],\n",
       " ['272', '96', '5', '879454845'],\n",
       " ['97', '96', '5', '884239712'],\n",
       " ['504', '96', '4', '887840098'],\n",
       " ['53', '96', '4', '879442514'],\n",
       " ['115', '96', '3', '881172117'],\n",
       " ['457', '96', '5', '882553113'],\n",
       " ['532', '96', '5', '892867296'],\n",
       " ['454', '96', '4', '888266600'],\n",
       " ['522', '96', '3', '876961076'],\n",
       " ['326', '96', '3', '879875057'],\n",
       " ['308', '96', '4', '887737432'],\n",
       " ['412', '96', '5', '879717286'],\n",
       " ['159', '96', '4', '884360539'],\n",
       " ['49', '96', '1', '888069512'],\n",
       " ['373', '96', '4', '877098262'],\n",
       " ['533', '96', '4', '879438767'],\n",
       " ['253', '96', '5', '891628651'],\n",
       " ['421', '96', '4', '892241343'],\n",
       " ['221', '96', '5', '875245672'],\n",
       " ['295', '96', '1', '879517299'],\n",
       " ['606', '96', '5', '880925074'],\n",
       " ['618', '96', '3', '891307749'],\n",
       " ['417', '96', '3', '879646915'],\n",
       " ['275', '96', '3', '880314914'],\n",
       " ['543', '96', '4', '875665787'],\n",
       " ['625', '96', '5', '892000372'],\n",
       " ['648', '96', '5', '884368538'],\n",
       " ['632', '96', '5', '879457902'],\n",
       " ['566', '96', '3', '881650171'],\n",
       " ['447', '96', '5', '878855847'],\n",
       " ['505', '96', '4', '889333442'],\n",
       " ['660', '96', '3', '891200430'],\n",
       " ['429', '96', '4', '882387053'],\n",
       " ['466', '96', '5', '890284819'],\n",
       " ['527', '96', '4', '879456611'],\n",
       " ['37', '96', '4', '880915810'],\n",
       " ['249', '96', '4', '879572600'],\n",
       " ['344', '96', '4', '889814195'],\n",
       " ['659', '96', '4', '891384552'],\n",
       " ['480', '96', '4', '891208623'],\n",
       " ['407', '96', '3', '875042569'],\n",
       " ['658', '96', '4', '875147873'],\n",
       " ['487', '96', '5', '883446801'],\n",
       " ['621', '96', '5', '874963797'],\n",
       " ['488', '96', '3', '891294014'],\n",
       " ['23', '96', '4', '874785551'],\n",
       " ['496', '96', '4', '876065881'],\n",
       " ['746', '96', '4', '885075267'],\n",
       " ['246', '96', '3', '884920900'],\n",
       " ['332', '96', '5', '887939051']]"
      ]
     },
     "execution_count": 218,
     "metadata": {},
     "output_type": "execute_result"
    }
   ],
   "source": [
    "rdd_filtered.take(120)########Проверяю данные"
   ]
  },
  {
   "cell_type": "code",
   "execution_count": 138,
   "metadata": {},
   "outputs": [],
   "source": [
    "#w = rdd_filtered.map(lambda x:  x[2])#.groupBy(lambda x: x[2])"
   ]
  },
  {
   "cell_type": "code",
   "execution_count": 145,
   "metadata": {},
   "outputs": [
    {
     "data": {
      "text/plain": [
       "5"
      ]
     },
     "execution_count": 145,
     "metadata": {},
     "output_type": "execute_result"
    }
   ],
   "source": [
    "#w.map(lambda x: x).groupBy(lambda x: x).count()"
   ]
  },
  {
   "cell_type": "code",
   "execution_count": 16,
   "metadata": {},
   "outputs": [],
   "source": [
    "a=rdd_filtered.map(lambda x: x[2]).countByKey().items() ########Делаю group by для данных"
   ]
  },
  {
   "cell_type": "code",
   "execution_count": 17,
   "metadata": {},
   "outputs": [
    {
     "data": {
      "text/plain": [
       "[('1', 6), ('2', 20), ('3', 43), ('4', 123), ('5', 103)]"
      ]
     },
     "execution_count": 17,
     "metadata": {},
     "output_type": "execute_result"
    }
   ],
   "source": [
    "sc.parallelize(a).sortByKey(True,1).collect()########Сортирую данные"
   ]
  },
  {
   "cell_type": "code",
   "execution_count": 18,
   "metadata": {},
   "outputs": [
    {
     "data": {
      "text/plain": [
       "[('1', 6), ('2', 20), ('3', 43), ('4', 123), ('5', 103)]"
      ]
     },
     "execution_count": 18,
     "metadata": {},
     "output_type": "execute_result"
    }
   ],
   "source": [
    "z= sc.parallelize(rdd_filtered.map(lambda x: x[2]).countByKey().items()).sortByKey(True,1).collect()#########Делаю group by и сортировку одновременно\n",
    "z"
   ]
  },
  {
   "cell_type": "code",
   "execution_count": 235,
   "metadata": {},
   "outputs": [
    {
     "data": {
      "text/plain": [
       "{'hist_film': [6, 20, 43, 123, 103]}"
      ]
     },
     "execution_count": 235,
     "metadata": {},
     "output_type": "execute_result"
    }
   ],
   "source": [
    "# r = dict(hist_film=[x[1] for x in z])\n",
    "# r"
   ]
  },
  {
   "cell_type": "code",
   "execution_count": 231,
   "metadata": {},
   "outputs": [],
   "source": [
    "# with open('Лаб1.json', 'w') as f:\n",
    "#     json.dump(r, f, indent=4)"
   ]
  },
  {
   "cell_type": "code",
   "execution_count": null,
   "metadata": {},
   "outputs": [],
   "source": [
    "################################################################################"
   ]
  },
  {
   "cell_type": "code",
   "execution_count": 194,
   "metadata": {},
   "outputs": [],
   "source": [
    "#################################################################################"
   ]
  },
  {
   "cell_type": "code",
   "execution_count": null,
   "metadata": {},
   "outputs": [],
   "source": [
    "#################################################################################"
   ]
  },
  {
   "cell_type": "code",
   "execution_count": 8,
   "metadata": {},
   "outputs": [],
   "source": [
    "rdd_filtered1 = rdd.filter(lambda x: x  )"
   ]
  },
  {
   "cell_type": "code",
   "execution_count": 9,
   "metadata": {},
   "outputs": [
    {
     "data": {
      "text/plain": [
       "[['196', '242', '3', '881250949'],\n",
       " ['186', '302', '3', '891717742'],\n",
       " ['22', '377', '1', '878887116'],\n",
       " ['244', '51', '2', '880606923'],\n",
       " ['166', '346', '1', '886397596']]"
      ]
     },
     "execution_count": 9,
     "metadata": {},
     "output_type": "execute_result"
    }
   ],
   "source": [
    "rdd_filtered1.take(5)########Проверяю данные"
   ]
  },
  {
   "cell_type": "code",
   "execution_count": 11,
   "metadata": {},
   "outputs": [
    {
     "data": {
      "text/plain": [
       "[('1', 6110), ('2', 11370), ('3', 27145), ('4', 34174), ('5', 21201)]"
      ]
     },
     "execution_count": 11,
     "metadata": {},
     "output_type": "execute_result"
    }
   ],
   "source": [
    "z1= sc.parallelize(rdd_filtered1.map(lambda x: x[2]).countByKey().items()).sortByKey(True,1).collect()#########Делаю group by и сортировку одновременно\n",
    "z1"
   ]
  },
  {
   "cell_type": "code",
   "execution_count": 19,
   "metadata": {},
   "outputs": [],
   "source": [
    "r1 = dict(hist_film=[x[1] for x in z], hist_all=[x[1] for x in z1]) ##########Вывод значения"
   ]
  },
  {
   "cell_type": "code",
   "execution_count": 20,
   "metadata": {},
   "outputs": [
    {
     "data": {
      "text/plain": [
       "{'hist_film': [6, 20, 43, 123, 103],\n",
       " 'hist_all': [6110, 11370, 27145, 34174, 21201]}"
      ]
     },
     "execution_count": 20,
     "metadata": {},
     "output_type": "execute_result"
    }
   ],
   "source": [
    "r1"
   ]
  },
  {
   "cell_type": "code",
   "execution_count": 236,
   "metadata": {},
   "outputs": [],
   "source": [
    "with open('lab01.json', 'w') as f:##############\n",
    "    json.dump(r1 , f, indent=4)#################Сохранение в json "
   ]
  },
  {
   "cell_type": "code",
   "execution_count": null,
   "metadata": {},
   "outputs": [],
   "source": []
  }
 ],
 "metadata": {
  "kernelspec": {
   "display_name": "Python 3",
   "language": "python",
   "name": "python3"
  },
  "language_info": {
   "codemirror_mode": {
    "name": "ipython",
    "version": 3
   },
   "file_extension": ".py",
   "mimetype": "text/x-python",
   "name": "python",
   "nbconvert_exporter": "python",
   "pygments_lexer": "ipython3",
   "version": "3.6.5"
  }
 },
 "nbformat": 4,
 "nbformat_minor": 2
}
