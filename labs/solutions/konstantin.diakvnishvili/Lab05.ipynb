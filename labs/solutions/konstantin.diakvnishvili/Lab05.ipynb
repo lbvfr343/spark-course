{
 "cells": [
  {
   "cell_type": "code",
   "execution_count": 42,
   "metadata": {},
   "outputs": [],
   "source": [
    "import org.apache.spark.ml.linalg. DenseVector\n",
    "import org.apache.spark.sql.types.IntegerType\n",
    "import org.apache.spark.sql.functions.{col, round, udf}\n",
    "import org.apache.spark.ml.Pipeline\n",
    "import org.apache.spark.ml.feature.VectorAssembler\n",
    "import org.apache.spark.ml.classification.GBTClassifier\n",
    "import org.apache.spark.ml.evaluation.BinaryClassificationEvaluator"
   ]
  },
  {
   "cell_type": "code",
   "execution_count": 2,
   "metadata": {},
   "outputs": [
    {
     "data": {
      "text/plain": [
       "Waiting for a Spark session to start..."
      ]
     },
     "metadata": {},
     "output_type": "display_data"
    },
    {
     "data": {
      "text/plain": [
       "csvOptions = Map(header -> true, inferSchema -> true)\n",
       "df_train = [ID: int, CR_PROD_CNT_IL: int ... 114 more fields]\n",
       "df_test = [ID: int, CR_PROD_CNT_IL: int ... 113 more fields]\n"
      ]
     },
     "metadata": {},
     "output_type": "display_data"
    },
    {
     "data": {
      "text/plain": [
       "[ID: int, CR_PROD_CNT_IL: int ... 113 more fields]"
      ]
     },
     "execution_count": 2,
     "metadata": {},
     "output_type": "execute_result"
    }
   ],
   "source": [
    "val csvOptions = Map(\"header\" -> \"true\", \"inferSchema\" -> \"true\")\n",
    "val df_train = spark.read.options(csvOptions).csv(\"/labs/slaba05/lab05_train.csv\").drop(\"_c0\").cache()\n",
    "val df_test = spark.read.options(csvOptions).csv(\"/labs/slaba05/lab05_test.csv\").drop(\"_c0\").cache()"
   ]
  },
  {
   "cell_type": "code",
   "execution_count": 3,
   "metadata": {
    "scrolled": true
   },
   "outputs": [
    {
     "data": {
      "text/plain": [
       "col_list = Array((ID,IntegerType), (CR_PROD_CNT_IL,IntegerType), (AMOUNT_RUB_CLO_PRC,DoubleType), (PRC_ACCEPTS_A_EMAIL_LINK,DoubleType), (APP_REGISTR_RGN_CODE,DoubleType), (PRC_ACCEPTS_A_POS,DoubleType), (PRC_ACCEPTS_A_TK,DoubleType), (TURNOVER_DYNAMIC_IL_1M,DoubleType), (CNT_TRAN_AUT_TENDENCY1M,DoubleType), (SUM_TRAN_AUT_TENDENCY1M,DoubleType), (AMOUNT_RUB_SUP_PRC,DoubleType), (PRC_ACCEPTS_A_AMOBILE,DoubleType), (SUM_TRAN_AUT_TENDENCY3M,DoubleType), (CLNT_TRUST_RELATION,StringType), (PRC_ACCEPTS_TK,DoubleType), (PRC_ACCEPTS_A_MTP,DoubleType), (REST_DYNAMIC_FDEP_1M,DoubleType), (CNT_TRAN_AUT_TENDENCY3M,DoubleType), (CNT_ACCEPTS_TK,DoubleType), (APP_MARITAL_STATUS,StringType), (REST_DYNAMIC_SAVE_3M,DoubleType), (CR_PROD_CNT_VCU,IntegerType), (REST_AVG_CUR,DoubleT...\n"
      ]
     },
     "metadata": {},
     "output_type": "display_data"
    },
    {
     "data": {
      "text/plain": [
       "Array((ID,IntegerType), (CR_PROD_CNT_IL,IntegerType), (AMOUNT_RUB_CLO_PRC,DoubleType), (PRC_ACCEPTS_A_EMAIL_LINK,DoubleType), (APP_REGISTR_RGN_CODE,DoubleType), (PRC_ACCEPTS_A_POS,DoubleType), (PRC_ACCEPTS_A_TK,DoubleType), (TURNOVER_DYNAMIC_IL_1M,DoubleType), (CNT_TRAN_AUT_TENDENCY1M,DoubleType), (SUM_TRAN_AUT_TENDENCY1M,DoubleType), (AMOUNT_RUB_SUP_PRC,DoubleType), (PRC_ACCEPTS_A_AMOBILE,DoubleType), (SUM_TRAN_AUT_TENDENCY3M,DoubleType), (CLNT_TRUST_RELATION,StringType), (PRC_ACCEPTS_TK,DoubleType), (PRC_ACCEPTS_A_MTP,DoubleType), (REST_DYNAMIC_FDEP_1M,DoubleType), (CNT_TRAN_AUT_TENDENCY3M,DoubleType), (CNT_ACCEPTS_TK,DoubleType), (APP_MARITAL_STATUS,StringType), (REST_DYNAMIC_SAVE_3M,DoubleType), (CR_PROD_CNT_VCU,IntegerType), (REST_AVG_CUR,DoubleT..."
      ]
     },
     "execution_count": 3,
     "metadata": {},
     "output_type": "execute_result"
    }
   ],
   "source": [
    "val col_list = df_test.dtypes"
   ]
  },
  {
   "cell_type": "code",
   "execution_count": 4,
   "metadata": {},
   "outputs": [
    {
     "data": {
      "text/plain": [
       "df_train_cast = [ID: int, CR_PROD_CNT_IL: float ... 114 more fields]\n",
       "df_test_cast = [ID: int, CR_PROD_CNT_IL: float ... 113 more fields]\n"
      ]
     },
     "metadata": {},
     "output_type": "display_data"
    },
    {
     "data": {
      "text/plain": [
       "[ID: int, CR_PROD_CNT_IL: float ... 113 more fields]"
      ]
     },
     "execution_count": 4,
     "metadata": {},
     "output_type": "execute_result"
    }
   ],
   "source": [
    "val df_train_cast = (df_train.columns.toBuffer --= Array(\"ID\", \"TARGET\")).foldLeft(df_train)((current, c) =>\n",
    "                                              current.withColumn(c, col(c).cast(\"float\")))\n",
    "val df_test_cast = (df_test.columns.toBuffer --= Array(\"ID\", \"TARGET\")).foldLeft(df_test)((current, c) =>\n",
    "                                              current.withColumn(c, col(c).cast(\"float\")))"
   ]
  },
  {
   "cell_type": "code",
   "execution_count": 5,
   "metadata": {},
   "outputs": [
    {
     "data": {
      "text/plain": [
       "df_train2 = [ID: int, CR_PROD_CNT_IL: float ... 114 more fields]\n",
       "df_test2 = [ID: int, CR_PROD_CNT_IL: float ... 113 more fields]\n"
      ]
     },
     "metadata": {},
     "output_type": "display_data"
    },
    {
     "data": {
      "text/plain": [
       "[ID: int, CR_PROD_CNT_IL: float ... 113 more fields]"
      ]
     },
     "execution_count": 5,
     "metadata": {},
     "output_type": "execute_result"
    }
   ],
   "source": [
    "val df_train2 = df_train_cast.na.fill(0)\n",
    "val df_test2 = df_test_cast.na.fill(0)"
   ]
  },
  {
   "cell_type": "code",
   "execution_count": 6,
   "metadata": {},
   "outputs": [
    {
     "data": {
      "text/plain": [
       "col_list = Array(CR_PROD_CNT_IL, AMOUNT_RUB_CLO_PRC, PRC_ACCEPTS_A_EMAIL_LINK, APP_REGISTR_RGN_CODE, PRC_ACCEPTS_A_POS, PRC_ACCEPTS_A_TK, TURNOVER_DYNAMIC_IL_1M, CNT_TRAN_AUT_TENDENCY1M, SUM_TRAN_AUT_TENDENCY1M, AMOUNT_RUB_SUP_PRC, PRC_ACCEPTS_A_AMOBILE, SUM_TRAN_AUT_TENDENCY3M, CLNT_TRUST_RELATION, PRC_ACCEPTS_TK, PRC_ACCEPTS_A_MTP, REST_DYNAMIC_FDEP_1M, CNT_TRAN_AUT_TENDENCY3M, CNT_ACCEPTS_TK, APP_MARITAL_STATUS, REST_DYNAMIC_SAVE_3M, CR_PROD_CNT_VCU, REST_AVG_CUR, CNT_TRAN_MED_TENDENCY1M, APP_KIND_OF_PROP_HABITATION, CLNT_JOB_POSITION_TYPE, AMOUNT_RUB_NAS_PRC, CLNT_JOB_POSITION, APP_DRIVING_LICENSE, TRANS_COUNT_SUP_PRC, APP_EDUCATION, CNT_TRAN_CLO_TENDENCY1M, SUM_TRAN_MED_TENDENCY1M, PRC_ACCEPTS_A_ATM, PRC_ACCEPTS_MTP, TRANS_COUNT_NAS_PRC, APP_TRAVEL_PASS, CNT_ACCEPTS_...\n"
      ]
     },
     "metadata": {},
     "output_type": "display_data"
    },
    {
     "data": {
      "text/plain": [
       "Array(CR_PROD_CNT_IL, AMOUNT_RUB_CLO_PRC, PRC_ACCEPTS_A_EMAIL_LINK, APP_REGISTR_RGN_CODE, PRC_ACCEPTS_A_POS, PRC_ACCEPTS_A_TK, TURNOVER_DYNAMIC_IL_1M, CNT_TRAN_AUT_TENDENCY1M, SUM_TRAN_AUT_TENDENCY1M, AMOUNT_RUB_SUP_PRC, PRC_ACCEPTS_A_AMOBILE, SUM_TRAN_AUT_TENDENCY3M, CLNT_TRUST_RELATION, PRC_ACCEPTS_TK, PRC_ACCEPTS_A_MTP, REST_DYNAMIC_FDEP_1M, CNT_TRAN_AUT_TENDENCY3M, CNT_ACCEPTS_TK, APP_MARITAL_STATUS, REST_DYNAMIC_SAVE_3M, CR_PROD_CNT_VCU, REST_AVG_CUR, CNT_TRAN_MED_TENDENCY1M, APP_KIND_OF_PROP_HABITATION, CLNT_JOB_POSITION_TYPE, AMOUNT_RUB_NAS_PRC, CLNT_JOB_POSITION, APP_DRIVING_LICENSE, TRANS_COUNT_SUP_PRC, APP_EDUCATION, CNT_TRAN_CLO_TENDENCY1M, SUM_TRAN_MED_TENDENCY1M, PRC_ACCEPTS_A_ATM, PRC_ACCEPTS_MTP, TRANS_COUNT_NAS_PRC, APP_TRAVEL_PASS, CNT_ACCEPTS_..."
      ]
     },
     "execution_count": 6,
     "metadata": {},
     "output_type": "execute_result"
    }
   ],
   "source": [
    "val col_list = df_test_cast.columns.filter(_ != \"ID\")"
   ]
  },
  {
   "cell_type": "code",
   "execution_count": 7,
   "metadata": {},
   "outputs": [
    {
     "data": {
      "text/plain": [
       "assembler = vecAssembler_37d633c151a3\n"
      ]
     },
     "metadata": {},
     "output_type": "display_data"
    },
    {
     "data": {
      "text/plain": [
       "vecAssembler_37d633c151a3"
      ]
     },
     "execution_count": 7,
     "metadata": {},
     "output_type": "execute_result"
    }
   ],
   "source": [
    "val assembler = new VectorAssembler()\n",
    "                       .setInputCols(col_list)\n",
    "                       .setOutputCol(\"features\")"
   ]
  },
  {
   "cell_type": "code",
   "execution_count": 8,
   "metadata": {},
   "outputs": [
    {
     "data": {
      "text/plain": [
       "gbt = gbtc_5ee9ddb704e4\n"
      ]
     },
     "metadata": {},
     "output_type": "display_data"
    },
    {
     "data": {
      "text/plain": [
       "gbtc_5ee9ddb704e4"
      ]
     },
     "execution_count": 8,
     "metadata": {},
     "output_type": "execute_result"
    }
   ],
   "source": [
    "val gbt = new GBTClassifier()\n",
    "                .setFeaturesCol(\"features\")\n",
    "                .setLabelCol(\"TARGET\")"
   ]
  },
  {
   "cell_type": "code",
   "execution_count": 9,
   "metadata": {},
   "outputs": [
    {
     "data": {
      "text/plain": [
       "pipeline = pipeline_4822b3c8bd43\n"
      ]
     },
     "metadata": {},
     "output_type": "display_data"
    },
    {
     "data": {
      "text/plain": [
       "pipeline_4822b3c8bd43"
      ]
     },
     "execution_count": 9,
     "metadata": {},
     "output_type": "execute_result"
    }
   ],
   "source": [
    "val pipeline = new Pipeline()\n",
    "                  .setStages(Array(assembler,gbt))"
   ]
  },
  {
   "cell_type": "code",
   "execution_count": 10,
   "metadata": {},
   "outputs": [
    {
     "data": {
      "text/plain": [
       "pipeline_model = pipeline_4822b3c8bd43\n"
      ]
     },
     "metadata": {},
     "output_type": "display_data"
    },
    {
     "data": {
      "text/plain": [
       "pipeline_4822b3c8bd43"
      ]
     },
     "execution_count": 10,
     "metadata": {},
     "output_type": "execute_result"
    }
   ],
   "source": [
    "val pipeline_model = pipeline.fit(df_train2)"
   ]
  },
  {
   "cell_type": "code",
   "execution_count": 11,
   "metadata": {},
   "outputs": [
    {
     "data": {
      "text/plain": [
       "prediction = [ID: int, CR_PROD_CNT_IL: float ... 117 more fields]\n"
      ]
     },
     "metadata": {},
     "output_type": "display_data"
    },
    {
     "data": {
      "text/plain": [
       "[ID: int, CR_PROD_CNT_IL: float ... 117 more fields]"
      ]
     },
     "execution_count": 11,
     "metadata": {},
     "output_type": "execute_result"
    }
   ],
   "source": [
    "val prediction = pipeline_model.transform(df_test2)"
   ]
  },
  {
   "cell_type": "code",
   "execution_count": 32,
   "metadata": {},
   "outputs": [
    {
     "data": {
      "text/plain": [
       "result = [id: int, probability: vector]\n"
      ]
     },
     "metadata": {},
     "output_type": "display_data"
    },
    {
     "data": {
      "text/plain": [
       "lastException: Throwable = null\n"
      ]
     },
     "metadata": {},
     "output_type": "display_data"
    },
    {
     "data": {
      "text/plain": [
       "[id: int, probability: vector]"
      ]
     },
     "execution_count": 32,
     "metadata": {},
     "output_type": "execute_result"
    }
   ],
   "source": [
    "val result = prediction.select(\"ID\", \"probability\")\n",
    "                       .withColumnRenamed(\"ID\",\"id\")\n",
    "                       .repartition(1)"
   ]
  },
  {
   "cell_type": "code",
   "execution_count": 57,
   "metadata": {
    "scrolled": true
   },
   "outputs": [
    {
     "data": {
      "text/plain": [
       "toArray = > Array[Double]\n",
       "toArrayUdf = UserDefinedFunction(<function1>,ArrayType(DoubleType,false),None)\n",
       "headValue = UserDefinedFunction(<function1>,DoubleType,Some(List(ArrayType(DoubleType,false))))\n"
      ]
     },
     "metadata": {},
     "output_type": "display_data"
    },
    {
     "data": {
      "text/plain": [
       "lastException: Throwable = null\n"
      ]
     },
     "metadata": {},
     "output_type": "display_data"
    },
    {
     "data": {
      "text/plain": [
       "UserDefinedFunction(<function1>,DoubleType,Some(List(ArrayType(DoubleType,false))))"
      ]
     },
     "execution_count": 57,
     "metadata": {},
     "output_type": "execute_result"
    }
   ],
   "source": [
    "def toArray: Any => Array[Double] = _.asInstanceOf[DenseVector].toArray\n",
    "val toArrayUdf = udf(toArray)\n",
    "val getValue = udf((arr: Seq[Double]) => arr(1))"
   ]
  },
  {
   "cell_type": "code",
   "execution_count": 58,
   "metadata": {
    "scrolled": true
   },
   "outputs": [
    {
     "data": {
      "text/plain": [
       "result2 = [id: int, target: double]\n"
      ]
     },
     "metadata": {},
     "output_type": "display_data"
    },
    {
     "data": {
      "text/plain": [
       "[id: int, target: double]"
      ]
     },
     "execution_count": 58,
     "metadata": {},
     "output_type": "execute_result"
    }
   ],
   "source": [
    "val result2 = result.withColumn(\"target\", toArrayUdf(col(\"probability\")))\n",
    "                    .withColumn(\"target\", getValue(col(\"target\")))\n",
    "                    .drop(\"probability\")"
   ]
  },
  {
   "cell_type": "code",
   "execution_count": 59,
   "metadata": {},
   "outputs": [],
   "source": [
    "result2.write.option(\"header\",true)  \n",
    "            .option(\"delimiter\",\"\\t\")        \n",
    "            .format(\"csv\").save(\"Lab05.csv\")"
   ]
  },
  {
   "cell_type": "code",
   "execution_count": null,
   "metadata": {},
   "outputs": [],
   "source": []
  }
 ],
 "metadata": {
  "kernelspec": {
   "display_name": "Apache Toree - Scala",
   "language": "scala",
   "name": "apache_toree_scala"
  },
  "language_info": {
   "codemirror_mode": "text/x-scala",
   "file_extension": ".scala",
   "mimetype": "text/x-scala",
   "name": "scala",
   "pygments_lexer": "scala",
   "version": "2.11.12"
  },
  "toc": {
   "base_numbering": 1,
   "nav_menu": {},
   "number_sections": true,
   "sideBar": true,
   "skip_h1_title": false,
   "title_cell": "Table of Contents",
   "title_sidebar": "Contents",
   "toc_cell": false,
   "toc_position": {},
   "toc_section_display": true,
   "toc_window_display": false
  },
  "varInspector": {
   "cols": {
    "lenName": 16,
    "lenType": 16,
    "lenVar": 40
   },
   "kernels_config": {
    "python": {
     "delete_cmd_postfix": "",
     "delete_cmd_prefix": "del ",
     "library": "var_list.py",
     "varRefreshCmd": "print(var_dic_list())"
    },
    "r": {
     "delete_cmd_postfix": ") ",
     "delete_cmd_prefix": "rm(",
     "library": "var_list.r",
     "varRefreshCmd": "cat(var_dic_list()) "
    }
   },
   "types_to_exclude": [
    "module",
    "function",
    "builtin_function_or_method",
    "instance",
    "_Feature"
   ],
   "window_display": false
  }
 },
 "nbformat": 4,
 "nbformat_minor": 2
}
