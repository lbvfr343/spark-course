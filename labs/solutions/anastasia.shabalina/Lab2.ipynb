{
 "cells": [
  {
   "cell_type": "code",
   "execution_count": 1,
   "metadata": {},
   "outputs": [
    {
     "name": "stdout",
     "output_type": "stream",
     "text": [
      "Welcome to\n",
      "      ____              __\n",
      "     / __/__  ___ _____/ /__\n",
      "    _\\ \\/ _ \\/ _ `/ __/  '_/\n",
      "   /__ / .__/\\_,_/_/ /_/\\_\\   version 2.4.7\n",
      "      /_/\n",
      "\n",
      "Using Python version 3.6.5 (default, Apr 29 2018 16:14:56)\n",
      "SparkSession available as 'spark'.\n"
     ]
    }
   ],
   "source": [
    "import os\n",
    "import sys\n",
    "os.environ[\"PYSPARK_PYTHON\"]='/opt/anaconda/envs/bd9/bin/python'\n",
    "os.environ[\"SPARK_HOME\"]='/usr/hdp/current/spark2-client'\n",
    "os.environ[\"PYSPARK_SUBMIT_ARGS\"]='--num-executors 2 pyspark-shell'\n",
    "\n",
    "spark_home = os.environ.get('SPARK_HOME', None)\n",
    "if not spark_home:\n",
    "    raise ValueError('SPARK_HOME environment variable is not set')\n",
    "\n",
    "sys.path.insert(0, os.path.join(spark_home, 'python'))\n",
    "sys.path.insert(0, os.path.join(spark_home, 'python/lib/py4j-0.10.7-src.zip'))\n",
    "exec(open(os.path.join(spark_home, 'python/pyspark/shell.py')).read())"
   ]
  },
  {
   "cell_type": "code",
   "execution_count": 2,
   "metadata": {},
   "outputs": [],
   "source": [
    "from pyspark import SparkConf\n",
    "from pyspark.sql import SparkSession\n",
    "from pyspark.sql import functions as F\n",
    "from pyspark.sql.types import *\n",
    "from pyspark import Row\n",
    "import json\n",
    "from pyspark.ml.feature import HashingTF, IDF\n",
    "import re\n",
    "\n",
    "conf = SparkConf()\n",
    "\n",
    "spark = (SparkSession\n",
    "         .builder\n",
    "         .config(conf=conf)\n",
    "         .appName(\"Lab2\")\n",
    "         .getOrCreate())"
   ]
  },
  {
   "cell_type": "code",
   "execution_count": 3,
   "metadata": {},
   "outputs": [
    {
     "data": {
      "text/html": [
       "\n",
       "            <div>\n",
       "                <p><b>SparkSession - hive</b></p>\n",
       "                \n",
       "        <div>\n",
       "            <p><b>SparkContext</b></p>\n",
       "\n",
       "            <p><a href=\"http://spark-master-4.newprolab.com:4048\">Spark UI</a></p>\n",
       "\n",
       "            <dl>\n",
       "              <dt>Version</dt>\n",
       "                <dd><code>v2.4.7</code></dd>\n",
       "              <dt>Master</dt>\n",
       "                <dd><code>yarn</code></dd>\n",
       "              <dt>AppName</dt>\n",
       "                <dd><code>pyspark-shell</code></dd>\n",
       "            </dl>\n",
       "        </div>\n",
       "        \n",
       "            </div>\n",
       "        "
      ],
      "text/plain": [
       "<pyspark.sql.session.SparkSession at 0x7f1397540470>"
      ]
     },
     "execution_count": 3,
     "metadata": {},
     "output_type": "execute_result"
    }
   ],
   "source": [
    "spark"
   ]
  },
  {
   "cell_type": "code",
   "execution_count": 4,
   "metadata": {
    "collapsed": true
   },
   "outputs": [
    {
     "name": "stdout",
     "output_type": "stream",
     "text": [
      "+--------------------+--------------------+---+----+--------------------+--------------+\n",
      "|                 cat|                desc| id|lang|                name|      provider|\n",
      "+--------------------+--------------------+---+----+--------------------+--------------+\n",
      "|3/business_manage...|This course intro...|  4|  en|Accounting Cycle:...|Canvas Network|\n",
      "|              11/law|This online cours...|  5|  en|American Counter ...|Canvas Network|\n",
      "|5/computer_scienc...|This course is ta...|  6|  fr|Arithmétique: en ...|Canvas Network|\n",
      "|  14/social_sciences|We live in a digi...|  7|  en|Becoming a Dynami...|Canvas Network|\n",
      "|2/biology_life_sc...|This self-paced c...|  8|  en|           Bioethics|Canvas Network|\n",
      "|9/humanities|15/m...|This game-based c...|  9|  en|College Foundatio...|Canvas Network|\n",
      "|  14/social_sciences|What’s in your di...| 10|  en|Digital Literacies I|Canvas Network|\n",
      "|  14/social_sciences|The goal of the D...| 11|  en|Digital Literacie...|Canvas Network|\n",
      "|  14/social_sciences|Ready to explore ...| 12|  en|Digital Tools for...|Canvas Network|\n",
      "|  14/social_sciences|This self-paced c...| 13|  en|Discover Your Val...|Canvas Network|\n",
      "+--------------------+--------------------+---+----+--------------------+--------------+\n",
      "only showing top 10 rows\n",
      "\n"
     ]
    }
   ],
   "source": [
    "data = spark.read.json(\"/labs/slaba02/DO_record_per_line.json\")\n",
    "data.show(10)"
   ]
  },
  {
   "cell_type": "code",
   "execution_count": 5,
   "metadata": {},
   "outputs": [
    {
     "data": {
      "text/plain": [
       "[23126, 21617, 16627, 11556, 16704, 13702]"
      ]
     },
     "execution_count": 5,
     "metadata": {},
     "output_type": "execute_result"
    }
   ],
   "source": [
    "courses = [[23126, u'en', u'Compass - powerful SASS library that makes your life easier'], [21617, u'en', u'Preparing for the AP* Computer Science A Exam \\u2014 Part 2'], [16627, u'es', u'Aprende Excel: Nivel Intermedio by Alfonso Rinsche'], [11556, u'es', u'Aprendizaje Colaborativo by UNID Universidad Interamericana para el Desarrollo'], [16704, u'ru', u'\\u041f\\u0440\\u043e\\u0433\\u0440\\u0430\\u043c\\u043c\\u0438\\u0440\\u043e\\u0432\\u0430\\u043d\\u0438\\u0435 \\u043d\\u0430 Lazarus'], [13702, u'ru', u'\\u041c\\u0430\\u0442\\u0435\\u043c\\u0430\\u0442\\u0438\\u0447\\u0435\\u0441\\u043a\\u0430\\u044f \\u044d\\u043a\\u043e\\u043d\\u043e\\u043c\\u0438\\u043a\\u0430']]\n",
    "\n",
    "[i[0] for i in courses]"
   ]
  },
  {
   "cell_type": "code",
   "execution_count": 6,
   "metadata": {},
   "outputs": [
    {
     "data": {
      "text/plain": [
       "['en', 'en', 'es', 'es', 'ru', 'ru']"
      ]
     },
     "execution_count": 6,
     "metadata": {},
     "output_type": "execute_result"
    }
   ],
   "source": [
    "[i[1] for i in courses]"
   ]
  },
  {
   "cell_type": "code",
   "execution_count": 7,
   "metadata": {},
   "outputs": [],
   "source": [
    "def tokenize(series):\n",
    "    regex = re.compile(u'[\\w\\d]{2,}', re.U)\n",
    "    return series.str.findall(regex)"
   ]
  },
  {
   "cell_type": "code",
   "execution_count": 8,
   "metadata": {},
   "outputs": [],
   "source": [
    "tokenize_udf = F.pandas_udf(tokenize, returnType=ArrayType(StringType()))"
   ]
  },
  {
   "cell_type": "code",
   "execution_count": 12,
   "metadata": {
    "collapsed": true
   },
   "outputs": [
    {
     "name": "stdout",
     "output_type": "stream",
     "text": [
      "+--------------------+--------------------+---+----+--------------------+--------------+--------------------+\n",
      "|                 cat|                desc| id|lang|                name|      provider|          desc_words|\n",
      "+--------------------+--------------------+---+----+--------------------+--------------+--------------------+\n",
      "|3/business_manage...|This course intro...|  4|  en|Accounting Cycle:...|Canvas Network|[this, course, in...|\n",
      "|              11/law|This online cours...|  5|  en|American Counter ...|Canvas Network|[this, online, co...|\n",
      "|5/computer_scienc...|This course is ta...|  6|  fr|Arithmétique: en ...|Canvas Network|[this, course, is...|\n",
      "|  14/social_sciences|We live in a digi...|  7|  en|Becoming a Dynami...|Canvas Network|[we, live, in, di...|\n",
      "|2/biology_life_sc...|This self-paced c...|  8|  en|           Bioethics|Canvas Network|[this, self, pace...|\n",
      "|9/humanities|15/m...|This game-based c...|  9|  en|College Foundatio...|Canvas Network|[this, game, base...|\n",
      "|  14/social_sciences|What’s in your di...| 10|  en|Digital Literacies I|Canvas Network|[what, in, your, ...|\n",
      "|  14/social_sciences|The goal of the D...| 11|  en|Digital Literacie...|Canvas Network|[the, goal, of, t...|\n",
      "|  14/social_sciences|Ready to explore ...| 12|  en|Digital Tools for...|Canvas Network|[ready, to, explo...|\n",
      "|  14/social_sciences|This self-paced c...| 13|  en|Discover Your Val...|Canvas Network|[this, self, pace...|\n",
      "+--------------------+--------------------+---+----+--------------------+--------------+--------------------+\n",
      "only showing top 10 rows\n",
      "\n"
     ]
    }
   ],
   "source": [
    "data = data.withColumn('desc_words', tokenize_udf(F.lower(F.col('desc'))))\n",
    "data.show(10)"
   ]
  },
  {
   "cell_type": "code",
   "execution_count": 13,
   "metadata": {
    "collapsed": true
   },
   "outputs": [
    {
     "name": "stdout",
     "output_type": "stream",
     "text": [
      "+--------------------+--------------------+---+----+--------------------+--------------+--------------------+--------------------+\n",
      "|                 cat|                desc| id|lang|                name|      provider|          desc_words|                  tf|\n",
      "+--------------------+--------------------+---+----+--------------------+--------------+--------------------+--------------------+\n",
      "|3/business_manage...|This course intro...|  4|  en|Accounting Cycle:...|Canvas Network|[this, course, in...|(10000,[36,63,138...|\n",
      "|              11/law|This online cours...|  5|  en|American Counter ...|Canvas Network|[this, online, co...|(10000,[32,222,36...|\n",
      "|5/computer_scienc...|This course is ta...|  6|  fr|Arithmétique: en ...|Canvas Network|[this, course, is...|(10000,[30,118,12...|\n",
      "|  14/social_sciences|We live in a digi...|  7|  en|Becoming a Dynami...|Canvas Network|[we, live, in, di...|(10000,[493,572,7...|\n",
      "|2/biology_life_sc...|This self-paced c...|  8|  en|           Bioethics|Canvas Network|[this, self, pace...|(10000,[32,115,13...|\n",
      "|9/humanities|15/m...|This game-based c...|  9|  en|College Foundatio...|Canvas Network|[this, game, base...|(10000,[56,91,300...|\n",
      "|  14/social_sciences|What’s in your di...| 10|  en|Digital Literacies I|Canvas Network|[what, in, your, ...|(10000,[1045,1263...|\n",
      "|  14/social_sciences|The goal of the D...| 11|  en|Digital Literacie...|Canvas Network|[the, goal, of, t...|(10000,[87,157,57...|\n",
      "|  14/social_sciences|Ready to explore ...| 12|  en|Digital Tools for...|Canvas Network|[ready, to, explo...|(10000,[233,461,8...|\n",
      "|  14/social_sciences|This self-paced c...| 13|  en|Discover Your Val...|Canvas Network|[this, self, pace...|(10000,[26,696,10...|\n",
      "|  12/medicine_health|What is “interpro...| 14|  en|Enhancing Patient...|Canvas Network|[what, is, interp...|(10000,[63,145,23...|\n",
      "|        16/languages|This course prese...| 15|  en|Ethics and Values...|Canvas Network|[this, course, pr...|(10000,[32,77,148...|\n",
      "|         4/chemistry|Chemistry is an i...| 16|  en| Exploring Chemistry|Canvas Network|[chemistry, is, a...|(10000,[32,273,30...|\n",
      "|8/engineering_tec...|Are you consideri...| 17|  en|Exploring Enginee...|Canvas Network|[are, you, consid...|(10000,[1022,1420...|\n",
      "|   1/arts_music_film|Princess stories ...| 18|  en|Fairy Tales: Orig...|Canvas Network|[princess, storie...|(10000,[157,307,3...|\n",
      "|        9/humanities|This first instal...| 19|  en|First Peoples to ...|Canvas Network|[this, first, ins...|(10000,[572,696,8...|\n",
      "|  14/social_sciences|This course exami...| 20|  en| Forums for a Future|Canvas Network|[this, course, ex...|(10000,[87,91,177...|\n",
      "|        9/humanities|This course will ...| 21|  en|From the Gilded A...|Canvas Network|[this, course, wi...|(10000,[148,157,3...|\n",
      "|8/engineering_tec...|The field of tech...| 22|  en|Fundamentals of S...|Canvas Network|[the, field, of, ...|(10000,[128,177,4...|\n",
      "|  14/social_sciences|Are you a Higher ...| 23|  en|Hybrid Courses: B...|Canvas Network|[are, you, higher...|(10000,[91,332,52...|\n",
      "+--------------------+--------------------+---+----+--------------------+--------------+--------------------+--------------------+\n",
      "only showing top 20 rows\n",
      "\n"
     ]
    }
   ],
   "source": [
    "hashingTF = HashingTF(inputCol=\"desc_words\", outputCol=\"tf\", numFeatures=10000)\n",
    "tf_data = hashingTF.transform(data)\n",
    "tf_data.show()"
   ]
  },
  {
   "cell_type": "code",
   "execution_count": 14,
   "metadata": {
    "collapsed": true
   },
   "outputs": [
    {
     "name": "stdout",
     "output_type": "stream",
     "text": [
      "+--------------------+--------------------+---+----+--------------------+--------------+--------------------+--------------------+--------------------+\n",
      "|                 cat|                desc| id|lang|                name|      provider|          desc_words|                  tf|                 idf|\n",
      "+--------------------+--------------------+---+----+--------------------+--------------+--------------------+--------------------+--------------------+\n",
      "|3/business_manage...|This course intro...|  4|  en|Accounting Cycle:...|Canvas Network|[this, course, in...|(10000,[36,63,138...|(10000,[36,63,138...|\n",
      "|              11/law|This online cours...|  5|  en|American Counter ...|Canvas Network|[this, online, co...|(10000,[32,222,36...|(10000,[32,222,36...|\n",
      "|5/computer_scienc...|This course is ta...|  6|  fr|Arithmétique: en ...|Canvas Network|[this, course, is...|(10000,[30,118,12...|(10000,[30,118,12...|\n",
      "|  14/social_sciences|We live in a digi...|  7|  en|Becoming a Dynami...|Canvas Network|[we, live, in, di...|(10000,[493,572,7...|(10000,[493,572,7...|\n",
      "|2/biology_life_sc...|This self-paced c...|  8|  en|           Bioethics|Canvas Network|[this, self, pace...|(10000,[32,115,13...|(10000,[32,115,13...|\n",
      "|9/humanities|15/m...|This game-based c...|  9|  en|College Foundatio...|Canvas Network|[this, game, base...|(10000,[56,91,300...|(10000,[56,91,300...|\n",
      "|  14/social_sciences|What’s in your di...| 10|  en|Digital Literacies I|Canvas Network|[what, in, your, ...|(10000,[1045,1263...|(10000,[1045,1263...|\n",
      "|  14/social_sciences|The goal of the D...| 11|  en|Digital Literacie...|Canvas Network|[the, goal, of, t...|(10000,[87,157,57...|(10000,[87,157,57...|\n",
      "|  14/social_sciences|Ready to explore ...| 12|  en|Digital Tools for...|Canvas Network|[ready, to, explo...|(10000,[233,461,8...|(10000,[233,461,8...|\n",
      "|  14/social_sciences|This self-paced c...| 13|  en|Discover Your Val...|Canvas Network|[this, self, pace...|(10000,[26,696,10...|(10000,[26,696,10...|\n",
      "|  12/medicine_health|What is “interpro...| 14|  en|Enhancing Patient...|Canvas Network|[what, is, interp...|(10000,[63,145,23...|(10000,[63,145,23...|\n",
      "|        16/languages|This course prese...| 15|  en|Ethics and Values...|Canvas Network|[this, course, pr...|(10000,[32,77,148...|(10000,[32,77,148...|\n",
      "|         4/chemistry|Chemistry is an i...| 16|  en| Exploring Chemistry|Canvas Network|[chemistry, is, a...|(10000,[32,273,30...|(10000,[32,273,30...|\n",
      "|8/engineering_tec...|Are you consideri...| 17|  en|Exploring Enginee...|Canvas Network|[are, you, consid...|(10000,[1022,1420...|(10000,[1022,1420...|\n",
      "|   1/arts_music_film|Princess stories ...| 18|  en|Fairy Tales: Orig...|Canvas Network|[princess, storie...|(10000,[157,307,3...|(10000,[157,307,3...|\n",
      "|        9/humanities|This first instal...| 19|  en|First Peoples to ...|Canvas Network|[this, first, ins...|(10000,[572,696,8...|(10000,[572,696,8...|\n",
      "|  14/social_sciences|This course exami...| 20|  en| Forums for a Future|Canvas Network|[this, course, ex...|(10000,[87,91,177...|(10000,[87,91,177...|\n",
      "|        9/humanities|This course will ...| 21|  en|From the Gilded A...|Canvas Network|[this, course, wi...|(10000,[148,157,3...|(10000,[148,157,3...|\n",
      "|8/engineering_tec...|The field of tech...| 22|  en|Fundamentals of S...|Canvas Network|[the, field, of, ...|(10000,[128,177,4...|(10000,[128,177,4...|\n",
      "|  14/social_sciences|Are you a Higher ...| 23|  en|Hybrid Courses: B...|Canvas Network|[are, you, higher...|(10000,[91,332,52...|(10000,[91,332,52...|\n",
      "+--------------------+--------------------+---+----+--------------------+--------------+--------------------+--------------------+--------------------+\n",
      "only showing top 20 rows\n",
      "\n"
     ]
    }
   ],
   "source": [
    "idf = IDF(inputCol=\"tf\", outputCol=\"idf\", minDocFreq=1).fit(tf_data)\n",
    "tfidf_data = idf.transform(tf_data)\n",
    "tfidf_data.show()"
   ]
  },
  {
   "cell_type": "code",
   "execution_count": 15,
   "metadata": {
    "collapsed": true
   },
   "outputs": [
    {
     "name": "stdout",
     "output_type": "stream",
     "text": [
      "+--------------------+--------------------+---+----+--------------------+--------------+--------------------+--------------------+--------------------+\n",
      "|                 cat|                desc| id|lang|                name|      provider|          desc_words|                  tf|                 idf|\n",
      "+--------------------+--------------------+---+----+--------------------+--------------+--------------------+--------------------+--------------------+\n",
      "|3/business_manage...|This course intro...|  4|  en|Accounting Cycle:...|Canvas Network|[this, course, in...|(10000,[36,63,138...|(10000,[36,63,138...|\n",
      "|              11/law|This online cours...|  5|  en|American Counter ...|Canvas Network|[this, online, co...|(10000,[32,222,36...|(10000,[32,222,36...|\n",
      "|  14/social_sciences|We live in a digi...|  7|  en|Becoming a Dynami...|Canvas Network|[we, live, in, di...|(10000,[493,572,7...|(10000,[493,572,7...|\n",
      "|2/biology_life_sc...|This self-paced c...|  8|  en|           Bioethics|Canvas Network|[this, self, pace...|(10000,[32,115,13...|(10000,[32,115,13...|\n",
      "|9/humanities|15/m...|This game-based c...|  9|  en|College Foundatio...|Canvas Network|[this, game, base...|(10000,[56,91,300...|(10000,[56,91,300...|\n",
      "|  14/social_sciences|What’s in your di...| 10|  en|Digital Literacies I|Canvas Network|[what, in, your, ...|(10000,[1045,1263...|(10000,[1045,1263...|\n",
      "|  14/social_sciences|The goal of the D...| 11|  en|Digital Literacie...|Canvas Network|[the, goal, of, t...|(10000,[87,157,57...|(10000,[87,157,57...|\n",
      "|  14/social_sciences|Ready to explore ...| 12|  en|Digital Tools for...|Canvas Network|[ready, to, explo...|(10000,[233,461,8...|(10000,[233,461,8...|\n",
      "|  14/social_sciences|This self-paced c...| 13|  en|Discover Your Val...|Canvas Network|[this, self, pace...|(10000,[26,696,10...|(10000,[26,696,10...|\n",
      "|  12/medicine_health|What is “interpro...| 14|  en|Enhancing Patient...|Canvas Network|[what, is, interp...|(10000,[63,145,23...|(10000,[63,145,23...|\n",
      "|        16/languages|This course prese...| 15|  en|Ethics and Values...|Canvas Network|[this, course, pr...|(10000,[32,77,148...|(10000,[32,77,148...|\n",
      "|         4/chemistry|Chemistry is an i...| 16|  en| Exploring Chemistry|Canvas Network|[chemistry, is, a...|(10000,[32,273,30...|(10000,[32,273,30...|\n",
      "|8/engineering_tec...|Are you consideri...| 17|  en|Exploring Enginee...|Canvas Network|[are, you, consid...|(10000,[1022,1420...|(10000,[1022,1420...|\n",
      "|   1/arts_music_film|Princess stories ...| 18|  en|Fairy Tales: Orig...|Canvas Network|[princess, storie...|(10000,[157,307,3...|(10000,[157,307,3...|\n",
      "|        9/humanities|This first instal...| 19|  en|First Peoples to ...|Canvas Network|[this, first, ins...|(10000,[572,696,8...|(10000,[572,696,8...|\n",
      "|  14/social_sciences|This course exami...| 20|  en| Forums for a Future|Canvas Network|[this, course, ex...|(10000,[87,91,177...|(10000,[87,91,177...|\n",
      "|        9/humanities|This course will ...| 21|  en|From the Gilded A...|Canvas Network|[this, course, wi...|(10000,[148,157,3...|(10000,[148,157,3...|\n",
      "|8/engineering_tec...|The field of tech...| 22|  en|Fundamentals of S...|Canvas Network|[the, field, of, ...|(10000,[128,177,4...|(10000,[128,177,4...|\n",
      "|  14/social_sciences|Are you a Higher ...| 23|  en|Hybrid Courses: B...|Canvas Network|[are, you, higher...|(10000,[91,332,52...|(10000,[91,332,52...|\n",
      "|  12/medicine_health|This course will ...| 24|  en|International Hea...|Canvas Network|[this, course, wi...|(10000,[115,128,2...|(10000,[115,128,2...|\n",
      "+--------------------+--------------------+---+----+--------------------+--------------+--------------------+--------------------+--------------------+\n",
      "only showing top 20 rows\n",
      "\n"
     ]
    }
   ],
   "source": [
    "need_lang_data = tfidf_data.filter(F.col('lang').isin([i[1] for i in courses]))\n",
    "need_lang_data.show()"
   ]
  },
  {
   "cell_type": "code",
   "execution_count": 19,
   "metadata": {
    "collapsed": true
   },
   "outputs": [
    {
     "name": "stdout",
     "output_type": "stream",
     "text": [
      "+--------------------+--------------------+-----+----+--------------------+--------+--------------------+--------------------+--------------------+\n",
      "|                 cat|                desc|   id|lang|                name|provider|          desc_words|                  tf|                 idf|\n",
      "+--------------------+--------------------+-----+----+--------------------+--------+--------------------+--------------------+--------------------+\n",
      "|                    | La transformació...|11556|  es|Aprendizaje Colab...|   Udemy|[la, transformaci...|(10000,[249,522,5...|(10000,[249,522,5...|\n",
      "|6/economics_finan...|Математическая эк...|13702|  ru|Математическая эк...|  Intuit|[математическая, ...|(10000,[310,942,2...|(10000,[310,942,2...|\n",
      "|                    | Hazte más emplea...|16627|  es|Aprende Excel: Ni...|   Udemy|[hazte, más, empl...|(10000,[55,76,192...|(10000,[55,76,192...|\n",
      "|5/computer_scienc...|В курсе рассматри...|16704|  ru|Программирование ...|  Intuit|[курсе, рассматри...|(10000,[381,1144,...|(10000,[381,1144,...|\n",
      "|  5/computer_science|An introduction t...|21617|  en|Preparing for the...|     edX|[an, introduction...|(10000,[17,128,16...|(10000,[17,128,16...|\n",
      "|                    | Improve your SAS...|23126|  en|Compass - powerfu...|   Udemy|[improve, your, s...|(10000,[87,91,128...|(10000,[87,91,128...|\n",
      "+--------------------+--------------------+-----+----+--------------------+--------+--------------------+--------------------+--------------------+\n",
      "\n"
     ]
    }
   ],
   "source": [
    "test_data = need_lang_data.filter(F.col('id').isin([i[0] for i in courses]))\n",
    "test_data.show()"
   ]
  },
  {
   "cell_type": "code",
   "execution_count": 17,
   "metadata": {},
   "outputs": [],
   "source": [
    "@F.udf\n",
    "def sim_cos(v1,v2):\n",
    "    try:\n",
    "        return float(v1.dot(v2))/(float(v1.norm(2)*v2.norm(2)))\n",
    "    except:\n",
    "        return 0"
   ]
  },
  {
   "cell_type": "code",
   "execution_count": 20,
   "metadata": {},
   "outputs": [
    {
     "name": "stdout",
     "output_type": "stream",
     "text": [
      "+-------+----+----+-------------------+\n",
      "|test_id|  id|lang|         sim_cosine|\n",
      "+-------+----+----+-------------------+\n",
      "|  11556|  59|  es|0.32007148181296435|\n",
      "|  11556| 124|  es|0.22274961789062608|\n",
      "|  11556| 160|  es| 0.2466710896939478|\n",
      "|  11556| 166|  es|0.28279398152797525|\n",
      "|  11556| 196|  es|0.29704364895916324|\n",
      "|  11556| 198|  es|0.27053950813287586|\n",
      "|  11556| 252|  es| 0.1855338581590521|\n",
      "|  11556| 272|  es|0.29186082339474834|\n",
      "|  11556| 273|  es|0.19610893769580712|\n",
      "|  11556| 386|  es|0.23931124652001923|\n",
      "|  11556| 387|  es|  0.356753371222401|\n",
      "|  11556| 468|  es|0.44855573811207733|\n",
      "|  11556|3660|  es|  0.330469409825434|\n",
      "|  11556|3810|  es| 0.2569888045406846|\n",
      "|  11556|3870|  es|0.17403609739501189|\n",
      "|  11556|3872|  es|0.13080267858915573|\n",
      "|  11556|3873|  es|0.13752122617558823|\n",
      "|  11556|3874|  es|0.12939753648484184|\n",
      "|  11556|3875|  es|0.14027261187376897|\n",
      "|  11556|3876|  es|0.17165679005070722|\n",
      "+-------+----+----+-------------------+\n",
      "only showing top 20 rows\n",
      "\n"
     ]
    }
   ],
   "source": [
    "final_data = test_data.alias(\"test\").join(need_lang_data.alias(\"langs\"), ((F.col(\"test.id\") != F.col(\"langs.id\")))&(F.col('test.lang') == F.col('langs.lang')))\\\n",
    "    .select(\n",
    "        F.col(\"test.id\").alias(\"test_id\"),\n",
    "        F.col(\"langs.id\").alias(\"id\"),\n",
    "        F.col(\"test.lang\").alias(\"lang\"),\n",
    "        sim_cos(\"test.idf\", \"langs.idf\").cast('double').alias(\"sim_cosine\"))\\\n",
    "    .sort(\"test_id\", \"id\")\n",
    "    \n",
    "final_data.show()"
   ]
  },
  {
   "cell_type": "code",
   "execution_count": 21,
   "metadata": {
    "scrolled": true
   },
   "outputs": [],
   "source": [
    "final_dict = dict()\n",
    "\n",
    "for i in courses:\n",
    "    df = final_data.filter((F.col('test_id') == i[0])).sort(F.col('sim_cosine').desc()).limit(10)\n",
    "    final_dict[i[0]] = list(df.select('id').toPandas()['id'])"
   ]
  },
  {
   "cell_type": "code",
   "execution_count": 22,
   "metadata": {},
   "outputs": [
    {
     "data": {
      "text/plain": [
       "{23126: [14760, 13665, 13782, 20638, 24419, 15909, 2724, 25782, 17499, 13348],\n",
       " 21617: [21609, 21616, 21608, 22298, 21630, 21628, 21623, 21508, 21081, 19417],\n",
       " 16627: [11431, 11575, 12247, 17964, 5687, 17961, 16694, 12660, 25010, 5558],\n",
       " 11556: [16488, 468, 13461, 23357, 19330, 7833, 9289, 10447, 22710, 11340],\n",
       " 16704: [1236, 1247, 1365, 1273, 20288, 1164, 8186, 1233, 8203, 8207],\n",
       " 13702: [864, 21079, 8313, 1041, 28074, 8300, 1033, 13057, 21025, 1111]}"
      ]
     },
     "execution_count": 22,
     "metadata": {},
     "output_type": "execute_result"
    }
   ],
   "source": [
    "final_dict"
   ]
  },
  {
   "cell_type": "code",
   "execution_count": 36,
   "metadata": {},
   "outputs": [],
   "source": [
    "with open(\"lab02.json\", \"w\") as outfile:\n",
    "    json.dump(final_dict, outfile)"
   ]
  },
  {
   "cell_type": "code",
   "execution_count": null,
   "metadata": {},
   "outputs": [],
   "source": [
    "spark.stop()"
   ]
  }
 ],
 "metadata": {
  "kernelspec": {
   "display_name": "Python 3",
   "language": "python",
   "name": "python3"
  },
  "language_info": {
   "codemirror_mode": {
    "name": "ipython",
    "version": 3
   },
   "file_extension": ".py",
   "mimetype": "text/x-python",
   "name": "python",
   "nbconvert_exporter": "python",
   "pygments_lexer": "ipython3",
   "version": "3.6.5"
  }
 },
 "nbformat": 4,
 "nbformat_minor": 2
}
