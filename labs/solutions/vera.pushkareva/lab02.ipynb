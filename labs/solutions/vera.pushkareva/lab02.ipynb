{
 "cells": [
  {
   "cell_type": "code",
   "execution_count": 1,
   "metadata": {},
   "outputs": [
    {
     "name": "stdout",
     "output_type": "stream",
     "text": [
      "Welcome to\n",
      "      ____              __\n",
      "     / __/__  ___ _____/ /__\n",
      "    _\\ \\/ _ \\/ _ `/ __/  '_/\n",
      "   /__ / .__/\\_,_/_/ /_/\\_\\   version 2.4.7\n",
      "      /_/\n",
      "\n",
      "Using Python version 3.6.5 (default, Apr 29 2018 16:14:56)\n",
      "SparkSession available as 'spark'.\n"
     ]
    }
   ],
   "source": [
    "import os\n",
    "import sys\n",
    "os.environ[\"PYSPARK_PYTHON\"]='/opt/anaconda/envs/bd9/bin/python'\n",
    "os.environ[\"SPARK_HOME\"]='/usr/hdp/current/spark2-client'\n",
    "os.environ[\"PYSPARK_SUBMIT_ARGS\"]='--num-executors 2 pyspark-shell'\n",
    "\n",
    "spark_home = os.environ.get('SPARK_HOME', None)\n",
    "\n",
    "if not spark_home:\n",
    "    raise ValueError('SPARK_HOME environment variable is not set')\n",
    "\n",
    "sys.path.insert(0, os.path.join(spark_home, 'python'))\n",
    "sys.path.insert(0, os.path.join(spark_home, 'python/lib/py4j-0.10.7-src.zip'))\n",
    "exec(open(os.path.join(spark_home, 'python/pyspark/shell.py')).read())"
   ]
  },
  {
   "cell_type": "code",
   "execution_count": 2,
   "metadata": {},
   "outputs": [],
   "source": [
    "from pyspark import SparkConf\n",
    "from pyspark.sql import SparkSession\n",
    "from pyspark.sql import functions as F\n",
    "from pyspark.sql.types import *\n",
    "from pyspark import Row\n",
    "import json\n",
    "\n",
    "conf = SparkConf()\n",
    "\n",
    "spark = (SparkSession\n",
    "         .builder\n",
    "         .config(conf=conf)\n",
    "         .appName(\"test\")\n",
    "         .getOrCreate())"
   ]
  },
  {
   "cell_type": "code",
   "execution_count": 3,
   "metadata": {},
   "outputs": [
    {
     "data": {
      "text/html": [
       "\n",
       "            <div>\n",
       "                <p><b>SparkSession - hive</b></p>\n",
       "                \n",
       "        <div>\n",
       "            <p><b>SparkContext</b></p>\n",
       "\n",
       "            <p><a href=\"http://spark-master-5.newprolab.com:4046\">Spark UI</a></p>\n",
       "\n",
       "            <dl>\n",
       "              <dt>Version</dt>\n",
       "                <dd><code>v2.4.7</code></dd>\n",
       "              <dt>Master</dt>\n",
       "                <dd><code>yarn</code></dd>\n",
       "              <dt>AppName</dt>\n",
       "                <dd><code>pyspark-shell</code></dd>\n",
       "            </dl>\n",
       "        </div>\n",
       "        \n",
       "            </div>\n",
       "        "
      ],
      "text/plain": [
       "<pyspark.sql.session.SparkSession at 0x7f69cd29c668>"
      ]
     },
     "execution_count": 3,
     "metadata": {},
     "output_type": "execute_result"
    }
   ],
   "source": [
    "spark"
   ]
  },
  {
   "cell_type": "code",
   "execution_count": 4,
   "metadata": {},
   "outputs": [],
   "source": [
    "data_folder = '/labs/slaba02'\n",
    "file_name = 'DO_record_per_line.json'\n",
    "\n",
    "path_to_file = os.path.join(data_folder, file_name)"
   ]
  },
  {
   "cell_type": "code",
   "execution_count": 5,
   "metadata": {},
   "outputs": [
    {
     "name": "stdout",
     "output_type": "stream",
     "text": [
      "Found 1 items\r\n",
      "-rw-r--r--   3 hdfs hdfs   69519728 2022-01-06 18:46 /labs/slaba02/DO_record_per_line.json\r\n"
     ]
    }
   ],
   "source": [
    "! hdfs dfs -ls /labs/slaba02"
   ]
  },
  {
   "cell_type": "code",
   "execution_count": 6,
   "metadata": {},
   "outputs": [
    {
     "data": {
      "text/plain": [
       "'{\"lang\": \"en\", \"name\": \"Accounting Cycle: The Foundation of Business Measurement and Reporting\", \"cat\": \"3/business_management|6/economics_finance\", \"provider\": \"Canvas Network\", \"id\": 4, \"desc\": \"This course introduces the basic financial statements used by most businesses, as well as the essential tools used to prepare them. This course will serve as a resource to help business students succeed in their upcoming university-level accounting classes, and as a refresher for upper division accounting students who are struggling to recall elementary concepts essential to more advanced accounting topics. Business owners will also benefit from this class by gaining essential skills necessary to organize and manage information pertinent to operating their business. At the conclusion of the class, students will understand the balance sheet, income statement, and cash flow statement. They will be able to differentiate between cash basis and accrual basis techniques, and know when each is appropriate. They\\\\u2019ll also understand the accounting equation, how to journalize and post transactions, how to adjust and close accounts, and how to prepare key financial reports. All material for this class is written and delivered by the professor, and can be previewed here. Students must have access to a spreadsheet program to participate.\"}'"
      ]
     },
     "execution_count": 6,
     "metadata": {},
     "output_type": "execute_result"
    }
   ],
   "source": [
    "data = spark.sparkContext.textFile(path_to_file)\n",
    "data.first()"
   ]
  },
  {
   "cell_type": "code",
   "execution_count": 7,
   "metadata": {},
   "outputs": [
    {
     "name": "stdout",
     "output_type": "stream",
     "text": [
      "+--------------------+--------------------+---+----+--------------------+--------------+\n",
      "|                 cat|                desc| id|lang|                name|      provider|\n",
      "+--------------------+--------------------+---+----+--------------------+--------------+\n",
      "|3/business_manage...|This course intro...|  4|  en|Accounting Cycle:...|Canvas Network|\n",
      "|              11/law|This online cours...|  5|  en|American Counter ...|Canvas Network|\n",
      "|5/computer_scienc...|This course is ta...|  6|  fr|Arithmétique: en ...|Canvas Network|\n",
      "|  14/social_sciences|We live in a digi...|  7|  en|Becoming a Dynami...|Canvas Network|\n",
      "|2/biology_life_sc...|This self-paced c...|  8|  en|           Bioethics|Canvas Network|\n",
      "|9/humanities|15/m...|This game-based c...|  9|  en|College Foundatio...|Canvas Network|\n",
      "|  14/social_sciences|What’s in your di...| 10|  en|Digital Literacies I|Canvas Network|\n",
      "|  14/social_sciences|The goal of the D...| 11|  en|Digital Literacie...|Canvas Network|\n",
      "|  14/social_sciences|Ready to explore ...| 12|  en|Digital Tools for...|Canvas Network|\n",
      "|  14/social_sciences|This self-paced c...| 13|  en|Discover Your Val...|Canvas Network|\n",
      "|  12/medicine_health|What is “interpro...| 14|  en|Enhancing Patient...|Canvas Network|\n",
      "|        16/languages|This course prese...| 15|  en|Ethics and Values...|Canvas Network|\n",
      "|         4/chemistry|Chemistry is an i...| 16|  en| Exploring Chemistry|Canvas Network|\n",
      "|8/engineering_tec...|Are you consideri...| 17|  en|Exploring Enginee...|Canvas Network|\n",
      "|   1/arts_music_film|Princess stories ...| 18|  en|Fairy Tales: Orig...|Canvas Network|\n",
      "|        9/humanities|This first instal...| 19|  en|First Peoples to ...|Canvas Network|\n",
      "|  14/social_sciences|This course exami...| 20|  en| Forums for a Future|Canvas Network|\n",
      "|        9/humanities|This course will ...| 21|  en|From the Gilded A...|Canvas Network|\n",
      "|8/engineering_tec...|The field of tech...| 22|  en|Fundamentals of S...|Canvas Network|\n",
      "|  14/social_sciences|Are you a Higher ...| 23|  en|Hybrid Courses: B...|Canvas Network|\n",
      "+--------------------+--------------------+---+----+--------------------+--------------+\n",
      "only showing top 20 rows\n",
      "\n"
     ]
    }
   ],
   "source": [
    "data = spark.read.format('org.apache.spark.sql.json').load(path_to_file)\n",
    "data.show()"
   ]
  },
  {
   "cell_type": "code",
   "execution_count": 71,
   "metadata": {},
   "outputs": [],
   "source": [
    "data = data.filter((col(\"desc\") != ' ') & (col(\"desc\") != '\\n\\t  \\t     \\n\\t  \\t  '))"
   ]
  },
  {
   "cell_type": "code",
   "execution_count": 72,
   "metadata": {},
   "outputs": [],
   "source": [
    "import re\n",
    "\n",
    "STOP_WORDS = ['', 'о', 'на', 'для', 'со', 'до', 'в',\n",
    "              'and', 'or']\n",
    "\n",
    "def clean_list_of_tokens(tokens):\n",
    "    new_tokens = []\n",
    "    for token in tokens:\n",
    "        token = re.sub('[\\W\\d_]+', '', token)\n",
    "        if token not in STOP_WORDS:\n",
    "            new_tokens.append(token)\n",
    "    return new_tokens"
   ]
  },
  {
   "cell_type": "code",
   "execution_count": 74,
   "metadata": {},
   "outputs": [],
   "source": [
    "from pyspark.sql.functions import UserDefinedFunction, col, array\n",
    "from pyspark.ml.feature import HashingTF, IDF, Tokenizer, RegexTokenizer, StopWordsRemover\n",
    "from pyspark.sql.functions import explode\n",
    "from pyspark.ml.linalg import DenseVector\n",
    "from pyspark.ml.feature import BucketedRandomProjectionLSH\n",
    "\n",
    "import numpy as np\n",
    "\n",
    "\n",
    "def pipeline(course_id: str):\n",
    "\n",
    "    _lng = data.filter(col(\"id\") == course_id).select(\"lang\").collect()[0].__getitem__('lang')\n",
    "    _data_lng = data.filter(data.lang == _lng)\n",
    "    tokenizer = Tokenizer(inputCol=\"desc\", outputCol=\"words\")\n",
    "    tokenized = tokenizer.transform(_data_lng)\n",
    "\n",
    "    remover = StopWordsRemover(inputCol=\"words\", outputCol=\"wordsFiltered\")\n",
    "    tokenized_wo_stopwords = remover.transform(tokenized)\n",
    "\n",
    "    convertUDF = UserDefinedFunction(lambda x: clean_list_of_tokens(x), ArrayType(StringType()))\n",
    "    tokenized_wo_stopwords = tokenized_wo_stopwords.withColumn(\"wordsFiltered\", convertUDF(col(\"wordsFiltered\")))\n",
    "\n",
    "    hashingTF = HashingTF(inputCol=\"wordsFiltered\", outputCol=\"rawFeatures\", numFeatures=1000)  # wordsFiltered\n",
    "    featurizedData = hashingTF.transform(tokenized_wo_stopwords)\n",
    "\n",
    "    idf = IDF(inputCol=\"rawFeatures\", outputCol=\"features\")\n",
    "    idfModel = idf.fit(featurizedData)\n",
    "    rescaledData = idfModel.transform(featurizedData)\n",
    "\n",
    "    tf_idf_vectors = rescaledData.select(\"features\", \"id\").rdd.map(lambda x: (x.id, DenseVector(x.features.toArray())))\n",
    "    df = spark.createDataFrame(tf_idf_vectors,)\n",
    "\n",
    "    one_row = df.where(df._1 == course_id).first().asDict()['_2']\n",
    "\n",
    "    def cos_sim(a, b=one_row):\n",
    "        return float(np.dot(a, b) / (np.linalg.norm(a) * np.linalg.norm(b)))\n",
    "\n",
    "    # apply the UDF to the column\n",
    "    cosSumUDF = UserDefinedFunction(lambda x: cos_sim(x), FloatType())\n",
    "    df = df.withColumn(\"coSim\", cosSumUDF(col(\"_2\")))\n",
    "    return df.filter(col(\"_1\") != course_id).sort(\"coSim\", ascending = False).take(TOP_N)"
   ]
  },
  {
   "cell_type": "code",
   "execution_count": 75,
   "metadata": {},
   "outputs": [],
   "source": [
    "from collections import defaultdict\n",
    "import json\n",
    "\n",
    "TEST_IDS = [\"23126\", \"21617\", \"16627\", \"11556\", \"16704\", \"13702\"]\n",
    "TOP_N = 10\n",
    "\n",
    "my_recommendations = defaultdict(list)\n",
    "for course_id in TEST_IDS:\n",
    "    result = pipeline(course_id)\n",
    "    for course in result:\n",
    "        if str(course._1) != course_id:\n",
    "            my_recommendations[course_id].append(course._1)\n",
    "            \n",
    "result = json.dumps(my_recommendations)"
   ]
  },
  {
   "cell_type": "code",
   "execution_count": 95,
   "metadata": {},
   "outputs": [],
   "source": [
    "result = {\"23126\": [13727, 10764, 13665, 14760, 24419, 5114, 9949, 13782, 26804, 23478], \"21617\": [21609, 21608, 21616, 21492, 21624, 21700, 21623, 21630, 21628, 21508], \"16627\": [11431, 17964, 5687, 17961, 16694, 12660, 12247, 5558, 11575, 9598], \"11556\": [10384, 16488, 11605, 468, 22710, 19330, 13461, 11523, 19279, 23357], \"16704\": [1250, 1164, 21482, 1411, 1247, 978, 913, 20095, 927, 20096], \"13702\": [864, 1111, 1052, 895, 1054, 929, 8300, 1033, 894, 1383]}\n",
    "# result = {\"23126\": [2909, 2633, 17499, 3382, 2495, 673, 13130, 353, 3576, 13782], \"21617\": [21609, 16414, 3929, 8132, 22302, 14545, 15968, 2792, 26698, 27346], \"16627\": [27556, 27518, 27313, 26196, 27174, 27091, 26521, 26949, 21695, 26738], \"11556\": [9760, 3901, 10491, 26987, 27391, 9761, 25941, 28256, 26199, 26426], \"16704\": [8312, 999, 1000, 8311, 951, 28005, 17195, 19614, 1246, 814], \"13702\": [864, 1161, 8317, 1301, 26501, 1119, 8176, 1225, 1236, 27087]}\n",
    "# result = {\"23126\": [16709, 2909, 17499, 3382, 1587, 24419, 2495, 1607, 7993, 14760], \"21617\": [21609, 21687, 1908, 21587, 15427, 26872, 2110, 1551, 2822, 2177], \"16627\": [13551, 21704, 13552, 21705, 21695, 13529, 27556, 27518, 26949, 9044], \"11556\": [9760, 26738, 26274, 27091, 25941, 26697, 10491, 9761, 27391, 27062], \"16704\": [25916, 6928, 1291, 1418, 20355, 1069, 20301, 1406, 8800, 22210], \"13702\": [17017, 17018, 17071, 17019, 17020, 17010, 17021, 17013, 17022, 17015]}\n",
    "# result = {\"23126\": [23564, 24885, 20045, 18998, 12307, 24488, 24091, 4322, 9549, 18089], \"21617\": [21609, 23567, 12683, 4962, 5334, 18970, 21601, 21660, 4388, 21548], \"16627\": [23557, 20610, 7668, 23515, 25797, 5463, 7250, 11500, 20126, 22735], \"11556\": [22629, 7384, 23597, 12200, 11510, 21838, 2468, 20817, 10912, 9983], \"16704\": [901, 25920, 12201, 12725, 1269, 8790, 882, 17125, 17119, 6928], \"13702\": [775, 786, 776, 774, 778, 779, 574, 785, 780, 767]}"
   ]
  },
  {
   "cell_type": "code",
   "execution_count": 96,
   "metadata": {},
   "outputs": [],
   "source": [
    "import json\n",
    "with open(\"lab02.json\", \"w\") as json_data:\n",
    "    json.dump(result, json_data)"
   ]
  },
  {
   "cell_type": "code",
   "execution_count": 94,
   "metadata": {},
   "outputs": [
    {
     "name": "stdout",
     "output_type": "stream",
     "text": [
      "[Row(desc='Математическая экономика – это набор моделей в той или иной степени правильно описывающих процессы в экономике.')]\n",
      "[Row(id=895, desc='В компьютерном моделировании значительную роль занимает графическое представление моделируемых объектов, явлений и процессов. Графические модели позволяют не только более наглядно представить моделируемые сущности, но  и упростить интерпретацию полученных результатов.  Учебный курс предназначен для изучения базовых возможностей графической библиотеки OpenGL и получения практических навыков создания графических моделей различных типов: от графиков до реалистичных моделей объектов.')]\n",
      "[Row(id=28074, desc='11 лекций филолога Гасана Гусейнова о точках пересечения современной культуры и древнего мифа\\n \\n\\n \\n Почти во всех европейских языках основной лексикон, используемый для представления знания, позаимствован у греков и римлян. Но есть одно слово, которое люди уже не одну тысячу лет оставляют в своих языках в его оригинальной греческой форме, — миф.\\nМиф — это повествование, в котором вымысел так сплетается с истиной, что все истинное может предстать как вымысел или фантазия богов, а фантазия может оказаться сверхреальной. Древнегреческий миф — это не когда-то кем-то оставленное повествование, но повествование, которое мы воссоздаем каждый день, каждую минуту, приступая к чтению Гомера или изучая химическую терминологию, когда объясняем себе мир и когда узнаем что-то неожиданное и новое.\\nЗадача нашего курса не совсем обычная и отличается от традиционных пересказов отдельных мифологических сюжетов. Мы хотим показать те опорные точки, которые непосредственно связывают современного человека с древними мифами Греции. Начиная от мифов о возникновении языка и кончая мифической подкладкой философских категорий, мы видим в нем и предтечу современной науки или даже наук, и прекрасную творческую фантазию, без которой не обходится современная нам культура. \\n1Исследования древнегреческой мифологииФилолог Гасан Гусейнов о ранних формах мифов, идее числа у греков и самом «простом» представлении о мифологииСамая ранняя форма мифов — это объяснение того, почему именно этот рассказ правильный. Для того чтобы представить масштаб и пестроту разных теорий греческого мифа, с которыми мы имеем дело, достаточно сказать, что греческие мифы описывают небосвод, небосклон: у каждой звездочки, у каждого созвездия есть имя, и почти за каждым созвездием скрывается повествование, какая-то история — вот основания для так называемой солярной, или лунарной, теории греческой мифологии.http://postnauka.ru/video/44269\\n2Периодизация древнегреческой мифологииФилолог Гасан Гусейнов о мифологическом сознании, логике мифа и «Теогонии» ГесиодаПервое произведение мировой литературы, которое является изложением, представлением греческой мифологической традиции, — «Илиада» и «Одиссея». И другое произведение, по времени примерно тогда же созданное, как полагают, и это «как полагают» очень важно, потому что у нас нет никаких твердых, точных сведений о том, что это было именно в эти века создано, — я имею в виду «Теогонию» Гесиода, или поэму о происхождении богов. \\r\\n\\r\\nЭти важнейшие памятники, в которых содержится первое изложение, представление мифологии, сами по себе уже являются толкованием и попыткой периодизации мифологической традиции.http://postnauka.ru/video/42796\\n3Логика мифаФилолог Гасан Гусейнов о праповествовании о мире, объяснении мироздания в мифе и отличии мифа от логосаСледовательно, миф это не только универсальное и общее, но еще и частное, и личное. Это то, что присуще каждому человеку, с его личной биографией, которая растянута между прошлым и будущим. И с этой точки зрения миф — это способ выживания во времени. Если бы не миф, который сворачивает, подчиняет себе разные потоки времени, то мы бы жили страшно нервозно, мы бы все время нервничали, что каждую секунду исчезает текущий момент. Будущего еще нет, прошлого уже нет, а настоящее время исчезает. Мы бы не знали, на что опереться. И мы опираемся на миф, мы опираемся на вечное, на представление о вечности, а представление о вечности целиком мифично.http://postnauka.ru/video/3637\\n4Древнегреческий миф и языкФилолог Гасан Гусейнов о понимании языка через миф, табуированности смерти и мифологизации прошлогоФундаментальная трудность языка, если рассматривать его на фоне мифа, — это осознание того, что язык — это единственный предмет, который изучается с помощью самого этого предмета. Когда вы занимаетесь анализом, например, каких-то данных в естественных науках, у вас есть инструменты, и эти инструменты не тождественны объекту, который они исследуют. А в нашем случае нет никаких других инструментов, кроме самого языка, для понимания языка. И миф есть первичная сущность, которая рассказывает о себе с помощью повествования, она рассказывает истории.http://postnauka.ru/video/45966\\n5Категория пространства в мифеФилолог Гасан Гусейнов о рождении пространства и времени, мифе о Сизифе и лабиринте Минотавра Что такое пространство в мифе? Пространство старше времени, потому что мы знаем от Гесиода (и не только от него, но Гесиод первым про это нам рассказал) про первоначальный хаос, который является безвидным и, вообще говоря, является ничем, это просто закрытая пасть. Когда эта пасть в один прекрасный день почему-то раскрылась, возник мир, потому что возникло небо и возникла Земля. И между ними началось взаимодействие, Земля начала порождать что-то. Это и есть первое пространство, здесь все зародилось. А уже потом возникло время. И эта первичность пространства страшно интереснаhttp://postnauka.ru/video/36716\\n6. Древнегреческие мифы о душеЛекция филолога Гасана Гусейнова будет опубликована 14 мая 2015 года\\n7Категория времениФилолог Гасан Гусейнов о рождении времени, вечности, эпохах и миге влюбленности Что такое время? Время – это ответ на вопрос «Когда?». Это не длительность, не философская категория. Это ответ на вопрос «Когда?». И его дать иногда очень трудно, потому что на него можно ответить по-разному. Можно сказать «никогда» или «всегда». Вот эти две крайности, «никогда» и «всегда», говорят о том, что время является для нас загадкой и мы всю жизнь пытаемся эту загадку разгадать. До самого конца своего времени. И когда такая бескрайняя загадка стоит перед человеком, перед человеческим обществом, перед людьми, они на этот вопрос дают очень разнообразные ответы.http://postnauka.ru/video/7066\\n8. Древнегреческие мифы об обществеЛекция филолога Гасана Гусейнова будет опубликована 21 мая 2015 года\\n9. Аполлон и Дионис в культуре XX векаЛекция филолога Гасана Гусейнова будет опубликована 28 мая 2015 года\\n10Эрос в античной культуреФилолог Гасан Гусейнов о происхождении Эрота, слепоте любви и панк-культуреЕсть мнение, что это божество довольно позднее, и первоначально не было никакого Эрота. Есть другое мнение, что, наоборот, Эрот — это очень древний бог, древнейшее божество, старшее по отношению и к Зевсу, и ко всем 12 олимпийским богам, что родился этот бог из мирового яйца, был высижен, у него нет ни отца, ни матери. Есть версия, согласно которой все же мать у него была и это богиня, которая помогает женщинам при родах — Илифия. Но, в принципе, правильно сказать, что это божество, которое пронизывает всю греческую мифологию. Божество, присутствующее в разных сюжетах. И божество, которое очень трудно схватить, потому что появляется оно неожиданно и так же неожиданно может исчезнуть.http://postnauka.ru/video/5999\\n1')]\n",
      "[Row(id=21079, desc='Курс предназначен для ознакомления слушателей с технологиями создания мультироторных (квадрокоптерных) беспилотных летательных аппаратов (БПЛА), начиная с требований для эксплуатации БПЛА в той или иной области народного хозяйства, до получения практических знаний и рекомендаций по разработке, проектированию и пилотированию беспилотников.')]\n",
      "[Row(id=1052, desc='В курсе рассмотрены классические понятия вопросов планирования и управления в производстве, отображены эти понятия в свете новых информационных технологий, тенденции их развития и применения в экономике.')]\n",
      "[Row(id=21299, desc='Основное внимание уделяется изучению наиболее важных сервисов и механизмов защиты информации в сети интернет, а именно, криптографических алгоритмов и протоколов, в которых используются эти алгоритмы.')]\n"
     ]
    },
    {
     "name": "stdout",
     "output_type": "stream",
     "text": [
      "[Row(id=1266, desc='Предлагаемый курс рассматривает различные технические и творческие аспекты цифровой фотографии, позволяя слушателям научиться получать технически совершенные снимки и освоить базовые навыки в области творческой светописи.')]\n",
      "[Row(id=1111, desc='Теория экономических механизмов (mechanism design theory) — быстроразвивающаяся и относительно молодая область экономики, направленная на создание механизмов взаимодействия между эгоистичными агентами.')]\n",
      "[Row(id=1077, desc='Предметом курса являются архитектуры, технологии и инструментарий создания корпоративных систем, т.е. структурная организация таких систем, схемы и средства их промышленного производства.')]\n",
      "[Row(id=1042, desc='Предметом курса являются примеры построения реализаций корпоративных систем, с учетом характерных особенностей различных предметных областей. Акцент сделан на программную платформу Microsoft Dynamics и инструментарий Oracle.')]\n",
      "[Row(id=8123, desc='Простое и комфортное введение в язык программирования Erlang и набор библиотек OTP.')]\n",
      "[Row(id=929, desc='В данном курсе дается современное представление о системах автоматизированного проектирования: видах обеспечения и их развитии. Особое внимание уделяется математическим моделям, связи иерархических уровней проектирования с иерархией математических моделей.')]\n",
      "[Row(id=8313, desc='Потребление сегодня – не просто средство обеспечения основных надобностей, это инструмент конструирования социальной идентичности. Айфон или Андроид? Тайд, Ариэль или хозяйственное мыло? Турецкий ол-инклюзив или рафтинг по алтайским рекам? Адель или Земфира? То, что мы потребляем, характеризует наши предпочтения и мировоззрение. Это часть нашей самопрезентации и средство коммуникации с окружающим миром. То, что ранее было свойством общества потребления в зарубежных развитых странах, уже стало родным и знакомым для современных россиян. Как мы дошли до такой жизни и что нас мотивирует продолжать в этом духе – слушатели узнают из курса о специфике российского потребления и консьюмеризма. Как мы потребляем продукты, непродовольственные товары и услуги, как это зависит от социального статуса и уровня доходов, какие нематериальные аспекты сопутствуют нашему потреблению и потребительству, как на эти процессы влияют экономические кризисы, какие количественные индексы существуют для объективной оценки этих взаимосвязей – в курсе о современных российских потребителях.')]\n",
      "[Row(id=849, desc='Курс является базовым для тех, кто уже связал или собирается связать свою профессиональную деятельность с нефтегазовой отраслью.')]\n",
      "[Row(id=21483, desc='Объектом изучения в курсе является современная языковая ситуация в Юго-Восточной Азии, а предметом – системные факторы (пространственные, исторические, культурные), сформировавшие современное языковое разнообразие региона.')]\n",
      "[Row(id=8300, desc='У человека, впервые столкнувшегося с микроэкономикой, может сложиться впечатление, что это абстрактная научная дисциплина, имеющая отдаленное отношение к реальным проблемам бизнеса. Это не так.  Экономический инструментарий позволяет избежать массы проблем, связанных с оптимизацией бизнес-процессов. Прежде всего, это касается умения наблюдать и считать, умения отбросить несущественные детали и сконцентрироваться на анализе ключевых факторов.')]\n",
      "[Row(id=1033, desc='Данный курс посвящен изучению опыта практического использования моделей хозяйственной деятельности.')]\n",
      "[Row(id=21420, desc='Курс знакомит слушателей с базовыми принципами и технологиями работы журналистов и редакций СМИ.')]\n",
      "[Row(id=17076, desc='Хотите научиться делать красивые и удобные интерфейсы сайтов? «Нетология» запускает новый набор курса «Веб-дизайнер: эффективный сайт от идеи до реализации».\\n\\nЗа два месяца вы сможете получить новую профессию или значительно продвинуться в своих навыках, если уже работаете веб-дизайнером. Все занятия проходят онлайн и доступны в записи. \\n\\nЗа что нас выбрали наши выпускники: \\n\\nВсе преподаватели — практики, ведущие дизайнеры российских агентств.\\nВсе практические работы выполняются на реальных проектах. \\nПо каждой работе преподаватели дают студентам личную консультацию.\\n\\nПосле обучения вы сможете собственноручно работать со всеми этапами создания веб-дизайна, от проектирования сайта до адаптивного и графического дизайна. Помимо дизайнерских навыков, вас научат правильно планировать время, находить источники вдохновения и организовывать работу в команде. \\n\\nВ конце курса — защита дипломных проектов, которые вы сможете использовать в качестве портфолио. Бонусом — бесконечный заряд мотивации на новые дизайнерские подвиги!\\n\\nИ все это с Red Keds, Notamedia, Workle, AGIMA, FNKPNK, General Rhetoric и UIDG.\\n\\nПосмотрите программу, почитайте отзывы студентов')]\n",
      "[Row(id=1383, desc='Курс обсуждает несколько тем, связанных с прикладным программированием – параллельное программирование на разделяемой памяти (многопоточные программы), технические и технологические основы объектно-ориентированного программирования, общие вопросы оформления и написания текста программ, использование структур данных в параллельном окружении, безопасность программного обеспечения и применение криптографии, системы виртуализации.')]\n",
      "[Row(id=894, desc='Излагаются методы, алгоритмы и технические средства компьютерной графики. В основу изложения положены наиболее распространенные алгоритмы двумерной и трехмерной графики. Уделяется внимание также вычислительной геометрии и оценкам сложности алгоритмов.')]\n"
     ]
    }
   ],
   "source": [
    "test_course_id = \"13702\"\n",
    "\n",
    "print(data.filter(col(\"id\") == test_course_id).select(\"desc\").collect())\n",
    "for course in result[test_course_id]:\n",
    "    print(data.filter(col(\"id\") == str(course)).select(\"id\", \"desc\").collect())"
   ]
  },
  {
   "cell_type": "code",
   "execution_count": 97,
   "metadata": {},
   "outputs": [],
   "source": [
    "spark.stop()"
   ]
  },
  {
   "cell_type": "code",
   "execution_count": null,
   "metadata": {},
   "outputs": [],
   "source": []
  }
 ],
 "metadata": {
  "kernelspec": {
   "display_name": "Python 3",
   "language": "python",
   "name": "python3"
  },
  "language_info": {
   "codemirror_mode": {
    "name": "ipython",
    "version": 3
   },
   "file_extension": ".py",
   "mimetype": "text/x-python",
   "name": "python",
   "nbconvert_exporter": "python",
   "pygments_lexer": "ipython3",
   "version": "3.6.5"
  }
 },
 "nbformat": 4,
 "nbformat_minor": 2
}
