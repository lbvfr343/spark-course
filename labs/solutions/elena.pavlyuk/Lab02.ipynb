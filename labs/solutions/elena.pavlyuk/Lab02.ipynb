{
 "cells": [
  {
   "cell_type": "code",
   "execution_count": 67,
   "metadata": {},
   "outputs": [],
   "source": [
    "import os\n",
    "import sys\n",
    "os.environ[\"PYSPARK_PYTHON\"]='/opt/anaconda/envs/bd9/bin/python'\n",
    "os.environ[\"SPARK_HOME\"]='/usr/hdp/current/spark2-client'\n",
    "os.environ[\"PYSPARK_SUBMIT_ARGS\"]='--num-executors 3 pyspark-shell'\n",
    "\n",
    "spark_home = os.environ.get('SPARK_HOME', None)\n",
    "\n",
    "sys.path.insert(0, os.path.join(spark_home, 'python'))\n",
    "sys.path.insert(0, os.path.join(spark_home, 'python/lib/py4j-0.10.7-src.zip'))"
   ]
  },
  {
   "cell_type": "code",
   "execution_count": 68,
   "metadata": {},
   "outputs": [],
   "source": [
    "from pyspark import SparkConf\n",
    "from pyspark.sql import SparkSession\n",
    "\n",
    "conf = SparkConf()\n",
    "conf.set(\"spark.app.name\", \"Yelena Pavlyuk lab02\") \n",
    "\n",
    "spark = SparkSession.builder.config(conf=conf).getOrCreate()"
   ]
  },
  {
   "cell_type": "code",
   "execution_count": 165,
   "metadata": {},
   "outputs": [
    {
     "data": {
      "text/html": [
       "\n",
       "            <div>\n",
       "                <p><b>SparkSession - in-memory</b></p>\n",
       "                \n",
       "        <div>\n",
       "            <p><b>SparkContext</b></p>\n",
       "\n",
       "            <p><a href=\"http://spark-master-4.newprolab.com:4043\">Spark UI</a></p>\n",
       "\n",
       "            <dl>\n",
       "              <dt>Version</dt>\n",
       "                <dd><code>v2.4.7</code></dd>\n",
       "              <dt>Master</dt>\n",
       "                <dd><code>yarn</code></dd>\n",
       "              <dt>AppName</dt>\n",
       "                <dd><code>Yelena Pavlyuk lab02</code></dd>\n",
       "            </dl>\n",
       "        </div>\n",
       "        \n",
       "            </div>\n",
       "        "
      ],
      "text/plain": [
       "<pyspark.sql.session.SparkSession at 0x7f6234095978>"
      ]
     },
     "execution_count": 165,
     "metadata": {},
     "output_type": "execute_result"
    }
   ],
   "source": [
    "spark"
   ]
  },
  {
   "cell_type": "code",
   "execution_count": 166,
   "metadata": {},
   "outputs": [],
   "source": [
    "from pyspark.sql.types import ArrayType,StringType,FloatType\n",
    "from pyspark.ml.feature import HashingTF, IDF\n",
    "from pyspark.ml.linalg import DenseVector, SparseVector, Vectors\n",
    "import pyspark.sql.functions as f\n",
    "from pyspark.sql.functions import col\n",
    "import re"
   ]
  },
  {
   "cell_type": "code",
   "execution_count": 167,
   "metadata": {},
   "outputs": [
    {
     "name": "stdout",
     "output_type": "stream",
     "text": [
      "{\"lang\": \"en\", \"name\": \"Accounting Cycle: The Foundation of Business Measurement and Reporting\", \"cat\": \"3/business_management|6/economics_finance\", \"provider\": \"Canvas Network\", \"id\": 4, \"desc\": \"This course introduces the basic financial statements used by most businesses, as well as the essential tools used to prepare them. This course will serve as a resource to help business students succeed in their upcoming university-level accounting classes, and as a refresher for upper division accounting students who are struggling to recall elementary concepts essential to more advanced accounting topics. Business owners will also benefit from this class by gaining essential skills necessary to organize and manage information pertinent to operating their business. At the conclusion of the class, students will understand the balance sheet, income statement, and cash flow statement. They will be able to differentiate between cash basis and accrual basis techniques, and know when each is appropriate. They\\u2019ll als"
     ]
    }
   ],
   "source": [
    "!hdfs dfs -head /labs/slaba02/DO_record_per_line.json"
   ]
  },
  {
   "cell_type": "code",
   "execution_count": 168,
   "metadata": {},
   "outputs": [],
   "source": [
    "dataset = spark.read.json(\"/labs/slaba02/DO_record_per_line.json\")"
   ]
  },
  {
   "cell_type": "code",
   "execution_count": 169,
   "metadata": {},
   "outputs": [
    {
     "data": {
      "text/plain": [
       "DataFrame[cat: string, desc: string, id: bigint, lang: string, name: string, provider: string]"
      ]
     },
     "execution_count": 169,
     "metadata": {},
     "output_type": "execute_result"
    }
   ],
   "source": [
    "dataset"
   ]
  },
  {
   "cell_type": "code",
   "execution_count": 170,
   "metadata": {},
   "outputs": [
    {
     "name": "stdout",
     "output_type": "stream",
     "text": [
      "+--------------------+--------------------+---+----+--------------------+--------------+\n",
      "|                 cat|                desc| id|lang|                name|      provider|\n",
      "+--------------------+--------------------+---+----+--------------------+--------------+\n",
      "|3/business_manage...|This course intro...|  4|  en|Accounting Cycle:...|Canvas Network|\n",
      "|              11/law|This online cours...|  5|  en|American Counter ...|Canvas Network|\n",
      "|5/computer_scienc...|This course is ta...|  6|  fr|Arithmétique: en ...|Canvas Network|\n",
      "|  14/social_sciences|We live in a digi...|  7|  en|Becoming a Dynami...|Canvas Network|\n",
      "|2/biology_life_sc...|This self-paced c...|  8|  en|           Bioethics|Canvas Network|\n",
      "|9/humanities|15/m...|This game-based c...|  9|  en|College Foundatio...|Canvas Network|\n",
      "|  14/social_sciences|What’s in your di...| 10|  en|Digital Literacies I|Canvas Network|\n",
      "|  14/social_sciences|The goal of the D...| 11|  en|Digital Literacie...|Canvas Network|\n",
      "|  14/social_sciences|Ready to explore ...| 12|  en|Digital Tools for...|Canvas Network|\n",
      "|  14/social_sciences|This self-paced c...| 13|  en|Discover Your Val...|Canvas Network|\n",
      "+--------------------+--------------------+---+----+--------------------+--------------+\n",
      "only showing top 10 rows\n",
      "\n"
     ]
    }
   ],
   "source": [
    "dataset.show(10)"
   ]
  },
  {
   "cell_type": "code",
   "execution_count": 171,
   "metadata": {},
   "outputs": [
    {
     "data": {
      "text/plain": [
       "3"
      ]
     },
     "execution_count": 171,
     "metadata": {},
     "output_type": "execute_result"
    }
   ],
   "source": [
    "dataset.rdd.getNumPartitions()"
   ]
  },
  {
   "cell_type": "code",
   "execution_count": 172,
   "metadata": {},
   "outputs": [
    {
     "data": {
      "text/plain": [
       "28153"
      ]
     },
     "execution_count": 172,
     "metadata": {},
     "output_type": "execute_result"
    }
   ],
   "source": [
    "dataset.count()"
   ]
  },
  {
   "cell_type": "code",
   "execution_count": 173,
   "metadata": {},
   "outputs": [
    {
     "name": "stdout",
     "output_type": "stream",
     "text": [
      "-RECORD 0-------------------------------------------------------------------------------------------------------------------------------------------------------------------------------------------------------------------------------------------------------------------------------------------------------------------------------------------------------------------------------------------------------------------------------------------------------------------------------------------------------------------------------------------------------------------------------------------------------------------------------------------------------------------------------------------------------------------------------------------------------------------------------------------------------------------------------------------------------------------------------------------------------------------------------------------------------------------------------------------------------------------------------------------------------------------------------------------------------------------------------------------------------------------------------------------------------------------------------------------------------------------------------------------------------------------------------------------------------------------------------------------------------------------------------------------------------------------------------------------------------------------------------------------------------------------------------------------------------------------------------------------------------------------------------------------------------------------------------------------------------------------------------------------------------------------------------------------------------------------------------------------------------------------------------------------------------------------------------------------------------------------------------------------------------------------------------------------------------------------------------------------------------------------------------------------------------------------------------------------------------------------------------------------------------------------------------------------------------------------------------------------------------------------------------------------------------------------------------------------------------------------------------------------------------------------------------------------------------------------------------------------------------------------------------------------------------------------------------------------------------------------------------------------------------------------------------------------------------------------------------------------------------------------------------------------------------------------------------------------------------------------------------------------------------------------------------------------------------\n",
      " cat      |                                                                                                                                                                                                                                                                                                                                                                                                                                                                                                                                                                                                                                                                                                                                                                                                                                                                                                                                                                                                                                                                                                                                                                                                                                                                                                                                                                                                                                                                                                                                                                                                                                                                                                                                                                                                                                                                                                                                                                                                                                                                                                                                                                                                                                                                                                                                                                                                                                                                                                                                                                                                                                                                                                                                                                                                                                                                                                                                                                                                                                                                                                     \n",
      " desc     |  Improve your SASS skill by learning benefits coming from Compass framework, which has many saving time useful utilities Compass is a framework (library) for SASS which means that you can find inside it lots of useful utilities that are gonna be shown to you inside this course. These utilities can save your time while you are developing your websites. By using Compass you can use created by others functions/mixins which you would need to most time write on your own. As always time = money. Save your time by learning Compass. Make your website load faster using Sprites within Compass. With Compass you gonna create Sprites almost instantly. If you do not know what are Sprites watch a free lesson about Sprites and you will see that this course is worth taking. After this course you will know how to: install compass integrate compass with sass use compass use and know what are sprites use Compass inside a great IDE create vendor prefixes using mixins and much more I give you 100% satisfaction - if you do not like my course you can request a full refund up to 30 days. Remember that if you have any questions regarding topics covered in the course please feel free to ask. I'm always happy to help! Please check free lessons before buying! See for yourself the great quality of the course and enjoy it! What are the requirements? You should already be familiar with CSS, HTML and SASS. What am I going to get from this course? Over 22 lectures and 2 hours of content! install compass integrate compass with sass explore compass framework use and know what are sprites know how to create vendor prefixes using mixins integrate compass and sass inside great IDE so the process of compilation is gonna be automated and you won't lose your precious time the most useful mixins/functions What is the target audience? This Compass course is meant for people who do not know Compass or want to improve / remind themselves of things that are inside Compass. No prior knowledge about Compass is needed. This course is not for you if you do not know SASS SECTION 1: Introduction to the Course\n",
      "What is Compass?Who Am I?What you will know after this course?SECTION 2: Compass Installation\n",
      "Installation of CompassSolution for problems with SSL when installing CompassCompass manually installationConfiguration using config.rb fileSECTION 3: Sprites\n",
      "What are sprites? Why they are so awesome?Creating sprites using CompassCustomization of spritesMagic in Compass using SpritesCreating Sprites in Compass is so awesome! - RehersalSECTION 4: Usage\n",
      "Mixins used for creating vendor prefixesSetting vendor prefixies minimum browser requirementHow to make horizontal lists fast?How to keep 'rhytm' in text using Vertical RhytmHelper functionsStreching boxesFast Summary of Usage sectionSECTION 5: BONUS: installation of SASS/Ruby/IDE\n",
      "Ideal editor for working with SASS and CompassInstallation and configuration of SASSManually compilation of SASSSECTION 6: Summary\n",
      "What after this course? \n",
      " id       | 23126                                                                                                                                                                                                                                                                                                                                                                                                                                                                                                                                                                                                                                                                                                                                                                                                                                                                                                                                                                                                                                                                                                                                                                                                                                                                                                                                                                                                                                                                                                                                                                                                                                                                                                                                                                                                                                                                                                                                                                                                                                                                                                                                                                                                                                                                                                                                                                                                                                                                                                                                                                                                                                                                                                                                                                                                                                                                                                                                                                                                                                                                                               \n",
      " lang     | en                                                                                                                                                                                                                                                                                                                                                                                                                                                                                                                                                                                                                                                                                                                                                                                                                                                                                                                                                                                                                                                                                                                                                                                                                                                                                                                                                                                                                                                                                                                                                                                                                                                                                                                                                                                                                                                                                                                                                                                                                                                                                                                                                                                                                                                                                                                                                                                                                                                                                                                                                                                                                                                                                                                                                                                                                                                                                                                                                                                                                                                                                                  \n",
      " name     | Compass - powerful SASS library that makes your life easier                                                                                                                                                                                                                                                                                                                                                                                                                                                                                                                                                                                                                                                                                                                                                                                                                                                                                                                                                                                                                                                                                                                                                                                                                                                                                                                                                                                                                                                                                                                                                                                                                                                                                                                                                                                                                                                                                                                                                                                                                                                                                                                                                                                                                                                                                                                                                                                                                                                                                                                                                                                                                                                                                                                                                                                                                                                                                                                                                                                                                                         \n",
      " provider | Udemy                                                                                                                                                                                                                                                                                                                                                                                                                                                                                                                                                                                                                                                                                                                                                                                                                                                                                                                                                                                                                                                                                                                                                                                                                                                                                                                                                                                                                                                                                                                                                                                                                                                                                                                                                                                                                                                                                                                                                                                                                                                                                                                                                                                                                                                                                                                                                                                                                                                                                                                                                                                                                                                                                                                                                                                                                                                                                                                                                                                                                                                                                               \n",
      "\n"
     ]
    }
   ],
   "source": [
    "dataset.filter(f.col(\"id\") == \"23126\").show(1, vertical=True, truncate=False)"
   ]
  },
  {
   "cell_type": "code",
   "execution_count": 174,
   "metadata": {},
   "outputs": [],
   "source": [
    "regex = re.compile(u'[\\w\\d]{2,}', re.U)"
   ]
  },
  {
   "cell_type": "code",
   "execution_count": 175,
   "metadata": {},
   "outputs": [],
   "source": [
    "def regexFunc(str):\n",
    "    return regex.findall(str.lower())"
   ]
  },
  {
   "cell_type": "code",
   "execution_count": 176,
   "metadata": {},
   "outputs": [],
   "source": [
    "regexUDF = f.udf(lambda z:regexFunc(z),  ArrayType(StringType()))"
   ]
  },
  {
   "cell_type": "code",
   "execution_count": 177,
   "metadata": {},
   "outputs": [],
   "source": [
    "dataset2 = dataset.withColumn(\"words\", regexUDF(dataset[\"desc\"]))"
   ]
  },
  {
   "cell_type": "code",
   "execution_count": 178,
   "metadata": {},
   "outputs": [
    {
     "data": {
      "text/plain": [
       "DataFrame[cat: string, desc: string, id: bigint, lang: string, name: string, provider: string, words: array<string>]"
      ]
     },
     "execution_count": 178,
     "metadata": {},
     "output_type": "execute_result"
    }
   ],
   "source": [
    "dataset2"
   ]
  },
  {
   "cell_type": "code",
   "execution_count": 180,
   "metadata": {},
   "outputs": [
    {
     "name": "stdout",
     "output_type": "stream",
     "text": [
      "-RECORD 0----------------------------------------------------------------------------------------------------------------------------------------------------------------------------------------------------------------------------------------------------------------------------------------------------------------------------------------------------------------------------------------------------------------------------------------------------------------------------------------------------------------------------------------------------------------------------------------------------------------------------------------------------------------------------------------------------------------------------------------------------------------------------------------------------------------------------------------------------------------------------------------------------------------------------------------------------------------------------------------------------------------------------------------------------------------------------------------------------------------------------------------------------------------------------------------------------------------------------------------------------------------------------------------------------------------------------------------------------------------------------------------------------------------------------------------------------------------------------------------------------------------------------------------------------------------------------------------------------------------------------------------------------------------------------------------------------------------------------------------------------------------------------------------------------------------------------------------------------------------------------------------------------------------------------------------------------------------------------------------------------------------------------------------------------------------------------------------------------------------------------------------------------------------------------------------------------------------------------------------------------------------------------------------------------------------------------------------------------------------------------------------------------------------------------------------------------------------------------------------------------------------------------------------------------------------------------------------------------------------------------------------------------------------------------------------------------------------------------------------------------------------------------------------------------------------------------------------------------------------------------------------------------------------------------------------------------------------------------------------------------------------------------------------------------------------------------------------------------------------------------------------------------------------------------------------------------------------------------------------------------------------------------------------------------------------------------------------------------------------------------------------------------------------------------------------------------------------------------------------------------------------\n",
      " cat      |                                                                                                                                                                                                                                                                                                                                                                                                                                                                                                                                                                                                                                                                                                                                                                                                                                                                                                                                                                                                                                                                                                                                                                                                                                                                                                                                                                                                                                                                                                                                                                                                                                                                                                                                                                                                                                                                                                                                                                                                                                                                                                                                                                                                                                                                                                                                                                                                                                                                                                                                                                                                                                                                                                                                                                                                                                                                                                                                                                                                                                                                                                                                                                                                                                                                                                                                                                                                                                                                                                              \n",
      " desc     |  Improve your SASS skill by learning benefits coming from Compass framework, which has many saving time useful utilities Compass is a framework (library) for SASS which means that you can find inside it lots of useful utilities that are gonna be shown to you inside this course. These utilities can save your time while you are developing your websites. By using Compass you can use created by others functions/mixins which you would need to most time write on your own. As always time = money. Save your time by learning Compass. Make your website load faster using Sprites within Compass. With Compass you gonna create Sprites almost instantly. If you do not know what are Sprites watch a free lesson about Sprites and you will see that this course is worth taking. After this course you will know how to: install compass integrate compass with sass use compass use and know what are sprites use Compass inside a great IDE create vendor prefixes using mixins and much more I give you 100% satisfaction - if you do not like my course you can request a full refund up to 30 days. Remember that if you have any questions regarding topics covered in the course please feel free to ask. I'm always happy to help! Please check free lessons before buying! See for yourself the great quality of the course and enjoy it! What are the requirements? You should already be familiar with CSS, HTML and SASS. What am I going to get from this course? Over 22 lectures and 2 hours of content! install compass integrate compass with sass explore compass framework use and know what are sprites know how to create vendor prefixes using mixins integrate compass and sass inside great IDE so the process of compilation is gonna be automated and you won't lose your precious time the most useful mixins/functions What is the target audience? This Compass course is meant for people who do not know Compass or want to improve / remind themselves of things that are inside Compass. No prior knowledge about Compass is needed. This course is not for you if you do not know SASS SECTION 1: Introduction to the Course\n",
      "What is Compass?Who Am I?What you will know after this course?SECTION 2: Compass Installation\n",
      "Installation of CompassSolution for problems with SSL when installing CompassCompass manually installationConfiguration using config.rb fileSECTION 3: Sprites\n",
      "What are sprites? Why they are so awesome?Creating sprites using CompassCustomization of spritesMagic in Compass using SpritesCreating Sprites in Compass is so awesome! - RehersalSECTION 4: Usage\n",
      "Mixins used for creating vendor prefixesSetting vendor prefixies minimum browser requirementHow to make horizontal lists fast?How to keep 'rhytm' in text using Vertical RhytmHelper functionsStreching boxesFast Summary of Usage sectionSECTION 5: BONUS: installation of SASS/Ruby/IDE\n",
      "Ideal editor for working with SASS and CompassInstallation and configuration of SASSManually compilation of SASSSECTION 6: Summary\n",
      "What after this course?                                                                                                                                                                                                                                                                                                                                                                                                          \n",
      " id       | 23126                                                                                                                                                                                                                                                                                                                                                                                                                                                                                                                                                                                                                                                                                                                                                                                                                                                                                                                                                                                                                                                                                                                                                                                                                                                                                                                                                                                                                                                                                                                                                                                                                                                                                                                                                                                                                                                                                                                                                                                                                                                                                                                                                                                                                                                                                                                                                                                                                                                                                                                                                                                                                                                                                                                                                                                                                                                                                                                                                                                                                                                                                                                                                                                                                                                                                                                                                                                                                                                                                                        \n",
      " lang     | en                                                                                                                                                                                                                                                                                                                                                                                                                                                                                                                                                                                                                                                                                                                                                                                                                                                                                                                                                                                                                                                                                                                                                                                                                                                                                                                                                                                                                                                                                                                                                                                                                                                                                                                                                                                                                                                                                                                                                                                                                                                                                                                                                                                                                                                                                                                                                                                                                                                                                                                                                                                                                                                                                                                                                                                                                                                                                                                                                                                                                                                                                                                                                                                                                                                                                                                                                                                                                                                                                                           \n",
      " name     | Compass - powerful SASS library that makes your life easier                                                                                                                                                                                                                                                                                                                                                                                                                                                                                                                                                                                                                                                                                                                                                                                                                                                                                                                                                                                                                                                                                                                                                                                                                                                                                                                                                                                                                                                                                                                                                                                                                                                                                                                                                                                                                                                                                                                                                                                                                                                                                                                                                                                                                                                                                                                                                                                                                                                                                                                                                                                                                                                                                                                                                                                                                                                                                                                                                                                                                                                                                                                                                                                                                                                                                                                                                                                                                                                  \n",
      " provider | Udemy                                                                                                                                                                                                                                                                                                                                                                                                                                                                                                                                                                                                                                                                                                                                                                                                                                                                                                                                                                                                                                                                                                                                                                                                                                                                                                                                                                                                                                                                                                                                                                                                                                                                                                                                                                                                                                                                                                                                                                                                                                                                                                                                                                                                                                                                                                                                                                                                                                                                                                                                                                                                                                                                                                                                                                                                                                                                                                                                                                                                                                                                                                                                                                                                                                                                                                                                                                                                                                                                                                        \n",
      " words    | [improve, your, sass, skill, by, learning, benefits, coming, from, compass, framework, which, has, many, saving, time, useful, utilities, compass, is, framework, library, for, sass, which, means, that, you, can, find, inside, it, lots, of, useful, utilities, that, are, gonna, be, shown, to, you, inside, this, course, these, utilities, can, save, your, time, while, you, are, developing, your, websites, by, using, compass, you, can, use, created, by, others, functions, mixins, which, you, would, need, to, most, time, write, on, your, own, as, always, time, money, save, your, time, by, learning, compass, make, your, website, load, faster, using, sprites, within, compass, with, compass, you, gonna, create, sprites, almost, instantly, if, you, do, not, know, what, are, sprites, watch, free, lesson, about, sprites, and, you, will, see, that, this, course, is, worth, taking, after, this, course, you, will, know, how, to, install, compass, integrate, compass, with, sass, use, compass, use, and, know, what, are, sprites, use, compass, inside, great, ide, create, vendor, prefixes, using, mixins, and, much, more, give, you, 100, satisfaction, if, you, do, not, like, my, course, you, can, request, full, refund, up, to, 30, days, remember, that, if, you, have, any, questions, regarding, topics, covered, in, the, course, please, feel, free, to, ask, always, happy, to, help, please, check, free, lessons, before, buying, see, for, yourself, the, great, quality, of, the, course, and, enjoy, it, what, are, the, requirements, you, should, already, be, familiar, with, css, html, and, sass, what, am, going, to, get, from, this, course, over, 22, lectures, and, hours, of, content, install, compass, integrate, compass, with, sass, explore, compass, framework, use, and, know, what, are, sprites, know, how, to, create, vendor, prefixes, using, mixins, integrate, compass, and, sass, inside, great, ide, so, the, process, of, compilation, is, gonna, be, automated, and, you, won, lose, your, precious, time, the, most, useful, mixins, functions, what, is, the, target, audience, this, compass, course, is, meant, for, people, who, do, not, know, compass, or, want, to, improve, remind, themselves, of, things, that, are, inside, compass, no, prior, knowledge, about, compass, is, needed, this, course, is, not, for, you, if, you, do, not, know, sass, section, introduction, to, the, course, what, is, compass, who, am, what, you, will, know, after, this, course, section, compass, installation, installation, of, compasssolution, for, problems, with, ssl, when, installing, compasscompass, manually, installationconfiguration, using, config, rb, filesection, sprites, what, are, sprites, why, they, are, so, awesome, creating, sprites, using, compasscustomization, of, spritesmagic, in, compass, using, spritescreating, sprites, in, compass, is, so, awesome, rehersalsection, usage, mixins, used, for, creating, vendor, prefixessetting, vendor, prefixies, minimum, browser, requirementhow, to, make, horizontal, lists, fast, how, to, keep, rhytm, in, text, using, vertical, rhytmhelper, functionsstreching, boxesfast, summary, of, usage, sectionsection, bonus, installation, of, sass, ruby, ide, ideal, editor, for, working, with, sass, and, compassinstallation, and, configuration, of, sassmanually, compilation, of, sasssection, summary, what, after, this, course] \n",
      "\n"
     ]
    }
   ],
   "source": [
    "dataset2.filter(f.col(\"id\") == \"23126\").show(1, vertical=True, truncate=False)"
   ]
  },
  {
   "cell_type": "code",
   "execution_count": 181,
   "metadata": {},
   "outputs": [],
   "source": [
    "hasher = HashingTF(numFeatures=10000, binary=False, inputCol=\"words\", outputCol=\"word_vector\")"
   ]
  },
  {
   "cell_type": "code",
   "execution_count": 182,
   "metadata": {},
   "outputs": [],
   "source": [
    "dataset2 = hasher.transform(dataset2)"
   ]
  },
  {
   "cell_type": "code",
   "execution_count": 183,
   "metadata": {},
   "outputs": [],
   "source": [
    "idf = IDF(inputCol=\"word_vector\", outputCol=\"word_vector_idf\").fit(dataset2)"
   ]
  },
  {
   "cell_type": "code",
   "execution_count": 184,
   "metadata": {},
   "outputs": [],
   "source": [
    "dataset2 = idf.transform(dataset2)"
   ]
  },
  {
   "cell_type": "code",
   "execution_count": 185,
   "metadata": {},
   "outputs": [
    {
     "data": {
      "text/plain": [
       "DataFrame[cat: string, desc: string, id: bigint, lang: string, name: string, provider: string, words: array<string>, word_vector: vector, word_vector_idf: vector]"
      ]
     },
     "execution_count": 185,
     "metadata": {},
     "output_type": "execute_result"
    }
   ],
   "source": [
    "dataset2"
   ]
  },
  {
   "cell_type": "code",
   "execution_count": 186,
   "metadata": {},
   "outputs": [
    {
     "name": "stdout",
     "output_type": "stream",
     "text": [
      "-RECORD 0----------------------------------------------------------------------------------------------------------------------------------------------------------------------------------------------------------------------------------------------------------------------------------------------------------------------------------------------------------------------------------------------------------------------------------------------------------------------------------------------------------------------------------------------------------------------------------------------------------------------------------------------------------------------------------------------------------------------------------------------------------------------------------------------------------------------------------------------------------------------------------------------------------------------------------------------------------------------------------------------------------------------------------------------------------------------------------------------------------------------------------------------------------------------------------------------------------------------------------------------------------------------------------------------------------------------------------------------------------------------------------------------------------------------------------------------------------------------------------------------------------------------------------------------------------------------------------------------------------------------------------------------------------------------------------------------------------------------------------------------------------------------------------------------------------------------------------------------------------------------------------------------------------------------------------------------------------------------------------------------------------------------------------------------------------------------------------------------------------------------------------------------------------------------------------------------------------------------------------------------------------------------------------------------------------------------------------------------------------------------------------------------------------------------------------------------------------------------------------------------------------------------------------------------------------------------------------------\n",
      " id              | 4                                                                                                                                                                                                                                                                                                                                                                                                                                                                                                                                                                                                                                                                                                                                                                                                                                                                                                                                                                                                                                                                                                                                                                                                                                                                                                                                                                                                                                                                                                                                                                                                                                                                                                                                                                                                                                                                                                                                                                                                                                                                                                                                                                                                                                                                                                                                                                                                                                                                                                                                                                             \n",
      " word_vector     | (10000,[36,63,138,157,177,362,534,572,603,646,885,1023,1036,1072,1135,1299,1355,1390,1420,1445,1446,1501,1523,1670,1697,1770,2015,2092,2217,2460,2523,2577,2656,2757,3138,3223,3231,3251,3281,3496,3792,3834,3849,3903,3921,4224,4343,4364,4436,4742,4978,5076,5189,5373,5374,5412,5710,5833,5924,6048,6158,6235,6236,6395,6470,6511,6541,6629,6642,6697,6756,6863,7008,7270,7282,7290,7298,7735,7772,7779,7895,7936,7956,7973,8041,8140,8164,8234,8237,8333,8370,8388,8534,8579,8624,8644,8968,9328,9347,9481,9540,9605,9695,9809,9953,9970],[1.0,1.0,1.0,1.0,1.0,1.0,1.0,4.0,1.0,1.0,1.0,1.0,2.0,1.0,1.0,1.0,1.0,1.0,4.0,1.0,1.0,1.0,4.0,1.0,1.0,1.0,3.0,4.0,1.0,2.0,1.0,1.0,2.0,1.0,1.0,3.0,1.0,1.0,2.0,1.0,2.0,1.0,2.0,1.0,1.0,1.0,1.0,1.0,1.0,1.0,1.0,1.0,1.0,4.0,3.0,1.0,7.0,1.0,1.0,2.0,1.0,2.0,1.0,1.0,1.0,1.0,1.0,1.0,1.0,1.0,1.0,2.0,2.0,1.0,2.0,1.0,1.0,1.0,1.0,1.0,1.0,1.0,2.0,1.0,1.0,1.0,2.0,2.0,3.0,10.0,1.0,12.0,3.0,1.0,1.0,1.0,1.0,1.0,1.0,1.0,1.0,2.0,1.0,1.0,1.0,1.0])                                                                                                                                                                                                                                                                                                                                                                                                                                                                                                                                                                                                                                                                                                                                                                                                                                                                                                                                                                                                                                                                                                                                                                                                                                                                                                                                                                                                                                                                                                                                                                                    \n",
      " word_vector_idf | (10000,[36,63,138,157,177,362,534,572,603,646,885,1023,1036,1072,1135,1299,1355,1390,1420,1445,1446,1501,1523,1670,1697,1770,2015,2092,2217,2460,2523,2577,2656,2757,3138,3223,3231,3251,3281,3496,3792,3834,3849,3903,3921,4224,4343,4364,4436,4742,4978,5076,5189,5373,5374,5412,5710,5833,5924,6048,6158,6235,6236,6395,6470,6511,6541,6629,6642,6697,6756,6863,7008,7270,7282,7290,7298,7735,7772,7779,7895,7936,7956,7973,8041,8140,8164,8234,8237,8333,8370,8388,8534,8579,8624,8644,8968,9328,9347,9481,9540,9605,9695,9809,9953,9970],[3.846849784852703,3.428708838792942,3.9613105583171087,1.5551389102630284,3.3457216121030378,3.4475043064129802,1.769490275988271,3.5977509439607775,5.888735892698319,3.5734117739268436,1.807294735312126,2.843603140644081,1.0215802109303649,1.5526189593285151,2.2757411361092554,0.9696912088634959,2.334120700424558,4.226851504891676,2.661342015847351,0.3878440496242589,2.360868208791586,2.3650183750955107,5.642101336686062,3.3257608695405,1.548767325997879,1.494603344012378,8.86136553064035,15.354258933274386,1.186043522977014,0.8192946316434655,4.541662244731709,3.462119518783951,1.6653068386452148,4.874806691260248,0.5593050455694158,2.608769726802464,2.3377931246768218,3.671764552427265,0.8812359073515057,1.833389846094978,2.84771968391389,1.9066607479457123,4.219023894766041,3.083822716448723,0.5284674842671919,2.1845889664535942,0.2892698445727761,4.548351232882506,3.7426546734722868,3.840216261357069,2.033147581158142,1.8394065773378356,1.3876449922120053,1.53132498424702,5.089096017328055,3.0005031730509035,1.604150375636624,0.9725052056552079,1.77849274440842,3.3215596257133213,3.3995648441238613,2.600224205649273,2.091807233002628,2.7832297796197216,3.741156545851265,1.8219030840531285,3.166260324778243,1.0914630810811123,4.879468704366059,2.8701889413781565,1.1233892622792996,6.351141181858677,6.250000693990845,4.059236095487417,6.0811044183664755,4.847282017870158,3.7336993897431827,3.741156545851265,3.9015642852615797,1.4846780951459553,3.7471625699114766,3.4232473287674203,6.888323369832581,3.236035786679274,3.683000625694191,4.829344317183491,3.2830470489236983,6.392379756264148,1.808602466418407,1.6268191199423345,5.370247396186759,2.485968846123008,6.414981745912562,2.165826689998071,3.1823965559997385,2.343327173111463,1.1054195213267537,3.67877228958467,1.5055880918943407,2.3400030703276244,3.6134429419922807,4.069553376449869,3.8352698374217438,3.39531855324241,5.058058913547155,1.8001772675432621]) \n",
      "only showing top 1 row\n",
      "\n"
     ]
    }
   ],
   "source": [
    "dataset2.select(\"id\", \"word_vector\", \"word_vector_idf\").show(1, False, True)"
   ]
  },
  {
   "cell_type": "code",
   "execution_count": 187,
   "metadata": {},
   "outputs": [],
   "source": [
    "def cosine_udf(v, u):\n",
    "    cosine = v.dot(u) / (v.norm(2) * u.norm(2))\n",
    "    return float(cosine)"
   ]
  },
  {
   "cell_type": "code",
   "execution_count": 188,
   "metadata": {},
   "outputs": [],
   "source": [
    "cosine_wrapper = f.udf(lambda x,y: cosine_udf(x, y), FloatType())"
   ]
  },
  {
   "cell_type": "code",
   "execution_count": 189,
   "metadata": {},
   "outputs": [
    {
     "data": {
      "text/plain": [
       "[[23126, 'en', 'Compass - powerful SASS library that makes your life easier'],\n",
       " [21617, 'en', 'Preparing for the AP* Computer Science A Exam — Part 2'],\n",
       " [16627, 'es', 'Aprende Excel: Nivel Intermedio by Alfonso Rinsche'],\n",
       " [11556,\n",
       "  'es',\n",
       "  'Aprendizaje Colaborativo by UNID Universidad Interamericana para el Desarrollo'],\n",
       " [16704, 'ru', 'Программирование на Lazarus'],\n",
       " [13702, 'ru', 'Математическая экономика']]"
      ]
     },
     "execution_count": 189,
     "metadata": {},
     "output_type": "execute_result"
    }
   ],
   "source": [
    "courses = [[23126, u'en', u'Compass - powerful SASS library that makes your life easier'], [21617, u'en', u'Preparing for the AP* Computer Science A Exam \\u2014 Part 2'], [16627, u'es', u'Aprende Excel: Nivel Intermedio by Alfonso Rinsche'], [11556,u'es', u'Aprendizaje Colaborativo by UNID Universidad Interamericana para el Desarrollo'], [16704, u'ru', u'\\u041f\\u0440\\u043e\\u0433\\u0440\\u0430\\u043c\\u043c\\u0438\\u0440\\u043e\\u0432\\u0430\\u043d\\u0438\\u0435 \\u043d\\u0430 Lazarus'], [13702, u'ru', u'\\u041c\\u0430\\u0442\\u0435\\u043c\\u0430\\u0442\\u0438\\u0447\\u0435\\u0441\\u043a\\u0430\\u044f \\u044d\\u043a\\u043e\\u043d\\u043e\\u043c\\u0438\\u043a\\u0430']]\n",
    "courses"
   ]
  },
  {
   "cell_type": "code",
   "execution_count": 190,
   "metadata": {},
   "outputs": [
    {
     "name": "stdout",
     "output_type": "stream",
     "text": [
      "{'23126': [14760, 13665, 13782, 20638, 24419, 15909, 2724, 25782, 17499, 13348], '21617': [21609, 21616, 21608, 22298, 21630, 21628, 21623, 21508, 21081, 19417], '16627': [11431, 11575, 12247, 17964, 5687, 17961, 16694, 12660, 25010, 5558], '11556': [16488, 468, 13461, 23357, 19330, 7833, 9289, 10447, 22710, 11340], '16704': [1236, 1247, 1365, 1273, 20288, 1164, 8186, 1233, 8203, 875], '13702': [864, 21079, 8313, 1041, 28074, 8300, 1033, 13057, 21025, 1111]}\n"
     ]
    }
   ],
   "source": [
    "answer = {}\n",
    "j=0\n",
    "for i in courses:\n",
    "    ln = courses[j][1]\n",
    "    #print(ln)\n",
    "    id_c = courses[j][0]\n",
    "    #print(id_c)\n",
    "    df = dataset2.filter((col(\"lang\") == ln) & (col(\"id\") != id_c)).select(\"id\", \"name\", \"word_vector_idf\")\n",
    "    #df.show(2)\n",
    "    v_cr = dataset2.filter(col(\"id\") == id_c).select(col(\"word_vector_idf\").alias(\"course_vector\"))\n",
    "    #v_cr.show(1)\n",
    "    df = df.crossJoin(v_cr)\n",
    "    df = df.withColumn(\"vector_cosine\", cosine_wrapper(\"word_vector_idf\",\"course_vector\"))\n",
    "    #df.filter(\"vector_cosine <> 'NaN'\").sort(col(\"vector_cosine\").desc(), col(\"name\"), col(\"id\")).show(10)\n",
    "    df_top10 = df.filter(\"vector_cosine <> 'NaN'\").sort(col(\"vector_cosine\").desc(), col(\"name\"), col(\"id\")).select(\"id\").limit(10)\n",
    "    l=df_top10.rdd.map(lambda x:x[0]).collect()\n",
    "    #print(l)\n",
    "    answer[str(id_c)]=l\n",
    "    j=j+1\n",
    "print(answer)    "
   ]
  },
  {
   "cell_type": "code",
   "execution_count": 191,
   "metadata": {},
   "outputs": [],
   "source": [
    "import json\n",
    "with open('lab02.json', 'w') as f:\n",
    "    json.dump(answer, f, indent=2)"
   ]
  },
  {
   "cell_type": "code",
   "execution_count": 192,
   "metadata": {},
   "outputs": [],
   "source": [
    "spark.stop()"
   ]
  },
  {
   "cell_type": "code",
   "execution_count": null,
   "metadata": {},
   "outputs": [],
   "source": []
  }
 ],
 "metadata": {
  "kernelspec": {
   "display_name": "Python 3",
   "language": "python",
   "name": "python3"
  },
  "language_info": {
   "codemirror_mode": {
    "name": "ipython",
    "version": 3
   },
   "file_extension": ".py",
   "mimetype": "text/x-python",
   "name": "python",
   "nbconvert_exporter": "python",
   "pygments_lexer": "ipython3",
   "version": "3.6.5"
  }
 },
 "nbformat": 4,
 "nbformat_minor": 2
}
