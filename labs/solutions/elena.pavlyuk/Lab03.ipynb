{
 "cells": [
  {
   "cell_type": "code",
   "execution_count": 1,
   "metadata": {},
   "outputs": [
    {
     "name": "stdout",
     "output_type": "stream",
     "text": [
      "Welcome to\n",
      "      ____              __\n",
      "     / __/__  ___ _____/ /__\n",
      "    _\\ \\/ _ \\/ _ `/ __/  '_/\n",
      "   /__ / .__/\\_,_/_/ /_/\\_\\   version 2.4.7\n",
      "      /_/\n",
      "\n",
      "Using Python version 3.6.5 (default, Apr 29 2018 16:14:56)\n",
      "SparkSession available as 'spark'.\n"
     ]
    }
   ],
   "source": [
    "import os\n",
    "import sys\n",
    "os.environ[\"PYSPARK_SUBMIT_ARGS\"]='--num-executors 5 --executor-memory 5g pyspark-shell'\n",
    "#os.environ[\"PYSPARK_SUBMIT_ARGS\"]='pyspark-shell'\n",
    "os.environ[\"PYSPARK_PYTHON\"]='/opt/anaconda/envs/bd9/bin/python'\n",
    "os.environ[\"SPARK_HOME\"]='/usr/hdp/current/spark2-client'\n",
    "\n",
    "spark_home = os.environ.get('SPARK_HOME', None)\n",
    "if not spark_home:\n",
    "    raise ValueError('SPARK_HOME environment variable is not set')\n",
    "sys.path.insert(0, os.path.join(spark_home, 'python'))\n",
    "sys.path.insert(0, os.path.join(spark_home, 'python/lib/py4j-0.10.7-src.zip'))\n",
    "exec(open(os.path.join(spark_home, 'python/pyspark/shell.py')).read())"
   ]
  },
  {
   "cell_type": "code",
   "execution_count": null,
   "metadata": {},
   "outputs": [],
   "source": [
    "spark.stop()"
   ]
  },
  {
   "cell_type": "code",
   "execution_count": null,
   "metadata": {},
   "outputs": [],
   "source": [
    "#!yarn application -kill application_1667306389915_0105"
   ]
  },
  {
   "cell_type": "code",
   "execution_count": null,
   "metadata": {},
   "outputs": [],
   "source": []
  },
  {
   "cell_type": "code",
   "execution_count": null,
   "metadata": {},
   "outputs": [],
   "source": [
    "spark"
   ]
  },
  {
   "cell_type": "code",
   "execution_count": null,
   "metadata": {},
   "outputs": [],
   "source": [
    "#spark.stop()"
   ]
  },
  {
   "cell_type": "code",
   "execution_count": 2,
   "metadata": {},
   "outputs": [],
   "source": [
    "import os\n",
    "import sys\n",
    "import json\n",
    "from pyspark.sql import SparkSession\n",
    "from pyspark.sql.types import StructType,StructField, StringType, IntegerType \n",
    "from pyspark.sql.types import ArrayType, DoubleType, BooleanType, FloatType\n",
    "from pyspark.sql.functions import col,array_contains\n",
    "from pyspark.ml.feature import CountVectorizer\n",
    "import pyspark.sql.functions as f\n",
    "from pyspark.sql.functions import col, window, regexp_replace\n",
    "from pyspark.sql.window import Window\n",
    "import re\n",
    "from pyspark.ml.feature import Tokenizer\n",
    "from pyspark.ml.feature import CountVectorizer\n",
    "from pyspark.ml.feature import VectorAssembler"
   ]
  },
  {
   "cell_type": "code",
   "execution_count": null,
   "metadata": {},
   "outputs": [],
   "source": [
    "!hdfs dfs -ls /labs/slaba03/"
   ]
  },
  {
   "cell_type": "code",
   "execution_count": null,
   "metadata": {},
   "outputs": [],
   "source": [
    "#laba03_train.csv\n",
    "#purchase - факты покупки\n",
    "#user_id - id пользователя\n",
    "#item_id - id телепередачи"
   ]
  },
  {
   "cell_type": "code",
   "execution_count": 3,
   "metadata": {},
   "outputs": [
    {
     "name": "stdout",
     "output_type": "stream",
     "text": [
      "+-------+-------+--------+\n",
      "|user_id|item_id|purchase|\n",
      "+-------+-------+--------+\n",
      "|   1654|  74107|       0|\n",
      "|   1654|  89249|       0|\n",
      "|   1654|  99982|       0|\n",
      "|   1654|  89901|       0|\n",
      "|   1654| 100504|       0|\n",
      "+-------+-------+--------+\n",
      "only showing top 5 rows\n",
      "\n"
     ]
    }
   ],
   "source": [
    "schema = StructType() \\\n",
    "      .add(\"user_id\", IntegerType(), True) \\\n",
    "      .add(\"item_id\", IntegerType(), True) \\\n",
    "      .add(\"purchase\", IntegerType(), True)\n",
    "      \n",
    "df_user_train = spark.read.format(\"csv\") \\\n",
    "      .option(\"header\", True) \\\n",
    "      .schema(schema) \\\n",
    "      .load(\"/labs/slaba03/laba03_train.csv\")\n",
    "df_user_train.show(5)"
   ]
  },
  {
   "cell_type": "code",
   "execution_count": null,
   "metadata": {},
   "outputs": [],
   "source": [
    "#laba03_test.csv\n",
    "#purchase - факты покупки\n",
    "#user_id - id пользователя\n",
    "#item_id - id телепередачи"
   ]
  },
  {
   "cell_type": "code",
   "execution_count": 4,
   "metadata": {},
   "outputs": [
    {
     "name": "stdout",
     "output_type": "stream",
     "text": [
      "+-------+-------+\n",
      "|user_id|item_id|\n",
      "+-------+-------+\n",
      "|   1654|  94814|\n",
      "|   1654|  93629|\n",
      "|   1654|   9980|\n",
      "|   1654|  95099|\n",
      "|   1654|  11265|\n",
      "+-------+-------+\n",
      "only showing top 5 rows\n",
      "\n"
     ]
    }
   ],
   "source": [
    "schema = StructType() \\\n",
    "      .add(\"user_id\", IntegerType(), True) \\\n",
    "      .add(\"item_id\", IntegerType(), True) \n",
    "      \n",
    "      \n",
    "df_user_test = spark.read.format(\"csv\") \\\n",
    "      .option(\"header\", True) \\\n",
    "      .schema(schema) \\\n",
    "      .load(\"/labs/slaba03/laba03_test.csv\")\n",
    "\n",
    "df_user_test.show(5)"
   ]
  },
  {
   "cell_type": "code",
   "execution_count": null,
   "metadata": {},
   "outputs": [],
   "source": [
    "df_user_test.show(5)"
   ]
  },
  {
   "cell_type": "code",
   "execution_count": null,
   "metadata": {},
   "outputs": [],
   "source": [
    "#laba03_items.csv\n",
    "#item_id - Соответствует item_id в предыдущем файле.\n",
    "#content_type - тип контента\n",
    "#title - название передачи, текстовое поле.\n",
    "#year - год выпуска передачи, число.\n",
    "#genres - поле с жанрами передачи, разделёнными через запятую."
   ]
  },
  {
   "cell_type": "code",
   "execution_count": 5,
   "metadata": {},
   "outputs": [
    {
     "name": "stdout",
     "output_type": "stream",
     "text": [
      "+-------+----------+---------------------------+--------------------------+-------------------+------------------+------------+--------------------+------+-------+---------+\n",
      "|item_id|channel_id|datetime_availability_start|datetime_availability_stop|datetime_show_start|datetime_show_stop|content_type|               title|  year| genres|region_id|\n",
      "+-------+----------+---------------------------+--------------------------+-------------------+------------------+------------+--------------------+------+-------+---------+\n",
      "|  65667|      null|       1970-01-01T00:00:00Z|      2018-01-01T00:00:00Z|               null|              null|           1|на пробах только ...|2013.0|Эротика|     null|\n",
      "|  65669|      null|       1970-01-01T00:00:00Z|      2018-01-01T00:00:00Z|               null|              null|           1|скуби ду: эротиче...|2011.0|Эротика|     null|\n",
      "|  65668|      null|       1970-01-01T00:00:00Z|      2018-01-01T00:00:00Z|               null|              null|           1|горячие девочки д...|2011.0|Эротика|     null|\n",
      "|  65671|      null|       1970-01-01T00:00:00Z|      2018-01-01T00:00:00Z|               null|              null|           1|соблазнительницы ...|2011.0|Эротика|     null|\n",
      "|  65670|      null|       1970-01-01T00:00:00Z|      2018-01-01T00:00:00Z|               null|              null|           1|секретные секс-ма...|2010.0|Эротика|     null|\n",
      "+-------+----------+---------------------------+--------------------------+-------------------+------------------+------------+--------------------+------+-------+---------+\n",
      "only showing top 5 rows\n",
      "\n"
     ]
    }
   ],
   "source": [
    "read_items_schema = StructType(fields=[StructField('item_id', IntegerType()), \n",
    "StructField('channel_id', IntegerType()),\n",
    "StructField('datetime_availability_start', StringType()),\n",
    "StructField('datetime_availability_stop', StringType()),\n",
    "StructField('datetime_show_start', StringType()),\n",
    "StructField('datetime_show_stop', StringType()),\n",
    "StructField('content_type', IntegerType()),\n",
    "StructField('title', StringType(), nullable=True),\n",
    "StructField('year', FloatType(), nullable=True),\n",
    "StructField('genres', StringType()),\n",
    "StructField('region_id', IntegerType()),\n",
    "]) \n",
    "\n",
    "\n",
    "\n",
    "\n",
    "df_items = spark.read.format(\"csv\") \\\n",
    "      .option(\"header\", True) \\\n",
    "      .option(\"sep\", \"\\t\")\\\n",
    "      .schema(read_items_schema) \\\n",
    "      .load(\"/labs/slaba03/laba03_items.csv\")\n",
    "\n",
    "df_items.show(5)"
   ]
  },
  {
   "cell_type": "code",
   "execution_count": 6,
   "metadata": {},
   "outputs": [
    {
     "name": "stdout",
     "output_type": "stream",
     "text": [
      "+-------+-------+----------+----------+---------+\n",
      "|user_id|item_id|  ts_start|    ts_end|item_type|\n",
      "+-------+-------+----------+----------+---------+\n",
      "|      0|7101053|1491409931|1491411600|     live|\n",
      "|      0|7101054|1491412481|1491451571|     live|\n",
      "|      0|7101054|1491411640|1491412481|     live|\n",
      "|      0|6184414|1486191290|1486191640|     live|\n",
      "|    257|4436877|1490628499|1490630256|     live|\n",
      "+-------+-------+----------+----------+---------+\n",
      "only showing top 5 rows\n",
      "\n"
     ]
    }
   ],
   "source": [
    "read_users_schema = StructType(fields=[StructField('user_id', IntegerType()), \n",
    "StructField('item_id', IntegerType()),\n",
    "StructField('ts_start', IntegerType()),\n",
    "StructField('ts_end', IntegerType()),\n",
    "StructField('item_type', StringType()),\n",
    "]) \n",
    "\n",
    "\n",
    "\n",
    "df_views_programmes = spark.read.format(\"csv\") \\\n",
    "      .option(\"header\", True) \\\n",
    "      .schema(read_users_schema) \\\n",
    "      .load(\"/labs/slaba03/laba03_views_programmes.csv\")\n",
    "\n",
    "df_views_programmes.show(5)"
   ]
  },
  {
   "cell_type": "code",
   "execution_count": null,
   "metadata": {},
   "outputs": [],
   "source": [
    "df_views_programmes.join(df_items, on=\"item_id\").show(5)"
   ]
  },
  {
   "cell_type": "code",
   "execution_count": null,
   "metadata": {},
   "outputs": [],
   "source": [
    "df_views_programmes.join(df_user_train, on=\"user_id\").show(5)"
   ]
  },
  {
   "cell_type": "code",
   "execution_count": null,
   "metadata": {},
   "outputs": [],
   "source": [
    "df_views_programmes.join(df_user_test, on=\"user_id\").show(5)"
   ]
  },
  {
   "cell_type": "code",
   "execution_count": null,
   "metadata": {},
   "outputs": [],
   "source": [
    "df_user_test.join(df_user_train, [\"user_id\",\"item_id\"]).show(5)"
   ]
  },
  {
   "cell_type": "code",
   "execution_count": null,
   "metadata": {},
   "outputs": [],
   "source": []
  },
  {
   "cell_type": "code",
   "execution_count": null,
   "metadata": {},
   "outputs": [],
   "source": [
    "df_user_train.groupBy(\"purchase\").count().collect()"
   ]
  },
  {
   "cell_type": "code",
   "execution_count": null,
   "metadata": {},
   "outputs": [],
   "source": [
    "10904/(10904+5021720)"
   ]
  },
  {
   "cell_type": "code",
   "execution_count": null,
   "metadata": {},
   "outputs": [],
   "source": [
    "df_user_train.filter(\"purchase = 1\").show(10)"
   ]
  },
  {
   "cell_type": "code",
   "execution_count": null,
   "metadata": {},
   "outputs": [],
   "source": [
    "df_user_train.filter(f.isnull(\"user_id\")).count()"
   ]
  },
  {
   "cell_type": "code",
   "execution_count": null,
   "metadata": {},
   "outputs": [],
   "source": [
    "df_user_train.filter(f.isnull(\"item_id\")).count()"
   ]
  },
  {
   "cell_type": "code",
   "execution_count": null,
   "metadata": {},
   "outputs": [],
   "source": [
    "df_user_train.filter(f.isnull(\"purchase\")).count()"
   ]
  },
  {
   "cell_type": "code",
   "execution_count": null,
   "metadata": {},
   "outputs": [],
   "source": [
    "#df_train_groupbyuser = df_user_train.groupBy(\"user_id\")\\\n",
    "#             .agg(f.count(\"*\").alias(\"user_items_cnt\"), f.sum(\"purchase\").alias(\"user_purchase_cnt\"))\n",
    "#             #.orderBy(\"user_purchase_cnt\", ascending=False)\n",
    "            \n",
    "#df_train_groupbyuser.show(5)"
   ]
  },
  {
   "cell_type": "code",
   "execution_count": null,
   "metadata": {},
   "outputs": [],
   "source": [
    "#df_user_train = df_user_train.join(df_train_groupbyuser, on=\"user_id\", how=\"left\") \n",
    "#df_user_train.show(5)"
   ]
  },
  {
   "cell_type": "code",
   "execution_count": null,
   "metadata": {},
   "outputs": [],
   "source": [
    "#df_train_groupbyitem = df_user_train.groupBy(\"item_id\")\\\n",
    "#             .agg(f.count(\"*\").alias(\"item_users_cnt\"), f.sum(\"purchase\").alias(\"item_purchase_cnt\"))\n",
    "#             #.orderBy(\"user_purchase_cnt\", ascending=False)\n",
    "            \n",
    "#df_train_groupbyitem.show(5)"
   ]
  },
  {
   "cell_type": "code",
   "execution_count": null,
   "metadata": {},
   "outputs": [],
   "source": [
    "#df_user_train = df_user_train.join(df_train_groupbyitem, on=\"item_id\", how=\"left\") \n",
    "#df_user_train.show(5)"
   ]
  },
  {
   "cell_type": "code",
   "execution_count": 7,
   "metadata": {},
   "outputs": [
    {
     "name": "stdout",
     "output_type": "stream",
     "text": [
      "+-------+--------------------+\n",
      "|user_id|   user_avg_purchase|\n",
      "+-------+--------------------+\n",
      "| 754230|0.027575641516660282|\n",
      "| 761341|3.875968992248062E-4|\n",
      "| 776188|0.001152516327314637|\n",
      "| 780033|7.757951900698216E-4|\n",
      "| 798454|3.840245775729646...|\n",
      "+-------+--------------------+\n",
      "only showing top 5 rows\n",
      "\n"
     ]
    }
   ],
   "source": [
    "df_train_groupbyuser = df_user_train.groupBy(\"user_id\")\\\n",
    "             .agg((f.sum(\"purchase\")/f.count(\"*\")).alias(\"user_avg_purchase\")).cache()\n",
    "\n",
    "df_train_groupbyuser.show(5)"
   ]
  },
  {
   "cell_type": "code",
   "execution_count": 8,
   "metadata": {},
   "outputs": [
    {
     "name": "stdout",
     "output_type": "stream",
     "text": [
      "+-------+-------+--------+--------------------+\n",
      "|user_id|item_id|purchase|   user_avg_purchase|\n",
      "+-------+-------+--------+--------------------+\n",
      "|   1654|  74107|       0|0.001947040498442...|\n",
      "|   1654|  89249|       0|0.001947040498442...|\n",
      "|   1654|  99982|       0|0.001947040498442...|\n",
      "|   1654|  89901|       0|0.001947040498442...|\n",
      "|   1654| 100504|       0|0.001947040498442...|\n",
      "+-------+-------+--------+--------------------+\n",
      "only showing top 5 rows\n",
      "\n"
     ]
    }
   ],
   "source": [
    "df_user_train_new = df_user_train.join(df_train_groupbyuser, on=\"user_id\", how=\"left\").cache()\n",
    "df_user_train_new.show(5)"
   ]
  },
  {
   "cell_type": "code",
   "execution_count": 9,
   "metadata": {},
   "outputs": [
    {
     "name": "stdout",
     "output_type": "stream",
     "text": [
      "+-------+--------------------+\n",
      "|item_id|   item_avg_purchase|\n",
      "+-------+--------------------+\n",
      "|   8638|0.001450326323422...|\n",
      "|  95940|   7.097232079489E-4|\n",
      "|  78113|0.001468428781204...|\n",
      "|  74757|7.358351729212656E-4|\n",
      "|  94819|7.163323782234957E-4|\n",
      "+-------+--------------------+\n",
      "only showing top 5 rows\n",
      "\n"
     ]
    }
   ],
   "source": [
    "df_train_groupbyitem = df_user_train.groupBy(\"item_id\")\\\n",
    "             .agg((f.sum(\"purchase\")/f.count(\"*\")).alias(\"item_avg_purchase\")).cache()\n",
    "             #.orderBy(\"user_purchase_cnt\", ascending=False)\n",
    "            \n",
    "df_train_groupbyitem.show(5)"
   ]
  },
  {
   "cell_type": "code",
   "execution_count": 10,
   "metadata": {},
   "outputs": [
    {
     "name": "stdout",
     "output_type": "stream",
     "text": [
      "+-------+-------+--------+--------------------+--------------------+\n",
      "|item_id|user_id|purchase|   user_avg_purchase|   item_avg_purchase|\n",
      "+-------+-------+--------+--------------------+--------------------+\n",
      "|  74107|   1654|       0|0.001947040498442...|7.575757575757576E-4|\n",
      "|  89249|   1654|       0|0.001947040498442...|0.001473839351510...|\n",
      "|  99982|   1654|       0|0.001947040498442...|0.001480384900074...|\n",
      "|  89901|   1654|       0|0.001947040498442...|7.336757153338225E-4|\n",
      "| 100504|   1654|       0|0.001947040498442...|0.004964539007092199|\n",
      "+-------+-------+--------+--------------------+--------------------+\n",
      "only showing top 5 rows\n",
      "\n"
     ]
    }
   ],
   "source": [
    "df_user_train_new = df_user_train_new.join(df_train_groupbyitem, on=\"item_id\", how=\"left\").cache()\n",
    "df_user_train_new.show(5)"
   ]
  },
  {
   "cell_type": "code",
   "execution_count": null,
   "metadata": {},
   "outputs": [],
   "source": [
    "#df_items.count()"
   ]
  },
  {
   "cell_type": "code",
   "execution_count": null,
   "metadata": {},
   "outputs": [],
   "source": [
    "#df_items.groupBy(\"channel_id\").count().show(5)"
   ]
  },
  {
   "cell_type": "code",
   "execution_count": null,
   "metadata": {},
   "outputs": [],
   "source": [
    "#df_items.filter(\"genres IS NULL\").count()"
   ]
  },
  {
   "cell_type": "code",
   "execution_count": null,
   "metadata": {},
   "outputs": [],
   "source": [
    "#df_items.filter(\"genres IS NOT NULL\").count()"
   ]
  },
  {
   "cell_type": "code",
   "execution_count": null,
   "metadata": {},
   "outputs": [],
   "source": [
    "#df_items.groupBy(\"content_type\").count().show(5)"
   ]
  },
  {
   "cell_type": "code",
   "execution_count": 11,
   "metadata": {},
   "outputs": [],
   "source": [
    "df_items2 = df_items.fillna('Фильмы', subset=['genres'])"
   ]
  },
  {
   "cell_type": "code",
   "execution_count": 12,
   "metadata": {},
   "outputs": [
    {
     "name": "stdout",
     "output_type": "stream",
     "text": [
      "+-------+------------+----------------------------------------------+----------------------------------------------------+\n",
      "|item_id|content_type|genres                                        |genres_split                                        |\n",
      "+-------+------------+----------------------------------------------+----------------------------------------------------+\n",
      "|326    |1           |Ужасы,Триллеры,Драмы,Фантастика,Зарубежные    |[Ужасы, Триллеры, Драмы, Фантастика, Зарубежные]    |\n",
      "|336    |1           |Ужасы,Комедии,Фантастика,Зарубежные           |[Ужасы, Комедии, Фантастика, Зарубежные]            |\n",
      "|357    |1           |Комедии,Мелодрамы,Наши                        |[Комедии, Мелодрамы, Наши]                          |\n",
      "|396    |1           |Детективы,Триллеры,Драмы,Фантастика,Зарубежные|[Детективы, Триллеры, Драмы, Фантастика, Зарубежные]|\n",
      "|400    |1           |Фантастика,Боевики,Зарубежные                 |[Фантастика, Боевики, Зарубежные]                   |\n",
      "+-------+------------+----------------------------------------------+----------------------------------------------------+\n",
      "only showing top 5 rows\n",
      "\n"
     ]
    }
   ],
   "source": [
    "df_items2 = df_items2.withColumn(\"genres_split\",f.split(\"genres\",\",\"))\\\n",
    "                     .drop('channel_id', 'year', 'title', 'region_id', 'datetime_availability_start', 'datetime_availability_stop', 'datetime_show_start', 'datetime_show_stop').cache()\n",
    "df_items2.filter(f.length(\"genres\")>20).show(5,truncate=False)"
   ]
  },
  {
   "cell_type": "code",
   "execution_count": 13,
   "metadata": {},
   "outputs": [
    {
     "name": "stdout",
     "output_type": "stream",
     "text": [
      "+-------+------------+--------------------+--------------+\n",
      "|item_id|content_type|        genres_split|genres_explode|\n",
      "+-------+------------+--------------------+--------------+\n",
      "|    326|           1|[Ужасы, Триллеры,...|         Ужасы|\n",
      "|    326|           1|[Ужасы, Триллеры,...|      Триллеры|\n",
      "|    326|           1|[Ужасы, Триллеры,...|         Драмы|\n",
      "|    326|           1|[Ужасы, Триллеры,...|    Фантастика|\n",
      "|    326|           1|[Ужасы, Триллеры,...|    Зарубежные|\n",
      "+-------+------------+--------------------+--------------+\n",
      "only showing top 5 rows\n",
      "\n"
     ]
    }
   ],
   "source": [
    "df_items4 = df_items2\\\n",
    ".select('item_id', 'content_type',\n",
    "        'genres_split', f.explode('genres_split').alias(\"genres_explode\")).cache()\n",
    "df_items4.filter(f.length(\"genres\")>20).show(5)"
   ]
  },
  {
   "cell_type": "code",
   "execution_count": null,
   "metadata": {},
   "outputs": [],
   "source": [
    "df_items4.filter(\"content_type=1\").groupby(\"genres_explode\").count().sort(\"genres_explode\").show(100)"
   ]
  },
  {
   "cell_type": "code",
   "execution_count": null,
   "metadata": {},
   "outputs": [],
   "source": []
  },
  {
   "cell_type": "code",
   "execution_count": 14,
   "metadata": {},
   "outputs": [],
   "source": [
    "count_vectorizer = CountVectorizer(inputCol=\"genres_split\", outputCol=\"genres_vector\")"
   ]
  },
  {
   "cell_type": "code",
   "execution_count": 15,
   "metadata": {},
   "outputs": [],
   "source": [
    "count_vectorizer_model = count_vectorizer.fit(df_items2)"
   ]
  },
  {
   "cell_type": "code",
   "execution_count": 16,
   "metadata": {},
   "outputs": [],
   "source": [
    "df_items2 = count_vectorizer_model.transform(df_items2).cache()"
   ]
  },
  {
   "cell_type": "code",
   "execution_count": null,
   "metadata": {},
   "outputs": [],
   "source": [
    "df_items2.filter(f.length(\"genres\")>20).show(5,truncate=False)"
   ]
  },
  {
   "cell_type": "code",
   "execution_count": 17,
   "metadata": {},
   "outputs": [],
   "source": [
    "df_items3 = df_items2.drop(\"genres\",\"genres_split\",\"content_type\").cache()"
   ]
  },
  {
   "cell_type": "code",
   "execution_count": 18,
   "metadata": {},
   "outputs": [
    {
     "name": "stdout",
     "output_type": "stream",
     "text": [
      "+-------+-------+--------+--------------------+--------------------+--------------------+\n",
      "|item_id|user_id|purchase|   user_avg_purchase|   item_avg_purchase|       genres_vector|\n",
      "+-------+-------+--------+--------------------+--------------------+--------------------+\n",
      "|  74107|   1654|       0|0.001947040498442...|7.575757575757576E-4|(84,[1,2],[1.0,1.0])|\n",
      "|  89249|   1654|       0|0.001947040498442...|0.001473839351510...|(84,[1,53],[1.0,1...|\n",
      "|  99982|   1654|       0|0.001947040498442...|0.001480384900074...|(84,[1,10,16,24,2...|\n",
      "|  89901|   1654|       0|0.001947040498442...|7.336757153338225E-4|(84,[2,5,16,28],[...|\n",
      "| 100504|   1654|       0|0.001947040498442...|0.004964539007092199|(84,[1,11,13],[1....|\n",
      "+-------+-------+--------+--------------------+--------------------+--------------------+\n",
      "only showing top 5 rows\n",
      "\n"
     ]
    }
   ],
   "source": [
    "df_user_train_new = df_user_train_new.join(df_items3, on=\"item_id\", how=\"left\").cache()\n",
    "df_user_train_new.show(5)"
   ]
  },
  {
   "cell_type": "code",
   "execution_count": null,
   "metadata": {},
   "outputs": [],
   "source": [
    "#df_user_train = df_user_train.join(df_items3, on=\"item_id\", how=\"left\") \n",
    "#df_user_train.show(5)"
   ]
  },
  {
   "cell_type": "code",
   "execution_count": null,
   "metadata": {},
   "outputs": [],
   "source": [
    "#df_user_train.groupBy(\"content_type\").count().show(5)"
   ]
  },
  {
   "cell_type": "code",
   "execution_count": null,
   "metadata": {},
   "outputs": [],
   "source": [
    "#df_user_train = df_user_train.drop(\"content_type\")"
   ]
  },
  {
   "cell_type": "code",
   "execution_count": null,
   "metadata": {},
   "outputs": [],
   "source": [
    "#df_user_train.show(5)"
   ]
  },
  {
   "cell_type": "code",
   "execution_count": null,
   "metadata": {},
   "outputs": [],
   "source": [
    "#df_views_programmes.show(5)\n",
    "# per user_id\n",
    "# abs time watch\n",
    "# avg time watch\n",
    "# count live\n",
    "# count prv"
   ]
  },
  {
   "cell_type": "code",
   "execution_count": null,
   "metadata": {},
   "outputs": [],
   "source": [
    "#df_views_programmes.groupBy(\"item_type\").count().show(5)"
   ]
  },
  {
   "cell_type": "code",
   "execution_count": null,
   "metadata": {},
   "outputs": [],
   "source": []
  },
  {
   "cell_type": "code",
   "execution_count": null,
   "metadata": {},
   "outputs": [],
   "source": [
    "#assembler = VectorAssembler(inputCols=[\"user_items_cnt\",\"user_purchase_cnt\",\"item_users_cnt\",\"item_purchase_cnt\",\"genres_vector\"], outputCol=\"features\")"
   ]
  },
  {
   "cell_type": "code",
   "execution_count": 19,
   "metadata": {},
   "outputs": [],
   "source": [
    "assembler = VectorAssembler(inputCols=[\"user_avg_purchase\",\"item_avg_purchase\",\"genres_vector\"], outputCol=\"features\")"
   ]
  },
  {
   "cell_type": "code",
   "execution_count": 20,
   "metadata": {},
   "outputs": [
    {
     "name": "stdout",
     "output_type": "stream",
     "text": [
      "+-------+-------+--------+--------------------+--------------------+--------------------+--------------------+\n",
      "|item_id|user_id|purchase|   user_avg_purchase|   item_avg_purchase|       genres_vector|            features|\n",
      "+-------+-------+--------+--------------------+--------------------+--------------------+--------------------+\n",
      "|  74107|   1654|       0|0.001947040498442...|7.575757575757576E-4|(84,[1,2],[1.0,1.0])|(86,[0,1,3,4],[0....|\n",
      "|  89249|   1654|       0|0.001947040498442...|0.001473839351510...|(84,[1,53],[1.0,1...|(86,[0,1,3,55],[0...|\n",
      "|  99982|   1654|       0|0.001947040498442...|0.001480384900074...|(84,[1,10,16,24,2...|(86,[0,1,3,12,18,...|\n",
      "|  89901|   1654|       0|0.001947040498442...|7.336757153338225E-4|(84,[2,5,16,28],[...|(86,[0,1,4,7,18,3...|\n",
      "| 100504|   1654|       0|0.001947040498442...|0.004964539007092199|(84,[1,11,13],[1....|(86,[0,1,3,13,15]...|\n",
      "+-------+-------+--------+--------------------+--------------------+--------------------+--------------------+\n",
      "only showing top 5 rows\n",
      "\n"
     ]
    }
   ],
   "source": [
    "df_user_train_new=assembler.transform(df_user_train_new).cache()\n",
    "df_user_train_new.show(5)"
   ]
  },
  {
   "cell_type": "code",
   "execution_count": null,
   "metadata": {},
   "outputs": [],
   "source": [
    "#df_user_train=assembler.transform(df_user_train)"
   ]
  },
  {
   "cell_type": "code",
   "execution_count": null,
   "metadata": {},
   "outputs": [],
   "source": [
    "#df_user_train.show(5)"
   ]
  },
  {
   "cell_type": "code",
   "execution_count": null,
   "metadata": {},
   "outputs": [],
   "source": [
    "#!hdfs dfs -rm -r lab03_df_user_train"
   ]
  },
  {
   "cell_type": "code",
   "execution_count": null,
   "metadata": {},
   "outputs": [],
   "source": [
    "#df_user_train.write.save(\"lab03_df_user_train\")"
   ]
  },
  {
   "cell_type": "code",
   "execution_count": null,
   "metadata": {},
   "outputs": [],
   "source": [
    "#train = df_user_train.sampleBy(\"purchase\", fractions={0: 0.8, 1: 0.8}, seed=42).cache()\n",
    "#test = df_user_train.join(train, on=[\"user_id\",\"item_id\"], how=\"leftanti\").coalesce(10).cache()"
   ]
  },
  {
   "cell_type": "code",
   "execution_count": 21,
   "metadata": {},
   "outputs": [
    {
     "data": {
      "text/plain": [
       "10904"
      ]
     },
     "execution_count": 21,
     "metadata": {},
     "output_type": "execute_result"
    }
   ],
   "source": [
    "train_1 = df_user_train_new.filter(\"purchase=1\").cache()\n",
    "train_1.count()"
   ]
  },
  {
   "cell_type": "code",
   "execution_count": 22,
   "metadata": {},
   "outputs": [
    {
     "data": {
      "text/plain": [
       "32712"
      ]
     },
     "execution_count": 22,
     "metadata": {},
     "output_type": "execute_result"
    }
   ],
   "source": [
    "train_0 = df_user_train_new.filter(\"purchase=0\").limit(32712).cache()\n",
    "train_0.count()"
   ]
  },
  {
   "cell_type": "code",
   "execution_count": 23,
   "metadata": {},
   "outputs": [
    {
     "data": {
      "text/plain": [
       "43616"
      ]
     },
     "execution_count": 23,
     "metadata": {},
     "output_type": "execute_result"
    }
   ],
   "source": [
    "train_all = train_1.union(train_0).cache()\n",
    "train_all.count()"
   ]
  },
  {
   "cell_type": "code",
   "execution_count": 24,
   "metadata": {},
   "outputs": [],
   "source": [
    "train = train_all.sampleBy(\"purchase\", fractions={0: 0.8, 1: 0.8}, seed=42).cache()\n",
    "test = train_all.join(train, on=[\"user_id\",\"item_id\"], how=\"leftanti\").coalesce(10).cache()"
   ]
  },
  {
   "cell_type": "code",
   "execution_count": 25,
   "metadata": {},
   "outputs": [],
   "source": [
    "from pyspark.ml.evaluation import BinaryClassificationEvaluator\n",
    "evaluator = BinaryClassificationEvaluator(rawPredictionCol=\"rawPrediction\", labelCol=\"purchase\", metricName='areaUnderROC')\n",
    "evaluator_prob = BinaryClassificationEvaluator(rawPredictionCol=\"probability\", labelCol=\"purchase\", metricName='areaUnderROC')"
   ]
  },
  {
   "cell_type": "code",
   "execution_count": 26,
   "metadata": {},
   "outputs": [],
   "source": [
    "from pyspark.ml.classification import GBTClassifier\n",
    "gbt = GBTClassifier(featuresCol=\"features\", labelCol=\"purchase\")\n",
    "\n",
    "model = gbt.fit(train)"
   ]
  },
  {
   "cell_type": "code",
   "execution_count": 27,
   "metadata": {},
   "outputs": [
    {
     "name": "stdout",
     "output_type": "stream",
     "text": [
      "+-------+-------+--------+--------------------+--------------------+--------------------+--------------------+--------------------+--------------------+----------+\n",
      "|user_id|item_id|purchase|   user_avg_purchase|   item_avg_purchase|       genres_vector|            features|       rawPrediction|         probability|prediction|\n",
      "+-------+-------+--------+--------------------+--------------------+--------------------+--------------------+--------------------+--------------------+----------+\n",
      "| 747028|  10007|       1| 0.18617021276595744|7.220216606498195E-4|(84,[6,7,14],[1.0...|(86,[0,1,8,9,16],...|[-1.4578212187089...|[0.05138569644756...|       1.0|\n",
      "| 753619|  99912|       1|0.001916443081640...|7.320644216691069E-4|(84,[2,5],[1.0,1.0])|(86,[0,1,4,7],[0....|[-1.1934076277266...|[0.08418364043870...|       1.0|\n",
      "| 843682|  74371|       1|0.003109211037699184| 7.22543352601156E-4|(84,[1,6,12,13],[...|(86,[0,1,3,8,14,1...|[-1.1934076277266...|[0.08418364043870...|       1.0|\n",
      "| 852684|  93666|       1|0.001165501165501...|0.039764359351988215|(84,[1,4,6],[1.0,...|(86,[0,1,3,6,8],[...|[-0.9700114814179...|[0.12564533382901...|       1.0|\n",
      "+-------+-------+--------+--------------------+--------------------+--------------------+--------------------+--------------------+--------------------+----------+\n",
      "only showing top 4 rows\n",
      "\n"
     ]
    }
   ],
   "source": [
    "predictions = model.transform(test).cache()\n",
    "\n",
    "predictions.show(4)"
   ]
  },
  {
   "cell_type": "code",
   "execution_count": null,
   "metadata": {},
   "outputs": [],
   "source": [
    "#model.save(\"lab03.model\")"
   ]
  },
  {
   "cell_type": "code",
   "execution_count": null,
   "metadata": {},
   "outputs": [],
   "source": [
    "##!hdfs dfs rm -r \"lab03.model\""
   ]
  },
  {
   "cell_type": "code",
   "execution_count": null,
   "metadata": {},
   "outputs": [],
   "source": [
    "#model.load(\"lab03.model\")"
   ]
  },
  {
   "cell_type": "code",
   "execution_count": null,
   "metadata": {},
   "outputs": [],
   "source": [
    "evaluator.evaluate(predictions)"
   ]
  },
  {
   "cell_type": "code",
   "execution_count": null,
   "metadata": {
    "scrolled": true
   },
   "outputs": [],
   "source": [
    "evaluator_prob.evaluate(predictions)"
   ]
  },
  {
   "cell_type": "code",
   "execution_count": 28,
   "metadata": {},
   "outputs": [
    {
     "name": "stdout",
     "output_type": "stream",
     "text": [
      "+-------+-------+--------------------+\n",
      "|user_id|item_id|   user_avg_purchase|\n",
      "+-------+-------+--------------------+\n",
      "|   1654|  94814|0.001947040498442...|\n",
      "|   1654|  93629|0.001947040498442...|\n",
      "|   1654|   9980|0.001947040498442...|\n",
      "|   1654|  95099|0.001947040498442...|\n",
      "|   1654|  11265|0.001947040498442...|\n",
      "+-------+-------+--------------------+\n",
      "only showing top 5 rows\n",
      "\n"
     ]
    }
   ],
   "source": [
    "df_user_test_prep = df_user_test.join(df_train_groupbyuser, on=\"user_id\", how=\"left\").cache()\n",
    "df_user_test_prep.show(5)"
   ]
  },
  {
   "cell_type": "code",
   "execution_count": 29,
   "metadata": {},
   "outputs": [],
   "source": [
    "df_user_test_prep = df_user_test_prep.join(df_train_groupbyitem, on=\"item_id\", how=\"left\").cache()"
   ]
  },
  {
   "cell_type": "code",
   "execution_count": null,
   "metadata": {},
   "outputs": [],
   "source": [
    "df_user_test_prep.show(5)"
   ]
  },
  {
   "cell_type": "code",
   "execution_count": 31,
   "metadata": {},
   "outputs": [
    {
     "name": "stdout",
     "output_type": "stream",
     "text": [
      "+-------+-------+--------------------+--------------------+--------------------+\n",
      "|item_id|user_id|   user_avg_purchase|   item_avg_purchase|       genres_vector|\n",
      "+-------+-------+--------------------+--------------------+--------------------+\n",
      "|   8389| 902134|0.002674818494459...|0.005979073243647235|(84,[7,15,20,23],...|\n",
      "|   8389| 902188|0.006682389937106...|0.005979073243647235|(84,[7,15,20,23],...|\n",
      "|   8389| 902209|0.001527300496372...|0.005979073243647235|(84,[7,15,20,23],...|\n",
      "|   8389| 902317|0.001189060642092...|0.005979073243647235|(84,[7,15,20,23],...|\n",
      "|   8389| 902416|0.003128666405944466|0.005979073243647235|(84,[7,15,20,23],...|\n",
      "+-------+-------+--------------------+--------------------+--------------------+\n",
      "only showing top 5 rows\n",
      "\n"
     ]
    }
   ],
   "source": [
    "df_user_test_prep = df_user_test_prep.join(df_items3, on=\"item_id\", how=\"left\").cache()\n",
    "#df_user_test_prep = df_user_test_prep.drop(\"content_type\")\n",
    "df_user_test_prep.show(5)"
   ]
  },
  {
   "cell_type": "code",
   "execution_count": null,
   "metadata": {},
   "outputs": [],
   "source": []
  },
  {
   "cell_type": "code",
   "execution_count": null,
   "metadata": {},
   "outputs": [],
   "source": [
    "#assembler = VectorAssembler(inputCols=[\"user_items_cnt\",\"user_purchase_cnt\",\"item_users_cnt\",\"item_purchase_cnt\",\"genres_vector\"], outputCol=\"features\")"
   ]
  },
  {
   "cell_type": "code",
   "execution_count": 32,
   "metadata": {},
   "outputs": [],
   "source": [
    "df_user_test_prep=assembler.transform(df_user_test_prep).cache()"
   ]
  },
  {
   "cell_type": "code",
   "execution_count": 33,
   "metadata": {},
   "outputs": [
    {
     "name": "stdout",
     "output_type": "stream",
     "text": [
      "+-------+-------+--------------------+--------------------+--------------------+--------------------+\n",
      "|item_id|user_id|   user_avg_purchase|   item_avg_purchase|       genres_vector|            features|\n",
      "+-------+-------+--------------------+--------------------+--------------------+--------------------+\n",
      "|   8389| 902134|0.002674818494459...|0.005979073243647235|(84,[7,15,20,23],...|(86,[0,1,9,17,22,...|\n",
      "|   8389| 902188|0.006682389937106...|0.005979073243647235|(84,[7,15,20,23],...|(86,[0,1,9,17,22,...|\n",
      "|   8389| 902209|0.001527300496372...|0.005979073243647235|(84,[7,15,20,23],...|(86,[0,1,9,17,22,...|\n",
      "|   8389| 902317|0.001189060642092...|0.005979073243647235|(84,[7,15,20,23],...|(86,[0,1,9,17,22,...|\n",
      "|   8389| 902416|0.003128666405944466|0.005979073243647235|(84,[7,15,20,23],...|(86,[0,1,9,17,22,...|\n",
      "+-------+-------+--------------------+--------------------+--------------------+--------------------+\n",
      "only showing top 5 rows\n",
      "\n"
     ]
    }
   ],
   "source": [
    "df_user_test_prep.show(5)"
   ]
  },
  {
   "cell_type": "code",
   "execution_count": 35,
   "metadata": {},
   "outputs": [],
   "source": [
    "predictions_test = model.transform(df_user_test_prep).cache()"
   ]
  },
  {
   "cell_type": "code",
   "execution_count": 36,
   "metadata": {},
   "outputs": [],
   "source": [
    "import pandas as pd\n",
    "import numpy as np"
   ]
  },
  {
   "cell_type": "code",
   "execution_count": 37,
   "metadata": {},
   "outputs": [],
   "source": [
    "pred_pd = predictions_test.select(\"user_id\",\"item_id\",f.col(\"probability\").alias(\"purchase\")).toPandas()"
   ]
  },
  {
   "cell_type": "code",
   "execution_count": 38,
   "metadata": {},
   "outputs": [],
   "source": [
    "pred_pd = pred_pd.sort_values(by=['user_id','item_id'])"
   ]
  },
  {
   "cell_type": "code",
   "execution_count": 39,
   "metadata": {},
   "outputs": [],
   "source": [
    "pred_pd['purchase'] = pred_pd['purchase'].apply(lambda x: x[1])"
   ]
  },
  {
   "cell_type": "code",
   "execution_count": 40,
   "metadata": {},
   "outputs": [],
   "source": [
    "pred_pd.to_csv('lab03.csv', index=False)"
   ]
  },
  {
   "cell_type": "code",
   "execution_count": null,
   "metadata": {},
   "outputs": [],
   "source": []
  },
  {
   "cell_type": "code",
   "execution_count": null,
   "metadata": {},
   "outputs": [],
   "source": [
    "#predictions_test.createOrReplaceTempView(\"predictions_test_view\")"
   ]
  },
  {
   "cell_type": "code",
   "execution_count": null,
   "metadata": {},
   "outputs": [],
   "source": [
    "#predictions_test.write.mode(\"overwrite\").save(\"lab03_predictions_test\")"
   ]
  },
  {
   "cell_type": "code",
   "execution_count": null,
   "metadata": {},
   "outputs": [],
   "source": [
    "#predictions_test.load(\"lab03_predictions_test\")"
   ]
  },
  {
   "cell_type": "code",
   "execution_count": null,
   "metadata": {},
   "outputs": [],
   "source": [
    "#predictions_test.select(\"user_id\", \"item_id\", \"probability\").show(5, False, True)"
   ]
  },
  {
   "cell_type": "code",
   "execution_count": null,
   "metadata": {},
   "outputs": [],
   "source": [
    "#predictions_test"
   ]
  },
  {
   "cell_type": "code",
   "execution_count": null,
   "metadata": {},
   "outputs": [],
   "source": []
  },
  {
   "cell_type": "code",
   "execution_count": null,
   "metadata": {},
   "outputs": [],
   "source": [
    "#def getV1(v):\n",
    "#    return float(v[1])\n",
    "#getProb1 = f.udf(lambda v: getV1(v), DoubleType())"
   ]
  },
  {
   "cell_type": "code",
   "execution_count": null,
   "metadata": {},
   "outputs": [],
   "source": [
    "#predictions_test.select(f.col(\"user_id\").cast('int'),f.col(\"item_id\").cast('int'),getProb1(f.col(\"probability\")).alias(\"purchase\"))\\\n",
    "#                .orderBy(\"user_id\",\"item_id\").show(5)"
   ]
  },
  {
   "cell_type": "code",
   "execution_count": null,
   "metadata": {},
   "outputs": [],
   "source": [
    "#result = predictions_test.select(f.col(\"user_id\").cast('int'),f.col(\"item_id\").cast('int'),getProb1(f.col(\"probability\")).alias(\"purchase\"))\\\n",
    "#                .orderBy(\"user_id\",\"item_id\")"
   ]
  },
  {
   "cell_type": "code",
   "execution_count": null,
   "metadata": {},
   "outputs": [],
   "source": [
    "#result.show(5)"
   ]
  },
  {
   "cell_type": "code",
   "execution_count": null,
   "metadata": {},
   "outputs": [],
   "source": [
    "#result.count()"
   ]
  },
  {
   "cell_type": "code",
   "execution_count": null,
   "metadata": {},
   "outputs": [],
   "source": [
    "#df_user_test.count()"
   ]
  },
  {
   "cell_type": "code",
   "execution_count": null,
   "metadata": {
    "scrolled": true
   },
   "outputs": [],
   "source": [
    "#result.toPandas().to_csv('lab03.csv')"
   ]
  },
  {
   "cell_type": "code",
   "execution_count": null,
   "metadata": {},
   "outputs": [],
   "source": [
    "#import pandas as pd\n",
    "#import numpy as np\n",
    "#df = pd.read_csv(\"lab03.csv\")\n",
    "#df.describe()\n",
    "#pd.read_csv(\"lab03.csv\").to_csv(\"lab03_index.csv\")\n",
    "#df"
   ]
  },
  {
   "cell_type": "code",
   "execution_count": null,
   "metadata": {},
   "outputs": [],
   "source": []
  },
  {
   "cell_type": "code",
   "execution_count": null,
   "metadata": {},
   "outputs": [],
   "source": [
    "#import pandas as pd\n",
    "#import numpy as np\n",
    "\n",
    "#pred_pd = predictions_test.select(\"user_id\",\"item_id\",f.col(\"probability\").alias(\"purchase\")).toPandas()\n",
    "#pred_pd = pred_pd.sort_values(by=['user_id','item_id'])\n",
    "#pred_pd['purchase'] = pred_pd['purchase'].apply(lambda x: x[1])\n",
    "#pred_pd.to_csv('lab03.csv', index=False)"
   ]
  },
  {
   "cell_type": "code",
   "execution_count": null,
   "metadata": {},
   "outputs": [],
   "source": [
    "#result_index = result.withColumn(\"\", f.monotonically_increasing_id())"
   ]
  },
  {
   "cell_type": "code",
   "execution_count": null,
   "metadata": {},
   "outputs": [],
   "source": [
    "#result_index = result_index.select(\"\",\"user_id\",\"item_id\",\"purchase\")"
   ]
  },
  {
   "cell_type": "code",
   "execution_count": null,
   "metadata": {},
   "outputs": [],
   "source": [
    "#result_index.show(5)"
   ]
  },
  {
   "cell_type": "code",
   "execution_count": null,
   "metadata": {},
   "outputs": [],
   "source": [
    "#result_index.count()"
   ]
  },
  {
   "cell_type": "code",
   "execution_count": null,
   "metadata": {},
   "outputs": [],
   "source": [
    "#result_index.write.save(\"lab03_result_index\")"
   ]
  },
  {
   "cell_type": "code",
   "execution_count": null,
   "metadata": {},
   "outputs": [],
   "source": [
    "#!hdfs dfs -rm -R /user/elena.pavlyuk/lab03.csv"
   ]
  },
  {
   "cell_type": "code",
   "execution_count": null,
   "metadata": {},
   "outputs": [],
   "source": [
    "#result_index.repartition(1).write.format(\"com.databricks.spark.csv\").option(\"header\", \"true\").save(\"lab03.csv\")"
   ]
  },
  {
   "cell_type": "code",
   "execution_count": null,
   "metadata": {},
   "outputs": [],
   "source": [
    "#!hadoop fs -copyToLocal /user/elena.pavlyuk/lab03.csv /data/home/elena.pavlyuk"
   ]
  },
  {
   "cell_type": "code",
   "execution_count": null,
   "metadata": {},
   "outputs": [],
   "source": [
    "#result_index.repartition(1).write.format(\"com.databricks.spark.csv\").option(\"header\", \"true\").save(\"result03.csv\")"
   ]
  },
  {
   "cell_type": "code",
   "execution_count": null,
   "metadata": {},
   "outputs": [],
   "source": [
    "#!hadoop fs -copyToLocal /user/elena.pavlyuk/result03.csv /data/home/elena.pavlyuk"
   ]
  },
  {
   "cell_type": "code",
   "execution_count": null,
   "metadata": {},
   "outputs": [],
   "source": [
    "#result.repartition(1).write.format(\"com.databricks.spark.csv\").option(\"header\", \"true\").save(\"result03noId.csv\")"
   ]
  },
  {
   "cell_type": "code",
   "execution_count": null,
   "metadata": {},
   "outputs": [],
   "source": [
    "#!hadoop fs -copyToLocal /user/elena.pavlyuk/result03noId.csv /data/home/elena.pavlyuk"
   ]
  },
  {
   "cell_type": "code",
   "execution_count": null,
   "metadata": {},
   "outputs": [],
   "source": []
  }
 ],
 "metadata": {
  "kernelspec": {
   "display_name": "Python 3",
   "language": "python",
   "name": "python3"
  },
  "language_info": {
   "codemirror_mode": {
    "name": "ipython",
    "version": 3
   },
   "file_extension": ".py",
   "mimetype": "text/x-python",
   "name": "python",
   "nbconvert_exporter": "python",
   "pygments_lexer": "ipython3",
   "version": "3.6.5"
  }
 },
 "nbformat": 4,
 "nbformat_minor": 2
}
