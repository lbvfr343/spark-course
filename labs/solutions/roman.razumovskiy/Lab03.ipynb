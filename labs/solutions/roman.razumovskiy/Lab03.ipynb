{
 "cells": [
  {
   "cell_type": "code",
   "execution_count": 1,
   "metadata": {},
   "outputs": [
    {
     "data": {
      "text/html": [
       "<style>.container { width:95% !important; }</style>"
      ],
      "text/plain": [
       "<IPython.core.display.HTML object>"
      ]
     },
     "metadata": {},
     "output_type": "display_data"
    },
    {
     "name": "stdout",
     "output_type": "stream",
     "text": [
      "Welcome to\n",
      "      ____              __\n",
      "     / __/__  ___ _____/ /__\n",
      "    _\\ \\/ _ \\/ _ `/ __/  '_/\n",
      "   /__ / .__/\\_,_/_/ /_/\\_\\   version 2.4.7\n",
      "      /_/\n",
      "\n",
      "Using Python version 3.6.5 (default, Apr 29 2018 16:14:56)\n",
      "SparkSession available as 'spark'.\n"
     ]
    }
   ],
   "source": [
    "from IPython.display import display, HTML\n",
    "display(HTML(\"<style>.container { width:95% !important; }</style>\"))\n",
    "import os\n",
    "import sys\n",
    "os.environ[\"PYSPARK_PYTHON\"]='/opt/anaconda/envs/bd9/bin/python'\n",
    "os.environ[\"SPARK_HOME\"]='/usr/hdp/current/spark2-client'\n",
    "os.environ[\"PYSPARK_SUBMIT_ARGS\"]='--num-executors 10 --executor-memory 5g --executor-cores 8 --driver-memory 8g pyspark-shell'\n",
    "\n",
    "spark_home = os.environ.get('SPARK_HOME', None)\n",
    "if not spark_home:\n",
    "    raise ValueError('SPARK_HOME environment variable is not set')\n",
    "\n",
    "sys.path.insert(0, os.path.join(spark_home, 'python'))\n",
    "sys.path.insert(0, os.path.join(spark_home, 'python/lib/py4j-0.10.7-src.zip'))\n",
    "exec(open(os.path.join(spark_home, 'python/pyspark/shell.py')).read())"
   ]
  },
  {
   "cell_type": "code",
   "execution_count": 2,
   "metadata": {},
   "outputs": [],
   "source": [
    "from pyspark import SparkConf\n",
    "from pyspark.sql import SparkSession\n",
    "from pyspark.sql import functions as F\n",
    "from pyspark.sql.types import *\n",
    "from pyspark import Row\n",
    "# from pyspark.sql.types import ArrayType, StringType, NumericType\n",
    "from pyspark.ml import Pipeline\n",
    "from pyspark.ml.linalg import Vectors, SparseVector, VectorUDT\n",
    "from pyspark.ml.feature import *\n",
    "from pyspark.sql.window import Window\n",
    "from pyspark.ml.classification import GBTClassifier, LogisticRegression\n",
    "from pyspark.ml.evaluation import BinaryClassificationEvaluator\n",
    "from pyspark.ml.stat import Correlation\n",
    "from pyspark.ml.recommendation import ALS\n",
    "import json\n",
    "import matplotlib.pyplot as plt\n",
    "from tqdm import tqdm\n",
    "import numpy as np\n",
    "import time\n",
    "import pandas as pd\n",
    "from datetime import datetime\n",
    "\n",
    "conf = SparkConf()\n",
    "\n",
    "spark = (SparkSession\n",
    "         .builder\n",
    "         .config(conf=conf)\n",
    "         .appName(\"test\")\n",
    "         .getOrCreate())"
   ]
  },
  {
   "cell_type": "markdown",
   "metadata": {},
   "source": [
    "## Формирование DataFrames"
   ]
  },
  {
   "cell_type": "code",
   "execution_count": 3,
   "metadata": {},
   "outputs": [
    {
     "name": "stdout",
     "output_type": "stream",
     "text": [
      "Found 4 items\r\n",
      "-rw-r--r--   3 hdfs hdfs   91066524 2022-01-06 18:46 /labs/slaba03/laba03_items.csv\r\n",
      "-rw-r--r--   3 hdfs hdfs   29965581 2022-01-06 18:46 /labs/slaba03/laba03_test.csv\r\n",
      "-rw-r--r--   3 hdfs hdfs   74949368 2022-01-06 18:46 /labs/slaba03/laba03_train.csv\r\n",
      "-rw-r--r--   3 hdfs hdfs  871302535 2022-01-06 18:46 /labs/slaba03/laba03_views_programmes.csv\r\n"
     ]
    }
   ],
   "source": [
    "! hdfs dfs -ls /labs/slaba03/"
   ]
  },
  {
   "cell_type": "code",
   "execution_count": 4,
   "metadata": {},
   "outputs": [],
   "source": [
    "get_elem = F.udf(lambda x, i: float(x[i]), DoubleType())"
   ]
  },
  {
   "cell_type": "code",
   "execution_count": 5,
   "metadata": {
    "scrolled": false
   },
   "outputs": [
    {
     "name": "stdout",
     "output_type": "stream",
     "text": [
      "items\n",
      "+-------+----------+---------------------------+--------------------------+-------------------+------------------+------------+--------------------+------+-------+\n",
      "|item_id|channel_id|datetime_availability_start|datetime_availability_stop|datetime_show_start|datetime_show_stop|content_type|               title|  year| genres|\n",
      "+-------+----------+---------------------------+--------------------------+-------------------+------------------+------------+--------------------+------+-------+\n",
      "|  65667|      null|                 1970-01-01|                2018-01-01|               null|              null|           1|на пробах только ...|2013.0|Эротика|\n",
      "|  65669|      null|                 1970-01-01|                2018-01-01|               null|              null|           1|скуби ду: эротиче...|2011.0|Эротика|\n",
      "|  65668|      null|                 1970-01-01|                2018-01-01|               null|              null|           1|горячие девочки д...|2011.0|Эротика|\n",
      "|  65671|      null|                 1970-01-01|                2018-01-01|               null|              null|           1|соблазнительницы ...|2011.0|Эротика|\n",
      "|  65670|      null|                 1970-01-01|                2018-01-01|               null|              null|           1|секретные секс-ма...|2010.0|Эротика|\n",
      "+-------+----------+---------------------------+--------------------------+-------------------+------------------+------------+--------------------+------+-------+\n",
      "only showing top 5 rows\n",
      "\n",
      "items_paid\n",
      "+-------+---------------------------+--------------------------+--------------------+------+---------------+\n",
      "|item_id|datetime_availability_start|datetime_availability_stop|               title|  year|  genres_vector|\n",
      "+-------+---------------------------+--------------------------+--------------------+------+---------------+\n",
      "|  65667|                 1970-01-01|                2018-01-01|на пробах только ...|2013.0|(84,[20],[1.0])|\n",
      "|  65669|                 1970-01-01|                2018-01-01|скуби ду: эротиче...|2011.0|(84,[20],[1.0])|\n",
      "|  65668|                 1970-01-01|                2018-01-01|горячие девочки д...|2011.0|(84,[20],[1.0])|\n",
      "|  65671|                 1970-01-01|                2018-01-01|соблазнительницы ...|2011.0|(84,[20],[1.0])|\n",
      "|  65670|                 1970-01-01|                2018-01-01|секретные секс-ма...|2010.0|(84,[20],[1.0])|\n",
      "+-------+---------------------------+--------------------------+--------------------+------+---------------+\n",
      "only showing top 5 rows\n",
      "\n",
      "views_programmes\n",
      "+-------+-------+-------------------+-------------------+---------+--------+\n",
      "|user_id|item_id|           ts_start|             ts_end|item_type|duration|\n",
      "+-------+-------+-------------------+-------------------+---------+--------+\n",
      "|      0|7101053|2017-04-05 19:32:11|2017-04-05 20:00:00|     live|    1669|\n",
      "|      0|7101054|2017-04-05 20:14:41|2017-04-06 07:06:11|     live|   39090|\n",
      "|      0|7101054|2017-04-05 20:00:40|2017-04-05 20:14:41|     live|     841|\n",
      "|      0|6184414|2017-02-04 09:54:50|2017-02-04 10:00:40|     live|     350|\n",
      "|    257|4436877|2017-03-27 18:28:19|2017-03-27 18:57:36|     live|    1757|\n",
      "+-------+-------+-------------------+-------------------+---------+--------+\n",
      "only showing top 5 rows\n",
      "\n",
      "train\n",
      "+-------+-------+--------+\n",
      "|user_id|item_id|purchase|\n",
      "+-------+-------+--------+\n",
      "|   1654|  74107|       0|\n",
      "|   1654|  89249|       0|\n",
      "|   1654|  99982|       0|\n",
      "|   1654|  89901|       0|\n",
      "|   1654| 100504|       0|\n",
      "+-------+-------+--------+\n",
      "only showing top 5 rows\n",
      "\n",
      "test\n",
      "+-------+-------+--------+\n",
      "|user_id|item_id|purchase|\n",
      "+-------+-------+--------+\n",
      "|   1654|  94814|    null|\n",
      "|   1654|  93629|    null|\n",
      "|   1654|   9980|    null|\n",
      "|   1654|  95099|    null|\n",
      "|   1654|  11265|    null|\n",
      "+-------+-------+--------+\n",
      "only showing top 5 rows\n",
      "\n"
     ]
    }
   ],
   "source": [
    "path = lambda tab: f'/labs/slaba03/laba03_{tab}.csv'\n",
    "\n",
    "items_schema = StructType([\n",
    "    StructField('item_id', IntegerType()),\n",
    "    StructField('channel_id', FloatType()),\n",
    "    StructField('datetime_availability_start', DateType()),\n",
    "    StructField('datetime_availability_stop', DateType()),\n",
    "    StructField('datetime_show_start', DateType()),\n",
    "    StructField('datetime_show_stop', DateType()),\n",
    "    StructField('content_type', IntegerType()),\n",
    "    StructField('title', StringType()),\n",
    "    StructField('year', FloatType()),\n",
    "    StructField('genres', StringType()),\n",
    "    StructField('region_id', IntegerType()),\n",
    "])\n",
    "items = spark.read.csv(path('items'), header = True, sep = '\\t', schema = items_schema).drop('region_id')\n",
    "print('items')\n",
    "items.show(5)\n",
    "\n",
    "cv = CountVectorizer(inputCol = 'genres_list', outputCol = 'genres_vector')\n",
    "items_paid = items.filter(F.col('content_type') == 1)\\\n",
    ".fillna('Прочее', ['genres'])\\\n",
    ".withColumn('genres_list', F.split(F.col('genres'),','))\n",
    "items_paid = cv.fit(items_paid).transform(items_paid).select('item_id','datetime_availability_start','datetime_availability_stop','title','year','genres_vector')\n",
    "print('items_paid')\n",
    "items_paid.show(5)\n",
    "\n",
    "views_programmes_schema = StructType([\n",
    "    StructField('user_id', IntegerType()),\n",
    "    StructField('item_id', IntegerType()),\n",
    "    StructField('ts_start', LongType()),\n",
    "    StructField('ts_end', LongType()),\n",
    "    StructField('item_type', StringType()),\n",
    "])\n",
    "views_programmes = spark.read.csv(path('views_programmes'), header = True, sep = ',', schema = views_programmes_schema)\\\n",
    ".withColumn('duration', F.col('ts_end') - F.col('ts_start'))\n",
    "views_programmes = views_programmes.withColumn(\"ts_start\", views_programmes[\"ts_start\"].cast(TimestampType()))\n",
    "views_programmes = views_programmes.withColumn(\"ts_end\", views_programmes[\"ts_end\"].cast(TimestampType()))\n",
    "print('views_programmes')\n",
    "views_programmes.show(5)\n",
    "\n",
    "train_schema = StructType([\n",
    "    StructField('user_id', IntegerType()),\n",
    "    StructField('item_id', IntegerType()),\n",
    "    StructField('purchase', IntegerType()),\n",
    "])\n",
    "train = spark.read.csv(path('train'), header = True, sep = ',', schema = train_schema)\n",
    "print('train')\n",
    "train.show(5)\n",
    "\n",
    "test = spark.read.csv(path('test'), header = True, sep = ',', schema = train_schema)\n",
    "print('test')\n",
    "test.show(5)"
   ]
  },
  {
   "cell_type": "code",
   "execution_count": 6,
   "metadata": {},
   "outputs": [
    {
     "data": {
      "image/png": "[encoded data removed]",
      "text/plain": [
       "<Figure size 1080x576 with 1 Axes>"
      ]
     },
     "metadata": {},
     "output_type": "display_data"
    }
   ],
   "source": [
    "# Просмотры в марте отсутствуют\n",
    "views_programmes.groupBy(F.date_trunc('Day','ts_start').alias('period')).count().orderBy('period').toPandas().set_index('period')\\\n",
    ".plot(figsize = (15,8), grid = True, title = 'Просмотры по дням');"
   ]
  },
  {
   "cell_type": "markdown",
   "metadata": {},
   "source": [
    "## Агрегаты по каналам"
   ]
  },
  {
   "cell_type": "code",
   "execution_count": 7,
   "metadata": {},
   "outputs": [
    {
     "data": {
      "text/plain": [
       "DataFrame[user_id: int, item_id: int, ts_start: timestamp, ts_end: timestamp, item_type: string, duration: bigint]"
      ]
     },
     "execution_count": 7,
     "metadata": {},
     "output_type": "execute_result"
    }
   ],
   "source": [
    "views_programmes"
   ]
  },
  {
   "cell_type": "code",
   "execution_count": 8,
   "metadata": {},
   "outputs": [
    {
     "name": "stdout",
     "output_type": "stream",
     "text": [
      "+----------+------------+\n",
      "|channel_id|channel_rank|\n",
      "+----------+------------+\n",
      "|      13.0|           0|\n",
      "|       5.0|           1|\n",
      "|      14.0|           2|\n",
      "|       6.0|           3|\n",
      "|      12.0|           4|\n",
      "+----------+------------+\n",
      "only showing top 5 rows\n",
      "\n"
     ]
    }
   ],
   "source": [
    "n_channels = 100\n",
    "\n",
    "top_channels = views_programmes.join(items, 'item_id')\\\n",
    ".groupBy('channel_id').agg(F.sum('duration').alias('duration'))\\\n",
    ".orderBy('duration', ascending = False).limit(n_channels)\\\n",
    ".withColumn('channel_rank', F.row_number().over(Window().orderBy(F.col('duration').desc())) - 1)\\\n",
    ".select('channel_id','channel_rank').cache()\n",
    "top_channels.show(5)"
   ]
  },
  {
   "cell_type": "code",
   "execution_count": 9,
   "metadata": {},
   "outputs": [],
   "source": [
    "udf_sparse = F.udf(lambda n, indices, values: SparseVector(n, indices, values), VectorUDT())"
   ]
  },
  {
   "cell_type": "code",
   "execution_count": 10,
   "metadata": {},
   "outputs": [
    {
     "data": {
      "text/plain": [
       "[Row(user_id=561425, channel_duration_vector=SparseVector(100, {1: 6740.0, 3: 29830.0, 11: 1129.0}), channel_count_vector=SparseVector(100, {1: 1.0, 3: 3.0, 11: 1.0})),\n",
       " Row(user_id=612390, channel_duration_vector=SparseVector(100, {5: 4406.0}), channel_count_vector=SparseVector(100, {5: 1.0})),\n",
       " Row(user_id=612597, channel_duration_vector=SparseVector(100, {1: 376324.0, 2: 453.0, 3: 132306.0, 4: 50368.0, 5: 2406.0, 8: 29345.0, 10: 12082.0, 11: 6150.0, 13: 14685.0, 17: 544.0, 18: 4404.0, 30: 949.0, 55: 323.0, 56: 1648.0, 61: 28904.0, 65: 490.0, 69: 3776.0, 72: 16303.0, 74: 508.0, 99: 452.0}), channel_count_vector=SparseVector(100, {1: 46.0, 2: 1.0, 3: 35.0, 4: 6.0, 5: 1.0, 8: 2.0, 10: 2.0, 11: 6.0, 13: 1.0, 17: 1.0, 18: 1.0, 30: 1.0, 55: 1.0, 56: 1.0, 61: 15.0, 65: 1.0, 69: 3.0, 72: 2.0, 74: 1.0, 99: 1.0})),\n",
       " Row(user_id=632436, channel_duration_vector=SparseVector(100, {1: 218315.0, 3: 1020878.0, 4: 107246.0, 5: 26589.0, 6: 14701.0, 9: 4155.0, 10: 53547.0, 11: 96724.0, 13: 7521.0, 14: 6737.0, 17: 58480.0, 18: 31441.0, 19: 2345.0, 20: 61836.0, 30: 31396.0, 36: 14647.0, 57: 14894.0, 73: 3213.0}), channel_count_vector=SparseVector(100, {1: 50.0, 3: 141.0, 4: 36.0, 5: 11.0, 6: 1.0, 9: 4.0, 10: 21.0, 11: 35.0, 13: 2.0, 14: 3.0, 17: 15.0, 18: 7.0, 19: 3.0, 20: 4.0, 30: 12.0, 36: 7.0, 57: 7.0, 73: 1.0})),\n",
       " Row(user_id=701909, channel_duration_vector=SparseVector(100, {0: 485.0, 1: 308.0, 3: 1828.0, 4: 36338.0, 5: 13889.0, 6: 38592.0, 7: 11587.0, 8: 1833.0, 12: 3325.0, 14: 216251.0, 15: 7387.0, 16: 1055.0, 19: 201917.0, 28: 5259.0, 29: 2102.0, 33: 6033.0, 34: 6485.0, 35: 28812.0, 36: 3338.0, 38: 25010.0, 39: 6728.0, 42: 40138.0, 48: 933.0, 58: 6868.0, 61: 1232.0, 63: 32042.0, 65: 2248.0, 67: 326.0, 69: 8850.0, 72: 3057.0, 75: 10326.0, 80: 9458.0, 81: 3811.0, 84: 1838.0, 92: 59126.0, 94: 5852.0}), channel_count_vector=SparseVector(100, {0: 1.0, 1: 1.0, 3: 1.0, 4: 4.0, 5: 5.0, 6: 4.0, 7: 4.0, 8: 1.0, 12: 3.0, 14: 39.0, 15: 2.0, 16: 1.0, 19: 29.0, 28: 1.0, 29: 1.0, 33: 1.0, 34: 2.0, 35: 3.0, 36: 1.0, 38: 3.0, 39: 1.0, 42: 8.0, 48: 1.0, 58: 1.0, 61: 1.0, 63: 4.0, 65: 2.0, 67: 1.0, 69: 1.0, 72: 2.0, 75: 4.0, 80: 3.0, 81: 2.0, 84: 1.0, 92: 10.0, 94: 3.0}))]"
      ]
     },
     "execution_count": 10,
     "metadata": {},
     "output_type": "execute_result"
    }
   ],
   "source": [
    "w = Window.partitionBy('user_id').orderBy('channel_rank')\n",
    "\n",
    "channels_agg = views_programmes.join(items, 'item_id').join(top_channels, 'channel_id',)\\\n",
    ".groupBy('user_id', 'channel_rank')\\\n",
    ".agg(F.sum('duration').alias('duration')\n",
    "     , F.count('duration').alias('count'))\\\n",
    ".withColumn('channel_rank', F.collect_list('channel_rank').over(w))\\\n",
    ".withColumn('duration', F.collect_list('duration').over(w))\\\n",
    ".withColumn('count', F.collect_list('count').over(w))\\\n",
    ".groupBy('user_id')\\\n",
    ".agg(F.max('channel_rank').alias('channel_rank')\n",
    "     , F.max('duration').alias('duration')\n",
    "     , F.max('count').alias('count'))\\\n",
    ".withColumn('channel_duration_vector', udf_sparse(F.lit(n_channels), 'channel_rank', 'duration'))\\\n",
    ".withColumn('channel_count_vector', udf_sparse(F.lit(n_channels), 'channel_rank', 'count'))\\\n",
    ".select('user_id','channel_duration_vector', 'channel_count_vector')\n",
    "\n",
    "durationHint = VectorSizeHint(inputCol = 'channel_duration_vector', size = n_channels)\n",
    "countHint = VectorSizeHint(inputCol = 'channel_count_vector', size = n_channels)\n",
    "channels_agg = Pipeline(stages = [durationHint, countHint]).fit(channels_agg).transform(channels_agg).cache()\n",
    "\n",
    "channels_agg.limit(5).collect()"
   ]
  },
  {
   "cell_type": "markdown",
   "metadata": {},
   "source": [
    "## Агрегаты по телепередачам"
   ]
  },
  {
   "cell_type": "code",
   "execution_count": 11,
   "metadata": {},
   "outputs": [
    {
     "name": "stdout",
     "output_type": "stream",
     "text": [
      "+--------------------+----------+\n",
      "|               title|title_rank|\n",
      "+--------------------+----------+\n",
      "|               вести|         0|\n",
      "|\"телеканал \"\"добр...|         1|\n",
      "|             интерны|         2|\n",
      "|универ. новая общага|         3|\n",
      "|            воронины|         4|\n",
      "+--------------------+----------+\n",
      "only showing top 5 rows\n",
      "\n"
     ]
    }
   ],
   "source": [
    "n_titles = 100\n",
    "\n",
    "top_titles = views_programmes.join(items, 'item_id')\\\n",
    ".groupBy('title').agg(F.sum('duration').alias('duration'))\\\n",
    ".orderBy('duration', ascending = False).limit(n_titles)\\\n",
    ".withColumn('title_rank', F.row_number().over(Window().orderBy(F.col('duration').desc())) - 1)\\\n",
    ".select('title','title_rank').cache()\n",
    "top_titles.show(5)"
   ]
  },
  {
   "cell_type": "code",
   "execution_count": 12,
   "metadata": {},
   "outputs": [
    {
     "name": "stdout",
     "output_type": "stream",
     "text": [
      "+----------+-----+\n",
      "|channel_id|count|\n",
      "+----------+-----+\n",
      "|      13.0| 6301|\n",
      "+----------+-----+\n",
      "\n"
     ]
    }
   ],
   "source": [
    "items.filter(F.col('title') == 'интерны').groupBy('channel_id').count().show(10)"
   ]
  },
  {
   "cell_type": "code",
   "execution_count": 13,
   "metadata": {},
   "outputs": [
    {
     "name": "stdout",
     "output_type": "stream",
     "text": [
      "+-------+-----+\n",
      "|buckets|count|\n",
      "+-------+-----+\n",
      "|    0.0| 5741|\n",
      "|    1.0| 9990|\n",
      "|    2.0| 6857|\n",
      "|    3.0| 1090|\n",
      "+-------+-----+\n",
      "\n"
     ]
    }
   ],
   "source": [
    "bucketizer = Bucketizer(splits=[ 0, 2, 10, 100, float('Inf') ], inputCol = 'count', outputCol = 'buckets')\n",
    "bucketizer.transform(items.groupBy('title').count()).groupBy('buckets').count().orderBy('buckets').show(20)"
   ]
  },
  {
   "cell_type": "code",
   "execution_count": 14,
   "metadata": {},
   "outputs": [
    {
     "data": {
      "text/plain": [
       "22"
      ]
     },
     "execution_count": 14,
     "metadata": {},
     "output_type": "execute_result"
    }
   ],
   "source": [
    "items.rdd.getNumPartitions()"
   ]
  },
  {
   "cell_type": "code",
   "execution_count": 15,
   "metadata": {},
   "outputs": [
    {
     "data": {
      "text/plain": [
       "[Row(user_id=561425, title_duration_vector=SparseVector(100, {0: 15128.0}), title_count_vector=SparseVector(100, {0: 2.0})),\n",
       " Row(user_id=612597, title_duration_vector=SparseVector(100, {0: 26589.0, 1: 14680.0, 6: 14700.0, 9: 43807.0, 10: 4652.0, 15: 21995.0, 16: 2401.0, 25: 131026.0, 27: 11408.0, 30: 32985.0, 36: 529.0, 39: 4350.0, 46: 45530.0, 47: 3420.0, 48: 2925.0, 52: 4229.0, 56: 9457.0, 63: 14698.0, 81: 1220.0, 98: 29365.0}), title_count_vector=SparseVector(100, {0: 13.0, 1: 1.0, 6: 1.0, 9: 2.0, 10: 4.0, 15: 3.0, 16: 1.0, 25: 9.0, 27: 5.0, 30: 3.0, 36: 1.0, 39: 5.0, 46: 3.0, 47: 1.0, 48: 2.0, 52: 4.0, 56: 1.0, 63: 1.0, 81: 2.0, 98: 2.0})),\n",
       " Row(user_id=632436, title_duration_vector=SparseVector(100, {0: 228161.0, 1: 8053.0, 6: 85607.0, 9: 10416.0, 12: 62886.0, 14: 4973.0, 16: 6250.0, 17: 15405.0, 20: 3528.0, 21: 14476.0, 22: 2004.0, 27: 97036.0, 32: 3213.0, 39: 128662.0, 42: 358.0, 46: 1187.0, 52: 10630.0, 54: 31211.0, 56: 11538.0, 59: 1267.0, 60: 4629.0, 65: 8745.0, 69: 21353.0, 77: 497.0, 79: 51327.0, 81: 4073.0, 82: 719.0, 84: 3604.0, 89: 10880.0, 93: 20522.0, 95: 5945.0, 98: 128166.0}), title_count_vector=SparseVector(100, {0: 41.0, 1: 2.0, 6: 9.0, 9: 2.0, 12: 11.0, 14: 1.0, 16: 3.0, 17: 3.0, 20: 2.0, 21: 4.0, 22: 1.0, 27: 13.0, 32: 1.0, 39: 13.0, 42: 1.0, 46: 1.0, 52: 3.0, 54: 4.0, 56: 3.0, 59: 1.0, 60: 2.0, 65: 4.0, 69: 3.0, 77: 1.0, 79: 6.0, 81: 2.0, 82: 1.0, 84: 2.0, 89: 2.0, 93: 2.0, 95: 1.0, 98: 11.0})),\n",
       " Row(user_id=701909, title_duration_vector=SparseVector(100, {13: 308.0, 14: 10295.0, 16: 5913.0, 20: 13411.0, 21: 43630.0, 31: 3611.0, 32: 22190.0, 38: 22935.0, 42: 40305.0, 59: 12266.0, 63: 43378.0, 66: 23634.0, 69: 2434.0, 85: 2483.0, 90: 40138.0}), title_count_vector=SparseVector(100, {13: 1.0, 14: 3.0, 16: 4.0, 20: 2.0, 21: 4.0, 31: 2.0, 32: 5.0, 38: 2.0, 42: 4.0, 59: 1.0, 63: 3.0, 66: 2.0, 69: 1.0, 85: 1.0, 90: 8.0})),\n",
       " Row(user_id=730383, title_duration_vector=SparseVector(100, {0: 12308.0, 1: 469.0, 9: 4631.0, 10: 3157.0, 13: 3806.0, 15: 7449.0, 17: 9241.0, 39: 5950.0, 48: 421.0, 52: 13093.0, 64: 1411.0, 69: 560.0, 74: 4967.0, 76: 5039.0, 81: 1081.0, 82: 870.0, 97: 1041.0}), title_count_vector=SparseVector(100, {0: 6.0, 1: 1.0, 9: 4.0, 10: 3.0, 13: 1.0, 15: 1.0, 17: 2.0, 39: 1.0, 48: 1.0, 52: 2.0, 64: 2.0, 69: 1.0, 74: 1.0, 76: 2.0, 81: 1.0, 82: 1.0, 97: 2.0}))]"
      ]
     },
     "execution_count": 15,
     "metadata": {},
     "output_type": "execute_result"
    }
   ],
   "source": [
    "w = Window.partitionBy('user_id').orderBy('title_rank')\n",
    "\n",
    "titles_agg = views_programmes.join(items, 'item_id').join(top_titles, 'title')\\\n",
    ".groupBy('user_id', 'title_rank')\\\n",
    ".agg(F.sum('duration').alias('duration')\n",
    "     , F.count('duration').alias('count'))\\\n",
    ".withColumn('title_rank', F.collect_list('title_rank').over(w))\\\n",
    ".withColumn('duration', F.collect_list('duration').over(w))\\\n",
    ".withColumn('count', F.collect_list('count').over(w))\\\n",
    ".groupBy('user_id')\\\n",
    ".agg(F.max('title_rank').alias('title_rank')\n",
    "     , F.max('duration').alias('duration')\n",
    "     , F.max('count').alias('count'))\\\n",
    ".withColumn('title_duration_vector', udf_sparse(F.lit(n_titles), 'title_rank', 'duration'))\\\n",
    ".withColumn('title_count_vector', udf_sparse(F.lit(n_titles), 'title_rank', 'count'))\\\n",
    ".select('user_id','title_duration_vector', 'title_count_vector')\n",
    "\n",
    "durationHint = VectorSizeHint(inputCol = 'title_duration_vector', size = n_titles)\n",
    "countHint = VectorSizeHint(inputCol = 'title_count_vector', size = n_titles)\n",
    "titles_agg = Pipeline(stages = [durationHint, countHint]).fit(titles_agg).transform(titles_agg).cache()\n",
    "\n",
    "titles_agg.limit(5).collect()"
   ]
  },
  {
   "cell_type": "markdown",
   "metadata": {},
   "source": [
    "## Агрегаты по периодам"
   ]
  },
  {
   "cell_type": "code",
   "execution_count": 16,
   "metadata": {},
   "outputs": [
    {
     "name": "stdout",
     "output_type": "stream",
     "text": [
      "+-------------------+-----------+\n",
      "|             period|period_rank|\n",
      "+-------------------+-----------+\n",
      "|2017-03-13 00:00:00|          0|\n",
      "|2017-03-27 00:00:00|          1|\n",
      "|2017-04-17 00:00:00|          2|\n",
      "|2017-03-20 00:00:00|          3|\n",
      "|2017-04-24 00:00:00|          4|\n",
      "|2017-02-27 00:00:00|          5|\n",
      "|2017-03-06 00:00:00|          6|\n",
      "|2017-02-20 00:00:00|          7|\n",
      "|2017-04-03 00:00:00|          8|\n",
      "|2017-02-13 00:00:00|          9|\n",
      "|2017-02-06 00:00:00|         10|\n",
      "|2017-05-01 00:00:00|         11|\n",
      "|2017-01-30 00:00:00|         12|\n",
      "|2017-04-10 00:00:00|         13|\n",
      "+-------------------+-----------+\n",
      "\n"
     ]
    }
   ],
   "source": [
    "periods_stat = views_programmes\\\n",
    ".groupBy(F.date_trunc('Week', 'ts_start').alias('period'))\\\n",
    ".agg(F.sum('duration').alias('duration'))\\\n",
    ".orderBy('period')\\\n",
    ".withColumn('period_rank', F.row_number().over(Window().orderBy(F.col('duration').desc())) - 1)\\\n",
    ".select('period','period_rank').cache()\n",
    "n_periods = periods_stat.count()\n",
    "periods_stat.show(100)"
   ]
  },
  {
   "cell_type": "code",
   "execution_count": 17,
   "metadata": {},
   "outputs": [
    {
     "data": {
      "text/plain": [
       "[Row(user_id=561425, period_duration_vector=SparseVector(14, {3: 30959.0, 7: 6740.0}), period_count_vector=SparseVector(14, {3: 4.0, 7: 1.0})),\n",
       " Row(user_id=612390, period_duration_vector=SparseVector(14, {7: 4406.0}), period_count_vector=SparseVector(14, {7: 1.0})),\n",
       " Row(user_id=612597, period_duration_vector=SparseVector(14, {0: 48810.0, 1: 70076.0, 2: 44578.0, 3: 47908.0, 4: 61952.0, 5: 17190.0, 6: 123850.0, 7: 28882.0, 8: 65069.0, 9: 73030.0, 10: 63789.0, 11: 35833.0, 12: 5790.0}), period_count_vector=SparseVector(14, {0: 7.0, 1: 17.0, 2: 4.0, 3: 4.0, 4: 22.0, 5: 8.0, 6: 13.0, 7: 11.0, 8: 8.0, 9: 18.0, 10: 14.0, 11: 4.0, 12: 1.0})),\n",
       " Row(user_id=632436, period_duration_vector=SparseVector(14, {0: 223776.0, 1: 192290.0, 2: 162993.0, 3: 244144.0, 4: 171056.0, 5: 142112.0, 6: 148629.0, 7: 115438.0, 8: 132716.0, 9: 89646.0, 10: 78293.0, 11: 53519.0, 12: 25871.0}), period_count_vector=SparseVector(14, {0: 55.0, 1: 51.0, 2: 25.0, 3: 40.0, 4: 43.0, 5: 21.0, 6: 25.0, 7: 28.0, 8: 20.0, 9: 14.0, 10: 11.0, 11: 18.0, 12: 11.0})),\n",
       " Row(user_id=701909, period_duration_vector=SparseVector(14, {0: 110134.0, 1: 251403.0, 2: 44118.0, 4: 263793.0, 5: 10535.0, 6: 5993.0, 7: 6636.0, 8: 56085.0, 10: 5601.0, 11: 84393.0, 12: 5162.0}), period_count_vector=SparseVector(14, {0: 18.0, 1: 32.0, 2: 17.0, 4: 55.0, 5: 3.0, 6: 1.0, 7: 2.0, 8: 6.0, 10: 3.0, 11: 25.0, 12: 3.0}))]"
      ]
     },
     "execution_count": 17,
     "metadata": {},
     "output_type": "execute_result"
    }
   ],
   "source": [
    "w = Window.partitionBy('user_id').orderBy('period_rank')\n",
    "\n",
    "periods_agg = views_programmes.withColumn('period', F.date_trunc('Week', 'ts_start'))\\\n",
    ".join(items, 'item_id').join(periods_stat, 'period')\\\n",
    ".groupBy('user_id', 'period_rank')\\\n",
    ".agg(F.sum('duration').alias('duration')\n",
    "     , F.count('duration').alias('count'))\\\n",
    ".withColumn('period_rank', F.collect_list('period_rank').over(w))\\\n",
    ".withColumn('duration', F.collect_list('duration').over(w))\\\n",
    ".withColumn('count', F.collect_list('count').over(w))\\\n",
    ".groupBy('user_id')\\\n",
    ".agg(F.max('period_rank').alias('period_rank')\n",
    "     , F.max('duration').alias('duration')\n",
    "     , F.max('count').alias('count'))\\\n",
    ".withColumn('period_duration_vector', udf_sparse(F.lit(n_periods), 'period_rank', 'duration'))\\\n",
    ".withColumn('period_count_vector', udf_sparse(F.lit(n_periods), 'period_rank', 'count'))\\\n",
    ".select('user_id','period_duration_vector', 'period_count_vector')\n",
    "\n",
    "durationHint = VectorSizeHint(inputCol = 'period_duration_vector', size = n_periods)\n",
    "countHint = VectorSizeHint(inputCol = 'period_count_vector', size = n_periods)\n",
    "periods_agg = Pipeline(stages = [durationHint, countHint]).fit(titles_agg).transform(periods_agg).cache()\n",
    "\n",
    "periods_agg.limit(5).collect()"
   ]
  },
  {
   "cell_type": "markdown",
   "metadata": {},
   "source": [
    "## Агрегаты по просмотрам"
   ]
  },
  {
   "cell_type": "code",
   "execution_count": 18,
   "metadata": {},
   "outputs": [
    {
     "name": "stdout",
     "output_type": "stream",
     "text": [
      "+-------+--------------+-------------+------------+----------+----------+---------+\n",
      "|user_id|duration_total|duration_live|duration_pvr|  start_dt|    end_dt|length_dt|\n",
      "+-------+--------------+-------------+------------+----------+----------+---------+\n",
      "| 753966|       2305138|      2295379|        9759|1486456849|1493830140|  7373291|\n",
      "| 754230|       2256455|       935592|     1320863|1485931911|1493856301|  7924390|\n",
      "| 761341|        112461|        21729|       90732|1489132663|1493808022|  4675359|\n",
      "| 761571|        527877|       518212|        9665|1485927946|1493843990|  7916044|\n",
      "| 764437|        159821|       159821|           0|1486195850|1491510627|  5314777|\n",
      "+-------+--------------+-------------+------------+----------+----------+---------+\n",
      "only showing top 5 rows\n",
      "\n"
     ]
    }
   ],
   "source": [
    "views_agg = views_programmes.groupBy('user_id')\\\n",
    ".agg(F.sum('duration').alias('duration_total')\n",
    "     , F.sum(F.when(F.col('item_type') == 'live', F.col('duration')).otherwise(0)).alias('duration_live')\n",
    "     , F.sum(F.when(F.col('item_type') == 'pvr', F.col('duration')).otherwise(0)).alias('duration_pvr')\n",
    "     , F.min('ts_start').cast('long').alias('start_dt')\n",
    "     , F.max('ts_start').cast('long').alias('end_dt')\n",
    "    )\\\n",
    ".withColumn('length_dt', F.col('end_dt') - F.col('start_dt')).cache()\n",
    "views_agg.show(5)"
   ]
  },
  {
   "cell_type": "markdown",
   "metadata": {},
   "source": [
    "## Агрегаты по платным фильмам"
   ]
  },
  {
   "cell_type": "code",
   "execution_count": 19,
   "metadata": {},
   "outputs": [
    {
     "name": "stdout",
     "output_type": "stream",
     "text": [
      "+-------+---------------------+-----+---------+\n",
      "|item_id|purchase_rate_by_item|users|purchased|\n",
      "+-------+---------------------+-----+---------+\n",
      "|    326| 7.320644216691069E-4| 1366|        1|\n",
      "|    336|                  0.0| 1377|        0|\n",
      "|    357| 7.401924500370096E-4| 1351|        1|\n",
      "|    396| 7.326007326007326E-4| 1365|        1|\n",
      "|    400| 7.215007215007215E-4| 1386|        1|\n",
      "|    423| 7.336757153338225E-4| 1363|        1|\n",
      "|    430| 7.645259938837921E-4| 1308|        1|\n",
      "|    449| 7.407407407407407E-4| 1350|        1|\n",
      "|    453|                  0.0| 1359|        0|\n",
      "|    478| 0.001447178002894356| 1382|        2|\n",
      "+-------+---------------------+-----+---------+\n",
      "only showing top 10 rows\n",
      "\n"
     ]
    },
    {
     "data": {
      "text/plain": [
       "3704"
      ]
     },
     "execution_count": 19,
     "metadata": {},
     "output_type": "execute_result"
    }
   ],
   "source": [
    "purchase_rate_by_item = train\\\n",
    ".groupBy('item_id')\\\n",
    ".agg(F.mean('purchase').alias('purchase_rate_by_item'), F.count('purchase').alias('users'), F.sum('purchase').alias('purchased'))\\\n",
    ".orderBy('item_id').cache()\n",
    "purchase_rate_by_item.show(10)\n",
    "purchase_rate_by_item.count()"
   ]
  },
  {
   "cell_type": "code",
   "execution_count": 20,
   "metadata": {},
   "outputs": [
    {
     "name": "stdout",
     "output_type": "stream",
     "text": [
      "+--------------------+----------------------+-----+---------+\n",
      "|               title|purchase_rate_by_title|users|purchased|\n",
      "+--------------------+----------------------+-----+---------+\n",
      "|\"тайна \"\"волчьей ...|  7.385524372230429E-4| 1354|        1|\n",
      "|        #selfieparty|   7.49063670411985E-4| 1335|        1|\n",
      "|   (не)жданный принц|  7.331378299120235E-4| 2728|        2|\n",
      "|      +1 (плюс один)|                   0.0| 1348|        0|\n",
      "|                 1+1|  0.002592592592592...| 2700|        7|\n",
      "|  1+1 (сурдоперевод)|  7.283321194464676E-4| 1373|        1|\n",
      "|  1+1 дом. новый год|  0.001452432824981...| 1377|        2|\n",
      "|   1+1 дома: 8 марта|  0.001433691756272...| 1395|        2|\n",
      "|   10 друзей кролика|  0.003695491500369549| 1353|        5|\n",
      "|10 лучших игр по ...|  7.396449704142012E-4| 1352|        1|\n",
      "+--------------------+----------------------+-----+---------+\n",
      "only showing top 10 rows\n",
      "\n"
     ]
    },
    {
     "data": {
      "text/plain": [
       "2914"
      ]
     },
     "execution_count": 20,
     "metadata": {},
     "output_type": "execute_result"
    }
   ],
   "source": [
    "purchase_rate_by_title = train.join(items, 'item_id')\\\n",
    ".groupBy('title')\\\n",
    ".agg(F.mean('purchase').alias('purchase_rate_by_title'), F.count('purchase').alias('users'), F.sum('purchase').alias('purchased'))\\\n",
    ".orderBy('title').cache()\n",
    "purchase_rate_by_title.show(10)\n",
    "purchase_rate_by_title.count()"
   ]
  },
  {
   "cell_type": "code",
   "execution_count": 21,
   "metadata": {},
   "outputs": [
    {
     "name": "stdout",
     "output_type": "stream",
     "text": [
      "+-------+---------------------+-----+---------+\n",
      "|user_id|purchase_rate_by_user|items|purchased|\n",
      "+-------+---------------------+-----+---------+\n",
      "|   1654| 0.001947040498442...| 2568|        5|\n",
      "| 510087| 0.002363135092556...| 2539|        6|\n",
      "| 517612| 3.901677721420211E-4| 2563|        1|\n",
      "| 520446| 0.003053435114503...| 2620|        8|\n",
      "| 522798|          0.001171875| 2560|        3|\n",
      "| 523860| 0.013026819923371647| 2610|       34|\n",
      "| 529632| 3.874467260751647E-4| 2581|        1|\n",
      "| 556825| 0.003117692907248636| 2566|        8|\n",
      "| 566701| 0.004610065309258548| 2603|       12|\n",
      "| 566758| 3.766478342749529E-4| 2655|        1|\n",
      "+-------+---------------------+-----+---------+\n",
      "only showing top 10 rows\n",
      "\n"
     ]
    },
    {
     "data": {
      "text/plain": [
       "1941"
      ]
     },
     "execution_count": 21,
     "metadata": {},
     "output_type": "execute_result"
    }
   ],
   "source": [
    "purchase_rate_by_user = train\\\n",
    ".groupBy('user_id')\\\n",
    ".agg(F.mean('purchase').alias('purchase_rate_by_user'), F.count('purchase').alias('items'), F.sum('purchase').alias('purchased'))\\\n",
    ".orderBy('user_id').cache()\n",
    "purchase_rate_by_user.show(10)\n",
    "purchase_rate_by_user.count()"
   ]
  },
  {
   "cell_type": "code",
   "execution_count": 22,
   "metadata": {},
   "outputs": [
    {
     "name": "stdout",
     "output_type": "stream",
     "text": [
      "+-------+----------+---------------------------+--------------------------+-------------------+------------------+------------+-----------------+------+--------------------+\n",
      "|item_id|channel_id|datetime_availability_start|datetime_availability_stop|datetime_show_start|datetime_show_stop|content_type|            title|  year|              genres|\n",
      "+-------+----------+---------------------------+--------------------------+-------------------+------------------+------------+-----------------+------+--------------------+\n",
      "|    540|      null|                 1970-01-01|                2099-12-31|               null|              null|           1|мой парень – псих|2012.0|Комедии,Драмы,Мел...|\n",
      "|  74605|      null|                 1970-01-01|                2099-12-31|               null|              null|           1|мой парень – псих|2012.0|Комедии,Драмы,Мел...|\n",
      "+-------+----------+---------------------------+--------------------------+-------------------+------------------+------------+-----------------+------+--------------------+\n",
      "\n"
     ]
    }
   ],
   "source": [
    "items.filter(F.col('item_id').isin([540,74605])).show()"
   ]
  },
  {
   "cell_type": "markdown",
   "metadata": {},
   "source": [
    "## Наивные модели на данных только train превосходят baseline"
   ]
  },
  {
   "cell_type": "code",
   "execution_count": 23,
   "metadata": {},
   "outputs": [
    {
     "data": {
      "text/plain": [
       "0.6553423101726221"
      ]
     },
     "execution_count": 23,
     "metadata": {},
     "output_type": "execute_result"
    }
   ],
   "source": [
    "feature_evaluator = BinaryClassificationEvaluator(rawPredictionCol = 'purchase_rate_by_item', labelCol = 'purchase', metricName = 'areaUnderROC')\n",
    "\n",
    "np.abs(2 * feature_evaluator.evaluate(train.join(purchase_rate_by_item, 'item_id')) - 1)"
   ]
  },
  {
   "cell_type": "code",
   "execution_count": 24,
   "metadata": {},
   "outputs": [],
   "source": [
    "naive_df_1 = test.join(purchase_rate_by_item, 'item_id')\\\n",
    ".select('user_id','item_id', F.col('purchase_rate_by_item').alias('purchase'))\\\n",
    ".orderBy('user_id','item_id').toPandas()"
   ]
  },
  {
   "cell_type": "code",
   "execution_count": 25,
   "metadata": {},
   "outputs": [],
   "source": [
    "# ROC AUC: 0.74543428073\n",
    "# filename = f'lab03_{datetime.now().strftime(\"%Y-%m-%d_%H%M%S\")}.csv'\n",
    "# print(filename)\n",
    "# naive_df_1.to_csv(filename, index = False)"
   ]
  },
  {
   "cell_type": "code",
   "execution_count": 26,
   "metadata": {},
   "outputs": [],
   "source": [
    "# ! cp lab03_2022-10-23_010414.csv lab03.csv"
   ]
  },
  {
   "cell_type": "code",
   "execution_count": 27,
   "metadata": {},
   "outputs": [],
   "source": [
    "naive_df_2 = test.join(items, 'item_id').join(purchase_rate_by_title, 'title')\\\n",
    ".select('user_id','item_id', F.col('purchase_rate_by_title').alias('purchase'))\\\n",
    ".orderBy('user_id','item_id').toPandas()"
   ]
  },
  {
   "cell_type": "code",
   "execution_count": 28,
   "metadata": {},
   "outputs": [],
   "source": [
    "# ROC AUC: 0.745522236992\n",
    "# filename = f'lab03_{datetime.now().strftime(\"%Y-%m-%d_%H%M%S\")}.csv'\n",
    "# print(filename)\n",
    "# naive_df_2.to_csv(filename, index = False)"
   ]
  },
  {
   "cell_type": "code",
   "execution_count": 29,
   "metadata": {},
   "outputs": [],
   "source": [
    "# ! cp lab03_2022-10-23_010936.csv lab03.csv"
   ]
  },
  {
   "cell_type": "code",
   "execution_count": 30,
   "metadata": {},
   "outputs": [],
   "source": [
    "naive_df_3 = test.join(purchase_rate_by_user, 'user_id')\\\n",
    ".select('user_id','item_id', F.col('purchase_rate_by_user').alias('purchase'))\\\n",
    ".orderBy('user_id','item_id').toPandas()"
   ]
  },
  {
   "cell_type": "code",
   "execution_count": 31,
   "metadata": {},
   "outputs": [],
   "source": [
    "# ROC AUC: 0.809270685737\n",
    "# filename = f'lab03_{datetime.now().strftime(\"%Y-%m-%d_%H%M%S\")}.csv'\n",
    "# print(filename)\n",
    "# naive_df_3.to_csv(filename, index = False)"
   ]
  },
  {
   "cell_type": "code",
   "execution_count": 32,
   "metadata": {},
   "outputs": [],
   "source": [
    "# ! cp lab03_2022-10-23_114659.csv lab03.csv"
   ]
  },
  {
   "cell_type": "code",
   "execution_count": 33,
   "metadata": {},
   "outputs": [],
   "source": [
    "eps = 1e-10\n",
    "logit = F.udf(lambda p: float(np.log((p + eps)/(1 - p + eps))), DoubleType())"
   ]
  },
  {
   "cell_type": "code",
   "execution_count": 34,
   "metadata": {},
   "outputs": [],
   "source": [
    "naive_logreg_train = train.join(purchase_rate_by_user, 'user_id').join(purchase_rate_by_item, 'item_id')\\\n",
    ".select(train['user_id'], train['item_id'], 'purchase', 'purchase_rate_by_user', 'purchase_rate_by_item'\n",
    "        , logit('purchase_rate_by_user').alias('user_woe')\n",
    "        , logit('purchase_rate_by_item').alias('item_woe'))\n",
    "\n",
    "vecAssembler = VectorAssembler(inputCols = ['user_woe','item_woe'], outputCol = 'woes')\n",
    "naive_logreg_train = vecAssembler.transform(naive_logreg_train).cache()"
   ]
  },
  {
   "cell_type": "code",
   "execution_count": 35,
   "metadata": {},
   "outputs": [
    {
     "name": "stdout",
     "output_type": "stream",
     "text": [
      "+-------+-------+--------+---------------------+---------------------+------------------+------------------+--------------------+\n",
      "|user_id|item_id|purchase|purchase_rate_by_user|purchase_rate_by_item|          user_woe|          item_woe|                woes|\n",
      "+-------+-------+--------+---------------------+---------------------+------------------+------------------+--------------------+\n",
      "|   1654|  74107|       0| 0.001947040498442...| 7.575757575757576E-4|-6.239495762670167|-7.184629020817399|[-6.2394957626701...|\n",
      "|   1654|  89249|       0| 0.001947040498442...| 0.001473839351510...|-6.239495762670167|-6.518409485004006|[-6.2394957626701...|\n",
      "|   1654|  99982|       0| 0.001947040498442...| 0.001480384900074...|-6.239495762670167|-6.513971608197961|[-6.2394957626701...|\n",
      "|   1654|  89901|       0| 0.001947040498442...| 7.336757153338225E-4|-6.239495762670167| -7.21670935050954|[-6.2394957626701...|\n",
      "|   1654| 100504|       0| 0.001947040498442...| 0.004964539007092199|-6.239495762670167| -5.30045791100479|[-6.2394957626701...|\n",
      "+-------+-------+--------+---------------------+---------------------+------------------+------------------+--------------------+\n",
      "only showing top 5 rows\n",
      "\n"
     ]
    }
   ],
   "source": [
    "naive_logreg_train.show(5)"
   ]
  },
  {
   "cell_type": "code",
   "execution_count": 36,
   "metadata": {},
   "outputs": [],
   "source": [
    "naive_logreg = LogisticRegression(featuresCol = 'woes', labelCol = 'purchase').fit(naive_logreg_train)"
   ]
  },
  {
   "cell_type": "code",
   "execution_count": 37,
   "metadata": {},
   "outputs": [
    {
     "data": {
      "text/plain": [
       "DenseVector([1.0488, 1.0462])"
      ]
     },
     "execution_count": 37,
     "metadata": {},
     "output_type": "execute_result"
    }
   ],
   "source": [
    "naive_logreg.coefficients"
   ]
  },
  {
   "cell_type": "code",
   "execution_count": 38,
   "metadata": {},
   "outputs": [],
   "source": [
    "naive_logreg_test = test.join(purchase_rate_by_user, 'user_id').join(purchase_rate_by_item, 'item_id')\\\n",
    ".select(test['user_id'], test['item_id'], 'purchase', 'purchase_rate_by_user', 'purchase_rate_by_item'\n",
    "        , logit('purchase_rate_by_user').alias('user_woe')\n",
    "        , logit('purchase_rate_by_item').alias('item_woe'))\n",
    "\n",
    "vecAssembler = VectorAssembler(inputCols = ['user_woe','item_woe'], outputCol = 'woes')\n",
    "naive_logreg_test = vecAssembler.transform(naive_logreg_test).cache()"
   ]
  },
  {
   "cell_type": "code",
   "execution_count": 39,
   "metadata": {},
   "outputs": [],
   "source": [
    "naive_df_4 = naive_logreg.transform(naive_logreg_test).select('user_id', 'item_id', get_elem('probability', F.lit(1)).alias('purchase'))\\\n",
    ".orderBy('user_id', 'item_id').toPandas()"
   ]
  },
  {
   "cell_type": "code",
   "execution_count": 40,
   "metadata": {},
   "outputs": [],
   "source": [
    "# ROC AUC: 0.800856591558\n",
    "# filename = f'lab03_{datetime.now().strftime(\"%Y-%m-%d_%H%M%S\")}.csv'\n",
    "# print(filename)\n",
    "# naive_df_4.to_csv(filename, index = False)"
   ]
  },
  {
   "cell_type": "code",
   "execution_count": 41,
   "metadata": {},
   "outputs": [],
   "source": [
    "# ! cp lab03_2022-10-23_123913.csv lab03.csv"
   ]
  },
  {
   "cell_type": "markdown",
   "metadata": {},
   "source": [
    "## Рекомендательная система на базе ALS"
   ]
  },
  {
   "cell_type": "code",
   "execution_count": 42,
   "metadata": {},
   "outputs": [],
   "source": [
    "# train.show(5)"
   ]
  },
  {
   "cell_type": "code",
   "execution_count": 43,
   "metadata": {},
   "outputs": [],
   "source": [
    "# als = ALS(rank = 2, seed = 0, maxIter = 20, userCol = 'user_id', itemCol = 'item_id', ratingCol = 'purchase')\n",
    "# recommender = als.fit(train)"
   ]
  },
  {
   "cell_type": "code",
   "execution_count": 44,
   "metadata": {},
   "outputs": [],
   "source": [
    "# rec_train = recommender.transform(train).withColumn('prediction', F.col('prediction').cast('double')).cache()"
   ]
  },
  {
   "cell_type": "code",
   "execution_count": 45,
   "metadata": {},
   "outputs": [],
   "source": [
    "# rec_train.count()"
   ]
  },
  {
   "cell_type": "code",
   "execution_count": 46,
   "metadata": {},
   "outputs": [],
   "source": [
    "# feature_evaluator = BinaryClassificationEvaluator(rawPredictionCol = 'prediction', labelCol = 'purchase', metricName = 'areaUnderROC')\n",
    "\n",
    "# np.abs(2 * feature_evaluator.evaluate(rec_train) - 1)"
   ]
  },
  {
   "cell_type": "code",
   "execution_count": 47,
   "metadata": {},
   "outputs": [],
   "source": [
    "# recommender_df =  recommender.transform(test)\\\n",
    "# .select('user_id', 'item_id', F.col('prediction').alias('purchase')).orderBy('user_id', 'item_id').toPandas()"
   ]
  },
  {
   "cell_type": "code",
   "execution_count": 48,
   "metadata": {},
   "outputs": [],
   "source": [
    "# ROC AUC: 0.800856591558\n",
    "# filename = f'lab03_{datetime.now().strftime(\"%Y-%m-%d_%H%M%S\")}.csv'\n",
    "# print(filename)\n",
    "# recommender_df.to_csv(filename, index = False)"
   ]
  },
  {
   "cell_type": "markdown",
   "metadata": {},
   "source": [
    "## Сбор датасетов для обучения бустинга"
   ]
  },
  {
   "cell_type": "code",
   "execution_count": 49,
   "metadata": {},
   "outputs": [
    {
     "name": "stdout",
     "output_type": "stream",
     "text": [
      "-RECORD 0-------------------------------------------\n",
      " item_id                     | 8389                 \n",
      " user_id                     | 768889               \n",
      " purchase                    | 0                    \n",
      " duration_total              | 2114108              \n",
      " duration_live               | 1980425              \n",
      " duration_pvr                | 133683               \n",
      " start_dt                    | 1486052154           \n",
      " end_dt                      | 1493844900           \n",
      " length_dt                   | 7792746              \n",
      " period_duration_vector      | (14,[0,1,2,3,4,5,... \n",
      " period_count_vector         | (14,[0,1,2,3,4,5,... \n",
      " channel_duration_vector     | (100,[0,1,2,3,4,5... \n",
      " channel_count_vector        | (100,[0,1,2,3,4,5... \n",
      " title_duration_vector       | (100,[0,2,3,4,5,1... \n",
      " title_count_vector          | (100,[0,2,3,4,5,1... \n",
      " datetime_availability_start | 1970-01-01           \n",
      " datetime_availability_stop  | 2099-12-31           \n",
      " title                       | пес в сапогах (су... \n",
      " year                        | 1981.0               \n",
      " genres_vector               | (84,[6,14,19,22],... \n",
      " purchase_rate_by_user       | 0.0                  \n",
      " items                       | 2582                 \n",
      " purchased                   | 0                    \n",
      " purchase_rate_by_item       | 0.005979073243647235 \n",
      " users                       | 1338                 \n",
      " purchased                   | 8                    \n",
      " features                    | (520,[0,1,2,3,4,5... \n",
      "only showing top 1 row\n",
      "\n"
     ]
    }
   ],
   "source": [
    "feats = train.join(views_agg, 'user_id', 'left').join(periods_agg, 'user_id', 'left')\\\n",
    ".join(channels_agg, 'user_id', 'left').join(titles_agg, 'user_id', 'left').join(items_paid, 'item_id', 'left')\\\n",
    ".join(purchase_rate_by_user, 'user_id').join(purchase_rate_by_item, 'item_id')\n",
    "\n",
    "feats_list = [col for col in feats.columns if '_vector' in col] + [col for col in views_agg.columns if col != 'user_id'] + ['purchase_rate_by_user', 'purchase_rate_by_item']\n",
    "\n",
    "vecAssembler = VectorAssembler(inputCols = feats_list\n",
    "                               , outputCol = 'features' \n",
    "                               , handleInvalid = 'keep')\n",
    "feats = vecAssembler.transform(feats).cache()\n",
    "\n",
    "feats.show(1, vertical = True)"
   ]
  },
  {
   "cell_type": "code",
   "execution_count": 50,
   "metadata": {},
   "outputs": [],
   "source": [
    "train_feats = feats.sampleBy('purchase', fractions={0: 0.8, 1: 0.8}, seed=5757).coalesce(10).cache()\n",
    "valid_feats = feats.join(train_feats, on= ['user_id', 'item_id'] , how=\"leftanti\").coalesce(10).cache()"
   ]
  },
  {
   "cell_type": "markdown",
   "metadata": {},
   "source": [
    "## Обучение модели бустинга"
   ]
  },
  {
   "cell_type": "code",
   "execution_count": 51,
   "metadata": {},
   "outputs": [],
   "source": [
    "get_elem = F.udf(lambda x, i: float(x[i]), DoubleType())"
   ]
  },
  {
   "cell_type": "code",
   "execution_count": 52,
   "metadata": {},
   "outputs": [
    {
     "name": "stdout",
     "output_type": "stream",
     "text": [
      "520\n"
     ]
    }
   ],
   "source": [
    "feature_evaluator = BinaryClassificationEvaluator(rawPredictionCol = 'feat', labelCol = 'purchase', metricName = 'areaUnderROC')\n",
    "small_df = train_feats.select('features', 'purchase').sampleBy('purchase', {0: 0.01, 1: 1}).cache()\n",
    "n_feats = small_df.select('features').limit(1).collect()[0]['features'].size\n",
    "print(n_feats)"
   ]
  },
  {
   "cell_type": "code",
   "execution_count": 53,
   "metadata": {},
   "outputs": [],
   "source": [
    "# Снижение размерности\n",
    "gini_dict = {}\n",
    "# start_time = time.time()\n",
    "# for i in range(n_feats):\n",
    "# #     print(i)\n",
    "#     test_feature = small_df.withColumn('feat', get_elem('features', F.lit(i)))\n",
    "#     gini_dict[i] = np.abs(2 * feature_evaluator.evaluate(test_feature) - 1)\n",
    "# print(f'{(time.time() - start_time)/60} minutes')"
   ]
  },
  {
   "cell_type": "code",
   "execution_count": 54,
   "metadata": {},
   "outputs": [
    {
     "name": "stdout",
     "output_type": "stream",
     "text": [
      "Обучаем на 520 фичах\n"
     ]
    }
   ],
   "source": [
    "# best_indices = [item[0] for item in gini_dict.items() if (item[1] > 0.1) & (item[1] < 0.6)]\n",
    "best_indices = list(range(n_feats))\n",
    "vs = VectorSlicer(inputCol = 'features', outputCol = 'features_short', indices = best_indices)\n",
    "print(f'Обучаем на {len(best_indices)} фичах')"
   ]
  },
  {
   "cell_type": "code",
   "execution_count": 55,
   "metadata": {},
   "outputs": [],
   "source": [
    "train_feats_short = vs.transform(train_feats).select('features_short', 'purchase').cache()\n",
    "valid_feats_short = vs.transform(valid_feats).select('features_short', 'purchase').cache()"
   ]
  },
  {
   "cell_type": "code",
   "execution_count": 56,
   "metadata": {},
   "outputs": [
    {
     "data": {
      "text/plain": [
       "DataFrame[features_short: vector, purchase: int]"
      ]
     },
     "execution_count": 56,
     "metadata": {},
     "output_type": "execute_result"
    }
   ],
   "source": [
    "valid_feats_short"
   ]
  },
  {
   "cell_type": "code",
   "execution_count": null,
   "metadata": {},
   "outputs": [],
   "source": [
    "start_time = time.time()\n",
    "gbt = GBTClassifier(maxIter = 22, maxDepth = 5, featuresCol = 'features_short', labelCol = 'purchase', seed = 42)\n",
    "model = gbt.fit(train_feats_short)\n",
    "print(f'{(time.time() - start_time)/60} minutes')"
   ]
  },
  {
   "cell_type": "code",
   "execution_count": 58,
   "metadata": {},
   "outputs": [],
   "source": [
    "# train_predictions = model.transform(train_feats_short).cache()\n",
    "# valid_predictions = model.transform(valid_feats_short).cache()\n",
    "# train_predictions.count(), valid_predictions.count()"
   ]
  },
  {
   "cell_type": "code",
   "execution_count": 59,
   "metadata": {
    "scrolled": false
   },
   "outputs": [],
   "source": [
    "# Периодически падает evaluate\n",
    "# evaluator = BinaryClassificationEvaluator(rawPredictionCol = 'rawPrediction', labelCol = 'purchase', metricName = 'areaUnderROC')\n",
    "# evaluator.evaluate(train_predictions), evaluator.evaluate(valid_predictions)"
   ]
  },
  {
   "cell_type": "markdown",
   "metadata": {},
   "source": [
    "## Применение на тесте"
   ]
  },
  {
   "cell_type": "code",
   "execution_count": 60,
   "metadata": {},
   "outputs": [
    {
     "name": "stdout",
     "output_type": "stream",
     "text": [
      "-RECORD 0-------------------------------------------\n",
      " item_id                     | 8389                 \n",
      " user_id                     | 761341               \n",
      " purchase                    | null                 \n",
      " duration_total              | 112461               \n",
      " duration_live               | 21729                \n",
      " duration_pvr                | 90732                \n",
      " start_dt                    | 1489132663           \n",
      " end_dt                      | 1493808022           \n",
      " length_dt                   | 4675359              \n",
      " period_duration_vector      | (14,[0,1,2,3,4,6,... \n",
      " period_count_vector         | (14,[0,1,2,3,4,6,... \n",
      " channel_duration_vector     | (100,[0,2,5,8,13,... \n",
      " channel_count_vector        | (100,[0,2,5,8,13,... \n",
      " title_duration_vector       | (100,[3,7,8,11,18... \n",
      " title_count_vector          | (100,[3,7,8,11,18... \n",
      " datetime_availability_start | 1970-01-01           \n",
      " datetime_availability_stop  | 2099-12-31           \n",
      " title                       | пес в сапогах (су... \n",
      " year                        | 1981.0               \n",
      " genres_vector               | (84,[6,14,19,22],... \n",
      " purchase_rate_by_user       | 3.875968992248062E-4 \n",
      " items                       | 2580                 \n",
      " purchased                   | 1                    \n",
      " purchase_rate_by_item       | 0.005979073243647235 \n",
      " users                       | 1338                 \n",
      " purchased                   | 8                    \n",
      " features                    | (520,[0,1,2,3,4,6... \n",
      "only showing top 1 row\n",
      "\n"
     ]
    }
   ],
   "source": [
    "test_feats = test.join(views_agg, 'user_id', 'left').join(periods_agg, 'user_id', 'left')\\\n",
    ".join(channels_agg, 'user_id', 'left').join(titles_agg, 'user_id', 'left').join(items_paid, 'item_id', 'left')\\\n",
    ".join(purchase_rate_by_user, 'user_id').join(purchase_rate_by_item, 'item_id')\n",
    "\n",
    "feats_list = [col for col in feats.columns if '_vector' in col] + [col for col in views_agg.columns if col != 'user_id'] + ['purchase_rate_by_user', 'purchase_rate_by_item']\n",
    "\n",
    "vecAssembler = VectorAssembler(inputCols = feats_list\n",
    "                               , outputCol = 'features' \n",
    "                               , handleInvalid = 'keep')\n",
    "test_feats = vecAssembler.transform(test_feats).cache()\n",
    "\n",
    "test_feats.show(1, vertical = True)"
   ]
  },
  {
   "cell_type": "code",
   "execution_count": 61,
   "metadata": {},
   "outputs": [],
   "source": [
    "test_feats_short = vs.transform(test_feats).select('user_id','item_id','features_short', 'purchase').cache()"
   ]
  },
  {
   "cell_type": "code",
   "execution_count": null,
   "metadata": {},
   "outputs": [],
   "source": [
    "test_scored = model.transform(test_feats_short).cache()"
   ]
  },
  {
   "cell_type": "code",
   "execution_count": null,
   "metadata": {},
   "outputs": [],
   "source": [
    "submit_df = test_scored.select('user_id','item_id', get_elem('probability', F.lit(1)).alias('purchase'))\\\n",
    ".orderBy('user_id','item_id').toPandas()"
   ]
  },
  {
   "cell_type": "code",
   "execution_count": null,
   "metadata": {},
   "outputs": [],
   "source": [
    "submit_df['purchase'].mean()"
   ]
  },
  {
   "cell_type": "code",
   "execution_count": null,
   "metadata": {},
   "outputs": [],
   "source": [
    "submit_df[submit_df['purchase'] < 0.07]['purchase'].hist(bins = 100);"
   ]
  },
  {
   "cell_type": "code",
   "execution_count": null,
   "metadata": {},
   "outputs": [],
   "source": [
    "# ROC AUC: 0.834466169139 lab03_2022-10-23_141347.csv\n",
    "# ROC AUC: 0.887877182698 lab03_2022-10-24_215721.csv (10 trees)\n",
    "# ROC AUC: 0.89507118387  lab03_2022-10-24_234555.csv (15 trees) ?\n",
    "# ROC AUC: 0.89507118387  lab03_2022-10-24_230218.csv (17 trees)\n",
    "# ROC AUC: 0.893782545405 lab03_2022-10-24_002344.csv (20 trees)\n",
    "# ROC AUC: 0.889884455529 lab03_2022-10-24_104713.csv (30 trees)\n",
    "# ROC AUC: 0.885966223842 lab03_2022-10-24_104713.csv (40 trees)\n",
    "\n",
    "# ROC AUC: 0.887877182698 lab03_2022-10-26_002837.csv (13 trees, top 200)\n",
    "# ROC AUC: 0.89365166703  lab03_2022-10-26_114349.csv (18 trees, top 200)\n",
    "# ROC AUC: 0.899729103693 lab03_2022-10-26_012518.csv (20 trees, top 200)\n",
    "# ROC AUC: 0.902602105313 lab03_2022-10-26_162003.csv (22 trees, top 200)\n",
    "# ROC AUC: 0.893420645602 lab03_2022-10-26_154219.csv (25 trees, top 200)\n",
    "# ROC AUC: 0.893358129497 lab03_2022-10-26_092525.csv (30 trees, top 200)\n",
    "\n",
    "filename = f'lab03_{datetime.now().strftime(\"%Y-%m-%d_%H%M%S\")}.csv'\n",
    "print(filename)\n",
    "submit_df.to_csv(filename)"
   ]
  },
  {
   "cell_type": "code",
   "execution_count": 89,
   "metadata": {},
   "outputs": [],
   "source": [
    "! cp lab03_2022-10-26_162003.csv lab03.csv"
   ]
  },
  {
   "cell_type": "code",
   "execution_count": null,
   "metadata": {},
   "outputs": [],
   "source": []
  }
 ],
 "metadata": {
  "kernelspec": {
   "display_name": "Python 3",
   "language": "python",
   "name": "python3"
  },
  "language_info": {
   "codemirror_mode": {
    "name": "ipython",
    "version": 3
   },
   "file_extension": ".py",
   "mimetype": "text/x-python",
   "name": "python",
   "nbconvert_exporter": "python",
   "pygments_lexer": "ipython3",
   "version": "3.6.5"
  }
 },
 "nbformat": 4,
 "nbformat_minor": 2
}
