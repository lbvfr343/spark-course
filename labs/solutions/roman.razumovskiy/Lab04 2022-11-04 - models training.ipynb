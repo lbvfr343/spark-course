{
 "cells": [
  {
   "cell_type": "code",
   "execution_count": 2,
   "metadata": {},
   "outputs": [
    {
     "data": {
      "text/html": [
       "<style>.container { width:95% !important; }</style>"
      ],
      "text/plain": [
       "<IPython.core.display.HTML object>"
      ]
     },
     "metadata": {},
     "output_type": "display_data"
    }
   ],
   "source": [
    "from IPython.display import display, HTML\n",
    "display(HTML(\"<style>.container { width:95% !important; }</style>\"))\n",
    "import os\n",
    "import sys\n",
    "os.environ[\"PYSPARK_PYTHON\"]='/opt/anaconda/envs/bd9/bin/python'\n",
    "os.environ[\"SPARK_HOME\"]='/usr/hdp/current/spark2-client'\n",
    "os.environ[\"PYSPARK_SUBMIT_ARGS\"]='--num-executors 10 --executor-memory 5g --executor-cores 8 --driver-memory 8g pyspark-shell'\n",
    "\n",
    "spark_home = os.environ.get('SPARK_HOME', None)\n",
    "\n",
    "sys.path.insert(0, os.path.join(spark_home, 'python'))\n",
    "sys.path.insert(0, os.path.join(spark_home, 'python/lib/py4j-0.10.7-src.zip'))"
   ]
  },
  {
   "cell_type": "code",
   "execution_count": 3,
   "metadata": {},
   "outputs": [
    {
     "data": {
      "text/html": [
       "\n",
       "            <div>\n",
       "                <p><b>SparkSession - in-memory</b></p>\n",
       "                \n",
       "        <div>\n",
       "            <p><b>SparkContext</b></p>\n",
       "\n",
       "            <p><a href=\"http://spark-master-5.newprolab.com:4052\">Spark UI</a></p>\n",
       "\n",
       "            <dl>\n",
       "              <dt>Version</dt>\n",
       "                <dd><code>v2.4.7</code></dd>\n",
       "              <dt>Master</dt>\n",
       "                <dd><code>yarn</code></dd>\n",
       "              <dt>AppName</dt>\n",
       "                <dd><code>spark-course</code></dd>\n",
       "            </dl>\n",
       "        </div>\n",
       "        \n",
       "            </div>\n",
       "        "
      ],
      "text/plain": [
       "<pyspark.sql.session.SparkSession at 0x7fbb5cf71470>"
      ]
     },
     "execution_count": 3,
     "metadata": {},
     "output_type": "execute_result"
    }
   ],
   "source": [
    "from pyspark import SparkConf\n",
    "from pyspark.sql import SparkSession\n",
    "from pyspark.sql import functions as F\n",
    "from pyspark.sql.types import *\n",
    "from pyspark import Row\n",
    "from pyspark.ml import Pipeline\n",
    "from pyspark.ml.linalg import Vectors, SparseVector, VectorUDT\n",
    "from pyspark.ml.feature import *\n",
    "from pyspark.sql.window import Window\n",
    "from pyspark.ml.classification import GBTClassifier, LogisticRegression\n",
    "from pyspark.ml.evaluation import BinaryClassificationEvaluator, MulticlassClassificationEvaluator\n",
    "from pyspark.ml.stat import Correlation\n",
    "from pyspark.ml.recommendation import ALS\n",
    "import json\n",
    "import matplotlib.pyplot as plt\n",
    "from tqdm import tqdm\n",
    "import numpy as np\n",
    "import time\n",
    "import pandas as pd\n",
    "from datetime import datetime\n",
    "\n",
    "spark = SparkSession.builder \\\n",
    "                    .appName(\"spark-course\") \\\n",
    "                    .config(\"spark.jars.packages\", \"org.apache.spark:spark-sql-kafka-0-10_2.11:2.4.5\") \\\n",
    "                    .getOrCreate()\n",
    "\n",
    "spark"
   ]
  },
  {
   "cell_type": "markdown",
   "metadata": {},
   "source": [
    "# Data transformation"
   ]
  },
  {
   "cell_type": "code",
   "execution_count": 6,
   "metadata": {},
   "outputs": [
    {
     "name": "stdout",
     "output_type": "stream",
     "text": [
      "gender\tage\tuid\tuser_json\r\n",
      "F\t18-24\td50192e5-c44e-4ae8-ae7a-7cfe67c8b777\t{\"visits\": [{\"url\": \"http://zebra-zoya.ru/200028-chehol-organayzer-dlja-macbook-11-grid-it.html?utm_campaign=397720794&utm_content=397729344&utm_medium=cpc&utm_source=begun\", \"timestamp\": 1419688144068}, {\"url\": \"http://news.yandex.ru/yandsearch?cl4url=chezasite.com/htc/htc-one-m9-delay-86327.html&lr=213&rpt=story\", \"timestamp\": 1426666298001}, {\"url\": \"http://www.sotovik.ru/news/240283-htc-one-m9-zaderzhivaetsja.html\", \"timestamp\": 1426666298000}, {\"url\": \"http://news.yandex.ru/yandsearch?cl4url=chezasite.com/htc/htc-one-m9-delay-86327.html&lr=213&rpt=story\", \"timestamp\": 1426661722001}, {\"url\": \"http://www.sotovik.ru/news/240283-htc-one-m9-zaderzhivaetsja.html\", \"timestamp\": 1426661722000}]}\r\n",
      "cat: Unable to write to output stream.\r\n"
     ]
    }
   ],
   "source": [
    "! hdfs dfs -cat /labs/slaba04/gender_age_dataset.txt | head -2"
   ]
  },
  {
   "cell_type": "code",
   "execution_count": 7,
   "metadata": {},
   "outputs": [
    {
     "name": "stdout",
     "output_type": "stream",
     "text": [
      "Found 10 items\r\n",
      "drwxr-xr-x   - roman.razumovskiy roman.razumovskiy          0 2022-11-04 22:18 /user/roman.razumovskiy/.sparkStaging\r\n",
      "drwxr-xr-x   - roman.razumovskiy roman.razumovskiy          0 2022-11-03 01:49 /user/roman.razumovskiy/age_model\r\n",
      "drwxr-xr-x   - roman.razumovskiy roman.razumovskiy          0 2022-11-04 18:36 /user/roman.razumovskiy/cp_s_example.parquet\r\n",
      "drwxr-xr-x   - roman.razumovskiy roman.razumovskiy          0 2022-10-24 06:46 /user/roman.razumovskiy/gbt_40\r\n",
      "drwxr-xr-x   - roman.razumovskiy roman.razumovskiy          0 2022-11-03 01:48 /user/roman.razumovskiy/gender_model\r\n",
      "drwxr-xr-x   - roman.razumovskiy roman.razumovskiy          0 2022-11-03 17:54 /user/roman.razumovskiy/kafka_df\r\n",
      "drwxr-xr-x   - roman.razumovskiy roman.razumovskiy          0 2022-11-03 17:54 /user/roman.razumovskiy/kafka_df_cp\r\n",
      "drwxr-xr-x   - roman.razumovskiy roman.razumovskiy          0 2022-11-03 22:47 /user/roman.razumovskiy/lab05.csv\r\n",
      "drwxr-xr-x   - roman.razumovskiy roman.razumovskiy          0 2022-11-04 18:39 /user/roman.razumovskiy/s_example.parquet\r\n",
      "drwxr-xr-x   - roman.razumovskiy roman.razumovskiy          0 2022-11-04 00:11 /user/roman.razumovskiy/top_domains\r\n"
     ]
    }
   ],
   "source": [
    "! hdfs dfs -ls /user/roman.razumovskiy"
   ]
  },
  {
   "cell_type": "code",
   "execution_count": 8,
   "metadata": {},
   "outputs": [],
   "source": [
    "gender_age_dataset = spark.read.csv('/labs/slaba04/gender_age_dataset.txt', sep = '\\t', header = True)\\\n",
    ".filter(F.col('gender').isin('F','M'))"
   ]
  },
  {
   "cell_type": "code",
   "execution_count": 10,
   "metadata": {},
   "outputs": [],
   "source": [
    "def get_domain(s):\n",
    "    try:\n",
    "        domain = s.split('/')[2]\n",
    "        if domain in ['http:','https:']:\n",
    "            domain = s.split('/')[4]\n",
    "        return domain\n",
    "    except:\n",
    "        return ''\n",
    "\n",
    "get_domain_udf = F.udf(get_domain, StringType())"
   ]
  },
  {
   "cell_type": "code",
   "execution_count": 11,
   "metadata": {},
   "outputs": [
    {
     "name": "stdout",
     "output_type": "stream",
     "text": [
      "root\n",
      " |-- gender: string (nullable = true)\n",
      " |-- age: string (nullable = true)\n",
      " |-- uid: string (nullable = true)\n",
      " |-- url: string (nullable = true)\n",
      " |-- timestamp: double (nullable = true)\n",
      "\n",
      "Row(gender='F', age='18-24', uid='d50192e5-c44e-4ae8-ae7a-7cfe67c8b777', url='zebra-zoya.ru', timestamp=1419688144068.0)\n",
      "Row(gender='F', age='18-24', uid='d50192e5-c44e-4ae8-ae7a-7cfe67c8b777', url='news.yandex.ru', timestamp=1426666298001.0)\n",
      "Row(gender='F', age='18-24', uid='d50192e5-c44e-4ae8-ae7a-7cfe67c8b777', url='www.sotovik.ru', timestamp=1426666298000.0)\n",
      "Row(gender='F', age='18-24', uid='d50192e5-c44e-4ae8-ae7a-7cfe67c8b777', url='news.yandex.ru', timestamp=1426661722001.0)\n",
      "Row(gender='F', age='18-24', uid='d50192e5-c44e-4ae8-ae7a-7cfe67c8b777', url='www.sotovik.ru', timestamp=1426661722000.0)\n"
     ]
    }
   ],
   "source": [
    "json_type_1 = MapType(StringType(), ArrayType(StringType()))\n",
    "json_type_2 = MapType(StringType(), StringType())\n",
    "clickstream = gender_age_dataset\\\n",
    ".select('gender', 'age', 'uid', F.explode(F.from_json('user_json', json_type_1)['visits']).alias('visit'))\\\n",
    ".withColumn('url', F.from_json('visit', json_type_2)['url'])\\\n",
    ".withColumn('timestamp', F.from_json('visit', json_type_2)['timestamp'].cast('double'))\\\n",
    ".withColumn('url', get_domain_udf('url'))\\\n",
    ".drop('visit').cache()\n",
    "\n",
    "clickstream.printSchema()\n",
    "for row in clickstream.limit(5).collect():\n",
    "    print(row)"
   ]
  },
  {
   "cell_type": "code",
   "execution_count": 54,
   "metadata": {},
   "outputs": [
    {
     "name": "stdout",
     "output_type": "stream",
     "text": [
      "+------+-----+--------------------+--------------------+-------------+----------+\n",
      "|gender|  age|                 uid|            features|gender_target|age_target|\n",
      "+------+-----+--------------------+--------------------+-------------+----------+\n",
      "|     F|18-24|09b1ecd3-b2d2-4c1...|  (1000,[509],[3.0])|          0.0|       0.0|\n",
      "|     F|18-24|15faf063-5e44-4b6...|(1000,[43,268,293...|          0.0|       0.0|\n",
      "|     F|18-24|560142d9-6c9c-439...|(1000,[63,200,218...|          0.0|       0.0|\n",
      "|     F|18-24|6709f443-7ddd-423...|  (1000,[696],[5.0])|          0.0|       0.0|\n",
      "|     F|18-24|67e9bd68-ef03-49c...|(1000,[402,706,77...|          0.0|       0.0|\n",
      "+------+-----+--------------------+--------------------+-------------+----------+\n",
      "only showing top 5 rows\n",
      "\n",
      "+------+-------------+-----+\n",
      "|gender|gender_target|count|\n",
      "+------+-------------+-----+\n",
      "|     F|          0.0|17440|\n",
      "|     M|          1.0|18698|\n",
      "+------+-------------+-----+\n",
      "\n",
      "+-----+----------+-----+\n",
      "|  age|age_target|count|\n",
      "+-----+----------+-----+\n",
      "|18-24|       0.0| 4898|\n",
      "|25-34|       1.0|15457|\n",
      "|35-44|       2.0| 9360|\n",
      "|45-54|       3.0| 4744|\n",
      "| >=55|       4.0| 1679|\n",
      "+-----+----------+-----+\n",
      "\n"
     ]
    }
   ],
   "source": [
    "htf = HashingTF(numFeatures = 1000, inputCol = 'url_list', outputCol = 'features')\n",
    "gender_indexer = StringIndexer(inputCol = 'gender', outputCol = 'gender_target', stringOrderType = 'alphabetAsc')\n",
    "age_indexer = StringIndexer(inputCol = 'age', outputCol = 'age_target', stringOrderType = 'alphabetAsc')\n",
    "\n",
    "features_df = clickstream.groupBy('gender','age','uid')\\\n",
    ".agg(F.collect_list('url').alias('url_list'))\n",
    "\n",
    "pipeline = Pipeline(stages=[htf, gender_indexer, age_indexer])\n",
    "\n",
    "model = pipeline.fit(features_df)\n",
    "features_df = model.transform(features_df).drop('url_list').cache()\n",
    "\n",
    "features_df.show(5)\n",
    "\n",
    "features_df.groupBy('gender','gender_target').count().orderBy('gender_target').show(10)\n",
    "features_df.groupBy('age','age_target').count().orderBy('age_target').show(10)"
   ]
  },
  {
   "cell_type": "markdown",
   "metadata": {},
   "source": [
    "# Gender model"
   ]
  },
  {
   "cell_type": "code",
   "execution_count": 55,
   "metadata": {},
   "outputs": [],
   "source": [
    "gender_fractions_dict = {int(i):0.8 for i in range(2)}"
   ]
  },
  {
   "cell_type": "code",
   "execution_count": 56,
   "metadata": {},
   "outputs": [],
   "source": [
    "gender_train_df = features_df.sampleBy('gender_target', fractions = gender_fractions_dict, seed=5757).coalesce(10).cache()\n",
    "gender_valid_df = features_df.join(gender_train_df, on= ['uid'] , how='leftanti').coalesce(10).cache()"
   ]
  },
  {
   "cell_type": "code",
   "execution_count": 57,
   "metadata": {},
   "outputs": [
    {
     "name": "stdout",
     "output_type": "stream",
     "text": [
      "0.8884486198425293 minutes\n"
     ]
    }
   ],
   "source": [
    "start_time = time.time()\n",
    "gbt = GBTClassifier(maxIter = 40, maxDepth = 5, featuresCol = 'features', labelCol = 'gender_target', seed = 42)\n",
    "gender_model = gbt.fit(gender_train_df)\n",
    "print(f'{(time.time() - start_time)/60} minutes')"
   ]
  },
  {
   "cell_type": "code",
   "execution_count": 58,
   "metadata": {},
   "outputs": [
    {
     "data": {
      "text/plain": [
       "(0.6568854213415266, 0.6121879793613164)"
      ]
     },
     "execution_count": 58,
     "metadata": {},
     "output_type": "execute_result"
    }
   ],
   "source": [
    "evaluator = MulticlassClassificationEvaluator(predictionCol = 'prediction', labelCol = 'gender_target', metricName = 'accuracy')\n",
    "train_predictions = gender_model.transform(gender_train_df)\n",
    "valid_predictions = gender_model.transform(gender_valid_df)\n",
    "evaluator.evaluate(train_predictions), evaluator.evaluate(valid_predictions)"
   ]
  },
  {
   "cell_type": "code",
   "execution_count": 59,
   "metadata": {},
   "outputs": [],
   "source": [
    "gender_model.write().overwrite().save('gender_model')"
   ]
  },
  {
   "cell_type": "markdown",
   "metadata": {},
   "source": [
    "# Age model"
   ]
  },
  {
   "cell_type": "code",
   "execution_count": 60,
   "metadata": {},
   "outputs": [],
   "source": [
    "age_fractions_dict = {int(i):0.8 for i in range(5)}"
   ]
  },
  {
   "cell_type": "code",
   "execution_count": 61,
   "metadata": {},
   "outputs": [],
   "source": [
    "age_train_df = features_df.sampleBy('age_target', fractions = age_fractions_dict, seed=5757).coalesce(10).cache()\n",
    "age_valid_df = features_df.join(age_train_df, on= ['uid'] , how = 'leftanti').coalesce(10).cache()"
   ]
  },
  {
   "cell_type": "code",
   "execution_count": 62,
   "metadata": {},
   "outputs": [
    {
     "name": "stdout",
     "output_type": "stream",
     "text": [
      "0.0368956446647644 minutes\n"
     ]
    }
   ],
   "source": [
    "start_time = time.time()\n",
    "lr = LogisticRegression(maxIter=50, regParam=0.1, elasticNetParam=0, featuresCol = 'features', labelCol = 'age_target')\n",
    "age_model = lr.fit(age_train_df)\n",
    "print(f'{(time.time() - start_time)/60} minutes')"
   ]
  },
  {
   "cell_type": "code",
   "execution_count": 63,
   "metadata": {},
   "outputs": [
    {
     "data": {
      "text/plain": [
       "(0.4604895225601547, 0.42560312369265096)"
      ]
     },
     "execution_count": 63,
     "metadata": {},
     "output_type": "execute_result"
    }
   ],
   "source": [
    "evaluator = MulticlassClassificationEvaluator(predictionCol = 'prediction', labelCol = 'age_target', metricName = 'accuracy')\n",
    "train_predictions = age_model.transform(age_train_df)\n",
    "valid_predictions = age_model.transform(age_valid_df)\n",
    "evaluator.evaluate(train_predictions), evaluator.evaluate(valid_predictions)"
   ]
  },
  {
   "cell_type": "code",
   "execution_count": 64,
   "metadata": {},
   "outputs": [],
   "source": [
    "age_model.write().overwrite().save('age_model')"
   ]
  },
  {
   "cell_type": "code",
   "execution_count": null,
   "metadata": {},
   "outputs": [],
   "source": []
  }
 ],
 "metadata": {
  "kernelspec": {
   "display_name": "Python 3",
   "language": "python",
   "name": "python3"
  },
  "language_info": {
   "codemirror_mode": {
    "name": "ipython",
    "version": 3
   },
   "file_extension": ".py",
   "mimetype": "text/x-python",
   "name": "python",
   "nbconvert_exporter": "python",
   "pygments_lexer": "ipython3",
   "version": "3.6.5"
  }
 },
 "nbformat": 4,
 "nbformat_minor": 2
}
