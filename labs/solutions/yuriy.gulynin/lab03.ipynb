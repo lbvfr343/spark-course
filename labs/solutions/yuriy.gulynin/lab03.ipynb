{
 "cells": [
  {
   "cell_type": "code",
   "execution_count": 1,
   "metadata": {},
   "outputs": [
    {
     "name": "stdout",
     "output_type": "stream",
     "text": [
      "Welcome to\n",
      "      ____              __\n",
      "     / __/__  ___ _____/ /__\n",
      "    _\\ \\/ _ \\/ _ `/ __/  '_/\n",
      "   /__ / .__/\\_,_/_/ /_/\\_\\   version 2.4.7\n",
      "      /_/\n",
      "\n",
      "Using Python version 3.6.5 (default, Apr 29 2018 16:14:56)\n",
      "SparkSession available as 'spark'.\n"
     ]
    }
   ],
   "source": [
    "import os\n",
    "import sys\n",
    "os.environ[\"PYSPARK_PYTHON\"]='/opt/anaconda/envs/bd9/bin/python'\n",
    "os.environ[\"SPARK_HOME\"]='/usr/hdp/current/spark2-client'\n",
    "os.environ[\"PYSPARK_SUBMIT_ARGS\"]='--num-executors 5 --executor-memory 5g --executor-cores 3 --driver-memory 5g pyspark-shell'\n",
    "\n",
    "spark_home = os.environ.get('SPARK_HOME', None)\n",
    "\n",
    "sys.path.insert(0, os.path.join(spark_home, 'python'))\n",
    "sys.path.insert(0, os.path.join(spark_home, 'python/lib/py4j-0.10.7-src.zip'))\n",
    "from pyspark import SparkConf\n",
    "from pyspark.sql import SparkSession\n",
    "from pyspark.sql.types import DoubleType, StructType, StructField, IntegerType, StringType\n",
    "\n",
    "if not spark_home:\n",
    "    raise ValueError('SPARK_HOME environment variable is not set')\n",
    "\n",
    "exec(open(os.path.join(spark_home, 'python/pyspark/shell.py')).read())\n",
    "\n",
    "\n",
    "import pyspark.sql.functions as f"
   ]
  },
  {
   "cell_type": "code",
   "execution_count": 2,
   "metadata": {},
   "outputs": [],
   "source": [
    "from pyspark.ml.classification import GBTClassifier, RandomForestClassifier\n",
    "from pyspark.sql.functions import col, desc, pandas_udf, PandasUDFType, udf, regexp_replace, when, asc, lit, broadcast\n",
    "from pyspark.sql.types import StructType, IntegerType, StructField, DateType, StringType, TimestampType, FloatType, ArrayType\n",
    "from pyspark.ml.evaluation import BinaryClassificationEvaluator\n",
    "from pyspark.ml.feature import VectorAssembler, StringIndexer, OneHotEncoder"
   ]
  },
  {
   "cell_type": "code",
   "execution_count": 3,
   "metadata": {},
   "outputs": [],
   "source": [
    "#! hdfs dfs -head /labs/slaba03/laba03_train.csv"
   ]
  },
  {
   "cell_type": "code",
   "execution_count": 4,
   "metadata": {},
   "outputs": [],
   "source": [
    "from pyspark.sql.types import  StructType, StructField, IntegerType, DateType, StringType, TimestampType, FloatType, ArrayType"
   ]
  },
  {
   "cell_type": "code",
   "execution_count": 5,
   "metadata": {},
   "outputs": [],
   "source": [
    "schema = StructType([\n",
    "    StructField(\"user_id\", IntegerType()),\n",
    "    StructField(\"item_id\", IntegerType()),\n",
    "    StructField(\"purchase\", IntegerType())\n",
    "])"
   ]
  },
  {
   "cell_type": "code",
   "execution_count": 6,
   "metadata": {},
   "outputs": [],
   "source": [
    "dataset_train = spark.read.csv(\"/labs/slaba03/laba03_train.csv\", schema=schema, header=True)"
   ]
  },
  {
   "cell_type": "code",
   "execution_count": 7,
   "metadata": {},
   "outputs": [
    {
     "name": "stdout",
     "output_type": "stream",
     "text": [
      "+-------+-------+--------+\n",
      "|user_id|item_id|purchase|\n",
      "+-------+-------+--------+\n",
      "|   1654|   9897|       1|\n",
      "|   1654|   7394|       1|\n",
      "+-------+-------+--------+\n",
      "only showing top 2 rows\n",
      "\n"
     ]
    }
   ],
   "source": [
    "dataset_train.where(\"purchase=1\").show(2)"
   ]
  },
  {
   "cell_type": "code",
   "execution_count": 8,
   "metadata": {},
   "outputs": [],
   "source": [
    "test_schema = StructType(fields = [\n",
    "    StructField('user_id', IntegerType()),\n",
    "    StructField('item_id', IntegerType()),\n",
    "])"
   ]
  },
  {
   "cell_type": "code",
   "execution_count": 9,
   "metadata": {},
   "outputs": [],
   "source": [
    "dataset_test = spark.read.option(\"header\",\"true\") \\\n",
    "                        .schema(test_schema) \\\n",
    "                        .csv('/labs/slaba03/laba03_test.csv')"
   ]
  },
  {
   "cell_type": "code",
   "execution_count": 10,
   "metadata": {},
   "outputs": [
    {
     "name": "stdout",
     "output_type": "stream",
     "text": [
      "+-------+-------+\n",
      "|user_id|item_id|\n",
      "+-------+-------+\n",
      "|   1654|  94814|\n",
      "|   1654|  93629|\n",
      "+-------+-------+\n",
      "only showing top 2 rows\n",
      "\n"
     ]
    }
   ],
   "source": [
    "dataset_test = dataset_test.na.fill(0)\n",
    "dataset_test.where(\"user_id=1654\").show(2)"
   ]
  },
  {
   "cell_type": "code",
   "execution_count": 11,
   "metadata": {},
   "outputs": [],
   "source": [
    "#! hdfs dfs -head /labs/slaba03/laba03_items.csv"
   ]
  },
  {
   "cell_type": "code",
   "execution_count": 12,
   "metadata": {},
   "outputs": [],
   "source": [
    "items_schema = StructType(fields = [\n",
    "    StructField('item_id', IntegerType()),\n",
    "    StructField('channel_id', IntegerType()),\n",
    "    StructField('datetime_availability_start', StringType()),\n",
    "    StructField('datetime_availability_stop', StringType()),\n",
    "    StructField('datetime_show_start', StringType()),\n",
    "    StructField('datetime_show_stop', StringType()),\n",
    "    StructField('content_type', IntegerType()),\n",
    "    StructField('title', StringType()),\n",
    "    StructField('year', FloatType()),\n",
    "    StructField('genres', StringType()),\n",
    "    StructField('region_id', IntegerType()),\n",
    "])"
   ]
  },
  {
   "cell_type": "code",
   "execution_count": 13,
   "metadata": {},
   "outputs": [],
   "source": [
    "dataset_items = spark.read.option(\"header\",\"true\") \\\n",
    "                        .option(\"sep\", \"\\t\") \\\n",
    "                        .schema(items_schema) \\\n",
    "                        .csv('/labs/slaba03/laba03_items.csv')"
   ]
  },
  {
   "cell_type": "code",
   "execution_count": 14,
   "metadata": {},
   "outputs": [
    {
     "name": "stdout",
     "output_type": "stream",
     "text": [
      "+-------+-------+\n",
      "|item_id| genres|\n",
      "+-------+-------+\n",
      "|  65667|Эротика|\n",
      "|  65669|Эротика|\n",
      "+-------+-------+\n",
      "only showing top 2 rows\n",
      "\n"
     ]
    }
   ],
   "source": [
    "dataset_items = dataset_items.na.fill(0)\n",
    "dataset_items_i=dataset_items.select(\"item_id\",\"genres\").where(\"content_type=1\")\n",
    "dataset_items_i.show(2)"
   ]
  },
  {
   "cell_type": "code",
   "execution_count": null,
   "metadata": {},
   "outputs": [],
   "source": [
    "dataset_items_i.select(\"genres\").distinct().count()"
   ]
  },
  {
   "cell_type": "code",
   "execution_count": null,
   "metadata": {},
   "outputs": [],
   "source": [
    "dataset_items_c=dataset_items_i.select(\"genres\").groupby(\"genres\").count()\n"
   ]
  },
  {
   "cell_type": "code",
   "execution_count": null,
   "metadata": {},
   "outputs": [],
   "source": [
    "dataset_items_c.show(2)"
   ]
  },
  {
   "cell_type": "code",
   "execution_count": null,
   "metadata": {},
   "outputs": [],
   "source": [
    "genres = dataset_items_i.select('genres').rdd.flatMap(lambda x: x).collect()\n",
    "genres"
   ]
  },
  {
   "cell_type": "code",
   "execution_count": null,
   "metadata": {},
   "outputs": [],
   "source": [
    "genres = list(set(genres))\n",
    "\n",
    "\n",
    "genres"
   ]
  },
  {
   "cell_type": "code",
   "execution_count": null,
   "metadata": {},
   "outputs": [],
   "source": [
    "genr = set()\n",
    "for i in genres:\n",
    "    for j in i.split(','):\n",
    "        genr.add(j)"
   ]
  },
  {
   "cell_type": "code",
   "execution_count": null,
   "metadata": {},
   "outputs": [],
   "source": [
    "genr"
   ]
  },
  {
   "cell_type": "code",
   "execution_count": 15,
   "metadata": {},
   "outputs": [],
   "source": [
    "dataset_items_i = dataset_items_i.select('*', when(col('genres').contains(\"казк\"), 1).otherwise(0).alias('fairy_tale'))\n",
    "dataset_items_i = dataset_items_i.select('*', when(col('genres').contains(\"Анимация\"), 1).otherwise(0).alias('animation'))\n",
    "dataset_items_i = dataset_items_i.select('*', when(col('genres').contains(\"Арт\"), 1).otherwise(0).alias('art_house'))\n",
    "dataset_items_i = dataset_items_i.select('*', when(col('genres').contains(\"Аниме\"), 1).otherwise(0).alias('anime'))\n",
    "dataset_items_i = dataset_items_i.select('*', when(col('genres').contains(\"Биография\"), 1).otherwise(0).alias('biography'))\n",
    "dataset_items_i = dataset_items_i.select('*', when(col('genres').contains(\"Боевик\"), 1).otherwise(0).alias('action_movie'))\n",
    "dataset_items_i = dataset_items_i.select('*', when(col('genres').contains(\"Вестерн\"), 1).otherwise(0).alias('western'))\n",
    "dataset_items_i = dataset_items_i.select('*', when(col('genres').contains(\"Видеоигры\"), 1).otherwise(0).alias('video_game'))\n",
    "dataset_items_i = dataset_items_i.select('*', when(col('genres').contains(\"Игры\"), 1).otherwise(0).alias('games'))\n",
    "dataset_items_i = dataset_items_i.select('*', when(col('genres').contains(\"Военны\"), 1).otherwise(0).alias('military'))\n",
    "dataset_items_i = dataset_items_i.select('*', when(col('genres').contains(\"Детективы\"), 1).otherwise(0).alias('detective'))\n",
    "dataset_items_i = dataset_items_i.select('*', when((col('genres').contains(\"Семейны\")) | (col('genres').contains(\"Для всей семьи\")), 1).otherwise(0).alias('family'))\n",
    "dataset_items_i = dataset_items_i.select('*', when(col('genres').contains(\"Для взрослых\"), 1).otherwise(0).alias('adults'))\n",
    "dataset_items_i = dataset_items_i.select('*', when(col('genres').contains(\"Эротика\"), 1).otherwise(0).alias('erotica'))\n",
    "dataset_items_i = dataset_items_i.select('*', when(col('genres').contains(\"Развлекательные\"), 1).otherwise(0).alias('entertainment'))\n",
    "dataset_items_i = dataset_items_i.select('*', when((col('genres').contains(\"Наши\")) | (col('genres').contains(\"Русские\")), 1).otherwise(0).alias('our'))\n",
    "dataset_items_i = dataset_items_i.select('*', when(col('genres').contains(\"Зарубежные\"), 1).otherwise(0).alias('foreign'))\n",
    "dataset_items_i = dataset_items_i.select('*', when(col('genres').contains(\"Криминал\"), 1).otherwise(0).alias('crime'))\n",
    "dataset_items_i = dataset_items_i.select('*', when(col('genres').contains(\"Комеди\"), 1).otherwise(0).alias('comedy'))\n",
    "dataset_items_i = dataset_items_i.select('*', when(col('genres').contains(\"Драм\"), 1).otherwise(0).alias('drama'))\n",
    "dataset_items_i = dataset_items_i.select('*', when(col('genres').contains(\"Мультфильм\"), 1).otherwise(0).alias('cartoon'))\n",
    "dataset_items_i = dataset_items_i.select('*', when(col('genres').contains(\"Приключени\"), 1).otherwise(0).alias('adventure'))\n",
    "dataset_items_i = dataset_items_i.select('*', when(col('genres').contains(\"General\"), 1).otherwise(0).alias('general'))\n",
    "dataset_items_i = dataset_items_i.select('*', when(col('genres').contains(\"Исторически\"), 1).otherwise(0).alias('history'))\n",
    "dataset_items_i = dataset_items_i.select('*', when(col('genres').contains(\"Советские\"), 1).otherwise(0).alias('ussr'))\n",
    "dataset_items_i = dataset_items_i.select('*', when(col('genres').contains(\"Триллер\"), 1).otherwise(0).alias('thriller'))\n",
    "dataset_items_i = dataset_items_i.select('*', when(col('genres').contains(\"Ужасы\"), 1).otherwise(0).alias('horror'))\n",
    "dataset_items_i = dataset_items_i.select('*', when((col('genres').contains(\"Мистические\")), 1).otherwise(0).alias('mystical'))\n",
    "dataset_items_i = dataset_items_i.select('*', when(col('genres').contains(\"Фантасти\"), 1).otherwise(0).alias('fantastic'))\n",
    "dataset_items_i = dataset_items_i.select('*', when(col('genres').contains(\"Короткометр\"), 1).otherwise(0).alias('short_film'))\n",
    "dataset_items_i = dataset_items_i.select('*', when(col('genres').contains(\"Полнометражные\"), 1).otherwise(0).alias('full_length'))\n",
    "dataset_items_i = dataset_items_i.select('*', when(col('genres').contains(\"Музыкальн\"), 1).otherwise(0).alias('music'))\n",
    "dataset_items_i = dataset_items_i.select('*', when(col('genres').contains(\"Спорт\"), 1).otherwise(0).alias('sports'))\n",
    "dataset_items_i = dataset_items_i.select('*', when(col('genres').contains(\"Мелодрам\"), 1).otherwise(0).alias('melodrama'))\n",
    "dataset_items_i = dataset_items_i.select('*', when(col('genres').contains(\"Сериалы\"), 1).otherwise(0).alias('serials'))\n",
    "dataset_items_i = dataset_items_i.select('*', when(col('genres').contains(\"Экранизации\"), 1).otherwise(0).alias('film_adaptations'))\n",
    "dataset_items_i = dataset_items_i.select('*', when(col('genres').contains(\"Романтические\"), 1).otherwise(0).alias('romantic'))\n",
    "dataset_items_i = dataset_items_i.select('*', when(col('genres').contains(\"Развивающие\"), 1).otherwise(0).alias('developing'))\n",
    "dataset_items_i = dataset_items_i.select('*', when(col('genres').contains(\"Хочу всё знать\"), 1).otherwise(0).alias('want_know'))\n",
    "dataset_items_i = dataset_items_i.select('*', when(col('genres').contains(\"Познавательные\"), 1).otherwise(0).alias('educational'))\n",
    "dataset_items_i = dataset_items_i.select('*', when(col('genres').contains(\"Советское кино\"), 1).otherwise(0).alias('ussr_movie'))\n",
    "dataset_items_i = dataset_items_i.select('*', when(col('genres').contains(\"Документальны\"), 1).otherwise(0).alias('documentary'))\n",
    "dataset_items_i = dataset_items_i.select('*', when(col('genres').contains(\"Кулинария\"), 1).otherwise(0).alias('cooking'))\n",
    "dataset_items_i = dataset_items_i.select('*', when(col('genres').contains(\"О здоровье\"), 1).otherwise(0).alias('health'))\n",
    "dataset_items_i = dataset_items_i.select('*', when(col('genres').contains(\"Прочие\"), 1).otherwise(0).alias('other'))\n",
    "dataset_items_i = dataset_items_i.select('*', when(col('genres').contains(\"Про животных\"), 1).otherwise(0).alias('animal'))\n",
    "dataset_items_i = dataset_items_i.select('*', when(col('genres').contains(\"Мюзиклы\"), 1).otherwise(0).alias('musical'))\n",
    "dataset_items_i = dataset_items_i.select('*', when(col('genres').contains(\"Охота и рыбалка\"), 1).otherwise(0).alias('hunting'))\n",
    "dataset_items_i = dataset_items_i.select('*', when(col('genres').contains(\"Передачи\"), 1).otherwise(0).alias('broadcast'))\n",
    "dataset_items_i = dataset_items_i.select('*', when(col('genres').contains(\"Научная фантастика\"), 1).otherwise(0).alias('nauchpop'))\n",
    "dataset_items_i = dataset_items_i.select('*', when(col('genres').contains(\"Юмористические\"), 1).otherwise(0).alias('humorous'))\n",
    "dataset_items_i = dataset_items_i.select('*', when(col('genres').contains(\"Реалити-шоу\"), 1).otherwise(0).alias('reality_show'))\n",
    "dataset_items_i = dataset_items_i.select('*', when(col('genres').contains(\"Западные мультфильмы\"), 1).otherwise(0).alias('western cartoons'))\n",
    "dataset_items_i = dataset_items_i.select('*', when(col('genres').contains(\"Союзмультфильм\"), 1).otherwise(0).alias('union cartoons'))\n",
    "dataset_items_i = dataset_items_i.select('*', when(col('genres').contains(\"Мультсериалы\"), 1).otherwise(0).alias('animated_series'))\n",
    "dataset_items_i = dataset_items_i.select('*', when(col('genres').contains(\"Фэнтези\"), 1).otherwise(0).alias('fantasy'))\n",
    "dataset_items_i = dataset_items_i.select('*', when(col('genres').contains(\"Для самых маленьких\"), 1).otherwise(0).alias('small'))\n",
    "dataset_items_i = dataset_items_i.select('*', when(col('genres').contains(\"Фильмы\"), 1).otherwise(0).alias('movie'))\n",
    "dataset_items_i = dataset_items_i.select('*', when(col('genres').contains(\"Русские мультфильмы\"), 1).otherwise(0).alias('russian_cartoon'))\n",
    "dataset_items_i = dataset_items_i.select('*', when(col('genres').contains(\"Фильмы-спектакли\"), 1).otherwise(0).alias('films_performances'))\n",
    "dataset_items_i = dataset_items_i.select('*', when((col('genres').contains(\"Детские\")) | (col('genres').contains(\"Для детей\")), 1).otherwise(0).alias('childish'))\n"
   ]
  },
  {
   "cell_type": "code",
   "execution_count": 16,
   "metadata": {},
   "outputs": [
    {
     "name": "stdout",
     "output_type": "stream",
     "text": [
      "+-------+--------------------+----------+---------+---------+-----+---------+------------+-------+----------+-----+--------+---------+------+------+-------+-------------+---+-------+-----+------+-----+-------+---------+-------+-------+----+--------+------+--------+---------+----------+-----------+-----+------+---------+-------+----------------+--------+----------+---------+-----------+----------+-----------+-------+------+-----+------+-------+-------+---------+--------+--------+------------+----------------+--------------+---------------+-------+-----+-----+---------------+------------------+--------+\n",
      "|item_id|              genres|fairy_tale|animation|art_house|anime|biography|action_movie|western|video_game|games|military|detective|family|adults|erotica|entertainment|our|foreign|crime|comedy|drama|cartoon|adventure|general|history|ussr|thriller|horror|mystical|fantastic|short_film|full_length|music|sports|melodrama|serials|film_adaptations|romantic|developing|want_know|educational|ussr_movie|documentary|cooking|health|other|animal|musical|hunting|broadcast|nauchpop|humorous|reality_show|western cartoons|union cartoons|animated_series|fantasy|small|movie|russian_cartoon|films_performances|childish|\n",
      "+-------+--------------------+----------+---------+---------+-----+---------+------------+-------+----------+-----+--------+---------+------+------+-------+-------------+---+-------+-----+------+-----+-------+---------+-------+-------+----+--------+------+--------+---------+----------+-----------+-----+------+---------+-------+----------------+--------+----------+---------+-----------+----------+-----------+-------+------+-----+------+-------+-------+---------+--------+--------+------------+----------------+--------------+---------------+-------+-----+-----+---------------+------------------+--------+\n",
      "|  10637|Мелодрама,Фэнтези...|         1|        0|        0|    0|        0|           0|      0|         0|    0|       0|        0|     0|     0|      0|            0|  0|      0|    1|     0|    1|      0|        0|      0|      0|   0|       1|     0|       0|        0|         0|          0|    0|     0|        1|      0|               0|       0|         0|        0|          0|         0|          0|      0|     0|    0|     0|      0|      0|        0|       0|       0|           0|               0|             0|              0|      1|    0|    0|              0|                 0|       0|\n",
      "+-------+--------------------+----------+---------+---------+-----+---------+------------+-------+----------+-----+--------+---------+------+------+-------+-------------+---+-------+-----+------+-----+-------+---------+-------+-------+----+--------+------+--------+---------+----------+-----------+-----+------+---------+-------+----------------+--------+----------+---------+-----------+----------+-----------+-------+------+-----+------+-------+-------+---------+--------+--------+------------+----------------+--------------+---------------+-------+-----+-----+---------------+------------------+--------+\n",
      "only showing top 1 row\n",
      "\n"
     ]
    }
   ],
   "source": [
    "dataset_items_i.where(\"fairy_tale=1\").show(1)"
   ]
  },
  {
   "cell_type": "code",
   "execution_count": 17,
   "metadata": {},
   "outputs": [
    {
     "name": "stdout",
     "output_type": "stream",
     "text": [
      "+-------+----------+---------+---------+-----+---------+------------+-------+----------+-----+--------+---------+------+------+-------+-------------+---+-------+-----+------+-----+-------+---------+-------+-------+----+--------+------+--------+---------+----------+-----------+-----+------+---------+-------+----------------+--------+----------+---------+-----------+----------+-----------+-------+------+-----+------+-------+-------+---------+--------+--------+------------+----------------+--------------+---------------+-------+-----+-----+---------------+------------------+--------+\n",
      "|item_id|fairy_tale|animation|art_house|anime|biography|action_movie|western|video_game|games|military|detective|family|adults|erotica|entertainment|our|foreign|crime|comedy|drama|cartoon|adventure|general|history|ussr|thriller|horror|mystical|fantastic|short_film|full_length|music|sports|melodrama|serials|film_adaptations|romantic|developing|want_know|educational|ussr_movie|documentary|cooking|health|other|animal|musical|hunting|broadcast|nauchpop|humorous|reality_show|western cartoons|union cartoons|animated_series|fantasy|small|movie|russian_cartoon|films_performances|childish|\n",
      "+-------+----------+---------+---------+-----+---------+------------+-------+----------+-----+--------+---------+------+------+-------+-------------+---+-------+-----+------+-----+-------+---------+-------+-------+----+--------+------+--------+---------+----------+-----------+-----+------+---------+-------+----------------+--------+----------+---------+-----------+----------+-----------+-------+------+-----+------+-------+-------+---------+--------+--------+------------+----------------+--------------+---------------+-------+-----+-----+---------------+------------------+--------+\n",
      "|   2830|         0|        0|        0|    0|        0|           0|      0|         0|    0|       0|        0|     0|     0|      0|            0|  1|      0|    0|     1|    0|      0|        0|      0|      0|   0|       0|     0|       0|        0|         0|          0|    0|     0|        1|      0|               0|       0|         0|        0|          0|         0|          0|      0|     0|    0|     0|      0|      0|        0|       0|       0|           0|               0|             0|              0|      0|    0|    0|              0|                 0|       0|\n",
      "+-------+----------+---------+---------+-----+---------+------------+-------+----------+-----+--------+---------+------+------+-------+-------------+---+-------+-----+------+-----+-------+---------+-------+-------+----+--------+------+--------+---------+----------+-----------+-----+------+---------+-------+----------------+--------+----------+---------+-----------+----------+-----------+-------+------+-----+------+-------+-------+---------+--------+--------+------------+----------------+--------------+---------------+-------+-----+-----+---------------+------------------+--------+\n",
      "only showing top 1 row\n",
      "\n"
     ]
    }
   ],
   "source": [
    "features=dataset_items_i.drop(\"genres\").distinct()\n",
    "features.show(1)"
   ]
  },
  {
   "cell_type": "code",
   "execution_count": 18,
   "metadata": {},
   "outputs": [],
   "source": [
    "sample = dataset_train.sampleBy('purchase', fractions={0: 0.5, 1: 0.5}, seed=42).cache()"
   ]
  },
  {
   "cell_type": "code",
   "execution_count": null,
   "metadata": {},
   "outputs": [],
   "source": [
    "sample.groupBy('item_id').std('purchase').dropDuplicates(['item_id']).show(1)"
   ]
  },
  {
   "cell_type": "code",
   "execution_count": 19,
   "metadata": {},
   "outputs": [],
   "source": [
    "dataset_train = dataset_train.join(sample.groupBy('user_id').mean('purchase').dropDuplicates(['user_id']).\\\n",
    "                             select('user_id', col('avg(purchase)').alias('avg(purchase)_user')), on='user_id', how='left')\n",
    "dataset_train = dataset_train.join(sample.groupBy('item_id').mean('purchase').dropDuplicates(['item_id']).\\\n",
    "                             select('item_id', col('avg(purchase)').alias('avg(purchase)_item')), on='item_id', how='left')\n",
    "\n",
    "dataset_test = dataset_test.join(sample.groupBy('user_id').mean('purchase').dropDuplicates(['user_id']).\\\n",
    "                           select('user_id', col('avg(purchase)').alias('avg(purchase)_user')), on='user_id', how='left')\n",
    "dataset_test = dataset_test.join(sample.groupBy('item_id').mean('purchase').dropDuplicates(['item_id']).\\\n",
    "                           select('item_id', col('avg(purchase)').alias('avg(purchase)_item')), on='item_id', how='left')\n",
    "\n",
    "dataset_train = dataset_train.na.fill(0)\n",
    "dataset_test = dataset_test.na.fill(0)"
   ]
  },
  {
   "cell_type": "code",
   "execution_count": 20,
   "metadata": {},
   "outputs": [
    {
     "name": "stdout",
     "output_type": "stream",
     "text": [
      "+-------+-------+--------+-------------------+--------------------+\n",
      "|item_id|user_id|purchase| avg(purchase)_user|  avg(purchase)_item|\n",
      "+-------+-------+--------+-------------------+--------------------+\n",
      "|   8389| 754230|       0|0.02843601895734597|0.007541478129713424|\n",
      "+-------+-------+--------+-------------------+--------------------+\n",
      "only showing top 1 row\n",
      "\n"
     ]
    }
   ],
   "source": [
    "dataset_train.show(1)"
   ]
  },
  {
   "cell_type": "code",
   "execution_count": 21,
   "metadata": {},
   "outputs": [
    {
     "name": "stdout",
     "output_type": "stream",
     "text": [
      "+-------+-------+--------------------+--------------------+\n",
      "|item_id|user_id|  avg(purchase)_user|  avg(purchase)_item|\n",
      "+-------+-------+--------------------+--------------------+\n",
      "|   8389| 761341|7.739938080495357E-4|0.007541478129713424|\n",
      "+-------+-------+--------------------+--------------------+\n",
      "only showing top 1 row\n",
      "\n"
     ]
    }
   ],
   "source": [
    "dataset_test.show(1)"
   ]
  },
  {
   "cell_type": "code",
   "execution_count": 22,
   "metadata": {},
   "outputs": [
    {
     "name": "stdout",
     "output_type": "stream",
     "text": [
      "+-------+-------+--------+-------------------+--------------------+----------+---------+---------+-----+---------+------------+-------+----------+-----+--------+---------+------+------+-------+-------------+---+-------+-----+------+-----+-------+---------+-------+-------+----+--------+------+--------+---------+----------+-----------+-----+------+---------+-------+----------------+--------+----------+---------+-----------+----------+-----------+-------+------+-----+------+-------+-------+---------+--------+--------+------------+----------------+--------------+---------------+-------+-----+-----+---------------+------------------+--------+\n",
      "|item_id|user_id|purchase| avg(purchase)_user|  avg(purchase)_item|fairy_tale|animation|art_house|anime|biography|action_movie|western|video_game|games|military|detective|family|adults|erotica|entertainment|our|foreign|crime|comedy|drama|cartoon|adventure|general|history|ussr|thriller|horror|mystical|fantastic|short_film|full_length|music|sports|melodrama|serials|film_adaptations|romantic|developing|want_know|educational|ussr_movie|documentary|cooking|health|other|animal|musical|hunting|broadcast|nauchpop|humorous|reality_show|western cartoons|union cartoons|animated_series|fantasy|small|movie|russian_cartoon|films_performances|childish|\n",
      "+-------+-------+--------+-------------------+--------------------+----------+---------+---------+-----+---------+------------+-------+----------+-----+--------+---------+------+------+-------+-------------+---+-------+-----+------+-----+-------+---------+-------+-------+----+--------+------+--------+---------+----------+-----------+-----+------+---------+-------+----------------+--------+----------+---------+-----------+----------+-----------+-------+------+-----+------+-------+-------+---------+--------+--------+------------+----------------+--------------+---------------+-------+-----+-----+---------------+------------------+--------+\n",
      "|   8389| 754230|       0|0.02843601895734597|0.007541478129713424|         0|        0|        0|    0|        0|           0|      0|         0|    0|       0|        0|     0|     0|      0|            0|  1|      0|    0|     0|    0|      1|        0|      0|      0|   0|       0|     0|       0|        0|         0|          0|    0|     0|        0|      0|               0|       0|         0|        0|          0|         0|          0|      0|     0|    0|     0|      0|      0|        0|       0|       0|           0|               0|             1|              0|      0|    0|    0|              0|                 0|       1|\n",
      "+-------+-------+--------+-------------------+--------------------+----------+---------+---------+-----+---------+------------+-------+----------+-----+--------+---------+------+------+-------+-------------+---+-------+-----+------+-----+-------+---------+-------+-------+----+--------+------+--------+---------+----------+-----------+-----+------+---------+-------+----------------+--------+----------+---------+-----------+----------+-----------+-------+------+-----+------+-------+-------+---------+--------+--------+------------+----------------+--------------+---------------+-------+-----+-----+---------------+------------------+--------+\n",
      "only showing top 1 row\n",
      "\n"
     ]
    }
   ],
   "source": [
    "dataset_train_f = dataset_train.join(features, on='item_id', how='left')\n",
    "dataset_train_f = dataset_train_f.na.fill(0)\n",
    "\n",
    "dataset_train_f.show(1)"
   ]
  },
  {
   "cell_type": "code",
   "execution_count": 23,
   "metadata": {},
   "outputs": [],
   "source": [
    "dataset_test_f = dataset_test.join(features, on='item_id', how='left')\n",
    "dataset_test_f = dataset_test_f.na.fill(0)"
   ]
  },
  {
   "cell_type": "code",
   "execution_count": 24,
   "metadata": {},
   "outputs": [
    {
     "name": "stdout",
     "output_type": "stream",
     "text": [
      "+-------+-------+--------------------+--------------------+----------+---------+---------+-----+---------+------------+-------+----------+-----+--------+---------+------+------+-------+-------------+---+-------+-----+------+-----+-------+---------+-------+-------+----+--------+------+--------+---------+----------+-----------+-----+------+---------+-------+----------------+--------+----------+---------+-----------+----------+-----------+-------+------+-----+------+-------+-------+---------+--------+--------+------------+----------------+--------------+---------------+-------+-----+-----+---------------+------------------+--------+\n",
      "|item_id|user_id|  avg(purchase)_user|  avg(purchase)_item|fairy_tale|animation|art_house|anime|biography|action_movie|western|video_game|games|military|detective|family|adults|erotica|entertainment|our|foreign|crime|comedy|drama|cartoon|adventure|general|history|ussr|thriller|horror|mystical|fantastic|short_film|full_length|music|sports|melodrama|serials|film_adaptations|romantic|developing|want_know|educational|ussr_movie|documentary|cooking|health|other|animal|musical|hunting|broadcast|nauchpop|humorous|reality_show|western cartoons|union cartoons|animated_series|fantasy|small|movie|russian_cartoon|films_performances|childish|\n",
      "+-------+-------+--------------------+--------------------+----------+---------+---------+-----+---------+------------+-------+----------+-----+--------+---------+------+------+-------+-------------+---+-------+-----+------+-----+-------+---------+-------+-------+----+--------+------+--------+---------+----------+-----------+-----+------+---------+-------+----------------+--------+----------+---------+-----------+----------+-----------+-------+------+-----+------+-------+-------+---------+--------+--------+------------+----------------+--------------+---------------+-------+-----+-----+---------------+------------------+--------+\n",
      "|   8389| 761341|7.739938080495357E-4|0.007541478129713424|         0|        0|        0|    0|        0|           0|      0|         0|    0|       0|        0|     0|     0|      0|            0|  1|      0|    0|     0|    0|      1|        0|      0|      0|   0|       0|     0|       0|        0|         0|          0|    0|     0|        0|      0|               0|       0|         0|        0|          0|         0|          0|      0|     0|    0|     0|      0|      0|        0|       0|       0|           0|               0|             1|              0|      0|    0|    0|              0|                 0|       1|\n",
      "+-------+-------+--------------------+--------------------+----------+---------+---------+-----+---------+------------+-------+----------+-----+--------+---------+------+------+-------+-------------+---+-------+-----+------+-----+-------+---------+-------+-------+----+--------+------+--------+---------+----------+-----------+-----+------+---------+-------+----------------+--------+----------+---------+-----------+----------+-----------+-------+------+-----+------+-------+-------+---------+--------+--------+------------+----------------+--------------+---------------+-------+-----+-----+---------------+------------------+--------+\n",
      "only showing top 1 row\n",
      "\n"
     ]
    }
   ],
   "source": [
    "dataset_test_f.show(1)"
   ]
  },
  {
   "cell_type": "code",
   "execution_count": 25,
   "metadata": {},
   "outputs": [],
   "source": [
    "train = dataset_train_f.sampleBy('purchase', fractions={0: 0.8, 1: 0.8}, seed=42).cache()\n",
    "val = dataset_train_f.join(train, on=['user_id', 'item_id'], how='leftanti').cache()"
   ]
  },
  {
   "cell_type": "code",
   "execution_count": 26,
   "metadata": {},
   "outputs": [],
   "source": [
    "assembler = VectorAssembler(inputCols=dataset_train_f.drop('purchase').columns, outputCol=\"features\")"
   ]
  },
  {
   "cell_type": "code",
   "execution_count": 27,
   "metadata": {},
   "outputs": [],
   "source": [
    "dataset = assembler.transform(train)"
   ]
  },
  {
   "cell_type": "code",
   "execution_count": 28,
   "metadata": {},
   "outputs": [
    {
     "name": "stdout",
     "output_type": "stream",
     "text": [
      "+-------+-------+--------+-------------------+--------------------+----------+---------+---------+-----+---------+------------+-------+----------+-----+--------+---------+------+------+-------+-------------+---+-------+-----+------+-----+-------+---------+-------+-------+----+--------+------+--------+---------+----------+-----------+-----+------+---------+-------+----------------+--------+----------+---------+-----------+----------+-----------+-------+------+-----+------+-------+-------+---------+--------+--------+------------+----------------+--------------+---------------+-------+-----+-----+---------------+------------------+--------+--------------------+\n",
      "|item_id|user_id|purchase| avg(purchase)_user|  avg(purchase)_item|fairy_tale|animation|art_house|anime|biography|action_movie|western|video_game|games|military|detective|family|adults|erotica|entertainment|our|foreign|crime|comedy|drama|cartoon|adventure|general|history|ussr|thriller|horror|mystical|fantastic|short_film|full_length|music|sports|melodrama|serials|film_adaptations|romantic|developing|want_know|educational|ussr_movie|documentary|cooking|health|other|animal|musical|hunting|broadcast|nauchpop|humorous|reality_show|western cartoons|union cartoons|animated_series|fantasy|small|movie|russian_cartoon|films_performances|childish|            features|\n",
      "+-------+-------+--------+-------------------+--------------------+----------+---------+---------+-----+---------+------------+-------+----------+-----+--------+---------+------+------+-------+-------------+---+-------+-----+------+-----+-------+---------+-------+-------+----+--------+------+--------+---------+----------+-----------+-----+------+---------+-------+----------------+--------+----------+---------+-----------+----------+-----------+-------+------+-----+------+-------+-------+---------+--------+--------+------------+----------------+--------------+---------------+-------+-----+-----+---------------+------------------+--------+--------------------+\n",
      "|   8389| 754230|       0|0.02843601895734597|0.007541478129713424|         0|        0|        0|    0|        0|           0|      0|         0|    0|       0|        0|     0|     0|      0|            0|  1|      0|    0|     0|    0|      1|        0|      0|      0|   0|       0|     0|       0|        0|         0|          0|    0|     0|        0|      0|               0|       0|         0|        0|          0|         0|          0|      0|     0|    0|     0|      0|      0|        0|       0|       0|           0|               0|             1|              0|      0|    0|    0|              0|                 0|       1|(65,[0,1,2,3,19,2...|\n",
      "+-------+-------+--------+-------------------+--------------------+----------+---------+---------+-----+---------+------------+-------+----------+-----+--------+---------+------+------+-------+-------------+---+-------+-----+------+-----+-------+---------+-------+-------+----+--------+------+--------+---------+----------+-----------+-----+------+---------+-------+----------------+--------+----------+---------+-----------+----------+-----------+-------+------+-----+------+-------+-------+---------+--------+--------+------------+----------------+--------------+---------------+-------+-----+-----+---------------+------------------+--------+--------------------+\n",
      "only showing top 1 row\n",
      "\n"
     ]
    }
   ],
   "source": [
    "dataset.show(1)"
   ]
  },
  {
   "cell_type": "code",
   "execution_count": 29,
   "metadata": {},
   "outputs": [],
   "source": [
    "gbt = GBTClassifier(featuresCol='features', labelCol='purchase', maxIter=10, maxDepth=10)"
   ]
  },
  {
   "cell_type": "code",
   "execution_count": 30,
   "metadata": {},
   "outputs": [],
   "source": [
    "model = gbt.fit(dataset)"
   ]
  },
  {
   "cell_type": "code",
   "execution_count": 31,
   "metadata": {},
   "outputs": [],
   "source": [
    "val_vector = assembler.transform(val)"
   ]
  },
  {
   "cell_type": "code",
   "execution_count": 32,
   "metadata": {},
   "outputs": [],
   "source": [
    "valid = model.transform(val_vector)"
   ]
  },
  {
   "cell_type": "code",
   "execution_count": 33,
   "metadata": {},
   "outputs": [
    {
     "name": "stdout",
     "output_type": "stream",
     "text": [
      "+-------+-------+--------+--------------------+------------------+----------+---------+---------+-----+---------+------------+-------+----------+-----+--------+---------+------+------+-------+-------------+---+-------+-----+------+-----+-------+---------+-------+-------+----+--------+------+--------+---------+----------+-----------+-----+------+---------+-------+----------------+--------+----------+---------+-----------+----------+-----------+-------+------+-----+------+-------+-------+---------+--------+--------+------------+----------------+--------------+---------------+-------+-----+-----+---------------+------------------+--------+--------------------+--------------------+--------------------+----------+\n",
      "|user_id|item_id|purchase|  avg(purchase)_user|avg(purchase)_item|fairy_tale|animation|art_house|anime|biography|action_movie|western|video_game|games|military|detective|family|adults|erotica|entertainment|our|foreign|crime|comedy|drama|cartoon|adventure|general|history|ussr|thriller|horror|mystical|fantastic|short_film|full_length|music|sports|melodrama|serials|film_adaptations|romantic|developing|want_know|educational|ussr_movie|documentary|cooking|health|other|animal|musical|hunting|broadcast|nauchpop|humorous|reality_show|western cartoons|union cartoons|animated_series|fantasy|small|movie|russian_cartoon|films_performances|childish|            features|       rawPrediction|         probability|prediction|\n",
      "+-------+-------+--------+--------------------+------------------+----------+---------+---------+-----+---------+------------+-------+----------+-----+--------+---------+------+------+-------+-------------+---+-------+-----+------+-----+-------+---------+-------+-------+----+--------+------+--------+---------+----------+-----------+-----+------+---------+-------+----------------+--------+----------+---------+-----------+----------+-----------+-------+------+-----+------+-------+-------+---------+--------+--------+------------+----------------+--------------+---------------+-------+-----+-----+---------------+------------------+--------+--------------------+--------------------+--------------------+----------+\n",
      "| 510087|  10575|       0|0.002365930599369085|               0.0|         0|        0|        0|    0|        0|           0|      0|         0|    0|       0|        0|     1|     0|      0|            0|  0|      0|    0|     0|    0|      0|        0|      0|      0|   0|       0|     0|       0|        1|         0|          0|    0|     0|        0|      0|               0|       0|         0|        0|          0|         0|          0|      0|     0|    0|     0|      1|      0|        0|       0|       0|           0|               0|             0|              0|      0|    0|    0|              0|                 0|       0|(65,[0,1,2,15,32,...|[1.32370448140232...|[0.93385111363182...|       0.0|\n",
      "+-------+-------+--------+--------------------+------------------+----------+---------+---------+-----+---------+------------+-------+----------+-----+--------+---------+------+------+-------+-------------+---+-------+-----+------+-----+-------+---------+-------+-------+----+--------+------+--------+---------+----------+-----------+-----+------+---------+-------+----------------+--------+----------+---------+-----------+----------+-----------+-------+------+-----+------+-------+-------+---------+--------+--------+------------+----------------+--------------+---------------+-------+-----+-----+---------------+------------------+--------+--------------------+--------------------+--------------------+----------+\n",
      "only showing top 1 row\n",
      "\n"
     ]
    }
   ],
   "source": [
    "valid.show(1)"
   ]
  },
  {
   "cell_type": "code",
   "execution_count": 34,
   "metadata": {},
   "outputs": [],
   "source": [
    "evaluator = BinaryClassificationEvaluator(rawPredictionCol=\"probability\", labelCol=\"purchase\", metricName='areaUnderROC')"
   ]
  },
  {
   "cell_type": "code",
   "execution_count": 35,
   "metadata": {},
   "outputs": [
    {
     "data": {
      "text/plain": [
       "0.9229835176643045"
      ]
     },
     "execution_count": 35,
     "metadata": {},
     "output_type": "execute_result"
    }
   ],
   "source": [
    "\n",
    "evaluator.evaluate(valid)\n"
   ]
  },
  {
   "cell_type": "code",
   "execution_count": 36,
   "metadata": {},
   "outputs": [
    {
     "data": {
      "text/plain": [
       "SparseVector(65, {0: 0.1058, 1: 0.2843, 2: 0.1771, 3: 0.2023, 4: 0.0016, 5: 0.0, 6: 0.0026, 7: 0.0006, 8: 0.0013, 9: 0.0098, 10: 0.0033, 11: 0.0013, 12: 0.0012, 13: 0.004, 14: 0.0084, 15: 0.0093, 16: 0.0015, 17: 0.0081, 18: 0.0003, 19: 0.0095, 20: 0.0146, 21: 0.0072, 22: 0.0091, 23: 0.0094, 24: 0.0098, 25: 0.0117, 27: 0.0032, 28: 0.0009, 29: 0.0104, 30: 0.0065, 31: 0.005, 32: 0.0074, 33: 0.0004, 34: 0.0075, 35: 0.002, 36: 0.0027, 37: 0.0056, 38: 0.0035, 39: 0.0004, 40: 0.0005, 41: 0.0008, 42: 0.0011, 43: 0.0001, 44: 0.0006, 45: 0.0051, 48: 0.0001, 49: 0.0025, 50: 0.0008, 51: 0.0, 52: 0.0027, 53: 0.0, 54: 0.0003, 55: 0.0007, 56: 0.004, 57: 0.0026, 58: 0.0032, 59: 0.0068, 60: 0.0057, 61: 0.0011, 62: 0.002, 64: 0.0098})"
      ]
     },
     "execution_count": 36,
     "metadata": {},
     "output_type": "execute_result"
    }
   ],
   "source": [
    "# Вклад признаков в решение модели\n",
    "model.featureImportances"
   ]
  },
  {
   "cell_type": "code",
   "execution_count": 37,
   "metadata": {},
   "outputs": [],
   "source": [
    "# Функция для извлечения предсказания для 2-го класса\n",
    "best_pred = udf(lambda s: s.values.item(1), FloatType())"
   ]
  },
  {
   "cell_type": "code",
   "execution_count": 38,
   "metadata": {},
   "outputs": [],
   "source": [
    "out_vector = assembler.transform(dataset_test_f)\n",
    "out_predict = model.transform(out_vector)"
   ]
  },
  {
   "cell_type": "code",
   "execution_count": 39,
   "metadata": {},
   "outputs": [],
   "source": [
    "out_predict = out_predict.withColumn('purchase', best_pred(col('probability')))"
   ]
  },
  {
   "cell_type": "code",
   "execution_count": 40,
   "metadata": {},
   "outputs": [
    {
     "name": "stdout",
     "output_type": "stream",
     "text": [
      "+-------+-------+----------+----------------------------------------+\n",
      "|user_id|item_id|purchase  |probability                             |\n",
      "+-------+-------+----------+----------------------------------------+\n",
      "|1654   |336    |0.06629539|[0.9337046069842695,0.06629539301573051]|\n",
      "|1654   |678    |0.06627692|[0.9337230768532409,0.06627692314675915]|\n",
      "|1654   |691    |0.06627692|[0.9337230768532409,0.06627692314675915]|\n",
      "|1654   |696    |0.06818159|[0.9318184143716487,0.0681815856283513] |\n",
      "|1654   |763    |0.06627692|[0.9337230768532409,0.06627692314675915]|\n",
      "+-------+-------+----------+----------------------------------------+\n",
      "only showing top 5 rows\n",
      "\n"
     ]
    }
   ],
   "source": [
    "out_predict.select('user_id', 'item_id', 'purchase', 'probability').sort('user_id', 'item_id').show(5, truncate=False)"
   ]
  },
  {
   "cell_type": "code",
   "execution_count": 43,
   "metadata": {},
   "outputs": [
    {
     "name": "stdout",
     "output_type": "stream",
     "text": [
      "Count on predictions data:  2156840\n",
      "Count on check data:  2156840\n"
     ]
    }
   ],
   "source": [
    "# Бывает проблема с чекером из-за несоответствия кол-ва данных в файле\n",
    "print('Count on predictions data: ', out_predict.count())\n",
    "print('Count on check data: ', dataset_test.count())"
   ]
  },
  {
   "cell_type": "code",
   "execution_count": 44,
   "metadata": {},
   "outputs": [],
   "source": [
    "# Сохранение результатов в файл\n",
    "out_predict.select('user_id', 'item_id', 'purchase').sort('user_id', 'item_id').toPandas().to_csv('lab03_100.csv', sep=',', index=True)"
   ]
  },
  {
   "cell_type": "code",
   "execution_count": null,
   "metadata": {},
   "outputs": [],
   "source": [
    "spark.stop()"
   ]
  }
 ],
 "metadata": {
  "kernelspec": {
   "display_name": "Python 3",
   "language": "python",
   "name": "python3"
  },
  "language_info": {
   "codemirror_mode": {
    "name": "ipython",
    "version": 3
   },
   "file_extension": ".py",
   "mimetype": "text/x-python",
   "name": "python",
   "nbconvert_exporter": "python",
   "pygments_lexer": "ipython3",
   "version": "3.6.5"
  }
 },
 "nbformat": 4,
 "nbformat_minor": 2
}
