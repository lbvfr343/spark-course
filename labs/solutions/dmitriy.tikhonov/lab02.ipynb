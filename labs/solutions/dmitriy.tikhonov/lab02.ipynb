{
 "cells": [
  {
   "cell_type": "code",
   "execution_count": 1,
   "metadata": {
    "ExecuteTime": {
     "end_time": "2022-10-27T16:43:51.878253Z",
     "start_time": "2022-10-27T16:43:25.916942Z"
    }
   },
   "outputs": [
    {
     "name": "stdout",
     "output_type": "stream",
     "text": [
      "Welcome to\n",
      "      ____              __\n",
      "     / __/__  ___ _____/ /__\n",
      "    _\\ \\/ _ \\/ _ `/ __/  '_/\n",
      "   /__ / .__/\\_,_/_/ /_/\\_\\   version 2.4.7\n",
      "      /_/\n",
      "\n",
      "Using Python version 3.6.5 (default, Apr 29 2018 16:14:56)\n",
      "SparkSession available as 'spark'.\n"
     ]
    }
   ],
   "source": [
    "import os\n",
    "import sys\n",
    "os.environ[\"PYSPARK_PYTHON\"]='/opt/anaconda/envs/bd9/bin/python'\n",
    "os.environ[\"SPARK_HOME\"]='/usr/hdp/current/spark2-client'\n",
    "os.environ[\"PYSPARK_SUBMIT_ARGS\"]='--num-executors 2 pyspark-shell'\n",
    "\n",
    "spark_home = os.environ.get('SPARK_HOME', None)\n",
    "\n",
    "sys.path.insert(0, os.path.join(spark_home, 'python'))\n",
    "sys.path.insert(0, os.path.join(spark_home, 'python/lib/py4j-0.10.7-src.zip'))\n",
    "exec(open(os.path.join(spark_home, 'python/pyspark/shell.py')).read())"
   ]
  },
  {
   "cell_type": "code",
   "execution_count": 25,
   "metadata": {
    "ExecuteTime": {
     "end_time": "2022-10-27T16:46:07.906344Z",
     "start_time": "2022-10-27T16:46:07.902033Z"
    }
   },
   "outputs": [
    {
     "data": {
      "text/html": [
       "\n",
       "        <div>\n",
       "            <p><b>SparkContext</b></p>\n",
       "\n",
       "            <p><a href=\"http://spark-master-4.newprolab.com:4051\">Spark UI</a></p>\n",
       "\n",
       "            <dl>\n",
       "              <dt>Version</dt>\n",
       "                <dd><code>v2.4.7</code></dd>\n",
       "              <dt>Master</dt>\n",
       "                <dd><code>yarn</code></dd>\n",
       "              <dt>AppName</dt>\n",
       "                <dd><code>pyspark-shell</code></dd>\n",
       "            </dl>\n",
       "        </div>\n",
       "        "
      ],
      "text/plain": [
       "<SparkContext master=yarn appName=pyspark-shell>"
      ]
     },
     "execution_count": 25,
     "metadata": {},
     "output_type": "execute_result"
    }
   ],
   "source": [
    "sc"
   ]
  },
  {
   "cell_type": "code",
   "execution_count": 26,
   "metadata": {
    "ExecuteTime": {
     "end_time": "2022-10-27T16:46:10.593571Z",
     "start_time": "2022-10-27T16:46:10.591121Z"
    }
   },
   "outputs": [],
   "source": [
    "import re\n",
    "from pyspark.mllib.feature import HashingTF, IDF\n",
    "from pyspark.ml.feature import HashingTF, IDF, StopWordsRemover, Normalizer\n",
    "from pyspark.sql.functions import col"
   ]
  },
  {
   "cell_type": "code",
   "execution_count": 27,
   "metadata": {
    "ExecuteTime": {
     "end_time": "2022-10-27T16:46:10.891244Z",
     "start_time": "2022-10-27T16:46:10.887041Z"
    }
   },
   "outputs": [
    {
     "data": {
      "text/html": [
       "\n",
       "            <div>\n",
       "                <p><b>SparkSession - hive</b></p>\n",
       "                \n",
       "        <div>\n",
       "            <p><b>SparkContext</b></p>\n",
       "\n",
       "            <p><a href=\"http://spark-master-4.newprolab.com:4051\">Spark UI</a></p>\n",
       "\n",
       "            <dl>\n",
       "              <dt>Version</dt>\n",
       "                <dd><code>v2.4.7</code></dd>\n",
       "              <dt>Master</dt>\n",
       "                <dd><code>yarn</code></dd>\n",
       "              <dt>AppName</dt>\n",
       "                <dd><code>pyspark-shell</code></dd>\n",
       "            </dl>\n",
       "        </div>\n",
       "        \n",
       "            </div>\n",
       "        "
      ],
      "text/plain": [
       "<pyspark.sql.session.SparkSession at 0x7f303402e588>"
      ]
     },
     "execution_count": 27,
     "metadata": {},
     "output_type": "execute_result"
    }
   ],
   "source": [
    "spark"
   ]
  },
  {
   "cell_type": "code",
   "execution_count": 28,
   "metadata": {
    "ExecuteTime": {
     "end_time": "2022-10-27T16:46:11.115080Z",
     "start_time": "2022-10-27T16:46:11.111265Z"
    }
   },
   "outputs": [],
   "source": [
    "from pyspark.ml.feature import HashingTF, IDF, Tokenizer, StopWordsRemover\n",
    "from pyspark.ml import Pipeline\n",
    "from pyspark.sql.functions import udf, col, isnan, isnull, broadcast, desc, lower\n",
    "from pyspark.sql.types import FloatType, ArrayType, StringType\n",
    "import json\n",
    "import re"
   ]
  },
  {
   "cell_type": "code",
   "execution_count": 29,
   "metadata": {
    "ExecuteTime": {
     "end_time": "2022-10-27T16:46:11.329863Z",
     "start_time": "2022-10-27T16:46:11.327057Z"
    }
   },
   "outputs": [],
   "source": [
    "var10 = [[23126, u'en', u'Compass - powerful SASS library that makes your life easier'], [21617, u'en', u'Preparing for the AP* Computer Science A Exam \\u2014 Part 2'], [16627, u'es', u'Aprende Excel: Nivel Intermedio by Alfonso Rinsche'], [11556, u'es', u'Aprendizaje Colaborativo by UNID Universidad Interamericana para el Desarrollo'], [16704, u'ru', u'\\u041f\\u0440\\u043e\\u0433\\u0440\\u0430\\u043c\\u043c\\u0438\\u0440\\u043e\\u0432\\u0430\\u043d\\u0438\\u0435 \\u043d\\u0430 Lazarus'], [13702, u'ru', u'\\u041c\\u0430\\u0442\\u0435\\u043c\\u0430\\u0442\\u0438\\u0447\\u0435\\u0441\\u043a\\u0430\\u044f \\u044d\\u043a\\u043e\\u043d\\u043e\\u043c\\u0438\\u043a\\u0430']]"
   ]
  },
  {
   "cell_type": "code",
   "execution_count": 30,
   "metadata": {
    "ExecuteTime": {
     "end_time": "2022-10-27T16:46:11.553736Z",
     "start_time": "2022-10-27T16:46:11.550453Z"
    }
   },
   "outputs": [
    {
     "data": {
      "text/plain": [
       "[[23126, 'en', 'Compass - powerful SASS library that makes your life easier'],\n",
       " [21617, 'en', 'Preparing for the AP* Computer Science A Exam — Part 2'],\n",
       " [16627, 'es', 'Aprende Excel: Nivel Intermedio by Alfonso Rinsche'],\n",
       " [11556,\n",
       "  'es',\n",
       "  'Aprendizaje Colaborativo by UNID Universidad Interamericana para el Desarrollo'],\n",
       " [16704, 'ru', 'Программирование на Lazarus'],\n",
       " [13702, 'ru', 'Математическая экономика']]"
      ]
     },
     "execution_count": 30,
     "metadata": {},
     "output_type": "execute_result"
    }
   ],
   "source": [
    "var10"
   ]
  },
  {
   "cell_type": "code",
   "execution_count": 31,
   "metadata": {
    "ExecuteTime": {
     "end_time": "2022-10-27T16:46:11.769279Z",
     "start_time": "2022-10-27T16:46:11.766727Z"
    }
   },
   "outputs": [],
   "source": [
    "var10_ids = sorted([x[0] for x in var10])"
   ]
  },
  {
   "cell_type": "code",
   "execution_count": 32,
   "metadata": {
    "ExecuteTime": {
     "end_time": "2022-10-27T16:46:12.013031Z",
     "start_time": "2022-10-27T16:46:12.009804Z"
    }
   },
   "outputs": [
    {
     "data": {
      "text/plain": [
       "[11556, 13702, 16627, 16704, 21617, 23126]"
      ]
     },
     "execution_count": 32,
     "metadata": {},
     "output_type": "execute_result"
    }
   ],
   "source": [
    "var10_ids"
   ]
  },
  {
   "cell_type": "code",
   "execution_count": 33,
   "metadata": {
    "ExecuteTime": {
     "end_time": "2022-10-27T16:46:14.124524Z",
     "start_time": "2022-10-27T16:46:12.222634Z"
    }
   },
   "outputs": [
    {
     "name": "stdout",
     "output_type": "stream",
     "text": [
      "ls: `/labs/slaba02/D': No such file or directory\r\n"
     ]
    }
   ],
   "source": [
    "!hdfs dfs -ls /labs/slaba02/D"
   ]
  },
  {
   "cell_type": "code",
   "execution_count": 34,
   "metadata": {
    "ExecuteTime": {
     "end_time": "2022-10-27T16:46:14.728252Z",
     "start_time": "2022-10-27T16:46:14.126390Z"
    }
   },
   "outputs": [],
   "source": [
    "courses = spark.read.json(\"/labs/slaba02/DO_record_per_line.json\")"
   ]
  },
  {
   "cell_type": "code",
   "execution_count": 35,
   "metadata": {
    "ExecuteTime": {
     "end_time": "2022-10-27T16:46:14.738965Z",
     "start_time": "2022-10-27T16:46:14.729788Z"
    }
   },
   "outputs": [],
   "source": [
    "courses = courses.withColumn(\"desc\", lower(col(\"desc\")))"
   ]
  },
  {
   "cell_type": "code",
   "execution_count": 36,
   "metadata": {
    "ExecuteTime": {
     "end_time": "2022-10-27T16:46:14.744306Z",
     "start_time": "2022-10-27T16:46:14.740478Z"
    }
   },
   "outputs": [
    {
     "data": {
      "text/plain": [
       "DataFrame[cat: string, desc: string, id: bigint, lang: string, name: string, provider: string]"
      ]
     },
     "execution_count": 36,
     "metadata": {},
     "output_type": "execute_result"
    }
   ],
   "source": [
    "courses"
   ]
  },
  {
   "cell_type": "code",
   "execution_count": 37,
   "metadata": {
    "ExecuteTime": {
     "end_time": "2022-10-27T16:46:14.856794Z",
     "start_time": "2022-10-27T16:46:14.745607Z"
    }
   },
   "outputs": [
    {
     "name": "stdout",
     "output_type": "stream",
     "text": [
      "+--------------------+--------------------+---+----+--------------------+--------------+\n",
      "|                 cat|                desc| id|lang|                name|      provider|\n",
      "+--------------------+--------------------+---+----+--------------------+--------------+\n",
      "|3/business_manage...|this course intro...|  4|  en|Accounting Cycle:...|Canvas Network|\n",
      "|              11/law|this online cours...|  5|  en|American Counter ...|Canvas Network|\n",
      "|5/computer_scienc...|this course is ta...|  6|  fr|Arithmétique: en ...|Canvas Network|\n",
      "|  14/social_sciences|we live in a digi...|  7|  en|Becoming a Dynami...|Canvas Network|\n",
      "|2/biology_life_sc...|this self-paced c...|  8|  en|           Bioethics|Canvas Network|\n",
      "|9/humanities|15/m...|this game-based c...|  9|  en|College Foundatio...|Canvas Network|\n",
      "|  14/social_sciences|what’s in your di...| 10|  en|Digital Literacies I|Canvas Network|\n",
      "|  14/social_sciences|the goal of the d...| 11|  en|Digital Literacie...|Canvas Network|\n",
      "|  14/social_sciences|ready to explore ...| 12|  en|Digital Tools for...|Canvas Network|\n",
      "|  14/social_sciences|this self-paced c...| 13|  en|Discover Your Val...|Canvas Network|\n",
      "+--------------------+--------------------+---+----+--------------------+--------------+\n",
      "only showing top 10 rows\n",
      "\n"
     ]
    }
   ],
   "source": [
    "courses.show(10)"
   ]
  },
  {
   "cell_type": "code",
   "execution_count": 38,
   "metadata": {
    "ExecuteTime": {
     "end_time": "2022-10-27T16:46:14.975334Z",
     "start_time": "2022-10-27T16:46:14.858274Z"
    }
   },
   "outputs": [
    {
     "name": "stdout",
     "output_type": "stream",
     "text": [
      "+--------------------+\n",
      "|                desc|\n",
      "+--------------------+\n",
      "|this course intro...|\n",
      "|this online cours...|\n",
      "|this course is ta...|\n",
      "|we live in a digi...|\n",
      "|this self-paced c...|\n",
      "|this game-based c...|\n",
      "|what’s in your di...|\n",
      "|the goal of the d...|\n",
      "|ready to explore ...|\n",
      "|this self-paced c...|\n",
      "|what is “interpro...|\n",
      "|this course prese...|\n",
      "|chemistry is an i...|\n",
      "|are you consideri...|\n",
      "|princess stories ...|\n",
      "|this first instal...|\n",
      "|this course exami...|\n",
      "|this course will ...|\n",
      "|the field of tech...|\n",
      "|are you a higher ...|\n",
      "+--------------------+\n",
      "only showing top 20 rows\n",
      "\n"
     ]
    }
   ],
   "source": [
    "temp_data = courses.select(\"desc\")\n",
    "temp_data.show()"
   ]
  },
  {
   "cell_type": "code",
   "execution_count": 39,
   "metadata": {
    "ExecuteTime": {
     "end_time": "2022-10-27T16:46:14.983933Z",
     "start_time": "2022-10-27T16:46:14.977494Z"
    }
   },
   "outputs": [],
   "source": [
    "tokenizer = Tokenizer(inputCol=\"desc\", outputCol=\"desc_words\")"
   ]
  },
  {
   "cell_type": "code",
   "execution_count": 40,
   "metadata": {
    "ExecuteTime": {
     "end_time": "2022-10-27T16:46:15.011776Z",
     "start_time": "2022-10-27T16:46:14.986073Z"
    }
   },
   "outputs": [],
   "source": [
    "stopwords = StopWordsRemover.loadDefaultStopWords(\"english\")"
   ]
  },
  {
   "cell_type": "code",
   "execution_count": 41,
   "metadata": {
    "ExecuteTime": {
     "end_time": "2022-10-27T16:46:15.047039Z",
     "start_time": "2022-10-27T16:46:15.013852Z"
    }
   },
   "outputs": [],
   "source": [
    "StopWordsRemover = StopWordsRemover(inputCol=\"desc_words\", outputCol=\"words_filtered\", stopWords=stopwords)\n",
    "tf = HashingTF(inputCol=\"words_filtered\", outputCol=\"words_hashed\", numFeatures=10000) \n",
    "idf = IDF(inputCol=\"words_hashed\", outputCol=\"features\", minDocFreq=5)  "
   ]
  },
  {
   "cell_type": "code",
   "execution_count": 42,
   "metadata": {
    "ExecuteTime": {
     "end_time": "2022-10-27T16:46:15.059675Z",
     "start_time": "2022-10-27T16:46:15.048619Z"
    }
   },
   "outputs": [],
   "source": [
    "Pipeline1 = Pipeline(stages = [tokenizer,StopWordsRemover,tf, idf])"
   ]
  },
  {
   "cell_type": "code",
   "execution_count": 43,
   "metadata": {
    "ExecuteTime": {
     "end_time": "2022-10-27T16:46:20.620528Z",
     "start_time": "2022-10-27T16:46:15.061122Z"
    }
   },
   "outputs": [
    {
     "name": "stdout",
     "output_type": "stream",
     "text": [
      "+---+----+--------------------+--------------------+--------------------+\n",
      "| id|lang|                name|      words_filtered|            features|\n",
      "+---+----+--------------------+--------------------+--------------------+\n",
      "|  4|  en|Accounting Cycle:...|[course, introduc...|(10000,[36,42,63,...|\n",
      "|  5|  en|American Counter ...|[online, course, ...|(10000,[32,222,29...|\n",
      "|  6|  fr|Arithmétique: en ...|[course, taught, ...|(10000,[30,41,246...|\n",
      "|  7|  en|Becoming a Dynami...|[live, digitally,...|(10000,[493,721,8...|\n",
      "|  8|  en|           Bioethics|[self-paced, cour...|(10000,[32,65,115...|\n",
      "+---+----+--------------------+--------------------+--------------------+\n",
      "only showing top 5 rows\n",
      "\n"
     ]
    }
   ],
   "source": [
    "dataset = Pipeline1.fit(courses).transform(courses)\n",
    "dataset = dataset.select(\"id\", \"lang\", \"name\", \"words_filtered\", \"features\")\n",
    "dataset.show(5, True)"
   ]
  },
  {
   "cell_type": "code",
   "execution_count": 44,
   "metadata": {
    "ExecuteTime": {
     "end_time": "2022-10-27T16:46:20.669607Z",
     "start_time": "2022-10-27T16:46:20.622151Z"
    }
   },
   "outputs": [],
   "source": [
    "#Выбираю мои курсы\n",
    "search_courses_df = dataset.where(col(\"id\").isin(var10_ids))\n",
    "\n",
    "#Переименовываю данные для джойна\n",
    "search_courses_idf = search_courses_df.select(\"id\", \"lang\", \"name\", \"features\") \\\n",
    "    .withColumnRenamed(\"id\", \"search_id\") \\\n",
    "    .withColumnRenamed(\"lang\", \"search_lang\") \\\n",
    "    .withColumnRenamed(\"name\", \"search_name\") \\\n",
    "    .withColumnRenamed(\"features\", \"search_features\") \\\n",
    "\n",
    "\n",
    "joined_data = dataset.join(broadcast(search_courses_idf), dataset.lang == search_courses_idf.search_lang) \\\n",
    "    .filter(\"lang = search_lang\") \\\n",
    "    .filter(\"id != search_id\")  \n",
    "\n"
   ]
  },
  {
   "cell_type": "code",
   "execution_count": 45,
   "metadata": {
    "ExecuteTime": {
     "end_time": "2022-10-27T16:46:20.675282Z",
     "start_time": "2022-10-27T16:46:20.671790Z"
    }
   },
   "outputs": [],
   "source": [
    "# User-defined function для косинусного расстояния\n",
    "from pyspark.sql.functions import udf\n",
    "\n",
    "@udf\n",
    "def cos_sim(v1,v2):\n",
    "    try:\n",
    "        return float(v1.dot(v2))\n",
    "    except:\n",
    "        return 0\n",
    "\n",
    "\n"
   ]
  },
  {
   "cell_type": "code",
   "execution_count": 46,
   "metadata": {
    "ExecuteTime": {
     "end_time": "2022-10-27T16:46:20.762967Z",
     "start_time": "2022-10-27T16:46:20.677160Z"
    }
   },
   "outputs": [
    {
     "data": {
      "text/plain": [
       "DataFrame[id: bigint, lang: string, name: string, words_filtered: array<string>, features: vector, search_id: bigint, search_lang: string, search_name: string, search_features: vector, cos_sim: string]"
      ]
     },
     "execution_count": 46,
     "metadata": {},
     "output_type": "execute_result"
    }
   ],
   "source": [
    "# рассчиттываю косинусное расстояние между моими курсами и всеми остальными\n",
    "joined_data = joined_data.withColumn(\"cos_sim\", cos_sim(col(\"features\"), col(\"search_features\"))) \\\n",
    "                .filter((isnan(col(\"cos_sim\")) == False) & (isnull(col(\"cos_sim\")) == False))\n",
    "\n",
    "joined_data.cache()\n",
    "\n"
   ]
  },
  {
   "cell_type": "code",
   "execution_count": 47,
   "metadata": {
    "ExecuteTime": {
     "end_time": "2022-10-27T16:46:46.682719Z",
     "start_time": "2022-10-27T16:46:20.764431Z"
    }
   },
   "outputs": [],
   "source": [
    "# Собираю все рекомендации в словарь\n",
    "result = dict()\n",
    "for course_id in var10_ids:\n",
    "    res = joined_data.filter(col(\"search_id\") == course_id).orderBy(desc(\"cos_sim\"), \"name\", \"id\").limit(10).select(\"id\").collect()\n",
    "    ids = [row[0] for row in res]\n",
    "    result[str(course_id)] = ids"
   ]
  },
  {
   "cell_type": "code",
   "execution_count": 48,
   "metadata": {
    "ExecuteTime": {
     "end_time": "2022-10-27T16:46:46.688991Z",
     "start_time": "2022-10-27T16:46:46.684692Z"
    }
   },
   "outputs": [
    {
     "data": {
      "text/plain": [
       "{'11556': [13152, 24706, 12308, 24162, 5936, 20157, 4255, 8952, 9471, 22797],\n",
       " '13702': [860, 13701, 1052, 17128, 5221, 25829, 1420, 10735, 9240, 17019],\n",
       " '16627': [16694, 12166, 13438, 4100, 7818, 22758, 25563, 10034, 18863, 24221],\n",
       " '16704': [17071, 7174, 13479, 8081, 1187, 10985, 8783, 1237, 8202, 1200],\n",
       " '21617': [21666, 21840, 21523, 8289, 21614, 24469, 12790, 11067, 22637, 5478],\n",
       " '23126': [17847, 6549, 9823, 18907, 24140, 13343, 13130, 22298, 4803, 5944]}"
      ]
     },
     "execution_count": 48,
     "metadata": {},
     "output_type": "execute_result"
    }
   ],
   "source": [
    "result"
   ]
  },
  {
   "cell_type": "code",
   "execution_count": 49,
   "metadata": {
    "ExecuteTime": {
     "end_time": "2022-10-27T16:46:47.064813Z",
     "start_time": "2022-10-27T16:46:46.690494Z"
    }
   },
   "outputs": [],
   "source": [
    "#save data \n",
    "with open('lab02.json', 'w', encoding='utf-8') as f:\n",
    "    json.dump(result, f, indent=4)"
   ]
  },
  {
   "cell_type": "code",
   "execution_count": 50,
   "metadata": {
    "ExecuteTime": {
     "end_time": "2022-10-27T16:46:47.529406Z",
     "start_time": "2022-10-27T16:46:47.066323Z"
    }
   },
   "outputs": [
    {
     "name": "stdout",
     "output_type": "stream",
     "text": [
      "{\r\n",
      "    \"11556\": [\r\n",
      "        13152,\r\n",
      "        24706,\r\n",
      "        12308,\r\n",
      "        24162,\r\n",
      "        5936,\r\n",
      "        20157,\r\n",
      "        4255,\r\n",
      "        8952,\r\n",
      "        9471,\r\n",
      "        22797\r\n",
      "    ],\r\n",
      "    \"13702\": [\r\n",
      "        860,\r\n",
      "        13701,\r\n",
      "        1052,\r\n",
      "        17128,\r\n",
      "        5221,\r\n",
      "        25829,\r\n",
      "        1420,\r\n",
      "        10735,\r\n",
      "        9240,\r\n",
      "        17019\r\n",
      "    ],\r\n",
      "    \"16627\": [\r\n",
      "        16694,\r\n",
      "        12166,\r\n",
      "        13438,\r\n",
      "        4100,\r\n",
      "        7818,\r\n",
      "        22758,\r\n",
      "        25563,\r\n",
      "        10034,\r\n",
      "        18863,\r\n",
      "        24221\r\n",
      "    ],\r\n",
      "    \"16704\": [\r\n",
      "        17071,\r\n",
      "        7174,\r\n",
      "        13479,\r\n",
      "        8081,\r\n",
      "        1187,\r\n",
      "        10985,\r\n",
      "        8783,\r\n",
      "        1237,\r\n",
      "        8202,\r\n",
      "        1200\r\n",
      "    ],\r\n",
      "    \"21617\": [\r\n",
      "        21666,\r\n",
      "        21840,\r\n",
      "        21523,\r\n",
      "        8289,\r\n",
      "        21614,\r\n",
      "        24469,\r\n",
      "        12790,\r\n",
      "        11067,\r\n",
      "        22637,\r\n",
      "        5478\r\n",
      "    ],\r\n",
      "    \"23126\": [\r\n",
      "        17847,\r\n",
      "        6549,\r\n",
      "        9823,\r\n",
      "        18907,\r\n",
      "        24140,\r\n",
      "        13343,\r\n",
      "        13130,\r\n",
      "        22298,\r\n",
      "        4803,\r\n",
      "        5944\r\n",
      "    ]\r\n",
      "}"
     ]
    }
   ],
   "source": [
    "#check result\n",
    "!cat lab02.json"
   ]
  },
  {
   "cell_type": "code",
   "execution_count": 51,
   "metadata": {
    "ExecuteTime": {
     "end_time": "2022-10-27T16:46:54.683358Z",
     "start_time": "2022-10-27T16:46:54.047320Z"
    }
   },
   "outputs": [],
   "source": [
    "sc.stop()"
   ]
  },
  {
   "cell_type": "code",
   "execution_count": null,
   "metadata": {},
   "outputs": [],
   "source": []
  }
 ],
 "metadata": {
  "kernelspec": {
   "display_name": "Python 3",
   "language": "python",
   "name": "python3"
  },
  "language_info": {
   "codemirror_mode": {
    "name": "ipython",
    "version": 3
   },
   "file_extension": ".py",
   "mimetype": "text/x-python",
   "name": "python",
   "nbconvert_exporter": "python",
   "pygments_lexer": "ipython3",
   "version": "3.6.5"
  }
 },
 "nbformat": 4,
 "nbformat_minor": 2
}
