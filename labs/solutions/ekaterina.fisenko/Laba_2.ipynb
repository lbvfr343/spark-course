{
 "cells": [
  {
   "cell_type": "markdown",
   "metadata": {},
   "source": [
    "## Лаба 2. Content-based рекомендательная система образовательных курсов – Spark Dataframes"
   ]
  },
  {
   "cell_type": "code",
   "execution_count": 1,
   "metadata": {},
   "outputs": [
    {
     "name": "stdout",
     "output_type": "stream",
     "text": [
      "Welcome to\n",
      "      ____              __\n",
      "     / __/__  ___ _____/ /__\n",
      "    _\\ \\/ _ \\/ _ `/ __/  '_/\n",
      "   /__ / .__/\\_,_/_/ /_/\\_\\   version 2.4.7\n",
      "      /_/\n",
      "\n",
      "Using Python version 3.6.5 (default, Apr 29 2018 16:14:56)\n",
      "SparkSession available as 'spark'.\n"
     ]
    }
   ],
   "source": [
    "import os\n",
    "import sys\n",
    "os.environ[\"PYSPARK_SUBMIT_ARGS\"]='--num-executors 3 pyspark-shell'\n",
    "os.environ[\"PYSPARK_PYTHON\"]='/opt/anaconda/envs/bd9/bin/python'\n",
    "os.environ[\"SPARK_HOME\"]='/usr/hdp/current/spark2-client'\n",
    "\n",
    "spark_home = os.environ.get('SPARK_HOME', None)\n",
    "if not spark_home:\n",
    "    raise ValueError('SPARK_HOME environment variable is not set')\n",
    "sys.path.insert(0, os.path.join(spark_home, 'python'))\n",
    "sys.path.insert(0, os.path.join(spark_home, 'python/lib/py4j-0.10.7-src.zip'))\n",
    "exec(open(os.path.join(spark_home, 'python/pyspark/shell.py')).read())"
   ]
  },
  {
   "cell_type": "code",
   "execution_count": 16,
   "metadata": {},
   "outputs": [],
   "source": [
    "from pyspark.ml.feature import HashingTF, IDF, Tokenizer, Normalizer, StopWordsRemover\n",
    "from pyspark.ml import Pipeline\n",
    "from pyspark.sql.functions import udf, col, isnan, isnull, broadcast, desc, lower\n",
    "from pyspark.sql.types import FloatType, ArrayType, StringType,DoubleType\n",
    "from pyspark.sql.functions import udf, col, isnan, isnull, broadcast, desc, lower, pandas_udf, row_number\n",
    "from pyspark.sql.functions import pandas_udf\n",
    "from pyspark.sql.window import Window\n",
    "import json\n",
    "import re"
   ]
  },
  {
   "cell_type": "code",
   "execution_count": 17,
   "metadata": {},
   "outputs": [
    {
     "data": {
      "text/plain": [
       "[[23126, 'en', 'Compass - powerful SASS library that makes your life easier'],\n",
       " [21617, 'en', 'Preparing for the AP* Computer Science A Exam — Part 2'],\n",
       " [16627, 'es', 'Aprende Excel: Nivel Intermedio by Alfonso Rinsche'],\n",
       " [11556,\n",
       "  'es',\n",
       "  'Aprendizaje Colaborativo by UNID Universidad Interamericana para el Desarrollo'],\n",
       " [16704, 'ru', 'Программирование на Lazarus'],\n",
       " [13702, 'ru', 'Математическая экономика']]"
      ]
     },
     "execution_count": 17,
     "metadata": {},
     "output_type": "execute_result"
    }
   ],
   "source": [
    "courses = [[23126, u'en', u'Compass - powerful SASS library that makes your life easier'], \n",
    "           [21617, u'en', u'Preparing for the AP* Computer Science A Exam \\u2014 Part 2'], \n",
    "           [16627, u'es', u'Aprende Excel: Nivel Intermedio by Alfonso Rinsche'], \n",
    "           [11556, u'es', u'Aprendizaje Colaborativo by UNID Universidad Interamericana para el Desarrollo'], \n",
    "           [16704, u'ru', u'\\u041f\\u0440\\u043e\\u0433\\u0440\\u0430\\u043c\\u043c\\u0438\\u0440\\u043e\\u0432\\u0430\\u043d\\u0438\\u0435 \\u043d\\u0430 Lazarus'], \n",
    "           [13702, u'ru', u'\\u041c\\u0430\\u0442\\u0435\\u043c\\u0430\\u0442\\u0438\\u0447\\u0435\\u0441\\u043a\\u0430\\u044f \\u044d\\u043a\\u043e\\u043d\\u043e\\u043c\\u0438\\u043a\\u0430']]\n",
    "courses"
   ]
  },
  {
   "cell_type": "code",
   "execution_count": 18,
   "metadata": {},
   "outputs": [],
   "source": [
    "data = spark.read.json(\"/labs/slaba02/DO_record_per_line.json\")"
   ]
  },
  {
   "cell_type": "code",
   "execution_count": 19,
   "metadata": {},
   "outputs": [
    {
     "name": "stdout",
     "output_type": "stream",
     "text": [
      "-RECORD 0-----------------------------------------------------------------------------------------------------------------------------------------------------------------------------------------------------------------------------------------------------------------------------------------------------------------------------------------------------------------------------------------------------------------------------------------------------------------------------------------------------------------------------------------------------------------------------------------------------------------------------------------------------------------------------------------------------------------------------------------------------------------------------------------------------------------------------------------------------------------------------------------------------------------------------------------------------------------------------------------------------------------------------------------------------------------------------------------------------------------------------------------------------------------------------------------\n",
      " cat      | 3/business_management|6/economics_finance                                                                                                                                                                                                                                                                                                                                                                                                                                                                                                                                                                                                                                                                                                                                                                                                                                                                                                                                                                                                                                                                                                                                             \n",
      " desc     | This course introduces the basic financial statements used by most businesses, as well as the essential tools used to prepare them. This course will serve as a resource to help business students succeed in their upcoming university-level accounting classes, and as a refresher for upper division accounting students who are struggling to recall elementary concepts essential to more advanced accounting topics. Business owners will also benefit from this class by gaining essential skills necessary to organize and manage information pertinent to operating their business. At the conclusion of the class, students will understand the balance sheet, income statement, and cash flow statement. They will be able to differentiate between cash basis and accrual basis techniques, and know when each is appropriate. They’ll also understand the accounting equation, how to journalize and post transactions, how to adjust and close accounts, and how to prepare key financial reports. All material for this class is written and delivered by the professor, and can be previewed here. Students must have access to a spreadsheet program to participate. \n",
      " id       | 4                                                                                                                                                                                                                                                                                                                                                                                                                                                                                                                                                                                                                                                                                                                                                                                                                                                                                                                                                                                                                                                                                                                                                                                     \n",
      " lang     | en                                                                                                                                                                                                                                                                                                                                                                                                                                                                                                                                                                                                                                                                                                                                                                                                                                                                                                                                                                                                                                                                                                                                                                                    \n",
      " name     | Accounting Cycle: The Foundation of Business Measurement and Reporting                                                                                                                                                                                                                                                                                                                                                                                                                                                                                                                                                                                                                                                                                                                                                                                                                                                                                                                                                                                                                                                                                                                \n",
      " provider | Canvas Network                                                                                                                                                                                                                                                                                                                                                                                                                                                                                                                                                                                                                                                                                                                                                                                                                                                                                                                                                                                                                                                                                                                                                                        \n",
      "only showing top 1 row\n",
      "\n"
     ]
    }
   ],
   "source": [
    "data.show(1,False,True)"
   ]
  },
  {
   "cell_type": "code",
   "execution_count": 20,
   "metadata": {},
   "outputs": [],
   "source": [
    "def clear_string(series):\n",
    "    regex = re.compile(u'[\\w\\d]{2,}', re.U)\n",
    "    words = series.str.lower().str.findall(regex)\n",
    "    return words\n",
    "\n",
    "tokenizer_udf = pandas_udf(clear_string, ArrayType(StringType()))"
   ]
  },
  {
   "cell_type": "code",
   "execution_count": 21,
   "metadata": {},
   "outputs": [
    {
     "name": "stdout",
     "output_type": "stream",
     "text": [
      "+--------------------+--------------------+---+----+--------------------+--------------+--------------------+--------------------+--------------------+--------------------+--------------------+\n",
      "|                 cat|                desc| id|lang|                name|      provider|                word|      words_filtered|         word_vector|             feature|   normalized_vector|\n",
      "+--------------------+--------------------+---+----+--------------------+--------------+--------------------+--------------------+--------------------+--------------------+--------------------+\n",
      "|3/business_manage...|This course intro...|  4|  en|Accounting Cycle:...|Canvas Network|[this, course, in...|[course, introduc...|(10000,[36,42,63,...|(10000,[36,42,63,...|(10000,[36,42,63,...|\n",
      "|              11/law|This online cours...|  5|  en|American Counter ...|Canvas Network|[this, online, co...|[online, course, ...|(10000,[32,222,29...|(10000,[32,222,29...|(10000,[32,222,29...|\n",
      "|5/computer_scienc...|This course is ta...|  6|  fr|Arithmétique: en ...|Canvas Network|[this, course, is...|[course, taught, ...|(10000,[30,41,246...|(10000,[30,41,246...|(10000,[30,41,246...|\n",
      "|  14/social_sciences|We live in a digi...|  7|  en|Becoming a Dynami...|Canvas Network|[we, live, in, a,...|[live, digitally,...|(10000,[493,721,8...|(10000,[493,721,8...|(10000,[493,721,8...|\n",
      "|2/biology_life_sc...|This self-paced c...|  8|  en|           Bioethics|Canvas Network|[this, self-paced...|[self-paced, cour...|(10000,[32,65,115...|(10000,[32,65,115...|(10000,[32,65,115...|\n",
      "+--------------------+--------------------+---+----+--------------------+--------------+--------------------+--------------------+--------------------+--------------------+--------------------+\n",
      "only showing top 5 rows\n",
      "\n"
     ]
    }
   ],
   "source": [
    "tokenizer = Tokenizer(inputCol=\"desc\", outputCol=\"word\")\n",
    "\n",
    "stop_words = (StopWordsRemover.loadDefaultStopWords('english') \n",
    "                  + StopWordsRemover.loadDefaultStopWords('russian') \n",
    "                  + StopWordsRemover.loadDefaultStopWords('spanish'))\n",
    "\n",
    "swr = StopWordsRemover(inputCol=tokenizer.getOutputCol(), outputCol=\"words_filtered\", stopWords=stop_words)\n",
    "\n",
    "hasher = HashingTF(numFeatures=10000, binary=True, inputCol=swr.getOutputCol(), outputCol=\"word_vector\")\n",
    "\n",
    "idf = IDF(inputCol=hasher.getOutputCol(), outputCol=\"feature\")\n",
    "\n",
    "normalizer = Normalizer(inputCol=idf.getOutputCol(), outputCol=\"normalized_vector\")\n",
    "\n",
    "pipeline = Pipeline(stages=[\n",
    "    tokenizer,\n",
    "    swr,\n",
    "    hasher,\n",
    "    idf,\n",
    "    normalizer\n",
    "])\n",
    "\n",
    "pipeline_model = pipeline.fit(data)\n",
    "data_feature = pipeline_model.transform(data)\n",
    "data_feature.show(5)"
   ]
  },
  {
   "cell_type": "code",
   "execution_count": 22,
   "metadata": {},
   "outputs": [],
   "source": [
    "dataset_my_courses = data_feature.filter((data_feature.id  == \"23126\")| \\\n",
    "                 (data_feature.id  == \"21617\")| \\\n",
    "                 (data_feature.id  == \"16627\")| \\\n",
    "                 (data_feature.id  == \"11556\")| \\\n",
    "                 (data_feature.id  == \"16704\")| \\\n",
    "                 (data_feature.id  == \"13702\"))"
   ]
  },
  {
   "cell_type": "code",
   "execution_count": 23,
   "metadata": {},
   "outputs": [],
   "source": [
    "dataset_courses = data_feature.join(dataset_my_courses, on=\"id\", how=\"leftanti\")"
   ]
  },
  {
   "cell_type": "code",
   "execution_count": 24,
   "metadata": {},
   "outputs": [
    {
     "name": "stdout",
     "output_type": "stream",
     "text": [
      "+-----+-------------+--------------------+-------------------+\n",
      "|   id|recomended_id|                name|                dot|\n",
      "+-----+-------------+--------------------+-------------------+\n",
      "|11556|        12679|Educación para el...|0.18277959626804818|\n",
      "|11556|        22710|Aplicaciones crea...|0.17304014404349366|\n",
      "|11556|        16488|Aprendizaje basad...| 0.1616972976518471|\n",
      "|11556|        17910|Desarrollo de ide...|0.13748244594526043|\n",
      "|11556|          468|Tecnologías de in...| 0.1300013405332623|\n",
      "|11556|          387|Matemáticas y Mov...|0.11516030556074294|\n",
      "|11556|        19394|herramientas gest...|0.11420282232417328|\n",
      "|11556|        18005|Fundamentos del M...|0.11384957033175985|\n",
      "|11556|          272|Desarrollo rápido...|0.11265771324278726|\n",
      "|11556|        12884|Liderazgo en gest...|0.10708631464665708|\n",
      "+-----+-------------+--------------------+-------------------+\n",
      "only showing top 10 rows\n",
      "\n"
     ]
    }
   ],
   "source": [
    "dot_udf = udf(lambda x,y: float(x.dot(y)), DoubleType())\n",
    "\n",
    "result = dataset_my_courses.alias(\"i\")\\\n",
    "    .join(dataset_courses.alias(\"j\"), col(\"i.lang\") == col(\"j.lang\"))\\\n",
    "    .select(\n",
    "        col(\"i.id\").alias(\"id\"), \n",
    "        col(\"j.id\").alias(\"recomended_id\"),\n",
    "        col(\"j.name\").alias(\"name\"),\n",
    "        dot_udf(\"i.normalized_vector\", \"j.normalized_vector\").alias(\"dot\")\n",
    "    )\\\n",
    "    .sort(col(\"id\"), col(\"dot\").desc(), col(\"name\"), col(\"recomended_id\"))\n",
    "\n",
    "result.show(10)"
   ]
  },
  {
   "cell_type": "code",
   "execution_count": 25,
   "metadata": {},
   "outputs": [],
   "source": [
    "windowSpec = Window.partitionBy(\"id\").orderBy(col(\"id\"), col(\"dot\").desc(), col(\"name\"), col(\"recomended_id\"))\n",
    "result = result.withColumn(\"row_number\", row_number().over(windowSpec)).filter(col(\"row_number\") <= 10)"
   ]
  },
  {
   "cell_type": "code",
   "execution_count": 26,
   "metadata": {},
   "outputs": [],
   "source": [
    "result_driver = result.select(col(\"id\"), col(\"recomended_id\")).collect()"
   ]
  },
  {
   "cell_type": "code",
   "execution_count": 27,
   "metadata": {},
   "outputs": [
    {
     "data": {
      "text/plain": [
       "{23126: [25782, 23718, 7222, 14760, 23822, 11528, 24373, 5550, 13665, 25468],\n",
       " 16627: [11431, 12247, 16694, 5356, 9563, 5680, 5687, 23506, 17964, 23369],\n",
       " 13702: [864, 21079, 13057, 1041, 1033, 915, 1217, 1216, 1173, 21025],\n",
       " 16704: [1236, 8186, 1164, 1365, 875, 8207, 8154, 1376, 1219, 20645],\n",
       " 11556: [12679, 22710, 16488, 17910, 468, 387, 19394, 18005, 272, 12884],\n",
       " 21617: [21609, 21608, 21616, 21492, 21700, 21716, 21703, 21706, 21587, 21618]}"
      ]
     },
     "execution_count": 27,
     "metadata": {},
     "output_type": "execute_result"
    }
   ],
   "source": [
    "result_json = {}\n",
    "for x in result_driver:\n",
    "    if x.id not in result_json:\n",
    "        result_json[x.id] = []\n",
    "    result_json[x.id].append(x.recomended_id)\n",
    "result_json"
   ]
  },
  {
   "cell_type": "code",
   "execution_count": null,
   "metadata": {},
   "outputs": [],
   "source": [
    "import json\n",
    "\n",
    "with open('lab02.json', 'w', encoding='utf-8') as f:\n",
    "    f.write(json.dumps(result_json))"
   ]
  },
  {
   "cell_type": "code",
   "execution_count": 28,
   "metadata": {},
   "outputs": [],
   "source": [
    "spark.stop()"
   ]
  },
  {
   "cell_type": "code",
   "execution_count": null,
   "metadata": {},
   "outputs": [],
   "source": []
  }
 ],
 "metadata": {
  "kernelspec": {
   "display_name": "Python 3",
   "language": "python",
   "name": "python3"
  },
  "language_info": {
   "codemirror_mode": {
    "name": "ipython",
    "version": 3
   },
   "file_extension": ".py",
   "mimetype": "text/x-python",
   "name": "python",
   "nbconvert_exporter": "python",
   "pygments_lexer": "ipython3",
   "version": "3.6.5"
  }
 },
 "nbformat": 4,
 "nbformat_minor": 2
}
