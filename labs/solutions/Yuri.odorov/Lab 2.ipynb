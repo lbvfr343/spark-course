{
 "cells": [
  {
   "cell_type": "code",
   "execution_count": 1,
   "metadata": {},
   "outputs": [
    {
     "name": "stdout",
     "output_type": "stream",
     "text": [
      "Welcome to\n",
      "      ____              __\n",
      "     / __/__  ___ _____/ /__\n",
      "    _\\ \\/ _ \\/ _ `/ __/  '_/\n",
      "   /__ / .__/\\_,_/_/ /_/\\_\\   version 2.4.7\n",
      "      /_/\n",
      "\n",
      "Using Python version 3.6.5 (default, Apr 29 2018 16:14:56)\n",
      "SparkSession available as 'spark'.\n"
     ]
    }
   ],
   "source": [
    "import os\n",
    "import sys\n",
    "os.environ[\"PYSPARK_PYTHON\"]='/opt/anaconda/envs/bd9/bin/python'\n",
    "os.environ[\"SPARK_HOME\"]='/usr/hdp/current/spark2-client'\n",
    "os.environ[\"PYSPARK_SUBMIT_ARGS\"]='--num-executors 5 --executor-memory 4g --executor-cores 1 --driver-memory 2g pyspark-shell'\n",
    "\n",
    "spark_home = os.environ.get('SPARK_HOME', None)\n",
    "if not spark_home:\n",
    "    raise ValueError('SPARK_HOME environment variable is not set')\n",
    "\n",
    "sys.path.insert(0, os.path.join(spark_home, 'python'))\n",
    "sys.path.insert(0, os.path.join(spark_home, 'python/lib/py4j-0.10.7-src.zip'))\n",
    "exec(open(os.path.join(spark_home, 'python/pyspark/shell.py')).read())"
   ]
  },
  {
   "cell_type": "code",
   "execution_count": 2,
   "metadata": {},
   "outputs": [],
   "source": [
    "from pyspark.ml.feature import HashingTF, IDF, Tokenizer, StopWordsRemover\n",
    "from pyspark import SparkConf\n",
    "from pyspark.sql import SparkSession\n",
    "from pyspark.sql import functions as F\n",
    "from pyspark.sql.types import *\n",
    "from pyspark import Row\n",
    "import json\n",
    "from pyspark.ml.linalg import Vectors\n",
    "import pyspark.sql.functions as f\n",
    "import re\n",
    "from pyspark.sql.functions import udf\n",
    "\n",
    "conf = SparkConf()\n",
    "\n",
    "spark = (SparkSession\n",
    "         .builder\n",
    "         .config(conf=conf)\n",
    "         .appName(\"test\")\n",
    "         .getOrCreate())"
   ]
  },
  {
   "cell_type": "code",
   "execution_count": 3,
   "metadata": {},
   "outputs": [],
   "source": [
    "@f.pandas_udf(ArrayType(StringType()))\n",
    "def reg(object):\n",
    "    regex = re.compile(u'[\\w\\d]{2,}', re.U)\n",
    "    return object.apply(lambda x: regex.findall(x.lower()))\n",
    "\n",
    "def cos_(x, y):\n",
    "    if(x == None or y == None):\n",
    "        return np.nan\n",
    "    else:\n",
    "        if float(x.norm(2)*y.norm(2))!=0:\n",
    "            return float(x.dot(y)/(x.norm(2)*y.norm(2)))\n",
    "        else:\n",
    "            return float(-1)\n",
    "        \n",
    "cosinus_ = udf(lambda x,y: cos_(x, y), DoubleType())"
   ]
  },
  {
   "cell_type": "code",
   "execution_count": 4,
   "metadata": {},
   "outputs": [],
   "source": [
    "courses = [[23126, u'en', u'Compass - powerful SASS library that makes your life easier'], [21617, u'en', u'Preparing for the AP* Computer Science A Exam \\u2014 Part 2'], [16627, u'es', u'Aprende Excel: Nivel Intermedio by Alfonso Rinsche'], [11556, u'es', u'Aprendizaje Colaborativo by UNID Universidad Interamericana para el Desarrollo'], [16704, u'ru', u'\\u041f\\u0440\\u043e\\u0433\\u0440\\u0430\\u043c\\u043c\\u0438\\u0440\\u043e\\u0432\\u0430\\u043d\\u0438\\u0435 \\u043d\\u0430 Lazarus'], [13702, u'ru', u'\\u041c\\u0430\\u0442\\u0435\\u043c\\u0430\\u0442\\u0438\\u0447\\u0435\\u0441\\u043a\\u0430\\u044f \\u044d\\u043a\\u043e\\u043d\\u043e\\u043c\\u0438\\u043a\\u0430']]"
   ]
  },
  {
   "cell_type": "code",
   "execution_count": 5,
   "metadata": {},
   "outputs": [
    {
     "name": "stdout",
     "output_type": "stream",
     "text": [
      "CPU times: user 183 ms, sys: 76.6 ms, total: 260 ms\n",
      "Wall time: 1min 9s\n"
     ]
    }
   ],
   "source": [
    "%%time\n",
    "df = spark.read\\\n",
    "          .format(\"json\")\\\n",
    "          .load(\"/labs/slaba02/DO_record_per_line.json\")\n",
    "\n",
    "df2 = df.withColumn(\"words\", reg(\"desc\"))\n",
    "df2_en = df2.filter(df2.lang == 'en')\n",
    "df2_es = df2.filter(df2.lang == 'es')\n",
    "df2_ru = df2.filter(df2.lang == 'ru')\n",
    "hasher_freq = HashingTF(numFeatures=10000, binary=False, inputCol='words', outputCol=\"word_vector_freq\")\n",
    "dataset2_freq_en = hasher_freq.transform(df2_en)\n",
    "dataset2_freq_es = hasher_freq.transform(df2_es)\n",
    "dataset2_freq_ru = hasher_freq.transform(df2_ru)\n",
    "IDF_func = IDF(inputCol='word_vector_freq', outputCol=\"IDF_col\")\n",
    "IDF_model_en = IDF_func.fit(dataset2_freq_en)\n",
    "IDF_model_es = IDF_func.fit(dataset2_freq_es)\n",
    "IDF_model_ru = IDF_func.fit(dataset2_freq_ru)\n",
    "dataset_result_en = IDF_model_en.transform(dataset2_freq_en)\n",
    "dataset_result_es = IDF_model_es.transform(dataset2_freq_es)\n",
    "dataset_result_ru = IDF_model_ru.transform(dataset2_freq_ru)\n",
    "dataset_result_all = dataset_result_en.union(dataset_result_es).union(dataset_result_ru).cache()\n",
    "result = {}\n",
    "for i in range(len(courses)):\n",
    "    kurs = dataset_result_all.filter(dataset_result_en.id == courses[i][0])\\\n",
    "    .select('id', 'desc', 'lang', 'IDF_col')\\\n",
    "    .withColumnRenamed('id', 'id2').withColumnRenamed('IDF_col', 'IDF_col2').withColumnRenamed('desc', 'desc2')\n",
    "    \n",
    "    pull_kurs = kurs.join(dataset_result_all, kurs.lang == dataset_result_all.lang, 'leftouter')\\\n",
    "    .filter(f.col('id2') != f.col('id'))\\\n",
    "    .withColumn('similarity', cosinus_('IDF_col', 'IDF_col2')).cache()\n",
    "    \n",
    "    prov__ = pull_kurs.select('id', 'id2', 'similarity', 'name')\\\n",
    "    .orderBy(F.col('similarity').desc(), F.col('name'), F.col('id'))\\\n",
    "    .select('id').limit(10).toPandas()\n",
    "    result[courses[i][0]] = list(prov__['id'])"
   ]
  },
  {
   "cell_type": "code",
   "execution_count": 6,
   "metadata": {},
   "outputs": [],
   "source": [
    "import json\n",
    "with open('lab02.json', 'w') as outfile:\n",
    "    json.dump(result, outfile)"
   ]
  },
  {
   "cell_type": "code",
   "execution_count": 7,
   "metadata": {},
   "outputs": [],
   "source": [
    "spark.stop()"
   ]
  },
  {
   "cell_type": "code",
   "execution_count": null,
   "metadata": {},
   "outputs": [],
   "source": []
  }
 ],
 "metadata": {
  "kernelspec": {
   "display_name": "Python 3",
   "language": "python",
   "name": "python3"
  },
  "language_info": {
   "codemirror_mode": {
    "name": "ipython",
    "version": 3
   },
   "file_extension": ".py",
   "mimetype": "text/x-python",
   "name": "python",
   "nbconvert_exporter": "python",
   "pygments_lexer": "ipython3",
   "version": "3.6.5"
  }
 },
 "nbformat": 4,
 "nbformat_minor": 2
}
