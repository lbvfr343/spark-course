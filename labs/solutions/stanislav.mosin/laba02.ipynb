{
 "cells": [
  {
   "cell_type": "code",
   "execution_count": 1,
   "metadata": {},
   "outputs": [],
   "source": [
    "import os\n",
    "import sys\n",
    "os.environ[\"PYSPARK_PYTHON\"]='/opt/anaconda/envs/bd9/bin/python'\n",
    "os.environ[\"SPARK_HOME\"]='/usr/hdp/current/spark2-client'\n",
    "os.environ[\"PYSPARK_SUBMIT_ARGS\"]='--num-executors 5 --executor-memory 4g --executor-cores 1 --driver-memory 2g pyspark-shell'\n",
    "\n",
    "spark_home = os.environ.get('SPARK_HOME', None)\n",
    "\n",
    "sys.path.insert(0, os.path.join(spark_home, 'python'))\n",
    "sys.path.insert(0, os.path.join(spark_home, 'python/lib/py4j-0.10.7-src.zip'))"
   ]
  },
  {
   "cell_type": "code",
   "execution_count": 2,
   "metadata": {},
   "outputs": [],
   "source": [
    "from pyspark import SparkConf\n",
    "from pyspark.sql import SparkSession\n",
    "\n",
    "conf = SparkConf()\n",
    "conf.set(\"spark.app.name\", \"ML app\") \n",
    "\n",
    "spark = SparkSession.builder.config(conf=conf).getOrCreate()"
   ]
  },
  {
   "cell_type": "code",
   "execution_count": 200,
   "metadata": {},
   "outputs": [],
   "source": [
    "spark.stop()"
   ]
  },
  {
   "cell_type": "code",
   "execution_count": 3,
   "metadata": {
    "scrolled": true
   },
   "outputs": [
    {
     "data": {
      "text/html": [
       "\n",
       "            <div>\n",
       "                <p><b>SparkSession - in-memory</b></p>\n",
       "                \n",
       "        <div>\n",
       "            <p><b>SparkContext</b></p>\n",
       "\n",
       "            <p><a href=\"http://spark-master-5.newprolab.com:4042\">Spark UI</a></p>\n",
       "\n",
       "            <dl>\n",
       "              <dt>Version</dt>\n",
       "                <dd><code>v2.4.7</code></dd>\n",
       "              <dt>Master</dt>\n",
       "                <dd><code>yarn</code></dd>\n",
       "              <dt>AppName</dt>\n",
       "                <dd><code>ML app</code></dd>\n",
       "            </dl>\n",
       "        </div>\n",
       "        \n",
       "            </div>\n",
       "        "
      ],
      "text/plain": [
       "<pyspark.sql.session.SparkSession at 0x7fe3fbcc8518>"
      ]
     },
     "execution_count": 3,
     "metadata": {},
     "output_type": "execute_result"
    }
   ],
   "source": [
    "spark"
   ]
  },
  {
   "cell_type": "code",
   "execution_count": 4,
   "metadata": {},
   "outputs": [
    {
     "data": {
      "text/plain": [
       "DataFrame[cat: string, desc: string, id: bigint, lang: string, name: string, provider: string]"
      ]
     },
     "execution_count": 4,
     "metadata": {},
     "output_type": "execute_result"
    }
   ],
   "source": [
    "dataset_test = spark.read.json(\"/labs/slaba02/DO_record_per_line.json\")\n",
    "dataset_test"
   ]
  },
  {
   "cell_type": "code",
   "execution_count": 32,
   "metadata": {
    "scrolled": true
   },
   "outputs": [
    {
     "data": {
      "text/plain": [
       "[Row(id=4, desc='This course introduces the basic financial statements used by most businesses, as well as the essential tools used to prepare them. This course will serve as a resource to help business students succeed in their upcoming university-level accounting classes, and as a refresher for upper division accounting students who are struggling to recall elementary concepts essential to more advanced accounting topics. Business owners will also benefit from this class by gaining essential skills necessary to organize and manage information pertinent to operating their business. At the conclusion of the class, students will understand the balance sheet, income statement, and cash flow statement. They will be able to differentiate between cash basis and accrual basis techniques, and know when each is appropriate. They’ll also understand the accounting equation, how to journalize and post transactions, how to adjust and close accounts, and how to prepare key financial reports. All material for this class is written and delivered by the professor, and can be previewed here. Students must have access to a spreadsheet program to participate.', name='Accounting Cycle: The Foundation of Business Measurement and Reporting', lang='en')]"
      ]
     },
     "execution_count": 32,
     "metadata": {},
     "output_type": "execute_result"
    }
   ],
   "source": [
    "dataset = spark.read.json(\"/labs/slaba02/DO_record_per_line.json\")[[\"id\", \"desc\", \"name\", \"lang\"]]\n",
    "#dataset[[\"id\", \"lang\", \"desc\"]].take(1)\n",
    "dataset.take(1)"
   ]
  },
  {
   "cell_type": "code",
   "execution_count": 6,
   "metadata": {
    "scrolled": true
   },
   "outputs": [],
   "source": [
    "from pyspark.ml.feature import HashingTF, IDF, Tokenizer"
   ]
  },
  {
   "cell_type": "code",
   "execution_count": 33,
   "metadata": {},
   "outputs": [],
   "source": [
    "tokenizer = Tokenizer(inputCol=\"desc\", outputCol=\"words\")\n",
    "wordsData = tokenizer.transform(dataset)"
   ]
  },
  {
   "cell_type": "code",
   "execution_count": 186,
   "metadata": {},
   "outputs": [],
   "source": [
    "hashingTF = HashingTF(inputCol=\"words\", outputCol=\"rawFeatures\", numFeatures=100000)\n",
    "featurizedData = hashingTF.transform(wordsData)"
   ]
  },
  {
   "cell_type": "code",
   "execution_count": 187,
   "metadata": {},
   "outputs": [],
   "source": [
    "idf = IDF(inputCol=\"rawFeatures\", outputCol=\"features\")\n",
    "idfModel = idf.fit(featurizedData)\n",
    "rescaledData = idfModel.transform(featurizedData)"
   ]
  },
  {
   "cell_type": "code",
   "execution_count": 188,
   "metadata": {},
   "outputs": [
    {
     "name": "stdout",
     "output_type": "stream",
     "text": [
      "+-----+--------------------+\n",
      "|   id|            features|\n",
      "+-----+--------------------+\n",
      "|23126|(100000,[1197,125...|\n",
      "+-----+--------------------+\n",
      "\n"
     ]
    }
   ],
   "source": [
    "rescaledData.select(\"id\", \"features\").where(\"id = 23126\").show(1)"
   ]
  },
  {
   "cell_type": "markdown",
   "metadata": {},
   "source": [
    "-цикл по нескольким ИД:\n",
    "-из дата фрейма получить вектор конкретного ИД\n",
    "-расчитать меру со всеми другими ИД\n",
    "-отсортировать по убыванию меры и взять первые 10\n",
    "-записать результат в список"
   ]
  },
  {
   "cell_type": "code",
   "execution_count": 41,
   "metadata": {},
   "outputs": [],
   "source": [
    "from pyspark.ml.linalg import Vectors"
   ]
  },
  {
   "cell_type": "code",
   "execution_count": 45,
   "metadata": {},
   "outputs": [],
   "source": [
    "import pyspark.sql.functions as f"
   ]
  },
  {
   "cell_type": "code",
   "execution_count": 46,
   "metadata": {},
   "outputs": [],
   "source": [
    "from pyspark.sql.types import FloatType"
   ]
  },
  {
   "cell_type": "code",
   "execution_count": 48,
   "metadata": {},
   "outputs": [],
   "source": [
    "from pyspark.ml.linalg import DenseVector, SparseVector"
   ]
  },
  {
   "cell_type": "code",
   "execution_count": 49,
   "metadata": {},
   "outputs": [],
   "source": [
    "from pyspark.sql.functions import udf,col"
   ]
  },
  {
   "cell_type": "code",
   "execution_count": 189,
   "metadata": {},
   "outputs": [],
   "source": [
    "rescaledData_aim = rescaledData.filter(rescaledData.id.isin([23126, 21617, 16627, 11556, 16704, 13702]))\\\n",
    "                               .select(rescaledData.id.alias(\"id_aim\"), rescaledData.name.alias(\"name_aim\")\\\n",
    "                                       ,rescaledData.lang.alias(\"lang_aim\"), rescaledData.features.alias(\"features_aim\"))"
   ]
  },
  {
   "cell_type": "code",
   "execution_count": 190,
   "metadata": {},
   "outputs": [
    {
     "data": {
      "text/plain": [
       "28153"
      ]
     },
     "execution_count": 190,
     "metadata": {},
     "output_type": "execute_result"
    }
   ],
   "source": [
    "rescaledData.count()"
   ]
  },
  {
   "cell_type": "code",
   "execution_count": 77,
   "metadata": {
    "scrolled": true
   },
   "outputs": [
    {
     "name": "stdout",
     "output_type": "stream",
     "text": [
      "+------+--------------------+--------+--------------------+\n",
      "|id_aim|            name_aim|lang_aim|        features_aim|\n",
      "+------+--------------------+--------+--------------------+\n",
      "| 11556|Aprendizaje Colab...|      es|(1000,[3,19,31,34...|\n",
      "| 13702|Математическая эк...|      ru|(1000,[172,203,31...|\n",
      "| 16627|Aprende Excel: Ni...|      es|(1000,[3,7,29,30,...|\n",
      "| 16704|Программирование ...|      ru|(1000,[32,103,144...|\n",
      "| 21617|Preparing for the...|      en|(1000,[0,3,6,18,2...|\n",
      "| 23126|Compass - powerfu...|      en|(1000,[6,13,18,22...|\n",
      "+------+--------------------+--------+--------------------+\n",
      "\n"
     ]
    }
   ],
   "source": [
    "rescaledData_aim.show()"
   ]
  },
  {
   "cell_type": "code",
   "execution_count": 67,
   "metadata": {},
   "outputs": [
    {
     "data": {
      "text/plain": [
       "168918"
      ]
     },
     "execution_count": 67,
     "metadata": {},
     "output_type": "execute_result"
    }
   ],
   "source": [
    "28153 * 6"
   ]
  },
  {
   "cell_type": "code",
   "execution_count": 191,
   "metadata": {},
   "outputs": [],
   "source": [
    "df = rescaledData.crossJoin(rescaledData_aim)"
   ]
  },
  {
   "cell_type": "code",
   "execution_count": 88,
   "metadata": {
    "scrolled": false
   },
   "outputs": [
    {
     "name": "stdout",
     "output_type": "stream",
     "text": [
      "+---+--------------------+--------------------+----+--------------------+--------------------+--------------------+------+--------------------+--------+--------------------+\n",
      "| id|                desc|                name|lang|               words|         rawFeatures|            features|id_aim|            name_aim|lang_aim|        features_aim|\n",
      "+---+--------------------+--------------------+----+--------------------+--------------------+--------------------+------+--------------------+--------+--------------------+\n",
      "|  4|This course intro...|Accounting Cycle:...|  en|[this, course, in...|(1000,[8,15,17,23...|(1000,[8,15,17,23...| 11556|Aprendizaje Colab...|      es|(1000,[3,19,31,34...|\n",
      "|  4|This course intro...|Accounting Cycle:...|  en|[this, course, in...|(1000,[8,15,17,23...|(1000,[8,15,17,23...| 13702|Математическая эк...|      ru|(1000,[172,203,31...|\n",
      "+---+--------------------+--------------------+----+--------------------+--------------------+--------------------+------+--------------------+--------+--------------------+\n",
      "only showing top 2 rows\n",
      "\n"
     ]
    }
   ],
   "source": [
    "rescaledData.crossJoin(rescaledData_aim).show(2)"
   ]
  },
  {
   "cell_type": "code",
   "execution_count": 192,
   "metadata": {},
   "outputs": [],
   "source": [
    "function = udf(lambda x, y: float(x.dot(y) / (x.norm(2) * y.norm(2))), FloatType())"
   ]
  },
  {
   "cell_type": "code",
   "execution_count": 193,
   "metadata": {
    "scrolled": true
   },
   "outputs": [],
   "source": [
    "df_cosine = df.withColumn(\"cosine_dist\", function(\"features\", \"features_aim\"))"
   ]
  },
  {
   "cell_type": "code",
   "execution_count": 194,
   "metadata": {},
   "outputs": [
    {
     "name": "stdout",
     "output_type": "stream",
     "text": [
      "+----+----+--------------------+----+-----+--------------+--------------+------+--------------------+--------+--------------------+-----------+\n",
      "|  id|desc|                name|lang|words|   rawFeatures|      features|id_aim|            name_aim|lang_aim|        features_aim|cosine_dist|\n",
      "+----+----+--------------------+----+-----+--------------+--------------+------+--------------------+--------+--------------------+-----------+\n",
      "|8571|    |Adjust the Bust: ...|  en|   []|(100000,[],[])|(100000,[],[])| 11556|Aprendizaje Colab...|      es|(100000,[3487,379...|        NaN|\n",
      "|8571|    |Adjust the Bust: ...|  en|   []|(100000,[],[])|(100000,[],[])| 13702|Математическая эк...|      ru|(100000,[2172,694...|        NaN|\n",
      "|8571|    |Adjust the Bust: ...|  en|   []|(100000,[],[])|(100000,[],[])| 16627|Aprende Excel: Ni...|      es|(100000,[30,939,1...|        NaN|\n",
      "|8571|    |Adjust the Bust: ...|  en|   []|(100000,[],[])|(100000,[],[])| 16704|Программирование ...|      ru|(100000,[381,3610...|        NaN|\n",
      "|8571|    |Adjust the Bust: ...|  en|   []|(100000,[],[])|(100000,[],[])| 21617|Preparing for the...|      en|(100000,[537,1369...|        NaN|\n",
      "|8571|    |Adjust the Bust: ...|  en|   []|(100000,[],[])|(100000,[],[])| 23126|Compass - powerfu...|      en|(100000,[1197,125...|        NaN|\n",
      "+----+----+--------------------+----+-----+--------------+--------------+------+--------------------+--------+--------------------+-----------+\n",
      "\n"
     ]
    }
   ],
   "source": [
    "df_cosine.filter(df_cosine.id == 8571).show(10)"
   ]
  },
  {
   "cell_type": "code",
   "execution_count": 98,
   "metadata": {},
   "outputs": [],
   "source": [
    "my_list = [23126, 21617, 16627, 11556, 16704, 13702]"
   ]
  },
  {
   "cell_type": "code",
   "execution_count": 97,
   "metadata": {},
   "outputs": [],
   "source": [
    "import json"
   ]
  },
  {
   "cell_type": "code",
   "execution_count": 179,
   "metadata": {},
   "outputs": [],
   "source": [
    "import pyspark.sql.functions as sf\n",
    "#df.filter(sf.size('column_with_lists') > 0)"
   ]
  },
  {
   "cell_type": "code",
   "execution_count": 181,
   "metadata": {},
   "outputs": [
    {
     "data": {
      "text/plain": [
       "[Row(id=10764, cosine_dist=0.4965316653251648, name='Aptitude Interview Questions For Job Interviews & Examinations'),\n",
       " Row(id=24419, cosine_dist=0.475035697221756, name='Learn the 7 Mindsets to live your Ultimate Life'),\n",
       " Row(id=9949, cosine_dist=0.4676150977611542, name='How to Use YouTube Live Events for Your Business by Video Editor, YouTube Marketer Marc Bullard'),\n",
       " Row(id=5114, cosine_dist=0.46372050046920776, name='Learn Delicious Vegan Recipes : Online Cooking Classes'),\n",
       " Row(id=13782, cosine_dist=0.46329018473625183, name='Assembling Sass Part 2'),\n",
       " Row(id=13665, cosine_dist=0.45630595088005066, name='The Next Step with Sass and Compass by Lisa Catalano'),\n",
       " Row(id=13727, cosine_dist=0.4556930661201477, name='Effective Events Management by EduCBA Academy for Business Studies'),\n",
       " Row(id=23478, cosine_dist=0.4395541250705719, name='Entrepreneurs: How to Use Live Events to Grow Your Business!'),\n",
       " Row(id=20638, cosine_dist=0.4180535674095154, name='Introduction to Photo Compositing'),\n",
       " Row(id=2724, cosine_dist=0.40073928236961365, name='Interactive and Non-Linear Narrative: Theory and Practice (Spring 2006)')]"
      ]
     },
     "execution_count": 181,
     "metadata": {},
     "output_type": "execute_result"
    }
   ],
   "source": [
    "df_cosine.select(\"id\", \"cosine_dist\",\"name\").filter(df_cosine.id_aim == 23126)\\\n",
    "         .where(\"id <> id_aim and lang = lang_aim\").filter(sf.size('words') > 0)\\\n",
    "         .sort(col(\"cosine_dist\").desc(), col(\"name\").asc(), col(\"id\").asc()).take(10)\n",
    "         #.take(10)"
   ]
  },
  {
   "cell_type": "code",
   "execution_count": null,
   "metadata": {},
   "outputs": [],
   "source": [
    "[Row(id=6527, cosine_dist=0.07960835844278336),\n",
    " Row(id=6528, cosine_dist=0.08900269120931625),\n",
    " Row(id=6529, cosine_dist=0.11000870913267136),\n",
    " Row(id=6530, cosine_dist=0.09787169843912125),\n",
    " Row(id=6531, cosine_dist=0.09348708391189575),\n",
    " Row(id=6532, cosine_dist=0.1195501908659935),\n",
    " Row(id=6533, cosine_dist=0.123387411236763),\n",
    " Row(id=6534, cosine_dist=0.1351056843996048),\n",
    " Row(id=6535, cosine_dist=0.11342219263315201),\n",
    " Row(id=6536, cosine_dist=0.11445394903421402)]"
   ]
  },
  {
   "cell_type": "code",
   "execution_count": 195,
   "metadata": {
    "scrolled": true
   },
   "outputs": [
    {
     "data": {
      "text/plain": [
       "DataFrame[id: bigint, desc: string, name: string, lang: string, words: array<string>, rawFeatures: vector, features: vector, id_aim: bigint, name_aim: string, lang_aim: string, features_aim: vector, cosine_dist: float]"
      ]
     },
     "execution_count": 195,
     "metadata": {},
     "output_type": "execute_result"
    }
   ],
   "source": [
    "df_cosine.coalesce(6).cache()"
   ]
  },
  {
   "cell_type": "code",
   "execution_count": 196,
   "metadata": {},
   "outputs": [
    {
     "data": {
      "text/plain": [
       "[[23126,\n",
       "  [13782, 13665, 25782, 14760, 15909, 13348, 17499, 25071, 17329, 7153]],\n",
       " [21617,\n",
       "  [21609, 21608, 21616, 21492, 21624, 21623, 21630, 21628, 21508, 21506]],\n",
       " [16627, [11431, 12247, 25010, 13021, 5687, 11575, 12660, 12863, 5372, 22680]],\n",
       " [11556, [16488, 13461, 468, 23357, 16929, 22710, 387, 19330, 9289, 10447]],\n",
       " [16704, [1164, 1236, 1365, 20645, 1426, 20105, 18331, 875, 8207, 8217]],\n",
       " [13702, [864, 1052, 13057, 8313, 1216, 21079, 8082, 1426, 20105, 28074]]]"
      ]
     },
     "execution_count": 196,
     "metadata": {},
     "output_type": "execute_result"
    }
   ],
   "source": [
    "ans = []\n",
    "for l in my_list:\n",
    "    temp = df_cosine.select(\"id\").filter(df_cosine.id_aim == l)\\\n",
    "                   .where(\"id <> id_aim and lang = lang_aim\").filter(sf.size('words') > 0)\\\n",
    "                   .sort(col(\"cosine_dist\").desc(), col(\"name\").asc(), col(\"id\").asc())\\\n",
    "                   .take(10)\n",
    "    ans_final = list(map(lambda x: int(str(x)[str(x).find(\"=\")+1:str(x).find(\")\")]) , temp))\n",
    "    ans.append([l,ans_final])\n",
    "ans"
   ]
  },
  {
   "cell_type": "code",
   "execution_count": 197,
   "metadata": {},
   "outputs": [],
   "source": [
    "with open('lab02.json', 'w') as f:\n",
    "    json.dump(dict(ans), f)"
   ]
  },
  {
   "cell_type": "code",
   "execution_count": 198,
   "metadata": {
    "scrolled": true
   },
   "outputs": [
    {
     "data": {
      "text/plain": [
       "{23126: [13782, 13665, 25782, 14760, 15909, 13348, 17499, 25071, 17329, 7153],\n",
       " 21617: [21609, 21608, 21616, 21492, 21624, 21623, 21630, 21628, 21508, 21506],\n",
       " 16627: [11431, 12247, 25010, 13021, 5687, 11575, 12660, 12863, 5372, 22680],\n",
       " 11556: [16488, 13461, 468, 23357, 16929, 22710, 387, 19330, 9289, 10447],\n",
       " 16704: [1164, 1236, 1365, 20645, 1426, 20105, 18331, 875, 8207, 8217],\n",
       " 13702: [864, 1052, 13057, 8313, 1216, 21079, 8082, 1426, 20105, 28074]}"
      ]
     },
     "execution_count": 198,
     "metadata": {},
     "output_type": "execute_result"
    }
   ],
   "source": [
    "dict(ans)"
   ]
  },
  {
   "cell_type": "code",
   "execution_count": 199,
   "metadata": {},
   "outputs": [
    {
     "name": "stdout",
     "output_type": "stream",
     "text": [
      "{'23126': [13782, 13665, 25782, 14760, 15909, 13348, 17499, 25071, 17329, 7153], '21617': [21609, 21608, 21616, 21492, 21624, 21623, 21630, 21628, 21508, 21506], '16627': [11431, 12247, 25010, 13021, 5687, 11575, 12660, 12863, 5372, 22680], '11556': [16488, 13461, 468, 23357, 16929, 22710, 387, 19330, 9289, 10447], '16704': [1164, 1236, 1365, 20645, 1426, 20105, 18331, 875, 8207, 8217], '13702': [864, 1052, 13057, 8313, 1216, 21079, 8082, 1426, 20105, 28074]}\n"
     ]
    }
   ],
   "source": [
    "f = open('lab02.json')\n",
    "data = json.load(f)\n",
    "print(data)"
   ]
  },
  {
   "cell_type": "code",
   "execution_count": null,
   "metadata": {},
   "outputs": [],
   "source": []
  },
  {
   "cell_type": "code",
   "execution_count": null,
   "metadata": {},
   "outputs": [],
   "source": []
  },
  {
   "cell_type": "code",
   "execution_count": null,
   "metadata": {},
   "outputs": [],
   "source": []
  }
 ],
 "metadata": {
  "kernelspec": {
   "display_name": "Python 3",
   "language": "python",
   "name": "python3"
  },
  "language_info": {
   "codemirror_mode": {
    "name": "ipython",
    "version": 3
   },
   "file_extension": ".py",
   "mimetype": "text/x-python",
   "name": "python",
   "nbconvert_exporter": "python",
   "pygments_lexer": "ipython3",
   "version": "3.6.5"
  }
 },
 "nbformat": 4,
 "nbformat_minor": 2
}
