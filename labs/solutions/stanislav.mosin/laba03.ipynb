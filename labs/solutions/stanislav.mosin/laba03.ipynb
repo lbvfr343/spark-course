{
 "cells": [
  {
   "cell_type": "code",
   "execution_count": 1,
   "metadata": {},
   "outputs": [],
   "source": [
    "import os\n",
    "import sys\n",
    "os.environ[\"PYSPARK_PYTHON\"]='/opt/anaconda/envs/bd9/bin/python'\n",
    "os.environ[\"SPARK_HOME\"]='/usr/hdp/current/spark2-client'\n",
    "os.environ[\"PYSPARK_SUBMIT_ARGS\"]='--num-executors 5 --executor-memory 4g --executor-cores 1 --driver-memory 2g pyspark-shell'\n",
    "\n",
    "spark_home = os.environ.get('SPARK_HOME', None)\n",
    "\n",
    "sys.path.insert(0, os.path.join(spark_home, 'python'))\n",
    "sys.path.insert(0, os.path.join(spark_home, 'python/lib/py4j-0.10.7-src.zip'))\n"
   ]
  },
  {
   "cell_type": "code",
   "execution_count": 2,
   "metadata": {},
   "outputs": [],
   "source": [
    "from pyspark import SparkConf\n",
    "from pyspark.sql import SparkSession\n",
    "\n",
    "conf = SparkConf()\n",
    "conf.set(\"spark.app.name\", \"ML app\") \n",
    "\n",
    "spark = SparkSession.builder.config(conf=conf).getOrCreate()"
   ]
  },
  {
   "cell_type": "code",
   "execution_count": 3,
   "metadata": {},
   "outputs": [],
   "source": [
    "from pyspark.sql.types import StructType, StructField, IntegerType, DoubleType"
   ]
  },
  {
   "cell_type": "code",
   "execution_count": 4,
   "metadata": {},
   "outputs": [],
   "source": [
    "# USERS PURCHASES\n",
    "\n",
    "schema = StructType([StructField(\"user_id\", IntegerType()),\n",
    "                    StructField(\"item_id\", IntegerType()),\n",
    "                    StructField(\"purchase\", DoubleType())])\n",
    "\n",
    "df_train = spark.read.csv('/labs/slaba03/laba03_train.csv', header= True, schema=schema)\n",
    "test = spark.read.csv('/labs/slaba03/laba03_test.csv', header= True, schema=schema)\n",
    "\n",
    "df_views = spark.read.csv('/labs/slaba03/laba03_views_programmes.csv', header= True)\n",
    "df_items = spark.read.csv('/labs/slaba03/laba03_items.csv', header= True, sep= '\\t')"
   ]
  },
  {
   "cell_type": "code",
   "execution_count": 5,
   "metadata": {},
   "outputs": [],
   "source": [
    "train = df_train.sampleBy(\"purchase\", fractions={0: 0.8, 1: 0.8}, seed=5757)\n",
    "\n",
    "valid = df_train.join(train, on=[\"user_id\", \"item_id\"], how=\"leftanti\")"
   ]
  },
  {
   "cell_type": "code",
   "execution_count": 6,
   "metadata": {},
   "outputs": [
    {
     "name": "stdout",
     "output_type": "stream",
     "text": [
      "+--------------+-------+\n",
      "|user_purchases|user_id|\n",
      "+--------------+-------+\n",
      "|          56.0| 754230|\n",
      "|           1.0| 761341|\n",
      "+--------------+-------+\n",
      "only showing top 2 rows\n",
      "\n"
     ]
    }
   ],
   "source": [
    "from pyspark.sql.functions import col\n",
    "\n",
    "train_purchases = train.groupBy('user_id')\\\n",
    "                .sum().select(col(\"sum(purchase)\").alias(\"user_purchases\"), col(\"user_id\")).cache()\n",
    "\n",
    "train_purchases.show(2)"
   ]
  },
  {
   "cell_type": "code",
   "execution_count": 7,
   "metadata": {},
   "outputs": [
    {
     "name": "stdout",
     "output_type": "stream",
     "text": [
      "+--------------+-------+\n",
      "|item_purchases|item_id|\n",
      "+--------------+-------+\n",
      "|           1.0|  95940|\n",
      "|           1.0|  74757|\n",
      "+--------------+-------+\n",
      "only showing top 2 rows\n",
      "\n"
     ]
    }
   ],
   "source": [
    "item_purchases = train.groupBy('item_id')\\\n",
    "                        .sum().select(col(\"sum(purchase)\").alias(\"item_purchases\"), col(\"item_id\")).cache()\n",
    "\n",
    "item_purchases.show(2)"
   ]
  },
  {
   "cell_type": "code",
   "execution_count": 8,
   "metadata": {},
   "outputs": [],
   "source": [
    "# Сколько было покупок у пользователя и сколько раз покупали item?\n",
    "train = train.join(train_purchases, on='user_id', how='left')\n",
    "valid = valid.join(train_purchases, on='user_id', how='left')\n",
    "test = test.join(train_purchases, on='user_id', how='left')\n",
    "\n",
    "train = train.join(item_purchases, on='item_id', how='left')\n",
    "valid = valid.join(item_purchases, on='item_id', how='left')\n",
    "test = test.join(item_purchases, on='item_id', how='left')"
   ]
  },
  {
   "cell_type": "code",
   "execution_count": 9,
   "metadata": {},
   "outputs": [
    {
     "name": "stdout",
     "output_type": "stream",
     "text": [
      "+-------------+-------+\n",
      "|user_attempts|user_id|\n",
      "+-------------+-------+\n",
      "|         2089| 754230|\n",
      "|         2058| 761341|\n",
      "+-------------+-------+\n",
      "only showing top 2 rows\n",
      "\n"
     ]
    }
   ],
   "source": [
    "train_user_attempts = train.groupBy('user_id').count().select(col(\"count\").alias(\"user_attempts\"), col(\"user_id\"))\\\n",
    "                            .cache()\n",
    "\n",
    "train_item_attempts = train.groupBy('item_id').count().select(col(\"count\").alias(\"item_attempts\"), col(\"item_id\"))\\\n",
    "                            .cache()\n",
    "\n",
    "train_user_attempts.show(2)"
   ]
  },
  {
   "cell_type": "code",
   "execution_count": 10,
   "metadata": {},
   "outputs": [],
   "source": [
    "train = train.join(train_user_attempts, on='user_id', how='left')\n",
    "valid = valid.join(train_user_attempts, on='user_id', how='left')\n",
    "test = test.join(train_user_attempts, on='user_id', how='left')\n",
    "\n",
    "train = train.join(train_item_attempts, on='item_id', how='left')\n",
    "valid = valid.join(train_item_attempts, on='item_id', how='left')\n",
    "test = test.join(train_item_attempts, on='item_id', how='left')"
   ]
  },
  {
   "cell_type": "code",
   "execution_count": 11,
   "metadata": {},
   "outputs": [],
   "source": [
    "train = train.withColumn('user_addict', (train.user_purchases / train.user_attempts))\n",
    "valid = valid.withColumn('user_addict', col('user_purchases') / col('user_attempts'))\n",
    "test = test.withColumn('user_addict', col('user_purchases') / col('user_attempts'))"
   ]
  },
  {
   "cell_type": "code",
   "execution_count": 12,
   "metadata": {},
   "outputs": [],
   "source": [
    "train = train.withColumn('item_addict', col('item_purchases') / col('item_attempts'))\n",
    "valid = valid.withColumn('item_addict', col('item_purchases') / col('item_attempts'))\n",
    "test = test.withColumn('item_addict', col('item_purchases') / col('item_attempts'))"
   ]
  },
  {
   "cell_type": "code",
   "execution_count": 13,
   "metadata": {},
   "outputs": [
    {
     "data": {
      "text/plain": [
       "DataFrame[item_attempts: bigint, item_id: int]"
      ]
     },
     "execution_count": 13,
     "metadata": {},
     "output_type": "execute_result"
    }
   ],
   "source": [
    "train_purchases.unpersist()\n",
    "item_purchases.unpersist()\n",
    "train_user_attempts.unpersist()\n",
    "train_item_attempts.unpersist()"
   ]
  },
  {
   "cell_type": "code",
   "execution_count": 14,
   "metadata": {},
   "outputs": [],
   "source": [
    "from pyspark.ml.feature import VectorAssembler\n",
    "# Выбираю колонки, которые войдут в features для GBT\n",
    "cols = ['item_purchases', 'user_purchases', 'user_addict', 'item_addict']\n",
    "assembler = VectorAssembler(inputCols=cols, outputCol=\"features\")\n",
    "\n",
    "train_data = assembler.transform(train).cache()\n",
    "valid_data = assembler.transform(valid)\n",
    "test_data = assembler.transform(test)"
   ]
  },
  {
   "cell_type": "code",
   "execution_count": 15,
   "metadata": {},
   "outputs": [],
   "source": [
    "from pyspark.ml.evaluation import BinaryClassificationEvaluator\n",
    "\n",
    "evaluator = BinaryClassificationEvaluator(labelCol=\"purchase\", metricName='areaUnderROC')"
   ]
  },
  {
   "cell_type": "code",
   "execution_count": 16,
   "metadata": {},
   "outputs": [],
   "source": [
    "from pyspark.ml.tuning import CrossValidator, ParamGridBuilder"
   ]
  },
  {
   "cell_type": "code",
   "execution_count": 18,
   "metadata": {},
   "outputs": [],
   "source": [
    "from pyspark.ml import Pipeline\n",
    "from pyspark.ml.classification import GBTClassifier\n",
    "\n",
    "gbt = GBTClassifier(labelCol=\"purchase\")\n",
    "\n",
    "pipeline = Pipeline(stages=[\n",
    "    gbt\n",
    "])"
   ]
  },
  {
   "cell_type": "code",
   "execution_count": 22,
   "metadata": {},
   "outputs": [
    {
     "data": {
      "text/plain": [
       "DataFrame[item_id: int, user_id: int, purchase: double, user_purchases: double, item_purchases: double, user_attempts: bigint, item_attempts: bigint, user_addict: double, item_addict: double, features: vector]"
      ]
     },
     "execution_count": 22,
     "metadata": {},
     "output_type": "execute_result"
    }
   ],
   "source": [
    "train_data.unpersist()"
   ]
  },
  {
   "cell_type": "code",
   "execution_count": 23,
   "metadata": {
    "scrolled": true
   },
   "outputs": [],
   "source": [
    "from pyspark.ml.classification import GBTClassifier\n",
    "\n",
    "gbt = GBTClassifier(labelCol=\"purchase\", maxDepth=4, minInstancesPerNode=3, maxBins=50)\n",
    "\n",
    "gbt_model = gbt.fit(train_data)\n",
    "predictions_valid = gbt_model.transform(valid_data)"
   ]
  },
  {
   "cell_type": "code",
   "execution_count": 24,
   "metadata": {},
   "outputs": [
    {
     "data": {
      "text/plain": [
       "0.8841512308258217"
      ]
     },
     "execution_count": 24,
     "metadata": {},
     "output_type": "execute_result"
    }
   ],
   "source": [
    "evaluator = BinaryClassificationEvaluator(labelCol=\"purchase\", metricName='areaUnderROC')\n",
    "score = evaluator.evaluate(predictions_valid)\n",
    "score"
   ]
  },
  {
   "cell_type": "code",
   "execution_count": 25,
   "metadata": {},
   "outputs": [],
   "source": [
    "test_predictions = gbt_model.transform(test_data)"
   ]
  },
  {
   "cell_type": "code",
   "execution_count": 26,
   "metadata": {},
   "outputs": [],
   "source": [
    "predictions_pd = test_predictions.select(\"user_id\", \"item_id\", col(\"probability\").alias(\"purchase\")).toPandas()\n",
    "predictions_pd = predictions_pd.sort_values(by=['user_id', 'item_id'])\n",
    "predictions_pd['purchase'] = predictions_pd['purchase'].apply(lambda x: x[1])\n",
    "predictions_pd.to_csv('lab03.csv', index=False)"
   ]
  },
  {
   "cell_type": "code",
   "execution_count": null,
   "metadata": {},
   "outputs": [],
   "source": []
  }
 ],
 "metadata": {
  "kernelspec": {
   "display_name": "Python 3",
   "language": "python",
   "name": "python3"
  },
  "language_info": {
   "codemirror_mode": {
    "name": "ipython",
    "version": 3
   },
   "file_extension": ".py",
   "mimetype": "text/x-python",
   "name": "python",
   "nbconvert_exporter": "python",
   "pygments_lexer": "ipython3",
   "version": "3.6.5"
  }
 },
 "nbformat": 4,
 "nbformat_minor": 2
}
