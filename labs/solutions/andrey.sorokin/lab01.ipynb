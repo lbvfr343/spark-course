{
 "cells": [
  {
   "cell_type": "code",
   "execution_count": 1,
   "metadata": {},
   "outputs": [
    {
     "name": "stdout",
     "output_type": "stream",
     "text": [
      "Welcome to\n",
      "      ____              __\n",
      "     / __/__  ___ _____/ /__\n",
      "    _\\ \\/ _ \\/ _ `/ __/  '_/\n",
      "   /__ / .__/\\_,_/_/ /_/\\_\\   version 2.4.7\n",
      "      /_/\n",
      "\n",
      "Using Python version 3.6.5 (default, Apr 29 2018 16:14:56)\n",
      "SparkSession available as 'spark'.\n"
     ]
    }
   ],
   "source": [
    "import json\n",
    "import os\n",
    "import sys\n",
    "os.environ[\"PYSPARK_PYTHON\"]='/opt/anaconda/envs/bd9/bin/python'\n",
    "os.environ[\"SPARK_HOME\"]='/usr/hdp/current/spark2-client'\n",
    "os.environ[\"PYSPARK_SUBMIT_ARGS\"]='--num-executors 2 pyspark-shell'\n",
    "\n",
    "spark_home = os.environ.get('SPARK_HOME', None)\n",
    "if not spark_home:\n",
    "    raise ValueError('SPARK_HOME environment variable is not set')\n",
    "\n",
    "sys.path.insert(0, os.path.join(spark_home, 'python'))\n",
    "sys.path.insert(0, os.path.join(spark_home, 'python/lib/py4j-0.10.7-src.zip'))\n",
    "exec(open(os.path.join(spark_home, 'python/pyspark/shell.py')).read())"
   ]
  },
  {
   "cell_type": "code",
   "execution_count": 2,
   "metadata": {},
   "outputs": [
    {
     "data": {
      "text/html": [
       "\n",
       "            <div>\n",
       "                <p><b>SparkSession - hive</b></p>\n",
       "                \n",
       "        <div>\n",
       "            <p><b>SparkContext</b></p>\n",
       "\n",
       "            <p><a href=\"http://spark-master-4.newprolab.com:4044\">Spark UI</a></p>\n",
       "\n",
       "            <dl>\n",
       "              <dt>Version</dt>\n",
       "                <dd><code>v2.4.7</code></dd>\n",
       "              <dt>Master</dt>\n",
       "                <dd><code>yarn</code></dd>\n",
       "              <dt>AppName</dt>\n",
       "                <dd><code>pyspark-shell</code></dd>\n",
       "            </dl>\n",
       "        </div>\n",
       "        \n",
       "            </div>\n",
       "        "
      ],
      "text/plain": [
       "<pyspark.sql.session.SparkSession at 0x7f5acd064588>"
      ]
     },
     "execution_count": 2,
     "metadata": {},
     "output_type": "execute_result"
    }
   ],
   "source": [
    "from pyspark import SparkConf\n",
    "from pyspark.sql import SparkSession\n",
    "from pyspark.sql import functions as F\n",
    "from pyspark.sql.types import *\n",
    "from pyspark import Row\n",
    "import json\n",
    "\n",
    "conf = SparkConf()\n",
    "\n",
    "spark = (SparkSession\n",
    "         .builder\n",
    "         .config(conf=conf)\n",
    "         .appName(\"Lab1_by_sand\")\n",
    "         .getOrCreate())\n",
    "spark"
   ]
  },
  {
   "cell_type": "code",
   "execution_count": 3,
   "metadata": {},
   "outputs": [
    {
     "name": "stdout",
     "output_type": "stream",
     "text": [
      "196\t242\t3\t881250949\r\n",
      "186\t302\t3\t891717742\r\n",
      "22\t377\t1\t878887116\r\n",
      "244\t51\t2\t880606923\r\n",
      "166\t346\t1\t886397596\r\n",
      "298\t474\t4\t884182806\r\n",
      "115\t265\t2\t881171488\r\n",
      "253\t465\t5\t891628467\r\n",
      "305\t451\t3\t886324817\r\n",
      "6\t86\t3\t883603013\r\n",
      "62\t257\t2\t879372434\r\n",
      "286\t1014\t5\t879781125\r\n",
      "200\t222\t5\t876042340\r\n",
      "210\t40\t3\t891035994\r\n",
      "224\t29\t3\t888104457\r\n",
      "303\t785\t3\t879485318\r\n",
      "122\t387\t5\t879270459\r\n",
      "194\t274\t2\t879539794\r\n",
      "291\t1042\t4\t874834944\r\n",
      "234\t1184\t2\t892079237\r\n",
      "119\t392\t4\t886176814\r\n",
      "167\t486\t4\t892738452\r\n",
      "299\t144\t4\t877881320\r\n",
      "291\t118\t2\t874833878\r\n",
      "308\t1\t4\t887736532\r\n",
      "95\t546\t2\t879196566\r\n",
      "38\t95\t5\t892430094\r\n",
      "102\t768\t2\t883748450\r\n",
      "63\t277\t4\t875747401\r\n",
      "160\t234\t5\t876861185\r\n",
      "50\t246\t3\t877052329\r\n",
      "301\t98\t4\t882075827\r\n",
      "225\t193\t4\t879539727\r\n",
      "290\t88\t4\t880731963\r\n",
      "97\t194\t3\t884238860\r\n",
      "157\t274\t4\t886890835\r\n",
      "181\t1081\t1\t878962623\r\n",
      "278\t603\t5\t891295330\r\n",
      "276\t796\t1\t874791932\r\n",
      "7\t32\t4\t891350932\r\n",
      "10\t16\t4\t877888877\r\n",
      "284\t304\t4\t885329322\r\n",
      "201\t979\t2\t884114233\r\n",
      "276\t564\t3\t874791805\r\n",
      "287\t327\t5\t875333916\r\n",
      "246\t201\t5\t884921594\r\n",
      "242\t1137\t5\t879741196\r\n",
      "249\t241\t5\t879641194\r\n",
      "99\t4\t5\t886519097\r\n",
      "178\t332\t3\t882823437\r\n",
      "251\t100\t4\t886271884\r\n",
      "81\t432\t2\t876535131\r\n",
      "260\t32"
     ]
    }
   ],
   "source": [
    "#Look on file\n",
    "!hdfs dfs -head /labs/laba01/ml-100k/u.data"
   ]
  },
  {
   "cell_type": "code",
   "execution_count": 4,
   "metadata": {},
   "outputs": [
    {
     "data": {
      "text/plain": [
       "[['196', '242', '3', '881250949'],\n",
       " ['186', '302', '3', '891717742'],\n",
       " ['22', '377', '1', '878887116'],\n",
       " ['244', '51', '2', '880606923'],\n",
       " ['166', '346', '1', '886397596']]"
      ]
     },
     "execution_count": 4,
     "metadata": {},
     "output_type": "execute_result"
    }
   ],
   "source": [
    "#Read the file\n",
    "rdd = spark.sparkContext.textFile('/labs/laba01/ml-100k/u.data').map(\n",
    "    lambda x: x.split('\\t'))\n",
    "rdd.cache()\n",
    "rdd.take(5)"
   ]
  },
  {
   "cell_type": "code",
   "execution_count": 5,
   "metadata": {},
   "outputs": [
    {
     "data": {
      "text/plain": [
       "('hist_all', [6110, 11370, 27145, 34174, 21201])"
      ]
     },
     "execution_count": 5,
     "metadata": {},
     "output_type": "execute_result"
    }
   ],
   "source": [
    "#Transformer for  all films rating\n",
    "hist_all = rdd.groupBy(\n",
    "    lambda x: x[2]).mapValues(len).groupBy(\n",
    "    lambda x: 'hist_all').mapValues(lambda x: [v for k, v in sorted(list(x))])\n",
    "hist_all.first()"
   ]
  },
  {
   "cell_type": "code",
   "execution_count": 6,
   "metadata": {},
   "outputs": [
    {
     "data": {
      "text/plain": [
       "('hist_film', [5, 14, 46, 98, 134])"
      ]
     },
     "execution_count": 6,
     "metadata": {},
     "output_type": "execute_result"
    }
   ],
   "source": [
    "#Transformer for films 22 rating\n",
    "hist_film = rdd.filter(lambda x: x[1] == '22').groupBy(\n",
    "    lambda x: x[2]).mapValues(len).groupBy(\n",
    "    lambda x: 'hist_film').mapValues(lambda x: [v for k, v in sorted(list(x))])\n",
    "hist_film.first()"
   ]
  },
  {
   "cell_type": "code",
   "execution_count": 7,
   "metadata": {},
   "outputs": [
    {
     "data": {
      "text/plain": [
       "[('hist_film', [5, 14, 46, 98, 134]),\n",
       " ('hist_all', [6110, 11370, 27145, 34174, 21201])]"
      ]
     },
     "execution_count": 7,
     "metadata": {},
     "output_type": "execute_result"
    }
   ],
   "source": [
    "#Join results and sort as in sample solution\n",
    "result = hist_all.union(hist_film).sortBy(lambda x: x[0], ascending=False).collect()\n",
    "result"
   ]
  },
  {
   "cell_type": "code",
   "execution_count": 8,
   "metadata": {},
   "outputs": [],
   "source": [
    "#Write to local file\n",
    "home_dir = os.environ['HOME']\n",
    "with open(f\"/{home_dir}/lab01.json\", 'wt') as file:\n",
    "    json.dump({k: v for (k, v) in result}, fp=file, indent=3)"
   ]
  },
  {
   "cell_type": "code",
   "execution_count": 9,
   "metadata": {},
   "outputs": [],
   "source": [
    "spark.stop()"
   ]
  },
  {
   "cell_type": "code",
   "execution_count": 10,
   "metadata": {},
   "outputs": [
    {
     "name": "stdout",
     "output_type": "stream",
     "text": [
      "{\r\n",
      "   \"hist_film\": [\r\n",
      "      5,\r\n",
      "      14,\r\n",
      "      46,\r\n",
      "      98,\r\n",
      "      134\r\n",
      "   ],\r\n",
      "   \"hist_all\": [\r\n",
      "      6110,\r\n",
      "      11370,\r\n",
      "      27145,\r\n",
      "      34174,\r\n",
      "      21201\r\n",
      "   ]\r\n",
      "}"
     ]
    }
   ],
   "source": [
    "#Check result file\n",
    "!cat ~/lab01.json"
   ]
  },
  {
   "cell_type": "code",
   "execution_count": null,
   "metadata": {},
   "outputs": [],
   "source": []
  }
 ],
 "metadata": {
  "kernelspec": {
   "display_name": "Python 3",
   "language": "python",
   "name": "python3"
  },
  "language_info": {
   "codemirror_mode": {
    "name": "ipython",
    "version": 3
   },
   "file_extension": ".py",
   "mimetype": "text/x-python",
   "name": "python",
   "nbconvert_exporter": "python",
   "pygments_lexer": "ipython3",
   "version": "3.6.5"
  }
 },
 "nbformat": 4,
 "nbformat_minor": 2
}
