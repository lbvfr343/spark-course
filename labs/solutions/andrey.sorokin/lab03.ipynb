{
 "cells": [
  {
   "cell_type": "code",
   "execution_count": 1,
   "metadata": {},
   "outputs": [
    {
     "name": "stdout",
     "output_type": "stream",
     "text": [
      "Welcome to\n",
      "      ____              __\n",
      "     / __/__  ___ _____/ /__\n",
      "    _\\ \\/ _ \\/ _ `/ __/  '_/\n",
      "   /__ / .__/\\_,_/_/ /_/\\_\\   version 2.4.7\n",
      "      /_/\n",
      "\n",
      "Using Python version 3.6.5 (default, Apr 29 2018 16:14:56)\n",
      "SparkSession available as 'spark'.\n"
     ]
    }
   ],
   "source": [
    "import json\n",
    "import os\n",
    "import sys\n",
    "os.environ[\"PYSPARK_PYTHON\"]='/opt/anaconda/envs/bd9/bin/python'\n",
    "os.environ[\"SPARK_HOME\"]='/usr/hdp/current/spark2-client'\n",
    "os.environ[\"PYSPARK_SUBMIT_ARGS\"]='--num-executors 3 --executor-memory 3G --driver-memory 4G --executor-cores 3 pyspark-shell'\n",
    "\n",
    "spark_home = os.environ.get('SPARK_HOME', None)\n",
    "if not spark_home:\n",
    "    raise ValueError('SPARK_HOME environment variable is not set')\n",
    "\n",
    "sys.path.insert(0, os.path.join(spark_home, 'python'))\n",
    "sys.path.insert(0, os.path.join(spark_home, 'python/lib/py4j-0.10.7-src.zip'))\n",
    "exec(open(os.path.join(spark_home, 'python/pyspark/shell.py')).read())"
   ]
  },
  {
   "cell_type": "code",
   "execution_count": 2,
   "metadata": {},
   "outputs": [
    {
     "data": {
      "text/html": [
       "\n",
       "            <div>\n",
       "                <p><b>SparkSession - hive</b></p>\n",
       "                \n",
       "        <div>\n",
       "            <p><b>SparkContext</b></p>\n",
       "\n",
       "            <p><a href=\"http://spark-master-4.newprolab.com:4041\">Spark UI</a></p>\n",
       "\n",
       "            <dl>\n",
       "              <dt>Version</dt>\n",
       "                <dd><code>v2.4.7</code></dd>\n",
       "              <dt>Master</dt>\n",
       "                <dd><code>yarn</code></dd>\n",
       "              <dt>AppName</dt>\n",
       "                <dd><code>pyspark-shell</code></dd>\n",
       "            </dl>\n",
       "        </div>\n",
       "        \n",
       "            </div>\n",
       "        "
      ],
      "text/plain": [
       "<pyspark.sql.session.SparkSession at 0x7ff78c71f080>"
      ]
     },
     "execution_count": 2,
     "metadata": {},
     "output_type": "execute_result"
    }
   ],
   "source": [
    "from pyspark import SparkConf\n",
    "from pyspark.sql import SparkSession\n",
    "from pyspark.sql import functions as F\n",
    "from pyspark.sql.types import *\n",
    "from pyspark import Row\n",
    "import json\n",
    "\n",
    "conf = SparkConf()\n",
    "\n",
    "spark = (SparkSession\n",
    "         .builder\n",
    "         .config(conf=conf)\n",
    "         .appName(\"Lab3_by_sand\")\n",
    "         .getOrCreate())\n",
    "spark"
   ]
  },
  {
   "cell_type": "code",
   "execution_count": 3,
   "metadata": {},
   "outputs": [],
   "source": [
    "import pandas as pd\n",
    "import matplotlib.pyplot as plt \n",
    "import re\n",
    "import numpy as np\n",
    "from sklearn.metrics import classification_report, precision_score\n",
    "from pyspark.ml.evaluation import BinaryClassificationEvaluator\n",
    "from pyspark.ml.feature import Tokenizer, StopWordsRemover, HashingTF, StopWordsRemover, IDF, CountVectorizer\n",
    "from pyspark.ml import Pipeline\n",
    "from pyspark.ml.feature import StandardScaler, RegexTokenizer, MinMaxScaler, Normalizer\n",
    "from pyspark.ml.feature import VectorAssembler, PCA\n",
    "from pyspark.ml.tuning import CrossValidator, ParamGridBuilder\n",
    "from pyspark.ml.classification import GBTClassifier, LogisticRegression, MultilayerPerceptronClassifier\n",
    "%matplotlib inline"
   ]
  },
  {
   "cell_type": "code",
   "execution_count": 4,
   "metadata": {},
   "outputs": [],
   "source": [
    "TRAIN_FILE = \"/labs/slaba03/laba03_train.csv\"\n",
    "TEST_FILE = \"/labs/slaba03/laba03_test.csv\"\n",
    "ITEMS_FILE = \"/labs/slaba03/laba03_items.csv\"\n",
    "VIEWS_FILE = \"/labs/slaba03/laba03_views_programmes.csv\"\n",
    "RANDOM_SEED = 42"
   ]
  },
  {
   "cell_type": "code",
   "execution_count": 5,
   "metadata": {},
   "outputs": [],
   "source": [
    "schema = StructType([StructField(\"user_id\", IntegerType()),\n",
    "                    StructField(\"item_id\", IntegerType()),\n",
    "                    StructField(\"purchase\", DoubleType())])"
   ]
  },
  {
   "cell_type": "code",
   "execution_count": 6,
   "metadata": {},
   "outputs": [
    {
     "data": {
      "text/plain": [
       "5032624"
      ]
     },
     "execution_count": 6,
     "metadata": {},
     "output_type": "execute_result"
    }
   ],
   "source": [
    "lab03train = spark.read.csv(TRAIN_FILE, header=True, schema=schema)\n",
    "lab03train.count()"
   ]
  },
  {
   "cell_type": "code",
   "execution_count": 7,
   "metadata": {},
   "outputs": [
    {
     "data": {
      "text/plain": [
       "2156840"
      ]
     },
     "execution_count": 7,
     "metadata": {},
     "output_type": "execute_result"
    }
   ],
   "source": [
    "lab03test = spark.read.csv(TEST_FILE, header=True, schema=schema)\n",
    "lab03test.count()"
   ]
  },
  {
   "cell_type": "code",
   "execution_count": 8,
   "metadata": {},
   "outputs": [
    {
     "data": {
      "text/plain": [
       "635568"
      ]
     },
     "execution_count": 8,
     "metadata": {},
     "output_type": "execute_result"
    }
   ],
   "source": [
    "lab03items = spark.read.csv(ITEMS_FILE, header=True, sep='\\t')\n",
    "lab03items.count()"
   ]
  },
  {
   "cell_type": "code",
   "execution_count": 9,
   "metadata": {},
   "outputs": [
    {
     "name": "stdout",
     "output_type": "stream",
     "text": [
      "+------------+------+\n",
      "|content_type| count|\n",
      "+------------+------+\n",
      "|           0|631864|\n",
      "|           1|  3704|\n",
      "+------------+------+\n",
      "\n"
     ]
    }
   ],
   "source": [
    "lab03items.groupBy(\"content_type\").count().show()"
   ]
  },
  {
   "cell_type": "code",
   "execution_count": 10,
   "metadata": {},
   "outputs": [
    {
     "data": {
      "text/plain": [
       "20845607"
      ]
     },
     "execution_count": 10,
     "metadata": {},
     "output_type": "execute_result"
    }
   ],
   "source": [
    "lab03views = spark.read.csv(VIEWS_FILE, header=True)\n",
    "lab03views.count()"
   ]
  },
  {
   "cell_type": "markdown",
   "metadata": {},
   "source": [
    "### EDA"
   ]
  },
  {
   "cell_type": "markdown",
   "metadata": {},
   "source": [
    "### Prepare dataframes"
   ]
  },
  {
   "cell_type": "markdown",
   "metadata": {},
   "source": [
    "#### train and test "
   ]
  },
  {
   "cell_type": "code",
   "execution_count": 11,
   "metadata": {},
   "outputs": [
    {
     "name": "stdout",
     "output_type": "stream",
     "text": [
      "root\n",
      " |-- user_id: integer (nullable = true)\n",
      " |-- item_id: integer (nullable = true)\n",
      " |-- purchase: integer (nullable = true)\n",
      "\n"
     ]
    }
   ],
   "source": [
    "lab03train = lab03train.withColumn(\"purchase\", F.col(\"purchase\").cast(IntegerType()))\n",
    "lab03train.printSchema()"
   ]
  },
  {
   "cell_type": "code",
   "execution_count": 12,
   "metadata": {},
   "outputs": [
    {
     "name": "stdout",
     "output_type": "stream",
     "text": [
      "root\n",
      " |-- user_id: integer (nullable = true)\n",
      " |-- item_id: integer (nullable = true)\n",
      " |-- purchase: integer (nullable = true)\n",
      "\n"
     ]
    }
   ],
   "source": [
    "lab03test = lab03test.withColumn(\"purchase\", F.col(\"purchase\").cast(IntegerType())).repartition(3)\n",
    "lab03test.printSchema()"
   ]
  },
  {
   "cell_type": "code",
   "execution_count": 13,
   "metadata": {},
   "outputs": [],
   "source": [
    "lab03valid = lab03train.sampleBy(\"purchase\", fractions={0: 0.2, 1: 0.2}, seed=RANDOM_SEED).repartition(3)\n",
    "lab03train = lab03train.join(lab03valid, on=[\"user_id\", \"item_id\"], how=\"leftanti\").repartition(3)"
   ]
  },
  {
   "cell_type": "code",
   "execution_count": 14,
   "metadata": {},
   "outputs": [
    {
     "data": {
      "text/plain": [
       "(4026457, 1006167, 2156840)"
      ]
     },
     "execution_count": 14,
     "metadata": {},
     "output_type": "execute_result"
    }
   ],
   "source": [
    "lab03train.count(), lab03valid.count(), lab03test.count()"
   ]
  },
  {
   "cell_type": "markdown",
   "metadata": {},
   "source": [
    "#### items"
   ]
  },
  {
   "cell_type": "code",
   "execution_count": 15,
   "metadata": {},
   "outputs": [
    {
     "name": "stdout",
     "output_type": "stream",
     "text": [
      "root\n",
      " |-- item_id: string (nullable = true)\n",
      " |-- title: string (nullable = true)\n",
      " |-- year: integer (nullable = true)\n",
      " |-- genres: string (nullable = true)\n",
      "\n"
     ]
    }
   ],
   "source": [
    "lab03items = lab03items.drop(\"datetime_availability_start\",  \"datetime_availability_stop\", \n",
    "                             \"datetime_show_start\",  \"datetime_show_stop\", \n",
    "                             \"channel_id\", \"region_id\").filter(F.col(\"content_type\") == '1') \\\n",
    "                    .drop(\"content_type\").withColumn(\"year\", F.col(\"year\").cast(IntegerType()))\n",
    "lab03items.printSchema()"
   ]
  },
  {
   "cell_type": "code",
   "execution_count": 16,
   "metadata": {},
   "outputs": [
    {
     "data": {
      "text/plain": [
       "3704"
      ]
     },
     "execution_count": 16,
     "metadata": {},
     "output_type": "execute_result"
    }
   ],
   "source": [
    "lab03items.count()"
   ]
  },
  {
   "cell_type": "code",
   "execution_count": 17,
   "metadata": {},
   "outputs": [
    {
     "data": {
      "text/plain": [
       "4"
      ]
     },
     "execution_count": 17,
     "metadata": {},
     "output_type": "execute_result"
    }
   ],
   "source": [
    "lab03items.filter(F.col(\"year\").isNull()).count()"
   ]
  },
  {
   "cell_type": "code",
   "execution_count": 18,
   "metadata": {},
   "outputs": [
    {
     "data": {
      "text/plain": [
       "2005"
      ]
     },
     "execution_count": 18,
     "metadata": {},
     "output_type": "execute_result"
    }
   ],
   "source": [
    "# Медиана слиском сложно - взять среднее\n",
    "mean_year = lab03items.select(F.mean(\"year\").cast(IntegerType()).alias(\"mean_year\")).collect()[0][\"mean_year\"]\n",
    "mean_year"
   ]
  },
  {
   "cell_type": "code",
   "execution_count": 19,
   "metadata": {},
   "outputs": [
    {
     "name": "stdout",
     "output_type": "stream",
     "text": [
      "root\n",
      " |-- item_id: string (nullable = true)\n",
      " |-- title: string (nullable = true)\n",
      " |-- year: integer (nullable = true)\n",
      " |-- genres: string (nullable = true)\n",
      "\n"
     ]
    }
   ],
   "source": [
    "lab03items = lab03items.fillna(mean_year, subset=[\"year\"]).withColumn(\"year\", F.col(\"year\").cast(IntegerType()))\n",
    "lab03items.printSchema()"
   ]
  },
  {
   "cell_type": "code",
   "execution_count": 20,
   "metadata": {},
   "outputs": [
    {
     "data": {
      "text/plain": [
       "0"
      ]
     },
     "execution_count": 20,
     "metadata": {},
     "output_type": "execute_result"
    }
   ],
   "source": [
    "lab03items.filter(F.col(\"year\").isNull()).count()"
   ]
  },
  {
   "cell_type": "code",
   "execution_count": 21,
   "metadata": {},
   "outputs": [],
   "source": [
    "lab03items = lab03items.fillna(\"\", subset=[\"genres\"])"
   ]
  },
  {
   "cell_type": "code",
   "execution_count": 22,
   "metadata": {},
   "outputs": [],
   "source": [
    "lab03items = lab03items.withColumn(\"genres_list\", F.split(F.lower(F.col(\"genres\")), pattern=','))"
   ]
  },
  {
   "cell_type": "code",
   "execution_count": 23,
   "metadata": {},
   "outputs": [
    {
     "name": "stdout",
     "output_type": "stream",
     "text": [
      "+-------+-------+\n",
      "|item_id|  genre|\n",
      "+-------+-------+\n",
      "|  65667|эротика|\n",
      "|  65669|эротика|\n",
      "+-------+-------+\n",
      "only showing top 2 rows\n",
      "\n"
     ]
    }
   ],
   "source": [
    "genres = lab03items.select(\"item_id\", F.explode(F.col(\"genres_list\")).alias(\"genre\"))\n",
    "genres.show(2)"
   ]
  },
  {
   "cell_type": "code",
   "execution_count": 24,
   "metadata": {},
   "outputs": [
    {
     "name": "stdout",
     "output_type": "stream",
     "text": [
      "+---------+-----+\n",
      "|    genre|count|\n",
      "+---------+-----+\n",
      "|  мюзиклы|19547|\n",
      "|кулинария| 1070|\n",
      "+---------+-----+\n",
      "only showing top 2 rows\n",
      "\n"
     ]
    }
   ],
   "source": [
    "genres_count = genres.join(lab03train, on=\"item_id\").groupBy(\"genre\").count()\n",
    "genres_count.show(2)"
   ]
  },
  {
   "cell_type": "code",
   "execution_count": 25,
   "metadata": {},
   "outputs": [
    {
     "name": "stdout",
     "output_type": "stream",
     "text": [
      "+---------+-------------+\n",
      "|    genre|sum(purchase)|\n",
      "+---------+-------------+\n",
      "|  мюзиклы|           31|\n",
      "|кулинария|            2|\n",
      "+---------+-------------+\n",
      "only showing top 2 rows\n",
      "\n"
     ]
    }
   ],
   "source": [
    "genres_buy = genres.join(lab03train, on=\"item_id\").groupBy(\"genre\").sum(\"purchase\")\n",
    "genres_buy.show(2)"
   ]
  },
  {
   "cell_type": "code",
   "execution_count": 26,
   "metadata": {},
   "outputs": [
    {
     "name": "stdout",
     "output_type": "stream",
     "text": [
      "+---------+---------+---------+--------------------+\n",
      "|    genre|genre_cnt|genre_buy|           genre_prc|\n",
      "+---------+---------+---------+--------------------+\n",
      "|  мюзиклы|    19547|       31|0.001585921113214304|\n",
      "|кулинария|     1070|        2|0.001869158878504673|\n",
      "+---------+---------+---------+--------------------+\n",
      "only showing top 2 rows\n",
      "\n"
     ]
    }
   ],
   "source": [
    "genres_stat = genres_count.join(genres_buy, on=\"genre\") \\\n",
    "    .withColumnRenamed(\"sum(purchase)\", \"genre_buy\") \\\n",
    "    .withColumnRenamed(\"count\", \"genre_cnt\") \\\n",
    "    .withColumn(\"genre_prc\", F.col(\"genre_buy\") / F.col(\"genre_cnt\"))\n",
    "genres_stat.show(2)"
   ]
  },
  {
   "cell_type": "code",
   "execution_count": 27,
   "metadata": {},
   "outputs": [
    {
     "data": {
      "text/plain": [
       "{'мюзиклы': 0.001585921113214304,\n",
       " 'кулинария': 0.001869158878504673,\n",
       " 'мультсериалы': 0.006148724394469545,\n",
       " 'детские песни': 0.0025075887554441073,\n",
       " 'боевики': 0.0026665044458638763,\n",
       " 'фильмы в 3d': 0.0009000900090009,\n",
       " 'аниме': 0.0032388663967611335,\n",
       " 'арт-хаус': 0.0006137793463249962,\n",
       " ' сказка': 0.006940253470126735,\n",
       " 'полнометражные': 0.0043754039384354924,\n",
       " 'вестерн': 0.008253438932888704,\n",
       " 'романтические': 0.0005010438413361169,\n",
       " 'драма': 0.004491828119926399,\n",
       " 'мелодрамы': 0.0013178179892861593,\n",
       " 'экранизации': 0.0008254987388213712,\n",
       " 'фэнтези': 0.002507118628685521,\n",
       " 'музыкальные': 0.001556705279062314,\n",
       " 'боевик': 0.0019984627209838584,\n",
       " 'научная фантастика': 0.004939796233405372,\n",
       " 'исторический': 0.004540295119182747,\n",
       " 'игры': 0.0013836042891732965,\n",
       " 'приключение': 0.00045871559633027525,\n",
       " 'западные мультфильмы': 0.0020174533170685934,\n",
       " 'фильмы': 0.0011181513231457323,\n",
       " 'мультфильмы в 3d': 0.008984725965858042,\n",
       " 'для взрослых': 0.002372139629046441,\n",
       " 'артхаус': 0.002545968882602546,\n",
       " 'триллеры': 0.002291116277307847,\n",
       " 'приключения': 0.0026241578369863043,\n",
       " 'видеоигры': 0.0005450048211964952,\n",
       " 'семейные': 0.0030865378483515083,\n",
       " 'военный': 0.004123711340206186,\n",
       " 'детские': 0.0033809139690667415,\n",
       " 'для детей': 0.0022379942057705357,\n",
       " 'военные': 0.0017355267586671155,\n",
       " 'русские мультфильмы': 0.0018954145129928487,\n",
       " 'русские': 0.0016271079341258245,\n",
       " 'драмы': 0.0017251420959659546,\n",
       " 'документальный': 0.011351434269059671,\n",
       " 'документальные': 0.0013235083702961797,\n",
       " 'мелодрама': 0.002599388379204893,\n",
       " 'детективы': 0.0017330753149456374,\n",
       " 'про животных': 0.0019116933527413876,\n",
       " 'зарубежные': 0.002180676792395762,\n",
       " 'развлекательные': 0.0004880289372452202,\n",
       " 'передачи': 0.012851897184822521,\n",
       " 'сериалы': 0.002396197821205557,\n",
       " 'союзмультфильм': 0.0015244376691659148,\n",
       " 'о здоровье': 0.0,\n",
       " 'короткометражные': 0.0011843663639952626,\n",
       " 'познавательные': 0.0005982650314089142,\n",
       " 'короткометражки': 0.0009273570324574962,\n",
       " 'реалити-шоу': 0.007386888273314866,\n",
       " 'эротика': 0.0025636262307263606,\n",
       " 'мистические': 0.001861145695619248,\n",
       " 'юмористические': 0.007238508867173362,\n",
       " 'фантастика': 0.0024952046555479696,\n",
       " 'хочу всё знать': 0.0009913447973462462,\n",
       " 'мультфильмы': 0.0037391148730719,\n",
       " 'прочие': 0.0006101281269066504,\n",
       " 'музыкальный': 0.0009124087591240876,\n",
       " 'охота и рыбалка': 0.0015110305228165609,\n",
       " 'для самых маленьких': 0.006472179289026275,\n",
       " 'исторические': 0.000927070457354759,\n",
       " 'спортивные': 0.0021632415342374574,\n",
       " 'биография': 0.0014233385661957091,\n",
       " 'семейный': 0.0009250693802035153,\n",
       " 'сказки': 0.0009278203359185421,\n",
       " 'фантастические': 0.000922586597332886,\n",
       " 'наши': 0.0021559270219591743,\n",
       " 'советские': 0.0012548559921252151,\n",
       " 'триллер': 0.0027159152634437804,\n",
       " 'ужасы': 0.0021231218997867294,\n",
       " '': 0.007263381383394793,\n",
       " 'мультфильм': 0.0008748906386701663,\n",
       " 'советское кино': 0.0006769201706468524,\n",
       " 'развивающие': 0.0015304495695610586,\n",
       " 'анимация': 0.0009062075215224287,\n",
       " 'спорт': 0.0028751035524584574,\n",
       " 'комедия': 0.0022364542035173325,\n",
       " 'криминал': 0.002268433561982408,\n",
       " 'для всей семьи': 0.0020478890989287964,\n",
       " 'комедии': 0.0020056682395083376,\n",
       " 'фильмы-спектакли': 0.0}"
      ]
     },
     "execution_count": 27,
     "metadata": {},
     "output_type": "execute_result"
    }
   ],
   "source": [
    "genres_encoding = {row.genre: row.genre_prc for row in genres_stat.collect()}\n",
    "broadcasted_genres_encoding = spark.sparkContext.broadcast(genres_encoding)\n",
    "genres_encoding"
   ]
  },
  {
   "cell_type": "code",
   "execution_count": 28,
   "metadata": {},
   "outputs": [
    {
     "name": "stdout",
     "output_type": "stream",
     "text": [
      "-RECORD 0---------------------------------------------------------------\n",
      " item_id     | 65667                                                    \n",
      " title       | на пробах только девушки (all girl auditions)            \n",
      " year        | 2013                                                     \n",
      " genres      | Эротика                                                  \n",
      " genres_list | [эротика]                                                \n",
      "-RECORD 1---------------------------------------------------------------\n",
      " item_id     | 65669                                                    \n",
      " title       | скуби ду: эротическая пародия (scooby doo: a xxx parody) \n",
      " year        | 2011                                                     \n",
      " genres      | Эротика                                                  \n",
      " genres_list | [эротика]                                                \n",
      "only showing top 2 rows\n",
      "\n"
     ]
    }
   ],
   "source": [
    "lab03items.show(2, vertical=True, truncate=False)"
   ]
  },
  {
   "cell_type": "code",
   "execution_count": 29,
   "metadata": {},
   "outputs": [
    {
     "name": "stdout",
     "output_type": "stream",
     "text": [
      "-RECORD 0-----------------------------------------------------------------------------------------------------------------------------------------------------------------------------------------------------------------------------------------------------------------------------------------------------------------------------------------------------------------------------------------\n",
      " item_id                    | 65667                                                                                                                                                                                                                                                                                                                                                               \n",
      " genres_list                | [эротика]                                                                                                                                                                                                                                                                                                                                                           \n",
      " genre_encoder(genres_list) | [0.0,0.0,0.0,0.0,0.0,0.0,0.0,0.0,0.0,0.0,0.0,0.0,0.0,0.0,0.0,0.0,0.0,0.0,0.0,0.0,0.0,0.0,0.0,0.0,0.0,0.0,0.0,0.0,0.0,0.0,0.0,0.0,0.0,0.0,0.0,0.0,0.0,0.0,0.0,0.0,0.0,0.0,0.0,0.0,0.0,0.0,0.0,0.0,0.0,0.0,0.0,0.0,0.0,0.0025636262307263606,0.0,0.0,0.0,0.0,0.0,0.0,0.0,0.0,0.0,0.0,0.0,0.0,0.0,0.0,0.0,0.0,0.0,0.0,0.0,0.0,0.0,0.0,0.0,0.0,0.0,0.0,0.0,0.0,0.0,0.0] \n",
      "-RECORD 1-----------------------------------------------------------------------------------------------------------------------------------------------------------------------------------------------------------------------------------------------------------------------------------------------------------------------------------------------------------------------------------------\n",
      " item_id                    | 65669                                                                                                                                                                                                                                                                                                                                                               \n",
      " genres_list                | [эротика]                                                                                                                                                                                                                                                                                                                                                           \n",
      " genre_encoder(genres_list) | [0.0,0.0,0.0,0.0,0.0,0.0,0.0,0.0,0.0,0.0,0.0,0.0,0.0,0.0,0.0,0.0,0.0,0.0,0.0,0.0,0.0,0.0,0.0,0.0,0.0,0.0,0.0,0.0,0.0,0.0,0.0,0.0,0.0,0.0,0.0,0.0,0.0,0.0,0.0,0.0,0.0,0.0,0.0,0.0,0.0,0.0,0.0,0.0,0.0,0.0,0.0,0.0,0.0,0.0025636262307263606,0.0,0.0,0.0,0.0,0.0,0.0,0.0,0.0,0.0,0.0,0.0,0.0,0.0,0.0,0.0,0.0,0.0,0.0,0.0,0.0,0.0,0.0,0.0,0.0,0.0,0.0,0.0,0.0,0.0,0.0] \n",
      "only showing top 2 rows\n",
      "\n"
     ]
    }
   ],
   "source": [
    "from pyspark.ml.linalg import Vectors, VectorUDT\n",
    "@F.udf(VectorUDT())\n",
    "def genre_encoder(arr):\n",
    "    encoding = broadcasted_genres_encoding.value\n",
    "    all_genres = list(encoding.keys())\n",
    "    return Vectors.dense([encoding[genre] if genre in arr else 0 for genre in all_genres])\n",
    "lab03items.select(\"item_id\", \"genres_list\", genre_encoder(F.col(\"genres_list\"))) \\\n",
    "    .show(2, vertical=True, truncate=False)"
   ]
  },
  {
   "cell_type": "code",
   "execution_count": 30,
   "metadata": {},
   "outputs": [
    {
     "name": "stdout",
     "output_type": "stream",
     "text": [
      "+-------+-------+---------+---------+--------------------+\n",
      "|  genre|item_id|genre_cnt|genre_buy|           genre_prc|\n",
      "+-------+-------+---------+---------+--------------------+\n",
      "|мюзиклы|  93623|    19547|       31|0.001585921113214304|\n",
      "|мюзиклы|  93637|    19547|       31|0.001585921113214304|\n",
      "+-------+-------+---------+---------+--------------------+\n",
      "only showing top 2 rows\n",
      "\n"
     ]
    }
   ],
   "source": [
    "genres = genres.join(genres_stat, on=\"genre\")\n",
    "genres.show(2)"
   ]
  },
  {
   "cell_type": "code",
   "execution_count": 31,
   "metadata": {},
   "outputs": [
    {
     "name": "stdout",
     "output_type": "stream",
     "text": [
      "-RECORD 0------------------------------------------------------------------------------------------------------------------------------------------------------------------------------------------------------------------------------------------------------------------------------------------------------------------------------------------------------------------------------------------------------------------------------------------------\n",
      " item_id     | 100140                                                                                                                                                                                                                                                                                                                                                                                                                                    \n",
      " title       | поездка                                                                                                                                                                                                                                                                                                                                                                                                                                   \n",
      " year        | 2014                                                                                                                                                                                                                                                                                                                                                                                                                                      \n",
      " genres_list | [комедии]                                                                                                                                                                                                                                                                                                                                                                                                                                 \n",
      " genres      | [комедии]                                                                                                                                                                                                                                                                                                                                                                                                                                 \n",
      " genres_cnt  | 931859                                                                                                                                                                                                                                                                                                                                                                                                                                    \n",
      " genres_buy  | 1869                                                                                                                                                                                                                                                                                                                                                                                                                                      \n",
      " genres_prc  | 0.0020056682395083376                                                                                                                                                                                                                                                                                                                                                                                                                     \n",
      " genres_enc  | [0.0,0.0,0.0,0.0,0.0,0.0,0.0,0.0,0.0,0.0,0.0,0.0,0.0,0.0,0.0,0.0,0.0,0.0,0.0,0.0,0.0,0.0,0.0,0.0,0.0,0.0,0.0,0.0,0.0,0.0,0.0,0.0,0.0,0.0,0.0,0.0,0.0,0.0,0.0,0.0,0.0,0.0,0.0,0.0,0.0,0.0,0.0,0.0,0.0,0.0,0.0,0.0,0.0,0.0,0.0,0.0,0.0,0.0,0.0,0.0,0.0,0.0,0.0,0.0,0.0,0.0,0.0,0.0,0.0,0.0,0.0,0.0,0.0,0.0,0.0,0.0,0.0,0.0,0.0,0.0,0.0,0.0,0.0020056682395083376,0.0]                                                                       \n",
      "-RECORD 1------------------------------------------------------------------------------------------------------------------------------------------------------------------------------------------------------------------------------------------------------------------------------------------------------------------------------------------------------------------------------------------------------------------------------------------------\n",
      " item_id     | 100263                                                                                                                                                                                                                                                                                                                                                                                                                                    \n",
      " title       | фортитьюд                                                                                                                                                                                                                                                                                                                                                                                                                                 \n",
      " year        | 2015                                                                                                                                                                                                                                                                                                                                                                                                                                      \n",
      " genres_list | [ужасы, детективы, триллеры, драмы, зарубежные]                                                                                                                                                                                                                                                                                                                                                                                           \n",
      " genres      | [триллеры, драмы, зарубежные, детективы, ужасы]                                                                                                                                                                                                                                                                                                                                                                                           \n",
      " genres_cnt  | 4447732                                                                                                                                                                                                                                                                                                                                                                                                                                   \n",
      " genres_buy  | 9107                                                                                                                                                                                                                                                                                                                                                                                                                                      \n",
      " genres_prc  | 0.010053132380401932                                                                                                                                                                                                                                                                                                                                                                                                                      \n",
      " genres_enc  | [0.0,0.0,0.0,0.0,0.0,0.0,0.0,0.0,0.0,0.0,0.0,0.0,0.0,0.0,0.0,0.0,0.0,0.0,0.0,0.0,0.0,0.0,0.0,0.0,0.0,0.0,0.0,0.002291116277307847,0.0,0.0,0.0,0.0,0.0,0.0,0.0,0.0,0.0,0.0017251420959659546,0.0,0.0,0.0,0.0017330753149456374,0.0,0.002180676792395762,0.0,0.0,0.0,0.0,0.0,0.0,0.0,0.0,0.0,0.0,0.0,0.0,0.0,0.0,0.0,0.0,0.0,0.0,0.0,0.0,0.0,0.0,0.0,0.0,0.0,0.0,0.0,0.0,0.0021231218997867294,0.0,0.0,0.0,0.0,0.0,0.0,0.0,0.0,0.0,0.0,0.0] \n",
      "only showing top 2 rows\n",
      "\n"
     ]
    }
   ],
   "source": [
    "lab03items = lab03items.drop(\"genres\").join(\n",
    "    lab03items.join(genres, on=\"item_id\", how=\"left\").groupBy(\"item_id\").agg(\n",
    "        F.collect_list(\"genre\").alias(\"genres\"),\n",
    "        F.sum(\"genre_cnt\").alias(\"genres_cnt\"),\n",
    "        F.sum(\"genre_buy\").alias(\"genres_buy\"),\n",
    "        F.sum(\"genre_prc\").alias(\"genres_prc\")\n",
    "    ), on=\"item_id\") \\\n",
    "    .fillna(0, subset=[\"genres_cnt\", \"genres_buy\", \"genres_prc\"]) \\\n",
    "    .withColumn(\"genres_enc\", genre_encoder(F.col(\"genres_list\")))\n",
    "lab03items.show(2, vertical=True, truncate=False)"
   ]
  },
  {
   "cell_type": "code",
   "execution_count": 32,
   "metadata": {},
   "outputs": [],
   "source": [
    "pca = PCA(k=3, inputCol=\"genres_enc\", outputCol=\"genres_pca\")\n",
    "pca_model = pca.fit(lab03items)\n",
    "lab03items = pca_model.transform(lab03items)"
   ]
  },
  {
   "cell_type": "code",
   "execution_count": 33,
   "metadata": {},
   "outputs": [
    {
     "name": "stdout",
     "output_type": "stream",
     "text": [
      "-RECORD 0------------------------------------------------------------------------------------------------------------------------------------------------------------------------------------------------------------------------------------------------------------------------------------------------------------------------------------------------------------------------------------------------------------------------------------------------\n",
      " item_id     | 100140                                                                                                                                                                                                                                                                                                                                                                                                                                    \n",
      " title       | поездка                                                                                                                                                                                                                                                                                                                                                                                                                                   \n",
      " year        | 2014                                                                                                                                                                                                                                                                                                                                                                                                                                      \n",
      " genres_list | [комедии]                                                                                                                                                                                                                                                                                                                                                                                                                                 \n",
      " genres      | [комедии]                                                                                                                                                                                                                                                                                                                                                                                                                                 \n",
      " genres_cnt  | 931859                                                                                                                                                                                                                                                                                                                                                                                                                                    \n",
      " genres_buy  | 1869                                                                                                                                                                                                                                                                                                                                                                                                                                      \n",
      " genres_prc  | 0.0020056682395083376                                                                                                                                                                                                                                                                                                                                                                                                                     \n",
      " genres_enc  | [0.0,0.0,0.0,0.0,0.0,0.0,0.0,0.0,0.0,0.0,0.0,0.0,0.0,0.0,0.0,0.0,0.0,0.0,0.0,0.0,0.0,0.0,0.0,0.0,0.0,0.0,0.0,0.0,0.0,0.0,0.0,0.0,0.0,0.0,0.0,0.0,0.0,0.0,0.0,0.0,0.0,0.0,0.0,0.0,0.0,0.0,0.0,0.0,0.0,0.0,0.0,0.0,0.0,0.0,0.0,0.0,0.0,0.0,0.0,0.0,0.0,0.0,0.0,0.0,0.0,0.0,0.0,0.0,0.0,0.0,0.0,0.0,0.0,0.0,0.0,0.0,0.0,0.0,0.0,0.0,0.0,0.0,0.0020056682395083376,0.0]                                                                       \n",
      " genres_pca  | [-1.2012279660626659E-4,3.513766540545268E-4,1.9812352621955168E-4]                                                                                                                                                                                                                                                                                                                                                                       \n",
      "-RECORD 1------------------------------------------------------------------------------------------------------------------------------------------------------------------------------------------------------------------------------------------------------------------------------------------------------------------------------------------------------------------------------------------------------------------------------------------------\n",
      " item_id     | 100263                                                                                                                                                                                                                                                                                                                                                                                                                                    \n",
      " title       | фортитьюд                                                                                                                                                                                                                                                                                                                                                                                                                                 \n",
      " year        | 2015                                                                                                                                                                                                                                                                                                                                                                                                                                      \n",
      " genres_list | [ужасы, детективы, триллеры, драмы, зарубежные]                                                                                                                                                                                                                                                                                                                                                                                           \n",
      " genres      | [драмы, триллеры, детективы, зарубежные, ужасы]                                                                                                                                                                                                                                                                                                                                                                                           \n",
      " genres_cnt  | 4447732                                                                                                                                                                                                                                                                                                                                                                                                                                   \n",
      " genres_buy  | 9107                                                                                                                                                                                                                                                                                                                                                                                                                                      \n",
      " genres_prc  | 0.010053132380401932                                                                                                                                                                                                                                                                                                                                                                                                                      \n",
      " genres_enc  | [0.0,0.0,0.0,0.0,0.0,0.0,0.0,0.0,0.0,0.0,0.0,0.0,0.0,0.0,0.0,0.0,0.0,0.0,0.0,0.0,0.0,0.0,0.0,0.0,0.0,0.0,0.0,0.002291116277307847,0.0,0.0,0.0,0.0,0.0,0.0,0.0,0.0,0.0,0.0017251420959659546,0.0,0.0,0.0,0.0017330753149456374,0.0,0.002180676792395762,0.0,0.0,0.0,0.0,0.0,0.0,0.0,0.0,0.0,0.0,0.0,0.0,0.0,0.0,0.0,0.0,0.0,0.0,0.0,0.0,0.0,0.0,0.0,0.0,0.0,0.0,0.0,0.0,0.0021231218997867294,0.0,0.0,0.0,0.0,0.0,0.0,0.0,0.0,0.0,0.0,0.0] \n",
      " genres_pca  | [0.0027844935923287796,-0.0012632995264716847,-4.8062354658662775E-4]                                                                                                                                                                                                                                                                                                                                                                     \n",
      "only showing top 2 rows\n",
      "\n"
     ]
    }
   ],
   "source": [
    "lab03items.show(2, vertical=True, truncate=False)"
   ]
  },
  {
   "cell_type": "code",
   "execution_count": 34,
   "metadata": {},
   "outputs": [
    {
     "name": "stdout",
     "output_type": "stream",
     "text": [
      "-RECORD 0-------------------------------\n",
      " user_id            | 775072            \n",
      " live_min_duration  | 303               \n",
      " live_max_duration  | 36646             \n",
      " live_mean_duration | 9.106068465446302 \n",
      " live_sum_duration  | 639696            \n",
      " live_counts        | 71                \n",
      "-RECORD 1-------------------------------\n",
      " user_id            | 776228            \n",
      " live_min_duration  | 304               \n",
      " live_max_duration  | 7029              \n",
      " live_mean_duration | 7.547416806037808 \n",
      " live_sum_duration  | 164938            \n",
      " live_counts        | 87                \n",
      "only showing top 2 rows\n",
      "\n",
      "-RECORD 0-------------------\n",
      " user_id           | 775072 \n",
      " pvr_min_duration  | 495    \n",
      " pvr_max_duration  | 9917   \n",
      " pvr_mean_duration | 3037   \n",
      " pvr_sum_duration  | 288572 \n",
      " pvr_counts        | 95     \n",
      "-RECORD 1-------------------\n",
      " user_id           | 777985 \n",
      " pvr_min_duration  | 816    \n",
      " pvr_max_duration  | 1509   \n",
      " pvr_mean_duration | 1162   \n",
      " pvr_sum_duration  | 2325   \n",
      " pvr_counts        | 2      \n",
      "only showing top 2 rows\n",
      "\n"
     ]
    }
   ],
   "source": [
    "SECS_IN_DAY = 24 * 60 * 60\n",
    "lab03views = lab03views.withColumn(\"duration\",  F.col(\"ts_end\") - F.col(\"ts_start\"))\n",
    "view_live_stats = lab03views.filter(F.col(\"item_type\") == \"live\").groupBy(\"user_id\").agg(\n",
    "    F.min(F.col(\"duration\")).cast(IntegerType()).alias(\"live_min_duration\"),\n",
    "    F.max(F.col(\"duration\")).cast(IntegerType()).alias(\"live_max_duration\"),\n",
    "    F.log(F.mean(F.col(\"duration\"))).cast(DoubleType()).alias(\"live_mean_duration\"),\n",
    "    F.sum(F.col(\"duration\")).cast(IntegerType()).alias(\"live_sum_duration\"),\n",
    "    F.count(\"*\").alias(\"live_counts\"))\n",
    "view_pvr_stats = lab03views.filter(F.col(\"item_type\") == \"pvr\").groupBy(\"user_id\").agg(\n",
    "    F.min(F.col(\"duration\")).cast(IntegerType()).alias(\"pvr_min_duration\"),\n",
    "    F.max(F.col(\"duration\")).cast(IntegerType()).alias(\"pvr_max_duration\"),\n",
    "    F.mean(F.col(\"duration\")).cast(IntegerType()).alias(\"pvr_mean_duration\"),\n",
    "    F.sum(F.col(\"duration\")).cast(IntegerType()).alias(\"pvr_sum_duration\"),\n",
    "    F.count(\"*\").alias(\"pvr_counts\")) \n",
    "view_live_stats.show(2, vertical=True, truncate=False)\n",
    "view_pvr_stats.show(2, vertical=True, truncate=False)"
   ]
  },
  {
   "cell_type": "code",
   "execution_count": 35,
   "metadata": {},
   "outputs": [
    {
     "name": "stdout",
     "output_type": "stream",
     "text": [
      "+-------+------------------+-------------------+--------------------+\n",
      "|user_id|user_watches_count|user_purchase_count|    user_buy_percent|\n",
      "+-------+------------------+-------------------+--------------------+\n",
      "| 833685|              1994|                 15|0.007522567703109328|\n",
      "| 846231|              2071|                  4|0.001931434089811685|\n",
      "+-------+------------------+-------------------+--------------------+\n",
      "only showing top 2 rows\n",
      "\n"
     ]
    }
   ],
   "source": [
    "user_watches = lab03train.groupBy('user_id').agg(F.count(\"*\").alias(\"user_watches_count\"), \n",
    "                                                 F.sum(\"purchase\").alias(\"user_purchase_count\")) \\\n",
    "    .withColumn(\"user_buy_percent\", F.col(\"user_purchase_count\") / F.col(\"user_watches_count\")) \n",
    "user_watches.show(2)"
   ]
  },
  {
   "cell_type": "code",
   "execution_count": 36,
   "metadata": {},
   "outputs": [
    {
     "name": "stdout",
     "output_type": "stream",
     "text": [
      "+-------+------------------+-------------------+--------------------+\n",
      "|item_id|item_watches_count|item_purchase_count|    item_buy_percent|\n",
      "+-------+------------------+-------------------+--------------------+\n",
      "|  93486|              1120|                  3|0.002678571428571...|\n",
      "|  90019|              1056|                  1| 9.46969696969697E-4|\n",
      "+-------+------------------+-------------------+--------------------+\n",
      "only showing top 2 rows\n",
      "\n"
     ]
    }
   ],
   "source": [
    "item_watches = lab03train.groupBy('item_id').agg(F.count(\"*\").alias(\"item_watches_count\"), \n",
    "                                                 F.sum(\"purchase\").alias(\"item_purchase_count\")) \\\n",
    "    .withColumn(\"item_buy_percent\", F.col(\"item_purchase_count\") / F.col(\"item_watches_count\")) \n",
    "item_watches.show(2)"
   ]
  },
  {
   "cell_type": "markdown",
   "metadata": {},
   "source": [
    "### Join all "
   ]
  },
  {
   "cell_type": "code",
   "execution_count": 37,
   "metadata": {},
   "outputs": [
    {
     "name": "stdout",
     "output_type": "stream",
     "text": [
      "-RECORD 0-------------------------------------------------------------------------------------------------------------------------------------------------------------------------------------------------------------------------------------------------------------------------------------------------------------------------------------------------------------------------------------------------------------------------------------\n",
      " item_id             | 8389                                                                                                                                                                                                                                                                                                                                                                                                                   \n",
      " user_id             | 754230                                                                                                                                                                                                                                                                                                                                                                                                                 \n",
      " purchase            | 0                                                                                                                                                                                                                                                                                                                                                                                                                      \n",
      " title               | пес в сапогах (сурдоперевод)                                                                                                                                                                                                                                                                                                                                                                                           \n",
      " year                | 1981                                                                                                                                                                                                                                                                                                                                                                                                                   \n",
      " genres_list         | [мультфильмы, детские, союзмультфильм, наши]                                                                                                                                                                                                                                                                                                                                                                           \n",
      " genres              | [наши, детские, союзмультфильм, мультфильмы]                                                                                                                                                                                                                                                                                                                                                                           \n",
      " genres_cnt          | 1096401                                                                                                                                                                                                                                                                                                                                                                                                                \n",
      " genres_buy          | 2873                                                                                                                                                                                                                                                                                                                                                                                                                   \n",
      " genres_prc          | 0.01080039353326373                                                                                                                                                                                                                                                                                                                                                                                                    \n",
      " genres_enc          | [0.0,0.0,0.0,0.0,0.0,0.0,0.0,0.0,0.0,0.0,0.0,0.0,0.0,0.0,0.0,0.0,0.0,0.0,0.0,0.0,0.0,0.0,0.0,0.0,0.0,0.0,0.0,0.0,0.0,0.0,0.0,0.0,0.0033809139690667415,0.0,0.0,0.0,0.0,0.0,0.0,0.0,0.0,0.0,0.0,0.0,0.0,0.0,0.0,0.0015244376691659148,0.0,0.0,0.0,0.0,0.0,0.0,0.0,0.0,0.0,0.0,0.0037391148730719,0.0,0.0,0.0,0.0,0.0,0.0,0.0,0.0,0.0,0.0,0.0021559270219591743,0.0,0.0,0.0,0.0,0.0,0.0,0.0,0.0,0.0,0.0,0.0,0.0,0.0,0.0] \n",
      " genres_pca          | [-0.002943058833251603,-0.0034022049928458223,-0.0019337378733884944]                                                                                                                                                                                                                                                                                                                                                  \n",
      " live_min_duration   | 300                                                                                                                                                                                                                                                                                                                                                                                                                    \n",
      " live_max_duration   | 20256                                                                                                                                                                                                                                                                                                                                                                                                                  \n",
      " live_mean_duration  | 7.611207708906694                                                                                                                                                                                                                                                                                                                                                                                                      \n",
      " live_sum_duration   | 935592                                                                                                                                                                                                                                                                                                                                                                                                                 \n",
      " live_counts         | 463                                                                                                                                                                                                                                                                                                                                                                                                                    \n",
      " pvr_min_duration    | 302                                                                                                                                                                                                                                                                                                                                                                                                                    \n",
      " pvr_max_duration    | 8335                                                                                                                                                                                                                                                                                                                                                                                                                   \n",
      " pvr_mean_duration   | 1884                                                                                                                                                                                                                                                                                                                                                                                                                   \n",
      " pvr_sum_duration    | 1320863                                                                                                                                                                                                                                                                                                                                                                                                                \n",
      " pvr_counts          | 701                                                                                                                                                                                                                                                                                                                                                                                                                    \n",
      " user_watches_count  | 2104                                                                                                                                                                                                                                                                                                                                                                                                                   \n",
      " user_purchase_count | 59                                                                                                                                                                                                                                                                                                                                                                                                                     \n",
      " user_buy_percent    | 0.028041825095057035                                                                                                                                                                                                                                                                                                                                                                                                   \n",
      " item_watches_count  | 1063                                                                                                                                                                                                                                                                                                                                                                                                                   \n",
      " item_purchase_count | 7                                                                                                                                                                                                                                                                                                                                                                                                                      \n",
      " item_buy_percent    | 0.00658513640639699                                                                                                                                                                                                                                                                                                                                                                                                    \n",
      " user_items          | 6.025865973825314                                                                                                                                                                                                                                                                                                                                                                                                      \n",
      "-RECORD 1-------------------------------------------------------------------------------------------------------------------------------------------------------------------------------------------------------------------------------------------------------------------------------------------------------------------------------------------------------------------------------------------------------------------------------------\n",
      " item_id             | 8389                                                                                                                                                                                                                                                                                                                                                                                                                   \n",
      " user_id             | 780033                                                                                                                                                                                                                                                                                                                                                                                                                 \n",
      " purchase            | 0                                                                                                                                                                                                                                                                                                                                                                                                                      \n",
      " title               | пес в сапогах (сурдоперевод)                                                                                                                                                                                                                                                                                                                                                                                           \n",
      " year                | 1981                                                                                                                                                                                                                                                                                                                                                                                                                   \n",
      " genres_list         | [мультфильмы, детские, союзмультфильм, наши]                                                                                                                                                                                                                                                                                                                                                                           \n",
      " genres              | [наши, детские, союзмультфильм, мультфильмы]                                                                                                                                                                                                                                                                                                                                                                           \n",
      " genres_cnt          | 1096401                                                                                                                                                                                                                                                                                                                                                                                                                \n",
      " genres_buy          | 2873                                                                                                                                                                                                                                                                                                                                                                                                                   \n",
      " genres_prc          | 0.01080039353326373                                                                                                                                                                                                                                                                                                                                                                                                    \n",
      " genres_enc          | [0.0,0.0,0.0,0.0,0.0,0.0,0.0,0.0,0.0,0.0,0.0,0.0,0.0,0.0,0.0,0.0,0.0,0.0,0.0,0.0,0.0,0.0,0.0,0.0,0.0,0.0,0.0,0.0,0.0,0.0,0.0,0.0,0.0033809139690667415,0.0,0.0,0.0,0.0,0.0,0.0,0.0,0.0,0.0,0.0,0.0,0.0,0.0,0.0,0.0015244376691659148,0.0,0.0,0.0,0.0,0.0,0.0,0.0,0.0,0.0,0.0,0.0037391148730719,0.0,0.0,0.0,0.0,0.0,0.0,0.0,0.0,0.0,0.0,0.0021559270219591743,0.0,0.0,0.0,0.0,0.0,0.0,0.0,0.0,0.0,0.0,0.0,0.0,0.0,0.0] \n",
      " genres_pca          | [-0.002943058833251603,-0.0034022049928458223,-0.0019337378733884944]                                                                                                                                                                                                                                                                                                                                                  \n",
      " live_min_duration   | 428                                                                                                                                                                                                                                                                                                                                                                                                                    \n",
      " live_max_duration   | 19471                                                                                                                                                                                                                                                                                                                                                                                                                  \n",
      " live_mean_duration  | 8.854165303079101                                                                                                                                                                                                                                                                                                                                                                                                      \n",
      " live_sum_duration   | 28014                                                                                                                                                                                                                                                                                                                                                                                                                  \n",
      " live_counts         | 4                                                                                                                                                                                                                                                                                                                                                                                                                      \n",
      " pvr_min_duration    | 0                                                                                                                                                                                                                                                                                                                                                                                                                      \n",
      " pvr_max_duration    | 0                                                                                                                                                                                                                                                                                                                                                                                                                      \n",
      " pvr_mean_duration   | 0                                                                                                                                                                                                                                                                                                                                                                                                                      \n",
      " pvr_sum_duration    | 0                                                                                                                                                                                                                                                                                                                                                                                                                      \n",
      " pvr_counts          | 0                                                                                                                                                                                                                                                                                                                                                                                                                      \n",
      " user_watches_count  | 2051                                                                                                                                                                                                                                                                                                                                                                                                                   \n",
      " user_purchase_count | 1                                                                                                                                                                                                                                                                                                                                                                                                                      \n",
      " user_buy_percent    | 4.8756704046806434E-4                                                                                                                                                                                                                                                                                                                                                                                                  \n",
      " item_watches_count  | 1063                                                                                                                                                                                                                                                                                                                                                                                                                   \n",
      " item_purchase_count | 7                                                                                                                                                                                                                                                                                                                                                                                                                      \n",
      " item_buy_percent    | 0.00658513640639699                                                                                                                                                                                                                                                                                                                                                                                                    \n",
      " user_items          | 2.0794415416798357                                                                                                                                                                                                                                                                                                                                                                                                     \n",
      "only showing top 2 rows\n",
      "\n"
     ]
    }
   ],
   "source": [
    "train_data = lab03train.join(lab03items, on=\"item_id\") \\\n",
    "    .join(view_live_stats, on=[\"user_id\"], how='left') \\\n",
    "    .join(view_pvr_stats, on=[\"user_id\"], how='left') \\\n",
    "    .join(user_watches, on=\"user_id\", how='left') \\\n",
    "    .join(item_watches, on=\"item_id\", how='left') \\\n",
    "    .fillna(0, subset=view_live_stats.columns) \\\n",
    "    .fillna(0, subset=view_pvr_stats.columns) \\\n",
    "    .withColumn(\"user_items\", F.log(F.col(\"item_purchase_count\") * F.col(\"user_purchase_count\") + F.lit(1)))\n",
    "train_data.show(2, vertical=True, truncate=False)"
   ]
  },
  {
   "cell_type": "code",
   "execution_count": 38,
   "metadata": {},
   "outputs": [
    {
     "name": "stdout",
     "output_type": "stream",
     "text": [
      "-RECORD 0-------------------------------------------------------------------------------------------------------------------------------------------------------------------------------------------------------------------------------------------------------------------------------------------------------------------------------------------------------------------------------------------------------------------------------------\n",
      " item_id             | 8389                                                                                                                                                                                                                                                                                                                                                                                                                   \n",
      " user_id             | 795620                                                                                                                                                                                                                                                                                                                                                                                                                 \n",
      " purchase            | 0                                                                                                                                                                                                                                                                                                                                                                                                                      \n",
      " title               | пес в сапогах (сурдоперевод)                                                                                                                                                                                                                                                                                                                                                                                           \n",
      " year                | 1981                                                                                                                                                                                                                                                                                                                                                                                                                   \n",
      " genres_list         | [мультфильмы, детские, союзмультфильм, наши]                                                                                                                                                                                                                                                                                                                                                                           \n",
      " genres              | [детские, союзмультфильм, наши, мультфильмы]                                                                                                                                                                                                                                                                                                                                                                           \n",
      " genres_cnt          | 1096401                                                                                                                                                                                                                                                                                                                                                                                                                \n",
      " genres_buy          | 2873                                                                                                                                                                                                                                                                                                                                                                                                                   \n",
      " genres_prc          | 0.01080039353326373                                                                                                                                                                                                                                                                                                                                                                                                    \n",
      " genres_enc          | [0.0,0.0,0.0,0.0,0.0,0.0,0.0,0.0,0.0,0.0,0.0,0.0,0.0,0.0,0.0,0.0,0.0,0.0,0.0,0.0,0.0,0.0,0.0,0.0,0.0,0.0,0.0,0.0,0.0,0.0,0.0,0.0,0.0033809139690667415,0.0,0.0,0.0,0.0,0.0,0.0,0.0,0.0,0.0,0.0,0.0,0.0,0.0,0.0,0.0015244376691659148,0.0,0.0,0.0,0.0,0.0,0.0,0.0,0.0,0.0,0.0,0.0037391148730719,0.0,0.0,0.0,0.0,0.0,0.0,0.0,0.0,0.0,0.0,0.0021559270219591743,0.0,0.0,0.0,0.0,0.0,0.0,0.0,0.0,0.0,0.0,0.0,0.0,0.0,0.0] \n",
      " genres_pca          | [-0.002943058833251603,-0.0034022049928458223,-0.0019337378733884944]                                                                                                                                                                                                                                                                                                                                                  \n",
      " live_min_duration   | 302                                                                                                                                                                                                                                                                                                                                                                                                                    \n",
      " live_max_duration   | 16639                                                                                                                                                                                                                                                                                                                                                                                                                  \n",
      " live_mean_duration  | 7.979642074184798                                                                                                                                                                                                                                                                                                                                                                                                      \n",
      " live_sum_duration   | 841215                                                                                                                                                                                                                                                                                                                                                                                                                 \n",
      " live_counts         | 288                                                                                                                                                                                                                                                                                                                                                                                                                    \n",
      " pvr_min_duration    | 405                                                                                                                                                                                                                                                                                                                                                                                                                    \n",
      " pvr_max_duration    | 9263                                                                                                                                                                                                                                                                                                                                                                                                                   \n",
      " pvr_mean_duration   | 4023                                                                                                                                                                                                                                                                                                                                                                                                                   \n",
      " pvr_sum_duration    | 36212                                                                                                                                                                                                                                                                                                                                                                                                                  \n",
      " pvr_counts          | 9                                                                                                                                                                                                                                                                                                                                                                                                                      \n",
      " user_watches_count  | 2099                                                                                                                                                                                                                                                                                                                                                                                                                   \n",
      " user_purchase_count | 9                                                                                                                                                                                                                                                                                                                                                                                                                      \n",
      " user_buy_percent    | 0.004287756074321105                                                                                                                                                                                                                                                                                                                                                                                                   \n",
      " item_watches_count  | 1063                                                                                                                                                                                                                                                                                                                                                                                                                   \n",
      " item_purchase_count | 7                                                                                                                                                                                                                                                                                                                                                                                                                      \n",
      " item_buy_percent    | 0.00658513640639699                                                                                                                                                                                                                                                                                                                                                                                                    \n",
      " user_items          | 4.1588830833596715                                                                                                                                                                                                                                                                                                                                                                                                     \n",
      "-RECORD 1-------------------------------------------------------------------------------------------------------------------------------------------------------------------------------------------------------------------------------------------------------------------------------------------------------------------------------------------------------------------------------------------------------------------------------------\n",
      " item_id             | 8389                                                                                                                                                                                                                                                                                                                                                                                                                   \n",
      " user_id             | 851848                                                                                                                                                                                                                                                                                                                                                                                                                 \n",
      " purchase            | 0                                                                                                                                                                                                                                                                                                                                                                                                                      \n",
      " title               | пес в сапогах (сурдоперевод)                                                                                                                                                                                                                                                                                                                                                                                           \n",
      " year                | 1981                                                                                                                                                                                                                                                                                                                                                                                                                   \n",
      " genres_list         | [мультфильмы, детские, союзмультфильм, наши]                                                                                                                                                                                                                                                                                                                                                                           \n",
      " genres              | [детские, союзмультфильм, наши, мультфильмы]                                                                                                                                                                                                                                                                                                                                                                           \n",
      " genres_cnt          | 1096401                                                                                                                                                                                                                                                                                                                                                                                                                \n",
      " genres_buy          | 2873                                                                                                                                                                                                                                                                                                                                                                                                                   \n",
      " genres_prc          | 0.01080039353326373                                                                                                                                                                                                                                                                                                                                                                                                    \n",
      " genres_enc          | [0.0,0.0,0.0,0.0,0.0,0.0,0.0,0.0,0.0,0.0,0.0,0.0,0.0,0.0,0.0,0.0,0.0,0.0,0.0,0.0,0.0,0.0,0.0,0.0,0.0,0.0,0.0,0.0,0.0,0.0,0.0,0.0,0.0033809139690667415,0.0,0.0,0.0,0.0,0.0,0.0,0.0,0.0,0.0,0.0,0.0,0.0,0.0,0.0,0.0015244376691659148,0.0,0.0,0.0,0.0,0.0,0.0,0.0,0.0,0.0,0.0,0.0037391148730719,0.0,0.0,0.0,0.0,0.0,0.0,0.0,0.0,0.0,0.0,0.0021559270219591743,0.0,0.0,0.0,0.0,0.0,0.0,0.0,0.0,0.0,0.0,0.0,0.0,0.0,0.0] \n",
      " genres_pca          | [-0.002943058833251603,-0.0034022049928458223,-0.0019337378733884944]                                                                                                                                                                                                                                                                                                                                                  \n",
      " live_min_duration   | 300                                                                                                                                                                                                                                                                                                                                                                                                                    \n",
      " live_max_duration   | 40565                                                                                                                                                                                                                                                                                                                                                                                                                  \n",
      " live_mean_duration  | 8.237475426558518                                                                                                                                                                                                                                                                                                                                                                                                      \n",
      " live_sum_duration   | 3107148                                                                                                                                                                                                                                                                                                                                                                                                                \n",
      " live_counts         | 822                                                                                                                                                                                                                                                                                                                                                                                                                    \n",
      " pvr_min_duration    | 307                                                                                                                                                                                                                                                                                                                                                                                                                    \n",
      " pvr_max_duration    | 14324                                                                                                                                                                                                                                                                                                                                                                                                                  \n",
      " pvr_mean_duration   | 2625                                                                                                                                                                                                                                                                                                                                                                                                                   \n",
      " pvr_sum_duration    | 31506                                                                                                                                                                                                                                                                                                                                                                                                                  \n",
      " pvr_counts          | 12                                                                                                                                                                                                                                                                                                                                                                                                                     \n",
      " user_watches_count  | 2069                                                                                                                                                                                                                                                                                                                                                                                                                   \n",
      " user_purchase_count | 1                                                                                                                                                                                                                                                                                                                                                                                                                      \n",
      " user_buy_percent    | 4.833252779120348E-4                                                                                                                                                                                                                                                                                                                                                                                                   \n",
      " item_watches_count  | 1063                                                                                                                                                                                                                                                                                                                                                                                                                   \n",
      " item_purchase_count | 7                                                                                                                                                                                                                                                                                                                                                                                                                      \n",
      " item_buy_percent    | 0.00658513640639699                                                                                                                                                                                                                                                                                                                                                                                                    \n",
      " user_items          | 2.0794415416798357                                                                                                                                                                                                                                                                                                                                                                                                     \n",
      "only showing top 2 rows\n",
      "\n"
     ]
    }
   ],
   "source": [
    "valid_data = lab03valid.join(lab03items, on=\"item_id\") \\\n",
    "    .join(view_live_stats, on=[\"user_id\"], how='left') \\\n",
    "    .join(view_pvr_stats, on=[\"user_id\"], how='left') \\\n",
    "    .join(user_watches, on=\"user_id\", how='left') \\\n",
    "    .join(item_watches, on=\"item_id\", how='left') \\\n",
    "    .fillna(0, subset=view_live_stats.columns) \\\n",
    "    .fillna(0, subset=view_pvr_stats.columns) \\\n",
    "    .withColumn(\"user_items\", F.log(F.col(\"item_purchase_count\") * F.col(\"user_purchase_count\") + F.lit(1)))\n",
    "valid_data.show(2, vertical=True, truncate=False)"
   ]
  },
  {
   "cell_type": "code",
   "execution_count": 39,
   "metadata": {},
   "outputs": [
    {
     "name": "stdout",
     "output_type": "stream",
     "text": [
      "-RECORD 0-------------------------------------------------------------------------------------------------------------------------------------------------------------------------------------------------------------------------------------------------------------------------------------------------------------------------------------------------------------------------------------------------------------------------------------\n",
      " item_id             | 8389                                                                                                                                                                                                                                                                                                                                                                                                                   \n",
      " user_id             | 761341                                                                                                                                                                                                                                                                                                                                                                                                                 \n",
      " purchase            | null                                                                                                                                                                                                                                                                                                                                                                                                                   \n",
      " title               | пес в сапогах (сурдоперевод)                                                                                                                                                                                                                                                                                                                                                                                           \n",
      " year                | 1981                                                                                                                                                                                                                                                                                                                                                                                                                   \n",
      " genres_list         | [мультфильмы, детские, союзмультфильм, наши]                                                                                                                                                                                                                                                                                                                                                                           \n",
      " genres              | [детские, союзмультфильм, мультфильмы, наши]                                                                                                                                                                                                                                                                                                                                                                           \n",
      " genres_cnt          | 1096401                                                                                                                                                                                                                                                                                                                                                                                                                \n",
      " genres_buy          | 2873                                                                                                                                                                                                                                                                                                                                                                                                                   \n",
      " genres_prc          | 0.01080039353326373                                                                                                                                                                                                                                                                                                                                                                                                    \n",
      " genres_enc          | [0.0,0.0,0.0,0.0,0.0,0.0,0.0,0.0,0.0,0.0,0.0,0.0,0.0,0.0,0.0,0.0,0.0,0.0,0.0,0.0,0.0,0.0,0.0,0.0,0.0,0.0,0.0,0.0,0.0,0.0,0.0,0.0,0.0033809139690667415,0.0,0.0,0.0,0.0,0.0,0.0,0.0,0.0,0.0,0.0,0.0,0.0,0.0,0.0,0.0015244376691659148,0.0,0.0,0.0,0.0,0.0,0.0,0.0,0.0,0.0,0.0,0.0037391148730719,0.0,0.0,0.0,0.0,0.0,0.0,0.0,0.0,0.0,0.0,0.0021559270219591743,0.0,0.0,0.0,0.0,0.0,0.0,0.0,0.0,0.0,0.0,0.0,0.0,0.0,0.0] \n",
      " genres_pca          | [-0.002943058833251603,-0.0034022049928458223,-0.0019337378733884944]                                                                                                                                                                                                                                                                                                                                                  \n",
      " live_min_duration   | 340                                                                                                                                                                                                                                                                                                                                                                                                                    \n",
      " live_max_duration   | 4377                                                                                                                                                                                                                                                                                                                                                                                                                   \n",
      " live_mean_duration  | 7.213814330623655                                                                                                                                                                                                                                                                                                                                                                                                      \n",
      " live_sum_duration   | 21729                                                                                                                                                                                                                                                                                                                                                                                                                  \n",
      " live_counts         | 16                                                                                                                                                                                                                                                                                                                                                                                                                     \n",
      " pvr_min_duration    | 342                                                                                                                                                                                                                                                                                                                                                                                                                    \n",
      " pvr_max_duration    | 6313                                                                                                                                                                                                                                                                                                                                                                                                                   \n",
      " pvr_mean_duration   | 3240                                                                                                                                                                                                                                                                                                                                                                                                                   \n",
      " pvr_sum_duration    | 90732                                                                                                                                                                                                                                                                                                                                                                                                                  \n",
      " pvr_counts          | 28                                                                                                                                                                                                                                                                                                                                                                                                                     \n",
      " user_watches_count  | 2068                                                                                                                                                                                                                                                                                                                                                                                                                   \n",
      " user_purchase_count | 1                                                                                                                                                                                                                                                                                                                                                                                                                      \n",
      " user_buy_percent    | 4.8355899419729207E-4                                                                                                                                                                                                                                                                                                                                                                                                  \n",
      " item_watches_count  | 1063                                                                                                                                                                                                                                                                                                                                                                                                                   \n",
      " item_purchase_count | 7                                                                                                                                                                                                                                                                                                                                                                                                                      \n",
      " item_buy_percent    | 0.00658513640639699                                                                                                                                                                                                                                                                                                                                                                                                    \n",
      " user_items          | 2.0794415416798357                                                                                                                                                                                                                                                                                                                                                                                                     \n",
      "-RECORD 1-------------------------------------------------------------------------------------------------------------------------------------------------------------------------------------------------------------------------------------------------------------------------------------------------------------------------------------------------------------------------------------------------------------------------------------\n",
      " item_id             | 8389                                                                                                                                                                                                                                                                                                                                                                                                                   \n",
      " user_id             | 776188                                                                                                                                                                                                                                                                                                                                                                                                                 \n",
      " purchase            | null                                                                                                                                                                                                                                                                                                                                                                                                                   \n",
      " title               | пес в сапогах (сурдоперевод)                                                                                                                                                                                                                                                                                                                                                                                           \n",
      " year                | 1981                                                                                                                                                                                                                                                                                                                                                                                                                   \n",
      " genres_list         | [мультфильмы, детские, союзмультфильм, наши]                                                                                                                                                                                                                                                                                                                                                                           \n",
      " genres              | [детские, союзмультфильм, мультфильмы, наши]                                                                                                                                                                                                                                                                                                                                                                           \n",
      " genres_cnt          | 1096401                                                                                                                                                                                                                                                                                                                                                                                                                \n",
      " genres_buy          | 2873                                                                                                                                                                                                                                                                                                                                                                                                                   \n",
      " genres_prc          | 0.01080039353326373                                                                                                                                                                                                                                                                                                                                                                                                    \n",
      " genres_enc          | [0.0,0.0,0.0,0.0,0.0,0.0,0.0,0.0,0.0,0.0,0.0,0.0,0.0,0.0,0.0,0.0,0.0,0.0,0.0,0.0,0.0,0.0,0.0,0.0,0.0,0.0,0.0,0.0,0.0,0.0,0.0,0.0,0.0033809139690667415,0.0,0.0,0.0,0.0,0.0,0.0,0.0,0.0,0.0,0.0,0.0,0.0,0.0,0.0,0.0015244376691659148,0.0,0.0,0.0,0.0,0.0,0.0,0.0,0.0,0.0,0.0,0.0037391148730719,0.0,0.0,0.0,0.0,0.0,0.0,0.0,0.0,0.0,0.0,0.0021559270219591743,0.0,0.0,0.0,0.0,0.0,0.0,0.0,0.0,0.0,0.0,0.0,0.0,0.0,0.0] \n",
      " genres_pca          | [-0.002943058833251603,-0.0034022049928458223,-0.0019337378733884944]                                                                                                                                                                                                                                                                                                                                                  \n",
      " live_min_duration   | 301                                                                                                                                                                                                                                                                                                                                                                                                                    \n",
      " live_max_duration   | 47684                                                                                                                                                                                                                                                                                                                                                                                                                  \n",
      " live_mean_duration  | 8.688700607312756                                                                                                                                                                                                                                                                                                                                                                                                      \n",
      " live_sum_duration   | 1430447                                                                                                                                                                                                                                                                                                                                                                                                                \n",
      " live_counts         | 241                                                                                                                                                                                                                                                                                                                                                                                                                    \n",
      " pvr_min_duration    | 316                                                                                                                                                                                                                                                                                                                                                                                                                    \n",
      " pvr_max_duration    | 36839                                                                                                                                                                                                                                                                                                                                                                                                                  \n",
      " pvr_mean_duration   | 4555                                                                                                                                                                                                                                                                                                                                                                                                                   \n",
      " pvr_sum_duration    | 277903                                                                                                                                                                                                                                                                                                                                                                                                                 \n",
      " pvr_counts          | 61                                                                                                                                                                                                                                                                                                                                                                                                                     \n",
      " user_watches_count  | 2090                                                                                                                                                                                                                                                                                                                                                                                                                   \n",
      " user_purchase_count | 2                                                                                                                                                                                                                                                                                                                                                                                                                      \n",
      " user_buy_percent    | 9.569377990430622E-4                                                                                                                                                                                                                                                                                                                                                                                                   \n",
      " item_watches_count  | 1063                                                                                                                                                                                                                                                                                                                                                                                                                   \n",
      " item_purchase_count | 7                                                                                                                                                                                                                                                                                                                                                                                                                      \n",
      " item_buy_percent    | 0.00658513640639699                                                                                                                                                                                                                                                                                                                                                                                                    \n",
      " user_items          | 2.70805020110221                                                                                                                                                                                                                                                                                                                                                                                                       \n",
      "only showing top 2 rows\n",
      "\n"
     ]
    }
   ],
   "source": [
    "test_data = lab03test.join(lab03items, on=\"item_id\") \\\n",
    "    .join(view_live_stats, on=[\"user_id\"], how='left') \\\n",
    "    .join(view_pvr_stats, on=[\"user_id\"], how='left') \\\n",
    "    .join(user_watches, on=\"user_id\", how='left') \\\n",
    "    .join(item_watches, on=\"item_id\", how='left') \\\n",
    "    .fillna(0, subset=view_live_stats.columns) \\\n",
    "    .fillna(0, subset=view_pvr_stats.columns) \\\n",
    "    .withColumn(\"user_items\", F.log(F.col(\"item_purchase_count\") * F.col(\"user_purchase_count\") + F.lit(1)))\n",
    "test_data.show(2, vertical=True, truncate=False)"
   ]
  },
  {
   "cell_type": "code",
   "execution_count": 40,
   "metadata": {},
   "outputs": [
    {
     "data": {
      "text/plain": [
       "3"
      ]
     },
     "execution_count": 40,
     "metadata": {},
     "output_type": "execute_result"
    }
   ],
   "source": [
    "NUM_EXECUTORS = spark.sparkContext.getConf().get(\"spark.executor.instances\")\n",
    "int(NUM_EXECUTORS)"
   ]
  },
  {
   "cell_type": "code",
   "execution_count": 41,
   "metadata": {},
   "outputs": [],
   "source": [
    "#Coalesce dataframe partitions from 200 to 3 * num_executors\n",
    "train_data = train_data.repartition(int(NUM_EXECUTORS) * 3)\n",
    "valid_data = valid_data.repartition(int(NUM_EXECUTORS) * 3)\n",
    "test_data = test_data.repartition(int(NUM_EXECUTORS) * 3)"
   ]
  },
  {
   "cell_type": "code",
   "execution_count": 42,
   "metadata": {},
   "outputs": [],
   "source": [
    "assert train_data.count() == lab03train.count()\n",
    "assert valid_data.count() == lab03valid.count()\n",
    "assert test_data.count() == lab03test.count()"
   ]
  },
  {
   "cell_type": "markdown",
   "metadata": {},
   "source": [
    "### Prepare features"
   ]
  },
  {
   "cell_type": "code",
   "execution_count": 43,
   "metadata": {},
   "outputs": [],
   "source": [
    "stop_words_ru = StopWordsRemover.loadDefaultStopWords(\"russian\")\n",
    "stop_words_en = StopWordsRemover.loadDefaultStopWords(\"english\")\n",
    "stop_words = [*stop_words_ru, *stop_words_en]"
   ]
  },
  {
   "cell_type": "code",
   "execution_count": 44,
   "metadata": {},
   "outputs": [],
   "source": [
    "# трасформеры для текста\n",
    "tokenizer = RegexTokenizer(inputCol=\"title\", outputCol=\"words\", pattern=\"\\\\s\")\n",
    "swr = StopWordsRemover(inputCol=tokenizer.getOutputCol(), outputCol=\"words_filtered\", stopWords=stop_words)\n",
    "tf = HashingTF(inputCol=tokenizer.getOutputCol(), outputCol=\"tf\", ).setNumFeatures(2000)\n",
    "idf = IDF(inputCol=tf.getOutputCol(), outputCol=\"idf\", )\n",
    "pca = PCA(k=3, inputCol=idf.getOutputCol(), outputCol=\"pca\")\n",
    "text_pipeline = Pipeline(stages=[tokenizer, swr, tf, idf, pca])"
   ]
  },
  {
   "cell_type": "code",
   "execution_count": 45,
   "metadata": {},
   "outputs": [
    {
     "data": {
      "text/plain": [
       "['item_id',\n",
       " 'user_id',\n",
       " 'purchase',\n",
       " 'title',\n",
       " 'year',\n",
       " 'genres_list',\n",
       " 'genres',\n",
       " 'genres_cnt',\n",
       " 'genres_buy',\n",
       " 'genres_prc',\n",
       " 'genres_enc',\n",
       " 'genres_pca',\n",
       " 'live_min_duration',\n",
       " 'live_max_duration',\n",
       " 'live_mean_duration',\n",
       " 'live_sum_duration',\n",
       " 'live_counts',\n",
       " 'pvr_min_duration',\n",
       " 'pvr_max_duration',\n",
       " 'pvr_mean_duration',\n",
       " 'pvr_sum_duration',\n",
       " 'pvr_counts',\n",
       " 'user_watches_count',\n",
       " 'user_purchase_count',\n",
       " 'user_buy_percent',\n",
       " 'item_watches_count',\n",
       " 'item_purchase_count',\n",
       " 'item_buy_percent',\n",
       " 'user_items']"
      ]
     },
     "execution_count": 45,
     "metadata": {},
     "output_type": "execute_result"
    }
   ],
   "source": [
    "train_data.columns"
   ]
  },
  {
   "cell_type": "code",
   "execution_count": 46,
   "metadata": {},
   "outputs": [],
   "source": [
    "# трасформеры для числовых фичей\n",
    "num_features = [\n",
    " 'year',\n",
    " 'genres_buy',\n",
    " 'genres_prc',\n",
    " 'live_min_duration',\n",
    " 'live_max_duration',\n",
    " 'live_mean_duration',\n",
    " 'live_sum_duration',\n",
    " 'live_counts',\n",
    " 'pvr_min_duration',\n",
    " 'pvr_max_duration',\n",
    " 'pvr_mean_duration',\n",
    " 'pvr_sum_duration',\n",
    " 'pvr_counts',\n",
    " 'user_purchase_count',\n",
    " 'user_buy_percent',\n",
    " 'item_purchase_count',\n",
    " 'item_buy_percent',\n",
    "# 'user_items',\n",
    "]\n",
    "num_features = VectorAssembler(inputCols=num_features, outputCol=\"num_features\")\n",
    "scaler = StandardScaler(inputCol=num_features.getOutputCol(), outputCol=\"scaled_features\")\n",
    "normalizer = Normalizer(inputCol=num_features.getOutputCol(), outputCol=\"normed_features\")\n",
    "num_pipeline = Pipeline(stages=[num_features])"
   ]
  },
  {
   "cell_type": "code",
   "execution_count": 47,
   "metadata": {},
   "outputs": [
    {
     "data": {
      "text/plain": [
       "[Pipeline_ffaebca61cf2,\n",
       " VectorAssembler_b49847e137fe,\n",
       " VectorAssembler_66b6ee8528aa]"
      ]
     },
     "execution_count": 47,
     "metadata": {},
     "output_type": "execute_result"
    }
   ],
   "source": [
    "all_assemble = VectorAssembler(inputCols=[\"genres_pca\", text_pipeline.getStages()[-1].getOutputCol(),\n",
    "                                          num_pipeline.getStages()[-1].getOutputCol()], outputCol=\"features\")\n",
    "preprocessing = Pipeline(stages=[text_pipeline, num_features, all_assemble])\n",
    "preprocessing.getStages()"
   ]
  },
  {
   "cell_type": "code",
   "execution_count": 48,
   "metadata": {},
   "outputs": [],
   "source": [
    "#preprocessing = num_pipeline"
   ]
  },
  {
   "cell_type": "code",
   "execution_count": 49,
   "metadata": {},
   "outputs": [
    {
     "name": "stdout",
     "output_type": "stream",
     "text": [
      "-RECORD 0-------------------------------------------------------\n",
      " item_id             | 90019                                    \n",
      " user_id             | 924175                                   \n",
      " purchase            | 0                                        \n",
      " title               | гнев                                     \n",
      " year                | 2014                                     \n",
      " genres_list         | [детективы, триллеры, боевики, зарубе... \n",
      " genres              | [боевики, триллеры, детективы, зарубе... \n",
      " genres_cnt          | 3581714                                  \n",
      " genres_buy          | 8004                                     \n",
      " genres_prc          | 0.008871372830513122                     \n",
      " genres_enc          | [0.0,0.0,0.0,0.0,0.002666504445863876... \n",
      " genres_pca          | [0.0029916975858536596,-0.00125196984... \n",
      " live_min_duration   | 315                                      \n",
      " live_max_duration   | 32837                                    \n",
      " live_mean_duration  | 8.032414979538736                        \n",
      " live_sum_duration   | 237096                                   \n",
      " live_counts         | 77                                       \n",
      " pvr_min_duration    | 0                                        \n",
      " pvr_max_duration    | 0                                        \n",
      " pvr_mean_duration   | 0                                        \n",
      " pvr_sum_duration    | 0                                        \n",
      " pvr_counts          | 0                                        \n",
      " user_watches_count  | 2057                                     \n",
      " user_purchase_count | 6                                        \n",
      " user_buy_percent    | 0.002916869227029655                     \n",
      " item_watches_count  | 1056                                     \n",
      " item_purchase_count | 1                                        \n",
      " item_buy_percent    | 9.46969696969697E-4                      \n",
      " user_items          | 1.9459101490553132                       \n",
      " words               | [гнев]                                   \n",
      " words_filtered      | [гнев]                                   \n",
      " tf                  | (2000,[1745],[1.0])                      \n",
      " idf                 | (2000,[1745],[5.906116393593476])        \n",
      " pca                 | [0.19811618144336376,0.01906576195485... \n",
      " num_features        | [2014.0,8004.0,0.008871372830513122,3... \n",
      " features            | [0.0029916975858536596,-0.00125196984... \n",
      "only showing top 1 row\n",
      "\n",
      "-RECORD 0-------------------------------------------------------\n",
      " item_id             | 95080                                    \n",
      " user_id             | 868783                                   \n",
      " purchase            | 0                                        \n",
      " title               | шакал                                    \n",
      " year                | 2016                                     \n",
      " genres_list         | [детективы]                              \n",
      " genres              | [детективы]                              \n",
      " genres_cnt          | 386019                                   \n",
      " genres_buy          | 669                                      \n",
      " genres_prc          | 0.0017330753149456374                    \n",
      " genres_enc          | [0.0,0.0,0.0,0.0,0.0,0.0,0.0,0.0,0.0,... \n",
      " genres_pca          | [8.379140154300911E-5,5.1231135083242... \n",
      " live_min_duration   | 302                                      \n",
      " live_max_duration   | 79483                                    \n",
      " live_mean_duration  | 8.500994388690295                        \n",
      " live_sum_duration   | 1598889                                  \n",
      " live_counts         | 325                                      \n",
      " pvr_min_duration    | 685                                      \n",
      " pvr_max_duration    | 5630                                     \n",
      " pvr_mean_duration   | 3157                                     \n",
      " pvr_sum_duration    | 6315                                     \n",
      " pvr_counts          | 2                                        \n",
      " user_watches_count  | 2066                                     \n",
      " user_purchase_count | 0                                        \n",
      " user_buy_percent    | 0.0                                      \n",
      " item_watches_count  | 1066                                     \n",
      " item_purchase_count | 0                                        \n",
      " item_buy_percent    | 0.0                                      \n",
      " user_items          | 0.0                                      \n",
      " words               | [шакал]                                  \n",
      " words_filtered      | [шакал]                                  \n",
      " tf                  | (2000,[1155],[1.0])                      \n",
      " idf                 | (2000,[1155],[6.2813489914423215])       \n",
      " pca                 | [-0.016674210059610603,-0.02171952350... \n",
      " num_features        | [2016.0,669.0,0.0017330753149456374,3... \n",
      " features            | [8.379140154300911E-5,5.1231135083242... \n",
      "only showing top 1 row\n",
      "\n",
      "-RECORD 0-------------------------------------------------------\n",
      " item_id             | 94851                                    \n",
      " user_id             | 924078                                   \n",
      " purchase            | null                                     \n",
      " title               | отчаянная домохозяйка                    \n",
      " year                | 2010                                     \n",
      " genres_list         | [комедии, зарубежные]                    \n",
      " genres              | [зарубежные, комедии]                    \n",
      " genres_cnt          | 2823015                                  \n",
      " genres_buy          | 5993                                     \n",
      " genres_prc          | 0.0041863450319041                       \n",
      " genres_enc          | [0.0,0.0,0.0,0.0,0.0,0.0,0.0,0.0,0.0,... \n",
      " genres_pca          | [0.0011932181713673628,-6.59690998989... \n",
      " live_min_duration   | 306                                      \n",
      " live_max_duration   | 27983                                    \n",
      " live_mean_duration  | 8.582621270767286                        \n",
      " live_sum_duration   | 870107                                   \n",
      " live_counts         | 163                                      \n",
      " pvr_min_duration    | 314                                      \n",
      " pvr_max_duration    | 18833                                    \n",
      " pvr_mean_duration   | 5417                                     \n",
      " pvr_sum_duration    | 81255                                    \n",
      " pvr_counts          | 15                                       \n",
      " user_watches_count  | 2053                                     \n",
      " user_purchase_count | 9                                        \n",
      " user_buy_percent    | 0.00438382854359474                      \n",
      " item_watches_count  | 1067                                     \n",
      " item_purchase_count | 1                                        \n",
      " item_buy_percent    | 9.372071227741331E-4                     \n",
      " user_items          | 2.302585092994046                        \n",
      " words               | [отчаянная, домохозяйка]                 \n",
      " words_filtered      | [отчаянная, домохозяйка]                 \n",
      " tf                  | (2000,[1112,1290],[1.0,1.0])             \n",
      " idf                 | (2000,[1112,1290],[6.8417948064842795... \n",
      " pca                 | [0.023215884324863077,0.0036931285753... \n",
      " num_features        | [2010.0,5993.0,0.0041863450319041,306... \n",
      " features            | [0.0011932181713673628,-6.59690998989... \n",
      "only showing top 1 row\n",
      "\n"
     ]
    }
   ],
   "source": [
    "preprocessing_model = preprocessing.fit(train_data)\n",
    "train = preprocessing_model.transform(train_data)\n",
    "train.show(1, vertical=True, truncate=40)\n",
    "valid = preprocessing_model.transform(valid_data)\n",
    "valid.show(1, vertical=True, truncate=40)\n",
    "test = preprocessing_model.transform(test_data)\n",
    "test.show(1, vertical=True, truncate=40)"
   ]
  },
  {
   "cell_type": "markdown",
   "metadata": {},
   "source": [
    "### Underfit"
   ]
  },
  {
   "cell_type": "code",
   "execution_count": 50,
   "metadata": {},
   "outputs": [],
   "source": [
    "# underfit_data = preprocessed_train_data.sampleBy(\"purchase\", fractions={0: 0.02, 1: 1}, seed=RANDOM_SEED)\n",
    "# train, valid = preprocessed_train_data.randomSplit([0.8, 0.2], seed=RANDOM_SEED)"
   ]
  },
  {
   "cell_type": "markdown",
   "metadata": {},
   "source": [
    "### Split train/validate"
   ]
  },
  {
   "cell_type": "code",
   "execution_count": 51,
   "metadata": {},
   "outputs": [],
   "source": [
    "#train = preprocessed_train_data.sampleBy(\"purchase\", fractions={0: 0.8, 1: 0.8}, seed=RANDOM_SEED)"
   ]
  },
  {
   "cell_type": "code",
   "execution_count": 52,
   "metadata": {},
   "outputs": [],
   "source": [
    "#valid = preprocessed_train_data.join(train, on=[\"user_id\", \"item_id\"], how=\"leftanti\")"
   ]
  },
  {
   "cell_type": "code",
   "execution_count": 53,
   "metadata": {},
   "outputs": [],
   "source": [
    "#train, valid = preprocessed_train_data.randomSplit([0.8, 0.2], seed=RANDOM_SEED)"
   ]
  },
  {
   "cell_type": "markdown",
   "metadata": {},
   "source": [
    "### Base model (LogReg)"
   ]
  },
  {
   "cell_type": "code",
   "execution_count": 54,
   "metadata": {},
   "outputs": [
    {
     "name": "stdout",
     "output_type": "stream",
     "text": [
      "Accuracy is 0.9977369561911691\n",
      "             precision    recall  f1-score   support\n",
      "\n",
      "          0       1.00      1.00      1.00   1003986\n",
      "          1       0.30      0.03      0.06      2181\n",
      "\n",
      "avg / total       1.00      1.00      1.00   1006167\n",
      "\n",
      "ROC on test data 0.8869973622601101\n"
     ]
    },
    {
     "data": {
      "image/png": "[encoded data removed]",
      "text/plain": [
       "<Figure size 432x288 with 1 Axes>"
      ]
     },
     "metadata": {},
     "output_type": "display_data"
    },
    {
     "name": "stdout",
     "output_type": "stream",
     "text": [
      "Training set areaUnderROC: 0.9114376019129553\n"
     ]
    }
   ],
   "source": [
    "from pyspark.ml.classification import LogisticRegression\n",
    "lr = LogisticRegression(featuresCol=\"features\", labelCol=\"purchase\", maxIter=15)\n",
    "lr_model = lr.fit(train)\n",
    "predictions = lr_model.transform(valid)\n",
    "correct_predictions = predictions.select(\"purchase\", F.col(\"prediction\").cast(\"int\")) \\\n",
    "    .filter(\"purchase == prediction\").count()\n",
    "all_predictions = predictions.count()\n",
    "print(\"Accuracy is {}\".format(correct_predictions / all_predictions))\n",
    "predictions_pd = predictions.select(\"purchase\", F.col(\"prediction\").cast(\"int\")).toPandas()\n",
    "print(classification_report(predictions_pd.purchase, predictions_pd.prediction))\n",
    "evaluator = BinaryClassificationEvaluator(rawPredictionCol=\"rawPrediction\", \n",
    "                                          labelCol=\"purchase\", metricName='areaUnderROC')\n",
    "print(\"ROC on test data\", evaluator.evaluate(predictions))\n",
    "trainingSummary = lr_model.summary\n",
    "roc = trainingSummary.roc.toPandas()\n",
    "plt.plot(roc['FPR'],roc['TPR'])\n",
    "plt.ylabel('False Positive Rate')\n",
    "plt.xlabel('True Positive Rate')\n",
    "plt.title('ROC Curve')\n",
    "plt.show()\n",
    "print('Training set areaUnderROC: ' + str(trainingSummary.areaUnderROC))"
   ]
  },
  {
   "cell_type": "code",
   "execution_count": 55,
   "metadata": {},
   "outputs": [
    {
     "data": {
      "text/plain": [
       "0.9118640137923717"
      ]
     },
     "execution_count": 55,
     "metadata": {},
     "output_type": "execute_result"
    }
   ],
   "source": [
    "evaluator.evaluate(lr_model.transform(train))"
   ]
  },
  {
   "cell_type": "markdown",
   "metadata": {},
   "source": [
    "### GBTClassifier"
   ]
  },
  {
   "cell_type": "code",
   "execution_count": 70,
   "metadata": {},
   "outputs": [
    {
     "name": "stdout",
     "output_type": "stream",
     "text": [
      "Accuracy is 0.9978373371418462\n",
      "             precision    recall  f1-score   support\n",
      "\n",
      "          0       1.00      1.00      1.00   1003986\n",
      "          1       0.59      0.01      0.02      2181\n",
      "\n",
      "avg / total       1.00      1.00      1.00   1006167\n",
      "\n",
      "ROC on test data 0.8891158311562504\n"
     ]
    }
   ],
   "source": [
    "gbt = GBTClassifier(featuresCol=\"features\", labelCol=\"purchase\", seed=RANDOM_SEED, maxBins=200)\n",
    "evaluator = BinaryClassificationEvaluator(rawPredictionCol=\"probability\", \n",
    "                                          labelCol=\"purchase\", metricName='areaUnderROC')\n",
    "gbt_model = gbt.fit(train)\n",
    "predictions = gbt_model.transform(valid)\n",
    "correct_predictions = predictions.select(\"purchase\", F.col(\"prediction\").cast(\"int\")) \\\n",
    "    .filter(\"purchase == prediction\").count()\n",
    "all_predictions = predictions.count()\n",
    "print(\"Accuracy is {}\".format(correct_predictions / all_predictions))\n",
    "predictions_pd = predictions.select(\"purchase\", F.col(\"prediction\").cast(\"int\")).toPandas()\n",
    "print(classification_report(predictions_pd.purchase, predictions_pd.prediction))\n",
    "evaluator = BinaryClassificationEvaluator(rawPredictionCol=\"rawPrediction\", \n",
    "                                          labelCol=\"purchase\", metricName='areaUnderROC')\n",
    "print(\"ROC on test data\", evaluator.evaluate(predictions))"
   ]
  },
  {
   "cell_type": "code",
   "execution_count": 57,
   "metadata": {},
   "outputs": [
    {
     "data": {
      "text/plain": [
       "0.9413510866488475"
      ]
     },
     "execution_count": 57,
     "metadata": {},
     "output_type": "execute_result"
    }
   ],
   "source": [
    "# Test for overfitting\n",
    "evaluator.evaluate(gbt_model.transform(train))"
   ]
  },
  {
   "cell_type": "code",
   "execution_count": 58,
   "metadata": {},
   "outputs": [
    {
     "data": {
      "text/plain": [
       "9"
      ]
     },
     "execution_count": 58,
     "metadata": {},
     "output_type": "execute_result"
    }
   ],
   "source": [
    "train_all = train.unionAll(valid).repartition(int(NUM_EXECUTORS) * 3)\n",
    "train_all.rdd.getNumPartitions()"
   ]
  },
  {
   "cell_type": "code",
   "execution_count": 59,
   "metadata": {},
   "outputs": [],
   "source": [
    "# paramGrid = ParamGridBuilder().addGrid(gbt.maxIter, [10, 15]) \\\n",
    "#                               .addGrid(gbt.maxDepth, [5, 7]) \\\n",
    "#                               .addGrid(gbt.stepSize, [0.1, 0.5]) \\\n",
    "#                               .build()\n",
    "# crossval = CrossValidator(estimator=gbt, estimatorParamMaps=paramGrid,\n",
    "#                               evaluator=evaluator, numFolds=3, parallelism=3)\n",
    "# cv_model = crossval.fit(train_all)\n",
    "# cv_model.avgMetrics"
   ]
  },
  {
   "cell_type": "code",
   "execution_count": 60,
   "metadata": {},
   "outputs": [],
   "source": [
    "#print(cv_model.bestModel.explainParams())"
   ]
  },
  {
   "cell_type": "code",
   "execution_count": 61,
   "metadata": {},
   "outputs": [],
   "source": [
    "# correct_predictions = predictions.select(\"purchase\", F.col(\"prediction\").cast(\"int\")) \\\n",
    "#     .filter(\"purchase == prediction\").count()\n",
    "# all_predictions = predictions.count()\n",
    "# print(\"Accuracy is {}\".format(correct_predictions / all_predictions))\n",
    "# predictions_pd = predictions.select(\"purchase\", F.col(\"prediction\").cast(\"int\")).toPandas()\n",
    "# print(classification_report(predictions_pd.purchase, predictions_pd.prediction))\n",
    "# evaluator = BinaryClassificationEvaluator(rawPredictionCol=\"rawPrediction\", \n",
    "#                                           labelCol=\"purchase\", metricName='areaUnderROC')\n",
    "# print(\"ROC on test data\", evaluator.evaluate(predictions))"
   ]
  },
  {
   "cell_type": "markdown",
   "metadata": {},
   "source": [
    "### Train on all trainset"
   ]
  },
  {
   "cell_type": "code",
   "execution_count": 62,
   "metadata": {},
   "outputs": [],
   "source": [
    "gbt = GBTClassifier(featuresCol=\"features\", labelCol=\"purchase\", seed=RANDOM_SEED)\n",
    "gbt_model = gbt.fit(train_all)\n",
    "result = gbt_model.transform(test)"
   ]
  },
  {
   "cell_type": "markdown",
   "metadata": {},
   "source": [
    "### Convert predictions"
   ]
  },
  {
   "cell_type": "code",
   "execution_count": 63,
   "metadata": {},
   "outputs": [],
   "source": [
    "home_dir = os.environ['HOME']\n",
    "vector_udf = F.udf(lambda vector: vector.toArray().tolist(), ArrayType(DoubleType()))\n",
    "rows = result.select(\"user_id\", \"item_id\", \"probability\") \\\n",
    "    .withColumn(\"purchase\", vector_udf(F.col(\"probability\"))[1]) \\\n",
    "    .drop(\"probability\") \\\n",
    "    .sort(F.col(\"user_id\").asc(), F.col(\"item_id\").asc()) \\\n",
    "    .collect()"
   ]
  },
  {
   "cell_type": "code",
   "execution_count": 64,
   "metadata": {},
   "outputs": [
    {
     "name": "stderr",
     "output_type": "stream",
     "text": [
      "2156840it [00:12, 168710.94it/s]\n"
     ]
    }
   ],
   "source": [
    "from tqdm import tqdm\n",
    "with open(f\"{home_dir}/lab03.csv\", \"wt\") as file:\n",
    "    row_count = len(rows)\n",
    "    file.write(\",user_id,item_id,purchase\\n\")\n",
    "    for i, row in tqdm(zip(range(row_count), rows)):\n",
    "        file.write(f\"{i},{row.user_id},{row.item_id},{row.purchase}\\n\")"
   ]
  },
  {
   "cell_type": "code",
   "execution_count": 65,
   "metadata": {},
   "outputs": [],
   "source": [
    "#spark.stop()"
   ]
  },
  {
   "cell_type": "code",
   "execution_count": 66,
   "metadata": {},
   "outputs": [
    {
     "name": "stdout",
     "output_type": "stream",
     "text": [
      "total 86988\r\n",
      "-rw-rw-r-- 1 andrey.sorokin andrey.sorokin      161 Oct 30 16:26 lab01.json\r\n",
      "-rw-rw-r-- 1 andrey.sorokin andrey.sorokin   684644 Oct 30 16:30 lab02.json\r\n",
      "-rw-r--r-- 1 andrey.sorokin andrey.sorokin 87182372 Nov  7 05:46 lab03.csv\r\n",
      "-rw-r--r-- 1 andrey.sorokin andrey.sorokin  1189758 Oct 30 17:08 lab05.csv\r\n",
      "drwxrwxr-x 6 andrey.sorokin andrey.sorokin     4096 Nov  7 00:02 sber-spark-ds-10\r\n",
      "drwxrwxr-x 6 andrey.sorokin andrey.sorokin     4096 Nov  5 11:54 spark4ml\r\n"
     ]
    }
   ],
   "source": [
    "!ls -l ~"
   ]
  },
  {
   "cell_type": "code",
   "execution_count": 67,
   "metadata": {},
   "outputs": [
    {
     "name": "stdout",
     "output_type": "stream",
     "text": [
      ",user_id,item_id,purchase\r\n",
      "0,1654,336,0.04405584327219747\r\n",
      "1,1654,678,0.04405584327219747\r\n",
      "2,1654,691,0.04405584327219747\r\n",
      "3,1654,696,0.04438229931109838\r\n",
      "4,1654,763,0.04405584327219747\r\n",
      "5,1654,795,0.04833115594665793\r\n",
      "6,1654,861,0.04405584327219747\r\n",
      "7,1654,1137,0.04438229931109838\r\n",
      "8,1654,1159,0.04405584327219747\r\n"
     ]
    }
   ],
   "source": [
    "!head ~/lab03.csv"
   ]
  },
  {
   "cell_type": "code",
   "execution_count": null,
   "metadata": {},
   "outputs": [],
   "source": []
  }
 ],
 "metadata": {
  "kernelspec": {
   "display_name": "Python 3",
   "language": "python",
   "name": "python3"
  },
  "language_info": {
   "codemirror_mode": {
    "name": "ipython",
    "version": 3
   },
   "file_extension": ".py",
   "mimetype": "text/x-python",
   "name": "python",
   "nbconvert_exporter": "python",
   "pygments_lexer": "ipython3",
   "version": "3.6.5"
  }
 },
 "nbformat": 4,
 "nbformat_minor": 2
}
