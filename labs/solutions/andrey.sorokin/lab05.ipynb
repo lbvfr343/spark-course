{
 "cells": [
  {
   "cell_type": "code",
   "execution_count": 1,
   "metadata": {},
   "outputs": [],
   "source": [
    "import org.apache.spark.sql.functions.{col, when, count, lit, udf}\n",
    "import org.apache.spark.sql.Column\n",
    "import org.apache.spark.sql.DataFrame\n",
    "import org.apache.spark.sql.types.{FloatType, StringType, IntegerType}\n",
    "import org.apache.spark.ml.feature.{StringIndexer, OneHotEncoderEstimator, VectorAssembler}\n",
    "import org.apache.spark.ml.evaluation.BinaryClassificationEvaluator\n",
    "import org.apache.spark.ml.classification.{LogisticRegression, GBTClassifier}\n",
    "import org.apache.spark.ml.linalg.{SparseVector, DenseVector, Vector}\n",
    "import sys.process._"
   ]
  },
  {
   "cell_type": "code",
   "execution_count": 2,
   "metadata": {},
   "outputs": [
    {
     "data": {
      "text/plain": [
       "spark = org.apache.spark.sql.SparkSession@14062151\n"
      ]
     },
     "metadata": {},
     "output_type": "display_data"
    },
    {
     "data": {
      "text/plain": [
       "org.apache.spark.sql.SparkSession@14062151"
      ]
     },
     "execution_count": 2,
     "metadata": {},
     "output_type": "execute_result"
    }
   ],
   "source": [
    "import org.apache.spark.sql.SparkSession\n",
    "val spark:SparkSession = SparkSession.builder()\n",
    "      .master(\"local[1]\")\n",
    "      .appName(\"Lab05_by_sand\")\n",
    "      .getOrCreate()"
   ]
  },
  {
   "cell_type": "code",
   "execution_count": 3,
   "metadata": {},
   "outputs": [
    {
     "data": {
      "text/plain": [
       "trainFileName = /labs/slaba05/lab05_train.csv\n",
       "testFileName = /labs/slaba05/lab05_test.csv\n"
      ]
     },
     "metadata": {},
     "output_type": "display_data"
    },
    {
     "data": {
      "text/plain": [
       "/labs/slaba05/lab05_test.csv"
      ]
     },
     "execution_count": 3,
     "metadata": {},
     "output_type": "execute_result"
    }
   ],
   "source": [
    "val trainFileName = \"/labs/slaba05/lab05_train.csv\" \n",
    "val testFileName = \"/labs/slaba05/lab05_test.csv\" "
   ]
  },
  {
   "cell_type": "code",
   "execution_count": 4,
   "metadata": {},
   "outputs": [
    {
     "name": "stdout",
     "output_type": "stream",
     "text": [
      "root\n",
      " |-- _c0: string (nullable = true)\n",
      " |-- ID: string (nullable = true)\n",
      " |-- CR_PROD_CNT_IL: string (nullable = true)\n",
      " |-- AMOUNT_RUB_CLO_PRC: string (nullable = true)\n",
      " |-- PRC_ACCEPTS_A_EMAIL_LINK: string (nullable = true)\n",
      " |-- APP_REGISTR_RGN_CODE: string (nullable = true)\n",
      " |-- PRC_ACCEPTS_A_POS: string (nullable = true)\n",
      " |-- PRC_ACCEPTS_A_TK: string (nullable = true)\n",
      " |-- TURNOVER_DYNAMIC_IL_1M: string (nullable = true)\n",
      " |-- CNT_TRAN_AUT_TENDENCY1M: string (nullable = true)\n",
      " |-- SUM_TRAN_AUT_TENDENCY1M: string (nullable = true)\n",
      " |-- AMOUNT_RUB_SUP_PRC: string (nullable = true)\n",
      " |-- PRC_ACCEPTS_A_AMOBILE: string (nullable = true)\n",
      " |-- SUM_TRAN_AUT_TENDENCY3M: string (nullable = true)\n",
      " |-- CLNT_TRUST_RELATION: string (nullable = true)\n",
      " |-- PRC_ACCEPTS_TK: string (nullable = true)\n",
      " |-- PRC_ACCEPTS_A_MTP: string (nullable = true)\n",
      " |-- REST_DYNAMIC_FDEP_1M: string (nullable = true)\n",
      " |-- CNT_TRAN_AUT_TENDENCY3M: string (nullable = true)\n",
      " |-- CNT_ACCEPTS_TK: string (nullable = true)\n",
      " |-- APP_MARITAL_STATUS: string (nullable = true)\n",
      " |-- REST_DYNAMIC_SAVE_3M: string (nullable = true)\n",
      " |-- CR_PROD_CNT_VCU: string (nullable = true)\n",
      " |-- REST_AVG_CUR: string (nullable = true)\n",
      " |-- CNT_TRAN_MED_TENDENCY1M: string (nullable = true)\n",
      " |-- APP_KIND_OF_PROP_HABITATION: string (nullable = true)\n",
      " |-- CLNT_JOB_POSITION_TYPE: string (nullable = true)\n",
      " |-- AMOUNT_RUB_NAS_PRC: string (nullable = true)\n",
      " |-- CLNT_JOB_POSITION: string (nullable = true)\n",
      " |-- APP_DRIVING_LICENSE: string (nullable = true)\n",
      " |-- TRANS_COUNT_SUP_PRC: string (nullable = true)\n",
      " |-- APP_EDUCATION: string (nullable = true)\n",
      " |-- CNT_TRAN_CLO_TENDENCY1M: string (nullable = true)\n",
      " |-- SUM_TRAN_MED_TENDENCY1M: string (nullable = true)\n",
      " |-- PRC_ACCEPTS_A_ATM: string (nullable = true)\n",
      " |-- PRC_ACCEPTS_MTP: string (nullable = true)\n",
      " |-- TRANS_COUNT_NAS_PRC: string (nullable = true)\n",
      " |-- APP_TRAVEL_PASS: string (nullable = true)\n",
      " |-- CNT_ACCEPTS_MTP: string (nullable = true)\n",
      " |-- CR_PROD_CNT_TOVR: string (nullable = true)\n",
      " |-- APP_CAR: string (nullable = true)\n",
      " |-- CR_PROD_CNT_PIL: string (nullable = true)\n",
      " |-- SUM_TRAN_CLO_TENDENCY1M: string (nullable = true)\n",
      " |-- APP_POSITION_TYPE: string (nullable = true)\n",
      " |-- TURNOVER_CC: string (nullable = true)\n",
      " |-- TRANS_COUNT_ATM_PRC: string (nullable = true)\n",
      " |-- AMOUNT_RUB_ATM_PRC: string (nullable = true)\n",
      " |-- TURNOVER_PAYM: string (nullable = true)\n",
      " |-- AGE: string (nullable = true)\n",
      " |-- CNT_TRAN_MED_TENDENCY3M: string (nullable = true)\n",
      " |-- CR_PROD_CNT_CC: string (nullable = true)\n",
      " |-- SUM_TRAN_MED_TENDENCY3M: string (nullable = true)\n",
      " |-- REST_DYNAMIC_FDEP_3M: string (nullable = true)\n",
      " |-- REST_DYNAMIC_IL_1M: string (nullable = true)\n",
      " |-- APP_EMP_TYPE: string (nullable = true)\n",
      " |-- SUM_TRAN_CLO_TENDENCY3M: string (nullable = true)\n",
      " |-- LDEAL_TENOR_MAX: string (nullable = true)\n",
      " |-- LDEAL_YQZ_CHRG: string (nullable = true)\n",
      " |-- CR_PROD_CNT_CCFP: string (nullable = true)\n",
      " |-- DEAL_YQZ_IR_MAX: string (nullable = true)\n",
      " |-- LDEAL_YQZ_COM: string (nullable = true)\n",
      " |-- DEAL_YQZ_IR_MIN: string (nullable = true)\n",
      " |-- CNT_TRAN_CLO_TENDENCY3M: string (nullable = true)\n",
      " |-- REST_DYNAMIC_CUR_1M: string (nullable = true)\n",
      " |-- REST_AVG_PAYM: string (nullable = true)\n",
      " |-- LDEAL_TENOR_MIN: string (nullable = true)\n",
      " |-- LDEAL_AMT_MONTH: string (nullable = true)\n",
      " |-- APP_COMP_TYPE: string (nullable = true)\n",
      " |-- LDEAL_GRACE_DAYS_PCT_MED: string (nullable = true)\n",
      " |-- REST_DYNAMIC_CUR_3M: string (nullable = true)\n",
      " |-- CNT_TRAN_SUP_TENDENCY3M: string (nullable = true)\n",
      " |-- TURNOVER_DYNAMIC_CUR_1M: string (nullable = true)\n",
      " |-- REST_DYNAMIC_PAYM_3M: string (nullable = true)\n",
      " |-- SUM_TRAN_SUP_TENDENCY3M: string (nullable = true)\n",
      " |-- REST_DYNAMIC_IL_3M: string (nullable = true)\n",
      " |-- CNT_TRAN_ATM_TENDENCY3M: string (nullable = true)\n",
      " |-- CNT_TRAN_ATM_TENDENCY1M: string (nullable = true)\n",
      " |-- TURNOVER_DYNAMIC_IL_3M: string (nullable = true)\n",
      " |-- SUM_TRAN_ATM_TENDENCY3M: string (nullable = true)\n",
      " |-- DEAL_GRACE_DAYS_ACC_S1X1: string (nullable = true)\n",
      " |-- AVG_PCT_MONTH_TO_PCLOSE: string (nullable = true)\n",
      " |-- DEAL_YWZ_IR_MIN: string (nullable = true)\n",
      " |-- SUM_TRAN_SUP_TENDENCY1M: string (nullable = true)\n",
      " |-- DEAL_YWZ_IR_MAX: string (nullable = true)\n",
      " |-- SUM_TRAN_ATM_TENDENCY1M: string (nullable = true)\n",
      " |-- REST_DYNAMIC_PAYM_1M: string (nullable = true)\n",
      " |-- CNT_TRAN_SUP_TENDENCY1M: string (nullable = true)\n",
      " |-- DEAL_GRACE_DAYS_ACC_AVG: string (nullable = true)\n",
      " |-- TURNOVER_DYNAMIC_CUR_3M: string (nullable = true)\n",
      " |-- PACK: string (nullable = true)\n",
      " |-- MAX_PCLOSE_DATE: string (nullable = true)\n",
      " |-- LDEAL_YQZ_PC: string (nullable = true)\n",
      " |-- CLNT_SETUP_TENOR: string (nullable = true)\n",
      " |-- DEAL_GRACE_DAYS_ACC_MAX: string (nullable = true)\n",
      " |-- TURNOVER_DYNAMIC_PAYM_3M: string (nullable = true)\n",
      " |-- LDEAL_DELINQ_PER_MAXYQZ: string (nullable = true)\n",
      " |-- TURNOVER_DYNAMIC_PAYM_1M: string (nullable = true)\n",
      " |-- CLNT_SALARY_VALUE: string (nullable = true)\n",
      " |-- TRANS_AMOUNT_TENDENCY3M: string (nullable = true)\n",
      " |-- MED_DEBT_PRC_YQZ: string (nullable = true)\n",
      " |-- TRANS_CNT_TENDENCY3M: string (nullable = true)\n",
      " |-- LDEAL_USED_AMT_AVG_YQZ: string (nullable = true)\n",
      " |-- REST_DYNAMIC_CC_1M: string (nullable = true)\n",
      " |-- LDEAL_USED_AMT_AVG_YWZ: string (nullable = true)\n",
      " |-- TURNOVER_DYNAMIC_CC_1M: string (nullable = true)\n",
      " |-- AVG_PCT_DEBT_TO_DEAL_AMT: string (nullable = true)\n",
      " |-- LDEAL_ACT_DAYS_ACC_PCT_AVG: string (nullable = true)\n",
      " |-- REST_DYNAMIC_CC_3M: string (nullable = true)\n",
      " |-- MED_DEBT_PRC_YWZ: string (nullable = true)\n",
      " |-- LDEAL_ACT_DAYS_PCT_TR3: string (nullable = true)\n",
      " |-- LDEAL_ACT_DAYS_PCT_AAVG: string (nullable = true)\n",
      " |-- LDEAL_DELINQ_PER_MAXYWZ: string (nullable = true)\n",
      " |-- TURNOVER_DYNAMIC_CC_3M: string (nullable = true)\n",
      " |-- LDEAL_ACT_DAYS_PCT_TR: string (nullable = true)\n",
      " |-- LDEAL_ACT_DAYS_PCT_TR4: string (nullable = true)\n",
      " |-- LDEAL_ACT_DAYS_PCT_CURR: string (nullable = true)\n",
      " |-- TARGET: string (nullable = true)\n",
      "\n"
     ]
    },
    {
     "data": {
      "text/plain": [
       "rawTrain = [_c0: string, ID: string ... 115 more fields]\n"
      ]
     },
     "metadata": {},
     "output_type": "display_data"
    },
    {
     "data": {
      "text/plain": [
       "[_c0: string, ID: string ... 115 more fields]"
      ]
     },
     "execution_count": 4,
     "metadata": {},
     "output_type": "execute_result"
    }
   ],
   "source": [
    "var rawTrain = spark.read.option(\"header\", true).format(\"csv\").load(trainFileName)\n",
    "rawTrain.printSchema"
   ]
  },
  {
   "cell_type": "code",
   "execution_count": 5,
   "metadata": {},
   "outputs": [
    {
     "name": "stdout",
     "output_type": "stream",
     "text": [
      "+------+------+\n",
      "|TARGET| count|\n",
      "+------+------+\n",
      "|     0|294607|\n",
      "|  null|     1|\n",
      "|     1| 26156|\n",
      "+------+------+\n",
      "\n"
     ]
    }
   ],
   "source": [
    "rawTrain.groupBy(\"TARGET\").count().show()"
   ]
  },
  {
   "cell_type": "code",
   "execution_count": 6,
   "metadata": {},
   "outputs": [
    {
     "name": "stdout",
     "output_type": "stream",
     "text": [
      "root\n",
      " |-- _c0: string (nullable = true)\n",
      " |-- ID: string (nullable = true)\n",
      " |-- CR_PROD_CNT_IL: string (nullable = true)\n",
      " |-- AMOUNT_RUB_CLO_PRC: string (nullable = true)\n",
      " |-- PRC_ACCEPTS_A_EMAIL_LINK: string (nullable = true)\n",
      " |-- APP_REGISTR_RGN_CODE: string (nullable = true)\n",
      " |-- PRC_ACCEPTS_A_POS: string (nullable = true)\n",
      " |-- PRC_ACCEPTS_A_TK: string (nullable = true)\n",
      " |-- TURNOVER_DYNAMIC_IL_1M: string (nullable = true)\n",
      " |-- CNT_TRAN_AUT_TENDENCY1M: string (nullable = true)\n",
      " |-- SUM_TRAN_AUT_TENDENCY1M: string (nullable = true)\n",
      " |-- AMOUNT_RUB_SUP_PRC: string (nullable = true)\n",
      " |-- PRC_ACCEPTS_A_AMOBILE: string (nullable = true)\n",
      " |-- SUM_TRAN_AUT_TENDENCY3M: string (nullable = true)\n",
      " |-- CLNT_TRUST_RELATION: string (nullable = true)\n",
      " |-- PRC_ACCEPTS_TK: string (nullable = true)\n",
      " |-- PRC_ACCEPTS_A_MTP: string (nullable = true)\n",
      " |-- REST_DYNAMIC_FDEP_1M: string (nullable = true)\n",
      " |-- CNT_TRAN_AUT_TENDENCY3M: string (nullable = true)\n",
      " |-- CNT_ACCEPTS_TK: string (nullable = true)\n",
      " |-- APP_MARITAL_STATUS: string (nullable = true)\n",
      " |-- REST_DYNAMIC_SAVE_3M: string (nullable = true)\n",
      " |-- CR_PROD_CNT_VCU: string (nullable = true)\n",
      " |-- REST_AVG_CUR: string (nullable = true)\n",
      " |-- CNT_TRAN_MED_TENDENCY1M: string (nullable = true)\n",
      " |-- APP_KIND_OF_PROP_HABITATION: string (nullable = true)\n",
      " |-- CLNT_JOB_POSITION_TYPE: string (nullable = true)\n",
      " |-- AMOUNT_RUB_NAS_PRC: string (nullable = true)\n",
      " |-- CLNT_JOB_POSITION: string (nullable = true)\n",
      " |-- APP_DRIVING_LICENSE: string (nullable = true)\n",
      " |-- TRANS_COUNT_SUP_PRC: string (nullable = true)\n",
      " |-- APP_EDUCATION: string (nullable = true)\n",
      " |-- CNT_TRAN_CLO_TENDENCY1M: string (nullable = true)\n",
      " |-- SUM_TRAN_MED_TENDENCY1M: string (nullable = true)\n",
      " |-- PRC_ACCEPTS_A_ATM: string (nullable = true)\n",
      " |-- PRC_ACCEPTS_MTP: string (nullable = true)\n",
      " |-- TRANS_COUNT_NAS_PRC: string (nullable = true)\n",
      " |-- APP_TRAVEL_PASS: string (nullable = true)\n",
      " |-- CNT_ACCEPTS_MTP: string (nullable = true)\n",
      " |-- CR_PROD_CNT_TOVR: string (nullable = true)\n",
      " |-- APP_CAR: string (nullable = true)\n",
      " |-- CR_PROD_CNT_PIL: string (nullable = true)\n",
      " |-- SUM_TRAN_CLO_TENDENCY1M: string (nullable = true)\n",
      " |-- APP_POSITION_TYPE: string (nullable = true)\n",
      " |-- TURNOVER_CC: string (nullable = true)\n",
      " |-- TRANS_COUNT_ATM_PRC: string (nullable = true)\n",
      " |-- AMOUNT_RUB_ATM_PRC: string (nullable = true)\n",
      " |-- TURNOVER_PAYM: string (nullable = true)\n",
      " |-- AGE: string (nullable = true)\n",
      " |-- CNT_TRAN_MED_TENDENCY3M: string (nullable = true)\n",
      " |-- CR_PROD_CNT_CC: string (nullable = true)\n",
      " |-- SUM_TRAN_MED_TENDENCY3M: string (nullable = true)\n",
      " |-- REST_DYNAMIC_FDEP_3M: string (nullable = true)\n",
      " |-- REST_DYNAMIC_IL_1M: string (nullable = true)\n",
      " |-- APP_EMP_TYPE: string (nullable = true)\n",
      " |-- SUM_TRAN_CLO_TENDENCY3M: string (nullable = true)\n",
      " |-- LDEAL_TENOR_MAX: string (nullable = true)\n",
      " |-- LDEAL_YQZ_CHRG: string (nullable = true)\n",
      " |-- CR_PROD_CNT_CCFP: string (nullable = true)\n",
      " |-- DEAL_YQZ_IR_MAX: string (nullable = true)\n",
      " |-- LDEAL_YQZ_COM: string (nullable = true)\n",
      " |-- DEAL_YQZ_IR_MIN: string (nullable = true)\n",
      " |-- CNT_TRAN_CLO_TENDENCY3M: string (nullable = true)\n",
      " |-- REST_DYNAMIC_CUR_1M: string (nullable = true)\n",
      " |-- REST_AVG_PAYM: string (nullable = true)\n",
      " |-- LDEAL_TENOR_MIN: string (nullable = true)\n",
      " |-- LDEAL_AMT_MONTH: string (nullable = true)\n",
      " |-- APP_COMP_TYPE: string (nullable = true)\n",
      " |-- LDEAL_GRACE_DAYS_PCT_MED: string (nullable = true)\n",
      " |-- REST_DYNAMIC_CUR_3M: string (nullable = true)\n",
      " |-- CNT_TRAN_SUP_TENDENCY3M: string (nullable = true)\n",
      " |-- TURNOVER_DYNAMIC_CUR_1M: string (nullable = true)\n",
      " |-- REST_DYNAMIC_PAYM_3M: string (nullable = true)\n",
      " |-- SUM_TRAN_SUP_TENDENCY3M: string (nullable = true)\n",
      " |-- REST_DYNAMIC_IL_3M: string (nullable = true)\n",
      " |-- CNT_TRAN_ATM_TENDENCY3M: string (nullable = true)\n",
      " |-- CNT_TRAN_ATM_TENDENCY1M: string (nullable = true)\n",
      " |-- TURNOVER_DYNAMIC_IL_3M: string (nullable = true)\n",
      " |-- SUM_TRAN_ATM_TENDENCY3M: string (nullable = true)\n",
      " |-- DEAL_GRACE_DAYS_ACC_S1X1: string (nullable = true)\n",
      " |-- AVG_PCT_MONTH_TO_PCLOSE: string (nullable = true)\n",
      " |-- DEAL_YWZ_IR_MIN: string (nullable = true)\n",
      " |-- SUM_TRAN_SUP_TENDENCY1M: string (nullable = true)\n",
      " |-- DEAL_YWZ_IR_MAX: string (nullable = true)\n",
      " |-- SUM_TRAN_ATM_TENDENCY1M: string (nullable = true)\n",
      " |-- REST_DYNAMIC_PAYM_1M: string (nullable = true)\n",
      " |-- CNT_TRAN_SUP_TENDENCY1M: string (nullable = true)\n",
      " |-- DEAL_GRACE_DAYS_ACC_AVG: string (nullable = true)\n",
      " |-- TURNOVER_DYNAMIC_CUR_3M: string (nullable = true)\n",
      " |-- PACK: string (nullable = true)\n",
      " |-- MAX_PCLOSE_DATE: string (nullable = true)\n",
      " |-- LDEAL_YQZ_PC: string (nullable = true)\n",
      " |-- CLNT_SETUP_TENOR: string (nullable = true)\n",
      " |-- DEAL_GRACE_DAYS_ACC_MAX: string (nullable = true)\n",
      " |-- TURNOVER_DYNAMIC_PAYM_3M: string (nullable = true)\n",
      " |-- LDEAL_DELINQ_PER_MAXYQZ: string (nullable = true)\n",
      " |-- TURNOVER_DYNAMIC_PAYM_1M: string (nullable = true)\n",
      " |-- CLNT_SALARY_VALUE: string (nullable = true)\n",
      " |-- TRANS_AMOUNT_TENDENCY3M: string (nullable = true)\n",
      " |-- MED_DEBT_PRC_YQZ: string (nullable = true)\n",
      " |-- TRANS_CNT_TENDENCY3M: string (nullable = true)\n",
      " |-- LDEAL_USED_AMT_AVG_YQZ: string (nullable = true)\n",
      " |-- REST_DYNAMIC_CC_1M: string (nullable = true)\n",
      " |-- LDEAL_USED_AMT_AVG_YWZ: string (nullable = true)\n",
      " |-- TURNOVER_DYNAMIC_CC_1M: string (nullable = true)\n",
      " |-- AVG_PCT_DEBT_TO_DEAL_AMT: string (nullable = true)\n",
      " |-- LDEAL_ACT_DAYS_ACC_PCT_AVG: string (nullable = true)\n",
      " |-- REST_DYNAMIC_CC_3M: string (nullable = true)\n",
      " |-- MED_DEBT_PRC_YWZ: string (nullable = true)\n",
      " |-- LDEAL_ACT_DAYS_PCT_TR3: string (nullable = true)\n",
      " |-- LDEAL_ACT_DAYS_PCT_AAVG: string (nullable = true)\n",
      " |-- LDEAL_DELINQ_PER_MAXYWZ: string (nullable = true)\n",
      " |-- TURNOVER_DYNAMIC_CC_3M: string (nullable = true)\n",
      " |-- LDEAL_ACT_DAYS_PCT_TR: string (nullable = true)\n",
      " |-- LDEAL_ACT_DAYS_PCT_TR4: string (nullable = true)\n",
      " |-- LDEAL_ACT_DAYS_PCT_CURR: string (nullable = true)\n",
      "\n"
     ]
    },
    {
     "data": {
      "text/plain": [
       "rawTest = [_c0: string, ID: string ... 114 more fields]\n"
      ]
     },
     "metadata": {},
     "output_type": "display_data"
    },
    {
     "data": {
      "text/plain": [
       "[_c0: string, ID: string ... 114 more fields]"
      ]
     },
     "execution_count": 6,
     "metadata": {},
     "output_type": "execute_result"
    }
   ],
   "source": [
    "var rawTest = spark.read.option(\"header\", true).format(\"csv\").load(testFileName)\n",
    "rawTest.printSchema"
   ]
  },
  {
   "cell_type": "code",
   "execution_count": 7,
   "metadata": {},
   "outputs": [
    {
     "data": {
      "text/plain": [
       "44399"
      ]
     },
     "execution_count": 7,
     "metadata": {},
     "output_type": "execute_result"
    }
   ],
   "source": [
    "rawTest.count()"
   ]
  },
  {
   "cell_type": "markdown",
   "metadata": {},
   "source": [
    "### Clear DataFrame"
   ]
  },
  {
   "cell_type": "code",
   "execution_count": 8,
   "metadata": {},
   "outputs": [
    {
     "name": "stdout",
     "output_type": "stream",
     "text": [
      "root\n",
      " |-- ID: string (nullable = true)\n",
      " |-- CR_PROD_CNT_IL: string (nullable = true)\n",
      " |-- AMOUNT_RUB_CLO_PRC: string (nullable = true)\n",
      " |-- PRC_ACCEPTS_A_EMAIL_LINK: string (nullable = true)\n",
      " |-- APP_REGISTR_RGN_CODE: string (nullable = true)\n",
      " |-- PRC_ACCEPTS_A_POS: string (nullable = true)\n",
      " |-- PRC_ACCEPTS_A_TK: string (nullable = true)\n",
      " |-- TURNOVER_DYNAMIC_IL_1M: string (nullable = true)\n",
      " |-- CNT_TRAN_AUT_TENDENCY1M: string (nullable = true)\n",
      " |-- SUM_TRAN_AUT_TENDENCY1M: string (nullable = true)\n",
      " |-- AMOUNT_RUB_SUP_PRC: string (nullable = true)\n",
      " |-- PRC_ACCEPTS_A_AMOBILE: string (nullable = true)\n",
      " |-- SUM_TRAN_AUT_TENDENCY3M: string (nullable = true)\n",
      " |-- CLNT_TRUST_RELATION: string (nullable = true)\n",
      " |-- PRC_ACCEPTS_TK: string (nullable = true)\n",
      " |-- PRC_ACCEPTS_A_MTP: string (nullable = true)\n",
      " |-- REST_DYNAMIC_FDEP_1M: string (nullable = true)\n",
      " |-- CNT_TRAN_AUT_TENDENCY3M: string (nullable = true)\n",
      " |-- CNT_ACCEPTS_TK: string (nullable = true)\n",
      " |-- APP_MARITAL_STATUS: string (nullable = true)\n",
      " |-- REST_DYNAMIC_SAVE_3M: string (nullable = true)\n",
      " |-- CR_PROD_CNT_VCU: string (nullable = true)\n",
      " |-- REST_AVG_CUR: string (nullable = true)\n",
      " |-- CNT_TRAN_MED_TENDENCY1M: string (nullable = true)\n",
      " |-- APP_KIND_OF_PROP_HABITATION: string (nullable = true)\n",
      " |-- CLNT_JOB_POSITION_TYPE: string (nullable = true)\n",
      " |-- AMOUNT_RUB_NAS_PRC: string (nullable = true)\n",
      " |-- CLNT_JOB_POSITION: string (nullable = true)\n",
      " |-- APP_DRIVING_LICENSE: string (nullable = true)\n",
      " |-- TRANS_COUNT_SUP_PRC: string (nullable = true)\n",
      " |-- APP_EDUCATION: string (nullable = true)\n",
      " |-- CNT_TRAN_CLO_TENDENCY1M: string (nullable = true)\n",
      " |-- SUM_TRAN_MED_TENDENCY1M: string (nullable = true)\n",
      " |-- PRC_ACCEPTS_A_ATM: string (nullable = true)\n",
      " |-- PRC_ACCEPTS_MTP: string (nullable = true)\n",
      " |-- TRANS_COUNT_NAS_PRC: string (nullable = true)\n",
      " |-- APP_TRAVEL_PASS: string (nullable = true)\n",
      " |-- CNT_ACCEPTS_MTP: string (nullable = true)\n",
      " |-- CR_PROD_CNT_TOVR: string (nullable = true)\n",
      " |-- APP_CAR: string (nullable = true)\n",
      " |-- CR_PROD_CNT_PIL: string (nullable = true)\n",
      " |-- SUM_TRAN_CLO_TENDENCY1M: string (nullable = true)\n",
      " |-- APP_POSITION_TYPE: string (nullable = true)\n",
      " |-- TURNOVER_CC: string (nullable = true)\n",
      " |-- TRANS_COUNT_ATM_PRC: string (nullable = true)\n",
      " |-- AMOUNT_RUB_ATM_PRC: string (nullable = true)\n",
      " |-- TURNOVER_PAYM: string (nullable = true)\n",
      " |-- AGE: string (nullable = true)\n",
      " |-- CNT_TRAN_MED_TENDENCY3M: string (nullable = true)\n",
      " |-- CR_PROD_CNT_CC: string (nullable = true)\n",
      " |-- SUM_TRAN_MED_TENDENCY3M: string (nullable = true)\n",
      " |-- REST_DYNAMIC_FDEP_3M: string (nullable = true)\n",
      " |-- REST_DYNAMIC_IL_1M: string (nullable = true)\n",
      " |-- APP_EMP_TYPE: string (nullable = true)\n",
      " |-- SUM_TRAN_CLO_TENDENCY3M: string (nullable = true)\n",
      " |-- LDEAL_TENOR_MAX: string (nullable = true)\n",
      " |-- LDEAL_YQZ_CHRG: string (nullable = true)\n",
      " |-- CR_PROD_CNT_CCFP: string (nullable = true)\n",
      " |-- DEAL_YQZ_IR_MAX: string (nullable = true)\n",
      " |-- LDEAL_YQZ_COM: string (nullable = true)\n",
      " |-- DEAL_YQZ_IR_MIN: string (nullable = true)\n",
      " |-- CNT_TRAN_CLO_TENDENCY3M: string (nullable = true)\n",
      " |-- REST_DYNAMIC_CUR_1M: string (nullable = true)\n",
      " |-- REST_AVG_PAYM: string (nullable = true)\n",
      " |-- LDEAL_TENOR_MIN: string (nullable = true)\n",
      " |-- LDEAL_AMT_MONTH: string (nullable = true)\n",
      " |-- APP_COMP_TYPE: string (nullable = true)\n",
      " |-- LDEAL_GRACE_DAYS_PCT_MED: string (nullable = true)\n",
      " |-- REST_DYNAMIC_CUR_3M: string (nullable = true)\n",
      " |-- CNT_TRAN_SUP_TENDENCY3M: string (nullable = true)\n",
      " |-- TURNOVER_DYNAMIC_CUR_1M: string (nullable = true)\n",
      " |-- REST_DYNAMIC_PAYM_3M: string (nullable = true)\n",
      " |-- SUM_TRAN_SUP_TENDENCY3M: string (nullable = true)\n",
      " |-- REST_DYNAMIC_IL_3M: string (nullable = true)\n",
      " |-- CNT_TRAN_ATM_TENDENCY3M: string (nullable = true)\n",
      " |-- CNT_TRAN_ATM_TENDENCY1M: string (nullable = true)\n",
      " |-- TURNOVER_DYNAMIC_IL_3M: string (nullable = true)\n",
      " |-- SUM_TRAN_ATM_TENDENCY3M: string (nullable = true)\n",
      " |-- DEAL_GRACE_DAYS_ACC_S1X1: string (nullable = true)\n",
      " |-- AVG_PCT_MONTH_TO_PCLOSE: string (nullable = true)\n",
      " |-- DEAL_YWZ_IR_MIN: string (nullable = true)\n",
      " |-- SUM_TRAN_SUP_TENDENCY1M: string (nullable = true)\n",
      " |-- DEAL_YWZ_IR_MAX: string (nullable = true)\n",
      " |-- SUM_TRAN_ATM_TENDENCY1M: string (nullable = true)\n",
      " |-- REST_DYNAMIC_PAYM_1M: string (nullable = true)\n",
      " |-- CNT_TRAN_SUP_TENDENCY1M: string (nullable = true)\n",
      " |-- DEAL_GRACE_DAYS_ACC_AVG: string (nullable = true)\n",
      " |-- TURNOVER_DYNAMIC_CUR_3M: string (nullable = true)\n",
      " |-- PACK: string (nullable = true)\n",
      " |-- MAX_PCLOSE_DATE: string (nullable = true)\n",
      " |-- LDEAL_YQZ_PC: string (nullable = true)\n",
      " |-- CLNT_SETUP_TENOR: string (nullable = true)\n",
      " |-- DEAL_GRACE_DAYS_ACC_MAX: string (nullable = true)\n",
      " |-- TURNOVER_DYNAMIC_PAYM_3M: string (nullable = true)\n",
      " |-- LDEAL_DELINQ_PER_MAXYQZ: string (nullable = true)\n",
      " |-- TURNOVER_DYNAMIC_PAYM_1M: string (nullable = true)\n",
      " |-- CLNT_SALARY_VALUE: string (nullable = true)\n",
      " |-- TRANS_AMOUNT_TENDENCY3M: string (nullable = true)\n",
      " |-- MED_DEBT_PRC_YQZ: string (nullable = true)\n",
      " |-- TRANS_CNT_TENDENCY3M: string (nullable = true)\n",
      " |-- LDEAL_USED_AMT_AVG_YQZ: string (nullable = true)\n",
      " |-- REST_DYNAMIC_CC_1M: string (nullable = true)\n",
      " |-- LDEAL_USED_AMT_AVG_YWZ: string (nullable = true)\n",
      " |-- TURNOVER_DYNAMIC_CC_1M: string (nullable = true)\n",
      " |-- AVG_PCT_DEBT_TO_DEAL_AMT: string (nullable = true)\n",
      " |-- LDEAL_ACT_DAYS_ACC_PCT_AVG: string (nullable = true)\n",
      " |-- REST_DYNAMIC_CC_3M: string (nullable = true)\n",
      " |-- MED_DEBT_PRC_YWZ: string (nullable = true)\n",
      " |-- LDEAL_ACT_DAYS_PCT_TR3: string (nullable = true)\n",
      " |-- LDEAL_ACT_DAYS_PCT_AAVG: string (nullable = true)\n",
      " |-- LDEAL_DELINQ_PER_MAXYWZ: string (nullable = true)\n",
      " |-- TURNOVER_DYNAMIC_CC_3M: string (nullable = true)\n",
      " |-- LDEAL_ACT_DAYS_PCT_TR: string (nullable = true)\n",
      " |-- LDEAL_ACT_DAYS_PCT_TR4: string (nullable = true)\n",
      " |-- LDEAL_ACT_DAYS_PCT_CURR: string (nullable = true)\n",
      " |-- TARGET: string (nullable = true)\n",
      "\n"
     ]
    },
    {
     "data": {
      "text/plain": [
       "rawTrain = [ID: string, CR_PROD_CNT_IL: string ... 114 more fields]\n"
      ]
     },
     "metadata": {},
     "output_type": "display_data"
    },
    {
     "data": {
      "text/plain": [
       "[ID: string, CR_PROD_CNT_IL: string ... 114 more fields]"
      ]
     },
     "execution_count": 8,
     "metadata": {},
     "output_type": "execute_result"
    }
   ],
   "source": [
    "rawTrain = rawTrain.drop(\"_c0\")\n",
    "rawTrain.printSchema"
   ]
  },
  {
   "cell_type": "code",
   "execution_count": 9,
   "metadata": {},
   "outputs": [
    {
     "name": "stdout",
     "output_type": "stream",
     "text": [
      "root\n",
      " |-- ID: string (nullable = true)\n",
      " |-- CR_PROD_CNT_IL: string (nullable = true)\n",
      " |-- AMOUNT_RUB_CLO_PRC: string (nullable = true)\n",
      " |-- PRC_ACCEPTS_A_EMAIL_LINK: string (nullable = true)\n",
      " |-- APP_REGISTR_RGN_CODE: string (nullable = true)\n",
      " |-- PRC_ACCEPTS_A_POS: string (nullable = true)\n",
      " |-- PRC_ACCEPTS_A_TK: string (nullable = true)\n",
      " |-- TURNOVER_DYNAMIC_IL_1M: string (nullable = true)\n",
      " |-- CNT_TRAN_AUT_TENDENCY1M: string (nullable = true)\n",
      " |-- SUM_TRAN_AUT_TENDENCY1M: string (nullable = true)\n",
      " |-- AMOUNT_RUB_SUP_PRC: string (nullable = true)\n",
      " |-- PRC_ACCEPTS_A_AMOBILE: string (nullable = true)\n",
      " |-- SUM_TRAN_AUT_TENDENCY3M: string (nullable = true)\n",
      " |-- CLNT_TRUST_RELATION: string (nullable = true)\n",
      " |-- PRC_ACCEPTS_TK: string (nullable = true)\n",
      " |-- PRC_ACCEPTS_A_MTP: string (nullable = true)\n",
      " |-- REST_DYNAMIC_FDEP_1M: string (nullable = true)\n",
      " |-- CNT_TRAN_AUT_TENDENCY3M: string (nullable = true)\n",
      " |-- CNT_ACCEPTS_TK: string (nullable = true)\n",
      " |-- APP_MARITAL_STATUS: string (nullable = true)\n",
      " |-- REST_DYNAMIC_SAVE_3M: string (nullable = true)\n",
      " |-- CR_PROD_CNT_VCU: string (nullable = true)\n",
      " |-- REST_AVG_CUR: string (nullable = true)\n",
      " |-- CNT_TRAN_MED_TENDENCY1M: string (nullable = true)\n",
      " |-- APP_KIND_OF_PROP_HABITATION: string (nullable = true)\n",
      " |-- CLNT_JOB_POSITION_TYPE: string (nullable = true)\n",
      " |-- AMOUNT_RUB_NAS_PRC: string (nullable = true)\n",
      " |-- CLNT_JOB_POSITION: string (nullable = true)\n",
      " |-- APP_DRIVING_LICENSE: string (nullable = true)\n",
      " |-- TRANS_COUNT_SUP_PRC: string (nullable = true)\n",
      " |-- APP_EDUCATION: string (nullable = true)\n",
      " |-- CNT_TRAN_CLO_TENDENCY1M: string (nullable = true)\n",
      " |-- SUM_TRAN_MED_TENDENCY1M: string (nullable = true)\n",
      " |-- PRC_ACCEPTS_A_ATM: string (nullable = true)\n",
      " |-- PRC_ACCEPTS_MTP: string (nullable = true)\n",
      " |-- TRANS_COUNT_NAS_PRC: string (nullable = true)\n",
      " |-- APP_TRAVEL_PASS: string (nullable = true)\n",
      " |-- CNT_ACCEPTS_MTP: string (nullable = true)\n",
      " |-- CR_PROD_CNT_TOVR: string (nullable = true)\n",
      " |-- APP_CAR: string (nullable = true)\n",
      " |-- CR_PROD_CNT_PIL: string (nullable = true)\n",
      " |-- SUM_TRAN_CLO_TENDENCY1M: string (nullable = true)\n",
      " |-- APP_POSITION_TYPE: string (nullable = true)\n",
      " |-- TURNOVER_CC: string (nullable = true)\n",
      " |-- TRANS_COUNT_ATM_PRC: string (nullable = true)\n",
      " |-- AMOUNT_RUB_ATM_PRC: string (nullable = true)\n",
      " |-- TURNOVER_PAYM: string (nullable = true)\n",
      " |-- AGE: string (nullable = true)\n",
      " |-- CNT_TRAN_MED_TENDENCY3M: string (nullable = true)\n",
      " |-- CR_PROD_CNT_CC: string (nullable = true)\n",
      " |-- SUM_TRAN_MED_TENDENCY3M: string (nullable = true)\n",
      " |-- REST_DYNAMIC_FDEP_3M: string (nullable = true)\n",
      " |-- REST_DYNAMIC_IL_1M: string (nullable = true)\n",
      " |-- APP_EMP_TYPE: string (nullable = true)\n",
      " |-- SUM_TRAN_CLO_TENDENCY3M: string (nullable = true)\n",
      " |-- LDEAL_TENOR_MAX: string (nullable = true)\n",
      " |-- LDEAL_YQZ_CHRG: string (nullable = true)\n",
      " |-- CR_PROD_CNT_CCFP: string (nullable = true)\n",
      " |-- DEAL_YQZ_IR_MAX: string (nullable = true)\n",
      " |-- LDEAL_YQZ_COM: string (nullable = true)\n",
      " |-- DEAL_YQZ_IR_MIN: string (nullable = true)\n",
      " |-- CNT_TRAN_CLO_TENDENCY3M: string (nullable = true)\n",
      " |-- REST_DYNAMIC_CUR_1M: string (nullable = true)\n",
      " |-- REST_AVG_PAYM: string (nullable = true)\n",
      " |-- LDEAL_TENOR_MIN: string (nullable = true)\n",
      " |-- LDEAL_AMT_MONTH: string (nullable = true)\n",
      " |-- APP_COMP_TYPE: string (nullable = true)\n",
      " |-- LDEAL_GRACE_DAYS_PCT_MED: string (nullable = true)\n",
      " |-- REST_DYNAMIC_CUR_3M: string (nullable = true)\n",
      " |-- CNT_TRAN_SUP_TENDENCY3M: string (nullable = true)\n",
      " |-- TURNOVER_DYNAMIC_CUR_1M: string (nullable = true)\n",
      " |-- REST_DYNAMIC_PAYM_3M: string (nullable = true)\n",
      " |-- SUM_TRAN_SUP_TENDENCY3M: string (nullable = true)\n",
      " |-- REST_DYNAMIC_IL_3M: string (nullable = true)\n",
      " |-- CNT_TRAN_ATM_TENDENCY3M: string (nullable = true)\n",
      " |-- CNT_TRAN_ATM_TENDENCY1M: string (nullable = true)\n",
      " |-- TURNOVER_DYNAMIC_IL_3M: string (nullable = true)\n",
      " |-- SUM_TRAN_ATM_TENDENCY3M: string (nullable = true)\n",
      " |-- DEAL_GRACE_DAYS_ACC_S1X1: string (nullable = true)\n",
      " |-- AVG_PCT_MONTH_TO_PCLOSE: string (nullable = true)\n",
      " |-- DEAL_YWZ_IR_MIN: string (nullable = true)\n",
      " |-- SUM_TRAN_SUP_TENDENCY1M: string (nullable = true)\n",
      " |-- DEAL_YWZ_IR_MAX: string (nullable = true)\n",
      " |-- SUM_TRAN_ATM_TENDENCY1M: string (nullable = true)\n",
      " |-- REST_DYNAMIC_PAYM_1M: string (nullable = true)\n",
      " |-- CNT_TRAN_SUP_TENDENCY1M: string (nullable = true)\n",
      " |-- DEAL_GRACE_DAYS_ACC_AVG: string (nullable = true)\n",
      " |-- TURNOVER_DYNAMIC_CUR_3M: string (nullable = true)\n",
      " |-- PACK: string (nullable = true)\n",
      " |-- MAX_PCLOSE_DATE: string (nullable = true)\n",
      " |-- LDEAL_YQZ_PC: string (nullable = true)\n",
      " |-- CLNT_SETUP_TENOR: string (nullable = true)\n",
      " |-- DEAL_GRACE_DAYS_ACC_MAX: string (nullable = true)\n",
      " |-- TURNOVER_DYNAMIC_PAYM_3M: string (nullable = true)\n",
      " |-- LDEAL_DELINQ_PER_MAXYQZ: string (nullable = true)\n",
      " |-- TURNOVER_DYNAMIC_PAYM_1M: string (nullable = true)\n",
      " |-- CLNT_SALARY_VALUE: string (nullable = true)\n",
      " |-- TRANS_AMOUNT_TENDENCY3M: string (nullable = true)\n",
      " |-- MED_DEBT_PRC_YQZ: string (nullable = true)\n",
      " |-- TRANS_CNT_TENDENCY3M: string (nullable = true)\n",
      " |-- LDEAL_USED_AMT_AVG_YQZ: string (nullable = true)\n",
      " |-- REST_DYNAMIC_CC_1M: string (nullable = true)\n",
      " |-- LDEAL_USED_AMT_AVG_YWZ: string (nullable = true)\n",
      " |-- TURNOVER_DYNAMIC_CC_1M: string (nullable = true)\n",
      " |-- AVG_PCT_DEBT_TO_DEAL_AMT: string (nullable = true)\n",
      " |-- LDEAL_ACT_DAYS_ACC_PCT_AVG: string (nullable = true)\n",
      " |-- REST_DYNAMIC_CC_3M: string (nullable = true)\n",
      " |-- MED_DEBT_PRC_YWZ: string (nullable = true)\n",
      " |-- LDEAL_ACT_DAYS_PCT_TR3: string (nullable = true)\n",
      " |-- LDEAL_ACT_DAYS_PCT_AAVG: string (nullable = true)\n",
      " |-- LDEAL_DELINQ_PER_MAXYWZ: string (nullable = true)\n",
      " |-- TURNOVER_DYNAMIC_CC_3M: string (nullable = true)\n",
      " |-- LDEAL_ACT_DAYS_PCT_TR: string (nullable = true)\n",
      " |-- LDEAL_ACT_DAYS_PCT_TR4: string (nullable = true)\n",
      " |-- LDEAL_ACT_DAYS_PCT_CURR: string (nullable = true)\n",
      "\n"
     ]
    },
    {
     "data": {
      "text/plain": [
       "rawTest = [ID: string, CR_PROD_CNT_IL: string ... 113 more fields]\n"
      ]
     },
     "metadata": {},
     "output_type": "display_data"
    },
    {
     "data": {
      "text/plain": [
       "[ID: string, CR_PROD_CNT_IL: string ... 113 more fields]"
      ]
     },
     "execution_count": 9,
     "metadata": {},
     "output_type": "execute_result"
    }
   ],
   "source": [
    "rawTest = rawTest.drop(\"_c0\")\n",
    "rawTest.printSchema"
   ]
  },
  {
   "cell_type": "code",
   "execution_count": 10,
   "metadata": {},
   "outputs": [
    {
     "name": "stdout",
     "output_type": "stream",
     "text": [
      "+------+------+\n",
      "|TARGET| count|\n",
      "+------+------+\n",
      "|     0|294607|\n",
      "|     1| 26156|\n",
      "+------+------+\n",
      "\n"
     ]
    },
    {
     "data": {
      "text/plain": [
       "rawTrain = [ID: string, CR_PROD_CNT_IL: string ... 114 more fields]\n"
      ]
     },
     "metadata": {},
     "output_type": "display_data"
    },
    {
     "data": {
      "text/plain": [
       "[ID: string, CR_PROD_CNT_IL: string ... 114 more fields]"
      ]
     },
     "execution_count": 10,
     "metadata": {},
     "output_type": "execute_result"
    }
   ],
   "source": [
    "rawTrain = rawTrain.filter(col(\"TARGET\").isNotNull)\n",
    "rawTrain.groupBy(\"TARGET\").count().show()"
   ]
  },
  {
   "cell_type": "code",
   "execution_count": 11,
   "metadata": {},
   "outputs": [
    {
     "data": {
      "text/plain": [
       "rawTrain = [ID: string, CR_PROD_CNT_IL: string ... 114 more fields]\n"
      ]
     },
     "metadata": {},
     "output_type": "display_data"
    },
    {
     "data": {
      "text/plain": [
       "320763"
      ]
     },
     "execution_count": 11,
     "metadata": {},
     "output_type": "execute_result"
    }
   ],
   "source": [
    "rawTrain = rawTrain.filter(col(\"TARGET\").isNotNull)\n",
    "rawTrain.count()"
   ]
  },
  {
   "cell_type": "code",
   "execution_count": 12,
   "metadata": {},
   "outputs": [
    {
     "data": {
      "text/plain": [
       "rawTest = [ID: string, CR_PROD_CNT_IL: string ... 114 more fields]\n"
      ]
     },
     "metadata": {},
     "output_type": "display_data"
    },
    {
     "data": {
      "text/plain": [
       "0"
      ]
     },
     "execution_count": 12,
     "metadata": {},
     "output_type": "execute_result"
    }
   ],
   "source": [
    "rawTest = rawTest.withColumn(\"TARGET\", lit(null))\n",
    "rawTest.filter(col(\"TARGET\").isNotNull).count()"
   ]
  },
  {
   "cell_type": "code",
   "execution_count": 13,
   "metadata": {},
   "outputs": [
    {
     "name": "stdout",
     "output_type": "stream",
     "text": [
      "root\n",
      " |-- ID: string (nullable = true)\n",
      " |-- CR_PROD_CNT_IL: string (nullable = true)\n",
      " |-- AMOUNT_RUB_CLO_PRC: string (nullable = true)\n",
      " |-- PRC_ACCEPTS_A_EMAIL_LINK: string (nullable = true)\n",
      " |-- APP_REGISTR_RGN_CODE: string (nullable = true)\n",
      " |-- PRC_ACCEPTS_A_POS: string (nullable = true)\n",
      " |-- PRC_ACCEPTS_A_TK: string (nullable = true)\n",
      " |-- TURNOVER_DYNAMIC_IL_1M: string (nullable = true)\n",
      " |-- CNT_TRAN_AUT_TENDENCY1M: string (nullable = true)\n",
      " |-- SUM_TRAN_AUT_TENDENCY1M: string (nullable = true)\n",
      " |-- AMOUNT_RUB_SUP_PRC: string (nullable = true)\n",
      " |-- PRC_ACCEPTS_A_AMOBILE: string (nullable = true)\n",
      " |-- SUM_TRAN_AUT_TENDENCY3M: string (nullable = true)\n",
      " |-- CLNT_TRUST_RELATION: string (nullable = true)\n",
      " |-- PRC_ACCEPTS_TK: string (nullable = true)\n",
      " |-- PRC_ACCEPTS_A_MTP: string (nullable = true)\n",
      " |-- REST_DYNAMIC_FDEP_1M: string (nullable = true)\n",
      " |-- CNT_TRAN_AUT_TENDENCY3M: string (nullable = true)\n",
      " |-- CNT_ACCEPTS_TK: string (nullable = true)\n",
      " |-- APP_MARITAL_STATUS: string (nullable = true)\n",
      " |-- REST_DYNAMIC_SAVE_3M: string (nullable = true)\n",
      " |-- CR_PROD_CNT_VCU: string (nullable = true)\n",
      " |-- REST_AVG_CUR: string (nullable = true)\n",
      " |-- CNT_TRAN_MED_TENDENCY1M: string (nullable = true)\n",
      " |-- APP_KIND_OF_PROP_HABITATION: string (nullable = true)\n",
      " |-- CLNT_JOB_POSITION_TYPE: string (nullable = true)\n",
      " |-- AMOUNT_RUB_NAS_PRC: string (nullable = true)\n",
      " |-- CLNT_JOB_POSITION: string (nullable = true)\n",
      " |-- APP_DRIVING_LICENSE: string (nullable = true)\n",
      " |-- TRANS_COUNT_SUP_PRC: string (nullable = true)\n",
      " |-- APP_EDUCATION: string (nullable = true)\n",
      " |-- CNT_TRAN_CLO_TENDENCY1M: string (nullable = true)\n",
      " |-- SUM_TRAN_MED_TENDENCY1M: string (nullable = true)\n",
      " |-- PRC_ACCEPTS_A_ATM: string (nullable = true)\n",
      " |-- PRC_ACCEPTS_MTP: string (nullable = true)\n",
      " |-- TRANS_COUNT_NAS_PRC: string (nullable = true)\n",
      " |-- APP_TRAVEL_PASS: string (nullable = true)\n",
      " |-- CNT_ACCEPTS_MTP: string (nullable = true)\n",
      " |-- CR_PROD_CNT_TOVR: string (nullable = true)\n",
      " |-- APP_CAR: string (nullable = true)\n",
      " |-- CR_PROD_CNT_PIL: string (nullable = true)\n",
      " |-- SUM_TRAN_CLO_TENDENCY1M: string (nullable = true)\n",
      " |-- APP_POSITION_TYPE: string (nullable = true)\n",
      " |-- TURNOVER_CC: string (nullable = true)\n",
      " |-- TRANS_COUNT_ATM_PRC: string (nullable = true)\n",
      " |-- AMOUNT_RUB_ATM_PRC: string (nullable = true)\n",
      " |-- TURNOVER_PAYM: string (nullable = true)\n",
      " |-- AGE: string (nullable = true)\n",
      " |-- CNT_TRAN_MED_TENDENCY3M: string (nullable = true)\n",
      " |-- CR_PROD_CNT_CC: string (nullable = true)\n",
      " |-- SUM_TRAN_MED_TENDENCY3M: string (nullable = true)\n",
      " |-- REST_DYNAMIC_FDEP_3M: string (nullable = true)\n",
      " |-- REST_DYNAMIC_IL_1M: string (nullable = true)\n",
      " |-- APP_EMP_TYPE: string (nullable = true)\n",
      " |-- SUM_TRAN_CLO_TENDENCY3M: string (nullable = true)\n",
      " |-- LDEAL_TENOR_MAX: string (nullable = true)\n",
      " |-- LDEAL_YQZ_CHRG: string (nullable = true)\n",
      " |-- CR_PROD_CNT_CCFP: string (nullable = true)\n",
      " |-- DEAL_YQZ_IR_MAX: string (nullable = true)\n",
      " |-- LDEAL_YQZ_COM: string (nullable = true)\n",
      " |-- DEAL_YQZ_IR_MIN: string (nullable = true)\n",
      " |-- CNT_TRAN_CLO_TENDENCY3M: string (nullable = true)\n",
      " |-- REST_DYNAMIC_CUR_1M: string (nullable = true)\n",
      " |-- REST_AVG_PAYM: string (nullable = true)\n",
      " |-- LDEAL_TENOR_MIN: string (nullable = true)\n",
      " |-- LDEAL_AMT_MONTH: string (nullable = true)\n",
      " |-- APP_COMP_TYPE: string (nullable = true)\n",
      " |-- LDEAL_GRACE_DAYS_PCT_MED: string (nullable = true)\n",
      " |-- REST_DYNAMIC_CUR_3M: string (nullable = true)\n",
      " |-- CNT_TRAN_SUP_TENDENCY3M: string (nullable = true)\n",
      " |-- TURNOVER_DYNAMIC_CUR_1M: string (nullable = true)\n",
      " |-- REST_DYNAMIC_PAYM_3M: string (nullable = true)\n",
      " |-- SUM_TRAN_SUP_TENDENCY3M: string (nullable = true)\n",
      " |-- REST_DYNAMIC_IL_3M: string (nullable = true)\n",
      " |-- CNT_TRAN_ATM_TENDENCY3M: string (nullable = true)\n",
      " |-- CNT_TRAN_ATM_TENDENCY1M: string (nullable = true)\n",
      " |-- TURNOVER_DYNAMIC_IL_3M: string (nullable = true)\n",
      " |-- SUM_TRAN_ATM_TENDENCY3M: string (nullable = true)\n",
      " |-- DEAL_GRACE_DAYS_ACC_S1X1: string (nullable = true)\n",
      " |-- AVG_PCT_MONTH_TO_PCLOSE: string (nullable = true)\n",
      " |-- DEAL_YWZ_IR_MIN: string (nullable = true)\n",
      " |-- SUM_TRAN_SUP_TENDENCY1M: string (nullable = true)\n",
      " |-- DEAL_YWZ_IR_MAX: string (nullable = true)\n",
      " |-- SUM_TRAN_ATM_TENDENCY1M: string (nullable = true)\n",
      " |-- REST_DYNAMIC_PAYM_1M: string (nullable = true)\n",
      " |-- CNT_TRAN_SUP_TENDENCY1M: string (nullable = true)\n",
      " |-- DEAL_GRACE_DAYS_ACC_AVG: string (nullable = true)\n",
      " |-- TURNOVER_DYNAMIC_CUR_3M: string (nullable = true)\n",
      " |-- PACK: string (nullable = true)\n",
      " |-- MAX_PCLOSE_DATE: string (nullable = true)\n",
      " |-- LDEAL_YQZ_PC: string (nullable = true)\n",
      " |-- CLNT_SETUP_TENOR: string (nullable = true)\n",
      " |-- DEAL_GRACE_DAYS_ACC_MAX: string (nullable = true)\n",
      " |-- TURNOVER_DYNAMIC_PAYM_3M: string (nullable = true)\n",
      " |-- LDEAL_DELINQ_PER_MAXYQZ: string (nullable = true)\n",
      " |-- TURNOVER_DYNAMIC_PAYM_1M: string (nullable = true)\n",
      " |-- CLNT_SALARY_VALUE: string (nullable = true)\n",
      " |-- TRANS_AMOUNT_TENDENCY3M: string (nullable = true)\n",
      " |-- MED_DEBT_PRC_YQZ: string (nullable = true)\n",
      " |-- TRANS_CNT_TENDENCY3M: string (nullable = true)\n",
      " |-- LDEAL_USED_AMT_AVG_YQZ: string (nullable = true)\n",
      " |-- REST_DYNAMIC_CC_1M: string (nullable = true)\n",
      " |-- LDEAL_USED_AMT_AVG_YWZ: string (nullable = true)\n",
      " |-- TURNOVER_DYNAMIC_CC_1M: string (nullable = true)\n",
      " |-- AVG_PCT_DEBT_TO_DEAL_AMT: string (nullable = true)\n",
      " |-- LDEAL_ACT_DAYS_ACC_PCT_AVG: string (nullable = true)\n",
      " |-- REST_DYNAMIC_CC_3M: string (nullable = true)\n",
      " |-- MED_DEBT_PRC_YWZ: string (nullable = true)\n",
      " |-- LDEAL_ACT_DAYS_PCT_TR3: string (nullable = true)\n",
      " |-- LDEAL_ACT_DAYS_PCT_AAVG: string (nullable = true)\n",
      " |-- LDEAL_DELINQ_PER_MAXYWZ: string (nullable = true)\n",
      " |-- TURNOVER_DYNAMIC_CC_3M: string (nullable = true)\n",
      " |-- LDEAL_ACT_DAYS_PCT_TR: string (nullable = true)\n",
      " |-- LDEAL_ACT_DAYS_PCT_TR4: string (nullable = true)\n",
      " |-- LDEAL_ACT_DAYS_PCT_CURR: string (nullable = true)\n",
      " |-- TARGET: string (nullable = true)\n",
      "\n"
     ]
    },
    {
     "data": {
      "text/plain": [
       "raw = [ID: string, CR_PROD_CNT_IL: string ... 114 more fields]\n"
      ]
     },
     "metadata": {},
     "output_type": "display_data"
    },
    {
     "data": {
      "text/plain": [
       "warning: there was one deprecation warning; re-run with -deprecation for details\n"
      ]
     },
     "metadata": {},
     "output_type": "display_data"
    },
    {
     "data": {
      "text/plain": [
       "[ID: string, CR_PROD_CNT_IL: string ... 114 more fields]"
      ]
     },
     "execution_count": 13,
     "metadata": {},
     "output_type": "execute_result"
    }
   ],
   "source": [
    "val raw = rawTrain.unionAll(rawTest)\n",
    "raw.printSchema"
   ]
  },
  {
   "cell_type": "code",
   "execution_count": 14,
   "metadata": {},
   "outputs": [
    {
     "name": "stdout",
     "output_type": "stream",
     "text": [
      "+------+------+\n",
      "|TARGET| count|\n",
      "+------+------+\n",
      "|     0|294607|\n",
      "|  null| 44399|\n",
      "|     1| 26156|\n",
      "+------+------+\n",
      "\n"
     ]
    }
   ],
   "source": [
    "raw.groupBy(\"TARGET\").count().show()"
   ]
  },
  {
   "cell_type": "markdown",
   "metadata": {},
   "source": [
    "### Select features"
   ]
  },
  {
   "cell_type": "code",
   "execution_count": 15,
   "metadata": {},
   "outputs": [
    {
     "name": "stdout",
     "output_type": "stream",
     "text": [
      "root\n",
      " |-- ID: integer (nullable = true)\n",
      " |-- CR_PROD_CNT_IL: integer (nullable = true)\n",
      " |-- TURNOVER_DYNAMIC_IL_1M: float (nullable = true)\n",
      " |-- REST_DYNAMIC_FDEP_1M: float (nullable = true)\n",
      " |-- PACK: string (nullable = true)\n",
      " |-- REST_DYNAMIC_SAVE_3M: float (nullable = true)\n",
      " |-- CR_PROD_CNT_VCU: float (nullable = true)\n",
      " |-- REST_AVG_CUR: float (nullable = true)\n",
      " |-- CR_PROD_CNT_TOVR: float (nullable = true)\n",
      " |-- CR_PROD_CNT_PIL: float (nullable = true)\n",
      " |-- TURNOVER_CC: float (nullable = true)\n",
      " |-- TURNOVER_PAYM: float (nullable = true)\n",
      " |-- AGE: float (nullable = true)\n",
      " |-- CR_PROD_CNT_CC: float (nullable = true)\n",
      " |-- REST_DYNAMIC_FDEP_3M: float (nullable = true)\n",
      " |-- REST_DYNAMIC_IL_1M: float (nullable = true)\n",
      " |-- CR_PROD_CNT_CCFP: float (nullable = true)\n",
      " |-- REST_DYNAMIC_CUR_1M: float (nullable = true)\n",
      " |-- REST_AVG_PAYM: float (nullable = true)\n",
      " |-- TARGET: integer (nullable = true)\n",
      "\n"
     ]
    },
    {
     "data": {
      "text/plain": [
       "data = [ID: int, CR_PROD_CNT_IL: int ... 18 more fields]\n"
      ]
     },
     "metadata": {},
     "output_type": "display_data"
    },
    {
     "data": {
      "text/plain": [
       "[ID: int, CR_PROD_CNT_IL: int ... 18 more fields]"
      ]
     },
     "execution_count": 15,
     "metadata": {},
     "output_type": "execute_result"
    }
   ],
   "source": [
    "var data = raw.select(\n",
    "    col(\"ID\").cast(IntegerType),\n",
    "    col(\"CR_PROD_CNT_IL\").cast(IntegerType),\n",
    "    col(\"TURNOVER_DYNAMIC_IL_1M\").cast(FloatType),\n",
    "    col(\"REST_DYNAMIC_FDEP_1M\").cast(FloatType),\n",
    "    col(\"PACK\").cast(StringType),\n",
    "    col(\"REST_DYNAMIC_SAVE_3M\").cast(FloatType), //0.5705257919277931\n",
    "    col(\"CR_PROD_CNT_VCU\").cast(FloatType), //0.5705257919277931\n",
    "    col(\"REST_AVG_CUR\").cast(FloatType), //0.6372168672441041\n",
    "    col(\"CR_PROD_CNT_TOVR\").cast(FloatType), //0.6348565533123227\n",
    "    col(\"CR_PROD_CNT_PIL\").cast(FloatType), //0.634683576729558\n",
    "    col(\"TURNOVER_CC\").cast(FloatType), //0.6346491289790777\n",
    "    col(\"TURNOVER_PAYM\").cast(FloatType), //0.6348922970177697\n",
    "    col(\"AGE\").cast(FloatType), //0.6334057046431302\n",
    "    col(\"CR_PROD_CNT_CC\").cast(FloatType), //6339097274532639\n",
    "    col(\"REST_DYNAMIC_FDEP_3M\").cast(FloatType), //0.6341628607521619\n",
    "    col(\"REST_DYNAMIC_IL_1M\").cast(FloatType), //0.6342077051718181\n",
    "    col(\"CR_PROD_CNT_CCFP\").cast(FloatType), //0.6341087352213053\n",
    "    col(\"REST_DYNAMIC_CUR_1M\").cast(FloatType), //0.6341481290271073\n",
    "    col(\"REST_AVG_PAYM\").cast(FloatType),\n",
    "    col(\"TARGET\").cast(IntegerType)\n",
    ")\n",
    "data.printSchema"
   ]
  },
  {
   "cell_type": "markdown",
   "metadata": {},
   "source": [
    "### Encode features"
   ]
  },
  {
   "cell_type": "code",
   "execution_count": 16,
   "metadata": {},
   "outputs": [
    {
     "data": {
      "text/plain": [
       "stringIndexer = strIdx_c666e64d823e\n",
       "indexed = [ID: int, CR_PROD_CNT_IL: int ... 19 more fields]\n",
       "encoder = oneHotEncoder_c04986ea2b97\n",
       "encodedFinal = [ID: int, CR_PROD_CNT_IL: int ... 20 more fields]\n"
      ]
     },
     "metadata": {},
     "output_type": "display_data"
    },
    {
     "data": {
      "text/plain": [
       "[ID: int, CR_PROD_CNT_IL: int ... 20 more fields]"
      ]
     },
     "execution_count": 16,
     "metadata": {},
     "output_type": "execute_result"
    }
   ],
   "source": [
    "val stringIndexer = new StringIndexer()\n",
    "    .setInputCol(\"PACK\")\n",
    "    .setOutputCol(\"PackIndex\").fit(data)\n",
    "val indexed = stringIndexer.transform(data)\n",
    "val encoder = new OneHotEncoderEstimator()\n",
    "    .setInputCols(Array(\"PackIndex\"))\n",
    "    .setOutputCols(Array(\"PackVector\")).fit(indexed)\n",
    "val encodedFinal = encoder.transform(indexed)"
   ]
  },
  {
   "cell_type": "code",
   "execution_count": 17,
   "metadata": {},
   "outputs": [
    {
     "data": {
      "text/plain": [
       "fetaure_names = Array(CR_PROD_CNT_IL, TURNOVER_DYNAMIC_IL_1M, PackVector, REST_DYNAMIC_FDEP_1M, REST_DYNAMIC_SAVE_3M, CR_PROD_CNT_VCU, REST_AVG_CUR, CR_PROD_CNT_TOVR, CR_PROD_CNT_PIL, TURNOVER_CC, TURNOVER_PAYM, AGE, CR_PROD_CNT_CC, REST_DYNAMIC_FDEP_3M, REST_DYNAMIC_IL_1M, CR_PROD_CNT_CCFP, REST_DYNAMIC_CUR_1M, REST_AVG_PAYM)\n",
       "assembler = vecAssembler_bd67d433ba9f\n"
      ]
     },
     "metadata": {},
     "output_type": "display_data"
    },
    {
     "data": {
      "text/plain": [
       "vecAssembler_bd67d433ba9f"
      ]
     },
     "execution_count": 17,
     "metadata": {},
     "output_type": "execute_result"
    }
   ],
   "source": [
    "val fetaure_names: Array[String] = Array[String](\n",
    "    \"CR_PROD_CNT_IL\", \"TURNOVER_DYNAMIC_IL_1M\", \"PackVector\", \n",
    "    \"REST_DYNAMIC_FDEP_1M\", \"REST_DYNAMIC_SAVE_3M\", \"CR_PROD_CNT_VCU\",\n",
    "    \"REST_AVG_CUR\", \"CR_PROD_CNT_TOVR\", \"CR_PROD_CNT_PIL\", \"TURNOVER_CC\",\n",
    "    \"TURNOVER_PAYM\", \"AGE\", \"CR_PROD_CNT_CC\", \"REST_DYNAMIC_FDEP_3M\", \n",
    "    \"REST_DYNAMIC_IL_1M\", \"CR_PROD_CNT_CCFP\", \"REST_DYNAMIC_CUR_1M\",\n",
    "    \"REST_AVG_PAYM\"\n",
    ")\n",
    "val assembler = new VectorAssembler().setInputCols(fetaure_names).setOutputCol(\"features\")"
   ]
  },
  {
   "cell_type": "code",
   "execution_count": 18,
   "metadata": {},
   "outputs": [
    {
     "data": {
      "text/plain": [
       "testData = [ID: int, CR_PROD_CNT_IL: int ... 20 more fields]\n",
       "splits = Array([ID: int, CR_PROD_CNT_IL: int ... 20 more fields], [ID: int, CR_PROD_CNT_IL: int ... 20 more fields])\n",
       "trainData = [ID: int, CR_PROD_CNT_IL: int ... 20 more fields]\n",
       "validData = [ID: int, CR_PROD_CNT_IL: int ... 20 more fields]\n"
      ]
     },
     "metadata": {},
     "output_type": "display_data"
    },
    {
     "data": {
      "text/plain": [
       "[ID: int, CR_PROD_CNT_IL: int ... 20 more fields]"
      ]
     },
     "execution_count": 18,
     "metadata": {},
     "output_type": "execute_result"
    }
   ],
   "source": [
    "val testData = encodedFinal.filter(col(\"TARGET\").isNull)\n",
    "val splits = encodedFinal.filter(col(\"TARGET\").isNotNull).randomSplit(Array(0.75, 0.25), seed = 42)\n",
    "val trainData = splits(0)\n",
    "val validData = splits(1)"
   ]
  },
  {
   "cell_type": "code",
   "execution_count": 19,
   "metadata": {},
   "outputs": [
    {
     "data": {
      "text/plain": [
       "trainSet = [ID: int, CR_PROD_CNT_IL: int ... 21 more fields]\n",
       "validSet = [ID: int, CR_PROD_CNT_IL: int ... 21 more fields]\n",
       "testSet = [ID: int, CR_PROD_CNT_IL: int ... 21 more fields]\n"
      ]
     },
     "metadata": {},
     "output_type": "display_data"
    },
    {
     "data": {
      "text/plain": [
       "[ID: int, CR_PROD_CNT_IL: int ... 21 more fields]"
      ]
     },
     "execution_count": 19,
     "metadata": {},
     "output_type": "execute_result"
    }
   ],
   "source": [
    "val trainSet = assembler.transform(trainData)\n",
    "val validSet = assembler.transform(validData)\n",
    "val testSet = assembler.transform(testData)"
   ]
  },
  {
   "cell_type": "code",
   "execution_count": 20,
   "metadata": {},
   "outputs": [
    {
     "name": "stdout",
     "output_type": "stream",
     "text": [
      "ROC on test data = 0.7784975700534695\n"
     ]
    },
    {
     "data": {
      "text/plain": [
       "gbt = gbtc_52ddc2f19bd3\n",
       "gbtModel = GBTClassificationModel (uid=gbtc_52ddc2f19bd3) with 10 trees\n",
       "predictions = [ID: int, CR_PROD_CNT_IL: int ... 24 more fields]\n",
       "evaluator = binEval_50ab676415c3\n",
       "ROC = 0.7784975700534695\n"
      ]
     },
     "metadata": {},
     "output_type": "display_data"
    },
    {
     "data": {
      "text/plain": [
       "0.7784975700534695"
      ]
     },
     "execution_count": 20,
     "metadata": {},
     "output_type": "execute_result"
    }
   ],
   "source": [
    "val gbt = new GBTClassifier()\n",
    "    .setLabelCol(\"TARGET\")\n",
    "    .setFeaturesCol(\"features\")\n",
    "    .setMaxIter(10)\n",
    "val gbtModel = gbt.fit(trainSet)\n",
    "val predictions = gbtModel.transform(validSet)\n",
    "val evaluator = new BinaryClassificationEvaluator()\n",
    "    .setLabelCol(\"TARGET\")\n",
    "    .setRawPredictionCol(\"probability\")\n",
    "    .setMetricName(\"areaUnderROC\")\n",
    "val ROC = evaluator.evaluate(predictions)\n",
    "println(\"ROC on test data = \" + ROC)"
   ]
  },
  {
   "cell_type": "code",
   "execution_count": 21,
   "metadata": {},
   "outputs": [
    {
     "data": {
      "text/plain": [
       "result = [ID: int, CR_PROD_CNT_IL: int ... 24 more fields]\n"
      ]
     },
     "metadata": {},
     "output_type": "display_data"
    },
    {
     "data": {
      "text/plain": [
       "[ID: int, CR_PROD_CNT_IL: int ... 24 more fields]"
      ]
     },
     "execution_count": 21,
     "metadata": {},
     "output_type": "execute_result"
    }
   ],
   "source": [
    "val result = gbtModel.transform(testSet)"
   ]
  },
  {
   "cell_type": "code",
   "execution_count": 22,
   "metadata": {},
   "outputs": [
    {
     "name": "stdout",
     "output_type": "stream",
     "text": [
      "+----------+-----+\n",
      "|prediction|count|\n",
      "+----------+-----+\n",
      "|       0.0|44393|\n",
      "+----------+-----+\n",
      "only showing top 1 row\n",
      "\n"
     ]
    }
   ],
   "source": [
    "result.groupBy(\"prediction\").count().show(1)"
   ]
  },
  {
   "cell_type": "code",
   "execution_count": 23,
   "metadata": {},
   "outputs": [
    {
     "data": {
      "text/plain": [
       "probValue = UserDefinedFunction(<function1>,DoubleType,Some(List(org.apache.spark.ml.linalg.VectorUDT@3bfc3ba7)))\n"
      ]
     },
     "metadata": {},
     "output_type": "display_data"
    },
    {
     "data": {
      "text/plain": [
       "UserDefinedFunction(<function1>,DoubleType,Some(List(org.apache.spark.ml.linalg.VectorUDT@3bfc3ba7)))"
      ]
     },
     "execution_count": 23,
     "metadata": {},
     "output_type": "execute_result"
    }
   ],
   "source": [
    "val probValue = udf((vec: Vector) => vec(1))\n",
    "result.withColumn(\"target\", probValue(col(\"probability\")))\n",
    "    .withColumnRenamed(\"ID\", \"id\").select(\"id\", \"target\").write\n",
    "    .option(\"header\", true).option(\"delimiter\", \"\\t\").mode(\"overwrite\").csv(\"lab05.csv\")"
   ]
  },
  {
   "cell_type": "code",
   "execution_count": 24,
   "metadata": {},
   "outputs": [
    {
     "name": "stdout",
     "output_type": "stream",
     "text": [
      "Found 10 items\n",
      "drwx------   - andrey.sorokin andrey.sorokin          0 2022-10-29 03:00 .Trash\n",
      "drwxr-xr-x   - andrey.sorokin andrey.sorokin          0 2022-10-30 16:30 .sparkStaging\n",
      "-rw-r--r--   3 andrey.sorokin andrey.sorokin        185 2022-10-05 21:33 lab01.json\n",
      "drwxr-xr-x   - andrey.sorokin andrey.sorokin          0 2022-10-29 12:51 lab03.csv\n",
      "drwxr-xr-x   - andrey.sorokin andrey.sorokin          0 2022-10-30 17:08 lab05.csv\n",
      "drwxr-xr-x   - andrey.sorokin andrey.sorokin          0 2022-10-29 12:36 mydata.csv\n",
      "drwxr-xr-x   - andrey.sorokin andrey.sorokin          0 2022-10-30 11:46 predictions_test.parquet\n",
      "drwxr-xr-x   - andrey.sorokin andrey.sorokin          0 2022-10-30 11:18 preprocessed_train_data.parquet\n",
      "drwxr-xr-x   - andrey.sorokin andrey.sorokin          0 2022-10-29 22:03 streaming\n",
      "drwxr-xr-x   - andrey.sorokin andrey.sorokin          0 2022-10-28 20:51 train_data.parquet\n"
     ]
    },
    {
     "data": {
      "text/plain": [
       "warning: there was one feature warning; re-run with -feature for details\n"
      ]
     },
     "metadata": {},
     "output_type": "display_data"
    },
    {
     "data": {
      "text/plain": [
       "0"
      ]
     },
     "execution_count": 24,
     "metadata": {},
     "output_type": "execute_result"
    }
   ],
   "source": [
    "\"hdfs dfs -ls\" !"
   ]
  },
  {
   "cell_type": "code",
   "execution_count": 25,
   "metadata": {},
   "outputs": [
    {
     "data": {
      "text/plain": [
       "warning: there was one feature warning; re-run with -feature for details\n"
      ]
     },
     "metadata": {},
     "output_type": "display_data"
    },
    {
     "data": {
      "text/plain": [
       "0"
      ]
     },
     "execution_count": 25,
     "metadata": {},
     "output_type": "execute_result"
    }
   ],
   "source": [
    "\"hdfs dfs -getmerge lab05.csv /data/home/andrey.sorokin/lab05.csv\" !"
   ]
  },
  {
   "cell_type": "code",
   "execution_count": 26,
   "metadata": {},
   "outputs": [
    {
     "name": "stdout",
     "output_type": "stream",
     "text": [
      "total 120\n",
      "-rw-rw-r-- 1 andrey.sorokin andrey.sorokin  9018 Oct 30 16:26 lab01.ipynb\n",
      "-rw-rw-r-- 1 andrey.sorokin andrey.sorokin 15160 Oct 30 16:30 lab02.ipynb\n",
      "-rw-rw-r-- 1 andrey.sorokin andrey.sorokin 36226 Oct 30 17:06 lab04.ipynb\n",
      "-rw-rw-r-- 1 andrey.sorokin andrey.sorokin  9665 Oct 30 17:06 lab05.ipynb\n",
      "-rw-rw-r-- 1 andrey.sorokin andrey.sorokin 44897 Oct 30 16:26 lab3.ipynb\n"
     ]
    },
    {
     "data": {
      "text/plain": [
       "warning: there was one feature warning; re-run with -feature for details\n"
      ]
     },
     "metadata": {},
     "output_type": "display_data"
    },
    {
     "data": {
      "text/plain": [
       "0"
      ]
     },
     "execution_count": 26,
     "metadata": {},
     "output_type": "execute_result"
    }
   ],
   "source": [
    "\"ls -l\" !"
   ]
  },
  {
   "cell_type": "code",
   "execution_count": 27,
   "metadata": {},
   "outputs": [],
   "source": [
    "spark.stop"
   ]
  }
 ],
 "metadata": {
  "kernelspec": {
   "display_name": "Apache Toree - Scala",
   "language": "scala",
   "name": "apache_toree_scala"
  },
  "language_info": {
   "codemirror_mode": "text/x-scala",
   "file_extension": ".scala",
   "mimetype": "text/x-scala",
   "name": "scala",
   "pygments_lexer": "scala",
   "version": "2.11.12"
  }
 },
 "nbformat": 4,
 "nbformat_minor": 2
}
