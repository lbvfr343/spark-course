{
 "cells": [
  {
   "cell_type": "markdown",
   "metadata": {},
   "source": [
    "## Лабораторная работа 3"
   ]
  },
  {
   "cell_type": "markdown",
   "metadata": {},
   "source": [
    "### Задача"
   ]
  },
  {
   "cell_type": "markdown",
   "metadata": {},
   "source": [
    "В вашем распоряжении имеется уже предобработанный и очищенный датасет с фактами покупок абонентами телепередач от компании E-Contenta. \n",
    "\n",
    "По доступным вам данным, нужно предсказать вероятность покупки других передач этими, а, возможно, и другими абонентами. При решении задачи запрещено использовать библиотеки pandas, sklearn (кроме sklearn.metrics), xgboost и другие. Если scikit-learn (например, но и другие тоже) обернут в классы Transformer и Estimator, то их можно использовать."
   ]
  },
  {
   "cell_type": "code",
   "execution_count": 1,
   "metadata": {},
   "outputs": [],
   "source": [
    "import os\n",
    "import sys\n",
    "import json"
   ]
  },
  {
   "cell_type": "code",
   "execution_count": 2,
   "metadata": {},
   "outputs": [
    {
     "name": "stdout",
     "output_type": "stream",
     "text": [
      "Welcome to\n",
      "      ____              __\n",
      "     / __/__  ___ _____/ /__\n",
      "    _\\ \\/ _ \\/ _ `/ __/  '_/\n",
      "   /__ / .__/\\_,_/_/ /_/\\_\\   version 2.4.7\n",
      "      /_/\n",
      "\n",
      "Using Python version 3.6.5 (default, Apr 29 2018 16:14:56)\n",
      "SparkSession available as 'spark'.\n"
     ]
    }
   ],
   "source": [
    "import os\n",
    "import sys\n",
    "\n",
    "os.environ[\"PYSPARK_SUBMIT_ARGS\"]='--num-executors 3 pyspark-shell'\n",
    "os.environ[\"PYSPARK_PYTHON\"]='/opt/anaconda/envs/bd9/bin/python'\n",
    "os.environ[\"SPARK_HOME\"]='/usr/hdp/current/spark2-client'\n",
    "\n",
    "spark_home = os.environ.get('SPARK_HOME', None)\n",
    "if not spark_home:\n",
    "    raise ValueError('SPARK_HOME environment variable is not set')\n",
    "sys.path.insert(0, os.path.join(spark_home, 'python'))\n",
    "sys.path.insert(0, os.path.join(spark_home, 'python/lib/py4j-0.10.7-src.zip'))\n",
    "exec(open(os.path.join(spark_home, 'python/pyspark/shell.py')).read())"
   ]
  },
  {
   "cell_type": "code",
   "execution_count": 3,
   "metadata": {},
   "outputs": [],
   "source": [
    "from pyspark.sql import SparkSession\n",
    "from pyspark.sql.types import StructType, StructField, StringType, IntegerType \n",
    "from pyspark.sql.types import ArrayType, DoubleType, BooleanType, FloatType\n",
    "from pyspark.sql.functions import col, array_contains, mean, pandas_udf, PandasUDFType, split as split_\n",
    "from pyspark.ml.feature import OneHotEncoder, StringIndexer, VectorAssembler\n",
    "from pyspark.ml.classification import GBTClassifier\n",
    "from pyspark.ml import Pipeline"
   ]
  },
  {
   "cell_type": "markdown",
   "metadata": {},
   "source": [
    "### Данные"
   ]
  },
  {
   "cell_type": "code",
   "execution_count": 4,
   "metadata": {},
   "outputs": [
    {
     "name": "stdout",
     "output_type": "stream",
     "text": [
      "Found 4 items\r\n",
      "-rw-r--r--   3 hdfs hdfs   91066524 2022-01-06 18:46 /labs/slaba03/laba03_items.csv\r\n",
      "-rw-r--r--   3 hdfs hdfs   29965581 2022-01-06 18:46 /labs/slaba03/laba03_test.csv\r\n",
      "-rw-r--r--   3 hdfs hdfs   74949368 2022-01-06 18:46 /labs/slaba03/laba03_train.csv\r\n",
      "-rw-r--r--   3 hdfs hdfs  871302535 2022-01-06 18:46 /labs/slaba03/laba03_views_programmes.csv\r\n"
     ]
    }
   ],
   "source": [
    "!hdfs dfs -ls /labs/slaba03/"
   ]
  },
  {
   "cell_type": "markdown",
   "metadata": {},
   "source": [
    "###  laba03_train.csv \n",
    "\n",
    "\n",
    "* purchase - факты покупки \n",
    "* user_id - id пользователя\n",
    "* item_id - id телепередачи\n"
   ]
  },
  {
   "cell_type": "code",
   "execution_count": 5,
   "metadata": {},
   "outputs": [],
   "source": [
    "schema = StructType() \\\n",
    "      .add(\"user_id\", IntegerType(), True) \\\n",
    "      .add(\"item_id\", IntegerType(), True) \\\n",
    "      .add(\"purchase\", IntegerType(), True)\n",
    "      \n",
    "df_user = spark.read.format(\"csv\") \\\n",
    "      .option(\"header\", True) \\\n",
    "      .schema(schema) \\\n",
    "      .load(\"/labs/slaba03/laba03_train.csv\")\n"
   ]
  },
  {
   "cell_type": "code",
   "execution_count": 6,
   "metadata": {},
   "outputs": [
    {
     "name": "stdout",
     "output_type": "stream",
     "text": [
      "+-------+-------+--------+\n",
      "|user_id|item_id|purchase|\n",
      "+-------+-------+--------+\n",
      "|   1654|  74107|       0|\n",
      "|   1654|  89249|       0|\n",
      "|   1654|  99982|       0|\n",
      "|   1654|  89901|       0|\n",
      "|   1654| 100504|       0|\n",
      "+-------+-------+--------+\n",
      "only showing top 5 rows\n",
      "\n"
     ]
    }
   ],
   "source": [
    "df_user.show(5)"
   ]
  },
  {
   "cell_type": "code",
   "execution_count": 7,
   "metadata": {},
   "outputs": [
    {
     "name": "stdout",
     "output_type": "stream",
     "text": [
      "+--------+-------+\n",
      "|purchase|  count|\n",
      "+--------+-------+\n",
      "|       1|  10904|\n",
      "|       0|5021720|\n",
      "+--------+-------+\n",
      "\n"
     ]
    }
   ],
   "source": [
    "df_user.groupBy('purchase').count().show()"
   ]
  },
  {
   "cell_type": "code",
   "execution_count": 8,
   "metadata": {},
   "outputs": [],
   "source": [
    "mean_purchase_user = df_user.groupBy('user_id').agg(mean('purchase').alias('mean_purchase_user'))"
   ]
  },
  {
   "cell_type": "markdown",
   "metadata": {},
   "source": [
    "###  laba03_test.csv \n",
    "\n",
    "\n",
    "* purchase - факты покупки \n",
    "* user_id - id пользователя\n",
    "* item_id - id телепередачи"
   ]
  },
  {
   "cell_type": "code",
   "execution_count": 9,
   "metadata": {},
   "outputs": [],
   "source": [
    "schema = StructType() \\\n",
    "      .add(\"user_id\", IntegerType(), True) \\\n",
    "      .add(\"item_id\", IntegerType(), True) \n",
    "      \n",
    "      \n",
    "df_user_test = spark.read.format(\"csv\") \\\n",
    "      .option(\"header\", True) \\\n",
    "      .schema(schema) \\\n",
    "      .load(\"/labs/slaba03/laba03_test.csv\")\n"
   ]
  },
  {
   "cell_type": "code",
   "execution_count": 10,
   "metadata": {},
   "outputs": [
    {
     "name": "stdout",
     "output_type": "stream",
     "text": [
      "+-------+-------+\n",
      "|user_id|item_id|\n",
      "+-------+-------+\n",
      "|   1654|  94814|\n",
      "|   1654|  93629|\n",
      "|   1654|   9980|\n",
      "|   1654|  95099|\n",
      "|   1654|  11265|\n",
      "+-------+-------+\n",
      "only showing top 5 rows\n",
      "\n"
     ]
    }
   ],
   "source": [
    "df_user_test.show(5)"
   ]
  },
  {
   "cell_type": "code",
   "execution_count": 11,
   "metadata": {},
   "outputs": [
    {
     "data": {
      "text/plain": [
       "2156840"
      ]
     },
     "execution_count": 11,
     "metadata": {},
     "output_type": "execute_result"
    }
   ],
   "source": [
    "df_user_test.count()"
   ]
  },
  {
   "cell_type": "markdown",
   "metadata": {},
   "source": [
    "###  laba03_items.csv\n",
    "\n",
    "\n",
    "* item_id - Соответствует item_id в предыдущем файле.\n",
    "* content_type - тип контента\n",
    "* title - название передачи, текстовое поле.\n",
    "* year - год выпуска передачи, число.\n",
    "* genres - поле с жанрами передачи, разделёнными через запятую.\n"
   ]
  },
  {
   "cell_type": "code",
   "execution_count": 12,
   "metadata": {},
   "outputs": [],
   "source": [
    "read_items_schema = StructType(fields=[StructField('item_id', IntegerType()), \n",
    "StructField('channel_id', IntegerType()),\n",
    "StructField('datetime_availability_start', StringType()),\n",
    "StructField('datetime_availability_stop', StringType()),\n",
    "StructField('datetime_show_start', StringType()),\n",
    "StructField('datetime_show_stop', StringType()),\n",
    "StructField('content_type', IntegerType()),\n",
    "StructField('title', StringType(), nullable=True),\n",
    "StructField('year', FloatType(), nullable=True),\n",
    "StructField('genres', StringType()),\n",
    "StructField('region_id', IntegerType()),\n",
    "]) \n",
    "\n",
    "\n",
    "\n",
    "\n",
    "df_items = spark.read.format(\"csv\") \\\n",
    "      .option(\"header\", True) \\\n",
    "      .option(\"sep\", \"\\t\")\\\n",
    "      .schema(read_items_schema) \\\n",
    "      .load(\"/labs/slaba03/laba03_items.csv\")"
   ]
  },
  {
   "cell_type": "code",
   "execution_count": 13,
   "metadata": {},
   "outputs": [
    {
     "name": "stdout",
     "output_type": "stream",
     "text": [
      "+-------+----------+---------------------------+--------------------------+-------------------+------------------+------------+--------------------------------------------------------------------------------------+------+-------+---------+\n",
      "|item_id|channel_id|datetime_availability_start|datetime_availability_stop|datetime_show_start|datetime_show_stop|content_type|title                                                                                 |year  |genres |region_id|\n",
      "+-------+----------+---------------------------+--------------------------+-------------------+------------------+------------+--------------------------------------------------------------------------------------+------+-------+---------+\n",
      "|65667  |null      |1970-01-01T00:00:00Z       |2018-01-01T00:00:00Z      |null               |null              |1           |на пробах только девушки (all girl auditions)                                         |2013.0|Эротика|null     |\n",
      "|65669  |null      |1970-01-01T00:00:00Z       |2018-01-01T00:00:00Z      |null               |null              |1           |скуби ду: эротическая пародия (scooby doo: a xxx parody)                              |2011.0|Эротика|null     |\n",
      "|65668  |null      |1970-01-01T00:00:00Z       |2018-01-01T00:00:00Z      |null               |null              |1           |горячие девочки для горячих девочек (hot babes 4 hot babes)                           |2011.0|Эротика|null     |\n",
      "|65671  |null      |1970-01-01T00:00:00Z       |2018-01-01T00:00:00Z      |null               |null              |1           |соблазнительницы женатых мужчин (top heavy homewreckers)                              |2011.0|Эротика|null     |\n",
      "|65670  |null      |1970-01-01T00:00:00Z       |2018-01-01T00:00:00Z      |null               |null              |1           |секретные секс-материалы ii: темная секс пародия (the sex files ii: a dark xxx parody)|2010.0|Эротика|null     |\n",
      "+-------+----------+---------------------------+--------------------------+-------------------+------------------+------------+--------------------------------------------------------------------------------------+------+-------+---------+\n",
      "only showing top 5 rows\n",
      "\n"
     ]
    }
   ],
   "source": [
    "df_items.show(5, False, False)"
   ]
  },
  {
   "cell_type": "code",
   "execution_count": 14,
   "metadata": {},
   "outputs": [
    {
     "name": "stdout",
     "output_type": "stream",
     "text": [
      "+--------------------+\n",
      "|              genres|\n",
      "+--------------------+\n",
      "|               Ужасы|\n",
      "|Драмы,Зарубежные,...|\n",
      "|      Для детей,Наши|\n",
      "|Русские мультфиль...|\n",
      "|Детективы,Триллер...|\n",
      "|Мистические,Прикл...|\n",
      "|Приключения,Совет...|\n",
      "|Западные мультфил...|\n",
      "|Военные,Приключен...|\n",
      "|Комедии,Советское...|\n",
      "|Документальные,За...|\n",
      "|       Ужасы,Русские|\n",
      "|Ужасы,Приключения...|\n",
      "|Юмористические,Ко...|\n",
      "|Мистические,Ужасы...|\n",
      "|   Приключения,Драмы|\n",
      "|Детективы,Драмы,Б...|\n",
      "|Исторические,Доку...|\n",
      "|Исторические,Позн...|\n",
      "|Военные,Приключен...|\n",
      "+--------------------+\n",
      "only showing top 20 rows\n",
      "\n"
     ]
    }
   ],
   "source": [
    "df_items.select('genres').distinct().show()"
   ]
  },
  {
   "cell_type": "code",
   "execution_count": 15,
   "metadata": {},
   "outputs": [
    {
     "data": {
      "text/plain": [
       "1077"
      ]
     },
     "execution_count": 15,
     "metadata": {},
     "output_type": "execute_result"
    }
   ],
   "source": [
    "df_items.select('genres').distinct().count()"
   ]
  },
  {
   "cell_type": "code",
   "execution_count": 16,
   "metadata": {},
   "outputs": [],
   "source": [
    "df_items = df_items.select('*', split_('genres', ',').alias('first_genre_'))\n",
    "df_items = df_items.withColumn('first_genre', df_items.first_genre_.getItem(0))"
   ]
  },
  {
   "cell_type": "code",
   "execution_count": 17,
   "metadata": {},
   "outputs": [
    {
     "data": {
      "text/plain": [
       "66"
      ]
     },
     "execution_count": 17,
     "metadata": {},
     "output_type": "execute_result"
    }
   ],
   "source": [
    "df_items.select('first_genre').distinct().count()"
   ]
  },
  {
   "cell_type": "code",
   "execution_count": 18,
   "metadata": {
    "collapsed": true
   },
   "outputs": [
    {
     "name": "stdout",
     "output_type": "stream",
     "text": [
      "+--------------------+------+\n",
      "|         first_genre| count|\n",
      "+--------------------+------+\n",
      "|               Ужасы|   336|\n",
      "|            Анимация|     2|\n",
      "|           Мелодрама|     3|\n",
      "|         Мистические|    70|\n",
      "|        Исторические|     8|\n",
      "|         Мультфильмы|   241|\n",
      "|      Документальный|     4|\n",
      "|          Зарубежные|     4|\n",
      "|            Семейный|     1|\n",
      "|Западные мультфильмы|    42|\n",
      "|              Фильмы|     2|\n",
      "|      Юмористические|     5|\n",
      "|                null|    33|\n",
      "|     Развлекательные|    32|\n",
      "|                Игры|     7|\n",
      "|            Передачи|     2|\n",
      "|     Короткометражки|     2|\n",
      "| Русские мультфильмы|   169|\n",
      "|             Боевики|    48|\n",
      "|           Мелодрамы|    67|\n",
      "|          Мультфильм|     1|\n",
      "|           Для детей|    11|\n",
      "|             Эротика|   121|\n",
      "|             General|631864|\n",
      "|    Короткометражные|     5|\n",
      "|                Наши|     3|\n",
      "|             Военные|   172|\n",
      "|          Спортивные|     2|\n",
      "|             Детские|     5|\n",
      "|            Семейные|    72|\n",
      "|      Советское кино|    26|\n",
      "|               Драмы|   362|\n",
      "|             Комедия|    14|\n",
      "|            Криминал|    15|\n",
      "|          О здоровье|     1|\n",
      "|             Мюзиклы|     1|\n",
      "|        Для взрослых|     3|\n",
      "|         Приключения|   341|\n",
      "|             Военный|     1|\n",
      "|       Романтические|     4|\n",
      "|      Познавательные|    21|\n",
      "|             Комедии|   597|\n",
      "|      Полнометражные|    58|\n",
      "|             Сериалы|     1|\n",
      "|      Для всей семьи|     6|\n",
      "|      Документальные|    46|\n",
      "| Для самых маленьких|     1|\n",
      "|              Боевик|     1|\n",
      "|          Фантастика|    53|\n",
      "|              Сказки|     3|\n",
      "|        Мультсериалы|    13|\n",
      "|             Фэнтези|     6|\n",
      "|             Русские|    36|\n",
      "|        Про животных|    27|\n",
      "|           Кулинария|     1|\n",
      "|         Музыкальные|     2|\n",
      "|           Советские|    20|\n",
      "|             Артхаус|    26|\n",
      "|  Научная фантастика|     3|\n",
      "|               Драма|     5|\n",
      "|         Музыкальный|     1|\n",
      "|           Детективы|   256|\n",
      "|         Реалити-шоу|     4|\n",
      "|            Триллеры|   267|\n",
      "|        Исторический|     9|\n",
      "|              Прочие|     3|\n",
      "+--------------------+------+\n",
      "\n"
     ]
    }
   ],
   "source": [
    "df_items.select('first_genre', 'item_id').distinct().groupBy('first_genre').count().show(100)"
   ]
  },
  {
   "cell_type": "code",
   "execution_count": 19,
   "metadata": {
    "collapsed": true
   },
   "outputs": [
    {
     "name": "stdout",
     "output_type": "stream",
     "text": [
      "+------+\n",
      "|  year|\n",
      "+------+\n",
      "|1954.0|\n",
      "|1951.0|\n",
      "|1944.0|\n",
      "|1979.0|\n",
      "|2010.0|\n",
      "|1960.0|\n",
      "|1945.0|\n",
      "|1924.0|\n",
      "|1963.0|\n",
      "|1956.0|\n",
      "|1938.0|\n",
      "|1983.0|\n",
      "|1939.0|\n",
      "|1999.0|\n",
      "|1982.0|\n",
      "|  null|\n",
      "|2003.0|\n",
      "|1981.0|\n",
      "|1916.0|\n",
      "|1975.0|\n",
      "+------+\n",
      "only showing top 20 rows\n",
      "\n"
     ]
    }
   ],
   "source": [
    "df_items.select('year').distinct().show()"
   ]
  },
  {
   "cell_type": "code",
   "execution_count": 20,
   "metadata": {},
   "outputs": [],
   "source": [
    "user_item = df_user.join(df_items, how = 'left', on = 'item_id')"
   ]
  },
  {
   "cell_type": "code",
   "execution_count": 21,
   "metadata": {},
   "outputs": [],
   "source": [
    "mean_purchase_item = user_item.select('item_id', 'purchase').groupBy('item_id').agg(mean('purchase').alias('mean_purchase_item'))"
   ]
  },
  {
   "cell_type": "markdown",
   "metadata": {},
   "source": [
    "## laba03_views_programmes.csv"
   ]
  },
  {
   "cell_type": "code",
   "execution_count": 22,
   "metadata": {},
   "outputs": [],
   "source": [
    "read_users_schema = StructType(fields=[StructField('user_id', IntegerType()), \n",
    "StructField('item_id', IntegerType()),\n",
    "StructField('ts_start', IntegerType()),\n",
    "StructField('ts_end', IntegerType()),\n",
    "StructField('item_type', StringType()),\n",
    "]) \n",
    "\n",
    "\n",
    "\n",
    "df_views_programmes = spark.read.format(\"csv\") \\\n",
    "      .option(\"header\", True) \\\n",
    "      .schema(read_users_schema) \\\n",
    "      .load(\"/labs/slaba03/laba03_views_programmes.csv\")"
   ]
  },
  {
   "cell_type": "code",
   "execution_count": 23,
   "metadata": {},
   "outputs": [
    {
     "name": "stdout",
     "output_type": "stream",
     "text": [
      "+-------+-------+----------+----------+---------+\n",
      "|user_id|item_id|ts_start  |ts_end    |item_type|\n",
      "+-------+-------+----------+----------+---------+\n",
      "|0      |7101053|1491409931|1491411600|live     |\n",
      "|0      |7101054|1491412481|1491451571|live     |\n",
      "|0      |7101054|1491411640|1491412481|live     |\n",
      "|0      |6184414|1486191290|1486191640|live     |\n",
      "|257    |4436877|1490628499|1490630256|live     |\n",
      "+-------+-------+----------+----------+---------+\n",
      "only showing top 5 rows\n",
      "\n"
     ]
    }
   ],
   "source": [
    "df_views_programmes.show(5, False, False)"
   ]
  },
  {
   "cell_type": "markdown",
   "metadata": {},
   "source": [
    "## Советы\n",
    "\n",
    "* На качество прогноза в большей степени влияет качество признаков, которые вы сможете придумать из имеющихся данных, нежели выбор и сложность алгоритма.\n",
    "\n",
    "* Качество входных данных также имеет сильное значение. Существует фраза \"garbage in – garbage out\". Мусор на входе – мусор на выходе. Потратьте время на подготовку и предобработку данных. Путь к успеху в третьей лабораторной:\n",
    "\n",
    "* Сосредоточьтесь на формировании следующих фичей: по файлу laba03_train.csv сформируйте признаки, характеризирующие как интенсивно покупает пользователь и \"покупаемость\" item'ов\n",
    "\n",
    "* возьмите достаточно мощную модель (например GBTClassifier из pyspark'а)"
   ]
  },
  {
   "cell_type": "markdown",
   "metadata": {},
   "source": [
    "## Tips "
   ]
  },
  {
   "cell_type": "markdown",
   "metadata": {},
   "source": [
    "в датасете очень много категориальных признаков, рассмотрим, как работать с ними"
   ]
  },
  {
   "cell_type": "markdown",
   "metadata": {},
   "source": [
    "## target encoding"
   ]
  },
  {
   "cell_type": "markdown",
   "metadata": {},
   "source": [
    "![Cat](https://hsto.org/getpro/habr/upload_files/d85/93e/527/d8593e527edced50d1d22c8e32a05b85.png)"
   ]
  },
  {
   "cell_type": "markdown",
   "metadata": {},
   "source": [
    "## one hot encoding"
   ]
  },
  {
   "cell_type": "markdown",
   "metadata": {},
   "source": [
    "![Cat](https://e6v4p8w2.rocketcdn.me/wp-content/uploads/2022/01/One-Hot-Encoding-for-Scikit-Learn-in-Python-Explained-1024x576.png)\n",
    "\n",
    "\n"
   ]
  },
  {
   "cell_type": "markdown",
   "metadata": {},
   "source": [
    "# Решение"
   ]
  },
  {
   "cell_type": "markdown",
   "metadata": {},
   "source": [
    "Первый способ с помощью ALS показал результат 0.74"
   ]
  },
  {
   "cell_type": "code",
   "execution_count": 29,
   "metadata": {},
   "outputs": [],
   "source": [
    "from pyspark.ml.recommendation import ALS"
   ]
  },
  {
   "cell_type": "code",
   "execution_count": 103,
   "metadata": {},
   "outputs": [],
   "source": [
    "df_user1 = (df_user\n",
    "       .withColumnRenamed('user_id','user')\n",
    "       .withColumnRenamed('item_id', 'item')\n",
    "       .withColumnRenamed('purchase', 'rating'))"
   ]
  },
  {
   "cell_type": "code",
   "execution_count": 105,
   "metadata": {},
   "outputs": [],
   "source": [
    "als = ALS(rank=10, maxIter=5, seed=5757)\n",
    "model = als.fit(df_user1, params={als.coldStartStrategy: \"drop\"})"
   ]
  },
  {
   "cell_type": "code",
   "execution_count": 106,
   "metadata": {},
   "outputs": [],
   "source": [
    "predictions = model.transform(df_user_test.withColumnRenamed('user_id','user').withColumnRenamed('item_id', 'item'))"
   ]
  },
  {
   "cell_type": "code",
   "execution_count": 107,
   "metadata": {},
   "outputs": [
    {
     "name": "stdout",
     "output_type": "stream",
     "text": [
      "+------+----+-------------+\n",
      "|  user|item|   prediction|\n",
      "+------+----+-------------+\n",
      "|886063|8389|5.0145765E-22|\n",
      "|900335|8389| 9.762687E-23|\n",
      "|936359|8389|1.5562003E-23|\n",
      "|901323|8389|3.6834068E-23|\n",
      "|928231|8389|1.2087092E-22|\n",
      "+------+----+-------------+\n",
      "only showing top 5 rows\n",
      "\n"
     ]
    }
   ],
   "source": [
    "predictions.show(5)"
   ]
  },
  {
   "cell_type": "code",
   "execution_count": 108,
   "metadata": {},
   "outputs": [],
   "source": [
    "predictions = predictions.withColumnRenamed('user', 'user_id').withColumnRenamed('item', 'item_id').withColumnRenamed('prediction', 'purchase')"
   ]
  },
  {
   "cell_type": "code",
   "execution_count": 110,
   "metadata": {},
   "outputs": [],
   "source": [
    "predictions = predictions.orderBy('user_id', 'item_id')"
   ]
  },
  {
   "cell_type": "code",
   "execution_count": 111,
   "metadata": {},
   "outputs": [
    {
     "name": "stdout",
     "output_type": "stream",
     "text": [
      "+-------+-------+-------------+\n",
      "|user_id|item_id|     purchase|\n",
      "+-------+-------+-------------+\n",
      "|   1654|    336|          0.0|\n",
      "|   1654|    678|          0.0|\n",
      "|   1654|    691|          0.0|\n",
      "|   1654|    696|3.3109543E-23|\n",
      "|   1654|    763|4.4196544E-24|\n",
      "|   1654|    795| 7.748142E-22|\n",
      "|   1654|    861| 6.468716E-23|\n",
      "|   1654|   1137|1.7891349E-22|\n",
      "|   1654|   1159|2.2340202E-23|\n",
      "|   1654|   1428|6.2637883E-22|\n",
      "|   1654|   1685|6.2442993E-22|\n",
      "|   1654|   1686|7.3528494E-23|\n",
      "|   1654|   1704| 1.161839E-22|\n",
      "|   1654|   2093|          0.0|\n",
      "|   1654|   2343| 6.340229E-24|\n",
      "|   1654|   2451|          0.0|\n",
      "|   1654|   2469| 2.613654E-22|\n",
      "|   1654|   2603|3.3086378E-24|\n",
      "|   1654|   2609|          0.0|\n",
      "|   1654|   2621|8.0559997E-23|\n",
      "+-------+-------+-------------+\n",
      "only showing top 20 rows\n",
      "\n"
     ]
    }
   ],
   "source": [
    "predictions.show()"
   ]
  },
  {
   "cell_type": "code",
   "execution_count": 113,
   "metadata": {},
   "outputs": [],
   "source": [
    "pandas_pr = predictions.toPandas()"
   ]
  },
  {
   "cell_type": "code",
   "execution_count": 116,
   "metadata": {},
   "outputs": [],
   "source": [
    "pandas_pr.to_csv('lab03.csv')"
   ]
  },
  {
   "cell_type": "markdown",
   "metadata": {},
   "source": [
    "Второй способ - бинарная классификация на 2 признаках (target encoding фильма и пользователя)"
   ]
  },
  {
   "cell_type": "code",
   "execution_count": 24,
   "metadata": {},
   "outputs": [],
   "source": [
    "df_train = df_user.join(mean_purchase_user, on = 'user_id', how = 'left')\n",
    "df_train = df_train.join(mean_purchase_item, on = 'item_id', how = 'left')\n",
    "\n",
    "df_test = df_user_test.join(mean_purchase_user, on = 'user_id', how = 'left')\n",
    "df_test = df_test.join(mean_purchase_item, on = 'item_id', how = 'left')"
   ]
  },
  {
   "cell_type": "code",
   "execution_count": 25,
   "metadata": {},
   "outputs": [],
   "source": [
    "stringIndexer = StringIndexer(inputCol=\"first_genre\", outputCol=\"indexed\")\n",
    "model = stringIndexer.fit(df_items)\n",
    "td = model.transform(df_items)\n",
    "encoder = OneHotEncoder(inputCol=\"indexed\", outputCol=\"features\")"
   ]
  },
  {
   "cell_type": "code",
   "execution_count": 26,
   "metadata": {},
   "outputs": [],
   "source": [
    "ohe_genre = encoder.transform(td).select('features', 'item_id')"
   ]
  },
  {
   "cell_type": "code",
   "execution_count": 28,
   "metadata": {},
   "outputs": [
    {
     "name": "stdout",
     "output_type": "stream",
     "text": [
      "+-------+-------+--------+--------------------+--------------------+\n",
      "|item_id|user_id|purchase|  mean_purchase_user|  mean_purchase_item|\n",
      "+-------+-------+--------+--------------------+--------------------+\n",
      "|   8389| 793876|       0|0.001940240589833...|0.005979073243647235|\n",
      "|   8389| 795620|       0|0.004243827160493827|0.005979073243647235|\n",
      "|   8389| 851848|       0|3.888024883359253...|0.005979073243647235|\n",
      "|   8389| 880451|       0|0.009220130618517095|0.005979073243647235|\n",
      "|   8389| 900203|       0|0.003436426116838488|0.005979073243647235|\n",
      "|   8389| 920599|       0|0.001556420233463...|0.005979073243647235|\n",
      "|   8389| 799148|       0|3.878975950349108E-4|0.005979073243647235|\n",
      "|   8389| 853717|       0|0.001571709233791...|0.005979073243647235|\n",
      "|   8389| 871607|       0|3.837298541826554E-4|0.005979073243647235|\n",
      "|   8389| 897570|       0|0.006165703275529865|0.005979073243647235|\n",
      "|   8389| 895407|       0|0.003097173828881146|0.005979073243647235|\n",
      "|   8389| 906790|       0|                 0.0|0.005979073243647235|\n",
      "|   8389| 920718|       0|0.003452243958573...|0.005979073243647235|\n",
      "|   8389| 776138|       0|                0.01|0.005979073243647235|\n",
      "|   8389| 833838|       0|0.005740528128587...|0.005979073243647235|\n",
      "|   8389| 865948|       0|3.821169277799006...|0.005979073243647235|\n",
      "|   8389| 868207|       0|3.927729772191673...|0.005979073243647235|\n",
      "|   8389| 896115|       0|0.004224270353302612|0.005979073243647235|\n",
      "|   8389| 899680|       0|3.802281368821292...|0.005979073243647235|\n",
      "|   8389| 902417|       0|3.846153846153846E-4|0.005979073243647235|\n",
      "+-------+-------+--------+--------------------+--------------------+\n",
      "only showing top 20 rows\n",
      "\n"
     ]
    }
   ],
   "source": [
    "df_train.show()"
   ]
  },
  {
   "cell_type": "code",
   "execution_count": 29,
   "metadata": {},
   "outputs": [],
   "source": [
    "assembler = VectorAssembler(inputCols=['mean_purchase_user', 'mean_purchase_item'], outputCol=\"features\")"
   ]
  },
  {
   "cell_type": "code",
   "execution_count": 30,
   "metadata": {},
   "outputs": [],
   "source": [
    "gbt = GBTClassifier(labelCol='purchase', seed=42)"
   ]
  },
  {
   "cell_type": "code",
   "execution_count": 31,
   "metadata": {},
   "outputs": [],
   "source": [
    "pipeline = Pipeline(stages=[\n",
    "    assembler,\n",
    "    gbt\n",
    "])"
   ]
  },
  {
   "cell_type": "code",
   "execution_count": 32,
   "metadata": {},
   "outputs": [],
   "source": [
    "pipeline_model = pipeline.fit(df_train)"
   ]
  },
  {
   "cell_type": "code",
   "execution_count": 33,
   "metadata": {},
   "outputs": [],
   "source": [
    "predictions = pipeline_model.transform(df_test)"
   ]
  },
  {
   "cell_type": "code",
   "execution_count": 34,
   "metadata": {},
   "outputs": [
    {
     "name": "stdout",
     "output_type": "stream",
     "text": [
      "+-------+-------+--------------------+----------+\n",
      "|user_id|item_id|         probability|prediction|\n",
      "+-------+-------+--------------------+----------+\n",
      "| 761341|   8389|[0.95581796033907...|       0.0|\n",
      "| 776188|   8389|[0.95420734066546...|       0.0|\n",
      "| 846231|   8389|[0.95378656982703...|       0.0|\n",
      "| 765780|   8389|[0.95354731831534...|       0.0|\n",
      "| 814235|   8389|[0.95500291011960...|       0.0|\n",
      "| 849754|   8389|[0.95569346459518...|       0.0|\n",
      "| 860986|   8389|[0.95513734150042...|       0.0|\n",
      "| 887904|   8389|[0.95581796033907...|       0.0|\n",
      "| 927643|   8389|[0.95378656982703...|       0.0|\n",
      "| 937273|   8389|[0.95354731831534...|       0.0|\n",
      "| 903014|   8389|[0.91767024290144...|       0.0|\n",
      "| 910897|   8389|[0.95581796033907...|       0.0|\n",
      "| 935644|   8389|[0.95420734066546...|       0.0|\n",
      "| 854520|   8389|[0.95500291011960...|       0.0|\n",
      "| 866647|   8389|[0.95513734150042...|       0.0|\n",
      "| 898782|   8389|[0.95581796033907...|       0.0|\n",
      "| 788108|   8389|[0.95420734066546...|       0.0|\n",
      "| 897003|   8389|[0.95046152781021...|       0.0|\n",
      "| 800051|   8389|[0.95420734066546...|       0.0|\n",
      "| 887439|   8389|[0.95581796033907...|       0.0|\n",
      "+-------+-------+--------------------+----------+\n",
      "only showing top 20 rows\n",
      "\n"
     ]
    }
   ],
   "source": [
    "predictions.select('user_id', 'item_id', 'probability', 'prediction').show()"
   ]
  },
  {
   "cell_type": "code",
   "execution_count": 36,
   "metadata": {},
   "outputs": [
    {
     "name": "stdout",
     "output_type": "stream",
     "text": [
      "+----------+-------+\n",
      "|prediction|  count|\n",
      "+----------+-------+\n",
      "|       0.0|2156840|\n",
      "+----------+-------+\n",
      "\n"
     ]
    }
   ],
   "source": [
    "predictions.groupBy('prediction').count().show()"
   ]
  },
  {
   "cell_type": "code",
   "execution_count": 40,
   "metadata": {},
   "outputs": [],
   "source": [
    "predictions = predictions.withColumnRenamed('probability', 'purchase')\n",
    "predictions = predictions.select('user_id', 'item_id', 'purchase').orderBy('user_id', 'item_id')"
   ]
  },
  {
   "cell_type": "code",
   "execution_count": 43,
   "metadata": {},
   "outputs": [],
   "source": [
    "predictions = predictions.orderBy('user_id', 'item_id')"
   ]
  },
  {
   "cell_type": "code",
   "execution_count": 44,
   "metadata": {},
   "outputs": [],
   "source": [
    "pandas_pr = predictions.toPandas()"
   ]
  },
  {
   "cell_type": "code",
   "execution_count": 46,
   "metadata": {},
   "outputs": [],
   "source": [
    "pandas_pr['purchase'] = pandas_pr['purchase'].apply(lambda x: x[1])"
   ]
  },
  {
   "cell_type": "code",
   "execution_count": 47,
   "metadata": {
    "collapsed": true
   },
   "outputs": [
    {
     "data": {
      "text/html": [
       "<div>\n",
       "<style scoped>\n",
       "    .dataframe tbody tr th:only-of-type {\n",
       "        vertical-align: middle;\n",
       "    }\n",
       "\n",
       "    .dataframe tbody tr th {\n",
       "        vertical-align: top;\n",
       "    }\n",
       "\n",
       "    .dataframe thead th {\n",
       "        text-align: right;\n",
       "    }\n",
       "</style>\n",
       "<table border=\"1\" class=\"dataframe\">\n",
       "  <thead>\n",
       "    <tr style=\"text-align: right;\">\n",
       "      <th></th>\n",
       "      <th>user_id</th>\n",
       "      <th>item_id</th>\n",
       "      <th>purchase</th>\n",
       "    </tr>\n",
       "  </thead>\n",
       "  <tbody>\n",
       "    <tr>\n",
       "      <th>0</th>\n",
       "      <td>1654</td>\n",
       "      <td>336</td>\n",
       "      <td>0.043926</td>\n",
       "    </tr>\n",
       "    <tr>\n",
       "      <th>1</th>\n",
       "      <td>1654</td>\n",
       "      <td>678</td>\n",
       "      <td>0.043926</td>\n",
       "    </tr>\n",
       "    <tr>\n",
       "      <th>2</th>\n",
       "      <td>1654</td>\n",
       "      <td>691</td>\n",
       "      <td>0.043926</td>\n",
       "    </tr>\n",
       "    <tr>\n",
       "      <th>3</th>\n",
       "      <td>1654</td>\n",
       "      <td>696</td>\n",
       "      <td>0.044061</td>\n",
       "    </tr>\n",
       "    <tr>\n",
       "      <th>4</th>\n",
       "      <td>1654</td>\n",
       "      <td>763</td>\n",
       "      <td>0.043965</td>\n",
       "    </tr>\n",
       "    <tr>\n",
       "      <th>5</th>\n",
       "      <td>1654</td>\n",
       "      <td>795</td>\n",
       "      <td>0.046453</td>\n",
       "    </tr>\n",
       "    <tr>\n",
       "      <th>6</th>\n",
       "      <td>1654</td>\n",
       "      <td>861</td>\n",
       "      <td>0.043965</td>\n",
       "    </tr>\n",
       "    <tr>\n",
       "      <th>7</th>\n",
       "      <td>1654</td>\n",
       "      <td>1137</td>\n",
       "      <td>0.044272</td>\n",
       "    </tr>\n",
       "    <tr>\n",
       "      <th>8</th>\n",
       "      <td>1654</td>\n",
       "      <td>1159</td>\n",
       "      <td>0.044061</td>\n",
       "    </tr>\n",
       "    <tr>\n",
       "      <th>9</th>\n",
       "      <td>1654</td>\n",
       "      <td>1428</td>\n",
       "      <td>0.043965</td>\n",
       "    </tr>\n",
       "    <tr>\n",
       "      <th>10</th>\n",
       "      <td>1654</td>\n",
       "      <td>1685</td>\n",
       "      <td>0.044061</td>\n",
       "    </tr>\n",
       "    <tr>\n",
       "      <th>11</th>\n",
       "      <td>1654</td>\n",
       "      <td>1686</td>\n",
       "      <td>0.043965</td>\n",
       "    </tr>\n",
       "    <tr>\n",
       "      <th>12</th>\n",
       "      <td>1654</td>\n",
       "      <td>1704</td>\n",
       "      <td>0.044061</td>\n",
       "    </tr>\n",
       "    <tr>\n",
       "      <th>13</th>\n",
       "      <td>1654</td>\n",
       "      <td>2093</td>\n",
       "      <td>0.043926</td>\n",
       "    </tr>\n",
       "    <tr>\n",
       "      <th>14</th>\n",
       "      <td>1654</td>\n",
       "      <td>2343</td>\n",
       "      <td>0.043965</td>\n",
       "    </tr>\n",
       "    <tr>\n",
       "      <th>15</th>\n",
       "      <td>1654</td>\n",
       "      <td>2451</td>\n",
       "      <td>0.043926</td>\n",
       "    </tr>\n",
       "    <tr>\n",
       "      <th>16</th>\n",
       "      <td>1654</td>\n",
       "      <td>2469</td>\n",
       "      <td>0.047339</td>\n",
       "    </tr>\n",
       "    <tr>\n",
       "      <th>17</th>\n",
       "      <td>1654</td>\n",
       "      <td>2603</td>\n",
       "      <td>0.043965</td>\n",
       "    </tr>\n",
       "    <tr>\n",
       "      <th>18</th>\n",
       "      <td>1654</td>\n",
       "      <td>2609</td>\n",
       "      <td>0.043926</td>\n",
       "    </tr>\n",
       "    <tr>\n",
       "      <th>19</th>\n",
       "      <td>1654</td>\n",
       "      <td>2621</td>\n",
       "      <td>0.044061</td>\n",
       "    </tr>\n",
       "    <tr>\n",
       "      <th>20</th>\n",
       "      <td>1654</td>\n",
       "      <td>2683</td>\n",
       "      <td>0.044544</td>\n",
       "    </tr>\n",
       "    <tr>\n",
       "      <th>21</th>\n",
       "      <td>1654</td>\n",
       "      <td>2695</td>\n",
       "      <td>0.043965</td>\n",
       "    </tr>\n",
       "    <tr>\n",
       "      <th>22</th>\n",
       "      <td>1654</td>\n",
       "      <td>2696</td>\n",
       "      <td>0.043965</td>\n",
       "    </tr>\n",
       "    <tr>\n",
       "      <th>23</th>\n",
       "      <td>1654</td>\n",
       "      <td>2773</td>\n",
       "      <td>0.044061</td>\n",
       "    </tr>\n",
       "    <tr>\n",
       "      <th>24</th>\n",
       "      <td>1654</td>\n",
       "      <td>2855</td>\n",
       "      <td>0.044061</td>\n",
       "    </tr>\n",
       "    <tr>\n",
       "      <th>25</th>\n",
       "      <td>1654</td>\n",
       "      <td>2990</td>\n",
       "      <td>0.043965</td>\n",
       "    </tr>\n",
       "    <tr>\n",
       "      <th>26</th>\n",
       "      <td>1654</td>\n",
       "      <td>3055</td>\n",
       "      <td>0.043926</td>\n",
       "    </tr>\n",
       "    <tr>\n",
       "      <th>27</th>\n",
       "      <td>1654</td>\n",
       "      <td>3066</td>\n",
       "      <td>0.046826</td>\n",
       "    </tr>\n",
       "    <tr>\n",
       "      <th>28</th>\n",
       "      <td>1654</td>\n",
       "      <td>3110</td>\n",
       "      <td>0.043965</td>\n",
       "    </tr>\n",
       "    <tr>\n",
       "      <th>29</th>\n",
       "      <td>1654</td>\n",
       "      <td>3147</td>\n",
       "      <td>0.044061</td>\n",
       "    </tr>\n",
       "    <tr>\n",
       "      <th>...</th>\n",
       "      <td>...</td>\n",
       "      <td>...</td>\n",
       "      <td>...</td>\n",
       "    </tr>\n",
       "    <tr>\n",
       "      <th>2156810</th>\n",
       "      <td>941450</td>\n",
       "      <td>100453</td>\n",
       "      <td>0.043696</td>\n",
       "    </tr>\n",
       "    <tr>\n",
       "      <th>2156811</th>\n",
       "      <td>941450</td>\n",
       "      <td>100459</td>\n",
       "      <td>0.043691</td>\n",
       "    </tr>\n",
       "    <tr>\n",
       "      <th>2156812</th>\n",
       "      <td>941450</td>\n",
       "      <td>100478</td>\n",
       "      <td>0.043691</td>\n",
       "    </tr>\n",
       "    <tr>\n",
       "      <th>2156813</th>\n",
       "      <td>941450</td>\n",
       "      <td>100480</td>\n",
       "      <td>0.043696</td>\n",
       "    </tr>\n",
       "    <tr>\n",
       "      <th>2156814</th>\n",
       "      <td>941450</td>\n",
       "      <td>100483</td>\n",
       "      <td>0.043696</td>\n",
       "    </tr>\n",
       "    <tr>\n",
       "      <th>2156815</th>\n",
       "      <td>941450</td>\n",
       "      <td>100492</td>\n",
       "      <td>0.043691</td>\n",
       "    </tr>\n",
       "    <tr>\n",
       "      <th>2156816</th>\n",
       "      <td>941450</td>\n",
       "      <td>100500</td>\n",
       "      <td>0.043711</td>\n",
       "    </tr>\n",
       "    <tr>\n",
       "      <th>2156817</th>\n",
       "      <td>941450</td>\n",
       "      <td>100571</td>\n",
       "      <td>0.043696</td>\n",
       "    </tr>\n",
       "    <tr>\n",
       "      <th>2156818</th>\n",
       "      <td>941450</td>\n",
       "      <td>100667</td>\n",
       "      <td>0.043691</td>\n",
       "    </tr>\n",
       "    <tr>\n",
       "      <th>2156819</th>\n",
       "      <td>941450</td>\n",
       "      <td>100759</td>\n",
       "      <td>0.043691</td>\n",
       "    </tr>\n",
       "    <tr>\n",
       "      <th>2156820</th>\n",
       "      <td>941450</td>\n",
       "      <td>101103</td>\n",
       "      <td>0.043691</td>\n",
       "    </tr>\n",
       "    <tr>\n",
       "      <th>2156821</th>\n",
       "      <td>941450</td>\n",
       "      <td>101352</td>\n",
       "      <td>0.043691</td>\n",
       "    </tr>\n",
       "    <tr>\n",
       "      <th>2156822</th>\n",
       "      <td>941450</td>\n",
       "      <td>101528</td>\n",
       "      <td>0.043696</td>\n",
       "    </tr>\n",
       "    <tr>\n",
       "      <th>2156823</th>\n",
       "      <td>941450</td>\n",
       "      <td>101529</td>\n",
       "      <td>0.043691</td>\n",
       "    </tr>\n",
       "    <tr>\n",
       "      <th>2156824</th>\n",
       "      <td>941450</td>\n",
       "      <td>101822</td>\n",
       "      <td>0.043691</td>\n",
       "    </tr>\n",
       "    <tr>\n",
       "      <th>2156825</th>\n",
       "      <td>941450</td>\n",
       "      <td>101832</td>\n",
       "      <td>0.043691</td>\n",
       "    </tr>\n",
       "    <tr>\n",
       "      <th>2156826</th>\n",
       "      <td>941450</td>\n",
       "      <td>101870</td>\n",
       "      <td>0.043691</td>\n",
       "    </tr>\n",
       "    <tr>\n",
       "      <th>2156827</th>\n",
       "      <td>941450</td>\n",
       "      <td>101958</td>\n",
       "      <td>0.043691</td>\n",
       "    </tr>\n",
       "    <tr>\n",
       "      <th>2156828</th>\n",
       "      <td>941450</td>\n",
       "      <td>102088</td>\n",
       "      <td>0.043691</td>\n",
       "    </tr>\n",
       "    <tr>\n",
       "      <th>2156829</th>\n",
       "      <td>941450</td>\n",
       "      <td>102279</td>\n",
       "      <td>0.043691</td>\n",
       "    </tr>\n",
       "    <tr>\n",
       "      <th>2156830</th>\n",
       "      <td>941450</td>\n",
       "      <td>102431</td>\n",
       "      <td>0.043691</td>\n",
       "    </tr>\n",
       "    <tr>\n",
       "      <th>2156831</th>\n",
       "      <td>941450</td>\n",
       "      <td>102603</td>\n",
       "      <td>0.043691</td>\n",
       "    </tr>\n",
       "    <tr>\n",
       "      <th>2156832</th>\n",
       "      <td>941450</td>\n",
       "      <td>102640</td>\n",
       "      <td>0.043691</td>\n",
       "    </tr>\n",
       "    <tr>\n",
       "      <th>2156833</th>\n",
       "      <td>941450</td>\n",
       "      <td>102641</td>\n",
       "      <td>0.043691</td>\n",
       "    </tr>\n",
       "    <tr>\n",
       "      <th>2156834</th>\n",
       "      <td>941450</td>\n",
       "      <td>102651</td>\n",
       "      <td>0.043696</td>\n",
       "    </tr>\n",
       "    <tr>\n",
       "      <th>2156835</th>\n",
       "      <td>941450</td>\n",
       "      <td>102966</td>\n",
       "      <td>0.043691</td>\n",
       "    </tr>\n",
       "    <tr>\n",
       "      <th>2156836</th>\n",
       "      <td>941450</td>\n",
       "      <td>103589</td>\n",
       "      <td>0.043696</td>\n",
       "    </tr>\n",
       "    <tr>\n",
       "      <th>2156837</th>\n",
       "      <td>941450</td>\n",
       "      <td>103762</td>\n",
       "      <td>0.043691</td>\n",
       "    </tr>\n",
       "    <tr>\n",
       "      <th>2156838</th>\n",
       "      <td>941450</td>\n",
       "      <td>103876</td>\n",
       "      <td>0.043691</td>\n",
       "    </tr>\n",
       "    <tr>\n",
       "      <th>2156839</th>\n",
       "      <td>941450</td>\n",
       "      <td>104016</td>\n",
       "      <td>0.043691</td>\n",
       "    </tr>\n",
       "  </tbody>\n",
       "</table>\n",
       "<p>2156840 rows × 3 columns</p>\n",
       "</div>"
      ],
      "text/plain": [
       "         user_id  item_id  purchase\n",
       "0           1654      336  0.043926\n",
       "1           1654      678  0.043926\n",
       "2           1654      691  0.043926\n",
       "3           1654      696  0.044061\n",
       "4           1654      763  0.043965\n",
       "5           1654      795  0.046453\n",
       "6           1654      861  0.043965\n",
       "7           1654     1137  0.044272\n",
       "8           1654     1159  0.044061\n",
       "9           1654     1428  0.043965\n",
       "10          1654     1685  0.044061\n",
       "11          1654     1686  0.043965\n",
       "12          1654     1704  0.044061\n",
       "13          1654     2093  0.043926\n",
       "14          1654     2343  0.043965\n",
       "15          1654     2451  0.043926\n",
       "16          1654     2469  0.047339\n",
       "17          1654     2603  0.043965\n",
       "18          1654     2609  0.043926\n",
       "19          1654     2621  0.044061\n",
       "20          1654     2683  0.044544\n",
       "21          1654     2695  0.043965\n",
       "22          1654     2696  0.043965\n",
       "23          1654     2773  0.044061\n",
       "24          1654     2855  0.044061\n",
       "25          1654     2990  0.043965\n",
       "26          1654     3055  0.043926\n",
       "27          1654     3066  0.046826\n",
       "28          1654     3110  0.043965\n",
       "29          1654     3147  0.044061\n",
       "...          ...      ...       ...\n",
       "2156810   941450   100453  0.043696\n",
       "2156811   941450   100459  0.043691\n",
       "2156812   941450   100478  0.043691\n",
       "2156813   941450   100480  0.043696\n",
       "2156814   941450   100483  0.043696\n",
       "2156815   941450   100492  0.043691\n",
       "2156816   941450   100500  0.043711\n",
       "2156817   941450   100571  0.043696\n",
       "2156818   941450   100667  0.043691\n",
       "2156819   941450   100759  0.043691\n",
       "2156820   941450   101103  0.043691\n",
       "2156821   941450   101352  0.043691\n",
       "2156822   941450   101528  0.043696\n",
       "2156823   941450   101529  0.043691\n",
       "2156824   941450   101822  0.043691\n",
       "2156825   941450   101832  0.043691\n",
       "2156826   941450   101870  0.043691\n",
       "2156827   941450   101958  0.043691\n",
       "2156828   941450   102088  0.043691\n",
       "2156829   941450   102279  0.043691\n",
       "2156830   941450   102431  0.043691\n",
       "2156831   941450   102603  0.043691\n",
       "2156832   941450   102640  0.043691\n",
       "2156833   941450   102641  0.043691\n",
       "2156834   941450   102651  0.043696\n",
       "2156835   941450   102966  0.043691\n",
       "2156836   941450   103589  0.043696\n",
       "2156837   941450   103762  0.043691\n",
       "2156838   941450   103876  0.043691\n",
       "2156839   941450   104016  0.043691\n",
       "\n",
       "[2156840 rows x 3 columns]"
      ]
     },
     "execution_count": 47,
     "metadata": {},
     "output_type": "execute_result"
    }
   ],
   "source": [
    "pandas_pr"
   ]
  },
  {
   "cell_type": "code",
   "execution_count": 48,
   "metadata": {},
   "outputs": [],
   "source": [
    "pandas_pr.to_csv('lab03.csv')"
   ]
  },
  {
   "cell_type": "code",
   "execution_count": 49,
   "metadata": {},
   "outputs": [],
   "source": [
    "spark.stop()"
   ]
  }
 ],
 "metadata": {
  "kernelspec": {
   "display_name": "Python 3",
   "language": "python",
   "name": "python3"
  },
  "language_info": {
   "codemirror_mode": {
    "name": "ipython",
    "version": 3
   },
   "file_extension": ".py",
   "mimetype": "text/x-python",
   "name": "python",
   "nbconvert_exporter": "python",
   "pygments_lexer": "ipython3",
   "version": "3.6.5"
  }
 },
 "nbformat": 4,
 "nbformat_minor": 2
}
