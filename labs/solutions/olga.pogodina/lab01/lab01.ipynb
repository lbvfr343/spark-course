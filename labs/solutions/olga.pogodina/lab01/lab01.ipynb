{
 "cells": [
  {
   "cell_type": "markdown",
   "metadata": {},
   "source": [
    "По имеющимся данным о рейтингах фильмов (MovieLens: 100 000 рейтингов) посчитать агрегированную статистику по ним.\n",
    "\n",
    "film id for calculations = 328"
   ]
  },
  {
   "cell_type": "markdown",
   "metadata": {},
   "source": [
    "Выходной формат файла — json. Пример решения:\n",
    "\n",
    "{\n",
    "   \"hist_film\": [\n",
    "      134,\n",
    "      123,\n",
    "      782,\n",
    "      356,\n",
    "      148\n",
    "   ],\n",
    "   \"hist_all\": [\n",
    "      134,\n",
    "      123,\n",
    "      782,\n",
    "      356,\n",
    "      148\n",
    "   ]\n",
    "}\n",
    "В поле “hist_film” нужно указать для заданного id фильма количество поставленных оценок в следующем порядке: \"1\", \"2\", \"3\", \"4\", \"5\". То есть, сколько было единичек, двоек, троек и т.д.\n",
    "\n",
    "В поле “hist_all” нужно указать то же самое, только для всех фильмов общее количество поставленных оценок в том же порядке: \"1\", \"2\", \"3\", \"4\", \"5\""
   ]
  },
  {
   "cell_type": "code",
   "execution_count": 66,
   "metadata": {},
   "outputs": [
    {
     "name": "stdout",
     "output_type": "stream",
     "text": [
      "Welcome to\n",
      "      ____              __\n",
      "     / __/__  ___ _____/ /__\n",
      "    _\\ \\/ _ \\/ _ `/ __/  '_/\n",
      "   /__ / .__/\\_,_/_/ /_/\\_\\   version 2.4.7\n",
      "      /_/\n",
      "\n",
      "Using Python version 3.6.5 (default, Apr 29 2018 16:14:56)\n",
      "SparkSession available as 'spark'.\n"
     ]
    }
   ],
   "source": [
    "import os\n",
    "import sys\n",
    "os.environ[\"PYSPARK_PYTHON\"]='/opt/anaconda/envs/bd9/bin/python'\n",
    "os.environ[\"SPARK_HOME\"]='/usr/hdp/current/spark2-client'\n",
    "os.environ[\"PYSPARK_SUBMIT_ARGS\"]='--num-executors 2 pyspark-shell'\n",
    "\n",
    "spark_home = os.environ.get('SPARK_HOME', None)\n",
    "if not spark_home:\n",
    "    raise ValueError('SPARK_HOME environment variable is not set')\n",
    "\n",
    "sys.path.insert(0, os.path.join(spark_home, 'python'))\n",
    "sys.path.insert(0, os.path.join(spark_home, 'python/lib/py4j-0.10.7-src.zip'))\n",
    "exec(open(os.path.join(spark_home, 'python/pyspark/shell.py')).read())"
   ]
  },
  {
   "cell_type": "code",
   "execution_count": 67,
   "metadata": {},
   "outputs": [],
   "source": [
    "from pyspark import SparkConf\n",
    "from pyspark.sql import SparkSession\n",
    "from pyspark.sql import functions as F\n",
    "from pyspark.sql.types import *\n",
    "from pyspark import Row\n",
    "import json\n",
    "\n",
    "conf = SparkConf()\n",
    "\n",
    "spark = (SparkSession\n",
    "         .builder\n",
    "         .config(conf=conf)\n",
    "         .appName(\"test\")\n",
    "         .getOrCreate())"
   ]
  },
  {
   "cell_type": "code",
   "execution_count": 73,
   "metadata": {},
   "outputs": [],
   "source": [
    "rdd = sc.textFile(\"/labs/laba01/ml-100k/u.data\").map(lambda x: x.split('\\t'))"
   ]
  },
  {
   "cell_type": "code",
   "execution_count": 74,
   "metadata": {},
   "outputs": [
    {
     "data": {
      "text/plain": [
       "[['196', '242', '3', '881250949'],\n",
       " ['186', '302', '3', '891717742'],\n",
       " ['22', '377', '1', '878887116'],\n",
       " ['244', '51', '2', '880606923'],\n",
       " ['166', '346', '1', '886397596']]"
      ]
     },
     "execution_count": 74,
     "metadata": {},
     "output_type": "execute_result"
    }
   ],
   "source": [
    "rdd.take(5)\n",
    "#  user id | item id | rating | timestamp"
   ]
  },
  {
   "cell_type": "markdown",
   "metadata": {},
   "source": [
    "# rdd"
   ]
  },
  {
   "cell_type": "code",
   "execution_count": 76,
   "metadata": {},
   "outputs": [],
   "source": [
    "hist_film = rdd.filter(lambda x: x[1]=='328')\\\n",
    "           .flatMap(lambda x: [x[2]])\\\n",
    "           .sortBy(lambda x: x[0])\\\n",
    "           .countByKey()\n",
    "hist_all = df_all = rdd.flatMap(lambda x: [x[2]])\\\n",
    "           .sortBy(lambda x: x[0])\\\n",
    "           .countByKey()\n",
    "hist_json = {\"hist_film\": list(df_302.values()),\n",
    "             \"hist_all\": list(df_all.values())}"
   ]
  },
  {
   "cell_type": "markdown",
   "metadata": {},
   "source": [
    "# dataframe"
   ]
  },
  {
   "cell_type": "code",
   "execution_count": 51,
   "metadata": {},
   "outputs": [],
   "source": [
    "df = rdd.map(lambda x : (x[0], x[1], x[2], x[3])).toDF((\"user_id\",\"item_id\",\"rating\",\"timestamp\"))\n",
    "\n",
    "hist_film = df.filter(df['item_id'] == 328)\\\n",
    "              .groupBy([df['item_id'], df['rating']])\\\n",
    "              .count()\\\n",
    "              .sort(df['rating'], ascending=True)\\\n",
    "              .collect()\n",
    "hist_all = df.groupBy(df['rating'])\\\n",
    "             .count()\\\n",
    "             .sort(df['rating'], ascending=True)\\\n",
    "             .collect()\n",
    "hist_json = {\"hist_film\": [hist_film[i][2] for i in range(len(hist_film))],\n",
    "             \"hist_all\": [hist_all[i][1] for i in range(len(hist_all))]}"
   ]
  },
  {
   "cell_type": "code",
   "execution_count": null,
   "metadata": {},
   "outputs": [],
   "source": [
    "import json\n",
    "\n",
    "with open(\"lab01.json\", \"w\", encoding=\"utf-8\") as file:\n",
    "    json.dump(hist_json, file)"
   ]
  },
  {
   "cell_type": "code",
   "execution_count": 61,
   "metadata": {},
   "outputs": [],
   "source": [
    "spark.stop()"
   ]
  },
  {
   "cell_type": "code",
   "execution_count": null,
   "metadata": {},
   "outputs": [],
   "source": []
  }
 ],
 "metadata": {
  "kernelspec": {
   "display_name": "Python 3",
   "language": "python",
   "name": "python3"
  },
  "language_info": {
   "codemirror_mode": {
    "name": "ipython",
    "version": 3
   },
   "file_extension": ".py",
   "mimetype": "text/x-python",
   "name": "python",
   "nbconvert_exporter": "python",
   "pygments_lexer": "ipython3",
   "version": "3.6.5"
  }
 },
 "nbformat": 4,
 "nbformat_minor": 2
}
