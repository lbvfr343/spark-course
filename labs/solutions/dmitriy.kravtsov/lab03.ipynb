{
 "cells": [
  {
   "cell_type": "markdown",
   "metadata": {},
   "source": [
    "# Лаба 3. Рекомендательная система видео-контента"
   ]
  },
  {
   "cell_type": "code",
   "execution_count": 31,
   "metadata": {},
   "outputs": [],
   "source": [
    "_spark.stop()"
   ]
  },
  {
   "cell_type": "code",
   "execution_count": 2,
   "metadata": {},
   "outputs": [],
   "source": [
    "import os\n",
    "import sys\n",
    "os.environ[\"PYSPARK_PYTHON\"]='/opt/anaconda/envs/bd9/bin/python'\n",
    "os.environ[\"SPARK_HOME\"]='/usr/hdp/current/spark2-client'\n",
    "os.environ[\"PYSPARK_SUBMIT_ARGS\"]='--num-executors 3 pyspark-shell'\n",
    "\n",
    "spark_home = os.environ.get('SPARK_HOME', None)\n",
    "\n",
    "sys.path.insert(0, os.path.join(spark_home, 'python'))\n",
    "sys.path.insert(0, os.path.join(spark_home, 'python/lib/py4j-0.10.7-src.zip'))\n",
    "\n",
    "from pyspark import SparkConf\n",
    "from pyspark.sql import SparkSession\n",
    "\n",
    "conf = SparkConf()\n",
    "\n",
    "spark = SparkSession.builder.config(conf=conf).appName(\"lab03\").getOrCreate()"
   ]
  },
  {
   "cell_type": "code",
   "execution_count": 3,
   "metadata": {},
   "outputs": [
    {
     "name": "stdout",
     "output_type": "stream",
     "text": [
      "application_1667306389915_2234\n"
     ]
    },
    {
     "data": {
      "text/html": [
       "\n",
       "            <div>\n",
       "                <p><b>SparkSession - in-memory</b></p>\n",
       "                \n",
       "        <div>\n",
       "            <p><b>SparkContext</b></p>\n",
       "\n",
       "            <p><a href=\"http://spark-master-4.newprolab.com:4040\">Spark UI</a></p>\n",
       "\n",
       "            <dl>\n",
       "              <dt>Version</dt>\n",
       "                <dd><code>v2.4.7</code></dd>\n",
       "              <dt>Master</dt>\n",
       "                <dd><code>yarn</code></dd>\n",
       "              <dt>AppName</dt>\n",
       "                <dd><code>lab03</code></dd>\n",
       "            </dl>\n",
       "        </div>\n",
       "        \n",
       "            </div>\n",
       "        "
      ],
      "text/plain": [
       "<pyspark.sql.session.SparkSession at 0x7efdf470b940>"
      ]
     },
     "execution_count": 3,
     "metadata": {},
     "output_type": "execute_result"
    }
   ],
   "source": [
    "print(spark._sc.applicationId)\n",
    "spark"
   ]
  },
  {
   "cell_type": "code",
   "execution_count": 5,
   "metadata": {},
   "outputs": [],
   "source": [
    "import numpy as np \n",
    "import pandas as pd\n",
    "from pyspark.ml.regression import GBTRegressor, RandomForestRegressor\n",
    "from pyspark.ml.classification import GBTClassifier\n",
    "from pyspark.ml.evaluation import BinaryClassificationEvaluator\n",
    "from pyspark.ml.feature import VectorAssembler\n",
    "from pyspark.ml.tuning import CrossValidator, ParamGridBuilder\n",
    "from pyspark.sql.types import *\n",
    "from pyspark.sql.functions import col, expr, when, lower\n",
    "from urllib.parse import urlparse\n",
    "# import pyspark.sql.functions as f\n",
    "\n",
    "from pyspark.sql.functions import lit\n",
    "\n",
    "\n",
    "spark.sparkContext.setCheckpointDir('checkpoint/')"
   ]
  },
  {
   "cell_type": "code",
   "execution_count": 34,
   "metadata": {},
   "outputs": [],
   "source": [
    "sc = spark.sparkContext"
   ]
  },
  {
   "cell_type": "code",
   "execution_count": 16,
   "metadata": {},
   "outputs": [
    {
     "name": "stdout",
     "output_type": "stream",
     "text": [
      "Populating the interactive namespace from numpy and matplotlib\n"
     ]
    }
   ],
   "source": [
    "%pylab inline"
   ]
  },
  {
   "cell_type": "code",
   "execution_count": 6,
   "metadata": {},
   "outputs": [
    {
     "name": "stdout",
     "output_type": "stream",
     "text": [
      "Found 4 items\r\n",
      "-rw-r--r--   3 hdfs hdfs     86.8 M 2022-01-06 18:46 /labs/slaba03/laba03_items.csv\r\n",
      "-rw-r--r--   3 hdfs hdfs     28.6 M 2022-01-06 18:46 /labs/slaba03/laba03_test.csv\r\n",
      "-rw-r--r--   3 hdfs hdfs     71.5 M 2022-01-06 18:46 /labs/slaba03/laba03_train.csv\r\n",
      "-rw-r--r--   3 hdfs hdfs    830.9 M 2022-01-06 18:46 /labs/slaba03/laba03_views_programmes.csv\r\n"
     ]
    }
   ],
   "source": [
    "! hdfs dfs -ls -h /labs/slaba03/"
   ]
  },
  {
   "cell_type": "markdown",
   "metadata": {},
   "source": [
    "## Читаем данные"
   ]
  },
  {
   "cell_type": "code",
   "execution_count": 39,
   "metadata": {},
   "outputs": [
    {
     "name": "stdout",
     "output_type": "stream",
     "text": [
      "+-------+----------+---------------------------+--------------------------+-------------------+------------------+------------+--------------------------------------------------------------------------------------+------+-----------------------------------------------------+---------+\n",
      "|item_id|channel_id|datetime_availability_start|datetime_availability_stop|datetime_show_start|datetime_show_stop|content_type|title                                                                                 |year  |genres                                               |region_id|\n",
      "+-------+----------+---------------------------+--------------------------+-------------------+------------------+------------+--------------------------------------------------------------------------------------+------+-----------------------------------------------------+---------+\n",
      "|65667  |null      |1970-01-01T00:00:00Z       |2018-01-01T00:00:00Z      |null               |null              |1           |на пробах только девушки (all girl auditions)                                         |2013.0|Эротика                                              |null     |\n",
      "|65669  |null      |1970-01-01T00:00:00Z       |2018-01-01T00:00:00Z      |null               |null              |1           |скуби ду: эротическая пародия (scooby doo: a xxx parody)                              |2011.0|Эротика                                              |null     |\n",
      "|65668  |null      |1970-01-01T00:00:00Z       |2018-01-01T00:00:00Z      |null               |null              |1           |горячие девочки для горячих девочек (hot babes 4 hot babes)                           |2011.0|Эротика                                              |null     |\n",
      "|65671  |null      |1970-01-01T00:00:00Z       |2018-01-01T00:00:00Z      |null               |null              |1           |соблазнительницы женатых мужчин (top heavy homewreckers)                              |2011.0|Эротика                                              |null     |\n",
      "|65670  |null      |1970-01-01T00:00:00Z       |2018-01-01T00:00:00Z      |null               |null              |1           |секретные секс-материалы ii: темная секс пародия (the sex files ii: a dark xxx parody)|2010.0|Эротика                                              |null     |\n",
      "|65809  |null      |1970-01-01T00:00:00Z       |2099-12-31T21:00:00Z      |null               |null              |1           |все о мужчинах                                                                        |2016.0|Комедии                                              |null     |\n",
      "|65810  |null      |1970-01-01T00:00:00Z       |2099-12-31T21:00:00Z      |null               |null              |1           |8 лучших свиданий (сурдоперевод)                                                      |2016.0|Комедии,Мелодрамы                                    |null     |\n",
      "|326    |null      |1970-01-01T00:00:00Z       |2099-12-31T21:00:00Z      |null               |null              |1           |византия                                                                              |2012.0|Ужасы,Триллеры,Драмы,Фантастика,Зарубежные           |null     |\n",
      "|336    |null      |1970-01-01T00:00:00Z       |2099-12-31T21:00:00Z      |null               |null              |1           |девственники, берегитесь!                                                             |2012.0|Ужасы,Комедии,Фантастика,Зарубежные                  |null     |\n",
      "|357    |null      |1970-01-01T00:00:00Z       |2099-12-31T21:00:00Z      |null               |null              |1           |8 первых свиданий                                                                     |2012.0|Комедии,Мелодрамы,Наши                               |null     |\n",
      "|396    |null      |1970-01-01T00:00:00Z       |2099-12-31T21:00:00Z      |null               |null              |1           |предчувствие                                                                          |2007.0|Детективы,Триллеры,Драмы,Фантастика,Зарубежные       |null     |\n",
      "|400    |null      |1970-01-01T00:00:00Z       |2099-12-31T21:00:00Z      |null               |null              |1           |путь воина                                                                            |2010.0|Фантастика,Боевики,Зарубежные                        |null     |\n",
      "|423    |null      |1970-01-01T00:00:00Z       |2099-12-31T21:00:00Z      |null               |null              |1           |список контактов                                                                      |2008.0|Детективы,Триллеры,Драмы,Криминал,Зарубежные         |null     |\n",
      "|430    |null      |1970-01-01T00:00:00Z       |2099-12-31T21:00:00Z      |null               |null              |1           |сыщик                                                                                 |2007.0|Детективы,Триллеры,Драмы,Зарубежные                  |null     |\n",
      "|449    |null      |1970-01-01T00:00:00Z       |2099-12-31T21:00:00Z      |null               |null              |1           |туристы                                                                               |2006.0|Ужасы,Детективы,Триллеры,Зарубежные                  |null     |\n",
      "|453    |null      |1970-01-01T00:00:00Z       |2099-12-31T21:00:00Z      |null               |null              |1           |уроки вождения                                                                        |2006.0|Комедии,Драмы,Зарубежные                             |null     |\n",
      "|478    |null      |1970-01-01T00:00:00Z       |2099-12-31T21:00:00Z      |null               |null              |1           |апостол                                                                               |2008.0|Военные,Боевики,Наши                                 |null     |\n",
      "|495    |null      |1970-01-01T00:00:00Z       |2099-12-31T21:00:00Z      |null               |null              |1           |железный рыцарь                                                                       |2010.0|Приключения,Исторические,Мелодрамы,Боевики,Зарубежные|null     |\n",
      "|505    |null      |1970-01-01T00:00:00Z       |2099-12-31T21:00:00Z      |null               |null              |1           |че: часть первая. аргентинец                                                          |2008.0|Военные,Драмы,Исторические,Зарубежные                |null     |\n",
      "|540    |null      |1970-01-01T00:00:00Z       |2099-12-31T21:00:00Z      |null               |null              |1           |мой парень – псих                                                                     |2012.0|Комедии,Драмы,Мелодрамы,Зарубежные                   |null     |\n",
      "|546    |null      |1970-01-01T00:00:00Z       |2099-12-31T21:00:00Z      |null               |null              |1           |жизнь                                                                                 |2011.0|Семейные,Документальные,Зарубежные                   |null     |\n",
      "|578    |null      |1970-01-01T00:00:00Z       |2099-12-31T21:00:00Z      |null               |null              |1           |каньоны                                                                               |2013.0|Триллеры,Драмы,Зарубежные                            |null     |\n",
      "|592    |null      |1970-01-01T00:00:00Z       |2099-12-31T21:00:00Z      |null               |null              |1           |синистер                                                                              |2012.0|Ужасы,Детективы,Триллеры,Зарубежные                  |null     |\n",
      "|595    |null      |1970-01-01T00:00:00Z       |2099-12-31T21:00:00Z      |null               |null              |1           |адский бункер: черное солнце                                                          |2012.0|Ужасы,Боевики,Зарубежные                             |null     |\n",
      "|601    |null      |1970-01-01T00:00:00Z       |2099-12-31T21:00:00Z      |null               |null              |1           |суперцифры                                                                            |2006.0|Зарубежные                                           |null     |\n",
      "|678    |null      |1970-01-01T00:00:00Z       |2099-12-31T21:00:00Z      |null               |null              |1           |законопослушный гражданин                                                             |2009.0|Триллеры,Драмы,Криминал,Зарубежные                   |null     |\n",
      "|683    |null      |1970-01-01T00:00:00Z       |2099-12-31T21:00:00Z      |null               |null              |1           |большой солдат                                                                        |2010.0|Приключения,Комедии,Боевики,Зарубежные               |null     |\n",
      "|691    |null      |1970-01-01T00:00:00Z       |2099-12-31T21:00:00Z      |null               |null              |1           |доктор айболит                                                                        |1984.0|Мультфильмы,Мультсериалы,Детские,Наши                |null     |\n",
      "|696    |null      |1970-01-01T00:00:00Z       |2099-12-31T21:00:00Z      |null               |null              |1           |одержимость майкла кинга                                                              |2014.0|Ужасы,Зарубежные                                     |null     |\n",
      "|728    |null      |1970-01-01T00:00:00Z       |2099-12-31T21:00:00Z      |null               |null              |1           |врумиз                                                                                |2012.0|Приключения,Мультсериалы,Детские,Зарубежные          |null     |\n",
      "|751    |null      |1970-01-01T00:00:00Z       |2099-12-31T21:00:00Z      |null               |null              |1           |ёлки                                                                                  |2010.0|Комедии,Наши                                         |null     |\n",
      "|752    |null      |1970-01-01T00:00:00Z       |2099-12-31T21:00:00Z      |null               |null              |1           |аэротачки                                                                             |2012.0|Мультфильмы,Полнометражные,Детские,Зарубежные        |null     |\n",
      "|754    |null      |1970-01-01T00:00:00Z       |2099-12-31T21:00:00Z      |null               |null              |1           |подстава                                                                              |2011.0|Драмы,Боевики,Криминал,Зарубежные                    |null     |\n",
      "|763    |null      |1970-01-01T00:00:00Z       |2099-12-31T21:00:00Z      |null               |null              |1           |братва из джунглей                                                                    |2012.0|Мультфильмы,Полнометражные,Детские,Зарубежные        |null     |\n",
      "|781    |null      |1970-01-01T00:00:00Z       |2099-12-31T21:00:00Z      |null               |null              |1           |мажор                                                                                 |2014.0|Драмы,Криминал,Наши                                  |null     |\n",
      "|782    |null      |1970-01-01T00:00:00Z       |2099-12-31T21:00:00Z      |null               |null              |1           |аполлон 18                                                                            |2011.0|Ужасы,Триллеры,Фантастика,Зарубежные                 |null     |\n",
      "|786    |null      |1970-01-01T00:00:00Z       |2099-12-31T21:00:00Z      |null               |null              |1           |ёлки 2                                                                                |2011.0|Семейные,Комедии,Мелодрамы,Наши                      |null     |\n",
      "|795    |null      |1970-01-01T00:00:00Z       |2099-12-31T21:00:00Z      |null               |null              |1           |неудержимые 3                                                                         |2014.0|Приключения,Триллеры,Боевики,Зарубежные              |null     |\n",
      "|802    |null      |1970-01-01T00:00:00Z       |2099-12-31T21:00:00Z      |null               |null              |1           |во имя короля: история осады подземелья                                               |2006.0|Приключения,Драмы,Фантастика,Боевики,Зарубежные      |null     |\n",
      "|861    |null      |1970-01-01T00:00:00Z       |2099-12-31T21:00:00Z      |null               |null              |1           |небесный форсаж                                                                       |2009.0|Триллеры,Боевики,Криминал,Зарубежные                 |null     |\n",
      "+-------+----------+---------------------------+--------------------------+-------------------+------------------+------------+--------------------------------------------------------------------------------------+------+-----------------------------------------------------+---------+\n",
      "only showing top 40 rows\n",
      "\n"
     ]
    }
   ],
   "source": [
    "spark.read \\\n",
    "     .format(\"csv\") \\\n",
    "     .option(\"sep\", \"\\t\") \\\n",
    "     .option(\"header\", True) \\\n",
    "     .load(\"/labs/slaba03/laba03_items.csv\").show(40, vertical=False, truncate=False)"
   ]
  },
  {
   "cell_type": "code",
   "execution_count": 38,
   "metadata": {},
   "outputs": [
    {
     "name": "stdout",
     "output_type": "stream",
     "text": [
      "root\n",
      " |-- item_id: integer (nullable = true)\n",
      " |-- channel_id: double (nullable = true)\n",
      " |-- datetime_availability_start: timestamp (nullable = true)\n",
      " |-- datetime_availability_stop: timestamp (nullable = true)\n",
      " |-- datetime_show_start: timestamp (nullable = true)\n",
      " |-- datetime_show_stop: timestamp (nullable = true)\n",
      " |-- content_type: integer (nullable = true)\n",
      " |-- title: string (nullable = true)\n",
      " |-- year: double (nullable = true)\n",
      " |-- genres: string (nullable = true)\n",
      " |-- region_id: double (nullable = true)\n",
      "\n"
     ]
    }
   ],
   "source": [
    "items = spark.read.csv(\"/labs/slaba03/laba03_items.csv\", sep=\"\\t\",header=True,  inferSchema=\"true\").cache()\n",
    "items.printSchema()"
   ]
  },
  {
   "cell_type": "code",
   "execution_count": 43,
   "metadata": {},
   "outputs": [
    {
     "name": "stdout",
     "output_type": "stream",
     "text": [
      "root\n",
      " |-- user_id: integer (nullable = true)\n",
      " |-- item_id: integer (nullable = true)\n",
      " |-- purchase: string (nullable = true)\n",
      "\n"
     ]
    }
   ],
   "source": [
    "test = spark.read.csv(\"/labs/slaba03/laba03_test.csv\", sep=\",\",header=True, inferSchema=\"true\").cache()\n",
    "test.printSchema()\n",
    "test.show(10)"
   ]
  },
  {
   "cell_type": "code",
   "execution_count": 45,
   "metadata": {},
   "outputs": [
    {
     "name": "stdout",
     "output_type": "stream",
     "text": [
      "root\n",
      " |-- user_id: integer (nullable = true)\n",
      " |-- item_id: integer (nullable = true)\n",
      " |-- purchase: integer (nullable = true)\n",
      "\n",
      "+-------+-------+--------+\n",
      "|user_id|item_id|purchase|\n",
      "+-------+-------+--------+\n",
      "|   1654|  74107|       0|\n",
      "|   1654|  89249|       0|\n",
      "|   1654|  99982|       0|\n",
      "|   1654|  89901|       0|\n",
      "|   1654| 100504|       0|\n",
      "|   1654|  66187|       0|\n",
      "|   1654|  84350|       0|\n",
      "|   1654|  92854|       0|\n",
      "|   1654|  72811|       0|\n",
      "|   1654|  86876|       0|\n",
      "+-------+-------+--------+\n",
      "only showing top 10 rows\n",
      "\n"
     ]
    }
   ],
   "source": [
    "train = spark.read.csv(\"/labs/slaba03/laba03_train.csv\", sep=\",\",header=True, inferSchema=\"true\").cache()\n",
    "train = train.na.fill(-1)\n",
    "train.printSchema()\n",
    "train.show(10)"
   ]
  },
  {
   "cell_type": "code",
   "execution_count": 47,
   "metadata": {},
   "outputs": [
    {
     "name": "stdout",
     "output_type": "stream",
     "text": [
      "root\n",
      " |-- user_id: integer (nullable = true)\n",
      " |-- item_id: integer (nullable = true)\n",
      " |-- ts_start: integer (nullable = true)\n",
      " |-- ts_end: integer (nullable = true)\n",
      " |-- item_type: string (nullable = true)\n",
      "\n",
      "+-------+-------+----------+----------+---------+\n",
      "|user_id|item_id|  ts_start|    ts_end|item_type|\n",
      "+-------+-------+----------+----------+---------+\n",
      "|      0|7101053|1491409931|1491411600|     live|\n",
      "|      0|7101054|1491412481|1491451571|     live|\n",
      "|      0|7101054|1491411640|1491412481|     live|\n",
      "|      0|6184414|1486191290|1486191640|     live|\n",
      "|    257|4436877|1490628499|1490630256|     live|\n",
      "|   1654|7489015|1493434801|1493435401|     live|\n",
      "|   1654|7489023|1493444101|1493445601|     live|\n",
      "|   1654|6617053|1489186156|1489200834|     live|\n",
      "|   1654|6438693|1487840070|1487840433|     live|\n",
      "|   1654|6526859|1488705452|1488706154|     live|\n",
      "+-------+-------+----------+----------+---------+\n",
      "only showing top 10 rows\n",
      "\n"
     ]
    }
   ],
   "source": [
    "%%time\n",
    "views = spark.read.csv(\"/labs/slaba03/laba03_views_programmes.csv\", sep=\",\",inferSchema=\"true\",header=True).cache()\n",
    "views = views.na.fill(-1)\n",
    "views.printSchema()\n",
    "views.show(10)\n"
   ]
  },
  {
   "cell_type": "code",
   "execution_count": 48,
   "metadata": {},
   "outputs": [
    {
     "name": "stdout",
     "output_type": "stream",
     "text": [
      "+-------+---------------+-----+\n",
      "|user_id|sum(time_spend)|count|\n",
      "+-------+---------------+-----+\n",
      "| 561425|          37699|    5|\n",
      "| 612390|           4406|    1|\n",
      "| 612597|         687126|  132|\n",
      "| 632436|        2383871|  464|\n",
      "| 701909|         843853|  165|\n",
      "| 730383|         489816|  282|\n",
      "| 738276|        1581380|  202|\n",
      "| 741712|         660541|   51|\n",
      "| 745576|           9956|    9|\n",
      "| 747718|         169489|    5|\n",
      "+-------+---------------+-----+\n",
      "only showing top 10 rows\n",
      "\n"
     ]
    }
   ],
   "source": [
    "views = views.withColumn(\"time_spend\", col(\"ts_end\") - col(\"ts_start\"))\n",
    "v_time_spend = views.groupBy('user_id').sum('time_spend')\n",
    "v_count = views.groupBy('user_id').count()\n",
    "views = v_time_spend.join(v_count, on=\"user_id\", how=\"inner\" )\n",
    "views.show(10)"
   ]
  },
  {
   "cell_type": "markdown",
   "metadata": {},
   "source": [
    "## Предобработка данных"
   ]
  },
  {
   "cell_type": "code",
   "execution_count": 49,
   "metadata": {},
   "outputs": [],
   "source": [
    "%%time\n",
    "train_avg_purchase = train.groupBy('user_id').sum('purchase')\n",
    "train_avg_item = train.groupBy('item_id').sum('purchase')\n",
    "\n",
    "mod_train = train.join(train_avg_purchase, on=\"user_id\", how=\"left\")\n",
    "mod_train = mod_train.withColumnRenamed(\"sum(purchase)\", \"sum_user\")\n",
    "mod_train = mod_train.join(train_avg_item, on=\"item_id\", how=\"left\")\n",
    "mod_train = mod_train.withColumnRenamed(\"sum(purchase)\", \"sum_item\")\n",
    "\n",
    "mod_train = mod_train.join(views, on=\"user_id\", how=\"left\")\n",
    "mod_train = mod_train.withColumnRenamed(\"sum(time_spend)\", \"time_spend\")\n",
    "\n",
    "mod_train = mod_train.na.fill(0.5)"
   ]
  },
  {
   "cell_type": "code",
   "execution_count": 50,
   "metadata": {},
   "outputs": [
    {
     "name": "stdout",
     "output_type": "stream",
     "text": [
      "+-------+-------+--------+--------+--------+----------+-----+\n",
      "|user_id|item_id|purchase|sum_user|sum_item|time_spend|count|\n",
      "+-------+-------+--------+--------+--------+----------+-----+\n",
      "| 754230|  77748|       0|      72|       1|   2256455| 1164|\n",
      "| 754230|  89249|       0|      72|       2|   2256455| 1164|\n",
      "| 754230|  77917|       0|      72|       4|   2256455| 1164|\n",
      "| 754230|   7773|       0|      72|       2|   2256455| 1164|\n",
      "| 754230|  79875|       0|      72|       5|   2256455| 1164|\n",
      "| 754230|  99703|       0|      72|       1|   2256455| 1164|\n",
      "| 754230|  91958|       0|      72|       1|   2256455| 1164|\n",
      "| 754230|  74423|       0|      72|       3|   2256455| 1164|\n",
      "| 754230|  98670|       0|      72|       2|   2256455| 1164|\n",
      "| 754230|  95773|       0|      72|       1|   2256455| 1164|\n",
      "| 754230|  75005|       0|      72|       5|   2256455| 1164|\n",
      "| 754230|  99698|       0|      72|       1|   2256455| 1164|\n",
      "| 754230|  79413|       0|      72|      23|   2256455| 1164|\n",
      "| 754230|  73206|       0|      72|       2|   2256455| 1164|\n",
      "| 754230|  87523|       0|      72|       2|   2256455| 1164|\n",
      "| 754230|   5170|       0|      72|       2|   2256455| 1164|\n",
      "| 754230| 100667|       0|      72|       1|   2256455| 1164|\n",
      "| 754230|  88667|       0|      72|       1|   2256455| 1164|\n",
      "| 754230|  88970|       0|      72|      17|   2256455| 1164|\n",
      "| 754230|  92657|       0|      72|       1|   2256455| 1164|\n",
      "| 754230|  11038|       0|      72|      10|   2256455| 1164|\n",
      "| 754230|  73333|       0|      72|       2|   2256455| 1164|\n",
      "| 754230|  88647|       0|      72|       1|   2256455| 1164|\n",
      "| 754230|  91988|       0|      72|       1|   2256455| 1164|\n",
      "| 754230|  94797|       0|      72|       1|   2256455| 1164|\n",
      "| 754230|  78265|       0|      72|       3|   2256455| 1164|\n",
      "| 754230|  77583|       0|      72|       4|   2256455| 1164|\n",
      "| 754230|  72718|       0|      72|       1|   2256455| 1164|\n",
      "| 754230|  80900|       0|      72|       3|   2256455| 1164|\n",
      "| 754230|  95233|       0|      72|       1|   2256455| 1164|\n",
      "+-------+-------+--------+--------+--------+----------+-----+\n",
      "only showing top 30 rows\n",
      "\n",
      "CPU times: user 3.24 ms, sys: 1 ms, total: 4.25 ms\n",
      "Wall time: 12.9 s\n"
     ]
    }
   ],
   "source": [
    "%%time\n",
    "mod_train.show(30)"
   ]
  },
  {
   "cell_type": "code",
   "execution_count": 51,
   "metadata": {},
   "outputs": [
    {
     "name": "stdout",
     "output_type": "stream",
     "text": [
      "CPU times: user 3.68 ms, sys: 0 ns, total: 3.68 ms\n",
      "Wall time: 57.9 ms\n"
     ]
    }
   ],
   "source": [
    "%%time\n",
    "mod_test = test.join(train_avg_purchase, on=\"user_id\", how=\"left\")\n",
    "mod_test = mod_test.withColumnRenamed(\"sum(purchase)\", \"sum_user\")\n",
    "\n",
    "mod_test = mod_test.join(train_avg_item, on=\"item_id\", how=\"left\")\n",
    "mod_test = mod_test.withColumnRenamed(\"sum(purchase)\", \"sum_item\")\n",
    "\n",
    "mod_test = mod_test.join(views, on=\"user_id\", how=\"left\")\n",
    "mod_test = mod_test.withColumnRenamed(\"sum(time_spend)\", \"time_spend\")\n",
    "\n",
    "mod_test = mod_test.na.fill(0.5)"
   ]
  },
  {
   "cell_type": "markdown",
   "metadata": {},
   "source": [
    "# Модель"
   ]
  },
  {
   "cell_type": "code",
   "execution_count": 52,
   "metadata": {},
   "outputs": [
    {
     "name": "stdout",
     "output_type": "stream",
     "text": [
      "CPU times: user 10.5 ms, sys: 0 ns, total: 10.5 ms\n",
      "Wall time: 104 ms\n"
     ]
    }
   ],
   "source": [
    "%%time\n",
    "ignore = ['purchase', 'item_id','user_id']\n",
    "assembler = VectorAssembler(\n",
    "    inputCols=[x for x in mod_train.columns if x not in ignore],\n",
    "    outputCol='features')\n",
    "\n",
    "train_ = (assembler.transform(mod_train).select(\"purchase\", \"features\"))\n",
    "test_ = (assembler.transform(mod_test).select('features','item_id','user_id'))"
   ]
  },
  {
   "cell_type": "code",
   "execution_count": 53,
   "metadata": {},
   "outputs": [
    {
     "name": "stdout",
     "output_type": "stream",
     "text": [
      "+--------+--------------------+\n",
      "|purchase|            features|\n",
      "+--------+--------------------+\n",
      "|       0|[72.0,8.0,2256455...|\n",
      "|       1|[72.0,2.0,2256455...|\n",
      "|       0|[72.0,1.0,2256455...|\n",
      "|       0|[72.0,1.0,2256455...|\n",
      "|       0|[72.0,1.0,2256455...|\n",
      "|       0|[72.0,1.0,2256455...|\n",
      "|       0|[72.0,2.0,2256455...|\n",
      "|       0|[72.0,3.0,2256455...|\n",
      "|       0|[72.0,1.0,2256455...|\n",
      "|       0|[72.0,0.0,2256455...|\n",
      "+--------+--------------------+\n",
      "only showing top 10 rows\n",
      "\n",
      "CPU times: user 6.9 ms, sys: 1.09 ms, total: 7.99 ms\n",
      "Wall time: 29.1 s\n"
     ]
    }
   ],
   "source": [
    "%%time\n",
    "train_.show(10)"
   ]
  },
  {
   "cell_type": "code",
   "execution_count": 54,
   "metadata": {},
   "outputs": [
    {
     "name": "stdout",
     "output_type": "stream",
     "text": [
      "+--------------------+-------+-------+\n",
      "|            features|item_id|user_id|\n",
      "+--------------------+-------+-------+\n",
      "|[72.0,1.0,2256455...|  73041| 754230|\n",
      "|[72.0,5.0,2256455...|  74440| 754230|\n",
      "|[72.0,2.0,2256455...|  74452| 754230|\n",
      "|[72.0,1.0,2256455...|  93131| 754230|\n",
      "|[72.0,3.0,2256455...|  93633| 754230|\n",
      "|[72.0,2.0,2256455...|  95151| 754230|\n",
      "|[72.0,6.0,2256455...|  10788| 754230|\n",
      "|[72.0,2.0,2256455...|  11520| 754230|\n",
      "|[72.0,3.0,2256455...|  73185| 754230|\n",
      "|[72.0,7.0,2256455...|  87168| 754230|\n",
      "+--------------------+-------+-------+\n",
      "only showing top 10 rows\n",
      "\n",
      "CPU times: user 4.96 ms, sys: 3.16 ms, total: 8.12 ms\n",
      "Wall time: 27.4 s\n"
     ]
    }
   ],
   "source": [
    "%%time\n",
    "test_.show(10)"
   ]
  },
  {
   "cell_type": "code",
   "execution_count": 55,
   "metadata": {},
   "outputs": [],
   "source": [
    "%%time\n",
    "rf_regressor = RandomForestRegressor(labelCol='purchase', numTrees=50, maxDepth=5).fit(train_)"
   ]
  },
  {
   "cell_type": "code",
   "execution_count": 56,
   "metadata": {},
   "outputs": [
    {
     "data": {
      "text/plain": [
       "SparseVector(4, {0: 0.43, 1: 0.4833, 2: 0.0421, 3: 0.0446})"
      ]
     },
     "execution_count": 56,
     "metadata": {},
     "output_type": "execute_result"
    }
   ],
   "source": [
    "rf_regressor.featureImportances"
   ]
  },
  {
   "cell_type": "code",
   "execution_count": 57,
   "metadata": {},
   "outputs": [],
   "source": [
    "rf_predictions=rf_regressor.transform(test_)\n"
   ]
  },
  {
   "cell_type": "code",
   "execution_count": 58,
   "metadata": {
    "scrolled": true
   },
   "outputs": [
    {
     "name": "stdout",
     "output_type": "stream",
     "text": [
      "+--------------------+-------+-------+--------------------+\n",
      "|            features|item_id|user_id|          prediction|\n",
      "+--------------------+-------+-------+--------------------+\n",
      "|[72.0,3.0,2256455...|  93486| 754230|0.020759866897381577|\n",
      "|[72.0,1.0,2256455...|  94819| 754230|0.009885425471353444|\n",
      "|[72.0,6.0,2256455...|  10788| 754230| 0.03782379359046834|\n",
      "|[72.0,2.0,2256455...|  11520| 754230|0.014000425464224833|\n",
      "|[72.0,3.0,2256455...|  73185| 754230|0.020759866897381577|\n",
      "|[72.0,7.0,2256455...|  87168| 754230| 0.05122601759598174|\n",
      "|[72.0,1.0,2256455...|  93556| 754230|0.009885425471353444|\n",
      "|[72.0,0.0,2256455...|  95526| 754230|0.008465410667532291|\n",
      "|[72.0,3.0,2256455...|  67107| 754230|0.020759866897381577|\n",
      "|[72.0,3.0,2256455...|  73311| 754230|0.020759866897381577|\n",
      "+--------------------+-------+-------+--------------------+\n",
      "only showing top 10 rows\n",
      "\n"
     ]
    }
   ],
   "source": [
    "%%time\n",
    "rf_predictions.show(10)"
   ]
  },
  {
   "cell_type": "code",
   "execution_count": 59,
   "metadata": {},
   "outputs": [],
   "source": [
    "rf_predictions = rf_predictions.withColumnRenamed(\"prediction\", \"purchase\")"
   ]
  },
  {
   "cell_type": "code",
   "execution_count": 60,
   "metadata": {},
   "outputs": [],
   "source": [
    "rf_predictions = rf_predictions.na.fill(0.5)"
   ]
  },
  {
   "cell_type": "code",
   "execution_count": 61,
   "metadata": {},
   "outputs": [
    {
     "name": "stdout",
     "output_type": "stream",
     "text": [
      "+-------+-------+--------------------+\n",
      "|user_id|item_id|            purchase|\n",
      "+-------+-------+--------------------+\n",
      "| 754230|  11025|0.008465410667532291|\n",
      "| 754230|  72912|0.008465410667532291|\n",
      "| 754230|  86406|0.008465410667532291|\n",
      "| 754230|  88999| 0.03782379359046834|\n",
      "| 754230|  93487| 0.02222772517609979|\n",
      "| 754230|  10257|0.020759866897381577|\n",
      "| 754230|  10264|0.008465410667532291|\n",
      "| 754230|  92855|0.009885425471353444|\n",
      "| 754230|  94820|0.014000425464224833|\n",
      "| 754230|  95751|0.009885425471353444|\n",
      "| 754230|  98147|0.008465410667532291|\n",
      "| 754230|  10128| 0.03782379359046834|\n",
      "| 754230|  73421|0.008465410667532291|\n",
      "| 754230|  74556|0.014000425464224833|\n",
      "| 754230|  79417|0.009885425471353444|\n",
      "| 754230|  92740|0.008465410667532291|\n",
      "| 754230|  93020|0.008465410667532291|\n",
      "| 754230|  94243|0.014000425464224833|\n",
      "| 754230|  94910|0.014000425464224833|\n",
      "| 754230|   4782|0.009885425471353444|\n",
      "+-------+-------+--------------------+\n",
      "only showing top 20 rows\n",
      "\n"
     ]
    }
   ],
   "source": [
    "%%time\n",
    "rf_predictions.select(\"user_id\",\"item_id\",\"purchase\").show(10)"
   ]
  },
  {
   "cell_type": "code",
   "execution_count": 62,
   "metadata": {},
   "outputs": [],
   "source": [
    "cols = ['user_id','item_id']\n",
    "rf_predictions = rf_predictions.orderBy(cols,ascending=True)"
   ]
  },
  {
   "cell_type": "code",
   "execution_count": 63,
   "metadata": {},
   "outputs": [
    {
     "name": "stdout",
     "output_type": "stream",
     "text": [
      "+-------+-------+--------------------+\n",
      "|user_id|item_id|            purchase|\n",
      "+-------+-------+--------------------+\n",
      "|   1654|    336|6.153590400224896E-4|\n",
      "|   1654|    678|6.153590400224896E-4|\n",
      "|   1654|    691|6.153590400224896E-4|\n",
      "|   1654|    696|6.792772889960508E-4|\n",
      "|   1654|    763|6.306601439152282E-4|\n",
      "|   1654|    795|0.003518868826408...|\n",
      "|   1654|    861|6.306601439152282E-4|\n",
      "|   1654|   1137|8.863862399642905E-4|\n",
      "|   1654|   1159|6.792772889960508E-4|\n",
      "|   1654|   1428|6.306601439152282E-4|\n",
      "+-------+-------+--------------------+\n",
      "only showing top 10 rows\n",
      "\n",
      "CPU times: user 3.07 ms, sys: 6.52 ms, total: 9.58 ms\n",
      "Wall time: 34.8 s\n"
     ]
    }
   ],
   "source": [
    "%%time\n",
    "rf_predictions.select(\"user_id\",\"item_id\",\"purchase\").show(10)"
   ]
  },
  {
   "cell_type": "code",
   "execution_count": 64,
   "metadata": {},
   "outputs": [
    {
     "name": "stdout",
     "output_type": "stream",
     "text": [
      "CPU times: user 31.3 s, sys: 806 ms, total: 32.1 s\n",
      "Wall time: 54.7 s\n"
     ]
    }
   ],
   "source": [
    "%%time\n",
    "rf_predictions.select(\"user_id\",\"item_id\",\"purchase\").toPandas().to_csv(\"lab03.csv\",header = True)"
   ]
  },
  {
   "cell_type": "code",
   "execution_count": 33,
   "metadata": {},
   "outputs": [],
   "source": [
    "sc.stop()"
   ]
  }
 ],
 "metadata": {
  "kernelspec": {
   "display_name": "Python 3",
   "language": "python",
   "name": "python3"
  },
  "language_info": {
   "codemirror_mode": {
    "name": "ipython",
    "version": 3
   },
   "file_extension": ".py",
   "mimetype": "text/x-python",
   "name": "python",
   "nbconvert_exporter": "python",
   "pygments_lexer": "ipython3",
   "version": "3.6.5"
  }
 },
 "nbformat": 4,
 "nbformat_minor": 2
}
