{
 "cells": [
  {
   "cell_type": "code",
   "execution_count": 2,
   "metadata": {},
   "outputs": [
    {
     "name": "stdout",
     "output_type": "stream",
     "text": [
      "Welcome to\n",
      "      ____              __\n",
      "     / __/__  ___ _____/ /__\n",
      "    _\\ \\/ _ \\/ _ `/ __/  '_/\n",
      "   /__ / .__/\\_,_/_/ /_/\\_\\   version 2.4.7\n",
      "      /_/\n",
      "\n",
      "Using Python version 3.6.5 (default, Apr 29 2018 16:14:56)\n",
      "SparkSession available as 'spark'.\n"
     ]
    }
   ],
   "source": [
    "######## INPUT PARAMETERS ###################\n",
    "film_id = '96'\n",
    "#############################################\n",
    "\n",
    "\n",
    "# запускаем Спарк \n",
    "\n",
    "import os\n",
    "import sys\n",
    "\n",
    "os.environ[\"PYSPARK_PYTHON\"]='/opt/anaconda/envs/bd9/bin/python'\n",
    "os.environ[\"SPARK_HOME\"]='/usr/hdp/current/spark2-client'\n",
    "os.environ[\"PYSPARK_SUBMIT_ARGS\"]='--num-executors 2 pyspark-shell'\n",
    "\n",
    "spark_home = os.environ.get('SPARK_HOME', None)\n",
    "if not spark_home:\n",
    "    raise ValueError('SPARK_HOME environment variable is not set')\n",
    "    \n",
    "sys.path.insert(0, os.path.join(spark_home, 'python'))\n",
    "sys.path.insert(0, os.path.join(spark_home, 'python/lib/py4j-0.10.7-src.zip'))\n",
    "exec(open(os.path.join(spark_home, 'python/pyspark/shell.py')).read())"
   ]
  },
  {
   "cell_type": "code",
   "execution_count": 3,
   "metadata": {},
   "outputs": [
    {
     "data": {
      "text/html": [
       "\n",
       "            <div>\n",
       "                <p><b>SparkSession - hive</b></p>\n",
       "                \n",
       "        <div>\n",
       "            <p><b>SparkContext</b></p>\n",
       "\n",
       "            <p><a href=\"http://spark-master-4.newprolab.com:4047\">Spark UI</a></p>\n",
       "\n",
       "            <dl>\n",
       "              <dt>Version</dt>\n",
       "                <dd><code>v2.4.7</code></dd>\n",
       "              <dt>Master</dt>\n",
       "                <dd><code>yarn</code></dd>\n",
       "              <dt>AppName</dt>\n",
       "                <dd><code>pyspark-shell</code></dd>\n",
       "            </dl>\n",
       "        </div>\n",
       "        \n",
       "            </div>\n",
       "        "
      ],
      "text/plain": [
       "<pyspark.sql.session.SparkSession at 0x7f61d86676d8>"
      ]
     },
     "execution_count": 3,
     "metadata": {},
     "output_type": "execute_result"
    }
   ],
   "source": [
    "spark"
   ]
  },
  {
   "cell_type": "code",
   "execution_count": 4,
   "metadata": {},
   "outputs": [
    {
     "data": {
      "text/html": [
       "\n",
       "        <div>\n",
       "            <p><b>SparkContext</b></p>\n",
       "\n",
       "            <p><a href=\"http://spark-master-4.newprolab.com:4047\">Spark UI</a></p>\n",
       "\n",
       "            <dl>\n",
       "              <dt>Version</dt>\n",
       "                <dd><code>v2.4.7</code></dd>\n",
       "              <dt>Master</dt>\n",
       "                <dd><code>yarn</code></dd>\n",
       "              <dt>AppName</dt>\n",
       "                <dd><code>pyspark-shell</code></dd>\n",
       "            </dl>\n",
       "        </div>\n",
       "        "
      ],
      "text/plain": [
       "<SparkContext master=yarn appName=pyspark-shell>"
      ]
     },
     "execution_count": 4,
     "metadata": {},
     "output_type": "execute_result"
    }
   ],
   "source": [
    "sc"
   ]
  },
  {
   "cell_type": "code",
   "execution_count": 5,
   "metadata": {
    "scrolled": true
   },
   "outputs": [
    {
     "name": "stdout",
     "output_type": "stream",
     "text": [
      "196\t242\t3\t881250949\r\n",
      "186\t302\t3\t891717742\r\n",
      "22\t377\t1\t878887116\r\n",
      "244\t51\t2\t880606923\r\n",
      "166\t346\t1\t886397596\r\n",
      "298\t474\t4\t884182806\r\n",
      "115\t265\t2\t881171488\r\n",
      "253\t465\t5\t891628467\r\n",
      "305\t451\t3\t886324817\r\n",
      "6\t86\t3\t883603013\r\n",
      "62\t257\t2\t879372434\r\n",
      "286\t1014\t5\t879781125\r\n",
      "200\t222\t5\t876042340\r\n",
      "210\t40\t3\t891035994\r\n",
      "224\t29\t3\t888104457\r\n",
      "303\t785\t3\t879485318\r\n",
      "122\t387\t5\t879270459\r\n",
      "194\t274\t2\t879539794\r\n",
      "291\t1042\t4\t874834944\r\n",
      "234\t1184\t2\t892079237\r\n",
      "119\t392\t4\t886176814\r\n",
      "167\t486\t4\t892738452\r\n",
      "299\t144\t4\t877881320\r\n",
      "291\t118\t2\t874833878\r\n",
      "308\t1\t4\t887736532\r\n",
      "95\t546\t2\t879196566\r\n",
      "38\t95\t5\t892430094\r\n",
      "102\t768\t2\t883748450\r\n",
      "63\t277\t4\t875747401\r\n",
      "160\t234\t5\t876861185\r\n",
      "50\t246\t3\t877052329\r\n",
      "301\t98\t4\t882075827\r\n",
      "225\t193\t4\t879539727\r\n",
      "290\t88\t4\t880731963\r\n",
      "97\t194\t3\t884238860\r\n",
      "157\t274\t4\t886890835\r\n",
      "181\t1081\t1\t878962623\r\n",
      "278\t603\t5\t891295330\r\n",
      "276\t796\t1\t874791932\r\n",
      "7\t32\t4\t891350932\r\n",
      "10\t16\t4\t877888877\r\n",
      "284\t304\t4\t885329322\r\n",
      "201\t979\t2\t884114233\r\n",
      "276\t564\t3\t874791805\r\n",
      "287\t327\t5\t875333916\r\n",
      "246\t201\t5\t884921594\r\n",
      "242\t1137\t5\t879741196\r\n",
      "249\t241\t5\t879641194\r\n",
      "99\t4\t5\t886519097\r\n",
      "178\t332\t3\t882823437\r\n",
      "251\t100\t4\t886271884\r\n",
      "81\t432\t2\t876535131\r\n",
      "260\t32"
     ]
    }
   ],
   "source": [
    "# смотрим на данные\n",
    "!hdfs dfs -head  /labs/laba01/ml-100k/u.data\n",
    "# user id\titem id\trating\ttimestamp"
   ]
  },
  {
   "cell_type": "code",
   "execution_count": 6,
   "metadata": {},
   "outputs": [
    {
     "data": {
      "text/plain": [
       "[('3', '242'), ('3', '302'), ('1', '377'), ('2', '51'), ('1', '346')]"
      ]
     },
     "execution_count": 6,
     "metadata": {},
     "output_type": "execute_result"
    }
   ],
   "source": [
    "# читаем данные, сплитим по табу, отбираем нужное\n",
    "rdd = sc.textFile('/labs/laba01/ml-100k/u.data')\\\n",
    "        .map(lambda x: x.split('\\t'))\\\n",
    "        .map(lambda x: (x[2], x[1]))\n",
    "rdd.take(5)"
   ]
  },
  {
   "cell_type": "code",
   "execution_count": 7,
   "metadata": {},
   "outputs": [
    {
     "data": {
      "text/plain": [
       "[6, 20, 43, 123, 103]"
      ]
     },
     "execution_count": 7,
     "metadata": {},
     "output_type": "execute_result"
    }
   ],
   "source": [
    "# фильтруем, считаем количество оценок, сортируем\n",
    "hist_film = list(dict(sorted(rdd.filter(lambda x: x[1] == film_id).countByKey().items())).values())\n",
    "hist_film"
   ]
  },
  {
   "cell_type": "code",
   "execution_count": 8,
   "metadata": {},
   "outputs": [
    {
     "data": {
      "text/plain": [
       "[6110, 11370, 27145, 34174, 21201]"
      ]
     },
     "execution_count": 8,
     "metadata": {},
     "output_type": "execute_result"
    }
   ],
   "source": [
    "# считаем количество оценок, сотрируем\n",
    "hist_all = list(dict(sorted(rdd.countByKey().items())).values())\n",
    "hist_all"
   ]
  },
  {
   "cell_type": "code",
   "execution_count": 10,
   "metadata": {},
   "outputs": [
    {
     "data": {
      "text/plain": [
       "{'hist_film': [6, 20, 43, 123, 103],\n",
       " 'hist_all': [6110, 11370, 27145, 34174, 21201]}"
      ]
     },
     "execution_count": 10,
     "metadata": {},
     "output_type": "execute_result"
    }
   ],
   "source": [
    "jsonka = {'hist_film':hist_film,'hist_all':hist_all}\n",
    "jsonka"
   ]
  },
  {
   "cell_type": "code",
   "execution_count": 11,
   "metadata": {},
   "outputs": [],
   "source": [
    "# записываем json в файл\n",
    "import json\n",
    "with open('lab01.json', 'w') as fp: \n",
    "    json.dump(jsonka, fp)"
   ]
  },
  {
   "cell_type": "code",
   "execution_count": 12,
   "metadata": {},
   "outputs": [
    {
     "name": "stdout",
     "output_type": "stream",
     "text": [
      "{\"hist_film\": [6, 20, 43, 123, 103], \"hist_all\": [6110, 11370, 27145, 34174, 21201]}"
     ]
    }
   ],
   "source": [
    "# смотрим что получилось\n",
    "! cat lab01.json"
   ]
  }
 ],
 "metadata": {
  "kernelspec": {
   "display_name": "Python 3",
   "language": "python",
   "name": "python3"
  },
  "language_info": {
   "codemirror_mode": {
    "name": "ipython",
    "version": 3
   },
   "file_extension": ".py",
   "mimetype": "text/x-python",
   "name": "python",
   "nbconvert_exporter": "python",
   "pygments_lexer": "ipython3",
   "version": "3.6.5"
  }
 },
 "nbformat": 4,
 "nbformat_minor": 2
}
