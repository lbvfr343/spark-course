{
 "cells": [
  {
   "cell_type": "markdown",
   "metadata": {},
   "source": [
    "#  Лаба 5. Прогнозирование оттока клиентов"
   ]
  },
  {
   "cell_type": "code",
   "execution_count": 1,
   "metadata": {},
   "outputs": [],
   "source": [
    "import org.apache.spark.sql.{DataFrame,Dataset,Column,Row}\n",
    "import org.apache.spark.sql.functions._\n",
    "import org.apache.spark.ml.feature.VectorAssembler\n",
    "import org.apache.spark.ml.regression.GBTRegressor\n",
    "import org.apache.spark.ml.evaluation.BinaryClassificationEvaluator\n",
    "import org.apache.spark.ml.Pipeline\n",
    "import sys.process._"
   ]
  },
  {
   "cell_type": "markdown",
   "metadata": {},
   "source": [
    "## Читаем данные"
   ]
  },
  {
   "cell_type": "code",
   "execution_count": 82,
   "metadata": {},
   "outputs": [
    {
     "name": "stdout",
     "output_type": "stream",
     "text": [
      "Found 2 items\n",
      "-rw-r--r--   3 hdfs hdfs     23.1 M 2022-01-06 18:46 /labs/slaba05/lab05_test.csv\n",
      "-rw-r--r--   3 hdfs hdfs      168 M 2022-01-06 18:46 /labs/slaba05/lab05_train.csv\n"
     ]
    },
    {
     "data": {
      "text/plain": [
       "warning: there was one feature warning; re-run with -feature for details\n"
      ]
     },
     "metadata": {},
     "output_type": "display_data"
    },
    {
     "data": {
      "text/plain": [
       "0"
      ]
     },
     "execution_count": 82,
     "metadata": {},
     "output_type": "execute_result"
    }
   ],
   "source": [
    "\"hdfs dfs -ls -h /labs/slaba05\" !"
   ]
  },
  {
   "cell_type": "code",
   "execution_count": 68,
   "metadata": {},
   "outputs": [
    {
     "data": {
      "text/plain": [
       "train_df = [_c0: int, ID: int ... 115 more fields]\n",
       "test_df = [_c0: int, ID: int ... 114 more fields]\n"
      ]
     },
     "metadata": {},
     "output_type": "display_data"
    },
    {
     "data": {
      "text/plain": [
       "[_c0: int, ID: int ... 114 more fields]"
      ]
     },
     "execution_count": 68,
     "metadata": {},
     "output_type": "execute_result"
    }
   ],
   "source": [
    "val train_df = spark.read\n",
    "    .options(Map(\"inferSchema\"->\"true\",\"header\"->\"true\"))\n",
    "    .csv(\"/labs/slaba05/lab05_train.csv\")\n",
    "\n",
    "val test_df = spark.read\n",
    "    .options(Map(\"inferSchema\"->\"true\",\"header\"->\"true\"))\n",
    "    .csv(\"/labs/slaba05/lab05_test.csv\")"
   ]
  },
  {
   "cell_type": "code",
   "execution_count": 69,
   "metadata": {},
   "outputs": [
    {
     "name": "stdout",
     "output_type": "stream",
     "text": [
      "+------+------+--------------+-------------------+------------------------+--------------------+-----------------+----------------+----------------------+-----------------------+-----------------------+-------------------+---------------------+-----------------------+-------------------+--------------+-----------------+--------------------+-----------------------+--------------+------------------+--------------------+---------------+------------------+-----------------------+---------------------------+----------------------+------------------+--------------------+-------------------+-------------------+-------------+-----------------------+-----------------------+-----------------+---------------+-------------------+---------------+---------------+----------------+-------+---------------+-----------------------+-----------------+-----------+-------------------+-------------------+-------------+---+-----------------------+--------------+-----------------------+--------------------+------------------+------------+-----------------------+---------------+--------------+----------------+---------------+-------------+---------------+-----------------------+-------------------+-------------+---------------+---------------+-------------+------------------------+-------------------+-----------------------+-----------------------+--------------------+-----------------------+------------------+-----------------------+-----------------------+----------------------+-----------------------+------------------------+-----------------------+---------------+-----------------------+---------------+-----------------------+--------------------+-----------------------+-----------------------+-----------------------+----+---------------+------------+------------------+-----------------------+------------------------+-----------------------+------------------------+-----------------+-----------------------+----------------+--------------------+----------------------+------------------+----------------------+----------------------+------------------------+--------------------------+------------------+----------------+----------------------+-----------------------+-----------------------+----------------------+---------------------+----------------------+-----------------------+------+\n",
      "|   _c0|    ID|CR_PROD_CNT_IL| AMOUNT_RUB_CLO_PRC|PRC_ACCEPTS_A_EMAIL_LINK|APP_REGISTR_RGN_CODE|PRC_ACCEPTS_A_POS|PRC_ACCEPTS_A_TK|TURNOVER_DYNAMIC_IL_1M|CNT_TRAN_AUT_TENDENCY1M|SUM_TRAN_AUT_TENDENCY1M| AMOUNT_RUB_SUP_PRC|PRC_ACCEPTS_A_AMOBILE|SUM_TRAN_AUT_TENDENCY3M|CLNT_TRUST_RELATION|PRC_ACCEPTS_TK|PRC_ACCEPTS_A_MTP|REST_DYNAMIC_FDEP_1M|CNT_TRAN_AUT_TENDENCY3M|CNT_ACCEPTS_TK|APP_MARITAL_STATUS|REST_DYNAMIC_SAVE_3M|CR_PROD_CNT_VCU|      REST_AVG_CUR|CNT_TRAN_MED_TENDENCY1M|APP_KIND_OF_PROP_HABITATION|CLNT_JOB_POSITION_TYPE|AMOUNT_RUB_NAS_PRC|   CLNT_JOB_POSITION|APP_DRIVING_LICENSE|TRANS_COUNT_SUP_PRC|APP_EDUCATION|CNT_TRAN_CLO_TENDENCY1M|SUM_TRAN_MED_TENDENCY1M|PRC_ACCEPTS_A_ATM|PRC_ACCEPTS_MTP|TRANS_COUNT_NAS_PRC|APP_TRAVEL_PASS|CNT_ACCEPTS_MTP|CR_PROD_CNT_TOVR|APP_CAR|CR_PROD_CNT_PIL|SUM_TRAN_CLO_TENDENCY1M|APP_POSITION_TYPE|TURNOVER_CC|TRANS_COUNT_ATM_PRC| AMOUNT_RUB_ATM_PRC|TURNOVER_PAYM|AGE|CNT_TRAN_MED_TENDENCY3M|CR_PROD_CNT_CC|SUM_TRAN_MED_TENDENCY3M|REST_DYNAMIC_FDEP_3M|REST_DYNAMIC_IL_1M|APP_EMP_TYPE|SUM_TRAN_CLO_TENDENCY3M|LDEAL_TENOR_MAX|LDEAL_YQZ_CHRG|CR_PROD_CNT_CCFP|DEAL_YQZ_IR_MAX|LDEAL_YQZ_COM|DEAL_YQZ_IR_MIN|CNT_TRAN_CLO_TENDENCY3M|REST_DYNAMIC_CUR_1M|REST_AVG_PAYM|LDEAL_TENOR_MIN|LDEAL_AMT_MONTH|APP_COMP_TYPE|LDEAL_GRACE_DAYS_PCT_MED|REST_DYNAMIC_CUR_3M|CNT_TRAN_SUP_TENDENCY3M|TURNOVER_DYNAMIC_CUR_1M|REST_DYNAMIC_PAYM_3M|SUM_TRAN_SUP_TENDENCY3M|REST_DYNAMIC_IL_3M|CNT_TRAN_ATM_TENDENCY3M|CNT_TRAN_ATM_TENDENCY1M|TURNOVER_DYNAMIC_IL_3M|SUM_TRAN_ATM_TENDENCY3M|DEAL_GRACE_DAYS_ACC_S1X1|AVG_PCT_MONTH_TO_PCLOSE|DEAL_YWZ_IR_MIN|SUM_TRAN_SUP_TENDENCY1M|DEAL_YWZ_IR_MAX|SUM_TRAN_ATM_TENDENCY1M|REST_DYNAMIC_PAYM_1M|CNT_TRAN_SUP_TENDENCY1M|DEAL_GRACE_DAYS_ACC_AVG|TURNOVER_DYNAMIC_CUR_3M|PACK|MAX_PCLOSE_DATE|LDEAL_YQZ_PC|  CLNT_SETUP_TENOR|DEAL_GRACE_DAYS_ACC_MAX|TURNOVER_DYNAMIC_PAYM_3M|LDEAL_DELINQ_PER_MAXYQZ|TURNOVER_DYNAMIC_PAYM_1M|CLNT_SALARY_VALUE|TRANS_AMOUNT_TENDENCY3M|MED_DEBT_PRC_YQZ|TRANS_CNT_TENDENCY3M|LDEAL_USED_AMT_AVG_YQZ|REST_DYNAMIC_CC_1M|LDEAL_USED_AMT_AVG_YWZ|TURNOVER_DYNAMIC_CC_1M|AVG_PCT_DEBT_TO_DEAL_AMT|LDEAL_ACT_DAYS_ACC_PCT_AVG|REST_DYNAMIC_CC_3M|MED_DEBT_PRC_YWZ|LDEAL_ACT_DAYS_PCT_TR3|LDEAL_ACT_DAYS_PCT_AAVG|LDEAL_DELINQ_PER_MAXYWZ|TURNOVER_DYNAMIC_CC_3M|LDEAL_ACT_DAYS_PCT_TR|LDEAL_ACT_DAYS_PCT_TR4|LDEAL_ACT_DAYS_PCT_CURR|TARGET|\n",
      "+------+------+--------------+-------------------+------------------------+--------------------+-----------------+----------------+----------------------+-----------------------+-----------------------+-------------------+---------------------+-----------------------+-------------------+--------------+-----------------+--------------------+-----------------------+--------------+------------------+--------------------+---------------+------------------+-----------------------+---------------------------+----------------------+------------------+--------------------+-------------------+-------------------+-------------+-----------------------+-----------------------+-----------------+---------------+-------------------+---------------+---------------+----------------+-------+---------------+-----------------------+-----------------+-----------+-------------------+-------------------+-------------+---+-----------------------+--------------+-----------------------+--------------------+------------------+------------+-----------------------+---------------+--------------+----------------+---------------+-------------+---------------+-----------------------+-------------------+-------------+---------------+---------------+-------------+------------------------+-------------------+-----------------------+-----------------------+--------------------+-----------------------+------------------+-----------------------+-----------------------+----------------------+-----------------------+------------------------+-----------------------+---------------+-----------------------+---------------+-----------------------+--------------------+-----------------------+-----------------------+-----------------------+----+---------------+------------+------------------+-----------------------+------------------------+-----------------------+------------------------+-----------------+-----------------------+----------------+--------------------+----------------------+------------------+----------------------+----------------------+------------------------+--------------------------+------------------+----------------+----------------------+-----------------------+-----------------------+----------------------+---------------------+----------------------+-----------------------+------+\n",
      "|333149|479990|             0|                0.0|                     0.0|                null|              0.0|             0.0|                   0.0|                   null|                   null|                0.0|                  0.0|                   null|               null|           0.0|              0.0|                 0.0|                   null|           0.0|              null|                 0.0|              0|  19069.6917166667|                   null|                       null|                  null|               0.0|                null|               null|                0.0|         null|                   null|                   null|              0.0|            0.0|                0.0|           null|            0.0|               1|   null|              0|                   null|             null|        0.0|  0.981818181818182| 0.9264718189135429|          0.0|324|                   null|             0|                   null|                 0.0|               0.0|        null|                   null|           null|          null|               0|           null|         null|           null|                   null|  0.139327197286461|          0.0|           null|           null|         null|                     0.0|0.24404241658152398|                   null|    0.14429972251526998|                 0.0|                   null|               0.0|      0.351851851851852|      0.166666666666667|                   0.0|      0.329320637235633|                     0.0|                   null|           45.0|                   null|           45.0|    0.16790105289165602|                 0.0|                   null|                    0.0|    0.30374965665416803| 102|           null|        null|  5.48000105784548|                    0.0|                     0.0|                   null|                     0.0|             null|      0.305106289785464|            null| 0.34545454545454496|                  null|               0.0|                   1.0|                   0.0|                    null|      0.003523608174770...|               0.0|             0.0|                   0.0|                    0.0|                    0.0|                   0.0|                  0.0|                   0.0|                    0.0|     0|\n",
      "|303639|450480|             0|                0.0|                     0.0|                null|              0.0|             0.0|                   0.0|                   null|                   null| 0.0271675019481959|                  0.0|                   null|               null|           0.0|              0.0|                 0.0|                   null|           0.0|              null|                 0.0|              0|  5951.20868333333|                   null|                       null|                  null|0.0487455178496337|       офис-менеджер|               null| 0.0303030303030303|         null|                   null|                   null|              0.0|            0.0| 0.0303030303030303|           null|            0.0|               1|   null|              0|                   null|             null|        0.0| 0.0909090909090909|  0.292473107097802|          0.0|360|                   null|             0|                   null|                 0.0|               0.0|        null|                   null|           null|          null|               0|           null|         null|           null|                   null|  0.163875925921502|          0.0|           null|           null|         null|                     0.0| 0.4652443081723449|                    1.0|      0.203483595055288|                 0.0|                    1.0|               0.0|    0.33333333333333304|    0.33333333333333304|                   0.0|    0.33333333333333304|                     0.0|                   null|           45.0|                   null|           45.0|    0.33333333333333304|                 0.0|                   null|                    0.0|      0.504160053455052| 102|           null|        null|  6.78645267074871|                    0.0|                     0.0|                   null|                     0.0|             null|    0.36879916391687795|            null| 0.45454545454545503|                  null|               0.0|                   1.0|                   0.0|                    null|       6.17665225447807E-4|               0.0|             0.0|                   0.0|                    0.0|                    0.0|                   0.0|                  0.0|                   0.0|                    0.0|     0|\n",
      "|327113|473954|             0|                0.0|                     0.0|                null|              0.0|             0.0|                   0.0|                   null|                   null|  0.114950710864578|                  0.0|                   null|               null|           0.0|              0.0|                 0.0|                   null|           0.0|              null|                 0.0|              0|3774.5829333333295|                   0.25|                       null|                  null| 0.004519078328552|         консультант|               null|0.36363636363636404|         null|                   null|    0.27948691322821995|              0.0|            0.0|  0.136363636363636|           null|            0.0|               1|   null|              0|                   null|             null|        0.0|  0.136363636363636| 0.5332512427691359|          0.0|600|                    1.0|             0|                    1.0|                 0.0|               0.0|        null|                   null|           null|          null|               0|           null|         null|           null|                   null| 0.0738865162745398|          0.0|           null|           null|         null|                     0.0|   0.49001828352109|                  0.375|     0.0902562080725851|                 0.0|    0.31734780687477504|               0.0|                   null|                   null|                   0.0|                   null|                     0.0|                   null|           45.0|                   null|           45.0|                   null|                 0.0|                   null|                    0.0|      0.351397609566599| 102|           null|        null|  8.52838815461967|                    0.0|                     0.0|                   null|                     0.0|             null|    0.35852153110350604|            null| 0.31818181818181795|                  null|               0.0|                   1.0|                   0.0|                    null|        0.0274841437632135|               0.0|             0.0|                   0.0|                    0.0|                    0.0|                   0.0|                  0.0|                   0.0|                    0.0|     0|\n",
      "|384197|531038|             0|                0.0|                    null|                null|             null|            null|                   0.0|                   null|                   null|                0.0|                 null|                   null|               null|          null|             null|                 0.0|                   null|          null|              null|                 0.0|              0|      148568.26385|                   null|                       null|                  null|               0.0|                null|               null|                0.0|         null|                   null|                   null|             null|           null|                0.0|           null|           null|               0|   null|              0|                   null|             null|        0.0|  0.666666666666667| 0.7610350076103499|          0.0|732|                   null|             0|                   null|                 0.0|               0.0|        null|                   null|           null|          null|               0|           null|         null|           null|                   null|0.16584691571956697|          0.0|           null|           null|         null|                     0.0|0.49754074715870095|                   null|                    0.0|                 0.0|                   null|               0.0|                   null|                   null|                   0.0|                   null|                    null|                   null|           null|                   null|           null|                   null|                 0.0|                   null|                   null|                    0.0| K01|           null|        null|3.2918290148347302|                   null|                     0.0|                   null|                     0.0|             null|                   null|            null|                null|                  null|               0.0|                  null|                   0.0|                    null|                      null|               0.0|            null|                  null|                   null|                   null|                   0.0|                 null|                  null|                   null|     0|\n",
      "|202462|349303|             0|                0.0|                     0.0|                null|              0.0|             0.0|                   0.0|                   null|                   null| 0.0115406434290436|                  0.0|                    1.0|               null|           0.0|              0.0|                 0.0|                    1.0|           0.0|              null|                 0.0|              0|        69233.3887|                   null|                       null|                  null|               0.0|           экономист|               null| 0.0833333333333333|         null|                   null|                   null|              0.0|            0.0|                0.0|           null|            0.0|               0|   null|              0|                   null|             null|        0.0|               0.25|0.48660788158802704|          0.0|480|                   null|             0|                   null|                 0.0|               0.0|        null|                   null|           null|          null|               0|           null|         null|           null|                   null| 0.0556026989137781|          0.0|           null|           null|         null|                     0.0|  0.247152582320443|                   null|       0.31627662462716|                 0.0|                   null|               0.0|      0.666666666666667|      0.666666666666667|                   0.0|      0.416697215262786|                    null|                   null|           null|                   null|           null|      0.416697215262786|                 0.0|                   null|                   null|      0.735125270155536| K01|           null|        null|  5.16021944071087|                   null|                     0.0|                   null|                     0.0|             null|      0.688108064798467|            null|                0.75|                  null|               0.0|                  null|                   0.0|                    null|                      null|               0.0|            null|                  null|                   null|                   null|                   0.0|                 null|                  null|                   null|     0|\n",
      "| 53398|200239|             0|                0.0|                    null|                null|             null|            null|                   0.0|                   null|                   null|                0.0|                 null|                   null|               null|          null|             null|                 0.0|                   null|          null|              null|                 0.0|              0|  218286.244083333|                   null|                       null|                  null|               0.0|                null|               null|                0.0|         null|                   null|                   null|             null|           null|                0.0|           null|           null|               0|   null|              0|                   null|             null|        0.0|                0.0|                0.0|          0.0|468|                   null|             0|                   null|                 0.0|               0.0|        null|                   null|           null|          null|               0|           null|         null|           null|                   null|  0.166293886508681|          0.0|           null|           null|         null|                     0.0|0.49921323393943295|                   null|     0.0593186613505132|                 0.0|                   null|               0.0|                   null|                   null|                   0.0|                   null|                    null|                   null|           null|                   null|           null|                   null|                 0.0|                   null|                   null|        0.2665585415118| 102|           null|        null|  7.57420568249701|                   null|                     0.0|                   null|                     0.0|             null|                   null|            null|                null|                  null|               0.0|                  null|                   0.0|                    null|                      null|               0.0|            null|                  null|                   null|                   null|                   0.0|                 null|                  null|                   null|     0|\n",
      "|251372|398213|             0| 0.0185846840812958|                     0.0|                null|              0.0|             0.0|                   0.0|                    0.5|      0.345763757929025|0.19187446301655603|                  0.0|                    1.0|               null|           0.0|              0.0|                 0.0|                    1.0|           0.0|              null|                 0.0|              0|  22457.3789833333|                   null|                       null|                  null|               0.0|Младший научный с...|               null|  0.577235772357724|         null|                    1.0|                   null|              0.0|            0.0|                0.0|           null|            0.0|               1|   null|              0|                    1.0|             null|        0.0| 0.0569105691056911|0.43167927578322707|          0.0|420|     0.7894736842105259|             0|      0.819603238273658|                 0.0|               0.0|        null|                    1.0|           null|          null|               0|           null|         null|           null|                    1.0|  0.101100342936354|          0.0|           null|           null|         null|                     0.0|  0.567836333859973|      0.788732394366197|      0.479581986878872|                 0.0|     0.7892873948561558|               0.0|    0.42857142857142894|    0.14285714285714302|                   0.0|      0.393177737881508|                     0.0|                   null|           45.0|    0.17096141612222399|           45.0|    0.34111310592459604|                 0.0|    0.22535211267605604|                    0.0|     0.6300663955071079| O01|           null|        null|  7.14677858049582|                    0.0|                     0.0|                   null|                     0.0|             null|      0.608377693481054|            null|  0.7642276422764229|                  null|               0.0|                   1.0|                   0.0|                    null|        0.0268691588785047|               0.0|             0.0|                   0.0|                    0.0|                    0.0|                   0.0|                  0.0|                   0.0|                    0.0|     0|\n",
      "| 71572|218413|             1| 0.0280635180135713|                    null|                77.0|             null|            null|                   0.0|    0.14285714285714302|    0.17954617962274802| 0.0502357143884446|                 null|      0.434405947674022|               null|          null|             null|                 0.0|    0.42857142857142894|          null|                 M|                 0.0|              0|        57464.6785|                   null|                       RENT|                  null|0.0239485439436568|            ДИРЕКТОР|                  Y|0.18348623853210996|           UH|                   null|                   null|             null|           null| 0.0963302752293578|              N|           null|               0|      N|              0|                   null|          MANAGER|        0.0|  0.169724770642202|  0.546032813004948|          0.0|564|                    0.5|             0|     0.6858598097995711|                 0.0|               0.0|     PRIVATE|                   null|           null|          null|               0|           null|         null|           null|                   null|0.14336989257380703|          0.0|           null|           null|      PRIVATE|                     0.0|  0.514339582531555|                  0.575|    0.10662958320607599|                 0.0|      0.507493161342134|               0.0|      0.621621621621622|    0.24324324324324303|                   0.0|       0.81161160945205|                    null|                   null|           null|    0.29514191783572197|           null|     0.0674188068843874|                 0.0|                  0.275|                   null|       0.57233729875817| O01|           null|        null|  3.65216267174432|                   null|                     0.0|                   null|                     0.0|             null|      0.657384303822736|            null|   0.509174311926606|                  null|               0.0|                  null|                   0.0|                    null|                      null|               0.0|            null|                  null|                   null|                   null|                   0.0|                 null|                  null|                   null|     0|\n",
      "|169965|316806|             3|                0.0|                     0.0|                null|              0.0|             0.0|                   0.0|                   null|                   null|                0.0|                  0.0|                   null|             FRIEND|           0.0|              0.0|                 0.0|                   null|           0.0|                 V| 0.48780033525796207|              1|  399.459183333333|                   null|                       null|               MANAGER|               0.0|          СПЕЦИАЛИСТ|               null|                0.0|            H|                   null|                   null|              0.0|            0.0|                0.0|           null|            0.0|               2|   null|              0|                   null|       SPECIALIST|        0.0|                1.0|                1.0|          0.0|408|                   null|             0|                   null|                 0.0|               0.0|     PRIVATE|                   null|            7.0|          null|               0|           32.0|         null|           32.0|                   null|  0.531075744868552|          0.0|            7.0|           null|      PRIVATE|                     0.0|  0.533095141844071|                   null|      0.781769771969606|                 0.0|                   null| 0.242648587579487|                    1.0|                    1.0|   0.00344269423210898|                    1.0|                    null|                   null|           45.0|                   null|           45.0|                    1.0|                 0.0|                   null|                   null|      0.781769771969606| K01|           null|        null|  9.94785384931302|                   null|                     0.0|                    0.0|                     0.0|             null|                    1.0|             1.0|                 1.0|     0.647832420091324|               0.0|                   1.0|                   0.0|                    null|                       0.0|               0.0|             0.0|                   0.0|                    0.0|                    0.0|                   0.0|                  0.0|                   0.0|                    0.0|     1|\n",
      "|257285|404126|             0|0.39559915051431893|                     0.0|                null|              0.0|             0.0|                   0.0|                    1.0|                    1.0| 0.0290181346045583|                  0.0|                    1.0|               null|           0.0|              0.0|                 0.0|                    1.0|           0.0|              null|                 0.0|              0|  1274583.63748333|                   null|                       null|                  null| 0.043594511591401|      глав.бухгалтер|               null| 0.0461538461538462|         null|     0.0740740740740741|                   null|              0.0|            0.0|0.16153846153846202|           null|            0.0|               0|   null|              0|      0.150264276289956|             null|        0.0| 0.0153846153846154|0.00347943574895113|          0.0|504|      0.545454545454545|             0|      0.219637505073497|                 0.0|               0.0|        null|       0.45599029848671|           null|          null|               0|           null|         null|           null|      0.555555555555556|  0.270296493682371|          0.0|           null|           null|         null|                     0.0|  0.654287385876554|      0.833333333333333|    0.46234225627319003|                 0.0|      0.793950284755726|               0.0|                    1.0|                   null|                   0.0|                    1.0|                    null|                   null|           null|     0.0542428783090438|           null|                   null|                 0.0|      0.166666666666667|                   null|     0.5838242749804179| K01|           null|        null|  10.3779613761947|                   null|                     0.0|                   null|                     0.0|             null|     0.6709755844340091|            null|   0.538461538461538|                  null|               0.0|                  null|                   0.0|                    null|                      null|               0.0|            null|                  null|                   null|                   null|                   0.0|                 null|                  null|                   null|     0|\n",
      "+------+------+--------------+-------------------+------------------------+--------------------+-----------------+----------------+----------------------+-----------------------+-----------------------+-------------------+---------------------+-----------------------+-------------------+--------------+-----------------+--------------------+-----------------------+--------------+------------------+--------------------+---------------+------------------+-----------------------+---------------------------+----------------------+------------------+--------------------+-------------------+-------------------+-------------+-----------------------+-----------------------+-----------------+---------------+-------------------+---------------+---------------+----------------+-------+---------------+-----------------------+-----------------+-----------+-------------------+-------------------+-------------+---+-----------------------+--------------+-----------------------+--------------------+------------------+------------+-----------------------+---------------+--------------+----------------+---------------+-------------+---------------+-----------------------+-------------------+-------------+---------------+---------------+-------------+------------------------+-------------------+-----------------------+-----------------------+--------------------+-----------------------+------------------+-----------------------+-----------------------+----------------------+-----------------------+------------------------+-----------------------+---------------+-----------------------+---------------+-----------------------+--------------------+-----------------------+-----------------------+-----------------------+----+---------------+------------+------------------+-----------------------+------------------------+-----------------------+------------------------+-----------------+-----------------------+----------------+--------------------+----------------------+------------------+----------------------+----------------------+------------------------+--------------------------+------------------+----------------+----------------------+-----------------------+-----------------------+----------------------+---------------------+----------------------+-----------------------+------+\n",
      "only showing top 10 rows\n",
      "\n"
     ]
    }
   ],
   "source": [
    "train_df.show(10)"
   ]
  },
  {
   "cell_type": "code",
   "execution_count": 70,
   "metadata": {},
   "outputs": [
    {
     "name": "stdout",
     "output_type": "stream",
     "text": [
      "root\n",
      " |-- _c0: integer (nullable = true)\n",
      " |-- ID: integer (nullable = true)\n",
      " |-- CR_PROD_CNT_IL: integer (nullable = true)\n",
      " |-- AMOUNT_RUB_CLO_PRC: double (nullable = true)\n",
      " |-- PRC_ACCEPTS_A_EMAIL_LINK: double (nullable = true)\n",
      " |-- APP_REGISTR_RGN_CODE: double (nullable = true)\n",
      " |-- PRC_ACCEPTS_A_POS: double (nullable = true)\n",
      " |-- PRC_ACCEPTS_A_TK: double (nullable = true)\n",
      " |-- TURNOVER_DYNAMIC_IL_1M: double (nullable = true)\n",
      " |-- CNT_TRAN_AUT_TENDENCY1M: double (nullable = true)\n",
      " |-- SUM_TRAN_AUT_TENDENCY1M: double (nullable = true)\n",
      " |-- AMOUNT_RUB_SUP_PRC: double (nullable = true)\n",
      " |-- PRC_ACCEPTS_A_AMOBILE: double (nullable = true)\n",
      " |-- SUM_TRAN_AUT_TENDENCY3M: double (nullable = true)\n",
      " |-- CLNT_TRUST_RELATION: string (nullable = true)\n",
      " |-- PRC_ACCEPTS_TK: double (nullable = true)\n",
      " |-- PRC_ACCEPTS_A_MTP: double (nullable = true)\n",
      " |-- REST_DYNAMIC_FDEP_1M: double (nullable = true)\n",
      " |-- CNT_TRAN_AUT_TENDENCY3M: double (nullable = true)\n",
      " |-- CNT_ACCEPTS_TK: double (nullable = true)\n",
      " |-- APP_MARITAL_STATUS: string (nullable = true)\n",
      " |-- REST_DYNAMIC_SAVE_3M: double (nullable = true)\n",
      " |-- CR_PROD_CNT_VCU: integer (nullable = true)\n",
      " |-- REST_AVG_CUR: double (nullable = true)\n",
      " |-- CNT_TRAN_MED_TENDENCY1M: double (nullable = true)\n",
      " |-- APP_KIND_OF_PROP_HABITATION: string (nullable = true)\n",
      " |-- CLNT_JOB_POSITION_TYPE: string (nullable = true)\n",
      " |-- AMOUNT_RUB_NAS_PRC: double (nullable = true)\n",
      " |-- CLNT_JOB_POSITION: string (nullable = true)\n",
      " |-- APP_DRIVING_LICENSE: string (nullable = true)\n",
      " |-- TRANS_COUNT_SUP_PRC: double (nullable = true)\n",
      " |-- APP_EDUCATION: string (nullable = true)\n",
      " |-- CNT_TRAN_CLO_TENDENCY1M: double (nullable = true)\n",
      " |-- SUM_TRAN_MED_TENDENCY1M: double (nullable = true)\n",
      " |-- PRC_ACCEPTS_A_ATM: double (nullable = true)\n",
      " |-- PRC_ACCEPTS_MTP: double (nullable = true)\n",
      " |-- TRANS_COUNT_NAS_PRC: double (nullable = true)\n",
      " |-- APP_TRAVEL_PASS: string (nullable = true)\n",
      " |-- CNT_ACCEPTS_MTP: double (nullable = true)\n",
      " |-- CR_PROD_CNT_TOVR: integer (nullable = true)\n",
      " |-- APP_CAR: string (nullable = true)\n",
      " |-- CR_PROD_CNT_PIL: integer (nullable = true)\n",
      " |-- SUM_TRAN_CLO_TENDENCY1M: double (nullable = true)\n",
      " |-- APP_POSITION_TYPE: string (nullable = true)\n",
      " |-- TURNOVER_CC: double (nullable = true)\n",
      " |-- TRANS_COUNT_ATM_PRC: double (nullable = true)\n",
      " |-- AMOUNT_RUB_ATM_PRC: double (nullable = true)\n",
      " |-- TURNOVER_PAYM: double (nullable = true)\n",
      " |-- AGE: integer (nullable = true)\n",
      " |-- CNT_TRAN_MED_TENDENCY3M: double (nullable = true)\n",
      " |-- CR_PROD_CNT_CC: integer (nullable = true)\n",
      " |-- SUM_TRAN_MED_TENDENCY3M: double (nullable = true)\n",
      " |-- REST_DYNAMIC_FDEP_3M: double (nullable = true)\n",
      " |-- REST_DYNAMIC_IL_1M: double (nullable = true)\n",
      " |-- APP_EMP_TYPE: string (nullable = true)\n",
      " |-- SUM_TRAN_CLO_TENDENCY3M: double (nullable = true)\n",
      " |-- LDEAL_TENOR_MAX: double (nullable = true)\n",
      " |-- LDEAL_YQZ_CHRG: double (nullable = true)\n",
      " |-- CR_PROD_CNT_CCFP: integer (nullable = true)\n",
      " |-- DEAL_YQZ_IR_MAX: double (nullable = true)\n",
      " |-- LDEAL_YQZ_COM: double (nullable = true)\n",
      " |-- DEAL_YQZ_IR_MIN: double (nullable = true)\n",
      " |-- CNT_TRAN_CLO_TENDENCY3M: double (nullable = true)\n",
      " |-- REST_DYNAMIC_CUR_1M: double (nullable = true)\n",
      " |-- REST_AVG_PAYM: double (nullable = true)\n",
      " |-- LDEAL_TENOR_MIN: double (nullable = true)\n",
      " |-- LDEAL_AMT_MONTH: double (nullable = true)\n",
      " |-- APP_COMP_TYPE: string (nullable = true)\n",
      " |-- LDEAL_GRACE_DAYS_PCT_MED: double (nullable = true)\n",
      " |-- REST_DYNAMIC_CUR_3M: double (nullable = true)\n",
      " |-- CNT_TRAN_SUP_TENDENCY3M: double (nullable = true)\n",
      " |-- TURNOVER_DYNAMIC_CUR_1M: double (nullable = true)\n",
      " |-- REST_DYNAMIC_PAYM_3M: double (nullable = true)\n",
      " |-- SUM_TRAN_SUP_TENDENCY3M: double (nullable = true)\n",
      " |-- REST_DYNAMIC_IL_3M: double (nullable = true)\n",
      " |-- CNT_TRAN_ATM_TENDENCY3M: double (nullable = true)\n",
      " |-- CNT_TRAN_ATM_TENDENCY1M: double (nullable = true)\n",
      " |-- TURNOVER_DYNAMIC_IL_3M: double (nullable = true)\n",
      " |-- SUM_TRAN_ATM_TENDENCY3M: double (nullable = true)\n",
      " |-- DEAL_GRACE_DAYS_ACC_S1X1: double (nullable = true)\n",
      " |-- AVG_PCT_MONTH_TO_PCLOSE: double (nullable = true)\n",
      " |-- DEAL_YWZ_IR_MIN: double (nullable = true)\n",
      " |-- SUM_TRAN_SUP_TENDENCY1M: double (nullable = true)\n",
      " |-- DEAL_YWZ_IR_MAX: double (nullable = true)\n",
      " |-- SUM_TRAN_ATM_TENDENCY1M: double (nullable = true)\n",
      " |-- REST_DYNAMIC_PAYM_1M: double (nullable = true)\n",
      " |-- CNT_TRAN_SUP_TENDENCY1M: double (nullable = true)\n",
      " |-- DEAL_GRACE_DAYS_ACC_AVG: double (nullable = true)\n",
      " |-- TURNOVER_DYNAMIC_CUR_3M: double (nullable = true)\n",
      " |-- PACK: string (nullable = true)\n",
      " |-- MAX_PCLOSE_DATE: double (nullable = true)\n",
      " |-- LDEAL_YQZ_PC: double (nullable = true)\n",
      " |-- CLNT_SETUP_TENOR: double (nullable = true)\n",
      " |-- DEAL_GRACE_DAYS_ACC_MAX: double (nullable = true)\n",
      " |-- TURNOVER_DYNAMIC_PAYM_3M: double (nullable = true)\n",
      " |-- LDEAL_DELINQ_PER_MAXYQZ: double (nullable = true)\n",
      " |-- TURNOVER_DYNAMIC_PAYM_1M: double (nullable = true)\n",
      " |-- CLNT_SALARY_VALUE: double (nullable = true)\n",
      " |-- TRANS_AMOUNT_TENDENCY3M: double (nullable = true)\n",
      " |-- MED_DEBT_PRC_YQZ: double (nullable = true)\n",
      " |-- TRANS_CNT_TENDENCY3M: double (nullable = true)\n",
      " |-- LDEAL_USED_AMT_AVG_YQZ: double (nullable = true)\n",
      " |-- REST_DYNAMIC_CC_1M: double (nullable = true)\n",
      " |-- LDEAL_USED_AMT_AVG_YWZ: double (nullable = true)\n",
      " |-- TURNOVER_DYNAMIC_CC_1M: double (nullable = true)\n",
      " |-- AVG_PCT_DEBT_TO_DEAL_AMT: double (nullable = true)\n",
      " |-- LDEAL_ACT_DAYS_ACC_PCT_AVG: double (nullable = true)\n",
      " |-- REST_DYNAMIC_CC_3M: double (nullable = true)\n",
      " |-- MED_DEBT_PRC_YWZ: double (nullable = true)\n",
      " |-- LDEAL_ACT_DAYS_PCT_TR3: double (nullable = true)\n",
      " |-- LDEAL_ACT_DAYS_PCT_AAVG: double (nullable = true)\n",
      " |-- LDEAL_DELINQ_PER_MAXYWZ: double (nullable = true)\n",
      " |-- TURNOVER_DYNAMIC_CC_3M: double (nullable = true)\n",
      " |-- LDEAL_ACT_DAYS_PCT_TR: double (nullable = true)\n",
      " |-- LDEAL_ACT_DAYS_PCT_TR4: double (nullable = true)\n",
      " |-- LDEAL_ACT_DAYS_PCT_CURR: double (nullable = true)\n",
      " |-- TARGET: integer (nullable = true)\n",
      "\n"
     ]
    }
   ],
   "source": [
    "train_df.printSchema()"
   ]
  },
  {
   "cell_type": "code",
   "execution_count": 74,
   "metadata": {
    "scrolled": true
   },
   "outputs": [
    {
     "data": {
      "text/plain": [
       "2"
      ]
     },
     "execution_count": 74,
     "metadata": {},
     "output_type": "execute_result"
    }
   ],
   "source": [
    "train_df.rdd.getNumPartitions\n",
    "// так изначально 2 партиции. Нормально."
   ]
  },
  {
   "cell_type": "markdown",
   "metadata": {},
   "source": [
    "## Разведочный анализ данных"
   ]
  },
  {
   "cell_type": "code",
   "execution_count": 86,
   "metadata": {},
   "outputs": [
    {
     "name": "stdout",
     "output_type": "stream",
     "text": [
      "(320764,44399)\n",
      "(117,116)\n"
     ]
    }
   ],
   "source": [
    "// Сколько строк и столбцов в датафреймах\n",
    "println(train_df.count, test_df.count)\n",
    "println(train_df.columns.length, test_df.columns.length)"
   ]
  },
  {
   "cell_type": "code",
   "execution_count": 36,
   "metadata": {},
   "outputs": [
    {
     "name": "stdout",
     "output_type": "stream",
     "text": [
      "+-------+------------------+------------------+-------------------+--------------------+------------------------+--------------------+-----------------+----------------+----------------------+-----------------------+-----------------------+-------------------+---------------------+-----------------------+-------------------+--------------+-----------------+--------------------+-----------------------+--------------+------------------+--------------------+-------------------+------------------+-----------------------+---------------------------+----------------------+--------------------+--------------------+-------------------+-------------------+-------------+-----------------------+-----------------------+-----------------+---------------+-------------------+---------------+---------------+------------------+-------+--------------------+-----------------------+-----------------+------------------+-------------------+-------------------+--------------------+------------------+-----------------------+-------------------+-----------------------+--------------------+--------------------+------------+-----------------------+------------------+--------------------+--------------------+------------------+--------------------+------------------+-----------------------+-------------------+------------------+------------------+------------------+-------------+------------------------+-------------------+-----------------------+-----------------------+--------------------+-----------------------+--------------------+-----------------------+-----------------------+----------------------+-----------------------+------------------------+-----------------------+------------------+-----------------------+-----------------+-----------------------+--------------------+-----------------------+-----------------------+-----------------------+------------------+-------------------+-------------------+------------------+-----------------------+------------------------+-----------------------+------------------------+------------------+-----------------------+------------------+--------------------+----------------------+--------------------+----------------------+----------------------+------------------------+--------------------------+--------------------+-------------------+----------------------+-----------------------+-----------------------+----------------------+---------------------+----------------------+-----------------------+-------------------+\n",
      "|summary|               _c0|                ID|     CR_PROD_CNT_IL|  AMOUNT_RUB_CLO_PRC|PRC_ACCEPTS_A_EMAIL_LINK|APP_REGISTR_RGN_CODE|PRC_ACCEPTS_A_POS|PRC_ACCEPTS_A_TK|TURNOVER_DYNAMIC_IL_1M|CNT_TRAN_AUT_TENDENCY1M|SUM_TRAN_AUT_TENDENCY1M| AMOUNT_RUB_SUP_PRC|PRC_ACCEPTS_A_AMOBILE|SUM_TRAN_AUT_TENDENCY3M|CLNT_TRUST_RELATION|PRC_ACCEPTS_TK|PRC_ACCEPTS_A_MTP|REST_DYNAMIC_FDEP_1M|CNT_TRAN_AUT_TENDENCY3M|CNT_ACCEPTS_TK|APP_MARITAL_STATUS|REST_DYNAMIC_SAVE_3M|    CR_PROD_CNT_VCU|      REST_AVG_CUR|CNT_TRAN_MED_TENDENCY1M|APP_KIND_OF_PROP_HABITATION|CLNT_JOB_POSITION_TYPE|  AMOUNT_RUB_NAS_PRC|   CLNT_JOB_POSITION|APP_DRIVING_LICENSE|TRANS_COUNT_SUP_PRC|APP_EDUCATION|CNT_TRAN_CLO_TENDENCY1M|SUM_TRAN_MED_TENDENCY1M|PRC_ACCEPTS_A_ATM|PRC_ACCEPTS_MTP|TRANS_COUNT_NAS_PRC|APP_TRAVEL_PASS|CNT_ACCEPTS_MTP|  CR_PROD_CNT_TOVR|APP_CAR|     CR_PROD_CNT_PIL|SUM_TRAN_CLO_TENDENCY1M|APP_POSITION_TYPE|       TURNOVER_CC|TRANS_COUNT_ATM_PRC| AMOUNT_RUB_ATM_PRC|       TURNOVER_PAYM|               AGE|CNT_TRAN_MED_TENDENCY3M|     CR_PROD_CNT_CC|SUM_TRAN_MED_TENDENCY3M|REST_DYNAMIC_FDEP_3M|  REST_DYNAMIC_IL_1M|APP_EMP_TYPE|SUM_TRAN_CLO_TENDENCY3M|   LDEAL_TENOR_MAX|      LDEAL_YQZ_CHRG|    CR_PROD_CNT_CCFP|   DEAL_YQZ_IR_MAX|       LDEAL_YQZ_COM|   DEAL_YQZ_IR_MIN|CNT_TRAN_CLO_TENDENCY3M|REST_DYNAMIC_CUR_1M|     REST_AVG_PAYM|   LDEAL_TENOR_MIN|   LDEAL_AMT_MONTH|APP_COMP_TYPE|LDEAL_GRACE_DAYS_PCT_MED|REST_DYNAMIC_CUR_3M|CNT_TRAN_SUP_TENDENCY3M|TURNOVER_DYNAMIC_CUR_1M|REST_DYNAMIC_PAYM_3M|SUM_TRAN_SUP_TENDENCY3M|  REST_DYNAMIC_IL_3M|CNT_TRAN_ATM_TENDENCY3M|CNT_TRAN_ATM_TENDENCY1M|TURNOVER_DYNAMIC_IL_3M|SUM_TRAN_ATM_TENDENCY3M|DEAL_GRACE_DAYS_ACC_S1X1|AVG_PCT_MONTH_TO_PCLOSE|   DEAL_YWZ_IR_MIN|SUM_TRAN_SUP_TENDENCY1M|  DEAL_YWZ_IR_MAX|SUM_TRAN_ATM_TENDENCY1M|REST_DYNAMIC_PAYM_1M|CNT_TRAN_SUP_TENDENCY1M|DEAL_GRACE_DAYS_ACC_AVG|TURNOVER_DYNAMIC_CUR_3M|              PACK|    MAX_PCLOSE_DATE|       LDEAL_YQZ_PC|  CLNT_SETUP_TENOR|DEAL_GRACE_DAYS_ACC_MAX|TURNOVER_DYNAMIC_PAYM_3M|LDEAL_DELINQ_PER_MAXYQZ|TURNOVER_DYNAMIC_PAYM_1M| CLNT_SALARY_VALUE|TRANS_AMOUNT_TENDENCY3M|  MED_DEBT_PRC_YQZ|TRANS_CNT_TENDENCY3M|LDEAL_USED_AMT_AVG_YQZ|  REST_DYNAMIC_CC_1M|LDEAL_USED_AMT_AVG_YWZ|TURNOVER_DYNAMIC_CC_1M|AVG_PCT_DEBT_TO_DEAL_AMT|LDEAL_ACT_DAYS_ACC_PCT_AVG|  REST_DYNAMIC_CC_3M|   MED_DEBT_PRC_YWZ|LDEAL_ACT_DAYS_PCT_TR3|LDEAL_ACT_DAYS_PCT_AAVG|LDEAL_DELINQ_PER_MAXYWZ|TURNOVER_DYNAMIC_CC_3M|LDEAL_ACT_DAYS_PCT_TR|LDEAL_ACT_DAYS_PCT_TR4|LDEAL_ACT_DAYS_PCT_CURR|             TARGET|\n",
      "+-------+------------------+------------------+-------------------+--------------------+------------------------+--------------------+-----------------+----------------+----------------------+-----------------------+-----------------------+-------------------+---------------------+-----------------------+-------------------+--------------+-----------------+--------------------+-----------------------+--------------+------------------+--------------------+-------------------+------------------+-----------------------+---------------------------+----------------------+--------------------+--------------------+-------------------+-------------------+-------------+-----------------------+-----------------------+-----------------+---------------+-------------------+---------------+---------------+------------------+-------+--------------------+-----------------------+-----------------+------------------+-------------------+-------------------+--------------------+------------------+-----------------------+-------------------+-----------------------+--------------------+--------------------+------------+-----------------------+------------------+--------------------+--------------------+------------------+--------------------+------------------+-----------------------+-------------------+------------------+------------------+------------------+-------------+------------------------+-------------------+-----------------------+-----------------------+--------------------+-----------------------+--------------------+-----------------------+-----------------------+----------------------+-----------------------+------------------------+-----------------------+------------------+-----------------------+-----------------+-----------------------+--------------------+-----------------------+-----------------------+-----------------------+------------------+-------------------+-------------------+------------------+-----------------------+------------------------+-----------------------+------------------------+------------------+-----------------------+------------------+--------------------+----------------------+--------------------+----------------------+----------------------+------------------------+--------------------------+--------------------+-------------------+----------------------+-----------------------+-----------------------+----------------------+---------------------+----------------------+-----------------------+-------------------+\n",
      "|  count|            320764|            320764|             320764|              286214|                  139950|               54850|           139950|          139950|                320763|                  69535|                  69535|             286213|               139950|                 100204|              62935|        139950|           139950|              320763|                 100204|        139950|             61775|              320763|             320763|            320763|                  62457|                      53722|                 40522|              286213|              190393|              51896|             286213|        61665|                  59823|                  62457|           139950|         139950|             286213|          51896|         139950|            320763|  51895|              320763|                  59823|            54780|            320763|             286213|             286213|              320763|            320763|                 104645|             320763|                 104645|              320763|              320763|       60986|                 103775|              7359|                1135|              320763|              7359|                1129|              7359|                 103775|             320763|            320763|              7359|              1704|        60986|                  320763|             320763|                 179529|                 320763|              320763|                 179529|              320763|                 230841|                 185911|                320763|                 230841|                   63615|                   1468|             86488|                 140850|            86488|                 185911|              320763|                 140850|                  62693|                 320763|            320763|               1699|               2551|            320763|                  62693|                  320763|                   7359|                  320763|               652|                 273904|              7359|              273904|                  7359|              320763|                 86488|                320763|                    1704|                     84414|              320763|              86488|                 84414|                  88692|                  86488|                320763|                84414|                 84414|                  84414|             320763|\n",
      "|   mean|221981.07212467733|368822.07212467736|0.10555112169694854|0.044185932933792645|                     0.0|  50.940510483135824|              0.0|             0.0|  0.001311987108868...|     0.4164971270088655|     0.4144116871982062|0.08529494188969172|                  0.0|     0.6887817174707905|               null|           0.0|              0.0|7.200560771369897E-4|     0.6914647828693696|           0.0|              null| 0.06378922248497548|0.03148118704464044| 66162.29934663817|     0.4441244853247115|                       null|                  null|0.024013168233614084|1.682839554675382...|               null|0.19110591678145605|         null|     0.4796725995900655|     0.4370113490147224|              0.0|            0.0|0.05093025604968245|           null|            0.0|0.3102446354473552|   null|0.057132524636569676|    0.47293333121921616|             null| 501.1494261137242|0.37067803321313875| 0.5979603380176972|  14577.112002708564|457.10792080133933|     0.7011272700943763|0.07165726720351162|     0.6964314045291468|0.003865171635578094|0.001663773834651...|        null|     0.6971582436416833|22.367984780540834|0.004979336217111135|0.004900814620140103|26.272423486887295| 0.07355750695923129|25.561635336323345|     0.7002981646284061|0.21222983221770975|7192.1270254256515|15.760972958282375|197657.90733497642|         null|    0.001814022340257...|0.49868296589802613|     0.6429108778324024|    0.20406155178128954| 0.07684715119873978|     0.6275880980317768|0.005753073063779523|     0.6287791324470898|      0.327132582265736|  0.004064499231079745|     0.6182761188794409|     0.02876597427456511|     -2.555297431380423|37.185119785402414|    0.32812867009303004|39.47356488761336|     0.3219888572041245|0.027698470071221597|     0.3411512563183511|    0.02443022742433041|     0.4844239194191719|107.00713396486996|-20.791243425924172|0.02506883085132336|4.3774887004275005|   0.029040448128981114|     0.07212406824060656|     0.1958825927435793|    0.025178101742057563|36623.100475460116|     0.5822783322728388|0.9227476559315124|  0.5974420041319465|   0.43632440522705546|0.002243373633744...|    0.9002152937657554|  9.567016908920889E-4|     0.34321823780086436|       0.05155977032941277|0.007414408779733414|0.05515015609101842|  0.025760464002586757|    0.05027405261012803|   0.009567801313477014|   0.00445155515166299| 0.013922421826979137|  0.013922421826979137|   0.013922421826979137|0.08154307074070263|\n",
      "| stddev| 128175.4108831475|128175.41088314744|0.43036335826376876| 0.10881700066615091|                     0.0|  21.776213717042882|              0.0|             0.0|  0.029057442912465918|    0.31585672186079755|      0.338004648620383|0.14243213891581308|                  0.0|     0.3017737931774965|               null|           0.0|              0.0|0.014273308446974149|     0.2767757680498834|           0.0|              null|  0.2036928516197863| 0.1845953132514748|183563.64151920937|    0.32420322149136704|                       null|                  null| 0.09090392792659768|2.018107922480954E19|               null|0.19609456482599227|         null|    0.33054929496838026|    0.36198799558794104|              0.0|            0.0|0.11677040585444874|           null|            0.0|0.5893966595322511|   null|  0.2970151891124242|     0.3616967882161805|             null|12880.036771215046| 0.3435694392089819|0.36383211794857684|  149500.39569037888|136.27013317555193|     0.2816982760720958| 0.2944057126966325|    0.32218285859133367|  0.0452032392198611|0.024330152370462862|        null|     0.3225066278951264|17.002651957318896|0.008089769086529742| 0.07578586968203624|14.644675678233964| 0.10550099796453932|14.166313483537584|     0.2897660650660304|0.23584397268145119| 48466.48073709917| 12.92572163905782|488164.04884882085|         null|     0.03940742675653829| 0.2992561770431862|     0.2674816715825597|    0.25481806293456993|  0.2044623207249102|      0.294858011538068|0.057575790500710086|     0.2629768340531934|     0.2743734658263214|    0.0533422608493053|     0.3026032756752751|      0.1442882314066936|      4.354124569427227| 12.44064217199656|     0.3013227700060311|10.50352031836963|    0.30573504396274637| 0.09720859415862905|     0.2814522352537282|    0.13839885258423087|     0.3317021333613952|26.535235217959187|  28.81090729239214|0.05894311802094303|2.9362426237573995|     0.1659987395474209|     0.20708338102361667|    0.38689198676955344|      0.1046182276947775|58970.820280957254|     0.2820459685968757|0.2612856442224521| 0.24711978698207776|    0.3223407829192837| 0.02687150904594425|   0.29710216053800587|   0.02862896596829416|      1.0237441066791995|       0.13526488013109486| 0.06703226167257377|0.21612277078192654|    0.1155870415275421|    0.18623747409466695|    0.09437647120018305|  0.060916655786840586|  0.09696644206613277|   0.09696644206613277|    0.09696644206613277| 0.2736677398635232|\n",
      "|    min|                 0|            146841|                  0|                 0.0|                     0.0|                 0.0|              0.0|             0.0|                   0.0|    0.00694444444444444|                    0.0|                0.0|                  0.0|   4.713157249778479...|            BROTHER|           0.0|              0.0|                 0.0|                  0.008|           0.0|                  |                 0.0|                  0|               0.0|     0.0103092783505155|                         JO|               MANAGER|                 0.0|\"Арт-директор жур...|                  N|                0.0|            A|     0.0104166666666667|                    0.0|              0.0|            0.0|                0.0|              N|            0.0|                 0|      N|                   0|   1.259525159015050...|          MANAGER|               0.0|                0.0|                0.0|                 0.0|               168|     0.0217391304347826|                  0|                    0.0|                 0.0|                 0.0|       INTER|                    0.0|               0.0| 3.08928019771393E-8|                   0|               7.5|2.866666666666669...|               7.5|     0.0196078431372549|                0.0|               0.0|               0.0|               0.0|        INTER|                     0.0|                0.0|    0.00869565217391304|                    0.0|                 0.0|    5.07208703701356E-7|                 0.0|    0.00552486187845304|    0.00317057704502219|                   0.0|    5.64900020670964E-5|                     0.0|    -33.290322580645196|               0.0|    5.07208703701356E-7|              0.0|    6.34770911474671E-6|                 0.0|    0.00425531914893617|                    0.0|                    0.0|               101|  -103.354838709677|7.08333333333333E-8| 0.345592455694942|                    0.0|                     0.0|                    0.0|                     0.0|              0.75|                    0.0|               0.0| 0.00571428571428571|                   0.0|                 0.0|                   0.0|                   0.0|                     0.0|                       0.0|                 0.0|                0.0|                   0.0|                    0.0|                    0.0|                   0.0|                  0.0|                   0.0|                    0.0|                  0|\n",
      "|    max|            443987|            590828|                 11|                 1.0|                     0.0|                89.0|              0.0|             0.0|                   1.0|                    1.0|                    1.0|                1.0|                  0.0|                    1.0|               мать|           0.0|              0.0|                 1.0|                    1.0|           0.0|                 w|                 1.0|                  4|2.20214067691833E7|                    1.0|                         SO|           TOP_MANAGER|                 1.0|       юристконсульт|                  Y|                1.0|            s|                    1.0|                    1.0|              0.0|            0.0|                1.0|              Y|            0.0|                13|      Y|                   9|                    1.0|      TOP_MANAGER|       3753042.345|                1.0|                1.0|4.6280439311666705E7|              1128|                    1.0|                  9|                    1.0|                 1.0|                 1.0|       STATE|                    1.0|             242.0|  0.0811810862719936|                   4|              94.0|                 1.0|              94.0|                    1.0|                1.0|     5798600.31145|             182.0|      7337638.1775|        STATE|                     1.0|                1.0|                    1.0|                    1.0|                 1.0|                    1.0|                 1.0|                    1.0|                    1.0|                   1.0|                    1.0|        4.53401360544218|      0.967741935483871|              59.9|                    1.0|             59.9|                    1.0|                 1.0|                    1.0|     4.6887755102040805|                    1.0|               O01|   112.193548387097| 2.2838436077002298|  13.7489368652927|      9.377551020408161|                     1.0|                    1.0|                     1.0|         786218.42|                    1.0|               1.0|                 1.0|                   1.0|                 1.0|                   1.0|                   1.0|        39.8784683559783|                       1.0|                 1.0|                1.0|                   1.0|                    1.0|                    1.0|                   1.0|                  1.0|                   1.0|                    1.0|                  1|\n",
      "+-------+------------------+------------------+-------------------+--------------------+------------------------+--------------------+-----------------+----------------+----------------------+-----------------------+-----------------------+-------------------+---------------------+-----------------------+-------------------+--------------+-----------------+--------------------+-----------------------+--------------+------------------+--------------------+-------------------+------------------+-----------------------+---------------------------+----------------------+--------------------+--------------------+-------------------+-------------------+-------------+-----------------------+-----------------------+-----------------+---------------+-------------------+---------------+---------------+------------------+-------+--------------------+-----------------------+-----------------+------------------+-------------------+-------------------+--------------------+------------------+-----------------------+-------------------+-----------------------+--------------------+--------------------+------------+-----------------------+------------------+--------------------+--------------------+------------------+--------------------+------------------+-----------------------+-------------------+------------------+------------------+------------------+-------------+------------------------+-------------------+-----------------------+-----------------------+--------------------+-----------------------+--------------------+-----------------------+-----------------------+----------------------+-----------------------+------------------------+-----------------------+------------------+-----------------------+-----------------+-----------------------+--------------------+-----------------------+-----------------------+-----------------------+------------------+-------------------+-------------------+------------------+-----------------------+------------------------+-----------------------+------------------------+------------------+-----------------------+------------------+--------------------+----------------------+--------------------+----------------------+----------------------+------------------------+--------------------------+--------------------+-------------------+----------------------+-----------------------+-----------------------+----------------------+---------------------+----------------------+-----------------------+-------------------+\n",
      "\n"
     ]
    }
   ],
   "source": [
    "// статистика по полям . Смотрим во внешнем редакторе эту колбасу...\n",
    "train_df.describe().show(10,20,false)"
   ]
  },
  {
   "cell_type": "code",
   "execution_count": 87,
   "metadata": {},
   "outputs": [
    {
     "data": {
      "text/plain": [
       "countNulls: (columns: Array[String])Array[org.apache.spark.sql.Column]\n"
      ]
     },
     "metadata": {},
     "output_type": "display_data"
    }
   ],
   "source": [
    "// Функция подсчета количество null-ов во всех колонках датафрейма\n",
    "def countNulls(columns:Array[String]):Array[Column]={\n",
    "    columns.map(c=>{\n",
    "      count(when(col(c).isNull,c)).alias(c)\n",
    "    })\n",
    "}"
   ]
  },
  {
   "cell_type": "code",
   "execution_count": 88,
   "metadata": {},
   "outputs": [
    {
     "name": "stdout",
     "output_type": "stream",
     "text": [
      "-RECORD 0-----------------------------\n",
      " _c0                         | 0      \n",
      " ID                          | 0      \n",
      " CR_PROD_CNT_IL              | 0      \n",
      " AMOUNT_RUB_CLO_PRC          | 34550  \n",
      " PRC_ACCEPTS_A_EMAIL_LINK    | 180814 \n",
      " APP_REGISTR_RGN_CODE        | 265914 \n",
      " PRC_ACCEPTS_A_POS           | 180814 \n",
      " PRC_ACCEPTS_A_TK            | 180814 \n",
      " TURNOVER_DYNAMIC_IL_1M      | 1      \n",
      " CNT_TRAN_AUT_TENDENCY1M     | 251229 \n",
      " SUM_TRAN_AUT_TENDENCY1M     | 251229 \n",
      " AMOUNT_RUB_SUP_PRC          | 34551  \n",
      " PRC_ACCEPTS_A_AMOBILE       | 180814 \n",
      " SUM_TRAN_AUT_TENDENCY3M     | 220560 \n",
      " CLNT_TRUST_RELATION         | 257829 \n",
      " PRC_ACCEPTS_TK              | 180814 \n",
      " PRC_ACCEPTS_A_MTP           | 180814 \n",
      " REST_DYNAMIC_FDEP_1M        | 1      \n",
      " CNT_TRAN_AUT_TENDENCY3M     | 220560 \n",
      " CNT_ACCEPTS_TK              | 180814 \n",
      " APP_MARITAL_STATUS          | 258989 \n",
      " REST_DYNAMIC_SAVE_3M        | 1      \n",
      " CR_PROD_CNT_VCU             | 1      \n",
      " REST_AVG_CUR                | 1      \n",
      " CNT_TRAN_MED_TENDENCY1M     | 258307 \n",
      " APP_KIND_OF_PROP_HABITATION | 267042 \n",
      " CLNT_JOB_POSITION_TYPE      | 280242 \n",
      " AMOUNT_RUB_NAS_PRC          | 34551  \n",
      " CLNT_JOB_POSITION           | 130371 \n",
      " APP_DRIVING_LICENSE         | 268868 \n",
      " TRANS_COUNT_SUP_PRC         | 34551  \n",
      " APP_EDUCATION               | 259099 \n",
      " CNT_TRAN_CLO_TENDENCY1M     | 260941 \n",
      " SUM_TRAN_MED_TENDENCY1M     | 258307 \n",
      " PRC_ACCEPTS_A_ATM           | 180814 \n",
      " PRC_ACCEPTS_MTP             | 180814 \n",
      " TRANS_COUNT_NAS_PRC         | 34551  \n",
      " APP_TRAVEL_PASS             | 268868 \n",
      " CNT_ACCEPTS_MTP             | 180814 \n",
      " CR_PROD_CNT_TOVR            | 1      \n",
      " APP_CAR                     | 268869 \n",
      " CR_PROD_CNT_PIL             | 1      \n",
      " SUM_TRAN_CLO_TENDENCY1M     | 260941 \n",
      " APP_POSITION_TYPE           | 265984 \n",
      " TURNOVER_CC                 | 1      \n",
      " TRANS_COUNT_ATM_PRC         | 34551  \n",
      " AMOUNT_RUB_ATM_PRC          | 34551  \n",
      " TURNOVER_PAYM               | 1      \n",
      " AGE                         | 1      \n",
      " CNT_TRAN_MED_TENDENCY3M     | 216119 \n",
      " CR_PROD_CNT_CC              | 1      \n",
      " SUM_TRAN_MED_TENDENCY3M     | 216119 \n",
      " REST_DYNAMIC_FDEP_3M        | 1      \n",
      " REST_DYNAMIC_IL_1M          | 1      \n",
      " APP_EMP_TYPE                | 259778 \n",
      " SUM_TRAN_CLO_TENDENCY3M     | 216989 \n",
      " LDEAL_TENOR_MAX             | 313405 \n",
      " LDEAL_YQZ_CHRG              | 319629 \n",
      " CR_PROD_CNT_CCFP            | 1      \n",
      " DEAL_YQZ_IR_MAX             | 313405 \n",
      " LDEAL_YQZ_COM               | 319635 \n",
      " DEAL_YQZ_IR_MIN             | 313405 \n",
      " CNT_TRAN_CLO_TENDENCY3M     | 216989 \n",
      " REST_DYNAMIC_CUR_1M         | 1      \n",
      " REST_AVG_PAYM               | 1      \n",
      " LDEAL_TENOR_MIN             | 313405 \n",
      " LDEAL_AMT_MONTH             | 319060 \n",
      " APP_COMP_TYPE               | 259778 \n",
      " LDEAL_GRACE_DAYS_PCT_MED    | 1      \n",
      " REST_DYNAMIC_CUR_3M         | 1      \n",
      " CNT_TRAN_SUP_TENDENCY3M     | 141235 \n",
      " TURNOVER_DYNAMIC_CUR_1M     | 1      \n",
      " REST_DYNAMIC_PAYM_3M        | 1      \n",
      " SUM_TRAN_SUP_TENDENCY3M     | 141235 \n",
      " REST_DYNAMIC_IL_3M          | 1      \n",
      " CNT_TRAN_ATM_TENDENCY3M     | 89923  \n",
      " CNT_TRAN_ATM_TENDENCY1M     | 134853 \n",
      " TURNOVER_DYNAMIC_IL_3M      | 1      \n",
      " SUM_TRAN_ATM_TENDENCY3M     | 89923  \n",
      " DEAL_GRACE_DAYS_ACC_S1X1    | 257149 \n",
      " AVG_PCT_MONTH_TO_PCLOSE     | 319296 \n",
      " DEAL_YWZ_IR_MIN             | 234276 \n",
      " SUM_TRAN_SUP_TENDENCY1M     | 179914 \n",
      " DEAL_YWZ_IR_MAX             | 234276 \n",
      " SUM_TRAN_ATM_TENDENCY1M     | 134853 \n",
      " REST_DYNAMIC_PAYM_1M        | 1      \n",
      " CNT_TRAN_SUP_TENDENCY1M     | 179914 \n",
      " DEAL_GRACE_DAYS_ACC_AVG     | 258071 \n",
      " TURNOVER_DYNAMIC_CUR_3M     | 1      \n",
      " PACK                        | 1      \n",
      " MAX_PCLOSE_DATE             | 319065 \n",
      " LDEAL_YQZ_PC                | 318213 \n",
      " CLNT_SETUP_TENOR            | 1      \n",
      " DEAL_GRACE_DAYS_ACC_MAX     | 258071 \n",
      " TURNOVER_DYNAMIC_PAYM_3M    | 1      \n",
      " LDEAL_DELINQ_PER_MAXYQZ     | 313405 \n",
      " TURNOVER_DYNAMIC_PAYM_1M    | 1      \n",
      " CLNT_SALARY_VALUE           | 320112 \n",
      " TRANS_AMOUNT_TENDENCY3M     | 46860  \n",
      " MED_DEBT_PRC_YQZ            | 313405 \n",
      " TRANS_CNT_TENDENCY3M        | 46860  \n",
      " LDEAL_USED_AMT_AVG_YQZ      | 313405 \n",
      " REST_DYNAMIC_CC_1M          | 1      \n",
      " LDEAL_USED_AMT_AVG_YWZ      | 234276 \n",
      " TURNOVER_DYNAMIC_CC_1M      | 1      \n",
      " AVG_PCT_DEBT_TO_DEAL_AMT    | 319060 \n",
      " LDEAL_ACT_DAYS_ACC_PCT_AVG  | 236350 \n",
      " REST_DYNAMIC_CC_3M          | 1      \n",
      " MED_DEBT_PRC_YWZ            | 234276 \n",
      " LDEAL_ACT_DAYS_PCT_TR3      | 236350 \n",
      " LDEAL_ACT_DAYS_PCT_AAVG     | 232072 \n",
      " LDEAL_DELINQ_PER_MAXYWZ     | 234276 \n",
      " TURNOVER_DYNAMIC_CC_3M      | 1      \n",
      " LDEAL_ACT_DAYS_PCT_TR       | 236350 \n",
      " LDEAL_ACT_DAYS_PCT_TR4      | 236350 \n",
      " LDEAL_ACT_DAYS_PCT_CURR     | 236350 \n",
      " TARGET                      | 1      \n",
      "\n"
     ]
    }
   ],
   "source": [
    "// Смотрим кол-во пропусков в данных\n",
    "train_df.select(countNulls(train_df.columns):_*).show(200, 40, true)"
   ]
  },
  {
   "cell_type": "code",
   "execution_count": 89,
   "metadata": {},
   "outputs": [
    {
     "name": "stdout",
     "output_type": "stream",
     "text": [
      "+------+------+\n",
      "|TARGET| count|\n",
      "+------+------+\n",
      "|     0|294607|\n",
      "|     1| 26156|\n",
      "|  null|     1|\n",
      "+------+------+\n",
      "\n"
     ]
    }
   ],
   "source": [
    "// Посмотрим детальнее на поле TARGET. Есть один null ...\n",
    "train_df.groupBy($\"TARGET\").count.orderBy($\"count\".desc).show()"
   ]
  },
  {
   "cell_type": "code",
   "execution_count": 91,
   "metadata": {},
   "outputs": [
    {
     "data": {
      "text/plain": [
       "train_df_clean = [TARGET: int, ID: int ... 32 more fields]\n"
      ]
     },
     "metadata": {},
     "output_type": "display_data"
    },
    {
     "data": {
      "text/plain": [
       "[TARGET: int, ID: int ... 32 more fields]"
      ]
     },
     "execution_count": 91,
     "metadata": {},
     "output_type": "execute_result"
    }
   ],
   "source": [
    "// Пропусков очень много в полях (больше половины), исправлять их в лом, так что попробуем тупо выкинуть,\n",
    "// может этого будет достаточно. И также строку где таргет не заполнен.\n",
    "\n",
    "val train_df_clean = train_df.na.drop(Seq(\"TARGET\")).select(\n",
    "    \"TARGET\",\n",
    "    \"ID\",\n",
    "    \"AGE\",\n",
    "    \"CLNT_SETUP_TENOR\", //Срок жизни клиента в банке\n",
    "    \"REST_AVG_CUR\", //Средние остатки по текущим счетам\n",
    "    \"REST_AVG_PAYM\", //Средние остатки по зарплатным счетам\n",
    "    \"TURNOVER_PAYM\", //Средние обороты по зарплатным счетам\n",
    "    \"TURNOVER_CC\", //Средние обороты по кредитным картам\n",
    "\n",
    "    \"CR_PROD_CNT_IL\", //Кол-во открытых продуктов за отчетный период (по категориям продуктов)\n",
    "    \"CR_PROD_CNT_VCU\",\n",
    "    \"CR_PROD_CNT_TOVR\",\n",
    "    \"CR_PROD_CNT_PIL\",\n",
    "    \"CR_PROD_CNT_CC\",\n",
    "    \"CR_PROD_CNT_CCFP\",\n",
    "\n",
    "    \"TURNOVER_DYNAMIC_IL_1M\", //Тренд по среднемесячным оборотам за отчетный период (1 или 3 месяца)\n",
    "    \"TURNOVER_DYNAMIC_CUR_1M\",\n",
    "    \"TURNOVER_DYNAMIC_PAYM_1M\",\n",
    "    \"TURNOVER_DYNAMIC_CC_1M\",\n",
    "    \"TURNOVER_DYNAMIC_IL_3M\",\n",
    "    \"TURNOVER_DYNAMIC_CUR_3M\",\n",
    "    \"TURNOVER_DYNAMIC_PAYM_3M\",\n",
    "    \"TURNOVER_DYNAMIC_CC_3M\",\n",
    "\n",
    "    \"REST_DYNAMIC_FDEP_1M\", //Тренд среднемесяцных остатков по продуктам за отчетный период ( за 1 или 3 месяца)\n",
    "    \"REST_DYNAMIC_IL_1M\",\n",
    "    \"REST_DYNAMIC_CUR_1M\",\n",
    "    \"REST_DYNAMIC_PAYM_1M\",\n",
    "    \"REST_DYNAMIC_CC_1M\",\n",
    "    \"REST_DYNAMIC_SAVE_3M\",\n",
    "    \"REST_DYNAMIC_FDEP_3M\",\n",
    "    \"REST_DYNAMIC_PAYM_3M\",\n",
    "    \"REST_DYNAMIC_IL_3M\",\n",
    "    \"REST_DYNAMIC_CUR_3M\",\n",
    "    \"REST_DYNAMIC_CC_3M\",\n",
    "\n",
    "    \"LDEAL_GRACE_DAYS_PCT_MED\" //Прочие продуктовые параметры за отчетный период (кредитным договорам)\n",
    ")\n"
   ]
  },
  {
   "cell_type": "code",
   "execution_count": 92,
   "metadata": {
    "scrolled": true
   },
   "outputs": [
    {
     "name": "stdout",
     "output_type": "stream",
     "text": [
      "-RECORD 0-----------------------\n",
      " TARGET                   | 0   \n",
      " ID                       | 0   \n",
      " AGE                      | 0   \n",
      " CLNT_SETUP_TENOR         | 0   \n",
      " REST_AVG_CUR             | 0   \n",
      " REST_AVG_PAYM            | 0   \n",
      " TURNOVER_PAYM            | 0   \n",
      " TURNOVER_CC              | 0   \n",
      " CR_PROD_CNT_IL           | 0   \n",
      " CR_PROD_CNT_VCU          | 0   \n",
      " CR_PROD_CNT_TOVR         | 0   \n",
      " CR_PROD_CNT_PIL          | 0   \n",
      " CR_PROD_CNT_CC           | 0   \n",
      " CR_PROD_CNT_CCFP         | 0   \n",
      " TURNOVER_DYNAMIC_IL_1M   | 0   \n",
      " TURNOVER_DYNAMIC_CUR_1M  | 0   \n",
      " TURNOVER_DYNAMIC_PAYM_1M | 0   \n",
      " TURNOVER_DYNAMIC_CC_1M   | 0   \n",
      " TURNOVER_DYNAMIC_IL_3M   | 0   \n",
      " TURNOVER_DYNAMIC_CUR_3M  | 0   \n",
      " TURNOVER_DYNAMIC_PAYM_3M | 0   \n",
      " TURNOVER_DYNAMIC_CC_3M   | 0   \n",
      " REST_DYNAMIC_FDEP_1M     | 0   \n",
      " REST_DYNAMIC_IL_1M       | 0   \n",
      " REST_DYNAMIC_CUR_1M      | 0   \n",
      " REST_DYNAMIC_PAYM_1M     | 0   \n",
      " REST_DYNAMIC_CC_1M       | 0   \n",
      " REST_DYNAMIC_SAVE_3M     | 0   \n",
      " REST_DYNAMIC_FDEP_3M     | 0   \n",
      " REST_DYNAMIC_PAYM_3M     | 0   \n",
      " REST_DYNAMIC_IL_3M       | 0   \n",
      " REST_DYNAMIC_CUR_3M      | 0   \n",
      " REST_DYNAMIC_CC_3M       | 0   \n",
      " LDEAL_GRACE_DAYS_PCT_MED | 0   \n",
      "\n"
     ]
    }
   ],
   "source": [
    "// Смотрим, что получили. Ок, null-ов нет нигде\n",
    "train_df_clean.select(countCols(train_df_clean_cut.columns):_*).show(100,20,true)"
   ]
  },
  {
   "cell_type": "markdown",
   "metadata": {},
   "source": [
    "# Модель"
   ]
  },
  {
   "cell_type": "code",
   "execution_count": 94,
   "metadata": {},
   "outputs": [
    {
     "data": {
      "text/plain": [
       "cols = Array(AGE, CLNT_SETUP_TENOR, REST_AVG_CUR, REST_AVG_PAYM, TURNOVER_PAYM, TURNOVER_CC, CR_PROD_CNT_IL, CR_PROD_CNT_VCU, CR_PROD_CNT_TOVR, CR_PROD_CNT_PIL, CR_PROD_CNT_CC, CR_PROD_CNT_CCFP, TURNOVER_DYNAMIC_IL_1M, TURNOVER_DYNAMIC_CUR_1M, TURNOVER_DYNAMIC_PAYM_1M, TURNOVER_DYNAMIC_CC_1M, TURNOVER_DYNAMIC_IL_3M, TURNOVER_DYNAMIC_CUR_3M, TURNOVER_DYNAMIC_PAYM_3M, TURNOVER_DYNAMIC_CC_3M, REST_DYNAMIC_FDEP_1M, REST_DYNAMIC_IL_1M, REST_DYNAMIC_CUR_1M, REST_DYNAMIC_PAYM_1M, REST_DYNAMIC_CC_1M, REST_DYNAMIC_SAVE_3M, REST_DYNAMIC_FDEP_3M, REST_DYNAMIC_PAYM_3M, REST_DYNAMIC_IL_3M, REST_DYNAMIC_CUR_3M, REST_DYNAMIC_CC_3M, LDEAL_GRACE_DAYS_PCT_MED)\n",
       "assembler = vecAssembler_46db6c72c55e\n"
      ]
     },
     "metadata": {},
     "output_type": "display_data"
    },
    {
     "data": {
      "text/plain": [
       "gbt: org.apache.spark.ml.regression.GBTRegressor...\n"
      ]
     },
     "metadata": {},
     "output_type": "display_data"
    },
    {
     "data": {
      "text/plain": [
       "vecAssembler_46db6c72c55e"
      ]
     },
     "execution_count": 94,
     "metadata": {},
     "output_type": "execute_result"
    }
   ],
   "source": [
    "// Колонки для фичей - берем все кроме TARGET\" и \"ID\"\n",
    "val cols = Array(\n",
    "    \"AGE\",\n",
    "    \"CLNT_SETUP_TENOR\", //Срок жизни клиента в банке\n",
    "    \"REST_AVG_CUR\", //Средние остатки по текущим счетам\n",
    "    \"REST_AVG_PAYM\", //Средние остатки по зарплатным счетам\n",
    "    \"TURNOVER_PAYM\", //Средние обороты по зарплатным счетам\n",
    "    \"TURNOVER_CC\", //Средние обороты по кредитным картам\n",
    "\n",
    "    \"CR_PROD_CNT_IL\", //Кол-во открытых продуктов за отчетный период (по категориям продуктов)\n",
    "    \"CR_PROD_CNT_VCU\",\n",
    "    \"CR_PROD_CNT_TOVR\",\n",
    "    \"CR_PROD_CNT_PIL\",\n",
    "    \"CR_PROD_CNT_CC\",\n",
    "    \"CR_PROD_CNT_CCFP\",\n",
    "\n",
    "    \"TURNOVER_DYNAMIC_IL_1M\", //Тренд по среднемесячным оборотам за отчетный период (1 или 3 месяца)\n",
    "    \"TURNOVER_DYNAMIC_CUR_1M\",\n",
    "    \"TURNOVER_DYNAMIC_PAYM_1M\",\n",
    "    \"TURNOVER_DYNAMIC_CC_1M\",\n",
    "    \"TURNOVER_DYNAMIC_IL_3M\",\n",
    "    \"TURNOVER_DYNAMIC_CUR_3M\",\n",
    "    \"TURNOVER_DYNAMIC_PAYM_3M\",\n",
    "    \"TURNOVER_DYNAMIC_CC_3M\",\n",
    "\n",
    "    \"REST_DYNAMIC_FDEP_1M\", //Тренд среднемесяцных остатков по продуктам за отчетный период ( за 1 или 3 месяца)\n",
    "    \"REST_DYNAMIC_IL_1M\",\n",
    "    \"REST_DYNAMIC_CUR_1M\",\n",
    "    \"REST_DYNAMIC_PAYM_1M\",\n",
    "    \"REST_DYNAMIC_CC_1M\",\n",
    "    \"REST_DYNAMIC_SAVE_3M\",\n",
    "    \"REST_DYNAMIC_FDEP_3M\",\n",
    "    \"REST_DYNAMIC_PAYM_3M\",\n",
    "    \"REST_DYNAMIC_IL_3M\",\n",
    "    \"REST_DYNAMIC_CUR_3M\",\n",
    "    \"REST_DYNAMIC_CC_3M\",\n",
    "\n",
    "    \"LDEAL_GRACE_DAYS_PCT_MED\" //Прочие продуктовые параметры за отчетный период (кредитным договорам)\n",
    ")\n",
    "\n",
    "// Вектор с фичами\n",
    "val assembler = new VectorAssembler()\n",
    "  .setInputCols(cols)\n",
    "  .setOutputCol(\"features\")\n",
    "\n",
    "// Используем алгоритм Gradient-boosted tree regression\n",
    "val gbt = new GBTRegressor()\n",
    "  .setLabelCol(\"TARGET\")\n",
    "  .setFeaturesCol(\"features\")\n",
    "  .setMaxIter(10)\n",
    "\n",
    "// Валидация на ROC AUC score\n",
    "val evaluator = new BinaryClassificationEvaluator()\n",
    "  .setLabelCol(\"TARGET\")\n",
    "  .setRawPredictionCol(\"prediction\")\n",
    "  .setMetricName(\"areaUnderROC\")\n",
    "\n",
    "val pipeline = new Pipeline()\n",
    "  .setStages(Array(assembler, gbt))"
   ]
  },
  {
   "cell_type": "code",
   "execution_count": 96,
   "metadata": {},
   "outputs": [
    {
     "data": {
      "text/plain": [
       "train_data = [TARGET: int, ID: int ... 32 more fields]\n",
       "val_data = [TARGET: int, ID: int ... 32 more fields]\n",
       "model = pipeline_d5607926aacc\n",
       "predictions = [TARGET: int, ID: int ... 34 more fields]\n",
       "accuracy = 0.8033801345328687\n"
      ]
     },
     "metadata": {},
     "output_type": "display_data"
    },
    {
     "data": {
      "text/plain": [
       "0.8033801345328687"
      ]
     },
     "execution_count": 96,
     "metadata": {},
     "output_type": "execute_result"
    }
   ],
   "source": [
    "// Обучение и валидация модели. \n",
    "\n",
    "// случайное разбиение на обучающую и проверочную части\n",
    "val Array(train_data, val_data) = train_df_clean_cut.randomSplit(Array(0.65, 0.35))  \n",
    "val model = pipeline.fit(train_data)\n",
    "val predictions = model.transform(val_data)\n",
    "val accuracy = evaluator.evaluate(predictions)\n",
    "// accuracy > 0.80 - норм"
   ]
  },
  {
   "cell_type": "code",
   "execution_count": 97,
   "metadata": {},
   "outputs": [
    {
     "data": {
      "text/plain": [
       "model = pipeline_d5607926aacc\n",
       "predictions = [_c0: int, ID: int ... 116 more fields]\n"
      ]
     },
     "metadata": {},
     "output_type": "display_data"
    },
    {
     "data": {
      "text/plain": [
       "[_c0: int, ID: int ... 116 more fields]"
      ]
     },
     "execution_count": 97,
     "metadata": {},
     "output_type": "execute_result"
    }
   ],
   "source": [
    "// Обучаем модель на всем трейне\n",
    "val model = pipeline.fit(train_df_clean)\n",
    "// Получаем предикты на тестовых данных\n",
    "val predictions = model.transform(test_df)"
   ]
  },
  {
   "cell_type": "code",
   "execution_count": 98,
   "metadata": {},
   "outputs": [
    {
     "name": "stdout",
     "output_type": "stream",
     "text": [
      "+------+--------------------+\n",
      "|    id|              target|\n",
      "+------+--------------------+\n",
      "|519130| 0.10532352712065535|\n",
      "|234045|0.009365383704254266|\n",
      "|401256|0.004809516691642...|\n",
      "|551070|0.030328511215895974|\n",
      "|367285|0.008593258670558546|\n",
      "|497998|0.013571868107250017|\n",
      "|413082|  0.1152834086062017|\n",
      "|349893| -3.1037950042329E-4|\n",
      "|346337| 0.13029977308402804|\n",
      "|289979|0.026000123094179504|\n",
      "|510818| 0.25701450311972346|\n",
      "|235935|0.013917510022612992|\n",
      "|532135| 0.33517723788538045|\n",
      "|564760|0.014840315340617414|\n",
      "|277391| 0.08362352397578383|\n",
      "|336830| 0.32687509294332917|\n",
      "|356053|0.010400102297599597|\n",
      "|293302| 0.04010306298802175|\n",
      "|322368|0.015456357395547807|\n",
      "|406041|0.004650432073084594|\n",
      "+------+--------------------+\n",
      "only showing top 20 rows\n",
      "\n"
     ]
    },
    {
     "data": {
      "text/plain": [
       "pred_df = [id: int, target: double]\n"
      ]
     },
     "metadata": {},
     "output_type": "display_data"
    },
    {
     "data": {
      "text/plain": [
       "[id: int, target: double]"
      ]
     },
     "execution_count": 98,
     "metadata": {},
     "output_type": "execute_result"
    }
   ],
   "source": [
    "// Берем нужные колонки, переименовываем, смотрим что получили\n",
    "val predictions_df = predictions\n",
    "    .select(\"ID\",\"prediction\")\n",
    "    .withColumnRenamed(\"ID\",\"id\")\n",
    "    .withColumnRenamed(\"prediction\",\"target\")\n",
    "pred_df.show()"
   ]
  },
  {
   "cell_type": "markdown",
   "metadata": {},
   "source": [
    "## Сохраняем результат"
   ]
  },
  {
   "cell_type": "code",
   "execution_count": 100,
   "metadata": {},
   "outputs": [
    {
     "data": {
      "text/plain": [
       "lastException: Throwable = null\n"
      ]
     },
     "metadata": {},
     "output_type": "display_data"
    }
   ],
   "source": [
    "// Репартицируем в 1 партишен и сохраняем csv на HDFS\n",
    "predictions_df.coalesce(1).write\n",
    "    .option(\"header\",true)\n",
    "    .option(\"delimiter\",\"\\t\")\n",
    "    .csv(\"lab05.csv\")"
   ]
  },
  {
   "cell_type": "code",
   "execution_count": 104,
   "metadata": {},
   "outputs": [
    {
     "name": "stdout",
     "output_type": "stream",
     "text": [
      "Found 2 items\n",
      "-rw-r--r--   3 dmitriy.kravtsov dmitriy.kravtsov          0 2022-11-09 23:34 /user/dmitriy.kravtsov/lab05.csv/_SUCCESS\n",
      "-rw-r--r--   3 dmitriy.kravtsov dmitriy.kravtsov      1.2 M 2022-11-09 23:34 /user/dmitriy.kravtsov/lab05.csv/part-00000-5d8da05a-f974-48c5-8e69-8b4efc24c74e-c000.csv\n"
     ]
    },
    {
     "data": {
      "text/plain": [
       "warning: there was one feature warning; re-run with -feature for details\n"
      ]
     },
     "metadata": {},
     "output_type": "display_data"
    },
    {
     "data": {
      "text/plain": [
       "0"
      ]
     },
     "execution_count": 104,
     "metadata": {},
     "output_type": "execute_result"
    }
   ],
   "source": [
    "// смотрим имя файла\n",
    "\"hdfs dfs -ls -h /user/dmitriy.kravtsov/lab05.csv\" !"
   ]
  },
  {
   "cell_type": "code",
   "execution_count": 103,
   "metadata": {},
   "outputs": [
    {
     "data": {
      "text/plain": [
       "warning: there was one feature warning; re-run with -feature for details\n"
      ]
     },
     "metadata": {},
     "output_type": "display_data"
    },
    {
     "data": {
      "text/plain": [
       "0"
      ]
     },
     "execution_count": 103,
     "metadata": {},
     "output_type": "execute_result"
    }
   ],
   "source": [
    "// копируем с переименованием полученный файл на локальную ФС\n",
    "\"hdfs dfs -get /user/dmitriy.kravtsov/lab05.csv/part-00000-5d8da05a-f974-48c5-8e69-8b4efc24c74e-c000.csv lab05.csv\" !"
   ]
  },
  {
   "cell_type": "code",
   "execution_count": null,
   "metadata": {},
   "outputs": [],
   "source": [
    "spark.stop()"
   ]
  }
 ],
 "metadata": {
  "kernelspec": {
   "display_name": "Apache Toree - Scala",
   "language": "scala",
   "name": "apache_toree_scala"
  },
  "language_info": {
   "codemirror_mode": "text/x-scala",
   "file_extension": ".scala",
   "mimetype": "text/x-scala",
   "name": "scala",
   "pygments_lexer": "scala",
   "version": "2.11.12"
  }
 },
 "nbformat": 4,
 "nbformat_minor": 2
}
