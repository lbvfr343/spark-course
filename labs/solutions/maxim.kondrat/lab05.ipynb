{
 "cells": [
  {
   "cell_type": "code",
   "execution_count": 2,
   "metadata": {},
   "outputs": [],
   "source": [
    "import org.apache.spark.ml.feature._\n",
    "import org.apache.spark.ml.linalg._\n",
    "import org.apache.spark.ml.stat._"
   ]
  },
  {
   "cell_type": "code",
   "execution_count": 43,
   "metadata": {},
   "outputs": [],
   "source": [
    "import org.apache.spark.sql.functions._\n",
    "import org.apache.spark.sql.types._\n",
    "import org.apache.spark.sql._\n",
    "import org.apache.spark.sql.SparkSession"
   ]
  },
  {
   "cell_type": "code",
   "execution_count": 4,
   "metadata": {},
   "outputs": [
    {
     "name": "stdout",
     "output_type": "stream",
     "text": [
      "org.apache.spark.sql.SparkSession@6fd1328a\n",
      "Spark Version : 2.4.7\n"
     ]
    },
    {
     "data": {
      "text/plain": [
       "spark = org.apache.spark.sql.SparkSession@6fd1328a\n"
      ]
     },
     "metadata": {},
     "output_type": "display_data"
    },
    {
     "data": {
      "text/plain": [
       "org.apache.spark.sql.SparkSession@6fd1328a"
      ]
     },
     "execution_count": 4,
     "metadata": {},
     "output_type": "execute_result"
    }
   ],
   "source": [
    "val spark = SparkSession.builder()\n",
    "      .master(\"local[1]\")\n",
    "      .appName(\"KMP_lab05_v1\")\n",
    "      .getOrCreate();\n",
    "  println(spark)\n",
    "  println(\"Spark Version : \"+spark.version)"
   ]
  },
  {
   "cell_type": "code",
   "execution_count": 14,
   "metadata": {},
   "outputs": [
    {
     "data": {
      "text/plain": [
       "train = [_c0: int, ID: int ... 115 more fields]\n"
      ]
     },
     "metadata": {},
     "output_type": "display_data"
    },
    {
     "data": {
      "text/plain": [
       "[_c0: int, ID: int ... 115 more fields]"
      ]
     },
     "execution_count": 14,
     "metadata": {},
     "output_type": "execute_result"
    }
   ],
   "source": [
    "var train = spark.read\n",
    "                 .option(\"header\", true)\n",
    "                 .option(\"inferSchema\", \"true\")\n",
    "                 .csv(\"/labs/slaba05/lab05_train.csv\")"
   ]
  },
  {
   "cell_type": "code",
   "execution_count": 15,
   "metadata": {},
   "outputs": [
    {
     "name": "stdout",
     "output_type": "stream",
     "text": [
      "root\n",
      " |-- _c0: integer (nullable = true)\n",
      " |-- ID: integer (nullable = true)\n",
      " |-- CR_PROD_CNT_IL: integer (nullable = true)\n",
      " |-- AMOUNT_RUB_CLO_PRC: double (nullable = true)\n",
      " |-- PRC_ACCEPTS_A_EMAIL_LINK: double (nullable = true)\n",
      " |-- APP_REGISTR_RGN_CODE: double (nullable = true)\n",
      " |-- PRC_ACCEPTS_A_POS: double (nullable = true)\n",
      " |-- PRC_ACCEPTS_A_TK: double (nullable = true)\n",
      " |-- TURNOVER_DYNAMIC_IL_1M: double (nullable = true)\n",
      " |-- CNT_TRAN_AUT_TENDENCY1M: double (nullable = true)\n",
      " |-- SUM_TRAN_AUT_TENDENCY1M: double (nullable = true)\n",
      " |-- AMOUNT_RUB_SUP_PRC: double (nullable = true)\n",
      " |-- PRC_ACCEPTS_A_AMOBILE: double (nullable = true)\n",
      " |-- SUM_TRAN_AUT_TENDENCY3M: double (nullable = true)\n",
      " |-- CLNT_TRUST_RELATION: string (nullable = true)\n",
      " |-- PRC_ACCEPTS_TK: double (nullable = true)\n",
      " |-- PRC_ACCEPTS_A_MTP: double (nullable = true)\n",
      " |-- REST_DYNAMIC_FDEP_1M: double (nullable = true)\n",
      " |-- CNT_TRAN_AUT_TENDENCY3M: double (nullable = true)\n",
      " |-- CNT_ACCEPTS_TK: double (nullable = true)\n",
      " |-- APP_MARITAL_STATUS: string (nullable = true)\n",
      " |-- REST_DYNAMIC_SAVE_3M: double (nullable = true)\n",
      " |-- CR_PROD_CNT_VCU: integer (nullable = true)\n",
      " |-- REST_AVG_CUR: double (nullable = true)\n",
      " |-- CNT_TRAN_MED_TENDENCY1M: double (nullable = true)\n",
      " |-- APP_KIND_OF_PROP_HABITATION: string (nullable = true)\n",
      " |-- CLNT_JOB_POSITION_TYPE: string (nullable = true)\n",
      " |-- AMOUNT_RUB_NAS_PRC: double (nullable = true)\n",
      " |-- CLNT_JOB_POSITION: string (nullable = true)\n",
      " |-- APP_DRIVING_LICENSE: string (nullable = true)\n",
      " |-- TRANS_COUNT_SUP_PRC: double (nullable = true)\n",
      " |-- APP_EDUCATION: string (nullable = true)\n",
      " |-- CNT_TRAN_CLO_TENDENCY1M: double (nullable = true)\n",
      " |-- SUM_TRAN_MED_TENDENCY1M: double (nullable = true)\n",
      " |-- PRC_ACCEPTS_A_ATM: double (nullable = true)\n",
      " |-- PRC_ACCEPTS_MTP: double (nullable = true)\n",
      " |-- TRANS_COUNT_NAS_PRC: double (nullable = true)\n",
      " |-- APP_TRAVEL_PASS: string (nullable = true)\n",
      " |-- CNT_ACCEPTS_MTP: double (nullable = true)\n",
      " |-- CR_PROD_CNT_TOVR: integer (nullable = true)\n",
      " |-- APP_CAR: string (nullable = true)\n",
      " |-- CR_PROD_CNT_PIL: integer (nullable = true)\n",
      " |-- SUM_TRAN_CLO_TENDENCY1M: double (nullable = true)\n",
      " |-- APP_POSITION_TYPE: string (nullable = true)\n",
      " |-- TURNOVER_CC: double (nullable = true)\n",
      " |-- TRANS_COUNT_ATM_PRC: double (nullable = true)\n",
      " |-- AMOUNT_RUB_ATM_PRC: double (nullable = true)\n",
      " |-- TURNOVER_PAYM: double (nullable = true)\n",
      " |-- AGE: integer (nullable = true)\n",
      " |-- CNT_TRAN_MED_TENDENCY3M: double (nullable = true)\n",
      " |-- CR_PROD_CNT_CC: integer (nullable = true)\n",
      " |-- SUM_TRAN_MED_TENDENCY3M: double (nullable = true)\n",
      " |-- REST_DYNAMIC_FDEP_3M: double (nullable = true)\n",
      " |-- REST_DYNAMIC_IL_1M: double (nullable = true)\n",
      " |-- APP_EMP_TYPE: string (nullable = true)\n",
      " |-- SUM_TRAN_CLO_TENDENCY3M: double (nullable = true)\n",
      " |-- LDEAL_TENOR_MAX: double (nullable = true)\n",
      " |-- LDEAL_YQZ_CHRG: double (nullable = true)\n",
      " |-- CR_PROD_CNT_CCFP: integer (nullable = true)\n",
      " |-- DEAL_YQZ_IR_MAX: double (nullable = true)\n",
      " |-- LDEAL_YQZ_COM: double (nullable = true)\n",
      " |-- DEAL_YQZ_IR_MIN: double (nullable = true)\n",
      " |-- CNT_TRAN_CLO_TENDENCY3M: double (nullable = true)\n",
      " |-- REST_DYNAMIC_CUR_1M: double (nullable = true)\n",
      " |-- REST_AVG_PAYM: double (nullable = true)\n",
      " |-- LDEAL_TENOR_MIN: double (nullable = true)\n",
      " |-- LDEAL_AMT_MONTH: double (nullable = true)\n",
      " |-- APP_COMP_TYPE: string (nullable = true)\n",
      " |-- LDEAL_GRACE_DAYS_PCT_MED: double (nullable = true)\n",
      " |-- REST_DYNAMIC_CUR_3M: double (nullable = true)\n",
      " |-- CNT_TRAN_SUP_TENDENCY3M: double (nullable = true)\n",
      " |-- TURNOVER_DYNAMIC_CUR_1M: double (nullable = true)\n",
      " |-- REST_DYNAMIC_PAYM_3M: double (nullable = true)\n",
      " |-- SUM_TRAN_SUP_TENDENCY3M: double (nullable = true)\n",
      " |-- REST_DYNAMIC_IL_3M: double (nullable = true)\n",
      " |-- CNT_TRAN_ATM_TENDENCY3M: double (nullable = true)\n",
      " |-- CNT_TRAN_ATM_TENDENCY1M: double (nullable = true)\n",
      " |-- TURNOVER_DYNAMIC_IL_3M: double (nullable = true)\n",
      " |-- SUM_TRAN_ATM_TENDENCY3M: double (nullable = true)\n",
      " |-- DEAL_GRACE_DAYS_ACC_S1X1: double (nullable = true)\n",
      " |-- AVG_PCT_MONTH_TO_PCLOSE: double (nullable = true)\n",
      " |-- DEAL_YWZ_IR_MIN: double (nullable = true)\n",
      " |-- SUM_TRAN_SUP_TENDENCY1M: double (nullable = true)\n",
      " |-- DEAL_YWZ_IR_MAX: double (nullable = true)\n",
      " |-- SUM_TRAN_ATM_TENDENCY1M: double (nullable = true)\n",
      " |-- REST_DYNAMIC_PAYM_1M: double (nullable = true)\n",
      " |-- CNT_TRAN_SUP_TENDENCY1M: double (nullable = true)\n",
      " |-- DEAL_GRACE_DAYS_ACC_AVG: double (nullable = true)\n",
      " |-- TURNOVER_DYNAMIC_CUR_3M: double (nullable = true)\n",
      " |-- PACK: string (nullable = true)\n",
      " |-- MAX_PCLOSE_DATE: double (nullable = true)\n",
      " |-- LDEAL_YQZ_PC: double (nullable = true)\n",
      " |-- CLNT_SETUP_TENOR: double (nullable = true)\n",
      " |-- DEAL_GRACE_DAYS_ACC_MAX: double (nullable = true)\n",
      " |-- TURNOVER_DYNAMIC_PAYM_3M: double (nullable = true)\n",
      " |-- LDEAL_DELINQ_PER_MAXYQZ: double (nullable = true)\n",
      " |-- TURNOVER_DYNAMIC_PAYM_1M: double (nullable = true)\n",
      " |-- CLNT_SALARY_VALUE: double (nullable = true)\n",
      " |-- TRANS_AMOUNT_TENDENCY3M: double (nullable = true)\n",
      " |-- MED_DEBT_PRC_YQZ: double (nullable = true)\n",
      " |-- TRANS_CNT_TENDENCY3M: double (nullable = true)\n",
      " |-- LDEAL_USED_AMT_AVG_YQZ: double (nullable = true)\n",
      " |-- REST_DYNAMIC_CC_1M: double (nullable = true)\n",
      " |-- LDEAL_USED_AMT_AVG_YWZ: double (nullable = true)\n",
      " |-- TURNOVER_DYNAMIC_CC_1M: double (nullable = true)\n",
      " |-- AVG_PCT_DEBT_TO_DEAL_AMT: double (nullable = true)\n",
      " |-- LDEAL_ACT_DAYS_ACC_PCT_AVG: double (nullable = true)\n",
      " |-- REST_DYNAMIC_CC_3M: double (nullable = true)\n",
      " |-- MED_DEBT_PRC_YWZ: double (nullable = true)\n",
      " |-- LDEAL_ACT_DAYS_PCT_TR3: double (nullable = true)\n",
      " |-- LDEAL_ACT_DAYS_PCT_AAVG: double (nullable = true)\n",
      " |-- LDEAL_DELINQ_PER_MAXYWZ: double (nullable = true)\n",
      " |-- TURNOVER_DYNAMIC_CC_3M: double (nullable = true)\n",
      " |-- LDEAL_ACT_DAYS_PCT_TR: double (nullable = true)\n",
      " |-- LDEAL_ACT_DAYS_PCT_TR4: double (nullable = true)\n",
      " |-- LDEAL_ACT_DAYS_PCT_CURR: double (nullable = true)\n",
      " |-- TARGET: integer (nullable = true)\n",
      "\n"
     ]
    }
   ],
   "source": [
    "train.printSchema()"
   ]
  },
  {
   "cell_type": "code",
   "execution_count": 28,
   "metadata": {},
   "outputs": [
    {
     "data": {
      "text/plain": [
       "Name: org.apache.spark.sql.AnalysisException\n",
       "Message: cannot resolve '`_c0`' given input columns: [ID, AMOUNT_RUB_NAS_PRC, PRC_ACCEPTS_A_MTP, TURNOVER_DYNAMIC_IL_3M, LDEAL_DELINQ_PER_MAXYQZ, CNT_TRAN_SUP_TENDENCY1M, CR_PROD_CNT_CC, LDEAL_AMT_MONTH, REST_AVG_PAYM, PRC_ACCEPTS_A_TK, REST_DYNAMIC_PAYM_1M, TRANS_AMOUNT_TENDENCY3M, DEAL_YWZ_IR_MAX, MAX_PCLOSE_DATE, SUM_TRAN_ATM_TENDENCY3M, CR_PROD_CNT_CCFP, LDEAL_ACT_DAYS_PCT_TR, LDEAL_TENOR_MIN, TRANS_COUNT_SUP_PRC, LDEAL_YQZ_COM, APP_REGISTR_RGN_CODE, TURNOVER_PAYM, REST_DYNAMIC_SAVE_3M, CNT_ACCEPTS_TK, CNT_TRAN_CLO_TENDENCY3M, CNT_TRAN_AUT_TENDENCY3M, CNT_TRAN_AUT_TENDENCY1M, DEAL_YQZ_IR_MAX, TURNOVER_DYNAMIC_IL_1M, PRC_ACCEPTS_A_EMAIL_LINK, CR_PROD_CNT_VCU, DEAL_GRACE_DAYS_ACC_MAX, CR_PROD_CNT_IL, TRANS_COUNT_ATM_PRC, REST_DYNAMIC_CC_3M, DEAL_YWZ_IR_MIN, LDEAL_TENOR_MAX, REST_DYNAMIC_IL_1M, SUM_TRAN_MED_TENDENCY1M, CR_PROD_CNT_TOVR, REST_DYNAMIC_FDEP_3M, LDEAL_USED_AMT_AVG_YWZ, TRANS_COUNT_NAS_PRC, SUM_TRAN_AUT_TENDENCY3M, SUM_TRAN_ATM_TENDENCY1M, TURNOVER_DYNAMIC_CUR_3M, PRC_ACCEPTS_A_POS, SUM_TRAN_CLO_TENDENCY3M, CNT_TRAN_CLO_TENDENCY1M, AVG_PCT_MONTH_TO_PCLOSE, TURNOVER_DYNAMIC_CUR_1M, DEAL_GRACE_DAYS_ACC_S1X1, CNT_TRAN_ATM_TENDENCY1M, PRC_ACCEPTS_A_AMOBILE, LDEAL_ACT_DAYS_PCT_CURR, DEAL_GRACE_DAYS_ACC_AVG, SUM_TRAN_MED_TENDENCY3M, REST_DYNAMIC_CC_1M, LDEAL_GRACE_DAYS_PCT_MED, REST_DYNAMIC_IL_3M, DEAL_YQZ_IR_MIN, LDEAL_ACT_DAYS_PCT_AAVG, PRC_ACCEPTS_TK, AMOUNT_RUB_CLO_PRC, LDEAL_USED_AMT_AVG_YQZ, AVG_PCT_DEBT_TO_DEAL_AMT, SUM_TRAN_AUT_TENDENCY1M, TURNOVER_DYNAMIC_CC_1M, SUM_TRAN_SUP_TENDENCY3M, LDEAL_ACT_DAYS_ACC_PCT_AVG, REST_DYNAMIC_PAYM_3M, TURNOVER_DYNAMIC_PAYM_1M, LDEAL_DELINQ_PER_MAXYWZ, LDEAL_YQZ_PC, CNT_ACCEPTS_MTP, TURNOVER_DYNAMIC_PAYM_3M, CR_PROD_CNT_PIL, REST_AVG_CUR, REST_DYNAMIC_FDEP_1M, LDEAL_YQZ_CHRG, PRC_ACCEPTS_A_ATM, CNT_TRAN_ATM_TENDENCY3M, REST_DYNAMIC_CUR_3M, LDEAL_ACT_DAYS_PCT_TR3, REST_DYNAMIC_CUR_1M, CNT_TRAN_MED_TENDENCY3M, CNT_TRAN_MED_TENDENCY1M, CLNT_SETUP_TENOR, TARGET, CLNT_SALARY_VALUE, PRC_ACCEPTS_MTP, AMOUNT_RUB_ATM_PRC, TURNOVER_DYNAMIC_CC_3M, CNT_TRAN_SUP_TENDENCY3M, MED_DEBT_PRC_YQZ, SUM_TRAN_SUP_TENDENCY1M, LDEAL_ACT_DAYS_PCT_TR4, AMOUNT_RUB_SUP_PRC, TRANS_CNT_TENDENCY3M, MED_DEBT_PRC_YWZ, SUM_TRAN_CLO_TENDENCY1M, AGE, TURNOVER_CC];;\n",
       "'Project ['_c0, ID#1541]\n",
       "+- Project [ID#1541, CR_PROD_CNT_IL#1542, AMOUNT_RUB_CLO_PRC#1543, PRC_ACCEPTS_A_EMAIL_LINK#1544, APP_REGISTR_RGN_CODE#1545, PRC_ACCEPTS_A_POS#1546, PRC_ACCEPTS_A_TK#1547, TURNOVER_DYNAMIC_IL_1M#1548, CNT_TRAN_AUT_TENDENCY1M#1549, SUM_TRAN_AUT_TENDENCY1M#1550, AMOUNT_RUB_SUP_PRC#1551, PRC_ACCEPTS_A_AMOBILE#1552, SUM_TRAN_AUT_TENDENCY3M#1553, PRC_ACCEPTS_TK#1554, PRC_ACCEPTS_A_MTP#1555, REST_DYNAMIC_FDEP_1M#1556, CNT_TRAN_AUT_TENDENCY3M#1557, CNT_ACCEPTS_TK#1558, REST_DYNAMIC_SAVE_3M#1559, CR_PROD_CNT_VCU#1560, REST_AVG_CUR#1561, CNT_TRAN_MED_TENDENCY1M#1562, AMOUNT_RUB_NAS_PRC#1563, TRANS_COUNT_SUP_PRC#1564, ... 79 more fields]\n",
       "   +- Project [coalesce(_c0#856, cast(0 as int)) AS _c0#1540, coalesce(ID#857, cast(0 as int)) AS ID#1541, coalesce(CR_PROD_CNT_IL#858, cast(0 as int)) AS CR_PROD_CNT_IL#1542, coalesce(nanvl(AMOUNT_RUB_CLO_PRC#859, cast(null as double)), cast(0 as double)) AS AMOUNT_RUB_CLO_PRC#1543, coalesce(nanvl(PRC_ACCEPTS_A_EMAIL_LINK#860, cast(null as double)), cast(0 as double)) AS PRC_ACCEPTS_A_EMAIL_LINK#1544, coalesce(nanvl(APP_REGISTR_RGN_CODE#861, cast(null as double)), cast(0 as double)) AS APP_REGISTR_RGN_CODE#1545, coalesce(nanvl(PRC_ACCEPTS_A_POS#862, cast(null as double)), cast(0 as double)) AS PRC_ACCEPTS_A_POS#1546, coalesce(nanvl(PRC_ACCEPTS_A_TK#863, cast(null as double)), cast(0 as double)) AS PRC_ACCEPTS_A_TK#1547, coalesce(nanvl(TURNOVER_DYNAMIC_IL_1M#864, cast(null as double)), cast(0 as double)) AS TURNOVER_DYNAMIC_IL_1M#1548, coalesce(nanvl(CNT_TRAN_AUT_TENDENCY1M#865, cast(null as double)), cast(0 as double)) AS CNT_TRAN_AUT_TENDENCY1M#1549, coalesce(nanvl(SUM_TRAN_AUT_TENDENCY1M#866, cast(null as double)), cast(0 as double)) AS SUM_TRAN_AUT_TENDENCY1M#1550, coalesce(nanvl(AMOUNT_RUB_SUP_PRC#867, cast(null as double)), cast(0 as double)) AS AMOUNT_RUB_SUP_PRC#1551, coalesce(nanvl(PRC_ACCEPTS_A_AMOBILE#868, cast(null as double)), cast(0 as double)) AS PRC_ACCEPTS_A_AMOBILE#1552, coalesce(nanvl(SUM_TRAN_AUT_TENDENCY3M#869, cast(null as double)), cast(0 as double)) AS SUM_TRAN_AUT_TENDENCY3M#1553, coalesce(nanvl(PRC_ACCEPTS_TK#871, cast(null as double)), cast(0 as double)) AS PRC_ACCEPTS_TK#1554, coalesce(nanvl(PRC_ACCEPTS_A_MTP#872, cast(null as double)), cast(0 as double)) AS PRC_ACCEPTS_A_MTP#1555, coalesce(nanvl(REST_DYNAMIC_FDEP_1M#873, cast(null as double)), cast(0 as double)) AS REST_DYNAMIC_FDEP_1M#1556, coalesce(nanvl(CNT_TRAN_AUT_TENDENCY3M#874, cast(null as double)), cast(0 as double)) AS CNT_TRAN_AUT_TENDENCY3M#1557, coalesce(nanvl(CNT_ACCEPTS_TK#875, cast(null as double)), cast(0 as double)) AS CNT_ACCEPTS_TK#1558, coalesce(nanvl(REST_DYNAMIC_SAVE_3M#877, cast(null as double)), cast(0 as double)) AS REST_DYNAMIC_SAVE_3M#1559, coalesce(CR_PROD_CNT_VCU#878, cast(0 as int)) AS CR_PROD_CNT_VCU#1560, coalesce(nanvl(REST_AVG_CUR#879, cast(null as double)), cast(0 as double)) AS REST_AVG_CUR#1561, coalesce(nanvl(CNT_TRAN_MED_TENDENCY1M#880, cast(null as double)), cast(0 as double)) AS CNT_TRAN_MED_TENDENCY1M#1562, coalesce(nanvl(AMOUNT_RUB_NAS_PRC#883, cast(null as double)), cast(0 as double)) AS AMOUNT_RUB_NAS_PRC#1563, ... 80 more fields]\n",
       "      +- Project [_c0#856, ID#857, CR_PROD_CNT_IL#858, AMOUNT_RUB_CLO_PRC#859, PRC_ACCEPTS_A_EMAIL_LINK#860, APP_REGISTR_RGN_CODE#861, PRC_ACCEPTS_A_POS#862, PRC_ACCEPTS_A_TK#863, TURNOVER_DYNAMIC_IL_1M#864, CNT_TRAN_AUT_TENDENCY1M#865, SUM_TRAN_AUT_TENDENCY1M#866, AMOUNT_RUB_SUP_PRC#867, PRC_ACCEPTS_A_AMOBILE#868, SUM_TRAN_AUT_TENDENCY3M#869, PRC_ACCEPTS_TK#871, PRC_ACCEPTS_A_MTP#872, REST_DYNAMIC_FDEP_1M#873, CNT_TRAN_AUT_TENDENCY3M#874, CNT_ACCEPTS_TK#875, REST_DYNAMIC_SAVE_3M#877, CR_PROD_CNT_VCU#878, REST_AVG_CUR#879, CNT_TRAN_MED_TENDENCY1M#880, AMOUNT_RUB_NAS_PRC#883, ... 80 more fields]\n",
       "         +- Relation[_c0#856,ID#857,CR_PROD_CNT_IL#858,AMOUNT_RUB_CLO_PRC#859,PRC_ACCEPTS_A_EMAIL_LINK#860,APP_REGISTR_RGN_CODE#861,PRC_ACCEPTS_A_POS#862,PRC_ACCEPTS_A_TK#863,TURNOVER_DYNAMIC_IL_1M#864,CNT_TRAN_AUT_TENDENCY1M#865,SUM_TRAN_AUT_TENDENCY1M#866,AMOUNT_RUB_SUP_PRC#867,PRC_ACCEPTS_A_AMOBILE#868,SUM_TRAN_AUT_TENDENCY3M#869,CLNT_TRUST_RELATION#870,PRC_ACCEPTS_TK#871,PRC_ACCEPTS_A_MTP#872,REST_DYNAMIC_FDEP_1M#873,CNT_TRAN_AUT_TENDENCY3M#874,CNT_ACCEPTS_TK#875,APP_MARITAL_STATUS#876,REST_DYNAMIC_SAVE_3M#877,CR_PROD_CNT_VCU#878,REST_AVG_CUR#879,... 93 more fields] csv\n",
       "\n",
       "StackTrace: 'Project ['_c0, ID#1541]\n",
       "+- Project [ID#1541, CR_PROD_CNT_IL#1542, AMOUNT_RUB_CLO_PRC#1543, PRC_ACCEPTS_A_EMAIL_LINK#1544, APP_REGISTR_RGN_CODE#1545, PRC_ACCEPTS_A_POS#1546, PRC_ACCEPTS_A_TK#1547, TURNOVER_DYNAMIC_IL_1M#1548, CNT_TRAN_AUT_TENDENCY1M#1549, SUM_TRAN_AUT_TENDENCY1M#1550, AMOUNT_RUB_SUP_PRC#1551, PRC_ACCEPTS_A_AMOBILE#1552, SUM_TRAN_AUT_TENDENCY3M#1553, PRC_ACCEPTS_TK#1554, PRC_ACCEPTS_A_MTP#1555, REST_DYNAMIC_FDEP_1M#1556, CNT_TRAN_AUT_TENDENCY3M#1557, CNT_ACCEPTS_TK#1558, REST_DYNAMIC_SAVE_3M#1559, CR_PROD_CNT_VCU#1560, REST_AVG_CUR#1561, CNT_TRAN_MED_TENDENCY1M#1562, AMOUNT_RUB_NAS_PRC#1563, TRANS_COUNT_SUP_PRC#1564, ... 79 more fields]\n",
       "   +- Project [coalesce(_c0#856, cast(0 as int)) AS _c0#1540, coalesce(ID#857, cast(0 as int)) AS ID#1541, coalesce(CR_PROD_CNT_IL#858, cast(0 as int)) AS CR_PROD_CNT_IL#1542, coalesce(nanvl(AMOUNT_RUB_CLO_PRC#859, cast(null as double)), cast(0 as double)) AS AMOUNT_RUB_CLO_PRC#1543, coalesce(nanvl(PRC_ACCEPTS_A_EMAIL_LINK#860, cast(null as double)), cast(0 as double)) AS PRC_ACCEPTS_A_EMAIL_LINK#1544, coalesce(nanvl(APP_REGISTR_RGN_CODE#861, cast(null as double)), cast(0 as double)) AS APP_REGISTR_RGN_CODE#1545, coalesce(nanvl(PRC_ACCEPTS_A_POS#862, cast(null as double)), cast(0 as double)) AS PRC_ACCEPTS_A_POS#1546, coalesce(nanvl(PRC_ACCEPTS_A_TK#863, cast(null as double)), cast(0 as double)) AS PRC_ACCEPTS_A_TK#1547, coalesce(nanvl(TURNOVER_DYNAMIC_IL_1M#864, cast(null as double)), cast(0 as double)) AS TURNOVER_DYNAMIC_IL_1M#1548, coalesce(nanvl(CNT_TRAN_AUT_TENDENCY1M#865, cast(null as double)), cast(0 as double)) AS CNT_TRAN_AUT_TENDENCY1M#1549, coalesce(nanvl(SUM_TRAN_AUT_TENDENCY1M#866, cast(null as double)), cast(0 as double)) AS SUM_TRAN_AUT_TENDENCY1M#1550, coalesce(nanvl(AMOUNT_RUB_SUP_PRC#867, cast(null as double)), cast(0 as double)) AS AMOUNT_RUB_SUP_PRC#1551, coalesce(nanvl(PRC_ACCEPTS_A_AMOBILE#868, cast(null as double)), cast(0 as double)) AS PRC_ACCEPTS_A_AMOBILE#1552, coalesce(nanvl(SUM_TRAN_AUT_TENDENCY3M#869, cast(null as double)), cast(0 as double)) AS SUM_TRAN_AUT_TENDENCY3M#1553, coalesce(nanvl(PRC_ACCEPTS_TK#871, cast(null as double)), cast(0 as double)) AS PRC_ACCEPTS_TK#1554, coalesce(nanvl(PRC_ACCEPTS_A_MTP#872, cast(null as double)), cast(0 as double)) AS PRC_ACCEPTS_A_MTP#1555, coalesce(nanvl(REST_DYNAMIC_FDEP_1M#873, cast(null as double)), cast(0 as double)) AS REST_DYNAMIC_FDEP_1M#1556, coalesce(nanvl(CNT_TRAN_AUT_TENDENCY3M#874, cast(null as double)), cast(0 as double)) AS CNT_TRAN_AUT_TENDENCY3M#1557, coalesce(nanvl(CNT_ACCEPTS_TK#875, cast(null as double)), cast(0 as double)) AS CNT_ACCEPTS_TK#1558, coalesce(nanvl(REST_DYNAMIC_SAVE_3M#877, cast(null as double)), cast(0 as double)) AS REST_DYNAMIC_SAVE_3M#1559, coalesce(CR_PROD_CNT_VCU#878, cast(0 as int)) AS CR_PROD_CNT_VCU#1560, coalesce(nanvl(REST_AVG_CUR#879, cast(null as double)), cast(0 as double)) AS REST_AVG_CUR#1561, coalesce(nanvl(CNT_TRAN_MED_TENDENCY1M#880, cast(null as double)), cast(0 as double)) AS CNT_TRAN_MED_TENDENCY1M#1562, coalesce(nanvl(AMOUNT_RUB_NAS_PRC#883, cast(null as double)), cast(0 as double)) AS AMOUNT_RUB_NAS_PRC#1563, ... 80 more fields]\n",
       "      +- Project [_c0#856, ID#857, CR_PROD_CNT_IL#858, AMOUNT_RUB_CLO_PRC#859, PRC_ACCEPTS_A_EMAIL_LINK#860, APP_REGISTR_RGN_CODE#861, PRC_ACCEPTS_A_POS#862, PRC_ACCEPTS_A_TK#863, TURNOVER_DYNAMIC_IL_1M#864, CNT_TRAN_AUT_TENDENCY1M#865, SUM_TRAN_AUT_TENDENCY1M#866, AMOUNT_RUB_SUP_PRC#867, PRC_ACCEPTS_A_AMOBILE#868, SUM_TRAN_AUT_TENDENCY3M#869, PRC_ACCEPTS_TK#871, PRC_ACCEPTS_A_MTP#872, REST_DYNAMIC_FDEP_1M#873, CNT_TRAN_AUT_TENDENCY3M#874, CNT_ACCEPTS_TK#875, REST_DYNAMIC_SAVE_3M#877, CR_PROD_CNT_VCU#878, REST_AVG_CUR#879, CNT_TRAN_MED_TENDENCY1M#880, AMOUNT_RUB_NAS_PRC#883, ... 80 more fields]\n",
       "         +- Relation[_c0#856,ID#857,CR_PROD_CNT_IL#858,AMOUNT_RUB_CLO_PRC#859,PRC_ACCEPTS_A_EMAIL_LINK#860,APP_REGISTR_RGN_CODE#861,PRC_ACCEPTS_A_POS#862,PRC_ACCEPTS_A_TK#863,TURNOVER_DYNAMIC_IL_1M#864,CNT_TRAN_AUT_TENDENCY1M#865,SUM_TRAN_AUT_TENDENCY1M#866,AMOUNT_RUB_SUP_PRC#867,PRC_ACCEPTS_A_AMOBILE#868,SUM_TRAN_AUT_TENDENCY3M#869,CLNT_TRUST_RELATION#870,PRC_ACCEPTS_TK#871,PRC_ACCEPTS_A_MTP#872,REST_DYNAMIC_FDEP_1M#873,CNT_TRAN_AUT_TENDENCY3M#874,CNT_ACCEPTS_TK#875,APP_MARITAL_STATUS#876,REST_DYNAMIC_SAVE_3M#877,CR_PROD_CNT_VCU#878,REST_AVG_CUR#879,... 93 more fields] csv\n",
       "  at org.apache.spark.sql.catalyst.analysis.package$AnalysisErrorAt.failAnalysis(package.scala:42)\n",
       "  at org.apache.spark.sql.catalyst.analysis.CheckAnalysis$$anonfun$checkAnalysis$1$$anonfun$apply$3.applyOrElse(CheckAnalysis.scala:111)\n",
       "  at org.apache.spark.sql.catalyst.analysis.CheckAnalysis$$anonfun$checkAnalysis$1$$anonfun$apply$3.applyOrElse(CheckAnalysis.scala:108)\n",
       "  at org.apache.spark.sql.catalyst.trees.TreeNode$$anonfun$transformUp$1.apply(TreeNode.scala:280)\n",
       "  at org.apache.spark.sql.catalyst.trees.TreeNode$$anonfun$transformUp$1.apply(TreeNode.scala:280)\n",
       "  at org.apache.spark.sql.catalyst.trees.CurrentOrigin$.withOrigin(TreeNode.scala:69)\n",
       "  at org.apache.spark.sql.catalyst.trees.TreeNode.transformUp(TreeNode.scala:279)\n",
       "  at org.apache.spark.sql.catalyst.plans.QueryPlan$$anonfun$transformExpressionsUp$1.apply(QueryPlan.scala:93)\n",
       "  at org.apache.spark.sql.catalyst.plans.QueryPlan$$anonfun$transformExpressionsUp$1.apply(QueryPlan.scala:93)\n",
       "  at org.apache.spark.sql.catalyst.plans.QueryPlan$$anonfun$1.apply(QueryPlan.scala:105)\n",
       "  at org.apache.spark.sql.catalyst.plans.QueryPlan$$anonfun$1.apply(QueryPlan.scala:105)\n",
       "  at org.apache.spark.sql.catalyst.trees.CurrentOrigin$.withOrigin(TreeNode.scala:69)\n",
       "  at org.apache.spark.sql.catalyst.plans.QueryPlan.transformExpression$1(QueryPlan.scala:104)\n",
       "  at org.apache.spark.sql.catalyst.plans.QueryPlan.org$apache$spark$sql$catalyst$plans$QueryPlan$$recursiveTransform$1(QueryPlan.scala:116)\n",
       "  at org.apache.spark.sql.catalyst.plans.QueryPlan$$anonfun$org$apache$spark$sql$catalyst$plans$QueryPlan$$recursiveTransform$1$2.apply(QueryPlan.scala:121)\n",
       "  at scala.collection.TraversableLike$$anonfun$map$1.apply(TraversableLike.scala:234)\n",
       "  at scala.collection.TraversableLike$$anonfun$map$1.apply(TraversableLike.scala:234)\n",
       "  at scala.collection.mutable.ResizableArray$class.foreach(ResizableArray.scala:59)\n",
       "  at scala.collection.mutable.ArrayBuffer.foreach(ArrayBuffer.scala:48)\n",
       "  at scala.collection.TraversableLike$class.map(TraversableLike.scala:234)\n",
       "  at scala.collection.AbstractTraversable.map(Traversable.scala:104)\n",
       "  at org.apache.spark.sql.catalyst.plans.QueryPlan.org$apache$spark$sql$catalyst$plans$QueryPlan$$recursiveTransform$1(QueryPlan.scala:121)\n",
       "  at org.apache.spark.sql.catalyst.plans.QueryPlan$$anonfun$2.apply(QueryPlan.scala:126)\n",
       "  at org.apache.spark.sql.catalyst.trees.TreeNode.mapProductIterator(TreeNode.scala:186)\n",
       "  at org.apache.spark.sql.catalyst.plans.QueryPlan.mapExpressions(QueryPlan.scala:126)\n",
       "  at org.apache.spark.sql.catalyst.plans.QueryPlan.transformExpressionsUp(QueryPlan.scala:93)\n",
       "  at org.apache.spark.sql.catalyst.analysis.CheckAnalysis$$anonfun$checkAnalysis$1.apply(CheckAnalysis.scala:108)\n",
       "  at org.apache.spark.sql.catalyst.analysis.CheckAnalysis$$anonfun$checkAnalysis$1.apply(CheckAnalysis.scala:86)\n",
       "  at org.apache.spark.sql.catalyst.trees.TreeNode.foreachUp(TreeNode.scala:126)\n",
       "  at org.apache.spark.sql.catalyst.analysis.CheckAnalysis$class.checkAnalysis(CheckAnalysis.scala:86)\n",
       "  at org.apache.spark.sql.catalyst.analysis.Analyzer.checkAnalysis(Analyzer.scala:95)\n",
       "  at org.apache.spark.sql.catalyst.analysis.Analyzer$$anonfun$executeAndCheck$1.apply(Analyzer.scala:108)\n",
       "  at org.apache.spark.sql.catalyst.analysis.Analyzer$$anonfun$executeAndCheck$1.apply(Analyzer.scala:105)\n",
       "  at org.apache.spark.sql.catalyst.plans.logical.AnalysisHelper$.markInAnalyzer(AnalysisHelper.scala:201)\n",
       "  at org.apache.spark.sql.catalyst.analysis.Analyzer.executeAndCheck(Analyzer.scala:105)\n",
       "  at org.apache.spark.sql.execution.QueryExecution.analyzed$lzycompute(QueryExecution.scala:58)\n",
       "  at org.apache.spark.sql.execution.QueryExecution.analyzed(QueryExecution.scala:56)\n",
       "  at org.apache.spark.sql.execution.QueryExecution.assertAnalyzed(QueryExecution.scala:48)\n",
       "  at org.apache.spark.sql.Dataset$.ofRows(Dataset.scala:78)\n",
       "  at org.apache.spark.sql.Dataset.org$apache$spark$sql$Dataset$$withPlan(Dataset.scala:3412)\n",
       "  at org.apache.spark.sql.Dataset.select(Dataset.scala:1340)\n",
       "  at org.apache.spark.sql.Dataset.select(Dataset.scala:1358)"
      ]
     },
     "execution_count": 28,
     "metadata": {},
     "output_type": "execute_result"
    }
   ],
   "source": [
    "train.select(\"_c0\", \"ID\").sort(\"_c0\").show(25)"
   ]
  },
  {
   "cell_type": "markdown",
   "metadata": {},
   "source": [
    "Очевидно что столбец \"_с0\" - это порядковый индекс в таблице"
   ]
  },
  {
   "cell_type": "code",
   "execution_count": 27,
   "metadata": {},
   "outputs": [
    {
     "data": {
      "text/plain": [
       "train = [ID: int, CR_PROD_CNT_IL: int ... 101 more fields]\n"
      ]
     },
     "metadata": {},
     "output_type": "display_data"
    },
    {
     "data": {
      "text/plain": [
       "[ID: int, CR_PROD_CNT_IL: int ... 101 more fields]"
      ]
     },
     "execution_count": 27,
     "metadata": {},
     "output_type": "execute_result"
    }
   ],
   "source": [
    "train = train.drop(\"_c0\")"
   ]
  },
  {
   "cell_type": "code",
   "execution_count": 16,
   "metadata": {},
   "outputs": [
    {
     "data": {
      "text/plain": [
       "test = [_c0: int, ID: int ... 114 more fields]\n"
      ]
     },
     "metadata": {},
     "output_type": "display_data"
    },
    {
     "data": {
      "text/plain": [
       "[_c0: int, ID: int ... 114 more fields]"
      ]
     },
     "execution_count": 16,
     "metadata": {},
     "output_type": "execute_result"
    }
   ],
   "source": [
    "var test = spark.read\n",
    "                 .option(\"header\", true)\n",
    "                 .option(\"inferSchema\", \"true\")\n",
    "                 .csv(\"/labs/slaba05/lab05_test.csv\")"
   ]
  },
  {
   "cell_type": "code",
   "execution_count": 17,
   "metadata": {},
   "outputs": [
    {
     "name": "stdout",
     "output_type": "stream",
     "text": [
      "root\n",
      " |-- _c0: integer (nullable = true)\n",
      " |-- ID: integer (nullable = true)\n",
      " |-- CR_PROD_CNT_IL: integer (nullable = true)\n",
      " |-- AMOUNT_RUB_CLO_PRC: double (nullable = true)\n",
      " |-- PRC_ACCEPTS_A_EMAIL_LINK: double (nullable = true)\n",
      " |-- APP_REGISTR_RGN_CODE: double (nullable = true)\n",
      " |-- PRC_ACCEPTS_A_POS: double (nullable = true)\n",
      " |-- PRC_ACCEPTS_A_TK: double (nullable = true)\n",
      " |-- TURNOVER_DYNAMIC_IL_1M: double (nullable = true)\n",
      " |-- CNT_TRAN_AUT_TENDENCY1M: double (nullable = true)\n",
      " |-- SUM_TRAN_AUT_TENDENCY1M: double (nullable = true)\n",
      " |-- AMOUNT_RUB_SUP_PRC: double (nullable = true)\n",
      " |-- PRC_ACCEPTS_A_AMOBILE: double (nullable = true)\n",
      " |-- SUM_TRAN_AUT_TENDENCY3M: double (nullable = true)\n",
      " |-- CLNT_TRUST_RELATION: string (nullable = true)\n",
      " |-- PRC_ACCEPTS_TK: double (nullable = true)\n",
      " |-- PRC_ACCEPTS_A_MTP: double (nullable = true)\n",
      " |-- REST_DYNAMIC_FDEP_1M: double (nullable = true)\n",
      " |-- CNT_TRAN_AUT_TENDENCY3M: double (nullable = true)\n",
      " |-- CNT_ACCEPTS_TK: double (nullable = true)\n",
      " |-- APP_MARITAL_STATUS: string (nullable = true)\n",
      " |-- REST_DYNAMIC_SAVE_3M: double (nullable = true)\n",
      " |-- CR_PROD_CNT_VCU: integer (nullable = true)\n",
      " |-- REST_AVG_CUR: double (nullable = true)\n",
      " |-- CNT_TRAN_MED_TENDENCY1M: double (nullable = true)\n",
      " |-- APP_KIND_OF_PROP_HABITATION: string (nullable = true)\n",
      " |-- CLNT_JOB_POSITION_TYPE: string (nullable = true)\n",
      " |-- AMOUNT_RUB_NAS_PRC: double (nullable = true)\n",
      " |-- CLNT_JOB_POSITION: string (nullable = true)\n",
      " |-- APP_DRIVING_LICENSE: string (nullable = true)\n",
      " |-- TRANS_COUNT_SUP_PRC: double (nullable = true)\n",
      " |-- APP_EDUCATION: string (nullable = true)\n",
      " |-- CNT_TRAN_CLO_TENDENCY1M: double (nullable = true)\n",
      " |-- SUM_TRAN_MED_TENDENCY1M: double (nullable = true)\n",
      " |-- PRC_ACCEPTS_A_ATM: double (nullable = true)\n",
      " |-- PRC_ACCEPTS_MTP: double (nullable = true)\n",
      " |-- TRANS_COUNT_NAS_PRC: double (nullable = true)\n",
      " |-- APP_TRAVEL_PASS: string (nullable = true)\n",
      " |-- CNT_ACCEPTS_MTP: double (nullable = true)\n",
      " |-- CR_PROD_CNT_TOVR: integer (nullable = true)\n",
      " |-- APP_CAR: string (nullable = true)\n",
      " |-- CR_PROD_CNT_PIL: integer (nullable = true)\n",
      " |-- SUM_TRAN_CLO_TENDENCY1M: double (nullable = true)\n",
      " |-- APP_POSITION_TYPE: string (nullable = true)\n",
      " |-- TURNOVER_CC: double (nullable = true)\n",
      " |-- TRANS_COUNT_ATM_PRC: double (nullable = true)\n",
      " |-- AMOUNT_RUB_ATM_PRC: double (nullable = true)\n",
      " |-- TURNOVER_PAYM: double (nullable = true)\n",
      " |-- AGE: integer (nullable = true)\n",
      " |-- CNT_TRAN_MED_TENDENCY3M: double (nullable = true)\n",
      " |-- CR_PROD_CNT_CC: integer (nullable = true)\n",
      " |-- SUM_TRAN_MED_TENDENCY3M: double (nullable = true)\n",
      " |-- REST_DYNAMIC_FDEP_3M: double (nullable = true)\n",
      " |-- REST_DYNAMIC_IL_1M: double (nullable = true)\n",
      " |-- APP_EMP_TYPE: string (nullable = true)\n",
      " |-- SUM_TRAN_CLO_TENDENCY3M: double (nullable = true)\n",
      " |-- LDEAL_TENOR_MAX: double (nullable = true)\n",
      " |-- LDEAL_YQZ_CHRG: double (nullable = true)\n",
      " |-- CR_PROD_CNT_CCFP: integer (nullable = true)\n",
      " |-- DEAL_YQZ_IR_MAX: double (nullable = true)\n",
      " |-- LDEAL_YQZ_COM: double (nullable = true)\n",
      " |-- DEAL_YQZ_IR_MIN: double (nullable = true)\n",
      " |-- CNT_TRAN_CLO_TENDENCY3M: double (nullable = true)\n",
      " |-- REST_DYNAMIC_CUR_1M: double (nullable = true)\n",
      " |-- REST_AVG_PAYM: double (nullable = true)\n",
      " |-- LDEAL_TENOR_MIN: double (nullable = true)\n",
      " |-- LDEAL_AMT_MONTH: double (nullable = true)\n",
      " |-- APP_COMP_TYPE: string (nullable = true)\n",
      " |-- LDEAL_GRACE_DAYS_PCT_MED: double (nullable = true)\n",
      " |-- REST_DYNAMIC_CUR_3M: double (nullable = true)\n",
      " |-- CNT_TRAN_SUP_TENDENCY3M: double (nullable = true)\n",
      " |-- TURNOVER_DYNAMIC_CUR_1M: double (nullable = true)\n",
      " |-- REST_DYNAMIC_PAYM_3M: double (nullable = true)\n",
      " |-- SUM_TRAN_SUP_TENDENCY3M: double (nullable = true)\n",
      " |-- REST_DYNAMIC_IL_3M: double (nullable = true)\n",
      " |-- CNT_TRAN_ATM_TENDENCY3M: double (nullable = true)\n",
      " |-- CNT_TRAN_ATM_TENDENCY1M: double (nullable = true)\n",
      " |-- TURNOVER_DYNAMIC_IL_3M: double (nullable = true)\n",
      " |-- SUM_TRAN_ATM_TENDENCY3M: double (nullable = true)\n",
      " |-- DEAL_GRACE_DAYS_ACC_S1X1: double (nullable = true)\n",
      " |-- AVG_PCT_MONTH_TO_PCLOSE: double (nullable = true)\n",
      " |-- DEAL_YWZ_IR_MIN: double (nullable = true)\n",
      " |-- SUM_TRAN_SUP_TENDENCY1M: double (nullable = true)\n",
      " |-- DEAL_YWZ_IR_MAX: double (nullable = true)\n",
      " |-- SUM_TRAN_ATM_TENDENCY1M: double (nullable = true)\n",
      " |-- REST_DYNAMIC_PAYM_1M: double (nullable = true)\n",
      " |-- CNT_TRAN_SUP_TENDENCY1M: double (nullable = true)\n",
      " |-- DEAL_GRACE_DAYS_ACC_AVG: double (nullable = true)\n",
      " |-- TURNOVER_DYNAMIC_CUR_3M: double (nullable = true)\n",
      " |-- PACK: string (nullable = true)\n",
      " |-- MAX_PCLOSE_DATE: double (nullable = true)\n",
      " |-- LDEAL_YQZ_PC: double (nullable = true)\n",
      " |-- CLNT_SETUP_TENOR: double (nullable = true)\n",
      " |-- DEAL_GRACE_DAYS_ACC_MAX: double (nullable = true)\n",
      " |-- TURNOVER_DYNAMIC_PAYM_3M: double (nullable = true)\n",
      " |-- LDEAL_DELINQ_PER_MAXYQZ: double (nullable = true)\n",
      " |-- TURNOVER_DYNAMIC_PAYM_1M: double (nullable = true)\n",
      " |-- CLNT_SALARY_VALUE: double (nullable = true)\n",
      " |-- TRANS_AMOUNT_TENDENCY3M: double (nullable = true)\n",
      " |-- MED_DEBT_PRC_YQZ: double (nullable = true)\n",
      " |-- TRANS_CNT_TENDENCY3M: double (nullable = true)\n",
      " |-- LDEAL_USED_AMT_AVG_YQZ: double (nullable = true)\n",
      " |-- REST_DYNAMIC_CC_1M: double (nullable = true)\n",
      " |-- LDEAL_USED_AMT_AVG_YWZ: double (nullable = true)\n",
      " |-- TURNOVER_DYNAMIC_CC_1M: double (nullable = true)\n",
      " |-- AVG_PCT_DEBT_TO_DEAL_AMT: double (nullable = true)\n",
      " |-- LDEAL_ACT_DAYS_ACC_PCT_AVG: double (nullable = true)\n",
      " |-- REST_DYNAMIC_CC_3M: double (nullable = true)\n",
      " |-- MED_DEBT_PRC_YWZ: double (nullable = true)\n",
      " |-- LDEAL_ACT_DAYS_PCT_TR3: double (nullable = true)\n",
      " |-- LDEAL_ACT_DAYS_PCT_AAVG: double (nullable = true)\n",
      " |-- LDEAL_DELINQ_PER_MAXYWZ: double (nullable = true)\n",
      " |-- TURNOVER_DYNAMIC_CC_3M: double (nullable = true)\n",
      " |-- LDEAL_ACT_DAYS_PCT_TR: double (nullable = true)\n",
      " |-- LDEAL_ACT_DAYS_PCT_TR4: double (nullable = true)\n",
      " |-- LDEAL_ACT_DAYS_PCT_CURR: double (nullable = true)\n",
      "\n"
     ]
    }
   ],
   "source": [
    "test.printSchema()"
   ]
  },
  {
   "cell_type": "code",
   "execution_count": 30,
   "metadata": {},
   "outputs": [
    {
     "data": {
      "text/plain": [
       "test = [ID: int, CR_PROD_CNT_IL: int ... 100 more fields]\n"
      ]
     },
     "metadata": {},
     "output_type": "display_data"
    },
    {
     "data": {
      "text/plain": [
       "[ID: int, CR_PROD_CNT_IL: int ... 100 more fields]"
      ]
     },
     "execution_count": 30,
     "metadata": {},
     "output_type": "execute_result"
    }
   ],
   "source": [
    "test = test.drop(\"_c0\")"
   ]
  },
  {
   "cell_type": "code",
   "execution_count": 9,
   "metadata": {},
   "outputs": [
    {
     "data": {
      "text/plain": [
       "columns_cat = List(CLNT_TRUST_RELATION, APP_MARITAL_STATUS, APP_KIND_OF_PROP_HABITATION, CLNT_JOB_POSITION_TYPE, CLNT_JOB_POSITION, APP_DRIVING_LICENSE, APP_EDUCATION, APP_TRAVEL_PASS, APP_CAR, APP_POSITION_TYPE, APP_EMP_TYPE, APP_COMP_TYPE, PACK)\n"
      ]
     },
     "metadata": {},
     "output_type": "display_data"
    },
    {
     "data": {
      "text/plain": [
       "List(CLNT_TRUST_RELATION, APP_MARITAL_STATUS, APP_KIND_OF_PROP_HABITATION, CLNT_JOB_POSITION_TYPE, CLNT_JOB_POSITION, APP_DRIVING_LICENSE, APP_EDUCATION, APP_TRAVEL_PASS, APP_CAR, APP_POSITION_TYPE, APP_EMP_TYPE, APP_COMP_TYPE, PACK)"
      ]
     },
     "execution_count": 9,
     "metadata": {},
     "output_type": "execute_result"
    }
   ],
   "source": [
    "val columns_cat = List(\n",
    "    \"CLNT_TRUST_RELATION\", \n",
    "    \"APP_MARITAL_STATUS\",\n",
    "    \"APP_KIND_OF_PROP_HABITATION\", \n",
    "    \"CLNT_JOB_POSITION_TYPE\",\n",
    "    \"CLNT_JOB_POSITION\", \n",
    "    \"APP_DRIVING_LICENSE\", \n",
    "    \"APP_EDUCATION\",\n",
    "    \"APP_TRAVEL_PASS\", \n",
    "    \"APP_CAR\", \n",
    "    \"APP_POSITION_TYPE\", \n",
    "    \"APP_EMP_TYPE\",\n",
    "    \"APP_COMP_TYPE\", \n",
    "    \"PACK\"\n",
    ")"
   ]
  },
  {
   "cell_type": "code",
   "execution_count": 31,
   "metadata": {},
   "outputs": [
    {
     "data": {
      "text/plain": [
       "train = [ID: int, CR_PROD_CNT_IL: int ... 101 more fields]\n",
       "test = [ID: int, CR_PROD_CNT_IL: int ... 100 more fields]\n"
      ]
     },
     "metadata": {},
     "output_type": "display_data"
    },
    {
     "data": {
      "text/plain": [
       "[ID: int, CR_PROD_CNT_IL: int ... 100 more fields]"
      ]
     },
     "execution_count": 31,
     "metadata": {},
     "output_type": "execute_result"
    }
   ],
   "source": [
    "train = train.drop(columns_cat:_*).na.fill(0)\n",
    "test = test.drop(columns_cat:_*).na.fill(0)"
   ]
  },
  {
   "cell_type": "code",
   "execution_count": 32,
   "metadata": {},
   "outputs": [
    {
     "data": {
      "text/plain": [
       "trainData = [ID: int, CR_PROD_CNT_IL: int ... 101 more fields]\n",
       "valData = [ID: int, CR_PROD_CNT_IL: int ... 101 more fields]\n"
      ]
     },
     "metadata": {},
     "output_type": "display_data"
    },
    {
     "data": {
      "text/plain": [
       "[ID: int, CR_PROD_CNT_IL: int ... 101 more fields]"
      ]
     },
     "execution_count": 32,
     "metadata": {},
     "output_type": "execute_result"
    }
   ],
   "source": [
    "val Array(trainData, valData) = train.randomSplit(Array(0.8, 0.2))"
   ]
  },
  {
   "cell_type": "code",
   "execution_count": 33,
   "metadata": {},
   "outputs": [
    {
     "data": {
      "text/plain": [
       "Array(ID, CR_PROD_CNT_IL, AMOUNT_RUB_CLO_PRC, PRC_ACCEPTS_A_EMAIL_LINK, APP_REGISTR_RGN_CODE, PRC_ACCEPTS_A_POS, PRC_ACCEPTS_A_TK, TURNOVER_DYNAMIC_IL_1M, CNT_TRAN_AUT_TENDENCY1M, SUM_TRAN_AUT_TENDENCY1M, AMOUNT_RUB_SUP_PRC, PRC_ACCEPTS_A_AMOBILE, SUM_TRAN_AUT_TENDENCY3M, PRC_ACCEPTS_TK, PRC_ACCEPTS_A_MTP, REST_DYNAMIC_FDEP_1M, CNT_TRAN_AUT_TENDENCY3M, CNT_ACCEPTS_TK, REST_DYNAMIC_SAVE_3M, CR_PROD_CNT_VCU, REST_AVG_CUR, CNT_TRAN_MED_TENDENCY1M, AMOUNT_RUB_NAS_PRC, TRANS_COUNT_SUP_PRC, CNT_TRAN_CLO_TENDENCY1M, SUM_TRAN_MED_TENDENCY1M, PRC_ACCEPTS_A_ATM, PRC_ACCEPTS_MTP, TRANS_COUNT_NAS_PRC, CNT_ACCEPTS_MTP, CR_PROD_CNT_TOVR, CR_PROD_CNT_PIL, SUM_TRAN_CLO_TENDENCY1M, TURNOVER_CC, TRANS_COUNT_ATM_PRC, AMOUNT_RUB_ATM_PRC, TURNOVER_PAYM, AGE, CNT_TRAN_MED_TENDENCY3M, C..."
      ]
     },
     "execution_count": 33,
     "metadata": {},
     "output_type": "execute_result"
    }
   ],
   "source": [
    "trainData.columns"
   ]
  },
  {
   "cell_type": "markdown",
   "metadata": {},
   "source": [
    "# Моделька"
   ]
  },
  {
   "cell_type": "code",
   "execution_count": 19,
   "metadata": {},
   "outputs": [],
   "source": [
    "import org.apache.spark.ml.classification.{GBTClassifier}\n",
    "import org.apache.spark.ml.feature.{VectorAssembler}"
   ]
  },
  {
   "cell_type": "code",
   "execution_count": 34,
   "metadata": {},
   "outputs": [
    {
     "data": {
      "text/plain": [
       "assembler = vecAssembler_b5b2d777f85f\n"
      ]
     },
     "metadata": {},
     "output_type": "display_data"
    },
    {
     "data": {
      "text/plain": [
       "vecAssembler_b5b2d777f85f"
      ]
     },
     "execution_count": 34,
     "metadata": {},
     "output_type": "execute_result"
    }
   ],
   "source": [
    "val assembler = new VectorAssembler()\n",
    "  .setInputCols(trainData.drop(\"ID\", \"TARGET\").columns)\n",
    "  .setOutputCol(\"features\")"
   ]
  },
  {
   "cell_type": "code",
   "execution_count": 35,
   "metadata": {},
   "outputs": [
    {
     "data": {
      "text/plain": [
       "trainDataF = [ID: int, CR_PROD_CNT_IL: int ... 102 more fields]\n"
      ]
     },
     "metadata": {},
     "output_type": "display_data"
    },
    {
     "data": {
      "text/plain": [
       "[ID: int, CR_PROD_CNT_IL: int ... 102 more fields]"
      ]
     },
     "execution_count": 35,
     "metadata": {},
     "output_type": "execute_result"
    }
   ],
   "source": [
    "val trainDataF = assembler.transform(trainData).cache"
   ]
  },
  {
   "cell_type": "code",
   "execution_count": 36,
   "metadata": {},
   "outputs": [
    {
     "data": {
      "text/plain": [
       "gbtModel = GBTClassificationModel (uid=gbtc_a4f19f12a84f) with 20 trees\n"
      ]
     },
     "metadata": {},
     "output_type": "display_data"
    },
    {
     "data": {
      "text/plain": [
       "GBTClassificationModel (uid=gbtc_a4f19f12a84f) with 20 trees"
      ]
     },
     "execution_count": 36,
     "metadata": {},
     "output_type": "execute_result"
    }
   ],
   "source": [
    "val gbtModel = new GBTClassifier()\n",
    "    .setLabelCol(\"TARGET\")\n",
    "    .setFeaturesCol(\"features\")\n",
    "    .setSeed(42)\n",
    "    .fit(trainDataF)"
   ]
  },
  {
   "cell_type": "markdown",
   "metadata": {},
   "source": [
    "# Test"
   ]
  },
  {
   "cell_type": "code",
   "execution_count": 37,
   "metadata": {},
   "outputs": [
    {
     "data": {
      "text/plain": [
       "probality = [ID: int, CR_PROD_CNT_IL: int ... 104 more fields]\n"
      ]
     },
     "metadata": {},
     "output_type": "display_data"
    },
    {
     "data": {
      "text/plain": [
       "[ID: int, CR_PROD_CNT_IL: int ... 104 more fields]"
      ]
     },
     "execution_count": 37,
     "metadata": {},
     "output_type": "execute_result"
    }
   ],
   "source": [
    "val proba = gbtModel.transform(assembler.transform(test)).cache"
   ]
  },
  {
   "cell_type": "code",
   "execution_count": 52,
   "metadata": {},
   "outputs": [
    {
     "data": {
      "text/plain": [
       "vectorToArrayUdf = UserDefinedFunction(<function1>,ArrayType(DoubleType,false),None)\n"
      ]
     },
     "metadata": {},
     "output_type": "display_data"
    },
    {
     "data": {
      "text/plain": [
       "import org.apache.spark.mllib.linalg.{Vector=>OldVector}\n"
      ]
     },
     "metadata": {},
     "output_type": "display_data"
    },
    {
     "data": {
      "text/plain": [
       "UserDefinedFunction(<function1>,ArrayType(DoubleType,false),None)"
      ]
     },
     "execution_count": 52,
     "metadata": {},
     "output_type": "execute_result"
    }
   ],
   "source": [
    "import org.apache.spark.ml.linalg.{SparseVector, Vector}\n",
    "import org.apache.spark.mllib.linalg.{Vector => OldVector}\n",
    "\n",
    "val vectorToArrayUdf = udf { vec: Any =>\n",
    "    vec match {\n",
    "      case v: Vector => v.toArray\n",
    "      case v: OldVector => v.toArray\n",
    "      case v => throw new IllegalArgumentException(\n",
    "        \"function vector_to_array requires a non-null input argument and input type must be \" +\n",
    "        \"`org.apache.spark.ml.linalg.Vector` or `org.apache.spark.mllib.linalg.Vector`, \" +\n",
    "        s\"but got ${ if (v == null) \"null\" else v.getClass.getName }.\")\n",
    "    }\n",
    "  }.asNonNullable()"
   ]
  },
  {
   "cell_type": "code",
   "execution_count": 55,
   "metadata": {},
   "outputs": [
    {
     "data": {
      "text/plain": [
       "result = [id: int, target: double]\n"
      ]
     },
     "metadata": {},
     "output_type": "display_data"
    },
    {
     "data": {
      "text/plain": [
       "[id: int, target: double]"
      ]
     },
     "execution_count": 55,
     "metadata": {},
     "output_type": "execute_result"
    }
   ],
   "source": [
    "val result = proba.withColumn(\"target\", vectorToArrayUdf(col(\"probability\")).getItem(1))\n",
    "                      .withColumnRenamed(\"ID\", \"id\")\n",
    "                      .select(\"id\", \"target\")"
   ]
  },
  {
   "cell_type": "code",
   "execution_count": 56,
   "metadata": {},
   "outputs": [
    {
     "name": "stdout",
     "output_type": "stream",
     "text": [
      "+------+-------------------+\n",
      "|    id|             target|\n",
      "+------+-------------------+\n",
      "|519130| 0.1546031201947734|\n",
      "|234045|0.05032618584539683|\n",
      "|401256|0.05007473625556291|\n",
      "|551070|0.07114010925450454|\n",
      "|367285|0.04955055689954857|\n",
      "+------+-------------------+\n",
      "only showing top 5 rows\n",
      "\n"
     ]
    }
   ],
   "source": [
    "result.show(5)"
   ]
  },
  {
   "cell_type": "code",
   "execution_count": 57,
   "metadata": {},
   "outputs": [],
   "source": [
    "result.write\n",
    "      .option(\"header\", true)\n",
    "      .option(\"sep\",\"\\t\")\n",
    "      .mode(\"overwrite\")\n",
    "      .csv(\"file:////data/home/maxim.kondrat/lab05.csv\")"
   ]
  },
  {
   "cell_type": "code",
   "execution_count": 58,
   "metadata": {},
   "outputs": [],
   "source": [
    "spark.stop"
   ]
  },
  {
   "cell_type": "code",
   "execution_count": null,
   "metadata": {},
   "outputs": [],
   "source": []
  }
 ],
 "metadata": {
  "kernelspec": {
   "display_name": "Apache Toree - Scala",
   "language": "scala",
   "name": "apache_toree_scala"
  },
  "language_info": {
   "codemirror_mode": "text/x-scala",
   "file_extension": ".scala",
   "mimetype": "text/x-scala",
   "name": "scala",
   "pygments_lexer": "scala",
   "version": "2.11.12"
  }
 },
 "nbformat": 4,
 "nbformat_minor": 2
}
