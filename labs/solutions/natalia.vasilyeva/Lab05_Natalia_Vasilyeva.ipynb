{
 "cells": [
  {
   "cell_type": "code",
   "execution_count": 32,
   "metadata": {},
   "outputs": [
    {
     "data": {
      "text/plain": [
       "Waiting for a Spark session to start..."
      ]
     },
     "metadata": {},
     "output_type": "display_data"
    },
    {
     "data": {
      "text/plain": [
       "org.apache.spark.sql.SparkSession@1af47cf8"
      ]
     },
     "execution_count": 32,
     "metadata": {},
     "output_type": "execute_result"
    }
   ],
   "source": [
    "spark"
   ]
  },
  {
   "cell_type": "code",
   "execution_count": 33,
   "metadata": {},
   "outputs": [
    {
     "data": {
      "text/plain": [
       "2.4.7"
      ]
     },
     "execution_count": 33,
     "metadata": {},
     "output_type": "execute_result"
    }
   ],
   "source": [
    "spark.version"
   ]
  },
  {
   "cell_type": "code",
   "execution_count": null,
   "metadata": {},
   "outputs": [],
   "source": [
    "import org.apache.spark.sql.functions.col\n",
    "\n",
    "import org.apache.spark.sql.types.DoubleType\n",
    "import org.apache.spark.ml.classification.{RandomForestClassificationModel, RandomForestClassifier}\n",
    "import org.apache.spark.mllib.tree.configuration.BoostingStrategy\n",
    "import org.apache.spark.ml.feature.VectorAssembler\n",
    "import org.apache.spark.sql.types._\n",
    "import org.apache.spark.ml.linalg.{DenseVector, SparseVector, Vector, Vectors}\n",
    "import org.apache.spark.ml.evaluation.BinaryClassificationEvaluator"
   ]
  },
  {
   "cell_type": "code",
   "execution_count": null,
   "metadata": {},
   "outputs": [],
   "source": [
    "var train = spark.read\n",
    "                    .option(\"delimiter\", \",\")\n",
    "                    .option(\"header\", \"True\")\n",
    "                    .option(\"encoding\",\"utf-8\")\n",
    "                    .csv(\"/labs/slaba05/lab05_train.csv\")\n",
    "var test = spark.read\n",
    "                    .option(\"delimiter\", \",\")\n",
    "                    .option(\"header\", \"True\")\n",
    "                    .option(\"encoding\",\"utf-8\")\n",
    "                    .csv(\"/labs/slaba05/lab05_test.csv\")"
   ]
  },
  {
   "cell_type": "code",
   "execution_count": null,
   "metadata": {},
   "outputs": [],
   "source": [
    "var feature_list = Array[String]()\n",
    "for (t <- train.columns if (t!=\"ID\"))\n",
    "{ train = train.withColumn(t, col(t).cast(FloatType))\n",
    "        feature_list +:= t}\n",
    "val b = feature_list.filter(! _.contains(\"TARGET\"))"
   ]
  },
  {
   "cell_type": "code",
   "execution_count": null,
   "metadata": {},
   "outputs": [],
   "source": [
    "for (t <- test.columns if (t!=\"ID\"))\n",
    "{ test = test.withColumn(t, col(t).cast(FloatType))}\n",
    "\n",
    "train = train.withColumn(\"TARGET\", col(\"TARGET\").cast(IntegerType))"
   ]
  },
  {
   "cell_type": "code",
   "execution_count": null,
   "metadata": {},
   "outputs": [],
   "source": [
    "train = train.na.drop()\n",
    "test = test.na.drop()"
   ]
  },
  {
   "cell_type": "code",
   "execution_count": null,
   "metadata": {},
   "outputs": [],
   "source": [
    "val assembler = new VectorAssembler()\n",
    "                    .setInputCols(b)\n",
    "                    .setOutputCol(\"features\")\n",
    "\n",
    "\n",
    "val evaluator = new BinaryClassificationEvaluator()\n",
    "                        .setLabelCol(\"TARGET\")\n",
    "                        .setRawPredictionCol(\"probability\")\n",
    "                        .setMetricName(\"areaUnderROC\")\n",
    "\n",
    "\n",
    "val model = new RandomForestClassifier()\n",
    "      .setFeaturesCol(\"features\")\n",
    "      .setLabelCol(\"TARGET\")\n",
    "      .setNumTrees(100)\n",
    "      .setMaxDepth(8)\n",
    "      .setSubsamplingRate(0.75)"
   ]
  },
  {
   "cell_type": "code",
   "execution_count": null,
   "metadata": {},
   "outputs": [],
   "source": [
    "val train_data = assembler.transform(train)\n",
    "val test_data = assembler.transform(test)"
   ]
  },
  {
   "cell_type": "code",
   "execution_count": null,
   "metadata": {},
   "outputs": [],
   "source": [
    "val rf_model = model.fit(train_data)"
   ]
  },
  {
   "cell_type": "code",
   "execution_count": null,
   "metadata": {},
   "outputs": [],
   "source": [
    "val pred_train = rf_model.transform(train_data)\n",
    "val pred_test = model_rf.transform(test_data)"
   ]
  },
  {
   "cell_type": "code",
   "execution_count": null,
   "metadata": {},
   "outputs": [],
   "source": [
    "val accuracy = evaluator.evaluate(pred_train)"
   ]
  },
  {
   "cell_type": "code",
   "execution_count": null,
   "metadata": {},
   "outputs": [],
   "source": [
    "val sparse_to_dense = udf((v: Vector) =>  v.toArray)\n",
    "\n",
    "val res = pred_test.select(col(\"ID\").alias(\"id\"), sparse_to_dense(col(\"probability\")).getItem(1).alias(\"target\")).coalesce(1)"
   ]
  },
  {
   "cell_type": "code",
   "execution_count": null,
   "metadata": {},
   "outputs": [],
   "source": [
    "res.write.mode(\"overwrite\").format(\"csv\").option(\"delimiter\", \"\\t\").option(\"header\", \"True\").option(\"encoding\", \"UTF-8\").save(\"lab05\")"
   ]
  },
  {
   "cell_type": "code",
   "execution_count": null,
   "metadata": {},
   "outputs": [],
   "source": []
  },
  {
   "cell_type": "code",
   "execution_count": 34,
   "metadata": {},
   "outputs": [],
   "source": [
    "spark.stop()"
   ]
  },
  {
   "cell_type": "code",
   "execution_count": null,
   "metadata": {},
   "outputs": [],
   "source": []
  }
 ],
 "metadata": {
  "kernelspec": {
   "display_name": "Apache Toree - Scala",
   "language": "scala",
   "name": "apache_toree_scala"
  },
  "language_info": {
   "codemirror_mode": "text/x-scala",
   "file_extension": ".scala",
   "mimetype": "text/x-scala",
   "name": "scala",
   "pygments_lexer": "scala",
   "version": "2.11.12"
  }
 },
 "nbformat": 4,
 "nbformat_minor": 2
}
