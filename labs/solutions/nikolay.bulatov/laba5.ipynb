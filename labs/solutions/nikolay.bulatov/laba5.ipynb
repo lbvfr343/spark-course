{
 "cells": [
  {
   "cell_type": "code",
   "execution_count": 1,
   "metadata": {},
   "outputs": [],
   "source": [
    "import org.apache.spark.sql.DataFrame\n",
    "import org.apache.spark.sql.SparkSession\n",
    "import org.apache.spark.sql.functions._\n",
    "import org.apache.spark.sql.types._"
   ]
  },
  {
   "cell_type": "code",
   "execution_count": 2,
   "metadata": {},
   "outputs": [],
   "source": [
    "import sys.process._"
   ]
  },
  {
   "cell_type": "code",
   "execution_count": 3,
   "metadata": {},
   "outputs": [
    {
     "data": {
      "text/plain": [
       "spark = org.apache.spark.sql.SparkSession@cef9d4b\n"
      ]
     },
     "metadata": {},
     "output_type": "display_data"
    },
    {
     "data": {
      "text/plain": [
       "org.apache.spark.sql.SparkSession@cef9d4b"
      ]
     },
     "execution_count": 3,
     "metadata": {},
     "output_type": "execute_result"
    }
   ],
   "source": [
    "val spark = SparkSession.builder().appName(\"bulatov_lab5\").config(\"spark.master\",\"yarn\").getOrCreate()"
   ]
  },
  {
   "cell_type": "code",
   "execution_count": 4,
   "metadata": {},
   "outputs": [
    {
     "name": "stdout",
     "output_type": "stream",
     "text": [
      "root\n",
      " |-- _c0: integer (nullable = true)\n",
      " |-- ID: integer (nullable = true)\n",
      " |-- CR_PROD_CNT_IL: integer (nullable = true)\n",
      " |-- AMOUNT_RUB_CLO_PRC: double (nullable = true)\n",
      " |-- PRC_ACCEPTS_A_EMAIL_LINK: double (nullable = true)\n",
      " |-- APP_REGISTR_RGN_CODE: double (nullable = true)\n",
      " |-- PRC_ACCEPTS_A_POS: double (nullable = true)\n",
      " |-- PRC_ACCEPTS_A_TK: double (nullable = true)\n",
      " |-- TURNOVER_DYNAMIC_IL_1M: double (nullable = true)\n",
      " |-- CNT_TRAN_AUT_TENDENCY1M: double (nullable = true)\n",
      " |-- SUM_TRAN_AUT_TENDENCY1M: double (nullable = true)\n",
      " |-- AMOUNT_RUB_SUP_PRC: double (nullable = true)\n",
      " |-- PRC_ACCEPTS_A_AMOBILE: double (nullable = true)\n",
      " |-- SUM_TRAN_AUT_TENDENCY3M: double (nullable = true)\n",
      " |-- CLNT_TRUST_RELATION: string (nullable = true)\n",
      " |-- PRC_ACCEPTS_TK: double (nullable = true)\n",
      " |-- PRC_ACCEPTS_A_MTP: double (nullable = true)\n",
      " |-- REST_DYNAMIC_FDEP_1M: double (nullable = true)\n",
      " |-- CNT_TRAN_AUT_TENDENCY3M: double (nullable = true)\n",
      " |-- CNT_ACCEPTS_TK: double (nullable = true)\n",
      " |-- APP_MARITAL_STATUS: string (nullable = true)\n",
      " |-- REST_DYNAMIC_SAVE_3M: double (nullable = true)\n",
      " |-- CR_PROD_CNT_VCU: integer (nullable = true)\n",
      " |-- REST_AVG_CUR: double (nullable = true)\n",
      " |-- CNT_TRAN_MED_TENDENCY1M: double (nullable = true)\n",
      " |-- APP_KIND_OF_PROP_HABITATION: string (nullable = true)\n",
      " |-- CLNT_JOB_POSITION_TYPE: string (nullable = true)\n",
      " |-- AMOUNT_RUB_NAS_PRC: double (nullable = true)\n",
      " |-- CLNT_JOB_POSITION: string (nullable = true)\n",
      " |-- APP_DRIVING_LICENSE: string (nullable = true)\n",
      " |-- TRANS_COUNT_SUP_PRC: double (nullable = true)\n",
      " |-- APP_EDUCATION: string (nullable = true)\n",
      " |-- CNT_TRAN_CLO_TENDENCY1M: double (nullable = true)\n",
      " |-- SUM_TRAN_MED_TENDENCY1M: double (nullable = true)\n",
      " |-- PRC_ACCEPTS_A_ATM: double (nullable = true)\n",
      " |-- PRC_ACCEPTS_MTP: double (nullable = true)\n",
      " |-- TRANS_COUNT_NAS_PRC: double (nullable = true)\n",
      " |-- APP_TRAVEL_PASS: string (nullable = true)\n",
      " |-- CNT_ACCEPTS_MTP: double (nullable = true)\n",
      " |-- CR_PROD_CNT_TOVR: integer (nullable = true)\n",
      " |-- APP_CAR: string (nullable = true)\n",
      " |-- CR_PROD_CNT_PIL: integer (nullable = true)\n",
      " |-- SUM_TRAN_CLO_TENDENCY1M: double (nullable = true)\n",
      " |-- APP_POSITION_TYPE: string (nullable = true)\n",
      " |-- TURNOVER_CC: double (nullable = true)\n",
      " |-- TRANS_COUNT_ATM_PRC: double (nullable = true)\n",
      " |-- AMOUNT_RUB_ATM_PRC: double (nullable = true)\n",
      " |-- TURNOVER_PAYM: double (nullable = true)\n",
      " |-- AGE: integer (nullable = true)\n",
      " |-- CNT_TRAN_MED_TENDENCY3M: double (nullable = true)\n",
      " |-- CR_PROD_CNT_CC: integer (nullable = true)\n",
      " |-- SUM_TRAN_MED_TENDENCY3M: double (nullable = true)\n",
      " |-- REST_DYNAMIC_FDEP_3M: double (nullable = true)\n",
      " |-- REST_DYNAMIC_IL_1M: double (nullable = true)\n",
      " |-- APP_EMP_TYPE: string (nullable = true)\n",
      " |-- SUM_TRAN_CLO_TENDENCY3M: double (nullable = true)\n",
      " |-- LDEAL_TENOR_MAX: double (nullable = true)\n",
      " |-- LDEAL_YQZ_CHRG: double (nullable = true)\n",
      " |-- CR_PROD_CNT_CCFP: integer (nullable = true)\n",
      " |-- DEAL_YQZ_IR_MAX: double (nullable = true)\n",
      " |-- LDEAL_YQZ_COM: double (nullable = true)\n",
      " |-- DEAL_YQZ_IR_MIN: double (nullable = true)\n",
      " |-- CNT_TRAN_CLO_TENDENCY3M: double (nullable = true)\n",
      " |-- REST_DYNAMIC_CUR_1M: double (nullable = true)\n",
      " |-- REST_AVG_PAYM: double (nullable = true)\n",
      " |-- LDEAL_TENOR_MIN: double (nullable = true)\n",
      " |-- LDEAL_AMT_MONTH: double (nullable = true)\n",
      " |-- APP_COMP_TYPE: string (nullable = true)\n",
      " |-- LDEAL_GRACE_DAYS_PCT_MED: double (nullable = true)\n",
      " |-- REST_DYNAMIC_CUR_3M: double (nullable = true)\n",
      " |-- CNT_TRAN_SUP_TENDENCY3M: double (nullable = true)\n",
      " |-- TURNOVER_DYNAMIC_CUR_1M: double (nullable = true)\n",
      " |-- REST_DYNAMIC_PAYM_3M: double (nullable = true)\n",
      " |-- SUM_TRAN_SUP_TENDENCY3M: double (nullable = true)\n",
      " |-- REST_DYNAMIC_IL_3M: double (nullable = true)\n",
      " |-- CNT_TRAN_ATM_TENDENCY3M: double (nullable = true)\n",
      " |-- CNT_TRAN_ATM_TENDENCY1M: double (nullable = true)\n",
      " |-- TURNOVER_DYNAMIC_IL_3M: double (nullable = true)\n",
      " |-- SUM_TRAN_ATM_TENDENCY3M: double (nullable = true)\n",
      " |-- DEAL_GRACE_DAYS_ACC_S1X1: double (nullable = true)\n",
      " |-- AVG_PCT_MONTH_TO_PCLOSE: double (nullable = true)\n",
      " |-- DEAL_YWZ_IR_MIN: double (nullable = true)\n",
      " |-- SUM_TRAN_SUP_TENDENCY1M: double (nullable = true)\n",
      " |-- DEAL_YWZ_IR_MAX: double (nullable = true)\n",
      " |-- SUM_TRAN_ATM_TENDENCY1M: double (nullable = true)\n",
      " |-- REST_DYNAMIC_PAYM_1M: double (nullable = true)\n",
      " |-- CNT_TRAN_SUP_TENDENCY1M: double (nullable = true)\n",
      " |-- DEAL_GRACE_DAYS_ACC_AVG: double (nullable = true)\n",
      " |-- TURNOVER_DYNAMIC_CUR_3M: double (nullable = true)\n",
      " |-- PACK: string (nullable = true)\n",
      " |-- MAX_PCLOSE_DATE: double (nullable = true)\n",
      " |-- LDEAL_YQZ_PC: double (nullable = true)\n",
      " |-- CLNT_SETUP_TENOR: double (nullable = true)\n",
      " |-- DEAL_GRACE_DAYS_ACC_MAX: double (nullable = true)\n",
      " |-- TURNOVER_DYNAMIC_PAYM_3M: double (nullable = true)\n",
      " |-- LDEAL_DELINQ_PER_MAXYQZ: double (nullable = true)\n",
      " |-- TURNOVER_DYNAMIC_PAYM_1M: double (nullable = true)\n",
      " |-- CLNT_SALARY_VALUE: double (nullable = true)\n",
      " |-- TRANS_AMOUNT_TENDENCY3M: double (nullable = true)\n",
      " |-- MED_DEBT_PRC_YQZ: double (nullable = true)\n",
      " |-- TRANS_CNT_TENDENCY3M: double (nullable = true)\n",
      " |-- LDEAL_USED_AMT_AVG_YQZ: double (nullable = true)\n",
      " |-- REST_DYNAMIC_CC_1M: double (nullable = true)\n",
      " |-- LDEAL_USED_AMT_AVG_YWZ: double (nullable = true)\n",
      " |-- TURNOVER_DYNAMIC_CC_1M: double (nullable = true)\n",
      " |-- AVG_PCT_DEBT_TO_DEAL_AMT: double (nullable = true)\n",
      " |-- LDEAL_ACT_DAYS_ACC_PCT_AVG: double (nullable = true)\n",
      " |-- REST_DYNAMIC_CC_3M: double (nullable = true)\n",
      " |-- MED_DEBT_PRC_YWZ: double (nullable = true)\n",
      " |-- LDEAL_ACT_DAYS_PCT_TR3: double (nullable = true)\n",
      " |-- LDEAL_ACT_DAYS_PCT_AAVG: double (nullable = true)\n",
      " |-- LDEAL_DELINQ_PER_MAXYWZ: double (nullable = true)\n",
      " |-- TURNOVER_DYNAMIC_CC_3M: double (nullable = true)\n",
      " |-- LDEAL_ACT_DAYS_PCT_TR: double (nullable = true)\n",
      " |-- LDEAL_ACT_DAYS_PCT_TR4: double (nullable = true)\n",
      " |-- LDEAL_ACT_DAYS_PCT_CURR: double (nullable = true)\n",
      " |-- TARGET: integer (nullable = true)\n",
      "\n",
      "-RECORD 0--------------------------------------------\n",
      " _c0                         | 333149                \n",
      " ID                          | 479990                \n",
      " CR_PROD_CNT_IL              | 0                     \n",
      " AMOUNT_RUB_CLO_PRC          | 0.0                   \n",
      " PRC_ACCEPTS_A_EMAIL_LINK    | 0.0                   \n",
      " APP_REGISTR_RGN_CODE        | null                  \n",
      " PRC_ACCEPTS_A_POS           | 0.0                   \n",
      " PRC_ACCEPTS_A_TK            | 0.0                   \n",
      " TURNOVER_DYNAMIC_IL_1M      | 0.0                   \n",
      " CNT_TRAN_AUT_TENDENCY1M     | null                  \n",
      " SUM_TRAN_AUT_TENDENCY1M     | null                  \n",
      " AMOUNT_RUB_SUP_PRC          | 0.0                   \n",
      " PRC_ACCEPTS_A_AMOBILE       | 0.0                   \n",
      " SUM_TRAN_AUT_TENDENCY3M     | null                  \n",
      " CLNT_TRUST_RELATION         | null                  \n",
      " PRC_ACCEPTS_TK              | 0.0                   \n",
      " PRC_ACCEPTS_A_MTP           | 0.0                   \n",
      " REST_DYNAMIC_FDEP_1M        | 0.0                   \n",
      " CNT_TRAN_AUT_TENDENCY3M     | null                  \n",
      " CNT_ACCEPTS_TK              | 0.0                   \n",
      " APP_MARITAL_STATUS          | null                  \n",
      " REST_DYNAMIC_SAVE_3M        | 0.0                   \n",
      " CR_PROD_CNT_VCU             | 0                     \n",
      " REST_AVG_CUR                | 19069.6917166667      \n",
      " CNT_TRAN_MED_TENDENCY1M     | null                  \n",
      " APP_KIND_OF_PROP_HABITATION | null                  \n",
      " CLNT_JOB_POSITION_TYPE      | null                  \n",
      " AMOUNT_RUB_NAS_PRC          | 0.0                   \n",
      " CLNT_JOB_POSITION           | null                  \n",
      " APP_DRIVING_LICENSE         | null                  \n",
      " TRANS_COUNT_SUP_PRC         | 0.0                   \n",
      " APP_EDUCATION               | null                  \n",
      " CNT_TRAN_CLO_TENDENCY1M     | null                  \n",
      " SUM_TRAN_MED_TENDENCY1M     | null                  \n",
      " PRC_ACCEPTS_A_ATM           | 0.0                   \n",
      " PRC_ACCEPTS_MTP             | 0.0                   \n",
      " TRANS_COUNT_NAS_PRC         | 0.0                   \n",
      " APP_TRAVEL_PASS             | null                  \n",
      " CNT_ACCEPTS_MTP             | 0.0                   \n",
      " CR_PROD_CNT_TOVR            | 1                     \n",
      " APP_CAR                     | null                  \n",
      " CR_PROD_CNT_PIL             | 0                     \n",
      " SUM_TRAN_CLO_TENDENCY1M     | null                  \n",
      " APP_POSITION_TYPE           | null                  \n",
      " TURNOVER_CC                 | 0.0                   \n",
      " TRANS_COUNT_ATM_PRC         | 0.981818181818182     \n",
      " AMOUNT_RUB_ATM_PRC          | 0.9264718189135429    \n",
      " TURNOVER_PAYM               | 0.0                   \n",
      " AGE                         | 324                   \n",
      " CNT_TRAN_MED_TENDENCY3M     | null                  \n",
      " CR_PROD_CNT_CC              | 0                     \n",
      " SUM_TRAN_MED_TENDENCY3M     | null                  \n",
      " REST_DYNAMIC_FDEP_3M        | 0.0                   \n",
      " REST_DYNAMIC_IL_1M          | 0.0                   \n",
      " APP_EMP_TYPE                | null                  \n",
      " SUM_TRAN_CLO_TENDENCY3M     | null                  \n",
      " LDEAL_TENOR_MAX             | null                  \n",
      " LDEAL_YQZ_CHRG              | null                  \n",
      " CR_PROD_CNT_CCFP            | 0                     \n",
      " DEAL_YQZ_IR_MAX             | null                  \n",
      " LDEAL_YQZ_COM               | null                  \n",
      " DEAL_YQZ_IR_MIN             | null                  \n",
      " CNT_TRAN_CLO_TENDENCY3M     | null                  \n",
      " REST_DYNAMIC_CUR_1M         | 0.139327197286461     \n",
      " REST_AVG_PAYM               | 0.0                   \n",
      " LDEAL_TENOR_MIN             | null                  \n",
      " LDEAL_AMT_MONTH             | null                  \n",
      " APP_COMP_TYPE               | null                  \n",
      " LDEAL_GRACE_DAYS_PCT_MED    | 0.0                   \n",
      " REST_DYNAMIC_CUR_3M         | 0.24404241658152398   \n",
      " CNT_TRAN_SUP_TENDENCY3M     | null                  \n",
      " TURNOVER_DYNAMIC_CUR_1M     | 0.14429972251526998   \n",
      " REST_DYNAMIC_PAYM_3M        | 0.0                   \n",
      " SUM_TRAN_SUP_TENDENCY3M     | null                  \n",
      " REST_DYNAMIC_IL_3M          | 0.0                   \n",
      " CNT_TRAN_ATM_TENDENCY3M     | 0.351851851851852     \n",
      " CNT_TRAN_ATM_TENDENCY1M     | 0.166666666666667     \n",
      " TURNOVER_DYNAMIC_IL_3M      | 0.0                   \n",
      " SUM_TRAN_ATM_TENDENCY3M     | 0.329320637235633     \n",
      " DEAL_GRACE_DAYS_ACC_S1X1    | 0.0                   \n",
      " AVG_PCT_MONTH_TO_PCLOSE     | null                  \n",
      " DEAL_YWZ_IR_MIN             | 45.0                  \n",
      " SUM_TRAN_SUP_TENDENCY1M     | null                  \n",
      " DEAL_YWZ_IR_MAX             | 45.0                  \n",
      " SUM_TRAN_ATM_TENDENCY1M     | 0.16790105289165602   \n",
      " REST_DYNAMIC_PAYM_1M        | 0.0                   \n",
      " CNT_TRAN_SUP_TENDENCY1M     | null                  \n",
      " DEAL_GRACE_DAYS_ACC_AVG     | 0.0                   \n",
      " TURNOVER_DYNAMIC_CUR_3M     | 0.30374965665416803   \n",
      " PACK                        | 102                   \n",
      " MAX_PCLOSE_DATE             | null                  \n",
      " LDEAL_YQZ_PC                | null                  \n",
      " CLNT_SETUP_TENOR            | 5.48000105784548      \n",
      " DEAL_GRACE_DAYS_ACC_MAX     | 0.0                   \n",
      " TURNOVER_DYNAMIC_PAYM_3M    | 0.0                   \n",
      " LDEAL_DELINQ_PER_MAXYQZ     | null                  \n",
      " TURNOVER_DYNAMIC_PAYM_1M    | 0.0                   \n",
      " CLNT_SALARY_VALUE           | null                  \n",
      " TRANS_AMOUNT_TENDENCY3M     | 0.305106289785464     \n",
      " MED_DEBT_PRC_YQZ            | null                  \n",
      " TRANS_CNT_TENDENCY3M        | 0.34545454545454496   \n",
      " LDEAL_USED_AMT_AVG_YQZ      | null                  \n",
      " REST_DYNAMIC_CC_1M          | 0.0                   \n",
      " LDEAL_USED_AMT_AVG_YWZ      | 1.0                   \n",
      " TURNOVER_DYNAMIC_CC_1M      | 0.0                   \n",
      " AVG_PCT_DEBT_TO_DEAL_AMT    | null                  \n",
      " LDEAL_ACT_DAYS_ACC_PCT_AVG  | 0.0035236081747709704 \n",
      " REST_DYNAMIC_CC_3M          | 0.0                   \n",
      " MED_DEBT_PRC_YWZ            | 0.0                   \n",
      " LDEAL_ACT_DAYS_PCT_TR3      | 0.0                   \n",
      " LDEAL_ACT_DAYS_PCT_AAVG     | 0.0                   \n",
      " LDEAL_DELINQ_PER_MAXYWZ     | 0.0                   \n",
      " TURNOVER_DYNAMIC_CC_3M      | 0.0                   \n",
      " LDEAL_ACT_DAYS_PCT_TR       | 0.0                   \n",
      " LDEAL_ACT_DAYS_PCT_TR4      | 0.0                   \n",
      " LDEAL_ACT_DAYS_PCT_CURR     | 0.0                   \n",
      " TARGET                      | 0                     \n",
      "only showing top 1 row\n",
      "\n"
     ]
    },
    {
     "data": {
      "text/plain": [
       "csvOptions = Map(header -> true, inferSchema -> true)\n",
       "train_csv = [_c0: int, ID: int ... 115 more fields]\n"
      ]
     },
     "metadata": {},
     "output_type": "display_data"
    },
    {
     "data": {
      "text/plain": [
       "[_c0: int, ID: int ... 115 more fields]"
      ]
     },
     "execution_count": 4,
     "metadata": {},
     "output_type": "execute_result"
    }
   ],
   "source": [
    "val csvOptions = Map(\"header\" -> \"true\", \"inferSchema\" -> \"true\")\n",
    "val train_csv = spark.read.options(csvOptions).csv(\"/labs/slaba05/lab05_train.csv\")\n",
    "train_csv.printSchema\n",
    "train_csv.show(numRows = 1, truncate = 100, vertical = true)"
   ]
  },
  {
   "cell_type": "code",
   "execution_count": 5,
   "metadata": {},
   "outputs": [
    {
     "name": "stdout",
     "output_type": "stream",
     "text": [
      "root\n",
      " |-- _c0: integer (nullable = true)\n",
      " |-- ID: integer (nullable = true)\n",
      " |-- CR_PROD_CNT_IL: integer (nullable = true)\n",
      " |-- AMOUNT_RUB_CLO_PRC: double (nullable = true)\n",
      " |-- PRC_ACCEPTS_A_EMAIL_LINK: double (nullable = true)\n",
      " |-- APP_REGISTR_RGN_CODE: double (nullable = true)\n",
      " |-- PRC_ACCEPTS_A_POS: double (nullable = true)\n",
      " |-- PRC_ACCEPTS_A_TK: double (nullable = true)\n",
      " |-- TURNOVER_DYNAMIC_IL_1M: double (nullable = true)\n",
      " |-- CNT_TRAN_AUT_TENDENCY1M: double (nullable = true)\n",
      " |-- SUM_TRAN_AUT_TENDENCY1M: double (nullable = true)\n",
      " |-- AMOUNT_RUB_SUP_PRC: double (nullable = true)\n",
      " |-- PRC_ACCEPTS_A_AMOBILE: double (nullable = true)\n",
      " |-- SUM_TRAN_AUT_TENDENCY3M: double (nullable = true)\n",
      " |-- CLNT_TRUST_RELATION: string (nullable = true)\n",
      " |-- PRC_ACCEPTS_TK: double (nullable = true)\n",
      " |-- PRC_ACCEPTS_A_MTP: double (nullable = true)\n",
      " |-- REST_DYNAMIC_FDEP_1M: double (nullable = true)\n",
      " |-- CNT_TRAN_AUT_TENDENCY3M: double (nullable = true)\n",
      " |-- CNT_ACCEPTS_TK: double (nullable = true)\n",
      " |-- APP_MARITAL_STATUS: string (nullable = true)\n",
      " |-- REST_DYNAMIC_SAVE_3M: double (nullable = true)\n",
      " |-- CR_PROD_CNT_VCU: integer (nullable = true)\n",
      " |-- REST_AVG_CUR: double (nullable = true)\n",
      " |-- CNT_TRAN_MED_TENDENCY1M: double (nullable = true)\n",
      " |-- APP_KIND_OF_PROP_HABITATION: string (nullable = true)\n",
      " |-- CLNT_JOB_POSITION_TYPE: string (nullable = true)\n",
      " |-- AMOUNT_RUB_NAS_PRC: double (nullable = true)\n",
      " |-- CLNT_JOB_POSITION: string (nullable = true)\n",
      " |-- APP_DRIVING_LICENSE: string (nullable = true)\n",
      " |-- TRANS_COUNT_SUP_PRC: double (nullable = true)\n",
      " |-- APP_EDUCATION: string (nullable = true)\n",
      " |-- CNT_TRAN_CLO_TENDENCY1M: double (nullable = true)\n",
      " |-- SUM_TRAN_MED_TENDENCY1M: double (nullable = true)\n",
      " |-- PRC_ACCEPTS_A_ATM: double (nullable = true)\n",
      " |-- PRC_ACCEPTS_MTP: double (nullable = true)\n",
      " |-- TRANS_COUNT_NAS_PRC: double (nullable = true)\n",
      " |-- APP_TRAVEL_PASS: string (nullable = true)\n",
      " |-- CNT_ACCEPTS_MTP: double (nullable = true)\n",
      " |-- CR_PROD_CNT_TOVR: integer (nullable = true)\n",
      " |-- APP_CAR: string (nullable = true)\n",
      " |-- CR_PROD_CNT_PIL: integer (nullable = true)\n",
      " |-- SUM_TRAN_CLO_TENDENCY1M: double (nullable = true)\n",
      " |-- APP_POSITION_TYPE: string (nullable = true)\n",
      " |-- TURNOVER_CC: double (nullable = true)\n",
      " |-- TRANS_COUNT_ATM_PRC: double (nullable = true)\n",
      " |-- AMOUNT_RUB_ATM_PRC: double (nullable = true)\n",
      " |-- TURNOVER_PAYM: double (nullable = true)\n",
      " |-- AGE: integer (nullable = true)\n",
      " |-- CNT_TRAN_MED_TENDENCY3M: double (nullable = true)\n",
      " |-- CR_PROD_CNT_CC: integer (nullable = true)\n",
      " |-- SUM_TRAN_MED_TENDENCY3M: double (nullable = true)\n",
      " |-- REST_DYNAMIC_FDEP_3M: double (nullable = true)\n",
      " |-- REST_DYNAMIC_IL_1M: double (nullable = true)\n",
      " |-- APP_EMP_TYPE: string (nullable = true)\n",
      " |-- SUM_TRAN_CLO_TENDENCY3M: double (nullable = true)\n",
      " |-- LDEAL_TENOR_MAX: double (nullable = true)\n",
      " |-- LDEAL_YQZ_CHRG: double (nullable = true)\n",
      " |-- CR_PROD_CNT_CCFP: integer (nullable = true)\n",
      " |-- DEAL_YQZ_IR_MAX: double (nullable = true)\n",
      " |-- LDEAL_YQZ_COM: double (nullable = true)\n",
      " |-- DEAL_YQZ_IR_MIN: double (nullable = true)\n",
      " |-- CNT_TRAN_CLO_TENDENCY3M: double (nullable = true)\n",
      " |-- REST_DYNAMIC_CUR_1M: double (nullable = true)\n",
      " |-- REST_AVG_PAYM: double (nullable = true)\n",
      " |-- LDEAL_TENOR_MIN: double (nullable = true)\n",
      " |-- LDEAL_AMT_MONTH: double (nullable = true)\n",
      " |-- APP_COMP_TYPE: string (nullable = true)\n",
      " |-- LDEAL_GRACE_DAYS_PCT_MED: double (nullable = true)\n",
      " |-- REST_DYNAMIC_CUR_3M: double (nullable = true)\n",
      " |-- CNT_TRAN_SUP_TENDENCY3M: double (nullable = true)\n",
      " |-- TURNOVER_DYNAMIC_CUR_1M: double (nullable = true)\n",
      " |-- REST_DYNAMIC_PAYM_3M: double (nullable = true)\n",
      " |-- SUM_TRAN_SUP_TENDENCY3M: double (nullable = true)\n",
      " |-- REST_DYNAMIC_IL_3M: double (nullable = true)\n",
      " |-- CNT_TRAN_ATM_TENDENCY3M: double (nullable = true)\n",
      " |-- CNT_TRAN_ATM_TENDENCY1M: double (nullable = true)\n",
      " |-- TURNOVER_DYNAMIC_IL_3M: double (nullable = true)\n",
      " |-- SUM_TRAN_ATM_TENDENCY3M: double (nullable = true)\n",
      " |-- DEAL_GRACE_DAYS_ACC_S1X1: double (nullable = true)\n",
      " |-- AVG_PCT_MONTH_TO_PCLOSE: double (nullable = true)\n",
      " |-- DEAL_YWZ_IR_MIN: double (nullable = true)\n",
      " |-- SUM_TRAN_SUP_TENDENCY1M: double (nullable = true)\n",
      " |-- DEAL_YWZ_IR_MAX: double (nullable = true)\n",
      " |-- SUM_TRAN_ATM_TENDENCY1M: double (nullable = true)\n",
      " |-- REST_DYNAMIC_PAYM_1M: double (nullable = true)\n",
      " |-- CNT_TRAN_SUP_TENDENCY1M: double (nullable = true)\n",
      " |-- DEAL_GRACE_DAYS_ACC_AVG: double (nullable = true)\n",
      " |-- TURNOVER_DYNAMIC_CUR_3M: double (nullable = true)\n",
      " |-- PACK: string (nullable = true)\n",
      " |-- MAX_PCLOSE_DATE: double (nullable = true)\n",
      " |-- LDEAL_YQZ_PC: double (nullable = true)\n",
      " |-- CLNT_SETUP_TENOR: double (nullable = true)\n",
      " |-- DEAL_GRACE_DAYS_ACC_MAX: double (nullable = true)\n",
      " |-- TURNOVER_DYNAMIC_PAYM_3M: double (nullable = true)\n",
      " |-- LDEAL_DELINQ_PER_MAXYQZ: double (nullable = true)\n",
      " |-- TURNOVER_DYNAMIC_PAYM_1M: double (nullable = true)\n",
      " |-- CLNT_SALARY_VALUE: double (nullable = true)\n",
      " |-- TRANS_AMOUNT_TENDENCY3M: double (nullable = true)\n",
      " |-- MED_DEBT_PRC_YQZ: double (nullable = true)\n",
      " |-- TRANS_CNT_TENDENCY3M: double (nullable = true)\n",
      " |-- LDEAL_USED_AMT_AVG_YQZ: double (nullable = true)\n",
      " |-- REST_DYNAMIC_CC_1M: double (nullable = true)\n",
      " |-- LDEAL_USED_AMT_AVG_YWZ: double (nullable = true)\n",
      " |-- TURNOVER_DYNAMIC_CC_1M: double (nullable = true)\n",
      " |-- AVG_PCT_DEBT_TO_DEAL_AMT: double (nullable = true)\n",
      " |-- LDEAL_ACT_DAYS_ACC_PCT_AVG: double (nullable = true)\n",
      " |-- REST_DYNAMIC_CC_3M: double (nullable = true)\n",
      " |-- MED_DEBT_PRC_YWZ: double (nullable = true)\n",
      " |-- LDEAL_ACT_DAYS_PCT_TR3: double (nullable = true)\n",
      " |-- LDEAL_ACT_DAYS_PCT_AAVG: double (nullable = true)\n",
      " |-- LDEAL_DELINQ_PER_MAXYWZ: double (nullable = true)\n",
      " |-- TURNOVER_DYNAMIC_CC_3M: double (nullable = true)\n",
      " |-- LDEAL_ACT_DAYS_PCT_TR: double (nullable = true)\n",
      " |-- LDEAL_ACT_DAYS_PCT_TR4: double (nullable = true)\n",
      " |-- LDEAL_ACT_DAYS_PCT_CURR: double (nullable = true)\n",
      "\n",
      "-RECORD 0-----------------------------------------\n",
      " _c0                         | 372289             \n",
      " ID                          | 519130             \n",
      " CR_PROD_CNT_IL              | 0                  \n",
      " AMOUNT_RUB_CLO_PRC          | 0.0                \n",
      " PRC_ACCEPTS_A_EMAIL_LINK    | null               \n",
      " APP_REGISTR_RGN_CODE        | null               \n",
      " PRC_ACCEPTS_A_POS           | null               \n",
      " PRC_ACCEPTS_A_TK            | null               \n",
      " TURNOVER_DYNAMIC_IL_1M      | 0.0                \n",
      " CNT_TRAN_AUT_TENDENCY1M     | null               \n",
      " SUM_TRAN_AUT_TENDENCY1M     | null               \n",
      " AMOUNT_RUB_SUP_PRC          | 0.0                \n",
      " PRC_ACCEPTS_A_AMOBILE       | null               \n",
      " SUM_TRAN_AUT_TENDENCY3M     | null               \n",
      " CLNT_TRUST_RELATION         | null               \n",
      " PRC_ACCEPTS_TK              | null               \n",
      " PRC_ACCEPTS_A_MTP           | null               \n",
      " REST_DYNAMIC_FDEP_1M        | 0.0                \n",
      " CNT_TRAN_AUT_TENDENCY3M     | null               \n",
      " CNT_ACCEPTS_TK              | null               \n",
      " APP_MARITAL_STATUS          | null               \n",
      " REST_DYNAMIC_SAVE_3M        | 1.0                \n",
      " CR_PROD_CNT_VCU             | 0                  \n",
      " REST_AVG_CUR                | 13916.8191         \n",
      " CNT_TRAN_MED_TENDENCY1M     | null               \n",
      " APP_KIND_OF_PROP_HABITATION | null               \n",
      " CLNT_JOB_POSITION_TYPE      | null               \n",
      " AMOUNT_RUB_NAS_PRC          | 0.0                \n",
      " CLNT_JOB_POSITION           | null               \n",
      " APP_DRIVING_LICENSE         | null               \n",
      " TRANS_COUNT_SUP_PRC         | 0.0                \n",
      " APP_EDUCATION               | null               \n",
      " CNT_TRAN_CLO_TENDENCY1M     | null               \n",
      " SUM_TRAN_MED_TENDENCY1M     | null               \n",
      " PRC_ACCEPTS_A_ATM           | null               \n",
      " PRC_ACCEPTS_MTP             | null               \n",
      " TRANS_COUNT_NAS_PRC         | 0.0                \n",
      " APP_TRAVEL_PASS             | null               \n",
      " CNT_ACCEPTS_MTP             | null               \n",
      " CR_PROD_CNT_TOVR            | 0                  \n",
      " APP_CAR                     | null               \n",
      " CR_PROD_CNT_PIL             | 0                  \n",
      " SUM_TRAN_CLO_TENDENCY1M     | null               \n",
      " APP_POSITION_TYPE           | null               \n",
      " TURNOVER_CC                 | 0.0                \n",
      " TRANS_COUNT_ATM_PRC         | 1.0                \n",
      " AMOUNT_RUB_ATM_PRC          | 1.0                \n",
      " TURNOVER_PAYM               | 0.0                \n",
      " AGE                         | 240                \n",
      " CNT_TRAN_MED_TENDENCY3M     | null               \n",
      " CR_PROD_CNT_CC              | 0                  \n",
      " SUM_TRAN_MED_TENDENCY3M     | null               \n",
      " REST_DYNAMIC_FDEP_3M        | 0.0                \n",
      " REST_DYNAMIC_IL_1M          | 0.0                \n",
      " APP_EMP_TYPE                | null               \n",
      " SUM_TRAN_CLO_TENDENCY3M     | null               \n",
      " LDEAL_TENOR_MAX             | null               \n",
      " LDEAL_YQZ_CHRG              | null               \n",
      " CR_PROD_CNT_CCFP            | 0                  \n",
      " DEAL_YQZ_IR_MAX             | null               \n",
      " LDEAL_YQZ_COM               | null               \n",
      " DEAL_YQZ_IR_MIN             | null               \n",
      " CNT_TRAN_CLO_TENDENCY3M     | null               \n",
      " REST_DYNAMIC_CUR_1M         | 0.479789155507046  \n",
      " REST_AVG_PAYM               | 0.0                \n",
      " LDEAL_TENOR_MIN             | null               \n",
      " LDEAL_AMT_MONTH             | null               \n",
      " APP_COMP_TYPE               | null               \n",
      " LDEAL_GRACE_DAYS_PCT_MED    | 0.0                \n",
      " REST_DYNAMIC_CUR_3M         | 1.0                \n",
      " CNT_TRAN_SUP_TENDENCY3M     | null               \n",
      " TURNOVER_DYNAMIC_CUR_1M     | 0.6401123866394111 \n",
      " REST_DYNAMIC_PAYM_3M        | 0.0                \n",
      " SUM_TRAN_SUP_TENDENCY3M     | null               \n",
      " REST_DYNAMIC_IL_3M          | 0.0                \n",
      " CNT_TRAN_ATM_TENDENCY3M     | 1.0                \n",
      " CNT_TRAN_ATM_TENDENCY1M     | null               \n",
      " TURNOVER_DYNAMIC_IL_3M      | 0.0                \n",
      " SUM_TRAN_ATM_TENDENCY3M     | 1.0                \n",
      " DEAL_GRACE_DAYS_ACC_S1X1    | null               \n",
      " AVG_PCT_MONTH_TO_PCLOSE     | null               \n",
      " DEAL_YWZ_IR_MIN             | null               \n",
      " SUM_TRAN_SUP_TENDENCY1M     | null               \n",
      " DEAL_YWZ_IR_MAX             | null               \n",
      " SUM_TRAN_ATM_TENDENCY1M     | null               \n",
      " REST_DYNAMIC_PAYM_1M        | 0.0                \n",
      " CNT_TRAN_SUP_TENDENCY1M     | null               \n",
      " DEAL_GRACE_DAYS_ACC_AVG     | null               \n",
      " TURNOVER_DYNAMIC_CUR_3M     | 1.0                \n",
      " PACK                        | K01                \n",
      " MAX_PCLOSE_DATE             | null               \n",
      " LDEAL_YQZ_PC                | null               \n",
      " CLNT_SETUP_TENOR            | 0.5713989073078449 \n",
      " DEAL_GRACE_DAYS_ACC_MAX     | null               \n",
      " TURNOVER_DYNAMIC_PAYM_3M    | 0.0                \n",
      " LDEAL_DELINQ_PER_MAXYQZ     | null               \n",
      " TURNOVER_DYNAMIC_PAYM_1M    | 0.0                \n",
      " CLNT_SALARY_VALUE           | null               \n",
      " TRANS_AMOUNT_TENDENCY3M     | 1.0                \n",
      " MED_DEBT_PRC_YQZ            | null               \n",
      " TRANS_CNT_TENDENCY3M        | 1.0                \n",
      " LDEAL_USED_AMT_AVG_YQZ      | null               \n",
      " REST_DYNAMIC_CC_1M          | 0.0                \n",
      " LDEAL_USED_AMT_AVG_YWZ      | null               \n",
      " TURNOVER_DYNAMIC_CC_1M      | 0.0                \n",
      " AVG_PCT_DEBT_TO_DEAL_AMT    | null               \n",
      " LDEAL_ACT_DAYS_ACC_PCT_AVG  | null               \n",
      " REST_DYNAMIC_CC_3M          | 0.0                \n",
      " MED_DEBT_PRC_YWZ            | null               \n",
      " LDEAL_ACT_DAYS_PCT_TR3      | null               \n",
      " LDEAL_ACT_DAYS_PCT_AAVG     | null               \n",
      " LDEAL_DELINQ_PER_MAXYWZ     | null               \n",
      " TURNOVER_DYNAMIC_CC_3M      | 0.0                \n",
      " LDEAL_ACT_DAYS_PCT_TR       | null               \n",
      " LDEAL_ACT_DAYS_PCT_TR4      | null               \n",
      " LDEAL_ACT_DAYS_PCT_CURR     | null               \n",
      "only showing top 1 row\n",
      "\n"
     ]
    },
    {
     "data": {
      "text/plain": [
       "csvOptions = Map(header -> true, inferSchema -> true)\n",
       "test_csv = [_c0: int, ID: int ... 114 more fields]\n"
      ]
     },
     "metadata": {},
     "output_type": "display_data"
    },
    {
     "data": {
      "text/plain": [
       "[_c0: int, ID: int ... 114 more fields]"
      ]
     },
     "execution_count": 5,
     "metadata": {},
     "output_type": "execute_result"
    }
   ],
   "source": [
    "val csvOptions = Map(\"header\" -> \"true\", \"inferSchema\" -> \"true\")\n",
    "val test_csv = spark.read.options(csvOptions).csv(\"/labs/slaba05/lab05_test.csv\")\n",
    "test_csv.printSchema\n",
    "test_csv.show(numRows = 1, truncate = 100, vertical = true)"
   ]
  },
  {
   "cell_type": "code",
   "execution_count": 6,
   "metadata": {},
   "outputs": [
    {
     "data": {
      "text/plain": [
       "feature_col_list = Array(CR_PROD_CNT_IL, AMOUNT_RUB_CLO_PRC, PRC_ACCEPTS_A_EMAIL_LINK, APP_REGISTR_RGN_CODE, PRC_ACCEPTS_A_POS, PRC_ACCEPTS_A_TK, TURNOVER_DYNAMIC_IL_1M, CNT_TRAN_AUT_TENDENCY1M, SUM_TRAN_AUT_TENDENCY1M, AMOUNT_RUB_SUP_PRC, PRC_ACCEPTS_A_AMOBILE, SUM_TRAN_AUT_TENDENCY3M, CLNT_TRUST_RELATION, PRC_ACCEPTS_TK, PRC_ACCEPTS_A_MTP, REST_DYNAMIC_FDEP_1M, CNT_TRAN_AUT_TENDENCY3M, CNT_ACCEPTS_TK, APP_MARITAL_STATUS, REST_DYNAMIC_SAVE_3M, CR_PROD_CNT_VCU, REST_AVG_CUR, CNT_TRAN_MED_TENDENCY1M, APP_KIND_OF_PROP_HABITATION, CLNT_JOB_POSITION_TYPE, AMOUNT_RUB_NAS_PRC, CLNT_JOB_POSITION, APP_DRIVING_LICENSE, TRANS_COUNT_SUP_PRC, APP_EDUCATION, CNT_TRAN_CLO_TENDENCY1M, SUM_TRAN_MED_TENDENCY1M, PRC_ACCEPTS_A_ATM, PRC_ACCEPTS_MTP, TRANS_COUNT_NAS_PRC, APP_TRAVEL_PASS, CNT_...\n"
      ]
     },
     "metadata": {},
     "output_type": "display_data"
    },
    {
     "data": {
      "text/plain": [
       "Array(CR_PROD_CNT_IL, AMOUNT_RUB_CLO_PRC, PRC_ACCEPTS_A_EMAIL_LINK, APP_REGISTR_RGN_CODE, PRC_ACCEPTS_A_POS, PRC_ACCEPTS_A_TK, TURNOVER_DYNAMIC_IL_1M, CNT_TRAN_AUT_TENDENCY1M, SUM_TRAN_AUT_TENDENCY1M, AMOUNT_RUB_SUP_PRC, PRC_ACCEPTS_A_AMOBILE, SUM_TRAN_AUT_TENDENCY3M, CLNT_TRUST_RELATION, PRC_ACCEPTS_TK, PRC_ACCEPTS_A_MTP, REST_DYNAMIC_FDEP_1M, CNT_TRAN_AUT_TENDENCY3M, CNT_ACCEPTS_TK, APP_MARITAL_STATUS, REST_DYNAMIC_SAVE_3M, CR_PROD_CNT_VCU, REST_AVG_CUR, CNT_TRAN_MED_TENDENCY1M, APP_KIND_OF_PROP_HABITATION, CLNT_JOB_POSITION_TYPE, AMOUNT_RUB_NAS_PRC, CLNT_JOB_POSITION, APP_DRIVING_LICENSE, TRANS_COUNT_SUP_PRC, APP_EDUCATION, CNT_TRAN_CLO_TENDENCY1M, SUM_TRAN_MED_TENDENCY1M, PRC_ACCEPTS_A_ATM, PRC_ACCEPTS_MTP, TRANS_COUNT_NAS_PRC, APP_TRAVEL_PASS, CNT_..."
      ]
     },
     "execution_count": 6,
     "metadata": {},
     "output_type": "execute_result"
    }
   ],
   "source": [
    "val feature_col_list = train_csv.drop(\"_c0\").drop(\"ID\").drop(\"TARGET\").columns"
   ]
  },
  {
   "cell_type": "code",
   "execution_count": 7,
   "metadata": {},
   "outputs": [
    {
     "data": {
      "text/plain": [
       "all_columns_list = List(CAST(ID AS INT), CAST(TARGET AS INT), CR_PROD_CNT_IL, AMOUNT_RUB_CLO_PRC, PRC_ACCEPTS_A_EMAIL_LINK, APP_REGISTR_RGN_CODE, PRC_ACCEPTS_A_POS, PRC_ACCEPTS_A_TK, TURNOVER_DYNAMIC_IL_1M, CNT_TRAN_AUT_TENDENCY1M, SUM_TRAN_AUT_TENDENCY1M, AMOUNT_RUB_SUP_PRC, PRC_ACCEPTS_A_AMOBILE, SUM_TRAN_AUT_TENDENCY3M, CLNT_TRUST_RELATION, PRC_ACCEPTS_TK, PRC_ACCEPTS_A_MTP, REST_DYNAMIC_FDEP_1M, CNT_TRAN_AUT_TENDENCY3M, CNT_ACCEPTS_TK, APP_MARITAL_STATUS, REST_DYNAMIC_SAVE_3M, CR_PROD_CNT_VCU, REST_AVG_CUR, CNT_TRAN_MED_TENDENCY1M, APP_KIND_OF_PROP_HABITATION, CLNT_JOB_POSITION_TYPE, AMOUNT_RUB_NAS_PRC, CLNT_JOB_POSITION, APP_DRIVING_LICENSE, TRANS_COUNT_SUP_PRC, APP_EDUCATION, CNT_TRAN_CLO_TENDENCY1M, SUM_TRAN_MED_TENDENCY1M, PRC_ACCEPTS_A_ATM, PRC_ACCEPTS_MTP, TRANS_...\n"
      ]
     },
     "metadata": {},
     "output_type": "display_data"
    },
    {
     "data": {
      "text/plain": [
       "List(CAST(ID AS INT), CAST(TARGET AS INT), CR_PROD_CNT_IL, AMOUNT_RUB_CLO_PRC, PRC_ACCEPTS_A_EMAIL_LINK, APP_REGISTR_RGN_CODE, PRC_ACCEPTS_A_POS, PRC_ACCEPTS_A_TK, TURNOVER_DYNAMIC_IL_1M, CNT_TRAN_AUT_TENDENCY1M, SUM_TRAN_AUT_TENDENCY1M, AMOUNT_RUB_SUP_PRC, PRC_ACCEPTS_A_AMOBILE, SUM_TRAN_AUT_TENDENCY3M, CLNT_TRUST_RELATION, PRC_ACCEPTS_TK, PRC_ACCEPTS_A_MTP, REST_DYNAMIC_FDEP_1M, CNT_TRAN_AUT_TENDENCY3M, CNT_ACCEPTS_TK, APP_MARITAL_STATUS, REST_DYNAMIC_SAVE_3M, CR_PROD_CNT_VCU, REST_AVG_CUR, CNT_TRAN_MED_TENDENCY1M, APP_KIND_OF_PROP_HABITATION, CLNT_JOB_POSITION_TYPE, AMOUNT_RUB_NAS_PRC, CLNT_JOB_POSITION, APP_DRIVING_LICENSE, TRANS_COUNT_SUP_PRC, APP_EDUCATION, CNT_TRAN_CLO_TENDENCY1M, SUM_TRAN_MED_TENDENCY1M, PRC_ACCEPTS_A_ATM, PRC_ACCEPTS_MTP, TRANS_..."
      ]
     },
     "execution_count": 7,
     "metadata": {},
     "output_type": "execute_result"
    }
   ],
   "source": [
    "val all_columns_list = List(col(\"ID\").cast(IntegerType), col(\"TARGET\").cast(IntegerType)) ++ feature_col_list"
   ]
  },
  {
   "cell_type": "code",
   "execution_count": 8,
   "metadata": {},
   "outputs": [
    {
     "data": {
      "text/plain": [
       "Name: Compile Error\n",
       "Message: <console>:40: error: overloaded method value select with alternatives:\n",
       "  [U1](c1: org.apache.spark.sql.TypedColumn[org.apache.spark.sql.Row,U1])org.apache.spark.sql.Dataset[U1] <and>\n",
       "  (col: String,cols: String*)org.apache.spark.sql.DataFrame <and>\n",
       "  (cols: org.apache.spark.sql.Column*)org.apache.spark.sql.DataFrame\n",
       " cannot be applied to (Object)\n",
       "       val train_ds = train_csv.select(all_columns_list:_*)\n",
       "                                ^\n",
       "\n",
       "StackTrace: "
      ]
     },
     "execution_count": 8,
     "metadata": {},
     "output_type": "execute_result"
    }
   ],
   "source": [
    "val train_ds = train_csv.select(all_columns_list:_*)"
   ]
  },
  {
   "cell_type": "code",
   "execution_count": 9,
   "metadata": {},
   "outputs": [
    {
     "name": "stdout",
     "output_type": "stream",
     "text": [
      "root\n",
      " |-- ID: integer (nullable = true)\n",
      " |-- TARGET: integer (nullable = true)\n",
      " |-- AGE: float (nullable = false)\n",
      " |-- AMOUNT_RUB_ATM_PRC: float (nullable = false)\n",
      " |-- AMOUNT_RUB_CLO_PRC: float (nullable = false)\n",
      " |-- AMOUNT_RUB_NAS_PRC: float (nullable = false)\n",
      " |-- AMOUNT_RUB_SUP_PRC: float (nullable = false)\n",
      " |-- APP_CAR: float (nullable = false)\n",
      " |-- APP_COMP_TYPE: float (nullable = false)\n",
      " |-- APP_DRIVING_LICENSE: float (nullable = false)\n",
      " |-- APP_EDUCATION: float (nullable = false)\n",
      " |-- APP_EMP_TYPE: float (nullable = false)\n",
      " |-- APP_KIND_OF_PROP_HABITATION: float (nullable = false)\n",
      " |-- APP_MARITAL_STATUS: float (nullable = false)\n",
      " |-- APP_POSITION_TYPE: float (nullable = false)\n",
      " |-- APP_REGISTR_RGN_CODE: float (nullable = false)\n",
      " |-- APP_TRAVEL_PASS: float (nullable = false)\n",
      " |-- AVG_PCT_DEBT_TO_DEAL_AMT: float (nullable = false)\n",
      " |-- AVG_PCT_MONTH_TO_PCLOSE: float (nullable = false)\n",
      " |-- CLNT_JOB_POSITION: float (nullable = false)\n",
      " |-- CLNT_JOB_POSITION_TYPE: float (nullable = false)\n",
      " |-- CLNT_SALARY_VALUE: float (nullable = false)\n",
      " |-- CLNT_SETUP_TENOR: float (nullable = false)\n",
      " |-- CLNT_TRUST_RELATION: float (nullable = false)\n",
      " |-- CNT_ACCEPTS_MTP: float (nullable = false)\n",
      " |-- CNT_ACCEPTS_TK: float (nullable = false)\n",
      " |-- CNT_TRAN_ATM_TENDENCY1M: float (nullable = false)\n",
      " |-- CNT_TRAN_ATM_TENDENCY3M: float (nullable = false)\n",
      " |-- CNT_TRAN_AUT_TENDENCY1M: float (nullable = false)\n",
      " |-- CNT_TRAN_AUT_TENDENCY3M: float (nullable = false)\n",
      " |-- CNT_TRAN_CLO_TENDENCY1M: float (nullable = false)\n",
      " |-- CNT_TRAN_CLO_TENDENCY3M: float (nullable = false)\n",
      " |-- CNT_TRAN_MED_TENDENCY1M: float (nullable = false)\n",
      " |-- CNT_TRAN_MED_TENDENCY3M: float (nullable = false)\n",
      " |-- CNT_TRAN_SUP_TENDENCY1M: float (nullable = false)\n",
      " |-- CNT_TRAN_SUP_TENDENCY3M: float (nullable = false)\n",
      " |-- CR_PROD_CNT_CC: float (nullable = false)\n",
      " |-- CR_PROD_CNT_CCFP: float (nullable = false)\n",
      " |-- CR_PROD_CNT_IL: float (nullable = false)\n",
      " |-- CR_PROD_CNT_PIL: float (nullable = false)\n",
      " |-- CR_PROD_CNT_TOVR: float (nullable = false)\n",
      " |-- CR_PROD_CNT_VCU: float (nullable = false)\n",
      " |-- DEAL_GRACE_DAYS_ACC_AVG: float (nullable = false)\n",
      " |-- DEAL_GRACE_DAYS_ACC_MAX: float (nullable = false)\n",
      " |-- DEAL_GRACE_DAYS_ACC_S1X1: float (nullable = false)\n",
      " |-- DEAL_YQZ_IR_MAX: float (nullable = false)\n",
      " |-- DEAL_YQZ_IR_MIN: float (nullable = false)\n",
      " |-- DEAL_YWZ_IR_MAX: float (nullable = false)\n",
      " |-- DEAL_YWZ_IR_MIN: float (nullable = false)\n",
      " |-- LDEAL_ACT_DAYS_ACC_PCT_AVG: float (nullable = false)\n",
      " |-- LDEAL_ACT_DAYS_PCT_AAVG: float (nullable = false)\n",
      " |-- LDEAL_ACT_DAYS_PCT_CURR: float (nullable = false)\n",
      " |-- LDEAL_ACT_DAYS_PCT_TR: float (nullable = false)\n",
      " |-- LDEAL_ACT_DAYS_PCT_TR3: float (nullable = false)\n",
      " |-- LDEAL_ACT_DAYS_PCT_TR4: float (nullable = false)\n",
      " |-- LDEAL_AMT_MONTH: float (nullable = false)\n",
      " |-- LDEAL_DELINQ_PER_MAXYQZ: float (nullable = false)\n",
      " |-- LDEAL_DELINQ_PER_MAXYWZ: float (nullable = false)\n",
      " |-- LDEAL_GRACE_DAYS_PCT_MED: float (nullable = false)\n",
      " |-- LDEAL_TENOR_MAX: float (nullable = false)\n",
      " |-- LDEAL_TENOR_MIN: float (nullable = false)\n",
      " |-- LDEAL_USED_AMT_AVG_YQZ: float (nullable = false)\n",
      " |-- LDEAL_USED_AMT_AVG_YWZ: float (nullable = false)\n",
      " |-- LDEAL_YQZ_CHRG: float (nullable = false)\n",
      " |-- LDEAL_YQZ_COM: float (nullable = false)\n",
      " |-- LDEAL_YQZ_PC: float (nullable = false)\n",
      " |-- MAX_PCLOSE_DATE: float (nullable = false)\n",
      " |-- MED_DEBT_PRC_YQZ: float (nullable = false)\n",
      " |-- MED_DEBT_PRC_YWZ: float (nullable = false)\n",
      " |-- PACK: float (nullable = false)\n",
      " |-- PRC_ACCEPTS_A_AMOBILE: float (nullable = false)\n",
      " |-- PRC_ACCEPTS_A_ATM: float (nullable = false)\n",
      " |-- PRC_ACCEPTS_A_EMAIL_LINK: float (nullable = false)\n",
      " |-- PRC_ACCEPTS_A_MTP: float (nullable = false)\n",
      " |-- PRC_ACCEPTS_A_POS: float (nullable = false)\n",
      " |-- PRC_ACCEPTS_A_TK: float (nullable = false)\n",
      " |-- PRC_ACCEPTS_MTP: float (nullable = false)\n",
      " |-- PRC_ACCEPTS_TK: float (nullable = false)\n",
      " |-- REST_AVG_CUR: float (nullable = false)\n",
      " |-- REST_AVG_PAYM: float (nullable = false)\n",
      " |-- REST_DYNAMIC_CC_1M: float (nullable = false)\n",
      " |-- REST_DYNAMIC_CC_3M: float (nullable = false)\n",
      " |-- REST_DYNAMIC_CUR_1M: float (nullable = false)\n",
      " |-- REST_DYNAMIC_CUR_3M: float (nullable = false)\n",
      " |-- REST_DYNAMIC_FDEP_1M: float (nullable = false)\n",
      " |-- REST_DYNAMIC_FDEP_3M: float (nullable = false)\n",
      " |-- REST_DYNAMIC_IL_1M: float (nullable = false)\n",
      " |-- REST_DYNAMIC_IL_3M: float (nullable = false)\n",
      " |-- REST_DYNAMIC_PAYM_1M: float (nullable = false)\n",
      " |-- REST_DYNAMIC_PAYM_3M: float (nullable = false)\n",
      " |-- REST_DYNAMIC_SAVE_3M: float (nullable = false)\n",
      " |-- SUM_TRAN_ATM_TENDENCY1M: float (nullable = false)\n",
      " |-- SUM_TRAN_ATM_TENDENCY3M: float (nullable = false)\n",
      " |-- SUM_TRAN_AUT_TENDENCY1M: float (nullable = false)\n",
      " |-- SUM_TRAN_AUT_TENDENCY3M: float (nullable = false)\n",
      " |-- SUM_TRAN_CLO_TENDENCY1M: float (nullable = false)\n",
      " |-- SUM_TRAN_CLO_TENDENCY3M: float (nullable = false)\n",
      " |-- SUM_TRAN_MED_TENDENCY1M: float (nullable = false)\n",
      " |-- SUM_TRAN_MED_TENDENCY3M: float (nullable = false)\n",
      " |-- SUM_TRAN_SUP_TENDENCY1M: float (nullable = false)\n",
      " |-- SUM_TRAN_SUP_TENDENCY3M: float (nullable = false)\n",
      " |-- TRANS_AMOUNT_TENDENCY3M: float (nullable = false)\n",
      " |-- TRANS_CNT_TENDENCY3M: float (nullable = false)\n",
      " |-- TRANS_COUNT_ATM_PRC: float (nullable = false)\n",
      " |-- TRANS_COUNT_NAS_PRC: float (nullable = false)\n",
      " |-- TRANS_COUNT_SUP_PRC: float (nullable = false)\n",
      " |-- TURNOVER_CC: float (nullable = false)\n",
      " |-- TURNOVER_DYNAMIC_CC_1M: float (nullable = false)\n",
      " |-- TURNOVER_DYNAMIC_CC_3M: float (nullable = false)\n",
      " |-- TURNOVER_DYNAMIC_CUR_1M: float (nullable = false)\n",
      " |-- TURNOVER_DYNAMIC_CUR_3M: float (nullable = false)\n",
      " |-- TURNOVER_DYNAMIC_IL_1M: float (nullable = false)\n",
      " |-- TURNOVER_DYNAMIC_IL_3M: float (nullable = false)\n",
      " |-- TURNOVER_DYNAMIC_PAYM_1M: float (nullable = false)\n",
      " |-- TURNOVER_DYNAMIC_PAYM_3M: float (nullable = false)\n",
      " |-- TURNOVER_PAYM: float (nullable = false)\n",
      "\n"
     ]
    },
    {
     "data": {
      "text/plain": [
       "train_ds = [ID: int, TARGET: int ... 114 more fields]\n"
      ]
     },
     "metadata": {},
     "output_type": "display_data"
    },
    {
     "data": {
      "text/plain": [
       "[ID: int, TARGET: int ... 114 more fields]"
      ]
     },
     "execution_count": 9,
     "metadata": {},
     "output_type": "execute_result"
    }
   ],
   "source": [
    "\n",
    "val train_ds = train_csv.select(col(\"ID\").cast(IntegerType),\n",
    "                                col(\"TARGET\").cast(IntegerType),\n",
    "                                col(\"AGE\").cast(FloatType),\n",
    "                                col(\"AMOUNT_RUB_ATM_PRC\").cast(FloatType),\n",
    "                                col(\"AMOUNT_RUB_CLO_PRC\").cast(FloatType),\n",
    "                                col(\"AMOUNT_RUB_NAS_PRC\").cast(FloatType),\n",
    "                                col(\"AMOUNT_RUB_SUP_PRC\").cast(FloatType),\n",
    "                                col(\"APP_CAR\").cast(FloatType),\n",
    "                                col(\"APP_COMP_TYPE\").cast(FloatType),\n",
    "                                col(\"APP_DRIVING_LICENSE\").cast(FloatType),\n",
    "                                col(\"APP_EDUCATION\").cast(FloatType),\n",
    "                                col(\"APP_EMP_TYPE\").cast(FloatType),\n",
    "                                col(\"APP_KIND_OF_PROP_HABITATION\").cast(FloatType),\n",
    "                                col(\"APP_MARITAL_STATUS\").cast(FloatType),\n",
    "                                col(\"APP_POSITION_TYPE\").cast(FloatType),\n",
    "                                col(\"APP_REGISTR_RGN_CODE\").cast(FloatType),\n",
    "                                col(\"APP_TRAVEL_PASS\").cast(FloatType),\n",
    "                                col(\"AVG_PCT_DEBT_TO_DEAL_AMT\").cast(FloatType),\n",
    "                                col(\"AVG_PCT_MONTH_TO_PCLOSE\").cast(FloatType),\n",
    "                                col(\"CLNT_JOB_POSITION\").cast(FloatType),\n",
    "                                col(\"CLNT_JOB_POSITION_TYPE\").cast(FloatType),\n",
    "                                col(\"CLNT_SALARY_VALUE\").cast(FloatType),\n",
    "                                col(\"CLNT_SETUP_TENOR\").cast(FloatType),\n",
    "                                col(\"CLNT_TRUST_RELATION\").cast(FloatType),\n",
    "                                col(\"CNT_ACCEPTS_MTP\").cast(FloatType),\n",
    "                                col(\"CNT_ACCEPTS_TK\").cast(FloatType),\n",
    "                                col(\"CNT_TRAN_ATM_TENDENCY1M\").cast(FloatType),\n",
    "                                col(\"CNT_TRAN_ATM_TENDENCY3M\").cast(FloatType),\n",
    "                                col(\"CNT_TRAN_AUT_TENDENCY1M\").cast(FloatType),\n",
    "                                col(\"CNT_TRAN_AUT_TENDENCY3M\").cast(FloatType),\n",
    "                                col(\"CNT_TRAN_CLO_TENDENCY1M\").cast(FloatType),\n",
    "                                col(\"CNT_TRAN_CLO_TENDENCY3M\").cast(FloatType),\n",
    "                                col(\"CNT_TRAN_MED_TENDENCY1M\").cast(FloatType),\n",
    "                                col(\"CNT_TRAN_MED_TENDENCY3M\").cast(FloatType),\n",
    "                                col(\"CNT_TRAN_SUP_TENDENCY1M\").cast(FloatType),\n",
    "                                col(\"CNT_TRAN_SUP_TENDENCY3M\").cast(FloatType),\n",
    "                                col(\"CR_PROD_CNT_CC\").cast(FloatType),\n",
    "                                col(\"CR_PROD_CNT_CCFP\").cast(FloatType),\n",
    "                                col(\"CR_PROD_CNT_IL\").cast(FloatType),\n",
    "                                col(\"CR_PROD_CNT_PIL\").cast(FloatType),\n",
    "                                col(\"CR_PROD_CNT_TOVR\").cast(FloatType),\n",
    "                                col(\"CR_PROD_CNT_VCU\").cast(FloatType),\n",
    "                                col(\"DEAL_GRACE_DAYS_ACC_AVG\").cast(FloatType),\n",
    "                                col(\"DEAL_GRACE_DAYS_ACC_MAX\").cast(FloatType),\n",
    "                                col(\"DEAL_GRACE_DAYS_ACC_S1X1\").cast(FloatType),\n",
    "                                col(\"DEAL_YQZ_IR_MAX\").cast(FloatType),\n",
    "                                col(\"DEAL_YQZ_IR_MIN\").cast(FloatType),\n",
    "                                col(\"DEAL_YWZ_IR_MAX\").cast(FloatType),\n",
    "                                col(\"DEAL_YWZ_IR_MIN\").cast(FloatType),\n",
    "                                col(\"LDEAL_ACT_DAYS_ACC_PCT_AVG\").cast(FloatType),\n",
    "                                col(\"LDEAL_ACT_DAYS_PCT_AAVG\").cast(FloatType),\n",
    "                                col(\"LDEAL_ACT_DAYS_PCT_CURR\").cast(FloatType),\n",
    "                                col(\"LDEAL_ACT_DAYS_PCT_TR\").cast(FloatType),\n",
    "                                col(\"LDEAL_ACT_DAYS_PCT_TR3\").cast(FloatType),\n",
    "                                col(\"LDEAL_ACT_DAYS_PCT_TR4\").cast(FloatType),\n",
    "                                col(\"LDEAL_AMT_MONTH\").cast(FloatType),\n",
    "                                col(\"LDEAL_DELINQ_PER_MAXYQZ\").cast(FloatType),\n",
    "                                col(\"LDEAL_DELINQ_PER_MAXYWZ\").cast(FloatType),\n",
    "                                col(\"LDEAL_GRACE_DAYS_PCT_MED\").cast(FloatType),\n",
    "                                col(\"LDEAL_TENOR_MAX\").cast(FloatType),\n",
    "                                col(\"LDEAL_TENOR_MIN\").cast(FloatType),\n",
    "                                col(\"LDEAL_USED_AMT_AVG_YQZ\").cast(FloatType),\n",
    "                                col(\"LDEAL_USED_AMT_AVG_YWZ\").cast(FloatType),\n",
    "                                col(\"LDEAL_YQZ_CHRG\").cast(FloatType),\n",
    "                                col(\"LDEAL_YQZ_COM\").cast(FloatType),\n",
    "                                col(\"LDEAL_YQZ_PC\").cast(FloatType),\n",
    "                                col(\"MAX_PCLOSE_DATE\").cast(FloatType),\n",
    "                                col(\"MED_DEBT_PRC_YQZ\").cast(FloatType),\n",
    "                                col(\"MED_DEBT_PRC_YWZ\").cast(FloatType),\n",
    "                                col(\"PACK\").cast(FloatType),\n",
    "                                col(\"PRC_ACCEPTS_A_AMOBILE\").cast(FloatType),\n",
    "                                col(\"PRC_ACCEPTS_A_ATM\").cast(FloatType),\n",
    "                                col(\"PRC_ACCEPTS_A_EMAIL_LINK\").cast(FloatType),\n",
    "                                col(\"PRC_ACCEPTS_A_MTP\").cast(FloatType),\n",
    "                                col(\"PRC_ACCEPTS_A_POS\").cast(FloatType),\n",
    "                                col(\"PRC_ACCEPTS_A_TK\").cast(FloatType),\n",
    "                                col(\"PRC_ACCEPTS_MTP\").cast(FloatType),\n",
    "                                col(\"PRC_ACCEPTS_TK\").cast(FloatType),\n",
    "                                col(\"REST_AVG_CUR\").cast(FloatType),\n",
    "                                col(\"REST_AVG_PAYM\").cast(FloatType),\n",
    "                                col(\"REST_DYNAMIC_CC_1M\").cast(FloatType),\n",
    "                                col(\"REST_DYNAMIC_CC_3M\").cast(FloatType),\n",
    "                                col(\"REST_DYNAMIC_CUR_1M\").cast(FloatType),\n",
    "                                col(\"REST_DYNAMIC_CUR_3M\").cast(FloatType),\n",
    "                                col(\"REST_DYNAMIC_FDEP_1M\").cast(FloatType),\n",
    "                                col(\"REST_DYNAMIC_FDEP_3M\").cast(FloatType),\n",
    "                                col(\"REST_DYNAMIC_IL_1M\").cast(FloatType),\n",
    "                                col(\"REST_DYNAMIC_IL_3M\").cast(FloatType),\n",
    "                                col(\"REST_DYNAMIC_PAYM_1M\").cast(FloatType),\n",
    "                                col(\"REST_DYNAMIC_PAYM_3M\").cast(FloatType),\n",
    "                                col(\"REST_DYNAMIC_SAVE_3M\").cast(FloatType),\n",
    "                                col(\"SUM_TRAN_ATM_TENDENCY1M\").cast(FloatType),\n",
    "                                col(\"SUM_TRAN_ATM_TENDENCY3M\").cast(FloatType),\n",
    "                                col(\"SUM_TRAN_AUT_TENDENCY1M\").cast(FloatType),\n",
    "                                col(\"SUM_TRAN_AUT_TENDENCY3M\").cast(FloatType),\n",
    "                                col(\"SUM_TRAN_CLO_TENDENCY1M\").cast(FloatType),\n",
    "                                col(\"SUM_TRAN_CLO_TENDENCY3M\").cast(FloatType),\n",
    "                                col(\"SUM_TRAN_MED_TENDENCY1M\").cast(FloatType),\n",
    "                                col(\"SUM_TRAN_MED_TENDENCY3M\").cast(FloatType),\n",
    "                                col(\"SUM_TRAN_SUP_TENDENCY1M\").cast(FloatType),\n",
    "                                col(\"SUM_TRAN_SUP_TENDENCY3M\").cast(FloatType),\n",
    "                                col(\"TRANS_AMOUNT_TENDENCY3M\").cast(FloatType),\n",
    "                                col(\"TRANS_CNT_TENDENCY3M\").cast(FloatType),\n",
    "                                col(\"TRANS_COUNT_ATM_PRC\").cast(FloatType),\n",
    "                                col(\"TRANS_COUNT_NAS_PRC\").cast(FloatType),\n",
    "                                col(\"TRANS_COUNT_SUP_PRC\").cast(FloatType),\n",
    "                                col(\"TURNOVER_CC\").cast(FloatType),\n",
    "                                col(\"TURNOVER_DYNAMIC_CC_1M\").cast(FloatType),\n",
    "                                col(\"TURNOVER_DYNAMIC_CC_3M\").cast(FloatType),\n",
    "                                col(\"TURNOVER_DYNAMIC_CUR_1M\").cast(FloatType),\n",
    "                                col(\"TURNOVER_DYNAMIC_CUR_3M\").cast(FloatType),\n",
    "                                col(\"TURNOVER_DYNAMIC_IL_1M\").cast(FloatType),\n",
    "                                col(\"TURNOVER_DYNAMIC_IL_3M\").cast(FloatType),\n",
    "                                col(\"TURNOVER_DYNAMIC_PAYM_1M\").cast(FloatType),\n",
    "                                col(\"TURNOVER_DYNAMIC_PAYM_3M\").cast(FloatType),\n",
    "                                col(\"TURNOVER_PAYM\").cast(FloatType)\n",
    "                               ).na.fill(0.0)\n",
    "train_ds.printSchema"
   ]
  },
  {
   "cell_type": "code",
   "execution_count": 10,
   "metadata": {},
   "outputs": [
    {
     "data": {
      "text/plain": [
       "assembler = vecAssembler_035bec894093\n",
       "train_vec = [ID: int, TARGET: int ... 115 more fields]\n"
      ]
     },
     "metadata": {},
     "output_type": "display_data"
    },
    {
     "data": {
      "text/plain": [
       "[ID: int, TARGET: int ... 115 more fields]"
      ]
     },
     "execution_count": 10,
     "metadata": {},
     "output_type": "execute_result"
    }
   ],
   "source": [
    "import org.apache.spark.ml.feature.VectorAssembler\n",
    "\n",
    "val assembler = new VectorAssembler()\n",
    "                .setInputCols(feature_col_list)\n",
    "                .setOutputCol(\"features\")\n",
    "\n",
    "val train_vec = assembler.transform(train_ds)"
   ]
  },
  {
   "cell_type": "code",
   "execution_count": 11,
   "metadata": {},
   "outputs": [
    {
     "data": {
      "text/plain": [
       "rf_model = rfc_ee7ddf5e9a8e\n",
       "rf_model_trans = RandomForestClassificationModel (uid=rfc_ee7ddf5e9a8e) with 10 trees\n"
      ]
     },
     "metadata": {},
     "output_type": "display_data"
    },
    {
     "data": {
      "text/plain": [
       "RandomForestClassificationModel (uid=rfc_ee7ddf5e9a8e) with 10 trees"
      ]
     },
     "execution_count": 11,
     "metadata": {},
     "output_type": "execute_result"
    }
   ],
   "source": [
    "import org.apache.spark.ml.classification.RandomForestClassifier\n",
    "\n",
    "val rf_model = new RandomForestClassifier()\n",
    "                .setFeaturesCol(\"features\")\n",
    "                .setLabelCol(\"TARGET\")\n",
    "                .setNumTrees(10)\n",
    "                .setMaxDepth(10)\n",
    "\n",
    "val rf_model_trans = rf_model.fit(train_vec)"
   ]
  },
  {
   "cell_type": "code",
   "execution_count": 12,
   "metadata": {},
   "outputs": [
    {
     "data": {
      "text/plain": [
       "train_predict = [ID: int, TARGET: int ... 118 more fields]\n",
       "roc = 0.8186136411766853\n"
      ]
     },
     "metadata": {},
     "output_type": "display_data"
    },
    {
     "data": {
      "text/plain": [
       "0.8186136411766853"
      ]
     },
     "execution_count": 12,
     "metadata": {},
     "output_type": "execute_result"
    }
   ],
   "source": [
    "import org.apache.spark.ml.evaluation.BinaryClassificationEvaluator\n",
    "\n",
    "val train_predict = rf_model_trans.transform(train_vec)\n",
    "\n",
    "val roc = new BinaryClassificationEvaluator()\n",
    "        .setRawPredictionCol(\"probability\")\n",
    "        .setLabelCol(\"TARGET\")\n",
    "        .setMetricName(\"areaUnderROC\")\n",
    "        .evaluate(train_predict)"
   ]
  },
  {
   "cell_type": "code",
   "execution_count": 24,
   "metadata": {},
   "outputs": [
    {
     "name": "stdout",
     "output_type": "stream",
     "text": [
      "root\n",
      " |-- ID: integer (nullable = true)\n",
      " |-- AGE: float (nullable = false)\n",
      " |-- AMOUNT_RUB_ATM_PRC: float (nullable = false)\n",
      " |-- AMOUNT_RUB_CLO_PRC: float (nullable = false)\n",
      " |-- AMOUNT_RUB_NAS_PRC: float (nullable = false)\n",
      " |-- AMOUNT_RUB_SUP_PRC: float (nullable = false)\n",
      " |-- APP_CAR: float (nullable = false)\n",
      " |-- APP_COMP_TYPE: float (nullable = false)\n",
      " |-- APP_DRIVING_LICENSE: float (nullable = false)\n",
      " |-- APP_EDUCATION: float (nullable = false)\n",
      " |-- APP_EMP_TYPE: float (nullable = false)\n",
      " |-- APP_KIND_OF_PROP_HABITATION: float (nullable = false)\n",
      " |-- APP_MARITAL_STATUS: float (nullable = false)\n",
      " |-- APP_POSITION_TYPE: float (nullable = false)\n",
      " |-- APP_REGISTR_RGN_CODE: float (nullable = false)\n",
      " |-- APP_TRAVEL_PASS: float (nullable = false)\n",
      " |-- AVG_PCT_DEBT_TO_DEAL_AMT: float (nullable = false)\n",
      " |-- AVG_PCT_MONTH_TO_PCLOSE: float (nullable = false)\n",
      " |-- CLNT_JOB_POSITION: float (nullable = false)\n",
      " |-- CLNT_JOB_POSITION_TYPE: float (nullable = false)\n",
      " |-- CLNT_SALARY_VALUE: float (nullable = false)\n",
      " |-- CLNT_SETUP_TENOR: float (nullable = false)\n",
      " |-- CLNT_TRUST_RELATION: float (nullable = false)\n",
      " |-- CNT_ACCEPTS_MTP: float (nullable = false)\n",
      " |-- CNT_ACCEPTS_TK: float (nullable = false)\n",
      " |-- CNT_TRAN_ATM_TENDENCY1M: float (nullable = false)\n",
      " |-- CNT_TRAN_ATM_TENDENCY3M: float (nullable = false)\n",
      " |-- CNT_TRAN_AUT_TENDENCY1M: float (nullable = false)\n",
      " |-- CNT_TRAN_AUT_TENDENCY3M: float (nullable = false)\n",
      " |-- CNT_TRAN_CLO_TENDENCY1M: float (nullable = false)\n",
      " |-- CNT_TRAN_CLO_TENDENCY3M: float (nullable = false)\n",
      " |-- CNT_TRAN_MED_TENDENCY1M: float (nullable = false)\n",
      " |-- CNT_TRAN_MED_TENDENCY3M: float (nullable = false)\n",
      " |-- CNT_TRAN_SUP_TENDENCY1M: float (nullable = false)\n",
      " |-- CNT_TRAN_SUP_TENDENCY3M: float (nullable = false)\n",
      " |-- CR_PROD_CNT_CC: float (nullable = false)\n",
      " |-- CR_PROD_CNT_CCFP: float (nullable = false)\n",
      " |-- CR_PROD_CNT_IL: float (nullable = false)\n",
      " |-- CR_PROD_CNT_PIL: float (nullable = false)\n",
      " |-- CR_PROD_CNT_TOVR: float (nullable = false)\n",
      " |-- CR_PROD_CNT_VCU: float (nullable = false)\n",
      " |-- DEAL_GRACE_DAYS_ACC_AVG: float (nullable = false)\n",
      " |-- DEAL_GRACE_DAYS_ACC_MAX: float (nullable = false)\n",
      " |-- DEAL_GRACE_DAYS_ACC_S1X1: float (nullable = false)\n",
      " |-- DEAL_YQZ_IR_MAX: float (nullable = false)\n",
      " |-- DEAL_YQZ_IR_MIN: float (nullable = false)\n",
      " |-- DEAL_YWZ_IR_MAX: float (nullable = false)\n",
      " |-- DEAL_YWZ_IR_MIN: float (nullable = false)\n",
      " |-- LDEAL_ACT_DAYS_ACC_PCT_AVG: float (nullable = false)\n",
      " |-- LDEAL_ACT_DAYS_PCT_AAVG: float (nullable = false)\n",
      " |-- LDEAL_ACT_DAYS_PCT_CURR: float (nullable = false)\n",
      " |-- LDEAL_ACT_DAYS_PCT_TR: float (nullable = false)\n",
      " |-- LDEAL_ACT_DAYS_PCT_TR3: float (nullable = false)\n",
      " |-- LDEAL_ACT_DAYS_PCT_TR4: float (nullable = false)\n",
      " |-- LDEAL_AMT_MONTH: float (nullable = false)\n",
      " |-- LDEAL_DELINQ_PER_MAXYQZ: float (nullable = false)\n",
      " |-- LDEAL_DELINQ_PER_MAXYWZ: float (nullable = false)\n",
      " |-- LDEAL_GRACE_DAYS_PCT_MED: float (nullable = false)\n",
      " |-- LDEAL_TENOR_MAX: float (nullable = false)\n",
      " |-- LDEAL_TENOR_MIN: float (nullable = false)\n",
      " |-- LDEAL_USED_AMT_AVG_YQZ: float (nullable = false)\n",
      " |-- LDEAL_USED_AMT_AVG_YWZ: float (nullable = false)\n",
      " |-- LDEAL_YQZ_CHRG: float (nullable = false)\n",
      " |-- LDEAL_YQZ_COM: float (nullable = false)\n",
      " |-- LDEAL_YQZ_PC: float (nullable = false)\n",
      " |-- MAX_PCLOSE_DATE: float (nullable = false)\n",
      " |-- MED_DEBT_PRC_YQZ: float (nullable = false)\n",
      " |-- MED_DEBT_PRC_YWZ: float (nullable = false)\n",
      " |-- PACK: float (nullable = false)\n",
      " |-- PRC_ACCEPTS_A_AMOBILE: float (nullable = false)\n",
      " |-- PRC_ACCEPTS_A_ATM: float (nullable = false)\n",
      " |-- PRC_ACCEPTS_A_EMAIL_LINK: float (nullable = false)\n",
      " |-- PRC_ACCEPTS_A_MTP: float (nullable = false)\n",
      " |-- PRC_ACCEPTS_A_POS: float (nullable = false)\n",
      " |-- PRC_ACCEPTS_A_TK: float (nullable = false)\n",
      " |-- PRC_ACCEPTS_MTP: float (nullable = false)\n",
      " |-- PRC_ACCEPTS_TK: float (nullable = false)\n",
      " |-- REST_AVG_CUR: float (nullable = false)\n",
      " |-- REST_AVG_PAYM: float (nullable = false)\n",
      " |-- REST_DYNAMIC_CC_1M: float (nullable = false)\n",
      " |-- REST_DYNAMIC_CC_3M: float (nullable = false)\n",
      " |-- REST_DYNAMIC_CUR_1M: float (nullable = false)\n",
      " |-- REST_DYNAMIC_CUR_3M: float (nullable = false)\n",
      " |-- REST_DYNAMIC_FDEP_1M: float (nullable = false)\n",
      " |-- REST_DYNAMIC_FDEP_3M: float (nullable = false)\n",
      " |-- REST_DYNAMIC_IL_1M: float (nullable = false)\n",
      " |-- REST_DYNAMIC_IL_3M: float (nullable = false)\n",
      " |-- REST_DYNAMIC_PAYM_1M: float (nullable = false)\n",
      " |-- REST_DYNAMIC_PAYM_3M: float (nullable = false)\n",
      " |-- REST_DYNAMIC_SAVE_3M: float (nullable = false)\n",
      " |-- SUM_TRAN_ATM_TENDENCY1M: float (nullable = false)\n",
      " |-- SUM_TRAN_ATM_TENDENCY3M: float (nullable = false)\n",
      " |-- SUM_TRAN_AUT_TENDENCY1M: float (nullable = false)\n",
      " |-- SUM_TRAN_AUT_TENDENCY3M: float (nullable = false)\n",
      " |-- SUM_TRAN_CLO_TENDENCY1M: float (nullable = false)\n",
      " |-- SUM_TRAN_CLO_TENDENCY3M: float (nullable = false)\n",
      " |-- SUM_TRAN_MED_TENDENCY1M: float (nullable = false)\n",
      " |-- SUM_TRAN_MED_TENDENCY3M: float (nullable = false)\n",
      " |-- SUM_TRAN_SUP_TENDENCY1M: float (nullable = false)\n",
      " |-- SUM_TRAN_SUP_TENDENCY3M: float (nullable = false)\n",
      " |-- TRANS_AMOUNT_TENDENCY3M: float (nullable = false)\n",
      " |-- TRANS_CNT_TENDENCY3M: float (nullable = false)\n",
      " |-- TRANS_COUNT_ATM_PRC: float (nullable = false)\n",
      " |-- TRANS_COUNT_NAS_PRC: float (nullable = false)\n",
      " |-- TRANS_COUNT_SUP_PRC: float (nullable = false)\n",
      " |-- TURNOVER_CC: float (nullable = false)\n",
      " |-- TURNOVER_DYNAMIC_CC_1M: float (nullable = false)\n",
      " |-- TURNOVER_DYNAMIC_CC_3M: float (nullable = false)\n",
      " |-- TURNOVER_DYNAMIC_CUR_1M: float (nullable = false)\n",
      " |-- TURNOVER_DYNAMIC_CUR_3M: float (nullable = false)\n",
      " |-- TURNOVER_DYNAMIC_IL_1M: float (nullable = false)\n",
      " |-- TURNOVER_DYNAMIC_IL_3M: float (nullable = false)\n",
      " |-- TURNOVER_DYNAMIC_PAYM_1M: float (nullable = false)\n",
      " |-- TURNOVER_DYNAMIC_PAYM_3M: float (nullable = false)\n",
      " |-- TURNOVER_PAYM: float (nullable = false)\n",
      "\n"
     ]
    },
    {
     "data": {
      "text/plain": [
       "test_ds = [ID: int, AGE: float ... 113 more fields]\n"
      ]
     },
     "metadata": {},
     "output_type": "display_data"
    },
    {
     "data": {
      "text/plain": [
       "lastException: Throwable = null\n"
      ]
     },
     "metadata": {},
     "output_type": "display_data"
    },
    {
     "data": {
      "text/plain": [
       "[ID: int, AGE: float ... 113 more fields]"
      ]
     },
     "execution_count": 24,
     "metadata": {},
     "output_type": "execute_result"
    }
   ],
   "source": [
    "val test_ds = test_csv.select(col(\"ID\").cast(IntegerType),\n",
    "                                col(\"AGE\").cast(FloatType),\n",
    "                                col(\"AMOUNT_RUB_ATM_PRC\").cast(FloatType),\n",
    "                                col(\"AMOUNT_RUB_CLO_PRC\").cast(FloatType),\n",
    "                                col(\"AMOUNT_RUB_NAS_PRC\").cast(FloatType),\n",
    "                                col(\"AMOUNT_RUB_SUP_PRC\").cast(FloatType),\n",
    "                                col(\"APP_CAR\").cast(FloatType),\n",
    "                                col(\"APP_COMP_TYPE\").cast(FloatType),\n",
    "                                col(\"APP_DRIVING_LICENSE\").cast(FloatType),\n",
    "                                col(\"APP_EDUCATION\").cast(FloatType),\n",
    "                                col(\"APP_EMP_TYPE\").cast(FloatType),\n",
    "                                col(\"APP_KIND_OF_PROP_HABITATION\").cast(FloatType),\n",
    "                                col(\"APP_MARITAL_STATUS\").cast(FloatType),\n",
    "                                col(\"APP_POSITION_TYPE\").cast(FloatType),\n",
    "                                col(\"APP_REGISTR_RGN_CODE\").cast(FloatType),\n",
    "                                col(\"APP_TRAVEL_PASS\").cast(FloatType),\n",
    "                                col(\"AVG_PCT_DEBT_TO_DEAL_AMT\").cast(FloatType),\n",
    "                                col(\"AVG_PCT_MONTH_TO_PCLOSE\").cast(FloatType),\n",
    "                                col(\"CLNT_JOB_POSITION\").cast(FloatType),\n",
    "                                col(\"CLNT_JOB_POSITION_TYPE\").cast(FloatType),\n",
    "                                col(\"CLNT_SALARY_VALUE\").cast(FloatType),\n",
    "                                col(\"CLNT_SETUP_TENOR\").cast(FloatType),\n",
    "                                col(\"CLNT_TRUST_RELATION\").cast(FloatType),\n",
    "                                col(\"CNT_ACCEPTS_MTP\").cast(FloatType),\n",
    "                                col(\"CNT_ACCEPTS_TK\").cast(FloatType),\n",
    "                                col(\"CNT_TRAN_ATM_TENDENCY1M\").cast(FloatType),\n",
    "                                col(\"CNT_TRAN_ATM_TENDENCY3M\").cast(FloatType),\n",
    "                                col(\"CNT_TRAN_AUT_TENDENCY1M\").cast(FloatType),\n",
    "                                col(\"CNT_TRAN_AUT_TENDENCY3M\").cast(FloatType),\n",
    "                                col(\"CNT_TRAN_CLO_TENDENCY1M\").cast(FloatType),\n",
    "                                col(\"CNT_TRAN_CLO_TENDENCY3M\").cast(FloatType),\n",
    "                                col(\"CNT_TRAN_MED_TENDENCY1M\").cast(FloatType),\n",
    "                                col(\"CNT_TRAN_MED_TENDENCY3M\").cast(FloatType),\n",
    "                                col(\"CNT_TRAN_SUP_TENDENCY1M\").cast(FloatType),\n",
    "                                col(\"CNT_TRAN_SUP_TENDENCY3M\").cast(FloatType),\n",
    "                                col(\"CR_PROD_CNT_CC\").cast(FloatType),\n",
    "                                col(\"CR_PROD_CNT_CCFP\").cast(FloatType),\n",
    "                                col(\"CR_PROD_CNT_IL\").cast(FloatType),\n",
    "                                col(\"CR_PROD_CNT_PIL\").cast(FloatType),\n",
    "                                col(\"CR_PROD_CNT_TOVR\").cast(FloatType),\n",
    "                                col(\"CR_PROD_CNT_VCU\").cast(FloatType),\n",
    "                                col(\"DEAL_GRACE_DAYS_ACC_AVG\").cast(FloatType),\n",
    "                                col(\"DEAL_GRACE_DAYS_ACC_MAX\").cast(FloatType),\n",
    "                                col(\"DEAL_GRACE_DAYS_ACC_S1X1\").cast(FloatType),\n",
    "                                col(\"DEAL_YQZ_IR_MAX\").cast(FloatType),\n",
    "                                col(\"DEAL_YQZ_IR_MIN\").cast(FloatType),\n",
    "                                col(\"DEAL_YWZ_IR_MAX\").cast(FloatType),\n",
    "                                col(\"DEAL_YWZ_IR_MIN\").cast(FloatType),\n",
    "                                col(\"LDEAL_ACT_DAYS_ACC_PCT_AVG\").cast(FloatType),\n",
    "                                col(\"LDEAL_ACT_DAYS_PCT_AAVG\").cast(FloatType),\n",
    "                                col(\"LDEAL_ACT_DAYS_PCT_CURR\").cast(FloatType),\n",
    "                                col(\"LDEAL_ACT_DAYS_PCT_TR\").cast(FloatType),\n",
    "                                col(\"LDEAL_ACT_DAYS_PCT_TR3\").cast(FloatType),\n",
    "                                col(\"LDEAL_ACT_DAYS_PCT_TR4\").cast(FloatType),\n",
    "                                col(\"LDEAL_AMT_MONTH\").cast(FloatType),\n",
    "                                col(\"LDEAL_DELINQ_PER_MAXYQZ\").cast(FloatType),\n",
    "                                col(\"LDEAL_DELINQ_PER_MAXYWZ\").cast(FloatType),\n",
    "                                col(\"LDEAL_GRACE_DAYS_PCT_MED\").cast(FloatType),\n",
    "                                col(\"LDEAL_TENOR_MAX\").cast(FloatType),\n",
    "                                col(\"LDEAL_TENOR_MIN\").cast(FloatType),\n",
    "                                col(\"LDEAL_USED_AMT_AVG_YQZ\").cast(FloatType),\n",
    "                                col(\"LDEAL_USED_AMT_AVG_YWZ\").cast(FloatType),\n",
    "                                col(\"LDEAL_YQZ_CHRG\").cast(FloatType),\n",
    "                                col(\"LDEAL_YQZ_COM\").cast(FloatType),\n",
    "                                col(\"LDEAL_YQZ_PC\").cast(FloatType),\n",
    "                                col(\"MAX_PCLOSE_DATE\").cast(FloatType),\n",
    "                                col(\"MED_DEBT_PRC_YQZ\").cast(FloatType),\n",
    "                                col(\"MED_DEBT_PRC_YWZ\").cast(FloatType),\n",
    "                                col(\"PACK\").cast(FloatType),\n",
    "                                col(\"PRC_ACCEPTS_A_AMOBILE\").cast(FloatType),\n",
    "                                col(\"PRC_ACCEPTS_A_ATM\").cast(FloatType),\n",
    "                                col(\"PRC_ACCEPTS_A_EMAIL_LINK\").cast(FloatType),\n",
    "                                col(\"PRC_ACCEPTS_A_MTP\").cast(FloatType),\n",
    "                                col(\"PRC_ACCEPTS_A_POS\").cast(FloatType),\n",
    "                                col(\"PRC_ACCEPTS_A_TK\").cast(FloatType),\n",
    "                                col(\"PRC_ACCEPTS_MTP\").cast(FloatType),\n",
    "                                col(\"PRC_ACCEPTS_TK\").cast(FloatType),\n",
    "                                col(\"REST_AVG_CUR\").cast(FloatType),\n",
    "                                col(\"REST_AVG_PAYM\").cast(FloatType),\n",
    "                                col(\"REST_DYNAMIC_CC_1M\").cast(FloatType),\n",
    "                                col(\"REST_DYNAMIC_CC_3M\").cast(FloatType),\n",
    "                                col(\"REST_DYNAMIC_CUR_1M\").cast(FloatType),\n",
    "                                col(\"REST_DYNAMIC_CUR_3M\").cast(FloatType),\n",
    "                                col(\"REST_DYNAMIC_FDEP_1M\").cast(FloatType),\n",
    "                                col(\"REST_DYNAMIC_FDEP_3M\").cast(FloatType),\n",
    "                                col(\"REST_DYNAMIC_IL_1M\").cast(FloatType),\n",
    "                                col(\"REST_DYNAMIC_IL_3M\").cast(FloatType),\n",
    "                                col(\"REST_DYNAMIC_PAYM_1M\").cast(FloatType),\n",
    "                                col(\"REST_DYNAMIC_PAYM_3M\").cast(FloatType),\n",
    "                                col(\"REST_DYNAMIC_SAVE_3M\").cast(FloatType),\n",
    "                                col(\"SUM_TRAN_ATM_TENDENCY1M\").cast(FloatType),\n",
    "                                col(\"SUM_TRAN_ATM_TENDENCY3M\").cast(FloatType),\n",
    "                                col(\"SUM_TRAN_AUT_TENDENCY1M\").cast(FloatType),\n",
    "                                col(\"SUM_TRAN_AUT_TENDENCY3M\").cast(FloatType),\n",
    "                                col(\"SUM_TRAN_CLO_TENDENCY1M\").cast(FloatType),\n",
    "                                col(\"SUM_TRAN_CLO_TENDENCY3M\").cast(FloatType),\n",
    "                                col(\"SUM_TRAN_MED_TENDENCY1M\").cast(FloatType),\n",
    "                                col(\"SUM_TRAN_MED_TENDENCY3M\").cast(FloatType),\n",
    "                                col(\"SUM_TRAN_SUP_TENDENCY1M\").cast(FloatType),\n",
    "                                col(\"SUM_TRAN_SUP_TENDENCY3M\").cast(FloatType),\n",
    "                                col(\"TRANS_AMOUNT_TENDENCY3M\").cast(FloatType),\n",
    "                                col(\"TRANS_CNT_TENDENCY3M\").cast(FloatType),\n",
    "                                col(\"TRANS_COUNT_ATM_PRC\").cast(FloatType),\n",
    "                                col(\"TRANS_COUNT_NAS_PRC\").cast(FloatType),\n",
    "                                col(\"TRANS_COUNT_SUP_PRC\").cast(FloatType),\n",
    "                                col(\"TURNOVER_CC\").cast(FloatType),\n",
    "                                col(\"TURNOVER_DYNAMIC_CC_1M\").cast(FloatType),\n",
    "                                col(\"TURNOVER_DYNAMIC_CC_3M\").cast(FloatType),\n",
    "                                col(\"TURNOVER_DYNAMIC_CUR_1M\").cast(FloatType),\n",
    "                                col(\"TURNOVER_DYNAMIC_CUR_3M\").cast(FloatType),\n",
    "                                col(\"TURNOVER_DYNAMIC_IL_1M\").cast(FloatType),\n",
    "                                col(\"TURNOVER_DYNAMIC_IL_3M\").cast(FloatType),\n",
    "                                col(\"TURNOVER_DYNAMIC_PAYM_1M\").cast(FloatType),\n",
    "                                col(\"TURNOVER_DYNAMIC_PAYM_3M\").cast(FloatType),\n",
    "                                col(\"TURNOVER_PAYM\").cast(FloatType)\n",
    "                               ).na.fill(0.0)\n",
    "test_ds.printSchema"
   ]
  },
  {
   "cell_type": "code",
   "execution_count": 25,
   "metadata": {},
   "outputs": [
    {
     "data": {
      "text/plain": [
       "test_vec = [ID: int, AGE: float ... 114 more fields]\n"
      ]
     },
     "metadata": {},
     "output_type": "display_data"
    },
    {
     "data": {
      "text/plain": [
       "[ID: int, AGE: float ... 114 more fields]"
      ]
     },
     "execution_count": 25,
     "metadata": {},
     "output_type": "execute_result"
    }
   ],
   "source": [
    "val test_vec = assembler.transform(test_ds)"
   ]
  },
  {
   "cell_type": "code",
   "execution_count": 26,
   "metadata": {},
   "outputs": [
    {
     "data": {
      "text/plain": [
       "test_predict = [ID: int, AGE: float ... 117 more fields]\n"
      ]
     },
     "metadata": {},
     "output_type": "display_data"
    },
    {
     "data": {
      "text/plain": [
       "[ID: int, AGE: float ... 117 more fields]"
      ]
     },
     "execution_count": 26,
     "metadata": {},
     "output_type": "execute_result"
    }
   ],
   "source": [
    "val test_predict = rf_model_trans.transform(test_vec)"
   ]
  },
  {
   "cell_type": "code",
   "execution_count": 27,
   "metadata": {},
   "outputs": [
    {
     "data": {
      "text/plain": [
       "vec_to_list = UserDefinedFunction(<function1>,ArrayType(DoubleType,false),Some(List(org.apache.spark.ml.linalg.VectorUDT@3bfc3ba7)))\n"
      ]
     },
     "metadata": {},
     "output_type": "display_data"
    },
    {
     "data": {
      "text/plain": [
       "UserDefinedFunction(<function1>,ArrayType(DoubleType,false),Some(List(org.apache.spark.ml.linalg.VectorUDT@3bfc3ba7)))"
      ]
     },
     "execution_count": 27,
     "metadata": {},
     "output_type": "execute_result"
    }
   ],
   "source": [
    "import org.apache.spark.ml.linalg.Vector\n",
    "\n",
    "val vec_to_list = udf((vec: Vector) => vec.toArray)"
   ]
  },
  {
   "cell_type": "code",
   "execution_count": 28,
   "metadata": {
    "scrolled": true
   },
   "outputs": [
    {
     "name": "stdout",
     "output_type": "stream",
     "text": [
      "+------+-------------------+\n",
      "|    id|             target|\n",
      "+------+-------------------+\n",
      "|519130|0.12964345158862584|\n",
      "|234045|0.03132316440979494|\n",
      "|401256|0.03071143272670928|\n",
      "+------+-------------------+\n",
      "only showing top 3 rows\n",
      "\n"
     ]
    },
    {
     "data": {
      "text/plain": [
       "res_csv = [id: int, target: double]\n"
      ]
     },
     "metadata": {},
     "output_type": "display_data"
    },
    {
     "data": {
      "text/plain": [
       "[id: int, target: double]"
      ]
     },
     "execution_count": 28,
     "metadata": {},
     "output_type": "execute_result"
    }
   ],
   "source": [
    "val res_csv = test_predict.select(col(\"ID\").alias(\"id\"), vec_to_list(col(\"probability\")).getItem(1).alias(\"target\"))\n",
    "\n",
    "res_csv.show(3)"
   ]
  },
  {
   "cell_type": "code",
   "execution_count": 29,
   "metadata": {},
   "outputs": [],
   "source": [
    "res_csv.coalesce(1)\n",
    "    .write.mode(\"overwrite\")\n",
    "    .format(\"csv\")\n",
    "    .option(\"delimiter\", \"\\t\")\n",
    "    .option(\"header\",\"True\")\n",
    "    .option(\"encoding\", \"UTF-8\")\n",
    "    .save(\"lab05\")"
   ]
  },
  {
   "cell_type": "code",
   "execution_count": 30,
   "metadata": {},
   "outputs": [
    {
     "data": {
      "text/plain": [
       "res60: String = \"\"\n"
      ]
     },
     "metadata": {},
     "output_type": "display_data"
    }
   ],
   "source": [
    "\"\"\"hdfs dfs -mv lab05/part-00000-*.csv lab05/lab05.csv\"\"\".!!\n",
    "\"\"\"hdfs dfs -copyToLocal lab05/lab05.csv\"\"\".!!"
   ]
  },
  {
   "cell_type": "code",
   "execution_count": 20,
   "metadata": {},
   "outputs": [
    {
     "name": "stdout",
     "output_type": "stream",
     "text": [
      "head: cannot open 'lab05.csv' for reading: No such file or directory\n"
     ]
    },
    {
     "data": {
      "text/plain": [
       "lastException = null\n"
      ]
     },
     "metadata": {},
     "output_type": "display_data"
    },
    {
     "data": {
      "text/plain": [
       "Name: java.lang.RuntimeException\n",
       "Message: Nonzero exit value: 1\n",
       "StackTrace:   at scala.sys.package$.error(package.scala:27)\n",
       "  at scala.sys.process.ProcessBuilderImpl$AbstractBuilder.slurp(ProcessBuilderImpl.scala:132)\n",
       "  at scala.sys.process.ProcessBuilderImpl$AbstractBuilder.$bang$bang(ProcessBuilderImpl.scala:102)"
      ]
     },
     "execution_count": 20,
     "metadata": {},
     "output_type": "execute_result"
    }
   ],
   "source": [
    "\"\"\"head -n 3 lab05.csv\"\"\".!!"
   ]
  },
  {
   "cell_type": "code",
   "execution_count": 21,
   "metadata": {},
   "outputs": [
    {
     "data": {
      "text/plain": [
       "lastException: Throwable = null\n"
      ]
     },
     "metadata": {},
     "output_type": "display_data"
    },
    {
     "data": {
      "text/plain": [
       "hdfs dfs -rm -R lab05.csv"
      ]
     },
     "execution_count": 21,
     "metadata": {},
     "output_type": "execute_result"
    }
   ],
   "source": [
    "\"\"\"hdfs dfs -rm -R lab05.csv\"\"\""
   ]
  }
 ],
 "metadata": {
  "kernelspec": {
   "display_name": "Apache Toree - Scala",
   "language": "scala",
   "name": "apache_toree_scala"
  },
  "language_info": {
   "codemirror_mode": "text/x-scala",
   "file_extension": ".scala",
   "mimetype": "text/x-scala",
   "name": "scala",
   "pygments_lexer": "scala",
   "version": "2.11.12"
  }
 },
 "nbformat": 4,
 "nbformat_minor": 2
}
