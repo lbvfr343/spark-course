{
 "cells": [
  {
   "cell_type": "code",
   "execution_count": 1,
   "metadata": {},
   "outputs": [
    {
     "name": "stdout",
     "output_type": "stream",
     "text": [
      "Welcome to\n",
      "      ____              __\n",
      "     / __/__  ___ _____/ /__\n",
      "    _\\ \\/ _ \\/ _ `/ __/  '_/\n",
      "   /__ / .__/\\_,_/_/ /_/\\_\\   version 2.4.7\n",
      "      /_/\n",
      "\n",
      "Using Python version 3.6.5 (default, Apr 29 2018 16:14:56)\n",
      "SparkSession available as 'spark'.\n"
     ]
    }
   ],
   "source": [
    "import os\n",
    "import sys\n",
    "os.environ[\"PYSPARK_PYTHON\"]='/opt/anaconda/envs/bd9/bin/python'\n",
    "os.environ[\"SPARK_HOME\"]='/usr/hdp/current/spark2-client'\n",
    "os.environ[\"PYSPARK_SUBMIT_ARGS\"]='--num-executors 3 --executor-memory 3g --driver-memory 2g pyspark-shell'\n",
    "\n",
    "spark_home = os.environ.get('SPARK_HOME', None)\n",
    "if not spark_home:\n",
    "    raise ValueError('SPARK_HOME environment variable is not set')\n",
    "\n",
    "sys.path.insert(0, os.path.join(spark_home, 'python'))\n",
    "sys.path.insert(0, os.path.join(spark_home, 'python/lib/py4j-0.10.7-src.zip'))\n",
    "exec(open(os.path.join(spark_home, 'python/pyspark/shell.py')).read())"
   ]
  },
  {
   "cell_type": "code",
   "execution_count": 2,
   "metadata": {},
   "outputs": [],
   "source": [
    "from pyspark import SparkConf\n",
    "from pyspark.sql import SparkSession\n",
    "\n",
    "conf = SparkConf()\n",
    "conf.set(\"spark.app.name\", \"Bulatov Nikolai ML\") \n",
    "\n",
    "spark = SparkSession.builder.config(conf=conf).appName(\"Bulatov Nikolai ML app\").getOrCreate()"
   ]
  },
  {
   "cell_type": "code",
   "execution_count": 3,
   "metadata": {},
   "outputs": [
    {
     "data": {
      "text/html": [
       "\n",
       "            <div>\n",
       "                <p><b>SparkSession - hive</b></p>\n",
       "                \n",
       "        <div>\n",
       "            <p><b>SparkContext</b></p>\n",
       "\n",
       "            <p><a href=\"http://spark-master-5.newprolab.com:4043\">Spark UI</a></p>\n",
       "\n",
       "            <dl>\n",
       "              <dt>Version</dt>\n",
       "                <dd><code>v2.4.7</code></dd>\n",
       "              <dt>Master</dt>\n",
       "                <dd><code>yarn</code></dd>\n",
       "              <dt>AppName</dt>\n",
       "                <dd><code>pyspark-shell</code></dd>\n",
       "            </dl>\n",
       "        </div>\n",
       "        \n",
       "            </div>\n",
       "        "
      ],
      "text/plain": [
       "<pyspark.sql.session.SparkSession at 0x7f1f3453f1d0>"
      ]
     },
     "execution_count": 3,
     "metadata": {},
     "output_type": "execute_result"
    }
   ],
   "source": [
    "spark"
   ]
  },
  {
   "cell_type": "code",
   "execution_count": 4,
   "metadata": {},
   "outputs": [
    {
     "name": "stdout",
     "output_type": "stream",
     "text": [
      "{\"lang\": \"en\", \"name\": \"Accounting Cycle: The Foundation of Business Measurement and Reporting\", \"cat\": \"3/business_management|6/economics_finance\", \"provider\": \"Canvas Network\", \"id\": 4, \"desc\": \"This course introduces the basic financial statements used by most businesses, as well as the essential tools used to prepare them. This course will serve as a resource to help business students succeed in their upcoming university-level accounting classes, and as a refresher for upper division accounting students who are struggling to recall elementary concepts essential to more advanced accounting topics. Business owners will also benefit from this class by gaining essential skills necessary to organize and manage information pertinent to operating their business. At the conclusion of the class, students will understand the balance sheet, income statement, and cash flow statement. They will be able to differentiate between cash basis and accrual basis techniques, and know when each is appropriate. They\\u2019ll als"
     ]
    }
   ],
   "source": [
    "! hdfs dfs -head /labs/slaba02/DO_record_per_line.json"
   ]
  },
  {
   "cell_type": "code",
   "execution_count": 5,
   "metadata": {},
   "outputs": [],
   "source": [
    "from pyspark.sql.types import StructType, StructField, StringType, IntegerType\n",
    "\n",
    "schema = StructType([\n",
    "    StructField(\"lang\", StringType()),\n",
    "    StructField(\"name\", StringType()),\n",
    "    StructField(\"cat\", StringType()),\n",
    "    StructField(\"provider\", StringType()),\n",
    "    StructField(\"id\", IntegerType()),\n",
    "    StructField(\"desc\", StringType())\n",
    "])"
   ]
  },
  {
   "cell_type": "code",
   "execution_count": 6,
   "metadata": {},
   "outputs": [],
   "source": [
    "raw_dataset = spark.read.json(\"/labs/slaba02/DO_record_per_line.json\", schema=schema)"
   ]
  },
  {
   "cell_type": "code",
   "execution_count": 7,
   "metadata": {},
   "outputs": [
    {
     "name": "stdout",
     "output_type": "stream",
     "text": [
      "root\n",
      " |-- lang: string (nullable = true)\n",
      " |-- name: string (nullable = true)\n",
      " |-- cat: string (nullable = true)\n",
      " |-- provider: string (nullable = true)\n",
      " |-- id: integer (nullable = true)\n",
      " |-- desc: string (nullable = true)\n",
      "\n"
     ]
    }
   ],
   "source": [
    "raw_dataset.printSchema()"
   ]
  },
  {
   "cell_type": "code",
   "execution_count": 8,
   "metadata": {},
   "outputs": [
    {
     "data": {
      "text/plain": [
       "3"
      ]
     },
     "execution_count": 8,
     "metadata": {},
     "output_type": "execute_result"
    }
   ],
   "source": [
    "raw_dataset.rdd.getNumPartitions()"
   ]
  },
  {
   "cell_type": "code",
   "execution_count": 9,
   "metadata": {},
   "outputs": [],
   "source": [
    "raw_dataset = raw_dataset.repartition(9)"
   ]
  },
  {
   "cell_type": "code",
   "execution_count": 10,
   "metadata": {},
   "outputs": [
    {
     "data": {
      "text/plain": [
       "[Row(lang='en', count=24553),\n",
       " Row(lang='vi', count=1),\n",
       " Row(lang='nb', count=2),\n",
       " Row(lang='uz', count=1),\n",
       " Row(lang='ur', count=11),\n",
       " Row(lang='pl', count=1),\n",
       " Row(lang='sk', count=5),\n",
       " Row(lang='pt', count=187),\n",
       " Row(lang='sw', count=1),\n",
       " Row(lang='ko', count=3),\n",
       " Row(lang='ms', count=1),\n",
       " Row(lang='tr', count=120),\n",
       " Row(lang='de', count=166),\n",
       " Row(lang='es', count=1374),\n",
       " Row(lang='hr', count=4),\n",
       " Row(lang='el', count=5),\n",
       " Row(lang='it', count=62),\n",
       " Row(lang='af', count=2),\n",
       " Row(lang='ar', count=34),\n",
       " Row(lang='sv', count=1),\n",
       " Row(lang='nl', count=6),\n",
       " Row(lang='hu', count=2),\n",
       " Row(lang='ca', count=6),\n",
       " Row(lang='ru', count=1231),\n",
       " Row(lang='fa', count=1),\n",
       " Row(lang='bg', count=2),\n",
       " Row(lang='hi', count=6),\n",
       " Row(lang='et', count=1),\n",
       " Row(lang='zh', count=169),\n",
       " Row(lang='fr', count=104),\n",
       " Row(lang='ja', count=77),\n",
       " Row(lang='id', count=1),\n",
       " Row(lang='da', count=3),\n",
       " Row(lang='fi', count=2),\n",
       " Row(lang='he', count=8)]"
      ]
     },
     "execution_count": 10,
     "metadata": {},
     "output_type": "execute_result"
    }
   ],
   "source": [
    "raw_dataset.groupby(\"lang\").count().collect()"
   ]
  },
  {
   "cell_type": "code",
   "execution_count": 11,
   "metadata": {},
   "outputs": [
    {
     "name": "stdout",
     "output_type": "stream",
     "text": [
      "+----+----+--------------------+--------------------+\n",
      "|  id|lang|                name|       desc_filtered|\n",
      "+----+----+--------------------+--------------------+\n",
      "|7169|  es|Técnicas para gan...| mi libro técnica...|\n",
      "|8265|  en|Leadership: Ident...|this course exami...|\n",
      "|6807|  en|  Lean Canvas Course| we live in an ag...|\n",
      "|3994|  en|CCNP ROUTE 2014 V...| in september you...|\n",
      "|4784|  en|Cultural Diversit...| how to make chan...|\n",
      "|5765|  en|Kickboxing Workou...| lose weight and ...|\n",
      "|3510|  en|Ambient Intellige...|this course focus...|\n",
      "| 761|  en|       Wit and Humor| emphasizing wit ...|\n",
      "|8715|  en|AIESEC Indonesia ...|this is a course ...|\n",
      "|4890|  en|How to Draw Caric...| learn how to dra...|\n",
      "+----+----+--------------------+--------------------+\n",
      "only showing top 10 rows\n",
      "\n"
     ]
    }
   ],
   "source": [
    "from pyspark.sql import functions as  f\n",
    "\n",
    "dataset = raw_dataset.select(\"id\", \"lang\", \"name\", f.regexp_replace(f.lower(f.regexp_replace('desc',r'[^\\pL{0-9}\\p{Space}]','')), r'\\p{Space}+', ' ').alias(\"desc_filtered\"))\n",
    "dataset.show(10)"
   ]
  },
  {
   "cell_type": "code",
   "execution_count": 12,
   "metadata": {},
   "outputs": [],
   "source": [
    "from pyspark.ml.feature import Tokenizer, StopWordsRemover, CountVectorizer\n",
    "\n",
    "stop_words = \\\n",
    "    StopWordsRemover.loadDefaultStopWords(\"russian\") + \\\n",
    "    StopWordsRemover.loadDefaultStopWords(\"english\") + \\\n",
    "    StopWordsRemover.loadDefaultStopWords(\"spanish\")\n"
   ]
  },
  {
   "cell_type": "code",
   "execution_count": 13,
   "metadata": {},
   "outputs": [],
   "source": [
    "from pyspark.ml.feature import Tokenizer, HashingTF, IDF\n",
    "\n",
    "tokenizer = Tokenizer(inputCol=\"desc_filtered\", outputCol=\"words\")\n",
    "swr = StopWordsRemover(inputCol=tokenizer.getOutputCol(), outputCol=\"words_filtered\", stopWords=stop_words)\n",
    "tf = HashingTF(inputCol=swr.getOutputCol(), outputCol=\"rawFeatures\", numFeatures=10000)\n",
    "tf_idf = IDF(inputCol=tf.getOutputCol(), outputCol=\"features\")"
   ]
  },
  {
   "cell_type": "code",
   "execution_count": 14,
   "metadata": {},
   "outputs": [],
   "source": [
    "from pyspark.ml import Pipeline\n",
    "\n",
    "pipeline = Pipeline(stages=[\n",
    "    tokenizer,\n",
    "    swr,\n",
    "    tf,\n",
    "    tf_idf\n",
    "])"
   ]
  },
  {
   "cell_type": "code",
   "execution_count": 15,
   "metadata": {},
   "outputs": [],
   "source": [
    "tfidf_model = pipeline.fit(dataset)"
   ]
  },
  {
   "cell_type": "code",
   "execution_count": 16,
   "metadata": {},
   "outputs": [],
   "source": [
    "test_schema = StructType([\n",
    "    StructField(\"id\", IntegerType()),\n",
    "    StructField(\"lang\", StringType()),\n",
    "    StructField(\"desc\", StringType())\n",
    "])"
   ]
  },
  {
   "cell_type": "code",
   "execution_count": 17,
   "metadata": {},
   "outputs": [
    {
     "name": "stdout",
     "output_type": "stream",
     "text": [
      "+-----+----+--------------------+\n",
      "|   id|lang|       desc_filtered|\n",
      "+-----+----+--------------------+\n",
      "|23126|  en|compass powerful ...|\n",
      "|21617|  en|preparing for the...|\n",
      "|16627|  es|aprende excel niv...|\n",
      "|11556|  es|aprendizaje colab...|\n",
      "|16704|  ru|программирование ...|\n",
      "|13702|  ru|математическая эк...|\n",
      "+-----+----+--------------------+\n",
      "\n"
     ]
    }
   ],
   "source": [
    "import re\n",
    "\n",
    "test_array = [[23126, u'en', u'Compass - powerful SASS library that makes your life easier'], [21617, u'en', u'Preparing for the AP* Computer Science A Exam \\u2014 Part 2'], [16627, u'es', u'Aprende Excel: Nivel Intermedio by Alfonso Rinsche'], [11556, u'es', u'Aprendizaje Colaborativo by UNID Universidad Interamericana para el Desarrollo'], [16704, u'ru', u'\\u041f\\u0440\\u043e\\u0433\\u0440\\u0430\\u043c\\u043c\\u0438\\u0440\\u043e\\u0432\\u0430\\u043d\\u0438\\u0435 \\u043d\\u0430 Lazarus'], [13702, u'ru', u'\\u041c\\u0430\\u0442\\u0435\\u043c\\u0430\\u0442\\u0438\\u0447\\u0435\\u0441\\u043a\\u0430\\u044f \\u044d\\u043a\\u043e\\u043d\\u043e\\u043c\\u0438\\u043a\\u0430']]\n",
    "test_tuple = [(x[0],x[1], x[2]) for x in test_array]\n",
    "\n",
    "test_df = spark.createDataFrame(test_tuple, schema=test_schema)\n",
    "test_df = test_df.select(\"id\",\"lang\",f.regexp_replace(f.lower(f.regexp_replace('desc',r'[^\\pL{0-9}\\p{Space}]','')), r'\\p{Space}+', ' ').alias(\"desc_filtered\"))\n",
    "test_df.show(10)"
   ]
  },
  {
   "cell_type": "code",
   "execution_count": 18,
   "metadata": {},
   "outputs": [],
   "source": [
    "base_tfidf = tfidf_model.transform(dataset)"
   ]
  },
  {
   "cell_type": "code",
   "execution_count": 19,
   "metadata": {},
   "outputs": [
    {
     "data": {
      "text/plain": [
       "[Row(id=9645, lang='en', name='How to Get Your First Job after College - Udemy', desc_filtered=' learn how to job search with this stepbystep guide to getting your first job after college learn the skills you need to find a job the skills they didnt teach you in school most of us have sat through a career counseling session while we were getting ready to graduate college but the advice they gave us was generic and vague tweak your resume network apply to jobs in your industry what are we supposed to do with that this job hunt course is about more than just tweaking your resume this indepth job search course takes you stepbystep through the process of finding your first real job after college youll learn how to choose an industrycareer path narrow it down with a personal brand message build a network that actually helps you find a job and master the interview process well also cover how to refine your resume and align it with your brand message crafting an amazing job application and negotiating the salary you deserve by the end of the course you will have a solid understanding of what you need to do to find a job and how to nail the job interview what materials are included everything you need to complete the course is included several lessons include supplementary materials and worksheets to help you find a job how is the course structured the course is divided into 5 sections with each section containing 24 lessons each lesson can be taken as a stand alone unit but the course is designed to be completed chronologically why take this course growing up my dad was always changing jobs and moving up the corporate ladder i watched and learned a lot from him when it came time for me to get my first job after college i found one right away in under a week even though the country was in the middle of the recession my friends were having a ton of trouble finding jobs and i couldnt understand why after talking with them i realized that a lot of the things i learned from my dad about job hunting are not taught in school since then ive had a few more jobs and moved to nyc i currently work on commercials and movies for a special effects company i made this course to share what ive learned and help other people find a great job after college what are the requirements computer with an internet connection email address word processor or similar program to create your resume willingness to go the extra mile in your job search what am i going to get from this course over 15 lectures and 3 hours of content gain the skills you need to find a great first job choose an industry to work in craft a personal brand message build a network that helps you find a job master the interview process negotiate the salarycompensation you deserve what is the target audience recent college graduates anyone looking for a job section 1 redefining job hunt course introductiongetting the most out of this coursesection 2 selecting an industry selecting an industry introductioninformational interviewschoosing your industrysection 3 building your brand building your brand introductioncrafting your brand messagesupercharging your resume and marketing materialssection 4 hunting down your job hunting down your job introductionnetworking to the job interviewtargeted job applicationssection 5 mastering the interview mastering the interview introductionpreparing for the interviewnegotiating a job offerlife at your new job', words=['', 'learn', 'how', 'to', 'job', 'search', 'with', 'this', 'stepbystep', 'guide', 'to', 'getting', 'your', 'first', 'job', 'after', 'college', 'learn', 'the', 'skills', 'you', 'need', 'to', 'find', 'a', 'job', 'the', 'skills', 'they', 'didnt', 'teach', 'you', 'in', 'school', 'most', 'of', 'us', 'have', 'sat', 'through', 'a', 'career', 'counseling', 'session', 'while', 'we', 'were', 'getting', 'ready', 'to', 'graduate', 'college', 'but', 'the', 'advice', 'they', 'gave', 'us', 'was', 'generic', 'and', 'vague', 'tweak', 'your', 'resume', 'network', 'apply', 'to', 'jobs', 'in', 'your', 'industry', 'what', 'are', 'we', 'supposed', 'to', 'do', 'with', 'that', 'this', 'job', 'hunt', 'course', 'is', 'about', 'more', 'than', 'just', 'tweaking', 'your', 'resume', 'this', 'indepth', 'job', 'search', 'course', 'takes', 'you', 'stepbystep', 'through', 'the', 'process', 'of', 'finding', 'your', 'first', 'real', 'job', 'after', 'college', 'youll', 'learn', 'how', 'to', 'choose', 'an', 'industrycareer', 'path', 'narrow', 'it', 'down', 'with', 'a', 'personal', 'brand', 'message', 'build', 'a', 'network', 'that', 'actually', 'helps', 'you', 'find', 'a', 'job', 'and', 'master', 'the', 'interview', 'process', 'well', 'also', 'cover', 'how', 'to', 'refine', 'your', 'resume', 'and', 'align', 'it', 'with', 'your', 'brand', 'message', 'crafting', 'an', 'amazing', 'job', 'application', 'and', 'negotiating', 'the', 'salary', 'you', 'deserve', 'by', 'the', 'end', 'of', 'the', 'course', 'you', 'will', 'have', 'a', 'solid', 'understanding', 'of', 'what', 'you', 'need', 'to', 'do', 'to', 'find', 'a', 'job', 'and', 'how', 'to', 'nail', 'the', 'job', 'interview', 'what', 'materials', 'are', 'included', 'everything', 'you', 'need', 'to', 'complete', 'the', 'course', 'is', 'included', 'several', 'lessons', 'include', 'supplementary', 'materials', 'and', 'worksheets', 'to', 'help', 'you', 'find', 'a', 'job', 'how', 'is', 'the', 'course', 'structured', 'the', 'course', 'is', 'divided', 'into', '5', 'sections', 'with', 'each', 'section', 'containing', '24', 'lessons', 'each', 'lesson', 'can', 'be', 'taken', 'as', 'a', 'stand', 'alone', 'unit', 'but', 'the', 'course', 'is', 'designed', 'to', 'be', 'completed', 'chronologically', 'why', 'take', 'this', 'course', 'growing', 'up', 'my', 'dad', 'was', 'always', 'changing', 'jobs', 'and', 'moving', 'up', 'the', 'corporate', 'ladder', 'i', 'watched', 'and', 'learned', 'a', 'lot', 'from', 'him', 'when', 'it', 'came', 'time', 'for', 'me', 'to', 'get', 'my', 'first', 'job', 'after', 'college', 'i', 'found', 'one', 'right', 'away', 'in', 'under', 'a', 'week', 'even', 'though', 'the', 'country', 'was', 'in', 'the', 'middle', 'of', 'the', 'recession', 'my', 'friends', 'were', 'having', 'a', 'ton', 'of', 'trouble', 'finding', 'jobs', 'and', 'i', 'couldnt', 'understand', 'why', 'after', 'talking', 'with', 'them', 'i', 'realized', 'that', 'a', 'lot', 'of', 'the', 'things', 'i', 'learned', 'from', 'my', 'dad', 'about', 'job', 'hunting', 'are', 'not', 'taught', 'in', 'school', 'since', 'then', 'ive', 'had', 'a', 'few', 'more', 'jobs', 'and', 'moved', 'to', 'nyc', 'i', 'currently', 'work', 'on', 'commercials', 'and', 'movies', 'for', 'a', 'special', 'effects', 'company', 'i', 'made', 'this', 'course', 'to', 'share', 'what', 'ive', 'learned', 'and', 'help', 'other', 'people', 'find', 'a', 'great', 'job', 'after', 'college', 'what', 'are', 'the', 'requirements', 'computer', 'with', 'an', 'internet', 'connection', 'email', 'address', 'word', 'processor', 'or', 'similar', 'program', 'to', 'create', 'your', 'resume', 'willingness', 'to', 'go', 'the', 'extra', 'mile', 'in', 'your', 'job', 'search', 'what', 'am', 'i', 'going', 'to', 'get', 'from', 'this', 'course', 'over', '15', 'lectures', 'and', '3', 'hours', 'of', 'content', 'gain', 'the', 'skills', 'you', 'need', 'to', 'find', 'a', 'great', 'first', 'job', 'choose', 'an', 'industry', 'to', 'work', 'in', 'craft', 'a', 'personal', 'brand', 'message', 'build', 'a', 'network', 'that', 'helps', 'you', 'find', 'a', 'job', 'master', 'the', 'interview', 'process', 'negotiate', 'the', 'salarycompensation', 'you', 'deserve', 'what', 'is', 'the', 'target', 'audience', 'recent', 'college', 'graduates', 'anyone', 'looking', 'for', 'a', 'job', 'section', '1', 'redefining', 'job', 'hunt', 'course', 'introductiongetting', 'the', 'most', 'out', 'of', 'this', 'coursesection', '2', 'selecting', 'an', 'industry', 'selecting', 'an', 'industry', 'introductioninformational', 'interviewschoosing', 'your', 'industrysection', '3', 'building', 'your', 'brand', 'building', 'your', 'brand', 'introductioncrafting', 'your', 'brand', 'messagesupercharging', 'your', 'resume', 'and', 'marketing', 'materialssection', '4', 'hunting', 'down', 'your', 'job', 'hunting', 'down', 'your', 'job', 'introductionnetworking', 'to', 'the', 'job', 'interviewtargeted', 'job', 'applicationssection', '5', 'mastering', 'the', 'interview', 'mastering', 'the', 'interview', 'introductionpreparing', 'for', 'the', 'interviewnegotiating', 'a', 'job', 'offerlife', 'at', 'your', 'new', 'job'], words_filtered=['', 'learn', 'job', 'search', 'stepbystep', 'guide', 'getting', 'first', 'job', 'college', 'learn', 'skills', 'need', 'find', 'job', 'skills', 'didnt', 'teach', 'school', 'us', 'sat', 'career', 'counseling', 'session', 'getting', 'ready', 'graduate', 'college', 'advice', 'gave', 'us', 'generic', 'vague', 'tweak', 'resume', 'network', 'apply', 'jobs', 'industry', 'supposed', 'job', 'hunt', 'course', 'tweaking', 'resume', 'indepth', 'job', 'search', 'course', 'takes', 'stepbystep', 'process', 'finding', 'first', 'real', 'job', 'college', 'youll', 'learn', 'choose', 'industrycareer', 'path', 'narrow', 'personal', 'brand', 'message', 'build', 'network', 'actually', 'helps', 'find', 'job', 'master', 'interview', 'process', 'well', 'also', 'cover', 'refine', 'resume', 'align', 'brand', 'message', 'crafting', 'amazing', 'job', 'application', 'negotiating', 'salary', 'deserve', 'end', 'course', 'solid', 'understanding', 'need', 'find', 'job', 'nail', 'job', 'interview', 'materials', 'included', 'everything', 'need', 'complete', 'course', 'included', 'several', 'lessons', 'include', 'supplementary', 'materials', 'worksheets', 'help', 'find', 'job', 'course', 'structured', 'course', 'divided', '5', 'sections', 'section', 'containing', '24', 'lessons', 'lesson', 'taken', 'stand', 'alone', 'unit', 'course', 'designed', 'completed', 'chronologically', 'take', 'course', 'growing', 'dad', 'always', 'changing', 'jobs', 'moving', 'corporate', 'ladder', 'watched', 'learned', 'lot', 'came', 'time', 'get', 'first', 'job', 'college', 'found', 'one', 'right', 'away', 'week', 'even', 'though', 'country', 'middle', 'recession', 'friends', 'ton', 'trouble', 'finding', 'jobs', 'couldnt', 'understand', 'talking', 'realized', 'lot', 'things', 'learned', 'dad', 'job', 'hunting', 'taught', 'school', 'since', 'ive', 'jobs', 'moved', 'nyc', 'currently', 'work', 'commercials', 'movies', 'special', 'effects', 'company', 'made', 'course', 'share', 'ive', 'learned', 'help', 'people', 'find', 'great', 'job', 'college', 'requirements', 'computer', 'internet', 'connection', 'email', 'address', 'word', 'processor', 'similar', 'program', 'create', 'resume', 'willingness', 'go', 'extra', 'mile', 'job', 'search', 'going', 'get', 'course', '15', 'lectures', '3', 'hours', 'content', 'gain', 'skills', 'need', 'find', 'great', 'first', 'job', 'choose', 'industry', 'work', 'craft', 'personal', 'brand', 'message', 'build', 'network', 'helps', 'find', 'job', 'master', 'interview', 'process', 'negotiate', 'salarycompensation', 'deserve', 'target', 'audience', 'recent', 'college', 'graduates', 'anyone', 'looking', 'job', 'section', '1', 'redefining', 'job', 'hunt', 'course', 'introductiongetting', 'coursesection', '2', 'selecting', 'industry', 'selecting', 'industry', 'introductioninformational', 'interviewschoosing', 'industrysection', '3', 'building', 'brand', 'building', 'brand', 'introductioncrafting', 'brand', 'messagesupercharging', 'resume', 'marketing', 'materialssection', '4', 'hunting', 'job', 'hunting', 'job', 'introductionnetworking', 'job', 'interviewtargeted', 'job', 'applicationssection', '5', 'mastering', 'interview', 'mastering', 'interview', 'introductionpreparing', 'interviewnegotiating', 'job', 'offerlife', 'new', 'job'], rawFeatures=SparseVector(10000, {8: 1.0, 87: 2.0, 121: 3.0, 157: 1.0, 241: 1.0, 259: 1.0, 427: 1.0, 472: 1.0, 534: 3.0, 574: 1.0, 585: 1.0, 706: 2.0, 717: 2.0, 721: 1.0, 804: 1.0, 855: 1.0, 951: 1.0, 966: 1.0, 992: 1.0, 1022: 3.0, 1140: 1.0, 1193: 1.0, 1270: 2.0, 1312: 1.0, 1339: 2.0, 1340: 1.0, 1353: 1.0, 1396: 1.0, 1457: 1.0, 1481: 1.0, 1486: 2.0, 1637: 5.0, 1656: 1.0, 1723: 1.0, 1804: 1.0, 1871: 2.0, 1903: 1.0, 1943: 1.0, 1952: 1.0, 1955: 1.0, 1959: 2.0, 1996: 1.0, 2044: 1.0, 2080: 1.0, 2207: 1.0, 2292: 1.0, 2315: 1.0, 2340: 1.0, 2392: 1.0, 2394: 1.0, 2460: 11.0, 2464: 1.0, 2470: 25.0, 2566: 1.0, 2716: 1.0, 2812: 1.0, 2912: 1.0, 2988: 1.0, 3010: 4.0, 3030: 1.0, 3035: 1.0, 3171: 1.0, 3183: 4.0, 3302: 1.0, 3329: 1.0, 3344: 1.0, 3372: 1.0, 3401: 1.0, 3405: 1.0, 3432: 1.0, 3519: 1.0, 3579: 1.0, 3643: 1.0, 3699: 1.0, 3737: 1.0, 3763: 1.0, 3775: 3.0, 3792: 1.0, 3849: 2.0, 3855: 1.0, 3952: 2.0, 3981: 5.0, 3998: 1.0, 4025: 1.0, 4036: 1.0, 4072: 1.0, 4128: 1.0, 4138: 1.0, 4151: 1.0, 4208: 2.0, 4249: 1.0, 4260: 2.0, 4442: 1.0, 4525: 1.0, 4547: 1.0, 4631: 1.0, 4744: 1.0, 4904: 1.0, 5122: 1.0, 5142: 1.0, 5217: 1.0, 5313: 1.0, 5317: 1.0, 5330: 1.0, 5344: 4.0, 5438: 3.0, 5539: 1.0, 5551: 1.0, 5567: 1.0, 5573: 1.0, 5612: 1.0, 5716: 1.0, 5735: 2.0, 5780: 1.0, 5786: 1.0, 5795: 2.0, 5852: 2.0, 5895: 1.0, 5961: 1.0, 5966: 1.0, 6025: 1.0, 6074: 3.0, 6146: 3.0, 6209: 1.0, 6217: 1.0, 6247: 1.0, 6265: 1.0, 6284: 1.0, 6335: 1.0, 6383: 2.0, 6406: 1.0, 6411: 6.0, 6418: 2.0, 6447: 1.0, 6513: 1.0, 6537: 4.0, 6621: 1.0, 6672: 2.0, 6683: 1.0, 6842: 1.0, 6928: 5.0, 7013: 1.0, 7084: 2.0, 7132: 2.0, 7275: 1.0, 7405: 1.0, 7428: 1.0, 7486: 1.0, 7510: 7.0, 7536: 2.0, 7541: 1.0, 7668: 1.0, 7780: 1.0, 7939: 2.0, 7989: 1.0, 8077: 1.0, 8151: 1.0, 8157: 1.0, 8164: 1.0, 8169: 1.0, 8335: 1.0, 8410: 1.0, 8429: 2.0, 8433: 1.0, 8493: 1.0, 8513: 1.0, 8516: 1.0, 8644: 1.0, 8685: 1.0, 8693: 1.0, 8696: 2.0, 8705: 1.0, 8779: 1.0, 8795: 1.0, 8817: 1.0, 8930: 1.0, 8957: 1.0, 9113: 6.0, 9225: 1.0, 9254: 1.0, 9258: 2.0, 9313: 1.0, 9327: 2.0, 9347: 2.0, 9389: 1.0, 9454: 1.0, 9527: 2.0, 9530: 1.0, 9593: 1.0, 9625: 1.0, 9628: 1.0, 9636: 1.0, 9691: 1.0, 9823: 1.0, 9910: 1.0}), features=SparseVector(10000, {8: 3.2208, 87: 5.3875, 121: 16.8614, 157: 1.5041, 241: 2.3052, 259: 3.867, 427: 3.3169, 472: 4.1817, 534: 5.3323, 574: 2.0006, 585: 3.2387, 706: 5.9503, 717: 5.4375, 721: 1.0062, 804: 2.7983, 855: 1.3861, 951: 2.8171, 966: 0.8726, 992: 1.9192, 1022: 6.1803, 1140: 4.2896, 1193: 3.0034, 1270: 4.9957, 1312: 0.8143, 1339: 5.6059, 1340: 5.5005, 1353: 3.7593, 1396: 4.7483, 1457: 3.0955, 1481: 4.3904, 1486: 6.3768, 1637: 13.9133, 1656: 5.4833, 1723: 4.3374, 1804: 5.2482, 1871: 5.924, 1903: 3.1554, 1943: 3.6676, 1952: 2.0419, 1955: 3.2672, 1959: 1.3394, 1996: 3.6607, 2044: 1.5388, 2080: 0.8229, 2207: 2.003, 2292: 4.9322, 2315: 2.2334, 2340: 5.7237, 2392: 5.311, 2394: 3.0979, 2460: 4.5622, 2464: 4.9421, 2470: 71.3507, 2566: 2.6218, 2716: 2.0245, 2812: 1.7442, 2912: 4.1034, 2988: 5.545, 3010: 11.3647, 3030: 2.6859, 3035: 2.517, 3171: 3.0105, 3183: 6.77, 3302: 2.1228, 3329: 3.363, 3344: 2.7075, 3372: 0.5312, 3401: 2.381, 3405: 3.6374, 3432: 5.2085, 3519: 3.1595, 3579: 3.8045, 3643: 3.703, 3699: 3.8998, 3737: 3.2433, 3763: 3.3692, 3775: 2.0327, 3792: 1.4247, 3849: 1.7034, 3855: 0.7492, 3952: 10.8503, 3981: 11.3322, 3998: 3.6334, 4025: 4.7042, 4036: 3.7263, 4072: 2.5806, 4128: 4.4585, 4138: 4.4373, 4151: 4.9471, 4208: 4.27, 4249: 3.9033, 4260: 3.9173, 4442: 3.4633, 4525: 5.3856, 4547: 3.0105, 4631: 4.5517, 4744: 0.7139, 4904: 2.5479, 5122: 2.7628, 5142: 4.0091, 5217: 4.3733, 5313: 4.1887, 5317: 3.8653, 5330: 3.5361, 5344: 15.8752, 5438: 8.7236, 5539: 3.4587, 5551: 2.6854, 5567: 4.0717, 5573: 4.7565, 5612: 0.8278, 5716: 4.8205, 5735: 5.8002, 5780: 4.3159, 5786: 0.724, 5795: 5.7093, 5852: 4.5998, 5895: 2.8285, 5961: 4.2028, 5966: 3.1339, 6025: 1.4134, 6074: 10.0493, 6146: 9.3533, 6209: 1.8842, 6217: 5.3255, 6247: 5.0469, 6265: 1.3852, 6284: 1.8515, 6335: 3.9974, 6383: 6.7487, 6406: 2.1281, 6411: 20.0864, 6418: 1.5826, 6447: 3.27, 6513: 3.524, 6537: 5.3796, 6621: 5.6403, 6672: 7.4793, 6683: 2.4837, 6842: 3.3932, 6928: 21.1343, 7013: 2.7334, 7084: 8.9542, 7132: 4.0745, 7275: 3.9392, 7405: 3.7887, 7428: 4.9176, 7486: 1.6997, 7510: 13.6563, 7536: 3.8345, 7541: 4.1887, 7668: 3.4331, 7780: 4.8889, 7939: 4.9269, 7989: 0.7527, 8077: 2.2491, 8151: 2.1865, 8157: 1.4359, 8164: 1.6494, 8169: 2.6895, 8335: 3.3477, 8410: 4.769, 8429: 4.9462, 8433: 3.0746, 8493: 0.7929, 8513: 4.9776, 8516: 5.3476, 8644: 2.3635, 8685: 4.0308, 8693: 2.0632, 8696: 1.6761, 8705: 5.2687, 8779: 5.5633, 8795: 3.5109, 8817: 2.9751, 8930: 4.2691, 8957: 3.0715, 9113: 20.1046, 9225: 2.3612, 9254: 2.8213, 9258: 6.0737, 9313: 3.1705, 9327: 2.9031, 9347: 3.0237, 9389: 3.4464, 9454: 5.4414, 9527: 3.0386, 9530: 3.7532, 9593: 2.8516, 9625: 2.138, 9628: 5.5269, 9636: 5.5092, 9691: 2.3757, 9823: 4.2244, 9910: 3.9447})),\n",
       " Row(id=5603, lang='en', name='Web Content Accessibility Guidelines for a Beautiful Web', desc_filtered=' learn how to design accessible content as well as write accessible html and xhtml markup and css designer and author andy clarke demystifies the challenging aspects of web design making sites accessible to as wide an audience as possible while still maintaining a solid design aesthetic in this web content accessibility guidelines video clarke shows how using a modern workflow which includes designing using a web browser eliminates common accessibility problems you will learn how to design accessible content as well as write accessible html and xhtml markup and css youll also learn key business elements of creating an accessible site including better search engine placement and more value for money spent on design clarke demonstrates these concepts using examples from a fictitious social networking site he created take this exclusive web content accessibility guidelines course right now and learn how to design accessible contentltpgt what am i going to get from this course over 15 lectures and 2 hours of content learn how to design accessible content lern to write accessible html and xhtml markup and css learn key business elements of creating an accessible site learn better search engine placement learn more value for money spent on design what is the target audience web designers and developers section 1 my first section section 1 introductionsection 2 defining accessible designsection 3 planning for accessible designsection 4 accessible design workflowsection 5 designing accessible contentconsidering color and contrastusing better typographysection 6 considering alternate contentworking with imagesworking with video and audiousing zoom layoutssection 7 adding inpage navigationmaking tables accessiblemaking forms accessiblesection 8 conclusion', words=['', 'learn', 'how', 'to', 'design', 'accessible', 'content', 'as', 'well', 'as', 'write', 'accessible', 'html', 'and', 'xhtml', 'markup', 'and', 'css', 'designer', 'and', 'author', 'andy', 'clarke', 'demystifies', 'the', 'challenging', 'aspects', 'of', 'web', 'design', 'making', 'sites', 'accessible', 'to', 'as', 'wide', 'an', 'audience', 'as', 'possible', 'while', 'still', 'maintaining', 'a', 'solid', 'design', 'aesthetic', 'in', 'this', 'web', 'content', 'accessibility', 'guidelines', 'video', 'clarke', 'shows', 'how', 'using', 'a', 'modern', 'workflow', 'which', 'includes', 'designing', 'using', 'a', 'web', 'browser', 'eliminates', 'common', 'accessibility', 'problems', 'you', 'will', 'learn', 'how', 'to', 'design', 'accessible', 'content', 'as', 'well', 'as', 'write', 'accessible', 'html', 'and', 'xhtml', 'markup', 'and', 'css', 'youll', 'also', 'learn', 'key', 'business', 'elements', 'of', 'creating', 'an', 'accessible', 'site', 'including', 'better', 'search', 'engine', 'placement', 'and', 'more', 'value', 'for', 'money', 'spent', 'on', 'design', 'clarke', 'demonstrates', 'these', 'concepts', 'using', 'examples', 'from', 'a', 'fictitious', 'social', 'networking', 'site', 'he', 'created', 'take', 'this', 'exclusive', 'web', 'content', 'accessibility', 'guidelines', 'course', 'right', 'now', 'and', 'learn', 'how', 'to', 'design', 'accessible', 'contentltpgt', 'what', 'am', 'i', 'going', 'to', 'get', 'from', 'this', 'course', 'over', '15', 'lectures', 'and', '2', 'hours', 'of', 'content', 'learn', 'how', 'to', 'design', 'accessible', 'content', 'lern', 'to', 'write', 'accessible', 'html', 'and', 'xhtml', 'markup', 'and', 'css', 'learn', 'key', 'business', 'elements', 'of', 'creating', 'an', 'accessible', 'site', 'learn', 'better', 'search', 'engine', 'placement', 'learn', 'more', 'value', 'for', 'money', 'spent', 'on', 'design', 'what', 'is', 'the', 'target', 'audience', 'web', 'designers', 'and', 'developers', 'section', '1', 'my', 'first', 'section', 'section', '1', 'introductionsection', '2', 'defining', 'accessible', 'designsection', '3', 'planning', 'for', 'accessible', 'designsection', '4', 'accessible', 'design', 'workflowsection', '5', 'designing', 'accessible', 'contentconsidering', 'color', 'and', 'contrastusing', 'better', 'typographysection', '6', 'considering', 'alternate', 'contentworking', 'with', 'imagesworking', 'with', 'video', 'and', 'audiousing', 'zoom', 'layoutssection', '7', 'adding', 'inpage', 'navigationmaking', 'tables', 'accessiblemaking', 'forms', 'accessiblesection', '8', 'conclusion'], words_filtered=['', 'learn', 'design', 'accessible', 'content', 'well', 'write', 'accessible', 'html', 'xhtml', 'markup', 'css', 'designer', 'author', 'andy', 'clarke', 'demystifies', 'challenging', 'aspects', 'web', 'design', 'making', 'sites', 'accessible', 'wide', 'audience', 'possible', 'still', 'maintaining', 'solid', 'design', 'aesthetic', 'web', 'content', 'accessibility', 'guidelines', 'video', 'clarke', 'shows', 'using', 'modern', 'workflow', 'includes', 'designing', 'using', 'web', 'browser', 'eliminates', 'common', 'accessibility', 'problems', 'learn', 'design', 'accessible', 'content', 'well', 'write', 'accessible', 'html', 'xhtml', 'markup', 'css', 'youll', 'also', 'learn', 'key', 'business', 'elements', 'creating', 'accessible', 'site', 'including', 'better', 'search', 'engine', 'placement', 'value', 'money', 'spent', 'design', 'clarke', 'demonstrates', 'concepts', 'using', 'examples', 'fictitious', 'social', 'networking', 'site', 'created', 'take', 'exclusive', 'web', 'content', 'accessibility', 'guidelines', 'course', 'right', 'learn', 'design', 'accessible', 'contentltpgt', 'going', 'get', 'course', '15', 'lectures', '2', 'hours', 'content', 'learn', 'design', 'accessible', 'content', 'lern', 'write', 'accessible', 'html', 'xhtml', 'markup', 'css', 'learn', 'key', 'business', 'elements', 'creating', 'accessible', 'site', 'learn', 'better', 'search', 'engine', 'placement', 'learn', 'value', 'money', 'spent', 'design', 'target', 'audience', 'web', 'designers', 'developers', 'section', '1', 'first', 'section', 'section', '1', 'introductionsection', '2', 'defining', 'accessible', 'designsection', '3', 'planning', 'accessible', 'designsection', '4', 'accessible', 'design', 'workflowsection', '5', 'designing', 'accessible', 'contentconsidering', 'color', 'contrastusing', 'better', 'typographysection', '6', 'considering', 'alternate', 'contentworking', 'imagesworking', 'video', 'audiousing', 'zoom', 'layoutssection', '7', 'adding', 'inpage', 'navigationmaking', 'tables', 'accessiblemaking', 'forms', 'accessiblesection', '8', 'conclusion'], rawFeatures=SparseVector(10000, {157: 2.0, 264: 3.0, 384: 1.0, 574: 1.0, 721: 1.0, 768: 2.0, 855: 1.0, 870: 1.0, 936: 1.0, 941: 3.0, 966: 1.0, 1312: 2.0, 1350: 1.0, 1355: 2.0, 1387: 1.0, 1446: 1.0, 1457: 1.0, 1501: 1.0, 1526: 2.0, 1538: 2.0, 1645: 1.0, 1652: 3.0, 1682: 3.0, 1744: 1.0, 1800: 1.0, 1952: 1.0, 1959: 1.0, 1999: 1.0, 2080: 1.0, 2207: 1.0, 2280: 1.0, 2382: 3.0, 2385: 2.0, 2460: 2.0, 2482: 14.0, 2536: 3.0, 2593: 1.0, 2836: 1.0, 2996: 1.0, 3157: 1.0, 3183: 1.0, 3297: 1.0, 3372: 1.0, 3560: 1.0, 3624: 3.0, 3718: 1.0, 3767: 2.0, 3775: 8.0, 3792: 1.0, 3834: 1.0, 3849: 1.0, 3855: 6.0, 4225: 2.0, 4308: 3.0, 4315: 1.0, 4326: 1.0, 4373: 1.0, 4384: 1.0, 4518: 1.0, 4715: 1.0, 4744: 2.0, 4764: 5.0, 4773: 1.0, 4814: 1.0, 4952: 1.0, 4970: 1.0, 5189: 9.0, 5231: 1.0, 5242: 2.0, 5374: 2.0, 5543: 1.0, 5596: 2.0, 5640: 2.0, 5643: 1.0, 5786: 1.0, 5842: 1.0, 5855: 1.0, 5891: 3.0, 5921: 1.0, 5954: 1.0, 6100: 1.0, 6146: 2.0, 6262: 1.0, 6402: 2.0, 6406: 1.0, 6418: 1.0, 6462: 1.0, 6538: 1.0, 6675: 1.0, 6954: 1.0, 7003: 1.0, 7101: 1.0, 7540: 1.0, 7577: 1.0, 7820: 1.0, 7844: 1.0, 7989: 2.0, 8113: 3.0, 8160: 1.0, 8173: 1.0, 8355: 1.0, 8377: 1.0, 8493: 1.0, 8696: 3.0, 8802: 1.0, 8852: 1.0, 9115: 1.0, 9384: 2.0, 9407: 1.0, 9461: 1.0, 9826: 1.0}), features=SparseVector(10000, {157: 3.0083, 264: 16.8321, 384: 3.3651, 574: 2.0006, 721: 1.0062, 768: 5.6678, 855: 1.3861, 870: 2.6848, 936: 5.7911, 941: 6.4651, 966: 0.8726, 1312: 1.6286, 1350: 2.613, 1355: 4.7045, 1387: 2.9863, 1446: 2.3841, 1457: 3.0955, 1501: 2.3783, 1526: 2.8837, 1538: 8.6856, 1645: 3.6958, 1652: 9.6784, 1682: 10.5112, 1744: 5.6707, 1800: 3.0302, 1952: 2.0419, 1959: 0.6697, 1999: 3.952, 2080: 0.8229, 2207: 2.003, 2280: 3.2672, 2382: 14.7673, 2385: 7.2375, 2460: 0.8295, 2482: 50.3868, 2536: 12.3887, 2593: 3.5073, 2836: 3.5734, 2996: 2.1404, 3157: 3.5684, 3183: 1.6925, 3297: 6.0408, 3372: 0.5312, 3560: 2.9342, 3624: 3.8354, 3718: 3.1114, 3767: 3.1022, 3775: 5.4206, 3792: 1.4247, 3834: 1.9127, 3849: 0.8517, 3855: 4.495, 4225: 8.523, 4308: 17.3733, 4315: 3.1234, 4326: 4.6848, 4373: 4.249, 4384: 4.5551, 4518: 3.3033, 4715: 3.9955, 4744: 1.4278, 4764: 9.4964, 4773: 3.5325, 4814: 3.3347, 4952: 3.6872, 4970: 2.8071, 5189: 12.5466, 5231: 2.4748, 5242: 4.5466, 5374: 3.4134, 5543: 3.7442, 5596: 5.7044, 5640: 8.1185, 5643: 3.9745, 5786: 0.724, 5842: 4.4165, 5855: 2.971, 5891: 8.9994, 5921: 3.3014, 5954: 2.7729, 6100: 2.947, 6146: 6.2355, 6262: 2.9079, 6402: 8.518, 6406: 2.1281, 6418: 0.7913, 6462: 4.8074, 6538: 3.1397, 6675: 1.1897, 6954: 2.0551, 7003: 1.4004, 7101: 5.876, 7540: 5.4092, 7577: 3.1953, 7820: 4.7901, 7844: 3.9392, 7989: 1.5054, 8113: 8.2765, 8160: 5.5726, 8173: 3.4599, 8355: 3.784, 8377: 4.2076, 8493: 0.7929, 8696: 2.5142, 8802: 4.7606, 8852: 2.482, 9115: 5.2756, 9384: 6.8772, 9407: 4.579, 9461: 3.4167, 9826: 1.5805})),\n",
       " Row(id=3425, lang='en', name='Engineering Economy Module', desc_filtered='this intensive microsubject provides the necessary skills in microsoftreg excel spreadsheet modeling for esd71 engineering systems analysis for design its purpose is to bring entering students up to speed on some of the advanced techniques that we routinely use in analysis it is motivated by our experience that many students only have an introductory knowledge of excel and thus waste a lot of time thrashing about unproductively many people think they know excel but overlook many efficient tools such as data table and goal seek it is also useful for a variety of other subjects', words=['this', 'intensive', 'microsubject', 'provides', 'the', 'necessary', 'skills', 'in', 'microsoftreg', 'excel', 'spreadsheet', 'modeling', 'for', 'esd71', 'engineering', 'systems', 'analysis', 'for', 'design', 'its', 'purpose', 'is', 'to', 'bring', 'entering', 'students', 'up', 'to', 'speed', 'on', 'some', 'of', 'the', 'advanced', 'techniques', 'that', 'we', 'routinely', 'use', 'in', 'analysis', 'it', 'is', 'motivated', 'by', 'our', 'experience', 'that', 'many', 'students', 'only', 'have', 'an', 'introductory', 'knowledge', 'of', 'excel', 'and', 'thus', 'waste', 'a', 'lot', 'of', 'time', 'thrashing', 'about', 'unproductively', 'many', 'people', 'think', 'they', 'know', 'excel', 'but', 'overlook', 'many', 'efficient', 'tools', 'such', 'as', 'data', 'table', 'and', 'goal', 'seek', 'it', 'is', 'also', 'useful', 'for', 'a', 'variety', 'of', 'other', 'subjects'], words_filtered=['intensive', 'microsubject', 'provides', 'necessary', 'skills', 'microsoftreg', 'excel', 'spreadsheet', 'modeling', 'esd71', 'engineering', 'systems', 'analysis', 'design', 'purpose', 'bring', 'entering', 'students', 'speed', 'advanced', 'techniques', 'routinely', 'use', 'analysis', 'motivated', 'experience', 'many', 'students', 'introductory', 'knowledge', 'excel', 'thus', 'waste', 'lot', 'time', 'thrashing', 'unproductively', 'many', 'people', 'think', 'know', 'excel', 'overlook', 'many', 'efficient', 'tools', 'data', 'table', 'goal', 'seek', 'also', 'useful', 'variety', 'subjects'], rawFeatures=SparseVector(10000, {26: 1.0, 171: 1.0, 293: 1.0, 534: 1.0, 583: 1.0, 913: 1.0, 1239: 1.0, 1272: 1.0, 1296: 2.0, 1523: 2.0, 1564: 1.0, 1695: 1.0, 2038: 1.0, 2455: 3.0, 2728: 1.0, 2745: 1.0, 3245: 1.0, 3566: 1.0, 3792: 1.0, 4037: 1.0, 4103: 1.0, 4489: 1.0, 5089: 1.0, 5188: 3.0, 5189: 2.0, 5610: 1.0, 5684: 1.0, 5735: 1.0, 5837: 1.0, 5866: 1.0, 6510: 1.0, 6697: 1.0, 7198: 1.0, 7486: 1.0, 7772: 1.0, 7779: 1.0, 7786: 1.0, 8157: 1.0, 8313: 1.0, 8460: 1.0, 8529: 1.0, 8579: 1.0, 9021: 1.0, 9327: 1.0, 9346: 1.0, 9761: 1.0, 9970: 1.0}), features=SparseVector(10000, {26: 2.7616, 171: 4.6396, 293: 3.6254, 534: 1.7774, 583: 4.1034, 913: 5.1892, 1239: 2.74, 1272: 2.5929, 1296: 5.4054, 1523: 2.8319, 1564: 2.6637, 1695: 2.3393, 2038: 4.351, 2455: 9.7271, 2728: 4.7361, 2745: 1.8354, 3245: 3.7248, 3566: 6.1511, 3792: 1.4247, 4037: 3.1893, 4103: 5.876, 4489: 1.1673, 5089: 2.6688, 5188: 5.6787, 5189: 2.7881, 5610: 3.0563, 5684: 4.4464, 5735: 2.9001, 5837: 3.4908, 5866: 4.177, 6510: 3.083, 6697: 2.8677, 7198: 3.4342, 7486: 1.6997, 7772: 3.9211, 7779: 1.5013, 7786: 5.851, 8157: 1.4359, 8313: 3.5991, 8460: 3.7639, 8529: 6.2752, 8579: 2.1789, 9021: 4.1701, 9327: 1.4515, 9346: 2.7422, 9761: 3.3367, 9970: 1.8099})),\n",
       " Row(id=8414, lang='en', name='Crochet Lab: Basic Techniques & Patterns', desc_filtered='perfect for the beginning crocheter this fun class teaches you basic crochet stitches and how to put them together to create anything sign up for the newest version of this class in crochet basics amp beyond with kim werkernote this course now features studentled rather than instructorled discussion only if you have questions one of the many experienced crocheters in crochet lab surely will have the answerwhether youve never touched a crochet hook before or youre looking to refresh your skills crochet lab with vickie howell will have you crocheting like a pro in no time at all vickie guides you through the basics of crochet picking the right yarn and hooks basic stitches and how to put it all together youll finish with the skills to create wonderful items and the courage to express your individual style vickie crochets along with you from your very first slip knot through an assortment of projects ', words=['perfect', 'for', 'the', 'beginning', 'crocheter', 'this', 'fun', 'class', 'teaches', 'you', 'basic', 'crochet', 'stitches', 'and', 'how', 'to', 'put', 'them', 'together', 'to', 'create', 'anything', 'sign', 'up', 'for', 'the', 'newest', 'version', 'of', 'this', 'class', 'in', 'crochet', 'basics', 'amp', 'beyond', 'with', 'kim', 'werkernote', 'this', 'course', 'now', 'features', 'studentled', 'rather', 'than', 'instructorled', 'discussion', 'only', 'if', 'you', 'have', 'questions', 'one', 'of', 'the', 'many', 'experienced', 'crocheters', 'in', 'crochet', 'lab', 'surely', 'will', 'have', 'the', 'answerwhether', 'youve', 'never', 'touched', 'a', 'crochet', 'hook', 'before', 'or', 'youre', 'looking', 'to', 'refresh', 'your', 'skills', 'crochet', 'lab', 'with', 'vickie', 'howell', 'will', 'have', 'you', 'crocheting', 'like', 'a', 'pro', 'in', 'no', 'time', 'at', 'all', 'vickie', 'guides', 'you', 'through', 'the', 'basics', 'of', 'crochet', 'picking', 'the', 'right', 'yarn', 'and', 'hooks', 'basic', 'stitches', 'and', 'how', 'to', 'put', 'it', 'all', 'together', 'youll', 'finish', 'with', 'the', 'skills', 'to', 'create', 'wonderful', 'items', 'and', 'the', 'courage', 'to', 'express', 'your', 'individual', 'style', 'vickie', 'crochets', 'along', 'with', 'you', 'from', 'your', 'very', 'first', 'slip', 'knot', 'through', 'an', 'assortment', 'of', 'projects'], words_filtered=['perfect', 'beginning', 'crocheter', 'fun', 'class', 'teaches', 'basic', 'crochet', 'stitches', 'put', 'together', 'create', 'anything', 'sign', 'newest', 'version', 'class', 'crochet', 'basics', 'amp', 'beyond', 'kim', 'werkernote', 'course', 'features', 'studentled', 'rather', 'instructorled', 'discussion', 'questions', 'one', 'many', 'experienced', 'crocheters', 'crochet', 'lab', 'surely', 'answerwhether', 'youve', 'never', 'touched', 'crochet', 'hook', 'youre', 'looking', 'refresh', 'skills', 'crochet', 'lab', 'vickie', 'howell', 'crocheting', 'like', 'pro', 'time', 'vickie', 'guides', 'basics', 'crochet', 'picking', 'right', 'yarn', 'hooks', 'basic', 'stitches', 'put', 'together', 'youll', 'finish', 'skills', 'create', 'wonderful', 'items', 'courage', 'express', 'individual', 'style', 'vickie', 'crochets', 'along', 'first', 'slip', 'knot', 'assortment', 'projects'], rawFeatures=SparseVector(10000, {126: 1.0, 157: 1.0, 185: 1.0, 466: 1.0, 534: 2.0, 545: 1.0, 574: 1.0, 727: 1.0, 957: 1.0, 1073: 2.0, 1139: 1.0, 1437: 1.0, 1697: 2.0, 1952: 1.0, 2044: 1.0, 2114: 1.0, 2315: 1.0, 2337: 1.0, 2357: 1.0, 2460: 1.0, 3139: 1.0, 3183: 1.0, 3253: 1.0, 3255: 2.0, 3330: 1.0, 3463: 1.0, 4140: 1.0, 4241: 1.0, 4292: 1.0, 4322: 1.0, 4435: 1.0, 4507: 1.0, 5086: 1.0, 5188: 1.0, 5298: 1.0, 5472: 1.0, 5591: 1.0, 5714: 1.0, 6175: 1.0, 6207: 1.0, 6265: 2.0, 6308: 1.0, 6393: 1.0, 6502: 1.0, 6564: 1.0, 6695: 1.0, 6756: 1.0, 6995: 1.0, 7002: 1.0, 7208: 1.0, 7435: 3.0, 7545: 6.0, 7660: 1.0, 7955: 1.0, 8157: 1.0, 8267: 1.0, 8292: 1.0, 8312: 2.0, 8418: 2.0, 8467: 1.0, 8534: 2.0, 8678: 1.0, 8740: 1.0, 8771: 1.0, 8813: 1.0, 8941: 1.0, 9193: 1.0, 9208: 2.0, 9755: 1.0}), features=SparseVector(10000, {126: 2.8885, 157: 1.5041, 185: 4.2691, 466: 5.4013, 534: 3.5549, 545: 5.215, 574: 2.0006, 727: 2.1538, 957: 3.1971, 1073: 3.9168, 1139: 1.7987, 1437: 3.5026, 1697: 3.1096, 1952: 2.0419, 2044: 1.5388, 2114: 3.5168, 2315: 2.2334, 2337: 4.8383, 2357: 5.6107, 2460: 0.4147, 3139: 5.0197, 3183: 1.6925, 3253: 6.0113, 3255: 7.0051, 3330: 1.6927, 3463: 5.1578, 4140: 2.3286, 4241: 2.9329, 4292: 5.4414, 4322: 6.2381, 4435: 2.5648, 4507: 3.8586, 5086: 4.6035, 5188: 1.8929, 5298: 3.1153, 5472: 2.4714, 5591: 3.3043, 5714: 4.9724, 6175: 2.9276, 6207: 3.7044, 6265: 2.7705, 6308: 5.5092, 6393: 3.8859, 6502: 3.1919, 6564: 5.3476, 6695: 3.2524, 6756: 3.1884, 6995: 3.0753, 7002: 2.1833, 7208: 5.4252, 7435: 13.7684, 7545: 35.8127, 7660: 5.311, 7955: 5.7681, 8157: 1.4359, 8267: 2.785, 8292: 3.2155, 8312: 5.4289, 8418: 5.5448, 8467: 3.8468, 8534: 4.3604, 8678: 3.1074, 8740: 1.7507, 8771: 5.8387, 8813: 1.8082, 8941: 3.5398, 9193: 3.3985, 9208: 4.1314, 9755: 2.4059})),\n",
       " Row(id=586, lang='en', name='Contemporary Topics in Political Philosophy', desc_filtered=' should the westboro baptist church be allowed to protest military funerals is it permissible for certain soda containers to be banned in new york city in order to promote public health was mayor menino correct in asking the chickfila franchise not to come to boston due to its presidents stance on gay marriage should the defense of marriage act be overturned the supreme court is taking another look at affirmative action should such policies be rejected are drone strikes defensible abroad or here ought the united states be involved in military conflicts like the recent one in libya on strictly humanitarian grounds would a preventive air strike against iran be permissible is the current unequal distribution of wealth in this country defensible what responsibility does a country like the united states bear in addressing global climate change do undocumented immigrants have a claim on the us to let them become citizens these are but a few of the pressing questions that are currently being debated in the public arena and there are many dimensions to consider when answering themwhats legal whats politically feasible but also whats moral political morality asks questions about what is justice fairness equality freedom and autonomy it considers what a wellfunctioning democracy ought to be like when if ever its permissible to curtail individual freedoms to promote the public good what economic and international justice amount to and so forth this course introduces students to a battery of ideas and arguments within political philosophy by way of addressing the moral issues that underlie some of the popular and challenging questions arising in domestic and international politics today 4 credits ', words=['', 'should', 'the', 'westboro', 'baptist', 'church', 'be', 'allowed', 'to', 'protest', 'military', 'funerals', 'is', 'it', 'permissible', 'for', 'certain', 'soda', 'containers', 'to', 'be', 'banned', 'in', 'new', 'york', 'city', 'in', 'order', 'to', 'promote', 'public', 'health', 'was', 'mayor', 'menino', 'correct', 'in', 'asking', 'the', 'chickfila', 'franchise', 'not', 'to', 'come', 'to', 'boston', 'due', 'to', 'its', 'presidents', 'stance', 'on', 'gay', 'marriage', 'should', 'the', 'defense', 'of', 'marriage', 'act', 'be', 'overturned', 'the', 'supreme', 'court', 'is', 'taking', 'another', 'look', 'at', 'affirmative', 'action', 'should', 'such', 'policies', 'be', 'rejected', 'are', 'drone', 'strikes', 'defensible', 'abroad', 'or', 'here', 'ought', 'the', 'united', 'states', 'be', 'involved', 'in', 'military', 'conflicts', 'like', 'the', 'recent', 'one', 'in', 'libya', 'on', 'strictly', 'humanitarian', 'grounds', 'would', 'a', 'preventive', 'air', 'strike', 'against', 'iran', 'be', 'permissible', 'is', 'the', 'current', 'unequal', 'distribution', 'of', 'wealth', 'in', 'this', 'country', 'defensible', 'what', 'responsibility', 'does', 'a', 'country', 'like', 'the', 'united', 'states', 'bear', 'in', 'addressing', 'global', 'climate', 'change', 'do', 'undocumented', 'immigrants', 'have', 'a', 'claim', 'on', 'the', 'us', 'to', 'let', 'them', 'become', 'citizens', 'these', 'are', 'but', 'a', 'few', 'of', 'the', 'pressing', 'questions', 'that', 'are', 'currently', 'being', 'debated', 'in', 'the', 'public', 'arena', 'and', 'there', 'are', 'many', 'dimensions', 'to', 'consider', 'when', 'answering', 'themwhats', 'legal', 'whats', 'politically', 'feasible', 'but', 'also', 'whats', 'moral', 'political', 'morality', 'asks', 'questions', 'about', 'what', 'is', 'justice', 'fairness', 'equality', 'freedom', 'and', 'autonomy', 'it', 'considers', 'what', 'a', 'wellfunctioning', 'democracy', 'ought', 'to', 'be', 'like', 'when', 'if', 'ever', 'its', 'permissible', 'to', 'curtail', 'individual', 'freedoms', 'to', 'promote', 'the', 'public', 'good', 'what', 'economic', 'and', 'international', 'justice', 'amount', 'to', 'and', 'so', 'forth', 'this', 'course', 'introduces', 'students', 'to', 'a', 'battery', 'of', 'ideas', 'and', 'arguments', 'within', 'political', 'philosophy', 'by', 'way', 'of', 'addressing', 'the', 'moral', 'issues', 'that', 'underlie', 'some', 'of', 'the', 'popular', 'and', 'challenging', 'questions', 'arising', 'in', 'domestic', 'and', 'international', 'politics', 'today', '4', 'credits'], words_filtered=['', 'westboro', 'baptist', 'church', 'allowed', 'protest', 'military', 'funerals', 'permissible', 'certain', 'soda', 'containers', 'banned', 'new', 'york', 'city', 'order', 'promote', 'public', 'health', 'mayor', 'menino', 'correct', 'asking', 'chickfila', 'franchise', 'come', 'boston', 'due', 'presidents', 'stance', 'gay', 'marriage', 'defense', 'marriage', 'act', 'overturned', 'supreme', 'court', 'taking', 'another', 'look', 'affirmative', 'action', 'policies', 'rejected', 'drone', 'strikes', 'defensible', 'abroad', 'united', 'states', 'involved', 'military', 'conflicts', 'like', 'recent', 'one', 'libya', 'strictly', 'humanitarian', 'grounds', 'preventive', 'air', 'strike', 'iran', 'permissible', 'current', 'unequal', 'distribution', 'wealth', 'country', 'defensible', 'responsibility', 'country', 'like', 'united', 'states', 'bear', 'addressing', 'global', 'climate', 'change', 'undocumented', 'immigrants', 'claim', 'us', 'let', 'become', 'citizens', 'pressing', 'questions', 'currently', 'debated', 'public', 'arena', 'many', 'dimensions', 'consider', 'answering', 'themwhats', 'legal', 'whats', 'politically', 'feasible', 'also', 'whats', 'moral', 'political', 'morality', 'asks', 'questions', 'justice', 'fairness', 'equality', 'freedom', 'autonomy', 'considers', 'wellfunctioning', 'democracy', 'like', 'ever', 'permissible', 'curtail', 'individual', 'freedoms', 'promote', 'public', 'good', 'economic', 'international', 'justice', 'amount', 'forth', 'course', 'introduces', 'students', 'battery', 'ideas', 'arguments', 'within', 'political', 'philosophy', 'way', 'addressing', 'moral', 'issues', 'underlie', 'popular', 'challenging', 'questions', 'arising', 'domestic', 'international', 'politics', 'today', '4', 'credits'], rawFeatures=SparseVector(10000, {115: 1.0, 281: 1.0, 312: 1.0, 360: 1.0, 384: 1.0, 468: 1.0, 610: 1.0, 727: 3.0, 787: 1.0, 904: 1.0, 916: 1.0, 939: 1.0, 966: 1.0, 1164: 1.0, 1249: 1.0, 1475: 1.0, 1523: 1.0, 1660: 1.0, 1718: 1.0, 1733: 1.0, 1851: 1.0, 1964: 1.0, 1993: 1.0, 2044: 1.0, 2144: 1.0, 2225: 1.0, 2394: 1.0, 2404: 1.0, 2407: 1.0, 2412: 1.0, 2460: 1.0, 2467: 1.0, 2534: 1.0, 2537: 1.0, 2542: 1.0, 2706: 1.0, 2801: 1.0, 2966: 1.0, 3095: 1.0, 3102: 1.0, 3148: 1.0, 3158: 1.0, 3330: 3.0, 3372: 1.0, 3426: 1.0, 3462: 1.0, 3557: 1.0, 3731: 3.0, 3763: 1.0, 3779: 1.0, 3792: 1.0, 3798: 1.0, 3864: 1.0, 3897: 1.0, 3961: 1.0, 3999: 1.0, 4060: 1.0, 4082: 1.0, 4089: 1.0, 4208: 1.0, 4264: 1.0, 4315: 1.0, 4498: 3.0, 4540: 1.0, 4554: 1.0, 4611: 1.0, 4622: 1.0, 4635: 1.0, 4681: 1.0, 4715: 1.0, 4783: 1.0, 4800: 1.0, 4911: 1.0, 5134: 1.0, 5188: 1.0, 5313: 2.0, 5495: 1.0, 5591: 1.0, 5594: 3.0, 5619: 1.0, 5645: 1.0, 5688: 1.0, 5877: 2.0, 5887: 1.0, 6025: 1.0, 6158: 1.0, 6168: 1.0, 6229: 2.0, 6538: 1.0, 6591: 2.0, 6596: 2.0, 6620: 1.0, 6710: 1.0, 6717: 1.0, 6744: 1.0, 6827: 1.0, 6842: 1.0, 6888: 2.0, 7075: 1.0, 7154: 1.0, 7246: 1.0, 7315: 1.0, 7350: 1.0, 7366: 1.0, 7463: 1.0, 7572: 1.0, 7653: 2.0, 7757: 1.0, 7944: 1.0, 7946: 1.0, 8082: 1.0, 8116: 1.0, 8120: 2.0, 8254: 2.0, 8262: 1.0, 8505: 2.0, 8528: 1.0, 8759: 1.0, 8772: 1.0, 9019: 1.0, 9062: 1.0, 9127: 1.0, 9144: 1.0, 9159: 1.0, 9233: 1.0, 9245: 1.0, 9263: 1.0, 9287: 1.0, 9326: 1.0, 9476: 2.0, 9503: 2.0, 9605: 1.0, 9697: 1.0, 9779: 1.0, 9840: 1.0, 9939: 1.0}), features=SparseVector(10000, {115: 3.1315, 281: 3.6958, 312: 3.4932, 360: 4.3875, 384: 3.3651, 468: 3.1331, 610: 5.3551, 727: 6.4615, 787: 4.8936, 904: 4.593, 916: 5.4414, 939: 3.6704, 966: 0.8726, 1164: 3.1919, 1249: 2.1983, 1475: 2.8765, 1523: 1.4159, 1660: 6.0558, 1718: 2.6087, 1733: 4.8889, 1851: 3.0971, 1964: 2.7971, 1993: 4.2028, 2044: 1.5388, 2144: 3.8402, 2225: 4.9127, 2394: 3.0979, 2404: 3.2644, 2407: 6.0408, 2412: 2.5713, 2460: 0.4147, 2467: 6.2381, 2534: 3.7073, 2537: 2.0024, 2542: 5.3551, 2706: 5.3328, 2801: 2.3006, 2966: 5.2826, 3095: 2.7673, 3102: 2.9302, 3148: 3.9229, 3158: 2.3926, 3330: 5.0781, 3372: 0.5312, 3426: 4.249, 3462: 2.5816, 3557: 5.2348, 3731: 11.998, 3763: 3.3692, 3779: 2.8153, 3792: 1.4247, 3798: 4.2124, 3864: 4.3649, 3897: 5.4748, 3961: 4.9031, 3999: 4.9879, 4060: 3.5633, 4082: 2.7279, 4089: 4.9224, 4208: 2.135, 4264: 4.9079, 4315: 3.1234, 4498: 9.6597, 4540: 4.72, 4554: 5.3551, 4611: 3.6069, 4622: 4.1142, 4635: 4.7774, 4681: 4.4961, 4715: 3.9955, 4783: 3.8061, 4800: 4.8205, 4911: 2.5588, 5134: 4.7361, 5188: 1.8929, 5313: 8.3773, 5495: 3.9051, 5591: 3.3043, 5594: 7.9973, 5619: 4.3401, 5645: 5.311, 5688: 3.6134, 5877: 8.3402, 5887: 3.6593, 6025: 1.4134, 6158: 3.3943, 6168: 2.1462, 6229: 10.1843, 6538: 3.1397, 6591: 6.5401, 6596: 9.5974, 6620: 3.3427, 6710: 2.8765, 6717: 5.5541, 6744: 2.6627, 6827: 3.0869, 6842: 3.3932, 6888: 8.8867, 7075: 3.5459, 7154: 4.7859, 7246: 5.7795, 7315: 4.8795, 7350: 3.7918, 7366: 4.647, 7463: 4.6107, 7572: 4.0696, 7653: 7.3048, 7757: 3.3785, 7944: 5.3255, 7946: 4.0308, 8082: 3.2235, 8116: 3.5349, 8120: 7.9489, 8254: 8.2724, 8262: 5.4171, 8505: 7.5308, 8528: 4.1519, 8759: 5.6303, 8772: 5.4663, 9019: 3.512, 9062: 5.2282, 9127: 5.5005, 9144: 3.6254, 9159: 1.6846, 9233: 3.1867, 9245: 4.8338, 9263: 2.9606, 9287: 4.5585, 9326: 4.724, 9476: 10.0074, 9503: 6.3477, 9605: 2.0432, 9697: 5.0414, 9779: 5.2216, 9840: 2.8309, 9939: 2.0359}))]"
      ]
     },
     "execution_count": 19,
     "metadata": {},
     "output_type": "execute_result"
    }
   ],
   "source": [
    "base_tfidf.filter(\"lang = 'en'\").take(5)"
   ]
  },
  {
   "cell_type": "code",
   "execution_count": 20,
   "metadata": {},
   "outputs": [],
   "source": [
    "#test_tfidf = tfidf_model.transform(test_df)\n",
    "test_tfidf = test_df.select(\"id\").join(base_tfidf, \"id\", \"inner\")"
   ]
  },
  {
   "cell_type": "code",
   "execution_count": 21,
   "metadata": {},
   "outputs": [
    {
     "data": {
      "text/plain": [
       "[Row(id=13702, lang='ru', name='Математическая экономика', desc_filtered='математическая экономика это набор моделей в той или иной степени правильно описывающих процессы в экономике', words=['математическая', 'экономика', 'это', 'набор', 'моделей', 'в', 'той', 'или', 'иной', 'степени', 'правильно', 'описывающих', 'процессы', 'в', 'экономике'], words_filtered=['математическая', 'экономика', 'это', 'набор', 'моделей', 'той', 'иной', 'степени', 'правильно', 'описывающих', 'процессы', 'экономике'], rawFeatures=SparseVector(10000, {310: 1.0, 942: 1.0, 2172: 1.0, 2788: 1.0, 2855: 1.0, 4800: 1.0, 5647: 1.0, 6943: 1.0, 7822: 1.0, 8203: 1.0, 9329: 1.0, 9678: 1.0}), features=SparseVector(10000, {310: 4.9984, 942: 5.2896, 2172: 5.6403, 2788: 4.4464, 2855: 5.5359, 4800: 4.8205, 5647: 5.4748, 6943: 5.4497, 7822: 3.9283, 8203: 4.5219, 9329: 6.1679, 9678: 5.2415})),\n",
       " Row(id=16627, lang='es', name='Aprende Excel: Nivel Intermedio by Alfonso Rinsche', desc_filtered=' hazte más empleable obtén una nueva competencia aumenta tus ingresos aprende excel en forma entretenida y práctica a través de vídeos y ejercicios prácticos aprenderás excel intermedio y te familiarizarás aun más con esta herramienta este curso está dirigido a personas con conocimientos previo de esta aplicación como requisito es necesario contar al menos con conocimientos básicos en operaciones matemáticas simple con excel diseño de celdas color fuente tamaño creación de gráficos básicos algunos de los temas que veremos son funciones básicas funciones lógicas validación y protección de hojas buscarvconsultav tablas dinámicas y subtotales cabe destacar que este curso es independiente a la versión que utilizas si tienes la versión 2007 te sirve tienes la versión 2010te sirve 2013obvio te sirve what are the requirements conocimiento básico de excel operaciones matemáticas simples diseño de celdas color fuente tamaño tener instalado excel en el computador tener acceso a internet tener conocimiento básico del uso de windows what am i going to get from this course over 18 lectures and 15 hours of content al final del curso una vez que hayas completado la prueba final podrás recibir un certificado de término al final del curso estarás familiarizado con las principales funciones de excel al final del curso estarás familiarizado con el manejo de datos utilizando en excel al final del curso habrás aprendido a crear y editar tablas dinámicas what is the target audience personas de habla hispana personas con conocimiento básico de excel y que quieran profundizar dicho conocimiento personas que quieran ascender en sus trabajos personas que quieran hacerse más empleables section 1 presentación por qué es importante estudiar excelde qué se trata este cursopresentación profesorsection 2 funciones y mas introducción a funciones en excelfunción sumafunciones promedio y productofunciones contar y promediosifunciones max y minfunción sumarsiformato condicionalfunción sifunciones anidadasfunciones anidadas con función sifunciones y ovalidación y protección de hojasfunción buscarvsection 3 herramientas para el manejo de datos subtotalestablas dinámicas', words=['', 'hazte', 'más', 'empleable', 'obtén', 'una', 'nueva', 'competencia', 'aumenta', 'tus', 'ingresos', 'aprende', 'excel', 'en', 'forma', 'entretenida', 'y', 'práctica', 'a', 'través', 'de', 'vídeos', 'y', 'ejercicios', 'prácticos', 'aprenderás', 'excel', 'intermedio', 'y', 'te', 'familiarizarás', 'aun', 'más', 'con', 'esta', 'herramienta', 'este', 'curso', 'está', 'dirigido', 'a', 'personas', 'con', 'conocimientos', 'previo', 'de', 'esta', 'aplicación', 'como', 'requisito', 'es', 'necesario', 'contar', 'al', 'menos', 'con', 'conocimientos', 'básicos', 'en', 'operaciones', 'matemáticas', 'simple', 'con', 'excel', 'diseño', 'de', 'celdas', 'color', 'fuente', 'tamaño', 'creación', 'de', 'gráficos', 'básicos', 'algunos', 'de', 'los', 'temas', 'que', 'veremos', 'son', 'funciones', 'básicas', 'funciones', 'lógicas', 'validación', 'y', 'protección', 'de', 'hojas', 'buscarvconsultav', 'tablas', 'dinámicas', 'y', 'subtotales', 'cabe', 'destacar', 'que', 'este', 'curso', 'es', 'independiente', 'a', 'la', 'versión', 'que', 'utilizas', 'si', 'tienes', 'la', 'versión', '2007', 'te', 'sirve', 'tienes', 'la', 'versión', '2010te', 'sirve', '2013obvio', 'te', 'sirve', 'what', 'are', 'the', 'requirements', 'conocimiento', 'básico', 'de', 'excel', 'operaciones', 'matemáticas', 'simples', 'diseño', 'de', 'celdas', 'color', 'fuente', 'tamaño', 'tener', 'instalado', 'excel', 'en', 'el', 'computador', 'tener', 'acceso', 'a', 'internet', 'tener', 'conocimiento', 'básico', 'del', 'uso', 'de', 'windows', 'what', 'am', 'i', 'going', 'to', 'get', 'from', 'this', 'course', 'over', '18', 'lectures', 'and', '15', 'hours', 'of', 'content', 'al', 'final', 'del', 'curso', 'una', 'vez', 'que', 'hayas', 'completado', 'la', 'prueba', 'final', 'podrás', 'recibir', 'un', 'certificado', 'de', 'término', 'al', 'final', 'del', 'curso', 'estarás', 'familiarizado', 'con', 'las', 'principales', 'funciones', 'de', 'excel', 'al', 'final', 'del', 'curso', 'estarás', 'familiarizado', 'con', 'el', 'manejo', 'de', 'datos', 'utilizando', 'en', 'excel', 'al', 'final', 'del', 'curso', 'habrás', 'aprendido', 'a', 'crear', 'y', 'editar', 'tablas', 'dinámicas', 'what', 'is', 'the', 'target', 'audience', 'personas', 'de', 'habla', 'hispana', 'personas', 'con', 'conocimiento', 'básico', 'de', 'excel', 'y', 'que', 'quieran', 'profundizar', 'dicho', 'conocimiento', 'personas', 'que', 'quieran', 'ascender', 'en', 'sus', 'trabajos', 'personas', 'que', 'quieran', 'hacerse', 'más', 'empleables', 'section', '1', 'presentación', 'por', 'qué', 'es', 'importante', 'estudiar', 'excelde', 'qué', 'se', 'trata', 'este', 'cursopresentación', 'profesorsection', '2', 'funciones', 'y', 'mas', 'introducción', 'a', 'funciones', 'en', 'excelfunción', 'sumafunciones', 'promedio', 'y', 'productofunciones', 'contar', 'y', 'promediosifunciones', 'max', 'y', 'minfunción', 'sumarsiformato', 'condicionalfunción', 'sifunciones', 'anidadasfunciones', 'anidadas', 'con', 'función', 'sifunciones', 'y', 'ovalidación', 'y', 'protección', 'de', 'hojasfunción', 'buscarvsection', '3', 'herramientas', 'para', 'el', 'manejo', 'de', 'datos', 'subtotalestablas', 'dinámicas'], words_filtered=['', 'hazte', 'empleable', 'obtén', 'nueva', 'competencia', 'aumenta', 'ingresos', 'aprende', 'excel', 'forma', 'entretenida', 'práctica', 'través', 'vídeos', 'ejercicios', 'prácticos', 'aprenderás', 'excel', 'intermedio', 'familiarizarás', 'aun', 'herramienta', 'curso', 'dirigido', 'personas', 'conocimientos', 'previo', 'aplicación', 'requisito', 'necesario', 'contar', 'menos', 'conocimientos', 'básicos', 'operaciones', 'matemáticas', 'simple', 'excel', 'diseño', 'celdas', 'color', 'fuente', 'tamaño', 'creación', 'gráficos', 'básicos', 'temas', 'veremos', 'funciones', 'básicas', 'funciones', 'lógicas', 'validación', 'protección', 'hojas', 'buscarvconsultav', 'tablas', 'dinámicas', 'subtotales', 'cabe', 'destacar', 'curso', 'independiente', 'versión', 'utilizas', 'si', 'versión', '2007', 'sirve', 'versión', '2010te', 'sirve', '2013obvio', 'sirve', 'requirements', 'conocimiento', 'básico', 'excel', 'operaciones', 'matemáticas', 'simples', 'diseño', 'celdas', 'color', 'fuente', 'tamaño', 'tener', 'instalado', 'excel', 'computador', 'tener', 'acceso', 'internet', 'tener', 'conocimiento', 'básico', 'uso', 'windows', 'going', 'get', 'course', '18', 'lectures', '15', 'hours', 'content', 'final', 'curso', 'vez', 'completado', 'prueba', 'final', 'podrás', 'recibir', 'certificado', 'término', 'final', 'curso', 'familiarizado', 'principales', 'funciones', 'excel', 'final', 'curso', 'familiarizado', 'manejo', 'datos', 'utilizando', 'excel', 'final', 'curso', 'aprendido', 'crear', 'editar', 'tablas', 'dinámicas', 'target', 'audience', 'personas', 'habla', 'hispana', 'personas', 'conocimiento', 'básico', 'excel', 'quieran', 'profundizar', 'dicho', 'conocimiento', 'personas', 'quieran', 'ascender', 'trabajos', 'personas', 'quieran', 'hacerse', 'empleables', 'section', '1', 'presentación', 'importante', 'estudiar', 'excelde', 'trata', 'cursopresentación', 'profesorsection', '2', 'funciones', 'mas', 'introducción', 'funciones', 'excelfunción', 'sumafunciones', 'promedio', 'productofunciones', 'contar', 'promediosifunciones', 'max', 'minfunción', 'sumarsiformato', 'condicionalfunción', 'sifunciones', 'anidadasfunciones', 'anidadas', 'función', 'sifunciones', 'ovalidación', 'protección', 'hojasfunción', 'buscarvsection', '3', 'herramientas', 'manejo', 'datos', 'subtotalestablas', 'dinámicas'], rawFeatures=SparseVector(10000, {55: 1.0, 76: 1.0, 192: 1.0, 240: 1.0, 279: 2.0, 291: 1.0, 523: 1.0, 637: 1.0, 721: 1.0, 808: 6.0, 939: 1.0, 940: 1.0, 1041: 1.0, 1047: 1.0, 1179: 1.0, 1312: 1.0, 1421: 1.0, 1437: 1.0, 1465: 1.0, 1485: 1.0, 1568: 1.0, 1608: 1.0, 1715: 1.0, 1738: 1.0, 1750: 3.0, 1859: 1.0, 1925: 1.0, 1955: 2.0, 1959: 1.0, 2058: 1.0, 2080: 1.0, 2095: 1.0, 2121: 1.0, 2128: 1.0, 2207: 1.0, 2282: 5.0, 2283: 1.0, 2289: 1.0, 2325: 5.0, 2328: 2.0, 2356: 1.0, 2438: 1.0, 2455: 8.0, 2460: 1.0, 2558: 1.0, 2704: 1.0, 2716: 1.0, 2807: 2.0, 2816: 1.0, 2906: 1.0, 2955: 1.0, 3007: 1.0, 3111: 4.0, 3211: 2.0, 3233: 1.0, 3372: 1.0, 3380: 1.0, 3381: 1.0, 3428: 1.0, 3452: 3.0, 3490: 1.0, 3582: 1.0, 3592: 2.0, 3593: 1.0, 3655: 1.0, 3718: 2.0, 3824: 1.0, 3855: 1.0, 3860: 1.0, 3967: 1.0, 3976: 1.0, 4031: 1.0, 4140: 5.0, 4310: 1.0, 4410: 1.0, 4441: 2.0, 4648: 1.0, 4694: 1.0, 4726: 1.0, 4744: 1.0, 4924: 3.0, 5053: 1.0, 5068: 3.0, 5134: 1.0, 5193: 2.0, 5410: 1.0, 5439: 2.0, 5550: 3.0, 5612: 1.0, 5669: 1.0, 5786: 1.0, 5843: 1.0, 5854: 1.0, 5919: 1.0, 5932: 1.0, 6016: 1.0, 6089: 1.0, 6101: 1.0, 6168: 1.0, 6386: 1.0, 6418: 1.0, 6471: 1.0, 6565: 1.0, 6671: 1.0, 6798: 1.0, 7161: 1.0, 7200: 1.0, 7350: 1.0, 7389: 1.0, 7587: 1.0, 7657: 2.0, 7932: 2.0, 7980: 1.0, 7989: 1.0, 8051: 1.0, 8071: 1.0, 8118: 1.0, 8196: 1.0, 8219: 1.0, 8407: 1.0, 8493: 1.0, 8519: 1.0, 8696: 1.0, 8719: 1.0, 8744: 1.0, 8900: 1.0, 8921: 1.0, 8943: 1.0, 8946: 1.0, 9060: 1.0, 9080: 1.0, 9189: 2.0, 9203: 2.0, 9204: 1.0, 9254: 2.0, 9320: 5.0, 9495: 1.0, 9550: 1.0, 9551: 1.0, 9638: 1.0, 9969: 1.0}), features=SparseVector(10000, {55: 4.5121, 76: 4.5153, 192: 4.732, 240: 4.1609, 279: 8.9418, 291: 2.5113, 523: 4.4524, 637: 4.7859, 721: 1.0062, 808: 17.4981, 939: 3.6704, 940: 5.5633, 1041: 3.6267, 1047: 5.2826, 1179: 5.876, 1312: 0.8143, 1421: 6.1183, 1437: 3.5026, 1465: 5.4497, 1485: 5.075, 1568: 5.3328, 1608: 4.7944, 1715: 5.6916, 1738: 4.2391, 1750: 14.4747, 1859: 4.1362, 1925: 3.5658, 1955: 6.5345, 1959: 0.6697, 2058: 5.0807, 2080: 0.8229, 2095: 4.7121, 2121: 4.5089, 2128: 3.5658, 2207: 2.003, 2282: 20.0454, 2283: 4.2767, 2289: 3.8824, 2325: 22.5283, 2328: 8.6158, 2356: 4.4254, 2438: 5.2826, 2455: 25.939, 2460: 0.4147, 2558: 4.9673, 2704: 3.8468, 2716: 2.0245, 2807: 5.3948, 2816: 4.3106, 2906: 3.6043, 2955: 5.4013, 3007: 4.8293, 3111: 17.4933, 3211: 4.4875, 3233: 5.2415, 3372: 0.5312, 3380: 6.0711, 3381: 4.6107, 3428: 5.4414, 3452: 17.2369, 3490: 5.2687, 3582: 5.876, 3592: 8.5948, 3593: 4.545, 3655: 5.9414, 3718: 6.2227, 3824: 3.9157, 3855: 0.7492, 3860: 3.8419, 3967: 2.689, 3976: 5.5726, 4031: 4.3212, 4140: 11.6432, 4310: 5.6403, 4410: 5.7456, 4441: 5.5165, 4648: 5.215, 4694: 5.7128, 4726: 5.1765, 4744: 0.7139, 4924: 13.3391, 5053: 3.125, 5068: 13.7579, 5134: 4.7361, 5193: 10.6219, 5410: 3.9594, 5439: 10.51, 5550: 12.0925, 5612: 0.8278, 5669: 3.7307, 5786: 0.724, 5843: 5.2687, 5854: 5.6403, 5919: 4.1564, 5932: 4.6107, 6016: 5.0637, 6089: 4.6214, 6101: 6.0866, 6168: 2.1462, 6386: 6.0558, 6418: 0.7913, 6471: 5.1578, 6565: 4.4403, 6671: 5.5269, 6798: 3.1042, 7161: 4.4494, 7200: 3.9539, 7350: 3.7918, 7389: 3.8738, 7587: 4.5089, 7657: 9.8843, 7932: 7.2588, 7980: 2.0261, 7989: 0.7527, 8051: 4.7081, 8071: 3.3879, 8118: 5.928, 8196: 6.0259, 8219: 5.1335, 8407: 5.4919, 8493: 0.7929, 8519: 5.2085, 8696: 0.8381, 8719: 3.6069, 8744: 3.7824, 8900: 4.0052, 8921: 5.4497, 8943: 4.6, 8946: 5.1395, 9060: 4.9572, 9080: 5.1517, 9189: 10.5792, 9203: 10.6952, 9204: 4.724, 9254: 5.6426, 9320: 23.3855, 9495: 3.8586, 9550: 4.9572, 9551: 4.4961, 9638: 3.7487, 9969: 4.1519})),\n",
       " Row(id=16704, lang='ru', name='Программирование на Lazarus', desc_filtered='в курсе рассматривается среда программирования lazarus и компилятор fpc', words=['в', 'курсе', 'рассматривается', 'среда', 'программирования', 'lazarus', 'и', 'компилятор', 'fpc'], words_filtered=['курсе', 'рассматривается', 'среда', 'программирования', 'lazarus', 'компилятор', 'fpc'], rawFeatures=SparseVector(10000, {381: 1.0, 1144: 1.0, 1531: 1.0, 2255: 1.0, 5200: 1.0, 6103: 1.0, 9375: 1.0}), features=SparseVector(10000, {381: 4.4254, 1144: 4.2948, 1531: 4.4678, 2255: 4.0758, 5200: 4.8074, 6103: 4.9622, 9375: 3.7902})),\n",
       " Row(id=23126, lang='en', name='Compass - powerful SASS library that makes your life easier', desc_filtered=' improve your sass skill by learning benefits coming from compass framework which has many saving time useful utilities compass is a framework library for sass which means that you can find inside it lots of useful utilities that are gonna be shown to you inside this course these utilities can save your time while you are developing your websites by using compass you can use created by others functionsmixins which you would need to most time write on your own as always time money save your time by learning compass make your website load faster using sprites within compass with compass you gonna create sprites almost instantly if you do not know what are sprites watch a free lesson about sprites and you will see that this course is worth taking after this course you will know how to install compass integrate compass with sass use compass use and know what are sprites use compass inside a great ide create vendor prefixes using mixins and much more i give you 100 satisfaction if you do not like my course you can request a full refund up to 30 days remember that if you have any questions regarding topics covered in the course please feel free to ask im always happy to help please check free lessons before buying see for yourself the great quality of the course and enjoy it what are the requirements you should already be familiar with css html and sass what am i going to get from this course over 22 lectures and 2 hours of content install compass integrate compass with sass explore compass framework use and know what are sprites know how to create vendor prefixes using mixins integrate compass and sass inside great ide so the process of compilation is gonna be automated and you wont lose your precious time the most useful mixinsfunctions what is the target audience this compass course is meant for people who do not know compass or want to improve remind themselves of things that are inside compass no prior knowledge about compass is needed this course is not for you if you do not know sass section 1 introduction to the course what is compasswho am iwhat you will know after this coursesection 2 compass installation installation of compasssolution for problems with ssl when installing compasscompass manually installationconfiguration using configrb filesection 3 sprites what are sprites why they are so awesomecreating sprites using compasscustomization of spritesmagic in compass using spritescreating sprites in compass is so awesome rehersalsection 4 usage mixins used for creating vendor prefixessetting vendor prefixies minimum browser requirementhow to make horizontal lists fasthow to keep rhytm in text using vertical rhytmhelper functionsstreching boxesfast summary of usage sectionsection 5 bonus installation of sassrubyide ideal editor for working with sass and compassinstallation and configuration of sassmanually compilation of sasssection 6 summary what after this course', words=['', 'improve', 'your', 'sass', 'skill', 'by', 'learning', 'benefits', 'coming', 'from', 'compass', 'framework', 'which', 'has', 'many', 'saving', 'time', 'useful', 'utilities', 'compass', 'is', 'a', 'framework', 'library', 'for', 'sass', 'which', 'means', 'that', 'you', 'can', 'find', 'inside', 'it', 'lots', 'of', 'useful', 'utilities', 'that', 'are', 'gonna', 'be', 'shown', 'to', 'you', 'inside', 'this', 'course', 'these', 'utilities', 'can', 'save', 'your', 'time', 'while', 'you', 'are', 'developing', 'your', 'websites', 'by', 'using', 'compass', 'you', 'can', 'use', 'created', 'by', 'others', 'functionsmixins', 'which', 'you', 'would', 'need', 'to', 'most', 'time', 'write', 'on', 'your', 'own', 'as', 'always', 'time', 'money', 'save', 'your', 'time', 'by', 'learning', 'compass', 'make', 'your', 'website', 'load', 'faster', 'using', 'sprites', 'within', 'compass', 'with', 'compass', 'you', 'gonna', 'create', 'sprites', 'almost', 'instantly', 'if', 'you', 'do', 'not', 'know', 'what', 'are', 'sprites', 'watch', 'a', 'free', 'lesson', 'about', 'sprites', 'and', 'you', 'will', 'see', 'that', 'this', 'course', 'is', 'worth', 'taking', 'after', 'this', 'course', 'you', 'will', 'know', 'how', 'to', 'install', 'compass', 'integrate', 'compass', 'with', 'sass', 'use', 'compass', 'use', 'and', 'know', 'what', 'are', 'sprites', 'use', 'compass', 'inside', 'a', 'great', 'ide', 'create', 'vendor', 'prefixes', 'using', 'mixins', 'and', 'much', 'more', 'i', 'give', 'you', '100', 'satisfaction', 'if', 'you', 'do', 'not', 'like', 'my', 'course', 'you', 'can', 'request', 'a', 'full', 'refund', 'up', 'to', '30', 'days', 'remember', 'that', 'if', 'you', 'have', 'any', 'questions', 'regarding', 'topics', 'covered', 'in', 'the', 'course', 'please', 'feel', 'free', 'to', 'ask', 'im', 'always', 'happy', 'to', 'help', 'please', 'check', 'free', 'lessons', 'before', 'buying', 'see', 'for', 'yourself', 'the', 'great', 'quality', 'of', 'the', 'course', 'and', 'enjoy', 'it', 'what', 'are', 'the', 'requirements', 'you', 'should', 'already', 'be', 'familiar', 'with', 'css', 'html', 'and', 'sass', 'what', 'am', 'i', 'going', 'to', 'get', 'from', 'this', 'course', 'over', '22', 'lectures', 'and', '2', 'hours', 'of', 'content', 'install', 'compass', 'integrate', 'compass', 'with', 'sass', 'explore', 'compass', 'framework', 'use', 'and', 'know', 'what', 'are', 'sprites', 'know', 'how', 'to', 'create', 'vendor', 'prefixes', 'using', 'mixins', 'integrate', 'compass', 'and', 'sass', 'inside', 'great', 'ide', 'so', 'the', 'process', 'of', 'compilation', 'is', 'gonna', 'be', 'automated', 'and', 'you', 'wont', 'lose', 'your', 'precious', 'time', 'the', 'most', 'useful', 'mixinsfunctions', 'what', 'is', 'the', 'target', 'audience', 'this', 'compass', 'course', 'is', 'meant', 'for', 'people', 'who', 'do', 'not', 'know', 'compass', 'or', 'want', 'to', 'improve', 'remind', 'themselves', 'of', 'things', 'that', 'are', 'inside', 'compass', 'no', 'prior', 'knowledge', 'about', 'compass', 'is', 'needed', 'this', 'course', 'is', 'not', 'for', 'you', 'if', 'you', 'do', 'not', 'know', 'sass', 'section', '1', 'introduction', 'to', 'the', 'course', 'what', 'is', 'compasswho', 'am', 'iwhat', 'you', 'will', 'know', 'after', 'this', 'coursesection', '2', 'compass', 'installation', 'installation', 'of', 'compasssolution', 'for', 'problems', 'with', 'ssl', 'when', 'installing', 'compasscompass', 'manually', 'installationconfiguration', 'using', 'configrb', 'filesection', '3', 'sprites', 'what', 'are', 'sprites', 'why', 'they', 'are', 'so', 'awesomecreating', 'sprites', 'using', 'compasscustomization', 'of', 'spritesmagic', 'in', 'compass', 'using', 'spritescreating', 'sprites', 'in', 'compass', 'is', 'so', 'awesome', 'rehersalsection', '4', 'usage', 'mixins', 'used', 'for', 'creating', 'vendor', 'prefixessetting', 'vendor', 'prefixies', 'minimum', 'browser', 'requirementhow', 'to', 'make', 'horizontal', 'lists', 'fasthow', 'to', 'keep', 'rhytm', 'in', 'text', 'using', 'vertical', 'rhytmhelper', 'functionsstreching', 'boxesfast', 'summary', 'of', 'usage', 'sectionsection', '5', 'bonus', 'installation', 'of', 'sassrubyide', 'ideal', 'editor', 'for', 'working', 'with', 'sass', 'and', 'compassinstallation', 'and', 'configuration', 'of', 'sassmanually', 'compilation', 'of', 'sasssection', '6', 'summary', 'what', 'after', 'this', 'course'], words_filtered=['', 'improve', 'sass', 'skill', 'learning', 'benefits', 'coming', 'compass', 'framework', 'many', 'saving', 'time', 'useful', 'utilities', 'compass', 'framework', 'library', 'sass', 'means', 'find', 'inside', 'lots', 'useful', 'utilities', 'gonna', 'shown', 'inside', 'course', 'utilities', 'save', 'time', 'developing', 'websites', 'using', 'compass', 'use', 'created', 'others', 'functionsmixins', 'need', 'time', 'write', 'always', 'time', 'money', 'save', 'time', 'learning', 'compass', 'make', 'website', 'load', 'faster', 'using', 'sprites', 'within', 'compass', 'compass', 'gonna', 'create', 'sprites', 'almost', 'instantly', 'know', 'sprites', 'watch', 'free', 'lesson', 'sprites', 'see', 'course', 'worth', 'taking', 'course', 'know', 'install', 'compass', 'integrate', 'compass', 'sass', 'use', 'compass', 'use', 'know', 'sprites', 'use', 'compass', 'inside', 'great', 'ide', 'create', 'vendor', 'prefixes', 'using', 'mixins', 'much', 'give', '100', 'satisfaction', 'like', 'course', 'request', 'full', 'refund', '30', 'days', 'remember', 'questions', 'regarding', 'topics', 'covered', 'course', 'please', 'feel', 'free', 'ask', 'im', 'always', 'happy', 'help', 'please', 'check', 'free', 'lessons', 'buying', 'see', 'great', 'quality', 'course', 'enjoy', 'requirements', 'already', 'familiar', 'css', 'html', 'sass', 'going', 'get', 'course', '22', 'lectures', '2', 'hours', 'content', 'install', 'compass', 'integrate', 'compass', 'sass', 'explore', 'compass', 'framework', 'use', 'know', 'sprites', 'know', 'create', 'vendor', 'prefixes', 'using', 'mixins', 'integrate', 'compass', 'sass', 'inside', 'great', 'ide', 'process', 'compilation', 'gonna', 'automated', 'wont', 'lose', 'precious', 'time', 'useful', 'mixinsfunctions', 'target', 'audience', 'compass', 'course', 'meant', 'people', 'know', 'compass', 'want', 'improve', 'remind', 'things', 'inside', 'compass', 'prior', 'knowledge', 'compass', 'needed', 'course', 'know', 'sass', 'section', '1', 'introduction', 'course', 'compasswho', 'iwhat', 'know', 'coursesection', '2', 'compass', 'installation', 'installation', 'compasssolution', 'problems', 'ssl', 'installing', 'compasscompass', 'manually', 'installationconfiguration', 'using', 'configrb', 'filesection', '3', 'sprites', 'sprites', 'awesomecreating', 'sprites', 'using', 'compasscustomization', 'spritesmagic', 'compass', 'using', 'spritescreating', 'sprites', 'compass', 'awesome', 'rehersalsection', '4', 'usage', 'mixins', 'used', 'creating', 'vendor', 'prefixessetting', 'vendor', 'prefixies', 'minimum', 'browser', 'requirementhow', 'make', 'horizontal', 'lists', 'fasthow', 'keep', 'rhytm', 'text', 'using', 'vertical', 'rhytmhelper', 'functionsstreching', 'boxesfast', 'summary', 'usage', 'sectionsection', '5', 'bonus', 'installation', 'sassrubyide', 'ideal', 'editor', 'working', 'sass', 'compassinstallation', 'configuration', 'sassmanually', 'compilation', 'sasssection', '6', 'summary', 'course'], rawFeatures=SparseVector(10000, {87: 1.0, 246: 1.0, 258: 1.0, 263: 3.0, 341: 2.0, 419: 1.0, 524: 1.0, 721: 1.0, 727: 1.0, 814: 1.0, 870: 1.0, 937: 1.0, 948: 1.0, 966: 1.0, 1022: 1.0, 1072: 2.0, 1073: 3.0, 1169: 1.0, 1197: 1.0, 1218: 1.0, 1222: 1.0, 1272: 3.0, 1312: 1.0, 1368: 1.0, 1443: 1.0, 1463: 5.0, 1470: 8.0, 1645: 1.0, 1652: 1.0, 1682: 1.0, 1770: 1.0, 1851: 1.0, 1882: 1.0, 1959: 1.0, 2060: 1.0, 2080: 1.0, 2412: 1.0, 2460: 11.0, 2682: 1.0, 2691: 1.0, 2801: 1.0, 2865: 1.0, 2971: 1.0, 3102: 1.0, 3115: 1.0, 3145: 1.0, 3154: 2.0, 3162: 1.0, 3202: 1.0, 3330: 1.0, 3372: 1.0, 3434: 1.0, 3444: 1.0, 3491: 1.0, 3525: 2.0, 3624: 8.0, 3721: 1.0, 3757: 2.0, 3767: 1.0, 3772: 1.0, 3783: 1.0, 3849: 2.0, 3855: 1.0, 3916: 1.0, 4061: 1.0, 4115: 1.0, 4260: 3.0, 4394: 2.0, 4422: 1.0, 4489: 5.0, 4520: 2.0, 4712: 1.0, 4744: 1.0, 4762: 1.0, 4805: 3.0, 4858: 1.0, 4888: 1.0, 4904: 1.0, 4962: 1.0, 5141: 1.0, 5188: 1.0, 5242: 1.0, 5318: 1.0, 5429: 1.0, 5446: 1.0, 5548: 1.0, 5594: 1.0, 5612: 1.0, 5685: 1.0, 5723: 1.0, 5737: 1.0, 5786: 1.0, 6006: 1.0, 6022: 1.0, 6114: 1.0, 6242: 2.0, 6262: 1.0, 6265: 3.0, 6311: 2.0, 6418: 1.0, 6439: 1.0, 6537: 1.0, 6549: 1.0, 6595: 4.0, 6608: 3.0, 6668: 2.0, 6675: 1.0, 6688: 1.0, 6714: 1.0, 6750: 1.0, 6815: 1.0, 6835: 1.0, 6841: 2.0, 6842: 1.0, 6894: 1.0, 6969: 1.0, 7013: 2.0, 7038: 1.0, 7255: 1.0, 7271: 1.0, 7318: 1.0, 7368: 1.0, 7486: 1.0, 7510: 1.0, 7512: 1.0, 7515: 2.0, 7522: 2.0, 7712: 1.0, 7758: 1.0, 7779: 8.0, 7922: 3.0, 7989: 2.0, 8002: 1.0, 8028: 1.0, 8057: 1.0, 8113: 1.0, 8157: 6.0, 8159: 1.0, 8261: 1.0, 8350: 10.0, 8429: 1.0, 8433: 1.0, 8493: 1.0, 8573: 1.0, 8598: 3.0, 8599: 3.0, 8696: 1.0, 8754: 1.0, 8795: 1.0, 8877: 1.0, 8897: 1.0, 8993: 1.0, 9060: 21.0, 9092: 1.0, 9146: 1.0, 9159: 1.0, 9244: 1.0, 9327: 1.0, 9347: 1.0, 9533: 1.0, 9594: 1.0, 9605: 1.0, 9638: 1.0, 9644: 1.0, 9653: 1.0, 9688: 1.0}), features=SparseVector(10000, {87: 2.6937, 246: 3.9557, 258: 3.5002, 263: 16.2998, 341: 5.8105, 419: 2.6024, 524: 2.1652, 721: 1.0062, 727: 2.1538, 814: 4.8293, 870: 2.6848, 937: 2.5488, 948: 5.9016, 966: 0.8726, 1022: 2.0601, 1072: 3.1401, 1073: 5.8753, 1169: 2.6361, 1197: 3.6108, 1218: 5.1275, 1222: 5.6403, 1272: 7.7787, 1312: 0.8143, 1368: 1.9569, 1443: 3.0631, 1463: 16.5894, 1470: 41.5647, 1645: 3.6958, 1652: 3.2261, 1682: 3.5037, 1770: 3.3681, 1851: 3.0971, 1882: 2.7187, 1959: 0.6697, 2060: 5.6503, 2080: 0.8229, 2412: 2.5713, 2460: 4.5622, 2682: 2.9758, 2691: 4.3212, 2801: 2.3006, 2865: 5.0864, 2971: 5.0922, 3102: 2.9302, 3115: 2.7645, 3145: 2.6617, 3154: 8.5281, 3162: 3.0639, 3202: 2.8065, 3330: 1.6927, 3372: 0.5312, 3434: 3.9373, 3444: 3.7278, 3491: 5.3476, 3525: 2.7479, 3624: 10.2276, 3721: 3.1034, 3757: 6.0915, 3767: 1.5511, 3772: 3.1688, 3783: 2.2248, 3849: 1.7034, 3855: 0.7492, 3916: 4.769, 4061: 4.6071, 4115: 3.1153, 4260: 5.876, 4394: 5.9839, 4422: 4.011, 4489: 5.8363, 4520: 5.9698, 4712: 4.4136, 4744: 0.7139, 4762: 3.9104, 4805: 15.9546, 4858: 3.0458, 4888: 5.5092, 4904: 2.5479, 4962: 4.2844, 5141: 3.2244, 5188: 1.8929, 5242: 2.2733, 5318: 3.819, 5429: 3.4475, 5446: 3.08, 5548: 5.1703, 5594: 2.6658, 5612: 0.8278, 5685: 3.8569, 5723: 2.6336, 5737: 2.5388, 5786: 0.724, 6006: 1.2651, 6022: 2.9059, 6114: 3.1945, 6242: 9.6234, 6262: 2.9079, 6265: 4.1557, 6311: 10.7253, 6418: 0.7913, 6439: 3.3974, 6537: 1.3449, 6549: 4.6964, 6595: 18.5733, 6608: 15.4551, 6668: 9.2646, 6675: 1.1897, 6688: 3.0738, 6714: 3.3149, 6750: 5.8387, 6815: 5.7237, 6835: 3.9465, 6841: 5.9939, 6842: 3.3932, 6894: 5.7681, 6969: 4.9322, 7013: 5.4667, 7038: 3.8653, 7255: 3.7746, 7271: 5.8028, 7318: 6.0866, 7368: 5.6403, 7486: 1.6997, 7510: 1.9509, 7512: 4.3401, 7515: 4.4158, 7522: 4.912, 7712: 1.5941, 7758: 4.4647, 7779: 12.0102, 7922: 11.9864, 7989: 1.5054, 8002: 4.249, 8028: 4.2922, 8057: 2.642, 8113: 2.7588, 8157: 8.6153, 8159: 3.6201, 8261: 4.9079, 8350: 36.5652, 8429: 2.4731, 8433: 3.0746, 8493: 0.7929, 8573: 5.5726, 8598: 11.6837, 8599: 8.839, 8696: 0.8381, 8754: 5.9688, 8795: 3.5109, 8877: 5.6503, 8897: 2.5384, 8993: 2.7383, 9060: 104.1007, 9092: 4.6, 9146: 2.9053, 9159: 1.6846, 9244: 2.6541, 9327: 1.4515, 9347: 1.5119, 9533: 2.8467, 9594: 2.7544, 9605: 2.0432, 9638: 3.7487, 9644: 3.7562, 9653: 3.7777, 9688: 3.287})),\n",
       " Row(id=21617, lang='en', name='Preparing for the AP* Computer Science A Exam — Part 2', desc_filtered='an introduction to how computing can be used to solve realworld problems while encouraging student computational creativity part 2 of 2 csap1xnbsp covers the material of ap computer science a which is equivalent to a firstsemester collegelevel course in computer science this highly interactive course will introduce students to the fundamental concepts of computer science the course will be structured to encourage students to think computationally and enjoy problem solving new york citys companies museums art and architecture will be used as examples to emphasize the ubiquitous role of computing and programming concepts in the world around us the course will delve into object oriented problem solving and design using the javanbsp programming language nbspstudents will have access to practice problems that will help them learn to program without spending hours on finding and fixing syntax errorsnbsp these will include online multiplechoice questions in the style of those on the ap exam mixedup code that the user drags into the correct order fill in the blank code and audio tours of the code topics include problem solving nbspprogramming design strategies andnbsp data structures algorithms role of computation in realworld applications like smart phones google glass and robots this material may be used for selfstudy and as a preview by students and teachers considering the september 2015 offering of the coursenbspvideo lectures for this course will be available in may 2015nbspnbspancillary material including labs will be added over the summer of 2015 all of the course will be available september 1 2015 this is a selfpaced course you may take csap1x on your schedule learn more about our high school and ap exam preparation courses advanced placement and ap are registered trademarks of the college board which was not involved in the production of and does not endorse these offerings ', words=['an', 'introduction', 'to', 'how', 'computing', 'can', 'be', 'used', 'to', 'solve', 'realworld', 'problems', 'while', 'encouraging', 'student', 'computational', 'creativity', 'part', '2', 'of', '2', 'csap1xnbsp', 'covers', 'the', 'material', 'of', 'ap', 'computer', 'science', 'a', 'which', 'is', 'equivalent', 'to', 'a', 'firstsemester', 'collegelevel', 'course', 'in', 'computer', 'science', 'this', 'highly', 'interactive', 'course', 'will', 'introduce', 'students', 'to', 'the', 'fundamental', 'concepts', 'of', 'computer', 'science', 'the', 'course', 'will', 'be', 'structured', 'to', 'encourage', 'students', 'to', 'think', 'computationally', 'and', 'enjoy', 'problem', 'solving', 'new', 'york', 'citys', 'companies', 'museums', 'art', 'and', 'architecture', 'will', 'be', 'used', 'as', 'examples', 'to', 'emphasize', 'the', 'ubiquitous', 'role', 'of', 'computing', 'and', 'programming', 'concepts', 'in', 'the', 'world', 'around', 'us', 'the', 'course', 'will', 'delve', 'into', 'object', 'oriented', 'problem', 'solving', 'and', 'design', 'using', 'the', 'javanbsp', 'programming', 'language', 'nbspstudents', 'will', 'have', 'access', 'to', 'practice', 'problems', 'that', 'will', 'help', 'them', 'learn', 'to', 'program', 'without', 'spending', 'hours', 'on', 'finding', 'and', 'fixing', 'syntax', 'errorsnbsp', 'these', 'will', 'include', 'online', 'multiplechoice', 'questions', 'in', 'the', 'style', 'of', 'those', 'on', 'the', 'ap', 'exam', 'mixedup', 'code', 'that', 'the', 'user', 'drags', 'into', 'the', 'correct', 'order', 'fill', 'in', 'the', 'blank', 'code', 'and', 'audio', 'tours', 'of', 'the', 'code', 'topics', 'include', 'problem', 'solving', 'nbspprogramming', 'design', 'strategies', 'andnbsp', 'data', 'structures', 'algorithms', 'role', 'of', 'computation', 'in', 'realworld', 'applications', 'like', 'smart', 'phones', 'google', 'glass', 'and', 'robots', 'this', 'material', 'may', 'be', 'used', 'for', 'selfstudy', 'and', 'as', 'a', 'preview', 'by', 'students', 'and', 'teachers', 'considering', 'the', 'september', '2015', 'offering', 'of', 'the', 'coursenbspvideo', 'lectures', 'for', 'this', 'course', 'will', 'be', 'available', 'in', 'may', '2015nbspnbspancillary', 'material', 'including', 'labs', 'will', 'be', 'added', 'over', 'the', 'summer', 'of', '2015', 'all', 'of', 'the', 'course', 'will', 'be', 'available', 'september', '1', '2015', 'this', 'is', 'a', 'selfpaced', 'course', 'you', 'may', 'take', 'csap1x', 'on', 'your', 'schedule', 'learn', 'more', 'about', 'our', 'high', 'school', 'and', 'ap', 'exam', 'preparation', 'courses', 'advanced', 'placement', 'and', 'ap', 'are', 'registered', 'trademarks', 'of', 'the', 'college', 'board', 'which', 'was', 'not', 'involved', 'in', 'the', 'production', 'of', 'and', 'does', 'not', 'endorse', 'these', 'offerings'], words_filtered=['introduction', 'computing', 'used', 'solve', 'realworld', 'problems', 'encouraging', 'student', 'computational', 'creativity', 'part', '2', '2', 'csap1xnbsp', 'covers', 'material', 'ap', 'computer', 'science', 'equivalent', 'firstsemester', 'collegelevel', 'course', 'computer', 'science', 'highly', 'interactive', 'course', 'introduce', 'students', 'fundamental', 'concepts', 'computer', 'science', 'course', 'structured', 'encourage', 'students', 'think', 'computationally', 'enjoy', 'problem', 'solving', 'new', 'york', 'citys', 'companies', 'museums', 'art', 'architecture', 'used', 'examples', 'emphasize', 'ubiquitous', 'role', 'computing', 'programming', 'concepts', 'world', 'around', 'us', 'course', 'delve', 'object', 'oriented', 'problem', 'solving', 'design', 'using', 'javanbsp', 'programming', 'language', 'nbspstudents', 'access', 'practice', 'problems', 'help', 'learn', 'program', 'without', 'spending', 'hours', 'finding', 'fixing', 'syntax', 'errorsnbsp', 'include', 'online', 'multiplechoice', 'questions', 'style', 'ap', 'exam', 'mixedup', 'code', 'user', 'drags', 'correct', 'order', 'fill', 'blank', 'code', 'audio', 'tours', 'code', 'topics', 'include', 'problem', 'solving', 'nbspprogramming', 'design', 'strategies', 'andnbsp', 'data', 'structures', 'algorithms', 'role', 'computation', 'realworld', 'applications', 'like', 'smart', 'phones', 'google', 'glass', 'robots', 'material', 'may', 'used', 'selfstudy', 'preview', 'students', 'teachers', 'considering', 'september', '2015', 'offering', 'coursenbspvideo', 'lectures', 'course', 'available', 'may', '2015nbspnbspancillary', 'material', 'including', 'labs', 'added', 'summer', '2015', 'course', 'available', 'september', '1', '2015', 'selfpaced', 'course', 'may', 'take', 'csap1x', 'schedule', 'learn', 'high', 'school', 'ap', 'exam', 'preparation', 'courses', 'advanced', 'placement', 'ap', 'registered', 'trademarks', 'college', 'board', 'involved', 'production', 'endorse', 'offerings'], rawFeatures=SparseVector(10000, {161: 1.0, 360: 1.0, 507: 1.0, 625: 1.0, 721: 1.0, 727: 1.0, 775: 1.0, 839: 1.0, 855: 1.0, 870: 2.0, 879: 2.0, 892: 1.0, 957: 1.0, 1150: 1.0, 1350: 1.0, 1369: 1.0, 1384: 1.0, 1479: 1.0, 1486: 1.0, 1523: 3.0, 1537: 1.0, 1564: 1.0, 1695: 1.0, 1702: 1.0, 1716: 1.0, 1718: 1.0, 1824: 1.0, 1871: 1.0, 1978: 1.0, 2050: 2.0, 2116: 1.0, 2460: 7.0, 2504: 1.0, 2534: 1.0, 2650: 1.0, 2666: 3.0, 2722: 1.0, 2742: 1.0, 3003: 1.0, 3040: 1.0, 3101: 3.0, 3200: 1.0, 3231: 3.0, 3304: 4.0, 3330: 1.0, 3345: 1.0, 3350: 2.0, 3388: 1.0, 3400: 1.0, 3401: 2.0, 3436: 1.0, 3528: 1.0, 3560: 3.0, 3624: 1.0, 3669: 1.0, 3775: 2.0, 3818: 1.0, 3834: 2.0, 3849: 1.0, 3910: 1.0, 3949: 1.0, 4000: 1.0, 4208: 3.0, 4224: 1.0, 4225: 1.0, 4280: 1.0, 4373: 1.0, 4408: 1.0, 4420: 3.0, 4511: 1.0, 4593: 1.0, 4596: 1.0, 4663: 1.0, 4711: 1.0, 4744: 1.0, 4821: 1.0, 4991: 1.0, 5189: 2.0, 5320: 1.0, 5389: 1.0, 5531: 1.0, 5600: 1.0, 5737: 1.0, 5786: 1.0, 5809: 3.0, 5882: 1.0, 6006: 1.0, 6025: 1.0, 6119: 2.0, 6160: 1.0, 6266: 1.0, 6294: 3.0, 6411: 1.0, 6434: 1.0, 6449: 1.0, 6500: 1.0, 6542: 1.0, 6620: 1.0, 6688: 1.0, 6828: 1.0, 6954: 1.0, 7040: 1.0, 7507: 1.0, 7942: 1.0, 7983: 1.0, 7989: 2.0, 8096: 1.0, 8116: 1.0, 8151: 3.0, 8158: 1.0, 8246: 1.0, 8278: 1.0, 8371: 2.0, 8374: 1.0, 8417: 1.0, 8474: 1.0, 8525: 1.0, 8528: 1.0, 8579: 1.0, 8589: 1.0, 8644: 1.0, 8689: 1.0, 8740: 1.0, 8884: 1.0, 8940: 2.0, 8996: 1.0, 9006: 1.0, 9109: 1.0, 9313: 1.0, 9347: 1.0, 9433: 1.0, 9605: 3.0, 9727: 1.0, 9867: 1.0, 9924: 1.0}), features=SparseVector(10000, {161: 3.6321, 360: 4.3875, 507: 2.4126, 625: 3.8369, 721: 1.0062, 727: 2.1538, 775: 2.9456, 839: 5.6303, 855: 1.3861, 870: 5.3697, 879: 8.758, 892: 3.9688, 957: 3.1971, 1150: 1.9597, 1350: 2.613, 1369: 3.4167, 1384: 3.0005, 1479: 5.009, 1486: 3.1884, 1523: 4.2478, 1537: 5.1335, 1564: 2.6637, 1695: 2.3393, 1702: 4.625, 1716: 2.2978, 1718: 2.6087, 1824: 3.7367, 1871: 2.962, 1978: 4.6071, 2050: 5.4483, 2116: 2.3254, 2460: 2.9032, 2504: 4.4254, 2534: 3.7073, 2650: 3.6347, 2666: 7.0883, 2722: 4.4373, 2742: 2.6189, 3003: 4.0948, 3040: 5.458, 3101: 9.2772, 3200: 3.051, 3231: 7.068, 3304: 19.2644, 3330: 1.6927, 3345: 4.8074, 3350: 6.2532, 3388: 4.0613, 3400: 4.0409, 3401: 4.762, 3436: 3.6095, 3528: 3.1202, 3560: 8.8027, 3624: 1.2785, 3669: 6.0113, 3775: 1.3551, 3818: 5.2282, 3834: 3.8253, 3849: 0.8517, 3910: 5.0143, 3949: 5.0197, 4000: 1.8455, 4208: 6.4051, 4224: 2.1935, 4225: 4.2615, 4280: 2.3537, 4373: 4.249, 4408: 2.9289, 4420: 7.671, 4511: 3.0738, 4593: 3.4758, 4596: 2.7038, 4663: 4.545, 4711: 5.955, 4744: 0.7139, 4821: 3.1824, 4991: 4.4678, 5189: 2.7881, 5320: 4.9079, 5389: 5.3702, 5531: 2.4453, 5600: 5.4013, 5737: 2.5388, 5786: 0.724, 5809: 8.7668, 5882: 2.8424, 6006: 1.2651, 6025: 1.4134, 6119: 7.9756, 6160: 3.3397, 6266: 5.8887, 6294: 7.8639, 6411: 3.3477, 6434: 5.2216, 6449: 3.363, 6500: 2.6126, 6542: 3.4475, 6620: 3.3427, 6688: 3.0738, 6828: 5.098, 6954: 2.0551, 7040: 3.0192, 7507: 3.1629, 7942: 3.3712, 7983: 4.8655, 7989: 1.5054, 8096: 4.9079, 8116: 3.5349, 8151: 6.5595, 8158: 4.6107, 8246: 5.4092, 8278: 5.1828, 8371: 4.7759, 8374: 5.0251, 8417: 2.6632, 8474: 4.2974, 8525: 4.0032, 8528: 4.1519, 8579: 2.1789, 8589: 5.1578, 8644: 2.3635, 8689: 4.8655, 8740: 1.7507, 8884: 2.3415, 8940: 7.9794, 8996: 3.4211, 9006: 3.4781, 9109: 4.0737, 9313: 3.1705, 9347: 1.5119, 9433: 5.0864, 9605: 6.1297, 9727: 3.8963, 9867: 4.647, 9924: 5.311})),\n",
       " Row(id=11556, lang='es', name='Aprendizaje Colaborativo by UNID Universidad Interamericana para el Desarrollo', desc_filtered=' la transformación del aula con el aprendizaje colaborativo este curso tiene como objetivo aprender a identificar las características generales del aprendizaje colaborativo así como algunas dinámicas que propicien este tipo de aprendizaje para que puedan y sepan cómo aplicarlas buscando fomentar el trabajo en equipo descubrir metodologías del aprendizaje que surgen a partir de la colaboración con grupos que comparten espacios de discusión o a favor de informarse o de realizar trabajos en equipo el concepto de aprendizaje colaborativo ha sido objeto de investigación y estudio en los últimos años con la aparición y crecimiento del elearning what are the requirements interesados en estrategias de enseñanza aprendizaje what am i going to get from this course over 12 lectures and 1 hour of content identificar características del aprendizaje colaborativo aprender a trabajar en equipo fomentar el trabajo en equipo what is the target audience docentes profesores pedagogos educadores alumnos estudiantes maestros section 1 características del aprendizaje colaborativo estructura de aprendizajehacia una comprensión del aprendizaje colaborativolos 10 mitos del aprendizaje colaborativosolución a los problemas educativos de la sociedad actual el aprendizaje colabola construcción colaborativa del conocimientoaprendizaje colaborativo en entornos virtualesevaluación del aprendizaje colaborativosection 2 dinámicas de aprendizaje colaborativo línea de valorpensar y compartir en pareslluvia de palabrasla hora del técarruselaprendizaje', words=['', 'la', 'transformación', 'del', 'aula', 'con', 'el', 'aprendizaje', 'colaborativo', 'este', 'curso', 'tiene', 'como', 'objetivo', 'aprender', 'a', 'identificar', 'las', 'características', 'generales', 'del', 'aprendizaje', 'colaborativo', 'así', 'como', 'algunas', 'dinámicas', 'que', 'propicien', 'este', 'tipo', 'de', 'aprendizaje', 'para', 'que', 'puedan', 'y', 'sepan', 'cómo', 'aplicarlas', 'buscando', 'fomentar', 'el', 'trabajo', 'en', 'equipo', 'descubrir', 'metodologías', 'del', 'aprendizaje', 'que', 'surgen', 'a', 'partir', 'de', 'la', 'colaboración', 'con', 'grupos', 'que', 'comparten', 'espacios', 'de', 'discusión', 'o', 'a', 'favor', 'de', 'informarse', 'o', 'de', 'realizar', 'trabajos', 'en', 'equipo', 'el', 'concepto', 'de', 'aprendizaje', 'colaborativo', 'ha', 'sido', 'objeto', 'de', 'investigación', 'y', 'estudio', 'en', 'los', 'últimos', 'años', 'con', 'la', 'aparición', 'y', 'crecimiento', 'del', 'elearning', 'what', 'are', 'the', 'requirements', 'interesados', 'en', 'estrategias', 'de', 'enseñanza', 'aprendizaje', 'what', 'am', 'i', 'going', 'to', 'get', 'from', 'this', 'course', 'over', '12', 'lectures', 'and', '1', 'hour', 'of', 'content', 'identificar', 'características', 'del', 'aprendizaje', 'colaborativo', 'aprender', 'a', 'trabajar', 'en', 'equipo', 'fomentar', 'el', 'trabajo', 'en', 'equipo', 'what', 'is', 'the', 'target', 'audience', 'docentes', 'profesores', 'pedagogos', 'educadores', 'alumnos', 'estudiantes', 'maestros', 'section', '1', 'características', 'del', 'aprendizaje', 'colaborativo', 'estructura', 'de', 'aprendizajehacia', 'una', 'comprensión', 'del', 'aprendizaje', 'colaborativolos', '10', 'mitos', 'del', 'aprendizaje', 'colaborativosolución', 'a', 'los', 'problemas', 'educativos', 'de', 'la', 'sociedad', 'actual', 'el', 'aprendizaje', 'colabola', 'construcción', 'colaborativa', 'del', 'conocimientoaprendizaje', 'colaborativo', 'en', 'entornos', 'virtualesevaluación', 'del', 'aprendizaje', 'colaborativosection', '2', 'dinámicas', 'de', 'aprendizaje', 'colaborativo', 'línea', 'de', 'valorpensar', 'y', 'compartir', 'en', 'pareslluvia', 'de', 'palabrasla', 'hora', 'del', 'técarruselaprendizaje'], words_filtered=['', 'transformación', 'aula', 'aprendizaje', 'colaborativo', 'curso', 'objetivo', 'aprender', 'identificar', 'características', 'generales', 'aprendizaje', 'colaborativo', 'así', 'dinámicas', 'propicien', 'tipo', 'aprendizaje', 'puedan', 'sepan', 'cómo', 'aplicarlas', 'buscando', 'fomentar', 'trabajo', 'equipo', 'descubrir', 'metodologías', 'aprendizaje', 'surgen', 'partir', 'colaboración', 'grupos', 'comparten', 'espacios', 'discusión', 'favor', 'informarse', 'realizar', 'trabajos', 'equipo', 'concepto', 'aprendizaje', 'colaborativo', 'sido', 'objeto', 'investigación', 'estudio', 'últimos', 'años', 'aparición', 'crecimiento', 'elearning', 'requirements', 'interesados', 'estrategias', 'enseñanza', 'aprendizaje', 'going', 'get', 'course', '12', 'lectures', '1', 'hour', 'content', 'identificar', 'características', 'aprendizaje', 'colaborativo', 'aprender', 'trabajar', 'equipo', 'fomentar', 'trabajo', 'equipo', 'target', 'audience', 'docentes', 'profesores', 'pedagogos', 'educadores', 'alumnos', 'estudiantes', 'maestros', 'section', '1', 'características', 'aprendizaje', 'colaborativo', 'estructura', 'aprendizajehacia', 'comprensión', 'aprendizaje', 'colaborativolos', '10', 'mitos', 'aprendizaje', 'colaborativosolución', 'problemas', 'educativos', 'sociedad', 'actual', 'aprendizaje', 'colabola', 'construcción', 'colaborativa', 'conocimientoaprendizaje', 'colaborativo', 'entornos', 'virtualesevaluación', 'aprendizaje', 'colaborativosection', '2', 'dinámicas', 'aprendizaje', 'colaborativo', 'línea', 'valorpensar', 'compartir', 'pareslluvia', 'palabrasla', 'hora', 'técarruselaprendizaje'], rawFeatures=SparseVector(10000, {249: 1.0, 522: 1.0, 527: 1.0, 643: 1.0, 709: 1.0, 808: 1.0, 841: 1.0, 909: 1.0, 993: 1.0, 1047: 1.0, 1096: 1.0, 1236: 1.0, 1312: 1.0, 1448: 1.0, 1930: 1.0, 1959: 1.0, 2080: 1.0, 2171: 1.0, 2249: 1.0, 2369: 1.0, 2384: 1.0, 2460: 1.0, 2726: 1.0, 2739: 1.0, 2850: 2.0, 2906: 1.0, 2922: 1.0, 3084: 1.0, 3270: 13.0, 3372: 1.0, 3375: 1.0, 3586: 1.0, 3855: 1.0, 4213: 2.0, 4306: 1.0, 4423: 1.0, 4723: 1.0, 4744: 2.0, 4758: 3.0, 4900: 1.0, 5034: 1.0, 5260: 1.0, 5300: 1.0, 5314: 1.0, 5529: 1.0, 5612: 1.0, 5641: 1.0, 5660: 1.0, 5772: 1.0, 5786: 1.0, 5798: 1.0, 5820: 1.0, 5872: 1.0, 5990: 1.0, 6105: 7.0, 6119: 2.0, 6215: 1.0, 6256: 1.0, 6276: 1.0, 6306: 1.0, 6316: 1.0, 6443: 1.0, 6469: 1.0, 6632: 1.0, 6812: 1.0, 6959: 1.0, 7075: 1.0, 7496: 1.0, 7848: 1.0, 7970: 1.0, 7989: 1.0, 8189: 1.0, 8194: 1.0, 8382: 1.0, 8493: 1.0, 8599: 2.0, 8696: 1.0, 8698: 4.0, 8734: 1.0, 8850: 1.0, 8995: 1.0, 9241: 1.0, 9282: 1.0, 9320: 2.0, 9455: 1.0, 9524: 1.0, 9542: 1.0, 9614: 1.0, 9677: 1.0, 9784: 1.0, 9903: 1.0, 9926: 1.0, 9955: 1.0, 9976: 1.0, 9980: 1.0}), features=SparseVector(10000, {249: 5.1275, 522: 5.4092, 527: 2.5769, 643: 4.9622, 709: 4.8702, 808: 2.9164, 841: 3.1637, 909: 3.2032, 993: 5.3702, 1047: 5.2826, 1096: 3.9613, 1236: 5.0864, 1312: 0.8143, 1448: 4.3026, 1930: 5.0414, 1959: 0.6697, 2080: 0.8229, 2171: 5.2896, 2249: 4.8518, 2369: 6.3536, 2384: 5.8146, 2460: 0.4147, 2726: 4.0013, 2739: 5.0807, 2850: 7.1544, 2906: 3.6043, 2922: 5.9414, 3084: 3.3347, 3270: 61.7276, 3372: 0.5312, 3375: 4.4433, 3586: 3.6565, 3855: 0.7492, 4213: 8.2903, 4306: 5.009, 4423: 4.9079, 4723: 4.8795, 4744: 1.4278, 4758: 14.7527, 4900: 4.2666, 5034: 3.0332, 5260: 5.3856, 5300: 5.1155, 5314: 4.3401, 5529: 3.9229, 5612: 0.8278, 5641: 4.8383, 5660: 5.1096, 5772: 5.545, 5786: 0.724, 5798: 4.474, 5820: 4.3455, 5872: 4.3904, 5990: 6.5566, 6105: 37.4332, 6119: 7.9756, 6215: 4.0189, 6256: 4.8383, 6276: 4.9673, 6306: 5.2348, 6316: 5.7021, 6443: 4.4616, 6469: 5.6503, 6632: 5.0922, 6812: 4.264, 6959: 4.6964, 7075: 3.5459, 7496: 3.7352, 7848: 5.2348, 7970: 2.2262, 7989: 0.7527, 8189: 4.8428, 8194: 3.9483, 8382: 5.0414, 8493: 0.7929, 8599: 5.8926, 8696: 0.8381, 8698: 17.8712, 8734: 4.6396, 8850: 5.0037, 8995: 3.1405, 9241: 5.6707, 9282: 5.2085, 9320: 9.3542, 9455: 4.3847, 9524: 4.535, 9542: 5.5269, 9614: 3.7337, 9677: 5.2348, 9784: 5.2415, 9903: 3.105, 9926: 5.3255, 9955: 1.7891, 9976: 5.2282, 9980: 5.0807}))]"
      ]
     },
     "execution_count": 21,
     "metadata": {},
     "output_type": "execute_result"
    }
   ],
   "source": [
    "test_tfidf.collect()"
   ]
  },
  {
   "cell_type": "code",
   "execution_count": 22,
   "metadata": {},
   "outputs": [
    {
     "data": {
      "text/plain": [
       "[Row(lang='en', rec_id=8265, rec_features=SparseVector(10000, {77: 2.5334, 855: 1.3861, 1714: 4.3266, 2460: 0.4147, 4314: 4.0634, 4377: 2.4432, 5293: 3.9157, 6209: 1.8842, 6842: 3.3932, 9432: 2.5379, 9615: 4.0696}), name='Leadership: Identity, Influence and Power', id=23126, features=SparseVector(10000, {87: 2.6937, 246: 3.9557, 258: 3.5002, 263: 16.2998, 341: 5.8105, 419: 2.6024, 524: 2.1652, 721: 1.0062, 727: 2.1538, 814: 4.8293, 870: 2.6848, 937: 2.5488, 948: 5.9016, 966: 0.8726, 1022: 2.0601, 1072: 3.1401, 1073: 5.8753, 1169: 2.6361, 1197: 3.6108, 1218: 5.1275, 1222: 5.6403, 1272: 7.7787, 1312: 0.8143, 1368: 1.9569, 1443: 3.0631, 1463: 16.5894, 1470: 41.5647, 1645: 3.6958, 1652: 3.2261, 1682: 3.5037, 1770: 3.3681, 1851: 3.0971, 1882: 2.7187, 1959: 0.6697, 2060: 5.6503, 2080: 0.8229, 2412: 2.5713, 2460: 4.5622, 2682: 2.9758, 2691: 4.3212, 2801: 2.3006, 2865: 5.0864, 2971: 5.0922, 3102: 2.9302, 3115: 2.7645, 3145: 2.6617, 3154: 8.5281, 3162: 3.0639, 3202: 2.8065, 3330: 1.6927, 3372: 0.5312, 3434: 3.9373, 3444: 3.7278, 3491: 5.3476, 3525: 2.7479, 3624: 10.2276, 3721: 3.1034, 3757: 6.0915, 3767: 1.5511, 3772: 3.1688, 3783: 2.2248, 3849: 1.7034, 3855: 0.7492, 3916: 4.769, 4061: 4.6071, 4115: 3.1153, 4260: 5.876, 4394: 5.9839, 4422: 4.011, 4489: 5.8363, 4520: 5.9698, 4712: 4.4136, 4744: 0.7139, 4762: 3.9104, 4805: 15.9546, 4858: 3.0458, 4888: 5.5092, 4904: 2.5479, 4962: 4.2844, 5141: 3.2244, 5188: 1.8929, 5242: 2.2733, 5318: 3.819, 5429: 3.4475, 5446: 3.08, 5548: 5.1703, 5594: 2.6658, 5612: 0.8278, 5685: 3.8569, 5723: 2.6336, 5737: 2.5388, 5786: 0.724, 6006: 1.2651, 6022: 2.9059, 6114: 3.1945, 6242: 9.6234, 6262: 2.9079, 6265: 4.1557, 6311: 10.7253, 6418: 0.7913, 6439: 3.3974, 6537: 1.3449, 6549: 4.6964, 6595: 18.5733, 6608: 15.4551, 6668: 9.2646, 6675: 1.1897, 6688: 3.0738, 6714: 3.3149, 6750: 5.8387, 6815: 5.7237, 6835: 3.9465, 6841: 5.9939, 6842: 3.3932, 6894: 5.7681, 6969: 4.9322, 7013: 5.4667, 7038: 3.8653, 7255: 3.7746, 7271: 5.8028, 7318: 6.0866, 7368: 5.6403, 7486: 1.6997, 7510: 1.9509, 7512: 4.3401, 7515: 4.4158, 7522: 4.912, 7712: 1.5941, 7758: 4.4647, 7779: 12.0102, 7922: 11.9864, 7989: 1.5054, 8002: 4.249, 8028: 4.2922, 8057: 2.642, 8113: 2.7588, 8157: 8.6153, 8159: 3.6201, 8261: 4.9079, 8350: 36.5652, 8429: 2.4731, 8433: 3.0746, 8493: 0.7929, 8573: 5.5726, 8598: 11.6837, 8599: 8.839, 8696: 0.8381, 8754: 5.9688, 8795: 3.5109, 8877: 5.6503, 8897: 2.5384, 8993: 2.7383, 9060: 104.1007, 9092: 4.6, 9146: 2.9053, 9159: 1.6846, 9244: 2.6541, 9327: 1.4515, 9347: 1.5119, 9533: 2.8467, 9594: 2.7544, 9605: 2.0432, 9638: 3.7487, 9644: 3.7562, 9653: 3.7777, 9688: 3.287}))]"
      ]
     },
     "execution_count": 22,
     "metadata": {},
     "output_type": "execute_result"
    }
   ],
   "source": [
    "#joined_df = test_tfidf.select(\"id\", \"features\", \"lang\").crossJoin(base_tfidf.select(\"id\", \"features\", \"lang\").withColumnRenamed(\"id\",\"rec_id\").withColumnRenamed(\"features\",\"rec_features\").withColumnRenamed(\"lang\",\"rec_lang\")).cache()\n",
    "\n",
    "joined_df = base_tfidf.select(\"id\", \"features\", \"lang\", \"name\").withColumnRenamed(\"id\",\"rec_id\").withColumnRenamed(\"features\",\"rec_features\").join(test_tfidf.select(\"id\", \"features\", \"lang\"), on=\"lang\", how=\"inner\").filter(\"id != rec_id\").cache()\n",
    "\n",
    "\n",
    "joined_df.take(1)"
   ]
  },
  {
   "cell_type": "code",
   "execution_count": 23,
   "metadata": {},
   "outputs": [
    {
     "data": {
      "text/plain": [
       "54310"
      ]
     },
     "execution_count": 23,
     "metadata": {},
     "output_type": "execute_result"
    }
   ],
   "source": [
    "joined_df.count()"
   ]
  },
  {
   "cell_type": "code",
   "execution_count": 24,
   "metadata": {},
   "outputs": [],
   "source": [
    "from pyspark.ml.linalg import Vectors\n",
    "from pyspark.sql.types import FloatType\n",
    "from pyspark.sql import functions as  f\n",
    "\n",
    "@f.udf(FloatType())\n",
    "def cos_sim(vec1, vec2):\n",
    "    #vec1 = Vectors.dense(str1)\n",
    "    #vec2 = Vectors.dense(str2)\n",
    "    #if vec1.norm(2) * vec2.norm(2) != 0:\n",
    "        dot_value = vec1.dot(vec2) / (vec1.norm(2) * vec2.norm(2))\n",
    "        return float(dot_value)\n",
    "\n",
    "#print(joined_df.take(1)[0][1])\n",
    "#print(joined_df.take(6)[0][3])\n"
   ]
  },
  {
   "cell_type": "code",
   "execution_count": 25,
   "metadata": {
    "scrolled": true
   },
   "outputs": [
    {
     "name": "stdout",
     "output_type": "stream",
     "text": [
      "== Parsed Logical Plan ==\n",
      "'Aggregate ['id], [unresolvedalias('id, None), collect_list('rec_id, 0, 0) AS res#298, collect_list('cos_sim, 0, 0) AS cos_sim#300]\n",
      "+- Filter (rn#288 <= 10)\n",
      "   +- Project [rn#288, id#77, rec_id#148, cos_sim#282]\n",
      "      +- Project [id#77, rec_id#148, cos_sim#282, name#1, rn#288, rn#288]\n",
      "         +- Window [row_number() windowspecdefinition(id#77, cos_sim#282 DESC NULLS LAST, name#1 ASC NULLS FIRST, rec_id#148 ASC NULLS FIRST, specifiedwindowframe(RowFrame, unboundedpreceding$(), currentrow$())) AS rn#288], [id#77], [cos_sim#282 DESC NULLS LAST, name#1 ASC NULLS FIRST, rec_id#148 ASC NULLS FIRST]\n",
      "            +- Project [id#77, rec_id#148, cos_sim#282, name#1]\n",
      "               +- Filter NOT (cos_sim#282 = cast(NaN as float))\n",
      "                  +- Project [id#77, cos_sim(features#118, rec_features#153) AS cos_sim#282, rec_id#148, name#1]\n",
      "                     +- Filter NOT (id#77 = rec_id#148)\n",
      "                        +- Project [lang#0, rec_id#148, rec_features#153, name#1, id#77, features#118]\n",
      "                           +- Join Inner, (lang#0 = lang#161)\n",
      "                              :- Project [rec_id#148, features#118 AS rec_features#153, lang#0, name#1]\n",
      "                              :  +- Project [id#4 AS rec_id#148, features#118, lang#0, name#1]\n",
      "                              :     +- Project [id#4, features#118, lang#0, name#1]\n",
      "                              :        +- Project [id#4, lang#0, name#1, desc_filtered#31, words#97, words_filtered#103, rawFeatures#110, UDF(rawFeatures#110) AS features#118]\n",
      "                              :           +- Project [id#4, lang#0, name#1, desc_filtered#31, words#97, words_filtered#103, UDF(words_filtered#103) AS rawFeatures#110]\n",
      "                              :              +- Project [id#4, lang#0, name#1, desc_filtered#31, words#97, UDF(words#97) AS words_filtered#103]\n",
      "                              :                 +- Project [id#4, lang#0, name#1, desc_filtered#31, UDF(desc_filtered#31) AS words#97]\n",
      "                              :                    +- Project [id#4, lang#0, name#1, regexp_replace(lower(regexp_replace(desc#5, [^\\pL{0-9}\\p{Space}], )), \\p{Space}+,  ) AS desc_filtered#31]\n",
      "                              :                       +- Repartition 9, true\n",
      "                              :                          +- Relation[lang#0,name#1,cat#2,provider#3,id#4,desc#5] json\n",
      "                              +- Project [id#77, features#118, lang#161]\n",
      "                                 +- Project [id#77, lang#161, name#162, desc_filtered#31, words#97, words_filtered#103, rawFeatures#110, features#118]\n",
      "                                    +- Join Inner, (id#77 = id#165)\n",
      "                                       :- Project [id#77]\n",
      "                                       :  +- Project [id#77, lang#78, regexp_replace(lower(regexp_replace(desc#79, [^\\pL{0-9}\\p{Space}], )), \\p{Space}+,  ) AS desc_filtered#83]\n",
      "                                       :     +- LogicalRDD [id#77, lang#78, desc#79], false\n",
      "                                       +- Project [id#165, lang#161, name#162, desc_filtered#31, words#97, words_filtered#103, rawFeatures#110, UDF(rawFeatures#110) AS features#118]\n",
      "                                          +- Project [id#165, lang#161, name#162, desc_filtered#31, words#97, words_filtered#103, UDF(words_filtered#103) AS rawFeatures#110]\n",
      "                                             +- Project [id#165, lang#161, name#162, desc_filtered#31, words#97, UDF(words#97) AS words_filtered#103]\n",
      "                                                +- Project [id#165, lang#161, name#162, desc_filtered#31, UDF(desc_filtered#31) AS words#97]\n",
      "                                                   +- Project [id#165, lang#161, name#162, regexp_replace(lower(regexp_replace(desc#166, [^\\pL{0-9}\\p{Space}], )), \\p{Space}+,  ) AS desc_filtered#31]\n",
      "                                                      +- Repartition 9, true\n",
      "                                                         +- Relation[lang#161,name#162,cat#163,provider#164,id#165,desc#166] json\n",
      "\n",
      "== Analyzed Logical Plan ==\n",
      "id: int, res: array<int>, cos_sim: array<float>\n",
      "Aggregate [id#77], [id#77, collect_list(rec_id#148, 0, 0) AS res#298, collect_list(cos_sim#282, 0, 0) AS cos_sim#300]\n",
      "+- Filter (rn#288 <= 10)\n",
      "   +- Project [rn#288, id#77, rec_id#148, cos_sim#282]\n",
      "      +- Project [id#77, rec_id#148, cos_sim#282, name#1, rn#288, rn#288]\n",
      "         +- Window [row_number() windowspecdefinition(id#77, cos_sim#282 DESC NULLS LAST, name#1 ASC NULLS FIRST, rec_id#148 ASC NULLS FIRST, specifiedwindowframe(RowFrame, unboundedpreceding$(), currentrow$())) AS rn#288], [id#77], [cos_sim#282 DESC NULLS LAST, name#1 ASC NULLS FIRST, rec_id#148 ASC NULLS FIRST]\n",
      "            +- Project [id#77, rec_id#148, cos_sim#282, name#1]\n",
      "               +- Filter NOT (cos_sim#282 = cast(NaN as float))\n",
      "                  +- Project [id#77, cos_sim(features#118, rec_features#153) AS cos_sim#282, rec_id#148, name#1]\n",
      "                     +- Filter NOT (id#77 = rec_id#148)\n",
      "                        +- Project [lang#0, rec_id#148, rec_features#153, name#1, id#77, features#118]\n",
      "                           +- Join Inner, (lang#0 = lang#161)\n",
      "                              :- Project [rec_id#148, features#118 AS rec_features#153, lang#0, name#1]\n",
      "                              :  +- Project [id#4 AS rec_id#148, features#118, lang#0, name#1]\n",
      "                              :     +- Project [id#4, features#118, lang#0, name#1]\n",
      "                              :        +- Project [id#4, lang#0, name#1, desc_filtered#31, words#97, words_filtered#103, rawFeatures#110, UDF(rawFeatures#110) AS features#118]\n",
      "                              :           +- Project [id#4, lang#0, name#1, desc_filtered#31, words#97, words_filtered#103, UDF(words_filtered#103) AS rawFeatures#110]\n",
      "                              :              +- Project [id#4, lang#0, name#1, desc_filtered#31, words#97, UDF(words#97) AS words_filtered#103]\n",
      "                              :                 +- Project [id#4, lang#0, name#1, desc_filtered#31, UDF(desc_filtered#31) AS words#97]\n",
      "                              :                    +- Project [id#4, lang#0, name#1, regexp_replace(lower(regexp_replace(desc#5, [^\\pL{0-9}\\p{Space}], )), \\p{Space}+,  ) AS desc_filtered#31]\n",
      "                              :                       +- Repartition 9, true\n",
      "                              :                          +- Relation[lang#0,name#1,cat#2,provider#3,id#4,desc#5] json\n",
      "                              +- Project [id#77, features#118, lang#161]\n",
      "                                 +- Project [id#77, lang#161, name#162, desc_filtered#31, words#97, words_filtered#103, rawFeatures#110, features#118]\n",
      "                                    +- Join Inner, (id#77 = id#165)\n",
      "                                       :- Project [id#77]\n",
      "                                       :  +- Project [id#77, lang#78, regexp_replace(lower(regexp_replace(desc#79, [^\\pL{0-9}\\p{Space}], )), \\p{Space}+,  ) AS desc_filtered#83]\n",
      "                                       :     +- LogicalRDD [id#77, lang#78, desc#79], false\n",
      "                                       +- Project [id#165, lang#161, name#162, desc_filtered#31, words#97, words_filtered#103, rawFeatures#110, UDF(rawFeatures#110) AS features#118]\n",
      "                                          +- Project [id#165, lang#161, name#162, desc_filtered#31, words#97, words_filtered#103, UDF(words_filtered#103) AS rawFeatures#110]\n",
      "                                             +- Project [id#165, lang#161, name#162, desc_filtered#31, words#97, UDF(words#97) AS words_filtered#103]\n",
      "                                                +- Project [id#165, lang#161, name#162, desc_filtered#31, UDF(desc_filtered#31) AS words#97]\n",
      "                                                   +- Project [id#165, lang#161, name#162, regexp_replace(lower(regexp_replace(desc#166, [^\\pL{0-9}\\p{Space}], )), \\p{Space}+,  ) AS desc_filtered#31]\n",
      "                                                      +- Repartition 9, true\n",
      "                                                         +- Relation[lang#161,name#162,cat#163,provider#164,id#165,desc#166] json\n",
      "\n",
      "== Optimized Logical Plan ==\n",
      "Aggregate [id#77], [id#77, collect_list(rec_id#148, 0, 0) AS res#298, collect_list(cos_sim#282, 0, 0) AS cos_sim#300]\n",
      "+- Project [id#77, rec_id#148, cos_sim#282]\n",
      "   +- Filter (isnotnull(rn#288) && (rn#288 <= 10))\n",
      "      +- Window [row_number() windowspecdefinition(id#77, cos_sim#282 DESC NULLS LAST, name#1 ASC NULLS FIRST, rec_id#148 ASC NULLS FIRST, specifiedwindowframe(RowFrame, unboundedpreceding$(), currentrow$())) AS rn#288], [id#77], [cos_sim#282 DESC NULLS LAST, name#1 ASC NULLS FIRST, rec_id#148 ASC NULLS FIRST]\n",
      "         +- Project [id#77, rec_id#148, pythonUDF0#335 AS cos_sim#282, name#1]\n",
      "            +- BatchEvalPython [cos_sim(features#118, rec_features#153)], [features#118, id#77, name#1, rec_features#153, rec_id#148, pythonUDF0#335]\n",
      "               +- Project [features#118, id#77, name#1, rec_features#153, rec_id#148]\n",
      "                  +- Project [lang#0, rec_id#148, rec_features#153, name#1, id#77, features#118]\n",
      "                     +- Filter NOT (pythonUDF0#334 = NaN)\n",
      "                        +- BatchEvalPython [cos_sim(features#118, rec_features#153)], [lang#0, rec_id#148, rec_features#153, name#1, id#77, features#118, pythonUDF0#334]\n",
      "                           +- InMemoryRelation [lang#0, rec_id#148, rec_features#153, name#1, id#77, features#118], StorageLevel(disk, memory, deserialized, 1 replicas)\n",
      "                                 +- *(11) Project [lang#0, rec_id#148, rec_features#153, name#1, id#77, features#118]\n",
      "                                    +- *(11) SortMergeJoin [lang#0], [lang#161], Inner, NOT (id#77 = rec_id#148)\n",
      "                                       :- *(3) Sort [lang#0 ASC NULLS FIRST], false, 0\n",
      "                                       :  +- Exchange hashpartitioning(lang#0, 200)\n",
      "                                       :     +- *(2) Project [id#4 AS rec_id#148, UDF(UDF(UDF(UDF(regexp_replace(lower(regexp_replace(desc#5, [^\\pL{0-9}\\p{Space}], )), \\p{Space}+,  ))))) AS rec_features#153, lang#0, name#1]\n",
      "                                       :        +- Exchange RoundRobinPartitioning(9)\n",
      "                                       :           +- *(1) Project [lang#0, name#1, id#4, desc#5]\n",
      "                                       :              +- *(1) Filter (isnotnull(id#4) && isnotnull(lang#0))\n",
      "                                       :                 +- *(1) FileScan json [lang#0,name#1,id#4,desc#5] Batched: false, Format: JSON, Location: InMemoryFileIndex[hdfs://spark-master-1.newprolab.com:8020/labs/slaba02/DO_record_per_line.json], PartitionFilters: [], PushedFilters: [IsNotNull(id), IsNotNull(lang)], ReadSchema: struct<lang:string,name:string,id:int,desc:string>\n",
      "                                       +- *(10) Sort [lang#161 ASC NULLS FIRST], false, 0\n",
      "                                          +- Exchange hashpartitioning(lang#161, 200)\n",
      "                                             +- *(9) Project [id#77, features#118, lang#161]\n",
      "                                                +- *(9) SortMergeJoin [id#77], [id#165], Inner\n",
      "                                                   :- *(5) Sort [id#77 ASC NULLS FIRST], false, 0\n",
      "                                                   :  +- Exchange hashpartitioning(id#77, 200)\n",
      "                                                   :     +- *(4) Project [id#77]\n",
      "                                                   :        +- *(4) Filter isnotnull(id#77)\n",
      "                                                   :           +- Scan ExistingRDD[id#77,lang#78,desc#79]\n",
      "                                                   +- *(8) Sort [id#165 ASC NULLS FIRST], false, 0\n",
      "                                                      +- Exchange hashpartitioning(id#165, 200)\n",
      "                                                         +- *(7) Project [id#165, lang#161, UDF(UDF(UDF(UDF(regexp_replace(lower(regexp_replace(desc#166, [^\\pL{0-9}\\p{Space}], )), \\p{Space}+,  ))))) AS features#118]\n",
      "                                                            +- Exchange RoundRobinPartitioning(9)\n",
      "                                                               +- *(6) Project [lang#161, id#165, desc#166]\n",
      "                                                                  +- *(6) Filter (isnotnull(id#165) && isnotnull(lang#161))\n",
      "                                                                     +- *(6) FileScan json [lang#161,id#165,desc#166] Batched: false, Format: JSON, Location: InMemoryFileIndex[hdfs://spark-master-1.newprolab.com:8020/labs/slaba02/DO_record_per_line.json], PartitionFilters: [], PushedFilters: [IsNotNull(id), IsNotNull(lang)], ReadSchema: struct<lang:string,id:int,desc:string>\n",
      "\n",
      "== Physical Plan ==\n",
      "ObjectHashAggregate(keys=[id#77], functions=[collect_list(rec_id#148, 0, 0), collect_list(cos_sim#282, 0, 0)], output=[id#77, res#298, cos_sim#300])\n",
      "+- ObjectHashAggregate(keys=[id#77], functions=[partial_collect_list(rec_id#148, 0, 0), partial_collect_list(cos_sim#282, 0, 0)], output=[id#77, buf#338, buf#339])\n",
      "   +- *(4) Project [id#77, rec_id#148, cos_sim#282]\n",
      "      +- *(4) Filter (isnotnull(rn#288) && (rn#288 <= 10))\n",
      "         +- Window [row_number() windowspecdefinition(id#77, cos_sim#282 DESC NULLS LAST, name#1 ASC NULLS FIRST, rec_id#148 ASC NULLS FIRST, specifiedwindowframe(RowFrame, unboundedpreceding$(), currentrow$())) AS rn#288], [id#77], [cos_sim#282 DESC NULLS LAST, name#1 ASC NULLS FIRST, rec_id#148 ASC NULLS FIRST]\n",
      "            +- *(3) Sort [id#77 ASC NULLS FIRST, cos_sim#282 DESC NULLS LAST, name#1 ASC NULLS FIRST, rec_id#148 ASC NULLS FIRST], false, 0\n",
      "               +- Exchange hashpartitioning(id#77, 200)\n",
      "                  +- *(2) Project [id#77, rec_id#148, pythonUDF0#335 AS cos_sim#282, name#1]\n",
      "                     +- BatchEvalPython [cos_sim(features#118, rec_features#153)], [features#118, id#77, name#1, rec_features#153, rec_id#148, pythonUDF0#335]\n",
      "                        +- *(1) Project [features#118, id#77, name#1, rec_features#153, rec_id#148]\n",
      "                           +- *(1) Project [lang#0, rec_id#148, rec_features#153, name#1, id#77, features#118]\n",
      "                              +- *(1) Filter NOT (pythonUDF0#334 = NaN)\n",
      "                                 +- BatchEvalPython [cos_sim(features#118, rec_features#153)], [lang#0, rec_id#148, rec_features#153, name#1, id#77, features#118, pythonUDF0#334]\n",
      "                                    +- InMemoryTableScan [lang#0, rec_id#148, rec_features#153, name#1, id#77, features#118]\n",
      "                                          +- InMemoryRelation [lang#0, rec_id#148, rec_features#153, name#1, id#77, features#118], StorageLevel(disk, memory, deserialized, 1 replicas)\n",
      "                                                +- *(11) Project [lang#0, rec_id#148, rec_features#153, name#1, id#77, features#118]\n",
      "                                                   +- *(11) SortMergeJoin [lang#0], [lang#161], Inner, NOT (id#77 = rec_id#148)\n",
      "                                                      :- *(3) Sort [lang#0 ASC NULLS FIRST], false, 0\n",
      "                                                      :  +- Exchange hashpartitioning(lang#0, 200)\n",
      "                                                      :     +- *(2) Project [id#4 AS rec_id#148, UDF(UDF(UDF(UDF(regexp_replace(lower(regexp_replace(desc#5, [^\\pL{0-9}\\p{Space}], )), \\p{Space}+,  ))))) AS rec_features#153, lang#0, name#1]\n",
      "                                                      :        +- Exchange RoundRobinPartitioning(9)\n",
      "                                                      :           +- *(1) Project [lang#0, name#1, id#4, desc#5]\n",
      "                                                      :              +- *(1) Filter (isnotnull(id#4) && isnotnull(lang#0))\n",
      "                                                      :                 +- *(1) FileScan json [lang#0,name#1,id#4,desc#5] Batched: false, Format: JSON, Location: InMemoryFileIndex[hdfs://spark-master-1.newprolab.com:8020/labs/slaba02/DO_record_per_line.json], PartitionFilters: [], PushedFilters: [IsNotNull(id), IsNotNull(lang)], ReadSchema: struct<lang:string,name:string,id:int,desc:string>\n",
      "                                                      +- *(10) Sort [lang#161 ASC NULLS FIRST], false, 0\n",
      "                                                         +- Exchange hashpartitioning(lang#161, 200)\n",
      "                                                            +- *(9) Project [id#77, features#118, lang#161]\n",
      "                                                               +- *(9) SortMergeJoin [id#77], [id#165], Inner\n",
      "                                                                  :- *(5) Sort [id#77 ASC NULLS FIRST], false, 0\n",
      "                                                                  :  +- Exchange hashpartitioning(id#77, 200)\n",
      "                                                                  :     +- *(4) Project [id#77]\n",
      "                                                                  :        +- *(4) Filter isnotnull(id#77)\n",
      "                                                                  :           +- Scan ExistingRDD[id#77,lang#78,desc#79]\n",
      "                                                                  +- *(8) Sort [id#165 ASC NULLS FIRST], false, 0\n",
      "                                                                     +- Exchange hashpartitioning(id#165, 200)\n",
      "                                                                        +- *(7) Project [id#165, lang#161, UDF(UDF(UDF(UDF(regexp_replace(lower(regexp_replace(desc#166, [^\\pL{0-9}\\p{Space}], )), \\p{Space}+,  ))))) AS features#118]\n",
      "                                                                           +- Exchange RoundRobinPartitioning(9)\n",
      "                                                                              +- *(6) Project [lang#161, id#165, desc#166]\n",
      "                                                                                 +- *(6) Filter (isnotnull(id#165) && isnotnull(lang#161))\n",
      "                                                                                    +- *(6) FileScan json [lang#161,id#165,desc#166] Batched: false, Format: JSON, Location: InMemoryFileIndex[hdfs://spark-master-1.newprolab.com:8020/labs/slaba02/DO_record_per_line.json], PartitionFilters: [], PushedFilters: [IsNotNull(id), IsNotNull(lang)], ReadSchema: struct<lang:string,id:int,desc:string>\n"
     ]
    }
   ],
   "source": [
    "from pyspark.sql.window import Window\n",
    "\n",
    "cos_df = joined_df.select(\"id\", cos_sim(\"features\", \"rec_features\").alias(\"cos_sim\"), \"rec_id\", \"name\").filter(\"cos_sim != 'NaN'\")\n",
    "\n",
    "windowSpec  = Window.partitionBy(\"id\").orderBy(f.col(\"cos_sim\").desc(), f.col(\"name\"), f.col(\"rec_id\"))\n",
    "cos_df = cos_df.select(f.row_number().over(windowSpec).alias(\"rn\"), \"id\", \"rec_id\", \"cos_sim\").filter(\"rn <= 10\").groupBy(\"id\").agg(f.collect_list(\"rec_id\").alias(\"res\"), f.collect_list(\"cos_sim\").alias(\"cos_sim\"))\n",
    "cos_df.explain(True)"
   ]
  },
  {
   "cell_type": "code",
   "execution_count": 26,
   "metadata": {},
   "outputs": [],
   "source": [
    "res_list = cos_df.collect()"
   ]
  },
  {
   "cell_type": "code",
   "execution_count": 27,
   "metadata": {},
   "outputs": [
    {
     "data": {
      "text/plain": [
       "[Row(id=13702, res=[864, 28074, 1041, 21079, 8300, 13057, 8313, 1111, 1033, 21025], cos_sim=[1.0, 0.1483365148305893, 0.13178977370262146, 0.1265052706003189, 0.1234009861946106, 0.11379192769527435, 0.10992132127285004, 0.10780233889818192, 0.10676135867834091, 0.10662287473678589]),\n",
       " Row(id=16627, res=[11431, 5687, 17964, 12660, 12247, 17961, 16694, 11575, 13551, 13550], cos_sim=[0.5855640172958374, 0.4148993492126465, 0.4060797691345215, 0.3966037631034851, 0.38649189472198486, 0.36245444416999817, 0.35170799493789673, 0.3333212733268738, 0.332559734582901, 0.31563282012939453]),\n",
       " Row(id=16704, res=[1247, 1236, 1365, 8186, 1164, 1273, 20288, 1233, 1229, 8203], cos_sim=[0.29510167241096497, 0.2798807621002197, 0.2513659596443176, 0.23989179730415344, 0.23735979199409485, 0.23207278549671173, 0.23207278549671173, 0.22857524454593658, 0.22281649708747864, 0.20797212421894073]),\n",
       " Row(id=23126, res=[14760, 13665, 13782, 20638, 24419, 15909, 2724, 25782, 17499, 13348], cos_sim=[0.6011145710945129, 0.5580384135246277, 0.5036178231239319, 0.46851104497909546, 0.45349931716918945, 0.39065518975257874, 0.38203421235084534, 0.2926659882068634, 0.2775716483592987, 0.2752467393875122]),\n",
       " Row(id=21617, res=[21609, 21608, 21616, 21492, 21624, 21703, 21700, 21623, 21508, 21506], cos_sim=[0.9998148679733276, 0.47214609384536743, 0.4702204465866089, 0.41252851486206055, 0.36846908926963806, 0.36843517422676086, 0.365287721157074, 0.36487191915512085, 0.3623209297657013, 0.3576352000236511]),\n",
       " Row(id=11556, res=[16488, 468, 10447, 23357, 19330, 22710, 13461, 10384, 21707, 13776], cos_sim=[0.49959227442741394, 0.3166590631008148, 0.30890488624572754, 0.30784207582473755, 0.3006594777107239, 0.29135823249816895, 0.2812897861003876, 0.27200445532798767, 0.25437381863594055, 0.2048877775669098])]"
      ]
     },
     "execution_count": 27,
     "metadata": {},
     "output_type": "execute_result"
    }
   ],
   "source": [
    "cos_df.take(6)"
   ]
  },
  {
   "cell_type": "code",
   "execution_count": 28,
   "metadata": {},
   "outputs": [
    {
     "data": {
      "text/plain": [
       "{'13702': [864, 28074, 1041, 21079, 8300, 13057, 8313, 1111, 1033, 21025],\n",
       " '16627': [11431,\n",
       "  5687,\n",
       "  17964,\n",
       "  12660,\n",
       "  12247,\n",
       "  17961,\n",
       "  16694,\n",
       "  11575,\n",
       "  13551,\n",
       "  13550],\n",
       " '16704': [1247, 1236, 1365, 8186, 1164, 1273, 20288, 1233, 1229, 8203],\n",
       " '23126': [14760,\n",
       "  13665,\n",
       "  13782,\n",
       "  20638,\n",
       "  24419,\n",
       "  15909,\n",
       "  2724,\n",
       "  25782,\n",
       "  17499,\n",
       "  13348],\n",
       " '21617': [21609,\n",
       "  21608,\n",
       "  21616,\n",
       "  21492,\n",
       "  21624,\n",
       "  21703,\n",
       "  21700,\n",
       "  21623,\n",
       "  21508,\n",
       "  21506],\n",
       " '11556': [16488, 468, 10447, 23357, 19330, 22710, 13461, 10384, 21707, 13776]}"
      ]
     },
     "execution_count": 28,
     "metadata": {},
     "output_type": "execute_result"
    }
   ],
   "source": [
    "res = {str(r[\"id\"]): r[\"res\"] for r in res_list}\n",
    "res"
   ]
  },
  {
   "cell_type": "code",
   "execution_count": 29,
   "metadata": {},
   "outputs": [],
   "source": [
    "import json\n",
    "\n",
    "with open('lab02.json', 'w') as fp:\n",
    "    fp.write(json.dumps(res))"
   ]
  },
  {
   "cell_type": "code",
   "execution_count": 30,
   "metadata": {},
   "outputs": [],
   "source": [
    "#spark.stop()"
   ]
  }
 ],
 "metadata": {
  "kernelspec": {
   "display_name": "Python 3",
   "language": "python",
   "name": "python3"
  },
  "language_info": {
   "codemirror_mode": {
    "name": "ipython",
    "version": 3
   },
   "file_extension": ".py",
   "mimetype": "text/x-python",
   "name": "python",
   "nbconvert_exporter": "python",
   "pygments_lexer": "ipython3",
   "version": "3.6.5"
  }
 },
 "nbformat": 4,
 "nbformat_minor": 2
}
