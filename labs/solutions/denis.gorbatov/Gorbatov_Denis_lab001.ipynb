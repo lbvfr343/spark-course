{
 "cells": [
  {
   "cell_type": "markdown",
   "metadata": {},
   "source": [
    "# TODO  привести в нормальный вид"
   ]
  },
  {
   "cell_type": "code",
   "execution_count": 103,
   "metadata": {},
   "outputs": [],
   "source": [
    "import os\n",
    "import sys\n"
   ]
  },
  {
   "cell_type": "code",
   "execution_count": 104,
   "metadata": {},
   "outputs": [],
   "source": [
    "os.environ[\"PYSPARK_PYTHON\"]='/opt/anaconda/envs/bd9/bin/python'\n",
    "os.environ[\"SPARK_HOME\"]='/usr/hdp/current/spark2-client'\n",
    "os.environ[\"PYSPARK_SUBMIT_ARGS\"]='--num-executors 2 pyspark-shell'\n",
    "\n"
   ]
  },
  {
   "cell_type": "code",
   "execution_count": 105,
   "metadata": {},
   "outputs": [],
   "source": [
    "spark_home = os.environ.get('SPARK_HOME', None)"
   ]
  },
  {
   "cell_type": "code",
   "execution_count": 106,
   "metadata": {},
   "outputs": [],
   "source": [
    "\n",
    "if not spark_home:\n",
    "    raise ValueError('SPARK_HOME environment variable is not set')"
   ]
  },
  {
   "cell_type": "code",
   "execution_count": 107,
   "metadata": {},
   "outputs": [],
   "source": [
    "\n",
    "sys.path.insert(0, os.path.join(spark_home, 'python'))"
   ]
  },
  {
   "cell_type": "code",
   "execution_count": 108,
   "metadata": {},
   "outputs": [],
   "source": [
    "sys.path.insert(0, os.path.join(spark_home, 'python/lib/py4j-0.10.7-src.zip'))"
   ]
  },
  {
   "cell_type": "code",
   "execution_count": 109,
   "metadata": {},
   "outputs": [
    {
     "name": "stdout",
     "output_type": "stream",
     "text": [
      "Welcome to\n",
      "      ____              __\n",
      "     / __/__  ___ _____/ /__\n",
      "    _\\ \\/ _ \\/ _ `/ __/  '_/\n",
      "   /__ / .__/\\_,_/_/ /_/\\_\\   version 2.4.7\n",
      "      /_/\n",
      "\n",
      "Using Python version 3.6.5 (default, Apr 29 2018 16:14:56)\n",
      "SparkSession available as 'spark'.\n"
     ]
    }
   ],
   "source": [
    "exec(open(os.path.join(spark_home, 'python/pyspark/shell.py')).read())"
   ]
  },
  {
   "cell_type": "code",
   "execution_count": 110,
   "metadata": {},
   "outputs": [],
   "source": [
    "from pyspark import SparkConf\n",
    "from pyspark.sql import SparkSession\n",
    "from pyspark.sql import functions as F\n",
    "from pyspark.sql.types import *\n",
    "from pyspark import Row\n",
    "import json\n",
    "\n",
    "conf = SparkConf()\n",
    "\n",
    "spark = (SparkSession\n",
    "         .builder\n",
    "         .config(conf=conf)\n",
    "         .appName(\"test\")\n",
    "         .getOrCreate())"
   ]
  },
  {
   "cell_type": "code",
   "execution_count": 111,
   "metadata": {},
   "outputs": [],
   "source": [
    "from pyspark import SparkContext\n",
    "\n",
    "# config = SparkConf()\n",
    "# config.set(\"spark.app.name\", \"Sergey Grishaev Spark RDD app\")\n",
    "\n",
    "# sc = SparkContext(conf=config)"
   ]
  },
  {
   "cell_type": "code",
   "execution_count": 112,
   "metadata": {},
   "outputs": [
    {
     "name": "stdout",
     "output_type": "stream",
     "text": [
      "Found 23 items\r\n",
      "-rw-r--r--   3 hdfs hdfs       6750 2022-01-06 18:46 /labs/laba01/ml-100k/README\r\n",
      "-rw-r--r--   3 hdfs hdfs        716 2022-01-06 18:46 /labs/laba01/ml-100k/allbut.pl\r\n",
      "-rw-r--r--   3 hdfs hdfs        643 2022-01-06 18:46 /labs/laba01/ml-100k/mku.sh\r\n",
      "-rw-r--r--   3 hdfs hdfs    1979173 2022-01-06 18:46 /labs/laba01/ml-100k/u.data\r\n",
      "-rw-r--r--   3 hdfs hdfs        202 2022-01-06 18:46 /labs/laba01/ml-100k/u.genre\r\n",
      "-rw-r--r--   3 hdfs hdfs         36 2022-01-06 18:46 /labs/laba01/ml-100k/u.info\r\n",
      "-rw-r--r--   3 hdfs hdfs     236344 2022-01-06 18:46 /labs/laba01/ml-100k/u.item\r\n",
      "-rw-r--r--   3 hdfs hdfs        193 2022-01-06 18:46 /labs/laba01/ml-100k/u.occupation\r\n",
      "-rw-r--r--   3 hdfs hdfs      22628 2022-01-06 18:46 /labs/laba01/ml-100k/u.user\r\n",
      "-rw-r--r--   3 hdfs hdfs    1586544 2022-01-06 18:46 /labs/laba01/ml-100k/u1.base\r\n",
      "-rw-r--r--   3 hdfs hdfs     392629 2022-01-06 18:46 /labs/laba01/ml-100k/u1.test\r\n",
      "-rw-r--r--   3 hdfs hdfs    1583948 2022-01-06 18:46 /labs/laba01/ml-100k/u2.base\r\n",
      "-rw-r--r--   3 hdfs hdfs     395225 2022-01-06 18:46 /labs/laba01/ml-100k/u2.test\r\n",
      "-rw-r--r--   3 hdfs hdfs    1582546 2022-01-06 18:46 /labs/laba01/ml-100k/u3.base\r\n",
      "-rw-r--r--   3 hdfs hdfs     396627 2022-01-06 18:46 /labs/laba01/ml-100k/u3.test\r\n",
      "-rw-r--r--   3 hdfs hdfs    1581878 2022-01-06 18:46 /labs/laba01/ml-100k/u4.base\r\n",
      "-rw-r--r--   3 hdfs hdfs     397295 2022-01-06 18:46 /labs/laba01/ml-100k/u4.test\r\n",
      "-rw-r--r--   3 hdfs hdfs    1581776 2022-01-06 18:46 /labs/laba01/ml-100k/u5.base\r\n",
      "-rw-r--r--   3 hdfs hdfs     397397 2022-01-06 18:46 /labs/laba01/ml-100k/u5.test\r\n",
      "-rw-r--r--   3 hdfs hdfs    1792501 2022-01-06 18:46 /labs/laba01/ml-100k/ua.base\r\n",
      "-rw-r--r--   3 hdfs hdfs     186672 2022-01-06 18:46 /labs/laba01/ml-100k/ua.test\r\n",
      "-rw-r--r--   3 hdfs hdfs    1792476 2022-01-06 18:46 /labs/laba01/ml-100k/ub.base\r\n",
      "-rw-r--r--   3 hdfs hdfs     186697 2022-01-06 18:46 /labs/laba01/ml-100k/ub.test\r\n"
     ]
    }
   ],
   "source": [
    "!hdfs dfs -ls /labs/laba01/ml-100k"
   ]
  },
  {
   "cell_type": "code",
   "execution_count": 113,
   "metadata": {},
   "outputs": [
    {
     "data": {
      "text/html": [
       "\n",
       "        <div>\n",
       "            <p><b>SparkContext</b></p>\n",
       "\n",
       "            <p><a href=\"http://spark-master-4.newprolab.com:4047\">Spark UI</a></p>\n",
       "\n",
       "            <dl>\n",
       "              <dt>Version</dt>\n",
       "                <dd><code>v2.4.7</code></dd>\n",
       "              <dt>Master</dt>\n",
       "                <dd><code>yarn</code></dd>\n",
       "              <dt>AppName</dt>\n",
       "                <dd><code>test</code></dd>\n",
       "            </dl>\n",
       "        </div>\n",
       "        "
      ],
      "text/plain": [
       "<SparkContext master=yarn appName=test>"
      ]
     },
     "execution_count": 113,
     "metadata": {},
     "output_type": "execute_result"
    }
   ],
   "source": [
    "sc"
   ]
  },
  {
   "cell_type": "code",
   "execution_count": 114,
   "metadata": {},
   "outputs": [
    {
     "data": {
      "text/plain": [
       "['196\\t242\\t3\\t881250949',\n",
       " '186\\t302\\t3\\t891717742',\n",
       " '22\\t377\\t1\\t878887116',\n",
       " '244\\t51\\t2\\t880606923',\n",
       " '166\\t346\\t1\\t886397596',\n",
       " '298\\t474\\t4\\t884182806',\n",
       " '115\\t265\\t2\\t881171488',\n",
       " '253\\t465\\t5\\t891628467',\n",
       " '305\\t451\\t3\\t886324817',\n",
       " '6\\t86\\t3\\t883603013']"
      ]
     },
     "execution_count": 114,
     "metadata": {},
     "output_type": "execute_result"
    }
   ],
   "source": [
    "rdd_data = sc.textFile(\"/labs/laba01/ml-100k/u.data\")\n",
    "rdd_data.take(10)"
   ]
  },
  {
   "cell_type": "code",
   "execution_count": 115,
   "metadata": {},
   "outputs": [
    {
     "data": {
      "text/plain": [
       "defaultdict(int, {'3': 27145, '1': 6110, '2': 11370, '4': 34174, '5': 21201})"
      ]
     },
     "execution_count": 115,
     "metadata": {},
     "output_type": "execute_result"
    }
   ],
   "source": [
    "all_films = (rdd_data.map(lambda x: (x.split(\"\\t\")[2]))\n",
    "         .countByKey()\n",
    "         )\n",
    "all_films"
   ]
  },
  {
   "cell_type": "code",
   "execution_count": 116,
   "metadata": {},
   "outputs": [
    {
     "data": {
      "text/plain": [
       "11"
      ]
     },
     "execution_count": 116,
     "metadata": {},
     "output_type": "execute_result"
    }
   ],
   "source": [
    "rdd_data.groupBy(lambda x: x[2]).count()"
   ]
  },
  {
   "cell_type": "code",
   "execution_count": 117,
   "metadata": {},
   "outputs": [
    {
     "data": {
      "text/plain": [
       "defaultdict(int, {'5': 186, '4': 79, '3': 23, '2': 6, '1': 4})"
      ]
     },
     "execution_count": 117,
     "metadata": {},
     "output_type": "execute_result"
    }
   ],
   "source": [
    "my_film = (rdd_data.filter(lambda x: \"\\t318\" in x).map(lambda x: (x.split(\"\\t\")[2]))\n",
    "         .countByKey()\n",
    "         )\n",
    "my_film"
   ]
  },
  {
   "cell_type": "code",
   "execution_count": 118,
   "metadata": {},
   "outputs": [
    {
     "data": {
      "text/plain": [
       "[('48', 3),\n",
       " ('346', 1),\n",
       " ('14', 3),\n",
       " ('4', 2),\n",
       " ('694', 1),\n",
       " ('188', 2),\n",
       " ('408', 3),\n",
       " ('724', 1),\n",
       " ('163', 1),\n",
       " ('712', 2),\n",
       " ('219', 2),\n",
       " ('514', 2),\n",
       " ('502', 1),\n",
       " ('121', 3),\n",
       " ('100', 2),\n",
       " ('272', 1),\n",
       " ('307', 1),\n",
       " ('8', 1),\n",
       " ('1204', 1),\n",
       " ('1057', 1),\n",
       " ('40', 2),\n",
       " ('301', 3),\n",
       " ('452', 1),\n",
       " ('265', 1),\n",
       " ('213', 2),\n",
       " ('96', 1),\n",
       " ('387', 1),\n",
       " ('246', 2),\n",
       " ('286', 4),\n",
       " ('270', 1),\n",
       " ('230', 1),\n",
       " ('1495', 2),\n",
       " ('474', 2),\n",
       " ('1044', 2),\n",
       " ('994', 1),\n",
       " ('419', 2),\n",
       " ('846', 3),\n",
       " ('603', 2),\n",
       " ('216', 1),\n",
       " ('949', 2),\n",
       " ('222', 4),\n",
       " ('1039', 1),\n",
       " ('1285', 1),\n",
       " ('21', 1),\n",
       " ('483', 1),\n",
       " ('10', 1),\n",
       " ('762', 1),\n",
       " ('412', 2),\n",
       " ('257', 4),\n",
       " ('326', 2),\n",
       " ('1109', 1),\n",
       " ('258', 2),\n",
       " ('699', 1),\n",
       " ('12', 2),\n",
       " ('243', 2),\n",
       " ('898', 1),\n",
       " ('637', 1),\n",
       " ('237', 3),\n",
       " ('1160', 1),\n",
       " ('134', 2),\n",
       " ('571', 2),\n",
       " ('56', 2),\n",
       " ('70', 2),\n",
       " ('433', 1),\n",
       " ('154', 2),\n",
       " ('130', 1),\n",
       " ('91', 1),\n",
       " ('778', 1),\n",
       " ('111', 3),\n",
       " ('993', 1),\n",
       " ('506', 2),\n",
       " ('824', 1),\n",
       " ('66', 2),\n",
       " ('1', 2),\n",
       " ('234', 2),\n",
       " ('150', 1),\n",
       " ('588', 1),\n",
       " ('208', 3),\n",
       " ('566', 2),\n",
       " ('106', 2),\n",
       " ('167', 1),\n",
       " ('1136', 1),\n",
       " ('1021', 1),\n",
       " ('451', 1),\n",
       " ('629', 2),\n",
       " ('705', 2),\n",
       " ('458', 1),\n",
       " ('190', 1),\n",
       " ('703', 1),\n",
       " ('623', 1),\n",
       " ('145', 1),\n",
       " ('98', 1),\n",
       " ('143', 2),\n",
       " ('17', 1),\n",
       " ('209', 1),\n",
       " ('742', 1),\n",
       " ('1381', 1),\n",
       " ('675', 1),\n",
       " ('20', 1),\n",
       " ('820', 1),\n",
       " ('356', 1),\n",
       " ('631', 1),\n",
       " ('659', 1),\n",
       " ('50', 2),\n",
       " ('64', 1),\n",
       " ('648', 1),\n",
       " ('508', 1),\n",
       " ('204', 3),\n",
       " ('610', 1),\n",
       " ('274', 3),\n",
       " ('660', 1),\n",
       " ('252', 1),\n",
       " ('792', 2),\n",
       " ('971', 1),\n",
       " ('248', 1),\n",
       " ('315', 1),\n",
       " ('503', 1),\n",
       " ('934', 1),\n",
       " ('481', 1),\n",
       " ('1023', 1),\n",
       " ('674', 1),\n",
       " ('612', 1),\n",
       " ('305', 1),\n",
       " ('509', 1),\n",
       " ('1284', 1),\n",
       " ('88', 1),\n",
       " ('501', 2),\n",
       " ('1149', 1),\n",
       " ('160', 1),\n",
       " ('1093', 1),\n",
       " ('240', 1),\n",
       " ('158', 1),\n",
       " ('486', 1),\n",
       " ('162', 1),\n",
       " ('1128', 1),\n",
       " ('485', 1),\n",
       " ('542', 1),\n",
       " ('63', 2),\n",
       " ('435', 1),\n",
       " ('414', 1),\n",
       " ('796', 1),\n",
       " ('815', 2),\n",
       " ('140', 1),\n",
       " ('654', 1),\n",
       " ('640', 1),\n",
       " ('1091', 1),\n",
       " ('657', 1),\n",
       " ('975', 1),\n",
       " ('285', 1),\n",
       " ('157', 2),\n",
       " ('950', 1),\n",
       " ('122', 1),\n",
       " ('138', 1),\n",
       " ('229', 1),\n",
       " ('517', 1),\n",
       " ('697', 1),\n",
       " ('1163', 1),\n",
       " ('69', 1),\n",
       " ('378', 2),\n",
       " ('723', 1),\n",
       " ('715', 1),\n",
       " ('24', 1),\n",
       " ('223', 1),\n",
       " ('780', 1),\n",
       " ('161', 1),\n",
       " ('86', 1),\n",
       " ('790', 1),\n",
       " ('284', 2),\n",
       " ('189', 1),\n",
       " ('783', 1),\n",
       " ('978', 1),\n",
       " ('376', 1),\n",
       " ('570', 1),\n",
       " ('628', 1),\n",
       " ('720', 1),\n",
       " ('763', 1),\n",
       " ('174', 1),\n",
       " ('132', 2),\n",
       " ('585', 2),\n",
       " ('26', 1),\n",
       " ('417', 1),\n",
       " ('255', 1),\n",
       " ('1009', 1),\n",
       " ('411', 1),\n",
       " ('492', 1),\n",
       " ('144', 1),\n",
       " ('1315', 1),\n",
       " ('215', 1),\n",
       " ('29', 1),\n",
       " ('365', 1),\n",
       " ('1220', 1),\n",
       " ('1528', 1),\n",
       " ('77', 1),\n",
       " ('44', 1),\n",
       " ('520', 1),\n",
       " ('214', 1),\n",
       " ('283', 1),\n",
       " ('385', 2),\n",
       " ('447', 1),\n",
       " ('633', 1),\n",
       " ('564', 1),\n",
       " ('737', 1),\n",
       " ('179', 1),\n",
       " ('722', 1),\n",
       " ('347', 1),\n",
       " ('317', 1),\n",
       " ('782', 1),\n",
       " ('316', 1),\n",
       " ('875', 1),\n",
       " ('581', 1),\n",
       " ('816', 1),\n",
       " ('582', 1),\n",
       " ('344', 1),\n",
       " ('303', 1),\n",
       " ('116', 1),\n",
       " ('33', 1),\n",
       " ('849', 1),\n",
       " ('540', 1),\n",
       " ('785', 1),\n",
       " ('318', 298),\n",
       " ('94', 3),\n",
       " ('768', 1),\n",
       " ('187', 4),\n",
       " ('476', 2),\n",
       " ('159', 1),\n",
       " ('357', 2),\n",
       " ('47', 1),\n",
       " ('72', 2),\n",
       " ('795', 1),\n",
       " ('764', 1),\n",
       " ('1014', 1),\n",
       " ('524', 1),\n",
       " ('288', 2),\n",
       " ('591', 1),\n",
       " ('211', 2),\n",
       " ('197', 2),\n",
       " ('1032', 1),\n",
       " ('194', 2),\n",
       " ('607', 2),\n",
       " ('1318', 3),\n",
       " ('239', 1),\n",
       " ('49', 1),\n",
       " ('384', 1),\n",
       " ('25', 4),\n",
       " ('396', 2),\n",
       " ('750', 2),\n",
       " ('182', 2),\n",
       " ('494', 1),\n",
       " ('544', 2),\n",
       " ('401', 2),\n",
       " ('518', 4),\n",
       " ('655', 2),\n",
       " ('127', 2),\n",
       " ('218', 2),\n",
       " ('105', 1),\n",
       " ('117', 2),\n",
       " ('575', 1),\n",
       " ('99', 1),\n",
       " ('118', 2),\n",
       " ('137', 2),\n",
       " ('546', 3),\n",
       " ('181', 4),\n",
       " ('491', 2),\n",
       " ('1048', 2),\n",
       " ('323', 2),\n",
       " ('85', 3),\n",
       " ('636', 1),\n",
       " ('425', 2),\n",
       " ('196', 3),\n",
       " ('186', 2),\n",
       " ('578', 1),\n",
       " ('1188', 1),\n",
       " ('43', 2),\n",
       " ('1455', 1),\n",
       " ('761', 1),\n",
       " ('15', 4),\n",
       " ('297', 1),\n",
       " ('1521', 1),\n",
       " ('775', 1),\n",
       " ('312', 3),\n",
       " ('36', 1),\n",
       " ('732', 2),\n",
       " ('168', 2),\n",
       " ('865', 1),\n",
       " ('794', 1),\n",
       " ('151', 4),\n",
       " ('928', 1),\n",
       " ('1501', 1),\n",
       " ('1300', 1),\n",
       " ('708', 2),\n",
       " ('418', 1),\n",
       " ('527', 3),\n",
       " ('961', 1),\n",
       " ('142', 1),\n",
       " ('62', 1),\n",
       " ('1120', 2),\n",
       " ('639', 1),\n",
       " ('475', 1),\n",
       " ('405', 3),\n",
       " ('205', 1),\n",
       " ('463', 1),\n",
       " ('366', 1),\n",
       " ('1139', 1),\n",
       " ('238', 1),\n",
       " ('381', 1),\n",
       " ('605', 1),\n",
       " ('554', 1),\n",
       " ('606', 2),\n",
       " ('282', 3),\n",
       " ('289', 2),\n",
       " ('89', 3),\n",
       " ('781', 1),\n",
       " ('1401', 1),\n",
       " ('67', 1),\n",
       " ('124', 1),\n",
       " ('869', 1),\n",
       " ('558', 1),\n",
       " ('11', 1),\n",
       " ('843', 1),\n",
       " ('212', 2),\n",
       " ('480', 1),\n",
       " ('7', 1),\n",
       " ('1012', 2),\n",
       " ('58', 2),\n",
       " ('842', 1),\n",
       " ('135', 1),\n",
       " ('125', 1),\n",
       " ('547', 1),\n",
       " ('155', 1),\n",
       " ('866', 2),\n",
       " ('95', 2),\n",
       " ('191', 3),\n",
       " ('818', 1),\n",
       " ('864', 1),\n",
       " ('892', 2),\n",
       " ('367', 1),\n",
       " ('42', 1),\n",
       " ('210', 4),\n",
       " ('201', 1),\n",
       " ('404', 1),\n",
       " ('269', 4),\n",
       " ('1063', 1),\n",
       " ('739', 1),\n",
       " ('613', 1),\n",
       " ('1008', 1),\n",
       " ('101', 1),\n",
       " ('850', 1),\n",
       " ('80', 1),\n",
       " ('482', 2),\n",
       " ('403', 2),\n",
       " ('193', 1),\n",
       " ('926', 1),\n",
       " ('327', 1),\n",
       " ('1073', 2),\n",
       " ('573', 1),\n",
       " ('618', 1),\n",
       " ('1435', 1),\n",
       " ('1441', 1),\n",
       " ('27', 2),\n",
       " ('321', 1),\n",
       " ('251', 1),\n",
       " ('195', 1),\n",
       " ('625', 1),\n",
       " ('31', 1),\n",
       " ('3', 1),\n",
       " ('156', 1),\n",
       " ('254', 1),\n",
       " ('13', 1),\n",
       " ('1115', 1),\n",
       " ('568', 1),\n",
       " ('740', 1),\n",
       " ('242', 1),\n",
       " ('313', 1),\n",
       " ('845', 1),\n",
       " ('713', 1),\n",
       " ('1050', 1),\n",
       " ('619', 1),\n",
       " ('944', 2),\n",
       " ('860', 1),\n",
       " ('1646', 1),\n",
       " ('55', 1),\n",
       " ('136', 1),\n",
       " ('967', 1),\n",
       " ('968', 1),\n",
       " ('133', 1),\n",
       " ('382', 1),\n",
       " ('693', 2),\n",
       " ('320', 1),\n",
       " ('291', 1),\n",
       " ('300', 3),\n",
       " ('294', 2),\n",
       " ('38', 1),\n",
       " ('287', 1),\n",
       " ('152', 1),\n",
       " ('271', 1),\n",
       " ('273', 1),\n",
       " ('169', 1),\n",
       " ('343', 1),\n",
       " ('1166', 1),\n",
       " ('293', 1),\n",
       " ('859', 1),\n",
       " ('714', 1),\n",
       " ('735', 2),\n",
       " ('393', 3),\n",
       " ('183', 3),\n",
       " ('531', 1),\n",
       " ('977', 1),\n",
       " ('1004', 1),\n",
       " ('148', 1),\n",
       " ('921', 1),\n",
       " ('692', 1),\n",
       " ('896', 1),\n",
       " ('39', 1),\n",
       " ('275', 2),\n",
       " ('302', 2),\n",
       " ('1225', 1),\n",
       " ('903', 1),\n",
       " ('710', 1),\n",
       " ('809', 1),\n",
       " ('497', 1),\n",
       " ('114', 1),\n",
       " ('178', 1),\n",
       " ('340', 3),\n",
       " ('498', 1),\n",
       " ('1170', 2),\n",
       " ('1055', 1),\n",
       " ('678', 1),\n",
       " ('793', 1),\n",
       " ('200', 2),\n",
       " ('871', 1),\n",
       " ('420', 1),\n",
       " ('423', 1),\n",
       " ('919', 1),\n",
       " ('176', 1),\n",
       " ('1011', 1),\n",
       " ('941', 1),\n",
       " ('87', 1),\n",
       " ('1030', 1),\n",
       " ('358', 1),\n",
       " ('236', 1),\n",
       " ('1168', 1),\n",
       " ('402', 1),\n",
       " ('165', 1),\n",
       " ('232', 1),\n",
       " ('59', 1),\n",
       " ('65', 1),\n",
       " ('985', 1),\n",
       " ('1038', 1),\n",
       " ('5', 1),\n",
       " ('709', 1),\n",
       " ('652', 1)]"
      ]
     },
     "execution_count": 118,
     "metadata": {},
     "output_type": "execute_result"
    }
   ],
   "source": [
    "(rdd_data.filter(lambda x: \"318\" in x)\n",
    "         .map(lambda x: (x.split(\"\\t\")[1], 1))\\\n",
    "         .reduceByKey(lambda x, y: x + y)\n",
    "         .collect())"
   ]
  },
  {
   "cell_type": "code",
   "execution_count": 120,
   "metadata": {},
   "outputs": [
    {
     "data": {
      "text/plain": [
       "collections.defaultdict"
      ]
     },
     "execution_count": 120,
     "metadata": {},
     "output_type": "execute_result"
    }
   ],
   "source": [
    "type(my_film)"
   ]
  },
  {
   "cell_type": "code",
   "execution_count": 121,
   "metadata": {},
   "outputs": [],
   "source": [
    "list_of_rating = ['1','2','3','4','5']"
   ]
  },
  {
   "cell_type": "code",
   "execution_count": 122,
   "metadata": {},
   "outputs": [],
   "source": [
    "dict_answer = {'hist_film':[],'hist_all':[]}\n",
    "for i in list_of_rating:\n",
    "    dict_answer['hist_film'].append(my_film[i])\n",
    "    dict_answer['hist_all'].append(all_films[i])"
   ]
  },
  {
   "cell_type": "code",
   "execution_count": 123,
   "metadata": {},
   "outputs": [
    {
     "data": {
      "text/plain": [
       "{'hist_film': [4, 6, 23, 79, 186],\n",
       " 'hist_all': [6110, 11370, 27145, 34174, 21201]}"
      ]
     },
     "execution_count": 123,
     "metadata": {},
     "output_type": "execute_result"
    }
   ],
   "source": [
    "dict_answer"
   ]
  },
  {
   "cell_type": "code",
   "execution_count": null,
   "metadata": {},
   "outputs": [],
   "source": [
    "import json\n",
    "\n",
    "with open('lab01.json', \"w\") as file:\n",
    "    json.dump(dict_answer, file)"
   ]
  },
  {
   "cell_type": "code",
   "execution_count": 124,
   "metadata": {},
   "outputs": [],
   "source": [
    "spark.stop()"
   ]
  },
  {
   "cell_type": "code",
   "execution_count": null,
   "metadata": {},
   "outputs": [],
   "source": []
  }
 ],
 "metadata": {
  "kernelspec": {
   "display_name": "Python 3",
   "language": "python",
   "name": "python3"
  },
  "language_info": {
   "codemirror_mode": {
    "name": "ipython",
    "version": 3
   },
   "file_extension": ".py",
   "mimetype": "text/x-python",
   "name": "python",
   "nbconvert_exporter": "python",
   "pygments_lexer": "ipython3",
   "version": "3.6.5"
  }
 },
 "nbformat": 4,
 "nbformat_minor": 2
}
