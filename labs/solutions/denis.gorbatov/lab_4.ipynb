{
 "cells": [
  {
   "cell_type": "code",
   "execution_count": 1,
   "metadata": {},
   "outputs": [],
   "source": [
    "import os\n",
    "import sys\n",
    "os.environ[\"PYSPARK_PYTHON\"]='/opt/anaconda/envs/bd9/bin/python'\n",
    "os.environ[\"SPARK_HOME\"]='/usr/hdp/current/spark2-client'\n",
    "os.environ[\"PYSPARK_SUBMIT_ARGS\"]='--num-executors 5 --executor-memory 4g --executor-cores 1 --driver-memory 3g pyspark-shell'\n",
    "\n",
    "spark_home = os.environ.get('SPARK_HOME', None)\n",
    "\n",
    "sys.path.insert(0, os.path.join(spark_home, 'python'))\n",
    "sys.path.insert(0, os.path.join(spark_home, 'python/lib/py4j-0.10.7-src.zip'))"
   ]
  },
  {
   "cell_type": "code",
   "execution_count": 2,
   "metadata": {},
   "outputs": [
    {
     "data": {
      "text/html": [
       "\n",
       "            <div>\n",
       "                <p><b>SparkSession - in-memory</b></p>\n",
       "                \n",
       "        <div>\n",
       "            <p><b>SparkContext</b></p>\n",
       "\n",
       "            <p><a href=\"http://spark-master-4.newprolab.com:4043\">Spark UI</a></p>\n",
       "\n",
       "            <dl>\n",
       "              <dt>Version</dt>\n",
       "                <dd><code>v2.4.7</code></dd>\n",
       "              <dt>Master</dt>\n",
       "                <dd><code>local[2]</code></dd>\n",
       "              <dt>AppName</dt>\n",
       "                <dd><code>ML app</code></dd>\n",
       "            </dl>\n",
       "        </div>\n",
       "        \n",
       "            </div>\n",
       "        "
      ],
      "text/plain": [
       "<pyspark.sql.session.SparkSession at 0x7efcb05a6cc0>"
      ]
     },
     "execution_count": 2,
     "metadata": {},
     "output_type": "execute_result"
    }
   ],
   "source": [
    "from pyspark.sql import SparkSession\n",
    "\n",
    "spark = SparkSession.builder \\\n",
    "                    .master(\"local[2]\") \\\n",
    "                    .appName(\"ML app\") \\\n",
    "                    .config(\"spark.driver.memory\", \"512m\") \\\n",
    "                    .config(\"spark.jars.packages\", \"org.apache.spark:spark-sql-kafka-0-10_2.11:2.4.5\") \\\n",
    "                    .getOrCreate()\n",
    "\n",
    "spark"
   ]
  },
  {
   "cell_type": "code",
   "execution_count": 3,
   "metadata": {},
   "outputs": [],
   "source": [
    "from pyspark.sql.functions import json_tuple, from_json, get_json_object, col, explode, expr, \\\n",
    "collect_set, collect_list,regexp_replace, get_json_object, to_json, struct\n",
    "import pyspark.sql.types as t\n",
    "import pyspark.sql.functions as f\n",
    "\n",
    "from pyspark.sql.types import StructField, StructType, StringType, ArrayType, IntegerType, TimestampType, LongType\n",
    "from pyspark.ml.feature import HashingTF, IDF, Tokenizer, StopWordsRemover, StringIndexer, IndexToString\n",
    "from pyspark.ml import Pipeline, PipelineModel\n",
    "from pyspark.ml.linalg import Vector, DenseVector\n",
    "from pyspark.ml.classification import LogisticRegression ,DecisionTreeClassifier, RandomForestClassifier, GBTClassifier\n",
    "from pyspark.ml.evaluation import MulticlassClassificationEvaluator\n",
    "import json, pprint"
   ]
  },
  {
   "cell_type": "code",
   "execution_count": 7,
   "metadata": {},
   "outputs": [
    {
     "name": "stdout",
     "output_type": "stream",
     "text": [
      "-RECORD 0-----------------------------------------------------------------------------------------------------------------------------------------------------------------------------------------------------------------------------------------------------------------------------------------------------------------------------------------------------------------------------------------------------------------------------------------------------------------------------------------------------------------------------------------------------------------------------------------------------------------------------------------------------------------------------------------------------------------------------------\n",
      " gender    | F                                                                                                                                                                                                                                                                                                                                                                                                                                                                                                                                                                                                                                                                                                                              \n",
      " age       | 18-24                                                                                                                                                                                                                                                                                                                                                                                                                                                                                                                                                                                                                                                                                                                          \n",
      " uid       | d50192e5-c44e-4ae8-ae7a-7cfe67c8b777                                                                                                                                                                                                                                                                                                                                                                                                                                                                                                                                                                                                                                                                                           \n",
      " user_json | {\"visits\": [{\"url\": \"http://zebra-zoya.ru/200028-chehol-organayzer-dlja-macbook-11-grid-it.html?utm_campaign=397720794&utm_content=397729344&utm_medium=cpc&utm_source=begun\", \"timestamp\": 1419688144068}, {\"url\": \"http://news.yandex.ru/yandsearch?cl4url=chezasite.com/htc/htc-one-m9-delay-86327.html&lr=213&rpt=story\", \"timestamp\": 1426666298001}, {\"url\": \"http://www.sotovik.ru/news/240283-htc-one-m9-zaderzhivaetsja.html\", \"timestamp\": 1426666298000}, {\"url\": \"http://news.yandex.ru/yandsearch?cl4url=chezasite.com/htc/htc-one-m9-delay-86327.html&lr=213&rpt=story\", \"timestamp\": 1426661722001}, {\"url\": \"http://www.sotovik.ru/news/240283-htc-one-m9-zaderzhivaetsja.html\", \"timestamp\": 1426661722000}]} \n",
      "only showing top 1 row\n",
      "\n",
      "DataFrame[gender: string, age: string, uid: string, user_json: string]\n"
     ]
    }
   ],
   "source": [
    "path = \"/labs/slaba04/gender_age_dataset.txt\"\n",
    "\n",
    "schema = StructType(fields=[\n",
    "    t.StructField('gender', StringType()),\n",
    "    t.StructField('age', StringType()),\n",
    "    t.StructField('uid', StringType()),\n",
    "    t.StructField('user_json', StringType()),\n",
    "])\n",
    "\n",
    "df = spark.read.csv(path, header=True, schema=schema, sep='\\t')\n",
    "df.show(1, truncate=False, vertical=True)\n",
    "print(df)"
   ]
  },
  {
   "cell_type": "code",
   "execution_count": 8,
   "metadata": {},
   "outputs": [],
   "source": [
    "VisitsType = StructType([\n",
    "    StructField(\"visits\", ArrayType(\n",
    "        StructType([\n",
    "            StructField(\"url\", StringType(), True),\n",
    "            StructField(\"timestamp\", LongType(), True) \n",
    "            ])\n",
    "        ))\n",
    "    ])"
   ]
  },
  {
   "cell_type": "code",
   "execution_count": 9,
   "metadata": {
    "scrolled": true
   },
   "outputs": [
    {
     "name": "stdout",
     "output_type": "stream",
     "text": [
      "-RECORD 0--------------------------------------\n",
      " gender | F                                    \n",
      " age    | 18-24                                \n",
      " uid    | d50192e5-c44e-4ae8-ae7a-7cfe67c8b777 \n",
      " host   | zebra-zoya.ru                        \n",
      "-RECORD 1--------------------------------------\n",
      " gender | F                                    \n",
      " age    | 18-24                                \n",
      " uid    | d50192e5-c44e-4ae8-ae7a-7cfe67c8b777 \n",
      " host   | news.yandex.ru                       \n",
      "only showing top 2 rows\n",
      "\n"
     ]
    }
   ],
   "source": [
    "df_flattened = df \\\n",
    "    .withColumn(\"visits\", from_json(col(\"user_json\"), VisitsType)) \\\n",
    "    .withColumn(\"visit\", explode(\"visits.visits\").alias(\"visit\")) \\\n",
    "    .withColumn(\"host\", expr(\"parse_url(visit.url, 'HOST')\").alias(\"host\")) \\\n",
    "    .drop(\"visits\", \"visit\",\"user_json\")\n",
    "df_flattened.show(2, truncate=False, vertical=True)"
   ]
  },
  {
   "cell_type": "code",
   "execution_count": 10,
   "metadata": {
    "scrolled": true
   },
   "outputs": [
    {
     "name": "stdout",
     "output_type": "stream",
     "text": [
      "-RECORD 0--------------------------------------\n",
      " gender | M                                    \n",
      " age    | 25-34                                \n",
      " uid    | d502331d-621e-4721-ada2-5d30b2c3801f \n",
      " host   | null                                 \n",
      "-RECORD 1--------------------------------------\n",
      " gender | M                                    \n",
      " age    | >=55                                 \n",
      " uid    | d503c3b2-a0c2-4f47-bb27-065058c73008 \n",
      " host   | null                                 \n",
      "only showing top 2 rows\n",
      "\n"
     ]
    }
   ],
   "source": [
    "df_flattened.where(col(\"host\").isNull()).show(2, truncate=False, vertical=True)"
   ]
  },
  {
   "cell_type": "code",
   "execution_count": 11,
   "metadata": {
    "scrolled": true
   },
   "outputs": [
    {
     "name": "stdout",
     "output_type": "stream",
     "text": [
      "-RECORD 0-----------------------------------------------------------------------------------------------------------------------------------------------------------------------------------------------------------------------------------------------------------------------------------------------\n",
      " gender | F                                                                                                                                                                                                                                                                                             \n",
      " age    | 18-24                                                                                                                                                                                                                                                                                         \n",
      " uid    | 09b1ecd3-b2d2-4c1b-857a-025c0509d9ec                                                                                                                                                                                                                                                          \n",
      " hosts  | [tankionline.com, tankionline.com, tankionline.com]                                                                                                                                                                                                                                           \n",
      "-RECORD 1-----------------------------------------------------------------------------------------------------------------------------------------------------------------------------------------------------------------------------------------------------------------------------------------------\n",
      " gender | F                                                                                                                                                                                                                                                                                             \n",
      " age    | 18-24                                                                                                                                                                                                                                                                                         \n",
      " uid    | 15faf063-5e44-4b65-b1fb-21fb8a18ffd1                                                                                                                                                                                                                                                          \n",
      " hosts  | [allods.mail.ru, aw.mail.ru, petrovka-beauty.ru, petrovka-beauty.ru, petrovka-beauty.ru, ru.wgleague.net, echo.msk.ru, news.yandex.ru, www.mk.ru, news.yandex.ru, world.fedpress.ru, news.yandex.ru, masterh4.adriver.ru, hotels.1001tur.ru, hotels.1001tur.ru, hotels.1001tur.ru, yandex.ru] \n",
      "only showing top 2 rows\n",
      "\n"
     ]
    }
   ],
   "source": [
    "df_final = df_flattened \\\n",
    "    .groupBy(\"gender\", \"age\", \"uid\") \\\n",
    "    .agg(collect_list(\"host\") \\\n",
    "    .alias(\"hosts\"))\\\n",
    "    .where(col(\"age\") != \"-\")\\\n",
    "    .where(col(\"gender\") != \"-\")\\\n",
    "    .filter(f.size('hosts') != 0)\n",
    "df_final.show(2, truncate=False, vertical=True)"
   ]
  },
  {
   "cell_type": "code",
   "execution_count": 12,
   "metadata": {},
   "outputs": [],
   "source": [
    "X_train, X_test = df_final.randomSplit([0.8, 0.2], seed=123)"
   ]
  },
  {
   "cell_type": "code",
   "execution_count": 13,
   "metadata": {},
   "outputs": [],
   "source": [
    "hashing_TF = HashingTF(inputCol=\"hosts\", outputCol=\"rawFeatures\", numFeatures=10000, binary=False)\n",
    "indexer_age = StringIndexer(inputCol=\"age\", outputCol=\"ageIndex\").fit(df_final)\n",
    "indexer_gender = StringIndexer(inputCol=\"gender\", outputCol=\"genderIndex\").fit(df_final)"
   ]
  },
  {
   "cell_type": "code",
   "execution_count": 14,
   "metadata": {},
   "outputs": [],
   "source": [
    "rf_age = RandomForestClassifier(featuresCol = 'rawFeatures', labelCol = 'ageIndex', \n",
    "                           predictionCol=\"age_index_prediction\", rawPredictionCol=\"age_index_raw_prediction\",\n",
    "                           probabilityCol = \"age_probability\")"
   ]
  },
  {
   "cell_type": "code",
   "execution_count": 15,
   "metadata": {},
   "outputs": [],
   "source": [
    "rf_gender = RandomForestClassifier(featuresCol = 'rawFeatures', labelCol = 'genderIndex',\n",
    "                              predictionCol=\"gender_index_prediction\", rawPredictionCol=\"gender_index_raw_prediction\",\n",
    "                              probabilityCol = \"gender_probability\")"
   ]
  },
  {
   "cell_type": "code",
   "execution_count": 16,
   "metadata": {},
   "outputs": [],
   "source": [
    "converter_age = IndexToString(inputCol=\"age_index_prediction\", outputCol=\"PredictedAge\", labels=indexer_age.labels)"
   ]
  },
  {
   "cell_type": "code",
   "execution_count": 17,
   "metadata": {},
   "outputs": [],
   "source": [
    "converter_gender = IndexToString(inputCol=\"gender_index_prediction\", outputCol=\"PredictedGender\", labels=indexer_gender.labels)"
   ]
  },
  {
   "cell_type": "code",
   "execution_count": 18,
   "metadata": {},
   "outputs": [],
   "source": [
    "pipeline = Pipeline(stages=[hashing_TF, indexer_age, indexer_gender, rf_age, rf_gender, \n",
    "                            converter_age, converter_gender])"
   ]
  },
  {
   "cell_type": "code",
   "execution_count": 21,
   "metadata": {},
   "outputs": [
    {
     "data": {
      "text/plain": [
       "15"
      ]
     },
     "execution_count": 21,
     "metadata": {},
     "output_type": "execute_result"
    }
   ],
   "source": [
    "df_final.repartition(15).rdd.getNumPartitions()"
   ]
  },
  {
   "cell_type": "code",
   "execution_count": 22,
   "metadata": {},
   "outputs": [
    {
     "data": {
      "text/plain": [
       "DataFrame[gender: string, age: string, uid: string, hosts: array<string>]"
      ]
     },
     "execution_count": 22,
     "metadata": {},
     "output_type": "execute_result"
    }
   ],
   "source": [
    "X_train, X_test = df_final.randomSplit([0.8, 0.2], seed=123)\n",
    "X_train.repartition(15)\n",
    "X_train.cache()"
   ]
  },
  {
   "cell_type": "code",
   "execution_count": 23,
   "metadata": {},
   "outputs": [],
   "source": [
    "model = pipeline.fit(X_train)"
   ]
  },
  {
   "cell_type": "code",
   "execution_count": 24,
   "metadata": {},
   "outputs": [],
   "source": [
    "predictions = model.transform(X_test)"
   ]
  },
  {
   "cell_type": "code",
   "execution_count": 25,
   "metadata": {},
   "outputs": [
    {
     "name": "stdout",
     "output_type": "stream",
     "text": [
      "Accuracy for age: 0.42804997894145724\n",
      "Accuracy for gender: 0.5389583040853573\n"
     ]
    }
   ],
   "source": [
    "evaluator_age = MulticlassClassificationEvaluator(\n",
    "    labelCol=\"ageIndex\", predictionCol=\"age_index_prediction\", metricName=\"accuracy\")\n",
    "accuracy_age = evaluator_age.evaluate(predictions)\n",
    "evaluator_gender = MulticlassClassificationEvaluator(\n",
    "    labelCol=\"genderIndex\", predictionCol=\"gender_index_prediction\", metricName=\"accuracy\")\n",
    "accuracy_gender = evaluator_gender.evaluate(predictions)\n",
    "\n",
    "print(\"Accuracy for age: \" + str(accuracy_age))\n",
    "print(\"Accuracy for gender: \" + str(accuracy_gender))"
   ]
  },
  {
   "cell_type": "code",
   "execution_count": 26,
   "metadata": {},
   "outputs": [],
   "source": [
    "model.write().overwrite().save(\"/user/denis.gorbatov/lab04_model\")"
   ]
  },
  {
   "cell_type": "code",
   "execution_count": 28,
   "metadata": {},
   "outputs": [],
   "source": [
    "kafka_read_df = (\n",
    "    spark.read\n",
    "    .format('kafka')\n",
    "    .option('kafka.bootstrap.servers', 'spark-node-1.newprolab.com:6667')\n",
    "    .option('subscribe', 'input_denis.gorbatov')\n",
    "    .option('startingOffsets', 'earliest')\n",
    "    .option('failOnDataLoss', 'False')\n",
    "    .load()\n",
    "    .cache()\n",
    ")"
   ]
  },
  {
   "cell_type": "code",
   "execution_count": 29,
   "metadata": {},
   "outputs": [
    {
     "name": "stdout",
     "output_type": "stream",
     "text": [
      "+----+--------------------+--------------------+---------+------+--------------------+-------------+\n",
      "| key|               value|               topic|partition|offset|           timestamp|timestampType|\n",
      "+----+--------------------+--------------------+---------+------+--------------------+-------------+\n",
      "|null|[7B 22 75 69 64 2...|input_denis.gorbatov|        0|     0|2022-11-06 20:31:...|            0|\n",
      "|null|[7B 22 75 69 64 2...|input_denis.gorbatov|        0|     1|2022-11-06 20:31:...|            0|\n",
      "|null|[7B 22 75 69 64 2...|input_denis.gorbatov|        0|     2|2022-11-06 20:31:...|            0|\n",
      "+----+--------------------+--------------------+---------+------+--------------------+-------------+\n",
      "only showing top 3 rows\n",
      "\n"
     ]
    }
   ],
   "source": [
    "kafka_read_df.show(3)"
   ]
  },
  {
   "cell_type": "code",
   "execution_count": 30,
   "metadata": {},
   "outputs": [
    {
     "name": "stdout",
     "output_type": "stream",
     "text": [
      "+--------------------+--------------------+\n",
      "|                 uid|              visits|\n",
      "+--------------------+--------------------+\n",
      "|bd7a30e1-a25d-4cb...|[[http://www.inte...|\n",
      "|bd7a6f52-45db-49b...|[[https://www.pac...|\n",
      "|bd7a7fd9-ab06-42f...|[[http://www.mk.r...|\n",
      "+--------------------+--------------------+\n",
      "only showing top 3 rows\n",
      "\n"
     ]
    }
   ],
   "source": [
    "event_schema = t.StructType([\n",
    "    t.StructField('uid', t.StringType(), True),\n",
    "    t.StructField('visits', t.StringType(), True),\n",
    "])\n",
    "\n",
    "\n",
    "visit_schema = t.ArrayType(\n",
    "    t.StructType([\n",
    "        t.StructField('url', t.StringType(), True),\n",
    "        t.StructField('timestamp', t.LongType(), True)\n",
    "    ])\n",
    ")\n",
    "\n",
    "\n",
    "clean_df = (\n",
    "    kafka_read_df\n",
    "    .select(f.col('value').cast('string').alias('value'))\n",
    "    .select(f.from_json(f.col('value'), event_schema).alias('event'))\n",
    "    .select(\n",
    "        'event.uid', \n",
    "        f.from_json(f.col('event.visits'), visit_schema).alias('visits')\n",
    "    )\n",
    ")\n",
    "\n",
    "clean_df.show(3)"
   ]
  },
  {
   "cell_type": "code",
   "execution_count": 32,
   "metadata": {},
   "outputs": [],
   "source": [
    "inf_model = PipelineModel.load(\"/user/denis.gorbatov/lab04_model\")"
   ]
  },
  {
   "cell_type": "code",
   "execution_count": 33,
   "metadata": {},
   "outputs": [],
   "source": [
    "prep_df = clean_df \\\n",
    "    .withColumn(\"visit\", explode(\"visits\").alias(\"visit\")) \\\n",
    "    .withColumn(\"host\", expr(\"parse_url(visit.url, 'HOST')\").alias(\"host\")) \\\n",
    "    .drop(\"visits\", \"visit\") \\\n",
    "    .groupBy(\"uid\") \\\n",
    "    .agg(collect_list(\"host\").alias(\"hosts\"))\n",
    "\n",
    "predictions_df = inf_model.transform(prep_df) \\\n",
    "    .select(\"uid\", \"PredictedGender\", \"PredictedAge\") \\\n",
    "    .withColumnRenamed(\"PredictedAge\",\"age\") \\\n",
    "    .withColumnRenamed(\"PredictedGender\",\"gender\")"
   ]
  },
  {
   "cell_type": "code",
   "execution_count": 36,
   "metadata": {},
   "outputs": [],
   "source": [
    "kafka_out_df = (\n",
    "    predictions_df.select(f.to_json(f.struct(*predictions_df.columns)).alias('value'))\n",
    ")\n",
    "\n",
    "\n",
    "(\n",
    "    kafka_out_df\n",
    "    .write\n",
    "    .format('kafka')\n",
    "    .option('kafka.bootstrap.servers', 'spark-node-1.newprolab.com:6667')\n",
    "    .option('topic', 'denis.gorbatov')\n",
    "    .save()\n",
    ")"
   ]
  },
  {
   "cell_type": "code",
   "execution_count": 37,
   "metadata": {
    "scrolled": false
   },
   "outputs": [
    {
     "name": "stdout",
     "output_type": "stream",
     "text": [
      "-RECORD 0--------------------------------------------------------------------------\n",
      " value | {\"uid\":\"0108d217-e476-493d-8c81-a9744f12451a\",\"gender\":\"M\",\"age\":\"25-34\"} \n",
      "-RECORD 1--------------------------------------------------------------------------\n",
      " value | {\"uid\":\"0192cc54-559c-4c8e-89b4-5f4bf31e4245\",\"gender\":\"M\",\"age\":\"25-34\"} \n",
      "only showing top 2 rows\n",
      "\n"
     ]
    }
   ],
   "source": [
    "kafka_out_df.show(2, truncate=False, vertical=True)"
   ]
  },
  {
   "cell_type": "code",
   "execution_count": 39,
   "metadata": {},
   "outputs": [],
   "source": [
    "kafka_stream = (\n",
    "    spark\n",
    "    .readStream\n",
    "    .format('kafka')\n",
    "    .option('kafka.bootstrap.servers', 'spark-node-1.newprolab.com:6667')\n",
    "    .option('subscribe', 'input_denis.gorbatov')\n",
    "    .option('startingOffsets', 'earliest')\n",
    "    .option('failOnDataLoss', 'False')\n",
    "    .load()\n",
    ")"
   ]
  },
  {
   "cell_type": "code",
   "execution_count": 40,
   "metadata": {},
   "outputs": [],
   "source": [
    "\n",
    "\n",
    "kafka_write_stream = (\n",
    "    predictions_df\n",
    "    .select(f.to_json(f.struct(*predictions_df.columns)).alias('value'))\n",
    "    .write\n",
    "    .format(\"kafka\")\n",
    "#    .outputMode(\"append\")\n",
    "    .option(\"checkpointLocation\", \"checkpoints/checkpoints_lab04\")\n",
    "    .option(\"kafka.bootstrap.servers\", 'spark-node-1.newprolab.com:6667')\n",
    "    .option(\"topic\",'denis.gorbatov')\n",
    ")\n"
   ]
  },
  {
   "cell_type": "code",
   "execution_count": 41,
   "metadata": {},
   "outputs": [
    {
     "name": "stdout",
     "output_type": "stream",
     "text": [
      "Found 6 items\r\n",
      "drwxr-xr-x   - denis.gorbatov denis.gorbatov          0 2022-11-06 20:08 /user/denis.gorbatov/.sparkStaging\r\n",
      "drwxr-xr-x   - denis.gorbatov denis.gorbatov          0 2022-11-06 15:32 /user/denis.gorbatov/lab03\r\n",
      "drwxr-xr-x   - denis.gorbatov denis.gorbatov          0 2022-11-06 16:00 /user/denis.gorbatov/lab03_lgbt\r\n",
      "drwxr-xr-x   - denis.gorbatov denis.gorbatov          0 2022-11-06 20:53 /user/denis.gorbatov/lab04_model\r\n",
      "drwxr-xr-x   - denis.gorbatov denis.gorbatov          0 2022-11-06 15:04 /user/denis.gorbatov/test\r\n",
      "drwxr-xr-x   - denis.gorbatov denis.gorbatov          0 2022-11-06 14:07 /user/denis.gorbatov/test_plz_work\r\n"
     ]
    }
   ],
   "source": [
    "! hdfs dfs -ls \"/user/denis.gorbatov\""
   ]
  },
  {
   "cell_type": "code",
   "execution_count": 42,
   "metadata": {},
   "outputs": [],
   "source": [
    "kafka_write_stream.save(\"/user/denis.gorbatov/test\")"
   ]
  },
  {
   "cell_type": "code",
   "execution_count": null,
   "metadata": {},
   "outputs": [],
   "source": [
    "spark.stop()"
   ]
  }
 ],
 "metadata": {
  "kernelspec": {
   "display_name": "Python 3",
   "language": "python",
   "name": "python3"
  },
  "language_info": {
   "codemirror_mode": {
    "name": "ipython",
    "version": 3
   },
   "file_extension": ".py",
   "mimetype": "text/x-python",
   "name": "python",
   "nbconvert_exporter": "python",
   "pygments_lexer": "ipython3",
   "version": "3.6.5"
  }
 },
 "nbformat": 4,
 "nbformat_minor": 2
}
