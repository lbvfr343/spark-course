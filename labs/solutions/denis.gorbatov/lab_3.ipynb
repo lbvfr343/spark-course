{
 "cells": [
  {
   "cell_type": "code",
   "execution_count": 1,
   "metadata": {},
   "outputs": [
    {
     "name": "stdout",
     "output_type": "stream",
     "text": [
      "Welcome to\n",
      "      ____              __\n",
      "     / __/__  ___ _____/ /__\n",
      "    _\\ \\/ _ \\/ _ `/ __/  '_/\n",
      "   /__ / .__/\\_,_/_/ /_/\\_\\   version 2.4.7\n",
      "      /_/\n",
      "\n",
      "Using Python version 3.6.5 (default, Apr 29 2018 16:14:56)\n",
      "SparkSession available as 'spark'.\n"
     ]
    }
   ],
   "source": [
    "import os\n",
    "import sys\n",
    "os.environ[\"PYSPARK_PYTHON\"]='/opt/anaconda/envs/bd9/bin/python'\n",
    "os.environ[\"SPARK_HOME\"]='/usr/hdp/current/spark2-client'\n",
    "os.environ[\"PYSPARK_SUBMIT_ARGS\"]='--num-executors 2 pyspark-shell'\n",
    "spark_home = os.environ.get('SPARK_HOME', None)\n",
    "\n",
    "if not spark_home:\n",
    "    raise ValueError('SPARK_HOME environment variable is not set')\n",
    "sys.path.insert(0, os.path.join(spark_home, 'python'))\n",
    "sys.path.insert(0, os.path.join(spark_home, 'python/lib/py4j-0.10.7-src.zip'))\n",
    "exec(open(os.path.join(spark_home, 'python/pyspark/shell.py')).read())"
   ]
  },
  {
   "cell_type": "code",
   "execution_count": 2,
   "metadata": {},
   "outputs": [],
   "source": [
    "from pyspark import SparkConf\n",
    "from pyspark.sql import SparkSession\n",
    "from pyspark.sql import functions as F\n",
    "from pyspark.sql.types import *\n",
    "from pyspark import Row\n",
    "import json\n",
    "from pyspark import SparkContext\n",
    "conf = SparkConf()\n",
    "\n",
    "spark = (SparkSession\n",
    "         .builder\n",
    "         .config(conf=conf)\n",
    "         .appName(\"test\")\n",
    "         .getOrCreate())"
   ]
  },
  {
   "cell_type": "code",
   "execution_count": 3,
   "metadata": {},
   "outputs": [],
   "source": [
    "from pyspark.sql.types import StructType, StructField, IntegerType, StringType,ByteType\n",
    "schema = StructType(fields=[\n",
    "    StructField(\"user_id\", IntegerType()),\n",
    "    StructField(\"item_id\", IntegerType()),\n",
    "    StructField(\"purchase\", ByteType()),\n",
    "])"
   ]
  },
  {
   "cell_type": "code",
   "execution_count": 4,
   "metadata": {},
   "outputs": [],
   "source": [
    "df_train = spark.read.csv('/labs/slaba03/laba03_train.csv', header= True, schema=schema)\n",
    "test = spark.read.csv('/labs/slaba03/laba03_test.csv', header= True, schema=schema)\n",
    "\n",
    "df_views = spark.read.csv('/labs/slaba03/laba03_views_programmes.csv', header= True)\n",
    "df_items = spark.read.csv('/labs/slaba03/laba03_items.csv', header= True, sep= '\\t')"
   ]
  },
  {
   "cell_type": "code",
   "execution_count": 5,
   "metadata": {},
   "outputs": [],
   "source": [
    "train = df_train.sampleBy(\"purchase\", fractions={0: 0.8, 1: 0.8}, seed=5757)\n",
    "\n",
    "valid = df_train.join(train, on=[\"user_id\", \"item_id\"], how=\"leftanti\")"
   ]
  },
  {
   "cell_type": "code",
   "execution_count": 6,
   "metadata": {},
   "outputs": [],
   "source": [
    "\n",
    "from pyspark.sql.functions import col\n",
    "\n",
    "train_choice = train.groupBy('user_id')\\\n",
    "                .sum().select(col(\"sum(purchase)\").alias(\"user_choice\"), col(\"user_id\")).cache()\n",
    "\n"
   ]
  },
  {
   "cell_type": "code",
   "execution_count": 7,
   "metadata": {},
   "outputs": [],
   "source": [
    "item_choice = train.groupBy('item_id')\\\n",
    "                        .sum().select(col(\"sum(purchase)\").alias(\"item_choice\"), col(\"item_id\")).cache()\n",
    "\n"
   ]
  },
  {
   "cell_type": "code",
   "execution_count": 8,
   "metadata": {},
   "outputs": [],
   "source": [
    "train = train.join(train_choice, on='user_id', how='left')\n",
    "valid = valid.join(train_choice, on='user_id', how='left')\n",
    "test = test.join(train_choice, on='user_id', how='left')\n",
    "\n",
    "train = train.join(item_choice, on='item_id', how='left')\n",
    "valid = valid.join(item_choice, on='item_id', how='left')\n",
    "test = test.join(item_choice, on='item_id', how='left')"
   ]
  },
  {
   "cell_type": "code",
   "execution_count": 9,
   "metadata": {},
   "outputs": [
    {
     "name": "stdout",
     "output_type": "stream",
     "text": [
      "+-------------+-------+\n",
      "|user_attempts|user_id|\n",
      "+-------------+-------+\n",
      "|         2089| 754230|\n",
      "|         2059| 780033|\n",
      "+-------------+-------+\n",
      "only showing top 2 rows\n",
      "\n"
     ]
    }
   ],
   "source": [
    "train_user_attempts = train.groupBy('user_id').count().select(col(\"count\").alias(\"user_attempts\"), col(\"user_id\"))\\\n",
    "                            .cache()\n",
    "train_item_attempts = train.groupBy('item_id').count().select(col(\"count\").alias(\"item_attempts\"), col(\"item_id\"))\\\n",
    "                            .cache()\n",
    "\n",
    "train_user_attempts.show(2)"
   ]
  },
  {
   "cell_type": "code",
   "execution_count": 10,
   "metadata": {},
   "outputs": [],
   "source": [
    "train = train.join(train_user_attempts, on='user_id', how='left')\n",
    "valid = valid.join(train_user_attempts, on='user_id', how='left')\n",
    "test = test.join(train_user_attempts, on='user_id', how='left')\n",
    "train = train.join(train_item_attempts, on='item_id', how='left')\n",
    "valid = valid.join(train_item_attempts, on='item_id', how='left')\n",
    "test = test.join(train_item_attempts, on='item_id', how='left')\n",
    "train = train.withColumn('user_addict', (train.user_choice / train.user_attempts))\n",
    "valid = valid.withColumn('user_addict', col('user_choice') / col('user_attempts'))\n",
    "test = test.withColumn('user_addict', col('user_choice') / col('user_attempts'))\n",
    "train = train.withColumn('item_addict', col('item_choice') / col('item_attempts'))\n",
    "valid = valid.withColumn('item_addict', col('item_choice') / col('item_attempts'))\n",
    "test = test.withColumn('item_addict', col('item_choice') / col('item_attempts'))"
   ]
  },
  {
   "cell_type": "code",
   "execution_count": 11,
   "metadata": {},
   "outputs": [
    {
     "name": "stdout",
     "output_type": "stream",
     "text": [
      "+-------+-------+--------+-----------+-----------+-------------+-------------+--------------------+-------------------+\n",
      "|item_id|user_id|purchase|user_choice|item_choice|user_attempts|item_attempts|         user_addict|        item_addict|\n",
      "+-------+-------+--------+-----------+-----------+-------------+-------------+--------------------+-------------------+\n",
      "|   8389| 556825|       0|          6|          5|         2063|         1061| 0.00290838584585555|0.00471253534401508|\n",
      "|   8389| 566701|       0|         10|          5|         2104|         1061|0.004752851711026616|0.00471253534401508|\n",
      "|   8389| 613775|       0|          1|          5|         2044|         1061|4.892367906066536E-4|0.00471253534401508|\n",
      "|   8389| 619378|       0|          0|          5|         2051|         1061|                 0.0|0.00471253534401508|\n",
      "|   8389| 625678|       0|         13|          5|         2046|         1061| 0.00635386119257087|0.00471253534401508|\n",
      "|   8389| 632495|       0|          6|          5|         2084|         1061|0.002879078694817...|0.00471253534401508|\n",
      "|   8389| 668112|       0|          5|          5|         2049|         1061|0.002440214738897023|0.00471253534401508|\n",
      "|   8389| 703514|       0|          0|          5|         2100|         1061|                 0.0|0.00471253534401508|\n",
      "|   8389| 711308|       0|          0|          5|         2137|         1061|                 0.0|0.00471253534401508|\n",
      "|   8389| 717302|       0|         35|          5|         2046|         1061| 0.01710654936461388|0.00471253534401508|\n",
      "|   8389| 719149|       0|          0|          5|         2131|         1061|                 0.0|0.00471253534401508|\n",
      "|   8389| 728960|       0|          1|          5|         2116|         1061|4.725897920604915E-4|0.00471253534401508|\n",
      "|   8389| 729785|       0|          0|          5|         2096|         1061|                 0.0|0.00471253534401508|\n",
      "|   8389| 731490|       0|          0|          5|         2103|         1061|                 0.0|0.00471253534401508|\n",
      "|   8389| 732411|       0|          5|          5|         2100|         1061|0.002380952380952381|0.00471253534401508|\n",
      "|   8389| 735387|       0|          3|          5|         2082|         1061|0.001440922190201729|0.00471253534401508|\n",
      "|   8389| 736010|       0|          2|          5|         2048|         1061|         9.765625E-4|0.00471253534401508|\n",
      "|   8389| 739230|       0|          5|          5|         2041|         1061|0.002449779519843214|0.00471253534401508|\n",
      "|   8389| 739403|       0|          2|          5|         2060|         1061| 9.70873786407767E-4|0.00471253534401508|\n",
      "|   8389| 741210|       0|          1|          5|         2101|         1061|4.759638267491670...|0.00471253534401508|\n",
      "+-------+-------+--------+-----------+-----------+-------------+-------------+--------------------+-------------------+\n",
      "only showing top 20 rows\n",
      "\n"
     ]
    }
   ],
   "source": [
    "train.show()"
   ]
  },
  {
   "cell_type": "code",
   "execution_count": 12,
   "metadata": {},
   "outputs": [
    {
     "name": "stdout",
     "output_type": "stream",
     "text": [
      "+-------+-------+--------+-----------+-----------+-------------+-------------+--------------------+--------------------+\n",
      "|item_id|user_id|purchase|user_choice|item_choice|user_attempts|item_attempts|         user_addict|         item_addict|\n",
      "+-------+-------+--------+-----------+-----------+-------------+-------------+--------------------+--------------------+\n",
      "|   7679|   1654|       0|          4|          1|         2014|         1062|0.001986097318768...|9.416195856873823E-4|\n",
      "|  67318|   1654|       0|          4|          1|         2014|         1093|0.001986097318768...|9.149130832570906E-4|\n",
      "|  10820| 510087|       0|          4|          1|         2026|         1075|0.001974333662388...|9.302325581395349E-4|\n",
      "|  67040| 510087|       0|          4|          0|         2026|         1098|0.001974333662388...|                 0.0|\n",
      "|  72905| 510087|       0|          4|          0|         2026|         1059|0.001974333662388...|                 0.0|\n",
      "|  77562| 510087|       0|          4|          0|         2026|         1061|0.001974333662388...|                 0.0|\n",
      "|  97941| 510087|       0|          4|          1|         2026|         1059|0.001974333662388...|9.442870632672333E-4|\n",
      "|   9129| 517612|       0|          1|          0|         2096|         1066|4.770992366412213...|                 0.0|\n",
      "|  94998| 517612|       0|          1|          5|         2096|         1098|4.770992366412213...|0.004553734061930784|\n",
      "|  78160| 520446|       0|          6|          2|         2132|         1081|0.002814258911819...|0.001850138760407...|\n",
      "|  86735| 520446|       0|          6|          4|         2132|         1089|0.002814258911819...|0.003673094582185...|\n",
      "|  92151| 523860|       0|         26|          1|         2052|         1075|0.012670565302144249|9.302325581395349E-4|\n",
      "|   2705| 556825|       0|          6|          1|         2063|         1069| 0.00290838584585555|9.354536950420954E-4|\n",
      "|  74425| 556825|       0|          6|          0|         2063|         1119| 0.00290838584585555|                 0.0|\n",
      "|  88929| 556825|       0|          6|          1|         2063|         1050| 0.00290838584585555|9.523809523809524E-4|\n",
      "|  89425| 556825|       0|          6|          1|         2063|         1098| 0.00290838584585555|9.107468123861566E-4|\n",
      "|  99978| 556825|       0|          6|          1|         2063|         1090| 0.00290838584585555|9.174311926605505E-4|\n",
      "|  77579| 575248|       0|          1|          2|         2123|         1046|4.710315591144607E-4|0.001912045889101...|\n",
      "|  82306| 575248|       0|          1|          0|         2123|         1068|4.710315591144607E-4|                 0.0|\n",
      "|  11160| 588378|       0|        112|          0|         2077|         1052|0.053923928743379874|                 0.0|\n",
      "+-------+-------+--------+-----------+-----------+-------------+-------------+--------------------+--------------------+\n",
      "only showing top 20 rows\n",
      "\n"
     ]
    }
   ],
   "source": [
    "valid.show()"
   ]
  },
  {
   "cell_type": "code",
   "execution_count": 13,
   "metadata": {},
   "outputs": [
    {
     "name": "stdout",
     "output_type": "stream",
     "text": [
      "+-------+-------+--------+-----------+-----------+-------------+-------------+--------------------+--------------------+\n",
      "|item_id|user_id|purchase|user_choice|item_choice|user_attempts|item_attempts|         user_addict|         item_addict|\n",
      "+-------+-------+--------+-----------+-----------+-------------+-------------+--------------------+--------------------+\n",
      "|  94814|   1654|    null|          4|          0|         2014|         1097|0.001986097318768...|                 0.0|\n",
      "|  93629|   1654|    null|          4|          4|         2014|         1099|0.001986097318768...|0.003639672429481347|\n",
      "|   9980|   1654|    null|          4|          1|         2014|         1089|0.001986097318768...|9.182736455463728E-4|\n",
      "|  95099|   1654|    null|          4|          0|         2014|         1113|0.001986097318768...|                 0.0|\n",
      "|  11265|   1654|    null|          4|          6|         2014|         1091|0.001986097318768...|0.005499541704857928|\n",
      "|  88896|   1654|    null|          4|          3|         2014|         1102|0.001986097318768...|0.002722323049001...|\n",
      "|  67740|   1654|    null|          4|          1|         2014|         1108|0.001986097318768...|9.025270758122744E-4|\n",
      "|  74271|   1654|    null|          4|          3|         2014|         1104|0.001986097318768...|0.002717391304347826|\n",
      "|  99871|   1654|    null|          4|          1|         2014|         1067|0.001986097318768...|9.372071227741331E-4|\n",
      "|  78570|   1654|    null|          4|          1|         2014|         1115|0.001986097318768...|8.968609865470852E-4|\n",
      "|  71942|   1654|    null|          4|          4|         2014|         1091|0.001986097318768...|0.003666361136571...|\n",
      "|  74367|   1654|    null|          4|          2|         2014|         1079|0.001986097318768...|0.001853568118628...|\n",
      "|  98628|   1654|    null|          4|          1|         2014|         1094|0.001986097318768...|9.140767824497258E-4|\n",
      "|  95887|   1654|    null|          4|          1|         2014|         1023|0.001986097318768...|9.775171065493646E-4|\n",
      "|  77795|   1654|    null|          4|         14|         2014|         1091|0.001986097318768...|0.012832263978001834|\n",
      "|  75152|   1654|    null|          4|          0|         2014|         1083|0.001986097318768...|                 0.0|\n",
      "|  74905|   1654|    null|          4|          1|         2014|         1076|0.001986097318768...|9.293680297397769E-4|\n",
      "|   9068|   1654|    null|          4|          8|         2014|         1123|0.001986097318768...|0.007123775601068566|\n",
      "|  72954|   1654|    null|          4|          2|         2014|         1092|0.001986097318768...|0.001831501831501...|\n",
      "| 102431|   1654|    null|          4|          1|         2014|         1094|0.001986097318768...|9.140767824497258E-4|\n",
      "+-------+-------+--------+-----------+-----------+-------------+-------------+--------------------+--------------------+\n",
      "only showing top 20 rows\n",
      "\n"
     ]
    }
   ],
   "source": [
    "test.show()"
   ]
  },
  {
   "cell_type": "code",
   "execution_count": 14,
   "metadata": {},
   "outputs": [
    {
     "data": {
      "text/plain": [
       "DataFrame[item_attempts: bigint, item_id: int]"
      ]
     },
     "execution_count": 14,
     "metadata": {},
     "output_type": "execute_result"
    }
   ],
   "source": [
    "train_choice.unpersist()\n",
    "item_choice.unpersist()\n",
    "train_user_attempts.unpersist()\n",
    "train_item_attempts.unpersist()"
   ]
  },
  {
   "cell_type": "code",
   "execution_count": 15,
   "metadata": {},
   "outputs": [],
   "source": [
    "from pyspark.ml.feature import VectorAssembler\n",
    "features = ['item_choice', 'user_choice', 'user_addict', 'item_addict']\n",
    "vecassembler = VectorAssembler(inputCols=features, outputCol=\"features\")\n",
    "\n",
    "train_data = vecassembler.transform(train).cache()\n",
    "valid_data = vecassembler.transform(valid)\n",
    "test_data = vecassembler.transform(test)"
   ]
  },
  {
   "cell_type": "code",
   "execution_count": 16,
   "metadata": {},
   "outputs": [],
   "source": [
    "from pyspark.ml.classification import GBTClassifier\n",
    "\n",
    "gbt = GBTClassifier(labelCol=\"purchase\", maxDepth=4, minInstancesPerNode=3, maxBins=50)\n",
    "\n",
    "gbt_model = gbt.fit(train_data)\n",
    "predictions_train = gbt_model.transform(train_data)\n",
    "predictions_valid = gbt_model.transform(valid_data)"
   ]
  },
  {
   "cell_type": "code",
   "execution_count": 20,
   "metadata": {},
   "outputs": [],
   "source": [
    "from pyspark.ml.evaluation import BinaryClassificationEvaluator\n",
    "evaluator = BinaryClassificationEvaluator(labelCol=\"purchase\", metricName='areaUnderROC')\n",
    "score_v = evaluator.evaluate(predictions_valid)\n",
    "score_tr = evaluator.evaluate(predictions_train)"
   ]
  },
  {
   "cell_type": "code",
   "execution_count": 21,
   "metadata": {},
   "outputs": [
    {
     "name": "stdout",
     "output_type": "stream",
     "text": [
      "0.9354502642651171\n",
      "0.8930571310198385\n"
     ]
    }
   ],
   "source": [
    "print(score_tr)\n",
    "print(score_v)"
   ]
  },
  {
   "cell_type": "code",
   "execution_count": 22,
   "metadata": {},
   "outputs": [],
   "source": [
    "test_predictions = gbt_model.transform(test_data)"
   ]
  },
  {
   "cell_type": "code",
   "execution_count": 23,
   "metadata": {},
   "outputs": [],
   "source": [
    "predictions_pd = test_predictions.select(\"user_id\", \"item_id\", col(\"probability\").alias(\"purchase\")).toPandas()\n",
    "predictions_pd = predictions_pd.sort_values(by=['user_id', 'item_id'])\n",
    "predictions_pd['purchase'] = predictions_pd['purchase'].apply(lambda x: x[1])\n",
    "predictions_pd.to_csv('lab03.csv', index=False)"
   ]
  },
  {
   "cell_type": "code",
   "execution_count": 24,
   "metadata": {},
   "outputs": [],
   "source": [
    "spark.stop()"
   ]
  }
 ],
 "metadata": {
  "kernelspec": {
   "display_name": "Python 3",
   "language": "python",
   "name": "python3"
  },
  "language_info": {
   "codemirror_mode": {
    "name": "ipython",
    "version": 3
   },
   "file_extension": ".py",
   "mimetype": "text/x-python",
   "name": "python",
   "nbconvert_exporter": "python",
   "pygments_lexer": "ipython3",
   "version": "3.6.5"
  }
 },
 "nbformat": 4,
 "nbformat_minor": 2
}
