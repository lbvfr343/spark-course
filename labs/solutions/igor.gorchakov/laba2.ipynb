{
 "cells": [
  {
   "cell_type": "code",
   "execution_count": 2,
   "metadata": {},
   "outputs": [],
   "source": [
    "#! hdfs dfs -ls /labs/slaba02/"
   ]
  },
  {
   "cell_type": "code",
   "execution_count": 3,
   "metadata": {},
   "outputs": [],
   "source": [
    "#!hdfs dfs -cat /labs/slaba02/DO_record_per_line.json"
   ]
  },
  {
   "cell_type": "code",
   "execution_count": 4,
   "metadata": {},
   "outputs": [],
   "source": [
    "#cp hdfs dfs /labs/slaba02/DO_record_per_line.json ~/"
   ]
  },
  {
   "cell_type": "code",
   "execution_count": 5,
   "metadata": {},
   "outputs": [],
   "source": [
    "#! hdfs dfs -copyToLocal /labs/slaba02/DO_record_per_line.json c:/temp/"
   ]
  },
  {
   "cell_type": "code",
   "execution_count": 6,
   "metadata": {},
   "outputs": [],
   "source": [
    "#!hdfs dfs -cat /labs/laba01/ml-100k/u.data"
   ]
  },
  {
   "cell_type": "code",
   "execution_count": 7,
   "metadata": {},
   "outputs": [],
   "source": [
    "#! hadoop fs -copyToLocal /labs/laba01/ml-100k/u.data "
   ]
  },
  {
   "cell_type": "code",
   "execution_count": 8,
   "metadata": {},
   "outputs": [],
   "source": [
    "#! hadoop fs -copyToLocal /labs/slaba02/DO_record_per_line.json"
   ]
  },
  {
   "cell_type": "code",
   "execution_count": 9,
   "metadata": {},
   "outputs": [],
   "source": [
    "import os\n",
    "import sys\n",
    "os.environ[\"PYSPARK_PYTHON\"]='/opt/anaconda/envs/bd9/bin/python'\n",
    "os.environ[\"SPARK_HOME\"]='/usr/hdp/current/spark2-client'\n",
    "os.environ[\"PYSPARK_SUBMIT_ARGS\"]='--num-executors 3 pyspark-shell'\n",
    "\n",
    "spark_home = os.environ.get('SPARK_HOME', None)\n",
    "\n",
    "sys.path.insert(0, os.path.join(spark_home, 'python'))\n",
    "sys.path.insert(0, os.path.join(spark_home, 'python/lib/py4j-0.10.7-src.zip'))"
   ]
  },
  {
   "cell_type": "code",
   "execution_count": 10,
   "metadata": {},
   "outputs": [],
   "source": [
    "import pyspark\n",
    "from pyspark import SparkConf\n",
    "from pyspark.sql import SparkSession\n",
    "import pyspark.sql.functions as f_\n",
    "\n",
    "from pyspark.ml.feature import HashingTF, IDF, Tokenizer, StopWordsRemover\n",
    "from pyspark.sql.types import FloatType \n",
    "from pyspark.sql.window import Window\n",
    "from pyspark.ml import Pipeline\n",
    "import json"
   ]
  },
  {
   "cell_type": "code",
   "execution_count": 11,
   "metadata": {},
   "outputs": [
    {
     "name": "stdout",
     "output_type": "stream",
     "text": [
      "+--------------------+--------------------+---+----+--------------------+--------------+\n",
      "|                 cat|                desc| id|lang|                name|      provider|\n",
      "+--------------------+--------------------+---+----+--------------------+--------------+\n",
      "|3/business_manage...|This course intro...|  4|  en|Accounting Cycle:...|Canvas Network|\n",
      "|              11/law|This online cours...|  5|  en|American Counter ...|Canvas Network|\n",
      "|5/computer_scienc...|This course is ta...|  6|  fr|Arithmétique: en ...|Canvas Network|\n",
      "|  14/social_sciences|We live in a digi...|  7|  en|Becoming a Dynami...|Canvas Network|\n",
      "|2/biology_life_sc...|This self-paced c...|  8|  en|           Bioethics|Canvas Network|\n",
      "|9/humanities|15/m...|This game-based c...|  9|  en|College Foundatio...|Canvas Network|\n",
      "|  14/social_sciences|What’s in your di...| 10|  en|Digital Literacies I|Canvas Network|\n",
      "|  14/social_sciences|The goal of the D...| 11|  en|Digital Literacie...|Canvas Network|\n",
      "|  14/social_sciences|Ready to explore ...| 12|  en|Digital Tools for...|Canvas Network|\n",
      "|  14/social_sciences|This self-paced c...| 13|  en|Discover Your Val...|Canvas Network|\n",
      "+--------------------+--------------------+---+----+--------------------+--------------+\n",
      "only showing top 10 rows\n",
      "\n"
     ]
    }
   ],
   "source": [
    "path = '/labs/slaba02/DO_record_per_line.json' # r'DO_record_per_line.json'\n",
    "\n",
    "conf = SparkConf() \n",
    "spark = SparkSession.builder.appName(\"LABA2\").config(conf=conf).getOrCreate()\n",
    "\n",
    "df = spark.read.json(path)\n",
    "df.show(10)\n",
    "df.count()\n",
    "\n",
    "courses_list = [[23126, u'en', u'Compass - powerful SASS library that makes your life easier'], [21617, u'en', u'Preparing for the AP* Computer Science A Exam \\u2014 Part 2'], [16627, u'es', u'Aprende Excel: Nivel Intermedio by Alfonso Rinsche'], [11556, u'es', u'Aprendizaje Colaborativo by UNID Universidad Interamericana para el Desarrollo'], [16704, u'ru', u'\\u041f\\u0440\\u043e\\u0433\\u0440\\u0430\\u043c\\u043c\\u0438\\u0440\\u043e\\u0432\\u0430\\u043d\\u0438\\u0435 \\u043d\\u0430 Lazarus'], [13702, u'ru', u'\\u041c\\u0430\\u0442\\u0435\\u043c\\u0430\\u0442\\u0438\\u0447\\u0435\\u0441\\u043a\\u0430\\u044f \\u044d\\u043a\\u043e\\u043d\\u043e\\u043c\\u0438\\u043a\\u0430']]\n",
    "pc_ids = [x[0] for x in courses_list]"
   ]
  },
  {
   "cell_type": "code",
   "execution_count": 12,
   "metadata": {},
   "outputs": [
    {
     "data": {
      "text/plain": [
       "640"
      ]
     },
     "execution_count": 12,
     "metadata": {},
     "output_type": "execute_result"
    }
   ],
   "source": [
    "@f_.udf(FloatType())\n",
    "def cosine_similarity(v, u):\n",
    "    return float(v.dot(u) / (v.norm(2) * u.norm(2)))\n",
    "\n",
    "regexp_clear = f_.lower(f_.regexp_replace('desc',r'[^\\pL0-9\\p{Space}]','' ))\n",
    "stop_words = list(set(StopWordsRemover.loadDefaultStopWords(\"english\") + StopWordsRemover.loadDefaultStopWords(\"russian\") + StopWordsRemover.loadDefaultStopWords(\"spanish\")))\n",
    "len(stop_words)"
   ]
  },
  {
   "cell_type": "code",
   "execution_count": 13,
   "metadata": {},
   "outputs": [],
   "source": [
    "data = spark.read.json(path)\n",
    "data2 = data.select(*data.columns ,regexp_clear.alias('desc2')).drop('desc')"
   ]
  },
  {
   "cell_type": "code",
   "execution_count": 14,
   "metadata": {},
   "outputs": [
    {
     "name": "stdout",
     "output_type": "stream",
     "text": [
      "+--------------------+---+----+--------------------+--------------+--------------------+--------------------+--------------------+--------------------+--------------------+\n",
      "|                 cat| id|lang|                name|      provider|               desc2|               words|      words_censored|                  tf|                 idf|\n",
      "+--------------------+---+----+--------------------+--------------+--------------------+--------------------+--------------------+--------------------+--------------------+\n",
      "|3/business_manage...|  4|  en|Accounting Cycle:...|Canvas Network|this course intro...|[this, course, in...|[course, introduc...|(262144,[4211,753...|(262144,[4211,753...|\n",
      "|              11/law|  5|  en|American Counter ...|Canvas Network|this online cours...|[this, online, co...|[online, course, ...|(262144,[1598,172...|(262144,[1598,172...|\n",
      "|5/computer_scienc...|  6|  fr|Arithmétique: en ...|Canvas Network|this course is ta...|[this, course, is...|[course, taught, ...|(262144,[7601,106...|(262144,[7601,106...|\n",
      "|  14/social_sciences|  7|  en|Becoming a Dynami...|Canvas Network|we live in a digi...|[we, live, in, a,...|[live, digitally,...|(262144,[836,4525...|(262144,[836,4525...|\n",
      "|2/biology_life_sc...|  8|  en|           Bioethics|Canvas Network|this selfpaced co...|[this, selfpaced,...|[selfpaced, cours...|(262144,[619,2042...|(262144,[619,2042...|\n",
      "|9/humanities|15/m...|  9|  en|College Foundatio...|Canvas Network|this gamebased co...|[this, gamebased,...|[gamebased, cours...|(262144,[1889,402...|(262144,[1889,402...|\n",
      "|  14/social_sciences| 10|  en|Digital Literacies I|Canvas Network|whats in your dig...|[whats, in, your,...|[whats, digital, ...|(262144,[12250,12...|(262144,[12250,12...|\n",
      "|  14/social_sciences| 11|  en|Digital Literacie...|Canvas Network|the goal of the d...|[the, goal, of, t...|[goal, digital, l...|(262144,[7416,183...|(262144,[7416,183...|\n",
      "|  14/social_sciences| 12|  en|Digital Tools for...|Canvas Network|ready to explore ...|[ready, to, explo...|[ready, explore, ...|(262144,[16121,18...|(262144,[16121,18...|\n",
      "|  14/social_sciences| 13|  en|Discover Your Val...|Canvas Network|this selfpaced co...|[this, selfpaced,...|[selfpaced, cours...|(262144,[25260,43...|(262144,[25260,43...|\n",
      "+--------------------+---+----+--------------------+--------------+--------------------+--------------------+--------------------+--------------------+--------------------+\n",
      "only showing top 10 rows\n",
      "\n"
     ]
    }
   ],
   "source": [
    "tokenizer = Tokenizer(inputCol = \"desc2\", outputCol = \"words\")\n",
    "stopwordsremover = StopWordsRemover(inputCol = \"words\", outputCol = \"words_censored\", stopWords = stop_words)\n",
    "tf = HashingTF(inputCol = \"words_censored\", outputCol=\"tf\")\n",
    "tfidf = IDF(inputCol = \"tf\", outputCol = \"idf\")\n",
    "\n",
    "pipeline = Pipeline(stages=[tokenizer, stopwordsremover, tf, tfidf ])\n",
    "pipeline_fit = pipeline.fit(data2)\n",
    "tfidf_data = pipeline_fit.transform(data2)\n",
    "tfidf_data.show(10)"
   ]
  },
  {
   "cell_type": "code",
   "execution_count": 16,
   "metadata": {},
   "outputs": [
    {
     "name": "stdout",
     "output_type": "stream",
     "text": [
      "+--------------------+-----+----+--------------------+--------+--------------------+--------------------+--------------------+--------------------+--------------------+-----+-------+--------------------+--------------------+\n",
      "|                 cat|   id|lang|                name|provider|               desc2|               words|      words_censored|                  tf|                 idf|pc_id|pc_lang|             pc_name|            pc_tfidf|\n",
      "+--------------------+-----+----+--------------------+--------+--------------------+--------------------+--------------------+--------------------+--------------------+-----+-------+--------------------+--------------------+\n",
      "|3/business_manage...| 9852|  en|How to Make Easy ...|   Udemy| its not luck and...|[, its, not, luck...|[, luck, accident...|(262144,[14,619,1...|(262144,[14,619,1...|21617|     en|Preparing for the...|(262144,[170,1079...|\n",
      "|3/business_manage...| 9852|  en|How to Make Easy ...|   Udemy| its not luck and...|[, its, not, luck...|[, luck, accident...|(262144,[14,619,1...|(262144,[14,619,1...|23126|     en|Compass - powerfu...|(262144,[1712,174...|\n",
      "|3/business_manage...|27037|  en|How to talk to ca...|   Udemy| speaking present...|[, speaking, pres...|[, speaking, pres...|(262144,[24933,27...|(262144,[24933,27...|21617|     en|Preparing for the...|(262144,[170,1079...|\n",
      "|3/business_manage...|27037|  en|How to talk to ca...|   Udemy| speaking present...|[, speaking, pres...|[, speaking, pres...|(262144,[24933,27...|(262144,[24933,27...|23126|     en|Compass - powerfu...|(262144,[1712,174...|\n",
      "|   1/arts_music_film| 9853|  en|How To Get Starte...|   Udemy| an easy to follo...|[, an, easy, to, ...|[, easy, follow, ...|(262144,[1488,166...|(262144,[1488,166...|21617|     en|Preparing for the...|(262144,[170,1079...|\n",
      "+--------------------+-----+----+--------------------+--------+--------------------+--------------------+--------------------+--------------------+--------------------+-----+-------+--------------------+--------------------+\n",
      "only showing top 5 rows\n",
      "\n",
      "+--------------------+-----+----+--------------------+--------------+--------------------+--------------------+--------------------+--------------------+--------------------+-----+-------+--------------------+--------------------+-----------+\n",
      "|                 cat|   id|lang|                name|      provider|               desc2|               words|      words_censored|                  tf|                 idf|pc_id|pc_lang|             pc_name|            pc_tfidf|        cos|\n",
      "+--------------------+-----+----+--------------------+--------------+--------------------+--------------------+--------------------+--------------------+--------------------+-----+-------+--------------------+--------------------+-----------+\n",
      "|3/business_manage...|    4|  en|Accounting Cycle:...|Canvas Network|this course intro...|[this, course, in...|[course, introduc...|(262144,[4211,753...|(262144,[4211,753...|21617|     en|Preparing for the...|(262144,[170,1079...|0.036375973|\n",
      "|3/business_manage...|    4|  en|Accounting Cycle:...|Canvas Network|this course intro...|[this, course, in...|[course, introduc...|(262144,[4211,753...|(262144,[4211,753...|23126|     en|Compass - powerfu...|(262144,[1712,174...|0.004999285|\n",
      "|3/business_manage...|20501|  en|Automated Outboun...|         Udemy| breakthrough the...|[, breakthrough, ...|[, breakthrough, ...|(262144,[571,3552...|(262144,[571,3552...|21617|     en|Preparing for the...|(262144,[170,1079...|0.008925539|\n",
      "|3/business_manage...|20501|  en|Automated Outboun...|         Udemy| breakthrough the...|[, breakthrough, ...|[, breakthrough, ...|(262144,[571,3552...|(262144,[571,3552...|23126|     en|Compass - powerfu...|(262144,[1712,174...|0.011494279|\n",
      "|              11/law|    5|  en|American Counter ...|Canvas Network|this online cours...|[this, online, co...|[online, course, ...|(262144,[1598,172...|(262144,[1598,172...|21617|     en|Preparing for the...|(262144,[170,1079...|0.010635298|\n",
      "+--------------------+-----+----+--------------------+--------------+--------------------+--------------------+--------------------+--------------------+--------------------+-----+-------+--------------------+--------------------+-----------+\n",
      "only showing top 5 rows\n",
      "\n",
      "+------------------+-----+----+--------------------+-----------+--------------------+--------------------+--------------------+--------------------+--------------------+-----+-------+--------------------+--------------------+----------+---+\n",
      "|               cat|   id|lang|                name|   provider|               desc2|               words|      words_censored|                  tf|                 idf|pc_id|pc_lang|             pc_name|            pc_tfidf|       cos|  n|\n",
      "+------------------+-----+----+--------------------+-----------+--------------------+--------------------+--------------------+--------------------+--------------------+-----+-------+--------------------+--------------------+----------+---+\n",
      "|5/computer_science|14760|  en|Foundation 4: Inc...|      Lynda|learn to style yo...|[learn, to, style...|[learn, style, fo...|(262144,[81677,94...|(262144,[81677,94...|23126|     en|Compass - powerfu...|(262144,[1712,174...|0.65625757|  1|\n",
      "|                  |13665|  en|The Next Step wit...|      Udemy| take your sass s...|[, take, your, sa...|[, take, sass, sk...|(262144,[13,3262,...|(262144,[13,3262,...|23126|     en|Compass - powerfu...|(262144,[1712,174...|0.55958426|  2|\n",
      "|5/computer_science|13782|  en|Assembling Sass P...|Code School|expand your sass ...|[expand, your, sa...|[expand, sass, ab...|(262144,[122484,1...|(262144,[122484,1...|23126|     en|Compass - powerfu...|(262144,[1712,174...|0.54971176|  3|\n",
      "|5/computer_science|15909|  en|Responsive CSS wi...|      Lynda|learn how compass...|[learn, how, comp...|[learn, compass, ...|(262144,[24374,70...|(262144,[24374,70...|23126|     en|Compass - powerfu...|(262144,[1712,174...|0.44367355|  4|\n",
      "|5/computer_science|19270|  en|Building a Respon...|      Lynda|learn how to buil...|[learn, how, to, ...|[learn, build, re...|(262144,[22798,29...|(262144,[22798,29...|23126|     en|Compass - powerfu...|(262144,[1712,174...|0.27975714|  5|\n",
      "+------------------+-----+----+--------------------+-----------+--------------------+--------------------+--------------------+--------------------+--------------------+-----+-------+--------------------+--------------------+----------+---+\n",
      "only showing top 5 rows\n",
      "\n"
     ]
    }
   ],
   "source": [
    "cross = tfidf_data.alias('a').crossJoin(tfidf_data.where(f_.col('id').isin(pc_ids)).alias('b'))\\\n",
    ".select('a.*', f_.col('b.id').alias('pc_id'), f_.col('b.lang').alias('pc_lang'), f_.col('b.name').alias('pc_name'), f_.col('b.idf').alias('pc_tfidf') )\\\n",
    ".filter(''' a.lang=pc_lang and pc_id !=id ''')\n",
    "cross.show(5)\n",
    "\n",
    "cross2 = cross.select('*',cosine_similarity('idf','pc_tfidf').alias('cos')).filter(''' cos !='NaN' ''')\n",
    "cross2.show(5)\n",
    "\n",
    "cross3 = cross2.select('*', f_.row_number().over(Window.partitionBy(\"pc_id\")\\\n",
    ".orderBy(f_.col('cos').desc(), f_.col('name'), f_.col('id'))).alias('n'))\\\n",
    ".filter('n<=10')\n",
    "cross3.show(5)\n"
   ]
  },
  {
   "cell_type": "code",
   "execution_count": 17,
   "metadata": {},
   "outputs": [
    {
     "name": "stdout",
     "output_type": "stream",
     "text": [
      "11556 : [16488, 468, 13461, 22710, 23357, 10447, 19330, 21707, 11523, 9465]\n",
      "13702 : [864, 21079, 8123, 1041, 28074, 13057, 1396, 1052, 1033, 8300]\n",
      "16627 : [11431, 12247, 12660, 5687, 17964, 16694, 12598, 11575, 12863, 21704]\n",
      "16704 : [1236, 1247, 1228, 1365, 1164, 1233, 1273, 20288, 8186, 8203]\n",
      "21617 : [21609, 21608, 21616, 21492, 21624, 21623, 21703, 21630, 21628, 21508]\n",
      "23126 : [14760, 13665, 13782, 15909, 19270, 25782, 17499, 13348, 7153, 25071]\n"
     ]
    }
   ],
   "source": [
    "recomendation = cross3.groupBy(f_.col('pc_id')).agg(f_.collect_list(f_.col('id')).alias('top_10_ids')).orderBy('pc_id').collect()\n",
    "res = {}\n",
    "for r in recomendation:\n",
    "    res[str(r[0])] = r[1]\n",
    "    print(str(r[0]),':',r[1])\n",
    "\n",
    "with open('lab02.json', 'w') as f:\n",
    "    json.dump(res, f, indent=3)\n"
   ]
  },
  {
   "cell_type": "code",
   "execution_count": null,
   "metadata": {},
   "outputs": [],
   "source": [
    "spark.stop()"
   ]
  },
  {
   "cell_type": "code",
   "execution_count": null,
   "metadata": {},
   "outputs": [],
   "source": []
  },
  {
   "cell_type": "code",
   "execution_count": null,
   "metadata": {},
   "outputs": [],
   "source": []
  }
 ],
 "metadata": {
  "kernelspec": {
   "display_name": "Python 3",
   "language": "python",
   "name": "python3"
  },
  "language_info": {
   "codemirror_mode": {
    "name": "ipython",
    "version": 3
   },
   "file_extension": ".py",
   "mimetype": "text/x-python",
   "name": "python",
   "nbconvert_exporter": "python",
   "pygments_lexer": "ipython3",
   "version": "3.6.5"
  }
 },
 "nbformat": 4,
 "nbformat_minor": 2
}
