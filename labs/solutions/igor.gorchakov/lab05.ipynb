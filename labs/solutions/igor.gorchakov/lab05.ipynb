{
 "cells": [
  {
   "cell_type": "code",
   "execution_count": 1,
   "metadata": {},
   "outputs": [],
   "source": [
    "import org.apache.spark.SparkConf\n",
    "import org.apache.spark.sql.SparkSession\n",
    "import sys.process._"
   ]
  },
  {
   "cell_type": "code",
   "execution_count": 2,
   "metadata": {},
   "outputs": [
    {
     "data": {
      "text/plain": [
       "conf = org.apache.spark.SparkConf@6dc8adb8\n"
      ]
     },
     "metadata": {},
     "output_type": "display_data"
    },
    {
     "data": {
      "text/plain": [
       "org.apache.spark.SparkConf@6dc8adb8"
      ]
     },
     "execution_count": 2,
     "metadata": {},
     "output_type": "execute_result"
    }
   ],
   "source": [
    "val conf = new SparkConf()"
   ]
  },
  {
   "cell_type": "code",
   "execution_count": 3,
   "metadata": {},
   "outputs": [
    {
     "data": {
      "text/plain": [
       "spark = org.apache.spark.sql.SparkSession@3e9e2535\n"
      ]
     },
     "metadata": {},
     "output_type": "display_data"
    },
    {
     "data": {
      "text/plain": [
       "org.apache.spark.sql.SparkSession@3e9e2535"
      ]
     },
     "execution_count": 3,
     "metadata": {},
     "output_type": "execute_result"
    }
   ],
   "source": [
    "val spark = SparkSession.builder.appName(\"LABA5\").config(conf).getOrCreate()"
   ]
  },
  {
   "cell_type": "code",
   "execution_count": 4,
   "metadata": {},
   "outputs": [
    {
     "name": "stdout",
     "output_type": "stream",
     "text": [
      "Found 2 items\n",
      "-rw-r--r--   3 hdfs hdfs   24271415 2022-01-06 18:46 /labs/slaba05/lab05_test.csv\n",
      "-rw-r--r--   3 hdfs hdfs  176160768 2022-01-06 18:46 /labs/slaba05/lab05_train.csv\n"
     ]
    },
    {
     "data": {
      "text/plain": [
       "warning: there was one feature warning; re-run with -feature for details\n"
      ]
     },
     "metadata": {},
     "output_type": "display_data"
    },
    {
     "data": {
      "text/plain": [
       "0"
      ]
     },
     "execution_count": 4,
     "metadata": {},
     "output_type": "execute_result"
    }
   ],
   "source": [
    "\"hdfs dfs -ls /labs/slaba05/\" !"
   ]
  },
  {
   "cell_type": "code",
   "execution_count": 5,
   "metadata": {},
   "outputs": [
    {
     "data": {
      "text/plain": [
       "df_train_raw = [_c0: int, ID: int ... 115 more fields]\n"
      ]
     },
     "metadata": {},
     "output_type": "display_data"
    },
    {
     "data": {
      "text/plain": [
       "[_c0: int, ID: int ... 115 more fields]"
      ]
     },
     "execution_count": 5,
     "metadata": {},
     "output_type": "execute_result"
    }
   ],
   "source": [
    "val df_train_raw = spark.read.format(\"csv\").option(\"dilimeter\", \",\").option(\"inferSchema\", \"true\").option(\"header\", \"true\").load(\"/labs/slaba05/lab05_train.csv\")"
   ]
  },
  {
   "cell_type": "code",
   "execution_count": 6,
   "metadata": {},
   "outputs": [
    {
     "data": {
      "text/plain": [
       "df_test_raw = [_c0: int, ID: int ... 114 more fields]\n"
      ]
     },
     "metadata": {},
     "output_type": "display_data"
    },
    {
     "data": {
      "text/plain": [
       "[_c0: int, ID: int ... 114 more fields]"
      ]
     },
     "execution_count": 6,
     "metadata": {},
     "output_type": "execute_result"
    }
   ],
   "source": [
    "val df_test_raw = spark.read.format(\"csv\").option(\"inferSchema\", \"true\").option(\"dilimeter\", \",\").option(\"header\", \"true\").load(\"/labs/slaba05/lab05_test.csv\")"
   ]
  },
  {
   "cell_type": "code",
   "execution_count": 7,
   "metadata": {},
   "outputs": [],
   "source": [
    "import org.apache.spark.sql.functions.udf\n",
    "import org.apache.spark.sql.functions.col\n",
    "import org.apache.spark.ml.feature.OneHotEncoder\n",
    "import org.apache.spark.ml.feature.VectorAssembler\n",
    "import org.apache.spark.ml.classification.GBTClassifier\n",
    "import org.apache.spark.ml.Pipeline\n",
    "import org.apache.spark.ml.linalg.Vector"
   ]
  },
  {
   "cell_type": "code",
   "execution_count": 8,
   "metadata": {},
   "outputs": [
    {
     "data": {
      "text/plain": [
       "ageToGroup = UserDefinedFunction(<function1>,IntegerType,Some(List(IntegerType)))\n"
      ]
     },
     "metadata": {},
     "output_type": "display_data"
    },
    {
     "data": {
      "text/plain": [
       "UserDefinedFunction(<function1>,IntegerType,Some(List(IntegerType)))"
      ]
     },
     "execution_count": 8,
     "metadata": {},
     "output_type": "execute_result"
    }
   ],
   "source": [
    "val ageToGroup = udf((age: Int) => if (age < 288) 0 else if (age < 408) 1 else if (age < 528) 2 else if (age < 648) 3 else 4)"
   ]
  },
  {
   "cell_type": "code",
   "execution_count": 9,
   "metadata": {},
   "outputs": [
    {
     "data": {
      "text/plain": [
       "df_train = [_c0: int, ID: int ... 116 more fields]\n"
      ]
     },
     "metadata": {},
     "output_type": "display_data"
    },
    {
     "data": {
      "text/plain": [
       "[_c0: int, ID: int ... 116 more fields]"
      ]
     },
     "execution_count": 9,
     "metadata": {},
     "output_type": "execute_result"
    }
   ],
   "source": [
    "val df_train = df_train_raw.withColumn(\"AGE_GROUP\", ageToGroup(col(\"AGE\")))"
   ]
  },
  {
   "cell_type": "code",
   "execution_count": 10,
   "metadata": {},
   "outputs": [
    {
     "data": {
      "text/plain": [
       "df_test = [_c0: int, ID: int ... 115 more fields]\n"
      ]
     },
     "metadata": {},
     "output_type": "display_data"
    },
    {
     "data": {
      "text/plain": [
       "[_c0: int, ID: int ... 115 more fields]"
      ]
     },
     "execution_count": 10,
     "metadata": {},
     "output_type": "execute_result"
    }
   ],
   "source": [
    "val df_test = df_test_raw.withColumn(\"AGE_GROUP\", ageToGroup(col(\"AGE\")))"
   ]
  },
  {
   "cell_type": "code",
   "execution_count": 11,
   "metadata": {},
   "outputs": [
    {
     "data": {
      "text/plain": [
       "ohEncoder = oneHot_5538bcc52672\n"
      ]
     },
     "metadata": {},
     "output_type": "display_data"
    },
    {
     "data": {
      "text/plain": [
       "warning: there was one deprecation warning; re-run with -deprecation for details\n"
      ]
     },
     "metadata": {},
     "output_type": "display_data"
    },
    {
     "data": {
      "text/plain": [
       "oneHot_5538bcc52672"
      ]
     },
     "execution_count": 11,
     "metadata": {},
     "output_type": "execute_result"
    }
   ],
   "source": [
    "val ohEncoder = new OneHotEncoder().setDropLast(true).setInputCol(\"AGE_GROUP\").setOutputCol(\"AGE_VEC\")"
   ]
  },
  {
   "cell_type": "code",
   "execution_count": 12,
   "metadata": {},
   "outputs": [
    {
     "data": {
      "text/plain": [
       "assembler = vecAssembler_2dbd7f4885e2\n"
      ]
     },
     "metadata": {},
     "output_type": "display_data"
    },
    {
     "data": {
      "text/plain": [
       "vecAssembler_2dbd7f4885e2"
      ]
     },
     "execution_count": 12,
     "metadata": {},
     "output_type": "execute_result"
    }
   ],
   "source": [
    "val assembler = new VectorAssembler().setInputCols(Array(\"CR_PROD_CNT_IL\", \"TURNOVER_DYNAMIC_IL_1M\", \"REST_DYNAMIC_FDEP_1M\", \"REST_DYNAMIC_SAVE_3M\",\n",
    "        \"CR_PROD_CNT_VCU\", \"REST_AVG_CUR\", \"CR_PROD_CNT_TOVR\", \"CR_PROD_CNT_PIL\", \"TURNOVER_CC\", \"TURNOVER_PAYM\", \"CR_PROD_CNT_CC\", \"REST_DYNAMIC_FDEP_3M\",\n",
    "        \"REST_DYNAMIC_IL_1M\", \"CR_PROD_CNT_CCFP\", \"REST_DYNAMIC_CUR_1M\", \"REST_AVG_PAYM\", \"LDEAL_GRACE_DAYS_PCT_MED\", \"REST_DYNAMIC_CUR_3M\", \"TURNOVER_DYNAMIC_CUR_1M\",\n",
    "        \"REST_DYNAMIC_PAYM_3M\", \"REST_DYNAMIC_IL_3M\", \"TURNOVER_DYNAMIC_IL_3M\", \"REST_DYNAMIC_PAYM_1M\", \"TURNOVER_DYNAMIC_CUR_3M\", \"CLNT_SETUP_TENOR\",\n",
    "        \"TURNOVER_DYNAMIC_PAYM_3M\",  \"TURNOVER_DYNAMIC_PAYM_1M\", \"REST_DYNAMIC_CC_1M\", \"TURNOVER_DYNAMIC_CC_1M\", \"REST_DYNAMIC_CC_3M\", \"TURNOVER_DYNAMIC_CC_3M\", \"AGE_VEC\"\n",
    "    )).setOutputCol(\"features\")"
   ]
  },
  {
   "cell_type": "code",
   "execution_count": 13,
   "metadata": {},
   "outputs": [
    {
     "data": {
      "text/plain": [
       "gbt = gbtc_3e69ab984f54\n"
      ]
     },
     "metadata": {},
     "output_type": "display_data"
    },
    {
     "data": {
      "text/plain": [
       "gbtc_3e69ab984f54"
      ]
     },
     "execution_count": 13,
     "metadata": {},
     "output_type": "execute_result"
    }
   ],
   "source": [
    "val gbt = new GBTClassifier().setFeaturesCol(\"features\").setLabelCol(\"TARGET\")"
   ]
  },
  {
   "cell_type": "code",
   "execution_count": 14,
   "metadata": {},
   "outputs": [
    {
     "data": {
      "text/plain": [
       "pipeline = pipeline_db14f3b3188b\n"
      ]
     },
     "metadata": {},
     "output_type": "display_data"
    },
    {
     "data": {
      "text/plain": [
       "pipeline_db14f3b3188b"
      ]
     },
     "execution_count": 14,
     "metadata": {},
     "output_type": "execute_result"
    }
   ],
   "source": [
    "val pipeline = new Pipeline().setStages(Array(ohEncoder, assembler, gbt))"
   ]
  },
  {
   "cell_type": "code",
   "execution_count": 15,
   "metadata": {},
   "outputs": [
    {
     "data": {
      "text/plain": [
       "df_train_clear = [_c0: int, ID: int ... 116 more fields]\n"
      ]
     },
     "metadata": {},
     "output_type": "display_data"
    },
    {
     "data": {
      "text/plain": [
       "[_c0: int, ID: int ... 116 more fields]"
      ]
     },
     "execution_count": 15,
     "metadata": {},
     "output_type": "execute_result"
    }
   ],
   "source": [
    "val df_train_clear = df_train.filter(col(\"TURNOVER_CC\").isNotNull)"
   ]
  },
  {
   "cell_type": "code",
   "execution_count": 16,
   "metadata": {},
   "outputs": [
    {
     "data": {
      "text/plain": [
       "model = pipeline_db14f3b3188b\n"
      ]
     },
     "metadata": {},
     "output_type": "display_data"
    },
    {
     "data": {
      "text/plain": [
       "pipeline_db14f3b3188b"
      ]
     },
     "execution_count": 16,
     "metadata": {},
     "output_type": "execute_result"
    }
   ],
   "source": [
    "val model = pipeline.fit(df_train_clear)"
   ]
  },
  {
   "cell_type": "code",
   "execution_count": 17,
   "metadata": {},
   "outputs": [
    {
     "data": {
      "text/plain": [
       "predictions = [_c0: int, ID: int ... 120 more fields]\n"
      ]
     },
     "metadata": {},
     "output_type": "display_data"
    },
    {
     "data": {
      "text/plain": [
       "[_c0: int, ID: int ... 120 more fields]"
      ]
     },
     "execution_count": 17,
     "metadata": {},
     "output_type": "execute_result"
    }
   ],
   "source": [
    "val predictions = model.transform(df_test)"
   ]
  },
  {
   "cell_type": "code",
   "execution_count": 18,
   "metadata": {},
   "outputs": [
    {
     "data": {
      "text/plain": [
       "getProb = UserDefinedFunction(<function1>,DoubleType,Some(List(org.apache.spark.ml.linalg.VectorUDT@3bfc3ba7)))\n"
      ]
     },
     "metadata": {},
     "output_type": "display_data"
    },
    {
     "data": {
      "text/plain": [
       "UserDefinedFunction(<function1>,DoubleType,Some(List(org.apache.spark.ml.linalg.VectorUDT@3bfc3ba7)))"
      ]
     },
     "execution_count": 18,
     "metadata": {},
     "output_type": "execute_result"
    }
   ],
   "source": [
    "val getProb = udf((prob: Vector) => prob(1))"
   ]
  },
  {
   "cell_type": "code",
   "execution_count": 19,
   "metadata": {},
   "outputs": [
    {
     "data": {
      "text/plain": [
       "res = [id: int, target: double]\n"
      ]
     },
     "metadata": {},
     "output_type": "display_data"
    },
    {
     "data": {
      "text/plain": [
       "[id: int, target: double]"
      ]
     },
     "execution_count": 19,
     "metadata": {},
     "output_type": "execute_result"
    }
   ],
   "source": [
    "val res = predictions.withColumn(\"prob\", getProb(col(\"probability\"))).select(col(\"ID\").as(\"id\"), col(\"prob\").as(\"target\")).repartition(1)"
   ]
  },
  {
   "cell_type": "code",
   "execution_count": 20,
   "metadata": {},
   "outputs": [
    {
     "name": "stdout",
     "output_type": "stream",
     "text": [
      "Found 2 items\n",
      "-rw-r--r--   3 igor.gorchakov igor.gorchakov          0 2022-11-07 21:02 lab05.csv/_SUCCESS\n",
      "-rw-r--r--   3 igor.gorchakov igor.gorchakov    1195350 2022-11-07 21:02 lab05.csv/part-00000-fd7979e4-abaf-4c74-a35e-926e93f5675e-c000.csv\n"
     ]
    },
    {
     "data": {
      "text/plain": [
       "warning: there was one feature warning; re-run with -feature for details\n"
      ]
     },
     "metadata": {},
     "output_type": "display_data"
    },
    {
     "data": {
      "text/plain": [
       "0"
      ]
     },
     "execution_count": 20,
     "metadata": {},
     "output_type": "execute_result"
    }
   ],
   "source": [
    "\"hdfs dfs -ls lab05.csv\" !"
   ]
  },
  {
   "cell_type": "code",
   "execution_count": 24,
   "metadata": {},
   "outputs": [
    {
     "data": {
      "text/plain": [
       "warning: there was one feature warning; re-run with -feature for details\n"
      ]
     },
     "metadata": {},
     "output_type": "display_data"
    },
    {
     "data": {
      "text/plain": [
       "0"
      ]
     },
     "execution_count": 24,
     "metadata": {},
     "output_type": "execute_result"
    }
   ],
   "source": [
    "\"hdfs dfs -copyToLocal lab05.csv/part-00000-fd7979e4-abaf-4c74-a35e-926e93f5675e-c000.csv lab05.csv\" !"
   ]
  },
  {
   "cell_type": "code",
   "execution_count": 25,
   "metadata": {},
   "outputs": [
    {
     "name": "stdout",
     "output_type": "stream",
     "text": [
      "total 1182632\n",
      "-rw-rw-r-- 1 igor.gorchakov igor.gorchakov      1089 Oct 11 19:34 03 Spark DataFrame.ipynb\n",
      "-rw-r--r-- 1 igor.gorchakov igor.gorchakov  69519728 Oct 12 23:25 DO_record_per_line.json\n",
      "-rw-rw-r-- 1 igor.gorchakov igor.gorchakov      8884 Oct  8 11:04 first sc_SparkContext.ipynb\n",
      "-rw-rw-r-- 1 igor.gorchakov igor.gorchakov       162 Oct 12 20:57 lab01.json\n",
      "-rw-rw-r-- 1 igor.gorchakov igor.gorchakov       162 Oct 23 17:05 lab01_ttt.json\n",
      "-rw-rw-r-- 1 igor.gorchakov igor.gorchakov       874 Nov  1 14:11 lab02.json\n",
      "-rw-rw-r-- 1 igor.gorchakov igor.gorchakov  71530040 Nov  4 20:08 lab03.csv\n",
      "-rw-r--r-- 1 igor.gorchakov igor.gorchakov   1195350 Nov  7 21:15 lab05_.csv\n",
      "-rw-r--r-- 1 igor.gorchakov igor.gorchakov   1195350 Nov  8 22:03 lab05.csv\n",
      "-rw-rw-r-- 1 igor.gorchakov igor.gorchakov     17057 Nov  8 22:02 lab05.ipynb\n",
      "-rw-rw-r-- 1 igor.gorchakov igor.gorchakov    119969 Nov  8 21:48 lab05 tg buddy.ipynb\n",
      "-rw-rw-r-- 1 igor.gorchakov igor.gorchakov     10022 Oct 30 17:21 laba01.ipynb\n",
      "-rw-r--r-- 1 igor.gorchakov igor.gorchakov  91066524 Oct 13 19:51 laba03_items.csv\n",
      "-rw-r--r-- 1 igor.gorchakov igor.gorchakov  29965581 Oct 13 19:52 laba03_test.csv\n",
      "-rw-r--r-- 1 igor.gorchakov igor.gorchakov  74949368 Oct 13 19:52 laba03_train.csv\n",
      "-rw-r--r-- 1 igor.gorchakov igor.gorchakov 871302535 Oct 13 19:52 laba03_views_programmes.csv\n",
      "-rw-rw-r-- 1 igor.gorchakov igor.gorchakov     19029 Nov  1 14:12 laba2.ipynb\n",
      "-rw-rw-r-- 1 igor.gorchakov igor.gorchakov     31675 Nov  4 20:08 laba3.ipynb\n",
      "-rw-rw-r-- 1 igor.gorchakov igor.gorchakov       555 Oct 23 15:29 out.ipynb\n",
      "-rw-rw-r-- 1 igor.gorchakov igor.gorchakov       555 Oct 23 15:55 out Untitled1.ipynb\n",
      "-rw-rw-r-- 1 igor.gorchakov igor.gorchakov     13977 Oct 23 15:57 spark 1 intro RDD.ipynb\n"
     ]
    },
    {
     "data": {
      "text/plain": [
       "warning: there was one feature warning; re-run with -feature for details\n"
      ]
     },
     "metadata": {},
     "output_type": "display_data"
    },
    {
     "data": {
      "text/plain": [
       "0"
      ]
     },
     "execution_count": 25,
     "metadata": {},
     "output_type": "execute_result"
    }
   ],
   "source": [
    "\"ls -l\" !"
   ]
  },
  {
   "cell_type": "code",
   "execution_count": 23,
   "metadata": {},
   "outputs": [
    {
     "data": {
      "text/plain": [
       "Name: Syntax Error.\n",
       "Message: \n",
       "StackTrace: "
      ]
     },
     "execution_count": 23,
     "metadata": {},
     "output_type": "execute_result"
    }
   ],
   "source": [
    "// spark.stop()"
   ]
  }
 ],
 "metadata": {
  "kernelspec": {
   "display_name": "Apache Toree - Scala",
   "language": "scala",
   "name": "apache_toree_scala"
  },
  "language_info": {
   "codemirror_mode": "text/x-scala",
   "file_extension": ".scala",
   "mimetype": "text/x-scala",
   "name": "scala",
   "pygments_lexer": "scala",
   "version": "2.11.12"
  }
 },
 "nbformat": 4,
 "nbformat_minor": 2
}
