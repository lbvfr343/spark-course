{
 "cells": [
  {
   "cell_type": "code",
   "execution_count": 1,
   "metadata": {},
   "outputs": [
    {
     "name": "stdout",
     "output_type": "stream",
     "text": [
      "Welcome to\n",
      "      ____              __\n",
      "     / __/__  ___ _____/ /__\n",
      "    _\\ \\/ _ \\/ _ `/ __/  '_/\n",
      "   /__ / .__/\\_,_/_/ /_/\\_\\   version 2.4.7\n",
      "      /_/\n",
      "\n",
      "Using Python version 3.6.5 (default, Apr 29 2018 16:14:56)\n",
      "SparkSession available as 'spark'.\n"
     ]
    }
   ],
   "source": [
    "import os\n",
    "import sys\n",
    "os.environ[\"PYSPARK_SUBMIT_ARGS\"]='--num-executors 3 pyspark-shell'\n",
    "os.environ[\"PYSPARK_PYTHON\"]='/opt/anaconda/envs/bd9/bin/python'\n",
    "os.environ[\"SPARK_HOME\"]='/usr/hdp/current/spark2-client'\n",
    "\n",
    "spark_home = os.environ.get('SPARK_HOME', None)\n",
    "if not spark_home:\n",
    "    raise ValueError('SPARK_HOME environment variable is not set')\n",
    "sys.path.insert(0, os.path.join(spark_home, 'python'))\n",
    "sys.path.insert(0, os.path.join(spark_home, 'python/lib/py4j-0.10.7-src.zip'))\n",
    "exec(open(os.path.join(spark_home, 'python/pyspark/shell.py')).read())"
   ]
  },
  {
   "cell_type": "code",
   "execution_count": 66,
   "metadata": {},
   "outputs": [],
   "source": [
    "from pyspark.sql.functions import json_tuple, from_json, get_json_object, col, explode, expr, \\\n",
    "collect_set, collect_list,regexp_replace, get_json_object, to_json, struct\n",
    "import pyspark.sql.types as t\n",
    "import pyspark.sql.functions as f\n",
    "\n",
    "from pyspark.sql.types import StructField, StructType, StringType, ArrayType, IntegerType, TimestampType, LongType\n",
    "from pyspark.ml.feature import HashingTF, IDF, Tokenizer, StopWordsRemover, StringIndexer, IndexToString\n",
    "from pyspark.ml import Pipeline, PipelineModel\n",
    "from pyspark.ml.linalg import Vector, DenseVector\n",
    "from pyspark.ml.classification import LogisticRegression ,DecisionTreeClassifier, RandomForestClassifier\n",
    "from pyspark.ml.evaluation import MulticlassClassificationEvaluator\n",
    "import json, pprint"
   ]
  },
  {
   "cell_type": "code",
   "execution_count": 3,
   "metadata": {},
   "outputs": [
    {
     "name": "stdout",
     "output_type": "stream",
     "text": [
      "Found 1 items\r\n",
      "-rw-r--r--   3 hdfs hdfs  655090069 2022-01-06 18:46 /labs/slaba04/gender_age_dataset.txt\r\n"
     ]
    }
   ],
   "source": [
    "!hdfs dfs -ls /labs/slaba04/"
   ]
  },
  {
   "cell_type": "code",
   "execution_count": 6,
   "metadata": {},
   "outputs": [],
   "source": [
    "spark_df = spark.read.csv(\"/labs/slaba04/gender_age_dataset.txt\", header=True, inferSchema=True, sep='\\t')"
   ]
  },
  {
   "cell_type": "code",
   "execution_count": 7,
   "metadata": {},
   "outputs": [
    {
     "name": "stdout",
     "output_type": "stream",
     "text": [
      "root\n",
      " |-- gender: string (nullable = true)\n",
      " |-- age: string (nullable = true)\n",
      " |-- uid: string (nullable = true)\n",
      " |-- user_json: string (nullable = true)\n",
      "\n"
     ]
    }
   ],
   "source": [
    "spark_df.printSchema()"
   ]
  },
  {
   "cell_type": "code",
   "execution_count": 8,
   "metadata": {},
   "outputs": [],
   "source": [
    "VisitsType = StructType([\n",
    "    StructField(\"visits\", ArrayType(\n",
    "        StructType([\n",
    "            StructField(\"url\", StringType(), True),\n",
    "            StructField(\"timestamp\", LongType(), True) \n",
    "            ])\n",
    "        ))\n",
    "    ])"
   ]
  },
  {
   "cell_type": "code",
   "execution_count": 9,
   "metadata": {},
   "outputs": [],
   "source": [
    "spark_df_flattened = spark_df \\\n",
    "    .withColumn(\"visits\", from_json(col(\"user_json\"), VisitsType)) \\\n",
    "    .withColumn(\"visit\", explode(\"visits.visits\").alias(\"visit\")) \\\n",
    "    .withColumn(\"host\", expr(\"parse_url(visit.url, 'HOST')\").alias(\"host\")) \\\n",
    "    .drop(\"visits\", \"visit\",\"user_json\")"
   ]
  },
  {
   "cell_type": "code",
   "execution_count": 10,
   "metadata": {},
   "outputs": [],
   "source": [
    "df_final = spark_df_flattened \\\n",
    "    .groupBy(\"gender\", \"age\", \"uid\") \\\n",
    "    .agg(collect_list(\"host\") \\\n",
    "    .alias(\"hosts\"))"
   ]
  },
  {
   "cell_type": "code",
   "execution_count": 21,
   "metadata": {},
   "outputs": [],
   "source": [
    "X_train, X_test = df_final.randomSplit([0.8, 0.2], seed=7575)"
   ]
  },
  {
   "cell_type": "code",
   "execution_count": 13,
   "metadata": {},
   "outputs": [],
   "source": [
    "hashing_TF = HashingTF(inputCol=\"hosts\", outputCol=\"rawFeatures\", numFeatures=10000, binary=False)\n",
    "indexer_age = StringIndexer(inputCol=\"age\", outputCol=\"ageIndex\").fit(df_final)\n",
    "indexer_gender = StringIndexer(inputCol=\"gender\", outputCol=\"genderIndex\").fit(df_final)"
   ]
  },
  {
   "cell_type": "code",
   "execution_count": 14,
   "metadata": {},
   "outputs": [],
   "source": [
    "rf_age = RandomForestClassifier(featuresCol = 'rawFeatures', labelCol = 'ageIndex', \n",
    "                           predictionCol=\"age_index_prediction\", rawPredictionCol=\"age_index_raw_prediction\",\n",
    "                           probabilityCol = \"age_probability\")"
   ]
  },
  {
   "cell_type": "code",
   "execution_count": 15,
   "metadata": {},
   "outputs": [],
   "source": [
    "rf_gender = RandomForestClassifier(featuresCol = 'rawFeatures', labelCol = 'genderIndex',\n",
    "                              predictionCol=\"gender_index_prediction\", rawPredictionCol=\"gender_index_raw_prediction\",\n",
    "                              probabilityCol = \"gender_probability\")"
   ]
  },
  {
   "cell_type": "code",
   "execution_count": 16,
   "metadata": {},
   "outputs": [],
   "source": [
    "converter_age = IndexToString(inputCol=\"age_index_prediction\", outputCol=\"PredictedAge\", labels=indexer_age.labels)"
   ]
  },
  {
   "cell_type": "code",
   "execution_count": 17,
   "metadata": {},
   "outputs": [],
   "source": [
    "converter_gender = IndexToString(inputCol=\"gender_index_prediction\", outputCol=\"PredictedGender\", labels=indexer_gender.labels)"
   ]
  },
  {
   "cell_type": "code",
   "execution_count": 18,
   "metadata": {},
   "outputs": [],
   "source": [
    "pipeline = Pipeline(stages=[hashing_TF, indexer_age, indexer_gender, rf_age, rf_gender, \n",
    "                            converter_age, converter_gender])"
   ]
  },
  {
   "cell_type": "code",
   "execution_count": 19,
   "metadata": {},
   "outputs": [],
   "source": [
    "model = pipeline.fit(X_train)"
   ]
  },
  {
   "cell_type": "code",
   "execution_count": 22,
   "metadata": {},
   "outputs": [],
   "source": [
    "predictions = model.transform(X_test)"
   ]
  },
  {
   "cell_type": "code",
   "execution_count": 23,
   "metadata": {},
   "outputs": [
    {
     "name": "stdout",
     "output_type": "stream",
     "text": [
      "Accuracy for age: 0.37657569452943335\n",
      "Accuracy for gender: 0.48941378044303024\n"
     ]
    }
   ],
   "source": [
    "evaluator_age = MulticlassClassificationEvaluator(\n",
    "    labelCol=\"ageIndex\", predictionCol=\"age_index_prediction\", metricName=\"accuracy\")\n",
    "accuracy_age = evaluator_age.evaluate(predictions)\n",
    "evaluator_gender = MulticlassClassificationEvaluator(\n",
    "    labelCol=\"genderIndex\", predictionCol=\"gender_index_prediction\", metricName=\"accuracy\")\n",
    "accuracy_gender = evaluator_gender.evaluate(predictions)\n",
    "\n",
    "print(\"Accuracy for age: \" + str(accuracy_age))\n",
    "print(\"Accuracy for gender: \" + str(accuracy_gender))"
   ]
  },
  {
   "cell_type": "code",
   "execution_count": 24,
   "metadata": {},
   "outputs": [],
   "source": [
    "model.write().overwrite().save(\"/user/dmitriy.chausov/lab04_model\")"
   ]
  },
  {
   "cell_type": "code",
   "execution_count": 25,
   "metadata": {},
   "outputs": [
    {
     "name": "stdout",
     "output_type": "stream",
     "text": [
      "395    1185    /user/dmitriy.chausov/lab04_model/metadata\r\n",
      "89464  268392  /user/dmitriy.chausov/lab04_model/stages\r\n"
     ]
    }
   ],
   "source": [
    "!hdfs dfs -du /user/dmitriy.chausov/lab04_model"
   ]
  },
  {
   "cell_type": "markdown",
   "metadata": {},
   "source": [
    "# 2. "
   ]
  },
  {
   "cell_type": "code",
   "execution_count": 61,
   "metadata": {},
   "outputs": [],
   "source": [
    "KAFKA_BOOTSTRAP_SERVER = 'spark-node-1.newprolab.com:6667'\n",
    "KAFKA_INPUT_TOPIC = 'input_dmitriy.chausov'\n",
    "KAFKA_OUTPUT_TOPIC = 'dmitriy.chausov'"
   ]
  },
  {
   "cell_type": "code",
   "execution_count": 110,
   "metadata": {},
   "outputs": [],
   "source": [
    "# чтение в статическом режиме\n",
    "\n",
    "kafka_read_df = (\n",
    "    spark.read\n",
    "    .format('kafka')\n",
    "    .option('kafka.bootstrap.servers', KAFKA_BOOTSTRAP_SERVER)\n",
    "    .option('subscribe', KAFKA_INPUT_TOPIC)\n",
    "    .option('startingOffsets', 'earliest')\n",
    "    .option('failOnDataLoss', 'False')\n",
    "    .load()\n",
    "    .cache()\n",
    ")"
   ]
  },
  {
   "cell_type": "code",
   "execution_count": 111,
   "metadata": {
    "scrolled": true
   },
   "outputs": [
    {
     "name": "stdout",
     "output_type": "stream",
     "text": [
      "+--------------------+--------------------+\n",
      "|                 uid|              visits|\n",
      "+--------------------+--------------------+\n",
      "|bd7a30e1-a25d-4cb...|[[http://www.inte...|\n",
      "|bd7a6f52-45db-49b...|[[https://www.pac...|\n",
      "|bd7a7fd9-ab06-42f...|[[http://www.mk.r...|\n",
      "+--------------------+--------------------+\n",
      "only showing top 3 rows\n",
      "\n"
     ]
    }
   ],
   "source": [
    "# Парсинг бинарного файла из кафки\n",
    "\n",
    "event_schema = t.StructType([\n",
    "    t.StructField('uid', t.StringType(), True),\n",
    "    t.StructField('visits', t.StringType(), True),\n",
    "])\n",
    "\n",
    "\n",
    "visit_schema = t.ArrayType(\n",
    "    t.StructType([\n",
    "        t.StructField('url', t.StringType(), True),\n",
    "        t.StructField('timestamp', t.LongType(), True)\n",
    "    ])\n",
    ")\n",
    "\n",
    "\n",
    "clean_df = (\n",
    "    kafka_read_df\n",
    "    .select(f.col('value').cast('string').alias('value'))\n",
    "    .select(f.from_json(f.col('value'), event_schema).alias('event'))\n",
    "    .select(\n",
    "        'event.uid', \n",
    "        f.from_json(f.col('event.visits'), visit_schema).alias('visits')\n",
    "    )\n",
    ")\n",
    "\n",
    "\n",
    "\n",
    "clean_df.show(3)"
   ]
  },
  {
   "cell_type": "code",
   "execution_count": 114,
   "metadata": {},
   "outputs": [],
   "source": [
    "inf_model = PipelineModel.load(\"/user/dmitriy.chausov/lab04_model\")"
   ]
  },
  {
   "cell_type": "code",
   "execution_count": 115,
   "metadata": {},
   "outputs": [],
   "source": [
    "prep_df = clean_df \\\n",
    "    .withColumn(\"visit\", explode(\"visits\").alias(\"visit\")) \\\n",
    "    .withColumn(\"host\", expr(\"parse_url(visit.url, 'HOST')\").alias(\"host\")) \\\n",
    "    .drop(\"visits\", \"visit\") \\\n",
    "    .groupBy(\"uid\") \\\n",
    "    .agg(collect_list(\"host\").alias(\"hosts\"))\n",
    "\n",
    "predictions_df = inf_model.transform(prep_df) \\\n",
    "    .select(\"uid\", \"PredictedGender\", \"PredictedAge\") \\\n",
    "    .withColumnRenamed(\"PredictedAge\",\"age\") \\\n",
    "    .withColumnRenamed(\"PredictedGender\",\"gender\")"
   ]
  },
  {
   "cell_type": "code",
   "execution_count": 116,
   "metadata": {},
   "outputs": [],
   "source": [
    "# извлечение url\n",
    "\n",
    "# применение модели, сохранение предсказаний в predictions_df  \n",
    "\n",
    "# Оборачивание предсказания обратно в json\n",
    "\n",
    "kafka_out_df = (\n",
    "    predictions_df.select(f.to_json(f.struct(*predictions_df.columns)).alias('value')).limit(5)\n",
    ")\n",
    "\n",
    "# Запись в выходной топикa\n",
    "\n",
    "(\n",
    "    kafka_out_df\n",
    "    .write\n",
    "    .format('kafka')\n",
    "    .option('kafka.bootstrap.servers', KAFKA_BOOTSTRAP_SERVER)\n",
    "    .option('topic', KAFKA_OUTPUT_TOPIC)\n",
    "    .save()\n",
    ")"
   ]
  },
  {
   "cell_type": "code",
   "execution_count": 117,
   "metadata": {},
   "outputs": [],
   "source": [
    "kafka_stream = (\n",
    "    spark\n",
    "    .readStream\n",
    "    .format('kafka')\n",
    "    .option('kafka.bootstrap.servers', KAFKA_BOOTSTRAP_SERVER)\n",
    "    .option('subscribe', KAFKA_INPUT_TOPIC)\n",
    "    .option('startingOffsets', 'earliest')\n",
    "    .option('failOnDataLoss', 'False')\n",
    "    .load()\n",
    ")"
   ]
  },
  {
   "cell_type": "code",
   "execution_count": 120,
   "metadata": {},
   "outputs": [],
   "source": [
    "# предсказание и запись\n",
    "\n",
    "kafka_write_stream = (\n",
    "    predictions_df\n",
    "    .select(f.to_json(f.struct(*predictions_df.columns)).alias('value'))\n",
    "    .write\n",
    "    .format(\"kafka\")\n",
    "#     .outputMode(\"append\")\n",
    "    .option(\"checkpointLocation\", \"checkpoints/checkpoints_lab04\")\n",
    "    .option(\"kafka.bootstrap.servers\", KAFKA_BOOTSTRAP_SERVER)\n",
    "    .option(\"topic\", KAFKA_OUTPUT_TOPIC)\n",
    ")"
   ]
  },
  {
   "cell_type": "code",
   "execution_count": null,
   "metadata": {},
   "outputs": [],
   "source": []
  },
  {
   "cell_type": "code",
   "execution_count": null,
   "metadata": {},
   "outputs": [],
   "source": []
  },
  {
   "cell_type": "code",
   "execution_count": null,
   "metadata": {},
   "outputs": [],
   "source": []
  },
  {
   "cell_type": "code",
   "execution_count": null,
   "metadata": {},
   "outputs": [],
   "source": []
  },
  {
   "cell_type": "code",
   "execution_count": null,
   "metadata": {},
   "outputs": [],
   "source": []
  },
  {
   "cell_type": "code",
   "execution_count": 97,
   "metadata": {},
   "outputs": [],
   "source": [
    "read_kafka_params = {\n",
    "    \"kafka.bootstrap.servers\": 'spark-master-1.newprolab.com:6667',\n",
    "    \"subscribe\": \"input_dmitriy.chausov\",\n",
    "    \"startingOffsets\": \"latest\"\n",
    "}\n",
    "\n",
    "kafka_sdf = spark.readStream.format(\"kafka\").options(**read_kafka_params).load()"
   ]
  },
  {
   "cell_type": "code",
   "execution_count": 98,
   "metadata": {},
   "outputs": [
    {
     "name": "stdout",
     "output_type": "stream",
     "text": [
      "root\n",
      " |-- key: binary (nullable = true)\n",
      " |-- value: binary (nullable = true)\n",
      " |-- topic: string (nullable = true)\n",
      " |-- partition: integer (nullable = true)\n",
      " |-- offset: long (nullable = true)\n",
      " |-- timestamp: timestamp (nullable = true)\n",
      " |-- timestampType: integer (nullable = true)\n",
      "\n"
     ]
    }
   ],
   "source": [
    "kafka_sdf.printSchema()"
   ]
  },
  {
   "cell_type": "code",
   "execution_count": 99,
   "metadata": {},
   "outputs": [],
   "source": [
    "eventType  = StructType([\n",
    "    StructField(\"uid\", StringType(), True),\n",
    "    StructField(\"visits\", StringType(), True),\n",
    "    ])"
   ]
  },
  {
   "cell_type": "code",
   "execution_count": 100,
   "metadata": {},
   "outputs": [],
   "source": [
    "visitType = ArrayType(\n",
    "    StructType([\n",
    "        StructField(\"url\", StringType(), True),\n",
    "        StructField(\"timestamp\", LongType(), True) \n",
    "    ])\n",
    ")"
   ]
  },
  {
   "cell_type": "code",
   "execution_count": 101,
   "metadata": {},
   "outputs": [],
   "source": [
    "clean_df = kafka_sdf \\\n",
    "    .select(col(\"value\").cast(\"string\").alias(\"value\")) \\\n",
    "    .select(from_json(col(\"value\"), eventType).alias(\"data\")) \\\n",
    "    .select(\"data.*\") \\\n",
    "    .select(\"uid\", from_json(col(\"visits\"), visitType).alias(\"visits\"))"
   ]
  },
  {
   "cell_type": "code",
   "execution_count": 102,
   "metadata": {},
   "outputs": [],
   "source": [
    "prep_df = clean_df \\\n",
    "    .withColumn(\"visit\", explode(\"visits\").alias(\"visit\")) \\\n",
    "    .withColumn(\"host\", expr(\"parse_url(visit.url, 'HOST')\").alias(\"host\")) \\\n",
    "    .drop(\"visits\", \"visit\") \\\n",
    "    .groupBy(\"uid\") \\\n",
    "    .agg(collect_list(\"host\").alias(\"hosts\"))"
   ]
  },
  {
   "cell_type": "code",
   "execution_count": 103,
   "metadata": {},
   "outputs": [],
   "source": [
    "inf_model = PipelineModel.load(\"/user/dmitriy.chausov/lab04_model\")"
   ]
  },
  {
   "cell_type": "code",
   "execution_count": 104,
   "metadata": {},
   "outputs": [],
   "source": [
    "predictions_df = inf_model.transform(prep_df) \\\n",
    "    .select(\"uid\", \"PredictedGender\", \"PredictedAge\") \\\n",
    "    .withColumnRenamed(\"PredictedAge\",\"age\") \\\n",
    "    .withColumnRenamed(\"PredictedGender\",\"gender\")"
   ]
  },
  {
   "cell_type": "code",
   "execution_count": 105,
   "metadata": {},
   "outputs": [],
   "source": [
    "kafka_out_df = predictions_df \\\n",
    "    .select(to_json(struct(*predictions_df.columns)).alias(\"value\"))"
   ]
  },
  {
   "cell_type": "code",
   "execution_count": 109,
   "metadata": {},
   "outputs": [
    {
     "ename": "AnalysisException",
     "evalue": "\"'write' can not be called on streaming Dataset/DataFrame;\"",
     "output_type": "error",
     "traceback": [
      "\u001b[0;31m---------------------------------------------------------------------------\u001b[0m",
      "\u001b[0;31mPy4JJavaError\u001b[0m                             Traceback (most recent call last)",
      "\u001b[0;32m/usr/hdp/current/spark2-client/python/pyspark/sql/utils.py\u001b[0m in \u001b[0;36mdeco\u001b[0;34m(*a, **kw)\u001b[0m\n\u001b[1;32m     62\u001b[0m         \u001b[0;32mtry\u001b[0m\u001b[0;34m:\u001b[0m\u001b[0;34m\u001b[0m\u001b[0m\n\u001b[0;32m---> 63\u001b[0;31m             \u001b[0;32mreturn\u001b[0m \u001b[0mf\u001b[0m\u001b[0;34m(\u001b[0m\u001b[0;34m*\u001b[0m\u001b[0ma\u001b[0m\u001b[0;34m,\u001b[0m \u001b[0;34m**\u001b[0m\u001b[0mkw\u001b[0m\u001b[0;34m)\u001b[0m\u001b[0;34m\u001b[0m\u001b[0m\n\u001b[0m\u001b[1;32m     64\u001b[0m         \u001b[0;32mexcept\u001b[0m \u001b[0mpy4j\u001b[0m\u001b[0;34m.\u001b[0m\u001b[0mprotocol\u001b[0m\u001b[0;34m.\u001b[0m\u001b[0mPy4JJavaError\u001b[0m \u001b[0;32mas\u001b[0m \u001b[0me\u001b[0m\u001b[0;34m:\u001b[0m\u001b[0;34m\u001b[0m\u001b[0m\n",
      "\u001b[0;32m/usr/hdp/current/spark2-client/python/lib/py4j-0.10.7-src.zip/py4j/protocol.py\u001b[0m in \u001b[0;36mget_return_value\u001b[0;34m(answer, gateway_client, target_id, name)\u001b[0m\n\u001b[1;32m    327\u001b[0m                     \u001b[0;34m\"An error occurred while calling {0}{1}{2}.\\n\"\u001b[0m\u001b[0;34m.\u001b[0m\u001b[0;34m\u001b[0m\u001b[0m\n\u001b[0;32m--> 328\u001b[0;31m                     format(target_id, \".\", name), value)\n\u001b[0m\u001b[1;32m    329\u001b[0m             \u001b[0;32melse\u001b[0m\u001b[0;34m:\u001b[0m\u001b[0;34m\u001b[0m\u001b[0m\n",
      "\u001b[0;31mPy4JJavaError\u001b[0m: An error occurred while calling o3859.write.\n: org.apache.spark.sql.AnalysisException: 'write' can not be called on streaming Dataset/DataFrame;\n\tat org.apache.spark.sql.catalyst.analysis.package$AnalysisErrorAt.failAnalysis(package.scala:42)\n\tat org.apache.spark.sql.Dataset.write(Dataset.scala:3171)\n\tat sun.reflect.NativeMethodAccessorImpl.invoke0(Native Method)\n\tat sun.reflect.NativeMethodAccessorImpl.invoke(NativeMethodAccessorImpl.java:62)\n\tat sun.reflect.DelegatingMethodAccessorImpl.invoke(DelegatingMethodAccessorImpl.java:43)\n\tat java.lang.reflect.Method.invoke(Method.java:498)\n\tat py4j.reflection.MethodInvoker.invoke(MethodInvoker.java:244)\n\tat py4j.reflection.ReflectionEngine.invoke(ReflectionEngine.java:357)\n\tat py4j.Gateway.invoke(Gateway.java:282)\n\tat py4j.commands.AbstractCommand.invokeMethod(AbstractCommand.java:132)\n\tat py4j.commands.CallCommand.execute(CallCommand.java:79)\n\tat py4j.GatewayConnection.run(GatewayConnection.java:238)\n\tat java.lang.Thread.run(Thread.java:745)\n",
      "\nDuring handling of the above exception, another exception occurred:\n",
      "\u001b[0;31mAnalysisException\u001b[0m                         Traceback (most recent call last)",
      "\u001b[0;32m<ipython-input-109-5e12308b2801>\u001b[0m in \u001b[0;36m<module>\u001b[0;34m()\u001b[0m\n\u001b[0;32m----> 1\u001b[0;31m \u001b[0mkafka_out_df\u001b[0m\u001b[0;34m.\u001b[0m\u001b[0mwrite\u001b[0m\u001b[0;34m.\u001b[0m\u001b[0mformat\u001b[0m\u001b[0;34m(\u001b[0m\u001b[0;34m'kafka'\u001b[0m\u001b[0;34m)\u001b[0m\u001b[0;34m.\u001b[0m\u001b[0moption\u001b[0m\u001b[0;34m(\u001b[0m\u001b[0;34m'kafka.bootstrap.servers'\u001b[0m\u001b[0;34m,\u001b[0m \u001b[0mKAFKA_BOOTSTRAP_SERVER\u001b[0m\u001b[0;34m)\u001b[0m\u001b[0;34m.\u001b[0m\u001b[0moption\u001b[0m\u001b[0;34m(\u001b[0m\u001b[0;34m'topic'\u001b[0m\u001b[0;34m,\u001b[0m \u001b[0mKAFKA_OUTPUT_TOPIC\u001b[0m\u001b[0;34m)\u001b[0m\u001b[0;34m.\u001b[0m\u001b[0msave\u001b[0m\u001b[0;34m(\u001b[0m\u001b[0;34m)\u001b[0m\u001b[0;34m\u001b[0m\u001b[0m\n\u001b[0m",
      "\u001b[0;32m/usr/hdp/current/spark2-client/python/pyspark/sql/dataframe.py\u001b[0m in \u001b[0;36mwrite\u001b[0;34m(self)\u001b[0m\n\u001b[1;32m    229\u001b[0m         \u001b[0;34m:\u001b[0m\u001b[0;32mreturn\u001b[0m\u001b[0;34m:\u001b[0m \u001b[0;34m:\u001b[0m\u001b[0;32mclass\u001b[0m\u001b[0;34m:\u001b[0m\u001b[0;31m`\u001b[0m\u001b[0mDataFrameWriter\u001b[0m\u001b[0;31m`\u001b[0m\u001b[0;34m\u001b[0m\u001b[0m\n\u001b[1;32m    230\u001b[0m         \"\"\"\n\u001b[0;32m--> 231\u001b[0;31m         \u001b[0;32mreturn\u001b[0m \u001b[0mDataFrameWriter\u001b[0m\u001b[0;34m(\u001b[0m\u001b[0mself\u001b[0m\u001b[0;34m)\u001b[0m\u001b[0;34m\u001b[0m\u001b[0m\n\u001b[0m\u001b[1;32m    232\u001b[0m \u001b[0;34m\u001b[0m\u001b[0m\n\u001b[1;32m    233\u001b[0m     \u001b[0;34m@\u001b[0m\u001b[0mproperty\u001b[0m\u001b[0;34m\u001b[0m\u001b[0m\n",
      "\u001b[0;32m/usr/hdp/current/spark2-client/python/pyspark/sql/readwriter.py\u001b[0m in \u001b[0;36m__init__\u001b[0;34m(self, df)\u001b[0m\n\u001b[1;32m    573\u001b[0m         \u001b[0mself\u001b[0m\u001b[0;34m.\u001b[0m\u001b[0m_df\u001b[0m \u001b[0;34m=\u001b[0m \u001b[0mdf\u001b[0m\u001b[0;34m\u001b[0m\u001b[0m\n\u001b[1;32m    574\u001b[0m         \u001b[0mself\u001b[0m\u001b[0;34m.\u001b[0m\u001b[0m_spark\u001b[0m \u001b[0;34m=\u001b[0m \u001b[0mdf\u001b[0m\u001b[0;34m.\u001b[0m\u001b[0msql_ctx\u001b[0m\u001b[0;34m\u001b[0m\u001b[0m\n\u001b[0;32m--> 575\u001b[0;31m         \u001b[0mself\u001b[0m\u001b[0;34m.\u001b[0m\u001b[0m_jwrite\u001b[0m \u001b[0;34m=\u001b[0m \u001b[0mdf\u001b[0m\u001b[0;34m.\u001b[0m\u001b[0m_jdf\u001b[0m\u001b[0;34m.\u001b[0m\u001b[0mwrite\u001b[0m\u001b[0;34m(\u001b[0m\u001b[0;34m)\u001b[0m\u001b[0;34m\u001b[0m\u001b[0m\n\u001b[0m\u001b[1;32m    576\u001b[0m \u001b[0;34m\u001b[0m\u001b[0m\n\u001b[1;32m    577\u001b[0m     \u001b[0;32mdef\u001b[0m \u001b[0m_sq\u001b[0m\u001b[0;34m(\u001b[0m\u001b[0mself\u001b[0m\u001b[0;34m,\u001b[0m \u001b[0mjsq\u001b[0m\u001b[0;34m)\u001b[0m\u001b[0;34m:\u001b[0m\u001b[0;34m\u001b[0m\u001b[0m\n",
      "\u001b[0;32m/usr/hdp/current/spark2-client/python/lib/py4j-0.10.7-src.zip/py4j/java_gateway.py\u001b[0m in \u001b[0;36m__call__\u001b[0;34m(self, *args)\u001b[0m\n\u001b[1;32m   1255\u001b[0m         \u001b[0manswer\u001b[0m \u001b[0;34m=\u001b[0m \u001b[0mself\u001b[0m\u001b[0;34m.\u001b[0m\u001b[0mgateway_client\u001b[0m\u001b[0;34m.\u001b[0m\u001b[0msend_command\u001b[0m\u001b[0;34m(\u001b[0m\u001b[0mcommand\u001b[0m\u001b[0;34m)\u001b[0m\u001b[0;34m\u001b[0m\u001b[0m\n\u001b[1;32m   1256\u001b[0m         return_value = get_return_value(\n\u001b[0;32m-> 1257\u001b[0;31m             answer, self.gateway_client, self.target_id, self.name)\n\u001b[0m\u001b[1;32m   1258\u001b[0m \u001b[0;34m\u001b[0m\u001b[0m\n\u001b[1;32m   1259\u001b[0m         \u001b[0;32mfor\u001b[0m \u001b[0mtemp_arg\u001b[0m \u001b[0;32min\u001b[0m \u001b[0mtemp_args\u001b[0m\u001b[0;34m:\u001b[0m\u001b[0;34m\u001b[0m\u001b[0m\n",
      "\u001b[0;32m/usr/hdp/current/spark2-client/python/pyspark/sql/utils.py\u001b[0m in \u001b[0;36mdeco\u001b[0;34m(*a, **kw)\u001b[0m\n\u001b[1;32m     67\u001b[0m                                              e.java_exception.getStackTrace()))\n\u001b[1;32m     68\u001b[0m             \u001b[0;32mif\u001b[0m \u001b[0ms\u001b[0m\u001b[0;34m.\u001b[0m\u001b[0mstartswith\u001b[0m\u001b[0;34m(\u001b[0m\u001b[0;34m'org.apache.spark.sql.AnalysisException: '\u001b[0m\u001b[0;34m)\u001b[0m\u001b[0;34m:\u001b[0m\u001b[0;34m\u001b[0m\u001b[0m\n\u001b[0;32m---> 69\u001b[0;31m                 \u001b[0;32mraise\u001b[0m \u001b[0mAnalysisException\u001b[0m\u001b[0;34m(\u001b[0m\u001b[0ms\u001b[0m\u001b[0;34m.\u001b[0m\u001b[0msplit\u001b[0m\u001b[0;34m(\u001b[0m\u001b[0;34m': '\u001b[0m\u001b[0;34m,\u001b[0m \u001b[0;36m1\u001b[0m\u001b[0;34m)\u001b[0m\u001b[0;34m[\u001b[0m\u001b[0;36m1\u001b[0m\u001b[0;34m]\u001b[0m\u001b[0;34m,\u001b[0m \u001b[0mstackTrace\u001b[0m\u001b[0;34m)\u001b[0m\u001b[0;34m\u001b[0m\u001b[0m\n\u001b[0m\u001b[1;32m     70\u001b[0m             \u001b[0;32mif\u001b[0m \u001b[0ms\u001b[0m\u001b[0;34m.\u001b[0m\u001b[0mstartswith\u001b[0m\u001b[0;34m(\u001b[0m\u001b[0;34m'org.apache.spark.sql.catalyst.analysis'\u001b[0m\u001b[0;34m)\u001b[0m\u001b[0;34m:\u001b[0m\u001b[0;34m\u001b[0m\u001b[0m\n\u001b[1;32m     71\u001b[0m                 \u001b[0;32mraise\u001b[0m \u001b[0mAnalysisException\u001b[0m\u001b[0;34m(\u001b[0m\u001b[0ms\u001b[0m\u001b[0;34m.\u001b[0m\u001b[0msplit\u001b[0m\u001b[0;34m(\u001b[0m\u001b[0;34m': '\u001b[0m\u001b[0;34m,\u001b[0m \u001b[0;36m1\u001b[0m\u001b[0;34m)\u001b[0m\u001b[0;34m[\u001b[0m\u001b[0;36m1\u001b[0m\u001b[0;34m]\u001b[0m\u001b[0;34m,\u001b[0m \u001b[0mstackTrace\u001b[0m\u001b[0;34m)\u001b[0m\u001b[0;34m\u001b[0m\u001b[0m\n",
      "\u001b[0;31mAnalysisException\u001b[0m: \"'write' can not be called on streaming Dataset/DataFrame;\""
     ]
    }
   ],
   "source": [
    "    kafka_out_df.write\\\n",
    "    .format('kafka')\\\n",
    "    .option('kafka.bootstrap.servers', KAFKA_BOOTSTRAP_SERVER)\\\n",
    "    .option('topic', KAFKA_OUTPUT_TOPIC)\\\n",
    "    .save()"
   ]
  },
  {
   "cell_type": "code",
   "execution_count": 107,
   "metadata": {},
   "outputs": [
    {
     "ename": "AnalysisException",
     "evalue": "'Append output mode not supported when there are streaming aggregations on streaming DataFrames/DataSets without watermark;;\\nProject [structstojson(named_struct(uid, uid#1893, gender, gender#2073, age, age#2069), Some(Europe/Moscow)) AS value#2077]\\n+- Project [uid#1893, PredictedGender#2054 AS gender#2073, age#2069]\\n   +- Project [uid#1893, PredictedGender#2054, PredictedAge#2043 AS age#2069]\\n      +- Project [uid#1893, PredictedGender#2054, PredictedAge#2043]\\n         +- Project [uid#1893, hosts#1918, rawFeatures#1973, age_index_raw_prediction#1983, age_probability#1988, age_index_prediction#1994, gender_index_raw_prediction#2007, gender_probability#2015, gender_index_prediction#2024, PredictedAge#2043, if (isnull(cast(gender_index_prediction#2024 as double))) null else UDF(cast(gender_index_prediction#2024 as double)) AS PredictedGender#2054]\\n            +- Project [uid#1893, hosts#1918, rawFeatures#1973, age_index_raw_prediction#1983, age_probability#1988, age_index_prediction#1994, gender_index_raw_prediction#2007, gender_probability#2015, gender_index_prediction#2024, if (isnull(cast(age_index_prediction#1994 as double))) null else UDF(cast(age_index_prediction#1994 as double)) AS PredictedAge#2043]\\n               +- Project [uid#1893, hosts#1918, rawFeatures#1973, age_index_raw_prediction#1983, age_probability#1988, age_index_prediction#1994, gender_index_raw_prediction#2007, gender_probability#2015, UDF(gender_index_raw_prediction#2007) AS gender_index_prediction#2024]\\n                  +- Project [uid#1893, hosts#1918, rawFeatures#1973, age_index_raw_prediction#1983, age_probability#1988, age_index_prediction#1994, gender_index_raw_prediction#2007, UDF(gender_index_raw_prediction#2007) AS gender_probability#2015]\\n                     +- Project [uid#1893, hosts#1918, rawFeatures#1973, age_index_raw_prediction#1983, age_probability#1988, age_index_prediction#1994, UDF(rawFeatures#1973) AS gender_index_raw_prediction#2007]\\n                        +- Project [uid#1893, hosts#1918, rawFeatures#1973, age_index_raw_prediction#1983, age_probability#1988, UDF(age_index_raw_prediction#1983) AS age_index_prediction#1994]\\n                           +- Project [uid#1893, hosts#1918, rawFeatures#1973, age_index_raw_prediction#1983, UDF(age_index_raw_prediction#1983) AS age_probability#1988]\\n                              +- Project [uid#1893, hosts#1918, rawFeatures#1973, UDF(rawFeatures#1973) AS age_index_raw_prediction#1983]\\n                                 +- Project [uid#1893, hosts#1918, UDF(hosts#1918) AS rawFeatures#1973]\\n                                    +- Aggregate [uid#1893], [uid#1893, collect_list(host#1907, 0, 0) AS hosts#1918]\\n                                       +- Project [uid#1893, host#1907]\\n                                          +- Project [uid#1893, visits#1897, visit#1902, parse_url(visit#1902.url, HOST) AS host#1907]\\n                                             +- Project [uid#1893, visits#1897, visit#1902]\\n                                                +- Generate explode(visits#1897), false, [visit#1902]\\n                                                   +- Project [uid#1893, jsontostructs(ArrayType(StructType(StructField(url,StringType,true), StructField(timestamp,LongType,true)),true), visits#1894, Some(Europe/Moscow)) AS visits#1897]\\n                                                      +- Project [data#1891.uid AS uid#1893, data#1891.visits AS visits#1894]\\n                                                         +- Project [jsontostructs(StructField(uid,StringType,true), StructField(visits,StringType,true), value#1889, Some(Europe/Moscow)) AS data#1891]\\n                                                            +- Project [cast(value#1876 as string) AS value#1889]\\n                                                               +- StreamingRelationV2 org.apache.spark.sql.kafka010.KafkaSourceProvider@4a3d0651, kafka, Map(startingOffsets -> latest, subscribe -> input_dmitriy.chausov, kafka.bootstrap.servers -> spark-master-1.newprolab.com:6667), [key#1875, value#1876, topic#1877, partition#1878, offset#1879L, timestamp#1880, timestampType#1881], StreamingRelation DataSource(org.apache.spark.sql.SparkSession@18f9179c,kafka,List(),None,List(),None,Map(startingOffsets -> latest, subscribe -> input_dmitriy.chausov, kafka.bootstrap.servers -> spark-master-1.newprolab.com:6667),None), kafka, [key#1868, value#1869, topic#1870, partition#1871, offset#1872L, timestamp#1873, timestampType#1874]\\n'",
     "output_type": "error",
     "traceback": [
      "\u001b[0;31m---------------------------------------------------------------------------\u001b[0m",
      "\u001b[0;31mPy4JJavaError\u001b[0m                             Traceback (most recent call last)",
      "\u001b[0;32m/usr/hdp/current/spark2-client/python/pyspark/sql/utils.py\u001b[0m in \u001b[0;36mdeco\u001b[0;34m(*a, **kw)\u001b[0m\n\u001b[1;32m     62\u001b[0m         \u001b[0;32mtry\u001b[0m\u001b[0;34m:\u001b[0m\u001b[0;34m\u001b[0m\u001b[0m\n\u001b[0;32m---> 63\u001b[0;31m             \u001b[0;32mreturn\u001b[0m \u001b[0mf\u001b[0m\u001b[0;34m(\u001b[0m\u001b[0;34m*\u001b[0m\u001b[0ma\u001b[0m\u001b[0;34m,\u001b[0m \u001b[0;34m**\u001b[0m\u001b[0mkw\u001b[0m\u001b[0;34m)\u001b[0m\u001b[0;34m\u001b[0m\u001b[0m\n\u001b[0m\u001b[1;32m     64\u001b[0m         \u001b[0;32mexcept\u001b[0m \u001b[0mpy4j\u001b[0m\u001b[0;34m.\u001b[0m\u001b[0mprotocol\u001b[0m\u001b[0;34m.\u001b[0m\u001b[0mPy4JJavaError\u001b[0m \u001b[0;32mas\u001b[0m \u001b[0me\u001b[0m\u001b[0;34m:\u001b[0m\u001b[0;34m\u001b[0m\u001b[0m\n",
      "\u001b[0;32m/usr/hdp/current/spark2-client/python/lib/py4j-0.10.7-src.zip/py4j/protocol.py\u001b[0m in \u001b[0;36mget_return_value\u001b[0;34m(answer, gateway_client, target_id, name)\u001b[0m\n\u001b[1;32m    327\u001b[0m                     \u001b[0;34m\"An error occurred while calling {0}{1}{2}.\\n\"\u001b[0m\u001b[0;34m.\u001b[0m\u001b[0;34m\u001b[0m\u001b[0m\n\u001b[0;32m--> 328\u001b[0;31m                     format(target_id, \".\", name), value)\n\u001b[0m\u001b[1;32m    329\u001b[0m             \u001b[0;32melse\u001b[0m\u001b[0;34m:\u001b[0m\u001b[0;34m\u001b[0m\u001b[0m\n",
      "\u001b[0;31mPy4JJavaError\u001b[0m: An error occurred while calling o3865.start.\n: org.apache.spark.sql.AnalysisException: Append output mode not supported when there are streaming aggregations on streaming DataFrames/DataSets without watermark;;\nProject [structstojson(named_struct(uid, uid#1893, gender, gender#2073, age, age#2069), Some(Europe/Moscow)) AS value#2077]\n+- Project [uid#1893, PredictedGender#2054 AS gender#2073, age#2069]\n   +- Project [uid#1893, PredictedGender#2054, PredictedAge#2043 AS age#2069]\n      +- Project [uid#1893, PredictedGender#2054, PredictedAge#2043]\n         +- Project [uid#1893, hosts#1918, rawFeatures#1973, age_index_raw_prediction#1983, age_probability#1988, age_index_prediction#1994, gender_index_raw_prediction#2007, gender_probability#2015, gender_index_prediction#2024, PredictedAge#2043, if (isnull(cast(gender_index_prediction#2024 as double))) null else UDF(cast(gender_index_prediction#2024 as double)) AS PredictedGender#2054]\n            +- Project [uid#1893, hosts#1918, rawFeatures#1973, age_index_raw_prediction#1983, age_probability#1988, age_index_prediction#1994, gender_index_raw_prediction#2007, gender_probability#2015, gender_index_prediction#2024, if (isnull(cast(age_index_prediction#1994 as double))) null else UDF(cast(age_index_prediction#1994 as double)) AS PredictedAge#2043]\n               +- Project [uid#1893, hosts#1918, rawFeatures#1973, age_index_raw_prediction#1983, age_probability#1988, age_index_prediction#1994, gender_index_raw_prediction#2007, gender_probability#2015, UDF(gender_index_raw_prediction#2007) AS gender_index_prediction#2024]\n                  +- Project [uid#1893, hosts#1918, rawFeatures#1973, age_index_raw_prediction#1983, age_probability#1988, age_index_prediction#1994, gender_index_raw_prediction#2007, UDF(gender_index_raw_prediction#2007) AS gender_probability#2015]\n                     +- Project [uid#1893, hosts#1918, rawFeatures#1973, age_index_raw_prediction#1983, age_probability#1988, age_index_prediction#1994, UDF(rawFeatures#1973) AS gender_index_raw_prediction#2007]\n                        +- Project [uid#1893, hosts#1918, rawFeatures#1973, age_index_raw_prediction#1983, age_probability#1988, UDF(age_index_raw_prediction#1983) AS age_index_prediction#1994]\n                           +- Project [uid#1893, hosts#1918, rawFeatures#1973, age_index_raw_prediction#1983, UDF(age_index_raw_prediction#1983) AS age_probability#1988]\n                              +- Project [uid#1893, hosts#1918, rawFeatures#1973, UDF(rawFeatures#1973) AS age_index_raw_prediction#1983]\n                                 +- Project [uid#1893, hosts#1918, UDF(hosts#1918) AS rawFeatures#1973]\n                                    +- Aggregate [uid#1893], [uid#1893, collect_list(host#1907, 0, 0) AS hosts#1918]\n                                       +- Project [uid#1893, host#1907]\n                                          +- Project [uid#1893, visits#1897, visit#1902, parse_url(visit#1902.url, HOST) AS host#1907]\n                                             +- Project [uid#1893, visits#1897, visit#1902]\n                                                +- Generate explode(visits#1897), false, [visit#1902]\n                                                   +- Project [uid#1893, jsontostructs(ArrayType(StructType(StructField(url,StringType,true), StructField(timestamp,LongType,true)),true), visits#1894, Some(Europe/Moscow)) AS visits#1897]\n                                                      +- Project [data#1891.uid AS uid#1893, data#1891.visits AS visits#1894]\n                                                         +- Project [jsontostructs(StructField(uid,StringType,true), StructField(visits,StringType,true), value#1889, Some(Europe/Moscow)) AS data#1891]\n                                                            +- Project [cast(value#1876 as string) AS value#1889]\n                                                               +- StreamingRelationV2 org.apache.spark.sql.kafka010.KafkaSourceProvider@4a3d0651, kafka, Map(startingOffsets -> latest, subscribe -> input_dmitriy.chausov, kafka.bootstrap.servers -> spark-master-1.newprolab.com:6667), [key#1875, value#1876, topic#1877, partition#1878, offset#1879L, timestamp#1880, timestampType#1881], StreamingRelation DataSource(org.apache.spark.sql.SparkSession@18f9179c,kafka,List(),None,List(),None,Map(startingOffsets -> latest, subscribe -> input_dmitriy.chausov, kafka.bootstrap.servers -> spark-master-1.newprolab.com:6667),None), kafka, [key#1868, value#1869, topic#1870, partition#1871, offset#1872L, timestamp#1873, timestampType#1874]\n\n\tat org.apache.spark.sql.catalyst.analysis.UnsupportedOperationChecker$.org$apache$spark$sql$catalyst$analysis$UnsupportedOperationChecker$$throwError(UnsupportedOperationChecker.scala:389)\n\tat org.apache.spark.sql.catalyst.analysis.UnsupportedOperationChecker$.checkForStreaming(UnsupportedOperationChecker.scala:111)\n\tat org.apache.spark.sql.streaming.StreamingQueryManager.createQuery(StreamingQueryManager.scala:256)\n\tat org.apache.spark.sql.streaming.StreamingQueryManager.startQuery(StreamingQueryManager.scala:322)\n\tat org.apache.spark.sql.streaming.DataStreamWriter.start(DataStreamWriter.scala:325)\n\tat sun.reflect.NativeMethodAccessorImpl.invoke0(Native Method)\n\tat sun.reflect.NativeMethodAccessorImpl.invoke(NativeMethodAccessorImpl.java:62)\n\tat sun.reflect.DelegatingMethodAccessorImpl.invoke(DelegatingMethodAccessorImpl.java:43)\n\tat java.lang.reflect.Method.invoke(Method.java:498)\n\tat py4j.reflection.MethodInvoker.invoke(MethodInvoker.java:244)\n\tat py4j.reflection.ReflectionEngine.invoke(ReflectionEngine.java:357)\n\tat py4j.Gateway.invoke(Gateway.java:282)\n\tat py4j.commands.AbstractCommand.invokeMethod(AbstractCommand.java:132)\n\tat py4j.commands.CallCommand.execute(CallCommand.java:79)\n\tat py4j.GatewayConnection.run(GatewayConnection.java:238)\n\tat java.lang.Thread.run(Thread.java:745)\n",
      "\nDuring handling of the above exception, another exception occurred:\n",
      "\u001b[0;31mAnalysisException\u001b[0m                         Traceback (most recent call last)",
      "\u001b[0;32m<ipython-input-107-daa0a86fde4a>\u001b[0m in \u001b[0;36m<module>\u001b[0;34m()\u001b[0m\n\u001b[1;32m      4\u001b[0m }\n\u001b[1;32m      5\u001b[0m \u001b[0;34m\u001b[0m\u001b[0m\n\u001b[0;32m----> 6\u001b[0;31m \u001b[0mkafka_out_df\u001b[0m\u001b[0;34m.\u001b[0m\u001b[0mwriteStream\u001b[0m\u001b[0;34m.\u001b[0m\u001b[0mformat\u001b[0m\u001b[0;34m(\u001b[0m\u001b[0;34m\"kafka\"\u001b[0m\u001b[0;34m)\u001b[0m\u001b[0;34m.\u001b[0m\u001b[0moptions\u001b[0m\u001b[0;34m(\u001b[0m\u001b[0;34m**\u001b[0m\u001b[0mwrite_kafka_params\u001b[0m\u001b[0;34m)\u001b[0m    \u001b[0;34m.\u001b[0m\u001b[0moption\u001b[0m\u001b[0;34m(\u001b[0m\u001b[0;34m\"checkpointLocation\"\u001b[0m\u001b[0;34m,\u001b[0m \u001b[0;34m\"checkpoints/checkpoints_lab04\"\u001b[0m\u001b[0;34m)\u001b[0m    \u001b[0;34m.\u001b[0m\u001b[0moutputMode\u001b[0m\u001b[0;34m(\u001b[0m\u001b[0;34m\"append\"\u001b[0m\u001b[0;34m)\u001b[0m\u001b[0;34m.\u001b[0m\u001b[0mstart\u001b[0m\u001b[0;34m(\u001b[0m\u001b[0;34m)\u001b[0m\u001b[0;34m\u001b[0m\u001b[0m\n\u001b[0m\u001b[1;32m      7\u001b[0m \u001b[0;34m\u001b[0m\u001b[0m\n\u001b[1;32m      8\u001b[0m \u001b[0;31m# kafka_out_df.write \\\u001b[0m\u001b[0;34m\u001b[0m\u001b[0;34m\u001b[0m\u001b[0m\n",
      "\u001b[0;32m/usr/hdp/current/spark2-client/python/pyspark/sql/streaming.py\u001b[0m in \u001b[0;36mstart\u001b[0;34m(self, path, format, outputMode, partitionBy, queryName, **options)\u001b[0m\n\u001b[1;32m   1107\u001b[0m             \u001b[0mself\u001b[0m\u001b[0;34m.\u001b[0m\u001b[0mqueryName\u001b[0m\u001b[0;34m(\u001b[0m\u001b[0mqueryName\u001b[0m\u001b[0;34m)\u001b[0m\u001b[0;34m\u001b[0m\u001b[0m\n\u001b[1;32m   1108\u001b[0m         \u001b[0;32mif\u001b[0m \u001b[0mpath\u001b[0m \u001b[0;32mis\u001b[0m \u001b[0;32mNone\u001b[0m\u001b[0;34m:\u001b[0m\u001b[0;34m\u001b[0m\u001b[0m\n\u001b[0;32m-> 1109\u001b[0;31m             \u001b[0;32mreturn\u001b[0m \u001b[0mself\u001b[0m\u001b[0;34m.\u001b[0m\u001b[0m_sq\u001b[0m\u001b[0;34m(\u001b[0m\u001b[0mself\u001b[0m\u001b[0;34m.\u001b[0m\u001b[0m_jwrite\u001b[0m\u001b[0;34m.\u001b[0m\u001b[0mstart\u001b[0m\u001b[0;34m(\u001b[0m\u001b[0;34m)\u001b[0m\u001b[0;34m)\u001b[0m\u001b[0;34m\u001b[0m\u001b[0m\n\u001b[0m\u001b[1;32m   1110\u001b[0m         \u001b[0;32melse\u001b[0m\u001b[0;34m:\u001b[0m\u001b[0;34m\u001b[0m\u001b[0m\n\u001b[1;32m   1111\u001b[0m             \u001b[0;32mreturn\u001b[0m \u001b[0mself\u001b[0m\u001b[0;34m.\u001b[0m\u001b[0m_sq\u001b[0m\u001b[0;34m(\u001b[0m\u001b[0mself\u001b[0m\u001b[0;34m.\u001b[0m\u001b[0m_jwrite\u001b[0m\u001b[0;34m.\u001b[0m\u001b[0mstart\u001b[0m\u001b[0;34m(\u001b[0m\u001b[0mpath\u001b[0m\u001b[0;34m)\u001b[0m\u001b[0;34m)\u001b[0m\u001b[0;34m\u001b[0m\u001b[0m\n",
      "\u001b[0;32m/usr/hdp/current/spark2-client/python/lib/py4j-0.10.7-src.zip/py4j/java_gateway.py\u001b[0m in \u001b[0;36m__call__\u001b[0;34m(self, *args)\u001b[0m\n\u001b[1;32m   1255\u001b[0m         \u001b[0manswer\u001b[0m \u001b[0;34m=\u001b[0m \u001b[0mself\u001b[0m\u001b[0;34m.\u001b[0m\u001b[0mgateway_client\u001b[0m\u001b[0;34m.\u001b[0m\u001b[0msend_command\u001b[0m\u001b[0;34m(\u001b[0m\u001b[0mcommand\u001b[0m\u001b[0;34m)\u001b[0m\u001b[0;34m\u001b[0m\u001b[0m\n\u001b[1;32m   1256\u001b[0m         return_value = get_return_value(\n\u001b[0;32m-> 1257\u001b[0;31m             answer, self.gateway_client, self.target_id, self.name)\n\u001b[0m\u001b[1;32m   1258\u001b[0m \u001b[0;34m\u001b[0m\u001b[0m\n\u001b[1;32m   1259\u001b[0m         \u001b[0;32mfor\u001b[0m \u001b[0mtemp_arg\u001b[0m \u001b[0;32min\u001b[0m \u001b[0mtemp_args\u001b[0m\u001b[0;34m:\u001b[0m\u001b[0;34m\u001b[0m\u001b[0m\n",
      "\u001b[0;32m/usr/hdp/current/spark2-client/python/pyspark/sql/utils.py\u001b[0m in \u001b[0;36mdeco\u001b[0;34m(*a, **kw)\u001b[0m\n\u001b[1;32m     67\u001b[0m                                              e.java_exception.getStackTrace()))\n\u001b[1;32m     68\u001b[0m             \u001b[0;32mif\u001b[0m \u001b[0ms\u001b[0m\u001b[0;34m.\u001b[0m\u001b[0mstartswith\u001b[0m\u001b[0;34m(\u001b[0m\u001b[0;34m'org.apache.spark.sql.AnalysisException: '\u001b[0m\u001b[0;34m)\u001b[0m\u001b[0;34m:\u001b[0m\u001b[0;34m\u001b[0m\u001b[0m\n\u001b[0;32m---> 69\u001b[0;31m                 \u001b[0;32mraise\u001b[0m \u001b[0mAnalysisException\u001b[0m\u001b[0;34m(\u001b[0m\u001b[0ms\u001b[0m\u001b[0;34m.\u001b[0m\u001b[0msplit\u001b[0m\u001b[0;34m(\u001b[0m\u001b[0;34m': '\u001b[0m\u001b[0;34m,\u001b[0m \u001b[0;36m1\u001b[0m\u001b[0;34m)\u001b[0m\u001b[0;34m[\u001b[0m\u001b[0;36m1\u001b[0m\u001b[0;34m]\u001b[0m\u001b[0;34m,\u001b[0m \u001b[0mstackTrace\u001b[0m\u001b[0;34m)\u001b[0m\u001b[0;34m\u001b[0m\u001b[0m\n\u001b[0m\u001b[1;32m     70\u001b[0m             \u001b[0;32mif\u001b[0m \u001b[0ms\u001b[0m\u001b[0;34m.\u001b[0m\u001b[0mstartswith\u001b[0m\u001b[0;34m(\u001b[0m\u001b[0;34m'org.apache.spark.sql.catalyst.analysis'\u001b[0m\u001b[0;34m)\u001b[0m\u001b[0;34m:\u001b[0m\u001b[0;34m\u001b[0m\u001b[0m\n\u001b[1;32m     71\u001b[0m                 \u001b[0;32mraise\u001b[0m \u001b[0mAnalysisException\u001b[0m\u001b[0;34m(\u001b[0m\u001b[0ms\u001b[0m\u001b[0;34m.\u001b[0m\u001b[0msplit\u001b[0m\u001b[0;34m(\u001b[0m\u001b[0;34m': '\u001b[0m\u001b[0;34m,\u001b[0m \u001b[0;36m1\u001b[0m\u001b[0;34m)\u001b[0m\u001b[0;34m[\u001b[0m\u001b[0;36m1\u001b[0m\u001b[0;34m]\u001b[0m\u001b[0;34m,\u001b[0m \u001b[0mstackTrace\u001b[0m\u001b[0;34m)\u001b[0m\u001b[0;34m\u001b[0m\u001b[0m\n",
      "\u001b[0;31mAnalysisException\u001b[0m: 'Append output mode not supported when there are streaming aggregations on streaming DataFrames/DataSets without watermark;;\\nProject [structstojson(named_struct(uid, uid#1893, gender, gender#2073, age, age#2069), Some(Europe/Moscow)) AS value#2077]\\n+- Project [uid#1893, PredictedGender#2054 AS gender#2073, age#2069]\\n   +- Project [uid#1893, PredictedGender#2054, PredictedAge#2043 AS age#2069]\\n      +- Project [uid#1893, PredictedGender#2054, PredictedAge#2043]\\n         +- Project [uid#1893, hosts#1918, rawFeatures#1973, age_index_raw_prediction#1983, age_probability#1988, age_index_prediction#1994, gender_index_raw_prediction#2007, gender_probability#2015, gender_index_prediction#2024, PredictedAge#2043, if (isnull(cast(gender_index_prediction#2024 as double))) null else UDF(cast(gender_index_prediction#2024 as double)) AS PredictedGender#2054]\\n            +- Project [uid#1893, hosts#1918, rawFeatures#1973, age_index_raw_prediction#1983, age_probability#1988, age_index_prediction#1994, gender_index_raw_prediction#2007, gender_probability#2015, gender_index_prediction#2024, if (isnull(cast(age_index_prediction#1994 as double))) null else UDF(cast(age_index_prediction#1994 as double)) AS PredictedAge#2043]\\n               +- Project [uid#1893, hosts#1918, rawFeatures#1973, age_index_raw_prediction#1983, age_probability#1988, age_index_prediction#1994, gender_index_raw_prediction#2007, gender_probability#2015, UDF(gender_index_raw_prediction#2007) AS gender_index_prediction#2024]\\n                  +- Project [uid#1893, hosts#1918, rawFeatures#1973, age_index_raw_prediction#1983, age_probability#1988, age_index_prediction#1994, gender_index_raw_prediction#2007, UDF(gender_index_raw_prediction#2007) AS gender_probability#2015]\\n                     +- Project [uid#1893, hosts#1918, rawFeatures#1973, age_index_raw_prediction#1983, age_probability#1988, age_index_prediction#1994, UDF(rawFeatures#1973) AS gender_index_raw_prediction#2007]\\n                        +- Project [uid#1893, hosts#1918, rawFeatures#1973, age_index_raw_prediction#1983, age_probability#1988, UDF(age_index_raw_prediction#1983) AS age_index_prediction#1994]\\n                           +- Project [uid#1893, hosts#1918, rawFeatures#1973, age_index_raw_prediction#1983, UDF(age_index_raw_prediction#1983) AS age_probability#1988]\\n                              +- Project [uid#1893, hosts#1918, rawFeatures#1973, UDF(rawFeatures#1973) AS age_index_raw_prediction#1983]\\n                                 +- Project [uid#1893, hosts#1918, UDF(hosts#1918) AS rawFeatures#1973]\\n                                    +- Aggregate [uid#1893], [uid#1893, collect_list(host#1907, 0, 0) AS hosts#1918]\\n                                       +- Project [uid#1893, host#1907]\\n                                          +- Project [uid#1893, visits#1897, visit#1902, parse_url(visit#1902.url, HOST) AS host#1907]\\n                                             +- Project [uid#1893, visits#1897, visit#1902]\\n                                                +- Generate explode(visits#1897), false, [visit#1902]\\n                                                   +- Project [uid#1893, jsontostructs(ArrayType(StructType(StructField(url,StringType,true), StructField(timestamp,LongType,true)),true), visits#1894, Some(Europe/Moscow)) AS visits#1897]\\n                                                      +- Project [data#1891.uid AS uid#1893, data#1891.visits AS visits#1894]\\n                                                         +- Project [jsontostructs(StructField(uid,StringType,true), StructField(visits,StringType,true), value#1889, Some(Europe/Moscow)) AS data#1891]\\n                                                            +- Project [cast(value#1876 as string) AS value#1889]\\n                                                               +- StreamingRelationV2 org.apache.spark.sql.kafka010.KafkaSourceProvider@4a3d0651, kafka, Map(startingOffsets -> latest, subscribe -> input_dmitriy.chausov, kafka.bootstrap.servers -> spark-master-1.newprolab.com:6667), [key#1875, value#1876, topic#1877, partition#1878, offset#1879L, timestamp#1880, timestampType#1881], StreamingRelation DataSource(org.apache.spark.sql.SparkSession@18f9179c,kafka,List(),None,List(),None,Map(startingOffsets -> latest, subscribe -> input_dmitriy.chausov, kafka.bootstrap.servers -> spark-master-1.newprolab.com:6667),None), kafka, [key#1868, value#1869, topic#1870, partition#1871, offset#1872L, timestamp#1873, timestampType#1874]\\n'"
     ]
    }
   ],
   "source": [
    "write_kafka_params = {\n",
    "   \"kafka.bootstrap.servers\": 'spark-master-1.newprolab.com:6667',\n",
    "   \"topic\": \"dmitriy.chausov\"\n",
    "}\n",
    "\n",
    "kafka_out_df.writeStream.format(\"kafka\").options(**write_kafka_params)\\\n",
    "    .option(\"checkpointLocation\", \"checkpoints/checkpoints_lab04\")\\\n",
    "    .outputMode(\"append\").start()\n",
    "\n",
    "# kafka_out_df.write \\\n",
    "#     .format(\"kafka\") \\\n",
    "#     .options(**write_kafka_params)\\\n",
    "#     .save()"
   ]
  },
  {
   "cell_type": "code",
   "execution_count": null,
   "metadata": {},
   "outputs": [],
   "source": []
  }
 ],
 "metadata": {
  "kernelspec": {
   "display_name": "Python 3",
   "language": "python",
   "name": "python3"
  },
  "language_info": {
   "codemirror_mode": {
    "name": "ipython",
    "version": 3
   },
   "file_extension": ".py",
   "mimetype": "text/x-python",
   "name": "python",
   "nbconvert_exporter": "python",
   "pygments_lexer": "ipython3",
   "version": "3.6.5"
  }
 },
 "nbformat": 4,
 "nbformat_minor": 2
}
