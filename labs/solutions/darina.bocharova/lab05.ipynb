{
 "cells": [
  {
   "cell_type": "markdown",
   "metadata": {},
   "source": [
    "# SparkSession"
   ]
  },
  {
   "cell_type": "code",
   "execution_count": 1,
   "metadata": {},
   "outputs": [
    {
     "data": {
      "text/plain": [
       "spark = org.apache.spark.sql.SparkSession@1233e212\n"
      ]
     },
     "metadata": {},
     "output_type": "display_data"
    },
    {
     "data": {
      "text/plain": [
       "org.apache.spark.sql.SparkSession@1233e212"
      ]
     },
     "execution_count": 1,
     "metadata": {},
     "output_type": "execute_result"
    }
   ],
   "source": [
    "import org.apache.spark.sql.SparkSession\n",
    "\n",
    "val spark = SparkSession\n",
    "  .builder()\n",
    "  .appName(\"Spark SQL basic example\")\n",
    "  .config(\"spark.some.config.option\", \"some-value\")\n",
    "  .getOrCreate()"
   ]
  },
  {
   "cell_type": "code",
   "execution_count": 2,
   "metadata": {},
   "outputs": [
    {
     "data": {
      "text/plain": [
       "org.apache.spark.sql.SparkSession@1233e212"
      ]
     },
     "execution_count": 2,
     "metadata": {},
     "output_type": "execute_result"
    }
   ],
   "source": [
    "spark"
   ]
  },
  {
   "cell_type": "code",
   "execution_count": 3,
   "metadata": {},
   "outputs": [],
   "source": [
    "import org.apache.spark.sql.Column\n",
    "import org.apache.spark.sql.Row\n",
    "import org.apache.spark.sql.functions._\n",
    "import org.apache.spark.sql.Dataset"
   ]
  },
  {
   "cell_type": "markdown",
   "metadata": {},
   "source": [
    "# Train"
   ]
  },
  {
   "cell_type": "code",
   "execution_count": 4,
   "metadata": {},
   "outputs": [
    {
     "data": {
      "text/plain": [
       "path_train = /labs/slaba05/lab05_train.csv\n"
      ]
     },
     "metadata": {},
     "output_type": "display_data"
    },
    {
     "data": {
      "text/plain": [
       "/labs/slaba05/lab05_train.csv"
      ]
     },
     "execution_count": 4,
     "metadata": {},
     "output_type": "execute_result"
    }
   ],
   "source": [
    "val path_train = \"/labs/slaba05/lab05_train.csv\""
   ]
  },
  {
   "cell_type": "code",
   "execution_count": 5,
   "metadata": {
    "scrolled": true
   },
   "outputs": [
    {
     "name": "stdout",
     "output_type": "stream",
     "text": [
      "root\n",
      " |-- _c0: integer (nullable = true)\n",
      " |-- ID: integer (nullable = true)\n",
      " |-- CR_PROD_CNT_IL: integer (nullable = true)\n",
      " |-- AMOUNT_RUB_CLO_PRC: double (nullable = true)\n",
      " |-- PRC_ACCEPTS_A_EMAIL_LINK: double (nullable = true)\n",
      " |-- APP_REGISTR_RGN_CODE: double (nullable = true)\n",
      " |-- PRC_ACCEPTS_A_POS: double (nullable = true)\n",
      " |-- PRC_ACCEPTS_A_TK: double (nullable = true)\n",
      " |-- TURNOVER_DYNAMIC_IL_1M: double (nullable = true)\n",
      " |-- CNT_TRAN_AUT_TENDENCY1M: double (nullable = true)\n",
      " |-- SUM_TRAN_AUT_TENDENCY1M: double (nullable = true)\n",
      " |-- AMOUNT_RUB_SUP_PRC: double (nullable = true)\n",
      " |-- PRC_ACCEPTS_A_AMOBILE: double (nullable = true)\n",
      " |-- SUM_TRAN_AUT_TENDENCY3M: double (nullable = true)\n",
      " |-- CLNT_TRUST_RELATION: string (nullable = true)\n",
      " |-- PRC_ACCEPTS_TK: double (nullable = true)\n",
      " |-- PRC_ACCEPTS_A_MTP: double (nullable = true)\n",
      " |-- REST_DYNAMIC_FDEP_1M: double (nullable = true)\n",
      " |-- CNT_TRAN_AUT_TENDENCY3M: double (nullable = true)\n",
      " |-- CNT_ACCEPTS_TK: double (nullable = true)\n",
      " |-- APP_MARITAL_STATUS: string (nullable = true)\n",
      " |-- REST_DYNAMIC_SAVE_3M: double (nullable = true)\n",
      " |-- CR_PROD_CNT_VCU: integer (nullable = true)\n",
      " |-- REST_AVG_CUR: double (nullable = true)\n",
      " |-- CNT_TRAN_MED_TENDENCY1M: double (nullable = true)\n",
      " |-- APP_KIND_OF_PROP_HABITATION: string (nullable = true)\n",
      " |-- CLNT_JOB_POSITION_TYPE: string (nullable = true)\n",
      " |-- AMOUNT_RUB_NAS_PRC: double (nullable = true)\n",
      " |-- CLNT_JOB_POSITION: string (nullable = true)\n",
      " |-- APP_DRIVING_LICENSE: string (nullable = true)\n",
      " |-- TRANS_COUNT_SUP_PRC: double (nullable = true)\n",
      " |-- APP_EDUCATION: string (nullable = true)\n",
      " |-- CNT_TRAN_CLO_TENDENCY1M: double (nullable = true)\n",
      " |-- SUM_TRAN_MED_TENDENCY1M: double (nullable = true)\n",
      " |-- PRC_ACCEPTS_A_ATM: double (nullable = true)\n",
      " |-- PRC_ACCEPTS_MTP: double (nullable = true)\n",
      " |-- TRANS_COUNT_NAS_PRC: double (nullable = true)\n",
      " |-- APP_TRAVEL_PASS: string (nullable = true)\n",
      " |-- CNT_ACCEPTS_MTP: double (nullable = true)\n",
      " |-- CR_PROD_CNT_TOVR: integer (nullable = true)\n",
      " |-- APP_CAR: string (nullable = true)\n",
      " |-- CR_PROD_CNT_PIL: integer (nullable = true)\n",
      " |-- SUM_TRAN_CLO_TENDENCY1M: double (nullable = true)\n",
      " |-- APP_POSITION_TYPE: string (nullable = true)\n",
      " |-- TURNOVER_CC: double (nullable = true)\n",
      " |-- TRANS_COUNT_ATM_PRC: double (nullable = true)\n",
      " |-- AMOUNT_RUB_ATM_PRC: double (nullable = true)\n",
      " |-- TURNOVER_PAYM: double (nullable = true)\n",
      " |-- AGE: integer (nullable = true)\n",
      " |-- CNT_TRAN_MED_TENDENCY3M: double (nullable = true)\n",
      " |-- CR_PROD_CNT_CC: integer (nullable = true)\n",
      " |-- SUM_TRAN_MED_TENDENCY3M: double (nullable = true)\n",
      " |-- REST_DYNAMIC_FDEP_3M: double (nullable = true)\n",
      " |-- REST_DYNAMIC_IL_1M: double (nullable = true)\n",
      " |-- APP_EMP_TYPE: string (nullable = true)\n",
      " |-- SUM_TRAN_CLO_TENDENCY3M: double (nullable = true)\n",
      " |-- LDEAL_TENOR_MAX: double (nullable = true)\n",
      " |-- LDEAL_YQZ_CHRG: double (nullable = true)\n",
      " |-- CR_PROD_CNT_CCFP: integer (nullable = true)\n",
      " |-- DEAL_YQZ_IR_MAX: double (nullable = true)\n",
      " |-- LDEAL_YQZ_COM: double (nullable = true)\n",
      " |-- DEAL_YQZ_IR_MIN: double (nullable = true)\n",
      " |-- CNT_TRAN_CLO_TENDENCY3M: double (nullable = true)\n",
      " |-- REST_DYNAMIC_CUR_1M: double (nullable = true)\n",
      " |-- REST_AVG_PAYM: double (nullable = true)\n",
      " |-- LDEAL_TENOR_MIN: double (nullable = true)\n",
      " |-- LDEAL_AMT_MONTH: double (nullable = true)\n",
      " |-- APP_COMP_TYPE: string (nullable = true)\n",
      " |-- LDEAL_GRACE_DAYS_PCT_MED: double (nullable = true)\n",
      " |-- REST_DYNAMIC_CUR_3M: double (nullable = true)\n",
      " |-- CNT_TRAN_SUP_TENDENCY3M: double (nullable = true)\n",
      " |-- TURNOVER_DYNAMIC_CUR_1M: double (nullable = true)\n",
      " |-- REST_DYNAMIC_PAYM_3M: double (nullable = true)\n",
      " |-- SUM_TRAN_SUP_TENDENCY3M: double (nullable = true)\n",
      " |-- REST_DYNAMIC_IL_3M: double (nullable = true)\n",
      " |-- CNT_TRAN_ATM_TENDENCY3M: double (nullable = true)\n",
      " |-- CNT_TRAN_ATM_TENDENCY1M: double (nullable = true)\n",
      " |-- TURNOVER_DYNAMIC_IL_3M: double (nullable = true)\n",
      " |-- SUM_TRAN_ATM_TENDENCY3M: double (nullable = true)\n",
      " |-- DEAL_GRACE_DAYS_ACC_S1X1: double (nullable = true)\n",
      " |-- AVG_PCT_MONTH_TO_PCLOSE: double (nullable = true)\n",
      " |-- DEAL_YWZ_IR_MIN: double (nullable = true)\n",
      " |-- SUM_TRAN_SUP_TENDENCY1M: double (nullable = true)\n",
      " |-- DEAL_YWZ_IR_MAX: double (nullable = true)\n",
      " |-- SUM_TRAN_ATM_TENDENCY1M: double (nullable = true)\n",
      " |-- REST_DYNAMIC_PAYM_1M: double (nullable = true)\n",
      " |-- CNT_TRAN_SUP_TENDENCY1M: double (nullable = true)\n",
      " |-- DEAL_GRACE_DAYS_ACC_AVG: double (nullable = true)\n",
      " |-- TURNOVER_DYNAMIC_CUR_3M: double (nullable = true)\n",
      " |-- PACK: string (nullable = true)\n",
      " |-- MAX_PCLOSE_DATE: double (nullable = true)\n",
      " |-- LDEAL_YQZ_PC: double (nullable = true)\n",
      " |-- CLNT_SETUP_TENOR: double (nullable = true)\n",
      " |-- DEAL_GRACE_DAYS_ACC_MAX: double (nullable = true)\n",
      " |-- TURNOVER_DYNAMIC_PAYM_3M: double (nullable = true)\n",
      " |-- LDEAL_DELINQ_PER_MAXYQZ: double (nullable = true)\n",
      " |-- TURNOVER_DYNAMIC_PAYM_1M: double (nullable = true)\n",
      " |-- CLNT_SALARY_VALUE: double (nullable = true)\n",
      " |-- TRANS_AMOUNT_TENDENCY3M: double (nullable = true)\n",
      " |-- MED_DEBT_PRC_YQZ: double (nullable = true)\n",
      " |-- TRANS_CNT_TENDENCY3M: double (nullable = true)\n",
      " |-- LDEAL_USED_AMT_AVG_YQZ: double (nullable = true)\n",
      " |-- REST_DYNAMIC_CC_1M: double (nullable = true)\n",
      " |-- LDEAL_USED_AMT_AVG_YWZ: double (nullable = true)\n",
      " |-- TURNOVER_DYNAMIC_CC_1M: double (nullable = true)\n",
      " |-- AVG_PCT_DEBT_TO_DEAL_AMT: double (nullable = true)\n",
      " |-- LDEAL_ACT_DAYS_ACC_PCT_AVG: double (nullable = true)\n",
      " |-- REST_DYNAMIC_CC_3M: double (nullable = true)\n",
      " |-- MED_DEBT_PRC_YWZ: double (nullable = true)\n",
      " |-- LDEAL_ACT_DAYS_PCT_TR3: double (nullable = true)\n",
      " |-- LDEAL_ACT_DAYS_PCT_AAVG: double (nullable = true)\n",
      " |-- LDEAL_DELINQ_PER_MAXYWZ: double (nullable = true)\n",
      " |-- TURNOVER_DYNAMIC_CC_3M: double (nullable = true)\n",
      " |-- LDEAL_ACT_DAYS_PCT_TR: double (nullable = true)\n",
      " |-- LDEAL_ACT_DAYS_PCT_TR4: double (nullable = true)\n",
      " |-- LDEAL_ACT_DAYS_PCT_CURR: double (nullable = true)\n",
      " |-- TARGET: integer (nullable = true)\n",
      "\n",
      "+------+------+--------------+---------------------+------------------------+--------------------+-----------------+----------------+----------------------+-----------------------+-----------------------+-------------------+---------------------+-----------------------+-------------------+--------------+-----------------+--------------------+-----------------------+--------------+------------------+--------------------+---------------+------------------+-----------------------+---------------------------+----------------------+-------------------+-------------------------+-------------------+-------------------+-------------+-----------------------+-----------------------+-----------------+---------------+--------------------+---------------+---------------+----------------+-------+---------------+-----------------------+-----------------+-----------+-------------------+-------------------+----------------+---+-----------------------+--------------+-----------------------+--------------------+------------------+------------+-----------------------+---------------+--------------+----------------+---------------+-------------+---------------+-----------------------+-------------------+------------------+---------------+---------------+-------------+------------------------+-------------------+-----------------------+-----------------------+--------------------+-----------------------+------------------+-----------------------+-----------------------+----------------------+-----------------------+------------------------+-----------------------+---------------+-----------------------+---------------+-----------------------+--------------------+-----------------------+-----------------------+-----------------------+----+---------------+------------+------------------+-----------------------+------------------------+-----------------------+------------------------+-----------------+-----------------------+----------------+--------------------+----------------------+------------------+----------------------+----------------------+------------------------+--------------------------+------------------+----------------+----------------------+-----------------------+-----------------------+----------------------+---------------------+----------------------+-----------------------+------+\n",
      "|_c0   |ID    |CR_PROD_CNT_IL|AMOUNT_RUB_CLO_PRC   |PRC_ACCEPTS_A_EMAIL_LINK|APP_REGISTR_RGN_CODE|PRC_ACCEPTS_A_POS|PRC_ACCEPTS_A_TK|TURNOVER_DYNAMIC_IL_1M|CNT_TRAN_AUT_TENDENCY1M|SUM_TRAN_AUT_TENDENCY1M|AMOUNT_RUB_SUP_PRC |PRC_ACCEPTS_A_AMOBILE|SUM_TRAN_AUT_TENDENCY3M|CLNT_TRUST_RELATION|PRC_ACCEPTS_TK|PRC_ACCEPTS_A_MTP|REST_DYNAMIC_FDEP_1M|CNT_TRAN_AUT_TENDENCY3M|CNT_ACCEPTS_TK|APP_MARITAL_STATUS|REST_DYNAMIC_SAVE_3M|CR_PROD_CNT_VCU|REST_AVG_CUR      |CNT_TRAN_MED_TENDENCY1M|APP_KIND_OF_PROP_HABITATION|CLNT_JOB_POSITION_TYPE|AMOUNT_RUB_NAS_PRC |CLNT_JOB_POSITION        |APP_DRIVING_LICENSE|TRANS_COUNT_SUP_PRC|APP_EDUCATION|CNT_TRAN_CLO_TENDENCY1M|SUM_TRAN_MED_TENDENCY1M|PRC_ACCEPTS_A_ATM|PRC_ACCEPTS_MTP|TRANS_COUNT_NAS_PRC |APP_TRAVEL_PASS|CNT_ACCEPTS_MTP|CR_PROD_CNT_TOVR|APP_CAR|CR_PROD_CNT_PIL|SUM_TRAN_CLO_TENDENCY1M|APP_POSITION_TYPE|TURNOVER_CC|TRANS_COUNT_ATM_PRC|AMOUNT_RUB_ATM_PRC |TURNOVER_PAYM   |AGE|CNT_TRAN_MED_TENDENCY3M|CR_PROD_CNT_CC|SUM_TRAN_MED_TENDENCY3M|REST_DYNAMIC_FDEP_3M|REST_DYNAMIC_IL_1M|APP_EMP_TYPE|SUM_TRAN_CLO_TENDENCY3M|LDEAL_TENOR_MAX|LDEAL_YQZ_CHRG|CR_PROD_CNT_CCFP|DEAL_YQZ_IR_MAX|LDEAL_YQZ_COM|DEAL_YQZ_IR_MIN|CNT_TRAN_CLO_TENDENCY3M|REST_DYNAMIC_CUR_1M|REST_AVG_PAYM     |LDEAL_TENOR_MIN|LDEAL_AMT_MONTH|APP_COMP_TYPE|LDEAL_GRACE_DAYS_PCT_MED|REST_DYNAMIC_CUR_3M|CNT_TRAN_SUP_TENDENCY3M|TURNOVER_DYNAMIC_CUR_1M|REST_DYNAMIC_PAYM_3M|SUM_TRAN_SUP_TENDENCY3M|REST_DYNAMIC_IL_3M|CNT_TRAN_ATM_TENDENCY3M|CNT_TRAN_ATM_TENDENCY1M|TURNOVER_DYNAMIC_IL_3M|SUM_TRAN_ATM_TENDENCY3M|DEAL_GRACE_DAYS_ACC_S1X1|AVG_PCT_MONTH_TO_PCLOSE|DEAL_YWZ_IR_MIN|SUM_TRAN_SUP_TENDENCY1M|DEAL_YWZ_IR_MAX|SUM_TRAN_ATM_TENDENCY1M|REST_DYNAMIC_PAYM_1M|CNT_TRAN_SUP_TENDENCY1M|DEAL_GRACE_DAYS_ACC_AVG|TURNOVER_DYNAMIC_CUR_3M|PACK|MAX_PCLOSE_DATE|LDEAL_YQZ_PC|CLNT_SETUP_TENOR  |DEAL_GRACE_DAYS_ACC_MAX|TURNOVER_DYNAMIC_PAYM_3M|LDEAL_DELINQ_PER_MAXYQZ|TURNOVER_DYNAMIC_PAYM_1M|CLNT_SALARY_VALUE|TRANS_AMOUNT_TENDENCY3M|MED_DEBT_PRC_YQZ|TRANS_CNT_TENDENCY3M|LDEAL_USED_AMT_AVG_YQZ|REST_DYNAMIC_CC_1M|LDEAL_USED_AMT_AVG_YWZ|TURNOVER_DYNAMIC_CC_1M|AVG_PCT_DEBT_TO_DEAL_AMT|LDEAL_ACT_DAYS_ACC_PCT_AVG|REST_DYNAMIC_CC_3M|MED_DEBT_PRC_YWZ|LDEAL_ACT_DAYS_PCT_TR3|LDEAL_ACT_DAYS_PCT_AAVG|LDEAL_DELINQ_PER_MAXYWZ|TURNOVER_DYNAMIC_CC_3M|LDEAL_ACT_DAYS_PCT_TR|LDEAL_ACT_DAYS_PCT_TR4|LDEAL_ACT_DAYS_PCT_CURR|TARGET|\n",
      "+------+------+--------------+---------------------+------------------------+--------------------+-----------------+----------------+----------------------+-----------------------+-----------------------+-------------------+---------------------+-----------------------+-------------------+--------------+-----------------+--------------------+-----------------------+--------------+------------------+--------------------+---------------+------------------+-----------------------+---------------------------+----------------------+-------------------+-------------------------+-------------------+-------------------+-------------+-----------------------+-----------------------+-----------------+---------------+--------------------+---------------+---------------+----------------+-------+---------------+-----------------------+-----------------+-----------+-------------------+-------------------+----------------+---+-----------------------+--------------+-----------------------+--------------------+------------------+------------+-----------------------+---------------+--------------+----------------+---------------+-------------+---------------+-----------------------+-------------------+------------------+---------------+---------------+-------------+------------------------+-------------------+-----------------------+-----------------------+--------------------+-----------------------+------------------+-----------------------+-----------------------+----------------------+-----------------------+------------------------+-----------------------+---------------+-----------------------+---------------+-----------------------+--------------------+-----------------------+-----------------------+-----------------------+----+---------------+------------+------------------+-----------------------+------------------------+-----------------------+------------------------+-----------------+-----------------------+----------------+--------------------+----------------------+------------------+----------------------+----------------------+------------------------+--------------------------+------------------+----------------+----------------------+-----------------------+-----------------------+----------------------+---------------------+----------------------+-----------------------+------+\n",
      "|333149|479990|0             |0.0                  |0.0                     |null                |0.0              |0.0             |0.0                   |null                   |null                   |0.0                |0.0                  |null                   |null               |0.0           |0.0              |0.0                 |null                   |0.0           |null              |0.0                 |0              |19069.6917166667  |null                   |null                       |null                  |0.0                |null                     |null               |0.0                |null         |null                   |null                   |0.0              |0.0            |0.0                 |null           |0.0            |1               |null   |0              |null                   |null             |0.0        |0.981818181818182  |0.9264718189135429 |0.0             |324|null                   |0             |null                   |0.0                 |0.0               |null        |null                   |null           |null          |0               |null           |null         |null           |null                   |0.139327197286461  |0.0               |null           |null           |null         |0.0                     |0.24404241658152398|null                   |0.14429972251526998    |0.0                 |null                   |0.0               |0.351851851851852      |0.166666666666667      |0.0                   |0.329320637235633      |0.0                     |null                   |45.0           |null                   |45.0           |0.16790105289165602    |0.0                 |null                   |0.0                    |0.30374965665416803    |102 |null           |null        |5.48000105784548  |0.0                    |0.0                     |null                   |0.0                     |null             |0.305106289785464      |null            |0.34545454545454496 |null                  |0.0               |1.0                   |0.0                   |null                    |0.0035236081747709704     |0.0               |0.0             |0.0                   |0.0                    |0.0                    |0.0                   |0.0                  |0.0                   |0.0                    |0     |\n",
      "|303639|450480|0             |0.0                  |0.0                     |null                |0.0              |0.0             |0.0                   |null                   |null                   |0.0271675019481959 |0.0                  |null                   |null               |0.0           |0.0              |0.0                 |null                   |0.0           |null              |0.0                 |0              |5951.20868333333  |null                   |null                       |null                  |0.0487455178496337 |офис-менеджер            |null               |0.0303030303030303 |null         |null                   |null                   |0.0              |0.0            |0.0303030303030303  |null           |0.0            |1               |null   |0              |null                   |null             |0.0        |0.0909090909090909 |0.292473107097802  |0.0             |360|null                   |0             |null                   |0.0                 |0.0               |null        |null                   |null           |null          |0               |null           |null         |null           |null                   |0.163875925921502  |0.0               |null           |null           |null         |0.0                     |0.4652443081723449 |1.0                    |0.203483595055288      |0.0                 |1.0                    |0.0               |0.33333333333333304    |0.33333333333333304    |0.0                   |0.33333333333333304    |0.0                     |null                   |45.0           |null                   |45.0           |0.33333333333333304    |0.0                 |null                   |0.0                    |0.504160053455052      |102 |null           |null        |6.78645267074871  |0.0                    |0.0                     |null                   |0.0                     |null             |0.36879916391687795    |null            |0.45454545454545503 |null                  |0.0               |1.0                   |0.0                   |null                    |6.17665225447807E-4       |0.0               |0.0             |0.0                   |0.0                    |0.0                    |0.0                   |0.0                  |0.0                   |0.0                    |0     |\n",
      "|327113|473954|0             |0.0                  |0.0                     |null                |0.0              |0.0             |0.0                   |null                   |null                   |0.114950710864578  |0.0                  |null                   |null               |0.0           |0.0              |0.0                 |null                   |0.0           |null              |0.0                 |0              |3774.5829333333295|0.25                   |null                       |null                  |0.004519078328552  |консультант              |null               |0.36363636363636404|null         |null                   |0.27948691322821995    |0.0              |0.0            |0.136363636363636   |null           |0.0            |1               |null   |0              |null                   |null             |0.0        |0.136363636363636  |0.5332512427691359 |0.0             |600|1.0                    |0             |1.0                    |0.0                 |0.0               |null        |null                   |null           |null          |0               |null           |null         |null           |null                   |0.0738865162745398 |0.0               |null           |null           |null         |0.0                     |0.49001828352109   |0.375                  |0.0902562080725851     |0.0                 |0.31734780687477504    |0.0               |null                   |null                   |0.0                   |null                   |0.0                     |null                   |45.0           |null                   |45.0           |null                   |0.0                 |null                   |0.0                    |0.351397609566599      |102 |null           |null        |8.52838815461967  |0.0                    |0.0                     |null                   |0.0                     |null             |0.35852153110350604    |null            |0.31818181818181795 |null                  |0.0               |1.0                   |0.0                   |null                    |0.0274841437632135        |0.0               |0.0             |0.0                   |0.0                    |0.0                    |0.0                   |0.0                  |0.0                   |0.0                    |0     |\n",
      "|384197|531038|0             |0.0                  |null                    |null                |null             |null            |0.0                   |null                   |null                   |0.0                |null                 |null                   |null               |null          |null             |0.0                 |null                   |null          |null              |0.0                 |0              |148568.26385      |null                   |null                       |null                  |0.0                |null                     |null               |0.0                |null         |null                   |null                   |null             |null           |0.0                 |null           |null           |0               |null   |0              |null                   |null             |0.0        |0.666666666666667  |0.7610350076103499 |0.0             |732|null                   |0             |null                   |0.0                 |0.0               |null        |null                   |null           |null          |0               |null           |null         |null           |null                   |0.16584691571956697|0.0               |null           |null           |null         |0.0                     |0.49754074715870095|null                   |0.0                    |0.0                 |null                   |0.0               |null                   |null                   |0.0                   |null                   |null                    |null                   |null           |null                   |null           |null                   |0.0                 |null                   |null                   |0.0                    |K01 |null           |null        |3.2918290148347302|null                   |0.0                     |null                   |0.0                     |null             |null                   |null            |null                |null                  |0.0               |null                  |0.0                   |null                    |null                      |0.0               |null            |null                  |null                   |null                   |0.0                   |null                 |null                  |null                   |0     |\n",
      "|202462|349303|0             |0.0                  |0.0                     |null                |0.0              |0.0             |0.0                   |null                   |null                   |0.0115406434290436 |0.0                  |1.0                    |null               |0.0           |0.0              |0.0                 |1.0                    |0.0           |null              |0.0                 |0              |69233.3887        |null                   |null                       |null                  |0.0                |экономист                |null               |0.0833333333333333 |null         |null                   |null                   |0.0              |0.0            |0.0                 |null           |0.0            |0               |null   |0              |null                   |null             |0.0        |0.25               |0.48660788158802704|0.0             |480|null                   |0             |null                   |0.0                 |0.0               |null        |null                   |null           |null          |0               |null           |null         |null           |null                   |0.0556026989137781 |0.0               |null           |null           |null         |0.0                     |0.247152582320443  |null                   |0.31627662462716       |0.0                 |null                   |0.0               |0.666666666666667      |0.666666666666667      |0.0                   |0.416697215262786      |null                    |null                   |null           |null                   |null           |0.416697215262786      |0.0                 |null                   |null                   |0.735125270155536      |K01 |null           |null        |5.16021944071087  |null                   |0.0                     |null                   |0.0                     |null             |0.688108064798467      |null            |0.75                |null                  |0.0               |null                  |0.0                   |null                    |null                      |0.0               |null            |null                  |null                   |null                   |0.0                   |null                 |null                  |null                   |0     |\n",
      "|53398 |200239|0             |0.0                  |null                    |null                |null             |null            |0.0                   |null                   |null                   |0.0                |null                 |null                   |null               |null          |null             |0.0                 |null                   |null          |null              |0.0                 |0              |218286.244083333  |null                   |null                       |null                  |0.0                |null                     |null               |0.0                |null         |null                   |null                   |null             |null           |0.0                 |null           |null           |0               |null   |0              |null                   |null             |0.0        |0.0                |0.0                |0.0             |468|null                   |0             |null                   |0.0                 |0.0               |null        |null                   |null           |null          |0               |null           |null         |null           |null                   |0.166293886508681  |0.0               |null           |null           |null         |0.0                     |0.49921323393943295|null                   |0.0593186613505132     |0.0                 |null                   |0.0               |null                   |null                   |0.0                   |null                   |null                    |null                   |null           |null                   |null           |null                   |0.0                 |null                   |null                   |0.2665585415118        |102 |null           |null        |7.57420568249701  |null                   |0.0                     |null                   |0.0                     |null             |null                   |null            |null                |null                  |0.0               |null                  |0.0                   |null                    |null                      |0.0               |null            |null                  |null                   |null                   |0.0                   |null                 |null                  |null                   |0     |\n",
      "|251372|398213|0             |0.0185846840812958   |0.0                     |null                |0.0              |0.0             |0.0                   |0.5                    |0.345763757929025      |0.19187446301655603|0.0                  |1.0                    |null               |0.0           |0.0              |0.0                 |1.0                    |0.0           |null              |0.0                 |0              |22457.3789833333  |null                   |null                       |null                  |0.0                |Младший научный сотрудник|null               |0.577235772357724  |null         |1.0                    |null                   |0.0              |0.0            |0.0                 |null           |0.0            |1               |null   |0              |1.0                    |null             |0.0        |0.0569105691056911 |0.43167927578322707|0.0             |420|0.7894736842105259     |0             |0.819603238273658      |0.0                 |0.0               |null        |1.0                    |null           |null          |0               |null           |null         |null           |1.0                    |0.101100342936354  |0.0               |null           |null           |null         |0.0                     |0.567836333859973  |0.788732394366197      |0.479581986878872      |0.0                 |0.7892873948561558     |0.0               |0.42857142857142894    |0.14285714285714302    |0.0                   |0.393177737881508      |0.0                     |null                   |45.0           |0.17096141612222399    |45.0           |0.34111310592459604    |0.0                 |0.22535211267605604    |0.0                    |0.6300663955071079     |O01 |null           |null        |7.14677858049582  |0.0                    |0.0                     |null                   |0.0                     |null             |0.608377693481054      |null            |0.7642276422764229  |null                  |0.0               |1.0                   |0.0                   |null                    |0.0268691588785047        |0.0               |0.0             |0.0                   |0.0                    |0.0                    |0.0                   |0.0                  |0.0                   |0.0                    |0     |\n",
      "|71572 |218413|1             |0.0280635180135713   |null                    |77.0                |null             |null            |0.0                   |0.14285714285714302    |0.17954617962274802    |0.0502357143884446 |null                 |0.434405947674022      |null               |null          |null             |0.0                 |0.42857142857142894    |null          |M                 |0.0                 |0              |57464.6785        |null                   |RENT                       |null                  |0.0239485439436568 |ДИРЕКТОР                 |Y                  |0.18348623853210996|UH           |null                   |null                   |null             |null           |0.0963302752293578  |N              |null           |0               |N      |0              |null                   |MANAGER          |0.0        |0.169724770642202  |0.546032813004948  |0.0             |564|0.5                    |0             |0.6858598097995711     |0.0                 |0.0               |PRIVATE     |null                   |null           |null          |0               |null           |null         |null           |null                   |0.14336989257380703|0.0               |null           |null           |PRIVATE      |0.0                     |0.514339582531555  |0.575                  |0.10662958320607599    |0.0                 |0.507493161342134      |0.0               |0.621621621621622      |0.24324324324324303    |0.0                   |0.81161160945205       |null                    |null                   |null           |0.29514191783572197    |null           |0.0674188068843874     |0.0                 |0.275                  |null                   |0.57233729875817       |O01 |null           |null        |3.65216267174432  |null                   |0.0                     |null                   |0.0                     |null             |0.657384303822736      |null            |0.509174311926606   |null                  |0.0               |null                  |0.0                   |null                    |null                      |0.0               |null            |null                  |null                   |null                   |0.0                   |null                 |null                  |null                   |0     |\n",
      "|169965|316806|3             |0.0                  |0.0                     |null                |0.0              |0.0             |0.0                   |null                   |null                   |0.0                |0.0                  |null                   |FRIEND             |0.0           |0.0              |0.0                 |null                   |0.0           |V                 |0.48780033525796207 |1              |399.459183333333  |null                   |null                       |MANAGER               |0.0                |СПЕЦИАЛИСТ               |null               |0.0                |H            |null                   |null                   |0.0              |0.0            |0.0                 |null           |0.0            |2               |null   |0              |null                   |SPECIALIST       |0.0        |1.0                |1.0                |0.0             |408|null                   |0             |null                   |0.0                 |0.0               |PRIVATE     |null                   |7.0            |null          |0               |32.0           |null         |32.0           |null                   |0.531075744868552  |0.0               |7.0            |null           |PRIVATE      |0.0                     |0.533095141844071  |null                   |0.781769771969606      |0.0                 |null                   |0.242648587579487 |1.0                    |1.0                    |0.00344269423210898   |1.0                    |null                    |null                   |45.0           |null                   |45.0           |1.0                    |0.0                 |null                   |null                   |0.781769771969606      |K01 |null           |null        |9.94785384931302  |null                   |0.0                     |0.0                    |0.0                     |null             |1.0                    |1.0             |1.0                 |0.647832420091324     |0.0               |1.0                   |0.0                   |null                    |0.0                       |0.0               |0.0             |0.0                   |0.0                    |0.0                    |0.0                   |0.0                  |0.0                   |0.0                    |1     |\n",
      "|257285|404126|0             |0.39559915051431893  |0.0                     |null                |0.0              |0.0             |0.0                   |1.0                    |1.0                    |0.0290181346045583 |0.0                  |1.0                    |null               |0.0           |0.0              |0.0                 |1.0                    |0.0           |null              |0.0                 |0              |1274583.63748333  |null                   |null                       |null                  |0.043594511591401  |глав.бухгалтер           |null               |0.0461538461538462 |null         |0.0740740740740741     |null                   |0.0              |0.0            |0.16153846153846202 |null           |0.0            |0               |null   |0              |0.150264276289956      |null             |0.0        |0.0153846153846154 |0.00347943574895113|0.0             |504|0.545454545454545      |0             |0.219637505073497      |0.0                 |0.0               |null        |0.45599029848671       |null           |null          |0               |null           |null         |null           |0.555555555555556      |0.270296493682371  |0.0               |null           |null           |null         |0.0                     |0.654287385876554  |0.833333333333333      |0.46234225627319003    |0.0                 |0.793950284755726      |0.0               |1.0                    |null                   |0.0                   |1.0                    |null                    |null                   |null           |0.0542428783090438     |null           |null                   |0.0                 |0.166666666666667      |null                   |0.5838242749804179     |K01 |null           |null        |10.3779613761947  |null                   |0.0                     |null                   |0.0                     |null             |0.6709755844340091     |null            |0.538461538461538   |null                  |0.0               |null                  |0.0                   |null                    |null                      |0.0               |null            |null                  |null                   |null                   |0.0                   |null                 |null                  |null                   |0     |\n",
      "|277683|424524|0             |0.35435981463904903  |0.0                     |77.0                |0.0              |0.0             |0.0                   |null                   |null                   |0.0724367338264589 |0.0                  |null                   |FRIEND             |0.0           |0.0              |0.0                 |null                   |0.0           |M                 |0.0                 |0              |25890.6230833333  |null                   |NPRIVAT                    |TOP_MANAGER           |0.0                |начальник отдела ВЭД     |null               |0.125              |H            |null                   |null                   |0.0              |0.0            |0.0                 |null           |0.0            |2               |null   |0              |null                   |SPECIALIST       |0.0        |0.28125            |0.19980523100515998|0.0             |444|null                   |2             |null                   |0.0                 |0.0               |PRIVATE     |0.9157802747279058     |null           |null          |0               |null           |null         |null           |0.5                    |0.0244421740886582 |0.0               |null           |null           |PRIVATE      |0.0                     |0.40593822196444707|null                   |0.00116443304145554    |0.0                 |null                   |0.0               |0.222222222222222      |0.111111111111111      |0.0                   |0.20923621124848998    |null                    |null                   |null           |null                   |null           |0.00854025352034652    |0.0                 |null                   |null                   |0.40873468927205503    |102 |null           |null        |9.15215492458184  |null                   |0.0                     |null                   |0.0                     |null             |0.40718358950543604    |null            |0.25                |null                  |0.0               |null                  |0.0                   |null                    |null                      |0.0               |null            |null                  |null                   |null                   |0.0                   |null                 |null                  |null                   |0     |\n",
      "|117673|264514|0             |0.0877804766942336   |0.0                     |null                |0.0              |0.0             |0.0                   |null                   |null                   |0.029653636651663  |0.0                  |null                   |null               |0.0           |0.0              |0.0                 |null                   |0.0           |null              |0.0                 |0              |344321.924333333  |null                   |null                       |null                  |0.0                |Менеджер отдела продаж   |null               |0.267857142857143  |null         |null                   |null                   |0.0              |0.0            |0.0                 |null           |0.0            |0               |null   |0              |null                   |null             |0.0        |0.41071428571428603|0.664507742198202  |0.0             |300|0.5                    |0             |0.44921875             |0.0                 |0.0               |null        |0.550818609174907      |null           |null          |0               |null           |null         |null           |0.5                    |0.18003398777667   |0.0               |null           |null           |null         |0.0                     |0.53470830446383   |0.866666666666667      |0.296740136978772      |0.0                 |0.9315062577195821     |0.0               |0.4782608695652171     |0.0434782608695652     |0.0                   |0.548179871520343      |null                    |null                   |null           |0.500680906685554      |null           |0.274089935760171      |0.0                 |0.33333333333333304    |null                   |0.6621768455662349     |O01 |null           |null        |3.7220551448626   |null                   |0.0                     |null                   |0.0                     |null             |0.614623359430701      |null            |0.6964285714285711  |null                  |0.0               |null                  |0.0                   |null                    |null                      |0.0               |null            |null                  |null                   |null                   |0.0                   |null                 |null                  |null                   |0     |\n",
      "|313331|460172|0             |0.0                  |null                    |null                |null             |null            |0.0                   |null                   |null                   |0.0128122227754371 |null                 |null                   |null               |null          |null             |0.0                 |null                   |null          |null              |0.0                 |0              |9377.9519         |null                   |null                       |null                  |0.0                |ПЕНСИОНЕР                |null               |0.46666666666666706|null         |null                   |null                   |null             |null           |0.0                 |null           |null           |0               |null   |0              |null                   |null             |0.0        |0.5333333333333329 |0.9871877772245631 |0.0             |468|null                   |0             |null                   |0.0                 |0.0               |null        |null                   |null           |null          |0               |null           |null         |null           |null                   |0.194414233808699  |0.0               |null           |null           |null         |0.0                     |1.0                |1.0                    |0.18773224637778602    |0.0                 |1.0                    |0.0               |1.0                    |0.25                   |0.0                   |1.0                    |null                    |null                   |null           |0.37224462797101604    |null           |0.187106918238994      |0.0                 |0.3571428571428571     |null                   |1.0                    |O01 |null           |null        |0.5740870793508559|null                   |0.0                     |null                   |0.0                     |null             |1.0                    |null            |1.0                 |null                  |0.0               |null                  |0.0                   |null                    |null                      |0.0               |null            |null                  |null                   |null                   |0.0                   |null                 |null                  |null                   |1     |\n",
      "|423509|570350|0             |0.0                  |0.0                     |77.0                |0.0              |0.0             |0.0                   |null                   |null                   |0.0624443801235289 |0.0                  |null                   |SISTER             |0.0           |0.0              |0.0                 |null                   |0.0           |M                 |0.0                 |0              |0.0               |null                   |SO                         |MANAGER               |0.20113913431678898|РУКОВОДИТЕЛЬ ОТДЕЛА      |N                  |0.23076923076923103|HH           |null                   |null                   |0.0              |0.0            |0.23076923076923103 |N              |0.0            |1               |N      |1              |null                   |MANAGER          |0.0        |0.23076923076923103|0.625230696775396  |26428.3333333333|384|null                   |0             |null                   |0.0                 |0.0               |INTER       |null                   |36.0           |null          |0               |23.49          |null         |23.49          |null                   |0.0                |1371.1210333333302|36.0           |null           |INTER        |0.0                     |0.0                |1.0                    |0.0                    |0.800544036581648   |1.0                    |0.0               |1.0                    |0.666666666666667      |0.0                   |1.0                    |0.0                     |null                   |45.0           |1.0                    |45.0           |0.5723504155472421     |0.22481530988596696 |1.0                    |0.0                    |0.0                    |105 |null           |null        |4.70043116537236  |0.0                    |0.432742637321057       |0.0                    |0.0503729583149398      |null             |0.940521686232762      |1.0             |0.923076923076923   |0.025049452265745002  |0.0               |1.0                   |0.0                   |null                    |0.0177073625349487        |0.0               |0.0             |0.226190476190476     |0.226190476190476      |0.0                    |0.0                   |0.0                  |0.0                   |0.0                    |1     |\n",
      "|300824|447665|0             |0.0                  |0.0                     |null                |0.0              |0.0             |0.0                   |null                   |null                   |0.0026143895360458 |0.0                  |null                   |null               |0.0           |0.0              |0.0                 |null                   |0.0           |null              |0.0                 |0              |3872.6532666666703|null                   |null                       |null                  |0.0                |менеджер по продажам     |null               |0.222222222222222  |null         |null                   |null                   |0.0              |0.0            |0.0                 |null           |0.0            |1               |null   |0              |null                   |null             |0.0        |0.7777777777777779 |0.997385610463954  |0.0             |312|null                   |0             |null                   |0.0                 |0.0               |null        |null                   |null           |null          |0               |null           |null         |null           |null                   |0.0512344688953047 |0.0               |null           |null           |null         |0.0                     |0.28250904259455295|1.0                    |0.00960537152719542    |0.0                 |1.0                    |0.0               |null                   |null                   |0.0                   |null                   |0.0                     |null                   |20.0           |0.18715596330275197    |20.0           |null                   |0.0                 |0.5                    |0.0                    |0.5315411377016029     |102 |null           |null        |2.62247417612505  |0.0                    |0.0                     |null                   |0.0                     |null             |0.0026143895360458     |null            |0.222222222222222   |null                  |0.0               |1.0                   |0.0                   |null                    |0.0714285714285714        |0.0               |0.0             |0.0                   |0.0                    |0.0                    |0.0                   |0.0                  |0.0                   |0.0                    |1     |\n",
      "|182764|329605|0             |0.0                  |null                    |null                |null             |null            |0.0                   |null                   |null                   |0.0115338357574866 |null                 |null                   |null               |null          |null             |0.0                 |null                   |null          |null              |0.0                 |0              |6059.15231666667  |null                   |null                       |null                  |0.0                |null                     |null               |0.16               |null         |null                   |null                   |null             |null           |0.0                 |null           |null           |0               |null   |0              |null                   |null             |0.0        |0.84               |0.9884661642425129 |0.0             |564|null                   |0             |null                   |0.0                 |0.0               |null        |null                   |null           |null          |0               |null           |null         |null           |null                   |0.31399602351967104|0.0               |null           |null           |null         |0.0                     |0.7431564760218009 |1.0                    |0.29794750276227       |0.0                 |1.0                    |0.0               |0.857142857142857      |0.38095238095238104    |0.0                   |0.728291316526611      |null                    |null                   |null           |null                   |null           |0.32212885154061605    |0.0                 |null                   |null                   |0.566927270039385      |102 |null           |null        |1.05000438694743  |null                   |0.0                     |null                   |0.0                     |null             |0.7314251598556758     |null            |0.88                |null                  |0.0               |null                  |0.0                   |null                    |null                      |0.0               |null            |null                  |null                   |null                   |0.0                   |null                 |null                  |null                   |0     |\n",
      "|57242 |204083|0             |0.0055844182496420395|null                    |null                |null             |null            |0.0                   |0.111111111111111      |0.0417470566076597     |0.0507776672405002 |null                 |1.0                    |null               |null          |null             |0.0                 |1.0                    |null          |null              |0.0                 |0              |38048.3580333333  |null                   |null                       |null                  |0.0073875144247694 |РУКОВОДИТЕЛЬ             |null               |0.41463414634146295|null         |null                   |null                   |null             |null           |0.008130081300813009|null           |null           |0               |null   |0              |null                   |null             |0.0        |0.195121951219512  |0.8044331055758941 |0.0             |492|null                   |0             |null                   |0.0                 |0.0               |null        |1.0                    |null           |null          |0               |null           |null         |null           |1.0                    |0.201829445393474  |0.0               |null           |null           |null         |0.0                     |0.9186663447967399 |0.862745098039216      |0.16454467610456       |0.0                 |0.9177211269911321     |0.0               |0.875                  |0.25                   |0.0                   |0.9430898733856999     |null                    |null                   |null           |0.22592334146103896    |null           |0.19783474752647198    |0.0                 |0.254901960784314      |null                   |0.9348014228788208     |K01 |null           |null        |10.009689553464801|null                   |0.0                     |null                   |0.0                     |null             |0.9496790883466808     |null            |0.910569105691057   |null                  |0.0               |null                  |0.0                   |null                    |null                      |0.0               |null            |null                  |null                   |null                   |0.0                   |null                 |null                  |null                   |0     |\n",
      "|230607|377448|0             |0.164325265488707    |null                    |null                |null             |null            |0.0                   |null                   |null                   |0.160848977859655  |null                 |null                   |null               |null          |null             |0.0                 |null                   |null          |null              |0.0                 |0              |20144.4515333333  |null                   |null                       |null                  |0.0                |ГЕНЕРАЛЬНЫЙ ДИРЕКТОР     |null               |0.48648648648648607|null         |0.18181818181818202    |null                   |null             |null           |0.0                 |null           |null           |0               |null   |0              |0.145575932748478      |null             |0.0        |0.0810810810810811 |0.5117499973492691 |0.0             |456|1.0                    |0             |1.0                    |0.0                 |0.0               |null        |0.593396975309898      |null           |null          |0               |null           |null         |null           |0.545454545454545      |0.127196787285411  |0.0               |null           |null           |null         |0.0                     |0.399749021213527  |0.583333333333333      |0.22169753729595698    |0.0                 |0.650164650710922      |0.0               |0.75                   |0.33333333333333304    |0.0                   |0.617647058823529      |null                    |null                   |null           |0.13249079636213001    |null           |0.35947712418300704    |0.0                 |0.138888888888889      |null                   |0.584270151061391      |102 |null           |null        |6.60376782780765  |null                   |0.0                     |null                   |0.0                     |null             |0.5998339454877879     |null            |0.594594594594595   |null                  |0.0               |null                  |0.0                   |null                    |null                      |0.0               |null            |null                  |null                   |null                   |0.0                   |null                 |null                  |null                   |0     |\n",
      "|150246|297087|0             |0.0                  |null                    |54.0                |null             |null            |0.0                   |null                   |null                   |0.0                |null                 |null                   |OTHER              |null          |null             |0.0                 |null                   |null          |M                 |0.0                 |0              |901.662016666667  |null                   |null                       |null                  |0.0                |null                     |N                  |0.0                |SS           |null                   |null                   |null             |null           |0.0                 |N              |null           |0               |N      |0              |null                   |null             |0.0        |1.0                |1.0                |0.0             |828|null                   |0             |null                   |0.0                 |0.0               |STATE       |null                   |null           |null          |0               |null           |null         |null           |null                   |0.5564300414784019 |0.0               |null           |null           |STATE        |0.0                     |0.628282426816952  |null                   |0.635897059604283      |0.0                 |null                   |0.0               |0.33333333333333304    |0.222222222222222      |0.0                   |0.545945945945946      |null                    |null                   |null           |null                   |null           |0.44324324324324293    |0.0                 |null                   |null                   |0.704020859980372      |107 |null           |null        |4.24624094608722  |null                   |0.0                     |null                   |0.0                     |null             |0.545945945945946      |null            |0.33333333333333304 |null                  |0.0               |null                  |0.0                   |null                    |null                      |0.0               |null            |null                  |null                   |null                   |0.0                   |null                 |null                  |null                   |0     |\n",
      "|138617|285458|0             |0.0                  |null                    |null                |null             |null            |0.0                   |null                   |null                   |0.0                |null                 |null                   |null               |null          |null             |0.0                 |null                   |null          |null              |0.0                 |0              |82438.1069        |null                   |null                       |null                  |0.0                |Директор                 |null               |0.0                |null         |null                   |null                   |null             |null           |0.0                 |null           |null           |0               |null   |0              |null                   |null             |0.0        |1.0                |1.0                |0.0             |528|null                   |0             |null                   |0.0                 |0.0               |null        |null                   |null           |null          |0               |null           |null         |null           |null                   |0.23313087263531   |0.0               |null           |null           |null         |0.0                     |0.409293985538299  |null                   |0.239200865888617      |0.0                 |null                   |0.0               |0.5                    |0.222222222222222      |0.0                   |0.428242501658975      |null                    |null                   |null           |null                   |null           |0.21197686632200896    |0.0                 |null                   |null                   |0.45893488821402506    |K01 |null           |null        |4.16022718787336  |null                   |0.0                     |null                   |0.0                     |null             |0.428242501658975      |null            |0.5                 |null                  |0.0               |null                  |0.0                   |null                    |null                      |0.0               |null            |null                  |null                   |null                   |0.0                   |null                 |null                  |null                   |0     |\n",
      "+------+------+--------------+---------------------+------------------------+--------------------+-----------------+----------------+----------------------+-----------------------+-----------------------+-------------------+---------------------+-----------------------+-------------------+--------------+-----------------+--------------------+-----------------------+--------------+------------------+--------------------+---------------+------------------+-----------------------+---------------------------+----------------------+-------------------+-------------------------+-------------------+-------------------+-------------+-----------------------+-----------------------+-----------------+---------------+--------------------+---------------+---------------+----------------+-------+---------------+-----------------------+-----------------+-----------+-------------------+-------------------+----------------+---+-----------------------+--------------+-----------------------+--------------------+------------------+------------+-----------------------+---------------+--------------+----------------+---------------+-------------+---------------+-----------------------+-------------------+------------------+---------------+---------------+-------------+------------------------+-------------------+-----------------------+-----------------------+--------------------+-----------------------+------------------+-----------------------+-----------------------+----------------------+-----------------------+------------------------+-----------------------+---------------+-----------------------+---------------+-----------------------+--------------------+-----------------------+-----------------------+-----------------------+----+---------------+------------+------------------+-----------------------+------------------------+-----------------------+------------------------+-----------------+-----------------------+----------------+--------------------+----------------------+------------------+----------------------+----------------------+------------------------+--------------------------+------------------+----------------+----------------------+-----------------------+-----------------------+----------------------+---------------------+----------------------+-----------------------+------+\n",
      "only showing top 20 rows\n",
      "\n"
     ]
    },
    {
     "data": {
      "text/plain": [
       "train = [_c0: int, ID: int ... 115 more fields]\n"
      ]
     },
     "metadata": {},
     "output_type": "display_data"
    },
    {
     "data": {
      "text/plain": [
       "[_c0: int, ID: int ... 115 more fields]"
      ]
     },
     "execution_count": 5,
     "metadata": {},
     "output_type": "execute_result"
    }
   ],
   "source": [
    "val train = spark.read.options(Map(\"inferSchema\"->\"true\",\"delimiter\"->\",\",\"header\"->\"true\")).csv(path_train)\n",
    "train.printSchema()\n",
    "train.show(false)"
   ]
  },
  {
   "cell_type": "code",
   "execution_count": 6,
   "metadata": {},
   "outputs": [
    {
     "data": {
      "text/plain": [
       "320764"
      ]
     },
     "execution_count": 6,
     "metadata": {},
     "output_type": "execute_result"
    }
   ],
   "source": [
    "train.count"
   ]
  },
  {
   "cell_type": "code",
   "execution_count": 7,
   "metadata": {},
   "outputs": [
    {
     "name": "stdout",
     "output_type": "stream",
     "text": [
      "-RECORD 0-----------------------------\n",
      " summary                     | count  \n",
      " _c0                         | 320764 \n",
      " ID                          | 320764 \n",
      " CR_PROD_CNT_IL              | 320764 \n",
      " AMOUNT_RUB_CLO_PRC          | 286214 \n",
      " PRC_ACCEPTS_A_EMAIL_LINK    | 139950 \n",
      " APP_REGISTR_RGN_CODE        | 54850  \n",
      " PRC_ACCEPTS_A_POS           | 139950 \n",
      " PRC_ACCEPTS_A_TK            | 139950 \n",
      " TURNOVER_DYNAMIC_IL_1M      | 320763 \n",
      " CNT_TRAN_AUT_TENDENCY1M     | 69535  \n",
      " SUM_TRAN_AUT_TENDENCY1M     | 69535  \n",
      " AMOUNT_RUB_SUP_PRC          | 286213 \n",
      " PRC_ACCEPTS_A_AMOBILE       | 139950 \n",
      " SUM_TRAN_AUT_TENDENCY3M     | 100204 \n",
      " CLNT_TRUST_RELATION         | 62935  \n",
      " PRC_ACCEPTS_TK              | 139950 \n",
      " PRC_ACCEPTS_A_MTP           | 139950 \n",
      " REST_DYNAMIC_FDEP_1M        | 320763 \n",
      " CNT_TRAN_AUT_TENDENCY3M     | 100204 \n",
      " CNT_ACCEPTS_TK              | 139950 \n",
      " APP_MARITAL_STATUS          | 61775  \n",
      " REST_DYNAMIC_SAVE_3M        | 320763 \n",
      " CR_PROD_CNT_VCU             | 320763 \n",
      " REST_AVG_CUR                | 320763 \n",
      " CNT_TRAN_MED_TENDENCY1M     | 62457  \n",
      " APP_KIND_OF_PROP_HABITATION | 53722  \n",
      " CLNT_JOB_POSITION_TYPE      | 40522  \n",
      " AMOUNT_RUB_NAS_PRC          | 286213 \n",
      " CLNT_JOB_POSITION           | 190393 \n",
      " APP_DRIVING_LICENSE         | 51896  \n",
      " TRANS_COUNT_SUP_PRC         | 286213 \n",
      " APP_EDUCATION               | 61665  \n",
      " CNT_TRAN_CLO_TENDENCY1M     | 59823  \n",
      " SUM_TRAN_MED_TENDENCY1M     | 62457  \n",
      " PRC_ACCEPTS_A_ATM           | 139950 \n",
      " PRC_ACCEPTS_MTP             | 139950 \n",
      " TRANS_COUNT_NAS_PRC         | 286213 \n",
      " APP_TRAVEL_PASS             | 51896  \n",
      " CNT_ACCEPTS_MTP             | 139950 \n",
      " CR_PROD_CNT_TOVR            | 320763 \n",
      " APP_CAR                     | 51895  \n",
      " CR_PROD_CNT_PIL             | 320763 \n",
      " SUM_TRAN_CLO_TENDENCY1M     | 59823  \n",
      " APP_POSITION_TYPE           | 54780  \n",
      " TURNOVER_CC                 | 320763 \n",
      " TRANS_COUNT_ATM_PRC         | 286213 \n",
      " AMOUNT_RUB_ATM_PRC          | 286213 \n",
      " TURNOVER_PAYM               | 320763 \n",
      " AGE                         | 320763 \n",
      " CNT_TRAN_MED_TENDENCY3M     | 104645 \n",
      " CR_PROD_CNT_CC              | 320763 \n",
      " SUM_TRAN_MED_TENDENCY3M     | 104645 \n",
      " REST_DYNAMIC_FDEP_3M        | 320763 \n",
      " REST_DYNAMIC_IL_1M          | 320763 \n",
      " APP_EMP_TYPE                | 60986  \n",
      " SUM_TRAN_CLO_TENDENCY3M     | 103775 \n",
      " LDEAL_TENOR_MAX             | 7359   \n",
      " LDEAL_YQZ_CHRG              | 1135   \n",
      " CR_PROD_CNT_CCFP            | 320763 \n",
      " DEAL_YQZ_IR_MAX             | 7359   \n",
      " LDEAL_YQZ_COM               | 1129   \n",
      " DEAL_YQZ_IR_MIN             | 7359   \n",
      " CNT_TRAN_CLO_TENDENCY3M     | 103775 \n",
      " REST_DYNAMIC_CUR_1M         | 320763 \n",
      " REST_AVG_PAYM               | 320763 \n",
      " LDEAL_TENOR_MIN             | 7359   \n",
      " LDEAL_AMT_MONTH             | 1704   \n",
      " APP_COMP_TYPE               | 60986  \n",
      " LDEAL_GRACE_DAYS_PCT_MED    | 320763 \n",
      " REST_DYNAMIC_CUR_3M         | 320763 \n",
      " CNT_TRAN_SUP_TENDENCY3M     | 179529 \n",
      " TURNOVER_DYNAMIC_CUR_1M     | 320763 \n",
      " REST_DYNAMIC_PAYM_3M        | 320763 \n",
      " SUM_TRAN_SUP_TENDENCY3M     | 179529 \n",
      " REST_DYNAMIC_IL_3M          | 320763 \n",
      " CNT_TRAN_ATM_TENDENCY3M     | 230841 \n",
      " CNT_TRAN_ATM_TENDENCY1M     | 185911 \n",
      " TURNOVER_DYNAMIC_IL_3M      | 320763 \n",
      " SUM_TRAN_ATM_TENDENCY3M     | 230841 \n",
      " DEAL_GRACE_DAYS_ACC_S1X1    | 63615  \n",
      " AVG_PCT_MONTH_TO_PCLOSE     | 1468   \n",
      " DEAL_YWZ_IR_MIN             | 86488  \n",
      " SUM_TRAN_SUP_TENDENCY1M     | 140850 \n",
      " DEAL_YWZ_IR_MAX             | 86488  \n",
      " SUM_TRAN_ATM_TENDENCY1M     | 185911 \n",
      " REST_DYNAMIC_PAYM_1M        | 320763 \n",
      " CNT_TRAN_SUP_TENDENCY1M     | 140850 \n",
      " DEAL_GRACE_DAYS_ACC_AVG     | 62693  \n",
      " TURNOVER_DYNAMIC_CUR_3M     | 320763 \n",
      " PACK                        | 320763 \n",
      " MAX_PCLOSE_DATE             | 1699   \n",
      " LDEAL_YQZ_PC                | 2551   \n",
      " CLNT_SETUP_TENOR            | 320763 \n",
      " DEAL_GRACE_DAYS_ACC_MAX     | 62693  \n",
      " TURNOVER_DYNAMIC_PAYM_3M    | 320763 \n",
      " LDEAL_DELINQ_PER_MAXYQZ     | 7359   \n",
      " TURNOVER_DYNAMIC_PAYM_1M    | 320763 \n",
      " CLNT_SALARY_VALUE           | 652    \n",
      " TRANS_AMOUNT_TENDENCY3M     | 273904 \n",
      " MED_DEBT_PRC_YQZ            | 7359   \n",
      " TRANS_CNT_TENDENCY3M        | 273904 \n",
      " LDEAL_USED_AMT_AVG_YQZ      | 7359   \n",
      " REST_DYNAMIC_CC_1M          | 320763 \n",
      " LDEAL_USED_AMT_AVG_YWZ      | 86488  \n",
      " TURNOVER_DYNAMIC_CC_1M      | 320763 \n",
      " AVG_PCT_DEBT_TO_DEAL_AMT    | 1704   \n",
      " LDEAL_ACT_DAYS_ACC_PCT_AVG  | 84414  \n",
      " REST_DYNAMIC_CC_3M          | 320763 \n",
      " MED_DEBT_PRC_YWZ            | 86488  \n",
      " LDEAL_ACT_DAYS_PCT_TR3      | 84414  \n",
      " LDEAL_ACT_DAYS_PCT_AAVG     | 88692  \n",
      " LDEAL_DELINQ_PER_MAXYWZ     | 86488  \n",
      " TURNOVER_DYNAMIC_CC_3M      | 320763 \n",
      " LDEAL_ACT_DAYS_PCT_TR       | 84414  \n",
      " LDEAL_ACT_DAYS_PCT_TR4      | 84414  \n",
      " LDEAL_ACT_DAYS_PCT_CURR     | 84414  \n",
      " TARGET                      | 320763 \n",
      "\n"
     ]
    }
   ],
   "source": [
    "train.summary(\"count\").show(60, truncate = 100, vertical = true)"
   ]
  },
  {
   "cell_type": "code",
   "execution_count": 8,
   "metadata": {},
   "outputs": [
    {
     "data": {
      "text/plain": [
       "cut_train0 = [_c0: int, ID: int ... 100 more fields]\n"
      ]
     },
     "metadata": {},
     "output_type": "display_data"
    },
    {
     "data": {
      "text/plain": [
       "[_c0: int, ID: int ... 100 more fields]"
      ]
     },
     "execution_count": 8,
     "metadata": {},
     "output_type": "execute_result"
    }
   ],
   "source": [
    "val cut_train0 = train.drop(\"LDEAL_TENOR_MAX\", \n",
    "                       \"DEAL_YQZ_IR_MAX\",\n",
    "                       \"DEAL_YQZ_IR_MIN\",\n",
    "                       \"LDEAL_TENOR_MIN\",\n",
    "                       \"LDEAL_DELINQ_PER_MAXYQZ\",\n",
    "                       \"MED_DEBT_PRC_YQZ\",\n",
    "                       \"LDEAL_USED_AMT_AVG_YQZ\",\n",
    "                       \"LDEAL_YQZ_PC\",\n",
    "                       \"LDEAL_AMT_MONTH\",\n",
    "                       \"AVG_PCT_DEBT_TO_DEAL_AMT\",\n",
    "                       \"MAX_PCLOSE_DATE\",\n",
    "                       \"AVG_PCT_MONTH_TO_PCLOSE\",\n",
    "                       \"LDEAL_YQZ_CHRG\",\n",
    "                       \"LDEAL_YQZ_COM\",\n",
    "                       \"CLNT_SALARY_VALUE\")"
   ]
  },
  {
   "cell_type": "code",
   "execution_count": 9,
   "metadata": {},
   "outputs": [
    {
     "data": {
      "text/plain": [
       "cut_train1 = [ID: int, CR_PROD_CNT_IL: int ... 99 more fields]\n"
      ]
     },
     "metadata": {},
     "output_type": "display_data"
    },
    {
     "data": {
      "text/plain": [
       "[ID: int, CR_PROD_CNT_IL: int ... 99 more fields]"
      ]
     },
     "execution_count": 9,
     "metadata": {},
     "output_type": "execute_result"
    }
   ],
   "source": [
    "val cut_train1 = cut_train0.drop(\"_c0\")"
   ]
  },
  {
   "cell_type": "code",
   "execution_count": 10,
   "metadata": {},
   "outputs": [
    {
     "data": {
      "text/plain": [
       "cut_train2 = [ID: int, CR_PROD_CNT_IL: int ... 86 more fields]\n"
      ]
     },
     "metadata": {},
     "output_type": "display_data"
    },
    {
     "data": {
      "text/plain": [
       "[ID: int, CR_PROD_CNT_IL: int ... 86 more fields]"
      ]
     },
     "execution_count": 10,
     "metadata": {},
     "output_type": "execute_result"
    }
   ],
   "source": [
    "val cut_train2 = cut_train1.drop(\"CLNT_TRUST_RELATION\",\n",
    "                                 \"APP_MARITAL_STATUS\",\n",
    "                                \"APP_KIND_OF_PROP_HABITATION\",\n",
    "                                 \"CLNT_JOB_POSITION_TYPE\",\n",
    "                                 \"CLNT_JOB_POSITION\",\n",
    "                                 \"APP_DRIVING_LICENSE\",\n",
    "                                 \"APP_EDUCATION\",\n",
    "                                 \"APP_TRAVEL_PASS\",\n",
    "                                 \"APP_CAR\",\n",
    "                                 \"APP_POSITION_TYPE\",\n",
    "                                 \"APP_EMP_TYPE\",\n",
    "                                 \"APP_COMP_TYPE\",\n",
    "                                 \"PACK\")"
   ]
  },
  {
   "cell_type": "code",
   "execution_count": 11,
   "metadata": {},
   "outputs": [
    {
     "data": {
      "text/plain": [
       "cut_train3 = [ID: int, CR_PROD_CNT_IL: int ... 86 more fields]\n"
      ]
     },
     "metadata": {},
     "output_type": "display_data"
    },
    {
     "data": {
      "text/plain": [
       "[ID: int, CR_PROD_CNT_IL: int ... 86 more fields]"
      ]
     },
     "execution_count": 11,
     "metadata": {},
     "output_type": "execute_result"
    }
   ],
   "source": [
    "val cut_train3 = cut_train2.filter(\"AGE is not NULL\")"
   ]
  },
  {
   "cell_type": "code",
   "execution_count": 12,
   "metadata": {},
   "outputs": [
    {
     "data": {
      "text/plain": [
       "train_col = Array(ID, CR_PROD_CNT_IL, AMOUNT_RUB_CLO_PRC, PRC_ACCEPTS_A_EMAIL_LINK, APP_REGISTR_RGN_CODE, PRC_ACCEPTS_A_POS, PRC_ACCEPTS_A_TK, TURNOVER_DYNAMIC_IL_1M, CNT_TRAN_AUT_TENDENCY1M, SUM_TRAN_AUT_TENDENCY1M, AMOUNT_RUB_SUP_PRC, PRC_ACCEPTS_A_AMOBILE, SUM_TRAN_AUT_TENDENCY3M, PRC_ACCEPTS_TK, PRC_ACCEPTS_A_MTP, REST_DYNAMIC_FDEP_1M, CNT_TRAN_AUT_TENDENCY3M, CNT_ACCEPTS_TK, REST_DYNAMIC_SAVE_3M, CR_PROD_CNT_VCU, REST_AVG_CUR, CNT_TRAN_MED_TENDENCY1M, AMOUNT_RUB_NAS_PRC, TRANS_COUNT_SUP_PRC, CNT_TRAN_CLO_TENDENCY1M, SUM_TRAN_MED_TENDENCY1M, PRC_ACCEPTS_A_ATM, PRC_ACCEPTS_MTP, TRANS_COUNT_NAS_PRC, CNT_ACCEPTS_MTP, CR_PROD_CNT_TOVR, CR_PROD_CNT_PIL, SUM_TRAN_CLO_TENDENCY1M, TURNOVER_CC, TRANS_COUNT_ATM_PRC, AMOUNT_RUB_ATM_PRC, TURNOVER_PAYM, AGE, CNT_TRAN_MED_TENDENCY3...\n"
      ]
     },
     "metadata": {},
     "output_type": "display_data"
    },
    {
     "data": {
      "text/plain": [
       "Array(ID, CR_PROD_CNT_IL, AMOUNT_RUB_CLO_PRC, PRC_ACCEPTS_A_EMAIL_LINK, APP_REGISTR_RGN_CODE, PRC_ACCEPTS_A_POS, PRC_ACCEPTS_A_TK, TURNOVER_DYNAMIC_IL_1M, CNT_TRAN_AUT_TENDENCY1M, SUM_TRAN_AUT_TENDENCY1M, AMOUNT_RUB_SUP_PRC, PRC_ACCEPTS_A_AMOBILE, SUM_TRAN_AUT_TENDENCY3M, PRC_ACCEPTS_TK, PRC_ACCEPTS_A_MTP, REST_DYNAMIC_FDEP_1M, CNT_TRAN_AUT_TENDENCY3M, CNT_ACCEPTS_TK, REST_DYNAMIC_SAVE_3M, CR_PROD_CNT_VCU, REST_AVG_CUR, CNT_TRAN_MED_TENDENCY1M, AMOUNT_RUB_NAS_PRC, TRANS_COUNT_SUP_PRC, CNT_TRAN_CLO_TENDENCY1M, SUM_TRAN_MED_TENDENCY1M, PRC_ACCEPTS_A_ATM, PRC_ACCEPTS_MTP, TRANS_COUNT_NAS_PRC, CNT_ACCEPTS_MTP, CR_PROD_CNT_TOVR, CR_PROD_CNT_PIL, SUM_TRAN_CLO_TENDENCY1M, TURNOVER_CC, TRANS_COUNT_ATM_PRC, AMOUNT_RUB_ATM_PRC, TURNOVER_PAYM, AGE, CNT_TRAN_MED_TENDENCY3..."
      ]
     },
     "execution_count": 12,
     "metadata": {},
     "output_type": "execute_result"
    }
   ],
   "source": [
    "val train_col = cut_train3.columns"
   ]
  },
  {
   "cell_type": "code",
   "execution_count": 13,
   "metadata": {},
   "outputs": [
    {
     "data": {
      "text/plain": [
       "feature_col = Array(CR_PROD_CNT_IL, AMOUNT_RUB_CLO_PRC, PRC_ACCEPTS_A_EMAIL_LINK, APP_REGISTR_RGN_CODE, PRC_ACCEPTS_A_POS, PRC_ACCEPTS_A_TK, TURNOVER_DYNAMIC_IL_1M, CNT_TRAN_AUT_TENDENCY1M, SUM_TRAN_AUT_TENDENCY1M, AMOUNT_RUB_SUP_PRC, PRC_ACCEPTS_A_AMOBILE, SUM_TRAN_AUT_TENDENCY3M, PRC_ACCEPTS_TK, PRC_ACCEPTS_A_MTP, REST_DYNAMIC_FDEP_1M, CNT_TRAN_AUT_TENDENCY3M, CNT_ACCEPTS_TK, REST_DYNAMIC_SAVE_3M, CR_PROD_CNT_VCU, REST_AVG_CUR, CNT_TRAN_MED_TENDENCY1M, AMOUNT_RUB_NAS_PRC, TRANS_COUNT_SUP_PRC, CNT_TRAN_CLO_TENDENCY1M, SUM_TRAN_MED_TENDENCY1M, PRC_ACCEPTS_A_ATM, PRC_ACCEPTS_MTP, TRANS_COUNT_NAS_PRC, CNT_ACCEPTS_MTP, CR_PROD_CNT_TOVR, CR_PROD_CNT_PIL, SUM_TRAN_CLO_TENDENCY1M, TURNOVER_CC, TRANS_COUNT_ATM_PRC, AMOUNT_RUB_ATM_PRC, TURNOVER_PAYM, AGE, CNT_TRAN_MED_TENDENCY3M,...\n"
      ]
     },
     "metadata": {},
     "output_type": "display_data"
    },
    {
     "data": {
      "text/plain": [
       "Array(CR_PROD_CNT_IL, AMOUNT_RUB_CLO_PRC, PRC_ACCEPTS_A_EMAIL_LINK, APP_REGISTR_RGN_CODE, PRC_ACCEPTS_A_POS, PRC_ACCEPTS_A_TK, TURNOVER_DYNAMIC_IL_1M, CNT_TRAN_AUT_TENDENCY1M, SUM_TRAN_AUT_TENDENCY1M, AMOUNT_RUB_SUP_PRC, PRC_ACCEPTS_A_AMOBILE, SUM_TRAN_AUT_TENDENCY3M, PRC_ACCEPTS_TK, PRC_ACCEPTS_A_MTP, REST_DYNAMIC_FDEP_1M, CNT_TRAN_AUT_TENDENCY3M, CNT_ACCEPTS_TK, REST_DYNAMIC_SAVE_3M, CR_PROD_CNT_VCU, REST_AVG_CUR, CNT_TRAN_MED_TENDENCY1M, AMOUNT_RUB_NAS_PRC, TRANS_COUNT_SUP_PRC, CNT_TRAN_CLO_TENDENCY1M, SUM_TRAN_MED_TENDENCY1M, PRC_ACCEPTS_A_ATM, PRC_ACCEPTS_MTP, TRANS_COUNT_NAS_PRC, CNT_ACCEPTS_MTP, CR_PROD_CNT_TOVR, CR_PROD_CNT_PIL, SUM_TRAN_CLO_TENDENCY1M, TURNOVER_CC, TRANS_COUNT_ATM_PRC, AMOUNT_RUB_ATM_PRC, TURNOVER_PAYM, AGE, CNT_TRAN_MED_TENDENCY3M,..."
      ]
     },
     "execution_count": 13,
     "metadata": {},
     "output_type": "execute_result"
    }
   ],
   "source": [
    "val feature_col = train_col.slice(1,87)"
   ]
  },
  {
   "cell_type": "code",
   "execution_count": 15,
   "metadata": {},
   "outputs": [
    {
     "data": {
      "text/plain": [
       "Array(ID)"
      ]
     },
     "execution_count": 15,
     "metadata": {},
     "output_type": "execute_result"
    }
   ],
   "source": [
    "train_col.slice(0, 1)"
   ]
  },
  {
   "cell_type": "code",
   "execution_count": 14,
   "metadata": {},
   "outputs": [
    {
     "data": {
      "text/plain": [
       "Array(TARGET)"
      ]
     },
     "execution_count": 14,
     "metadata": {},
     "output_type": "execute_result"
    }
   ],
   "source": [
    "train_col.slice(87, 88)"
   ]
  },
  {
   "cell_type": "code",
   "execution_count": 16,
   "metadata": {},
   "outputs": [
    {
     "data": {
      "text/plain": [
       "cut_train4 = [ID: int, CR_PROD_CNT_IL: int ... 86 more fields]\n"
      ]
     },
     "metadata": {},
     "output_type": "display_data"
    },
    {
     "data": {
      "text/plain": [
       "[ID: int, CR_PROD_CNT_IL: int ... 86 more fields]"
      ]
     },
     "execution_count": 16,
     "metadata": {},
     "output_type": "execute_result"
    }
   ],
   "source": [
    "val cut_train4 = cut_train3.na.fill(999999999, feature_col)"
   ]
  },
  {
   "cell_type": "code",
   "execution_count": 18,
   "metadata": {},
   "outputs": [
    {
     "data": {
      "text/plain": [
       "320763"
      ]
     },
     "execution_count": 18,
     "metadata": {},
     "output_type": "execute_result"
    }
   ],
   "source": [
    "cut_train4.count"
   ]
  },
  {
   "cell_type": "code",
   "execution_count": 17,
   "metadata": {},
   "outputs": [],
   "source": [
    "import org.apache.spark.ml.feature.VectorAssembler"
   ]
  },
  {
   "cell_type": "code",
   "execution_count": 19,
   "metadata": {},
   "outputs": [
    {
     "data": {
      "text/plain": [
       "assembler_num = vecAssembler_9566727de959\n"
      ]
     },
     "metadata": {},
     "output_type": "display_data"
    },
    {
     "data": {
      "text/plain": [
       "vecAssembler_9566727de959"
      ]
     },
     "execution_count": 19,
     "metadata": {},
     "output_type": "execute_result"
    }
   ],
   "source": [
    "val assembler_num = new VectorAssembler()\n",
    "  .setInputCols(feature_col)\n",
    "  .setOutputCol(\"features\")"
   ]
  },
  {
   "cell_type": "code",
   "execution_count": 20,
   "metadata": {},
   "outputs": [
    {
     "data": {
      "text/plain": [
       "output = [ID: int, CR_PROD_CNT_IL: int ... 87 more fields]\n"
      ]
     },
     "metadata": {},
     "output_type": "display_data"
    },
    {
     "data": {
      "text/plain": [
       "[ID: int, CR_PROD_CNT_IL: int ... 87 more fields]"
      ]
     },
     "execution_count": 20,
     "metadata": {},
     "output_type": "execute_result"
    }
   ],
   "source": [
    "val output = assembler_num.transform(cut_train4)"
   ]
  },
  {
   "cell_type": "code",
   "execution_count": 23,
   "metadata": {},
   "outputs": [
    {
     "name": "stdout",
     "output_type": "stream",
     "text": [
      "+------+--------------------+\n",
      "|TARGET|            features|\n",
      "+------+--------------------+\n",
      "|     0|(86,[3,7,8,11,15,...|\n",
      "|     0|(86,[3,7,8,9,11,1...|\n",
      "|     0|(86,[3,7,8,9,11,1...|\n",
      "|     0|(86,[2,3,4,5,7,8,...|\n",
      "|     0|(86,[3,7,8,9,11,1...|\n",
      "|     0|(86,[2,3,4,5,7,8,...|\n",
      "|     0|(86,[1,3,7,8,9,11...|\n",
      "|     0|[1.0,0.0280635180...|\n",
      "|     1|(86,[0,3,7,8,11,1...|\n",
      "|     0|(86,[1,3,7,8,9,11...|\n",
      "|     0|(86,[1,3,7,8,9,11...|\n",
      "|     0|(86,[1,3,7,8,9,11...|\n",
      "|     1|[0.0,0.0,9.999999...|\n",
      "|     1|(86,[3,7,8,9,11,1...|\n",
      "|     1|(86,[3,7,8,9,11,1...|\n",
      "|     0|[0.0,0.0,9.999999...|\n",
      "|     0|[0.0,0.0055844182...|\n",
      "|     0|[0.0,0.1643252654...|\n",
      "|     0|(86,[2,3,4,5,7,8,...|\n",
      "|     0|(86,[2,3,4,5,7,8,...|\n",
      "+------+--------------------+\n",
      "only showing top 20 rows\n",
      "\n"
     ]
    },
    {
     "data": {
      "text/plain": [
       "lastException: Throwable = null\n"
      ]
     },
     "metadata": {},
     "output_type": "display_data"
    }
   ],
   "source": [
    "output.select(\"TARGET\", \"features\").show()"
   ]
  },
  {
   "cell_type": "code",
   "execution_count": 24,
   "metadata": {},
   "outputs": [],
   "source": [
    "import org.apache.spark.ml.classification.GBTClassifier"
   ]
  },
  {
   "cell_type": "code",
   "execution_count": 25,
   "metadata": {},
   "outputs": [
    {
     "data": {
      "text/plain": [
       "gbt = gbtc_5705a02ea8bc\n"
      ]
     },
     "metadata": {},
     "output_type": "display_data"
    },
    {
     "data": {
      "text/plain": [
       "gbtc_5705a02ea8bc"
      ]
     },
     "execution_count": 25,
     "metadata": {},
     "output_type": "execute_result"
    }
   ],
   "source": [
    "val gbt = new GBTClassifier()\n",
    "    .setFeaturesCol(\"features\")\n",
    "    .setLabelCol(\"TARGET\")"
   ]
  },
  {
   "cell_type": "code",
   "execution_count": 26,
   "metadata": {},
   "outputs": [
    {
     "data": {
      "text/plain": [
       "model = GBTClassificationModel (uid=gbtc_5705a02ea8bc) with 20 trees\n"
      ]
     },
     "metadata": {},
     "output_type": "display_data"
    },
    {
     "data": {
      "text/plain": [
       "GBTClassificationModel (uid=gbtc_5705a02ea8bc) with 20 trees"
      ]
     },
     "execution_count": 26,
     "metadata": {},
     "output_type": "execute_result"
    }
   ],
   "source": [
    "val model = gbt.fit(output)"
   ]
  },
  {
   "cell_type": "code",
   "execution_count": 45,
   "metadata": {},
   "outputs": [
    {
     "data": {
      "text/plain": [
       "GBTClassificationModel (uid=gbtc_5705a02ea8bc) with 20 trees"
      ]
     },
     "execution_count": 45,
     "metadata": {},
     "output_type": "execute_result"
    }
   ],
   "source": [
    "model"
   ]
  },
  {
   "cell_type": "markdown",
   "metadata": {},
   "source": [
    "# Test"
   ]
  },
  {
   "cell_type": "code",
   "execution_count": 27,
   "metadata": {},
   "outputs": [
    {
     "data": {
      "text/plain": [
       "path_test = /labs/slaba05/lab05_test.csv\n"
      ]
     },
     "metadata": {},
     "output_type": "display_data"
    },
    {
     "data": {
      "text/plain": [
       "/labs/slaba05/lab05_test.csv"
      ]
     },
     "execution_count": 27,
     "metadata": {},
     "output_type": "execute_result"
    }
   ],
   "source": [
    "val path_test = \"/labs/slaba05/lab05_test.csv\""
   ]
  },
  {
   "cell_type": "code",
   "execution_count": 29,
   "metadata": {
    "scrolled": true
   },
   "outputs": [
    {
     "name": "stdout",
     "output_type": "stream",
     "text": [
      "root\n",
      " |-- _c0: integer (nullable = true)\n",
      " |-- ID: integer (nullable = true)\n",
      " |-- CR_PROD_CNT_IL: integer (nullable = true)\n",
      " |-- AMOUNT_RUB_CLO_PRC: double (nullable = true)\n",
      " |-- PRC_ACCEPTS_A_EMAIL_LINK: double (nullable = true)\n",
      " |-- APP_REGISTR_RGN_CODE: double (nullable = true)\n",
      " |-- PRC_ACCEPTS_A_POS: double (nullable = true)\n",
      " |-- PRC_ACCEPTS_A_TK: double (nullable = true)\n",
      " |-- TURNOVER_DYNAMIC_IL_1M: double (nullable = true)\n",
      " |-- CNT_TRAN_AUT_TENDENCY1M: double (nullable = true)\n",
      " |-- SUM_TRAN_AUT_TENDENCY1M: double (nullable = true)\n",
      " |-- AMOUNT_RUB_SUP_PRC: double (nullable = true)\n",
      " |-- PRC_ACCEPTS_A_AMOBILE: double (nullable = true)\n",
      " |-- SUM_TRAN_AUT_TENDENCY3M: double (nullable = true)\n",
      " |-- CLNT_TRUST_RELATION: string (nullable = true)\n",
      " |-- PRC_ACCEPTS_TK: double (nullable = true)\n",
      " |-- PRC_ACCEPTS_A_MTP: double (nullable = true)\n",
      " |-- REST_DYNAMIC_FDEP_1M: double (nullable = true)\n",
      " |-- CNT_TRAN_AUT_TENDENCY3M: double (nullable = true)\n",
      " |-- CNT_ACCEPTS_TK: double (nullable = true)\n",
      " |-- APP_MARITAL_STATUS: string (nullable = true)\n",
      " |-- REST_DYNAMIC_SAVE_3M: double (nullable = true)\n",
      " |-- CR_PROD_CNT_VCU: integer (nullable = true)\n",
      " |-- REST_AVG_CUR: double (nullable = true)\n",
      " |-- CNT_TRAN_MED_TENDENCY1M: double (nullable = true)\n",
      " |-- APP_KIND_OF_PROP_HABITATION: string (nullable = true)\n",
      " |-- CLNT_JOB_POSITION_TYPE: string (nullable = true)\n",
      " |-- AMOUNT_RUB_NAS_PRC: double (nullable = true)\n",
      " |-- CLNT_JOB_POSITION: string (nullable = true)\n",
      " |-- APP_DRIVING_LICENSE: string (nullable = true)\n",
      " |-- TRANS_COUNT_SUP_PRC: double (nullable = true)\n",
      " |-- APP_EDUCATION: string (nullable = true)\n",
      " |-- CNT_TRAN_CLO_TENDENCY1M: double (nullable = true)\n",
      " |-- SUM_TRAN_MED_TENDENCY1M: double (nullable = true)\n",
      " |-- PRC_ACCEPTS_A_ATM: double (nullable = true)\n",
      " |-- PRC_ACCEPTS_MTP: double (nullable = true)\n",
      " |-- TRANS_COUNT_NAS_PRC: double (nullable = true)\n",
      " |-- APP_TRAVEL_PASS: string (nullable = true)\n",
      " |-- CNT_ACCEPTS_MTP: double (nullable = true)\n",
      " |-- CR_PROD_CNT_TOVR: integer (nullable = true)\n",
      " |-- APP_CAR: string (nullable = true)\n",
      " |-- CR_PROD_CNT_PIL: integer (nullable = true)\n",
      " |-- SUM_TRAN_CLO_TENDENCY1M: double (nullable = true)\n",
      " |-- APP_POSITION_TYPE: string (nullable = true)\n",
      " |-- TURNOVER_CC: double (nullable = true)\n",
      " |-- TRANS_COUNT_ATM_PRC: double (nullable = true)\n",
      " |-- AMOUNT_RUB_ATM_PRC: double (nullable = true)\n",
      " |-- TURNOVER_PAYM: double (nullable = true)\n",
      " |-- AGE: integer (nullable = true)\n",
      " |-- CNT_TRAN_MED_TENDENCY3M: double (nullable = true)\n",
      " |-- CR_PROD_CNT_CC: integer (nullable = true)\n",
      " |-- SUM_TRAN_MED_TENDENCY3M: double (nullable = true)\n",
      " |-- REST_DYNAMIC_FDEP_3M: double (nullable = true)\n",
      " |-- REST_DYNAMIC_IL_1M: double (nullable = true)\n",
      " |-- APP_EMP_TYPE: string (nullable = true)\n",
      " |-- SUM_TRAN_CLO_TENDENCY3M: double (nullable = true)\n",
      " |-- LDEAL_TENOR_MAX: double (nullable = true)\n",
      " |-- LDEAL_YQZ_CHRG: double (nullable = true)\n",
      " |-- CR_PROD_CNT_CCFP: integer (nullable = true)\n",
      " |-- DEAL_YQZ_IR_MAX: double (nullable = true)\n",
      " |-- LDEAL_YQZ_COM: double (nullable = true)\n",
      " |-- DEAL_YQZ_IR_MIN: double (nullable = true)\n",
      " |-- CNT_TRAN_CLO_TENDENCY3M: double (nullable = true)\n",
      " |-- REST_DYNAMIC_CUR_1M: double (nullable = true)\n",
      " |-- REST_AVG_PAYM: double (nullable = true)\n",
      " |-- LDEAL_TENOR_MIN: double (nullable = true)\n",
      " |-- LDEAL_AMT_MONTH: double (nullable = true)\n",
      " |-- APP_COMP_TYPE: string (nullable = true)\n",
      " |-- LDEAL_GRACE_DAYS_PCT_MED: double (nullable = true)\n",
      " |-- REST_DYNAMIC_CUR_3M: double (nullable = true)\n",
      " |-- CNT_TRAN_SUP_TENDENCY3M: double (nullable = true)\n",
      " |-- TURNOVER_DYNAMIC_CUR_1M: double (nullable = true)\n",
      " |-- REST_DYNAMIC_PAYM_3M: double (nullable = true)\n",
      " |-- SUM_TRAN_SUP_TENDENCY3M: double (nullable = true)\n",
      " |-- REST_DYNAMIC_IL_3M: double (nullable = true)\n",
      " |-- CNT_TRAN_ATM_TENDENCY3M: double (nullable = true)\n",
      " |-- CNT_TRAN_ATM_TENDENCY1M: double (nullable = true)\n",
      " |-- TURNOVER_DYNAMIC_IL_3M: double (nullable = true)\n",
      " |-- SUM_TRAN_ATM_TENDENCY3M: double (nullable = true)\n",
      " |-- DEAL_GRACE_DAYS_ACC_S1X1: double (nullable = true)\n",
      " |-- AVG_PCT_MONTH_TO_PCLOSE: double (nullable = true)\n",
      " |-- DEAL_YWZ_IR_MIN: double (nullable = true)\n",
      " |-- SUM_TRAN_SUP_TENDENCY1M: double (nullable = true)\n",
      " |-- DEAL_YWZ_IR_MAX: double (nullable = true)\n",
      " |-- SUM_TRAN_ATM_TENDENCY1M: double (nullable = true)\n",
      " |-- REST_DYNAMIC_PAYM_1M: double (nullable = true)\n",
      " |-- CNT_TRAN_SUP_TENDENCY1M: double (nullable = true)\n",
      " |-- DEAL_GRACE_DAYS_ACC_AVG: double (nullable = true)\n",
      " |-- TURNOVER_DYNAMIC_CUR_3M: double (nullable = true)\n",
      " |-- PACK: string (nullable = true)\n",
      " |-- MAX_PCLOSE_DATE: double (nullable = true)\n",
      " |-- LDEAL_YQZ_PC: double (nullable = true)\n",
      " |-- CLNT_SETUP_TENOR: double (nullable = true)\n",
      " |-- DEAL_GRACE_DAYS_ACC_MAX: double (nullable = true)\n",
      " |-- TURNOVER_DYNAMIC_PAYM_3M: double (nullable = true)\n",
      " |-- LDEAL_DELINQ_PER_MAXYQZ: double (nullable = true)\n",
      " |-- TURNOVER_DYNAMIC_PAYM_1M: double (nullable = true)\n",
      " |-- CLNT_SALARY_VALUE: double (nullable = true)\n",
      " |-- TRANS_AMOUNT_TENDENCY3M: double (nullable = true)\n",
      " |-- MED_DEBT_PRC_YQZ: double (nullable = true)\n",
      " |-- TRANS_CNT_TENDENCY3M: double (nullable = true)\n",
      " |-- LDEAL_USED_AMT_AVG_YQZ: double (nullable = true)\n",
      " |-- REST_DYNAMIC_CC_1M: double (nullable = true)\n",
      " |-- LDEAL_USED_AMT_AVG_YWZ: double (nullable = true)\n",
      " |-- TURNOVER_DYNAMIC_CC_1M: double (nullable = true)\n",
      " |-- AVG_PCT_DEBT_TO_DEAL_AMT: double (nullable = true)\n",
      " |-- LDEAL_ACT_DAYS_ACC_PCT_AVG: double (nullable = true)\n",
      " |-- REST_DYNAMIC_CC_3M: double (nullable = true)\n",
      " |-- MED_DEBT_PRC_YWZ: double (nullable = true)\n",
      " |-- LDEAL_ACT_DAYS_PCT_TR3: double (nullable = true)\n",
      " |-- LDEAL_ACT_DAYS_PCT_AAVG: double (nullable = true)\n",
      " |-- LDEAL_DELINQ_PER_MAXYWZ: double (nullable = true)\n",
      " |-- TURNOVER_DYNAMIC_CC_3M: double (nullable = true)\n",
      " |-- LDEAL_ACT_DAYS_PCT_TR: double (nullable = true)\n",
      " |-- LDEAL_ACT_DAYS_PCT_TR4: double (nullable = true)\n",
      " |-- LDEAL_ACT_DAYS_PCT_CURR: double (nullable = true)\n",
      "\n",
      "+------+------+--------------+------------------+------------------------+--------------------+-----------------+----------------+----------------------+-----------------------+-----------------------+-------------------+---------------------+-----------------------+-------------------+--------------+-----------------+--------------------+-----------------------+--------------+------------------+--------------------+---------------+------------------+-----------------------+---------------------------+----------------------+-------------------+-------------------------+-------------------+-------------------+-------------+-----------------------+-----------------------+-----------------+---------------+-------------------+---------------+---------------+----------------+-------+---------------+-----------------------+-----------------+-----------+-------------------+------------------+-------------+---+-----------------------+--------------+-----------------------+--------------------+------------------+------------+-----------------------+---------------+--------------+----------------+---------------+-------------+---------------+-----------------------+-------------------+------------------+---------------+---------------+-------------+------------------------+-------------------+-----------------------+-----------------------+--------------------+-----------------------+------------------+-----------------------+-----------------------+----------------------+-----------------------+------------------------+-----------------------+---------------+-----------------------+---------------+-----------------------+--------------------+-----------------------+-----------------------+-----------------------+----+---------------+------------+-------------------+-----------------------+------------------------+-----------------------+------------------------+-----------------+-----------------------+----------------+--------------------+----------------------+--------------------+----------------------+----------------------+------------------------+--------------------------+------------------+----------------+----------------------+-----------------------+-----------------------+----------------------+---------------------+----------------------+-----------------------+\n",
      "|_c0   |ID    |CR_PROD_CNT_IL|AMOUNT_RUB_CLO_PRC|PRC_ACCEPTS_A_EMAIL_LINK|APP_REGISTR_RGN_CODE|PRC_ACCEPTS_A_POS|PRC_ACCEPTS_A_TK|TURNOVER_DYNAMIC_IL_1M|CNT_TRAN_AUT_TENDENCY1M|SUM_TRAN_AUT_TENDENCY1M|AMOUNT_RUB_SUP_PRC |PRC_ACCEPTS_A_AMOBILE|SUM_TRAN_AUT_TENDENCY3M|CLNT_TRUST_RELATION|PRC_ACCEPTS_TK|PRC_ACCEPTS_A_MTP|REST_DYNAMIC_FDEP_1M|CNT_TRAN_AUT_TENDENCY3M|CNT_ACCEPTS_TK|APP_MARITAL_STATUS|REST_DYNAMIC_SAVE_3M|CR_PROD_CNT_VCU|REST_AVG_CUR      |CNT_TRAN_MED_TENDENCY1M|APP_KIND_OF_PROP_HABITATION|CLNT_JOB_POSITION_TYPE|AMOUNT_RUB_NAS_PRC |CLNT_JOB_POSITION        |APP_DRIVING_LICENSE|TRANS_COUNT_SUP_PRC|APP_EDUCATION|CNT_TRAN_CLO_TENDENCY1M|SUM_TRAN_MED_TENDENCY1M|PRC_ACCEPTS_A_ATM|PRC_ACCEPTS_MTP|TRANS_COUNT_NAS_PRC|APP_TRAVEL_PASS|CNT_ACCEPTS_MTP|CR_PROD_CNT_TOVR|APP_CAR|CR_PROD_CNT_PIL|SUM_TRAN_CLO_TENDENCY1M|APP_POSITION_TYPE|TURNOVER_CC|TRANS_COUNT_ATM_PRC|AMOUNT_RUB_ATM_PRC|TURNOVER_PAYM|AGE|CNT_TRAN_MED_TENDENCY3M|CR_PROD_CNT_CC|SUM_TRAN_MED_TENDENCY3M|REST_DYNAMIC_FDEP_3M|REST_DYNAMIC_IL_1M|APP_EMP_TYPE|SUM_TRAN_CLO_TENDENCY3M|LDEAL_TENOR_MAX|LDEAL_YQZ_CHRG|CR_PROD_CNT_CCFP|DEAL_YQZ_IR_MAX|LDEAL_YQZ_COM|DEAL_YQZ_IR_MIN|CNT_TRAN_CLO_TENDENCY3M|REST_DYNAMIC_CUR_1M|REST_AVG_PAYM     |LDEAL_TENOR_MIN|LDEAL_AMT_MONTH|APP_COMP_TYPE|LDEAL_GRACE_DAYS_PCT_MED|REST_DYNAMIC_CUR_3M|CNT_TRAN_SUP_TENDENCY3M|TURNOVER_DYNAMIC_CUR_1M|REST_DYNAMIC_PAYM_3M|SUM_TRAN_SUP_TENDENCY3M|REST_DYNAMIC_IL_3M|CNT_TRAN_ATM_TENDENCY3M|CNT_TRAN_ATM_TENDENCY1M|TURNOVER_DYNAMIC_IL_3M|SUM_TRAN_ATM_TENDENCY3M|DEAL_GRACE_DAYS_ACC_S1X1|AVG_PCT_MONTH_TO_PCLOSE|DEAL_YWZ_IR_MIN|SUM_TRAN_SUP_TENDENCY1M|DEAL_YWZ_IR_MAX|SUM_TRAN_ATM_TENDENCY1M|REST_DYNAMIC_PAYM_1M|CNT_TRAN_SUP_TENDENCY1M|DEAL_GRACE_DAYS_ACC_AVG|TURNOVER_DYNAMIC_CUR_3M|PACK|MAX_PCLOSE_DATE|LDEAL_YQZ_PC|CLNT_SETUP_TENOR   |DEAL_GRACE_DAYS_ACC_MAX|TURNOVER_DYNAMIC_PAYM_3M|LDEAL_DELINQ_PER_MAXYQZ|TURNOVER_DYNAMIC_PAYM_1M|CLNT_SALARY_VALUE|TRANS_AMOUNT_TENDENCY3M|MED_DEBT_PRC_YQZ|TRANS_CNT_TENDENCY3M|LDEAL_USED_AMT_AVG_YQZ|REST_DYNAMIC_CC_1M  |LDEAL_USED_AMT_AVG_YWZ|TURNOVER_DYNAMIC_CC_1M|AVG_PCT_DEBT_TO_DEAL_AMT|LDEAL_ACT_DAYS_ACC_PCT_AVG|REST_DYNAMIC_CC_3M|MED_DEBT_PRC_YWZ|LDEAL_ACT_DAYS_PCT_TR3|LDEAL_ACT_DAYS_PCT_AAVG|LDEAL_DELINQ_PER_MAXYWZ|TURNOVER_DYNAMIC_CC_3M|LDEAL_ACT_DAYS_PCT_TR|LDEAL_ACT_DAYS_PCT_TR4|LDEAL_ACT_DAYS_PCT_CURR|\n",
      "+------+------+--------------+------------------+------------------------+--------------------+-----------------+----------------+----------------------+-----------------------+-----------------------+-------------------+---------------------+-----------------------+-------------------+--------------+-----------------+--------------------+-----------------------+--------------+------------------+--------------------+---------------+------------------+-----------------------+---------------------------+----------------------+-------------------+-------------------------+-------------------+-------------------+-------------+-----------------------+-----------------------+-----------------+---------------+-------------------+---------------+---------------+----------------+-------+---------------+-----------------------+-----------------+-----------+-------------------+------------------+-------------+---+-----------------------+--------------+-----------------------+--------------------+------------------+------------+-----------------------+---------------+--------------+----------------+---------------+-------------+---------------+-----------------------+-------------------+------------------+---------------+---------------+-------------+------------------------+-------------------+-----------------------+-----------------------+--------------------+-----------------------+------------------+-----------------------+-----------------------+----------------------+-----------------------+------------------------+-----------------------+---------------+-----------------------+---------------+-----------------------+--------------------+-----------------------+-----------------------+-----------------------+----+---------------+------------+-------------------+-----------------------+------------------------+-----------------------+------------------------+-----------------+-----------------------+----------------+--------------------+----------------------+--------------------+----------------------+----------------------+------------------------+--------------------------+------------------+----------------+----------------------+-----------------------+-----------------------+----------------------+---------------------+----------------------+-----------------------+\n",
      "|372289|519130|0             |0.0               |null                    |null                |null             |null            |0.0                   |null                   |null                   |0.0                |null                 |null                   |null               |null          |null             |0.0                 |null                   |null          |null              |1.0                 |0              |13916.8191        |null                   |null                       |null                  |0.0                |null                     |null               |0.0                |null         |null                   |null                   |null             |null           |0.0                |null           |null           |0               |null   |0              |null                   |null             |0.0        |1.0                |1.0               |0.0          |240|null                   |0             |null                   |0.0                 |0.0               |null        |null                   |null           |null          |0               |null           |null         |null           |null                   |0.479789155507046  |0.0               |null           |null           |null         |0.0                     |1.0                |null                   |0.6401123866394111     |0.0                 |null                   |0.0               |1.0                    |null                   |0.0                   |1.0                    |null                    |null                   |null           |null                   |null           |null                   |0.0                 |null                   |null                   |1.0                    |K01 |null           |null        |0.5713989073078449 |null                   |0.0                     |null                   |0.0                     |null             |1.0                    |null            |1.0                 |null                  |0.0                 |null                  |0.0                   |null                    |null                      |0.0               |null            |null                  |null                   |null                   |0.0                   |null                 |null                  |null                   |\n",
      "|87204 |234045|0             |0.013321948059629 |0.0                     |null                |0.0              |0.0             |0.0                   |null                   |null                   |0.0478574733930613 |0.0                  |null                   |null               |0.0           |0.0              |0.0                 |null                   |0.0           |null              |0.0                 |0              |86440.6242333333  |null                   |null                       |null                  |0.0120611635420596 |ИНЖЕРЕН АСУ              |null               |0.10958904109588999|null         |1.0                    |null                   |0.0              |0.0            |0.19178082191780801|null           |0.0            |0               |null   |0              |1.0                    |null             |0.0        |0.136986301369863  |0.6076402824928411|0.0          |348|null                   |0             |null                   |0.0                 |0.0               |null        |1.0                    |null           |null          |0               |null           |null         |null           |1.0                    |0.0755606007930854 |0.0               |null           |null           |null         |0.0                     |0.330424066847332  |0.625                  |0.147249149470836      |0.0                 |0.175095002335992      |0.0               |0.5                    |0.2                    |0.0                   |0.616595489809007      |null                    |null                   |null           |0.0325201930944116     |null           |0.0514841714515509     |0.0                 |0.25                   |null                   |0.556152068739451      |102 |null           |null        |3.2811949298088394 |null                   |0.0                     |null                   |0.0                     |null             |0.522862522493378      |null            |0.547945205479452   |null                  |0.0                 |null                  |0.0                   |null                    |null                      |0.0               |null            |null                  |null                   |null                   |0.0                   |null                 |null                  |null                   |\n",
      "|254415|401256|0             |0.0118704651316098|0.0                     |null                |0.0              |0.0             |0.0                   |0.666666666666667      |0.6701369302579301     |0.0148131831725046 |0.0                  |1.0                    |null               |0.0           |0.0              |0.0                 |1.0                    |0.0           |null              |0.0                 |0              |84684.8290333333  |null                   |null                       |null                  |0.0131523914668913 |null                     |null               |0.23076923076923103|null         |null                   |null                   |0.0              |0.0            |0.0769230769230769 |null           |0.0            |0               |null   |0              |null                   |null             |0.0        |0.23076923076923103|0.943369466752821 |0.0          |516|null                   |0             |null                   |0.0                 |0.0               |null        |1.0                    |null           |null          |0               |null           |null         |null           |1.0                    |0.4765644843830039 |0.0               |null           |null           |null         |0.0                     |0.758665634290228  |1.0                    |0.10152649175721999    |0.0                 |1.0                    |0.0               |0.666666666666667      |null                   |0.0                   |0.659952916557677      |null                    |null                   |null           |0.00857899379230672    |null           |null                   |0.0                 |0.166666666666667      |null                   |0.7416685813151559     |103 |null           |null        |3.43441298909797   |null                   |0.0                     |null                   |0.0                     |null             |0.679209964222164      |null            |0.923076923076923   |null                  |0.0                 |null                  |0.0                   |null                    |null                      |0.0               |null            |null                  |null                   |null                   |0.0                   |null                 |null                  |null                   |\n",
      "|404229|551070|0             |0.0               |null                    |null                |null             |null            |0.0                   |null                   |null                   |0.0                |null                 |null                   |null               |null          |null             |0.0                 |null                   |null          |null              |0.0                 |0              |0.0               |null                   |null                       |null                  |0.0                |ПРОГРАММИСТ              |null               |0.0                |null         |null                   |null                   |null             |null           |0.0                |null           |null           |0               |null   |0              |null                   |null             |0.0        |0.0206185567010309 |0.5275837954747561|74253.725    |348|null                   |0             |null                   |0.0                 |0.0               |null        |null                   |null           |null          |0               |null           |null         |null           |null                   |0.0                |122612.55028333301|null           |null           |null         |0.0                     |0.0                |null                   |0.0                    |0.589685099387645   |null                   |0.0               |1.0                    |0.5                    |0.0                   |1.0                    |null                    |null                   |null           |null                   |null           |0.5                    |0.217298114168837   |null                   |null                   |0.0                    |105 |null           |null        |6.86172148795301   |null                   |0.653115494654757       |null                   |0.24899848458781002     |null             |0.7199279215018621     |null            |0.5360824742268039  |null                  |0.0                 |null                  |0.0                   |null                    |null                      |0.0               |null            |null                  |null                   |null                   |0.0                   |null                 |null                  |null                   |\n",
      "|220444|367285|0             |null              |null                    |null                |null             |null            |0.0                   |null                   |null                   |null               |null                 |null                   |null               |null          |null             |0.0                 |null                   |null          |null              |0.0                 |0              |14842.4379        |null                   |null                       |null                  |null               |null                     |null               |null               |null         |null                   |null                   |null             |null           |null               |null           |null           |0               |null   |0              |null                   |null             |0.0        |null               |null              |0.0          |576|null                   |0             |null                   |0.0                 |0.0               |null        |null                   |null           |null          |0               |null           |null         |null           |null                   |0.14615075128594598|0.0               |null           |null           |null         |0.0                     |0.47315038454700203|null                   |0.0                    |0.0                 |null                   |0.0               |null                   |null                   |0.0                   |null                   |null                    |null                   |null           |null                   |null           |null                   |0.0                 |null                   |null                   |0.0                    |K01 |null           |null        |3.17903664501195   |null                   |0.0                     |null                   |0.0                     |null             |null                   |null            |null                |null                  |0.0                 |null                  |0.0                   |null                    |null                      |0.0               |null            |null                  |null                   |null                   |0.0                   |null                 |null                  |null                   |\n",
      "|351157|497998|0             |0.0               |0.0                     |null                |0.0              |0.0             |0.0                   |null                   |null                   |0.0139231866860492 |0.0                  |null                   |null               |0.0           |0.0              |0.0                 |null                   |0.0           |null              |0.0                 |0              |23569.1581166667  |null                   |null                       |null                  |0.0650838898480304 |МЕНЕДЖЕР ПО ЗАКУПКАМ     |null               |0.0526315789473684 |null         |null                   |null                   |0.0              |0.0            |0.21052631578947398|null           |0.0            |1               |null   |0              |null                   |null             |0.0        |0.315789473684211  |0.8778445033460529|0.0          |312|null                   |0             |null                   |0.0                 |0.0               |null        |null                   |null           |null          |0               |null           |null         |null           |null                   |0.24645139725599602|0.0               |null           |null           |null         |0.0                     |0.47868980204919503|1.0                    |0.147518492175478      |0.0                 |1.0                    |0.0               |0.5                    |0.5                    |0.0                   |0.0485530180993028     |0.0                     |null                   |45.0           |1.0                    |45.0           |0.0485530180993028     |0.0                 |1.0                    |0.0                    |0.17369315793426401    |102 |null           |null        |3.07139890730785   |0.0                    |0.0                     |null                   |0.0                     |null             |0.10177920504168801    |null            |0.526315789473684   |null                  |0.0                 |1.0                   |0.0                   |null                    |0.0387858347386172        |0.0               |0.0             |0.0                   |0.0                    |0.0                    |0.0                   |0.0                  |0.0                   |0.0                    |\n",
      "|266241|413082|0             |0.0               |0.0                     |null                |0.0              |0.0             |0.0                   |null                   |null                   |0.0010443759534715 |0.0                  |null                   |null               |0.0           |0.0              |0.0                 |null                   |0.0           |null              |0.0                 |0              |7901.15368333333  |null                   |null                       |null                  |1.45811651444538E-4|программист              |null               |0.1                |null         |null                   |null                   |0.0              |0.0            |0.05               |null           |0.0            |0               |null   |0              |null                   |null             |0.0        |0.85               |0.998809812395084 |0.0          |300|null                   |0             |null                   |0.0                 |0.0               |null        |null                   |null           |null          |0               |null           |null         |null           |null                   |0.0773487760345445 |0.0               |null           |null           |null         |0.0                     |0.410013695025352  |null                   |0.118012929495626      |0.0                 |null                   |0.0               |0.529411764705882      |0.23529411764705901    |0.0                   |0.408759124087591      |null                    |null                   |null           |null                   |null           |0.182481751824818      |0.0                 |null                   |null                   |0.5094110021732839     |O01 |null           |null        |3.92903664501195   |null                   |0.0                     |null                   |0.0                     |null             |0.40841843569615       |null            |0.5                 |null                  |0.0                 |null                  |0.0                   |null                    |null                      |0.0               |null            |null                  |null                   |null                   |0.0                   |null                 |null                  |null                   |\n",
      "|203052|349893|0             |null              |null                    |null                |null             |null            |0.0                   |null                   |null                   |null               |null                 |null                   |null               |null          |null             |0.0                 |null                   |null          |null              |0.0                 |0              |14943.58          |null                   |null                       |null                  |null               |null                     |null               |null               |null         |null                   |null                   |null             |null           |null               |null           |null           |1               |null   |0              |null                   |null             |0.0        |null               |null              |0.0          |408|null                   |0             |null                   |0.0                 |0.0               |null        |null                   |null           |null          |0               |null           |null         |null           |null                   |0.166666666666667  |0.0               |null           |null           |null         |0.0                     |0.5                |null                   |0.0                    |0.0                 |null                   |0.0               |null                   |null                   |0.0                   |null                   |0.0                     |null                   |45.0           |null                   |45.0           |null                   |0.0                 |null                   |0.0                    |0.0                    |102 |null           |null        |9.90215492458184   |0.0                    |0.0                     |null                   |0.0                     |null             |null                   |null            |null                |null                  |0.0                 |1.0                   |0.0                   |null                    |0.00107411385606874       |0.0               |0.0             |0.0                   |0.0                    |0.0                    |0.0                   |0.0                  |0.0                   |0.0                    |\n",
      "|199496|346337|0             |0.0084138582978582|0.0                     |77.0                |0.0              |0.0             |0.0                   |0.4                    |0.154890866032219      |0.0464709936154753 |0.0                  |0.612587532687041      |OTHER              |0.0           |0.0              |0.0                 |0.6                    |0.0           |V                 |0.49875406799681604 |0              |140093.16241666698|null                   |JO                         |SPECIALIST            |0.00832287607185578|зам.ген.директора        |null               |0.11612903225806501|A            |null                   |null                   |0.0              |0.0            |0.032258064516129  |null           |0.0            |2               |null   |0              |null                   |SPECIALIST       |0.0        |0.4580645161290321 |0.764566777436499 |0.0          |468|null                   |1             |null                   |0.0                 |0.0               |PRIVATE     |null                   |null           |null          |0               |null           |null         |null           |null                   |0.00553444486482013|0.0               |null           |null           |PRIVATE      |0.0                     |0.17202888480967599|0.222222222222222      |0.01136732741815       |0.0                 |0.23510773137990804    |0.0               |0.338028169014085      |0.028169014084507005   |0.0                   |0.321851299320003      |0.0                     |null                   |0.0            |0.00205069835424831    |45.0           |0.00526842360024421    |0.0                 |0.0555555555555556     |0.0                    |0.130187704063221      |102 |null           |null        |12.028499010603301 |0.0                    |0.0                     |null                   |0.0                     |null             |0.300050279990455      |null            |0.283870967741935   |null                  |0.0                 |1.0                   |0.0                   |null                    |0.00191921835470645       |0.0               |0.0             |0.0                   |0.0                    |0.0                    |0.0                   |0.0                  |0.0                   |0.0                    |\n",
      "|143138|289979|0             |null              |null                    |null                |null             |null            |0.0                   |null                   |null                   |null               |null                 |null                   |null               |null          |null             |0.0                 |null                   |null          |null              |0.0                 |0              |142706.9385       |null                   |null                       |null                  |null               |null                     |null               |null               |null         |null                   |null                   |null             |null           |null               |null           |null           |0               |null   |0              |null                   |null             |0.0        |null               |null              |0.0          |360|null                   |0             |null                   |0.0                 |0.0               |null        |null                   |null           |null          |0               |null           |null         |null           |null                   |0.16864515198981303|0.0               |null           |null           |null         |0.0                     |0.506415126993516  |null                   |0.0                    |0.0                 |null                   |0.0               |null                   |null                   |0.0                   |null                   |null                    |null                   |null           |null                   |null           |null                   |0.0                 |null                   |null                   |0.00321338826085001    |K01 |null           |null        |0.95592611260454   |null                   |0.0                     |null                   |0.0                     |null             |null                   |null            |null                |null                  |0.0                 |null                  |0.0                   |null                    |null                      |0.0               |null            |null                  |null                   |null                   |0.0                   |null                 |null                  |null                   |\n",
      "|363977|510818|0             |0.0               |null                    |null                |null             |null            |0.0                   |null                   |null                   |0.0                |null                 |null                   |null               |null          |null             |0.0                 |null                   |null          |null              |0.0                 |0              |1833.4679999999998|null                   |null                       |null                  |0.0                |null                     |null               |0.0                |null         |null                   |null                   |null             |null           |0.0                |null           |null           |0               |null   |0              |null                   |null             |0.0        |0.8888888888888891 |0.9891944990176821|0.0          |228|null                   |0             |null                   |0.0                 |0.0               |null        |null                   |null           |null          |0               |null           |null         |null           |null                   |0.119391230171456  |0.0               |null           |null           |null         |0.0                     |0.9780995086906341 |null                   |0.00119861019449513    |0.0                 |null                   |0.0               |0.875                  |null                   |0.0                   |0.9920556107249259     |null                    |null                   |null           |null                   |null           |null                   |0.0                 |null                   |null                   |0.9908333009821808     |301 |null           |null        |0.625162348168061  |null                   |0.0                     |null                   |0.0                     |null             |0.9921414538310409     |null            |0.8888888888888891  |null                  |0.0                 |null                  |0.0                   |null                    |null                      |0.0               |null            |null                  |null                   |null                   |0.0                   |null                 |null                  |null                   |\n",
      "|89094 |235935|0             |0.0               |null                    |null                |null             |null            |0.0                   |null                   |null                   |0.0                |null                 |1.0                    |null               |null          |null             |0.0                 |1.0                    |null          |null              |0.0                 |0              |57457.87275       |null                   |null                       |null                  |0.0                |null                     |null               |0.0                |null         |null                   |null                   |null             |null           |0.0                |null           |null           |0               |null   |0              |null                   |null             |0.0        |0.941176470588235  |0.999924868433321 |0.0          |468|null                   |0             |null                   |0.0                 |0.0               |null        |null                   |null           |null          |0               |null           |null         |null           |null                   |0.458411506367506  |0.0               |null           |null           |null         |0.0                     |0.835669879546663  |null                   |0.34518541193976393    |0.0                 |null                   |0.0               |0.8125                 |0.375                  |0.0                   |0.8568605927552141     |null                    |null                   |null           |null                   |null           |0.3991218441273329     |0.0                 |null                   |null                   |0.8564836339593691     |O01 |null           |null        |2.0123777255077697 |null                   |0.0                     |null                   |0.0                     |null             |0.856871347043134      |null            |0.823529411764706   |null                  |0.0                 |null                  |0.0                   |null                    |null                      |0.0               |null            |null                  |null                   |null                   |0.0                   |null                 |null                  |null                   |\n",
      "|385294|532135|0             |0.0               |null                    |null                |null             |null            |0.0                   |null                   |null                   |0.0                |null                 |null                   |null               |null          |null             |0.0                 |null                   |null          |null              |0.0                 |0              |371.5             |null                   |null                       |null                  |0.0                |МАСТЕР ПО РЕМОНТУ СОТОВЫХ|null               |0.0                |null         |null                   |null                   |null             |null           |0.0                |null           |null           |0               |null   |0              |null                   |null             |0.0        |0.0                |0.0               |0.0          |348|null                   |0             |null                   |0.0                 |0.0               |null        |null                   |null           |null          |0               |null           |null         |null           |null                   |1.0                |0.0               |null           |null           |null         |0.0                     |1.0                |null                   |1.0                    |0.0                 |null                   |0.0               |null                   |null                   |0.0                   |null                   |null                    |null                   |null           |null                   |null           |null                   |0.0                 |null                   |null                   |1.0                    |K01 |null           |null        |0.36709783203902796|null                   |0.0                     |null                   |0.0                     |null             |1.0                    |null            |1.0                 |null                  |0.0                 |null                  |0.0                   |null                    |null                      |0.0               |null            |null                  |null                   |null                   |0.0                   |null                 |null                  |null                   |\n",
      "|417919|564760|0             |0.244405903704293 |0.0                     |null                |0.0              |0.0             |0.0                   |null                   |null                   |0.00622306644313746|0.0                  |1.0                    |null               |0.0           |0.0              |0.0                 |1.0                    |0.0           |null              |0.0                 |0              |84094.4040333333  |null                   |null                       |null                  |0.0203360243254693 |ОПЕРАТОР CALL-ЦЕНТРА     |null               |0.0793650793650794 |null         |0.1                    |null                   |0.0              |0.0            |0.0793650793650794 |null           |0.0            |0               |null   |0              |0.120045859587637      |null             |0.0        |0.0476190476190476 |0.174655922138086 |0.0          |288|1.0                    |0             |1.0                    |0.0                 |0.0               |null        |0.470403788076507      |null           |null          |0               |null           |null         |null           |0.3                    |0.0647007512474906 |0.0               |null           |null           |null         |0.0                     |0.436998884041084  |0.6                    |0.22231212276471898    |0.0                 |0.528981086028066      |0.0               |0.666666666666667      |null                   |0.0                   |0.4782608695652171     |null                    |null                   |null           |0.21720561317876802    |null           |null                   |0.0                 |0.2                    |null                   |0.515505640864969      |102 |null           |null        |3.60634514386699   |null                   |0.0                     |null                   |0.0                     |null             |0.7143197125254649     |null            |0.555555555555556   |null                  |0.0                 |null                  |0.0                   |null                    |null                      |0.0               |null            |null                  |null                   |null                   |0.0                   |null                 |null                  |null                   |\n",
      "|130550|277391|1             |0.0               |null                    |25.0                |null             |null            |0.0                   |null                   |null                   |0.0                |null                 |null                   |null               |null          |null             |0.0                 |null                   |null          |V                 |0.0                 |0              |7868.37141666667  |null                   |OTHER                      |null                  |0.0                |ГРУЗЧИК                  |N                  |0.0                |S            |null                   |null                   |null             |null           |0.0                |N              |null           |0               |N      |0              |null                   |SPECIALIST       |0.0        |1.0                |1.0               |0.0          |300|null                   |0             |null                   |0.0                 |0.0               |PRIVATE     |null                   |null           |null          |0               |null           |null         |null           |null                   |0.7865061127590179 |0.0               |null           |null           |PRIVATE      |0.0                     |1.0                |null                   |0.805708665336662      |0.0                 |null                   |0.0               |1.0                    |0.8                    |0.0                   |1.0                    |null                    |null                   |null           |null                   |null           |0.824337328936754      |0.0                 |null                   |null                   |1.0                    |301 |null           |null        |3.70054976851852   |null                   |0.0                     |null                   |0.0                     |null             |1.0                    |null            |1.0                 |null                  |0.0                 |null                  |0.0                   |null                    |null                      |0.0               |null            |null                  |null                   |null                   |0.0                   |null                 |null                  |null                   |\n",
      "|189989|336830|0             |0.0               |null                    |null                |null             |null            |0.0                   |null                   |null                   |0.0                |null                 |null                   |null               |null          |null             |0.0                 |null                   |null          |null              |0.0                 |0              |295.631933333333  |1.0                    |null                       |null                  |0.0                |НАЧАЛЬНИК СВХ            |null               |0.0                |null         |null                   |1.0                    |null             |null           |0.0                |null           |null           |0               |null   |0              |null                   |null             |0.0        |0.5                |0.122579063495955 |0.0          |612|1.0                    |0             |1.0                    |0.0                 |0.0               |null        |null                   |null           |null          |0               |null           |null         |null           |null                   |0.9694447194360369 |0.0               |null           |null           |null         |0.0                     |1.0                |null                   |0.9902581838382171     |0.0                 |null                   |0.0               |1.0                    |1.0                    |0.0                   |1.0                    |null                    |null                   |null           |null                   |null           |1.0                    |0.0                 |null                   |null                   |1.0                    |102 |null           |null        |3.9854882579151703 |null                   |0.0                     |null                   |0.0                     |null             |1.0                    |null            |1.0                 |null                  |0.0                 |null                  |0.0                   |null                    |null                      |0.0               |null            |null                  |null                   |null                   |0.0                   |null                 |null                  |null                   |\n",
      "|209212|356053|0             |0.0               |null                    |50.0                |null             |null            |0.0                   |null                   |null                   |0.0                |null                 |null                   |FRIEND             |null          |null             |0.0                 |null                   |null          |D                 |0.0                 |0              |271215.08395      |null                   |OTHER                      |SELF_EMPL             |0.0                |ген.директор             |Y                  |0.0                |HH           |null                   |null                   |null             |null           |0.0                |N              |null           |1               |Y      |1              |null                   |SELF_EMPL        |0.0        |0.0                |0.0               |0.0          |552|null                   |0             |null                   |0.0                 |0.0               |PRIVATE     |null                   |null           |null          |0               |null           |null         |null           |null                   |0.155692723655633  |0.0               |null           |null           |PRIVATE      |0.0                     |0.479352347737786  |null                   |0.114019560849164      |0.0                 |null                   |0.0               |null                   |null                   |0.0                   |null                   |null                    |null                   |45.0           |null                   |45.0           |null                   |0.0                 |null                   |null                   |0.62041205356115       |104 |null           |null        |11.8994667525388   |null                   |0.0                     |null                   |0.0                     |null             |null                   |null            |null                |null                  |0.0                 |1.0                   |0.0                   |null                    |0.0                       |0.0               |0.0             |0.0                   |0.0                    |0.0                    |0.0                   |0.0                  |0.0                   |0.0                    |\n",
      "|146461|293302|0             |0.0               |null                    |null                |null             |null            |0.0                   |null                   |null                   |0.0                |null                 |null                   |null               |null          |null             |0.0                 |null                   |null          |null              |0.0                 |0              |48913.4917666667  |null                   |null                       |null                  |0.0                |ОПЕРАТИВНЫЙ ДЕЖУРНЫЙ     |null               |0.0                |null         |null                   |null                   |null             |null           |0.0                |null           |null           |0               |null   |0              |null                   |null             |0.0        |1.0                |1.0               |0.0          |492|null                   |0             |null                   |0.0                 |0.0               |null        |null                   |null           |null          |0               |null           |null         |null           |null                   |0.19788439379547199|0.0               |null           |null           |null         |0.0                     |0.5688014764117371 |null                   |0.168316844028004      |0.0                 |null                   |0.0               |0.657894736842105      |0.21052631578947398    |0.0                   |0.6047831374138629     |null                    |null                   |null           |null                   |null           |0.16831405319447498    |0.0                 |null                   |null                   |0.604720180540749      |107 |null           |null        |0.902162671744325  |null                   |0.0                     |null                   |0.0                     |null             |0.6047831374138629     |null            |0.657894736842105   |null                  |0.0                 |null                  |0.0                   |null                    |null                      |0.0               |null            |null                  |null                   |null                   |0.0                   |null                 |null                  |null                   |\n",
      "|175527|322368|1             |0.0399466688304611|0.0                     |61.0                |0.0              |0.0             |0.0                   |0.29166666666666696    |0.21202217673576199    |0.109594201030825  |0.0                  |0.430861517311493      |null               |0.0           |0.0              |0.0                 |0.5416666666666671     |0.0           |V                 |0.0                 |0              |31303.575         |null                   |NPRIVAT                    |null                  |0.0448517620851918 |СТРОПАЛЬЩИК              |N                  |0.32799999999999996|UH           |0.1875                 |null                   |0.0              |0.0            |0.096              |N              |0.0            |0               |N      |0              |0.22323058467636803    |SPECIALIST       |0.0        |0.168              |0.646448749986315 |0.0          |336|0.482758620689655      |0             |0.464265237534267      |0.0                 |0.0               |PRIVATE     |0.272983314604344      |null           |null          |0               |null           |null         |null           |0.25                   |0.18644421550360699|0.0               |null           |null           |PRIVATE      |0.0                     |0.379620378290126  |0.463414634146341      |0.106732660580534      |0.0                 |0.513236519406424      |0.0               |0.47619047619047605    |0.0952380952380952     |0.0                   |0.170524465279812      |null                    |null                   |null           |0.184416376275006      |null           |0.0468795780837972     |0.0                 |0.134146341463415      |null                   |0.30353495698044797    |102 |null           |null        |5.523122666517321  |null                   |0.0                     |null                   |0.0                     |null             |0.270884149072862      |null            |0.48                |null                  |0.0                 |null                  |0.0                   |null                    |null                      |0.0               |null            |null                  |null                   |null                   |0.0                   |null                 |null                  |null                   |\n",
      "|259200|406041|0             |0.0               |0.0                     |null                |0.0              |0.0             |0.0                   |null                   |null                   |0.05600369522098599|0.0                  |null                   |BROTHER            |0.0           |0.0              |0.0                 |null                   |0.0           |null              |0.0                 |0              |459162.9537       |null                   |null                       |null                  |0.0                |МЕНЕДЖЕР                 |null               |0.277777777777778  |null         |null                   |null                   |0.0              |0.0            |0.0                |null           |0.0            |0               |null   |0              |null                   |null             |203.44     |0.0555555555555556 |0.159827897320166 |0.0          |540|null                   |2             |null                   |0.0                 |0.0               |null        |null                   |null           |null          |0               |null           |null         |null           |null                   |0.146012191517387  |0.0               |null           |null           |null         |0.0                     |0.464059886255294  |0.6                    |0.0114591833674531     |0.0                 |0.672374429223744      |0.0               |null                   |null                   |0.0                   |null                   |null                    |null                   |null           |null                   |null           |null                   |0.0                 |null                   |null                   |0.116138665589146      |102 |null           |null        |3.94785384931302   |null                   |0.0                     |null                   |0.0                     |null             |0.11066483610448301    |null            |0.277777777777778   |null                  |0.008739602098964091|null                  |0.0                   |null                    |null                      |0.0288742080102814|null            |null                  |null                   |null                   |5.24315113383143E-4   |null                 |null                  |null                   |\n",
      "+------+------+--------------+------------------+------------------------+--------------------+-----------------+----------------+----------------------+-----------------------+-----------------------+-------------------+---------------------+-----------------------+-------------------+--------------+-----------------+--------------------+-----------------------+--------------+------------------+--------------------+---------------+------------------+-----------------------+---------------------------+----------------------+-------------------+-------------------------+-------------------+-------------------+-------------+-----------------------+-----------------------+-----------------+---------------+-------------------+---------------+---------------+----------------+-------+---------------+-----------------------+-----------------+-----------+-------------------+------------------+-------------+---+-----------------------+--------------+-----------------------+--------------------+------------------+------------+-----------------------+---------------+--------------+----------------+---------------+-------------+---------------+-----------------------+-------------------+------------------+---------------+---------------+-------------+------------------------+-------------------+-----------------------+-----------------------+--------------------+-----------------------+------------------+-----------------------+-----------------------+----------------------+-----------------------+------------------------+-----------------------+---------------+-----------------------+---------------+-----------------------+--------------------+-----------------------+-----------------------+-----------------------+----+---------------+------------+-------------------+-----------------------+------------------------+-----------------------+------------------------+-----------------+-----------------------+----------------+--------------------+----------------------+--------------------+----------------------+----------------------+------------------------+--------------------------+------------------+----------------+----------------------+-----------------------+-----------------------+----------------------+---------------------+----------------------+-----------------------+\n",
      "only showing top 20 rows\n",
      "\n"
     ]
    },
    {
     "data": {
      "text/plain": [
       "test = [_c0: int, ID: int ... 114 more fields]\n"
      ]
     },
     "metadata": {},
     "output_type": "display_data"
    },
    {
     "data": {
      "text/plain": [
       "[_c0: int, ID: int ... 114 more fields]"
      ]
     },
     "execution_count": 29,
     "metadata": {},
     "output_type": "execute_result"
    }
   ],
   "source": [
    "val test = spark.read.options(Map(\"inferSchema\"->\"true\",\"delimiter\"->\",\",\"header\"->\"true\")).csv(path_test)\n",
    "test.printSchema()\n",
    "test.show(false)"
   ]
  },
  {
   "cell_type": "code",
   "execution_count": 30,
   "metadata": {},
   "outputs": [
    {
     "data": {
      "text/plain": [
       "44399"
      ]
     },
     "execution_count": 30,
     "metadata": {},
     "output_type": "execute_result"
    }
   ],
   "source": [
    "test.count"
   ]
  },
  {
   "cell_type": "code",
   "execution_count": 31,
   "metadata": {},
   "outputs": [
    {
     "name": "stdout",
     "output_type": "stream",
     "text": [
      "-RECORD 0----------------------------\n",
      " summary                     | count \n",
      " _c0                         | 44399 \n",
      " ID                          | 44399 \n",
      " CR_PROD_CNT_IL              | 44399 \n",
      " AMOUNT_RUB_CLO_PRC          | 39605 \n",
      " PRC_ACCEPTS_A_EMAIL_LINK    | 19378 \n",
      " APP_REGISTR_RGN_CODE        | 7525  \n",
      " PRC_ACCEPTS_A_POS           | 19378 \n",
      " PRC_ACCEPTS_A_TK            | 19378 \n",
      " TURNOVER_DYNAMIC_IL_1M      | 44399 \n",
      " CNT_TRAN_AUT_TENDENCY1M     | 9667  \n",
      " SUM_TRAN_AUT_TENDENCY1M     | 9667  \n",
      " AMOUNT_RUB_SUP_PRC          | 39605 \n",
      " PRC_ACCEPTS_A_AMOBILE       | 19378 \n",
      " SUM_TRAN_AUT_TENDENCY3M     | 13771 \n",
      " CLNT_TRUST_RELATION         | 8542  \n",
      " PRC_ACCEPTS_TK              | 19378 \n",
      " PRC_ACCEPTS_A_MTP           | 19378 \n",
      " REST_DYNAMIC_FDEP_1M        | 44399 \n",
      " CNT_TRAN_AUT_TENDENCY3M     | 13771 \n",
      " CNT_ACCEPTS_TK              | 19378 \n",
      " APP_MARITAL_STATUS          | 8469  \n",
      " REST_DYNAMIC_SAVE_3M        | 44399 \n",
      " CR_PROD_CNT_VCU             | 44399 \n",
      " REST_AVG_CUR                | 44399 \n",
      " CNT_TRAN_MED_TENDENCY1M     | 8519  \n",
      " APP_KIND_OF_PROP_HABITATION | 7378  \n",
      " CLNT_JOB_POSITION_TYPE      | 5548  \n",
      " AMOUNT_RUB_NAS_PRC          | 39605 \n",
      " CLNT_JOB_POSITION           | 26360 \n",
      " APP_DRIVING_LICENSE         | 7128  \n",
      " TRANS_COUNT_SUP_PRC         | 39605 \n",
      " APP_EDUCATION               | 8453  \n",
      " CNT_TRAN_CLO_TENDENCY1M     | 8201  \n",
      " SUM_TRAN_MED_TENDENCY1M     | 8519  \n",
      " PRC_ACCEPTS_A_ATM           | 19378 \n",
      " PRC_ACCEPTS_MTP             | 19378 \n",
      " TRANS_COUNT_NAS_PRC         | 39605 \n",
      " APP_TRAVEL_PASS             | 7128  \n",
      " CNT_ACCEPTS_MTP             | 19378 \n",
      " CR_PROD_CNT_TOVR            | 44399 \n",
      " APP_CAR                     | 7128  \n",
      " CR_PROD_CNT_PIL             | 44399 \n",
      " SUM_TRAN_CLO_TENDENCY1M     | 8201  \n",
      " APP_POSITION_TYPE           | 7528  \n",
      " TURNOVER_CC                 | 44399 \n",
      " TRANS_COUNT_ATM_PRC         | 39605 \n",
      " AMOUNT_RUB_ATM_PRC          | 39605 \n",
      " TURNOVER_PAYM               | 44399 \n",
      " AGE                         | 44399 \n",
      " CNT_TRAN_MED_TENDENCY3M     | 14483 \n",
      " CR_PROD_CNT_CC              | 44399 \n",
      " SUM_TRAN_MED_TENDENCY3M     | 14483 \n",
      " REST_DYNAMIC_FDEP_3M        | 44399 \n",
      " REST_DYNAMIC_IL_1M          | 44399 \n",
      " APP_EMP_TYPE                | 8365  \n",
      " SUM_TRAN_CLO_TENDENCY3M     | 14230 \n",
      " LDEAL_TENOR_MAX             | 980   \n",
      " LDEAL_YQZ_CHRG              | 161   \n",
      " CR_PROD_CNT_CCFP            | 44399 \n",
      " DEAL_YQZ_IR_MAX             | 980   \n",
      " LDEAL_YQZ_COM               | 144   \n",
      " DEAL_YQZ_IR_MIN             | 980   \n",
      " CNT_TRAN_CLO_TENDENCY3M     | 14230 \n",
      " REST_DYNAMIC_CUR_1M         | 44399 \n",
      " REST_AVG_PAYM               | 44399 \n",
      " LDEAL_TENOR_MIN             | 980   \n",
      " LDEAL_AMT_MONTH             | 233   \n",
      " APP_COMP_TYPE               | 8365  \n",
      " LDEAL_GRACE_DAYS_PCT_MED    | 44399 \n",
      " REST_DYNAMIC_CUR_3M         | 44399 \n",
      " CNT_TRAN_SUP_TENDENCY3M     | 24829 \n",
      " TURNOVER_DYNAMIC_CUR_1M     | 44399 \n",
      " REST_DYNAMIC_PAYM_3M        | 44399 \n",
      " SUM_TRAN_SUP_TENDENCY3M     | 24829 \n",
      " REST_DYNAMIC_IL_3M          | 44399 \n",
      " CNT_TRAN_ATM_TENDENCY3M     | 31777 \n",
      " CNT_TRAN_ATM_TENDENCY1M     | 25615 \n",
      " TURNOVER_DYNAMIC_IL_3M      | 44399 \n",
      " SUM_TRAN_ATM_TENDENCY3M     | 31777 \n",
      " DEAL_GRACE_DAYS_ACC_S1X1    | 8872  \n",
      " AVG_PCT_MONTH_TO_PCLOSE     | 201   \n",
      " DEAL_YWZ_IR_MIN             | 12051 \n",
      " SUM_TRAN_SUP_TENDENCY1M     | 19509 \n",
      " DEAL_YWZ_IR_MAX             | 12051 \n",
      " SUM_TRAN_ATM_TENDENCY1M     | 25615 \n",
      " REST_DYNAMIC_PAYM_1M        | 44399 \n",
      " CNT_TRAN_SUP_TENDENCY1M     | 19509 \n",
      " DEAL_GRACE_DAYS_ACC_AVG     | 8751  \n",
      " TURNOVER_DYNAMIC_CUR_3M     | 44399 \n",
      " PACK                        | 44399 \n",
      " MAX_PCLOSE_DATE             | 232   \n",
      " LDEAL_YQZ_PC                | 334   \n",
      " CLNT_SETUP_TENOR            | 44399 \n",
      " DEAL_GRACE_DAYS_ACC_MAX     | 8751  \n",
      " TURNOVER_DYNAMIC_PAYM_3M    | 44399 \n",
      " LDEAL_DELINQ_PER_MAXYQZ     | 980   \n",
      " TURNOVER_DYNAMIC_PAYM_1M    | 44399 \n",
      " CLNT_SALARY_VALUE           | 77    \n",
      " TRANS_AMOUNT_TENDENCY3M     | 37888 \n",
      " MED_DEBT_PRC_YQZ            | 980   \n",
      " TRANS_CNT_TENDENCY3M        | 37888 \n",
      " LDEAL_USED_AMT_AVG_YQZ      | 980   \n",
      " REST_DYNAMIC_CC_1M          | 44399 \n",
      " LDEAL_USED_AMT_AVG_YWZ      | 12051 \n",
      " TURNOVER_DYNAMIC_CC_1M      | 44399 \n",
      " AVG_PCT_DEBT_TO_DEAL_AMT    | 233   \n",
      " LDEAL_ACT_DAYS_ACC_PCT_AVG  | 11795 \n",
      " REST_DYNAMIC_CC_3M          | 44399 \n",
      " MED_DEBT_PRC_YWZ            | 12051 \n",
      " LDEAL_ACT_DAYS_PCT_TR3      | 11795 \n",
      " LDEAL_ACT_DAYS_PCT_AAVG     | 12368 \n",
      " LDEAL_DELINQ_PER_MAXYWZ     | 12051 \n",
      " TURNOVER_DYNAMIC_CC_3M      | 44399 \n",
      " LDEAL_ACT_DAYS_PCT_TR       | 11795 \n",
      " LDEAL_ACT_DAYS_PCT_TR4      | 11795 \n",
      " LDEAL_ACT_DAYS_PCT_CURR     | 11795 \n",
      "\n"
     ]
    }
   ],
   "source": [
    "test.summary(\"count\").show(60, truncate = 100, vertical = true)"
   ]
  },
  {
   "cell_type": "code",
   "execution_count": 33,
   "metadata": {},
   "outputs": [
    {
     "data": {
      "text/plain": [
       "cut_test0 = [_c0: int, ID: int ... 99 more fields]\n"
      ]
     },
     "metadata": {},
     "output_type": "display_data"
    },
    {
     "data": {
      "text/plain": [
       "[_c0: int, ID: int ... 99 more fields]"
      ]
     },
     "execution_count": 33,
     "metadata": {},
     "output_type": "execute_result"
    }
   ],
   "source": [
    "val cut_test0 = test.drop(\"LDEAL_TENOR_MAX\", \n",
    "                       \"DEAL_YQZ_IR_MAX\",\n",
    "                       \"DEAL_YQZ_IR_MIN\",\n",
    "                       \"LDEAL_TENOR_MIN\",\n",
    "                       \"LDEAL_DELINQ_PER_MAXYQZ\",\n",
    "                       \"MED_DEBT_PRC_YQZ\",\n",
    "                       \"LDEAL_USED_AMT_AVG_YQZ\",\n",
    "                       \"LDEAL_YQZ_PC\",\n",
    "                       \"LDEAL_AMT_MONTH\",\n",
    "                       \"AVG_PCT_DEBT_TO_DEAL_AMT\",\n",
    "                       \"MAX_PCLOSE_DATE\",\n",
    "                       \"AVG_PCT_MONTH_TO_PCLOSE\",\n",
    "                       \"LDEAL_YQZ_CHRG\",\n",
    "                       \"LDEAL_YQZ_COM\",\n",
    "                       \"CLNT_SALARY_VALUE\")"
   ]
  },
  {
   "cell_type": "code",
   "execution_count": 34,
   "metadata": {},
   "outputs": [
    {
     "data": {
      "text/plain": [
       "cut_test1 = [ID: int, CR_PROD_CNT_IL: int ... 98 more fields]\n"
      ]
     },
     "metadata": {},
     "output_type": "display_data"
    },
    {
     "data": {
      "text/plain": [
       "[ID: int, CR_PROD_CNT_IL: int ... 98 more fields]"
      ]
     },
     "execution_count": 34,
     "metadata": {},
     "output_type": "execute_result"
    }
   ],
   "source": [
    "val cut_test1 = cut_test0.drop(\"_c0\")"
   ]
  },
  {
   "cell_type": "code",
   "execution_count": 35,
   "metadata": {},
   "outputs": [
    {
     "data": {
      "text/plain": [
       "cut_test2 = [ID: int, CR_PROD_CNT_IL: int ... 85 more fields]\n"
      ]
     },
     "metadata": {},
     "output_type": "display_data"
    },
    {
     "data": {
      "text/plain": [
       "[ID: int, CR_PROD_CNT_IL: int ... 85 more fields]"
      ]
     },
     "execution_count": 35,
     "metadata": {},
     "output_type": "execute_result"
    }
   ],
   "source": [
    "val cut_test2 = cut_test1.drop(\"CLNT_TRUST_RELATION\",\n",
    "                                 \"APP_MARITAL_STATUS\",\n",
    "                                \"APP_KIND_OF_PROP_HABITATION\",\n",
    "                                 \"CLNT_JOB_POSITION_TYPE\",\n",
    "                                 \"CLNT_JOB_POSITION\",\n",
    "                                 \"APP_DRIVING_LICENSE\",\n",
    "                                 \"APP_EDUCATION\",\n",
    "                                 \"APP_TRAVEL_PASS\",\n",
    "                                 \"APP_CAR\",\n",
    "                                 \"APP_POSITION_TYPE\",\n",
    "                                 \"APP_EMP_TYPE\",\n",
    "                                 \"APP_COMP_TYPE\",\n",
    "                                 \"PACK\")"
   ]
  },
  {
   "cell_type": "code",
   "execution_count": 36,
   "metadata": {},
   "outputs": [
    {
     "data": {
      "text/plain": [
       "cut_test3 = [ID: int, CR_PROD_CNT_IL: int ... 85 more fields]\n"
      ]
     },
     "metadata": {},
     "output_type": "display_data"
    },
    {
     "data": {
      "text/plain": [
       "[ID: int, CR_PROD_CNT_IL: int ... 85 more fields]"
      ]
     },
     "execution_count": 36,
     "metadata": {},
     "output_type": "execute_result"
    }
   ],
   "source": [
    "val cut_test3 = cut_test2.filter(\"AGE is not NULL\")"
   ]
  },
  {
   "cell_type": "code",
   "execution_count": 37,
   "metadata": {},
   "outputs": [
    {
     "data": {
      "text/plain": [
       "test_col = Array(ID, CR_PROD_CNT_IL, AMOUNT_RUB_CLO_PRC, PRC_ACCEPTS_A_EMAIL_LINK, APP_REGISTR_RGN_CODE, PRC_ACCEPTS_A_POS, PRC_ACCEPTS_A_TK, TURNOVER_DYNAMIC_IL_1M, CNT_TRAN_AUT_TENDENCY1M, SUM_TRAN_AUT_TENDENCY1M, AMOUNT_RUB_SUP_PRC, PRC_ACCEPTS_A_AMOBILE, SUM_TRAN_AUT_TENDENCY3M, PRC_ACCEPTS_TK, PRC_ACCEPTS_A_MTP, REST_DYNAMIC_FDEP_1M, CNT_TRAN_AUT_TENDENCY3M, CNT_ACCEPTS_TK, REST_DYNAMIC_SAVE_3M, CR_PROD_CNT_VCU, REST_AVG_CUR, CNT_TRAN_MED_TENDENCY1M, AMOUNT_RUB_NAS_PRC, TRANS_COUNT_SUP_PRC, CNT_TRAN_CLO_TENDENCY1M, SUM_TRAN_MED_TENDENCY1M, PRC_ACCEPTS_A_ATM, PRC_ACCEPTS_MTP, TRANS_COUNT_NAS_PRC, CNT_ACCEPTS_MTP, CR_PROD_CNT_TOVR, CR_PROD_CNT_PIL, SUM_TRAN_CLO_TENDENCY1M, TURNOVER_CC, TRANS_COUNT_ATM_PRC, AMOUNT_RUB_ATM_PRC, TURNOVER_PAYM, AGE, CNT_TRAN_MED_TENDENCY3M...\n"
      ]
     },
     "metadata": {},
     "output_type": "display_data"
    },
    {
     "data": {
      "text/plain": [
       "Array(ID, CR_PROD_CNT_IL, AMOUNT_RUB_CLO_PRC, PRC_ACCEPTS_A_EMAIL_LINK, APP_REGISTR_RGN_CODE, PRC_ACCEPTS_A_POS, PRC_ACCEPTS_A_TK, TURNOVER_DYNAMIC_IL_1M, CNT_TRAN_AUT_TENDENCY1M, SUM_TRAN_AUT_TENDENCY1M, AMOUNT_RUB_SUP_PRC, PRC_ACCEPTS_A_AMOBILE, SUM_TRAN_AUT_TENDENCY3M, PRC_ACCEPTS_TK, PRC_ACCEPTS_A_MTP, REST_DYNAMIC_FDEP_1M, CNT_TRAN_AUT_TENDENCY3M, CNT_ACCEPTS_TK, REST_DYNAMIC_SAVE_3M, CR_PROD_CNT_VCU, REST_AVG_CUR, CNT_TRAN_MED_TENDENCY1M, AMOUNT_RUB_NAS_PRC, TRANS_COUNT_SUP_PRC, CNT_TRAN_CLO_TENDENCY1M, SUM_TRAN_MED_TENDENCY1M, PRC_ACCEPTS_A_ATM, PRC_ACCEPTS_MTP, TRANS_COUNT_NAS_PRC, CNT_ACCEPTS_MTP, CR_PROD_CNT_TOVR, CR_PROD_CNT_PIL, SUM_TRAN_CLO_TENDENCY1M, TURNOVER_CC, TRANS_COUNT_ATM_PRC, AMOUNT_RUB_ATM_PRC, TURNOVER_PAYM, AGE, CNT_TRAN_MED_TENDENCY3M..."
      ]
     },
     "execution_count": 37,
     "metadata": {},
     "output_type": "execute_result"
    }
   ],
   "source": [
    "val test_col = cut_test3.columns"
   ]
  },
  {
   "cell_type": "code",
   "execution_count": 38,
   "metadata": {},
   "outputs": [
    {
     "data": {
      "text/plain": [
       "feature_col_test = Array(CR_PROD_CNT_IL, AMOUNT_RUB_CLO_PRC, PRC_ACCEPTS_A_EMAIL_LINK, APP_REGISTR_RGN_CODE, PRC_ACCEPTS_A_POS, PRC_ACCEPTS_A_TK, TURNOVER_DYNAMIC_IL_1M, CNT_TRAN_AUT_TENDENCY1M, SUM_TRAN_AUT_TENDENCY1M, AMOUNT_RUB_SUP_PRC, PRC_ACCEPTS_A_AMOBILE, SUM_TRAN_AUT_TENDENCY3M, PRC_ACCEPTS_TK, PRC_ACCEPTS_A_MTP, REST_DYNAMIC_FDEP_1M, CNT_TRAN_AUT_TENDENCY3M, CNT_ACCEPTS_TK, REST_DYNAMIC_SAVE_3M, CR_PROD_CNT_VCU, REST_AVG_CUR, CNT_TRAN_MED_TENDENCY1M, AMOUNT_RUB_NAS_PRC, TRANS_COUNT_SUP_PRC, CNT_TRAN_CLO_TENDENCY1M, SUM_TRAN_MED_TENDENCY1M, PRC_ACCEPTS_A_ATM, PRC_ACCEPTS_MTP, TRANS_COUNT_NAS_PRC, CNT_ACCEPTS_MTP, CR_PROD_CNT_TOVR, CR_PROD_CNT_PIL, SUM_TRAN_CLO_TENDENCY1M, TURNOVER_CC, TRANS_COUNT_ATM_PRC, AMOUNT_RUB_ATM_PRC, TURNOVER_PAYM, AGE, CNT_TRAN_MED_TENDEN...\n"
      ]
     },
     "metadata": {},
     "output_type": "display_data"
    },
    {
     "data": {
      "text/plain": [
       "Array(CR_PROD_CNT_IL, AMOUNT_RUB_CLO_PRC, PRC_ACCEPTS_A_EMAIL_LINK, APP_REGISTR_RGN_CODE, PRC_ACCEPTS_A_POS, PRC_ACCEPTS_A_TK, TURNOVER_DYNAMIC_IL_1M, CNT_TRAN_AUT_TENDENCY1M, SUM_TRAN_AUT_TENDENCY1M, AMOUNT_RUB_SUP_PRC, PRC_ACCEPTS_A_AMOBILE, SUM_TRAN_AUT_TENDENCY3M, PRC_ACCEPTS_TK, PRC_ACCEPTS_A_MTP, REST_DYNAMIC_FDEP_1M, CNT_TRAN_AUT_TENDENCY3M, CNT_ACCEPTS_TK, REST_DYNAMIC_SAVE_3M, CR_PROD_CNT_VCU, REST_AVG_CUR, CNT_TRAN_MED_TENDENCY1M, AMOUNT_RUB_NAS_PRC, TRANS_COUNT_SUP_PRC, CNT_TRAN_CLO_TENDENCY1M, SUM_TRAN_MED_TENDENCY1M, PRC_ACCEPTS_A_ATM, PRC_ACCEPTS_MTP, TRANS_COUNT_NAS_PRC, CNT_ACCEPTS_MTP, CR_PROD_CNT_TOVR, CR_PROD_CNT_PIL, SUM_TRAN_CLO_TENDENCY1M, TURNOVER_CC, TRANS_COUNT_ATM_PRC, AMOUNT_RUB_ATM_PRC, TURNOVER_PAYM, AGE, CNT_TRAN_MED_TENDEN..."
      ]
     },
     "execution_count": 38,
     "metadata": {},
     "output_type": "execute_result"
    }
   ],
   "source": [
    "val feature_col_test = test_col.slice(1,87)"
   ]
  },
  {
   "cell_type": "code",
   "execution_count": 39,
   "metadata": {},
   "outputs": [
    {
     "data": {
      "text/plain": [
       "Array(ID)"
      ]
     },
     "execution_count": 39,
     "metadata": {},
     "output_type": "execute_result"
    }
   ],
   "source": [
    "test_col.slice(0, 1)"
   ]
  },
  {
   "cell_type": "code",
   "execution_count": 40,
   "metadata": {},
   "outputs": [
    {
     "data": {
      "text/plain": [
       "Array()"
      ]
     },
     "execution_count": 40,
     "metadata": {},
     "output_type": "execute_result"
    }
   ],
   "source": [
    "test_col.slice(87, 88)"
   ]
  },
  {
   "cell_type": "code",
   "execution_count": 41,
   "metadata": {},
   "outputs": [
    {
     "data": {
      "text/plain": [
       "cut_test4 = [ID: int, CR_PROD_CNT_IL: int ... 85 more fields]\n"
      ]
     },
     "metadata": {},
     "output_type": "display_data"
    },
    {
     "data": {
      "text/plain": [
       "[ID: int, CR_PROD_CNT_IL: int ... 85 more fields]"
      ]
     },
     "execution_count": 41,
     "metadata": {},
     "output_type": "execute_result"
    }
   ],
   "source": [
    "val cut_test4 = cut_test3.na.fill(999999999, feature_col_test)"
   ]
  },
  {
   "cell_type": "code",
   "execution_count": 42,
   "metadata": {},
   "outputs": [
    {
     "data": {
      "text/plain": [
       "44399"
      ]
     },
     "execution_count": 42,
     "metadata": {},
     "output_type": "execute_result"
    }
   ],
   "source": [
    "cut_test4.count"
   ]
  },
  {
   "cell_type": "code",
   "execution_count": 43,
   "metadata": {},
   "outputs": [
    {
     "data": {
      "text/plain": [
       "output_test = [ID: int, CR_PROD_CNT_IL: int ... 86 more fields]\n"
      ]
     },
     "metadata": {},
     "output_type": "display_data"
    },
    {
     "data": {
      "text/plain": [
       "[ID: int, CR_PROD_CNT_IL: int ... 86 more fields]"
      ]
     },
     "execution_count": 43,
     "metadata": {},
     "output_type": "execute_result"
    }
   ],
   "source": [
    "val output_test = assembler_num.transform(cut_test4)"
   ]
  },
  {
   "cell_type": "code",
   "execution_count": 44,
   "metadata": {},
   "outputs": [
    {
     "name": "stdout",
     "output_type": "stream",
     "text": [
      "+------+--------------------+\n",
      "|    ID|            features|\n",
      "+------+--------------------+\n",
      "|519130|[0.0,0.0,9.999999...|\n",
      "|234045|(86,[1,3,7,8,9,11...|\n",
      "|401256|(86,[1,3,7,8,9,11...|\n",
      "|551070|[0.0,0.0,9.999999...|\n",
      "|367285|[0.0,9.99999999E8...|\n",
      "|497998|(86,[3,7,8,9,11,1...|\n",
      "|413082|(86,[3,7,8,9,11,1...|\n",
      "|349893|(86,[1,2,3,4,5,7,...|\n",
      "|346337|(86,[1,3,7,8,9,11...|\n",
      "|289979|[0.0,9.99999999E8...|\n",
      "|510818|(86,[2,3,4,5,7,8,...|\n",
      "|235935|(86,[2,3,4,5,7,8,...|\n",
      "|532135|(86,[2,3,4,5,7,8,...|\n",
      "|564760|(86,[1,3,7,8,9,11...|\n",
      "|277391|[1.0,0.0,9.999999...|\n",
      "|336830|(86,[2,3,4,5,7,8,...|\n",
      "|356053|(86,[2,3,4,5,7,8,...|\n",
      "|293302|(86,[2,3,4,5,7,8,...|\n",
      "|322368|(86,[0,1,3,7,8,9,...|\n",
      "|406041|(86,[3,7,8,9,11,1...|\n",
      "+------+--------------------+\n",
      "only showing top 20 rows\n",
      "\n"
     ]
    }
   ],
   "source": [
    "output_test.select(\"ID\", \"features\").show()"
   ]
  },
  {
   "cell_type": "code",
   "execution_count": 47,
   "metadata": {},
   "outputs": [
    {
     "data": {
      "text/plain": [
       "predictions = [ID: int, CR_PROD_CNT_IL: int ... 89 more fields]\n"
      ]
     },
     "metadata": {},
     "output_type": "display_data"
    },
    {
     "data": {
      "text/plain": [
       "[ID: int, CR_PROD_CNT_IL: int ... 89 more fields]"
      ]
     },
     "execution_count": 47,
     "metadata": {},
     "output_type": "execute_result"
    }
   ],
   "source": [
    "val predictions = model.transform(output_test)"
   ]
  },
  {
   "cell_type": "code",
   "execution_count": 48,
   "metadata": {},
   "outputs": [
    {
     "name": "stdout",
     "output_type": "stream",
     "text": [
      "+------+--------------+------------------+------------------------+--------------------+-----------------+----------------+----------------------+-----------------------+-----------------------+-------------------+---------------------+-----------------------+--------------+-----------------+--------------------+-----------------------+--------------+--------------------+---------------+------------------+-----------------------+-------------------+-------------------+-----------------------+-----------------------+-----------------+---------------+-------------------+---------------+----------------+---------------+-----------------------+-----------+-------------------+------------------+-------------+---+-----------------------+--------------+-----------------------+--------------------+------------------+-----------------------+----------------+-----------------------+-------------------+------------------+------------------------+-------------------+-----------------------+-----------------------+--------------------+-----------------------+------------------+-----------------------+-----------------------+----------------------+-----------------------+------------------------+---------------+-----------------------+---------------+-----------------------+--------------------+-----------------------+-----------------------+-----------------------+-------------------+-----------------------+------------------------+------------------------+-----------------------+--------------------+--------------------+----------------------+----------------------+--------------------------+------------------+----------------+----------------------+-----------------------+-----------------------+----------------------+---------------------+----------------------+-----------------------+--------------------+--------------------+--------------------+----------+\n",
      "|    ID|CR_PROD_CNT_IL|AMOUNT_RUB_CLO_PRC|PRC_ACCEPTS_A_EMAIL_LINK|APP_REGISTR_RGN_CODE|PRC_ACCEPTS_A_POS|PRC_ACCEPTS_A_TK|TURNOVER_DYNAMIC_IL_1M|CNT_TRAN_AUT_TENDENCY1M|SUM_TRAN_AUT_TENDENCY1M| AMOUNT_RUB_SUP_PRC|PRC_ACCEPTS_A_AMOBILE|SUM_TRAN_AUT_TENDENCY3M|PRC_ACCEPTS_TK|PRC_ACCEPTS_A_MTP|REST_DYNAMIC_FDEP_1M|CNT_TRAN_AUT_TENDENCY3M|CNT_ACCEPTS_TK|REST_DYNAMIC_SAVE_3M|CR_PROD_CNT_VCU|      REST_AVG_CUR|CNT_TRAN_MED_TENDENCY1M| AMOUNT_RUB_NAS_PRC|TRANS_COUNT_SUP_PRC|CNT_TRAN_CLO_TENDENCY1M|SUM_TRAN_MED_TENDENCY1M|PRC_ACCEPTS_A_ATM|PRC_ACCEPTS_MTP|TRANS_COUNT_NAS_PRC|CNT_ACCEPTS_MTP|CR_PROD_CNT_TOVR|CR_PROD_CNT_PIL|SUM_TRAN_CLO_TENDENCY1M|TURNOVER_CC|TRANS_COUNT_ATM_PRC|AMOUNT_RUB_ATM_PRC|TURNOVER_PAYM|AGE|CNT_TRAN_MED_TENDENCY3M|CR_PROD_CNT_CC|SUM_TRAN_MED_TENDENCY3M|REST_DYNAMIC_FDEP_3M|REST_DYNAMIC_IL_1M|SUM_TRAN_CLO_TENDENCY3M|CR_PROD_CNT_CCFP|CNT_TRAN_CLO_TENDENCY3M|REST_DYNAMIC_CUR_1M|     REST_AVG_PAYM|LDEAL_GRACE_DAYS_PCT_MED|REST_DYNAMIC_CUR_3M|CNT_TRAN_SUP_TENDENCY3M|TURNOVER_DYNAMIC_CUR_1M|REST_DYNAMIC_PAYM_3M|SUM_TRAN_SUP_TENDENCY3M|REST_DYNAMIC_IL_3M|CNT_TRAN_ATM_TENDENCY3M|CNT_TRAN_ATM_TENDENCY1M|TURNOVER_DYNAMIC_IL_3M|SUM_TRAN_ATM_TENDENCY3M|DEAL_GRACE_DAYS_ACC_S1X1|DEAL_YWZ_IR_MIN|SUM_TRAN_SUP_TENDENCY1M|DEAL_YWZ_IR_MAX|SUM_TRAN_ATM_TENDENCY1M|REST_DYNAMIC_PAYM_1M|CNT_TRAN_SUP_TENDENCY1M|DEAL_GRACE_DAYS_ACC_AVG|TURNOVER_DYNAMIC_CUR_3M|   CLNT_SETUP_TENOR|DEAL_GRACE_DAYS_ACC_MAX|TURNOVER_DYNAMIC_PAYM_3M|TURNOVER_DYNAMIC_PAYM_1M|TRANS_AMOUNT_TENDENCY3M|TRANS_CNT_TENDENCY3M|  REST_DYNAMIC_CC_1M|LDEAL_USED_AMT_AVG_YWZ|TURNOVER_DYNAMIC_CC_1M|LDEAL_ACT_DAYS_ACC_PCT_AVG|REST_DYNAMIC_CC_3M|MED_DEBT_PRC_YWZ|LDEAL_ACT_DAYS_PCT_TR3|LDEAL_ACT_DAYS_PCT_AAVG|LDEAL_DELINQ_PER_MAXYWZ|TURNOVER_DYNAMIC_CC_3M|LDEAL_ACT_DAYS_PCT_TR|LDEAL_ACT_DAYS_PCT_TR4|LDEAL_ACT_DAYS_PCT_CURR|            features|       rawPrediction|         probability|prediction|\n",
      "+------+--------------+------------------+------------------------+--------------------+-----------------+----------------+----------------------+-----------------------+-----------------------+-------------------+---------------------+-----------------------+--------------+-----------------+--------------------+-----------------------+--------------+--------------------+---------------+------------------+-----------------------+-------------------+-------------------+-----------------------+-----------------------+-----------------+---------------+-------------------+---------------+----------------+---------------+-----------------------+-----------+-------------------+------------------+-------------+---+-----------------------+--------------+-----------------------+--------------------+------------------+-----------------------+----------------+-----------------------+-------------------+------------------+------------------------+-------------------+-----------------------+-----------------------+--------------------+-----------------------+------------------+-----------------------+-----------------------+----------------------+-----------------------+------------------------+---------------+-----------------------+---------------+-----------------------+--------------------+-----------------------+-----------------------+-----------------------+-------------------+-----------------------+------------------------+------------------------+-----------------------+--------------------+--------------------+----------------------+----------------------+--------------------------+------------------+----------------+----------------------+-----------------------+-----------------------+----------------------+---------------------+----------------------+-----------------------+--------------------+--------------------+--------------------+----------+\n",
      "|519130|             0|               0.0|            9.99999999E8|        9.99999999E8|     9.99999999E8|    9.99999999E8|                   0.0|           9.99999999E8|           9.99999999E8|                0.0|         9.99999999E8|           9.99999999E8|  9.99999999E8|     9.99999999E8|                 0.0|           9.99999999E8|  9.99999999E8|                 1.0|              0|        13916.8191|           9.99999999E8|                0.0|                0.0|           9.99999999E8|           9.99999999E8|     9.99999999E8|   9.99999999E8|                0.0|   9.99999999E8|               0|              0|           9.99999999E8|        0.0|                1.0|               1.0|          0.0|240|           9.99999999E8|             0|           9.99999999E8|                 0.0|               0.0|           9.99999999E8|               0|           9.99999999E8|  0.479789155507046|               0.0|                     0.0|                1.0|           9.99999999E8|     0.6401123866394111|                 0.0|           9.99999999E8|               0.0|                    1.0|           9.99999999E8|                   0.0|                    1.0|            9.99999999E8|   9.99999999E8|           9.99999999E8|   9.99999999E8|           9.99999999E8|                 0.0|           9.99999999E8|           9.99999999E8|                    1.0| 0.5713989073078449|           9.99999999E8|                     0.0|                     0.0|                    1.0|                 1.0|                 0.0|          9.99999999E8|                   0.0|              9.99999999E8|               0.0|    9.99999999E8|          9.99999999E8|           9.99999999E8|           9.99999999E8|                   0.0|         9.99999999E8|          9.99999999E8|           9.99999999E8|[0.0,0.0,9.999999...|[0.92235574229233...|[0.86350497413403...|       0.0|\n",
      "|234045|             0| 0.013321948059629|                     0.0|        9.99999999E8|              0.0|             0.0|                   0.0|           9.99999999E8|           9.99999999E8| 0.0478574733930613|                  0.0|           9.99999999E8|           0.0|              0.0|                 0.0|           9.99999999E8|           0.0|                 0.0|              0|  86440.6242333333|           9.99999999E8| 0.0120611635420596|0.10958904109588999|                    1.0|           9.99999999E8|              0.0|            0.0|0.19178082191780801|            0.0|               0|              0|                    1.0|        0.0|  0.136986301369863|0.6076402824928411|          0.0|348|           9.99999999E8|             0|           9.99999999E8|                 0.0|               0.0|                    1.0|               0|                    1.0| 0.0755606007930854|               0.0|                     0.0|  0.330424066847332|                  0.625|      0.147249149470836|                 0.0|      0.175095002335992|               0.0|                    0.5|                    0.2|                   0.0|      0.616595489809007|            9.99999999E8|   9.99999999E8|     0.0325201930944116|   9.99999999E8|     0.0514841714515509|                 0.0|                   0.25|           9.99999999E8|      0.556152068739451| 3.2811949298088394|           9.99999999E8|                     0.0|                     0.0|      0.522862522493378|   0.547945205479452|                 0.0|          9.99999999E8|                   0.0|              9.99999999E8|               0.0|    9.99999999E8|          9.99999999E8|           9.99999999E8|           9.99999999E8|                   0.0|         9.99999999E8|          9.99999999E8|           9.99999999E8|(86,[1,3,7,8,9,11...|[1.46525335443984...|[0.94933405276288...|       0.0|\n",
      "|401256|             0|0.0118704651316098|                     0.0|        9.99999999E8|              0.0|             0.0|                   0.0|      0.666666666666667|     0.6701369302579301| 0.0148131831725046|                  0.0|                    1.0|           0.0|              0.0|                 0.0|                    1.0|           0.0|                 0.0|              0|  84684.8290333333|           9.99999999E8| 0.0131523914668913|0.23076923076923103|           9.99999999E8|           9.99999999E8|              0.0|            0.0| 0.0769230769230769|            0.0|               0|              0|           9.99999999E8|        0.0|0.23076923076923103| 0.943369466752821|          0.0|516|           9.99999999E8|             0|           9.99999999E8|                 0.0|               0.0|                    1.0|               0|                    1.0| 0.4765644843830039|               0.0|                     0.0|  0.758665634290228|                    1.0|    0.10152649175721999|                 0.0|                    1.0|               0.0|      0.666666666666667|           9.99999999E8|                   0.0|      0.659952916557677|            9.99999999E8|   9.99999999E8|    0.00857899379230672|   9.99999999E8|           9.99999999E8|                 0.0|      0.166666666666667|           9.99999999E8|     0.7416685813151559|   3.43441298909797|           9.99999999E8|                     0.0|                     0.0|      0.679209964222164|   0.923076923076923|                 0.0|          9.99999999E8|                   0.0|              9.99999999E8|               0.0|    9.99999999E8|          9.99999999E8|           9.99999999E8|           9.99999999E8|                   0.0|         9.99999999E8|          9.99999999E8|           9.99999999E8|(86,[1,3,7,8,9,11...|[1.49529661330536...|[0.95214734645295...|       0.0|\n",
      "|551070|             0|               0.0|            9.99999999E8|        9.99999999E8|     9.99999999E8|    9.99999999E8|                   0.0|           9.99999999E8|           9.99999999E8|                0.0|         9.99999999E8|           9.99999999E8|  9.99999999E8|     9.99999999E8|                 0.0|           9.99999999E8|  9.99999999E8|                 0.0|              0|               0.0|           9.99999999E8|                0.0|                0.0|           9.99999999E8|           9.99999999E8|     9.99999999E8|   9.99999999E8|                0.0|   9.99999999E8|               0|              0|           9.99999999E8|        0.0| 0.0206185567010309|0.5275837954747561|    74253.725|348|           9.99999999E8|             0|           9.99999999E8|                 0.0|               0.0|           9.99999999E8|               0|           9.99999999E8|                0.0|122612.55028333301|                     0.0|                0.0|           9.99999999E8|                    0.0|   0.589685099387645|           9.99999999E8|               0.0|                    1.0|                    0.5|                   0.0|                    1.0|            9.99999999E8|   9.99999999E8|           9.99999999E8|   9.99999999E8|                    0.5|   0.217298114168837|           9.99999999E8|           9.99999999E8|                    0.0|   6.86172148795301|           9.99999999E8|       0.653115494654757|     0.24899848458781002|     0.7199279215018621|  0.5360824742268039|                 0.0|          9.99999999E8|                   0.0|              9.99999999E8|               0.0|    9.99999999E8|          9.99999999E8|           9.99999999E8|           9.99999999E8|                   0.0|         9.99999999E8|          9.99999999E8|           9.99999999E8|[0.0,0.0,9.999999...|[1.18644407432960...|[0.91473638803203...|       0.0|\n",
      "|367285|             0|      9.99999999E8|            9.99999999E8|        9.99999999E8|     9.99999999E8|    9.99999999E8|                   0.0|           9.99999999E8|           9.99999999E8|       9.99999999E8|         9.99999999E8|           9.99999999E8|  9.99999999E8|     9.99999999E8|                 0.0|           9.99999999E8|  9.99999999E8|                 0.0|              0|        14842.4379|           9.99999999E8|       9.99999999E8|       9.99999999E8|           9.99999999E8|           9.99999999E8|     9.99999999E8|   9.99999999E8|       9.99999999E8|   9.99999999E8|               0|              0|           9.99999999E8|        0.0|       9.99999999E8|      9.99999999E8|          0.0|576|           9.99999999E8|             0|           9.99999999E8|                 0.0|               0.0|           9.99999999E8|               0|           9.99999999E8|0.14615075128594598|               0.0|                     0.0|0.47315038454700203|           9.99999999E8|                    0.0|                 0.0|           9.99999999E8|               0.0|           9.99999999E8|           9.99999999E8|                   0.0|           9.99999999E8|            9.99999999E8|   9.99999999E8|           9.99999999E8|   9.99999999E8|           9.99999999E8|                 0.0|           9.99999999E8|           9.99999999E8|                    0.0|   3.17903664501195|           9.99999999E8|                     0.0|                     0.0|           9.99999999E8|        9.99999999E8|                 0.0|          9.99999999E8|                   0.0|              9.99999999E8|               0.0|    9.99999999E8|          9.99999999E8|           9.99999999E8|           9.99999999E8|                   0.0|         9.99999999E8|          9.99999999E8|           9.99999999E8|[0.0,9.99999999E8...|[1.46894450464507...|[0.94968795780634...|       0.0|\n",
      "|497998|             0|               0.0|                     0.0|        9.99999999E8|              0.0|             0.0|                   0.0|           9.99999999E8|           9.99999999E8| 0.0139231866860492|                  0.0|           9.99999999E8|           0.0|              0.0|                 0.0|           9.99999999E8|           0.0|                 0.0|              0|  23569.1581166667|           9.99999999E8| 0.0650838898480304| 0.0526315789473684|           9.99999999E8|           9.99999999E8|              0.0|            0.0|0.21052631578947398|            0.0|               1|              0|           9.99999999E8|        0.0|  0.315789473684211|0.8778445033460529|          0.0|312|           9.99999999E8|             0|           9.99999999E8|                 0.0|               0.0|           9.99999999E8|               0|           9.99999999E8|0.24645139725599602|               0.0|                     0.0|0.47868980204919503|                    1.0|      0.147518492175478|                 0.0|                    1.0|               0.0|                    0.5|                    0.5|                   0.0|     0.0485530180993028|                     0.0|           45.0|                    1.0|           45.0|     0.0485530180993028|                 0.0|                    1.0|                    0.0|    0.17369315793426401|   3.07139890730785|                    0.0|                     0.0|                     0.0|    0.10177920504168801|   0.526315789473684|                 0.0|                   1.0|                   0.0|        0.0387858347386172|               0.0|             0.0|                   0.0|                    0.0|                    0.0|                   0.0|                  0.0|                   0.0|                    0.0|(86,[3,7,8,9,11,1...|[1.43544224400340...|[0.94638824245832...|       0.0|\n",
      "|413082|             0|               0.0|                     0.0|        9.99999999E8|              0.0|             0.0|                   0.0|           9.99999999E8|           9.99999999E8| 0.0010443759534715|                  0.0|           9.99999999E8|           0.0|              0.0|                 0.0|           9.99999999E8|           0.0|                 0.0|              0|  7901.15368333333|           9.99999999E8|1.45811651444538E-4|                0.1|           9.99999999E8|           9.99999999E8|              0.0|            0.0|               0.05|            0.0|               0|              0|           9.99999999E8|        0.0|               0.85| 0.998809812395084|          0.0|300|           9.99999999E8|             0|           9.99999999E8|                 0.0|               0.0|           9.99999999E8|               0|           9.99999999E8| 0.0773487760345445|               0.0|                     0.0|  0.410013695025352|           9.99999999E8|      0.118012929495626|                 0.0|           9.99999999E8|               0.0|      0.529411764705882|    0.23529411764705901|                   0.0|      0.408759124087591|            9.99999999E8|   9.99999999E8|           9.99999999E8|   9.99999999E8|      0.182481751824818|                 0.0|           9.99999999E8|           9.99999999E8|     0.5094110021732839|   3.92903664501195|           9.99999999E8|                     0.0|                     0.0|       0.40841843569615|                 0.5|                 0.0|          9.99999999E8|                   0.0|              9.99999999E8|               0.0|    9.99999999E8|          9.99999999E8|           9.99999999E8|           9.99999999E8|                   0.0|         9.99999999E8|          9.99999999E8|           9.99999999E8|(86,[3,7,8,9,11,1...|[1.09646608352165...|[0.89961301923572...|       0.0|\n",
      "|349893|             0|      9.99999999E8|            9.99999999E8|        9.99999999E8|     9.99999999E8|    9.99999999E8|                   0.0|           9.99999999E8|           9.99999999E8|       9.99999999E8|         9.99999999E8|           9.99999999E8|  9.99999999E8|     9.99999999E8|                 0.0|           9.99999999E8|  9.99999999E8|                 0.0|              0|          14943.58|           9.99999999E8|       9.99999999E8|       9.99999999E8|           9.99999999E8|           9.99999999E8|     9.99999999E8|   9.99999999E8|       9.99999999E8|   9.99999999E8|               1|              0|           9.99999999E8|        0.0|       9.99999999E8|      9.99999999E8|          0.0|408|           9.99999999E8|             0|           9.99999999E8|                 0.0|               0.0|           9.99999999E8|               0|           9.99999999E8|  0.166666666666667|               0.0|                     0.0|                0.5|           9.99999999E8|                    0.0|                 0.0|           9.99999999E8|               0.0|           9.99999999E8|           9.99999999E8|                   0.0|           9.99999999E8|                     0.0|           45.0|           9.99999999E8|           45.0|           9.99999999E8|                 0.0|           9.99999999E8|                    0.0|                    0.0|   9.90215492458184|                    0.0|                     0.0|                     0.0|           9.99999999E8|        9.99999999E8|                 0.0|                   1.0|                   0.0|       0.00107411385606874|               0.0|             0.0|                   0.0|                    0.0|                    0.0|                   0.0|                  0.0|                   0.0|                    0.0|(86,[1,2,3,4,5,7,...|[1.48224766763819...|[0.95094412420594...|       0.0|\n",
      "|346337|             0|0.0084138582978582|                     0.0|                77.0|              0.0|             0.0|                   0.0|                    0.4|      0.154890866032219| 0.0464709936154753|                  0.0|      0.612587532687041|           0.0|              0.0|                 0.0|                    0.6|           0.0| 0.49875406799681604|              0|140093.16241666698|           9.99999999E8|0.00832287607185578|0.11612903225806501|           9.99999999E8|           9.99999999E8|              0.0|            0.0|  0.032258064516129|            0.0|               2|              0|           9.99999999E8|        0.0| 0.4580645161290321| 0.764566777436499|          0.0|468|           9.99999999E8|             1|           9.99999999E8|                 0.0|               0.0|           9.99999999E8|               0|           9.99999999E8|0.00553444486482013|               0.0|                     0.0|0.17202888480967599|      0.222222222222222|       0.01136732741815|                 0.0|    0.23510773137990804|               0.0|      0.338028169014085|   0.028169014084507005|                   0.0|      0.321851299320003|                     0.0|            0.0|    0.00205069835424831|           45.0|    0.00526842360024421|                 0.0|     0.0555555555555556|                    0.0|      0.130187704063221| 12.028499010603301|                    0.0|                     0.0|                     0.0|      0.300050279990455|   0.283870967741935|                 0.0|                   1.0|                   0.0|       0.00191921835470645|               0.0|             0.0|                   0.0|                    0.0|                    0.0|                   0.0|                  0.0|                   0.0|                    0.0|(86,[1,3,7,8,9,11...|[0.90305720202462...|[0.85889160880003...|       0.0|\n",
      "|289979|             0|      9.99999999E8|            9.99999999E8|        9.99999999E8|     9.99999999E8|    9.99999999E8|                   0.0|           9.99999999E8|           9.99999999E8|       9.99999999E8|         9.99999999E8|           9.99999999E8|  9.99999999E8|     9.99999999E8|                 0.0|           9.99999999E8|  9.99999999E8|                 0.0|              0|       142706.9385|           9.99999999E8|       9.99999999E8|       9.99999999E8|           9.99999999E8|           9.99999999E8|     9.99999999E8|   9.99999999E8|       9.99999999E8|   9.99999999E8|               0|              0|           9.99999999E8|        0.0|       9.99999999E8|      9.99999999E8|          0.0|360|           9.99999999E8|             0|           9.99999999E8|                 0.0|               0.0|           9.99999999E8|               0|           9.99999999E8|0.16864515198981303|               0.0|                     0.0|  0.506415126993516|           9.99999999E8|                    0.0|                 0.0|           9.99999999E8|               0.0|           9.99999999E8|           9.99999999E8|                   0.0|           9.99999999E8|            9.99999999E8|   9.99999999E8|           9.99999999E8|   9.99999999E8|           9.99999999E8|                 0.0|           9.99999999E8|           9.99999999E8|    0.00321338826085001|   0.95592611260454|           9.99999999E8|                     0.0|                     0.0|           9.99999999E8|        9.99999999E8|                 0.0|          9.99999999E8|                   0.0|              9.99999999E8|               0.0|    9.99999999E8|          9.99999999E8|           9.99999999E8|           9.99999999E8|                   0.0|         9.99999999E8|          9.99999999E8|           9.99999999E8|[0.0,9.99999999E8...|[1.47726131351692...|[0.95047680566040...|       0.0|\n",
      "|510818|             0|               0.0|            9.99999999E8|        9.99999999E8|     9.99999999E8|    9.99999999E8|                   0.0|           9.99999999E8|           9.99999999E8|                0.0|         9.99999999E8|           9.99999999E8|  9.99999999E8|     9.99999999E8|                 0.0|           9.99999999E8|  9.99999999E8|                 0.0|              0|1833.4679999999998|           9.99999999E8|                0.0|                0.0|           9.99999999E8|           9.99999999E8|     9.99999999E8|   9.99999999E8|                0.0|   9.99999999E8|               0|              0|           9.99999999E8|        0.0| 0.8888888888888891|0.9891944990176821|          0.0|228|           9.99999999E8|             0|           9.99999999E8|                 0.0|               0.0|           9.99999999E8|               0|           9.99999999E8|  0.119391230171456|               0.0|                     0.0| 0.9780995086906341|           9.99999999E8|    0.00119861019449513|                 0.0|           9.99999999E8|               0.0|                  0.875|           9.99999999E8|                   0.0|     0.9920556107249259|            9.99999999E8|   9.99999999E8|           9.99999999E8|   9.99999999E8|           9.99999999E8|                 0.0|           9.99999999E8|           9.99999999E8|     0.9908333009821808|  0.625162348168061|           9.99999999E8|                     0.0|                     0.0|     0.9921414538310409|  0.8888888888888891|                 0.0|          9.99999999E8|                   0.0|              9.99999999E8|               0.0|    9.99999999E8|          9.99999999E8|           9.99999999E8|           9.99999999E8|                   0.0|         9.99999999E8|          9.99999999E8|           9.99999999E8|(86,[2,3,4,5,7,8,...|[0.65674655907001...|[0.78809709388858...|       0.0|\n",
      "|235935|             0|               0.0|            9.99999999E8|        9.99999999E8|     9.99999999E8|    9.99999999E8|                   0.0|           9.99999999E8|           9.99999999E8|                0.0|         9.99999999E8|                    1.0|  9.99999999E8|     9.99999999E8|                 0.0|                    1.0|  9.99999999E8|                 0.0|              0|       57457.87275|           9.99999999E8|                0.0|                0.0|           9.99999999E8|           9.99999999E8|     9.99999999E8|   9.99999999E8|                0.0|   9.99999999E8|               0|              0|           9.99999999E8|        0.0|  0.941176470588235| 0.999924868433321|          0.0|468|           9.99999999E8|             0|           9.99999999E8|                 0.0|               0.0|           9.99999999E8|               0|           9.99999999E8|  0.458411506367506|               0.0|                     0.0|  0.835669879546663|           9.99999999E8|    0.34518541193976393|                 0.0|           9.99999999E8|               0.0|                 0.8125|                  0.375|                   0.0|     0.8568605927552141|            9.99999999E8|   9.99999999E8|           9.99999999E8|   9.99999999E8|     0.3991218441273329|                 0.0|           9.99999999E8|           9.99999999E8|     0.8564836339593691| 2.0123777255077697|           9.99999999E8|                     0.0|                     0.0|      0.856871347043134|   0.823529411764706|                 0.0|          9.99999999E8|                   0.0|              9.99999999E8|               0.0|    9.99999999E8|          9.99999999E8|           9.99999999E8|           9.99999999E8|                   0.0|         9.99999999E8|          9.99999999E8|           9.99999999E8|(86,[2,3,4,5,7,8,...|[1.31273412380595...|[0.93248279506012...|       0.0|\n",
      "|532135|             0|               0.0|            9.99999999E8|        9.99999999E8|     9.99999999E8|    9.99999999E8|                   0.0|           9.99999999E8|           9.99999999E8|                0.0|         9.99999999E8|           9.99999999E8|  9.99999999E8|     9.99999999E8|                 0.0|           9.99999999E8|  9.99999999E8|                 0.0|              0|             371.5|           9.99999999E8|                0.0|                0.0|           9.99999999E8|           9.99999999E8|     9.99999999E8|   9.99999999E8|                0.0|   9.99999999E8|               0|              0|           9.99999999E8|        0.0|                0.0|               0.0|          0.0|348|           9.99999999E8|             0|           9.99999999E8|                 0.0|               0.0|           9.99999999E8|               0|           9.99999999E8|                1.0|               0.0|                     0.0|                1.0|           9.99999999E8|                    1.0|                 0.0|           9.99999999E8|               0.0|           9.99999999E8|           9.99999999E8|                   0.0|           9.99999999E8|            9.99999999E8|   9.99999999E8|           9.99999999E8|   9.99999999E8|           9.99999999E8|                 0.0|           9.99999999E8|           9.99999999E8|                    1.0|0.36709783203902796|           9.99999999E8|                     0.0|                     0.0|                    1.0|                 1.0|                 0.0|          9.99999999E8|                   0.0|              9.99999999E8|               0.0|    9.99999999E8|          9.99999999E8|           9.99999999E8|           9.99999999E8|                   0.0|         9.99999999E8|          9.99999999E8|           9.99999999E8|(86,[2,3,4,5,7,8,...|[0.57023806991310...|[0.75776704812289...|       0.0|\n",
      "|564760|             0| 0.244405903704293|                     0.0|        9.99999999E8|              0.0|             0.0|                   0.0|           9.99999999E8|           9.99999999E8|0.00622306644313746|                  0.0|                    1.0|           0.0|              0.0|                 0.0|                    1.0|           0.0|                 0.0|              0|  84094.4040333333|           9.99999999E8| 0.0203360243254693| 0.0793650793650794|                    0.1|           9.99999999E8|              0.0|            0.0| 0.0793650793650794|            0.0|               0|              0|      0.120045859587637|        0.0| 0.0476190476190476| 0.174655922138086|          0.0|288|                    1.0|             0|                    1.0|                 0.0|               0.0|      0.470403788076507|               0|                    0.3| 0.0647007512474906|               0.0|                     0.0|  0.436998884041084|                    0.6|    0.22231212276471898|                 0.0|      0.528981086028066|               0.0|      0.666666666666667|           9.99999999E8|                   0.0|     0.4782608695652171|            9.99999999E8|   9.99999999E8|    0.21720561317876802|   9.99999999E8|           9.99999999E8|                 0.0|                    0.2|           9.99999999E8|      0.515505640864969|   3.60634514386699|           9.99999999E8|                     0.0|                     0.0|     0.7143197125254649|   0.555555555555556|                 0.0|          9.99999999E8|                   0.0|              9.99999999E8|               0.0|    9.99999999E8|          9.99999999E8|           9.99999999E8|           9.99999999E8|                   0.0|         9.99999999E8|          9.99999999E8|           9.99999999E8|(86,[1,3,7,8,9,11...|[1.44205529026357...|[0.94705535348715...|       0.0|\n",
      "|277391|             1|               0.0|            9.99999999E8|                25.0|     9.99999999E8|    9.99999999E8|                   0.0|           9.99999999E8|           9.99999999E8|                0.0|         9.99999999E8|           9.99999999E8|  9.99999999E8|     9.99999999E8|                 0.0|           9.99999999E8|  9.99999999E8|                 0.0|              0|  7868.37141666667|           9.99999999E8|                0.0|                0.0|           9.99999999E8|           9.99999999E8|     9.99999999E8|   9.99999999E8|                0.0|   9.99999999E8|               0|              0|           9.99999999E8|        0.0|                1.0|               1.0|          0.0|300|           9.99999999E8|             0|           9.99999999E8|                 0.0|               0.0|           9.99999999E8|               0|           9.99999999E8| 0.7865061127590179|               0.0|                     0.0|                1.0|           9.99999999E8|      0.805708665336662|                 0.0|           9.99999999E8|               0.0|                    1.0|                    0.8|                   0.0|                    1.0|            9.99999999E8|   9.99999999E8|           9.99999999E8|   9.99999999E8|      0.824337328936754|                 0.0|           9.99999999E8|           9.99999999E8|                    1.0|   3.70054976851852|           9.99999999E8|                     0.0|                     0.0|                    1.0|                 1.0|                 0.0|          9.99999999E8|                   0.0|              9.99999999E8|               0.0|    9.99999999E8|          9.99999999E8|           9.99999999E8|           9.99999999E8|                   0.0|         9.99999999E8|          9.99999999E8|           9.99999999E8|[1.0,0.0,9.999999...|[0.80901024548922...|[0.83452195036862...|       0.0|\n",
      "|336830|             0|               0.0|            9.99999999E8|        9.99999999E8|     9.99999999E8|    9.99999999E8|                   0.0|           9.99999999E8|           9.99999999E8|                0.0|         9.99999999E8|           9.99999999E8|  9.99999999E8|     9.99999999E8|                 0.0|           9.99999999E8|  9.99999999E8|                 0.0|              0|  295.631933333333|                    1.0|                0.0|                0.0|           9.99999999E8|                    1.0|     9.99999999E8|   9.99999999E8|                0.0|   9.99999999E8|               0|              0|           9.99999999E8|        0.0|                0.5| 0.122579063495955|          0.0|612|                    1.0|             0|                    1.0|                 0.0|               0.0|           9.99999999E8|               0|           9.99999999E8| 0.9694447194360369|               0.0|                     0.0|                1.0|           9.99999999E8|     0.9902581838382171|                 0.0|           9.99999999E8|               0.0|                    1.0|                    1.0|                   0.0|                    1.0|            9.99999999E8|   9.99999999E8|           9.99999999E8|   9.99999999E8|                    1.0|                 0.0|           9.99999999E8|           9.99999999E8|                    1.0| 3.9854882579151703|           9.99999999E8|                     0.0|                     0.0|                    1.0|                 1.0|                 0.0|          9.99999999E8|                   0.0|              9.99999999E8|               0.0|    9.99999999E8|          9.99999999E8|           9.99999999E8|           9.99999999E8|                   0.0|         9.99999999E8|          9.99999999E8|           9.99999999E8|(86,[2,3,4,5,7,8,...|[0.32979640424021...|[0.65916891259390...|       0.0|\n",
      "|356053|             0|               0.0|            9.99999999E8|                50.0|     9.99999999E8|    9.99999999E8|                   0.0|           9.99999999E8|           9.99999999E8|                0.0|         9.99999999E8|           9.99999999E8|  9.99999999E8|     9.99999999E8|                 0.0|           9.99999999E8|  9.99999999E8|                 0.0|              0|      271215.08395|           9.99999999E8|                0.0|                0.0|           9.99999999E8|           9.99999999E8|     9.99999999E8|   9.99999999E8|                0.0|   9.99999999E8|               1|              1|           9.99999999E8|        0.0|                0.0|               0.0|          0.0|552|           9.99999999E8|             0|           9.99999999E8|                 0.0|               0.0|           9.99999999E8|               0|           9.99999999E8|  0.155692723655633|               0.0|                     0.0|  0.479352347737786|           9.99999999E8|      0.114019560849164|                 0.0|           9.99999999E8|               0.0|           9.99999999E8|           9.99999999E8|                   0.0|           9.99999999E8|            9.99999999E8|           45.0|           9.99999999E8|           45.0|           9.99999999E8|                 0.0|           9.99999999E8|           9.99999999E8|       0.62041205356115|   11.8994667525388|           9.99999999E8|                     0.0|                     0.0|           9.99999999E8|        9.99999999E8|                 0.0|                   1.0|                   0.0|                       0.0|               0.0|             0.0|                   0.0|                    0.0|                    0.0|                   0.0|                  0.0|                   0.0|                    0.0|(86,[2,3,4,5,7,8,...|[1.46330555532579...|[0.94914635041661...|       0.0|\n",
      "|293302|             0|               0.0|            9.99999999E8|        9.99999999E8|     9.99999999E8|    9.99999999E8|                   0.0|           9.99999999E8|           9.99999999E8|                0.0|         9.99999999E8|           9.99999999E8|  9.99999999E8|     9.99999999E8|                 0.0|           9.99999999E8|  9.99999999E8|                 0.0|              0|  48913.4917666667|           9.99999999E8|                0.0|                0.0|           9.99999999E8|           9.99999999E8|     9.99999999E8|   9.99999999E8|                0.0|   9.99999999E8|               0|              0|           9.99999999E8|        0.0|                1.0|               1.0|          0.0|492|           9.99999999E8|             0|           9.99999999E8|                 0.0|               0.0|           9.99999999E8|               0|           9.99999999E8|0.19788439379547199|               0.0|                     0.0| 0.5688014764117371|           9.99999999E8|      0.168316844028004|                 0.0|           9.99999999E8|               0.0|      0.657894736842105|    0.21052631578947398|                   0.0|     0.6047831374138629|            9.99999999E8|   9.99999999E8|           9.99999999E8|   9.99999999E8|    0.16831405319447498|                 0.0|           9.99999999E8|           9.99999999E8|      0.604720180540749|  0.902162671744325|           9.99999999E8|                     0.0|                     0.0|     0.6047831374138629|   0.657894736842105|                 0.0|          9.99999999E8|                   0.0|              9.99999999E8|               0.0|    9.99999999E8|          9.99999999E8|           9.99999999E8|           9.99999999E8|                   0.0|         9.99999999E8|          9.99999999E8|           9.99999999E8|(86,[2,3,4,5,7,8,...|[1.20483622479944...|[0.91756190867599...|       0.0|\n",
      "|322368|             1|0.0399466688304611|                     0.0|                61.0|              0.0|             0.0|                   0.0|    0.29166666666666696|    0.21202217673576199|  0.109594201030825|                  0.0|      0.430861517311493|           0.0|              0.0|                 0.0|     0.5416666666666671|           0.0|                 0.0|              0|         31303.575|           9.99999999E8| 0.0448517620851918|0.32799999999999996|                 0.1875|           9.99999999E8|              0.0|            0.0|              0.096|            0.0|               0|              0|    0.22323058467636803|        0.0|              0.168| 0.646448749986315|          0.0|336|      0.482758620689655|             0|      0.464265237534267|                 0.0|               0.0|      0.272983314604344|               0|                   0.25|0.18644421550360699|               0.0|                     0.0|  0.379620378290126|      0.463414634146341|      0.106732660580534|                 0.0|      0.513236519406424|               0.0|    0.47619047619047605|     0.0952380952380952|                   0.0|      0.170524465279812|            9.99999999E8|   9.99999999E8|      0.184416376275006|   9.99999999E8|     0.0468795780837972|                 0.0|      0.134146341463415|           9.99999999E8|    0.30353495698044797|  5.523122666517321|           9.99999999E8|                     0.0|                     0.0|      0.270884149072862|                0.48|                 0.0|          9.99999999E8|                   0.0|              9.99999999E8|               0.0|    9.99999999E8|          9.99999999E8|           9.99999999E8|           9.99999999E8|                   0.0|         9.99999999E8|          9.99999999E8|           9.99999999E8|(86,[0,1,3,7,8,9,...|[1.46527878820777...|[0.94933649937994...|       0.0|\n",
      "|406041|             0|               0.0|                     0.0|        9.99999999E8|              0.0|             0.0|                   0.0|           9.99999999E8|           9.99999999E8|0.05600369522098599|                  0.0|           9.99999999E8|           0.0|              0.0|                 0.0|           9.99999999E8|           0.0|                 0.0|              0|       459162.9537|           9.99999999E8|                0.0|  0.277777777777778|           9.99999999E8|           9.99999999E8|              0.0|            0.0|                0.0|            0.0|               0|              0|           9.99999999E8|     203.44| 0.0555555555555556| 0.159827897320166|          0.0|540|           9.99999999E8|             2|           9.99999999E8|                 0.0|               0.0|           9.99999999E8|               0|           9.99999999E8|  0.146012191517387|               0.0|                     0.0|  0.464059886255294|                    0.6|     0.0114591833674531|                 0.0|      0.672374429223744|               0.0|           9.99999999E8|           9.99999999E8|                   0.0|           9.99999999E8|            9.99999999E8|   9.99999999E8|           9.99999999E8|   9.99999999E8|           9.99999999E8|                 0.0|           9.99999999E8|           9.99999999E8|      0.116138665589146|   3.94785384931302|           9.99999999E8|                     0.0|                     0.0|    0.11066483610448301|   0.277777777777778|0.008739602098964091|          9.99999999E8|                   0.0|              9.99999999E8|0.0288742080102814|    9.99999999E8|          9.99999999E8|           9.99999999E8|           9.99999999E8|   5.24315113383143E-4|         9.99999999E8|          9.99999999E8|           9.99999999E8|(86,[3,7,8,9,11,1...|[1.52624043450135...|[0.95488951194909...|       0.0|\n",
      "+------+--------------+------------------+------------------------+--------------------+-----------------+----------------+----------------------+-----------------------+-----------------------+-------------------+---------------------+-----------------------+--------------+-----------------+--------------------+-----------------------+--------------+--------------------+---------------+------------------+-----------------------+-------------------+-------------------+-----------------------+-----------------------+-----------------+---------------+-------------------+---------------+----------------+---------------+-----------------------+-----------+-------------------+------------------+-------------+---+-----------------------+--------------+-----------------------+--------------------+------------------+-----------------------+----------------+-----------------------+-------------------+------------------+------------------------+-------------------+-----------------------+-----------------------+--------------------+-----------------------+------------------+-----------------------+-----------------------+----------------------+-----------------------+------------------------+---------------+-----------------------+---------------+-----------------------+--------------------+-----------------------+-----------------------+-----------------------+-------------------+-----------------------+------------------------+------------------------+-----------------------+--------------------+--------------------+----------------------+----------------------+--------------------------+------------------+----------------+----------------------+-----------------------+-----------------------+----------------------+---------------------+----------------------+-----------------------+--------------------+--------------------+--------------------+----------+\n",
      "only showing top 20 rows\n",
      "\n"
     ]
    }
   ],
   "source": [
    "predictions.show()"
   ]
  },
  {
   "cell_type": "code",
   "execution_count": 49,
   "metadata": {},
   "outputs": [
    {
     "data": {
      "text/plain": [
       "Name: Unknown Error\n",
       "Message: <console>:1: error: ')' expected but '(' found.\n",
       "val targets = predictions.select(\"probability\").rdd.map(lambda x: float(x[0][1]))\n",
       "                                                                       ^\n",
       "<console>:1: error: ';' expected but ')' found.\n",
       "val targets = predictions.select(\"probability\").rdd.map(lambda x: float(x[0][1]))\n",
       "                                                                                ^\n",
       "\n",
       "StackTrace: "
      ]
     },
     "execution_count": 49,
     "metadata": {},
     "output_type": "execute_result"
    }
   ],
   "source": [
    "val targets = predictions.select(\"probability\").rdd.map(lambda x: float(x[0][1]))"
   ]
  },
  {
   "cell_type": "code",
   "execution_count": 51,
   "metadata": {},
   "outputs": [
    {
     "name": "stdout",
     "output_type": "stream",
     "text": [
      "+------+-----------------------------------------+\n",
      "|    ID|                              probability|\n",
      "+------+-----------------------------------------+\n",
      "|519130| [0.8635049741340373,0.13649502586596274]|\n",
      "|234045| [0.9493340527628867,0.05066594723711326]|\n",
      "|401256| [0.9521473464529552,0.04785265354704482]|\n",
      "|551070| [0.9147363880320399,0.08526361196796006]|\n",
      "|367285| [0.9496879578063451,0.05031204219365493]|\n",
      "|497998| [0.9463882424583281,0.05361175754167191]|\n",
      "|413082|  [0.899613019235722,0.10038698076427799]|\n",
      "|349893|  [0.9509441242059421,0.0490558757940579]|\n",
      "|346337| [0.8588916088000311,0.14110839119996887]|\n",
      "|289979|[0.9504768056604063,0.049523194339593735]|\n",
      "|510818| [0.7880970938885801,0.21190290611141993]|\n",
      "|235935|  [0.932482795060126,0.06751720493987401]|\n",
      "|532135| [0.7577670481228904,0.24223295187710958]|\n",
      "|564760| [0.9470553534871561,0.05294464651284392]|\n",
      "|277391| [0.8345219503686214,0.16547804963137858]|\n",
      "|336830| [0.6591689125939026,0.34083108740609735]|\n",
      "|356053| [0.9491463504166128,0.05085364958338723]|\n",
      "|293302| [0.9175619086759904,0.08243809132400959]|\n",
      "|322368|  [0.9493364993799448,0.0506635006200552]|\n",
      "|406041| [0.9548895119490911,0.04511048805090889]|\n",
      "+------+-----------------------------------------+\n",
      "only showing top 20 rows\n",
      "\n"
     ]
    }
   ],
   "source": [
    "predictions.select(\"ID\", \"probability\").show(20, truncate = 100)"
   ]
  },
  {
   "cell_type": "code",
   "execution_count": 87,
   "metadata": {},
   "outputs": [
    {
     "name": "stdout",
     "output_type": "stream",
     "text": [
      "+------+-----------------------------------------+\n",
      "|    id|                                   target|\n",
      "+------+-----------------------------------------+\n",
      "|519130| [0.8635049741340373,0.13649502586596274]|\n",
      "|234045| [0.9493340527628867,0.05066594723711326]|\n",
      "|401256| [0.9521473464529552,0.04785265354704482]|\n",
      "|551070| [0.9147363880320399,0.08526361196796006]|\n",
      "|367285| [0.9496879578063451,0.05031204219365493]|\n",
      "|497998| [0.9463882424583281,0.05361175754167191]|\n",
      "|413082|  [0.899613019235722,0.10038698076427799]|\n",
      "|349893|  [0.9509441242059421,0.0490558757940579]|\n",
      "|346337| [0.8588916088000311,0.14110839119996887]|\n",
      "|289979|[0.9504768056604063,0.049523194339593735]|\n",
      "|510818| [0.7880970938885801,0.21190290611141993]|\n",
      "|235935|  [0.932482795060126,0.06751720493987401]|\n",
      "|532135| [0.7577670481228904,0.24223295187710958]|\n",
      "|564760| [0.9470553534871561,0.05294464651284392]|\n",
      "|277391| [0.8345219503686214,0.16547804963137858]|\n",
      "|336830| [0.6591689125939026,0.34083108740609735]|\n",
      "|356053| [0.9491463504166128,0.05085364958338723]|\n",
      "|293302| [0.9175619086759904,0.08243809132400959]|\n",
      "|322368|  [0.9493364993799448,0.0506635006200552]|\n",
      "|406041| [0.9548895119490911,0.04511048805090889]|\n",
      "+------+-----------------------------------------+\n",
      "only showing top 20 rows\n",
      "\n"
     ]
    }
   ],
   "source": [
    "predictions.select(col(\"ID\").as(\"id\"), col(\"probability\").as(\"target\")).show(20, truncate = 100)"
   ]
  },
  {
   "cell_type": "code",
   "execution_count": 89,
   "metadata": {},
   "outputs": [
    {
     "data": {
      "text/plain": [
       "ans = [id: int, target: vector]\n"
      ]
     },
     "metadata": {},
     "output_type": "display_data"
    },
    {
     "data": {
      "text/plain": [
       "lastException: Throwable = null\n"
      ]
     },
     "metadata": {},
     "output_type": "display_data"
    },
    {
     "data": {
      "text/plain": [
       "[id: int, target: vector]"
      ]
     },
     "execution_count": 89,
     "metadata": {},
     "output_type": "execute_result"
    }
   ],
   "source": [
    "val ans = predictions.select(col(\"ID\").as(\"id\"), col(\"probability\").as(\"target\"))"
   ]
  },
  {
   "cell_type": "code",
   "execution_count": 90,
   "metadata": {},
   "outputs": [
    {
     "name": "stdout",
     "output_type": "stream",
     "text": [
      "+------+-----------------------------------------+\n",
      "|    id|                                   target|\n",
      "+------+-----------------------------------------+\n",
      "|519130| [0.8635049741340373,0.13649502586596274]|\n",
      "|234045| [0.9493340527628867,0.05066594723711326]|\n",
      "|401256| [0.9521473464529552,0.04785265354704482]|\n",
      "|551070| [0.9147363880320399,0.08526361196796006]|\n",
      "|367285| [0.9496879578063451,0.05031204219365493]|\n",
      "|497998| [0.9463882424583281,0.05361175754167191]|\n",
      "|413082|  [0.899613019235722,0.10038698076427799]|\n",
      "|349893|  [0.9509441242059421,0.0490558757940579]|\n",
      "|346337| [0.8588916088000311,0.14110839119996887]|\n",
      "|289979|[0.9504768056604063,0.049523194339593735]|\n",
      "|510818| [0.7880970938885801,0.21190290611141993]|\n",
      "|235935|  [0.932482795060126,0.06751720493987401]|\n",
      "|532135| [0.7577670481228904,0.24223295187710958]|\n",
      "|564760| [0.9470553534871561,0.05294464651284392]|\n",
      "|277391| [0.8345219503686214,0.16547804963137858]|\n",
      "|336830| [0.6591689125939026,0.34083108740609735]|\n",
      "|356053| [0.9491463504166128,0.05085364958338723]|\n",
      "|293302| [0.9175619086759904,0.08243809132400959]|\n",
      "|322368|  [0.9493364993799448,0.0506635006200552]|\n",
      "|406041| [0.9548895119490911,0.04511048805090889]|\n",
      "+------+-----------------------------------------+\n",
      "only showing top 20 rows\n",
      "\n"
     ]
    }
   ],
   "source": [
    "ans.show(20, truncate = 100)"
   ]
  },
  {
   "cell_type": "code",
   "execution_count": 91,
   "metadata": {},
   "outputs": [
    {
     "data": {
      "text/plain": [
       "44399"
      ]
     },
     "execution_count": 91,
     "metadata": {},
     "output_type": "execute_result"
    }
   ],
   "source": [
    "ans.count"
   ]
  },
  {
   "cell_type": "code",
   "execution_count": 99,
   "metadata": {},
   "outputs": [],
   "source": [
    "import org.apache.spark.sql.types.{StringType, StructType}"
   ]
  },
  {
   "cell_type": "code",
   "execution_count": 115,
   "metadata": {},
   "outputs": [
    {
     "data": {
      "text/plain": [
       "ans2 = [id: int, target: string]\n"
      ]
     },
     "metadata": {},
     "output_type": "display_data"
    },
    {
     "data": {
      "text/plain": [
       "[id: int, target: string]"
      ]
     },
     "execution_count": 115,
     "metadata": {},
     "output_type": "execute_result"
    }
   ],
   "source": [
    "val ans2 = ans.withColumn(\"target\", col(\"target\").cast(StringType))"
   ]
  },
  {
   "cell_type": "code",
   "execution_count": 116,
   "metadata": {},
   "outputs": [
    {
     "data": {
      "text/plain": [
       "ans3 = [id: int, target: string]\n"
      ]
     },
     "metadata": {},
     "output_type": "display_data"
    },
    {
     "data": {
      "text/plain": [
       "[id: int, target: string]"
      ]
     },
     "execution_count": 116,
     "metadata": {},
     "output_type": "execute_result"
    }
   ],
   "source": [
    "val ans3 = ans2.withColumn(\"target\", split(col(\"target\"),\",\").getItem(1))"
   ]
  },
  {
   "cell_type": "code",
   "execution_count": 121,
   "metadata": {},
   "outputs": [
    {
     "data": {
      "text/plain": [
       "lastException: Throwable = null\n"
      ]
     },
     "metadata": {},
     "output_type": "display_data"
    }
   ],
   "source": [
    "ans3.orderBy(\"id\").coalesce(1).write.mode(\"overwrite\").format(\"csv\").option(\"delimiter\", \"\\t\").option(\"header\", \"True\").save(\"lab05.csv\")"
   ]
  },
  {
   "cell_type": "code",
   "execution_count": 124,
   "metadata": {},
   "outputs": [],
   "source": [
    "spark.stop"
   ]
  },
  {
   "cell_type": "code",
   "execution_count": null,
   "metadata": {},
   "outputs": [],
   "source": []
  }
 ],
 "metadata": {
  "kernelspec": {
   "display_name": "Apache Toree - Scala",
   "language": "scala",
   "name": "apache_toree_scala"
  },
  "language_info": {
   "codemirror_mode": "text/x-scala",
   "file_extension": ".scala",
   "mimetype": "text/x-scala",
   "name": "scala",
   "pygments_lexer": "scala",
   "version": "2.11.12"
  }
 },
 "nbformat": 4,
 "nbformat_minor": 2
}
