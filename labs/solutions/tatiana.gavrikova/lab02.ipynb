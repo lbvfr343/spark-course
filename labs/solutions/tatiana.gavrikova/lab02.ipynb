{
 "cells": [
  {
   "cell_type": "code",
   "execution_count": 1,
   "metadata": {},
   "outputs": [
    {
     "name": "stdout",
     "output_type": "stream",
     "text": [
      "Welcome to\n",
      "      ____              __\n",
      "     / __/__  ___ _____/ /__\n",
      "    _\\ \\/ _ \\/ _ `/ __/  '_/\n",
      "   /__ / .__/\\_,_/_/ /_/\\_\\   version 2.4.7\n",
      "      /_/\n",
      "\n",
      "Using Python version 3.6.5 (default, Apr 29 2018 16:14:56)\n",
      "SparkSession available as 'spark'.\n"
     ]
    }
   ],
   "source": [
    "import os\n",
    "import sys\n",
    "os.environ[\"PYSPARK_PYTHON\"]='/opt/anaconda/envs/bd9/bin/python'\n",
    "os.environ[\"SPARK_HOME\"]='/usr/hdp/current/spark2-client'\n",
    "os.environ[\"PYSPARK_SUBMIT_ARGS\"]='--num-executors 2 pyspark-shell'\n",
    "\n",
    "spark_home = os.environ.get('SPARK_HOME', None)\n",
    "if not spark_home:\n",
    "    raise ValueError('SPARK_HOME environment variable is not set')\n",
    "\n",
    "sys.path.insert(0, os.path.join(spark_home, 'python'))\n",
    "sys.path.insert(0, os.path.join(spark_home, 'python/lib/py4j-0.10.7-src.zip'))\n",
    "exec(open(os.path.join(spark_home, 'python/pyspark/shell.py')).read())"
   ]
  },
  {
   "cell_type": "code",
   "execution_count": 2,
   "metadata": {},
   "outputs": [],
   "source": [
    "from pyspark import SparkConf\n",
    "from pyspark.sql import SparkSession\n",
    "from pyspark.sql import functions as F\n",
    "from pyspark.sql.types import *\n",
    "from pyspark import Row\n",
    "import json\n",
    "\n",
    "conf = SparkConf()\n",
    "\n",
    "spark = (SparkSession\n",
    "         .builder\n",
    "         .config(conf=conf)\n",
    "         .appName(\"Tatiana Gavrikova\")\n",
    "         .getOrCreate())"
   ]
  },
  {
   "cell_type": "code",
   "execution_count": 3,
   "metadata": {},
   "outputs": [
    {
     "data": {
      "text/html": [
       "\n",
       "            <div>\n",
       "                <p><b>SparkSession - hive</b></p>\n",
       "                \n",
       "        <div>\n",
       "            <p><b>SparkContext</b></p>\n",
       "\n",
       "            <p><a href=\"http://spark-master-5.newprolab.com:4050\">Spark UI</a></p>\n",
       "\n",
       "            <dl>\n",
       "              <dt>Version</dt>\n",
       "                <dd><code>v2.4.7</code></dd>\n",
       "              <dt>Master</dt>\n",
       "                <dd><code>yarn</code></dd>\n",
       "              <dt>AppName</dt>\n",
       "                <dd><code>pyspark-shell</code></dd>\n",
       "            </dl>\n",
       "        </div>\n",
       "        \n",
       "            </div>\n",
       "        "
      ],
      "text/plain": [
       "<pyspark.sql.session.SparkSession at 0x7fd1ec722668>"
      ]
     },
     "execution_count": 3,
     "metadata": {},
     "output_type": "execute_result"
    }
   ],
   "source": [
    "spark"
   ]
  },
  {
   "cell_type": "code",
   "execution_count": 4,
   "metadata": {},
   "outputs": [
    {
     "data": {
      "text/html": [
       "\n",
       "        <div>\n",
       "            <p><b>SparkContext</b></p>\n",
       "\n",
       "            <p><a href=\"http://spark-master-5.newprolab.com:4050\">Spark UI</a></p>\n",
       "\n",
       "            <dl>\n",
       "              <dt>Version</dt>\n",
       "                <dd><code>v2.4.7</code></dd>\n",
       "              <dt>Master</dt>\n",
       "                <dd><code>yarn</code></dd>\n",
       "              <dt>AppName</dt>\n",
       "                <dd><code>pyspark-shell</code></dd>\n",
       "            </dl>\n",
       "        </div>\n",
       "        "
      ],
      "text/plain": [
       "<SparkContext master=yarn appName=pyspark-shell>"
      ]
     },
     "execution_count": 4,
     "metadata": {},
     "output_type": "execute_result"
    }
   ],
   "source": [
    "sc = spark.sparkContext\n",
    "sc"
   ]
  },
  {
   "cell_type": "code",
   "execution_count": 5,
   "metadata": {},
   "outputs": [],
   "source": [
    "need_to_predict_for = [\n",
    "    [23126, u'en', u'Compass - powerful SASS library that makes your life easier'],\n",
    "    [21617, u'en', u'Preparing for the AP* Computer Science A Exam \\u2014 Part 2'],\n",
    "    [16627, u'es', u'Aprende Excel: Nivel Intermedio by Alfonso Rinsche'],\n",
    "    [11556, u'es', u'Aprendizaje Colaborativo by UNID Universidad Interamericana para el Desarrollo'],\n",
    "    [16704, u'ru', u'\\u041f\\u0440\\u043e\\u0433\\u0440\\u0430\\u043c\\u043c\\u0438\\u0440\\u043e\\u0432\\u0430\\u043d\\u0438\\u0435 \\u043d\\u0430 Lazarus'],\n",
    "    [13702, u'ru', u'\\u041c\\u0430\\u0442\\u0435\\u043c\\u0430\\u0442\\u0438\\u0447\\u0435\\u0441\\u043a\\u0430\\u044f \\u044d\\u043a\\u043e\\u043d\\u043e\\u043c\\u0438\\u043a\\u0430']\n",
    "]"
   ]
  },
  {
   "cell_type": "code",
   "execution_count": 6,
   "metadata": {},
   "outputs": [],
   "source": [
    "from pyspark.sql.types import StructType, StructField, IntegerType, StringType, FloatType"
   ]
  },
  {
   "cell_type": "code",
   "execution_count": 7,
   "metadata": {},
   "outputs": [],
   "source": [
    "schema = StructType(fields=[\n",
    "    StructField(\"id\", IntegerType()),\n",
    "    StructField(\"name\", StringType()),\n",
    "    StructField(\"cat\", StringType()),\n",
    "    StructField(\"lang\", StringType()),\n",
    "    StructField(\"provider\", StringType()),\n",
    "    StructField(\"desc\", StringType())\n",
    "])"
   ]
  },
  {
   "cell_type": "code",
   "execution_count": 8,
   "metadata": {},
   "outputs": [],
   "source": [
    "courses = spark.read\\\n",
    "          .schema(schema)\\\n",
    "          .format(\"json\")\\\n",
    "          .load(\"/labs/slaba02/DO_record_per_line.json\")\\\n",
    "          .cache()"
   ]
  },
  {
   "cell_type": "code",
   "execution_count": 9,
   "metadata": {},
   "outputs": [
    {
     "data": {
      "text/plain": [
       "2"
      ]
     },
     "execution_count": 9,
     "metadata": {},
     "output_type": "execute_result"
    }
   ],
   "source": [
    "courses.rdd.getNumPartitions()"
   ]
  },
  {
   "cell_type": "code",
   "execution_count": 10,
   "metadata": {},
   "outputs": [],
   "source": [
    "courses = courses.repartition(6)"
   ]
  },
  {
   "cell_type": "code",
   "execution_count": 11,
   "metadata": {},
   "outputs": [],
   "source": [
    "courses = courses[[courses.id, courses.lang, courses.desc]]"
   ]
  },
  {
   "cell_type": "markdown",
   "metadata": {},
   "source": [
    "Разделяем по языкам (на самом деле слишком рано, потом уже поняла, можно было чуть позже ветвление сделать)"
   ]
  },
  {
   "cell_type": "code",
   "execution_count": 12,
   "metadata": {},
   "outputs": [
    {
     "data": {
      "text/plain": [
       "{'es': DataFrame[id: int, lang: string, desc: string],\n",
       " 'en': DataFrame[id: int, lang: string, desc: string],\n",
       " 'ru': DataFrame[id: int, lang: string, desc: string]}"
      ]
     },
     "execution_count": 12,
     "metadata": {},
     "output_type": "execute_result"
    }
   ],
   "source": [
    "dfs = {}\n",
    "for lang in set([row[1] for row in need_to_predict_for]):\n",
    "    dfs[lang] = courses.filter(courses.lang == lang)\n",
    "dfs"
   ]
  },
  {
   "cell_type": "markdown",
   "metadata": {},
   "source": [
    "## Шаг 1: разбиаваем описание на слова"
   ]
  },
  {
   "cell_type": "code",
   "execution_count": 13,
   "metadata": {},
   "outputs": [],
   "source": [
    "from pyspark.ml.feature import Tokenizer"
   ]
  },
  {
   "cell_type": "code",
   "execution_count": 14,
   "metadata": {},
   "outputs": [],
   "source": [
    "tokenizer = Tokenizer(inputCol=\"desc\", outputCol=\"words\")"
   ]
  },
  {
   "cell_type": "code",
   "execution_count": 15,
   "metadata": {},
   "outputs": [
    {
     "data": {
      "text/plain": [
       "{'es': DataFrame[id: int, lang: string, desc: string, words: array<string>],\n",
       " 'en': DataFrame[id: int, lang: string, desc: string, words: array<string>],\n",
       " 'ru': DataFrame[id: int, lang: string, desc: string, words: array<string>]}"
      ]
     },
     "execution_count": 15,
     "metadata": {},
     "output_type": "execute_result"
    }
   ],
   "source": [
    "dfs_1 = {}\n",
    "for lang in dfs:\n",
    "    dfs_1[lang] = tokenizer.transform(dfs[lang])\n",
    "dfs_1"
   ]
  },
  {
   "cell_type": "markdown",
   "metadata": {},
   "source": [
    "## Шаг 2: Чистим данные"
   ]
  },
  {
   "cell_type": "markdown",
   "metadata": {},
   "source": [
    "Количество курсов без описания"
   ]
  },
  {
   "cell_type": "code",
   "execution_count": 16,
   "metadata": {},
   "outputs": [
    {
     "name": "stdout",
     "output_type": "stream",
     "text": [
      "es 0\n",
      "en 27\n",
      "ru 0\n"
     ]
    }
   ],
   "source": [
    "for lang in dfs:\n",
    "    _df = dfs_1[lang]\n",
    "    print(lang, _df.filter(F.size(_df.words) == 0).count())"
   ]
  },
  {
   "cell_type": "code",
   "execution_count": 17,
   "metadata": {},
   "outputs": [],
   "source": [
    "_df = dfs_1['en']\n",
    "ids = [row[0] for row in need_to_predict_for if row[1] == 'en']\n",
    "if _df.filter(_df.id.isin(ids)).filter(F.size(_df.words) == 0).count() > 0:\n",
    "    print('В интересущих нас курсах нет описания')"
   ]
  },
  {
   "cell_type": "markdown",
   "metadata": {},
   "source": [
    "Можно удалить те, что без описания, среди них нет пересечения с интересущими нас"
   ]
  },
  {
   "cell_type": "code",
   "execution_count": 18,
   "metadata": {},
   "outputs": [
    {
     "data": {
      "text/plain": [
       "{'es': DataFrame[id: int, lang: string, desc: string, words: array<string>],\n",
       " 'en': DataFrame[id: int, lang: string, desc: string, words: array<string>],\n",
       " 'ru': DataFrame[id: int, lang: string, desc: string, words: array<string>]}"
      ]
     },
     "execution_count": 18,
     "metadata": {},
     "output_type": "execute_result"
    }
   ],
   "source": [
    "dfs_2 = {}\n",
    "for lang in dfs_1:\n",
    "    _df = dfs_1[lang]\n",
    "    dfs_2[lang] = _df.filter(F.size(_df.words) != 0)\n",
    "dfs_2"
   ]
  },
  {
   "cell_type": "markdown",
   "metadata": {},
   "source": [
    "## Шаг 3: Убираем стоп слова"
   ]
  },
  {
   "cell_type": "code",
   "execution_count": 19,
   "metadata": {},
   "outputs": [],
   "source": [
    "from pyspark.ml.feature import StopWordsRemover"
   ]
  },
  {
   "cell_type": "code",
   "execution_count": 20,
   "metadata": {},
   "outputs": [],
   "source": [
    "langs_dict = {'en': 'english', 'ru': 'russian', 'es': 'spanish'}"
   ]
  },
  {
   "cell_type": "code",
   "execution_count": 21,
   "metadata": {},
   "outputs": [
    {
     "data": {
      "text/plain": [
       "{'es': DataFrame[id: int, lang: string, desc: string, words: array<string>, words_filtered: array<string>],\n",
       " 'en': DataFrame[id: int, lang: string, desc: string, words: array<string>, words_filtered: array<string>],\n",
       " 'ru': DataFrame[id: int, lang: string, desc: string, words: array<string>, words_filtered: array<string>]}"
      ]
     },
     "execution_count": 21,
     "metadata": {},
     "output_type": "execute_result"
    }
   ],
   "source": [
    "dfs_3 = {}\n",
    "for lang in dfs_2:\n",
    "    _df = dfs_2[lang]\n",
    "    stopWords = StopWordsRemover.loadDefaultStopWords(langs_dict[lang])\n",
    "    swr = StopWordsRemover(\n",
    "        inputCol='words',\n",
    "        outputCol='words_filtered',\n",
    "        stopWords=stopWords\n",
    "    )\n",
    "    dfs_3[lang] = swr.transform(_df)\n",
    "dfs_3"
   ]
  },
  {
   "cell_type": "markdown",
   "metadata": {},
   "source": [
    "## Шаг 4: Векторизуем описание"
   ]
  },
  {
   "cell_type": "code",
   "execution_count": 22,
   "metadata": {},
   "outputs": [],
   "source": [
    "from pyspark.ml.feature import CountVectorizer"
   ]
  },
  {
   "cell_type": "code",
   "execution_count": 23,
   "metadata": {},
   "outputs": [
    {
     "data": {
      "text/plain": [
       "{'es': DataFrame[id: int, lang: string, desc: string, words: array<string>, words_filtered: array<string>, word_vector: vector],\n",
       " 'en': DataFrame[id: int, lang: string, desc: string, words: array<string>, words_filtered: array<string>, word_vector: vector],\n",
       " 'ru': DataFrame[id: int, lang: string, desc: string, words: array<string>, words_filtered: array<string>, word_vector: vector]}"
      ]
     },
     "execution_count": 23,
     "metadata": {},
     "output_type": "execute_result"
    }
   ],
   "source": [
    "dfs_4 = {}\n",
    "for lang in dfs_3:\n",
    "    _df = dfs_3[lang]\n",
    "    countVectorizer = CountVectorizer(inputCol='words_filtered', outputCol=\"word_vector\", vocabSize=10000)\n",
    "    countVectorizerModel = countVectorizer.fit(_df)\n",
    "    dfs_4[lang] = countVectorizerModel.transform(_df)\n",
    "dfs_4"
   ]
  },
  {
   "cell_type": "markdown",
   "metadata": {},
   "source": [
    "## Шаг 5: Обратная частота слов"
   ]
  },
  {
   "cell_type": "code",
   "execution_count": 24,
   "metadata": {},
   "outputs": [],
   "source": [
    "from pyspark.ml.feature import IDF"
   ]
  },
  {
   "cell_type": "code",
   "execution_count": 32,
   "metadata": {},
   "outputs": [
    {
     "data": {
      "text/plain": [
       "{'es': DataFrame[id: int, lang: string, desc: string, words: array<string>, words_filtered: array<string>, word_vector: vector, features: vector],\n",
       " 'en': DataFrame[id: int, lang: string, desc: string, words: array<string>, words_filtered: array<string>, word_vector: vector, features: vector],\n",
       " 'ru': DataFrame[id: int, lang: string, desc: string, words: array<string>, words_filtered: array<string>, word_vector: vector, features: vector]}"
      ]
     },
     "execution_count": 32,
     "metadata": {},
     "output_type": "execute_result"
    }
   ],
   "source": [
    "dfs_5 = {}\n",
    "for lang in dfs_4:\n",
    "    _df = dfs_4[lang]\n",
    "    idf = IDF(inputCol=\"word_vector\", outputCol=\"features\", minDocFreq=1)\n",
    "    idfModel = idf.fit(_df)\n",
    "    dfs_5[lang] = idfModel.transform(_df).cache()\n",
    "dfs_5"
   ]
  },
  {
   "cell_type": "markdown",
   "metadata": {},
   "source": [
    "Подготовка данных закончена"
   ]
  },
  {
   "cell_type": "markdown",
   "metadata": {},
   "source": [
    "# Вычисление косинусовой близости векторов (похожесть описания)"
   ]
  },
  {
   "cell_type": "markdown",
   "metadata": {},
   "source": [
    "Вектора искомых курсов"
   ]
  },
  {
   "cell_type": "code",
   "execution_count": 38,
   "metadata": {},
   "outputs": [],
   "source": [
    "vectors = {}\n",
    "for _id, lang, _ in need_to_predict_for:\n",
    "    _df = dfs_5[lang]\n",
    "    vectors[_id] = [lang, _df.filter(_df.id == _id).select('features').take(1)[0].features]"
   ]
  },
  {
   "cell_type": "code",
   "execution_count": 33,
   "metadata": {},
   "outputs": [],
   "source": [
    "def cosine_similarity_for_spec_vec(a):\n",
    "    return F.udf(lambda b: float(a.dot(b) / (a.norm(2) * b.norm(2))), FloatType())"
   ]
  },
  {
   "cell_type": "code",
   "execution_count": 43,
   "metadata": {},
   "outputs": [],
   "source": [
    "result = {}\n",
    "for _id in vectors:\n",
    "    lang, vector = vectors[_id]\n",
    "    _df = dfs_5[lang]\n",
    "    rows_id = _df.filter(_df.id != _id)\\\n",
    "        .withColumn('similarity', cosine_similarity_for_spec_vec(vector)(_df.features))\\\n",
    "        .orderBy('similarity', ascending=False)\\\n",
    "        .select(_df.id)\\\n",
    "        .take(10)\n",
    "    result[_id] = [row.id for row in rows_id] "
   ]
  },
  {
   "cell_type": "code",
   "execution_count": 44,
   "metadata": {},
   "outputs": [
    {
     "data": {
      "text/plain": [
       "{23126: [22037, 8010, 12081, 13782, 13665, 15909, 13348, 25782, 17329, 17499],\n",
       " 21617: [12081, 22037, 8010, 21609, 21608, 21616, 21492, 21624, 21630, 21628],\n",
       " 16627: [11431, 12247, 5687, 12660, 17964, 9598, 5558, 9563, 16694, 4188],\n",
       " 11556: [16488, 13461, 22710, 468, 10447, 12679, 19330, 23357, 11529, 13776],\n",
       " 16704: [1228, 1327, 20362, 18331, 1365, 8186, 26980, 20645, 1236, 1374],\n",
       " 13702: [864, 21079, 8123, 1041, 1052, 22053, 1396, 8313, 1033, 1217]}"
      ]
     },
     "execution_count": 44,
     "metadata": {},
     "output_type": "execute_result"
    }
   ],
   "source": [
    "result"
   ]
  },
  {
   "cell_type": "code",
   "execution_count": 45,
   "metadata": {},
   "outputs": [],
   "source": [
    "import json\n",
    "with open(\"lab02.json\", \"w\") as outfile:\n",
    "    json.dump(result, outfile)"
   ]
  },
  {
   "cell_type": "code",
   "execution_count": 46,
   "metadata": {},
   "outputs": [],
   "source": [
    "spark.stop()"
   ]
  }
 ],
 "metadata": {
  "kernelspec": {
   "display_name": "Python 3",
   "language": "python",
   "name": "python3"
  },
  "language_info": {
   "codemirror_mode": {
    "name": "ipython",
    "version": 3
   },
   "file_extension": ".py",
   "mimetype": "text/x-python",
   "name": "python",
   "nbconvert_exporter": "python",
   "pygments_lexer": "ipython3",
   "version": "3.6.5"
  }
 },
 "nbformat": 4,
 "nbformat_minor": 2
}
