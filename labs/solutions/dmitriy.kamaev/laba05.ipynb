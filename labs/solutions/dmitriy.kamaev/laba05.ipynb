{
 "cells": [
  {
   "cell_type": "code",
   "execution_count": 1,
   "metadata": {},
   "outputs": [
    {
     "data": {
      "text/plain": [
       "conf = org.apache.spark.SparkConf@3eca2ec2\n",
       "spark = org.apache.spark.sql.SparkSession@5386cf90\n"
      ]
     },
     "metadata": {},
     "output_type": "display_data"
    },
    {
     "data": {
      "text/plain": [
       "org.apache.spark.sql.SparkSession@5386cf90"
      ]
     },
     "execution_count": 1,
     "metadata": {},
     "output_type": "execute_result"
    }
   ],
   "source": [
    "import org.apache.spark.SparkConf\n",
    "import org.apache.spark.sql.SparkSession\n",
    "\n",
    "val conf = new SparkConf()\n",
    "\n",
    "val spark = SparkSession\n",
    "  .builder()\n",
    "  .appName(\"Kamaed\")\n",
    "  .config(conf)\n",
    "  .getOrCreate()"
   ]
  },
  {
   "cell_type": "code",
   "execution_count": 2,
   "metadata": {},
   "outputs": [
    {
     "data": {
      "text/plain": [
       "org.apache.spark.sql.SparkSession@5386cf90"
      ]
     },
     "execution_count": 2,
     "metadata": {},
     "output_type": "execute_result"
    }
   ],
   "source": [
    "spark"
   ]
  },
  {
   "cell_type": "code",
   "execution_count": null,
   "metadata": {},
   "outputs": [],
   "source": [
    "spark.sparkContext"
   ]
  },
  {
   "cell_type": "code",
   "execution_count": 35,
   "metadata": {},
   "outputs": [],
   "source": [
    "import org.apache.spark.sql.functions.{udf, col}"
   ]
  },
  {
   "cell_type": "code",
   "execution_count": 3,
   "metadata": {},
   "outputs": [
    {
     "data": {
      "text/plain": [
       "\"Found 2 items\n",
       "-rw-r--r--   3 hdfs hdfs   24271415 2022-01-06 18:46 /labs/slaba05/lab05_test.csv\n",
       "-rw-r--r--   3 hdfs hdfs  176160768 2022-01-06 18:46 /labs/slaba05/lab05_train.csv\n",
       "\"\n"
      ]
     },
     "metadata": {},
     "output_type": "display_data"
    }
   ],
   "source": [
    "import scala.sys.process._\n",
    "\"hdfs dfs -ls /labs/slaba05/\".!!"
   ]
  },
  {
   "cell_type": "code",
   "execution_count": null,
   "metadata": {},
   "outputs": [],
   "source": [
    "\"hdfs dfs -head /labs/slaba05/lab05_train.csv\".!!"
   ]
  },
  {
   "cell_type": "code",
   "execution_count": 4,
   "metadata": {},
   "outputs": [
    {
     "data": {
      "text/plain": [
       "df_train = [_c0: int, ID: int ... 115 more fields]\n"
      ]
     },
     "metadata": {},
     "output_type": "display_data"
    },
    {
     "data": {
      "text/plain": [
       "[_c0: int, ID: int ... 115 more fields]"
      ]
     },
     "execution_count": 4,
     "metadata": {},
     "output_type": "execute_result"
    }
   ],
   "source": [
    "var df_train = spark.read\n",
    "        .format(\"csv\")\n",
    "        .option(\"header\", \"true\")\n",
    "        .option(\"delimiter\", \",\")\n",
    "        .option(\"inferSchema\", \"true\")\n",
    "        .load(\"/labs/slaba05/lab05_train.csv\")"
   ]
  },
  {
   "cell_type": "code",
   "execution_count": 31,
   "metadata": {},
   "outputs": [
    {
     "data": {
      "text/plain": [
       "df_test = [_c0: int, ID: int ... 114 more fields]\n"
      ]
     },
     "metadata": {},
     "output_type": "display_data"
    },
    {
     "data": {
      "text/plain": [
       "[_c0: int, ID: int ... 114 more fields]"
      ]
     },
     "execution_count": 31,
     "metadata": {},
     "output_type": "execute_result"
    }
   ],
   "source": [
    "var df_test = spark.read\n",
    "        .format(\"csv\")\n",
    "        .option(\"header\", \"true\")\n",
    "        .option(\"delimiter\", \",\")\n",
    "        .option(\"inferSchema\", \"true\")\n",
    "        .load(\"/labs/slaba05/lab05_test.csv\")"
   ]
  },
  {
   "cell_type": "code",
   "execution_count": 5,
   "metadata": {},
   "outputs": [
    {
     "data": {
      "text/plain": [
       "df_train = [_c0: int, ID: int ... 115 more fields]\n"
      ]
     },
     "metadata": {},
     "output_type": "display_data"
    },
    {
     "data": {
      "text/plain": [
       "warning: there was one deprecation warning; re-run with -deprecation for details\n"
      ]
     },
     "metadata": {},
     "output_type": "display_data"
    },
    {
     "data": {
      "text/plain": [
       "[_c0: int, ID: int ... 115 more fields]"
      ]
     },
     "execution_count": 5,
     "metadata": {},
     "output_type": "execute_result"
    }
   ],
   "source": [
    "df_train = df_train.filter(df_train(\"ID\") !== 369524)"
   ]
  },
  {
   "cell_type": "code",
   "execution_count": 6,
   "metadata": {},
   "outputs": [
    {
     "name": "stdout",
     "output_type": "stream",
     "text": [
      "root\n",
      " |-- _c0: integer (nullable = true)\n",
      " |-- ID: integer (nullable = true)\n",
      " |-- CR_PROD_CNT_IL: integer (nullable = true)\n",
      " |-- AMOUNT_RUB_CLO_PRC: double (nullable = true)\n",
      " |-- PRC_ACCEPTS_A_EMAIL_LINK: double (nullable = true)\n",
      " |-- APP_REGISTR_RGN_CODE: double (nullable = true)\n",
      " |-- PRC_ACCEPTS_A_POS: double (nullable = true)\n",
      " |-- PRC_ACCEPTS_A_TK: double (nullable = true)\n",
      " |-- TURNOVER_DYNAMIC_IL_1M: double (nullable = true)\n",
      " |-- CNT_TRAN_AUT_TENDENCY1M: double (nullable = true)\n",
      " |-- SUM_TRAN_AUT_TENDENCY1M: double (nullable = true)\n",
      " |-- AMOUNT_RUB_SUP_PRC: double (nullable = true)\n",
      " |-- PRC_ACCEPTS_A_AMOBILE: double (nullable = true)\n",
      " |-- SUM_TRAN_AUT_TENDENCY3M: double (nullable = true)\n",
      " |-- CLNT_TRUST_RELATION: string (nullable = true)\n",
      " |-- PRC_ACCEPTS_TK: double (nullable = true)\n",
      " |-- PRC_ACCEPTS_A_MTP: double (nullable = true)\n",
      " |-- REST_DYNAMIC_FDEP_1M: double (nullable = true)\n",
      " |-- CNT_TRAN_AUT_TENDENCY3M: double (nullable = true)\n",
      " |-- CNT_ACCEPTS_TK: double (nullable = true)\n",
      " |-- APP_MARITAL_STATUS: string (nullable = true)\n",
      " |-- REST_DYNAMIC_SAVE_3M: double (nullable = true)\n",
      " |-- CR_PROD_CNT_VCU: integer (nullable = true)\n",
      " |-- REST_AVG_CUR: double (nullable = true)\n",
      " |-- CNT_TRAN_MED_TENDENCY1M: double (nullable = true)\n",
      " |-- APP_KIND_OF_PROP_HABITATION: string (nullable = true)\n",
      " |-- CLNT_JOB_POSITION_TYPE: string (nullable = true)\n",
      " |-- AMOUNT_RUB_NAS_PRC: double (nullable = true)\n",
      " |-- CLNT_JOB_POSITION: string (nullable = true)\n",
      " |-- APP_DRIVING_LICENSE: string (nullable = true)\n",
      " |-- TRANS_COUNT_SUP_PRC: double (nullable = true)\n",
      " |-- APP_EDUCATION: string (nullable = true)\n",
      " |-- CNT_TRAN_CLO_TENDENCY1M: double (nullable = true)\n",
      " |-- SUM_TRAN_MED_TENDENCY1M: double (nullable = true)\n",
      " |-- PRC_ACCEPTS_A_ATM: double (nullable = true)\n",
      " |-- PRC_ACCEPTS_MTP: double (nullable = true)\n",
      " |-- TRANS_COUNT_NAS_PRC: double (nullable = true)\n",
      " |-- APP_TRAVEL_PASS: string (nullable = true)\n",
      " |-- CNT_ACCEPTS_MTP: double (nullable = true)\n",
      " |-- CR_PROD_CNT_TOVR: integer (nullable = true)\n",
      " |-- APP_CAR: string (nullable = true)\n",
      " |-- CR_PROD_CNT_PIL: integer (nullable = true)\n",
      " |-- SUM_TRAN_CLO_TENDENCY1M: double (nullable = true)\n",
      " |-- APP_POSITION_TYPE: string (nullable = true)\n",
      " |-- TURNOVER_CC: double (nullable = true)\n",
      " |-- TRANS_COUNT_ATM_PRC: double (nullable = true)\n",
      " |-- AMOUNT_RUB_ATM_PRC: double (nullable = true)\n",
      " |-- TURNOVER_PAYM: double (nullable = true)\n",
      " |-- AGE: integer (nullable = true)\n",
      " |-- CNT_TRAN_MED_TENDENCY3M: double (nullable = true)\n",
      " |-- CR_PROD_CNT_CC: integer (nullable = true)\n",
      " |-- SUM_TRAN_MED_TENDENCY3M: double (nullable = true)\n",
      " |-- REST_DYNAMIC_FDEP_3M: double (nullable = true)\n",
      " |-- REST_DYNAMIC_IL_1M: double (nullable = true)\n",
      " |-- APP_EMP_TYPE: string (nullable = true)\n",
      " |-- SUM_TRAN_CLO_TENDENCY3M: double (nullable = true)\n",
      " |-- LDEAL_TENOR_MAX: double (nullable = true)\n",
      " |-- LDEAL_YQZ_CHRG: double (nullable = true)\n",
      " |-- CR_PROD_CNT_CCFP: integer (nullable = true)\n",
      " |-- DEAL_YQZ_IR_MAX: double (nullable = true)\n",
      " |-- LDEAL_YQZ_COM: double (nullable = true)\n",
      " |-- DEAL_YQZ_IR_MIN: double (nullable = true)\n",
      " |-- CNT_TRAN_CLO_TENDENCY3M: double (nullable = true)\n",
      " |-- REST_DYNAMIC_CUR_1M: double (nullable = true)\n",
      " |-- REST_AVG_PAYM: double (nullable = true)\n",
      " |-- LDEAL_TENOR_MIN: double (nullable = true)\n",
      " |-- LDEAL_AMT_MONTH: double (nullable = true)\n",
      " |-- APP_COMP_TYPE: string (nullable = true)\n",
      " |-- LDEAL_GRACE_DAYS_PCT_MED: double (nullable = true)\n",
      " |-- REST_DYNAMIC_CUR_3M: double (nullable = true)\n",
      " |-- CNT_TRAN_SUP_TENDENCY3M: double (nullable = true)\n",
      " |-- TURNOVER_DYNAMIC_CUR_1M: double (nullable = true)\n",
      " |-- REST_DYNAMIC_PAYM_3M: double (nullable = true)\n",
      " |-- SUM_TRAN_SUP_TENDENCY3M: double (nullable = true)\n",
      " |-- REST_DYNAMIC_IL_3M: double (nullable = true)\n",
      " |-- CNT_TRAN_ATM_TENDENCY3M: double (nullable = true)\n",
      " |-- CNT_TRAN_ATM_TENDENCY1M: double (nullable = true)\n",
      " |-- TURNOVER_DYNAMIC_IL_3M: double (nullable = true)\n",
      " |-- SUM_TRAN_ATM_TENDENCY3M: double (nullable = true)\n",
      " |-- DEAL_GRACE_DAYS_ACC_S1X1: double (nullable = true)\n",
      " |-- AVG_PCT_MONTH_TO_PCLOSE: double (nullable = true)\n",
      " |-- DEAL_YWZ_IR_MIN: double (nullable = true)\n",
      " |-- SUM_TRAN_SUP_TENDENCY1M: double (nullable = true)\n",
      " |-- DEAL_YWZ_IR_MAX: double (nullable = true)\n",
      " |-- SUM_TRAN_ATM_TENDENCY1M: double (nullable = true)\n",
      " |-- REST_DYNAMIC_PAYM_1M: double (nullable = true)\n",
      " |-- CNT_TRAN_SUP_TENDENCY1M: double (nullable = true)\n",
      " |-- DEAL_GRACE_DAYS_ACC_AVG: double (nullable = true)\n",
      " |-- TURNOVER_DYNAMIC_CUR_3M: double (nullable = true)\n",
      " |-- PACK: string (nullable = true)\n",
      " |-- MAX_PCLOSE_DATE: double (nullable = true)\n",
      " |-- LDEAL_YQZ_PC: double (nullable = true)\n",
      " |-- CLNT_SETUP_TENOR: double (nullable = true)\n",
      " |-- DEAL_GRACE_DAYS_ACC_MAX: double (nullable = true)\n",
      " |-- TURNOVER_DYNAMIC_PAYM_3M: double (nullable = true)\n",
      " |-- LDEAL_DELINQ_PER_MAXYQZ: double (nullable = true)\n",
      " |-- TURNOVER_DYNAMIC_PAYM_1M: double (nullable = true)\n",
      " |-- CLNT_SALARY_VALUE: double (nullable = true)\n",
      " |-- TRANS_AMOUNT_TENDENCY3M: double (nullable = true)\n",
      " |-- MED_DEBT_PRC_YQZ: double (nullable = true)\n",
      " |-- TRANS_CNT_TENDENCY3M: double (nullable = true)\n",
      " |-- LDEAL_USED_AMT_AVG_YQZ: double (nullable = true)\n",
      " |-- REST_DYNAMIC_CC_1M: double (nullable = true)\n",
      " |-- LDEAL_USED_AMT_AVG_YWZ: double (nullable = true)\n",
      " |-- TURNOVER_DYNAMIC_CC_1M: double (nullable = true)\n",
      " |-- AVG_PCT_DEBT_TO_DEAL_AMT: double (nullable = true)\n",
      " |-- LDEAL_ACT_DAYS_ACC_PCT_AVG: double (nullable = true)\n",
      " |-- REST_DYNAMIC_CC_3M: double (nullable = true)\n",
      " |-- MED_DEBT_PRC_YWZ: double (nullable = true)\n",
      " |-- LDEAL_ACT_DAYS_PCT_TR3: double (nullable = true)\n",
      " |-- LDEAL_ACT_DAYS_PCT_AAVG: double (nullable = true)\n",
      " |-- LDEAL_DELINQ_PER_MAXYWZ: double (nullable = true)\n",
      " |-- TURNOVER_DYNAMIC_CC_3M: double (nullable = true)\n",
      " |-- LDEAL_ACT_DAYS_PCT_TR: double (nullable = true)\n",
      " |-- LDEAL_ACT_DAYS_PCT_TR4: double (nullable = true)\n",
      " |-- LDEAL_ACT_DAYS_PCT_CURR: double (nullable = true)\n",
      " |-- TARGET: integer (nullable = true)\n",
      "\n"
     ]
    }
   ],
   "source": [
    "df_train.printSchema()"
   ]
  },
  {
   "cell_type": "code",
   "execution_count": 103,
   "metadata": {},
   "outputs": [
    {
     "name": "stdout",
     "output_type": "stream",
     "text": [
      "-RECORD 0-------------------------------------------------------\n",
      " summary                     | count                            \n",
      " _c0                         | 320763                           \n",
      " ID                          | 320763                           \n",
      " CR_PROD_CNT_IL              | 320763                           \n",
      " AMOUNT_RUB_CLO_PRC          | 286213                           \n",
      " PRC_ACCEPTS_A_EMAIL_LINK    | 139950                           \n",
      " APP_REGISTR_RGN_CODE        | 54850                            \n",
      " PRC_ACCEPTS_A_POS           | 139950                           \n",
      " PRC_ACCEPTS_A_TK            | 139950                           \n",
      " TURNOVER_DYNAMIC_IL_1M      | 320763                           \n",
      " CNT_TRAN_AUT_TENDENCY1M     | 69535                            \n",
      " SUM_TRAN_AUT_TENDENCY1M     | 69535                            \n",
      " AMOUNT_RUB_SUP_PRC          | 286213                           \n",
      " PRC_ACCEPTS_A_AMOBILE       | 139950                           \n",
      " SUM_TRAN_AUT_TENDENCY3M     | 100204                           \n",
      " CLNT_TRUST_RELATION         | 62935                            \n",
      " PRC_ACCEPTS_TK              | 139950                           \n",
      " PRC_ACCEPTS_A_MTP           | 139950                           \n",
      " REST_DYNAMIC_FDEP_1M        | 320763                           \n",
      " CNT_TRAN_AUT_TENDENCY3M     | 100204                           \n",
      " CNT_ACCEPTS_TK              | 139950                           \n",
      " APP_MARITAL_STATUS          | 61775                            \n",
      " REST_DYNAMIC_SAVE_3M        | 320763                           \n",
      " CR_PROD_CNT_VCU             | 320763                           \n",
      " REST_AVG_CUR                | 320763                           \n",
      " CNT_TRAN_MED_TENDENCY1M     | 62457                            \n",
      " APP_KIND_OF_PROP_HABITATION | 53722                            \n",
      " CLNT_JOB_POSITION_TYPE      | 40522                            \n",
      " AMOUNT_RUB_NAS_PRC          | 286213                           \n",
      " CLNT_JOB_POSITION           | 190393                           \n",
      " APP_DRIVING_LICENSE         | 51896                            \n",
      " TRANS_COUNT_SUP_PRC         | 286213                           \n",
      " APP_EDUCATION               | 61665                            \n",
      " CNT_TRAN_CLO_TENDENCY1M     | 59823                            \n",
      " SUM_TRAN_MED_TENDENCY1M     | 62457                            \n",
      " PRC_ACCEPTS_A_ATM           | 139950                           \n",
      " PRC_ACCEPTS_MTP             | 139950                           \n",
      " TRANS_COUNT_NAS_PRC         | 286213                           \n",
      " APP_TRAVEL_PASS             | 51896                            \n",
      " CNT_ACCEPTS_MTP             | 139950                           \n",
      " CR_PROD_CNT_TOVR            | 320763                           \n",
      " APP_CAR                     | 51895                            \n",
      " CR_PROD_CNT_PIL             | 320763                           \n",
      " SUM_TRAN_CLO_TENDENCY1M     | 59823                            \n",
      " APP_POSITION_TYPE           | 54780                            \n",
      " TURNOVER_CC                 | 320763                           \n",
      " TRANS_COUNT_ATM_PRC         | 286213                           \n",
      " AMOUNT_RUB_ATM_PRC          | 286213                           \n",
      " TURNOVER_PAYM               | 320763                           \n",
      " AGE                         | 320763                           \n",
      " CNT_TRAN_MED_TENDENCY3M     | 104645                           \n",
      " CR_PROD_CNT_CC              | 320763                           \n",
      " SUM_TRAN_MED_TENDENCY3M     | 104645                           \n",
      " REST_DYNAMIC_FDEP_3M        | 320763                           \n",
      " REST_DYNAMIC_IL_1M          | 320763                           \n",
      " APP_EMP_TYPE                | 60986                            \n",
      " SUM_TRAN_CLO_TENDENCY3M     | 103775                           \n",
      " LDEAL_TENOR_MAX             | 7359                             \n",
      " LDEAL_YQZ_CHRG              | 1135                             \n",
      " CR_PROD_CNT_CCFP            | 320763                           \n",
      " DEAL_YQZ_IR_MAX             | 7359                             \n",
      " LDEAL_YQZ_COM               | 1129                             \n",
      " DEAL_YQZ_IR_MIN             | 7359                             \n",
      " CNT_TRAN_CLO_TENDENCY3M     | 103775                           \n",
      " REST_DYNAMIC_CUR_1M         | 320763                           \n",
      " REST_AVG_PAYM               | 320763                           \n",
      " LDEAL_TENOR_MIN             | 7359                             \n",
      " LDEAL_AMT_MONTH             | 1704                             \n",
      " APP_COMP_TYPE               | 60986                            \n",
      " LDEAL_GRACE_DAYS_PCT_MED    | 320763                           \n",
      " REST_DYNAMIC_CUR_3M         | 320763                           \n",
      " CNT_TRAN_SUP_TENDENCY3M     | 179529                           \n",
      " TURNOVER_DYNAMIC_CUR_1M     | 320763                           \n",
      " REST_DYNAMIC_PAYM_3M        | 320763                           \n",
      " SUM_TRAN_SUP_TENDENCY3M     | 179529                           \n",
      " REST_DYNAMIC_IL_3M          | 320763                           \n",
      " CNT_TRAN_ATM_TENDENCY3M     | 230841                           \n",
      " CNT_TRAN_ATM_TENDENCY1M     | 185911                           \n",
      " TURNOVER_DYNAMIC_IL_3M      | 320763                           \n",
      " SUM_TRAN_ATM_TENDENCY3M     | 230841                           \n",
      " DEAL_GRACE_DAYS_ACC_S1X1    | 63615                            \n",
      " AVG_PCT_MONTH_TO_PCLOSE     | 1468                             \n",
      " DEAL_YWZ_IR_MIN             | 86488                            \n",
      " SUM_TRAN_SUP_TENDENCY1M     | 140850                           \n",
      " DEAL_YWZ_IR_MAX             | 86488                            \n",
      " SUM_TRAN_ATM_TENDENCY1M     | 185911                           \n",
      " REST_DYNAMIC_PAYM_1M        | 320763                           \n",
      " CNT_TRAN_SUP_TENDENCY1M     | 140850                           \n",
      " DEAL_GRACE_DAYS_ACC_AVG     | 62693                            \n",
      " TURNOVER_DYNAMIC_CUR_3M     | 320763                           \n",
      " PACK                        | 320763                           \n",
      " MAX_PCLOSE_DATE             | 1699                             \n",
      " LDEAL_YQZ_PC                | 2551                             \n",
      " CLNT_SETUP_TENOR            | 320763                           \n",
      " DEAL_GRACE_DAYS_ACC_MAX     | 62693                            \n",
      " TURNOVER_DYNAMIC_PAYM_3M    | 320763                           \n",
      " LDEAL_DELINQ_PER_MAXYQZ     | 7359                             \n",
      " TURNOVER_DYNAMIC_PAYM_1M    | 320763                           \n",
      " CLNT_SALARY_VALUE           | 652                              \n",
      " TRANS_AMOUNT_TENDENCY3M     | 273904                           \n",
      " MED_DEBT_PRC_YQZ            | 7359                             \n",
      " TRANS_CNT_TENDENCY3M        | 273904                           \n",
      " LDEAL_USED_AMT_AVG_YQZ      | 7359                             \n",
      " REST_DYNAMIC_CC_1M          | 320763                           \n",
      " LDEAL_USED_AMT_AVG_YWZ      | 86488                            \n",
      " TURNOVER_DYNAMIC_CC_1M      | 320763                           \n",
      " AVG_PCT_DEBT_TO_DEAL_AMT    | 1704                             \n",
      " LDEAL_ACT_DAYS_ACC_PCT_AVG  | 84414                            \n",
      " REST_DYNAMIC_CC_3M          | 320763                           \n",
      " MED_DEBT_PRC_YWZ            | 86488                            \n",
      " LDEAL_ACT_DAYS_PCT_TR3      | 84414                            \n",
      " LDEAL_ACT_DAYS_PCT_AAVG     | 88692                            \n",
      " LDEAL_DELINQ_PER_MAXYWZ     | 86488                            \n",
      " TURNOVER_DYNAMIC_CC_3M      | 320763                           \n",
      " LDEAL_ACT_DAYS_PCT_TR       | 84414                            \n",
      " LDEAL_ACT_DAYS_PCT_TR4      | 84414                            \n",
      " LDEAL_ACT_DAYS_PCT_CURR     | 84414                            \n",
      " TARGET                      | 320763                           \n",
      "-RECORD 1-------------------------------------------------------\n",
      " summary                     | mean                             \n",
      " _c0                         | 221981.06993637048               \n",
      " ID                          | 368822.0699363705                \n",
      " CR_PROD_CNT_IL              | 0.10555145075959509              \n",
      " AMOUNT_RUB_CLO_PRC          | 0.0441860177864476               \n",
      " PRC_ACCEPTS_A_EMAIL_LINK    | 0.0                              \n",
      " APP_REGISTR_RGN_CODE        | 50.940510483135824               \n",
      " PRC_ACCEPTS_A_POS           | 0.0                              \n",
      " PRC_ACCEPTS_A_TK            | 0.0                              \n",
      " TURNOVER_DYNAMIC_IL_1M      | 0.0013119871088681722            \n",
      " CNT_TRAN_AUT_TENDENCY1M     | 0.4164971270088655               \n",
      " SUM_TRAN_AUT_TENDENCY1M     | 0.4144116871982062               \n",
      " AMOUNT_RUB_SUP_PRC          | 0.08529494188969172              \n",
      " PRC_ACCEPTS_A_AMOBILE       | 0.0                              \n",
      " SUM_TRAN_AUT_TENDENCY3M     | 0.6887817174707905               \n",
      " CLNT_TRUST_RELATION         | null                             \n",
      " PRC_ACCEPTS_TK              | 0.0                              \n",
      " PRC_ACCEPTS_A_MTP           | 0.0                              \n",
      " REST_DYNAMIC_FDEP_1M        | 7.200560771369897E-4             \n",
      " CNT_TRAN_AUT_TENDENCY3M     | 0.6914647828693696               \n",
      " CNT_ACCEPTS_TK              | 0.0                              \n",
      " APP_MARITAL_STATUS          | null                             \n",
      " REST_DYNAMIC_SAVE_3M        | 0.06378922248497548              \n",
      " CR_PROD_CNT_VCU             | 0.03148118704464044              \n",
      " REST_AVG_CUR                | 66162.29934663817                \n",
      " CNT_TRAN_MED_TENDENCY1M     | 0.4441244853247115               \n",
      " APP_KIND_OF_PROP_HABITATION | null                             \n",
      " CLNT_JOB_POSITION_TYPE      | null                             \n",
      " AMOUNT_RUB_NAS_PRC          | 0.024013168233614084             \n",
      " CLNT_JOB_POSITION           | 1.6828395546753823E19            \n",
      " APP_DRIVING_LICENSE         | null                             \n",
      " TRANS_COUNT_SUP_PRC         | 0.19110591678145605              \n",
      " APP_EDUCATION               | null                             \n",
      " CNT_TRAN_CLO_TENDENCY1M     | 0.4796725995900655               \n",
      " SUM_TRAN_MED_TENDENCY1M     | 0.4370113490147224               \n",
      " PRC_ACCEPTS_A_ATM           | 0.0                              \n",
      " PRC_ACCEPTS_MTP             | 0.0                              \n",
      " TRANS_COUNT_NAS_PRC         | 0.05093025604968245              \n",
      " APP_TRAVEL_PASS             | null                             \n",
      " CNT_ACCEPTS_MTP             | 0.0                              \n",
      " CR_PROD_CNT_TOVR            | 0.3102446354473552               \n",
      " APP_CAR                     | null                             \n",
      " CR_PROD_CNT_PIL             | 0.057132524636569676             \n",
      " SUM_TRAN_CLO_TENDENCY1M     | 0.47293333121921616              \n",
      " APP_POSITION_TYPE           | null                             \n",
      " TURNOVER_CC                 | 501.1494261137242                \n",
      " TRANS_COUNT_ATM_PRC         | 0.37067803321313875              \n",
      " AMOUNT_RUB_ATM_PRC          | 0.5979603380176972               \n",
      " TURNOVER_PAYM               | 14577.112002708564               \n",
      " AGE                         | 457.10792080133933               \n",
      " CNT_TRAN_MED_TENDENCY3M     | 0.7011272700943763               \n",
      " CR_PROD_CNT_CC              | 0.07165726720351162              \n",
      " SUM_TRAN_MED_TENDENCY3M     | 0.6964314045291468               \n",
      " REST_DYNAMIC_FDEP_3M        | 0.003865171635578094             \n",
      " REST_DYNAMIC_IL_1M          | 0.0016637738346518402            \n",
      " APP_EMP_TYPE                | null                             \n",
      " SUM_TRAN_CLO_TENDENCY3M     | 0.6971582436416833               \n",
      " LDEAL_TENOR_MAX             | 22.367984780540834               \n",
      " LDEAL_YQZ_CHRG              | 0.004979336217111135             \n",
      " CR_PROD_CNT_CCFP            | 0.004900814620140103             \n",
      " DEAL_YQZ_IR_MAX             | 26.272423486887295               \n",
      " LDEAL_YQZ_COM               | 0.07355750695923129              \n",
      " DEAL_YQZ_IR_MIN             | 25.561635336323345               \n",
      " CNT_TRAN_CLO_TENDENCY3M     | 0.7002981646284061               \n",
      " REST_DYNAMIC_CUR_1M         | 0.21222983221770975              \n",
      " REST_AVG_PAYM               | 7192.1270254256515               \n",
      " LDEAL_TENOR_MIN             | 15.760972958282375               \n",
      " LDEAL_AMT_MONTH             | 197657.90733497642               \n",
      " APP_COMP_TYPE               | null                             \n",
      " LDEAL_GRACE_DAYS_PCT_MED    | 0.0018140223402572744            \n",
      " REST_DYNAMIC_CUR_3M         | 0.49868296589802613              \n",
      " CNT_TRAN_SUP_TENDENCY3M     | 0.6429108778324024               \n",
      " TURNOVER_DYNAMIC_CUR_1M     | 0.20406155178128954              \n",
      " REST_DYNAMIC_PAYM_3M        | 0.07684715119873978              \n",
      " SUM_TRAN_SUP_TENDENCY3M     | 0.6275880980317768               \n",
      " REST_DYNAMIC_IL_3M          | 0.005753073063779523             \n",
      " CNT_TRAN_ATM_TENDENCY3M     | 0.6287791324470898               \n",
      " CNT_TRAN_ATM_TENDENCY1M     | 0.327132582265736                \n",
      " TURNOVER_DYNAMIC_IL_3M      | 0.004064499231079745             \n",
      " SUM_TRAN_ATM_TENDENCY3M     | 0.6182761188794409               \n",
      " DEAL_GRACE_DAYS_ACC_S1X1    | 0.02876597427456511              \n",
      " AVG_PCT_MONTH_TO_PCLOSE     | -2.555297431380423               \n",
      " DEAL_YWZ_IR_MIN             | 37.185119785402414               \n",
      " SUM_TRAN_SUP_TENDENCY1M     | 0.32812867009303004              \n",
      " DEAL_YWZ_IR_MAX             | 39.47356488761336                \n",
      " SUM_TRAN_ATM_TENDENCY1M     | 0.3219888572041245               \n",
      " REST_DYNAMIC_PAYM_1M        | 0.027698470071221597             \n",
      " CNT_TRAN_SUP_TENDENCY1M     | 0.3411512563183511               \n",
      " DEAL_GRACE_DAYS_ACC_AVG     | 0.02443022742433041              \n",
      " TURNOVER_DYNAMIC_CUR_3M     | 0.4844239194191719               \n",
      " PACK                        | 107.00713396486996               \n",
      " MAX_PCLOSE_DATE             | -20.791243425924172              \n",
      " LDEAL_YQZ_PC                | 0.02506883085132336              \n",
      " CLNT_SETUP_TENOR            | 4.3774887004275005               \n",
      " DEAL_GRACE_DAYS_ACC_MAX     | 0.029040448128981114             \n",
      " TURNOVER_DYNAMIC_PAYM_3M    | 0.07212406824060656              \n",
      " LDEAL_DELINQ_PER_MAXYQZ     | 0.1958825927435793               \n",
      " TURNOVER_DYNAMIC_PAYM_1M    | 0.025178101742057563             \n",
      " CLNT_SALARY_VALUE           | 36623.100475460116               \n",
      " TRANS_AMOUNT_TENDENCY3M     | 0.5822783322728388               \n",
      " MED_DEBT_PRC_YQZ            | 0.9227476559315124               \n",
      " TRANS_CNT_TENDENCY3M        | 0.5974420041319465               \n",
      " LDEAL_USED_AMT_AVG_YQZ      | 0.43632440522705546              \n",
      " REST_DYNAMIC_CC_1M          | 0.0022433736337449115            \n",
      " LDEAL_USED_AMT_AVG_YWZ      | 0.9002152937657554               \n",
      " TURNOVER_DYNAMIC_CC_1M      | 9.567016908920889E-4             \n",
      " AVG_PCT_DEBT_TO_DEAL_AMT    | 0.34321823780086436              \n",
      " LDEAL_ACT_DAYS_ACC_PCT_AVG  | 0.05155977032941277              \n",
      " REST_DYNAMIC_CC_3M          | 0.007414408779733414             \n",
      " MED_DEBT_PRC_YWZ            | 0.05515015609101842              \n",
      " LDEAL_ACT_DAYS_PCT_TR3      | 0.025760464002586757             \n",
      " LDEAL_ACT_DAYS_PCT_AAVG     | 0.05027405261012803              \n",
      " LDEAL_DELINQ_PER_MAXYWZ     | 0.009567801313477014             \n",
      " TURNOVER_DYNAMIC_CC_3M      | 0.00445155515166299              \n",
      " LDEAL_ACT_DAYS_PCT_TR       | 0.013922421826979137             \n",
      " LDEAL_ACT_DAYS_PCT_TR4      | 0.013922421826979137             \n",
      " LDEAL_ACT_DAYS_PCT_CURR     | 0.013922421826979137             \n",
      " TARGET                      | 0.08154307074070263              \n",
      "-RECORD 2-------------------------------------------------------\n",
      " summary                     | stddev                           \n",
      " _c0                         | 128175.61067530961               \n",
      " ID                          | 128175.61067530955               \n",
      " CR_PROD_CNT_IL              | 0.4303639887553218               \n",
      " AMOUNT_RUB_CLO_PRC          | 0.10881718129576615              \n",
      " PRC_ACCEPTS_A_EMAIL_LINK    | 0.0                              \n",
      " APP_REGISTR_RGN_CODE        | 21.776213717042882               \n",
      " PRC_ACCEPTS_A_POS           | 0.0                              \n",
      " PRC_ACCEPTS_A_TK            | 0.0                              \n",
      " TURNOVER_DYNAMIC_IL_1M      | 0.029057442912465918             \n",
      " CNT_TRAN_AUT_TENDENCY1M     | 0.31585672186079755              \n",
      " SUM_TRAN_AUT_TENDENCY1M     | 0.338004648620383                \n",
      " AMOUNT_RUB_SUP_PRC          | 0.14243213891581308              \n",
      " PRC_ACCEPTS_A_AMOBILE       | 0.0                              \n",
      " SUM_TRAN_AUT_TENDENCY3M     | 0.3017737931774965               \n",
      " CLNT_TRUST_RELATION         | null                             \n",
      " PRC_ACCEPTS_TK              | 0.0                              \n",
      " PRC_ACCEPTS_A_MTP           | 0.0                              \n",
      " REST_DYNAMIC_FDEP_1M        | 0.014273308446974149             \n",
      " CNT_TRAN_AUT_TENDENCY3M     | 0.2767757680498834               \n",
      " CNT_ACCEPTS_TK              | 0.0                              \n",
      " APP_MARITAL_STATUS          | null                             \n",
      " REST_DYNAMIC_SAVE_3M        | 0.2036928516197863               \n",
      " CR_PROD_CNT_VCU             | 0.1845953132514748               \n",
      " REST_AVG_CUR                | 183563.64151920937               \n",
      " CNT_TRAN_MED_TENDENCY1M     | 0.32420322149136704              \n",
      " APP_KIND_OF_PROP_HABITATION | null                             \n",
      " CLNT_JOB_POSITION_TYPE      | null                             \n",
      " AMOUNT_RUB_NAS_PRC          | 0.09090392792659768              \n",
      " CLNT_JOB_POSITION           | 2.018107922480954E19             \n",
      " APP_DRIVING_LICENSE         | null                             \n",
      " TRANS_COUNT_SUP_PRC         | 0.19609456482599227              \n",
      " APP_EDUCATION               | null                             \n",
      " CNT_TRAN_CLO_TENDENCY1M     | 0.33054929496838026              \n",
      " SUM_TRAN_MED_TENDENCY1M     | 0.36198799558794104              \n",
      " PRC_ACCEPTS_A_ATM           | 0.0                              \n",
      " PRC_ACCEPTS_MTP             | 0.0                              \n",
      " TRANS_COUNT_NAS_PRC         | 0.11677040585444874              \n",
      " APP_TRAVEL_PASS             | null                             \n",
      " CNT_ACCEPTS_MTP             | 0.0                              \n",
      " CR_PROD_CNT_TOVR            | 0.5893966595322511               \n",
      " APP_CAR                     | null                             \n",
      " CR_PROD_CNT_PIL             | 0.2970151891124242               \n",
      " SUM_TRAN_CLO_TENDENCY1M     | 0.3616967882161805               \n",
      " APP_POSITION_TYPE           | null                             \n",
      " TURNOVER_CC                 | 12880.036771215046               \n",
      " TRANS_COUNT_ATM_PRC         | 0.3435694392089819               \n",
      " AMOUNT_RUB_ATM_PRC          | 0.36383211794857684              \n",
      " TURNOVER_PAYM               | 149500.39569037888               \n",
      " AGE                         | 136.27013317555193               \n",
      " CNT_TRAN_MED_TENDENCY3M     | 0.2816982760720958               \n",
      " CR_PROD_CNT_CC              | 0.2944057126966325               \n",
      " SUM_TRAN_MED_TENDENCY3M     | 0.32218285859133367              \n",
      " REST_DYNAMIC_FDEP_3M        | 0.0452032392198611               \n",
      " REST_DYNAMIC_IL_1M          | 0.024330152370462862             \n",
      " APP_EMP_TYPE                | null                             \n",
      " SUM_TRAN_CLO_TENDENCY3M     | 0.3225066278951264               \n",
      " LDEAL_TENOR_MAX             | 17.002651957318896               \n",
      " LDEAL_YQZ_CHRG              | 0.008089769086529742             \n",
      " CR_PROD_CNT_CCFP            | 0.07578586968203624              \n",
      " DEAL_YQZ_IR_MAX             | 14.644675678233964               \n",
      " LDEAL_YQZ_COM               | 0.10550099796453932              \n",
      " DEAL_YQZ_IR_MIN             | 14.166313483537584               \n",
      " CNT_TRAN_CLO_TENDENCY3M     | 0.2897660650660304               \n",
      " REST_DYNAMIC_CUR_1M         | 0.23584397268145119              \n",
      " REST_AVG_PAYM               | 48466.48073709917                \n",
      " LDEAL_TENOR_MIN             | 12.92572163905782                \n",
      " LDEAL_AMT_MONTH             | 488164.04884882085               \n",
      " APP_COMP_TYPE               | null                             \n",
      " LDEAL_GRACE_DAYS_PCT_MED    | 0.03940742675653829              \n",
      " REST_DYNAMIC_CUR_3M         | 0.2992561770431862               \n",
      " CNT_TRAN_SUP_TENDENCY3M     | 0.2674816715825597               \n",
      " TURNOVER_DYNAMIC_CUR_1M     | 0.25481806293456993              \n",
      " REST_DYNAMIC_PAYM_3M        | 0.2044623207249102               \n",
      " SUM_TRAN_SUP_TENDENCY3M     | 0.294858011538068                \n",
      " REST_DYNAMIC_IL_3M          | 0.057575790500710086             \n",
      " CNT_TRAN_ATM_TENDENCY3M     | 0.2629768340531934               \n",
      " CNT_TRAN_ATM_TENDENCY1M     | 0.2743734658263214               \n",
      " TURNOVER_DYNAMIC_IL_3M      | 0.0533422608493053               \n",
      " SUM_TRAN_ATM_TENDENCY3M     | 0.3026032756752751               \n",
      " DEAL_GRACE_DAYS_ACC_S1X1    | 0.1442882314066936               \n",
      " AVG_PCT_MONTH_TO_PCLOSE     | 4.354124569427227                \n",
      " DEAL_YWZ_IR_MIN             | 12.44064217199656                \n",
      " SUM_TRAN_SUP_TENDENCY1M     | 0.3013227700060311               \n",
      " DEAL_YWZ_IR_MAX             | 10.50352031836963                \n",
      " SUM_TRAN_ATM_TENDENCY1M     | 0.30573504396274637              \n",
      " REST_DYNAMIC_PAYM_1M        | 0.09720859415862905              \n",
      " CNT_TRAN_SUP_TENDENCY1M     | 0.2814522352537282               \n",
      " DEAL_GRACE_DAYS_ACC_AVG     | 0.13839885258423087              \n",
      " TURNOVER_DYNAMIC_CUR_3M     | 0.3317021333613952               \n",
      " PACK                        | 26.535235217959187               \n",
      " MAX_PCLOSE_DATE             | 28.81090729239214                \n",
      " LDEAL_YQZ_PC                | 0.05894311802094303              \n",
      " CLNT_SETUP_TENOR            | 2.9362426237573995               \n",
      " DEAL_GRACE_DAYS_ACC_MAX     | 0.1659987395474209               \n",
      " TURNOVER_DYNAMIC_PAYM_3M    | 0.20708338102361667              \n",
      " LDEAL_DELINQ_PER_MAXYQZ     | 0.38689198676955344              \n",
      " TURNOVER_DYNAMIC_PAYM_1M    | 0.1046182276947775               \n",
      " CLNT_SALARY_VALUE           | 58970.820280957254               \n",
      " TRANS_AMOUNT_TENDENCY3M     | 0.2820459685968757               \n",
      " MED_DEBT_PRC_YQZ            | 0.2612856442224521               \n",
      " TRANS_CNT_TENDENCY3M        | 0.24711978698207776              \n",
      " LDEAL_USED_AMT_AVG_YQZ      | 0.3223407829192837               \n",
      " REST_DYNAMIC_CC_1M          | 0.02687150904594425              \n",
      " LDEAL_USED_AMT_AVG_YWZ      | 0.29710216053800587              \n",
      " TURNOVER_DYNAMIC_CC_1M      | 0.02862896596829416              \n",
      " AVG_PCT_DEBT_TO_DEAL_AMT    | 1.0237441066791995               \n",
      " LDEAL_ACT_DAYS_ACC_PCT_AVG  | 0.13526488013109486              \n",
      " REST_DYNAMIC_CC_3M          | 0.06703226167257377              \n",
      " MED_DEBT_PRC_YWZ            | 0.21612277078192654              \n",
      " LDEAL_ACT_DAYS_PCT_TR3      | 0.1155870415275421               \n",
      " LDEAL_ACT_DAYS_PCT_AAVG     | 0.18623747409466695              \n",
      " LDEAL_DELINQ_PER_MAXYWZ     | 0.09437647120018305              \n",
      " TURNOVER_DYNAMIC_CC_3M      | 0.060916655786840586             \n",
      " LDEAL_ACT_DAYS_PCT_TR       | 0.09696644206613277              \n",
      " LDEAL_ACT_DAYS_PCT_TR4      | 0.09696644206613277              \n",
      " LDEAL_ACT_DAYS_PCT_CURR     | 0.09696644206613277              \n",
      " TARGET                      | 0.2736677398635232               \n",
      "-RECORD 3-------------------------------------------------------\n",
      " summary                     | min                              \n",
      " _c0                         | 0                                \n",
      " ID                          | 146841                           \n",
      " CR_PROD_CNT_IL              | 0                                \n",
      " AMOUNT_RUB_CLO_PRC          | 0.0                              \n",
      " PRC_ACCEPTS_A_EMAIL_LINK    | 0.0                              \n",
      " APP_REGISTR_RGN_CODE        | 0.0                              \n",
      " PRC_ACCEPTS_A_POS           | 0.0                              \n",
      " PRC_ACCEPTS_A_TK            | 0.0                              \n",
      " TURNOVER_DYNAMIC_IL_1M      | 0.0                              \n",
      " CNT_TRAN_AUT_TENDENCY1M     | 0.00694444444444444              \n",
      " SUM_TRAN_AUT_TENDENCY1M     | 0.0                              \n",
      " AMOUNT_RUB_SUP_PRC          | 0.0                              \n",
      " PRC_ACCEPTS_A_AMOBILE       | 0.0                              \n",
      " SUM_TRAN_AUT_TENDENCY3M     | 4.7131572497784795E-6            \n",
      " CLNT_TRUST_RELATION         | BROTHER                          \n",
      " PRC_ACCEPTS_TK              | 0.0                              \n",
      " PRC_ACCEPTS_A_MTP           | 0.0                              \n",
      " REST_DYNAMIC_FDEP_1M        | 0.0                              \n",
      " CNT_TRAN_AUT_TENDENCY3M     | 0.008                            \n",
      " CNT_ACCEPTS_TK              | 0.0                              \n",
      " APP_MARITAL_STATUS          |                                  \n",
      " REST_DYNAMIC_SAVE_3M        | 0.0                              \n",
      " CR_PROD_CNT_VCU             | 0                                \n",
      " REST_AVG_CUR                | 0.0                              \n",
      " CNT_TRAN_MED_TENDENCY1M     | 0.0103092783505155               \n",
      " APP_KIND_OF_PROP_HABITATION | JO                               \n",
      " CLNT_JOB_POSITION_TYPE      | MANAGER                          \n",
      " AMOUNT_RUB_NAS_PRC          | 0.0                              \n",
      " CLNT_JOB_POSITION           | \"Арт-директор журнала \"\"Башня\"\"\" \n",
      " APP_DRIVING_LICENSE         | N                                \n",
      " TRANS_COUNT_SUP_PRC         | 0.0                              \n",
      " APP_EDUCATION               | A                                \n",
      " CNT_TRAN_CLO_TENDENCY1M     | 0.0104166666666667               \n",
      " SUM_TRAN_MED_TENDENCY1M     | 0.0                              \n",
      " PRC_ACCEPTS_A_ATM           | 0.0                              \n",
      " PRC_ACCEPTS_MTP             | 0.0                              \n",
      " TRANS_COUNT_NAS_PRC         | 0.0                              \n",
      " APP_TRAVEL_PASS             | N                                \n",
      " CNT_ACCEPTS_MTP             | 0.0                              \n",
      " CR_PROD_CNT_TOVR            | 0                                \n",
      " APP_CAR                     | N                                \n",
      " CR_PROD_CNT_PIL             | 0                                \n",
      " SUM_TRAN_CLO_TENDENCY1M     | 1.2595251590150501E-5            \n",
      " APP_POSITION_TYPE           | MANAGER                          \n",
      " TURNOVER_CC                 | 0.0                              \n",
      " TRANS_COUNT_ATM_PRC         | 0.0                              \n",
      " AMOUNT_RUB_ATM_PRC          | 0.0                              \n",
      " TURNOVER_PAYM               | 0.0                              \n",
      " AGE                         | 168                              \n",
      " CNT_TRAN_MED_TENDENCY3M     | 0.0217391304347826               \n",
      " CR_PROD_CNT_CC              | 0                                \n",
      " SUM_TRAN_MED_TENDENCY3M     | 0.0                              \n",
      " REST_DYNAMIC_FDEP_3M        | 0.0                              \n",
      " REST_DYNAMIC_IL_1M          | 0.0                              \n",
      " APP_EMP_TYPE                | INTER                            \n",
      " SUM_TRAN_CLO_TENDENCY3M     | 0.0                              \n",
      " LDEAL_TENOR_MAX             | 0.0                              \n",
      " LDEAL_YQZ_CHRG              | 3.08928019771393E-8              \n",
      " CR_PROD_CNT_CCFP            | 0                                \n",
      " DEAL_YQZ_IR_MAX             | 7.5                              \n",
      " LDEAL_YQZ_COM               | 2.8666666666666698E-5            \n",
      " DEAL_YQZ_IR_MIN             | 7.5                              \n",
      " CNT_TRAN_CLO_TENDENCY3M     | 0.0196078431372549               \n",
      " REST_DYNAMIC_CUR_1M         | 0.0                              \n",
      " REST_AVG_PAYM               | 0.0                              \n",
      " LDEAL_TENOR_MIN             | 0.0                              \n",
      " LDEAL_AMT_MONTH             | 0.0                              \n",
      " APP_COMP_TYPE               | INTER                            \n",
      " LDEAL_GRACE_DAYS_PCT_MED    | 0.0                              \n",
      " REST_DYNAMIC_CUR_3M         | 0.0                              \n",
      " CNT_TRAN_SUP_TENDENCY3M     | 0.00869565217391304              \n",
      " TURNOVER_DYNAMIC_CUR_1M     | 0.0                              \n",
      " REST_DYNAMIC_PAYM_3M        | 0.0                              \n",
      " SUM_TRAN_SUP_TENDENCY3M     | 5.07208703701356E-7              \n",
      " REST_DYNAMIC_IL_3M          | 0.0                              \n",
      " CNT_TRAN_ATM_TENDENCY3M     | 0.00552486187845304              \n",
      " CNT_TRAN_ATM_TENDENCY1M     | 0.00317057704502219              \n",
      " TURNOVER_DYNAMIC_IL_3M      | 0.0                              \n",
      " SUM_TRAN_ATM_TENDENCY3M     | 5.64900020670964E-5              \n",
      " DEAL_GRACE_DAYS_ACC_S1X1    | 0.0                              \n",
      " AVG_PCT_MONTH_TO_PCLOSE     | -33.290322580645196              \n",
      " DEAL_YWZ_IR_MIN             | 0.0                              \n",
      " SUM_TRAN_SUP_TENDENCY1M     | 5.07208703701356E-7              \n",
      " DEAL_YWZ_IR_MAX             | 0.0                              \n",
      " SUM_TRAN_ATM_TENDENCY1M     | 6.34770911474671E-6              \n",
      " REST_DYNAMIC_PAYM_1M        | 0.0                              \n",
      " CNT_TRAN_SUP_TENDENCY1M     | 0.00425531914893617              \n",
      " DEAL_GRACE_DAYS_ACC_AVG     | 0.0                              \n",
      " TURNOVER_DYNAMIC_CUR_3M     | 0.0                              \n",
      " PACK                        | 101                              \n",
      " MAX_PCLOSE_DATE             | -103.354838709677                \n",
      " LDEAL_YQZ_PC                | 7.08333333333333E-8              \n",
      " CLNT_SETUP_TENOR            | 0.345592455694942                \n",
      " DEAL_GRACE_DAYS_ACC_MAX     | 0.0                              \n",
      " TURNOVER_DYNAMIC_PAYM_3M    | 0.0                              \n",
      " LDEAL_DELINQ_PER_MAXYQZ     | 0.0                              \n",
      " TURNOVER_DYNAMIC_PAYM_1M    | 0.0                              \n",
      " CLNT_SALARY_VALUE           | 0.75                             \n",
      " TRANS_AMOUNT_TENDENCY3M     | 0.0                              \n",
      " MED_DEBT_PRC_YQZ            | 0.0                              \n",
      " TRANS_CNT_TENDENCY3M        | 0.00571428571428571              \n",
      " LDEAL_USED_AMT_AVG_YQZ      | 0.0                              \n",
      " REST_DYNAMIC_CC_1M          | 0.0                              \n",
      " LDEAL_USED_AMT_AVG_YWZ      | 0.0                              \n",
      " TURNOVER_DYNAMIC_CC_1M      | 0.0                              \n",
      " AVG_PCT_DEBT_TO_DEAL_AMT    | 0.0                              \n",
      " LDEAL_ACT_DAYS_ACC_PCT_AVG  | 0.0                              \n",
      " REST_DYNAMIC_CC_3M          | 0.0                              \n",
      " MED_DEBT_PRC_YWZ            | 0.0                              \n",
      " LDEAL_ACT_DAYS_PCT_TR3      | 0.0                              \n",
      " LDEAL_ACT_DAYS_PCT_AAVG     | 0.0                              \n",
      " LDEAL_DELINQ_PER_MAXYWZ     | 0.0                              \n",
      " TURNOVER_DYNAMIC_CC_3M      | 0.0                              \n",
      " LDEAL_ACT_DAYS_PCT_TR       | 0.0                              \n",
      " LDEAL_ACT_DAYS_PCT_TR4      | 0.0                              \n",
      " LDEAL_ACT_DAYS_PCT_CURR     | 0.0                              \n",
      " TARGET                      | 0                                \n",
      "-RECORD 4-------------------------------------------------------\n",
      " summary                     | 25%                              \n",
      " _c0                         | 110939                           \n",
      " ID                          | 257780                           \n",
      " CR_PROD_CNT_IL              | 0                                \n",
      " AMOUNT_RUB_CLO_PRC          | 0.0                              \n",
      " PRC_ACCEPTS_A_EMAIL_LINK    | 0.0                              \n",
      " APP_REGISTR_RGN_CODE        | 33.0                             \n",
      " PRC_ACCEPTS_A_POS           | 0.0                              \n",
      " PRC_ACCEPTS_A_TK            | 0.0                              \n",
      " TURNOVER_DYNAMIC_IL_1M      | 0.0                              \n",
      " CNT_TRAN_AUT_TENDENCY1M     | 0.166666666666667                \n",
      " SUM_TRAN_AUT_TENDENCY1M     | 0.139966273187184                \n",
      " AMOUNT_RUB_SUP_PRC          | 0.0                              \n",
      " PRC_ACCEPTS_A_AMOBILE       | 0.0                              \n",
      " SUM_TRAN_AUT_TENDENCY3M     | 0.445008030514761                \n",
      " CLNT_TRUST_RELATION         | null                             \n",
      " PRC_ACCEPTS_TK              | 0.0                              \n",
      " PRC_ACCEPTS_A_MTP           | 0.0                              \n",
      " REST_DYNAMIC_FDEP_1M        | 0.0                              \n",
      " CNT_TRAN_AUT_TENDENCY3M     | 0.5                              \n",
      " CNT_ACCEPTS_TK              | 0.0                              \n",
      " APP_MARITAL_STATUS          | null                             \n",
      " REST_DYNAMIC_SAVE_3M        | 0.0                              \n",
      " CR_PROD_CNT_VCU             | 0                                \n",
      " REST_AVG_CUR                | 4040.3819833333296               \n",
      " CNT_TRAN_MED_TENDENCY1M     | 0.18181818181818202              \n",
      " APP_KIND_OF_PROP_HABITATION | null                             \n",
      " CLNT_JOB_POSITION_TYPE      | null                             \n",
      " AMOUNT_RUB_NAS_PRC          | 0.0                              \n",
      " CLNT_JOB_POSITION           | 4.232324898E9                    \n",
      " APP_DRIVING_LICENSE         | null                             \n",
      " TRANS_COUNT_SUP_PRC         | 0.0                              \n",
      " APP_EDUCATION               | null                             \n",
      " CNT_TRAN_CLO_TENDENCY1M     | 0.2                              \n",
      " SUM_TRAN_MED_TENDENCY1M     | 0.118132447387466                \n",
      " PRC_ACCEPTS_A_ATM           | 0.0                              \n",
      " PRC_ACCEPTS_MTP             | 0.0                              \n",
      " TRANS_COUNT_NAS_PRC         | 0.0                              \n",
      " APP_TRAVEL_PASS             | null                             \n",
      " CNT_ACCEPTS_MTP             | 0.0                              \n",
      " CR_PROD_CNT_TOVR            | 0                                \n",
      " APP_CAR                     | null                             \n",
      " CR_PROD_CNT_PIL             | 0                                \n",
      " SUM_TRAN_CLO_TENDENCY1M     | 0.148044055247621                \n",
      " APP_POSITION_TYPE           | null                             \n",
      " TURNOVER_CC                 | 0.0                              \n",
      " TRANS_COUNT_ATM_PRC         | 0.0833333333333333               \n",
      " AMOUNT_RUB_ATM_PRC          | 0.26789454746837305              \n",
      " TURNOVER_PAYM               | 0.0                              \n",
      " AGE                         | 348                              \n",
      " CNT_TRAN_MED_TENDENCY3M     | 0.5                              \n",
      " CR_PROD_CNT_CC              | 0                                \n",
      " SUM_TRAN_MED_TENDENCY3M     | 0.426719074502729                \n",
      " REST_DYNAMIC_FDEP_3M        | 0.0                              \n",
      " REST_DYNAMIC_IL_1M          | 0.0                              \n",
      " APP_EMP_TYPE                | null                             \n",
      " SUM_TRAN_CLO_TENDENCY3M     | 0.423191207854046                \n",
      " LDEAL_TENOR_MAX             | 11.0                             \n",
      " LDEAL_YQZ_CHRG              | 1.99984089101034E-4              \n",
      " CR_PROD_CNT_CCFP            | 0                                \n",
      " DEAL_YQZ_IR_MAX             | 17.49                            \n",
      " LDEAL_YQZ_COM               | 0.00853890016920474              \n",
      " DEAL_YQZ_IR_MIN             | 17.0                             \n",
      " CNT_TRAN_CLO_TENDENCY3M     | 0.5                              \n",
      " REST_DYNAMIC_CUR_1M         | 0.0634292517605176               \n",
      " REST_AVG_PAYM               | 0.0                              \n",
      " LDEAL_TENOR_MIN             | 6.0                              \n",
      " LDEAL_AMT_MONTH             | 0.0                              \n",
      " APP_COMP_TYPE               | null                             \n",
      " LDEAL_GRACE_DAYS_PCT_MED    | 0.0                              \n",
      " REST_DYNAMIC_CUR_3M         | 0.317241387145043                \n",
      " CNT_TRAN_SUP_TENDENCY3M     | 0.4479166666666671               \n",
      " TURNOVER_DYNAMIC_CUR_1M     | 0.0143655753455681               \n",
      " REST_DYNAMIC_PAYM_3M        | 0.0                              \n",
      " SUM_TRAN_SUP_TENDENCY3M     | 0.402983422227556                \n",
      " REST_DYNAMIC_IL_3M          | 0.0                              \n",
      " CNT_TRAN_ATM_TENDENCY3M     | 0.43478260869565205              \n",
      " CNT_TRAN_ATM_TENDENCY1M     | 0.14285714285714302              \n",
      " TURNOVER_DYNAMIC_IL_3M      | 0.0                              \n",
      " SUM_TRAN_ATM_TENDENCY3M     | 0.39227677791368204              \n",
      " DEAL_GRACE_DAYS_ACC_S1X1    | 0.0                              \n",
      " AVG_PCT_MONTH_TO_PCLOSE     | -3.0672043010752703              \n",
      " DEAL_YWZ_IR_MIN             | 25.99                            \n",
      " SUM_TRAN_SUP_TENDENCY1M     | 0.111879978714261                \n",
      " DEAL_YWZ_IR_MAX             | 45.0                             \n",
      " SUM_TRAN_ATM_TENDENCY1M     | 0.100405679513185                \n",
      " REST_DYNAMIC_PAYM_1M        | 0.0                              \n",
      " CNT_TRAN_SUP_TENDENCY1M     | 0.14285714285714302              \n",
      " DEAL_GRACE_DAYS_ACC_AVG     | 0.0                              \n",
      " TURNOVER_DYNAMIC_CUR_3M     | 0.216997273912719                \n",
      " PACK                        | 102.0                            \n",
      " MAX_PCLOSE_DATE             | -31.451612903225797              \n",
      " LDEAL_YQZ_PC                | 0.00629352226219655              \n",
      " CLNT_SETUP_TENOR            | 1.78107632666268                 \n",
      " DEAL_GRACE_DAYS_ACC_MAX     | 0.0                              \n",
      " TURNOVER_DYNAMIC_PAYM_3M    | 0.0                              \n",
      " LDEAL_DELINQ_PER_MAXYQZ     | 0.0                              \n",
      " TURNOVER_DYNAMIC_PAYM_1M    | 0.0                              \n",
      " CLNT_SALARY_VALUE           | 11000.0                          \n",
      " TRANS_AMOUNT_TENDENCY3M     | 0.38379689733736405              \n",
      " MED_DEBT_PRC_YQZ            | 1.0                              \n",
      " TRANS_CNT_TENDENCY3M        | 0.42857142857142894              \n",
      " LDEAL_USED_AMT_AVG_YQZ      | 0.13451757135619                 \n",
      " REST_DYNAMIC_CC_1M          | 0.0                              \n",
      " LDEAL_USED_AMT_AVG_YWZ      | 1.0                              \n",
      " TURNOVER_DYNAMIC_CC_1M      | 0.0                              \n",
      " AVG_PCT_DEBT_TO_DEAL_AMT    | 0.0                              \n",
      " LDEAL_ACT_DAYS_ACC_PCT_AVG  | 0.0                              \n",
      " REST_DYNAMIC_CC_3M          | 0.0                              \n",
      " MED_DEBT_PRC_YWZ            | 0.0                              \n",
      " LDEAL_ACT_DAYS_PCT_TR3      | 0.0                              \n",
      " LDEAL_ACT_DAYS_PCT_AAVG     | 0.0                              \n",
      " LDEAL_DELINQ_PER_MAXYWZ     | 0.0                              \n",
      " TURNOVER_DYNAMIC_CC_3M      | 0.0                              \n",
      " LDEAL_ACT_DAYS_PCT_TR       | 0.0                              \n",
      " LDEAL_ACT_DAYS_PCT_TR4      | 0.0                              \n",
      " LDEAL_ACT_DAYS_PCT_CURR     | 0.0                              \n",
      " TARGET                      | 0                                \n",
      "-RECORD 5-------------------------------------------------------\n",
      " summary                     | 50%                              \n",
      " _c0                         | 222019                           \n",
      " ID                          | 368860                           \n",
      " CR_PROD_CNT_IL              | 0                                \n",
      " AMOUNT_RUB_CLO_PRC          | 0.0                              \n",
      " PRC_ACCEPTS_A_EMAIL_LINK    | 0.0                              \n",
      " APP_REGISTR_RGN_CODE        | 54.0                             \n",
      " PRC_ACCEPTS_A_POS           | 0.0                              \n",
      " PRC_ACCEPTS_A_TK            | 0.0                              \n",
      " TURNOVER_DYNAMIC_IL_1M      | 0.0                              \n",
      " CNT_TRAN_AUT_TENDENCY1M     | 0.3                              \n",
      " SUM_TRAN_AUT_TENDENCY1M     | 0.286332934163408                \n",
      " AMOUNT_RUB_SUP_PRC          | 0.027037259357106002             \n",
      " PRC_ACCEPTS_A_AMOBILE       | 0.0                              \n",
      " SUM_TRAN_AUT_TENDENCY3M     | 0.7228677785032679               \n",
      " CLNT_TRUST_RELATION         | null                             \n",
      " PRC_ACCEPTS_TK              | 0.0                              \n",
      " PRC_ACCEPTS_A_MTP           | 0.0                              \n",
      " REST_DYNAMIC_FDEP_1M        | 0.0                              \n",
      " CNT_TRAN_AUT_TENDENCY3M     | 0.666666666666667                \n",
      " CNT_ACCEPTS_TK              | 0.0                              \n",
      " APP_MARITAL_STATUS          | null                             \n",
      " REST_DYNAMIC_SAVE_3M        | 0.0                              \n",
      " CR_PROD_CNT_VCU             | 0                                \n",
      " REST_AVG_CUR                | 16229.5542                       \n",
      " CNT_TRAN_MED_TENDENCY1M     | 0.33333333333333304              \n",
      " APP_KIND_OF_PROP_HABITATION | null                             \n",
      " CLNT_JOB_POSITION_TYPE      | null                             \n",
      " AMOUNT_RUB_NAS_PRC          | 0.0                              \n",
      " CLNT_JOB_POSITION           | 7.3422910226E10                  \n",
      " APP_DRIVING_LICENSE         | null                             \n",
      " TRANS_COUNT_SUP_PRC         | 0.146666666666667                \n",
      " APP_EDUCATION               | null                             \n",
      " CNT_TRAN_CLO_TENDENCY1M     | 0.36363636363636404              \n",
      " SUM_TRAN_MED_TENDENCY1M     | 0.30880682567101797              \n",
      " PRC_ACCEPTS_A_ATM           | 0.0                              \n",
      " PRC_ACCEPTS_MTP             | 0.0                              \n",
      " TRANS_COUNT_NAS_PRC         | 0.0                              \n",
      " APP_TRAVEL_PASS             | null                             \n",
      " CNT_ACCEPTS_MTP             | 0.0                              \n",
      " CR_PROD_CNT_TOVR            | 0                                \n",
      " APP_CAR                     | null                             \n",
      " CR_PROD_CNT_PIL             | 0                                \n",
      " SUM_TRAN_CLO_TENDENCY1M     | 0.36311632361040397              \n",
      " APP_POSITION_TYPE           | null                             \n",
      " TURNOVER_CC                 | 0.0                              \n",
      " TRANS_COUNT_ATM_PRC         | 0.25                             \n",
      " AMOUNT_RUB_ATM_PRC          | 0.6901925198688461               \n",
      " TURNOVER_PAYM               | 0.0                              \n",
      " AGE                         | 432                              \n",
      " CNT_TRAN_MED_TENDENCY3M     | 0.695652173913043                \n",
      " CR_PROD_CNT_CC              | 0                                \n",
      " SUM_TRAN_MED_TENDENCY3M     | 0.795480862516822                \n",
      " REST_DYNAMIC_FDEP_3M        | 0.0                              \n",
      " REST_DYNAMIC_IL_1M          | 0.0                              \n",
      " APP_EMP_TYPE                | null                             \n",
      " SUM_TRAN_CLO_TENDENCY3M     | 0.796520003711475                \n",
      " LDEAL_TENOR_MAX             | 19.0                             \n",
      " LDEAL_YQZ_CHRG              | 0.00148809523809524              \n",
      " CR_PROD_CNT_CCFP            | 0                                \n",
      " DEAL_YQZ_IR_MAX             | 23.0                             \n",
      " LDEAL_YQZ_COM               | 0.0178571428571429               \n",
      " DEAL_YQZ_IR_MIN             | 22.99                            \n",
      " CNT_TRAN_CLO_TENDENCY3M     | 0.7142857142857142               \n",
      " REST_DYNAMIC_CUR_1M         | 0.148144166630179                \n",
      " REST_AVG_PAYM               | 0.0                              \n",
      " LDEAL_TENOR_MIN             | 12.0                             \n",
      " LDEAL_AMT_MONTH             | 8200.6867                        \n",
      " APP_COMP_TYPE               | null                             \n",
      " LDEAL_GRACE_DAYS_PCT_MED    | 0.0                              \n",
      " REST_DYNAMIC_CUR_3M         | 0.492999407653976                \n",
      " CNT_TRAN_SUP_TENDENCY3M     | 0.6071428571428571               \n",
      " TURNOVER_DYNAMIC_CUR_1M     | 0.127362503757561                \n",
      " REST_DYNAMIC_PAYM_3M        | 0.0                              \n",
      " SUM_TRAN_SUP_TENDENCY3M     | 0.6050015028457629               \n",
      " REST_DYNAMIC_IL_3M          | 0.0                              \n",
      " CNT_TRAN_ATM_TENDENCY3M     | 0.590909090909091                \n",
      " CNT_TRAN_ATM_TENDENCY1M     | 0.22727272727272702              \n",
      " TURNOVER_DYNAMIC_IL_3M      | 0.0                              \n",
      " SUM_TRAN_ATM_TENDENCY3M     | 0.6                              \n",
      " DEAL_GRACE_DAYS_ACC_S1X1    | 0.0                              \n",
      " AVG_PCT_MONTH_TO_PCLOSE     | -0.82258064516129                \n",
      " DEAL_YWZ_IR_MIN             | 45.0                             \n",
      " SUM_TRAN_SUP_TENDENCY1M     | 0.21252040102588002              \n",
      " DEAL_YWZ_IR_MAX             | 45.0                             \n",
      " SUM_TRAN_ATM_TENDENCY1M     | 0.203791049018788                \n",
      " REST_DYNAMIC_PAYM_1M        | 0.0                              \n",
      " CNT_TRAN_SUP_TENDENCY1M     | 0.24                             \n",
      " DEAL_GRACE_DAYS_ACC_AVG     | 0.0                              \n",
      " TURNOVER_DYNAMIC_CUR_3M     | 0.494311523175623                \n",
      " PACK                        | 102.0                            \n",
      " MAX_PCLOSE_DATE             | -9.7741935483871                 \n",
      " LDEAL_YQZ_PC                | 0.01722411                       \n",
      " CLNT_SETUP_TENOR            | 3.90216267174432                 \n",
      " DEAL_GRACE_DAYS_ACC_MAX     | 0.0                              \n",
      " TURNOVER_DYNAMIC_PAYM_3M    | 0.0                              \n",
      " LDEAL_DELINQ_PER_MAXYQZ     | 0.0                              \n",
      " TURNOVER_DYNAMIC_PAYM_1M    | 0.0                              \n",
      " CLNT_SALARY_VALUE           | 20010.0                          \n",
      " TRANS_AMOUNT_TENDENCY3M     | 0.552489226277457                \n",
      " MED_DEBT_PRC_YQZ            | 1.0                              \n",
      " TRANS_CNT_TENDENCY3M        | 0.558823529411765                \n",
      " LDEAL_USED_AMT_AVG_YQZ      | 0.3813756807837129               \n",
      " REST_DYNAMIC_CC_1M          | 0.0                              \n",
      " LDEAL_USED_AMT_AVG_YWZ      | 1.0                              \n",
      " TURNOVER_DYNAMIC_CC_1M      | 0.0                              \n",
      " AVG_PCT_DEBT_TO_DEAL_AMT    | 0.0804645956                     \n",
      " LDEAL_ACT_DAYS_ACC_PCT_AVG  | 0.00879043600562588              \n",
      " REST_DYNAMIC_CC_3M          | 0.0                              \n",
      " MED_DEBT_PRC_YWZ            | 0.0                              \n",
      " LDEAL_ACT_DAYS_PCT_TR3      | 0.0                              \n",
      " LDEAL_ACT_DAYS_PCT_AAVG     | 0.0                              \n",
      " LDEAL_DELINQ_PER_MAXYWZ     | 0.0                              \n",
      " TURNOVER_DYNAMIC_CC_3M      | 0.0                              \n",
      " LDEAL_ACT_DAYS_PCT_TR       | 0.0                              \n",
      " LDEAL_ACT_DAYS_PCT_TR4      | 0.0                              \n",
      " LDEAL_ACT_DAYS_PCT_CURR     | 0.0                              \n",
      " TARGET                      | 0                                \n",
      "-RECORD 6-------------------------------------------------------\n",
      " summary                     | 75%                              \n",
      " _c0                         | 332813                           \n",
      " ID                          | 479654                           \n",
      " CR_PROD_CNT_IL              | 0                                \n",
      " AMOUNT_RUB_CLO_PRC          | 0.0368686101065423               \n",
      " PRC_ACCEPTS_A_EMAIL_LINK    | 0.0                              \n",
      " APP_REGISTR_RGN_CODE        | 72.0                             \n",
      " PRC_ACCEPTS_A_POS           | 0.0                              \n",
      " PRC_ACCEPTS_A_TK            | 0.0                              \n",
      " TURNOVER_DYNAMIC_IL_1M      | 0.0                              \n",
      " CNT_TRAN_AUT_TENDENCY1M     | 0.5714285714285711               \n",
      " SUM_TRAN_AUT_TENDENCY1M     | 0.6584017124509449               \n",
      " AMOUNT_RUB_SUP_PRC          | 0.109941741959312                \n",
      " PRC_ACCEPTS_A_AMOBILE       | 0.0                              \n",
      " SUM_TRAN_AUT_TENDENCY3M     | 1.0                              \n",
      " CLNT_TRUST_RELATION         | null                             \n",
      " PRC_ACCEPTS_TK              | 0.0                              \n",
      " PRC_ACCEPTS_A_MTP           | 0.0                              \n",
      " REST_DYNAMIC_FDEP_1M        | 0.0                              \n",
      " CNT_TRAN_AUT_TENDENCY3M     | 1.0                              \n",
      " CNT_ACCEPTS_TK              | 0.0                              \n",
      " APP_MARITAL_STATUS          | null                             \n",
      " REST_DYNAMIC_SAVE_3M        | 0.0                              \n",
      " CR_PROD_CNT_VCU             | 0                                \n",
      " REST_AVG_CUR                | 56694.9903666667                 \n",
      " CNT_TRAN_MED_TENDENCY1M     | 0.666666666666667                \n",
      " APP_KIND_OF_PROP_HABITATION | null                             \n",
      " CLNT_JOB_POSITION_TYPE      | null                             \n",
      " AMOUNT_RUB_NAS_PRC          | 0.0105816694158873               \n",
      " CLNT_JOB_POSITION           | 4.081781030027093E19             \n",
      " APP_DRIVING_LICENSE         | null                             \n",
      " TRANS_COUNT_SUP_PRC         | 0.31067961165048497              \n",
      " APP_EDUCATION               | null                             \n",
      " CNT_TRAN_CLO_TENDENCY1M     | 0.75                             \n",
      " SUM_TRAN_MED_TENDENCY1M     | 0.801993400866127                \n",
      " PRC_ACCEPTS_A_ATM           | 0.0                              \n",
      " PRC_ACCEPTS_MTP             | 0.0                              \n",
      " TRANS_COUNT_NAS_PRC         | 0.0483091787439614               \n",
      " APP_TRAVEL_PASS             | null                             \n",
      " CNT_ACCEPTS_MTP             | 0.0                              \n",
      " CR_PROD_CNT_TOVR            | 1                                \n",
      " APP_CAR                     | null                             \n",
      " CR_PROD_CNT_PIL             | 0                                \n",
      " SUM_TRAN_CLO_TENDENCY1M     | 0.8990621522810359               \n",
      " APP_POSITION_TYPE           | null                             \n",
      " TURNOVER_CC                 | 0.0                              \n",
      " TRANS_COUNT_ATM_PRC         | 0.617647058823529                \n",
      " AMOUNT_RUB_ATM_PRC          | 0.9545602840530341               \n",
      " TURNOVER_PAYM               | 0.0                              \n",
      " AGE                         | 552                              \n",
      " CNT_TRAN_MED_TENDENCY3M     | 1.0                              \n",
      " CR_PROD_CNT_CC              | 0                                \n",
      " SUM_TRAN_MED_TENDENCY3M     | 1.0                              \n",
      " REST_DYNAMIC_FDEP_3M        | 0.0                              \n",
      " REST_DYNAMIC_IL_1M          | 0.0                              \n",
      " APP_EMP_TYPE                | null                             \n",
      " SUM_TRAN_CLO_TENDENCY3M     | 1.0                              \n",
      " LDEAL_TENOR_MAX             | 36.0                             \n",
      " LDEAL_YQZ_CHRG              | 0.00655663157894737              \n",
      " CR_PROD_CNT_CCFP            | 0                                \n",
      " DEAL_YQZ_IR_MAX             | 29.99                            \n",
      " LDEAL_YQZ_COM               | 0.166666666666667                \n",
      " DEAL_YQZ_IR_MIN             | 29.0                             \n",
      " CNT_TRAN_CLO_TENDENCY3M     | 1.0                              \n",
      " REST_DYNAMIC_CUR_1M         | 0.251843492711953                \n",
      " REST_AVG_PAYM               | 0.0                              \n",
      " LDEAL_TENOR_MIN             | 24.0                             \n",
      " LDEAL_AMT_MONTH             | 183652.4                         \n",
      " APP_COMP_TYPE               | null                             \n",
      " LDEAL_GRACE_DAYS_PCT_MED    | 0.0                              \n",
      " REST_DYNAMIC_CUR_3M         | 0.690814744016954                \n",
      " CNT_TRAN_SUP_TENDENCY3M     | 0.956521739130435                \n",
      " TURNOVER_DYNAMIC_CUR_1M     | 0.255483591011811                \n",
      " REST_DYNAMIC_PAYM_3M        | 0.0                              \n",
      " SUM_TRAN_SUP_TENDENCY3M     | 0.9862362509484192               \n",
      " REST_DYNAMIC_IL_3M          | 0.0                              \n",
      " CNT_TRAN_ATM_TENDENCY3M     | 0.8888888888888891               \n",
      " CNT_TRAN_ATM_TENDENCY1M     | 0.4                              \n",
      " TURNOVER_DYNAMIC_IL_3M      | 0.0                              \n",
      " SUM_TRAN_ATM_TENDENCY3M     | 0.9672995780590721               \n",
      " DEAL_GRACE_DAYS_ACC_S1X1    | 0.0                              \n",
      " AVG_PCT_MONTH_TO_PCLOSE     | -0.196774193548387               \n",
      " DEAL_YWZ_IR_MIN             | 45.0                             \n",
      " SUM_TRAN_SUP_TENDENCY1M     | 0.441774501283834                \n",
      " DEAL_YWZ_IR_MAX             | 45.0                             \n",
      " SUM_TRAN_ATM_TENDENCY1M     | 0.44037134015710494              \n",
      " REST_DYNAMIC_PAYM_1M        | 0.0                              \n",
      " CNT_TRAN_SUP_TENDENCY1M     | 0.444444444444444                \n",
      " DEAL_GRACE_DAYS_ACC_AVG     | 0.0                              \n",
      " TURNOVER_DYNAMIC_CUR_3M     | 0.72608099467811                 \n",
      " PACK                        | 105.0                            \n",
      " MAX_PCLOSE_DATE             | -3.51612903225806                \n",
      " LDEAL_YQZ_PC                | 0.033633893557422995             \n",
      " CLNT_SETUP_TENOR            | 6.55538847819594                 \n",
      " DEAL_GRACE_DAYS_ACC_MAX     | 0.0                              \n",
      " TURNOVER_DYNAMIC_PAYM_3M    | 0.0                              \n",
      " LDEAL_DELINQ_PER_MAXYQZ     | 0.0                              \n",
      " TURNOVER_DYNAMIC_PAYM_1M    | 0.0                              \n",
      " CLNT_SALARY_VALUE           | 38534.37                         \n",
      " TRANS_AMOUNT_TENDENCY3M     | 0.8195405868345269               \n",
      " MED_DEBT_PRC_YQZ            | 1.0                              \n",
      " TRANS_CNT_TENDENCY3M        | 0.7674418604651159               \n",
      " LDEAL_USED_AMT_AVG_YQZ      | 0.72433365328597                 \n",
      " REST_DYNAMIC_CC_1M          | 0.0                              \n",
      " LDEAL_USED_AMT_AVG_YWZ      | 1.0                              \n",
      " TURNOVER_DYNAMIC_CC_1M      | 0.0                              \n",
      " AVG_PCT_DEBT_TO_DEAL_AMT    | 0.684208012232416                \n",
      " LDEAL_ACT_DAYS_ACC_PCT_AVG  | 0.03358778625954201              \n",
      " REST_DYNAMIC_CC_3M          | 0.0                              \n",
      " MED_DEBT_PRC_YWZ            | 0.0                              \n",
      " LDEAL_ACT_DAYS_PCT_TR3      | 0.0                              \n",
      " LDEAL_ACT_DAYS_PCT_AAVG     | 0.0                              \n",
      " LDEAL_DELINQ_PER_MAXYWZ     | 0.0                              \n",
      " TURNOVER_DYNAMIC_CC_3M      | 0.0                              \n",
      " LDEAL_ACT_DAYS_PCT_TR       | 0.0                              \n",
      " LDEAL_ACT_DAYS_PCT_TR4      | 0.0                              \n",
      " LDEAL_ACT_DAYS_PCT_CURR     | 0.0                              \n",
      " TARGET                      | 0                                \n",
      "-RECORD 7-------------------------------------------------------\n",
      " summary                     | max                              \n",
      " _c0                         | 443987                           \n",
      " ID                          | 590828                           \n",
      " CR_PROD_CNT_IL              | 11                               \n",
      " AMOUNT_RUB_CLO_PRC          | 1.0                              \n",
      " PRC_ACCEPTS_A_EMAIL_LINK    | 0.0                              \n",
      " APP_REGISTR_RGN_CODE        | 89.0                             \n",
      " PRC_ACCEPTS_A_POS           | 0.0                              \n",
      " PRC_ACCEPTS_A_TK            | 0.0                              \n",
      " TURNOVER_DYNAMIC_IL_1M      | 1.0                              \n",
      " CNT_TRAN_AUT_TENDENCY1M     | 1.0                              \n",
      " SUM_TRAN_AUT_TENDENCY1M     | 1.0                              \n",
      " AMOUNT_RUB_SUP_PRC          | 1.0                              \n",
      " PRC_ACCEPTS_A_AMOBILE       | 0.0                              \n",
      " SUM_TRAN_AUT_TENDENCY3M     | 1.0                              \n",
      " CLNT_TRUST_RELATION         | мать                             \n",
      " PRC_ACCEPTS_TK              | 0.0                              \n",
      " PRC_ACCEPTS_A_MTP           | 0.0                              \n",
      " REST_DYNAMIC_FDEP_1M        | 1.0                              \n",
      " CNT_TRAN_AUT_TENDENCY3M     | 1.0                              \n",
      " CNT_ACCEPTS_TK              | 0.0                              \n",
      " APP_MARITAL_STATUS          | w                                \n",
      " REST_DYNAMIC_SAVE_3M        | 1.0                              \n",
      " CR_PROD_CNT_VCU             | 4                                \n",
      " REST_AVG_CUR                | 2.20214067691833E7               \n",
      " CNT_TRAN_MED_TENDENCY1M     | 1.0                              \n",
      " APP_KIND_OF_PROP_HABITATION | SO                               \n",
      " CLNT_JOB_POSITION_TYPE      | TOP_MANAGER                      \n",
      " AMOUNT_RUB_NAS_PRC          | 1.0                              \n",
      " CLNT_JOB_POSITION           | юристконсульт                    \n",
      " APP_DRIVING_LICENSE         | Y                                \n",
      " TRANS_COUNT_SUP_PRC         | 1.0                              \n",
      " APP_EDUCATION               | s                                \n",
      " CNT_TRAN_CLO_TENDENCY1M     | 1.0                              \n",
      " SUM_TRAN_MED_TENDENCY1M     | 1.0                              \n",
      " PRC_ACCEPTS_A_ATM           | 0.0                              \n",
      " PRC_ACCEPTS_MTP             | 0.0                              \n",
      " TRANS_COUNT_NAS_PRC         | 1.0                              \n",
      " APP_TRAVEL_PASS             | Y                                \n",
      " CNT_ACCEPTS_MTP             | 0.0                              \n",
      " CR_PROD_CNT_TOVR            | 13                               \n",
      " APP_CAR                     | Y                                \n",
      " CR_PROD_CNT_PIL             | 9                                \n",
      " SUM_TRAN_CLO_TENDENCY1M     | 1.0                              \n",
      " APP_POSITION_TYPE           | TOP_MANAGER                      \n",
      " TURNOVER_CC                 | 3753042.345                      \n",
      " TRANS_COUNT_ATM_PRC         | 1.0                              \n",
      " AMOUNT_RUB_ATM_PRC          | 1.0                              \n",
      " TURNOVER_PAYM               | 4.6280439311666705E7             \n",
      " AGE                         | 1128                             \n",
      " CNT_TRAN_MED_TENDENCY3M     | 1.0                              \n",
      " CR_PROD_CNT_CC              | 9                                \n",
      " SUM_TRAN_MED_TENDENCY3M     | 1.0                              \n",
      " REST_DYNAMIC_FDEP_3M        | 1.0                              \n",
      " REST_DYNAMIC_IL_1M          | 1.0                              \n",
      " APP_EMP_TYPE                | STATE                            \n",
      " SUM_TRAN_CLO_TENDENCY3M     | 1.0                              \n",
      " LDEAL_TENOR_MAX             | 242.0                            \n",
      " LDEAL_YQZ_CHRG              | 0.0811810862719936               \n",
      " CR_PROD_CNT_CCFP            | 4                                \n",
      " DEAL_YQZ_IR_MAX             | 94.0                             \n",
      " LDEAL_YQZ_COM               | 1.0                              \n",
      " DEAL_YQZ_IR_MIN             | 94.0                             \n",
      " CNT_TRAN_CLO_TENDENCY3M     | 1.0                              \n",
      " REST_DYNAMIC_CUR_1M         | 1.0                              \n",
      " REST_AVG_PAYM               | 5798600.31145                    \n",
      " LDEAL_TENOR_MIN             | 182.0                            \n",
      " LDEAL_AMT_MONTH             | 7337638.1775                     \n",
      " APP_COMP_TYPE               | STATE                            \n",
      " LDEAL_GRACE_DAYS_PCT_MED    | 1.0                              \n",
      " REST_DYNAMIC_CUR_3M         | 1.0                              \n",
      " CNT_TRAN_SUP_TENDENCY3M     | 1.0                              \n",
      " TURNOVER_DYNAMIC_CUR_1M     | 1.0                              \n",
      " REST_DYNAMIC_PAYM_3M        | 1.0                              \n",
      " SUM_TRAN_SUP_TENDENCY3M     | 1.0                              \n",
      " REST_DYNAMIC_IL_3M          | 1.0                              \n",
      " CNT_TRAN_ATM_TENDENCY3M     | 1.0                              \n",
      " CNT_TRAN_ATM_TENDENCY1M     | 1.0                              \n",
      " TURNOVER_DYNAMIC_IL_3M      | 1.0                              \n",
      " SUM_TRAN_ATM_TENDENCY3M     | 1.0                              \n",
      " DEAL_GRACE_DAYS_ACC_S1X1    | 4.53401360544218                 \n",
      " AVG_PCT_MONTH_TO_PCLOSE     | 0.967741935483871                \n",
      " DEAL_YWZ_IR_MIN             | 59.9                             \n",
      " SUM_TRAN_SUP_TENDENCY1M     | 1.0                              \n",
      " DEAL_YWZ_IR_MAX             | 59.9                             \n",
      " SUM_TRAN_ATM_TENDENCY1M     | 1.0                              \n",
      " REST_DYNAMIC_PAYM_1M        | 1.0                              \n",
      " CNT_TRAN_SUP_TENDENCY1M     | 1.0                              \n",
      " DEAL_GRACE_DAYS_ACC_AVG     | 4.6887755102040805               \n",
      " TURNOVER_DYNAMIC_CUR_3M     | 1.0                              \n",
      " PACK                        | O01                              \n",
      " MAX_PCLOSE_DATE             | 112.193548387097                 \n",
      " LDEAL_YQZ_PC                | 2.2838436077002298               \n",
      " CLNT_SETUP_TENOR            | 13.7489368652927                 \n",
      " DEAL_GRACE_DAYS_ACC_MAX     | 9.377551020408161                \n",
      " TURNOVER_DYNAMIC_PAYM_3M    | 1.0                              \n",
      " LDEAL_DELINQ_PER_MAXYQZ     | 1.0                              \n",
      " TURNOVER_DYNAMIC_PAYM_1M    | 1.0                              \n",
      " CLNT_SALARY_VALUE           | 786218.42                        \n",
      " TRANS_AMOUNT_TENDENCY3M     | 1.0                              \n",
      " MED_DEBT_PRC_YQZ            | 1.0                              \n",
      " TRANS_CNT_TENDENCY3M        | 1.0                              \n",
      " LDEAL_USED_AMT_AVG_YQZ      | 1.0                              \n",
      " REST_DYNAMIC_CC_1M          | 1.0                              \n",
      " LDEAL_USED_AMT_AVG_YWZ      | 1.0                              \n",
      " TURNOVER_DYNAMIC_CC_1M      | 1.0                              \n",
      " AVG_PCT_DEBT_TO_DEAL_AMT    | 39.8784683559783                 \n",
      " LDEAL_ACT_DAYS_ACC_PCT_AVG  | 1.0                              \n",
      " REST_DYNAMIC_CC_3M          | 1.0                              \n",
      " MED_DEBT_PRC_YWZ            | 1.0                              \n",
      " LDEAL_ACT_DAYS_PCT_TR3      | 1.0                              \n",
      " LDEAL_ACT_DAYS_PCT_AAVG     | 1.0                              \n",
      " LDEAL_DELINQ_PER_MAXYWZ     | 1.0                              \n",
      " TURNOVER_DYNAMIC_CC_3M      | 1.0                              \n",
      " LDEAL_ACT_DAYS_PCT_TR       | 1.0                              \n",
      " LDEAL_ACT_DAYS_PCT_TR4      | 1.0                              \n",
      " LDEAL_ACT_DAYS_PCT_CURR     | 1.0                              \n",
      " TARGET                      | 1                                \n",
      "\n"
     ]
    }
   ],
   "source": [
    "df_train.summary().show(100, 100, true)"
   ]
  },
  {
   "cell_type": "code",
   "execution_count": 106,
   "metadata": {},
   "outputs": [
    {
     "name": "stdout",
     "output_type": "stream",
     "text": [
      "-RECORD 0-------\n",
      " PACK  | 101    \n",
      " count | 1645   \n",
      "-RECORD 1-------\n",
      " PACK  | 107    \n",
      " count | 25108  \n",
      "-RECORD 2-------\n",
      " PACK  | K01    \n",
      " count | 69478  \n",
      "-RECORD 3-------\n",
      " PACK  | M01    \n",
      " count | 5      \n",
      "-RECORD 4-------\n",
      " PACK  | 104    \n",
      " count | 6073   \n",
      "-RECORD 5-------\n",
      " PACK  | 102    \n",
      " count | 105756 \n",
      "-RECORD 6-------\n",
      " PACK  | 103    \n",
      " count | 22430  \n",
      "-RECORD 7-------\n",
      " PACK  | 108    \n",
      " count | 4      \n",
      "-RECORD 8-------\n",
      " PACK  | 105    \n",
      " count | 40777  \n",
      "-RECORD 9-------\n",
      " PACK  | O01    \n",
      " count | 45644  \n",
      "-RECORD 10------\n",
      " PACK  | 109    \n",
      " count | 83     \n",
      "-RECORD 11------\n",
      " PACK  | 301    \n",
      " count | 3760   \n",
      "\n"
     ]
    }
   ],
   "source": [
    "df_train.select(col(\"PACK\")).groupBy(col(\"PACK\")).count().show(100, 100, true)"
   ]
  },
  {
   "cell_type": "code",
   "execution_count": 109,
   "metadata": {},
   "outputs": [
    {
     "data": {
      "text/plain": [
       "ageGroup = UserDefinedFunction(<function1>,IntegerType,Some(List(IntegerType)))\n"
      ]
     },
     "metadata": {},
     "output_type": "display_data"
    },
    {
     "data": {
      "text/plain": [
       "UserDefinedFunction(<function1>,IntegerType,Some(List(IntegerType)))"
      ]
     },
     "execution_count": 109,
     "metadata": {},
     "output_type": "execute_result"
    }
   ],
   "source": [
    "val ageGroup = udf((age: Int) => if (age < 288) 0 else if (age < 408) 1 else if (age < 528) 2 else if (age < 648) 3 else 4);"
   ]
  },
  {
   "cell_type": "code",
   "execution_count": 111,
   "metadata": {},
   "outputs": [
    {
     "name": "stdout",
     "output_type": "stream",
     "text": [
      "-RECORD 0-------\n",
      " AG    | 1      \n",
      " count | 114443 \n",
      "-RECORD 1-------\n",
      " AG    | 3      \n",
      " count | 57486  \n",
      "-RECORD 2-------\n",
      " AG    | 4      \n",
      " count | 36889  \n",
      "-RECORD 3-------\n",
      " AG    | 2      \n",
      " count | 92820  \n",
      "-RECORD 4-------\n",
      " AG    | 0      \n",
      " count | 19125  \n",
      "\n"
     ]
    }
   ],
   "source": [
    "df_train.select(ageGroup(col(\"AGE\")).alias(\"AG\")).groupBy(col(\"AG\")).count().show(10, 100, true)"
   ]
  },
  {
   "cell_type": "markdown",
   "metadata": {},
   "source": [
    "# Шаг 1: Кодируем возраст"
   ]
  },
  {
   "cell_type": "code",
   "execution_count": 114,
   "metadata": {},
   "outputs": [
    {
     "data": {
      "text/plain": [
       "df_train_1 = [_c0: int, ID: int ... 116 more fields]\n"
      ]
     },
     "metadata": {},
     "output_type": "display_data"
    },
    {
     "data": {
      "text/plain": [
       "[_c0: int, ID: int ... 116 more fields]"
      ]
     },
     "execution_count": 114,
     "metadata": {},
     "output_type": "execute_result"
    }
   ],
   "source": [
    "val df_train_1 = df_train.withColumn(\"AGE_G\", ageGroup(col(\"AGE\")))"
   ]
  },
  {
   "cell_type": "code",
   "execution_count": 115,
   "metadata": {},
   "outputs": [
    {
     "data": {
      "text/plain": [
       "df_test_1 = [_c0: int, ID: int ... 115 more fields]\n"
      ]
     },
     "metadata": {},
     "output_type": "display_data"
    },
    {
     "data": {
      "text/plain": [
       "[_c0: int, ID: int ... 115 more fields]"
      ]
     },
     "execution_count": 115,
     "metadata": {},
     "output_type": "execute_result"
    }
   ],
   "source": [
    "val df_test_1 = df_test.withColumn(\"AGE_G\", ageGroup(col(\"AGE\")))"
   ]
  },
  {
   "cell_type": "code",
   "execution_count": null,
   "metadata": {},
   "outputs": [],
   "source": [
    "df_train.filter(df_train(\"TARGET\") === 0).summary().show(100, 100, true)"
   ]
  },
  {
   "cell_type": "code",
   "execution_count": null,
   "metadata": {},
   "outputs": [],
   "source": [
    "df_train.filter(df_train(\"TARGET\") === 1).summary().show(100, 100, true)"
   ]
  },
  {
   "cell_type": "code",
   "execution_count": null,
   "metadata": {},
   "outputs": [],
   "source": [
    "df_train.select(\"TURNOVER_CC\",\n",
    "\"LDEAL_GRACE_DAYS_PCT_MED\",\n",
    "\"REST_DYNAMIC_CC_1M\",\n",
    "\"LDEAL_AMT_MONTH\",\n",
    "\"TURNOVER_DYNAMIC_CC_1M\",\n",
    "\"REST_DYNAMIC_CC_3M\",\n",
    "\"AVG_PCT_DEBT_TO_DEAL_AMT\",\n",
    "\"TURNOVER_DYNAMIC_CC_3M\",\n",
    "\"REST_DYNAMIC_IL_1M\",\n",
    "\"CR_PROD_CNT_CCFP\",\n",
    "\"REST_AVG_PAYM\",\n",
    "\"REST_AVG_CUR\",\n",
    "\"TURNOVER_PAYM\",\n",
    "\"LDEAL_DELINQ_PER_MAXYWZ\",\n",
    "\"REST_DYNAMIC_IL_3M\",\n",
    "\"TURNOVER_DYNAMIC_IL_1M\",\n",
    "\"REST_DYNAMIC_FDEP_1M\",\n",
    "\"DEAL_GRACE_DAYS_ACC_MAX\",\n",
    "\"DEAL_GRACE_DAYS_ACC_AVG\",\n",
    "\"TURNOVER_DYNAMIC_IL_3M\",\n",
    "\"REST_DYNAMIC_FDEP_3M\",\n",
    "\"CR_PROD_CNT_VCU\",\n",
    "\"DEAL_GRACE_DAYS_ACC_S1X1\",\n",
    "\"CR_PROD_CNT_CC\",\n",
    "\"AMOUNT_RUB_NAS_PRC\",\n",
    "\"PACK\").summary().show(100, 100, true)"
   ]
  },
  {
   "cell_type": "code",
   "execution_count": null,
   "metadata": {},
   "outputs": [],
   "source": [
    "df_train.select(\"ID\").distinct().count()"
   ]
  },
  {
   "cell_type": "code",
   "execution_count": null,
   "metadata": {},
   "outputs": [],
   "source": [
    "df_train.select(\"ID\").count()"
   ]
  },
  {
   "cell_type": "markdown",
   "metadata": {},
   "source": [
    "ID правда уникальный"
   ]
  },
  {
   "cell_type": "markdown",
   "metadata": {},
   "source": [
    "# Смотрим данные"
   ]
  },
  {
   "cell_type": "markdown",
   "metadata": {},
   "source": [
    "Пропорции классов"
   ]
  },
  {
   "cell_type": "code",
   "execution_count": null,
   "metadata": {},
   "outputs": [],
   "source": [
    "df_train.filter(df_train(\"TARGET\") === 0).count()"
   ]
  },
  {
   "cell_type": "code",
   "execution_count": null,
   "metadata": {},
   "outputs": [],
   "source": [
    "df_train.filter(df_train(\"TARGET\") === 1).count()"
   ]
  },
  {
   "cell_type": "markdown",
   "metadata": {},
   "source": [
    "Кол-во открытых продуктов за отчетный период (по категориям)\n",
    "\n",
    "CR_PROD_CNT_CC, CR_PROD_CNT_CCFP, CR_PROD_CNT_IL, CR_PROD_CNT_PIL, CR_PROD_CNT_TOVR, CR_PROD_CNT_VCU"
   ]
  },
  {
   "cell_type": "code",
   "execution_count": null,
   "metadata": {},
   "outputs": [],
   "source": [
    "df_train.select(\"CR_PROD_CNT_CC\", \"CR_PROD_CNT_CCFP\", \"CR_PROD_CNT_IL\", \"CR_PROD_CNT_PIL\", \"CR_PROD_CNT_TOVR\", \"CR_PROD_CNT_VCU\").summary().show()"
   ]
  },
  {
   "cell_type": "code",
   "execution_count": null,
   "metadata": {},
   "outputs": [],
   "source": [
    "df_train.filter(df_train(\"CR_PROD_CNT_CC\").isNull).take(10)"
   ]
  },
  {
   "cell_type": "code",
   "execution_count": null,
   "metadata": {},
   "outputs": [],
   "source": [
    "df_train = df_train.filter(df_train(\"ID\") !== 369524)"
   ]
  },
  {
   "cell_type": "markdown",
   "metadata": {},
   "source": [
    "Удалили бесполезную строчку - у нее target не было"
   ]
  },
  {
   "cell_type": "markdown",
   "metadata": {},
   "source": [
    "### Доля суммы транзакций по МСС ко сумме всех транзакций за период (в руб.)\n",
    "\n",
    "AMOUNT_RUB_ATM_PRC, AMOUNT_RUB_CLO_PRC, AMOUNT_RUB_NAS_PRC, AMOUNT_RUB_SUP_PRC"
   ]
  },
  {
   "cell_type": "code",
   "execution_count": null,
   "metadata": {},
   "outputs": [],
   "source": [
    "df_train.select(\"AMOUNT_RUB_ATM_PRC\", \"AMOUNT_RUB_CLO_PRC\", \"AMOUNT_RUB_NAS_PRC\", \"AMOUNT_RUB_SUP_PRC\").summary().show()"
   ]
  },
  {
   "cell_type": "markdown",
   "metadata": {},
   "source": [
    "Чета есть, но почему только 286213?"
   ]
  },
  {
   "cell_type": "code",
   "execution_count": null,
   "metadata": {},
   "outputs": [],
   "source": [
    "df_train.filter(df_train(\"AMOUNT_RUB_ATM_PRC\").isNull).select(\"ID\", \"AMOUNT_RUB_ATM_PRC\", \"AMOUNT_RUB_CLO_PRC\", \"AMOUNT_RUB_NAS_PRC\", \"AMOUNT_RUB_SUP_PRC\", \"TARGET\").show(3, 35, true)"
   ]
  },
  {
   "cell_type": "code",
   "execution_count": null,
   "metadata": {},
   "outputs": [],
   "source": [
    "df_train.filter(df_train(\"AMOUNT_RUB_ATM_PRC\").isNotNull).select(\"ID\", \"AMOUNT_RUB_ATM_PRC\", \"AMOUNT_RUB_CLO_PRC\", \"AMOUNT_RUB_NAS_PRC\", \"AMOUNT_RUB_SUP_PRC\", \"TARGET\").show(3, 35, true)"
   ]
  },
  {
   "cell_type": "code",
   "execution_count": null,
   "metadata": {},
   "outputs": [],
   "source": []
  },
  {
   "cell_type": "code",
   "execution_count": null,
   "metadata": {},
   "outputs": [],
   "source": []
  },
  {
   "cell_type": "markdown",
   "metadata": {},
   "source": [
    "### % отклика в каналах / продуктовых группах\n",
    "\n",
    "PRC_ACCEPTS_A_AMOBILE, PRC_ACCEPTS_A_ATM, PRC_ACCEPTS_A_EMAIL_LINK, PRC_ACCEPTS_A_MTP, PRC_ACCEPTS_A_POS, PRC_ACCEPTS_A_TK, PRC_ACCEPTS_MTP, PRC_ACCEPTS_TK"
   ]
  },
  {
   "cell_type": "code",
   "execution_count": null,
   "metadata": {},
   "outputs": [],
   "source": [
    "df_train.select(\"PRC_ACCEPTS_A_AMOBILE\", \"PRC_ACCEPTS_A_ATM\", \"PRC_ACCEPTS_A_EMAIL_LINK\", \"PRC_ACCEPTS_A_MTP\", \"PRC_ACCEPTS_A_POS\", \"PRC_ACCEPTS_A_TK\", \"PRC_ACCEPTS_MTP\", \"PRC_ACCEPTS_TK\").summary().show()"
   ]
  },
  {
   "cell_type": "markdown",
   "metadata": {},
   "source": [
    "Одни нули, можно дропать"
   ]
  },
  {
   "cell_type": "markdown",
   "metadata": {},
   "source": [
    "### Код региона регистрации\n",
    "\n",
    "APP_REGISTR_RGN_CODE"
   ]
  },
  {
   "cell_type": "code",
   "execution_count": null,
   "metadata": {},
   "outputs": [],
   "source": [
    "df_train.select(\"APP_REGISTR_RGN_CODE\").summary().show()"
   ]
  },
  {
   "cell_type": "markdown",
   "metadata": {},
   "source": [
    "По смыслу можно дропнуть"
   ]
  },
  {
   "cell_type": "markdown",
   "metadata": {},
   "source": [
    "# Анализ колонок\n",
    "\n",
    "Провел в питоне)\n",
    "\n",
    "Решил оставить только эти: \n",
    "\"TURNOVER_CC\",\n",
    "\"LDEAL_GRACE_DAYS_PCT_MED\",\n",
    "\"REST_DYNAMIC_CC_1M\",\n",
    "\"TURNOVER_DYNAMIC_CC_1M\",\n",
    "\"REST_DYNAMIC_CC_3M\",\n",
    "\"TURNOVER_DYNAMIC_CC_3M\",\n",
    "\"REST_DYNAMIC_IL_1M\",\n",
    "\"CR_PROD_CNT_CCFP\",\n",
    "\"REST_AVG_PAYM\",\n",
    "\"REST_AVG_CUR\",\n",
    "\"TURNOVER_PAYM\",\n",
    "\"REST_DYNAMIC_IL_3M\",\n",
    "\"TURNOVER_DYNAMIC_IL_1M\",\n",
    "\"REST_DYNAMIC_FDEP_1M\",\n",
    "\"TURNOVER_DYNAMIC_IL_3M\",\n",
    "\"REST_DYNAMIC_FDEP_3M\",\n",
    "\"CR_PROD_CNT_VCU\",\n",
    "\"CR_PROD_CNT_CC\""
   ]
  },
  {
   "cell_type": "code",
   "execution_count": 112,
   "metadata": {},
   "outputs": [],
   "source": [
    "import org.apache.spark.ml.feature.OneHotEncoder"
   ]
  },
  {
   "cell_type": "code",
   "execution_count": 126,
   "metadata": {},
   "outputs": [
    {
     "data": {
      "text/plain": [
       "encoder = oneHot_98acb952c23c\n"
      ]
     },
     "metadata": {},
     "output_type": "display_data"
    },
    {
     "data": {
      "text/plain": [
       "warning: there was one deprecation warning; re-run with -deprecation for details\n"
      ]
     },
     "metadata": {},
     "output_type": "display_data"
    },
    {
     "data": {
      "text/plain": [
       "oneHot_98acb952c23c"
      ]
     },
     "execution_count": 126,
     "metadata": {},
     "output_type": "execute_result"
    }
   ],
   "source": [
    "val encoder = new OneHotEncoder()\n",
    "    .setInputCol(\"AGE_G\")\n",
    "    .setOutputCol(\"AGE_VEC\")"
   ]
  },
  {
   "cell_type": "code",
   "execution_count": 124,
   "metadata": {},
   "outputs": [
    {
     "data": {
      "text/plain": [
       "encoder_model = [_c0: int, ID: int ... 117 more fields]\n"
      ]
     },
     "metadata": {},
     "output_type": "display_data"
    },
    {
     "data": {
      "text/plain": [
       "[_c0: int, ID: int ... 117 more fields]"
      ]
     },
     "execution_count": 124,
     "metadata": {},
     "output_type": "execute_result"
    }
   ],
   "source": [
    "val encoder_model = encoder.transform(df_train_1)"
   ]
  },
  {
   "cell_type": "code",
   "execution_count": 125,
   "metadata": {},
   "outputs": [
    {
     "data": {
      "text/plain": [
       "Array([1,(5,[1],[1.0])], [1,(5,[1],[1.0])], [3,(5,[3],[1.0])], [4,(5,[4],[1.0])], [2,(5,[2],[1.0])], [2,(5,[2],[1.0])], [2,(5,[2],[1.0])], [3,(5,[3],[1.0])], [2,(5,[2],[1.0])], [2,(5,[2],[1.0])])"
      ]
     },
     "execution_count": 125,
     "metadata": {},
     "output_type": "execute_result"
    }
   ],
   "source": [
    "encoder_model.select(col(\"AGE_G\"), col(\"AGE_VEC\")).take(10)"
   ]
  },
  {
   "cell_type": "code",
   "execution_count": 7,
   "metadata": {},
   "outputs": [],
   "source": [
    "import org.apache.spark.ml.feature.VectorAssembler"
   ]
  },
  {
   "cell_type": "code",
   "execution_count": 127,
   "metadata": {},
   "outputs": [
    {
     "data": {
      "text/plain": [
       "assembler = vecAssembler_4baf16921753\n"
      ]
     },
     "metadata": {},
     "output_type": "display_data"
    },
    {
     "data": {
      "text/plain": [
       "vecAssembler_4baf16921753"
      ]
     },
     "execution_count": 127,
     "metadata": {},
     "output_type": "execute_result"
    }
   ],
   "source": [
    "val assembler = new VectorAssembler()\n",
    "  .setInputCols(Array(\n",
    "    \"CR_PROD_CNT_IL\",\n",
    "    \"TURNOVER_DYNAMIC_IL_1M\",\n",
    "    \"REST_DYNAMIC_FDEP_1M\",\n",
    "    \"REST_DYNAMIC_SAVE_3M\",\n",
    "    \"CR_PROD_CNT_VCU\",\n",
    "    \"REST_AVG_CUR\",\n",
    "    \"CR_PROD_CNT_TOVR\",\n",
    "    \"CR_PROD_CNT_PIL\",\n",
    "    \"TURNOVER_CC\",\n",
    "    \"TURNOVER_PAYM\",\n",
    "    \"CR_PROD_CNT_CC\",\n",
    "    \"REST_DYNAMIC_FDEP_3M\",\n",
    "    \"REST_DYNAMIC_IL_1M\",\n",
    "    \"CR_PROD_CNT_CCFP\",\n",
    "    \"REST_DYNAMIC_CUR_1M\",\n",
    "    \"REST_AVG_PAYM\",\n",
    "    \"LDEAL_GRACE_DAYS_PCT_MED\",\n",
    "    \"REST_DYNAMIC_CUR_3M\",\n",
    "    \"TURNOVER_DYNAMIC_CUR_1M\",\n",
    "    \"REST_DYNAMIC_PAYM_3M\",\n",
    "    \"REST_DYNAMIC_IL_3M\",\n",
    "    \"TURNOVER_DYNAMIC_IL_3M\",\n",
    "    \"REST_DYNAMIC_PAYM_1M\",\n",
    "    \"TURNOVER_DYNAMIC_CUR_3M\",\n",
    "    \"CLNT_SETUP_TENOR\",\n",
    "    \"TURNOVER_DYNAMIC_PAYM_3M\",\n",
    "    \"TURNOVER_DYNAMIC_PAYM_1M\",\n",
    "    \"REST_DYNAMIC_CC_1M\",\n",
    "    \"TURNOVER_DYNAMIC_CC_1M\",\n",
    "    \"REST_DYNAMIC_CC_3M\",\n",
    "    \"TURNOVER_DYNAMIC_CC_3M\",\n",
    "    \"AGE_VEC\"))\n",
    "  .setOutputCol(\"features\")"
   ]
  },
  {
   "cell_type": "code",
   "execution_count": 9,
   "metadata": {},
   "outputs": [],
   "source": [
    "import org.apache.spark.ml.feature.StandardScaler"
   ]
  },
  {
   "cell_type": "code",
   "execution_count": 10,
   "metadata": {},
   "outputs": [
    {
     "data": {
      "text/plain": [
       "scaler = stdScal_fa47eca20d7d\n"
      ]
     },
     "metadata": {},
     "output_type": "display_data"
    },
    {
     "data": {
      "text/plain": [
       "stdScal_fa47eca20d7d"
      ]
     },
     "execution_count": 10,
     "metadata": {},
     "output_type": "execute_result"
    }
   ],
   "source": [
    "val scaler = new StandardScaler()\n",
    "  .setInputCol(\"features\")\n",
    "  .setOutputCol(\"scaledFeatures\")\n",
    "  .setWithStd(true)\n",
    "  .setWithMean(true)"
   ]
  },
  {
   "cell_type": "code",
   "execution_count": 13,
   "metadata": {},
   "outputs": [],
   "source": [
    "import org.apache.spark.ml.{Pipeline, PipelineModel}\n",
    "import org.apache.spark.ml.classification.{GBTClassificationModel, GBTClassifier}"
   ]
  },
  {
   "cell_type": "code",
   "execution_count": 90,
   "metadata": {},
   "outputs": [
    {
     "data": {
      "text/plain": [
       "gbt = gbtc_0331b4d8397d\n"
      ]
     },
     "metadata": {},
     "output_type": "display_data"
    },
    {
     "data": {
      "text/plain": [
       "gbtc_0331b4d8397d"
      ]
     },
     "execution_count": 90,
     "metadata": {},
     "output_type": "execute_result"
    }
   ],
   "source": [
    "val gbt = new GBTClassifier()\n",
    "  .setLabelCol(\"TARGET\")\n",
    "  .setFeaturesCol(\"features\")\n",
    "  .setMaxIter(10)\n",
    "  .setFeatureSubsetStrategy(\"auto\")"
   ]
  },
  {
   "cell_type": "code",
   "execution_count": 128,
   "metadata": {},
   "outputs": [
    {
     "data": {
      "text/plain": [
       "pipeline = pipeline_16b907025425\n"
      ]
     },
     "metadata": {},
     "output_type": "display_data"
    },
    {
     "data": {
      "text/plain": [
       "pipeline_16b907025425"
      ]
     },
     "execution_count": 128,
     "metadata": {},
     "output_type": "execute_result"
    }
   ],
   "source": [
    "val pipeline = new Pipeline()\n",
    "  .setStages(Array(encoder, assembler, gbt))"
   ]
  },
  {
   "cell_type": "code",
   "execution_count": 129,
   "metadata": {},
   "outputs": [
    {
     "data": {
      "text/plain": [
       "model = pipeline_16b907025425\n"
      ]
     },
     "metadata": {},
     "output_type": "display_data"
    },
    {
     "data": {
      "text/plain": [
       "pipeline_16b907025425"
      ]
     },
     "execution_count": 129,
     "metadata": {},
     "output_type": "execute_result"
    }
   ],
   "source": [
    "val model = pipeline.fit(df_train_1)"
   ]
  },
  {
   "cell_type": "code",
   "execution_count": 130,
   "metadata": {},
   "outputs": [
    {
     "data": {
      "text/plain": [
       "predictions = [_c0: int, ID: int ... 120 more fields]\n"
      ]
     },
     "metadata": {},
     "output_type": "display_data"
    },
    {
     "data": {
      "text/plain": [
       "[_c0: int, ID: int ... 120 more fields]"
      ]
     },
     "execution_count": 130,
     "metadata": {},
     "output_type": "execute_result"
    }
   ],
   "source": [
    "val predictions = model.transform(df_test_1)"
   ]
  },
  {
   "cell_type": "code",
   "execution_count": 33,
   "metadata": {},
   "outputs": [
    {
     "name": "stdout",
     "output_type": "stream",
     "text": [
      "root\n",
      " |-- _c0: integer (nullable = true)\n",
      " |-- ID: integer (nullable = true)\n",
      " |-- CR_PROD_CNT_IL: integer (nullable = true)\n",
      " |-- AMOUNT_RUB_CLO_PRC: double (nullable = true)\n",
      " |-- PRC_ACCEPTS_A_EMAIL_LINK: double (nullable = true)\n",
      " |-- APP_REGISTR_RGN_CODE: double (nullable = true)\n",
      " |-- PRC_ACCEPTS_A_POS: double (nullable = true)\n",
      " |-- PRC_ACCEPTS_A_TK: double (nullable = true)\n",
      " |-- TURNOVER_DYNAMIC_IL_1M: double (nullable = true)\n",
      " |-- CNT_TRAN_AUT_TENDENCY1M: double (nullable = true)\n",
      " |-- SUM_TRAN_AUT_TENDENCY1M: double (nullable = true)\n",
      " |-- AMOUNT_RUB_SUP_PRC: double (nullable = true)\n",
      " |-- PRC_ACCEPTS_A_AMOBILE: double (nullable = true)\n",
      " |-- SUM_TRAN_AUT_TENDENCY3M: double (nullable = true)\n",
      " |-- CLNT_TRUST_RELATION: string (nullable = true)\n",
      " |-- PRC_ACCEPTS_TK: double (nullable = true)\n",
      " |-- PRC_ACCEPTS_A_MTP: double (nullable = true)\n",
      " |-- REST_DYNAMIC_FDEP_1M: double (nullable = true)\n",
      " |-- CNT_TRAN_AUT_TENDENCY3M: double (nullable = true)\n",
      " |-- CNT_ACCEPTS_TK: double (nullable = true)\n",
      " |-- APP_MARITAL_STATUS: string (nullable = true)\n",
      " |-- REST_DYNAMIC_SAVE_3M: double (nullable = true)\n",
      " |-- CR_PROD_CNT_VCU: integer (nullable = true)\n",
      " |-- REST_AVG_CUR: double (nullable = true)\n",
      " |-- CNT_TRAN_MED_TENDENCY1M: double (nullable = true)\n",
      " |-- APP_KIND_OF_PROP_HABITATION: string (nullable = true)\n",
      " |-- CLNT_JOB_POSITION_TYPE: string (nullable = true)\n",
      " |-- AMOUNT_RUB_NAS_PRC: double (nullable = true)\n",
      " |-- CLNT_JOB_POSITION: string (nullable = true)\n",
      " |-- APP_DRIVING_LICENSE: string (nullable = true)\n",
      " |-- TRANS_COUNT_SUP_PRC: double (nullable = true)\n",
      " |-- APP_EDUCATION: string (nullable = true)\n",
      " |-- CNT_TRAN_CLO_TENDENCY1M: double (nullable = true)\n",
      " |-- SUM_TRAN_MED_TENDENCY1M: double (nullable = true)\n",
      " |-- PRC_ACCEPTS_A_ATM: double (nullable = true)\n",
      " |-- PRC_ACCEPTS_MTP: double (nullable = true)\n",
      " |-- TRANS_COUNT_NAS_PRC: double (nullable = true)\n",
      " |-- APP_TRAVEL_PASS: string (nullable = true)\n",
      " |-- CNT_ACCEPTS_MTP: double (nullable = true)\n",
      " |-- CR_PROD_CNT_TOVR: integer (nullable = true)\n",
      " |-- APP_CAR: string (nullable = true)\n",
      " |-- CR_PROD_CNT_PIL: integer (nullable = true)\n",
      " |-- SUM_TRAN_CLO_TENDENCY1M: double (nullable = true)\n",
      " |-- APP_POSITION_TYPE: string (nullable = true)\n",
      " |-- TURNOVER_CC: double (nullable = true)\n",
      " |-- TRANS_COUNT_ATM_PRC: double (nullable = true)\n",
      " |-- AMOUNT_RUB_ATM_PRC: double (nullable = true)\n",
      " |-- TURNOVER_PAYM: double (nullable = true)\n",
      " |-- AGE: integer (nullable = true)\n",
      " |-- CNT_TRAN_MED_TENDENCY3M: double (nullable = true)\n",
      " |-- CR_PROD_CNT_CC: integer (nullable = true)\n",
      " |-- SUM_TRAN_MED_TENDENCY3M: double (nullable = true)\n",
      " |-- REST_DYNAMIC_FDEP_3M: double (nullable = true)\n",
      " |-- REST_DYNAMIC_IL_1M: double (nullable = true)\n",
      " |-- APP_EMP_TYPE: string (nullable = true)\n",
      " |-- SUM_TRAN_CLO_TENDENCY3M: double (nullable = true)\n",
      " |-- LDEAL_TENOR_MAX: double (nullable = true)\n",
      " |-- LDEAL_YQZ_CHRG: double (nullable = true)\n",
      " |-- CR_PROD_CNT_CCFP: integer (nullable = true)\n",
      " |-- DEAL_YQZ_IR_MAX: double (nullable = true)\n",
      " |-- LDEAL_YQZ_COM: double (nullable = true)\n",
      " |-- DEAL_YQZ_IR_MIN: double (nullable = true)\n",
      " |-- CNT_TRAN_CLO_TENDENCY3M: double (nullable = true)\n",
      " |-- REST_DYNAMIC_CUR_1M: double (nullable = true)\n",
      " |-- REST_AVG_PAYM: double (nullable = true)\n",
      " |-- LDEAL_TENOR_MIN: double (nullable = true)\n",
      " |-- LDEAL_AMT_MONTH: double (nullable = true)\n",
      " |-- APP_COMP_TYPE: string (nullable = true)\n",
      " |-- LDEAL_GRACE_DAYS_PCT_MED: double (nullable = true)\n",
      " |-- REST_DYNAMIC_CUR_3M: double (nullable = true)\n",
      " |-- CNT_TRAN_SUP_TENDENCY3M: double (nullable = true)\n",
      " |-- TURNOVER_DYNAMIC_CUR_1M: double (nullable = true)\n",
      " |-- REST_DYNAMIC_PAYM_3M: double (nullable = true)\n",
      " |-- SUM_TRAN_SUP_TENDENCY3M: double (nullable = true)\n",
      " |-- REST_DYNAMIC_IL_3M: double (nullable = true)\n",
      " |-- CNT_TRAN_ATM_TENDENCY3M: double (nullable = true)\n",
      " |-- CNT_TRAN_ATM_TENDENCY1M: double (nullable = true)\n",
      " |-- TURNOVER_DYNAMIC_IL_3M: double (nullable = true)\n",
      " |-- SUM_TRAN_ATM_TENDENCY3M: double (nullable = true)\n",
      " |-- DEAL_GRACE_DAYS_ACC_S1X1: double (nullable = true)\n",
      " |-- AVG_PCT_MONTH_TO_PCLOSE: double (nullable = true)\n",
      " |-- DEAL_YWZ_IR_MIN: double (nullable = true)\n",
      " |-- SUM_TRAN_SUP_TENDENCY1M: double (nullable = true)\n",
      " |-- DEAL_YWZ_IR_MAX: double (nullable = true)\n",
      " |-- SUM_TRAN_ATM_TENDENCY1M: double (nullable = true)\n",
      " |-- REST_DYNAMIC_PAYM_1M: double (nullable = true)\n",
      " |-- CNT_TRAN_SUP_TENDENCY1M: double (nullable = true)\n",
      " |-- DEAL_GRACE_DAYS_ACC_AVG: double (nullable = true)\n",
      " |-- TURNOVER_DYNAMIC_CUR_3M: double (nullable = true)\n",
      " |-- PACK: string (nullable = true)\n",
      " |-- MAX_PCLOSE_DATE: double (nullable = true)\n",
      " |-- LDEAL_YQZ_PC: double (nullable = true)\n",
      " |-- CLNT_SETUP_TENOR: double (nullable = true)\n",
      " |-- DEAL_GRACE_DAYS_ACC_MAX: double (nullable = true)\n",
      " |-- TURNOVER_DYNAMIC_PAYM_3M: double (nullable = true)\n",
      " |-- LDEAL_DELINQ_PER_MAXYQZ: double (nullable = true)\n",
      " |-- TURNOVER_DYNAMIC_PAYM_1M: double (nullable = true)\n",
      " |-- CLNT_SALARY_VALUE: double (nullable = true)\n",
      " |-- TRANS_AMOUNT_TENDENCY3M: double (nullable = true)\n",
      " |-- MED_DEBT_PRC_YQZ: double (nullable = true)\n",
      " |-- TRANS_CNT_TENDENCY3M: double (nullable = true)\n",
      " |-- LDEAL_USED_AMT_AVG_YQZ: double (nullable = true)\n",
      " |-- REST_DYNAMIC_CC_1M: double (nullable = true)\n",
      " |-- LDEAL_USED_AMT_AVG_YWZ: double (nullable = true)\n",
      " |-- TURNOVER_DYNAMIC_CC_1M: double (nullable = true)\n",
      " |-- AVG_PCT_DEBT_TO_DEAL_AMT: double (nullable = true)\n",
      " |-- LDEAL_ACT_DAYS_ACC_PCT_AVG: double (nullable = true)\n",
      " |-- REST_DYNAMIC_CC_3M: double (nullable = true)\n",
      " |-- MED_DEBT_PRC_YWZ: double (nullable = true)\n",
      " |-- LDEAL_ACT_DAYS_PCT_TR3: double (nullable = true)\n",
      " |-- LDEAL_ACT_DAYS_PCT_AAVG: double (nullable = true)\n",
      " |-- LDEAL_DELINQ_PER_MAXYWZ: double (nullable = true)\n",
      " |-- TURNOVER_DYNAMIC_CC_3M: double (nullable = true)\n",
      " |-- LDEAL_ACT_DAYS_PCT_TR: double (nullable = true)\n",
      " |-- LDEAL_ACT_DAYS_PCT_TR4: double (nullable = true)\n",
      " |-- LDEAL_ACT_DAYS_PCT_CURR: double (nullable = true)\n",
      " |-- features: vector (nullable = true)\n",
      " |-- scaledFeatures: vector (nullable = true)\n",
      " |-- rawPrediction: vector (nullable = true)\n",
      " |-- probability: vector (nullable = true)\n",
      " |-- prediction: double (nullable = false)\n",
      "\n"
     ]
    }
   ],
   "source": [
    "predictions.printSchema()"
   ]
  },
  {
   "cell_type": "code",
   "execution_count": 58,
   "metadata": {},
   "outputs": [],
   "source": [
    "import org.apache.spark.ml.linalg.Vector\n",
    "import org.apache.spark.mllib.linalg.Vectors"
   ]
  },
  {
   "cell_type": "code",
   "execution_count": 71,
   "metadata": {},
   "outputs": [
    {
     "data": {
      "text/plain": [
       "getProb = UserDefinedFunction(<function1>,DoubleType,Some(List(org.apache.spark.ml.linalg.VectorUDT@3bfc3ba7)))\n"
      ]
     },
     "metadata": {},
     "output_type": "display_data"
    },
    {
     "data": {
      "text/plain": [
       "UserDefinedFunction(<function1>,DoubleType,Some(List(org.apache.spark.ml.linalg.VectorUDT@3bfc3ba7)))"
      ]
     },
     "execution_count": 71,
     "metadata": {},
     "output_type": "execute_result"
    }
   ],
   "source": [
    "val getProb = udf((probArr: Vector) => probArr(1))"
   ]
  },
  {
   "cell_type": "code",
   "execution_count": 131,
   "metadata": {},
   "outputs": [
    {
     "data": {
      "text/plain": [
       "res = [id: int, target: double]\n"
      ]
     },
     "metadata": {},
     "output_type": "display_data"
    },
    {
     "data": {
      "text/plain": [
       "[id: int, target: double]"
      ]
     },
     "execution_count": 131,
     "metadata": {},
     "output_type": "execute_result"
    }
   ],
   "source": [
    "val res = predictions.select(col(\"ID\").as(\"id\"), getProb(col(\"probability\")).as(\"target\"))"
   ]
  },
  {
   "cell_type": "code",
   "execution_count": 133,
   "metadata": {},
   "outputs": [],
   "source": [
    "res.repartition(1).write\n",
    "    .option(\"header\", true)\n",
    "    .option(\"delimiter\",\"\\t\")\n",
    "    .csv(\"lab05.csv\")"
   ]
  },
  {
   "cell_type": "code",
   "execution_count": 85,
   "metadata": {},
   "outputs": [
    {
     "data": {
      "text/plain": [
       "\"Found 9 items\n",
       "drwx------   - dmitriy.kamaev dmitriy.kamaev          0 2022-11-02 15:35 .Trash\n",
       "drwxr-xr-x   - dmitriy.kamaev dmitriy.kamaev          0 2022-11-02 12:15 .sparkStaging\n",
       "drwxr-xr-x   - dmitriy.kamaev dmitriy.kamaev          0 2022-11-02 15:36 lab05.csv\n",
       "drwxr-xr-x   - dmitriy.kamaev dmitriy.kamaev          0 2022-10-27 13:08 sdf_5.parquet\n",
       "drwxr-xr-x   - dmitriy.kamaev dmitriy.kamaev          0 2022-10-27 13:10 sdf_6.parquet\n",
       "drwxr-xr-x   - dmitriy.kamaev dmitriy.kamaev          0 2022-10-27 13:11 sdf_7.parquet\n",
       "drwxr-xr-x   - dmitriy.kamaev dmitriy.kamaev          0 2022-10-26 20:49 ss_01.parquet\n",
       "drwxr-xr-x   - dmitriy.kamaev dmitriy.kamaev          0 2022-10-27 14:13 streaming\n",
       "drwxr-xr-x   - dmitriy.kamaev dmitriy.kamaev          0 2022-10-26 20:48 tmp\n",
       "\"\n"
      ]
     },
     "metadata": {},
     "output_type": "display_data"
    }
   ],
   "source": [
    "\"hdfs dfs -ls\".!!"
   ]
  },
  {
   "cell_type": "code",
   "execution_count": 132,
   "metadata": {},
   "outputs": [
    {
     "name": "stdout",
     "output_type": "stream",
     "text": [
      "22/11/02 20:54:03 INFO fs.TrashPolicyDefault: Moved: 'hdfs://spark-master-1.newprolab.com:8020/user/dmitriy.kamaev/lab05.csv' to trash at: hdfs://spark-master-1.newprolab.com:8020/user/dmitriy.kamaev/.Trash/Current/user/dmitriy.kamaev/lab05.csv1667411643859\n"
     ]
    },
    {
     "data": {
      "text/plain": [
       "res205: String = \"\"\n"
      ]
     },
     "metadata": {},
     "output_type": "display_data"
    }
   ],
   "source": [
    "\"hdfs dfs -rm -r lab05.csv\".!!"
   ]
  },
  {
   "cell_type": "code",
   "execution_count": 134,
   "metadata": {},
   "outputs": [
    {
     "data": {
      "text/plain": [
       "\"Found 2 items\n",
       "-rw-r--r--   3 dmitriy.kamaev dmitriy.kamaev          0 2022-11-02 20:54 lab05.csv/_SUCCESS\n",
       "-rw-r--r--   3 dmitriy.kamaev dmitriy.kamaev    1186492 2022-11-02 20:54 lab05.csv/part-00000-02b6b81c-bbc5-4858-80d5-3edf3da04393-c000.csv\n",
       "\"\n"
      ]
     },
     "metadata": {},
     "output_type": "display_data"
    }
   ],
   "source": [
    "\"hdfs dfs -ls lab05.csv\".!!"
   ]
  },
  {
   "cell_type": "code",
   "execution_count": 136,
   "metadata": {},
   "outputs": [
    {
     "data": {
      "text/plain": [
       "lastException: Throwable = null\n",
       "res212: String = \"\"\n"
      ]
     },
     "metadata": {},
     "output_type": "display_data"
    }
   ],
   "source": [
    "\"rm lab05.csv\".!!"
   ]
  },
  {
   "cell_type": "code",
   "execution_count": 137,
   "metadata": {},
   "outputs": [
    {
     "data": {
      "text/plain": [
       "res215: String = \"\"\n"
      ]
     },
     "metadata": {},
     "output_type": "display_data"
    }
   ],
   "source": [
    "\"hdfs dfs -copyToLocal lab05.csv/part-00000-02b6b81c-bbc5-4858-80d5-3edf3da04393-c000.csv lab05.csv\".!!"
   ]
  },
  {
   "cell_type": "markdown",
   "metadata": {},
   "source": [
    "---"
   ]
  },
  {
   "cell_type": "code",
   "execution_count": 138,
   "metadata": {},
   "outputs": [],
   "source": [
    "spark.stop()"
   ]
  }
 ],
 "metadata": {
  "kernelspec": {
   "display_name": "Apache Toree - Scala",
   "language": "scala",
   "name": "apache_toree_scala"
  },
  "language_info": {
   "codemirror_mode": "text/x-scala",
   "file_extension": ".scala",
   "mimetype": "text/x-scala",
   "name": "scala",
   "pygments_lexer": "scala",
   "version": "2.11.12"
  }
 },
 "nbformat": 4,
 "nbformat_minor": 2
}
