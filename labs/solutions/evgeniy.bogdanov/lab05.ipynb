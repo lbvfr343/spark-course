{
 "cells": [
  {
   "cell_type": "code",
   "execution_count": 93,
   "metadata": {},
   "outputs": [
    {
     "data": {
      "text/plain": [
       "lastException: Throwable = null\n"
      ]
     },
     "metadata": {},
     "output_type": "display_data"
    }
   ],
   "source": [
    "import org.apache.spark.sql.functions._\n",
    "import org.apache.spark.SparkContext._\n",
    "import org.apache.spark.sql.types._\n",
    "import org.apache.spark.mllib.linalg.Vector\n",
    "import org.apache.spark.sql.functions.{col, udf}"
   ]
  },
  {
   "cell_type": "code",
   "execution_count": 2,
   "metadata": {},
   "outputs": [],
   "source": [
    "import org.apache.spark.ml.feature.VectorAssembler\n",
    "import org.apache.spark.ml.evaluation.BinaryClassificationEvaluator\n",
    "import org.apache.spark.ml.classification.{RandomForestClassificationModel, RandomForestClassifier}"
   ]
  },
  {
   "cell_type": "code",
   "execution_count": 3,
   "metadata": {},
   "outputs": [
    {
     "data": {
      "text/plain": [
       "spark = org.apache.spark.sql.SparkSession@39287a4\n"
      ]
     },
     "metadata": {},
     "output_type": "display_data"
    },
    {
     "data": {
      "text/plain": [
       "org.apache.spark.sql.SparkSession@39287a4"
      ]
     },
     "execution_count": 3,
     "metadata": {},
     "output_type": "execute_result"
    }
   ],
   "source": [
    "val spark = SparkSession.builder().appName(\"test\").config(\"spark.master\", \"yarn\").getOrCreate()"
   ]
  },
  {
   "cell_type": "code",
   "execution_count": 4,
   "metadata": {},
   "outputs": [
    {
     "data": {
      "text/plain": [
       "train = [_c0: string, ID: string ... 115 more fields]\n",
       "test = [_c0: string, ID: string ... 114 more fields]\n"
      ]
     },
     "metadata": {},
     "output_type": "display_data"
    },
    {
     "data": {
      "text/plain": [
       "[_c0: string, ID: string ... 114 more fields]"
      ]
     },
     "execution_count": 4,
     "metadata": {},
     "output_type": "execute_result"
    }
   ],
   "source": [
    "val train = spark.read\n",
    "                    .option(\"delimiter\", \",\")\n",
    "                    .option(\"header\", \"True\")\n",
    "                    .csv(\"/labs/slaba05/lab05_train.csv\")\n",
    "val test = spark.read\n",
    "                    .option(\"delimiter\", \",\")\n",
    "                    .option(\"header\", \"True\")\n",
    "                    .csv(\"/labs/slaba05/lab05_test.csv\")"
   ]
  },
  {
   "cell_type": "code",
   "execution_count": 7,
   "metadata": {},
   "outputs": [
    {
     "name": "stdout",
     "output_type": "stream",
     "text": [
      "+------+------+--------------+------------------+------------------------+--------------------+-----------------+----------------+----------------------+-----------------------+-----------------------+------------------+---------------------+-----------------------+-------------------+--------------+-----------------+--------------------+-----------------------+--------------+------------------+--------------------+---------------+----------------+-----------------------+---------------------------+----------------------+------------------+-----------------+-------------------+-------------------+-------------+-----------------------+-----------------------+-----------------+---------------+-------------------+---------------+---------------+----------------+-------+---------------+-----------------------+-----------------+-----------+-------------------+------------------+-------------+---+-----------------------+--------------+-----------------------+--------------------+------------------+------------+-----------------------+---------------+--------------+----------------+---------------+-------------+---------------+-----------------------+-------------------+-------------+---------------+---------------+-------------+------------------------+-------------------+-----------------------+-----------------------+--------------------+-----------------------+------------------+-----------------------+-----------------------+----------------------+-----------------------+------------------------+-----------------------+---------------+-----------------------+---------------+-----------------------+--------------------+-----------------------+-----------------------+-----------------------+----+---------------+------------+----------------+-----------------------+------------------------+-----------------------+------------------------+-----------------+-----------------------+----------------+--------------------+----------------------+------------------+----------------------+----------------------+------------------------+--------------------------+------------------+----------------+----------------------+-----------------------+-----------------------+----------------------+---------------------+----------------------+-----------------------+------+\n",
      "|   _c0|    ID|CR_PROD_CNT_IL|AMOUNT_RUB_CLO_PRC|PRC_ACCEPTS_A_EMAIL_LINK|APP_REGISTR_RGN_CODE|PRC_ACCEPTS_A_POS|PRC_ACCEPTS_A_TK|TURNOVER_DYNAMIC_IL_1M|CNT_TRAN_AUT_TENDENCY1M|SUM_TRAN_AUT_TENDENCY1M|AMOUNT_RUB_SUP_PRC|PRC_ACCEPTS_A_AMOBILE|SUM_TRAN_AUT_TENDENCY3M|CLNT_TRUST_RELATION|PRC_ACCEPTS_TK|PRC_ACCEPTS_A_MTP|REST_DYNAMIC_FDEP_1M|CNT_TRAN_AUT_TENDENCY3M|CNT_ACCEPTS_TK|APP_MARITAL_STATUS|REST_DYNAMIC_SAVE_3M|CR_PROD_CNT_VCU|    REST_AVG_CUR|CNT_TRAN_MED_TENDENCY1M|APP_KIND_OF_PROP_HABITATION|CLNT_JOB_POSITION_TYPE|AMOUNT_RUB_NAS_PRC|CLNT_JOB_POSITION|APP_DRIVING_LICENSE|TRANS_COUNT_SUP_PRC|APP_EDUCATION|CNT_TRAN_CLO_TENDENCY1M|SUM_TRAN_MED_TENDENCY1M|PRC_ACCEPTS_A_ATM|PRC_ACCEPTS_MTP|TRANS_COUNT_NAS_PRC|APP_TRAVEL_PASS|CNT_ACCEPTS_MTP|CR_PROD_CNT_TOVR|APP_CAR|CR_PROD_CNT_PIL|SUM_TRAN_CLO_TENDENCY1M|APP_POSITION_TYPE|TURNOVER_CC|TRANS_COUNT_ATM_PRC|AMOUNT_RUB_ATM_PRC|TURNOVER_PAYM|AGE|CNT_TRAN_MED_TENDENCY3M|CR_PROD_CNT_CC|SUM_TRAN_MED_TENDENCY3M|REST_DYNAMIC_FDEP_3M|REST_DYNAMIC_IL_1M|APP_EMP_TYPE|SUM_TRAN_CLO_TENDENCY3M|LDEAL_TENOR_MAX|LDEAL_YQZ_CHRG|CR_PROD_CNT_CCFP|DEAL_YQZ_IR_MAX|LDEAL_YQZ_COM|DEAL_YQZ_IR_MIN|CNT_TRAN_CLO_TENDENCY3M|REST_DYNAMIC_CUR_1M|REST_AVG_PAYM|LDEAL_TENOR_MIN|LDEAL_AMT_MONTH|APP_COMP_TYPE|LDEAL_GRACE_DAYS_PCT_MED|REST_DYNAMIC_CUR_3M|CNT_TRAN_SUP_TENDENCY3M|TURNOVER_DYNAMIC_CUR_1M|REST_DYNAMIC_PAYM_3M|SUM_TRAN_SUP_TENDENCY3M|REST_DYNAMIC_IL_3M|CNT_TRAN_ATM_TENDENCY3M|CNT_TRAN_ATM_TENDENCY1M|TURNOVER_DYNAMIC_IL_3M|SUM_TRAN_ATM_TENDENCY3M|DEAL_GRACE_DAYS_ACC_S1X1|AVG_PCT_MONTH_TO_PCLOSE|DEAL_YWZ_IR_MIN|SUM_TRAN_SUP_TENDENCY1M|DEAL_YWZ_IR_MAX|SUM_TRAN_ATM_TENDENCY1M|REST_DYNAMIC_PAYM_1M|CNT_TRAN_SUP_TENDENCY1M|DEAL_GRACE_DAYS_ACC_AVG|TURNOVER_DYNAMIC_CUR_3M|PACK|MAX_PCLOSE_DATE|LDEAL_YQZ_PC|CLNT_SETUP_TENOR|DEAL_GRACE_DAYS_ACC_MAX|TURNOVER_DYNAMIC_PAYM_3M|LDEAL_DELINQ_PER_MAXYQZ|TURNOVER_DYNAMIC_PAYM_1M|CLNT_SALARY_VALUE|TRANS_AMOUNT_TENDENCY3M|MED_DEBT_PRC_YQZ|TRANS_CNT_TENDENCY3M|LDEAL_USED_AMT_AVG_YQZ|REST_DYNAMIC_CC_1M|LDEAL_USED_AMT_AVG_YWZ|TURNOVER_DYNAMIC_CC_1M|AVG_PCT_DEBT_TO_DEAL_AMT|LDEAL_ACT_DAYS_ACC_PCT_AVG|REST_DYNAMIC_CC_3M|MED_DEBT_PRC_YWZ|LDEAL_ACT_DAYS_PCT_TR3|LDEAL_ACT_DAYS_PCT_AAVG|LDEAL_DELINQ_PER_MAXYWZ|TURNOVER_DYNAMIC_CC_3M|LDEAL_ACT_DAYS_PCT_TR|LDEAL_ACT_DAYS_PCT_TR4|LDEAL_ACT_DAYS_PCT_CURR|TARGET|\n",
      "+------+------+--------------+------------------+------------------------+--------------------+-----------------+----------------+----------------------+-----------------------+-----------------------+------------------+---------------------+-----------------------+-------------------+--------------+-----------------+--------------------+-----------------------+--------------+------------------+--------------------+---------------+----------------+-----------------------+---------------------------+----------------------+------------------+-----------------+-------------------+-------------------+-------------+-----------------------+-----------------------+-----------------+---------------+-------------------+---------------+---------------+----------------+-------+---------------+-----------------------+-----------------+-----------+-------------------+------------------+-------------+---+-----------------------+--------------+-----------------------+--------------------+------------------+------------+-----------------------+---------------+--------------+----------------+---------------+-------------+---------------+-----------------------+-------------------+-------------+---------------+---------------+-------------+------------------------+-------------------+-----------------------+-----------------------+--------------------+-----------------------+------------------+-----------------------+-----------------------+----------------------+-----------------------+------------------------+-----------------------+---------------+-----------------------+---------------+-----------------------+--------------------+-----------------------+-----------------------+-----------------------+----+---------------+------------+----------------+-----------------------+------------------------+-----------------------+------------------------+-----------------+-----------------------+----------------+--------------------+----------------------+------------------+----------------------+----------------------+------------------------+--------------------------+------------------+----------------+----------------------+-----------------------+-----------------------+----------------------+---------------------+----------------------+-----------------------+------+\n",
      "|333149|479990|             0|               0.0|                     0.0|                null|              0.0|             0.0|                   0.0|                   null|                   null|               0.0|                  0.0|                   null|               null|           0.0|              0.0|                 0.0|                   null|           0.0|              null|                 0.0|              0|19069.6917166667|                   null|                       null|                  null|               0.0|             null|               null|                0.0|         null|                   null|                   null|              0.0|            0.0|                0.0|           null|            0.0|               1|   null|              0|                   null|             null|        0.0|  0.981818181818182|0.9264718189135429|          0.0|324|                   null|             0|                   null|                 0.0|               0.0|        null|                   null|           null|          null|               0|           null|         null|           null|                   null|  0.139327197286461|          0.0|           null|           null|         null|                     0.0|0.24404241658152398|                   null|    0.14429972251526998|                 0.0|                   null|               0.0|      0.351851851851852|      0.166666666666667|                   0.0|      0.329320637235633|                     0.0|                   null|           45.0|                   null|           45.0|    0.16790105289165602|                 0.0|                   null|                    0.0|    0.30374965665416803| 102|           null|        null|5.48000105784548|                    0.0|                     0.0|                   null|                     0.0|             null|      0.305106289785464|            null| 0.34545454545454496|                  null|               0.0|                   1.0|                   0.0|                    null|      0.003523608174770...|               0.0|             0.0|                   0.0|                    0.0|                    0.0|                   0.0|                  0.0|                   0.0|                    0.0|     0|\n",
      "+------+------+--------------+------------------+------------------------+--------------------+-----------------+----------------+----------------------+-----------------------+-----------------------+------------------+---------------------+-----------------------+-------------------+--------------+-----------------+--------------------+-----------------------+--------------+------------------+--------------------+---------------+----------------+-----------------------+---------------------------+----------------------+------------------+-----------------+-------------------+-------------------+-------------+-----------------------+-----------------------+-----------------+---------------+-------------------+---------------+---------------+----------------+-------+---------------+-----------------------+-----------------+-----------+-------------------+------------------+-------------+---+-----------------------+--------------+-----------------------+--------------------+------------------+------------+-----------------------+---------------+--------------+----------------+---------------+-------------+---------------+-----------------------+-------------------+-------------+---------------+---------------+-------------+------------------------+-------------------+-----------------------+-----------------------+--------------------+-----------------------+------------------+-----------------------+-----------------------+----------------------+-----------------------+------------------------+-----------------------+---------------+-----------------------+---------------+-----------------------+--------------------+-----------------------+-----------------------+-----------------------+----+---------------+------------+----------------+-----------------------+------------------------+-----------------------+------------------------+-----------------+-----------------------+----------------+--------------------+----------------------+------------------+----------------------+----------------------+------------------------+--------------------------+------------------+----------------+----------------------+-----------------------+-----------------------+----------------------+---------------------+----------------------+-----------------------+------+\n",
      "only showing top 1 row\n",
      "\n"
     ]
    }
   ],
   "source": [
    "train.show(1)"
   ]
  },
  {
   "cell_type": "code",
   "execution_count": 61,
   "metadata": {},
   "outputs": [
    {
     "data": {
      "text/plain": [
       "train1 = [ID: string, TARGET: string ... 20 more fields]\n",
       "test1 = [ID: string, TRANS_CNT_TENDENCY3M: string ... 19 more fields]\n"
      ]
     },
     "metadata": {},
     "output_type": "display_data"
    },
    {
     "data": {
      "text/plain": [
       "lastException: Throwable = null\n"
      ]
     },
     "metadata": {},
     "output_type": "display_data"
    },
    {
     "data": {
      "text/plain": [
       "[ID: string, TRANS_CNT_TENDENCY3M: string ... 19 more fields]"
      ]
     },
     "execution_count": 61,
     "metadata": {},
     "output_type": "execute_result"
    }
   ],
   "source": [
    "var train1 = train.select(\"ID\", \"TARGET\", \"TRANS_CNT_TENDENCY3M\", \"TURNOVER_DYNAMIC_CC_3M\", \"TURNOVER_DYNAMIC_CUR_3M\",\n",
    "                            \"TURNOVER_DYNAMIC_IL_3M\", \"TURNOVER_DYNAMIC_PAYM_3M\",\n",
    "                           \"SUM_TRAN_SUP_TENDENCY3M\", \"SUM_TRAN_MED_TENDENCY3M\", \"SUM_TRAN_CLO_TENDENCY3M\", \"SUM_TRAN_AUT_TENDENCY3M\",\n",
    "                           \"REST_DYNAMIC_SAVE_3M\", \"REST_DYNAMIC_PAYM_3M\", \"REST_DYNAMIC_IL_3M\", \"REST_DYNAMIC_FDEP_3M\",\n",
    "                           \"REST_DYNAMIC_CUR_3M\", \"REST_DYNAMIC_CC_3M\",\n",
    "                           \"CNT_TRAN_SUP_TENDENCY3M\", \"CNT_TRAN_MED_TENDENCY3M\", \"CNT_TRAN_CLO_TENDENCY3M\", \"CNT_TRAN_AUT_TENDENCY3M\",\n",
    "                           \"CNT_TRAN_ATM_TENDENCY3M\")\n",
    "var test1 = test.select(\"ID\",  \"TRANS_CNT_TENDENCY3M\", \"TURNOVER_DYNAMIC_CC_3M\", \"TURNOVER_DYNAMIC_CUR_3M\",\n",
    "                        \"TURNOVER_DYNAMIC_IL_3M\", \"TURNOVER_DYNAMIC_PAYM_3M\",\n",
    "                       \"SUM_TRAN_SUP_TENDENCY3M\", \"SUM_TRAN_MED_TENDENCY3M\", \"SUM_TRAN_CLO_TENDENCY3M\", \"SUM_TRAN_AUT_TENDENCY3M\",\n",
    "                       \"REST_DYNAMIC_SAVE_3M\", \"REST_DYNAMIC_PAYM_3M\", \"REST_DYNAMIC_IL_3M\", \"REST_DYNAMIC_FDEP_3M\",\n",
    "                       \"REST_DYNAMIC_CUR_3M\", \"REST_DYNAMIC_CC_3M\",\n",
    "                       \"CNT_TRAN_SUP_TENDENCY3M\", \"CNT_TRAN_MED_TENDENCY3M\", \"CNT_TRAN_CLO_TENDENCY3M\", \"CNT_TRAN_AUT_TENDENCY3M\",\n",
    "                       \"CNT_TRAN_ATM_TENDENCY3M\")"
   ]
  },
  {
   "cell_type": "code",
   "execution_count": 63,
   "metadata": {},
   "outputs": [
    {
     "data": {
      "text/plain": [
       "feature_list = Array(CNT_TRAN_ATM_TENDENCY3M, CNT_TRAN_AUT_TENDENCY3M, CNT_TRAN_CLO_TENDENCY3M, CNT_TRAN_MED_TENDENCY3M, CNT_TRAN_SUP_TENDENCY3M, REST_DYNAMIC_CC_3M, REST_DYNAMIC_CUR_3M, REST_DYNAMIC_FDEP_3M, REST_DYNAMIC_IL_3M, REST_DYNAMIC_PAYM_3M, REST_DYNAMIC_SAVE_3M, SUM_TRAN_AUT_TENDENCY3M, SUM_TRAN_CLO_TENDENCY3M, SUM_TRAN_MED_TENDENCY3M, SUM_TRAN_SUP_TENDENCY3M, TURNOVER_DYNAMIC_PAYM_3M, TURNOVER_DYNAMIC_IL_3M, TURNOVER_DYNAMIC_CUR_3M, TURNOVER_DYNAMIC_CC_3M, TRANS_CNT_TENDENCY3M, TARGET)\n",
       "b = Array(CNT_TRAN_ATM_TENDENCY3M, CNT_TRAN_AUT_TENDENCY3M, CNT_TRAN_CLO_TENDENCY3M, CNT_TRAN_MED_TENDENCY3M, CNT_TRAN_SUP_TENDENCY3M, REST_DYNAMIC_CC_3M, REST_DYNAMIC_CUR_3M, REST_DYNAMIC_FDEP_3M, REST_DYNAMIC_IL_3M, REST_DYNAMIC_PAYM_3M, REST_DYNAMIC_SAVE_3M, SUM...\n"
      ]
     },
     "metadata": {},
     "output_type": "display_data"
    },
    {
     "data": {
      "text/plain": [
       "Array(CNT_TRAN_ATM_TENDENCY3M, CNT_TRAN_AUT_TENDENCY3M, CNT_TRAN_CLO_TENDENCY3M, CNT_TRAN_MED_TENDENCY3M, CNT_TRAN_SUP_TENDENCY3M, REST_DYNAMIC_CC_3M, REST_DYNAMIC_CUR_3M, REST_DYNAMIC_FDEP_3M, REST_DYNAMIC_IL_3M, REST_DYNAMIC_PAYM_3M, REST_DYNAMIC_SAVE_3M, SUM..."
      ]
     },
     "execution_count": 63,
     "metadata": {},
     "output_type": "execute_result"
    }
   ],
   "source": [
    "var feature_list = Array[String]()\n",
    "for (t <- train1.columns if (t!=\"ID\"))\n",
    "{ train1 = train1.withColumn(t, col(t).cast(FloatType))\n",
    "        feature_list +:= t}\n",
    "val b = feature_list.filter(! _.contains(\"TARGET\"))"
   ]
  },
  {
   "cell_type": "code",
   "execution_count": 64,
   "metadata": {},
   "outputs": [],
   "source": [
    "for (t <- test1.columns if (t!=\"ID\"))\n",
    "{ test1 = test1.withColumn(t, col(t).cast(FloatType))}"
   ]
  },
  {
   "cell_type": "code",
   "execution_count": 65,
   "metadata": {},
   "outputs": [
    {
     "data": {
      "text/plain": [
       "test1 = [ID: string, TRANS_CNT_TENDENCY3M: float ... 19 more fields]\n",
       "train1 = [ID: string, TARGET: float ... 20 more fields]\n"
      ]
     },
     "metadata": {},
     "output_type": "display_data"
    },
    {
     "data": {
      "text/plain": [
       "[ID: string, TARGET: float ... 20 more fields]"
      ]
     },
     "execution_count": 65,
     "metadata": {},
     "output_type": "execute_result"
    }
   ],
   "source": [
    "test1 = test1.na.fill(value=0.0)\n",
    "train1 = train1.na.fill(value=0.0)"
   ]
  },
  {
   "cell_type": "code",
   "execution_count": 66,
   "metadata": {},
   "outputs": [
    {
     "data": {
      "text/plain": [
       "assembler = vecAssembler_cc981d3894f2\n"
      ]
     },
     "metadata": {},
     "output_type": "display_data"
    },
    {
     "data": {
      "text/plain": [
       "vecAssembler_cc981d3894f2"
      ]
     },
     "execution_count": 66,
     "metadata": {},
     "output_type": "execute_result"
    }
   ],
   "source": [
    "val assembler = new VectorAssembler()\n",
    "                    .setInputCols(b)\n",
    "                    .setOutputCol(\"features\")"
   ]
  },
  {
   "cell_type": "code",
   "execution_count": 67,
   "metadata": {},
   "outputs": [
    {
     "data": {
      "text/plain": [
       "train1 = [ID: string, TARGET: int ... 20 more fields]\n"
      ]
     },
     "metadata": {},
     "output_type": "display_data"
    },
    {
     "data": {
      "text/plain": [
       "[ID: string, TARGET: int ... 20 more fields]"
      ]
     },
     "execution_count": 67,
     "metadata": {},
     "output_type": "execute_result"
    }
   ],
   "source": [
    "train1 = train1.withColumn(\"TARGET\", col(\"TARGET\").cast(IntegerType))"
   ]
  },
  {
   "cell_type": "code",
   "execution_count": 68,
   "metadata": {},
   "outputs": [
    {
     "data": {
      "text/plain": [
       "StructType(StructField(ID,StringType,true), StructField(TARGET,IntegerType,true), StructField(TRANS_CNT_TENDENCY3M,FloatType,false), StructField(TURNOVER_DYNAMIC_CC_3M,FloatType,false), StructField(TURNOVER_DYNAMIC_CUR_3M,FloatType,false), StructField(TURNOVER_DYNAMIC_IL_3M,FloatType,false), StructField(TURNOVER_DYNAMIC_PAYM_3M,FloatType,false), StructField(SUM_TRAN_SUP_TENDENCY3M,FloatType,false), StructField(SUM_TRAN_MED_TENDENCY3M,FloatType,false), StructField(SUM_TRAN_CLO_TENDENCY3M,FloatType,false), StructField(SUM_TRAN_AUT_TENDENCY3M,FloatType,false), StructField(REST_DYNAMIC_SAVE_3M,FloatType,false), StructField(REST_DYNAMIC_PAYM_3M,FloatType,false), StructField(REST_DYNAMIC_IL_3M,FloatType,false), StructField(REST_DYNAMIC_FDEP_3M,F..."
      ]
     },
     "execution_count": 68,
     "metadata": {},
     "output_type": "execute_result"
    }
   ],
   "source": [
    "train1.schema"
   ]
  },
  {
   "cell_type": "code",
   "execution_count": 69,
   "metadata": {},
   "outputs": [
    {
     "data": {
      "text/plain": [
       "train2 = [ID: string, TARGET: int ... 21 more fields]\n"
      ]
     },
     "metadata": {},
     "output_type": "display_data"
    },
    {
     "data": {
      "text/plain": [
       "[ID: string, TARGET: int ... 21 more fields]"
      ]
     },
     "execution_count": 69,
     "metadata": {},
     "output_type": "execute_result"
    }
   ],
   "source": [
    "val train2=assembler.transform(train1)"
   ]
  },
  {
   "cell_type": "code",
   "execution_count": 58,
   "metadata": {},
   "outputs": [
    {
     "data": {
      "text/plain": [
       "evaluator = binEval_38d9fde76a6e\n"
      ]
     },
     "metadata": {},
     "output_type": "display_data"
    },
    {
     "data": {
      "text/plain": [
       "binEval_38d9fde76a6e"
      ]
     },
     "execution_count": 58,
     "metadata": {},
     "output_type": "execute_result"
    }
   ],
   "source": [
    "val evaluator = new BinaryClassificationEvaluator()\n",
    "                        .setLabelCol(\"TARGET\")\n",
    "                        .setRawPredictionCol(\"probability\")\n",
    "                        .setMetricName(\"areaUnderROC\")"
   ]
  },
  {
   "cell_type": "code",
   "execution_count": 70,
   "metadata": {},
   "outputs": [
    {
     "data": {
      "text/plain": [
       "rf = rfc_8ca846d5b0b6\n"
      ]
     },
     "metadata": {},
     "output_type": "display_data"
    },
    {
     "data": {
      "text/plain": [
       "rfc_8ca846d5b0b6"
      ]
     },
     "execution_count": 70,
     "metadata": {},
     "output_type": "execute_result"
    }
   ],
   "source": [
    "val rf = new RandomForestClassifier()\n",
    "      .setFeaturesCol(\"features\")\n",
    "      .setLabelCol(\"TARGET\")\n",
    "      .setNumTrees(50)\n",
    "      .setMaxDepth(10)\n",
    "      .setSubsamplingRate(0.7)"
   ]
  },
  {
   "cell_type": "code",
   "execution_count": 71,
   "metadata": {},
   "outputs": [
    {
     "data": {
      "text/plain": [
       "test2 = [ID: string, TRANS_CNT_TENDENCY3M: float ... 20 more fields]\n"
      ]
     },
     "metadata": {},
     "output_type": "display_data"
    },
    {
     "data": {
      "text/plain": [
       "[ID: string, TRANS_CNT_TENDENCY3M: float ... 20 more fields]"
      ]
     },
     "execution_count": 71,
     "metadata": {},
     "output_type": "execute_result"
    }
   ],
   "source": [
    "val test2=assembler.transform(test1)"
   ]
  },
  {
   "cell_type": "code",
   "execution_count": 72,
   "metadata": {},
   "outputs": [
    {
     "data": {
      "text/plain": [
       "model_rf = RandomForestClassificationModel (uid=rfc_8ca846d5b0b6) with 50 trees\n"
      ]
     },
     "metadata": {},
     "output_type": "display_data"
    },
    {
     "data": {
      "text/plain": [
       "RandomForestClassificationModel (uid=rfc_8ca846d5b0b6) with 50 trees"
      ]
     },
     "execution_count": 72,
     "metadata": {},
     "output_type": "execute_result"
    }
   ],
   "source": [
    "val model_rf = rf.fit(train2)"
   ]
  },
  {
   "cell_type": "code",
   "execution_count": 73,
   "metadata": {},
   "outputs": [
    {
     "data": {
      "text/plain": [
       "predictions_train = [ID: string, TARGET: int ... 24 more fields]\n"
      ]
     },
     "metadata": {},
     "output_type": "display_data"
    },
    {
     "data": {
      "text/plain": [
       "[ID: string, TARGET: int ... 24 more fields]"
      ]
     },
     "execution_count": 73,
     "metadata": {},
     "output_type": "execute_result"
    }
   ],
   "source": [
    "val predictions_train = model_rf.transform(train2)"
   ]
  },
  {
   "cell_type": "code",
   "execution_count": null,
   "metadata": {},
   "outputs": [],
   "source": []
  },
  {
   "cell_type": "code",
   "execution_count": null,
   "metadata": {},
   "outputs": [],
   "source": []
  },
  {
   "cell_type": "code",
   "execution_count": 81,
   "metadata": {},
   "outputs": [
    {
     "data": {
      "text/plain": [
       "predictions_test = [ID: string, TRANS_CNT_TENDENCY3M: float ... 23 more fields]\n"
      ]
     },
     "metadata": {},
     "output_type": "display_data"
    },
    {
     "data": {
      "text/plain": [
       "[ID: string, TRANS_CNT_TENDENCY3M: float ... 23 more fields]"
      ]
     },
     "execution_count": 81,
     "metadata": {},
     "output_type": "execute_result"
    }
   ],
   "source": [
    "val predictions_test = model_rf.transform(test2)"
   ]
  },
  {
   "cell_type": "code",
   "execution_count": 100,
   "metadata": {},
   "outputs": [
    {
     "data": {
      "text/plain": [
       "vecToArray = UserDefinedFunction(<function1>,ArrayType(DoubleType,false),Some(List(org.apache.spark.mllib.linalg.VectorUDT@f71b0bce)))\n"
      ]
     },
     "metadata": {},
     "output_type": "display_data"
    },
    {
     "data": {
      "text/plain": [
       "UserDefinedFunction(<function1>,ArrayType(DoubleType,false),Some(List(org.apache.spark.mllib.linalg.VectorUDT@f71b0bce)))"
      ]
     },
     "execution_count": 100,
     "metadata": {},
     "output_type": "execute_result"
    }
   ],
   "source": [
    "val vecToArray = udf((v: Vector) =>  v.toArray)"
   ]
  },
  {
   "cell_type": "code",
   "execution_count": 96,
   "metadata": {},
   "outputs": [
    {
     "name": "stdout",
     "output_type": "stream",
     "text": [
      "root\n",
      " |-- ID: string (nullable = true)\n",
      " |-- TRANS_CNT_TENDENCY3M: float (nullable = false)\n",
      " |-- TURNOVER_DYNAMIC_CC_3M: float (nullable = false)\n",
      " |-- TURNOVER_DYNAMIC_CUR_3M: float (nullable = false)\n",
      " |-- TURNOVER_DYNAMIC_IL_3M: float (nullable = false)\n",
      " |-- TURNOVER_DYNAMIC_PAYM_3M: float (nullable = false)\n",
      " |-- SUM_TRAN_SUP_TENDENCY3M: float (nullable = false)\n",
      " |-- SUM_TRAN_MED_TENDENCY3M: float (nullable = false)\n",
      " |-- SUM_TRAN_CLO_TENDENCY3M: float (nullable = false)\n",
      " |-- SUM_TRAN_AUT_TENDENCY3M: float (nullable = false)\n",
      " |-- REST_DYNAMIC_SAVE_3M: float (nullable = false)\n",
      " |-- REST_DYNAMIC_PAYM_3M: float (nullable = false)\n",
      " |-- REST_DYNAMIC_IL_3M: float (nullable = false)\n",
      " |-- REST_DYNAMIC_FDEP_3M: float (nullable = false)\n",
      " |-- REST_DYNAMIC_CUR_3M: float (nullable = false)\n",
      " |-- REST_DYNAMIC_CC_3M: float (nullable = false)\n",
      " |-- CNT_TRAN_SUP_TENDENCY3M: float (nullable = false)\n",
      " |-- CNT_TRAN_MED_TENDENCY3M: float (nullable = false)\n",
      " |-- CNT_TRAN_CLO_TENDENCY3M: float (nullable = false)\n",
      " |-- CNT_TRAN_AUT_TENDENCY3M: float (nullable = false)\n",
      " |-- CNT_TRAN_ATM_TENDENCY3M: float (nullable = false)\n",
      " |-- features: vector (nullable = true)\n",
      " |-- rawPrediction: vector (nullable = true)\n",
      " |-- probability: vector (nullable = true)\n",
      " |-- prediction: double (nullable = false)\n",
      "\n"
     ]
    },
    {
     "data": {
      "text/plain": [
       "lastException: Throwable = null\n"
      ]
     },
     "metadata": {},
     "output_type": "display_data"
    }
   ],
   "source": [
    "predictions_test.printSchema()"
   ]
  },
  {
   "cell_type": "code",
   "execution_count": null,
   "metadata": {},
   "outputs": [],
   "source": [
    "val to_file = predictions_test.select(col(\"ID\").alias(\"id\"), vecToArray(col(\"probability\")).getItem(1).alias(\"target\")).coalesce(1)"
   ]
  },
  {
   "cell_type": "code",
   "execution_count": 91,
   "metadata": {},
   "outputs": [
    {
     "name": "stdout",
     "output_type": "stream",
     "text": [
      "+----------------------------------------+\n",
      "|probability                             |\n",
      "+----------------------------------------+\n",
      "|[0.7980660019990831,0.20193399800091705]|\n",
      "+----------------------------------------+\n",
      "only showing top 1 row\n",
      "\n"
     ]
    }
   ],
   "source": [
    "predictions_test.select(\"probability\").show(1, false)"
   ]
  },
  {
   "cell_type": "code",
   "execution_count": null,
   "metadata": {},
   "outputs": [],
   "source": [
    "to_file.show()"
   ]
  },
  {
   "cell_type": "code",
   "execution_count": null,
   "metadata": {},
   "outputs": [],
   "source": []
  },
  {
   "cell_type": "code",
   "execution_count": null,
   "metadata": {},
   "outputs": [],
   "source": []
  },
  {
   "cell_type": "code",
   "execution_count": null,
   "metadata": {},
   "outputs": [],
   "source": []
  },
  {
   "cell_type": "code",
   "execution_count": null,
   "metadata": {},
   "outputs": [],
   "source": [
    "import java.io.PrintWriter\n",
    "new PrintWriter(\"lab05.csv\") { write(to_file); close }"
   ]
  }
 ],
 "metadata": {
  "kernelspec": {
   "display_name": "Apache Toree - Scala",
   "language": "scala",
   "name": "apache_toree_scala"
  },
  "language_info": {
   "codemirror_mode": "text/x-scala",
   "file_extension": ".scala",
   "mimetype": "text/x-scala",
   "name": "scala",
   "pygments_lexer": "scala",
   "version": "2.11.12"
  }
 },
 "nbformat": 4,
 "nbformat_minor": 2
}
