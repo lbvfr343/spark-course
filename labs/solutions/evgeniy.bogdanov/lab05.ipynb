{
 "cells": [
  {
   "cell_type": "code",
   "execution_count": 36,
   "metadata": {},
   "outputs": [],
   "source": [
    "import org.apache.spark.sql.functions._\n",
    "import org.apache.spark.SparkContext._\n",
    "import org.apache.spark.sql.types._\n",
    "import org.apache.spark.sql.functions.{col, udf}\n",
    "import org.apache.spark.ml.linalg.Vector"
   ]
  },
  {
   "cell_type": "code",
   "execution_count": 2,
   "metadata": {},
   "outputs": [],
   "source": [
    "import org.apache.spark.ml.feature.VectorAssembler\n",
    "import org.apache.spark.ml.evaluation.BinaryClassificationEvaluator\n",
    "import org.apache.spark.ml.classification.{RandomForestClassificationModel, RandomForestClassifier}"
   ]
  },
  {
   "cell_type": "code",
   "execution_count": 3,
   "metadata": {},
   "outputs": [
    {
     "data": {
      "text/plain": [
       "spark = org.apache.spark.sql.SparkSession@3afa6d33\n"
      ]
     },
     "metadata": {},
     "output_type": "display_data"
    },
    {
     "data": {
      "text/plain": [
       "org.apache.spark.sql.SparkSession@3afa6d33"
      ]
     },
     "execution_count": 3,
     "metadata": {},
     "output_type": "execute_result"
    }
   ],
   "source": [
    "val spark = SparkSession.builder().appName(\"test\").config(\"spark.master\", \"yarn\").getOrCreate()"
   ]
  },
  {
   "cell_type": "code",
   "execution_count": 4,
   "metadata": {},
   "outputs": [
    {
     "data": {
      "text/plain": [
       "train = [_c0: string, ID: string ... 115 more fields]\n",
       "test = [_c0: string, ID: string ... 114 more fields]\n"
      ]
     },
     "metadata": {},
     "output_type": "display_data"
    },
    {
     "data": {
      "text/plain": [
       "[_c0: string, ID: string ... 114 more fields]"
      ]
     },
     "execution_count": 4,
     "metadata": {},
     "output_type": "execute_result"
    }
   ],
   "source": [
    "val train = spark.read\n",
    "                    .option(\"delimiter\", \",\")\n",
    "                    .option(\"header\", \"True\")\n",
    "                    .csv(\"/labs/slaba05/lab05_train.csv\")\n",
    "val test = spark.read\n",
    "                    .option(\"delimiter\", \",\")\n",
    "                    .option(\"header\", \"True\")\n",
    "                    .csv(\"/labs/slaba05/lab05_test.csv\")"
   ]
  },
  {
   "cell_type": "code",
   "execution_count": 7,
   "metadata": {},
   "outputs": [
    {
     "name": "stdout",
     "output_type": "stream",
     "text": [
      "+------+------+--------------+------------------+------------------------+--------------------+-----------------+----------------+----------------------+-----------------------+-----------------------+------------------+---------------------+-----------------------+-------------------+--------------+-----------------+--------------------+-----------------------+--------------+------------------+--------------------+---------------+----------------+-----------------------+---------------------------+----------------------+------------------+-----------------+-------------------+-------------------+-------------+-----------------------+-----------------------+-----------------+---------------+-------------------+---------------+---------------+----------------+-------+---------------+-----------------------+-----------------+-----------+-------------------+------------------+-------------+---+-----------------------+--------------+-----------------------+--------------------+------------------+------------+-----------------------+---------------+--------------+----------------+---------------+-------------+---------------+-----------------------+-------------------+-------------+---------------+---------------+-------------+------------------------+-------------------+-----------------------+-----------------------+--------------------+-----------------------+------------------+-----------------------+-----------------------+----------------------+-----------------------+------------------------+-----------------------+---------------+-----------------------+---------------+-----------------------+--------------------+-----------------------+-----------------------+-----------------------+----+---------------+------------+----------------+-----------------------+------------------------+-----------------------+------------------------+-----------------+-----------------------+----------------+--------------------+----------------------+------------------+----------------------+----------------------+------------------------+--------------------------+------------------+----------------+----------------------+-----------------------+-----------------------+----------------------+---------------------+----------------------+-----------------------+------+\n",
      "|   _c0|    ID|CR_PROD_CNT_IL|AMOUNT_RUB_CLO_PRC|PRC_ACCEPTS_A_EMAIL_LINK|APP_REGISTR_RGN_CODE|PRC_ACCEPTS_A_POS|PRC_ACCEPTS_A_TK|TURNOVER_DYNAMIC_IL_1M|CNT_TRAN_AUT_TENDENCY1M|SUM_TRAN_AUT_TENDENCY1M|AMOUNT_RUB_SUP_PRC|PRC_ACCEPTS_A_AMOBILE|SUM_TRAN_AUT_TENDENCY3M|CLNT_TRUST_RELATION|PRC_ACCEPTS_TK|PRC_ACCEPTS_A_MTP|REST_DYNAMIC_FDEP_1M|CNT_TRAN_AUT_TENDENCY3M|CNT_ACCEPTS_TK|APP_MARITAL_STATUS|REST_DYNAMIC_SAVE_3M|CR_PROD_CNT_VCU|    REST_AVG_CUR|CNT_TRAN_MED_TENDENCY1M|APP_KIND_OF_PROP_HABITATION|CLNT_JOB_POSITION_TYPE|AMOUNT_RUB_NAS_PRC|CLNT_JOB_POSITION|APP_DRIVING_LICENSE|TRANS_COUNT_SUP_PRC|APP_EDUCATION|CNT_TRAN_CLO_TENDENCY1M|SUM_TRAN_MED_TENDENCY1M|PRC_ACCEPTS_A_ATM|PRC_ACCEPTS_MTP|TRANS_COUNT_NAS_PRC|APP_TRAVEL_PASS|CNT_ACCEPTS_MTP|CR_PROD_CNT_TOVR|APP_CAR|CR_PROD_CNT_PIL|SUM_TRAN_CLO_TENDENCY1M|APP_POSITION_TYPE|TURNOVER_CC|TRANS_COUNT_ATM_PRC|AMOUNT_RUB_ATM_PRC|TURNOVER_PAYM|AGE|CNT_TRAN_MED_TENDENCY3M|CR_PROD_CNT_CC|SUM_TRAN_MED_TENDENCY3M|REST_DYNAMIC_FDEP_3M|REST_DYNAMIC_IL_1M|APP_EMP_TYPE|SUM_TRAN_CLO_TENDENCY3M|LDEAL_TENOR_MAX|LDEAL_YQZ_CHRG|CR_PROD_CNT_CCFP|DEAL_YQZ_IR_MAX|LDEAL_YQZ_COM|DEAL_YQZ_IR_MIN|CNT_TRAN_CLO_TENDENCY3M|REST_DYNAMIC_CUR_1M|REST_AVG_PAYM|LDEAL_TENOR_MIN|LDEAL_AMT_MONTH|APP_COMP_TYPE|LDEAL_GRACE_DAYS_PCT_MED|REST_DYNAMIC_CUR_3M|CNT_TRAN_SUP_TENDENCY3M|TURNOVER_DYNAMIC_CUR_1M|REST_DYNAMIC_PAYM_3M|SUM_TRAN_SUP_TENDENCY3M|REST_DYNAMIC_IL_3M|CNT_TRAN_ATM_TENDENCY3M|CNT_TRAN_ATM_TENDENCY1M|TURNOVER_DYNAMIC_IL_3M|SUM_TRAN_ATM_TENDENCY3M|DEAL_GRACE_DAYS_ACC_S1X1|AVG_PCT_MONTH_TO_PCLOSE|DEAL_YWZ_IR_MIN|SUM_TRAN_SUP_TENDENCY1M|DEAL_YWZ_IR_MAX|SUM_TRAN_ATM_TENDENCY1M|REST_DYNAMIC_PAYM_1M|CNT_TRAN_SUP_TENDENCY1M|DEAL_GRACE_DAYS_ACC_AVG|TURNOVER_DYNAMIC_CUR_3M|PACK|MAX_PCLOSE_DATE|LDEAL_YQZ_PC|CLNT_SETUP_TENOR|DEAL_GRACE_DAYS_ACC_MAX|TURNOVER_DYNAMIC_PAYM_3M|LDEAL_DELINQ_PER_MAXYQZ|TURNOVER_DYNAMIC_PAYM_1M|CLNT_SALARY_VALUE|TRANS_AMOUNT_TENDENCY3M|MED_DEBT_PRC_YQZ|TRANS_CNT_TENDENCY3M|LDEAL_USED_AMT_AVG_YQZ|REST_DYNAMIC_CC_1M|LDEAL_USED_AMT_AVG_YWZ|TURNOVER_DYNAMIC_CC_1M|AVG_PCT_DEBT_TO_DEAL_AMT|LDEAL_ACT_DAYS_ACC_PCT_AVG|REST_DYNAMIC_CC_3M|MED_DEBT_PRC_YWZ|LDEAL_ACT_DAYS_PCT_TR3|LDEAL_ACT_DAYS_PCT_AAVG|LDEAL_DELINQ_PER_MAXYWZ|TURNOVER_DYNAMIC_CC_3M|LDEAL_ACT_DAYS_PCT_TR|LDEAL_ACT_DAYS_PCT_TR4|LDEAL_ACT_DAYS_PCT_CURR|TARGET|\n",
      "+------+------+--------------+------------------+------------------------+--------------------+-----------------+----------------+----------------------+-----------------------+-----------------------+------------------+---------------------+-----------------------+-------------------+--------------+-----------------+--------------------+-----------------------+--------------+------------------+--------------------+---------------+----------------+-----------------------+---------------------------+----------------------+------------------+-----------------+-------------------+-------------------+-------------+-----------------------+-----------------------+-----------------+---------------+-------------------+---------------+---------------+----------------+-------+---------------+-----------------------+-----------------+-----------+-------------------+------------------+-------------+---+-----------------------+--------------+-----------------------+--------------------+------------------+------------+-----------------------+---------------+--------------+----------------+---------------+-------------+---------------+-----------------------+-------------------+-------------+---------------+---------------+-------------+------------------------+-------------------+-----------------------+-----------------------+--------------------+-----------------------+------------------+-----------------------+-----------------------+----------------------+-----------------------+------------------------+-----------------------+---------------+-----------------------+---------------+-----------------------+--------------------+-----------------------+-----------------------+-----------------------+----+---------------+------------+----------------+-----------------------+------------------------+-----------------------+------------------------+-----------------+-----------------------+----------------+--------------------+----------------------+------------------+----------------------+----------------------+------------------------+--------------------------+------------------+----------------+----------------------+-----------------------+-----------------------+----------------------+---------------------+----------------------+-----------------------+------+\n",
      "|333149|479990|             0|               0.0|                     0.0|                null|              0.0|             0.0|                   0.0|                   null|                   null|               0.0|                  0.0|                   null|               null|           0.0|              0.0|                 0.0|                   null|           0.0|              null|                 0.0|              0|19069.6917166667|                   null|                       null|                  null|               0.0|             null|               null|                0.0|         null|                   null|                   null|              0.0|            0.0|                0.0|           null|            0.0|               1|   null|              0|                   null|             null|        0.0|  0.981818181818182|0.9264718189135429|          0.0|324|                   null|             0|                   null|                 0.0|               0.0|        null|                   null|           null|          null|               0|           null|         null|           null|                   null|  0.139327197286461|          0.0|           null|           null|         null|                     0.0|0.24404241658152398|                   null|    0.14429972251526998|                 0.0|                   null|               0.0|      0.351851851851852|      0.166666666666667|                   0.0|      0.329320637235633|                     0.0|                   null|           45.0|                   null|           45.0|    0.16790105289165602|                 0.0|                   null|                    0.0|    0.30374965665416803| 102|           null|        null|5.48000105784548|                    0.0|                     0.0|                   null|                     0.0|             null|      0.305106289785464|            null| 0.34545454545454496|                  null|               0.0|                   1.0|                   0.0|                    null|      0.003523608174770...|               0.0|             0.0|                   0.0|                    0.0|                    0.0|                   0.0|                  0.0|                   0.0|                    0.0|     0|\n",
      "+------+------+--------------+------------------+------------------------+--------------------+-----------------+----------------+----------------------+-----------------------+-----------------------+------------------+---------------------+-----------------------+-------------------+--------------+-----------------+--------------------+-----------------------+--------------+------------------+--------------------+---------------+----------------+-----------------------+---------------------------+----------------------+------------------+-----------------+-------------------+-------------------+-------------+-----------------------+-----------------------+-----------------+---------------+-------------------+---------------+---------------+----------------+-------+---------------+-----------------------+-----------------+-----------+-------------------+------------------+-------------+---+-----------------------+--------------+-----------------------+--------------------+------------------+------------+-----------------------+---------------+--------------+----------------+---------------+-------------+---------------+-----------------------+-------------------+-------------+---------------+---------------+-------------+------------------------+-------------------+-----------------------+-----------------------+--------------------+-----------------------+------------------+-----------------------+-----------------------+----------------------+-----------------------+------------------------+-----------------------+---------------+-----------------------+---------------+-----------------------+--------------------+-----------------------+-----------------------+-----------------------+----+---------------+------------+----------------+-----------------------+------------------------+-----------------------+------------------------+-----------------+-----------------------+----------------+--------------------+----------------------+------------------+----------------------+----------------------+------------------------+--------------------------+------------------+----------------+----------------------+-----------------------+-----------------------+----------------------+---------------------+----------------------+-----------------------+------+\n",
      "only showing top 1 row\n",
      "\n"
     ]
    }
   ],
   "source": [
    "train.show(1)"
   ]
  },
  {
   "cell_type": "code",
   "execution_count": 5,
   "metadata": {},
   "outputs": [
    {
     "data": {
      "text/plain": [
       "train1 = [ID: string, TARGET: string ... 20 more fields]\n",
       "test1 = [ID: string, TRANS_CNT_TENDENCY3M: string ... 19 more fields]\n"
      ]
     },
     "metadata": {},
     "output_type": "display_data"
    },
    {
     "data": {
      "text/plain": [
       "[ID: string, TRANS_CNT_TENDENCY3M: string ... 19 more fields]"
      ]
     },
     "execution_count": 5,
     "metadata": {},
     "output_type": "execute_result"
    }
   ],
   "source": [
    "var train1 = train.select(\"ID\", \"TARGET\", \"TRANS_CNT_TENDENCY3M\", \"TURNOVER_DYNAMIC_CC_3M\", \"TURNOVER_DYNAMIC_CUR_3M\",\n",
    "                            \"TURNOVER_DYNAMIC_IL_3M\", \"TURNOVER_DYNAMIC_PAYM_3M\",\n",
    "                           \"SUM_TRAN_SUP_TENDENCY3M\", \"SUM_TRAN_MED_TENDENCY3M\", \"SUM_TRAN_CLO_TENDENCY3M\", \"SUM_TRAN_AUT_TENDENCY3M\",\n",
    "                           \"REST_DYNAMIC_SAVE_3M\", \"REST_DYNAMIC_PAYM_3M\", \"REST_DYNAMIC_IL_3M\", \"REST_DYNAMIC_FDEP_3M\",\n",
    "                           \"REST_DYNAMIC_CUR_3M\", \"REST_DYNAMIC_CC_3M\",\n",
    "                           \"CNT_TRAN_SUP_TENDENCY3M\", \"CNT_TRAN_MED_TENDENCY3M\", \"CNT_TRAN_CLO_TENDENCY3M\", \"CNT_TRAN_AUT_TENDENCY3M\",\n",
    "                           \"CNT_TRAN_ATM_TENDENCY3M\")\n",
    "var test1 = test.select(\"ID\",  \"TRANS_CNT_TENDENCY3M\", \"TURNOVER_DYNAMIC_CC_3M\", \"TURNOVER_DYNAMIC_CUR_3M\",\n",
    "                        \"TURNOVER_DYNAMIC_IL_3M\", \"TURNOVER_DYNAMIC_PAYM_3M\",\n",
    "                       \"SUM_TRAN_SUP_TENDENCY3M\", \"SUM_TRAN_MED_TENDENCY3M\", \"SUM_TRAN_CLO_TENDENCY3M\", \"SUM_TRAN_AUT_TENDENCY3M\",\n",
    "                       \"REST_DYNAMIC_SAVE_3M\", \"REST_DYNAMIC_PAYM_3M\", \"REST_DYNAMIC_IL_3M\", \"REST_DYNAMIC_FDEP_3M\",\n",
    "                       \"REST_DYNAMIC_CUR_3M\", \"REST_DYNAMIC_CC_3M\",\n",
    "                       \"CNT_TRAN_SUP_TENDENCY3M\", \"CNT_TRAN_MED_TENDENCY3M\", \"CNT_TRAN_CLO_TENDENCY3M\", \"CNT_TRAN_AUT_TENDENCY3M\",\n",
    "                       \"CNT_TRAN_ATM_TENDENCY3M\")"
   ]
  },
  {
   "cell_type": "code",
   "execution_count": 6,
   "metadata": {},
   "outputs": [
    {
     "data": {
      "text/plain": [
       "feature_list = Array(CNT_TRAN_ATM_TENDENCY3M, CNT_TRAN_AUT_TENDENCY3M, CNT_TRAN_CLO_TENDENCY3M, CNT_TRAN_MED_TENDENCY3M, CNT_TRAN_SUP_TENDENCY3M, REST_DYNAMIC_CC_3M, REST_DYNAMIC_CUR_3M, REST_DYNAMIC_FDEP_3M, REST_DYNAMIC_IL_3M, REST_DYNAMIC_PAYM_3M, REST_DYNAMIC_SAVE_3M, SUM_TRAN_AUT_TENDENCY3M, SUM_TRAN_CLO_TENDENCY3M, SUM_TRAN_MED_TENDENCY3M, SUM_TRAN_SUP_TENDENCY3M, TURNOVER_DYNAMIC_PAYM_3M, TURNOVER_DYNAMIC_IL_3M, TURNOVER_DYNAMIC_CUR_3M, TURNOVER_DYNAMIC_CC_3M, TRANS_CNT_TENDENCY3M, TARGET)\n",
       "b = Array(CNT_TRAN_ATM_TENDENCY3M, CNT_TRAN_AUT_TENDENCY3M, CNT_TRAN_CLO_TENDENCY3M, CNT_TRAN_MED_TENDENCY3M, CNT_TRAN_SUP_TENDENCY3M, REST_DYNAMIC_CC_3M, REST_DYNAMIC_CUR_3M, REST_DYNAMIC_FDEP_3M, REST_DYNAMIC_IL_3M, REST_DYNAMIC_PAYM_3M, REST_DYNAMIC_SAVE_3M, SUM...\n"
      ]
     },
     "metadata": {},
     "output_type": "display_data"
    },
    {
     "data": {
      "text/plain": [
       "Array(CNT_TRAN_ATM_TENDENCY3M, CNT_TRAN_AUT_TENDENCY3M, CNT_TRAN_CLO_TENDENCY3M, CNT_TRAN_MED_TENDENCY3M, CNT_TRAN_SUP_TENDENCY3M, REST_DYNAMIC_CC_3M, REST_DYNAMIC_CUR_3M, REST_DYNAMIC_FDEP_3M, REST_DYNAMIC_IL_3M, REST_DYNAMIC_PAYM_3M, REST_DYNAMIC_SAVE_3M, SUM..."
      ]
     },
     "execution_count": 6,
     "metadata": {},
     "output_type": "execute_result"
    }
   ],
   "source": [
    "var feature_list = Array[String]()\n",
    "for (t <- train1.columns if (t!=\"ID\"))\n",
    "{ train1 = train1.withColumn(t, col(t).cast(FloatType))\n",
    "        feature_list +:= t}\n",
    "val b = feature_list.filter(! _.contains(\"TARGET\"))"
   ]
  },
  {
   "cell_type": "code",
   "execution_count": 7,
   "metadata": {},
   "outputs": [],
   "source": [
    "for (t <- test1.columns if (t!=\"ID\"))\n",
    "{ test1 = test1.withColumn(t, col(t).cast(FloatType))}"
   ]
  },
  {
   "cell_type": "code",
   "execution_count": 9,
   "metadata": {},
   "outputs": [
    {
     "data": {
      "text/plain": [
       "test1 = [ID: string, TRANS_CNT_TENDENCY3M: float ... 19 more fields]\n",
       "train1 = [ID: string, TARGET: float ... 20 more fields]\n"
      ]
     },
     "metadata": {},
     "output_type": "display_data"
    },
    {
     "data": {
      "text/plain": [
       "[ID: string, TARGET: float ... 20 more fields]"
      ]
     },
     "execution_count": 9,
     "metadata": {},
     "output_type": "execute_result"
    }
   ],
   "source": [
    "test1 = test1.na.fill(value=0.0)\n",
    "train1 = train1.na.fill(value=0.0)"
   ]
  },
  {
   "cell_type": "code",
   "execution_count": 11,
   "metadata": {},
   "outputs": [
    {
     "data": {
      "text/plain": [
       "vector = vecAssembler_33871a58ed39\n"
      ]
     },
     "metadata": {},
     "output_type": "display_data"
    },
    {
     "data": {
      "text/plain": [
       "vecAssembler_33871a58ed39"
      ]
     },
     "execution_count": 11,
     "metadata": {},
     "output_type": "execute_result"
    }
   ],
   "source": [
    "val vector = new VectorAssembler()\n",
    "                    .setInputCols(b)\n",
    "                    .setOutputCol(\"features\")"
   ]
  },
  {
   "cell_type": "code",
   "execution_count": 12,
   "metadata": {},
   "outputs": [
    {
     "data": {
      "text/plain": [
       "train1 = [ID: string, TARGET: int ... 20 more fields]\n"
      ]
     },
     "metadata": {},
     "output_type": "display_data"
    },
    {
     "data": {
      "text/plain": [
       "[ID: string, TARGET: int ... 20 more fields]"
      ]
     },
     "execution_count": 12,
     "metadata": {},
     "output_type": "execute_result"
    }
   ],
   "source": [
    "train1 = train1.withColumn(\"TARGET\", col(\"TARGET\").cast(IntegerType))"
   ]
  },
  {
   "cell_type": "code",
   "execution_count": 13,
   "metadata": {},
   "outputs": [
    {
     "data": {
      "text/plain": [
       "StructType(StructField(ID,StringType,true), StructField(TARGET,IntegerType,true), StructField(TRANS_CNT_TENDENCY3M,FloatType,false), StructField(TURNOVER_DYNAMIC_CC_3M,FloatType,false), StructField(TURNOVER_DYNAMIC_CUR_3M,FloatType,false), StructField(TURNOVER_DYNAMIC_IL_3M,FloatType,false), StructField(TURNOVER_DYNAMIC_PAYM_3M,FloatType,false), StructField(SUM_TRAN_SUP_TENDENCY3M,FloatType,false), StructField(SUM_TRAN_MED_TENDENCY3M,FloatType,false), StructField(SUM_TRAN_CLO_TENDENCY3M,FloatType,false), StructField(SUM_TRAN_AUT_TENDENCY3M,FloatType,false), StructField(REST_DYNAMIC_SAVE_3M,FloatType,false), StructField(REST_DYNAMIC_PAYM_3M,FloatType,false), StructField(REST_DYNAMIC_IL_3M,FloatType,false), StructField(REST_DYNAMIC_FDEP_3M,Fl..."
      ]
     },
     "execution_count": 13,
     "metadata": {},
     "output_type": "execute_result"
    }
   ],
   "source": [
    "train1.schema"
   ]
  },
  {
   "cell_type": "code",
   "execution_count": 14,
   "metadata": {},
   "outputs": [
    {
     "data": {
      "text/plain": [
       "train2 = [ID: string, TARGET: int ... 21 more fields]\n"
      ]
     },
     "metadata": {},
     "output_type": "display_data"
    },
    {
     "data": {
      "text/plain": [
       "[ID: string, TARGET: int ... 21 more fields]"
      ]
     },
     "execution_count": 14,
     "metadata": {},
     "output_type": "execute_result"
    }
   ],
   "source": [
    "val train2=vector.transform(train1)"
   ]
  },
  {
   "cell_type": "code",
   "execution_count": 15,
   "metadata": {},
   "outputs": [
    {
     "data": {
      "text/plain": [
       "evaluator = binEval_4135c72ebc19\n"
      ]
     },
     "metadata": {},
     "output_type": "display_data"
    },
    {
     "data": {
      "text/plain": [
       "binEval_4135c72ebc19"
      ]
     },
     "execution_count": 15,
     "metadata": {},
     "output_type": "execute_result"
    }
   ],
   "source": [
    "val evaluator  = new BinaryClassificationEvaluator()\n",
    "                        .setLabelCol(\"TARGET\")\n",
    "                        .setRawPredictionCol(\"probability\")\n",
    "                        .setMetricName(\"areaUnderROC\")"
   ]
  },
  {
   "cell_type": "code",
   "execution_count": 17,
   "metadata": {},
   "outputs": [
    {
     "data": {
      "text/plain": [
       "clf = rfc_515161b09aad\n"
      ]
     },
     "metadata": {},
     "output_type": "display_data"
    },
    {
     "data": {
      "text/plain": [
       "rfc_515161b09aad"
      ]
     },
     "execution_count": 17,
     "metadata": {},
     "output_type": "execute_result"
    }
   ],
   "source": [
    "val clf = new RandomForestClassifier()\n",
    "      .setFeaturesCol(\"features\")\n",
    "      .setLabelCol(\"TARGET\")\n",
    "      .setNumTrees(30)\n",
    "      .setMaxDepth(10)\n",
    "      .setSubsamplingRate(0.7)"
   ]
  },
  {
   "cell_type": "code",
   "execution_count": 18,
   "metadata": {},
   "outputs": [
    {
     "data": {
      "text/plain": [
       "test2 = [ID: string, TRANS_CNT_TENDENCY3M: float ... 20 more fields]\n"
      ]
     },
     "metadata": {},
     "output_type": "display_data"
    },
    {
     "data": {
      "text/plain": [
       "[ID: string, TRANS_CNT_TENDENCY3M: float ... 20 more fields]"
      ]
     },
     "execution_count": 18,
     "metadata": {},
     "output_type": "execute_result"
    }
   ],
   "source": [
    "val test2=vector.transform(test1)"
   ]
  },
  {
   "cell_type": "code",
   "execution_count": 21,
   "metadata": {},
   "outputs": [
    {
     "data": {
      "text/plain": [
       "model_clf = RandomForestClassificationModel (uid=rfc_515161b09aad) with 30 trees\n"
      ]
     },
     "metadata": {},
     "output_type": "display_data"
    },
    {
     "data": {
      "text/plain": [
       "RandomForestClassificationModel (uid=rfc_515161b09aad) with 30 trees"
      ]
     },
     "execution_count": 21,
     "metadata": {},
     "output_type": "execute_result"
    }
   ],
   "source": [
    "val model_clf = clf.fit(train2)"
   ]
  },
  {
   "cell_type": "code",
   "execution_count": 22,
   "metadata": {},
   "outputs": [
    {
     "data": {
      "text/plain": [
       "predictions_train = [ID: string, TARGET: int ... 24 more fields]\n"
      ]
     },
     "metadata": {},
     "output_type": "display_data"
    },
    {
     "data": {
      "text/plain": [
       "[ID: string, TARGET: int ... 24 more fields]"
      ]
     },
     "execution_count": 22,
     "metadata": {},
     "output_type": "execute_result"
    }
   ],
   "source": [
    "val predictions_train = model_clf.transform(train2)"
   ]
  },
  {
   "cell_type": "code",
   "execution_count": null,
   "metadata": {},
   "outputs": [],
   "source": []
  },
  {
   "cell_type": "code",
   "execution_count": null,
   "metadata": {},
   "outputs": [],
   "source": []
  },
  {
   "cell_type": "code",
   "execution_count": 23,
   "metadata": {},
   "outputs": [
    {
     "data": {
      "text/plain": [
       "predictions_test = [ID: string, TRANS_CNT_TENDENCY3M: float ... 23 more fields]\n"
      ]
     },
     "metadata": {},
     "output_type": "display_data"
    },
    {
     "data": {
      "text/plain": [
       "[ID: string, TRANS_CNT_TENDENCY3M: float ... 23 more fields]"
      ]
     },
     "execution_count": 23,
     "metadata": {},
     "output_type": "execute_result"
    }
   ],
   "source": [
    "val predictions_test = model_rf.transform(test2)"
   ]
  },
  {
   "cell_type": "code",
   "execution_count": 37,
   "metadata": {},
   "outputs": [
    {
     "data": {
      "text/plain": [
       "vecToArray = UserDefinedFunction(<function1>,ArrayType(DoubleType,false),Some(List(org.apache.spark.ml.linalg.VectorUDT@3bfc3ba7)))\n"
      ]
     },
     "metadata": {},
     "output_type": "display_data"
    },
    {
     "data": {
      "text/plain": [
       "UserDefinedFunction(<function1>,ArrayType(DoubleType,false),Some(List(org.apache.spark.ml.linalg.VectorUDT@3bfc3ba7)))"
      ]
     },
     "execution_count": 37,
     "metadata": {},
     "output_type": "execute_result"
    }
   ],
   "source": [
    "val vecToArray = udf((v: Vector) =>  v.toArray)"
   ]
  },
  {
   "cell_type": "code",
   "execution_count": 38,
   "metadata": {},
   "outputs": [
    {
     "name": "stdout",
     "output_type": "stream",
     "text": [
      "+------------------+\n",
      "|            target|\n",
      "+------------------+\n",
      "|0.2007249596167553|\n",
      "+------------------+\n",
      "only showing top 1 row\n",
      "\n"
     ]
    }
   ],
   "source": [
    "predictions_test.select(vecToArray(col(\"probability\")).getItem(1).alias(\"target\")).show(1)"
   ]
  },
  {
   "cell_type": "code",
   "execution_count": 33,
   "metadata": {},
   "outputs": [
    {
     "data": {
      "text/plain": [
       "Name: org.apache.spark.sql.AnalysisException\n",
       "Message: cannot resolve 'UDF(probability)' due to data type mismatch: argument 1 requires vector type, however, '`probability`' is of struct<type:tinyint,size:int,indices:array<int>,values:array<double>> type.;;\n",
       "'Project [UDF(probability#2754) AS UDF(probability)#3275]\n",
       "+- Project [ID#255, TRANS_CNT_TENDENCY3M#1600, TURNOVER_DYNAMIC_CC_3M#1601, TURNOVER_DYNAMIC_CUR_3M#1602, TURNOVER_DYNAMIC_IL_3M#1603, TURNOVER_DYNAMIC_PAYM_3M#1604, SUM_TRAN_SUP_TENDENCY3M#1605, SUM_TRAN_MED_TENDENCY3M#1606, SUM_TRAN_CLO_TENDENCY3M#1607, SUM_TRAN_AUT_TENDENCY3M#1608, REST_DYNAMIC_SAVE_3M#1609, REST_DYNAMIC_PAYM_3M#1610, REST_DYNAMIC_IL_3M#1611, REST_DYNAMIC_FDEP_3M#1612, REST_DYNAMIC_CUR_3M#1613, REST_DYNAMIC_CC_3M#1614, CNT_TRAN_SUP_TENDENCY3M#1615, CNT_TRAN_MED_TENDENCY3M#1616, CNT_TRAN_CLO_TENDENCY3M#1617, CNT_TRAN_AUT_TENDENCY3M#1618, CNT_TRAN_ATM_TENDENCY3M#1619, features#1793, rawPrediction#2730, probability#2754, UDF(rawPrediction#2730) AS prediction#2779]\n",
       "   +- Project [ID#255, TRANS_CNT_TENDENCY3M#1600, TURNOVER_DYNAMIC_CC_3M#1601, TURNOVER_DYNAMIC_CUR_3M#1602, TURNOVER_DYNAMIC_IL_3M#1603, TURNOVER_DYNAMIC_PAYM_3M#1604, SUM_TRAN_SUP_TENDENCY3M#1605, SUM_TRAN_MED_TENDENCY3M#1606, SUM_TRAN_CLO_TENDENCY3M#1607, SUM_TRAN_AUT_TENDENCY3M#1608, REST_DYNAMIC_SAVE_3M#1609, REST_DYNAMIC_PAYM_3M#1610, REST_DYNAMIC_IL_3M#1611, REST_DYNAMIC_FDEP_3M#1612, REST_DYNAMIC_CUR_3M#1613, REST_DYNAMIC_CC_3M#1614, CNT_TRAN_SUP_TENDENCY3M#1615, CNT_TRAN_MED_TENDENCY3M#1616, CNT_TRAN_CLO_TENDENCY3M#1617, CNT_TRAN_AUT_TENDENCY3M#1618, CNT_TRAN_ATM_TENDENCY3M#1619, features#1793, rawPrediction#2730, UDF(rawPrediction#2730) AS probability#2754]\n",
       "      +- Project [ID#255, TRANS_CNT_TENDENCY3M#1600, TURNOVER_DYNAMIC_CC_3M#1601, TURNOVER_DYNAMIC_CUR_3M#1602, TURNOVER_DYNAMIC_IL_3M#1603, TURNOVER_DYNAMIC_PAYM_3M#1604, SUM_TRAN_SUP_TENDENCY3M#1605, SUM_TRAN_MED_TENDENCY3M#1606, SUM_TRAN_CLO_TENDENCY3M#1607, SUM_TRAN_AUT_TENDENCY3M#1608, REST_DYNAMIC_SAVE_3M#1609, REST_DYNAMIC_PAYM_3M#1610, REST_DYNAMIC_IL_3M#1611, REST_DYNAMIC_FDEP_3M#1612, REST_DYNAMIC_CUR_3M#1613, REST_DYNAMIC_CC_3M#1614, CNT_TRAN_SUP_TENDENCY3M#1615, CNT_TRAN_MED_TENDENCY3M#1616, CNT_TRAN_CLO_TENDENCY3M#1617, CNT_TRAN_AUT_TENDENCY3M#1618, CNT_TRAN_ATM_TENDENCY3M#1619, features#1793, UDF(features#1793) AS rawPrediction#2730]\n",
       "         +- Project [ID#255, TRANS_CNT_TENDENCY3M#1600, TURNOVER_DYNAMIC_CC_3M#1601, TURNOVER_DYNAMIC_CUR_3M#1602, TURNOVER_DYNAMIC_IL_3M#1603, TURNOVER_DYNAMIC_PAYM_3M#1604, SUM_TRAN_SUP_TENDENCY3M#1605, SUM_TRAN_MED_TENDENCY3M#1606, SUM_TRAN_CLO_TENDENCY3M#1607, SUM_TRAN_AUT_TENDENCY3M#1608, REST_DYNAMIC_SAVE_3M#1609, REST_DYNAMIC_PAYM_3M#1610, REST_DYNAMIC_IL_3M#1611, REST_DYNAMIC_FDEP_3M#1612, REST_DYNAMIC_CUR_3M#1613, REST_DYNAMIC_CC_3M#1614, CNT_TRAN_SUP_TENDENCY3M#1615, CNT_TRAN_MED_TENDENCY3M#1616, CNT_TRAN_CLO_TENDENCY3M#1617, CNT_TRAN_AUT_TENDENCY3M#1618, CNT_TRAN_ATM_TENDENCY3M#1619, UDF(named_struct(CNT_TRAN_ATM_TENDENCY3M_double_vecAssembler_33871a58ed39, cast(CNT_TRAN_ATM_TENDENCY3M#1619 as double), CNT_TRAN_AUT_TENDENCY3M_double_vecAssembler_33871a58ed39, cast(CNT_TRAN_AUT_TENDENCY3M#1618 as double), CNT_TRAN_CLO_TENDENCY3M_double_vecAssembler_33871a58ed39, cast(CNT_TRAN_CLO_TENDENCY3M#1617 as double), CNT_TRAN_MED_TENDENCY3M_double_vecAssembler_33871a58ed39, cast(CNT_TRAN_MED_TENDENCY3M#1616 as double), CNT_TRAN_SUP_TENDENCY3M_double_vecAssembler_33871a58ed39, cast(CNT_TRAN_SUP_TENDENCY3M#1615 as double), REST_DYNAMIC_CC_3M_double_vecAssembler_33871a58ed39, cast(REST_DYNAMIC_CC_3M#1614 as double), REST_DYNAMIC_CUR_3M_double_vecAssembler_33871a58ed39, cast(REST_DYNAMIC_CUR_3M#1613 as double), REST_DYNAMIC_FDEP_3M_double_vecAssembler_33871a58ed39, cast(REST_DYNAMIC_FDEP_3M#1612 as double), REST_DYNAMIC_IL_3M_double_vecAssembler_33871a58ed39, cast(REST_DYNAMIC_IL_3M#1611 as double), REST_DYNAMIC_PAYM_3M_double_vecAssembler_33871a58ed39, cast(REST_DYNAMIC_PAYM_3M#1610 as double), REST_DYNAMIC_SAVE_3M_double_vecAssembler_33871a58ed39, cast(REST_DYNAMIC_SAVE_3M#1609 as double), SUM_TRAN_AUT_TENDENCY3M_double_vecAssembler_33871a58ed39, cast(SUM_TRAN_AUT_TENDENCY3M#1608 as double), ... 16 more fields)) AS features#1793]\n",
       "            +- Project [ID#255, coalesce(nanvl(TRANS_CNT_TENDENCY3M#1473, cast(null as float)), cast(0.0 as float)) AS TRANS_CNT_TENDENCY3M#1600, coalesce(nanvl(TURNOVER_DYNAMIC_CC_3M#1474, cast(null as float)), cast(0.0 as float)) AS TURNOVER_DYNAMIC_CC_3M#1601, coalesce(nanvl(TURNOVER_DYNAMIC_CUR_3M#1475, cast(null as float)), cast(0.0 as float)) AS TURNOVER_DYNAMIC_CUR_3M#1602, coalesce(nanvl(TURNOVER_DYNAMIC_IL_3M#1476, cast(null as float)), cast(0.0 as float)) AS TURNOVER_DYNAMIC_IL_3M#1603, coalesce(nanvl(TURNOVER_DYNAMIC_PAYM_3M#1477, cast(null as float)), cast(0.0 as float)) AS TURNOVER_DYNAMIC_PAYM_3M#1604, coalesce(nanvl(SUM_TRAN_SUP_TENDENCY3M#1478, cast(null as float)), cast(0.0 as float)) AS SUM_TRAN_SUP_TENDENCY3M#1605, coalesce(nanvl(SUM_TRAN_MED_TENDENCY3M#1479, cast(null as float)), cast(0.0 as float)) AS SUM_TRAN_MED_TENDENCY3M#1606, coalesce(nanvl(SUM_TRAN_CLO_TENDENCY3M#1480, cast(null as float)), cast(0.0 as float)) AS SUM_TRAN_CLO_TENDENCY3M#1607, coalesce(nanvl(SUM_TRAN_AUT_TENDENCY3M#1481, cast(null as float)), cast(0.0 as float)) AS SUM_TRAN_AUT_TENDENCY3M#1608, coalesce(nanvl(REST_DYNAMIC_SAVE_3M#1482, cast(null as float)), cast(0.0 as float)) AS REST_DYNAMIC_SAVE_3M#1609, coalesce(nanvl(REST_DYNAMIC_PAYM_3M#1483, cast(null as float)), cast(0.0 as float)) AS REST_DYNAMIC_PAYM_3M#1610, coalesce(nanvl(REST_DYNAMIC_IL_3M#1484, cast(null as float)), cast(0.0 as float)) AS REST_DYNAMIC_IL_3M#1611, coalesce(nanvl(REST_DYNAMIC_FDEP_3M#1485, cast(null as float)), cast(0.0 as float)) AS REST_DYNAMIC_FDEP_3M#1612, coalesce(nanvl(REST_DYNAMIC_CUR_3M#1486, cast(null as float)), cast(0.0 as float)) AS REST_DYNAMIC_CUR_3M#1613, coalesce(nanvl(REST_DYNAMIC_CC_3M#1487, cast(null as float)), cast(0.0 as float)) AS REST_DYNAMIC_CC_3M#1614, coalesce(nanvl(CNT_TRAN_SUP_TENDENCY3M#1488, cast(null as float)), cast(0.0 as float)) AS CNT_TRAN_SUP_TENDENCY3M#1615, coalesce(nanvl(CNT_TRAN_MED_TENDENCY3M#1489, cast(null as float)), cast(0.0 as float)) AS CNT_TRAN_MED_TENDENCY3M#1616, coalesce(nanvl(CNT_TRAN_CLO_TENDENCY3M#1490, cast(null as float)), cast(0.0 as float)) AS CNT_TRAN_CLO_TENDENCY3M#1617, coalesce(nanvl(CNT_TRAN_AUT_TENDENCY3M#1491, cast(null as float)), cast(0.0 as float)) AS CNT_TRAN_AUT_TENDENCY3M#1618, coalesce(nanvl(CNT_TRAN_ATM_TENDENCY3M#1492, cast(null as float)), cast(0.0 as float)) AS CNT_TRAN_ATM_TENDENCY3M#1619]\n",
       "               +- Project [ID#255, coalesce(nanvl(TRANS_CNT_TENDENCY3M#1012, cast(null as float)), cast(0.0 as float)) AS TRANS_CNT_TENDENCY3M#1473, coalesce(nanvl(TURNOVER_DYNAMIC_CC_3M#1034, cast(null as float)), cast(0.0 as float)) AS TURNOVER_DYNAMIC_CC_3M#1474, coalesce(nanvl(TURNOVER_DYNAMIC_CUR_3M#1056, cast(null as float)), cast(0.0 as float)) AS TURNOVER_DYNAMIC_CUR_3M#1475, coalesce(nanvl(TURNOVER_DYNAMIC_IL_3M#1078, cast(null as float)), cast(0.0 as float)) AS TURNOVER_DYNAMIC_IL_3M#1476, coalesce(nanvl(TURNOVER_DYNAMIC_PAYM_3M#1100, cast(null as float)), cast(0.0 as float)) AS TURNOVER_DYNAMIC_PAYM_3M#1477, coalesce(nanvl(SUM_TRAN_SUP_TENDENCY3M#1122, cast(null as float)), cast(0.0 as float)) AS SUM_TRAN_SUP_TENDENCY3M#1478, coalesce(nanvl(SUM_TRAN_MED_TENDENCY3M#1144, cast(null as float)), cast(0.0 as float)) AS SUM_TRAN_MED_TENDENCY3M#1479, coalesce(nanvl(SUM_TRAN_CLO_TENDENCY3M#1166, cast(null as float)), cast(0.0 as float)) AS SUM_TRAN_CLO_TENDENCY3M#1480, coalesce(nanvl(SUM_TRAN_AUT_TENDENCY3M#1188, cast(null as float)), cast(0.0 as float)) AS SUM_TRAN_AUT_TENDENCY3M#1481, coalesce(nanvl(REST_DYNAMIC_SAVE_3M#1210, cast(null as float)), cast(0.0 as float)) AS REST_DYNAMIC_SAVE_3M#1482, coalesce(nanvl(REST_DYNAMIC_PAYM_3M#1232, cast(null as float)), cast(0.0 as float)) AS REST_DYNAMIC_PAYM_3M#1483, coalesce(nanvl(REST_DYNAMIC_IL_3M#1254, cast(null as float)), cast(0.0 as float)) AS REST_DYNAMIC_IL_3M#1484, coalesce(nanvl(REST_DYNAMIC_FDEP_3M#1276, cast(null as float)), cast(0.0 as float)) AS REST_DYNAMIC_FDEP_3M#1485, coalesce(nanvl(REST_DYNAMIC_CUR_3M#1298, cast(null as float)), cast(0.0 as float)) AS REST_DYNAMIC_CUR_3M#1486, coalesce(nanvl(REST_DYNAMIC_CC_3M#1320, cast(null as float)), cast(0.0 as float)) AS REST_DYNAMIC_CC_3M#1487, coalesce(nanvl(CNT_TRAN_SUP_TENDENCY3M#1342, cast(null as float)), cast(0.0 as float)) AS CNT_TRAN_SUP_TENDENCY3M#1488, coalesce(nanvl(CNT_TRAN_MED_TENDENCY3M#1364, cast(null as float)), cast(0.0 as float)) AS CNT_TRAN_MED_TENDENCY3M#1489, coalesce(nanvl(CNT_TRAN_CLO_TENDENCY3M#1386, cast(null as float)), cast(0.0 as float)) AS CNT_TRAN_CLO_TENDENCY3M#1490, coalesce(nanvl(CNT_TRAN_AUT_TENDENCY3M#1408, cast(null as float)), cast(0.0 as float)) AS CNT_TRAN_AUT_TENDENCY3M#1491, coalesce(nanvl(CNT_TRAN_ATM_TENDENCY3M#1430, cast(null as float)), cast(0.0 as float)) AS CNT_TRAN_ATM_TENDENCY3M#1492]\n",
       "                  +- Project [ID#255, TRANS_CNT_TENDENCY3M#1012, TURNOVER_DYNAMIC_CC_3M#1034, TURNOVER_DYNAMIC_CUR_3M#1056, TURNOVER_DYNAMIC_IL_3M#1078, TURNOVER_DYNAMIC_PAYM_3M#1100, SUM_TRAN_SUP_TENDENCY3M#1122, SUM_TRAN_MED_TENDENCY3M#1144, SUM_TRAN_CLO_TENDENCY3M#1166, SUM_TRAN_AUT_TENDENCY3M#1188, REST_DYNAMIC_SAVE_3M#1210, REST_DYNAMIC_PAYM_3M#1232, REST_DYNAMIC_IL_3M#1254, REST_DYNAMIC_FDEP_3M#1276, REST_DYNAMIC_CUR_3M#1298, REST_DYNAMIC_CC_3M#1320, CNT_TRAN_SUP_TENDENCY3M#1342, CNT_TRAN_MED_TENDENCY3M#1364, CNT_TRAN_CLO_TENDENCY3M#1386, CNT_TRAN_AUT_TENDENCY3M#1408, cast(CNT_TRAN_ATM_TENDENCY3M#329 as float) AS CNT_TRAN_ATM_TENDENCY3M#1430]\n",
       "                     +- Project [ID#255, TRANS_CNT_TENDENCY3M#1012, TURNOVER_DYNAMIC_CC_3M#1034, TURNOVER_DYNAMIC_CUR_3M#1056, TURNOVER_DYNAMIC_IL_3M#1078, TURNOVER_DYNAMIC_PAYM_3M#1100, SUM_TRAN_SUP_TENDENCY3M#1122, SUM_TRAN_MED_TENDENCY3M#1144, SUM_TRAN_CLO_TENDENCY3M#1166, SUM_TRAN_AUT_TENDENCY3M#1188, REST_DYNAMIC_SAVE_3M#1210, REST_DYNAMIC_PAYM_3M#1232, REST_DYNAMIC_IL_3M#1254, REST_DYNAMIC_FDEP_3M#1276, REST_DYNAMIC_CUR_3M#1298, REST_DYNAMIC_CC_3M#1320, CNT_TRAN_SUP_TENDENCY3M#1342, CNT_TRAN_MED_TENDENCY3M#1364, CNT_TRAN_CLO_TENDENCY3M#1386, cast(CNT_TRAN_AUT_TENDENCY3M#272 as float) AS CNT_TRAN_AUT_TENDENCY3M#1408, CNT_TRAN_ATM_TENDENCY3M#329]\n",
       "                        +- Project [ID#255, TRANS_CNT_TENDENCY3M#1012, TURNOVER_DYNAMIC_CC_3M#1034, TURNOVER_DYNAMIC_CUR_3M#1056, TURNOVER_DYNAMIC_IL_3M#1078, TURNOVER_DYNAMIC_PAYM_3M#1100, SUM_TRAN_SUP_TENDENCY3M#1122, SUM_TRAN_MED_TENDENCY3M#1144, SUM_TRAN_CLO_TENDENCY3M#1166, SUM_TRAN_AUT_TENDENCY3M#1188, REST_DYNAMIC_SAVE_3M#1210, REST_DYNAMIC_PAYM_3M#1232, REST_DYNAMIC_IL_3M#1254, REST_DYNAMIC_FDEP_3M#1276, REST_DYNAMIC_CUR_3M#1298, REST_DYNAMIC_CC_3M#1320, CNT_TRAN_SUP_TENDENCY3M#1342, CNT_TRAN_MED_TENDENCY3M#1364, cast(CNT_TRAN_CLO_TENDENCY3M#316 as float) AS CNT_TRAN_CLO_TENDENCY3M#1386, CNT_TRAN_AUT_TENDENCY3M#272, CNT_TRAN_ATM_TENDENCY3M#329]\n",
       "                           +- Project [ID#255, TRANS_CNT_TENDENCY3M#1012, TURNOVER_DYNAMIC_CC_3M#1034, TURNOVER_DYNAMIC_CUR_3M#1056, TURNOVER_DYNAMIC_IL_3M#1078, TURNOVER_DYNAMIC_PAYM_3M#1100, SUM_TRAN_SUP_TENDENCY3M#1122, SUM_TRAN_MED_TENDENCY3M#1144, SUM_TRAN_CLO_TENDENCY3M#1166, SUM_TRAN_AUT_TENDENCY3M#1188, REST_DYNAMIC_SAVE_3M#1210, REST_DYNAMIC_PAYM_3M#1232, REST_DYNAMIC_IL_3M#1254, REST_DYNAMIC_FDEP_3M#1276, REST_DYNAMIC_CUR_3M#1298, REST_DYNAMIC_CC_3M#1320, CNT_TRAN_SUP_TENDENCY3M#1342, cast(CNT_TRAN_MED_TENDENCY3M#303 as float) AS CNT_TRAN_MED_TENDENCY3M#1364, CNT_TRAN_CLO_TENDENCY3M#316, CNT_TRAN_AUT_TENDENCY3M#272, CNT_TRAN_ATM_TENDENCY3M#329]\n",
       "                              +- Project [ID#255, TRANS_CNT_TENDENCY3M#1012, TURNOVER_DYNAMIC_CC_3M#1034, TURNOVER_DYNAMIC_CUR_3M#1056, TURNOVER_DYNAMIC_IL_3M#1078, TURNOVER_DYNAMIC_PAYM_3M#1100, SUM_TRAN_SUP_TENDENCY3M#1122, SUM_TRAN_MED_TENDENCY3M#1144, SUM_TRAN_CLO_TENDENCY3M#1166, SUM_TRAN_AUT_TENDENCY3M#1188, REST_DYNAMIC_SAVE_3M#1210, REST_DYNAMIC_PAYM_3M#1232, REST_DYNAMIC_IL_3M#1254, REST_DYNAMIC_FDEP_3M#1276, REST_DYNAMIC_CUR_3M#1298, REST_DYNAMIC_CC_3M#1320, cast(CNT_TRAN_SUP_TENDENCY3M#324 as float) AS CNT_TRAN_SUP_TENDENCY3M#1342, CNT_TRAN_MED_TENDENCY3M#303, CNT_TRAN_CLO_TENDENCY3M#316, CNT_TRAN_AUT_TENDENCY3M#272, CNT_TRAN_ATM_TENDENCY3M#329]\n",
       "                                 +- Project [ID#255, TRANS_CNT_TENDENCY3M#1012, TURNOVER_DYNAMIC_CC_3M#1034, TURNOVER_DYNAMIC_CUR_3M#1056, TURNOVER_DYNAMIC_IL_3M#1078, TURNOVER_DYNAMIC_PAYM_3M#1100, SUM_TRAN_SUP_TENDENCY3M#1122, SUM_TRAN_MED_TENDENCY3M#1144, SUM_TRAN_CLO_TENDENCY3M#1166, SUM_TRAN_AUT_TENDENCY3M#1188, REST_DYNAMIC_SAVE_3M#1210, REST_DYNAMIC_PAYM_3M#1232, REST_DYNAMIC_IL_3M#1254, REST_DYNAMIC_FDEP_3M#1276, REST_DYNAMIC_CUR_3M#1298, cast(REST_DYNAMIC_CC_3M#361 as float) AS REST_DYNAMIC_CC_3M#1320, CNT_TRAN_SUP_TENDENCY3M#324, CNT_TRAN_MED_TENDENCY3M#303, CNT_TRAN_CLO_TENDENCY3M#316, CNT_TRAN_AUT_TENDENCY3M#272, CNT_TRAN_ATM_TENDENCY3M#329]\n",
       "                                    +- Project [ID#255, TRANS_CNT_TENDENCY3M#1012, TURNOVER_DYNAMIC_CC_3M#1034, TURNOVER_DYNAMIC_CUR_3M#1056, TURNOVER_DYNAMIC_IL_3M#1078, TURNOVER_DYNAMIC_PAYM_3M#1100, SUM_TRAN_SUP_TENDENCY3M#1122, SUM_TRAN_MED_TENDENCY3M#1144, SUM_TRAN_CLO_TENDENCY3M#1166, SUM_TRAN_AUT_TENDENCY3M#1188, REST_DYNAMIC_SAVE_3M#1210, REST_DYNAMIC_PAYM_3M#1232, REST_DYNAMIC_IL_3M#1254, REST_DYNAMIC_FDEP_3M#1276, cast(REST_DYNAMIC_CUR_3M#323 as float) AS REST_DYNAMIC_CUR_3M#1298, REST_DYNAMIC_CC_3M#361, CNT_TRAN_SUP_TENDENCY3M#324, CNT_TRAN_MED_TENDENCY3M#303, CNT_TRAN_CLO_TENDENCY3M#316, CNT_TRAN_AUT_TENDENCY3M#272, CNT_TRAN_ATM_TENDENCY3M#329]\n",
       "                                       +- Project [ID#255, TRANS_CNT_TENDENCY3M#1012, TURNOVER_DYNAMIC_CC_3M#1034, TURNOVER_DYNAMIC_CUR_3M#1056, TURNOVER_DYNAMIC_IL_3M#1078, TURNOVER_DYNAMIC_PAYM_3M#1100, SUM_TRAN_SUP_TENDENCY3M#1122, SUM_TRAN_MED_TENDENCY3M#1144, SUM_TRAN_CLO_TENDENCY3M#1166, SUM_TRAN_AUT_TENDENCY3M#1188, REST_DYNAMIC_SAVE_3M#1210, REST_DYNAMIC_PAYM_3M#1232, REST_DYNAMIC_IL_3M#1254, cast(REST_DYNAMIC_FDEP_3M#306 as float) AS REST_DYNAMIC_FDEP_3M#1276, REST_DYNAMIC_CUR_3M#323, REST_DYNAMIC_CC_3M#361, CNT_TRAN_SUP_TENDENCY3M#324, CNT_TRAN_MED_TENDENCY3M#303, CNT_TRAN_CLO_TENDENCY3M#316, CNT_TRAN_AUT_TENDENCY3M#272, CNT_TRAN_ATM_TENDENCY3M#329]\n",
       "                                          +- Project [ID#255, TRANS_CNT_TENDENCY3M#1012, TURNOVER_DYNAMIC_CC_3M#1034, TURNOVER_DYNAMIC_CUR_3M#1056, TURNOVER_DYNAMIC_IL_3M#1078, TURNOVER_DYNAMIC_PAYM_3M#1100, SUM_TRAN_SUP_TENDENCY3M#1122, SUM_TRAN_MED_TENDENCY3M#1144, SUM_TRAN_CLO_TENDENCY3M#1166, SUM_TRAN_AUT_TENDENCY3M#1188, REST_DYNAMIC_SAVE_3M#1210, REST_DYNAMIC_PAYM_3M#1232, cast(REST_DYNAMIC_IL_3M#328 as float) AS REST_DYNAMIC_IL_3M#1254, REST_DYNAMIC_FDEP_3M#306, REST_DYNAMIC_CUR_3M#323, REST_DYNAMIC_CC_3M#361, CNT_TRAN_SUP_TENDENCY3M#324, CNT_TRAN_MED_TENDENCY3M#303, CNT_TRAN_CLO_TENDENCY3M#316, CNT_TRAN_AUT_TENDENCY3M#272, CNT_TRAN_ATM_TENDENCY3M#329]\n",
       "                                             +- Project [ID#255, TRANS_CNT_TENDENCY3M#1012, TURNOVER_DYNAMIC_CC_3M#1034, TURNOVER_DYNAMIC_CUR_3M#1056, TURNOVER_DYNAMIC_IL_3M#1078, TURNOVER_DYNAMIC_PAYM_3M#1100, SUM_TRAN_SUP_TENDENCY3M#1122, SUM_TRAN_MED_TENDENCY3M#1144, SUM_TRAN_CLO_TENDENCY3M#1166, SUM_TRAN_AUT_TENDENCY3M#1188, REST_DYNAMIC_SAVE_3M#1210, cast(REST_DYNAMIC_PAYM_3M#326 as float) AS REST_DYNAMIC_PAYM_3M#1232, REST_DYNAMIC_IL_3M#328, REST_DYNAMIC_FDEP_3M#306, REST_DYNAMIC_CUR_3M#323, REST_DYNAMIC_CC_3M#361, CNT_TRAN_SUP_TENDENCY3M#324, CNT_TRAN_MED_TENDENCY3M#303, CNT_TRAN_CLO_TENDENCY3M#316, CNT_TRAN_AUT_TENDENCY3M#272, CNT_TRAN_ATM_TENDENCY3M#329]\n",
       "                                                +- Project [ID#255, TRANS_CNT_TENDENCY3M#1012, TURNOVER_DYNAMIC_CC_3M#1034, TURNOVER_DYNAMIC_CUR_3M#1056, TURNOVER_DYNAMIC_IL_3M#1078, TURNOVER_DYNAMIC_PAYM_3M#1100, SUM_TRAN_SUP_TENDENCY3M#1122, SUM_TRAN_MED_TENDENCY3M#1144, SUM_TRAN_CLO_TENDENCY3M#1166, SUM_TRAN_AUT_TENDENCY3M#1188, cast(REST_DYNAMIC_SAVE_3M#275 as float) AS REST_DYNAMIC_SAVE_3M#1210, REST_DYNAMIC_PAYM_3M#326, REST_DYNAMIC_IL_3M#328, REST_DYNAMIC_FDEP_3M#306, REST_DYNAMIC_CUR_3M#323, REST_DYNAMIC_CC_3M#361, CNT_TRAN_SUP_TENDENCY3M#324, CNT_TRAN_MED_TENDENCY3M#303, CNT_TRAN_CLO_TENDENCY3M#316, CNT_TRAN_AUT_TENDENCY3M#272, CNT_TRAN_ATM_TENDENCY3M#329]\n",
       "                                                   +- Project [ID#255, TRANS_CNT_TENDENCY3M#1012, TURNOVER_DYNAMIC_CC_3M#1034, TURNOVER_DYNAMIC_CUR_3M#1056, TURNOVER_DYNAMIC_IL_3M#1078, TURNOVER_DYNAMIC_PAYM_3M#1100, SUM_TRAN_SUP_TENDENCY3M#1122, SUM_TRAN_MED_TENDENCY3M#1144, SUM_TRAN_CLO_TENDENCY3M#1166, cast(SUM_TRAN_AUT_TENDENCY3M#267 as float) AS SUM_TRAN_AUT_TENDENCY3M#1188, REST_DYNAMIC_SAVE_3M#275, REST_DYNAMIC_PAYM_3M#326, REST_DYNAMIC_IL_3M#328, REST_DYNAMIC_FDEP_3M#306, REST_DYNAMIC_CUR_3M#323, REST_DYNAMIC_CC_3M#361, CNT_TRAN_SUP_TENDENCY3M#324, CNT_TRAN_MED_TENDENCY3M#303, CNT_TRAN_CLO_TENDENCY3M#316, CNT_TRAN_AUT_TENDENCY3M#272, CNT_TRAN_ATM_TENDENCY3M#329]\n",
       "                                                      +- Project [ID#255, TRANS_CNT_TENDENCY3M#1012, TURNOVER_DYNAMIC_CC_3M#1034, TURNOVER_DYNAMIC_CUR_3M#1056, TURNOVER_DYNAMIC_IL_3M#1078, TURNOVER_DYNAMIC_PAYM_3M#1100, SUM_TRAN_SUP_TENDENCY3M#1122, SUM_TRAN_MED_TENDENCY3M#1144, cast(SUM_TRAN_CLO_TENDENCY3M#309 as float) AS SUM_TRAN_CLO_TENDENCY3M#1166, SUM_TRAN_AUT_TENDENCY3M#267, REST_DYNAMIC_SAVE_3M#275, REST_DYNAMIC_PAYM_3M#326, REST_DYNAMIC_IL_3M#328, REST_DYNAMIC_FDEP_3M#306, REST_DYNAMIC_CUR_3M#323, REST_DYNAMIC_CC_3M#361, CNT_TRAN_SUP_TENDENCY3M#324, CNT_TRAN_MED_TENDENCY3M#303, CNT_TRAN_CLO_TENDENCY3M#316, CNT_TRAN_AUT_TENDENCY3M#272, CNT_TRAN_ATM_TENDENCY3M#329]\n",
       "                                                         +- Project [ID#255, TRANS_CNT_TENDENCY3M#1012, TURNOVER_DYNAMIC_CC_3M#1034, TURNOVER_DYNAMIC_CUR_3M#1056, TURNOVER_DYNAMIC_IL_3M#1078, TURNOVER_DYNAMIC_PAYM_3M#1100, SUM_TRAN_SUP_TENDENCY3M#1122, cast(SUM_TRAN_MED_TENDENCY3M#305 as float) AS SUM_TRAN_MED_TENDENCY3M#1144, SUM_TRAN_CLO_TENDENCY3M#309, SUM_TRAN_AUT_TENDENCY3M#267, REST_DYNAMIC_SAVE_3M#275, REST_DYNAMIC_PAYM_3M#326, REST_DYNAMIC_IL_3M#328, REST_DYNAMIC_FDEP_3M#306, REST_DYNAMIC_CUR_3M#323, REST_DYNAMIC_CC_3M#361, CNT_TRAN_SUP_TENDENCY3M#324, CNT_TRAN_MED_TENDENCY3M#303, CNT_TRAN_CLO_TENDENCY3M#316, CNT_TRAN_AUT_TENDENCY3M#272, CNT_TRAN_ATM_TENDENCY3M#329]\n",
       "                                                            +- Project [ID#255, TRANS_CNT_TENDENCY3M#1012, TURNOVER_DYNAMIC_CC_3M#1034, TURNOVER_DYNAMIC_CUR_3M#1056, TURNOVER_DYNAMIC_IL_3M#1078, TURNOVER_DYNAMIC_PAYM_3M#1100, cast(SUM_TRAN_SUP_TENDENCY3M#327 as float) AS SUM_TRAN_SUP_TENDENCY3M#1122, SUM_TRAN_MED_TENDENCY3M#305, SUM_TRAN_CLO_TENDENCY3M#309, SUM_TRAN_AUT_TENDENCY3M#267, REST_DYNAMIC_SAVE_3M#275, REST_DYNAMIC_PAYM_3M#326, REST_DYNAMIC_IL_3M#328, REST_DYNAMIC_FDEP_3M#306, REST_DYNAMIC_CUR_3M#323, REST_DYNAMIC_CC_3M#361, CNT_TRAN_SUP_TENDENCY3M#324, CNT_TRAN_MED_TENDENCY3M#303, CNT_TRAN_CLO_TENDENCY3M#316, CNT_TRAN_AUT_TENDENCY3M#272, CNT_TRAN_ATM_TENDENCY3M#329]\n",
       "                                                               +- Project [ID#255, TRANS_CNT_TENDENCY3M#1012, TURNOVER_DYNAMIC_CC_3M#1034, TURNOVER_DYNAMIC_CUR_3M#1056, TURNOVER_DYNAMIC_IL_3M#1078, cast(TURNOVER_DYNAMIC_PAYM_3M#348 as float) AS TURNOVER_DYNAMIC_PAYM_3M#1100, SUM_TRAN_SUP_TENDENCY3M#327, SUM_TRAN_MED_TENDENCY3M#305, SUM_TRAN_CLO_TENDENCY3M#309, SUM_TRAN_AUT_TENDENCY3M#267, REST_DYNAMIC_SAVE_3M#275, REST_DYNAMIC_PAYM_3M#326, REST_DYNAMIC_IL_3M#328, REST_DYNAMIC_FDEP_3M#306, REST_DYNAMIC_CUR_3M#323, REST_DYNAMIC_CC_3M#361, CNT_TRAN_SUP_TENDENCY3M#324, CNT_TRAN_MED_TENDENCY3M#303, CNT_TRAN_CLO_TENDENCY3M#316, CNT_TRAN_AUT_TENDENCY3M#272, CNT_TRAN_ATM_TENDENCY3M#329]\n",
       "                                                                  +- Project [ID#255, TRANS_CNT_TENDENCY3M#1012, TURNOVER_DYNAMIC_CC_3M#1034, TURNOVER_DYNAMIC_CUR_3M#1056, cast(TURNOVER_DYNAMIC_IL_3M#331 as float) AS TURNOVER_DYNAMIC_IL_3M#1078, TURNOVER_DYNAMIC_PAYM_3M#348, SUM_TRAN_SUP_TENDENCY3M#327, SUM_TRAN_MED_TENDENCY3M#305, SUM_TRAN_CLO_TENDENCY3M#309, SUM_TRAN_AUT_TENDENCY3M#267, REST_DYNAMIC_SAVE_3M#275, REST_DYNAMIC_PAYM_3M#326, REST_DYNAMIC_IL_3M#328, REST_DYNAMIC_FDEP_3M#306, REST_DYNAMIC_CUR_3M#323, REST_DYNAMIC_CC_3M#361, CNT_TRAN_SUP_TENDENCY3M#324, CNT_TRAN_MED_TENDENCY3M#303, CNT_TRAN_CLO_TENDENCY3M#316, CNT_TRAN_AUT_TENDENCY3M#272, CNT_TRAN_ATM_TENDENCY3M#329]\n",
       "                                                                     +- Project [ID#255, TRANS_CNT_TENDENCY3M#1012, TURNOVER_DYNAMIC_CC_3M#1034, cast(TURNOVER_DYNAMIC_CUR_3M#342 as float) AS TURNOVER_DYNAMIC_CUR_3M#1056, TURNOVER_DYNAMIC_IL_3M#331, TURNOVER_DYNAMIC_PAYM_3M#348, SUM_TRAN_SUP_TENDENCY3M#327, SUM_TRAN_MED_TENDENCY3M#305, SUM_TRAN_CLO_TENDENCY3M#309, SUM_TRAN_AUT_TENDENCY3M#267, REST_DYNAMIC_SAVE_3M#275, REST_DYNAMIC_PAYM_3M#326, REST_DYNAMIC_IL_3M#328, REST_DYNAMIC_FDEP_3M#306, REST_DYNAMIC_CUR_3M#323, REST_DYNAMIC_CC_3M#361, CNT_TRAN_SUP_TENDENCY3M#324, CNT_TRAN_MED_TENDENCY3M#303, CNT_TRAN_CLO_TENDENCY3M#316, CNT_TRAN_AUT_TENDENCY3M#272, CNT_TRAN_ATM_TENDENCY3M#329]\n",
       "                                                                        +- Project [ID#255, TRANS_CNT_TENDENCY3M#1012, cast(TURNOVER_DYNAMIC_CC_3M#366 as float) AS TURNOVER_DYNAMIC_CC_3M#1034, TURNOVER_DYNAMIC_CUR_3M#342, TURNOVER_DYNAMIC_IL_3M#331, TURNOVER_DYNAMIC_PAYM_3M#348, SUM_TRAN_SUP_TENDENCY3M#327, SUM_TRAN_MED_TENDENCY3M#305, SUM_TRAN_CLO_TENDENCY3M#309, SUM_TRAN_AUT_TENDENCY3M#267, REST_DYNAMIC_SAVE_3M#275, REST_DYNAMIC_PAYM_3M#326, REST_DYNAMIC_IL_3M#328, REST_DYNAMIC_FDEP_3M#306, REST_DYNAMIC_CUR_3M#323, REST_DYNAMIC_CC_3M#361, CNT_TRAN_SUP_TENDENCY3M#324, CNT_TRAN_MED_TENDENCY3M#303, CNT_TRAN_CLO_TENDENCY3M#316, CNT_TRAN_AUT_TENDENCY3M#272, CNT_TRAN_ATM_TENDENCY3M#329]\n",
       "                                                                           +- Project [ID#255, cast(TRANS_CNT_TENDENCY3M#354 as float) AS TRANS_CNT_TENDENCY3M#1012, TURNOVER_DYNAMIC_CC_3M#366, TURNOVER_DYNAMIC_CUR_3M#342, TURNOVER_DYNAMIC_IL_3M#331, TURNOVER_DYNAMIC_PAYM_3M#348, SUM_TRAN_SUP_TENDENCY3M#327, SUM_TRAN_MED_TENDENCY3M#305, SUM_TRAN_CLO_TENDENCY3M#309, SUM_TRAN_AUT_TENDENCY3M#267, REST_DYNAMIC_SAVE_3M#275, REST_DYNAMIC_PAYM_3M#326, REST_DYNAMIC_IL_3M#328, REST_DYNAMIC_FDEP_3M#306, REST_DYNAMIC_CUR_3M#323, REST_DYNAMIC_CC_3M#361, CNT_TRAN_SUP_TENDENCY3M#324, CNT_TRAN_MED_TENDENCY3M#303, CNT_TRAN_CLO_TENDENCY3M#316, CNT_TRAN_AUT_TENDENCY3M#272, CNT_TRAN_ATM_TENDENCY3M#329]\n",
       "                                                                              +- Project [ID#255, TRANS_CNT_TENDENCY3M#354, TURNOVER_DYNAMIC_CC_3M#366, TURNOVER_DYNAMIC_CUR_3M#342, TURNOVER_DYNAMIC_IL_3M#331, TURNOVER_DYNAMIC_PAYM_3M#348, SUM_TRAN_SUP_TENDENCY3M#327, SUM_TRAN_MED_TENDENCY3M#305, SUM_TRAN_CLO_TENDENCY3M#309, SUM_TRAN_AUT_TENDENCY3M#267, REST_DYNAMIC_SAVE_3M#275, REST_DYNAMIC_PAYM_3M#326, REST_DYNAMIC_IL_3M#328, REST_DYNAMIC_FDEP_3M#306, REST_DYNAMIC_CUR_3M#323, REST_DYNAMIC_CC_3M#361, CNT_TRAN_SUP_TENDENCY3M#324, CNT_TRAN_MED_TENDENCY3M#303, CNT_TRAN_CLO_TENDENCY3M#316, CNT_TRAN_AUT_TENDENCY3M#272, CNT_TRAN_ATM_TENDENCY3M#329]\n",
       "                                                                                 +- Relation[_c0#254,ID#255,CR_PROD_CNT_IL#256,AMOUNT_RUB_CLO_PRC#257,PRC_ACCEPTS_A_EMAIL_LINK#258,APP_REGISTR_RGN_CODE#259,PRC_ACCEPTS_A_POS#260,PRC_ACCEPTS_A_TK#261,TURNOVER_DYNAMIC_IL_1M#262,CNT_TRAN_AUT_TENDENCY1M#263,SUM_TRAN_AUT_TENDENCY1M#264,AMOUNT_RUB_SUP_PRC#265,PRC_ACCEPTS_A_AMOBILE#266,SUM_TRAN_AUT_TENDENCY3M#267,CLNT_TRUST_RELATION#268,PRC_ACCEPTS_TK#269,PRC_ACCEPTS_A_MTP#270,REST_DYNAMIC_FDEP_1M#271,CNT_TRAN_AUT_TENDENCY3M#272,CNT_ACCEPTS_TK#273,APP_MARITAL_STATUS#274,REST_DYNAMIC_SAVE_3M#275,CR_PROD_CNT_VCU#276,REST_AVG_CUR#277,... 92 more fields] csv\n",
       "\n",
       "StackTrace: 'Project [UDF(probability#2754) AS UDF(probability)#3275]\n",
       "+- Project [ID#255, TRANS_CNT_TENDENCY3M#1600, TURNOVER_DYNAMIC_CC_3M#1601, TURNOVER_DYNAMIC_CUR_3M#1602, TURNOVER_DYNAMIC_IL_3M#1603, TURNOVER_DYNAMIC_PAYM_3M#1604, SUM_TRAN_SUP_TENDENCY3M#1605, SUM_TRAN_MED_TENDENCY3M#1606, SUM_TRAN_CLO_TENDENCY3M#1607, SUM_TRAN_AUT_TENDENCY3M#1608, REST_DYNAMIC_SAVE_3M#1609, REST_DYNAMIC_PAYM_3M#1610, REST_DYNAMIC_IL_3M#1611, REST_DYNAMIC_FDEP_3M#1612, REST_DYNAMIC_CUR_3M#1613, REST_DYNAMIC_CC_3M#1614, CNT_TRAN_SUP_TENDENCY3M#1615, CNT_TRAN_MED_TENDENCY3M#1616, CNT_TRAN_CLO_TENDENCY3M#1617, CNT_TRAN_AUT_TENDENCY3M#1618, CNT_TRAN_ATM_TENDENCY3M#1619, features#1793, rawPrediction#2730, probability#2754, UDF(rawPrediction#2730) AS prediction#2779]\n",
       "   +- Project [ID#255, TRANS_CNT_TENDENCY3M#1600, TURNOVER_DYNAMIC_CC_3M#1601, TURNOVER_DYNAMIC_CUR_3M#1602, TURNOVER_DYNAMIC_IL_3M#1603, TURNOVER_DYNAMIC_PAYM_3M#1604, SUM_TRAN_SUP_TENDENCY3M#1605, SUM_TRAN_MED_TENDENCY3M#1606, SUM_TRAN_CLO_TENDENCY3M#1607, SUM_TRAN_AUT_TENDENCY3M#1608, REST_DYNAMIC_SAVE_3M#1609, REST_DYNAMIC_PAYM_3M#1610, REST_DYNAMIC_IL_3M#1611, REST_DYNAMIC_FDEP_3M#1612, REST_DYNAMIC_CUR_3M#1613, REST_DYNAMIC_CC_3M#1614, CNT_TRAN_SUP_TENDENCY3M#1615, CNT_TRAN_MED_TENDENCY3M#1616, CNT_TRAN_CLO_TENDENCY3M#1617, CNT_TRAN_AUT_TENDENCY3M#1618, CNT_TRAN_ATM_TENDENCY3M#1619, features#1793, rawPrediction#2730, UDF(rawPrediction#2730) AS probability#2754]\n",
       "      +- Project [ID#255, TRANS_CNT_TENDENCY3M#1600, TURNOVER_DYNAMIC_CC_3M#1601, TURNOVER_DYNAMIC_CUR_3M#1602, TURNOVER_DYNAMIC_IL_3M#1603, TURNOVER_DYNAMIC_PAYM_3M#1604, SUM_TRAN_SUP_TENDENCY3M#1605, SUM_TRAN_MED_TENDENCY3M#1606, SUM_TRAN_CLO_TENDENCY3M#1607, SUM_TRAN_AUT_TENDENCY3M#1608, REST_DYNAMIC_SAVE_3M#1609, REST_DYNAMIC_PAYM_3M#1610, REST_DYNAMIC_IL_3M#1611, REST_DYNAMIC_FDEP_3M#1612, REST_DYNAMIC_CUR_3M#1613, REST_DYNAMIC_CC_3M#1614, CNT_TRAN_SUP_TENDENCY3M#1615, CNT_TRAN_MED_TENDENCY3M#1616, CNT_TRAN_CLO_TENDENCY3M#1617, CNT_TRAN_AUT_TENDENCY3M#1618, CNT_TRAN_ATM_TENDENCY3M#1619, features#1793, UDF(features#1793) AS rawPrediction#2730]\n",
       "         +- Project [ID#255, TRANS_CNT_TENDENCY3M#1600, TURNOVER_DYNAMIC_CC_3M#1601, TURNOVER_DYNAMIC_CUR_3M#1602, TURNOVER_DYNAMIC_IL_3M#1603, TURNOVER_DYNAMIC_PAYM_3M#1604, SUM_TRAN_SUP_TENDENCY3M#1605, SUM_TRAN_MED_TENDENCY3M#1606, SUM_TRAN_CLO_TENDENCY3M#1607, SUM_TRAN_AUT_TENDENCY3M#1608, REST_DYNAMIC_SAVE_3M#1609, REST_DYNAMIC_PAYM_3M#1610, REST_DYNAMIC_IL_3M#1611, REST_DYNAMIC_FDEP_3M#1612, REST_DYNAMIC_CUR_3M#1613, REST_DYNAMIC_CC_3M#1614, CNT_TRAN_SUP_TENDENCY3M#1615, CNT_TRAN_MED_TENDENCY3M#1616, CNT_TRAN_CLO_TENDENCY3M#1617, CNT_TRAN_AUT_TENDENCY3M#1618, CNT_TRAN_ATM_TENDENCY3M#1619, UDF(named_struct(CNT_TRAN_ATM_TENDENCY3M_double_vecAssembler_33871a58ed39, cast(CNT_TRAN_ATM_TENDENCY3M#1619 as double), CNT_TRAN_AUT_TENDENCY3M_double_vecAssembler_33871a58ed39, cast(CNT_TRAN_AUT_TENDENCY3M#1618 as double), CNT_TRAN_CLO_TENDENCY3M_double_vecAssembler_33871a58ed39, cast(CNT_TRAN_CLO_TENDENCY3M#1617 as double), CNT_TRAN_MED_TENDENCY3M_double_vecAssembler_33871a58ed39, cast(CNT_TRAN_MED_TENDENCY3M#1616 as double), CNT_TRAN_SUP_TENDENCY3M_double_vecAssembler_33871a58ed39, cast(CNT_TRAN_SUP_TENDENCY3M#1615 as double), REST_DYNAMIC_CC_3M_double_vecAssembler_33871a58ed39, cast(REST_DYNAMIC_CC_3M#1614 as double), REST_DYNAMIC_CUR_3M_double_vecAssembler_33871a58ed39, cast(REST_DYNAMIC_CUR_3M#1613 as double), REST_DYNAMIC_FDEP_3M_double_vecAssembler_33871a58ed39, cast(REST_DYNAMIC_FDEP_3M#1612 as double), REST_DYNAMIC_IL_3M_double_vecAssembler_33871a58ed39, cast(REST_DYNAMIC_IL_3M#1611 as double), REST_DYNAMIC_PAYM_3M_double_vecAssembler_33871a58ed39, cast(REST_DYNAMIC_PAYM_3M#1610 as double), REST_DYNAMIC_SAVE_3M_double_vecAssembler_33871a58ed39, cast(REST_DYNAMIC_SAVE_3M#1609 as double), SUM_TRAN_AUT_TENDENCY3M_double_vecAssembler_33871a58ed39, cast(SUM_TRAN_AUT_TENDENCY3M#1608 as double), ... 16 more fields)) AS features#1793]\n",
       "            +- Project [ID#255, coalesce(nanvl(TRANS_CNT_TENDENCY3M#1473, cast(null as float)), cast(0.0 as float)) AS TRANS_CNT_TENDENCY3M#1600, coalesce(nanvl(TURNOVER_DYNAMIC_CC_3M#1474, cast(null as float)), cast(0.0 as float)) AS TURNOVER_DYNAMIC_CC_3M#1601, coalesce(nanvl(TURNOVER_DYNAMIC_CUR_3M#1475, cast(null as float)), cast(0.0 as float)) AS TURNOVER_DYNAMIC_CUR_3M#1602, coalesce(nanvl(TURNOVER_DYNAMIC_IL_3M#1476, cast(null as float)), cast(0.0 as float)) AS TURNOVER_DYNAMIC_IL_3M#1603, coalesce(nanvl(TURNOVER_DYNAMIC_PAYM_3M#1477, cast(null as float)), cast(0.0 as float)) AS TURNOVER_DYNAMIC_PAYM_3M#1604, coalesce(nanvl(SUM_TRAN_SUP_TENDENCY3M#1478, cast(null as float)), cast(0.0 as float)) AS SUM_TRAN_SUP_TENDENCY3M#1605, coalesce(nanvl(SUM_TRAN_MED_TENDENCY3M#1479, cast(null as float)), cast(0.0 as float)) AS SUM_TRAN_MED_TENDENCY3M#1606, coalesce(nanvl(SUM_TRAN_CLO_TENDENCY3M#1480, cast(null as float)), cast(0.0 as float)) AS SUM_TRAN_CLO_TENDENCY3M#1607, coalesce(nanvl(SUM_TRAN_AUT_TENDENCY3M#1481, cast(null as float)), cast(0.0 as float)) AS SUM_TRAN_AUT_TENDENCY3M#1608, coalesce(nanvl(REST_DYNAMIC_SAVE_3M#1482, cast(null as float)), cast(0.0 as float)) AS REST_DYNAMIC_SAVE_3M#1609, coalesce(nanvl(REST_DYNAMIC_PAYM_3M#1483, cast(null as float)), cast(0.0 as float)) AS REST_DYNAMIC_PAYM_3M#1610, coalesce(nanvl(REST_DYNAMIC_IL_3M#1484, cast(null as float)), cast(0.0 as float)) AS REST_DYNAMIC_IL_3M#1611, coalesce(nanvl(REST_DYNAMIC_FDEP_3M#1485, cast(null as float)), cast(0.0 as float)) AS REST_DYNAMIC_FDEP_3M#1612, coalesce(nanvl(REST_DYNAMIC_CUR_3M#1486, cast(null as float)), cast(0.0 as float)) AS REST_DYNAMIC_CUR_3M#1613, coalesce(nanvl(REST_DYNAMIC_CC_3M#1487, cast(null as float)), cast(0.0 as float)) AS REST_DYNAMIC_CC_3M#1614, coalesce(nanvl(CNT_TRAN_SUP_TENDENCY3M#1488, cast(null as float)), cast(0.0 as float)) AS CNT_TRAN_SUP_TENDENCY3M#1615, coalesce(nanvl(CNT_TRAN_MED_TENDENCY3M#1489, cast(null as float)), cast(0.0 as float)) AS CNT_TRAN_MED_TENDENCY3M#1616, coalesce(nanvl(CNT_TRAN_CLO_TENDENCY3M#1490, cast(null as float)), cast(0.0 as float)) AS CNT_TRAN_CLO_TENDENCY3M#1617, coalesce(nanvl(CNT_TRAN_AUT_TENDENCY3M#1491, cast(null as float)), cast(0.0 as float)) AS CNT_TRAN_AUT_TENDENCY3M#1618, coalesce(nanvl(CNT_TRAN_ATM_TENDENCY3M#1492, cast(null as float)), cast(0.0 as float)) AS CNT_TRAN_ATM_TENDENCY3M#1619]\n",
       "               +- Project [ID#255, coalesce(nanvl(TRANS_CNT_TENDENCY3M#1012, cast(null as float)), cast(0.0 as float)) AS TRANS_CNT_TENDENCY3M#1473, coalesce(nanvl(TURNOVER_DYNAMIC_CC_3M#1034, cast(null as float)), cast(0.0 as float)) AS TURNOVER_DYNAMIC_CC_3M#1474, coalesce(nanvl(TURNOVER_DYNAMIC_CUR_3M#1056, cast(null as float)), cast(0.0 as float)) AS TURNOVER_DYNAMIC_CUR_3M#1475, coalesce(nanvl(TURNOVER_DYNAMIC_IL_3M#1078, cast(null as float)), cast(0.0 as float)) AS TURNOVER_DYNAMIC_IL_3M#1476, coalesce(nanvl(TURNOVER_DYNAMIC_PAYM_3M#1100, cast(null as float)), cast(0.0 as float)) AS TURNOVER_DYNAMIC_PAYM_3M#1477, coalesce(nanvl(SUM_TRAN_SUP_TENDENCY3M#1122, cast(null as float)), cast(0.0 as float)) AS SUM_TRAN_SUP_TENDENCY3M#1478, coalesce(nanvl(SUM_TRAN_MED_TENDENCY3M#1144, cast(null as float)), cast(0.0 as float)) AS SUM_TRAN_MED_TENDENCY3M#1479, coalesce(nanvl(SUM_TRAN_CLO_TENDENCY3M#1166, cast(null as float)), cast(0.0 as float)) AS SUM_TRAN_CLO_TENDENCY3M#1480, coalesce(nanvl(SUM_TRAN_AUT_TENDENCY3M#1188, cast(null as float)), cast(0.0 as float)) AS SUM_TRAN_AUT_TENDENCY3M#1481, coalesce(nanvl(REST_DYNAMIC_SAVE_3M#1210, cast(null as float)), cast(0.0 as float)) AS REST_DYNAMIC_SAVE_3M#1482, coalesce(nanvl(REST_DYNAMIC_PAYM_3M#1232, cast(null as float)), cast(0.0 as float)) AS REST_DYNAMIC_PAYM_3M#1483, coalesce(nanvl(REST_DYNAMIC_IL_3M#1254, cast(null as float)), cast(0.0 as float)) AS REST_DYNAMIC_IL_3M#1484, coalesce(nanvl(REST_DYNAMIC_FDEP_3M#1276, cast(null as float)), cast(0.0 as float)) AS REST_DYNAMIC_FDEP_3M#1485, coalesce(nanvl(REST_DYNAMIC_CUR_3M#1298, cast(null as float)), cast(0.0 as float)) AS REST_DYNAMIC_CUR_3M#1486, coalesce(nanvl(REST_DYNAMIC_CC_3M#1320, cast(null as float)), cast(0.0 as float)) AS REST_DYNAMIC_CC_3M#1487, coalesce(nanvl(CNT_TRAN_SUP_TENDENCY3M#1342, cast(null as float)), cast(0.0 as float)) AS CNT_TRAN_SUP_TENDENCY3M#1488, coalesce(nanvl(CNT_TRAN_MED_TENDENCY3M#1364, cast(null as float)), cast(0.0 as float)) AS CNT_TRAN_MED_TENDENCY3M#1489, coalesce(nanvl(CNT_TRAN_CLO_TENDENCY3M#1386, cast(null as float)), cast(0.0 as float)) AS CNT_TRAN_CLO_TENDENCY3M#1490, coalesce(nanvl(CNT_TRAN_AUT_TENDENCY3M#1408, cast(null as float)), cast(0.0 as float)) AS CNT_TRAN_AUT_TENDENCY3M#1491, coalesce(nanvl(CNT_TRAN_ATM_TENDENCY3M#1430, cast(null as float)), cast(0.0 as float)) AS CNT_TRAN_ATM_TENDENCY3M#1492]\n",
       "                  +- Project [ID#255, TRANS_CNT_TENDENCY3M#1012, TURNOVER_DYNAMIC_CC_3M#1034, TURNOVER_DYNAMIC_CUR_3M#1056, TURNOVER_DYNAMIC_IL_3M#1078, TURNOVER_DYNAMIC_PAYM_3M#1100, SUM_TRAN_SUP_TENDENCY3M#1122, SUM_TRAN_MED_TENDENCY3M#1144, SUM_TRAN_CLO_TENDENCY3M#1166, SUM_TRAN_AUT_TENDENCY3M#1188, REST_DYNAMIC_SAVE_3M#1210, REST_DYNAMIC_PAYM_3M#1232, REST_DYNAMIC_IL_3M#1254, REST_DYNAMIC_FDEP_3M#1276, REST_DYNAMIC_CUR_3M#1298, REST_DYNAMIC_CC_3M#1320, CNT_TRAN_SUP_TENDENCY3M#1342, CNT_TRAN_MED_TENDENCY3M#1364, CNT_TRAN_CLO_TENDENCY3M#1386, CNT_TRAN_AUT_TENDENCY3M#1408, cast(CNT_TRAN_ATM_TENDENCY3M#329 as float) AS CNT_TRAN_ATM_TENDENCY3M#1430]\n",
       "                     +- Project [ID#255, TRANS_CNT_TENDENCY3M#1012, TURNOVER_DYNAMIC_CC_3M#1034, TURNOVER_DYNAMIC_CUR_3M#1056, TURNOVER_DYNAMIC_IL_3M#1078, TURNOVER_DYNAMIC_PAYM_3M#1100, SUM_TRAN_SUP_TENDENCY3M#1122, SUM_TRAN_MED_TENDENCY3M#1144, SUM_TRAN_CLO_TENDENCY3M#1166, SUM_TRAN_AUT_TENDENCY3M#1188, REST_DYNAMIC_SAVE_3M#1210, REST_DYNAMIC_PAYM_3M#1232, REST_DYNAMIC_IL_3M#1254, REST_DYNAMIC_FDEP_3M#1276, REST_DYNAMIC_CUR_3M#1298, REST_DYNAMIC_CC_3M#1320, CNT_TRAN_SUP_TENDENCY3M#1342, CNT_TRAN_MED_TENDENCY3M#1364, CNT_TRAN_CLO_TENDENCY3M#1386, cast(CNT_TRAN_AUT_TENDENCY3M#272 as float) AS CNT_TRAN_AUT_TENDENCY3M#1408, CNT_TRAN_ATM_TENDENCY3M#329]\n",
       "                        +- Project [ID#255, TRANS_CNT_TENDENCY3M#1012, TURNOVER_DYNAMIC_CC_3M#1034, TURNOVER_DYNAMIC_CUR_3M#1056, TURNOVER_DYNAMIC_IL_3M#1078, TURNOVER_DYNAMIC_PAYM_3M#1100, SUM_TRAN_SUP_TENDENCY3M#1122, SUM_TRAN_MED_TENDENCY3M#1144, SUM_TRAN_CLO_TENDENCY3M#1166, SUM_TRAN_AUT_TENDENCY3M#1188, REST_DYNAMIC_SAVE_3M#1210, REST_DYNAMIC_PAYM_3M#1232, REST_DYNAMIC_IL_3M#1254, REST_DYNAMIC_FDEP_3M#1276, REST_DYNAMIC_CUR_3M#1298, REST_DYNAMIC_CC_3M#1320, CNT_TRAN_SUP_TENDENCY3M#1342, CNT_TRAN_MED_TENDENCY3M#1364, cast(CNT_TRAN_CLO_TENDENCY3M#316 as float) AS CNT_TRAN_CLO_TENDENCY3M#1386, CNT_TRAN_AUT_TENDENCY3M#272, CNT_TRAN_ATM_TENDENCY3M#329]\n",
       "                           +- Project [ID#255, TRANS_CNT_TENDENCY3M#1012, TURNOVER_DYNAMIC_CC_3M#1034, TURNOVER_DYNAMIC_CUR_3M#1056, TURNOVER_DYNAMIC_IL_3M#1078, TURNOVER_DYNAMIC_PAYM_3M#1100, SUM_TRAN_SUP_TENDENCY3M#1122, SUM_TRAN_MED_TENDENCY3M#1144, SUM_TRAN_CLO_TENDENCY3M#1166, SUM_TRAN_AUT_TENDENCY3M#1188, REST_DYNAMIC_SAVE_3M#1210, REST_DYNAMIC_PAYM_3M#1232, REST_DYNAMIC_IL_3M#1254, REST_DYNAMIC_FDEP_3M#1276, REST_DYNAMIC_CUR_3M#1298, REST_DYNAMIC_CC_3M#1320, CNT_TRAN_SUP_TENDENCY3M#1342, cast(CNT_TRAN_MED_TENDENCY3M#303 as float) AS CNT_TRAN_MED_TENDENCY3M#1364, CNT_TRAN_CLO_TENDENCY3M#316, CNT_TRAN_AUT_TENDENCY3M#272, CNT_TRAN_ATM_TENDENCY3M#329]\n",
       "                              +- Project [ID#255, TRANS_CNT_TENDENCY3M#1012, TURNOVER_DYNAMIC_CC_3M#1034, TURNOVER_DYNAMIC_CUR_3M#1056, TURNOVER_DYNAMIC_IL_3M#1078, TURNOVER_DYNAMIC_PAYM_3M#1100, SUM_TRAN_SUP_TENDENCY3M#1122, SUM_TRAN_MED_TENDENCY3M#1144, SUM_TRAN_CLO_TENDENCY3M#1166, SUM_TRAN_AUT_TENDENCY3M#1188, REST_DYNAMIC_SAVE_3M#1210, REST_DYNAMIC_PAYM_3M#1232, REST_DYNAMIC_IL_3M#1254, REST_DYNAMIC_FDEP_3M#1276, REST_DYNAMIC_CUR_3M#1298, REST_DYNAMIC_CC_3M#1320, cast(CNT_TRAN_SUP_TENDENCY3M#324 as float) AS CNT_TRAN_SUP_TENDENCY3M#1342, CNT_TRAN_MED_TENDENCY3M#303, CNT_TRAN_CLO_TENDENCY3M#316, CNT_TRAN_AUT_TENDENCY3M#272, CNT_TRAN_ATM_TENDENCY3M#329]\n",
       "                                 +- Project [ID#255, TRANS_CNT_TENDENCY3M#1012, TURNOVER_DYNAMIC_CC_3M#1034, TURNOVER_DYNAMIC_CUR_3M#1056, TURNOVER_DYNAMIC_IL_3M#1078, TURNOVER_DYNAMIC_PAYM_3M#1100, SUM_TRAN_SUP_TENDENCY3M#1122, SUM_TRAN_MED_TENDENCY3M#1144, SUM_TRAN_CLO_TENDENCY3M#1166, SUM_TRAN_AUT_TENDENCY3M#1188, REST_DYNAMIC_SAVE_3M#1210, REST_DYNAMIC_PAYM_3M#1232, REST_DYNAMIC_IL_3M#1254, REST_DYNAMIC_FDEP_3M#1276, REST_DYNAMIC_CUR_3M#1298, cast(REST_DYNAMIC_CC_3M#361 as float) AS REST_DYNAMIC_CC_3M#1320, CNT_TRAN_SUP_TENDENCY3M#324, CNT_TRAN_MED_TENDENCY3M#303, CNT_TRAN_CLO_TENDENCY3M#316, CNT_TRAN_AUT_TENDENCY3M#272, CNT_TRAN_ATM_TENDENCY3M#329]\n",
       "                                    +- Project [ID#255, TRANS_CNT_TENDENCY3M#1012, TURNOVER_DYNAMIC_CC_3M#1034, TURNOVER_DYNAMIC_CUR_3M#1056, TURNOVER_DYNAMIC_IL_3M#1078, TURNOVER_DYNAMIC_PAYM_3M#1100, SUM_TRAN_SUP_TENDENCY3M#1122, SUM_TRAN_MED_TENDENCY3M#1144, SUM_TRAN_CLO_TENDENCY3M#1166, SUM_TRAN_AUT_TENDENCY3M#1188, REST_DYNAMIC_SAVE_3M#1210, REST_DYNAMIC_PAYM_3M#1232, REST_DYNAMIC_IL_3M#1254, REST_DYNAMIC_FDEP_3M#1276, cast(REST_DYNAMIC_CUR_3M#323 as float) AS REST_DYNAMIC_CUR_3M#1298, REST_DYNAMIC_CC_3M#361, CNT_TRAN_SUP_TENDENCY3M#324, CNT_TRAN_MED_TENDENCY3M#303, CNT_TRAN_CLO_TENDENCY3M#316, CNT_TRAN_AUT_TENDENCY3M#272, CNT_TRAN_ATM_TENDENCY3M#329]\n",
       "                                       +- Project [ID#255, TRANS_CNT_TENDENCY3M#1012, TURNOVER_DYNAMIC_CC_3M#1034, TURNOVER_DYNAMIC_CUR_3M#1056, TURNOVER_DYNAMIC_IL_3M#1078, TURNOVER_DYNAMIC_PAYM_3M#1100, SUM_TRAN_SUP_TENDENCY3M#1122, SUM_TRAN_MED_TENDENCY3M#1144, SUM_TRAN_CLO_TENDENCY3M#1166, SUM_TRAN_AUT_TENDENCY3M#1188, REST_DYNAMIC_SAVE_3M#1210, REST_DYNAMIC_PAYM_3M#1232, REST_DYNAMIC_IL_3M#1254, cast(REST_DYNAMIC_FDEP_3M#306 as float) AS REST_DYNAMIC_FDEP_3M#1276, REST_DYNAMIC_CUR_3M#323, REST_DYNAMIC_CC_3M#361, CNT_TRAN_SUP_TENDENCY3M#324, CNT_TRAN_MED_TENDENCY3M#303, CNT_TRAN_CLO_TENDENCY3M#316, CNT_TRAN_AUT_TENDENCY3M#272, CNT_TRAN_ATM_TENDENCY3M#329]\n",
       "                                          +- Project [ID#255, TRANS_CNT_TENDENCY3M#1012, TURNOVER_DYNAMIC_CC_3M#1034, TURNOVER_DYNAMIC_CUR_3M#1056, TURNOVER_DYNAMIC_IL_3M#1078, TURNOVER_DYNAMIC_PAYM_3M#1100, SUM_TRAN_SUP_TENDENCY3M#1122, SUM_TRAN_MED_TENDENCY3M#1144, SUM_TRAN_CLO_TENDENCY3M#1166, SUM_TRAN_AUT_TENDENCY3M#1188, REST_DYNAMIC_SAVE_3M#1210, REST_DYNAMIC_PAYM_3M#1232, cast(REST_DYNAMIC_IL_3M#328 as float) AS REST_DYNAMIC_IL_3M#1254, REST_DYNAMIC_FDEP_3M#306, REST_DYNAMIC_CUR_3M#323, REST_DYNAMIC_CC_3M#361, CNT_TRAN_SUP_TENDENCY3M#324, CNT_TRAN_MED_TENDENCY3M#303, CNT_TRAN_CLO_TENDENCY3M#316, CNT_TRAN_AUT_TENDENCY3M#272, CNT_TRAN_ATM_TENDENCY3M#329]\n",
       "                                             +- Project [ID#255, TRANS_CNT_TENDENCY3M#1012, TURNOVER_DYNAMIC_CC_3M#1034, TURNOVER_DYNAMIC_CUR_3M#1056, TURNOVER_DYNAMIC_IL_3M#1078, TURNOVER_DYNAMIC_PAYM_3M#1100, SUM_TRAN_SUP_TENDENCY3M#1122, SUM_TRAN_MED_TENDENCY3M#1144, SUM_TRAN_CLO_TENDENCY3M#1166, SUM_TRAN_AUT_TENDENCY3M#1188, REST_DYNAMIC_SAVE_3M#1210, cast(REST_DYNAMIC_PAYM_3M#326 as float) AS REST_DYNAMIC_PAYM_3M#1232, REST_DYNAMIC_IL_3M#328, REST_DYNAMIC_FDEP_3M#306, REST_DYNAMIC_CUR_3M#323, REST_DYNAMIC_CC_3M#361, CNT_TRAN_SUP_TENDENCY3M#324, CNT_TRAN_MED_TENDENCY3M#303, CNT_TRAN_CLO_TENDENCY3M#316, CNT_TRAN_AUT_TENDENCY3M#272, CNT_TRAN_ATM_TENDENCY3M#329]\n",
       "                                                +- Project [ID#255, TRANS_CNT_TENDENCY3M#1012, TURNOVER_DYNAMIC_CC_3M#1034, TURNOVER_DYNAMIC_CUR_3M#1056, TURNOVER_DYNAMIC_IL_3M#1078, TURNOVER_DYNAMIC_PAYM_3M#1100, SUM_TRAN_SUP_TENDENCY3M#1122, SUM_TRAN_MED_TENDENCY3M#1144, SUM_TRAN_CLO_TENDENCY3M#1166, SUM_TRAN_AUT_TENDENCY3M#1188, cast(REST_DYNAMIC_SAVE_3M#275 as float) AS REST_DYNAMIC_SAVE_3M#1210, REST_DYNAMIC_PAYM_3M#326, REST_DYNAMIC_IL_3M#328, REST_DYNAMIC_FDEP_3M#306, REST_DYNAMIC_CUR_3M#323, REST_DYNAMIC_CC_3M#361, CNT_TRAN_SUP_TENDENCY3M#324, CNT_TRAN_MED_TENDENCY3M#303, CNT_TRAN_CLO_TENDENCY3M#316, CNT_TRAN_AUT_TENDENCY3M#272, CNT_TRAN_ATM_TENDENCY3M#329]\n",
       "                                                   +- Project [ID#255, TRANS_CNT_TENDENCY3M#1012, TURNOVER_DYNAMIC_CC_3M#1034, TURNOVER_DYNAMIC_CUR_3M#1056, TURNOVER_DYNAMIC_IL_3M#1078, TURNOVER_DYNAMIC_PAYM_3M#1100, SUM_TRAN_SUP_TENDENCY3M#1122, SUM_TRAN_MED_TENDENCY3M#1144, SUM_TRAN_CLO_TENDENCY3M#1166, cast(SUM_TRAN_AUT_TENDENCY3M#267 as float) AS SUM_TRAN_AUT_TENDENCY3M#1188, REST_DYNAMIC_SAVE_3M#275, REST_DYNAMIC_PAYM_3M#326, REST_DYNAMIC_IL_3M#328, REST_DYNAMIC_FDEP_3M#306, REST_DYNAMIC_CUR_3M#323, REST_DYNAMIC_CC_3M#361, CNT_TRAN_SUP_TENDENCY3M#324, CNT_TRAN_MED_TENDENCY3M#303, CNT_TRAN_CLO_TENDENCY3M#316, CNT_TRAN_AUT_TENDENCY3M#272, CNT_TRAN_ATM_TENDENCY3M#329]\n",
       "                                                      +- Project [ID#255, TRANS_CNT_TENDENCY3M#1012, TURNOVER_DYNAMIC_CC_3M#1034, TURNOVER_DYNAMIC_CUR_3M#1056, TURNOVER_DYNAMIC_IL_3M#1078, TURNOVER_DYNAMIC_PAYM_3M#1100, SUM_TRAN_SUP_TENDENCY3M#1122, SUM_TRAN_MED_TENDENCY3M#1144, cast(SUM_TRAN_CLO_TENDENCY3M#309 as float) AS SUM_TRAN_CLO_TENDENCY3M#1166, SUM_TRAN_AUT_TENDENCY3M#267, REST_DYNAMIC_SAVE_3M#275, REST_DYNAMIC_PAYM_3M#326, REST_DYNAMIC_IL_3M#328, REST_DYNAMIC_FDEP_3M#306, REST_DYNAMIC_CUR_3M#323, REST_DYNAMIC_CC_3M#361, CNT_TRAN_SUP_TENDENCY3M#324, CNT_TRAN_MED_TENDENCY3M#303, CNT_TRAN_CLO_TENDENCY3M#316, CNT_TRAN_AUT_TENDENCY3M#272, CNT_TRAN_ATM_TENDENCY3M#329]\n",
       "                                                         +- Project [ID#255, TRANS_CNT_TENDENCY3M#1012, TURNOVER_DYNAMIC_CC_3M#1034, TURNOVER_DYNAMIC_CUR_3M#1056, TURNOVER_DYNAMIC_IL_3M#1078, TURNOVER_DYNAMIC_PAYM_3M#1100, SUM_TRAN_SUP_TENDENCY3M#1122, cast(SUM_TRAN_MED_TENDENCY3M#305 as float) AS SUM_TRAN_MED_TENDENCY3M#1144, SUM_TRAN_CLO_TENDENCY3M#309, SUM_TRAN_AUT_TENDENCY3M#267, REST_DYNAMIC_SAVE_3M#275, REST_DYNAMIC_PAYM_3M#326, REST_DYNAMIC_IL_3M#328, REST_DYNAMIC_FDEP_3M#306, REST_DYNAMIC_CUR_3M#323, REST_DYNAMIC_CC_3M#361, CNT_TRAN_SUP_TENDENCY3M#324, CNT_TRAN_MED_TENDENCY3M#303, CNT_TRAN_CLO_TENDENCY3M#316, CNT_TRAN_AUT_TENDENCY3M#272, CNT_TRAN_ATM_TENDENCY3M#329]\n",
       "                                                            +- Project [ID#255, TRANS_CNT_TENDENCY3M#1012, TURNOVER_DYNAMIC_CC_3M#1034, TURNOVER_DYNAMIC_CUR_3M#1056, TURNOVER_DYNAMIC_IL_3M#1078, TURNOVER_DYNAMIC_PAYM_3M#1100, cast(SUM_TRAN_SUP_TENDENCY3M#327 as float) AS SUM_TRAN_SUP_TENDENCY3M#1122, SUM_TRAN_MED_TENDENCY3M#305, SUM_TRAN_CLO_TENDENCY3M#309, SUM_TRAN_AUT_TENDENCY3M#267, REST_DYNAMIC_SAVE_3M#275, REST_DYNAMIC_PAYM_3M#326, REST_DYNAMIC_IL_3M#328, REST_DYNAMIC_FDEP_3M#306, REST_DYNAMIC_CUR_3M#323, REST_DYNAMIC_CC_3M#361, CNT_TRAN_SUP_TENDENCY3M#324, CNT_TRAN_MED_TENDENCY3M#303, CNT_TRAN_CLO_TENDENCY3M#316, CNT_TRAN_AUT_TENDENCY3M#272, CNT_TRAN_ATM_TENDENCY3M#329]\n",
       "                                                               +- Project [ID#255, TRANS_CNT_TENDENCY3M#1012, TURNOVER_DYNAMIC_CC_3M#1034, TURNOVER_DYNAMIC_CUR_3M#1056, TURNOVER_DYNAMIC_IL_3M#1078, cast(TURNOVER_DYNAMIC_PAYM_3M#348 as float) AS TURNOVER_DYNAMIC_PAYM_3M#1100, SUM_TRAN_SUP_TENDENCY3M#327, SUM_TRAN_MED_TENDENCY3M#305, SUM_TRAN_CLO_TENDENCY3M#309, SUM_TRAN_AUT_TENDENCY3M#267, REST_DYNAMIC_SAVE_3M#275, REST_DYNAMIC_PAYM_3M#326, REST_DYNAMIC_IL_3M#328, REST_DYNAMIC_FDEP_3M#306, REST_DYNAMIC_CUR_3M#323, REST_DYNAMIC_CC_3M#361, CNT_TRAN_SUP_TENDENCY3M#324, CNT_TRAN_MED_TENDENCY3M#303, CNT_TRAN_CLO_TENDENCY3M#316, CNT_TRAN_AUT_TENDENCY3M#272, CNT_TRAN_ATM_TENDENCY3M#329]\n",
       "                                                                  +- Project [ID#255, TRANS_CNT_TENDENCY3M#1012, TURNOVER_DYNAMIC_CC_3M#1034, TURNOVER_DYNAMIC_CUR_3M#1056, cast(TURNOVER_DYNAMIC_IL_3M#331 as float) AS TURNOVER_DYNAMIC_IL_3M#1078, TURNOVER_DYNAMIC_PAYM_3M#348, SUM_TRAN_SUP_TENDENCY3M#327, SUM_TRAN_MED_TENDENCY3M#305, SUM_TRAN_CLO_TENDENCY3M#309, SUM_TRAN_AUT_TENDENCY3M#267, REST_DYNAMIC_SAVE_3M#275, REST_DYNAMIC_PAYM_3M#326, REST_DYNAMIC_IL_3M#328, REST_DYNAMIC_FDEP_3M#306, REST_DYNAMIC_CUR_3M#323, REST_DYNAMIC_CC_3M#361, CNT_TRAN_SUP_TENDENCY3M#324, CNT_TRAN_MED_TENDENCY3M#303, CNT_TRAN_CLO_TENDENCY3M#316, CNT_TRAN_AUT_TENDENCY3M#272, CNT_TRAN_ATM_TENDENCY3M#329]\n",
       "                                                                     +- Project [ID#255, TRANS_CNT_TENDENCY3M#1012, TURNOVER_DYNAMIC_CC_3M#1034, cast(TURNOVER_DYNAMIC_CUR_3M#342 as float) AS TURNOVER_DYNAMIC_CUR_3M#1056, TURNOVER_DYNAMIC_IL_3M#331, TURNOVER_DYNAMIC_PAYM_3M#348, SUM_TRAN_SUP_TENDENCY3M#327, SUM_TRAN_MED_TENDENCY3M#305, SUM_TRAN_CLO_TENDENCY3M#309, SUM_TRAN_AUT_TENDENCY3M#267, REST_DYNAMIC_SAVE_3M#275, REST_DYNAMIC_PAYM_3M#326, REST_DYNAMIC_IL_3M#328, REST_DYNAMIC_FDEP_3M#306, REST_DYNAMIC_CUR_3M#323, REST_DYNAMIC_CC_3M#361, CNT_TRAN_SUP_TENDENCY3M#324, CNT_TRAN_MED_TENDENCY3M#303, CNT_TRAN_CLO_TENDENCY3M#316, CNT_TRAN_AUT_TENDENCY3M#272, CNT_TRAN_ATM_TENDENCY3M#329]\n",
       "                                                                        +- Project [ID#255, TRANS_CNT_TENDENCY3M#1012, cast(TURNOVER_DYNAMIC_CC_3M#366 as float) AS TURNOVER_DYNAMIC_CC_3M#1034, TURNOVER_DYNAMIC_CUR_3M#342, TURNOVER_DYNAMIC_IL_3M#331, TURNOVER_DYNAMIC_PAYM_3M#348, SUM_TRAN_SUP_TENDENCY3M#327, SUM_TRAN_MED_TENDENCY3M#305, SUM_TRAN_CLO_TENDENCY3M#309, SUM_TRAN_AUT_TENDENCY3M#267, REST_DYNAMIC_SAVE_3M#275, REST_DYNAMIC_PAYM_3M#326, REST_DYNAMIC_IL_3M#328, REST_DYNAMIC_FDEP_3M#306, REST_DYNAMIC_CUR_3M#323, REST_DYNAMIC_CC_3M#361, CNT_TRAN_SUP_TENDENCY3M#324, CNT_TRAN_MED_TENDENCY3M#303, CNT_TRAN_CLO_TENDENCY3M#316, CNT_TRAN_AUT_TENDENCY3M#272, CNT_TRAN_ATM_TENDENCY3M#329]\n",
       "                                                                           +- Project [ID#255, cast(TRANS_CNT_TENDENCY3M#354 as float) AS TRANS_CNT_TENDENCY3M#1012, TURNOVER_DYNAMIC_CC_3M#366, TURNOVER_DYNAMIC_CUR_3M#342, TURNOVER_DYNAMIC_IL_3M#331, TURNOVER_DYNAMIC_PAYM_3M#348, SUM_TRAN_SUP_TENDENCY3M#327, SUM_TRAN_MED_TENDENCY3M#305, SUM_TRAN_CLO_TENDENCY3M#309, SUM_TRAN_AUT_TENDENCY3M#267, REST_DYNAMIC_SAVE_3M#275, REST_DYNAMIC_PAYM_3M#326, REST_DYNAMIC_IL_3M#328, REST_DYNAMIC_FDEP_3M#306, REST_DYNAMIC_CUR_3M#323, REST_DYNAMIC_CC_3M#361, CNT_TRAN_SUP_TENDENCY3M#324, CNT_TRAN_MED_TENDENCY3M#303, CNT_TRAN_CLO_TENDENCY3M#316, CNT_TRAN_AUT_TENDENCY3M#272, CNT_TRAN_ATM_TENDENCY3M#329]\n",
       "                                                                              +- Project [ID#255, TRANS_CNT_TENDENCY3M#354, TURNOVER_DYNAMIC_CC_3M#366, TURNOVER_DYNAMIC_CUR_3M#342, TURNOVER_DYNAMIC_IL_3M#331, TURNOVER_DYNAMIC_PAYM_3M#348, SUM_TRAN_SUP_TENDENCY3M#327, SUM_TRAN_MED_TENDENCY3M#305, SUM_TRAN_CLO_TENDENCY3M#309, SUM_TRAN_AUT_TENDENCY3M#267, REST_DYNAMIC_SAVE_3M#275, REST_DYNAMIC_PAYM_3M#326, REST_DYNAMIC_IL_3M#328, REST_DYNAMIC_FDEP_3M#306, REST_DYNAMIC_CUR_3M#323, REST_DYNAMIC_CC_3M#361, CNT_TRAN_SUP_TENDENCY3M#324, CNT_TRAN_MED_TENDENCY3M#303, CNT_TRAN_CLO_TENDENCY3M#316, CNT_TRAN_AUT_TENDENCY3M#272, CNT_TRAN_ATM_TENDENCY3M#329]\n",
       "                                                                                 +- Relation[_c0#254,ID#255,CR_PROD_CNT_IL#256,AMOUNT_RUB_CLO_PRC#257,PRC_ACCEPTS_A_EMAIL_LINK#258,APP_REGISTR_RGN_CODE#259,PRC_ACCEPTS_A_POS#260,PRC_ACCEPTS_A_TK#261,TURNOVER_DYNAMIC_IL_1M#262,CNT_TRAN_AUT_TENDENCY1M#263,SUM_TRAN_AUT_TENDENCY1M#264,AMOUNT_RUB_SUP_PRC#265,PRC_ACCEPTS_A_AMOBILE#266,SUM_TRAN_AUT_TENDENCY3M#267,CLNT_TRUST_RELATION#268,PRC_ACCEPTS_TK#269,PRC_ACCEPTS_A_MTP#270,REST_DYNAMIC_FDEP_1M#271,CNT_TRAN_AUT_TENDENCY3M#272,CNT_ACCEPTS_TK#273,APP_MARITAL_STATUS#274,REST_DYNAMIC_SAVE_3M#275,CR_PROD_CNT_VCU#276,REST_AVG_CUR#277,... 92 more fields] csv\n",
       "  at org.apache.spark.sql.catalyst.analysis.package$AnalysisErrorAt.failAnalysis(package.scala:42)\n",
       "  at org.apache.spark.sql.catalyst.analysis.CheckAnalysis$$anonfun$checkAnalysis$1$$anonfun$apply$3.applyOrElse(CheckAnalysis.scala:116)\n",
       "  at org.apache.spark.sql.catalyst.analysis.CheckAnalysis$$anonfun$checkAnalysis$1$$anonfun$apply$3.applyOrElse(CheckAnalysis.scala:108)\n",
       "  at org.apache.spark.sql.catalyst.trees.TreeNode$$anonfun$transformUp$1.apply(TreeNode.scala:280)\n",
       "  at org.apache.spark.sql.catalyst.trees.TreeNode$$anonfun$transformUp$1.apply(TreeNode.scala:280)\n",
       "  at org.apache.spark.sql.catalyst.trees.CurrentOrigin$.withOrigin(TreeNode.scala:69)\n",
       "  at org.apache.spark.sql.catalyst.trees.TreeNode.transformUp(TreeNode.scala:279)\n",
       "  at org.apache.spark.sql.catalyst.trees.TreeNode$$anonfun$3.apply(TreeNode.scala:277)\n",
       "  at org.apache.spark.sql.catalyst.trees.TreeNode$$anonfun$3.apply(TreeNode.scala:277)\n",
       "  at org.apache.spark.sql.catalyst.trees.TreeNode$$anonfun$4.apply(TreeNode.scala:328)\n",
       "  at org.apache.spark.sql.catalyst.trees.TreeNode.mapProductIterator(TreeNode.scala:186)\n",
       "  at org.apache.spark.sql.catalyst.trees.TreeNode.mapChildren(TreeNode.scala:326)\n",
       "  at org.apache.spark.sql.catalyst.trees.TreeNode.transformUp(TreeNode.scala:277)\n",
       "  at org.apache.spark.sql.catalyst.plans.QueryPlan$$anonfun$transformExpressionsUp$1.apply(QueryPlan.scala:93)\n",
       "  at org.apache.spark.sql.catalyst.plans.QueryPlan$$anonfun$transformExpressionsUp$1.apply(QueryPlan.scala:93)\n",
       "  at org.apache.spark.sql.catalyst.plans.QueryPlan$$anonfun$1.apply(QueryPlan.scala:105)\n",
       "  at org.apache.spark.sql.catalyst.plans.QueryPlan$$anonfun$1.apply(QueryPlan.scala:105)\n",
       "  at org.apache.spark.sql.catalyst.trees.CurrentOrigin$.withOrigin(TreeNode.scala:69)\n",
       "  at org.apache.spark.sql.catalyst.plans.QueryPlan.transformExpression$1(QueryPlan.scala:104)\n",
       "  at org.apache.spark.sql.catalyst.plans.QueryPlan.org$apache$spark$sql$catalyst$plans$QueryPlan$$recursiveTransform$1(QueryPlan.scala:116)\n",
       "  at org.apache.spark.sql.catalyst.plans.QueryPlan$$anonfun$org$apache$spark$sql$catalyst$plans$QueryPlan$$recursiveTransform$1$2.apply(QueryPlan.scala:121)\n",
       "  at scala.collection.TraversableLike$$anonfun$map$1.apply(TraversableLike.scala:234)\n",
       "  at scala.collection.TraversableLike$$anonfun$map$1.apply(TraversableLike.scala:234)\n",
       "  at scala.collection.mutable.ResizableArray$class.foreach(ResizableArray.scala:59)\n",
       "  at scala.collection.mutable.ArrayBuffer.foreach(ArrayBuffer.scala:48)\n",
       "  at scala.collection.TraversableLike$class.map(TraversableLike.scala:234)\n",
       "  at scala.collection.AbstractTraversable.map(Traversable.scala:104)\n",
       "  at org.apache.spark.sql.catalyst.plans.QueryPlan.org$apache$spark$sql$catalyst$plans$QueryPlan$$recursiveTransform$1(QueryPlan.scala:121)\n",
       "  at org.apache.spark.sql.catalyst.plans.QueryPlan$$anonfun$2.apply(QueryPlan.scala:126)\n",
       "  at org.apache.spark.sql.catalyst.trees.TreeNode.mapProductIterator(TreeNode.scala:186)\n",
       "  at org.apache.spark.sql.catalyst.plans.QueryPlan.mapExpressions(QueryPlan.scala:126)\n",
       "  at org.apache.spark.sql.catalyst.plans.QueryPlan.transformExpressionsUp(QueryPlan.scala:93)\n",
       "  at org.apache.spark.sql.catalyst.analysis.CheckAnalysis$$anonfun$checkAnalysis$1.apply(CheckAnalysis.scala:108)\n",
       "  at org.apache.spark.sql.catalyst.analysis.CheckAnalysis$$anonfun$checkAnalysis$1.apply(CheckAnalysis.scala:86)\n",
       "  at org.apache.spark.sql.catalyst.trees.TreeNode.foreachUp(TreeNode.scala:126)\n",
       "  at org.apache.spark.sql.catalyst.analysis.CheckAnalysis$class.checkAnalysis(CheckAnalysis.scala:86)\n",
       "  at org.apache.spark.sql.catalyst.analysis.Analyzer.checkAnalysis(Analyzer.scala:95)\n",
       "  at org.apache.spark.sql.catalyst.analysis.Analyzer$$anonfun$executeAndCheck$1.apply(Analyzer.scala:108)\n",
       "  at org.apache.spark.sql.catalyst.analysis.Analyzer$$anonfun$executeAndCheck$1.apply(Analyzer.scala:105)\n",
       "  at org.apache.spark.sql.catalyst.plans.logical.AnalysisHelper$.markInAnalyzer(AnalysisHelper.scala:201)\n",
       "  at org.apache.spark.sql.catalyst.analysis.Analyzer.executeAndCheck(Analyzer.scala:105)\n",
       "  at org.apache.spark.sql.execution.QueryExecution.analyzed$lzycompute(QueryExecution.scala:58)\n",
       "  at org.apache.spark.sql.execution.QueryExecution.analyzed(QueryExecution.scala:56)\n",
       "  at org.apache.spark.sql.execution.QueryExecution.assertAnalyzed(QueryExecution.scala:48)\n",
       "  at org.apache.spark.sql.Dataset$.ofRows(Dataset.scala:78)\n",
       "  at org.apache.spark.sql.Dataset.org$apache$spark$sql$Dataset$$withPlan(Dataset.scala:3412)\n",
       "  at org.apache.spark.sql.Dataset.select(Dataset.scala:1340)"
      ]
     },
     "execution_count": 33,
     "metadata": {},
     "output_type": "execute_result"
    }
   ],
   "source": [
    "predictions_test.select(vecToArray(col(\"probability\"))).show(1, false)"
   ]
  },
  {
   "cell_type": "code",
   "execution_count": 44,
   "metadata": {},
   "outputs": [
    {
     "data": {
      "text/plain": [
       "to_file = Array([519130,0.2007249596167553], [234045,0.06381715893734766], [401256,0.07182391270292456], [551070,0.15865179793281564], [367285,0.013664677600691516], [497998,0.08363759180546831], [413082,0.08059976826784031], [349893,0.013664677600691516], [346337,0.139691797947495], [289979,0.037484759366276536], [510818,0.1203775663431398], [235935,0.0904143079451547], [532135,0.12638674327457303], [564760,0.021319244701049445], [277391,0.19298065799539518], [336830,0.1679945699987123], [356053,0.059061488084387624], [293302,0.0833953970766497], [322368,0.019201960714992708], [406041,0.06930372550682254], [569179,0.08017685274563383], [191405,0.052434616653255516], [489011,0.0378207769369385], [265952,0.08070009572956452], [193718,0.053931763089018696]...\n"
      ]
     },
     "metadata": {},
     "output_type": "display_data"
    },
    {
     "data": {
      "text/plain": [
       "Array([519130,0.2007249596167553], [234045,0.06381715893734766], [401256,0.07182391270292456], [551070,0.15865179793281564], [367285,0.013664677600691516], [497998,0.08363759180546831], [413082,0.08059976826784031], [349893,0.013664677600691516], [346337,0.139691797947495], [289979,0.037484759366276536], [510818,0.1203775663431398], [235935,0.0904143079451547], [532135,0.12638674327457303], [564760,0.021319244701049445], [277391,0.19298065799539518], [336830,0.1679945699987123], [356053,0.059061488084387624], [293302,0.0833953970766497], [322368,0.019201960714992708], [406041,0.06930372550682254], [569179,0.08017685274563383], [191405,0.052434616653255516], [489011,0.0378207769369385], [265952,0.08070009572956452], [193718,0.053931763089018696]..."
      ]
     },
     "execution_count": 44,
     "metadata": {},
     "output_type": "execute_result"
    }
   ],
   "source": [
    "val to_file = predictions_test.select(col(\"ID\").alias(\"id\"), vecToArray(col(\"probability\")).getItem(1).alias(\"target\")).collect()"
   ]
  },
  {
   "cell_type": "code",
   "execution_count": 91,
   "metadata": {},
   "outputs": [
    {
     "name": "stdout",
     "output_type": "stream",
     "text": [
      "+----------------------------------------+\n",
      "|probability                             |\n",
      "+----------------------------------------+\n",
      "|[0.7980660019990831,0.20193399800091705]|\n",
      "+----------------------------------------+\n",
      "only showing top 1 row\n",
      "\n"
     ]
    }
   ],
   "source": [
    "predictions_test.select(\"probability\").show(1, false)"
   ]
  },
  {
   "cell_type": "code",
   "execution_count": 41,
   "metadata": {},
   "outputs": [
    {
     "name": "stdout",
     "output_type": "stream",
     "text": [
      "+------+--------------------+\n",
      "|    id|              target|\n",
      "+------+--------------------+\n",
      "|519130|  0.2007249596167553|\n",
      "|234045| 0.06381715893734766|\n",
      "|401256| 0.07182391270292456|\n",
      "|551070| 0.15865179793281564|\n",
      "|367285|0.013664677600691516|\n",
      "|497998| 0.08363759180546831|\n",
      "|413082| 0.08059976826784031|\n",
      "|349893|0.013664677600691516|\n",
      "|346337|   0.139691797947495|\n",
      "|289979|0.037484759366276536|\n",
      "|510818|  0.1203775663431398|\n",
      "|235935|  0.0904143079451547|\n",
      "|532135| 0.12638674327457303|\n",
      "|564760|0.021319244701049445|\n",
      "|277391| 0.19298065799539518|\n",
      "|336830|  0.1679945699987123|\n",
      "|356053|0.059061488084387624|\n",
      "|293302|  0.0833953970766497|\n",
      "|322368|0.019201960714992708|\n",
      "|406041| 0.06930372550682254|\n",
      "+------+--------------------+\n",
      "only showing top 20 rows\n",
      "\n"
     ]
    }
   ],
   "source": [
    "to_file.show()"
   ]
  },
  {
   "cell_type": "code",
   "execution_count": null,
   "metadata": {},
   "outputs": [],
   "source": []
  },
  {
   "cell_type": "code",
   "execution_count": 45,
   "metadata": {},
   "outputs": [
    {
     "data": {
      "text/plain": [
       "string_to_write = \n"
      ]
     },
     "metadata": {},
     "output_type": "display_data"
    },
    {
     "data": {
      "text/plain": [
       "id\ttarget\n",
       "519130\t0.2007249596167553\n",
       "234045\t0.06381715893734766\n",
       "401256\t0.07182391270292456\n",
       "551070\t0.15865179793281564\n",
       "367285\t0.013664677600691516\n",
       "497998\t0.08363759180546831\n",
       "413082\t0.08059976826784031\n",
       "349893\t0.013664677600691516\n",
       "346337\t0.139691797947495\n",
       "289979\t0.037484759366276536\n",
       "510818\t0.1203775663431398\n",
       "235935\t0.0904143079451547\n",
       "532135\t0.12638674327457303\n",
       "564760\t0.021319244701049445\n",
       "277391\t0.19298065799539518\n",
       "336830\t0.1679945699987123\n",
       "356053\t0.059061488084387624\n",
       "293302\t0.0833953970766497\n",
       "322368\t0.019201960714992708\n",
       "406041\t0.06930372550682254\n",
       "569179\t0.08017685274563383\n",
       "191405\t0.052434616653255516\n",
       "489011\t0.0378207769369385\n",
       "265952\t0.08070009572956452\n",
       "193718\t0.053931763089018696\n",
       "241961\t0.1704272764669898\n",
       "522250\t0.05090881267922347\n",
       "486617\t0.053047851743765244\n",
       "56303...\n"
      ]
     },
     "metadata": {},
     "output_type": "display_data"
    }
   ],
   "source": [
    "val string_to_write = \"id\\ttarget\" + \"\\n\" + to_file.map(x => Array(x(0), x(1))\n",
    "                                                    ).map(y => y.mkString(\"\\t\")).mkString(\"\\n\")"
   ]
  },
  {
   "cell_type": "code",
   "execution_count": null,
   "metadata": {},
   "outputs": [],
   "source": []
  },
  {
   "cell_type": "code",
   "execution_count": 48,
   "metadata": {},
   "outputs": [
    {
     "data": {
      "text/plain": [
       "$anon$1@6f020ddf"
      ]
     },
     "execution_count": 48,
     "metadata": {},
     "output_type": "execute_result"
    }
   ],
   "source": [
    "import java.io.PrintWriter\n",
    "new PrintWriter(\"lab05.csv\") { write(string_to_write); close }"
   ]
  }
 ],
 "metadata": {
  "kernelspec": {
   "display_name": "Apache Toree - Scala",
   "language": "scala",
   "name": "apache_toree_scala"
  },
  "language_info": {
   "codemirror_mode": "text/x-scala",
   "file_extension": ".scala",
   "mimetype": "text/x-scala",
   "name": "scala",
   "pygments_lexer": "scala",
   "version": "2.11.12"
  }
 },
 "nbformat": 4,
 "nbformat_minor": 2
}
