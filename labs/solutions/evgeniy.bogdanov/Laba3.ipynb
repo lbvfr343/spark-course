{
 "cells": [
  {
   "cell_type": "code",
   "execution_count": 1,
   "metadata": {},
   "outputs": [
    {
     "name": "stdout",
     "output_type": "stream",
     "text": [
      "Welcome to\n",
      "      ____              __\n",
      "     / __/__  ___ _____/ /__\n",
      "    _\\ \\/ _ \\/ _ `/ __/  '_/\n",
      "   /__ / .__/\\_,_/_/ /_/\\_\\   version 2.4.7\n",
      "      /_/\n",
      "\n",
      "Using Python version 3.6.5 (default, Apr 29 2018 16:14:56)\n",
      "SparkSession available as 'spark'.\n"
     ]
    }
   ],
   "source": [
    "import os\n",
    "import sys\n",
    "os.environ[\"PYSPARK_PYTHON\"]='/opt/anaconda/envs/bd9/bin/python'\n",
    "os.environ[\"SPARK_HOME\"]='/usr/hdp/current/spark2-client'\n",
    "os.environ[\"PYSPARK_SUBMIT_ARGS\"]='--num-executors 2 pyspark-shell'\n",
    "\n",
    "spark_home = os.environ.get('SPARK_HOME', None)\n",
    "if not spark_home:\n",
    "    raise ValueError('SPARK_HOME environment variable is not set')\n",
    "\n",
    "sys.path.insert(0, os.path.join(spark_home, 'python'))\n",
    "sys.path.insert(0, os.path.join(spark_home, 'python/lib/py4j-0.10.7-src.zip'))\n",
    "exec(open(os.path.join(spark_home, 'python/pyspark/shell.py')).read())"
   ]
  },
  {
   "cell_type": "code",
   "execution_count": 2,
   "metadata": {},
   "outputs": [],
   "source": [
    "from pyspark import SparkConf\n",
    "from pyspark.sql import SparkSession\n",
    "from pyspark.sql import functions as F\n",
    "from pyspark.sql.types import *\n",
    "from pyspark import Row\n",
    "import json\n",
    "\n",
    "conf = SparkConf()\n",
    "\n",
    "spark = (SparkSession\n",
    "         .builder\n",
    "         .config(conf=conf)\n",
    "         .appName(\"bea\")\n",
    "         .getOrCreate())"
   ]
  },
  {
   "cell_type": "code",
   "execution_count": 3,
   "metadata": {},
   "outputs": [],
   "source": [
    "from pyspark.ml.feature import Tokenizer, RegexTokenizer, StopWordsRemover\n",
    "from pyspark.sql.functions import col, udf, lit, row_number, monotonically_increasing_id \n",
    "import pyspark.sql.functions as f\n",
    "from pyspark.ml.feature import HashingTF, IDF\n",
    "from pyspark.sql.window import Window\n",
    "from pyspark.sql.functions import sum as _sum\n",
    "from pyspark.ml.classification import GBTClassifier\n",
    "from pyspark.ml.linalg import Vectors\n",
    "from pyspark.ml.feature import VectorAssembler"
   ]
  },
  {
   "cell_type": "code",
   "execution_count": 4,
   "metadata": {},
   "outputs": [],
   "source": [
    "@udf(returnType=StringType()) \n",
    "def firstword(v):\n",
    "    if v is not None:\n",
    "        return v.split(',')[0]\n",
    "    else: return 'Пусто'"
   ]
  },
  {
   "cell_type": "code",
   "execution_count": null,
   "metadata": {},
   "outputs": [],
   "source": []
  },
  {
   "cell_type": "code",
   "execution_count": null,
   "metadata": {},
   "outputs": [],
   "source": []
  },
  {
   "cell_type": "code",
   "execution_count": null,
   "metadata": {},
   "outputs": [],
   "source": []
  },
  {
   "cell_type": "raw",
   "metadata": {},
   "source": []
  },
  {
   "cell_type": "code",
   "execution_count": null,
   "metadata": {},
   "outputs": [],
   "source": []
  },
  {
   "cell_type": "code",
   "execution_count": 5,
   "metadata": {},
   "outputs": [],
   "source": [
    "items = spark.read\\\n",
    "          .format(\"csv\")\\\n",
    "          .option(\"header\",True)\\\n",
    "          .option(\"delimiter\",\"\\t\")\\\n",
    "          .load(\"/labs/slaba03/laba03_items.csv\")\n",
    "test = spark.read\\\n",
    "          .format(\"csv\")\\\n",
    "          .option(\"header\",True)\\\n",
    "          .load(\"/labs/slaba03/laba03_test.csv\")\n",
    "train = spark.read\\\n",
    "          .format(\"csv\")\\\n",
    "          .option(\"header\",True)\\\n",
    "          .load(\"/labs/slaba03/laba03_train.csv\")\n",
    "vp = spark.read\\\n",
    "          .format(\"csv\")\\\n",
    "          .option(\"header\",True)\\\n",
    "          .load(\"/labs/slaba03/laba03_views_programmes.csv\")\n"
   ]
  },
  {
   "cell_type": "code",
   "execution_count": null,
   "metadata": {},
   "outputs": [],
   "source": [
    "\n"
   ]
  },
  {
   "cell_type": "code",
   "execution_count": null,
   "metadata": {},
   "outputs": [],
   "source": []
  },
  {
   "cell_type": "code",
   "execution_count": 27,
   "metadata": {},
   "outputs": [],
   "source": [
    "\n",
    "train1 = train.withColumn(\"label\", col(\"purchase\").cast(\"int\"))\\\n",
    "              .withColumn(\"user_sum\", f.sum(\"label\").over(Window.partitionBy(\"user_id\")))\\\n",
    "              .withColumn(\"item_sum\", f.sum(\"label\").over(Window.partitionBy(\"item_id\")))\\\n",
    "              .withColumn(\"user_avg\", f.avg(\"label\").over(Window.partitionBy(\"user_id\")))\\\n",
    "              .withColumn(\"item_avg\", f.avg(\"label\").over(Window.partitionBy(\"item_id\")))\\\n",
    "              .join(items, train.item_id ==  items.item_id, \"left\")\\\n",
    "              .select (train.user_id, train.item_id, \"user_sum\", \"item_sum\",\"user_avg\", \"item_avg\", \"label\",\\\n",
    "                       col(\"content_type\").cast(\"int\"), col(\"year\").cast(\"int\"))\\\n",
    "              .cache()\n",
    "                      "
   ]
  },
  {
   "cell_type": "code",
   "execution_count": null,
   "metadata": {},
   "outputs": [],
   "source": []
  },
  {
   "cell_type": "code",
   "execution_count": 29,
   "metadata": {},
   "outputs": [],
   "source": [
    "test1 = test.join(train1.groupBy(\"user_id\").max(\"user_avg\", \"user_sum\"), test.user_id ==  train1.user_id,\"left\")\\\n",
    "            .join(train1.groupBy(\"item_id\").max(\"item_avg\", \"item_sum\"), test.item_id ==  train1.item_id,\"left\")\\\n",
    "            .join(items, test.item_id ==  items.item_id, \"left\")\\\n",
    "            .select (test.user_id, test.item_id, col(\"max(user_avg)\").alias(\"user_avg\"), col(\"max(item_avg)\").alias(\"item_avg\"),\\\n",
    "                     col(\"max(user_sum)\").alias(\"user_sum\"), col(\"max(item_sum)\").alias(\"item_sum\"),\\\n",
    "                     test.purchase.cast(\"int\"),\\\n",
    "                     col(\"content_type\").cast(\"int\"), col(\"year\").cast(\"int\"))\\\n",
    "            .cache()"
   ]
  },
  {
   "cell_type": "code",
   "execution_count": null,
   "metadata": {},
   "outputs": [],
   "source": []
  },
  {
   "cell_type": "code",
   "execution_count": 30,
   "metadata": {},
   "outputs": [
    {
     "name": "stdout",
     "output_type": "stream",
     "text": [
      "+----------------------------------------------+-----+\n",
      "|features                                      |label|\n",
      "+----------------------------------------------+-----+\n",
      "|[2014.0,1.0,0.0015308075009567547,0.0,4.0,0.0]|null |\n",
      "|[2014.0,1.0,0.0015527950310559005,0.0,4.0,0.0]|null |\n",
      "+----------------------------------------------+-----+\n",
      "only showing top 2 rows\n",
      "\n"
     ]
    }
   ],
   "source": [
    "vector_test = VectorAssembler(\n",
    "    inputCols=[ \"year\", \"content_type\", \"user_avg\", \"item_avg\", \"user_sum\", \"item_sum\"],\n",
    "    outputCol=\"features\", handleInvalid=\"keep\")\n",
    "\n",
    "output_test = vector_test.transform(test1)\n",
    "output_test.select(\"features\", col(\"purchase\").alias(\"label\")).show(2, truncate=False)"
   ]
  },
  {
   "cell_type": "code",
   "execution_count": 31,
   "metadata": {},
   "outputs": [],
   "source": [
    "train1 = train1.dropna()\n"
   ]
  },
  {
   "cell_type": "code",
   "execution_count": 32,
   "metadata": {},
   "outputs": [
    {
     "name": "stdout",
     "output_type": "stream",
     "text": [
      "+------------------------+-----+\n",
      "|features                |label|\n",
      "+------------------------+-----+\n",
      "|[2014.0,1.0,0.0,1.0,0.0]|0    |\n",
      "|[2014.0,1.0,0.0,1.0,0.0]|0    |\n",
      "+------------------------+-----+\n",
      "only showing top 2 rows\n",
      "\n"
     ]
    }
   ],
   "source": [
    "vector = VectorAssembler(\n",
    "    inputCols=[ \"year\", \"content_type\", \"item_avg\", \"user_sum\", \"item_sum\"],\n",
    "    outputCol=\"features\", handleInvalid=\"keep\")\n",
    "\n",
    "output = vector.transform(train1)\n",
    "output.select(\"features\", \"label\").show(2, truncate=False)"
   ]
  },
  {
   "cell_type": "code",
   "execution_count": null,
   "metadata": {},
   "outputs": [],
   "source": [
    "gbt = GBTClassifier(maxIter=10)\n",
    "gbtModel = gbt.fit(output)\n"
   ]
  },
  {
   "cell_type": "code",
   "execution_count": null,
   "metadata": {},
   "outputs": [],
   "source": [
    "predictions = gbtModel.transform(output_test)\n"
   ]
  },
  {
   "cell_type": "code",
   "execution_count": null,
   "metadata": {},
   "outputs": [],
   "source": [
    "firstelement=udf(lambda v:float(v[1]),FloatType())\n"
   ]
  },
  {
   "cell_type": "code",
   "execution_count": null,
   "metadata": {},
   "outputs": [],
   "source": []
  },
  {
   "cell_type": "code",
   "execution_count": null,
   "metadata": {},
   "outputs": [],
   "source": [
    "\n",
    "final = predictions.orderBy(col(\"user_id\").asc(), col(\"item_id\").asc())\\\n",
    "          .withColumn(\"id\", f.monotonically_increasing_id())\\\n",
    "           .select(col(\"id\").alias(\"\"), \"user_id\", \"item_id\", firstelement(\"probability\").alias(\"purchase\"))\n",
    "\n",
    "           \n",
    "                "
   ]
  },
  {
   "cell_type": "code",
   "execution_count": 15,
   "metadata": {},
   "outputs": [
    {
     "data": {
      "text/plain": [
       "DataFrame[: bigint, user_id: string, item_id: string, purchase: float]"
      ]
     },
     "execution_count": 15,
     "metadata": {},
     "output_type": "execute_result"
    }
   ],
   "source": []
  },
  {
   "cell_type": "code",
   "execution_count": null,
   "metadata": {},
   "outputs": [],
   "source": [
    "final.toPandas().to_csv('lab03.csv')"
   ]
  },
  {
   "cell_type": "code",
   "execution_count": null,
   "metadata": {},
   "outputs": [],
   "source": [
    "final.coalesce(1).write.csv('lab032')"
   ]
  },
  {
   "cell_type": "code",
   "execution_count": null,
   "metadata": {},
   "outputs": [],
   "source": [
    "!hdfs dfs -copyToLocal lab031"
   ]
  },
  {
   "cell_type": "code",
   "execution_count": null,
   "metadata": {},
   "outputs": [],
   "source": []
  },
  {
   "cell_type": "code",
   "execution_count": null,
   "metadata": {},
   "outputs": [],
   "source": [
    "gbtModel.featureImportances"
   ]
  },
  {
   "cell_type": "code",
   "execution_count": null,
   "metadata": {},
   "outputs": [],
   "source": []
  },
  {
   "cell_type": "code",
   "execution_count": null,
   "metadata": {},
   "outputs": [],
   "source": [
    "spark.stop()"
   ]
  },
  {
   "cell_type": "code",
   "execution_count": null,
   "metadata": {},
   "outputs": [],
   "source": []
  },
  {
   "cell_type": "code",
   "execution_count": null,
   "metadata": {},
   "outputs": [],
   "source": []
  },
  {
   "cell_type": "raw",
   "metadata": {},
   "source": []
  },
  {
   "cell_type": "code",
   "execution_count": null,
   "metadata": {},
   "outputs": [],
   "source": []
  },
  {
   "cell_type": "code",
   "execution_count": null,
   "metadata": {},
   "outputs": [],
   "source": []
  },
  {
   "cell_type": "code",
   "execution_count": null,
   "metadata": {},
   "outputs": [],
   "source": []
  },
  {
   "cell_type": "code",
   "execution_count": null,
   "metadata": {},
   "outputs": [],
   "source": []
  },
  {
   "cell_type": "code",
   "execution_count": null,
   "metadata": {},
   "outputs": [],
   "source": []
  },
  {
   "cell_type": "code",
   "execution_count": null,
   "metadata": {},
   "outputs": [],
   "source": []
  },
  {
   "cell_type": "code",
   "execution_count": null,
   "metadata": {},
   "outputs": [],
   "source": [
    "\n",
    "\n"
   ]
  },
  {
   "cell_type": "code",
   "execution_count": null,
   "metadata": {},
   "outputs": [],
   "source": []
  },
  {
   "cell_type": "code",
   "execution_count": null,
   "metadata": {},
   "outputs": [],
   "source": []
  },
  {
   "cell_type": "code",
   "execution_count": null,
   "metadata": {},
   "outputs": [],
   "source": []
  }
 ],
 "metadata": {
  "kernelspec": {
   "display_name": "Python 3",
   "language": "python",
   "name": "python3"
  },
  "language_info": {
   "codemirror_mode": {
    "name": "ipython",
    "version": 3
   },
   "file_extension": ".py",
   "mimetype": "text/x-python",
   "name": "python",
   "nbconvert_exporter": "python",
   "pygments_lexer": "ipython3",
   "version": "3.6.5"
  }
 },
 "nbformat": 4,
 "nbformat_minor": 2
}
