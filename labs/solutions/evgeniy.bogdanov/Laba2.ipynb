{
 "cells": [
  {
   "cell_type": "code",
   "execution_count": 3,
   "metadata": {},
   "outputs": [
    {
     "name": "stdout",
     "output_type": "stream",
     "text": [
      "Welcome to\n",
      "      ____              __\n",
      "     / __/__  ___ _____/ /__\n",
      "    _\\ \\/ _ \\/ _ `/ __/  '_/\n",
      "   /__ / .__/\\_,_/_/ /_/\\_\\   version 2.4.7\n",
      "      /_/\n",
      "\n",
      "Using Python version 3.6.5 (default, Apr 29 2018 16:14:56)\n",
      "SparkSession available as 'spark'.\n"
     ]
    }
   ],
   "source": [
    "import os\n",
    "import sys\n",
    "os.environ[\"PYSPARK_PYTHON\"]='/opt/anaconda/envs/bd9/bin/python'\n",
    "os.environ[\"SPARK_HOME\"]='/usr/hdp/current/spark2-client'\n",
    "os.environ[\"PYSPARK_SUBMIT_ARGS\"]='--num-executors 2 pyspark-shell'\n",
    "\n",
    "spark_home = os.environ.get('SPARK_HOME', None)\n",
    "if not spark_home:\n",
    "    raise ValueError('SPARK_HOME environment variable is not set')\n",
    "\n",
    "sys.path.insert(0, os.path.join(spark_home, 'python'))\n",
    "sys.path.insert(0, os.path.join(spark_home, 'python/lib/py4j-0.10.7-src.zip'))\n",
    "exec(open(os.path.join(spark_home, 'python/pyspark/shell.py')).read())"
   ]
  },
  {
   "cell_type": "code",
   "execution_count": 4,
   "metadata": {},
   "outputs": [],
   "source": [
    "from pyspark import SparkConf\n",
    "from pyspark.sql import SparkSession\n",
    "from pyspark.sql import functions as F\n",
    "from pyspark.sql.types import *\n",
    "from pyspark import Row\n",
    "import json\n",
    "\n",
    "conf = SparkConf()\n",
    "\n",
    "spark = (SparkSession\n",
    "         .builder\n",
    "         .config(conf=conf)\n",
    "         .appName(\"bea\")\n",
    "         .getOrCreate())"
   ]
  },
  {
   "cell_type": "code",
   "execution_count": 3,
   "metadata": {},
   "outputs": [
    {
     "data": {
      "text/html": [
       "\n",
       "            <div>\n",
       "                <p><b>SparkSession - hive</b></p>\n",
       "                \n",
       "        <div>\n",
       "            <p><b>SparkContext</b></p>\n",
       "\n",
       "            <p><a href=\"http://spark-master-4.newprolab.com:4052\">Spark UI</a></p>\n",
       "\n",
       "            <dl>\n",
       "              <dt>Version</dt>\n",
       "                <dd><code>v2.4.7</code></dd>\n",
       "              <dt>Master</dt>\n",
       "                <dd><code>yarn</code></dd>\n",
       "              <dt>AppName</dt>\n",
       "                <dd><code>pyspark-shell</code></dd>\n",
       "            </dl>\n",
       "        </div>\n",
       "        \n",
       "            </div>\n",
       "        "
      ],
      "text/plain": [
       "<pyspark.sql.session.SparkSession at 0x7fdcf38a35f8>"
      ]
     },
     "execution_count": 3,
     "metadata": {},
     "output_type": "execute_result"
    }
   ],
   "source": [
    "spark"
   ]
  },
  {
   "cell_type": "code",
   "execution_count": 3,
   "metadata": {},
   "outputs": [],
   "source": []
  },
  {
   "cell_type": "raw",
   "metadata": {},
   "source": []
  },
  {
   "cell_type": "code",
   "execution_count": null,
   "metadata": {},
   "outputs": [],
   "source": []
  },
  {
   "cell_type": "code",
   "execution_count": 5,
   "metadata": {},
   "outputs": [],
   "source": [
    "df = spark.read\\\n",
    "          .format(\"json\")\\\n",
    "          .load(\"/labs/slaba02/DO_record_per_line.json\")"
   ]
  },
  {
   "cell_type": "code",
   "execution_count": 6,
   "metadata": {},
   "outputs": [
    {
     "name": "stdout",
     "output_type": "stream",
     "text": [
      "+--------------------+--------------------+---+----+--------------------+--------------+\n",
      "|                 cat|                desc| id|lang|                name|      provider|\n",
      "+--------------------+--------------------+---+----+--------------------+--------------+\n",
      "|3/business_manage...|This course intro...|  4|  en|Accounting Cycle:...|Canvas Network|\n",
      "|              11/law|This online cours...|  5|  en|American Counter ...|Canvas Network|\n",
      "+--------------------+--------------------+---+----+--------------------+--------------+\n",
      "only showing top 2 rows\n",
      "\n"
     ]
    }
   ],
   "source": [
    "df.show(2)"
   ]
  },
  {
   "cell_type": "code",
   "execution_count": 33,
   "metadata": {},
   "outputs": [],
   "source": [
    "my_en = [23126, 16627, 21617]\n",
    "my_es = [16627, 11556]\n",
    "my_ru = [16704, 13702]\n",
    "my = my_en + my_es + my_ru"
   ]
  },
  {
   "cell_type": "code",
   "execution_count": 34,
   "metadata": {},
   "outputs": [
    {
     "data": {
      "text/plain": [
       "[23126, 16627, 21617, 16627, 11556, 16704, 13702]"
      ]
     },
     "execution_count": 34,
     "metadata": {},
     "output_type": "execute_result"
    }
   ],
   "source": [
    "my"
   ]
  },
  {
   "cell_type": "code",
   "execution_count": 7,
   "metadata": {},
   "outputs": [],
   "source": []
  },
  {
   "cell_type": "code",
   "execution_count": 35,
   "metadata": {},
   "outputs": [
    {
     "name": "stdout",
     "output_type": "stream",
     "text": [
      "+---+----+--------------------+--------------------+\n",
      "| id|lang|                desc|      split(desc,  )|\n",
      "+---+----+--------------------+--------------------+\n",
      "|  4|  en|This course intro...|[This, course, in...|\n",
      "|  5|  en|This online cours...|[This, online, co...|\n",
      "+---+----+--------------------+--------------------+\n",
      "only showing top 2 rows\n",
      "\n"
     ]
    }
   ],
   "source": []
  },
  {
   "cell_type": "code",
   "execution_count": 135,
   "metadata": {},
   "outputs": [],
   "source": [
    "from pyspark.ml.feature import Tokenizer, RegexTokenizer, StopWordsRemover\n",
    "from pyspark.sql.functions import col, udf\n",
    "import pyspark.sql.functions as f\n",
    "from pyspark.ml.feature import HashingTF, IDF\n",
    "from pyspark.sql.window import Window\n"
   ]
  },
  {
   "cell_type": "code",
   "execution_count": 8,
   "metadata": {},
   "outputs": [],
   "source": [
    "regex = RegexTokenizer (inputCol = 'desc', outputCol = 'words', pattern=r\"[,\\s]\")"
   ]
  },
  {
   "cell_type": "code",
   "execution_count": 9,
   "metadata": {},
   "outputs": [],
   "source": [
    "tokenized = regex.transform(df)"
   ]
  },
  {
   "cell_type": "code",
   "execution_count": 10,
   "metadata": {},
   "outputs": [
    {
     "name": "stdout",
     "output_type": "stream",
     "text": [
      "+---+----+--------------------+--------------------+\n",
      "| id|lang|                desc|               words|\n",
      "+---+----+--------------------+--------------------+\n",
      "|  4|  en|This course intro...|[this, course, in...|\n",
      "|  5|  en|This online cours...|[this, online, co...|\n",
      "|  6|  fr|This course is ta...|[this, course, is...|\n",
      "|  7|  en|We live in a digi...|[we, live, in, a,...|\n",
      "|  8|  en|This self-paced c...|[this, self-paced...|\n",
      "+---+----+--------------------+--------------------+\n",
      "only showing top 5 rows\n",
      "\n"
     ]
    }
   ],
   "source": [
    "tokenized.select (\"id\", \"lang\", \"desc\", \"words\").show (5)"
   ]
  },
  {
   "cell_type": "code",
   "execution_count": 140,
   "metadata": {},
   "outputs": [],
   "source": [
    "stop_word = StopWordsRemover.loadDefaultStopWords (\"english\") +  StopWordsRemover.loadDefaultStopWords (\"russian\") + StopWordsRemover.loadDefaultStopWords (\"spanish\")"
   ]
  },
  {
   "cell_type": "code",
   "execution_count": 143,
   "metadata": {},
   "outputs": [],
   "source": [
    "st = StopWordsRemover(inputCol=\"words\", outputCol=\"words1\")\n",
    "st1 = st.transform(tokenized)"
   ]
  },
  {
   "cell_type": "code",
   "execution_count": 146,
   "metadata": {},
   "outputs": [],
   "source": [
    "tokenized = st1"
   ]
  },
  {
   "cell_type": "code",
   "execution_count": 147,
   "metadata": {},
   "outputs": [],
   "source": [
    "ht = HashingTF(inputCol=\"words1\", outputCol=\"features\", numFeatures=10000)"
   ]
  },
  {
   "cell_type": "code",
   "execution_count": 148,
   "metadata": {},
   "outputs": [],
   "source": [
    "result = ht.transform(tokenized)"
   ]
  },
  {
   "cell_type": "code",
   "execution_count": 149,
   "metadata": {},
   "outputs": [],
   "source": [
    "idf = IDF(inputCol=\"features\", outputCol=\"features2\").fit(result)"
   ]
  },
  {
   "cell_type": "code",
   "execution_count": 150,
   "metadata": {},
   "outputs": [],
   "source": [
    "result_tfidf = idf.transform(result)"
   ]
  },
  {
   "cell_type": "code",
   "execution_count": 79,
   "metadata": {},
   "outputs": [
    {
     "name": "stdout",
     "output_type": "stream",
     "text": [
      "+---+----+--------------------+--------------------+--------------------+\n",
      "| id|lang|                desc|               words|           features2|\n",
      "+---+----+--------------------+--------------------+--------------------+\n",
      "|  4|  en|This course intro...|[this, course, in...|(10000,[36,63,138...|\n",
      "|  5|  en|This online cours...|[this, online, co...|(10000,[32,222,36...|\n",
      "+---+----+--------------------+--------------------+--------------------+\n",
      "only showing top 2 rows\n",
      "\n"
     ]
    }
   ],
   "source": [
    "result_tfidf.select(\"id\", \"lang\", \"desc\", \"words\", \"features2\").show(2)"
   ]
  },
  {
   "cell_type": "code",
   "execution_count": 151,
   "metadata": {},
   "outputs": [],
   "source": [
    "result_my = result_tfidf.where(\"id in (23126, 16627, 21617, 16627, 11556, 16704, 13702)\").\\\n",
    "select(col(\"id\").alias(\"id_my\"), col(\"features2\").alias(\"features_my\"), col(\"lang\"))"
   ]
  },
  {
   "cell_type": "code",
   "execution_count": 152,
   "metadata": {},
   "outputs": [],
   "source": [
    "result1 = result_tfidf.join(result_my, [\"lang\"], \"inner\").where (\"id <> id_my\")"
   ]
  },
  {
   "cell_type": "code",
   "execution_count": 153,
   "metadata": {},
   "outputs": [],
   "source": [
    "result2 = result1.select(\"lang\", \"id\", \"id_my\", \"features2\", \"features_my\", cos_udf (\"features2\", \"features_my\").\\\n",
    "                         alias(\"cos\")).where(\"cos <> 'NaN'\").orderBy (\"lang\",\"id_my\", col(\"cos\").desc())"
   ]
  },
  {
   "cell_type": "raw",
   "metadata": {},
   "source": []
  },
  {
   "cell_type": "code",
   "execution_count": 83,
   "metadata": {},
   "outputs": [],
   "source": [
    "@f.udf (FloatType ())\n",
    "def cos_udf (v1, v2):\n",
    "    return float (v1.dot(v2) / (v1.norm(2) * v2.norm(2)))"
   ]
  },
  {
   "cell_type": "code",
   "execution_count": 84,
   "metadata": {},
   "outputs": [
    {
     "name": "stdout",
     "output_type": "stream",
     "text": [
      "+----+-----+-----+--------------------+--------------------+----------+\n",
      "|lang|   id|id_my|           features2|         features_my|       cos|\n",
      "+----+-----+-----+--------------------+--------------------+----------+\n",
      "|  en|21609|21617|(10000,[161,213,3...|(10000,[161,213,3...| 0.9907613|\n",
      "|  en|21608|21617|(10000,[161,173,2...|(10000,[161,213,3...|0.45537543|\n",
      "|  en|21616|21617|(10000,[161,173,2...|(10000,[161,213,3...|0.45081937|\n",
      "|  en|21492|21617|(10000,[128,161,4...|(10000,[161,213,3...|0.40419912|\n",
      "|  en|21624|21617|(10000,[9,20,32,1...|(10000,[161,213,3...|0.34354025|\n",
      "|  en|21623|21617|(10000,[9,20,32,1...|(10000,[161,213,3...| 0.3395119|\n",
      "|  en|21630|21617|(10000,[9,20,32,1...|(10000,[161,213,3...|0.33804896|\n",
      "|  en|21628|21617|(10000,[9,20,32,1...|(10000,[161,213,3...|0.33794484|\n",
      "|  en|21857|21617|(10000,[157,161,3...|(10000,[161,213,3...|0.33376485|\n",
      "|  en|21506|21617|(10000,[156,157,1...|(10000,[161,213,3...|0.32997456|\n",
      "|  en|21675|21617|(10000,[157,161,3...|(10000,[161,213,3...|0.32914916|\n",
      "|  en|21508|21617|(10000,[16,157,16...|(10000,[161,213,3...| 0.3275522|\n",
      "|  en|21854|21617|(10000,[16,157,16...|(10000,[161,213,3...|0.32277444|\n",
      "|  en|21676|21617|(10000,[16,65,105...|(10000,[161,213,3...|0.32197946|\n",
      "|  en|19784|21617|(10000,[1,157,161...|(10000,[161,213,3...|0.31664205|\n",
      "|  en|21840|21617|(10000,[128,157,1...|(10000,[161,213,3...|0.31408185|\n",
      "|  en|21703|21617|(10000,[157,161,2...|(10000,[161,213,3...|0.31377456|\n",
      "|  en|21666|21617|(10000,[157,161,1...|(10000,[161,213,3...|0.31072575|\n",
      "|  en|21523|21617|(10000,[157,161,3...|(10000,[161,213,3...|0.30844757|\n",
      "|  en|21679|21617|(10000,[157,161,3...|(10000,[161,213,3...| 0.3022017|\n",
      "+----+-----+-----+--------------------+--------------------+----------+\n",
      "only showing top 20 rows\n",
      "\n"
     ]
    }
   ],
   "source": [
    "result2.show (20)"
   ]
  },
  {
   "cell_type": "code",
   "execution_count": 154,
   "metadata": {},
   "outputs": [],
   "source": [
    "windowSpec = Window.partitionBy(\"id_my\").orderBy(col(\"cos\").desc())\n",
    "final = result2.select (\"lang\", \"id\", \"id_my\", \"features2\", \"features_my\", \"cos\", f.row_number().\\\n",
    "                over(windowSpec).alias(\"row_num\")).where(\"row_num <= 10\").cache()"
   ]
  },
  {
   "cell_type": "code",
   "execution_count": 111,
   "metadata": {},
   "outputs": [
    {
     "name": "stdout",
     "output_type": "stream",
     "text": [
      "+----+-----+-----+--------------------+--------------------+----------+-------+\n",
      "|lang|   id|id_my|           features2|         features_my|       cos|row_num|\n",
      "+----+-----+-----+--------------------+--------------------+----------+-------+\n",
      "|  en|13665|23126|(10000,[51,93,128...|(10000,[87,91,96,...|0.47085336|      1|\n",
      "|  en|13782|23126|(10000,[1263,1470...|(10000,[87,91,96,...| 0.4523038|      2|\n",
      "|  en|24419|23126|(10000,[1,50,77,8...|(10000,[87,91,96,...| 0.4126953|      3|\n",
      "|  en|20638|23126|(10000,[34,3775,4...|(10000,[87,91,96,...|0.40465704|      4|\n",
      "|  en| 2724|23126|(10000,[26,173,36...|(10000,[87,91,96,...|0.36599666|      5|\n",
      "|  en|25782|23126|(10000,[15,24,91,...|(10000,[87,91,96,...| 0.3037805|      6|\n",
      "|  en|15909|23126|(10000,[476,982,1...|(10000,[87,91,96,...|0.26506677|      7|\n",
      "|  en|23756|23126|(10000,[12,40,45,...|(10000,[87,91,96,...|0.26087302|      8|\n",
      "|  en|13348|23126|(10000,[32,242,46...|(10000,[87,91,96,...| 0.2598476|      9|\n",
      "|  en|17499|23126|(10000,[32,242,61...|(10000,[87,91,96,...|0.25355303|     10|\n",
      "|  es|11431|16627|(10000,[41,48,70,...|(10000,[145,191,1...|0.66689974|      1|\n",
      "|  es|12247|16627|(10000,[19,20,21,...|(10000,[145,191,1...| 0.5154845|      2|\n",
      "|  es|11575|16627|(10000,[21,58,59,...|(10000,[145,191,1...|0.51009643|      3|\n",
      "|  es|13021|16627|(10000,[10,134,14...|(10000,[145,191,1...|0.50228906|      4|\n",
      "|  es| 5687|16627|(10000,[20,146,15...|(10000,[145,191,1...|0.50171924|      5|\n",
      "|  es|25010|16627|(10000,[7,21,52,7...|(10000,[145,191,1...| 0.4957077|      6|\n",
      "|  es| 9598|16627|(10000,[4,20,90,1...|(10000,[145,191,1...|0.47680187|      7|\n",
      "|  es|12660|16627|(10000,[8,70,120,...|(10000,[145,191,1...|0.47255722|      8|\n",
      "|  es|17964|16627|(10000,[106,107,1...|(10000,[145,191,1...|0.47175783|      9|\n",
      "|  es|12863|16627|(10000,[6,8,20,35...|(10000,[145,191,1...|0.47051662|     10|\n",
      "+----+-----+-----+--------------------+--------------------+----------+-------+\n",
      "only showing top 20 rows\n",
      "\n"
     ]
    }
   ],
   "source": [
    "final.show()"
   ]
  },
  {
   "cell_type": "code",
   "execution_count": 155,
   "metadata": {},
   "outputs": [],
   "source": [
    "final1 = final.groupBy(\"id_my\").agg(f.collect_list(\"id\")).collect()"
   ]
  },
  {
   "cell_type": "code",
   "execution_count": 156,
   "metadata": {},
   "outputs": [],
   "source": [
    "final_export = {str(x[0]): x[1] for x in final1}\n",
    "\n",
    "\n"
   ]
  },
  {
   "cell_type": "code",
   "execution_count": 130,
   "metadata": {},
   "outputs": [
    {
     "data": {
      "text/plain": [
       "{'23126': [13665,\n",
       "  13782,\n",
       "  24419,\n",
       "  20638,\n",
       "  2724,\n",
       "  25782,\n",
       "  15909,\n",
       "  23756,\n",
       "  13348,\n",
       "  17499],\n",
       " '16627': [11431, 12247, 11575, 13021, 5687, 25010, 9598, 12660, 17964, 12863],\n",
       " '13702': [864, 8082, 8313, 1216, 19613, 1052, 7173, 17017, 21017, 915],\n",
       " '16704': [1365, 1236, 1426, 20105, 20645, 1164, 8217, 1119, 1247, 1219],\n",
       " '11556': [16488, 13461, 468, 23357, 9289, 7833, 10447, 22710, 19330, 10384],\n",
       " '21617': [21609,\n",
       "  21608,\n",
       "  21616,\n",
       "  21492,\n",
       "  21624,\n",
       "  21623,\n",
       "  21630,\n",
       "  21628,\n",
       "  21857,\n",
       "  21506]}"
      ]
     },
     "execution_count": 130,
     "metadata": {},
     "output_type": "execute_result"
    }
   ],
   "source": [
    "final_export"
   ]
  },
  {
   "cell_type": "code",
   "execution_count": 157,
   "metadata": {},
   "outputs": [
    {
     "name": "stdout",
     "output_type": "stream",
     "text": [
      "New json file is created\n"
     ]
    }
   ],
   "source": [
    "import json\n",
    "\n",
    "\n",
    "with open('lab02.json', 'w') as f:\n",
    "    json.dump(final_export, f, indent=2)\n",
    "    print(\"New json file is created\")"
   ]
  },
  {
   "cell_type": "code",
   "execution_count": 68,
   "metadata": {},
   "outputs": [],
   "source": [
    "sc.stop()"
   ]
  }
 ],
 "metadata": {
  "kernelspec": {
   "display_name": "Python 3",
   "language": "python",
   "name": "python3"
  },
  "language_info": {
   "codemirror_mode": {
    "name": "ipython",
    "version": 3
   },
   "file_extension": ".py",
   "mimetype": "text/x-python",
   "name": "python",
   "nbconvert_exporter": "python",
   "pygments_lexer": "ipython3",
   "version": "3.6.5"
  }
 },
 "nbformat": 4,
 "nbformat_minor": 2
}
