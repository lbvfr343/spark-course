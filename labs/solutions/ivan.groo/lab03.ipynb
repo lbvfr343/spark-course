{
 "cells": [
  {
   "cell_type": "code",
   "execution_count": 162,
   "metadata": {},
   "outputs": [],
   "source": [
    "import os\n",
    "import sys\n",
    "import json"
   ]
  },
  {
   "cell_type": "code",
   "execution_count": 163,
   "metadata": {},
   "outputs": [],
   "source": [
    "import os\n",
    "import sys\n",
    "os.environ[\"PYSPARK_PYTHON\"]='/opt/anaconda/envs/bd9/bin/python'\n",
    "os.environ[\"SPARK_HOME\"]='/usr/hdp/current/spark2-client'\n",
    "os.environ[\"PYSPARK_SUBMIT_ARGS\"]='--num-executors 5 --executor-memory 4g --executor-cores 1 --driver-memory 2g pyspark-shell'\n",
    "\n",
    "spark_home = os.environ.get('SPARK_HOME', None)\n",
    "\n",
    "sys.path.insert(0, os.path.join(spark_home, 'python'))\n",
    "sys.path.insert(0, os.path.join(spark_home, 'python/lib/py4j-0.10.7-src.zip'))"
   ]
  },
  {
   "cell_type": "code",
   "execution_count": 164,
   "metadata": {},
   "outputs": [],
   "source": [
    "from pyspark import SparkConf\n",
    "from pyspark.sql import SparkSession\n",
    "\n",
    "conf = SparkConf()\n",
    "conf.set(\"spark.app.name\", \"Groo-IA\") \n",
    "\n",
    "spark = SparkSession.builder.config(conf=conf).getOrCreate()"
   ]
  },
  {
   "cell_type": "code",
   "execution_count": 165,
   "metadata": {},
   "outputs": [],
   "source": [
    "from pyspark.sql import SparkSession\n",
    "from pyspark.sql.types import StructType, StructField, StringType, IntegerType\n",
    "from pyspark.sql.types import ArrayType, DoubleType, BooleanType, FloatType\n",
    "from pyspark.sql.functions import col, array_contains"
   ]
  },
  {
   "cell_type": "code",
   "execution_count": null,
   "metadata": {},
   "outputs": [],
   "source": []
  },
  {
   "cell_type": "code",
   "execution_count": 166,
   "metadata": {},
   "outputs": [],
   "source": [
    "schema = StructType() \\\n",
    "    .add(\"user_id\", IntegerType(), True) \\\n",
    "    .add(\"item_id\", IntegerType(), True) \\\n",
    "    .add(\"purchase\", IntegerType(), True) \\\n",
    "\n",
    "df_user = spark.read.format(\"csv\") \\\n",
    "    .option(\"header\", True) \\\n",
    "    .schema(schema) \\\n",
    "    .load(\"/labs/slaba03/laba03_train.csv\")\n"
   ]
  },
  {
   "cell_type": "code",
   "execution_count": 167,
   "metadata": {},
   "outputs": [
    {
     "name": "stdout",
     "output_type": "stream",
     "text": [
      "+-------+-------+--------+\n",
      "|user_id|item_id|purchase|\n",
      "+-------+-------+--------+\n",
      "|   1654|   9897|       1|\n",
      "|   1654|   7394|       1|\n",
      "|   1654|   9064|       1|\n",
      "|   1654|  73216|       1|\n",
      "|   1654|  88816|       1|\n",
      "+-------+-------+--------+\n",
      "only showing top 5 rows\n",
      "\n"
     ]
    }
   ],
   "source": [
    "df_user.filter(\"purchase == 1\").show(5)"
   ]
  },
  {
   "cell_type": "code",
   "execution_count": 11,
   "metadata": {},
   "outputs": [],
   "source": [
    "schema_test = StructType() \\\n",
    "    .add(\"user_id\", IntegerType(), True) \\\n",
    "    .add(\"item_id\", IntegerType(), True) \\\n",
    "\n",
    "\n",
    "df_user_test = spark.read.format(\"csv\") \\\n",
    "    .option(\"header\", True) \\\n",
    "    .schema(schema_test) \\\n",
    "    .load(\"/labs/slaba03/laba03_test.csv\")\n"
   ]
  },
  {
   "cell_type": "code",
   "execution_count": 13,
   "metadata": {},
   "outputs": [
    {
     "name": "stdout",
     "output_type": "stream",
     "text": [
      "+-------+-------+\n",
      "|user_id|item_id|\n",
      "+-------+-------+\n",
      "|   1654|  94814|\n",
      "|   1654|  93629|\n",
      "|   1654|   9980|\n",
      "|   1654|  95099|\n",
      "|   1654|  11265|\n",
      "+-------+-------+\n",
      "only showing top 5 rows\n",
      "\n"
     ]
    }
   ],
   "source": [
    "df_user_test.show(5)"
   ]
  },
  {
   "cell_type": "code",
   "execution_count": 17,
   "metadata": {},
   "outputs": [],
   "source": [
    "items_schema = StructType(fields = [StructField('item_id', IntegerType()),\n",
    "StructField('channel_id', IntegerType()),\n",
    "StructField('datetime_availability_start', StringType()),                                    \n",
    "StructField('datetime_availability_stop', StringType()), \n",
    "StructField('datetime_show_start', StringType()),\n",
    "StructField('datetime_show_stop', StringType()), \n",
    "StructField('content_type', IntegerType()),                                   \n",
    "StructField('title', StringType(), nullable=True),  \n",
    "StructField('year', FloatType(), nullable=True), \n",
    "StructField('genres', StringType()), \n",
    "StructField('region_id', IntegerType()),                    \n",
    "]) \n",
    "\n",
    "\n",
    "\n",
    "df_items = spark.read.format(\"csv\") \\\n",
    "    .option(\"header\", True) \\\n",
    "    .option(\"sep\", \"\\t\") \\\n",
    "    .schema(items_schema) \\\n",
    "    .load(\"/labs/slaba03/laba03_items.csv\")\n"
   ]
  },
  {
   "cell_type": "code",
   "execution_count": 19,
   "metadata": {},
   "outputs": [
    {
     "name": "stdout",
     "output_type": "stream",
     "text": [
      "+-------+----------+---------------------------+--------------------------+-------------------+------------------+------------+--------------------------------------------------------+------+-------+---------+\n",
      "|item_id|channel_id|datetime_availability_start|datetime_availability_stop|datetime_show_start|datetime_show_stop|content_type|title                                                   |year  |genres |region_id|\n",
      "+-------+----------+---------------------------+--------------------------+-------------------+------------------+------------+--------------------------------------------------------+------+-------+---------+\n",
      "|65667  |null      |1970-01-01T00:00:00Z       |2018-01-01T00:00:00Z      |null               |null              |1           |на пробах только девушки (all girl auditions)           |2013.0|Эротика|null     |\n",
      "|65669  |null      |1970-01-01T00:00:00Z       |2018-01-01T00:00:00Z      |null               |null              |1           |скуби ду: эротическая пародия (scooby doo: a xxx parody)|2011.0|Эротика|null     |\n",
      "+-------+----------+---------------------------+--------------------------+-------------------+------------------+------------+--------------------------------------------------------+------+-------+---------+\n",
      "only showing top 2 rows\n",
      "\n"
     ]
    }
   ],
   "source": [
    "df_items.show(2,False,False)"
   ]
  },
  {
   "cell_type": "code",
   "execution_count": 23,
   "metadata": {},
   "outputs": [],
   "source": [
    "views_schema = StructType(fields = [StructField('user_id', IntegerType()),\n",
    "StructField('item_id', IntegerType()),\n",
    "StructField('ts_start', IntegerType()),\n",
    "StructField('ts_end', IntegerType()),\n",
    "StructField('item_type', StringType()),\n",
    "]) \n",
    "\n",
    "\n",
    "\n",
    "df_views_programmes = spark.read.format(\"csv\") \\\n",
    "    .option(\"header\", True) \\\n",
    "    .schema(views_schema) \\\n",
    "    .load(\"/labs/slaba03/laba03_views_programmes.csv\")\n"
   ]
  },
  {
   "cell_type": "code",
   "execution_count": 27,
   "metadata": {},
   "outputs": [
    {
     "data": {
      "text/plain": [
       "20845607"
      ]
     },
     "execution_count": 27,
     "metadata": {},
     "output_type": "execute_result"
    }
   ],
   "source": [
    "df_views_programmes.count()"
   ]
  },
  {
   "cell_type": "code",
   "execution_count": null,
   "metadata": {},
   "outputs": [],
   "source": [
    "df_items.select(\"\")"
   ]
  },
  {
   "cell_type": "code",
   "execution_count": 88,
   "metadata": {},
   "outputs": [],
   "source": [
    "df_user_u = df_user.groupBy(\"user_id\").mean(\"purchase\").coalesce(10).cache()"
   ]
  },
  {
   "cell_type": "code",
   "execution_count": 92,
   "metadata": {},
   "outputs": [],
   "source": [
    "df_user_i = df_user.groupBy(\"item_id\").mean(\"purchase\").coalesce(10)"
   ]
  },
  {
   "cell_type": "code",
   "execution_count": 90,
   "metadata": {},
   "outputs": [],
   "source": [
    "test = df_user_test.join(df_user_u, on = \"user_id\", how = \"outer\").coalesce(10).withColumnRenamed(\"avg(purchase)\", \"avg_u\").cache()"
   ]
  },
  {
   "cell_type": "code",
   "execution_count": 93,
   "metadata": {},
   "outputs": [],
   "source": [
    "test = test.join(df_user_i, on = \"item_id\", how = \"outer\").coalesce(10).withColumnRenamed(\"avg(purchase)\", \"avg_i\").cache()"
   ]
  },
  {
   "cell_type": "code",
   "execution_count": 95,
   "metadata": {},
   "outputs": [
    {
     "name": "stdout",
     "output_type": "stream",
     "text": [
      "+-------+-------+--------------------+--------------------+\n",
      "|item_id|user_id|               avg_u|               avg_i|\n",
      "+-------+-------+--------------------+--------------------+\n",
      "|   8389| 761341|3.875968992248062E-4|0.005979073243647235|\n",
      "|   8389| 776188|0.001152516327314637|0.005979073243647235|\n",
      "|   8389| 846231|0.001923816852635629|0.005979073243647235|\n",
      "|   8389| 822709|3.789314134141720...|0.005979073243647235|\n",
      "|   8389| 824008|3.821169277799006...|0.005979073243647235|\n",
      "+-------+-------+--------------------+--------------------+\n",
      "only showing top 5 rows\n",
      "\n"
     ]
    }
   ],
   "source": [
    "test.show(5)"
   ]
  },
  {
   "cell_type": "code",
   "execution_count": 45,
   "metadata": {},
   "outputs": [],
   "source": [
    "from pyspark.sql.window import Window\n",
    "from pyspark.sql import functions as f"
   ]
  },
  {
   "cell_type": "code",
   "execution_count": 49,
   "metadata": {},
   "outputs": [],
   "source": [
    "w = Window.partitionBy('user_id')\n",
    "ww = Window.partitionBy('item_id')"
   ]
  },
  {
   "cell_type": "code",
   "execution_count": 60,
   "metadata": {},
   "outputs": [],
   "source": [
    "df_user_mean = df_user.withColumn(\"avg_u\", f.avg(\"purchase\").over(w)).withColumn(\"avg_i\", f.avg(\"purchase\").over(ww)).coalesce(10).cache()"
   ]
  },
  {
   "cell_type": "code",
   "execution_count": null,
   "metadata": {},
   "outputs": [],
   "source": [
    "df_user_test"
   ]
  },
  {
   "cell_type": "code",
   "execution_count": 61,
   "metadata": {},
   "outputs": [
    {
     "name": "stdout",
     "output_type": "stream",
     "text": [
      "+-------+-------+--------+--------------------+--------------------+\n",
      "|user_id|item_id|purchase|               avg_u|               avg_i|\n",
      "+-------+-------+--------+--------------------+--------------------+\n",
      "| 754230|   8389|       0|0.027575641516660282|0.005979073243647235|\n",
      "| 780033|   8389|       0|7.757951900698216E-4|0.005979073243647235|\n",
      "| 798454|   8389|       0|3.840245775729646...|0.005979073243647235|\n",
      "| 825061|   8389|       0|0.001931247585940...|0.005979073243647235|\n",
      "| 833685|   8389|       0|0.007500986971969996|0.005979073243647235|\n",
      "| 851486|   8389|       0|                 0.0|0.005979073243647235|\n",
      "| 867850|   8389|       0|3.829950210647261...|0.005979073243647235|\n",
      "| 870928|   8389|       0|7.674597083653108E-4|0.005979073243647235|\n",
      "| 879401|   8389|       0|0.004283489096573208|0.005979073243647235|\n",
      "| 901457|   8389|       0|                 0.0|0.005979073243647235|\n",
      "| 927211|   8389|       0|3.916960438699569E-4|0.005979073243647235|\n",
      "| 928140|   8389|       0|3.869969040247678E-4|0.005979073243647235|\n",
      "| 793876|   8389|       0|0.001940240589833...|0.005979073243647235|\n",
      "| 795620|   8389|       0|0.004243827160493827|0.005979073243647235|\n",
      "| 851848|   8389|       0|3.888024883359253...|0.005979073243647235|\n",
      "| 880451|   8389|       0|0.009220130618517095|0.005979073243647235|\n",
      "| 900203|   8389|       0|0.003436426116838488|0.005979073243647235|\n",
      "| 746713|   8389|       0|                 0.0|0.005979073243647235|\n",
      "| 883098|   8389|       0|0.001948558067030...|0.005979073243647235|\n",
      "| 903491|   8389|       0|0.001161440185830...|0.005979073243647235|\n",
      "+-------+-------+--------+--------------------+--------------------+\n",
      "only showing top 20 rows\n",
      "\n"
     ]
    }
   ],
   "source": [
    "df_user_mean.show()"
   ]
  },
  {
   "cell_type": "code",
   "execution_count": null,
   "metadata": {},
   "outputs": [],
   "source": [
    "log_with_regions.rdd.getNumPartitions()"
   ]
  },
  {
   "cell_type": "code",
   "execution_count": null,
   "metadata": {},
   "outputs": [],
   "source": []
  },
  {
   "cell_type": "code",
   "execution_count": 81,
   "metadata": {},
   "outputs": [],
   "source": [
    "from pyspark.ml.classification import GBTClassifier\n",
    "gbt = GBTClassifier(featuresCol=\"features\", labelCol=\"purchase\")"
   ]
  },
  {
   "cell_type": "code",
   "execution_count": 56,
   "metadata": {},
   "outputs": [],
   "source": [
    "from pyspark.ml import Pipeline"
   ]
  },
  {
   "cell_type": "code",
   "execution_count": 59,
   "metadata": {},
   "outputs": [],
   "source": [
    "from pyspark.ml.feature import VectorAssembler"
   ]
  },
  {
   "cell_type": "code",
   "execution_count": 69,
   "metadata": {},
   "outputs": [],
   "source": [
    "assembler = VectorAssembler(inputCols=[\"avg_u\", \"avg_i\"], outputCol=\"features\")"
   ]
  },
  {
   "cell_type": "code",
   "execution_count": 82,
   "metadata": {},
   "outputs": [],
   "source": [
    "pipeline = Pipeline(stages=[\n",
    "    assembler,\n",
    "    gbt\n",
    "])"
   ]
  },
  {
   "cell_type": "code",
   "execution_count": 83,
   "metadata": {},
   "outputs": [],
   "source": [
    "pipeline_model = pipeline.fit(df_user_mean)"
   ]
  },
  {
   "cell_type": "code",
   "execution_count": null,
   "metadata": {},
   "outputs": [],
   "source": []
  },
  {
   "cell_type": "code",
   "execution_count": 96,
   "metadata": {},
   "outputs": [],
   "source": [
    "predictions = pipeline_model.transform(test)"
   ]
  },
  {
   "cell_type": "code",
   "execution_count": 97,
   "metadata": {},
   "outputs": [
    {
     "name": "stdout",
     "output_type": "stream",
     "text": [
      "+-------+-------+--------------------+--------------------+--------------------+--------------------+--------------------+----------+\n",
      "|item_id|user_id|               avg_u|               avg_i|            features|       rawPrediction|         probability|prediction|\n",
      "+-------+-------+--------------------+--------------------+--------------------+--------------------+--------------------+----------+\n",
      "|   8389| 761341|3.875968992248062E-4|0.005979073243647235|[3.87596899224806...|[1.53725804902778...|[0.95582923374786...|       0.0|\n",
      "|   8389| 776188|0.001152516327314637|0.005979073243647235|[0.00115251632731...|[1.51978974130108...|[0.95433050497383...|       0.0|\n",
      "|   8389| 846231|0.001923816852635629|0.005979073243647235|[0.00192381685263...|[1.50967598955631...|[0.95344076733642...|       0.0|\n",
      "|   8389| 822709|3.789314134141720...|0.005979073243647235|[3.78931413414172...|[1.53725804902778...|[0.95582923374786...|       0.0|\n",
      "|   8389| 824008|3.821169277799006...|0.005979073243647235|[3.82116927779900...|[1.53725804902778...|[0.95582923374786...|       0.0|\n",
      "|   8389| 890476|                 0.0|0.005979073243647235|[0.0,0.0059790732...|[1.53725804902778...|[0.95582923374786...|       0.0|\n",
      "|   8389| 899993|3.889537145079735...|0.005979073243647235|[3.88953714507973...|[1.53725804902778...|[0.95582923374786...|       0.0|\n",
      "|   8389| 937345|3.850596842510589E-4|0.005979073243647235|[3.85059684251058...|[1.53725804902778...|[0.95582923374786...|       0.0|\n",
      "|   8389| 566758|3.766478342749529E-4|0.005979073243647235|[3.76647834274952...|[1.53725804902778...|[0.95582923374786...|       0.0|\n",
      "|   8389| 816426|                 0.0|0.005979073243647235|[0.0,0.0059790732...|[1.53725804902778...|[0.95582923374786...|       0.0|\n",
      "|   8389| 892290|7.719027402547279E-4|0.005979073243647235|[7.71902740254727...|[1.52204309210033...|[0.95452652243624...|       0.0|\n",
      "|   8389| 886063|0.002698535080956...|0.005979073243647235|[0.00269853508095...|[1.50295994634733...|[0.95284085241278...|       0.0|\n",
      "|   8389| 900335|0.004615384615384616|0.005979073243647235|[0.00461538461538...|[1.43169539414241...|[0.94600675626741...|       0.0|\n",
      "|   8389| 936359|7.613247049866769E-4|0.005979073243647235|[7.61324704986676...|[1.53148045129036...|[0.95533879899090...|       0.0|\n",
      "|   8389| 901323|3.846153846153846E-4|0.005979073243647235|[3.84615384615384...|[1.53725804902778...|[0.95582923374786...|       0.0|\n",
      "|   8389| 928231|7.584376185058779E-4|0.005979073243647235|[7.58437618505877...|[1.53148045129036...|[0.95533879899090...|       0.0|\n",
      "|   8389| 765780|0.001948558067030...|0.005979073243647235|[0.00194855806703...|[1.50724894892387...|[0.95322481263051...|       0.0|\n",
      "|   8389| 740836| 0.00277888050813815|0.005979073243647235|[0.00277888050813...|[1.47686281325265...|[0.95043927685743...|       0.0|\n",
      "|   8389| 866581|0.001591723040191...|0.005979073243647235|[0.00159172304019...|[1.50967598955631...|[0.95344076733642...|       0.0|\n",
      "|   8389| 901042|3.813882532418001...|0.005979073243647235|[3.81388253241800...|[1.53725804902778...|[0.95582923374786...|       0.0|\n",
      "+-------+-------+--------------------+--------------------+--------------------+--------------------+--------------------+----------+\n",
      "only showing top 20 rows\n",
      "\n"
     ]
    }
   ],
   "source": [
    "predictions.show()"
   ]
  },
  {
   "cell_type": "code",
   "execution_count": 105,
   "metadata": {},
   "outputs": [],
   "source": [
    "from pyspark.sql.types import DoubleType\n",
    "from pyspark.sql.functions import lit, udf\n",
    "\n",
    "def ith_(v, i):\n",
    "    try:\n",
    "        return float(v[i])\n",
    "    except ValueError:\n",
    "        return None\n",
    "\n",
    "ith = udf(ith_, DoubleType())"
   ]
  },
  {
   "cell_type": "code",
   "execution_count": 117,
   "metadata": {},
   "outputs": [],
   "source": [
    "firstelement=udf(lambda v:float(v[1]),FloatType())"
   ]
  },
  {
   "cell_type": "code",
   "execution_count": 116,
   "metadata": {},
   "outputs": [
    {
     "name": "stdout",
     "output_type": "stream",
     "text": [
      "+-------+-------+--------------------+\n",
      "|item_id|user_id|         probability|\n",
      "+-------+-------+--------------------+\n",
      "|   8389| 761341|[0.95582923374786...|\n",
      "|   8389| 776188|[0.95433050497383...|\n",
      "|   8389| 846231|[0.95344076733642...|\n",
      "|   8389| 822709|[0.95582923374786...|\n",
      "|   8389| 824008|[0.95582923374786...|\n",
      "+-------+-------+--------------------+\n",
      "only showing top 5 rows\n",
      "\n"
     ]
    }
   ],
   "source": [
    " predictions.select(\"item_id\", \"user_id\", \"probability\").show(5)"
   ]
  },
  {
   "cell_type": "code",
   "execution_count": 153,
   "metadata": {},
   "outputs": [],
   "source": [
    "res = predictions.select(\"user_id\", \"item_id\", firstelement(\"probability\").alias(\"purchase\")).coalesce(1).cache()"
   ]
  },
  {
   "cell_type": "code",
   "execution_count": 154,
   "metadata": {},
   "outputs": [
    {
     "name": "stdout",
     "output_type": "stream",
     "text": [
      "+-------+-------+-----------+\n",
      "|user_id|item_id|   purchase|\n",
      "+-------+-------+-----------+\n",
      "| 761341|   8389|0.044170767|\n",
      "| 776188|   8389|0.045669496|\n",
      "| 846231|   8389|0.046559233|\n",
      "| 822709|   8389|0.044170767|\n",
      "| 824008|   8389|0.044170767|\n",
      "+-------+-------+-----------+\n",
      "only showing top 5 rows\n",
      "\n"
     ]
    }
   ],
   "source": [
    "res.show(5)"
   ]
  },
  {
   "cell_type": "code",
   "execution_count": 157,
   "metadata": {},
   "outputs": [
    {
     "name": "stdout",
     "output_type": "stream",
     "text": [
      "+-------+-------+-----------+\n",
      "|user_id|item_id|   purchase|\n",
      "+-------+-------+-----------+\n",
      "|   1654|    336| 0.04389559|\n",
      "|   1654|    678| 0.04389559|\n",
      "|   1654|    691| 0.04389559|\n",
      "|   1654|    696|0.044106178|\n",
      "+-------+-------+-----------+\n",
      "only showing top 4 rows\n",
      "\n"
     ]
    }
   ],
   "source": [
    "res1 = res.orderBy(\"user_id\", \"item_id\")\n",
    "res1.show(4)"
   ]
  },
  {
   "cell_type": "code",
   "execution_count": null,
   "metadata": {},
   "outputs": [],
   "source": []
  },
  {
   "cell_type": "code",
   "execution_count": 158,
   "metadata": {},
   "outputs": [],
   "source": [
    "res1.repartition(1).write.option(\"header\",True).csv('/user/ivan.groo/lab03', mode=\"overwrite\")"
   ]
  },
  {
   "cell_type": "code",
   "execution_count": 159,
   "metadata": {},
   "outputs": [],
   "source": [
    "!hdfs dfs -get /user/ivan.groo/lab03"
   ]
  },
  {
   "cell_type": "code",
   "execution_count": 160,
   "metadata": {},
   "outputs": [],
   "source": [
    "!mv lab03/part-00000-7edf5573-a848-4261-9180-0a18e379f115-c000.csv lab03.csv"
   ]
  },
  {
   "cell_type": "code",
   "execution_count": 104,
   "metadata": {},
   "outputs": [
    {
     "name": "stdout",
     "output_type": "stream",
     "text": [
      "root\n",
      " |-- item_id: integer (nullable = true)\n",
      " |-- user_id: integer (nullable = true)\n",
      " |-- avg_u: double (nullable = true)\n",
      " |-- avg_i: double (nullable = true)\n",
      " |-- features: vector (nullable = true)\n",
      " |-- rawPrediction: vector (nullable = true)\n",
      " |-- probability: vector (nullable = true)\n",
      " |-- prediction: double (nullable = false)\n",
      "\n"
     ]
    }
   ],
   "source": [
    "predictions.printSchema()"
   ]
  },
  {
   "cell_type": "code",
   "execution_count": 168,
   "metadata": {},
   "outputs": [],
   "source": [
    "spark.stop()"
   ]
  },
  {
   "cell_type": "code",
   "execution_count": null,
   "metadata": {},
   "outputs": [],
   "source": []
  }
 ],
 "metadata": {
  "kernelspec": {
   "display_name": "Python 3",
   "language": "python",
   "name": "python3"
  },
  "language_info": {
   "codemirror_mode": {
    "name": "ipython",
    "version": 3
   },
   "file_extension": ".py",
   "mimetype": "text/x-python",
   "name": "python",
   "nbconvert_exporter": "python",
   "pygments_lexer": "ipython3",
   "version": "3.6.5"
  }
 },
 "nbformat": 4,
 "nbformat_minor": 2
}
