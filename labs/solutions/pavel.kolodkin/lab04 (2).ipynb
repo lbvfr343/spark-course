{
 "cells": [
  {
   "cell_type": "code",
   "execution_count": 25,
   "metadata": {},
   "outputs": [],
   "source": [
    "import os\n",
    "import sys\n",
    "os.environ[\"PYSPARK_PYTHON\"]='/opt/anaconda/envs/bd9/bin/python'\n",
    "os.environ[\"SPARK_HOME\"]='/usr/hdp/current/spark2-client'\n",
    "os.environ[\"PYSPARK_SUBMIT_ARGS\"]='--num-executors 5 --executor-memory 4g --executor-cores 1 --driver-memory 3g pyspark-shell'\n",
    "\n",
    "spark_home = os.environ.get('SPARK_HOME', None)\n",
    "\n",
    "sys.path.insert(0, os.path.join(spark_home, 'python'))\n",
    "sys.path.insert(0, os.path.join(spark_home, 'python/lib/py4j-0.10.7-src.zip'))"
   ]
  },
  {
   "cell_type": "code",
   "execution_count": 26,
   "metadata": {},
   "outputs": [
    {
     "data": {
      "text/html": [
       "\n",
       "            <div>\n",
       "                <p><b>SparkSession - in-memory</b></p>\n",
       "                \n",
       "        <div>\n",
       "            <p><b>SparkContext</b></p>\n",
       "\n",
       "            <p><a href=\"http://spark-master-5.newprolab.com:4042\">Spark UI</a></p>\n",
       "\n",
       "            <dl>\n",
       "              <dt>Version</dt>\n",
       "                <dd><code>v2.4.7</code></dd>\n",
       "              <dt>Master</dt>\n",
       "                <dd><code>local[2]</code></dd>\n",
       "              <dt>AppName</dt>\n",
       "                <dd><code>spark-course</code></dd>\n",
       "            </dl>\n",
       "        </div>\n",
       "        \n",
       "            </div>\n",
       "        "
      ],
      "text/plain": [
       "<pyspark.sql.session.SparkSession at 0x7f5d954d6b00>"
      ]
     },
     "execution_count": 26,
     "metadata": {},
     "output_type": "execute_result"
    }
   ],
   "source": [
    "from pyspark.sql import SparkSession\n",
    "\n",
    "spark = SparkSession.builder \\\n",
    "                    .master(\"local[2]\") \\\n",
    "                    .appName(\"spark-course\") \\\n",
    "                    .config(\"spark.driver.memory\", \"512m\") \\\n",
    "                    .config(\"spark.jars.packages\", \"org.apache.spark:spark-sql-kafka-0-10_2.11:2.4.5\") \\\n",
    "                    .getOrCreate()\n",
    "\n",
    "spark"
   ]
  },
  {
   "cell_type": "code",
   "execution_count": 27,
   "metadata": {},
   "outputs": [],
   "source": [
    "from pyspark.sql.types import *\n",
    "import pyspark.sql.functions as F\n",
    "from pyspark.ml.feature import HashingTF, IDF, StringIndexer,IndexToString, CountVectorizer\n",
    "from pyspark.ml.classification import LogisticRegression\n",
    "from pyspark.ml import Pipeline\n",
    "from pyspark.ml.evaluation import MulticlassClassificationEvaluator"
   ]
  },
  {
   "cell_type": "code",
   "execution_count": 4,
   "metadata": {},
   "outputs": [
    {
     "name": "stdout",
     "output_type": "stream",
     "text": [
      "Found 1 items\r\n",
      "-rw-r--r--   3 hdfs hdfs  655090069 2022-01-06 18:46 /labs/slaba04/gender_age_dataset.txt\r\n"
     ]
    }
   ],
   "source": [
    "!hdfs dfs -ls \"/labs/slaba04/\""
   ]
  },
  {
   "cell_type": "code",
   "execution_count": 5,
   "metadata": {},
   "outputs": [
    {
     "name": "stdout",
     "output_type": "stream",
     "text": [
      "+------+-----+--------------------+--------------------+\n",
      "|gender|  age|                 uid|           user_json|\n",
      "+------+-----+--------------------+--------------------+\n",
      "|     F|18-24|d50192e5-c44e-4ae...|{\"visits\": [{\"url...|\n",
      "|     M|25-34|d502331d-621e-472...|{\"visits\": [{\"url...|\n",
      "|     F|25-34|d50237ea-747e-48a...|{\"visits\": [{\"url...|\n",
      "|     F|25-34|d502f29f-d57a-46b...|{\"visits\": [{\"url...|\n",
      "|     M| >=55|d503c3b2-a0c2-4f4...|{\"visits\": [{\"url...|\n",
      "|     F|25-34|d5090ddf-5648-487...|{\"visits\": [{\"url...|\n",
      "|     F|25-34|d50bcef8-16ff-4e8...|{\"visits\": [{\"url...|\n",
      "|     F|18-24|d50e23dc-0cbd-488...|{\"visits\": [{\"url...|\n",
      "|     F|45-54|d50fdabb-4208-441...|{\"visits\": [{\"url...|\n",
      "|     F|18-24|d511b480-23a6-482...|{\"visits\": [{\"url...|\n",
      "|     F|25-34|d51294ed-1b95-4e4...|{\"visits\": [{\"url...|\n",
      "|     F|25-34|d512e295-6a85-491...|{\"visits\": [{\"url...|\n",
      "|     M|25-34|d51441ea-9dda-454...|{\"visits\": [{\"url...|\n",
      "|     F|25-34|d51822d4-105b-457...|{\"visits\": [{\"url...|\n",
      "|     F|35-44|d5183db2-c8e5-413...|{\"visits\": [{\"url...|\n",
      "|     M|35-44|d51974e3-19c5-46d...|{\"visits\": [{\"url...|\n",
      "|     M|25-34|d51cba2e-f666-46d...|{\"visits\": [{\"url...|\n",
      "|     F|18-24|d51dd42c-3b36-4a6...|{\"visits\": [{\"url...|\n",
      "|     F|35-44|d51fdc5e-8eae-4bb...|{\"visits\": [{\"url...|\n",
      "|     F| >=55|d522c18e-e38a-4b7...|{\"visits\": [{\"url...|\n",
      "+------+-----+--------------------+--------------------+\n",
      "only showing top 20 rows\n",
      "\n"
     ]
    }
   ],
   "source": [
    "schema = StructType(fields=[\n",
    "    StructField('gender', StringType()),\n",
    "    StructField('age', StringType()),\n",
    "    StructField('uid', StringType()),\n",
    "    StructField('user_json', StringType()),\n",
    "])\n",
    "\n",
    "df = spark.read.csv(\"/labs/slaba04/gender_age_dataset.txt\", header=True, schema=schema, sep='\\t')\n",
    "df.show()"
   ]
  },
  {
   "cell_type": "code",
   "execution_count": 6,
   "metadata": {},
   "outputs": [],
   "source": [
    "df = df.withColumn(\"visits\", F.from_json(F.col(\"user_json\"), StructType([\n",
    "    StructField(\"visits\", ArrayType(\n",
    "        StructType([\n",
    "            StructField(\"url\", StringType(), True),\n",
    "            StructField(\"timestamp\", LongType(), True) \n",
    "            ])\n",
    "        ))\n",
    "    ]))) \\\n",
    "    .withColumn(\"visit\", F.explode(\"visits.visits\")) \\\n",
    "    .withColumn(\"host\", F.expr(\"parse_url(visit.url, 'HOST')\")) \\\n",
    "    .drop(\"user_json\", \"visits\", \"visit\")"
   ]
  },
  {
   "cell_type": "code",
   "execution_count": 8,
   "metadata": {},
   "outputs": [
    {
     "name": "stdout",
     "output_type": "stream",
     "text": [
      "+------+-----+--------------------+--------------------+\n",
      "|gender|  age|                 uid|               hosts|\n",
      "+------+-----+--------------------+--------------------+\n",
      "|     F|18-24|09b1ecd3-b2d2-4c1...|[tankionline.com,...|\n",
      "|     F|18-24|15faf063-5e44-4b6...|[allods.mail.ru, ...|\n",
      "|     F|18-24|560142d9-6c9c-439...|[http, http, http...|\n",
      "|     F|18-24|6709f443-7ddd-423...|[muzofon.com, muz...|\n",
      "|     F|18-24|67e9bd68-ef03-49c...|[tempfile.ru, tem...|\n",
      "|     F|18-24|757ff5c2-ecdb-489...|[www.yves-rocher....|\n",
      "|     F|18-24|c430a9d4-5f48-47c...|[www.eporner.com,...|\n",
      "|     F|18-24|d1d59923-51d7-4a1...|[shop.lenovo.com,...|\n",
      "|     F|18-24|fca5deb7-77f4-4c4...|[b.jaymedianetwor...|\n",
      "|     F|25-34|0521da78-b729-4a0...|[mirknig.com, mir...|\n",
      "|     F|25-34|09023c5f-d98f-47f...|[www.pc.img-studi...|\n",
      "|     F|25-34|205ed1e2-1504-47c...|[ubr.ua, cm.g.dou...|\n",
      "|     F|25-34|3c295020-fe8e-483...|[go.mail.ru, andr...|\n",
      "|     F|25-34|4359c398-4a7b-4d4...|[join1.kluberudit...|\n",
      "|     F|25-34|492f6cb0-d878-4b9...|[www.moskva.fm, w...|\n",
      "|     F|25-34|4f6b1af9-a797-412...|[www.gismeteo.ru,...|\n",
      "|     F|25-34|4faec36e-a3b7-4fb...|[ksv.su, 2015godk...|\n",
      "|     F|25-34|57cc412a-b75b-485...|[www.enter.ru, ww...|\n",
      "|     F|25-34|5c001f97-2c9d-485...|     [pohudeyka.net]|\n",
      "|     F|25-34|71850253-e82b-46a...|[bloknot.ru, vk.com]|\n",
      "+------+-----+--------------------+--------------------+\n",
      "only showing top 20 rows\n",
      "\n"
     ]
    }
   ],
   "source": [
    "df = df[(df.age != \"-\") & (df.gender != \"-\")]\n",
    "df = df.groupBy(\"gender\", \"age\", \"uid\").agg(F.collect_list(\"host\").alias('hosts')).filter(F.size('hosts') != 0)\n",
    "df.show()"
   ]
  },
  {
   "cell_type": "code",
   "execution_count": 9,
   "metadata": {},
   "outputs": [],
   "source": [
    "CV = CountVectorizer(inputCol = \"hosts\", outputCol = \"vector_hosts\")"
   ]
  },
  {
   "cell_type": "code",
   "execution_count": 10,
   "metadata": {},
   "outputs": [],
   "source": [
    "age_indexer = StringIndexer(inputCol = \"age\", outputCol = \"age_indexer\").fit(df)\n",
    "gender_indexer = StringIndexer(inputCol = \"gender\", outputCol = \"gender_indexer\").fit(df)\n",
    "age_reverse = IndexToString(inputCol = \"age_prediction\", outputCol = \"age_pred\", labels = age_indexer.labels)\n",
    "gender_reverse = IndexToString(inputCol = \"gender_prediction\", outputCol = \"gender_pred\", labels = gender_indexer.labels)"
   ]
  },
  {
   "cell_type": "code",
   "execution_count": 11,
   "metadata": {},
   "outputs": [],
   "source": [
    "logreg_age = LogisticRegression(featuresCol = 'vector_hosts', labelCol = 'age_indexer', probabilityCol = 'age_prob',\n",
    "                                predictionCol = \"age_prediction\", rawPredictionCol = 'age_prediction_raw',\n",
    "                                maxIter = 10, regParam = 0.3, elasticNetParam = 0.8, family = \"multinomial\")\n",
    "logreg_gender = LogisticRegression(featuresCol = 'vector_hosts', labelCol = 'gender_indexer', probabilityCol = 'gender_prob',\n",
    "                                   predictionCol = \"gender_prediction\", rawPredictionCol = 'gender_prediction_raw',\n",
    "                                   maxIter = 10, regParam = 0.3, elasticNetParam = 0.8, family = \"multinomial\")"
   ]
  },
  {
   "cell_type": "code",
   "execution_count": 12,
   "metadata": {},
   "outputs": [],
   "source": [
    "pp = Pipeline(stages = [CV, age_indexer, gender_indexer, logreg_age, logreg_gender, age_reverse, gender_reverse])"
   ]
  },
  {
   "cell_type": "code",
   "execution_count": 13,
   "metadata": {},
   "outputs": [],
   "source": [
    "X_train, X_test = df.randomSplit([0.8, 0.2], seed = 42)"
   ]
  },
  {
   "cell_type": "code",
   "execution_count": 14,
   "metadata": {},
   "outputs": [],
   "source": [
    "mdl = pp.fit(X_train)"
   ]
  },
  {
   "cell_type": "code",
   "execution_count": 15,
   "metadata": {},
   "outputs": [],
   "source": [
    "predictions = mdl.transform(X_test)"
   ]
  },
  {
   "cell_type": "code",
   "execution_count": 16,
   "metadata": {},
   "outputs": [],
   "source": [
    "evaluator_age = MulticlassClassificationEvaluator(\n",
    "    labelCol = \"age_indexer\", predictionCol = \"age_prediction\", metricName = \"accuracy\").evaluate(predictions)\n",
    "evaluator_gender = MulticlassClassificationEvaluator(\n",
    "    labelCol = \"gender_indexer\", predictionCol = \"gender_prediction\", metricName = \"accuracy\").evaluate(predictions)"
   ]
  },
  {
   "cell_type": "code",
   "execution_count": 17,
   "metadata": {},
   "outputs": [],
   "source": [
    "mdl.write().overwrite().save(\"/user/pavel.kolodkin/mdl_lab4\")"
   ]
  },
  {
   "cell_type": "code",
   "execution_count": null,
   "metadata": {},
   "outputs": [],
   "source": [
    "# запускаем проверка и ждем пару минут пока формируются данные для теста"
   ]
  },
  {
   "cell_type": "code",
   "execution_count": 28,
   "metadata": {},
   "outputs": [
    {
     "name": "stdout",
     "output_type": "stream",
     "text": [
      "+----+--------------------+--------------------+---------+------+--------------------+-------------+\n",
      "| key|               value|               topic|partition|offset|           timestamp|timestampType|\n",
      "+----+--------------------+--------------------+---------+------+--------------------+-------------+\n",
      "|null|[7B 22 75 69 64 2...|input_pavel.kolodkin|        0|     0|2022-11-06 14:05:...|            0|\n",
      "|null|[7B 22 75 69 64 2...|input_pavel.kolodkin|        0|     1|2022-11-06 14:05:...|            0|\n",
      "|null|[7B 22 75 69 64 2...|input_pavel.kolodkin|        0|     2|2022-11-06 14:05:...|            0|\n",
      "|null|[7B 22 75 69 64 2...|input_pavel.kolodkin|        0|     3|2022-11-06 14:05:...|            0|\n",
      "|null|[7B 22 75 69 64 2...|input_pavel.kolodkin|        0|     4|2022-11-06 14:05:...|            0|\n",
      "|null|[7B 22 75 69 64 2...|input_pavel.kolodkin|        0|     5|2022-11-06 14:05:...|            0|\n",
      "|null|[7B 22 75 69 64 2...|input_pavel.kolodkin|        0|     6|2022-11-06 14:05:...|            0|\n",
      "|null|[7B 22 75 69 64 2...|input_pavel.kolodkin|        0|     7|2022-11-06 14:05:...|            0|\n",
      "|null|[7B 22 75 69 64 2...|input_pavel.kolodkin|        0|     8|2022-11-06 14:05:...|            0|\n",
      "|null|[7B 22 75 69 64 2...|input_pavel.kolodkin|        0|     9|2022-11-06 14:05:...|            0|\n",
      "|null|[7B 22 75 69 64 2...|input_pavel.kolodkin|        0|    10|2022-11-06 14:05:...|            0|\n",
      "|null|[7B 22 75 69 64 2...|input_pavel.kolodkin|        0|    11|2022-11-06 14:05:...|            0|\n",
      "|null|[7B 22 75 69 64 2...|input_pavel.kolodkin|        0|    12|2022-11-06 14:05:...|            0|\n",
      "|null|[7B 22 75 69 64 2...|input_pavel.kolodkin|        0|    13|2022-11-06 14:05:...|            0|\n",
      "|null|[7B 22 75 69 64 2...|input_pavel.kolodkin|        0|    14|2022-11-06 14:05:...|            0|\n",
      "|null|[7B 22 75 69 64 2...|input_pavel.kolodkin|        0|    15|2022-11-06 14:05:...|            0|\n",
      "|null|[7B 22 75 69 64 2...|input_pavel.kolodkin|        0|    16|2022-11-06 14:05:...|            0|\n",
      "|null|[7B 22 75 69 64 2...|input_pavel.kolodkin|        0|    17|2022-11-06 14:05:...|            0|\n",
      "|null|[7B 22 75 69 64 2...|input_pavel.kolodkin|        0|    18|2022-11-06 14:05:...|            0|\n",
      "|null|[7B 22 75 69 64 2...|input_pavel.kolodkin|        0|    19|2022-11-06 14:05:...|            0|\n",
      "+----+--------------------+--------------------+---------+------+--------------------+-------------+\n",
      "only showing top 20 rows\n",
      "\n"
     ]
    }
   ],
   "source": [
    "read_kafka_params = {\n",
    "    \"kafka.bootstrap.servers\": 'spark-master-1.newprolab.com:6667',\n",
    "    \"subscribe\": \"input_pavel.kolodkin\",\n",
    "    \"startingOffsets\": \"earliest\",\n",
    "    \"failOnDataLoss\":\"False\"\n",
    "}\n",
    "kafka_sdf = spark.read.format(\"kafka\").options(**read_kafka_params).load()\n",
    "kafka_sdf.show()"
   ]
  },
  {
   "cell_type": "code",
   "execution_count": 29,
   "metadata": {},
   "outputs": [
    {
     "name": "stdout",
     "output_type": "stream",
     "text": [
      "+--------------------+--------------------+\n",
      "|                 uid|               hosts|\n",
      "+--------------------+--------------------+\n",
      "|0108d217-e476-493...|[kvartblog.ru, kv...|\n",
      "|0192cc54-559c-4c8...|[metanol.lv, meta...|\n",
      "|019acd5e-be9a-4cd...|[www.russianfood....|\n",
      "|02e7f830-da57-4d5...|[maxpark.com, new...|\n",
      "|1d160259-73d8-451...|[ua.sinoptik.ua, ...|\n",
      "|1e14a504-276e-448...|[www.rusfishing.r...|\n",
      "|1eb313db-34ff-4bf...|[zamok.gidm.ru, z...|\n",
      "|1eff6e4f-3b8a-447...|[mirtesen.ru, mir...|\n",
      "|3e75c432-cb78-488...|[www.gotovim.ru, ...|\n",
      "|47565df3-13e3-460...|[psl.by, psl.by, ...|\n",
      "|4766a8ab-e9b6-4e0...|[www.dns-shop.ru,...|\n",
      "|50637c81-fffa-4ee...|[www.adme.ru, www...|\n",
      "|5a023519-f28e-4eb...|[www.forum.zoo.kz...|\n",
      "|5a781caa-6131-4d9...|[www.evino.ru, ww...|\n",
      "|5ab3c7b8-c550-493...|[www.dns-shop.ru,...|\n",
      "|7302e78a-ec04-47e...|[www.proftester.r...|\n",
      "|73081df3-8f41-435...|[www.rowenta.ru, ...|\n",
      "|89fe85cb-ea4c-4be...|[loveplanet.ru, l...|\n",
      "|8affa6ce-24c7-4ed...|[piter-mania.ru, ...|\n",
      "|b2e4450d-c582-441...|[www.yaplakal.com...|\n",
      "+--------------------+--------------------+\n",
      "only showing top 20 rows\n",
      "\n"
     ]
    }
   ],
   "source": [
    "kafka_sdf = kafka_sdf.select(F.from_json(F.col('value').cast('string'), \n",
    "                                                        StructType([\n",
    "                                                        StructField('uid', StringType(), True),\n",
    "                                                        StructField('visits', StringType(), True),]\n",
    "                                                        )).alias('event'))\n",
    "\n",
    "\n",
    "kafka_sdf = kafka_sdf.select('event.uid', F.from_json(F.col('event.visits'),\n",
    "                                                      ArrayType(StructType([\n",
    "                                                          StructField('url', StringType(), True),\n",
    "                                                          StructField('timestamp', LongType(), True)])\n",
    "                                                            )).alias('visits'))\n",
    "\n",
    "kafka_sdf = kafka_sdf.withColumn(\"visit\", F.explode(\"visits\")) \\\n",
    "    .withColumn(\"host\", F.expr(\"parse_url(visit.url, 'HOST')\")) \\\n",
    "    .drop(\"visits\", \"visit\") \\\n",
    "    .groupBy(\"uid\") \\\n",
    "    .agg(F.collect_list(\"host\").alias(\"hosts\"))\n",
    "\n",
    "kafka_sdf.show()"
   ]
  },
  {
   "cell_type": "code",
   "execution_count": 30,
   "metadata": {},
   "outputs": [
    {
     "name": "stdout",
     "output_type": "stream",
     "text": [
      "+--------------------+-----+------+\n",
      "|                 uid|  age|gender|\n",
      "+--------------------+-----+------+\n",
      "|0108d217-e476-493...|25-34|     M|\n",
      "|0192cc54-559c-4c8...|25-34|     M|\n",
      "|019acd5e-be9a-4cd...|25-34|     M|\n",
      "|02e7f830-da57-4d5...|25-34|     M|\n",
      "|1d160259-73d8-451...|25-34|     M|\n",
      "|1e14a504-276e-448...|25-34|     M|\n",
      "|1eb313db-34ff-4bf...|25-34|     M|\n",
      "|1eff6e4f-3b8a-447...|25-34|     M|\n",
      "|3e75c432-cb78-488...|25-34|     M|\n",
      "|47565df3-13e3-460...|25-34|     M|\n",
      "|4766a8ab-e9b6-4e0...|25-34|     M|\n",
      "|50637c81-fffa-4ee...|25-34|     M|\n",
      "|5a023519-f28e-4eb...|25-34|     M|\n",
      "|5a781caa-6131-4d9...|25-34|     M|\n",
      "|5ab3c7b8-c550-493...|25-34|     M|\n",
      "|7302e78a-ec04-47e...|25-34|     M|\n",
      "|73081df3-8f41-435...|25-34|     M|\n",
      "|89fe85cb-ea4c-4be...|25-34|     M|\n",
      "|8affa6ce-24c7-4ed...|25-34|     M|\n",
      "|b2e4450d-c582-441...|25-34|     M|\n",
      "+--------------------+-----+------+\n",
      "only showing top 20 rows\n",
      "\n"
     ]
    }
   ],
   "source": [
    "preds = mdl.transform(kafka_sdf) \\\n",
    "    .select(\"uid\", \"age_pred\", \"gender_pred\") \\\n",
    "    .withColumnRenamed(\"age_pred\",\"age\") \\\n",
    "    .withColumnRenamed(\"gender_pred\",\"gender\")\n",
    "preds.show()"
   ]
  },
  {
   "cell_type": "code",
   "execution_count": 31,
   "metadata": {},
   "outputs": [
    {
     "data": {
      "text/plain": [
       "5000"
      ]
     },
     "execution_count": 31,
     "metadata": {},
     "output_type": "execute_result"
    }
   ],
   "source": [
    "preds.count()"
   ]
  },
  {
   "cell_type": "code",
   "execution_count": 32,
   "metadata": {},
   "outputs": [],
   "source": [
    "kafka_stream = (\n",
    "    spark\n",
    "    .readStream\n",
    "    .format('kafka')\n",
    "    .option('kafka.bootstrap.servers', 'spark-master-1.newprolab.com:6667')\n",
    "    .option('subscribe', \"maxim.borchashvili\")\n",
    "    .option('startingOffsets', 'earliest')\n",
    "    .option('failOnDataLoss', 'False')\n",
    "    .load()\n",
    ")"
   ]
  },
  {
   "cell_type": "code",
   "execution_count": 33,
   "metadata": {},
   "outputs": [],
   "source": [
    "preds = preds.select(F.to_json(F.struct(*preds.columns)).alias('value'))\n",
    "\n",
    "kafka_write_stream = (\n",
    "    preds\n",
    "    .write\n",
    "    .format(\"kafka\")\n",
    "    .option(\"checkpointLocation\", \"streaming/chk/chk_kafka\")\n",
    "    .option(\"kafka.bootstrap.servers\", 'spark-master-1.newprolab.com:6667')\n",
    "    .option(\"topic\", \"pavel.kolodkin\")\n",
    ")"
   ]
  },
  {
   "cell_type": "code",
   "execution_count": 34,
   "metadata": {},
   "outputs": [],
   "source": [
    "kafka_write_stream.save(\"/user/pavel.kolodkin/test\")"
   ]
  },
  {
   "cell_type": "code",
   "execution_count": 36,
   "metadata": {},
   "outputs": [
    {
     "name": "stdout",
     "output_type": "stream",
     "text": [
      "Found 6 items\r\n",
      "drwxr-xr-x   - pavel.kolodkin pavel.kolodkin          0 2022-11-06 20:07 /user/pavel.kolodkin/.sparkStaging\r\n",
      "drwxr-xr-x   - pavel.kolodkin pavel.kolodkin          0 2022-11-03 09:48 /user/pavel.kolodkin/lab03.csv\r\n",
      "drwxr-xr-x   - pavel.kolodkin pavel.kolodkin          0 2022-11-03 07:44 /user/pavel.kolodkin/lab03111.csv\r\n",
      "drwxr-xr-x   - pavel.kolodkin pavel.kolodkin          0 2022-11-06 19:20 /user/pavel.kolodkin/lab04_model\r\n",
      "drwxr-xr-x   - pavel.kolodkin pavel.kolodkin          0 2022-11-08 08:51 /user/pavel.kolodkin/mdl_lab4\r\n",
      "drwxr-xr-x   - pavel.kolodkin pavel.kolodkin          0 2022-11-03 07:54 /user/pavel.kolodkin/user\r\n"
     ]
    }
   ],
   "source": [
    "!hdfs dfs -ls \"/user/pavel.kolodkin/\""
   ]
  },
  {
   "cell_type": "code",
   "execution_count": 27,
   "metadata": {},
   "outputs": [],
   "source": [
    "spark.stop()"
   ]
  },
  {
   "cell_type": "code",
   "execution_count": null,
   "metadata": {},
   "outputs": [],
   "source": []
  }
 ],
 "metadata": {
  "kernelspec": {
   "display_name": "Python 3",
   "language": "python",
   "name": "python3"
  },
  "language_info": {
   "codemirror_mode": {
    "name": "ipython",
    "version": 3
   },
   "file_extension": ".py",
   "mimetype": "text/x-python",
   "name": "python",
   "nbconvert_exporter": "python",
   "pygments_lexer": "ipython3",
   "version": "3.6.5"
  }
 },
 "nbformat": 4,
 "nbformat_minor": 2
}
