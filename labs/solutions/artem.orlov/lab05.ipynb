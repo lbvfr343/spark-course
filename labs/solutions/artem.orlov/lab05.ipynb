{
 "cells": [
  {
   "cell_type": "code",
   "execution_count": 1,
   "metadata": {},
   "outputs": [
    {
     "name": "stdout",
     "output_type": "stream",
     "text": [
      "Welcome to\n",
      "      ____              __\n",
      "     / __/__  ___ _____/ /__\n",
      "    _\\ \\/ _ \\/ _ `/ __/  '_/\n",
      "   /__ / .__/\\_,_/_/ /_/\\_\\   version 2.4.7\n",
      "      /_/\n",
      "\n",
      "Using Python version 3.6.5 (default, Apr 29 2018 16:14:56)\n",
      "SparkSession available as 'spark'.\n"
     ]
    }
   ],
   "source": [
    "import os\n",
    "import sys\n",
    "os.environ[\"PYSPARK_PYTHON\"]='/opt/anaconda/envs/bd9/bin/python'\n",
    "os.environ[\"SPARK_HOME\"]='/usr/hdp/current/spark2-client'\n",
    "os.environ[\"PYSPARK_SUBMIT_ARGS\"]='--num-executors 7 --executor-memory 4g --executor-cores 3 --driver-memory 3g pyspark-shell'\n",
    "\n",
    "spark_home = os.environ.get('SPARK_HOME', None)\n",
    "if not spark_home:\n",
    "    raise ValueError('SPARK_HOME environment variable is not set')\n",
    "\n",
    "sys.path.insert(0, os.path.join(spark_home, 'python'))\n",
    "sys.path.insert(0, os.path.join(spark_home, 'python/lib/py4j-0.10.7-src.zip'))\n",
    "exec(open(os.path.join(spark_home, 'python/pyspark/shell.py')).read())"
   ]
  },
  {
   "cell_type": "code",
   "execution_count": 2,
   "metadata": {},
   "outputs": [],
   "source": [
    "from pyspark import SparkConf\n",
    "from pyspark.sql import SparkSession\n",
    "from pyspark.sql import functions as F\n",
    "from pyspark.sql.types import *\n",
    "from pyspark import Row\n",
    "import json\n",
    "\n",
    "conf = SparkConf()\n",
    "\n",
    "spark = (SparkSession\n",
    "         .builder\n",
    "         .config(conf=conf)\n",
    "         .appName(\"lab5\")\n",
    "         .getOrCreate())"
   ]
  },
  {
   "cell_type": "code",
   "execution_count": 3,
   "metadata": {},
   "outputs": [],
   "source": [
    "from pyspark.sql.functions import *"
   ]
  },
  {
   "cell_type": "code",
   "execution_count": 4,
   "metadata": {},
   "outputs": [
    {
     "data": {
      "text/html": [
       "\n",
       "            <div>\n",
       "                <p><b>SparkSession - hive</b></p>\n",
       "                \n",
       "        <div>\n",
       "            <p><b>SparkContext</b></p>\n",
       "\n",
       "            <p><a href=\"http://spark-master-4.newprolab.com:4043\">Spark UI</a></p>\n",
       "\n",
       "            <dl>\n",
       "              <dt>Version</dt>\n",
       "                <dd><code>v2.4.7</code></dd>\n",
       "              <dt>Master</dt>\n",
       "                <dd><code>yarn</code></dd>\n",
       "              <dt>AppName</dt>\n",
       "                <dd><code>pyspark-shell</code></dd>\n",
       "            </dl>\n",
       "        </div>\n",
       "        \n",
       "            </div>\n",
       "        "
      ],
      "text/plain": [
       "<pyspark.sql.session.SparkSession at 0x7fe12b701160>"
      ]
     },
     "execution_count": 4,
     "metadata": {},
     "output_type": "execute_result"
    }
   ],
   "source": [
    "spark"
   ]
  },
  {
   "cell_type": "code",
   "execution_count": 5,
   "metadata": {},
   "outputs": [
    {
     "name": "stdout",
     "output_type": "stream",
     "text": [
      "Found 2 items\r\n",
      "-rw-r--r--   3 hdfs hdfs   24271415 2022-01-06 18:46 /labs/slaba05/lab05_test.csv\r\n",
      "-rw-r--r--   3 hdfs hdfs  176160768 2022-01-06 18:46 /labs/slaba05/lab05_train.csv\r\n"
     ]
    }
   ],
   "source": [
    "!hdfs dfs -ls /labs/slaba05/"
   ]
  },
  {
   "cell_type": "code",
   "execution_count": 6,
   "metadata": {},
   "outputs": [
    {
     "name": "stdout",
     "output_type": "stream",
     "text": [
      "-RECORD 0-------------------------------------------\n",
      " _c0                         | 333149               \n",
      " ID                          | 479990               \n",
      " CR_PROD_CNT_IL              | 0                    \n",
      " AMOUNT_RUB_CLO_PRC          | 0.0                  \n",
      " PRC_ACCEPTS_A_EMAIL_LINK    | 0.0                  \n",
      " APP_REGISTR_RGN_CODE        | null                 \n",
      " PRC_ACCEPTS_A_POS           | 0.0                  \n",
      " PRC_ACCEPTS_A_TK            | 0.0                  \n",
      " TURNOVER_DYNAMIC_IL_1M      | 0.0                  \n",
      " CNT_TRAN_AUT_TENDENCY1M     | null                 \n",
      " SUM_TRAN_AUT_TENDENCY1M     | null                 \n",
      " AMOUNT_RUB_SUP_PRC          | 0.0                  \n",
      " PRC_ACCEPTS_A_AMOBILE       | 0.0                  \n",
      " SUM_TRAN_AUT_TENDENCY3M     | null                 \n",
      " CLNT_TRUST_RELATION         | null                 \n",
      " PRC_ACCEPTS_TK              | 0.0                  \n",
      " PRC_ACCEPTS_A_MTP           | 0.0                  \n",
      " REST_DYNAMIC_FDEP_1M        | 0.0                  \n",
      " CNT_TRAN_AUT_TENDENCY3M     | null                 \n",
      " CNT_ACCEPTS_TK              | 0.0                  \n",
      " APP_MARITAL_STATUS          | null                 \n",
      " REST_DYNAMIC_SAVE_3M        | 0.0                  \n",
      " CR_PROD_CNT_VCU             | 0                    \n",
      " REST_AVG_CUR                | 19069.6917166667     \n",
      " CNT_TRAN_MED_TENDENCY1M     | null                 \n",
      " APP_KIND_OF_PROP_HABITATION | null                 \n",
      " CLNT_JOB_POSITION_TYPE      | null                 \n",
      " AMOUNT_RUB_NAS_PRC          | 0.0                  \n",
      " CLNT_JOB_POSITION           | null                 \n",
      " APP_DRIVING_LICENSE         | null                 \n",
      " TRANS_COUNT_SUP_PRC         | 0.0                  \n",
      " APP_EDUCATION               | null                 \n",
      " CNT_TRAN_CLO_TENDENCY1M     | null                 \n",
      " SUM_TRAN_MED_TENDENCY1M     | null                 \n",
      " PRC_ACCEPTS_A_ATM           | 0.0                  \n",
      " PRC_ACCEPTS_MTP             | 0.0                  \n",
      " TRANS_COUNT_NAS_PRC         | 0.0                  \n",
      " APP_TRAVEL_PASS             | null                 \n",
      " CNT_ACCEPTS_MTP             | 0.0                  \n",
      " CR_PROD_CNT_TOVR            | 1                    \n",
      " APP_CAR                     | null                 \n",
      " CR_PROD_CNT_PIL             | 0                    \n",
      " SUM_TRAN_CLO_TENDENCY1M     | null                 \n",
      " APP_POSITION_TYPE           | null                 \n",
      " TURNOVER_CC                 | 0.0                  \n",
      " TRANS_COUNT_ATM_PRC         | 0.981818181818182    \n",
      " AMOUNT_RUB_ATM_PRC          | 0.9264718189135429   \n",
      " TURNOVER_PAYM               | 0.0                  \n",
      " AGE                         | 324                  \n",
      " CNT_TRAN_MED_TENDENCY3M     | null                 \n",
      " CR_PROD_CNT_CC              | 0                    \n",
      " SUM_TRAN_MED_TENDENCY3M     | null                 \n",
      " REST_DYNAMIC_FDEP_3M        | 0.0                  \n",
      " REST_DYNAMIC_IL_1M          | 0.0                  \n",
      " APP_EMP_TYPE                | null                 \n",
      " SUM_TRAN_CLO_TENDENCY3M     | null                 \n",
      " LDEAL_TENOR_MAX             | null                 \n",
      " LDEAL_YQZ_CHRG              | null                 \n",
      " CR_PROD_CNT_CCFP            | 0                    \n",
      " DEAL_YQZ_IR_MAX             | null                 \n",
      " LDEAL_YQZ_COM               | null                 \n",
      " DEAL_YQZ_IR_MIN             | null                 \n",
      " CNT_TRAN_CLO_TENDENCY3M     | null                 \n",
      " REST_DYNAMIC_CUR_1M         | 0.139327197286461    \n",
      " REST_AVG_PAYM               | 0.0                  \n",
      " LDEAL_TENOR_MIN             | null                 \n",
      " LDEAL_AMT_MONTH             | null                 \n",
      " APP_COMP_TYPE               | null                 \n",
      " LDEAL_GRACE_DAYS_PCT_MED    | 0.0                  \n",
      " REST_DYNAMIC_CUR_3M         | 0.24404241658152398  \n",
      " CNT_TRAN_SUP_TENDENCY3M     | null                 \n",
      " TURNOVER_DYNAMIC_CUR_1M     | 0.14429972251526998  \n",
      " REST_DYNAMIC_PAYM_3M        | 0.0                  \n",
      " SUM_TRAN_SUP_TENDENCY3M     | null                 \n",
      " REST_DYNAMIC_IL_3M          | 0.0                  \n",
      " CNT_TRAN_ATM_TENDENCY3M     | 0.351851851851852    \n",
      " CNT_TRAN_ATM_TENDENCY1M     | 0.166666666666667    \n",
      " TURNOVER_DYNAMIC_IL_3M      | 0.0                  \n",
      " SUM_TRAN_ATM_TENDENCY3M     | 0.329320637235633    \n",
      " DEAL_GRACE_DAYS_ACC_S1X1    | 0.0                  \n",
      " AVG_PCT_MONTH_TO_PCLOSE     | null                 \n",
      " DEAL_YWZ_IR_MIN             | 45.0                 \n",
      " SUM_TRAN_SUP_TENDENCY1M     | null                 \n",
      " DEAL_YWZ_IR_MAX             | 45.0                 \n",
      " SUM_TRAN_ATM_TENDENCY1M     | 0.16790105289165602  \n",
      " REST_DYNAMIC_PAYM_1M        | 0.0                  \n",
      " CNT_TRAN_SUP_TENDENCY1M     | null                 \n",
      " DEAL_GRACE_DAYS_ACC_AVG     | 0.0                  \n",
      " TURNOVER_DYNAMIC_CUR_3M     | 0.30374965665416803  \n",
      " PACK                        | 102                  \n",
      " MAX_PCLOSE_DATE             | null                 \n",
      " LDEAL_YQZ_PC                | null                 \n",
      " CLNT_SETUP_TENOR            | 5.48000105784548     \n",
      " DEAL_GRACE_DAYS_ACC_MAX     | 0.0                  \n",
      " TURNOVER_DYNAMIC_PAYM_3M    | 0.0                  \n",
      " LDEAL_DELINQ_PER_MAXYQZ     | null                 \n",
      " TURNOVER_DYNAMIC_PAYM_1M    | 0.0                  \n",
      " CLNT_SALARY_VALUE           | null                 \n",
      " TRANS_AMOUNT_TENDENCY3M     | 0.305106289785464    \n",
      " MED_DEBT_PRC_YQZ            | null                 \n",
      " TRANS_CNT_TENDENCY3M        | 0.34545454545454496  \n",
      " LDEAL_USED_AMT_AVG_YQZ      | null                 \n",
      " REST_DYNAMIC_CC_1M          | 0.0                  \n",
      " LDEAL_USED_AMT_AVG_YWZ      | 1.0                  \n",
      " TURNOVER_DYNAMIC_CC_1M      | 0.0                  \n",
      " AVG_PCT_DEBT_TO_DEAL_AMT    | null                 \n",
      " LDEAL_ACT_DAYS_ACC_PCT_AVG  | 0.003523608174770... \n",
      " REST_DYNAMIC_CC_3M          | 0.0                  \n",
      " MED_DEBT_PRC_YWZ            | 0.0                  \n",
      " LDEAL_ACT_DAYS_PCT_TR3      | 0.0                  \n",
      " LDEAL_ACT_DAYS_PCT_AAVG     | 0.0                  \n",
      " LDEAL_DELINQ_PER_MAXYWZ     | 0.0                  \n",
      " TURNOVER_DYNAMIC_CC_3M      | 0.0                  \n",
      " LDEAL_ACT_DAYS_PCT_TR       | 0.0                  \n",
      " LDEAL_ACT_DAYS_PCT_TR4      | 0.0                  \n",
      " LDEAL_ACT_DAYS_PCT_CURR     | 0.0                  \n",
      " TARGET                      | 0                    \n",
      "only showing top 1 row\n",
      "\n"
     ]
    }
   ],
   "source": [
    "train_df = spark.read.csv('/labs/slaba05/lab05_train.csv', header=True, sep=',', multiLine=True)\n",
    "train_df.show(1, vertical=True)"
   ]
  },
  {
   "cell_type": "code",
   "execution_count": 7,
   "metadata": {},
   "outputs": [
    {
     "data": {
      "text/plain": [
       "320764"
      ]
     },
     "execution_count": 7,
     "metadata": {},
     "output_type": "execute_result"
    }
   ],
   "source": [
    "train_df.count()"
   ]
  },
  {
   "cell_type": "code",
   "execution_count": 8,
   "metadata": {},
   "outputs": [
    {
     "data": {
      "text/plain": [
       "320764"
      ]
     },
     "execution_count": 8,
     "metadata": {},
     "output_type": "execute_result"
    }
   ],
   "source": [
    "train_df = train_df.na.drop(\"all\").drop_duplicates()\n",
    "train_df.count()"
   ]
  },
  {
   "cell_type": "code",
   "execution_count": 9,
   "metadata": {},
   "outputs": [
    {
     "name": "stdout",
     "output_type": "stream",
     "text": [
      "-RECORD 0-----------------------------\n",
      " _c0                         | 0      \n",
      " ID                          | 0      \n",
      " CR_PROD_CNT_IL              | 0      \n",
      " AMOUNT_RUB_CLO_PRC          | 34550  \n",
      " PRC_ACCEPTS_A_EMAIL_LINK    | 180814 \n",
      " APP_REGISTR_RGN_CODE        | 265914 \n",
      " PRC_ACCEPTS_A_POS           | 180814 \n",
      " PRC_ACCEPTS_A_TK            | 180814 \n",
      " TURNOVER_DYNAMIC_IL_1M      | 1      \n",
      " CNT_TRAN_AUT_TENDENCY1M     | 251229 \n",
      " SUM_TRAN_AUT_TENDENCY1M     | 251229 \n",
      " AMOUNT_RUB_SUP_PRC          | 34551  \n",
      " PRC_ACCEPTS_A_AMOBILE       | 180814 \n",
      " SUM_TRAN_AUT_TENDENCY3M     | 220560 \n",
      " CLNT_TRUST_RELATION         | 257829 \n",
      " PRC_ACCEPTS_TK              | 180814 \n",
      " PRC_ACCEPTS_A_MTP           | 180814 \n",
      " REST_DYNAMIC_FDEP_1M        | 1      \n",
      " CNT_TRAN_AUT_TENDENCY3M     | 220560 \n",
      " CNT_ACCEPTS_TK              | 180814 \n",
      " APP_MARITAL_STATUS          | 258989 \n",
      " REST_DYNAMIC_SAVE_3M        | 1      \n",
      " CR_PROD_CNT_VCU             | 1      \n",
      " REST_AVG_CUR                | 1      \n",
      " CNT_TRAN_MED_TENDENCY1M     | 258307 \n",
      " APP_KIND_OF_PROP_HABITATION | 267042 \n",
      " CLNT_JOB_POSITION_TYPE      | 280242 \n",
      " AMOUNT_RUB_NAS_PRC          | 34551  \n",
      " CLNT_JOB_POSITION           | 130371 \n",
      " APP_DRIVING_LICENSE         | 268868 \n",
      " TRANS_COUNT_SUP_PRC         | 34551  \n",
      " APP_EDUCATION               | 259099 \n",
      " CNT_TRAN_CLO_TENDENCY1M     | 260941 \n",
      " SUM_TRAN_MED_TENDENCY1M     | 258307 \n",
      " PRC_ACCEPTS_A_ATM           | 180814 \n",
      " PRC_ACCEPTS_MTP             | 180814 \n",
      " TRANS_COUNT_NAS_PRC         | 34551  \n",
      " APP_TRAVEL_PASS             | 268868 \n",
      " CNT_ACCEPTS_MTP             | 180814 \n",
      " CR_PROD_CNT_TOVR            | 1      \n",
      " APP_CAR                     | 268869 \n",
      " CR_PROD_CNT_PIL             | 1      \n",
      " SUM_TRAN_CLO_TENDENCY1M     | 260941 \n",
      " APP_POSITION_TYPE           | 265984 \n",
      " TURNOVER_CC                 | 1      \n",
      " TRANS_COUNT_ATM_PRC         | 34551  \n",
      " AMOUNT_RUB_ATM_PRC          | 34551  \n",
      " TURNOVER_PAYM               | 1      \n",
      " AGE                         | 1      \n",
      " CNT_TRAN_MED_TENDENCY3M     | 216119 \n",
      " CR_PROD_CNT_CC              | 1      \n",
      " SUM_TRAN_MED_TENDENCY3M     | 216119 \n",
      " REST_DYNAMIC_FDEP_3M        | 1      \n",
      " REST_DYNAMIC_IL_1M          | 1      \n",
      " APP_EMP_TYPE                | 259778 \n",
      " SUM_TRAN_CLO_TENDENCY3M     | 216989 \n",
      " LDEAL_TENOR_MAX             | 313405 \n",
      " LDEAL_YQZ_CHRG              | 319629 \n",
      " CR_PROD_CNT_CCFP            | 1      \n",
      " DEAL_YQZ_IR_MAX             | 313405 \n",
      " LDEAL_YQZ_COM               | 319635 \n",
      " DEAL_YQZ_IR_MIN             | 313405 \n",
      " CNT_TRAN_CLO_TENDENCY3M     | 216989 \n",
      " REST_DYNAMIC_CUR_1M         | 1      \n",
      " REST_AVG_PAYM               | 1      \n",
      " LDEAL_TENOR_MIN             | 313405 \n",
      " LDEAL_AMT_MONTH             | 319060 \n",
      " APP_COMP_TYPE               | 259778 \n",
      " LDEAL_GRACE_DAYS_PCT_MED    | 1      \n",
      " REST_DYNAMIC_CUR_3M         | 1      \n",
      " CNT_TRAN_SUP_TENDENCY3M     | 141235 \n",
      " TURNOVER_DYNAMIC_CUR_1M     | 1      \n",
      " REST_DYNAMIC_PAYM_3M        | 1      \n",
      " SUM_TRAN_SUP_TENDENCY3M     | 141235 \n",
      " REST_DYNAMIC_IL_3M          | 1      \n",
      " CNT_TRAN_ATM_TENDENCY3M     | 89923  \n",
      " CNT_TRAN_ATM_TENDENCY1M     | 134853 \n",
      " TURNOVER_DYNAMIC_IL_3M      | 1      \n",
      " SUM_TRAN_ATM_TENDENCY3M     | 89923  \n",
      " DEAL_GRACE_DAYS_ACC_S1X1    | 257149 \n",
      " AVG_PCT_MONTH_TO_PCLOSE     | 319296 \n",
      " DEAL_YWZ_IR_MIN             | 234276 \n",
      " SUM_TRAN_SUP_TENDENCY1M     | 179914 \n",
      " DEAL_YWZ_IR_MAX             | 234276 \n",
      " SUM_TRAN_ATM_TENDENCY1M     | 134853 \n",
      " REST_DYNAMIC_PAYM_1M        | 1      \n",
      " CNT_TRAN_SUP_TENDENCY1M     | 179914 \n",
      " DEAL_GRACE_DAYS_ACC_AVG     | 258071 \n",
      " TURNOVER_DYNAMIC_CUR_3M     | 1      \n",
      " PACK                        | 1      \n",
      " MAX_PCLOSE_DATE             | 319065 \n",
      " LDEAL_YQZ_PC                | 318213 \n",
      " CLNT_SETUP_TENOR            | 1      \n",
      " DEAL_GRACE_DAYS_ACC_MAX     | 258071 \n",
      " TURNOVER_DYNAMIC_PAYM_3M    | 1      \n",
      " LDEAL_DELINQ_PER_MAXYQZ     | 313405 \n",
      " TURNOVER_DYNAMIC_PAYM_1M    | 1      \n",
      " CLNT_SALARY_VALUE           | 320112 \n",
      " TRANS_AMOUNT_TENDENCY3M     | 46860  \n",
      " MED_DEBT_PRC_YQZ            | 313405 \n",
      " TRANS_CNT_TENDENCY3M        | 46860  \n",
      " LDEAL_USED_AMT_AVG_YQZ      | 313405 \n",
      " REST_DYNAMIC_CC_1M          | 1      \n",
      " LDEAL_USED_AMT_AVG_YWZ      | 234276 \n",
      " TURNOVER_DYNAMIC_CC_1M      | 1      \n",
      " AVG_PCT_DEBT_TO_DEAL_AMT    | 319060 \n",
      " LDEAL_ACT_DAYS_ACC_PCT_AVG  | 236350 \n",
      " REST_DYNAMIC_CC_3M          | 1      \n",
      " MED_DEBT_PRC_YWZ            | 234276 \n",
      " LDEAL_ACT_DAYS_PCT_TR3      | 236350 \n",
      " LDEAL_ACT_DAYS_PCT_AAVG     | 232072 \n",
      " LDEAL_DELINQ_PER_MAXYWZ     | 234276 \n",
      " TURNOVER_DYNAMIC_CC_3M      | 1      \n",
      " LDEAL_ACT_DAYS_PCT_TR       | 236350 \n",
      " LDEAL_ACT_DAYS_PCT_TR4      | 236350 \n",
      " LDEAL_ACT_DAYS_PCT_CURR     | 236350 \n",
      " TARGET                      | 1      \n",
      "\n"
     ]
    }
   ],
   "source": [
    "train_df.select([count(when(col(c).isNull(), c)).alias(c) for c in train_df.columns]).show(vertical=True)"
   ]
  },
  {
   "cell_type": "code",
   "execution_count": 10,
   "metadata": {},
   "outputs": [
    {
     "name": "stdout",
     "output_type": "stream",
     "text": [
      "-RECORD 0---------------------------------------\n",
      " ID                       | 285458              \n",
      " CR_PROD_CNT_IL           | 0                   \n",
      " AMOUNT_RUB_CLO_PRC       | 0.0                 \n",
      " TURNOVER_DYNAMIC_IL_1M   | 0.0                 \n",
      " AMOUNT_RUB_SUP_PRC       | 0.0                 \n",
      " REST_DYNAMIC_FDEP_1M     | 0.0                 \n",
      " REST_DYNAMIC_SAVE_3M     | 0.0                 \n",
      " CR_PROD_CNT_VCU          | 0                   \n",
      " REST_AVG_CUR             | 82438.1069          \n",
      " AMOUNT_RUB_NAS_PRC       | 0.0                 \n",
      " TRANS_COUNT_SUP_PRC      | 0.0                 \n",
      " TRANS_COUNT_NAS_PRC      | 0.0                 \n",
      " CR_PROD_CNT_TOVR         | 0                   \n",
      " CR_PROD_CNT_PIL          | 0                   \n",
      " TURNOVER_CC              | 0.0                 \n",
      " TRANS_COUNT_ATM_PRC      | 1.0                 \n",
      " AMOUNT_RUB_ATM_PRC       | 1.0                 \n",
      " TURNOVER_PAYM            | 0.0                 \n",
      " AGE                      | 528                 \n",
      " CR_PROD_CNT_CC           | 0                   \n",
      " REST_DYNAMIC_FDEP_3M     | 0.0                 \n",
      " REST_DYNAMIC_IL_1M       | 0.0                 \n",
      " CR_PROD_CNT_CCFP         | 0                   \n",
      " REST_DYNAMIC_CUR_1M      | 0.23313087263531    \n",
      " REST_AVG_PAYM            | 0.0                 \n",
      " LDEAL_GRACE_DAYS_PCT_MED | 0.0                 \n",
      " REST_DYNAMIC_CUR_3M      | 0.409293985538299   \n",
      " TURNOVER_DYNAMIC_CUR_1M  | 0.239200865888617   \n",
      " REST_DYNAMIC_PAYM_3M     | 0.0                 \n",
      " REST_DYNAMIC_IL_3M       | 0.0                 \n",
      " TURNOVER_DYNAMIC_IL_3M   | 0.0                 \n",
      " REST_DYNAMIC_PAYM_1M     | 0.0                 \n",
      " TURNOVER_DYNAMIC_CUR_3M  | 0.45893488821402506 \n",
      " PACK                     | K01                 \n",
      " CLNT_SETUP_TENOR         | 4.16022718787336    \n",
      " TURNOVER_DYNAMIC_PAYM_3M | 0.0                 \n",
      " TURNOVER_DYNAMIC_PAYM_1M | 0.0                 \n",
      " TRANS_AMOUNT_TENDENCY3M  | 0.428242501658975   \n",
      " REST_DYNAMIC_CC_1M       | 0.0                 \n",
      " TURNOVER_DYNAMIC_CC_1M   | 0.0                 \n",
      " REST_DYNAMIC_CC_3M       | 0.0                 \n",
      " TURNOVER_DYNAMIC_CC_3M   | 0.0                 \n",
      " TARGET                   | 0                   \n",
      "only showing top 1 row\n",
      "\n"
     ]
    }
   ],
   "source": [
    "select_col = [\"ID\", \"CR_PROD_CNT_IL\", \"AMOUNT_RUB_CLO_PRC\", \"TURNOVER_DYNAMIC_IL_1M\", \"AMOUNT_RUB_SUP_PRC\", \"REST_DYNAMIC_FDEP_1M\",\\\n",
    "             \"REST_DYNAMIC_SAVE_3M\", \"CR_PROD_CNT_VCU\", \"REST_AVG_CUR\", \"AMOUNT_RUB_NAS_PRC\", \"TRANS_COUNT_SUP_PRC\",\\\n",
    "             \"TRANS_COUNT_NAS_PRC\", \"CR_PROD_CNT_TOVR\", \"CR_PROD_CNT_PIL\", \"TURNOVER_CC\", \"TRANS_COUNT_ATM_PRC\",\\\n",
    "             \"AMOUNT_RUB_ATM_PRC\", \"TURNOVER_PAYM\", \"AGE\", \"CR_PROD_CNT_CC\", \"REST_DYNAMIC_FDEP_3M\", \"REST_DYNAMIC_IL_1M\",\\\n",
    "             \"CR_PROD_CNT_CCFP\", \"REST_DYNAMIC_CUR_1M\", \"REST_AVG_PAYM\", \"LDEAL_GRACE_DAYS_PCT_MED\", \"REST_DYNAMIC_CUR_3M\",\\\n",
    "             \"TURNOVER_DYNAMIC_CUR_1M\", \"REST_DYNAMIC_PAYM_3M\", \"REST_DYNAMIC_IL_3M\", \"TURNOVER_DYNAMIC_IL_3M\", \\\n",
    "             \"REST_DYNAMIC_PAYM_1M\", \"TURNOVER_DYNAMIC_CUR_3M\", \"PACK\", \"CLNT_SETUP_TENOR\", \"TURNOVER_DYNAMIC_PAYM_3M\",\\\n",
    "             \"TURNOVER_DYNAMIC_PAYM_1M\", \"TRANS_AMOUNT_TENDENCY3M\", \"REST_DYNAMIC_CC_1M\", \"TURNOVER_DYNAMIC_CC_1M\",\\\n",
    "             \"REST_DYNAMIC_CC_3M\", \"TURNOVER_DYNAMIC_CC_3M\", \"TARGET\"]\n",
    "\n",
    "train_df = train_df.select(select_col)\n",
    "train_df.show(1, vertical=True)"
   ]
  },
  {
   "cell_type": "code",
   "execution_count": 11,
   "metadata": {},
   "outputs": [
    {
     "data": {
      "text/plain": [
       "44399"
      ]
     },
     "execution_count": 11,
     "metadata": {},
     "output_type": "execute_result"
    }
   ],
   "source": [
    "test_df = spark.read.csv('/labs/slaba05/lab05_test.csv', header=True, sep=',', multiLine=True)\n",
    "test_df = test_df.select(select_col[:-1])\n",
    "test_df.count()"
   ]
  },
  {
   "cell_type": "code",
   "execution_count": 12,
   "metadata": {},
   "outputs": [
    {
     "name": "stdout",
     "output_type": "stream",
     "text": [
      "-RECORD 0------------------------\n",
      " ID                       | 0    \n",
      " CR_PROD_CNT_IL           | 0    \n",
      " AMOUNT_RUB_CLO_PRC       | 4794 \n",
      " TURNOVER_DYNAMIC_IL_1M   | 0    \n",
      " AMOUNT_RUB_SUP_PRC       | 4794 \n",
      " REST_DYNAMIC_FDEP_1M     | 0    \n",
      " REST_DYNAMIC_SAVE_3M     | 0    \n",
      " CR_PROD_CNT_VCU          | 0    \n",
      " REST_AVG_CUR             | 0    \n",
      " AMOUNT_RUB_NAS_PRC       | 4794 \n",
      " TRANS_COUNT_SUP_PRC      | 4794 \n",
      " TRANS_COUNT_NAS_PRC      | 4794 \n",
      " CR_PROD_CNT_TOVR         | 0    \n",
      " CR_PROD_CNT_PIL          | 0    \n",
      " TURNOVER_CC              | 0    \n",
      " TRANS_COUNT_ATM_PRC      | 4794 \n",
      " AMOUNT_RUB_ATM_PRC       | 4794 \n",
      " TURNOVER_PAYM            | 0    \n",
      " AGE                      | 0    \n",
      " CR_PROD_CNT_CC           | 0    \n",
      " REST_DYNAMIC_FDEP_3M     | 0    \n",
      " REST_DYNAMIC_IL_1M       | 0    \n",
      " CR_PROD_CNT_CCFP         | 0    \n",
      " REST_DYNAMIC_CUR_1M      | 0    \n",
      " REST_AVG_PAYM            | 0    \n",
      " LDEAL_GRACE_DAYS_PCT_MED | 0    \n",
      " REST_DYNAMIC_CUR_3M      | 0    \n",
      " TURNOVER_DYNAMIC_CUR_1M  | 0    \n",
      " REST_DYNAMIC_PAYM_3M     | 0    \n",
      " REST_DYNAMIC_IL_3M       | 0    \n",
      " TURNOVER_DYNAMIC_IL_3M   | 0    \n",
      " REST_DYNAMIC_PAYM_1M     | 0    \n",
      " TURNOVER_DYNAMIC_CUR_3M  | 0    \n",
      " PACK                     | 0    \n",
      " CLNT_SETUP_TENOR         | 0    \n",
      " TURNOVER_DYNAMIC_PAYM_3M | 0    \n",
      " TURNOVER_DYNAMIC_PAYM_1M | 0    \n",
      " TRANS_AMOUNT_TENDENCY3M  | 6511 \n",
      " REST_DYNAMIC_CC_1M       | 0    \n",
      " TURNOVER_DYNAMIC_CC_1M   | 0    \n",
      " REST_DYNAMIC_CC_3M       | 0    \n",
      " TURNOVER_DYNAMIC_CC_3M   | 0    \n",
      "\n"
     ]
    }
   ],
   "source": [
    "test_df.select([count(when(col(c).isNull(), c)).alias(c) for c in test_df.columns]).show(vertical=True)"
   ]
  },
  {
   "cell_type": "code",
   "execution_count": 13,
   "metadata": {},
   "outputs": [
    {
     "data": {
      "text/plain": [
       "[('ID', 'string'),\n",
       " ('CR_PROD_CNT_IL', 'string'),\n",
       " ('AMOUNT_RUB_CLO_PRC', 'string'),\n",
       " ('TURNOVER_DYNAMIC_IL_1M', 'string'),\n",
       " ('AMOUNT_RUB_SUP_PRC', 'string'),\n",
       " ('REST_DYNAMIC_FDEP_1M', 'string'),\n",
       " ('REST_DYNAMIC_SAVE_3M', 'string'),\n",
       " ('CR_PROD_CNT_VCU', 'string'),\n",
       " ('REST_AVG_CUR', 'string'),\n",
       " ('AMOUNT_RUB_NAS_PRC', 'string'),\n",
       " ('TRANS_COUNT_SUP_PRC', 'string'),\n",
       " ('TRANS_COUNT_NAS_PRC', 'string'),\n",
       " ('CR_PROD_CNT_TOVR', 'string'),\n",
       " ('CR_PROD_CNT_PIL', 'string'),\n",
       " ('TURNOVER_CC', 'string'),\n",
       " ('TRANS_COUNT_ATM_PRC', 'string'),\n",
       " ('AMOUNT_RUB_ATM_PRC', 'string'),\n",
       " ('TURNOVER_PAYM', 'string'),\n",
       " ('AGE', 'string'),\n",
       " ('CR_PROD_CNT_CC', 'string'),\n",
       " ('REST_DYNAMIC_FDEP_3M', 'string'),\n",
       " ('REST_DYNAMIC_IL_1M', 'string'),\n",
       " ('CR_PROD_CNT_CCFP', 'string'),\n",
       " ('REST_DYNAMIC_CUR_1M', 'string'),\n",
       " ('REST_AVG_PAYM', 'string'),\n",
       " ('LDEAL_GRACE_DAYS_PCT_MED', 'string'),\n",
       " ('REST_DYNAMIC_CUR_3M', 'string'),\n",
       " ('TURNOVER_DYNAMIC_CUR_1M', 'string'),\n",
       " ('REST_DYNAMIC_PAYM_3M', 'string'),\n",
       " ('REST_DYNAMIC_IL_3M', 'string'),\n",
       " ('TURNOVER_DYNAMIC_IL_3M', 'string'),\n",
       " ('REST_DYNAMIC_PAYM_1M', 'string'),\n",
       " ('TURNOVER_DYNAMIC_CUR_3M', 'string'),\n",
       " ('PACK', 'string'),\n",
       " ('CLNT_SETUP_TENOR', 'string'),\n",
       " ('TURNOVER_DYNAMIC_PAYM_3M', 'string'),\n",
       " ('TURNOVER_DYNAMIC_PAYM_1M', 'string'),\n",
       " ('TRANS_AMOUNT_TENDENCY3M', 'string'),\n",
       " ('REST_DYNAMIC_CC_1M', 'string'),\n",
       " ('TURNOVER_DYNAMIC_CC_1M', 'string'),\n",
       " ('REST_DYNAMIC_CC_3M', 'string'),\n",
       " ('TURNOVER_DYNAMIC_CC_3M', 'string'),\n",
       " ('TARGET', 'string')]"
      ]
     },
     "execution_count": 13,
     "metadata": {},
     "output_type": "execute_result"
    }
   ],
   "source": [
    "train_df.dtypes"
   ]
  },
  {
   "cell_type": "code",
   "execution_count": 14,
   "metadata": {},
   "outputs": [
    {
     "data": {
      "text/plain": [
       "[('ID', 'float'),\n",
       " ('CR_PROD_CNT_IL', 'float'),\n",
       " ('AMOUNT_RUB_CLO_PRC', 'float'),\n",
       " ('TURNOVER_DYNAMIC_IL_1M', 'float'),\n",
       " ('AMOUNT_RUB_SUP_PRC', 'float'),\n",
       " ('REST_DYNAMIC_FDEP_1M', 'float'),\n",
       " ('REST_DYNAMIC_SAVE_3M', 'float'),\n",
       " ('CR_PROD_CNT_VCU', 'float'),\n",
       " ('REST_AVG_CUR', 'float'),\n",
       " ('AMOUNT_RUB_NAS_PRC', 'float'),\n",
       " ('TRANS_COUNT_SUP_PRC', 'float'),\n",
       " ('TRANS_COUNT_NAS_PRC', 'float'),\n",
       " ('CR_PROD_CNT_TOVR', 'float'),\n",
       " ('CR_PROD_CNT_PIL', 'float'),\n",
       " ('TURNOVER_CC', 'float'),\n",
       " ('TRANS_COUNT_ATM_PRC', 'float'),\n",
       " ('AMOUNT_RUB_ATM_PRC', 'float'),\n",
       " ('TURNOVER_PAYM', 'float'),\n",
       " ('AGE', 'float'),\n",
       " ('CR_PROD_CNT_CC', 'float'),\n",
       " ('REST_DYNAMIC_FDEP_3M', 'float'),\n",
       " ('REST_DYNAMIC_IL_1M', 'float'),\n",
       " ('CR_PROD_CNT_CCFP', 'float'),\n",
       " ('REST_DYNAMIC_CUR_1M', 'float'),\n",
       " ('REST_AVG_PAYM', 'float'),\n",
       " ('LDEAL_GRACE_DAYS_PCT_MED', 'float'),\n",
       " ('REST_DYNAMIC_CUR_3M', 'float'),\n",
       " ('TURNOVER_DYNAMIC_CUR_1M', 'float'),\n",
       " ('REST_DYNAMIC_PAYM_3M', 'float'),\n",
       " ('REST_DYNAMIC_IL_3M', 'float'),\n",
       " ('TURNOVER_DYNAMIC_IL_3M', 'float'),\n",
       " ('REST_DYNAMIC_PAYM_1M', 'float'),\n",
       " ('TURNOVER_DYNAMIC_CUR_3M', 'float'),\n",
       " ('PACK', 'string'),\n",
       " ('CLNT_SETUP_TENOR', 'float'),\n",
       " ('TURNOVER_DYNAMIC_PAYM_3M', 'float'),\n",
       " ('TURNOVER_DYNAMIC_PAYM_1M', 'float'),\n",
       " ('TRANS_AMOUNT_TENDENCY3M', 'float'),\n",
       " ('REST_DYNAMIC_CC_1M', 'float'),\n",
       " ('TURNOVER_DYNAMIC_CC_1M', 'float'),\n",
       " ('REST_DYNAMIC_CC_3M', 'float'),\n",
       " ('TURNOVER_DYNAMIC_CC_3M', 'float'),\n",
       " ('TARGET', 'float')]"
      ]
     },
     "execution_count": 14,
     "metadata": {},
     "output_type": "execute_result"
    }
   ],
   "source": [
    "train_df = train_df.select([col(c).cast(FloatType()) if c != 'PACK' else col(c).cast(StringType()) for c in train_df.columns ])\n",
    "test_df = test_df.select([col(c).cast(FloatType()) if c != 'PACK' else col(c).cast(StringType()) for c in test_df.columns ])\n",
    "train_df.dtypes"
   ]
  },
  {
   "cell_type": "code",
   "execution_count": 15,
   "metadata": {},
   "outputs": [
    {
     "data": {
      "text/plain": [
       "[('ID', 'float'),\n",
       " ('CR_PROD_CNT_IL', 'float'),\n",
       " ('AMOUNT_RUB_CLO_PRC', 'float'),\n",
       " ('TURNOVER_DYNAMIC_IL_1M', 'float'),\n",
       " ('AMOUNT_RUB_SUP_PRC', 'float'),\n",
       " ('REST_DYNAMIC_FDEP_1M', 'float'),\n",
       " ('REST_DYNAMIC_SAVE_3M', 'float'),\n",
       " ('CR_PROD_CNT_VCU', 'float'),\n",
       " ('REST_AVG_CUR', 'float'),\n",
       " ('AMOUNT_RUB_NAS_PRC', 'float'),\n",
       " ('TRANS_COUNT_SUP_PRC', 'float'),\n",
       " ('TRANS_COUNT_NAS_PRC', 'float'),\n",
       " ('CR_PROD_CNT_TOVR', 'float'),\n",
       " ('CR_PROD_CNT_PIL', 'float'),\n",
       " ('TURNOVER_CC', 'float'),\n",
       " ('TRANS_COUNT_ATM_PRC', 'float'),\n",
       " ('AMOUNT_RUB_ATM_PRC', 'float'),\n",
       " ('TURNOVER_PAYM', 'float'),\n",
       " ('AGE', 'float'),\n",
       " ('CR_PROD_CNT_CC', 'float'),\n",
       " ('REST_DYNAMIC_FDEP_3M', 'float'),\n",
       " ('REST_DYNAMIC_IL_1M', 'float'),\n",
       " ('CR_PROD_CNT_CCFP', 'float'),\n",
       " ('REST_DYNAMIC_CUR_1M', 'float'),\n",
       " ('REST_AVG_PAYM', 'float'),\n",
       " ('LDEAL_GRACE_DAYS_PCT_MED', 'float'),\n",
       " ('REST_DYNAMIC_CUR_3M', 'float'),\n",
       " ('TURNOVER_DYNAMIC_CUR_1M', 'float'),\n",
       " ('REST_DYNAMIC_PAYM_3M', 'float'),\n",
       " ('REST_DYNAMIC_IL_3M', 'float'),\n",
       " ('TURNOVER_DYNAMIC_IL_3M', 'float'),\n",
       " ('REST_DYNAMIC_PAYM_1M', 'float'),\n",
       " ('TURNOVER_DYNAMIC_CUR_3M', 'float'),\n",
       " ('PACK', 'string'),\n",
       " ('CLNT_SETUP_TENOR', 'float'),\n",
       " ('TURNOVER_DYNAMIC_PAYM_3M', 'float'),\n",
       " ('TURNOVER_DYNAMIC_PAYM_1M', 'float'),\n",
       " ('TRANS_AMOUNT_TENDENCY3M', 'float'),\n",
       " ('REST_DYNAMIC_CC_1M', 'float'),\n",
       " ('TURNOVER_DYNAMIC_CC_1M', 'float'),\n",
       " ('REST_DYNAMIC_CC_3M', 'float'),\n",
       " ('TURNOVER_DYNAMIC_CC_3M', 'float')]"
      ]
     },
     "execution_count": 15,
     "metadata": {},
     "output_type": "execute_result"
    }
   ],
   "source": [
    "test_df.dtypes"
   ]
  },
  {
   "cell_type": "code",
   "execution_count": 16,
   "metadata": {},
   "outputs": [],
   "source": [
    "mode_list = [\"CR_PROD_CNT_VCU\", \"CR_PROD_CNT_TOVR\", \"CR_PROD_CNT_PIL\", \"CR_PROD_CNT_CC\", \"CR_PROD_CNT_CCFP\", \"AGE\", \"PACK\"]\n",
    "mean_list = [i for i in select_col[1:-1] if i not in (mode_list + [\"CR_PROD_CNT_IL\"])]"
   ]
  },
  {
   "cell_type": "code",
   "execution_count": 17,
   "metadata": {},
   "outputs": [],
   "source": [
    "for feature in mode_list:\n",
    "    value = sorted(train_df.groupby(feature).count().collect(), key=lambda x: x[1], reverse=True)[0][0]\n",
    "    train_df = train_df.na.fill(value=value, subset=[feature])\n",
    "    test_df = test_df.na.fill(value=value, subset=[feature])"
   ]
  },
  {
   "cell_type": "code",
   "execution_count": 18,
   "metadata": {},
   "outputs": [],
   "source": [
    "for feature in mean_list:\n",
    "    value = train_df.select(F.mean(F.col(feature))).collect()[0][0]\n",
    "    train_df = train_df.na.fill(value=value, subset=[feature])\n",
    "    test_df = test_df.na.fill(value=value, subset=[feature])"
   ]
  },
  {
   "cell_type": "code",
   "execution_count": 19,
   "metadata": {},
   "outputs": [
    {
     "name": "stdout",
     "output_type": "stream",
     "text": [
      "-RECORD 0-----------------------\n",
      " ID                       | 0   \n",
      " CR_PROD_CNT_IL           | 0   \n",
      " AMOUNT_RUB_CLO_PRC       | 0   \n",
      " TURNOVER_DYNAMIC_IL_1M   | 0   \n",
      " AMOUNT_RUB_SUP_PRC       | 0   \n",
      " REST_DYNAMIC_FDEP_1M     | 0   \n",
      " REST_DYNAMIC_SAVE_3M     | 0   \n",
      " CR_PROD_CNT_VCU          | 0   \n",
      " REST_AVG_CUR             | 0   \n",
      " AMOUNT_RUB_NAS_PRC       | 0   \n",
      " TRANS_COUNT_SUP_PRC      | 0   \n",
      " TRANS_COUNT_NAS_PRC      | 0   \n",
      " CR_PROD_CNT_TOVR         | 0   \n",
      " CR_PROD_CNT_PIL          | 0   \n",
      " TURNOVER_CC              | 0   \n",
      " TRANS_COUNT_ATM_PRC      | 0   \n",
      " AMOUNT_RUB_ATM_PRC       | 0   \n",
      " TURNOVER_PAYM            | 0   \n",
      " AGE                      | 0   \n",
      " CR_PROD_CNT_CC           | 0   \n",
      " REST_DYNAMIC_FDEP_3M     | 0   \n",
      " REST_DYNAMIC_IL_1M       | 0   \n",
      " CR_PROD_CNT_CCFP         | 0   \n",
      " REST_DYNAMIC_CUR_1M      | 0   \n",
      " REST_AVG_PAYM            | 0   \n",
      " LDEAL_GRACE_DAYS_PCT_MED | 0   \n",
      " REST_DYNAMIC_CUR_3M      | 0   \n",
      " TURNOVER_DYNAMIC_CUR_1M  | 0   \n",
      " REST_DYNAMIC_PAYM_3M     | 0   \n",
      " REST_DYNAMIC_IL_3M       | 0   \n",
      " TURNOVER_DYNAMIC_IL_3M   | 0   \n",
      " REST_DYNAMIC_PAYM_1M     | 0   \n",
      " TURNOVER_DYNAMIC_CUR_3M  | 0   \n",
      " PACK                     | 0   \n",
      " CLNT_SETUP_TENOR         | 0   \n",
      " TURNOVER_DYNAMIC_PAYM_3M | 0   \n",
      " TURNOVER_DYNAMIC_PAYM_1M | 0   \n",
      " TRANS_AMOUNT_TENDENCY3M  | 0   \n",
      " REST_DYNAMIC_CC_1M       | 0   \n",
      " TURNOVER_DYNAMIC_CC_1M   | 0   \n",
      " REST_DYNAMIC_CC_3M       | 0   \n",
      " TURNOVER_DYNAMIC_CC_3M   | 0   \n",
      " TARGET                   | 1   \n",
      "\n"
     ]
    }
   ],
   "source": [
    "train_df.select([count(when(col(c).isNull(), c)).alias(c) for c in train_df.columns]).show(vertical=True)"
   ]
  },
  {
   "cell_type": "code",
   "execution_count": 20,
   "metadata": {},
   "outputs": [
    {
     "name": "stdout",
     "output_type": "stream",
     "text": [
      "-RECORD 0-----------------------\n",
      " ID                       | 0   \n",
      " CR_PROD_CNT_IL           | 0   \n",
      " AMOUNT_RUB_CLO_PRC       | 0   \n",
      " TURNOVER_DYNAMIC_IL_1M   | 0   \n",
      " AMOUNT_RUB_SUP_PRC       | 0   \n",
      " REST_DYNAMIC_FDEP_1M     | 0   \n",
      " REST_DYNAMIC_SAVE_3M     | 0   \n",
      " CR_PROD_CNT_VCU          | 0   \n",
      " REST_AVG_CUR             | 0   \n",
      " AMOUNT_RUB_NAS_PRC       | 0   \n",
      " TRANS_COUNT_SUP_PRC      | 0   \n",
      " TRANS_COUNT_NAS_PRC      | 0   \n",
      " CR_PROD_CNT_TOVR         | 0   \n",
      " CR_PROD_CNT_PIL          | 0   \n",
      " TURNOVER_CC              | 0   \n",
      " TRANS_COUNT_ATM_PRC      | 0   \n",
      " AMOUNT_RUB_ATM_PRC       | 0   \n",
      " TURNOVER_PAYM            | 0   \n",
      " AGE                      | 0   \n",
      " CR_PROD_CNT_CC           | 0   \n",
      " REST_DYNAMIC_FDEP_3M     | 0   \n",
      " REST_DYNAMIC_IL_1M       | 0   \n",
      " CR_PROD_CNT_CCFP         | 0   \n",
      " REST_DYNAMIC_CUR_1M      | 0   \n",
      " REST_AVG_PAYM            | 0   \n",
      " LDEAL_GRACE_DAYS_PCT_MED | 0   \n",
      " REST_DYNAMIC_CUR_3M      | 0   \n",
      " TURNOVER_DYNAMIC_CUR_1M  | 0   \n",
      " REST_DYNAMIC_PAYM_3M     | 0   \n",
      " REST_DYNAMIC_IL_3M       | 0   \n",
      " TURNOVER_DYNAMIC_IL_3M   | 0   \n",
      " REST_DYNAMIC_PAYM_1M     | 0   \n",
      " TURNOVER_DYNAMIC_CUR_3M  | 0   \n",
      " PACK                     | 0   \n",
      " CLNT_SETUP_TENOR         | 0   \n",
      " TURNOVER_DYNAMIC_PAYM_3M | 0   \n",
      " TURNOVER_DYNAMIC_PAYM_1M | 0   \n",
      " TRANS_AMOUNT_TENDENCY3M  | 0   \n",
      " REST_DYNAMIC_CC_1M       | 0   \n",
      " TURNOVER_DYNAMIC_CC_1M   | 0   \n",
      " REST_DYNAMIC_CC_3M       | 0   \n",
      " TURNOVER_DYNAMIC_CC_3M   | 0   \n",
      "\n"
     ]
    }
   ],
   "source": [
    "test_df.select([count(when(col(c).isNull(), c)).alias(c) for c in test_df.columns]).show(vertical=True)"
   ]
  },
  {
   "cell_type": "code",
   "execution_count": 21,
   "metadata": {},
   "outputs": [],
   "source": [
    "from pyspark.ml.feature import CountVectorizer, RegexTokenizer\n",
    "from pyspark.ml.linalg import Vectors, VectorUDT\n",
    "convert_dense = F.udf(lambda vector: Vectors.dense(vector), VectorUDT())"
   ]
  },
  {
   "cell_type": "code",
   "execution_count": 22,
   "metadata": {},
   "outputs": [],
   "source": [
    "tokenizer = RegexTokenizer(inputCol='PACK', outputCol='PACK_TOKENS', pattern=\",\")\n",
    "cv = CountVectorizer(inputCol='PACK_TOKENS', outputCol=\"PACK_VECTOR\")"
   ]
  },
  {
   "cell_type": "code",
   "execution_count": 23,
   "metadata": {},
   "outputs": [],
   "source": [
    "train_df = tokenizer.transform(train_df)\n",
    "cv_model = cv.fit(train_df)\n",
    "train_df = cv_model.transform(train_df)"
   ]
  },
  {
   "cell_type": "code",
   "execution_count": 24,
   "metadata": {},
   "outputs": [
    {
     "name": "stdout",
     "output_type": "stream",
     "text": [
      "-RECORD 0----------------------------------\n",
      " ID                       | 285458.0       \n",
      " CR_PROD_CNT_IL           | 0.0            \n",
      " AMOUNT_RUB_CLO_PRC       | 0.0            \n",
      " TURNOVER_DYNAMIC_IL_1M   | 0.0            \n",
      " AMOUNT_RUB_SUP_PRC       | 0.0            \n",
      " REST_DYNAMIC_FDEP_1M     | 0.0            \n",
      " REST_DYNAMIC_SAVE_3M     | 0.0            \n",
      " CR_PROD_CNT_VCU          | 0.0            \n",
      " REST_AVG_CUR             | 82438.11       \n",
      " AMOUNT_RUB_NAS_PRC       | 0.0            \n",
      " TRANS_COUNT_SUP_PRC      | 0.0            \n",
      " TRANS_COUNT_NAS_PRC      | 0.0            \n",
      " CR_PROD_CNT_TOVR         | 0.0            \n",
      " CR_PROD_CNT_PIL          | 0.0            \n",
      " TURNOVER_CC              | 0.0            \n",
      " TRANS_COUNT_ATM_PRC      | 1.0            \n",
      " AMOUNT_RUB_ATM_PRC       | 1.0            \n",
      " TURNOVER_PAYM            | 0.0            \n",
      " AGE                      | 528.0          \n",
      " CR_PROD_CNT_CC           | 0.0            \n",
      " REST_DYNAMIC_FDEP_3M     | 0.0            \n",
      " REST_DYNAMIC_IL_1M       | 0.0            \n",
      " CR_PROD_CNT_CCFP         | 0.0            \n",
      " REST_DYNAMIC_CUR_1M      | 0.23313087     \n",
      " REST_AVG_PAYM            | 0.0            \n",
      " LDEAL_GRACE_DAYS_PCT_MED | 0.0            \n",
      " REST_DYNAMIC_CUR_3M      | 0.40929398     \n",
      " TURNOVER_DYNAMIC_CUR_1M  | 0.23920086     \n",
      " REST_DYNAMIC_PAYM_3M     | 0.0            \n",
      " REST_DYNAMIC_IL_3M       | 0.0            \n",
      " TURNOVER_DYNAMIC_IL_3M   | 0.0            \n",
      " REST_DYNAMIC_PAYM_1M     | 0.0            \n",
      " TURNOVER_DYNAMIC_CUR_3M  | 0.45893487     \n",
      " PACK                     | K01            \n",
      " CLNT_SETUP_TENOR         | 4.1602273      \n",
      " TURNOVER_DYNAMIC_PAYM_3M | 0.0            \n",
      " TURNOVER_DYNAMIC_PAYM_1M | 0.0            \n",
      " TRANS_AMOUNT_TENDENCY3M  | 0.4282425      \n",
      " REST_DYNAMIC_CC_1M       | 0.0            \n",
      " TURNOVER_DYNAMIC_CC_1M   | 0.0            \n",
      " REST_DYNAMIC_CC_3M       | 0.0            \n",
      " TURNOVER_DYNAMIC_CC_3M   | 0.0            \n",
      " TARGET                   | 0.0            \n",
      " PACK_TOKENS              | [k01]          \n",
      " PACK_VECTOR              | (12,[1],[1.0]) \n",
      "only showing top 1 row\n",
      "\n"
     ]
    }
   ],
   "source": [
    "train_df.show(1, vertical=True)"
   ]
  },
  {
   "cell_type": "code",
   "execution_count": 25,
   "metadata": {},
   "outputs": [
    {
     "name": "stdout",
     "output_type": "stream",
     "text": [
      "-RECORD 0----------------------------------------\n",
      " ID                       | 285458.0             \n",
      " CR_PROD_CNT_IL           | 0.0                  \n",
      " AMOUNT_RUB_CLO_PRC       | 0.0                  \n",
      " TURNOVER_DYNAMIC_IL_1M   | 0.0                  \n",
      " AMOUNT_RUB_SUP_PRC       | 0.0                  \n",
      " REST_DYNAMIC_FDEP_1M     | 0.0                  \n",
      " REST_DYNAMIC_SAVE_3M     | 0.0                  \n",
      " CR_PROD_CNT_VCU          | 0.0                  \n",
      " REST_AVG_CUR             | 82438.11             \n",
      " AMOUNT_RUB_NAS_PRC       | 0.0                  \n",
      " TRANS_COUNT_SUP_PRC      | 0.0                  \n",
      " TRANS_COUNT_NAS_PRC      | 0.0                  \n",
      " CR_PROD_CNT_TOVR         | 0.0                  \n",
      " CR_PROD_CNT_PIL          | 0.0                  \n",
      " TURNOVER_CC              | 0.0                  \n",
      " TRANS_COUNT_ATM_PRC      | 1.0                  \n",
      " AMOUNT_RUB_ATM_PRC       | 1.0                  \n",
      " TURNOVER_PAYM            | 0.0                  \n",
      " AGE                      | 528.0                \n",
      " CR_PROD_CNT_CC           | 0.0                  \n",
      " REST_DYNAMIC_FDEP_3M     | 0.0                  \n",
      " REST_DYNAMIC_IL_1M       | 0.0                  \n",
      " CR_PROD_CNT_CCFP         | 0.0                  \n",
      " REST_DYNAMIC_CUR_1M      | 0.23313087           \n",
      " REST_AVG_PAYM            | 0.0                  \n",
      " LDEAL_GRACE_DAYS_PCT_MED | 0.0                  \n",
      " REST_DYNAMIC_CUR_3M      | 0.40929398           \n",
      " TURNOVER_DYNAMIC_CUR_1M  | 0.23920086           \n",
      " REST_DYNAMIC_PAYM_3M     | 0.0                  \n",
      " REST_DYNAMIC_IL_3M       | 0.0                  \n",
      " TURNOVER_DYNAMIC_IL_3M   | 0.0                  \n",
      " REST_DYNAMIC_PAYM_1M     | 0.0                  \n",
      " TURNOVER_DYNAMIC_CUR_3M  | 0.45893487           \n",
      " PACK                     | K01                  \n",
      " CLNT_SETUP_TENOR         | 4.1602273            \n",
      " TURNOVER_DYNAMIC_PAYM_3M | 0.0                  \n",
      " TURNOVER_DYNAMIC_PAYM_1M | 0.0                  \n",
      " TRANS_AMOUNT_TENDENCY3M  | 0.4282425            \n",
      " REST_DYNAMIC_CC_1M       | 0.0                  \n",
      " TURNOVER_DYNAMIC_CC_1M   | 0.0                  \n",
      " REST_DYNAMIC_CC_3M       | 0.0                  \n",
      " TURNOVER_DYNAMIC_CC_3M   | 0.0                  \n",
      " TARGET                   | 0.0                  \n",
      " PACK_TOKENS              | [k01]                \n",
      " PACK_VECTOR              | [0.0,1.0,0.0,0.0,... \n",
      "only showing top 1 row\n",
      "\n"
     ]
    }
   ],
   "source": [
    "train_df = train_df.withColumn('PACK_VECTOR', convert_dense('PACK_VECTOR'))\n",
    "train_df.show(1, vertical=True)"
   ]
  },
  {
   "cell_type": "code",
   "execution_count": 26,
   "metadata": {},
   "outputs": [
    {
     "name": "stdout",
     "output_type": "stream",
     "text": [
      "-RECORD 0----------------------------------------\n",
      " ID                       | 519130.0             \n",
      " CR_PROD_CNT_IL           | 0.0                  \n",
      " AMOUNT_RUB_CLO_PRC       | 0.0                  \n",
      " TURNOVER_DYNAMIC_IL_1M   | 0.0                  \n",
      " AMOUNT_RUB_SUP_PRC       | 0.0                  \n",
      " REST_DYNAMIC_FDEP_1M     | 0.0                  \n",
      " REST_DYNAMIC_SAVE_3M     | 1.0                  \n",
      " CR_PROD_CNT_VCU          | 0.0                  \n",
      " REST_AVG_CUR             | 13916.819            \n",
      " AMOUNT_RUB_NAS_PRC       | 0.0                  \n",
      " TRANS_COUNT_SUP_PRC      | 0.0                  \n",
      " TRANS_COUNT_NAS_PRC      | 0.0                  \n",
      " CR_PROD_CNT_TOVR         | 0.0                  \n",
      " CR_PROD_CNT_PIL          | 0.0                  \n",
      " TURNOVER_CC              | 0.0                  \n",
      " TRANS_COUNT_ATM_PRC      | 1.0                  \n",
      " AMOUNT_RUB_ATM_PRC       | 1.0                  \n",
      " TURNOVER_PAYM            | 0.0                  \n",
      " AGE                      | 240.0                \n",
      " CR_PROD_CNT_CC           | 0.0                  \n",
      " REST_DYNAMIC_FDEP_3M     | 0.0                  \n",
      " REST_DYNAMIC_IL_1M       | 0.0                  \n",
      " CR_PROD_CNT_CCFP         | 0.0                  \n",
      " REST_DYNAMIC_CUR_1M      | 0.47978917           \n",
      " REST_AVG_PAYM            | 0.0                  \n",
      " LDEAL_GRACE_DAYS_PCT_MED | 0.0                  \n",
      " REST_DYNAMIC_CUR_3M      | 1.0                  \n",
      " TURNOVER_DYNAMIC_CUR_1M  | 0.6401124            \n",
      " REST_DYNAMIC_PAYM_3M     | 0.0                  \n",
      " REST_DYNAMIC_IL_3M       | 0.0                  \n",
      " TURNOVER_DYNAMIC_IL_3M   | 0.0                  \n",
      " REST_DYNAMIC_PAYM_1M     | 0.0                  \n",
      " TURNOVER_DYNAMIC_CUR_3M  | 1.0                  \n",
      " PACK                     | K01                  \n",
      " CLNT_SETUP_TENOR         | 0.5713989            \n",
      " TURNOVER_DYNAMIC_PAYM_3M | 0.0                  \n",
      " TURNOVER_DYNAMIC_PAYM_1M | 0.0                  \n",
      " TRANS_AMOUNT_TENDENCY3M  | 1.0                  \n",
      " REST_DYNAMIC_CC_1M       | 0.0                  \n",
      " TURNOVER_DYNAMIC_CC_1M   | 0.0                  \n",
      " REST_DYNAMIC_CC_3M       | 0.0                  \n",
      " TURNOVER_DYNAMIC_CC_3M   | 0.0                  \n",
      " PACK_TOKENS              | [k01]                \n",
      " PACK_VECTOR              | [0.0,1.0,0.0,0.0,... \n",
      "only showing top 1 row\n",
      "\n"
     ]
    }
   ],
   "source": [
    "test_df = tokenizer.transform(test_df)\n",
    "test_df = cv_model.transform(test_df)\n",
    "test_df = test_df.withColumn('PACK_VECTOR', convert_dense('PACK_VECTOR'))\n",
    "test_df.show(1, vertical=True)"
   ]
  },
  {
   "cell_type": "code",
   "execution_count": 27,
   "metadata": {},
   "outputs": [],
   "source": [
    "from pyspark.ml.feature import VectorAssembler"
   ]
  },
  {
   "cell_type": "code",
   "execution_count": 28,
   "metadata": {},
   "outputs": [],
   "source": [
    "vec_assembler = VectorAssembler(inputCols=(mode_list[:-1] + mean_list + ['PACK_VECTOR']), outputCol=\"features\")"
   ]
  },
  {
   "cell_type": "code",
   "execution_count": 29,
   "metadata": {},
   "outputs": [
    {
     "name": "stdout",
     "output_type": "stream",
     "text": [
      "-RECORD 0----------------------------------------\n",
      " ID                       | 285458.0             \n",
      " CR_PROD_CNT_IL           | 0.0                  \n",
      " AMOUNT_RUB_CLO_PRC       | 0.0                  \n",
      " TURNOVER_DYNAMIC_IL_1M   | 0.0                  \n",
      " AMOUNT_RUB_SUP_PRC       | 0.0                  \n",
      " REST_DYNAMIC_FDEP_1M     | 0.0                  \n",
      " REST_DYNAMIC_SAVE_3M     | 0.0                  \n",
      " CR_PROD_CNT_VCU          | 0.0                  \n",
      " REST_AVG_CUR             | 82438.11             \n",
      " AMOUNT_RUB_NAS_PRC       | 0.0                  \n",
      " TRANS_COUNT_SUP_PRC      | 0.0                  \n",
      " TRANS_COUNT_NAS_PRC      | 0.0                  \n",
      " CR_PROD_CNT_TOVR         | 0.0                  \n",
      " CR_PROD_CNT_PIL          | 0.0                  \n",
      " TURNOVER_CC              | 0.0                  \n",
      " TRANS_COUNT_ATM_PRC      | 1.0                  \n",
      " AMOUNT_RUB_ATM_PRC       | 1.0                  \n",
      " TURNOVER_PAYM            | 0.0                  \n",
      " AGE                      | 528.0                \n",
      " CR_PROD_CNT_CC           | 0.0                  \n",
      " REST_DYNAMIC_FDEP_3M     | 0.0                  \n",
      " REST_DYNAMIC_IL_1M       | 0.0                  \n",
      " CR_PROD_CNT_CCFP         | 0.0                  \n",
      " REST_DYNAMIC_CUR_1M      | 0.23313087           \n",
      " REST_AVG_PAYM            | 0.0                  \n",
      " LDEAL_GRACE_DAYS_PCT_MED | 0.0                  \n",
      " REST_DYNAMIC_CUR_3M      | 0.40929398           \n",
      " TURNOVER_DYNAMIC_CUR_1M  | 0.23920086           \n",
      " REST_DYNAMIC_PAYM_3M     | 0.0                  \n",
      " REST_DYNAMIC_IL_3M       | 0.0                  \n",
      " TURNOVER_DYNAMIC_IL_3M   | 0.0                  \n",
      " REST_DYNAMIC_PAYM_1M     | 0.0                  \n",
      " TURNOVER_DYNAMIC_CUR_3M  | 0.45893487           \n",
      " PACK                     | K01                  \n",
      " CLNT_SETUP_TENOR         | 4.1602273            \n",
      " TURNOVER_DYNAMIC_PAYM_3M | 0.0                  \n",
      " TURNOVER_DYNAMIC_PAYM_1M | 0.0                  \n",
      " TRANS_AMOUNT_TENDENCY3M  | 0.4282425            \n",
      " REST_DYNAMIC_CC_1M       | 0.0                  \n",
      " TURNOVER_DYNAMIC_CC_1M   | 0.0                  \n",
      " REST_DYNAMIC_CC_3M       | 0.0                  \n",
      " TURNOVER_DYNAMIC_CC_3M   | 0.0                  \n",
      " TARGET                   | 0.0                  \n",
      " PACK_TOKENS              | [k01]                \n",
      " PACK_VECTOR              | [0.0,1.0,0.0,0.0,... \n",
      " features                 | (51,[5,11,16,17,2... \n",
      "only showing top 1 row\n",
      "\n"
     ]
    }
   ],
   "source": [
    "train_df = vec_assembler.transform(train_df)\n",
    "train_df.show(1, vertical=True)"
   ]
  },
  {
   "cell_type": "code",
   "execution_count": 30,
   "metadata": {},
   "outputs": [
    {
     "name": "stdout",
     "output_type": "stream",
     "text": [
      "-RECORD 0----------------------------------------\n",
      " ID                       | 519130.0             \n",
      " CR_PROD_CNT_IL           | 0.0                  \n",
      " AMOUNT_RUB_CLO_PRC       | 0.0                  \n",
      " TURNOVER_DYNAMIC_IL_1M   | 0.0                  \n",
      " AMOUNT_RUB_SUP_PRC       | 0.0                  \n",
      " REST_DYNAMIC_FDEP_1M     | 0.0                  \n",
      " REST_DYNAMIC_SAVE_3M     | 1.0                  \n",
      " CR_PROD_CNT_VCU          | 0.0                  \n",
      " REST_AVG_CUR             | 13916.819            \n",
      " AMOUNT_RUB_NAS_PRC       | 0.0                  \n",
      " TRANS_COUNT_SUP_PRC      | 0.0                  \n",
      " TRANS_COUNT_NAS_PRC      | 0.0                  \n",
      " CR_PROD_CNT_TOVR         | 0.0                  \n",
      " CR_PROD_CNT_PIL          | 0.0                  \n",
      " TURNOVER_CC              | 0.0                  \n",
      " TRANS_COUNT_ATM_PRC      | 1.0                  \n",
      " AMOUNT_RUB_ATM_PRC       | 1.0                  \n",
      " TURNOVER_PAYM            | 0.0                  \n",
      " AGE                      | 240.0                \n",
      " CR_PROD_CNT_CC           | 0.0                  \n",
      " REST_DYNAMIC_FDEP_3M     | 0.0                  \n",
      " REST_DYNAMIC_IL_1M       | 0.0                  \n",
      " CR_PROD_CNT_CCFP         | 0.0                  \n",
      " REST_DYNAMIC_CUR_1M      | 0.47978917           \n",
      " REST_AVG_PAYM            | 0.0                  \n",
      " LDEAL_GRACE_DAYS_PCT_MED | 0.0                  \n",
      " REST_DYNAMIC_CUR_3M      | 1.0                  \n",
      " TURNOVER_DYNAMIC_CUR_1M  | 0.6401124            \n",
      " REST_DYNAMIC_PAYM_3M     | 0.0                  \n",
      " REST_DYNAMIC_IL_3M       | 0.0                  \n",
      " TURNOVER_DYNAMIC_IL_3M   | 0.0                  \n",
      " REST_DYNAMIC_PAYM_1M     | 0.0                  \n",
      " TURNOVER_DYNAMIC_CUR_3M  | 1.0                  \n",
      " PACK                     | K01                  \n",
      " CLNT_SETUP_TENOR         | 0.5713989            \n",
      " TURNOVER_DYNAMIC_PAYM_3M | 0.0                  \n",
      " TURNOVER_DYNAMIC_PAYM_1M | 0.0                  \n",
      " TRANS_AMOUNT_TENDENCY3M  | 1.0                  \n",
      " REST_DYNAMIC_CC_1M       | 0.0                  \n",
      " TURNOVER_DYNAMIC_CC_1M   | 0.0                  \n",
      " REST_DYNAMIC_CC_3M       | 0.0                  \n",
      " TURNOVER_DYNAMIC_CC_3M   | 0.0                  \n",
      " PACK_TOKENS              | [k01]                \n",
      " PACK_VECTOR              | [0.0,1.0,0.0,0.0,... \n",
      " features                 | (51,[5,10,11,16,1... \n",
      "only showing top 1 row\n",
      "\n"
     ]
    }
   ],
   "source": [
    "test_df = vec_assembler.transform(test_df)\n",
    "test_df.show(1, vertical=True)"
   ]
  },
  {
   "cell_type": "code",
   "execution_count": 31,
   "metadata": {},
   "outputs": [],
   "source": [
    "train_dataset = train_df.sampleBy('TARGET', fractions={0:0.8, 1:0.8}, seed=5757).cache()\n",
    "valid_dataset = train_df.join(train_dataset, on=\"ID\", how=\"leftanti\").cache()"
   ]
  },
  {
   "cell_type": "code",
   "execution_count": 32,
   "metadata": {},
   "outputs": [
    {
     "data": {
      "text/plain": [
       "256666"
      ]
     },
     "execution_count": 32,
     "metadata": {},
     "output_type": "execute_result"
    }
   ],
   "source": [
    "train_dataset.count()"
   ]
  },
  {
   "cell_type": "code",
   "execution_count": 33,
   "metadata": {},
   "outputs": [
    {
     "data": {
      "text/plain": [
       "64098"
      ]
     },
     "execution_count": 33,
     "metadata": {},
     "output_type": "execute_result"
    }
   ],
   "source": [
    "valid_dataset.count()"
   ]
  },
  {
   "cell_type": "code",
   "execution_count": 34,
   "metadata": {},
   "outputs": [],
   "source": [
    "valid_dataset = valid_dataset.na.drop(\"any\")"
   ]
  },
  {
   "cell_type": "code",
   "execution_count": 35,
   "metadata": {},
   "outputs": [],
   "source": [
    "from pyspark.ml.evaluation import BinaryClassificationEvaluator\n",
    "from pyspark.ml.classification import GBTClassifier"
   ]
  },
  {
   "cell_type": "code",
   "execution_count": 36,
   "metadata": {},
   "outputs": [],
   "source": [
    "gbt = GBTClassifier(featuresCol='features', labelCol='TARGET', maxDepth=3, maxIter=25, stepSize=0.1)\n",
    "evaluator = BinaryClassificationEvaluator(rawPredictionCol=\"probability\", labelCol=\"TARGET\", metricName='areaUnderROC')"
   ]
  },
  {
   "cell_type": "code",
   "execution_count": 37,
   "metadata": {},
   "outputs": [],
   "source": [
    "model_gbt = gbt.fit(train_dataset)"
   ]
  },
  {
   "cell_type": "code",
   "execution_count": 38,
   "metadata": {},
   "outputs": [
    {
     "data": {
      "text/plain": [
       "0.805999423022986"
      ]
     },
     "execution_count": 38,
     "metadata": {},
     "output_type": "execute_result"
    }
   ],
   "source": [
    "predictions_train = model_gbt.transform(train_dataset)\n",
    "evaluator.evaluate(predictions_train)"
   ]
  },
  {
   "cell_type": "code",
   "execution_count": 39,
   "metadata": {},
   "outputs": [
    {
     "data": {
      "text/plain": [
       "0.8051405571718617"
      ]
     },
     "execution_count": 39,
     "metadata": {},
     "output_type": "execute_result"
    }
   ],
   "source": [
    "predictions_valid = model_gbt.transform(valid_dataset)\n",
    "evaluator.evaluate(predictions_valid)"
   ]
  },
  {
   "cell_type": "code",
   "execution_count": 40,
   "metadata": {},
   "outputs": [
    {
     "name": "stdout",
     "output_type": "stream",
     "text": [
      "+--------+--------------------+\n",
      "|      ID|         probability|\n",
      "+--------+--------------------+\n",
      "|519130.0|[0.84736766117766...|\n",
      "|234045.0|[0.95550500092477...|\n",
      "|401256.0|[0.95661738805764...|\n",
      "|551070.0|[0.93641680293479...|\n",
      "|367285.0|[0.94864863509573...|\n",
      "+--------+--------------------+\n",
      "only showing top 5 rows\n",
      "\n"
     ]
    }
   ],
   "source": [
    "predictions_test = model_gbt.transform(test_df)\n",
    "predictions_test = predictions_test.select(\"ID\", \"probability\")\n",
    "predictions_test.show(5)"
   ]
  },
  {
   "cell_type": "code",
   "execution_count": 41,
   "metadata": {},
   "outputs": [
    {
     "name": "stdout",
     "output_type": "stream",
     "text": [
      "+------+--------------------+\n",
      "|    ID|         probability|\n",
      "+------+--------------------+\n",
      "|519130|[0.84736766117766...|\n",
      "|234045|[0.95550500092477...|\n",
      "|401256|[0.95661738805764...|\n",
      "|551070|[0.93641680293479...|\n",
      "|367285|[0.94864863509573...|\n",
      "+------+--------------------+\n",
      "only showing top 5 rows\n",
      "\n"
     ]
    }
   ],
   "source": [
    "predictions_test = predictions_test.withColumn(\"ID\", col(\"ID\").cast(IntegerType()))\n",
    "predictions_test.show(5)"
   ]
  },
  {
   "cell_type": "code",
   "execution_count": 42,
   "metadata": {},
   "outputs": [],
   "source": [
    "udf_proba = F.udf(lambda x: float(x[1]), FloatType())"
   ]
  },
  {
   "cell_type": "code",
   "execution_count": 43,
   "metadata": {},
   "outputs": [
    {
     "name": "stdout",
     "output_type": "stream",
     "text": [
      "+------+--------------------+-----------+\n",
      "|    ID|         probability|     target|\n",
      "+------+--------------------+-----------+\n",
      "|519130|[0.84736766117766...| 0.15263234|\n",
      "|234045|[0.95550500092477...|0.044494998|\n",
      "|401256|[0.95661738805764...| 0.04338261|\n",
      "|551070|[0.93641680293479...|0.063583195|\n",
      "|367285|[0.94864863509573...|0.051351365|\n",
      "+------+--------------------+-----------+\n",
      "only showing top 5 rows\n",
      "\n"
     ]
    }
   ],
   "source": [
    "predictions_test = predictions_test.withColumn('target', udf_proba(\"probability\"))\n",
    "predictions_test.show(5)"
   ]
  },
  {
   "cell_type": "code",
   "execution_count": 44,
   "metadata": {},
   "outputs": [
    {
     "name": "stdout",
     "output_type": "stream",
     "text": [
      "+------+-----------+\n",
      "|    id|     target|\n",
      "+------+-----------+\n",
      "|519130| 0.15263234|\n",
      "|234045|0.044494998|\n",
      "|401256| 0.04338261|\n",
      "|551070|0.063583195|\n",
      "|367285|0.051351365|\n",
      "+------+-----------+\n",
      "only showing top 5 rows\n",
      "\n"
     ]
    }
   ],
   "source": [
    "predictions_test = predictions_test.drop(\"probability\")\n",
    "predictions_test = predictions_test.withColumn(\"id\", col(\"ID\"))\n",
    "predictions_test.show(5)"
   ]
  },
  {
   "cell_type": "code",
   "execution_count": 45,
   "metadata": {},
   "outputs": [],
   "source": [
    "my_file = predictions_test.toPandas()"
   ]
  },
  {
   "cell_type": "code",
   "execution_count": 46,
   "metadata": {},
   "outputs": [],
   "source": [
    "my_file.to_csv('lab05.csv', sep='\\t', index=False)"
   ]
  },
  {
   "cell_type": "code",
   "execution_count": null,
   "metadata": {},
   "outputs": [],
   "source": []
  }
 ],
 "metadata": {
  "kernelspec": {
   "display_name": "Python 3",
   "language": "python",
   "name": "python3"
  },
  "language_info": {
   "codemirror_mode": {
    "name": "ipython",
    "version": 3
   },
   "file_extension": ".py",
   "mimetype": "text/x-python",
   "name": "python",
   "nbconvert_exporter": "python",
   "pygments_lexer": "ipython3",
   "version": "3.6.5"
  }
 },
 "nbformat": 4,
 "nbformat_minor": 2
}
