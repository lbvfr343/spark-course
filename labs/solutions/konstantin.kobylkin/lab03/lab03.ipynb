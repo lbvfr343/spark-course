{
 "cells": [
  {
   "cell_type": "markdown",
   "metadata": {},
   "source": [
    "# Лабораторная работа 3. Кобылкин Константин. Вариант 1"
   ]
  },
  {
   "cell_type": "code",
   "execution_count": 49,
   "metadata": {},
   "outputs": [],
   "source": [
    "import os\n",
    "import sys\n",
    "import json"
   ]
  },
  {
   "cell_type": "code",
   "execution_count": 50,
   "metadata": {},
   "outputs": [
    {
     "name": "stdout",
     "output_type": "stream",
     "text": [
      "Welcome to\n",
      "      ____              __\n",
      "     / __/__  ___ _____/ /__\n",
      "    _\\ \\/ _ \\/ _ `/ __/  '_/\n",
      "   /__ / .__/\\_,_/_/ /_/\\_\\   version 2.4.7\n",
      "      /_/\n",
      "\n",
      "Using Python version 3.6.5 (default, Apr 29 2018 16:14:56)\n",
      "SparkSession available as 'spark'.\n"
     ]
    }
   ],
   "source": [
    "import os\n",
    "import sys\n",
    "os.environ[\"PYSPARK_SUBMIT_ARGS\"]='--conf spark.sql.catalogImplementation=in-memory pyspark-shell'\n",
    "os.environ[\"PYSPARK_PYTHON\"]='/opt/anaconda/envs/bd9/bin/python'\n",
    "os.environ[\"SPARK_HOME\"]='/usr/hdp/current/spark2-client'\n",
    "os.environ[\"PYSPARK_SUBMIT_ARGS\"]='--num-executors 3 --executor-memory 4g --driver-memory 3g pyspark-shell'\n",
    "\n",
    "spark_home = os.environ.get('SPARK_HOME', None)\n",
    "if not spark_home:\n",
    "    raise ValueError('SPARK_HOME environment variable is not set')\n",
    "sys.path.insert(0, os.path.join(spark_home, 'python'))\n",
    "sys.path.insert(0, os.path.join(spark_home, 'python/lib/py4j-0.10.7-src.zip'))\n",
    "exec(open(os.path.join(spark_home, 'python/pyspark/shell.py')).read())"
   ]
  },
  {
   "cell_type": "code",
   "execution_count": 51,
   "metadata": {},
   "outputs": [],
   "source": [
    "from pyspark.sql import SparkSession\n",
    "from pyspark.sql.types import StructType,StructField, StringType, IntegerType \n",
    "from pyspark.sql.types import ArrayType, DoubleType, BooleanType, FloatType\n",
    "from pyspark.sql.functions import col, array_contains, to_date, explode, udf, split, when, mean, lit, count\n",
    "import pyspark.sql.functions as f"
   ]
  },
  {
   "cell_type": "markdown",
   "metadata": {},
   "source": [
    "# Загрузка данных\n",
    "\n",
    "## Данные о покупках"
   ]
  },
  {
   "cell_type": "code",
   "execution_count": 52,
   "metadata": {},
   "outputs": [],
   "source": [
    "schema = StructType() \\\n",
    "      .add(\"user_id\", IntegerType(), True) \\\n",
    "      .add(\"item_id\", IntegerType(), True) \\\n",
    "      .add(\"purchase\", IntegerType(), True)\n",
    "      \n",
    "df_user = spark.read.format(\"csv\") \\\n",
    "      .option(\"header\", True) \\\n",
    "      .schema(schema) \\\n",
    "      .load(\"/labs/slaba03/laba03_train.csv\")"
   ]
  },
  {
   "cell_type": "markdown",
   "metadata": {},
   "source": [
    "## Справочник телепередач"
   ]
  },
  {
   "cell_type": "code",
   "execution_count": 53,
   "metadata": {},
   "outputs": [],
   "source": [
    "read_items_schema = StructType(fields=[StructField('item_id', IntegerType()), \n",
    "StructField('channel_id', IntegerType()),\n",
    "StructField('datetime_availability_start', StringType()),\n",
    "StructField('datetime_availability_stop', StringType()),\n",
    "StructField('datetime_show_start', StringType()),\n",
    "StructField('datetime_show_stop', StringType()),\n",
    "StructField('content_type', IntegerType()),\n",
    "StructField('title', StringType(), nullable=True),\n",
    "StructField('year', FloatType(), nullable=True),\n",
    "StructField('genres', StringType()),\n",
    "StructField('region_id', IntegerType()),\n",
    "]) \n",
    "\n",
    "\n",
    "df_items = spark.read.format(\"csv\") \\\n",
    "      .option(\"header\", True) \\\n",
    "      .option(\"sep\", \"\\t\")\\\n",
    "      .schema(read_items_schema) \\\n",
    "      .load(\"/labs/slaba03/laba03_items.csv\")"
   ]
  },
  {
   "cell_type": "markdown",
   "metadata": {},
   "source": [
    "## Данные для теста"
   ]
  },
  {
   "cell_type": "code",
   "execution_count": 54,
   "metadata": {},
   "outputs": [],
   "source": [
    "schema = StructType() \\\n",
    "      .add(\"user_id\", IntegerType(), True) \\\n",
    "      .add(\"item_id\", IntegerType(), True) \n",
    "      \n",
    "      \n",
    "df_user_test = spark.read.format(\"csv\") \\\n",
    "      .option(\"header\", True) \\\n",
    "      .schema(schema) \\\n",
    "      .load(\"/labs/slaba03/laba03_test.csv\")"
   ]
  },
  {
   "cell_type": "markdown",
   "metadata": {},
   "source": [
    "# Подсчет статистик пользовательского поведения\n",
    "\n",
    "## Статистики покупаемости"
   ]
  },
  {
   "cell_type": "code",
   "execution_count": 55,
   "metadata": {},
   "outputs": [],
   "source": [
    "df_user_item_id_with_genres = df_user.join(df_items.select('item_id', 'genres')\\\n",
    "                                                   .filter(df_items.content_type == 1),\n",
    "                                           on='item_id',\n",
    "                                           how='left')\n",
    "genres_words = when(col(\"genres\").isNull(), 'жанр отсутствует').otherwise(col(\"genres\"))\n",
    "df_user_item_id_with_genres = df_user_item_id_with_genres.withColumn(\"genres\", \n",
    "                                                                     genres_words)\n",
    "df_user_item_id_with_genres = df_user_item_id_with_genres.withColumn('genres_words',\n",
    "                                                                     split('genres', ','))"
   ]
  },
  {
   "cell_type": "code",
   "execution_count": 56,
   "metadata": {},
   "outputs": [],
   "source": [
    "df_user_test_item_id_with_genres = df_user_test.join(df_items.select('item_id', 'genres')\\\n",
    "                                                             .filter(df_items.content_type == 1),\n",
    "                                                     on='item_id',\n",
    "                                                     how='left')\n",
    "df_user_test_item_id_with_genres = df_user_test_item_id_with_genres.withColumn(\"genres\", \n",
    "                                                                               genres_words)\n",
    "df_user_test_item_id_with_genres = df_user_test_item_id_with_genres.withColumn('genres_words',\n",
    "                                                                               split('genres', ','))"
   ]
  },
  {
   "cell_type": "code",
   "execution_count": 57,
   "metadata": {},
   "outputs": [],
   "source": [
    "df_user_for_statistics = df_user_item_id_with_genres.sampleBy('purchase', \n",
    "                                                              fractions={0: 0.3, 1:0.3}, \n",
    "                                                              seed=12)"
   ]
  },
  {
   "cell_type": "code",
   "execution_count": 58,
   "metadata": {},
   "outputs": [],
   "source": [
    "general_purchase = df_user_for_statistics.agg(mean('purchase').alias('general_purchase_rate'))\\\n",
    "                                         .toPandas()\\\n",
    "                                         .at[0, 'general_purchase_rate']"
   ]
  },
  {
   "cell_type": "markdown",
   "metadata": {},
   "source": [
    "Параметр байесовской регуляризации"
   ]
  },
  {
   "cell_type": "code",
   "execution_count": 59,
   "metadata": {},
   "outputs": [],
   "source": [
    "n = 5"
   ]
  },
  {
   "cell_type": "code",
   "execution_count": 60,
   "metadata": {},
   "outputs": [],
   "source": [
    "from pyspark.sql.functions import pandas_udf, PandasUDFType\n",
    "\n",
    "\n",
    "@pandas_udf(DoubleType(), functionType=PandasUDFType.GROUPED_AGG)\n",
    "def getBayesianProb(groupby_df):\n",
    "    m = len(groupby_df)\n",
    "    k = groupby_df.sum()\n",
    "    return (k + general_purchase * n) / (m + n) "
   ]
  },
  {
   "cell_type": "code",
   "execution_count": 61,
   "metadata": {},
   "outputs": [],
   "source": [
    "user_purchase = df_user_for_statistics.groupby('user_id').agg(getBayesianProb('purchase')\\\n",
    "                                                              .alias('user_purchase_rate')) \n",
    "item_id_purchase = df_user_for_statistics.groupby('item_id').agg(getBayesianProb('purchase')\\\n",
    "                                                                 .alias('item_id_purchase_rate'))"
   ]
  },
  {
   "cell_type": "code",
   "execution_count": 62,
   "metadata": {},
   "outputs": [],
   "source": [
    "genres_words = when(col(\"genres\").isNull(), \n",
    "                    'жанр отсутствует').otherwise(col(\"genres\"))\n",
    "df_user_for_statistics = df_user_for_statistics.withColumn(\"genres\", \n",
    "                                                           genres_words)\n",
    "df_user_for_statistics = df_user_for_statistics.withColumn('genres_words',\n",
    "                                                           split('genres', ','))"
   ]
  },
  {
   "cell_type": "code",
   "execution_count": 63,
   "metadata": {},
   "outputs": [],
   "source": [
    "user_genres_purchases = df_user_for_statistics.select('user_id', 'purchase',\n",
    "                                                      explode(\"genres_words\").alias(\"single_genre\"))\n",
    "user_genres_purchase_freqs = user_genres_purchases.groupby(['user_id', \"single_genre\"])\\\n",
    "                                                  .agg(f.sum('purchase').alias('user_sum'),\n",
    "                                                       count('purchase').alias('user_count'))"
   ]
  },
  {
   "cell_type": "code",
   "execution_count": 64,
   "metadata": {},
   "outputs": [],
   "source": [
    "user_genres_purchase_freqs = user_genres_purchase_freqs.join(user_purchase,\n",
    "                                                             on='user_id',\n",
    "                                                             how='left')\n",
    "user_genres_purchase_freqs = user_genres_purchase_freqs.withColumn('user_genre_purchase_rate',\n",
    "                                                                   (col('user_sum') + col('user_purchase_rate') * n) /\n",
    "                                                                   (col('user_count') + n))\n",
    "user_genres_purchase_freqs = user_genres_purchase_freqs.drop('user_sum', 'user_count', \n",
    "                                                             'user_purchase_rate')"
   ]
  },
  {
   "cell_type": "code",
   "execution_count": 65,
   "metadata": {},
   "outputs": [],
   "source": [
    "genres_purchase_freqs = user_genres_purchases.groupby([\"single_genre\"])\\\n",
    "                                             .agg(mean('purchase').alias('genre_purchase_rate'))"
   ]
  },
  {
   "cell_type": "markdown",
   "metadata": {},
   "source": [
    "## Кодировка жанров"
   ]
  },
  {
   "cell_type": "code",
   "execution_count": 66,
   "metadata": {},
   "outputs": [],
   "source": [
    "df_comm_items = df_items.select('item_id', 'genres').filter(df_items.content_type == 1)\n",
    "genres_updated = when(col(\"genres\").isNull(), \n",
    "                      'жанр отсутствует').otherwise(col(\"genres\"))\n",
    "df_comm_items = df_comm_items.withColumn('genres',\n",
    "                                         genres_updated)\n",
    "df_comm_items = df_comm_items.withColumn('genres_words',\n",
    "                                         split('genres', ','))"
   ]
  },
  {
   "cell_type": "code",
   "execution_count": 67,
   "metadata": {},
   "outputs": [
    {
     "data": {
      "text/plain": [
       "84"
      ]
     },
     "execution_count": 67,
     "metadata": {},
     "output_type": "execute_result"
    }
   ],
   "source": [
    "number_of_genres = df_comm_items.select(explode('genres_words').alias('single_genre')).distinct().count()\n",
    "number_of_genres"
   ]
  },
  {
   "cell_type": "code",
   "execution_count": 68,
   "metadata": {},
   "outputs": [],
   "source": [
    "from pyspark.ml.feature import CountVectorizer\n",
    "\n",
    "cv = CountVectorizer(binary=True,\n",
    "                     inputCol=\"genres_words\",\n",
    "                     outputCol='genres_encoding')\n",
    "df_comm_items = cv.fit(df_comm_items).transform(df_comm_items)"
   ]
  },
  {
   "cell_type": "code",
   "execution_count": 69,
   "metadata": {},
   "outputs": [],
   "source": [
    "def split_array_to_list(col):\n",
    "    def to_list(v):\n",
    "        return v.toArray().tolist()\n",
    "    return udf(to_list, ArrayType(DoubleType()))(col)"
   ]
  },
  {
   "cell_type": "code",
   "execution_count": 70,
   "metadata": {},
   "outputs": [],
   "source": [
    "df_genres_encoding = df_comm_items.select(col('item_id'),\n",
    "                                          split_array_to_list(col('genres_encoding')).alias(\"gen_enc\"))\\\n",
    "                                  .select([col('item_id')] + [col(\"gen_enc\")[i].alias('gen_enc_' + str(i)) \n",
    "                                                              for i in range(84)])"
   ]
  },
  {
   "cell_type": "markdown",
   "metadata": {},
   "source": [
    "# Добавление вычисленных статистик и признаков в выборки\n",
    "\n",
    "## Добавление общих статистик  покупаемости и кодировки жанров"
   ]
  },
  {
   "cell_type": "code",
   "execution_count": 71,
   "metadata": {},
   "outputs": [],
   "source": [
    "features = [(user_purchase, 'user_id'),\n",
    "            (item_id_purchase, 'item_id'),\n",
    "            (df_genres_encoding, 'item_id')]"
   ]
  },
  {
   "cell_type": "code",
   "execution_count": 72,
   "metadata": {},
   "outputs": [],
   "source": [
    "for feature_info in features:\n",
    "    df_user_item_id_with_genres = df_user_item_id_with_genres.join(feature_info[0],\n",
    "                                                                   on=feature_info[1],\n",
    "                                                                   how='left')\n",
    "    df_user_test_item_id_with_genres = df_user_test_item_id_with_genres.join(feature_info[0],\n",
    "                                                                             on=feature_info[1],\n",
    "                                                                             how='left')"
   ]
  },
  {
   "cell_type": "markdown",
   "metadata": {},
   "source": [
    "## Добавление общих и пользовательских статистик покупаемости жанров"
   ]
  },
  {
   "cell_type": "code",
   "execution_count": 73,
   "metadata": {},
   "outputs": [],
   "source": [
    "@udf(returnType=StringType())\n",
    "def getithGenre(genres_list, i):\n",
    "    if i >= len(genres_list):\n",
    "        return genres_list[-1]\n",
    "    else:\n",
    "        return genres_list[i]"
   ]
  },
  {
   "cell_type": "code",
   "execution_count": 74,
   "metadata": {},
   "outputs": [],
   "source": [
    "for i in range(3):\n",
    "    gp = genres_purchase_freqs.withColumnRenamed('single_genre', \n",
    "                                                 'single_genre_' + str(i))\\\n",
    "                              .withColumnRenamed('genre_purchase_rate', \n",
    "                                                 'genre_purchase_rate_' + str(i))\n",
    "    ugp = user_genres_purchase_freqs.withColumnRenamed('single_genre', \n",
    "                                                       'single_genre_' + str(i))\\\n",
    "                                    .withColumnRenamed('user_genre_purchase_rate', \n",
    "                                                       'user_genre_purchase_rate_' + str(i))\n",
    "    df_user_item_id_with_genres = df_user_item_id_with_genres.withColumn('single_genre_' + str(i),\n",
    "                                                                         getithGenre('genres_words', \n",
    "                                                                                     lit(i)))\n",
    "    df_user_item_id_with_genres = df_user_item_id_with_genres.join(gp, \n",
    "                                                                   on='single_genre_' + str(i),\n",
    "                                                                   how='left')\n",
    "    df_user_item_id_with_genres = df_user_item_id_with_genres.join(ugp, \n",
    "                                                                   on=['single_genre_' + str(i),\n",
    "                                                                       'user_id'],\n",
    "                                                                   how='left')\n",
    "    df_user_test_item_id_with_genres = df_user_test_item_id_with_genres.withColumn('single_genre_' + str(i),\n",
    "                                                                                   getithGenre('genres_words', \n",
    "                                                                                               lit(i)))\n",
    "    df_user_test_item_id_with_genres = df_user_test_item_id_with_genres.join(gp, \n",
    "                                                                             on='single_genre_' + str(i),\n",
    "                                                                             how='left')\n",
    "    df_user_test_item_id_with_genres = df_user_test_item_id_with_genres.join(ugp, \n",
    "                                                                             on=['single_genre_' + str(i),\n",
    "                                                                                 'user_id'],\n",
    "                                                                             how='left')"
   ]
  },
  {
   "cell_type": "code",
   "execution_count": 75,
   "metadata": {},
   "outputs": [],
   "source": [
    "df_user_item_id_with_genres = df_user_item_id_with_genres.drop('genres', 'genres_words')\n",
    "df_user_test_item_id_with_genres = df_user_test_item_id_with_genres.drop('genres', 'genres_words')"
   ]
  },
  {
   "cell_type": "markdown",
   "metadata": {},
   "source": [
    "## Заполнение пропусков в признаках"
   ]
  },
  {
   "cell_type": "code",
   "execution_count": 76,
   "metadata": {},
   "outputs": [],
   "source": [
    "user_purchase_rate_updated = when(col(\"user_purchase_rate\").isNull(), \n",
    "                                  general_purchase).otherwise(col(\"user_purchase_rate\"))\n",
    "item_id_purchase_rate_updated = when(col(\"item_id_purchase_rate\").isNull(), \n",
    "                                     general_purchase).otherwise(col(\"item_id_purchase_rate\"))"
   ]
  },
  {
   "cell_type": "code",
   "execution_count": 77,
   "metadata": {},
   "outputs": [],
   "source": [
    "df_user_item_id_with_genres = df_user_item_id_with_genres.withColumn(\"user_purchase_rate\", \n",
    "                                                                     user_purchase_rate_updated)\n",
    "df_user_item_id_with_genres = df_user_item_id_with_genres.withColumn(\"item_id_purchase_rate\", \n",
    "                                                                     item_id_purchase_rate_updated)\n",
    "df_user_test_item_id_with_genres = df_user_test_item_id_with_genres.withColumn(\"user_purchase_rate\", \n",
    "                                                                               user_purchase_rate_updated)\n",
    "df_user_test_item_id_with_genres = df_user_test_item_id_with_genres.withColumn(\"item_id_purchase_rate\", \n",
    "                                                                               item_id_purchase_rate_updated)"
   ]
  },
  {
   "cell_type": "code",
   "execution_count": 78,
   "metadata": {},
   "outputs": [],
   "source": [
    "for i in range(3):\n",
    "    user_genre_purchase_rate_updated = when(col(\"user_genre_purchase_rate_\" + str(i)).isNull(), \n",
    "                                            col('user_purchase_rate')).otherwise(col(\"user_genre_purchase_rate_\" + str(i)))\n",
    "    df_user_item_id_with_genres = df_user_item_id_with_genres.withColumn(\"user_genre_purchase_rate_\" + str(i), \n",
    "                                                                         user_genre_purchase_rate_updated)\n",
    "    df_user_test_item_id_with_genres = df_user_test_item_id_with_genres.withColumn(\"user_genre_purchase_rate_\" + str(i), \n",
    "                                                                                   user_genre_purchase_rate_updated)\n",
    "    user_genre_purchase_rate_updated_2 = when(col(\"user_genre_purchase_rate_\" + str(i)).isNull(), \n",
    "                                            col('genre_purchase_rate_' + str(i))).otherwise(col(\"user_genre_purchase_rate_\" + \n",
    "                                                                                                str(i)))\n",
    "    df_user_item_id_with_genres = df_user_item_id_with_genres.withColumn(\"user_genre_purchase_rate_\" + str(i), \n",
    "                                                                         user_genre_purchase_rate_updated_2)\n",
    "    df_user_test_item_id_with_genres = df_user_test_item_id_with_genres.withColumn(\"user_genre_purchase_rate_\" + str(i), \n",
    "                                                                                   user_genre_purchase_rate_updated_2)\n",
    "    "
   ]
  },
  {
   "cell_type": "code",
   "execution_count": 79,
   "metadata": {},
   "outputs": [],
   "source": [
    "df_user_item_id_with_genres = df_user_item_id_with_genres.drop('single_genre_0', 'single_genre_1',\n",
    "                                                               'single_genre_2')\n",
    "df_user_test_item_id_with_genres = df_user_test_item_id_with_genres.drop('single_genre_0', 'single_genre_1',\n",
    "                                                                         'single_genre_2')"
   ]
  },
  {
   "cell_type": "markdown",
   "metadata": {},
   "source": [
    "# Формирование обучающей и валидационной выборки"
   ]
  },
  {
   "cell_type": "code",
   "execution_count": 80,
   "metadata": {},
   "outputs": [],
   "source": [
    "df_user_train_val = df_user_item_id_with_genres"
   ]
  },
  {
   "cell_type": "code",
   "execution_count": 81,
   "metadata": {},
   "outputs": [],
   "source": [
    "df_user_train = df_user_train_val.sampleBy('purchase', \n",
    "                                           fractions={0: 0.8, 1:0.8}, \n",
    "                                           seed=5757)\n",
    "df_user_val = df_user_train_val.join(df_user_train, \n",
    "                                     on=['user_id', 'item_id'], \n",
    "                                     how=\"leftanti\")\n",
    "df_user_test_ = df_user_test_item_id_with_genres"
   ]
  },
  {
   "cell_type": "markdown",
   "metadata": {},
   "source": [
    "# Обучение модели"
   ]
  },
  {
   "cell_type": "code",
   "execution_count": 82,
   "metadata": {},
   "outputs": [],
   "source": [
    "from pyspark.ml.classification import GBTClassifier \n",
    "from pyspark.ml.feature import VectorAssembler"
   ]
  },
  {
   "cell_type": "code",
   "execution_count": 83,
   "metadata": {},
   "outputs": [],
   "source": [
    "feats = (['user_purchase_rate', 'item_id_purchase_rate'] + \n",
    "         list('gen_enc_' + str(i) for i in range(84)) + \n",
    "         list('genre_purchase_rate_' + str(i) for i in range(3)) +\n",
    "         list('user_genre_purchase_rate_' + str(i) for i in range(3)))"
   ]
  },
  {
   "cell_type": "code",
   "execution_count": 84,
   "metadata": {},
   "outputs": [],
   "source": [
    "df_user_train = VectorAssembler(inputCols=feats,\n",
    "                                outputCol='features').transform(df_user_train)\n",
    "df_user_val = VectorAssembler(inputCols=feats,\n",
    "                                outputCol='features').transform(df_user_val)\n",
    "df_user_test_ = VectorAssembler(inputCols=feats,\n",
    "                                outputCol='features').transform(df_user_test_)"
   ]
  },
  {
   "cell_type": "code",
   "execution_count": 85,
   "metadata": {},
   "outputs": [],
   "source": [
    "df_user_train = df_user_train.coalesce(3)\n",
    "df_user_val = df_user_val.coalesce(3)\n",
    "df_user_test_ = df_user_test_.coalesce(3)"
   ]
  },
  {
   "cell_type": "code",
   "execution_count": 86,
   "metadata": {},
   "outputs": [],
   "source": [
    "gbtc = GBTClassifier(labelCol=\"purchase\", \n",
    "                     maxIter=200,\n",
    "                     stepSize=0.1,\n",
    "                     maxDepth=4)\n",
    "gbtc_model = gbtc.fit(df_user_train)"
   ]
  },
  {
   "cell_type": "markdown",
   "metadata": {},
   "source": [
    "# Вычисление ROC-AUC на валидации"
   ]
  },
  {
   "cell_type": "code",
   "execution_count": 87,
   "metadata": {},
   "outputs": [],
   "source": [
    "val_predictions = gbtc_model.transform(df_user_val)"
   ]
  },
  {
   "cell_type": "code",
   "execution_count": 88,
   "metadata": {},
   "outputs": [
    {
     "data": {
      "text/plain": [
       "0.9302829060545991"
      ]
     },
     "execution_count": 88,
     "metadata": {},
     "output_type": "execute_result"
    }
   ],
   "source": [
    "from pyspark.ml.evaluation import BinaryClassificationEvaluator\n",
    "\n",
    "evaluator = BinaryClassificationEvaluator(rawPredictionCol=\"rawPrediction\", \n",
    "                                          labelCol=\"purchase\", \n",
    "                                          metricName='areaUnderROC')\n",
    "evaluator.evaluate(val_predictions)"
   ]
  },
  {
   "cell_type": "markdown",
   "metadata": {},
   "source": [
    "# Вычисление прогнозов на тестовой выборке"
   ]
  },
  {
   "cell_type": "code",
   "execution_count": 89,
   "metadata": {},
   "outputs": [],
   "source": [
    "test_predictions = gbtc_model.transform(df_user_test_)"
   ]
  },
  {
   "cell_type": "code",
   "execution_count": 92,
   "metadata": {},
   "outputs": [],
   "source": [
    "test_predictions_df = test_predictions.select('user_id', 'item_id', 'probability')"
   ]
  },
  {
   "cell_type": "code",
   "execution_count": 101,
   "metadata": {},
   "outputs": [],
   "source": [
    "first_vector_element=udf(lambda v: float(v[1]),\n",
    "                         FloatType())"
   ]
  },
  {
   "cell_type": "code",
   "execution_count": 104,
   "metadata": {},
   "outputs": [],
   "source": [
    "test_predictions_df_ = test_predictions_df.withColumn('purchase',\n",
    "                                                      firstelement('probability'))\\\n",
    "                                          .orderBy('user_id', 'item_id')\\\n",
    "                                          .drop('probability')"
   ]
  },
  {
   "cell_type": "code",
   "execution_count": 105,
   "metadata": {},
   "outputs": [
    {
     "name": "stdout",
     "output_type": "stream",
     "text": [
      "+-------+-------+------------+\n",
      "|user_id|item_id|    purchase|\n",
      "+-------+-------+------------+\n",
      "|   1654|    336|0.0061492054|\n",
      "|   1654|    678|0.0061492054|\n",
      "|   1654|    691| 0.006198493|\n",
      "|   1654|    696|0.0064379717|\n",
      "|   1654|    763|0.0061492054|\n",
      "+-------+-------+------------+\n",
      "only showing top 5 rows\n",
      "\n"
     ]
    }
   ],
   "source": [
    "test_predictions_df_.show(5)"
   ]
  },
  {
   "cell_type": "markdown",
   "metadata": {},
   "source": [
    "# Запись результата в файл"
   ]
  },
  {
   "cell_type": "code",
   "execution_count": 107,
   "metadata": {},
   "outputs": [],
   "source": [
    "test_predictions_df_.toPandas().to_csv('lab03.csv')"
   ]
  },
  {
   "cell_type": "code",
   "execution_count": null,
   "metadata": {},
   "outputs": [],
   "source": [
    "spark.stop()"
   ]
  }
 ],
 "metadata": {
  "kernelspec": {
   "display_name": "Python 3",
   "language": "python",
   "name": "python3"
  },
  "language_info": {
   "codemirror_mode": {
    "name": "ipython",
    "version": 3
   },
   "file_extension": ".py",
   "mimetype": "text/x-python",
   "name": "python",
   "nbconvert_exporter": "python",
   "pygments_lexer": "ipython3",
   "version": "3.6.5"
  }
 },
 "nbformat": 4,
 "nbformat_minor": 2
}
