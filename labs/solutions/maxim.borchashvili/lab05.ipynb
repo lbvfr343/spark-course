{
 "cells": [
  {
   "cell_type": "code",
   "execution_count": 88,
   "metadata": {},
   "outputs": [
    {
     "data": {
      "text/plain": [
       "import org.apache.spark.mllib.linalg.{Vector=>OldVector}\n",
       "imp...\n"
      ]
     },
     "metadata": {},
     "output_type": "display_data"
    }
   ],
   "source": [
    "import org.apache.spark.sql.functions._\n",
    "import org.apache.spark.sql.SparkSession\n",
    "import org.apache.spark.sql.functions.{col}\n",
    "import org.apache.spark.ml.classification.{RandomForestClassifier, GBTClassifier}\n",
    "import org.apache.spark.ml.evaluation.BinaryClassificationEvaluator\n",
    "import org.apache.spark.mllib.evaluation.BinaryClassificationMetrics\n",
    "import org.apache.spark.ml.feature.{CountVectorizer, StringIndexer, VectorAssembler, StandardScaler, MinMaxScaler}\n",
    "import org.apache.spark.ml.{Pipeline, PipelineModel}\n",
    "import org.apache.spark.ml.tuning.{ParamGridBuilder, CrossValidator, CrossValidatorModel}\n",
    "import org.apache.spark.sql.DataFrame\n",
    "import org.apache.spark.ml.linalg.{SparseVector, Vector}\n",
    "import org.apache.spark.mllib.linalg.{Vector => OldVector}\n",
    "import org.apache.spark.sql.functions.lit\n",
    "import org.apache.spark.ml.feature.OneHotEncoder"
   ]
  },
  {
   "cell_type": "code",
   "execution_count": 3,
   "metadata": {},
   "outputs": [
    {
     "data": {
      "text/plain": [
       "spark = org.apache.spark.sql.SparkSession@3bc3e7f3\n"
      ]
     },
     "metadata": {},
     "output_type": "display_data"
    },
    {
     "data": {
      "text/plain": [
       "org.apache.spark.sql.SparkSession@3bc3e7f3"
      ]
     },
     "execution_count": 3,
     "metadata": {},
     "output_type": "execute_result"
    }
   ],
   "source": [
    "val spark = SparkSession.builder.appName(\"MBorchashvili session\").getOrCreate()"
   ]
  },
  {
   "cell_type": "code",
   "execution_count": 95,
   "metadata": {},
   "outputs": [
    {
     "data": {
      "text/plain": [
       "lastException: Throwable = null\n"
      ]
     },
     "metadata": {},
     "output_type": "display_data"
    },
    {
     "data": {
      "text/plain": [
       "org.apache.spark.sql.SparkSession@3bc3e7f3"
      ]
     },
     "execution_count": 95,
     "metadata": {},
     "output_type": "execute_result"
    }
   ],
   "source": [
    "spark"
   ]
  },
  {
   "cell_type": "code",
   "execution_count": 96,
   "metadata": {},
   "outputs": [
    {
     "name": "stdout",
     "output_type": "stream",
     "text": [
      "-RECORD 0--------------------------------------------\n",
      " _c0                         | 333149                \n",
      " ID                          | 479990                \n",
      " CR_PROD_CNT_IL              | 0                     \n",
      " AMOUNT_RUB_CLO_PRC          | 0.0                   \n",
      " PRC_ACCEPTS_A_EMAIL_LINK    | 0.0                   \n",
      " APP_REGISTR_RGN_CODE        | null                  \n",
      " PRC_ACCEPTS_A_POS           | 0.0                   \n",
      " PRC_ACCEPTS_A_TK            | 0.0                   \n",
      " TURNOVER_DYNAMIC_IL_1M      | 0.0                   \n",
      " CNT_TRAN_AUT_TENDENCY1M     | null                  \n",
      " SUM_TRAN_AUT_TENDENCY1M     | null                  \n",
      " AMOUNT_RUB_SUP_PRC          | 0.0                   \n",
      " PRC_ACCEPTS_A_AMOBILE       | 0.0                   \n",
      " SUM_TRAN_AUT_TENDENCY3M     | null                  \n",
      " CLNT_TRUST_RELATION         | null                  \n",
      " PRC_ACCEPTS_TK              | 0.0                   \n",
      " PRC_ACCEPTS_A_MTP           | 0.0                   \n",
      " REST_DYNAMIC_FDEP_1M        | 0.0                   \n",
      " CNT_TRAN_AUT_TENDENCY3M     | null                  \n",
      " CNT_ACCEPTS_TK              | 0.0                   \n",
      " APP_MARITAL_STATUS          | null                  \n",
      " REST_DYNAMIC_SAVE_3M        | 0.0                   \n",
      " CR_PROD_CNT_VCU             | 0                     \n",
      " REST_AVG_CUR                | 19069.6917166667      \n",
      " CNT_TRAN_MED_TENDENCY1M     | null                  \n",
      " APP_KIND_OF_PROP_HABITATION | null                  \n",
      " CLNT_JOB_POSITION_TYPE      | null                  \n",
      " AMOUNT_RUB_NAS_PRC          | 0.0                   \n",
      " CLNT_JOB_POSITION           | null                  \n",
      " APP_DRIVING_LICENSE         | null                  \n",
      " TRANS_COUNT_SUP_PRC         | 0.0                   \n",
      " APP_EDUCATION               | null                  \n",
      " CNT_TRAN_CLO_TENDENCY1M     | null                  \n",
      " SUM_TRAN_MED_TENDENCY1M     | null                  \n",
      " PRC_ACCEPTS_A_ATM           | 0.0                   \n",
      " PRC_ACCEPTS_MTP             | 0.0                   \n",
      " TRANS_COUNT_NAS_PRC         | 0.0                   \n",
      " APP_TRAVEL_PASS             | null                  \n",
      " CNT_ACCEPTS_MTP             | 0.0                   \n",
      " CR_PROD_CNT_TOVR            | 1                     \n",
      " APP_CAR                     | null                  \n",
      " CR_PROD_CNT_PIL             | 0                     \n",
      " SUM_TRAN_CLO_TENDENCY1M     | null                  \n",
      " APP_POSITION_TYPE           | null                  \n",
      " TURNOVER_CC                 | 0.0                   \n",
      " TRANS_COUNT_ATM_PRC         | 0.981818181818182     \n",
      " AMOUNT_RUB_ATM_PRC          | 0.9264718189135429    \n",
      " TURNOVER_PAYM               | 0.0                   \n",
      " AGE                         | 324                   \n",
      " CNT_TRAN_MED_TENDENCY3M     | null                  \n",
      " CR_PROD_CNT_CC              | 0                     \n",
      " SUM_TRAN_MED_TENDENCY3M     | null                  \n",
      " REST_DYNAMIC_FDEP_3M        | 0.0                   \n",
      " REST_DYNAMIC_IL_1M          | 0.0                   \n",
      " APP_EMP_TYPE                | null                  \n",
      " SUM_TRAN_CLO_TENDENCY3M     | null                  \n",
      " LDEAL_TENOR_MAX             | null                  \n",
      " LDEAL_YQZ_CHRG              | null                  \n",
      " CR_PROD_CNT_CCFP            | 0                     \n",
      " DEAL_YQZ_IR_MAX             | null                  \n",
      " LDEAL_YQZ_COM               | null                  \n",
      " DEAL_YQZ_IR_MIN             | null                  \n",
      " CNT_TRAN_CLO_TENDENCY3M     | null                  \n",
      " REST_DYNAMIC_CUR_1M         | 0.139327197286461     \n",
      " REST_AVG_PAYM               | 0.0                   \n",
      " LDEAL_TENOR_MIN             | null                  \n",
      " LDEAL_AMT_MONTH             | null                  \n",
      " APP_COMP_TYPE               | null                  \n",
      " LDEAL_GRACE_DAYS_PCT_MED    | 0.0                   \n",
      " REST_DYNAMIC_CUR_3M         | 0.24404241658152398   \n",
      " CNT_TRAN_SUP_TENDENCY3M     | null                  \n",
      " TURNOVER_DYNAMIC_CUR_1M     | 0.14429972251526998   \n",
      " REST_DYNAMIC_PAYM_3M        | 0.0                   \n",
      " SUM_TRAN_SUP_TENDENCY3M     | null                  \n",
      " REST_DYNAMIC_IL_3M          | 0.0                   \n",
      " CNT_TRAN_ATM_TENDENCY3M     | 0.351851851851852     \n",
      " CNT_TRAN_ATM_TENDENCY1M     | 0.166666666666667     \n",
      " TURNOVER_DYNAMIC_IL_3M      | 0.0                   \n",
      " SUM_TRAN_ATM_TENDENCY3M     | 0.329320637235633     \n",
      " DEAL_GRACE_DAYS_ACC_S1X1    | 0.0                   \n",
      " AVG_PCT_MONTH_TO_PCLOSE     | null                  \n",
      " DEAL_YWZ_IR_MIN             | 45.0                  \n",
      " SUM_TRAN_SUP_TENDENCY1M     | null                  \n",
      " DEAL_YWZ_IR_MAX             | 45.0                  \n",
      " SUM_TRAN_ATM_TENDENCY1M     | 0.16790105289165602   \n",
      " REST_DYNAMIC_PAYM_1M        | 0.0                   \n",
      " CNT_TRAN_SUP_TENDENCY1M     | null                  \n",
      " DEAL_GRACE_DAYS_ACC_AVG     | 0.0                   \n",
      " TURNOVER_DYNAMIC_CUR_3M     | 0.30374965665416803   \n",
      " PACK                        | 102                   \n",
      " MAX_PCLOSE_DATE             | null                  \n",
      " LDEAL_YQZ_PC                | null                  \n",
      " CLNT_SETUP_TENOR            | 5.48000105784548      \n",
      " DEAL_GRACE_DAYS_ACC_MAX     | 0.0                   \n",
      " TURNOVER_DYNAMIC_PAYM_3M    | 0.0                   \n",
      " LDEAL_DELINQ_PER_MAXYQZ     | null                  \n",
      " TURNOVER_DYNAMIC_PAYM_1M    | 0.0                   \n",
      " CLNT_SALARY_VALUE           | null                  \n",
      " TRANS_AMOUNT_TENDENCY3M     | 0.305106289785464     \n",
      " MED_DEBT_PRC_YQZ            | null                  \n",
      " TRANS_CNT_TENDENCY3M        | 0.34545454545454496   \n",
      " LDEAL_USED_AMT_AVG_YQZ      | null                  \n",
      " REST_DYNAMIC_CC_1M          | 0.0                   \n",
      " LDEAL_USED_AMT_AVG_YWZ      | 1.0                   \n",
      " TURNOVER_DYNAMIC_CC_1M      | 0.0                   \n",
      " AVG_PCT_DEBT_TO_DEAL_AMT    | null                  \n",
      " LDEAL_ACT_DAYS_ACC_PCT_AVG  | 0.0035236081747709704 \n",
      " REST_DYNAMIC_CC_3M          | 0.0                   \n",
      " MED_DEBT_PRC_YWZ            | 0.0                   \n",
      " LDEAL_ACT_DAYS_PCT_TR3      | 0.0                   \n",
      " LDEAL_ACT_DAYS_PCT_AAVG     | 0.0                   \n",
      " LDEAL_DELINQ_PER_MAXYWZ     | 0.0                   \n",
      " TURNOVER_DYNAMIC_CC_3M      | 0.0                   \n",
      " LDEAL_ACT_DAYS_PCT_TR       | 0.0                   \n",
      " LDEAL_ACT_DAYS_PCT_TR4      | 0.0                   \n",
      " LDEAL_ACT_DAYS_PCT_CURR     | 0.0                   \n",
      " TARGET                      | 0                     \n",
      "only showing top 1 row\n",
      "\n"
     ]
    },
    {
     "data": {
      "text/plain": [
       "trainDf = [_c0: int, ID: int ... 115 more fields]\n"
      ]
     },
     "metadata": {},
     "output_type": "display_data"
    },
    {
     "data": {
      "text/plain": [
       "[_c0: int, ID: int ... 115 more fields]"
      ]
     },
     "execution_count": 96,
     "metadata": {},
     "output_type": "execute_result"
    }
   ],
   "source": [
    "var trainDf = spark\n",
    "    .read\n",
    "    .option(\"header\", true)\n",
    "    .option(\"inferSchema\", true)\n",
    "    .csv(\"/labs/slaba05/lab05_train.csv\")\n",
    "\n",
    "trainDf.show(1, 0, true)"
   ]
  },
  {
   "cell_type": "code",
   "execution_count": 97,
   "metadata": {},
   "outputs": [
    {
     "data": {
      "text/plain": [
       "testDfData = [_c0: int, ID: int ... 115 more fields]\n"
      ]
     },
     "metadata": {},
     "output_type": "display_data"
    },
    {
     "data": {
      "text/plain": [
       "[_c0: int, ID: int ... 115 more fields]"
      ]
     },
     "execution_count": 97,
     "metadata": {},
     "output_type": "execute_result"
    }
   ],
   "source": [
    "val testDfData = spark\n",
    "    .read\n",
    "    .option(\"header\", true)\n",
    "    .option(\"inferSchema\", true)\n",
    "    .csv(\"/labs/slaba05/lab05_test.csv\")\n",
    "    .na.fill(0)\n",
    "    .withColumn(\"TEST\", lit(\"\"))"
   ]
  },
  {
   "cell_type": "code",
   "execution_count": 98,
   "metadata": {},
   "outputs": [
    {
     "data": {
      "text/plain": [
       "allDfData = [_c0: int, ID: int ... 115 more fields]\n"
      ]
     },
     "metadata": {},
     "output_type": "display_data"
    },
    {
     "data": {
      "text/plain": [
       "warning: there was one deprecation warning; re-run with -deprecation for details\n"
      ]
     },
     "metadata": {},
     "output_type": "display_data"
    },
    {
     "data": {
      "text/plain": [
       "[_c0: int, ID: int ... 115 more fields]"
      ]
     },
     "execution_count": 98,
     "metadata": {},
     "output_type": "execute_result"
    }
   ],
   "source": [
    "val allDfData = trainDf.unionAll(testDfData)"
   ]
  },
  {
   "cell_type": "code",
   "execution_count": 99,
   "metadata": {},
   "outputs": [
    {
     "data": {
      "text/plain": [
       "categoriesCols = List(CLNT_TRUST_RELATION, APP_MARITAL_STATUS, APP_KIND_OF_PROP_HABITATION, CLNT_JOB_POSITION_TYPE, CLNT_JOB_POSITION, APP_DRIVING_LICENSE, APP_EDUCATION, APP_TRAVEL_PASS, APP_CAR, APP_POSITION_TYPE, APP_EMP_TYPE, APP_COMP_TYPE, PACK)\n"
      ]
     },
     "metadata": {},
     "output_type": "display_data"
    },
    {
     "data": {
      "text/plain": [
       "List(CLNT_TRUST_RELATION, APP_MARITAL_STATUS, APP_KIND_OF_PROP_HABITATION, CLNT_JOB_POSITION_TYPE, CLNT_JOB_POSITION, APP_DRIVING_LICENSE, APP_EDUCATION, APP_TRAVEL_PASS, APP_CAR, APP_POSITION_TYPE, APP_EMP_TYPE, APP_COMP_TYPE, PACK)"
      ]
     },
     "execution_count": 99,
     "metadata": {},
     "output_type": "execute_result"
    }
   ],
   "source": [
    "val categoriesCols = List(\n",
    "    \"CLNT_TRUST_RELATION\", \n",
    "    \"APP_MARITAL_STATUS\",\n",
    "    \"APP_KIND_OF_PROP_HABITATION\", \n",
    "    \"CLNT_JOB_POSITION_TYPE\",\n",
    "    \"CLNT_JOB_POSITION\", \n",
    "    \"APP_DRIVING_LICENSE\", \n",
    "    \"APP_EDUCATION\",\n",
    "    \"APP_TRAVEL_PASS\", \n",
    "    \"APP_CAR\", \n",
    "    \"APP_POSITION_TYPE\", \n",
    "    \"APP_EMP_TYPE\",\n",
    "    \"APP_COMP_TYPE\", \n",
    "    \"PACK\"\n",
    ")"
   ]
  },
  {
   "cell_type": "markdown",
   "metadata": {},
   "source": [
    "# Adding Categorical Features"
   ]
  },
  {
   "cell_type": "code",
   "execution_count": 100,
   "metadata": {},
   "outputs": [
    {
     "data": {
      "text/plain": [
       "indexer_CLNT_TRUST_RELATION = strIdx_f6fc139eed62\n",
       "indexer_APP_MARITAL_STATUS = strIdx_8f83b47a97fd\n",
       "indexer_APP_KIND_OF_PROP_HABITATION = strIdx_60e57ce45ce7\n",
       "indexer_CLNT_JOB_POSITION_TYPE = strIdx_4e0e3cba49d5\n",
       "indexer_CLNT_JOB_POSITION = strIdx_b27b68611d5e\n",
       "indexer_APP_DRIVING_LICENSE = strIdx_197043f41c87\n",
       "indexer_APP_EDUCATION = strIdx_b99870d91df1\n",
       "indexer_APP_TRAVEL_PASS = strIdx_cba9b821ab36\n"
      ]
     },
     "metadata": {},
     "output_type": "display_data"
    },
    {
     "data": {
      "text/plain": [
       "indexer_APP_CAR: org.apache.spark.ml.feature.StringInde...\n"
      ]
     },
     "metadata": {},
     "output_type": "display_data"
    },
    {
     "data": {
      "text/plain": [
       "strIdx_cba9b821ab36"
      ]
     },
     "execution_count": 100,
     "metadata": {},
     "output_type": "execute_result"
    }
   ],
   "source": [
    "val indexer_CLNT_TRUST_RELATION = new StringIndexer()\n",
    "      .setInputCol(\"CLNT_TRUST_RELATION\")\n",
    "      .setOutputCol(\"CLNT_TRUST_RELATION_index\")\n",
    "      .setHandleInvalid(\"keep\") //skip keep error\n",
    "\n",
    "val indexer_APP_MARITAL_STATUS = new StringIndexer()\n",
    "      .setInputCol(\"APP_MARITAL_STATUS\")\n",
    "      .setOutputCol(\"APP_MARITAL_STATUS_index\")\n",
    "      .setHandleInvalid(\"keep\") //skip keep error\n",
    "\n",
    "val indexer_APP_KIND_OF_PROP_HABITATION = new StringIndexer()\n",
    "      .setInputCol(\"APP_KIND_OF_PROP_HABITATION\")\n",
    "      .setOutputCol(\"APP_KIND_OF_PROP_HABITATION_index\")\n",
    "      .setHandleInvalid(\"keep\") //skip keep error\n",
    "\n",
    "val indexer_CLNT_JOB_POSITION_TYPE = new StringIndexer()\n",
    "      .setInputCol(\"CLNT_JOB_POSITION_TYPE\")\n",
    "      .setOutputCol(\"CLNT_JOB_POSITION_TYPE_index\")\n",
    "      .setHandleInvalid(\"keep\") //skip keep error\n",
    "\n",
    "val indexer_CLNT_JOB_POSITION = new StringIndexer()\n",
    "      .setInputCol(\"CLNT_JOB_POSITION\")\n",
    "      .setOutputCol(\"CLNT_JOB_POSITION_index\")\n",
    "      .setHandleInvalid(\"keep\") //skip keep error\n",
    "\n",
    "val indexer_APP_DRIVING_LICENSE = new StringIndexer()\n",
    "      .setInputCol(\"APP_DRIVING_LICENSE\")\n",
    "      .setOutputCol(\"APP_DRIVING_LICENSE_index\")\n",
    "      .setHandleInvalid(\"keep\") //skip keep error\n",
    "\n",
    "val indexer_APP_EDUCATION = new StringIndexer()\n",
    "      .setInputCol(\"APP_EDUCATION\")\n",
    "      .setOutputCol(\"APP_EDUCATION_index\")\n",
    "      .setHandleInvalid(\"keep\") //skip keep error\n",
    "\n",
    "val indexer_APP_TRAVEL_PASS = new StringIndexer()\n",
    "      .setInputCol(\"APP_TRAVEL_PASS\")\n",
    "      .setOutputCol(\"APP_TRAVEL_PASS_index\")\n",
    "      .setHandleInvalid(\"keep\") //skip keep error\n",
    "\n",
    "\n",
    "val indexer_APP_CAR = new StringIndexer()\n",
    "      .setInputCol(\"APP_CAR\")\n",
    "      .setOutputCol(\"APP_CAR_index\")\n",
    "      .setHandleInvalid(\"keep\") //skip keep error\n",
    "\n",
    "\n",
    "val indexer_APP_POSITION_TYPE = new StringIndexer()\n",
    "      .setInputCol(\"APP_POSITION_TYPE\")\n",
    "      .setOutputCol(\"APP_POSITION_TYPE_index\")\n",
    "      .setHandleInvalid(\"keep\") //skip keep error\n",
    "\n",
    "\n",
    "val indexer_APP_EMP_TYPE = new StringIndexer()\n",
    "      .setInputCol(\"APP_EMP_TYPE\")\n",
    "      .setOutputCol(\"APP_EMP_TYPE_index\")\n",
    "      .setHandleInvalid(\"keep\") //skip keep error\n",
    "\n",
    "\n",
    "val indexer_APP_COMP_TYPE = new StringIndexer()\n",
    "      .setInputCol(\"APP_COMP_TYPE\")\n",
    "      .setOutputCol(\"APP_COMP_TYPE_index\")\n",
    "      .setHandleInvalid(\"keep\") //skip keep error\n",
    "\n",
    "\n",
    "val indexer_PACK = new StringIndexer()\n",
    "      .setInputCol(\"PACK\")\n",
    "      .setOutputCol(\"PACK_index\")\n",
    "      .setHandleInvalid(\"keep\") //skip keep error\n",
    "\n",
    "\n",
    "\n",
    "import org.apache.spark.ml.Pipeline\n",
    "import org.apache.spark.ml.feature.{OneHotEncoderEstimator, OneHotEncoderModel}\n",
    "\n",
    "val transformationPipeline = new Pipeline()\n",
    "    .setStages(Array(indexer_CLNT_TRUST_RELATION, indexer_APP_MARITAL_STATUS, indexer_APP_KIND_OF_PROP_HABITATION,\n",
    "                    indexer_CLNT_JOB_POSITION_TYPE, indexer_CLNT_JOB_POSITION, indexer_APP_DRIVING_LICENSE,\n",
    "                    indexer_APP_EDUCATION, indexer_APP_TRAVEL_PASS, indexer_APP_CAR, indexer_APP_POSITION_TYPE,\n",
    "                    indexer_APP_EMP_TYPE, indexer_APP_COMP_TYPE, indexer_PACK))\n",
    "\n",
    "val train_df_w_labels = transformationPipeline.fit(allDfData).transform(trainDf)\n",
    "val test_df_w_labels = transformationPipeline.fit(allDfData).transform(testDfData)"
   ]
  },
  {
   "cell_type": "code",
   "execution_count": 101,
   "metadata": {},
   "outputs": [
    {
     "data": {
      "text/plain": [
       "train_df_w_labels_2 = [_c0: int, ID: int ... 115 more fields]\n",
       "test_df_w_labels_2 = [_c0: int, ID: int ... 115 more fields]\n"
      ]
     },
     "metadata": {},
     "output_type": "display_data"
    },
    {
     "data": {
      "text/plain": [
       "[_c0: int, ID: int ... 115 more fields]"
      ]
     },
     "execution_count": 101,
     "metadata": {},
     "output_type": "execute_result"
    }
   ],
   "source": [
    "val train_df_w_labels_2 = train_df_w_labels.drop(categoriesCols:_*).na.fill(0)\n",
    "val test_df_w_labels_2 = test_df_w_labels.drop(categoriesCols:_*).drop(\"TARGET\").na.fill(0)"
   ]
  },
  {
   "cell_type": "code",
   "execution_count": 102,
   "metadata": {},
   "outputs": [
    {
     "data": {
      "text/plain": [
       "trainDfTrain = [_c0: int, ID: int ... 115 more fields]\n",
       "trainDfTest = [_c0: int, ID: int ... 115 more fields]\n"
      ]
     },
     "metadata": {},
     "output_type": "display_data"
    },
    {
     "data": {
      "text/plain": [
       "[_c0: int, ID: int ... 115 more fields]"
      ]
     },
     "execution_count": 102,
     "metadata": {},
     "output_type": "execute_result"
    }
   ],
   "source": [
    "val Array(trainDfTrain, trainDfTest) = train_df_w_labels_2.randomSplit(Array(0.8, 0.2))"
   ]
  },
  {
   "cell_type": "code",
   "execution_count": 103,
   "metadata": {},
   "outputs": [
    {
     "data": {
      "text/plain": [
       "vectorAssembler = vecAssembler_3750ca12f584\n"
      ]
     },
     "metadata": {},
     "output_type": "display_data"
    },
    {
     "data": {
      "text/plain": [
       "vecAssembler_3750ca12f584"
      ]
     },
     "execution_count": 103,
     "metadata": {},
     "output_type": "execute_result"
    }
   ],
   "source": [
    "val vectorAssembler = new VectorAssembler()\n",
    "    .setInputCols(trainDfTrain.drop(\"TARGET\").columns)\n",
    "    .setOutputCol(\"features\")"
   ]
  },
  {
   "cell_type": "code",
   "execution_count": 104,
   "metadata": {},
   "outputs": [
    {
     "data": {
      "text/plain": [
       "trainDfCleaned = [_c0: int, ID: int ... 116 more fields]\n"
      ]
     },
     "metadata": {},
     "output_type": "display_data"
    },
    {
     "data": {
      "text/plain": [
       "[_c0: int, ID: int ... 116 more fields]"
      ]
     },
     "execution_count": 104,
     "metadata": {},
     "output_type": "execute_result"
    }
   ],
   "source": [
    "val trainDfCleaned = vectorAssembler.transform(trainDfTrain).cache"
   ]
  },
  {
   "cell_type": "code",
   "execution_count": 105,
   "metadata": {},
   "outputs": [
    {
     "name": "stdout",
     "output_type": "stream",
     "text": [
      "-RECORD 0-----------------------------------------------------------------------------------------------------------------------------------------------------------------------------------------------------------------------------------------------------------------------------------------------------------------------------------------------------------------------------------------------------------------------------------------------------------------------------\n",
      " _c0                               | 0                                                                                                                                                                                                                                                                                                                                                                                                                                                \n",
      " ID                                | 146841                                                                                                                                                                                                                                                                                                                                                                                                                                           \n",
      " CR_PROD_CNT_IL                    | 0                                                                                                                                                                                                                                                                                                                                                                                                                                                \n",
      " AMOUNT_RUB_CLO_PRC                | 0.0                                                                                                                                                                                                                                                                                                                                                                                                                                              \n",
      " PRC_ACCEPTS_A_EMAIL_LINK          | 0.0                                                                                                                                                                                                                                                                                                                                                                                                                                              \n",
      " APP_REGISTR_RGN_CODE              | 0.0                                                                                                                                                                                                                                                                                                                                                                                                                                              \n",
      " PRC_ACCEPTS_A_POS                 | 0.0                                                                                                                                                                                                                                                                                                                                                                                                                                              \n",
      " PRC_ACCEPTS_A_TK                  | 0.0                                                                                                                                                                                                                                                                                                                                                                                                                                              \n",
      " TURNOVER_DYNAMIC_IL_1M            | 0.0                                                                                                                                                                                                                                                                                                                                                                                                                                              \n",
      " CNT_TRAN_AUT_TENDENCY1M           | 0.0                                                                                                                                                                                                                                                                                                                                                                                                                                              \n",
      " SUM_TRAN_AUT_TENDENCY1M           | 0.0                                                                                                                                                                                                                                                                                                                                                                                                                                              \n",
      " AMOUNT_RUB_SUP_PRC                | 0.0                                                                                                                                                                                                                                                                                                                                                                                                                                              \n",
      " PRC_ACCEPTS_A_AMOBILE             | 0.0                                                                                                                                                                                                                                                                                                                                                                                                                                              \n",
      " SUM_TRAN_AUT_TENDENCY3M           | 0.0                                                                                                                                                                                                                                                                                                                                                                                                                                              \n",
      " PRC_ACCEPTS_TK                    | 0.0                                                                                                                                                                                                                                                                                                                                                                                                                                              \n",
      " PRC_ACCEPTS_A_MTP                 | 0.0                                                                                                                                                                                                                                                                                                                                                                                                                                              \n",
      " REST_DYNAMIC_FDEP_1M              | 0.0                                                                                                                                                                                                                                                                                                                                                                                                                                              \n",
      " CNT_TRAN_AUT_TENDENCY3M           | 0.0                                                                                                                                                                                                                                                                                                                                                                                                                                              \n",
      " CNT_ACCEPTS_TK                    | 0.0                                                                                                                                                                                                                                                                                                                                                                                                                                              \n",
      " REST_DYNAMIC_SAVE_3M              | 0.541682528005536                                                                                                                                                                                                                                                                                                                                                                                                                                \n",
      " CR_PROD_CNT_VCU                   | 0                                                                                                                                                                                                                                                                                                                                                                                                                                                \n",
      " REST_AVG_CUR                      | 156067.339766667                                                                                                                                                                                                                                                                                                                                                                                                                                 \n",
      " CNT_TRAN_MED_TENDENCY1M           | 0.0                                                                                                                                                                                                                                                                                                                                                                                                                                              \n",
      " AMOUNT_RUB_NAS_PRC                | 0.0                                                                                                                                                                                                                                                                                                                                                                                                                                              \n",
      " TRANS_COUNT_SUP_PRC               | 0.0                                                                                                                                                                                                                                                                                                                                                                                                                                              \n",
      " CNT_TRAN_CLO_TENDENCY1M           | 0.0                                                                                                                                                                                                                                                                                                                                                                                                                                              \n",
      " SUM_TRAN_MED_TENDENCY1M           | 0.0                                                                                                                                                                                                                                                                                                                                                                                                                                              \n",
      " PRC_ACCEPTS_A_ATM                 | 0.0                                                                                                                                                                                                                                                                                                                                                                                                                                              \n",
      " PRC_ACCEPTS_MTP                   | 0.0                                                                                                                                                                                                                                                                                                                                                                                                                                              \n",
      " TRANS_COUNT_NAS_PRC               | 0.0                                                                                                                                                                                                                                                                                                                                                                                                                                              \n",
      " CNT_ACCEPTS_MTP                   | 0.0                                                                                                                                                                                                                                                                                                                                                                                                                                              \n",
      " CR_PROD_CNT_TOVR                  | 0                                                                                                                                                                                                                                                                                                                                                                                                                                                \n",
      " CR_PROD_CNT_PIL                   | 0                                                                                                                                                                                                                                                                                                                                                                                                                                                \n",
      " SUM_TRAN_CLO_TENDENCY1M           | 0.0                                                                                                                                                                                                                                                                                                                                                                                                                                              \n",
      " TURNOVER_CC                       | 0.0                                                                                                                                                                                                                                                                                                                                                                                                                                              \n",
      " TRANS_COUNT_ATM_PRC               | 1.0                                                                                                                                                                                                                                                                                                                                                                                                                                              \n",
      " AMOUNT_RUB_ATM_PRC                | 1.0                                                                                                                                                                                                                                                                                                                                                                                                                                              \n",
      " TURNOVER_PAYM                     | 0.0                                                                                                                                                                                                                                                                                                                                                                                                                                              \n",
      " AGE                               | 660                                                                                                                                                                                                                                                                                                                                                                                                                                              \n",
      " CNT_TRAN_MED_TENDENCY3M           | 0.0                                                                                                                                                                                                                                                                                                                                                                                                                                              \n",
      " CR_PROD_CNT_CC                    | 0                                                                                                                                                                                                                                                                                                                                                                                                                                                \n",
      " SUM_TRAN_MED_TENDENCY3M           | 0.0                                                                                                                                                                                                                                                                                                                                                                                                                                              \n",
      " REST_DYNAMIC_FDEP_3M              | 0.0                                                                                                                                                                                                                                                                                                                                                                                                                                              \n",
      " REST_DYNAMIC_IL_1M                | 0.0                                                                                                                                                                                                                                                                                                                                                                                                                                              \n",
      " SUM_TRAN_CLO_TENDENCY3M           | 0.0                                                                                                                                                                                                                                                                                                                                                                                                                                              \n",
      " LDEAL_TENOR_MAX                   | 0.0                                                                                                                                                                                                                                                                                                                                                                                                                                              \n",
      " LDEAL_YQZ_CHRG                    | 0.0                                                                                                                                                                                                                                                                                                                                                                                                                                              \n",
      " CR_PROD_CNT_CCFP                  | 0                                                                                                                                                                                                                                                                                                                                                                                                                                                \n",
      " DEAL_YQZ_IR_MAX                   | 0.0                                                                                                                                                                                                                                                                                                                                                                                                                                              \n",
      " LDEAL_YQZ_COM                     | 0.0                                                                                                                                                                                                                                                                                                                                                                                                                                              \n",
      " DEAL_YQZ_IR_MIN                   | 0.0                                                                                                                                                                                                                                                                                                                                                                                                                                              \n",
      " CNT_TRAN_CLO_TENDENCY3M           | 0.0                                                                                                                                                                                                                                                                                                                                                                                                                                              \n",
      " REST_DYNAMIC_CUR_1M               | 0.13465080040503802                                                                                                                                                                                                                                                                                                                                                                                                                              \n",
      " REST_AVG_PAYM                     | 0.0                                                                                                                                                                                                                                                                                                                                                                                                                                              \n",
      " LDEAL_TENOR_MIN                   | 0.0                                                                                                                                                                                                                                                                                                                                                                                                                                              \n",
      " LDEAL_AMT_MONTH                   | 0.0                                                                                                                                                                                                                                                                                                                                                                                                                                              \n",
      " LDEAL_GRACE_DAYS_PCT_MED          | 0.0                                                                                                                                                                                                                                                                                                                                                                                                                                              \n",
      " REST_DYNAMIC_CUR_3M               | 0.474134155448312                                                                                                                                                                                                                                                                                                                                                                                                                                \n",
      " CNT_TRAN_SUP_TENDENCY3M           | 0.0                                                                                                                                                                                                                                                                                                                                                                                                                                              \n",
      " TURNOVER_DYNAMIC_CUR_1M           | 0.131910421518893                                                                                                                                                                                                                                                                                                                                                                                                                                \n",
      " REST_DYNAMIC_PAYM_3M              | 0.0                                                                                                                                                                                                                                                                                                                                                                                                                                              \n",
      " SUM_TRAN_SUP_TENDENCY3M           | 0.0                                                                                                                                                                                                                                                                                                                                                                                                                                              \n",
      " REST_DYNAMIC_IL_3M                | 0.0                                                                                                                                                                                                                                                                                                                                                                                                                                              \n",
      " CNT_TRAN_ATM_TENDENCY3M           | 0.40677966101694896                                                                                                                                                                                                                                                                                                                                                                                                                              \n",
      " CNT_TRAN_ATM_TENDENCY1M           | 0.101694915254237                                                                                                                                                                                                                                                                                                                                                                                                                                \n",
      " TURNOVER_DYNAMIC_IL_3M            | 0.0                                                                                                                                                                                                                                                                                                                                                                                                                                              \n",
      " SUM_TRAN_ATM_TENDENCY3M           | 0.48303180810151597                                                                                                                                                                                                                                                                                                                                                                                                                              \n",
      " DEAL_GRACE_DAYS_ACC_S1X1          | 0.0                                                                                                                                                                                                                                                                                                                                                                                                                                              \n",
      " AVG_PCT_MONTH_TO_PCLOSE           | 0.0                                                                                                                                                                                                                                                                                                                                                                                                                                              \n",
      " DEAL_YWZ_IR_MIN                   | 0.0                                                                                                                                                                                                                                                                                                                                                                                                                                              \n",
      " SUM_TRAN_SUP_TENDENCY1M           | 0.0                                                                                                                                                                                                                                                                                                                                                                                                                                              \n",
      " DEAL_YWZ_IR_MAX                   | 0.0                                                                                                                                                                                                                                                                                                                                                                                                                                              \n",
      " SUM_TRAN_ATM_TENDENCY1M           | 0.134633692705729                                                                                                                                                                                                                                                                                                                                                                                                                                \n",
      " REST_DYNAMIC_PAYM_1M              | 0.0                                                                                                                                                                                                                                                                                                                                                                                                                                              \n",
      " CNT_TRAN_SUP_TENDENCY1M           | 0.0                                                                                                                                                                                                                                                                                                                                                                                                                                              \n",
      " DEAL_GRACE_DAYS_ACC_AVG           | 0.0                                                                                                                                                                                                                                                                                                                                                                                                                                              \n",
      " TURNOVER_DYNAMIC_CUR_3M           | 0.442285369251168                                                                                                                                                                                                                                                                                                                                                                                                                                \n",
      " MAX_PCLOSE_DATE                   | 0.0                                                                                                                                                                                                                                                                                                                                                                                                                                              \n",
      " LDEAL_YQZ_PC                      | 0.0                                                                                                                                                                                                                                                                                                                                                                                                                                              \n",
      " CLNT_SETUP_TENOR                  | 1.59302288679809                                                                                                                                                                                                                                                                                                                                                                                                                                 \n",
      " DEAL_GRACE_DAYS_ACC_MAX           | 0.0                                                                                                                                                                                                                                                                                                                                                                                                                                              \n",
      " TURNOVER_DYNAMIC_PAYM_3M          | 0.0                                                                                                                                                                                                                                                                                                                                                                                                                                              \n",
      " LDEAL_DELINQ_PER_MAXYQZ           | 0.0                                                                                                                                                                                                                                                                                                                                                                                                                                              \n",
      " TURNOVER_DYNAMIC_PAYM_1M          | 0.0                                                                                                                                                                                                                                                                                                                                                                                                                                              \n",
      " CLNT_SALARY_VALUE                 | 0.0                                                                                                                                                                                                                                                                                                                                                                                                                                              \n",
      " TRANS_AMOUNT_TENDENCY3M           | 0.48303180810151597                                                                                                                                                                                                                                                                                                                                                                                                                              \n",
      " MED_DEBT_PRC_YQZ                  | 0.0                                                                                                                                                                                                                                                                                                                                                                                                                                              \n",
      " TRANS_CNT_TENDENCY3M              | 0.40677966101694896                                                                                                                                                                                                                                                                                                                                                                                                                              \n",
      " LDEAL_USED_AMT_AVG_YQZ            | 0.0                                                                                                                                                                                                                                                                                                                                                                                                                                              \n",
      " REST_DYNAMIC_CC_1M                | 0.0                                                                                                                                                                                                                                                                                                                                                                                                                                              \n",
      " LDEAL_USED_AMT_AVG_YWZ            | 0.0                                                                                                                                                                                                                                                                                                                                                                                                                                              \n",
      " TURNOVER_DYNAMIC_CC_1M            | 0.0                                                                                                                                                                                                                                                                                                                                                                                                                                              \n",
      " AVG_PCT_DEBT_TO_DEAL_AMT          | 0.0                                                                                                                                                                                                                                                                                                                                                                                                                                              \n",
      " LDEAL_ACT_DAYS_ACC_PCT_AVG        | 0.0                                                                                                                                                                                                                                                                                                                                                                                                                                              \n",
      " REST_DYNAMIC_CC_3M                | 0.0                                                                                                                                                                                                                                                                                                                                                                                                                                              \n",
      " MED_DEBT_PRC_YWZ                  | 0.0                                                                                                                                                                                                                                                                                                                                                                                                                                              \n",
      " LDEAL_ACT_DAYS_PCT_TR3            | 0.0                                                                                                                                                                                                                                                                                                                                                                                                                                              \n",
      " LDEAL_ACT_DAYS_PCT_AAVG           | 0.0                                                                                                                                                                                                                                                                                                                                                                                                                                              \n",
      " LDEAL_DELINQ_PER_MAXYWZ           | 0.0                                                                                                                                                                                                                                                                                                                                                                                                                                              \n",
      " TURNOVER_DYNAMIC_CC_3M            | 0.0                                                                                                                                                                                                                                                                                                                                                                                                                                              \n",
      " LDEAL_ACT_DAYS_PCT_TR             | 0.0                                                                                                                                                                                                                                                                                                                                                                                                                                              \n",
      " LDEAL_ACT_DAYS_PCT_TR4            | 0.0                                                                                                                                                                                                                                                                                                                                                                                                                                              \n",
      " LDEAL_ACT_DAYS_PCT_CURR           | 0.0                                                                                                                                                                                                                                                                                                                                                                                                                                              \n",
      " TARGET                            | 0                                                                                                                                                                                                                                                                                                                                                                                                                                                \n",
      " CLNT_TRUST_RELATION_index         | 22.0                                                                                                                                                                                                                                                                                                                                                                                                                                             \n",
      " APP_MARITAL_STATUS_index          | 13.0                                                                                                                                                                                                                                                                                                                                                                                                                                             \n",
      " APP_KIND_OF_PROP_HABITATION_index | 5.0                                                                                                                                                                                                                                                                                                                                                                                                                                              \n",
      " CLNT_JOB_POSITION_TYPE_index      | 4.0                                                                                                                                                                                                                                                                                                                                                                                                                                              \n",
      " CLNT_JOB_POSITION_index           | 55.0                                                                                                                                                                                                                                                                                                                                                                                                                                             \n",
      " APP_DRIVING_LICENSE_index         | 2.0                                                                                                                                                                                                                                                                                                                                                                                                                                              \n",
      " APP_EDUCATION_index               | 17.0                                                                                                                                                                                                                                                                                                                                                                                                                                             \n",
      " APP_TRAVEL_PASS_index             | 2.0                                                                                                                                                                                                                                                                                                                                                                                                                                              \n",
      " APP_CAR_index                     | 2.0                                                                                                                                                                                                                                                                                                                                                                                                                                              \n",
      " APP_POSITION_TYPE_index           | 4.0                                                                                                                                                                                                                                                                                                                                                                                                                                              \n",
      " APP_EMP_TYPE_index                | 4.0                                                                                                                                                                                                                                                                                                                                                                                                                                              \n",
      " APP_COMP_TYPE_index               | 4.0                                                                                                                                                                                                                                                                                                                                                                                                                                              \n",
      " PACK_index                        | 1.0                                                                                                                                                                                                                                                                                                                                                                                                                                              \n",
      " features                          | (116,[1,19,21,35,36,38,52,57,59,63,64,66,72,76,79,85,87,103,104,105,106,107,108,109,110,111,112,113,114,115],[146841.0,0.541682528005536,156067.339766667,1.0,1.0,660.0,0.13465080040503802,0.474134155448312,0.131910421518893,0.40677966101694896,0.101694915254237,0.48303180810151597,0.134633692705729,0.442285369251168,1.59302288679809,0.48303180810151597,0.40677966101694896,22.0,13.0,5.0,4.0,55.0,2.0,17.0,2.0,2.0,4.0,4.0,4.0,1.0]) \n",
      "only showing top 1 row\n",
      "\n"
     ]
    }
   ],
   "source": [
    "trainDfCleaned.show(1, 0, true)"
   ]
  },
  {
   "cell_type": "code",
   "execution_count": 106,
   "metadata": {},
   "outputs": [
    {
     "data": {
      "text/plain": [
       "GBTModel = GBTClassificationModel (uid=gbtc_89e8b7e926e2) with 20 trees\n"
      ]
     },
     "metadata": {},
     "output_type": "display_data"
    },
    {
     "data": {
      "text/plain": [
       "GBTClassificationModel (uid=gbtc_89e8b7e926e2) with 20 trees"
      ]
     },
     "execution_count": 106,
     "metadata": {},
     "output_type": "execute_result"
    }
   ],
   "source": [
    "val GBTModel = new GBTClassifier()\n",
    "  .setLabelCol(\"TARGET\")\n",
    "  .setFeaturesCol(\"features\")\n",
    "  .setFeatureSubsetStrategy(\"auto\").fit(trainDfCleaned)"
   ]
  },
  {
   "cell_type": "code",
   "execution_count": 107,
   "metadata": {},
   "outputs": [
    {
     "name": "stdout",
     "output_type": "stream",
     "text": [
      "+------+--------------------+--------------------+--------------------+----------+\n",
      "|TARGET|            features|       rawPrediction|         probability|prediction|\n",
      "+------+--------------------+--------------------+--------------------+----------+\n",
      "|     0|(116,[0,1,37,38,5...|[0.43606581532409...|[0.70518905232983...|       0.0|\n",
      "|     0|(116,[0,1,5,11,13...|[1.49356329379248...|[0.95198914894640...|       0.0|\n",
      "|     0|(116,[0,1,3,9,10,...|[1.48741024992158...|[0.95142355040300...|       0.0|\n",
      "|     0|(116,[0,1,3,5,9,1...|[1.19245001818081...|[0.91566858474432...|       0.0|\n",
      "|     0|(116,[0,1,3,9,10,...|[1.16202152811614...|[0.91084879584933...|       0.0|\n",
      "+------+--------------------+--------------------+--------------------+----------+\n",
      "only showing top 5 rows\n",
      "\n"
     ]
    },
    {
     "data": {
      "text/plain": [
       "predictions = [_c0: int, ID: int ... 119 more fields]\n"
      ]
     },
     "metadata": {},
     "output_type": "display_data"
    },
    {
     "data": {
      "text/plain": [
       "[_c0: int, ID: int ... 119 more fields]"
      ]
     },
     "execution_count": 107,
     "metadata": {},
     "output_type": "execute_result"
    }
   ],
   "source": [
    "val predictions = GBTModel.transform(\n",
    "    vectorAssembler.transform(trainDfTest)\n",
    ").cache\n",
    "\n",
    "predictions\n",
    "    .select(\n",
    "        \"TARGET\",\n",
    "        \"features\",\n",
    "        \"rawPrediction\",\n",
    "        \"probability\",\n",
    "        \"prediction\"\n",
    "    )\n",
    "    .show(5)"
   ]
  },
  {
   "cell_type": "code",
   "execution_count": 108,
   "metadata": {},
   "outputs": [
    {
     "name": "stdout",
     "output_type": "stream",
     "text": [
      "root\n",
      " |-- _c0: integer (nullable = false)\n",
      " |-- ID: integer (nullable = false)\n",
      " |-- CR_PROD_CNT_IL: integer (nullable = false)\n",
      " |-- AMOUNT_RUB_CLO_PRC: double (nullable = false)\n",
      " |-- PRC_ACCEPTS_A_EMAIL_LINK: double (nullable = false)\n",
      " |-- APP_REGISTR_RGN_CODE: double (nullable = false)\n",
      " |-- PRC_ACCEPTS_A_POS: double (nullable = false)\n",
      " |-- PRC_ACCEPTS_A_TK: double (nullable = false)\n",
      " |-- TURNOVER_DYNAMIC_IL_1M: double (nullable = false)\n",
      " |-- CNT_TRAN_AUT_TENDENCY1M: double (nullable = false)\n",
      " |-- SUM_TRAN_AUT_TENDENCY1M: double (nullable = false)\n",
      " |-- AMOUNT_RUB_SUP_PRC: double (nullable = false)\n",
      " |-- PRC_ACCEPTS_A_AMOBILE: double (nullable = false)\n",
      " |-- SUM_TRAN_AUT_TENDENCY3M: double (nullable = false)\n",
      " |-- PRC_ACCEPTS_TK: double (nullable = false)\n",
      " |-- PRC_ACCEPTS_A_MTP: double (nullable = false)\n",
      " |-- REST_DYNAMIC_FDEP_1M: double (nullable = false)\n",
      " |-- CNT_TRAN_AUT_TENDENCY3M: double (nullable = false)\n",
      " |-- CNT_ACCEPTS_TK: double (nullable = false)\n",
      " |-- REST_DYNAMIC_SAVE_3M: double (nullable = false)\n",
      " |-- CR_PROD_CNT_VCU: integer (nullable = false)\n",
      " |-- REST_AVG_CUR: double (nullable = false)\n",
      " |-- CNT_TRAN_MED_TENDENCY1M: double (nullable = false)\n",
      " |-- AMOUNT_RUB_NAS_PRC: double (nullable = false)\n",
      " |-- TRANS_COUNT_SUP_PRC: double (nullable = false)\n",
      " |-- CNT_TRAN_CLO_TENDENCY1M: double (nullable = false)\n",
      " |-- SUM_TRAN_MED_TENDENCY1M: double (nullable = false)\n",
      " |-- PRC_ACCEPTS_A_ATM: double (nullable = false)\n",
      " |-- PRC_ACCEPTS_MTP: double (nullable = false)\n",
      " |-- TRANS_COUNT_NAS_PRC: double (nullable = false)\n",
      " |-- CNT_ACCEPTS_MTP: double (nullable = false)\n",
      " |-- CR_PROD_CNT_TOVR: integer (nullable = false)\n",
      " |-- CR_PROD_CNT_PIL: integer (nullable = false)\n",
      " |-- SUM_TRAN_CLO_TENDENCY1M: double (nullable = false)\n",
      " |-- TURNOVER_CC: double (nullable = false)\n",
      " |-- TRANS_COUNT_ATM_PRC: double (nullable = false)\n",
      " |-- AMOUNT_RUB_ATM_PRC: double (nullable = false)\n",
      " |-- TURNOVER_PAYM: double (nullable = false)\n",
      " |-- AGE: integer (nullable = false)\n",
      " |-- CNT_TRAN_MED_TENDENCY3M: double (nullable = false)\n",
      " |-- CR_PROD_CNT_CC: integer (nullable = false)\n",
      " |-- SUM_TRAN_MED_TENDENCY3M: double (nullable = false)\n",
      " |-- REST_DYNAMIC_FDEP_3M: double (nullable = false)\n",
      " |-- REST_DYNAMIC_IL_1M: double (nullable = false)\n",
      " |-- SUM_TRAN_CLO_TENDENCY3M: double (nullable = false)\n",
      " |-- LDEAL_TENOR_MAX: double (nullable = false)\n",
      " |-- LDEAL_YQZ_CHRG: double (nullable = false)\n",
      " |-- CR_PROD_CNT_CCFP: integer (nullable = false)\n",
      " |-- DEAL_YQZ_IR_MAX: double (nullable = false)\n",
      " |-- LDEAL_YQZ_COM: double (nullable = false)\n",
      " |-- DEAL_YQZ_IR_MIN: double (nullable = false)\n",
      " |-- CNT_TRAN_CLO_TENDENCY3M: double (nullable = false)\n",
      " |-- REST_DYNAMIC_CUR_1M: double (nullable = false)\n",
      " |-- REST_AVG_PAYM: double (nullable = false)\n",
      " |-- LDEAL_TENOR_MIN: double (nullable = false)\n",
      " |-- LDEAL_AMT_MONTH: double (nullable = false)\n",
      " |-- LDEAL_GRACE_DAYS_PCT_MED: double (nullable = false)\n",
      " |-- REST_DYNAMIC_CUR_3M: double (nullable = false)\n",
      " |-- CNT_TRAN_SUP_TENDENCY3M: double (nullable = false)\n",
      " |-- TURNOVER_DYNAMIC_CUR_1M: double (nullable = false)\n",
      " |-- REST_DYNAMIC_PAYM_3M: double (nullable = false)\n",
      " |-- SUM_TRAN_SUP_TENDENCY3M: double (nullable = false)\n",
      " |-- REST_DYNAMIC_IL_3M: double (nullable = false)\n",
      " |-- CNT_TRAN_ATM_TENDENCY3M: double (nullable = false)\n",
      " |-- CNT_TRAN_ATM_TENDENCY1M: double (nullable = false)\n",
      " |-- TURNOVER_DYNAMIC_IL_3M: double (nullable = false)\n",
      " |-- SUM_TRAN_ATM_TENDENCY3M: double (nullable = false)\n",
      " |-- DEAL_GRACE_DAYS_ACC_S1X1: double (nullable = false)\n",
      " |-- AVG_PCT_MONTH_TO_PCLOSE: double (nullable = false)\n",
      " |-- DEAL_YWZ_IR_MIN: double (nullable = false)\n",
      " |-- SUM_TRAN_SUP_TENDENCY1M: double (nullable = false)\n",
      " |-- DEAL_YWZ_IR_MAX: double (nullable = false)\n",
      " |-- SUM_TRAN_ATM_TENDENCY1M: double (nullable = false)\n",
      " |-- REST_DYNAMIC_PAYM_1M: double (nullable = false)\n",
      " |-- CNT_TRAN_SUP_TENDENCY1M: double (nullable = false)\n",
      " |-- DEAL_GRACE_DAYS_ACC_AVG: double (nullable = false)\n",
      " |-- TURNOVER_DYNAMIC_CUR_3M: double (nullable = false)\n",
      " |-- MAX_PCLOSE_DATE: double (nullable = false)\n",
      " |-- LDEAL_YQZ_PC: double (nullable = false)\n",
      " |-- CLNT_SETUP_TENOR: double (nullable = false)\n",
      " |-- DEAL_GRACE_DAYS_ACC_MAX: double (nullable = false)\n",
      " |-- TURNOVER_DYNAMIC_PAYM_3M: double (nullable = false)\n",
      " |-- LDEAL_DELINQ_PER_MAXYQZ: double (nullable = false)\n",
      " |-- TURNOVER_DYNAMIC_PAYM_1M: double (nullable = false)\n",
      " |-- CLNT_SALARY_VALUE: double (nullable = false)\n",
      " |-- TRANS_AMOUNT_TENDENCY3M: double (nullable = false)\n",
      " |-- MED_DEBT_PRC_YQZ: double (nullable = false)\n",
      " |-- TRANS_CNT_TENDENCY3M: double (nullable = false)\n",
      " |-- LDEAL_USED_AMT_AVG_YQZ: double (nullable = false)\n",
      " |-- REST_DYNAMIC_CC_1M: double (nullable = false)\n",
      " |-- LDEAL_USED_AMT_AVG_YWZ: double (nullable = false)\n",
      " |-- TURNOVER_DYNAMIC_CC_1M: double (nullable = false)\n",
      " |-- AVG_PCT_DEBT_TO_DEAL_AMT: double (nullable = false)\n",
      " |-- LDEAL_ACT_DAYS_ACC_PCT_AVG: double (nullable = false)\n",
      " |-- REST_DYNAMIC_CC_3M: double (nullable = false)\n",
      " |-- MED_DEBT_PRC_YWZ: double (nullable = false)\n",
      " |-- LDEAL_ACT_DAYS_PCT_TR3: double (nullable = false)\n",
      " |-- LDEAL_ACT_DAYS_PCT_AAVG: double (nullable = false)\n",
      " |-- LDEAL_DELINQ_PER_MAXYWZ: double (nullable = false)\n",
      " |-- TURNOVER_DYNAMIC_CC_3M: double (nullable = false)\n",
      " |-- LDEAL_ACT_DAYS_PCT_TR: double (nullable = false)\n",
      " |-- LDEAL_ACT_DAYS_PCT_TR4: double (nullable = false)\n",
      " |-- LDEAL_ACT_DAYS_PCT_CURR: double (nullable = false)\n",
      " |-- TARGET: integer (nullable = false)\n",
      " |-- CLNT_TRUST_RELATION_index: double (nullable = false)\n",
      " |-- APP_MARITAL_STATUS_index: double (nullable = false)\n",
      " |-- APP_KIND_OF_PROP_HABITATION_index: double (nullable = false)\n",
      " |-- CLNT_JOB_POSITION_TYPE_index: double (nullable = false)\n",
      " |-- CLNT_JOB_POSITION_index: double (nullable = false)\n",
      " |-- APP_DRIVING_LICENSE_index: double (nullable = false)\n",
      " |-- APP_EDUCATION_index: double (nullable = false)\n",
      " |-- APP_TRAVEL_PASS_index: double (nullable = false)\n",
      " |-- APP_CAR_index: double (nullable = false)\n",
      " |-- APP_POSITION_TYPE_index: double (nullable = false)\n",
      " |-- APP_EMP_TYPE_index: double (nullable = false)\n",
      " |-- APP_COMP_TYPE_index: double (nullable = false)\n",
      " |-- PACK_index: double (nullable = false)\n",
      " |-- features: vector (nullable = true)\n",
      " |-- rawPrediction: vector (nullable = true)\n",
      " |-- probability: vector (nullable = true)\n",
      " |-- prediction: double (nullable = false)\n",
      "\n"
     ]
    }
   ],
   "source": [
    "predictions.printSchema()"
   ]
  },
  {
   "cell_type": "code",
   "execution_count": 109,
   "metadata": {},
   "outputs": [
    {
     "data": {
      "text/plain": [
       "vectorToArrayUdf = UserDefinedFunction(<function1>,ArrayType(DoubleType,false),None)\n"
      ]
     },
     "metadata": {},
     "output_type": "display_data"
    },
    {
     "data": {
      "text/plain": [
       "import org.apache.spark.mllib.linalg.{Vector=>OldVector}\n"
      ]
     },
     "metadata": {},
     "output_type": "display_data"
    },
    {
     "data": {
      "text/plain": [
       "UserDefinedFunction(<function1>,ArrayType(DoubleType,false),None)"
      ]
     },
     "execution_count": 109,
     "metadata": {},
     "output_type": "execute_result"
    }
   ],
   "source": [
    "import org.apache.spark.ml.linalg.{SparseVector, Vector}\n",
    "import org.apache.spark.mllib.linalg.{Vector => OldVector}\n",
    "\n",
    "val vectorToArrayUdf = udf { vec: Any =>\n",
    "    vec match {\n",
    "      case v: Vector => v.toArray\n",
    "      case v: OldVector => v.toArray\n",
    "      case v => throw new IllegalArgumentException(\n",
    "        \"function vector_to_array requires a non-null input argument and input type must be \" +\n",
    "        \"`org.apache.spark.ml.linalg.Vector` or `org.apache.spark.mllib.linalg.Vector`, \" +\n",
    "        s\"but got ${ if (v == null) \"null\" else v.getClass.getName }.\")\n",
    "    }\n",
    "  }.asNonNullable()"
   ]
  },
  {
   "cell_type": "code",
   "execution_count": 110,
   "metadata": {},
   "outputs": [
    {
     "name": "stdout",
     "output_type": "stream",
     "text": [
      "+--------------------+\n",
      "| UDF(probability)[1]|\n",
      "+--------------------+\n",
      "| 0.29481094767016813|\n",
      "| 0.04801085105359382|\n",
      "|0.048576449596990146|\n",
      "|   0.084331415255671|\n",
      "| 0.08915120415066313|\n",
      "+--------------------+\n",
      "only showing top 5 rows\n",
      "\n"
     ]
    }
   ],
   "source": [
    "predictions\n",
    "    .select(vectorToArrayUdf(col(\"probability\")).getItem(1))\n",
    "    .show(5)"
   ]
  },
  {
   "cell_type": "code",
   "execution_count": 111,
   "metadata": {},
   "outputs": [
    {
     "data": {
      "text/plain": [
       "evaluator = binEval_fa87886c0b70\n",
       "accuracy = 0.8204363400240859\n"
      ]
     },
     "metadata": {},
     "output_type": "display_data"
    },
    {
     "data": {
      "text/plain": [
       "0.8204363400240859"
      ]
     },
     "execution_count": 111,
     "metadata": {},
     "output_type": "execute_result"
    }
   ],
   "source": [
    "val evaluator = new BinaryClassificationEvaluator()\n",
    "    .setLabelCol(\"TARGET\")\n",
    "    .setRawPredictionCol(\"prediction\")\n",
    "    .setMetricName(\"areaUnderROC\")\n",
    "\n",
    "val accuracy = evaluator\n",
    "    .evaluate(\n",
    "        predictions.withColumn(\"prediction\", vectorToArrayUdf(col(\"probability\")).getItem(1))\n",
    "    )"
   ]
  },
  {
   "cell_type": "markdown",
   "metadata": {},
   "source": [
    "## TEST"
   ]
  },
  {
   "cell_type": "code",
   "execution_count": 112,
   "metadata": {},
   "outputs": [
    {
     "data": {
      "text/plain": [
       "realPredictions = [_c0: int, ID: int ... 119 more fields]\n"
      ]
     },
     "metadata": {},
     "output_type": "display_data"
    },
    {
     "data": {
      "text/plain": [
       "[_c0: int, ID: int ... 119 more fields]"
      ]
     },
     "execution_count": 112,
     "metadata": {},
     "output_type": "execute_result"
    }
   ],
   "source": [
    "val realPredictions = GBTModel.transform(vectorAssembler.transform(test_df_w_labels_2)).cache"
   ]
  },
  {
   "cell_type": "code",
   "execution_count": 113,
   "metadata": {},
   "outputs": [
    {
     "name": "stdout",
     "output_type": "stream",
     "text": [
      "+------+-------------------+\n",
      "|    ID|         prediction|\n",
      "+------+-------------------+\n",
      "|519130|0.14858176063890438|\n",
      "|234045|0.05097217168062762|\n",
      "|401256|0.04900388559171254|\n",
      "|551070|0.07142147319259684|\n",
      "|367285|0.05181430255646935|\n",
      "+------+-------------------+\n",
      "only showing top 5 rows\n",
      "\n"
     ]
    }
   ],
   "source": [
    "realPredictions\n",
    "    .withColumn(\"prediction\", vectorToArrayUdf(col(\"probability\")).getItem(1))\n",
    "    .select(\"ID\", \"prediction\")\n",
    "    .show(5)"
   ]
  },
  {
   "cell_type": "code",
   "execution_count": 114,
   "metadata": {},
   "outputs": [
    {
     "data": {
      "text/plain": [
       "[_c0: int, ID: int ... 119 more fields]"
      ]
     },
     "execution_count": 114,
     "metadata": {},
     "output_type": "execute_result"
    }
   ],
   "source": [
    "realPredictions"
   ]
  },
  {
   "cell_type": "code",
   "execution_count": 115,
   "metadata": {},
   "outputs": [],
   "source": [
    "realPredictions\n",
    "    .withColumn(\"prediction\", vectorToArrayUdf(col(\"probability\")).getItem(1))\n",
    "    .select(\"ID\", \"prediction\")\n",
    "    .withColumnRenamed(\"ID\", \"id\")\n",
    "    .withColumnRenamed(\"prediction\", \"target\")\n",
    "    .coalesce(1)\n",
    "    .write\n",
    "    .option(\"header\", \"true\")\n",
    "    .mode(\"overwrite\")\n",
    "    .format(\"csv\")\n",
    "    .option(\"sep\" ,\"\\t\")\n",
    "    .save(\"lab05.csv\")"
   ]
  },
  {
   "cell_type": "code",
   "execution_count": null,
   "metadata": {},
   "outputs": [],
   "source": []
  }
 ],
 "metadata": {
  "kernelspec": {
   "display_name": "Apache Toree - Scala",
   "language": "scala",
   "name": "apache_toree_scala"
  },
  "language_info": {
   "codemirror_mode": "text/x-scala",
   "file_extension": ".scala",
   "mimetype": "text/x-scala",
   "name": "scala",
   "pygments_lexer": "scala",
   "version": "2.11.12"
  }
 },
 "nbformat": 4,
 "nbformat_minor": 2
}
