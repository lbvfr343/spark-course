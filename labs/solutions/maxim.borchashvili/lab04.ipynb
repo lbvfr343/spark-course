{
 "cells": [
  {
   "cell_type": "code",
   "execution_count": 1,
   "metadata": {},
   "outputs": [],
   "source": [
    "import os\n",
    "import sys\n",
    "os.environ[\"PYSPARK_PYTHON\"]='/opt/anaconda/envs/bd9/bin/python'\n",
    "os.environ[\"SPARK_HOME\"]='/usr/hdp/current/spark2-client'\n",
    "os.environ[\"PYSPARK_SUBMIT_ARGS\"]='--num-executors 5 --executor-memory 4g --executor-cores 1 --driver-memory 3g pyspark-shell'\n",
    "\n",
    "spark_home = os.environ.get('SPARK_HOME', None)\n",
    "\n",
    "sys.path.insert(0, os.path.join(spark_home, 'python'))\n",
    "sys.path.insert(0, os.path.join(spark_home, 'python/lib/py4j-0.10.7-src.zip'))"
   ]
  },
  {
   "cell_type": "code",
   "execution_count": 2,
   "metadata": {},
   "outputs": [
    {
     "data": {
      "text/html": [
       "\n",
       "            <div>\n",
       "                <p><b>SparkSession - in-memory</b></p>\n",
       "                \n",
       "        <div>\n",
       "            <p><b>SparkContext</b></p>\n",
       "\n",
       "            <p><a href=\"http://spark-master-5.newprolab.com:4041\">Spark UI</a></p>\n",
       "\n",
       "            <dl>\n",
       "              <dt>Version</dt>\n",
       "                <dd><code>v2.4.7</code></dd>\n",
       "              <dt>Master</dt>\n",
       "                <dd><code>local[2]</code></dd>\n",
       "              <dt>AppName</dt>\n",
       "                <dd><code>spark-course</code></dd>\n",
       "            </dl>\n",
       "        </div>\n",
       "        \n",
       "            </div>\n",
       "        "
      ],
      "text/plain": [
       "<pyspark.sql.session.SparkSession at 0x7f41df582be0>"
      ]
     },
     "execution_count": 2,
     "metadata": {},
     "output_type": "execute_result"
    }
   ],
   "source": [
    "from pyspark.sql import SparkSession\n",
    "\n",
    "spark = SparkSession.builder \\\n",
    "                    .master(\"local[2]\") \\\n",
    "                    .appName(\"spark-course\") \\\n",
    "                    .config(\"spark.driver.memory\", \"512m\") \\\n",
    "                    .config(\"spark.jars.packages\", \"org.apache.spark:spark-sql-kafka-0-10_2.11:2.4.5\") \\\n",
    "                    .getOrCreate()\n",
    "\n",
    "spark"
   ]
  },
  {
   "cell_type": "code",
   "execution_count": 3,
   "metadata": {},
   "outputs": [
    {
     "name": "stdout",
     "output_type": "stream",
     "text": [
      "Found 1 items\r\n",
      "-rw-r--r--   3 hdfs hdfs  655090069 2022-01-06 18:46 /labs/slaba04/gender_age_dataset.txt\r\n"
     ]
    }
   ],
   "source": [
    "!hdfs dfs -ls \"/labs/slaba04/\""
   ]
  },
  {
   "cell_type": "code",
   "execution_count": 105,
   "metadata": {},
   "outputs": [],
   "source": [
    "from pyspark.sql.types import *\n",
    "import pyspark.sql.functions as f\n",
    "from pyspark.ml.feature import HashingTF, IDF, StringIndexer,IndexToString, CountVectorizer\n",
    "from pyspark.ml.classification import LogisticRegression\n",
    "from pyspark.ml import Pipeline\n",
    "from pyspark.ml.evaluation import MulticlassClassificationEvaluator"
   ]
  },
  {
   "cell_type": "code",
   "execution_count": 35,
   "metadata": {},
   "outputs": [
    {
     "name": "stdout",
     "output_type": "stream",
     "text": [
      "+------+-----+--------------------+--------------------+\n",
      "|gender|  age|                 uid|           user_json|\n",
      "+------+-----+--------------------+--------------------+\n",
      "|     F|18-24|d50192e5-c44e-4ae...|{\"visits\": [{\"url...|\n",
      "+------+-----+--------------------+--------------------+\n",
      "only showing top 1 row\n",
      "\n",
      "DataFrame[gender: string, age: string, uid: string, user_json: string]\n"
     ]
    }
   ],
   "source": [
    "path = \"/labs/slaba04/gender_age_dataset.txt\"\n",
    "\n",
    "schema = StructType(fields=[\n",
    "    StructField('gender', StringType()),\n",
    "    StructField('age', StringType()),\n",
    "    StructField('uid', StringType()),\n",
    "    StructField('user_json', StringType()),\n",
    "])\n",
    "\n",
    "df = spark.read.csv(path, header=True, schema=schema, sep='\\t')\n",
    "df.show(1)\n",
    "print(df)"
   ]
  },
  {
   "cell_type": "code",
   "execution_count": 36,
   "metadata": {},
   "outputs": [],
   "source": [
    "df = df.withColumn(\"visits\", f.from_json(f.col(\"user_json\"), StructType([\n",
    "    StructField(\"visits\", ArrayType(\n",
    "        StructType([\n",
    "            StructField(\"url\", StringType(), True),\n",
    "            StructField(\"timestamp\", LongType(), True) \n",
    "            ])\n",
    "        ))\n",
    "    ]))) \\\n",
    "    .withColumn(\"visit\", f.explode(\"visits.visits\")) \\\n",
    "    .withColumn(\"host\", f.expr(\"parse_url(visit.url, 'HOST')\")) \\\n",
    "    .drop(\"user_json\", \"visits\", \"visit\")"
   ]
  },
  {
   "cell_type": "code",
   "execution_count": 37,
   "metadata": {},
   "outputs": [
    {
     "name": "stdout",
     "output_type": "stream",
     "text": [
      "+------+-----+--------------------+--------------------+\n",
      "|gender|  age|                 uid|                host|\n",
      "+------+-----+--------------------+--------------------+\n",
      "|     F|18-24|d50192e5-c44e-4ae...|       zebra-zoya.ru|\n",
      "|     F|18-24|d50192e5-c44e-4ae...|      news.yandex.ru|\n",
      "|     F|18-24|d50192e5-c44e-4ae...|      www.sotovik.ru|\n",
      "|     F|18-24|d50192e5-c44e-4ae...|      news.yandex.ru|\n",
      "|     F|18-24|d50192e5-c44e-4ae...|      www.sotovik.ru|\n",
      "|     M|25-34|d502331d-621e-472...|      sweetrading.ru|\n",
      "|     M|25-34|d502331d-621e-472...|      sweetrading.ru|\n",
      "|     M|25-34|d502331d-621e-472...|      sweetrading.ru|\n",
      "|     M|25-34|d502331d-621e-472...|              101.ru|\n",
      "|     M|25-34|d502331d-621e-472...|      sweetrading.ru|\n",
      "|     M|25-34|d502331d-621e-472...|      sweetrading.ru|\n",
      "|     M|25-34|d502331d-621e-472...|      sweetrading.ru|\n",
      "|     M|25-34|d502331d-621e-472...|      sweetrading.ru|\n",
      "|     M|25-34|d502331d-621e-472...|      sweetrading.ru|\n",
      "|     M|25-34|d502331d-621e-472...|      sweetrading.ru|\n",
      "|     M|25-34|d502331d-621e-472...|            oesex.ru|\n",
      "|     M|25-34|d502331d-621e-472...|     www.interfax.ru|\n",
      "|     M|25-34|d502331d-621e-472...|              101.ru|\n",
      "|     M|25-34|d502331d-621e-472...|     www.interfax.ru|\n",
      "|     M|25-34|d502331d-621e-472...|www.euroavtoproka...|\n",
      "+------+-----+--------------------+--------------------+\n",
      "only showing top 20 rows\n",
      "\n"
     ]
    }
   ],
   "source": [
    "df.show()"
   ]
  },
  {
   "cell_type": "code",
   "execution_count": 38,
   "metadata": {},
   "outputs": [
    {
     "name": "stdout",
     "output_type": "stream",
     "text": [
      "+------+---+--------------------+--------------------+\n",
      "|gender|age|                 uid|                host|\n",
      "+------+---+--------------------+--------------------+\n",
      "|     -|  -|bd7a30e1-a25d-4cb...|     www.interfax.ru|\n",
      "|     -|  -|bd7a30e1-a25d-4cb...|amerikan-gruzovik.ru|\n",
      "|     -|  -|bd7a30e1-a25d-4cb...|amerikan-gruzovik.ru|\n",
      "|     -|  -|bd7a30e1-a25d-4cb...|amerikan-gruzovik.ru|\n",
      "|     -|  -|bd7a30e1-a25d-4cb...|amerikan-gruzovik.ru|\n",
      "|     -|  -|bd7a30e1-a25d-4cb...|amerikan-gruzovik.ru|\n",
      "|     -|  -|bd7a30e1-a25d-4cb...|amerikan-gruzovik.ru|\n",
      "|     -|  -|bd7a30e1-a25d-4cb...|amerikan-gruzovik.ru|\n",
      "|     -|  -|bd7a30e1-a25d-4cb...|amerikan-gruzovik.ru|\n",
      "|     -|  -|bd7a30e1-a25d-4cb...|amerikan-gruzovik.ru|\n",
      "|     -|  -|bd7a30e1-a25d-4cb...|amerikan-gruzovik.ru|\n",
      "|     -|  -|bd7a30e1-a25d-4cb...|amerikan-gruzovik.ru|\n",
      "|     -|  -|bd7a30e1-a25d-4cb...|amerikan-gruzovik.ru|\n",
      "|     -|  -|bd7a30e1-a25d-4cb...|amerikan-gruzovik.ru|\n",
      "|     -|  -|bd7a30e1-a25d-4cb...|amerikan-gruzovik.ru|\n",
      "|     -|  -|bd7a30e1-a25d-4cb...|amerikan-gruzovik.ru|\n",
      "|     -|  -|bd7a30e1-a25d-4cb...|amerikan-gruzovik.ru|\n",
      "|     -|  -|bd7a30e1-a25d-4cb...|         tv.jampo.tv|\n",
      "|     -|  -|bd7a30e1-a25d-4cb...|  www.sovsekretno.ru|\n",
      "|     -|  -|bd7a30e1-a25d-4cb...|       marketgid.com|\n",
      "+------+---+--------------------+--------------------+\n",
      "only showing top 20 rows\n",
      "\n"
     ]
    }
   ],
   "source": [
    "df[(df.gender!='F')&(df.gender!='M')].show()"
   ]
  },
  {
   "cell_type": "code",
   "execution_count": 42,
   "metadata": {},
   "outputs": [],
   "source": [
    "df = df[(df.age != \"-\")&(df.gender != \"-\")]\n",
    "df = df.groupBy(\"gender\", \"age\", \"uid\").agg(f.collect_list(\"host\").alias('hosts')).filter(f.size('hosts') != 0)"
   ]
  },
  {
   "cell_type": "code",
   "execution_count": 43,
   "metadata": {},
   "outputs": [
    {
     "name": "stdout",
     "output_type": "stream",
     "text": [
      "+------+-----+--------------------+--------------------+\n",
      "|gender|  age|                 uid|               hosts|\n",
      "+------+-----+--------------------+--------------------+\n",
      "|     F|18-24|09b1ecd3-b2d2-4c1...|[tankionline.com,...|\n",
      "|     F|18-24|15faf063-5e44-4b6...|[allods.mail.ru, ...|\n",
      "|     F|18-24|560142d9-6c9c-439...|[http, http, http...|\n",
      "|     F|18-24|6709f443-7ddd-423...|[muzofon.com, muz...|\n",
      "|     F|18-24|67e9bd68-ef03-49c...|[tempfile.ru, tem...|\n",
      "|     F|18-24|757ff5c2-ecdb-489...|[www.yves-rocher....|\n",
      "|     F|18-24|c430a9d4-5f48-47c...|[www.eporner.com,...|\n",
      "|     F|18-24|d1d59923-51d7-4a1...|[shop.lenovo.com,...|\n",
      "|     F|18-24|fca5deb7-77f4-4c4...|[b.jaymedianetwor...|\n",
      "|     F|25-34|0521da78-b729-4a0...|[mirknig.com, mir...|\n",
      "|     F|25-34|09023c5f-d98f-47f...|[www.pc.img-studi...|\n",
      "|     F|25-34|205ed1e2-1504-47c...|[ubr.ua, cm.g.dou...|\n",
      "|     F|25-34|3c295020-fe8e-483...|[go.mail.ru, andr...|\n",
      "|     F|25-34|4359c398-4a7b-4d4...|[join1.kluberudit...|\n",
      "|     F|25-34|492f6cb0-d878-4b9...|[www.moskva.fm, w...|\n",
      "|     F|25-34|4f6b1af9-a797-412...|[www.gismeteo.ru,...|\n",
      "|     F|25-34|4faec36e-a3b7-4fb...|[ksv.su, 2015godk...|\n",
      "|     F|25-34|57cc412a-b75b-485...|[www.enter.ru, ww...|\n",
      "|     F|25-34|5c001f97-2c9d-485...|     [pohudeyka.net]|\n",
      "|     F|25-34|71850253-e82b-46a...|[bloknot.ru, vk.com]|\n",
      "+------+-----+--------------------+--------------------+\n",
      "only showing top 20 rows\n",
      "\n"
     ]
    }
   ],
   "source": [
    "df.show()"
   ]
  },
  {
   "cell_type": "code",
   "execution_count": 107,
   "metadata": {},
   "outputs": [],
   "source": [
    "CV = CountVectorizer(inputCol=\"hosts\", outputCol=\"vector_hosts\")"
   ]
  },
  {
   "cell_type": "code",
   "execution_count": 108,
   "metadata": {},
   "outputs": [],
   "source": [
    "age_indexer = StringIndexer(inputCol=\"age\", outputCol=\"age_indexer\").fit(df)\n",
    "gender_indexer = StringIndexer(inputCol=\"gender\", outputCol=\"gender_indexer\").fit(df)\n",
    "age_reverse = IndexToString(inputCol=\"age_prediction\", outputCol=\"age_pred\", labels=age_indexer.labels)\n",
    "gender_reverse = IndexToString(inputCol=\"gender_prediction\", outputCol=\"gender_pred\", labels=gender_indexer.labels)"
   ]
  },
  {
   "cell_type": "code",
   "execution_count": 109,
   "metadata": {},
   "outputs": [],
   "source": [
    "logreg_age = LogisticRegression(featuresCol = 'vector_hosts', labelCol = 'age_indexer', probabilityCol = 'age_prob',\n",
    "                           predictionCol=\"age_prediction\", rawPredictionCol = 'age_prediction_raw',\n",
    "                               maxIter=10, regParam=0.3, elasticNetParam=0.8, family=\"multinomial\")\n",
    "logreg_gender = LogisticRegression(featuresCol = 'vector_hosts', labelCol = 'gender_indexer', probabilityCol = 'gender_prob',\n",
    "                           predictionCol=\"gender_prediction\", rawPredictionCol = 'gender_prediction_raw',\n",
    "                                  maxIter=10, regParam=0.3, elasticNetParam=0.8, family=\"multinomial\")"
   ]
  },
  {
   "cell_type": "code",
   "execution_count": 110,
   "metadata": {},
   "outputs": [],
   "source": [
    "pp = Pipeline(stages=[CV, age_indexer, gender_indexer, logreg_age, logreg_gender, \n",
    "                            age_reverse, gender_reverse])"
   ]
  },
  {
   "cell_type": "code",
   "execution_count": 111,
   "metadata": {},
   "outputs": [],
   "source": [
    "X_train, X_test = df.randomSplit([0.8, 0.2], seed=42)"
   ]
  },
  {
   "cell_type": "code",
   "execution_count": 112,
   "metadata": {},
   "outputs": [],
   "source": [
    "mdl = pp.fit(X_train)"
   ]
  },
  {
   "cell_type": "code",
   "execution_count": 113,
   "metadata": {},
   "outputs": [],
   "source": [
    "predictions = mdl.transform(X_test)"
   ]
  },
  {
   "cell_type": "code",
   "execution_count": 114,
   "metadata": {},
   "outputs": [
    {
     "name": "stdout",
     "output_type": "stream",
     "text": [
      "0.32029743872211514\n",
      "0.577251445882677\n"
     ]
    }
   ],
   "source": [
    "evaluator_age = MulticlassClassificationEvaluator(\n",
    "    labelCol=\"age_indexer\", predictionCol=\"age_prediction\", metricName=\"accuracy\").evaluate(predictions)\n",
    "evaluator_gender = MulticlassClassificationEvaluator(\n",
    "    labelCol=\"gender_indexer\", predictionCol=\"gender_prediction\", metricName=\"accuracy\").evaluate(predictions)\n",
    "\n",
    "print(accuracy_age)\n",
    "print(accuracy_gender)"
   ]
  },
  {
   "cell_type": "code",
   "execution_count": 103,
   "metadata": {},
   "outputs": [],
   "source": [
    "mdl.write().overwrite().save(\"/user/maxim.borchashvili/mdl_lab4\")"
   ]
  },
  {
   "cell_type": "code",
   "execution_count": 177,
   "metadata": {},
   "outputs": [],
   "source": [
    "read_kafka_params = {\n",
    "    \"kafka.bootstrap.servers\": 'spark-master-1.newprolab.com:6667',\n",
    "    \"subscribe\": \"input_maxim.borchashvili\",\n",
    "    \"startingOffsets\": \"earliest\",\n",
    "    \"failOnDataLoss\":\"False\"\n",
    "}\n",
    "kafka_sdf = spark.read.format(\"kafka\").options(**read_kafka_params).load()"
   ]
  },
  {
   "cell_type": "code",
   "execution_count": 178,
   "metadata": {
    "scrolled": false
   },
   "outputs": [
    {
     "name": "stdout",
     "output_type": "stream",
     "text": [
      "+----+--------------------+--------------------+---------+------+--------------------+-------------+\n",
      "| key|               value|               topic|partition|offset|           timestamp|timestampType|\n",
      "+----+--------------------+--------------------+---------+------+--------------------+-------------+\n",
      "|null|[7B 22 75 69 64 2...|input_maxim.borch...|        0|     0|2022-11-06 19:26:...|            0|\n",
      "|null|[7B 22 75 69 64 2...|input_maxim.borch...|        0|     1|2022-11-06 19:26:...|            0|\n",
      "|null|[7B 22 75 69 64 2...|input_maxim.borch...|        0|     2|2022-11-06 19:26:...|            0|\n",
      "|null|[7B 22 75 69 64 2...|input_maxim.borch...|        0|     3|2022-11-06 19:26:...|            0|\n",
      "|null|[7B 22 75 69 64 2...|input_maxim.borch...|        0|     4|2022-11-06 19:26:...|            0|\n",
      "|null|[7B 22 75 69 64 2...|input_maxim.borch...|        0|     5|2022-11-06 19:26:...|            0|\n",
      "|null|[7B 22 75 69 64 2...|input_maxim.borch...|        0|     6|2022-11-06 19:26:...|            0|\n",
      "|null|[7B 22 75 69 64 2...|input_maxim.borch...|        0|     7|2022-11-06 19:26:...|            0|\n",
      "|null|[7B 22 75 69 64 2...|input_maxim.borch...|        0|     8|2022-11-06 19:26:...|            0|\n",
      "|null|[7B 22 75 69 64 2...|input_maxim.borch...|        0|     9|2022-11-06 19:26:...|            0|\n",
      "|null|[7B 22 75 69 64 2...|input_maxim.borch...|        0|    10|2022-11-06 19:26:...|            0|\n",
      "|null|[7B 22 75 69 64 2...|input_maxim.borch...|        0|    11|2022-11-06 19:26:...|            0|\n",
      "|null|[7B 22 75 69 64 2...|input_maxim.borch...|        0|    12|2022-11-06 19:26:...|            0|\n",
      "|null|[7B 22 75 69 64 2...|input_maxim.borch...|        0|    13|2022-11-06 19:26:...|            0|\n",
      "|null|[7B 22 75 69 64 2...|input_maxim.borch...|        0|    14|2022-11-06 19:26:...|            0|\n",
      "|null|[7B 22 75 69 64 2...|input_maxim.borch...|        0|    15|2022-11-06 19:26:...|            0|\n",
      "|null|[7B 22 75 69 64 2...|input_maxim.borch...|        0|    16|2022-11-06 19:26:...|            0|\n",
      "|null|[7B 22 75 69 64 2...|input_maxim.borch...|        0|    17|2022-11-06 19:26:...|            0|\n",
      "|null|[7B 22 75 69 64 2...|input_maxim.borch...|        0|    18|2022-11-06 19:26:...|            0|\n",
      "|null|[7B 22 75 69 64 2...|input_maxim.borch...|        0|    19|2022-11-06 19:26:...|            0|\n",
      "+----+--------------------+--------------------+---------+------+--------------------+-------------+\n",
      "only showing top 20 rows\n",
      "\n"
     ]
    }
   ],
   "source": [
    "kafka_sdf.show()"
   ]
  },
  {
   "cell_type": "code",
   "execution_count": 179,
   "metadata": {},
   "outputs": [
    {
     "name": "stdout",
     "output_type": "stream",
     "text": [
      "+--------------------+--------------------+\n",
      "|                 uid|               hosts|\n",
      "+--------------------+--------------------+\n",
      "|0108d217-e476-493...|[kvartblog.ru, kv...|\n",
      "|0192cc54-559c-4c8...|[metanol.lv, meta...|\n",
      "|019acd5e-be9a-4cd...|[www.russianfood....|\n",
      "+--------------------+--------------------+\n",
      "only showing top 3 rows\n",
      "\n"
     ]
    }
   ],
   "source": [
    "kafka_sdf = kafka_sdf.select(f.from_json(f.col('value').cast('string'), \n",
    "                                                        t.StructType([\n",
    "                                                        t.StructField('uid', t.StringType(), True),\n",
    "                                                        t.StructField('visits', t.StringType(), True),]\n",
    "                                                        )).alias('event'))\n",
    "\n",
    "\n",
    "kafka_sdf = kafka_sdf.select('event.uid', f.from_json(f.col('event.visits'), \n",
    "                    t.ArrayType(t.StructType([t.StructField('url', t.StringType(), True),\n",
    "                                              t.StructField('timestamp', t.LongType(), True)])\n",
    "                                              )).alias('visits'))\n",
    "\n",
    "kafka_sdf = kafka_sdf.withColumn(\"visit\", f.explode(\"visits\")) \\\n",
    "    .withColumn(\"host\", f.expr(\"parse_url(visit.url, 'HOST')\")) \\\n",
    "    .drop(\"visits\", \"visit\") \\\n",
    "    .groupBy(\"uid\") \\\n",
    "    .agg(f.collect_list(\"host\").alias(\"hosts\"))\n",
    "\n",
    "kafka_sdf.show(3)"
   ]
  },
  {
   "cell_type": "code",
   "execution_count": 180,
   "metadata": {},
   "outputs": [],
   "source": [
    "preds = mdl.transform(kafka_sdf) \\\n",
    "    .select(\"uid\", \"age_pred\", \"gender_pred\") \\\n",
    "    .withColumnRenamed(\"age_pred\",\"age\") \\\n",
    "    .withColumnRenamed(\"gender_pred\",\"gender\")"
   ]
  },
  {
   "cell_type": "code",
   "execution_count": 181,
   "metadata": {},
   "outputs": [
    {
     "name": "stdout",
     "output_type": "stream",
     "text": [
      "+--------------------+-----+------+\n",
      "|                 uid|  age|gender|\n",
      "+--------------------+-----+------+\n",
      "|0108d217-e476-493...|25-34|     M|\n",
      "|0192cc54-559c-4c8...|25-34|     M|\n",
      "|019acd5e-be9a-4cd...|25-34|     M|\n",
      "+--------------------+-----+------+\n",
      "only showing top 3 rows\n",
      "\n"
     ]
    }
   ],
   "source": [
    "preds.show(3)"
   ]
  },
  {
   "cell_type": "code",
   "execution_count": 182,
   "metadata": {},
   "outputs": [
    {
     "data": {
      "text/plain": [
       "5000"
      ]
     },
     "execution_count": 182,
     "metadata": {},
     "output_type": "execute_result"
    }
   ],
   "source": [
    "preds.count()"
   ]
  },
  {
   "cell_type": "code",
   "execution_count": 183,
   "metadata": {},
   "outputs": [],
   "source": [
    "kafka_stream = (\n",
    "    spark\n",
    "    .readStream\n",
    "    .format('kafka')\n",
    "    .option('kafka.bootstrap.servers', 'spark-master-1.newprolab.com:6667')\n",
    "    .option('subscribe', \"maxim.borchashvili\")\n",
    "    .option('startingOffsets', 'earliest')\n",
    "    .option('failOnDataLoss', 'False')\n",
    "    .load()\n",
    ")"
   ]
  },
  {
   "cell_type": "code",
   "execution_count": 184,
   "metadata": {},
   "outputs": [],
   "source": [
    "preds = preds.select(f.to_json(f.struct(*preds.columns)).alias('value'))\n",
    "\n",
    "kafka_write_stream = (\n",
    "    preds\n",
    "    .write\n",
    "    .format(\"kafka\")\n",
    "    .option(\"checkpointLocation\", \"streaming/chk/chk_kafka\")\n",
    "    .option(\"kafka.bootstrap.servers\", 'spark-master-1.newprolab.com:6667')\n",
    "    .option(\"topic\", \"maxim.borchashvili\")\n",
    ")"
   ]
  },
  {
   "cell_type": "code",
   "execution_count": 185,
   "metadata": {},
   "outputs": [],
   "source": [
    "kafka_write_stream.save(\"/user/maxim.borchashvili/test\")"
   ]
  },
  {
   "cell_type": "code",
   "execution_count": null,
   "metadata": {},
   "outputs": [],
   "source": []
  }
 ],
 "metadata": {
  "kernelspec": {
   "display_name": "Python 3",
   "language": "python",
   "name": "python3"
  },
  "language_info": {
   "codemirror_mode": {
    "name": "ipython",
    "version": 3
   },
   "file_extension": ".py",
   "mimetype": "text/x-python",
   "name": "python",
   "nbconvert_exporter": "python",
   "pygments_lexer": "ipython3",
   "version": "3.6.5"
  }
 },
 "nbformat": 4,
 "nbformat_minor": 2
}
