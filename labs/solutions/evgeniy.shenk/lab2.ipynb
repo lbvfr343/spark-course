{
 "cells": [
  {
   "cell_type": "markdown",
   "metadata": {},
   "source": [
    "### Евгений Шенк\n",
    "\n",
    "## Лабораторная раота №2. Content-based рекомендации"
   ]
  },
  {
   "cell_type": "code",
   "execution_count": 1,
   "metadata": {},
   "outputs": [],
   "source": [
    "# Params\n",
    "courses_to_recommend = [\n",
    "    [23126, u'en', u'Compass - powerful SASS library that makes your life easier'], \n",
    "    [21617, u'en', u'Preparing for the AP* Computer Science A Exam \\u2014 Part 2'], \n",
    "    [16627, u'es', u'Aprende Excel: Nivel Intermedio by Alfonso Rinsche'], \n",
    "    [11556, u'es', u'Aprendizaje Colaborativo by UNID Universidad Interamericana para el Desarrollo'], \n",
    "    [16704, u'ru', u'\\u041f\\u0440\\u043e\\u0433\\u0440\\u0430\\u043c\\u043c\\u0438\\u0440\\u043e\\u0432\\u0430\\u043d\\u0438\\u0435 \\u043d\\u0430 Lazarus'], \n",
    "    [13702, u'ru', u'\\u041c\\u0430\\u0442\\u0435\\u043c\\u0430\\u0442\\u0438\\u0447\\u0435\\u0441\\u043a\\u0430\\u044f \\u044d\\u043a\\u043e\\u043d\\u043e\\u043c\\u0438\\u043a\\u0430']\n",
    "]"
   ]
  },
  {
   "cell_type": "code",
   "execution_count": 2,
   "metadata": {},
   "outputs": [
    {
     "name": "stdout",
     "output_type": "stream",
     "text": [
      "Welcome to\n",
      "      ____              __\n",
      "     / __/__  ___ _____/ /__\n",
      "    _\\ \\/ _ \\/ _ `/ __/  '_/\n",
      "   /__ / .__/\\_,_/_/ /_/\\_\\   version 2.4.7\n",
      "      /_/\n",
      "\n",
      "Using Python version 3.6.5 (default, Apr 29 2018 16:14:56)\n",
      "SparkSession available as 'spark'.\n"
     ]
    }
   ],
   "source": [
    "import json\n",
    "import os\n",
    "import sys\n",
    "import re\n",
    "os.environ[\"PYSPARK_PYTHON\"]='/opt/anaconda/envs/bd9/bin/python'\n",
    "os.environ[\"SPARK_HOME\"]='/usr/hdp/current/spark2-client'\n",
    "os.environ[\"PYSPARK_SUBMIT_ARGS\"]='--num-executors 2 pyspark-shell'\n",
    "\n",
    "spark_home = os.environ.get('SPARK_HOME', None)\n",
    "if not spark_home:\n",
    "    raise ValueError('SPARK_HOME environment variable is not set')\n",
    "\n",
    "sys.path.insert(0, os.path.join(spark_home, 'python'))\n",
    "sys.path.insert(0, os.path.join(spark_home, 'python/lib/py4j-0.10.7-src.zip'))\n",
    "exec(open(os.path.join(spark_home, 'python/pyspark/shell.py')).read())"
   ]
  },
  {
   "cell_type": "markdown",
   "metadata": {},
   "source": [
    "### Spark Session"
   ]
  },
  {
   "cell_type": "code",
   "execution_count": 3,
   "metadata": {},
   "outputs": [],
   "source": [
    "from pyspark import SparkConf\n",
    "from pyspark.sql import SparkSession\n",
    "from pyspark.sql import functions as F\n",
    "from pyspark.sql.types import *\n",
    "from pyspark import Row\n",
    "from pyspark.ml.feature import HashingTF, IDF, Normalizer, StopWordsRemover\n",
    "\n",
    "conf = SparkConf()\n",
    "\n",
    "spark = (SparkSession\n",
    "         .builder\n",
    "         .config(conf=conf)\n",
    "         .appName(\"ESShenk_spark_session\")\n",
    "         .getOrCreate())"
   ]
  },
  {
   "cell_type": "markdown",
   "metadata": {},
   "source": [
    "### Data"
   ]
  },
  {
   "cell_type": "code",
   "execution_count": 4,
   "metadata": {},
   "outputs": [
    {
     "name": "stdout",
     "output_type": "stream",
     "text": [
      "Found 1 items\r\n",
      "-rw-r--r--   3 hdfs hdfs   69519728 2022-01-06 18:46 /labs/slaba02/DO_record_per_line.json\r\n"
     ]
    }
   ],
   "source": [
    "!hdfs dfs -ls /labs/slaba02  # /DO_record_per_line.json"
   ]
  },
  {
   "cell_type": "code",
   "execution_count": 5,
   "metadata": {},
   "outputs": [],
   "source": [
    "# Загрузка\n",
    "dfSetOfCourses = spark.read.json(\"/labs/slaba02/DO_record_per_line.json\")"
   ]
  },
  {
   "cell_type": "code",
   "execution_count": 6,
   "metadata": {},
   "outputs": [
    {
     "name": "stdout",
     "output_type": "stream",
     "text": [
      "+--------------------+--------------------+---+----+--------------------+--------------+\n",
      "|                 cat|                desc| id|lang|                name|      provider|\n",
      "+--------------------+--------------------+---+----+--------------------+--------------+\n",
      "|3/business_manage...|This course intro...|  4|  en|Accounting Cycle:...|Canvas Network|\n",
      "|              11/law|This online cours...|  5|  en|American Counter ...|Canvas Network|\n",
      "|5/computer_scienc...|This course is ta...|  6|  fr|Arithmétique: en ...|Canvas Network|\n",
      "|  14/social_sciences|We live in a digi...|  7|  en|Becoming a Dynami...|Canvas Network|\n",
      "|2/biology_life_sc...|This self-paced c...|  8|  en|           Bioethics|Canvas Network|\n",
      "+--------------------+--------------------+---+----+--------------------+--------------+\n",
      "only showing top 5 rows\n",
      "\n"
     ]
    }
   ],
   "source": [
    "dfSetOfCourses.show(5)"
   ]
  },
  {
   "cell_type": "markdown",
   "metadata": {},
   "source": [
    "### Преобразования"
   ]
  },
  {
   "cell_type": "code",
   "execution_count": 7,
   "metadata": {},
   "outputs": [],
   "source": [
    "def get_words(string):\n",
    "    regex = re.compile(u'[\\w\\d]{2,}', re.U)\n",
    "    return regex.findall(string.lower())\n",
    "\n",
    "get_words_udf = F.udf(get_words, ArrayType(StringType()))"
   ]
  },
  {
   "cell_type": "code",
   "execution_count": 8,
   "metadata": {},
   "outputs": [
    {
     "name": "stdout",
     "output_type": "stream",
     "text": [
      "+--------------------+--------------------+---+----+--------------------+--------------+--------------------+\n",
      "|                 cat|                desc| id|lang|                name|      provider|               words|\n",
      "+--------------------+--------------------+---+----+--------------------+--------------+--------------------+\n",
      "|3/business_manage...|This course intro...|  4|  en|Accounting Cycle:...|Canvas Network|[this, course, in...|\n",
      "|              11/law|This online cours...|  5|  en|American Counter ...|Canvas Network|[this, online, co...|\n",
      "|5/computer_scienc...|This course is ta...|  6|  fr|Arithmétique: en ...|Canvas Network|[this, course, is...|\n",
      "+--------------------+--------------------+---+----+--------------------+--------------+--------------------+\n",
      "only showing top 3 rows\n",
      "\n"
     ]
    }
   ],
   "source": [
    "documents = dfSetOfCourses.select(\"cat\", \"desc\", \"id\", \"lang\", \"name\", \"provider\", get_words_udf(F.col(\"desc\")).alias(\"words\"))\n",
    "documents.show(3)"
   ]
  },
  {
   "cell_type": "markdown",
   "metadata": {},
   "source": [
    "#### TFIDF"
   ]
  },
  {
   "cell_type": "code",
   "execution_count": 9,
   "metadata": {},
   "outputs": [],
   "source": [
    "# Убираем стоп-слова из текста\n",
    "eng_stopwords = StopWordsRemover.loadDefaultStopWords(\"english\")\n",
    "rus_stopwords = StopWordsRemover.loadDefaultStopWords(\"russian\")\n",
    "spa_stopwords = StopWordsRemover.loadDefaultStopWords(\"spanish\")\n",
    "stopWords = eng_stopwords + rus_stopwords + spa_stopwords"
   ]
  },
  {
   "cell_type": "code",
   "execution_count": 10,
   "metadata": {},
   "outputs": [],
   "source": [
    "swRemover = StopWordsRemover(inputCol=\"words\", outputCol=\"pure_words\", stopWords=stopWords)"
   ]
  },
  {
   "cell_type": "code",
   "execution_count": 11,
   "metadata": {},
   "outputs": [],
   "source": [
    "pure_documents = swRemover.transform(documents)"
   ]
  },
  {
   "cell_type": "code",
   "execution_count": 12,
   "metadata": {},
   "outputs": [],
   "source": [
    "hashingTF = HashingTF(numFeatures=10000, inputCol=\"pure_words\", outputCol=\"tf\")"
   ]
  },
  {
   "cell_type": "code",
   "execution_count": 13,
   "metadata": {},
   "outputs": [],
   "source": [
    "tf = hashingTF.transform(pure_documents)"
   ]
  },
  {
   "cell_type": "code",
   "execution_count": 14,
   "metadata": {},
   "outputs": [],
   "source": [
    "idf = IDF(inputCol=\"tf\", outputCol=\"idf\").fit(tf)"
   ]
  },
  {
   "cell_type": "code",
   "execution_count": 15,
   "metadata": {},
   "outputs": [],
   "source": [
    "tfidf = idf.transform(tf)"
   ]
  },
  {
   "cell_type": "code",
   "execution_count": 16,
   "metadata": {},
   "outputs": [],
   "source": [
    "# tfidf.show(10, truncate=False, vertical=True)"
   ]
  },
  {
   "cell_type": "code",
   "execution_count": 17,
   "metadata": {},
   "outputs": [],
   "source": [
    "# tfidf.select(\"*\").filter(F.col(\"id\") == 23126).show(1, truncate=False, vertical=True)"
   ]
  },
  {
   "cell_type": "code",
   "execution_count": 19,
   "metadata": {},
   "outputs": [],
   "source": [
    "vector_23126 = tfidf.select(F.col(\"idf\")).filter(F.col(\"id\") == 23126).limit(1).collect()[0][0]\n",
    "vector_21617 = tfidf.select(F.col(\"idf\")).filter(F.col(\"id\") == 21617).limit(1).collect()[0][0]\n",
    "vector_16627 = tfidf.select(F.col(\"idf\")).filter(F.col(\"id\") == 16627).limit(1).collect()[0][0]\n",
    "vector_11556 = tfidf.select(F.col(\"idf\")).filter(F.col(\"id\") == 11556).limit(1).collect()[0][0]\n",
    "vector_16704 = tfidf.select(F.col(\"idf\")).filter(F.col(\"id\") == 16704).limit(1).collect()[0][0]\n",
    "vector_13702 = tfidf.select(F.col(\"idf\")).filter(F.col(\"id\") == 13702).limit(1).collect()[0][0]"
   ]
  },
  {
   "cell_type": "code",
   "execution_count": 18,
   "metadata": {},
   "outputs": [],
   "source": [
    "def cos_similarity(x, idx):\n",
    "    vectors_list = [vector_23126, vector_21617, vector_16627, vector_11556, vector_16704, vector_13702]\n",
    "    z = float(x.norm(2) * vectors_list[idx].norm(2))\n",
    "    if z == 0:\n",
    "        return 0.0\n",
    "    result = float(x.dot(vectors_list[idx]) / z)\n",
    "    return round(result, 3)\n",
    "\n",
    "cos_similarity_udf = F.udf(cos_similarity)"
   ]
  },
  {
   "cell_type": "code",
   "execution_count": 20,
   "metadata": {},
   "outputs": [],
   "source": [
    "dfWithSimilarities = tfidf.select(\"id\", \"lang\", \"name\", \"words\", \"tf\", \"idf\")\\\n",
    ".withColumn(\"cos_23126\", cos_similarity_udf(F.col(\"idf\"), F.lit(0)))\\\n",
    ".withColumn(\"cos_21617\", cos_similarity_udf(F.col(\"idf\"), F.lit(1)))\\\n",
    ".withColumn(\"cos_16627\", cos_similarity_udf(F.col(\"idf\"), F.lit(2)))\\\n",
    ".withColumn(\"cos_11556\", cos_similarity_udf(F.col(\"idf\"), F.lit(3)))\\\n",
    ".withColumn(\"cos_16704\", cos_similarity_udf(F.col(\"idf\"), F.lit(4)))\\\n",
    ".withColumn(\"cos_13702\", cos_similarity_udf(F.col(\"idf\"), F.lit(5)))"
   ]
  },
  {
   "cell_type": "code",
   "execution_count": 21,
   "metadata": {},
   "outputs": [],
   "source": [
    "# dfWithSimilarities.show(1, truncate=False, vertical=True)"
   ]
  },
  {
   "cell_type": "code",
   "execution_count": 22,
   "metadata": {},
   "outputs": [],
   "source": [
    "ids = [23126, 21617, 16627, 11556, 16704, 13702]"
   ]
  },
  {
   "cell_type": "code",
   "execution_count": 23,
   "metadata": {},
   "outputs": [
    {
     "data": {
      "text/plain": [
       "[[23126, 'en', 'Compass - powerful SASS library that makes your life easier'],\n",
       " [21617, 'en', 'Preparing for the AP* Computer Science A Exam — Part 2'],\n",
       " [16627, 'es', 'Aprende Excel: Nivel Intermedio by Alfonso Rinsche'],\n",
       " [11556,\n",
       "  'es',\n",
       "  'Aprendizaje Colaborativo by UNID Universidad Interamericana para el Desarrollo'],\n",
       " [16704, 'ru', 'Программирование на Lazarus'],\n",
       " [13702, 'ru', 'Математическая экономика']]"
      ]
     },
     "execution_count": 23,
     "metadata": {},
     "output_type": "execute_result"
    }
   ],
   "source": [
    "courses_to_recommend"
   ]
  },
  {
   "cell_type": "code",
   "execution_count": 24,
   "metadata": {},
   "outputs": [
    {
     "name": "stdout",
     "output_type": "stream",
     "text": [
      "-RECORD 0----------------------------------------------------------------------------\n",
      " id        | 23126                                                                   \n",
      " cos_23126 | 1.0                                                                     \n",
      " name      | Compass - powerful SASS library that makes your life easier             \n",
      "-RECORD 1----------------------------------------------------------------------------\n",
      " id        | 13665                                                                   \n",
      " cos_23126 | 0.622                                                                   \n",
      " name      | The Next Step with Sass and Compass by Lisa Catalano                    \n",
      "-RECORD 2----------------------------------------------------------------------------\n",
      " id        | 14760                                                                   \n",
      " cos_23126 | 0.598                                                                   \n",
      " name      | Foundation 4: Incorporating Sass and Compass                            \n",
      "-RECORD 3----------------------------------------------------------------------------\n",
      " id        | 13782                                                                   \n",
      " cos_23126 | 0.556                                                                   \n",
      " name      | Assembling Sass Part 2                                                  \n",
      "-RECORD 4----------------------------------------------------------------------------\n",
      " id        | 20638                                                                   \n",
      " cos_23126 | 0.455                                                                   \n",
      " name      | Introduction to Photo Compositing                                       \n",
      "-RECORD 5----------------------------------------------------------------------------\n",
      " id        | 24419                                                                   \n",
      " cos_23126 | 0.441                                                                   \n",
      " name      | Learn the 7 Mindsets to live your Ultimate Life                         \n",
      "-RECORD 6----------------------------------------------------------------------------\n",
      " id        | 15909                                                                   \n",
      " cos_23126 | 0.389                                                                   \n",
      " name      | Responsive CSS with Sass and Compass                                    \n",
      "-RECORD 7----------------------------------------------------------------------------\n",
      " id        | 2724                                                                    \n",
      " cos_23126 | 0.374                                                                   \n",
      " name      | Interactive and Non-Linear Narrative: Theory and Practice (Spring 2006) \n",
      "-RECORD 8----------------------------------------------------------------------------\n",
      " id        | 25782                                                                   \n",
      " cos_23126 | 0.32                                                                    \n",
      " name      | Write Clean CSS using SASS - Udemy                                      \n",
      "-RECORD 9----------------------------------------------------------------------------\n",
      " id        | 17499                                                                   \n",
      " cos_23126 | 0.297                                                                   \n",
      " name      | Learning Sass - Syntactically Awesome StyleSheets                       \n",
      "\n"
     ]
    }
   ],
   "source": [
    "dfWithSimilarities.select(\"id\", \"cos_23126\", \"name\")\\\n",
    ".filter(F.col(\"lang\") == courses_to_recommend[0][1])\\\n",
    ".orderBy(F.col(f\"id\").asc())\\\n",
    ".orderBy(F.col(f\"cos_23126\").desc())\\\n",
    ".limit(10)\\\n",
    ".show(10, truncate=False, vertical=True)"
   ]
  },
  {
   "cell_type": "code",
   "execution_count": 25,
   "metadata": {},
   "outputs": [],
   "source": [
    "results = {}\n",
    "for i, idx in enumerate(ids):\n",
    "    results[f\"{idx}\"] = dfWithSimilarities.select(\"id\")\\\n",
    "    .filter(F.col(\"lang\") == courses_to_recommend[i][1])\\\n",
    "    .orderBy(F.col(f\"id\").asc())\\\n",
    "    .orderBy(F.col(f\"cos_{idx}\").desc())\\\n",
    "    .limit(10)\\\n",
    "    .rdd.flatMap(lambda x: x).collect()"
   ]
  },
  {
   "cell_type": "code",
   "execution_count": 26,
   "metadata": {},
   "outputs": [
    {
     "data": {
      "text/plain": [
       "{'23126': [23126,\n",
       "  13665,\n",
       "  14760,\n",
       "  13782,\n",
       "  20638,\n",
       "  24419,\n",
       "  15909,\n",
       "  2724,\n",
       "  25782,\n",
       "  17499],\n",
       " '21617': [21609,\n",
       "  21617,\n",
       "  21616,\n",
       "  22298,\n",
       "  21608,\n",
       "  21628,\n",
       "  21630,\n",
       "  21081,\n",
       "  21623,\n",
       "  19417],\n",
       " '16627': [16627, 11431, 5687, 17964, 12660, 12247, 17961, 16694, 5558, 11575],\n",
       " '11556': [11556, 16488, 468, 19330, 10447, 23357, 21707, 22710, 13461, 10384],\n",
       " '16704': [16704, 1236, 1247, 1365, 1273, 1164, 8186, 20288, 1233, 8203],\n",
       " '13702': [864, 13702, 28074, 1041, 21079, 8300, 13057, 8313, 21025, 1033]}"
      ]
     },
     "execution_count": 26,
     "metadata": {},
     "output_type": "execute_result"
    }
   ],
   "source": [
    "results"
   ]
  },
  {
   "cell_type": "raw",
   "metadata": {},
   "source": [
    "{'23126': [23126, 13665, 14760, 13782, 20638, 24419, 15909, 2724, 25782, 17499],\n",
    " '21617': [21609, 21617, 21616, 22298, 21608, 21628, 21630, 21081, 21623, 19417],\n",
    " '16627': [16627, 11431, 5687, 17964, 12660, 12247, 17961, 16694, 5558, 11575],\n",
    " '11556': [11556, 16488, 468, 19330, 10447, 23357, 21707, 22710, 13461, 10384],\n",
    " '16704': [16704, 1236, 1247, 1365, 1273, 1164, 8186, 20288, 1233, 8203],\n",
    " '13702': [864, 13702, 28074, 1041, 21079, 8300, 13057, 8313, 21025, 1033]}"
   ]
  },
  {
   "cell_type": "markdown",
   "metadata": {},
   "source": [
    "### Сохранить и выйти"
   ]
  },
  {
   "cell_type": "code",
   "execution_count": 27,
   "metadata": {},
   "outputs": [],
   "source": [
    "with open (\"../lab02.json\", \"w\") as file:\n",
    "    json.dump(results, file)"
   ]
  },
  {
   "cell_type": "code",
   "execution_count": 28,
   "metadata": {},
   "outputs": [],
   "source": [
    "spark.stop()"
   ]
  },
  {
   "cell_type": "code",
   "execution_count": null,
   "metadata": {},
   "outputs": [],
   "source": []
  }
 ],
 "metadata": {
  "kernelspec": {
   "display_name": "Python 3",
   "language": "python",
   "name": "python3"
  },
  "language_info": {
   "codemirror_mode": {
    "name": "ipython",
    "version": 3
   },
   "file_extension": ".py",
   "mimetype": "text/x-python",
   "name": "python",
   "nbconvert_exporter": "python",
   "pygments_lexer": "ipython3",
   "version": "3.6.5"
  }
 },
 "nbformat": 4,
 "nbformat_minor": 2
}
