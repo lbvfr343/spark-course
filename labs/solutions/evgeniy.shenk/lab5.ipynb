{
 "cells": [
  {
   "cell_type": "markdown",
   "metadata": {},
   "source": [
    "### Евгений Шенк\n",
    "\n",
    "## Лабораторная раота №5. Спрогнозировать отток клиентов банка по историческим данным на языке Scala"
   ]
  },
  {
   "cell_type": "code",
   "execution_count": 1,
   "metadata": {},
   "outputs": [],
   "source": [
    "import sys.process._\n",
    "import scala.collection.mutable.ListBuffer\n",
    "import org.apache.spark.SparkConf\n",
    "import org.apache.spark.sql.SparkSession\n",
    "import org.apache.spark.sql.functions.col\n",
    "import org.apache.spark.sql.functions.lit\n",
    "import org.apache.spark.sql.functions.isnull\n",
    "import org.apache.spark.sql.functions.slice\n",
    "import org.apache.spark.sql.functions.udf\n",
    "import org.apache.spark.sql.functions.split\n",
    "import org.apache.spark.sql.functions.expr\n",
    "import org.apache.spark.ml.linalg.DenseVector\n",
    "import org.apache.spark.sql.types._\n",
    "import org.apache.spark.ml.tuning.CrossValidator\n",
    "import org.apache.spark.ml.tuning.ParamGridBuilder\n",
    "import org.apache.spark.ml.classification.GBTClassifier\n",
    "import org.apache.spark.ml.feature.VectorAssembler\n",
    "import org.apache.spark.ml.evaluation.BinaryClassificationEvaluator\n",
    "\n",
    "val conf = new SparkConf()\n",
    "\n",
    "val spark = SparkSession\n",
    "     .builder()\n",
    "     .config(conf)\n",
    "     .appName(\"ESShenk_spark_session\")\n",
    "     .getOrCreate()"
   ]
  },
  {
   "cell_type": "code",
   "execution_count": 2,
   "metadata": {},
   "outputs": [
    {
     "name": "stdout",
     "output_type": "stream",
     "text": [
      "Found 2 items\n",
      "-rw-r--r--   3 hdfs hdfs   24271415 2022-01-06 18:46 /labs/slaba05/lab05_test.csv\n",
      "-rw-r--r--   3 hdfs hdfs  176160768 2022-01-06 18:46 /labs/slaba05/lab05_train.csv\n"
     ]
    },
    {
     "data": {
      "text/plain": [
       "warning: there was one feature warning; re-run with -feature for details\n"
      ]
     },
     "metadata": {},
     "output_type": "display_data"
    },
    {
     "data": {
      "text/plain": [
       "0"
      ]
     },
     "execution_count": 2,
     "metadata": {},
     "output_type": "execute_result"
    }
   ],
   "source": [
    "\"hdfs dfs -ls /labs/slaba05/\"!"
   ]
  },
  {
   "cell_type": "code",
   "execution_count": 3,
   "metadata": {},
   "outputs": [
    {
     "data": {
      "text/plain": [
       "df_test = [_c0: int, ID: int ... 114 more fields]\n",
       "df_train = [_c0: int, ID: int ... 115 more fields]\n"
      ]
     },
     "metadata": {},
     "output_type": "display_data"
    },
    {
     "data": {
      "text/plain": [
       "[_c0: int, ID: int ... 115 more fields]"
      ]
     },
     "execution_count": 3,
     "metadata": {},
     "output_type": "execute_result"
    }
   ],
   "source": [
    "// val df_test = spark.read.csv(\"/labs/slaba05/lab05_test.csv\", inferSchema=true, header=true)\n",
    "// val df_train = spark.read.csv(\"/labs/slaba05/lab05_train.csv\", inferSchema=true, header=true)\n",
    "val df_test = spark.read.format(\"csv\").option(\"header\",\"true\").option(\"inferSchema\",\"true\").load(\"/labs/slaba05/lab05_test.csv\")\n",
    "val df_train = spark.read.format(\"csv\").option(\"header\",\"true\").option(\"inferSchema\",\"true\").load(\"/labs/slaba05/lab05_train.csv\")"
   ]
  },
  {
   "cell_type": "code",
   "execution_count": 4,
   "metadata": {},
   "outputs": [
    {
     "name": "stdout",
     "output_type": "stream",
     "text": [
      "-RECORD 0--------------------------------------------\n",
      " _c0                         | 333149                \n",
      " ID                          | 479990                \n",
      " CR_PROD_CNT_IL              | 0                     \n",
      " AMOUNT_RUB_CLO_PRC          | 0.0                   \n",
      " PRC_ACCEPTS_A_EMAIL_LINK    | 0.0                   \n",
      " APP_REGISTR_RGN_CODE        | null                  \n",
      " PRC_ACCEPTS_A_POS           | 0.0                   \n",
      " PRC_ACCEPTS_A_TK            | 0.0                   \n",
      " TURNOVER_DYNAMIC_IL_1M      | 0.0                   \n",
      " CNT_TRAN_AUT_TENDENCY1M     | null                  \n",
      " SUM_TRAN_AUT_TENDENCY1M     | null                  \n",
      " AMOUNT_RUB_SUP_PRC          | 0.0                   \n",
      " PRC_ACCEPTS_A_AMOBILE       | 0.0                   \n",
      " SUM_TRAN_AUT_TENDENCY3M     | null                  \n",
      " CLNT_TRUST_RELATION         | null                  \n",
      " PRC_ACCEPTS_TK              | 0.0                   \n",
      " PRC_ACCEPTS_A_MTP           | 0.0                   \n",
      " REST_DYNAMIC_FDEP_1M        | 0.0                   \n",
      " CNT_TRAN_AUT_TENDENCY3M     | null                  \n",
      " CNT_ACCEPTS_TK              | 0.0                   \n",
      " APP_MARITAL_STATUS          | null                  \n",
      " REST_DYNAMIC_SAVE_3M        | 0.0                   \n",
      " CR_PROD_CNT_VCU             | 0                     \n",
      " REST_AVG_CUR                | 19069.6917166667      \n",
      " CNT_TRAN_MED_TENDENCY1M     | null                  \n",
      " APP_KIND_OF_PROP_HABITATION | null                  \n",
      " CLNT_JOB_POSITION_TYPE      | null                  \n",
      " AMOUNT_RUB_NAS_PRC          | 0.0                   \n",
      " CLNT_JOB_POSITION           | null                  \n",
      " APP_DRIVING_LICENSE         | null                  \n",
      " TRANS_COUNT_SUP_PRC         | 0.0                   \n",
      " APP_EDUCATION               | null                  \n",
      " CNT_TRAN_CLO_TENDENCY1M     | null                  \n",
      " SUM_TRAN_MED_TENDENCY1M     | null                  \n",
      " PRC_ACCEPTS_A_ATM           | 0.0                   \n",
      " PRC_ACCEPTS_MTP             | 0.0                   \n",
      " TRANS_COUNT_NAS_PRC         | 0.0                   \n",
      " APP_TRAVEL_PASS             | null                  \n",
      " CNT_ACCEPTS_MTP             | 0.0                   \n",
      " CR_PROD_CNT_TOVR            | 1                     \n",
      " APP_CAR                     | null                  \n",
      " CR_PROD_CNT_PIL             | 0                     \n",
      " SUM_TRAN_CLO_TENDENCY1M     | null                  \n",
      " APP_POSITION_TYPE           | null                  \n",
      " TURNOVER_CC                 | 0.0                   \n",
      " TRANS_COUNT_ATM_PRC         | 0.981818181818182     \n",
      " AMOUNT_RUB_ATM_PRC          | 0.9264718189135429    \n",
      " TURNOVER_PAYM               | 0.0                   \n",
      " AGE                         | 324                   \n",
      " CNT_TRAN_MED_TENDENCY3M     | null                  \n",
      " CR_PROD_CNT_CC              | 0                     \n",
      " SUM_TRAN_MED_TENDENCY3M     | null                  \n",
      " REST_DYNAMIC_FDEP_3M        | 0.0                   \n",
      " REST_DYNAMIC_IL_1M          | 0.0                   \n",
      " APP_EMP_TYPE                | null                  \n",
      " SUM_TRAN_CLO_TENDENCY3M     | null                  \n",
      " LDEAL_TENOR_MAX             | null                  \n",
      " LDEAL_YQZ_CHRG              | null                  \n",
      " CR_PROD_CNT_CCFP            | 0                     \n",
      " DEAL_YQZ_IR_MAX             | null                  \n",
      " LDEAL_YQZ_COM               | null                  \n",
      " DEAL_YQZ_IR_MIN             | null                  \n",
      " CNT_TRAN_CLO_TENDENCY3M     | null                  \n",
      " REST_DYNAMIC_CUR_1M         | 0.139327197286461     \n",
      " REST_AVG_PAYM               | 0.0                   \n",
      " LDEAL_TENOR_MIN             | null                  \n",
      " LDEAL_AMT_MONTH             | null                  \n",
      " APP_COMP_TYPE               | null                  \n",
      " LDEAL_GRACE_DAYS_PCT_MED    | 0.0                   \n",
      " REST_DYNAMIC_CUR_3M         | 0.24404241658152398   \n",
      " CNT_TRAN_SUP_TENDENCY3M     | null                  \n",
      " TURNOVER_DYNAMIC_CUR_1M     | 0.14429972251526998   \n",
      " REST_DYNAMIC_PAYM_3M        | 0.0                   \n",
      " SUM_TRAN_SUP_TENDENCY3M     | null                  \n",
      " REST_DYNAMIC_IL_3M          | 0.0                   \n",
      " CNT_TRAN_ATM_TENDENCY3M     | 0.351851851851852     \n",
      " CNT_TRAN_ATM_TENDENCY1M     | 0.166666666666667     \n",
      " TURNOVER_DYNAMIC_IL_3M      | 0.0                   \n",
      " SUM_TRAN_ATM_TENDENCY3M     | 0.329320637235633     \n",
      " DEAL_GRACE_DAYS_ACC_S1X1    | 0.0                   \n",
      " AVG_PCT_MONTH_TO_PCLOSE     | null                  \n",
      " DEAL_YWZ_IR_MIN             | 45.0                  \n",
      " SUM_TRAN_SUP_TENDENCY1M     | null                  \n",
      " DEAL_YWZ_IR_MAX             | 45.0                  \n",
      " SUM_TRAN_ATM_TENDENCY1M     | 0.16790105289165602   \n",
      " REST_DYNAMIC_PAYM_1M        | 0.0                   \n",
      " CNT_TRAN_SUP_TENDENCY1M     | null                  \n",
      " DEAL_GRACE_DAYS_ACC_AVG     | 0.0                   \n",
      " TURNOVER_DYNAMIC_CUR_3M     | 0.30374965665416803   \n",
      " PACK                        | 102                   \n",
      " MAX_PCLOSE_DATE             | null                  \n",
      " LDEAL_YQZ_PC                | null                  \n",
      " CLNT_SETUP_TENOR            | 5.48000105784548      \n",
      " DEAL_GRACE_DAYS_ACC_MAX     | 0.0                   \n",
      " TURNOVER_DYNAMIC_PAYM_3M    | 0.0                   \n",
      " LDEAL_DELINQ_PER_MAXYQZ     | null                  \n",
      " TURNOVER_DYNAMIC_PAYM_1M    | 0.0                   \n",
      " CLNT_SALARY_VALUE           | null                  \n",
      " TRANS_AMOUNT_TENDENCY3M     | 0.305106289785464     \n",
      " MED_DEBT_PRC_YQZ            | null                  \n",
      " TRANS_CNT_TENDENCY3M        | 0.34545454545454496   \n",
      " LDEAL_USED_AMT_AVG_YQZ      | null                  \n",
      " REST_DYNAMIC_CC_1M          | 0.0                   \n",
      " LDEAL_USED_AMT_AVG_YWZ      | 1.0                   \n",
      " TURNOVER_DYNAMIC_CC_1M      | 0.0                   \n",
      " AVG_PCT_DEBT_TO_DEAL_AMT    | null                  \n",
      " LDEAL_ACT_DAYS_ACC_PCT_AVG  | 0.0035236081747709704 \n",
      " REST_DYNAMIC_CC_3M          | 0.0                   \n",
      " MED_DEBT_PRC_YWZ            | 0.0                   \n",
      " LDEAL_ACT_DAYS_PCT_TR3      | 0.0                   \n",
      " LDEAL_ACT_DAYS_PCT_AAVG     | 0.0                   \n",
      " LDEAL_DELINQ_PER_MAXYWZ     | 0.0                   \n",
      " TURNOVER_DYNAMIC_CC_3M      | 0.0                   \n",
      " LDEAL_ACT_DAYS_PCT_TR       | 0.0                   \n",
      " LDEAL_ACT_DAYS_PCT_TR4      | 0.0                   \n",
      " LDEAL_ACT_DAYS_PCT_CURR     | 0.0                   \n",
      " TARGET                      | 0                     \n",
      "only showing top 1 row\n",
      "\n"
     ]
    }
   ],
   "source": [
    "df_train.show(1, 150, true)"
   ]
  },
  {
   "cell_type": "code",
   "execution_count": 5,
   "metadata": {},
   "outputs": [
    {
     "name": "stdout",
     "output_type": "stream",
     "text": [
      "_c0: 0\n",
      "ID: 0\n",
      "CR_PROD_CNT_IL: 0\n",
      "AMOUNT_RUB_CLO_PRC: 34550\n",
      "PRC_ACCEPTS_A_EMAIL_LINK: 180814\n",
      "APP_REGISTR_RGN_CODE: 265914\n",
      "PRC_ACCEPTS_A_POS: 180814\n",
      "PRC_ACCEPTS_A_TK: 180814\n",
      "TURNOVER_DYNAMIC_IL_1M: 1\n",
      "CNT_TRAN_AUT_TENDENCY1M: 251229\n",
      "SUM_TRAN_AUT_TENDENCY1M: 251229\n",
      "AMOUNT_RUB_SUP_PRC: 34551\n",
      "PRC_ACCEPTS_A_AMOBILE: 180814\n",
      "SUM_TRAN_AUT_TENDENCY3M: 220560\n",
      "CLNT_TRUST_RELATION: 257829\n",
      "PRC_ACCEPTS_TK: 180814\n",
      "PRC_ACCEPTS_A_MTP: 180814\n",
      "REST_DYNAMIC_FDEP_1M: 1\n",
      "CNT_TRAN_AUT_TENDENCY3M: 220560\n",
      "CNT_ACCEPTS_TK: 180814\n",
      "APP_MARITAL_STATUS: 258989\n",
      "REST_DYNAMIC_SAVE_3M: 1\n",
      "CR_PROD_CNT_VCU: 1\n",
      "REST_AVG_CUR: 1\n",
      "CNT_TRAN_MED_TENDENCY1M: 258307\n",
      "APP_KIND_OF_PROP_HABITATION: 267042\n",
      "CLNT_JOB_POSITION_TYPE: 280242\n",
      "AMOUNT_RUB_NAS_PRC: 34551\n",
      "CLNT_JOB_POSITION: 130371\n",
      "APP_DRIVING_LICENSE: 268868\n",
      "TRANS_COUNT_SUP_PRC: 34551\n",
      "APP_EDUCATION: 259099\n",
      "CNT_TRAN_CLO_TENDENCY1M: 260941\n",
      "SUM_TRAN_MED_TENDENCY1M: 258307\n",
      "PRC_ACCEPTS_A_ATM: 180814\n",
      "PRC_ACCEPTS_MTP: 180814\n",
      "TRANS_COUNT_NAS_PRC: 34551\n",
      "APP_TRAVEL_PASS: 268868\n",
      "CNT_ACCEPTS_MTP: 180814\n",
      "CR_PROD_CNT_TOVR: 1\n",
      "APP_CAR: 268869\n",
      "CR_PROD_CNT_PIL: 1\n",
      "SUM_TRAN_CLO_TENDENCY1M: 260941\n",
      "APP_POSITION_TYPE: 265984\n",
      "TURNOVER_CC: 1\n",
      "TRANS_COUNT_ATM_PRC: 34551\n",
      "AMOUNT_RUB_ATM_PRC: 34551\n",
      "TURNOVER_PAYM: 1\n",
      "AGE: 1\n",
      "CNT_TRAN_MED_TENDENCY3M: 216119\n",
      "CR_PROD_CNT_CC: 1\n",
      "SUM_TRAN_MED_TENDENCY3M: 216119\n",
      "REST_DYNAMIC_FDEP_3M: 1\n",
      "REST_DYNAMIC_IL_1M: 1\n",
      "APP_EMP_TYPE: 259778\n",
      "SUM_TRAN_CLO_TENDENCY3M: 216989\n",
      "LDEAL_TENOR_MAX: 313405\n",
      "LDEAL_YQZ_CHRG: 319629\n",
      "CR_PROD_CNT_CCFP: 1\n",
      "DEAL_YQZ_IR_MAX: 313405\n",
      "LDEAL_YQZ_COM: 319635\n",
      "DEAL_YQZ_IR_MIN: 313405\n",
      "CNT_TRAN_CLO_TENDENCY3M: 216989\n",
      "REST_DYNAMIC_CUR_1M: 1\n",
      "REST_AVG_PAYM: 1\n",
      "LDEAL_TENOR_MIN: 313405\n",
      "LDEAL_AMT_MONTH: 319060\n",
      "APP_COMP_TYPE: 259778\n",
      "LDEAL_GRACE_DAYS_PCT_MED: 1\n",
      "REST_DYNAMIC_CUR_3M: 1\n",
      "CNT_TRAN_SUP_TENDENCY3M: 141235\n",
      "TURNOVER_DYNAMIC_CUR_1M: 1\n",
      "REST_DYNAMIC_PAYM_3M: 1\n",
      "SUM_TRAN_SUP_TENDENCY3M: 141235\n",
      "REST_DYNAMIC_IL_3M: 1\n",
      "CNT_TRAN_ATM_TENDENCY3M: 89923\n",
      "CNT_TRAN_ATM_TENDENCY1M: 134853\n",
      "TURNOVER_DYNAMIC_IL_3M: 1\n",
      "SUM_TRAN_ATM_TENDENCY3M: 89923\n",
      "DEAL_GRACE_DAYS_ACC_S1X1: 257149\n",
      "AVG_PCT_MONTH_TO_PCLOSE: 319296\n",
      "DEAL_YWZ_IR_MIN: 234276\n",
      "SUM_TRAN_SUP_TENDENCY1M: 179914\n",
      "DEAL_YWZ_IR_MAX: 234276\n",
      "SUM_TRAN_ATM_TENDENCY1M: 134853\n",
      "REST_DYNAMIC_PAYM_1M: 1\n",
      "CNT_TRAN_SUP_TENDENCY1M: 179914\n",
      "DEAL_GRACE_DAYS_ACC_AVG: 258071\n",
      "TURNOVER_DYNAMIC_CUR_3M: 1\n",
      "PACK: 1\n",
      "MAX_PCLOSE_DATE: 319065\n",
      "LDEAL_YQZ_PC: 318213\n",
      "CLNT_SETUP_TENOR: 1\n",
      "DEAL_GRACE_DAYS_ACC_MAX: 258071\n",
      "TURNOVER_DYNAMIC_PAYM_3M: 1\n",
      "LDEAL_DELINQ_PER_MAXYQZ: 313405\n",
      "TURNOVER_DYNAMIC_PAYM_1M: 1\n",
      "CLNT_SALARY_VALUE: 320112\n",
      "TRANS_AMOUNT_TENDENCY3M: 46860\n",
      "MED_DEBT_PRC_YQZ: 313405\n",
      "TRANS_CNT_TENDENCY3M: 46860\n",
      "LDEAL_USED_AMT_AVG_YQZ: 313405\n",
      "REST_DYNAMIC_CC_1M: 1\n",
      "LDEAL_USED_AMT_AVG_YWZ: 234276\n",
      "TURNOVER_DYNAMIC_CC_1M: 1\n",
      "AVG_PCT_DEBT_TO_DEAL_AMT: 319060\n",
      "LDEAL_ACT_DAYS_ACC_PCT_AVG: 236350\n",
      "REST_DYNAMIC_CC_3M: 1\n",
      "MED_DEBT_PRC_YWZ: 234276\n",
      "LDEAL_ACT_DAYS_PCT_TR3: 236350\n",
      "LDEAL_ACT_DAYS_PCT_AAVG: 232072\n",
      "LDEAL_DELINQ_PER_MAXYWZ: 234276\n",
      "TURNOVER_DYNAMIC_CC_3M: 1\n",
      "LDEAL_ACT_DAYS_PCT_TR: 236350\n",
      "LDEAL_ACT_DAYS_PCT_TR4: 236350\n",
      "LDEAL_ACT_DAYS_PCT_CURR: 236350\n",
      "TARGET: 1\n"
     ]
    },
    {
     "data": {
      "text/plain": [
       "NullfilteredCols = ListBuffer(_c0, ID, CR_PROD_CNT_IL, AMOUNT_RUB_CLO_PRC, PRC_ACCEPTS_A_EMAIL_LINK, PRC_ACCEPTS_A_POS, PRC_ACCEPTS_A_TK, TURNOVER_DYNAMIC_IL_1M, AMOUNT_RUB_SUP_PRC, PRC_ACCEPTS_A_AMOBILE, PRC_ACCEPTS_TK, PRC_ACCEPTS_A_MTP, REST_DYNAMIC_FDEP_1M, CNT_ACCEPTS_TK, REST_DYNAMIC_SAVE_3M, CR_PROD_CNT_VCU, REST_AVG_CUR, AMOUNT_RUB_NAS_PRC, CLNT_JOB_POSITION, TRANS_COUNT_SUP_PRC, PRC_ACCEPTS_A_ATM, PRC_ACCEPTS_MTP, TRANS_COUNT_NAS_PRC, CNT_ACCEPTS_MTP, CR_PROD_CNT_TOVR, CR_PROD_CNT_PIL, TURNOVER_CC, TRANS_COUNT_ATM_PRC, AMOUNT_RUB_ATM_PRC, TURNOVER_PAYM, AGE, CR_PROD_CNT_CC, REST_DYNAMIC_FDEP_3M, REST_DYNAMIC_IL_1M, CR_PROD_CNT_CCFP, REST_DYNAMIC_CUR_1M, REST_AVG_PAYM, LDEAL_GRACE_DAYS_PCT_MED, REST_DYNAMIC_CUR_3M, CNT_TRAN_SUP_TENDEN...\n"
      ]
     },
     "metadata": {},
     "output_type": "display_data"
    },
    {
     "data": {
      "text/plain": [
       "ListBuffer(_c0, ID, CR_PROD_CNT_IL, AMOUNT_RUB_CLO_PRC, PRC_ACCEPTS_A_EMAIL_LINK, PRC_ACCEPTS_A_POS, PRC_ACCEPTS_A_TK, TURNOVER_DYNAMIC_IL_1M, AMOUNT_RUB_SUP_PRC, PRC_ACCEPTS_A_AMOBILE, PRC_ACCEPTS_TK, PRC_ACCEPTS_A_MTP, REST_DYNAMIC_FDEP_1M, CNT_ACCEPTS_TK, REST_DYNAMIC_SAVE_3M, CR_PROD_CNT_VCU, REST_AVG_CUR, AMOUNT_RUB_NAS_PRC, CLNT_JOB_POSITION, TRANS_COUNT_SUP_PRC, PRC_ACCEPTS_A_ATM, PRC_ACCEPTS_MTP, TRANS_COUNT_NAS_PRC, CNT_ACCEPTS_MTP, CR_PROD_CNT_TOVR, CR_PROD_CNT_PIL, TURNOVER_CC, TRANS_COUNT_ATM_PRC, AMOUNT_RUB_ATM_PRC, TURNOVER_PAYM, AGE, CR_PROD_CNT_CC, REST_DYNAMIC_FDEP_3M, REST_DYNAMIC_IL_1M, CR_PROD_CNT_CCFP, REST_DYNAMIC_CUR_1M, REST_AVG_PAYM, LDEAL_GRACE_DAYS_PCT_MED, REST_DYNAMIC_CUR_3M, CNT_TRAN_SUP_TENDEN..."
      ]
     },
     "execution_count": 5,
     "metadata": {},
     "output_type": "execute_result"
    }
   ],
   "source": [
    "var NullfilteredCols = new ListBuffer[String]();\n",
    "for (column <- df_train.columns){\n",
    "    val nulls = df_train.select(column).filter(isnull(col(column))).count();\n",
    "    println(column + \": \" + nulls);\n",
    "    if (nulls < 200000){\n",
    "        if (column != \"TARGET\"){\n",
    "            NullfilteredCols += column;\n",
    "        }\n",
    "    }\n",
    "}"
   ]
  },
  {
   "cell_type": "code",
   "execution_count": 6,
   "metadata": {},
   "outputs": [
    {
     "data": {
      "text/plain": [
       "NullfilteredColsList = List(_c0, ID, CR_PROD_CNT_IL, AMOUNT_RUB_CLO_PRC, PRC_ACCEPTS_A_EMAIL_LINK, PRC_ACCEPTS_A_POS, PRC_ACCEPTS_A_TK, TURNOVER_DYNAMIC_IL_1M, AMOUNT_RUB_SUP_PRC, PRC_ACCEPTS_A_AMOBILE, PRC_ACCEPTS_TK, PRC_ACCEPTS_A_MTP, REST_DYNAMIC_FDEP_1M, CNT_ACCEPTS_TK, REST_DYNAMIC_SAVE_3M, CR_PROD_CNT_VCU, REST_AVG_CUR, AMOUNT_RUB_NAS_PRC, CLNT_JOB_POSITION, TRANS_COUNT_SUP_PRC, PRC_ACCEPTS_A_ATM, PRC_ACCEPTS_MTP, TRANS_COUNT_NAS_PRC, CNT_ACCEPTS_MTP, CR_PROD_CNT_TOVR, CR_PROD_CNT_PIL, TURNOVER_CC, TRANS_COUNT_ATM_PRC, AMOUNT_RUB_ATM_PRC, TURNOVER_PAYM, AGE, CR_PROD_CNT_CC, REST_DYNAMIC_FDEP_3M, REST_DYNAMIC_IL_1M, CR_PROD_CNT_CCFP, REST_DYNAMIC_CUR_1M, REST_AVG_PAYM, LDEAL_GRACE_DAYS_PCT_MED, REST_DYNAMIC_CUR_3M, CNT_TRAN_SUP_TENDENCY3M, TURNOVER_DYNAMIC_CUR_1M, RE...\n"
      ]
     },
     "metadata": {},
     "output_type": "display_data"
    },
    {
     "data": {
      "text/plain": [
       "List(_c0, ID, CR_PROD_CNT_IL, AMOUNT_RUB_CLO_PRC, PRC_ACCEPTS_A_EMAIL_LINK, PRC_ACCEPTS_A_POS, PRC_ACCEPTS_A_TK, TURNOVER_DYNAMIC_IL_1M, AMOUNT_RUB_SUP_PRC, PRC_ACCEPTS_A_AMOBILE, PRC_ACCEPTS_TK, PRC_ACCEPTS_A_MTP, REST_DYNAMIC_FDEP_1M, CNT_ACCEPTS_TK, REST_DYNAMIC_SAVE_3M, CR_PROD_CNT_VCU, REST_AVG_CUR, AMOUNT_RUB_NAS_PRC, CLNT_JOB_POSITION, TRANS_COUNT_SUP_PRC, PRC_ACCEPTS_A_ATM, PRC_ACCEPTS_MTP, TRANS_COUNT_NAS_PRC, CNT_ACCEPTS_MTP, CR_PROD_CNT_TOVR, CR_PROD_CNT_PIL, TURNOVER_CC, TRANS_COUNT_ATM_PRC, AMOUNT_RUB_ATM_PRC, TURNOVER_PAYM, AGE, CR_PROD_CNT_CC, REST_DYNAMIC_FDEP_3M, REST_DYNAMIC_IL_1M, CR_PROD_CNT_CCFP, REST_DYNAMIC_CUR_1M, REST_AVG_PAYM, LDEAL_GRACE_DAYS_PCT_MED, REST_DYNAMIC_CUR_3M, CNT_TRAN_SUP_TENDENCY3M, TURNOVER_DYNAMIC_CUR_1M, RE..."
      ]
     },
     "execution_count": 6,
     "metadata": {},
     "output_type": "execute_result"
    }
   ],
   "source": [
    "val NullfilteredColsList = NullfilteredCols.toList\n",
    "NullfilteredCols += \"TARGET\"\n",
    "val NullfilteredColsTargetList = NullfilteredCols.toList"
   ]
  },
  {
   "cell_type": "code",
   "execution_count": 7,
   "metadata": {},
   "outputs": [
    {
     "data": {
      "text/plain": [
       "df_train_pure = [_c0: int, ID: int ... 62 more fields]\n",
       "df_test_pure = [_c0: int, ID: int ... 61 more fields]\n"
      ]
     },
     "metadata": {},
     "output_type": "display_data"
    },
    {
     "data": {
      "text/plain": [
       "[_c0: int, ID: int ... 61 more fields]"
      ]
     },
     "execution_count": 7,
     "metadata": {},
     "output_type": "execute_result"
    }
   ],
   "source": [
    "val df_train_pure = df_train.select(NullfilteredColsTargetList.map(col): _*).filter(col(\"age\").isNotNull).na.fill(0)\n",
    "val df_test_pure = df_test.select(NullfilteredColsList.map(col): _*).na.fill(0)"
   ]
  },
  {
   "cell_type": "code",
   "execution_count": 8,
   "metadata": {},
   "outputs": [
    {
     "name": "stdout",
     "output_type": "stream",
     "text": [
      "-RECORD 0---------------------------------------\n",
      " _c0                      | 333149              \n",
      " ID                       | 479990              \n",
      " CR_PROD_CNT_IL           | 0                   \n",
      " AMOUNT_RUB_CLO_PRC       | 0.0                 \n",
      " PRC_ACCEPTS_A_EMAIL_LINK | 0.0                 \n",
      " PRC_ACCEPTS_A_POS        | 0.0                 \n",
      " PRC_ACCEPTS_A_TK         | 0.0                 \n",
      " TURNOVER_DYNAMIC_IL_1M   | 0.0                 \n",
      " AMOUNT_RUB_SUP_PRC       | 0.0                 \n",
      " PRC_ACCEPTS_A_AMOBILE    | 0.0                 \n",
      " PRC_ACCEPTS_TK           | 0.0                 \n",
      " PRC_ACCEPTS_A_MTP        | 0.0                 \n",
      " REST_DYNAMIC_FDEP_1M     | 0.0                 \n",
      " CNT_ACCEPTS_TK           | 0.0                 \n",
      " REST_DYNAMIC_SAVE_3M     | 0.0                 \n",
      " CR_PROD_CNT_VCU          | 0                   \n",
      " REST_AVG_CUR             | 19069.6917166667    \n",
      " AMOUNT_RUB_NAS_PRC       | 0.0                 \n",
      " CLNT_JOB_POSITION        | null                \n",
      " TRANS_COUNT_SUP_PRC      | 0.0                 \n",
      " PRC_ACCEPTS_A_ATM        | 0.0                 \n",
      " PRC_ACCEPTS_MTP          | 0.0                 \n",
      " TRANS_COUNT_NAS_PRC      | 0.0                 \n",
      " CNT_ACCEPTS_MTP          | 0.0                 \n",
      " CR_PROD_CNT_TOVR         | 1                   \n",
      " CR_PROD_CNT_PIL          | 0                   \n",
      " TURNOVER_CC              | 0.0                 \n",
      " TRANS_COUNT_ATM_PRC      | 0.981818181818182   \n",
      " AMOUNT_RUB_ATM_PRC       | 0.9264718189135429  \n",
      " TURNOVER_PAYM            | 0.0                 \n",
      " AGE                      | 324                 \n",
      " CR_PROD_CNT_CC           | 0                   \n",
      " REST_DYNAMIC_FDEP_3M     | 0.0                 \n",
      " REST_DYNAMIC_IL_1M       | 0.0                 \n",
      " CR_PROD_CNT_CCFP         | 0                   \n",
      " REST_DYNAMIC_CUR_1M      | 0.139327197286461   \n",
      " REST_AVG_PAYM            | 0.0                 \n",
      " LDEAL_GRACE_DAYS_PCT_MED | 0.0                 \n",
      " REST_DYNAMIC_CUR_3M      | 0.24404241658152398 \n",
      " CNT_TRAN_SUP_TENDENCY3M  | 0.0                 \n",
      " TURNOVER_DYNAMIC_CUR_1M  | 0.14429972251526998 \n",
      " REST_DYNAMIC_PAYM_3M     | 0.0                 \n",
      " SUM_TRAN_SUP_TENDENCY3M  | 0.0                 \n",
      " REST_DYNAMIC_IL_3M       | 0.0                 \n",
      " CNT_TRAN_ATM_TENDENCY3M  | 0.351851851851852   \n",
      " CNT_TRAN_ATM_TENDENCY1M  | 0.166666666666667   \n",
      " TURNOVER_DYNAMIC_IL_3M   | 0.0                 \n",
      " SUM_TRAN_ATM_TENDENCY3M  | 0.329320637235633   \n",
      " SUM_TRAN_SUP_TENDENCY1M  | 0.0                 \n",
      " SUM_TRAN_ATM_TENDENCY1M  | 0.16790105289165602 \n",
      " REST_DYNAMIC_PAYM_1M     | 0.0                 \n",
      " CNT_TRAN_SUP_TENDENCY1M  | 0.0                 \n",
      " TURNOVER_DYNAMIC_CUR_3M  | 0.30374965665416803 \n",
      " PACK                     | 102                 \n",
      " CLNT_SETUP_TENOR         | 5.48000105784548    \n",
      " TURNOVER_DYNAMIC_PAYM_3M | 0.0                 \n",
      " TURNOVER_DYNAMIC_PAYM_1M | 0.0                 \n",
      " TRANS_AMOUNT_TENDENCY3M  | 0.305106289785464   \n",
      " TRANS_CNT_TENDENCY3M     | 0.34545454545454496 \n",
      " REST_DYNAMIC_CC_1M       | 0.0                 \n",
      " TURNOVER_DYNAMIC_CC_1M   | 0.0                 \n",
      " REST_DYNAMIC_CC_3M       | 0.0                 \n",
      " TURNOVER_DYNAMIC_CC_3M   | 0.0                 \n",
      " TARGET                   | 0                   \n",
      "-RECORD 1---------------------------------------\n",
      " _c0                      | 303639              \n",
      " ID                       | 450480              \n",
      " CR_PROD_CNT_IL           | 0                   \n",
      " AMOUNT_RUB_CLO_PRC       | 0.0                 \n",
      " PRC_ACCEPTS_A_EMAIL_LINK | 0.0                 \n",
      " PRC_ACCEPTS_A_POS        | 0.0                 \n",
      " PRC_ACCEPTS_A_TK         | 0.0                 \n",
      " TURNOVER_DYNAMIC_IL_1M   | 0.0                 \n",
      " AMOUNT_RUB_SUP_PRC       | 0.0271675019481959  \n",
      " PRC_ACCEPTS_A_AMOBILE    | 0.0                 \n",
      " PRC_ACCEPTS_TK           | 0.0                 \n",
      " PRC_ACCEPTS_A_MTP        | 0.0                 \n",
      " REST_DYNAMIC_FDEP_1M     | 0.0                 \n",
      " CNT_ACCEPTS_TK           | 0.0                 \n",
      " REST_DYNAMIC_SAVE_3M     | 0.0                 \n",
      " CR_PROD_CNT_VCU          | 0                   \n",
      " REST_AVG_CUR             | 5951.20868333333    \n",
      " AMOUNT_RUB_NAS_PRC       | 0.0487455178496337  \n",
      " CLNT_JOB_POSITION        | офис-менеджер       \n",
      " TRANS_COUNT_SUP_PRC      | 0.0303030303030303  \n",
      " PRC_ACCEPTS_A_ATM        | 0.0                 \n",
      " PRC_ACCEPTS_MTP          | 0.0                 \n",
      " TRANS_COUNT_NAS_PRC      | 0.0303030303030303  \n",
      " CNT_ACCEPTS_MTP          | 0.0                 \n",
      " CR_PROD_CNT_TOVR         | 1                   \n",
      " CR_PROD_CNT_PIL          | 0                   \n",
      " TURNOVER_CC              | 0.0                 \n",
      " TRANS_COUNT_ATM_PRC      | 0.0909090909090909  \n",
      " AMOUNT_RUB_ATM_PRC       | 0.292473107097802   \n",
      " TURNOVER_PAYM            | 0.0                 \n",
      " AGE                      | 360                 \n",
      " CR_PROD_CNT_CC           | 0                   \n",
      " REST_DYNAMIC_FDEP_3M     | 0.0                 \n",
      " REST_DYNAMIC_IL_1M       | 0.0                 \n",
      " CR_PROD_CNT_CCFP         | 0                   \n",
      " REST_DYNAMIC_CUR_1M      | 0.163875925921502   \n",
      " REST_AVG_PAYM            | 0.0                 \n",
      " LDEAL_GRACE_DAYS_PCT_MED | 0.0                 \n",
      " REST_DYNAMIC_CUR_3M      | 0.4652443081723449  \n",
      " CNT_TRAN_SUP_TENDENCY3M  | 1.0                 \n",
      " TURNOVER_DYNAMIC_CUR_1M  | 0.203483595055288   \n",
      " REST_DYNAMIC_PAYM_3M     | 0.0                 \n",
      " SUM_TRAN_SUP_TENDENCY3M  | 1.0                 \n",
      " REST_DYNAMIC_IL_3M       | 0.0                 \n",
      " CNT_TRAN_ATM_TENDENCY3M  | 0.33333333333333304 \n",
      " CNT_TRAN_ATM_TENDENCY1M  | 0.33333333333333304 \n",
      " TURNOVER_DYNAMIC_IL_3M   | 0.0                 \n",
      " SUM_TRAN_ATM_TENDENCY3M  | 0.33333333333333304 \n",
      " SUM_TRAN_SUP_TENDENCY1M  | 0.0                 \n",
      " SUM_TRAN_ATM_TENDENCY1M  | 0.33333333333333304 \n",
      " REST_DYNAMIC_PAYM_1M     | 0.0                 \n",
      " CNT_TRAN_SUP_TENDENCY1M  | 0.0                 \n",
      " TURNOVER_DYNAMIC_CUR_3M  | 0.504160053455052   \n",
      " PACK                     | 102                 \n",
      " CLNT_SETUP_TENOR         | 6.78645267074871    \n",
      " TURNOVER_DYNAMIC_PAYM_3M | 0.0                 \n",
      " TURNOVER_DYNAMIC_PAYM_1M | 0.0                 \n",
      " TRANS_AMOUNT_TENDENCY3M  | 0.36879916391687795 \n",
      " TRANS_CNT_TENDENCY3M     | 0.45454545454545503 \n",
      " REST_DYNAMIC_CC_1M       | 0.0                 \n",
      " TURNOVER_DYNAMIC_CC_1M   | 0.0                 \n",
      " REST_DYNAMIC_CC_3M       | 0.0                 \n",
      " TURNOVER_DYNAMIC_CC_3M   | 0.0                 \n",
      " TARGET                   | 0                   \n",
      "-RECORD 2---------------------------------------\n",
      " _c0                      | 327113              \n",
      " ID                       | 473954              \n",
      " CR_PROD_CNT_IL           | 0                   \n",
      " AMOUNT_RUB_CLO_PRC       | 0.0                 \n",
      " PRC_ACCEPTS_A_EMAIL_LINK | 0.0                 \n",
      " PRC_ACCEPTS_A_POS        | 0.0                 \n",
      " PRC_ACCEPTS_A_TK         | 0.0                 \n",
      " TURNOVER_DYNAMIC_IL_1M   | 0.0                 \n",
      " AMOUNT_RUB_SUP_PRC       | 0.114950710864578   \n",
      " PRC_ACCEPTS_A_AMOBILE    | 0.0                 \n",
      " PRC_ACCEPTS_TK           | 0.0                 \n",
      " PRC_ACCEPTS_A_MTP        | 0.0                 \n",
      " REST_DYNAMIC_FDEP_1M     | 0.0                 \n",
      " CNT_ACCEPTS_TK           | 0.0                 \n",
      " REST_DYNAMIC_SAVE_3M     | 0.0                 \n",
      " CR_PROD_CNT_VCU          | 0                   \n",
      " REST_AVG_CUR             | 3774.5829333333295  \n",
      " AMOUNT_RUB_NAS_PRC       | 0.004519078328552   \n",
      " CLNT_JOB_POSITION        | консультант         \n",
      " TRANS_COUNT_SUP_PRC      | 0.36363636363636404 \n",
      " PRC_ACCEPTS_A_ATM        | 0.0                 \n",
      " PRC_ACCEPTS_MTP          | 0.0                 \n",
      " TRANS_COUNT_NAS_PRC      | 0.136363636363636   \n",
      " CNT_ACCEPTS_MTP          | 0.0                 \n",
      " CR_PROD_CNT_TOVR         | 1                   \n",
      " CR_PROD_CNT_PIL          | 0                   \n",
      " TURNOVER_CC              | 0.0                 \n",
      " TRANS_COUNT_ATM_PRC      | 0.136363636363636   \n",
      " AMOUNT_RUB_ATM_PRC       | 0.5332512427691359  \n",
      " TURNOVER_PAYM            | 0.0                 \n",
      " AGE                      | 600                 \n",
      " CR_PROD_CNT_CC           | 0                   \n",
      " REST_DYNAMIC_FDEP_3M     | 0.0                 \n",
      " REST_DYNAMIC_IL_1M       | 0.0                 \n",
      " CR_PROD_CNT_CCFP         | 0                   \n",
      " REST_DYNAMIC_CUR_1M      | 0.0738865162745398  \n",
      " REST_AVG_PAYM            | 0.0                 \n",
      " LDEAL_GRACE_DAYS_PCT_MED | 0.0                 \n",
      " REST_DYNAMIC_CUR_3M      | 0.49001828352109    \n",
      " CNT_TRAN_SUP_TENDENCY3M  | 0.375               \n",
      " TURNOVER_DYNAMIC_CUR_1M  | 0.0902562080725851  \n",
      " REST_DYNAMIC_PAYM_3M     | 0.0                 \n",
      " SUM_TRAN_SUP_TENDENCY3M  | 0.31734780687477504 \n",
      " REST_DYNAMIC_IL_3M       | 0.0                 \n",
      " CNT_TRAN_ATM_TENDENCY3M  | 0.0                 \n",
      " CNT_TRAN_ATM_TENDENCY1M  | 0.0                 \n",
      " TURNOVER_DYNAMIC_IL_3M   | 0.0                 \n",
      " SUM_TRAN_ATM_TENDENCY3M  | 0.0                 \n",
      " SUM_TRAN_SUP_TENDENCY1M  | 0.0                 \n",
      " SUM_TRAN_ATM_TENDENCY1M  | 0.0                 \n",
      " REST_DYNAMIC_PAYM_1M     | 0.0                 \n",
      " CNT_TRAN_SUP_TENDENCY1M  | 0.0                 \n",
      " TURNOVER_DYNAMIC_CUR_3M  | 0.351397609566599   \n",
      " PACK                     | 102                 \n",
      " CLNT_SETUP_TENOR         | 8.52838815461967    \n",
      " TURNOVER_DYNAMIC_PAYM_3M | 0.0                 \n",
      " TURNOVER_DYNAMIC_PAYM_1M | 0.0                 \n",
      " TRANS_AMOUNT_TENDENCY3M  | 0.35852153110350604 \n",
      " TRANS_CNT_TENDENCY3M     | 0.31818181818181795 \n",
      " REST_DYNAMIC_CC_1M       | 0.0                 \n",
      " TURNOVER_DYNAMIC_CC_1M   | 0.0                 \n",
      " REST_DYNAMIC_CC_3M       | 0.0                 \n",
      " TURNOVER_DYNAMIC_CC_3M   | 0.0                 \n",
      " TARGET                   | 0                   \n",
      "-RECORD 3---------------------------------------\n",
      " _c0                      | 384197              \n",
      " ID                       | 531038              \n",
      " CR_PROD_CNT_IL           | 0                   \n",
      " AMOUNT_RUB_CLO_PRC       | 0.0                 \n",
      " PRC_ACCEPTS_A_EMAIL_LINK | 0.0                 \n",
      " PRC_ACCEPTS_A_POS        | 0.0                 \n",
      " PRC_ACCEPTS_A_TK         | 0.0                 \n",
      " TURNOVER_DYNAMIC_IL_1M   | 0.0                 \n",
      " AMOUNT_RUB_SUP_PRC       | 0.0                 \n",
      " PRC_ACCEPTS_A_AMOBILE    | 0.0                 \n",
      " PRC_ACCEPTS_TK           | 0.0                 \n",
      " PRC_ACCEPTS_A_MTP        | 0.0                 \n",
      " REST_DYNAMIC_FDEP_1M     | 0.0                 \n",
      " CNT_ACCEPTS_TK           | 0.0                 \n",
      " REST_DYNAMIC_SAVE_3M     | 0.0                 \n",
      " CR_PROD_CNT_VCU          | 0                   \n",
      " REST_AVG_CUR             | 148568.26385        \n",
      " AMOUNT_RUB_NAS_PRC       | 0.0                 \n",
      " CLNT_JOB_POSITION        | null                \n",
      " TRANS_COUNT_SUP_PRC      | 0.0                 \n",
      " PRC_ACCEPTS_A_ATM        | 0.0                 \n",
      " PRC_ACCEPTS_MTP          | 0.0                 \n",
      " TRANS_COUNT_NAS_PRC      | 0.0                 \n",
      " CNT_ACCEPTS_MTP          | 0.0                 \n",
      " CR_PROD_CNT_TOVR         | 0                   \n",
      " CR_PROD_CNT_PIL          | 0                   \n",
      " TURNOVER_CC              | 0.0                 \n",
      " TRANS_COUNT_ATM_PRC      | 0.666666666666667   \n",
      " AMOUNT_RUB_ATM_PRC       | 0.7610350076103499  \n",
      " TURNOVER_PAYM            | 0.0                 \n",
      " AGE                      | 732                 \n",
      " CR_PROD_CNT_CC           | 0                   \n",
      " REST_DYNAMIC_FDEP_3M     | 0.0                 \n",
      " REST_DYNAMIC_IL_1M       | 0.0                 \n",
      " CR_PROD_CNT_CCFP         | 0                   \n",
      " REST_DYNAMIC_CUR_1M      | 0.16584691571956697 \n",
      " REST_AVG_PAYM            | 0.0                 \n",
      " LDEAL_GRACE_DAYS_PCT_MED | 0.0                 \n",
      " REST_DYNAMIC_CUR_3M      | 0.49754074715870095 \n",
      " CNT_TRAN_SUP_TENDENCY3M  | 0.0                 \n",
      " TURNOVER_DYNAMIC_CUR_1M  | 0.0                 \n",
      " REST_DYNAMIC_PAYM_3M     | 0.0                 \n",
      " SUM_TRAN_SUP_TENDENCY3M  | 0.0                 \n",
      " REST_DYNAMIC_IL_3M       | 0.0                 \n",
      " CNT_TRAN_ATM_TENDENCY3M  | 0.0                 \n",
      " CNT_TRAN_ATM_TENDENCY1M  | 0.0                 \n",
      " TURNOVER_DYNAMIC_IL_3M   | 0.0                 \n",
      " SUM_TRAN_ATM_TENDENCY3M  | 0.0                 \n",
      " SUM_TRAN_SUP_TENDENCY1M  | 0.0                 \n",
      " SUM_TRAN_ATM_TENDENCY1M  | 0.0                 \n",
      " REST_DYNAMIC_PAYM_1M     | 0.0                 \n",
      " CNT_TRAN_SUP_TENDENCY1M  | 0.0                 \n",
      " TURNOVER_DYNAMIC_CUR_3M  | 0.0                 \n",
      " PACK                     | K01                 \n",
      " CLNT_SETUP_TENOR         | 3.2918290148347302  \n",
      " TURNOVER_DYNAMIC_PAYM_3M | 0.0                 \n",
      " TURNOVER_DYNAMIC_PAYM_1M | 0.0                 \n",
      " TRANS_AMOUNT_TENDENCY3M  | 0.0                 \n",
      " TRANS_CNT_TENDENCY3M     | 0.0                 \n",
      " REST_DYNAMIC_CC_1M       | 0.0                 \n",
      " TURNOVER_DYNAMIC_CC_1M   | 0.0                 \n",
      " REST_DYNAMIC_CC_3M       | 0.0                 \n",
      " TURNOVER_DYNAMIC_CC_3M   | 0.0                 \n",
      " TARGET                   | 0                   \n",
      "-RECORD 4---------------------------------------\n",
      " _c0                      | 202462              \n",
      " ID                       | 349303              \n",
      " CR_PROD_CNT_IL           | 0                   \n",
      " AMOUNT_RUB_CLO_PRC       | 0.0                 \n",
      " PRC_ACCEPTS_A_EMAIL_LINK | 0.0                 \n",
      " PRC_ACCEPTS_A_POS        | 0.0                 \n",
      " PRC_ACCEPTS_A_TK         | 0.0                 \n",
      " TURNOVER_DYNAMIC_IL_1M   | 0.0                 \n",
      " AMOUNT_RUB_SUP_PRC       | 0.0115406434290436  \n",
      " PRC_ACCEPTS_A_AMOBILE    | 0.0                 \n",
      " PRC_ACCEPTS_TK           | 0.0                 \n",
      " PRC_ACCEPTS_A_MTP        | 0.0                 \n",
      " REST_DYNAMIC_FDEP_1M     | 0.0                 \n",
      " CNT_ACCEPTS_TK           | 0.0                 \n",
      " REST_DYNAMIC_SAVE_3M     | 0.0                 \n",
      " CR_PROD_CNT_VCU          | 0                   \n",
      " REST_AVG_CUR             | 69233.3887          \n",
      " AMOUNT_RUB_NAS_PRC       | 0.0                 \n",
      " CLNT_JOB_POSITION        | экономист           \n",
      " TRANS_COUNT_SUP_PRC      | 0.0833333333333333  \n",
      " PRC_ACCEPTS_A_ATM        | 0.0                 \n",
      " PRC_ACCEPTS_MTP          | 0.0                 \n",
      " TRANS_COUNT_NAS_PRC      | 0.0                 \n",
      " CNT_ACCEPTS_MTP          | 0.0                 \n",
      " CR_PROD_CNT_TOVR         | 0                   \n",
      " CR_PROD_CNT_PIL          | 0                   \n",
      " TURNOVER_CC              | 0.0                 \n",
      " TRANS_COUNT_ATM_PRC      | 0.25                \n",
      " AMOUNT_RUB_ATM_PRC       | 0.48660788158802704 \n",
      " TURNOVER_PAYM            | 0.0                 \n",
      " AGE                      | 480                 \n",
      " CR_PROD_CNT_CC           | 0                   \n",
      " REST_DYNAMIC_FDEP_3M     | 0.0                 \n",
      " REST_DYNAMIC_IL_1M       | 0.0                 \n",
      " CR_PROD_CNT_CCFP         | 0                   \n",
      " REST_DYNAMIC_CUR_1M      | 0.0556026989137781  \n",
      " REST_AVG_PAYM            | 0.0                 \n",
      " LDEAL_GRACE_DAYS_PCT_MED | 0.0                 \n",
      " REST_DYNAMIC_CUR_3M      | 0.247152582320443   \n",
      " CNT_TRAN_SUP_TENDENCY3M  | 0.0                 \n",
      " TURNOVER_DYNAMIC_CUR_1M  | 0.31627662462716    \n",
      " REST_DYNAMIC_PAYM_3M     | 0.0                 \n",
      " SUM_TRAN_SUP_TENDENCY3M  | 0.0                 \n",
      " REST_DYNAMIC_IL_3M       | 0.0                 \n",
      " CNT_TRAN_ATM_TENDENCY3M  | 0.666666666666667   \n",
      " CNT_TRAN_ATM_TENDENCY1M  | 0.666666666666667   \n",
      " TURNOVER_DYNAMIC_IL_3M   | 0.0                 \n",
      " SUM_TRAN_ATM_TENDENCY3M  | 0.416697215262786   \n",
      " SUM_TRAN_SUP_TENDENCY1M  | 0.0                 \n",
      " SUM_TRAN_ATM_TENDENCY1M  | 0.416697215262786   \n",
      " REST_DYNAMIC_PAYM_1M     | 0.0                 \n",
      " CNT_TRAN_SUP_TENDENCY1M  | 0.0                 \n",
      " TURNOVER_DYNAMIC_CUR_3M  | 0.735125270155536   \n",
      " PACK                     | K01                 \n",
      " CLNT_SETUP_TENOR         | 5.16021944071087    \n",
      " TURNOVER_DYNAMIC_PAYM_3M | 0.0                 \n",
      " TURNOVER_DYNAMIC_PAYM_1M | 0.0                 \n",
      " TRANS_AMOUNT_TENDENCY3M  | 0.688108064798467   \n",
      " TRANS_CNT_TENDENCY3M     | 0.75                \n",
      " REST_DYNAMIC_CC_1M       | 0.0                 \n",
      " TURNOVER_DYNAMIC_CC_1M   | 0.0                 \n",
      " REST_DYNAMIC_CC_3M       | 0.0                 \n",
      " TURNOVER_DYNAMIC_CC_3M   | 0.0                 \n",
      " TARGET                   | 0                   \n",
      "only showing top 5 rows\n",
      "\n"
     ]
    }
   ],
   "source": [
    "df_train_pure.show(5, 150, true)"
   ]
  },
  {
   "cell_type": "code",
   "execution_count": null,
   "metadata": {},
   "outputs": [],
   "source": []
  },
  {
   "cell_type": "markdown",
   "metadata": {},
   "source": [
    "### Model"
   ]
  },
  {
   "cell_type": "code",
   "execution_count": 9,
   "metadata": {},
   "outputs": [
    {
     "data": {
      "text/plain": [
       "ignore_cols = List(ID, TARGET, CLNT_JOB_POSITION, PACK, _c0)\n",
       "unwanted = Set(ID, _c0, PACK, TARGET, CLNT_JOB_POSITION)\n",
       "toModelCols = List(CR_PROD_CNT_IL, AMOUNT_RUB_CLO_PRC, PRC_ACCEPTS_A_EMAIL_LINK, PRC_ACCEPTS_A_POS, PRC_ACCEPTS_A_TK, TURNOVER_DYNAMIC_IL_1M, AMOUNT_RUB_SUP_PRC, PRC_ACCEPTS_A_AMOBILE, PRC_ACCEPTS_TK, PRC_ACCEPTS_A_MTP, REST_DYNAMIC_FDEP_1M, CNT_ACCEPTS_TK, REST_DYNAMIC_SAVE_3M, CR_PROD_CNT_VCU, REST_AVG_CUR, AMOUNT_RUB_NAS_PRC, TRANS_COUNT_SUP_PRC, PRC_ACCEPTS_A_ATM, PRC_ACCEPTS_MTP, TRANS_COUNT_NAS_PRC, CNT_ACCEPTS_MTP, CR_PROD_CNT_TOVR, CR_PROD_CNT_PIL, TURNOVER_CC, TRANS_COUNT_ATM_PRC, AMOUNT_RUB_ATM_PRC, TURNOVER_PAYM, AGE, CR_PROD_CNT_CC, REST_DYNAMIC_FDEP_3M, REST_DYNAMIC_IL_1M, CR_PROD_CNT_CCFP, ...\n"
      ]
     },
     "metadata": {},
     "output_type": "display_data"
    },
    {
     "data": {
      "text/plain": [
       "List(CR_PROD_CNT_IL, AMOUNT_RUB_CLO_PRC, PRC_ACCEPTS_A_EMAIL_LINK, PRC_ACCEPTS_A_POS, PRC_ACCEPTS_A_TK, TURNOVER_DYNAMIC_IL_1M, AMOUNT_RUB_SUP_PRC, PRC_ACCEPTS_A_AMOBILE, PRC_ACCEPTS_TK, PRC_ACCEPTS_A_MTP, REST_DYNAMIC_FDEP_1M, CNT_ACCEPTS_TK, REST_DYNAMIC_SAVE_3M, CR_PROD_CNT_VCU, REST_AVG_CUR, AMOUNT_RUB_NAS_PRC, TRANS_COUNT_SUP_PRC, PRC_ACCEPTS_A_ATM, PRC_ACCEPTS_MTP, TRANS_COUNT_NAS_PRC, CNT_ACCEPTS_MTP, CR_PROD_CNT_TOVR, CR_PROD_CNT_PIL, TURNOVER_CC, TRANS_COUNT_ATM_PRC, AMOUNT_RUB_ATM_PRC, TURNOVER_PAYM, AGE, CR_PROD_CNT_CC, REST_DYNAMIC_FDEP_3M, REST_DYNAMIC_IL_1M, CR_PROD_CNT_CCFP, ..."
      ]
     },
     "execution_count": 9,
     "metadata": {},
     "output_type": "execute_result"
    }
   ],
   "source": [
    "val ignore_cols = List[String](\"ID\", \"TARGET\", \"CLNT_JOB_POSITION\", \"PACK\", \"_c0\")\n",
    "val unwanted = ignore_cols.toSet\n",
    "val toModelCols = NullfilteredColsList.filterNot(unwanted)\n",
    "val assembler = new VectorAssembler().setInputCols(toModelCols.toArray).setOutputCol(\"features\")"
   ]
  },
  {
   "cell_type": "code",
   "execution_count": 10,
   "metadata": {},
   "outputs": [
    {
     "data": {
      "text/plain": [
       "train_data = [ID: int, TARGET: int ... 1 more field]\n",
       "test_data = [ID: int, features: vector]\n"
      ]
     },
     "metadata": {},
     "output_type": "display_data"
    },
    {
     "data": {
      "text/plain": [
       "44399"
      ]
     },
     "execution_count": 10,
     "metadata": {},
     "output_type": "execute_result"
    }
   ],
   "source": [
    "val train_data = assembler.transform(df_train_pure).select(\"ID\", \"TARGET\", \"features\").repartition(16).cache()\n",
    "val test_data = assembler.transform(df_test_pure).select(\"ID\", \"features\").repartition(16).cache()\n",
    "train_data.count()\n",
    "test_data.count()"
   ]
  },
  {
   "cell_type": "code",
   "execution_count": 11,
   "metadata": {},
   "outputs": [
    {
     "data": {
      "text/plain": [
       "gbt = gbtc_904fb1c6ae2c\n",
       "evaluator = binEval_c76dcaea6a2c\n",
       "paramGrid = \n"
      ]
     },
     "metadata": {},
     "output_type": "display_data"
    },
    {
     "data": {
      "text/plain": [
       "Array({\n",
       "})\n"
      ]
     },
     "metadata": {},
     "output_type": "display_data"
    }
   ],
   "source": [
    "val gbt = new GBTClassifier().setMaxIter(10).setMaxDepth(4).setSeed(27).setLabelCol(\"TARGET\")\n",
    "val evaluator = new BinaryClassificationEvaluator().setRawPredictionCol(\"probability\").setLabelCol(\"TARGET\").setMetricName(\"areaUnderROC\")\n",
    "val paramGrid = new ParamGridBuilder().build()"
   ]
  },
  {
   "cell_type": "code",
   "execution_count": 12,
   "metadata": {},
   "outputs": [
    {
     "data": {
      "text/plain": [
       "crossval = cv_ccf0a79ba022\n"
      ]
     },
     "metadata": {},
     "output_type": "display_data"
    },
    {
     "data": {
      "text/plain": [
       "cv_ccf0a79ba022"
      ]
     },
     "execution_count": 12,
     "metadata": {},
     "output_type": "execute_result"
    }
   ],
   "source": [
    "val crossval = new CrossValidator().setEstimator(gbt).setEstimatorParamMaps(paramGrid).setEvaluator(evaluator).setNumFolds(5).setParallelism(1)"
   ]
  },
  {
   "cell_type": "code",
   "execution_count": 13,
   "metadata": {},
   "outputs": [
    {
     "data": {
      "text/plain": [
       "model = cv_ccf0a79ba022\n"
      ]
     },
     "metadata": {},
     "output_type": "display_data"
    },
    {
     "data": {
      "text/plain": [
       "cv_ccf0a79ba022"
      ]
     },
     "execution_count": 13,
     "metadata": {},
     "output_type": "execute_result"
    }
   ],
   "source": [
    "val model = crossval.fit(train_data)"
   ]
  },
  {
   "cell_type": "code",
   "execution_count": 14,
   "metadata": {},
   "outputs": [
    {
     "data": {
      "text/plain": [
       "auc_roc = Array(0.803962634248532)\n"
      ]
     },
     "metadata": {},
     "output_type": "display_data"
    },
    {
     "data": {
      "text/plain": [
       "Array(0.803962634248532)"
      ]
     },
     "execution_count": 14,
     "metadata": {},
     "output_type": "execute_result"
    }
   ],
   "source": [
    "val auc_roc = model.avgMetrics\n",
    "auc_roc"
   ]
  },
  {
   "cell_type": "code",
   "execution_count": 15,
   "metadata": {},
   "outputs": [
    {
     "data": {
      "text/plain": [
       "preds = [ID: int, features: vector ... 3 more fields]\n"
      ]
     },
     "metadata": {},
     "output_type": "display_data"
    },
    {
     "data": {
      "text/plain": [
       "[ID: int, features: vector ... 3 more fields]"
      ]
     },
     "execution_count": 15,
     "metadata": {},
     "output_type": "execute_result"
    }
   ],
   "source": [
    "val preds = model.transform(test_data.select(\"ID\", \"features\"))"
   ]
  },
  {
   "cell_type": "code",
   "execution_count": 16,
   "metadata": {},
   "outputs": [
    {
     "data": {
      "text/plain": [
       "vectorToColumn = UserDefinedFunction(<function2>,DoubleType,Some(List(org.apache.spark.ml.linalg.VectorUDT@3bfc3ba7, IntegerType)))\n"
      ]
     },
     "metadata": {},
     "output_type": "display_data"
    },
    {
     "data": {
      "text/plain": [
       "UserDefinedFunction(<function2>,DoubleType,Some(List(org.apache.spark.ml.linalg.VectorUDT@3bfc3ba7, IntegerType)))"
      ]
     },
     "execution_count": 16,
     "metadata": {},
     "output_type": "execute_result"
    }
   ],
   "source": [
    "val vectorToColumn = udf{ (x:DenseVector, index: Int) => x(index) }"
   ]
  },
  {
   "cell_type": "code",
   "execution_count": 17,
   "metadata": {},
   "outputs": [
    {
     "data": {
      "text/plain": [
       "preds_to_save = [id: int, target: double]\n"
      ]
     },
     "metadata": {},
     "output_type": "display_data"
    },
    {
     "data": {
      "text/plain": [
       "[id: int, target: double]"
      ]
     },
     "execution_count": 17,
     "metadata": {},
     "output_type": "execute_result"
    }
   ],
   "source": [
    "val preds_to_save = preds.select(col(\"ID\").alias(\"id\"), vectorToColumn(col(\"probability\"), lit(1)).alias(\"target\"))"
   ]
  },
  {
   "cell_type": "code",
   "execution_count": 18,
   "metadata": {},
   "outputs": [
    {
     "name": "stdout",
     "output_type": "stream",
     "text": [
      "+------+-------------------+\n",
      "|    id|             target|\n",
      "+------+-------------------+\n",
      "|236860|0.15128360712441302|\n",
      "|164580|0.12139759588697352|\n",
      "|464747|0.15375332696253308|\n",
      "|389522|0.07125990768291113|\n",
      "|174610|0.18616327163597723|\n",
      "|582858|0.23594852021716295|\n",
      "|360126|0.07194197937079927|\n",
      "|535823|0.10321548276707526|\n",
      "|309363|0.11328393845015106|\n",
      "|327676|0.07125990768291113|\n",
      "|189201| 0.1944248491555688|\n",
      "|239273|0.13217943311623503|\n",
      "|148621| 0.1561183049323277|\n",
      "|357299|0.07125990768291113|\n",
      "|195814|0.07770775350867676|\n",
      "|404823|0.07340333620996564|\n",
      "|436574|0.07125990768291113|\n",
      "|392436| 0.3292734086313257|\n",
      "|511015|0.10756973461466812|\n",
      "|162798|  0.334462340545607|\n",
      "+------+-------------------+\n",
      "only showing top 20 rows\n",
      "\n"
     ]
    }
   ],
   "source": [
    "preds_to_save.show()"
   ]
  },
  {
   "cell_type": "markdown",
   "metadata": {},
   "source": [
    "### Сохранить и выйти"
   ]
  },
  {
   "cell_type": "code",
   "execution_count": 19,
   "metadata": {},
   "outputs": [],
   "source": [
    "preds_to_save.coalesce(1).write\n",
    "    .option(\"header\", \"true\")\n",
    "    .option(\"delimiter\",\"\\t\")\n",
    "    .mode(\"overwrite\")\n",
    "    .csv(\"lab05.csv\")"
   ]
  },
  {
   "cell_type": "code",
   "execution_count": 20,
   "metadata": {},
   "outputs": [],
   "source": [
    "spark.stop()"
   ]
  },
  {
   "cell_type": "code",
   "execution_count": null,
   "metadata": {},
   "outputs": [],
   "source": []
  }
 ],
 "metadata": {
  "kernelspec": {
   "display_name": "Apache Toree - Scala",
   "language": "scala",
   "name": "apache_toree_scala"
  },
  "language_info": {
   "codemirror_mode": "text/x-scala",
   "file_extension": ".scala",
   "mimetype": "text/x-scala",
   "name": "scala",
   "pygments_lexer": "scala",
   "version": "2.11.12"
  }
 },
 "nbformat": 4,
 "nbformat_minor": 2
}
