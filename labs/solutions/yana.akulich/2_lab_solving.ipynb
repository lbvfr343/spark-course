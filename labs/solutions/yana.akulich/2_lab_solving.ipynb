{
 "cells": [
  {
   "cell_type": "code",
   "execution_count": 1,
   "metadata": {},
   "outputs": [],
   "source": [
    "import pandas as pd"
   ]
  },
  {
   "cell_type": "code",
   "execution_count": 2,
   "metadata": {},
   "outputs": [
    {
     "name": "stdout",
     "output_type": "stream",
     "text": [
      "Welcome to\n",
      "      ____              __\n",
      "     / __/__  ___ _____/ /__\n",
      "    _\\ \\/ _ \\/ _ `/ __/  '_/\n",
      "   /__ / .__/\\_,_/_/ /_/\\_\\   version 2.4.7\n",
      "      /_/\n",
      "\n",
      "Using Python version 3.6.5 (default, Apr 29 2018 16:14:56)\n",
      "SparkSession available as 'spark'.\n"
     ]
    }
   ],
   "source": [
    "import os\n",
    "import sys\n",
    "os.environ[\"PYSPARK_PYTHON\"]='/opt/anaconda/envs/bd9/bin/python'\n",
    "os.environ[\"SPARK_HOME\"]='/usr/hdp/current/spark2-client'\n",
    "os.environ[\"PYSPARK_SUBMIT_ARGS\"]='--num-executors 2 pyspark-shell'\n",
    "\n",
    "spark_home = os.environ.get('SPARK_HOME', None)\n",
    "if not spark_home:\n",
    "    raise ValueError('SPARK_HOME environment variable is not set')\n",
    "\n",
    "sys.path.insert(0, os.path.join(spark_home, 'python'))\n",
    "sys.path.insert(0, os.path.join(spark_home, 'python/lib/py4j-0.10.7-src.zip'))\n",
    "exec(open(os.path.join(spark_home, 'python/pyspark/shell.py')).read())"
   ]
  },
  {
   "cell_type": "code",
   "execution_count": 3,
   "metadata": {},
   "outputs": [],
   "source": [
    "from pyspark import SparkConf\n",
    "from pyspark.sql import SparkSession\n",
    "from pyspark.sql import functions as F\n",
    "from pyspark.sql.types import *\n",
    "from pyspark import Row\n",
    "import json\n",
    "\n",
    "conf = SparkConf()\n",
    "\n",
    "spark = (SparkSession\n",
    "         .builder\n",
    "         .config(conf=conf)\n",
    "         .appName(\"second_lab\")\n",
    "         .getOrCreate())"
   ]
  },
  {
   "cell_type": "code",
   "execution_count": 4,
   "metadata": {},
   "outputs": [
    {
     "data": {
      "text/html": [
       "\n",
       "            <div>\n",
       "                <p><b>SparkSession - hive</b></p>\n",
       "                \n",
       "        <div>\n",
       "            <p><b>SparkContext</b></p>\n",
       "\n",
       "            <p><a href=\"http://spark-master-5.newprolab.com:4048\">Spark UI</a></p>\n",
       "\n",
       "            <dl>\n",
       "              <dt>Version</dt>\n",
       "                <dd><code>v2.4.7</code></dd>\n",
       "              <dt>Master</dt>\n",
       "                <dd><code>yarn</code></dd>\n",
       "              <dt>AppName</dt>\n",
       "                <dd><code>pyspark-shell</code></dd>\n",
       "            </dl>\n",
       "        </div>\n",
       "        \n",
       "            </div>\n",
       "        "
      ],
      "text/plain": [
       "<pyspark.sql.session.SparkSession at 0x7f24589bb780>"
      ]
     },
     "execution_count": 4,
     "metadata": {},
     "output_type": "execute_result"
    }
   ],
   "source": [
    "spark"
   ]
  },
  {
   "cell_type": "code",
   "execution_count": 19,
   "metadata": {},
   "outputs": [],
   "source": [
    "from pyspark.ml.feature import HashingTF, IDF, Tokenizer, RegexTokenizer\n",
    "from pyspark.sql import Window\n",
    "import pyspark.sql.functions as fun"
   ]
  },
  {
   "cell_type": "code",
   "execution_count": 6,
   "metadata": {},
   "outputs": [],
   "source": [
    "schema = StructType([\n",
    "    StructField(\"lang\", StringType()),\n",
    "    StructField(\"name\", StringType()),\n",
    "    StructField(\"cat\", StringType()),\n",
    "    StructField(\"provider\", StringType()),\n",
    "    StructField(\"id\", IntegerType()),\n",
    "    StructField(\"desc\", StringType())\n",
    "])"
   ]
  },
  {
   "cell_type": "code",
   "execution_count": 7,
   "metadata": {},
   "outputs": [],
   "source": [
    "df = spark.read.json(\"/labs/slaba02/DO_record_per_line.json\", schema=schema)"
   ]
  },
  {
   "cell_type": "code",
   "execution_count": 8,
   "metadata": {},
   "outputs": [
    {
     "name": "stdout",
     "output_type": "stream",
     "text": [
      "+----+--------------------+--------------------+--------------+---+--------------------+\n",
      "|lang|                name|                 cat|      provider| id|                desc|\n",
      "+----+--------------------+--------------------+--------------+---+--------------------+\n",
      "|  en|Accounting Cycle:...|3/business_manage...|Canvas Network|  4|This course intro...|\n",
      "|  en|American Counter ...|              11/law|Canvas Network|  5|This online cours...|\n",
      "|  fr|Arithmétique: en ...|5/computer_scienc...|Canvas Network|  6|This course is ta...|\n",
      "|  en|Becoming a Dynami...|  14/social_sciences|Canvas Network|  7|We live in a digi...|\n",
      "|  en|           Bioethics|2/biology_life_sc...|Canvas Network|  8|This self-paced c...|\n",
      "+----+--------------------+--------------------+--------------+---+--------------------+\n",
      "only showing top 5 rows\n",
      "\n"
     ]
    }
   ],
   "source": [
    "df.show(5)"
   ]
  },
  {
   "cell_type": "code",
   "execution_count": 9,
   "metadata": {},
   "outputs": [
    {
     "name": "stdout",
     "output_type": "stream",
     "text": [
      "+----+--------------------+--------------------+--------------+---+--------------------+--------------------+\n",
      "|lang|                name|                 cat|      provider| id|                desc|           split_txt|\n",
      "+----+--------------------+--------------------+--------------+---+--------------------+--------------------+\n",
      "|  en|Accounting Cycle:...|3/business_manage...|Canvas Network|  4|This course intro...|[this, course, in...|\n",
      "|  en|American Counter ...|              11/law|Canvas Network|  5|This online cours...|[this, online, co...|\n",
      "|  fr|Arithmétique: en ...|5/computer_scienc...|Canvas Network|  6|This course is ta...|[this, course, is...|\n",
      "|  en|Becoming a Dynami...|  14/social_sciences|Canvas Network|  7|We live in a digi...|[we, live, in, a,...|\n",
      "|  en|           Bioethics|2/biology_life_sc...|Canvas Network|  8|This self-paced c...|[this, self-paced...|\n",
      "+----+--------------------+--------------------+--------------+---+--------------------+--------------------+\n",
      "only showing top 5 rows\n",
      "\n"
     ]
    }
   ],
   "source": [
    "tokenizer = RegexTokenizer(inputCol='desc', outputCol='split_txt')\n",
    "split_df = tokenizer.transform(df)\n",
    "split_df.show(5)"
   ]
  },
  {
   "cell_type": "code",
   "execution_count": 10,
   "metadata": {},
   "outputs": [],
   "source": [
    "hashingTF = HashingTF(inputCol='split_txt', outputCol='rawFeatures', numFeatures=10000)\n",
    "hash_data = hashingTF.transform(split_df)"
   ]
  },
  {
   "cell_type": "code",
   "execution_count": 11,
   "metadata": {},
   "outputs": [
    {
     "name": "stdout",
     "output_type": "stream",
     "text": [
      "+--------------------+\n",
      "|         rawFeatures|\n",
      "+--------------------+\n",
      "|(10000,[36,42,63,...|\n",
      "|(10000,[32,222,29...|\n",
      "|(10000,[30,41,246...|\n",
      "|(10000,[493,572,7...|\n",
      "|(10000,[32,65,115...|\n",
      "+--------------------+\n",
      "only showing top 5 rows\n",
      "\n"
     ]
    }
   ],
   "source": [
    "hash_data[['rawFeatures']].show(5)"
   ]
  },
  {
   "cell_type": "code",
   "execution_count": 12,
   "metadata": {},
   "outputs": [],
   "source": [
    "idf = IDF(inputCol=\"rawFeatures\", outputCol=\"features\")\n",
    "idf_ = idf.fit(hash_data)\n",
    "transform_data = idf_.transform(hash_data)"
   ]
  },
  {
   "cell_type": "code",
   "execution_count": 13,
   "metadata": {},
   "outputs": [
    {
     "name": "stdout",
     "output_type": "stream",
     "text": [
      "+----+--------------------+--------------------+--------------+---+--------------------+--------------------+--------------------+--------------------+\n",
      "|lang|                name|                 cat|      provider| id|                desc|           split_txt|         rawFeatures|            features|\n",
      "+----+--------------------+--------------------+--------------+---+--------------------+--------------------+--------------------+--------------------+\n",
      "|  en|Accounting Cycle:...|3/business_manage...|Canvas Network|  4|This course intro...|[this, course, in...|(10000,[36,42,63,...|(10000,[36,42,63,...|\n",
      "|  en|American Counter ...|              11/law|Canvas Network|  5|This online cours...|[this, online, co...|(10000,[32,222,29...|(10000,[32,222,29...|\n",
      "|  fr|Arithmétique: en ...|5/computer_scienc...|Canvas Network|  6|This course is ta...|[this, course, is...|(10000,[30,41,246...|(10000,[30,41,246...|\n",
      "|  en|Becoming a Dynami...|  14/social_sciences|Canvas Network|  7|We live in a digi...|[we, live, in, a,...|(10000,[493,572,7...|(10000,[493,572,7...|\n",
      "|  en|           Bioethics|2/biology_life_sc...|Canvas Network|  8|This self-paced c...|[this, self-paced...|(10000,[32,65,115...|(10000,[32,65,115...|\n",
      "+----+--------------------+--------------------+--------------+---+--------------------+--------------------+--------------------+--------------------+\n",
      "only showing top 5 rows\n",
      "\n"
     ]
    }
   ],
   "source": [
    "transform_data.show(5)"
   ]
  },
  {
   "cell_type": "code",
   "execution_count": 15,
   "metadata": {},
   "outputs": [],
   "source": [
    "trans_df = transform_data.select('id', 'lang', 'features')"
   ]
  },
  {
   "cell_type": "code",
   "execution_count": 16,
   "metadata": {},
   "outputs": [
    {
     "data": {
      "text/plain": [
       "28153"
      ]
     },
     "execution_count": 16,
     "metadata": {},
     "output_type": "execute_result"
    }
   ],
   "source": [
    "trans_df.count()"
   ]
  },
  {
   "cell_type": "code",
   "execution_count": 17,
   "metadata": {},
   "outputs": [
    {
     "data": {
      "text/plain": [
       "[23126, 21617, 16627, 11556, 16704, 13702]"
      ]
     },
     "execution_count": 17,
     "metadata": {},
     "output_type": "execute_result"
    }
   ],
   "source": [
    "my_courses = [[23126, u'en', u'Compass - powerful SASS library that makes your life easier'], \n",
    "              [21617, u'en', u'Preparing for the AP* Computer Science A Exam \\u2014 Part 2'],\n",
    "              [16627, u'es', u'Aprende Excel: Nivel Intermedio by Alfonso Rinsche'], \n",
    "              [11556, u'es', u'Aprendizaje Colaborativo by UNID Universidad Interamericana para el Desarrollo'], \n",
    "              [16704, u'ru', u'\\u041f\\u0440\\u043e\\u0433\\u0440\\u0430\\u043c\\u043c\\u0438\\u0440\\u043e\\u0432\\u0430\\u043d\\u0438\\u0435 \\u043d\\u0430 Lazarus'],[13702, u'ru', u'\\u041c\\u0430\\u0442\\u0435\\u043c\\u0430\\u0442\\u0438\\u0447\\u0435\\u0441\\u043a\\u0430\\u044f \\u044d\\u043a\\u043e\\u043d\\u043e\\u043c\\u0438\\u043a\\u0430']]\n",
    "num_courses = [x[0] for x in my_courses]\n"
   ]
  },
  {
   "cell_type": "code",
   "execution_count": 20,
   "metadata": {},
   "outputs": [],
   "source": [
    "my_courses_pred = trans_df.filter(fun.col('id').isin(num_courses))"
   ]
  },
  {
   "cell_type": "code",
   "execution_count": 23,
   "metadata": {},
   "outputs": [],
   "source": [
    "my_courses_pred = trans_df.filter(\n",
    "    fun.col('id').isin(num_courses))"
   ]
  },
  {
   "cell_type": "code",
   "execution_count": 24,
   "metadata": {},
   "outputs": [],
   "source": [
    "pred_df = my_courses_pred.select(fun.col('id').alias('course_pred'),\n",
    "              fun.col('features').alias('course_pred_upd'),\n",
    "              'lang').join(trans_df, on='lang', how='left')"
   ]
  },
  {
   "cell_type": "code",
   "execution_count": 25,
   "metadata": {},
   "outputs": [
    {
     "data": {
      "text/plain": [
       "54316"
      ]
     },
     "execution_count": 25,
     "metadata": {},
     "output_type": "execute_result"
    }
   ],
   "source": [
    "pred_df.count()"
   ]
  },
  {
   "cell_type": "code",
   "execution_count": 26,
   "metadata": {},
   "outputs": [
    {
     "name": "stdout",
     "output_type": "stream",
     "text": [
      "+----+-----------+--------------------+---+--------------------+\n",
      "|lang|course_pred|     course_pred_upd| id|            features|\n",
      "+----+-----------+--------------------+---+--------------------+\n",
      "|  en|      21617|(10000,[213,360,4...|  4|(10000,[36,42,63,...|\n",
      "|  en|      21617|(10000,[213,360,4...|  5|(10000,[32,222,29...|\n",
      "|  en|      21617|(10000,[213,360,4...|  7|(10000,[493,572,7...|\n",
      "|  en|      21617|(10000,[213,360,4...|  8|(10000,[32,65,115...|\n",
      "|  en|      21617|(10000,[213,360,4...|  9|(10000,[56,91,268...|\n",
      "|  en|      21617|(10000,[213,360,4...| 10|(10000,[1045,1263...|\n",
      "|  en|      21617|(10000,[213,360,4...| 11|(10000,[87,157,57...|\n",
      "|  en|      21617|(10000,[213,360,4...| 12|(10000,[161,164,4...|\n",
      "|  en|      21617|(10000,[213,360,4...| 13|(10000,[26,1072,1...|\n",
      "|  en|      21617|(10000,[213,360,4...| 14|(10000,[63,145,23...|\n",
      "|  en|      21617|(10000,[213,360,4...| 15|(10000,[32,65,77,...|\n",
      "|  en|      21617|(10000,[213,360,4...| 16|(10000,[32,273,30...|\n",
      "|  en|      21617|(10000,[213,360,4...| 17|(10000,[695,1420,...|\n",
      "|  en|      21617|(10000,[213,360,4...| 18|(10000,[307,316,3...|\n",
      "|  en|      21617|(10000,[213,360,4...| 19|(10000,[572,768,8...|\n",
      "|  en|      21617|(10000,[213,360,4...| 20|(10000,[91,273,31...|\n",
      "|  en|      21617|(10000,[213,360,4...| 21|(10000,[148,157,1...|\n",
      "|  en|      21617|(10000,[213,360,4...| 22|(10000,[128,177,2...|\n",
      "|  en|      21617|(10000,[213,360,4...| 23|(10000,[91,332,52...|\n",
      "|  en|      21617|(10000,[213,360,4...| 24|(10000,[115,128,2...|\n",
      "+----+-----------+--------------------+---+--------------------+\n",
      "only showing top 20 rows\n",
      "\n"
     ]
    }
   ],
   "source": [
    "pred_df.show(20)"
   ]
  },
  {
   "cell_type": "code",
   "execution_count": 27,
   "metadata": {},
   "outputs": [],
   "source": [
    "@fun.udf(returnType=DoubleType())\n",
    "def cos_distance(v1,v2):\n",
    "    try:\n",
    "        p = 2\n",
    "        return float(v1.dot(v2))/float(v1.norm(p)*v2.norm(p))\n",
    "    except:\n",
    "        return 0"
   ]
  },
  {
   "cell_type": "code",
   "execution_count": 28,
   "metadata": {},
   "outputs": [],
   "source": [
    "pred_df_cos = pred_df.withColumn('cos_distance', cos_distance('course_pred_upd', 'features'))                           "
   ]
  },
  {
   "cell_type": "code",
   "execution_count": 29,
   "metadata": {},
   "outputs": [
    {
     "data": {
      "text/plain": [
       "[23126, 21617, 16627, 11556, 16704, 13702]"
      ]
     },
     "execution_count": 29,
     "metadata": {},
     "output_type": "execute_result"
    }
   ],
   "source": [
    "[23126, 21617, 16627, 11556, 16704, 13702]"
   ]
  },
  {
   "cell_type": "code",
   "execution_count": 30,
   "metadata": {},
   "outputs": [
    {
     "name": "stdout",
     "output_type": "stream",
     "text": [
      "+----+-----------+--------------------+---+--------------------+--------------------+\n",
      "|lang|course_pred|     course_pred_upd| id|            features|        cos_distance|\n",
      "+----+-----------+--------------------+---+--------------------+--------------------+\n",
      "|  en|      21617|(10000,[213,360,4...|  4|(10000,[36,42,63,...| 0.07806882371748854|\n",
      "|  en|      21617|(10000,[213,360,4...|  5|(10000,[32,222,29...| 0.04676028409292413|\n",
      "|  en|      21617|(10000,[213,360,4...|  7|(10000,[493,572,7...|0.036594215419073484|\n",
      "|  en|      21617|(10000,[213,360,4...|  8|(10000,[32,65,115...| 0.06916295420320383|\n",
      "|  en|      21617|(10000,[213,360,4...|  9|(10000,[56,91,268...| 0.11014821826251854|\n",
      "+----+-----------+--------------------+---+--------------------+--------------------+\n",
      "only showing top 5 rows\n",
      "\n"
     ]
    }
   ],
   "source": [
    "pred_df_cos.show(5)"
   ]
  },
  {
   "cell_type": "code",
   "execution_count": 31,
   "metadata": {},
   "outputs": [],
   "source": [
    "window = Window.partitionBy(pred_df_cos['course_pred']).orderBy(pred_df_cos['cos_distance'].desc())\n",
    "filt_values = pred_df_cos.select('*', fun.rank().over(window).alias('rank')).filter(fun.col('rank') <= 10) "
   ]
  },
  {
   "cell_type": "code",
   "execution_count": 32,
   "metadata": {},
   "outputs": [],
   "source": [
    "filt_values = filt_values.select('lang', 'course_pred', 'id', 'cos_distance')"
   ]
  },
  {
   "cell_type": "code",
   "execution_count": 33,
   "metadata": {},
   "outputs": [
    {
     "data": {
      "text/plain": [
       "(54316, 5)"
      ]
     },
     "execution_count": 33,
     "metadata": {},
     "output_type": "execute_result"
    }
   ],
   "source": [
    "print\n",
    "((pred_df.count(), \n",
    "len\n",
    "(pred_df.columns)))"
   ]
  },
  {
   "cell_type": "code",
   "execution_count": 34,
   "metadata": {},
   "outputs": [
    {
     "data": {
      "text/plain": [
       "(60, 4)"
      ]
     },
     "execution_count": 34,
     "metadata": {},
     "output_type": "execute_result"
    }
   ],
   "source": [
    "print\n",
    "((filt_values.count(), \n",
    "len\n",
    "(filt_values.columns)))"
   ]
  },
  {
   "cell_type": "code",
   "execution_count": 35,
   "metadata": {},
   "outputs": [],
   "source": [
    "filt_values = filt_values.toPandas()"
   ]
  },
  {
   "cell_type": "code",
   "execution_count": 36,
   "metadata": {},
   "outputs": [
    {
     "data": {
      "text/plain": [
       "60"
      ]
     },
     "execution_count": 36,
     "metadata": {},
     "output_type": "execute_result"
    }
   ],
   "source": [
    "len(filt_values)"
   ]
  },
  {
   "cell_type": "code",
   "execution_count": 37,
   "metadata": {},
   "outputs": [],
   "source": [
    "top_values = filt_values.groupby('course_pred')['id'].apply(list).reset_index()"
   ]
  },
  {
   "cell_type": "code",
   "execution_count": 38,
   "metadata": {},
   "outputs": [
    {
     "data": {
      "text/html": [
       "<div>\n",
       "<style scoped>\n",
       "    .dataframe tbody tr th:only-of-type {\n",
       "        vertical-align: middle;\n",
       "    }\n",
       "\n",
       "    .dataframe tbody tr th {\n",
       "        vertical-align: top;\n",
       "    }\n",
       "\n",
       "    .dataframe thead th {\n",
       "        text-align: right;\n",
       "    }\n",
       "</style>\n",
       "<table border=\"1\" class=\"dataframe\">\n",
       "  <thead>\n",
       "    <tr style=\"text-align: right;\">\n",
       "      <th></th>\n",
       "      <th>course_pred</th>\n",
       "      <th>id</th>\n",
       "    </tr>\n",
       "  </thead>\n",
       "  <tbody>\n",
       "    <tr>\n",
       "      <th>0</th>\n",
       "      <td>11556</td>\n",
       "      <td>[11556, 16488, 13461, 468, 10447, 387, 22710, ...</td>\n",
       "    </tr>\n",
       "    <tr>\n",
       "      <th>1</th>\n",
       "      <td>13702</td>\n",
       "      <td>[864, 13702, 1216, 7173, 8313, 1052, 17017, 19...</td>\n",
       "    </tr>\n",
       "    <tr>\n",
       "      <th>2</th>\n",
       "      <td>16627</td>\n",
       "      <td>[16627, 11431, 12247, 13021, 25010, 11575, 568...</td>\n",
       "    </tr>\n",
       "    <tr>\n",
       "      <th>3</th>\n",
       "      <td>16704</td>\n",
       "      <td>[16704, 1365, 20645, 20105, 1426, 8217, 1236, ...</td>\n",
       "    </tr>\n",
       "    <tr>\n",
       "      <th>4</th>\n",
       "      <td>21617</td>\n",
       "      <td>[21617, 21609, 21608, 21616, 21492, 21624, 216...</td>\n",
       "    </tr>\n",
       "    <tr>\n",
       "      <th>5</th>\n",
       "      <td>23126</td>\n",
       "      <td>[23126, 13782, 13665, 24419, 20638, 2724, 2578...</td>\n",
       "    </tr>\n",
       "  </tbody>\n",
       "</table>\n",
       "</div>"
      ],
      "text/plain": [
       "   course_pred                                                 id\n",
       "0        11556  [11556, 16488, 13461, 468, 10447, 387, 22710, ...\n",
       "1        13702  [864, 13702, 1216, 7173, 8313, 1052, 17017, 19...\n",
       "2        16627  [16627, 11431, 12247, 13021, 25010, 11575, 568...\n",
       "3        16704  [16704, 1365, 20645, 20105, 1426, 8217, 1236, ...\n",
       "4        21617  [21617, 21609, 21608, 21616, 21492, 21624, 216...\n",
       "5        23126  [23126, 13782, 13665, 24419, 20638, 2724, 2578..."
      ]
     },
     "execution_count": 38,
     "metadata": {},
     "output_type": "execute_result"
    }
   ],
   "source": [
    "top_values"
   ]
  },
  {
   "cell_type": "code",
   "execution_count": 39,
   "metadata": {},
   "outputs": [],
   "source": [
    "top_values_list_dict = dict(zip(top_values.course_pred,top_values.id))"
   ]
  },
  {
   "cell_type": "code",
   "execution_count": 40,
   "metadata": {
    "scrolled": true
   },
   "outputs": [
    {
     "data": {
      "text/plain": [
       "{11556: [11556, 16488, 13461, 468, 10447, 387, 22710, 9289, 5936, 23357],\n",
       " 13702: [864, 13702, 1216, 7173, 8313, 1052, 17017, 19613, 21017, 17015],\n",
       " 16627: [16627, 11431, 12247, 13021, 25010, 11575, 5687, 9598, 5372, 12863],\n",
       " 16704: [16704, 1365, 20645, 20105, 1426, 8217, 1236, 1164, 1219, 8123],\n",
       " 21617: [21617, 21609, 21608, 21616, 21492, 21624, 21623, 21630, 21628, 21508],\n",
       " 23126: [23126, 13782, 13665, 24419, 20638, 2724, 25782, 2633, 2723, 13348]}"
      ]
     },
     "execution_count": 40,
     "metadata": {},
     "output_type": "execute_result"
    }
   ],
   "source": [
    "top_values_list_dict"
   ]
  },
  {
   "cell_type": "code",
   "execution_count": 41,
   "metadata": {},
   "outputs": [],
   "source": [
    "with open(\"lab02.json\", \"w\") as outfile:\n",
    "    json.dump(top_values_list_dict, outfile)"
   ]
  }
 ],
 "metadata": {
  "kernelspec": {
   "display_name": "Python 3",
   "language": "python",
   "name": "python3"
  },
  "language_info": {
   "codemirror_mode": {
    "name": "ipython",
    "version": 3
   },
   "file_extension": ".py",
   "mimetype": "text/x-python",
   "name": "python",
   "nbconvert_exporter": "python",
   "pygments_lexer": "ipython3",
   "version": "3.6.5"
  }
 },
 "nbformat": 4,
 "nbformat_minor": 2
}
